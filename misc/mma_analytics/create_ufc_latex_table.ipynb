{
 "cells": [
  {
   "cell_type": "markdown",
   "metadata": {},
   "source": [
    "# Jonathan Halverson\n",
    "# Saturday, March 4, 2017\n",
    "# Write out the ufc.com data to a latex table"
   ]
  },
  {
   "cell_type": "code",
   "execution_count": 1,
   "metadata": {
    "collapsed": true
   },
   "outputs": [],
   "source": [
    "import numpy as np\n",
    "import pandas as pd"
   ]
  },
  {
   "cell_type": "code",
   "execution_count": 2,
   "metadata": {
    "collapsed": false
   },
   "outputs": [
    {
     "data": {
      "text/html": [
       "<div>\n",
       "<table border=\"1\" class=\"dataframe\">\n",
       "  <thead>\n",
       "    <tr style=\"text-align: right;\">\n",
       "      <th></th>\n",
       "      <th>Name</th>\n",
       "      <th>Nickname</th>\n",
       "      <th>Active</th>\n",
       "      <th>Record</th>\n",
       "      <th>Age</th>\n",
       "      <th>Height</th>\n",
       "      <th>Weight</th>\n",
       "      <th>Reach</th>\n",
       "      <th>LegReach</th>\n",
       "      <th>OutOf</th>\n",
       "      <th>From</th>\n",
       "      <th>College</th>\n",
       "      <th>Degree</th>\n",
       "      <th>Summary</th>\n",
       "    </tr>\n",
       "  </thead>\n",
       "  <tbody>\n",
       "    <tr>\n",
       "      <th>0</th>\n",
       "      <td>Danny Abbadi</td>\n",
       "      <td>The Assassin</td>\n",
       "      <td>0</td>\n",
       "      <td>NaN</td>\n",
       "      <td>33.0</td>\n",
       "      <td>71.0</td>\n",
       "      <td>185.0</td>\n",
       "      <td>NaN</td>\n",
       "      <td>NaN</td>\n",
       "      <td>NaN</td>\n",
       "      <td>Amman Jordan</td>\n",
       "      <td>NaN</td>\n",
       "      <td>NaN</td>\n",
       "      <td>Striking and kicks</td>\n",
       "    </tr>\n",
       "    <tr>\n",
       "      <th>1</th>\n",
       "      <td>Tank Abbott</td>\n",
       "      <td>Tank</td>\n",
       "      <td>0</td>\n",
       "      <td>NaN</td>\n",
       "      <td>51.0</td>\n",
       "      <td>72.0</td>\n",
       "      <td>250.0</td>\n",
       "      <td>NaN</td>\n",
       "      <td>NaN</td>\n",
       "      <td>NaN</td>\n",
       "      <td>Orange, California USA</td>\n",
       "      <td>NaN</td>\n",
       "      <td>NaN</td>\n",
       "      <td>Punching power, strength</td>\n",
       "    </tr>\n",
       "    <tr>\n",
       "      <th>2</th>\n",
       "      <td>Shamil Abdurakhimov</td>\n",
       "      <td>Abrek</td>\n",
       "      <td>1</td>\n",
       "      <td>17-4-0</td>\n",
       "      <td>35.0</td>\n",
       "      <td>75.0</td>\n",
       "      <td>235.0</td>\n",
       "      <td>76.0</td>\n",
       "      <td>41.0</td>\n",
       "      <td>Dagestan Russia</td>\n",
       "      <td>Dagestan Russia</td>\n",
       "      <td>NaN</td>\n",
       "      <td>NaN</td>\n",
       "      <td>Wrestling and boxing</td>\n",
       "    </tr>\n",
       "  </tbody>\n",
       "</table>\n",
       "</div>"
      ],
      "text/plain": [
       "                  Name      Nickname  Active  Record   Age  Height  Weight  \\\n",
       "0         Danny Abbadi  The Assassin       0     NaN  33.0    71.0   185.0   \n",
       "1          Tank Abbott          Tank       0     NaN  51.0    72.0   250.0   \n",
       "2  Shamil Abdurakhimov         Abrek       1  17-4-0  35.0    75.0   235.0   \n",
       "\n",
       "   Reach  LegReach            OutOf                    From College Degree  \\\n",
       "0    NaN       NaN              NaN            Amman Jordan     NaN    NaN   \n",
       "1    NaN       NaN              NaN  Orange, California USA     NaN    NaN   \n",
       "2   76.0      41.0  Dagestan Russia         Dagestan Russia     NaN    NaN   \n",
       "\n",
       "                    Summary  \n",
       "0        Striking and kicks  \n",
       "1  Punching power, strength  \n",
       "2      Wrestling and boxing  "
      ]
     },
     "execution_count": 2,
     "metadata": {},
     "output_type": "execute_result"
    }
   ],
   "source": [
    "df = pd.read_csv('data/ufc_dot_com_fighter_data_CLEAN_28Feb2017.csv', header=0)\n",
    "df.head(3)"
   ]
  },
  {
   "cell_type": "code",
   "execution_count": 3,
   "metadata": {
    "collapsed": false
   },
   "outputs": [
    {
     "name": "stdout",
     "output_type": "stream",
     "text": [
      "<class 'pandas.core.frame.DataFrame'>\n",
      "RangeIndex: 1897 entries, 0 to 1896\n",
      "Data columns (total 14 columns):\n",
      "Name        1897 non-null object\n",
      "Nickname    1048 non-null object\n",
      "Active      1897 non-null int64\n",
      "Record      533 non-null object\n",
      "Age         1509 non-null float64\n",
      "Height      1555 non-null float64\n",
      "Weight      1557 non-null float64\n",
      "Reach       870 non-null float64\n",
      "LegReach    565 non-null float64\n",
      "OutOf       1112 non-null object\n",
      "From        1709 non-null object\n",
      "College     173 non-null object\n",
      "Degree      157 non-null object\n",
      "Summary     1483 non-null object\n",
      "dtypes: float64(5), int64(1), object(8)\n",
      "memory usage: 207.6+ KB\n"
     ]
    }
   ],
   "source": [
    "df.info()"
   ]
  },
  {
   "cell_type": "code",
   "execution_count": 4,
   "metadata": {
    "collapsed": false
   },
   "outputs": [
    {
     "data": {
      "text/html": [
       "<div>\n",
       "<table border=\"1\" class=\"dataframe\">\n",
       "  <thead>\n",
       "    <tr style=\"text-align: right;\">\n",
       "      <th></th>\n",
       "      <th>Name</th>\n",
       "      <th>Record</th>\n",
       "      <th>Age</th>\n",
       "      <th>Weight</th>\n",
       "      <th>Height</th>\n",
       "      <th>Reach</th>\n",
       "      <th>LegReach</th>\n",
       "    </tr>\n",
       "  </thead>\n",
       "  <tbody>\n",
       "    <tr>\n",
       "      <th>0</th>\n",
       "      <td>Shamil Abdurakhimov</td>\n",
       "      <td>17-4-0</td>\n",
       "      <td>35.0</td>\n",
       "      <td>235.0</td>\n",
       "      <td>75.0</td>\n",
       "      <td>76.0</td>\n",
       "      <td>41.0</td>\n",
       "    </tr>\n",
       "    <tr>\n",
       "      <th>1</th>\n",
       "      <td>Ricardo Abreu</td>\n",
       "      <td>5-1-0</td>\n",
       "      <td>32.0</td>\n",
       "      <td>185.0</td>\n",
       "      <td>71.0</td>\n",
       "      <td>73.0</td>\n",
       "      <td>NaN</td>\n",
       "    </tr>\n",
       "    <tr>\n",
       "      <th>2</th>\n",
       "      <td>Jessica Aguilar</td>\n",
       "      <td>19-5-0</td>\n",
       "      <td>NaN</td>\n",
       "      <td>115.0</td>\n",
       "      <td>64.0</td>\n",
       "      <td>NaN</td>\n",
       "      <td>NaN</td>\n",
       "    </tr>\n",
       "  </tbody>\n",
       "</table>\n",
       "</div>"
      ],
      "text/plain": [
       "                  Name  Record   Age  Weight  Height  Reach  LegReach\n",
       "0  Shamil Abdurakhimov  17-4-0  35.0   235.0    75.0   76.0      41.0\n",
       "1        Ricardo Abreu   5-1-0  32.0   185.0    71.0   73.0       NaN\n",
       "2      Jessica Aguilar  19-5-0   NaN   115.0    64.0    NaN       NaN"
      ]
     },
     "execution_count": 4,
     "metadata": {},
     "output_type": "execute_result"
    }
   ],
   "source": [
    "df = df[df.Active == 1][['Name', 'Record', 'Age', 'Weight', 'Height', 'Reach', 'LegReach']].reset_index(drop=True)\n",
    "df.head(3)"
   ]
  },
  {
   "cell_type": "code",
   "execution_count": 5,
   "metadata": {
    "collapsed": false
   },
   "outputs": [
    {
     "data": {
      "text/html": [
       "<div>\n",
       "<table border=\"1\" class=\"dataframe\">\n",
       "  <thead>\n",
       "    <tr style=\"text-align: right;\">\n",
       "      <th></th>\n",
       "      <th>Name</th>\n",
       "      <th>Record</th>\n",
       "      <th>Age</th>\n",
       "      <th>Weight</th>\n",
       "      <th>Height</th>\n",
       "      <th>Reach</th>\n",
       "      <th>LegReach</th>\n",
       "    </tr>\n",
       "  </thead>\n",
       "  <tbody>\n",
       "    <tr>\n",
       "      <th>0</th>\n",
       "      <td>Cat Zingano</td>\n",
       "      <td>9-2-0</td>\n",
       "      <td>34.0</td>\n",
       "      <td>135.0</td>\n",
       "      <td>66.0</td>\n",
       "      <td>68.0</td>\n",
       "      <td>38.0</td>\n",
       "    </tr>\n",
       "    <tr>\n",
       "      <th>1</th>\n",
       "      <td>Tiequan Zhang</td>\n",
       "      <td>18-4-0</td>\n",
       "      <td>38.0</td>\n",
       "      <td>155.0</td>\n",
       "      <td>68.0</td>\n",
       "      <td>NaN</td>\n",
       "      <td>NaN</td>\n",
       "    </tr>\n",
       "    <tr>\n",
       "      <th>2</th>\n",
       "      <td>Elizeu Zaleski dos Santos</td>\n",
       "      <td>16-5-0</td>\n",
       "      <td>30.0</td>\n",
       "      <td>170.0</td>\n",
       "      <td>71.0</td>\n",
       "      <td>73.0</td>\n",
       "      <td>41.0</td>\n",
       "    </tr>\n",
       "  </tbody>\n",
       "</table>\n",
       "</div>"
      ],
      "text/plain": [
       "                        Name  Record   Age  Weight  Height  Reach  LegReach\n",
       "0                Cat Zingano   9-2-0  34.0   135.0    66.0   68.0      38.0\n",
       "1              Tiequan Zhang  18-4-0  38.0   155.0    68.0    NaN       NaN\n",
       "2  Elizeu Zaleski dos Santos  16-5-0  30.0   170.0    71.0   73.0      41.0"
      ]
     },
     "execution_count": 5,
     "metadata": {},
     "output_type": "execute_result"
    }
   ],
   "source": [
    "rev = df.sort_index(ascending=False).reset_index(drop=True)\n",
    "rev.head(3)"
   ]
  },
  {
   "cell_type": "markdown",
   "metadata": {},
   "source": [
    "### Note that Series.replace considers the entire content of the cell in determing if there is a match. While Series.str.replace take a regex expression."
   ]
  },
  {
   "cell_type": "code",
   "execution_count": 6,
   "metadata": {
    "collapsed": false
   },
   "outputs": [
    {
     "data": {
      "text/html": [
       "<div>\n",
       "<table border=\"1\" class=\"dataframe\">\n",
       "  <thead>\n",
       "    <tr style=\"text-align: right;\">\n",
       "      <th></th>\n",
       "      <th>Name</th>\n",
       "      <th>Record</th>\n",
       "      <th>Age</th>\n",
       "      <th>Wt.</th>\n",
       "      <th>Ht.</th>\n",
       "      <th>Rh.</th>\n",
       "      <th>Lg.</th>\n",
       "      <th>Name</th>\n",
       "      <th>Record</th>\n",
       "      <th>Age</th>\n",
       "      <th>Wt.</th>\n",
       "      <th>Ht.</th>\n",
       "      <th>Rh.</th>\n",
       "      <th>Lg.</th>\n",
       "    </tr>\n",
       "  </thead>\n",
       "  <tbody>\n",
       "    <tr>\n",
       "      <th>0</th>\n",
       "      <td>Shamil Abdurakhimov</td>\n",
       "      <td>17--4--0</td>\n",
       "      <td>35</td>\n",
       "      <td>235</td>\n",
       "      <td>75</td>\n",
       "      <td>76</td>\n",
       "      <td>41</td>\n",
       "      <td>Cat Zingano</td>\n",
       "      <td>9--2--0</td>\n",
       "      <td>34</td>\n",
       "      <td>135</td>\n",
       "      <td>66</td>\n",
       "      <td>68</td>\n",
       "      <td>38</td>\n",
       "    </tr>\n",
       "    <tr>\n",
       "      <th>1</th>\n",
       "      <td>Ricardo Abreu</td>\n",
       "      <td>5--1--0</td>\n",
       "      <td>32</td>\n",
       "      <td>185</td>\n",
       "      <td>71</td>\n",
       "      <td>73</td>\n",
       "      <td>0</td>\n",
       "      <td>Tiequan Zhang</td>\n",
       "      <td>18--4--0</td>\n",
       "      <td>38</td>\n",
       "      <td>155</td>\n",
       "      <td>68</td>\n",
       "      <td>0</td>\n",
       "      <td>0</td>\n",
       "    </tr>\n",
       "    <tr>\n",
       "      <th>2</th>\n",
       "      <td>Jessica Aguilar</td>\n",
       "      <td>19--5--0</td>\n",
       "      <td>0</td>\n",
       "      <td>115</td>\n",
       "      <td>64</td>\n",
       "      <td>0</td>\n",
       "      <td>0</td>\n",
       "      <td>Elizeu Zaleski dos Santos</td>\n",
       "      <td>16--5--0</td>\n",
       "      <td>30</td>\n",
       "      <td>170</td>\n",
       "      <td>71</td>\n",
       "      <td>73</td>\n",
       "      <td>41</td>\n",
       "    </tr>\n",
       "  </tbody>\n",
       "</table>\n",
       "</div>"
      ],
      "text/plain": [
       "                  Name    Record  Age  Wt.  Ht.  Rh.  Lg.  \\\n",
       "0  Shamil Abdurakhimov  17--4--0   35  235   75   76   41   \n",
       "1        Ricardo Abreu   5--1--0   32  185   71   73    0   \n",
       "2      Jessica Aguilar  19--5--0    0  115   64    0    0   \n",
       "\n",
       "                        Name    Record  Age  Wt.  Ht.  Rh.  Lg.  \n",
       "0                Cat Zingano   9--2--0   34  135   66   68   38  \n",
       "1              Tiequan Zhang  18--4--0   38  155   68    0    0  \n",
       "2  Elizeu Zaleski dos Santos  16--5--0   30  170   71   73   41  "
      ]
     },
     "execution_count": 6,
     "metadata": {},
     "output_type": "execute_result"
    }
   ],
   "source": [
    "cmb = pd.merge(df, rev, how='inner', left_index=True, right_index=True)\n",
    "cmb.Record_x = cmb.Record_x.str.replace('-', '--')\n",
    "cmb.Record_y = cmb.Record_y.str.replace('-', '--')\n",
    "cmb = cmb.fillna(0)\n",
    "cmb = cmb.astype({'Age_x':int, 'Weight_x':int, 'Height_x':int, 'Reach_x':int, 'LegReach_x':int})\n",
    "cmb = cmb.astype({'Age_y':int, 'Weight_y':int, 'Height_y':int, 'Reach_y':int, 'LegReach_y':int})\n",
    "cmb.columns = ['Name', 'Record', 'Age', 'Wt.', 'Ht.', 'Rh.', 'Lg.', 'Name', 'Record', 'Age', 'Wt.','Ht.', 'Rh.', 'Lg.']\n",
    "cmb.head(3)"
   ]
  },
  {
   "cell_type": "code",
   "execution_count": 7,
   "metadata": {
    "collapsed": false
   },
   "outputs": [],
   "source": [
    "import math\n",
    "thres = math.ceil(df.shape[0] / 2.0)\n",
    "iofile = 'ufc_table.tex'\n",
    "cmb[:int(thres)].to_latex(iofile, index=False, na_rep='', longtable=True)"
   ]
  },
  {
   "cell_type": "code",
   "execution_count": 8,
   "metadata": {
    "collapsed": true
   },
   "outputs": [],
   "source": [
    "with open(iofile) as f:\n",
    "     lines = f.readlines()\n",
    "with open(iofile, 'w') as f:\n",
    "     for line in lines:\n",
    "          line = line.replace('llrrrrrllrrrrr','llrrrrr||llrrrrr')\n",
    "          line = line.replace('\\multicolumn{3}{r}','\\multicolumn{14}{c}')\n",
    "          line = line.replace('Continued on next page', 'Active UFC Fighters --- J. D. Halverson --- 2--28--2017')\n",
    "          f.write(line)"
   ]
  }
 ],
 "metadata": {
  "anaconda-cloud": {},
  "kernelspec": {
   "display_name": "Python [conda root]",
   "language": "python",
   "name": "conda-root-py"
  },
  "language_info": {
   "codemirror_mode": {
    "name": "ipython",
    "version": 2
   },
   "file_extension": ".py",
   "mimetype": "text/x-python",
   "name": "python",
   "nbconvert_exporter": "python",
   "pygments_lexer": "ipython2",
   "version": "2.7.12"
  }
 },
 "nbformat": 4,
 "nbformat_minor": 1
}
