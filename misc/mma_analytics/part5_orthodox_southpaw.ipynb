{
 "cells": [
  {
   "cell_type": "markdown",
   "metadata": {},
   "source": [
    "# Jonathan Halverson\n",
    "# Friday, February 24, 2017\n",
    "# Part 5: Orthodox versus southpow stance"
   ]
  },
  {
   "cell_type": "code",
   "execution_count": 1,
   "metadata": {
    "collapsed": true
   },
   "outputs": [],
   "source": [
    "import numpy as np\n",
    "import pandas as pd\n",
    "import matplotlib.pyplot as plt\n",
    "plt.style.use('halverson')\n",
    "%matplotlib inline"
   ]
  },
  {
   "cell_type": "code",
   "execution_count": 2,
   "metadata": {
    "collapsed": true
   },
   "outputs": [],
   "source": [
    "fights = pd.read_csv('fightmetric_cards/fightmetric_fights.csv', header=0, parse_dates=['Date'])\n",
    "fighters = pd.read_csv('fightmetric_fighters/fightmetric_fighters.csv', header=0, parse_dates=['Dob'])\n",
    "fighters['Age'] = (pd.to_datetime('today') - fighters.Dob) / np.timedelta64(1, 'Y')\n",
    "cols = ['Name', 'Height', 'Reach', 'Stance', 'Dob', 'Age']\n",
    "df = fights.merge(fighters[cols], how='inner', left_on='Winner', right_on='Name')\n",
    "df = df.merge(fighters[cols], how='inner', left_on='Loser', right_on='Name', suffixes=('', '_L'))"
   ]
  },
  {
   "cell_type": "markdown",
   "metadata": {},
   "source": [
    "# Orthodox versus Southpaw stance"
   ]
  },
  {
   "cell_type": "markdown",
   "metadata": {},
   "source": [
    "Here we remove draws and consider fights from 2005 and later."
   ]
  },
  {
   "cell_type": "code",
   "execution_count": 28,
   "metadata": {
    "collapsed": false
   },
   "outputs": [
    {
     "data": {
      "text/html": [
       "<div>\n",
       "<table border=\"1\" class=\"dataframe\">\n",
       "  <thead>\n",
       "    <tr style=\"text-align: right;\">\n",
       "      <th></th>\n",
       "      <th>Winner</th>\n",
       "      <th>Outcome</th>\n",
       "      <th>Loser</th>\n",
       "      <th>Stance</th>\n",
       "      <th>Stance_L</th>\n",
       "      <th>Reach</th>\n",
       "      <th>Reach_L</th>\n",
       "      <th>Age</th>\n",
       "      <th>Age_L</th>\n",
       "    </tr>\n",
       "  </thead>\n",
       "  <tbody>\n",
       "    <tr>\n",
       "      <th>0</th>\n",
       "      <td>Germaine de Randamie</td>\n",
       "      <td>def.</td>\n",
       "      <td>Holly Holm</td>\n",
       "      <td>Orthodox</td>\n",
       "      <td>Southpaw</td>\n",
       "      <td>71.0</td>\n",
       "      <td>69.0</td>\n",
       "      <td>32.838457</td>\n",
       "      <td>35.357331</td>\n",
       "    </tr>\n",
       "    <tr>\n",
       "      <th>2</th>\n",
       "      <td>Miesha Tate</td>\n",
       "      <td>def.</td>\n",
       "      <td>Holly Holm</td>\n",
       "      <td>Orthodox</td>\n",
       "      <td>Southpaw</td>\n",
       "      <td>65.0</td>\n",
       "      <td>69.0</td>\n",
       "      <td>30.522187</td>\n",
       "      <td>35.357331</td>\n",
       "    </tr>\n",
       "    <tr>\n",
       "      <th>10</th>\n",
       "      <td>Robert Whittaker</td>\n",
       "      <td>def.</td>\n",
       "      <td>Derek Brunson</td>\n",
       "      <td>Orthodox</td>\n",
       "      <td>Southpaw</td>\n",
       "      <td>73.0</td>\n",
       "      <td>77.0</td>\n",
       "      <td>26.182605</td>\n",
       "      <td>33.142364</td>\n",
       "    </tr>\n",
       "    <tr>\n",
       "      <th>15</th>\n",
       "      <td>Carlos Condit</td>\n",
       "      <td>def.</td>\n",
       "      <td>Nick Diaz</td>\n",
       "      <td>Orthodox</td>\n",
       "      <td>Southpaw</td>\n",
       "      <td>75.0</td>\n",
       "      <td>76.0</td>\n",
       "      <td>32.832981</td>\n",
       "      <td>33.566740</td>\n",
       "    </tr>\n",
       "    <tr>\n",
       "      <th>16</th>\n",
       "      <td>Georges St-Pierre</td>\n",
       "      <td>def.</td>\n",
       "      <td>Nick Diaz</td>\n",
       "      <td>Orthodox</td>\n",
       "      <td>Southpaw</td>\n",
       "      <td>76.0</td>\n",
       "      <td>76.0</td>\n",
       "      <td>35.770755</td>\n",
       "      <td>33.566740</td>\n",
       "    </tr>\n",
       "    <tr>\n",
       "      <th>17</th>\n",
       "      <td>Sean Sherk</td>\n",
       "      <td>def.</td>\n",
       "      <td>Nick Diaz</td>\n",
       "      <td>Orthodox</td>\n",
       "      <td>Southpaw</td>\n",
       "      <td>67.0</td>\n",
       "      <td>76.0</td>\n",
       "      <td>43.557363</td>\n",
       "      <td>33.566740</td>\n",
       "    </tr>\n",
       "    <tr>\n",
       "      <th>19</th>\n",
       "      <td>Anderson Silva</td>\n",
       "      <td>def.</td>\n",
       "      <td>Stephan Bonnar</td>\n",
       "      <td>Southpaw</td>\n",
       "      <td>Orthodox</td>\n",
       "      <td>77.0</td>\n",
       "      <td>78.0</td>\n",
       "      <td>41.868074</td>\n",
       "      <td>39.894043</td>\n",
       "    </tr>\n",
       "    <tr>\n",
       "      <th>29</th>\n",
       "      <td>Jon Jones</td>\n",
       "      <td>def.</td>\n",
       "      <td>Chael Sonnen</td>\n",
       "      <td>Orthodox</td>\n",
       "      <td>Southpaw</td>\n",
       "      <td>84.0</td>\n",
       "      <td>74.0</td>\n",
       "      <td>29.604988</td>\n",
       "      <td>39.896781</td>\n",
       "    </tr>\n",
       "    <tr>\n",
       "      <th>30</th>\n",
       "      <td>Rashad Evans</td>\n",
       "      <td>def.</td>\n",
       "      <td>Chael Sonnen</td>\n",
       "      <td>Orthodox</td>\n",
       "      <td>Southpaw</td>\n",
       "      <td>75.0</td>\n",
       "      <td>74.0</td>\n",
       "      <td>37.418975</td>\n",
       "      <td>39.896781</td>\n",
       "    </tr>\n",
       "    <tr>\n",
       "      <th>31</th>\n",
       "      <td>Renato Sobral</td>\n",
       "      <td>def.</td>\n",
       "      <td>Chael Sonnen</td>\n",
       "      <td>Orthodox</td>\n",
       "      <td>Southpaw</td>\n",
       "      <td>75.0</td>\n",
       "      <td>74.0</td>\n",
       "      <td>41.468340</td>\n",
       "      <td>39.896781</td>\n",
       "    </tr>\n",
       "  </tbody>\n",
       "</table>\n",
       "</div>"
      ],
      "text/plain": [
       "                  Winner Outcome           Loser    Stance  Stance_L  Reach  \\\n",
       "0   Germaine de Randamie    def.      Holly Holm  Orthodox  Southpaw   71.0   \n",
       "2            Miesha Tate    def.      Holly Holm  Orthodox  Southpaw   65.0   \n",
       "10      Robert Whittaker    def.   Derek Brunson  Orthodox  Southpaw   73.0   \n",
       "15         Carlos Condit    def.       Nick Diaz  Orthodox  Southpaw   75.0   \n",
       "16     Georges St-Pierre    def.       Nick Diaz  Orthodox  Southpaw   76.0   \n",
       "17            Sean Sherk    def.       Nick Diaz  Orthodox  Southpaw   67.0   \n",
       "19        Anderson Silva    def.  Stephan Bonnar  Southpaw  Orthodox   77.0   \n",
       "29             Jon Jones    def.    Chael Sonnen  Orthodox  Southpaw   84.0   \n",
       "30          Rashad Evans    def.    Chael Sonnen  Orthodox  Southpaw   75.0   \n",
       "31         Renato Sobral    def.    Chael Sonnen  Orthodox  Southpaw   75.0   \n",
       "\n",
       "    Reach_L        Age      Age_L  \n",
       "0      69.0  32.838457  35.357331  \n",
       "2      69.0  30.522187  35.357331  \n",
       "10     77.0  26.182605  33.142364  \n",
       "15     76.0  32.832981  33.566740  \n",
       "16     76.0  35.770755  33.566740  \n",
       "17     76.0  43.557363  33.566740  \n",
       "19     78.0  41.868074  39.894043  \n",
       "29     74.0  29.604988  39.896781  \n",
       "30     74.0  37.418975  39.896781  \n",
       "31     74.0  41.468340  39.896781  "
      ]
     },
     "execution_count": 28,
     "metadata": {},
     "output_type": "execute_result"
    }
   ],
   "source": [
    "ortho_south = df[(df.Outcome.isin(['def.'])) & (df.Date > np.datetime64('2005-01-01'))].copy()\n",
    "msk1 = ((ortho_south.Stance == 'Orthodox') & (ortho_south.Stance_L == 'Southpaw'))\n",
    "msk2 = ((ortho_south.Stance == 'Southpaw') & (ortho_south.Stance_L == 'Orthodox'))\n",
    "cols = ['Winner', 'Outcome', 'Loser', 'Stance', 'Stance_L', 'Reach', 'Reach_L', 'Age', 'Age_L']\n",
    "ortho_south = ortho_south[msk1 | msk2][cols]\n",
    "ortho_south[:10]"
   ]
  },
  {
   "cell_type": "code",
   "execution_count": 30,
   "metadata": {
    "collapsed": false
   },
   "outputs": [
    {
     "data": {
      "text/plain": [
       "1017"
      ]
     },
     "execution_count": 30,
     "metadata": {},
     "output_type": "execute_result"
    }
   ],
   "source": [
    "total_fights = ortho_south.shape[0]\n",
    "total_fights"
   ]
  },
  {
   "cell_type": "code",
   "execution_count": 44,
   "metadata": {
    "collapsed": false
   },
   "outputs": [
    {
     "data": {
      "text/html": [
       "<div>\n",
       "<table border=\"1\" class=\"dataframe\">\n",
       "  <thead>\n",
       "    <tr>\n",
       "      <th></th>\n",
       "      <th colspan=\"2\" halign=\"left\">Age</th>\n",
       "      <th colspan=\"2\" halign=\"left\">Reach</th>\n",
       "      <th colspan=\"3\" halign=\"left\">Height</th>\n",
       "    </tr>\n",
       "    <tr>\n",
       "      <th></th>\n",
       "      <th>mean</th>\n",
       "      <th>std</th>\n",
       "      <th>mean</th>\n",
       "      <th>std</th>\n",
       "      <th>size</th>\n",
       "      <th>mean</th>\n",
       "      <th>std</th>\n",
       "    </tr>\n",
       "    <tr>\n",
       "      <th>Stance</th>\n",
       "      <th></th>\n",
       "      <th></th>\n",
       "      <th></th>\n",
       "      <th></th>\n",
       "      <th></th>\n",
       "      <th></th>\n",
       "      <th></th>\n",
       "    </tr>\n",
       "  </thead>\n",
       "  <tbody>\n",
       "    <tr>\n",
       "      <th>Orthodox</th>\n",
       "      <td>33.954</td>\n",
       "      <td>4.959</td>\n",
       "      <td>72.342</td>\n",
       "      <td>3.810</td>\n",
       "      <td>535.0</td>\n",
       "      <td>70.637</td>\n",
       "      <td>3.128</td>\n",
       "    </tr>\n",
       "    <tr>\n",
       "      <th>Southpaw</th>\n",
       "      <td>33.894</td>\n",
       "      <td>5.109</td>\n",
       "      <td>71.967</td>\n",
       "      <td>3.569</td>\n",
       "      <td>212.0</td>\n",
       "      <td>70.486</td>\n",
       "      <td>3.031</td>\n",
       "    </tr>\n",
       "  </tbody>\n",
       "</table>\n",
       "</div>"
      ],
      "text/plain": [
       "             Age          Reach        Height               \n",
       "            mean    std    mean    std   size    mean    std\n",
       "Stance                                                      \n",
       "Orthodox  33.954  4.959  72.342  3.810  535.0  70.637  3.128\n",
       "Southpaw  33.894  5.109  71.967  3.569  212.0  70.486  3.031"
      ]
     },
     "execution_count": 44,
     "metadata": {},
     "output_type": "execute_result"
    }
   ],
   "source": [
    "f = ortho_south.Winner.append(ortho_south.Loser).unique()\n",
    "cont_table = fighters[fighters.Name.isin(f)].groupby('Stance').agg({'Height':[np.size, np.mean, np.std], 'Reach':[np.mean, np.std], 'Age':[np.mean, np.std]})\n",
    "cont_table.astype({('Height', 'size'):int}).applymap(lambda x: round(x, 3))"
   ]
  },
  {
   "cell_type": "code",
   "execution_count": 23,
   "metadata": {
    "collapsed": false
   },
   "outputs": [],
   "source": [
    "w_ortho = ortho_south[(ortho_south.Stance == 'Orthodox') & (ortho_south.Outcome == 'def.')].shape[0]\n",
    "w_south = ortho_south[(ortho_south.Stance == 'Southpaw') & (ortho_south.Outcome == 'def.')].shape[0]\n",
    "l_ortho = ortho_south[(ortho_south.Stance_L == 'Orthodox') & (ortho_south.Outcome == 'def.')].shape[0]\n",
    "l_south = ortho_south[(ortho_south.Stance_L == 'Southpaw') & (ortho_south.Outcome == 'def.')].shape[0]"
   ]
  },
  {
   "cell_type": "code",
   "execution_count": 24,
   "metadata": {
    "collapsed": false
   },
   "outputs": [
    {
     "data": {
      "text/html": [
       "<div>\n",
       "<table border=\"1\" class=\"dataframe\">\n",
       "  <thead>\n",
       "    <tr style=\"text-align: right;\">\n",
       "      <th></th>\n",
       "      <th>Orthodox</th>\n",
       "      <th>Southpaw</th>\n",
       "    </tr>\n",
       "  </thead>\n",
       "  <tbody>\n",
       "    <tr>\n",
       "      <th>Wins</th>\n",
       "      <td>454</td>\n",
       "      <td>563</td>\n",
       "    </tr>\n",
       "    <tr>\n",
       "      <th>Losses</th>\n",
       "      <td>563</td>\n",
       "      <td>454</td>\n",
       "    </tr>\n",
       "  </tbody>\n",
       "</table>\n",
       "</div>"
      ],
      "text/plain": [
       "        Orthodox  Southpaw\n",
       "Wins         454       563\n",
       "Losses       563       454"
      ]
     },
     "execution_count": 24,
     "metadata": {},
     "output_type": "execute_result"
    }
   ],
   "source": [
    "cont_table = pd.DataFrame([[w_ortho, w_south], [l_ortho, l_south]])\n",
    "cont_table.columns = ['Orthodox', 'Southpaw']\n",
    "cont_table.index=['ortho_south', 'Losses']\n",
    "cont_table"
   ]
  },
  {
   "cell_type": "code",
   "execution_count": 25,
   "metadata": {
    "collapsed": false
   },
   "outputs": [
    {
     "data": {
      "text/plain": [
       "1017"
      ]
     },
     "execution_count": 25,
     "metadata": {},
     "output_type": "execute_result"
    }
   ],
   "source": [
    "454+563"
   ]
  },
  {
   "cell_type": "code",
   "execution_count": 26,
   "metadata": {
    "collapsed": false
   },
   "outputs": [
    {
     "data": {
      "text/plain": [
       "(11.682399213372666, 0.00063094119863635291)"
      ]
     },
     "execution_count": 26,
     "metadata": {},
     "output_type": "execute_result"
    }
   ],
   "source": [
    "from scipy.stats import chisquare\n",
    "\n",
    "chi_sq_stat, p_value = chisquare([w_ortho, w_south], [0.5 * 1017, 0.5 * 1017])\n",
    "chi_sq_stat, p_value"
   ]
  },
  {
   "cell_type": "code",
   "execution_count": 27,
   "metadata": {
    "collapsed": false
   },
   "outputs": [
    {
     "data": {
      "text/plain": [
       "0.00070017124661251185"
      ]
     },
     "execution_count": 27,
     "metadata": {},
     "output_type": "execute_result"
    }
   ],
   "source": [
    "from scipy.stats import binom\n",
    "2 * sum([binom.pmf(k, n=1017, p=0.5) for k in range(0, 454 + 1)])"
   ]
  },
  {
   "cell_type": "code",
   "execution_count": 10,
   "metadata": {
    "collapsed": false
   },
   "outputs": [
    {
     "data": {
      "text/plain": [
       "0.00070017124661233415"
      ]
     },
     "execution_count": 10,
     "metadata": {},
     "output_type": "execute_result"
    }
   ],
   "source": [
    "p_value = 2 * binom.cdf(k=454, n=1017, p=0.5)\n",
    "p_value"
   ]
  },
  {
   "cell_type": "code",
   "execution_count": 11,
   "metadata": {
    "collapsed": false
   },
   "outputs": [
    {
     "data": {
      "text/plain": [
       "0.00027780863640225473"
      ]
     },
     "execution_count": 11,
     "metadata": {},
     "output_type": "execute_result"
    }
   ],
   "source": [
    "1.0 - binom.cdf(k=563, n=1017, p=0.5)"
   ]
  },
  {
   "cell_type": "code",
   "execution_count": 12,
   "metadata": {
    "collapsed": false
   },
   "outputs": [
    {
     "data": {
      "text/plain": [
       "0.00035008562330616708"
      ]
     },
     "execution_count": 12,
     "metadata": {},
     "output_type": "execute_result"
    }
   ],
   "source": [
    "binom.cdf(k=454, n=1017, p=0.5)"
   ]
  },
  {
   "cell_type": "code",
   "execution_count": 13,
   "metadata": {
    "collapsed": false
   },
   "outputs": [
    {
     "data": {
      "text/plain": [
       "<matplotlib.text.Text at 0x113cf2590>"
      ]
     },
     "execution_count": 13,
     "metadata": {},
     "output_type": "execute_result"
    },
    {
     "data": {
      "image/png": "[encoded data removed]",
      "text/plain": [
       "<matplotlib.figure.Figure at 0x11177b1d0>"
      ]
     },
     "metadata": {},
     "output_type": "display_data"
    }
   ],
   "source": [
    "fig = plt.figure(1, figsize=(4, 3))\n",
    "win_ratio = [float(w_ortho) / ortho_south.shape[0], float(w_south) / ortho_south.shape[0]]\n",
    "plt.bar(range(cont_table.shape[0]), win_ratio, width=0.5, tick_label=cont_table.columns.values, align='center')\n",
    "plt.ylim(0, 1)\n",
    "plt.ylabel('Win ratio')"
   ]
  },
  {
   "cell_type": "code",
   "execution_count": 14,
   "metadata": {
    "collapsed": false
   },
   "outputs": [
    {
     "data": {
      "text/plain": [
       "[0.4446620959843291, 0.5514201762977473]"
      ]
     },
     "execution_count": 14,
     "metadata": {},
     "output_type": "execute_result"
    }
   ],
   "source": [
    "win_ratio"
   ]
  },
  {
   "cell_type": "markdown",
   "metadata": {},
   "source": [
    "### What if reach and age are approximately the same?"
   ]
  },
  {
   "cell_type": "code",
   "execution_count": 15,
   "metadata": {
    "collapsed": false
   },
   "outputs": [],
   "source": [
    "stance_reach = ortho_south.copy()\n",
    "\n",
    "stance_reach['ReachDiff'] = stance_reach.Reach - stance_reach.Reach_L\n",
    "stance_reach.ReachDiff = stance_reach.ReachDiff.abs()\n",
    "stance_reach['AgeDiff'] = stance_reach.Age - stance_reach.Age_L\n",
    "stance_reach.AgeDiff = stance_reach.AgeDiff.abs()\n",
    "stance_reach = stance_reach[(stance_reach.ReachDiff <= 3.0) & (stance_reach.AgeDiff <= 3.0)]\n",
    "w_ortho = stance_reach[(stance_reach.Stance == 'Orthodox') & (stance_reach.Outcome == 'def.')].shape[0]\n",
    "w_south = stance_reach[(stance_reach.Stance == 'Southpaw') & (stance_reach.Outcome == 'def.')].shape[0]\n",
    "l_ortho = stance_reach[(stance_reach.Stance_L == 'Orthodox') & (stance_reach.Outcome == 'def.')].shape[0]\n",
    "l_south = stance_reach[(stance_reach.Stance_L == 'Southpaw') & (stance_reach.Outcome == 'def.')].shape[0]"
   ]
  },
  {
   "cell_type": "code",
   "execution_count": 16,
   "metadata": {
    "collapsed": false
   },
   "outputs": [
    {
     "data": {
      "text/html": [
       "<div>\n",
       "<table border=\"1\" class=\"dataframe\">\n",
       "  <thead>\n",
       "    <tr style=\"text-align: right;\">\n",
       "      <th></th>\n",
       "      <th>Winner</th>\n",
       "      <th>Outcome</th>\n",
       "      <th>Loser</th>\n",
       "      <th>Stance</th>\n",
       "      <th>Stance_L</th>\n",
       "      <th>Reach</th>\n",
       "      <th>Reach_L</th>\n",
       "      <th>Age</th>\n",
       "      <th>Age_L</th>\n",
       "      <th>ReachDiff</th>\n",
       "      <th>AgeDiff</th>\n",
       "    </tr>\n",
       "  </thead>\n",
       "  <tbody>\n",
       "    <tr>\n",
       "      <th>0</th>\n",
       "      <td>Germaine de Randamie</td>\n",
       "      <td>def.</td>\n",
       "      <td>Holly Holm</td>\n",
       "      <td>Orthodox</td>\n",
       "      <td>Southpaw</td>\n",
       "      <td>71.0</td>\n",
       "      <td>69.0</td>\n",
       "      <td>32.838457</td>\n",
       "      <td>35.357331</td>\n",
       "      <td>2.0</td>\n",
       "      <td>2.518874</td>\n",
       "    </tr>\n",
       "    <tr>\n",
       "      <th>15</th>\n",
       "      <td>Carlos Condit</td>\n",
       "      <td>def.</td>\n",
       "      <td>Nick Diaz</td>\n",
       "      <td>Orthodox</td>\n",
       "      <td>Southpaw</td>\n",
       "      <td>75.0</td>\n",
       "      <td>76.0</td>\n",
       "      <td>32.832981</td>\n",
       "      <td>33.566740</td>\n",
       "      <td>1.0</td>\n",
       "      <td>0.733759</td>\n",
       "    </tr>\n",
       "    <tr>\n",
       "      <th>16</th>\n",
       "      <td>Georges St-Pierre</td>\n",
       "      <td>def.</td>\n",
       "      <td>Nick Diaz</td>\n",
       "      <td>Orthodox</td>\n",
       "      <td>Southpaw</td>\n",
       "      <td>76.0</td>\n",
       "      <td>76.0</td>\n",
       "      <td>35.770755</td>\n",
       "      <td>33.566740</td>\n",
       "      <td>0.0</td>\n",
       "      <td>2.204015</td>\n",
       "    </tr>\n",
       "    <tr>\n",
       "      <th>19</th>\n",
       "      <td>Anderson Silva</td>\n",
       "      <td>def.</td>\n",
       "      <td>Stephan Bonnar</td>\n",
       "      <td>Southpaw</td>\n",
       "      <td>Orthodox</td>\n",
       "      <td>77.0</td>\n",
       "      <td>78.0</td>\n",
       "      <td>41.868074</td>\n",
       "      <td>39.894043</td>\n",
       "      <td>1.0</td>\n",
       "      <td>1.974031</td>\n",
       "    </tr>\n",
       "    <tr>\n",
       "      <th>30</th>\n",
       "      <td>Rashad Evans</td>\n",
       "      <td>def.</td>\n",
       "      <td>Chael Sonnen</td>\n",
       "      <td>Orthodox</td>\n",
       "      <td>Southpaw</td>\n",
       "      <td>75.0</td>\n",
       "      <td>74.0</td>\n",
       "      <td>37.418975</td>\n",
       "      <td>39.896781</td>\n",
       "      <td>1.0</td>\n",
       "      <td>2.477806</td>\n",
       "    </tr>\n",
       "    <tr>\n",
       "      <th>31</th>\n",
       "      <td>Renato Sobral</td>\n",
       "      <td>def.</td>\n",
       "      <td>Chael Sonnen</td>\n",
       "      <td>Orthodox</td>\n",
       "      <td>Southpaw</td>\n",
       "      <td>75.0</td>\n",
       "      <td>74.0</td>\n",
       "      <td>41.468340</td>\n",
       "      <td>39.896781</td>\n",
       "      <td>1.0</td>\n",
       "      <td>1.571559</td>\n",
       "    </tr>\n",
       "    <tr>\n",
       "      <th>32</th>\n",
       "      <td>Jeremy Horn</td>\n",
       "      <td>def.</td>\n",
       "      <td>Chael Sonnen</td>\n",
       "      <td>Orthodox</td>\n",
       "      <td>Southpaw</td>\n",
       "      <td>74.0</td>\n",
       "      <td>74.0</td>\n",
       "      <td>41.503932</td>\n",
       "      <td>39.896781</td>\n",
       "      <td>0.0</td>\n",
       "      <td>1.607151</td>\n",
       "    </tr>\n",
       "    <tr>\n",
       "      <th>34</th>\n",
       "      <td>Jacare Souza</td>\n",
       "      <td>def.</td>\n",
       "      <td>Yushin Okami</td>\n",
       "      <td>Orthodox</td>\n",
       "      <td>Southpaw</td>\n",
       "      <td>72.0</td>\n",
       "      <td>72.0</td>\n",
       "      <td>37.219108</td>\n",
       "      <td>35.598267</td>\n",
       "      <td>0.0</td>\n",
       "      <td>1.620841</td>\n",
       "    </tr>\n",
       "    <tr>\n",
       "      <th>35</th>\n",
       "      <td>Tim Boetsch</td>\n",
       "      <td>def.</td>\n",
       "      <td>Yushin Okami</td>\n",
       "      <td>Orthodox</td>\n",
       "      <td>Southpaw</td>\n",
       "      <td>74.0</td>\n",
       "      <td>72.0</td>\n",
       "      <td>36.074663</td>\n",
       "      <td>35.598267</td>\n",
       "      <td>2.0</td>\n",
       "      <td>0.476396</td>\n",
       "    </tr>\n",
       "    <tr>\n",
       "      <th>39</th>\n",
       "      <td>Jacare Souza</td>\n",
       "      <td>def.</td>\n",
       "      <td>Vitor Belfort</td>\n",
       "      <td>Orthodox</td>\n",
       "      <td>Southpaw</td>\n",
       "      <td>72.0</td>\n",
       "      <td>74.0</td>\n",
       "      <td>37.219108</td>\n",
       "      <td>39.902257</td>\n",
       "      <td>2.0</td>\n",
       "      <td>2.683149</td>\n",
       "    </tr>\n",
       "  </tbody>\n",
       "</table>\n",
       "</div>"
      ],
      "text/plain": [
       "                  Winner Outcome           Loser    Stance  Stance_L  Reach  \\\n",
       "0   Germaine de Randamie    def.      Holly Holm  Orthodox  Southpaw   71.0   \n",
       "15         Carlos Condit    def.       Nick Diaz  Orthodox  Southpaw   75.0   \n",
       "16     Georges St-Pierre    def.       Nick Diaz  Orthodox  Southpaw   76.0   \n",
       "19        Anderson Silva    def.  Stephan Bonnar  Southpaw  Orthodox   77.0   \n",
       "30          Rashad Evans    def.    Chael Sonnen  Orthodox  Southpaw   75.0   \n",
       "31         Renato Sobral    def.    Chael Sonnen  Orthodox  Southpaw   75.0   \n",
       "32           Jeremy Horn    def.    Chael Sonnen  Orthodox  Southpaw   74.0   \n",
       "34          Jacare Souza    def.    Yushin Okami  Orthodox  Southpaw   72.0   \n",
       "35           Tim Boetsch    def.    Yushin Okami  Orthodox  Southpaw   74.0   \n",
       "39          Jacare Souza    def.   Vitor Belfort  Orthodox  Southpaw   72.0   \n",
       "\n",
       "    Reach_L        Age      Age_L  ReachDiff   AgeDiff  \n",
       "0      69.0  32.838457  35.357331        2.0  2.518874  \n",
       "15     76.0  32.832981  33.566740        1.0  0.733759  \n",
       "16     76.0  35.770755  33.566740        0.0  2.204015  \n",
       "19     78.0  41.868074  39.894043        1.0  1.974031  \n",
       "30     74.0  37.418975  39.896781        1.0  2.477806  \n",
       "31     74.0  41.468340  39.896781        1.0  1.571559  \n",
       "32     74.0  41.503932  39.896781        0.0  1.607151  \n",
       "34     72.0  37.219108  35.598267        0.0  1.620841  \n",
       "35     72.0  36.074663  35.598267        2.0  0.476396  \n",
       "39     74.0  37.219108  39.902257        2.0  2.683149  "
      ]
     },
     "execution_count": 16,
     "metadata": {},
     "output_type": "execute_result"
    }
   ],
   "source": [
    "stance_reach[:10]"
   ]
  },
  {
   "cell_type": "code",
   "execution_count": 17,
   "metadata": {
    "collapsed": false
   },
   "outputs": [
    {
     "data": {
      "text/html": [
       "<div>\n",
       "<table border=\"1\" class=\"dataframe\">\n",
       "  <thead>\n",
       "    <tr style=\"text-align: right;\">\n",
       "      <th></th>\n",
       "      <th>Orthodox</th>\n",
       "      <th>Southpaw</th>\n",
       "    </tr>\n",
       "  </thead>\n",
       "  <tbody>\n",
       "    <tr>\n",
       "      <th>Wins</th>\n",
       "      <td>133</td>\n",
       "      <td>187</td>\n",
       "    </tr>\n",
       "    <tr>\n",
       "      <th>Losses</th>\n",
       "      <td>187</td>\n",
       "      <td>133</td>\n",
       "    </tr>\n",
       "  </tbody>\n",
       "</table>\n",
       "</div>"
      ],
      "text/plain": [
       "        Orthodox  Southpaw\n",
       "Wins         133       187\n",
       "Losses       187       133"
      ]
     },
     "execution_count": 17,
     "metadata": {},
     "output_type": "execute_result"
    }
   ],
   "source": [
    "cont_table = pd.DataFrame([[w_ortho, w_south], [l_ortho, l_south]])\n",
    "cont_table.columns = ['Orthodox', 'Southpaw']\n",
    "cont_table.index=['ortho_south', 'Losses']\n",
    "cont_table"
   ]
  },
  {
   "cell_type": "code",
   "execution_count": 18,
   "metadata": {
    "collapsed": false
   },
   "outputs": [
    {
     "name": "stdout",
     "output_type": "stream",
     "text": [
      "9.1125 0.00253868673815 False\n"
     ]
    }
   ],
   "source": [
    "chi_sq, p_value = chisquare([133, 187])\n",
    "print chi_sq, p_value, p_value > 0.05"
   ]
  },
  {
   "cell_type": "code",
   "execution_count": 19,
   "metadata": {
    "collapsed": false
   },
   "outputs": [
    {
     "data": {
      "text/plain": [
       "<matplotlib.text.Text at 0x113de3250>"
      ]
     },
     "execution_count": 19,
     "metadata": {},
     "output_type": "execute_result"
    },
    {
     "data": {
      "image/png": "[encoded data removed]",
      "text/plain": [
       "<matplotlib.figure.Figure at 0x113cffc50>"
      ]
     },
     "metadata": {},
     "output_type": "display_data"
    }
   ],
   "source": [
    "fig = plt.figure(1, figsize=(4, 3))\n",
    "win_ratios = [float(w_ortho) / stance_reach.shape[0], float(w_south) / stance_reach.shape[0]]\n",
    "plt.bar(range(cont_table.shape[0]), win_ratios, width=0.5, tick_label=cont_table.columns.values, align='center')\n",
    "plt.ylim(0, 1)\n",
    "plt.ylabel('Win ratio')"
   ]
  },
  {
   "cell_type": "code",
   "execution_count": 20,
   "metadata": {
    "collapsed": false
   },
   "outputs": [
    {
     "data": {
      "text/plain": [
       "[0.415625, 0.584375]"
      ]
     },
     "execution_count": 20,
     "metadata": {},
     "output_type": "execute_result"
    }
   ],
   "source": [
    "win_ratios"
   ]
  }
 ],
 "metadata": {
  "anaconda-cloud": {},
  "kernelspec": {
   "display_name": "Python [conda root]",
   "language": "python",
   "name": "conda-root-py"
  },
  "language_info": {
   "codemirror_mode": {
    "name": "ipython",
    "version": 2
   },
   "file_extension": ".py",
   "mimetype": "text/x-python",
   "name": "python",
   "nbconvert_exporter": "python",
   "pygments_lexer": "ipython2",
   "version": "2.7.12"
  }
 },
 "nbformat": 4,
 "nbformat_minor": 1
}
