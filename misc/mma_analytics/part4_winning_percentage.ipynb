{
 "cells": [
  {
   "cell_type": "markdown",
   "metadata": {},
   "source": [
    "# Jonathan Halverson\n",
    "# Thursday, February 23, 2017\n",
    "# Part 4: Winning percentage by age of UFC fights"
   ]
  },
  {
   "cell_type": "code",
   "execution_count": 21,
   "metadata": {
    "collapsed": true
   },
   "outputs": [],
   "source": [
    "import numpy as np\n",
    "import pandas as pd\n",
    "import matplotlib.pyplot as plt\n",
    "plt.style.use('halverson')\n",
    "%matplotlib inline"
   ]
  },
  {
   "cell_type": "code",
   "execution_count": 22,
   "metadata": {
    "collapsed": false
   },
   "outputs": [
    {
     "data": {
      "text/html": [
       "<div>\n",
       "<table border=\"1\" class=\"dataframe\">\n",
       "  <thead>\n",
       "    <tr style=\"text-align: right;\">\n",
       "      <th></th>\n",
       "      <th>Winner</th>\n",
       "      <th>Outcome</th>\n",
       "      <th>Loser</th>\n",
       "      <th>WeightClass</th>\n",
       "      <th>Method</th>\n",
       "      <th>MethodNotes</th>\n",
       "      <th>Round</th>\n",
       "      <th>Time</th>\n",
       "      <th>Event</th>\n",
       "      <th>Date</th>\n",
       "      <th>Location</th>\n",
       "    </tr>\n",
       "  </thead>\n",
       "  <tbody>\n",
       "    <tr>\n",
       "      <th>0</th>\n",
       "      <td>Germaine de Randamie</td>\n",
       "      <td>def.</td>\n",
       "      <td>Holly Holm</td>\n",
       "      <td>Women's Featherweight</td>\n",
       "      <td>U-DEC</td>\n",
       "      <td>NaN</td>\n",
       "      <td>5</td>\n",
       "      <td>5:00</td>\n",
       "      <td>UFC 208: Holm vs. De Randamie</td>\n",
       "      <td>2017-02-11</td>\n",
       "      <td>New York, New York, USA</td>\n",
       "    </tr>\n",
       "    <tr>\n",
       "      <th>1</th>\n",
       "      <td>Anderson Silva</td>\n",
       "      <td>def.</td>\n",
       "      <td>Derek Brunson</td>\n",
       "      <td>Middleweight</td>\n",
       "      <td>U-DEC</td>\n",
       "      <td>NaN</td>\n",
       "      <td>3</td>\n",
       "      <td>5:00</td>\n",
       "      <td>UFC 208: Holm vs. De Randamie</td>\n",
       "      <td>2017-02-11</td>\n",
       "      <td>New York, New York, USA</td>\n",
       "    </tr>\n",
       "    <tr>\n",
       "      <th>2</th>\n",
       "      <td>Jacare Souza</td>\n",
       "      <td>def.</td>\n",
       "      <td>Tim Boetsch</td>\n",
       "      <td>Middleweight</td>\n",
       "      <td>SUB</td>\n",
       "      <td>Kimura</td>\n",
       "      <td>1</td>\n",
       "      <td>3:41</td>\n",
       "      <td>UFC 208: Holm vs. De Randamie</td>\n",
       "      <td>2017-02-11</td>\n",
       "      <td>New York, New York, USA</td>\n",
       "    </tr>\n",
       "    <tr>\n",
       "      <th>3</th>\n",
       "      <td>Glover Teixeira</td>\n",
       "      <td>def.</td>\n",
       "      <td>Jared Cannonier</td>\n",
       "      <td>Light Heavyweight</td>\n",
       "      <td>U-DEC</td>\n",
       "      <td>NaN</td>\n",
       "      <td>3</td>\n",
       "      <td>5:00</td>\n",
       "      <td>UFC 208: Holm vs. De Randamie</td>\n",
       "      <td>2017-02-11</td>\n",
       "      <td>New York, New York, USA</td>\n",
       "    </tr>\n",
       "    <tr>\n",
       "      <th>4</th>\n",
       "      <td>Dustin Poirier</td>\n",
       "      <td>def.</td>\n",
       "      <td>Jim Miller</td>\n",
       "      <td>Lightweight</td>\n",
       "      <td>M-DEC</td>\n",
       "      <td>NaN</td>\n",
       "      <td>3</td>\n",
       "      <td>5:00</td>\n",
       "      <td>UFC 208: Holm vs. De Randamie</td>\n",
       "      <td>2017-02-11</td>\n",
       "      <td>New York, New York, USA</td>\n",
       "    </tr>\n",
       "  </tbody>\n",
       "</table>\n",
       "</div>"
      ],
      "text/plain": [
       "                 Winner Outcome            Loser            WeightClass  \\\n",
       "0  Germaine de Randamie    def.       Holly Holm  Women's Featherweight   \n",
       "1        Anderson Silva    def.    Derek Brunson           Middleweight   \n",
       "2          Jacare Souza    def.      Tim Boetsch           Middleweight   \n",
       "3       Glover Teixeira    def.  Jared Cannonier      Light Heavyweight   \n",
       "4        Dustin Poirier    def.       Jim Miller            Lightweight   \n",
       "\n",
       "  Method MethodNotes  Round  Time                          Event       Date  \\\n",
       "0  U-DEC         NaN      5  5:00  UFC 208: Holm vs. De Randamie 2017-02-11   \n",
       "1  U-DEC         NaN      3  5:00  UFC 208: Holm vs. De Randamie 2017-02-11   \n",
       "2    SUB      Kimura      1  3:41  UFC 208: Holm vs. De Randamie 2017-02-11   \n",
       "3  U-DEC         NaN      3  5:00  UFC 208: Holm vs. De Randamie 2017-02-11   \n",
       "4  M-DEC         NaN      3  5:00  UFC 208: Holm vs. De Randamie 2017-02-11   \n",
       "\n",
       "                  Location  \n",
       "0  New York, New York, USA  \n",
       "1  New York, New York, USA  \n",
       "2  New York, New York, USA  \n",
       "3  New York, New York, USA  \n",
       "4  New York, New York, USA  "
      ]
     },
     "execution_count": 22,
     "metadata": {},
     "output_type": "execute_result"
    }
   ],
   "source": [
    "iofile = 'data/fightmetric_cards/fightmetric_fights_CLEAN_3-6-2017.csv'\n",
    "fights = pd.read_csv(iofile, header=0, parse_dates=['Date'])\n",
    "fights.head(5)"
   ]
  },
  {
   "cell_type": "code",
   "execution_count": 23,
   "metadata": {
    "collapsed": false
   },
   "outputs": [
    {
     "data": {
      "text/plain": [
       "(4068, 11)"
      ]
     },
     "execution_count": 23,
     "metadata": {},
     "output_type": "execute_result"
    }
   ],
   "source": [
    "fights.shape"
   ]
  },
  {
   "cell_type": "code",
   "execution_count": 24,
   "metadata": {
    "collapsed": false
   },
   "outputs": [
    {
     "data": {
      "text/html": [
       "<div>\n",
       "<table border=\"1\" class=\"dataframe\">\n",
       "  <thead>\n",
       "    <tr style=\"text-align: right;\">\n",
       "      <th></th>\n",
       "      <th>Name</th>\n",
       "      <th>Nickname</th>\n",
       "      <th>Dob</th>\n",
       "      <th>Weight</th>\n",
       "      <th>Height</th>\n",
       "      <th>Reach</th>\n",
       "      <th>LegReach</th>\n",
       "      <th>Stance</th>\n",
       "      <th>Win</th>\n",
       "      <th>Loss</th>\n",
       "      <th>Draw</th>\n",
       "      <th>Age</th>\n",
       "    </tr>\n",
       "  </thead>\n",
       "  <tbody>\n",
       "    <tr>\n",
       "      <th>0</th>\n",
       "      <td>Tom Aaron</td>\n",
       "      <td>NaN</td>\n",
       "      <td>1978-07-13</td>\n",
       "      <td>155.0</td>\n",
       "      <td>NaN</td>\n",
       "      <td>NaN</td>\n",
       "      <td>NaN</td>\n",
       "      <td>NaN</td>\n",
       "      <td>5.0</td>\n",
       "      <td>3.0</td>\n",
       "      <td>0.0</td>\n",
       "      <td>38.653771</td>\n",
       "    </tr>\n",
       "    <tr>\n",
       "      <th>1</th>\n",
       "      <td>Danny Abbadi</td>\n",
       "      <td>The Assassin</td>\n",
       "      <td>1983-07-03</td>\n",
       "      <td>155.0</td>\n",
       "      <td>71.0</td>\n",
       "      <td>NaN</td>\n",
       "      <td>NaN</td>\n",
       "      <td>Orthodox</td>\n",
       "      <td>4.0</td>\n",
       "      <td>6.0</td>\n",
       "      <td>0.0</td>\n",
       "      <td>33.681732</td>\n",
       "    </tr>\n",
       "    <tr>\n",
       "      <th>2</th>\n",
       "      <td>David Abbott</td>\n",
       "      <td>Tank</td>\n",
       "      <td>NaT</td>\n",
       "      <td>265.0</td>\n",
       "      <td>72.0</td>\n",
       "      <td>NaN</td>\n",
       "      <td>NaN</td>\n",
       "      <td>Switch</td>\n",
       "      <td>10.0</td>\n",
       "      <td>14.0</td>\n",
       "      <td>0.0</td>\n",
       "      <td>NaN</td>\n",
       "    </tr>\n",
       "    <tr>\n",
       "      <th>3</th>\n",
       "      <td>Shamil Abdurakhimov</td>\n",
       "      <td>Abrek</td>\n",
       "      <td>1981-09-02</td>\n",
       "      <td>235.0</td>\n",
       "      <td>75.0</td>\n",
       "      <td>76.0</td>\n",
       "      <td>41.0</td>\n",
       "      <td>Orthodox</td>\n",
       "      <td>16.0</td>\n",
       "      <td>4.0</td>\n",
       "      <td>0.0</td>\n",
       "      <td>35.513392</td>\n",
       "    </tr>\n",
       "    <tr>\n",
       "      <th>4</th>\n",
       "      <td>Hiroyuki Abe</td>\n",
       "      <td>Abe Ani</td>\n",
       "      <td>NaT</td>\n",
       "      <td>145.0</td>\n",
       "      <td>66.0</td>\n",
       "      <td>NaN</td>\n",
       "      <td>NaN</td>\n",
       "      <td>Orthodox</td>\n",
       "      <td>8.0</td>\n",
       "      <td>14.0</td>\n",
       "      <td>3.0</td>\n",
       "      <td>NaN</td>\n",
       "    </tr>\n",
       "  </tbody>\n",
       "</table>\n",
       "</div>"
      ],
      "text/plain": [
       "                  Name      Nickname        Dob  Weight  Height  Reach  \\\n",
       "0            Tom Aaron           NaN 1978-07-13   155.0     NaN    NaN   \n",
       "1         Danny Abbadi  The Assassin 1983-07-03   155.0    71.0    NaN   \n",
       "2         David Abbott          Tank        NaT   265.0    72.0    NaN   \n",
       "3  Shamil Abdurakhimov         Abrek 1981-09-02   235.0    75.0   76.0   \n",
       "4         Hiroyuki Abe       Abe Ani        NaT   145.0    66.0    NaN   \n",
       "\n",
       "   LegReach    Stance   Win  Loss  Draw        Age  \n",
       "0       NaN       NaN   5.0   3.0   0.0  38.653771  \n",
       "1       NaN  Orthodox   4.0   6.0   0.0  33.681732  \n",
       "2       NaN    Switch  10.0  14.0   0.0        NaN  \n",
       "3      41.0  Orthodox  16.0   4.0   0.0  35.513392  \n",
       "4       NaN  Orthodox   8.0  14.0   3.0        NaN  "
      ]
     },
     "execution_count": 24,
     "metadata": {},
     "output_type": "execute_result"
    }
   ],
   "source": [
    "iofile = 'data/fightmetric_fighters_with_corrections_from_UFC_Wikipedia_CLEAN.csv'\n",
    "fighters = pd.read_csv(iofile, header=0, parse_dates=['Dob'])\n",
    "fighters['Age'] = (pd.to_datetime('today') - fighters.Dob) / np.timedelta64(1, 'Y')\n",
    "fighters.head(5)"
   ]
  },
  {
   "cell_type": "code",
   "execution_count": 25,
   "metadata": {
    "collapsed": false
   },
   "outputs": [
    {
     "data": {
      "text/plain": [
       "(4068, 19)"
      ]
     },
     "execution_count": 25,
     "metadata": {},
     "output_type": "execute_result"
    }
   ],
   "source": [
    "cols = ['Name', 'Weight', 'Height', 'Reach', 'LegReach', 'Stance', 'Dob', 'Age']\n",
    "df = fights.merge(fighters[cols], how='left', left_on='Winner', right_on='Name')\n",
    "df.shape"
   ]
  },
  {
   "cell_type": "code",
   "execution_count": 26,
   "metadata": {
    "collapsed": false
   },
   "outputs": [
    {
     "data": {
      "text/html": [
       "<div>\n",
       "<table border=\"1\" class=\"dataframe\">\n",
       "  <thead>\n",
       "    <tr style=\"text-align: right;\">\n",
       "      <th></th>\n",
       "      <th>Winner</th>\n",
       "      <th>Outcome</th>\n",
       "      <th>Loser</th>\n",
       "      <th>WeightClass</th>\n",
       "      <th>Method</th>\n",
       "      <th>MethodNotes</th>\n",
       "      <th>Round</th>\n",
       "      <th>Time</th>\n",
       "      <th>Event</th>\n",
       "      <th>Date</th>\n",
       "      <th>Location</th>\n",
       "      <th>Name</th>\n",
       "      <th>Weight</th>\n",
       "      <th>Height</th>\n",
       "      <th>Reach</th>\n",
       "      <th>LegReach</th>\n",
       "      <th>Stance</th>\n",
       "      <th>Dob</th>\n",
       "      <th>Age</th>\n",
       "    </tr>\n",
       "  </thead>\n",
       "  <tbody>\n",
       "    <tr>\n",
       "      <th>0</th>\n",
       "      <td>Germaine de Randamie</td>\n",
       "      <td>def.</td>\n",
       "      <td>Holly Holm</td>\n",
       "      <td>Women's Featherweight</td>\n",
       "      <td>U-DEC</td>\n",
       "      <td>NaN</td>\n",
       "      <td>5</td>\n",
       "      <td>5:00</td>\n",
       "      <td>UFC 208: Holm vs. De Randamie</td>\n",
       "      <td>2017-02-11</td>\n",
       "      <td>New York, New York, USA</td>\n",
       "      <td>Germaine de Randamie</td>\n",
       "      <td>145.0</td>\n",
       "      <td>69.0</td>\n",
       "      <td>71.0</td>\n",
       "      <td>41.0</td>\n",
       "      <td>Orthodox</td>\n",
       "      <td>1984-04-24</td>\n",
       "      <td>32.871312</td>\n",
       "    </tr>\n",
       "    <tr>\n",
       "      <th>1</th>\n",
       "      <td>Anderson Silva</td>\n",
       "      <td>def.</td>\n",
       "      <td>Derek Brunson</td>\n",
       "      <td>Middleweight</td>\n",
       "      <td>U-DEC</td>\n",
       "      <td>NaN</td>\n",
       "      <td>3</td>\n",
       "      <td>5:00</td>\n",
       "      <td>UFC 208: Holm vs. De Randamie</td>\n",
       "      <td>2017-02-11</td>\n",
       "      <td>New York, New York, USA</td>\n",
       "      <td>Anderson Silva</td>\n",
       "      <td>185.0</td>\n",
       "      <td>74.0</td>\n",
       "      <td>77.0</td>\n",
       "      <td>42.0</td>\n",
       "      <td>Southpaw</td>\n",
       "      <td>1975-04-14</td>\n",
       "      <td>41.900929</td>\n",
       "    </tr>\n",
       "    <tr>\n",
       "      <th>2</th>\n",
       "      <td>Jacare Souza</td>\n",
       "      <td>def.</td>\n",
       "      <td>Tim Boetsch</td>\n",
       "      <td>Middleweight</td>\n",
       "      <td>SUB</td>\n",
       "      <td>Kimura</td>\n",
       "      <td>1</td>\n",
       "      <td>3:41</td>\n",
       "      <td>UFC 208: Holm vs. De Randamie</td>\n",
       "      <td>2017-02-11</td>\n",
       "      <td>New York, New York, USA</td>\n",
       "      <td>Jacare Souza</td>\n",
       "      <td>185.0</td>\n",
       "      <td>73.0</td>\n",
       "      <td>72.0</td>\n",
       "      <td>41.0</td>\n",
       "      <td>Orthodox</td>\n",
       "      <td>1979-12-07</td>\n",
       "      <td>37.251963</td>\n",
       "    </tr>\n",
       "  </tbody>\n",
       "</table>\n",
       "</div>"
      ],
      "text/plain": [
       "                 Winner Outcome          Loser            WeightClass Method  \\\n",
       "0  Germaine de Randamie    def.     Holly Holm  Women's Featherweight  U-DEC   \n",
       "1        Anderson Silva    def.  Derek Brunson           Middleweight  U-DEC   \n",
       "2          Jacare Souza    def.    Tim Boetsch           Middleweight    SUB   \n",
       "\n",
       "  MethodNotes  Round  Time                          Event       Date  \\\n",
       "0         NaN      5  5:00  UFC 208: Holm vs. De Randamie 2017-02-11   \n",
       "1         NaN      3  5:00  UFC 208: Holm vs. De Randamie 2017-02-11   \n",
       "2      Kimura      1  3:41  UFC 208: Holm vs. De Randamie 2017-02-11   \n",
       "\n",
       "                  Location                  Name  Weight  Height  Reach  \\\n",
       "0  New York, New York, USA  Germaine de Randamie   145.0    69.0   71.0   \n",
       "1  New York, New York, USA        Anderson Silva   185.0    74.0   77.0   \n",
       "2  New York, New York, USA          Jacare Souza   185.0    73.0   72.0   \n",
       "\n",
       "   LegReach    Stance        Dob        Age  \n",
       "0      41.0  Orthodox 1984-04-24  32.871312  \n",
       "1      42.0  Southpaw 1975-04-14  41.900929  \n",
       "2      41.0  Orthodox 1979-12-07  37.251963  "
      ]
     },
     "execution_count": 26,
     "metadata": {},
     "output_type": "execute_result"
    }
   ],
   "source": [
    "df.head(3)"
   ]
  },
  {
   "cell_type": "code",
   "execution_count": 27,
   "metadata": {
    "collapsed": false
   },
   "outputs": [
    {
     "data": {
      "text/plain": [
       "(4068, 27)"
      ]
     },
     "execution_count": 27,
     "metadata": {},
     "output_type": "execute_result"
    }
   ],
   "source": [
    "df = df.merge(fighters[cols], how='left', left_on='Loser', right_on='Name', suffixes=('', '_L'))\n",
    "df.shape"
   ]
  },
  {
   "cell_type": "code",
   "execution_count": 28,
   "metadata": {
    "collapsed": false
   },
   "outputs": [
    {
     "data": {
      "text/html": [
       "<div>\n",
       "<table border=\"1\" class=\"dataframe\">\n",
       "  <thead>\n",
       "    <tr style=\"text-align: right;\">\n",
       "      <th></th>\n",
       "      <th>Winner</th>\n",
       "      <th>Outcome</th>\n",
       "      <th>Loser</th>\n",
       "      <th>WeightClass</th>\n",
       "      <th>Method</th>\n",
       "      <th>MethodNotes</th>\n",
       "      <th>Round</th>\n",
       "      <th>Time</th>\n",
       "      <th>Event</th>\n",
       "      <th>Date</th>\n",
       "      <th>...</th>\n",
       "      <th>Dob</th>\n",
       "      <th>Age</th>\n",
       "      <th>Name_L</th>\n",
       "      <th>Weight_L</th>\n",
       "      <th>Height_L</th>\n",
       "      <th>Reach_L</th>\n",
       "      <th>LegReach_L</th>\n",
       "      <th>Stance_L</th>\n",
       "      <th>Dob_L</th>\n",
       "      <th>Age_L</th>\n",
       "    </tr>\n",
       "  </thead>\n",
       "  <tbody>\n",
       "    <tr>\n",
       "      <th>0</th>\n",
       "      <td>Germaine de Randamie</td>\n",
       "      <td>def.</td>\n",
       "      <td>Holly Holm</td>\n",
       "      <td>Women's Featherweight</td>\n",
       "      <td>U-DEC</td>\n",
       "      <td>NaN</td>\n",
       "      <td>5</td>\n",
       "      <td>5:00</td>\n",
       "      <td>UFC 208: Holm vs. De Randamie</td>\n",
       "      <td>2017-02-11</td>\n",
       "      <td>...</td>\n",
       "      <td>1984-04-24</td>\n",
       "      <td>32.871312</td>\n",
       "      <td>Holly Holm</td>\n",
       "      <td>145.0</td>\n",
       "      <td>68.0</td>\n",
       "      <td>69.0</td>\n",
       "      <td>38.0</td>\n",
       "      <td>Southpaw</td>\n",
       "      <td>1981-10-17</td>\n",
       "      <td>35.390186</td>\n",
       "    </tr>\n",
       "    <tr>\n",
       "      <th>1</th>\n",
       "      <td>Anderson Silva</td>\n",
       "      <td>def.</td>\n",
       "      <td>Derek Brunson</td>\n",
       "      <td>Middleweight</td>\n",
       "      <td>U-DEC</td>\n",
       "      <td>NaN</td>\n",
       "      <td>3</td>\n",
       "      <td>5:00</td>\n",
       "      <td>UFC 208: Holm vs. De Randamie</td>\n",
       "      <td>2017-02-11</td>\n",
       "      <td>...</td>\n",
       "      <td>1975-04-14</td>\n",
       "      <td>41.900929</td>\n",
       "      <td>Derek Brunson</td>\n",
       "      <td>185.0</td>\n",
       "      <td>73.0</td>\n",
       "      <td>77.0</td>\n",
       "      <td>43.0</td>\n",
       "      <td>Southpaw</td>\n",
       "      <td>1984-01-04</td>\n",
       "      <td>33.175219</td>\n",
       "    </tr>\n",
       "    <tr>\n",
       "      <th>2</th>\n",
       "      <td>Jacare Souza</td>\n",
       "      <td>def.</td>\n",
       "      <td>Tim Boetsch</td>\n",
       "      <td>Middleweight</td>\n",
       "      <td>SUB</td>\n",
       "      <td>Kimura</td>\n",
       "      <td>1</td>\n",
       "      <td>3:41</td>\n",
       "      <td>UFC 208: Holm vs. De Randamie</td>\n",
       "      <td>2017-02-11</td>\n",
       "      <td>...</td>\n",
       "      <td>1979-12-07</td>\n",
       "      <td>37.251963</td>\n",
       "      <td>Tim Boetsch</td>\n",
       "      <td>185.0</td>\n",
       "      <td>72.0</td>\n",
       "      <td>74.0</td>\n",
       "      <td>42.0</td>\n",
       "      <td>Orthodox</td>\n",
       "      <td>1981-01-28</td>\n",
       "      <td>36.107518</td>\n",
       "    </tr>\n",
       "  </tbody>\n",
       "</table>\n",
       "<p>3 rows × 27 columns</p>\n",
       "</div>"
      ],
      "text/plain": [
       "                 Winner Outcome          Loser            WeightClass Method  \\\n",
       "0  Germaine de Randamie    def.     Holly Holm  Women's Featherweight  U-DEC   \n",
       "1        Anderson Silva    def.  Derek Brunson           Middleweight  U-DEC   \n",
       "2          Jacare Souza    def.    Tim Boetsch           Middleweight    SUB   \n",
       "\n",
       "  MethodNotes  Round  Time                          Event       Date  \\\n",
       "0         NaN      5  5:00  UFC 208: Holm vs. De Randamie 2017-02-11   \n",
       "1         NaN      3  5:00  UFC 208: Holm vs. De Randamie 2017-02-11   \n",
       "2      Kimura      1  3:41  UFC 208: Holm vs. De Randamie 2017-02-11   \n",
       "\n",
       "     ...            Dob        Age         Name_L  Weight_L  Height_L  \\\n",
       "0    ...     1984-04-24  32.871312     Holly Holm     145.0      68.0   \n",
       "1    ...     1975-04-14  41.900929  Derek Brunson     185.0      73.0   \n",
       "2    ...     1979-12-07  37.251963    Tim Boetsch     185.0      72.0   \n",
       "\n",
       "   Reach_L LegReach_L  Stance_L      Dob_L      Age_L  \n",
       "0     69.0       38.0  Southpaw 1981-10-17  35.390186  \n",
       "1     77.0       43.0  Southpaw 1984-01-04  33.175219  \n",
       "2     74.0       42.0  Orthodox 1981-01-28  36.107518  \n",
       "\n",
       "[3 rows x 27 columns]"
      ]
     },
     "execution_count": 28,
     "metadata": {},
     "output_type": "execute_result"
    }
   ],
   "source": [
    "df.head(3)"
   ]
  },
  {
   "cell_type": "code",
   "execution_count": 29,
   "metadata": {
    "collapsed": false
   },
   "outputs": [],
   "source": [
    "#df = df.drop(['Name', 'Name_L'], axis=1)"
   ]
  },
  {
   "cell_type": "code",
   "execution_count": 30,
   "metadata": {
    "collapsed": false,
    "scrolled": false
   },
   "outputs": [
    {
     "data": {
      "text/html": [
       "<div>\n",
       "<table border=\"1\" class=\"dataframe\">\n",
       "  <thead>\n",
       "    <tr style=\"text-align: right;\">\n",
       "      <th></th>\n",
       "      <th>Winner</th>\n",
       "      <th>Age</th>\n",
       "      <th>Loser</th>\n",
       "      <th>Age_L</th>\n",
       "    </tr>\n",
       "  </thead>\n",
       "  <tbody>\n",
       "    <tr>\n",
       "      <th>4</th>\n",
       "      <td>Dustin Poirier</td>\n",
       "      <td>28.131994</td>\n",
       "      <td>Jim Miller</td>\n",
       "      <td>33.522933</td>\n",
       "    </tr>\n",
       "    <tr>\n",
       "      <th>7</th>\n",
       "      <td>Islam Makhachev</td>\n",
       "      <td>25.363971</td>\n",
       "      <td>Nik Lentz</td>\n",
       "      <td>32.567404</td>\n",
       "    </tr>\n",
       "    <tr>\n",
       "      <th>8</th>\n",
       "      <td>Rick Glenn</td>\n",
       "      <td>27.904748</td>\n",
       "      <td>Phillipe Nover</td>\n",
       "      <td>33.093082</td>\n",
       "    </tr>\n",
       "    <tr>\n",
       "      <th>9</th>\n",
       "      <td>Ryan LaFlare</td>\n",
       "      <td>33.435320</td>\n",
       "      <td>Roan Carneiro</td>\n",
       "      <td>38.766025</td>\n",
       "    </tr>\n",
       "    <tr>\n",
       "      <th>13</th>\n",
       "      <td>Volkan Oezdemir</td>\n",
       "      <td>27.466683</td>\n",
       "      <td>Ovince Saint Preux</td>\n",
       "      <td>33.917192</td>\n",
       "    </tr>\n",
       "    <tr>\n",
       "      <th>14</th>\n",
       "      <td>Marcel Fortuna</td>\n",
       "      <td>31.376414</td>\n",
       "      <td>Anthony Hamilton</td>\n",
       "      <td>36.898773</td>\n",
       "    </tr>\n",
       "    <tr>\n",
       "      <th>15</th>\n",
       "      <td>Jessica Andrade</td>\n",
       "      <td>25.451584</td>\n",
       "      <td>Angela Hill</td>\n",
       "      <td>32.151242</td>\n",
       "    </tr>\n",
       "    <tr>\n",
       "      <th>21</th>\n",
       "      <td>Khalil Rountree Jr.</td>\n",
       "      <td>27.028618</td>\n",
       "      <td>Daniel Jolly</td>\n",
       "      <td>32.509908</td>\n",
       "    </tr>\n",
       "    <tr>\n",
       "      <th>24</th>\n",
       "      <td>Francis Ngannou</td>\n",
       "      <td>30.505760</td>\n",
       "      <td>Andrei Arlovski</td>\n",
       "      <td>38.089762</td>\n",
       "    </tr>\n",
       "    <tr>\n",
       "      <th>26</th>\n",
       "      <td>Sam Alvey</td>\n",
       "      <td>30.839785</td>\n",
       "      <td>Nate Marquardt</td>\n",
       "      <td>37.884419</td>\n",
       "    </tr>\n",
       "    <tr>\n",
       "      <th>34</th>\n",
       "      <td>Yair Rodriguez</td>\n",
       "      <td>24.419393</td>\n",
       "      <td>BJ Penn</td>\n",
       "      <td>38.234871</td>\n",
       "    </tr>\n",
       "    <tr>\n",
       "      <th>37</th>\n",
       "      <td>Sergio Pettis</td>\n",
       "      <td>23.554214</td>\n",
       "      <td>John Moraga</td>\n",
       "      <td>32.967138</td>\n",
       "    </tr>\n",
       "    <tr>\n",
       "      <th>47</th>\n",
       "      <td>Cody Garbrandt</td>\n",
       "      <td>25.670616</td>\n",
       "      <td>Dominick Cruz</td>\n",
       "      <td>31.997919</td>\n",
       "    </tr>\n",
       "    <tr>\n",
       "      <th>53</th>\n",
       "      <td>Alex Garcia</td>\n",
       "      <td>29.651533</td>\n",
       "      <td>Mike Pyle</td>\n",
       "      <td>41.471077</td>\n",
       "    </tr>\n",
       "    <tr>\n",
       "      <th>67</th>\n",
       "      <td>Hector Sandoval</td>\n",
       "      <td>30.637179</td>\n",
       "      <td>Fredy Serrano</td>\n",
       "      <td>37.460044</td>\n",
       "    </tr>\n",
       "    <tr>\n",
       "      <th>72</th>\n",
       "      <td>Kelvin Gastelum</td>\n",
       "      <td>25.372184</td>\n",
       "      <td>Tim Kennedy</td>\n",
       "      <td>37.517540</td>\n",
       "    </tr>\n",
       "    <tr>\n",
       "      <th>76</th>\n",
       "      <td>Viviane Pereira</td>\n",
       "      <td>23.526835</td>\n",
       "      <td>Valerie Letourneau</td>\n",
       "      <td>33.859696</td>\n",
       "    </tr>\n",
       "    <tr>\n",
       "      <th>78</th>\n",
       "      <td>Lando Vannata</td>\n",
       "      <td>24.983401</td>\n",
       "      <td>John Makdessi</td>\n",
       "      <td>31.847334</td>\n",
       "    </tr>\n",
       "    <tr>\n",
       "      <th>80</th>\n",
       "      <td>Dustin Ortiz</td>\n",
       "      <td>28.200442</td>\n",
       "      <td>Zach Makovsky</td>\n",
       "      <td>33.887075</td>\n",
       "    </tr>\n",
       "    <tr>\n",
       "      <th>82</th>\n",
       "      <td>Francis Ngannou</td>\n",
       "      <td>30.505760</td>\n",
       "      <td>Anthony Hamilton</td>\n",
       "      <td>36.898773</td>\n",
       "    </tr>\n",
       "    <tr>\n",
       "      <th>83</th>\n",
       "      <td>Corey Anderson</td>\n",
       "      <td>27.458469</td>\n",
       "      <td>Sean O'Connell</td>\n",
       "      <td>33.514720</td>\n",
       "    </tr>\n",
       "    <tr>\n",
       "      <th>88</th>\n",
       "      <td>Andrew Sanchez</td>\n",
       "      <td>28.915036</td>\n",
       "      <td>Trevor Smith</td>\n",
       "      <td>36.170489</td>\n",
       "    </tr>\n",
       "    <tr>\n",
       "      <th>99</th>\n",
       "      <td>Ryan Hall</td>\n",
       "      <td>32.038988</td>\n",
       "      <td>Gray Maynard</td>\n",
       "      <td>37.832399</td>\n",
       "    </tr>\n",
       "    <tr>\n",
       "      <th>104</th>\n",
       "      <td>Devin Clark</td>\n",
       "      <td>26.905412</td>\n",
       "      <td>Josh Stansbury</td>\n",
       "      <td>32.299089</td>\n",
       "    </tr>\n",
       "    <tr>\n",
       "      <th>105</th>\n",
       "      <td>Robert Whittaker</td>\n",
       "      <td>26.215460</td>\n",
       "      <td>Derek Brunson</td>\n",
       "      <td>33.175219</td>\n",
       "    </tr>\n",
       "    <tr>\n",
       "      <th>107</th>\n",
       "      <td>Omari Akhmedov</td>\n",
       "      <td>29.405121</td>\n",
       "      <td>Kyle Noke</td>\n",
       "      <td>36.972696</td>\n",
       "    </tr>\n",
       "    <tr>\n",
       "      <th>116</th>\n",
       "      <td>Marlon Vera</td>\n",
       "      <td>24.263332</td>\n",
       "      <td>Ning Guangyou</td>\n",
       "      <td>35.228649</td>\n",
       "    </tr>\n",
       "    <tr>\n",
       "      <th>118</th>\n",
       "      <td>Ryan Bader</td>\n",
       "      <td>33.752918</td>\n",
       "      <td>Rogerio Nogueira</td>\n",
       "      <td>40.764697</td>\n",
       "    </tr>\n",
       "    <tr>\n",
       "      <th>121</th>\n",
       "      <td>Krzysztof Jotko</td>\n",
       "      <td>27.551558</td>\n",
       "      <td>Thales Leites</td>\n",
       "      <td>35.502440</td>\n",
       "    </tr>\n",
       "    <tr>\n",
       "      <th>127</th>\n",
       "      <td>Luis Henrique</td>\n",
       "      <td>23.546000</td>\n",
       "      <td>Christian Colombo</td>\n",
       "      <td>36.685216</td>\n",
       "    </tr>\n",
       "    <tr>\n",
       "      <th>...</th>\n",
       "      <td>...</td>\n",
       "      <td>...</td>\n",
       "      <td>...</td>\n",
       "      <td>...</td>\n",
       "    </tr>\n",
       "    <tr>\n",
       "      <th>3778</th>\n",
       "      <td>Carlos Newton</td>\n",
       "      <td>40.556616</td>\n",
       "      <td>Pat Miletich</td>\n",
       "      <td>48.997584</td>\n",
       "    </tr>\n",
       "    <tr>\n",
       "      <th>3801</th>\n",
       "      <td>Renato Sobral</td>\n",
       "      <td>41.501194</td>\n",
       "      <td>Maurice Smith</td>\n",
       "      <td>55.234536</td>\n",
       "    </tr>\n",
       "    <tr>\n",
       "      <th>3807</th>\n",
       "      <td>Pedro Rizzo</td>\n",
       "      <td>42.848245</td>\n",
       "      <td>Dan Severn</td>\n",
       "      <td>58.750009</td>\n",
       "    </tr>\n",
       "    <tr>\n",
       "      <th>3809</th>\n",
       "      <td>Jeremy Horn</td>\n",
       "      <td>41.536787</td>\n",
       "      <td>Eugene Jackson</td>\n",
       "      <td>50.456888</td>\n",
       "    </tr>\n",
       "    <tr>\n",
       "      <th>3813</th>\n",
       "      <td>Jeff Monson</td>\n",
       "      <td>46.136471</td>\n",
       "      <td>Tim Lajcik</td>\n",
       "      <td>51.713588</td>\n",
       "    </tr>\n",
       "    <tr>\n",
       "      <th>3822</th>\n",
       "      <td>Shonie Carter</td>\n",
       "      <td>44.846917</td>\n",
       "      <td>Adrian Serrano</td>\n",
       "      <td>53.208485</td>\n",
       "    </tr>\n",
       "    <tr>\n",
       "      <th>3839</th>\n",
       "      <td>Joe Slick</td>\n",
       "      <td>39.390268</td>\n",
       "      <td>Jason DeLucia</td>\n",
       "      <td>47.623154</td>\n",
       "    </tr>\n",
       "    <tr>\n",
       "      <th>3847</th>\n",
       "      <td>Chuck Liddell</td>\n",
       "      <td>47.223420</td>\n",
       "      <td>Paul Jones</td>\n",
       "      <td>53.728687</td>\n",
       "    </tr>\n",
       "    <tr>\n",
       "      <th>3860</th>\n",
       "      <td>Pedro Rizzo</td>\n",
       "      <td>42.848245</td>\n",
       "      <td>Tra Telligman</td>\n",
       "      <td>52.080467</td>\n",
       "    </tr>\n",
       "    <tr>\n",
       "      <th>3866</th>\n",
       "      <td>Tito Ortiz</td>\n",
       "      <td>42.122699</td>\n",
       "      <td>Guy Mezger</td>\n",
       "      <td>49.183761</td>\n",
       "    </tr>\n",
       "    <tr>\n",
       "      <th>3868</th>\n",
       "      <td>Jeremy Horn</td>\n",
       "      <td>41.536787</td>\n",
       "      <td>Chuck Liddell</td>\n",
       "      <td>47.223420</td>\n",
       "    </tr>\n",
       "    <tr>\n",
       "      <th>3869</th>\n",
       "      <td>Kevin Randleman</td>\n",
       "      <td>45.577938</td>\n",
       "      <td>Maurice Smith</td>\n",
       "      <td>55.234536</td>\n",
       "    </tr>\n",
       "    <tr>\n",
       "      <th>3875</th>\n",
       "      <td>Pedro Rizzo</td>\n",
       "      <td>42.848245</td>\n",
       "      <td>Mark Coleman</td>\n",
       "      <td>52.214625</td>\n",
       "    </tr>\n",
       "    <tr>\n",
       "      <th>3877</th>\n",
       "      <td>Mikey Burnett</td>\n",
       "      <td>42.905741</td>\n",
       "      <td>Townsend Saunders</td>\n",
       "      <td>49.884666</td>\n",
       "    </tr>\n",
       "    <tr>\n",
       "      <th>3889</th>\n",
       "      <td>Pete Williams</td>\n",
       "      <td>41.662731</td>\n",
       "      <td>Mark Coleman</td>\n",
       "      <td>52.214625</td>\n",
       "    </tr>\n",
       "    <tr>\n",
       "      <th>3900</th>\n",
       "      <td>Jerry Bohlander</td>\n",
       "      <td>43.067277</td>\n",
       "      <td>Kevin Jackson</td>\n",
       "      <td>52.283072</td>\n",
       "    </tr>\n",
       "    <tr>\n",
       "      <th>3907</th>\n",
       "      <td>Vitor Belfort</td>\n",
       "      <td>39.935112</td>\n",
       "      <td>Joe Charles</td>\n",
       "      <td>58.640492</td>\n",
       "    </tr>\n",
       "    <tr>\n",
       "      <th>3908</th>\n",
       "      <td>Frank Shamrock</td>\n",
       "      <td>44.247315</td>\n",
       "      <td>Kevin Jackson</td>\n",
       "      <td>52.283072</td>\n",
       "    </tr>\n",
       "    <tr>\n",
       "      <th>3937</th>\n",
       "      <td>Mark Coleman</td>\n",
       "      <td>52.214625</td>\n",
       "      <td>Dan Severn</td>\n",
       "      <td>58.750009</td>\n",
       "    </tr>\n",
       "    <tr>\n",
       "      <th>3938</th>\n",
       "      <td>Vitor Belfort</td>\n",
       "      <td>39.935112</td>\n",
       "      <td>Scott Ferrozzo</td>\n",
       "      <td>51.866910</td>\n",
       "    </tr>\n",
       "    <tr>\n",
       "      <th>3940</th>\n",
       "      <td>Vitor Belfort</td>\n",
       "      <td>39.935112</td>\n",
       "      <td>Tra Telligman</td>\n",
       "      <td>52.080467</td>\n",
       "    </tr>\n",
       "    <tr>\n",
       "      <th>3985</th>\n",
       "      <td>Jerry Bohlander</td>\n",
       "      <td>43.067277</td>\n",
       "      <td>Scott Ferrozzo</td>\n",
       "      <td>51.866910</td>\n",
       "    </tr>\n",
       "    <tr>\n",
       "      <th>3986</th>\n",
       "      <td>Paul Varelans</td>\n",
       "      <td>47.472570</td>\n",
       "      <td>Joe Moreira</td>\n",
       "      <td>55.680815</td>\n",
       "    </tr>\n",
       "    <tr>\n",
       "      <th>3990</th>\n",
       "      <td>Oleg Taktarov</td>\n",
       "      <td>49.534214</td>\n",
       "      <td>Marco Ruas</td>\n",
       "      <td>56.121618</td>\n",
       "    </tr>\n",
       "    <tr>\n",
       "      <th>4010</th>\n",
       "      <td>Ken Shamrock</td>\n",
       "      <td>53.071589</td>\n",
       "      <td>Dan Severn</td>\n",
       "      <td>58.750009</td>\n",
       "    </tr>\n",
       "    <tr>\n",
       "      <th>4015</th>\n",
       "      <td>Paul Varelans</td>\n",
       "      <td>47.472570</td>\n",
       "      <td>Cal Worsham</td>\n",
       "      <td>53.742377</td>\n",
       "    </tr>\n",
       "    <tr>\n",
       "      <th>4029</th>\n",
       "      <td>Royce Gracie</td>\n",
       "      <td>50.237856</td>\n",
       "      <td>Dan Severn</td>\n",
       "      <td>58.750009</td>\n",
       "    </tr>\n",
       "    <tr>\n",
       "      <th>4031</th>\n",
       "      <td>Royce Gracie</td>\n",
       "      <td>50.237856</td>\n",
       "      <td>Keith Hackney</td>\n",
       "      <td>58.897856</td>\n",
       "    </tr>\n",
       "    <tr>\n",
       "      <th>4035</th>\n",
       "      <td>Royce Gracie</td>\n",
       "      <td>50.237856</td>\n",
       "      <td>Ron van Clief</td>\n",
       "      <td>74.117881</td>\n",
       "    </tr>\n",
       "    <tr>\n",
       "      <th>4060</th>\n",
       "      <td>Royce Gracie</td>\n",
       "      <td>50.237856</td>\n",
       "      <td>Gerard Gordeau</td>\n",
       "      <td>57.942326</td>\n",
       "    </tr>\n",
       "  </tbody>\n",
       "</table>\n",
       "<p>751 rows × 4 columns</p>\n",
       "</div>"
      ],
      "text/plain": [
       "                   Winner        Age               Loser      Age_L\n",
       "4          Dustin Poirier  28.131994          Jim Miller  33.522933\n",
       "7         Islam Makhachev  25.363971           Nik Lentz  32.567404\n",
       "8              Rick Glenn  27.904748      Phillipe Nover  33.093082\n",
       "9            Ryan LaFlare  33.435320       Roan Carneiro  38.766025\n",
       "13        Volkan Oezdemir  27.466683  Ovince Saint Preux  33.917192\n",
       "14         Marcel Fortuna  31.376414    Anthony Hamilton  36.898773\n",
       "15        Jessica Andrade  25.451584         Angela Hill  32.151242\n",
       "21    Khalil Rountree Jr.  27.028618        Daniel Jolly  32.509908\n",
       "24        Francis Ngannou  30.505760     Andrei Arlovski  38.089762\n",
       "26              Sam Alvey  30.839785      Nate Marquardt  37.884419\n",
       "34         Yair Rodriguez  24.419393             BJ Penn  38.234871\n",
       "37          Sergio Pettis  23.554214         John Moraga  32.967138\n",
       "47         Cody Garbrandt  25.670616       Dominick Cruz  31.997919\n",
       "53            Alex Garcia  29.651533           Mike Pyle  41.471077\n",
       "67        Hector Sandoval  30.637179       Fredy Serrano  37.460044\n",
       "72        Kelvin Gastelum  25.372184         Tim Kennedy  37.517540\n",
       "76        Viviane Pereira  23.526835  Valerie Letourneau  33.859696\n",
       "78          Lando Vannata  24.983401       John Makdessi  31.847334\n",
       "80           Dustin Ortiz  28.200442       Zach Makovsky  33.887075\n",
       "82        Francis Ngannou  30.505760    Anthony Hamilton  36.898773\n",
       "83         Corey Anderson  27.458469      Sean O'Connell  33.514720\n",
       "88         Andrew Sanchez  28.915036        Trevor Smith  36.170489\n",
       "99              Ryan Hall  32.038988        Gray Maynard  37.832399\n",
       "104           Devin Clark  26.905412      Josh Stansbury  32.299089\n",
       "105      Robert Whittaker  26.215460       Derek Brunson  33.175219\n",
       "107        Omari Akhmedov  29.405121           Kyle Noke  36.972696\n",
       "116           Marlon Vera  24.263332       Ning Guangyou  35.228649\n",
       "118            Ryan Bader  33.752918    Rogerio Nogueira  40.764697\n",
       "121       Krzysztof Jotko  27.551558       Thales Leites  35.502440\n",
       "127         Luis Henrique  23.546000   Christian Colombo  36.685216\n",
       "...                   ...        ...                 ...        ...\n",
       "3778        Carlos Newton  40.556616        Pat Miletich  48.997584\n",
       "3801        Renato Sobral  41.501194       Maurice Smith  55.234536\n",
       "3807          Pedro Rizzo  42.848245          Dan Severn  58.750009\n",
       "3809          Jeremy Horn  41.536787      Eugene Jackson  50.456888\n",
       "3813          Jeff Monson  46.136471          Tim Lajcik  51.713588\n",
       "3822        Shonie Carter  44.846917      Adrian Serrano  53.208485\n",
       "3839            Joe Slick  39.390268       Jason DeLucia  47.623154\n",
       "3847        Chuck Liddell  47.223420          Paul Jones  53.728687\n",
       "3860          Pedro Rizzo  42.848245       Tra Telligman  52.080467\n",
       "3866           Tito Ortiz  42.122699          Guy Mezger  49.183761\n",
       "3868          Jeremy Horn  41.536787       Chuck Liddell  47.223420\n",
       "3869      Kevin Randleman  45.577938       Maurice Smith  55.234536\n",
       "3875          Pedro Rizzo  42.848245        Mark Coleman  52.214625\n",
       "3877        Mikey Burnett  42.905741   Townsend Saunders  49.884666\n",
       "3889        Pete Williams  41.662731        Mark Coleman  52.214625\n",
       "3900      Jerry Bohlander  43.067277       Kevin Jackson  52.283072\n",
       "3907        Vitor Belfort  39.935112         Joe Charles  58.640492\n",
       "3908       Frank Shamrock  44.247315       Kevin Jackson  52.283072\n",
       "3937         Mark Coleman  52.214625          Dan Severn  58.750009\n",
       "3938        Vitor Belfort  39.935112      Scott Ferrozzo  51.866910\n",
       "3940        Vitor Belfort  39.935112       Tra Telligman  52.080467\n",
       "3985      Jerry Bohlander  43.067277      Scott Ferrozzo  51.866910\n",
       "3986        Paul Varelans  47.472570         Joe Moreira  55.680815\n",
       "3990        Oleg Taktarov  49.534214          Marco Ruas  56.121618\n",
       "4010         Ken Shamrock  53.071589          Dan Severn  58.750009\n",
       "4015        Paul Varelans  47.472570         Cal Worsham  53.742377\n",
       "4029         Royce Gracie  50.237856          Dan Severn  58.750009\n",
       "4031         Royce Gracie  50.237856       Keith Hackney  58.897856\n",
       "4035         Royce Gracie  50.237856       Ron van Clief  74.117881\n",
       "4060         Royce Gracie  50.237856      Gerard Gordeau  57.942326\n",
       "\n",
       "[751 rows x 4 columns]"
      ]
     },
     "execution_count": 30,
     "metadata": {},
     "output_type": "execute_result"
    }
   ],
   "source": [
    "df[df.Dob - df.Dob_L > np.timedelta64(5, 'Y')][['Winner', 'Age', 'Loser', 'Age_L']]"
   ]
  },
  {
   "cell_type": "code",
   "execution_count": 31,
   "metadata": {
    "collapsed": false
   },
   "outputs": [],
   "source": [
    "wins = df[(df.Outcome == 'def.') & (df.Date > np.datetime64('2005-01-01')) & pd.notnull(df.Dob) & pd.notnull(df.Dob_L)].copy()\n",
    "wins['Age'] = (wins.Date - wins.Dob) / np.timedelta64(1, 'Y')\n",
    "wins['Age_L'] = (wins.Date - wins.Dob_L) / np.timedelta64(1, 'Y')"
   ]
  },
  {
   "cell_type": "code",
   "execution_count": 32,
   "metadata": {
    "collapsed": false
   },
   "outputs": [
    {
     "data": {
      "text/plain": [
       "0.6242038216560509"
      ]
     },
     "execution_count": 32,
     "metadata": {},
     "output_type": "execute_result"
    }
   ],
   "source": [
    "msk1 = wins.Age < 25\n",
    "msk2 = wins.Age_L < 25\n",
    "under25 = float(wins[msk1].shape[0]) / wins[msk1 | msk2].shape[0]\n",
    "under25"
   ]
  },
  {
   "cell_type": "code",
   "execution_count": 33,
   "metadata": {
    "collapsed": false
   },
   "outputs": [
    {
     "data": {
      "text/plain": [
       "(490, 371)"
      ]
     },
     "execution_count": 33,
     "metadata": {},
     "output_type": "execute_result"
    }
   ],
   "source": [
    "wins[msk1].shape[0], wins[msk2].shape[0]"
   ]
  },
  {
   "cell_type": "code",
   "execution_count": 34,
   "metadata": {
    "collapsed": false
   },
   "outputs": [
    {
     "data": {
      "text/plain": [
       "0.6313905930470347"
      ]
     },
     "execution_count": 34,
     "metadata": {},
     "output_type": "execute_result"
    }
   ],
   "source": [
    "msk1 = (wins.Age >= 25) & (wins.Age <= 29)\n",
    "msk2 = (wins.Age_L >= 25) & (wins.Age_L <= 29)\n",
    "over25under30 = float(wins[msk1].shape[0]) / wins[msk1 | msk2].shape[0]\n",
    "over25under30"
   ]
  },
  {
   "cell_type": "code",
   "execution_count": 35,
   "metadata": {
    "collapsed": false
   },
   "outputs": [
    {
     "data": {
      "text/plain": [
       "(1235, 1118)"
      ]
     },
     "execution_count": 35,
     "metadata": {},
     "output_type": "execute_result"
    }
   ],
   "source": [
    "wins[msk1].shape[0], wins[msk2].shape[0]"
   ]
  },
  {
   "cell_type": "code",
   "execution_count": 36,
   "metadata": {
    "collapsed": false
   },
   "outputs": [
    {
     "data": {
      "text/plain": [
       "0.5838264299802761"
      ]
     },
     "execution_count": 36,
     "metadata": {},
     "output_type": "execute_result"
    }
   ],
   "source": [
    "msk1 = (wins.Age >= 30) & (wins.Age <= 35)\n",
    "msk2 = (wins.Age_L >= 30) & (wins.Age_L <= 35)\n",
    "over30under35 = float(wins[msk1].shape[0]) / wins[msk1 | msk2].shape[0]\n",
    "over30under35"
   ]
  },
  {
   "cell_type": "code",
   "execution_count": 37,
   "metadata": {
    "collapsed": false
   },
   "outputs": [
    {
     "data": {
      "text/plain": [
       "(1184, 1310)"
      ]
     },
     "execution_count": 37,
     "metadata": {},
     "output_type": "execute_result"
    }
   ],
   "source": [
    "wins[msk1].shape[0], wins[msk2].shape[0]"
   ]
  },
  {
   "cell_type": "code",
   "execution_count": 38,
   "metadata": {
    "collapsed": false
   },
   "outputs": [
    {
     "data": {
      "text/plain": [
       "0.47126436781609193"
      ]
     },
     "execution_count": 38,
     "metadata": {},
     "output_type": "execute_result"
    }
   ],
   "source": [
    "msk1 = wins.Age > 35\n",
    "msk2 = wins.Age_L > 35\n",
    "over35 = float(wins[msk1].shape[0]) / wins[msk1 | msk2].shape[0]\n",
    "over35"
   ]
  },
  {
   "cell_type": "code",
   "execution_count": 39,
   "metadata": {
    "collapsed": false
   },
   "outputs": [
    {
     "data": {
      "text/plain": [
       "(287, 394)"
      ]
     },
     "execution_count": 39,
     "metadata": {},
     "output_type": "execute_result"
    }
   ],
   "source": [
    "wins[msk1].shape[0], wins[msk2].shape[0]"
   ]
  },
  {
   "cell_type": "code",
   "execution_count": 40,
   "metadata": {
    "collapsed": false
   },
   "outputs": [
    {
     "data": {
      "text/plain": [
       "72"
      ]
     },
     "execution_count": 40,
     "metadata": {},
     "output_type": "execute_result"
    }
   ],
   "source": [
    "wins[msk1 & msk2][['Name', 'Name_L', 'Age', 'Age_L']].shape[0]"
   ]
  },
  {
   "cell_type": "code",
   "execution_count": 41,
   "metadata": {
    "collapsed": false
   },
   "outputs": [
    {
     "data": {
      "text/plain": [
       "0.40037243947858475"
      ]
     },
     "execution_count": 41,
     "metadata": {},
     "output_type": "execute_result"
    }
   ],
   "source": [
    "msk1 = (wins.Age > 35) & (wins.Age_L < 35)\n",
    "msk2 = (wins.Age_L > 35) & (wins.Age < 35)\n",
    "over35 = float(wins[msk1].shape[0]) / wins[msk1 | msk2].shape[0]\n",
    "over35"
   ]
  },
  {
   "cell_type": "code",
   "execution_count": 42,
   "metadata": {
    "collapsed": false
   },
   "outputs": [
    {
     "data": {
      "text/plain": [
       "(215, 322)"
      ]
     },
     "execution_count": 42,
     "metadata": {},
     "output_type": "execute_result"
    }
   ],
   "source": [
    "wins[msk1].shape[0], wins[msk2].shape[0]"
   ]
  },
  {
   "cell_type": "code",
   "execution_count": 43,
   "metadata": {
    "collapsed": false
   },
   "outputs": [],
   "source": [
    "wins.Age = wins.Age.astype(int)\n",
    "wins.Age_L = wins.Age_L.astype(int)\n",
    "x=wins.Age.value_counts()/(wins.Age.value_counts() + wins.Age_L.value_counts())"
   ]
  },
  {
   "cell_type": "code",
   "execution_count": 47,
   "metadata": {
    "collapsed": false
   },
   "outputs": [
    {
     "data": {
      "text/plain": [
       "<matplotlib.text.Text at 0x104497ed0>"
      ]
     },
     "execution_count": 47,
     "metadata": {},
     "output_type": "execute_result"
    },
    {
     "data": {
      "image/png": "[encoded data removed]",
      "text/plain": [
       "<matplotlib.figure.Figure at 0x10f6b9850>"
      ]
     },
     "metadata": {},
     "output_type": "display_data"
    }
   ],
   "source": [
    "plt.plot(x.index, x.values, 'wo')\n",
    "plt.xlabel('Age')\n",
    "plt.ylabel('Win percentage')"
   ]
  },
  {
   "cell_type": "code",
   "execution_count": 45,
   "metadata": {
    "collapsed": false
   },
   "outputs": [
    {
     "data": {
      "text/plain": [
       "18      NaN\n",
       "19      4.0\n",
       "20     27.0\n",
       "21     61.0\n",
       "22    152.0\n",
       "23    256.0\n",
       "24    360.0\n",
       "25    465.0\n",
       "26    571.0\n",
       "27    637.0\n",
       "28    680.0\n",
       "29    671.0\n",
       "30    650.0\n",
       "31    610.0\n",
       "32    517.0\n",
       "33    385.0\n",
       "34    332.0\n",
       "35    225.0\n",
       "36    184.0\n",
       "37    113.0\n",
       "38     58.0\n",
       "39     36.0\n",
       "40     21.0\n",
       "41     12.0\n",
       "42     11.0\n",
       "43      6.0\n",
       "44      5.0\n",
       "45      4.0\n",
       "46      4.0\n",
       "47      2.0\n",
       "dtype: float64"
      ]
     },
     "execution_count": 45,
     "metadata": {},
     "output_type": "execute_result"
    }
   ],
   "source": [
    "wins.Age.value_counts() + wins.Age_L.value_counts()"
   ]
  },
  {
   "cell_type": "code",
   "execution_count": 46,
   "metadata": {
    "collapsed": false
   },
   "outputs": [
    {
     "data": {
      "text/plain": [
       "18         NaN\n",
       "19    0.750000\n",
       "20    0.592593\n",
       "21    0.590164\n",
       "22    0.559211\n",
       "23    0.562500\n",
       "24    0.572222\n",
       "25    0.522581\n",
       "26    0.525394\n",
       "27    0.555730\n",
       "28    0.497059\n",
       "29    0.497765\n",
       "30    0.512308\n",
       "31    0.496721\n",
       "32    0.470019\n",
       "33    0.451948\n",
       "34    0.394578\n",
       "35    0.453333\n",
       "36    0.407609\n",
       "37    0.433628\n",
       "38    0.396552\n",
       "39    0.416667\n",
       "40    0.380952\n",
       "41    0.333333\n",
       "42    0.181818\n",
       "43    0.333333\n",
       "44    0.600000\n",
       "45    0.250000\n",
       "46    0.500000\n",
       "47    0.500000\n",
       "dtype: float64"
      ]
     },
     "execution_count": 46,
     "metadata": {},
     "output_type": "execute_result"
    }
   ],
   "source": [
    "x"
   ]
  }
 ],
 "metadata": {
  "anaconda-cloud": {},
  "kernelspec": {
   "display_name": "Python [conda root]",
   "language": "python",
   "name": "conda-root-py"
  },
  "language_info": {
   "codemirror_mode": {
    "name": "ipython",
    "version": 2
   },
   "file_extension": ".py",
   "mimetype": "text/x-python",
   "name": "python",
   "nbconvert_exporter": "python",
   "pygments_lexer": "ipython2",
   "version": "2.7.12"
  }
 },
 "nbformat": 4,
 "nbformat_minor": 1
}
