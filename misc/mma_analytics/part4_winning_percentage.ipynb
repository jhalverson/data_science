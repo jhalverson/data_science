{
 "cells": [
  {
   "cell_type": "markdown",
   "metadata": {},
   "source": [
    "# Jonathan Halverson\n",
    "# Thursday, February 23, 2017\n",
    "# Part 4: Winning percentage by age of UFC fights"
   ]
  },
  {
   "cell_type": "code",
   "execution_count": 1,
   "metadata": {
    "collapsed": true
   },
   "outputs": [],
   "source": [
    "import numpy as np\n",
    "import pandas as pd\n",
    "import matplotlib.pyplot as plt\n",
    "plt.style.use('halverson')\n",
    "%matplotlib inline"
   ]
  },
  {
   "cell_type": "code",
   "execution_count": 2,
   "metadata": {
    "collapsed": false
   },
   "outputs": [
    {
     "data": {
      "text/html": [
       "<div>\n",
       "<table border=\"1\" class=\"dataframe\">\n",
       "  <thead>\n",
       "    <tr style=\"text-align: right;\">\n",
       "      <th></th>\n",
       "      <th>Winner</th>\n",
       "      <th>Outcome</th>\n",
       "      <th>Loser</th>\n",
       "      <th>WeightClass</th>\n",
       "      <th>Method</th>\n",
       "      <th>MethodNotes</th>\n",
       "      <th>Round</th>\n",
       "      <th>Time</th>\n",
       "      <th>Event</th>\n",
       "      <th>Date</th>\n",
       "      <th>Location</th>\n",
       "    </tr>\n",
       "  </thead>\n",
       "  <tbody>\n",
       "    <tr>\n",
       "      <th>0</th>\n",
       "      <td>Germaine de Randamie</td>\n",
       "      <td>def.</td>\n",
       "      <td>Holly Holm</td>\n",
       "      <td>Women's Featherweight</td>\n",
       "      <td>U-DEC</td>\n",
       "      <td>NaN</td>\n",
       "      <td>5</td>\n",
       "      <td>5:00</td>\n",
       "      <td>UFC 208: Holm vs. De Randamie</td>\n",
       "      <td>2017-02-11</td>\n",
       "      <td>New York, New York, USA</td>\n",
       "    </tr>\n",
       "    <tr>\n",
       "      <th>1</th>\n",
       "      <td>Anderson Silva</td>\n",
       "      <td>def.</td>\n",
       "      <td>Derek Brunson</td>\n",
       "      <td>Middleweight</td>\n",
       "      <td>U-DEC</td>\n",
       "      <td>NaN</td>\n",
       "      <td>3</td>\n",
       "      <td>5:00</td>\n",
       "      <td>UFC 208: Holm vs. De Randamie</td>\n",
       "      <td>2017-02-11</td>\n",
       "      <td>New York, New York, USA</td>\n",
       "    </tr>\n",
       "    <tr>\n",
       "      <th>2</th>\n",
       "      <td>Jacare Souza</td>\n",
       "      <td>def.</td>\n",
       "      <td>Tim Boetsch</td>\n",
       "      <td>Middleweight</td>\n",
       "      <td>SUB</td>\n",
       "      <td>Kimura</td>\n",
       "      <td>1</td>\n",
       "      <td>3:41</td>\n",
       "      <td>UFC 208: Holm vs. De Randamie</td>\n",
       "      <td>2017-02-11</td>\n",
       "      <td>New York, New York, USA</td>\n",
       "    </tr>\n",
       "  </tbody>\n",
       "</table>\n",
       "</div>"
      ],
      "text/plain": [
       "                 Winner Outcome          Loser            WeightClass Method  \\\n",
       "0  Germaine de Randamie    def.     Holly Holm  Women's Featherweight  U-DEC   \n",
       "1        Anderson Silva    def.  Derek Brunson           Middleweight  U-DEC   \n",
       "2          Jacare Souza    def.    Tim Boetsch           Middleweight    SUB   \n",
       "\n",
       "  MethodNotes  Round  Time                          Event       Date  \\\n",
       "0         NaN      5  5:00  UFC 208: Holm vs. De Randamie 2017-02-11   \n",
       "1         NaN      3  5:00  UFC 208: Holm vs. De Randamie 2017-02-11   \n",
       "2      Kimura      1  3:41  UFC 208: Holm vs. De Randamie 2017-02-11   \n",
       "\n",
       "                  Location  \n",
       "0  New York, New York, USA  \n",
       "1  New York, New York, USA  \n",
       "2  New York, New York, USA  "
      ]
     },
     "execution_count": 2,
     "metadata": {},
     "output_type": "execute_result"
    }
   ],
   "source": [
    "iofile = 'data/fightmetric_cards/fightmetric_fights_CLEAN_3-6-2017.csv'\n",
    "fights = pd.read_csv(iofile, header=0, parse_dates=['Date'])\n",
    "fights.head(3)"
   ]
  },
  {
   "cell_type": "code",
   "execution_count": 3,
   "metadata": {
    "collapsed": false
   },
   "outputs": [
    {
     "data": {
      "text/plain": [
       "(4068, 11)"
      ]
     },
     "execution_count": 3,
     "metadata": {},
     "output_type": "execute_result"
    }
   ],
   "source": [
    "fights.shape"
   ]
  },
  {
   "cell_type": "code",
   "execution_count": 4,
   "metadata": {
    "collapsed": false
   },
   "outputs": [
    {
     "data": {
      "text/html": [
       "<div>\n",
       "<table border=\"1\" class=\"dataframe\">\n",
       "  <thead>\n",
       "    <tr style=\"text-align: right;\">\n",
       "      <th></th>\n",
       "      <th>Name</th>\n",
       "      <th>Nickname</th>\n",
       "      <th>Dob</th>\n",
       "      <th>Weight</th>\n",
       "      <th>Height</th>\n",
       "      <th>Reach</th>\n",
       "      <th>LegReach</th>\n",
       "      <th>Stance</th>\n",
       "      <th>Win</th>\n",
       "      <th>Loss</th>\n",
       "      <th>Draw</th>\n",
       "    </tr>\n",
       "  </thead>\n",
       "  <tbody>\n",
       "    <tr>\n",
       "      <th>0</th>\n",
       "      <td>Tom Aaron</td>\n",
       "      <td>NaN</td>\n",
       "      <td>1978-07-13</td>\n",
       "      <td>155.0</td>\n",
       "      <td>NaN</td>\n",
       "      <td>NaN</td>\n",
       "      <td>NaN</td>\n",
       "      <td>NaN</td>\n",
       "      <td>5.0</td>\n",
       "      <td>3.0</td>\n",
       "      <td>0.0</td>\n",
       "    </tr>\n",
       "    <tr>\n",
       "      <th>1</th>\n",
       "      <td>Danny Abbadi</td>\n",
       "      <td>The Assassin</td>\n",
       "      <td>1983-07-03</td>\n",
       "      <td>155.0</td>\n",
       "      <td>71.0</td>\n",
       "      <td>NaN</td>\n",
       "      <td>NaN</td>\n",
       "      <td>Orthodox</td>\n",
       "      <td>4.0</td>\n",
       "      <td>6.0</td>\n",
       "      <td>0.0</td>\n",
       "    </tr>\n",
       "    <tr>\n",
       "      <th>2</th>\n",
       "      <td>David Abbott</td>\n",
       "      <td>Tank</td>\n",
       "      <td>NaT</td>\n",
       "      <td>265.0</td>\n",
       "      <td>72.0</td>\n",
       "      <td>NaN</td>\n",
       "      <td>NaN</td>\n",
       "      <td>Switch</td>\n",
       "      <td>10.0</td>\n",
       "      <td>14.0</td>\n",
       "      <td>0.0</td>\n",
       "    </tr>\n",
       "  </tbody>\n",
       "</table>\n",
       "</div>"
      ],
      "text/plain": [
       "           Name      Nickname        Dob  Weight  Height  Reach  LegReach  \\\n",
       "0     Tom Aaron           NaN 1978-07-13   155.0     NaN    NaN       NaN   \n",
       "1  Danny Abbadi  The Assassin 1983-07-03   155.0    71.0    NaN       NaN   \n",
       "2  David Abbott          Tank        NaT   265.0    72.0    NaN       NaN   \n",
       "\n",
       "     Stance   Win  Loss  Draw  \n",
       "0       NaN   5.0   3.0   0.0  \n",
       "1  Orthodox   4.0   6.0   0.0  \n",
       "2    Switch  10.0  14.0   0.0  "
      ]
     },
     "execution_count": 4,
     "metadata": {},
     "output_type": "execute_result"
    }
   ],
   "source": [
    "iofile = 'data/fightmetric_fighters_with_corrections_from_UFC_Wikipedia_CLEAN.csv'\n",
    "fighters = pd.read_csv(iofile, header=0, parse_dates=['Dob'])\n",
    "fighters.head(3)"
   ]
  },
  {
   "cell_type": "code",
   "execution_count": 5,
   "metadata": {
    "collapsed": false
   },
   "outputs": [
    {
     "data": {
      "text/plain": [
       "(4068, 18)"
      ]
     },
     "execution_count": 5,
     "metadata": {},
     "output_type": "execute_result"
    }
   ],
   "source": [
    "cols = ['Name', 'Weight', 'Height', 'Reach', 'LegReach', 'Stance', 'Dob']\n",
    "df = fights.merge(fighters[cols], how='left', left_on='Winner', right_on='Name')\n",
    "df.shape"
   ]
  },
  {
   "cell_type": "code",
   "execution_count": 6,
   "metadata": {
    "collapsed": false
   },
   "outputs": [
    {
     "data": {
      "text/html": [
       "<div>\n",
       "<table border=\"1\" class=\"dataframe\">\n",
       "  <thead>\n",
       "    <tr style=\"text-align: right;\">\n",
       "      <th></th>\n",
       "      <th>Winner</th>\n",
       "      <th>Outcome</th>\n",
       "      <th>Loser</th>\n",
       "      <th>WeightClass</th>\n",
       "      <th>Method</th>\n",
       "      <th>MethodNotes</th>\n",
       "      <th>Round</th>\n",
       "      <th>Time</th>\n",
       "      <th>Event</th>\n",
       "      <th>Date</th>\n",
       "      <th>Location</th>\n",
       "      <th>Name</th>\n",
       "      <th>Weight</th>\n",
       "      <th>Height</th>\n",
       "      <th>Reach</th>\n",
       "      <th>LegReach</th>\n",
       "      <th>Stance</th>\n",
       "      <th>Dob</th>\n",
       "    </tr>\n",
       "  </thead>\n",
       "  <tbody>\n",
       "    <tr>\n",
       "      <th>0</th>\n",
       "      <td>Germaine de Randamie</td>\n",
       "      <td>def.</td>\n",
       "      <td>Holly Holm</td>\n",
       "      <td>Women's Featherweight</td>\n",
       "      <td>U-DEC</td>\n",
       "      <td>NaN</td>\n",
       "      <td>5</td>\n",
       "      <td>5:00</td>\n",
       "      <td>UFC 208: Holm vs. De Randamie</td>\n",
       "      <td>2017-02-11</td>\n",
       "      <td>New York, New York, USA</td>\n",
       "      <td>Germaine de Randamie</td>\n",
       "      <td>145.0</td>\n",
       "      <td>69.0</td>\n",
       "      <td>71.0</td>\n",
       "      <td>41.0</td>\n",
       "      <td>Orthodox</td>\n",
       "      <td>1984-04-24</td>\n",
       "    </tr>\n",
       "    <tr>\n",
       "      <th>1</th>\n",
       "      <td>Anderson Silva</td>\n",
       "      <td>def.</td>\n",
       "      <td>Derek Brunson</td>\n",
       "      <td>Middleweight</td>\n",
       "      <td>U-DEC</td>\n",
       "      <td>NaN</td>\n",
       "      <td>3</td>\n",
       "      <td>5:00</td>\n",
       "      <td>UFC 208: Holm vs. De Randamie</td>\n",
       "      <td>2017-02-11</td>\n",
       "      <td>New York, New York, USA</td>\n",
       "      <td>Anderson Silva</td>\n",
       "      <td>185.0</td>\n",
       "      <td>74.0</td>\n",
       "      <td>77.0</td>\n",
       "      <td>42.0</td>\n",
       "      <td>Southpaw</td>\n",
       "      <td>1975-04-14</td>\n",
       "    </tr>\n",
       "    <tr>\n",
       "      <th>2</th>\n",
       "      <td>Jacare Souza</td>\n",
       "      <td>def.</td>\n",
       "      <td>Tim Boetsch</td>\n",
       "      <td>Middleweight</td>\n",
       "      <td>SUB</td>\n",
       "      <td>Kimura</td>\n",
       "      <td>1</td>\n",
       "      <td>3:41</td>\n",
       "      <td>UFC 208: Holm vs. De Randamie</td>\n",
       "      <td>2017-02-11</td>\n",
       "      <td>New York, New York, USA</td>\n",
       "      <td>Jacare Souza</td>\n",
       "      <td>185.0</td>\n",
       "      <td>73.0</td>\n",
       "      <td>72.0</td>\n",
       "      <td>41.0</td>\n",
       "      <td>Orthodox</td>\n",
       "      <td>1979-12-07</td>\n",
       "    </tr>\n",
       "  </tbody>\n",
       "</table>\n",
       "</div>"
      ],
      "text/plain": [
       "                 Winner Outcome          Loser            WeightClass Method  \\\n",
       "0  Germaine de Randamie    def.     Holly Holm  Women's Featherweight  U-DEC   \n",
       "1        Anderson Silva    def.  Derek Brunson           Middleweight  U-DEC   \n",
       "2          Jacare Souza    def.    Tim Boetsch           Middleweight    SUB   \n",
       "\n",
       "  MethodNotes  Round  Time                          Event       Date  \\\n",
       "0         NaN      5  5:00  UFC 208: Holm vs. De Randamie 2017-02-11   \n",
       "1         NaN      3  5:00  UFC 208: Holm vs. De Randamie 2017-02-11   \n",
       "2      Kimura      1  3:41  UFC 208: Holm vs. De Randamie 2017-02-11   \n",
       "\n",
       "                  Location                  Name  Weight  Height  Reach  \\\n",
       "0  New York, New York, USA  Germaine de Randamie   145.0    69.0   71.0   \n",
       "1  New York, New York, USA        Anderson Silva   185.0    74.0   77.0   \n",
       "2  New York, New York, USA          Jacare Souza   185.0    73.0   72.0   \n",
       "\n",
       "   LegReach    Stance        Dob  \n",
       "0      41.0  Orthodox 1984-04-24  \n",
       "1      42.0  Southpaw 1975-04-14  \n",
       "2      41.0  Orthodox 1979-12-07  "
      ]
     },
     "execution_count": 6,
     "metadata": {},
     "output_type": "execute_result"
    }
   ],
   "source": [
    "df.head(3)"
   ]
  },
  {
   "cell_type": "code",
   "execution_count": 7,
   "metadata": {
    "collapsed": false
   },
   "outputs": [
    {
     "data": {
      "text/plain": [
       "(4068, 25)"
      ]
     },
     "execution_count": 7,
     "metadata": {},
     "output_type": "execute_result"
    }
   ],
   "source": [
    "df = df.merge(fighters[cols], how='left', left_on='Loser', right_on='Name', suffixes=('', '_L'))\n",
    "df.shape"
   ]
  },
  {
   "cell_type": "code",
   "execution_count": 8,
   "metadata": {
    "collapsed": false
   },
   "outputs": [
    {
     "data": {
      "text/html": [
       "<div>\n",
       "<table border=\"1\" class=\"dataframe\">\n",
       "  <thead>\n",
       "    <tr style=\"text-align: right;\">\n",
       "      <th></th>\n",
       "      <th>Winner</th>\n",
       "      <th>Outcome</th>\n",
       "      <th>Loser</th>\n",
       "      <th>WeightClass</th>\n",
       "      <th>Method</th>\n",
       "      <th>MethodNotes</th>\n",
       "      <th>Round</th>\n",
       "      <th>Time</th>\n",
       "      <th>Event</th>\n",
       "      <th>Date</th>\n",
       "      <th>...</th>\n",
       "      <th>LegReach</th>\n",
       "      <th>Stance</th>\n",
       "      <th>Dob</th>\n",
       "      <th>Name_L</th>\n",
       "      <th>Weight_L</th>\n",
       "      <th>Height_L</th>\n",
       "      <th>Reach_L</th>\n",
       "      <th>LegReach_L</th>\n",
       "      <th>Stance_L</th>\n",
       "      <th>Dob_L</th>\n",
       "    </tr>\n",
       "  </thead>\n",
       "  <tbody>\n",
       "    <tr>\n",
       "      <th>0</th>\n",
       "      <td>Germaine de Randamie</td>\n",
       "      <td>def.</td>\n",
       "      <td>Holly Holm</td>\n",
       "      <td>Women's Featherweight</td>\n",
       "      <td>U-DEC</td>\n",
       "      <td>NaN</td>\n",
       "      <td>5</td>\n",
       "      <td>5:00</td>\n",
       "      <td>UFC 208: Holm vs. De Randamie</td>\n",
       "      <td>2017-02-11</td>\n",
       "      <td>...</td>\n",
       "      <td>41.0</td>\n",
       "      <td>Orthodox</td>\n",
       "      <td>1984-04-24</td>\n",
       "      <td>Holly Holm</td>\n",
       "      <td>145.0</td>\n",
       "      <td>68.0</td>\n",
       "      <td>69.0</td>\n",
       "      <td>38.0</td>\n",
       "      <td>Southpaw</td>\n",
       "      <td>1981-10-17</td>\n",
       "    </tr>\n",
       "    <tr>\n",
       "      <th>1</th>\n",
       "      <td>Anderson Silva</td>\n",
       "      <td>def.</td>\n",
       "      <td>Derek Brunson</td>\n",
       "      <td>Middleweight</td>\n",
       "      <td>U-DEC</td>\n",
       "      <td>NaN</td>\n",
       "      <td>3</td>\n",
       "      <td>5:00</td>\n",
       "      <td>UFC 208: Holm vs. De Randamie</td>\n",
       "      <td>2017-02-11</td>\n",
       "      <td>...</td>\n",
       "      <td>42.0</td>\n",
       "      <td>Southpaw</td>\n",
       "      <td>1975-04-14</td>\n",
       "      <td>Derek Brunson</td>\n",
       "      <td>185.0</td>\n",
       "      <td>73.0</td>\n",
       "      <td>77.0</td>\n",
       "      <td>43.0</td>\n",
       "      <td>Southpaw</td>\n",
       "      <td>1984-01-04</td>\n",
       "    </tr>\n",
       "    <tr>\n",
       "      <th>2</th>\n",
       "      <td>Jacare Souza</td>\n",
       "      <td>def.</td>\n",
       "      <td>Tim Boetsch</td>\n",
       "      <td>Middleweight</td>\n",
       "      <td>SUB</td>\n",
       "      <td>Kimura</td>\n",
       "      <td>1</td>\n",
       "      <td>3:41</td>\n",
       "      <td>UFC 208: Holm vs. De Randamie</td>\n",
       "      <td>2017-02-11</td>\n",
       "      <td>...</td>\n",
       "      <td>41.0</td>\n",
       "      <td>Orthodox</td>\n",
       "      <td>1979-12-07</td>\n",
       "      <td>Tim Boetsch</td>\n",
       "      <td>185.0</td>\n",
       "      <td>72.0</td>\n",
       "      <td>74.0</td>\n",
       "      <td>42.0</td>\n",
       "      <td>Orthodox</td>\n",
       "      <td>1981-01-28</td>\n",
       "    </tr>\n",
       "  </tbody>\n",
       "</table>\n",
       "<p>3 rows × 25 columns</p>\n",
       "</div>"
      ],
      "text/plain": [
       "                 Winner Outcome          Loser            WeightClass Method  \\\n",
       "0  Germaine de Randamie    def.     Holly Holm  Women's Featherweight  U-DEC   \n",
       "1        Anderson Silva    def.  Derek Brunson           Middleweight  U-DEC   \n",
       "2          Jacare Souza    def.    Tim Boetsch           Middleweight    SUB   \n",
       "\n",
       "  MethodNotes  Round  Time                          Event       Date  \\\n",
       "0         NaN      5  5:00  UFC 208: Holm vs. De Randamie 2017-02-11   \n",
       "1         NaN      3  5:00  UFC 208: Holm vs. De Randamie 2017-02-11   \n",
       "2      Kimura      1  3:41  UFC 208: Holm vs. De Randamie 2017-02-11   \n",
       "\n",
       "     ...     LegReach    Stance        Dob         Name_L  Weight_L  Height_L  \\\n",
       "0    ...         41.0  Orthodox 1984-04-24     Holly Holm     145.0      68.0   \n",
       "1    ...         42.0  Southpaw 1975-04-14  Derek Brunson     185.0      73.0   \n",
       "2    ...         41.0  Orthodox 1979-12-07    Tim Boetsch     185.0      72.0   \n",
       "\n",
       "  Reach_L LegReach_L  Stance_L      Dob_L  \n",
       "0    69.0       38.0  Southpaw 1981-10-17  \n",
       "1    77.0       43.0  Southpaw 1984-01-04  \n",
       "2    74.0       42.0  Orthodox 1981-01-28  \n",
       "\n",
       "[3 rows x 25 columns]"
      ]
     },
     "execution_count": 8,
     "metadata": {},
     "output_type": "execute_result"
    }
   ],
   "source": [
    "df.head(3)"
   ]
  },
  {
   "cell_type": "code",
   "execution_count": 9,
   "metadata": {
    "collapsed": false
   },
   "outputs": [],
   "source": [
    "df = df.drop(['Name', 'Name_L'], axis=1)"
   ]
  },
  {
   "cell_type": "markdown",
   "metadata": {},
   "source": [
    "### Let's compute win ratios by age bracket"
   ]
  },
  {
   "cell_type": "code",
   "execution_count": 10,
   "metadata": {
    "collapsed": false
   },
   "outputs": [],
   "source": [
    "wins = df[(df.Outcome == 'def.') & (df.Date > np.datetime64('2005-01-01')) & pd.notnull(df.Dob) & pd.notnull(df.Dob_L)].copy()\n",
    "wins['Age'] = (wins.Date - wins.Dob) / np.timedelta64(1, 'Y')\n",
    "wins['Age_L'] = (wins.Date - wins.Dob_L) / np.timedelta64(1, 'Y')"
   ]
  },
  {
   "cell_type": "code",
   "execution_count": 11,
   "metadata": {
    "collapsed": false
   },
   "outputs": [
    {
     "data": {
      "text/plain": [
       "0.6242038216560509"
      ]
     },
     "execution_count": 11,
     "metadata": {},
     "output_type": "execute_result"
    }
   ],
   "source": [
    "msk1 = wins.Age < 25\n",
    "msk2 = wins.Age_L < 25\n",
    "under25 = float(wins[msk1].shape[0]) / wins[msk1 | msk2].shape[0]\n",
    "under25"
   ]
  },
  {
   "cell_type": "code",
   "execution_count": 12,
   "metadata": {
    "collapsed": false
   },
   "outputs": [
    {
     "data": {
      "text/plain": [
       "(490, 371)"
      ]
     },
     "execution_count": 12,
     "metadata": {},
     "output_type": "execute_result"
    }
   ],
   "source": [
    "wins[msk1].shape[0], wins[msk2].shape[0]"
   ]
  },
  {
   "cell_type": "code",
   "execution_count": 13,
   "metadata": {
    "collapsed": false
   },
   "outputs": [
    {
     "data": {
      "text/plain": [
       "0.6313905930470347"
      ]
     },
     "execution_count": 13,
     "metadata": {},
     "output_type": "execute_result"
    }
   ],
   "source": [
    "msk1 = (wins.Age >= 25) & (wins.Age <= 29)\n",
    "msk2 = (wins.Age_L >= 25) & (wins.Age_L <= 29)\n",
    "over25under30 = float(wins[msk1].shape[0]) / wins[msk1 | msk2].shape[0]\n",
    "over25under30"
   ]
  },
  {
   "cell_type": "code",
   "execution_count": 14,
   "metadata": {
    "collapsed": false
   },
   "outputs": [
    {
     "data": {
      "text/plain": [
       "(1235, 1118)"
      ]
     },
     "execution_count": 14,
     "metadata": {},
     "output_type": "execute_result"
    }
   ],
   "source": [
    "wins[msk1].shape[0], wins[msk2].shape[0]"
   ]
  },
  {
   "cell_type": "code",
   "execution_count": 15,
   "metadata": {
    "collapsed": false
   },
   "outputs": [
    {
     "data": {
      "text/plain": [
       "0.5838264299802761"
      ]
     },
     "execution_count": 15,
     "metadata": {},
     "output_type": "execute_result"
    }
   ],
   "source": [
    "msk1 = (wins.Age >= 30) & (wins.Age <= 35)\n",
    "msk2 = (wins.Age_L >= 30) & (wins.Age_L <= 35)\n",
    "over30under35 = float(wins[msk1].shape[0]) / wins[msk1 | msk2].shape[0]\n",
    "over30under35"
   ]
  },
  {
   "cell_type": "code",
   "execution_count": 16,
   "metadata": {
    "collapsed": false
   },
   "outputs": [
    {
     "data": {
      "text/plain": [
       "(1184, 1310)"
      ]
     },
     "execution_count": 16,
     "metadata": {},
     "output_type": "execute_result"
    }
   ],
   "source": [
    "wins[msk1].shape[0], wins[msk2].shape[0]"
   ]
  },
  {
   "cell_type": "code",
   "execution_count": 17,
   "metadata": {
    "collapsed": false
   },
   "outputs": [
    {
     "data": {
      "text/plain": [
       "0.47126436781609193"
      ]
     },
     "execution_count": 17,
     "metadata": {},
     "output_type": "execute_result"
    }
   ],
   "source": [
    "msk1 = wins.Age > 35\n",
    "msk2 = wins.Age_L > 35\n",
    "over35 = float(wins[msk1].shape[0]) / wins[msk1 | msk2].shape[0]\n",
    "over35"
   ]
  },
  {
   "cell_type": "code",
   "execution_count": 18,
   "metadata": {
    "collapsed": false
   },
   "outputs": [
    {
     "data": {
      "text/plain": [
       "(287, 394)"
      ]
     },
     "execution_count": 18,
     "metadata": {},
     "output_type": "execute_result"
    }
   ],
   "source": [
    "wins[msk1].shape[0], wins[msk2].shape[0]"
   ]
  },
  {
   "cell_type": "code",
   "execution_count": 19,
   "metadata": {
    "collapsed": false
   },
   "outputs": [
    {
     "data": {
      "text/plain": [
       "72"
      ]
     },
     "execution_count": 19,
     "metadata": {},
     "output_type": "execute_result"
    }
   ],
   "source": [
    "wins[msk1 & msk2][['Winner', 'Loser', 'Age', 'Age_L']].shape[0]"
   ]
  },
  {
   "cell_type": "code",
   "execution_count": 20,
   "metadata": {
    "collapsed": false
   },
   "outputs": [
    {
     "data": {
      "text/plain": [
       "0.40037243947858475"
      ]
     },
     "execution_count": 20,
     "metadata": {},
     "output_type": "execute_result"
    }
   ],
   "source": [
    "msk1 = (wins.Age > 35) & (wins.Age_L < 35)\n",
    "msk2 = (wins.Age_L > 35) & (wins.Age < 35)\n",
    "over35 = float(wins[msk1].shape[0]) / wins[msk1 | msk2].shape[0]\n",
    "over35"
   ]
  },
  {
   "cell_type": "code",
   "execution_count": 21,
   "metadata": {
    "collapsed": false
   },
   "outputs": [
    {
     "data": {
      "text/plain": [
       "(215, 322)"
      ]
     },
     "execution_count": 21,
     "metadata": {},
     "output_type": "execute_result"
    }
   ],
   "source": [
    "wins[msk1].shape[0], wins[msk2].shape[0]"
   ]
  },
  {
   "cell_type": "markdown",
   "metadata": {},
   "source": [
    "### What is the winning percentage by age?"
   ]
  },
  {
   "cell_type": "code",
   "execution_count": 22,
   "metadata": {
    "collapsed": false
   },
   "outputs": [
    {
     "name": "stdout",
     "output_type": "stream",
     "text": [
      "    Age_int      0         1\n",
      "18      NaN    NaN       NaN\n",
      "19      3.0    4.0  0.750000\n",
      "20     16.0   27.0  0.592593\n",
      "21     36.0   61.0  0.590164\n",
      "22     85.0  152.0  0.559211\n",
      "23    144.0  256.0  0.562500\n",
      "24    206.0  360.0  0.572222\n",
      "25    243.0  465.0  0.522581\n",
      "26    300.0  571.0  0.525394\n",
      "27    354.0  637.0  0.555730\n",
      "28    338.0  680.0  0.497059\n",
      "29    334.0  671.0  0.497765\n",
      "30    333.0  650.0  0.512308\n",
      "31    303.0  610.0  0.496721\n",
      "32    243.0  517.0  0.470019\n",
      "33    174.0  385.0  0.451948\n",
      "34    131.0  332.0  0.394578\n",
      "35    102.0  225.0  0.453333\n",
      "36     75.0  184.0  0.407609\n",
      "37     49.0  113.0  0.433628\n",
      "38     23.0   58.0  0.396552\n",
      "39     15.0   36.0  0.416667\n",
      "40      8.0   21.0  0.380952\n",
      "41      4.0   12.0  0.333333\n",
      "42      2.0   11.0  0.181818\n",
      "43      2.0    6.0  0.333333\n",
      "44      3.0    5.0  0.600000\n",
      "45      1.0    4.0  0.250000\n",
      "46      2.0    4.0  0.500000\n",
      "47      1.0    2.0  0.500000\n"
     ]
    }
   ],
   "source": [
    "wins['Age_int'] = wins.Age.astype(int)\n",
    "wins['Age_L_int'] = wins.Age_L.astype(int)\n",
    "win_count_by_age = wins.Age_int.value_counts()\n",
    "\n",
    "# count fights per age without double counting\n",
    "ages = win_count_by_age.index\n",
    "counts = []\n",
    "for age in ages:\n",
    "     ct = wins[(wins.Age_int == age) | (wins.Age_L_int == age)].shape[0]\n",
    "     counts.append(ct)\n",
    "#total_count_by_age = pd.Series(data=counts, index=ages)\n",
    "# win percentage is number of wins by age o\n",
    "total_count_by_age = win_count_by_age + wins.Age_L_int.value_counts()\n",
    "win_percent_by_age = win_count_by_age / total_count_by_age\n",
    "print pd.concat([win_count_by_age, total_count_by_age, win_percent_by_age], axis=1).sort_index()"
   ]
  },
  {
   "cell_type": "code",
   "execution_count": 23,
   "metadata": {
    "collapsed": false
   },
   "outputs": [
    {
     "data": {
      "text/plain": [
       "(0, 100)"
      ]
     },
     "execution_count": 23,
     "metadata": {},
     "output_type": "execute_result"
    },
    {
     "data": {
      "image/png": "[encoded data removed]",
      "text/plain": [
       "<matplotlib.figure.Figure at 0x10fa65990>"
      ]
     },
     "metadata": {},
     "output_type": "display_data"
    }
   ],
   "source": [
    "x = win_percent_by_age[total_count_by_age > 20].index\n",
    "y = 100 * win_percent_by_age[total_count_by_age > 20].values\n",
    "xmin = 15\n",
    "xmax = 45\n",
    "\n",
    "m, b = np.polyfit(x, y, 1)\n",
    "plt.plot([xmin, xmax], [50, 50], 'k:')\n",
    "plt.plot(np.linspace(xmin, xmax), m * np.linspace(xmin, xmax) + b, 'k-')\n",
    "plt.plot(x, y, 'wo', ms=7)\n",
    "plt.xlabel('Age')\n",
    "plt.ylabel('Win percentage')\n",
    "plt.xlim(15, 45)\n",
    "plt.ylim(0, 100)"
   ]
  },
  {
   "cell_type": "code",
   "execution_count": 24,
   "metadata": {
    "collapsed": false
   },
   "outputs": [
    {
     "name": "stdout",
     "output_type": "stream",
     "text": [
      "-0.958195395991 8.86813032089e-12\n",
      "-0.955844155844 1.47771971719e-11\n"
     ]
    }
   ],
   "source": [
    "from scipy.stats import pearsonr, spearmanr\n",
    "\n",
    "corr_pearson, p_value_pearson = pearsonr(x, y)\n",
    "corr_spearman, p_value_spearman = spearmanr(x, y)\n",
    "print corr_pearson, p_value_pearson\n",
    "print corr_spearman, p_value_spearman"
   ]
  },
  {
   "cell_type": "code",
   "execution_count": 25,
   "metadata": {
    "collapsed": false
   },
   "outputs": [
    {
     "data": {
      "text/html": [
       "<div>\n",
       "<table border=\"1\" class=\"dataframe\">\n",
       "  <thead>\n",
       "    <tr style=\"text-align: right;\">\n",
       "      <th></th>\n",
       "      <th>20</th>\n",
       "      <th>21</th>\n",
       "      <th>22</th>\n",
       "      <th>23</th>\n",
       "      <th>24</th>\n",
       "      <th>25</th>\n",
       "      <th>26</th>\n",
       "      <th>27</th>\n",
       "      <th>28</th>\n",
       "      <th>29</th>\n",
       "      <th>...</th>\n",
       "      <th>31</th>\n",
       "      <th>32</th>\n",
       "      <th>33</th>\n",
       "      <th>34</th>\n",
       "      <th>35</th>\n",
       "      <th>36</th>\n",
       "      <th>37</th>\n",
       "      <th>38</th>\n",
       "      <th>39</th>\n",
       "      <th>40</th>\n",
       "    </tr>\n",
       "  </thead>\n",
       "  <tbody>\n",
       "    <tr>\n",
       "      <th>wins</th>\n",
       "      <td>16.0</td>\n",
       "      <td>36.0</td>\n",
       "      <td>85.0</td>\n",
       "      <td>144.0</td>\n",
       "      <td>206.0</td>\n",
       "      <td>243.0</td>\n",
       "      <td>300.0</td>\n",
       "      <td>354.0</td>\n",
       "      <td>338.0</td>\n",
       "      <td>334.0</td>\n",
       "      <td>...</td>\n",
       "      <td>303.0</td>\n",
       "      <td>243.0</td>\n",
       "      <td>174.0</td>\n",
       "      <td>131.0</td>\n",
       "      <td>102.0</td>\n",
       "      <td>75.0</td>\n",
       "      <td>49.0</td>\n",
       "      <td>23.0</td>\n",
       "      <td>15.0</td>\n",
       "      <td>8.0</td>\n",
       "    </tr>\n",
       "    <tr>\n",
       "      <th>total</th>\n",
       "      <td>27.0</td>\n",
       "      <td>61.0</td>\n",
       "      <td>152.0</td>\n",
       "      <td>256.0</td>\n",
       "      <td>360.0</td>\n",
       "      <td>465.0</td>\n",
       "      <td>571.0</td>\n",
       "      <td>637.0</td>\n",
       "      <td>680.0</td>\n",
       "      <td>671.0</td>\n",
       "      <td>...</td>\n",
       "      <td>610.0</td>\n",
       "      <td>517.0</td>\n",
       "      <td>385.0</td>\n",
       "      <td>332.0</td>\n",
       "      <td>225.0</td>\n",
       "      <td>184.0</td>\n",
       "      <td>113.0</td>\n",
       "      <td>58.0</td>\n",
       "      <td>36.0</td>\n",
       "      <td>21.0</td>\n",
       "    </tr>\n",
       "  </tbody>\n",
       "</table>\n",
       "<p>2 rows × 21 columns</p>\n",
       "</div>"
      ],
      "text/plain": [
       "         20    21     22     23     24     25     26     27     28     29  \\\n",
       "wins   16.0  36.0   85.0  144.0  206.0  243.0  300.0  354.0  338.0  334.0   \n",
       "total  27.0  61.0  152.0  256.0  360.0  465.0  571.0  637.0  680.0  671.0   \n",
       "\n",
       "       ...      31     32     33     34     35     36     37    38    39    40  \n",
       "wins   ...   303.0  243.0  174.0  131.0  102.0   75.0   49.0  23.0  15.0   8.0  \n",
       "total  ...   610.0  517.0  385.0  332.0  225.0  184.0  113.0  58.0  36.0  21.0  \n",
       "\n",
       "[2 rows x 21 columns]"
      ]
     },
     "execution_count": 25,
     "metadata": {},
     "output_type": "execute_result"
    }
   ],
   "source": [
    "w = win_count_by_age[total_count_by_age > 20].sort_index()\n",
    "t = total_count_by_age[total_count_by_age > 20].sort_index()\n",
    "cont_table = pd.DataFrame({'wins':w, 'total':t}).T.sort_index(ascending=False)\n",
    "cont_table"
   ]
  },
  {
   "cell_type": "code",
   "execution_count": 26,
   "metadata": {
    "collapsed": false
   },
   "outputs": [
    {
     "name": "stdout",
     "output_type": "stream",
     "text": [
      "21.1560884485 0.387997046214 True\n"
     ]
    }
   ],
   "source": [
    "from scipy.stats import chi2_contingency\n",
    "\n",
    "chi_sq, p_value, dof, expect = chi2_contingency(cont_table)\n",
    "print chi_sq, p_value, p_value > 0.05"
   ]
  },
  {
   "cell_type": "markdown",
   "metadata": {},
   "source": [
    "The above statistical test indicates that there is not enough data to conclude that the counts for each age are not due to chance. Part of this maybe that the numbers are the largest in the middle where the win ratio is about 50%."
   ]
  },
  {
   "cell_type": "code",
   "execution_count": 27,
   "metadata": {
    "collapsed": true
   },
   "outputs": [],
   "source": [
    "from scipy.stats import binom\n",
    "\n",
    "def two_sided_binom(x):\n",
    "     wins = x[0]\n",
    "     total = x[1]\n",
    "     if wins / total == 0.5:\n",
    "          return 1.0\n",
    "     elif wins / total < 0.5:\n",
    "          return 2 * binom.cdf(p=0.5, k=wins, n=total)\n",
    "     else:\n",
    "          return 2 * (1.0 - binom.cdf(p=0.5, k=wins-1, n=total))"
   ]
  },
  {
   "cell_type": "code",
   "execution_count": 28,
   "metadata": {
    "collapsed": false
   },
   "outputs": [
    {
     "data": {
      "text/html": [
       "<div>\n",
       "<table border=\"1\" class=\"dataframe\">\n",
       "  <thead>\n",
       "    <tr style=\"text-align: right;\">\n",
       "      <th></th>\n",
       "      <th>20</th>\n",
       "      <th>21</th>\n",
       "      <th>22</th>\n",
       "      <th>23</th>\n",
       "      <th>24</th>\n",
       "      <th>25</th>\n",
       "      <th>26</th>\n",
       "      <th>27</th>\n",
       "      <th>28</th>\n",
       "      <th>29</th>\n",
       "      <th>...</th>\n",
       "      <th>31</th>\n",
       "      <th>32</th>\n",
       "      <th>33</th>\n",
       "      <th>34</th>\n",
       "      <th>35</th>\n",
       "      <th>36</th>\n",
       "      <th>37</th>\n",
       "      <th>38</th>\n",
       "      <th>39</th>\n",
       "      <th>40</th>\n",
       "    </tr>\n",
       "  </thead>\n",
       "  <tbody>\n",
       "    <tr>\n",
       "      <th>wins</th>\n",
       "      <td>16.00</td>\n",
       "      <td>36.0</td>\n",
       "      <td>85.00</td>\n",
       "      <td>144.00</td>\n",
       "      <td>206.00</td>\n",
       "      <td>243.00</td>\n",
       "      <td>300.00</td>\n",
       "      <td>354.00</td>\n",
       "      <td>338.00</td>\n",
       "      <td>334.00</td>\n",
       "      <td>...</td>\n",
       "      <td>303.0</td>\n",
       "      <td>243.00</td>\n",
       "      <td>174.00</td>\n",
       "      <td>131.0</td>\n",
       "      <td>102.00</td>\n",
       "      <td>75.00</td>\n",
       "      <td>49.00</td>\n",
       "      <td>23.00</td>\n",
       "      <td>15.00</td>\n",
       "      <td>8.00</td>\n",
       "    </tr>\n",
       "    <tr>\n",
       "      <th>total</th>\n",
       "      <td>27.00</td>\n",
       "      <td>61.0</td>\n",
       "      <td>152.00</td>\n",
       "      <td>256.00</td>\n",
       "      <td>360.00</td>\n",
       "      <td>465.00</td>\n",
       "      <td>571.00</td>\n",
       "      <td>637.00</td>\n",
       "      <td>680.00</td>\n",
       "      <td>671.00</td>\n",
       "      <td>...</td>\n",
       "      <td>610.0</td>\n",
       "      <td>517.00</td>\n",
       "      <td>385.00</td>\n",
       "      <td>332.0</td>\n",
       "      <td>225.00</td>\n",
       "      <td>184.00</td>\n",
       "      <td>113.00</td>\n",
       "      <td>58.00</td>\n",
       "      <td>36.00</td>\n",
       "      <td>21.00</td>\n",
       "    </tr>\n",
       "    <tr>\n",
       "      <th>p_value</th>\n",
       "      <td>0.44</td>\n",
       "      <td>0.2</td>\n",
       "      <td>0.17</td>\n",
       "      <td>0.05</td>\n",
       "      <td>0.01</td>\n",
       "      <td>0.35</td>\n",
       "      <td>0.24</td>\n",
       "      <td>0.01</td>\n",
       "      <td>0.91</td>\n",
       "      <td>0.94</td>\n",
       "      <td>...</td>\n",
       "      <td>0.9</td>\n",
       "      <td>0.19</td>\n",
       "      <td>0.07</td>\n",
       "      <td>0.0</td>\n",
       "      <td>0.18</td>\n",
       "      <td>0.01</td>\n",
       "      <td>0.19</td>\n",
       "      <td>0.15</td>\n",
       "      <td>0.41</td>\n",
       "      <td>0.38</td>\n",
       "    </tr>\n",
       "  </tbody>\n",
       "</table>\n",
       "<p>3 rows × 21 columns</p>\n",
       "</div>"
      ],
      "text/plain": [
       "            20    21      22      23      24      25      26      27      28  \\\n",
       "wins     16.00  36.0   85.00  144.00  206.00  243.00  300.00  354.00  338.00   \n",
       "total    27.00  61.0  152.00  256.00  360.00  465.00  571.00  637.00  680.00   \n",
       "p_value   0.44   0.2    0.17    0.05    0.01    0.35    0.24    0.01    0.91   \n",
       "\n",
       "             29  ...       31      32      33     34      35      36      37  \\\n",
       "wins     334.00  ...    303.0  243.00  174.00  131.0  102.00   75.00   49.00   \n",
       "total    671.00  ...    610.0  517.00  385.00  332.0  225.00  184.00  113.00   \n",
       "p_value    0.94  ...      0.9    0.19    0.07    0.0    0.18    0.01    0.19   \n",
       "\n",
       "            38     39     40  \n",
       "wins     23.00  15.00   8.00  \n",
       "total    58.00  36.00  21.00  \n",
       "p_value   0.15   0.41   0.38  \n",
       "\n",
       "[3 rows x 21 columns]"
      ]
     },
     "execution_count": 28,
     "metadata": {},
     "output_type": "execute_result"
    }
   ],
   "source": [
    "cont_table.loc['p_value'] = cont_table.apply(two_sided_binom, axis=0)\n",
    "cont_table.applymap(lambda x: round(x, 2))"
   ]
  },
  {
   "cell_type": "markdown",
   "metadata": {},
   "source": [
    "We see that when we compute the p_values they are mostly above 0.05."
   ]
  },
  {
   "cell_type": "code",
   "execution_count": 29,
   "metadata": {
    "collapsed": false
   },
   "outputs": [
    {
     "data": {
      "text/plain": [
       "<matplotlib.text.Text at 0x113a4ba90>"
      ]
     },
     "execution_count": 29,
     "metadata": {},
     "output_type": "execute_result"
    },
    {
     "data": {
      "image/png": "[encoded data removed]",
      "text/plain": [
       "<matplotlib.figure.Figure at 0x10ef30910>"
      ]
     },
     "metadata": {},
     "output_type": "display_data"
    }
   ],
   "source": [
    "flips = 21\n",
    "k_values = range(flips + 1)\n",
    "plt.vlines(x, ymin=0, ymax=[binom.pmf(k, p=0.5, n=flips) for k in k_values], lw=4)\n",
    "plt.xlabel('k')\n",
    "plt.ylabel('P(k)')"
   ]
  },
  {
   "cell_type": "markdown",
   "metadata": {},
   "source": [
    "### Let's compute the win percentage of the younger fighter as a function of age difference:"
   ]
  },
  {
   "cell_type": "code",
   "execution_count": 30,
   "metadata": {
    "collapsed": false
   },
   "outputs": [
    {
     "data": {
      "text/plain": [
       "-16.0      1\n",
       "-15.0      1\n",
       "-14.0      5\n",
       "-13.0      9\n",
       "-12.0     15\n",
       "-11.0     17\n",
       "-10.0     28\n",
       "-9.0      37\n",
       "-8.0      69\n",
       "-7.0      97\n",
       "-6.0     105\n",
       "-5.0     139\n",
       "-4.0     169\n",
       "-3.0     207\n",
       "-2.0     246\n",
       "-1.0     287\n",
       " 0.0     271\n",
       " 1.0     257\n",
       " 2.0     289\n",
       " 3.0     287\n",
       " 4.0     221\n",
       " 5.0     185\n",
       " 6.0     154\n",
       " 7.0     119\n",
       " 8.0      96\n",
       " 9.0      77\n",
       " 10.0     51\n",
       " 11.0     29\n",
       " 12.0     27\n",
       " 13.0     12\n",
       " 14.0     11\n",
       " 15.0      7\n",
       " 16.0      3\n",
       " 17.0      2\n",
       "Name: AgeDiff, dtype: int64"
      ]
     },
     "execution_count": 30,
     "metadata": {},
     "output_type": "execute_result"
    }
   ],
   "source": [
    "wins['AgeDiff'] = wins.Age_L - wins.Age\n",
    "wins.AgeDiff = wins.AgeDiff.apply(round)\n",
    "delta_age = wins.AgeDiff.value_counts().sort_index()\n",
    "delta_age"
   ]
  },
  {
   "cell_type": "code",
   "execution_count": 31,
   "metadata": {
    "collapsed": false
   },
   "outputs": [
    {
     "data": {
      "text/plain": [
       "0.0     271\n",
       "1.0     544\n",
       "2.0     535\n",
       "3.0     494\n",
       "4.0     390\n",
       "5.0     324\n",
       "6.0     259\n",
       "7.0     216\n",
       "8.0     165\n",
       "9.0     114\n",
       "10.0     79\n",
       "11.0     46\n",
       "12.0     42\n",
       "13.0     21\n",
       "14.0     16\n",
       "15.0      8\n",
       "16.0      4\n",
       "17.0      2\n",
       "Name: AgeDiff, dtype: int64"
      ]
     },
     "execution_count": 31,
     "metadata": {},
     "output_type": "execute_result"
    }
   ],
   "source": [
    "delta_age_overall = np.abs(wins.AgeDiff).value_counts().sort_index()\n",
    "delta_age_overall"
   ]
  },
  {
   "cell_type": "code",
   "execution_count": 32,
   "metadata": {
    "collapsed": false
   },
   "outputs": [
    {
     "data": {
      "text/plain": [
       "0.0     271\n",
       "1.0     257\n",
       "2.0     289\n",
       "3.0     287\n",
       "4.0     221\n",
       "5.0     185\n",
       "6.0     154\n",
       "7.0     119\n",
       "8.0      96\n",
       "9.0      77\n",
       "10.0     51\n",
       "11.0     29\n",
       "12.0     27\n",
       "13.0     12\n",
       "14.0     11\n",
       "15.0      7\n",
       "16.0      3\n",
       "17.0      2\n",
       "Name: AgeDiff, dtype: int64"
      ]
     },
     "execution_count": 32,
     "metadata": {},
     "output_type": "execute_result"
    }
   ],
   "source": [
    "younger_diff = delta_age.loc[0:17]\n",
    "younger_diff"
   ]
  },
  {
   "cell_type": "code",
   "execution_count": 33,
   "metadata": {
    "collapsed": false
   },
   "outputs": [
    {
     "data": {
      "text/plain": [
       "<matplotlib.text.Text at 0x113c55ad0>"
      ]
     },
     "execution_count": 33,
     "metadata": {},
     "output_type": "execute_result"
    },
    {
     "data": {
      "image/png": "[encoded data removed]",
      "text/plain": [
       "<matplotlib.figure.Figure at 0x113c1d890>"
      ]
     },
     "metadata": {},
     "output_type": "display_data"
    }
   ],
   "source": [
    "x = delta_age_overall.index\n",
    "y = 100 * younger_diff / delta_age_overall\n",
    "x = x.values[1:13]\n",
    "y = y.values[1:13]\n",
    "xmin = 1\n",
    "xmax = 12\n",
    "\n",
    "m, b = np.polyfit(x, y, 1)\n",
    "plt.plot([xmin, xmax], [50, 50], 'k:')\n",
    "plt.plot(np.linspace(xmin, xmax), m * np.linspace(xmin, xmax) + b, 'k-')\n",
    "plt.plot(x, y, 'wo', ms=7)\n",
    "plt.xlim(xmin, xmax)\n",
    "plt.ylim(0, 100)\n",
    "plt.xticks(range(1, 13))\n",
    "plt.xlabel('Age difference (years)')\n",
    "plt.ylabel('Win percentage of younger fighter')"
   ]
  },
  {
   "cell_type": "markdown",
   "metadata": {},
   "source": [
    "Let's check the test case of 4:"
   ]
  },
  {
   "cell_type": "code",
   "execution_count": 34,
   "metadata": {
    "collapsed": false
   },
   "outputs": [
    {
     "data": {
      "text/plain": [
       "221"
      ]
     },
     "execution_count": 34,
     "metadata": {},
     "output_type": "execute_result"
    }
   ],
   "source": [
    "wins[wins.AgeDiff == 4][['Winner', 'Loser', 'Age', 'Age_L', 'AgeDiff']].shape[0]"
   ]
  },
  {
   "cell_type": "code",
   "execution_count": 35,
   "metadata": {
    "collapsed": false
   },
   "outputs": [
    {
     "data": {
      "text/plain": [
       "169"
      ]
     },
     "execution_count": 35,
     "metadata": {},
     "output_type": "execute_result"
    }
   ],
   "source": [
    "wins[wins.AgeDiff == -4][['Winner', 'Loser', 'Age', 'Age_L', 'AgeDiff']].shape[0]"
   ]
  },
  {
   "cell_type": "code",
   "execution_count": 36,
   "metadata": {
    "collapsed": false
   },
   "outputs": [
    {
     "data": {
      "text/plain": [
       "0.5666666666666667"
      ]
     },
     "execution_count": 36,
     "metadata": {},
     "output_type": "execute_result"
    }
   ],
   "source": [
    "221 / (221 + 169.0)"
   ]
  },
  {
   "cell_type": "markdown",
   "metadata": {},
   "source": [
    "This is the correct answer."
   ]
  },
  {
   "cell_type": "code",
   "execution_count": 37,
   "metadata": {
    "collapsed": false
   },
   "outputs": [
    {
     "name": "stdout",
     "output_type": "stream",
     "text": [
      "0.836782557943 0.000688864230938\n",
      "0.832167832168 0.000785441677854\n"
     ]
    }
   ],
   "source": [
    "corr_pearson, p_value_pearson = pearsonr(x, y)\n",
    "corr_spearman, p_value_spearman = spearmanr(x, y)\n",
    "print corr_pearson, p_value_pearson\n",
    "print corr_spearman, p_value_spearman"
   ]
  },
  {
   "cell_type": "markdown",
   "metadata": {},
   "source": [
    "When the age difference is 1, we see the null hypothesis of independence holds:"
   ]
  },
  {
   "cell_type": "code",
   "execution_count": 44,
   "metadata": {
    "collapsed": false
   },
   "outputs": [
    {
     "data": {
      "text/plain": [
       "0.10684763884684148"
      ]
     },
     "execution_count": 44,
     "metadata": {},
     "output_type": "execute_result"
    }
   ],
   "source": [
    "binom.cdf(p=0.5, k=257, n=257+287)"
   ]
  },
  {
   "cell_type": "markdown",
   "metadata": {},
   "source": [
    "Let's create a table of the data:"
   ]
  },
  {
   "cell_type": "code",
   "execution_count": 38,
   "metadata": {
    "collapsed": false
   },
   "outputs": [
    {
     "data": {
      "text/plain": [
       "14.0      5\n",
       "13.0      9\n",
       "12.0     15\n",
       "11.0     17\n",
       "10.0     28\n",
       "9.0      37\n",
       "8.0      69\n",
       "7.0      97\n",
       "6.0     105\n",
       "5.0     139\n",
       "4.0     169\n",
       "3.0     207\n",
       "2.0     246\n",
       "1.0     287\n",
       "Name: AgeDiff, dtype: int64"
      ]
     },
     "execution_count": 38,
     "metadata": {},
     "output_type": "execute_result"
    }
   ],
   "source": [
    "older = delta_age.iloc[2:16]\n",
    "older.index = older.index.map(abs)\n",
    "older"
   ]
  },
  {
   "cell_type": "code",
   "execution_count": 39,
   "metadata": {
    "collapsed": false
   },
   "outputs": [
    {
     "data": {
      "text/plain": [
       "1.0     257\n",
       "2.0     289\n",
       "3.0     287\n",
       "4.0     221\n",
       "5.0     185\n",
       "6.0     154\n",
       "7.0     119\n",
       "8.0      96\n",
       "9.0      77\n",
       "10.0     51\n",
       "11.0     29\n",
       "12.0     27\n",
       "13.0     12\n",
       "14.0     11\n",
       "Name: AgeDiff, dtype: int64"
      ]
     },
     "execution_count": 39,
     "metadata": {},
     "output_type": "execute_result"
    }
   ],
   "source": [
    "younger = delta_age.iloc[17:31]\n",
    "younger"
   ]
  },
  {
   "cell_type": "markdown",
   "metadata": {},
   "source": [
    "The table below shows that number of wins by the older and younger fighter for the given age difference:"
   ]
  },
  {
   "cell_type": "code",
   "execution_count": 40,
   "metadata": {
    "collapsed": false
   },
   "outputs": [
    {
     "data": {
      "text/html": [
       "<div>\n",
       "<table border=\"1\" class=\"dataframe\">\n",
       "  <thead>\n",
       "    <tr style=\"text-align: right;\">\n",
       "      <th></th>\n",
       "      <th>1.0</th>\n",
       "      <th>2.0</th>\n",
       "      <th>3.0</th>\n",
       "      <th>4.0</th>\n",
       "      <th>5.0</th>\n",
       "      <th>6.0</th>\n",
       "      <th>7.0</th>\n",
       "      <th>8.0</th>\n",
       "      <th>9.0</th>\n",
       "      <th>10.0</th>\n",
       "      <th>11.0</th>\n",
       "      <th>12.0</th>\n",
       "      <th>13.0</th>\n",
       "      <th>14.0</th>\n",
       "    </tr>\n",
       "  </thead>\n",
       "  <tbody>\n",
       "    <tr>\n",
       "      <th>older</th>\n",
       "      <td>287</td>\n",
       "      <td>246</td>\n",
       "      <td>207</td>\n",
       "      <td>169</td>\n",
       "      <td>139</td>\n",
       "      <td>105</td>\n",
       "      <td>97</td>\n",
       "      <td>69</td>\n",
       "      <td>37</td>\n",
       "      <td>28</td>\n",
       "      <td>17</td>\n",
       "      <td>15</td>\n",
       "      <td>9</td>\n",
       "      <td>5</td>\n",
       "    </tr>\n",
       "    <tr>\n",
       "      <th>younger</th>\n",
       "      <td>257</td>\n",
       "      <td>289</td>\n",
       "      <td>287</td>\n",
       "      <td>221</td>\n",
       "      <td>185</td>\n",
       "      <td>154</td>\n",
       "      <td>119</td>\n",
       "      <td>96</td>\n",
       "      <td>77</td>\n",
       "      <td>51</td>\n",
       "      <td>29</td>\n",
       "      <td>27</td>\n",
       "      <td>12</td>\n",
       "      <td>11</td>\n",
       "    </tr>\n",
       "  </tbody>\n",
       "</table>\n",
       "</div>"
      ],
      "text/plain": [
       "         1.0   2.0   3.0   4.0   5.0   6.0   7.0   8.0   9.0   10.0  11.0  \\\n",
       "older     287   246   207   169   139   105    97    69    37    28    17   \n",
       "younger   257   289   287   221   185   154   119    96    77    51    29   \n",
       "\n",
       "         12.0  13.0  14.0  \n",
       "older      15     9     5  \n",
       "younger    27    12    11  "
      ]
     },
     "execution_count": 40,
     "metadata": {},
     "output_type": "execute_result"
    }
   ],
   "source": [
    "cont_table = pd.DataFrame([older, younger])\n",
    "cont_table.index = ['older', 'younger']\n",
    "cont_table"
   ]
  },
  {
   "cell_type": "code",
   "execution_count": 41,
   "metadata": {
    "collapsed": false
   },
   "outputs": [
    {
     "name": "stdout",
     "output_type": "stream",
     "text": [
      "32.2035548642 0.00224088040429 False\n"
     ]
    }
   ],
   "source": [
    "chi_sq, p_value, dof, expect = chi2_contingency(cont_table)\n",
    "print chi_sq, p_value, p_value > 0.05"
   ]
  },
  {
   "cell_type": "code",
   "execution_count": 42,
   "metadata": {
    "collapsed": true
   },
   "outputs": [],
   "source": [
    "def two_sided_binom(x):\n",
    "     wins = float(x[0])\n",
    "     total = x[0] + x[1]\n",
    "     if wins / total == 0.5:\n",
    "          return 1.0\n",
    "     elif wins / total < 0.5:\n",
    "          return 2 * binom.cdf(p=0.5, k=wins, n=total)\n",
    "     else:\n",
    "          return 2 * (1.0 - binom.cdf(p=0.5, k=wins-1, n=total))"
   ]
  },
  {
   "cell_type": "code",
   "execution_count": 43,
   "metadata": {
    "collapsed": false
   },
   "outputs": [
    {
     "data": {
      "text/html": [
       "<div>\n",
       "<table border=\"1\" class=\"dataframe\">\n",
       "  <thead>\n",
       "    <tr style=\"text-align: right;\">\n",
       "      <th></th>\n",
       "      <th>1.0</th>\n",
       "      <th>2.0</th>\n",
       "      <th>3.0</th>\n",
       "      <th>4.0</th>\n",
       "      <th>5.0</th>\n",
       "      <th>6.0</th>\n",
       "      <th>7.0</th>\n",
       "      <th>8.0</th>\n",
       "      <th>9.0</th>\n",
       "      <th>10.0</th>\n",
       "      <th>11.0</th>\n",
       "      <th>12.0</th>\n",
       "      <th>13.0</th>\n",
       "      <th>14.0</th>\n",
       "    </tr>\n",
       "  </thead>\n",
       "  <tbody>\n",
       "    <tr>\n",
       "      <th>older</th>\n",
       "      <td>287.00</td>\n",
       "      <td>246.00</td>\n",
       "      <td>207.0</td>\n",
       "      <td>169.00</td>\n",
       "      <td>139.00</td>\n",
       "      <td>105.0</td>\n",
       "      <td>97.00</td>\n",
       "      <td>69.00</td>\n",
       "      <td>37.0</td>\n",
       "      <td>28.00</td>\n",
       "      <td>17.0</td>\n",
       "      <td>15.00</td>\n",
       "      <td>9.00</td>\n",
       "      <td>5.00</td>\n",
       "    </tr>\n",
       "    <tr>\n",
       "      <th>younger</th>\n",
       "      <td>257.00</td>\n",
       "      <td>289.00</td>\n",
       "      <td>287.0</td>\n",
       "      <td>221.00</td>\n",
       "      <td>185.00</td>\n",
       "      <td>154.0</td>\n",
       "      <td>119.00</td>\n",
       "      <td>96.00</td>\n",
       "      <td>77.0</td>\n",
       "      <td>51.00</td>\n",
       "      <td>29.0</td>\n",
       "      <td>27.00</td>\n",
       "      <td>12.00</td>\n",
       "      <td>11.00</td>\n",
       "    </tr>\n",
       "    <tr>\n",
       "      <th>p_value</th>\n",
       "      <td>0.21</td>\n",
       "      <td>0.07</td>\n",
       "      <td>0.0</td>\n",
       "      <td>0.01</td>\n",
       "      <td>0.01</td>\n",
       "      <td>0.0</td>\n",
       "      <td>0.15</td>\n",
       "      <td>0.04</td>\n",
       "      <td>0.0</td>\n",
       "      <td>0.01</td>\n",
       "      <td>0.1</td>\n",
       "      <td>0.09</td>\n",
       "      <td>0.66</td>\n",
       "      <td>0.21</td>\n",
       "    </tr>\n",
       "  </tbody>\n",
       "</table>\n",
       "</div>"
      ],
      "text/plain": [
       "           1.0     2.0    3.0     4.0     5.0    6.0     7.0    8.0   9.0   \\\n",
       "older    287.00  246.00  207.0  169.00  139.00  105.0   97.00  69.00  37.0   \n",
       "younger  257.00  289.00  287.0  221.00  185.00  154.0  119.00  96.00  77.0   \n",
       "p_value    0.21    0.07    0.0    0.01    0.01    0.0    0.15   0.04   0.0   \n",
       "\n",
       "          10.0  11.0   12.0   13.0   14.0  \n",
       "older    28.00  17.0  15.00   9.00   5.00  \n",
       "younger  51.00  29.0  27.00  12.00  11.00  \n",
       "p_value   0.01   0.1   0.09   0.66   0.21  "
      ]
     },
     "execution_count": 43,
     "metadata": {},
     "output_type": "execute_result"
    }
   ],
   "source": [
    "cont_table.loc['p_value'] = cont_table.apply(two_sided_binom, axis=0)\n",
    "cont_table.applymap(lambda x: round(x, 2))"
   ]
  }
 ],
 "metadata": {
  "anaconda-cloud": {},
  "kernelspec": {
   "display_name": "Python [conda root]",
   "language": "python",
   "name": "conda-root-py"
  },
  "language_info": {
   "codemirror_mode": {
    "name": "ipython",
    "version": 2
   },
   "file_extension": ".py",
   "mimetype": "text/x-python",
   "name": "python",
   "nbconvert_exporter": "python",
   "pygments_lexer": "ipython2",
   "version": "2.7.12"
  }
 },
 "nbformat": 4,
 "nbformat_minor": 1
}
