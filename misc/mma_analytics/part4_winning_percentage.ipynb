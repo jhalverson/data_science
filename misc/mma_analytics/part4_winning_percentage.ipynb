{
 "cells": [
  {
   "cell_type": "markdown",
   "metadata": {},
   "source": [
    "# Jonathan Halverson\n",
    "# Thursday, February 23, 2017\n",
    "# Part 4: Winning percentage by age of UFC fights"
   ]
  },
  {
   "cell_type": "code",
   "execution_count": 90,
   "metadata": {
    "collapsed": true
   },
   "outputs": [],
   "source": [
    "import numpy as np\n",
    "import pandas as pd\n",
    "import matplotlib.pyplot as plt\n",
    "plt.style.use('halverson')\n",
    "%matplotlib inline"
   ]
  },
  {
   "cell_type": "code",
   "execution_count": 117,
   "metadata": {
    "collapsed": false
   },
   "outputs": [],
   "source": [
    "iofile = 'data/fightmetric_cards/fightmetric_fights_CLEAN_3-6-2017.csv'\n",
    "fights = pd.read_csv(iofile, header=0, parse_dates=['Date'])\n",
    "d = {'Women\\'s Featherweight':'W--FW', 'Middleweight':'MW', 'Lightweight':'LW', 'Bantamweight':'BW'}\n",
    "d['Women\\'s Bantamweight'] = 'W--BW'\n",
    "d['Women\\'s Strawweight'] = 'W--SW'\n",
    "d['Light Heavyweight'] = 'LHW'\n",
    "d['Flyweight'] = 'FLW'\n",
    "d['Featherweight'] = 'FTW'\n",
    "d['Welterweight'] = 'WW'\n",
    "d['Heavyweight'] = 'HW'\n",
    "d['Women\\'s Flyweight'] = 'W--FLW'\n",
    "d['Catch Weight'] = 'CTH'\n",
    "fights.WeightClass = fights.WeightClass.replace(d)\n",
    "d = {'no contest':'NC'}\n",
    "fights.Outcome = fights.Outcome.replace(d)\n",
    "fights.Event = fights.Event.str.replace('The Ultimate Fighter', 'TUF')\n",
    "fights.Event = fights.Event.str.replace('Fight Night', 'F. Night')\n",
    "fights.MethodNotes = fights.MethodNotes.str.replace('Rear Naked Choke', 'RNC')\n",
    "fights.MethodNotes = fights.MethodNotes.str.replace('Spinning Back', 'Spn. Bck.')\n",
    "fights.columns = ['Winner', 'Out', 'Loser', 'WC', 'Method', 'Notes', 'Rd', 'Time', 'Event', 'Date', 'Location']\n",
    "cols = ['Winner', 'Out', 'Loser', 'WC', 'Method', 'Notes', 'Rd', 'Time', 'Event', 'Date']\n",
    "fights.Event = fights.Event.apply(lambda x: x[:x.index(':')] if ':' in x else x)\n",
    "fights[cols].head(476).to_latex('fights_table.tex', index=False, na_rep='', longtable=True)"
   ]
  },
  {
   "cell_type": "code",
   "execution_count": 92,
   "metadata": {
    "collapsed": false
   },
   "outputs": [
    {
     "data": {
      "text/plain": [
       "(4068, 11)"
      ]
     },
     "execution_count": 92,
     "metadata": {},
     "output_type": "execute_result"
    }
   ],
   "source": [
    "fights.shape"
   ]
  },
  {
   "cell_type": "code",
   "execution_count": 96,
   "metadata": {
    "collapsed": false
   },
   "outputs": [
    {
     "ename": "AttributeError",
     "evalue": "'DataFrame' object has no attribute 'WeightClass'",
     "output_type": "error",
     "traceback": [
      "\u001b[0;31m---------------------------------------------------------------------------\u001b[0m",
      "\u001b[0;31mAttributeError\u001b[0m                            Traceback (most recent call last)",
      "\u001b[0;32m<ipython-input-96-ffab2bb70301>\u001b[0m in \u001b[0;36m<module>\u001b[0;34m()\u001b[0m\n\u001b[1;32m      3\u001b[0m \u001b[0mfighters\u001b[0m\u001b[0;34m[\u001b[0m\u001b[0;34m'Age'\u001b[0m\u001b[0;34m]\u001b[0m \u001b[0;34m=\u001b[0m \u001b[0;34m(\u001b[0m\u001b[0mpd\u001b[0m\u001b[0;34m.\u001b[0m\u001b[0mto_datetime\u001b[0m\u001b[0;34m(\u001b[0m\u001b[0;34m'today'\u001b[0m\u001b[0;34m)\u001b[0m \u001b[0;34m-\u001b[0m \u001b[0mfighters\u001b[0m\u001b[0;34m.\u001b[0m\u001b[0mDob\u001b[0m\u001b[0;34m)\u001b[0m \u001b[0;34m/\u001b[0m \u001b[0mnp\u001b[0m\u001b[0;34m.\u001b[0m\u001b[0mtimedelta64\u001b[0m\u001b[0;34m(\u001b[0m\u001b[0;36m1\u001b[0m\u001b[0;34m,\u001b[0m \u001b[0;34m'Y'\u001b[0m\u001b[0;34m)\u001b[0m\u001b[0;34m\u001b[0m\u001b[0m\n\u001b[1;32m      4\u001b[0m \u001b[0mfighters\u001b[0m\u001b[0;34m.\u001b[0m\u001b[0mAge\u001b[0m \u001b[0;34m=\u001b[0m \u001b[0mfighters\u001b[0m\u001b[0;34m.\u001b[0m\u001b[0mAge\u001b[0m\u001b[0;34m.\u001b[0m\u001b[0mapply\u001b[0m\u001b[0;34m(\u001b[0m\u001b[0;32mlambda\u001b[0m \u001b[0mx\u001b[0m\u001b[0;34m:\u001b[0m \u001b[0mx\u001b[0m \u001b[0;32mif\u001b[0m \u001b[0mpd\u001b[0m\u001b[0;34m.\u001b[0m\u001b[0misnull\u001b[0m\u001b[0;34m(\u001b[0m\u001b[0mx\u001b[0m\u001b[0;34m)\u001b[0m \u001b[0;32melse\u001b[0m \u001b[0mround\u001b[0m\u001b[0;34m(\u001b[0m\u001b[0mx\u001b[0m\u001b[0;34m,\u001b[0m \u001b[0;36m1\u001b[0m\u001b[0;34m)\u001b[0m\u001b[0;34m)\u001b[0m\u001b[0;34m\u001b[0m\u001b[0m\n\u001b[0;32m----> 5\u001b[0;31m \u001b[0mfighters\u001b[0m\u001b[0;34m.\u001b[0m\u001b[0mWeightClass\u001b[0m \u001b[0;34m=\u001b[0m \u001b[0mfighters\u001b[0m\u001b[0;34m.\u001b[0m\u001b[0mWeightClass\u001b[0m\u001b[0;34m.\u001b[0m\u001b[0mreplace\u001b[0m\u001b[0;34m(\u001b[0m\u001b[0;34m{\u001b[0m\u001b[0;34m'Women\\'s Featherweight'\u001b[0m\u001b[0;34m:\u001b[0m\u001b[0;34m'W-FW'\u001b[0m\u001b[0;34m,\u001b[0m \u001b[0;34m'Middleweight'\u001b[0m\u001b[0;34m:\u001b[0m\u001b[0;34m'MW'\u001b[0m\u001b[0;34m,\u001b[0m \u001b[0;34m'Lightweight'\u001b[0m\u001b[0;34m:\u001b[0m\u001b[0;34m'LW'\u001b[0m\u001b[0;34m}\u001b[0m\u001b[0;34m)\u001b[0m\u001b[0;34m\u001b[0m\u001b[0m\n\u001b[0m\u001b[1;32m      6\u001b[0m \u001b[0mfighters\u001b[0m\u001b[0;34m.\u001b[0m\u001b[0mhead\u001b[0m\u001b[0;34m(\u001b[0m\u001b[0;36m480\u001b[0m\u001b[0;34m)\u001b[0m\u001b[0;34m.\u001b[0m\u001b[0mto_latex\u001b[0m\u001b[0;34m(\u001b[0m\u001b[0;34m'fm_table.tex'\u001b[0m\u001b[0;34m,\u001b[0m \u001b[0mindex\u001b[0m\u001b[0;34m=\u001b[0m\u001b[0mFalse\u001b[0m\u001b[0;34m,\u001b[0m \u001b[0mna_rep\u001b[0m\u001b[0;34m=\u001b[0m\u001b[0;34m''\u001b[0m\u001b[0;34m,\u001b[0m \u001b[0mlongtable\u001b[0m\u001b[0;34m=\u001b[0m\u001b[0mTrue\u001b[0m\u001b[0;34m)\u001b[0m\u001b[0;34m\u001b[0m\u001b[0m\n",
      "\u001b[0;32m/Users/jhalverson/software/anaconda/lib/python2.7/site-packages/pandas/core/generic.pyc\u001b[0m in \u001b[0;36m__getattr__\u001b[0;34m(self, name)\u001b[0m\n\u001b[1;32m   2742\u001b[0m             \u001b[0;32mif\u001b[0m \u001b[0mname\u001b[0m \u001b[0;32min\u001b[0m \u001b[0mself\u001b[0m\u001b[0;34m.\u001b[0m\u001b[0m_info_axis\u001b[0m\u001b[0;34m:\u001b[0m\u001b[0;34m\u001b[0m\u001b[0m\n\u001b[1;32m   2743\u001b[0m                 \u001b[0;32mreturn\u001b[0m \u001b[0mself\u001b[0m\u001b[0;34m[\u001b[0m\u001b[0mname\u001b[0m\u001b[0;34m]\u001b[0m\u001b[0;34m\u001b[0m\u001b[0m\n\u001b[0;32m-> 2744\u001b[0;31m             \u001b[0;32mreturn\u001b[0m \u001b[0mobject\u001b[0m\u001b[0;34m.\u001b[0m\u001b[0m__getattribute__\u001b[0m\u001b[0;34m(\u001b[0m\u001b[0mself\u001b[0m\u001b[0;34m,\u001b[0m \u001b[0mname\u001b[0m\u001b[0;34m)\u001b[0m\u001b[0;34m\u001b[0m\u001b[0m\n\u001b[0m\u001b[1;32m   2745\u001b[0m \u001b[0;34m\u001b[0m\u001b[0m\n\u001b[1;32m   2746\u001b[0m     \u001b[0;32mdef\u001b[0m \u001b[0m__setattr__\u001b[0m\u001b[0;34m(\u001b[0m\u001b[0mself\u001b[0m\u001b[0;34m,\u001b[0m \u001b[0mname\u001b[0m\u001b[0;34m,\u001b[0m \u001b[0mvalue\u001b[0m\u001b[0;34m)\u001b[0m\u001b[0;34m:\u001b[0m\u001b[0;34m\u001b[0m\u001b[0m\n",
      "\u001b[0;31mAttributeError\u001b[0m: 'DataFrame' object has no attribute 'WeightClass'"
     ]
    }
   ],
   "source": [
    "iofile = 'data/fightmetric_fighters_with_corrections_from_UFC_Wikipedia_CLEAN.csv'\n",
    "fighters = pd.read_csv(iofile, header=0, parse_dates=['Dob'])\n",
    "fighters['Age'] = (pd.to_datetime('today') - fighters.Dob) / np.timedelta64(1, 'Y')\n",
    "fighters.Age = fighters.Age.apply(lambda x: x if pd.isnull(x) else round(x, 1))\n",
    "fighters.head(480).to_latex('fm_table.tex', index=False, na_rep='', longtable=True)"
   ]
  },
  {
   "cell_type": "code",
   "execution_count": 57,
   "metadata": {
    "collapsed": false
   },
   "outputs": [
    {
     "data": {
      "text/plain": [
       "(4068, 19)"
      ]
     },
     "execution_count": 57,
     "metadata": {},
     "output_type": "execute_result"
    }
   ],
   "source": [
    "cols = ['Name', 'Weight', 'Height', 'Reach', 'LegReach', 'Stance', 'Dob', 'Age']\n",
    "df = fights.merge(fighters[cols], how='left', left_on='Winner', right_on='Name')\n",
    "df.shape"
   ]
  },
  {
   "cell_type": "code",
   "execution_count": 58,
   "metadata": {
    "collapsed": false
   },
   "outputs": [
    {
     "data": {
      "text/html": [
       "<div>\n",
       "<table border=\"1\" class=\"dataframe\">\n",
       "  <thead>\n",
       "    <tr style=\"text-align: right;\">\n",
       "      <th></th>\n",
       "      <th>Winner</th>\n",
       "      <th>Outcome</th>\n",
       "      <th>Loser</th>\n",
       "      <th>WeightClass</th>\n",
       "      <th>Method</th>\n",
       "      <th>MethodNotes</th>\n",
       "      <th>Round</th>\n",
       "      <th>Time</th>\n",
       "      <th>Event</th>\n",
       "      <th>Date</th>\n",
       "      <th>Location</th>\n",
       "      <th>Name</th>\n",
       "      <th>Weight</th>\n",
       "      <th>Height</th>\n",
       "      <th>Reach</th>\n",
       "      <th>LegReach</th>\n",
       "      <th>Stance</th>\n",
       "      <th>Dob</th>\n",
       "      <th>Age</th>\n",
       "    </tr>\n",
       "  </thead>\n",
       "  <tbody>\n",
       "    <tr>\n",
       "      <th>0</th>\n",
       "      <td>Germaine de Randamie</td>\n",
       "      <td>def.</td>\n",
       "      <td>Holly Holm</td>\n",
       "      <td>Women's Featherweight</td>\n",
       "      <td>U-DEC</td>\n",
       "      <td>NaN</td>\n",
       "      <td>5</td>\n",
       "      <td>5:00</td>\n",
       "      <td>UFC 208: Holm vs. De Randamie</td>\n",
       "      <td>2017-02-11</td>\n",
       "      <td>New York, New York, USA</td>\n",
       "      <td>Germaine de Randamie</td>\n",
       "      <td>145.0</td>\n",
       "      <td>69.0</td>\n",
       "      <td>71.0</td>\n",
       "      <td>41.0</td>\n",
       "      <td>Orthodox</td>\n",
       "      <td>1984-04-24</td>\n",
       "      <td>32.9</td>\n",
       "    </tr>\n",
       "    <tr>\n",
       "      <th>1</th>\n",
       "      <td>Anderson Silva</td>\n",
       "      <td>def.</td>\n",
       "      <td>Derek Brunson</td>\n",
       "      <td>Middleweight</td>\n",
       "      <td>U-DEC</td>\n",
       "      <td>NaN</td>\n",
       "      <td>3</td>\n",
       "      <td>5:00</td>\n",
       "      <td>UFC 208: Holm vs. De Randamie</td>\n",
       "      <td>2017-02-11</td>\n",
       "      <td>New York, New York, USA</td>\n",
       "      <td>Anderson Silva</td>\n",
       "      <td>185.0</td>\n",
       "      <td>74.0</td>\n",
       "      <td>77.0</td>\n",
       "      <td>42.0</td>\n",
       "      <td>Southpaw</td>\n",
       "      <td>1975-04-14</td>\n",
       "      <td>41.9</td>\n",
       "    </tr>\n",
       "    <tr>\n",
       "      <th>2</th>\n",
       "      <td>Jacare Souza</td>\n",
       "      <td>def.</td>\n",
       "      <td>Tim Boetsch</td>\n",
       "      <td>Middleweight</td>\n",
       "      <td>SUB</td>\n",
       "      <td>Kimura</td>\n",
       "      <td>1</td>\n",
       "      <td>3:41</td>\n",
       "      <td>UFC 208: Holm vs. De Randamie</td>\n",
       "      <td>2017-02-11</td>\n",
       "      <td>New York, New York, USA</td>\n",
       "      <td>Jacare Souza</td>\n",
       "      <td>185.0</td>\n",
       "      <td>73.0</td>\n",
       "      <td>72.0</td>\n",
       "      <td>41.0</td>\n",
       "      <td>Orthodox</td>\n",
       "      <td>1979-12-07</td>\n",
       "      <td>37.3</td>\n",
       "    </tr>\n",
       "  </tbody>\n",
       "</table>\n",
       "</div>"
      ],
      "text/plain": [
       "                 Winner Outcome          Loser            WeightClass Method  \\\n",
       "0  Germaine de Randamie    def.     Holly Holm  Women's Featherweight  U-DEC   \n",
       "1        Anderson Silva    def.  Derek Brunson           Middleweight  U-DEC   \n",
       "2          Jacare Souza    def.    Tim Boetsch           Middleweight    SUB   \n",
       "\n",
       "  MethodNotes  Round  Time                          Event       Date  \\\n",
       "0         NaN      5  5:00  UFC 208: Holm vs. De Randamie 2017-02-11   \n",
       "1         NaN      3  5:00  UFC 208: Holm vs. De Randamie 2017-02-11   \n",
       "2      Kimura      1  3:41  UFC 208: Holm vs. De Randamie 2017-02-11   \n",
       "\n",
       "                  Location                  Name  Weight  Height  Reach  \\\n",
       "0  New York, New York, USA  Germaine de Randamie   145.0    69.0   71.0   \n",
       "1  New York, New York, USA        Anderson Silva   185.0    74.0   77.0   \n",
       "2  New York, New York, USA          Jacare Souza   185.0    73.0   72.0   \n",
       "\n",
       "   LegReach    Stance        Dob   Age  \n",
       "0      41.0  Orthodox 1984-04-24  32.9  \n",
       "1      42.0  Southpaw 1975-04-14  41.9  \n",
       "2      41.0  Orthodox 1979-12-07  37.3  "
      ]
     },
     "execution_count": 58,
     "metadata": {},
     "output_type": "execute_result"
    }
   ],
   "source": [
    "df.head(3)"
   ]
  },
  {
   "cell_type": "code",
   "execution_count": 59,
   "metadata": {
    "collapsed": false
   },
   "outputs": [
    {
     "data": {
      "text/plain": [
       "(4068, 27)"
      ]
     },
     "execution_count": 59,
     "metadata": {},
     "output_type": "execute_result"
    }
   ],
   "source": [
    "df = df.merge(fighters[cols], how='left', left_on='Loser', right_on='Name', suffixes=('', '_L'))\n",
    "df.shape"
   ]
  },
  {
   "cell_type": "code",
   "execution_count": 60,
   "metadata": {
    "collapsed": false
   },
   "outputs": [
    {
     "data": {
      "text/html": [
       "<div>\n",
       "<table border=\"1\" class=\"dataframe\">\n",
       "  <thead>\n",
       "    <tr style=\"text-align: right;\">\n",
       "      <th></th>\n",
       "      <th>Winner</th>\n",
       "      <th>Outcome</th>\n",
       "      <th>Loser</th>\n",
       "      <th>WeightClass</th>\n",
       "      <th>Method</th>\n",
       "      <th>MethodNotes</th>\n",
       "      <th>Round</th>\n",
       "      <th>Time</th>\n",
       "      <th>Event</th>\n",
       "      <th>Date</th>\n",
       "      <th>...</th>\n",
       "      <th>Dob</th>\n",
       "      <th>Age</th>\n",
       "      <th>Name_L</th>\n",
       "      <th>Weight_L</th>\n",
       "      <th>Height_L</th>\n",
       "      <th>Reach_L</th>\n",
       "      <th>LegReach_L</th>\n",
       "      <th>Stance_L</th>\n",
       "      <th>Dob_L</th>\n",
       "      <th>Age_L</th>\n",
       "    </tr>\n",
       "  </thead>\n",
       "  <tbody>\n",
       "    <tr>\n",
       "      <th>0</th>\n",
       "      <td>Germaine de Randamie</td>\n",
       "      <td>def.</td>\n",
       "      <td>Holly Holm</td>\n",
       "      <td>Women's Featherweight</td>\n",
       "      <td>U-DEC</td>\n",
       "      <td>NaN</td>\n",
       "      <td>5</td>\n",
       "      <td>5:00</td>\n",
       "      <td>UFC 208: Holm vs. De Randamie</td>\n",
       "      <td>2017-02-11</td>\n",
       "      <td>...</td>\n",
       "      <td>1984-04-24</td>\n",
       "      <td>32.9</td>\n",
       "      <td>Holly Holm</td>\n",
       "      <td>145.0</td>\n",
       "      <td>68.0</td>\n",
       "      <td>69.0</td>\n",
       "      <td>38.0</td>\n",
       "      <td>Southpaw</td>\n",
       "      <td>1981-10-17</td>\n",
       "      <td>35.4</td>\n",
       "    </tr>\n",
       "    <tr>\n",
       "      <th>1</th>\n",
       "      <td>Anderson Silva</td>\n",
       "      <td>def.</td>\n",
       "      <td>Derek Brunson</td>\n",
       "      <td>Middleweight</td>\n",
       "      <td>U-DEC</td>\n",
       "      <td>NaN</td>\n",
       "      <td>3</td>\n",
       "      <td>5:00</td>\n",
       "      <td>UFC 208: Holm vs. De Randamie</td>\n",
       "      <td>2017-02-11</td>\n",
       "      <td>...</td>\n",
       "      <td>1975-04-14</td>\n",
       "      <td>41.9</td>\n",
       "      <td>Derek Brunson</td>\n",
       "      <td>185.0</td>\n",
       "      <td>73.0</td>\n",
       "      <td>77.0</td>\n",
       "      <td>43.0</td>\n",
       "      <td>Southpaw</td>\n",
       "      <td>1984-01-04</td>\n",
       "      <td>33.2</td>\n",
       "    </tr>\n",
       "    <tr>\n",
       "      <th>2</th>\n",
       "      <td>Jacare Souza</td>\n",
       "      <td>def.</td>\n",
       "      <td>Tim Boetsch</td>\n",
       "      <td>Middleweight</td>\n",
       "      <td>SUB</td>\n",
       "      <td>Kimura</td>\n",
       "      <td>1</td>\n",
       "      <td>3:41</td>\n",
       "      <td>UFC 208: Holm vs. De Randamie</td>\n",
       "      <td>2017-02-11</td>\n",
       "      <td>...</td>\n",
       "      <td>1979-12-07</td>\n",
       "      <td>37.3</td>\n",
       "      <td>Tim Boetsch</td>\n",
       "      <td>185.0</td>\n",
       "      <td>72.0</td>\n",
       "      <td>74.0</td>\n",
       "      <td>42.0</td>\n",
       "      <td>Orthodox</td>\n",
       "      <td>1981-01-28</td>\n",
       "      <td>36.1</td>\n",
       "    </tr>\n",
       "  </tbody>\n",
       "</table>\n",
       "<p>3 rows × 27 columns</p>\n",
       "</div>"
      ],
      "text/plain": [
       "                 Winner Outcome          Loser            WeightClass Method  \\\n",
       "0  Germaine de Randamie    def.     Holly Holm  Women's Featherweight  U-DEC   \n",
       "1        Anderson Silva    def.  Derek Brunson           Middleweight  U-DEC   \n",
       "2          Jacare Souza    def.    Tim Boetsch           Middleweight    SUB   \n",
       "\n",
       "  MethodNotes  Round  Time                          Event       Date  ...   \\\n",
       "0         NaN      5  5:00  UFC 208: Holm vs. De Randamie 2017-02-11  ...    \n",
       "1         NaN      3  5:00  UFC 208: Holm vs. De Randamie 2017-02-11  ...    \n",
       "2      Kimura      1  3:41  UFC 208: Holm vs. De Randamie 2017-02-11  ...    \n",
       "\n",
       "         Dob   Age         Name_L  Weight_L  Height_L  Reach_L LegReach_L  \\\n",
       "0 1984-04-24  32.9     Holly Holm     145.0      68.0     69.0       38.0   \n",
       "1 1975-04-14  41.9  Derek Brunson     185.0      73.0     77.0       43.0   \n",
       "2 1979-12-07  37.3    Tim Boetsch     185.0      72.0     74.0       42.0   \n",
       "\n",
       "   Stance_L      Dob_L Age_L  \n",
       "0  Southpaw 1981-10-17  35.4  \n",
       "1  Southpaw 1984-01-04  33.2  \n",
       "2  Orthodox 1981-01-28  36.1  \n",
       "\n",
       "[3 rows x 27 columns]"
      ]
     },
     "execution_count": 60,
     "metadata": {},
     "output_type": "execute_result"
    }
   ],
   "source": [
    "df.head(3)"
   ]
  },
  {
   "cell_type": "code",
   "execution_count": 61,
   "metadata": {
    "collapsed": false
   },
   "outputs": [],
   "source": [
    "#df = df.drop(['Name', 'Name_L'], axis=1)"
   ]
  },
  {
   "cell_type": "code",
   "execution_count": 62,
   "metadata": {
    "collapsed": false,
    "scrolled": false
   },
   "outputs": [
    {
     "data": {
      "text/html": [
       "<div>\n",
       "<table border=\"1\" class=\"dataframe\">\n",
       "  <thead>\n",
       "    <tr style=\"text-align: right;\">\n",
       "      <th></th>\n",
       "      <th>Winner</th>\n",
       "      <th>Age</th>\n",
       "      <th>Loser</th>\n",
       "      <th>Age_L</th>\n",
       "    </tr>\n",
       "  </thead>\n",
       "  <tbody>\n",
       "    <tr>\n",
       "      <th>4</th>\n",
       "      <td>Dustin Poirier</td>\n",
       "      <td>28.1</td>\n",
       "      <td>Jim Miller</td>\n",
       "      <td>33.5</td>\n",
       "    </tr>\n",
       "    <tr>\n",
       "      <th>7</th>\n",
       "      <td>Islam Makhachev</td>\n",
       "      <td>25.4</td>\n",
       "      <td>Nik Lentz</td>\n",
       "      <td>32.6</td>\n",
       "    </tr>\n",
       "    <tr>\n",
       "      <th>8</th>\n",
       "      <td>Rick Glenn</td>\n",
       "      <td>27.9</td>\n",
       "      <td>Phillipe Nover</td>\n",
       "      <td>33.1</td>\n",
       "    </tr>\n",
       "    <tr>\n",
       "      <th>9</th>\n",
       "      <td>Ryan LaFlare</td>\n",
       "      <td>33.4</td>\n",
       "      <td>Roan Carneiro</td>\n",
       "      <td>38.8</td>\n",
       "    </tr>\n",
       "    <tr>\n",
       "      <th>13</th>\n",
       "      <td>Volkan Oezdemir</td>\n",
       "      <td>27.5</td>\n",
       "      <td>Ovince Saint Preux</td>\n",
       "      <td>33.9</td>\n",
       "    </tr>\n",
       "    <tr>\n",
       "      <th>14</th>\n",
       "      <td>Marcel Fortuna</td>\n",
       "      <td>31.4</td>\n",
       "      <td>Anthony Hamilton</td>\n",
       "      <td>36.9</td>\n",
       "    </tr>\n",
       "    <tr>\n",
       "      <th>15</th>\n",
       "      <td>Jessica Andrade</td>\n",
       "      <td>25.5</td>\n",
       "      <td>Angela Hill</td>\n",
       "      <td>32.2</td>\n",
       "    </tr>\n",
       "    <tr>\n",
       "      <th>21</th>\n",
       "      <td>Khalil Rountree Jr.</td>\n",
       "      <td>27.0</td>\n",
       "      <td>Daniel Jolly</td>\n",
       "      <td>32.5</td>\n",
       "    </tr>\n",
       "    <tr>\n",
       "      <th>24</th>\n",
       "      <td>Francis Ngannou</td>\n",
       "      <td>30.5</td>\n",
       "      <td>Andrei Arlovski</td>\n",
       "      <td>38.1</td>\n",
       "    </tr>\n",
       "    <tr>\n",
       "      <th>26</th>\n",
       "      <td>Sam Alvey</td>\n",
       "      <td>30.8</td>\n",
       "      <td>Nate Marquardt</td>\n",
       "      <td>37.9</td>\n",
       "    </tr>\n",
       "    <tr>\n",
       "      <th>34</th>\n",
       "      <td>Yair Rodriguez</td>\n",
       "      <td>24.4</td>\n",
       "      <td>BJ Penn</td>\n",
       "      <td>38.2</td>\n",
       "    </tr>\n",
       "    <tr>\n",
       "      <th>37</th>\n",
       "      <td>Sergio Pettis</td>\n",
       "      <td>23.6</td>\n",
       "      <td>John Moraga</td>\n",
       "      <td>33.0</td>\n",
       "    </tr>\n",
       "    <tr>\n",
       "      <th>47</th>\n",
       "      <td>Cody Garbrandt</td>\n",
       "      <td>25.7</td>\n",
       "      <td>Dominick Cruz</td>\n",
       "      <td>32.0</td>\n",
       "    </tr>\n",
       "    <tr>\n",
       "      <th>53</th>\n",
       "      <td>Alex Garcia</td>\n",
       "      <td>29.7</td>\n",
       "      <td>Mike Pyle</td>\n",
       "      <td>41.5</td>\n",
       "    </tr>\n",
       "    <tr>\n",
       "      <th>67</th>\n",
       "      <td>Hector Sandoval</td>\n",
       "      <td>30.6</td>\n",
       "      <td>Fredy Serrano</td>\n",
       "      <td>37.5</td>\n",
       "    </tr>\n",
       "    <tr>\n",
       "      <th>72</th>\n",
       "      <td>Kelvin Gastelum</td>\n",
       "      <td>25.4</td>\n",
       "      <td>Tim Kennedy</td>\n",
       "      <td>37.5</td>\n",
       "    </tr>\n",
       "    <tr>\n",
       "      <th>76</th>\n",
       "      <td>Viviane Pereira</td>\n",
       "      <td>23.5</td>\n",
       "      <td>Valerie Letourneau</td>\n",
       "      <td>33.9</td>\n",
       "    </tr>\n",
       "    <tr>\n",
       "      <th>78</th>\n",
       "      <td>Lando Vannata</td>\n",
       "      <td>25.0</td>\n",
       "      <td>John Makdessi</td>\n",
       "      <td>31.9</td>\n",
       "    </tr>\n",
       "    <tr>\n",
       "      <th>80</th>\n",
       "      <td>Dustin Ortiz</td>\n",
       "      <td>28.2</td>\n",
       "      <td>Zach Makovsky</td>\n",
       "      <td>33.9</td>\n",
       "    </tr>\n",
       "    <tr>\n",
       "      <th>82</th>\n",
       "      <td>Francis Ngannou</td>\n",
       "      <td>30.5</td>\n",
       "      <td>Anthony Hamilton</td>\n",
       "      <td>36.9</td>\n",
       "    </tr>\n",
       "    <tr>\n",
       "      <th>83</th>\n",
       "      <td>Corey Anderson</td>\n",
       "      <td>27.5</td>\n",
       "      <td>Sean O'Connell</td>\n",
       "      <td>33.5</td>\n",
       "    </tr>\n",
       "    <tr>\n",
       "      <th>88</th>\n",
       "      <td>Andrew Sanchez</td>\n",
       "      <td>28.9</td>\n",
       "      <td>Trevor Smith</td>\n",
       "      <td>36.2</td>\n",
       "    </tr>\n",
       "    <tr>\n",
       "      <th>99</th>\n",
       "      <td>Ryan Hall</td>\n",
       "      <td>32.0</td>\n",
       "      <td>Gray Maynard</td>\n",
       "      <td>37.8</td>\n",
       "    </tr>\n",
       "    <tr>\n",
       "      <th>104</th>\n",
       "      <td>Devin Clark</td>\n",
       "      <td>26.9</td>\n",
       "      <td>Josh Stansbury</td>\n",
       "      <td>32.3</td>\n",
       "    </tr>\n",
       "    <tr>\n",
       "      <th>105</th>\n",
       "      <td>Robert Whittaker</td>\n",
       "      <td>26.2</td>\n",
       "      <td>Derek Brunson</td>\n",
       "      <td>33.2</td>\n",
       "    </tr>\n",
       "    <tr>\n",
       "      <th>107</th>\n",
       "      <td>Omari Akhmedov</td>\n",
       "      <td>29.4</td>\n",
       "      <td>Kyle Noke</td>\n",
       "      <td>37.0</td>\n",
       "    </tr>\n",
       "    <tr>\n",
       "      <th>116</th>\n",
       "      <td>Marlon Vera</td>\n",
       "      <td>24.3</td>\n",
       "      <td>Ning Guangyou</td>\n",
       "      <td>35.2</td>\n",
       "    </tr>\n",
       "    <tr>\n",
       "      <th>118</th>\n",
       "      <td>Ryan Bader</td>\n",
       "      <td>33.8</td>\n",
       "      <td>Rogerio Nogueira</td>\n",
       "      <td>40.8</td>\n",
       "    </tr>\n",
       "    <tr>\n",
       "      <th>121</th>\n",
       "      <td>Krzysztof Jotko</td>\n",
       "      <td>27.6</td>\n",
       "      <td>Thales Leites</td>\n",
       "      <td>35.5</td>\n",
       "    </tr>\n",
       "    <tr>\n",
       "      <th>127</th>\n",
       "      <td>Luis Henrique</td>\n",
       "      <td>23.5</td>\n",
       "      <td>Christian Colombo</td>\n",
       "      <td>36.7</td>\n",
       "    </tr>\n",
       "    <tr>\n",
       "      <th>...</th>\n",
       "      <td>...</td>\n",
       "      <td>...</td>\n",
       "      <td>...</td>\n",
       "      <td>...</td>\n",
       "    </tr>\n",
       "    <tr>\n",
       "      <th>3778</th>\n",
       "      <td>Carlos Newton</td>\n",
       "      <td>40.6</td>\n",
       "      <td>Pat Miletich</td>\n",
       "      <td>49.0</td>\n",
       "    </tr>\n",
       "    <tr>\n",
       "      <th>3801</th>\n",
       "      <td>Renato Sobral</td>\n",
       "      <td>41.5</td>\n",
       "      <td>Maurice Smith</td>\n",
       "      <td>55.2</td>\n",
       "    </tr>\n",
       "    <tr>\n",
       "      <th>3807</th>\n",
       "      <td>Pedro Rizzo</td>\n",
       "      <td>42.9</td>\n",
       "      <td>Dan Severn</td>\n",
       "      <td>58.8</td>\n",
       "    </tr>\n",
       "    <tr>\n",
       "      <th>3809</th>\n",
       "      <td>Jeremy Horn</td>\n",
       "      <td>41.5</td>\n",
       "      <td>Eugene Jackson</td>\n",
       "      <td>50.5</td>\n",
       "    </tr>\n",
       "    <tr>\n",
       "      <th>3813</th>\n",
       "      <td>Jeff Monson</td>\n",
       "      <td>46.1</td>\n",
       "      <td>Tim Lajcik</td>\n",
       "      <td>51.7</td>\n",
       "    </tr>\n",
       "    <tr>\n",
       "      <th>3822</th>\n",
       "      <td>Shonie Carter</td>\n",
       "      <td>44.8</td>\n",
       "      <td>Adrian Serrano</td>\n",
       "      <td>53.2</td>\n",
       "    </tr>\n",
       "    <tr>\n",
       "      <th>3839</th>\n",
       "      <td>Joe Slick</td>\n",
       "      <td>39.4</td>\n",
       "      <td>Jason DeLucia</td>\n",
       "      <td>47.6</td>\n",
       "    </tr>\n",
       "    <tr>\n",
       "      <th>3847</th>\n",
       "      <td>Chuck Liddell</td>\n",
       "      <td>47.2</td>\n",
       "      <td>Paul Jones</td>\n",
       "      <td>53.7</td>\n",
       "    </tr>\n",
       "    <tr>\n",
       "      <th>3860</th>\n",
       "      <td>Pedro Rizzo</td>\n",
       "      <td>42.9</td>\n",
       "      <td>Tra Telligman</td>\n",
       "      <td>52.1</td>\n",
       "    </tr>\n",
       "    <tr>\n",
       "      <th>3866</th>\n",
       "      <td>Tito Ortiz</td>\n",
       "      <td>42.1</td>\n",
       "      <td>Guy Mezger</td>\n",
       "      <td>49.2</td>\n",
       "    </tr>\n",
       "    <tr>\n",
       "      <th>3868</th>\n",
       "      <td>Jeremy Horn</td>\n",
       "      <td>41.5</td>\n",
       "      <td>Chuck Liddell</td>\n",
       "      <td>47.2</td>\n",
       "    </tr>\n",
       "    <tr>\n",
       "      <th>3869</th>\n",
       "      <td>Kevin Randleman</td>\n",
       "      <td>45.6</td>\n",
       "      <td>Maurice Smith</td>\n",
       "      <td>55.2</td>\n",
       "    </tr>\n",
       "    <tr>\n",
       "      <th>3875</th>\n",
       "      <td>Pedro Rizzo</td>\n",
       "      <td>42.9</td>\n",
       "      <td>Mark Coleman</td>\n",
       "      <td>52.2</td>\n",
       "    </tr>\n",
       "    <tr>\n",
       "      <th>3877</th>\n",
       "      <td>Mikey Burnett</td>\n",
       "      <td>42.9</td>\n",
       "      <td>Townsend Saunders</td>\n",
       "      <td>49.9</td>\n",
       "    </tr>\n",
       "    <tr>\n",
       "      <th>3889</th>\n",
       "      <td>Pete Williams</td>\n",
       "      <td>41.7</td>\n",
       "      <td>Mark Coleman</td>\n",
       "      <td>52.2</td>\n",
       "    </tr>\n",
       "    <tr>\n",
       "      <th>3900</th>\n",
       "      <td>Jerry Bohlander</td>\n",
       "      <td>43.1</td>\n",
       "      <td>Kevin Jackson</td>\n",
       "      <td>52.3</td>\n",
       "    </tr>\n",
       "    <tr>\n",
       "      <th>3907</th>\n",
       "      <td>Vitor Belfort</td>\n",
       "      <td>39.9</td>\n",
       "      <td>Joe Charles</td>\n",
       "      <td>58.6</td>\n",
       "    </tr>\n",
       "    <tr>\n",
       "      <th>3908</th>\n",
       "      <td>Frank Shamrock</td>\n",
       "      <td>44.3</td>\n",
       "      <td>Kevin Jackson</td>\n",
       "      <td>52.3</td>\n",
       "    </tr>\n",
       "    <tr>\n",
       "      <th>3937</th>\n",
       "      <td>Mark Coleman</td>\n",
       "      <td>52.2</td>\n",
       "      <td>Dan Severn</td>\n",
       "      <td>58.8</td>\n",
       "    </tr>\n",
       "    <tr>\n",
       "      <th>3938</th>\n",
       "      <td>Vitor Belfort</td>\n",
       "      <td>39.9</td>\n",
       "      <td>Scott Ferrozzo</td>\n",
       "      <td>51.9</td>\n",
       "    </tr>\n",
       "    <tr>\n",
       "      <th>3940</th>\n",
       "      <td>Vitor Belfort</td>\n",
       "      <td>39.9</td>\n",
       "      <td>Tra Telligman</td>\n",
       "      <td>52.1</td>\n",
       "    </tr>\n",
       "    <tr>\n",
       "      <th>3985</th>\n",
       "      <td>Jerry Bohlander</td>\n",
       "      <td>43.1</td>\n",
       "      <td>Scott Ferrozzo</td>\n",
       "      <td>51.9</td>\n",
       "    </tr>\n",
       "    <tr>\n",
       "      <th>3986</th>\n",
       "      <td>Paul Varelans</td>\n",
       "      <td>47.5</td>\n",
       "      <td>Joe Moreira</td>\n",
       "      <td>55.7</td>\n",
       "    </tr>\n",
       "    <tr>\n",
       "      <th>3990</th>\n",
       "      <td>Oleg Taktarov</td>\n",
       "      <td>49.5</td>\n",
       "      <td>Marco Ruas</td>\n",
       "      <td>56.1</td>\n",
       "    </tr>\n",
       "    <tr>\n",
       "      <th>4010</th>\n",
       "      <td>Ken Shamrock</td>\n",
       "      <td>53.1</td>\n",
       "      <td>Dan Severn</td>\n",
       "      <td>58.8</td>\n",
       "    </tr>\n",
       "    <tr>\n",
       "      <th>4015</th>\n",
       "      <td>Paul Varelans</td>\n",
       "      <td>47.5</td>\n",
       "      <td>Cal Worsham</td>\n",
       "      <td>53.7</td>\n",
       "    </tr>\n",
       "    <tr>\n",
       "      <th>4029</th>\n",
       "      <td>Royce Gracie</td>\n",
       "      <td>50.2</td>\n",
       "      <td>Dan Severn</td>\n",
       "      <td>58.8</td>\n",
       "    </tr>\n",
       "    <tr>\n",
       "      <th>4031</th>\n",
       "      <td>Royce Gracie</td>\n",
       "      <td>50.2</td>\n",
       "      <td>Keith Hackney</td>\n",
       "      <td>58.9</td>\n",
       "    </tr>\n",
       "    <tr>\n",
       "      <th>4035</th>\n",
       "      <td>Royce Gracie</td>\n",
       "      <td>50.2</td>\n",
       "      <td>Ron van Clief</td>\n",
       "      <td>74.1</td>\n",
       "    </tr>\n",
       "    <tr>\n",
       "      <th>4060</th>\n",
       "      <td>Royce Gracie</td>\n",
       "      <td>50.2</td>\n",
       "      <td>Gerard Gordeau</td>\n",
       "      <td>57.9</td>\n",
       "    </tr>\n",
       "  </tbody>\n",
       "</table>\n",
       "<p>751 rows × 4 columns</p>\n",
       "</div>"
      ],
      "text/plain": [
       "                   Winner   Age               Loser  Age_L\n",
       "4          Dustin Poirier  28.1          Jim Miller   33.5\n",
       "7         Islam Makhachev  25.4           Nik Lentz   32.6\n",
       "8              Rick Glenn  27.9      Phillipe Nover   33.1\n",
       "9            Ryan LaFlare  33.4       Roan Carneiro   38.8\n",
       "13        Volkan Oezdemir  27.5  Ovince Saint Preux   33.9\n",
       "14         Marcel Fortuna  31.4    Anthony Hamilton   36.9\n",
       "15        Jessica Andrade  25.5         Angela Hill   32.2\n",
       "21    Khalil Rountree Jr.  27.0        Daniel Jolly   32.5\n",
       "24        Francis Ngannou  30.5     Andrei Arlovski   38.1\n",
       "26              Sam Alvey  30.8      Nate Marquardt   37.9\n",
       "34         Yair Rodriguez  24.4             BJ Penn   38.2\n",
       "37          Sergio Pettis  23.6         John Moraga   33.0\n",
       "47         Cody Garbrandt  25.7       Dominick Cruz   32.0\n",
       "53            Alex Garcia  29.7           Mike Pyle   41.5\n",
       "67        Hector Sandoval  30.6       Fredy Serrano   37.5\n",
       "72        Kelvin Gastelum  25.4         Tim Kennedy   37.5\n",
       "76        Viviane Pereira  23.5  Valerie Letourneau   33.9\n",
       "78          Lando Vannata  25.0       John Makdessi   31.9\n",
       "80           Dustin Ortiz  28.2       Zach Makovsky   33.9\n",
       "82        Francis Ngannou  30.5    Anthony Hamilton   36.9\n",
       "83         Corey Anderson  27.5      Sean O'Connell   33.5\n",
       "88         Andrew Sanchez  28.9        Trevor Smith   36.2\n",
       "99              Ryan Hall  32.0        Gray Maynard   37.8\n",
       "104           Devin Clark  26.9      Josh Stansbury   32.3\n",
       "105      Robert Whittaker  26.2       Derek Brunson   33.2\n",
       "107        Omari Akhmedov  29.4           Kyle Noke   37.0\n",
       "116           Marlon Vera  24.3       Ning Guangyou   35.2\n",
       "118            Ryan Bader  33.8    Rogerio Nogueira   40.8\n",
       "121       Krzysztof Jotko  27.6       Thales Leites   35.5\n",
       "127         Luis Henrique  23.5   Christian Colombo   36.7\n",
       "...                   ...   ...                 ...    ...\n",
       "3778        Carlos Newton  40.6        Pat Miletich   49.0\n",
       "3801        Renato Sobral  41.5       Maurice Smith   55.2\n",
       "3807          Pedro Rizzo  42.9          Dan Severn   58.8\n",
       "3809          Jeremy Horn  41.5      Eugene Jackson   50.5\n",
       "3813          Jeff Monson  46.1          Tim Lajcik   51.7\n",
       "3822        Shonie Carter  44.8      Adrian Serrano   53.2\n",
       "3839            Joe Slick  39.4       Jason DeLucia   47.6\n",
       "3847        Chuck Liddell  47.2          Paul Jones   53.7\n",
       "3860          Pedro Rizzo  42.9       Tra Telligman   52.1\n",
       "3866           Tito Ortiz  42.1          Guy Mezger   49.2\n",
       "3868          Jeremy Horn  41.5       Chuck Liddell   47.2\n",
       "3869      Kevin Randleman  45.6       Maurice Smith   55.2\n",
       "3875          Pedro Rizzo  42.9        Mark Coleman   52.2\n",
       "3877        Mikey Burnett  42.9   Townsend Saunders   49.9\n",
       "3889        Pete Williams  41.7        Mark Coleman   52.2\n",
       "3900      Jerry Bohlander  43.1       Kevin Jackson   52.3\n",
       "3907        Vitor Belfort  39.9         Joe Charles   58.6\n",
       "3908       Frank Shamrock  44.3       Kevin Jackson   52.3\n",
       "3937         Mark Coleman  52.2          Dan Severn   58.8\n",
       "3938        Vitor Belfort  39.9      Scott Ferrozzo   51.9\n",
       "3940        Vitor Belfort  39.9       Tra Telligman   52.1\n",
       "3985      Jerry Bohlander  43.1      Scott Ferrozzo   51.9\n",
       "3986        Paul Varelans  47.5         Joe Moreira   55.7\n",
       "3990        Oleg Taktarov  49.5          Marco Ruas   56.1\n",
       "4010         Ken Shamrock  53.1          Dan Severn   58.8\n",
       "4015        Paul Varelans  47.5         Cal Worsham   53.7\n",
       "4029         Royce Gracie  50.2          Dan Severn   58.8\n",
       "4031         Royce Gracie  50.2       Keith Hackney   58.9\n",
       "4035         Royce Gracie  50.2       Ron van Clief   74.1\n",
       "4060         Royce Gracie  50.2      Gerard Gordeau   57.9\n",
       "\n",
       "[751 rows x 4 columns]"
      ]
     },
     "execution_count": 62,
     "metadata": {},
     "output_type": "execute_result"
    }
   ],
   "source": [
    "df[df.Dob - df.Dob_L > np.timedelta64(5, 'Y')][['Winner', 'Age', 'Loser', 'Age_L']]"
   ]
  },
  {
   "cell_type": "code",
   "execution_count": 63,
   "metadata": {
    "collapsed": false
   },
   "outputs": [],
   "source": [
    "wins = df[(df.Outcome == 'def.') & (df.Date > np.datetime64('2005-01-01')) & pd.notnull(df.Dob) & pd.notnull(df.Dob_L)].copy()\n",
    "wins['Age'] = (wins.Date - wins.Dob) / np.timedelta64(1, 'Y')\n",
    "wins['Age_L'] = (wins.Date - wins.Dob_L) / np.timedelta64(1, 'Y')"
   ]
  },
  {
   "cell_type": "code",
   "execution_count": 64,
   "metadata": {
    "collapsed": false
   },
   "outputs": [
    {
     "data": {
      "text/plain": [
       "0.6242038216560509"
      ]
     },
     "execution_count": 64,
     "metadata": {},
     "output_type": "execute_result"
    }
   ],
   "source": [
    "msk1 = wins.Age < 25\n",
    "msk2 = wins.Age_L < 25\n",
    "under25 = float(wins[msk1].shape[0]) / wins[msk1 | msk2].shape[0]\n",
    "under25"
   ]
  },
  {
   "cell_type": "code",
   "execution_count": 65,
   "metadata": {
    "collapsed": false
   },
   "outputs": [
    {
     "data": {
      "text/plain": [
       "(490, 371)"
      ]
     },
     "execution_count": 65,
     "metadata": {},
     "output_type": "execute_result"
    }
   ],
   "source": [
    "wins[msk1].shape[0], wins[msk2].shape[0]"
   ]
  },
  {
   "cell_type": "code",
   "execution_count": 66,
   "metadata": {
    "collapsed": false
   },
   "outputs": [
    {
     "data": {
      "text/plain": [
       "0.6313905930470347"
      ]
     },
     "execution_count": 66,
     "metadata": {},
     "output_type": "execute_result"
    }
   ],
   "source": [
    "msk1 = (wins.Age >= 25) & (wins.Age <= 29)\n",
    "msk2 = (wins.Age_L >= 25) & (wins.Age_L <= 29)\n",
    "over25under30 = float(wins[msk1].shape[0]) / wins[msk1 | msk2].shape[0]\n",
    "over25under30"
   ]
  },
  {
   "cell_type": "code",
   "execution_count": 67,
   "metadata": {
    "collapsed": false
   },
   "outputs": [
    {
     "data": {
      "text/plain": [
       "(1235, 1118)"
      ]
     },
     "execution_count": 67,
     "metadata": {},
     "output_type": "execute_result"
    }
   ],
   "source": [
    "wins[msk1].shape[0], wins[msk2].shape[0]"
   ]
  },
  {
   "cell_type": "code",
   "execution_count": 68,
   "metadata": {
    "collapsed": false
   },
   "outputs": [
    {
     "data": {
      "text/plain": [
       "0.5838264299802761"
      ]
     },
     "execution_count": 68,
     "metadata": {},
     "output_type": "execute_result"
    }
   ],
   "source": [
    "msk1 = (wins.Age >= 30) & (wins.Age <= 35)\n",
    "msk2 = (wins.Age_L >= 30) & (wins.Age_L <= 35)\n",
    "over30under35 = float(wins[msk1].shape[0]) / wins[msk1 | msk2].shape[0]\n",
    "over30under35"
   ]
  },
  {
   "cell_type": "code",
   "execution_count": 69,
   "metadata": {
    "collapsed": false
   },
   "outputs": [
    {
     "data": {
      "text/plain": [
       "(1184, 1310)"
      ]
     },
     "execution_count": 69,
     "metadata": {},
     "output_type": "execute_result"
    }
   ],
   "source": [
    "wins[msk1].shape[0], wins[msk2].shape[0]"
   ]
  },
  {
   "cell_type": "code",
   "execution_count": 70,
   "metadata": {
    "collapsed": false
   },
   "outputs": [
    {
     "data": {
      "text/plain": [
       "0.47126436781609193"
      ]
     },
     "execution_count": 70,
     "metadata": {},
     "output_type": "execute_result"
    }
   ],
   "source": [
    "msk1 = wins.Age > 35\n",
    "msk2 = wins.Age_L > 35\n",
    "over35 = float(wins[msk1].shape[0]) / wins[msk1 | msk2].shape[0]\n",
    "over35"
   ]
  },
  {
   "cell_type": "code",
   "execution_count": 71,
   "metadata": {
    "collapsed": false
   },
   "outputs": [
    {
     "data": {
      "text/plain": [
       "(287, 394)"
      ]
     },
     "execution_count": 71,
     "metadata": {},
     "output_type": "execute_result"
    }
   ],
   "source": [
    "wins[msk1].shape[0], wins[msk2].shape[0]"
   ]
  },
  {
   "cell_type": "code",
   "execution_count": 72,
   "metadata": {
    "collapsed": false
   },
   "outputs": [
    {
     "data": {
      "text/plain": [
       "72"
      ]
     },
     "execution_count": 72,
     "metadata": {},
     "output_type": "execute_result"
    }
   ],
   "source": [
    "wins[msk1 & msk2][['Name', 'Name_L', 'Age', 'Age_L']].shape[0]"
   ]
  },
  {
   "cell_type": "code",
   "execution_count": 73,
   "metadata": {
    "collapsed": false
   },
   "outputs": [
    {
     "data": {
      "text/plain": [
       "0.40037243947858475"
      ]
     },
     "execution_count": 73,
     "metadata": {},
     "output_type": "execute_result"
    }
   ],
   "source": [
    "msk1 = (wins.Age > 35) & (wins.Age_L < 35)\n",
    "msk2 = (wins.Age_L > 35) & (wins.Age < 35)\n",
    "over35 = float(wins[msk1].shape[0]) / wins[msk1 | msk2].shape[0]\n",
    "over35"
   ]
  },
  {
   "cell_type": "code",
   "execution_count": 74,
   "metadata": {
    "collapsed": false
   },
   "outputs": [
    {
     "data": {
      "text/plain": [
       "(215, 322)"
      ]
     },
     "execution_count": 74,
     "metadata": {},
     "output_type": "execute_result"
    }
   ],
   "source": [
    "wins[msk1].shape[0], wins[msk2].shape[0]"
   ]
  },
  {
   "cell_type": "code",
   "execution_count": 75,
   "metadata": {
    "collapsed": false
   },
   "outputs": [],
   "source": [
    "wins.Age = wins.Age.astype(int)\n",
    "wins.Age_L = wins.Age_L.astype(int)\n",
    "x=wins.Age.value_counts()/(wins.Age.value_counts() + wins.Age_L.value_counts())"
   ]
  },
  {
   "cell_type": "code",
   "execution_count": 76,
   "metadata": {
    "collapsed": false
   },
   "outputs": [
    {
     "data": {
      "text/plain": [
       "18         NaN\n",
       "19    0.750000\n",
       "20    0.592593\n",
       "21    0.590164\n",
       "22    0.559211\n",
       "23    0.562500\n",
       "24    0.572222\n",
       "25    0.522581\n",
       "26    0.525394\n",
       "27    0.555730\n",
       "28    0.497059\n",
       "29    0.497765\n",
       "30    0.512308\n",
       "31    0.496721\n",
       "32    0.470019\n",
       "33    0.451948\n",
       "34    0.394578\n",
       "35    0.453333\n",
       "36    0.407609\n",
       "37    0.433628\n",
       "38    0.396552\n",
       "39    0.416667\n",
       "40    0.380952\n",
       "41    0.333333\n",
       "42    0.181818\n",
       "43    0.333333\n",
       "44    0.600000\n",
       "45    0.250000\n",
       "46    0.500000\n",
       "47    0.500000\n",
       "dtype: float64"
      ]
     },
     "execution_count": 76,
     "metadata": {},
     "output_type": "execute_result"
    }
   ],
   "source": [
    "x"
   ]
  },
  {
   "cell_type": "code",
   "execution_count": 121,
   "metadata": {
    "collapsed": false
   },
   "outputs": [
    {
     "data": {
      "text/plain": [
       "(0, 100)"
      ]
     },
     "execution_count": 121,
     "metadata": {},
     "output_type": "execute_result"
    },
    {
     "data": {
      "image/png": "[encoded data removed]",
      "text/plain": [
       "<matplotlib.figure.Figure at 0x113a33ad0>"
      ]
     },
     "metadata": {},
     "output_type": "display_data"
    }
   ],
   "source": [
    "plt.plot(x.index, 100 * x.values, 'wo')\n",
    "plt.xlabel('Age')\n",
    "plt.ylabel('Win percentage')\n",
    "plt.ylim(0, 100)"
   ]
  },
  {
   "cell_type": "code",
   "execution_count": 78,
   "metadata": {
    "collapsed": false
   },
   "outputs": [
    {
     "data": {
      "text/plain": [
       "18      NaN\n",
       "19      4.0\n",
       "20     27.0\n",
       "21     61.0\n",
       "22    152.0\n",
       "23    256.0\n",
       "24    360.0\n",
       "25    465.0\n",
       "26    571.0\n",
       "27    637.0\n",
       "28    680.0\n",
       "29    671.0\n",
       "30    650.0\n",
       "31    610.0\n",
       "32    517.0\n",
       "33    385.0\n",
       "34    332.0\n",
       "35    225.0\n",
       "36    184.0\n",
       "37    113.0\n",
       "38     58.0\n",
       "39     36.0\n",
       "40     21.0\n",
       "41     12.0\n",
       "42     11.0\n",
       "43      6.0\n",
       "44      5.0\n",
       "45      4.0\n",
       "46      4.0\n",
       "47      2.0\n",
       "dtype: float64"
      ]
     },
     "execution_count": 78,
     "metadata": {},
     "output_type": "execute_result"
    }
   ],
   "source": [
    "wins.Age.value_counts() + wins.Age_L.value_counts()"
   ]
  },
  {
   "cell_type": "code",
   "execution_count": 79,
   "metadata": {
    "collapsed": false
   },
   "outputs": [
    {
     "data": {
      "text/plain": [
       "18         NaN\n",
       "19    0.750000\n",
       "20    0.592593\n",
       "21    0.590164\n",
       "22    0.559211\n",
       "23    0.562500\n",
       "24    0.572222\n",
       "25    0.522581\n",
       "26    0.525394\n",
       "27    0.555730\n",
       "28    0.497059\n",
       "29    0.497765\n",
       "30    0.512308\n",
       "31    0.496721\n",
       "32    0.470019\n",
       "33    0.451948\n",
       "34    0.394578\n",
       "35    0.453333\n",
       "36    0.407609\n",
       "37    0.433628\n",
       "38    0.396552\n",
       "39    0.416667\n",
       "40    0.380952\n",
       "41    0.333333\n",
       "42    0.181818\n",
       "43    0.333333\n",
       "44    0.600000\n",
       "45    0.250000\n",
       "46    0.500000\n",
       "47    0.500000\n",
       "dtype: float64"
      ]
     },
     "execution_count": 79,
     "metadata": {},
     "output_type": "execute_result"
    }
   ],
   "source": [
    "x"
   ]
  },
  {
   "cell_type": "code",
   "execution_count": 128,
   "metadata": {
    "collapsed": false
   },
   "outputs": [
    {
     "data": {
      "text/plain": [
       "-16      1\n",
       "-15      1\n",
       "-14      5\n",
       "-13      8\n",
       "-12     16\n",
       "-11     14\n",
       "-10     33\n",
       "-9      39\n",
       "-8      72\n",
       "-7      92\n",
       "-6     108\n",
       "-5     151\n",
       "-4     163\n",
       "-3     194\n",
       "-2     249\n",
       "-1     303\n",
       " 0     249\n",
       " 1     269\n",
       " 2     269\n",
       " 3     294\n",
       " 4     218\n",
       " 5     196\n",
       " 6     152\n",
       " 7     120\n",
       " 8     100\n",
       " 9      65\n",
       " 10     60\n",
       " 11     29\n",
       " 12     23\n",
       " 13     15\n",
       " 14     11\n",
       " 15      6\n",
       " 16      4\n",
       " 17      1\n",
       "dtype: int64"
      ]
     },
     "execution_count": 128,
     "metadata": {},
     "output_type": "execute_result"
    }
   ],
   "source": [
    "delta_age = (wins.Age_L - wins.Age).value_counts().sort_index()\n",
    "delta_age"
   ]
  },
  {
   "cell_type": "code",
   "execution_count": 132,
   "metadata": {
    "collapsed": false
   },
   "outputs": [
    {
     "data": {
      "text/plain": [
       "0     249\n",
       "1     269\n",
       "2     269\n",
       "3     294\n",
       "4     218\n",
       "5     196\n",
       "6     152\n",
       "7     120\n",
       "8     100\n",
       "9      65\n",
       "10     60\n",
       "11     29\n",
       "12     23\n",
       "13     15\n",
       "14     11\n",
       "15      6\n",
       "16      4\n",
       "17      1\n",
       "dtype: int64"
      ]
     },
     "execution_count": 132,
     "metadata": {},
     "output_type": "execute_result"
    }
   ],
   "source": [
    "s = delta_age.loc[0:17]\n",
    "s"
   ]
  },
  {
   "cell_type": "code",
   "execution_count": 127,
   "metadata": {
    "collapsed": false
   },
   "outputs": [
    {
     "data": {
      "text/plain": [
       "0     249\n",
       "1     572\n",
       "2     518\n",
       "3     488\n",
       "4     381\n",
       "5     347\n",
       "6     260\n",
       "7     212\n",
       "8     172\n",
       "9     104\n",
       "10     93\n",
       "11     43\n",
       "12     39\n",
       "13     23\n",
       "14     16\n",
       "15      7\n",
       "16      5\n",
       "17      1\n",
       "dtype: int64"
      ]
     },
     "execution_count": 127,
     "metadata": {},
     "output_type": "execute_result"
    }
   ],
   "source": [
    "delta_age_overall = np.abs(wins.Age - wins.Age_L).value_counts().sort_index()\n",
    "delta_age_overall"
   ]
  },
  {
   "cell_type": "code",
   "execution_count": 139,
   "metadata": {
    "collapsed": false
   },
   "outputs": [
    {
     "data": {
      "text/plain": [
       "<matplotlib.text.Text at 0x10f21bfd0>"
      ]
     },
     "execution_count": 139,
     "metadata": {},
     "output_type": "execute_result"
    },
    {
     "data": {
      "image/png": "[encoded data removed]",
      "text/plain": [
       "<matplotlib.figure.Figure at 0x113e14350>"
      ]
     },
     "metadata": {},
     "output_type": "display_data"
    }
   ],
   "source": [
    "plt.plot(delta_age_overall.index, 100 * s / delta_age_overall, 'wo', y)\n",
    "plt.xlim(0, 11)\n",
    "plt.xlabel('Number of years younger')\n",
    "plt.ylabel('Win percentage of younger fighter')"
   ]
  },
  {
   "cell_type": "code",
   "execution_count": null,
   "metadata": {
    "collapsed": true
   },
   "outputs": [],
   "source": []
  }
 ],
 "metadata": {
  "anaconda-cloud": {},
  "kernelspec": {
   "display_name": "Python [conda root]",
   "language": "python",
   "name": "conda-root-py"
  },
  "language_info": {
   "codemirror_mode": {
    "name": "ipython",
    "version": 2
   },
   "file_extension": ".py",
   "mimetype": "text/x-python",
   "name": "python",
   "nbconvert_exporter": "python",
   "pygments_lexer": "ipython2",
   "version": "2.7.12"
  }
 },
 "nbformat": 4,
 "nbformat_minor": 1
}
