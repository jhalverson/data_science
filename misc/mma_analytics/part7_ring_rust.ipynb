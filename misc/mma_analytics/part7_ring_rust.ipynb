{
 "cells": [
  {
   "cell_type": "markdown",
   "metadata": {},
   "source": [
    "# Jonathan Halverson\n",
    "# Thursday, March 16, 2017\n",
    "# Part 7: Is ring rust real?"
   ]
  },
  {
   "cell_type": "markdown",
   "metadata": {},
   "source": [
    "One problem with this calculation is that it assumes that fighters do not fight outside the UFC in between fights."
   ]
  },
  {
   "cell_type": "code",
   "execution_count": 1,
   "metadata": {
    "collapsed": true
   },
   "outputs": [],
   "source": [
    "import numpy as np\n",
    "import pandas as pd\n",
    "import matplotlib.pyplot as plt\n",
    "%matplotlib inline\n",
    "plt.style.use('halverson')\n",
    "from scipy.stats import t"
   ]
  },
  {
   "cell_type": "code",
   "execution_count": 2,
   "metadata": {
    "collapsed": false,
    "scrolled": true
   },
   "outputs": [
    {
     "data": {
      "text/html": [
       "<div>\n",
       "<table border=\"1\" class=\"dataframe\">\n",
       "  <thead>\n",
       "    <tr style=\"text-align: right;\">\n",
       "      <th></th>\n",
       "      <th>Winner</th>\n",
       "      <th>Outcome</th>\n",
       "      <th>Loser</th>\n",
       "      <th>WeightClass</th>\n",
       "      <th>Method</th>\n",
       "      <th>MethodNotes</th>\n",
       "      <th>Round</th>\n",
       "      <th>Time</th>\n",
       "      <th>Event</th>\n",
       "      <th>Date</th>\n",
       "      <th>Location</th>\n",
       "    </tr>\n",
       "  </thead>\n",
       "  <tbody>\n",
       "    <tr>\n",
       "      <th>0</th>\n",
       "      <td>Germaine de Randamie</td>\n",
       "      <td>def.</td>\n",
       "      <td>Holly Holm</td>\n",
       "      <td>Women's Featherweight</td>\n",
       "      <td>U-DEC</td>\n",
       "      <td>NaN</td>\n",
       "      <td>5</td>\n",
       "      <td>5:00</td>\n",
       "      <td>UFC 208: Holm vs. De Randamie</td>\n",
       "      <td>2017-02-11</td>\n",
       "      <td>New York, New York, USA</td>\n",
       "    </tr>\n",
       "    <tr>\n",
       "      <th>1</th>\n",
       "      <td>Anderson Silva</td>\n",
       "      <td>def.</td>\n",
       "      <td>Derek Brunson</td>\n",
       "      <td>Middleweight</td>\n",
       "      <td>U-DEC</td>\n",
       "      <td>NaN</td>\n",
       "      <td>3</td>\n",
       "      <td>5:00</td>\n",
       "      <td>UFC 208: Holm vs. De Randamie</td>\n",
       "      <td>2017-02-11</td>\n",
       "      <td>New York, New York, USA</td>\n",
       "    </tr>\n",
       "    <tr>\n",
       "      <th>2</th>\n",
       "      <td>Jacare Souza</td>\n",
       "      <td>def.</td>\n",
       "      <td>Tim Boetsch</td>\n",
       "      <td>Middleweight</td>\n",
       "      <td>SUB</td>\n",
       "      <td>Kimura</td>\n",
       "      <td>1</td>\n",
       "      <td>3:41</td>\n",
       "      <td>UFC 208: Holm vs. De Randamie</td>\n",
       "      <td>2017-02-11</td>\n",
       "      <td>New York, New York, USA</td>\n",
       "    </tr>\n",
       "  </tbody>\n",
       "</table>\n",
       "</div>"
      ],
      "text/plain": [
       "                 Winner Outcome          Loser            WeightClass Method  \\\n",
       "0  Germaine de Randamie    def.     Holly Holm  Women's Featherweight  U-DEC   \n",
       "1        Anderson Silva    def.  Derek Brunson           Middleweight  U-DEC   \n",
       "2          Jacare Souza    def.    Tim Boetsch           Middleweight    SUB   \n",
       "\n",
       "  MethodNotes  Round  Time                          Event       Date  \\\n",
       "0         NaN      5  5:00  UFC 208: Holm vs. De Randamie 2017-02-11   \n",
       "1         NaN      3  5:00  UFC 208: Holm vs. De Randamie 2017-02-11   \n",
       "2      Kimura      1  3:41  UFC 208: Holm vs. De Randamie 2017-02-11   \n",
       "\n",
       "                  Location  \n",
       "0  New York, New York, USA  \n",
       "1  New York, New York, USA  \n",
       "2  New York, New York, USA  "
      ]
     },
     "execution_count": 2,
     "metadata": {},
     "output_type": "execute_result"
    }
   ],
   "source": [
    "iofile = 'data/fightmetric_cards/fightmetric_fights_CLEAN_3-6-2017.csv'\n",
    "fights = pd.read_csv(iofile, header=0, parse_dates=['Date'])\n",
    "fights.head(3)"
   ]
  },
  {
   "cell_type": "code",
   "execution_count": 3,
   "metadata": {
    "collapsed": false
   },
   "outputs": [],
   "source": [
    "fights = fights[(fights.Date > pd.to_datetime('2005-01-01')) & (fights.Outcome != 'no contest')]"
   ]
  },
  {
   "cell_type": "code",
   "execution_count": 4,
   "metadata": {
    "collapsed": false
   },
   "outputs": [],
   "source": [
    "from collections import defaultdict\n",
    "\n",
    "wins = defaultdict(int)\n",
    "total = defaultdict(int)\n",
    "wins2 = defaultdict(int)\n",
    "total2 = defaultdict(int)\n",
    "wins_12 = 0\n",
    "total_12 = 0\n",
    "win_lose = fights.Winner.append(fights.Loser).unique()\n",
    "for fighter in win_lose:\n",
    "     msk = (fights.Winner == fighter) | (fights.Loser == fighter)\n",
    "     all_fights = fights[msk].sort_values('Date').reset_index()\n",
    "     for i in range(0, all_fights.shape[0] - 1):\n",
    "          # 30.4375 = (3 * 365 + 366) / 48.\n",
    "          months = (all_fights.loc[i + 1, 'Date'] - all_fights.loc[i, 'Date']) / pd.to_timedelta('30.4375 days')\n",
    "          months_12 = months\n",
    "          months2 = int(months / 3.0)\n",
    "          months = round(months)\n",
    "          if (all_fights.loc[i + 1, 'Winner'] == fighter and all_fights.loc[i + 1, 'Outcome'] == 'def.'):\n",
    "               wins[months] += 1\n",
    "               wins2[months2] += 1\n",
    "               if (months_12 > 15.0 and months_12 <= 24.0): wins_12 += 1\n",
    "          total[months] += 1\n",
    "          total2[months2] += 1\n",
    "          if (months_12 > 15.0 and months_12 <= 24.0): total_12 += 1"
   ]
  },
  {
   "cell_type": "code",
   "execution_count": 5,
   "metadata": {
    "collapsed": false
   },
   "outputs": [],
   "source": [
    "ws = pd.Series(data=wins.values(), index=wins.keys())\n",
    "ts = pd.Series(data=total.values(), index=total.keys())"
   ]
  },
  {
   "cell_type": "code",
   "execution_count": 6,
   "metadata": {
    "collapsed": false
   },
   "outputs": [
    {
     "data": {
      "text/html": [
       "<div>\n",
       "<table border=\"1\" class=\"dataframe\">\n",
       "  <thead>\n",
       "    <tr style=\"text-align: right;\">\n",
       "      <th></th>\n",
       "      <th>wins</th>\n",
       "      <th>total</th>\n",
       "      <th>WinRatio</th>\n",
       "      <th>2se</th>\n",
       "    </tr>\n",
       "  </thead>\n",
       "  <tbody>\n",
       "    <tr>\n",
       "      <th>1.0</th>\n",
       "      <td>25.0</td>\n",
       "      <td>52.0</td>\n",
       "      <td>0.480769</td>\n",
       "      <td>0.135801</td>\n",
       "    </tr>\n",
       "    <tr>\n",
       "      <th>2.0</th>\n",
       "      <td>164.0</td>\n",
       "      <td>319.0</td>\n",
       "      <td>0.514107</td>\n",
       "      <td>0.054848</td>\n",
       "    </tr>\n",
       "    <tr>\n",
       "      <th>3.0</th>\n",
       "      <td>408.0</td>\n",
       "      <td>797.0</td>\n",
       "      <td>0.511920</td>\n",
       "      <td>0.034704</td>\n",
       "    </tr>\n",
       "    <tr>\n",
       "      <th>4.0</th>\n",
       "      <td>570.0</td>\n",
       "      <td>1082.0</td>\n",
       "      <td>0.526802</td>\n",
       "      <td>0.029750</td>\n",
       "    </tr>\n",
       "    <tr>\n",
       "      <th>5.0</th>\n",
       "      <td>529.0</td>\n",
       "      <td>1014.0</td>\n",
       "      <td>0.521696</td>\n",
       "      <td>0.030747</td>\n",
       "    </tr>\n",
       "    <tr>\n",
       "      <th>6.0</th>\n",
       "      <td>382.0</td>\n",
       "      <td>719.0</td>\n",
       "      <td>0.531293</td>\n",
       "      <td>0.036476</td>\n",
       "    </tr>\n",
       "    <tr>\n",
       "      <th>7.0</th>\n",
       "      <td>246.0</td>\n",
       "      <td>461.0</td>\n",
       "      <td>0.533623</td>\n",
       "      <td>0.045540</td>\n",
       "    </tr>\n",
       "    <tr>\n",
       "      <th>8.0</th>\n",
       "      <td>135.0</td>\n",
       "      <td>284.0</td>\n",
       "      <td>0.475352</td>\n",
       "      <td>0.058082</td>\n",
       "    </tr>\n",
       "    <tr>\n",
       "      <th>9.0</th>\n",
       "      <td>147.0</td>\n",
       "      <td>256.0</td>\n",
       "      <td>0.574219</td>\n",
       "      <td>0.060571</td>\n",
       "    </tr>\n",
       "    <tr>\n",
       "      <th>10.0</th>\n",
       "      <td>78.0</td>\n",
       "      <td>162.0</td>\n",
       "      <td>0.481481</td>\n",
       "      <td>0.076943</td>\n",
       "    </tr>\n",
       "    <tr>\n",
       "      <th>11.0</th>\n",
       "      <td>58.0</td>\n",
       "      <td>128.0</td>\n",
       "      <td>0.453125</td>\n",
       "      <td>0.086239</td>\n",
       "    </tr>\n",
       "    <tr>\n",
       "      <th>12.0</th>\n",
       "      <td>46.0</td>\n",
       "      <td>92.0</td>\n",
       "      <td>0.500000</td>\n",
       "      <td>0.102172</td>\n",
       "    </tr>\n",
       "    <tr>\n",
       "      <th>13.0</th>\n",
       "      <td>26.0</td>\n",
       "      <td>69.0</td>\n",
       "      <td>0.376812</td>\n",
       "      <td>0.114341</td>\n",
       "    </tr>\n",
       "    <tr>\n",
       "      <th>14.0</th>\n",
       "      <td>26.0</td>\n",
       "      <td>60.0</td>\n",
       "      <td>0.433333</td>\n",
       "      <td>0.125388</td>\n",
       "    </tr>\n",
       "    <tr>\n",
       "      <th>15.0</th>\n",
       "      <td>19.0</td>\n",
       "      <td>46.0</td>\n",
       "      <td>0.413043</td>\n",
       "      <td>0.142291</td>\n",
       "    </tr>\n",
       "    <tr>\n",
       "      <th>16.0</th>\n",
       "      <td>18.0</td>\n",
       "      <td>41.0</td>\n",
       "      <td>0.439024</td>\n",
       "      <td>0.151908</td>\n",
       "    </tr>\n",
       "    <tr>\n",
       "      <th>17.0</th>\n",
       "      <td>13.0</td>\n",
       "      <td>34.0</td>\n",
       "      <td>0.382353</td>\n",
       "      <td>0.163350</td>\n",
       "    </tr>\n",
       "    <tr>\n",
       "      <th>18.0</th>\n",
       "      <td>5.0</td>\n",
       "      <td>18.0</td>\n",
       "      <td>0.277778</td>\n",
       "      <td>0.206921</td>\n",
       "    </tr>\n",
       "    <tr>\n",
       "      <th>19.0</th>\n",
       "      <td>6.0</td>\n",
       "      <td>14.0</td>\n",
       "      <td>0.428571</td>\n",
       "      <td>0.259230</td>\n",
       "    </tr>\n",
       "    <tr>\n",
       "      <th>20.0</th>\n",
       "      <td>5.0</td>\n",
       "      <td>15.0</td>\n",
       "      <td>0.333333</td>\n",
       "      <td>0.238564</td>\n",
       "    </tr>\n",
       "    <tr>\n",
       "      <th>21.0</th>\n",
       "      <td>4.0</td>\n",
       "      <td>10.0</td>\n",
       "      <td>0.400000</td>\n",
       "      <td>0.303642</td>\n",
       "    </tr>\n",
       "    <tr>\n",
       "      <th>22.0</th>\n",
       "      <td>3.0</td>\n",
       "      <td>9.0</td>\n",
       "      <td>0.333333</td>\n",
       "      <td>0.307984</td>\n",
       "    </tr>\n",
       "    <tr>\n",
       "      <th>23.0</th>\n",
       "      <td>3.0</td>\n",
       "      <td>7.0</td>\n",
       "      <td>0.428571</td>\n",
       "      <td>0.366606</td>\n",
       "    </tr>\n",
       "    <tr>\n",
       "      <th>24.0</th>\n",
       "      <td>3.0</td>\n",
       "      <td>7.0</td>\n",
       "      <td>0.428571</td>\n",
       "      <td>0.366606</td>\n",
       "    </tr>\n",
       "  </tbody>\n",
       "</table>\n",
       "</div>"
      ],
      "text/plain": [
       "       wins   total  WinRatio       2se\n",
       "1.0    25.0    52.0  0.480769  0.135801\n",
       "2.0   164.0   319.0  0.514107  0.054848\n",
       "3.0   408.0   797.0  0.511920  0.034704\n",
       "4.0   570.0  1082.0  0.526802  0.029750\n",
       "5.0   529.0  1014.0  0.521696  0.030747\n",
       "6.0   382.0   719.0  0.531293  0.036476\n",
       "7.0   246.0   461.0  0.533623  0.045540\n",
       "8.0   135.0   284.0  0.475352  0.058082\n",
       "9.0   147.0   256.0  0.574219  0.060571\n",
       "10.0   78.0   162.0  0.481481  0.076943\n",
       "11.0   58.0   128.0  0.453125  0.086239\n",
       "12.0   46.0    92.0  0.500000  0.102172\n",
       "13.0   26.0    69.0  0.376812  0.114341\n",
       "14.0   26.0    60.0  0.433333  0.125388\n",
       "15.0   19.0    46.0  0.413043  0.142291\n",
       "16.0   18.0    41.0  0.439024  0.151908\n",
       "17.0   13.0    34.0  0.382353  0.163350\n",
       "18.0    5.0    18.0  0.277778  0.206921\n",
       "19.0    6.0    14.0  0.428571  0.259230\n",
       "20.0    5.0    15.0  0.333333  0.238564\n",
       "21.0    4.0    10.0  0.400000  0.303642\n",
       "22.0    3.0     9.0  0.333333  0.307984\n",
       "23.0    3.0     7.0  0.428571  0.366606\n",
       "24.0    3.0     7.0  0.428571  0.366606"
      ]
     },
     "execution_count": 6,
     "metadata": {},
     "output_type": "execute_result"
    }
   ],
   "source": [
    "df = pd.DataFrame([ws, ts]).T\n",
    "df.columns = ['wins', 'total']\n",
    "df = df.loc[1:24]\n",
    "df['WinRatio'] = df.wins / df.total\n",
    "df['2se'] = 1.96 * np.sqrt(df.WinRatio * (1 - df.WinRatio) / df.total)\n",
    "df"
   ]
  },
  {
   "cell_type": "code",
   "execution_count": 7,
   "metadata": {
    "collapsed": false
   },
   "outputs": [
    {
     "data": {
      "text/plain": [
       "wins         79.000000\n",
       "total       201.000000\n",
       "WinRatio      3.864580\n",
       "2se           2.507101\n",
       "dtype: float64"
      ]
     },
     "execution_count": 7,
     "metadata": {},
     "output_type": "execute_result"
    }
   ],
   "source": [
    "df.loc[15:25].sum(axis=0)"
   ]
  },
  {
   "cell_type": "code",
   "execution_count": 8,
   "metadata": {
    "collapsed": false
   },
   "outputs": [
    {
     "data": {
      "text/plain": [
       "[<matplotlib.axis.XTick at 0x1105d5d90>,\n",
       " <matplotlib.axis.XTick at 0x110c3ef90>,\n",
       " <matplotlib.axis.XTick at 0x113416910>,\n",
       " <matplotlib.axis.XTick at 0x113416e90>,\n",
       " <matplotlib.axis.XTick at 0x11341e410>,\n",
       " <matplotlib.axis.XTick at 0x11341eb10>,\n",
       " <matplotlib.axis.XTick at 0x113428250>,\n",
       " <matplotlib.axis.XTick at 0x113428450>,\n",
       " <matplotlib.axis.XTick at 0x113428b50>,\n",
       " <matplotlib.axis.XTick at 0x113433290>,\n",
       " <matplotlib.axis.XTick at 0x113433990>,\n",
       " <matplotlib.axis.XTick at 0x11343f0d0>,\n",
       " <matplotlib.axis.XTick at 0x11343f7d0>,\n",
       " <matplotlib.axis.XTick at 0x11343fed0>,\n",
       " <matplotlib.axis.XTick at 0x11344c610>,\n",
       " <matplotlib.axis.XTick at 0x11344cd10>,\n",
       " <matplotlib.axis.XTick at 0x113455450>,\n",
       " <matplotlib.axis.XTick at 0x113455b50>,\n",
       " <matplotlib.axis.XTick at 0x1133fc590>,\n",
       " <matplotlib.axis.XTick at 0x110c42350>,\n",
       " <matplotlib.axis.XTick at 0x1105d3710>,\n",
       " <matplotlib.axis.XTick at 0x113455e90>,\n",
       " <matplotlib.axis.XTick at 0x1134635d0>,\n",
       " <matplotlib.axis.XTick at 0x113463cd0>,\n",
       " <matplotlib.axis.XTick at 0x11346e410>]"
      ]
     },
     "execution_count": 8,
     "metadata": {},
     "output_type": "execute_result"
    },
    {
     "data": {
      "image/png": "[encoded data removed]",
      "text/plain": [
       "<matplotlib.figure.Figure at 0x1105eab10>"
      ]
     },
     "metadata": {},
     "output_type": "display_data"
    }
   ],
   "source": [
    "fig, ax = plt.subplots()\n",
    "plt.plot([0, 25], [50, 50], 'k:')\n",
    "plt.errorbar(df.index, 100 * df.WinRatio, color='k', marker='o', mfc='w', yerr=100*df['2se'], ecolor='gray', elinewidth=0.5, capsize=2)\n",
    "#plt.plot(df.index, 100 * df.WinRatio, 'wo')\n",
    "plt.xlabel('Months Since Last Fight')\n",
    "plt.ylabel('Win Percentage')\n",
    "plt.xlim(0, 25)\n",
    "plt.ylim(0, 100)\n",
    "major_ticks = np.arange(0, 28, 4)\n",
    "ax.set_xticks(major_ticks)\n",
    "minor_ticks = np.arange(0, 25, 1)\n",
    "ax.set_xticks(minor_ticks, minor = True)\n",
    "#plt.savefig('report/ring_rust.pdf', bbox_inches='tight')"
   ]
  },
  {
   "cell_type": "markdown",
   "metadata": {},
   "source": [
    "### Months bracket"
   ]
  },
  {
   "cell_type": "code",
   "execution_count": 9,
   "metadata": {
    "collapsed": true
   },
   "outputs": [],
   "source": [
    "ws = pd.Series(data=wins2.values(), index=wins2.keys())\n",
    "ts = pd.Series(data=total2.values(), index=total2.keys())"
   ]
  },
  {
   "cell_type": "code",
   "execution_count": 10,
   "metadata": {
    "collapsed": false
   },
   "outputs": [
    {
     "data": {
      "text/html": [
       "<div>\n",
       "<table border=\"1\" class=\"dataframe\">\n",
       "  <thead>\n",
       "    <tr style=\"text-align: right;\">\n",
       "      <th></th>\n",
       "      <th>wins</th>\n",
       "      <th>total</th>\n",
       "      <th>WinRatio</th>\n",
       "      <th>2se</th>\n",
       "    </tr>\n",
       "  </thead>\n",
       "  <tbody>\n",
       "    <tr>\n",
       "      <th>0</th>\n",
       "      <td>377.0</td>\n",
       "      <td>755.0</td>\n",
       "      <td>0.499338</td>\n",
       "      <td>0.035723</td>\n",
       "    </tr>\n",
       "    <tr>\n",
       "      <th>1</th>\n",
       "      <td>1552.0</td>\n",
       "      <td>2944.0</td>\n",
       "      <td>0.527174</td>\n",
       "      <td>0.018042</td>\n",
       "    </tr>\n",
       "    <tr>\n",
       "      <th>2</th>\n",
       "      <td>626.0</td>\n",
       "      <td>1198.0</td>\n",
       "      <td>0.522538</td>\n",
       "      <td>0.028313</td>\n",
       "    </tr>\n",
       "    <tr>\n",
       "      <th>3</th>\n",
       "      <td>218.0</td>\n",
       "      <td>434.0</td>\n",
       "      <td>0.502304</td>\n",
       "      <td>0.047172</td>\n",
       "    </tr>\n",
       "    <tr>\n",
       "      <th>4</th>\n",
       "      <td>79.0</td>\n",
       "      <td>188.0</td>\n",
       "      <td>0.420213</td>\n",
       "      <td>0.071016</td>\n",
       "    </tr>\n",
       "    <tr>\n",
       "      <th>5</th>\n",
       "      <td>70.0</td>\n",
       "      <td>180.0</td>\n",
       "      <td>0.388889</td>\n",
       "      <td>0.071702</td>\n",
       "    </tr>\n",
       "  </tbody>\n",
       "</table>\n",
       "</div>"
      ],
      "text/plain": [
       "     wins   total  WinRatio       2se\n",
       "0   377.0   755.0  0.499338  0.035723\n",
       "1  1552.0  2944.0  0.527174  0.018042\n",
       "2   626.0  1198.0  0.522538  0.028313\n",
       "3   218.0   434.0  0.502304  0.047172\n",
       "4    79.0   188.0  0.420213  0.071016\n",
       "5    70.0   180.0  0.388889  0.071702"
      ]
     },
     "execution_count": 10,
     "metadata": {},
     "output_type": "execute_result"
    }
   ],
   "source": [
    "df = pd.DataFrame([ws, ts]).T\n",
    "df.columns = ['wins', 'total']\n",
    "df = df.loc[0:4]\n",
    "df.loc[5] = [wins_12, total_12]\n",
    "df['WinRatio'] = df.wins / df.total\n",
    "df['2se'] = -t.ppf(0.025, df.total - 1) * np.sqrt(df.WinRatio * (1 - df.WinRatio) / df.total)\n",
    "df"
   ]
  },
  {
   "cell_type": "code",
   "execution_count": 11,
   "metadata": {
    "collapsed": true
   },
   "outputs": [],
   "source": [
    "df.index = [0, 1, 2, 3, 4, 5.5]"
   ]
  },
  {
   "cell_type": "code",
   "execution_count": 21,
   "metadata": {
    "collapsed": false
   },
   "outputs": [
    {
     "data": {
      "image/png": "[encoded data removed]",
      "text/plain": [
       "<matplotlib.figure.Figure at 0x1134282d0>"
      ]
     },
     "metadata": {},
     "output_type": "display_data"
    }
   ],
   "source": [
    "fig, ax = plt.subplots()\n",
    "plt.plot([-1, 12], [50, 50], 'k:')\n",
    "plt.errorbar(df.index, 100 * df.WinRatio, color='k', marker='o', mfc='w', yerr=100*df['2se'], ecolor='gray', elinewidth=0.5, capsize=2)\n",
    "#plt.plot(df.index, 100 * df.WinRatio, 'wo')\n",
    "plt.xlabel('Time Since Last Fight', labelpad=10)\n",
    "plt.ylabel('Win Percentage')\n",
    "plt.xlim(-.5, 6)\n",
    "plt.ylim(20, 80)\n",
    "major_ticks = [0, 1, 2, 3, 4, 5.5]\n",
    "ax.set_xticks(major_ticks)\n",
    "ax.set_xticklabels(['0 - 3\\nMonths', '3 - 6\\nMonths', '6 - 9\\nMonths', '9 - 12\\nMonths', '12 - 15\\nMonths', '15 - 24\\nMonths'])\n",
    "#minor_ticks = np.arange(0, 25, 1)\n",
    "#ax.set_xticks(minor_ticks, minor = True)\n",
    "#plt.tight_layout(pad=0.4, w_pad=0.5, h_pad=1.0)\n",
    "#fig.subplots_adjust(bottom=0.0)\n",
    "plt.savefig('report/age/ring_rust.pdf', bbox_inches='tight')"
   ]
  },
  {
   "cell_type": "code",
   "execution_count": 13,
   "metadata": {
    "collapsed": true
   },
   "outputs": [],
   "source": [
    "from scipy.stats import chi2_contingency"
   ]
  },
  {
   "cell_type": "code",
   "execution_count": 14,
   "metadata": {
    "collapsed": false
   },
   "outputs": [
    {
     "data": {
      "text/plain": [
       "(21.14081472468656, 0.00076190585655320901)"
      ]
     },
     "execution_count": 14,
     "metadata": {},
     "output_type": "execute_result"
    }
   ],
   "source": [
    "df['loses'] = df.total - df.wins\n",
    "chi2, p, dof, expt = chi2_contingency(df[['wins', 'loses']])\n",
    "chi2, p"
   ]
  },
  {
   "cell_type": "code",
   "execution_count": 15,
   "metadata": {
    "collapsed": false
   },
   "outputs": [
    {
     "data": {
      "text/html": [
       "<div>\n",
       "<table border=\"1\" class=\"dataframe\">\n",
       "  <thead>\n",
       "    <tr style=\"text-align: right;\">\n",
       "      <th></th>\n",
       "      <th>0.0</th>\n",
       "      <th>1.0</th>\n",
       "      <th>2.0</th>\n",
       "      <th>3.0</th>\n",
       "      <th>4.0</th>\n",
       "      <th>5.5</th>\n",
       "    </tr>\n",
       "  </thead>\n",
       "  <tbody>\n",
       "    <tr>\n",
       "      <th>wins</th>\n",
       "      <td>377.0</td>\n",
       "      <td>1552.0</td>\n",
       "      <td>626.0</td>\n",
       "      <td>218.0</td>\n",
       "      <td>79.0</td>\n",
       "      <td>70.0</td>\n",
       "    </tr>\n",
       "    <tr>\n",
       "      <th>loses</th>\n",
       "      <td>378.0</td>\n",
       "      <td>1392.0</td>\n",
       "      <td>572.0</td>\n",
       "      <td>216.0</td>\n",
       "      <td>109.0</td>\n",
       "      <td>110.0</td>\n",
       "    </tr>\n",
       "  </tbody>\n",
       "</table>\n",
       "</div>"
      ],
      "text/plain": [
       "         0.0     1.0    2.0    3.0    4.0    5.5\n",
       "wins   377.0  1552.0  626.0  218.0   79.0   70.0\n",
       "loses  378.0  1392.0  572.0  216.0  109.0  110.0"
      ]
     },
     "execution_count": 15,
     "metadata": {},
     "output_type": "execute_result"
    }
   ],
   "source": [
    "df[['wins', 'loses']].T"
   ]
  },
  {
   "cell_type": "code",
   "execution_count": 16,
   "metadata": {
    "collapsed": false
   },
   "outputs": [
    {
     "data": {
      "text/plain": [
       "array([[  387.10475522,  1509.45218459,   614.24039305,   222.52114406,\n",
       "           96.39164766,    92.28987542],\n",
       "       [  367.89524478,  1434.54781541,   583.75960695,   211.47885594,\n",
       "           91.60835234,    87.71012458]])"
      ]
     },
     "execution_count": 16,
     "metadata": {},
     "output_type": "execute_result"
    }
   ],
   "source": [
    "expt.T"
   ]
  },
  {
   "cell_type": "code",
   "execution_count": 17,
   "metadata": {
    "collapsed": false
   },
   "outputs": [
    {
     "data": {
      "text/plain": [
       "0.060906203829937992"
      ]
     },
     "execution_count": 17,
     "metadata": {},
     "output_type": "execute_result"
    }
   ],
   "source": [
    "tmp_table = df[['wins', 'loses']]\n",
    "N = tmp_table.sum().sum()\n",
    "V = (chi2 / (N * min(tmp_table.shape[0] - 1, tmp_table.shape[1] - 1)))**0.5\n",
    "V"
   ]
  },
  {
   "cell_type": "code",
   "execution_count": 18,
   "metadata": {
    "collapsed": false
   },
   "outputs": [
    {
     "data": {
      "text/plain": [
       "(7.2558205845428887, 0.20229918634794494)"
      ]
     },
     "execution_count": 18,
     "metadata": {},
     "output_type": "execute_result"
    }
   ],
   "source": [
    "chi2, p, dof, expt = chi2_contingency(df[['wins', 'total']])\n",
    "chi2, p"
   ]
  },
  {
   "cell_type": "code",
   "execution_count": 19,
   "metadata": {
    "collapsed": false
   },
   "outputs": [
    {
     "data": {
      "text/html": [
       "<div>\n",
       "<table border=\"1\" class=\"dataframe\">\n",
       "  <thead>\n",
       "    <tr style=\"text-align: right;\">\n",
       "      <th></th>\n",
       "      <th>0.0</th>\n",
       "      <th>1.0</th>\n",
       "      <th>2.0</th>\n",
       "      <th>3.0</th>\n",
       "      <th>4.0</th>\n",
       "      <th>5.5</th>\n",
       "    </tr>\n",
       "  </thead>\n",
       "  <tbody>\n",
       "    <tr>\n",
       "      <th>wins</th>\n",
       "      <td>377.0</td>\n",
       "      <td>1552.0</td>\n",
       "      <td>626.0</td>\n",
       "      <td>218.0</td>\n",
       "      <td>79.0</td>\n",
       "      <td>70.0</td>\n",
       "    </tr>\n",
       "    <tr>\n",
       "      <th>total</th>\n",
       "      <td>755.0</td>\n",
       "      <td>2944.0</td>\n",
       "      <td>1198.0</td>\n",
       "      <td>434.0</td>\n",
       "      <td>188.0</td>\n",
       "      <td>180.0</td>\n",
       "    </tr>\n",
       "  </tbody>\n",
       "</table>\n",
       "</div>"
      ],
      "text/plain": [
       "         0.0     1.0     2.0    3.0    4.0    5.5\n",
       "wins   377.0  1552.0   626.0  218.0   79.0   70.0\n",
       "total  755.0  2944.0  1198.0  434.0  188.0  180.0"
      ]
     },
     "execution_count": 19,
     "metadata": {},
     "output_type": "execute_result"
    }
   ],
   "source": [
    "df[['wins', 'total']].T"
   ]
  },
  {
   "cell_type": "code",
   "execution_count": 20,
   "metadata": {
    "collapsed": false
   },
   "outputs": [
    {
     "data": {
      "text/plain": [
       "array([[  383.67985153,  1523.87333256,   618.22619186,   220.98874841,\n",
       "           90.49692611,    84.73494954],\n",
       "       [  748.32014847,  2972.12666744,  1205.77380814,   431.01125159,\n",
       "          176.50307389,   165.26505046]])"
      ]
     },
     "execution_count": 20,
     "metadata": {},
     "output_type": "execute_result"
    }
   ],
   "source": [
    "expt.T"
   ]
  }
 ],
 "metadata": {
  "kernelspec": {
   "display_name": "Python [conda root]",
   "language": "python",
   "name": "conda-root-py"
  },
  "language_info": {
   "codemirror_mode": {
    "name": "ipython",
    "version": 2
   },
   "file_extension": ".py",
   "mimetype": "text/x-python",
   "name": "python",
   "nbconvert_exporter": "python",
   "pygments_lexer": "ipython2",
   "version": "2.7.12"
  }
 },
 "nbformat": 4,
 "nbformat_minor": 1
}
