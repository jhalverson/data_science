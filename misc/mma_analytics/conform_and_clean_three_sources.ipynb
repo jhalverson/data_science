{
 "cells": [
  {
   "cell_type": "markdown",
   "metadata": {},
   "source": [
    "# Jonathan Halverson\n",
    "# Monday, March 6, 2017\n",
    "# Clean and conform the three data sources"
   ]
  },
  {
   "cell_type": "code",
   "execution_count": 1,
   "metadata": {
    "collapsed": true
   },
   "outputs": [],
   "source": [
    "import numpy as np\n",
    "import pandas as pd\n",
    "import matplotlib.pyplot as plt\n",
    "plt.style.use('halverson')\n",
    "%matplotlib inline"
   ]
  },
  {
   "cell_type": "code",
   "execution_count": 6,
   "metadata": {
    "collapsed": false
   },
   "outputs": [],
   "source": [
    "fights = pd.read_csv('data/fightmetric_cards/fightmetric_fights_CLEAN_3-6-2017.csv', header=0, parse_dates=['Date'])\n",
    "fighters_fm = pd.read_csv('data/fightmetric_fighters/fightmetric_fighters_CLEAN_3-6-2017.csv', header=0, parse_dates=['Dob'])\n",
    "fighters_ufc = pd.read_csv('data/ufc_dot_com_fighter_data_CLEAN_28Feb2017.csv', header=0)\n",
    "fighters_wiki = pd.read_csv('data/wikipedia_bdays_height_reach.csv', header=0, parse_dates=['Dob'])"
   ]
  },
  {
   "cell_type": "code",
   "execution_count": 7,
   "metadata": {
    "collapsed": false
   },
   "outputs": [
    {
     "data": {
      "text/html": [
       "<div>\n",
       "<table border=\"1\" class=\"dataframe\">\n",
       "  <thead>\n",
       "    <tr style=\"text-align: right;\">\n",
       "      <th></th>\n",
       "      <th>Winner</th>\n",
       "      <th>Outcome</th>\n",
       "      <th>Loser</th>\n",
       "      <th>WeightClass</th>\n",
       "      <th>Method</th>\n",
       "      <th>MethodNotes</th>\n",
       "      <th>Round</th>\n",
       "      <th>Time</th>\n",
       "      <th>Event</th>\n",
       "      <th>Date</th>\n",
       "      <th>Location</th>\n",
       "    </tr>\n",
       "  </thead>\n",
       "  <tbody>\n",
       "    <tr>\n",
       "      <th>0</th>\n",
       "      <td>Germaine de Randamie</td>\n",
       "      <td>def.</td>\n",
       "      <td>Holly Holm</td>\n",
       "      <td>Women's Featherweight</td>\n",
       "      <td>U-DEC</td>\n",
       "      <td>NaN</td>\n",
       "      <td>5</td>\n",
       "      <td>5:00</td>\n",
       "      <td>UFC 208: Holm vs. De Randamie</td>\n",
       "      <td>2017-02-11</td>\n",
       "      <td>New York, New York, USA</td>\n",
       "    </tr>\n",
       "    <tr>\n",
       "      <th>1</th>\n",
       "      <td>Anderson Silva</td>\n",
       "      <td>def.</td>\n",
       "      <td>Derek Brunson</td>\n",
       "      <td>Middleweight</td>\n",
       "      <td>U-DEC</td>\n",
       "      <td>NaN</td>\n",
       "      <td>3</td>\n",
       "      <td>5:00</td>\n",
       "      <td>UFC 208: Holm vs. De Randamie</td>\n",
       "      <td>2017-02-11</td>\n",
       "      <td>New York, New York, USA</td>\n",
       "    </tr>\n",
       "    <tr>\n",
       "      <th>2</th>\n",
       "      <td>Jacare Souza</td>\n",
       "      <td>def.</td>\n",
       "      <td>Tim Boetsch</td>\n",
       "      <td>Middleweight</td>\n",
       "      <td>SUB</td>\n",
       "      <td>Kimura</td>\n",
       "      <td>1</td>\n",
       "      <td>3:41</td>\n",
       "      <td>UFC 208: Holm vs. De Randamie</td>\n",
       "      <td>2017-02-11</td>\n",
       "      <td>New York, New York, USA</td>\n",
       "    </tr>\n",
       "    <tr>\n",
       "      <th>3</th>\n",
       "      <td>Glover Teixeira</td>\n",
       "      <td>def.</td>\n",
       "      <td>Jared Cannonier</td>\n",
       "      <td>Light Heavyweight</td>\n",
       "      <td>U-DEC</td>\n",
       "      <td>NaN</td>\n",
       "      <td>3</td>\n",
       "      <td>5:00</td>\n",
       "      <td>UFC 208: Holm vs. De Randamie</td>\n",
       "      <td>2017-02-11</td>\n",
       "      <td>New York, New York, USA</td>\n",
       "    </tr>\n",
       "    <tr>\n",
       "      <th>4</th>\n",
       "      <td>Dustin Poirier</td>\n",
       "      <td>def.</td>\n",
       "      <td>Jim Miller</td>\n",
       "      <td>Lightweight</td>\n",
       "      <td>M-DEC</td>\n",
       "      <td>NaN</td>\n",
       "      <td>3</td>\n",
       "      <td>5:00</td>\n",
       "      <td>UFC 208: Holm vs. De Randamie</td>\n",
       "      <td>2017-02-11</td>\n",
       "      <td>New York, New York, USA</td>\n",
       "    </tr>\n",
       "  </tbody>\n",
       "</table>\n",
       "</div>"
      ],
      "text/plain": [
       "                 Winner Outcome            Loser            WeightClass  \\\n",
       "0  Germaine de Randamie    def.       Holly Holm  Women's Featherweight   \n",
       "1        Anderson Silva    def.    Derek Brunson           Middleweight   \n",
       "2          Jacare Souza    def.      Tim Boetsch           Middleweight   \n",
       "3       Glover Teixeira    def.  Jared Cannonier      Light Heavyweight   \n",
       "4        Dustin Poirier    def.       Jim Miller            Lightweight   \n",
       "\n",
       "  Method MethodNotes  Round  Time                          Event       Date  \\\n",
       "0  U-DEC         NaN      5  5:00  UFC 208: Holm vs. De Randamie 2017-02-11   \n",
       "1  U-DEC         NaN      3  5:00  UFC 208: Holm vs. De Randamie 2017-02-11   \n",
       "2    SUB      Kimura      1  3:41  UFC 208: Holm vs. De Randamie 2017-02-11   \n",
       "3  U-DEC         NaN      3  5:00  UFC 208: Holm vs. De Randamie 2017-02-11   \n",
       "4  M-DEC         NaN      3  5:00  UFC 208: Holm vs. De Randamie 2017-02-11   \n",
       "\n",
       "                  Location  \n",
       "0  New York, New York, USA  \n",
       "1  New York, New York, USA  \n",
       "2  New York, New York, USA  \n",
       "3  New York, New York, USA  \n",
       "4  New York, New York, USA  "
      ]
     },
     "execution_count": 7,
     "metadata": {},
     "output_type": "execute_result"
    }
   ],
   "source": [
    "fights.head()"
   ]
  },
  {
   "cell_type": "code",
   "execution_count": 17,
   "metadata": {
    "collapsed": false
   },
   "outputs": [
    {
     "data": {
      "text/html": [
       "<div>\n",
       "<table border=\"1\" class=\"dataframe\">\n",
       "  <thead>\n",
       "    <tr style=\"text-align: right;\">\n",
       "      <th></th>\n",
       "      <th>Name</th>\n",
       "      <th>Nickname</th>\n",
       "      <th>Dob</th>\n",
       "      <th>Age</th>\n",
       "      <th>Weight</th>\n",
       "      <th>Height</th>\n",
       "      <th>Reach</th>\n",
       "      <th>Stance</th>\n",
       "      <th>Win</th>\n",
       "      <th>Loss</th>\n",
       "      <th>Draw</th>\n",
       "    </tr>\n",
       "  </thead>\n",
       "  <tbody>\n",
       "    <tr>\n",
       "      <th>0</th>\n",
       "      <td>Tom Aaron</td>\n",
       "      <td>NaN</td>\n",
       "      <td>1978-07-13</td>\n",
       "      <td>38.648295</td>\n",
       "      <td>155.0</td>\n",
       "      <td>NaN</td>\n",
       "      <td>NaN</td>\n",
       "      <td>NaN</td>\n",
       "      <td>5.0</td>\n",
       "      <td>3.0</td>\n",
       "      <td>0.0</td>\n",
       "    </tr>\n",
       "    <tr>\n",
       "      <th>1</th>\n",
       "      <td>Danny Abbadi</td>\n",
       "      <td>The Assassin</td>\n",
       "      <td>1983-07-03</td>\n",
       "      <td>33.676256</td>\n",
       "      <td>155.0</td>\n",
       "      <td>71.0</td>\n",
       "      <td>NaN</td>\n",
       "      <td>Orthodox</td>\n",
       "      <td>4.0</td>\n",
       "      <td>6.0</td>\n",
       "      <td>0.0</td>\n",
       "    </tr>\n",
       "    <tr>\n",
       "      <th>2</th>\n",
       "      <td>David Abbott</td>\n",
       "      <td>Tank</td>\n",
       "      <td>NaT</td>\n",
       "      <td>NaN</td>\n",
       "      <td>265.0</td>\n",
       "      <td>72.0</td>\n",
       "      <td>NaN</td>\n",
       "      <td>Switch</td>\n",
       "      <td>10.0</td>\n",
       "      <td>14.0</td>\n",
       "      <td>0.0</td>\n",
       "    </tr>\n",
       "    <tr>\n",
       "      <th>3</th>\n",
       "      <td>Shamil Abdurakhimov</td>\n",
       "      <td>Abrek</td>\n",
       "      <td>1981-09-02</td>\n",
       "      <td>35.507916</td>\n",
       "      <td>235.0</td>\n",
       "      <td>75.0</td>\n",
       "      <td>76.0</td>\n",
       "      <td>Orthodox</td>\n",
       "      <td>16.0</td>\n",
       "      <td>4.0</td>\n",
       "      <td>0.0</td>\n",
       "    </tr>\n",
       "    <tr>\n",
       "      <th>4</th>\n",
       "      <td>Hiroyuki Abe</td>\n",
       "      <td>Abe Ani</td>\n",
       "      <td>NaT</td>\n",
       "      <td>NaN</td>\n",
       "      <td>145.0</td>\n",
       "      <td>66.0</td>\n",
       "      <td>NaN</td>\n",
       "      <td>Orthodox</td>\n",
       "      <td>8.0</td>\n",
       "      <td>14.0</td>\n",
       "      <td>3.0</td>\n",
       "    </tr>\n",
       "  </tbody>\n",
       "</table>\n",
       "</div>"
      ],
      "text/plain": [
       "                  Name      Nickname        Dob        Age  Weight  Height  \\\n",
       "0            Tom Aaron           NaN 1978-07-13  38.648295   155.0     NaN   \n",
       "1         Danny Abbadi  The Assassin 1983-07-03  33.676256   155.0    71.0   \n",
       "2         David Abbott          Tank        NaT        NaN   265.0    72.0   \n",
       "3  Shamil Abdurakhimov         Abrek 1981-09-02  35.507916   235.0    75.0   \n",
       "4         Hiroyuki Abe       Abe Ani        NaT        NaN   145.0    66.0   \n",
       "\n",
       "   Reach    Stance   Win  Loss  Draw  \n",
       "0    NaN       NaN   5.0   3.0   0.0  \n",
       "1    NaN  Orthodox   4.0   6.0   0.0  \n",
       "2    NaN    Switch  10.0  14.0   0.0  \n",
       "3   76.0  Orthodox  16.0   4.0   0.0  \n",
       "4    NaN  Orthodox   8.0  14.0   3.0  "
      ]
     },
     "execution_count": 17,
     "metadata": {},
     "output_type": "execute_result"
    }
   ],
   "source": [
    "fighters_fm['Age'] = (pd.to_datetime('today') - fighters_fm.Dob) / np.timedelta64(1, 'Y')\n",
    "fighters_fm.head()"
   ]
  },
  {
   "cell_type": "code",
   "execution_count": 9,
   "metadata": {
    "collapsed": false
   },
   "outputs": [
    {
     "data": {
      "text/html": [
       "<div>\n",
       "<table border=\"1\" class=\"dataframe\">\n",
       "  <thead>\n",
       "    <tr style=\"text-align: right;\">\n",
       "      <th></th>\n",
       "      <th>Name</th>\n",
       "      <th>Nickname</th>\n",
       "      <th>Active</th>\n",
       "      <th>Record</th>\n",
       "      <th>Age</th>\n",
       "      <th>Height</th>\n",
       "      <th>Weight</th>\n",
       "      <th>Reach</th>\n",
       "      <th>LegReach</th>\n",
       "      <th>OutOf</th>\n",
       "      <th>From</th>\n",
       "      <th>College</th>\n",
       "      <th>Degree</th>\n",
       "      <th>Summary</th>\n",
       "    </tr>\n",
       "  </thead>\n",
       "  <tbody>\n",
       "    <tr>\n",
       "      <th>0</th>\n",
       "      <td>Danny Abbadi</td>\n",
       "      <td>The Assassin</td>\n",
       "      <td>0</td>\n",
       "      <td>NaN</td>\n",
       "      <td>33.0</td>\n",
       "      <td>71.0</td>\n",
       "      <td>185.0</td>\n",
       "      <td>NaN</td>\n",
       "      <td>NaN</td>\n",
       "      <td>NaN</td>\n",
       "      <td>Amman Jordan</td>\n",
       "      <td>NaN</td>\n",
       "      <td>NaN</td>\n",
       "      <td>Striking and kicks</td>\n",
       "    </tr>\n",
       "    <tr>\n",
       "      <th>1</th>\n",
       "      <td>Tank Abbott</td>\n",
       "      <td>Tank</td>\n",
       "      <td>0</td>\n",
       "      <td>NaN</td>\n",
       "      <td>51.0</td>\n",
       "      <td>72.0</td>\n",
       "      <td>250.0</td>\n",
       "      <td>NaN</td>\n",
       "      <td>NaN</td>\n",
       "      <td>NaN</td>\n",
       "      <td>Orange, California USA</td>\n",
       "      <td>NaN</td>\n",
       "      <td>NaN</td>\n",
       "      <td>Punching power, strength</td>\n",
       "    </tr>\n",
       "    <tr>\n",
       "      <th>2</th>\n",
       "      <td>Shamil Abdurakhimov</td>\n",
       "      <td>Abrek</td>\n",
       "      <td>1</td>\n",
       "      <td>17-4-0</td>\n",
       "      <td>35.0</td>\n",
       "      <td>75.0</td>\n",
       "      <td>235.0</td>\n",
       "      <td>76.0</td>\n",
       "      <td>41.0</td>\n",
       "      <td>Dagestan Russia</td>\n",
       "      <td>Dagestan Russia</td>\n",
       "      <td>NaN</td>\n",
       "      <td>NaN</td>\n",
       "      <td>Wrestling and boxing</td>\n",
       "    </tr>\n",
       "    <tr>\n",
       "      <th>3</th>\n",
       "      <td>Papy Abedi</td>\n",
       "      <td>Makambo</td>\n",
       "      <td>0</td>\n",
       "      <td>NaN</td>\n",
       "      <td>38.0</td>\n",
       "      <td>71.0</td>\n",
       "      <td>185.0</td>\n",
       "      <td>74.0</td>\n",
       "      <td>NaN</td>\n",
       "      <td>Stockholm Sweden</td>\n",
       "      <td>Kinshasa Democratic Republic of Congo</td>\n",
       "      <td>NaN</td>\n",
       "      <td>NaN</td>\n",
       "      <td>Hits hard, strong, always in good shape, great...</td>\n",
       "    </tr>\n",
       "    <tr>\n",
       "      <th>4</th>\n",
       "      <td>Ricardo Abreu</td>\n",
       "      <td>Demente</td>\n",
       "      <td>1</td>\n",
       "      <td>5-1-0</td>\n",
       "      <td>32.0</td>\n",
       "      <td>71.0</td>\n",
       "      <td>185.0</td>\n",
       "      <td>73.0</td>\n",
       "      <td>NaN</td>\n",
       "      <td>Huntington Beach, California USA</td>\n",
       "      <td>Dourados, Mato Grosso do Sul Brazil</td>\n",
       "      <td>NaN</td>\n",
       "      <td>NaN</td>\n",
       "      <td>Jiu-Jitsu</td>\n",
       "    </tr>\n",
       "  </tbody>\n",
       "</table>\n",
       "</div>"
      ],
      "text/plain": [
       "                  Name      Nickname  Active  Record   Age  Height  Weight  \\\n",
       "0         Danny Abbadi  The Assassin       0     NaN  33.0    71.0   185.0   \n",
       "1          Tank Abbott          Tank       0     NaN  51.0    72.0   250.0   \n",
       "2  Shamil Abdurakhimov         Abrek       1  17-4-0  35.0    75.0   235.0   \n",
       "3           Papy Abedi       Makambo       0     NaN  38.0    71.0   185.0   \n",
       "4        Ricardo Abreu       Demente       1   5-1-0  32.0    71.0   185.0   \n",
       "\n",
       "   Reach  LegReach                             OutOf  \\\n",
       "0    NaN       NaN                               NaN   \n",
       "1    NaN       NaN                               NaN   \n",
       "2   76.0      41.0                   Dagestan Russia   \n",
       "3   74.0       NaN                  Stockholm Sweden   \n",
       "4   73.0       NaN  Huntington Beach, California USA   \n",
       "\n",
       "                                    From College Degree  \\\n",
       "0                           Amman Jordan     NaN    NaN   \n",
       "1                 Orange, California USA     NaN    NaN   \n",
       "2                        Dagestan Russia     NaN    NaN   \n",
       "3  Kinshasa Democratic Republic of Congo     NaN    NaN   \n",
       "4    Dourados, Mato Grosso do Sul Brazil     NaN    NaN   \n",
       "\n",
       "                                             Summary  \n",
       "0                                 Striking and kicks  \n",
       "1                           Punching power, strength  \n",
       "2                               Wrestling and boxing  \n",
       "3  Hits hard, strong, always in good shape, great...  \n",
       "4                                          Jiu-Jitsu  "
      ]
     },
     "execution_count": 9,
     "metadata": {},
     "output_type": "execute_result"
    }
   ],
   "source": [
    "fighters_ufc.head()"
   ]
  },
  {
   "cell_type": "code",
   "execution_count": 16,
   "metadata": {
    "collapsed": false
   },
   "outputs": [
    {
     "data": {
      "text/html": [
       "<div>\n",
       "<table border=\"1\" class=\"dataframe\">\n",
       "  <thead>\n",
       "    <tr style=\"text-align: right;\">\n",
       "      <th></th>\n",
       "      <th>Name</th>\n",
       "      <th>Dob</th>\n",
       "      <th>Height</th>\n",
       "      <th>Reach</th>\n",
       "      <th>Age</th>\n",
       "    </tr>\n",
       "  </thead>\n",
       "  <tbody>\n",
       "    <tr>\n",
       "      <th>0</th>\n",
       "      <td>Frank Mir</td>\n",
       "      <td>1979-05-24</td>\n",
       "      <td>75.0</td>\n",
       "      <td>79.0</td>\n",
       "      <td>37.785855</td>\n",
       "    </tr>\n",
       "    <tr>\n",
       "      <th>1</th>\n",
       "      <td>Andrei Arlovski</td>\n",
       "      <td>1979-02-04</td>\n",
       "      <td>75.0</td>\n",
       "      <td>77.0</td>\n",
       "      <td>38.084286</td>\n",
       "    </tr>\n",
       "    <tr>\n",
       "      <th>2</th>\n",
       "      <td>Stefan Struve</td>\n",
       "      <td>1988-02-19</td>\n",
       "      <td>84.0</td>\n",
       "      <td>84.0</td>\n",
       "      <td>29.043718</td>\n",
       "    </tr>\n",
       "    <tr>\n",
       "      <th>3</th>\n",
       "      <td>Roy Nelson</td>\n",
       "      <td>1976-06-20</td>\n",
       "      <td>72.0</td>\n",
       "      <td>72.0</td>\n",
       "      <td>40.709939</td>\n",
       "    </tr>\n",
       "    <tr>\n",
       "      <th>4</th>\n",
       "      <td>Cain Velasquez</td>\n",
       "      <td>1982-07-28</td>\n",
       "      <td>73.0</td>\n",
       "      <td>77.0</td>\n",
       "      <td>34.607145</td>\n",
       "    </tr>\n",
       "  </tbody>\n",
       "</table>\n",
       "</div>"
      ],
      "text/plain": [
       "              Name        Dob  Height  Reach        Age\n",
       "0        Frank Mir 1979-05-24    75.0   79.0  37.785855\n",
       "1  Andrei Arlovski 1979-02-04    75.0   77.0  38.084286\n",
       "2    Stefan Struve 1988-02-19    84.0   84.0  29.043718\n",
       "3       Roy Nelson 1976-06-20    72.0   72.0  40.709939\n",
       "4   Cain Velasquez 1982-07-28    73.0   77.0  34.607145"
      ]
     },
     "execution_count": 16,
     "metadata": {},
     "output_type": "execute_result"
    }
   ],
   "source": [
    "fighters_wiki['Age'] = (pd.to_datetime('today') - fighters_wiki.Dob) / np.timedelta64(1, 'Y')\n",
    "fighters_wiki.head()"
   ]
  },
  {
   "cell_type": "markdown",
   "metadata": {},
   "source": [
    "### Our goal is to use the UFC data and Wikipedia data to improve, impute, clean the FightMetric fighter data. The improved FightMetric fighter data will then be joined to the FightMetrics fights table."
   ]
  },
  {
   "cell_type": "markdown",
   "metadata": {},
   "source": [
    "Need to conform names between the three sources explicitly. Priority goes to UFC then FM then Wikipedia."
   ]
  },
  {
   "cell_type": "code",
   "execution_count": 20,
   "metadata": {
    "collapsed": false
   },
   "outputs": [
    {
     "data": {
      "text/plain": [
       "1641"
      ]
     },
     "execution_count": 20,
     "metadata": {},
     "output_type": "execute_result"
    }
   ],
   "source": [
    "win_lose = fights.Winner.append(fights.Loser, ignore_index=True)\n",
    "win_lose = set(win_lose)\n",
    "len(win_lose)"
   ]
  },
  {
   "cell_type": "code",
   "execution_count": 27,
   "metadata": {
    "collapsed": false
   },
   "outputs": [
    {
     "data": {
      "text/plain": [
       "{'Abdul-Kerim Edilov',\n",
       " 'Adam Khaliev',\n",
       " 'Aiemann Zahabi',\n",
       " 'Alex Enlund',\n",
       " 'Andre Soukhamthath',\n",
       " 'Antonio Rogerio Nogueira',\n",
       " 'Chris De La Rocha',\n",
       " 'Cindy Dandois',\n",
       " 'Cynthia Calvillo',\n",
       " 'Daniel Spitz',\n",
       " 'Desmond Green',\n",
       " 'Dmitriy Sosnovskiy',\n",
       " 'Gavin Tucker',\n",
       " 'Gina Mazany',\n",
       " 'J.C. Cottrell',\n",
       " 'Jarred Brooks',\n",
       " 'Jim Wallhead',\n",
       " 'John Phillips',\n",
       " 'Joshua Stansbury',\n",
       " 'Justin Willis',\n",
       " 'Marco Polo Reyes',\n",
       " 'Marcos Rogerio De Lima',\n",
       " 'Martin Buschkamp',\n",
       " 'Michel Quinones',\n",
       " 'Mike De La Torre',\n",
       " 'Poliana Botelho',\n",
       " 'Rich Walsh',\n",
       " 'Ronaldo Souza',\n",
       " 'Saparbek Safarov',\n",
       " 'Timothy Johnson'}"
      ]
     },
     "execution_count": 27,
     "metadata": {},
     "output_type": "execute_result"
    }
   ],
   "source": [
    "set(fighters_ufc[fighters_ufc.Active == 1].Name) - win_lose"
   ]
  },
  {
   "cell_type": "code",
   "execution_count": null,
   "metadata": {
    "collapsed": false
   },
   "outputs": [],
   "source": [
    "set(fighters_ufc.Name) - win_lose"
   ]
  },
  {
   "cell_type": "code",
   "execution_count": null,
   "metadata": {
    "collapsed": false
   },
   "outputs": [],
   "source": [
    "from fuzzywuzzy import process\n",
    "\n",
    "for fighter in set(fighters_ufc.Name) - win_lose:\n",
    "     print fighter, process.extract(query=fighter, choices=win_lose)"
   ]
  }
 ],
 "metadata": {
  "kernelspec": {
   "display_name": "Python [conda root]",
   "language": "python",
   "name": "conda-root-py"
  },
  "language_info": {
   "codemirror_mode": {
    "name": "ipython",
    "version": 2
   },
   "file_extension": ".py",
   "mimetype": "text/x-python",
   "name": "python",
   "nbconvert_exporter": "python",
   "pygments_lexer": "ipython2",
   "version": "2.7.12"
  }
 },
 "nbformat": 4,
 "nbformat_minor": 1
}
