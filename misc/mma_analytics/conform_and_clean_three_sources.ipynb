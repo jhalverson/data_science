{
 "cells": [
  {
   "cell_type": "markdown",
   "metadata": {},
   "source": [
    "# Jonathan Halverson\n",
    "# Monday, March 6, 2017\n",
    "# Clean and conform the three data sources"
   ]
  },
  {
   "cell_type": "code",
   "execution_count": 1,
   "metadata": {
    "collapsed": true
   },
   "outputs": [],
   "source": [
    "import numpy as np\n",
    "import pandas as pd\n",
    "import matplotlib.pyplot as plt\n",
    "plt.style.use('halverson')\n",
    "%matplotlib inline"
   ]
  },
  {
   "cell_type": "code",
   "execution_count": 2,
   "metadata": {
    "collapsed": false
   },
   "outputs": [],
   "source": [
    "fights = pd.read_csv('data/fightmetric_cards/fightmetric_fights_CLEAN_3-6-2017.csv', header=0, parse_dates=['Date'])\n",
    "fighters_fm = pd.read_csv('data/fightmetric_fighters/fightmetric_fighters_CLEAN_3-6-2017.csv', header=0, parse_dates=['Dob'])\n",
    "fighters_ufc = pd.read_csv('data/ufc_dot_com_fighter_data_CLEAN_28Feb2017.csv', header=0)\n",
    "fighters_wiki = pd.read_csv('data/wikipedia_bdays_height_reach.csv', header=0, parse_dates=['Dob'])"
   ]
  },
  {
   "cell_type": "code",
   "execution_count": 3,
   "metadata": {
    "collapsed": false
   },
   "outputs": [
    {
     "data": {
      "text/html": [
       "<div>\n",
       "<table border=\"1\" class=\"dataframe\">\n",
       "  <thead>\n",
       "    <tr style=\"text-align: right;\">\n",
       "      <th></th>\n",
       "      <th>Winner</th>\n",
       "      <th>Outcome</th>\n",
       "      <th>Loser</th>\n",
       "      <th>WeightClass</th>\n",
       "      <th>Method</th>\n",
       "      <th>MethodNotes</th>\n",
       "      <th>Round</th>\n",
       "      <th>Time</th>\n",
       "      <th>Event</th>\n",
       "      <th>Date</th>\n",
       "      <th>Location</th>\n",
       "    </tr>\n",
       "  </thead>\n",
       "  <tbody>\n",
       "    <tr>\n",
       "      <th>0</th>\n",
       "      <td>Germaine de Randamie</td>\n",
       "      <td>def.</td>\n",
       "      <td>Holly Holm</td>\n",
       "      <td>Women's Featherweight</td>\n",
       "      <td>U-DEC</td>\n",
       "      <td>NaN</td>\n",
       "      <td>5</td>\n",
       "      <td>5:00</td>\n",
       "      <td>UFC 208: Holm vs. De Randamie</td>\n",
       "      <td>2017-02-11</td>\n",
       "      <td>New York, New York, USA</td>\n",
       "    </tr>\n",
       "    <tr>\n",
       "      <th>1</th>\n",
       "      <td>Anderson Silva</td>\n",
       "      <td>def.</td>\n",
       "      <td>Derek Brunson</td>\n",
       "      <td>Middleweight</td>\n",
       "      <td>U-DEC</td>\n",
       "      <td>NaN</td>\n",
       "      <td>3</td>\n",
       "      <td>5:00</td>\n",
       "      <td>UFC 208: Holm vs. De Randamie</td>\n",
       "      <td>2017-02-11</td>\n",
       "      <td>New York, New York, USA</td>\n",
       "    </tr>\n",
       "    <tr>\n",
       "      <th>2</th>\n",
       "      <td>Jacare Souza</td>\n",
       "      <td>def.</td>\n",
       "      <td>Tim Boetsch</td>\n",
       "      <td>Middleweight</td>\n",
       "      <td>SUB</td>\n",
       "      <td>Kimura</td>\n",
       "      <td>1</td>\n",
       "      <td>3:41</td>\n",
       "      <td>UFC 208: Holm vs. De Randamie</td>\n",
       "      <td>2017-02-11</td>\n",
       "      <td>New York, New York, USA</td>\n",
       "    </tr>\n",
       "    <tr>\n",
       "      <th>3</th>\n",
       "      <td>Glover Teixeira</td>\n",
       "      <td>def.</td>\n",
       "      <td>Jared Cannonier</td>\n",
       "      <td>Light Heavyweight</td>\n",
       "      <td>U-DEC</td>\n",
       "      <td>NaN</td>\n",
       "      <td>3</td>\n",
       "      <td>5:00</td>\n",
       "      <td>UFC 208: Holm vs. De Randamie</td>\n",
       "      <td>2017-02-11</td>\n",
       "      <td>New York, New York, USA</td>\n",
       "    </tr>\n",
       "    <tr>\n",
       "      <th>4</th>\n",
       "      <td>Dustin Poirier</td>\n",
       "      <td>def.</td>\n",
       "      <td>Jim Miller</td>\n",
       "      <td>Lightweight</td>\n",
       "      <td>M-DEC</td>\n",
       "      <td>NaN</td>\n",
       "      <td>3</td>\n",
       "      <td>5:00</td>\n",
       "      <td>UFC 208: Holm vs. De Randamie</td>\n",
       "      <td>2017-02-11</td>\n",
       "      <td>New York, New York, USA</td>\n",
       "    </tr>\n",
       "  </tbody>\n",
       "</table>\n",
       "</div>"
      ],
      "text/plain": [
       "                 Winner Outcome            Loser            WeightClass  \\\n",
       "0  Germaine de Randamie    def.       Holly Holm  Women's Featherweight   \n",
       "1        Anderson Silva    def.    Derek Brunson           Middleweight   \n",
       "2          Jacare Souza    def.      Tim Boetsch           Middleweight   \n",
       "3       Glover Teixeira    def.  Jared Cannonier      Light Heavyweight   \n",
       "4        Dustin Poirier    def.       Jim Miller            Lightweight   \n",
       "\n",
       "  Method MethodNotes  Round  Time                          Event       Date  \\\n",
       "0  U-DEC         NaN      5  5:00  UFC 208: Holm vs. De Randamie 2017-02-11   \n",
       "1  U-DEC         NaN      3  5:00  UFC 208: Holm vs. De Randamie 2017-02-11   \n",
       "2    SUB      Kimura      1  3:41  UFC 208: Holm vs. De Randamie 2017-02-11   \n",
       "3  U-DEC         NaN      3  5:00  UFC 208: Holm vs. De Randamie 2017-02-11   \n",
       "4  M-DEC         NaN      3  5:00  UFC 208: Holm vs. De Randamie 2017-02-11   \n",
       "\n",
       "                  Location  \n",
       "0  New York, New York, USA  \n",
       "1  New York, New York, USA  \n",
       "2  New York, New York, USA  \n",
       "3  New York, New York, USA  \n",
       "4  New York, New York, USA  "
      ]
     },
     "execution_count": 3,
     "metadata": {},
     "output_type": "execute_result"
    }
   ],
   "source": [
    "fights.head()"
   ]
  },
  {
   "cell_type": "code",
   "execution_count": 4,
   "metadata": {
    "collapsed": false
   },
   "outputs": [
    {
     "data": {
      "text/html": [
       "<div>\n",
       "<table border=\"1\" class=\"dataframe\">\n",
       "  <thead>\n",
       "    <tr style=\"text-align: right;\">\n",
       "      <th></th>\n",
       "      <th>Name</th>\n",
       "      <th>Nickname</th>\n",
       "      <th>Dob</th>\n",
       "      <th>Age</th>\n",
       "      <th>Weight</th>\n",
       "      <th>Height</th>\n",
       "      <th>Reach</th>\n",
       "      <th>Stance</th>\n",
       "      <th>Win</th>\n",
       "      <th>Loss</th>\n",
       "      <th>Draw</th>\n",
       "    </tr>\n",
       "  </thead>\n",
       "  <tbody>\n",
       "    <tr>\n",
       "      <th>0</th>\n",
       "      <td>Tom Aaron</td>\n",
       "      <td>NaN</td>\n",
       "      <td>1978-07-13</td>\n",
       "      <td>38.651033</td>\n",
       "      <td>155.0</td>\n",
       "      <td>NaN</td>\n",
       "      <td>NaN</td>\n",
       "      <td>NaN</td>\n",
       "      <td>5.0</td>\n",
       "      <td>3.0</td>\n",
       "      <td>0.0</td>\n",
       "    </tr>\n",
       "    <tr>\n",
       "      <th>1</th>\n",
       "      <td>Danny Abbadi</td>\n",
       "      <td>The Assassin</td>\n",
       "      <td>1983-07-03</td>\n",
       "      <td>33.678994</td>\n",
       "      <td>155.0</td>\n",
       "      <td>71.0</td>\n",
       "      <td>NaN</td>\n",
       "      <td>Orthodox</td>\n",
       "      <td>4.0</td>\n",
       "      <td>6.0</td>\n",
       "      <td>0.0</td>\n",
       "    </tr>\n",
       "    <tr>\n",
       "      <th>2</th>\n",
       "      <td>David Abbott</td>\n",
       "      <td>Tank</td>\n",
       "      <td>NaT</td>\n",
       "      <td>NaN</td>\n",
       "      <td>265.0</td>\n",
       "      <td>72.0</td>\n",
       "      <td>NaN</td>\n",
       "      <td>Switch</td>\n",
       "      <td>10.0</td>\n",
       "      <td>14.0</td>\n",
       "      <td>0.0</td>\n",
       "    </tr>\n",
       "    <tr>\n",
       "      <th>3</th>\n",
       "      <td>Shamil Abdurakhimov</td>\n",
       "      <td>Abrek</td>\n",
       "      <td>1981-09-02</td>\n",
       "      <td>35.510654</td>\n",
       "      <td>235.0</td>\n",
       "      <td>75.0</td>\n",
       "      <td>76.0</td>\n",
       "      <td>Orthodox</td>\n",
       "      <td>16.0</td>\n",
       "      <td>4.0</td>\n",
       "      <td>0.0</td>\n",
       "    </tr>\n",
       "    <tr>\n",
       "      <th>4</th>\n",
       "      <td>Hiroyuki Abe</td>\n",
       "      <td>Abe Ani</td>\n",
       "      <td>NaT</td>\n",
       "      <td>NaN</td>\n",
       "      <td>145.0</td>\n",
       "      <td>66.0</td>\n",
       "      <td>NaN</td>\n",
       "      <td>Orthodox</td>\n",
       "      <td>8.0</td>\n",
       "      <td>14.0</td>\n",
       "      <td>3.0</td>\n",
       "    </tr>\n",
       "  </tbody>\n",
       "</table>\n",
       "</div>"
      ],
      "text/plain": [
       "                  Name      Nickname        Dob        Age  Weight  Height  \\\n",
       "0            Tom Aaron           NaN 1978-07-13  38.651033   155.0     NaN   \n",
       "1         Danny Abbadi  The Assassin 1983-07-03  33.678994   155.0    71.0   \n",
       "2         David Abbott          Tank        NaT        NaN   265.0    72.0   \n",
       "3  Shamil Abdurakhimov         Abrek 1981-09-02  35.510654   235.0    75.0   \n",
       "4         Hiroyuki Abe       Abe Ani        NaT        NaN   145.0    66.0   \n",
       "\n",
       "   Reach    Stance   Win  Loss  Draw  \n",
       "0    NaN       NaN   5.0   3.0   0.0  \n",
       "1    NaN  Orthodox   4.0   6.0   0.0  \n",
       "2    NaN    Switch  10.0  14.0   0.0  \n",
       "3   76.0  Orthodox  16.0   4.0   0.0  \n",
       "4    NaN  Orthodox   8.0  14.0   3.0  "
      ]
     },
     "execution_count": 4,
     "metadata": {},
     "output_type": "execute_result"
    }
   ],
   "source": [
    "fighters_fm['Age'] = (pd.to_datetime('today') - fighters_fm.Dob) / np.timedelta64(1, 'Y')\n",
    "fighters_fm.head()"
   ]
  },
  {
   "cell_type": "code",
   "execution_count": 5,
   "metadata": {
    "collapsed": false
   },
   "outputs": [
    {
     "data": {
      "text/html": [
       "<div>\n",
       "<table border=\"1\" class=\"dataframe\">\n",
       "  <thead>\n",
       "    <tr style=\"text-align: right;\">\n",
       "      <th></th>\n",
       "      <th>Name</th>\n",
       "      <th>Nickname</th>\n",
       "      <th>Active</th>\n",
       "      <th>Record</th>\n",
       "      <th>Age</th>\n",
       "      <th>Height</th>\n",
       "      <th>Weight</th>\n",
       "      <th>Reach</th>\n",
       "      <th>LegReach</th>\n",
       "      <th>OutOf</th>\n",
       "      <th>From</th>\n",
       "      <th>College</th>\n",
       "      <th>Degree</th>\n",
       "      <th>Summary</th>\n",
       "    </tr>\n",
       "  </thead>\n",
       "  <tbody>\n",
       "    <tr>\n",
       "      <th>0</th>\n",
       "      <td>Danny Abbadi</td>\n",
       "      <td>The Assassin</td>\n",
       "      <td>0</td>\n",
       "      <td>NaN</td>\n",
       "      <td>33.0</td>\n",
       "      <td>71.0</td>\n",
       "      <td>185.0</td>\n",
       "      <td>NaN</td>\n",
       "      <td>NaN</td>\n",
       "      <td>NaN</td>\n",
       "      <td>Amman Jordan</td>\n",
       "      <td>NaN</td>\n",
       "      <td>NaN</td>\n",
       "      <td>Striking and kicks</td>\n",
       "    </tr>\n",
       "    <tr>\n",
       "      <th>1</th>\n",
       "      <td>Tank Abbott</td>\n",
       "      <td>Tank</td>\n",
       "      <td>0</td>\n",
       "      <td>NaN</td>\n",
       "      <td>51.0</td>\n",
       "      <td>72.0</td>\n",
       "      <td>250.0</td>\n",
       "      <td>NaN</td>\n",
       "      <td>NaN</td>\n",
       "      <td>NaN</td>\n",
       "      <td>Orange, California USA</td>\n",
       "      <td>NaN</td>\n",
       "      <td>NaN</td>\n",
       "      <td>Punching power, strength</td>\n",
       "    </tr>\n",
       "    <tr>\n",
       "      <th>2</th>\n",
       "      <td>Shamil Abdurakhimov</td>\n",
       "      <td>Abrek</td>\n",
       "      <td>1</td>\n",
       "      <td>17-4-0</td>\n",
       "      <td>35.0</td>\n",
       "      <td>75.0</td>\n",
       "      <td>235.0</td>\n",
       "      <td>76.0</td>\n",
       "      <td>41.0</td>\n",
       "      <td>Dagestan Russia</td>\n",
       "      <td>Dagestan Russia</td>\n",
       "      <td>NaN</td>\n",
       "      <td>NaN</td>\n",
       "      <td>Wrestling and boxing</td>\n",
       "    </tr>\n",
       "    <tr>\n",
       "      <th>3</th>\n",
       "      <td>Papy Abedi</td>\n",
       "      <td>Makambo</td>\n",
       "      <td>0</td>\n",
       "      <td>NaN</td>\n",
       "      <td>38.0</td>\n",
       "      <td>71.0</td>\n",
       "      <td>185.0</td>\n",
       "      <td>74.0</td>\n",
       "      <td>NaN</td>\n",
       "      <td>Stockholm Sweden</td>\n",
       "      <td>Kinshasa Democratic Republic of Congo</td>\n",
       "      <td>NaN</td>\n",
       "      <td>NaN</td>\n",
       "      <td>Hits hard, strong, always in good shape, great...</td>\n",
       "    </tr>\n",
       "    <tr>\n",
       "      <th>4</th>\n",
       "      <td>Ricardo Abreu</td>\n",
       "      <td>Demente</td>\n",
       "      <td>1</td>\n",
       "      <td>5-1-0</td>\n",
       "      <td>32.0</td>\n",
       "      <td>71.0</td>\n",
       "      <td>185.0</td>\n",
       "      <td>73.0</td>\n",
       "      <td>NaN</td>\n",
       "      <td>Huntington Beach, California USA</td>\n",
       "      <td>Dourados, Mato Grosso do Sul Brazil</td>\n",
       "      <td>NaN</td>\n",
       "      <td>NaN</td>\n",
       "      <td>Jiu-Jitsu</td>\n",
       "    </tr>\n",
       "  </tbody>\n",
       "</table>\n",
       "</div>"
      ],
      "text/plain": [
       "                  Name      Nickname  Active  Record   Age  Height  Weight  \\\n",
       "0         Danny Abbadi  The Assassin       0     NaN  33.0    71.0   185.0   \n",
       "1          Tank Abbott          Tank       0     NaN  51.0    72.0   250.0   \n",
       "2  Shamil Abdurakhimov         Abrek       1  17-4-0  35.0    75.0   235.0   \n",
       "3           Papy Abedi       Makambo       0     NaN  38.0    71.0   185.0   \n",
       "4        Ricardo Abreu       Demente       1   5-1-0  32.0    71.0   185.0   \n",
       "\n",
       "   Reach  LegReach                             OutOf  \\\n",
       "0    NaN       NaN                               NaN   \n",
       "1    NaN       NaN                               NaN   \n",
       "2   76.0      41.0                   Dagestan Russia   \n",
       "3   74.0       NaN                  Stockholm Sweden   \n",
       "4   73.0       NaN  Huntington Beach, California USA   \n",
       "\n",
       "                                    From College Degree  \\\n",
       "0                           Amman Jordan     NaN    NaN   \n",
       "1                 Orange, California USA     NaN    NaN   \n",
       "2                        Dagestan Russia     NaN    NaN   \n",
       "3  Kinshasa Democratic Republic of Congo     NaN    NaN   \n",
       "4    Dourados, Mato Grosso do Sul Brazil     NaN    NaN   \n",
       "\n",
       "                                             Summary  \n",
       "0                                 Striking and kicks  \n",
       "1                           Punching power, strength  \n",
       "2                               Wrestling and boxing  \n",
       "3  Hits hard, strong, always in good shape, great...  \n",
       "4                                          Jiu-Jitsu  "
      ]
     },
     "execution_count": 5,
     "metadata": {},
     "output_type": "execute_result"
    }
   ],
   "source": [
    "fighters_ufc.head()"
   ]
  },
  {
   "cell_type": "code",
   "execution_count": 6,
   "metadata": {
    "collapsed": false
   },
   "outputs": [
    {
     "data": {
      "text/html": [
       "<div>\n",
       "<table border=\"1\" class=\"dataframe\">\n",
       "  <thead>\n",
       "    <tr style=\"text-align: right;\">\n",
       "      <th></th>\n",
       "      <th>Name</th>\n",
       "      <th>Dob</th>\n",
       "      <th>Height</th>\n",
       "      <th>Reach</th>\n",
       "      <th>Age</th>\n",
       "    </tr>\n",
       "  </thead>\n",
       "  <tbody>\n",
       "    <tr>\n",
       "      <th>0</th>\n",
       "      <td>Frank Mir</td>\n",
       "      <td>1979-05-24</td>\n",
       "      <td>75.0</td>\n",
       "      <td>79.0</td>\n",
       "      <td>37.788593</td>\n",
       "    </tr>\n",
       "    <tr>\n",
       "      <th>1</th>\n",
       "      <td>Andrei Arlovski</td>\n",
       "      <td>1979-02-04</td>\n",
       "      <td>75.0</td>\n",
       "      <td>77.0</td>\n",
       "      <td>38.087024</td>\n",
       "    </tr>\n",
       "    <tr>\n",
       "      <th>2</th>\n",
       "      <td>Stefan Struve</td>\n",
       "      <td>1988-02-19</td>\n",
       "      <td>84.0</td>\n",
       "      <td>84.0</td>\n",
       "      <td>29.046455</td>\n",
       "    </tr>\n",
       "    <tr>\n",
       "      <th>3</th>\n",
       "      <td>Roy Nelson</td>\n",
       "      <td>1976-06-20</td>\n",
       "      <td>72.0</td>\n",
       "      <td>72.0</td>\n",
       "      <td>40.712677</td>\n",
       "    </tr>\n",
       "    <tr>\n",
       "      <th>4</th>\n",
       "      <td>Cain Velasquez</td>\n",
       "      <td>1982-07-28</td>\n",
       "      <td>73.0</td>\n",
       "      <td>77.0</td>\n",
       "      <td>34.609882</td>\n",
       "    </tr>\n",
       "  </tbody>\n",
       "</table>\n",
       "</div>"
      ],
      "text/plain": [
       "              Name        Dob  Height  Reach        Age\n",
       "0        Frank Mir 1979-05-24    75.0   79.0  37.788593\n",
       "1  Andrei Arlovski 1979-02-04    75.0   77.0  38.087024\n",
       "2    Stefan Struve 1988-02-19    84.0   84.0  29.046455\n",
       "3       Roy Nelson 1976-06-20    72.0   72.0  40.712677\n",
       "4   Cain Velasquez 1982-07-28    73.0   77.0  34.609882"
      ]
     },
     "execution_count": 6,
     "metadata": {},
     "output_type": "execute_result"
    }
   ],
   "source": [
    "fighters_wiki['Age'] = (pd.to_datetime('today') - fighters_wiki.Dob) / np.timedelta64(1, 'Y')\n",
    "fighters_wiki.head()"
   ]
  },
  {
   "cell_type": "markdown",
   "metadata": {},
   "source": [
    "## Match names between FightMetric and UFC.com "
   ]
  },
  {
   "cell_type": "markdown",
   "metadata": {},
   "source": [
    "### The general idea is to improve the FightMetric data using the UFC.com and Wikipedia data. We begin by forming a list of everyone on the UFC cards as determined by the FightMetric fight card data of winners and losers:"
   ]
  },
  {
   "cell_type": "code",
   "execution_count": 7,
   "metadata": {
    "collapsed": false
   },
   "outputs": [],
   "source": [
    "win_lose = fights.Winner.append(fights.Loser, ignore_index=True)\n",
    "win_lose = set(win_lose)"
   ]
  },
  {
   "cell_type": "markdown",
   "metadata": {},
   "source": [
    "### Which fighters (names) fought three or more times in the UFC but are not in the UFC.com data set?"
   ]
  },
  {
   "cell_type": "code",
   "execution_count": 8,
   "metadata": {
    "collapsed": false
   },
   "outputs": [],
   "source": [
    "s = fights.Winner.append(fights.Loser, ignore_index=True).value_counts()\n",
    "three_fights_fm = s[s >= 3].index"
   ]
  },
  {
   "cell_type": "code",
   "execution_count": 9,
   "metadata": {
    "collapsed": false
   },
   "outputs": [
    {
     "data": {
      "text/plain": [
       "{'Benji Radach',\n",
       " 'David Abbott',\n",
       " 'Edwin DeWees',\n",
       " 'Jacare Souza',\n",
       " 'Joshua Sampo',\n",
       " 'Luiz Cane',\n",
       " 'Manvel Gamburyan',\n",
       " 'Marcio Alexandre Junior',\n",
       " 'Marcos Rogerio de Lima',\n",
       " 'Miguel Torres',\n",
       " 'Mike de la Torre',\n",
       " 'Mike van Arsdale',\n",
       " 'Mostapha Al-Turk',\n",
       " 'Philip De Fries',\n",
       " 'Polo Reyes',\n",
       " 'Rafael Feijao',\n",
       " 'Rameau Thierry Sokoudjou',\n",
       " 'Richard Walsh',\n",
       " 'Robert Peralta',\n",
       " 'Rogerio Nogueira',\n",
       " 'Scott Smith',\n",
       " 'Tim Johnson',\n",
       " 'Tito Ortiz',\n",
       " 'Tony Fryklund',\n",
       " 'Tsuyoshi Kohsaka',\n",
       " 'William Patolino'}"
      ]
     },
     "execution_count": 9,
     "metadata": {},
     "output_type": "execute_result"
    }
   ],
   "source": [
    "# should match names after convert to lowercase but will not do that here\n",
    "set(three_fights_fm) - set(fighters_ufc.Name)"
   ]
  },
  {
   "cell_type": "code",
   "execution_count": 10,
   "metadata": {
    "collapsed": true
   },
   "outputs": [],
   "source": [
    "# note that several UFC fighters are not in the UFC database\n",
    "# (e.g., Benji Radach, Scott Smith, Tito Ortiz)\n",
    "idx = fighters_ufc[(fighters_ufc.Name == 'Tank Abbott') & (fighters_ufc.Nickname == 'Tank')].index\n",
    "fighters_ufc = fighters_ufc.set_value(idx, 'Name', 'David Abbott')\n",
    "idx = fighters_ufc[(fighters_ufc.Name == 'Edwin Dewees') & (fighters_ufc.Nickname == 'Babyface')].index\n",
    "fighters_ufc = fighters_ufc.set_value(idx, 'Name', 'Edwin DeWees')\n",
    "idx = fighters_ufc[(fighters_ufc.Name == 'Ronaldo Souza') & (fighters_ufc.Nickname == 'Jacare')].index\n",
    "fighters_ufc = fighters_ufc.set_value(idx, 'Name', 'Jacare Souza')\n",
    "idx = fighters_ufc[(fighters_ufc.Name == 'Josh Sampo') & (fighters_ufc.Nickname == 'The Gremlin')].index\n",
    "fighters_ufc = fighters_ufc.set_value(idx, 'Name', 'Joshua Sampo')\n",
    "idx = fighters_ufc[(fighters_ufc.Name == 'Manny Gamburyan') & (fighters_ufc.Nickname == 'The Anvil')].index\n",
    "fighters_ufc = fighters_ufc.set_value(idx, 'Name', 'Manvel Gamburyan')\n",
    "idx = fighters_ufc[(fighters_ufc.Name == 'Marcio Alexandre') & (fighters_ufc.Nickname == 'Lyoto')].index\n",
    "fighters_ufc = fighters_ufc.set_value(idx, 'Name', 'Marcio Alexandre Junior')\n",
    "idx = fighters_ufc[(fighters_ufc.Name == 'Marcos Rogerio De Lima')].index\n",
    "fighters_ufc = fighters_ufc.set_value(idx, 'Name', 'Marcos Rogerio de Lima')\n",
    "idx = fighters_ufc[(fighters_ufc.Name == 'Miguel Angel Torres')].index\n",
    "fighters_ufc = fighters_ufc.set_value(idx, 'Name', 'Miguel Torres')\n",
    "idx = fighters_ufc[(fighters_ufc.Name == 'Mike De La Torre')].index\n",
    "fighters_ufc = fighters_ufc.set_value(idx, 'Name', 'Mike de la Torre')\n",
    "idx = fighters_ufc[(fighters_ufc.Name == 'Mike Van Arsdale')].index\n",
    "fighters_ufc = fighters_ufc.set_value(idx, 'Name', 'Mike van Arsdale')\n",
    "idx = fighters_ufc[(fighters_ufc.Name == 'Mostapha Al Turk')].index\n",
    "fighters_ufc = fighters_ufc.set_value(idx, 'Name', 'Mostapha Al-Turk')\n",
    "idx = fighters_ufc[(fighters_ufc.Name == 'Phil De Fries')].index\n",
    "fighters_ufc = fighters_ufc.set_value(idx, 'Name', 'Philip De Fries')\n",
    "idx = fighters_ufc[(fighters_ufc.Name == 'Marco Polo Reyes') & (fighters_ufc.Nickname == 'El Toro')].index\n",
    "fighters_ufc = fighters_ufc.set_value(idx, 'Name', 'Polo Reyes')\n",
    "idx = fighters_ufc[(fighters_ufc.Name == 'Rafael Cavalcante') & (fighters_ufc.Nickname == 'Feijao')].index\n",
    "fighters_ufc = fighters_ufc.set_value(idx, 'Name', 'Rafael Feijao')\n",
    "idx = fighters_ufc[(fighters_ufc.Name == 'Rameau Sokoudjou') & (fighters_ufc.Nickname == 'The African Assassin')].index\n",
    "fighters_ufc = fighters_ufc.set_value(idx, 'Name', 'Rameau Thierry Sokoudjou')\n",
    "idx = fighters_ufc[(fighters_ufc.Name == 'Rich Walsh') & (fighters_ufc.Nickname == 'Filthy')].index\n",
    "fighters_ufc = fighters_ufc.set_value(idx, 'Name', 'Richard Walsh')\n",
    "idx = fighters_ufc[(fighters_ufc.Name == 'Robbie Peralta') & (fighters_ufc.Nickname == 'Problems')].index\n",
    "fighters_ufc = fighters_ufc.set_value(idx, 'Name', 'Robert Peralta')\n",
    "idx = fighters_ufc[(fighters_ufc.Name == 'Antonio Rogerio Nogueira')].index\n",
    "fighters_ufc = fighters_ufc.set_value(idx, 'Name', 'Rogerio Nogueira')\n",
    "idx = fighters_ufc[(fighters_ufc.Name == 'Timothy Johnson')].index\n",
    "fighters_ufc = fighters_ufc.set_value(idx, 'Name', 'Tim Johnson')\n",
    "idx = fighters_ufc[(fighters_ufc.Name == 'Tony Frycklund') & (fighters_ufc.Nickname == 'The Freak')].index\n",
    "fighters_ufc = fighters_ufc.set_value(idx, 'Name', 'Tony Fryklund')\n",
    "idx = fighters_ufc[(fighters_ufc.Name == 'Tsuyoshi Kosaka') & (fighters_ufc.Nickname == 'TK')].index\n",
    "fighters_ufc = fighters_ufc.set_value(idx, 'Name', 'Tsuyoshi Kohsaka')\n",
    "idx = fighters_ufc[(fighters_ufc.Name == 'William Macario') & (fighters_ufc.Nickname == 'Patolino')].index\n",
    "fighters_ufc = fighters_ufc.set_value(idx, 'Name', 'William Patolino')"
   ]
  },
  {
   "cell_type": "markdown",
   "metadata": {},
   "source": [
    "### Let's check if the name changes were correctly applied:"
   ]
  },
  {
   "cell_type": "code",
   "execution_count": 11,
   "metadata": {
    "collapsed": false
   },
   "outputs": [
    {
     "data": {
      "text/plain": [
       "{'Benji Radach', 'Luiz Cane', 'Scott Smith', 'Tito Ortiz'}"
      ]
     },
     "execution_count": 11,
     "metadata": {},
     "output_type": "execute_result"
    }
   ],
   "source": [
    "set(three_fights_fm) - set(fighters_ufc.Name)"
   ]
  },
  {
   "cell_type": "markdown",
   "metadata": {},
   "source": [
    "### Now use fuzzy matching with remaining cases (should have done this above)"
   ]
  },
  {
   "cell_type": "code",
   "execution_count": 12,
   "metadata": {
    "collapsed": false,
    "scrolled": false
   },
   "outputs": [
    {
     "name": "stdout",
     "output_type": "stream",
     "text": [
      "Dmitri Stepanov <-- Dmitrei Stepanov\n",
      "Joe Moreira <-- Joe Moriera\n",
      "Marcelo Mello <-- Marcello Mello\n",
      "Josh Stansbury <-- Joshua Stansbury\n",
      "Flavio Luiz Moura <-- Flavio Moura\n",
      "Sean Daugherty <-- Sean Daughtery\n",
      "Josh Rafferty <-- Josh Raferty\n",
      "Jack Nilson <-- Jack Nilsson\n",
      "Antonio Dos Santos <-- Antonio dos Santos\n",
      "Saparbeg Safarov <-- Saparbek Safarov\n",
      "An Ying Wang <-- Wang Anying\n",
      "Richard Crunkilton <-- Richard Crunkilton Jr.\n",
      "Carlos Barreto <-- Carlos Baretto\n",
      "Eldo Xavier Dias <-- Eldo Dias Xavier\n",
      "Ron van Clief <-- Ron Van Clief\n",
      "Josh Stewart <-- Josh Stuart\n",
      "Kristof Midoux <-- Christophe Midoux\n",
      "Ryan McGillivray <-- Ryan McGilivray\n",
      "JC Cottrell <-- J.C. Cottrell\n",
      "Sai Wang <-- Wang Sai\n",
      "Jon Olav Einemo <-- John-Olav Einemo\n",
      "Sanae Kikuta <-- Sinae Kikuta\n",
      "Shane del Rosario <-- Shane Del Rosario\n",
      "Ebenezer Fontes Braga <-- Ebenezer Braga\n",
      "Mark Robinson <-- Mark David Robinson\n",
      "Jimmy Wallhead <-- Jim Wallhead\n",
      "Emmanuel Yarborough <-- Emmanuel Yarbrough\n",
      "Chris Liguori <-- Chris Ligouri\n",
      "Reza Nasri <-- Reza Nazri\n",
      "Cesar Marscucci <-- Cesar Martucci\n",
      "Amaury Bitetti <-- Amaury Bitteti\n",
      "Scott Fiedler <-- Scott Fielder\n",
      "Alberta Cerra Leon <-- Alberto Cerro Leon\n",
      "David Kaplan <-- Dave Kaplan\n",
      "Tony Petarra <-- Tony Peterra\n",
      "Alex Stiebling <-- Alex Steibling\n",
      "Dan Bobish <-- Daniel Bobish\n",
      "Chris de la Rocha <-- Chris De La Rocha\n",
      "Steve Kennedy <-- Steven Kennedy\n",
      "CJ Keith <-- C.J. Keith\n",
      "Katsuhisa Fujii <-- Katsuhisa Fuji\n",
      "Dwayne Cason <-- Duane Cason\n",
      "Christophe Leninger <-- Christophe Leininger\n",
      "Marcelo Aguiar <-- Marcello Aguiar\n",
      "Geza Kalman <-- Geza Kahlman Jr\n",
      "Orlando Wiet <-- Orlando Welt\n",
      "Josh Shockman <-- Josh Schockman\n",
      "Keiichiro Yamamiya <-- Keichiro Yamamiya\n",
      "Danny Downes <-- Dan Downes\n",
      "Marcus Silveira <-- Marcus Silviera\n"
     ]
    }
   ],
   "source": [
    "from fuzzywuzzy import process\n",
    "\n",
    "# create list of FightMetric fighters with 1 or 2 UFC fights\n",
    "s = fights.Winner.append(fights.Loser, ignore_index=True).value_counts()\n",
    "two_fights_fm = s[(s == 2) | (s == 1)].index\n",
    "\n",
    "# fighters in the FightMetric database with 1 or 2 UFC fights not found in the UFC database\n",
    "not_found = set(two_fights_fm) - set(fighters_ufc.Name)\n",
    "\n",
    "# these names have no match\n",
    "wrong_match = ['Nate Loughran', 'Julian Sanchez', 'Kit Cope', 'Edilberto de Oliveira' ,\n",
    "               'Kevin Ferguson', 'Eddie Mendez', 'Danillo Villefort', 'Masutatsu Yano',\n",
    "               'Joao Pierini', 'Saeed Hosseini']\n",
    "\n",
    "for fighter in not_found:\n",
    "     if (fighter not in wrong_match):\n",
    "          best_match, score = process.extractOne(query=fighter, choices=fighters_ufc.Name)\n",
    "          print fighter, '<--', best_match\n",
    "          idx = fighters_ufc[fighters_ufc.Name == best_match].index\n",
    "          fighters_ufc = fighters_ufc.set_value(idx, 'Name', fighter)"
   ]
  },
  {
   "cell_type": "markdown",
   "metadata": {},
   "source": [
    "### Are there any active UFC fighters not in the FightMetric fight cards?"
   ]
  },
  {
   "cell_type": "code",
   "execution_count": 13,
   "metadata": {
    "collapsed": false
   },
   "outputs": [
    {
     "data": {
      "text/plain": [
       "{'Abdul-Kerim Edilov',\n",
       " 'Adam Khaliev',\n",
       " 'Aiemann Zahabi',\n",
       " 'Alex Enlund',\n",
       " 'Andre Soukhamthath',\n",
       " 'Cindy Dandois',\n",
       " 'Cynthia Calvillo',\n",
       " 'Daniel Spitz',\n",
       " 'Desmond Green',\n",
       " 'Dmitriy Sosnovskiy',\n",
       " 'Gavin Tucker',\n",
       " 'Gina Mazany',\n",
       " 'Jarred Brooks',\n",
       " 'John Phillips',\n",
       " 'Justin Willis',\n",
       " 'Martin Buschkamp',\n",
       " 'Michel Quinones',\n",
       " 'Poliana Botelho'}"
      ]
     },
     "execution_count": 13,
     "metadata": {},
     "output_type": "execute_result"
    }
   ],
   "source": [
    "set(fighters_ufc[fighters_ufc.Active == 1].Name) - win_lose"
   ]
  },
  {
   "cell_type": "markdown",
   "metadata": {},
   "source": [
    "These must be recent hires since they don't have any UFC fights."
   ]
  },
  {
   "cell_type": "markdown",
   "metadata": {},
   "source": [
    "## Now match names between FightMetric and Wikipedia"
   ]
  },
  {
   "cell_type": "code",
   "execution_count": 14,
   "metadata": {
    "collapsed": false
   },
   "outputs": [
    {
     "data": {
      "text/plain": [
       "1382"
      ]
     },
     "execution_count": 14,
     "metadata": {},
     "output_type": "execute_result"
    }
   ],
   "source": [
    "len(set(fighters_wiki.Name))"
   ]
  },
  {
   "cell_type": "code",
   "execution_count": 15,
   "metadata": {
    "collapsed": false
   },
   "outputs": [
    {
     "data": {
      "text/plain": [
       "1641"
      ]
     },
     "execution_count": 15,
     "metadata": {},
     "output_type": "execute_result"
    }
   ],
   "source": [
    "len(win_lose)"
   ]
  },
  {
   "cell_type": "code",
   "execution_count": 16,
   "metadata": {
    "collapsed": false
   },
   "outputs": [
    {
     "data": {
      "text/html": [
       "<div>\n",
       "<table border=\"1\" class=\"dataframe\">\n",
       "  <thead>\n",
       "    <tr style=\"text-align: right;\">\n",
       "      <th></th>\n",
       "      <th>Name</th>\n",
       "      <th>Dob</th>\n",
       "      <th>Height</th>\n",
       "      <th>Reach</th>\n",
       "      <th>Age</th>\n",
       "    </tr>\n",
       "  </thead>\n",
       "  <tbody>\n",
       "    <tr>\n",
       "      <th>158</th>\n",
       "      <td>Danny Roberts</td>\n",
       "      <td>1987-07-14</td>\n",
       "      <td>72.0</td>\n",
       "      <td>74.0</td>\n",
       "      <td>29.648795</td>\n",
       "    </tr>\n",
       "    <tr>\n",
       "      <th>854</th>\n",
       "      <td>Kenny Robertson</td>\n",
       "      <td>1984-02-14</td>\n",
       "      <td>70.0</td>\n",
       "      <td>74.0</td>\n",
       "      <td>33.060227</td>\n",
       "    </tr>\n",
       "  </tbody>\n",
       "</table>\n",
       "</div>"
      ],
      "text/plain": [
       "                Name        Dob  Height  Reach        Age\n",
       "158    Danny Roberts 1987-07-14    72.0   74.0  29.648795\n",
       "854  Kenny Robertson 1984-02-14    70.0   74.0  33.060227"
      ]
     },
     "execution_count": 16,
     "metadata": {},
     "output_type": "execute_result"
    }
   ],
   "source": [
    "fighters_wiki[fighters_wiki.Name.str.contains('Roberts')]"
   ]
  },
  {
   "cell_type": "code",
   "execution_count": 17,
   "metadata": {
    "collapsed": false
   },
   "outputs": [
    {
     "data": {
      "text/plain": [
       "True"
      ]
     },
     "execution_count": 17,
     "metadata": {},
     "output_type": "execute_result"
    }
   ],
   "source": [
    "'Daniel Roberts' in win_lose"
   ]
  },
  {
   "cell_type": "code",
   "execution_count": 18,
   "metadata": {
    "collapsed": false
   },
   "outputs": [
    {
     "data": {
      "text/plain": [
       "False"
      ]
     },
     "execution_count": 18,
     "metadata": {},
     "output_type": "execute_result"
    }
   ],
   "source": [
    "'Daniel Roberts' in set(fighters_wiki.Name)"
   ]
  },
  {
   "cell_type": "code",
   "execution_count": 19,
   "metadata": {
    "collapsed": false
   },
   "outputs": [
    {
     "data": {
      "text/plain": [
       "False"
      ]
     },
     "execution_count": 19,
     "metadata": {},
     "output_type": "execute_result"
    }
   ],
   "source": [
    "'Emil Meek' in set(fighters_wiki.Name)"
   ]
  },
  {
   "cell_type": "code",
   "execution_count": 20,
   "metadata": {
    "collapsed": false
   },
   "outputs": [
    {
     "data": {
      "text/plain": [
       "False"
      ]
     },
     "execution_count": 20,
     "metadata": {},
     "output_type": "execute_result"
    }
   ],
   "source": [
    "'Joe Duffy' in set(fighters_wiki.Name)"
   ]
  },
  {
   "cell_type": "code",
   "execution_count": 21,
   "metadata": {
    "collapsed": false
   },
   "outputs": [
    {
     "data": {
      "text/plain": [
       "False"
      ]
     },
     "execution_count": 21,
     "metadata": {},
     "output_type": "execute_result"
    }
   ],
   "source": [
    "'Rogerio Nogueira' in set(fighters_wiki.Name)"
   ]
  },
  {
   "cell_type": "code",
   "execution_count": 22,
   "metadata": {
    "collapsed": false
   },
   "outputs": [
    {
     "data": {
      "text/plain": [
       "False"
      ]
     },
     "execution_count": 22,
     "metadata": {},
     "output_type": "execute_result"
    }
   ],
   "source": [
    "'Daniel Kelly' in set(fighters_wiki.Name)"
   ]
  },
  {
   "cell_type": "code",
   "execution_count": 23,
   "metadata": {
    "collapsed": false,
    "scrolled": false
   },
   "outputs": [
    {
     "data": {
      "text/plain": [
       "601"
      ]
     },
     "execution_count": 23,
     "metadata": {},
     "output_type": "execute_result"
    }
   ],
   "source": [
    "len(win_lose - set(fighters_wiki.Name))"
   ]
  },
  {
   "cell_type": "code",
   "execution_count": 24,
   "metadata": {
    "collapsed": false,
    "scrolled": false
   },
   "outputs": [
    {
     "name": "stdout",
     "output_type": "stream",
     "text": [
      "Daniel Roberts <-- Danny Roberts\n"
     ]
    }
   ],
   "source": [
    "matches = ['Daniel Roberts', 'Emil Meek', 'Joe Duffy', 'Rogerio Nogueira']\n",
    "matches = ['Daniel Roberts', 'Emil Meek', 'Joe Duffy']\n",
    "matches = ['Daniel Roberts', 'Emil Meek']\n",
    "matches = ['Daniel Roberts']\n",
    "not_found = win_lose - set(fighters_wiki.Name)\n",
    "for fighter in not_found:\n",
    "     if (fighter in matches):\n",
    "          best_match, score = process.extractOne(query=fighter, choices=fighters_wiki.Name)\n",
    "          #if (score > 80): print fighter, '<--', best_match\n",
    "          print fighter, '<--', best_match\n",
    "          idx = fighters_wiki[fighters_wiki.Name == best_match].index\n",
    "          fighters_wiki = fighters_wiki.set_value(idx, 'Name', fighter)\n",
    "#idx = fighters_wiki[fighters_wiki.Name == 'Dan Kelly'].index\n",
    "#fighters_wiki = fighters_wiki.set_value(idx, 'Name', 'Daniel Kelly')"
   ]
  },
  {
   "cell_type": "code",
   "execution_count": 25,
   "metadata": {
    "collapsed": false
   },
   "outputs": [
    {
     "data": {
      "text/plain": [
       "1382"
      ]
     },
     "execution_count": 25,
     "metadata": {},
     "output_type": "execute_result"
    }
   ],
   "source": [
    "len(set(fighters_wiki.Name))"
   ]
  },
  {
   "cell_type": "code",
   "execution_count": 26,
   "metadata": {
    "collapsed": false
   },
   "outputs": [
    {
     "data": {
      "text/plain": [
       "1641"
      ]
     },
     "execution_count": 26,
     "metadata": {},
     "output_type": "execute_result"
    }
   ],
   "source": [
    "len(win_lose)"
   ]
  },
  {
   "cell_type": "code",
   "execution_count": 27,
   "metadata": {
    "collapsed": false
   },
   "outputs": [
    {
     "data": {
      "text/plain": [
       "True"
      ]
     },
     "execution_count": 27,
     "metadata": {},
     "output_type": "execute_result"
    }
   ],
   "source": [
    "'Daniel Roberts' in set(fighters_wiki.Name)"
   ]
  },
  {
   "cell_type": "code",
   "execution_count": 28,
   "metadata": {
    "collapsed": false
   },
   "outputs": [
    {
     "data": {
      "text/plain": [
       "False"
      ]
     },
     "execution_count": 28,
     "metadata": {},
     "output_type": "execute_result"
    }
   ],
   "source": [
    "'Emil Meek' in set(fighters_wiki.Name)"
   ]
  },
  {
   "cell_type": "code",
   "execution_count": 29,
   "metadata": {
    "collapsed": false
   },
   "outputs": [
    {
     "data": {
      "text/plain": [
       "False"
      ]
     },
     "execution_count": 29,
     "metadata": {},
     "output_type": "execute_result"
    }
   ],
   "source": [
    "'Joe Duffy' in set(fighters_wiki.Name)"
   ]
  },
  {
   "cell_type": "code",
   "execution_count": 30,
   "metadata": {
    "collapsed": false
   },
   "outputs": [
    {
     "data": {
      "text/plain": [
       "False"
      ]
     },
     "execution_count": 30,
     "metadata": {},
     "output_type": "execute_result"
    }
   ],
   "source": [
    "'Rogerio Nogueira' in set(fighters_wiki.Name)"
   ]
  },
  {
   "cell_type": "code",
   "execution_count": 31,
   "metadata": {
    "collapsed": false
   },
   "outputs": [
    {
     "data": {
      "text/plain": [
       "False"
      ]
     },
     "execution_count": 31,
     "metadata": {},
     "output_type": "execute_result"
    }
   ],
   "source": [
    "'Daniel Kelly' in set(fighters_wiki.Name)"
   ]
  },
  {
   "cell_type": "code",
   "execution_count": 32,
   "metadata": {
    "collapsed": false
   },
   "outputs": [
    {
     "data": {
      "text/plain": [
       "601"
      ]
     },
     "execution_count": 32,
     "metadata": {},
     "output_type": "execute_result"
    }
   ],
   "source": [
    "len(win_lose - set(fighters_wiki.Name))"
   ]
  },
  {
   "cell_type": "code",
   "execution_count": 33,
   "metadata": {
    "collapsed": false
   },
   "outputs": [
    {
     "data": {
      "text/html": [
       "<div>\n",
       "<table border=\"1\" class=\"dataframe\">\n",
       "  <thead>\n",
       "    <tr style=\"text-align: right;\">\n",
       "      <th></th>\n",
       "      <th>Name</th>\n",
       "      <th>Dob</th>\n",
       "      <th>Height</th>\n",
       "      <th>Reach</th>\n",
       "      <th>Age</th>\n",
       "    </tr>\n",
       "  </thead>\n",
       "  <tbody>\n",
       "    <tr>\n",
       "      <th>158</th>\n",
       "      <td>Daniel Roberts</td>\n",
       "      <td>1987-07-14</td>\n",
       "      <td>72.0</td>\n",
       "      <td>74.0</td>\n",
       "      <td>29.648795</td>\n",
       "    </tr>\n",
       "    <tr>\n",
       "      <th>854</th>\n",
       "      <td>Kenny Robertson</td>\n",
       "      <td>1984-02-14</td>\n",
       "      <td>70.0</td>\n",
       "      <td>74.0</td>\n",
       "      <td>33.060227</td>\n",
       "    </tr>\n",
       "  </tbody>\n",
       "</table>\n",
       "</div>"
      ],
      "text/plain": [
       "                Name        Dob  Height  Reach        Age\n",
       "158   Daniel Roberts 1987-07-14    72.0   74.0  29.648795\n",
       "854  Kenny Robertson 1984-02-14    70.0   74.0  33.060227"
      ]
     },
     "execution_count": 33,
     "metadata": {},
     "output_type": "execute_result"
    }
   ],
   "source": [
    "fighters_wiki[fighters_wiki.Name.str.contains('Roberts')]"
   ]
  },
  {
   "cell_type": "code",
   "execution_count": 34,
   "metadata": {
    "collapsed": false
   },
   "outputs": [
    {
     "name": "stdout",
     "output_type": "stream",
     "text": [
      "Buddy Roberts\n",
      "Joey Roberts\n",
      "Andre Roberts\n",
      "Daniel Roberts\n",
      "Kenny Robertson\n",
      "Ryan Roberts\n",
      "Tyrone Roberts\n",
      "David Roberts\n",
      "Danny Roberts\n"
     ]
    }
   ],
   "source": [
    "for wl in win_lose:\n",
    "     if 'Roberts' in wl: print wl"
   ]
  }
 ],
 "metadata": {
  "anaconda-cloud": {},
  "kernelspec": {
   "display_name": "Python [conda root]",
   "language": "python",
   "name": "conda-root-py"
  },
  "language_info": {
   "codemirror_mode": {
    "name": "ipython",
    "version": 2
   },
   "file_extension": ".py",
   "mimetype": "text/x-python",
   "name": "python",
   "nbconvert_exporter": "python",
   "pygments_lexer": "ipython2",
   "version": "2.7.12"
  }
 },
 "nbformat": 4,
 "nbformat_minor": 1
}
