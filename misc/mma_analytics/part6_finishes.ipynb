{
 "cells": [
  {
   "cell_type": "markdown",
   "metadata": {},
   "source": [
    "# Jonathan Halverson\n",
    "# Friday, February 24, 2017\n",
    "# Part 6: When fights are finished"
   ]
  },
  {
   "cell_type": "code",
   "execution_count": 17,
   "metadata": {
    "collapsed": true
   },
   "outputs": [],
   "source": [
    "import numpy as np\n",
    "import pandas as pd\n",
    "import matplotlib.pyplot as plt\n",
    "plt.style.use('halverson')\n",
    "%matplotlib inline"
   ]
  },
  {
   "cell_type": "code",
   "execution_count": 18,
   "metadata": {
    "collapsed": false
   },
   "outputs": [
    {
     "data": {
      "text/html": [
       "<div>\n",
       "<table border=\"1\" class=\"dataframe\">\n",
       "  <thead>\n",
       "    <tr style=\"text-align: right;\">\n",
       "      <th></th>\n",
       "      <th>Winner</th>\n",
       "      <th>Outcome</th>\n",
       "      <th>Loser</th>\n",
       "      <th>WeightClass</th>\n",
       "      <th>Method</th>\n",
       "      <th>MethodNotes</th>\n",
       "      <th>Round</th>\n",
       "      <th>Time</th>\n",
       "      <th>Event</th>\n",
       "      <th>Date</th>\n",
       "      <th>...</th>\n",
       "      <th>Stance</th>\n",
       "      <th>Dob</th>\n",
       "      <th>Age</th>\n",
       "      <th>Name_L</th>\n",
       "      <th>Height_L</th>\n",
       "      <th>Reach_L</th>\n",
       "      <th>LegReach_L</th>\n",
       "      <th>Stance_L</th>\n",
       "      <th>Dob_L</th>\n",
       "      <th>Age_L</th>\n",
       "    </tr>\n",
       "  </thead>\n",
       "  <tbody>\n",
       "    <tr>\n",
       "      <th>0</th>\n",
       "      <td>Germaine de Randamie</td>\n",
       "      <td>def.</td>\n",
       "      <td>Holly Holm</td>\n",
       "      <td>Women's Featherweight</td>\n",
       "      <td>U-DEC</td>\n",
       "      <td>NaN</td>\n",
       "      <td>5</td>\n",
       "      <td>5:00</td>\n",
       "      <td>UFC 208: Holm vs. De Randamie</td>\n",
       "      <td>2017-02-11</td>\n",
       "      <td>...</td>\n",
       "      <td>Orthodox</td>\n",
       "      <td>1984-04-24</td>\n",
       "      <td>32.904166</td>\n",
       "      <td>Holly Holm</td>\n",
       "      <td>68.0</td>\n",
       "      <td>69.0</td>\n",
       "      <td>38.0</td>\n",
       "      <td>Southpaw</td>\n",
       "      <td>1981-10-17</td>\n",
       "      <td>35.423041</td>\n",
       "    </tr>\n",
       "    <tr>\n",
       "      <th>1</th>\n",
       "      <td>Anderson Silva</td>\n",
       "      <td>def.</td>\n",
       "      <td>Derek Brunson</td>\n",
       "      <td>Middleweight</td>\n",
       "      <td>U-DEC</td>\n",
       "      <td>NaN</td>\n",
       "      <td>3</td>\n",
       "      <td>5:00</td>\n",
       "      <td>UFC 208: Holm vs. De Randamie</td>\n",
       "      <td>2017-02-11</td>\n",
       "      <td>...</td>\n",
       "      <td>Southpaw</td>\n",
       "      <td>1975-04-14</td>\n",
       "      <td>41.933784</td>\n",
       "      <td>Derek Brunson</td>\n",
       "      <td>73.0</td>\n",
       "      <td>77.0</td>\n",
       "      <td>43.0</td>\n",
       "      <td>Southpaw</td>\n",
       "      <td>1984-01-04</td>\n",
       "      <td>33.208074</td>\n",
       "    </tr>\n",
       "    <tr>\n",
       "      <th>2</th>\n",
       "      <td>Jacare Souza</td>\n",
       "      <td>def.</td>\n",
       "      <td>Tim Boetsch</td>\n",
       "      <td>Middleweight</td>\n",
       "      <td>SUB</td>\n",
       "      <td>Kimura</td>\n",
       "      <td>1</td>\n",
       "      <td>3:41</td>\n",
       "      <td>UFC 208: Holm vs. De Randamie</td>\n",
       "      <td>2017-02-11</td>\n",
       "      <td>...</td>\n",
       "      <td>Orthodox</td>\n",
       "      <td>1979-12-07</td>\n",
       "      <td>37.284818</td>\n",
       "      <td>Tim Boetsch</td>\n",
       "      <td>72.0</td>\n",
       "      <td>74.0</td>\n",
       "      <td>42.0</td>\n",
       "      <td>Orthodox</td>\n",
       "      <td>1981-01-28</td>\n",
       "      <td>36.140372</td>\n",
       "    </tr>\n",
       "  </tbody>\n",
       "</table>\n",
       "<p>3 rows × 25 columns</p>\n",
       "</div>"
      ],
      "text/plain": [
       "                 Winner Outcome          Loser            WeightClass Method  \\\n",
       "0  Germaine de Randamie    def.     Holly Holm  Women's Featherweight  U-DEC   \n",
       "1        Anderson Silva    def.  Derek Brunson           Middleweight  U-DEC   \n",
       "2          Jacare Souza    def.    Tim Boetsch           Middleweight    SUB   \n",
       "\n",
       "  MethodNotes  Round  Time                          Event       Date  \\\n",
       "0         NaN      5  5:00  UFC 208: Holm vs. De Randamie 2017-02-11   \n",
       "1         NaN      3  5:00  UFC 208: Holm vs. De Randamie 2017-02-11   \n",
       "2      Kimura      1  3:41  UFC 208: Holm vs. De Randamie 2017-02-11   \n",
       "\n",
       "     ...        Stance        Dob        Age         Name_L  Height_L Reach_L  \\\n",
       "0    ...      Orthodox 1984-04-24  32.904166     Holly Holm      68.0    69.0   \n",
       "1    ...      Southpaw 1975-04-14  41.933784  Derek Brunson      73.0    77.0   \n",
       "2    ...      Orthodox 1979-12-07  37.284818    Tim Boetsch      72.0    74.0   \n",
       "\n",
       "  LegReach_L  Stance_L      Dob_L      Age_L  \n",
       "0       38.0  Southpaw 1981-10-17  35.423041  \n",
       "1       43.0  Southpaw 1984-01-04  33.208074  \n",
       "2       42.0  Orthodox 1981-01-28  36.140372  \n",
       "\n",
       "[3 rows x 25 columns]"
      ]
     },
     "execution_count": 18,
     "metadata": {},
     "output_type": "execute_result"
    }
   ],
   "source": [
    "iofile = 'data/fightmetric_cards/fightmetric_fights_CLEAN_3-6-2017.csv'\n",
    "fights = pd.read_csv(iofile, header=0, parse_dates=['Date'])\n",
    "iofile = 'data/fightmetric_fighters_with_corrections_from_UFC_Wikipedia_CLEAN.csv'\n",
    "fighters = pd.read_csv(iofile, header=0, parse_dates=['Dob'])\n",
    "fighters['Age'] = (pd.to_datetime('today') - fighters.Dob) / np.timedelta64(1, 'Y')\n",
    "cols = ['Name', 'Height', 'Reach', 'LegReach', 'Stance', 'Dob', 'Age']\n",
    "df = fights.merge(fighters[cols], how='left', left_on='Winner', right_on='Name')\n",
    "df = df.merge(fighters[cols], how='left', left_on='Loser', right_on='Name', suffixes=('', '_L'))\n",
    "df.head(3)"
   ]
  },
  {
   "cell_type": "markdown",
   "metadata": {},
   "source": [
    "### Let's consider a subset of the data:"
   ]
  },
  {
   "cell_type": "code",
   "execution_count": 19,
   "metadata": {
    "collapsed": false
   },
   "outputs": [
    {
     "data": {
      "text/html": [
       "<div>\n",
       "<table border=\"1\" class=\"dataframe\">\n",
       "  <thead>\n",
       "    <tr style=\"text-align: right;\">\n",
       "      <th></th>\n",
       "      <th>Winner</th>\n",
       "      <th>Loser</th>\n",
       "      <th>Method</th>\n",
       "      <th>Round</th>\n",
       "      <th>Time</th>\n",
       "      <th>Date</th>\n",
       "    </tr>\n",
       "  </thead>\n",
       "  <tbody>\n",
       "    <tr>\n",
       "      <th>2</th>\n",
       "      <td>Jacare Souza</td>\n",
       "      <td>Tim Boetsch</td>\n",
       "      <td>SUB</td>\n",
       "      <td>1</td>\n",
       "      <td>3:41</td>\n",
       "      <td>2017-02-11</td>\n",
       "    </tr>\n",
       "    <tr>\n",
       "      <th>10</th>\n",
       "      <td>Chan Sung Jung</td>\n",
       "      <td>Dennis Bermudez</td>\n",
       "      <td>KO/TKO</td>\n",
       "      <td>1</td>\n",
       "      <td>2:49</td>\n",
       "      <td>2017-02-04</td>\n",
       "    </tr>\n",
       "    <tr>\n",
       "      <th>12</th>\n",
       "      <td>James Vick</td>\n",
       "      <td>Abel Trujillo</td>\n",
       "      <td>SUB</td>\n",
       "      <td>3</td>\n",
       "      <td>0:49</td>\n",
       "      <td>2017-02-04</td>\n",
       "    </tr>\n",
       "    <tr>\n",
       "      <th>14</th>\n",
       "      <td>Marcel Fortuna</td>\n",
       "      <td>Anthony Hamilton</td>\n",
       "      <td>KO/TKO</td>\n",
       "      <td>1</td>\n",
       "      <td>3:10</td>\n",
       "      <td>2017-02-04</td>\n",
       "    </tr>\n",
       "    <tr>\n",
       "      <th>16</th>\n",
       "      <td>Curtis Blaydes</td>\n",
       "      <td>Adam Milstead</td>\n",
       "      <td>KO/TKO</td>\n",
       "      <td>2</td>\n",
       "      <td>0:59</td>\n",
       "      <td>2017-02-04</td>\n",
       "    </tr>\n",
       "  </tbody>\n",
       "</table>\n",
       "</div>"
      ],
      "text/plain": [
       "            Winner             Loser  Method  Round  Time       Date\n",
       "2     Jacare Souza       Tim Boetsch     SUB      1  3:41 2017-02-11\n",
       "10  Chan Sung Jung   Dennis Bermudez  KO/TKO      1  2:49 2017-02-04\n",
       "12      James Vick     Abel Trujillo     SUB      3  0:49 2017-02-04\n",
       "14  Marcel Fortuna  Anthony Hamilton  KO/TKO      1  3:10 2017-02-04\n",
       "16  Curtis Blaydes     Adam Milstead  KO/TKO      2  0:59 2017-02-04"
      ]
     },
     "execution_count": 19,
     "metadata": {},
     "output_type": "execute_result"
    }
   ],
   "source": [
    "cols = ['Winner', 'Loser', 'Method', 'Round', 'Time', 'Date']\n",
    "finishes = df[df.Method.isin(['KO/TKO', 'SUB']) & (df.Date > np.datetime64('2005-01-01'))][cols]\n",
    "finishes.head(5)"
   ]
  },
  {
   "cell_type": "markdown",
   "metadata": {},
   "source": [
    "### How many fights are in the subset?"
   ]
  },
  {
   "cell_type": "code",
   "execution_count": 20,
   "metadata": {
    "collapsed": false
   },
   "outputs": [
    {
     "data": {
      "text/plain": [
       "1935"
      ]
     },
     "execution_count": 20,
     "metadata": {},
     "output_type": "execute_result"
    }
   ],
   "source": [
    "finishes.shape[0]"
   ]
  },
  {
   "cell_type": "markdown",
   "metadata": {},
   "source": [
    "### Was is the breakdown by round?"
   ]
  },
  {
   "cell_type": "code",
   "execution_count": 21,
   "metadata": {
    "collapsed": false
   },
   "outputs": [
    {
     "data": {
      "text/html": [
       "<div>\n",
       "<table border=\"1\" class=\"dataframe\">\n",
       "  <thead>\n",
       "    <tr style=\"text-align: right;\">\n",
       "      <th>Round</th>\n",
       "      <th>1</th>\n",
       "      <th>2</th>\n",
       "      <th>3</th>\n",
       "      <th>4</th>\n",
       "      <th>5</th>\n",
       "    </tr>\n",
       "    <tr>\n",
       "      <th>Method</th>\n",
       "      <th></th>\n",
       "      <th></th>\n",
       "      <th></th>\n",
       "      <th></th>\n",
       "      <th></th>\n",
       "    </tr>\n",
       "  </thead>\n",
       "  <tbody>\n",
       "    <tr>\n",
       "      <th>KO/TKO</th>\n",
       "      <td>661</td>\n",
       "      <td>350</td>\n",
       "      <td>156</td>\n",
       "      <td>11</td>\n",
       "      <td>6</td>\n",
       "    </tr>\n",
       "    <tr>\n",
       "      <th>SUB</th>\n",
       "      <td>372</td>\n",
       "      <td>242</td>\n",
       "      <td>123</td>\n",
       "      <td>8</td>\n",
       "      <td>6</td>\n",
       "    </tr>\n",
       "  </tbody>\n",
       "</table>\n",
       "</div>"
      ],
      "text/plain": [
       "Round     1    2    3   4  5\n",
       "Method                      \n",
       "KO/TKO  661  350  156  11  6\n",
       "SUB     372  242  123   8  6"
      ]
     },
     "execution_count": 21,
     "metadata": {},
     "output_type": "execute_result"
    }
   ],
   "source": [
    "method_round = pd.crosstab(index=finishes.Method, columns=finishes.Round, margins=False)\n",
    "method_round"
   ]
  },
  {
   "cell_type": "code",
   "execution_count": 22,
   "metadata": {
    "collapsed": false
   },
   "outputs": [
    {
     "data": {
      "text/html": [
       "<div>\n",
       "<table border=\"1\" class=\"dataframe\">\n",
       "  <thead>\n",
       "    <tr style=\"text-align: right;\">\n",
       "      <th>Round</th>\n",
       "      <th>1</th>\n",
       "      <th>2</th>\n",
       "      <th>3</th>\n",
       "      <th>4</th>\n",
       "      <th>5</th>\n",
       "    </tr>\n",
       "    <tr>\n",
       "      <th>Method</th>\n",
       "      <th></th>\n",
       "      <th></th>\n",
       "      <th></th>\n",
       "      <th></th>\n",
       "      <th></th>\n",
       "    </tr>\n",
       "  </thead>\n",
       "  <tbody>\n",
       "    <tr>\n",
       "      <th>KO/TKO</th>\n",
       "      <td>0.639884</td>\n",
       "      <td>0.591216</td>\n",
       "      <td>0.55914</td>\n",
       "      <td>0.578947</td>\n",
       "      <td>0.5</td>\n",
       "    </tr>\n",
       "    <tr>\n",
       "      <th>SUB</th>\n",
       "      <td>0.360116</td>\n",
       "      <td>0.408784</td>\n",
       "      <td>0.44086</td>\n",
       "      <td>0.421053</td>\n",
       "      <td>0.5</td>\n",
       "    </tr>\n",
       "  </tbody>\n",
       "</table>\n",
       "</div>"
      ],
      "text/plain": [
       "Round          1         2        3         4    5\n",
       "Method                                            \n",
       "KO/TKO  0.639884  0.591216  0.55914  0.578947  0.5\n",
       "SUB     0.360116  0.408784  0.44086  0.421053  0.5"
      ]
     },
     "execution_count": 22,
     "metadata": {},
     "output_type": "execute_result"
    }
   ],
   "source": [
    "method_round / method_round.sum(axis=0)"
   ]
  },
  {
   "cell_type": "markdown",
   "metadata": {},
   "source": [
    "Note that the previous table implies that there have only been 12 finishes in the 5th round since 2005. Let's look at these fights:"
   ]
  },
  {
   "cell_type": "markdown",
   "metadata": {},
   "source": [
    "### What is the proportion of each finishing method for each round?"
   ]
  },
  {
   "cell_type": "code",
   "execution_count": 34,
   "metadata": {
    "collapsed": false
   },
   "outputs": [],
   "source": [
    "tko = finishes[finishes.Method == 'KO/TKO'].Round.value_counts()\n",
    "sub = finishes[finishes.Method == 'SUB'].Round.value_counts()\n",
    "tko_p = 100.0 * tko / (tko + sub)\n",
    "sub_p = 100.0 * sub / (tko + sub)"
   ]
  },
  {
   "cell_type": "code",
   "execution_count": 40,
   "metadata": {
    "collapsed": false
   },
   "outputs": [
    {
     "data": {
      "image/png": "[encoded data removed]",
      "text/plain": [
       "<matplotlib.figure.Figure at 0x10f428f90>"
      ]
     },
     "metadata": {},
     "output_type": "display_data"
    }
   ],
   "source": [
    "plt.plot([-0.5, 4.5], [50, 50], 'k:', zorder=0)\n",
    "plt.bar(range(5), tko_p, width=0.4, color='gray', tick_label=[1, 2, 3, 4, 5], align='center', label='KO/TKO')\n",
    "plt.bar(range(5), sub_p, width=0.4, color='lightgray', bottom=tko_p, align='center', label='Submission')\n",
    "plt.xlim(-0.5, 4.5)\n",
    "plt.legend(loc=(1.05, 0.8), fontsize=12)\n",
    "plt.xlabel('Round')\n",
    "plt.ylabel('Knockout or Submission (%)')\n",
    "plt.savefig('report/finishes/tko_sub_by_round.pdf', bbox_inches='tight')"
   ]
  },
  {
   "cell_type": "markdown",
   "metadata": {},
   "source": [
    "Are the result statistically significant?"
   ]
  },
  {
   "cell_type": "code",
   "execution_count": 39,
   "metadata": {
    "collapsed": false
   },
   "outputs": [
    {
     "data": {
      "text/plain": [
       "(8.4626907347192031, 0.076026228837602738, 4, True)"
      ]
     },
     "execution_count": 39,
     "metadata": {},
     "output_type": "execute_result"
    }
   ],
   "source": [
    "from scipy.stats import chi2_contingency\n",
    "\n",
    "chi_sq, p_value, dof, expect = chi2_contingency(method_round)\n",
    "chi_sq, p_value, dof, p_value > 0.05"
   ]
  },
  {
   "cell_type": "markdown",
   "metadata": {},
   "source": [
    "### What are the latest finishes in UFC history?"
   ]
  },
  {
   "cell_type": "code",
   "execution_count": 33,
   "metadata": {
    "collapsed": false
   },
   "outputs": [
    {
     "data": {
      "text/html": [
       "<div>\n",
       "<table border=\"1\" class=\"dataframe\">\n",
       "  <thead>\n",
       "    <tr style=\"text-align: right;\">\n",
       "      <th></th>\n",
       "      <th>Winner</th>\n",
       "      <th>Loser</th>\n",
       "      <th>Method</th>\n",
       "      <th>Round</th>\n",
       "      <th>Time</th>\n",
       "      <th>Event</th>\n",
       "      <th>Date</th>\n",
       "    </tr>\n",
       "  </thead>\n",
       "  <tbody>\n",
       "    <tr>\n",
       "      <th>1</th>\n",
       "      <td>Miesha Tate</td>\n",
       "      <td>Holly Holm</td>\n",
       "      <td>SUB</td>\n",
       "      <td>5</td>\n",
       "      <td>3:30</td>\n",
       "      <td>UFC 196: McGregor vs Diaz</td>\n",
       "      <td>2016-03-05</td>\n",
       "    </tr>\n",
       "    <tr>\n",
       "      <th>2</th>\n",
       "      <td>Rose Namajunas</td>\n",
       "      <td>Paige VanZant</td>\n",
       "      <td>SUB</td>\n",
       "      <td>5</td>\n",
       "      <td>2:25</td>\n",
       "      <td>UFC Fight Night: Namajunas vs. VanZant</td>\n",
       "      <td>2015-12-10</td>\n",
       "    </tr>\n",
       "    <tr>\n",
       "      <th>3</th>\n",
       "      <td>Robbie Lawler</td>\n",
       "      <td>Rory MacDonald</td>\n",
       "      <td>KO/TKO</td>\n",
       "      <td>5</td>\n",
       "      <td>1:00</td>\n",
       "      <td>UFC 189: Mendes vs McGregor</td>\n",
       "      <td>2015-07-11</td>\n",
       "    </tr>\n",
       "    <tr>\n",
       "      <th>4</th>\n",
       "      <td>Stipe Miocic</td>\n",
       "      <td>Mark Hunt</td>\n",
       "      <td>KO/TKO</td>\n",
       "      <td>5</td>\n",
       "      <td>2:47</td>\n",
       "      <td>UFC Fight Night: Miocic vs Hunt</td>\n",
       "      <td>2015-05-09</td>\n",
       "    </tr>\n",
       "    <tr>\n",
       "      <th>5</th>\n",
       "      <td>Demetrious Johnson</td>\n",
       "      <td>Kyoji Horiguchi</td>\n",
       "      <td>SUB</td>\n",
       "      <td>5</td>\n",
       "      <td>4:59</td>\n",
       "      <td>UFC 186: Johnson vs Horiguchi</td>\n",
       "      <td>2015-04-25</td>\n",
       "    </tr>\n",
       "    <tr>\n",
       "      <th>6</th>\n",
       "      <td>Frankie Edgar</td>\n",
       "      <td>Cub Swanson</td>\n",
       "      <td>SUB</td>\n",
       "      <td>5</td>\n",
       "      <td>4:56</td>\n",
       "      <td>UFC Fight Night: Edgar vs Swanson</td>\n",
       "      <td>2014-11-22</td>\n",
       "    </tr>\n",
       "    <tr>\n",
       "      <th>7</th>\n",
       "      <td>TJ Dillashaw</td>\n",
       "      <td>Joe Soto</td>\n",
       "      <td>KO/TKO</td>\n",
       "      <td>5</td>\n",
       "      <td>2:20</td>\n",
       "      <td>UFC 177: Dillashaw vs Soto</td>\n",
       "      <td>2014-08-30</td>\n",
       "    </tr>\n",
       "    <tr>\n",
       "      <th>8</th>\n",
       "      <td>TJ Dillashaw</td>\n",
       "      <td>Renan Barao</td>\n",
       "      <td>KO/TKO</td>\n",
       "      <td>5</td>\n",
       "      <td>2:26</td>\n",
       "      <td>UFC 173: Barao vs Dillashaw</td>\n",
       "      <td>2014-05-24</td>\n",
       "    </tr>\n",
       "    <tr>\n",
       "      <th>9</th>\n",
       "      <td>Cain Velasquez</td>\n",
       "      <td>Junior Dos Santos</td>\n",
       "      <td>KO/TKO</td>\n",
       "      <td>5</td>\n",
       "      <td>3:09</td>\n",
       "      <td>UFC 166: Velasquez vs Dos Santos 3</td>\n",
       "      <td>2013-10-19</td>\n",
       "    </tr>\n",
       "    <tr>\n",
       "      <th>10</th>\n",
       "      <td>Demetrious Johnson</td>\n",
       "      <td>John Moraga</td>\n",
       "      <td>SUB</td>\n",
       "      <td>5</td>\n",
       "      <td>3:43</td>\n",
       "      <td>UFC on Fox: Johnson vs Moraga</td>\n",
       "      <td>2013-07-27</td>\n",
       "    </tr>\n",
       "    <tr>\n",
       "      <th>11</th>\n",
       "      <td>Anderson Silva</td>\n",
       "      <td>Chael Sonnen</td>\n",
       "      <td>SUB</td>\n",
       "      <td>5</td>\n",
       "      <td>3:10</td>\n",
       "      <td>UFC 117: Silva vs Sonnen</td>\n",
       "      <td>2010-08-07</td>\n",
       "    </tr>\n",
       "    <tr>\n",
       "      <th>12</th>\n",
       "      <td>BJ Penn</td>\n",
       "      <td>Diego Sanchez</td>\n",
       "      <td>KO/TKO</td>\n",
       "      <td>5</td>\n",
       "      <td>2:37</td>\n",
       "      <td>UFC 107: Penn vs Sanchez</td>\n",
       "      <td>2009-12-12</td>\n",
       "    </tr>\n",
       "    <tr>\n",
       "      <th>13</th>\n",
       "      <td>Ricco Rodriguez</td>\n",
       "      <td>Randy Couture</td>\n",
       "      <td>KO/TKO</td>\n",
       "      <td>5</td>\n",
       "      <td>3:04</td>\n",
       "      <td>UFC 39: The Warriors Return</td>\n",
       "      <td>2002-09-27</td>\n",
       "    </tr>\n",
       "  </tbody>\n",
       "</table>\n",
       "</div>"
      ],
      "text/plain": [
       "                Winner              Loser  Method  Round  Time  \\\n",
       "1          Miesha Tate         Holly Holm     SUB      5  3:30   \n",
       "2       Rose Namajunas      Paige VanZant     SUB      5  2:25   \n",
       "3        Robbie Lawler     Rory MacDonald  KO/TKO      5  1:00   \n",
       "4         Stipe Miocic          Mark Hunt  KO/TKO      5  2:47   \n",
       "5   Demetrious Johnson    Kyoji Horiguchi     SUB      5  4:59   \n",
       "6        Frankie Edgar        Cub Swanson     SUB      5  4:56   \n",
       "7         TJ Dillashaw           Joe Soto  KO/TKO      5  2:20   \n",
       "8         TJ Dillashaw        Renan Barao  KO/TKO      5  2:26   \n",
       "9       Cain Velasquez  Junior Dos Santos  KO/TKO      5  3:09   \n",
       "10  Demetrious Johnson        John Moraga     SUB      5  3:43   \n",
       "11      Anderson Silva       Chael Sonnen     SUB      5  3:10   \n",
       "12             BJ Penn      Diego Sanchez  KO/TKO      5  2:37   \n",
       "13     Ricco Rodriguez      Randy Couture  KO/TKO      5  3:04   \n",
       "\n",
       "                                     Event       Date  \n",
       "1                UFC 196: McGregor vs Diaz 2016-03-05  \n",
       "2   UFC Fight Night: Namajunas vs. VanZant 2015-12-10  \n",
       "3              UFC 189: Mendes vs McGregor 2015-07-11  \n",
       "4          UFC Fight Night: Miocic vs Hunt 2015-05-09  \n",
       "5            UFC 186: Johnson vs Horiguchi 2015-04-25  \n",
       "6        UFC Fight Night: Edgar vs Swanson 2014-11-22  \n",
       "7               UFC 177: Dillashaw vs Soto 2014-08-30  \n",
       "8              UFC 173: Barao vs Dillashaw 2014-05-24  \n",
       "9       UFC 166: Velasquez vs Dos Santos 3 2013-10-19  \n",
       "10           UFC on Fox: Johnson vs Moraga 2013-07-27  \n",
       "11                UFC 117: Silva vs Sonnen 2010-08-07  \n",
       "12                UFC 107: Penn vs Sanchez 2009-12-12  \n",
       "13             UFC 39: The Warriors Return 2002-09-27  "
      ]
     },
     "execution_count": 33,
     "metadata": {},
     "output_type": "execute_result"
    }
   ],
   "source": [
    "fifth_finish = df[df.Method.isin(['KO/TKO', 'SUB']) & (df.Round == 5)].reset_index(drop=True)\n",
    "fifth_finish = fifth_finish[['Winner', 'Loser', 'Method', 'Round', 'Time', 'Event','Date']]\n",
    "fifth_finish.index = range(1, 14)\n",
    "fifth_finish.to_latex('report/finishes/late_finishes_RAW.tex')\n",
    "fifth_finish"
   ]
  },
  {
   "cell_type": "markdown",
   "metadata": {},
   "source": [
    "We see that the null hypotheis should be not be rejected in favor of the alternative. There is not enough evidence to conclude that there is a decreasing trend with round number."
   ]
  }
 ],
 "metadata": {
  "anaconda-cloud": {},
  "kernelspec": {
   "display_name": "Python [conda root]",
   "language": "python",
   "name": "conda-root-py"
  },
  "language_info": {
   "codemirror_mode": {
    "name": "ipython",
    "version": 2
   },
   "file_extension": ".py",
   "mimetype": "text/x-python",
   "name": "python",
   "nbconvert_exporter": "python",
   "pygments_lexer": "ipython2",
   "version": "2.7.12"
  }
 },
 "nbformat": 4,
 "nbformat_minor": 1
}
