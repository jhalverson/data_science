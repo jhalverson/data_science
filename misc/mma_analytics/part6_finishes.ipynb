{
 "cells": [
  {
   "cell_type": "markdown",
   "metadata": {},
   "source": [
    "# Jonathan Halverson\n",
    "# Friday, February 24, 2017\n",
    "# Part 6: When fights are finished"
   ]
  },
  {
   "cell_type": "code",
   "execution_count": 1,
   "metadata": {
    "collapsed": true
   },
   "outputs": [],
   "source": [
    "import numpy as np\n",
    "import pandas as pd\n",
    "import matplotlib.pyplot as plt\n",
    "plt.style.use('halverson')\n",
    "%matplotlib inline"
   ]
  },
  {
   "cell_type": "code",
   "execution_count": 2,
   "metadata": {
    "collapsed": true
   },
   "outputs": [],
   "source": [
    "fights = pd.read_csv('fightmetric_cards/fightmetric_fights.csv', header=0, parse_dates=['Date'])\n",
    "fighters = pd.read_csv('fightmetric_fighters/fightmetric_fighters.csv', header=0, parse_dates=['Dob'])\n",
    "fighters['Age'] = (pd.to_datetime('today') - fighters.Dob) / np.timedelta64(1, 'Y')\n",
    "cols = ['Name', 'Height', 'Reach', 'Stance', 'Dob', 'Age']\n",
    "df = fights.merge(fighters[cols], how='inner', left_on='Winner', right_on='Name')\n",
    "df = df.merge(fighters[cols], how='inner', left_on='Loser', right_on='Name', suffixes=('', '_L'))"
   ]
  },
  {
   "cell_type": "markdown",
   "metadata": {},
   "source": [
    "### Let's consider a subset of the data:"
   ]
  },
  {
   "cell_type": "code",
   "execution_count": 18,
   "metadata": {
    "collapsed": false
   },
   "outputs": [
    {
     "data": {
      "text/html": [
       "<div>\n",
       "<table border=\"1\" class=\"dataframe\">\n",
       "  <thead>\n",
       "    <tr style=\"text-align: right;\">\n",
       "      <th></th>\n",
       "      <th>Winner</th>\n",
       "      <th>Loser</th>\n",
       "      <th>Method</th>\n",
       "      <th>Round</th>\n",
       "      <th>Time</th>\n",
       "      <th>Date</th>\n",
       "    </tr>\n",
       "  </thead>\n",
       "  <tbody>\n",
       "    <tr>\n",
       "      <th>2</th>\n",
       "      <td>Miesha Tate</td>\n",
       "      <td>Holly Holm</td>\n",
       "      <td>SUB</td>\n",
       "      <td>5</td>\n",
       "      <td>3:30</td>\n",
       "      <td>2016-03-05</td>\n",
       "    </tr>\n",
       "    <tr>\n",
       "      <th>3</th>\n",
       "      <td>Germaine de Randamie</td>\n",
       "      <td>Anna Elmose</td>\n",
       "      <td>KO/TKO</td>\n",
       "      <td>1</td>\n",
       "      <td>3:46</td>\n",
       "      <td>2016-05-08</td>\n",
       "    </tr>\n",
       "    <tr>\n",
       "      <th>5</th>\n",
       "      <td>Germaine de Randamie</td>\n",
       "      <td>Larissa Pacheco</td>\n",
       "      <td>KO/TKO</td>\n",
       "      <td>2</td>\n",
       "      <td>2:02</td>\n",
       "      <td>2015-03-14</td>\n",
       "    </tr>\n",
       "    <tr>\n",
       "      <th>6</th>\n",
       "      <td>Jessica Andrade</td>\n",
       "      <td>Larissa Pacheco</td>\n",
       "      <td>SUB</td>\n",
       "      <td>1</td>\n",
       "      <td>4:33</td>\n",
       "      <td>2014-09-13</td>\n",
       "    </tr>\n",
       "    <tr>\n",
       "      <th>10</th>\n",
       "      <td>Robert Whittaker</td>\n",
       "      <td>Derek Brunson</td>\n",
       "      <td>KO/TKO</td>\n",
       "      <td>1</td>\n",
       "      <td>4:07</td>\n",
       "      <td>2016-11-26</td>\n",
       "    </tr>\n",
       "  </tbody>\n",
       "</table>\n",
       "</div>"
      ],
      "text/plain": [
       "                  Winner            Loser  Method  Round  Time       Date\n",
       "2            Miesha Tate       Holly Holm     SUB      5  3:30 2016-03-05\n",
       "3   Germaine de Randamie      Anna Elmose  KO/TKO      1  3:46 2016-05-08\n",
       "5   Germaine de Randamie  Larissa Pacheco  KO/TKO      2  2:02 2015-03-14\n",
       "6        Jessica Andrade  Larissa Pacheco     SUB      1  4:33 2014-09-13\n",
       "10      Robert Whittaker    Derek Brunson  KO/TKO      1  4:07 2016-11-26"
      ]
     },
     "execution_count": 18,
     "metadata": {},
     "output_type": "execute_result"
    }
   ],
   "source": [
    "cols = ['Winner', 'Loser', 'Method', 'Round', 'Time', 'Date']\n",
    "finishes = df[df.Method.isin(['KO/TKO', 'SUB']) & (df.Date > np.datetime64('2005-01-01'))][cols]\n",
    "finishes.head(5)"
   ]
  },
  {
   "cell_type": "markdown",
   "metadata": {},
   "source": [
    "### How many fights are in the subset?"
   ]
  },
  {
   "cell_type": "code",
   "execution_count": 15,
   "metadata": {
    "collapsed": false
   },
   "outputs": [
    {
     "data": {
      "text/plain": [
       "1952"
      ]
     },
     "execution_count": 15,
     "metadata": {},
     "output_type": "execute_result"
    }
   ],
   "source": [
    "finishes.shape[0]"
   ]
  },
  {
   "cell_type": "markdown",
   "metadata": {},
   "source": [
    "### Was is the breakdown by round?"
   ]
  },
  {
   "cell_type": "code",
   "execution_count": 4,
   "metadata": {
    "collapsed": false
   },
   "outputs": [
    {
     "data": {
      "text/html": [
       "<div>\n",
       "<table border=\"1\" class=\"dataframe\">\n",
       "  <thead>\n",
       "    <tr style=\"text-align: right;\">\n",
       "      <th>Round</th>\n",
       "      <th>1</th>\n",
       "      <th>2</th>\n",
       "      <th>3</th>\n",
       "      <th>4</th>\n",
       "      <th>5</th>\n",
       "    </tr>\n",
       "    <tr>\n",
       "      <th>Method</th>\n",
       "      <th></th>\n",
       "      <th></th>\n",
       "      <th></th>\n",
       "      <th></th>\n",
       "      <th></th>\n",
       "    </tr>\n",
       "  </thead>\n",
       "  <tbody>\n",
       "    <tr>\n",
       "      <th>KO/TKO</th>\n",
       "      <td>668</td>\n",
       "      <td>351</td>\n",
       "      <td>160</td>\n",
       "      <td>11</td>\n",
       "      <td>6</td>\n",
       "    </tr>\n",
       "    <tr>\n",
       "      <th>SUB</th>\n",
       "      <td>372</td>\n",
       "      <td>245</td>\n",
       "      <td>124</td>\n",
       "      <td>9</td>\n",
       "      <td>6</td>\n",
       "    </tr>\n",
       "  </tbody>\n",
       "</table>\n",
       "</div>"
      ],
      "text/plain": [
       "Round     1    2    3   4  5\n",
       "Method                      \n",
       "KO/TKO  668  351  160  11  6\n",
       "SUB     372  245  124   9  6"
      ]
     },
     "execution_count": 4,
     "metadata": {},
     "output_type": "execute_result"
    }
   ],
   "source": [
    "method_round = pd.crosstab(index=finishes.Method, columns=finishes.Round, margins=False)\n",
    "method_round"
   ]
  },
  {
   "cell_type": "code",
   "execution_count": 5,
   "metadata": {
    "collapsed": false
   },
   "outputs": [
    {
     "data": {
      "text/html": [
       "<div>\n",
       "<table border=\"1\" class=\"dataframe\">\n",
       "  <thead>\n",
       "    <tr style=\"text-align: right;\">\n",
       "      <th>Round</th>\n",
       "      <th>1</th>\n",
       "      <th>2</th>\n",
       "      <th>3</th>\n",
       "      <th>4</th>\n",
       "      <th>5</th>\n",
       "    </tr>\n",
       "    <tr>\n",
       "      <th>Method</th>\n",
       "      <th></th>\n",
       "      <th></th>\n",
       "      <th></th>\n",
       "      <th></th>\n",
       "      <th></th>\n",
       "    </tr>\n",
       "  </thead>\n",
       "  <tbody>\n",
       "    <tr>\n",
       "      <th>KO/TKO</th>\n",
       "      <td>0.642308</td>\n",
       "      <td>0.588926</td>\n",
       "      <td>0.56338</td>\n",
       "      <td>0.55</td>\n",
       "      <td>0.5</td>\n",
       "    </tr>\n",
       "    <tr>\n",
       "      <th>SUB</th>\n",
       "      <td>0.357692</td>\n",
       "      <td>0.411074</td>\n",
       "      <td>0.43662</td>\n",
       "      <td>0.45</td>\n",
       "      <td>0.5</td>\n",
       "    </tr>\n",
       "  </tbody>\n",
       "</table>\n",
       "</div>"
      ],
      "text/plain": [
       "Round          1         2        3     4    5\n",
       "Method                                        \n",
       "KO/TKO  0.642308  0.588926  0.56338  0.55  0.5\n",
       "SUB     0.357692  0.411074  0.43662  0.45  0.5"
      ]
     },
     "execution_count": 5,
     "metadata": {},
     "output_type": "execute_result"
    }
   ],
   "source": [
    "method_round / method_round.sum(axis=0)"
   ]
  },
  {
   "cell_type": "markdown",
   "metadata": {},
   "source": [
    "Note that the previous table implies that there have only been 12 finishes in the 5th round since 2005. Let's look at these fights:"
   ]
  },
  {
   "cell_type": "code",
   "execution_count": 19,
   "metadata": {
    "collapsed": false
   },
   "outputs": [
    {
     "data": {
      "text/html": [
       "<div>\n",
       "<table border=\"1\" class=\"dataframe\">\n",
       "  <thead>\n",
       "    <tr style=\"text-align: right;\">\n",
       "      <th></th>\n",
       "      <th>Winner</th>\n",
       "      <th>Loser</th>\n",
       "      <th>Method</th>\n",
       "      <th>Round</th>\n",
       "      <th>Time</th>\n",
       "      <th>Date</th>\n",
       "    </tr>\n",
       "  </thead>\n",
       "  <tbody>\n",
       "    <tr>\n",
       "      <th>0</th>\n",
       "      <td>Miesha Tate</td>\n",
       "      <td>Holly Holm</td>\n",
       "      <td>SUB</td>\n",
       "      <td>5</td>\n",
       "      <td>3:30</td>\n",
       "      <td>2016-03-05</td>\n",
       "    </tr>\n",
       "    <tr>\n",
       "      <th>1</th>\n",
       "      <td>Anderson Silva</td>\n",
       "      <td>Chael Sonnen</td>\n",
       "      <td>SUB</td>\n",
       "      <td>5</td>\n",
       "      <td>3:10</td>\n",
       "      <td>2010-08-07</td>\n",
       "    </tr>\n",
       "    <tr>\n",
       "      <th>2</th>\n",
       "      <td>BJ Penn</td>\n",
       "      <td>Diego Sanchez</td>\n",
       "      <td>KO/TKO</td>\n",
       "      <td>5</td>\n",
       "      <td>2:37</td>\n",
       "      <td>2009-12-12</td>\n",
       "    </tr>\n",
       "    <tr>\n",
       "      <th>3</th>\n",
       "      <td>Demetrious Johnson</td>\n",
       "      <td>John Moraga</td>\n",
       "      <td>SUB</td>\n",
       "      <td>5</td>\n",
       "      <td>3:43</td>\n",
       "      <td>2013-07-27</td>\n",
       "    </tr>\n",
       "    <tr>\n",
       "      <th>4</th>\n",
       "      <td>TJ Dillashaw</td>\n",
       "      <td>Renan Barao</td>\n",
       "      <td>KO/TKO</td>\n",
       "      <td>5</td>\n",
       "      <td>2:26</td>\n",
       "      <td>2014-05-24</td>\n",
       "    </tr>\n",
       "    <tr>\n",
       "      <th>5</th>\n",
       "      <td>TJ Dillashaw</td>\n",
       "      <td>Joe Soto</td>\n",
       "      <td>KO/TKO</td>\n",
       "      <td>5</td>\n",
       "      <td>2:20</td>\n",
       "      <td>2014-08-30</td>\n",
       "    </tr>\n",
       "    <tr>\n",
       "      <th>6</th>\n",
       "      <td>Rose Namajunas</td>\n",
       "      <td>Paige VanZant</td>\n",
       "      <td>SUB</td>\n",
       "      <td>5</td>\n",
       "      <td>2:25</td>\n",
       "      <td>2015-12-10</td>\n",
       "    </tr>\n",
       "    <tr>\n",
       "      <th>7</th>\n",
       "      <td>Frankie Edgar</td>\n",
       "      <td>Cub Swanson</td>\n",
       "      <td>SUB</td>\n",
       "      <td>5</td>\n",
       "      <td>4:56</td>\n",
       "      <td>2014-11-22</td>\n",
       "    </tr>\n",
       "    <tr>\n",
       "      <th>8</th>\n",
       "      <td>Demetrious Johnson</td>\n",
       "      <td>Kyoji Horiguchi</td>\n",
       "      <td>SUB</td>\n",
       "      <td>5</td>\n",
       "      <td>4:59</td>\n",
       "      <td>2015-04-25</td>\n",
       "    </tr>\n",
       "    <tr>\n",
       "      <th>9</th>\n",
       "      <td>Stipe Miocic</td>\n",
       "      <td>Mark Hunt</td>\n",
       "      <td>KO/TKO</td>\n",
       "      <td>5</td>\n",
       "      <td>2:47</td>\n",
       "      <td>2015-05-09</td>\n",
       "    </tr>\n",
       "    <tr>\n",
       "      <th>10</th>\n",
       "      <td>Cain Velasquez</td>\n",
       "      <td>Junior Dos Santos</td>\n",
       "      <td>KO/TKO</td>\n",
       "      <td>5</td>\n",
       "      <td>3:09</td>\n",
       "      <td>2013-10-19</td>\n",
       "    </tr>\n",
       "    <tr>\n",
       "      <th>11</th>\n",
       "      <td>Robbie Lawler</td>\n",
       "      <td>Rory MacDonald</td>\n",
       "      <td>KO/TKO</td>\n",
       "      <td>5</td>\n",
       "      <td>1:00</td>\n",
       "      <td>2015-07-11</td>\n",
       "    </tr>\n",
       "  </tbody>\n",
       "</table>\n",
       "</div>"
      ],
      "text/plain": [
       "                Winner              Loser  Method  Round  Time       Date\n",
       "0          Miesha Tate         Holly Holm     SUB      5  3:30 2016-03-05\n",
       "1       Anderson Silva       Chael Sonnen     SUB      5  3:10 2010-08-07\n",
       "2              BJ Penn      Diego Sanchez  KO/TKO      5  2:37 2009-12-12\n",
       "3   Demetrious Johnson        John Moraga     SUB      5  3:43 2013-07-27\n",
       "4         TJ Dillashaw        Renan Barao  KO/TKO      5  2:26 2014-05-24\n",
       "5         TJ Dillashaw           Joe Soto  KO/TKO      5  2:20 2014-08-30\n",
       "6       Rose Namajunas      Paige VanZant     SUB      5  2:25 2015-12-10\n",
       "7        Frankie Edgar        Cub Swanson     SUB      5  4:56 2014-11-22\n",
       "8   Demetrious Johnson    Kyoji Horiguchi     SUB      5  4:59 2015-04-25\n",
       "9         Stipe Miocic          Mark Hunt  KO/TKO      5  2:47 2015-05-09\n",
       "10      Cain Velasquez  Junior Dos Santos  KO/TKO      5  3:09 2013-10-19\n",
       "11       Robbie Lawler     Rory MacDonald  KO/TKO      5  1:00 2015-07-11"
      ]
     },
     "execution_count": 19,
     "metadata": {},
     "output_type": "execute_result"
    }
   ],
   "source": [
    "finishes[finishes.Round == 5].reset_index(drop=True)"
   ]
  },
  {
   "cell_type": "markdown",
   "metadata": {},
   "source": [
    "### What is the proportion of each finishing method for each round?"
   ]
  },
  {
   "cell_type": "code",
   "execution_count": 7,
   "metadata": {
    "collapsed": false
   },
   "outputs": [],
   "source": [
    "tko = finishes[finishes.Method == 'KO/TKO'].Round.value_counts()\n",
    "sub = finishes[finishes.Method == 'SUB'].Round.value_counts()\n",
    "tko_p = 100.0 * tko / (tko + sub)\n",
    "sub_p = 100.0 * sub / (tko + sub)"
   ]
  },
  {
   "cell_type": "code",
   "execution_count": 8,
   "metadata": {
    "collapsed": false
   },
   "outputs": [
    {
     "data": {
      "text/plain": [
       "<matplotlib.text.Text at 0x10f260310>"
      ]
     },
     "execution_count": 8,
     "metadata": {},
     "output_type": "execute_result"
    },
    {
     "data": {
      "image/png": "[encoded data removed]",
      "text/plain": [
       "<matplotlib.figure.Figure at 0x10f224510>"
      ]
     },
     "metadata": {},
     "output_type": "display_data"
    }
   ],
   "source": [
    "plt.plot([-0.5, 4.5], [50, 50], 'k:', zorder=0)\n",
    "plt.bar(range(5), tko_p, width=0.4, color='r', tick_label=[1, 2, 3, 4, 5], align='center', label='KO/TKO')\n",
    "plt.bar(range(5), sub_p, width=0.4, color='g', bottom=tko_p, align='center', label='Submission')\n",
    "plt.xlim(-0.5, 4.5)\n",
    "plt.legend(loc=(1.05, 0.8))\n",
    "plt.xlabel('Round')\n",
    "plt.ylabel('Knockout or submission (%)')"
   ]
  },
  {
   "cell_type": "markdown",
   "metadata": {},
   "source": [
    "### Are the result statistically significant?"
   ]
  },
  {
   "cell_type": "code",
   "execution_count": 13,
   "metadata": {
    "collapsed": false
   },
   "outputs": [
    {
     "name": "stdout",
     "output_type": "stream",
     "text": [
      "9.14627370777 0.0575455316926 4 True\n"
     ]
    }
   ],
   "source": [
    "from scipy.stats import chi2_contingency\n",
    "\n",
    "chi_sq, p_value, dof, expect = chi2_contingency(method_round)\n",
    "chi_sq, p_value, dof, p_value > 0.05"
   ]
  },
  {
   "cell_type": "markdown",
   "metadata": {},
   "source": [
    "We see that the null hypotheis should be accepted. There is not enough evidence to conclude that there is a decreasing trend with round number."
   ]
  }
 ],
 "metadata": {
  "anaconda-cloud": {},
  "kernelspec": {
   "display_name": "Python [conda root]",
   "language": "python",
   "name": "conda-root-py"
  },
  "language_info": {
   "codemirror_mode": {
    "name": "ipython",
    "version": 2
   },
   "file_extension": ".py",
   "mimetype": "text/x-python",
   "name": "python",
   "nbconvert_exporter": "python",
   "pygments_lexer": "ipython2",
   "version": "2.7.12"
  }
 },
 "nbformat": 4,
 "nbformat_minor": 1
}
