{
 "cells": [
  {
   "cell_type": "markdown",
   "metadata": {},
   "source": [
    "# Jonathan Halverson\n",
    "# Friday, February 24, 2017\n",
    "# Part 6: Finishes and matplotlib colors"
   ]
  },
  {
   "cell_type": "code",
   "execution_count": 1,
   "metadata": {
    "collapsed": false
   },
   "outputs": [],
   "source": [
    "import numpy as np\n",
    "import pandas as pd\n",
    "import matplotlib.pyplot as plt\n",
    "%matplotlib inline\n",
    "plt.style.use('halverson')\n",
    "#plt.style.use('classic')\n",
    "from scipy.stats import chi2_contingency"
   ]
  },
  {
   "cell_type": "markdown",
   "metadata": {},
   "source": [
    "### Now using Matplotlib version 2"
   ]
  },
  {
   "cell_type": "code",
   "execution_count": 2,
   "metadata": {
    "collapsed": false
   },
   "outputs": [
    {
     "data": {
      "text/plain": [
       "u'/Users/jhalverson/.matplotlib'"
      ]
     },
     "execution_count": 2,
     "metadata": {},
     "output_type": "execute_result"
    }
   ],
   "source": [
    "import matplotlib as mpl\n",
    "mpl.get_configdir()"
   ]
  },
  {
   "cell_type": "code",
   "execution_count": 3,
   "metadata": {
    "collapsed": false
   },
   "outputs": [
    {
     "data": {
      "text/plain": [
       "(12.0, 14.0, [6.0, 3.708], 100.0)"
      ]
     },
     "execution_count": 3,
     "metadata": {},
     "output_type": "execute_result"
    }
   ],
   "source": [
    "plt.rcParams['xtick.labelsize'], plt.rcParams['axes.labelsize'], plt.rcParams['figure.figsize'], plt.rcParams['figure.dpi']"
   ]
  },
  {
   "cell_type": "code",
   "execution_count": 4,
   "metadata": {
    "collapsed": false
   },
   "outputs": [
    {
     "name": "stdout",
     "output_type": "stream",
     "text": [
      "[u'seaborn-darkgrid', u'seaborn-notebook', u'classic', u'seaborn-ticks', u'grayscale', u'bmh', u'seaborn-talk', u'dark_background', u'ggplot', u'fivethirtyeight', u'seaborn-colorblind', u'seaborn-deep', u'seaborn-whitegrid', u'seaborn-bright', u'seaborn-poster', u'seaborn-muted', u'seaborn-paper', u'seaborn-white', u'halverson', u'seaborn-pastel', u'seaborn-dark', u'seaborn', u'seaborn-dark-palette']\n"
     ]
    }
   ],
   "source": [
    "print(plt.style.available)"
   ]
  },
  {
   "cell_type": "markdown",
   "metadata": {},
   "source": [
    "### Load data"
   ]
  },
  {
   "cell_type": "code",
   "execution_count": 5,
   "metadata": {
    "collapsed": false
   },
   "outputs": [
    {
     "data": {
      "text/html": [
       "<div>\n",
       "<table border=\"1\" class=\"dataframe\">\n",
       "  <thead>\n",
       "    <tr style=\"text-align: right;\">\n",
       "      <th></th>\n",
       "      <th>Winner</th>\n",
       "      <th>Outcome</th>\n",
       "      <th>Loser</th>\n",
       "      <th>WeightClass</th>\n",
       "      <th>Method</th>\n",
       "      <th>MethodNotes</th>\n",
       "      <th>Round</th>\n",
       "      <th>Time</th>\n",
       "      <th>Event</th>\n",
       "      <th>Date</th>\n",
       "      <th>...</th>\n",
       "      <th>Stance</th>\n",
       "      <th>Dob</th>\n",
       "      <th>Age</th>\n",
       "      <th>Name_L</th>\n",
       "      <th>Height_L</th>\n",
       "      <th>Reach_L</th>\n",
       "      <th>LegReach_L</th>\n",
       "      <th>Stance_L</th>\n",
       "      <th>Dob_L</th>\n",
       "      <th>Age_L</th>\n",
       "    </tr>\n",
       "  </thead>\n",
       "  <tbody>\n",
       "    <tr>\n",
       "      <th>0</th>\n",
       "      <td>Germaine de Randamie</td>\n",
       "      <td>def.</td>\n",
       "      <td>Holly Holm</td>\n",
       "      <td>Women's Featherweight</td>\n",
       "      <td>U-DEC</td>\n",
       "      <td>NaN</td>\n",
       "      <td>5</td>\n",
       "      <td>5:00</td>\n",
       "      <td>UFC 208: Holm vs. De Randamie</td>\n",
       "      <td>2017-02-11</td>\n",
       "      <td>...</td>\n",
       "      <td>Orthodox</td>\n",
       "      <td>1984-04-24</td>\n",
       "      <td>32.978090</td>\n",
       "      <td>Holly Holm</td>\n",
       "      <td>68.0</td>\n",
       "      <td>69.0</td>\n",
       "      <td>38.0</td>\n",
       "      <td>Southpaw</td>\n",
       "      <td>1981-10-17</td>\n",
       "      <td>35.496964</td>\n",
       "    </tr>\n",
       "    <tr>\n",
       "      <th>1</th>\n",
       "      <td>Anderson Silva</td>\n",
       "      <td>def.</td>\n",
       "      <td>Derek Brunson</td>\n",
       "      <td>Middleweight</td>\n",
       "      <td>U-DEC</td>\n",
       "      <td>NaN</td>\n",
       "      <td>3</td>\n",
       "      <td>5:00</td>\n",
       "      <td>UFC 208: Holm vs. De Randamie</td>\n",
       "      <td>2017-02-11</td>\n",
       "      <td>...</td>\n",
       "      <td>Southpaw</td>\n",
       "      <td>1975-04-14</td>\n",
       "      <td>42.007707</td>\n",
       "      <td>Derek Brunson</td>\n",
       "      <td>73.0</td>\n",
       "      <td>77.0</td>\n",
       "      <td>43.0</td>\n",
       "      <td>Southpaw</td>\n",
       "      <td>1984-01-04</td>\n",
       "      <td>33.281998</td>\n",
       "    </tr>\n",
       "    <tr>\n",
       "      <th>2</th>\n",
       "      <td>Jacare Souza</td>\n",
       "      <td>def.</td>\n",
       "      <td>Tim Boetsch</td>\n",
       "      <td>Middleweight</td>\n",
       "      <td>SUB</td>\n",
       "      <td>Kimura</td>\n",
       "      <td>1</td>\n",
       "      <td>3:41</td>\n",
       "      <td>UFC 208: Holm vs. De Randamie</td>\n",
       "      <td>2017-02-11</td>\n",
       "      <td>...</td>\n",
       "      <td>Orthodox</td>\n",
       "      <td>1979-12-07</td>\n",
       "      <td>37.358741</td>\n",
       "      <td>Tim Boetsch</td>\n",
       "      <td>72.0</td>\n",
       "      <td>74.0</td>\n",
       "      <td>42.0</td>\n",
       "      <td>Orthodox</td>\n",
       "      <td>1981-01-28</td>\n",
       "      <td>36.214296</td>\n",
       "    </tr>\n",
       "  </tbody>\n",
       "</table>\n",
       "<p>3 rows × 25 columns</p>\n",
       "</div>"
      ],
      "text/plain": [
       "                 Winner Outcome          Loser            WeightClass Method  \\\n",
       "0  Germaine de Randamie    def.     Holly Holm  Women's Featherweight  U-DEC   \n",
       "1        Anderson Silva    def.  Derek Brunson           Middleweight  U-DEC   \n",
       "2          Jacare Souza    def.    Tim Boetsch           Middleweight    SUB   \n",
       "\n",
       "  MethodNotes  Round  Time                          Event       Date  \\\n",
       "0         NaN      5  5:00  UFC 208: Holm vs. De Randamie 2017-02-11   \n",
       "1         NaN      3  5:00  UFC 208: Holm vs. De Randamie 2017-02-11   \n",
       "2      Kimura      1  3:41  UFC 208: Holm vs. De Randamie 2017-02-11   \n",
       "\n",
       "     ...        Stance        Dob        Age         Name_L  Height_L Reach_L  \\\n",
       "0    ...      Orthodox 1984-04-24  32.978090     Holly Holm      68.0    69.0   \n",
       "1    ...      Southpaw 1975-04-14  42.007707  Derek Brunson      73.0    77.0   \n",
       "2    ...      Orthodox 1979-12-07  37.358741    Tim Boetsch      72.0    74.0   \n",
       "\n",
       "  LegReach_L  Stance_L      Dob_L      Age_L  \n",
       "0       38.0  Southpaw 1981-10-17  35.496964  \n",
       "1       43.0  Southpaw 1984-01-04  33.281998  \n",
       "2       42.0  Orthodox 1981-01-28  36.214296  \n",
       "\n",
       "[3 rows x 25 columns]"
      ]
     },
     "execution_count": 5,
     "metadata": {},
     "output_type": "execute_result"
    }
   ],
   "source": [
    "iofile = 'data/fightmetric_cards/fightmetric_fights_CLEAN_3-6-2017.csv'\n",
    "fights = pd.read_csv(iofile, header=0, parse_dates=['Date'])\n",
    "iofile = 'data/fightmetric_fighters_with_corrections_from_UFC_Wikipedia_CLEAN.csv'\n",
    "fighters = pd.read_csv(iofile, header=0, parse_dates=['Dob'])\n",
    "fighters['Age'] = (pd.to_datetime('today') - fighters.Dob) / np.timedelta64(1, 'Y')\n",
    "cols = ['Name', 'Height', 'Reach', 'LegReach', 'Stance', 'Dob', 'Age']\n",
    "df = fights.merge(fighters[cols], how='left', left_on='Winner', right_on='Name')\n",
    "df = df.merge(fighters[cols], how='left', left_on='Loser', right_on='Name', suffixes=('', '_L'))\n",
    "df.head(3)"
   ]
  },
  {
   "cell_type": "markdown",
   "metadata": {},
   "source": [
    "### Let's consider a subset of the data:"
   ]
  },
  {
   "cell_type": "code",
   "execution_count": 6,
   "metadata": {
    "collapsed": false
   },
   "outputs": [
    {
     "data": {
      "text/html": [
       "<div>\n",
       "<table border=\"1\" class=\"dataframe\">\n",
       "  <thead>\n",
       "    <tr style=\"text-align: right;\">\n",
       "      <th></th>\n",
       "      <th>Winner</th>\n",
       "      <th>Loser</th>\n",
       "      <th>Method</th>\n",
       "      <th>Round</th>\n",
       "      <th>Time</th>\n",
       "      <th>Date</th>\n",
       "    </tr>\n",
       "  </thead>\n",
       "  <tbody>\n",
       "    <tr>\n",
       "      <th>2</th>\n",
       "      <td>Jacare Souza</td>\n",
       "      <td>Tim Boetsch</td>\n",
       "      <td>SUB</td>\n",
       "      <td>1</td>\n",
       "      <td>3:41</td>\n",
       "      <td>2017-02-11</td>\n",
       "    </tr>\n",
       "    <tr>\n",
       "      <th>10</th>\n",
       "      <td>Chan Sung Jung</td>\n",
       "      <td>Dennis Bermudez</td>\n",
       "      <td>KO/TKO</td>\n",
       "      <td>1</td>\n",
       "      <td>2:49</td>\n",
       "      <td>2017-02-04</td>\n",
       "    </tr>\n",
       "    <tr>\n",
       "      <th>12</th>\n",
       "      <td>James Vick</td>\n",
       "      <td>Abel Trujillo</td>\n",
       "      <td>SUB</td>\n",
       "      <td>3</td>\n",
       "      <td>0:49</td>\n",
       "      <td>2017-02-04</td>\n",
       "    </tr>\n",
       "    <tr>\n",
       "      <th>14</th>\n",
       "      <td>Marcel Fortuna</td>\n",
       "      <td>Anthony Hamilton</td>\n",
       "      <td>KO/TKO</td>\n",
       "      <td>1</td>\n",
       "      <td>3:10</td>\n",
       "      <td>2017-02-04</td>\n",
       "    </tr>\n",
       "    <tr>\n",
       "      <th>16</th>\n",
       "      <td>Curtis Blaydes</td>\n",
       "      <td>Adam Milstead</td>\n",
       "      <td>KO/TKO</td>\n",
       "      <td>2</td>\n",
       "      <td>0:59</td>\n",
       "      <td>2017-02-04</td>\n",
       "    </tr>\n",
       "  </tbody>\n",
       "</table>\n",
       "</div>"
      ],
      "text/plain": [
       "            Winner             Loser  Method  Round  Time       Date\n",
       "2     Jacare Souza       Tim Boetsch     SUB      1  3:41 2017-02-11\n",
       "10  Chan Sung Jung   Dennis Bermudez  KO/TKO      1  2:49 2017-02-04\n",
       "12      James Vick     Abel Trujillo     SUB      3  0:49 2017-02-04\n",
       "14  Marcel Fortuna  Anthony Hamilton  KO/TKO      1  3:10 2017-02-04\n",
       "16  Curtis Blaydes     Adam Milstead  KO/TKO      2  0:59 2017-02-04"
      ]
     },
     "execution_count": 6,
     "metadata": {},
     "output_type": "execute_result"
    }
   ],
   "source": [
    "cols = ['Winner', 'Loser', 'Method', 'Round', 'Time', 'Date']\n",
    "finishes = df[df.Method.isin(['KO/TKO', 'SUB']) & (df.Date > np.datetime64('2005-01-01'))][cols]\n",
    "finishes.head(5)"
   ]
  },
  {
   "cell_type": "markdown",
   "metadata": {},
   "source": [
    "### How many fights are in the subset?"
   ]
  },
  {
   "cell_type": "code",
   "execution_count": 7,
   "metadata": {
    "collapsed": false
   },
   "outputs": [
    {
     "data": {
      "text/plain": [
       "1935"
      ]
     },
     "execution_count": 7,
     "metadata": {},
     "output_type": "execute_result"
    }
   ],
   "source": [
    "finishes.shape[0]"
   ]
  },
  {
   "cell_type": "markdown",
   "metadata": {},
   "source": [
    "### Was is the breakdown by round?"
   ]
  },
  {
   "cell_type": "code",
   "execution_count": 8,
   "metadata": {
    "collapsed": false
   },
   "outputs": [
    {
     "data": {
      "text/html": [
       "<div>\n",
       "<table border=\"1\" class=\"dataframe\">\n",
       "  <thead>\n",
       "    <tr style=\"text-align: right;\">\n",
       "      <th>Round</th>\n",
       "      <th>1</th>\n",
       "      <th>2</th>\n",
       "      <th>3</th>\n",
       "      <th>4</th>\n",
       "      <th>5</th>\n",
       "    </tr>\n",
       "    <tr>\n",
       "      <th>Method</th>\n",
       "      <th></th>\n",
       "      <th></th>\n",
       "      <th></th>\n",
       "      <th></th>\n",
       "      <th></th>\n",
       "    </tr>\n",
       "  </thead>\n",
       "  <tbody>\n",
       "    <tr>\n",
       "      <th>KO/TKO</th>\n",
       "      <td>661</td>\n",
       "      <td>350</td>\n",
       "      <td>156</td>\n",
       "      <td>11</td>\n",
       "      <td>6</td>\n",
       "    </tr>\n",
       "    <tr>\n",
       "      <th>SUB</th>\n",
       "      <td>372</td>\n",
       "      <td>242</td>\n",
       "      <td>123</td>\n",
       "      <td>8</td>\n",
       "      <td>6</td>\n",
       "    </tr>\n",
       "  </tbody>\n",
       "</table>\n",
       "</div>"
      ],
      "text/plain": [
       "Round     1    2    3   4  5\n",
       "Method                      \n",
       "KO/TKO  661  350  156  11  6\n",
       "SUB     372  242  123   8  6"
      ]
     },
     "execution_count": 8,
     "metadata": {},
     "output_type": "execute_result"
    }
   ],
   "source": [
    "method_round = pd.crosstab(index=finishes.Method, columns=finishes.Round, margins=False)\n",
    "method_round"
   ]
  },
  {
   "cell_type": "code",
   "execution_count": 9,
   "metadata": {
    "collapsed": false
   },
   "outputs": [
    {
     "data": {
      "text/html": [
       "<div>\n",
       "<table border=\"1\" class=\"dataframe\">\n",
       "  <thead>\n",
       "    <tr style=\"text-align: right;\">\n",
       "      <th>Round</th>\n",
       "      <th>1</th>\n",
       "      <th>2</th>\n",
       "      <th>3</th>\n",
       "      <th>4</th>\n",
       "      <th>5</th>\n",
       "    </tr>\n",
       "    <tr>\n",
       "      <th>Method</th>\n",
       "      <th></th>\n",
       "      <th></th>\n",
       "      <th></th>\n",
       "      <th></th>\n",
       "      <th></th>\n",
       "    </tr>\n",
       "  </thead>\n",
       "  <tbody>\n",
       "    <tr>\n",
       "      <th>KO/TKO</th>\n",
       "      <td>0.639884</td>\n",
       "      <td>0.591216</td>\n",
       "      <td>0.55914</td>\n",
       "      <td>0.578947</td>\n",
       "      <td>0.5</td>\n",
       "    </tr>\n",
       "    <tr>\n",
       "      <th>SUB</th>\n",
       "      <td>0.360116</td>\n",
       "      <td>0.408784</td>\n",
       "      <td>0.44086</td>\n",
       "      <td>0.421053</td>\n",
       "      <td>0.5</td>\n",
       "    </tr>\n",
       "  </tbody>\n",
       "</table>\n",
       "</div>"
      ],
      "text/plain": [
       "Round          1         2        3         4    5\n",
       "Method                                            \n",
       "KO/TKO  0.639884  0.591216  0.55914  0.578947  0.5\n",
       "SUB     0.360116  0.408784  0.44086  0.421053  0.5"
      ]
     },
     "execution_count": 9,
     "metadata": {},
     "output_type": "execute_result"
    }
   ],
   "source": [
    "method_round / method_round.sum(axis=0)"
   ]
  },
  {
   "cell_type": "markdown",
   "metadata": {},
   "source": [
    "Note that the previous table implies that there have only been 12 finishes in the 5th round since 2005. Let's look at these fights:"
   ]
  },
  {
   "cell_type": "markdown",
   "metadata": {},
   "source": [
    "### What is the proportion of each finishing method for each round?"
   ]
  },
  {
   "cell_type": "code",
   "execution_count": 10,
   "metadata": {
    "collapsed": false
   },
   "outputs": [],
   "source": [
    "tko = finishes[finishes.Method == 'KO/TKO'].Round.value_counts()\n",
    "sub = finishes[finishes.Method == 'SUB'].Round.value_counts()\n",
    "tko_p = 100.0 * tko / (tko + sub)\n",
    "sub_p = 100.0 * sub / (tko + sub)"
   ]
  },
  {
   "cell_type": "code",
   "execution_count": 11,
   "metadata": {
    "collapsed": false
   },
   "outputs": [
    {
     "data": {
      "image/png": "[encoded data removed]",
      "text/plain": [
       "<matplotlib.figure.Figure at 0x1107ffa50>"
      ]
     },
     "metadata": {},
     "output_type": "display_data"
    }
   ],
   "source": [
    "fig, ax = plt.subplots()\n",
    "plt.plot([-0.5, 4.5], [50, 50], 'k:', zorder=0)\n",
    "plt.bar(range(5), tko_p, width=0.4, tick_label=[1, 2, 3, 4, 5], align='center', label='KO/TKO')\n",
    "plt.bar(range(5), sub_p, width=0.4, bottom=tko_p, align='center', label='Submission')\n",
    "plt.xlim(-0.5, 4.5)\n",
    "plt.ylim(0, 100)\n",
    "plt.legend(loc=(1.05, 0.75), fontsize=12)\n",
    "ax.xaxis.set_ticks_position('none')\n",
    "plt.xlabel('Round')\n",
    "plt.ylabel('Knockout or Submission (%)')\n",
    "plt.savefig('report/finishes/tko_sub_by_round.pdf', bbox_inches='tight')"
   ]
  },
  {
   "cell_type": "markdown",
   "metadata": {},
   "source": [
    "Are the result statistically significant?"
   ]
  },
  {
   "cell_type": "code",
   "execution_count": 12,
   "metadata": {
    "collapsed": false
   },
   "outputs": [
    {
     "data": {
      "text/plain": [
       "(8.4626907347192031, 0.076026228837602738, 4, True)"
      ]
     },
     "execution_count": 12,
     "metadata": {},
     "output_type": "execute_result"
    }
   ],
   "source": [
    "chi_sq, p_value, dof, expect = chi2_contingency(method_round)\n",
    "chi_sq, p_value, dof, p_value > 0.05"
   ]
  },
  {
   "cell_type": "markdown",
   "metadata": {},
   "source": [
    "### What are the latest finishes in UFC history?"
   ]
  },
  {
   "cell_type": "code",
   "execution_count": 13,
   "metadata": {
    "collapsed": false
   },
   "outputs": [
    {
     "data": {
      "text/html": [
       "<div>\n",
       "<table border=\"1\" class=\"dataframe\">\n",
       "  <thead>\n",
       "    <tr style=\"text-align: right;\">\n",
       "      <th></th>\n",
       "      <th>Winner</th>\n",
       "      <th>Loser</th>\n",
       "      <th>Method</th>\n",
       "      <th>Round</th>\n",
       "      <th>Time</th>\n",
       "      <th>Event</th>\n",
       "      <th>Date</th>\n",
       "    </tr>\n",
       "  </thead>\n",
       "  <tbody>\n",
       "    <tr>\n",
       "      <th>1</th>\n",
       "      <td>Miesha Tate</td>\n",
       "      <td>Holly Holm</td>\n",
       "      <td>SUB</td>\n",
       "      <td>5</td>\n",
       "      <td>3:30</td>\n",
       "      <td>UFC 196: McGregor vs Diaz</td>\n",
       "      <td>2016-03-05</td>\n",
       "    </tr>\n",
       "    <tr>\n",
       "      <th>2</th>\n",
       "      <td>Rose Namajunas</td>\n",
       "      <td>Paige VanZant</td>\n",
       "      <td>SUB</td>\n",
       "      <td>5</td>\n",
       "      <td>2:25</td>\n",
       "      <td>UFC Fight Night: Namajunas vs. VanZant</td>\n",
       "      <td>2015-12-10</td>\n",
       "    </tr>\n",
       "    <tr>\n",
       "      <th>3</th>\n",
       "      <td>Robbie Lawler</td>\n",
       "      <td>Rory MacDonald</td>\n",
       "      <td>KO/TKO</td>\n",
       "      <td>5</td>\n",
       "      <td>1:00</td>\n",
       "      <td>UFC 189: Mendes vs McGregor</td>\n",
       "      <td>2015-07-11</td>\n",
       "    </tr>\n",
       "    <tr>\n",
       "      <th>4</th>\n",
       "      <td>Stipe Miocic</td>\n",
       "      <td>Mark Hunt</td>\n",
       "      <td>KO/TKO</td>\n",
       "      <td>5</td>\n",
       "      <td>2:47</td>\n",
       "      <td>UFC Fight Night: Miocic vs Hunt</td>\n",
       "      <td>2015-05-09</td>\n",
       "    </tr>\n",
       "    <tr>\n",
       "      <th>5</th>\n",
       "      <td>Demetrious Johnson</td>\n",
       "      <td>Kyoji Horiguchi</td>\n",
       "      <td>SUB</td>\n",
       "      <td>5</td>\n",
       "      <td>4:59</td>\n",
       "      <td>UFC 186: Johnson vs Horiguchi</td>\n",
       "      <td>2015-04-25</td>\n",
       "    </tr>\n",
       "    <tr>\n",
       "      <th>6</th>\n",
       "      <td>Frankie Edgar</td>\n",
       "      <td>Cub Swanson</td>\n",
       "      <td>SUB</td>\n",
       "      <td>5</td>\n",
       "      <td>4:56</td>\n",
       "      <td>UFC Fight Night: Edgar vs Swanson</td>\n",
       "      <td>2014-11-22</td>\n",
       "    </tr>\n",
       "    <tr>\n",
       "      <th>7</th>\n",
       "      <td>TJ Dillashaw</td>\n",
       "      <td>Joe Soto</td>\n",
       "      <td>KO/TKO</td>\n",
       "      <td>5</td>\n",
       "      <td>2:20</td>\n",
       "      <td>UFC 177: Dillashaw vs Soto</td>\n",
       "      <td>2014-08-30</td>\n",
       "    </tr>\n",
       "    <tr>\n",
       "      <th>8</th>\n",
       "      <td>TJ Dillashaw</td>\n",
       "      <td>Renan Barao</td>\n",
       "      <td>KO/TKO</td>\n",
       "      <td>5</td>\n",
       "      <td>2:26</td>\n",
       "      <td>UFC 173: Barao vs Dillashaw</td>\n",
       "      <td>2014-05-24</td>\n",
       "    </tr>\n",
       "    <tr>\n",
       "      <th>9</th>\n",
       "      <td>Cain Velasquez</td>\n",
       "      <td>Junior Dos Santos</td>\n",
       "      <td>KO/TKO</td>\n",
       "      <td>5</td>\n",
       "      <td>3:09</td>\n",
       "      <td>UFC 166: Velasquez vs Dos Santos 3</td>\n",
       "      <td>2013-10-19</td>\n",
       "    </tr>\n",
       "    <tr>\n",
       "      <th>10</th>\n",
       "      <td>Demetrious Johnson</td>\n",
       "      <td>John Moraga</td>\n",
       "      <td>SUB</td>\n",
       "      <td>5</td>\n",
       "      <td>3:43</td>\n",
       "      <td>UFC on Fox: Johnson vs Moraga</td>\n",
       "      <td>2013-07-27</td>\n",
       "    </tr>\n",
       "    <tr>\n",
       "      <th>11</th>\n",
       "      <td>Anderson Silva</td>\n",
       "      <td>Chael Sonnen</td>\n",
       "      <td>SUB</td>\n",
       "      <td>5</td>\n",
       "      <td>3:10</td>\n",
       "      <td>UFC 117: Silva vs Sonnen</td>\n",
       "      <td>2010-08-07</td>\n",
       "    </tr>\n",
       "    <tr>\n",
       "      <th>12</th>\n",
       "      <td>BJ Penn</td>\n",
       "      <td>Diego Sanchez</td>\n",
       "      <td>KO/TKO</td>\n",
       "      <td>5</td>\n",
       "      <td>2:37</td>\n",
       "      <td>UFC 107: Penn vs Sanchez</td>\n",
       "      <td>2009-12-12</td>\n",
       "    </tr>\n",
       "    <tr>\n",
       "      <th>13</th>\n",
       "      <td>Ricco Rodriguez</td>\n",
       "      <td>Randy Couture</td>\n",
       "      <td>KO/TKO</td>\n",
       "      <td>5</td>\n",
       "      <td>3:04</td>\n",
       "      <td>UFC 39: The Warriors Return</td>\n",
       "      <td>2002-09-27</td>\n",
       "    </tr>\n",
       "  </tbody>\n",
       "</table>\n",
       "</div>"
      ],
      "text/plain": [
       "                Winner              Loser  Method  Round  Time  \\\n",
       "1          Miesha Tate         Holly Holm     SUB      5  3:30   \n",
       "2       Rose Namajunas      Paige VanZant     SUB      5  2:25   \n",
       "3        Robbie Lawler     Rory MacDonald  KO/TKO      5  1:00   \n",
       "4         Stipe Miocic          Mark Hunt  KO/TKO      5  2:47   \n",
       "5   Demetrious Johnson    Kyoji Horiguchi     SUB      5  4:59   \n",
       "6        Frankie Edgar        Cub Swanson     SUB      5  4:56   \n",
       "7         TJ Dillashaw           Joe Soto  KO/TKO      5  2:20   \n",
       "8         TJ Dillashaw        Renan Barao  KO/TKO      5  2:26   \n",
       "9       Cain Velasquez  Junior Dos Santos  KO/TKO      5  3:09   \n",
       "10  Demetrious Johnson        John Moraga     SUB      5  3:43   \n",
       "11      Anderson Silva       Chael Sonnen     SUB      5  3:10   \n",
       "12             BJ Penn      Diego Sanchez  KO/TKO      5  2:37   \n",
       "13     Ricco Rodriguez      Randy Couture  KO/TKO      5  3:04   \n",
       "\n",
       "                                     Event       Date  \n",
       "1                UFC 196: McGregor vs Diaz 2016-03-05  \n",
       "2   UFC Fight Night: Namajunas vs. VanZant 2015-12-10  \n",
       "3              UFC 189: Mendes vs McGregor 2015-07-11  \n",
       "4          UFC Fight Night: Miocic vs Hunt 2015-05-09  \n",
       "5            UFC 186: Johnson vs Horiguchi 2015-04-25  \n",
       "6        UFC Fight Night: Edgar vs Swanson 2014-11-22  \n",
       "7               UFC 177: Dillashaw vs Soto 2014-08-30  \n",
       "8              UFC 173: Barao vs Dillashaw 2014-05-24  \n",
       "9       UFC 166: Velasquez vs Dos Santos 3 2013-10-19  \n",
       "10           UFC on Fox: Johnson vs Moraga 2013-07-27  \n",
       "11                UFC 117: Silva vs Sonnen 2010-08-07  \n",
       "12                UFC 107: Penn vs Sanchez 2009-12-12  \n",
       "13             UFC 39: The Warriors Return 2002-09-27  "
      ]
     },
     "execution_count": 13,
     "metadata": {},
     "output_type": "execute_result"
    }
   ],
   "source": [
    "fifth_finish = df[df.Method.isin(['KO/TKO', 'SUB']) & (df.Round == 5)].reset_index(drop=True)\n",
    "fifth_finish = fifth_finish[['Winner', 'Loser', 'Method', 'Round', 'Time', 'Event','Date']]\n",
    "fifth_finish.index = range(1, 14)\n",
    "fifth_finish.to_latex('report/finishes/late_finishes_RAW.tex')\n",
    "fifth_finish"
   ]
  },
  {
   "cell_type": "markdown",
   "metadata": {},
   "source": [
    "We see that the null hypotheis should be not be rejected in favor of the alternative. There is not enough evidence to conclude that there is a decreasing trend with round number."
   ]
  },
  {
   "cell_type": "markdown",
   "metadata": {},
   "source": [
    "### How are wins earned by weight class?"
   ]
  },
  {
   "cell_type": "code",
   "execution_count": 14,
   "metadata": {
    "collapsed": false
   },
   "outputs": [
    {
     "data": {
      "text/plain": [
       "Lightweight              827\n",
       "Welterweight             789\n",
       "Middleweight             621\n",
       "Heavyweight              426\n",
       "Light Heavyweight        402\n",
       "Featherweight            320\n",
       "Bantamweight             261\n",
       "Flyweight                131\n",
       "Open Weight              125\n",
       "Women's Bantamweight      76\n",
       "Women's Strawweight       68\n",
       "Catch Weight              19\n",
       "Women's Featherweight      1\n",
       "Women's Flyweight          1\n",
       "Super Heavyweight          1\n",
       "Name: WeightClass, dtype: int64"
      ]
     },
     "execution_count": 14,
     "metadata": {},
     "output_type": "execute_result"
    }
   ],
   "source": [
    "df.WeightClass.value_counts()"
   ]
  },
  {
   "cell_type": "code",
   "execution_count": 15,
   "metadata": {
    "collapsed": false
   },
   "outputs": [
    {
     "data": {
      "text/plain": [
       "def.          3999\n",
       "no contest      42\n",
       "draw            27\n",
       "Name: Outcome, dtype: int64"
      ]
     },
     "execution_count": 15,
     "metadata": {},
     "output_type": "execute_result"
    }
   ],
   "source": [
    "df.Outcome.value_counts()"
   ]
  },
  {
   "cell_type": "code",
   "execution_count": 16,
   "metadata": {
    "collapsed": false
   },
   "outputs": [
    {
     "data": {
      "text/plain": [
       "KO/TKO        1384\n",
       "U-DEC         1329\n",
       "SUB            888\n",
       "S-DEC          368\n",
       "M-DEC           43\n",
       "Overturned      30\n",
       "CNC             12\n",
       "DQ              12\n",
       "Other            2\n",
       "Name: Method, dtype: int64"
      ]
     },
     "execution_count": 16,
     "metadata": {},
     "output_type": "execute_result"
    }
   ],
   "source": [
    "df.Method.value_counts()"
   ]
  },
  {
   "cell_type": "code",
   "execution_count": 17,
   "metadata": {
    "collapsed": false
   },
   "outputs": [
    {
     "data": {
      "text/html": [
       "<div>\n",
       "<table border=\"1\" class=\"dataframe\">\n",
       "  <thead>\n",
       "    <tr style=\"text-align: right;\">\n",
       "      <th></th>\n",
       "      <th>Decision</th>\n",
       "      <th>TKO/KO</th>\n",
       "      <th>Submission</th>\n",
       "      <th>Opponent DQ</th>\n",
       "      <th>Total</th>\n",
       "    </tr>\n",
       "    <tr>\n",
       "      <th>WeightClass</th>\n",
       "      <th></th>\n",
       "      <th></th>\n",
       "      <th></th>\n",
       "      <th></th>\n",
       "      <th></th>\n",
       "    </tr>\n",
       "  </thead>\n",
       "  <tbody>\n",
       "    <tr>\n",
       "      <th>Women's Strawweight</th>\n",
       "      <td>44</td>\n",
       "      <td>6</td>\n",
       "      <td>18</td>\n",
       "      <td>0</td>\n",
       "      <td>68</td>\n",
       "    </tr>\n",
       "    <tr>\n",
       "      <th>Women's Bantamweight</th>\n",
       "      <td>40</td>\n",
       "      <td>22</td>\n",
       "      <td>13</td>\n",
       "      <td>0</td>\n",
       "      <td>75</td>\n",
       "    </tr>\n",
       "    <tr>\n",
       "      <th>Flyweight</th>\n",
       "      <td>80</td>\n",
       "      <td>27</td>\n",
       "      <td>22</td>\n",
       "      <td>0</td>\n",
       "      <td>129</td>\n",
       "    </tr>\n",
       "    <tr>\n",
       "      <th>Bantamweight</th>\n",
       "      <td>125</td>\n",
       "      <td>63</td>\n",
       "      <td>65</td>\n",
       "      <td>0</td>\n",
       "      <td>253</td>\n",
       "    </tr>\n",
       "    <tr>\n",
       "      <th>Featherweight</th>\n",
       "      <td>170</td>\n",
       "      <td>81</td>\n",
       "      <td>60</td>\n",
       "      <td>1</td>\n",
       "      <td>312</td>\n",
       "    </tr>\n",
       "    <tr>\n",
       "      <th>Lightweight</th>\n",
       "      <td>372</td>\n",
       "      <td>184</td>\n",
       "      <td>191</td>\n",
       "      <td>1</td>\n",
       "      <td>748</td>\n",
       "    </tr>\n",
       "    <tr>\n",
       "      <th>Welterweight</th>\n",
       "      <td>341</td>\n",
       "      <td>241</td>\n",
       "      <td>144</td>\n",
       "      <td>3</td>\n",
       "      <td>729</td>\n",
       "    </tr>\n",
       "    <tr>\n",
       "      <th>Middleweight</th>\n",
       "      <td>214</td>\n",
       "      <td>202</td>\n",
       "      <td>125</td>\n",
       "      <td>2</td>\n",
       "      <td>543</td>\n",
       "    </tr>\n",
       "    <tr>\n",
       "      <th>Light Heavyweight</th>\n",
       "      <td>140</td>\n",
       "      <td>159</td>\n",
       "      <td>66</td>\n",
       "      <td>2</td>\n",
       "      <td>367</td>\n",
       "    </tr>\n",
       "    <tr>\n",
       "      <th>Heavyweight</th>\n",
       "      <td>83</td>\n",
       "      <td>189</td>\n",
       "      <td>44</td>\n",
       "      <td>0</td>\n",
       "      <td>316</td>\n",
       "    </tr>\n",
       "    <tr>\n",
       "      <th>All</th>\n",
       "      <td>1609</td>\n",
       "      <td>1174</td>\n",
       "      <td>748</td>\n",
       "      <td>9</td>\n",
       "      <td>3540</td>\n",
       "    </tr>\n",
       "  </tbody>\n",
       "</table>\n",
       "</div>"
      ],
      "text/plain": [
       "                      Decision  TKO/KO  Submission  Opponent DQ  Total\n",
       "WeightClass                                                           \n",
       "Women's Strawweight         44       6          18            0     68\n",
       "Women's Bantamweight        40      22          13            0     75\n",
       "Flyweight                   80      27          22            0    129\n",
       "Bantamweight               125      63          65            0    253\n",
       "Featherweight              170      81          60            1    312\n",
       "Lightweight                372     184         191            1    748\n",
       "Welterweight               341     241         144            3    729\n",
       "Middleweight               214     202         125            2    543\n",
       "Light Heavyweight          140     159          66            2    367\n",
       "Heavyweight                 83     189          44            0    316\n",
       "All                       1609    1174         748            9   3540"
      ]
     },
     "execution_count": 17,
     "metadata": {},
     "output_type": "execute_result"
    }
   ],
   "source": [
    "wc = [\"Women's Strawweight\", \"Women's Bantamweight\", 'Flyweight', 'Bantamweight', 'Featherweight',\n",
    "     'Lightweight', 'Welterweight', 'Middleweight', 'Light Heavyweight', 'Heavyweight']\n",
    "\n",
    "af = df[(df.Date > np.datetime64('2005-01-01')) & (df.Outcome == 'def.') & df.WeightClass.isin(wc)].copy()\n",
    "af.Method = af.Method.replace({'M-DEC':'DEC', 'S-DEC':'DEC', 'U-DEC':'DEC'})\n",
    "\n",
    "weight_method = pd.crosstab(index=af[\"Method\"], columns=af[\"WeightClass\"], margins=True)\n",
    "weight_method = weight_method.T.reindex(wc + ['All'])\n",
    "weight_method.columns = [\"Decision\", \"Opponent DQ\", \"TKO/KO\", \"Submission\", \"Total\"]\n",
    "weight_method = weight_method[[\"Decision\", \"TKO/KO\", \"Submission\", \"Opponent DQ\", \"Total\"]]\n",
    "weight_method"
   ]
  },
  {
   "cell_type": "markdown",
   "metadata": {},
   "source": [
    "Let's remove DQ and run a Chi-square test:"
   ]
  },
  {
   "cell_type": "code",
   "execution_count": 18,
   "metadata": {
    "collapsed": false
   },
   "outputs": [
    {
     "data": {
      "text/html": [
       "<div>\n",
       "<table border=\"1\" class=\"dataframe\">\n",
       "  <thead>\n",
       "    <tr style=\"text-align: right;\">\n",
       "      <th></th>\n",
       "      <th>Decision</th>\n",
       "      <th>TKO/KO</th>\n",
       "      <th>Submission</th>\n",
       "    </tr>\n",
       "    <tr>\n",
       "      <th>WeightClass</th>\n",
       "      <th></th>\n",
       "      <th></th>\n",
       "      <th></th>\n",
       "    </tr>\n",
       "  </thead>\n",
       "  <tbody>\n",
       "    <tr>\n",
       "      <th>Women's Strawweight</th>\n",
       "      <td>44</td>\n",
       "      <td>6</td>\n",
       "      <td>18</td>\n",
       "    </tr>\n",
       "    <tr>\n",
       "      <th>Women's Bantamweight</th>\n",
       "      <td>40</td>\n",
       "      <td>22</td>\n",
       "      <td>13</td>\n",
       "    </tr>\n",
       "    <tr>\n",
       "      <th>Flyweight</th>\n",
       "      <td>80</td>\n",
       "      <td>27</td>\n",
       "      <td>22</td>\n",
       "    </tr>\n",
       "    <tr>\n",
       "      <th>Bantamweight</th>\n",
       "      <td>125</td>\n",
       "      <td>63</td>\n",
       "      <td>65</td>\n",
       "    </tr>\n",
       "    <tr>\n",
       "      <th>Featherweight</th>\n",
       "      <td>170</td>\n",
       "      <td>81</td>\n",
       "      <td>60</td>\n",
       "    </tr>\n",
       "    <tr>\n",
       "      <th>Lightweight</th>\n",
       "      <td>372</td>\n",
       "      <td>184</td>\n",
       "      <td>191</td>\n",
       "    </tr>\n",
       "    <tr>\n",
       "      <th>Welterweight</th>\n",
       "      <td>341</td>\n",
       "      <td>241</td>\n",
       "      <td>144</td>\n",
       "    </tr>\n",
       "    <tr>\n",
       "      <th>Middleweight</th>\n",
       "      <td>214</td>\n",
       "      <td>202</td>\n",
       "      <td>125</td>\n",
       "    </tr>\n",
       "    <tr>\n",
       "      <th>Light Heavyweight</th>\n",
       "      <td>140</td>\n",
       "      <td>159</td>\n",
       "      <td>66</td>\n",
       "    </tr>\n",
       "    <tr>\n",
       "      <th>Heavyweight</th>\n",
       "      <td>83</td>\n",
       "      <td>189</td>\n",
       "      <td>44</td>\n",
       "    </tr>\n",
       "  </tbody>\n",
       "</table>\n",
       "</div>"
      ],
      "text/plain": [
       "                      Decision  TKO/KO  Submission\n",
       "WeightClass                                       \n",
       "Women's Strawweight         44       6          18\n",
       "Women's Bantamweight        40      22          13\n",
       "Flyweight                   80      27          22\n",
       "Bantamweight               125      63          65\n",
       "Featherweight              170      81          60\n",
       "Lightweight                372     184         191\n",
       "Welterweight               341     241         144\n",
       "Middleweight               214     202         125\n",
       "Light Heavyweight          140     159          66\n",
       "Heavyweight                 83     189          44"
      ]
     },
     "execution_count": 18,
     "metadata": {},
     "output_type": "execute_result"
    }
   ],
   "source": [
    "tmp_table = weight_method.iloc[0:-1,0:-2]\n",
    "tmp_table"
   ]
  },
  {
   "cell_type": "code",
   "execution_count": 19,
   "metadata": {
    "collapsed": false
   },
   "outputs": [
    {
     "name": "stdout",
     "output_type": "stream",
     "text": [
      "208.124719222 18 2.36315688261e-34 False\n"
     ]
    }
   ],
   "source": [
    "chi_sq, p_value, dof, expect = chi2_contingency(tmp_table)\n",
    "print chi_sq, dof, p_value, p_value > 0.05"
   ]
  },
  {
   "cell_type": "code",
   "execution_count": 20,
   "metadata": {
    "collapsed": false
   },
   "outputs": [
    {
     "data": {
      "text/plain": [
       "0.17167141066647951"
      ]
     },
     "execution_count": 20,
     "metadata": {},
     "output_type": "execute_result"
    }
   ],
   "source": [
    "N = tmp_table.sum().sum()\n",
    "V = (chi_sq / (N * min(tmp_table.shape[0] - 1, tmp_table.shape[1] - 1)))**0.5\n",
    "V"
   ]
  },
  {
   "cell_type": "code",
   "execution_count": 21,
   "metadata": {
    "collapsed": false
   },
   "outputs": [
    {
     "data": {
      "text/html": [
       "<div>\n",
       "<table border=\"1\" class=\"dataframe\">\n",
       "  <thead>\n",
       "    <tr style=\"text-align: right;\">\n",
       "      <th></th>\n",
       "      <th>TKO/KO</th>\n",
       "      <th>Submission</th>\n",
       "      <th>Decision</th>\n",
       "      <th>Opponent DQ</th>\n",
       "    </tr>\n",
       "    <tr>\n",
       "      <th>WeightClass</th>\n",
       "      <th></th>\n",
       "      <th></th>\n",
       "      <th></th>\n",
       "      <th></th>\n",
       "    </tr>\n",
       "  </thead>\n",
       "  <tbody>\n",
       "    <tr>\n",
       "      <th>Women's Strawweight</th>\n",
       "      <td>8.8%</td>\n",
       "      <td>26.5%</td>\n",
       "      <td>64.7%</td>\n",
       "      <td>0.0%</td>\n",
       "    </tr>\n",
       "    <tr>\n",
       "      <th>Women's Bantamweight</th>\n",
       "      <td>29.3%</td>\n",
       "      <td>17.3%</td>\n",
       "      <td>53.3%</td>\n",
       "      <td>0.0%</td>\n",
       "    </tr>\n",
       "    <tr>\n",
       "      <th>Flyweight</th>\n",
       "      <td>20.9%</td>\n",
       "      <td>17.1%</td>\n",
       "      <td>62.0%</td>\n",
       "      <td>0.0%</td>\n",
       "    </tr>\n",
       "    <tr>\n",
       "      <th>Bantamweight</th>\n",
       "      <td>24.9%</td>\n",
       "      <td>25.7%</td>\n",
       "      <td>49.4%</td>\n",
       "      <td>0.0%</td>\n",
       "    </tr>\n",
       "    <tr>\n",
       "      <th>Featherweight</th>\n",
       "      <td>26.0%</td>\n",
       "      <td>19.2%</td>\n",
       "      <td>54.5%</td>\n",
       "      <td>0.3%</td>\n",
       "    </tr>\n",
       "    <tr>\n",
       "      <th>Lightweight</th>\n",
       "      <td>24.6%</td>\n",
       "      <td>25.5%</td>\n",
       "      <td>49.7%</td>\n",
       "      <td>0.1%</td>\n",
       "    </tr>\n",
       "    <tr>\n",
       "      <th>Welterweight</th>\n",
       "      <td>33.1%</td>\n",
       "      <td>19.8%</td>\n",
       "      <td>46.8%</td>\n",
       "      <td>0.4%</td>\n",
       "    </tr>\n",
       "    <tr>\n",
       "      <th>Middleweight</th>\n",
       "      <td>37.2%</td>\n",
       "      <td>23.0%</td>\n",
       "      <td>39.4%</td>\n",
       "      <td>0.4%</td>\n",
       "    </tr>\n",
       "    <tr>\n",
       "      <th>Light Heavyweight</th>\n",
       "      <td>43.3%</td>\n",
       "      <td>18.0%</td>\n",
       "      <td>38.1%</td>\n",
       "      <td>0.5%</td>\n",
       "    </tr>\n",
       "    <tr>\n",
       "      <th>Heavyweight</th>\n",
       "      <td>59.8%</td>\n",
       "      <td>13.9%</td>\n",
       "      <td>26.3%</td>\n",
       "      <td>0.0%</td>\n",
       "    </tr>\n",
       "  </tbody>\n",
       "</table>\n",
       "</div>"
      ],
      "text/plain": [
       "                     TKO/KO Submission Decision Opponent DQ\n",
       "WeightClass                                                \n",
       "Women's Strawweight    8.8%      26.5%    64.7%        0.0%\n",
       "Women's Bantamweight  29.3%      17.3%    53.3%        0.0%\n",
       "Flyweight             20.9%      17.1%    62.0%        0.0%\n",
       "Bantamweight          24.9%      25.7%    49.4%        0.0%\n",
       "Featherweight         26.0%      19.2%    54.5%        0.3%\n",
       "Lightweight           24.6%      25.5%    49.7%        0.1%\n",
       "Welterweight          33.1%      19.8%    46.8%        0.4%\n",
       "Middleweight          37.2%      23.0%    39.4%        0.4%\n",
       "Light Heavyweight     43.3%      18.0%    38.1%        0.5%\n",
       "Heavyweight           59.8%      13.9%    26.3%        0.0%"
      ]
     },
     "execution_count": 21,
     "metadata": {},
     "output_type": "execute_result"
    }
   ],
   "source": [
    "weight_method = weight_method.divide(weight_method.Total, axis=0).applymap(lambda x: round(100 * x, 1))\n",
    "weight_method_str = weight_method.astype(str).applymap(lambda x: x + '%')\n",
    "weight_method_str = weight_method_str[['TKO/KO', 'Submission', 'Decision', 'Opponent DQ', 'Total']]\n",
    "weight_method_str.iloc[0:-1,0:-1].to_latex('report/finishes/finishes_by_weight_class_RAW.tex')\n",
    "weight_method_str.iloc[0:-1,0:-1]"
   ]
  },
  {
   "cell_type": "code",
   "execution_count": 22,
   "metadata": {
    "collapsed": false
   },
   "outputs": [],
   "source": [
    "weight_method = weight_method.drop('All')"
   ]
  },
  {
   "cell_type": "code",
   "execution_count": 23,
   "metadata": {
    "collapsed": false
   },
   "outputs": [
    {
     "data": {
      "image/png": "[encoded data removed]",
      "text/plain": [
       "<matplotlib.figure.Figure at 0x11123b710>"
      ]
     },
     "metadata": {},
     "output_type": "display_data"
    }
   ],
   "source": [
    "fig, ax = plt.subplots(figsize=(7.5, 3.708))\n",
    "plt.bar(range(10), weight_method['TKO/KO'], width=0.5, tick_label=range(10), align='center', label='KO/TKO')\n",
    "plt.bar(range(10), weight_method['Submission'], width=0.5, bottom=weight_method['TKO/KO'], align='center', label='Submission')\n",
    "plt.bar(range(10), weight_method['Decision'], width=0.5, bottom=weight_method['Submission']+weight_method['TKO/KO'], align='center', label='Decision')\n",
    "plt.bar(range(10), weight_method['Opponent DQ'], width=0.5, bottom=weight_method['Submission']+weight_method['TKO/KO']+weight_method['Decision'], align='center', label='Opponent DQ')\n",
    "plt.xlim(-0.5, 9.5)\n",
    "plt.ylim(0, 100)\n",
    "plt.legend(loc=(1.05, 0.55), fontsize=12)\n",
    "plt.xlabel('Weight Class')\n",
    "plt.ylabel('Method of Winning (%)')\n",
    "wlabels = ['W-SW', 'W-BW', 'FYW', 'BW', 'FTW', 'LW', 'WW', 'MW', 'LH', 'HW']\n",
    "ax.set_xticklabels(wlabels)\n",
    "#ax.xaxis.set_ticks_position('none')\n",
    "plt.savefig('report/finishes/finishes_weight_class_bars.pdf', bbox_inches='tight')"
   ]
  },
  {
   "cell_type": "markdown",
   "metadata": {},
   "source": [
    "### What round do heavyweight TKO/KO's happend?"
   ]
  },
  {
   "cell_type": "code",
   "execution_count": 24,
   "metadata": {
    "collapsed": false
   },
   "outputs": [
    {
     "data": {
      "image/png": "[encoded data removed]",
      "text/plain": [
       "<matplotlib.figure.Figure at 0x1066f0910>"
      ]
     },
     "metadata": {},
     "output_type": "display_data"
    }
   ],
   "source": [
    "hf = df[(df.Date > np.datetime64('2005-01-01')) & (df.Method == 'KO/TKO')].copy()\n",
    "for w in wc:\n",
    "     w_class = w.lower().replace('women\\'s', 'w').replace(' ', '_')\n",
    "     exec('tmp = hf[hf.WeightClass ==\"' + w + '\"]')\n",
    "     exec(w_class + '_rnd = tmp.Round.value_counts() / tmp.Round.value_counts().sum()')\n",
    "\n",
    "fac = 5\n",
    "width_ = 0.4\n",
    "fig, (ax1, ax2) = plt.subplots(nrows=2, ncols=1, figsize=(8, 2.5*3.708))\n",
    "ax1.bar(fac * heavyweight_rnd.index,  100*heavyweight_rnd, width=width_, label='Heavyweight')\n",
    "ax1.bar(fac * light_heavyweight_rnd.index+width_, 100*light_heavyweight_rnd, width=width_, label='Light Heavyweight')\n",
    "ax1.bar(fac * middleweight_rnd.index+2*width_, 100*middleweight_rnd, width=width_, label='Middleweight')\n",
    "ax1.bar(fac * welterweight_rnd.index+3*width_,  100*welterweight_rnd, width=width_, label='Welterweight')\n",
    "ax1.bar(fac * lightweight_rnd.index+4*width_,  100*lightweight_rnd, width=width_, label='Lightweight')\n",
    "ax1.bar(fac * featherweight_rnd.index+5*width_,  100*featherweight_rnd, width=width_, label='Featherweight')\n",
    "ax1.bar(fac * bantamweight_rnd.index+6*width_,  100*bantamweight_rnd, width=width_, label='Bantamweight')\n",
    "ax1.bar(fac * flyweight_rnd.index+7*width_,  100*flyweight_rnd, width=width_, label='Flyweight')\n",
    "ax1.bar(fac * w_bantamweight_rnd.index+8*width_,  100*w_bantamweight_rnd, width=width_, label='W-Bantamweight')\n",
    "ax1.bar(fac * w_strawweight_rnd.index+9*width_,  100*w_strawweight_rnd, width=width_, label='W-Strawweight')\n",
    "major_ticks = fac * np.arange(1, 6) + 1.8\n",
    "ax1.set_xticks(major_ticks)\n",
    "ax1.set_xticklabels(range(1,6))\n",
    "ax1.set_xlabel('Round')\n",
    "ax1.set_ylabel(\"Percentage of KO/TKO's\")\n",
    "ax1.set_ylim(0, 70)\n",
    "ax1.legend()\n",
    "\n",
    "hf = df[(df.Date > np.datetime64('2005-01-01')) & (df.Method == 'SUB')].copy()\n",
    "for w in wc:\n",
    "     w_class = w.lower().replace('women\\'s', 'w').replace(' ', '_')\n",
    "     exec('tmp = hf[hf.WeightClass ==\"' + w + '\"]')\n",
    "     exec(w_class + '_rnd = tmp.Round.value_counts() / tmp.Round.value_counts().sum()')\n",
    "\n",
    "ax2.bar(fac * heavyweight_rnd.index,  100*heavyweight_rnd, width=width_, label='Heavyweight')\n",
    "ax2.bar(fac * light_heavyweight_rnd.index+width_, 100*light_heavyweight_rnd, width=width_, label='Light Heavyweight')\n",
    "ax2.bar(fac * middleweight_rnd.index+2*width_, 100*middleweight_rnd, width=width_, label='Middleweight')\n",
    "ax2.bar(fac * welterweight_rnd.index+3*width_,  100*welterweight_rnd, width=width_, label='Welterweight')\n",
    "ax2.bar(fac * lightweight_rnd.index+4*width_,  100*lightweight_rnd, width=width_, label='Lightweight')\n",
    "ax2.bar(fac * featherweight_rnd.index+5*width_,  100*featherweight_rnd, width=width_, label='Featherweight')\n",
    "ax2.bar(fac * bantamweight_rnd.index+6*width_,  100*bantamweight_rnd, width=width_, label='Bantamweight')\n",
    "ax2.bar(fac * flyweight_rnd.index+7*width_,  100*flyweight_rnd, width=width_, label='Flyweight')\n",
    "ax2.bar(fac * w_bantamweight_rnd.index+8*width_,  100*w_bantamweight_rnd, width=width_, label='W-Bantamweight')\n",
    "ax2.bar(fac * w_strawweight_rnd.index+9*width_,  100*w_strawweight_rnd, width=width_, label='W-Strawweight')\n",
    "major_ticks = fac * np.arange(1, 6) + 1.8\n",
    "ax2.set_xticks(major_ticks)\n",
    "ax2.set_xticklabels(range(1,6))\n",
    "ax2.set_xlabel('Round')\n",
    "ax2.set_ylabel(\"Percentage of Submissions\")\n",
    "ax2.set_ylim(0, 70)\n",
    "plt.subplots_adjust(hspace=0.3)\n",
    "plt.savefig('report/finishes/submissions_tko_percentage.pdf', bbox_inches='tight')"
   ]
  },
  {
   "cell_type": "markdown",
   "metadata": {},
   "source": [
    "# Outcomes by year"
   ]
  },
  {
   "cell_type": "code",
   "execution_count": 25,
   "metadata": {
    "collapsed": true
   },
   "outputs": [],
   "source": [
    "ko = fights[fights.Method.str.contains('KO')].Date.dt.year.value_counts()\n",
    "sub = fights[fights.Method.str.contains('SUB')].Date.dt.year.value_counts()\n",
    "dec = fights[fights.Method.str.contains('DEC')].Date.dt.year.value_counts()\n",
    "other = fights[~fights.Method.str.contains('KO|SUB|DEC')].Date.dt.year.value_counts()"
   ]
  },
  {
   "cell_type": "code",
   "execution_count": 26,
   "metadata": {
    "collapsed": false
   },
   "outputs": [
    {
     "data": {
      "text/html": [
       "<div>\n",
       "<table border=\"1\" class=\"dataframe\">\n",
       "  <thead>\n",
       "    <tr style=\"text-align: right;\">\n",
       "      <th></th>\n",
       "      <th>KO/TKO</th>\n",
       "      <th>Submission</th>\n",
       "      <th>Decision</th>\n",
       "      <th>Other</th>\n",
       "      <th>Total</th>\n",
       "    </tr>\n",
       "  </thead>\n",
       "  <tbody>\n",
       "    <tr>\n",
       "      <th>1993</th>\n",
       "      <td>3.0</td>\n",
       "      <td>5.0</td>\n",
       "      <td>0.0</td>\n",
       "      <td>0.0</td>\n",
       "      <td>8.0</td>\n",
       "    </tr>\n",
       "    <tr>\n",
       "      <th>1994</th>\n",
       "      <td>11.0</td>\n",
       "      <td>20.0</td>\n",
       "      <td>0.0</td>\n",
       "      <td>0.0</td>\n",
       "      <td>31.0</td>\n",
       "    </tr>\n",
       "    <tr>\n",
       "      <th>1995</th>\n",
       "      <td>15.0</td>\n",
       "      <td>20.0</td>\n",
       "      <td>3.0</td>\n",
       "      <td>2.0</td>\n",
       "      <td>40.0</td>\n",
       "    </tr>\n",
       "    <tr>\n",
       "      <th>1996</th>\n",
       "      <td>27.0</td>\n",
       "      <td>11.0</td>\n",
       "      <td>5.0</td>\n",
       "      <td>0.0</td>\n",
       "      <td>43.0</td>\n",
       "    </tr>\n",
       "    <tr>\n",
       "      <th>1997</th>\n",
       "      <td>13.0</td>\n",
       "      <td>19.0</td>\n",
       "      <td>8.0</td>\n",
       "      <td>1.0</td>\n",
       "      <td>41.0</td>\n",
       "    </tr>\n",
       "    <tr>\n",
       "      <th>1998</th>\n",
       "      <td>9.0</td>\n",
       "      <td>8.0</td>\n",
       "      <td>8.0</td>\n",
       "      <td>0.0</td>\n",
       "      <td>25.0</td>\n",
       "    </tr>\n",
       "    <tr>\n",
       "      <th>1999</th>\n",
       "      <td>26.0</td>\n",
       "      <td>7.0</td>\n",
       "      <td>11.0</td>\n",
       "      <td>0.0</td>\n",
       "      <td>44.0</td>\n",
       "    </tr>\n",
       "    <tr>\n",
       "      <th>2000</th>\n",
       "      <td>14.0</td>\n",
       "      <td>11.0</td>\n",
       "      <td>17.0</td>\n",
       "      <td>1.0</td>\n",
       "      <td>43.0</td>\n",
       "    </tr>\n",
       "    <tr>\n",
       "      <th>2001</th>\n",
       "      <td>17.0</td>\n",
       "      <td>9.0</td>\n",
       "      <td>12.0</td>\n",
       "      <td>2.0</td>\n",
       "      <td>40.0</td>\n",
       "    </tr>\n",
       "    <tr>\n",
       "      <th>2002</th>\n",
       "      <td>29.0</td>\n",
       "      <td>8.0</td>\n",
       "      <td>15.0</td>\n",
       "      <td>1.0</td>\n",
       "      <td>53.0</td>\n",
       "    </tr>\n",
       "    <tr>\n",
       "      <th>2003</th>\n",
       "      <td>18.0</td>\n",
       "      <td>8.0</td>\n",
       "      <td>14.0</td>\n",
       "      <td>1.0</td>\n",
       "      <td>41.0</td>\n",
       "    </tr>\n",
       "    <tr>\n",
       "      <th>2004</th>\n",
       "      <td>18.0</td>\n",
       "      <td>11.0</td>\n",
       "      <td>10.0</td>\n",
       "      <td>0.0</td>\n",
       "      <td>39.0</td>\n",
       "    </tr>\n",
       "    <tr>\n",
       "      <th>2005</th>\n",
       "      <td>39.0</td>\n",
       "      <td>21.0</td>\n",
       "      <td>19.0</td>\n",
       "      <td>1.0</td>\n",
       "      <td>80.0</td>\n",
       "    </tr>\n",
       "    <tr>\n",
       "      <th>2006</th>\n",
       "      <td>59.0</td>\n",
       "      <td>47.0</td>\n",
       "      <td>52.0</td>\n",
       "      <td>0.0</td>\n",
       "      <td>158.0</td>\n",
       "    </tr>\n",
       "    <tr>\n",
       "      <th>2007</th>\n",
       "      <td>53.0</td>\n",
       "      <td>54.0</td>\n",
       "      <td>62.0</td>\n",
       "      <td>2.0</td>\n",
       "      <td>171.0</td>\n",
       "    </tr>\n",
       "    <tr>\n",
       "      <th>2008</th>\n",
       "      <td>86.0</td>\n",
       "      <td>51.0</td>\n",
       "      <td>64.0</td>\n",
       "      <td>0.0</td>\n",
       "      <td>201.0</td>\n",
       "    </tr>\n",
       "    <tr>\n",
       "      <th>2009</th>\n",
       "      <td>75.0</td>\n",
       "      <td>46.0</td>\n",
       "      <td>92.0</td>\n",
       "      <td>2.0</td>\n",
       "      <td>215.0</td>\n",
       "    </tr>\n",
       "    <tr>\n",
       "      <th>2010</th>\n",
       "      <td>69.0</td>\n",
       "      <td>59.0</td>\n",
       "      <td>124.0</td>\n",
       "      <td>1.0</td>\n",
       "      <td>253.0</td>\n",
       "    </tr>\n",
       "    <tr>\n",
       "      <th>2011</th>\n",
       "      <td>95.0</td>\n",
       "      <td>55.0</td>\n",
       "      <td>147.0</td>\n",
       "      <td>3.0</td>\n",
       "      <td>300.0</td>\n",
       "    </tr>\n",
       "    <tr>\n",
       "      <th>2012</th>\n",
       "      <td>105.0</td>\n",
       "      <td>70.0</td>\n",
       "      <td>158.0</td>\n",
       "      <td>8.0</td>\n",
       "      <td>341.0</td>\n",
       "    </tr>\n",
       "    <tr>\n",
       "      <th>2013</th>\n",
       "      <td>130.0</td>\n",
       "      <td>67.0</td>\n",
       "      <td>179.0</td>\n",
       "      <td>10.0</td>\n",
       "      <td>386.0</td>\n",
       "    </tr>\n",
       "    <tr>\n",
       "      <th>2014</th>\n",
       "      <td>152.0</td>\n",
       "      <td>95.0</td>\n",
       "      <td>247.0</td>\n",
       "      <td>9.0</td>\n",
       "      <td>503.0</td>\n",
       "    </tr>\n",
       "    <tr>\n",
       "      <th>2015</th>\n",
       "      <td>155.0</td>\n",
       "      <td>88.0</td>\n",
       "      <td>221.0</td>\n",
       "      <td>9.0</td>\n",
       "      <td>473.0</td>\n",
       "    </tr>\n",
       "    <tr>\n",
       "      <th>2016</th>\n",
       "      <td>153.0</td>\n",
       "      <td>89.0</td>\n",
       "      <td>248.0</td>\n",
       "      <td>3.0</td>\n",
       "      <td>493.0</td>\n",
       "    </tr>\n",
       "    <tr>\n",
       "      <th>2017</th>\n",
       "      <td>13.0</td>\n",
       "      <td>9.0</td>\n",
       "      <td>24.0</td>\n",
       "      <td>0.0</td>\n",
       "      <td>46.0</td>\n",
       "    </tr>\n",
       "  </tbody>\n",
       "</table>\n",
       "</div>"
      ],
      "text/plain": [
       "      KO/TKO  Submission  Decision  Other  Total\n",
       "1993     3.0         5.0       0.0    0.0    8.0\n",
       "1994    11.0        20.0       0.0    0.0   31.0\n",
       "1995    15.0        20.0       3.0    2.0   40.0\n",
       "1996    27.0        11.0       5.0    0.0   43.0\n",
       "1997    13.0        19.0       8.0    1.0   41.0\n",
       "1998     9.0         8.0       8.0    0.0   25.0\n",
       "1999    26.0         7.0      11.0    0.0   44.0\n",
       "2000    14.0        11.0      17.0    1.0   43.0\n",
       "2001    17.0         9.0      12.0    2.0   40.0\n",
       "2002    29.0         8.0      15.0    1.0   53.0\n",
       "2003    18.0         8.0      14.0    1.0   41.0\n",
       "2004    18.0        11.0      10.0    0.0   39.0\n",
       "2005    39.0        21.0      19.0    1.0   80.0\n",
       "2006    59.0        47.0      52.0    0.0  158.0\n",
       "2007    53.0        54.0      62.0    2.0  171.0\n",
       "2008    86.0        51.0      64.0    0.0  201.0\n",
       "2009    75.0        46.0      92.0    2.0  215.0\n",
       "2010    69.0        59.0     124.0    1.0  253.0\n",
       "2011    95.0        55.0     147.0    3.0  300.0\n",
       "2012   105.0        70.0     158.0    8.0  341.0\n",
       "2013   130.0        67.0     179.0   10.0  386.0\n",
       "2014   152.0        95.0     247.0    9.0  503.0\n",
       "2015   155.0        88.0     221.0    9.0  473.0\n",
       "2016   153.0        89.0     248.0    3.0  493.0\n",
       "2017    13.0         9.0      24.0    0.0   46.0"
      ]
     },
     "execution_count": 26,
     "metadata": {},
     "output_type": "execute_result"
    }
   ],
   "source": [
    "outcome_by_year = pd.DataFrame([ko, sub, dec, other]).T.fillna(0)\n",
    "outcome_by_year.columns = ['KO/TKO', 'Submission', 'Decision', 'Other']\n",
    "outcome_by_year['Total'] = outcome_by_year.sum(axis=1)\n",
    "outcome_by_year"
   ]
  },
  {
   "cell_type": "code",
   "execution_count": 27,
   "metadata": {
    "collapsed": false
   },
   "outputs": [
    {
     "data": {
      "text/plain": [
       "KO/TKO        1384.0\n",
       "Submission     888.0\n",
       "Decision      1740.0\n",
       "Other           56.0\n",
       "Total         4068.0\n",
       "dtype: float64"
      ]
     },
     "execution_count": 27,
     "metadata": {},
     "output_type": "execute_result"
    }
   ],
   "source": [
    "outcome_by_year.sum()"
   ]
  },
  {
   "cell_type": "markdown",
   "metadata": {},
   "source": [
    "Store list of the default colors:"
   ]
  },
  {
   "cell_type": "code",
   "execution_count": 28,
   "metadata": {
    "collapsed": false
   },
   "outputs": [],
   "source": [
    "clrs = plt.rcParams['axes.prop_cycle']\n",
    "clrs = [color.values()[0] for color in list(clrs)]"
   ]
  },
  {
   "cell_type": "code",
   "execution_count": 29,
   "metadata": {
    "collapsed": false
   },
   "outputs": [
    {
     "data": {
      "image/png": "[encoded data removed]",
      "text/plain": [
       "<matplotlib.figure.Figure at 0x11083df10>"
      ]
     },
     "metadata": {},
     "output_type": "display_data"
    }
   ],
   "source": [
    "years = outcome_by_year.index\n",
    "plt.plot(years, 100 * outcome_by_year['KO/TKO'] / outcome_by_year.Total, label='KO/TKO', marker='o', mec=clrs[0],  mfc='w')\n",
    "plt.plot(years, 100 * outcome_by_year['Submission'] / outcome_by_year.Total, label='Submission', marker='o', mec=clrs[1],  mfc='w')\n",
    "plt.plot(years[2:], 100 * outcome_by_year['Decision'][2:] / outcome_by_year.Total[2:], label='Decision', marker='o', mec=clrs[2],  mfc='w')\n",
    "plt.plot(years[2:], 100 * outcome_by_year['Other'][2:] / outcome_by_year.Total[2:], label='Other', marker='o', mec=clrs[3],  mfc='w')\n",
    "plt.xlabel('Year')\n",
    "plt.ylabel('Fight Outcome (%)')\n",
    "plt.legend()\n",
    "plt.ylim(0, 100)\n",
    "plt.savefig('report/finishes/fight_outcome_breakdown.pdf', bbox_inches='tight')"
   ]
  },
  {
   "cell_type": "markdown",
   "metadata": {},
   "source": [
    "### How have fight outcomes within the heavier divisions changed?"
   ]
  },
  {
   "cell_type": "code",
   "execution_count": 33,
   "metadata": {
    "collapsed": false
   },
   "outputs": [],
   "source": [
    "myclass = 'Heavyweight'\n",
    "hw_ko = fights[fights.Method.str.contains('KO') & (fights.WeightClass == myclass)].Date.dt.year.value_counts()\n",
    "hw_sub = fights[fights.Method.str.contains('SUB') & (fights.WeightClass == myclass)].Date.dt.year.value_counts()\n",
    "hw_dec = fights[fights.Method.str.contains('DEC') & (fights.WeightClass == myclass)].Date.dt.year.value_counts()\n",
    "hw_other = fights[~fights.Method.str.contains('KO|SUB|DEC') & (fights.WeightClass == myclass)].Date.dt.year.value_counts()"
   ]
  },
  {
   "cell_type": "code",
   "execution_count": 34,
   "metadata": {
    "collapsed": false
   },
   "outputs": [],
   "source": [
    "hw_outcome_by_year = pd.DataFrame([hw_ko, hw_sub, hw_dec, hw_other]).T.fillna(0)\n",
    "hw_outcome_by_year.columns = ['KO/TKO', 'Submission', 'Decision', 'Other']\n",
    "hw_outcome_by_year['Total'] = hw_outcome_by_year.sum(axis=1)\n",
    "hw_outcome_by_year = hw_outcome_by_year.iloc[:-1]"
   ]
  },
  {
   "cell_type": "code",
   "execution_count": 35,
   "metadata": {
    "collapsed": false
   },
   "outputs": [
    {
     "data": {
      "image/png": "[encoded data removed]",
      "text/plain": [
       "<matplotlib.figure.Figure at 0x114e30890>"
      ]
     },
     "metadata": {},
     "output_type": "display_data"
    }
   ],
   "source": [
    "years = hw_outcome_by_year.index\n",
    "plt.plot(years, 100 * hw_outcome_by_year['KO/TKO'] / hw_outcome_by_year.Total, label='KO/TKO', color='b', marker='o', mec='b',  mfc='w')\n",
    "plt.plot(years, 100 * hw_outcome_by_year['Submission'] / hw_outcome_by_year.Total, label='SUB', color='r', marker='o', mec='r',  mfc='w')\n",
    "plt.plot(years, 100 * hw_outcome_by_year['Decision'] / hw_outcome_by_year.Total, label='DEC', color='g', marker='o', mec='g',  mfc='w')\n",
    "plt.plot(years, 100 * hw_outcome_by_year['Other'] / hw_outcome_by_year.Total, label='Other', color='k', marker='o', mec='k',  mfc='w')\n",
    "plt.xlabel('Year')\n",
    "plt.ylabel('Fight Outcome')\n",
    "plt.legend()\n",
    "plt.xlim(1996, 2020)\n",
    "plt.ylim(0, 100)\n",
    "plt.savefig('report/finishes/fight_outcome_breakdown_hw.pdf', bbox_inches='tight')"
   ]
  },
  {
   "cell_type": "code",
   "execution_count": null,
   "metadata": {
    "collapsed": true
   },
   "outputs": [],
   "source": []
  }
 ],
 "metadata": {
  "anaconda-cloud": {},
  "kernelspec": {
   "display_name": "Python [conda root]",
   "language": "python",
   "name": "conda-root-py"
  },
  "language_info": {
   "codemirror_mode": {
    "name": "ipython",
    "version": 2
   },
   "file_extension": ".py",
   "mimetype": "text/x-python",
   "name": "python",
   "nbconvert_exporter": "python",
   "pygments_lexer": "ipython2",
   "version": "2.7.12"
  }
 },
 "nbformat": 4,
 "nbformat_minor": 1
}
