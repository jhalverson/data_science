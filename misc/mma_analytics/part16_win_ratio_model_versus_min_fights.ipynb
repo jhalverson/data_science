{
 "cells": [
  {
   "cell_type": "markdown",
   "metadata": {},
   "source": [
    "# Jonathan Halverson\n",
    "# Monday, April 17, 2017\n",
    "# Part 16: More on win ratios"
   ]
  },
  {
   "cell_type": "code",
   "execution_count": 1,
   "metadata": {
    "collapsed": true
   },
   "outputs": [],
   "source": [
    "import numpy as np\n",
    "import pandas as pd\n",
    "import matplotlib.pyplot as plt\n",
    "%matplotlib inline\n",
    "plt.style.use('halverson')\n",
    "\n",
    "pd.set_option('display.width', 1000)\n",
    "pd.set_option('display.max_columns', 100)"
   ]
  },
  {
   "cell_type": "code",
   "execution_count": 2,
   "metadata": {
    "collapsed": false
   },
   "outputs": [
    {
     "data": {
      "text/html": [
       "<div>\n",
       "<table border=\"1\" class=\"dataframe\">\n",
       "  <thead>\n",
       "    <tr style=\"text-align: right;\">\n",
       "      <th></th>\n",
       "      <th>Winner</th>\n",
       "      <th>Outcome</th>\n",
       "      <th>Loser</th>\n",
       "      <th>WeightClass</th>\n",
       "      <th>Method</th>\n",
       "      <th>MethodNotes</th>\n",
       "      <th>Round</th>\n",
       "      <th>Time</th>\n",
       "      <th>Event</th>\n",
       "      <th>Date</th>\n",
       "      <th>Location</th>\n",
       "    </tr>\n",
       "  </thead>\n",
       "  <tbody>\n",
       "    <tr>\n",
       "      <th>0</th>\n",
       "      <td>Germaine de Randamie</td>\n",
       "      <td>def.</td>\n",
       "      <td>Holly Holm</td>\n",
       "      <td>Women's Featherweight</td>\n",
       "      <td>U-DEC</td>\n",
       "      <td>NaN</td>\n",
       "      <td>5</td>\n",
       "      <td>5:00</td>\n",
       "      <td>UFC 208: Holm vs. De Randamie</td>\n",
       "      <td>2017-02-11</td>\n",
       "      <td>New York, New York, USA</td>\n",
       "    </tr>\n",
       "    <tr>\n",
       "      <th>1</th>\n",
       "      <td>Anderson Silva</td>\n",
       "      <td>def.</td>\n",
       "      <td>Derek Brunson</td>\n",
       "      <td>Middleweight</td>\n",
       "      <td>U-DEC</td>\n",
       "      <td>NaN</td>\n",
       "      <td>3</td>\n",
       "      <td>5:00</td>\n",
       "      <td>UFC 208: Holm vs. De Randamie</td>\n",
       "      <td>2017-02-11</td>\n",
       "      <td>New York, New York, USA</td>\n",
       "    </tr>\n",
       "    <tr>\n",
       "      <th>2</th>\n",
       "      <td>Jacare Souza</td>\n",
       "      <td>def.</td>\n",
       "      <td>Tim Boetsch</td>\n",
       "      <td>Middleweight</td>\n",
       "      <td>SUB</td>\n",
       "      <td>Kimura</td>\n",
       "      <td>1</td>\n",
       "      <td>3:41</td>\n",
       "      <td>UFC 208: Holm vs. De Randamie</td>\n",
       "      <td>2017-02-11</td>\n",
       "      <td>New York, New York, USA</td>\n",
       "    </tr>\n",
       "  </tbody>\n",
       "</table>\n",
       "</div>"
      ],
      "text/plain": [
       "                 Winner Outcome          Loser            WeightClass Method MethodNotes  Round  Time                          Event       Date                 Location\n",
       "0  Germaine de Randamie    def.     Holly Holm  Women's Featherweight  U-DEC         NaN      5  5:00  UFC 208: Holm vs. De Randamie 2017-02-11  New York, New York, USA\n",
       "1        Anderson Silva    def.  Derek Brunson           Middleweight  U-DEC         NaN      3  5:00  UFC 208: Holm vs. De Randamie 2017-02-11  New York, New York, USA\n",
       "2          Jacare Souza    def.    Tim Boetsch           Middleweight    SUB      Kimura      1  3:41  UFC 208: Holm vs. De Randamie 2017-02-11  New York, New York, USA"
      ]
     },
     "execution_count": 2,
     "metadata": {},
     "output_type": "execute_result"
    }
   ],
   "source": [
    "iofile = 'data/fightmetric_cards/fightmetric_fights_CLEAN_3-6-2017.csv'\n",
    "fights = pd.read_csv(iofile, header=0, parse_dates=['Date'])\n",
    "fights.head(3)"
   ]
  },
  {
   "cell_type": "code",
   "execution_count": 3,
   "metadata": {
    "collapsed": false
   },
   "outputs": [
    {
     "data": {
      "text/html": [
       "<div>\n",
       "<table border=\"1\" class=\"dataframe\">\n",
       "  <thead>\n",
       "    <tr style=\"text-align: right;\">\n",
       "      <th></th>\n",
       "      <th>Winner</th>\n",
       "      <th>Outcome</th>\n",
       "      <th>Loser</th>\n",
       "      <th>WeightClass</th>\n",
       "      <th>Method</th>\n",
       "      <th>MethodNotes</th>\n",
       "      <th>Round</th>\n",
       "      <th>Time</th>\n",
       "      <th>Event</th>\n",
       "      <th>Date</th>\n",
       "      <th>Location</th>\n",
       "      <th>Dob</th>\n",
       "      <th>Stance</th>\n",
       "      <th>Reach</th>\n",
       "      <th>Dob_L</th>\n",
       "      <th>Stance_L</th>\n",
       "      <th>Reach_L</th>\n",
       "    </tr>\n",
       "  </thead>\n",
       "  <tbody>\n",
       "    <tr>\n",
       "      <th>0</th>\n",
       "      <td>Germaine de Randamie</td>\n",
       "      <td>def.</td>\n",
       "      <td>Holly Holm</td>\n",
       "      <td>Women's Featherweight</td>\n",
       "      <td>U-DEC</td>\n",
       "      <td>NaN</td>\n",
       "      <td>5</td>\n",
       "      <td>5:00</td>\n",
       "      <td>UFC 208: Holm vs. De Randamie</td>\n",
       "      <td>2017-02-11</td>\n",
       "      <td>New York, New York, USA</td>\n",
       "      <td>1984-04-24</td>\n",
       "      <td>Orthodox</td>\n",
       "      <td>71.0</td>\n",
       "      <td>1981-10-17</td>\n",
       "      <td>Southpaw</td>\n",
       "      <td>69.0</td>\n",
       "    </tr>\n",
       "    <tr>\n",
       "      <th>1</th>\n",
       "      <td>Anderson Silva</td>\n",
       "      <td>def.</td>\n",
       "      <td>Derek Brunson</td>\n",
       "      <td>Middleweight</td>\n",
       "      <td>U-DEC</td>\n",
       "      <td>NaN</td>\n",
       "      <td>3</td>\n",
       "      <td>5:00</td>\n",
       "      <td>UFC 208: Holm vs. De Randamie</td>\n",
       "      <td>2017-02-11</td>\n",
       "      <td>New York, New York, USA</td>\n",
       "      <td>1975-04-14</td>\n",
       "      <td>Southpaw</td>\n",
       "      <td>77.0</td>\n",
       "      <td>1984-01-04</td>\n",
       "      <td>Southpaw</td>\n",
       "      <td>77.0</td>\n",
       "    </tr>\n",
       "    <tr>\n",
       "      <th>2</th>\n",
       "      <td>Jacare Souza</td>\n",
       "      <td>def.</td>\n",
       "      <td>Tim Boetsch</td>\n",
       "      <td>Middleweight</td>\n",
       "      <td>SUB</td>\n",
       "      <td>Kimura</td>\n",
       "      <td>1</td>\n",
       "      <td>3:41</td>\n",
       "      <td>UFC 208: Holm vs. De Randamie</td>\n",
       "      <td>2017-02-11</td>\n",
       "      <td>New York, New York, USA</td>\n",
       "      <td>1979-12-07</td>\n",
       "      <td>Orthodox</td>\n",
       "      <td>72.0</td>\n",
       "      <td>1981-01-28</td>\n",
       "      <td>Orthodox</td>\n",
       "      <td>74.0</td>\n",
       "    </tr>\n",
       "  </tbody>\n",
       "</table>\n",
       "</div>"
      ],
      "text/plain": [
       "                 Winner Outcome          Loser            WeightClass Method MethodNotes  Round  Time                          Event       Date                 Location        Dob    Stance  Reach      Dob_L  Stance_L  Reach_L\n",
       "0  Germaine de Randamie    def.     Holly Holm  Women's Featherweight  U-DEC         NaN      5  5:00  UFC 208: Holm vs. De Randamie 2017-02-11  New York, New York, USA 1984-04-24  Orthodox   71.0 1981-10-17  Southpaw     69.0\n",
       "1        Anderson Silva    def.  Derek Brunson           Middleweight  U-DEC         NaN      3  5:00  UFC 208: Holm vs. De Randamie 2017-02-11  New York, New York, USA 1975-04-14  Southpaw   77.0 1984-01-04  Southpaw     77.0\n",
       "2          Jacare Souza    def.    Tim Boetsch           Middleweight    SUB      Kimura      1  3:41  UFC 208: Holm vs. De Randamie 2017-02-11  New York, New York, USA 1979-12-07  Orthodox   72.0 1981-01-28  Orthodox     74.0"
      ]
     },
     "execution_count": 3,
     "metadata": {},
     "output_type": "execute_result"
    }
   ],
   "source": [
    "iofile = 'data/fightmetric_fighters_with_corrections_from_UFC_Wikipedia_CLEAN.csv'\n",
    "fighters = pd.read_csv(iofile, header=0, parse_dates=['Dob'])\n",
    "cols = ['Name', 'Dob', 'Stance', 'Reach']\n",
    "fights = fights.merge(fighters[cols], how='left', left_on='Winner', right_on='Name')\n",
    "fights = fights.merge(fighters[cols], how='left', left_on='Loser', right_on='Name', suffixes=('', '_L'))\n",
    "fights = fights.drop(['Name', 'Name_L'], axis=1)\n",
    "fights.head(3)"
   ]
  },
  {
   "cell_type": "markdown",
   "metadata": {},
   "source": [
    "### Remove no contests but leave in draws"
   ]
  },
  {
   "cell_type": "code",
   "execution_count": 4,
   "metadata": {
    "collapsed": true
   },
   "outputs": [],
   "source": [
    "f = fights[fights.Outcome != 'no contest'].copy()"
   ]
  },
  {
   "cell_type": "code",
   "execution_count": 5,
   "metadata": {
    "collapsed": false
   },
   "outputs": [],
   "source": [
    "# below we use the index to find previous fights since in early days they fought\n",
    "# multiple times per day so date cannot be used\n",
    "\n",
    "NumPreviousFights = []\n",
    "NumPreviousFights_L = []\n",
    "NumPreviousWins = []\n",
    "NumPreviousWins_L = []\n",
    "for index, row in f.iterrows():\n",
    "     winner = row['Winner']\n",
    "     a = f[((f.Winner == winner) | (f.Loser == winner)) & (f.index > index)]\n",
    "     NumPreviousFights.append(a.shape[0])\n",
    "     NumPreviousWins.append(a[a.Winner == winner].shape[0])\n",
    "     \n",
    "     loser = row['Loser']\n",
    "     b = f[((f.Winner == loser) | (f.Loser == loser)) & (f.index > index)]\n",
    "     NumPreviousFights_L.append(b.shape[0])\n",
    "     NumPreviousWins_L.append(b[b.Winner == loser].shape[0])\n",
    "\n",
    "f['NumPreviousFights'] = NumPreviousFights\n",
    "f['NumPreviousFights_L'] = NumPreviousFights_L\n",
    "f['NumPreviousWins'] = NumPreviousWins\n",
    "f['NumPreviousWins_L'] = NumPreviousWins_L"
   ]
  },
  {
   "cell_type": "markdown",
   "metadata": {},
   "source": [
    "### Now remove draws and older fights"
   ]
  },
  {
   "cell_type": "code",
   "execution_count": 6,
   "metadata": {
    "collapsed": true
   },
   "outputs": [],
   "source": [
    "f = f[(f.Date > pd.to_datetime('2005-01-01')) & (f.Outcome == 'def.')]"
   ]
  },
  {
   "cell_type": "code",
   "execution_count": 7,
   "metadata": {
    "collapsed": false
   },
   "outputs": [],
   "source": [
    "f['WinRatio'] = f.NumPreviousWins / f.NumPreviousFights\n",
    "f['WinRatio_L'] = f.NumPreviousWins_L / f.NumPreviousFights_L"
   ]
  },
  {
   "cell_type": "code",
   "execution_count": 8,
   "metadata": {
    "collapsed": true
   },
   "outputs": [],
   "source": [
    "def WinRatio_Age_Reach(x):\n",
    "     from random import random as rng\n",
    "     \n",
    "     if x.WinRatio > x.WinRatio_L: return True\n",
    "     if (x.WinRatio == x.WinRatio_L) and (x.Dob > x.Dob_L):\n",
    "          return True\n",
    "     else:\n",
    "          return False\n",
    "     if (x.WinRatio == x.WinRatio_L) and (x.Dob == x.Dob_L) and (x.Reach > x.Reach_L):\n",
    "          return True\n",
    "     else:\n",
    "          return False\n",
    "     # if total equality then return guess of True\n",
    "     if (x.WinRatio == x.WinRatio_L) and (x.Dob == x.Dob_L) and (x.Reach == x.Reach_L):\n",
    "          return True if rng() >= 0.5 else False"
   ]
  },
  {
   "cell_type": "code",
   "execution_count": 9,
   "metadata": {
    "collapsed": false
   },
   "outputs": [
    {
     "data": {
      "text/html": [
       "<div>\n",
       "<table border=\"1\" class=\"dataframe\">\n",
       "  <thead>\n",
       "    <tr style=\"text-align: right;\">\n",
       "      <th></th>\n",
       "      <th>Winner</th>\n",
       "      <th>Outcome</th>\n",
       "      <th>Loser</th>\n",
       "      <th>WeightClass</th>\n",
       "      <th>Method</th>\n",
       "      <th>MethodNotes</th>\n",
       "      <th>Round</th>\n",
       "      <th>Time</th>\n",
       "      <th>Event</th>\n",
       "      <th>Date</th>\n",
       "      <th>Location</th>\n",
       "      <th>Dob</th>\n",
       "      <th>Stance</th>\n",
       "      <th>Reach</th>\n",
       "      <th>Dob_L</th>\n",
       "      <th>Stance_L</th>\n",
       "      <th>Reach_L</th>\n",
       "      <th>NumPreviousFights</th>\n",
       "      <th>NumPreviousFights_L</th>\n",
       "      <th>NumPreviousWins</th>\n",
       "      <th>NumPreviousWins_L</th>\n",
       "      <th>WinRatio</th>\n",
       "      <th>WinRatio_L</th>\n",
       "    </tr>\n",
       "  </thead>\n",
       "  <tbody>\n",
       "    <tr>\n",
       "      <th>0</th>\n",
       "      <td>Germaine de Randamie</td>\n",
       "      <td>def.</td>\n",
       "      <td>Holly Holm</td>\n",
       "      <td>Women's Featherweight</td>\n",
       "      <td>U-DEC</td>\n",
       "      <td>NaN</td>\n",
       "      <td>5</td>\n",
       "      <td>5:00</td>\n",
       "      <td>UFC 208: Holm vs. De Randamie</td>\n",
       "      <td>2017-02-11</td>\n",
       "      <td>New York, New York, USA</td>\n",
       "      <td>1984-04-24</td>\n",
       "      <td>Orthodox</td>\n",
       "      <td>71.0</td>\n",
       "      <td>1981-10-17</td>\n",
       "      <td>Southpaw</td>\n",
       "      <td>69.0</td>\n",
       "      <td>4</td>\n",
       "      <td>5</td>\n",
       "      <td>3</td>\n",
       "      <td>3</td>\n",
       "      <td>0.750000</td>\n",
       "      <td>0.600000</td>\n",
       "    </tr>\n",
       "    <tr>\n",
       "      <th>1</th>\n",
       "      <td>Anderson Silva</td>\n",
       "      <td>def.</td>\n",
       "      <td>Derek Brunson</td>\n",
       "      <td>Middleweight</td>\n",
       "      <td>U-DEC</td>\n",
       "      <td>NaN</td>\n",
       "      <td>3</td>\n",
       "      <td>5:00</td>\n",
       "      <td>UFC 208: Holm vs. De Randamie</td>\n",
       "      <td>2017-02-11</td>\n",
       "      <td>New York, New York, USA</td>\n",
       "      <td>1975-04-14</td>\n",
       "      <td>Southpaw</td>\n",
       "      <td>77.0</td>\n",
       "      <td>1984-01-04</td>\n",
       "      <td>Southpaw</td>\n",
       "      <td>77.0</td>\n",
       "      <td>20</td>\n",
       "      <td>9</td>\n",
       "      <td>16</td>\n",
       "      <td>7</td>\n",
       "      <td>0.800000</td>\n",
       "      <td>0.777778</td>\n",
       "    </tr>\n",
       "    <tr>\n",
       "      <th>2</th>\n",
       "      <td>Jacare Souza</td>\n",
       "      <td>def.</td>\n",
       "      <td>Tim Boetsch</td>\n",
       "      <td>Middleweight</td>\n",
       "      <td>SUB</td>\n",
       "      <td>Kimura</td>\n",
       "      <td>1</td>\n",
       "      <td>3:41</td>\n",
       "      <td>UFC 208: Holm vs. De Randamie</td>\n",
       "      <td>2017-02-11</td>\n",
       "      <td>New York, New York, USA</td>\n",
       "      <td>1979-12-07</td>\n",
       "      <td>Orthodox</td>\n",
       "      <td>72.0</td>\n",
       "      <td>1981-01-28</td>\n",
       "      <td>Orthodox</td>\n",
       "      <td>74.0</td>\n",
       "      <td>7</td>\n",
       "      <td>20</td>\n",
       "      <td>6</td>\n",
       "      <td>11</td>\n",
       "      <td>0.857143</td>\n",
       "      <td>0.550000</td>\n",
       "    </tr>\n",
       "    <tr>\n",
       "      <th>3</th>\n",
       "      <td>Glover Teixeira</td>\n",
       "      <td>def.</td>\n",
       "      <td>Jared Cannonier</td>\n",
       "      <td>Light Heavyweight</td>\n",
       "      <td>U-DEC</td>\n",
       "      <td>NaN</td>\n",
       "      <td>3</td>\n",
       "      <td>5:00</td>\n",
       "      <td>UFC 208: Holm vs. De Randamie</td>\n",
       "      <td>2017-02-11</td>\n",
       "      <td>New York, New York, USA</td>\n",
       "      <td>1979-10-28</td>\n",
       "      <td>Orthodox</td>\n",
       "      <td>76.0</td>\n",
       "      <td>1984-03-16</td>\n",
       "      <td>Switch</td>\n",
       "      <td>77.0</td>\n",
       "      <td>11</td>\n",
       "      <td>3</td>\n",
       "      <td>8</td>\n",
       "      <td>2</td>\n",
       "      <td>0.727273</td>\n",
       "      <td>0.666667</td>\n",
       "    </tr>\n",
       "    <tr>\n",
       "      <th>4</th>\n",
       "      <td>Dustin Poirier</td>\n",
       "      <td>def.</td>\n",
       "      <td>Jim Miller</td>\n",
       "      <td>Lightweight</td>\n",
       "      <td>M-DEC</td>\n",
       "      <td>NaN</td>\n",
       "      <td>3</td>\n",
       "      <td>5:00</td>\n",
       "      <td>UFC 208: Holm vs. De Randamie</td>\n",
       "      <td>2017-02-11</td>\n",
       "      <td>New York, New York, USA</td>\n",
       "      <td>1989-01-19</td>\n",
       "      <td>Southpaw</td>\n",
       "      <td>72.0</td>\n",
       "      <td>1983-08-30</td>\n",
       "      <td>Southpaw</td>\n",
       "      <td>71.0</td>\n",
       "      <td>16</td>\n",
       "      <td>24</td>\n",
       "      <td>12</td>\n",
       "      <td>17</td>\n",
       "      <td>0.750000</td>\n",
       "      <td>0.708333</td>\n",
       "    </tr>\n",
       "  </tbody>\n",
       "</table>\n",
       "</div>"
      ],
      "text/plain": [
       "                 Winner Outcome            Loser            WeightClass Method MethodNotes  Round  Time                          Event       Date                 Location        Dob    Stance  Reach      Dob_L  Stance_L  Reach_L  NumPreviousFights  NumPreviousFights_L  NumPreviousWins  NumPreviousWins_L  WinRatio  WinRatio_L\n",
       "0  Germaine de Randamie    def.       Holly Holm  Women's Featherweight  U-DEC         NaN      5  5:00  UFC 208: Holm vs. De Randamie 2017-02-11  New York, New York, USA 1984-04-24  Orthodox   71.0 1981-10-17  Southpaw     69.0                  4                    5                3                  3  0.750000    0.600000\n",
       "1        Anderson Silva    def.    Derek Brunson           Middleweight  U-DEC         NaN      3  5:00  UFC 208: Holm vs. De Randamie 2017-02-11  New York, New York, USA 1975-04-14  Southpaw   77.0 1984-01-04  Southpaw     77.0                 20                    9               16                  7  0.800000    0.777778\n",
       "2          Jacare Souza    def.      Tim Boetsch           Middleweight    SUB      Kimura      1  3:41  UFC 208: Holm vs. De Randamie 2017-02-11  New York, New York, USA 1979-12-07  Orthodox   72.0 1981-01-28  Orthodox     74.0                  7                   20                6                 11  0.857143    0.550000\n",
       "3       Glover Teixeira    def.  Jared Cannonier      Light Heavyweight  U-DEC         NaN      3  5:00  UFC 208: Holm vs. De Randamie 2017-02-11  New York, New York, USA 1979-10-28  Orthodox   76.0 1984-03-16    Switch     77.0                 11                    3                8                  2  0.727273    0.666667\n",
       "4        Dustin Poirier    def.       Jim Miller            Lightweight  M-DEC         NaN      3  5:00  UFC 208: Holm vs. De Randamie 2017-02-11  New York, New York, USA 1989-01-19  Southpaw   72.0 1983-08-30  Southpaw     71.0                 16                   24               12                 17  0.750000    0.708333"
      ]
     },
     "execution_count": 9,
     "metadata": {},
     "output_type": "execute_result"
    }
   ],
   "source": [
    "f.head()"
   ]
  },
  {
   "cell_type": "code",
   "execution_count": 10,
   "metadata": {
    "collapsed": false
   },
   "outputs": [
    {
     "data": {
      "text/plain": [
       "(3561, 23)"
      ]
     },
     "execution_count": 10,
     "metadata": {},
     "output_type": "execute_result"
    }
   ],
   "source": [
    "f.shape"
   ]
  },
  {
   "cell_type": "markdown",
   "metadata": {},
   "source": [
    "### How many NaN are there?"
   ]
  },
  {
   "cell_type": "code",
   "execution_count": 11,
   "metadata": {
    "collapsed": false
   },
   "outputs": [
    {
     "data": {
      "text/plain": [
       "1301"
      ]
     },
     "execution_count": 11,
     "metadata": {},
     "output_type": "execute_result"
    }
   ],
   "source": [
    "all_nans = pd.isnull(f.WinRatio).sum() + pd.isnull(f.WinRatio_L).sum()\n",
    "all_nans"
   ]
  },
  {
   "cell_type": "code",
   "execution_count": 12,
   "metadata": {
    "collapsed": false
   },
   "outputs": [
    {
     "data": {
      "text/plain": [
       "0.18267340634653187"
      ]
     },
     "execution_count": 12,
     "metadata": {},
     "output_type": "execute_result"
    }
   ],
   "source": [
    "all_nans / (2.0 * f.shape[0])"
   ]
  },
  {
   "cell_type": "markdown",
   "metadata": {},
   "source": [
    "So 18.3% of all the win ratios (of winner and loser) need to be replaced."
   ]
  },
  {
   "cell_type": "markdown",
   "metadata": {},
   "source": [
    "### Greater number of UFC fights wins"
   ]
  },
  {
   "cell_type": "code",
   "execution_count": 13,
   "metadata": {
    "collapsed": false
   },
   "outputs": [
    {
     "data": {
      "text/plain": [
       "(0.5564795564795565, 2886)"
      ]
     },
     "execution_count": 13,
     "metadata": {},
     "output_type": "execute_result"
    }
   ],
   "source": [
    "wins = f[f.NumPreviousFights > f.NumPreviousFights_L].shape[0]\n",
    "total = f[f.NumPreviousFights != f.NumPreviousFights_L].shape[0]\n",
    "wins / float(total), total"
   ]
  },
  {
   "cell_type": "markdown",
   "metadata": {},
   "source": [
    "### How many fights where both fighters are debutting?"
   ]
  },
  {
   "cell_type": "code",
   "execution_count": 14,
   "metadata": {
    "collapsed": false
   },
   "outputs": [
    {
     "data": {
      "text/plain": [
       "(299, 8.396517832069643)"
      ]
     },
     "execution_count": 14,
     "metadata": {},
     "output_type": "execute_result"
    }
   ],
   "source": [
    "cond = f[(f.NumPreviousFights == 0) & (f.NumPreviousFights_L == 0)].shape[0]\n",
    "cond, 100 * cond / float(f.shape[0])"
   ]
  },
  {
   "cell_type": "markdown",
   "metadata": {},
   "source": [
    "### How many fights where at least one fighter is debutting?"
   ]
  },
  {
   "cell_type": "code",
   "execution_count": 15,
   "metadata": {
    "collapsed": false
   },
   "outputs": [
    {
     "data": {
      "text/plain": [
       "(1002, 28.13816343723673)"
      ]
     },
     "execution_count": 15,
     "metadata": {},
     "output_type": "execute_result"
    }
   ],
   "source": [
    "cond = f[(f.NumPreviousFights == 0) | (f.NumPreviousFights_L == 0)].shape[0]\n",
    "cond, 100 * cond / float(f.shape[0])"
   ]
  },
  {
   "cell_type": "markdown",
   "metadata": {},
   "source": [
    "### How many fights where only one fighter is debutting?"
   ]
  },
  {
   "cell_type": "code",
   "execution_count": 16,
   "metadata": {
    "collapsed": false
   },
   "outputs": [
    {
     "data": {
      "text/plain": [
       "(703, 19.741645605167086)"
      ]
     },
     "execution_count": 16,
     "metadata": {},
     "output_type": "execute_result"
    }
   ],
   "source": [
    "msk1 = ((f.NumPreviousFights == 0) & (f.NumPreviousFights_L != 0))\n",
    "msk2 = ((f.NumPreviousFights != 0) & (f.NumPreviousFights_L == 0))\n",
    "cond = f[msk1 | msk2].shape[0]\n",
    "cond, 100 * cond / float(f.shape[0])"
   ]
  },
  {
   "cell_type": "markdown",
   "metadata": {},
   "source": [
    "### Greater win ratio wins"
   ]
  },
  {
   "cell_type": "code",
   "execution_count": 17,
   "metadata": {
    "collapsed": false
   },
   "outputs": [
    {
     "data": {
      "text/plain": [
       "(0.57182966775854, 1222, 2137)"
      ]
     },
     "execution_count": 17,
     "metadata": {},
     "output_type": "execute_result"
    }
   ],
   "source": [
    "tmp = f[pd.notnull(f.WinRatio) & pd.notnull(f.WinRatio_L) & (f.WinRatio != f.WinRatio_L)]\n",
    "wins = tmp[tmp.WinRatio > tmp.WinRatio_L].shape[0]\n",
    "total = tmp.shape[0]\n",
    "wins / float(total), wins, total"
   ]
  },
  {
   "cell_type": "code",
   "execution_count": 18,
   "metadata": {
    "collapsed": false
   },
   "outputs": [
    {
     "data": {
      "text/plain": [
       "(0.5956580732700135, 439, 737)"
      ]
     },
     "execution_count": 18,
     "metadata": {},
     "output_type": "execute_result"
    }
   ],
   "source": [
    "tmp = f[pd.notnull(f.WinRatio) & pd.notnull(f.WinRatio_L) & (f.WinRatio != f.WinRatio_L) & (f.NumPreviousFights >= 5) & (f.NumPreviousFights_L >= 5)]\n",
    "wins = tmp[tmp.WinRatio > tmp.WinRatio_L].shape[0]\n",
    "total = tmp.shape[0]\n",
    "wins / float(total), wins, total"
   ]
  },
  {
   "cell_type": "markdown",
   "metadata": {},
   "source": [
    "### Apply boolean model defined above"
   ]
  },
  {
   "cell_type": "code",
   "execution_count": 19,
   "metadata": {
    "collapsed": false
   },
   "outputs": [
    {
     "data": {
      "text/plain": [
       "(0.56897225478702618, 1456, 2559)"
      ]
     },
     "execution_count": 19,
     "metadata": {},
     "output_type": "execute_result"
    }
   ],
   "source": [
    "tmp = f[pd.notnull(f.WinRatio) & pd.notnull(f.WinRatio_L)].apply(WinRatio_Age_Reach, axis=1)\n",
    "wins = tmp.sum()\n",
    "total = tmp.shape[0]\n",
    "wins / float(total), wins, total"
   ]
  },
  {
   "cell_type": "code",
   "execution_count": 20,
   "metadata": {
    "collapsed": true
   },
   "outputs": [],
   "source": [
    "f['WinRatio'] = f.NumPreviousWins / f.NumPreviousFights\n",
    "f['WinRatio_L'] = f.NumPreviousWins_L / f.NumPreviousFights_L\n",
    "f.WinRatio = f.WinRatio.fillna(0.0)\n",
    "f.WinRatio_L = f.WinRatio_L.fillna(0.0)\n",
    "\n",
    "results0 = []\n",
    "for m in range(0, 23):\n",
    "     tmp = f[(f.NumPreviousFights >= m) & (f.NumPreviousFights_L >= m)]\n",
    "     bools = tmp.apply(WinRatio_Age_Reach, axis=1)\n",
    "     wins = bools.sum()\n",
    "     total = bools.shape[0]\n",
    "     results0.append((m, wins / float(total), total))"
   ]
  },
  {
   "cell_type": "code",
   "execution_count": 21,
   "metadata": {
    "collapsed": false
   },
   "outputs": [
    {
     "data": {
      "text/plain": [
       "(0, 1500)"
      ]
     },
     "execution_count": 21,
     "metadata": {},
     "output_type": "execute_result"
    },
    {
     "data": {
      "image/png": "[encoded data removed]",
      "text/plain": [
       "<matplotlib.figure.Figure at 0x10f8d3550>"
      ]
     },
     "metadata": {},
     "output_type": "display_data"
    }
   ],
   "source": [
    "fig, (ax1, ax2) = plt.subplots(nrows=1, ncols=2, figsize=(10, 3))\n",
    "ax1.hist(f[pd.notnull(f.WinRatio)].WinRatio, bins=35, rwidth=0.8)\n",
    "ax1.set_ylim(0, 1500)\n",
    "ax2.hist(f[pd.notnull(f.WinRatio_L)].WinRatio_L, bins=35, rwidth=0.8)\n",
    "ax2.set_ylim(0, 1500)"
   ]
  },
  {
   "cell_type": "code",
   "execution_count": 22,
   "metadata": {
    "collapsed": false
   },
   "outputs": [],
   "source": [
    "f['WinRatio'] = f.NumPreviousWins / f.NumPreviousFights\n",
    "f['WinRatio_L'] = f.NumPreviousWins_L / f.NumPreviousFights_L\n",
    "# leave in the NaNs\n",
    "results1 = []\n",
    "for m in range(0, 23):\n",
    "     tmp = f[pd.notnull(f.WinRatio) & pd.notnull(f.WinRatio_L) & (f.WinRatio != f.WinRatio_L) & (f.NumPreviousFights >= m) & (f.NumPreviousFights_L >= m)]\n",
    "     wins = tmp[tmp.WinRatio > tmp.WinRatio_L].shape[0]\n",
    "     total = tmp.shape[0]\n",
    "     results1.append((m, wins / float(total), total))"
   ]
  },
  {
   "cell_type": "code",
   "execution_count": 23,
   "metadata": {
    "collapsed": true
   },
   "outputs": [],
   "source": [
    "f.WinRatio = f.WinRatio.fillna(0.0)\n",
    "f.WinRatio_L = f.WinRatio_L.fillna(0.0)\n",
    "results2 = []\n",
    "for m in range(0, 23):\n",
    "     tmp = f[pd.notnull(f.WinRatio) & pd.notnull(f.WinRatio_L) & (f.WinRatio != f.WinRatio_L) & (f.NumPreviousFights >= m) & (f.NumPreviousFights_L >= m)]\n",
    "     wins = tmp[tmp.WinRatio > tmp.WinRatio_L].shape[0]\n",
    "     total = tmp.shape[0]\n",
    "     results2.append((m, wins / float(total), total))"
   ]
  },
  {
   "cell_type": "code",
   "execution_count": 24,
   "metadata": {
    "collapsed": false
   },
   "outputs": [
    {
     "data": {
      "text/plain": [
       "(0, 1500)"
      ]
     },
     "execution_count": 24,
     "metadata": {},
     "output_type": "execute_result"
    },
    {
     "data": {
      "image/png": "[encoded data removed]",
      "text/plain": [
       "<matplotlib.figure.Figure at 0x10f011410>"
      ]
     },
     "metadata": {},
     "output_type": "display_data"
    }
   ],
   "source": [
    "fig, (ax1, ax2) = plt.subplots(nrows=1, ncols=2, figsize=(10, 3))\n",
    "ax1.hist(f[pd.notnull(f.WinRatio)].WinRatio, bins=35, rwidth=0.8)\n",
    "ax1.set_ylim(0, 1500)\n",
    "ax2.hist(f[pd.notnull(f.WinRatio_L)].WinRatio_L, bins=35, rwidth=0.8)\n",
    "ax2.set_ylim(0, 1500)"
   ]
  },
  {
   "cell_type": "code",
   "execution_count": 25,
   "metadata": {
    "collapsed": true
   },
   "outputs": [],
   "source": [
    "f['WinRatio'] = f.NumPreviousWins / f.NumPreviousFights\n",
    "f['WinRatio_L'] = f.NumPreviousWins_L / f.NumPreviousFights_L\n",
    "f.WinRatio = f.WinRatio.fillna(0.5)\n",
    "f.WinRatio_L = f.WinRatio_L.fillna(0.5)\n",
    "results3 = []\n",
    "for m in range(0, 23):\n",
    "     tmp = f[pd.notnull(f.WinRatio) & pd.notnull(f.WinRatio_L) & (f.WinRatio != f.WinRatio_L) & (f.NumPreviousFights >= m) & (f.NumPreviousFights_L >= m)]\n",
    "     wins = tmp[tmp.WinRatio > tmp.WinRatio_L].shape[0]\n",
    "     total = tmp.shape[0]\n",
    "     results3.append((m, wins / float(total), total))"
   ]
  },
  {
   "cell_type": "code",
   "execution_count": 26,
   "metadata": {
    "collapsed": true
   },
   "outputs": [],
   "source": [
    "f['WinRatio'] = f.NumPreviousWins / f.NumPreviousFights\n",
    "f['WinRatio_L'] = f.NumPreviousWins_L / f.NumPreviousFights_L\n",
    "f.WinRatio = f.WinRatio.fillna(1.0)\n",
    "f.WinRatio_L = f.WinRatio_L.fillna(1.0)\n",
    "results4 = []\n",
    "for m in range(0, 23):\n",
    "     tmp = f[pd.notnull(f.WinRatio) & pd.notnull(f.WinRatio_L) & (f.WinRatio != f.WinRatio_L) & (f.NumPreviousFights >= m) & (f.NumPreviousFights_L >= m)]\n",
    "     wins = tmp[tmp.WinRatio > tmp.WinRatio_L].shape[0]\n",
    "     total = tmp.shape[0]\n",
    "     results4.append((m, wins / float(total), total))"
   ]
  },
  {
   "cell_type": "code",
   "execution_count": 27,
   "metadata": {
    "collapsed": false
   },
   "outputs": [
    {
     "data": {
      "text/plain": [
       "3561"
      ]
     },
     "execution_count": 27,
     "metadata": {},
     "output_type": "execute_result"
    }
   ],
   "source": [
    "f[(f.NumPreviousFights >= 0) & (f.NumPreviousFights_L >= 0)].shape[0]"
   ]
  },
  {
   "cell_type": "code",
   "execution_count": 28,
   "metadata": {
    "collapsed": false
   },
   "outputs": [
    {
     "data": {
      "text/plain": [
       "(0, 1750)"
      ]
     },
     "execution_count": 28,
     "metadata": {},
     "output_type": "execute_result"
    },
    {
     "data": {
      "image/png": "[encoded data removed]",
      "text/plain": [
       "<matplotlib.figure.Figure at 0x112955e50>"
      ]
     },
     "metadata": {},
     "output_type": "display_data"
    }
   ],
   "source": [
    "fig, (ax1, ax2) = plt.subplots(nrows=1, ncols=2, figsize=(10, 3))\n",
    "ax1.hist(f[pd.notnull(f.WinRatio)].WinRatio, bins=35, rwidth=0.8)\n",
    "ax1.set_ylim(0, 1750)\n",
    "ax2.hist(f[pd.notnull(f.WinRatio_L)].WinRatio_L, bins=35, rwidth=0.8)\n",
    "ax2.set_ylim(0, 1750)"
   ]
  },
  {
   "cell_type": "code",
   "execution_count": 29,
   "metadata": {
    "collapsed": false
   },
   "outputs": [],
   "source": [
    "df0 = pd.DataFrame(results0)\n",
    "df0.columns = ['m', 'Accuracy', 'Total']\n",
    "df1 = pd.DataFrame(results1)\n",
    "df1.columns = ['m', 'Accuracy', 'Total']\n",
    "df2 = pd.DataFrame(results2)\n",
    "df2.columns = ['m', 'Accuracy', 'Total']\n",
    "df3 = pd.DataFrame(results3)\n",
    "df3.columns = ['m', 'Accuracy', 'Total']\n",
    "df4 = pd.DataFrame(results4)\n",
    "df4.columns = ['m', 'Accuracy', 'Total']"
   ]
  },
  {
   "cell_type": "markdown",
   "metadata": {},
   "source": [
    "### Let's vary minimum number of fights and see how the \"greater win ratio wins\" model does"
   ]
  },
  {
   "cell_type": "code",
   "execution_count": 30,
   "metadata": {
    "collapsed": false
   },
   "outputs": [
    {
     "data": {
      "image/png": "[encoded data removed]",
      "text/plain": [
       "<matplotlib.figure.Figure at 0x112bcf710>"
      ]
     },
     "metadata": {},
     "output_type": "display_data"
    }
   ],
   "source": [
    "fig, (ax1, ax2) = plt.subplots(nrows=2, ncols=1, figsize=(5, 5), sharex='all')\n",
    "#plt.scatter(df1.m, 100*df1.Accuracy, label='Drop')\n",
    "ax1.plot(df2.m[0:16], 100*df2.Accuracy[0:16], label='GWW Model')\n",
    "ax1.plot(df0.m[0:16], 100*df0.Accuracy[0:16], label='WAR Model')\n",
    "#plt.plot(df3.m, 100*df3.Accuracy, label='NaN=1/2')\n",
    "#plt.scatter(df4.m, 100*df4.Accuracy, label='NaN=1')\n",
    "ax1.plot([-0.5, 20], [50, 50], 'k:')\n",
    "ax1.set_xlim(-0.5, 15.5)\n",
    "ax1.set_ylim(45, 70)\n",
    "ax1.set_ylabel('Accuracy (%)')\n",
    "ax1.legend()\n",
    "\n",
    "ax1.set_xticklabels([])\n",
    "major_ticks_ = np.arange(0, 16, 3)\n",
    "ax1.set_xticks(major_ticks_)\n",
    "minor_ticks_ = np.arange(0, 16, 1)\n",
    "ax1.set_xticks(minor_ticks_, minor=True)\n",
    "ax1.tick_params(axis='x', direction='in', which='both')\n",
    "plt.setp(ax1.get_yticklabels()[0], visible=False)\n",
    "\n",
    "#ax2.semilogy(df2.m[0:16], df2.Total[0:16])\n",
    "ax2.semilogy(df2.m[0:16], df2.Total[0:16])\n",
    "ax2.semilogy(df0.m[0:16], df0.Total[0:16], label='WAR Model')\n",
    "#ax2.plot(df2.m[0:16], df2.Total[0:16]/float(f.shape[0]))\n",
    "\n",
    "ax2.set_xlabel('Minimum Number of Previous Fights')\n",
    "ax2.set_ylabel('Number of Fights')\n",
    "ax2.set_ylim(10, 5000)\n",
    "\n",
    "ax2.set_xticks(major_ticks_)\n",
    "ax2.set_xticklabels(major_ticks_)\n",
    "ax2.set_xticks(minor_ticks_, minor=True)\n",
    "\n",
    "fig.subplots_adjust(hspace=0)\n",
    "plt.savefig('report/prediction/win_ratio_model.pdf', bbox_inches='tight')"
   ]
  },
  {
   "cell_type": "markdown",
   "metadata": {},
   "source": [
    "This figure is telling us that when both fighters have m fights or more, we can use this simple model of greater win ratio wins and get an accuracy of about 59% which is almost as good as our ML classifiers."
   ]
  },
  {
   "cell_type": "markdown",
   "metadata": {},
   "source": [
    "All values are the same after m=0 since nothing is imputed for those cases."
   ]
  },
  {
   "cell_type": "code",
   "execution_count": 31,
   "metadata": {
    "collapsed": false,
    "scrolled": false
   },
   "outputs": [
    {
     "data": {
      "text/html": [
       "<div>\n",
       "<table border=\"1\" class=\"dataframe\">\n",
       "  <thead>\n",
       "    <tr style=\"text-align: right;\">\n",
       "      <th></th>\n",
       "      <th>m</th>\n",
       "      <th>Accuracy</th>\n",
       "      <th>Total</th>\n",
       "      <th>m</th>\n",
       "      <th>Accuracy</th>\n",
       "      <th>Total</th>\n",
       "      <th>m</th>\n",
       "      <th>Accuracy</th>\n",
       "      <th>Total</th>\n",
       "      <th>m</th>\n",
       "      <th>Accuracy</th>\n",
       "      <th>Total</th>\n",
       "      <th>m</th>\n",
       "      <th>Accuracy</th>\n",
       "      <th>Total</th>\n",
       "    </tr>\n",
       "  </thead>\n",
       "  <tbody>\n",
       "    <tr>\n",
       "      <th>0</th>\n",
       "      <td>0</td>\n",
       "      <td>0.576523</td>\n",
       "      <td>3561</td>\n",
       "      <td>0</td>\n",
       "      <td>0.571830</td>\n",
       "      <td>2137</td>\n",
       "      <td>0</td>\n",
       "      <td>0.587625</td>\n",
       "      <td>2699</td>\n",
       "      <td>0</td>\n",
       "      <td>0.577901</td>\n",
       "      <td>2715</td>\n",
       "      <td>0</td>\n",
       "      <td>0.539092</td>\n",
       "      <td>2686</td>\n",
       "    </tr>\n",
       "    <tr>\n",
       "      <th>1</th>\n",
       "      <td>1</td>\n",
       "      <td>0.568972</td>\n",
       "      <td>2559</td>\n",
       "      <td>1</td>\n",
       "      <td>0.571830</td>\n",
       "      <td>2137</td>\n",
       "      <td>1</td>\n",
       "      <td>0.571830</td>\n",
       "      <td>2137</td>\n",
       "      <td>1</td>\n",
       "      <td>0.571830</td>\n",
       "      <td>2137</td>\n",
       "      <td>1</td>\n",
       "      <td>0.571830</td>\n",
       "      <td>2137</td>\n",
       "    </tr>\n",
       "    <tr>\n",
       "      <th>2</th>\n",
       "      <td>2</td>\n",
       "      <td>0.584344</td>\n",
       "      <td>1814</td>\n",
       "      <td>2</td>\n",
       "      <td>0.590308</td>\n",
       "      <td>1589</td>\n",
       "      <td>2</td>\n",
       "      <td>0.590308</td>\n",
       "      <td>1589</td>\n",
       "      <td>2</td>\n",
       "      <td>0.590308</td>\n",
       "      <td>1589</td>\n",
       "      <td>2</td>\n",
       "      <td>0.590308</td>\n",
       "      <td>1589</td>\n",
       "    </tr>\n",
       "    <tr>\n",
       "      <th>3</th>\n",
       "      <td>3</td>\n",
       "      <td>0.584129</td>\n",
       "      <td>1361</td>\n",
       "      <td>3</td>\n",
       "      <td>0.585425</td>\n",
       "      <td>1235</td>\n",
       "      <td>3</td>\n",
       "      <td>0.585425</td>\n",
       "      <td>1235</td>\n",
       "      <td>3</td>\n",
       "      <td>0.585425</td>\n",
       "      <td>1235</td>\n",
       "      <td>3</td>\n",
       "      <td>0.585425</td>\n",
       "      <td>1235</td>\n",
       "    </tr>\n",
       "    <tr>\n",
       "      <th>4</th>\n",
       "      <td>4</td>\n",
       "      <td>0.594752</td>\n",
       "      <td>1029</td>\n",
       "      <td>4</td>\n",
       "      <td>0.596639</td>\n",
       "      <td>952</td>\n",
       "      <td>4</td>\n",
       "      <td>0.596639</td>\n",
       "      <td>952</td>\n",
       "      <td>4</td>\n",
       "      <td>0.596639</td>\n",
       "      <td>952</td>\n",
       "      <td>4</td>\n",
       "      <td>0.596639</td>\n",
       "      <td>952</td>\n",
       "    </tr>\n",
       "    <tr>\n",
       "      <th>5</th>\n",
       "      <td>5</td>\n",
       "      <td>0.594352</td>\n",
       "      <td>779</td>\n",
       "      <td>5</td>\n",
       "      <td>0.595658</td>\n",
       "      <td>737</td>\n",
       "      <td>5</td>\n",
       "      <td>0.595658</td>\n",
       "      <td>737</td>\n",
       "      <td>5</td>\n",
       "      <td>0.595658</td>\n",
       "      <td>737</td>\n",
       "      <td>5</td>\n",
       "      <td>0.595658</td>\n",
       "      <td>737</td>\n",
       "    </tr>\n",
       "    <tr>\n",
       "      <th>6</th>\n",
       "      <td>6</td>\n",
       "      <td>0.607083</td>\n",
       "      <td>593</td>\n",
       "      <td>6</td>\n",
       "      <td>0.608229</td>\n",
       "      <td>559</td>\n",
       "      <td>6</td>\n",
       "      <td>0.608229</td>\n",
       "      <td>559</td>\n",
       "      <td>6</td>\n",
       "      <td>0.608229</td>\n",
       "      <td>559</td>\n",
       "      <td>6</td>\n",
       "      <td>0.608229</td>\n",
       "      <td>559</td>\n",
       "    </tr>\n",
       "    <tr>\n",
       "      <th>7</th>\n",
       "      <td>7</td>\n",
       "      <td>0.600000</td>\n",
       "      <td>455</td>\n",
       "      <td>7</td>\n",
       "      <td>0.600462</td>\n",
       "      <td>433</td>\n",
       "      <td>7</td>\n",
       "      <td>0.600462</td>\n",
       "      <td>433</td>\n",
       "      <td>7</td>\n",
       "      <td>0.600462</td>\n",
       "      <td>433</td>\n",
       "      <td>7</td>\n",
       "      <td>0.600462</td>\n",
       "      <td>433</td>\n",
       "    </tr>\n",
       "    <tr>\n",
       "      <th>8</th>\n",
       "      <td>8</td>\n",
       "      <td>0.604651</td>\n",
       "      <td>344</td>\n",
       "      <td>8</td>\n",
       "      <td>0.601208</td>\n",
       "      <td>331</td>\n",
       "      <td>8</td>\n",
       "      <td>0.601208</td>\n",
       "      <td>331</td>\n",
       "      <td>8</td>\n",
       "      <td>0.601208</td>\n",
       "      <td>331</td>\n",
       "      <td>8</td>\n",
       "      <td>0.601208</td>\n",
       "      <td>331</td>\n",
       "    </tr>\n",
       "    <tr>\n",
       "      <th>9</th>\n",
       "      <td>9</td>\n",
       "      <td>0.593156</td>\n",
       "      <td>263</td>\n",
       "      <td>9</td>\n",
       "      <td>0.593750</td>\n",
       "      <td>256</td>\n",
       "      <td>9</td>\n",
       "      <td>0.593750</td>\n",
       "      <td>256</td>\n",
       "      <td>9</td>\n",
       "      <td>0.593750</td>\n",
       "      <td>256</td>\n",
       "      <td>9</td>\n",
       "      <td>0.593750</td>\n",
       "      <td>256</td>\n",
       "    </tr>\n",
       "    <tr>\n",
       "      <th>10</th>\n",
       "      <td>10</td>\n",
       "      <td>0.596939</td>\n",
       "      <td>196</td>\n",
       "      <td>10</td>\n",
       "      <td>0.600000</td>\n",
       "      <td>190</td>\n",
       "      <td>10</td>\n",
       "      <td>0.600000</td>\n",
       "      <td>190</td>\n",
       "      <td>10</td>\n",
       "      <td>0.600000</td>\n",
       "      <td>190</td>\n",
       "      <td>10</td>\n",
       "      <td>0.600000</td>\n",
       "      <td>190</td>\n",
       "    </tr>\n",
       "    <tr>\n",
       "      <th>11</th>\n",
       "      <td>11</td>\n",
       "      <td>0.601504</td>\n",
       "      <td>133</td>\n",
       "      <td>11</td>\n",
       "      <td>0.610687</td>\n",
       "      <td>131</td>\n",
       "      <td>11</td>\n",
       "      <td>0.610687</td>\n",
       "      <td>131</td>\n",
       "      <td>11</td>\n",
       "      <td>0.610687</td>\n",
       "      <td>131</td>\n",
       "      <td>11</td>\n",
       "      <td>0.610687</td>\n",
       "      <td>131</td>\n",
       "    </tr>\n",
       "    <tr>\n",
       "      <th>12</th>\n",
       "      <td>12</td>\n",
       "      <td>0.606742</td>\n",
       "      <td>89</td>\n",
       "      <td>12</td>\n",
       "      <td>0.606742</td>\n",
       "      <td>89</td>\n",
       "      <td>12</td>\n",
       "      <td>0.606742</td>\n",
       "      <td>89</td>\n",
       "      <td>12</td>\n",
       "      <td>0.606742</td>\n",
       "      <td>89</td>\n",
       "      <td>12</td>\n",
       "      <td>0.606742</td>\n",
       "      <td>89</td>\n",
       "    </tr>\n",
       "    <tr>\n",
       "      <th>13</th>\n",
       "      <td>13</td>\n",
       "      <td>0.634921</td>\n",
       "      <td>63</td>\n",
       "      <td>13</td>\n",
       "      <td>0.634921</td>\n",
       "      <td>63</td>\n",
       "      <td>13</td>\n",
       "      <td>0.634921</td>\n",
       "      <td>63</td>\n",
       "      <td>13</td>\n",
       "      <td>0.634921</td>\n",
       "      <td>63</td>\n",
       "      <td>13</td>\n",
       "      <td>0.634921</td>\n",
       "      <td>63</td>\n",
       "    </tr>\n",
       "    <tr>\n",
       "      <th>14</th>\n",
       "      <td>14</td>\n",
       "      <td>0.652174</td>\n",
       "      <td>46</td>\n",
       "      <td>14</td>\n",
       "      <td>0.652174</td>\n",
       "      <td>46</td>\n",
       "      <td>14</td>\n",
       "      <td>0.652174</td>\n",
       "      <td>46</td>\n",
       "      <td>14</td>\n",
       "      <td>0.652174</td>\n",
       "      <td>46</td>\n",
       "      <td>14</td>\n",
       "      <td>0.652174</td>\n",
       "      <td>46</td>\n",
       "    </tr>\n",
       "    <tr>\n",
       "      <th>15</th>\n",
       "      <td>15</td>\n",
       "      <td>0.628571</td>\n",
       "      <td>35</td>\n",
       "      <td>15</td>\n",
       "      <td>0.628571</td>\n",
       "      <td>35</td>\n",
       "      <td>15</td>\n",
       "      <td>0.628571</td>\n",
       "      <td>35</td>\n",
       "      <td>15</td>\n",
       "      <td>0.628571</td>\n",
       "      <td>35</td>\n",
       "      <td>15</td>\n",
       "      <td>0.628571</td>\n",
       "      <td>35</td>\n",
       "    </tr>\n",
       "    <tr>\n",
       "      <th>16</th>\n",
       "      <td>16</td>\n",
       "      <td>0.629630</td>\n",
       "      <td>27</td>\n",
       "      <td>16</td>\n",
       "      <td>0.629630</td>\n",
       "      <td>27</td>\n",
       "      <td>16</td>\n",
       "      <td>0.629630</td>\n",
       "      <td>27</td>\n",
       "      <td>16</td>\n",
       "      <td>0.629630</td>\n",
       "      <td>27</td>\n",
       "      <td>16</td>\n",
       "      <td>0.629630</td>\n",
       "      <td>27</td>\n",
       "    </tr>\n",
       "    <tr>\n",
       "      <th>17</th>\n",
       "      <td>17</td>\n",
       "      <td>0.600000</td>\n",
       "      <td>15</td>\n",
       "      <td>17</td>\n",
       "      <td>0.600000</td>\n",
       "      <td>15</td>\n",
       "      <td>17</td>\n",
       "      <td>0.600000</td>\n",
       "      <td>15</td>\n",
       "      <td>17</td>\n",
       "      <td>0.600000</td>\n",
       "      <td>15</td>\n",
       "      <td>17</td>\n",
       "      <td>0.600000</td>\n",
       "      <td>15</td>\n",
       "    </tr>\n",
       "    <tr>\n",
       "      <th>18</th>\n",
       "      <td>18</td>\n",
       "      <td>0.538462</td>\n",
       "      <td>13</td>\n",
       "      <td>18</td>\n",
       "      <td>0.538462</td>\n",
       "      <td>13</td>\n",
       "      <td>18</td>\n",
       "      <td>0.538462</td>\n",
       "      <td>13</td>\n",
       "      <td>18</td>\n",
       "      <td>0.538462</td>\n",
       "      <td>13</td>\n",
       "      <td>18</td>\n",
       "      <td>0.538462</td>\n",
       "      <td>13</td>\n",
       "    </tr>\n",
       "    <tr>\n",
       "      <th>19</th>\n",
       "      <td>19</td>\n",
       "      <td>0.750000</td>\n",
       "      <td>8</td>\n",
       "      <td>19</td>\n",
       "      <td>0.750000</td>\n",
       "      <td>8</td>\n",
       "      <td>19</td>\n",
       "      <td>0.750000</td>\n",
       "      <td>8</td>\n",
       "      <td>19</td>\n",
       "      <td>0.750000</td>\n",
       "      <td>8</td>\n",
       "      <td>19</td>\n",
       "      <td>0.750000</td>\n",
       "      <td>8</td>\n",
       "    </tr>\n",
       "    <tr>\n",
       "      <th>20</th>\n",
       "      <td>20</td>\n",
       "      <td>0.714286</td>\n",
       "      <td>7</td>\n",
       "      <td>20</td>\n",
       "      <td>0.714286</td>\n",
       "      <td>7</td>\n",
       "      <td>20</td>\n",
       "      <td>0.714286</td>\n",
       "      <td>7</td>\n",
       "      <td>20</td>\n",
       "      <td>0.714286</td>\n",
       "      <td>7</td>\n",
       "      <td>20</td>\n",
       "      <td>0.714286</td>\n",
       "      <td>7</td>\n",
       "    </tr>\n",
       "    <tr>\n",
       "      <th>21</th>\n",
       "      <td>21</td>\n",
       "      <td>1.000000</td>\n",
       "      <td>2</td>\n",
       "      <td>21</td>\n",
       "      <td>1.000000</td>\n",
       "      <td>2</td>\n",
       "      <td>21</td>\n",
       "      <td>1.000000</td>\n",
       "      <td>2</td>\n",
       "      <td>21</td>\n",
       "      <td>1.000000</td>\n",
       "      <td>2</td>\n",
       "      <td>21</td>\n",
       "      <td>1.000000</td>\n",
       "      <td>2</td>\n",
       "    </tr>\n",
       "    <tr>\n",
       "      <th>22</th>\n",
       "      <td>22</td>\n",
       "      <td>1.000000</td>\n",
       "      <td>1</td>\n",
       "      <td>22</td>\n",
       "      <td>1.000000</td>\n",
       "      <td>1</td>\n",
       "      <td>22</td>\n",
       "      <td>1.000000</td>\n",
       "      <td>1</td>\n",
       "      <td>22</td>\n",
       "      <td>1.000000</td>\n",
       "      <td>1</td>\n",
       "      <td>22</td>\n",
       "      <td>1.000000</td>\n",
       "      <td>1</td>\n",
       "    </tr>\n",
       "  </tbody>\n",
       "</table>\n",
       "</div>"
      ],
      "text/plain": [
       "     m  Accuracy  Total   m  Accuracy  Total   m  Accuracy  Total   m  Accuracy  Total   m  Accuracy  Total\n",
       "0    0  0.576523   3561   0  0.571830   2137   0  0.587625   2699   0  0.577901   2715   0  0.539092   2686\n",
       "1    1  0.568972   2559   1  0.571830   2137   1  0.571830   2137   1  0.571830   2137   1  0.571830   2137\n",
       "2    2  0.584344   1814   2  0.590308   1589   2  0.590308   1589   2  0.590308   1589   2  0.590308   1589\n",
       "3    3  0.584129   1361   3  0.585425   1235   3  0.585425   1235   3  0.585425   1235   3  0.585425   1235\n",
       "4    4  0.594752   1029   4  0.596639    952   4  0.596639    952   4  0.596639    952   4  0.596639    952\n",
       "5    5  0.594352    779   5  0.595658    737   5  0.595658    737   5  0.595658    737   5  0.595658    737\n",
       "6    6  0.607083    593   6  0.608229    559   6  0.608229    559   6  0.608229    559   6  0.608229    559\n",
       "7    7  0.600000    455   7  0.600462    433   7  0.600462    433   7  0.600462    433   7  0.600462    433\n",
       "8    8  0.604651    344   8  0.601208    331   8  0.601208    331   8  0.601208    331   8  0.601208    331\n",
       "9    9  0.593156    263   9  0.593750    256   9  0.593750    256   9  0.593750    256   9  0.593750    256\n",
       "10  10  0.596939    196  10  0.600000    190  10  0.600000    190  10  0.600000    190  10  0.600000    190\n",
       "11  11  0.601504    133  11  0.610687    131  11  0.610687    131  11  0.610687    131  11  0.610687    131\n",
       "12  12  0.606742     89  12  0.606742     89  12  0.606742     89  12  0.606742     89  12  0.606742     89\n",
       "13  13  0.634921     63  13  0.634921     63  13  0.634921     63  13  0.634921     63  13  0.634921     63\n",
       "14  14  0.652174     46  14  0.652174     46  14  0.652174     46  14  0.652174     46  14  0.652174     46\n",
       "15  15  0.628571     35  15  0.628571     35  15  0.628571     35  15  0.628571     35  15  0.628571     35\n",
       "16  16  0.629630     27  16  0.629630     27  16  0.629630     27  16  0.629630     27  16  0.629630     27\n",
       "17  17  0.600000     15  17  0.600000     15  17  0.600000     15  17  0.600000     15  17  0.600000     15\n",
       "18  18  0.538462     13  18  0.538462     13  18  0.538462     13  18  0.538462     13  18  0.538462     13\n",
       "19  19  0.750000      8  19  0.750000      8  19  0.750000      8  19  0.750000      8  19  0.750000      8\n",
       "20  20  0.714286      7  20  0.714286      7  20  0.714286      7  20  0.714286      7  20  0.714286      7\n",
       "21  21  1.000000      2  21  1.000000      2  21  1.000000      2  21  1.000000      2  21  1.000000      2\n",
       "22  22  1.000000      1  22  1.000000      1  22  1.000000      1  22  1.000000      1  22  1.000000      1"
      ]
     },
     "execution_count": 31,
     "metadata": {},
     "output_type": "execute_result"
    }
   ],
   "source": [
    "pd.concat([df0, df1, df2, df3, df4], axis=1)"
   ]
  },
  {
   "cell_type": "code",
   "execution_count": 32,
   "metadata": {
    "collapsed": false
   },
   "outputs": [
    {
     "data": {
      "text/html": [
       "<div>\n",
       "<table border=\"1\" class=\"dataframe\">\n",
       "  <thead>\n",
       "    <tr style=\"text-align: right;\">\n",
       "      <th></th>\n",
       "      <th>m</th>\n",
       "      <th>Accuracy</th>\n",
       "      <th>Total</th>\n",
       "    </tr>\n",
       "  </thead>\n",
       "  <tbody>\n",
       "    <tr>\n",
       "      <th>3</th>\n",
       "      <td>3</td>\n",
       "      <td>0.585425</td>\n",
       "      <td>1235</td>\n",
       "    </tr>\n",
       "    <tr>\n",
       "      <th>4</th>\n",
       "      <td>4</td>\n",
       "      <td>0.596639</td>\n",
       "      <td>952</td>\n",
       "    </tr>\n",
       "    <tr>\n",
       "      <th>5</th>\n",
       "      <td>5</td>\n",
       "      <td>0.595658</td>\n",
       "      <td>737</td>\n",
       "    </tr>\n",
       "    <tr>\n",
       "      <th>6</th>\n",
       "      <td>6</td>\n",
       "      <td>0.608229</td>\n",
       "      <td>559</td>\n",
       "    </tr>\n",
       "    <tr>\n",
       "      <th>7</th>\n",
       "      <td>7</td>\n",
       "      <td>0.600462</td>\n",
       "      <td>433</td>\n",
       "    </tr>\n",
       "    <tr>\n",
       "      <th>8</th>\n",
       "      <td>8</td>\n",
       "      <td>0.601208</td>\n",
       "      <td>331</td>\n",
       "    </tr>\n",
       "    <tr>\n",
       "      <th>9</th>\n",
       "      <td>9</td>\n",
       "      <td>0.593750</td>\n",
       "      <td>256</td>\n",
       "    </tr>\n",
       "    <tr>\n",
       "      <th>10</th>\n",
       "      <td>10</td>\n",
       "      <td>0.600000</td>\n",
       "      <td>190</td>\n",
       "    </tr>\n",
       "  </tbody>\n",
       "</table>\n",
       "</div>"
      ],
      "text/plain": [
       "     m  Accuracy  Total\n",
       "3    3  0.585425   1235\n",
       "4    4  0.596639    952\n",
       "5    5  0.595658    737\n",
       "6    6  0.608229    559\n",
       "7    7  0.600462    433\n",
       "8    8  0.601208    331\n",
       "9    9  0.593750    256\n",
       "10  10  0.600000    190"
      ]
     },
     "execution_count": 32,
     "metadata": {},
     "output_type": "execute_result"
    }
   ],
   "source": [
    "df2[3:11]"
   ]
  },
  {
   "cell_type": "code",
   "execution_count": 33,
   "metadata": {
    "collapsed": false
   },
   "outputs": [
    {
     "data": {
      "text/plain": [
       "m             6.500000\n",
       "Accuracy      0.597671\n",
       "Total       586.625000\n",
       "dtype: float64"
      ]
     },
     "execution_count": 33,
     "metadata": {},
     "output_type": "execute_result"
    }
   ],
   "source": [
    "df2[3:11].mean()"
   ]
  },
  {
   "cell_type": "code",
   "execution_count": 34,
   "metadata": {
    "collapsed": false
   },
   "outputs": [
    {
     "data": {
      "text/plain": [
       "m             6.500000\n",
       "Accuracy      0.596883\n",
       "Total       627.500000\n",
       "dtype: float64"
      ]
     },
     "execution_count": 34,
     "metadata": {},
     "output_type": "execute_result"
    }
   ],
   "source": [
    "df0[3:11].mean()"
   ]
  },
  {
   "cell_type": "markdown",
   "metadata": {},
   "source": [
    "# Fit a logistic regression model using only the difference in win ratio"
   ]
  },
  {
   "cell_type": "code",
   "execution_count": 35,
   "metadata": {
    "collapsed": true
   },
   "outputs": [],
   "source": [
    "f['WinRatio'] = f.NumPreviousWins / f.NumPreviousFights\n",
    "f['WinRatio_L'] = f.NumPreviousWins_L / f.NumPreviousFights_L\n",
    "f.WinRatio = f.WinRatio.fillna(0.0)\n",
    "f.WinRatio_L = f.WinRatio_L.fillna(0.0)\n",
    "f['WinRatioDiff'] = f.WinRatio - f.WinRatio_L"
   ]
  },
  {
   "cell_type": "code",
   "execution_count": 36,
   "metadata": {
    "collapsed": false
   },
   "outputs": [
    {
     "data": {
      "text/html": [
       "<div>\n",
       "<table border=\"1\" class=\"dataframe\">\n",
       "  <thead>\n",
       "    <tr style=\"text-align: right;\">\n",
       "      <th></th>\n",
       "      <th>Winner</th>\n",
       "      <th>Loser</th>\n",
       "      <th>WinRatio</th>\n",
       "      <th>WinRatio_L</th>\n",
       "      <th>WinRatioDiff</th>\n",
       "    </tr>\n",
       "  </thead>\n",
       "  <tbody>\n",
       "    <tr>\n",
       "      <th>0</th>\n",
       "      <td>Germaine de Randamie</td>\n",
       "      <td>Holly Holm</td>\n",
       "      <td>0.750000</td>\n",
       "      <td>0.600000</td>\n",
       "      <td>0.150000</td>\n",
       "    </tr>\n",
       "    <tr>\n",
       "      <th>1</th>\n",
       "      <td>Anderson Silva</td>\n",
       "      <td>Derek Brunson</td>\n",
       "      <td>0.800000</td>\n",
       "      <td>0.777778</td>\n",
       "      <td>0.022222</td>\n",
       "    </tr>\n",
       "    <tr>\n",
       "      <th>2</th>\n",
       "      <td>Jacare Souza</td>\n",
       "      <td>Tim Boetsch</td>\n",
       "      <td>0.857143</td>\n",
       "      <td>0.550000</td>\n",
       "      <td>0.307143</td>\n",
       "    </tr>\n",
       "    <tr>\n",
       "      <th>3</th>\n",
       "      <td>Glover Teixeira</td>\n",
       "      <td>Jared Cannonier</td>\n",
       "      <td>0.727273</td>\n",
       "      <td>0.666667</td>\n",
       "      <td>0.060606</td>\n",
       "    </tr>\n",
       "    <tr>\n",
       "      <th>4</th>\n",
       "      <td>Dustin Poirier</td>\n",
       "      <td>Jim Miller</td>\n",
       "      <td>0.750000</td>\n",
       "      <td>0.708333</td>\n",
       "      <td>0.041667</td>\n",
       "    </tr>\n",
       "    <tr>\n",
       "      <th>5</th>\n",
       "      <td>Belal Muhammad</td>\n",
       "      <td>Randy Brown</td>\n",
       "      <td>0.333333</td>\n",
       "      <td>0.750000</td>\n",
       "      <td>-0.416667</td>\n",
       "    </tr>\n",
       "    <tr>\n",
       "      <th>6</th>\n",
       "      <td>Wilson Reis</td>\n",
       "      <td>Ulka Sasaki</td>\n",
       "      <td>0.714286</td>\n",
       "      <td>0.500000</td>\n",
       "      <td>0.214286</td>\n",
       "    </tr>\n",
       "    <tr>\n",
       "      <th>7</th>\n",
       "      <td>Islam Makhachev</td>\n",
       "      <td>Nik Lentz</td>\n",
       "      <td>0.666667</td>\n",
       "      <td>0.687500</td>\n",
       "      <td>-0.020833</td>\n",
       "    </tr>\n",
       "    <tr>\n",
       "      <th>8</th>\n",
       "      <td>Rick Glenn</td>\n",
       "      <td>Phillipe Nover</td>\n",
       "      <td>0.000000</td>\n",
       "      <td>0.166667</td>\n",
       "      <td>-0.166667</td>\n",
       "    </tr>\n",
       "    <tr>\n",
       "      <th>9</th>\n",
       "      <td>Ryan LaFlare</td>\n",
       "      <td>Roan Carneiro</td>\n",
       "      <td>0.833333</td>\n",
       "      <td>0.500000</td>\n",
       "      <td>0.333333</td>\n",
       "    </tr>\n",
       "  </tbody>\n",
       "</table>\n",
       "</div>"
      ],
      "text/plain": [
       "                 Winner            Loser  WinRatio  WinRatio_L  WinRatioDiff\n",
       "0  Germaine de Randamie       Holly Holm  0.750000    0.600000      0.150000\n",
       "1        Anderson Silva    Derek Brunson  0.800000    0.777778      0.022222\n",
       "2          Jacare Souza      Tim Boetsch  0.857143    0.550000      0.307143\n",
       "3       Glover Teixeira  Jared Cannonier  0.727273    0.666667      0.060606\n",
       "4        Dustin Poirier       Jim Miller  0.750000    0.708333      0.041667\n",
       "5        Belal Muhammad      Randy Brown  0.333333    0.750000     -0.416667\n",
       "6           Wilson Reis      Ulka Sasaki  0.714286    0.500000      0.214286\n",
       "7       Islam Makhachev        Nik Lentz  0.666667    0.687500     -0.020833\n",
       "8            Rick Glenn   Phillipe Nover  0.000000    0.166667     -0.166667\n",
       "9          Ryan LaFlare    Roan Carneiro  0.833333    0.500000      0.333333"
      ]
     },
     "execution_count": 36,
     "metadata": {},
     "output_type": "execute_result"
    }
   ],
   "source": [
    "f[['Winner', 'Loser', 'WinRatio', 'WinRatio_L', 'WinRatioDiff']].head(10)"
   ]
  },
  {
   "cell_type": "markdown",
   "metadata": {},
   "source": [
    "### Need to flip around fighters"
   ]
  },
  {
   "cell_type": "code",
   "execution_count": 37,
   "metadata": {
    "collapsed": true
   },
   "outputs": [],
   "source": [
    "from random import random\n",
    "shuffled = []\n",
    "for index, row in f.iterrows():\n",
    "     if random() > 0.5:\n",
    "          shuffled.append((1, row['WinRatioDiff'], row['NumPreviousFights'], row['NumPreviousFights_L']))\n",
    "     else:\n",
    "          shuffled.append((0, -row['WinRatioDiff'], row['NumPreviousFights_L'], row['NumPreviousFights']))"
   ]
  },
  {
   "cell_type": "code",
   "execution_count": 38,
   "metadata": {
    "collapsed": false
   },
   "outputs": [
    {
     "data": {
      "text/html": [
       "<div>\n",
       "<table border=\"1\" class=\"dataframe\">\n",
       "  <thead>\n",
       "    <tr style=\"text-align: right;\">\n",
       "      <th></th>\n",
       "      <th>Classes</th>\n",
       "      <th>WinRatioDiff</th>\n",
       "      <th>NumPreviousFights_1</th>\n",
       "      <th>NumPreviousFights_2</th>\n",
       "    </tr>\n",
       "  </thead>\n",
       "  <tbody>\n",
       "    <tr>\n",
       "      <th>0</th>\n",
       "      <td>1</td>\n",
       "      <td>0.150000</td>\n",
       "      <td>4</td>\n",
       "      <td>5</td>\n",
       "    </tr>\n",
       "    <tr>\n",
       "      <th>1</th>\n",
       "      <td>1</td>\n",
       "      <td>0.022222</td>\n",
       "      <td>20</td>\n",
       "      <td>9</td>\n",
       "    </tr>\n",
       "    <tr>\n",
       "      <th>2</th>\n",
       "      <td>0</td>\n",
       "      <td>-0.307143</td>\n",
       "      <td>20</td>\n",
       "      <td>7</td>\n",
       "    </tr>\n",
       "    <tr>\n",
       "      <th>3</th>\n",
       "      <td>1</td>\n",
       "      <td>0.060606</td>\n",
       "      <td>11</td>\n",
       "      <td>3</td>\n",
       "    </tr>\n",
       "    <tr>\n",
       "      <th>4</th>\n",
       "      <td>0</td>\n",
       "      <td>-0.041667</td>\n",
       "      <td>24</td>\n",
       "      <td>16</td>\n",
       "    </tr>\n",
       "  </tbody>\n",
       "</table>\n",
       "</div>"
      ],
      "text/plain": [
       "   Classes  WinRatioDiff  NumPreviousFights_1  NumPreviousFights_2\n",
       "0        1      0.150000                    4                    5\n",
       "1        1      0.022222                   20                    9\n",
       "2        0     -0.307143                   20                    7\n",
       "3        1      0.060606                   11                    3\n",
       "4        0     -0.041667                   24                   16"
      ]
     },
     "execution_count": 38,
     "metadata": {},
     "output_type": "execute_result"
    }
   ],
   "source": [
    "data = pd.DataFrame(shuffled)\n",
    "data.columns = ['Classes', 'WinRatioDiff', 'NumPreviousFights_1', 'NumPreviousFights_2']\n",
    "data.head()"
   ]
  },
  {
   "cell_type": "code",
   "execution_count": 39,
   "metadata": {
    "collapsed": false
   },
   "outputs": [
    {
     "data": {
      "text/plain": [
       "(3561, 4)"
      ]
     },
     "execution_count": 39,
     "metadata": {},
     "output_type": "execute_result"
    }
   ],
   "source": [
    "data.shape"
   ]
  },
  {
   "cell_type": "markdown",
   "metadata": {},
   "source": [
    "### Check for outliers"
   ]
  },
  {
   "cell_type": "code",
   "execution_count": 40,
   "metadata": {
    "collapsed": false
   },
   "outputs": [
    {
     "data": {
      "text/plain": [
       "<matplotlib.text.Text at 0x112c73590>"
      ]
     },
     "execution_count": 40,
     "metadata": {},
     "output_type": "execute_result"
    },
    {
     "data": {
      "image/png": "[encoded data removed]",
      "text/plain": [
       "<matplotlib.figure.Figure at 0x1128a6190>"
      ]
     },
     "metadata": {},
     "output_type": "display_data"
    }
   ],
   "source": [
    "fig, ax1 = plt.subplots(nrows=1, ncols=1)\n",
    "ax1.hist(data.WinRatioDiff, bins=np.arange(-0.725, 0.725+0.05, step=0.05), rwidth=0.8)\n",
    "ax1.set_xlabel('Win Ratio Difference')\n",
    "ax1.set_ylabel('Count')"
   ]
  },
  {
   "cell_type": "code",
   "execution_count": 41,
   "metadata": {
    "collapsed": true
   },
   "outputs": [],
   "source": [
    "from sklearn.model_selection import train_test_split\n",
    "from sklearn.model_selection import StratifiedKFold\n",
    "from sklearn.model_selection import GridSearchCV\n",
    "from sklearn import metrics\n",
    "from sklearn.preprocessing import StandardScaler"
   ]
  },
  {
   "cell_type": "code",
   "execution_count": 64,
   "metadata": {
    "collapsed": false
   },
   "outputs": [
    {
     "name": "stdout",
     "output_type": "stream",
     "text": [
      "0 0.566323666978 0.24577328172\n",
      "1 0.555338541667 0.247616697428\n",
      "2 0.583486238532 0.245123728697\n",
      "3 0.576039119804 0.247049505045\n",
      "4 0.607766990291 0.244977600068\n",
      "5 0.602991452991 0.242964674128\n",
      "6 0.591011235955 0.243354428581\n",
      "7 0.59197080292 0.242362742609\n",
      "8 0.555769230769 0.245251096451\n",
      "9 0.594936708861 0.241560101093\n",
      "10 0.650847457627 0.239412806878\n"
     ]
    }
   ],
   "source": [
    "from sklearn.linear_model import LogisticRegression\n",
    "\n",
    "m_accuracy = []\n",
    "for m in range(0, 16):\n",
    "     g = data[(data.NumPreviousFights_1 >= m) & (data.NumPreviousFights_2 >= m)]\n",
    "\n",
    "     X = g.WinRatioDiff.values.reshape(-1, 1)\n",
    "     y = g.Classes.values\n",
    "     stdsc = StandardScaler()\n",
    "     StatifiedCV = StratifiedKFold(n_splits=10, shuffle=True)\n",
    "     param_grid = dict(C=np.logspace(-4, 1, base=10, num=25), penalty=['l1', 'l2'])\n",
    "     test_accuracies = []\n",
    "     brier_accuracies = []\n",
    "     for i in range(10):\n",
    "          X_train, X_test, y_train, y_test = train_test_split(X, y, test_size=0.3, random_state=i)\n",
    "          clf = LogisticRegression()\n",
    "          grid = GridSearchCV(clf, param_grid, cv=StatifiedCV, scoring='accuracy', refit=True)\n",
    "          X_std = stdsc.fit_transform(X_train)\n",
    "          grid.fit(X_std, y_train)\n",
    "          # predict test labels\n",
    "          y_test_pred = grid.predict(stdsc.transform(X_test))\n",
    "          test_accuracy = metrics.accuracy_score(y_test_pred, y_test)\n",
    "          test_accuracies.append(test_accuracy)\n",
    "          y_test_proba = grid.predict_proba(stdsc.transform(X_test))[:,1]\n",
    "          brier_score = metrics.brier_score_loss(y_true=y_test, y_prob=y_test_proba)\n",
    "          brier_accuracies.append(brier_score)\n",
    "     print m, g.shape[0], np.array(test_accuracies).mean(), np.array(brier_accuracies).mean()\n",
    "     m_accuracy.append((m, g.shape[0], np.array(test_accuracies).mean(), np.array(brier_accuracies).mean()))"
   ]
  },
  {
   "cell_type": "code",
   "execution_count": 44,
   "metadata": {
    "collapsed": false
   },
   "outputs": [
    {
     "data": {
      "text/plain": [
       "(9.4135366657251374e-05, 0.017760152489205882)"
      ]
     },
     "execution_count": 44,
     "metadata": {},
     "output_type": "execute_result"
    }
   ],
   "source": [
    "w0 = grid.best_estimator_.intercept_[0]\n",
    "w1 = grid.best_estimator_.coef_[0][0]\n",
    "w0, w1"
   ]
  },
  {
   "cell_type": "code",
   "execution_count": 45,
   "metadata": {
    "collapsed": false
   },
   "outputs": [
    {
     "data": {
      "text/plain": [
       "<matplotlib.text.Text at 0x115997a50>"
      ]
     },
     "execution_count": 45,
     "metadata": {},
     "output_type": "execute_result"
    },
    {
     "data": {
      "image/png": "[encoded data removed]",
      "text/plain": [
       "<matplotlib.figure.Figure at 0x11410e790>"
      ]
     },
     "metadata": {},
     "output_type": "display_data"
    }
   ],
   "source": [
    "from scipy.stats import norm\n",
    "dw = np.linspace(-8, 8)\n",
    "plt.scatter(stdsc.transform(data.WinRatioDiff.values.reshape(-1, 1)), data.Classes.values+norm.rvs(scale=0.02, size=y.size), s=1)\n",
    "plt.plot(dw, 1.0 / (1.0 + np.exp(-w0 - w1 * dw)))\n",
    "plt.xlabel('Standardized Win Ratio 1 - Win Ratio 2')\n",
    "plt.ylabel('Probability of Fighter 1 Winning')"
   ]
  },
  {
   "cell_type": "markdown",
   "metadata": {},
   "source": [
    "The transition from 0 to 1 is:"
   ]
  },
  {
   "cell_type": "code",
   "execution_count": 46,
   "metadata": {
    "collapsed": false
   },
   "outputs": [
    {
     "data": {
      "text/plain": [
       "-0.0053003692797381208"
      ]
     },
     "execution_count": 46,
     "metadata": {},
     "output_type": "execute_result"
    }
   ],
   "source": [
    "-w0/w1"
   ]
  },
  {
   "cell_type": "markdown",
   "metadata": {},
   "source": [
    "# Statsmodels"
   ]
  },
  {
   "cell_type": "markdown",
   "metadata": {},
   "source": [
    "Below we use Statsmodels to perform the fit so that we can see the p-values:"
   ]
  },
  {
   "cell_type": "code",
   "execution_count": 47,
   "metadata": {
    "collapsed": false
   },
   "outputs": [
    {
     "name": "stdout",
     "output_type": "stream",
     "text": [
      "Optimization terminated successfully.    (Exit mode 0)\n",
      "            Current function value: 0.682831809366\n",
      "            Iterations: 14\n",
      "            Function evaluations: 14\n",
      "            Gradient evaluations: 14\n",
      "                           Logit Regression Results                           \n",
      "==============================================================================\n",
      "Dep. Variable:                      y   No. Observations:                 3561\n",
      "Model:                          Logit   Df Residuals:                     3559\n",
      "Method:                           MLE   Df Model:                            1\n",
      "Date:                Wed, 19 Apr 2017   Pseudo R-squ.:                 0.01779\n",
      "Time:                        19:24:09   Log-Likelihood:                -2424.1\n",
      "converged:                       True   LL-Null:                       -2468.1\n",
      "                                        LLR p-value:                 7.130e-21\n",
      "==============================================================================\n",
      "                 coef    std err          z      P>|z|      [95.0% Conf. Int.]\n",
      "------------------------------------------------------------------------------\n",
      "const         -0.0049      0.034     -0.144      0.885        -0.071     0.061\n",
      "x1             0.7369      0.088      8.408      0.000         0.565     0.909\n",
      "==============================================================================\n"
     ]
    }
   ],
   "source": [
    "import statsmodels.api as sm\n",
    "from statsmodels import discrete\n",
    "\n",
    "#X = data[['WinRatioDiff', 'NumPreviousFights_1', 'NumPreviousFights_2']].values\n",
    "X = data.WinRatioDiff.values.reshape(-1, 1)\n",
    "y = data.Classes.values\n",
    "stdsc = StandardScaler()\n",
    "X_std = stdsc.fit_transform(X)\n",
    "\n",
    "X = sm.add_constant(X)\n",
    "logit_model = discrete.discrete_model.Logit(y, X, missing='none')\n",
    "result = logit_model.fit_regularized(method='l1', alpha=10.0)\n",
    "print result.summary()"
   ]
  },
  {
   "cell_type": "code",
   "execution_count": 48,
   "metadata": {
    "collapsed": false
   },
   "outputs": [],
   "source": [
    "v = np.vectorize(round)\n",
    "y_pred = v(1.0 / (1.0 + np.exp(-X_std*0.2853))).flatten()"
   ]
  },
  {
   "cell_type": "code",
   "execution_count": 49,
   "metadata": {
    "collapsed": false
   },
   "outputs": [
    {
     "data": {
      "text/plain": [
       "0.56809884863802307"
      ]
     },
     "execution_count": 49,
     "metadata": {},
     "output_type": "execute_result"
    }
   ],
   "source": [
    "metrics.accuracy_score(y, y_pred)"
   ]
  },
  {
   "cell_type": "markdown",
   "metadata": {},
   "source": [
    "### Try fitting idealized data"
   ]
  },
  {
   "cell_type": "code",
   "execution_count": 50,
   "metadata": {
    "collapsed": false
   },
   "outputs": [],
   "source": [
    "x = np.linspace(0, 1)\n",
    "y = v(x)"
   ]
  },
  {
   "cell_type": "code",
   "execution_count": 51,
   "metadata": {
    "collapsed": false
   },
   "outputs": [],
   "source": [
    "x = x + norm.rvs(loc=0, scale=0.1, size=x.size)"
   ]
  },
  {
   "cell_type": "code",
   "execution_count": 52,
   "metadata": {
    "collapsed": false
   },
   "outputs": [
    {
     "data": {
      "text/plain": [
       "<matplotlib.collections.PathCollection at 0x1163fdf50>"
      ]
     },
     "execution_count": 52,
     "metadata": {},
     "output_type": "execute_result"
    },
    {
     "data": {
      "image/png": "[encoded data removed]",
      "text/plain": [
       "<matplotlib.figure.Figure at 0x11592ead0>"
      ]
     },
     "metadata": {},
     "output_type": "display_data"
    }
   ],
   "source": [
    "plt.scatter(x, y)"
   ]
  },
  {
   "cell_type": "code",
   "execution_count": 53,
   "metadata": {
    "collapsed": false
   },
   "outputs": [
    {
     "data": {
      "text/plain": [
       "GridSearchCV(cv=10, error_score='raise',\n",
       "       estimator=LogisticRegression(C=1.0, class_weight=None, dual=False, fit_intercept=True,\n",
       "          intercept_scaling=1, max_iter=100, multi_class='ovr', n_jobs=1,\n",
       "          penalty='l2', random_state=None, solver='liblinear', tol=0.0001,\n",
       "          verbose=0, warm_start=False),\n",
       "       fit_params={}, iid=True, n_jobs=1,\n",
       "       param_grid={'penalty': ['l1', 'l2'], 'C': array([  1.00000e-04,   1.61560e-04,   2.61016e-04,   4.21697e-04,\n",
       "         6.81292e-04,   1.10069e-03,   1.77828e-03,   2.87298e-03,\n",
       "         4.64159e-03,   7.49894e-03,   1.21153e-02,   1.95734e-02,\n",
       "         3.16228e-02,   5.10897e-02,   8.25404e-02,   1.33352e-01,\n",
       "         2.15443e-01,   3.48070e-01,   5.62341e-01,   9.08518e-01,\n",
       "         1.46780e+00,   2.37137e+00,   3.83119e+00,   6.18966e+00,\n",
       "         1.00000e+01])},\n",
       "       pre_dispatch='2*n_jobs', refit=True, return_train_score=True,\n",
       "       scoring='accuracy', verbose=0)"
      ]
     },
     "execution_count": 53,
     "metadata": {},
     "output_type": "execute_result"
    }
   ],
   "source": [
    "clf = LogisticRegression()\n",
    "grid = GridSearchCV(clf, param_grid, cv=10, scoring='accuracy', refit=True)\n",
    "grid.fit(x.reshape(-1, 1), y)"
   ]
  },
  {
   "cell_type": "code",
   "execution_count": 54,
   "metadata": {
    "collapsed": false
   },
   "outputs": [
    {
     "data": {
      "text/plain": [
       "1.3703281400925573"
      ]
     },
     "execution_count": 54,
     "metadata": {},
     "output_type": "execute_result"
    }
   ],
   "source": [
    "w1 = grid.best_estimator_.coef_[0][0]\n",
    "w1"
   ]
  },
  {
   "cell_type": "code",
   "execution_count": 55,
   "metadata": {
    "collapsed": false
   },
   "outputs": [
    {
     "data": {
      "text/plain": [
       "-0.51425580470306198"
      ]
     },
     "execution_count": 55,
     "metadata": {},
     "output_type": "execute_result"
    }
   ],
   "source": [
    "w0 = grid.best_estimator_.intercept_[0]\n",
    "w0"
   ]
  },
  {
   "cell_type": "code",
   "execution_count": 56,
   "metadata": {
    "collapsed": false
   },
   "outputs": [
    {
     "data": {
      "text/plain": [
       "[<matplotlib.lines.Line2D at 0x116488e50>]"
      ]
     },
     "execution_count": 56,
     "metadata": {},
     "output_type": "execute_result"
    },
    {
     "data": {
      "image/png": "[encoded data removed]",
      "text/plain": [
       "<matplotlib.figure.Figure at 0x116488b90>"
      ]
     },
     "metadata": {},
     "output_type": "display_data"
    }
   ],
   "source": [
    "z = np.linspace(-0.5, 1.5)\n",
    "plt.scatter(x, y)\n",
    "plt.plot(z, 1.0 / (1 + np.exp(-w0 -w1*z)))"
   ]
  },
  {
   "cell_type": "code",
   "execution_count": 57,
   "metadata": {
    "collapsed": false
   },
   "outputs": [
    {
     "data": {
      "text/plain": [
       "0.37527931424390593"
      ]
     },
     "execution_count": 57,
     "metadata": {},
     "output_type": "execute_result"
    }
   ],
   "source": [
    "-w0/w1"
   ]
  },
  {
   "cell_type": "markdown",
   "metadata": {},
   "source": [
    "### Another example"
   ]
  },
  {
   "cell_type": "code",
   "execution_count": 58,
   "metadata": {
    "collapsed": false
   },
   "outputs": [
    {
     "data": {
      "text/plain": [
       "[<matplotlib.lines.Line2D at 0x116630290>]"
      ]
     },
     "execution_count": 58,
     "metadata": {},
     "output_type": "execute_result"
    },
    {
     "data": {
      "image/png": "[encoded data removed]",
      "text/plain": [
       "<matplotlib.figure.Figure at 0x11592e050>"
      ]
     },
     "metadata": {},
     "output_type": "display_data"
    }
   ],
   "source": [
    "x = np.linspace(0, 1, num=50)\n",
    "y = 0.5 * (np.tanh(6*x - 3) + 1) + norm.rvs(scale=0.05, size=x.size)\n",
    "plt.plot(x, y)"
   ]
  },
  {
   "cell_type": "code",
   "execution_count": 59,
   "metadata": {
    "collapsed": false
   },
   "outputs": [],
   "source": [
    "y = v(y)"
   ]
  },
  {
   "cell_type": "code",
   "execution_count": 60,
   "metadata": {
    "collapsed": false
   },
   "outputs": [
    {
     "data": {
      "text/plain": [
       "GridSearchCV(cv=10, error_score='raise',\n",
       "       estimator=LogisticRegression(C=1.0, class_weight=None, dual=False, fit_intercept=True,\n",
       "          intercept_scaling=1, max_iter=100, multi_class='ovr', n_jobs=1,\n",
       "          penalty='l2', random_state=None, solver='liblinear', tol=0.0001,\n",
       "          verbose=0, warm_start=False),\n",
       "       fit_params={}, iid=True, n_jobs=1,\n",
       "       param_grid={'penalty': ['l1', 'l2'], 'C': array([  1.00000e-04,   1.61560e-04,   2.61016e-04,   4.21697e-04,\n",
       "         6.81292e-04,   1.10069e-03,   1.77828e-03,   2.87298e-03,\n",
       "         4.64159e-03,   7.49894e-03,   1.21153e-02,   1.95734e-02,\n",
       "         3.16228e-02,   5.10897e-02,   8.25404e-02,   1.33352e-01,\n",
       "         2.15443e-01,   3.48070e-01,   5.62341e-01,   9.08518e-01,\n",
       "         1.46780e+00,   2.37137e+00,   3.83119e+00,   6.18966e+00,\n",
       "         1.00000e+01])},\n",
       "       pre_dispatch='2*n_jobs', refit=True, return_train_score=True,\n",
       "       scoring='accuracy', verbose=0)"
      ]
     },
     "execution_count": 60,
     "metadata": {},
     "output_type": "execute_result"
    }
   ],
   "source": [
    "clf = LogisticRegression()\n",
    "grid = GridSearchCV(clf, param_grid, cv=10, scoring='accuracy', refit=True)\n",
    "grid.fit(x.reshape(-1, 1), y)"
   ]
  },
  {
   "cell_type": "code",
   "execution_count": 61,
   "metadata": {
    "collapsed": false
   },
   "outputs": [
    {
     "data": {
      "text/plain": [
       "(-2.9693025073184316, 6.2434273801515392)"
      ]
     },
     "execution_count": 61,
     "metadata": {},
     "output_type": "execute_result"
    }
   ],
   "source": [
    "w0 = grid.best_estimator_.intercept_[0]\n",
    "w1 = grid.best_estimator_.coef_[0][0]\n",
    "w0, w1"
   ]
  },
  {
   "cell_type": "code",
   "execution_count": 62,
   "metadata": {
    "collapsed": false
   },
   "outputs": [
    {
     "data": {
      "text/plain": [
       "[<matplotlib.lines.Line2D at 0x1166493d0>]"
      ]
     },
     "execution_count": 62,
     "metadata": {},
     "output_type": "execute_result"
    },
    {
     "data": {
      "image/png": "[encoded data removed]",
      "text/plain": [
       "<matplotlib.figure.Figure at 0x116649fd0>"
      ]
     },
     "metadata": {},
     "output_type": "display_data"
    }
   ],
   "source": [
    "z = np.linspace(-0.5, 1.5)\n",
    "plt.scatter(x, y)\n",
    "plt.plot(z, 1.0 / (1 + np.exp(-w0 -w1*z)))"
   ]
  },
  {
   "cell_type": "markdown",
   "metadata": {},
   "source": [
    "The transition from predicting 0 to 1 occurs at:"
   ]
  },
  {
   "cell_type": "code",
   "execution_count": 63,
   "metadata": {
    "collapsed": false
   },
   "outputs": [
    {
     "data": {
      "text/plain": [
       "0.47558853919853894"
      ]
     },
     "execution_count": 63,
     "metadata": {},
     "output_type": "execute_result"
    }
   ],
   "source": [
    "-w0/w1"
   ]
  }
 ],
 "metadata": {
  "anaconda-cloud": {},
  "kernelspec": {
   "display_name": "Python [conda root]",
   "language": "python",
   "name": "conda-root-py"
  },
  "language_info": {
   "codemirror_mode": {
    "name": "ipython",
    "version": 2
   },
   "file_extension": ".py",
   "mimetype": "text/x-python",
   "name": "python",
   "nbconvert_exporter": "python",
   "pygments_lexer": "ipython2",
   "version": "2.7.12"
  }
 },
 "nbformat": 4,
 "nbformat_minor": 1
}
