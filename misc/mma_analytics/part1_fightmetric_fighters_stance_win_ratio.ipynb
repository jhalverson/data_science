{
 "cells": [
  {
   "cell_type": "markdown",
   "metadata": {},
   "source": [
    "# Jonathan Halverson\n",
    "# Tuesday, February 14, 2017\n",
    "# Part 1: Overview of the fighter table"
   ]
  },
  {
   "cell_type": "markdown",
   "metadata": {},
   "source": [
    "In this notebook we inspect the figher data scraped from FightMetric.com.\n",
    "\n",
    "Note that the fighter records include non-UFC fights. Some fighters have more losses than wins. Some fighters do not have all their professional MMA fights included in their records. Some never fought in the UFC. We avoid detailed analysis of weight because fighters often change weight class and it is not known what their weight was for each fighter."
   ]
  },
  {
   "cell_type": "code",
   "execution_count": 1,
   "metadata": {
    "collapsed": true
   },
   "outputs": [],
   "source": [
    "import numpy as np\n",
    "import pandas as pd\n",
    "import matplotlib.pyplot as plt\n",
    "plt.style.use('halverson')\n",
    "%matplotlib inline"
   ]
  },
  {
   "cell_type": "code",
   "execution_count": 2,
   "metadata": {
    "collapsed": false,
    "scrolled": false
   },
   "outputs": [
    {
     "data": {
      "text/html": [
       "<div>\n",
       "<table border=\"1\" class=\"dataframe\">\n",
       "  <thead>\n",
       "    <tr style=\"text-align: right;\">\n",
       "      <th></th>\n",
       "      <th>Name</th>\n",
       "      <th>Nickname</th>\n",
       "      <th>Dob</th>\n",
       "      <th>Age</th>\n",
       "      <th>Weight</th>\n",
       "      <th>Height</th>\n",
       "      <th>Reach</th>\n",
       "      <th>Stance</th>\n",
       "      <th>Win</th>\n",
       "      <th>Loss</th>\n",
       "      <th>Draw</th>\n",
       "    </tr>\n",
       "  </thead>\n",
       "  <tbody>\n",
       "    <tr>\n",
       "      <th>0</th>\n",
       "      <td>Tom Aaron</td>\n",
       "      <td>NaN</td>\n",
       "      <td>1978-07-13</td>\n",
       "      <td>38.6</td>\n",
       "      <td>155.0</td>\n",
       "      <td>NaN</td>\n",
       "      <td>NaN</td>\n",
       "      <td>NaN</td>\n",
       "      <td>5.0</td>\n",
       "      <td>3.0</td>\n",
       "      <td>0.0</td>\n",
       "    </tr>\n",
       "    <tr>\n",
       "      <th>1</th>\n",
       "      <td>Danny Abbadi</td>\n",
       "      <td>The Assassin</td>\n",
       "      <td>1983-07-03</td>\n",
       "      <td>33.7</td>\n",
       "      <td>155.0</td>\n",
       "      <td>71.0</td>\n",
       "      <td>NaN</td>\n",
       "      <td>Orthodox</td>\n",
       "      <td>4.0</td>\n",
       "      <td>6.0</td>\n",
       "      <td>0.0</td>\n",
       "    </tr>\n",
       "    <tr>\n",
       "      <th>2</th>\n",
       "      <td>David Abbott</td>\n",
       "      <td>Tank</td>\n",
       "      <td>NaT</td>\n",
       "      <td>NaN</td>\n",
       "      <td>265.0</td>\n",
       "      <td>72.0</td>\n",
       "      <td>NaN</td>\n",
       "      <td>Switch</td>\n",
       "      <td>10.0</td>\n",
       "      <td>14.0</td>\n",
       "      <td>0.0</td>\n",
       "    </tr>\n",
       "    <tr>\n",
       "      <th>3</th>\n",
       "      <td>Shamil Abdurakhimov</td>\n",
       "      <td>Abrek</td>\n",
       "      <td>1981-09-02</td>\n",
       "      <td>35.5</td>\n",
       "      <td>235.0</td>\n",
       "      <td>75.0</td>\n",
       "      <td>76.0</td>\n",
       "      <td>Orthodox</td>\n",
       "      <td>16.0</td>\n",
       "      <td>4.0</td>\n",
       "      <td>0.0</td>\n",
       "    </tr>\n",
       "    <tr>\n",
       "      <th>4</th>\n",
       "      <td>Hiroyuki Abe</td>\n",
       "      <td>Abe Ani</td>\n",
       "      <td>NaT</td>\n",
       "      <td>NaN</td>\n",
       "      <td>145.0</td>\n",
       "      <td>66.0</td>\n",
       "      <td>NaN</td>\n",
       "      <td>Orthodox</td>\n",
       "      <td>8.0</td>\n",
       "      <td>14.0</td>\n",
       "      <td>3.0</td>\n",
       "    </tr>\n",
       "    <tr>\n",
       "      <th>5</th>\n",
       "      <td>Papy Abedi</td>\n",
       "      <td>Makambo</td>\n",
       "      <td>1978-06-30</td>\n",
       "      <td>38.7</td>\n",
       "      <td>185.0</td>\n",
       "      <td>71.0</td>\n",
       "      <td>74.0</td>\n",
       "      <td>Southpaw</td>\n",
       "      <td>9.0</td>\n",
       "      <td>3.0</td>\n",
       "      <td>0.0</td>\n",
       "    </tr>\n",
       "    <tr>\n",
       "      <th>6</th>\n",
       "      <td>Ricardo Abreu</td>\n",
       "      <td>Demente</td>\n",
       "      <td>1984-04-27</td>\n",
       "      <td>32.9</td>\n",
       "      <td>185.0</td>\n",
       "      <td>71.0</td>\n",
       "      <td>73.0</td>\n",
       "      <td>Orthodox</td>\n",
       "      <td>5.0</td>\n",
       "      <td>3.0</td>\n",
       "      <td>0.0</td>\n",
       "    </tr>\n",
       "    <tr>\n",
       "      <th>7</th>\n",
       "      <td>Daniel Acacio</td>\n",
       "      <td>NaN</td>\n",
       "      <td>1977-12-27</td>\n",
       "      <td>39.2</td>\n",
       "      <td>180.0</td>\n",
       "      <td>68.0</td>\n",
       "      <td>NaN</td>\n",
       "      <td>Orthodox</td>\n",
       "      <td>26.0</td>\n",
       "      <td>12.0</td>\n",
       "      <td>0.0</td>\n",
       "    </tr>\n",
       "    <tr>\n",
       "      <th>8</th>\n",
       "      <td>Scott Adams</td>\n",
       "      <td>NaN</td>\n",
       "      <td>NaT</td>\n",
       "      <td>NaN</td>\n",
       "      <td>225.0</td>\n",
       "      <td>72.0</td>\n",
       "      <td>NaN</td>\n",
       "      <td>Southpaw</td>\n",
       "      <td>8.0</td>\n",
       "      <td>1.0</td>\n",
       "      <td>0.0</td>\n",
       "    </tr>\n",
       "    <tr>\n",
       "      <th>9</th>\n",
       "      <td>Sam Adkins</td>\n",
       "      <td>The Experience</td>\n",
       "      <td>1965-04-26</td>\n",
       "      <td>51.9</td>\n",
       "      <td>225.0</td>\n",
       "      <td>75.0</td>\n",
       "      <td>NaN</td>\n",
       "      <td>Orthodox</td>\n",
       "      <td>7.0</td>\n",
       "      <td>20.0</td>\n",
       "      <td>2.0</td>\n",
       "    </tr>\n",
       "  </tbody>\n",
       "</table>\n",
       "</div>"
      ],
      "text/plain": [
       "                  Name        Nickname        Dob   Age  Weight  Height  \\\n",
       "0            Tom Aaron             NaN 1978-07-13  38.6   155.0     NaN   \n",
       "1         Danny Abbadi    The Assassin 1983-07-03  33.7   155.0    71.0   \n",
       "2         David Abbott            Tank        NaT   NaN   265.0    72.0   \n",
       "3  Shamil Abdurakhimov           Abrek 1981-09-02  35.5   235.0    75.0   \n",
       "4         Hiroyuki Abe         Abe Ani        NaT   NaN   145.0    66.0   \n",
       "5           Papy Abedi         Makambo 1978-06-30  38.7   185.0    71.0   \n",
       "6        Ricardo Abreu         Demente 1984-04-27  32.9   185.0    71.0   \n",
       "7        Daniel Acacio             NaN 1977-12-27  39.2   180.0    68.0   \n",
       "8          Scott Adams             NaN        NaT   NaN   225.0    72.0   \n",
       "9           Sam Adkins  The Experience 1965-04-26  51.9   225.0    75.0   \n",
       "\n",
       "   Reach    Stance   Win  Loss  Draw  \n",
       "0    NaN       NaN   5.0   3.0   0.0  \n",
       "1    NaN  Orthodox   4.0   6.0   0.0  \n",
       "2    NaN    Switch  10.0  14.0   0.0  \n",
       "3   76.0  Orthodox  16.0   4.0   0.0  \n",
       "4    NaN  Orthodox   8.0  14.0   3.0  \n",
       "5   74.0  Southpaw   9.0   3.0   0.0  \n",
       "6   73.0  Orthodox   5.0   3.0   0.0  \n",
       "7    NaN  Orthodox  26.0  12.0   0.0  \n",
       "8    NaN  Southpaw   8.0   1.0   0.0  \n",
       "9    NaN  Orthodox   7.0  20.0   2.0  "
      ]
     },
     "execution_count": 2,
     "metadata": {},
     "output_type": "execute_result"
    }
   ],
   "source": [
    "df = pd.read_csv('data/fightmetric_fighters/fightmetric_fighters_CLEAN_3-6-2017.csv', header=0, parse_dates=['Dob'])\n",
    "df['Age'] = (pd.to_datetime('today') - df.Dob) / np.timedelta64(1, 'Y')\n",
    "df.Age = df.Age.apply(lambda x: round(x, 1))\n",
    "#pd.set_option('display.max_rows', 3000)\n",
    "df.head(10)"
   ]
  },
  {
   "cell_type": "markdown",
   "metadata": {},
   "source": [
    "### What are the data types and number of non-null values for each column?"
   ]
  },
  {
   "cell_type": "code",
   "execution_count": 3,
   "metadata": {
    "collapsed": false
   },
   "outputs": [
    {
     "name": "stdout",
     "output_type": "stream",
     "text": [
      "<class 'pandas.core.frame.DataFrame'>\n",
      "RangeIndex: 2832 entries, 0 to 2831\n",
      "Data columns (total 11 columns):\n",
      "Name        2832 non-null object\n",
      "Nickname    1447 non-null object\n",
      "Dob         2106 non-null datetime64[ns]\n",
      "Age         2106 non-null float64\n",
      "Weight      2757 non-null float64\n",
      "Height      2573 non-null float64\n",
      "Reach       1207 non-null float64\n",
      "Stance      2021 non-null object\n",
      "Win         2832 non-null float64\n",
      "Loss        2832 non-null float64\n",
      "Draw        2831 non-null float64\n",
      "dtypes: datetime64[ns](1), float64(7), object(3)\n",
      "memory usage: 243.4+ KB\n"
     ]
    }
   ],
   "source": [
    "df.info()"
   ]
  },
  {
   "cell_type": "markdown",
   "metadata": {},
   "source": [
    "### How many fighters are in the database?"
   ]
  },
  {
   "cell_type": "code",
   "execution_count": 4,
   "metadata": {
    "collapsed": false
   },
   "outputs": [
    {
     "data": {
      "text/plain": [
       "2832"
      ]
     },
     "execution_count": 4,
     "metadata": {},
     "output_type": "execute_result"
    }
   ],
   "source": [
    "df.shape[0]"
   ]
  },
  {
   "cell_type": "markdown",
   "metadata": {},
   "source": [
    "### What are the min and max values of the numerical columns?"
   ]
  },
  {
   "cell_type": "code",
   "execution_count": 5,
   "metadata": {
    "collapsed": false
   },
   "outputs": [
    {
     "data": {
      "text/html": [
       "<div>\n",
       "<table border=\"1\" class=\"dataframe\">\n",
       "  <thead>\n",
       "    <tr style=\"text-align: right;\">\n",
       "      <th></th>\n",
       "      <th>Age</th>\n",
       "      <th>Weight</th>\n",
       "      <th>Height</th>\n",
       "      <th>Reach</th>\n",
       "      <th>Win</th>\n",
       "      <th>Loss</th>\n",
       "      <th>Draw</th>\n",
       "    </tr>\n",
       "  </thead>\n",
       "  <tbody>\n",
       "    <tr>\n",
       "      <th>count</th>\n",
       "      <td>2106.00</td>\n",
       "      <td>2757.00</td>\n",
       "      <td>2573.00</td>\n",
       "      <td>1207.00</td>\n",
       "      <td>2832.00</td>\n",
       "      <td>2832.00</td>\n",
       "      <td>2831.00</td>\n",
       "    </tr>\n",
       "    <tr>\n",
       "      <th>mean</th>\n",
       "      <td>35.41</td>\n",
       "      <td>176.14</td>\n",
       "      <td>70.50</td>\n",
       "      <td>71.88</td>\n",
       "      <td>11.38</td>\n",
       "      <td>5.25</td>\n",
       "      <td>0.31</td>\n",
       "    </tr>\n",
       "    <tr>\n",
       "      <th>std</th>\n",
       "      <td>6.38</td>\n",
       "      <td>40.42</td>\n",
       "      <td>3.36</td>\n",
       "      <td>4.02</td>\n",
       "      <td>9.16</td>\n",
       "      <td>4.82</td>\n",
       "      <td>0.90</td>\n",
       "    </tr>\n",
       "    <tr>\n",
       "      <th>min</th>\n",
       "      <td>20.90</td>\n",
       "      <td>105.00</td>\n",
       "      <td>60.00</td>\n",
       "      <td>60.00</td>\n",
       "      <td>0.00</td>\n",
       "      <td>0.00</td>\n",
       "      <td>0.00</td>\n",
       "    </tr>\n",
       "    <tr>\n",
       "      <th>25%</th>\n",
       "      <td>30.80</td>\n",
       "      <td>149.00</td>\n",
       "      <td>68.00</td>\n",
       "      <td>69.00</td>\n",
       "      <td>5.00</td>\n",
       "      <td>2.00</td>\n",
       "      <td>0.00</td>\n",
       "    </tr>\n",
       "    <tr>\n",
       "      <th>50%</th>\n",
       "      <td>34.60</td>\n",
       "      <td>170.00</td>\n",
       "      <td>71.00</td>\n",
       "      <td>72.00</td>\n",
       "      <td>10.00</td>\n",
       "      <td>4.00</td>\n",
       "      <td>0.00</td>\n",
       "    </tr>\n",
       "    <tr>\n",
       "      <th>75%</th>\n",
       "      <td>39.10</td>\n",
       "      <td>195.00</td>\n",
       "      <td>73.00</td>\n",
       "      <td>75.00</td>\n",
       "      <td>16.00</td>\n",
       "      <td>7.00</td>\n",
       "      <td>0.00</td>\n",
       "    </tr>\n",
       "    <tr>\n",
       "      <th>max</th>\n",
       "      <td>74.10</td>\n",
       "      <td>770.00</td>\n",
       "      <td>89.00</td>\n",
       "      <td>84.00</td>\n",
       "      <td>127.00</td>\n",
       "      <td>74.00</td>\n",
       "      <td>11.00</td>\n",
       "    </tr>\n",
       "  </tbody>\n",
       "</table>\n",
       "</div>"
      ],
      "text/plain": [
       "           Age   Weight   Height    Reach      Win     Loss     Draw\n",
       "count  2106.00  2757.00  2573.00  1207.00  2832.00  2832.00  2831.00\n",
       "mean     35.41   176.14    70.50    71.88    11.38     5.25     0.31\n",
       "std       6.38    40.42     3.36     4.02     9.16     4.82     0.90\n",
       "min      20.90   105.00    60.00    60.00     0.00     0.00     0.00\n",
       "25%      30.80   149.00    68.00    69.00     5.00     2.00     0.00\n",
       "50%      34.60   170.00    71.00    72.00    10.00     4.00     0.00\n",
       "75%      39.10   195.00    73.00    75.00    16.00     7.00     0.00\n",
       "max      74.10   770.00    89.00    84.00   127.00    74.00    11.00"
      ]
     },
     "execution_count": 5,
     "metadata": {},
     "output_type": "execute_result"
    }
   ],
   "source": [
    "df.describe().applymap(lambda x: round(x, 2))"
   ]
  },
  {
   "cell_type": "markdown",
   "metadata": {},
   "source": [
    "### What are the oldest and youngest birthdays?"
   ]
  },
  {
   "cell_type": "code",
   "execution_count": 6,
   "metadata": {
    "collapsed": false
   },
   "outputs": [
    {
     "data": {
      "text/plain": [
       "(Timestamp('1943-01-25 00:00:00'), Timestamp('1996-04-21 00:00:00'))"
      ]
     },
     "execution_count": 6,
     "metadata": {},
     "output_type": "execute_result"
    }
   ],
   "source": [
    "min(df.Dob), max(df.Dob)"
   ]
  },
  {
   "cell_type": "markdown",
   "metadata": {},
   "source": [
    "### What are the most common birthdays?"
   ]
  },
  {
   "cell_type": "code",
   "execution_count": 7,
   "metadata": {
    "collapsed": false
   },
   "outputs": [
    {
     "data": {
      "text/plain": [
       "(7, 14)    17\n",
       "(7, 16)    17\n",
       "(8, 4)     16\n",
       "(9, 22)    15\n",
       "(8, 24)    12\n",
       "Name: Dob, dtype: int64"
      ]
     },
     "execution_count": 7,
     "metadata": {},
     "output_type": "execute_result"
    }
   ],
   "source": [
    "df[pd.notnull(df.Dob)].Dob.apply(lambda x: (x.month, x.day)).value_counts()[:5]"
   ]
  },
  {
   "cell_type": "markdown",
   "metadata": {},
   "source": [
    "### Any leap-year birthdays?"
   ]
  },
  {
   "cell_type": "code",
   "execution_count": 8,
   "metadata": {
    "collapsed": false
   },
   "outputs": [
    {
     "data": {
      "text/html": [
       "<div>\n",
       "<table border=\"1\" class=\"dataframe\">\n",
       "  <thead>\n",
       "    <tr style=\"text-align: right;\">\n",
       "      <th></th>\n",
       "      <th>Name</th>\n",
       "      <th>Nickname</th>\n",
       "      <th>Dob</th>\n",
       "      <th>Age</th>\n",
       "      <th>Weight</th>\n",
       "      <th>Height</th>\n",
       "      <th>Reach</th>\n",
       "      <th>Stance</th>\n",
       "      <th>Win</th>\n",
       "      <th>Loss</th>\n",
       "      <th>Draw</th>\n",
       "    </tr>\n",
       "  </thead>\n",
       "  <tbody>\n",
       "    <tr>\n",
       "      <th>487</th>\n",
       "      <td>Patrick Cote</td>\n",
       "      <td>The Predator</td>\n",
       "      <td>1980-02-29</td>\n",
       "      <td>37.0</td>\n",
       "      <td>170.0</td>\n",
       "      <td>71.0</td>\n",
       "      <td>71.0</td>\n",
       "      <td>Orthodox</td>\n",
       "      <td>24.0</td>\n",
       "      <td>10.0</td>\n",
       "      <td>0.0</td>\n",
       "    </tr>\n",
       "  </tbody>\n",
       "</table>\n",
       "</div>"
      ],
      "text/plain": [
       "             Name      Nickname        Dob   Age  Weight  Height  Reach  \\\n",
       "487  Patrick Cote  The Predator 1980-02-29  37.0   170.0    71.0   71.0   \n",
       "\n",
       "       Stance   Win  Loss  Draw  \n",
       "487  Orthodox  24.0  10.0   0.0  "
      ]
     },
     "execution_count": 8,
     "metadata": {},
     "output_type": "execute_result"
    }
   ],
   "source": [
    "df[(df.Dob.dt.month == 2) & (df.Dob.dt.day == 29)]"
   ]
  },
  {
   "cell_type": "markdown",
   "metadata": {},
   "source": [
    "### How many fighters were born in each month?"
   ]
  },
  {
   "cell_type": "code",
   "execution_count": 9,
   "metadata": {
    "collapsed": false
   },
   "outputs": [
    {
     "data": {
      "text/plain": [
       "<matplotlib.text.Text at 0x10e7919d0>"
      ]
     },
     "execution_count": 9,
     "metadata": {},
     "output_type": "execute_result"
    },
    {
     "data": {
      "image/png": "[encoded data removed]",
      "text/plain": [
       "<matplotlib.figure.Figure at 0x10e6a15d0>"
      ]
     },
     "metadata": {},
     "output_type": "display_data"
    }
   ],
   "source": [
    "bd_counts = df[pd.notnull(df.Dob)].Dob.dt.month.value_counts()\n",
    "plt.bar(bd_counts.index, bd_counts.values, align='center')\n",
    "plt.xlim(0, 13)\n",
    "plt.xlabel('Month of Year')\n",
    "plt.ylabel('Count')"
   ]
  },
  {
   "cell_type": "markdown",
   "metadata": {},
   "source": [
    "### Who are the 5 youngest fighters?"
   ]
  },
  {
   "cell_type": "code",
   "execution_count": 10,
   "metadata": {
    "collapsed": false
   },
   "outputs": [
    {
     "data": {
      "text/html": [
       "<div>\n",
       "<table border=\"1\" class=\"dataframe\">\n",
       "  <thead>\n",
       "    <tr style=\"text-align: right;\">\n",
       "      <th></th>\n",
       "      <th>Name</th>\n",
       "      <th>Nickname</th>\n",
       "      <th>Dob</th>\n",
       "      <th>Age</th>\n",
       "      <th>Weight</th>\n",
       "      <th>Height</th>\n",
       "      <th>Reach</th>\n",
       "      <th>Stance</th>\n",
       "      <th>Win</th>\n",
       "      <th>Loss</th>\n",
       "      <th>Draw</th>\n",
       "    </tr>\n",
       "  </thead>\n",
       "  <tbody>\n",
       "    <tr>\n",
       "      <th>2019</th>\n",
       "      <td>Claudio Puelles</td>\n",
       "      <td>El Nino</td>\n",
       "      <td>1996-04-21</td>\n",
       "      <td>20.9</td>\n",
       "      <td>155.0</td>\n",
       "      <td>71.0</td>\n",
       "      <td>72.0</td>\n",
       "      <td>Southpaw</td>\n",
       "      <td>8.0</td>\n",
       "      <td>2.0</td>\n",
       "      <td>0.0</td>\n",
       "    </tr>\n",
       "    <tr>\n",
       "      <th>1825</th>\n",
       "      <td>Sage Northcutt</td>\n",
       "      <td>Super</td>\n",
       "      <td>1996-03-01</td>\n",
       "      <td>21.0</td>\n",
       "      <td>170.0</td>\n",
       "      <td>72.0</td>\n",
       "      <td>71.0</td>\n",
       "      <td>Orthodox</td>\n",
       "      <td>8.0</td>\n",
       "      <td>2.0</td>\n",
       "      <td>0.0</td>\n",
       "    </tr>\n",
       "    <tr>\n",
       "      <th>1480</th>\n",
       "      <td>Veronica Macedo</td>\n",
       "      <td>NaN</td>\n",
       "      <td>1995-10-30</td>\n",
       "      <td>21.4</td>\n",
       "      <td>135.0</td>\n",
       "      <td>64.0</td>\n",
       "      <td>64.0</td>\n",
       "      <td>Southpaw</td>\n",
       "      <td>5.0</td>\n",
       "      <td>1.0</td>\n",
       "      <td>1.0</td>\n",
       "    </tr>\n",
       "    <tr>\n",
       "      <th>2049</th>\n",
       "      <td>Ricardo Ramos</td>\n",
       "      <td>NaN</td>\n",
       "      <td>1995-08-01</td>\n",
       "      <td>21.6</td>\n",
       "      <td>135.0</td>\n",
       "      <td>69.0</td>\n",
       "      <td>72.0</td>\n",
       "      <td>Orthodox</td>\n",
       "      <td>10.0</td>\n",
       "      <td>1.0</td>\n",
       "      <td>0.0</td>\n",
       "    </tr>\n",
       "    <tr>\n",
       "      <th>1636</th>\n",
       "      <td>Alonzo Menifield</td>\n",
       "      <td>NaN</td>\n",
       "      <td>1994-10-18</td>\n",
       "      <td>22.4</td>\n",
       "      <td>205.0</td>\n",
       "      <td>73.0</td>\n",
       "      <td>NaN</td>\n",
       "      <td>NaN</td>\n",
       "      <td>1.0</td>\n",
       "      <td>0.0</td>\n",
       "      <td>0.0</td>\n",
       "    </tr>\n",
       "  </tbody>\n",
       "</table>\n",
       "</div>"
      ],
      "text/plain": [
       "                  Name Nickname        Dob   Age  Weight  Height  Reach  \\\n",
       "2019   Claudio Puelles  El Nino 1996-04-21  20.9   155.0    71.0   72.0   \n",
       "1825    Sage Northcutt    Super 1996-03-01  21.0   170.0    72.0   71.0   \n",
       "1480   Veronica Macedo      NaN 1995-10-30  21.4   135.0    64.0   64.0   \n",
       "2049     Ricardo Ramos      NaN 1995-08-01  21.6   135.0    69.0   72.0   \n",
       "1636  Alonzo Menifield      NaN 1994-10-18  22.4   205.0    73.0    NaN   \n",
       "\n",
       "        Stance   Win  Loss  Draw  \n",
       "2019  Southpaw   8.0   2.0   0.0  \n",
       "1825  Orthodox   8.0   2.0   0.0  \n",
       "1480  Southpaw   5.0   1.0   1.0  \n",
       "2049  Orthodox  10.0   1.0   0.0  \n",
       "1636       NaN   1.0   0.0   0.0  "
      ]
     },
     "execution_count": 10,
     "metadata": {},
     "output_type": "execute_result"
    }
   ],
   "source": [
    "df[pd.notnull(df.Dob)].sort_values('Dob', ascending=False).head(5)"
   ]
  },
  {
   "cell_type": "markdown",
   "metadata": {},
   "source": [
    "### Do any fighters have the same name?"
   ]
  },
  {
   "cell_type": "code",
   "execution_count": 11,
   "metadata": {
    "collapsed": false
   },
   "outputs": [
    {
     "data": {
      "text/plain": [
       "Series([], Name: Name, dtype: int64)"
      ]
     },
     "execution_count": 11,
     "metadata": {},
     "output_type": "execute_result"
    }
   ],
   "source": [
    "name_counts = df.Name.value_counts()\n",
    "name_counts[name_counts > 1]"
   ]
  },
  {
   "cell_type": "code",
   "execution_count": 12,
   "metadata": {
    "collapsed": false,
    "scrolled": false
   },
   "outputs": [
    {
     "data": {
      "text/html": [
       "<div>\n",
       "<table border=\"1\" class=\"dataframe\">\n",
       "  <thead>\n",
       "    <tr style=\"text-align: right;\">\n",
       "      <th></th>\n",
       "      <th>Name</th>\n",
       "      <th>Nickname</th>\n",
       "      <th>Dob</th>\n",
       "      <th>Age</th>\n",
       "      <th>Weight</th>\n",
       "      <th>Height</th>\n",
       "      <th>Reach</th>\n",
       "      <th>Stance</th>\n",
       "      <th>Win</th>\n",
       "      <th>Loss</th>\n",
       "      <th>Draw</th>\n",
       "    </tr>\n",
       "  </thead>\n",
       "  <tbody>\n",
       "    <tr>\n",
       "      <th>1189</th>\n",
       "      <td>Tony Johnson</td>\n",
       "      <td>NaN</td>\n",
       "      <td>NaT</td>\n",
       "      <td>NaN</td>\n",
       "      <td>185.0</td>\n",
       "      <td>NaN</td>\n",
       "      <td>NaN</td>\n",
       "      <td>NaN</td>\n",
       "      <td>4.0</td>\n",
       "      <td>2.0</td>\n",
       "      <td>0.0</td>\n",
       "    </tr>\n",
       "    <tr>\n",
       "      <th>1276</th>\n",
       "      <td>Dong Hyun Kim</td>\n",
       "      <td>Stun Gun</td>\n",
       "      <td>1981-11-17</td>\n",
       "      <td>35.3</td>\n",
       "      <td>170.0</td>\n",
       "      <td>74.0</td>\n",
       "      <td>76.0</td>\n",
       "      <td>Southpaw</td>\n",
       "      <td>22.0</td>\n",
       "      <td>3.0</td>\n",
       "      <td>1.0</td>\n",
       "    </tr>\n",
       "    <tr>\n",
       "      <th>1590</th>\n",
       "      <td>Michael McDonald</td>\n",
       "      <td>Mayday</td>\n",
       "      <td>1991-01-15</td>\n",
       "      <td>26.1</td>\n",
       "      <td>135.0</td>\n",
       "      <td>69.0</td>\n",
       "      <td>70.0</td>\n",
       "      <td>Orthodox</td>\n",
       "      <td>17.0</td>\n",
       "      <td>4.0</td>\n",
       "      <td>0.0</td>\n",
       "    </tr>\n",
       "  </tbody>\n",
       "</table>\n",
       "</div>"
      ],
      "text/plain": [
       "                  Name  Nickname        Dob   Age  Weight  Height  Reach  \\\n",
       "1189      Tony Johnson       NaN        NaT   NaN   185.0     NaN    NaN   \n",
       "1276     Dong Hyun Kim  Stun Gun 1981-11-17  35.3   170.0    74.0   76.0   \n",
       "1590  Michael McDonald    Mayday 1991-01-15  26.1   135.0    69.0   70.0   \n",
       "\n",
       "        Stance   Win  Loss  Draw  \n",
       "1189       NaN   4.0   2.0   0.0  \n",
       "1276  Southpaw  22.0   3.0   1.0  \n",
       "1590  Orthodox  17.0   4.0   0.0  "
      ]
     },
     "execution_count": 12,
     "metadata": {},
     "output_type": "execute_result"
    }
   ],
   "source": [
    "df[(df.Name == 'Michael McDonald') | (df.Name == 'Tony Johnson') | (df.Name == 'Dong Hyun Kim')]"
   ]
  },
  {
   "cell_type": "markdown",
   "metadata": {},
   "source": [
    "There are three pairs of fighters with the same name."
   ]
  },
  {
   "cell_type": "code",
   "execution_count": 13,
   "metadata": {
    "collapsed": true
   },
   "outputs": [],
   "source": [
    "# rename the second instance\n",
    "idx = df[(df.Name == 'Tony Johnson') & (df.Weight == 265)].index.values\n",
    "df = df.set_value(idx, 'Name', 'Tony Johnson 2')"
   ]
  },
  {
   "cell_type": "code",
   "execution_count": 14,
   "metadata": {
    "collapsed": true
   },
   "outputs": [],
   "source": [
    "# rename the second instance\n",
    "idx = df[(df.Name == 'Dong Hyun Kim') & (df.Nickname == 'Maestro')].index.values\n",
    "df = df.set_value(idx, 'Name', 'Dong Hyun Kim 2')"
   ]
  },
  {
   "cell_type": "code",
   "execution_count": 15,
   "metadata": {
    "collapsed": true
   },
   "outputs": [],
   "source": [
    "# rename the second instance\n",
    "idx = df[(df.Name == 'Michael McDonald') & (df.Nickname == 'The Black Sniper')].index.values\n",
    "df = df.set_value(idx, 'Name', 'Michael McDonald 2')"
   ]
  },
  {
   "cell_type": "code",
   "execution_count": 16,
   "metadata": {
    "collapsed": false
   },
   "outputs": [
    {
     "data": {
      "text/plain": [
       "Series([], Name: Name, dtype: int64)"
      ]
     },
     "execution_count": 16,
     "metadata": {},
     "output_type": "execute_result"
    }
   ],
   "source": [
    "name_counts = df.Name.value_counts()\n",
    "name_counts[name_counts > 1]"
   ]
  },
  {
   "cell_type": "markdown",
   "metadata": {},
   "source": [
    "### Any names with two consectutive spaces?"
   ]
  },
  {
   "cell_type": "code",
   "execution_count": 17,
   "metadata": {
    "collapsed": false
   },
   "outputs": [
    {
     "data": {
      "text/html": [
       "<div>\n",
       "<table border=\"1\" class=\"dataframe\">\n",
       "  <thead>\n",
       "    <tr style=\"text-align: right;\">\n",
       "      <th></th>\n",
       "      <th>Name</th>\n",
       "    </tr>\n",
       "  </thead>\n",
       "  <tbody>\n",
       "  </tbody>\n",
       "</table>\n",
       "</div>"
      ],
      "text/plain": [
       "Empty DataFrame\n",
       "Columns: [Name]\n",
       "Index: []"
      ]
     },
     "execution_count": 17,
     "metadata": {},
     "output_type": "execute_result"
    }
   ],
   "source": [
    "df[df.Name.str.contains('  ')][['Name']]"
   ]
  },
  {
   "cell_type": "markdown",
   "metadata": {},
   "source": [
    "### Any names with non-alphabetical characters"
   ]
  },
  {
   "cell_type": "code",
   "execution_count": 18,
   "metadata": {
    "collapsed": false
   },
   "outputs": [
    {
     "data": {
      "text/html": [
       "<div>\n",
       "<table border=\"1\" class=\"dataframe\">\n",
       "  <thead>\n",
       "    <tr style=\"text-align: right;\">\n",
       "      <th></th>\n",
       "      <th>Name</th>\n",
       "    </tr>\n",
       "  </thead>\n",
       "  <tbody>\n",
       "    <tr>\n",
       "      <th>18</th>\n",
       "      <td>Razak Al-Hassan</td>\n",
       "    </tr>\n",
       "    <tr>\n",
       "      <th>19</th>\n",
       "      <td>Mostapha Al-Turk</td>\n",
       "    </tr>\n",
       "    <tr>\n",
       "      <th>109</th>\n",
       "      <td>Olivier Aubin-Mercier</td>\n",
       "    </tr>\n",
       "    <tr>\n",
       "      <th>310</th>\n",
       "      <td>Nah-Shon Burrell</td>\n",
       "    </tr>\n",
       "    <tr>\n",
       "      <th>352</th>\n",
       "      <td>Dos Caras Jr.</td>\n",
       "    </tr>\n",
       "    <tr>\n",
       "      <th>360</th>\n",
       "      <td>Don Carlo-Clauss</td>\n",
       "    </tr>\n",
       "    <tr>\n",
       "      <th>522</th>\n",
       "      <td>Sarah D'alelio</td>\n",
       "    </tr>\n",
       "    <tr>\n",
       "      <th>660</th>\n",
       "      <td>Abdul-Kerim Edilov</td>\n",
       "    </tr>\n",
       "    <tr>\n",
       "      <th>695</th>\n",
       "      <td>Chel Erwin-Davis</td>\n",
       "    </tr>\n",
       "    <tr>\n",
       "      <th>709</th>\n",
       "      <td>Ashlee Evans-Smith</td>\n",
       "    </tr>\n",
       "    <tr>\n",
       "      <th>771</th>\n",
       "      <td>Xavier Foupa-Pokam</td>\n",
       "    </tr>\n",
       "    <tr>\n",
       "      <th>863</th>\n",
       "      <td>He-Man Gipson</td>\n",
       "    </tr>\n",
       "    <tr>\n",
       "      <th>1197</th>\n",
       "      <td>Tony Johnson 2</td>\n",
       "    </tr>\n",
       "    <tr>\n",
       "      <th>1214</th>\n",
       "      <td>Jocelyn Jones-Lybarger</td>\n",
       "    </tr>\n",
       "    <tr>\n",
       "      <th>1228</th>\n",
       "      <td>Bu-Kyung Jung</td>\n",
       "    </tr>\n",
       "    <tr>\n",
       "      <th>1283</th>\n",
       "      <td>Dong Hyun Kim 2</td>\n",
       "    </tr>\n",
       "    <tr>\n",
       "      <th>1353</th>\n",
       "      <td>Jose Landi-Jons</td>\n",
       "    </tr>\n",
       "    <tr>\n",
       "      <th>1396</th>\n",
       "      <td>Ricky Legere Jr.</td>\n",
       "    </tr>\n",
       "    <tr>\n",
       "      <th>1441</th>\n",
       "      <td>Brian Lo-A-Njoe</td>\n",
       "    </tr>\n",
       "    <tr>\n",
       "      <th>1588</th>\n",
       "      <td>Michael McDonald 2</td>\n",
       "    </tr>\n",
       "    <tr>\n",
       "      <th>1794</th>\n",
       "      <td>Julio Cesar Neves Jr.</td>\n",
       "    </tr>\n",
       "    <tr>\n",
       "      <th>1834</th>\n",
       "      <td>Jake O'Brien</td>\n",
       "    </tr>\n",
       "    <tr>\n",
       "      <th>1835</th>\n",
       "      <td>TJ O'Brien</td>\n",
       "    </tr>\n",
       "    <tr>\n",
       "      <th>1836</th>\n",
       "      <td>Sean O'Connell</td>\n",
       "    </tr>\n",
       "    <tr>\n",
       "      <th>1837</th>\n",
       "      <td>Dan O'Connor</td>\n",
       "    </tr>\n",
       "    <tr>\n",
       "      <th>1838</th>\n",
       "      <td>Sean O'Haire</td>\n",
       "    </tr>\n",
       "    <tr>\n",
       "      <th>1839</th>\n",
       "      <td>Jeremiah O'Neal</td>\n",
       "    </tr>\n",
       "    <tr>\n",
       "      <th>1840</th>\n",
       "      <td>Chuck O'Neil</td>\n",
       "    </tr>\n",
       "    <tr>\n",
       "      <th>1841</th>\n",
       "      <td>Brendan O'Reilly</td>\n",
       "    </tr>\n",
       "    <tr>\n",
       "      <th>1890</th>\n",
       "      <td>Raquel Pa'aluhi</td>\n",
       "    </tr>\n",
       "    <tr>\n",
       "      <th>2112</th>\n",
       "      <td>Nicdali Rivera-Calanoc</td>\n",
       "    </tr>\n",
       "    <tr>\n",
       "      <th>2142</th>\n",
       "      <td>Pete Rogers Jr.</td>\n",
       "    </tr>\n",
       "    <tr>\n",
       "      <th>2161</th>\n",
       "      <td>Khalil Rountree Jr.</td>\n",
       "    </tr>\n",
       "    <tr>\n",
       "      <th>2199</th>\n",
       "      <td>Gabriel Salinas-Jones</td>\n",
       "    </tr>\n",
       "    <tr>\n",
       "      <th>2224</th>\n",
       "      <td>Roldan Sangcha-an</td>\n",
       "    </tr>\n",
       "    <tr>\n",
       "      <th>2257</th>\n",
       "      <td>Chad W. Saunders</td>\n",
       "    </tr>\n",
       "    <tr>\n",
       "      <th>2388</th>\n",
       "      <td>Walter Smith-Cotito</td>\n",
       "    </tr>\n",
       "    <tr>\n",
       "      <th>2426</th>\n",
       "      <td>Georges St-Pierre</td>\n",
       "    </tr>\n",
       "    <tr>\n",
       "      <th>2618</th>\n",
       "      <td>Isaac Vallie-Flagg</td>\n",
       "    </tr>\n",
       "  </tbody>\n",
       "</table>\n",
       "</div>"
      ],
      "text/plain": [
       "                        Name\n",
       "18           Razak Al-Hassan\n",
       "19          Mostapha Al-Turk\n",
       "109    Olivier Aubin-Mercier\n",
       "310         Nah-Shon Burrell\n",
       "352            Dos Caras Jr.\n",
       "360         Don Carlo-Clauss\n",
       "522           Sarah D'alelio\n",
       "660       Abdul-Kerim Edilov\n",
       "695         Chel Erwin-Davis\n",
       "709       Ashlee Evans-Smith\n",
       "771       Xavier Foupa-Pokam\n",
       "863            He-Man Gipson\n",
       "1197          Tony Johnson 2\n",
       "1214  Jocelyn Jones-Lybarger\n",
       "1228           Bu-Kyung Jung\n",
       "1283         Dong Hyun Kim 2\n",
       "1353         Jose Landi-Jons\n",
       "1396        Ricky Legere Jr.\n",
       "1441         Brian Lo-A-Njoe\n",
       "1588      Michael McDonald 2\n",
       "1794   Julio Cesar Neves Jr.\n",
       "1834            Jake O'Brien\n",
       "1835              TJ O'Brien\n",
       "1836          Sean O'Connell\n",
       "1837            Dan O'Connor\n",
       "1838            Sean O'Haire\n",
       "1839         Jeremiah O'Neal\n",
       "1840            Chuck O'Neil\n",
       "1841        Brendan O'Reilly\n",
       "1890         Raquel Pa'aluhi\n",
       "2112  Nicdali Rivera-Calanoc\n",
       "2142         Pete Rogers Jr.\n",
       "2161     Khalil Rountree Jr.\n",
       "2199   Gabriel Salinas-Jones\n",
       "2224       Roldan Sangcha-an\n",
       "2257        Chad W. Saunders\n",
       "2388     Walter Smith-Cotito\n",
       "2426       Georges St-Pierre\n",
       "2618      Isaac Vallie-Flagg"
      ]
     },
     "execution_count": 18,
     "metadata": {},
     "output_type": "execute_result"
    }
   ],
   "source": [
    "df[df.Name.apply(lambda x: not ''.join(x.split()).isalpha())][['Name']]"
   ]
  },
  {
   "cell_type": "markdown",
   "metadata": {},
   "source": [
    "### How many names do not have two pieces?"
   ]
  },
  {
   "cell_type": "code",
   "execution_count": 19,
   "metadata": {
    "collapsed": false,
    "scrolled": false
   },
   "outputs": [
    {
     "data": {
      "text/html": [
       "<div>\n",
       "<table border=\"1\" class=\"dataframe\">\n",
       "  <thead>\n",
       "    <tr style=\"text-align: right;\">\n",
       "      <th></th>\n",
       "      <th>Name</th>\n",
       "    </tr>\n",
       "  </thead>\n",
       "  <tbody>\n",
       "    <tr>\n",
       "      <th>38</th>\n",
       "      <td>Marcio Alexandre Junior</td>\n",
       "    </tr>\n",
       "    <tr>\n",
       "      <th>136</th>\n",
       "      <td>Tae Hyun Bang</td>\n",
       "    </tr>\n",
       "    <tr>\n",
       "      <th>251</th>\n",
       "      <td>Ebenezer Fontes Braga</td>\n",
       "    </tr>\n",
       "    <tr>\n",
       "      <th>300</th>\n",
       "      <td>Lee Kwan Bum</td>\n",
       "    </tr>\n",
       "    <tr>\n",
       "      <th>352</th>\n",
       "      <td>Dos Caras Jr.</td>\n",
       "    </tr>\n",
       "    <tr>\n",
       "      <th>361</th>\n",
       "      <td>Antonio Carlos Junior</td>\n",
       "    </tr>\n",
       "    <tr>\n",
       "      <th>413</th>\n",
       "      <td>Mu Bae Choi</td>\n",
       "    </tr>\n",
       "    <tr>\n",
       "      <th>414</th>\n",
       "      <td>Hong Man Choi</td>\n",
       "    </tr>\n",
       "    <tr>\n",
       "      <th>434</th>\n",
       "      <td>Heather Jo Clark</td>\n",
       "    </tr>\n",
       "    <tr>\n",
       "      <th>523</th>\n",
       "      <td>Marcos da Matta</td>\n",
       "    </tr>\n",
       "    <tr>\n",
       "      <th>526</th>\n",
       "      <td>Henrique da Silva</td>\n",
       "    </tr>\n",
       "    <tr>\n",
       "      <th>555</th>\n",
       "      <td>Philip De Fries</td>\n",
       "    </tr>\n",
       "    <tr>\n",
       "      <th>556</th>\n",
       "      <td>Chris de la Rocha</td>\n",
       "    </tr>\n",
       "    <tr>\n",
       "      <th>557</th>\n",
       "      <td>Mike de la Torre</td>\n",
       "    </tr>\n",
       "    <tr>\n",
       "      <th>558</th>\n",
       "      <td>Rodrigo de Lima</td>\n",
       "    </tr>\n",
       "    <tr>\n",
       "      <th>559</th>\n",
       "      <td>Edilberto de Oliveira</td>\n",
       "    </tr>\n",
       "    <tr>\n",
       "      <th>560</th>\n",
       "      <td>Johil de Oliveira</td>\n",
       "    </tr>\n",
       "    <tr>\n",
       "      <th>561</th>\n",
       "      <td>Jorge de Oliveira</td>\n",
       "    </tr>\n",
       "    <tr>\n",
       "      <th>562</th>\n",
       "      <td>Germaine de Randamie</td>\n",
       "    </tr>\n",
       "    <tr>\n",
       "      <th>563</th>\n",
       "      <td>Crezio de Souza</td>\n",
       "    </tr>\n",
       "    <tr>\n",
       "      <th>566</th>\n",
       "      <td>Shane del Rosario</td>\n",
       "    </tr>\n",
       "    <tr>\n",
       "      <th>571</th>\n",
       "      <td>Jon Delos Reyes</td>\n",
       "    </tr>\n",
       "    <tr>\n",
       "      <th>583</th>\n",
       "      <td>Alessio Di Chirico</td>\n",
       "    </tr>\n",
       "    <tr>\n",
       "      <th>587</th>\n",
       "      <td>Eldo Xavier Dias</td>\n",
       "    </tr>\n",
       "    <tr>\n",
       "      <th>601</th>\n",
       "      <td>Rodolfo Marques Diniz</td>\n",
       "    </tr>\n",
       "    <tr>\n",
       "      <th>618</th>\n",
       "      <td>Rafael Dos Anjos</td>\n",
       "    </tr>\n",
       "    <tr>\n",
       "      <th>619</th>\n",
       "      <td>Junior Dos Santos</td>\n",
       "    </tr>\n",
       "    <tr>\n",
       "      <th>620</th>\n",
       "      <td>Geronimo dos Santos</td>\n",
       "    </tr>\n",
       "    <tr>\n",
       "      <th>621</th>\n",
       "      <td>Antonio Dos Santos</td>\n",
       "    </tr>\n",
       "    <tr>\n",
       "      <th>667</th>\n",
       "      <td>Jon Olav Einemo</td>\n",
       "    </tr>\n",
       "    <tr>\n",
       "      <th>670</th>\n",
       "      <td>John Paul Elias</td>\n",
       "    </tr>\n",
       "    <tr>\n",
       "      <th>689</th>\n",
       "      <td>Won Jin Eoh</td>\n",
       "    </tr>\n",
       "    <tr>\n",
       "      <th>722</th>\n",
       "      <td>Joao Paulo Faria</td>\n",
       "    </tr>\n",
       "    <tr>\n",
       "      <th>745</th>\n",
       "      <td>Mirko Cro Cop</td>\n",
       "    </tr>\n",
       "    <tr>\n",
       "      <th>932</th>\n",
       "      <td>Rodrigo Gripp de Sousa</td>\n",
       "    </tr>\n",
       "    <tr>\n",
       "      <th>946</th>\n",
       "      <td>Leonardo Augusto Leleco</td>\n",
       "    </tr>\n",
       "    <tr>\n",
       "      <th>1055</th>\n",
       "      <td>Branden Lee Hinkle</td>\n",
       "    </tr>\n",
       "    <tr>\n",
       "      <th>1061</th>\n",
       "      <td>Kwan Ho Kwak</td>\n",
       "    </tr>\n",
       "    <tr>\n",
       "      <th>1197</th>\n",
       "      <td>Tony Johnson 2</td>\n",
       "    </tr>\n",
       "    <tr>\n",
       "      <th>1229</th>\n",
       "      <td>Chan Sung Jung</td>\n",
       "    </tr>\n",
       "    <tr>\n",
       "      <th>1230</th>\n",
       "      <td>Young Sam Jung</td>\n",
       "    </tr>\n",
       "    <tr>\n",
       "      <th>1234</th>\n",
       "      <td>Emily Peters Kagan</td>\n",
       "    </tr>\n",
       "    <tr>\n",
       "      <th>1243</th>\n",
       "      <td>Kyung Ho Kang</td>\n",
       "    </tr>\n",
       "    <tr>\n",
       "      <th>1276</th>\n",
       "      <td>Dong Hyun Kim</td>\n",
       "    </tr>\n",
       "    <tr>\n",
       "      <th>1277</th>\n",
       "      <td>Jin Oh Kim</td>\n",
       "    </tr>\n",
       "    <tr>\n",
       "      <th>1278</th>\n",
       "      <td>Dae Won Kim</td>\n",
       "    </tr>\n",
       "    <tr>\n",
       "      <th>1279</th>\n",
       "      <td>Jong Wang Kim</td>\n",
       "    </tr>\n",
       "    <tr>\n",
       "      <th>1280</th>\n",
       "      <td>Jong Won Kim</td>\n",
       "    </tr>\n",
       "    <tr>\n",
       "      <th>1281</th>\n",
       "      <td>Min Soo Kim</td>\n",
       "    </tr>\n",
       "    <tr>\n",
       "      <th>1282</th>\n",
       "      <td>Jong Man Kim</td>\n",
       "    </tr>\n",
       "    <tr>\n",
       "      <th>1283</th>\n",
       "      <td>Dong Hyun Kim 2</td>\n",
       "    </tr>\n",
       "    <tr>\n",
       "      <th>1388</th>\n",
       "      <td>Eun Soo Lee</td>\n",
       "    </tr>\n",
       "    <tr>\n",
       "      <th>1389</th>\n",
       "      <td>Tae Hyun Lee</td>\n",
       "    </tr>\n",
       "    <tr>\n",
       "      <th>1396</th>\n",
       "      <td>Ricky Legere Jr.</td>\n",
       "    </tr>\n",
       "    <tr>\n",
       "      <th>1403</th>\n",
       "      <td>Jean Francois Lenogue</td>\n",
       "    </tr>\n",
       "    <tr>\n",
       "      <th>1405</th>\n",
       "      <td>Alberta Cerra Leon</td>\n",
       "    </tr>\n",
       "    <tr>\n",
       "      <th>1427</th>\n",
       "      <td>Jae Suk Lim</td>\n",
       "    </tr>\n",
       "    <tr>\n",
       "      <th>1428</th>\n",
       "      <td>Hyun Gyu Lim</td>\n",
       "    </tr>\n",
       "    <tr>\n",
       "      <th>1552</th>\n",
       "      <td>Wagner da Conceicao Martins</td>\n",
       "    </tr>\n",
       "    <tr>\n",
       "      <th>1588</th>\n",
       "      <td>Michael McDonald 2</td>\n",
       "    </tr>\n",
       "    <tr>\n",
       "      <th>1682</th>\n",
       "      <td>Felix Lee Mitchell</td>\n",
       "    </tr>\n",
       "    <tr>\n",
       "      <th>1733</th>\n",
       "      <td>Flavio Luiz Moura</td>\n",
       "    </tr>\n",
       "    <tr>\n",
       "      <th>1757</th>\n",
       "      <td>Ho Bae Myeon</td>\n",
       "    </tr>\n",
       "    <tr>\n",
       "      <th>1771</th>\n",
       "      <td>Yui Chul Nam</td>\n",
       "    </tr>\n",
       "    <tr>\n",
       "      <th>1793</th>\n",
       "      <td>Antonio Braga Neto</td>\n",
       "    </tr>\n",
       "    <tr>\n",
       "      <th>1794</th>\n",
       "      <td>Julio Cesar Neves Jr.</td>\n",
       "    </tr>\n",
       "    <tr>\n",
       "      <th>1820</th>\n",
       "      <td>Alexandre Franca Nogueira</td>\n",
       "    </tr>\n",
       "    <tr>\n",
       "      <th>1916</th>\n",
       "      <td>Won Sik Park</td>\n",
       "    </tr>\n",
       "    <tr>\n",
       "      <th>2062</th>\n",
       "      <td>Abdul Razak Alhassan</td>\n",
       "    </tr>\n",
       "    <tr>\n",
       "      <th>2130</th>\n",
       "      <td>Carlos Eduardo Rocha</td>\n",
       "    </tr>\n",
       "    <tr>\n",
       "      <th>2139</th>\n",
       "      <td>Marcos Rogerio de Lima</td>\n",
       "    </tr>\n",
       "    <tr>\n",
       "      <th>2142</th>\n",
       "      <td>Pete Rogers Jr.</td>\n",
       "    </tr>\n",
       "    <tr>\n",
       "      <th>2161</th>\n",
       "      <td>Khalil Rountree Jr.</td>\n",
       "    </tr>\n",
       "    <tr>\n",
       "      <th>2186</th>\n",
       "      <td>Ovince Saint Preux</td>\n",
       "    </tr>\n",
       "    <tr>\n",
       "      <th>2206</th>\n",
       "      <td>Josh San Diego</td>\n",
       "    </tr>\n",
       "    <tr>\n",
       "      <th>2226</th>\n",
       "      <td>Jonathan Santa Maria</td>\n",
       "    </tr>\n",
       "    <tr>\n",
       "      <th>2257</th>\n",
       "      <td>Chad W. Saunders</td>\n",
       "    </tr>\n",
       "    <tr>\n",
       "      <th>2297</th>\n",
       "      <td>Kim In Seok</td>\n",
       "    </tr>\n",
       "    <tr>\n",
       "      <th>2340</th>\n",
       "      <td>Paulo Cesar Silva</td>\n",
       "    </tr>\n",
       "    <tr>\n",
       "      <th>2353</th>\n",
       "      <td>Douglas Silva de Andrade</td>\n",
       "    </tr>\n",
       "    <tr>\n",
       "      <th>2395</th>\n",
       "      <td>Rameau Thierry Sokoudjou</td>\n",
       "    </tr>\n",
       "    <tr>\n",
       "      <th>2529</th>\n",
       "      <td>James Te Huna</td>\n",
       "    </tr>\n",
       "    <tr>\n",
       "      <th>2619</th>\n",
       "      <td>Mike van Arsdale</td>\n",
       "    </tr>\n",
       "    <tr>\n",
       "      <th>2620</th>\n",
       "      <td>Matt Van Buren</td>\n",
       "    </tr>\n",
       "    <tr>\n",
       "      <th>2621</th>\n",
       "      <td>Ron van Clief</td>\n",
       "    </tr>\n",
       "    <tr>\n",
       "      <th>2622</th>\n",
       "      <td>Lloyd Van Dams</td>\n",
       "    </tr>\n",
       "    <tr>\n",
       "      <th>2672</th>\n",
       "      <td>Jason Von Flue</td>\n",
       "    </tr>\n",
       "    <tr>\n",
       "      <th>2695</th>\n",
       "      <td>An Ying Wang</td>\n",
       "    </tr>\n",
       "    <tr>\n",
       "      <th>2764</th>\n",
       "      <td>Xue Do Won</td>\n",
       "    </tr>\n",
       "    <tr>\n",
       "      <th>2799</th>\n",
       "      <td>Dong Sik Yoon</td>\n",
       "    </tr>\n",
       "    <tr>\n",
       "      <th>2807</th>\n",
       "      <td>Han Ten Yun</td>\n",
       "    </tr>\n",
       "    <tr>\n",
       "      <th>2813</th>\n",
       "      <td>Elizeu Zaleski dos Santos</td>\n",
       "    </tr>\n",
       "  </tbody>\n",
       "</table>\n",
       "</div>"
      ],
      "text/plain": [
       "                             Name\n",
       "38        Marcio Alexandre Junior\n",
       "136                 Tae Hyun Bang\n",
       "251         Ebenezer Fontes Braga\n",
       "300                  Lee Kwan Bum\n",
       "352                 Dos Caras Jr.\n",
       "361         Antonio Carlos Junior\n",
       "413                   Mu Bae Choi\n",
       "414                 Hong Man Choi\n",
       "434              Heather Jo Clark\n",
       "523               Marcos da Matta\n",
       "526             Henrique da Silva\n",
       "555               Philip De Fries\n",
       "556             Chris de la Rocha\n",
       "557              Mike de la Torre\n",
       "558               Rodrigo de Lima\n",
       "559         Edilberto de Oliveira\n",
       "560             Johil de Oliveira\n",
       "561             Jorge de Oliveira\n",
       "562          Germaine de Randamie\n",
       "563               Crezio de Souza\n",
       "566             Shane del Rosario\n",
       "571               Jon Delos Reyes\n",
       "583            Alessio Di Chirico\n",
       "587              Eldo Xavier Dias\n",
       "601         Rodolfo Marques Diniz\n",
       "618              Rafael Dos Anjos\n",
       "619             Junior Dos Santos\n",
       "620           Geronimo dos Santos\n",
       "621            Antonio Dos Santos\n",
       "667               Jon Olav Einemo\n",
       "670               John Paul Elias\n",
       "689                   Won Jin Eoh\n",
       "722              Joao Paulo Faria\n",
       "745                 Mirko Cro Cop\n",
       "932        Rodrigo Gripp de Sousa\n",
       "946       Leonardo Augusto Leleco\n",
       "1055           Branden Lee Hinkle\n",
       "1061                 Kwan Ho Kwak\n",
       "1197               Tony Johnson 2\n",
       "1229               Chan Sung Jung\n",
       "1230               Young Sam Jung\n",
       "1234           Emily Peters Kagan\n",
       "1243                Kyung Ho Kang\n",
       "1276                Dong Hyun Kim\n",
       "1277                   Jin Oh Kim\n",
       "1278                  Dae Won Kim\n",
       "1279                Jong Wang Kim\n",
       "1280                 Jong Won Kim\n",
       "1281                  Min Soo Kim\n",
       "1282                 Jong Man Kim\n",
       "1283              Dong Hyun Kim 2\n",
       "1388                  Eun Soo Lee\n",
       "1389                 Tae Hyun Lee\n",
       "1396             Ricky Legere Jr.\n",
       "1403        Jean Francois Lenogue\n",
       "1405           Alberta Cerra Leon\n",
       "1427                  Jae Suk Lim\n",
       "1428                 Hyun Gyu Lim\n",
       "1552  Wagner da Conceicao Martins\n",
       "1588           Michael McDonald 2\n",
       "1682           Felix Lee Mitchell\n",
       "1733            Flavio Luiz Moura\n",
       "1757                 Ho Bae Myeon\n",
       "1771                 Yui Chul Nam\n",
       "1793           Antonio Braga Neto\n",
       "1794        Julio Cesar Neves Jr.\n",
       "1820    Alexandre Franca Nogueira\n",
       "1916                 Won Sik Park\n",
       "2062         Abdul Razak Alhassan\n",
       "2130         Carlos Eduardo Rocha\n",
       "2139       Marcos Rogerio de Lima\n",
       "2142              Pete Rogers Jr.\n",
       "2161          Khalil Rountree Jr.\n",
       "2186           Ovince Saint Preux\n",
       "2206               Josh San Diego\n",
       "2226         Jonathan Santa Maria\n",
       "2257             Chad W. Saunders\n",
       "2297                  Kim In Seok\n",
       "2340            Paulo Cesar Silva\n",
       "2353     Douglas Silva de Andrade\n",
       "2395     Rameau Thierry Sokoudjou\n",
       "2529                James Te Huna\n",
       "2619             Mike van Arsdale\n",
       "2620               Matt Van Buren\n",
       "2621                Ron van Clief\n",
       "2622               Lloyd Van Dams\n",
       "2672               Jason Von Flue\n",
       "2695                 An Ying Wang\n",
       "2764                   Xue Do Won\n",
       "2799                Dong Sik Yoon\n",
       "2807                  Han Ten Yun\n",
       "2813    Elizeu Zaleski dos Santos"
      ]
     },
     "execution_count": 19,
     "metadata": {},
     "output_type": "execute_result"
    }
   ],
   "source": [
    "pd.set_option('display.max_rows', 100)\n",
    "df[df.Name.apply(lambda x: len(x.split()) != 2)][['Name']]"
   ]
  },
  {
   "cell_type": "markdown",
   "metadata": {},
   "source": [
    "### How does fighter height vary with weight?"
   ]
  },
  {
   "cell_type": "code",
   "execution_count": 20,
   "metadata": {
    "collapsed": false,
    "scrolled": false
   },
   "outputs": [
    {
     "data": {
      "text/plain": [
       "<matplotlib.text.Text at 0x11198efd0>"
      ]
     },
     "execution_count": 20,
     "metadata": {},
     "output_type": "execute_result"
    },
    {
     "data": {
      "image/png": "[encoded data removed]",
      "text/plain": [
       "<matplotlib.figure.Figure at 0x10619d850>"
      ]
     },
     "metadata": {},
     "output_type": "display_data"
    }
   ],
   "source": [
    "plt.plot(df.Height, df.Weight, 'wo')\n",
    "plt.xlabel('Heights (inches)')\n",
    "plt.ylabel('Weight (lbs.)')"
   ]
  },
  {
   "cell_type": "markdown",
   "metadata": {},
   "source": [
    "### Who are the heaviest fighters?"
   ]
  },
  {
   "cell_type": "code",
   "execution_count": 21,
   "metadata": {
    "collapsed": false
   },
   "outputs": [
    {
     "data": {
      "text/html": [
       "<div>\n",
       "<table border=\"1\" class=\"dataframe\">\n",
       "  <thead>\n",
       "    <tr style=\"text-align: right;\">\n",
       "      <th></th>\n",
       "      <th>Name</th>\n",
       "      <th>Nickname</th>\n",
       "      <th>Dob</th>\n",
       "      <th>Age</th>\n",
       "      <th>Weight</th>\n",
       "      <th>Height</th>\n",
       "      <th>Reach</th>\n",
       "      <th>Stance</th>\n",
       "      <th>Win</th>\n",
       "      <th>Loss</th>\n",
       "      <th>Draw</th>\n",
       "    </tr>\n",
       "  </thead>\n",
       "  <tbody>\n",
       "    <tr>\n",
       "      <th>2790</th>\n",
       "      <td>Emmanuel Yarborough</td>\n",
       "      <td>NaN</td>\n",
       "      <td>1960-09-05</td>\n",
       "      <td>56.5</td>\n",
       "      <td>770.0</td>\n",
       "      <td>80.0</td>\n",
       "      <td>NaN</td>\n",
       "      <td>Open Stance</td>\n",
       "      <td>1.0</td>\n",
       "      <td>2.0</td>\n",
       "      <td>0.0</td>\n",
       "    </tr>\n",
       "    <tr>\n",
       "      <th>2595</th>\n",
       "      <td>Teila Tuli</td>\n",
       "      <td>NaN</td>\n",
       "      <td>1969-06-14</td>\n",
       "      <td>47.7</td>\n",
       "      <td>430.0</td>\n",
       "      <td>72.0</td>\n",
       "      <td>NaN</td>\n",
       "      <td>Orthodox</td>\n",
       "      <td>0.0</td>\n",
       "      <td>1.0</td>\n",
       "      <td>0.0</td>\n",
       "    </tr>\n",
       "    <tr>\n",
       "      <th>2041</th>\n",
       "      <td>Thomas Ramirez</td>\n",
       "      <td>NaN</td>\n",
       "      <td>NaT</td>\n",
       "      <td>NaN</td>\n",
       "      <td>410.0</td>\n",
       "      <td>73.0</td>\n",
       "      <td>NaN</td>\n",
       "      <td>Sideways</td>\n",
       "      <td>0.0</td>\n",
       "      <td>1.0</td>\n",
       "      <td>0.0</td>\n",
       "    </tr>\n",
       "    <tr>\n",
       "      <th>1568</th>\n",
       "      <td>John Matua</td>\n",
       "      <td>NaN</td>\n",
       "      <td>NaT</td>\n",
       "      <td>NaN</td>\n",
       "      <td>400.0</td>\n",
       "      <td>74.0</td>\n",
       "      <td>NaN</td>\n",
       "      <td>Orthodox</td>\n",
       "      <td>1.0</td>\n",
       "      <td>4.0</td>\n",
       "      <td>0.0</td>\n",
       "    </tr>\n",
       "    <tr>\n",
       "      <th>1972</th>\n",
       "      <td>Cory Peterson</td>\n",
       "      <td>LA Giant</td>\n",
       "      <td>NaT</td>\n",
       "      <td>NaN</td>\n",
       "      <td>400.0</td>\n",
       "      <td>83.0</td>\n",
       "      <td>NaN</td>\n",
       "      <td>Orthodox</td>\n",
       "      <td>2.0</td>\n",
       "      <td>1.0</td>\n",
       "      <td>0.0</td>\n",
       "    </tr>\n",
       "  </tbody>\n",
       "</table>\n",
       "</div>"
      ],
      "text/plain": [
       "                     Name  Nickname        Dob   Age  Weight  Height  Reach  \\\n",
       "2790  Emmanuel Yarborough       NaN 1960-09-05  56.5   770.0    80.0    NaN   \n",
       "2595           Teila Tuli       NaN 1969-06-14  47.7   430.0    72.0    NaN   \n",
       "2041       Thomas Ramirez       NaN        NaT   NaN   410.0    73.0    NaN   \n",
       "1568           John Matua       NaN        NaT   NaN   400.0    74.0    NaN   \n",
       "1972        Cory Peterson  LA Giant        NaT   NaN   400.0    83.0    NaN   \n",
       "\n",
       "           Stance  Win  Loss  Draw  \n",
       "2790  Open Stance  1.0   2.0   0.0  \n",
       "2595     Orthodox  0.0   1.0   0.0  \n",
       "2041     Sideways  0.0   1.0   0.0  \n",
       "1568     Orthodox  1.0   4.0   0.0  \n",
       "1972     Orthodox  2.0   1.0   0.0  "
      ]
     },
     "execution_count": 21,
     "metadata": {},
     "output_type": "execute_result"
    }
   ],
   "source": [
    "df.dropna(subset=['Weight']).sort_values('Weight', ascending=False).head(5)"
   ]
  },
  {
   "cell_type": "markdown",
   "metadata": {},
   "source": [
    "### Who are the tallest fighters?"
   ]
  },
  {
   "cell_type": "code",
   "execution_count": 22,
   "metadata": {
    "collapsed": false
   },
   "outputs": [
    {
     "data": {
      "text/html": [
       "<div>\n",
       "<table border=\"1\" class=\"dataframe\">\n",
       "  <thead>\n",
       "    <tr style=\"text-align: right;\">\n",
       "      <th></th>\n",
       "      <th>Name</th>\n",
       "      <th>Nickname</th>\n",
       "      <th>Dob</th>\n",
       "      <th>Age</th>\n",
       "      <th>Weight</th>\n",
       "      <th>Height</th>\n",
       "      <th>Reach</th>\n",
       "      <th>Stance</th>\n",
       "      <th>Win</th>\n",
       "      <th>Loss</th>\n",
       "      <th>Draw</th>\n",
       "    </tr>\n",
       "  </thead>\n",
       "  <tbody>\n",
       "    <tr>\n",
       "      <th>2340</th>\n",
       "      <td>Paulo Cesar Silva</td>\n",
       "      <td>Giant</td>\n",
       "      <td>1963-07-21</td>\n",
       "      <td>53.6</td>\n",
       "      <td>385.0</td>\n",
       "      <td>89.0</td>\n",
       "      <td>NaN</td>\n",
       "      <td>Orthodox</td>\n",
       "      <td>2.0</td>\n",
       "      <td>6.0</td>\n",
       "      <td>0.0</td>\n",
       "    </tr>\n",
       "    <tr>\n",
       "      <th>414</th>\n",
       "      <td>Hong Man Choi</td>\n",
       "      <td>Techno Goliath</td>\n",
       "      <td>1980-10-30</td>\n",
       "      <td>36.3</td>\n",
       "      <td>330.0</td>\n",
       "      <td>86.0</td>\n",
       "      <td>NaN</td>\n",
       "      <td>Orthodox</td>\n",
       "      <td>2.0</td>\n",
       "      <td>3.0</td>\n",
       "      <td>0.0</td>\n",
       "    </tr>\n",
       "    <tr>\n",
       "      <th>1972</th>\n",
       "      <td>Cory Peterson</td>\n",
       "      <td>LA Giant</td>\n",
       "      <td>NaT</td>\n",
       "      <td>NaN</td>\n",
       "      <td>400.0</td>\n",
       "      <td>83.0</td>\n",
       "      <td>NaN</td>\n",
       "      <td>Orthodox</td>\n",
       "      <td>2.0</td>\n",
       "      <td>1.0</td>\n",
       "      <td>0.0</td>\n",
       "    </tr>\n",
       "    <tr>\n",
       "      <th>1203</th>\n",
       "      <td>Nathan Jones</td>\n",
       "      <td>NaN</td>\n",
       "      <td>1970-08-21</td>\n",
       "      <td>46.5</td>\n",
       "      <td>345.0</td>\n",
       "      <td>83.0</td>\n",
       "      <td>NaN</td>\n",
       "      <td>Orthodox</td>\n",
       "      <td>0.0</td>\n",
       "      <td>1.0</td>\n",
       "      <td>0.0</td>\n",
       "    </tr>\n",
       "    <tr>\n",
       "      <th>2469</th>\n",
       "      <td>Stefan Struve</td>\n",
       "      <td>Skyscraper</td>\n",
       "      <td>1988-02-18</td>\n",
       "      <td>29.0</td>\n",
       "      <td>265.0</td>\n",
       "      <td>83.0</td>\n",
       "      <td>84.0</td>\n",
       "      <td>Orthodox</td>\n",
       "      <td>32.0</td>\n",
       "      <td>8.0</td>\n",
       "      <td>0.0</td>\n",
       "    </tr>\n",
       "  </tbody>\n",
       "</table>\n",
       "</div>"
      ],
      "text/plain": [
       "                   Name        Nickname        Dob   Age  Weight  Height  \\\n",
       "2340  Paulo Cesar Silva           Giant 1963-07-21  53.6   385.0    89.0   \n",
       "414       Hong Man Choi  Techno Goliath 1980-10-30  36.3   330.0    86.0   \n",
       "1972      Cory Peterson        LA Giant        NaT   NaN   400.0    83.0   \n",
       "1203       Nathan Jones             NaN 1970-08-21  46.5   345.0    83.0   \n",
       "2469      Stefan Struve      Skyscraper 1988-02-18  29.0   265.0    83.0   \n",
       "\n",
       "      Reach    Stance   Win  Loss  Draw  \n",
       "2340    NaN  Orthodox   2.0   6.0   0.0  \n",
       "414     NaN  Orthodox   2.0   3.0   0.0  \n",
       "1972    NaN  Orthodox   2.0   1.0   0.0  \n",
       "1203    NaN  Orthodox   0.0   1.0   0.0  \n",
       "2469   84.0  Orthodox  32.0   8.0   0.0  "
      ]
     },
     "execution_count": 22,
     "metadata": {},
     "output_type": "execute_result"
    }
   ],
   "source": [
    "df.dropna(subset=['Height']).sort_values('Height', ascending=False).head(5)"
   ]
  },
  {
   "cell_type": "markdown",
   "metadata": {},
   "source": [
    "### What is the distriubtion of fighter reach?"
   ]
  },
  {
   "cell_type": "code",
   "execution_count": 23,
   "metadata": {
    "collapsed": false
   },
   "outputs": [
    {
     "data": {
      "text/plain": [
       "<matplotlib.text.Text at 0x111a5fb10>"
      ]
     },
     "execution_count": 23,
     "metadata": {},
     "output_type": "execute_result"
    },
    {
     "data": {
      "image/png": "[encoded data removed]",
      "text/plain": [
       "<matplotlib.figure.Figure at 0x11198ead0>"
      ]
     },
     "metadata": {},
     "output_type": "display_data"
    }
   ],
   "source": [
    "counts, edges, patches = plt.hist(df.Reach.dropna(), bins=np.arange(55.5, 90.5, 1.0))\n",
    "patches[0].set_snap(True)\n",
    "plt.xlabel('Reach (inches)')\n",
    "plt.ylabel('Count')"
   ]
  },
  {
   "cell_type": "markdown",
   "metadata": {},
   "source": [
    "### Which fighters have the longest reach?"
   ]
  },
  {
   "cell_type": "code",
   "execution_count": 24,
   "metadata": {
    "collapsed": false,
    "scrolled": true
   },
   "outputs": [
    {
     "data": {
      "text/html": [
       "<div>\n",
       "<table border=\"1\" class=\"dataframe\">\n",
       "  <thead>\n",
       "    <tr style=\"text-align: right;\">\n",
       "      <th></th>\n",
       "      <th>Name</th>\n",
       "      <th>Nickname</th>\n",
       "      <th>Dob</th>\n",
       "      <th>Age</th>\n",
       "      <th>Weight</th>\n",
       "      <th>Height</th>\n",
       "      <th>Reach</th>\n",
       "      <th>Stance</th>\n",
       "      <th>Win</th>\n",
       "      <th>Loss</th>\n",
       "      <th>Draw</th>\n",
       "    </tr>\n",
       "  </thead>\n",
       "  <tbody>\n",
       "    <tr>\n",
       "      <th>2469</th>\n",
       "      <td>Stefan Struve</td>\n",
       "      <td>Skyscraper</td>\n",
       "      <td>1988-02-18</td>\n",
       "      <td>29.0</td>\n",
       "      <td>265.0</td>\n",
       "      <td>83.0</td>\n",
       "      <td>84.0</td>\n",
       "      <td>Orthodox</td>\n",
       "      <td>32.0</td>\n",
       "      <td>8.0</td>\n",
       "      <td>0.0</td>\n",
       "    </tr>\n",
       "    <tr>\n",
       "      <th>1202</th>\n",
       "      <td>Jon Jones</td>\n",
       "      <td>Bones</td>\n",
       "      <td>1987-07-19</td>\n",
       "      <td>29.6</td>\n",
       "      <td>205.0</td>\n",
       "      <td>76.0</td>\n",
       "      <td>84.0</td>\n",
       "      <td>Orthodox</td>\n",
       "      <td>22.0</td>\n",
       "      <td>1.0</td>\n",
       "      <td>0.0</td>\n",
       "    </tr>\n",
       "    <tr>\n",
       "      <th>1798</th>\n",
       "      <td>Francis Ngannou</td>\n",
       "      <td>The Predator</td>\n",
       "      <td>1986-09-05</td>\n",
       "      <td>30.5</td>\n",
       "      <td>250.0</td>\n",
       "      <td>76.0</td>\n",
       "      <td>83.0</td>\n",
       "      <td>Orthodox</td>\n",
       "      <td>10.0</td>\n",
       "      <td>1.0</td>\n",
       "      <td>0.0</td>\n",
       "    </tr>\n",
       "    <tr>\n",
       "      <th>1190</th>\n",
       "      <td>Lavar Johnson</td>\n",
       "      <td>Big</td>\n",
       "      <td>1977-06-11</td>\n",
       "      <td>39.7</td>\n",
       "      <td>240.0</td>\n",
       "      <td>76.0</td>\n",
       "      <td>82.0</td>\n",
       "      <td>Orthodox</td>\n",
       "      <td>17.0</td>\n",
       "      <td>7.0</td>\n",
       "      <td>0.0</td>\n",
       "    </tr>\n",
       "    <tr>\n",
       "      <th>555</th>\n",
       "      <td>Philip De Fries</td>\n",
       "      <td>NaN</td>\n",
       "      <td>1986-04-21</td>\n",
       "      <td>30.9</td>\n",
       "      <td>250.0</td>\n",
       "      <td>77.0</td>\n",
       "      <td>82.0</td>\n",
       "      <td>Orthodox</td>\n",
       "      <td>9.0</td>\n",
       "      <td>3.0</td>\n",
       "      <td>0.0</td>\n",
       "    </tr>\n",
       "  </tbody>\n",
       "</table>\n",
       "</div>"
      ],
      "text/plain": [
       "                 Name      Nickname        Dob   Age  Weight  Height  Reach  \\\n",
       "2469    Stefan Struve    Skyscraper 1988-02-18  29.0   265.0    83.0   84.0   \n",
       "1202        Jon Jones         Bones 1987-07-19  29.6   205.0    76.0   84.0   \n",
       "1798  Francis Ngannou  The Predator 1986-09-05  30.5   250.0    76.0   83.0   \n",
       "1190    Lavar Johnson           Big 1977-06-11  39.7   240.0    76.0   82.0   \n",
       "555   Philip De Fries           NaN 1986-04-21  30.9   250.0    77.0   82.0   \n",
       "\n",
       "        Stance   Win  Loss  Draw  \n",
       "2469  Orthodox  32.0   8.0   0.0  \n",
       "1202  Orthodox  22.0   1.0   0.0  \n",
       "1798  Orthodox  10.0   1.0   0.0  \n",
       "1190  Orthodox  17.0   7.0   0.0  \n",
       "555   Orthodox   9.0   3.0   0.0  "
      ]
     },
     "execution_count": 24,
     "metadata": {},
     "output_type": "execute_result"
    }
   ],
   "source": [
    "df[pd.notnull(df.Reach)].sort_values('Reach', ascending=False).head(5)"
   ]
  },
  {
   "cell_type": "code",
   "execution_count": 25,
   "metadata": {
    "collapsed": false,
    "scrolled": false
   },
   "outputs": [
    {
     "data": {
      "text/plain": [
       "(55, 90)"
      ]
     },
     "execution_count": 25,
     "metadata": {},
     "output_type": "execute_result"
    },
    {
     "data": {
      "image/png": "[encoded data removed]",
      "text/plain": [
       "<matplotlib.figure.Figure at 0x111a3ccd0>"
      ]
     },
     "metadata": {},
     "output_type": "display_data"
    }
   ],
   "source": [
    "plt.plot([55, 90], [55, 90], 'k-')\n",
    "plt.plot(df.Height, df.Reach, 'wo')\n",
    "plt.xlabel('Height (inches)')\n",
    "plt.ylabel('Reach (inches)')\n",
    "plt.xlim(55, 90)\n",
    "plt.ylim(55, 90)"
   ]
  },
  {
   "cell_type": "markdown",
   "metadata": {},
   "source": [
    "### Cleaning is complete so write the dataframe"
   ]
  },
  {
   "cell_type": "code",
   "execution_count": 26,
   "metadata": {
    "collapsed": true
   },
   "outputs": [],
   "source": [
    "today = pd.to_datetime('today').to_pydatetime()\n",
    "date = '-'.join(map(str, [today.month, today.day, today.year]))\n",
    "cols = ['Name', 'Nickname', 'Dob', 'Age', 'Weight', 'Height', 'Reach', 'Stance', 'Win', 'Loss', 'Draw']\n",
    "df[cols].to_csv('data/fightmetric_fighters/fightmetric_fighters_CLEAN_' + date + '.csv', index=False)"
   ]
  },
  {
   "cell_type": "markdown",
   "metadata": {},
   "source": [
    "### Which fighters have the largest reach-to-height ratio?"
   ]
  },
  {
   "cell_type": "code",
   "execution_count": 27,
   "metadata": {
    "collapsed": false
   },
   "outputs": [
    {
     "data": {
      "text/html": [
       "<div>\n",
       "<table border=\"1\" class=\"dataframe\">\n",
       "  <thead>\n",
       "    <tr style=\"text-align: right;\">\n",
       "      <th></th>\n",
       "      <th>Dob</th>\n",
       "      <th>Age</th>\n",
       "      <th>Weight</th>\n",
       "      <th>Height</th>\n",
       "      <th>Reach</th>\n",
       "      <th>Stance</th>\n",
       "      <th>Win</th>\n",
       "      <th>Loss</th>\n",
       "      <th>Draw</th>\n",
       "      <th>ReachHeight</th>\n",
       "    </tr>\n",
       "  </thead>\n",
       "  <tbody>\n",
       "    <tr>\n",
       "      <th>558</th>\n",
       "      <td>1991-03-12</td>\n",
       "      <td>26.0</td>\n",
       "      <td>155.0</td>\n",
       "      <td>67.0</td>\n",
       "      <td>75.0</td>\n",
       "      <td>Orthodox</td>\n",
       "      <td>8.0</td>\n",
       "      <td>3.0</td>\n",
       "      <td>1.0</td>\n",
       "      <td>1.119403</td>\n",
       "    </tr>\n",
       "    <tr>\n",
       "      <th>1394</th>\n",
       "      <td>1992-09-04</td>\n",
       "      <td>24.5</td>\n",
       "      <td>155.0</td>\n",
       "      <td>69.0</td>\n",
       "      <td>77.0</td>\n",
       "      <td>Orthodox</td>\n",
       "      <td>14.0</td>\n",
       "      <td>2.0</td>\n",
       "      <td>0.0</td>\n",
       "      <td>1.115942</td>\n",
       "    </tr>\n",
       "    <tr>\n",
       "      <th>2395</th>\n",
       "      <td>1984-04-18</td>\n",
       "      <td>32.9</td>\n",
       "      <td>205.0</td>\n",
       "      <td>70.0</td>\n",
       "      <td>78.0</td>\n",
       "      <td>Orthodox</td>\n",
       "      <td>12.0</td>\n",
       "      <td>10.0</td>\n",
       "      <td>0.0</td>\n",
       "      <td>1.114286</td>\n",
       "    </tr>\n",
       "    <tr>\n",
       "      <th>262</th>\n",
       "      <td>1985-04-06</td>\n",
       "      <td>31.9</td>\n",
       "      <td>135.0</td>\n",
       "      <td>64.0</td>\n",
       "      <td>71.0</td>\n",
       "      <td>Southpaw</td>\n",
       "      <td>7.0</td>\n",
       "      <td>5.0</td>\n",
       "      <td>0.0</td>\n",
       "      <td>1.109375</td>\n",
       "    </tr>\n",
       "    <tr>\n",
       "      <th>1358</th>\n",
       "      <td>1992-04-08</td>\n",
       "      <td>24.9</td>\n",
       "      <td>135.0</td>\n",
       "      <td>66.0</td>\n",
       "      <td>73.0</td>\n",
       "      <td>Southpaw</td>\n",
       "      <td>11.0</td>\n",
       "      <td>2.0</td>\n",
       "      <td>0.0</td>\n",
       "      <td>1.106061</td>\n",
       "    </tr>\n",
       "    <tr>\n",
       "      <th>1202</th>\n",
       "      <td>1987-07-19</td>\n",
       "      <td>29.6</td>\n",
       "      <td>205.0</td>\n",
       "      <td>76.0</td>\n",
       "      <td>84.0</td>\n",
       "      <td>Orthodox</td>\n",
       "      <td>22.0</td>\n",
       "      <td>1.0</td>\n",
       "      <td>0.0</td>\n",
       "      <td>1.105263</td>\n",
       "    </tr>\n",
       "    <tr>\n",
       "      <th>217</th>\n",
       "      <td>1981-10-24</td>\n",
       "      <td>35.4</td>\n",
       "      <td>155.0</td>\n",
       "      <td>68.0</td>\n",
       "      <td>75.0</td>\n",
       "      <td>Orthodox</td>\n",
       "      <td>12.0</td>\n",
       "      <td>5.0</td>\n",
       "      <td>0.0</td>\n",
       "      <td>1.102941</td>\n",
       "    </tr>\n",
       "    <tr>\n",
       "      <th>528</th>\n",
       "      <td>1983-02-21</td>\n",
       "      <td>34.0</td>\n",
       "      <td>170.0</td>\n",
       "      <td>69.0</td>\n",
       "      <td>76.0</td>\n",
       "      <td>Orthodox</td>\n",
       "      <td>31.0</td>\n",
       "      <td>11.0</td>\n",
       "      <td>2.0</td>\n",
       "      <td>1.101449</td>\n",
       "    </tr>\n",
       "    <tr>\n",
       "      <th>759</th>\n",
       "      <td>1984-01-07</td>\n",
       "      <td>33.2</td>\n",
       "      <td>155.0</td>\n",
       "      <td>69.0</td>\n",
       "      <td>76.0</td>\n",
       "      <td>Orthodox</td>\n",
       "      <td>7.0</td>\n",
       "      <td>3.0</td>\n",
       "      <td>0.0</td>\n",
       "      <td>1.101449</td>\n",
       "    </tr>\n",
       "    <tr>\n",
       "      <th>2570</th>\n",
       "      <td>1981-01-18</td>\n",
       "      <td>36.1</td>\n",
       "      <td>135.0</td>\n",
       "      <td>69.0</td>\n",
       "      <td>76.0</td>\n",
       "      <td>Orthodox</td>\n",
       "      <td>39.0</td>\n",
       "      <td>5.0</td>\n",
       "      <td>0.0</td>\n",
       "      <td>1.101449</td>\n",
       "    </tr>\n",
       "  </tbody>\n",
       "</table>\n",
       "</div>"
      ],
      "text/plain": [
       "            Dob   Age  Weight  Height  Reach    Stance   Win  Loss  Draw  \\\n",
       "558  1991-03-12  26.0   155.0    67.0   75.0  Orthodox   8.0   3.0   1.0   \n",
       "1394 1992-09-04  24.5   155.0    69.0   77.0  Orthodox  14.0   2.0   0.0   \n",
       "2395 1984-04-18  32.9   205.0    70.0   78.0  Orthodox  12.0  10.0   0.0   \n",
       "262  1985-04-06  31.9   135.0    64.0   71.0  Southpaw   7.0   5.0   0.0   \n",
       "1358 1992-04-08  24.9   135.0    66.0   73.0  Southpaw  11.0   2.0   0.0   \n",
       "1202 1987-07-19  29.6   205.0    76.0   84.0  Orthodox  22.0   1.0   0.0   \n",
       "217  1981-10-24  35.4   155.0    68.0   75.0  Orthodox  12.0   5.0   0.0   \n",
       "528  1983-02-21  34.0   170.0    69.0   76.0  Orthodox  31.0  11.0   2.0   \n",
       "759  1984-01-07  33.2   155.0    69.0   76.0  Orthodox   7.0   3.0   0.0   \n",
       "2570 1981-01-18  36.1   135.0    69.0   76.0  Orthodox  39.0   5.0   0.0   \n",
       "\n",
       "      ReachHeight  \n",
       "558      1.119403  \n",
       "1394     1.115942  \n",
       "2395     1.114286  \n",
       "262      1.109375  \n",
       "1358     1.106061  \n",
       "1202     1.105263  \n",
       "217      1.102941  \n",
       "528      1.101449  \n",
       "759      1.101449  \n",
       "2570     1.101449  "
      ]
     },
     "execution_count": 27,
     "metadata": {},
     "output_type": "execute_result"
    }
   ],
   "source": [
    "df['ReachHeight'] = df.Reach / df.Height\n",
    "df.drop(['Nickname', 'Name'], axis=1).dropna(subset=['Reach', 'Height']).sort_values('ReachHeight', ascending=False).head(10)"
   ]
  },
  {
   "cell_type": "markdown",
   "metadata": {},
   "source": [
    "### Which fighters have the smallest reach-to-height ratio?"
   ]
  },
  {
   "cell_type": "code",
   "execution_count": 28,
   "metadata": {
    "collapsed": false
   },
   "outputs": [
    {
     "data": {
      "text/html": [
       "<div>\n",
       "<table border=\"1\" class=\"dataframe\">\n",
       "  <thead>\n",
       "    <tr style=\"text-align: right;\">\n",
       "      <th></th>\n",
       "      <th>Dob</th>\n",
       "      <th>Age</th>\n",
       "      <th>Weight</th>\n",
       "      <th>Height</th>\n",
       "      <th>Reach</th>\n",
       "      <th>Stance</th>\n",
       "      <th>Win</th>\n",
       "      <th>Loss</th>\n",
       "      <th>Draw</th>\n",
       "      <th>ReachHeight</th>\n",
       "    </tr>\n",
       "  </thead>\n",
       "  <tbody>\n",
       "    <tr>\n",
       "      <th>1443</th>\n",
       "      <td>1986-11-08</td>\n",
       "      <td>30.3</td>\n",
       "      <td>145.0</td>\n",
       "      <td>69.0</td>\n",
       "      <td>65.0</td>\n",
       "      <td>Southpaw</td>\n",
       "      <td>14.0</td>\n",
       "      <td>12.0</td>\n",
       "      <td>1.0</td>\n",
       "      <td>0.942029</td>\n",
       "    </tr>\n",
       "    <tr>\n",
       "      <th>1494</th>\n",
       "      <td>1981-04-08</td>\n",
       "      <td>35.9</td>\n",
       "      <td>155.0</td>\n",
       "      <td>69.0</td>\n",
       "      <td>65.0</td>\n",
       "      <td>Orthodox</td>\n",
       "      <td>11.0</td>\n",
       "      <td>3.0</td>\n",
       "      <td>0.0</td>\n",
       "      <td>0.942029</td>\n",
       "    </tr>\n",
       "    <tr>\n",
       "      <th>807</th>\n",
       "      <td>1989-12-29</td>\n",
       "      <td>27.2</td>\n",
       "      <td>135.0</td>\n",
       "      <td>65.0</td>\n",
       "      <td>62.0</td>\n",
       "      <td>Orthodox</td>\n",
       "      <td>10.0</td>\n",
       "      <td>6.0</td>\n",
       "      <td>1.0</td>\n",
       "      <td>0.953846</td>\n",
       "    </tr>\n",
       "    <tr>\n",
       "      <th>1214</th>\n",
       "      <td>1985-10-04</td>\n",
       "      <td>31.4</td>\n",
       "      <td>115.0</td>\n",
       "      <td>67.0</td>\n",
       "      <td>64.0</td>\n",
       "      <td>Orthodox</td>\n",
       "      <td>6.0</td>\n",
       "      <td>4.0</td>\n",
       "      <td>0.0</td>\n",
       "      <td>0.955224</td>\n",
       "    </tr>\n",
       "    <tr>\n",
       "      <th>824</th>\n",
       "      <td>1991-07-07</td>\n",
       "      <td>25.7</td>\n",
       "      <td>135.0</td>\n",
       "      <td>68.0</td>\n",
       "      <td>65.0</td>\n",
       "      <td>Orthodox</td>\n",
       "      <td>11.0</td>\n",
       "      <td>0.0</td>\n",
       "      <td>0.0</td>\n",
       "      <td>0.955882</td>\n",
       "    </tr>\n",
       "    <tr>\n",
       "      <th>2387</th>\n",
       "      <td>1982-08-17</td>\n",
       "      <td>34.6</td>\n",
       "      <td>135.0</td>\n",
       "      <td>69.0</td>\n",
       "      <td>66.0</td>\n",
       "      <td>Orthodox</td>\n",
       "      <td>9.0</td>\n",
       "      <td>7.0</td>\n",
       "      <td>1.0</td>\n",
       "      <td>0.956522</td>\n",
       "    </tr>\n",
       "    <tr>\n",
       "      <th>875</th>\n",
       "      <td>1986-03-31</td>\n",
       "      <td>30.9</td>\n",
       "      <td>135.0</td>\n",
       "      <td>70.0</td>\n",
       "      <td>67.0</td>\n",
       "      <td>Orthodox</td>\n",
       "      <td>10.0</td>\n",
       "      <td>4.0</td>\n",
       "      <td>0.0</td>\n",
       "      <td>0.957143</td>\n",
       "    </tr>\n",
       "    <tr>\n",
       "      <th>1475</th>\n",
       "      <td>1974-08-18</td>\n",
       "      <td>42.5</td>\n",
       "      <td>170.0</td>\n",
       "      <td>71.0</td>\n",
       "      <td>68.0</td>\n",
       "      <td>Orthodox</td>\n",
       "      <td>31.0</td>\n",
       "      <td>18.0</td>\n",
       "      <td>5.0</td>\n",
       "      <td>0.957746</td>\n",
       "    </tr>\n",
       "    <tr>\n",
       "      <th>1724</th>\n",
       "      <td>1979-12-16</td>\n",
       "      <td>37.2</td>\n",
       "      <td>135.0</td>\n",
       "      <td>73.0</td>\n",
       "      <td>70.0</td>\n",
       "      <td>NaN</td>\n",
       "      <td>2.0</td>\n",
       "      <td>1.0</td>\n",
       "      <td>0.0</td>\n",
       "      <td>0.958904</td>\n",
       "    </tr>\n",
       "    <tr>\n",
       "      <th>637</th>\n",
       "      <td>1989-08-04</td>\n",
       "      <td>27.6</td>\n",
       "      <td>135.0</td>\n",
       "      <td>63.0</td>\n",
       "      <td>61.0</td>\n",
       "      <td>Orthodox</td>\n",
       "      <td>11.0</td>\n",
       "      <td>5.0</td>\n",
       "      <td>0.0</td>\n",
       "      <td>0.968254</td>\n",
       "    </tr>\n",
       "  </tbody>\n",
       "</table>\n",
       "</div>"
      ],
      "text/plain": [
       "            Dob   Age  Weight  Height  Reach    Stance   Win  Loss  Draw  \\\n",
       "1443 1986-11-08  30.3   145.0    69.0   65.0  Southpaw  14.0  12.0   1.0   \n",
       "1494 1981-04-08  35.9   155.0    69.0   65.0  Orthodox  11.0   3.0   0.0   \n",
       "807  1989-12-29  27.2   135.0    65.0   62.0  Orthodox  10.0   6.0   1.0   \n",
       "1214 1985-10-04  31.4   115.0    67.0   64.0  Orthodox   6.0   4.0   0.0   \n",
       "824  1991-07-07  25.7   135.0    68.0   65.0  Orthodox  11.0   0.0   0.0   \n",
       "2387 1982-08-17  34.6   135.0    69.0   66.0  Orthodox   9.0   7.0   1.0   \n",
       "875  1986-03-31  30.9   135.0    70.0   67.0  Orthodox  10.0   4.0   0.0   \n",
       "1475 1974-08-18  42.5   170.0    71.0   68.0  Orthodox  31.0  18.0   5.0   \n",
       "1724 1979-12-16  37.2   135.0    73.0   70.0       NaN   2.0   1.0   0.0   \n",
       "637  1989-08-04  27.6   135.0    63.0   61.0  Orthodox  11.0   5.0   0.0   \n",
       "\n",
       "      ReachHeight  \n",
       "1443     0.942029  \n",
       "1494     0.942029  \n",
       "807      0.953846  \n",
       "1214     0.955224  \n",
       "824      0.955882  \n",
       "2387     0.956522  \n",
       "875      0.957143  \n",
       "1475     0.957746  \n",
       "1724     0.958904  \n",
       "637      0.968254  "
      ]
     },
     "execution_count": 28,
     "metadata": {},
     "output_type": "execute_result"
    }
   ],
   "source": [
    "df.drop(['Nickname', 'Name'], axis=1).dropna(subset=['Reach', 'Height']).sort_values('ReachHeight', ascending=True).head(10)"
   ]
  },
  {
   "cell_type": "markdown",
   "metadata": {},
   "source": [
    "### Which fighters have the most fights?"
   ]
  },
  {
   "cell_type": "code",
   "execution_count": 29,
   "metadata": {
    "collapsed": true
   },
   "outputs": [],
   "source": [
    "df['Fights'] = df['Win'] + df['Loss'] + df['Draw']\n",
    "df['WinRatio'] = df['Win'] / df['Fights']"
   ]
  },
  {
   "cell_type": "code",
   "execution_count": 30,
   "metadata": {
    "collapsed": false
   },
   "outputs": [
    {
     "data": {
      "text/html": [
       "<div>\n",
       "<table border=\"1\" class=\"dataframe\">\n",
       "  <thead>\n",
       "    <tr style=\"text-align: right;\">\n",
       "      <th></th>\n",
       "      <th>Dob</th>\n",
       "      <th>Age</th>\n",
       "      <th>Weight</th>\n",
       "      <th>Height</th>\n",
       "      <th>Reach</th>\n",
       "      <th>Stance</th>\n",
       "      <th>Win</th>\n",
       "      <th>Loss</th>\n",
       "      <th>Draw</th>\n",
       "      <th>ReachHeight</th>\n",
       "      <th>Fights</th>\n",
       "      <th>WinRatio</th>\n",
       "    </tr>\n",
       "  </thead>\n",
       "  <tbody>\n",
       "    <tr>\n",
       "      <th>799</th>\n",
       "      <td>1977-05-29</td>\n",
       "      <td>39.8</td>\n",
       "      <td>240.0</td>\n",
       "      <td>72.0</td>\n",
       "      <td>NaN</td>\n",
       "      <td>Orthodox</td>\n",
       "      <td>127.0</td>\n",
       "      <td>49.0</td>\n",
       "      <td>10.0</td>\n",
       "      <td>NaN</td>\n",
       "      <td>186.0</td>\n",
       "      <td>0.682796</td>\n",
       "    </tr>\n",
       "    <tr>\n",
       "      <th>2307</th>\n",
       "      <td>1958-06-08</td>\n",
       "      <td>58.7</td>\n",
       "      <td>250.0</td>\n",
       "      <td>74.0</td>\n",
       "      <td>NaN</td>\n",
       "      <td>Southpaw</td>\n",
       "      <td>100.0</td>\n",
       "      <td>18.0</td>\n",
       "      <td>7.0</td>\n",
       "      <td>NaN</td>\n",
       "      <td>125.0</td>\n",
       "      <td>0.800000</td>\n",
       "    </tr>\n",
       "    <tr>\n",
       "      <th>2104</th>\n",
       "      <td>1970-09-27</td>\n",
       "      <td>46.4</td>\n",
       "      <td>190.0</td>\n",
       "      <td>69.0</td>\n",
       "      <td>NaN</td>\n",
       "      <td>Orthodox</td>\n",
       "      <td>47.0</td>\n",
       "      <td>74.0</td>\n",
       "      <td>0.0</td>\n",
       "      <td>NaN</td>\n",
       "      <td>121.0</td>\n",
       "      <td>0.388430</td>\n",
       "    </tr>\n",
       "    <tr>\n",
       "      <th>1089</th>\n",
       "      <td>1975-08-25</td>\n",
       "      <td>41.5</td>\n",
       "      <td>185.0</td>\n",
       "      <td>73.0</td>\n",
       "      <td>74.0</td>\n",
       "      <td>Orthodox</td>\n",
       "      <td>88.0</td>\n",
       "      <td>21.0</td>\n",
       "      <td>5.0</td>\n",
       "      <td>1.013699</td>\n",
       "      <td>114.0</td>\n",
       "      <td>0.771930</td>\n",
       "    </tr>\n",
       "    <tr>\n",
       "      <th>2066</th>\n",
       "      <td>NaT</td>\n",
       "      <td>NaN</td>\n",
       "      <td>205.0</td>\n",
       "      <td>NaN</td>\n",
       "      <td>NaN</td>\n",
       "      <td>Orthodox</td>\n",
       "      <td>43.0</td>\n",
       "      <td>52.0</td>\n",
       "      <td>1.0</td>\n",
       "      <td>NaN</td>\n",
       "      <td>96.0</td>\n",
       "      <td>0.447917</td>\n",
       "    </tr>\n",
       "  </tbody>\n",
       "</table>\n",
       "</div>"
      ],
      "text/plain": [
       "            Dob   Age  Weight  Height  Reach    Stance    Win  Loss  Draw  \\\n",
       "799  1977-05-29  39.8   240.0    72.0    NaN  Orthodox  127.0  49.0  10.0   \n",
       "2307 1958-06-08  58.7   250.0    74.0    NaN  Southpaw  100.0  18.0   7.0   \n",
       "2104 1970-09-27  46.4   190.0    69.0    NaN  Orthodox   47.0  74.0   0.0   \n",
       "1089 1975-08-25  41.5   185.0    73.0   74.0  Orthodox   88.0  21.0   5.0   \n",
       "2066        NaT   NaN   205.0     NaN    NaN  Orthodox   43.0  52.0   1.0   \n",
       "\n",
       "      ReachHeight  Fights  WinRatio  \n",
       "799           NaN   186.0  0.682796  \n",
       "2307          NaN   125.0  0.800000  \n",
       "2104          NaN   121.0  0.388430  \n",
       "1089     1.013699   114.0  0.771930  \n",
       "2066          NaN    96.0  0.447917  "
      ]
     },
     "execution_count": 30,
     "metadata": {},
     "output_type": "execute_result"
    }
   ],
   "source": [
    "df.sort_values('Fights', ascending=False).head(5).drop(['Nickname', 'Name'], axis=1)"
   ]
  },
  {
   "cell_type": "markdown",
   "metadata": {},
   "source": [
    "### Which fighters (with more than 15 fights) have the best win ratio?"
   ]
  },
  {
   "cell_type": "code",
   "execution_count": 31,
   "metadata": {
    "collapsed": false
   },
   "outputs": [
    {
     "data": {
      "text/html": [
       "<div>\n",
       "<table border=\"1\" class=\"dataframe\">\n",
       "  <thead>\n",
       "    <tr style=\"text-align: right;\">\n",
       "      <th></th>\n",
       "      <th>Dob</th>\n",
       "      <th>Age</th>\n",
       "      <th>Weight</th>\n",
       "      <th>Height</th>\n",
       "      <th>Reach</th>\n",
       "      <th>Stance</th>\n",
       "      <th>Win</th>\n",
       "      <th>Loss</th>\n",
       "      <th>Draw</th>\n",
       "      <th>ReachHeight</th>\n",
       "      <th>Fights</th>\n",
       "      <th>WinRatio</th>\n",
       "    </tr>\n",
       "  </thead>\n",
       "  <tbody>\n",
       "    <tr>\n",
       "      <th>1659</th>\n",
       "      <td>1979-02-20</td>\n",
       "      <td>38.0</td>\n",
       "      <td>185.0</td>\n",
       "      <td>71.0</td>\n",
       "      <td>NaN</td>\n",
       "      <td>Orthodox</td>\n",
       "      <td>16.0</td>\n",
       "      <td>0.0</td>\n",
       "      <td>0.0</td>\n",
       "      <td>NaN</td>\n",
       "      <td>16.0</td>\n",
       "      <td>1.000000</td>\n",
       "    </tr>\n",
       "    <tr>\n",
       "      <th>1833</th>\n",
       "      <td>1988-09-20</td>\n",
       "      <td>28.5</td>\n",
       "      <td>155.0</td>\n",
       "      <td>70.0</td>\n",
       "      <td>70.0</td>\n",
       "      <td>Orthodox</td>\n",
       "      <td>24.0</td>\n",
       "      <td>0.0</td>\n",
       "      <td>0.0</td>\n",
       "      <td>1.000000</td>\n",
       "      <td>24.0</td>\n",
       "      <td>1.000000</td>\n",
       "    </tr>\n",
       "    <tr>\n",
       "      <th>1794</th>\n",
       "      <td>1994-04-25</td>\n",
       "      <td>22.9</td>\n",
       "      <td>145.0</td>\n",
       "      <td>68.0</td>\n",
       "      <td>NaN</td>\n",
       "      <td>NaN</td>\n",
       "      <td>30.0</td>\n",
       "      <td>1.0</td>\n",
       "      <td>0.0</td>\n",
       "      <td>NaN</td>\n",
       "      <td>31.0</td>\n",
       "      <td>0.967742</td>\n",
       "    </tr>\n",
       "    <tr>\n",
       "      <th>2353</th>\n",
       "      <td>1985-06-22</td>\n",
       "      <td>31.7</td>\n",
       "      <td>135.0</td>\n",
       "      <td>67.0</td>\n",
       "      <td>68.0</td>\n",
       "      <td>Orthodox</td>\n",
       "      <td>24.0</td>\n",
       "      <td>1.0</td>\n",
       "      <td>0.0</td>\n",
       "      <td>1.014925</td>\n",
       "      <td>25.0</td>\n",
       "      <td>0.960000</td>\n",
       "    </tr>\n",
       "    <tr>\n",
       "      <th>1202</th>\n",
       "      <td>1987-07-19</td>\n",
       "      <td>29.6</td>\n",
       "      <td>205.0</td>\n",
       "      <td>76.0</td>\n",
       "      <td>84.0</td>\n",
       "      <td>Orthodox</td>\n",
       "      <td>22.0</td>\n",
       "      <td>1.0</td>\n",
       "      <td>0.0</td>\n",
       "      <td>1.105263</td>\n",
       "      <td>23.0</td>\n",
       "      <td>0.956522</td>\n",
       "    </tr>\n",
       "  </tbody>\n",
       "</table>\n",
       "</div>"
      ],
      "text/plain": [
       "            Dob   Age  Weight  Height  Reach    Stance   Win  Loss  Draw  \\\n",
       "1659 1979-02-20  38.0   185.0    71.0    NaN  Orthodox  16.0   0.0   0.0   \n",
       "1833 1988-09-20  28.5   155.0    70.0   70.0  Orthodox  24.0   0.0   0.0   \n",
       "1794 1994-04-25  22.9   145.0    68.0    NaN       NaN  30.0   1.0   0.0   \n",
       "2353 1985-06-22  31.7   135.0    67.0   68.0  Orthodox  24.0   1.0   0.0   \n",
       "1202 1987-07-19  29.6   205.0    76.0   84.0  Orthodox  22.0   1.0   0.0   \n",
       "\n",
       "      ReachHeight  Fights  WinRatio  \n",
       "1659          NaN    16.0  1.000000  \n",
       "1833     1.000000    24.0  1.000000  \n",
       "1794          NaN    31.0  0.967742  \n",
       "2353     1.014925    25.0  0.960000  \n",
       "1202     1.105263    23.0  0.956522  "
      ]
     },
     "execution_count": 31,
     "metadata": {},
     "output_type": "execute_result"
    }
   ],
   "source": [
    "df[df.Fights > 15].sort_values('WinRatio', ascending=False).head(5).drop(['Nickname', 'Name'], axis=1)"
   ]
  },
  {
   "cell_type": "markdown",
   "metadata": {},
   "source": [
    "### What is the distribution of win ratios?"
   ]
  },
  {
   "cell_type": "code",
   "execution_count": 32,
   "metadata": {
    "collapsed": false
   },
   "outputs": [
    {
     "data": {
      "text/plain": [
       "<matplotlib.text.Text at 0x111f81a50>"
      ]
     },
     "execution_count": 32,
     "metadata": {},
     "output_type": "execute_result"
    },
    {
     "data": {
      "image/png": "[encoded data removed]",
      "text/plain": [
       "<matplotlib.figure.Figure at 0x111f509d0>"
      ]
     },
     "metadata": {},
     "output_type": "display_data"
    }
   ],
   "source": [
    "plt.hist(df.WinRatio.dropna(), bins=25)\n",
    "plt.xlabel('Win ratio')\n",
    "plt.ylabel('Count')"
   ]
  },
  {
   "cell_type": "markdown",
   "metadata": {},
   "source": [
    "### How does win ratio vary with reach-to-height ratio (for fighters with more than 10 fights)?"
   ]
  },
  {
   "cell_type": "code",
   "execution_count": 33,
   "metadata": {
    "collapsed": false
   },
   "outputs": [
    {
     "data": {
      "text/plain": [
       "<matplotlib.text.Text at 0x11242d650>"
      ]
     },
     "execution_count": 33,
     "metadata": {},
     "output_type": "execute_result"
    },
    {
     "data": {
      "image/png": "[encoded data removed]",
      "text/plain": [
       "<matplotlib.figure.Figure at 0x112291b10>"
      ]
     },
     "metadata": {},
     "output_type": "display_data"
    }
   ],
   "source": [
    "f10 = df[df.Fights > 10][['WinRatio', 'ReachHeight']].dropna()\n",
    "m, b = np.polyfit(f10.ReachHeight.values, f10.WinRatio.values, 1)\n",
    "plt.plot(f10.ReachHeight, f10.WinRatio, 'wo')\n",
    "plt.plot(np.linspace(0.9, 1.15), m * np.linspace(0.9, 1.15) + b, 'k-')\n",
    "plt.xlim(0.9, 1.15)\n",
    "plt.ylim(0, 1.2)\n",
    "plt.xlabel('Reach / Height')\n",
    "plt.ylabel('Win ratio')"
   ]
  },
  {
   "cell_type": "markdown",
   "metadata": {},
   "source": [
    "#### Statistical Test"
   ]
  },
  {
   "cell_type": "code",
   "execution_count": 34,
   "metadata": {
    "collapsed": false
   },
   "outputs": [
    {
     "name": "stdout",
     "output_type": "stream",
     "text": [
      "0.0834931863553 0.00802894488485\n",
      "0.0722699544644 0.0218185085266\n"
     ]
    }
   ],
   "source": [
    "from scipy.stats import pearsonr, spearmanr\n",
    "\n",
    "corr_pearson, p_value_pearson = pearsonr(f10.ReachHeight, f10.WinRatio)\n",
    "corr_spearman, p_value_spearman = spearmanr(f10.ReachHeight, f10.WinRatio)\n",
    "print corr_pearson, p_value_pearson\n",
    "print corr_spearman, p_value_spearman"
   ]
  },
  {
   "cell_type": "markdown",
   "metadata": {},
   "source": [
    "We see that the correlation is small but statistically significant according to both measures."
   ]
  },
  {
   "cell_type": "markdown",
   "metadata": {},
   "source": [
    "### What are the different stances and how many fighters use them?"
   ]
  },
  {
   "cell_type": "code",
   "execution_count": 35,
   "metadata": {
    "collapsed": false
   },
   "outputs": [
    {
     "data": {
      "text/html": [
       "<div>\n",
       "<table border=\"1\" class=\"dataframe\">\n",
       "  <thead>\n",
       "    <tr style=\"text-align: right;\">\n",
       "      <th></th>\n",
       "      <th>Count</th>\n",
       "      <th>Percentage</th>\n",
       "    </tr>\n",
       "  </thead>\n",
       "  <tbody>\n",
       "    <tr>\n",
       "      <th>Orthodox</th>\n",
       "      <td>1611</td>\n",
       "      <td>79.71</td>\n",
       "    </tr>\n",
       "    <tr>\n",
       "      <th>Southpaw</th>\n",
       "      <td>352</td>\n",
       "      <td>17.42</td>\n",
       "    </tr>\n",
       "    <tr>\n",
       "      <th>Switch</th>\n",
       "      <td>48</td>\n",
       "      <td>2.38</td>\n",
       "    </tr>\n",
       "    <tr>\n",
       "      <th>Open Stance</th>\n",
       "      <td>7</td>\n",
       "      <td>0.35</td>\n",
       "    </tr>\n",
       "    <tr>\n",
       "      <th>Sideways</th>\n",
       "      <td>3</td>\n",
       "      <td>0.15</td>\n",
       "    </tr>\n",
       "  </tbody>\n",
       "</table>\n",
       "</div>"
      ],
      "text/plain": [
       "             Count  Percentage\n",
       "Orthodox      1611       79.71\n",
       "Southpaw       352       17.42\n",
       "Switch          48        2.38\n",
       "Open Stance      7        0.35\n",
       "Sideways         3        0.15"
      ]
     },
     "execution_count": 35,
     "metadata": {},
     "output_type": "execute_result"
    }
   ],
   "source": [
    "stance_overview = pd.DataFrame([df.Stance.value_counts(normalize=False), 100 * df.Stance.value_counts(normalize=True)]).T.applymap(lambda x: round(x, 2))\n",
    "stance_overview.columns = ['Count', 'Percentage']\n",
    "stance_overview.astype({'Count':int})"
   ]
  },
  {
   "cell_type": "markdown",
   "metadata": {},
   "source": [
    "### What are the average win ratio, height and reach for each stance?"
   ]
  },
  {
   "cell_type": "code",
   "execution_count": 36,
   "metadata": {
    "collapsed": false
   },
   "outputs": [
    {
     "data": {
      "text/html": [
       "<div>\n",
       "<table border=\"1\" class=\"dataframe\">\n",
       "  <thead>\n",
       "    <tr>\n",
       "      <th></th>\n",
       "      <th>Height</th>\n",
       "      <th>Reach</th>\n",
       "      <th colspan=\"3\" halign=\"left\">WinRatio</th>\n",
       "    </tr>\n",
       "    <tr>\n",
       "      <th></th>\n",
       "      <th>mean</th>\n",
       "      <th>mean</th>\n",
       "      <th>size</th>\n",
       "      <th>mean</th>\n",
       "      <th>std</th>\n",
       "    </tr>\n",
       "    <tr>\n",
       "      <th>Stance</th>\n",
       "      <th></th>\n",
       "      <th></th>\n",
       "      <th></th>\n",
       "      <th></th>\n",
       "      <th></th>\n",
       "    </tr>\n",
       "  </thead>\n",
       "  <tbody>\n",
       "    <tr>\n",
       "      <th>Open Stance</th>\n",
       "      <td>73.571429</td>\n",
       "      <td>74.500000</td>\n",
       "      <td>7.0</td>\n",
       "      <td>0.568526</td>\n",
       "      <td>0.159215</td>\n",
       "    </tr>\n",
       "    <tr>\n",
       "      <th>Orthodox</th>\n",
       "      <td>70.678436</td>\n",
       "      <td>71.998864</td>\n",
       "      <td>1611.0</td>\n",
       "      <td>0.653261</td>\n",
       "      <td>0.197109</td>\n",
       "    </tr>\n",
       "    <tr>\n",
       "      <th>Sideways</th>\n",
       "      <td>72.666667</td>\n",
       "      <td>NaN</td>\n",
       "      <td>3.0</td>\n",
       "      <td>0.388889</td>\n",
       "      <td>0.346944</td>\n",
       "    </tr>\n",
       "    <tr>\n",
       "      <th>Southpaw</th>\n",
       "      <td>70.381089</td>\n",
       "      <td>71.810680</td>\n",
       "      <td>352.0</td>\n",
       "      <td>0.668670</td>\n",
       "      <td>0.189263</td>\n",
       "    </tr>\n",
       "    <tr>\n",
       "      <th>Switch</th>\n",
       "      <td>71.104167</td>\n",
       "      <td>72.382353</td>\n",
       "      <td>48.0</td>\n",
       "      <td>0.703476</td>\n",
       "      <td>0.191147</td>\n",
       "    </tr>\n",
       "  </tbody>\n",
       "</table>\n",
       "</div>"
      ],
      "text/plain": [
       "                Height      Reach WinRatio                    \n",
       "                  mean       mean     size      mean       std\n",
       "Stance                                                        \n",
       "Open Stance  73.571429  74.500000      7.0  0.568526  0.159215\n",
       "Orthodox     70.678436  71.998864   1611.0  0.653261  0.197109\n",
       "Sideways     72.666667        NaN      3.0  0.388889  0.346944\n",
       "Southpaw     70.381089  71.810680    352.0  0.668670  0.189263\n",
       "Switch       71.104167  72.382353     48.0  0.703476  0.191147"
      ]
     },
     "execution_count": 36,
     "metadata": {},
     "output_type": "execute_result"
    }
   ],
   "source": [
    "df.groupby('Stance').agg({'WinRatio':[np.size, np.mean, np.std], 'Height':np.mean, 'Reach':np.mean})"
   ]
  },
  {
   "cell_type": "markdown",
   "metadata": {},
   "source": [
    "### Is the win ratio of southpaws higher than that of orthodox (for fighters with more than 10 fights)?"
   ]
  },
  {
   "cell_type": "code",
   "execution_count": 37,
   "metadata": {
    "collapsed": false
   },
   "outputs": [
    {
     "data": {
      "text/html": [
       "<div>\n",
       "<table border=\"1\" class=\"dataframe\">\n",
       "  <thead>\n",
       "    <tr>\n",
       "      <th></th>\n",
       "      <th colspan=\"3\" halign=\"left\">Height</th>\n",
       "      <th colspan=\"2\" halign=\"left\">Reach</th>\n",
       "      <th colspan=\"2\" halign=\"left\">WinRatio</th>\n",
       "    </tr>\n",
       "    <tr>\n",
       "      <th></th>\n",
       "      <th>size</th>\n",
       "      <th>mean</th>\n",
       "      <th>std</th>\n",
       "      <th>mean</th>\n",
       "      <th>std</th>\n",
       "      <th>mean</th>\n",
       "      <th>std</th>\n",
       "    </tr>\n",
       "    <tr>\n",
       "      <th>Stance</th>\n",
       "      <th></th>\n",
       "      <th></th>\n",
       "      <th></th>\n",
       "      <th></th>\n",
       "      <th></th>\n",
       "      <th></th>\n",
       "      <th></th>\n",
       "    </tr>\n",
       "  </thead>\n",
       "  <tbody>\n",
       "    <tr>\n",
       "      <th>Orthodox</th>\n",
       "      <td>1203.0</td>\n",
       "      <td>70.599</td>\n",
       "      <td>3.272</td>\n",
       "      <td>72.070</td>\n",
       "      <td>3.943</td>\n",
       "      <td>0.688</td>\n",
       "      <td>0.127</td>\n",
       "    </tr>\n",
       "    <tr>\n",
       "      <th>Southpaw</th>\n",
       "      <td>277.0</td>\n",
       "      <td>70.238</td>\n",
       "      <td>2.994</td>\n",
       "      <td>71.841</td>\n",
       "      <td>3.542</td>\n",
       "      <td>0.702</td>\n",
       "      <td>0.129</td>\n",
       "    </tr>\n",
       "  </tbody>\n",
       "</table>\n",
       "</div>"
      ],
      "text/plain": [
       "          Height                  Reach        WinRatio       \n",
       "            size    mean    std    mean    std     mean    std\n",
       "Stance                                                        \n",
       "Orthodox  1203.0  70.599  3.272  72.070  3.943    0.688  0.127\n",
       "Southpaw   277.0  70.238  2.994  71.841  3.542    0.702  0.129"
      ]
     },
     "execution_count": 37,
     "metadata": {},
     "output_type": "execute_result"
    }
   ],
   "source": [
    "f10_stance = df[df.Stance.isin(['Orthodox', 'Southpaw']) & (df.Fights > 10)]\n",
    "stance = f10_stance.groupby('Stance').agg({'WinRatio':[np.mean, np.std], 'Height':[np.size, np.mean, np.std], 'Reach':[np.mean, np.std]})\n",
    "stance.astype({('Height', 'size'):int}).applymap(lambda x: round(x, 3))"
   ]
  },
  {
   "cell_type": "code",
   "execution_count": 38,
   "metadata": {
    "collapsed": false,
    "scrolled": true
   },
   "outputs": [
    {
     "data": {
      "text/plain": [
       "<matplotlib.text.Text at 0x113ed2d50>"
      ]
     },
     "execution_count": 38,
     "metadata": {},
     "output_type": "execute_result"
    },
    {
     "data": {
      "image/png": "[encoded data removed]",
      "text/plain": [
       "<matplotlib.figure.Figure at 0x113e9ad90>"
      ]
     },
     "metadata": {},
     "output_type": "display_data"
    }
   ],
   "source": [
    "fig = plt.figure(1, figsize=(4, 3))\n",
    "plt.bar(range(stance.shape[0]), stance[('WinRatio', 'mean')], width=0.5, tick_label=stance.index.values, align='center')\n",
    "plt.ylim(0, 1)\n",
    "plt.ylabel('Win ratio')"
   ]
  },
  {
   "cell_type": "code",
   "execution_count": 39,
   "metadata": {
    "collapsed": false
   },
   "outputs": [],
   "source": [
    "orthodox = f10_stance[(f10_stance.Stance == 'Orthodox')].WinRatio\n",
    "southpaw = f10_stance[(f10_stance.Stance == 'Southpaw')].WinRatio"
   ]
  },
  {
   "cell_type": "code",
   "execution_count": 40,
   "metadata": {
    "collapsed": false,
    "scrolled": false
   },
   "outputs": [
    {
     "data": {
      "text/plain": [
       "(0, 1.2)"
      ]
     },
     "execution_count": 40,
     "metadata": {},
     "output_type": "execute_result"
    },
    {
     "data": {
      "image/png": "[encoded data removed]",
      "text/plain": [
       "<matplotlib.figure.Figure at 0x113e9a7d0>"
      ]
     },
     "metadata": {},
     "output_type": "display_data"
    }
   ],
   "source": [
    "fig = plt.figure(1, figsize=(5, 4))\n",
    "plt.boxplot([orthodox, southpaw], labels=['Orthodox', 'Southpaw'])\n",
    "plt.ylabel('Win ratio')\n",
    "plt.ylim(0, 1.2)"
   ]
  },
  {
   "cell_type": "markdown",
   "metadata": {},
   "source": [
    "#### Statistical test"
   ]
  },
  {
   "cell_type": "code",
   "execution_count": 41,
   "metadata": {
    "collapsed": false
   },
   "outputs": [
    {
     "name": "stdout",
     "output_type": "stream",
     "text": [
      "-1.61546596369 0.106981987847\n"
     ]
    }
   ],
   "source": [
    "from scipy.stats import ttest_ind\n",
    "t_stat, p_value = ttest_ind(orthodox, southpaw, equal_var=False)\n",
    "print t_stat, p_value"
   ]
  },
  {
   "cell_type": "markdown",
   "metadata": {},
   "source": [
    "The statistical test shows that the difference in win ratios between the two classes is not significant."
   ]
  },
  {
   "cell_type": "markdown",
   "metadata": {},
   "source": [
    "#### Chi-square test manually"
   ]
  },
  {
   "cell_type": "code",
   "execution_count": 42,
   "metadata": {
    "collapsed": false
   },
   "outputs": [],
   "source": [
    "row_orthodox = df[(df.Stance == 'Orthodox') & (df.Fights > 10)][['Win', 'Loss']].sum()\n",
    "row_southpaw = df[(df.Stance == 'Southpaw') & (df.Fights > 10)][['Win', 'Loss']].sum()"
   ]
  },
  {
   "cell_type": "code",
   "execution_count": 43,
   "metadata": {
    "collapsed": false
   },
   "outputs": [
    {
     "data": {
      "text/html": [
       "<div>\n",
       "<table border=\"1\" class=\"dataframe\">\n",
       "  <thead>\n",
       "    <tr style=\"text-align: right;\">\n",
       "      <th></th>\n",
       "      <th>Orthodox</th>\n",
       "      <th>Southpaw</th>\n",
       "      <th>Total</th>\n",
       "    </tr>\n",
       "  </thead>\n",
       "  <tbody>\n",
       "    <tr>\n",
       "      <th>Win</th>\n",
       "      <td>19200.0</td>\n",
       "      <td>4865.0</td>\n",
       "      <td>24065.0</td>\n",
       "    </tr>\n",
       "    <tr>\n",
       "      <th>Loss</th>\n",
       "      <td>8512.0</td>\n",
       "      <td>1998.0</td>\n",
       "      <td>10510.0</td>\n",
       "    </tr>\n",
       "    <tr>\n",
       "      <th>Total</th>\n",
       "      <td>27712.0</td>\n",
       "      <td>6863.0</td>\n",
       "      <td>34575.0</td>\n",
       "    </tr>\n",
       "  </tbody>\n",
       "</table>\n",
       "</div>"
      ],
      "text/plain": [
       "       Orthodox  Southpaw    Total\n",
       "Win     19200.0    4865.0  24065.0\n",
       "Loss     8512.0    1998.0  10510.0\n",
       "Total   27712.0    6863.0  34575.0"
      ]
     },
     "execution_count": 43,
     "metadata": {},
     "output_type": "execute_result"
    }
   ],
   "source": [
    "cont_table = pd.DataFrame([row_orthodox, row_southpaw], index=['Orthodox', 'Southpaw']).T\n",
    "cont_table['Total'] = cont_table.sum(axis=1)\n",
    "cont_table.loc['Total'] = cont_table.sum(axis=0)\n",
    "cont_table"
   ]
  },
  {
   "cell_type": "code",
   "execution_count": 44,
   "metadata": {
    "collapsed": false
   },
   "outputs": [
    {
     "data": {
      "text/plain": [
       "0.69284064665127021"
      ]
     },
     "execution_count": 44,
     "metadata": {},
     "output_type": "execute_result"
    }
   ],
   "source": [
    "cont_table.loc['Win', 'Orthodox'] / cont_table.loc['Total', 'Orthodox']"
   ]
  },
  {
   "cell_type": "code",
   "execution_count": 45,
   "metadata": {
    "collapsed": false
   },
   "outputs": [
    {
     "data": {
      "text/plain": [
       "0.70887367040652771"
      ]
     },
     "execution_count": 45,
     "metadata": {},
     "output_type": "execute_result"
    }
   ],
   "source": [
    "cont_table.loc['Win', 'Southpaw'] / cont_table.loc['Total', 'Southpaw']"
   ]
  },
  {
   "cell_type": "code",
   "execution_count": 46,
   "metadata": {
    "collapsed": false
   },
   "outputs": [
    {
     "data": {
      "text/html": [
       "<div>\n",
       "<table border=\"1\" class=\"dataframe\">\n",
       "  <thead>\n",
       "    <tr style=\"text-align: right;\">\n",
       "      <th></th>\n",
       "      <th>Orthodox</th>\n",
       "      <th>Southpaw</th>\n",
       "    </tr>\n",
       "  </thead>\n",
       "  <tbody>\n",
       "    <tr>\n",
       "      <th>Win</th>\n",
       "      <td>19288.193203</td>\n",
       "      <td>4776.806797</td>\n",
       "    </tr>\n",
       "    <tr>\n",
       "      <th>Loss</th>\n",
       "      <td>8423.806797</td>\n",
       "      <td>2086.193203</td>\n",
       "    </tr>\n",
       "  </tbody>\n",
       "</table>\n",
       "</div>"
      ],
      "text/plain": [
       "          Orthodox     Southpaw\n",
       "Win   19288.193203  4776.806797\n",
       "Loss   8423.806797  2086.193203"
      ]
     },
     "execution_count": 46,
     "metadata": {},
     "output_type": "execute_result"
    }
   ],
   "source": [
    "win_ortho_expect = cont_table.loc['Win', 'Total'] * cont_table.loc['Total', 'Orthodox'] / cont_table.loc['Total', 'Total']\n",
    "win_south_expect = cont_table.loc['Win', 'Total'] * cont_table.loc['Total', 'Southpaw'] / cont_table.loc['Total', 'Total']\n",
    "los_ortho_expect = cont_table.loc['Loss', 'Total'] * cont_table.loc['Total', 'Orthodox'] / cont_table.loc['Total', 'Total']\n",
    "los_south_expect = cont_table.loc['Loss', 'Total'] * cont_table.loc['Total', 'Southpaw'] / cont_table.loc['Total', 'Total']\n",
    "expect = pd.DataFrame([[win_ortho_expect, win_south_expect], [los_ortho_expect, los_south_expect]], index=['Win', 'Loss'], columns=['Orthodox', 'Southpaw'])\n",
    "expect"
   ]
  },
  {
   "cell_type": "code",
   "execution_count": 47,
   "metadata": {
    "collapsed": false
   },
   "outputs": [
    {
     "name": "stdout",
     "output_type": "stream",
     "text": [
      "6.68322908653 0.00973241610474 False\n"
     ]
    }
   ],
   "source": [
    "from scipy.stats import chi2\n",
    "\n",
    "chi_sq = cont_table.iloc[0:2, 0:2].subtract(expect).pow(2).divide(expect).values.sum()\n",
    "p_value = 1.0 - chi2.cdf(chi_sq, df=(2 - 1) * (2 - 1))\n",
    "print chi_sq, p_value, p_value > 0.05"
   ]
  },
  {
   "cell_type": "markdown",
   "metadata": {},
   "source": [
    "#### Chi-square test using a software library"
   ]
  },
  {
   "cell_type": "code",
   "execution_count": 48,
   "metadata": {
    "collapsed": false
   },
   "outputs": [
    {
     "name": "stdout",
     "output_type": "stream",
     "text": [
      "6.68322908653 0.00973241610474 False\n"
     ]
    }
   ],
   "source": [
    "from scipy.stats import chi2_contingency\n",
    "\n",
    "chi_sq, p_value, dof, expect = chi2_contingency(cont_table.iloc[0:2, 0:2].values, correction=False)\n",
    "print chi_sq, p_value, p_value > 0.05"
   ]
  },
  {
   "cell_type": "markdown",
   "metadata": {},
   "source": [
    "We see that the null hypothesis of independence of stance is not supported. There is a statistically significant difference between the two stances. Note that the correction has been turned off even tough the number of degrees of freedom is one."
   ]
  }
 ],
 "metadata": {
  "anaconda-cloud": {},
  "kernelspec": {
   "display_name": "Python [conda root]",
   "language": "python",
   "name": "conda-root-py"
  },
  "language_info": {
   "codemirror_mode": {
    "name": "ipython",
    "version": 2
   },
   "file_extension": ".py",
   "mimetype": "text/x-python",
   "name": "python",
   "nbconvert_exporter": "python",
   "pygments_lexer": "ipython2",
   "version": "2.7.12"
  }
 },
 "nbformat": 4,
 "nbformat_minor": 1
}
