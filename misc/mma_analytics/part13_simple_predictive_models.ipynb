{
 "cells": [
  {
   "cell_type": "markdown",
   "metadata": {},
   "source": [
    "# Jonathan Halverson\n",
    "# Monday, March 27, 2017\n",
    "# Part 13: Simple predictive models including Experience"
   ]
  },
  {
   "cell_type": "code",
   "execution_count": 1,
   "metadata": {
    "collapsed": true
   },
   "outputs": [],
   "source": [
    "import numpy as np\n",
    "import pandas as pd\n",
    "import matplotlib.pyplot as plt\n",
    "%matplotlib inline\n",
    "plt.style.use('halverson')\n",
    "from scipy.stats import binom"
   ]
  },
  {
   "cell_type": "code",
   "execution_count": 2,
   "metadata": {
    "collapsed": false
   },
   "outputs": [
    {
     "data": {
      "text/html": [
       "<div>\n",
       "<table border=\"1\" class=\"dataframe\">\n",
       "  <thead>\n",
       "    <tr style=\"text-align: right;\">\n",
       "      <th></th>\n",
       "      <th>Winner</th>\n",
       "      <th>Outcome</th>\n",
       "      <th>Loser</th>\n",
       "      <th>WeightClass</th>\n",
       "      <th>Method</th>\n",
       "      <th>MethodNotes</th>\n",
       "      <th>Round</th>\n",
       "      <th>Time</th>\n",
       "      <th>Event</th>\n",
       "      <th>Date</th>\n",
       "      <th>Location</th>\n",
       "    </tr>\n",
       "  </thead>\n",
       "  <tbody>\n",
       "    <tr>\n",
       "      <th>0</th>\n",
       "      <td>Germaine de Randamie</td>\n",
       "      <td>def.</td>\n",
       "      <td>Holly Holm</td>\n",
       "      <td>Women's Featherweight</td>\n",
       "      <td>U-DEC</td>\n",
       "      <td>NaN</td>\n",
       "      <td>5</td>\n",
       "      <td>5:00</td>\n",
       "      <td>UFC 208: Holm vs. De Randamie</td>\n",
       "      <td>2017-02-11</td>\n",
       "      <td>New York, New York, USA</td>\n",
       "    </tr>\n",
       "    <tr>\n",
       "      <th>1</th>\n",
       "      <td>Anderson Silva</td>\n",
       "      <td>def.</td>\n",
       "      <td>Derek Brunson</td>\n",
       "      <td>Middleweight</td>\n",
       "      <td>U-DEC</td>\n",
       "      <td>NaN</td>\n",
       "      <td>3</td>\n",
       "      <td>5:00</td>\n",
       "      <td>UFC 208: Holm vs. De Randamie</td>\n",
       "      <td>2017-02-11</td>\n",
       "      <td>New York, New York, USA</td>\n",
       "    </tr>\n",
       "    <tr>\n",
       "      <th>2</th>\n",
       "      <td>Jacare Souza</td>\n",
       "      <td>def.</td>\n",
       "      <td>Tim Boetsch</td>\n",
       "      <td>Middleweight</td>\n",
       "      <td>SUB</td>\n",
       "      <td>Kimura</td>\n",
       "      <td>1</td>\n",
       "      <td>3:41</td>\n",
       "      <td>UFC 208: Holm vs. De Randamie</td>\n",
       "      <td>2017-02-11</td>\n",
       "      <td>New York, New York, USA</td>\n",
       "    </tr>\n",
       "  </tbody>\n",
       "</table>\n",
       "</div>"
      ],
      "text/plain": [
       "                 Winner Outcome          Loser            WeightClass Method  \\\n",
       "0  Germaine de Randamie    def.     Holly Holm  Women's Featherweight  U-DEC   \n",
       "1        Anderson Silva    def.  Derek Brunson           Middleweight  U-DEC   \n",
       "2          Jacare Souza    def.    Tim Boetsch           Middleweight    SUB   \n",
       "\n",
       "  MethodNotes  Round  Time                          Event       Date  \\\n",
       "0         NaN      5  5:00  UFC 208: Holm vs. De Randamie 2017-02-11   \n",
       "1         NaN      3  5:00  UFC 208: Holm vs. De Randamie 2017-02-11   \n",
       "2      Kimura      1  3:41  UFC 208: Holm vs. De Randamie 2017-02-11   \n",
       "\n",
       "                  Location  \n",
       "0  New York, New York, USA  \n",
       "1  New York, New York, USA  \n",
       "2  New York, New York, USA  "
      ]
     },
     "execution_count": 2,
     "metadata": {},
     "output_type": "execute_result"
    }
   ],
   "source": [
    "iofile = 'data/fightmetric_cards/fightmetric_fights_CLEAN_3-6-2017.csv'\n",
    "fights = pd.read_csv(iofile, header=0, parse_dates=['Date'])\n",
    "fights.head(3)"
   ]
  },
  {
   "cell_type": "markdown",
   "metadata": {},
   "source": [
    "We remove no contests immediately to avoid inf (infinity) in WinRatio:"
   ]
  },
  {
   "cell_type": "code",
   "execution_count": 3,
   "metadata": {
    "collapsed": true
   },
   "outputs": [],
   "source": [
    "fights = fights[fights.Outcome != 'no contest']"
   ]
  },
  {
   "cell_type": "code",
   "execution_count": 4,
   "metadata": {
    "collapsed": false
   },
   "outputs": [
    {
     "data": {
      "text/plain": [
       "(4026, 4026, 26, 26, 0, 0)"
      ]
     },
     "execution_count": 4,
     "metadata": {},
     "output_type": "execute_result"
    }
   ],
   "source": [
    "num = []\n",
    "num_wins = []\n",
    "num_L = []\n",
    "num_wins_L = []\n",
    "for index, row in fights.iterrows():\n",
    "     d = row['Date']\n",
    "     \n",
    "     winner = row['Winner']\n",
    "     x = fights[((fights.Winner == winner) | (fights.Loser == winner)) & (fights.Date < d) & (fights.Outcome != 'no contest')].shape[0]\n",
    "     y = fights[(fights.Winner == winner) & (fights.Date < d)].shape[0]\n",
    "     num.append(x)\n",
    "     num_wins.append(y)\n",
    "     \n",
    "     loser = row['Loser']\n",
    "     x = fights[((fights.Winner == loser) | (fights.Loser == loser)) & (fights.Date < d) & (fights.Outcome != 'no contest')].shape[0]\n",
    "     y = fights[(fights.Winner == loser) & (fights.Date < d)].shape[0]\n",
    "     num_L.append(x)\n",
    "     num_wins_L.append(y)\n",
    "fights['Num'] = num\n",
    "fights['Num_L'] = num_L\n",
    "fights['Num_Wins'] = num_wins\n",
    "fights['Num_Wins_L'] = num_wins_L\n",
    "fights['WinRatio'] = fights.Num_Wins / fights.Num\n",
    "fights['WinRatio_L'] = fights.Num_Wins_L / fights.Num_L\n",
    "len(num), len(num_L), max(num), max(num_L), min(num), min(num_L)"
   ]
  },
  {
   "cell_type": "code",
   "execution_count": 5,
   "metadata": {
    "collapsed": false
   },
   "outputs": [
    {
     "data": {
      "text/html": [
       "<div>\n",
       "<table border=\"1\" class=\"dataframe\">\n",
       "  <thead>\n",
       "    <tr style=\"text-align: right;\">\n",
       "      <th></th>\n",
       "      <th>Winner</th>\n",
       "      <th>Outcome</th>\n",
       "      <th>Loser</th>\n",
       "      <th>WeightClass</th>\n",
       "      <th>Method</th>\n",
       "      <th>MethodNotes</th>\n",
       "      <th>Round</th>\n",
       "      <th>Time</th>\n",
       "      <th>Event</th>\n",
       "      <th>Date</th>\n",
       "      <th>Location</th>\n",
       "      <th>Num</th>\n",
       "      <th>Num_L</th>\n",
       "      <th>Num_Wins</th>\n",
       "      <th>Num_Wins_L</th>\n",
       "      <th>WinRatio</th>\n",
       "      <th>WinRatio_L</th>\n",
       "    </tr>\n",
       "  </thead>\n",
       "  <tbody>\n",
       "    <tr>\n",
       "      <th>322</th>\n",
       "      <td>Gray Maynard</td>\n",
       "      <td>def.</td>\n",
       "      <td>Fernando Bruno</td>\n",
       "      <td>Featherweight</td>\n",
       "      <td>U-DEC</td>\n",
       "      <td>NaN</td>\n",
       "      <td>3</td>\n",
       "      <td>5:00</td>\n",
       "      <td>The Ultimate Fighter 23 Finale</td>\n",
       "      <td>2016-07-08</td>\n",
       "      <td>Las Vegas, Nevada, USA</td>\n",
       "      <td>15</td>\n",
       "      <td>1</td>\n",
       "      <td>9</td>\n",
       "      <td>0</td>\n",
       "      <td>0.6</td>\n",
       "      <td>0.000000</td>\n",
       "    </tr>\n",
       "    <tr>\n",
       "      <th>2075</th>\n",
       "      <td>Gray Maynard</td>\n",
       "      <td>def.</td>\n",
       "      <td>Clay Guida</td>\n",
       "      <td>Lightweight</td>\n",
       "      <td>S-DEC</td>\n",
       "      <td>NaN</td>\n",
       "      <td>5</td>\n",
       "      <td>5:00</td>\n",
       "      <td>UFC on FX: Maynard vs Guida</td>\n",
       "      <td>2012-06-22</td>\n",
       "      <td>Atlantic City, New Jersey, USA</td>\n",
       "      <td>10</td>\n",
       "      <td>15</td>\n",
       "      <td>8</td>\n",
       "      <td>9</td>\n",
       "      <td>0.8</td>\n",
       "      <td>0.600000</td>\n",
       "    </tr>\n",
       "    <tr>\n",
       "      <th>2630</th>\n",
       "      <td>Gray Maynard</td>\n",
       "      <td>def.</td>\n",
       "      <td>Kenny Florian</td>\n",
       "      <td>Lightweight</td>\n",
       "      <td>U-DEC</td>\n",
       "      <td>NaN</td>\n",
       "      <td>3</td>\n",
       "      <td>5:00</td>\n",
       "      <td>UFC 118: Edgar vs Penn 2</td>\n",
       "      <td>2010-08-28</td>\n",
       "      <td>Boston, Massachusetts, USA</td>\n",
       "      <td>7</td>\n",
       "      <td>14</td>\n",
       "      <td>7</td>\n",
       "      <td>11</td>\n",
       "      <td>1.0</td>\n",
       "      <td>0.785714</td>\n",
       "    </tr>\n",
       "    <tr>\n",
       "      <th>2774</th>\n",
       "      <td>Gray Maynard</td>\n",
       "      <td>def.</td>\n",
       "      <td>Nate Diaz</td>\n",
       "      <td>Lightweight</td>\n",
       "      <td>S-DEC</td>\n",
       "      <td>NaN</td>\n",
       "      <td>3</td>\n",
       "      <td>5:00</td>\n",
       "      <td>UFC Fight Night: Maynard vs Diaz</td>\n",
       "      <td>2010-01-11</td>\n",
       "      <td>Fairfax, Virginia, USA</td>\n",
       "      <td>6</td>\n",
       "      <td>8</td>\n",
       "      <td>6</td>\n",
       "      <td>6</td>\n",
       "      <td>1.0</td>\n",
       "      <td>0.750000</td>\n",
       "    </tr>\n",
       "    <tr>\n",
       "      <th>2862</th>\n",
       "      <td>Gray Maynard</td>\n",
       "      <td>def.</td>\n",
       "      <td>Roger Huerta</td>\n",
       "      <td>Lightweight</td>\n",
       "      <td>S-DEC</td>\n",
       "      <td>NaN</td>\n",
       "      <td>3</td>\n",
       "      <td>5:00</td>\n",
       "      <td>UFC Fight Night: Diaz vs Guillard</td>\n",
       "      <td>2009-09-16</td>\n",
       "      <td>Oklahoma City, Oklahoma, USA</td>\n",
       "      <td>5</td>\n",
       "      <td>7</td>\n",
       "      <td>5</td>\n",
       "      <td>6</td>\n",
       "      <td>1.0</td>\n",
       "      <td>0.857143</td>\n",
       "    </tr>\n",
       "    <tr>\n",
       "      <th>2964</th>\n",
       "      <td>Gray Maynard</td>\n",
       "      <td>def.</td>\n",
       "      <td>Jim Miller</td>\n",
       "      <td>Lightweight</td>\n",
       "      <td>U-DEC</td>\n",
       "      <td>NaN</td>\n",
       "      <td>3</td>\n",
       "      <td>5:00</td>\n",
       "      <td>UFC 96: Jackson vs Jardine</td>\n",
       "      <td>2009-03-07</td>\n",
       "      <td>Columbus, Ohio, USA</td>\n",
       "      <td>4</td>\n",
       "      <td>2</td>\n",
       "      <td>4</td>\n",
       "      <td>2</td>\n",
       "      <td>1.0</td>\n",
       "      <td>1.000000</td>\n",
       "    </tr>\n",
       "    <tr>\n",
       "      <th>3051</th>\n",
       "      <td>Gray Maynard</td>\n",
       "      <td>def.</td>\n",
       "      <td>Rich Clementi</td>\n",
       "      <td>Lightweight</td>\n",
       "      <td>U-DEC</td>\n",
       "      <td>NaN</td>\n",
       "      <td>3</td>\n",
       "      <td>5:00</td>\n",
       "      <td>UFC 90: Silva vs Cote</td>\n",
       "      <td>2008-10-25</td>\n",
       "      <td>Rosemont, Illinois, USA</td>\n",
       "      <td>3</td>\n",
       "      <td>8</td>\n",
       "      <td>3</td>\n",
       "      <td>5</td>\n",
       "      <td>1.0</td>\n",
       "      <td>0.625000</td>\n",
       "    </tr>\n",
       "    <tr>\n",
       "      <th>3163</th>\n",
       "      <td>Gray Maynard</td>\n",
       "      <td>def.</td>\n",
       "      <td>Frankie Edgar</td>\n",
       "      <td>Lightweight</td>\n",
       "      <td>U-DEC</td>\n",
       "      <td>NaN</td>\n",
       "      <td>3</td>\n",
       "      <td>5:00</td>\n",
       "      <td>UFC Fight Night: Florian vs Lauzon</td>\n",
       "      <td>2008-04-02</td>\n",
       "      <td>Broomfield, Colorado, USA</td>\n",
       "      <td>2</td>\n",
       "      <td>3</td>\n",
       "      <td>2</td>\n",
       "      <td>3</td>\n",
       "      <td>1.0</td>\n",
       "      <td>1.000000</td>\n",
       "    </tr>\n",
       "    <tr>\n",
       "      <th>3198</th>\n",
       "      <td>Gray Maynard</td>\n",
       "      <td>def.</td>\n",
       "      <td>Dennis Siver</td>\n",
       "      <td>Lightweight</td>\n",
       "      <td>U-DEC</td>\n",
       "      <td>NaN</td>\n",
       "      <td>3</td>\n",
       "      <td>5:00</td>\n",
       "      <td>UFC Fight Night: Swick vs Burkman</td>\n",
       "      <td>2008-01-23</td>\n",
       "      <td>Las Vegas, Nevada, USA</td>\n",
       "      <td>1</td>\n",
       "      <td>2</td>\n",
       "      <td>1</td>\n",
       "      <td>1</td>\n",
       "      <td>1.0</td>\n",
       "      <td>0.500000</td>\n",
       "    </tr>\n",
       "    <tr>\n",
       "      <th>3263</th>\n",
       "      <td>Gray Maynard</td>\n",
       "      <td>def.</td>\n",
       "      <td>Joe Veres</td>\n",
       "      <td>Lightweight</td>\n",
       "      <td>KO/TKO</td>\n",
       "      <td>Punch</td>\n",
       "      <td>1</td>\n",
       "      <td>0:09</td>\n",
       "      <td>UFC Fight Night: Thomas vs Florian</td>\n",
       "      <td>2007-09-19</td>\n",
       "      <td>Las Vegas, Nevada, USA</td>\n",
       "      <td>0</td>\n",
       "      <td>0</td>\n",
       "      <td>0</td>\n",
       "      <td>0</td>\n",
       "      <td>NaN</td>\n",
       "      <td>NaN</td>\n",
       "    </tr>\n",
       "  </tbody>\n",
       "</table>\n",
       "</div>"
      ],
      "text/plain": [
       "            Winner Outcome           Loser    WeightClass  Method MethodNotes  \\\n",
       "322   Gray Maynard    def.  Fernando Bruno  Featherweight   U-DEC         NaN   \n",
       "2075  Gray Maynard    def.      Clay Guida    Lightweight   S-DEC         NaN   \n",
       "2630  Gray Maynard    def.   Kenny Florian    Lightweight   U-DEC         NaN   \n",
       "2774  Gray Maynard    def.       Nate Diaz    Lightweight   S-DEC         NaN   \n",
       "2862  Gray Maynard    def.    Roger Huerta    Lightweight   S-DEC         NaN   \n",
       "2964  Gray Maynard    def.      Jim Miller    Lightweight   U-DEC         NaN   \n",
       "3051  Gray Maynard    def.   Rich Clementi    Lightweight   U-DEC         NaN   \n",
       "3163  Gray Maynard    def.   Frankie Edgar    Lightweight   U-DEC         NaN   \n",
       "3198  Gray Maynard    def.    Dennis Siver    Lightweight   U-DEC         NaN   \n",
       "3263  Gray Maynard    def.       Joe Veres    Lightweight  KO/TKO       Punch   \n",
       "\n",
       "      Round  Time                               Event       Date  \\\n",
       "322       3  5:00      The Ultimate Fighter 23 Finale 2016-07-08   \n",
       "2075      5  5:00         UFC on FX: Maynard vs Guida 2012-06-22   \n",
       "2630      3  5:00            UFC 118: Edgar vs Penn 2 2010-08-28   \n",
       "2774      3  5:00    UFC Fight Night: Maynard vs Diaz 2010-01-11   \n",
       "2862      3  5:00   UFC Fight Night: Diaz vs Guillard 2009-09-16   \n",
       "2964      3  5:00          UFC 96: Jackson vs Jardine 2009-03-07   \n",
       "3051      3  5:00               UFC 90: Silva vs Cote 2008-10-25   \n",
       "3163      3  5:00  UFC Fight Night: Florian vs Lauzon 2008-04-02   \n",
       "3198      3  5:00   UFC Fight Night: Swick vs Burkman 2008-01-23   \n",
       "3263      1  0:09  UFC Fight Night: Thomas vs Florian 2007-09-19   \n",
       "\n",
       "                            Location  Num  Num_L  Num_Wins  Num_Wins_L  \\\n",
       "322           Las Vegas, Nevada, USA   15      1         9           0   \n",
       "2075  Atlantic City, New Jersey, USA   10     15         8           9   \n",
       "2630      Boston, Massachusetts, USA    7     14         7          11   \n",
       "2774          Fairfax, Virginia, USA    6      8         6           6   \n",
       "2862    Oklahoma City, Oklahoma, USA    5      7         5           6   \n",
       "2964             Columbus, Ohio, USA    4      2         4           2   \n",
       "3051         Rosemont, Illinois, USA    3      8         3           5   \n",
       "3163       Broomfield, Colorado, USA    2      3         2           3   \n",
       "3198          Las Vegas, Nevada, USA    1      2         1           1   \n",
       "3263          Las Vegas, Nevada, USA    0      0         0           0   \n",
       "\n",
       "      WinRatio  WinRatio_L  \n",
       "322        0.6    0.000000  \n",
       "2075       0.8    0.600000  \n",
       "2630       1.0    0.785714  \n",
       "2774       1.0    0.750000  \n",
       "2862       1.0    0.857143  \n",
       "2964       1.0    1.000000  \n",
       "3051       1.0    0.625000  \n",
       "3163       1.0    1.000000  \n",
       "3198       1.0    0.500000  \n",
       "3263       NaN         NaN  "
      ]
     },
     "execution_count": 5,
     "metadata": {},
     "output_type": "execute_result"
    }
   ],
   "source": [
    "x = 'Gray Maynard'\n",
    "fights[(fights.Winner == x) & (fights.Winner == x)]"
   ]
  },
  {
   "cell_type": "code",
   "execution_count": 6,
   "metadata": {
    "collapsed": false
   },
   "outputs": [
    {
     "data": {
      "text/html": [
       "<div>\n",
       "<table border=\"1\" class=\"dataframe\">\n",
       "  <thead>\n",
       "    <tr style=\"text-align: right;\">\n",
       "      <th></th>\n",
       "      <th>Winner</th>\n",
       "      <th>WinRatio</th>\n",
       "    </tr>\n",
       "  </thead>\n",
       "  <tbody>\n",
       "  </tbody>\n",
       "</table>\n",
       "</div>"
      ],
      "text/plain": [
       "Empty DataFrame\n",
       "Columns: [Winner, WinRatio]\n",
       "Index: []"
      ]
     },
     "execution_count": 6,
     "metadata": {},
     "output_type": "execute_result"
    }
   ],
   "source": [
    "fights[fights.WinRatio_L > 1][['Winner', 'WinRatio']]"
   ]
  },
  {
   "cell_type": "code",
   "execution_count": 7,
   "metadata": {
    "collapsed": false
   },
   "outputs": [
    {
     "data": {
      "text/html": [
       "<div>\n",
       "<table border=\"1\" class=\"dataframe\">\n",
       "  <thead>\n",
       "    <tr style=\"text-align: right;\">\n",
       "      <th></th>\n",
       "      <th>Round</th>\n",
       "      <th>Num</th>\n",
       "      <th>Num_L</th>\n",
       "      <th>Num_Wins</th>\n",
       "      <th>Num_Wins_L</th>\n",
       "      <th>WinRatio</th>\n",
       "      <th>WinRatio_L</th>\n",
       "    </tr>\n",
       "  </thead>\n",
       "  <tbody>\n",
       "    <tr>\n",
       "      <th>count</th>\n",
       "      <td>4026.000000</td>\n",
       "      <td>4026.000000</td>\n",
       "      <td>4026.000000</td>\n",
       "      <td>4026.000000</td>\n",
       "      <td>4026.000000</td>\n",
       "      <td>3291.000000</td>\n",
       "      <td>3074.000000</td>\n",
       "    </tr>\n",
       "    <tr>\n",
       "      <th>mean</th>\n",
       "      <td>2.247144</td>\n",
       "      <td>4.426478</td>\n",
       "      <td>4.103577</td>\n",
       "      <td>2.954049</td>\n",
       "      <td>2.608793</td>\n",
       "      <td>0.633479</td>\n",
       "      <td>0.592959</td>\n",
       "    </tr>\n",
       "    <tr>\n",
       "      <th>std</th>\n",
       "      <td>1.010392</td>\n",
       "      <td>4.612937</td>\n",
       "      <td>4.784857</td>\n",
       "      <td>3.301741</td>\n",
       "      <td>3.299571</td>\n",
       "      <td>0.296247</td>\n",
       "      <td>0.307353</td>\n",
       "    </tr>\n",
       "    <tr>\n",
       "      <th>min</th>\n",
       "      <td>1.000000</td>\n",
       "      <td>0.000000</td>\n",
       "      <td>0.000000</td>\n",
       "      <td>0.000000</td>\n",
       "      <td>0.000000</td>\n",
       "      <td>0.000000</td>\n",
       "      <td>0.000000</td>\n",
       "    </tr>\n",
       "    <tr>\n",
       "      <th>25%</th>\n",
       "      <td>1.000000</td>\n",
       "      <td>1.000000</td>\n",
       "      <td>1.000000</td>\n",
       "      <td>0.000000</td>\n",
       "      <td>0.000000</td>\n",
       "      <td>0.500000</td>\n",
       "      <td>0.500000</td>\n",
       "    </tr>\n",
       "    <tr>\n",
       "      <th>50%</th>\n",
       "      <td>3.000000</td>\n",
       "      <td>3.000000</td>\n",
       "      <td>2.000000</td>\n",
       "      <td>2.000000</td>\n",
       "      <td>1.000000</td>\n",
       "      <td>0.666667</td>\n",
       "      <td>0.625000</td>\n",
       "    </tr>\n",
       "    <tr>\n",
       "      <th>75%</th>\n",
       "      <td>3.000000</td>\n",
       "      <td>7.000000</td>\n",
       "      <td>6.000000</td>\n",
       "      <td>4.000000</td>\n",
       "      <td>4.000000</td>\n",
       "      <td>0.833333</td>\n",
       "      <td>0.800000</td>\n",
       "    </tr>\n",
       "    <tr>\n",
       "      <th>max</th>\n",
       "      <td>5.000000</td>\n",
       "      <td>26.000000</td>\n",
       "      <td>26.000000</td>\n",
       "      <td>19.000000</td>\n",
       "      <td>19.000000</td>\n",
       "      <td>1.000000</td>\n",
       "      <td>1.000000</td>\n",
       "    </tr>\n",
       "  </tbody>\n",
       "</table>\n",
       "</div>"
      ],
      "text/plain": [
       "             Round          Num        Num_L     Num_Wins   Num_Wins_L  \\\n",
       "count  4026.000000  4026.000000  4026.000000  4026.000000  4026.000000   \n",
       "mean      2.247144     4.426478     4.103577     2.954049     2.608793   \n",
       "std       1.010392     4.612937     4.784857     3.301741     3.299571   \n",
       "min       1.000000     0.000000     0.000000     0.000000     0.000000   \n",
       "25%       1.000000     1.000000     1.000000     0.000000     0.000000   \n",
       "50%       3.000000     3.000000     2.000000     2.000000     1.000000   \n",
       "75%       3.000000     7.000000     6.000000     4.000000     4.000000   \n",
       "max       5.000000    26.000000    26.000000    19.000000    19.000000   \n",
       "\n",
       "          WinRatio   WinRatio_L  \n",
       "count  3291.000000  3074.000000  \n",
       "mean      0.633479     0.592959  \n",
       "std       0.296247     0.307353  \n",
       "min       0.000000     0.000000  \n",
       "25%       0.500000     0.500000  \n",
       "50%       0.666667     0.625000  \n",
       "75%       0.833333     0.800000  \n",
       "max       1.000000     1.000000  "
      ]
     },
     "execution_count": 7,
     "metadata": {},
     "output_type": "execute_result"
    }
   ],
   "source": [
    "fights.describe()"
   ]
  },
  {
   "cell_type": "markdown",
   "metadata": {},
   "source": [
    "### Note that win ratio can be NaN"
   ]
  },
  {
   "cell_type": "code",
   "execution_count": 8,
   "metadata": {
    "collapsed": false
   },
   "outputs": [
    {
     "data": {
      "text/plain": [
       "10    0.750000\n",
       "11    0.666667\n",
       "12    0.833333\n",
       "13         NaN\n",
       "14         NaN\n",
       "15    0.666667\n",
       "16    0.500000\n",
       "17    0.714286\n",
       "18         NaN\n",
       "19    0.750000\n",
       "20    1.000000\n",
       "Name: WinRatio, dtype: float64"
      ]
     },
     "execution_count": 8,
     "metadata": {},
     "output_type": "execute_result"
    }
   ],
   "source": [
    "fights.WinRatio.loc[10:20]"
   ]
  },
  {
   "cell_type": "code",
   "execution_count": 9,
   "metadata": {
    "collapsed": false
   },
   "outputs": [
    {
     "data": {
      "text/html": [
       "<div>\n",
       "<table border=\"1\" class=\"dataframe\">\n",
       "  <thead>\n",
       "    <tr style=\"text-align: right;\">\n",
       "      <th></th>\n",
       "      <th>Name</th>\n",
       "      <th>Education</th>\n",
       "    </tr>\n",
       "  </thead>\n",
       "  <tbody>\n",
       "    <tr>\n",
       "      <th>0</th>\n",
       "      <td>Jim Alers</td>\n",
       "      <td>1</td>\n",
       "    </tr>\n",
       "    <tr>\n",
       "      <th>1</th>\n",
       "      <td>Corey Anderson</td>\n",
       "      <td>1</td>\n",
       "    </tr>\n",
       "    <tr>\n",
       "      <th>2</th>\n",
       "      <td>Rich Attonito</td>\n",
       "      <td>1</td>\n",
       "    </tr>\n",
       "  </tbody>\n",
       "</table>\n",
       "</div>"
      ],
      "text/plain": [
       "             Name  Education\n",
       "0       Jim Alers          1\n",
       "1  Corey Anderson          1\n",
       "2   Rich Attonito          1"
      ]
     },
     "execution_count": 9,
     "metadata": {},
     "output_type": "execute_result"
    }
   ],
   "source": [
    "iofile = 'data/ufc_name_education.csv'\n",
    "ufc = pd.read_csv(iofile, header=0)\n",
    "ufc.head(3)"
   ]
  },
  {
   "cell_type": "code",
   "execution_count": 10,
   "metadata": {
    "collapsed": false
   },
   "outputs": [
    {
     "data": {
      "text/html": [
       "<div>\n",
       "<table border=\"1\" class=\"dataframe\">\n",
       "  <thead>\n",
       "    <tr style=\"text-align: right;\">\n",
       "      <th></th>\n",
       "      <th>Winner</th>\n",
       "      <th>Outcome</th>\n",
       "      <th>Loser</th>\n",
       "      <th>WeightClass</th>\n",
       "      <th>Method</th>\n",
       "      <th>MethodNotes</th>\n",
       "      <th>Round</th>\n",
       "      <th>Time</th>\n",
       "      <th>Event</th>\n",
       "      <th>Date</th>\n",
       "      <th>...</th>\n",
       "      <th>LegReach</th>\n",
       "      <th>Stance</th>\n",
       "      <th>Dob</th>\n",
       "      <th>Height_L</th>\n",
       "      <th>Reach_L</th>\n",
       "      <th>LegReach_L</th>\n",
       "      <th>Stance_L</th>\n",
       "      <th>Dob_L</th>\n",
       "      <th>Education</th>\n",
       "      <th>Education_L</th>\n",
       "    </tr>\n",
       "  </thead>\n",
       "  <tbody>\n",
       "    <tr>\n",
       "      <th>0</th>\n",
       "      <td>Germaine de Randamie</td>\n",
       "      <td>def.</td>\n",
       "      <td>Holly Holm</td>\n",
       "      <td>Women's Featherweight</td>\n",
       "      <td>U-DEC</td>\n",
       "      <td>NaN</td>\n",
       "      <td>5</td>\n",
       "      <td>5:00</td>\n",
       "      <td>UFC 208: Holm vs. De Randamie</td>\n",
       "      <td>2017-02-11</td>\n",
       "      <td>...</td>\n",
       "      <td>41.0</td>\n",
       "      <td>Orthodox</td>\n",
       "      <td>1984-04-24</td>\n",
       "      <td>68.0</td>\n",
       "      <td>69.0</td>\n",
       "      <td>38.0</td>\n",
       "      <td>Southpaw</td>\n",
       "      <td>1981-10-17</td>\n",
       "      <td>0.0</td>\n",
       "      <td>0.0</td>\n",
       "    </tr>\n",
       "    <tr>\n",
       "      <th>1</th>\n",
       "      <td>Anderson Silva</td>\n",
       "      <td>def.</td>\n",
       "      <td>Derek Brunson</td>\n",
       "      <td>Middleweight</td>\n",
       "      <td>U-DEC</td>\n",
       "      <td>NaN</td>\n",
       "      <td>3</td>\n",
       "      <td>5:00</td>\n",
       "      <td>UFC 208: Holm vs. De Randamie</td>\n",
       "      <td>2017-02-11</td>\n",
       "      <td>...</td>\n",
       "      <td>42.0</td>\n",
       "      <td>Southpaw</td>\n",
       "      <td>1975-04-14</td>\n",
       "      <td>73.0</td>\n",
       "      <td>77.0</td>\n",
       "      <td>43.0</td>\n",
       "      <td>Southpaw</td>\n",
       "      <td>1984-01-04</td>\n",
       "      <td>0.0</td>\n",
       "      <td>1.0</td>\n",
       "    </tr>\n",
       "    <tr>\n",
       "      <th>2</th>\n",
       "      <td>Jacare Souza</td>\n",
       "      <td>def.</td>\n",
       "      <td>Tim Boetsch</td>\n",
       "      <td>Middleweight</td>\n",
       "      <td>SUB</td>\n",
       "      <td>Kimura</td>\n",
       "      <td>1</td>\n",
       "      <td>3:41</td>\n",
       "      <td>UFC 208: Holm vs. De Randamie</td>\n",
       "      <td>2017-02-11</td>\n",
       "      <td>...</td>\n",
       "      <td>41.0</td>\n",
       "      <td>Orthodox</td>\n",
       "      <td>1979-12-07</td>\n",
       "      <td>72.0</td>\n",
       "      <td>74.0</td>\n",
       "      <td>42.0</td>\n",
       "      <td>Orthodox</td>\n",
       "      <td>1981-01-28</td>\n",
       "      <td>0.0</td>\n",
       "      <td>1.0</td>\n",
       "    </tr>\n",
       "  </tbody>\n",
       "</table>\n",
       "<p>3 rows × 29 columns</p>\n",
       "</div>"
      ],
      "text/plain": [
       "                 Winner Outcome          Loser            WeightClass Method  \\\n",
       "0  Germaine de Randamie    def.     Holly Holm  Women's Featherweight  U-DEC   \n",
       "1        Anderson Silva    def.  Derek Brunson           Middleweight  U-DEC   \n",
       "2          Jacare Souza    def.    Tim Boetsch           Middleweight    SUB   \n",
       "\n",
       "  MethodNotes  Round  Time                          Event       Date  \\\n",
       "0         NaN      5  5:00  UFC 208: Holm vs. De Randamie 2017-02-11   \n",
       "1         NaN      3  5:00  UFC 208: Holm vs. De Randamie 2017-02-11   \n",
       "2      Kimura      1  3:41  UFC 208: Holm vs. De Randamie 2017-02-11   \n",
       "\n",
       "      ...      LegReach    Stance        Dob  Height_L  Reach_L  LegReach_L  \\\n",
       "0     ...          41.0  Orthodox 1984-04-24      68.0     69.0        38.0   \n",
       "1     ...          42.0  Southpaw 1975-04-14      73.0     77.0        43.0   \n",
       "2     ...          41.0  Orthodox 1979-12-07      72.0     74.0        42.0   \n",
       "\n",
       "   Stance_L      Dob_L  Education  Education_L  \n",
       "0  Southpaw 1981-10-17        0.0          0.0  \n",
       "1  Southpaw 1984-01-04        0.0          1.0  \n",
       "2  Orthodox 1981-01-28        0.0          1.0  \n",
       "\n",
       "[3 rows x 29 columns]"
      ]
     },
     "execution_count": 10,
     "metadata": {},
     "output_type": "execute_result"
    }
   ],
   "source": [
    "iofile = 'data/fightmetric_fighters_with_corrections_from_UFC_Wikipedia_CLEAN.csv'\n",
    "fighters = pd.read_csv(iofile, header=0, parse_dates=['Dob'])\n",
    "cols = ['Name', 'Height', 'Reach', 'LegReach', 'Stance', 'Dob']\n",
    "df = fights.merge(fighters[cols], how='left', left_on='Winner', right_on='Name')\n",
    "df = df.merge(fighters[cols], how='left', left_on='Loser', right_on='Name', suffixes=('', '_L'))\n",
    "df = df.drop(['Name', 'Name_L'], axis=1)\n",
    "df = df.merge(ufc, left_on='Winner', right_on='Name', how='left')\n",
    "df = df.merge(ufc, left_on='Loser', right_on='Name', how='left', suffixes=('', '_L'))\n",
    "df.Education = df.Education.fillna(0.0)\n",
    "df.Education_L = df.Education_L.fillna(0.0)\n",
    "df = df.drop(['Name', 'Name_L'], axis=1)\n",
    "df.head(3)"
   ]
  },
  {
   "cell_type": "code",
   "execution_count": 11,
   "metadata": {
    "collapsed": false
   },
   "outputs": [
    {
     "name": "stdout",
     "output_type": "stream",
     "text": [
      "<class 'pandas.core.frame.DataFrame'>\n",
      "Int64Index: 4026 entries, 0 to 4025\n",
      "Data columns (total 29 columns):\n",
      "Winner         4026 non-null object\n",
      "Outcome        4026 non-null object\n",
      "Loser          4026 non-null object\n",
      "WeightClass    4026 non-null object\n",
      "Method         4026 non-null object\n",
      "MethodNotes    2154 non-null object\n",
      "Round          4026 non-null int64\n",
      "Time           4026 non-null object\n",
      "Event          4026 non-null object\n",
      "Date           4026 non-null datetime64[ns]\n",
      "Location       4026 non-null object\n",
      "Num            4026 non-null int64\n",
      "Num_L          4026 non-null int64\n",
      "Num_Wins       4026 non-null int64\n",
      "Num_Wins_L     4026 non-null int64\n",
      "WinRatio       3291 non-null float64\n",
      "WinRatio_L     3074 non-null float64\n",
      "Height         4022 non-null float64\n",
      "Reach          3762 non-null float64\n",
      "LegReach       2294 non-null float64\n",
      "Stance         3905 non-null object\n",
      "Dob            3970 non-null datetime64[ns]\n",
      "Height_L       4006 non-null float64\n",
      "Reach_L        3436 non-null float64\n",
      "LegReach_L     1545 non-null float64\n",
      "Stance_L       3853 non-null object\n",
      "Dob_L          3873 non-null datetime64[ns]\n",
      "Education      4026 non-null float64\n",
      "Education_L    4026 non-null float64\n",
      "dtypes: datetime64[ns](3), float64(10), int64(5), object(11)\n",
      "memory usage: 943.6+ KB\n"
     ]
    }
   ],
   "source": [
    "df.info()"
   ]
  },
  {
   "cell_type": "markdown",
   "metadata": {},
   "source": [
    "Filter fights to defeats since January 1, 2005:"
   ]
  },
  {
   "cell_type": "code",
   "execution_count": 12,
   "metadata": {
    "collapsed": false
   },
   "outputs": [
    {
     "data": {
      "text/plain": [
       "3561"
      ]
     },
     "execution_count": 12,
     "metadata": {},
     "output_type": "execute_result"
    }
   ],
   "source": [
    "fs = df[(df.Date > pd.to_datetime('2005-01-01')) & (df.Outcome == 'def.')].copy()\n",
    "fs.shape[0]"
   ]
  },
  {
   "cell_type": "markdown",
   "metadata": {},
   "source": [
    "### Younger wins"
   ]
  },
  {
   "cell_type": "code",
   "execution_count": 13,
   "metadata": {
    "collapsed": false
   },
   "outputs": [
    {
     "data": {
      "text/plain": [
       "(1964, 3529, 0.5565315953527912, 32, 1.9906913544237038e-11)"
      ]
     },
     "execution_count": 13,
     "metadata": {},
     "output_type": "execute_result"
    }
   ],
   "source": [
    "yw = fs[pd.notnull(fs.Dob) & pd.notnull(fs.Dob_L) & (fs.Dob != fs.Dob_L)]\n",
    "wins = yw[yw.Dob > yw.Dob_L].shape[0]\n",
    "total = yw.shape[0]\n",
    "wins, total, wins / float(total), fs.shape[0] - total, 2 * binom.cdf(p=0.5, k=min(wins, total - wins), n=total)"
   ]
  },
  {
   "cell_type": "markdown",
   "metadata": {},
   "source": [
    "### Longer reach wins"
   ]
  },
  {
   "cell_type": "code",
   "execution_count": 14,
   "metadata": {
    "collapsed": false
   },
   "outputs": [
    {
     "data": {
      "text/plain": [
       "(1499, 2863, 0.5235766678309466, 698, 0.012254511782245889)"
      ]
     },
     "execution_count": 14,
     "metadata": {},
     "output_type": "execute_result"
    }
   ],
   "source": [
    "lr = fs[pd.notnull(fs.Reach) & pd.notnull(fs.Reach_L) & (fs.Reach != fs.Reach_L)]\n",
    "wins = lr[lr.Reach > lr.Reach_L].shape[0]\n",
    "total = lr.shape[0]\n",
    "wins, total, wins / float(total), fs.shape[0] - total, 2 * binom.cdf(p=0.5, k=min(wins, total - wins), n=total)"
   ]
  },
  {
   "cell_type": "markdown",
   "metadata": {},
   "source": [
    "What if we don't exclude nulls?"
   ]
  },
  {
   "cell_type": "code",
   "execution_count": 15,
   "metadata": {
    "collapsed": false
   },
   "outputs": [
    {
     "data": {
      "text/plain": [
       "(1499, 3138, 0.47769279796048436, 423)"
      ]
     },
     "execution_count": 15,
     "metadata": {},
     "output_type": "execute_result"
    }
   ],
   "source": [
    "lr = fs[fs.Reach != fs.Reach_L]\n",
    "wins = lr[lr.Reach > lr.Reach_L].shape[0]\n",
    "total = lr.shape[0]\n",
    "wins, total, wins / float(total), fs.shape[0] - total"
   ]
  },
  {
   "cell_type": "code",
   "execution_count": 16,
   "metadata": {
    "collapsed": false
   },
   "outputs": [
    {
     "data": {
      "text/plain": [
       "False"
      ]
     },
     "execution_count": 16,
     "metadata": {},
     "output_type": "execute_result"
    }
   ],
   "source": [
    "71.0 > np.nan"
   ]
  },
  {
   "cell_type": "code",
   "execution_count": 17,
   "metadata": {
    "collapsed": false
   },
   "outputs": [
    {
     "data": {
      "text/plain": [
       "False"
      ]
     },
     "execution_count": 17,
     "metadata": {},
     "output_type": "execute_result"
    }
   ],
   "source": [
    "71.0 == np.nan"
   ]
  },
  {
   "cell_type": "code",
   "execution_count": 18,
   "metadata": {
    "collapsed": false
   },
   "outputs": [
    {
     "name": "stdout",
     "output_type": "stream",
     "text": [
      "<class 'pandas.core.frame.DataFrame'>\n",
      "Int64Index: 3138 entries, 0 to 3580\n",
      "Data columns (total 2 columns):\n",
      "Reach      3115 non-null float64\n",
      "Reach_L    2877 non-null float64\n",
      "dtypes: float64(2)\n",
      "memory usage: 73.5 KB\n"
     ]
    }
   ],
   "source": [
    "lr[['Reach', 'Reach_L']].info()"
   ]
  },
  {
   "cell_type": "markdown",
   "metadata": {},
   "source": [
    "We see that nulls in Reach_L lead to Falses which increased the total which gave a win ratio less than 1/2."
   ]
  },
  {
   "cell_type": "markdown",
   "metadata": {},
   "source": [
    "### Taller wins"
   ]
  },
  {
   "cell_type": "code",
   "execution_count": 19,
   "metadata": {
    "collapsed": false
   },
   "outputs": [
    {
     "data": {
      "text/plain": [
       "(1486, 2903, 0.511884257664485, 658, 0.20691383522689766)"
      ]
     },
     "execution_count": 19,
     "metadata": {},
     "output_type": "execute_result"
    }
   ],
   "source": [
    "ht = fs[pd.notnull(fs.Height) & pd.notnull(fs.Height_L) & (fs.Height != fs.Height_L)]\n",
    "wins = ht[ht.Height > ht.Height_L].shape[0]\n",
    "total = ht.shape[0]\n",
    "wins, total, wins / float(total), fs.shape[0] - total, 2 * binom.cdf(p=0.5, k=min(wins, total - wins), n=total)"
   ]
  },
  {
   "cell_type": "markdown",
   "metadata": {},
   "source": [
    "### Stance"
   ]
  },
  {
   "cell_type": "code",
   "execution_count": 20,
   "metadata": {
    "collapsed": false
   },
   "outputs": [
    {
     "data": {
      "text/plain": [
       "(561, 1010, 0.5554455445544555, 2551, 0.00047237811629372023)"
      ]
     },
     "execution_count": 20,
     "metadata": {},
     "output_type": "execute_result"
    }
   ],
   "source": [
    "st = fs[pd.notnull(fs.Stance) & pd.notnull(fs.Stance_L) & (((fs.Stance == 'Orthodox') & (fs.Stance_L == 'Southpaw')) | ((fs.Stance == 'Southpaw') & (fs.Stance_L == 'Orthodox')))]\n",
    "wins = st[st.Stance == 'Southpaw'].shape[0]\n",
    "total = st.shape[0]\n",
    "wins, total, wins / float(total), fs.shape[0] - total, 2 * binom.cdf(p=0.5, k=min(wins, total - wins), n=total)"
   ]
  },
  {
   "cell_type": "markdown",
   "metadata": {},
   "source": [
    "### Education"
   ]
  },
  {
   "cell_type": "code",
   "execution_count": 21,
   "metadata": {
    "collapsed": false
   },
   "outputs": [
    {
     "data": {
      "text/plain": [
       "(594, 1051, 0.5651760228353948, 2510, 2.6619836969235326e-05)"
      ]
     },
     "execution_count": 21,
     "metadata": {},
     "output_type": "execute_result"
    }
   ],
   "source": [
    "ed = fs[pd.notnull(fs.Education) & pd.notnull(fs.Education_L) & (fs.Education != fs.Education_L)]\n",
    "wins = ed[ed.Education == 1].shape[0]\n",
    "total = ed.shape[0]\n",
    "wins, total, wins / float(total), fs.shape[0] - total, 2 * binom.cdf(p=0.5, k=min(wins, total - wins), n=total)"
   ]
  },
  {
   "cell_type": "markdown",
   "metadata": {},
   "source": [
    "### Leg reach"
   ]
  },
  {
   "cell_type": "code",
   "execution_count": 22,
   "metadata": {
    "collapsed": false
   },
   "outputs": [
    {
     "data": {
      "text/plain": [
       "(487, 993, 0.4904330312185297, 2568, 0.56787738449981351)"
      ]
     },
     "execution_count": 22,
     "metadata": {},
     "output_type": "execute_result"
    }
   ],
   "source": [
    "lg = fs[pd.notnull(fs.LegReach) & pd.notnull(fs.LegReach_L) & (fs.LegReach != fs.LegReach_L)]\n",
    "wins = lg[lg.LegReach > lg.LegReach_L].shape[0]\n",
    "total = lg.shape[0]\n",
    "wins, total, wins / float(total), fs.shape[0] - total, 2 * binom.cdf(p=0.5, k=min(wins, total - wins), n=total)"
   ]
  },
  {
   "cell_type": "markdown",
   "metadata": {},
   "source": [
    "### Predict winner has more UFC fights"
   ]
  },
  {
   "cell_type": "code",
   "execution_count": 23,
   "metadata": {
    "collapsed": false
   },
   "outputs": [
    {
     "data": {
      "text/plain": [
       "(1606, 2886, 0.5564795564795565, 675, 1.3957729165251447e-09)"
      ]
     },
     "execution_count": 23,
     "metadata": {},
     "output_type": "execute_result"
    }
   ],
   "source": [
    "nf = fs[pd.notnull(fs.Num) & pd.notnull(fs.Num_L) & (fs.Num != fs.Num_L)]\n",
    "wins = nf[nf.Num > nf.Num_L].shape[0]\n",
    "total = nf.shape[0]\n",
    "wins, total, wins / float(total), fs.shape[0] - total, 2 * binom.cdf(p=0.5, k=min(wins, total - wins), n=total)"
   ]
  },
  {
   "cell_type": "markdown",
   "metadata": {},
   "source": [
    "### Predict winner has higher win ratio (for 5 fights or more)"
   ]
  },
  {
   "cell_type": "code",
   "execution_count": 24,
   "metadata": {
    "collapsed": false
   },
   "outputs": [
    {
     "data": {
      "text/plain": [
       "(439, 737, 0.5956580732700135, 2824, 2.3149181853620525e-07)"
      ]
     },
     "execution_count": 24,
     "metadata": {},
     "output_type": "execute_result"
    }
   ],
   "source": [
    "wr = fs[pd.notnull(fs.WinRatio) & pd.notnull(fs.WinRatio_L) & (fs.WinRatio != fs.WinRatio_L) & (fs.Num > 4) & (fs.Num_L > 4)]\n",
    "wins = wr[wr.WinRatio > wr.WinRatio_L].shape[0]\n",
    "total = wr.shape[0]\n",
    "wins, total, wins / float(total), fs.shape[0] - total, 2 * binom.cdf(p=0.5, k=min(wins, total - wins), n=total)"
   ]
  },
  {
   "cell_type": "code",
   "execution_count": 25,
   "metadata": {
    "collapsed": true
   },
   "outputs": [],
   "source": [
    "# How does the result change if we replace NaN with 0.5 and don't require a certain number of fights?\n",
    "# Ans: (1571, 2728, 0.5758797653958945, 833, 2.331962646952389e-15)\n",
    "#fs.WinRatio = fs.WinRatio.fillna(0.5)\n",
    "#fs.WinRatio_L = fs.WinRatio_L.fillna(0.5)"
   ]
  },
  {
   "cell_type": "markdown",
   "metadata": {},
   "source": [
    "### Higher win ratio and younger"
   ]
  },
  {
   "cell_type": "code",
   "execution_count": 26,
   "metadata": {
    "collapsed": false
   },
   "outputs": [
    {
     "data": {
      "text/plain": [
       "(256, 407, 0.628992628992629, 3154, 2.1864763337164381e-07)"
      ]
     },
     "execution_count": 26,
     "metadata": {},
     "output_type": "execute_result"
    }
   ],
   "source": [
    "vd = fs[pd.notnull(fs.WinRatio) & pd.notnull(fs.WinRatio_L) & pd.notnull(fs.Dob) & pd.notnull(fs.Dob_L) & (fs.WinRatio != fs.WinRatio_L) & (fs.Dob != fs.Dob_L) & (fs.Num > 4) & (fs.Num_L > 4)]\n",
    "msk1 = (vd.WinRatio > vd.WinRatio_L) & (vd.Dob > vd.Dob_L)\n",
    "msk2 = (vd.WinRatio < vd.WinRatio_L) & (vd.Dob < vd.Dob_L)\n",
    "\n",
    "sp = vd[msk1 | msk2]\n",
    "wins = sp[sp.WinRatio > sp.WinRatio_L].shape[0]\n",
    "total = sp.shape[0]\n",
    "wins, total, wins / float(total), fs.shape[0] - total, 2 * binom.cdf(p=0.5, k=min(wins, total - wins), n=total)"
   ]
  },
  {
   "cell_type": "markdown",
   "metadata": {},
   "source": [
    "### Reach advantage of 4 inches or more"
   ]
  },
  {
   "cell_type": "code",
   "execution_count": 27,
   "metadata": {
    "collapsed": false
   },
   "outputs": [
    {
     "data": {
      "text/plain": [
       "(523, 942, 0.5552016985138004, 2619, 0.00078230416432338058)"
      ]
     },
     "execution_count": 27,
     "metadata": {},
     "output_type": "execute_result"
    }
   ],
   "source": [
    "vd = fs[pd.notnull(fs.Reach) & pd.notnull(fs.Reach_L)]\n",
    "msk1 = np.abs(vd.Reach - vd.Reach_L) >= 4\n",
    "\n",
    "sp = vd[msk1]\n",
    "wins = sp[(sp.Reach > sp.Reach_L)].shape[0]\n",
    "total = sp.shape[0]\n",
    "wins, total, wins / float(total), fs.shape[0] - total, 2 * binom.cdf(p=0.5, k=min(wins, total - wins), n=total)"
   ]
  },
  {
   "cell_type": "code",
   "execution_count": 28,
   "metadata": {
    "collapsed": false
   },
   "outputs": [
    {
     "data": {
      "text/html": [
       "<div>\n",
       "<table border=\"1\" class=\"dataframe\">\n",
       "  <thead>\n",
       "    <tr style=\"text-align: right;\">\n",
       "      <th></th>\n",
       "      <th>Winner</th>\n",
       "      <th>Reach</th>\n",
       "      <th>Loser</th>\n",
       "      <th>Reach_L</th>\n",
       "    </tr>\n",
       "  </thead>\n",
       "  <tbody>\n",
       "    <tr>\n",
       "      <th>5</th>\n",
       "      <td>Belal Muhammad</td>\n",
       "      <td>72.0</td>\n",
       "      <td>Randy Brown</td>\n",
       "      <td>78.0</td>\n",
       "    </tr>\n",
       "    <tr>\n",
       "      <th>6</th>\n",
       "      <td>Wilson Reis</td>\n",
       "      <td>65.0</td>\n",
       "      <td>Ulka Sasaki</td>\n",
       "      <td>71.0</td>\n",
       "    </tr>\n",
       "    <tr>\n",
       "      <th>10</th>\n",
       "      <td>Chan Sung Jung</td>\n",
       "      <td>72.0</td>\n",
       "      <td>Dennis Bermudez</td>\n",
       "      <td>66.0</td>\n",
       "    </tr>\n",
       "    <tr>\n",
       "      <th>12</th>\n",
       "      <td>James Vick</td>\n",
       "      <td>76.0</td>\n",
       "      <td>Abel Trujillo</td>\n",
       "      <td>70.0</td>\n",
       "    </tr>\n",
       "    <tr>\n",
       "      <th>13</th>\n",
       "      <td>Volkan Oezdemir</td>\n",
       "      <td>75.0</td>\n",
       "      <td>Ovince Saint Preux</td>\n",
       "      <td>80.0</td>\n",
       "    </tr>\n",
       "    <tr>\n",
       "      <th>16</th>\n",
       "      <td>Curtis Blaydes</td>\n",
       "      <td>80.0</td>\n",
       "      <td>Adam Milstead</td>\n",
       "      <td>76.0</td>\n",
       "    </tr>\n",
       "    <tr>\n",
       "      <th>17</th>\n",
       "      <td>Chas Skelly</td>\n",
       "      <td>72.0</td>\n",
       "      <td>Chris Gruetzemacher</td>\n",
       "      <td>68.0</td>\n",
       "    </tr>\n",
       "    <tr>\n",
       "      <th>18</th>\n",
       "      <td>Ricardo Ramos</td>\n",
       "      <td>72.0</td>\n",
       "      <td>Michinori Tanaka</td>\n",
       "      <td>67.0</td>\n",
       "    </tr>\n",
       "    <tr>\n",
       "      <th>19</th>\n",
       "      <td>Tecia Torres</td>\n",
       "      <td>60.0</td>\n",
       "      <td>Bec Rawlings</td>\n",
       "      <td>64.0</td>\n",
       "    </tr>\n",
       "    <tr>\n",
       "      <th>20</th>\n",
       "      <td>Niko Price</td>\n",
       "      <td>76.0</td>\n",
       "      <td>Alex Morono</td>\n",
       "      <td>72.0</td>\n",
       "    </tr>\n",
       "  </tbody>\n",
       "</table>\n",
       "</div>"
      ],
      "text/plain": [
       "             Winner  Reach                Loser  Reach_L\n",
       "5    Belal Muhammad   72.0          Randy Brown     78.0\n",
       "6       Wilson Reis   65.0          Ulka Sasaki     71.0\n",
       "10   Chan Sung Jung   72.0      Dennis Bermudez     66.0\n",
       "12       James Vick   76.0        Abel Trujillo     70.0\n",
       "13  Volkan Oezdemir   75.0   Ovince Saint Preux     80.0\n",
       "16   Curtis Blaydes   80.0        Adam Milstead     76.0\n",
       "17      Chas Skelly   72.0  Chris Gruetzemacher     68.0\n",
       "18    Ricardo Ramos   72.0     Michinori Tanaka     67.0\n",
       "19     Tecia Torres   60.0         Bec Rawlings     64.0\n",
       "20       Niko Price   76.0          Alex Morono     72.0"
      ]
     },
     "execution_count": 28,
     "metadata": {},
     "output_type": "execute_result"
    }
   ],
   "source": [
    "sp[['Winner', 'Reach', 'Loser', 'Reach_L']].head(10)"
   ]
  },
  {
   "cell_type": "markdown",
   "metadata": {},
   "source": [
    "### 4 years or more younger"
   ]
  },
  {
   "cell_type": "code",
   "execution_count": 29,
   "metadata": {
    "collapsed": false
   },
   "outputs": [
    {
     "data": {
      "text/plain": [
       "(893, 1511, 0.5909993381866314, 2050, 1.5717573327498843e-12)"
      ]
     },
     "execution_count": 29,
     "metadata": {},
     "output_type": "execute_result"
    }
   ],
   "source": [
    "vd = fs[pd.notnull(fs.Dob) & pd.notnull(fs.Dob_L)]\n",
    "msk1 = ((vd.Dob - vd.Dob_L) / np.timedelta64(1, 'Y'))**2 >= 16\n",
    "\n",
    "sp = vd[msk1]\n",
    "wins = sp[(sp.Dob > sp.Dob_L)].shape[0]\n",
    "total = sp.shape[0]\n",
    "wins, total, wins / float(total), fs.shape[0] - total, 2 * binom.cdf(p=0.5, k=min(wins, total - wins), n=total)"
   ]
  },
  {
   "cell_type": "code",
   "execution_count": 30,
   "metadata": {
    "collapsed": false
   },
   "outputs": [
    {
     "data": {
      "text/html": [
       "<div>\n",
       "<table border=\"1\" class=\"dataframe\">\n",
       "  <thead>\n",
       "    <tr style=\"text-align: right;\">\n",
       "      <th></th>\n",
       "      <th>Winner</th>\n",
       "      <th>Dob</th>\n",
       "      <th>Loser</th>\n",
       "      <th>Dob_L</th>\n",
       "    </tr>\n",
       "  </thead>\n",
       "  <tbody>\n",
       "    <tr>\n",
       "      <th>1</th>\n",
       "      <td>Anderson Silva</td>\n",
       "      <td>1975-04-14</td>\n",
       "      <td>Derek Brunson</td>\n",
       "      <td>1984-01-04</td>\n",
       "    </tr>\n",
       "    <tr>\n",
       "      <th>3</th>\n",
       "      <td>Glover Teixeira</td>\n",
       "      <td>1979-10-28</td>\n",
       "      <td>Jared Cannonier</td>\n",
       "      <td>1984-03-16</td>\n",
       "    </tr>\n",
       "    <tr>\n",
       "      <th>4</th>\n",
       "      <td>Dustin Poirier</td>\n",
       "      <td>1989-01-19</td>\n",
       "      <td>Jim Miller</td>\n",
       "      <td>1983-08-30</td>\n",
       "    </tr>\n",
       "    <tr>\n",
       "      <th>6</th>\n",
       "      <td>Wilson Reis</td>\n",
       "      <td>1985-01-06</td>\n",
       "      <td>Ulka Sasaki</td>\n",
       "      <td>1989-10-07</td>\n",
       "    </tr>\n",
       "    <tr>\n",
       "      <th>7</th>\n",
       "      <td>Islam Makhachev</td>\n",
       "      <td>1991-10-27</td>\n",
       "      <td>Nik Lentz</td>\n",
       "      <td>1984-08-13</td>\n",
       "    </tr>\n",
       "    <tr>\n",
       "      <th>8</th>\n",
       "      <td>Rick Glenn</td>\n",
       "      <td>1989-04-12</td>\n",
       "      <td>Phillipe Nover</td>\n",
       "      <td>1984-02-03</td>\n",
       "    </tr>\n",
       "    <tr>\n",
       "      <th>9</th>\n",
       "      <td>Ryan LaFlare</td>\n",
       "      <td>1983-10-01</td>\n",
       "      <td>Roan Carneiro</td>\n",
       "      <td>1978-06-02</td>\n",
       "    </tr>\n",
       "    <tr>\n",
       "      <th>11</th>\n",
       "      <td>Felice Herrig</td>\n",
       "      <td>1984-09-18</td>\n",
       "      <td>Alexa Grasso</td>\n",
       "      <td>1993-08-09</td>\n",
       "    </tr>\n",
       "    <tr>\n",
       "      <th>13</th>\n",
       "      <td>Volkan Oezdemir</td>\n",
       "      <td>1989-09-19</td>\n",
       "      <td>Ovince Saint Preux</td>\n",
       "      <td>1983-04-08</td>\n",
       "    </tr>\n",
       "    <tr>\n",
       "      <th>14</th>\n",
       "      <td>Marcel Fortuna</td>\n",
       "      <td>1985-10-22</td>\n",
       "      <td>Anthony Hamilton</td>\n",
       "      <td>1980-04-14</td>\n",
       "    </tr>\n",
       "    <tr>\n",
       "      <th>15</th>\n",
       "      <td>Jessica Andrade</td>\n",
       "      <td>1991-09-25</td>\n",
       "      <td>Angela Hill</td>\n",
       "      <td>1985-01-12</td>\n",
       "    </tr>\n",
       "    <tr>\n",
       "      <th>18</th>\n",
       "      <td>Ricardo Ramos</td>\n",
       "      <td>1995-08-01</td>\n",
       "      <td>Michinori Tanaka</td>\n",
       "      <td>1990-10-04</td>\n",
       "    </tr>\n",
       "    <tr>\n",
       "      <th>21</th>\n",
       "      <td>Khalil Rountree Jr.</td>\n",
       "      <td>1990-02-26</td>\n",
       "      <td>Daniel Jolly</td>\n",
       "      <td>1984-09-03</td>\n",
       "    </tr>\n",
       "    <tr>\n",
       "      <th>24</th>\n",
       "      <td>Francis Ngannou</td>\n",
       "      <td>1986-09-05</td>\n",
       "      <td>Andrei Arlovski</td>\n",
       "      <td>1979-02-04</td>\n",
       "    </tr>\n",
       "    <tr>\n",
       "      <th>25</th>\n",
       "      <td>Jason Knight</td>\n",
       "      <td>1992-07-14</td>\n",
       "      <td>Alex Caceres</td>\n",
       "      <td>1988-06-20</td>\n",
       "    </tr>\n",
       "    <tr>\n",
       "      <th>26</th>\n",
       "      <td>Sam Alvey</td>\n",
       "      <td>1986-05-06</td>\n",
       "      <td>Nate Marquardt</td>\n",
       "      <td>1979-04-20</td>\n",
       "    </tr>\n",
       "    <tr>\n",
       "      <th>27</th>\n",
       "      <td>Raphael Assuncao</td>\n",
       "      <td>1982-07-19</td>\n",
       "      <td>Aljamain Sterling</td>\n",
       "      <td>1989-07-31</td>\n",
       "    </tr>\n",
       "    <tr>\n",
       "      <th>31</th>\n",
       "      <td>Marcos Rogerio de Lima</td>\n",
       "      <td>1985-06-25</td>\n",
       "      <td>Jeremy Kimball</td>\n",
       "      <td>1991-01-03</td>\n",
       "    </tr>\n",
       "    <tr>\n",
       "      <th>34</th>\n",
       "      <td>Yair Rodriguez</td>\n",
       "      <td>1992-10-06</td>\n",
       "      <td>BJ Penn</td>\n",
       "      <td>1978-12-13</td>\n",
       "    </tr>\n",
       "    <tr>\n",
       "      <th>35</th>\n",
       "      <td>Joe Lauzon</td>\n",
       "      <td>1984-05-22</td>\n",
       "      <td>Marcin Held</td>\n",
       "      <td>1992-01-18</td>\n",
       "    </tr>\n",
       "  </tbody>\n",
       "</table>\n",
       "</div>"
      ],
      "text/plain": [
       "                    Winner        Dob               Loser      Dob_L\n",
       "1           Anderson Silva 1975-04-14       Derek Brunson 1984-01-04\n",
       "3          Glover Teixeira 1979-10-28     Jared Cannonier 1984-03-16\n",
       "4           Dustin Poirier 1989-01-19          Jim Miller 1983-08-30\n",
       "6              Wilson Reis 1985-01-06         Ulka Sasaki 1989-10-07\n",
       "7          Islam Makhachev 1991-10-27           Nik Lentz 1984-08-13\n",
       "8               Rick Glenn 1989-04-12      Phillipe Nover 1984-02-03\n",
       "9             Ryan LaFlare 1983-10-01       Roan Carneiro 1978-06-02\n",
       "11           Felice Herrig 1984-09-18        Alexa Grasso 1993-08-09\n",
       "13         Volkan Oezdemir 1989-09-19  Ovince Saint Preux 1983-04-08\n",
       "14          Marcel Fortuna 1985-10-22    Anthony Hamilton 1980-04-14\n",
       "15         Jessica Andrade 1991-09-25         Angela Hill 1985-01-12\n",
       "18           Ricardo Ramos 1995-08-01    Michinori Tanaka 1990-10-04\n",
       "21     Khalil Rountree Jr. 1990-02-26        Daniel Jolly 1984-09-03\n",
       "24         Francis Ngannou 1986-09-05     Andrei Arlovski 1979-02-04\n",
       "25            Jason Knight 1992-07-14        Alex Caceres 1988-06-20\n",
       "26               Sam Alvey 1986-05-06      Nate Marquardt 1979-04-20\n",
       "27        Raphael Assuncao 1982-07-19   Aljamain Sterling 1989-07-31\n",
       "31  Marcos Rogerio de Lima 1985-06-25      Jeremy Kimball 1991-01-03\n",
       "34          Yair Rodriguez 1992-10-06             BJ Penn 1978-12-13\n",
       "35              Joe Lauzon 1984-05-22         Marcin Held 1992-01-18"
      ]
     },
     "execution_count": 30,
     "metadata": {},
     "output_type": "execute_result"
    }
   ],
   "source": [
    "sp[['Winner', 'Dob', 'Loser', 'Dob_L']].head(20)"
   ]
  },
  {
   "cell_type": "markdown",
   "metadata": {},
   "source": [
    "### Younger and greater reach"
   ]
  },
  {
   "cell_type": "code",
   "execution_count": 31,
   "metadata": {
    "collapsed": false
   },
   "outputs": [
    {
     "data": {
      "text/plain": [
       "(919, 1607, 0.5718730553827007, 1954, 9.082436176617217e-09)"
      ]
     },
     "execution_count": 31,
     "metadata": {},
     "output_type": "execute_result"
    }
   ],
   "source": [
    "vd = fs[pd.notnull(fs.Dob) & pd.notnull(fs.Dob_L) & pd.notnull(fs.Reach) & pd.notnull(fs.Reach_L)]\n",
    "msk1 = (vd.Reach > vd.Reach_L) & (vd.Dob > vd.Dob_L)\n",
    "msk2 = (vd.Reach < vd.Reach_L) & (vd.Dob < vd.Dob_L)\n",
    "\n",
    "sp = vd[msk1 | msk2]\n",
    "wins = sp[(sp.Dob > sp.Dob_L) & (sp.Reach > sp.Reach_L)].shape[0]\n",
    "total = sp.shape[0]\n",
    "wins, total, wins / float(total), fs.shape[0] - total, 2 * binom.cdf(p=0.5, k=min(wins, total - wins), n=total)"
   ]
  },
  {
   "cell_type": "markdown",
   "metadata": {},
   "source": [
    "### Southpaw and younger"
   ]
  },
  {
   "cell_type": "code",
   "execution_count": 32,
   "metadata": {
    "collapsed": false
   },
   "outputs": [
    {
     "data": {
      "text/plain": [
       "(284, 460, 0.6173913043478261, 3101, 5.4168911673341359e-07)"
      ]
     },
     "execution_count": 32,
     "metadata": {},
     "output_type": "execute_result"
    }
   ],
   "source": [
    "vd = fs[pd.notnull(fs.Stance) & pd.notnull(fs.Stance_L) & pd.notnull(fs.Dob) & pd.notnull(fs.Dob_L)]\n",
    "msk1 = (vd.Stance == 'Southpaw') & (vd.Stance_L == 'Orthodox') & (vd.Dob > vd.Dob_L)\n",
    "msk2 = (vd.Stance == 'Orthodox') & (vd.Stance_L == 'Southpaw') & (vd.Dob < vd.Dob_L)\n",
    "\n",
    "sp = vd[msk1 | msk2]\n",
    "wins = sp[sp.Stance == 'Southpaw'].shape[0]\n",
    "total = sp.shape[0]\n",
    "wins, total, wins / float(total), fs.shape[0] - total, 2 * binom.cdf(p=0.5, k=min(wins, total - wins), n=total)"
   ]
  },
  {
   "cell_type": "markdown",
   "metadata": {},
   "source": [
    "### South, younger and greater reach"
   ]
  },
  {
   "cell_type": "code",
   "execution_count": 33,
   "metadata": {
    "collapsed": false
   },
   "outputs": [
    {
     "data": {
      "text/plain": [
       "(132, 213, 0.6197183098591549, 3348, 0.00058036677808886463)"
      ]
     },
     "execution_count": 33,
     "metadata": {},
     "output_type": "execute_result"
    }
   ],
   "source": [
    "vd = fs[pd.notnull(fs.Stance) & pd.notnull(fs.Stance_L) & pd.notnull(fs.Dob) & pd.notnull(fs.Dob_L) & pd.notnull(fs.Reach) & pd.notnull(fs.Reach_L)]\n",
    "msk1 = (vd.Stance == 'Southpaw') & (vd.Stance_L == 'Orthodox') & (vd.Reach > vd.Reach_L) & (vd.Dob > vd.Dob_L)\n",
    "msk2 = (vd.Stance == 'Orthodox') & (vd.Stance_L == 'Southpaw') & (vd.Reach < vd.Reach_L) & (vd.Dob < vd.Dob_L)\n",
    "\n",
    "sp = vd[msk1 | msk2]\n",
    "wins = sp[sp.Stance == 'Southpaw'].shape[0]\n",
    "total = sp.shape[0]\n",
    "wins, total, wins / float(total), fs.shape[0] - total, 2 * binom.cdf(p=0.5, k=min(wins, total - wins), n=total)"
   ]
  },
  {
   "cell_type": "code",
   "execution_count": 34,
   "metadata": {
    "collapsed": false
   },
   "outputs": [
    {
     "data": {
      "text/html": [
       "<div>\n",
       "<table border=\"1\" class=\"dataframe\">\n",
       "  <thead>\n",
       "    <tr style=\"text-align: right;\">\n",
       "      <th></th>\n",
       "      <th>Winner</th>\n",
       "      <th>Dob</th>\n",
       "      <th>Reach</th>\n",
       "      <th>Stance</th>\n",
       "      <th>Loser</th>\n",
       "      <th>Dob_L</th>\n",
       "      <th>Reach_L</th>\n",
       "      <th>Stance_L</th>\n",
       "    </tr>\n",
       "  </thead>\n",
       "  <tbody>\n",
       "    <tr>\n",
       "      <th>26</th>\n",
       "      <td>Sam Alvey</td>\n",
       "      <td>1986-05-06</td>\n",
       "      <td>75.0</td>\n",
       "      <td>Southpaw</td>\n",
       "      <td>Nate Marquardt</td>\n",
       "      <td>1979-04-20</td>\n",
       "      <td>74.0</td>\n",
       "      <td>Orthodox</td>\n",
       "    </tr>\n",
       "    <tr>\n",
       "      <th>33</th>\n",
       "      <td>Jason Gonzalez</td>\n",
       "      <td>1990-02-28</td>\n",
       "      <td>74.0</td>\n",
       "      <td>Southpaw</td>\n",
       "      <td>JC Cottrell</td>\n",
       "      <td>1989-11-04</td>\n",
       "      <td>71.0</td>\n",
       "      <td>Orthodox</td>\n",
       "    </tr>\n",
       "    <tr>\n",
       "      <th>67</th>\n",
       "      <td>Sultan Aliev</td>\n",
       "      <td>1984-09-17</td>\n",
       "      <td>74.0</td>\n",
       "      <td>Orthodox</td>\n",
       "      <td>Bojan Velickovic</td>\n",
       "      <td>1988-12-18</td>\n",
       "      <td>76.0</td>\n",
       "      <td>Southpaw</td>\n",
       "    </tr>\n",
       "    <tr>\n",
       "      <th>91</th>\n",
       "      <td>Juliana Lima</td>\n",
       "      <td>1982-03-15</td>\n",
       "      <td>65.0</td>\n",
       "      <td>Orthodox</td>\n",
       "      <td>JJ Aldrich</td>\n",
       "      <td>1992-09-29</td>\n",
       "      <td>67.0</td>\n",
       "      <td>Southpaw</td>\n",
       "    </tr>\n",
       "    <tr>\n",
       "      <th>92</th>\n",
       "      <td>Demetrious Johnson</td>\n",
       "      <td>1986-08-13</td>\n",
       "      <td>64.0</td>\n",
       "      <td>Orthodox</td>\n",
       "      <td>Tim Elliott</td>\n",
       "      <td>1986-12-24</td>\n",
       "      <td>65.0</td>\n",
       "      <td>Southpaw</td>\n",
       "    </tr>\n",
       "  </tbody>\n",
       "</table>\n",
       "</div>"
      ],
      "text/plain": [
       "                Winner        Dob  Reach    Stance             Loser  \\\n",
       "26           Sam Alvey 1986-05-06   75.0  Southpaw    Nate Marquardt   \n",
       "33      Jason Gonzalez 1990-02-28   74.0  Southpaw       JC Cottrell   \n",
       "67        Sultan Aliev 1984-09-17   74.0  Orthodox  Bojan Velickovic   \n",
       "91        Juliana Lima 1982-03-15   65.0  Orthodox        JJ Aldrich   \n",
       "92  Demetrious Johnson 1986-08-13   64.0  Orthodox       Tim Elliott   \n",
       "\n",
       "        Dob_L  Reach_L  Stance_L  \n",
       "26 1979-04-20     74.0  Orthodox  \n",
       "33 1989-11-04     71.0  Orthodox  \n",
       "67 1988-12-18     76.0  Southpaw  \n",
       "91 1992-09-29     67.0  Southpaw  \n",
       "92 1986-12-24     65.0  Southpaw  "
      ]
     },
     "execution_count": 34,
     "metadata": {},
     "output_type": "execute_result"
    }
   ],
   "source": [
    "sp[['Winner', 'Dob', 'Reach', 'Stance', 'Loser', 'Dob_L', 'Reach_L', 'Stance_L']].head()"
   ]
  },
  {
   "cell_type": "markdown",
   "metadata": {},
   "source": [
    "### Overall win ratio"
   ]
  },
  {
   "cell_type": "code",
   "execution_count": 35,
   "metadata": {
    "collapsed": false
   },
   "outputs": [],
   "source": [
    "fs_fighters = fs.Winner.append(fs.Loser).value_counts().to_frame()\n",
    "wins = fs.Winner.value_counts().to_frame()\n",
    "loses = fs.Loser.value_counts().to_frame()\n",
    "fs_fighters = fs_fighters.merge(wins, left_index=True, right_index=True, how='left')\n",
    "fs_fighters = fs_fighters.merge(loses, left_index=True, right_index=True, how='left')\n",
    "fs_fighters = fs_fighters.fillna(0.0)\n",
    "fs_fighters.columns = ['Total', 'Wins', 'Losses']\n",
    "fs_fighters['WinRatio'] = fs_fighters.Wins / (fs_fighters.Wins + fs_fighters.Losses)"
   ]
  },
  {
   "cell_type": "code",
   "execution_count": 36,
   "metadata": {
    "collapsed": false
   },
   "outputs": [
    {
     "data": {
      "text/html": [
       "<div>\n",
       "<table border=\"1\" class=\"dataframe\">\n",
       "  <thead>\n",
       "    <tr style=\"text-align: right;\">\n",
       "      <th></th>\n",
       "      <th>Winner</th>\n",
       "      <th>Outcome</th>\n",
       "      <th>Loser</th>\n",
       "      <th>WeightClass</th>\n",
       "      <th>Method</th>\n",
       "      <th>MethodNotes</th>\n",
       "      <th>Round</th>\n",
       "      <th>Time</th>\n",
       "      <th>Event</th>\n",
       "      <th>Date</th>\n",
       "      <th>...</th>\n",
       "      <th>Reach_L</th>\n",
       "      <th>LegReach_L</th>\n",
       "      <th>Stance_L</th>\n",
       "      <th>Dob_L</th>\n",
       "      <th>Education</th>\n",
       "      <th>Education_L</th>\n",
       "      <th>Total</th>\n",
       "      <th>WinRatio_y</th>\n",
       "      <th>Total_L</th>\n",
       "      <th>WinRatio</th>\n",
       "    </tr>\n",
       "  </thead>\n",
       "  <tbody>\n",
       "    <tr>\n",
       "      <th>0</th>\n",
       "      <td>Germaine de Randamie</td>\n",
       "      <td>def.</td>\n",
       "      <td>Holly Holm</td>\n",
       "      <td>Women's Featherweight</td>\n",
       "      <td>U-DEC</td>\n",
       "      <td>NaN</td>\n",
       "      <td>5</td>\n",
       "      <td>5:00</td>\n",
       "      <td>UFC 208: Holm vs. De Randamie</td>\n",
       "      <td>2017-02-11</td>\n",
       "      <td>...</td>\n",
       "      <td>69.0</td>\n",
       "      <td>38.0</td>\n",
       "      <td>Southpaw</td>\n",
       "      <td>1981-10-17</td>\n",
       "      <td>0.0</td>\n",
       "      <td>0.0</td>\n",
       "      <td>5</td>\n",
       "      <td>0.800000</td>\n",
       "      <td>6</td>\n",
       "      <td>0.50000</td>\n",
       "    </tr>\n",
       "    <tr>\n",
       "      <th>1</th>\n",
       "      <td>Anderson Silva</td>\n",
       "      <td>def.</td>\n",
       "      <td>Derek Brunson</td>\n",
       "      <td>Middleweight</td>\n",
       "      <td>U-DEC</td>\n",
       "      <td>NaN</td>\n",
       "      <td>3</td>\n",
       "      <td>5:00</td>\n",
       "      <td>UFC 208: Holm vs. De Randamie</td>\n",
       "      <td>2017-02-11</td>\n",
       "      <td>...</td>\n",
       "      <td>77.0</td>\n",
       "      <td>43.0</td>\n",
       "      <td>Southpaw</td>\n",
       "      <td>1984-01-04</td>\n",
       "      <td>0.0</td>\n",
       "      <td>1.0</td>\n",
       "      <td>21</td>\n",
       "      <td>0.809524</td>\n",
       "      <td>10</td>\n",
       "      <td>0.70000</td>\n",
       "    </tr>\n",
       "    <tr>\n",
       "      <th>2</th>\n",
       "      <td>Jacare Souza</td>\n",
       "      <td>def.</td>\n",
       "      <td>Tim Boetsch</td>\n",
       "      <td>Middleweight</td>\n",
       "      <td>SUB</td>\n",
       "      <td>Kimura</td>\n",
       "      <td>1</td>\n",
       "      <td>3:41</td>\n",
       "      <td>UFC 208: Holm vs. De Randamie</td>\n",
       "      <td>2017-02-11</td>\n",
       "      <td>...</td>\n",
       "      <td>74.0</td>\n",
       "      <td>42.0</td>\n",
       "      <td>Orthodox</td>\n",
       "      <td>1981-01-28</td>\n",
       "      <td>0.0</td>\n",
       "      <td>1.0</td>\n",
       "      <td>8</td>\n",
       "      <td>0.875000</td>\n",
       "      <td>21</td>\n",
       "      <td>0.52381</td>\n",
       "    </tr>\n",
       "  </tbody>\n",
       "</table>\n",
       "<p>3 rows × 33 columns</p>\n",
       "</div>"
      ],
      "text/plain": [
       "                 Winner Outcome          Loser            WeightClass Method  \\\n",
       "0  Germaine de Randamie    def.     Holly Holm  Women's Featherweight  U-DEC   \n",
       "1        Anderson Silva    def.  Derek Brunson           Middleweight  U-DEC   \n",
       "2          Jacare Souza    def.    Tim Boetsch           Middleweight    SUB   \n",
       "\n",
       "  MethodNotes  Round  Time                          Event       Date  \\\n",
       "0         NaN      5  5:00  UFC 208: Holm vs. De Randamie 2017-02-11   \n",
       "1         NaN      3  5:00  UFC 208: Holm vs. De Randamie 2017-02-11   \n",
       "2      Kimura      1  3:41  UFC 208: Holm vs. De Randamie 2017-02-11   \n",
       "\n",
       "     ...    Reach_L  LegReach_L  Stance_L      Dob_L  Education  Education_L  \\\n",
       "0    ...       69.0        38.0  Southpaw 1981-10-17        0.0          0.0   \n",
       "1    ...       77.0        43.0  Southpaw 1984-01-04        0.0          1.0   \n",
       "2    ...       74.0        42.0  Orthodox 1981-01-28        0.0          1.0   \n",
       "\n",
       "   Total  WinRatio_y  Total_L  WinRatio  \n",
       "0      5    0.800000        6   0.50000  \n",
       "1     21    0.809524       10   0.70000  \n",
       "2      8    0.875000       21   0.52381  \n",
       "\n",
       "[3 rows x 33 columns]"
      ]
     },
     "execution_count": 36,
     "metadata": {},
     "output_type": "execute_result"
    }
   ],
   "source": [
    "ws = fs.merge(fs_fighters[['Total', 'WinRatio']], left_on='Winner', right_index=True, how='left')\n",
    "ws = ws.merge(fs_fighters[['Total', 'WinRatio']], left_on='Loser', right_index=True, how='left', suffixes=('', '_L'))\n",
    "ws.head(3)"
   ]
  },
  {
   "cell_type": "code",
   "execution_count": 37,
   "metadata": {
    "collapsed": false
   },
   "outputs": [
    {
     "data": {
      "text/plain": [
       "(147, 1577, 0.0932149651236525, 0)"
      ]
     },
     "execution_count": 37,
     "metadata": {},
     "output_type": "execute_result"
    }
   ],
   "source": [
    "ws = ws[pd.notnull(ws.WinRatio) & pd.notnull(ws.WinRatio_L) & (ws.Total > 5) & (ws.Total_L > 5)]\n",
    "wins = ws[ws.WinRatio > ws.WinRatio_L].shape[0]\n",
    "total = ws.shape[0]\n",
    "wins, total, wins / float(total), ws.shape[0] - total"
   ]
  },
  {
   "cell_type": "markdown",
   "metadata": {},
   "source": [
    "# Part II: Decision trees"
   ]
  },
  {
   "cell_type": "code",
   "execution_count": 38,
   "metadata": {
    "collapsed": false
   },
   "outputs": [
    {
     "name": "stdout",
     "output_type": "stream",
     "text": [
      "<class 'pandas.core.frame.DataFrame'>\n",
      "Int64Index: 3561 entries, 0 to 3580\n",
      "Data columns (total 29 columns):\n",
      "Winner         3561 non-null object\n",
      "Outcome        3561 non-null object\n",
      "Loser          3561 non-null object\n",
      "WeightClass    3561 non-null object\n",
      "Method         3561 non-null object\n",
      "MethodNotes    1860 non-null object\n",
      "Round          3561 non-null int64\n",
      "Time           3561 non-null object\n",
      "Event          3561 non-null object\n",
      "Date           3561 non-null datetime64[ns]\n",
      "Location       3561 non-null object\n",
      "Num            3561 non-null int64\n",
      "Num_L          3561 non-null int64\n",
      "Num_Wins       3561 non-null int64\n",
      "Num_Wins_L     3561 non-null int64\n",
      "WinRatio       2992 non-null float64\n",
      "WinRatio_L     2829 non-null float64\n",
      "Height         3561 non-null float64\n",
      "Reach          3538 non-null float64\n",
      "LegReach       2242 non-null float64\n",
      "Stance         3454 non-null object\n",
      "Dob            3559 non-null datetime64[ns]\n",
      "Height_L       3560 non-null float64\n",
      "Reach_L        3300 non-null float64\n",
      "LegReach_L     1517 non-null float64\n",
      "Stance_L       3429 non-null object\n",
      "Dob_L          3532 non-null datetime64[ns]\n",
      "Education      3561 non-null float64\n",
      "Education_L    3561 non-null float64\n",
      "dtypes: datetime64[ns](3), float64(10), int64(5), object(11)\n",
      "memory usage: 834.6+ KB\n"
     ]
    }
   ],
   "source": [
    "fs.info()"
   ]
  },
  {
   "cell_type": "code",
   "execution_count": 39,
   "metadata": {
    "collapsed": false
   },
   "outputs": [],
   "source": [
    "fs['Age'] = (fs.Date - fs.Dob) / np.timedelta64(1, 'Y')\n",
    "fs['Age_L'] = (fs.Date - fs.Dob_L) / np.timedelta64(1, 'Y')"
   ]
  },
  {
   "cell_type": "code",
   "execution_count": 40,
   "metadata": {
    "collapsed": false
   },
   "outputs": [
    {
     "data": {
      "text/plain": [
       "Orthodox       2620\n",
       "Southpaw        751\n",
       "Switch           70\n",
       "Open Stance      13\n",
       "Name: Stance, dtype: int64"
      ]
     },
     "execution_count": 40,
     "metadata": {},
     "output_type": "execute_result"
    }
   ],
   "source": [
    "fs.Stance.value_counts()"
   ]
  },
  {
   "cell_type": "code",
   "execution_count": 41,
   "metadata": {
    "collapsed": false
   },
   "outputs": [
    {
     "data": {
      "text/plain": [
       "Orthodox       2704\n",
       "Southpaw        636\n",
       "Switch           79\n",
       "Open Stance       9\n",
       "Sideways          1\n",
       "Name: Stance_L, dtype: int64"
      ]
     },
     "execution_count": 41,
     "metadata": {},
     "output_type": "execute_result"
    }
   ],
   "source": [
    "fs.Stance_L.value_counts()"
   ]
  },
  {
   "cell_type": "code",
   "execution_count": 42,
   "metadata": {
    "collapsed": true
   },
   "outputs": [],
   "source": [
    "gs = fs[fs.Stance.isin(['Southpaw', 'Orthodox']) & fs.Stance_L.isin(['Southpaw', 'Orthodox'])].copy()"
   ]
  },
  {
   "cell_type": "markdown",
   "metadata": {},
   "source": [
    "Replace NaN's in win ratios:"
   ]
  },
  {
   "cell_type": "code",
   "execution_count": 43,
   "metadata": {
    "collapsed": false
   },
   "outputs": [],
   "source": [
    "gs.WinRatio = gs.WinRatio.fillna(0.5)\n",
    "gs.WinRatio_L = gs.WinRatio_L.fillna(0.5)"
   ]
  },
  {
   "cell_type": "code",
   "execution_count": 44,
   "metadata": {
    "collapsed": true
   },
   "outputs": [],
   "source": [
    "gs.Stance = gs.Stance.replace({'Southpaw':1, 'Orthodox':0})\n",
    "gs.Stance_L = gs.Stance_L.replace({'Southpaw':1, 'Orthodox':0})"
   ]
  },
  {
   "cell_type": "code",
   "execution_count": 45,
   "metadata": {
    "collapsed": true
   },
   "outputs": [],
   "source": [
    "#gs.LegReach = gs.LegReach.apply()"
   ]
  },
  {
   "cell_type": "code",
   "execution_count": 46,
   "metadata": {
    "collapsed": false,
    "scrolled": false
   },
   "outputs": [
    {
     "data": {
      "text/html": [
       "<div>\n",
       "<table border=\"1\" class=\"dataframe\">\n",
       "  <thead>\n",
       "    <tr style=\"text-align: right;\">\n",
       "      <th></th>\n",
       "      <th>Reach</th>\n",
       "      <th>Height</th>\n",
       "      <th>Stance</th>\n",
       "      <th>Num</th>\n",
       "      <th>WinRatio</th>\n",
       "      <th>Education</th>\n",
       "      <th>Age</th>\n",
       "      <th>Reach_L</th>\n",
       "      <th>Height_L</th>\n",
       "      <th>Stance_L</th>\n",
       "      <th>Num_L</th>\n",
       "      <th>WinRatio_L</th>\n",
       "      <th>Education_L</th>\n",
       "      <th>Age_L</th>\n",
       "    </tr>\n",
       "  </thead>\n",
       "  <tbody>\n",
       "    <tr>\n",
       "      <th>0</th>\n",
       "      <td>71.0</td>\n",
       "      <td>69.0</td>\n",
       "      <td>0</td>\n",
       "      <td>4</td>\n",
       "      <td>0.750000</td>\n",
       "      <td>0.0</td>\n",
       "      <td>32.802864</td>\n",
       "      <td>69.0</td>\n",
       "      <td>68.0</td>\n",
       "      <td>1</td>\n",
       "      <td>5</td>\n",
       "      <td>0.600000</td>\n",
       "      <td>0.0</td>\n",
       "      <td>35.321738</td>\n",
       "    </tr>\n",
       "    <tr>\n",
       "      <th>1</th>\n",
       "      <td>77.0</td>\n",
       "      <td>74.0</td>\n",
       "      <td>1</td>\n",
       "      <td>20</td>\n",
       "      <td>0.800000</td>\n",
       "      <td>0.0</td>\n",
       "      <td>41.832481</td>\n",
       "      <td>77.0</td>\n",
       "      <td>73.0</td>\n",
       "      <td>1</td>\n",
       "      <td>9</td>\n",
       "      <td>0.777778</td>\n",
       "      <td>1.0</td>\n",
       "      <td>33.106772</td>\n",
       "    </tr>\n",
       "    <tr>\n",
       "      <th>2</th>\n",
       "      <td>72.0</td>\n",
       "      <td>73.0</td>\n",
       "      <td>0</td>\n",
       "      <td>7</td>\n",
       "      <td>0.857143</td>\n",
       "      <td>0.0</td>\n",
       "      <td>37.183515</td>\n",
       "      <td>74.0</td>\n",
       "      <td>72.0</td>\n",
       "      <td>0</td>\n",
       "      <td>20</td>\n",
       "      <td>0.550000</td>\n",
       "      <td>1.0</td>\n",
       "      <td>36.039070</td>\n",
       "    </tr>\n",
       "    <tr>\n",
       "      <th>4</th>\n",
       "      <td>72.0</td>\n",
       "      <td>69.0</td>\n",
       "      <td>1</td>\n",
       "      <td>16</td>\n",
       "      <td>0.750000</td>\n",
       "      <td>0.0</td>\n",
       "      <td>28.063547</td>\n",
       "      <td>71.0</td>\n",
       "      <td>68.0</td>\n",
       "      <td>1</td>\n",
       "      <td>24</td>\n",
       "      <td>0.708333</td>\n",
       "      <td>0.0</td>\n",
       "      <td>33.454486</td>\n",
       "    </tr>\n",
       "    <tr>\n",
       "      <th>5</th>\n",
       "      <td>72.0</td>\n",
       "      <td>71.0</td>\n",
       "      <td>0</td>\n",
       "      <td>3</td>\n",
       "      <td>0.333333</td>\n",
       "      <td>0.0</td>\n",
       "      <td>28.594701</td>\n",
       "      <td>78.0</td>\n",
       "      <td>75.0</td>\n",
       "      <td>0</td>\n",
       "      <td>4</td>\n",
       "      <td>0.750000</td>\n",
       "      <td>0.0</td>\n",
       "      <td>26.598767</td>\n",
       "    </tr>\n",
       "  </tbody>\n",
       "</table>\n",
       "</div>"
      ],
      "text/plain": [
       "   Reach  Height  Stance  Num  WinRatio  Education        Age  Reach_L  \\\n",
       "0   71.0    69.0       0    4  0.750000        0.0  32.802864     69.0   \n",
       "1   77.0    74.0       1   20  0.800000        0.0  41.832481     77.0   \n",
       "2   72.0    73.0       0    7  0.857143        0.0  37.183515     74.0   \n",
       "4   72.0    69.0       1   16  0.750000        0.0  28.063547     71.0   \n",
       "5   72.0    71.0       0    3  0.333333        0.0  28.594701     78.0   \n",
       "\n",
       "   Height_L  Stance_L  Num_L  WinRatio_L  Education_L      Age_L  \n",
       "0      68.0         1      5    0.600000          0.0  35.321738  \n",
       "1      73.0         1      9    0.777778          1.0  33.106772  \n",
       "2      72.0         0     20    0.550000          1.0  36.039070  \n",
       "4      68.0         1     24    0.708333          0.0  33.454486  \n",
       "5      75.0         0      4    0.750000          0.0  26.598767  "
      ]
     },
     "execution_count": 46,
     "metadata": {},
     "output_type": "execute_result"
    }
   ],
   "source": [
    "cols = ['Reach', 'Height', 'LegReach', 'Stance', 'Num', 'WinRatio', 'Education', 'Age', 'Reach_L', 'Height_L', 'LegReach_L', 'Stance_L', 'Num_L', 'WinRatio_L', 'Education_L', 'Age_L']\n",
    "cols = ['Reach', 'Height', 'Stance', 'Num', 'WinRatio', 'Education', 'Age', 'Reach_L', 'Height_L', 'Stance_L', 'Num_L', 'WinRatio_L', 'Education_L', 'Age_L']\n",
    "\n",
    "gs[cols].head()"
   ]
  },
  {
   "cell_type": "code",
   "execution_count": 47,
   "metadata": {
    "collapsed": false
   },
   "outputs": [
    {
     "name": "stdout",
     "output_type": "stream",
     "text": [
      "<class 'pandas.core.frame.DataFrame'>\n",
      "Int64Index: 3190 entries, 0 to 3580\n",
      "Data columns (total 14 columns):\n",
      "Reach          3170 non-null float64\n",
      "Height         3190 non-null float64\n",
      "Stance         3190 non-null int64\n",
      "Num            3190 non-null int64\n",
      "WinRatio       3190 non-null float64\n",
      "Education      3190 non-null float64\n",
      "Age            3188 non-null float64\n",
      "Reach_L        2958 non-null float64\n",
      "Height_L       3190 non-null float64\n",
      "Stance_L       3190 non-null int64\n",
      "Num_L          3190 non-null int64\n",
      "WinRatio_L     3190 non-null float64\n",
      "Education_L    3190 non-null float64\n",
      "Age_L          3164 non-null float64\n",
      "dtypes: float64(10), int64(4)\n",
      "memory usage: 373.8 KB\n"
     ]
    }
   ],
   "source": [
    "gs = gs[cols]\n",
    "gs.info()"
   ]
  },
  {
   "cell_type": "code",
   "execution_count": 48,
   "metadata": {
    "collapsed": false
   },
   "outputs": [
    {
     "data": {
      "text/html": [
       "<div>\n",
       "<table border=\"1\" class=\"dataframe\">\n",
       "  <thead>\n",
       "    <tr style=\"text-align: right;\">\n",
       "      <th></th>\n",
       "      <th>Reach</th>\n",
       "      <th>Height</th>\n",
       "      <th>Stance</th>\n",
       "      <th>Num</th>\n",
       "      <th>WinRatio</th>\n",
       "      <th>Education</th>\n",
       "      <th>Age</th>\n",
       "      <th>Reach_L</th>\n",
       "      <th>Height_L</th>\n",
       "      <th>Stance_L</th>\n",
       "      <th>Num_L</th>\n",
       "      <th>WinRatio_L</th>\n",
       "      <th>Education_L</th>\n",
       "      <th>Age_L</th>\n",
       "    </tr>\n",
       "  </thead>\n",
       "  <tbody>\n",
       "    <tr>\n",
       "      <th>count</th>\n",
       "      <td>3170.000000</td>\n",
       "      <td>3190.000000</td>\n",
       "      <td>3190.000000</td>\n",
       "      <td>3190.000000</td>\n",
       "      <td>3190.000000</td>\n",
       "      <td>3190.000000</td>\n",
       "      <td>3188.000000</td>\n",
       "      <td>2958.000000</td>\n",
       "      <td>3190.000000</td>\n",
       "      <td>3190.000000</td>\n",
       "      <td>3190.000000</td>\n",
       "      <td>3190.000000</td>\n",
       "      <td>3190.000000</td>\n",
       "      <td>3164.000000</td>\n",
       "    </tr>\n",
       "    <tr>\n",
       "      <th>mean</th>\n",
       "      <td>72.606467</td>\n",
       "      <td>70.765517</td>\n",
       "      <td>0.223824</td>\n",
       "      <td>4.828527</td>\n",
       "      <td>0.612572</td>\n",
       "      <td>0.210345</td>\n",
       "      <td>29.346474</td>\n",
       "      <td>72.296146</td>\n",
       "      <td>70.651097</td>\n",
       "      <td>0.188715</td>\n",
       "      <td>4.561129</td>\n",
       "      <td>0.571296</td>\n",
       "      <td>0.174295</td>\n",
       "      <td>30.084203</td>\n",
       "    </tr>\n",
       "    <tr>\n",
       "      <th>std</th>\n",
       "      <td>3.967516</td>\n",
       "      <td>3.312065</td>\n",
       "      <td>0.416871</td>\n",
       "      <td>4.732056</td>\n",
       "      <td>0.271384</td>\n",
       "      <td>0.407617</td>\n",
       "      <td>3.931837</td>\n",
       "      <td>3.780616</td>\n",
       "      <td>3.173793</td>\n",
       "      <td>0.391343</td>\n",
       "      <td>4.960413</td>\n",
       "      <td>0.272502</td>\n",
       "      <td>0.379422</td>\n",
       "      <td>4.062268</td>\n",
       "    </tr>\n",
       "    <tr>\n",
       "      <th>min</th>\n",
       "      <td>60.000000</td>\n",
       "      <td>60.000000</td>\n",
       "      <td>0.000000</td>\n",
       "      <td>0.000000</td>\n",
       "      <td>0.000000</td>\n",
       "      <td>0.000000</td>\n",
       "      <td>19.589725</td>\n",
       "      <td>60.000000</td>\n",
       "      <td>60.000000</td>\n",
       "      <td>0.000000</td>\n",
       "      <td>0.000000</td>\n",
       "      <td>0.000000</td>\n",
       "      <td>0.000000</td>\n",
       "      <td>18.541106</td>\n",
       "    </tr>\n",
       "    <tr>\n",
       "      <th>25%</th>\n",
       "      <td>70.000000</td>\n",
       "      <td>69.000000</td>\n",
       "      <td>0.000000</td>\n",
       "      <td>1.000000</td>\n",
       "      <td>0.500000</td>\n",
       "      <td>0.000000</td>\n",
       "      <td>26.543324</td>\n",
       "      <td>70.000000</td>\n",
       "      <td>68.000000</td>\n",
       "      <td>0.000000</td>\n",
       "      <td>1.000000</td>\n",
       "      <td>0.500000</td>\n",
       "      <td>0.000000</td>\n",
       "      <td>27.138819</td>\n",
       "    </tr>\n",
       "    <tr>\n",
       "      <th>50%</th>\n",
       "      <td>73.000000</td>\n",
       "      <td>71.000000</td>\n",
       "      <td>0.000000</td>\n",
       "      <td>3.000000</td>\n",
       "      <td>0.615385</td>\n",
       "      <td>0.000000</td>\n",
       "      <td>29.171030</td>\n",
       "      <td>72.000000</td>\n",
       "      <td>71.000000</td>\n",
       "      <td>0.000000</td>\n",
       "      <td>3.000000</td>\n",
       "      <td>0.500000</td>\n",
       "      <td>0.000000</td>\n",
       "      <td>29.889731</td>\n",
       "    </tr>\n",
       "    <tr>\n",
       "      <th>75%</th>\n",
       "      <td>75.000000</td>\n",
       "      <td>73.000000</td>\n",
       "      <td>0.000000</td>\n",
       "      <td>7.000000</td>\n",
       "      <td>0.777778</td>\n",
       "      <td>0.000000</td>\n",
       "      <td>31.878820</td>\n",
       "      <td>75.000000</td>\n",
       "      <td>73.000000</td>\n",
       "      <td>0.000000</td>\n",
       "      <td>7.000000</td>\n",
       "      <td>0.750000</td>\n",
       "      <td>0.000000</td>\n",
       "      <td>32.724149</td>\n",
       "    </tr>\n",
       "    <tr>\n",
       "      <th>max</th>\n",
       "      <td>85.000000</td>\n",
       "      <td>84.000000</td>\n",
       "      <td>1.000000</td>\n",
       "      <td>26.000000</td>\n",
       "      <td>1.000000</td>\n",
       "      <td>1.000000</td>\n",
       "      <td>47.185089</td>\n",
       "      <td>85.000000</td>\n",
       "      <td>84.000000</td>\n",
       "      <td>1.000000</td>\n",
       "      <td>26.000000</td>\n",
       "      <td>1.000000</td>\n",
       "      <td>1.000000</td>\n",
       "      <td>47.855877</td>\n",
       "    </tr>\n",
       "  </tbody>\n",
       "</table>\n",
       "</div>"
      ],
      "text/plain": [
       "             Reach       Height       Stance          Num     WinRatio  \\\n",
       "count  3170.000000  3190.000000  3190.000000  3190.000000  3190.000000   \n",
       "mean     72.606467    70.765517     0.223824     4.828527     0.612572   \n",
       "std       3.967516     3.312065     0.416871     4.732056     0.271384   \n",
       "min      60.000000    60.000000     0.000000     0.000000     0.000000   \n",
       "25%      70.000000    69.000000     0.000000     1.000000     0.500000   \n",
       "50%      73.000000    71.000000     0.000000     3.000000     0.615385   \n",
       "75%      75.000000    73.000000     0.000000     7.000000     0.777778   \n",
       "max      85.000000    84.000000     1.000000    26.000000     1.000000   \n",
       "\n",
       "         Education          Age      Reach_L     Height_L     Stance_L  \\\n",
       "count  3190.000000  3188.000000  2958.000000  3190.000000  3190.000000   \n",
       "mean      0.210345    29.346474    72.296146    70.651097     0.188715   \n",
       "std       0.407617     3.931837     3.780616     3.173793     0.391343   \n",
       "min       0.000000    19.589725    60.000000    60.000000     0.000000   \n",
       "25%       0.000000    26.543324    70.000000    68.000000     0.000000   \n",
       "50%       0.000000    29.171030    72.000000    71.000000     0.000000   \n",
       "75%       0.000000    31.878820    75.000000    73.000000     0.000000   \n",
       "max       1.000000    47.185089    85.000000    84.000000     1.000000   \n",
       "\n",
       "             Num_L   WinRatio_L  Education_L        Age_L  \n",
       "count  3190.000000  3190.000000  3190.000000  3164.000000  \n",
       "mean      4.561129     0.571296     0.174295    30.084203  \n",
       "std       4.960413     0.272502     0.379422     4.062268  \n",
       "min       0.000000     0.000000     0.000000    18.541106  \n",
       "25%       1.000000     0.500000     0.000000    27.138819  \n",
       "50%       3.000000     0.500000     0.000000    29.889731  \n",
       "75%       7.000000     0.750000     0.000000    32.724149  \n",
       "max      26.000000     1.000000     1.000000    47.855877  "
      ]
     },
     "execution_count": 48,
     "metadata": {},
     "output_type": "execute_result"
    }
   ],
   "source": [
    "gs.describe()"
   ]
  },
  {
   "cell_type": "code",
   "execution_count": 49,
   "metadata": {
    "collapsed": false
   },
   "outputs": [],
   "source": [
    "shuffled = []\n",
    "from random import random as rng\n",
    "for index, row in gs.iterrows():\n",
    "     if (rng() < 0.5):\n",
    "          shuffled.append(([1] + list(row[7:].values) + list(row[:7].values)))\n",
    "     else:\n",
    "          shuffled.append(([0] + list(row.values)))"
   ]
  },
  {
   "cell_type": "code",
   "execution_count": 50,
   "metadata": {
    "collapsed": false
   },
   "outputs": [
    {
     "data": {
      "text/html": [
       "<div>\n",
       "<table border=\"1\" class=\"dataframe\">\n",
       "  <thead>\n",
       "    <tr style=\"text-align: right;\">\n",
       "      <th></th>\n",
       "      <th>0</th>\n",
       "      <th>1</th>\n",
       "      <th>2</th>\n",
       "      <th>3</th>\n",
       "      <th>4</th>\n",
       "      <th>5</th>\n",
       "      <th>6</th>\n",
       "      <th>7</th>\n",
       "      <th>8</th>\n",
       "      <th>9</th>\n",
       "      <th>10</th>\n",
       "      <th>11</th>\n",
       "      <th>12</th>\n",
       "      <th>13</th>\n",
       "      <th>14</th>\n",
       "    </tr>\n",
       "  </thead>\n",
       "  <tbody>\n",
       "    <tr>\n",
       "      <th>count</th>\n",
       "      <td>2940.000000</td>\n",
       "      <td>2940.000000</td>\n",
       "      <td>2940.000000</td>\n",
       "      <td>2940.000000</td>\n",
       "      <td>2940.000000</td>\n",
       "      <td>2940.000000</td>\n",
       "      <td>2940.000000</td>\n",
       "      <td>2940.000000</td>\n",
       "      <td>2940.000000</td>\n",
       "      <td>2940.000000</td>\n",
       "      <td>2940.000000</td>\n",
       "      <td>2940.000000</td>\n",
       "      <td>2940.000000</td>\n",
       "      <td>2940.000000</td>\n",
       "      <td>2940.000000</td>\n",
       "    </tr>\n",
       "    <tr>\n",
       "      <th>mean</th>\n",
       "      <td>0.506463</td>\n",
       "      <td>72.376190</td>\n",
       "      <td>70.621769</td>\n",
       "      <td>0.206122</td>\n",
       "      <td>4.887755</td>\n",
       "      <td>0.601603</td>\n",
       "      <td>0.193197</td>\n",
       "      <td>29.709274</td>\n",
       "      <td>72.481463</td>\n",
       "      <td>70.720408</td>\n",
       "      <td>0.216667</td>\n",
       "      <td>5.053061</td>\n",
       "      <td>0.605727</td>\n",
       "      <td>0.203741</td>\n",
       "      <td>29.896669</td>\n",
       "    </tr>\n",
       "    <tr>\n",
       "      <th>std</th>\n",
       "      <td>0.500043</td>\n",
       "      <td>3.826513</td>\n",
       "      <td>3.211995</td>\n",
       "      <td>0.404588</td>\n",
       "      <td>4.806390</td>\n",
       "      <td>0.270537</td>\n",
       "      <td>0.394874</td>\n",
       "      <td>4.002587</td>\n",
       "      <td>3.964423</td>\n",
       "      <td>3.334896</td>\n",
       "      <td>0.412044</td>\n",
       "      <td>5.007844</td>\n",
       "      <td>0.267201</td>\n",
       "      <td>0.402847</td>\n",
       "      <td>4.027875</td>\n",
       "    </tr>\n",
       "    <tr>\n",
       "      <th>min</th>\n",
       "      <td>0.000000</td>\n",
       "      <td>60.000000</td>\n",
       "      <td>61.000000</td>\n",
       "      <td>0.000000</td>\n",
       "      <td>0.000000</td>\n",
       "      <td>0.000000</td>\n",
       "      <td>0.000000</td>\n",
       "      <td>18.541106</td>\n",
       "      <td>60.000000</td>\n",
       "      <td>60.000000</td>\n",
       "      <td>0.000000</td>\n",
       "      <td>0.000000</td>\n",
       "      <td>0.000000</td>\n",
       "      <td>0.000000</td>\n",
       "      <td>19.589725</td>\n",
       "    </tr>\n",
       "    <tr>\n",
       "      <th>25%</th>\n",
       "      <td>0.000000</td>\n",
       "      <td>70.000000</td>\n",
       "      <td>68.000000</td>\n",
       "      <td>0.000000</td>\n",
       "      <td>1.000000</td>\n",
       "      <td>0.500000</td>\n",
       "      <td>0.000000</td>\n",
       "      <td>26.826013</td>\n",
       "      <td>70.000000</td>\n",
       "      <td>69.000000</td>\n",
       "      <td>0.000000</td>\n",
       "      <td>1.000000</td>\n",
       "      <td>0.500000</td>\n",
       "      <td>0.000000</td>\n",
       "      <td>27.083376</td>\n",
       "    </tr>\n",
       "    <tr>\n",
       "      <th>50%</th>\n",
       "      <td>1.000000</td>\n",
       "      <td>72.000000</td>\n",
       "      <td>71.000000</td>\n",
       "      <td>0.000000</td>\n",
       "      <td>3.000000</td>\n",
       "      <td>0.600000</td>\n",
       "      <td>0.000000</td>\n",
       "      <td>29.529696</td>\n",
       "      <td>73.000000</td>\n",
       "      <td>71.000000</td>\n",
       "      <td>0.000000</td>\n",
       "      <td>3.000000</td>\n",
       "      <td>0.600000</td>\n",
       "      <td>0.000000</td>\n",
       "      <td>29.730932</td>\n",
       "    </tr>\n",
       "    <tr>\n",
       "      <th>75%</th>\n",
       "      <td>1.000000</td>\n",
       "      <td>75.000000</td>\n",
       "      <td>73.000000</td>\n",
       "      <td>0.000000</td>\n",
       "      <td>7.000000</td>\n",
       "      <td>0.750000</td>\n",
       "      <td>0.000000</td>\n",
       "      <td>32.349056</td>\n",
       "      <td>75.000000</td>\n",
       "      <td>73.000000</td>\n",
       "      <td>0.000000</td>\n",
       "      <td>7.000000</td>\n",
       "      <td>0.764706</td>\n",
       "      <td>0.000000</td>\n",
       "      <td>32.445567</td>\n",
       "    </tr>\n",
       "    <tr>\n",
       "      <th>max</th>\n",
       "      <td>1.000000</td>\n",
       "      <td>84.000000</td>\n",
       "      <td>84.000000</td>\n",
       "      <td>1.000000</td>\n",
       "      <td>26.000000</td>\n",
       "      <td>1.000000</td>\n",
       "      <td>1.000000</td>\n",
       "      <td>47.185089</td>\n",
       "      <td>85.000000</td>\n",
       "      <td>84.000000</td>\n",
       "      <td>1.000000</td>\n",
       "      <td>26.000000</td>\n",
       "      <td>1.000000</td>\n",
       "      <td>1.000000</td>\n",
       "      <td>47.855877</td>\n",
       "    </tr>\n",
       "  </tbody>\n",
       "</table>\n",
       "</div>"
      ],
      "text/plain": [
       "                0            1            2            3            4   \\\n",
       "count  2940.000000  2940.000000  2940.000000  2940.000000  2940.000000   \n",
       "mean      0.506463    72.376190    70.621769     0.206122     4.887755   \n",
       "std       0.500043     3.826513     3.211995     0.404588     4.806390   \n",
       "min       0.000000    60.000000    61.000000     0.000000     0.000000   \n",
       "25%       0.000000    70.000000    68.000000     0.000000     1.000000   \n",
       "50%       1.000000    72.000000    71.000000     0.000000     3.000000   \n",
       "75%       1.000000    75.000000    73.000000     0.000000     7.000000   \n",
       "max       1.000000    84.000000    84.000000     1.000000    26.000000   \n",
       "\n",
       "                5            6            7            8            9   \\\n",
       "count  2940.000000  2940.000000  2940.000000  2940.000000  2940.000000   \n",
       "mean      0.601603     0.193197    29.709274    72.481463    70.720408   \n",
       "std       0.270537     0.394874     4.002587     3.964423     3.334896   \n",
       "min       0.000000     0.000000    18.541106    60.000000    60.000000   \n",
       "25%       0.500000     0.000000    26.826013    70.000000    69.000000   \n",
       "50%       0.600000     0.000000    29.529696    73.000000    71.000000   \n",
       "75%       0.750000     0.000000    32.349056    75.000000    73.000000   \n",
       "max       1.000000     1.000000    47.185089    85.000000    84.000000   \n",
       "\n",
       "                10           11           12           13           14  \n",
       "count  2940.000000  2940.000000  2940.000000  2940.000000  2940.000000  \n",
       "mean      0.216667     5.053061     0.605727     0.203741    29.896669  \n",
       "std       0.412044     5.007844     0.267201     0.402847     4.027875  \n",
       "min       0.000000     0.000000     0.000000     0.000000    19.589725  \n",
       "25%       0.000000     1.000000     0.500000     0.000000    27.083376  \n",
       "50%       0.000000     3.000000     0.600000     0.000000    29.730932  \n",
       "75%       0.000000     7.000000     0.764706     0.000000    32.445567  \n",
       "max       1.000000    26.000000     1.000000     1.000000    47.855877  "
      ]
     },
     "execution_count": 50,
     "metadata": {},
     "output_type": "execute_result"
    }
   ],
   "source": [
    "data = pd.DataFrame(shuffled).dropna()\n",
    "data.describe()"
   ]
  },
  {
   "cell_type": "code",
   "execution_count": 51,
   "metadata": {
    "collapsed": false
   },
   "outputs": [
    {
     "data": {
      "text/html": [
       "<div>\n",
       "<table border=\"1\" class=\"dataframe\">\n",
       "  <thead>\n",
       "    <tr style=\"text-align: right;\">\n",
       "      <th></th>\n",
       "      <th>0</th>\n",
       "      <th>7</th>\n",
       "      <th>14</th>\n",
       "    </tr>\n",
       "  </thead>\n",
       "  <tbody>\n",
       "    <tr>\n",
       "      <th>0</th>\n",
       "      <td>0</td>\n",
       "      <td>32.802864</td>\n",
       "      <td>35.321738</td>\n",
       "    </tr>\n",
       "    <tr>\n",
       "      <th>1</th>\n",
       "      <td>1</td>\n",
       "      <td>33.106772</td>\n",
       "      <td>41.832481</td>\n",
       "    </tr>\n",
       "    <tr>\n",
       "      <th>2</th>\n",
       "      <td>1</td>\n",
       "      <td>36.039070</td>\n",
       "      <td>37.183515</td>\n",
       "    </tr>\n",
       "    <tr>\n",
       "      <th>3</th>\n",
       "      <td>0</td>\n",
       "      <td>28.063547</td>\n",
       "      <td>33.454486</td>\n",
       "    </tr>\n",
       "    <tr>\n",
       "      <th>4</th>\n",
       "      <td>1</td>\n",
       "      <td>26.598767</td>\n",
       "      <td>28.594701</td>\n",
       "    </tr>\n",
       "    <tr>\n",
       "      <th>5</th>\n",
       "      <td>1</td>\n",
       "      <td>27.348953</td>\n",
       "      <td>32.099222</td>\n",
       "    </tr>\n",
       "    <tr>\n",
       "      <th>6</th>\n",
       "      <td>1</td>\n",
       "      <td>32.498956</td>\n",
       "      <td>25.295523</td>\n",
       "    </tr>\n",
       "    <tr>\n",
       "      <th>7</th>\n",
       "      <td>0</td>\n",
       "      <td>27.836301</td>\n",
       "      <td>33.024634</td>\n",
       "    </tr>\n",
       "    <tr>\n",
       "      <th>8</th>\n",
       "      <td>1</td>\n",
       "      <td>38.697578</td>\n",
       "      <td>33.366873</td>\n",
       "    </tr>\n",
       "    <tr>\n",
       "      <th>9</th>\n",
       "      <td>0</td>\n",
       "      <td>29.889731</td>\n",
       "      <td>30.147094</td>\n",
       "    </tr>\n",
       "    <tr>\n",
       "      <th>10</th>\n",
       "      <td>1</td>\n",
       "      <td>23.491242</td>\n",
       "      <td>32.381226</td>\n",
       "    </tr>\n",
       "    <tr>\n",
       "      <th>11</th>\n",
       "      <td>1</td>\n",
       "      <td>33.383300</td>\n",
       "      <td>29.949965</td>\n",
       "    </tr>\n",
       "    <tr>\n",
       "      <th>12</th>\n",
       "      <td>1</td>\n",
       "      <td>33.829579</td>\n",
       "      <td>27.379070</td>\n",
       "    </tr>\n",
       "    <tr>\n",
       "      <th>13</th>\n",
       "      <td>1</td>\n",
       "      <td>36.811160</td>\n",
       "      <td>31.288801</td>\n",
       "    </tr>\n",
       "    <tr>\n",
       "      <th>14</th>\n",
       "      <td>0</td>\n",
       "      <td>25.363971</td>\n",
       "      <td>32.063629</td>\n",
       "    </tr>\n",
       "    <tr>\n",
       "      <th>15</th>\n",
       "      <td>1</td>\n",
       "      <td>29.594037</td>\n",
       "      <td>25.963572</td>\n",
       "    </tr>\n",
       "    <tr>\n",
       "      <th>16</th>\n",
       "      <td>0</td>\n",
       "      <td>31.737818</td>\n",
       "      <td>30.639917</td>\n",
       "    </tr>\n",
       "    <tr>\n",
       "      <th>17</th>\n",
       "      <td>1</td>\n",
       "      <td>26.338665</td>\n",
       "      <td>21.514473</td>\n",
       "    </tr>\n",
       "    <tr>\n",
       "      <th>18</th>\n",
       "      <td>0</td>\n",
       "      <td>27.472159</td>\n",
       "      <td>27.981410</td>\n",
       "    </tr>\n",
       "    <tr>\n",
       "      <th>19</th>\n",
       "      <td>0</td>\n",
       "      <td>27.351691</td>\n",
       "      <td>26.472823</td>\n",
       "    </tr>\n",
       "    <tr>\n",
       "      <th>20</th>\n",
       "      <td>1</td>\n",
       "      <td>32.422295</td>\n",
       "      <td>26.941005</td>\n",
       "    </tr>\n",
       "    <tr>\n",
       "      <th>21</th>\n",
       "      <td>0</td>\n",
       "      <td>32.211476</td>\n",
       "      <td>33.837793</td>\n",
       "    </tr>\n",
       "    <tr>\n",
       "      <th>22</th>\n",
       "      <td>1</td>\n",
       "      <td>37.982984</td>\n",
       "      <td>30.398981</td>\n",
       "    </tr>\n",
       "    <tr>\n",
       "      <th>23</th>\n",
       "      <td>0</td>\n",
       "      <td>24.542598</td>\n",
       "      <td>28.608390</td>\n",
       "    </tr>\n",
       "    <tr>\n",
       "      <th>24</th>\n",
       "      <td>0</td>\n",
       "      <td>30.733006</td>\n",
       "      <td>37.777641</td>\n",
       "    </tr>\n",
       "    <tr>\n",
       "      <th>25</th>\n",
       "      <td>1</td>\n",
       "      <td>27.496800</td>\n",
       "      <td>34.530483</td>\n",
       "    </tr>\n",
       "    <tr>\n",
       "      <th>26</th>\n",
       "      <td>0</td>\n",
       "      <td>28.860278</td>\n",
       "      <td>26.845178</td>\n",
       "    </tr>\n",
       "    <tr>\n",
       "      <th>27</th>\n",
       "      <td>0</td>\n",
       "      <td>28.194966</td>\n",
       "      <td>27.409187</td>\n",
       "    </tr>\n",
       "    <tr>\n",
       "      <th>28</th>\n",
       "      <td>1</td>\n",
       "      <td>27.129921</td>\n",
       "      <td>30.333272</td>\n",
       "    </tr>\n",
       "    <tr>\n",
       "      <th>29</th>\n",
       "      <td>1</td>\n",
       "      <td>25.988213</td>\n",
       "      <td>26.787682</td>\n",
       "    </tr>\n",
       "    <tr>\n",
       "      <th>...</th>\n",
       "      <td>...</td>\n",
       "      <td>...</td>\n",
       "      <td>...</td>\n",
       "    </tr>\n",
       "    <tr>\n",
       "      <th>3144</th>\n",
       "      <td>1</td>\n",
       "      <td>28.112829</td>\n",
       "      <td>27.606316</td>\n",
       "    </tr>\n",
       "    <tr>\n",
       "      <th>3145</th>\n",
       "      <td>0</td>\n",
       "      <td>26.226411</td>\n",
       "      <td>29.180613</td>\n",
       "    </tr>\n",
       "    <tr>\n",
       "      <th>3146</th>\n",
       "      <td>1</td>\n",
       "      <td>29.988295</td>\n",
       "      <td>35.674928</td>\n",
       "    </tr>\n",
       "    <tr>\n",
       "      <th>3149</th>\n",
       "      <td>0</td>\n",
       "      <td>24.255118</td>\n",
       "      <td>33.287473</td>\n",
       "    </tr>\n",
       "    <tr>\n",
       "      <th>3150</th>\n",
       "      <td>1</td>\n",
       "      <td>27.863680</td>\n",
       "      <td>35.261504</td>\n",
       "    </tr>\n",
       "    <tr>\n",
       "      <th>3151</th>\n",
       "      <td>0</td>\n",
       "      <td>32.989042</td>\n",
       "      <td>32.274448</td>\n",
       "    </tr>\n",
       "    <tr>\n",
       "      <th>3152</th>\n",
       "      <td>1</td>\n",
       "      <td>24.860196</td>\n",
       "      <td>26.938267</td>\n",
       "    </tr>\n",
       "    <tr>\n",
       "      <th>3153</th>\n",
       "      <td>1</td>\n",
       "      <td>34.568814</td>\n",
       "      <td>26.297597</td>\n",
       "    </tr>\n",
       "    <tr>\n",
       "      <th>3154</th>\n",
       "      <td>0</td>\n",
       "      <td>25.043635</td>\n",
       "      <td>25.435156</td>\n",
       "    </tr>\n",
       "    <tr>\n",
       "      <th>3156</th>\n",
       "      <td>0</td>\n",
       "      <td>27.682978</td>\n",
       "      <td>34.574290</td>\n",
       "    </tr>\n",
       "    <tr>\n",
       "      <th>3158</th>\n",
       "      <td>1</td>\n",
       "      <td>27.877369</td>\n",
       "      <td>29.197040</td>\n",
       "    </tr>\n",
       "    <tr>\n",
       "      <th>3159</th>\n",
       "      <td>0</td>\n",
       "      <td>25.645975</td>\n",
       "      <td>22.371438</td>\n",
       "    </tr>\n",
       "    <tr>\n",
       "      <th>3161</th>\n",
       "      <td>0</td>\n",
       "      <td>22.768435</td>\n",
       "      <td>31.006797</td>\n",
       "    </tr>\n",
       "    <tr>\n",
       "      <th>3162</th>\n",
       "      <td>1</td>\n",
       "      <td>34.311451</td>\n",
       "      <td>30.664558</td>\n",
       "    </tr>\n",
       "    <tr>\n",
       "      <th>3165</th>\n",
       "      <td>0</td>\n",
       "      <td>25.465273</td>\n",
       "      <td>24.827341</td>\n",
       "    </tr>\n",
       "    <tr>\n",
       "      <th>3167</th>\n",
       "      <td>0</td>\n",
       "      <td>35.329952</td>\n",
       "      <td>41.818792</td>\n",
       "    </tr>\n",
       "    <tr>\n",
       "      <th>3168</th>\n",
       "      <td>0</td>\n",
       "      <td>29.607726</td>\n",
       "      <td>27.088852</td>\n",
       "    </tr>\n",
       "    <tr>\n",
       "      <th>3169</th>\n",
       "      <td>1</td>\n",
       "      <td>31.929472</td>\n",
       "      <td>34.916528</td>\n",
       "    </tr>\n",
       "    <tr>\n",
       "      <th>3170</th>\n",
       "      <td>1</td>\n",
       "      <td>24.309876</td>\n",
       "      <td>23.910142</td>\n",
       "    </tr>\n",
       "    <tr>\n",
       "      <th>3171</th>\n",
       "      <td>1</td>\n",
       "      <td>22.563092</td>\n",
       "      <td>34.262168</td>\n",
       "    </tr>\n",
       "    <tr>\n",
       "      <th>3172</th>\n",
       "      <td>0</td>\n",
       "      <td>27.518703</td>\n",
       "      <td>25.128511</td>\n",
       "    </tr>\n",
       "    <tr>\n",
       "      <th>3173</th>\n",
       "      <td>1</td>\n",
       "      <td>41.158956</td>\n",
       "      <td>30.511236</td>\n",
       "    </tr>\n",
       "    <tr>\n",
       "      <th>3174</th>\n",
       "      <td>0</td>\n",
       "      <td>26.067613</td>\n",
       "      <td>28.014264</td>\n",
       "    </tr>\n",
       "    <tr>\n",
       "      <th>3175</th>\n",
       "      <td>0</td>\n",
       "      <td>23.272210</td>\n",
       "      <td>28.871229</td>\n",
       "    </tr>\n",
       "    <tr>\n",
       "      <th>3181</th>\n",
       "      <td>1</td>\n",
       "      <td>27.849990</td>\n",
       "      <td>30.037578</td>\n",
       "    </tr>\n",
       "    <tr>\n",
       "      <th>3182</th>\n",
       "      <td>0</td>\n",
       "      <td>22.505596</td>\n",
       "      <td>28.808258</td>\n",
       "    </tr>\n",
       "    <tr>\n",
       "      <th>3183</th>\n",
       "      <td>0</td>\n",
       "      <td>26.004641</td>\n",
       "      <td>28.923250</td>\n",
       "    </tr>\n",
       "    <tr>\n",
       "      <th>3186</th>\n",
       "      <td>0</td>\n",
       "      <td>24.851982</td>\n",
       "      <td>26.401637</td>\n",
       "    </tr>\n",
       "    <tr>\n",
       "      <th>3188</th>\n",
       "      <td>1</td>\n",
       "      <td>30.470167</td>\n",
       "      <td>22.442624</td>\n",
       "    </tr>\n",
       "    <tr>\n",
       "      <th>3189</th>\n",
       "      <td>1</td>\n",
       "      <td>25.147676</td>\n",
       "      <td>21.514473</td>\n",
       "    </tr>\n",
       "  </tbody>\n",
       "</table>\n",
       "<p>2940 rows × 3 columns</p>\n",
       "</div>"
      ],
      "text/plain": [
       "      0          7          14\n",
       "0      0  32.802864  35.321738\n",
       "1      1  33.106772  41.832481\n",
       "2      1  36.039070  37.183515\n",
       "3      0  28.063547  33.454486\n",
       "4      1  26.598767  28.594701\n",
       "5      1  27.348953  32.099222\n",
       "6      1  32.498956  25.295523\n",
       "7      0  27.836301  33.024634\n",
       "8      1  38.697578  33.366873\n",
       "9      0  29.889731  30.147094\n",
       "10     1  23.491242  32.381226\n",
       "11     1  33.383300  29.949965\n",
       "12     1  33.829579  27.379070\n",
       "13     1  36.811160  31.288801\n",
       "14     0  25.363971  32.063629\n",
       "15     1  29.594037  25.963572\n",
       "16     0  31.737818  30.639917\n",
       "17     1  26.338665  21.514473\n",
       "18     0  27.472159  27.981410\n",
       "19     0  27.351691  26.472823\n",
       "20     1  32.422295  26.941005\n",
       "21     0  32.211476  33.837793\n",
       "22     1  37.982984  30.398981\n",
       "23     0  24.542598  28.608390\n",
       "24     0  30.733006  37.777641\n",
       "25     1  27.496800  34.530483\n",
       "26     0  28.860278  26.845178\n",
       "27     0  28.194966  27.409187\n",
       "28     1  27.129921  30.333272\n",
       "29     1  25.988213  26.787682\n",
       "...   ..        ...        ...\n",
       "3144   1  28.112829  27.606316\n",
       "3145   0  26.226411  29.180613\n",
       "3146   1  29.988295  35.674928\n",
       "3149   0  24.255118  33.287473\n",
       "3150   1  27.863680  35.261504\n",
       "3151   0  32.989042  32.274448\n",
       "3152   1  24.860196  26.938267\n",
       "3153   1  34.568814  26.297597\n",
       "3154   0  25.043635  25.435156\n",
       "3156   0  27.682978  34.574290\n",
       "3158   1  27.877369  29.197040\n",
       "3159   0  25.645975  22.371438\n",
       "3161   0  22.768435  31.006797\n",
       "3162   1  34.311451  30.664558\n",
       "3165   0  25.465273  24.827341\n",
       "3167   0  35.329952  41.818792\n",
       "3168   0  29.607726  27.088852\n",
       "3169   1  31.929472  34.916528\n",
       "3170   1  24.309876  23.910142\n",
       "3171   1  22.563092  34.262168\n",
       "3172   0  27.518703  25.128511\n",
       "3173   1  41.158956  30.511236\n",
       "3174   0  26.067613  28.014264\n",
       "3175   0  23.272210  28.871229\n",
       "3181   1  27.849990  30.037578\n",
       "3182   0  22.505596  28.808258\n",
       "3183   0  26.004641  28.923250\n",
       "3186   0  24.851982  26.401637\n",
       "3188   1  30.470167  22.442624\n",
       "3189   1  25.147676  21.514473\n",
       "\n",
       "[2940 rows x 3 columns]"
      ]
     },
     "execution_count": 51,
     "metadata": {},
     "output_type": "execute_result"
    }
   ],
   "source": [
    "cols = [0, 3, 7, 10, 14]\n",
    "cols = [0, 7, 14]\n",
    "data = data.loc[:,cols]\n",
    "data"
   ]
  },
  {
   "cell_type": "code",
   "execution_count": 83,
   "metadata": {
    "collapsed": false
   },
   "outputs": [
    {
     "data": {
      "text/plain": [
       "<matplotlib.collections.PathCollection at 0x1202a52d0>"
      ]
     },
     "execution_count": 83,
     "metadata": {},
     "output_type": "execute_result"
    },
    {
     "data": {
      "image/png": "[encoded data removed]",
      "text/plain": [
       "<matplotlib.figure.Figure at 0x1202fcf50>"
      ]
     },
     "metadata": {},
     "output_type": "display_data"
    }
   ],
   "source": [
    "plt.scatter(data[data.loc[:,0]==0].iloc[:,1], data[data.loc[:,0]==0].iloc[:,2])\n",
    "plt.scatter(data[data.loc[:,0]==1].iloc[:,1], data[data.loc[:,0]==1].iloc[:,2], marker='d')"
   ]
  },
  {
   "cell_type": "code",
   "execution_count": 52,
   "metadata": {
    "collapsed": false
   },
   "outputs": [],
   "source": [
    "from sklearn.model_selection import train_test_split\n",
    "\n",
    "X_train, X_test, y_train, y_test = train_test_split(data.iloc[:,1:].values, data.iloc[:,0].values, test_size=0.3)"
   ]
  },
  {
   "cell_type": "code",
   "execution_count": 75,
   "metadata": {
    "collapsed": true
   },
   "outputs": [],
   "source": [
    "from sklearn.tree import DecisionTreeClassifier\n",
    "\n",
    "dtree = DecisionTreeClassifier(criterion='entropy', max_depth=3)"
   ]
  },
  {
   "cell_type": "code",
   "execution_count": 76,
   "metadata": {
    "collapsed": false
   },
   "outputs": [
    {
     "name": "stdout",
     "output_type": "stream",
     "text": [
      "0.562196307094 0.555555555556\n"
     ]
    }
   ],
   "source": [
    "from sklearn.metrics import accuracy_score\n",
    "\n",
    "dtree = dtree.fit(X_train, y_train)\n",
    "y_train_pred = dtree.predict(X_train)\n",
    "y_test_pred = dtree.predict(X_test)\n",
    "print accuracy_score(y_train_pred, y_train), accuracy_score(y_test_pred, y_test)"
   ]
  },
  {
   "cell_type": "code",
   "execution_count": 72,
   "metadata": {
    "collapsed": false
   },
   "outputs": [],
   "source": [
    "from sklearn import tree\n",
    "tree.export_graphviz(dtree, out_file='tree.dot')"
   ]
  },
  {
   "cell_type": "code",
   "execution_count": 55,
   "metadata": {
    "collapsed": false
   },
   "outputs": [
    {
     "data": {
      "text/plain": [
       "array([ 0.49070198,  0.50929802])"
      ]
     },
     "execution_count": 55,
     "metadata": {},
     "output_type": "execute_result"
    }
   ],
   "source": [
    "dtree.feature_importances_"
   ]
  },
  {
   "cell_type": "code",
   "execution_count": 56,
   "metadata": {
    "collapsed": false
   },
   "outputs": [
    {
     "data": {
      "text/plain": [
       "2"
      ]
     },
     "execution_count": 56,
     "metadata": {},
     "output_type": "execute_result"
    }
   ],
   "source": [
    "dtree.n_features_"
   ]
  },
  {
   "cell_type": "code",
   "execution_count": 57,
   "metadata": {
    "collapsed": false
   },
   "outputs": [
    {
     "data": {
      "text/plain": [
       "2"
      ]
     },
     "execution_count": 57,
     "metadata": {},
     "output_type": "execute_result"
    }
   ],
   "source": [
    "dtree.n_classes_"
   ]
  },
  {
   "cell_type": "code",
   "execution_count": 58,
   "metadata": {
    "collapsed": true
   },
   "outputs": [],
   "source": [
    "from sklearn.ensemble import BaggingClassifier\n",
    "\n",
    "bag = BaggingClassifier(base_estimator=dtree, n_estimators=500, max_samples=1.0, max_features=1.0, bootstrap=True, bootstrap_features=False)"
   ]
  },
  {
   "cell_type": "code",
   "execution_count": 59,
   "metadata": {
    "collapsed": false
   },
   "outputs": [
    {
     "name": "stdout",
     "output_type": "stream",
     "text": [
      "1.0 0.521541950113\n"
     ]
    }
   ],
   "source": [
    "bag = bag.fit(X_train, y_train)\n",
    "y_train_pred = bag.predict(X_train)\n",
    "y_test_pred = bag.predict(X_test)\n",
    "print accuracy_score(y_train_pred, y_train), accuracy_score(y_test_pred, y_test)"
   ]
  },
  {
   "cell_type": "code",
   "execution_count": 60,
   "metadata": {
    "collapsed": false
   },
   "outputs": [
    {
     "name": "stdout",
     "output_type": "stream",
     "text": [
      "1.0 0.514739229025\n"
     ]
    }
   ],
   "source": [
    "from sklearn.ensemble import RandomForestClassifier\n",
    "\n",
    "rf = RandomForestClassifier(n_estimators=500, criterion='entropy')\n",
    "rf = rf.fit(X_train, y_train)\n",
    "y_train_pred = rf.predict(X_train)\n",
    "y_test_pred = rf.predict(X_test)\n",
    "print accuracy_score(y_train_pred, y_train), accuracy_score(y_test_pred, y_test)"
   ]
  }
 ],
 "metadata": {
  "anaconda-cloud": {},
  "kernelspec": {
   "display_name": "Python [conda root]",
   "language": "python",
   "name": "conda-root-py"
  },
  "language_info": {
   "codemirror_mode": {
    "name": "ipython",
    "version": 2
   },
   "file_extension": ".py",
   "mimetype": "text/x-python",
   "name": "python",
   "nbconvert_exporter": "python",
   "pygments_lexer": "ipython2",
   "version": "2.7.12"
  }
 },
 "nbformat": 4,
 "nbformat_minor": 1
}
