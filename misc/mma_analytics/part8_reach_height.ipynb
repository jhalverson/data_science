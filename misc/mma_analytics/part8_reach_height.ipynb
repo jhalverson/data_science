{
 "cells": [
  {
   "cell_type": "markdown",
   "metadata": {},
   "source": [
    "# Jonathan Halverson\n",
    "# Friday, March 17, 2017\n",
    "# Part 8: Effect of reach and height"
   ]
  },
  {
   "cell_type": "code",
   "execution_count": 33,
   "metadata": {
    "collapsed": true
   },
   "outputs": [],
   "source": [
    "import numpy as np\n",
    "import pandas as pd\n",
    "import matplotlib.pyplot as plt\n",
    "%matplotlib inline\n",
    "plt.style.use('halverson')\n",
    "from scipy.stats import binom"
   ]
  },
  {
   "cell_type": "code",
   "execution_count": 34,
   "metadata": {
    "collapsed": false
   },
   "outputs": [
    {
     "data": {
      "text/html": [
       "<div>\n",
       "<table border=\"1\" class=\"dataframe\">\n",
       "  <thead>\n",
       "    <tr style=\"text-align: right;\">\n",
       "      <th></th>\n",
       "      <th>Winner</th>\n",
       "      <th>Outcome</th>\n",
       "      <th>Loser</th>\n",
       "      <th>WeightClass</th>\n",
       "      <th>Method</th>\n",
       "      <th>MethodNotes</th>\n",
       "      <th>Round</th>\n",
       "      <th>Time</th>\n",
       "      <th>Event</th>\n",
       "      <th>Date</th>\n",
       "      <th>...</th>\n",
       "      <th>Reach</th>\n",
       "      <th>LegReach</th>\n",
       "      <th>Stance</th>\n",
       "      <th>Dob</th>\n",
       "      <th>Name_L</th>\n",
       "      <th>Height_L</th>\n",
       "      <th>Reach_L</th>\n",
       "      <th>LegReach_L</th>\n",
       "      <th>Stance_L</th>\n",
       "      <th>Dob_L</th>\n",
       "    </tr>\n",
       "  </thead>\n",
       "  <tbody>\n",
       "    <tr>\n",
       "      <th>0</th>\n",
       "      <td>Germaine de Randamie</td>\n",
       "      <td>def.</td>\n",
       "      <td>Holly Holm</td>\n",
       "      <td>Women's Featherweight</td>\n",
       "      <td>U-DEC</td>\n",
       "      <td>NaN</td>\n",
       "      <td>5</td>\n",
       "      <td>5:00</td>\n",
       "      <td>UFC 208: Holm vs. De Randamie</td>\n",
       "      <td>2017-02-11</td>\n",
       "      <td>...</td>\n",
       "      <td>71.0</td>\n",
       "      <td>41.0</td>\n",
       "      <td>Orthodox</td>\n",
       "      <td>1984-04-24</td>\n",
       "      <td>Holly Holm</td>\n",
       "      <td>68.0</td>\n",
       "      <td>69.0</td>\n",
       "      <td>38.0</td>\n",
       "      <td>Southpaw</td>\n",
       "      <td>1981-10-17</td>\n",
       "    </tr>\n",
       "    <tr>\n",
       "      <th>1</th>\n",
       "      <td>Anderson Silva</td>\n",
       "      <td>def.</td>\n",
       "      <td>Derek Brunson</td>\n",
       "      <td>Middleweight</td>\n",
       "      <td>U-DEC</td>\n",
       "      <td>NaN</td>\n",
       "      <td>3</td>\n",
       "      <td>5:00</td>\n",
       "      <td>UFC 208: Holm vs. De Randamie</td>\n",
       "      <td>2017-02-11</td>\n",
       "      <td>...</td>\n",
       "      <td>77.0</td>\n",
       "      <td>42.0</td>\n",
       "      <td>Southpaw</td>\n",
       "      <td>1975-04-14</td>\n",
       "      <td>Derek Brunson</td>\n",
       "      <td>73.0</td>\n",
       "      <td>77.0</td>\n",
       "      <td>43.0</td>\n",
       "      <td>Southpaw</td>\n",
       "      <td>1984-01-04</td>\n",
       "    </tr>\n",
       "    <tr>\n",
       "      <th>2</th>\n",
       "      <td>Jacare Souza</td>\n",
       "      <td>def.</td>\n",
       "      <td>Tim Boetsch</td>\n",
       "      <td>Middleweight</td>\n",
       "      <td>SUB</td>\n",
       "      <td>Kimura</td>\n",
       "      <td>1</td>\n",
       "      <td>3:41</td>\n",
       "      <td>UFC 208: Holm vs. De Randamie</td>\n",
       "      <td>2017-02-11</td>\n",
       "      <td>...</td>\n",
       "      <td>72.0</td>\n",
       "      <td>41.0</td>\n",
       "      <td>Orthodox</td>\n",
       "      <td>1979-12-07</td>\n",
       "      <td>Tim Boetsch</td>\n",
       "      <td>72.0</td>\n",
       "      <td>74.0</td>\n",
       "      <td>42.0</td>\n",
       "      <td>Orthodox</td>\n",
       "      <td>1981-01-28</td>\n",
       "    </tr>\n",
       "  </tbody>\n",
       "</table>\n",
       "<p>3 rows × 23 columns</p>\n",
       "</div>"
      ],
      "text/plain": [
       "                 Winner Outcome          Loser            WeightClass Method  \\\n",
       "0  Germaine de Randamie    def.     Holly Holm  Women's Featherweight  U-DEC   \n",
       "1        Anderson Silva    def.  Derek Brunson           Middleweight  U-DEC   \n",
       "2          Jacare Souza    def.    Tim Boetsch           Middleweight    SUB   \n",
       "\n",
       "  MethodNotes  Round  Time                          Event       Date  \\\n",
       "0         NaN      5  5:00  UFC 208: Holm vs. De Randamie 2017-02-11   \n",
       "1         NaN      3  5:00  UFC 208: Holm vs. De Randamie 2017-02-11   \n",
       "2      Kimura      1  3:41  UFC 208: Holm vs. De Randamie 2017-02-11   \n",
       "\n",
       "     ...     Reach LegReach    Stance        Dob         Name_L Height_L  \\\n",
       "0    ...      71.0     41.0  Orthodox 1984-04-24     Holly Holm     68.0   \n",
       "1    ...      77.0     42.0  Southpaw 1975-04-14  Derek Brunson     73.0   \n",
       "2    ...      72.0     41.0  Orthodox 1979-12-07    Tim Boetsch     72.0   \n",
       "\n",
       "  Reach_L LegReach_L  Stance_L      Dob_L  \n",
       "0    69.0       38.0  Southpaw 1981-10-17  \n",
       "1    77.0       43.0  Southpaw 1984-01-04  \n",
       "2    74.0       42.0  Orthodox 1981-01-28  \n",
       "\n",
       "[3 rows x 23 columns]"
      ]
     },
     "execution_count": 34,
     "metadata": {},
     "output_type": "execute_result"
    }
   ],
   "source": [
    "fights = pd.read_csv('data/fightmetric_cards/fightmetric_fights_CLEAN_3-6-2017.csv', header=0, parse_dates=['Date'])\n",
    "iofile = 'data/fightmetric_fighters_with_corrections_from_UFC_Wikipedia_CLEAN.csv'\n",
    "fighters = pd.read_csv(iofile, header=0, parse_dates=['Dob'])\n",
    "cols = ['Name', 'Height', 'Reach', 'LegReach', 'Stance', 'Dob']\n",
    "df = fights.merge(fighters[cols], how='left', left_on='Winner', right_on='Name')\n",
    "df = df.merge(fighters[cols], how='left', left_on='Loser', right_on='Name', suffixes=('', '_L'))\n",
    "df.head(3)"
   ]
  },
  {
   "cell_type": "markdown",
   "metadata": {},
   "source": [
    "### Does the fighter with longer reach win more?"
   ]
  },
  {
   "cell_type": "code",
   "execution_count": 35,
   "metadata": {
    "collapsed": false
   },
   "outputs": [
    {
     "data": {
      "text/plain": [
       "2952"
      ]
     },
     "execution_count": 35,
     "metadata": {},
     "output_type": "execute_result"
    }
   ],
   "source": [
    "msk = pd.notnull(df.Reach) & pd.notnull(df.Reach_L) & df.Outcome.isin(['def.', 'draw']) & (df.Reach != df.Reach_L)\n",
    "af = df[msk]\n",
    "total_fights = af.shape[0]\n",
    "total_fights"
   ]
  },
  {
   "cell_type": "code",
   "execution_count": 36,
   "metadata": {
    "collapsed": false
   },
   "outputs": [
    {
     "data": {
      "text/plain": [
       "1546"
      ]
     },
     "execution_count": 36,
     "metadata": {},
     "output_type": "execute_result"
    }
   ],
   "source": [
    "af[af.Reach > af.Reach_L].shape[0]"
   ]
  },
  {
   "cell_type": "code",
   "execution_count": 37,
   "metadata": {
    "collapsed": false
   },
   "outputs": [
    {
     "data": {
      "text/plain": [
       "1406"
      ]
     },
     "execution_count": 37,
     "metadata": {},
     "output_type": "execute_result"
    }
   ],
   "source": [
    "af[af.Reach < af.Reach_L].shape[0]"
   ]
  },
  {
   "cell_type": "code",
   "execution_count": 38,
   "metadata": {
    "collapsed": false
   },
   "outputs": [
    {
     "data": {
      "text/plain": [
       "0.010505496059456729"
      ]
     },
     "execution_count": 38,
     "metadata": {},
     "output_type": "execute_result"
    }
   ],
   "source": [
    "2 * binom.cdf(p=0.5, k=1406, n=2952)"
   ]
  },
  {
   "cell_type": "code",
   "execution_count": 39,
   "metadata": {
    "collapsed": false
   },
   "outputs": [
    {
     "data": {
      "text/plain": [
       "(0.5237127371273713, 0.47628726287262874)"
      ]
     },
     "execution_count": 39,
     "metadata": {},
     "output_type": "execute_result"
    }
   ],
   "source": [
    "1546/2952., 1406/2952."
   ]
  },
  {
   "cell_type": "code",
   "execution_count": 40,
   "metadata": {
    "collapsed": false
   },
   "outputs": [
    {
     "data": {
      "text/plain": [
       "2952"
      ]
     },
     "execution_count": 40,
     "metadata": {},
     "output_type": "execute_result"
    }
   ],
   "source": [
    "1406+1546"
   ]
  },
  {
   "cell_type": "code",
   "execution_count": 41,
   "metadata": {
    "collapsed": false
   },
   "outputs": [
    {
     "data": {
      "image/png": "[encoded data removed]",
      "text/plain": [
       "<matplotlib.figure.Figure at 0x10f6082d0>"
      ]
     },
     "metadata": {},
     "output_type": "display_data"
    }
   ],
   "source": [
    "fig, ax = plt.subplots(figsize=(4, 3))\n",
    "win_ratios = [100 * float(1546) / total_fights, 100 * float(1406) / total_fights]\n",
    "plt.bar([0], win_ratios[0], width=0.5, align='center')\n",
    "plt.bar([1], win_ratios[1], width=0.5, align='center')\n",
    "plt.xlim(-0.5, 1.5)\n",
    "plt.ylim(0, 100)\n",
    "plt.xticks([0, 1])\n",
    "ax.set_xticks([0, 1])\n",
    "ax.set_xticklabels(['Longer\\nReach', 'Shorter\\nReach'])\n",
    "plt.ylabel('Win percentage')\n",
    "plt.text(0, 55, '52.3%', ha='center')\n",
    "plt.text(1, 50.5, '47.6%', ha='center')\n",
    "plt.savefig('report/reach_height/longer_reach_win_ratio.pdf', bbox_inches='tight')"
   ]
  },
  {
   "cell_type": "markdown",
   "metadata": {},
   "source": [
    "### When reach is the same, does the taller fighter win more?"
   ]
  },
  {
   "cell_type": "code",
   "execution_count": 50,
   "metadata": {
    "collapsed": false
   },
   "outputs": [
    {
     "data": {
      "text/plain": [
       "327"
      ]
     },
     "execution_count": 50,
     "metadata": {},
     "output_type": "execute_result"
    }
   ],
   "source": [
    "msk = pd.notnull(df.Reach) & pd.notnull(df.Reach_L) & pd.notnull(df.Height) & pd.notnull(df.Height_L) & df.Outcome.isin(['def.', 'draw']) & (df.Reach == df.Reach_L) & (df.Height != df.Height_L)\n",
    "af = df[msk]\n",
    "total_fights = af.shape[0]\n",
    "total_fights"
   ]
  },
  {
   "cell_type": "code",
   "execution_count": 51,
   "metadata": {
    "collapsed": false
   },
   "outputs": [
    {
     "data": {
      "text/plain": [
       "160"
      ]
     },
     "execution_count": 51,
     "metadata": {},
     "output_type": "execute_result"
    }
   ],
   "source": [
    "af[af.Height > af.Height_L].shape[0]"
   ]
  },
  {
   "cell_type": "code",
   "execution_count": 52,
   "metadata": {
    "collapsed": false
   },
   "outputs": [
    {
     "data": {
      "text/plain": [
       "167"
      ]
     },
     "execution_count": 52,
     "metadata": {},
     "output_type": "execute_result"
    }
   ],
   "source": [
    "af[af.Height < af.Height_L].shape[0]"
   ]
  },
  {
   "cell_type": "code",
   "execution_count": 53,
   "metadata": {
    "collapsed": false
   },
   "outputs": [
    {
     "data": {
      "text/plain": [
       "0.74009681803092653"
      ]
     },
     "execution_count": 53,
     "metadata": {},
     "output_type": "execute_result"
    }
   ],
   "source": [
    "2 * binom.cdf(p=0.5, k=160, n=327)"
   ]
  },
  {
   "cell_type": "markdown",
   "metadata": {},
   "source": [
    "### When there is a heigh difference, independent of reach, who wins?"
   ]
  },
  {
   "cell_type": "code",
   "execution_count": 54,
   "metadata": {
    "collapsed": false
   },
   "outputs": [
    {
     "data": {
      "text/plain": [
       "3282"
      ]
     },
     "execution_count": 54,
     "metadata": {},
     "output_type": "execute_result"
    }
   ],
   "source": [
    "msk = pd.notnull(df.Height) & pd.notnull(df.Height_L) & df.Outcome.isin(['def.', 'draw']) & (df.Height != df.Height_L)\n",
    "af = df[msk]\n",
    "total_fights = af.shape[0]\n",
    "total_fights"
   ]
  },
  {
   "cell_type": "code",
   "execution_count": 55,
   "metadata": {
    "collapsed": false
   },
   "outputs": [
    {
     "data": {
      "text/plain": [
       "1683"
      ]
     },
     "execution_count": 55,
     "metadata": {},
     "output_type": "execute_result"
    }
   ],
   "source": [
    "af[af.Height > af.Height_L].shape[0]"
   ]
  },
  {
   "cell_type": "code",
   "execution_count": 56,
   "metadata": {
    "collapsed": false
   },
   "outputs": [
    {
     "data": {
      "text/plain": [
       "1599"
      ]
     },
     "execution_count": 56,
     "metadata": {},
     "output_type": "execute_result"
    }
   ],
   "source": [
    "af[af.Height < af.Height_L].shape[0]"
   ]
  },
  {
   "cell_type": "code",
   "execution_count": 57,
   "metadata": {
    "collapsed": false
   },
   "outputs": [
    {
     "data": {
      "text/plain": [
       "0.14738180967118389"
      ]
     },
     "execution_count": 57,
     "metadata": {},
     "output_type": "execute_result"
    }
   ],
   "source": [
    "2 * binom.cdf(p=0.5, k=1599, n=3282)"
   ]
  },
  {
   "cell_type": "markdown",
   "metadata": {},
   "source": [
    "### Continue with reach difference"
   ]
  },
  {
   "cell_type": "code",
   "execution_count": 3,
   "metadata": {
    "collapsed": true
   },
   "outputs": [],
   "source": [
    "df['ReachDiff'] = df.Reach - df.Reach_L\n",
    "df['ReachDiffAbs'] = np.abs(df.Reach - df.Reach_L)"
   ]
  },
  {
   "cell_type": "markdown",
   "metadata": {},
   "source": [
    "Stack winners on top of losers:"
   ]
  },
  {
   "cell_type": "code",
   "execution_count": 4,
   "metadata": {
    "collapsed": false
   },
   "outputs": [
    {
     "data": {
      "text/html": [
       "<div>\n",
       "<table border=\"1\" class=\"dataframe\">\n",
       "  <thead>\n",
       "    <tr style=\"text-align: right;\">\n",
       "      <th></th>\n",
       "      <th>Name</th>\n",
       "      <th>Reach</th>\n",
       "      <th>Height</th>\n",
       "      <th>LegReach</th>\n",
       "      <th>Reach2Height</th>\n",
       "    </tr>\n",
       "  </thead>\n",
       "  <tbody>\n",
       "    <tr>\n",
       "      <th>0</th>\n",
       "      <td>Germaine de Randamie</td>\n",
       "      <td>71.0</td>\n",
       "      <td>69.0</td>\n",
       "      <td>41.0</td>\n",
       "      <td>1.028986</td>\n",
       "    </tr>\n",
       "    <tr>\n",
       "      <th>1</th>\n",
       "      <td>Anderson Silva</td>\n",
       "      <td>77.0</td>\n",
       "      <td>74.0</td>\n",
       "      <td>42.0</td>\n",
       "      <td>1.040541</td>\n",
       "    </tr>\n",
       "    <tr>\n",
       "      <th>2</th>\n",
       "      <td>Jacare Souza</td>\n",
       "      <td>72.0</td>\n",
       "      <td>73.0</td>\n",
       "      <td>41.0</td>\n",
       "      <td>0.986301</td>\n",
       "    </tr>\n",
       "  </tbody>\n",
       "</table>\n",
       "</div>"
      ],
      "text/plain": [
       "                   Name  Reach  Height  LegReach  Reach2Height\n",
       "0  Germaine de Randamie   71.0    69.0      41.0      1.028986\n",
       "1        Anderson Silva   77.0    74.0      42.0      1.040541\n",
       "2          Jacare Souza   72.0    73.0      41.0      0.986301"
      ]
     },
     "execution_count": 4,
     "metadata": {},
     "output_type": "execute_result"
    }
   ],
   "source": [
    "win_ufc = df[['Winner', 'Reach', 'Height', 'LegReach']]\n",
    "lose_ufc = df[['Loser', 'Reach_L', 'Height_L', 'LegReach_L']]\n",
    "lose_ufc.columns = win_ufc.columns\n",
    "win_lose_ufc = win_ufc.append(lose_ufc).drop_duplicates()\n",
    "win_lose_ufc.columns = ['Name', 'Reach', 'Height', 'LegReach']\n",
    "win_lose_ufc['Reach2Height'] = win_lose_ufc.Reach / win_lose_ufc.Height\n",
    "win_lose_ufc.head(3)"
   ]
  },
  {
   "cell_type": "code",
   "execution_count": 5,
   "metadata": {
    "collapsed": false
   },
   "outputs": [
    {
     "data": {
      "text/html": [
       "<div>\n",
       "<table border=\"1\" class=\"dataframe\">\n",
       "  <thead>\n",
       "    <tr style=\"text-align: right;\">\n",
       "      <th></th>\n",
       "      <th>Name</th>\n",
       "      <th>Reach</th>\n",
       "      <th>Height</th>\n",
       "      <th>LegReach</th>\n",
       "      <th>Reach2Height</th>\n",
       "    </tr>\n",
       "  </thead>\n",
       "  <tbody>\n",
       "    <tr>\n",
       "      <th>3781</th>\n",
       "      <td>Semmy Schilt</td>\n",
       "      <td>88.0</td>\n",
       "      <td>82.0</td>\n",
       "      <td>NaN</td>\n",
       "      <td>1.073171</td>\n",
       "    </tr>\n",
       "    <tr>\n",
       "      <th>3512</th>\n",
       "      <td>Dan Christison</td>\n",
       "      <td>85.0</td>\n",
       "      <td>80.0</td>\n",
       "      <td>NaN</td>\n",
       "      <td>1.062500</td>\n",
       "    </tr>\n",
       "    <tr>\n",
       "      <th>170</th>\n",
       "      <td>Stefan Struve</td>\n",
       "      <td>84.0</td>\n",
       "      <td>84.0</td>\n",
       "      <td>48.0</td>\n",
       "      <td>1.000000</td>\n",
       "    </tr>\n",
       "  </tbody>\n",
       "</table>\n",
       "</div>"
      ],
      "text/plain": [
       "                Name  Reach  Height  LegReach  Reach2Height\n",
       "3781    Semmy Schilt   88.0    82.0       NaN      1.073171\n",
       "3512  Dan Christison   85.0    80.0       NaN      1.062500\n",
       "170    Stefan Struve   84.0    84.0      48.0      1.000000"
      ]
     },
     "execution_count": 5,
     "metadata": {},
     "output_type": "execute_result"
    }
   ],
   "source": [
    "win_lose_ufc.sort_values('Reach', ascending=False).head(3)"
   ]
  },
  {
   "cell_type": "code",
   "execution_count": 6,
   "metadata": {
    "collapsed": false
   },
   "outputs": [
    {
     "data": {
      "text/plain": [
       "1641"
      ]
     },
     "execution_count": 6,
     "metadata": {},
     "output_type": "execute_result"
    }
   ],
   "source": [
    "win_lose_ufc.shape[0]"
   ]
  },
  {
   "cell_type": "code",
   "execution_count": 7,
   "metadata": {
    "collapsed": false
   },
   "outputs": [
    {
     "data": {
      "text/plain": [
       "(1210, 0.7373552711761121)"
      ]
     },
     "execution_count": 7,
     "metadata": {},
     "output_type": "execute_result"
    }
   ],
   "source": [
    "tmp = win_lose_ufc[['Reach', 'Height']].dropna()\n",
    "tmp.shape[0], tmp.shape[0] / 1641."
   ]
  },
  {
   "cell_type": "code",
   "execution_count": 8,
   "metadata": {
    "collapsed": false
   },
   "outputs": [
    {
     "data": {
      "image/png": "[encoded data removed]",
      "text/plain": [
       "<matplotlib.figure.Figure at 0x110e4e250>"
      ]
     },
     "metadata": {},
     "output_type": "display_data"
    }
   ],
   "source": [
    "from scipy.stats import norm\n",
    "\n",
    "dx = norm.rvs(loc=0.0, scale=0.1, size=pd.notnull(win_lose_ufc.Height).size)\n",
    "dy = norm.rvs(loc=0.0, scale=0.1, size=pd.notnull(win_lose_ufc.Reach).size)\n",
    "\n",
    "plt.plot(win_lose_ufc.Height + dx, win_lose_ufc.Reach + dy, 'wo')\n",
    "plt.plot([55, 90], [55, 90], 'k-')\n",
    "plt.xlabel('Height (inches)')\n",
    "plt.ylabel('Reach (inches)')\n",
    "plt.savefig('report/reach_height/height_reach_all_fighters.pdf', bbox_tight='inches')"
   ]
  },
  {
   "cell_type": "code",
   "execution_count": 9,
   "metadata": {
    "collapsed": false
   },
   "outputs": [
    {
     "name": "stdout",
     "output_type": "stream",
     "text": [
      "0.886190693375 0.0\n",
      "0.874188275885 0.0\n"
     ]
    }
   ],
   "source": [
    "from scipy.stats import pearsonr, spearmanr\n",
    "\n",
    "hr = win_lose_ufc[['Height', 'Reach']].dropna()\n",
    "corr_pearson, p_value_pearson = pearsonr(hr.Height, hr.Reach)\n",
    "corr_spearman, p_value_spearman = spearmanr(hr.Height, hr.Reach)\n",
    "print corr_pearson, p_value_pearson\n",
    "print corr_spearman, p_value_spearman"
   ]
  },
  {
   "cell_type": "code",
   "execution_count": 10,
   "metadata": {
    "collapsed": false
   },
   "outputs": [
    {
     "data": {
      "text/plain": [
       "(30, 50)"
      ]
     },
     "execution_count": 10,
     "metadata": {},
     "output_type": "execute_result"
    },
    {
     "data": {
      "image/png": "[encoded data removed]",
      "text/plain": [
       "<matplotlib.figure.Figure at 0x10ee458d0>"
      ]
     },
     "metadata": {},
     "output_type": "display_data"
    }
   ],
   "source": [
    "tmp = win_lose_ufc[['Reach', 'LegReach']].dropna()\n",
    "\n",
    "dx = norm.rvs(loc=0.0, scale=0.1, size=tmp.LegReach.size)\n",
    "dy = norm.rvs(loc=0.0, scale=0.1, size=tmp.Reach.size)\n",
    "\n",
    "plt.plot(tmp.LegReach + dx, tmp.Reach + dy, 'wo')\n",
    "#plt.plot([55, 90], [55, 90], 'k-')\n",
    "plt.xlabel('Leg Reach (inches)')\n",
    "plt.ylabel('Reach (inches)')\n",
    "plt.xlim(30, 50)\n",
    "#plt.savefig('report/reach_height/leg_reach_all_fighters.pdf', bbox_tight='inches')"
   ]
  },
  {
   "cell_type": "code",
   "execution_count": 11,
   "metadata": {
    "collapsed": false
   },
   "outputs": [
    {
     "name": "stdout",
     "output_type": "stream",
     "text": [
      "0.817758018316 6.10544462072e-137\n",
      "0.819814357844 3.44961728566e-138\n"
     ]
    }
   ],
   "source": [
    "corr_pearson, p_value_pearson = pearsonr(tmp.LegReach, tmp.Reach)\n",
    "corr_spearman, p_value_spearman = spearmanr(tmp.LegReach, tmp.Reach)\n",
    "print corr_pearson, p_value_pearson\n",
    "print corr_spearman, p_value_spearman"
   ]
  },
  {
   "cell_type": "code",
   "execution_count": 12,
   "metadata": {
    "collapsed": false
   },
   "outputs": [
    {
     "data": {
      "text/html": [
       "<div>\n",
       "<table border=\"1\" class=\"dataframe\">\n",
       "  <thead>\n",
       "    <tr style=\"text-align: right;\">\n",
       "      <th></th>\n",
       "      <th>Winner</th>\n",
       "      <th>Reach</th>\n",
       "      <th>Outcome</th>\n",
       "      <th>Loser</th>\n",
       "      <th>Reach</th>\n",
       "      <th>$\\Delta$</th>\n",
       "      <th>Date</th>\n",
       "    </tr>\n",
       "  </thead>\n",
       "  <tbody>\n",
       "    <tr>\n",
       "      <th>1</th>\n",
       "      <td>Miguel Torres</td>\n",
       "      <td>76</td>\n",
       "      <td>def.</td>\n",
       "      <td>Antonio Banuelos</td>\n",
       "      <td>63</td>\n",
       "      <td>13</td>\n",
       "      <td>2011-02-05</td>\n",
       "    </tr>\n",
       "    <tr>\n",
       "      <th>2</th>\n",
       "      <td>Jon Jones</td>\n",
       "      <td>84</td>\n",
       "      <td>def.</td>\n",
       "      <td>Daniel Cormier</td>\n",
       "      <td>72</td>\n",
       "      <td>12</td>\n",
       "      <td>2015-01-03</td>\n",
       "    </tr>\n",
       "    <tr>\n",
       "      <th>3</th>\n",
       "      <td>Mark Hunt</td>\n",
       "      <td>72</td>\n",
       "      <td>def.</td>\n",
       "      <td>Stefan Struve</td>\n",
       "      <td>84</td>\n",
       "      <td>12</td>\n",
       "      <td>2013-03-02</td>\n",
       "    </tr>\n",
       "    <tr>\n",
       "      <th>4</th>\n",
       "      <td>Demetrious Johnson</td>\n",
       "      <td>64</td>\n",
       "      <td>def.</td>\n",
       "      <td>Miguel Torres</td>\n",
       "      <td>76</td>\n",
       "      <td>12</td>\n",
       "      <td>2011-05-28</td>\n",
       "    </tr>\n",
       "    <tr>\n",
       "      <th>5</th>\n",
       "      <td>Roy Nelson</td>\n",
       "      <td>72</td>\n",
       "      <td>def.</td>\n",
       "      <td>Stefan Struve</td>\n",
       "      <td>84</td>\n",
       "      <td>12</td>\n",
       "      <td>2010-03-31</td>\n",
       "    </tr>\n",
       "    <tr>\n",
       "      <th>6</th>\n",
       "      <td>Neil Magny</td>\n",
       "      <td>80</td>\n",
       "      <td>def.</td>\n",
       "      <td>Johny Hendricks</td>\n",
       "      <td>69</td>\n",
       "      <td>11</td>\n",
       "      <td>2016-12-30</td>\n",
       "    </tr>\n",
       "    <tr>\n",
       "      <th>7</th>\n",
       "      <td>Dan Hooker</td>\n",
       "      <td>75</td>\n",
       "      <td>def.</td>\n",
       "      <td>Ian Entwistle</td>\n",
       "      <td>64</td>\n",
       "      <td>11</td>\n",
       "      <td>2014-06-28</td>\n",
       "    </tr>\n",
       "    <tr>\n",
       "      <th>8</th>\n",
       "      <td>Jon Jones</td>\n",
       "      <td>84</td>\n",
       "      <td>def.</td>\n",
       "      <td>Rampage Jackson</td>\n",
       "      <td>73</td>\n",
       "      <td>11</td>\n",
       "      <td>2011-09-24</td>\n",
       "    </tr>\n",
       "    <tr>\n",
       "      <th>9</th>\n",
       "      <td>Dale Hartt</td>\n",
       "      <td>69</td>\n",
       "      <td>def.</td>\n",
       "      <td>Corey Hill</td>\n",
       "      <td>80</td>\n",
       "      <td>11</td>\n",
       "      <td>2008-12-10</td>\n",
       "    </tr>\n",
       "    <tr>\n",
       "      <th>10</th>\n",
       "      <td>Stefan Struve</td>\n",
       "      <td>84</td>\n",
       "      <td>def.</td>\n",
       "      <td>Daniel Omielanczuk</td>\n",
       "      <td>74</td>\n",
       "      <td>10</td>\n",
       "      <td>2016-10-08</td>\n",
       "    </tr>\n",
       "    <tr>\n",
       "      <th>11</th>\n",
       "      <td>Francis Ngannou</td>\n",
       "      <td>83</td>\n",
       "      <td>def.</td>\n",
       "      <td>Bojan Mihajlovic</td>\n",
       "      <td>73</td>\n",
       "      <td>10</td>\n",
       "      <td>2016-07-23</td>\n",
       "    </tr>\n",
       "    <tr>\n",
       "      <th>12</th>\n",
       "      <td>Kevin Lee</td>\n",
       "      <td>77</td>\n",
       "      <td>def.</td>\n",
       "      <td>Michel Prazeres</td>\n",
       "      <td>67</td>\n",
       "      <td>10</td>\n",
       "      <td>2015-02-14</td>\n",
       "    </tr>\n",
       "    <tr>\n",
       "      <th>13</th>\n",
       "      <td>James Vick</td>\n",
       "      <td>76</td>\n",
       "      <td>def.</td>\n",
       "      <td>Nick Hein</td>\n",
       "      <td>66</td>\n",
       "      <td>10</td>\n",
       "      <td>2014-11-22</td>\n",
       "    </tr>\n",
       "    <tr>\n",
       "      <th>14</th>\n",
       "      <td>Tony Ferguson</td>\n",
       "      <td>76</td>\n",
       "      <td>def.</td>\n",
       "      <td>Katsunori Kikuno</td>\n",
       "      <td>66</td>\n",
       "      <td>10</td>\n",
       "      <td>2014-05-24</td>\n",
       "    </tr>\n",
       "    <tr>\n",
       "      <th>15</th>\n",
       "      <td>Katsunori Kikuno</td>\n",
       "      <td>66</td>\n",
       "      <td>def.</td>\n",
       "      <td>Quinn Mulhern</td>\n",
       "      <td>76</td>\n",
       "      <td>10</td>\n",
       "      <td>2014-01-04</td>\n",
       "    </tr>\n",
       "    <tr>\n",
       "      <th>16</th>\n",
       "      <td>Jon Jones</td>\n",
       "      <td>84</td>\n",
       "      <td>def.</td>\n",
       "      <td>Chael Sonnen</td>\n",
       "      <td>74</td>\n",
       "      <td>10</td>\n",
       "      <td>2013-04-27</td>\n",
       "    </tr>\n",
       "    <tr>\n",
       "      <th>17</th>\n",
       "      <td>Roy Nelson</td>\n",
       "      <td>72</td>\n",
       "      <td>def.</td>\n",
       "      <td>Cheick Kongo</td>\n",
       "      <td>82</td>\n",
       "      <td>10</td>\n",
       "      <td>2013-04-27</td>\n",
       "    </tr>\n",
       "    <tr>\n",
       "      <th>18</th>\n",
       "      <td>Jon Jones</td>\n",
       "      <td>84</td>\n",
       "      <td>def.</td>\n",
       "      <td>Vitor Belfort</td>\n",
       "      <td>74</td>\n",
       "      <td>10</td>\n",
       "      <td>2012-09-22</td>\n",
       "    </tr>\n",
       "    <tr>\n",
       "      <th>19</th>\n",
       "      <td>Mark Hunt</td>\n",
       "      <td>72</td>\n",
       "      <td>def.</td>\n",
       "      <td>Cheick Kongo</td>\n",
       "      <td>82</td>\n",
       "      <td>10</td>\n",
       "      <td>2012-02-25</td>\n",
       "    </tr>\n",
       "    <tr>\n",
       "      <th>20</th>\n",
       "      <td>Tim Means</td>\n",
       "      <td>75</td>\n",
       "      <td>def.</td>\n",
       "      <td>Bernardo Magalhaes</td>\n",
       "      <td>65</td>\n",
       "      <td>10</td>\n",
       "      <td>2012-02-15</td>\n",
       "    </tr>\n",
       "    <tr>\n",
       "      <th>21</th>\n",
       "      <td>Jon Jones</td>\n",
       "      <td>84</td>\n",
       "      <td>def.</td>\n",
       "      <td>Lyoto Machida</td>\n",
       "      <td>74</td>\n",
       "      <td>10</td>\n",
       "      <td>2011-12-10</td>\n",
       "    </tr>\n",
       "    <tr>\n",
       "      <th>22</th>\n",
       "      <td>Stefan Struve</td>\n",
       "      <td>84</td>\n",
       "      <td>def.</td>\n",
       "      <td>Pat Barry</td>\n",
       "      <td>74</td>\n",
       "      <td>10</td>\n",
       "      <td>2011-10-01</td>\n",
       "    </tr>\n",
       "    <tr>\n",
       "      <th>23</th>\n",
       "      <td>Jon Jones</td>\n",
       "      <td>84</td>\n",
       "      <td>def.</td>\n",
       "      <td>Ryan Bader</td>\n",
       "      <td>74</td>\n",
       "      <td>10</td>\n",
       "      <td>2011-02-05</td>\n",
       "    </tr>\n",
       "    <tr>\n",
       "      <th>24</th>\n",
       "      <td>Jon Jones</td>\n",
       "      <td>84</td>\n",
       "      <td>def.</td>\n",
       "      <td>Vladimir Matyushenko</td>\n",
       "      <td>74</td>\n",
       "      <td>10</td>\n",
       "      <td>2010-08-01</td>\n",
       "    </tr>\n",
       "    <tr>\n",
       "      <th>25</th>\n",
       "      <td>Akihiro Gono</td>\n",
       "      <td>68</td>\n",
       "      <td>def.</td>\n",
       "      <td>Tamdan McCrory</td>\n",
       "      <td>78</td>\n",
       "      <td>10</td>\n",
       "      <td>2007-11-17</td>\n",
       "    </tr>\n",
       "    <tr>\n",
       "      <th>26</th>\n",
       "      <td>Dustin Hazelett</td>\n",
       "      <td>76</td>\n",
       "      <td>def.</td>\n",
       "      <td>Diego Saraiva</td>\n",
       "      <td>66</td>\n",
       "      <td>10</td>\n",
       "      <td>2007-02-03</td>\n",
       "    </tr>\n",
       "    <tr>\n",
       "      <th>27</th>\n",
       "      <td>Josh Barnett</td>\n",
       "      <td>78</td>\n",
       "      <td>def.</td>\n",
       "      <td>Semmy Schilt</td>\n",
       "      <td>88</td>\n",
       "      <td>10</td>\n",
       "      <td>2001-06-29</td>\n",
       "    </tr>\n",
       "    <tr>\n",
       "      <th>28</th>\n",
       "      <td>Brock Lesnar</td>\n",
       "      <td>81</td>\n",
       "      <td>no contest</td>\n",
       "      <td>Mark Hunt</td>\n",
       "      <td>72</td>\n",
       "      <td>9</td>\n",
       "      <td>2016-07-09</td>\n",
       "    </tr>\n",
       "    <tr>\n",
       "      <th>29</th>\n",
       "      <td>Neil Magny</td>\n",
       "      <td>80</td>\n",
       "      <td>def.</td>\n",
       "      <td>Hector Lombard</td>\n",
       "      <td>71</td>\n",
       "      <td>9</td>\n",
       "      <td>2016-03-19</td>\n",
       "    </tr>\n",
       "    <tr>\n",
       "      <th>30</th>\n",
       "      <td>Daniel Kelly</td>\n",
       "      <td>70</td>\n",
       "      <td>def.</td>\n",
       "      <td>Antonio Carlos Junior</td>\n",
       "      <td>79</td>\n",
       "      <td>9</td>\n",
       "      <td>2016-03-19</td>\n",
       "    </tr>\n",
       "    <tr>\n",
       "      <th>31</th>\n",
       "      <td>Francis Ngannou</td>\n",
       "      <td>83</td>\n",
       "      <td>def.</td>\n",
       "      <td>Luis Henrique</td>\n",
       "      <td>74</td>\n",
       "      <td>9</td>\n",
       "      <td>2015-12-19</td>\n",
       "    </tr>\n",
       "    <tr>\n",
       "      <th>32</th>\n",
       "      <td>Neil Magny</td>\n",
       "      <td>80</td>\n",
       "      <td>def.</td>\n",
       "      <td>Kelvin Gastelum</td>\n",
       "      <td>71</td>\n",
       "      <td>9</td>\n",
       "      <td>2015-11-21</td>\n",
       "    </tr>\n",
       "    <tr>\n",
       "      <th>33</th>\n",
       "      <td>Jared Rosholt</td>\n",
       "      <td>75</td>\n",
       "      <td>def.</td>\n",
       "      <td>Stefan Struve</td>\n",
       "      <td>84</td>\n",
       "      <td>9</td>\n",
       "      <td>2015-11-14</td>\n",
       "    </tr>\n",
       "    <tr>\n",
       "      <th>34</th>\n",
       "      <td>Kajan Johnson</td>\n",
       "      <td>75</td>\n",
       "      <td>def.</td>\n",
       "      <td>Naoyuki Kotani</td>\n",
       "      <td>66</td>\n",
       "      <td>9</td>\n",
       "      <td>2015-09-26</td>\n",
       "    </tr>\n",
       "    <tr>\n",
       "      <th>35</th>\n",
       "      <td>Neil Magny</td>\n",
       "      <td>80</td>\n",
       "      <td>def.</td>\n",
       "      <td>Kiichi Kunimoto</td>\n",
       "      <td>71</td>\n",
       "      <td>9</td>\n",
       "      <td>2015-02-14</td>\n",
       "    </tr>\n",
       "    <tr>\n",
       "      <th>36</th>\n",
       "      <td>Ben Saunders</td>\n",
       "      <td>77</td>\n",
       "      <td>def.</td>\n",
       "      <td>Chris Heatherly</td>\n",
       "      <td>68</td>\n",
       "      <td>9</td>\n",
       "      <td>2014-08-23</td>\n",
       "    </tr>\n",
       "    <tr>\n",
       "      <th>37</th>\n",
       "      <td>Bethe Correia</td>\n",
       "      <td>64</td>\n",
       "      <td>def.</td>\n",
       "      <td>Jessamyn Duke</td>\n",
       "      <td>73</td>\n",
       "      <td>9</td>\n",
       "      <td>2014-04-26</td>\n",
       "    </tr>\n",
       "    <tr>\n",
       "      <th>38</th>\n",
       "      <td>Neil Magny</td>\n",
       "      <td>80</td>\n",
       "      <td>def.</td>\n",
       "      <td>Gasan Umalatov</td>\n",
       "      <td>71</td>\n",
       "      <td>9</td>\n",
       "      <td>2014-02-01</td>\n",
       "    </tr>\n",
       "    <tr>\n",
       "      <th>39</th>\n",
       "      <td>Jon Jones</td>\n",
       "      <td>84</td>\n",
       "      <td>def.</td>\n",
       "      <td>Rashad Evans</td>\n",
       "      <td>75</td>\n",
       "      <td>9</td>\n",
       "      <td>2012-04-21</td>\n",
       "    </tr>\n",
       "    <tr>\n",
       "      <th>40</th>\n",
       "      <td>Sean McCorkle</td>\n",
       "      <td>81</td>\n",
       "      <td>def.</td>\n",
       "      <td>Mark Hunt</td>\n",
       "      <td>72</td>\n",
       "      <td>9</td>\n",
       "      <td>2010-09-25</td>\n",
       "    </tr>\n",
       "    <tr>\n",
       "      <th>41</th>\n",
       "      <td>Cheick Kongo</td>\n",
       "      <td>82</td>\n",
       "      <td>def.</td>\n",
       "      <td>Mirko Cro Cop</td>\n",
       "      <td>73</td>\n",
       "      <td>9</td>\n",
       "      <td>2007-09-08</td>\n",
       "    </tr>\n",
       "    <tr>\n",
       "      <th>42</th>\n",
       "      <td>Nate Diaz</td>\n",
       "      <td>76</td>\n",
       "      <td>def.</td>\n",
       "      <td>Manvel Gamburyan</td>\n",
       "      <td>67</td>\n",
       "      <td>9</td>\n",
       "      <td>2007-06-23</td>\n",
       "    </tr>\n",
       "    <tr>\n",
       "      <th>43</th>\n",
       "      <td>Carmelo Marrero</td>\n",
       "      <td>73</td>\n",
       "      <td>def.</td>\n",
       "      <td>Cheick Kongo</td>\n",
       "      <td>82</td>\n",
       "      <td>9</td>\n",
       "      <td>2006-10-14</td>\n",
       "    </tr>\n",
       "    <tr>\n",
       "      <th>44</th>\n",
       "      <td>Sean Sherk</td>\n",
       "      <td>67</td>\n",
       "      <td>def.</td>\n",
       "      <td>Nick Diaz</td>\n",
       "      <td>76</td>\n",
       "      <td>9</td>\n",
       "      <td>2006-04-15</td>\n",
       "    </tr>\n",
       "    <tr>\n",
       "      <th>45</th>\n",
       "      <td>Georges St-Pierre</td>\n",
       "      <td>76</td>\n",
       "      <td>def.</td>\n",
       "      <td>Sean Sherk</td>\n",
       "      <td>67</td>\n",
       "      <td>9</td>\n",
       "      <td>2005-11-19</td>\n",
       "    </tr>\n",
       "  </tbody>\n",
       "</table>\n",
       "</div>"
      ],
      "text/plain": [
       "                Winner  Reach     Outcome                  Loser  Reach  \\\n",
       "1        Miguel Torres     76        def.       Antonio Banuelos     63   \n",
       "2            Jon Jones     84        def.         Daniel Cormier     72   \n",
       "3            Mark Hunt     72        def.          Stefan Struve     84   \n",
       "4   Demetrious Johnson     64        def.          Miguel Torres     76   \n",
       "5           Roy Nelson     72        def.          Stefan Struve     84   \n",
       "6           Neil Magny     80        def.        Johny Hendricks     69   \n",
       "7           Dan Hooker     75        def.          Ian Entwistle     64   \n",
       "8            Jon Jones     84        def.        Rampage Jackson     73   \n",
       "9           Dale Hartt     69        def.             Corey Hill     80   \n",
       "10       Stefan Struve     84        def.     Daniel Omielanczuk     74   \n",
       "11     Francis Ngannou     83        def.       Bojan Mihajlovic     73   \n",
       "12           Kevin Lee     77        def.        Michel Prazeres     67   \n",
       "13          James Vick     76        def.              Nick Hein     66   \n",
       "14       Tony Ferguson     76        def.       Katsunori Kikuno     66   \n",
       "15    Katsunori Kikuno     66        def.          Quinn Mulhern     76   \n",
       "16           Jon Jones     84        def.           Chael Sonnen     74   \n",
       "17          Roy Nelson     72        def.           Cheick Kongo     82   \n",
       "18           Jon Jones     84        def.          Vitor Belfort     74   \n",
       "19           Mark Hunt     72        def.           Cheick Kongo     82   \n",
       "20           Tim Means     75        def.     Bernardo Magalhaes     65   \n",
       "21           Jon Jones     84        def.          Lyoto Machida     74   \n",
       "22       Stefan Struve     84        def.              Pat Barry     74   \n",
       "23           Jon Jones     84        def.             Ryan Bader     74   \n",
       "24           Jon Jones     84        def.   Vladimir Matyushenko     74   \n",
       "25        Akihiro Gono     68        def.         Tamdan McCrory     78   \n",
       "26     Dustin Hazelett     76        def.          Diego Saraiva     66   \n",
       "27        Josh Barnett     78        def.           Semmy Schilt     88   \n",
       "28        Brock Lesnar     81  no contest              Mark Hunt     72   \n",
       "29          Neil Magny     80        def.         Hector Lombard     71   \n",
       "30        Daniel Kelly     70        def.  Antonio Carlos Junior     79   \n",
       "31     Francis Ngannou     83        def.          Luis Henrique     74   \n",
       "32          Neil Magny     80        def.        Kelvin Gastelum     71   \n",
       "33       Jared Rosholt     75        def.          Stefan Struve     84   \n",
       "34       Kajan Johnson     75        def.         Naoyuki Kotani     66   \n",
       "35          Neil Magny     80        def.        Kiichi Kunimoto     71   \n",
       "36        Ben Saunders     77        def.        Chris Heatherly     68   \n",
       "37       Bethe Correia     64        def.          Jessamyn Duke     73   \n",
       "38          Neil Magny     80        def.         Gasan Umalatov     71   \n",
       "39           Jon Jones     84        def.           Rashad Evans     75   \n",
       "40       Sean McCorkle     81        def.              Mark Hunt     72   \n",
       "41        Cheick Kongo     82        def.          Mirko Cro Cop     73   \n",
       "42           Nate Diaz     76        def.       Manvel Gamburyan     67   \n",
       "43     Carmelo Marrero     73        def.           Cheick Kongo     82   \n",
       "44          Sean Sherk     67        def.              Nick Diaz     76   \n",
       "45   Georges St-Pierre     76        def.             Sean Sherk     67   \n",
       "\n",
       "    $\\Delta$       Date  \n",
       "1         13 2011-02-05  \n",
       "2         12 2015-01-03  \n",
       "3         12 2013-03-02  \n",
       "4         12 2011-05-28  \n",
       "5         12 2010-03-31  \n",
       "6         11 2016-12-30  \n",
       "7         11 2014-06-28  \n",
       "8         11 2011-09-24  \n",
       "9         11 2008-12-10  \n",
       "10        10 2016-10-08  \n",
       "11        10 2016-07-23  \n",
       "12        10 2015-02-14  \n",
       "13        10 2014-11-22  \n",
       "14        10 2014-05-24  \n",
       "15        10 2014-01-04  \n",
       "16        10 2013-04-27  \n",
       "17        10 2013-04-27  \n",
       "18        10 2012-09-22  \n",
       "19        10 2012-02-25  \n",
       "20        10 2012-02-15  \n",
       "21        10 2011-12-10  \n",
       "22        10 2011-10-01  \n",
       "23        10 2011-02-05  \n",
       "24        10 2010-08-01  \n",
       "25        10 2007-11-17  \n",
       "26        10 2007-02-03  \n",
       "27        10 2001-06-29  \n",
       "28         9 2016-07-09  \n",
       "29         9 2016-03-19  \n",
       "30         9 2016-03-19  \n",
       "31         9 2015-12-19  \n",
       "32         9 2015-11-21  \n",
       "33         9 2015-11-14  \n",
       "34         9 2015-09-26  \n",
       "35         9 2015-02-14  \n",
       "36         9 2014-08-23  \n",
       "37         9 2014-04-26  \n",
       "38         9 2014-02-01  \n",
       "39         9 2012-04-21  \n",
       "40         9 2010-09-25  \n",
       "41         9 2007-09-08  \n",
       "42         9 2007-06-23  \n",
       "43         9 2006-10-14  \n",
       "44         9 2006-04-15  \n",
       "45         9 2005-11-19  "
      ]
     },
     "execution_count": 12,
     "metadata": {},
     "output_type": "execute_result"
    }
   ],
   "source": [
    "above9 = df.sort_values(['ReachDiffAbs', 'Date'], ascending=False)\n",
    "above9 = above9[['Winner', 'Reach', 'Outcome', 'Loser', 'Reach_L', 'ReachDiffAbs', 'Date']][above9.ReachDiffAbs >= 9]\n",
    "win_count = above9[above9.Reach > above9.Reach_L].shape[0]\n",
    "above9 = above9.astype({'Reach':int, 'Reach_L':int, 'ReachDiffAbs':int})\n",
    "above9.index = range(1, above9.shape[0] + 1)\n",
    "above9.columns = ['Winner', 'Reach', 'Outcome', 'Loser', 'Reach', r'$\\Delta$', 'Date']\n",
    "above9.to_latex('report/reach_height/biggest_reach_diff_RAW.tex')\n",
    "above9"
   ]
  },
  {
   "cell_type": "code",
   "execution_count": 13,
   "metadata": {
    "collapsed": false
   },
   "outputs": [
    {
     "data": {
      "text/html": [
       "<div>\n",
       "<table border=\"1\" class=\"dataframe\">\n",
       "  <thead>\n",
       "    <tr style=\"text-align: right;\">\n",
       "      <th></th>\n",
       "      <th>Name</th>\n",
       "      <th>Reach</th>\n",
       "      <th>Height</th>\n",
       "      <th>Reach/Height</th>\n",
       "    </tr>\n",
       "  </thead>\n",
       "  <tbody>\n",
       "    <tr>\n",
       "      <th>1</th>\n",
       "      <td>Rodrigo de Lima</td>\n",
       "      <td>75</td>\n",
       "      <td>67</td>\n",
       "      <td>1.12</td>\n",
       "    </tr>\n",
       "    <tr>\n",
       "      <th>2</th>\n",
       "      <td>Kevin Lee</td>\n",
       "      <td>77</td>\n",
       "      <td>69</td>\n",
       "      <td>1.12</td>\n",
       "    </tr>\n",
       "    <tr>\n",
       "      <th>3</th>\n",
       "      <td>Rameau Thierry Sokoudjou</td>\n",
       "      <td>78</td>\n",
       "      <td>70</td>\n",
       "      <td>1.11</td>\n",
       "    </tr>\n",
       "    <tr>\n",
       "      <th>4</th>\n",
       "      <td>Marcus Brimage</td>\n",
       "      <td>71</td>\n",
       "      <td>64</td>\n",
       "      <td>1.11</td>\n",
       "    </tr>\n",
       "    <tr>\n",
       "      <th>5</th>\n",
       "      <td>Taylor Lapilus</td>\n",
       "      <td>73</td>\n",
       "      <td>66</td>\n",
       "      <td>1.11</td>\n",
       "    </tr>\n",
       "    <tr>\n",
       "      <th>6</th>\n",
       "      <td>Jon Jones</td>\n",
       "      <td>84</td>\n",
       "      <td>76</td>\n",
       "      <td>1.11</td>\n",
       "    </tr>\n",
       "    <tr>\n",
       "      <th>7</th>\n",
       "      <td>Mark Bocek</td>\n",
       "      <td>75</td>\n",
       "      <td>68</td>\n",
       "      <td>1.10</td>\n",
       "    </tr>\n",
       "    <tr>\n",
       "      <th>8</th>\n",
       "      <td>Miguel Torres</td>\n",
       "      <td>76</td>\n",
       "      <td>69</td>\n",
       "      <td>1.10</td>\n",
       "    </tr>\n",
       "    <tr>\n",
       "      <th>9</th>\n",
       "      <td>Paul Daley</td>\n",
       "      <td>76</td>\n",
       "      <td>69</td>\n",
       "      <td>1.10</td>\n",
       "    </tr>\n",
       "    <tr>\n",
       "      <th>10</th>\n",
       "      <td>Caros Fodor</td>\n",
       "      <td>76</td>\n",
       "      <td>69</td>\n",
       "      <td>1.10</td>\n",
       "    </tr>\n",
       "    <tr>\n",
       "      <th>11</th>\n",
       "      <td>Oluwale Bamgbose</td>\n",
       "      <td>78</td>\n",
       "      <td>71</td>\n",
       "      <td>1.10</td>\n",
       "    </tr>\n",
       "    <tr>\n",
       "      <th>12</th>\n",
       "      <td>Justin Jones</td>\n",
       "      <td>78</td>\n",
       "      <td>71</td>\n",
       "      <td>1.10</td>\n",
       "    </tr>\n",
       "    <tr>\n",
       "      <th>13</th>\n",
       "      <td>Uriah Hall</td>\n",
       "      <td>79</td>\n",
       "      <td>72</td>\n",
       "      <td>1.10</td>\n",
       "    </tr>\n",
       "    <tr>\n",
       "      <th>14</th>\n",
       "      <td>Alexander Volkanovski</td>\n",
       "      <td>71</td>\n",
       "      <td>65</td>\n",
       "      <td>1.09</td>\n",
       "    </tr>\n",
       "    <tr>\n",
       "      <th>15</th>\n",
       "      <td>Francis Ngannou</td>\n",
       "      <td>83</td>\n",
       "      <td>76</td>\n",
       "      <td>1.09</td>\n",
       "    </tr>\n",
       "    <tr>\n",
       "      <th>16</th>\n",
       "      <td>Vernon Ramos</td>\n",
       "      <td>72</td>\n",
       "      <td>66</td>\n",
       "      <td>1.09</td>\n",
       "    </tr>\n",
       "    <tr>\n",
       "      <th>17</th>\n",
       "      <td>Richard Crunkilton</td>\n",
       "      <td>73</td>\n",
       "      <td>67</td>\n",
       "      <td>1.09</td>\n",
       "    </tr>\n",
       "    <tr>\n",
       "      <th>18</th>\n",
       "      <td>Godofredo Pepey</td>\n",
       "      <td>73</td>\n",
       "      <td>67</td>\n",
       "      <td>1.09</td>\n",
       "    </tr>\n",
       "    <tr>\n",
       "      <th>19</th>\n",
       "      <td>Cain Carrizosa</td>\n",
       "      <td>74</td>\n",
       "      <td>68</td>\n",
       "      <td>1.09</td>\n",
       "    </tr>\n",
       "    <tr>\n",
       "      <th>20</th>\n",
       "      <td>Gilbert Smith</td>\n",
       "      <td>75</td>\n",
       "      <td>69</td>\n",
       "      <td>1.09</td>\n",
       "    </tr>\n",
       "    <tr>\n",
       "      <th>21</th>\n",
       "      <td>Shamar Bailey</td>\n",
       "      <td>75</td>\n",
       "      <td>69</td>\n",
       "      <td>1.09</td>\n",
       "    </tr>\n",
       "    <tr>\n",
       "      <th>22</th>\n",
       "      <td>Eddie Mendez</td>\n",
       "      <td>76</td>\n",
       "      <td>70</td>\n",
       "      <td>1.09</td>\n",
       "    </tr>\n",
       "    <tr>\n",
       "      <th>23</th>\n",
       "      <td>Ricardo Funch</td>\n",
       "      <td>76</td>\n",
       "      <td>70</td>\n",
       "      <td>1.09</td>\n",
       "    </tr>\n",
       "    <tr>\n",
       "      <th>24</th>\n",
       "      <td>Gerald Harris</td>\n",
       "      <td>77</td>\n",
       "      <td>71</td>\n",
       "      <td>1.08</td>\n",
       "    </tr>\n",
       "    <tr>\n",
       "      <th>25</th>\n",
       "      <td>Kevin Casey</td>\n",
       "      <td>77</td>\n",
       "      <td>71</td>\n",
       "      <td>1.08</td>\n",
       "    </tr>\n",
       "    <tr>\n",
       "      <th>26</th>\n",
       "      <td>Denis Kang</td>\n",
       "      <td>77</td>\n",
       "      <td>71</td>\n",
       "      <td>1.08</td>\n",
       "    </tr>\n",
       "    <tr>\n",
       "      <th>27</th>\n",
       "      <td>Jared Cannonier</td>\n",
       "      <td>77</td>\n",
       "      <td>71</td>\n",
       "      <td>1.08</td>\n",
       "    </tr>\n",
       "    <tr>\n",
       "      <th>28</th>\n",
       "      <td>Jimi Manuwa</td>\n",
       "      <td>79</td>\n",
       "      <td>73</td>\n",
       "      <td>1.08</td>\n",
       "    </tr>\n",
       "    <tr>\n",
       "      <th>29</th>\n",
       "      <td>Dominic Waters</td>\n",
       "      <td>79</td>\n",
       "      <td>73</td>\n",
       "      <td>1.08</td>\n",
       "    </tr>\n",
       "    <tr>\n",
       "      <th>30</th>\n",
       "      <td>Simeon Thoresen</td>\n",
       "      <td>79</td>\n",
       "      <td>73</td>\n",
       "      <td>1.08</td>\n",
       "    </tr>\n",
       "    <tr>\n",
       "      <th>31</th>\n",
       "      <td>Dave Branch</td>\n",
       "      <td>79</td>\n",
       "      <td>73</td>\n",
       "      <td>1.08</td>\n",
       "    </tr>\n",
       "    <tr>\n",
       "      <th>32</th>\n",
       "      <td>Shane Carwin</td>\n",
       "      <td>80</td>\n",
       "      <td>74</td>\n",
       "      <td>1.08</td>\n",
       "    </tr>\n",
       "    <tr>\n",
       "      <th>33</th>\n",
       "      <td>Aleksei Oleinik</td>\n",
       "      <td>80</td>\n",
       "      <td>74</td>\n",
       "      <td>1.08</td>\n",
       "    </tr>\n",
       "    <tr>\n",
       "      <th>34</th>\n",
       "      <td>Brock Lesnar</td>\n",
       "      <td>81</td>\n",
       "      <td>75</td>\n",
       "      <td>1.08</td>\n",
       "    </tr>\n",
       "    <tr>\n",
       "      <th>35</th>\n",
       "      <td>Goran Reljic</td>\n",
       "      <td>81</td>\n",
       "      <td>75</td>\n",
       "      <td>1.08</td>\n",
       "    </tr>\n",
       "  </tbody>\n",
       "</table>\n",
       "</div>"
      ],
      "text/plain": [
       "                        Name  Reach  Height  Reach/Height\n",
       "1            Rodrigo de Lima     75      67          1.12\n",
       "2                  Kevin Lee     77      69          1.12\n",
       "3   Rameau Thierry Sokoudjou     78      70          1.11\n",
       "4             Marcus Brimage     71      64          1.11\n",
       "5             Taylor Lapilus     73      66          1.11\n",
       "6                  Jon Jones     84      76          1.11\n",
       "7                 Mark Bocek     75      68          1.10\n",
       "8              Miguel Torres     76      69          1.10\n",
       "9                 Paul Daley     76      69          1.10\n",
       "10               Caros Fodor     76      69          1.10\n",
       "11          Oluwale Bamgbose     78      71          1.10\n",
       "12              Justin Jones     78      71          1.10\n",
       "13                Uriah Hall     79      72          1.10\n",
       "14     Alexander Volkanovski     71      65          1.09\n",
       "15           Francis Ngannou     83      76          1.09\n",
       "16              Vernon Ramos     72      66          1.09\n",
       "17        Richard Crunkilton     73      67          1.09\n",
       "18           Godofredo Pepey     73      67          1.09\n",
       "19            Cain Carrizosa     74      68          1.09\n",
       "20             Gilbert Smith     75      69          1.09\n",
       "21             Shamar Bailey     75      69          1.09\n",
       "22              Eddie Mendez     76      70          1.09\n",
       "23             Ricardo Funch     76      70          1.09\n",
       "24             Gerald Harris     77      71          1.08\n",
       "25               Kevin Casey     77      71          1.08\n",
       "26                Denis Kang     77      71          1.08\n",
       "27           Jared Cannonier     77      71          1.08\n",
       "28               Jimi Manuwa     79      73          1.08\n",
       "29            Dominic Waters     79      73          1.08\n",
       "30           Simeon Thoresen     79      73          1.08\n",
       "31               Dave Branch     79      73          1.08\n",
       "32              Shane Carwin     80      74          1.08\n",
       "33           Aleksei Oleinik     80      74          1.08\n",
       "34              Brock Lesnar     81      75          1.08\n",
       "35              Goran Reljic     81      75          1.08"
      ]
     },
     "execution_count": 13,
     "metadata": {},
     "output_type": "execute_result"
    }
   ],
   "source": [
    "cols = ['Name', 'Reach', 'Height', 'Reach2Height']\n",
    "raw_reach = win_lose_ufc.sort_values(['Reach2Height'], ascending=False).reset_index(drop=True)[cols]\n",
    "raw_reach = raw_reach[raw_reach.Reach2Height >= 1.08]\n",
    "raw_reach = raw_reach.astype({'Reach':int, 'Height':int})\n",
    "raw_reach.index = range(1, raw_reach.shape[0] + 1)\n",
    "raw_reach.Reach2Height = raw_reach.Reach2Height.apply(lambda x: round(x, 2))\n",
    "raw_reach.columns = ['Name', 'Reach', 'Height', 'Reach/Height']\n",
    "raw_reach"
   ]
  },
  {
   "cell_type": "code",
   "execution_count": 14,
   "metadata": {
    "collapsed": false
   },
   "outputs": [
    {
     "data": {
      "text/html": [
       "<div>\n",
       "<table border=\"1\" class=\"dataframe\">\n",
       "  <thead>\n",
       "    <tr style=\"text-align: right;\">\n",
       "      <th></th>\n",
       "      <th>Name</th>\n",
       "      <th>Reach</th>\n",
       "      <th>Height</th>\n",
       "      <th>Reach2Height</th>\n",
       "      <th>Name</th>\n",
       "      <th>Reach</th>\n",
       "      <th>Height</th>\n",
       "      <th>Reach2Height</th>\n",
       "    </tr>\n",
       "  </thead>\n",
       "  <tbody>\n",
       "    <tr>\n",
       "      <th>1</th>\n",
       "      <td>Rodrigo de Lima</td>\n",
       "      <td>75</td>\n",
       "      <td>67</td>\n",
       "      <td>1.12</td>\n",
       "      <td>Bernardo Magalhaes</td>\n",
       "      <td>65</td>\n",
       "      <td>69</td>\n",
       "      <td>0.94</td>\n",
       "    </tr>\n",
       "    <tr>\n",
       "      <th>2</th>\n",
       "      <td>Kevin Lee</td>\n",
       "      <td>77</td>\n",
       "      <td>69</td>\n",
       "      <td>1.12</td>\n",
       "      <td>Artem Lobov</td>\n",
       "      <td>65</td>\n",
       "      <td>69</td>\n",
       "      <td>0.94</td>\n",
       "    </tr>\n",
       "    <tr>\n",
       "      <th>3</th>\n",
       "      <td>Rameau Thierry Sokoudjou</td>\n",
       "      <td>78</td>\n",
       "      <td>70</td>\n",
       "      <td>1.11</td>\n",
       "      <td>Sheila Gaff</td>\n",
       "      <td>62</td>\n",
       "      <td>65</td>\n",
       "      <td>0.95</td>\n",
       "    </tr>\n",
       "    <tr>\n",
       "      <th>4</th>\n",
       "      <td>Marcus Brimage</td>\n",
       "      <td>71</td>\n",
       "      <td>64</td>\n",
       "      <td>1.11</td>\n",
       "      <td>Jocelyn Jones-Lybarger</td>\n",
       "      <td>64</td>\n",
       "      <td>67</td>\n",
       "      <td>0.96</td>\n",
       "    </tr>\n",
       "    <tr>\n",
       "      <th>5</th>\n",
       "      <td>Taylor Lapilus</td>\n",
       "      <td>73</td>\n",
       "      <td>66</td>\n",
       "      <td>1.11</td>\n",
       "      <td>Cody Garbrandt</td>\n",
       "      <td>65</td>\n",
       "      <td>68</td>\n",
       "      <td>0.96</td>\n",
       "    </tr>\n",
       "    <tr>\n",
       "      <th>6</th>\n",
       "      <td>Jon Jones</td>\n",
       "      <td>84</td>\n",
       "      <td>76</td>\n",
       "      <td>1.11</td>\n",
       "      <td>Leslie Smith</td>\n",
       "      <td>66</td>\n",
       "      <td>69</td>\n",
       "      <td>0.96</td>\n",
       "    </tr>\n",
       "    <tr>\n",
       "      <th>7</th>\n",
       "      <td>Mark Bocek</td>\n",
       "      <td>75</td>\n",
       "      <td>68</td>\n",
       "      <td>1.10</td>\n",
       "      <td>Chris Lytle</td>\n",
       "      <td>68</td>\n",
       "      <td>71</td>\n",
       "      <td>0.96</td>\n",
       "    </tr>\n",
       "    <tr>\n",
       "      <th>8</th>\n",
       "      <td>Miguel Torres</td>\n",
       "      <td>76</td>\n",
       "      <td>69</td>\n",
       "      <td>1.10</td>\n",
       "      <td>Peggy Morgan</td>\n",
       "      <td>70</td>\n",
       "      <td>73</td>\n",
       "      <td>0.96</td>\n",
       "    </tr>\n",
       "    <tr>\n",
       "      <th>9</th>\n",
       "      <td>Paul Daley</td>\n",
       "      <td>76</td>\n",
       "      <td>69</td>\n",
       "      <td>1.10</td>\n",
       "      <td>Milana Dudieva</td>\n",
       "      <td>61</td>\n",
       "      <td>63</td>\n",
       "      <td>0.97</td>\n",
       "    </tr>\n",
       "    <tr>\n",
       "      <th>10</th>\n",
       "      <td>Caros Fodor</td>\n",
       "      <td>76</td>\n",
       "      <td>69</td>\n",
       "      <td>1.10</td>\n",
       "      <td>Lisa Ellis</td>\n",
       "      <td>62</td>\n",
       "      <td>64</td>\n",
       "      <td>0.97</td>\n",
       "    </tr>\n",
       "    <tr>\n",
       "      <th>11</th>\n",
       "      <td>Oluwale Bamgbose</td>\n",
       "      <td>78</td>\n",
       "      <td>71</td>\n",
       "      <td>1.10</td>\n",
       "      <td>Antonio Banuelos</td>\n",
       "      <td>63</td>\n",
       "      <td>65</td>\n",
       "      <td>0.97</td>\n",
       "    </tr>\n",
       "    <tr>\n",
       "      <th>12</th>\n",
       "      <td>Justin Jones</td>\n",
       "      <td>78</td>\n",
       "      <td>71</td>\n",
       "      <td>1.10</td>\n",
       "      <td>Issei Tamura</td>\n",
       "      <td>63</td>\n",
       "      <td>65</td>\n",
       "      <td>0.97</td>\n",
       "    </tr>\n",
       "    <tr>\n",
       "      <th>13</th>\n",
       "      <td>Uriah Hall</td>\n",
       "      <td>79</td>\n",
       "      <td>72</td>\n",
       "      <td>1.10</td>\n",
       "      <td>Heather Jo Clark</td>\n",
       "      <td>64</td>\n",
       "      <td>66</td>\n",
       "      <td>0.97</td>\n",
       "    </tr>\n",
       "    <tr>\n",
       "      <th>14</th>\n",
       "      <td>Alexander Volkanovski</td>\n",
       "      <td>71</td>\n",
       "      <td>65</td>\n",
       "      <td>1.09</td>\n",
       "      <td>Jason Reinhardt</td>\n",
       "      <td>64</td>\n",
       "      <td>66</td>\n",
       "      <td>0.97</td>\n",
       "    </tr>\n",
       "    <tr>\n",
       "      <th>15</th>\n",
       "      <td>Francis Ngannou</td>\n",
       "      <td>83</td>\n",
       "      <td>76</td>\n",
       "      <td>1.09</td>\n",
       "      <td>Pedro Munhoz</td>\n",
       "      <td>64</td>\n",
       "      <td>66</td>\n",
       "      <td>0.97</td>\n",
       "    </tr>\n",
       "    <tr>\n",
       "      <th>16</th>\n",
       "      <td>Vernon Ramos</td>\n",
       "      <td>72</td>\n",
       "      <td>66</td>\n",
       "      <td>1.09</td>\n",
       "      <td>Bec Rawlings</td>\n",
       "      <td>64</td>\n",
       "      <td>66</td>\n",
       "      <td>0.97</td>\n",
       "    </tr>\n",
       "    <tr>\n",
       "      <th>17</th>\n",
       "      <td>Richard Crunkilton</td>\n",
       "      <td>73</td>\n",
       "      <td>67</td>\n",
       "      <td>1.09</td>\n",
       "      <td>Ivan Menjivar</td>\n",
       "      <td>64</td>\n",
       "      <td>66</td>\n",
       "      <td>0.97</td>\n",
       "    </tr>\n",
       "    <tr>\n",
       "      <th>18</th>\n",
       "      <td>Godofredo Pepey</td>\n",
       "      <td>73</td>\n",
       "      <td>67</td>\n",
       "      <td>1.09</td>\n",
       "      <td>Darren Uyenoyama</td>\n",
       "      <td>64</td>\n",
       "      <td>66</td>\n",
       "      <td>0.97</td>\n",
       "    </tr>\n",
       "    <tr>\n",
       "      <th>19</th>\n",
       "      <td>Cain Carrizosa</td>\n",
       "      <td>74</td>\n",
       "      <td>68</td>\n",
       "      <td>1.09</td>\n",
       "      <td>Tim Elliott</td>\n",
       "      <td>65</td>\n",
       "      <td>67</td>\n",
       "      <td>0.97</td>\n",
       "    </tr>\n",
       "    <tr>\n",
       "      <th>20</th>\n",
       "      <td>Gilbert Smith</td>\n",
       "      <td>75</td>\n",
       "      <td>69</td>\n",
       "      <td>1.09</td>\n",
       "      <td>Tateki Matsuda</td>\n",
       "      <td>65</td>\n",
       "      <td>67</td>\n",
       "      <td>0.97</td>\n",
       "    </tr>\n",
       "    <tr>\n",
       "      <th>21</th>\n",
       "      <td>Shamar Bailey</td>\n",
       "      <td>75</td>\n",
       "      <td>69</td>\n",
       "      <td>1.09</td>\n",
       "      <td>Lina Lansberg</td>\n",
       "      <td>65</td>\n",
       "      <td>67</td>\n",
       "      <td>0.97</td>\n",
       "    </tr>\n",
       "    <tr>\n",
       "      <th>22</th>\n",
       "      <td>Eddie Mendez</td>\n",
       "      <td>76</td>\n",
       "      <td>70</td>\n",
       "      <td>1.09</td>\n",
       "      <td>Reginaldo Vieira</td>\n",
       "      <td>65</td>\n",
       "      <td>67</td>\n",
       "      <td>0.97</td>\n",
       "    </tr>\n",
       "    <tr>\n",
       "      <th>23</th>\n",
       "      <td>Ricardo Funch</td>\n",
       "      <td>76</td>\n",
       "      <td>70</td>\n",
       "      <td>1.09</td>\n",
       "      <td>Jianping Yang</td>\n",
       "      <td>65</td>\n",
       "      <td>67</td>\n",
       "      <td>0.97</td>\n",
       "    </tr>\n",
       "    <tr>\n",
       "      <th>24</th>\n",
       "      <td>Gerald Harris</td>\n",
       "      <td>77</td>\n",
       "      <td>71</td>\n",
       "      <td>1.08</td>\n",
       "      <td>Katsunori Kikuno</td>\n",
       "      <td>66</td>\n",
       "      <td>68</td>\n",
       "      <td>0.97</td>\n",
       "    </tr>\n",
       "    <tr>\n",
       "      <th>25</th>\n",
       "      <td>Kevin Casey</td>\n",
       "      <td>77</td>\n",
       "      <td>71</td>\n",
       "      <td>1.08</td>\n",
       "      <td>Alex Karalexis</td>\n",
       "      <td>66</td>\n",
       "      <td>68</td>\n",
       "      <td>0.97</td>\n",
       "    </tr>\n",
       "    <tr>\n",
       "      <th>26</th>\n",
       "      <td>Denis Kang</td>\n",
       "      <td>77</td>\n",
       "      <td>71</td>\n",
       "      <td>1.08</td>\n",
       "      <td>Naoyuki Kotani</td>\n",
       "      <td>66</td>\n",
       "      <td>68</td>\n",
       "      <td>0.97</td>\n",
       "    </tr>\n",
       "    <tr>\n",
       "      <th>27</th>\n",
       "      <td>Jared Cannonier</td>\n",
       "      <td>77</td>\n",
       "      <td>71</td>\n",
       "      <td>1.08</td>\n",
       "      <td>Damien Brown</td>\n",
       "      <td>68</td>\n",
       "      <td>70</td>\n",
       "      <td>0.97</td>\n",
       "    </tr>\n",
       "    <tr>\n",
       "      <th>28</th>\n",
       "      <td>Jimi Manuwa</td>\n",
       "      <td>79</td>\n",
       "      <td>73</td>\n",
       "      <td>1.08</td>\n",
       "      <td>Matt Wiman</td>\n",
       "      <td>68</td>\n",
       "      <td>70</td>\n",
       "      <td>0.97</td>\n",
       "    </tr>\n",
       "    <tr>\n",
       "      <th>29</th>\n",
       "      <td>Dominic Waters</td>\n",
       "      <td>79</td>\n",
       "      <td>73</td>\n",
       "      <td>1.08</td>\n",
       "      <td>Joe Gigliotti</td>\n",
       "      <td>69</td>\n",
       "      <td>71</td>\n",
       "      <td>0.97</td>\n",
       "    </tr>\n",
       "    <tr>\n",
       "      <th>30</th>\n",
       "      <td>Simeon Thoresen</td>\n",
       "      <td>79</td>\n",
       "      <td>73</td>\n",
       "      <td>1.08</td>\n",
       "      <td>Walel Watson</td>\n",
       "      <td>69</td>\n",
       "      <td>71</td>\n",
       "      <td>0.97</td>\n",
       "    </tr>\n",
       "    <tr>\n",
       "      <th>31</th>\n",
       "      <td>Dave Branch</td>\n",
       "      <td>79</td>\n",
       "      <td>73</td>\n",
       "      <td>1.08</td>\n",
       "      <td>Max Holloway</td>\n",
       "      <td>69</td>\n",
       "      <td>71</td>\n",
       "      <td>0.97</td>\n",
       "    </tr>\n",
       "    <tr>\n",
       "      <th>32</th>\n",
       "      <td>Shane Carwin</td>\n",
       "      <td>80</td>\n",
       "      <td>74</td>\n",
       "      <td>1.08</td>\n",
       "      <td>Alessandro Ricci</td>\n",
       "      <td>69</td>\n",
       "      <td>71</td>\n",
       "      <td>0.97</td>\n",
       "    </tr>\n",
       "    <tr>\n",
       "      <th>33</th>\n",
       "      <td>Aleksei Oleinik</td>\n",
       "      <td>80</td>\n",
       "      <td>74</td>\n",
       "      <td>1.08</td>\n",
       "      <td>Daniel Kelly</td>\n",
       "      <td>70</td>\n",
       "      <td>72</td>\n",
       "      <td>0.97</td>\n",
       "    </tr>\n",
       "    <tr>\n",
       "      <th>34</th>\n",
       "      <td>Brock Lesnar</td>\n",
       "      <td>81</td>\n",
       "      <td>75</td>\n",
       "      <td>1.08</td>\n",
       "      <td>Tony DeSouza</td>\n",
       "      <td>70</td>\n",
       "      <td>72</td>\n",
       "      <td>0.97</td>\n",
       "    </tr>\n",
       "    <tr>\n",
       "      <th>35</th>\n",
       "      <td>Goran Reljic</td>\n",
       "      <td>81</td>\n",
       "      <td>75</td>\n",
       "      <td>1.08</td>\n",
       "      <td>Joe Riggs</td>\n",
       "      <td>70</td>\n",
       "      <td>72</td>\n",
       "      <td>0.97</td>\n",
       "    </tr>\n",
       "  </tbody>\n",
       "</table>\n",
       "</div>"
      ],
      "text/plain": [
       "                        Name  Reach  Height  Reach2Height  \\\n",
       "1            Rodrigo de Lima     75      67          1.12   \n",
       "2                  Kevin Lee     77      69          1.12   \n",
       "3   Rameau Thierry Sokoudjou     78      70          1.11   \n",
       "4             Marcus Brimage     71      64          1.11   \n",
       "5             Taylor Lapilus     73      66          1.11   \n",
       "6                  Jon Jones     84      76          1.11   \n",
       "7                 Mark Bocek     75      68          1.10   \n",
       "8              Miguel Torres     76      69          1.10   \n",
       "9                 Paul Daley     76      69          1.10   \n",
       "10               Caros Fodor     76      69          1.10   \n",
       "11          Oluwale Bamgbose     78      71          1.10   \n",
       "12              Justin Jones     78      71          1.10   \n",
       "13                Uriah Hall     79      72          1.10   \n",
       "14     Alexander Volkanovski     71      65          1.09   \n",
       "15           Francis Ngannou     83      76          1.09   \n",
       "16              Vernon Ramos     72      66          1.09   \n",
       "17        Richard Crunkilton     73      67          1.09   \n",
       "18           Godofredo Pepey     73      67          1.09   \n",
       "19            Cain Carrizosa     74      68          1.09   \n",
       "20             Gilbert Smith     75      69          1.09   \n",
       "21             Shamar Bailey     75      69          1.09   \n",
       "22              Eddie Mendez     76      70          1.09   \n",
       "23             Ricardo Funch     76      70          1.09   \n",
       "24             Gerald Harris     77      71          1.08   \n",
       "25               Kevin Casey     77      71          1.08   \n",
       "26                Denis Kang     77      71          1.08   \n",
       "27           Jared Cannonier     77      71          1.08   \n",
       "28               Jimi Manuwa     79      73          1.08   \n",
       "29            Dominic Waters     79      73          1.08   \n",
       "30           Simeon Thoresen     79      73          1.08   \n",
       "31               Dave Branch     79      73          1.08   \n",
       "32              Shane Carwin     80      74          1.08   \n",
       "33           Aleksei Oleinik     80      74          1.08   \n",
       "34              Brock Lesnar     81      75          1.08   \n",
       "35              Goran Reljic     81      75          1.08   \n",
       "\n",
       "                      Name  Reach  Height  Reach2Height  \n",
       "1       Bernardo Magalhaes     65      69          0.94  \n",
       "2              Artem Lobov     65      69          0.94  \n",
       "3              Sheila Gaff     62      65          0.95  \n",
       "4   Jocelyn Jones-Lybarger     64      67          0.96  \n",
       "5           Cody Garbrandt     65      68          0.96  \n",
       "6             Leslie Smith     66      69          0.96  \n",
       "7              Chris Lytle     68      71          0.96  \n",
       "8             Peggy Morgan     70      73          0.96  \n",
       "9           Milana Dudieva     61      63          0.97  \n",
       "10              Lisa Ellis     62      64          0.97  \n",
       "11        Antonio Banuelos     63      65          0.97  \n",
       "12            Issei Tamura     63      65          0.97  \n",
       "13        Heather Jo Clark     64      66          0.97  \n",
       "14         Jason Reinhardt     64      66          0.97  \n",
       "15            Pedro Munhoz     64      66          0.97  \n",
       "16            Bec Rawlings     64      66          0.97  \n",
       "17           Ivan Menjivar     64      66          0.97  \n",
       "18        Darren Uyenoyama     64      66          0.97  \n",
       "19             Tim Elliott     65      67          0.97  \n",
       "20          Tateki Matsuda     65      67          0.97  \n",
       "21           Lina Lansberg     65      67          0.97  \n",
       "22        Reginaldo Vieira     65      67          0.97  \n",
       "23           Jianping Yang     65      67          0.97  \n",
       "24        Katsunori Kikuno     66      68          0.97  \n",
       "25          Alex Karalexis     66      68          0.97  \n",
       "26          Naoyuki Kotani     66      68          0.97  \n",
       "27            Damien Brown     68      70          0.97  \n",
       "28              Matt Wiman     68      70          0.97  \n",
       "29           Joe Gigliotti     69      71          0.97  \n",
       "30            Walel Watson     69      71          0.97  \n",
       "31            Max Holloway     69      71          0.97  \n",
       "32        Alessandro Ricci     69      71          0.97  \n",
       "33            Daniel Kelly     70      72          0.97  \n",
       "34            Tony DeSouza     70      72          0.97  \n",
       "35               Joe Riggs     70      72          0.97  "
      ]
     },
     "execution_count": 14,
     "metadata": {},
     "output_type": "execute_result"
    }
   ],
   "source": [
    "cols = ['Name', 'Reach', 'Height', 'Reach2Height']\n",
    "sm_reach = win_lose_ufc.sort_values(['Reach2Height'], ascending=True).reset_index(drop=True)[cols]\n",
    "sm_reach = sm_reach[sm_reach.Reach2Height <= 0.98]\n",
    "sm_reach = sm_reach.astype({'Reach':int, 'Height':int})\n",
    "sm_reach.index = range(1, sm_reach.shape[0] + 1)\n",
    "sm_reach.Reach2Height = sm_reach.Reach2Height.apply(lambda x: round(x, 2))\n",
    "sm_reach.columns = ['Name', 'Reach', 'Height', 'Reach/Height']\n",
    "sm_reach = sm_reach.loc[1:35]\n",
    "\n",
    "# join the two tables\n",
    "cmb = raw_reach.merge(sm_reach, left_index=True, right_index=True)\n",
    "cmb.columns = ['Name', 'Reach', 'Height', 'Reach2Height', 'Name', 'Reach', 'Height', 'Reach2Height']\n",
    "cmb.to_latex('report/reach_height/reach2height_large_RAW.tex')\n",
    "cmb"
   ]
  },
  {
   "cell_type": "code",
   "execution_count": 15,
   "metadata": {
    "collapsed": false
   },
   "outputs": [
    {
     "data": {
      "text/plain": [
       "31"
      ]
     },
     "execution_count": 15,
     "metadata": {},
     "output_type": "execute_result"
    }
   ],
   "source": [
    "win_count"
   ]
  },
  {
   "cell_type": "markdown",
   "metadata": {},
   "source": [
    "### Reach2Height vs win ratio"
   ]
  },
  {
   "cell_type": "code",
   "execution_count": 16,
   "metadata": {
    "collapsed": true
   },
   "outputs": [],
   "source": [
    "df05 = df[(df.Date > pd.to_datetime('2005-01-01'))]"
   ]
  },
  {
   "cell_type": "code",
   "execution_count": 17,
   "metadata": {
    "collapsed": false
   },
   "outputs": [
    {
     "data": {
      "text/html": [
       "<div>\n",
       "<table border=\"1\" class=\"dataframe\">\n",
       "  <thead>\n",
       "    <tr style=\"text-align: right;\">\n",
       "      <th></th>\n",
       "      <th>Winner</th>\n",
       "      <th>Outcome</th>\n",
       "      <th>Loser</th>\n",
       "      <th>WeightClass</th>\n",
       "      <th>Method</th>\n",
       "      <th>MethodNotes</th>\n",
       "      <th>Round</th>\n",
       "      <th>Time</th>\n",
       "      <th>Event</th>\n",
       "      <th>Date</th>\n",
       "      <th>...</th>\n",
       "      <th>Stance</th>\n",
       "      <th>Dob</th>\n",
       "      <th>Name_L</th>\n",
       "      <th>Height_L</th>\n",
       "      <th>Reach_L</th>\n",
       "      <th>LegReach_L</th>\n",
       "      <th>Stance_L</th>\n",
       "      <th>Dob_L</th>\n",
       "      <th>ReachDiff</th>\n",
       "      <th>ReachDiffAbs</th>\n",
       "    </tr>\n",
       "  </thead>\n",
       "  <tbody>\n",
       "    <tr>\n",
       "      <th>666</th>\n",
       "      <td>Kajan Johnson</td>\n",
       "      <td>def.</td>\n",
       "      <td>Naoyuki Kotani</td>\n",
       "      <td>Lightweight</td>\n",
       "      <td>U-DEC</td>\n",
       "      <td>NaN</td>\n",
       "      <td>3</td>\n",
       "      <td>5:00</td>\n",
       "      <td>UFC Fight Night: Barnett vs Nelson</td>\n",
       "      <td>2015-09-26</td>\n",
       "      <td>...</td>\n",
       "      <td>Orthodox</td>\n",
       "      <td>1984-04-21</td>\n",
       "      <td>Naoyuki Kotani</td>\n",
       "      <td>68.0</td>\n",
       "      <td>66.0</td>\n",
       "      <td>NaN</td>\n",
       "      <td>Southpaw</td>\n",
       "      <td>1981-12-08</td>\n",
       "      <td>9.0</td>\n",
       "      <td>9.0</td>\n",
       "    </tr>\n",
       "    <tr>\n",
       "      <th>1108</th>\n",
       "      <td>Yan Cabral</td>\n",
       "      <td>def.</td>\n",
       "      <td>Naoyuki Kotani</td>\n",
       "      <td>Lightweight</td>\n",
       "      <td>SUB</td>\n",
       "      <td>Rear Naked Choke</td>\n",
       "      <td>2</td>\n",
       "      <td>3:06</td>\n",
       "      <td>UFC 179: Aldo vs Mendes 2</td>\n",
       "      <td>2014-10-25</td>\n",
       "      <td>...</td>\n",
       "      <td>Orthodox</td>\n",
       "      <td>1983-05-13</td>\n",
       "      <td>Naoyuki Kotani</td>\n",
       "      <td>68.0</td>\n",
       "      <td>66.0</td>\n",
       "      <td>NaN</td>\n",
       "      <td>Southpaw</td>\n",
       "      <td>1981-12-08</td>\n",
       "      <td>7.0</td>\n",
       "      <td>7.0</td>\n",
       "    </tr>\n",
       "    <tr>\n",
       "      <th>1233</th>\n",
       "      <td>Norman Parke</td>\n",
       "      <td>def.</td>\n",
       "      <td>Naoyuki Kotani</td>\n",
       "      <td>Lightweight</td>\n",
       "      <td>KO/TKO</td>\n",
       "      <td>Punches</td>\n",
       "      <td>2</td>\n",
       "      <td>3:41</td>\n",
       "      <td>UFC Fight Night: McGregor vs Brandao</td>\n",
       "      <td>2014-07-19</td>\n",
       "      <td>...</td>\n",
       "      <td>NaN</td>\n",
       "      <td>1986-12-22</td>\n",
       "      <td>Naoyuki Kotani</td>\n",
       "      <td>68.0</td>\n",
       "      <td>66.0</td>\n",
       "      <td>NaN</td>\n",
       "      <td>Southpaw</td>\n",
       "      <td>1981-12-08</td>\n",
       "      <td>4.0</td>\n",
       "      <td>4.0</td>\n",
       "    </tr>\n",
       "    <tr>\n",
       "      <th>3273</th>\n",
       "      <td>Dennis Siver</td>\n",
       "      <td>def.</td>\n",
       "      <td>Naoyuki Kotani</td>\n",
       "      <td>Lightweight</td>\n",
       "      <td>KO/TKO</td>\n",
       "      <td>Punch</td>\n",
       "      <td>2</td>\n",
       "      <td>2:04</td>\n",
       "      <td>UFC 75: Champion vs Champion</td>\n",
       "      <td>2007-09-08</td>\n",
       "      <td>...</td>\n",
       "      <td>Orthodox</td>\n",
       "      <td>1979-01-13</td>\n",
       "      <td>Naoyuki Kotani</td>\n",
       "      <td>68.0</td>\n",
       "      <td>66.0</td>\n",
       "      <td>NaN</td>\n",
       "      <td>Southpaw</td>\n",
       "      <td>1981-12-08</td>\n",
       "      <td>4.0</td>\n",
       "      <td>4.0</td>\n",
       "    </tr>\n",
       "    <tr>\n",
       "      <th>3355</th>\n",
       "      <td>Thiago Tavares</td>\n",
       "      <td>def.</td>\n",
       "      <td>Naoyuki Kotani</td>\n",
       "      <td>Lightweight</td>\n",
       "      <td>U-DEC</td>\n",
       "      <td>NaN</td>\n",
       "      <td>3</td>\n",
       "      <td>5:00</td>\n",
       "      <td>UFC Fight Night: Stevenson vs Guillard</td>\n",
       "      <td>2007-04-05</td>\n",
       "      <td>...</td>\n",
       "      <td>Orthodox</td>\n",
       "      <td>1984-11-08</td>\n",
       "      <td>Naoyuki Kotani</td>\n",
       "      <td>68.0</td>\n",
       "      <td>66.0</td>\n",
       "      <td>NaN</td>\n",
       "      <td>Southpaw</td>\n",
       "      <td>1981-12-08</td>\n",
       "      <td>2.0</td>\n",
       "      <td>2.0</td>\n",
       "    </tr>\n",
       "  </tbody>\n",
       "</table>\n",
       "<p>5 rows × 25 columns</p>\n",
       "</div>"
      ],
      "text/plain": [
       "              Winner Outcome           Loser  WeightClass  Method  \\\n",
       "666    Kajan Johnson    def.  Naoyuki Kotani  Lightweight   U-DEC   \n",
       "1108      Yan Cabral    def.  Naoyuki Kotani  Lightweight     SUB   \n",
       "1233    Norman Parke    def.  Naoyuki Kotani  Lightweight  KO/TKO   \n",
       "3273    Dennis Siver    def.  Naoyuki Kotani  Lightweight  KO/TKO   \n",
       "3355  Thiago Tavares    def.  Naoyuki Kotani  Lightweight   U-DEC   \n",
       "\n",
       "           MethodNotes  Round  Time                                   Event  \\\n",
       "666                NaN      3  5:00      UFC Fight Night: Barnett vs Nelson   \n",
       "1108  Rear Naked Choke      2  3:06               UFC 179: Aldo vs Mendes 2   \n",
       "1233           Punches      2  3:41    UFC Fight Night: McGregor vs Brandao   \n",
       "3273             Punch      2  2:04            UFC 75: Champion vs Champion   \n",
       "3355               NaN      3  5:00  UFC Fight Night: Stevenson vs Guillard   \n",
       "\n",
       "           Date      ...         Stance        Dob          Name_L  Height_L  \\\n",
       "666  2015-09-26      ...       Orthodox 1984-04-21  Naoyuki Kotani      68.0   \n",
       "1108 2014-10-25      ...       Orthodox 1983-05-13  Naoyuki Kotani      68.0   \n",
       "1233 2014-07-19      ...            NaN 1986-12-22  Naoyuki Kotani      68.0   \n",
       "3273 2007-09-08      ...       Orthodox 1979-01-13  Naoyuki Kotani      68.0   \n",
       "3355 2007-04-05      ...       Orthodox 1984-11-08  Naoyuki Kotani      68.0   \n",
       "\n",
       "      Reach_L LegReach_L  Stance_L      Dob_L  ReachDiff  ReachDiffAbs  \n",
       "666      66.0        NaN  Southpaw 1981-12-08        9.0           9.0  \n",
       "1108     66.0        NaN  Southpaw 1981-12-08        7.0           7.0  \n",
       "1233     66.0        NaN  Southpaw 1981-12-08        4.0           4.0  \n",
       "3273     66.0        NaN  Southpaw 1981-12-08        4.0           4.0  \n",
       "3355     66.0        NaN  Southpaw 1981-12-08        2.0           2.0  \n",
       "\n",
       "[5 rows x 25 columns]"
      ]
     },
     "execution_count": 17,
     "metadata": {},
     "output_type": "execute_result"
    }
   ],
   "source": [
    "df05[df05.Loser == 'Naoyuki Kotani']"
   ]
  },
  {
   "cell_type": "code",
   "execution_count": 18,
   "metadata": {
    "collapsed": false
   },
   "outputs": [],
   "source": [
    "fighter_winratio = []\n",
    "for fighter in df05.Winner.append(df05.Loser).unique():\n",
    "     wins = df05[(df05.Winner == fighter) & (df05.Outcome == 'def.')].shape[0]\n",
    "     loses = df05[(df05.Loser == fighter) & (df05.Outcome == 'def.')].shape[0]\n",
    "     draws = df05[((df05.Winner == fighter) | (df05.Loser == fighter)) & (df05.Outcome == 'draw')].shape[0]\n",
    "     total_fights = wins + loses + draws\n",
    "     if total_fights > 4: fighter_winratio.append((fighter, (wins + 0.5 * draws) / total_fights))"
   ]
  },
  {
   "cell_type": "code",
   "execution_count": 19,
   "metadata": {
    "collapsed": false
   },
   "outputs": [
    {
     "data": {
      "text/html": [
       "<div>\n",
       "<table border=\"1\" class=\"dataframe\">\n",
       "  <thead>\n",
       "    <tr style=\"text-align: right;\">\n",
       "      <th></th>\n",
       "      <th>Name</th>\n",
       "      <th>WinRatio</th>\n",
       "    </tr>\n",
       "  </thead>\n",
       "  <tbody>\n",
       "    <tr>\n",
       "      <th>0</th>\n",
       "      <td>Germaine de Randamie</td>\n",
       "      <td>0.800000</td>\n",
       "    </tr>\n",
       "    <tr>\n",
       "      <th>1</th>\n",
       "      <td>Anderson Silva</td>\n",
       "      <td>0.809524</td>\n",
       "    </tr>\n",
       "    <tr>\n",
       "      <th>2</th>\n",
       "      <td>Jacare Souza</td>\n",
       "      <td>0.875000</td>\n",
       "    </tr>\n",
       "  </tbody>\n",
       "</table>\n",
       "</div>"
      ],
      "text/plain": [
       "                   Name  WinRatio\n",
       "0  Germaine de Randamie  0.800000\n",
       "1        Anderson Silva  0.809524\n",
       "2          Jacare Souza  0.875000"
      ]
     },
     "execution_count": 19,
     "metadata": {},
     "output_type": "execute_result"
    }
   ],
   "source": [
    "fighter_winratio = pd.DataFrame(fighter_winratio, columns=['Name', 'WinRatio'])\n",
    "fighter_winratio.head(3)"
   ]
  },
  {
   "cell_type": "code",
   "execution_count": 20,
   "metadata": {
    "collapsed": false
   },
   "outputs": [
    {
     "data": {
      "text/html": [
       "<div>\n",
       "<table border=\"1\" class=\"dataframe\">\n",
       "  <thead>\n",
       "    <tr style=\"text-align: right;\">\n",
       "      <th></th>\n",
       "      <th>Name</th>\n",
       "      <th>WinRatio</th>\n",
       "      <th>Reach2Height</th>\n",
       "    </tr>\n",
       "  </thead>\n",
       "  <tbody>\n",
       "    <tr>\n",
       "      <th>0</th>\n",
       "      <td>Germaine de Randamie</td>\n",
       "      <td>0.800000</td>\n",
       "      <td>1.028986</td>\n",
       "    </tr>\n",
       "    <tr>\n",
       "      <th>1</th>\n",
       "      <td>Anderson Silva</td>\n",
       "      <td>0.809524</td>\n",
       "      <td>1.040541</td>\n",
       "    </tr>\n",
       "    <tr>\n",
       "      <th>2</th>\n",
       "      <td>Jacare Souza</td>\n",
       "      <td>0.875000</td>\n",
       "      <td>0.986301</td>\n",
       "    </tr>\n",
       "  </tbody>\n",
       "</table>\n",
       "</div>"
      ],
      "text/plain": [
       "                   Name  WinRatio  Reach2Height\n",
       "0  Germaine de Randamie  0.800000      1.028986\n",
       "1        Anderson Silva  0.809524      1.040541\n",
       "2          Jacare Souza  0.875000      0.986301"
      ]
     },
     "execution_count": 20,
     "metadata": {},
     "output_type": "execute_result"
    }
   ],
   "source": [
    "win_reach_ratios = fighter_winratio.merge(win_lose_ufc, on='Name', how='left')\n",
    "win_reach_ratios = win_reach_ratios[pd.notnull(win_reach_ratios.Reach2Height)][['Name', 'WinRatio', 'Reach2Height']]\n",
    "win_reach_ratios.head(3)"
   ]
  },
  {
   "cell_type": "code",
   "execution_count": 21,
   "metadata": {
    "collapsed": false
   },
   "outputs": [
    {
     "data": {
      "text/html": [
       "<div>\n",
       "<table border=\"1\" class=\"dataframe\">\n",
       "  <thead>\n",
       "    <tr style=\"text-align: right;\">\n",
       "      <th></th>\n",
       "      <th>Name</th>\n",
       "      <th>WinRatio</th>\n",
       "    </tr>\n",
       "  </thead>\n",
       "  <tbody>\n",
       "    <tr>\n",
       "      <th>553</th>\n",
       "      <td>Naoyuki Kotani</td>\n",
       "      <td>0.0</td>\n",
       "    </tr>\n",
       "    <tr>\n",
       "      <th>554</th>\n",
       "      <td>Pat Healy</td>\n",
       "      <td>0.0</td>\n",
       "    </tr>\n",
       "  </tbody>\n",
       "</table>\n",
       "</div>"
      ],
      "text/plain": [
       "               Name  WinRatio\n",
       "553  Naoyuki Kotani       0.0\n",
       "554       Pat Healy       0.0"
      ]
     },
     "execution_count": 21,
     "metadata": {},
     "output_type": "execute_result"
    }
   ],
   "source": [
    "fighter_winratio[fighter_winratio.WinRatio < 0.1]"
   ]
  },
  {
   "cell_type": "code",
   "execution_count": 22,
   "metadata": {
    "collapsed": false
   },
   "outputs": [
    {
     "data": {
      "image/png": "[encoded data removed]",
      "text/plain": [
       "<matplotlib.figure.Figure at 0x1134b0d50>"
      ]
     },
     "metadata": {},
     "output_type": "display_data"
    }
   ],
   "source": [
    "m, b = np.polyfit(win_reach_ratios.Reach2Height, 100 * win_reach_ratios.WinRatio, 1)\n",
    "plt.plot(np.linspace(0.9, 1.15), m * np.linspace(0.9, 1.15) + b, 'k-')\n",
    "plt.plot(win_reach_ratios.Reach2Height, 100 * win_reach_ratios.WinRatio, 'wo')\n",
    "plt.xlabel('Reach-to-Height Ratio')\n",
    "plt.ylabel('Win Percentage')\n",
    "plt.xlim(0.9, 1.15)\n",
    "plt.ylim(0, 110)\n",
    "plt.savefig('report/reach_height/reach_vs_win_percent.pdf', bbox_tight='inches')"
   ]
  },
  {
   "cell_type": "code",
   "execution_count": 23,
   "metadata": {
    "collapsed": false
   },
   "outputs": [
    {
     "name": "stdout",
     "output_type": "stream",
     "text": [
      "0.0712913573477 0.0939691198519\n",
      "0.052051236691 0.221672368197\n"
     ]
    }
   ],
   "source": [
    "corr_pearson, p_value_pearson = pearsonr(win_reach_ratios.Reach2Height, win_reach_ratios.WinRatio)\n",
    "corr_spearman, p_value_spearman = spearmanr(win_reach_ratios.Reach2Height, win_reach_ratios.WinRatio)\n",
    "print corr_pearson, p_value_pearson\n",
    "print corr_spearman, p_value_spearman"
   ]
  },
  {
   "cell_type": "markdown",
   "metadata": {},
   "source": [
    "### Jones vs other LHW"
   ]
  },
  {
   "cell_type": "code",
   "execution_count": 24,
   "metadata": {
    "collapsed": false
   },
   "outputs": [
    {
     "data": {
      "text/html": [
       "<div>\n",
       "<table border=\"1\" class=\"dataframe\">\n",
       "  <thead>\n",
       "    <tr style=\"text-align: right;\">\n",
       "      <th></th>\n",
       "      <th>Winner</th>\n",
       "      <th>Reach</th>\n",
       "      <th>Height</th>\n",
       "      <th>WeightClass</th>\n",
       "    </tr>\n",
       "  </thead>\n",
       "  <tbody>\n",
       "    <tr>\n",
       "      <th>3</th>\n",
       "      <td>Glover Teixeira</td>\n",
       "      <td>76.0</td>\n",
       "      <td>74.0</td>\n",
       "      <td>Light Heavyweight</td>\n",
       "    </tr>\n",
       "    <tr>\n",
       "      <th>13</th>\n",
       "      <td>Volkan Oezdemir</td>\n",
       "      <td>75.0</td>\n",
       "      <td>73.0</td>\n",
       "      <td>Light Heavyweight</td>\n",
       "    </tr>\n",
       "    <tr>\n",
       "      <th>21</th>\n",
       "      <td>Khalil Rountree Jr.</td>\n",
       "      <td>74.0</td>\n",
       "      <td>73.0</td>\n",
       "      <td>Light Heavyweight</td>\n",
       "    </tr>\n",
       "  </tbody>\n",
       "</table>\n",
       "</div>"
      ],
      "text/plain": [
       "                 Winner  Reach  Height        WeightClass\n",
       "3       Glover Teixeira   76.0    74.0  Light Heavyweight\n",
       "13      Volkan Oezdemir   75.0    73.0  Light Heavyweight\n",
       "21  Khalil Rountree Jr.   74.0    73.0  Light Heavyweight"
      ]
     },
     "execution_count": 24,
     "metadata": {},
     "output_type": "execute_result"
    }
   ],
   "source": [
    "win_jones = df[['Winner', 'Reach', 'Height', 'WeightClass']]\n",
    "lose_jones = df[['Loser', 'Reach_L', 'Height_L', 'WeightClass']]\n",
    "lose_jones.columns = win_jones.columns\n",
    "win_lose_jones = win_jones.append(lose_jones).drop_duplicates()\n",
    "win_lose_jones = win_lose_jones[win_lose_jones.WeightClass == 'Light Heavyweight']\n",
    "win_lose_jones.head(3)"
   ]
  },
  {
   "cell_type": "code",
   "execution_count": 25,
   "metadata": {
    "collapsed": false
   },
   "outputs": [
    {
     "data": {
      "text/plain": [
       "189"
      ]
     },
     "execution_count": 25,
     "metadata": {},
     "output_type": "execute_result"
    }
   ],
   "source": [
    "win_lose_jones.shape[0]"
   ]
  },
  {
   "cell_type": "code",
   "execution_count": 26,
   "metadata": {
    "collapsed": false
   },
   "outputs": [
    {
     "data": {
      "image/png": "[encoded data removed]",
      "text/plain": [
       "<matplotlib.figure.Figure at 0x113507250>"
      ]
     },
     "metadata": {},
     "output_type": "display_data"
    }
   ],
   "source": [
    "fig, (ax1, ax2) = plt.subplots(nrows=1, ncols=2, figsize=(12, 4))\n",
    "\n",
    "dx = norm.rvs(loc=0.0, scale=0.1, size=pd.notnull(win_lose_jones.Height).size)\n",
    "dy = norm.rvs(loc=0.0, scale=0.1, size=pd.notnull(win_lose_jones.Reach).size)\n",
    "\n",
    "ax1.plot(win_lose_jones.Height + dx, win_lose_jones.Reach + dy, 'wo')\n",
    "ax1.set_xlim(66, 80)\n",
    "ax1.set_ylim(68, 86)\n",
    "ax1.arrow(73, 84, 2.0, 0, head_width=1, head_length=0.5, fc='k', ec='k')\n",
    "ax1.text(71.1, 84, 'Jones', fontsize=12, va='center')\n",
    "ax1.set_xlabel('Height (inches)')\n",
    "ax1.set_ylabel('Reach (inches)')\n",
    "\n",
    "_, _, patches = ax2.hist(win_lose_jones[pd.notnull(win_lose_jones.Reach)].Reach, bins=np.arange(68.5, 85.5, 1), color='lightgray')\n",
    "patches[0].set_snap(True)\n",
    "ax2.arrow(84, 9, 0, -5, head_width=0.7, head_length=1.4, fc='k', ec='k')\n",
    "ax2.text(84, 11, 'Jones', fontsize=12, ha='center')\n",
    "ax2.set_xlabel('Reach (inches)')\n",
    "ax2.set_ylabel('Count')\n",
    "#plt.tight_layout()\n",
    "fig.savefig('report/reach_height/jones_reach.pdf', bbox_inches='tight')"
   ]
  },
  {
   "cell_type": "markdown",
   "metadata": {},
   "source": [
    "### End tables. Now create figures beginning with win ratio vs reach differential"
   ]
  },
  {
   "cell_type": "code",
   "execution_count": 27,
   "metadata": {
    "collapsed": false
   },
   "outputs": [],
   "source": [
    "df = df[(df.Date > pd.to_datetime('2005-01-01')) & (df.Outcome == 'def.')]"
   ]
  },
  {
   "cell_type": "code",
   "execution_count": 28,
   "metadata": {
    "collapsed": false
   },
   "outputs": [
    {
     "data": {
      "text/plain": [
       "-12.0      3\n",
       "-11.0      1\n",
       "-10.0      4\n",
       "-9.0       5\n",
       "-8.0      22\n",
       "-7.0      39\n",
       "-6.0      73\n",
       "-5.0     112\n",
       "-4.0     160\n",
       "-3.0     218\n",
       "-2.0     317\n",
       "-1.0     410\n",
       " 0.0     423\n",
       " 1.0     371\n",
       " 2.0     326\n",
       " 3.0     278\n",
       " 4.0     195\n",
       " 5.0     128\n",
       " 6.0      92\n",
       " 7.0      49\n",
       " 8.0      29\n",
       " 9.0      13\n",
       " 10.0     13\n",
       " 11.0      3\n",
       " 12.0      1\n",
       " 13.0      1\n",
       "Name: ReachDiff, dtype: int64"
      ]
     },
     "execution_count": 28,
     "metadata": {},
     "output_type": "execute_result"
    }
   ],
   "source": [
    "by_diff = df.ReachDiff.apply(lambda x: round(x)).value_counts().sort_index()\n",
    "by_diff"
   ]
  },
  {
   "cell_type": "code",
   "execution_count": 29,
   "metadata": {
    "collapsed": false
   },
   "outputs": [
    {
     "data": {
      "text/plain": [
       "0.0     423\n",
       "1.0     781\n",
       "2.0     643\n",
       "3.0     496\n",
       "4.0     355\n",
       "5.0     240\n",
       "6.0     165\n",
       "7.0      88\n",
       "8.0      51\n",
       "9.0      18\n",
       "10.0     17\n",
       "11.0      4\n",
       "12.0      4\n",
       "13.0      1\n",
       "Name: ReachDiffAbs, dtype: int64"
      ]
     },
     "execution_count": 29,
     "metadata": {},
     "output_type": "execute_result"
    }
   ],
   "source": [
    "by_diff_abs = df.ReachDiffAbs.apply(lambda x: round(x)).value_counts().sort_index()\n",
    "by_diff_abs"
   ]
  },
  {
   "cell_type": "code",
   "execution_count": 30,
   "metadata": {
    "collapsed": false
   },
   "outputs": [
    {
     "data": {
      "text/html": [
       "<div>\n",
       "<table border=\"1\" class=\"dataframe\">\n",
       "  <thead>\n",
       "    <tr style=\"text-align: right;\">\n",
       "      <th></th>\n",
       "      <th>N</th>\n",
       "      <th>WinRatio</th>\n",
       "      <th>Wins</th>\n",
       "      <th>Loses</th>\n",
       "      <th>2se_t</th>\n",
       "      <th>2se_z</th>\n",
       "    </tr>\n",
       "  </thead>\n",
       "  <tbody>\n",
       "    <tr>\n",
       "      <th>1.0</th>\n",
       "      <td>781</td>\n",
       "      <td>0.475032</td>\n",
       "      <td>371</td>\n",
       "      <td>410</td>\n",
       "      <td>0.035077</td>\n",
       "      <td>0.035023</td>\n",
       "    </tr>\n",
       "    <tr>\n",
       "      <th>2.0</th>\n",
       "      <td>643</td>\n",
       "      <td>0.506998</td>\n",
       "      <td>326</td>\n",
       "      <td>317</td>\n",
       "      <td>0.038716</td>\n",
       "      <td>0.038643</td>\n",
       "    </tr>\n",
       "    <tr>\n",
       "      <th>3.0</th>\n",
       "      <td>496</td>\n",
       "      <td>0.560484</td>\n",
       "      <td>278</td>\n",
       "      <td>218</td>\n",
       "      <td>0.043786</td>\n",
       "      <td>0.043679</td>\n",
       "    </tr>\n",
       "    <tr>\n",
       "      <th>4.0</th>\n",
       "      <td>355</td>\n",
       "      <td>0.549296</td>\n",
       "      <td>195</td>\n",
       "      <td>160</td>\n",
       "      <td>0.051936</td>\n",
       "      <td>0.051759</td>\n",
       "    </tr>\n",
       "    <tr>\n",
       "      <th>5.0</th>\n",
       "      <td>240</td>\n",
       "      <td>0.533333</td>\n",
       "      <td>128</td>\n",
       "      <td>112</td>\n",
       "      <td>0.063438</td>\n",
       "      <td>0.063117</td>\n",
       "    </tr>\n",
       "    <tr>\n",
       "      <th>6.0</th>\n",
       "      <td>165</td>\n",
       "      <td>0.557576</td>\n",
       "      <td>92</td>\n",
       "      <td>73</td>\n",
       "      <td>0.076347</td>\n",
       "      <td>0.075784</td>\n",
       "    </tr>\n",
       "    <tr>\n",
       "      <th>7.0</th>\n",
       "      <td>88</td>\n",
       "      <td>0.556818</td>\n",
       "      <td>49</td>\n",
       "      <td>39</td>\n",
       "      <td>0.105254</td>\n",
       "      <td>0.103790</td>\n",
       "    </tr>\n",
       "    <tr>\n",
       "      <th>8.0</th>\n",
       "      <td>51</td>\n",
       "      <td>0.568627</td>\n",
       "      <td>29</td>\n",
       "      <td>22</td>\n",
       "      <td>0.139296</td>\n",
       "      <td>0.135926</td>\n",
       "    </tr>\n",
       "    <tr>\n",
       "      <th>9.0</th>\n",
       "      <td>18</td>\n",
       "      <td>0.722222</td>\n",
       "      <td>13</td>\n",
       "      <td>5</td>\n",
       "      <td>0.222737</td>\n",
       "      <td>0.206917</td>\n",
       "    </tr>\n",
       "    <tr>\n",
       "      <th>10.0</th>\n",
       "      <td>17</td>\n",
       "      <td>0.764706</td>\n",
       "      <td>13</td>\n",
       "      <td>4</td>\n",
       "      <td>0.218095</td>\n",
       "      <td>0.201640</td>\n",
       "    </tr>\n",
       "  </tbody>\n",
       "</table>\n",
       "</div>"
      ],
      "text/plain": [
       "        N  WinRatio  Wins  Loses     2se_t     2se_z\n",
       "1.0   781  0.475032   371    410  0.035077  0.035023\n",
       "2.0   643  0.506998   326    317  0.038716  0.038643\n",
       "3.0   496  0.560484   278    218  0.043786  0.043679\n",
       "4.0   355  0.549296   195    160  0.051936  0.051759\n",
       "5.0   240  0.533333   128    112  0.063438  0.063117\n",
       "6.0   165  0.557576    92     73  0.076347  0.075784\n",
       "7.0    88  0.556818    49     39  0.105254  0.103790\n",
       "8.0    51  0.568627    29     22  0.139296  0.135926\n",
       "9.0    18  0.722222    13      5  0.222737  0.206917\n",
       "10.0   17  0.764706    13      4  0.218095  0.201640"
      ]
     },
     "execution_count": 30,
     "metadata": {},
     "output_type": "execute_result"
    }
   ],
   "source": [
    "from scipy.stats import t, norm\n",
    "\n",
    "rdf = pd.DataFrame({'N':by_diff_abs.loc[1:10], 'Wins':by_diff.loc[1:10], 'WinRatio':by_diff.loc[1:10] / by_diff_abs.loc[1:10]})\n",
    "rdf['Loses'] = rdf.N - rdf.Wins\n",
    "rdf['2se_t'] = -t.ppf(0.025, rdf.N - 1) * np.sqrt(rdf.WinRatio * (1.0 - rdf.WinRatio) / rdf.N)\n",
    "rdf['2se_z'] = -norm.ppf(0.025) * np.sqrt(rdf.WinRatio * (1.0 - rdf.WinRatio) / rdf.N)\n",
    "rdf"
   ]
  },
  {
   "cell_type": "code",
   "execution_count": 31,
   "metadata": {
    "collapsed": false
   },
   "outputs": [
    {
     "data": {
      "text/html": [
       "<div>\n",
       "<table border=\"1\" class=\"dataframe\">\n",
       "  <thead>\n",
       "    <tr style=\"text-align: right;\">\n",
       "      <th></th>\n",
       "      <th>1.0</th>\n",
       "      <th>2.0</th>\n",
       "      <th>3.0</th>\n",
       "      <th>4.0</th>\n",
       "      <th>5.0</th>\n",
       "      <th>6.0</th>\n",
       "      <th>7.0</th>\n",
       "      <th>8.0</th>\n",
       "      <th>9.0</th>\n",
       "      <th>10.0</th>\n",
       "    </tr>\n",
       "  </thead>\n",
       "  <tbody>\n",
       "    <tr>\n",
       "      <th>Wins</th>\n",
       "      <td>371</td>\n",
       "      <td>326</td>\n",
       "      <td>278</td>\n",
       "      <td>195</td>\n",
       "      <td>128</td>\n",
       "      <td>92</td>\n",
       "      <td>49</td>\n",
       "      <td>29</td>\n",
       "      <td>13</td>\n",
       "      <td>13</td>\n",
       "    </tr>\n",
       "    <tr>\n",
       "      <th>Loses</th>\n",
       "      <td>410</td>\n",
       "      <td>317</td>\n",
       "      <td>218</td>\n",
       "      <td>160</td>\n",
       "      <td>112</td>\n",
       "      <td>73</td>\n",
       "      <td>39</td>\n",
       "      <td>22</td>\n",
       "      <td>5</td>\n",
       "      <td>4</td>\n",
       "    </tr>\n",
       "  </tbody>\n",
       "</table>\n",
       "</div>"
      ],
      "text/plain": [
       "       1.0   2.0   3.0   4.0   5.0   6.0   7.0   8.0   9.0   10.0\n",
       "Wins    371   326   278   195   128    92    49    29    13    13\n",
       "Loses   410   317   218   160   112    73    39    22     5     4"
      ]
     },
     "execution_count": 31,
     "metadata": {},
     "output_type": "execute_result"
    }
   ],
   "source": [
    "cont_table = rdf[['Wins', 'Loses']].T\n",
    "cont_table"
   ]
  },
  {
   "cell_type": "code",
   "execution_count": 32,
   "metadata": {
    "collapsed": false
   },
   "outputs": [
    {
     "name": "stdout",
     "output_type": "stream",
     "text": [
      "20.2072240779 0.0166757390866 False\n"
     ]
    }
   ],
   "source": [
    "from scipy.stats import chi2_contingency\n",
    "\n",
    "chi_sq, p_value, dof, expect = chi2_contingency(cont_table)\n",
    "print chi_sq, p_value, p_value > 0.05"
   ]
  },
  {
   "cell_type": "code",
   "execution_count": 33,
   "metadata": {
    "collapsed": false
   },
   "outputs": [
    {
     "data": {
      "text/plain": [
       "0.084144618221939541"
      ]
     },
     "execution_count": 33,
     "metadata": {},
     "output_type": "execute_result"
    }
   ],
   "source": [
    "N = cont_table.sum().sum()\n",
    "V = (chi_sq / (N * min(cont_table.shape[0] - 1, cont_table.shape[1] - 1)))**0.5\n",
    "V"
   ]
  },
  {
   "cell_type": "code",
   "execution_count": 34,
   "metadata": {
    "collapsed": false
   },
   "outputs": [
    {
     "data": {
      "image/png": "[encoded data removed]",
      "text/plain": [
       "<matplotlib.figure.Figure at 0x113dc5450>"
      ]
     },
     "metadata": {},
     "output_type": "display_data"
    }
   ],
   "source": [
    "fig, ax = plt.subplots()\n",
    "plt.plot([0, 25], [50, 50], 'k:')\n",
    "plt.errorbar(rdf.index, 100 * rdf.WinRatio, color='k', marker='o', mfc='w', yerr=100*rdf['2se_t'], ecolor='gray', elinewidth=0.5, capsize=2)\n",
    "plt.xlabel('Reach Difference (inches)')\n",
    "plt.ylabel('Win Percentage of\\n Fighter with Longer Reach')\n",
    "plt.xlim(0, 12)\n",
    "plt.ylim(0, 100)\n",
    "major_ticks = np.arange(0, 13, 1)\n",
    "ax.set_xticks(major_ticks)\n",
    "#minor_ticks = np.arange(0, 25, 1)\n",
    "#ax.set_xticks(minor_ticks, minor = True)\n",
    "plt.savefig('report/reach_height/winratio_reach_diff.pdf', bbox_inches='tight')"
   ]
  }
 ],
 "metadata": {
  "kernelspec": {
   "display_name": "Python [conda root]",
   "language": "python",
   "name": "conda-root-py"
  },
  "language_info": {
   "codemirror_mode": {
    "name": "ipython",
    "version": 2
   },
   "file_extension": ".py",
   "mimetype": "text/x-python",
   "name": "python",
   "nbconvert_exporter": "python",
   "pygments_lexer": "ipython2",
   "version": "2.7.12"
  }
 },
 "nbformat": 4,
 "nbformat_minor": 1
}
