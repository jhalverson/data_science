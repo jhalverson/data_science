{
 "cells": [
  {
   "cell_type": "markdown",
   "metadata": {},
   "source": [
    "# Jonathan Halverson\n",
    "# Tuesday, February 14, 2017\n",
    "# Analysis of fighter dimensions and stance"
   ]
  },
  {
   "cell_type": "code",
   "execution_count": 1,
   "metadata": {
    "collapsed": true
   },
   "outputs": [],
   "source": [
    "import numpy as np\n",
    "import pandas as pd\n",
    "import matplotlib.pyplot as plt\n",
    "%matplotlib inline"
   ]
  },
  {
   "cell_type": "code",
   "execution_count": 16,
   "metadata": {
    "collapsed": false
   },
   "outputs": [
    {
     "data": {
      "text/html": [
       "<div>\n",
       "<table border=\"1\" class=\"dataframe\">\n",
       "  <thead>\n",
       "    <tr style=\"text-align: right;\">\n",
       "      <th></th>\n",
       "      <th>First</th>\n",
       "      <th>Last</th>\n",
       "      <th>Nickname</th>\n",
       "      <th>Height</th>\n",
       "      <th>Weight</th>\n",
       "      <th>Reach</th>\n",
       "      <th>Stance</th>\n",
       "      <th>Win</th>\n",
       "      <th>Loss</th>\n",
       "      <th>Draw</th>\n",
       "      <th>Belt</th>\n",
       "      <th>Name</th>\n",
       "      <th>Dob</th>\n",
       "      <th>Fights</th>\n",
       "      <th>WinRatio</th>\n",
       "    </tr>\n",
       "  </thead>\n",
       "  <tbody>\n",
       "    <tr>\n",
       "      <th>0</th>\n",
       "      <td>Tom</td>\n",
       "      <td>Aaron</td>\n",
       "      <td>NaN</td>\n",
       "      <td>NaN</td>\n",
       "      <td>155.0</td>\n",
       "      <td>NaN</td>\n",
       "      <td>NaN</td>\n",
       "      <td>5.0</td>\n",
       "      <td>3.0</td>\n",
       "      <td>0.0</td>\n",
       "      <td>0</td>\n",
       "      <td>Tom Aaron</td>\n",
       "      <td>1983-07-03</td>\n",
       "      <td>8.0</td>\n",
       "      <td>0.625000</td>\n",
       "    </tr>\n",
       "    <tr>\n",
       "      <th>1</th>\n",
       "      <td>Danny</td>\n",
       "      <td>Abbadi</td>\n",
       "      <td>The Assassin</td>\n",
       "      <td>71.0</td>\n",
       "      <td>155.0</td>\n",
       "      <td>NaN</td>\n",
       "      <td>Orthodox</td>\n",
       "      <td>4.0</td>\n",
       "      <td>6.0</td>\n",
       "      <td>0.0</td>\n",
       "      <td>0</td>\n",
       "      <td>Danny Abbadi</td>\n",
       "      <td>NaN</td>\n",
       "      <td>10.0</td>\n",
       "      <td>0.400000</td>\n",
       "    </tr>\n",
       "    <tr>\n",
       "      <th>2</th>\n",
       "      <td>David</td>\n",
       "      <td>Abbott</td>\n",
       "      <td>Tank</td>\n",
       "      <td>72.0</td>\n",
       "      <td>265.0</td>\n",
       "      <td>NaN</td>\n",
       "      <td>Switch</td>\n",
       "      <td>10.0</td>\n",
       "      <td>14.0</td>\n",
       "      <td>0.0</td>\n",
       "      <td>0</td>\n",
       "      <td>David Abbott</td>\n",
       "      <td>1981-09-02</td>\n",
       "      <td>24.0</td>\n",
       "      <td>0.416667</td>\n",
       "    </tr>\n",
       "  </tbody>\n",
       "</table>\n",
       "</div>"
      ],
      "text/plain": [
       "   First    Last      Nickname  Height  Weight  Reach    Stance   Win  Loss  \\\n",
       "0    Tom   Aaron           NaN     NaN   155.0    NaN       NaN   5.0   3.0   \n",
       "1  Danny  Abbadi  The Assassin    71.0   155.0    NaN  Orthodox   4.0   6.0   \n",
       "2  David  Abbott          Tank    72.0   265.0    NaN    Switch  10.0  14.0   \n",
       "\n",
       "   Draw  Belt          Name         Dob  Fights  WinRatio  \n",
       "0   0.0     0     Tom Aaron  1983-07-03     8.0  0.625000  \n",
       "1   0.0     0  Danny Abbadi         NaN    10.0  0.400000  \n",
       "2   0.0     0  David Abbott  1981-09-02    24.0  0.416667  "
      ]
     },
     "execution_count": 16,
     "metadata": {},
     "output_type": "execute_result"
    }
   ],
   "source": [
    "df = pd.read_csv('fightmetric_fighters/fighters.csv', header=0)\n",
    "df['Fights'] = df['Win'] + df['Loss'] + df['Draw']\n",
    "df['WinRatio'] = df['Win'] / df['Fights']\n",
    "df.head(3)"
   ]
  },
  {
   "cell_type": "code",
   "execution_count": 3,
   "metadata": {
    "collapsed": false
   },
   "outputs": [
    {
     "data": {
      "text/plain": [
       "<matplotlib.text.Text at 0x10f127e90>"
      ]
     },
     "execution_count": 3,
     "metadata": {},
     "output_type": "execute_result"
    },
    {
     "data": {
      "image/png": "[encoded data removed]",
      "text/plain": [
       "<matplotlib.figure.Figure at 0x10f0ef9d0>"
      ]
     },
     "metadata": {},
     "output_type": "display_data"
    }
   ],
   "source": [
    "plt.hist(df.Reach.dropna(), bins=25)\n",
    "plt.xlabel('Reach (inches)')\n",
    "plt.ylabel('Count')"
   ]
  },
  {
   "cell_type": "code",
   "execution_count": 4,
   "metadata": {
    "collapsed": false
   },
   "outputs": [
    {
     "data": {
      "text/plain": [
       "<matplotlib.text.Text at 0x10f2fa490>"
      ]
     },
     "execution_count": 4,
     "metadata": {},
     "output_type": "execute_result"
    },
    {
     "data": {
      "image/png": "[encoded data removed]",
      "text/plain": [
       "<matplotlib.figure.Figure at 0x10f0ef650>"
      ]
     },
     "metadata": {},
     "output_type": "display_data"
    }
   ],
   "source": [
    "plt.plot(df.Height, df.Weight, 'wo')\n",
    "plt.xlabel('Heights (inches)')\n",
    "plt.ylabel('Weight (lbs.)')"
   ]
  },
  {
   "cell_type": "code",
   "execution_count": 5,
   "metadata": {
    "collapsed": false,
    "scrolled": true
   },
   "outputs": [
    {
     "data": {
      "text/plain": [
       "<matplotlib.text.Text at 0x10f566490>"
      ]
     },
     "execution_count": 5,
     "metadata": {},
     "output_type": "execute_result"
    },
    {
     "data": {
      "image/png": "[encoded data removed]",
      "text/plain": [
       "<matplotlib.figure.Figure at 0x10f30edd0>"
      ]
     },
     "metadata": {},
     "output_type": "display_data"
    }
   ],
   "source": [
    "plt.plot(df.Height, df.Reach, 'wo')\n",
    "plt.xlabel('Height (inches)')\n",
    "plt.ylabel('Reach (inches)')"
   ]
  },
  {
   "cell_type": "code",
   "execution_count": 6,
   "metadata": {
    "collapsed": false,
    "scrolled": true
   },
   "outputs": [
    {
     "data": {
      "text/plain": [
       "<matplotlib.text.Text at 0x112599250>"
      ]
     },
     "execution_count": 6,
     "metadata": {},
     "output_type": "execute_result"
    },
    {
     "data": {
      "image/png": "[encoded data removed]",
      "text/plain": [
       "<matplotlib.figure.Figure at 0x10f30ed10>"
      ]
     },
     "metadata": {},
     "output_type": "display_data"
    }
   ],
   "source": [
    "lw = df[(df.Weight == 155.0) & (df.Fights > 5)][['WinRatio', 'Reach']].dropna()\n",
    "plt.plot(lw.Reach, lw.WinRatio, 'wo')\n",
    "plt.ylim(0, 1.2)\n",
    "plt.xlabel('Reach (inches)')\n",
    "plt.ylabel('Win ratio')"
   ]
  },
  {
   "cell_type": "code",
   "execution_count": 7,
   "metadata": {
    "collapsed": false
   },
   "outputs": [
    {
     "data": {
      "text/plain": [
       "((-0.0033084133726401944, 0.96688096897182474),\n",
       " SpearmanrResult(correlation=0.013952999836294309, pvalue=0.86098712887711981))"
      ]
     },
     "execution_count": 7,
     "metadata": {},
     "output_type": "execute_result"
    }
   ],
   "source": [
    "from scipy.stats import pearsonr, spearmanr\n",
    "\n",
    "pearsonr(lw.Reach, lw.WinRatio), spearmanr(lw.Reach, lw.WinRatio)"
   ]
  },
  {
   "cell_type": "code",
   "execution_count": 8,
   "metadata": {
    "collapsed": false
   },
   "outputs": [
    {
     "data": {
      "text/html": [
       "<div>\n",
       "<table border=\"1\" class=\"dataframe\">\n",
       "  <thead>\n",
       "    <tr>\n",
       "      <th></th>\n",
       "      <th>Height</th>\n",
       "      <th>Reach</th>\n",
       "      <th colspan=\"3\" halign=\"left\">WinRatio</th>\n",
       "    </tr>\n",
       "    <tr>\n",
       "      <th></th>\n",
       "      <th>mean</th>\n",
       "      <th>mean</th>\n",
       "      <th>size</th>\n",
       "      <th>mean</th>\n",
       "      <th>std</th>\n",
       "    </tr>\n",
       "    <tr>\n",
       "      <th>Stance</th>\n",
       "      <th></th>\n",
       "      <th></th>\n",
       "      <th></th>\n",
       "      <th></th>\n",
       "      <th></th>\n",
       "    </tr>\n",
       "  </thead>\n",
       "  <tbody>\n",
       "    <tr>\n",
       "      <th>Open Stance</th>\n",
       "      <td>72.666667</td>\n",
       "      <td>NaN</td>\n",
       "      <td>3.0</td>\n",
       "      <td>0.552751</td>\n",
       "      <td>0.163494</td>\n",
       "    </tr>\n",
       "    <tr>\n",
       "      <th>Orthodox</th>\n",
       "      <td>70.722642</td>\n",
       "      <td>72.121870</td>\n",
       "      <td>1078.0</td>\n",
       "      <td>0.657552</td>\n",
       "      <td>0.194223</td>\n",
       "    </tr>\n",
       "    <tr>\n",
       "      <th>Sideways</th>\n",
       "      <td>72.500000</td>\n",
       "      <td>NaN</td>\n",
       "      <td>2.0</td>\n",
       "      <td>0.583333</td>\n",
       "      <td>0.117851</td>\n",
       "    </tr>\n",
       "    <tr>\n",
       "      <th>Southpaw</th>\n",
       "      <td>70.160870</td>\n",
       "      <td>71.817518</td>\n",
       "      <td>231.0</td>\n",
       "      <td>0.682432</td>\n",
       "      <td>0.176863</td>\n",
       "    </tr>\n",
       "    <tr>\n",
       "      <th>Switch</th>\n",
       "      <td>70.805556</td>\n",
       "      <td>72.461538</td>\n",
       "      <td>36.0</td>\n",
       "      <td>0.720593</td>\n",
       "      <td>0.159737</td>\n",
       "    </tr>\n",
       "  </tbody>\n",
       "</table>\n",
       "</div>"
      ],
      "text/plain": [
       "                Height      Reach WinRatio                    \n",
       "                  mean       mean     size      mean       std\n",
       "Stance                                                        \n",
       "Open Stance  72.666667        NaN      3.0  0.552751  0.163494\n",
       "Orthodox     70.722642  72.121870   1078.0  0.657552  0.194223\n",
       "Sideways     72.500000        NaN      2.0  0.583333  0.117851\n",
       "Southpaw     70.160870  71.817518    231.0  0.682432  0.176863\n",
       "Switch       70.805556  72.461538     36.0  0.720593  0.159737"
      ]
     },
     "execution_count": 8,
     "metadata": {},
     "output_type": "execute_result"
    }
   ],
   "source": [
    "df.groupby('Stance').agg({'WinRatio':[np.size, np.mean, np.std], 'Height':np.mean, 'Reach':np.mean})"
   ]
  },
  {
   "cell_type": "code",
   "execution_count": 9,
   "metadata": {
    "collapsed": false
   },
   "outputs": [
    {
     "data": {
      "text/html": [
       "<div>\n",
       "<table border=\"1\" class=\"dataframe\">\n",
       "  <thead>\n",
       "    <tr style=\"text-align: right;\">\n",
       "      <th></th>\n",
       "      <th>First</th>\n",
       "      <th>Last</th>\n",
       "      <th>Nickname</th>\n",
       "      <th>Height</th>\n",
       "      <th>Weight</th>\n",
       "      <th>Reach</th>\n",
       "      <th>Stance</th>\n",
       "      <th>Win</th>\n",
       "      <th>Loss</th>\n",
       "      <th>Draw</th>\n",
       "      <th>Belt</th>\n",
       "      <th>Name</th>\n",
       "      <th>Dob</th>\n",
       "      <th>Fights</th>\n",
       "      <th>WinRatio</th>\n",
       "    </tr>\n",
       "  </thead>\n",
       "  <tbody>\n",
       "    <tr>\n",
       "      <th>44</th>\n",
       "      <td>George</td>\n",
       "      <td>Allen</td>\n",
       "      <td>NaN</td>\n",
       "      <td>74.0</td>\n",
       "      <td>205.0</td>\n",
       "      <td>NaN</td>\n",
       "      <td>Open Stance</td>\n",
       "      <td>13.0</td>\n",
       "      <td>19.0</td>\n",
       "      <td>2.0</td>\n",
       "      <td>0</td>\n",
       "      <td>George Allen</td>\n",
       "      <td>1994-01-22</td>\n",
       "      <td>34.0</td>\n",
       "      <td>0.382353</td>\n",
       "    </tr>\n",
       "    <tr>\n",
       "      <th>770</th>\n",
       "      <td>Xavier</td>\n",
       "      <td>Foupa-Pokam</td>\n",
       "      <td>Professor X</td>\n",
       "      <td>73.0</td>\n",
       "      <td>185.0</td>\n",
       "      <td>NaN</td>\n",
       "      <td>Open Stance</td>\n",
       "      <td>21.0</td>\n",
       "      <td>16.0</td>\n",
       "      <td>0.0</td>\n",
       "      <td>0</td>\n",
       "      <td>Xavier Foupa-Pokam</td>\n",
       "      <td>NaN</td>\n",
       "      <td>37.0</td>\n",
       "      <td>0.567568</td>\n",
       "    </tr>\n",
       "    <tr>\n",
       "      <th>1731</th>\n",
       "      <td>Flavio Luiz</td>\n",
       "      <td>Moura</td>\n",
       "      <td>NaN</td>\n",
       "      <td>71.0</td>\n",
       "      <td>183.0</td>\n",
       "      <td>NaN</td>\n",
       "      <td>Open Stance</td>\n",
       "      <td>17.0</td>\n",
       "      <td>7.0</td>\n",
       "      <td>0.0</td>\n",
       "      <td>0</td>\n",
       "      <td>Flavio Luiz Moura</td>\n",
       "      <td>1985-08-01</td>\n",
       "      <td>24.0</td>\n",
       "      <td>0.708333</td>\n",
       "    </tr>\n",
       "  </tbody>\n",
       "</table>\n",
       "</div>"
      ],
      "text/plain": [
       "            First         Last     Nickname  Height  Weight  Reach  \\\n",
       "44         George        Allen          NaN    74.0   205.0    NaN   \n",
       "770        Xavier  Foupa-Pokam  Professor X    73.0   185.0    NaN   \n",
       "1731  Flavio Luiz        Moura          NaN    71.0   183.0    NaN   \n",
       "\n",
       "           Stance   Win  Loss  Draw  Belt                Name         Dob  \\\n",
       "44    Open Stance  13.0  19.0   2.0     0        George Allen  1994-01-22   \n",
       "770   Open Stance  21.0  16.0   0.0     0  Xavier Foupa-Pokam         NaN   \n",
       "1731  Open Stance  17.0   7.0   0.0     0   Flavio Luiz Moura  1985-08-01   \n",
       "\n",
       "      Fights  WinRatio  \n",
       "44      34.0  0.382353  \n",
       "770     37.0  0.567568  \n",
       "1731    24.0  0.708333  "
      ]
     },
     "execution_count": 9,
     "metadata": {},
     "output_type": "execute_result"
    }
   ],
   "source": [
    "df[df.Stance == 'Open Stance']"
   ]
  },
  {
   "cell_type": "code",
   "execution_count": 10,
   "metadata": {
    "collapsed": false
   },
   "outputs": [
    {
     "data": {
      "text/html": [
       "<div>\n",
       "<table border=\"1\" class=\"dataframe\">\n",
       "  <thead>\n",
       "    <tr style=\"text-align: right;\">\n",
       "      <th></th>\n",
       "      <th>First</th>\n",
       "      <th>Last</th>\n",
       "      <th>Nickname</th>\n",
       "      <th>Height</th>\n",
       "      <th>Weight</th>\n",
       "      <th>Reach</th>\n",
       "      <th>Stance</th>\n",
       "      <th>Win</th>\n",
       "      <th>Loss</th>\n",
       "      <th>Draw</th>\n",
       "      <th>Belt</th>\n",
       "      <th>Name</th>\n",
       "      <th>Dob</th>\n",
       "      <th>Fights</th>\n",
       "      <th>WinRatio</th>\n",
       "    </tr>\n",
       "  </thead>\n",
       "  <tbody>\n",
       "    <tr>\n",
       "      <th>955</th>\n",
       "      <td>Keith</td>\n",
       "      <td>Hackney</td>\n",
       "      <td>The Giant Killer</td>\n",
       "      <td>71.0</td>\n",
       "      <td>200.0</td>\n",
       "      <td>NaN</td>\n",
       "      <td>Sideways</td>\n",
       "      <td>2.0</td>\n",
       "      <td>2.0</td>\n",
       "      <td>0.0</td>\n",
       "      <td>0</td>\n",
       "      <td>Keith Hackney</td>\n",
       "      <td>NaN</td>\n",
       "      <td>4.0</td>\n",
       "      <td>0.500000</td>\n",
       "    </tr>\n",
       "    <tr>\n",
       "      <th>1793</th>\n",
       "      <td>Jeff</td>\n",
       "      <td>Newton</td>\n",
       "      <td>NaN</td>\n",
       "      <td>74.0</td>\n",
       "      <td>205.0</td>\n",
       "      <td>NaN</td>\n",
       "      <td>Sideways</td>\n",
       "      <td>4.0</td>\n",
       "      <td>2.0</td>\n",
       "      <td>0.0</td>\n",
       "      <td>0</td>\n",
       "      <td>Jeff Newton</td>\n",
       "      <td>1976-08-17</td>\n",
       "      <td>6.0</td>\n",
       "      <td>0.666667</td>\n",
       "    </tr>\n",
       "  </tbody>\n",
       "</table>\n",
       "</div>"
      ],
      "text/plain": [
       "      First     Last          Nickname  Height  Weight  Reach    Stance  Win  \\\n",
       "955   Keith  Hackney  The Giant Killer    71.0   200.0    NaN  Sideways  2.0   \n",
       "1793   Jeff   Newton               NaN    74.0   205.0    NaN  Sideways  4.0   \n",
       "\n",
       "      Loss  Draw  Belt           Name         Dob  Fights  WinRatio  \n",
       "955    2.0   0.0     0  Keith Hackney         NaN     4.0  0.500000  \n",
       "1793   2.0   0.0     0    Jeff Newton  1976-08-17     6.0  0.666667  "
      ]
     },
     "execution_count": 10,
     "metadata": {},
     "output_type": "execute_result"
    }
   ],
   "source": [
    "df[df.Stance == 'Sideways']"
   ]
  },
  {
   "cell_type": "code",
   "execution_count": 11,
   "metadata": {
    "collapsed": false
   },
   "outputs": [
    {
     "data": {
      "text/html": [
       "<div>\n",
       "<table border=\"1\" class=\"dataframe\">\n",
       "  <thead>\n",
       "    <tr>\n",
       "      <th></th>\n",
       "      <th>Height</th>\n",
       "      <th>Reach</th>\n",
       "      <th colspan=\"3\" halign=\"left\">WinRatio</th>\n",
       "    </tr>\n",
       "    <tr>\n",
       "      <th></th>\n",
       "      <th>mean</th>\n",
       "      <th>mean</th>\n",
       "      <th>size</th>\n",
       "      <th>mean</th>\n",
       "      <th>std</th>\n",
       "    </tr>\n",
       "    <tr>\n",
       "      <th>Stance</th>\n",
       "      <th></th>\n",
       "      <th></th>\n",
       "      <th></th>\n",
       "      <th></th>\n",
       "      <th></th>\n",
       "    </tr>\n",
       "  </thead>\n",
       "  <tbody>\n",
       "    <tr>\n",
       "      <th>Orthodox</th>\n",
       "      <td>70.653251</td>\n",
       "      <td>72.150592</td>\n",
       "      <td>981.0</td>\n",
       "      <td>0.692142</td>\n",
       "      <td>0.138646</td>\n",
       "    </tr>\n",
       "    <tr>\n",
       "      <th>Southpaw</th>\n",
       "      <td>70.018779</td>\n",
       "      <td>71.817518</td>\n",
       "      <td>213.0</td>\n",
       "      <td>0.708568</td>\n",
       "      <td>0.134291</td>\n",
       "    </tr>\n",
       "  </tbody>\n",
       "</table>\n",
       "</div>"
      ],
      "text/plain": [
       "             Height      Reach WinRatio                    \n",
       "               mean       mean     size      mean       std\n",
       "Stance                                                     \n",
       "Orthodox  70.653251  72.150592    981.0  0.692142  0.138646\n",
       "Southpaw  70.018779  71.817518    213.0  0.708568  0.134291"
      ]
     },
     "execution_count": 11,
     "metadata": {},
     "output_type": "execute_result"
    }
   ],
   "source": [
    "stance = df[df.Stance.isin(['Orthodox', 'Southpaw']) & (df.Fights > 5)].groupby('Stance').agg({'WinRatio':[np.size, np.mean, np.std], 'Height':np.mean, 'Reach':np.mean})\n",
    "stance"
   ]
  },
  {
   "cell_type": "code",
   "execution_count": 12,
   "metadata": {
    "collapsed": false,
    "scrolled": true
   },
   "outputs": [
    {
     "data": {
      "text/plain": [
       "<matplotlib.text.Text at 0x1140c0550>"
      ]
     },
     "execution_count": 12,
     "metadata": {},
     "output_type": "execute_result"
    },
    {
     "data": {
      "image/png": "[encoded data removed]",
      "text/plain": [
       "<matplotlib.figure.Figure at 0x113cfc050>"
      ]
     },
     "metadata": {},
     "output_type": "display_data"
    }
   ],
   "source": [
    "fig = plt.figure(1, figsize=(4, 3))\n",
    "plt.bar(range(stance.shape[0]), stance[('WinRatio', 'mean')], width=0.5, tick_label=stance.index.values, align='center')\n",
    "plt.ylim(0, 1)\n",
    "plt.ylabel('Win ratio')"
   ]
  },
  {
   "cell_type": "code",
   "execution_count": 13,
   "metadata": {
    "collapsed": false
   },
   "outputs": [],
   "source": [
    "orthodox = df[(df.Stance == 'Orthodox') & (df.Fights > 5)].WinRatio\n",
    "southpaw = df[(df.Stance == 'Southpaw') & (df.Fights > 5)].WinRatio"
   ]
  },
  {
   "cell_type": "markdown",
   "metadata": {},
   "source": [
    "# T-test"
   ]
  },
  {
   "cell_type": "code",
   "execution_count": 14,
   "metadata": {
    "collapsed": false,
    "scrolled": true
   },
   "outputs": [
    {
     "data": {
      "text/plain": [
       "(0, 1.2)"
      ]
     },
     "execution_count": 14,
     "metadata": {},
     "output_type": "execute_result"
    },
    {
     "data": {
      "image/png": "[encoded data removed]",
      "text/plain": [
       "<matplotlib.figure.Figure at 0x114312c90>"
      ]
     },
     "metadata": {},
     "output_type": "display_data"
    }
   ],
   "source": [
    "fig = plt.figure(1, figsize=(4, 3))\n",
    "plt.boxplot([orthodox, southpaw], labels=stance.index)\n",
    "plt.ylabel('Win ratio')\n",
    "plt.ylim(0, 1.2)"
   ]
  },
  {
   "cell_type": "code",
   "execution_count": 15,
   "metadata": {
    "collapsed": false
   },
   "outputs": [
    {
     "data": {
      "text/plain": [
       "(2.4837746066138235, 0.11529124953873317, True)"
      ]
     },
     "execution_count": 15,
     "metadata": {},
     "output_type": "execute_result"
    }
   ],
   "source": [
    "from scipy.stats import f_oneway\n",
    "\n",
    "F_statistic, p_value = f_oneway(orthodox, southpaw)\n",
    "F_statistic, p_value, p_value > 0.05"
   ]
  }
 ],
 "metadata": {
  "anaconda-cloud": {},
  "kernelspec": {
   "display_name": "Python [conda root]",
   "language": "python",
   "name": "conda-root-py"
  },
  "language_info": {
   "codemirror_mode": {
    "name": "ipython",
    "version": 2
   },
   "file_extension": ".py",
   "mimetype": "text/x-python",
   "name": "python",
   "nbconvert_exporter": "python",
   "pygments_lexer": "ipython2",
   "version": "2.7.12"
  }
 },
 "nbformat": 4,
 "nbformat_minor": 1
}
