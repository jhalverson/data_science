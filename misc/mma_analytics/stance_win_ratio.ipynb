{
 "cells": [
  {
   "cell_type": "markdown",
   "metadata": {},
   "source": [
    "# Jonathan Halverson\n",
    "# Tuesday, February 14, 2017\n",
    "# Part 1: Overview of the figher table"
   ]
  },
  {
   "cell_type": "markdown",
   "metadata": {},
   "source": [
    "In this notebook we inspect the figher data scraped from FightMetric.com.\n",
    "\n",
    "Note that the fighter records include non-UFC fights. Some fighters have more losses than wins. Some fighters do not have all their professional MMA fights included in their records. We avoid detailed analysis of weight because fighters often change weight class and it is not known what their weight was for each fighter."
   ]
  },
  {
   "cell_type": "code",
   "execution_count": 1,
   "metadata": {
    "collapsed": true
   },
   "outputs": [],
   "source": [
    "import numpy as np\n",
    "import pandas as pd\n",
    "import matplotlib.pyplot as plt\n",
    "%matplotlib inline"
   ]
  },
  {
   "cell_type": "code",
   "execution_count": 35,
   "metadata": {
    "collapsed": false,
    "scrolled": false
   },
   "outputs": [
    {
     "data": {
      "text/html": [
       "<div>\n",
       "<table border=\"1\" class=\"dataframe\">\n",
       "  <thead>\n",
       "    <tr style=\"text-align: right;\">\n",
       "      <th></th>\n",
       "      <th>First</th>\n",
       "      <th>Last</th>\n",
       "      <th>Nickname</th>\n",
       "      <th>Height</th>\n",
       "      <th>Weight</th>\n",
       "      <th>Reach</th>\n",
       "      <th>Stance</th>\n",
       "      <th>Win</th>\n",
       "      <th>Loss</th>\n",
       "      <th>Draw</th>\n",
       "      <th>Belt</th>\n",
       "      <th>Name</th>\n",
       "      <th>Dob</th>\n",
       "      <th>Age</th>\n",
       "    </tr>\n",
       "  </thead>\n",
       "  <tbody>\n",
       "    <tr>\n",
       "      <th>0</th>\n",
       "      <td>Tom</td>\n",
       "      <td>Aaron</td>\n",
       "      <td>NaN</td>\n",
       "      <td>NaN</td>\n",
       "      <td>155.0</td>\n",
       "      <td>NaN</td>\n",
       "      <td>NaN</td>\n",
       "      <td>5.0</td>\n",
       "      <td>3.0</td>\n",
       "      <td>0.0</td>\n",
       "      <td>0</td>\n",
       "      <td>Tom Aaron</td>\n",
       "      <td>1978-07-13</td>\n",
       "      <td>38.601751</td>\n",
       "    </tr>\n",
       "    <tr>\n",
       "      <th>1</th>\n",
       "      <td>Danny</td>\n",
       "      <td>Abbadi</td>\n",
       "      <td>The Assassin</td>\n",
       "      <td>71.0</td>\n",
       "      <td>155.0</td>\n",
       "      <td>NaN</td>\n",
       "      <td>Orthodox</td>\n",
       "      <td>4.0</td>\n",
       "      <td>6.0</td>\n",
       "      <td>0.0</td>\n",
       "      <td>0</td>\n",
       "      <td>Danny Abbadi</td>\n",
       "      <td>1983-07-03</td>\n",
       "      <td>33.629712</td>\n",
       "    </tr>\n",
       "    <tr>\n",
       "      <th>2</th>\n",
       "      <td>David</td>\n",
       "      <td>Abbott</td>\n",
       "      <td>Tank</td>\n",
       "      <td>72.0</td>\n",
       "      <td>265.0</td>\n",
       "      <td>NaN</td>\n",
       "      <td>Switch</td>\n",
       "      <td>10.0</td>\n",
       "      <td>14.0</td>\n",
       "      <td>0.0</td>\n",
       "      <td>0</td>\n",
       "      <td>David Abbott</td>\n",
       "      <td>NaT</td>\n",
       "      <td>NaN</td>\n",
       "    </tr>\n",
       "    <tr>\n",
       "      <th>3</th>\n",
       "      <td>Shamil</td>\n",
       "      <td>Abdurakhimov</td>\n",
       "      <td>Abrek</td>\n",
       "      <td>75.0</td>\n",
       "      <td>235.0</td>\n",
       "      <td>76.0</td>\n",
       "      <td>Orthodox</td>\n",
       "      <td>16.0</td>\n",
       "      <td>4.0</td>\n",
       "      <td>0.0</td>\n",
       "      <td>0</td>\n",
       "      <td>Shamil Abdurakhimov</td>\n",
       "      <td>1981-09-02</td>\n",
       "      <td>35.461372</td>\n",
       "    </tr>\n",
       "    <tr>\n",
       "      <th>4</th>\n",
       "      <td>Hiroyuki</td>\n",
       "      <td>Abe</td>\n",
       "      <td>Abe Ani</td>\n",
       "      <td>66.0</td>\n",
       "      <td>145.0</td>\n",
       "      <td>NaN</td>\n",
       "      <td>Orthodox</td>\n",
       "      <td>8.0</td>\n",
       "      <td>14.0</td>\n",
       "      <td>3.0</td>\n",
       "      <td>0</td>\n",
       "      <td>Hiroyuki Abe</td>\n",
       "      <td>NaT</td>\n",
       "      <td>NaN</td>\n",
       "    </tr>\n",
       "    <tr>\n",
       "      <th>5</th>\n",
       "      <td>Papy</td>\n",
       "      <td>Abedi</td>\n",
       "      <td>Makambo</td>\n",
       "      <td>71.0</td>\n",
       "      <td>185.0</td>\n",
       "      <td>74.0</td>\n",
       "      <td>Southpaw</td>\n",
       "      <td>9.0</td>\n",
       "      <td>3.0</td>\n",
       "      <td>0.0</td>\n",
       "      <td>0</td>\n",
       "      <td>Papy Abedi</td>\n",
       "      <td>1978-06-30</td>\n",
       "      <td>38.637344</td>\n",
       "    </tr>\n",
       "    <tr>\n",
       "      <th>6</th>\n",
       "      <td>Ricardo</td>\n",
       "      <td>Abreu</td>\n",
       "      <td>Demente</td>\n",
       "      <td>71.0</td>\n",
       "      <td>185.0</td>\n",
       "      <td>73.0</td>\n",
       "      <td>Orthodox</td>\n",
       "      <td>5.0</td>\n",
       "      <td>3.0</td>\n",
       "      <td>0.0</td>\n",
       "      <td>0</td>\n",
       "      <td>Ricardo Abreu</td>\n",
       "      <td>1984-04-27</td>\n",
       "      <td>32.811078</td>\n",
       "    </tr>\n",
       "    <tr>\n",
       "      <th>7</th>\n",
       "      <td>Daniel</td>\n",
       "      <td>Acacio</td>\n",
       "      <td>NaN</td>\n",
       "      <td>68.0</td>\n",
       "      <td>180.0</td>\n",
       "      <td>NaN</td>\n",
       "      <td>Orthodox</td>\n",
       "      <td>26.0</td>\n",
       "      <td>12.0</td>\n",
       "      <td>0.0</td>\n",
       "      <td>0</td>\n",
       "      <td>Daniel Acacio</td>\n",
       "      <td>1977-12-27</td>\n",
       "      <td>39.143856</td>\n",
       "    </tr>\n",
       "    <tr>\n",
       "      <th>8</th>\n",
       "      <td>Scott</td>\n",
       "      <td>Adams</td>\n",
       "      <td>NaN</td>\n",
       "      <td>72.0</td>\n",
       "      <td>225.0</td>\n",
       "      <td>NaN</td>\n",
       "      <td>Southpaw</td>\n",
       "      <td>8.0</td>\n",
       "      <td>1.0</td>\n",
       "      <td>0.0</td>\n",
       "      <td>0</td>\n",
       "      <td>Scott Adams</td>\n",
       "      <td>NaT</td>\n",
       "      <td>NaN</td>\n",
       "    </tr>\n",
       "    <tr>\n",
       "      <th>9</th>\n",
       "      <td>Sam</td>\n",
       "      <td>Adkins</td>\n",
       "      <td>The Experience</td>\n",
       "      <td>75.0</td>\n",
       "      <td>225.0</td>\n",
       "      <td>NaN</td>\n",
       "      <td>Orthodox</td>\n",
       "      <td>7.0</td>\n",
       "      <td>20.0</td>\n",
       "      <td>2.0</td>\n",
       "      <td>0</td>\n",
       "      <td>Sam Adkins</td>\n",
       "      <td>1965-04-26</td>\n",
       "      <td>51.814890</td>\n",
       "    </tr>\n",
       "  </tbody>\n",
       "</table>\n",
       "</div>"
      ],
      "text/plain": [
       "      First          Last        Nickname  Height  Weight  Reach    Stance  \\\n",
       "0       Tom         Aaron             NaN     NaN   155.0    NaN       NaN   \n",
       "1     Danny        Abbadi    The Assassin    71.0   155.0    NaN  Orthodox   \n",
       "2     David        Abbott            Tank    72.0   265.0    NaN    Switch   \n",
       "3    Shamil  Abdurakhimov           Abrek    75.0   235.0   76.0  Orthodox   \n",
       "4  Hiroyuki           Abe         Abe Ani    66.0   145.0    NaN  Orthodox   \n",
       "5      Papy         Abedi         Makambo    71.0   185.0   74.0  Southpaw   \n",
       "6   Ricardo         Abreu         Demente    71.0   185.0   73.0  Orthodox   \n",
       "7    Daniel        Acacio             NaN    68.0   180.0    NaN  Orthodox   \n",
       "8     Scott         Adams             NaN    72.0   225.0    NaN  Southpaw   \n",
       "9       Sam        Adkins  The Experience    75.0   225.0    NaN  Orthodox   \n",
       "\n",
       "    Win  Loss  Draw  Belt                 Name        Dob        Age  \n",
       "0   5.0   3.0   0.0     0            Tom Aaron 1978-07-13  38.601751  \n",
       "1   4.0   6.0   0.0     0         Danny Abbadi 1983-07-03  33.629712  \n",
       "2  10.0  14.0   0.0     0         David Abbott        NaT        NaN  \n",
       "3  16.0   4.0   0.0     0  Shamil Abdurakhimov 1981-09-02  35.461372  \n",
       "4   8.0  14.0   3.0     0         Hiroyuki Abe        NaT        NaN  \n",
       "5   9.0   3.0   0.0     0           Papy Abedi 1978-06-30  38.637344  \n",
       "6   5.0   3.0   0.0     0        Ricardo Abreu 1984-04-27  32.811078  \n",
       "7  26.0  12.0   0.0     0        Daniel Acacio 1977-12-27  39.143856  \n",
       "8   8.0   1.0   0.0     0          Scott Adams        NaT        NaN  \n",
       "9   7.0  20.0   2.0     0           Sam Adkins 1965-04-26  51.814890  "
      ]
     },
     "execution_count": 35,
     "metadata": {},
     "output_type": "execute_result"
    }
   ],
   "source": [
    "df = pd.read_csv('fightmetric_fighters/fightmetric_fighters.csv', header=0, parse_dates=['Dob'])\n",
    "df['Age'] = (pd.to_datetime('today') - df.Dob) / np.timedelta64(1, 'Y')\n",
    "#pd.set_option('display.max_rows', 3000)\n",
    "df.head(10)"
   ]
  },
  {
   "cell_type": "markdown",
   "metadata": {},
   "source": [
    "### What are the data types and number of non-null values for each column?"
   ]
  },
  {
   "cell_type": "code",
   "execution_count": 3,
   "metadata": {
    "collapsed": false
   },
   "outputs": [
    {
     "name": "stdout",
     "output_type": "stream",
     "text": [
      "<class 'pandas.core.frame.DataFrame'>\n",
      "RangeIndex: 2832 entries, 0 to 2831\n",
      "Data columns (total 14 columns):\n",
      "First       2832 non-null object\n",
      "Last        2832 non-null object\n",
      "Nickname    1447 non-null object\n",
      "Height      2573 non-null float64\n",
      "Weight      2757 non-null float64\n",
      "Reach       1207 non-null float64\n",
      "Stance      2021 non-null object\n",
      "Win         2832 non-null float64\n",
      "Loss        2832 non-null float64\n",
      "Draw        2831 non-null float64\n",
      "Belt        2832 non-null int64\n",
      "Name        2832 non-null object\n",
      "Dob         2106 non-null datetime64[ns]\n",
      "Age         2106 non-null float64\n",
      "dtypes: datetime64[ns](1), float64(7), int64(1), object(5)\n",
      "memory usage: 309.8+ KB\n"
     ]
    }
   ],
   "source": [
    "df.info()"
   ]
  },
  {
   "cell_type": "markdown",
   "metadata": {},
   "source": [
    "### How many fighters are in the database?"
   ]
  },
  {
   "cell_type": "code",
   "execution_count": 4,
   "metadata": {
    "collapsed": false
   },
   "outputs": [
    {
     "data": {
      "text/plain": [
       "2832"
      ]
     },
     "execution_count": 4,
     "metadata": {},
     "output_type": "execute_result"
    }
   ],
   "source": [
    "df.shape[0]"
   ]
  },
  {
   "cell_type": "markdown",
   "metadata": {},
   "source": [
    "### What are the min and max values of the numerical columns?"
   ]
  },
  {
   "cell_type": "code",
   "execution_count": 5,
   "metadata": {
    "collapsed": false
   },
   "outputs": [
    {
     "data": {
      "text/html": [
       "<div>\n",
       "<table border=\"1\" class=\"dataframe\">\n",
       "  <thead>\n",
       "    <tr style=\"text-align: right;\">\n",
       "      <th></th>\n",
       "      <th>Height</th>\n",
       "      <th>Weight</th>\n",
       "      <th>Reach</th>\n",
       "      <th>Win</th>\n",
       "      <th>Loss</th>\n",
       "      <th>Draw</th>\n",
       "      <th>Age</th>\n",
       "    </tr>\n",
       "  </thead>\n",
       "  <tbody>\n",
       "    <tr>\n",
       "      <th>count</th>\n",
       "      <td>2573.00</td>\n",
       "      <td>2757.00</td>\n",
       "      <td>1207.00</td>\n",
       "      <td>2832.00</td>\n",
       "      <td>2832.00</td>\n",
       "      <td>2831.00</td>\n",
       "      <td>2106.00</td>\n",
       "    </tr>\n",
       "    <tr>\n",
       "      <th>mean</th>\n",
       "      <td>70.50</td>\n",
       "      <td>176.14</td>\n",
       "      <td>71.88</td>\n",
       "      <td>11.38</td>\n",
       "      <td>5.25</td>\n",
       "      <td>0.31</td>\n",
       "      <td>35.36</td>\n",
       "    </tr>\n",
       "    <tr>\n",
       "      <th>std</th>\n",
       "      <td>3.36</td>\n",
       "      <td>40.42</td>\n",
       "      <td>4.02</td>\n",
       "      <td>9.16</td>\n",
       "      <td>4.82</td>\n",
       "      <td>0.90</td>\n",
       "      <td>6.38</td>\n",
       "    </tr>\n",
       "    <tr>\n",
       "      <th>min</th>\n",
       "      <td>60.00</td>\n",
       "      <td>105.00</td>\n",
       "      <td>60.00</td>\n",
       "      <td>0.00</td>\n",
       "      <td>0.00</td>\n",
       "      <td>0.00</td>\n",
       "      <td>20.83</td>\n",
       "    </tr>\n",
       "    <tr>\n",
       "      <th>25%</th>\n",
       "      <td>68.00</td>\n",
       "      <td>149.00</td>\n",
       "      <td>69.00</td>\n",
       "      <td>5.00</td>\n",
       "      <td>2.00</td>\n",
       "      <td>0.00</td>\n",
       "      <td>30.72</td>\n",
       "    </tr>\n",
       "    <tr>\n",
       "      <th>50%</th>\n",
       "      <td>71.00</td>\n",
       "      <td>170.00</td>\n",
       "      <td>72.00</td>\n",
       "      <td>10.00</td>\n",
       "      <td>4.00</td>\n",
       "      <td>0.00</td>\n",
       "      <td>34.58</td>\n",
       "    </tr>\n",
       "    <tr>\n",
       "      <th>75%</th>\n",
       "      <td>73.00</td>\n",
       "      <td>195.00</td>\n",
       "      <td>75.00</td>\n",
       "      <td>16.00</td>\n",
       "      <td>7.00</td>\n",
       "      <td>0.00</td>\n",
       "      <td>39.09</td>\n",
       "    </tr>\n",
       "    <tr>\n",
       "      <th>max</th>\n",
       "      <td>89.00</td>\n",
       "      <td>770.00</td>\n",
       "      <td>84.00</td>\n",
       "      <td>127.00</td>\n",
       "      <td>74.00</td>\n",
       "      <td>11.00</td>\n",
       "      <td>74.07</td>\n",
       "    </tr>\n",
       "  </tbody>\n",
       "</table>\n",
       "</div>"
      ],
      "text/plain": [
       "        Height   Weight    Reach      Win     Loss     Draw      Age\n",
       "count  2573.00  2757.00  1207.00  2832.00  2832.00  2831.00  2106.00\n",
       "mean     70.50   176.14    71.88    11.38     5.25     0.31    35.36\n",
       "std       3.36    40.42     4.02     9.16     4.82     0.90     6.38\n",
       "min      60.00   105.00    60.00     0.00     0.00     0.00    20.83\n",
       "25%      68.00   149.00    69.00     5.00     2.00     0.00    30.72\n",
       "50%      71.00   170.00    72.00    10.00     4.00     0.00    34.58\n",
       "75%      73.00   195.00    75.00    16.00     7.00     0.00    39.09\n",
       "max      89.00   770.00    84.00   127.00    74.00    11.00    74.07"
      ]
     },
     "execution_count": 5,
     "metadata": {},
     "output_type": "execute_result"
    }
   ],
   "source": [
    "df.describe().drop('Belt', axis=1).applymap(lambda x: round(x, 2))"
   ]
  },
  {
   "cell_type": "markdown",
   "metadata": {},
   "source": [
    "### What are the oldest and youngest birthdays?"
   ]
  },
  {
   "cell_type": "code",
   "execution_count": 6,
   "metadata": {
    "collapsed": false
   },
   "outputs": [
    {
     "data": {
      "text/plain": [
       "(Timestamp('1943-01-25 00:00:00'), Timestamp('1996-04-21 00:00:00'))"
      ]
     },
     "execution_count": 6,
     "metadata": {},
     "output_type": "execute_result"
    }
   ],
   "source": [
    "min(df.Dob), max(df.Dob)"
   ]
  },
  {
   "cell_type": "markdown",
   "metadata": {},
   "source": [
    "### What are the most common birthdays?"
   ]
  },
  {
   "cell_type": "code",
   "execution_count": 7,
   "metadata": {
    "collapsed": false
   },
   "outputs": [
    {
     "data": {
      "text/plain": [
       "(7, 14)    17\n",
       "(7, 16)    17\n",
       "(8, 4)     16\n",
       "(9, 22)    15\n",
       "(8, 24)    12\n",
       "Name: Dob, dtype: int64"
      ]
     },
     "execution_count": 7,
     "metadata": {},
     "output_type": "execute_result"
    }
   ],
   "source": [
    "df[pd.notnull(df.Dob)].Dob.apply(lambda x: (x.month, x.day)).value_counts()[:5]"
   ]
  },
  {
   "cell_type": "markdown",
   "metadata": {},
   "source": [
    "### Any leap-year birthdays?"
   ]
  },
  {
   "cell_type": "code",
   "execution_count": 8,
   "metadata": {
    "collapsed": false
   },
   "outputs": [
    {
     "data": {
      "text/html": [
       "<div>\n",
       "<table border=\"1\" class=\"dataframe\">\n",
       "  <thead>\n",
       "    <tr style=\"text-align: right;\">\n",
       "      <th></th>\n",
       "      <th>First</th>\n",
       "      <th>Last</th>\n",
       "      <th>Nickname</th>\n",
       "      <th>Height</th>\n",
       "      <th>Weight</th>\n",
       "      <th>Reach</th>\n",
       "      <th>Stance</th>\n",
       "      <th>Win</th>\n",
       "      <th>Loss</th>\n",
       "      <th>Draw</th>\n",
       "      <th>Belt</th>\n",
       "      <th>Name</th>\n",
       "      <th>Dob</th>\n",
       "      <th>Age</th>\n",
       "    </tr>\n",
       "  </thead>\n",
       "  <tbody>\n",
       "    <tr>\n",
       "      <th>487</th>\n",
       "      <td>Patrick</td>\n",
       "      <td>Cote</td>\n",
       "      <td>The Predator</td>\n",
       "      <td>71.0</td>\n",
       "      <td>170.0</td>\n",
       "      <td>71.0</td>\n",
       "      <td>Orthodox</td>\n",
       "      <td>24.0</td>\n",
       "      <td>10.0</td>\n",
       "      <td>0.0</td>\n",
       "      <td>0</td>\n",
       "      <td>Patrick Cote</td>\n",
       "      <td>1980-02-29</td>\n",
       "      <td>36.969958</td>\n",
       "    </tr>\n",
       "  </tbody>\n",
       "</table>\n",
       "</div>"
      ],
      "text/plain": [
       "       First  Last      Nickname  Height  Weight  Reach    Stance   Win  Loss  \\\n",
       "487  Patrick  Cote  The Predator    71.0   170.0   71.0  Orthodox  24.0  10.0   \n",
       "\n",
       "     Draw  Belt          Name        Dob        Age  \n",
       "487   0.0     0  Patrick Cote 1980-02-29  36.969958  "
      ]
     },
     "execution_count": 8,
     "metadata": {},
     "output_type": "execute_result"
    }
   ],
   "source": [
    "df[(df.Dob.dt.month == 2) & (df.Dob.dt.day == 29)]"
   ]
  },
  {
   "cell_type": "markdown",
   "metadata": {},
   "source": [
    "### How many fighters were born in each month?"
   ]
  },
  {
   "cell_type": "code",
   "execution_count": 9,
   "metadata": {
    "collapsed": false
   },
   "outputs": [
    {
     "data": {
      "text/plain": [
       "<matplotlib.text.Text at 0x10f6777d0>"
      ]
     },
     "execution_count": 9,
     "metadata": {},
     "output_type": "execute_result"
    },
    {
     "data": {
      "image/png": "[encoded data removed]",
      "text/plain": [
       "<matplotlib.figure.Figure at 0x10e42e910>"
      ]
     },
     "metadata": {},
     "output_type": "display_data"
    }
   ],
   "source": [
    "bd_counts = df[pd.notnull(df.Dob)].Dob.dt.month.value_counts()\n",
    "plt.bar(bd_counts.index, bd_counts.values, align='center')\n",
    "plt.xlim(0, 13)\n",
    "plt.xlabel('Month of Year')\n",
    "plt.ylabel('Count')"
   ]
  },
  {
   "cell_type": "markdown",
   "metadata": {},
   "source": [
    "### Who are the 5 youngest fighters?"
   ]
  },
  {
   "cell_type": "code",
   "execution_count": 10,
   "metadata": {
    "collapsed": false
   },
   "outputs": [
    {
     "data": {
      "text/html": [
       "<div>\n",
       "<table border=\"1\" class=\"dataframe\">\n",
       "  <thead>\n",
       "    <tr style=\"text-align: right;\">\n",
       "      <th></th>\n",
       "      <th>First</th>\n",
       "      <th>Last</th>\n",
       "      <th>Nickname</th>\n",
       "      <th>Height</th>\n",
       "      <th>Weight</th>\n",
       "      <th>Reach</th>\n",
       "      <th>Stance</th>\n",
       "      <th>Win</th>\n",
       "      <th>Loss</th>\n",
       "      <th>Draw</th>\n",
       "      <th>Belt</th>\n",
       "      <th>Name</th>\n",
       "      <th>Dob</th>\n",
       "      <th>Age</th>\n",
       "    </tr>\n",
       "  </thead>\n",
       "  <tbody>\n",
       "    <tr>\n",
       "      <th>2019</th>\n",
       "      <td>Claudio</td>\n",
       "      <td>Puelles</td>\n",
       "      <td>El Nino</td>\n",
       "      <td>71.0</td>\n",
       "      <td>155.0</td>\n",
       "      <td>72.0</td>\n",
       "      <td>Southpaw</td>\n",
       "      <td>8.0</td>\n",
       "      <td>2.0</td>\n",
       "      <td>0.0</td>\n",
       "      <td>0</td>\n",
       "      <td>Claudio Puelles</td>\n",
       "      <td>1996-04-21</td>\n",
       "      <td>20.827259</td>\n",
       "    </tr>\n",
       "    <tr>\n",
       "      <th>1825</th>\n",
       "      <td>Sage</td>\n",
       "      <td>Northcutt</td>\n",
       "      <td>Super</td>\n",
       "      <td>72.0</td>\n",
       "      <td>170.0</td>\n",
       "      <td>71.0</td>\n",
       "      <td>Orthodox</td>\n",
       "      <td>8.0</td>\n",
       "      <td>2.0</td>\n",
       "      <td>0.0</td>\n",
       "      <td>0</td>\n",
       "      <td>Sage Northcutt</td>\n",
       "      <td>1996-03-01</td>\n",
       "      <td>20.966892</td>\n",
       "    </tr>\n",
       "    <tr>\n",
       "      <th>1480</th>\n",
       "      <td>Veronica</td>\n",
       "      <td>Macedo</td>\n",
       "      <td>NaN</td>\n",
       "      <td>64.0</td>\n",
       "      <td>135.0</td>\n",
       "      <td>64.0</td>\n",
       "      <td>Southpaw</td>\n",
       "      <td>5.0</td>\n",
       "      <td>1.0</td>\n",
       "      <td>1.0</td>\n",
       "      <td>0</td>\n",
       "      <td>Veronica Macedo</td>\n",
       "      <td>1995-10-30</td>\n",
       "      <td>21.303654</td>\n",
       "    </tr>\n",
       "    <tr>\n",
       "      <th>2049</th>\n",
       "      <td>Ricardo</td>\n",
       "      <td>Ramos</td>\n",
       "      <td>NaN</td>\n",
       "      <td>69.0</td>\n",
       "      <td>135.0</td>\n",
       "      <td>72.0</td>\n",
       "      <td>Orthodox</td>\n",
       "      <td>10.0</td>\n",
       "      <td>1.0</td>\n",
       "      <td>0.0</td>\n",
       "      <td>0</td>\n",
       "      <td>Ricardo Ramos</td>\n",
       "      <td>1995-08-01</td>\n",
       "      <td>21.550066</td>\n",
       "    </tr>\n",
       "    <tr>\n",
       "      <th>1636</th>\n",
       "      <td>Alonzo</td>\n",
       "      <td>Menifield</td>\n",
       "      <td>NaN</td>\n",
       "      <td>73.0</td>\n",
       "      <td>205.0</td>\n",
       "      <td>NaN</td>\n",
       "      <td>NaN</td>\n",
       "      <td>1.0</td>\n",
       "      <td>0.0</td>\n",
       "      <td>0.0</td>\n",
       "      <td>0</td>\n",
       "      <td>Alonzo Menifield</td>\n",
       "      <td>1994-10-18</td>\n",
       "      <td>22.335845</td>\n",
       "    </tr>\n",
       "  </tbody>\n",
       "</table>\n",
       "</div>"
      ],
      "text/plain": [
       "         First       Last Nickname  Height  Weight  Reach    Stance   Win  \\\n",
       "2019   Claudio    Puelles  El Nino    71.0   155.0   72.0  Southpaw   8.0   \n",
       "1825      Sage  Northcutt    Super    72.0   170.0   71.0  Orthodox   8.0   \n",
       "1480  Veronica     Macedo      NaN    64.0   135.0   64.0  Southpaw   5.0   \n",
       "2049   Ricardo      Ramos      NaN    69.0   135.0   72.0  Orthodox  10.0   \n",
       "1636    Alonzo  Menifield      NaN    73.0   205.0    NaN       NaN   1.0   \n",
       "\n",
       "      Loss  Draw  Belt              Name        Dob        Age  \n",
       "2019   2.0   0.0     0   Claudio Puelles 1996-04-21  20.827259  \n",
       "1825   2.0   0.0     0    Sage Northcutt 1996-03-01  20.966892  \n",
       "1480   1.0   1.0     0   Veronica Macedo 1995-10-30  21.303654  \n",
       "2049   1.0   0.0     0     Ricardo Ramos 1995-08-01  21.550066  \n",
       "1636   0.0   0.0     0  Alonzo Menifield 1994-10-18  22.335845  "
      ]
     },
     "execution_count": 10,
     "metadata": {},
     "output_type": "execute_result"
    }
   ],
   "source": [
    "df[pd.notnull(df.Dob)].sort_values('Dob', ascending=False).head(5)"
   ]
  },
  {
   "cell_type": "markdown",
   "metadata": {},
   "source": [
    "### Do any fighters have the same name?"
   ]
  },
  {
   "cell_type": "code",
   "execution_count": 11,
   "metadata": {
    "collapsed": false
   },
   "outputs": [
    {
     "data": {
      "text/plain": [
       "Tony Johnson        2\n",
       "Michael McDonald    2\n",
       "Dong Hyun Kim       2\n",
       "Name: Name, dtype: int64"
      ]
     },
     "execution_count": 11,
     "metadata": {},
     "output_type": "execute_result"
    }
   ],
   "source": [
    "name_counts = df.Name.value_counts()\n",
    "name_counts[name_counts > 1]"
   ]
  },
  {
   "cell_type": "code",
   "execution_count": 12,
   "metadata": {
    "collapsed": false
   },
   "outputs": [
    {
     "data": {
      "text/html": [
       "<div>\n",
       "<table border=\"1\" class=\"dataframe\">\n",
       "  <thead>\n",
       "    <tr style=\"text-align: right;\">\n",
       "      <th></th>\n",
       "      <th>First</th>\n",
       "      <th>Last</th>\n",
       "      <th>Nickname</th>\n",
       "      <th>Height</th>\n",
       "      <th>Weight</th>\n",
       "      <th>Reach</th>\n",
       "      <th>Stance</th>\n",
       "      <th>Win</th>\n",
       "      <th>Loss</th>\n",
       "      <th>Draw</th>\n",
       "      <th>Belt</th>\n",
       "      <th>Name</th>\n",
       "      <th>Dob</th>\n",
       "      <th>Age</th>\n",
       "    </tr>\n",
       "  </thead>\n",
       "  <tbody>\n",
       "    <tr>\n",
       "      <th>1588</th>\n",
       "      <td>Michael</td>\n",
       "      <td>McDonald</td>\n",
       "      <td>The Black Sniper</td>\n",
       "      <td>71.0</td>\n",
       "      <td>205.0</td>\n",
       "      <td>NaN</td>\n",
       "      <td>Orthodox</td>\n",
       "      <td>1.0</td>\n",
       "      <td>1.0</td>\n",
       "      <td>0.0</td>\n",
       "      <td>0</td>\n",
       "      <td>Michael McDonald</td>\n",
       "      <td>1965-02-06</td>\n",
       "      <td>52.031185</td>\n",
       "    </tr>\n",
       "    <tr>\n",
       "      <th>1590</th>\n",
       "      <td>Michael</td>\n",
       "      <td>McDonald</td>\n",
       "      <td>Mayday</td>\n",
       "      <td>69.0</td>\n",
       "      <td>135.0</td>\n",
       "      <td>70.0</td>\n",
       "      <td>Orthodox</td>\n",
       "      <td>17.0</td>\n",
       "      <td>4.0</td>\n",
       "      <td>0.0</td>\n",
       "      <td>0</td>\n",
       "      <td>Michael McDonald</td>\n",
       "      <td>1991-01-15</td>\n",
       "      <td>26.092254</td>\n",
       "    </tr>\n",
       "  </tbody>\n",
       "</table>\n",
       "</div>"
      ],
      "text/plain": [
       "        First      Last          Nickname  Height  Weight  Reach    Stance  \\\n",
       "1588  Michael  McDonald  The Black Sniper    71.0   205.0    NaN  Orthodox   \n",
       "1590  Michael  McDonald            Mayday    69.0   135.0   70.0  Orthodox   \n",
       "\n",
       "       Win  Loss  Draw  Belt              Name        Dob        Age  \n",
       "1588   1.0   1.0   0.0     0  Michael McDonald 1965-02-06  52.031185  \n",
       "1590  17.0   4.0   0.0     0  Michael McDonald 1991-01-15  26.092254  "
      ]
     },
     "execution_count": 12,
     "metadata": {},
     "output_type": "execute_result"
    }
   ],
   "source": [
    "df[df.Name == 'Michael McDonald']"
   ]
  },
  {
   "cell_type": "markdown",
   "metadata": {},
   "source": [
    "There are three pairs of fighters with the same name."
   ]
  },
  {
   "cell_type": "markdown",
   "metadata": {},
   "source": [
    "### How does fighter height vary with weight?"
   ]
  },
  {
   "cell_type": "code",
   "execution_count": 13,
   "metadata": {
    "collapsed": false,
    "scrolled": true
   },
   "outputs": [
    {
     "data": {
      "text/plain": [
       "<matplotlib.text.Text at 0x112743c10>"
      ]
     },
     "execution_count": 13,
     "metadata": {},
     "output_type": "execute_result"
    },
    {
     "data": {
      "image/png": "[encoded data removed]",
      "text/plain": [
       "<matplotlib.figure.Figure at 0x10f7b7550>"
      ]
     },
     "metadata": {},
     "output_type": "display_data"
    }
   ],
   "source": [
    "plt.plot(df.Height, df.Weight, 'wo')\n",
    "plt.xlabel('Heights (inches)')\n",
    "plt.ylabel('Weight (lbs.)')"
   ]
  },
  {
   "cell_type": "markdown",
   "metadata": {},
   "source": [
    "### Who are the heaviest fighters?"
   ]
  },
  {
   "cell_type": "code",
   "execution_count": 14,
   "metadata": {
    "collapsed": false
   },
   "outputs": [
    {
     "data": {
      "text/html": [
       "<div>\n",
       "<table border=\"1\" class=\"dataframe\">\n",
       "  <thead>\n",
       "    <tr style=\"text-align: right;\">\n",
       "      <th></th>\n",
       "      <th>First</th>\n",
       "      <th>Last</th>\n",
       "      <th>Nickname</th>\n",
       "      <th>Height</th>\n",
       "      <th>Weight</th>\n",
       "      <th>Reach</th>\n",
       "      <th>Stance</th>\n",
       "      <th>Win</th>\n",
       "      <th>Loss</th>\n",
       "      <th>Draw</th>\n",
       "      <th>Belt</th>\n",
       "      <th>Name</th>\n",
       "      <th>Dob</th>\n",
       "      <th>Age</th>\n",
       "    </tr>\n",
       "  </thead>\n",
       "  <tbody>\n",
       "    <tr>\n",
       "      <th>2790</th>\n",
       "      <td>Emmanuel</td>\n",
       "      <td>Yarborough</td>\n",
       "      <td>NaN</td>\n",
       "      <td>80.0</td>\n",
       "      <td>770.0</td>\n",
       "      <td>NaN</td>\n",
       "      <td>Open Stance</td>\n",
       "      <td>1.0</td>\n",
       "      <td>2.0</td>\n",
       "      <td>0.0</td>\n",
       "      <td>0</td>\n",
       "      <td>Emmanuel Yarborough</td>\n",
       "      <td>1960-09-05</td>\n",
       "      <td>56.452905</td>\n",
       "    </tr>\n",
       "    <tr>\n",
       "      <th>2595</th>\n",
       "      <td>Teila</td>\n",
       "      <td>Tuli</td>\n",
       "      <td>NaN</td>\n",
       "      <td>72.0</td>\n",
       "      <td>430.0</td>\n",
       "      <td>NaN</td>\n",
       "      <td>Orthodox</td>\n",
       "      <td>0.0</td>\n",
       "      <td>1.0</td>\n",
       "      <td>0.0</td>\n",
       "      <td>0</td>\n",
       "      <td>Teila Tuli</td>\n",
       "      <td>1969-06-14</td>\n",
       "      <td>47.680651</td>\n",
       "    </tr>\n",
       "    <tr>\n",
       "      <th>2041</th>\n",
       "      <td>Thomas</td>\n",
       "      <td>Ramirez</td>\n",
       "      <td>NaN</td>\n",
       "      <td>73.0</td>\n",
       "      <td>410.0</td>\n",
       "      <td>NaN</td>\n",
       "      <td>Sideways</td>\n",
       "      <td>0.0</td>\n",
       "      <td>1.0</td>\n",
       "      <td>0.0</td>\n",
       "      <td>0</td>\n",
       "      <td>Thomas Ramirez</td>\n",
       "      <td>NaT</td>\n",
       "      <td>NaN</td>\n",
       "    </tr>\n",
       "    <tr>\n",
       "      <th>1568</th>\n",
       "      <td>John</td>\n",
       "      <td>Matua</td>\n",
       "      <td>NaN</td>\n",
       "      <td>74.0</td>\n",
       "      <td>400.0</td>\n",
       "      <td>NaN</td>\n",
       "      <td>Orthodox</td>\n",
       "      <td>1.0</td>\n",
       "      <td>4.0</td>\n",
       "      <td>0.0</td>\n",
       "      <td>0</td>\n",
       "      <td>John Matua</td>\n",
       "      <td>NaT</td>\n",
       "      <td>NaN</td>\n",
       "    </tr>\n",
       "    <tr>\n",
       "      <th>1972</th>\n",
       "      <td>Cory</td>\n",
       "      <td>Peterson</td>\n",
       "      <td>LA Giant</td>\n",
       "      <td>83.0</td>\n",
       "      <td>400.0</td>\n",
       "      <td>NaN</td>\n",
       "      <td>Orthodox</td>\n",
       "      <td>2.0</td>\n",
       "      <td>1.0</td>\n",
       "      <td>0.0</td>\n",
       "      <td>0</td>\n",
       "      <td>Cory Peterson</td>\n",
       "      <td>NaT</td>\n",
       "      <td>NaN</td>\n",
       "    </tr>\n",
       "  </tbody>\n",
       "</table>\n",
       "</div>"
      ],
      "text/plain": [
       "         First        Last  Nickname  Height  Weight  Reach       Stance  Win  \\\n",
       "2790  Emmanuel  Yarborough       NaN    80.0   770.0    NaN  Open Stance  1.0   \n",
       "2595     Teila        Tuli       NaN    72.0   430.0    NaN     Orthodox  0.0   \n",
       "2041    Thomas     Ramirez       NaN    73.0   410.0    NaN     Sideways  0.0   \n",
       "1568      John       Matua       NaN    74.0   400.0    NaN     Orthodox  1.0   \n",
       "1972      Cory    Peterson  LA Giant    83.0   400.0    NaN     Orthodox  2.0   \n",
       "\n",
       "      Loss  Draw  Belt                 Name        Dob        Age  \n",
       "2790   2.0   0.0     0  Emmanuel Yarborough 1960-09-05  56.452905  \n",
       "2595   1.0   0.0     0           Teila Tuli 1969-06-14  47.680651  \n",
       "2041   1.0   0.0     0       Thomas Ramirez        NaT        NaN  \n",
       "1568   4.0   0.0     0           John Matua        NaT        NaN  \n",
       "1972   1.0   0.0     0        Cory Peterson        NaT        NaN  "
      ]
     },
     "execution_count": 14,
     "metadata": {},
     "output_type": "execute_result"
    }
   ],
   "source": [
    "df.dropna(subset=['Weight']).sort_values('Weight', ascending=False).head(5)"
   ]
  },
  {
   "cell_type": "markdown",
   "metadata": {},
   "source": [
    "### Who are the tallest fighters?"
   ]
  },
  {
   "cell_type": "code",
   "execution_count": 15,
   "metadata": {
    "collapsed": false
   },
   "outputs": [
    {
     "data": {
      "text/html": [
       "<div>\n",
       "<table border=\"1\" class=\"dataframe\">\n",
       "  <thead>\n",
       "    <tr style=\"text-align: right;\">\n",
       "      <th></th>\n",
       "      <th>First</th>\n",
       "      <th>Last</th>\n",
       "      <th>Nickname</th>\n",
       "      <th>Height</th>\n",
       "      <th>Weight</th>\n",
       "      <th>Reach</th>\n",
       "      <th>Stance</th>\n",
       "      <th>Win</th>\n",
       "      <th>Loss</th>\n",
       "      <th>Draw</th>\n",
       "      <th>Belt</th>\n",
       "      <th>Name</th>\n",
       "      <th>Dob</th>\n",
       "      <th>Age</th>\n",
       "    </tr>\n",
       "  </thead>\n",
       "  <tbody>\n",
       "    <tr>\n",
       "      <th>2340</th>\n",
       "      <td>Paulo Cesar</td>\n",
       "      <td>Silva</td>\n",
       "      <td>Giant</td>\n",
       "      <td>89.0</td>\n",
       "      <td>385.0</td>\n",
       "      <td>NaN</td>\n",
       "      <td>Orthodox</td>\n",
       "      <td>2.0</td>\n",
       "      <td>6.0</td>\n",
       "      <td>0.0</td>\n",
       "      <td>0</td>\n",
       "      <td>Paulo Cesar Silva</td>\n",
       "      <td>1963-07-21</td>\n",
       "      <td>53.580840</td>\n",
       "    </tr>\n",
       "    <tr>\n",
       "      <th>414</th>\n",
       "      <td>Hong Man</td>\n",
       "      <td>Choi</td>\n",
       "      <td>Techno Goliath</td>\n",
       "      <td>86.0</td>\n",
       "      <td>330.0</td>\n",
       "      <td>NaN</td>\n",
       "      <td>Orthodox</td>\n",
       "      <td>2.0</td>\n",
       "      <td>3.0</td>\n",
       "      <td>0.0</td>\n",
       "      <td>0</td>\n",
       "      <td>Hong Man Choi</td>\n",
       "      <td>1980-10-30</td>\n",
       "      <td>36.301909</td>\n",
       "    </tr>\n",
       "    <tr>\n",
       "      <th>1972</th>\n",
       "      <td>Cory</td>\n",
       "      <td>Peterson</td>\n",
       "      <td>LA Giant</td>\n",
       "      <td>83.0</td>\n",
       "      <td>400.0</td>\n",
       "      <td>NaN</td>\n",
       "      <td>Orthodox</td>\n",
       "      <td>2.0</td>\n",
       "      <td>1.0</td>\n",
       "      <td>0.0</td>\n",
       "      <td>0</td>\n",
       "      <td>Cory Peterson</td>\n",
       "      <td>NaT</td>\n",
       "      <td>NaN</td>\n",
       "    </tr>\n",
       "    <tr>\n",
       "      <th>1203</th>\n",
       "      <td>Nathan</td>\n",
       "      <td>Jones</td>\n",
       "      <td>NaN</td>\n",
       "      <td>83.0</td>\n",
       "      <td>345.0</td>\n",
       "      <td>NaN</td>\n",
       "      <td>Orthodox</td>\n",
       "      <td>0.0</td>\n",
       "      <td>1.0</td>\n",
       "      <td>0.0</td>\n",
       "      <td>0</td>\n",
       "      <td>Nathan Jones</td>\n",
       "      <td>1970-08-21</td>\n",
       "      <td>46.495137</td>\n",
       "    </tr>\n",
       "    <tr>\n",
       "      <th>2469</th>\n",
       "      <td>Stefan</td>\n",
       "      <td>Struve</td>\n",
       "      <td>Skyscraper</td>\n",
       "      <td>83.0</td>\n",
       "      <td>265.0</td>\n",
       "      <td>84.0</td>\n",
       "      <td>Orthodox</td>\n",
       "      <td>32.0</td>\n",
       "      <td>8.0</td>\n",
       "      <td>0.0</td>\n",
       "      <td>0</td>\n",
       "      <td>Stefan Struve</td>\n",
       "      <td>1988-02-18</td>\n",
       "      <td>28.999911</td>\n",
       "    </tr>\n",
       "  </tbody>\n",
       "</table>\n",
       "</div>"
      ],
      "text/plain": [
       "            First      Last        Nickname  Height  Weight  Reach    Stance  \\\n",
       "2340  Paulo Cesar     Silva           Giant    89.0   385.0    NaN  Orthodox   \n",
       "414      Hong Man      Choi  Techno Goliath    86.0   330.0    NaN  Orthodox   \n",
       "1972         Cory  Peterson        LA Giant    83.0   400.0    NaN  Orthodox   \n",
       "1203       Nathan     Jones             NaN    83.0   345.0    NaN  Orthodox   \n",
       "2469       Stefan    Struve      Skyscraper    83.0   265.0   84.0  Orthodox   \n",
       "\n",
       "       Win  Loss  Draw  Belt               Name        Dob        Age  \n",
       "2340   2.0   6.0   0.0     0  Paulo Cesar Silva 1963-07-21  53.580840  \n",
       "414    2.0   3.0   0.0     0      Hong Man Choi 1980-10-30  36.301909  \n",
       "1972   2.0   1.0   0.0     0      Cory Peterson        NaT        NaN  \n",
       "1203   0.0   1.0   0.0     0       Nathan Jones 1970-08-21  46.495137  \n",
       "2469  32.0   8.0   0.0     0      Stefan Struve 1988-02-18  28.999911  "
      ]
     },
     "execution_count": 15,
     "metadata": {},
     "output_type": "execute_result"
    }
   ],
   "source": [
    "df.dropna(subset=['Height']).sort_values('Height', ascending=False).head(5)"
   ]
  },
  {
   "cell_type": "markdown",
   "metadata": {},
   "source": [
    "### What is the distriubtion of fighter reach?"
   ]
  },
  {
   "cell_type": "code",
   "execution_count": 16,
   "metadata": {
    "collapsed": false
   },
   "outputs": [
    {
     "data": {
      "text/plain": [
       "<matplotlib.text.Text at 0x1127b9590>"
      ]
     },
     "execution_count": 16,
     "metadata": {},
     "output_type": "execute_result"
    },
    {
     "data": {
      "image/png": "[encoded data removed]",
      "text/plain": [
       "<matplotlib.figure.Figure at 0x112743510>"
      ]
     },
     "metadata": {},
     "output_type": "display_data"
    }
   ],
   "source": [
    "plt.hist(df.Reach.dropna(), bins=24)\n",
    "plt.xlabel('Reach (inches)')\n",
    "plt.ylabel('Count')"
   ]
  },
  {
   "cell_type": "markdown",
   "metadata": {},
   "source": [
    "### Which fighters have the longest reach?"
   ]
  },
  {
   "cell_type": "code",
   "execution_count": 17,
   "metadata": {
    "collapsed": false,
    "scrolled": true
   },
   "outputs": [
    {
     "data": {
      "text/html": [
       "<div>\n",
       "<table border=\"1\" class=\"dataframe\">\n",
       "  <thead>\n",
       "    <tr style=\"text-align: right;\">\n",
       "      <th></th>\n",
       "      <th>First</th>\n",
       "      <th>Last</th>\n",
       "      <th>Nickname</th>\n",
       "      <th>Height</th>\n",
       "      <th>Weight</th>\n",
       "      <th>Reach</th>\n",
       "      <th>Stance</th>\n",
       "      <th>Win</th>\n",
       "      <th>Loss</th>\n",
       "      <th>Draw</th>\n",
       "      <th>Belt</th>\n",
       "      <th>Name</th>\n",
       "      <th>Dob</th>\n",
       "      <th>Age</th>\n",
       "    </tr>\n",
       "  </thead>\n",
       "  <tbody>\n",
       "    <tr>\n",
       "      <th>2469</th>\n",
       "      <td>Stefan</td>\n",
       "      <td>Struve</td>\n",
       "      <td>Skyscraper</td>\n",
       "      <td>83.0</td>\n",
       "      <td>265.0</td>\n",
       "      <td>84.0</td>\n",
       "      <td>Orthodox</td>\n",
       "      <td>32.0</td>\n",
       "      <td>8.0</td>\n",
       "      <td>0.0</td>\n",
       "      <td>0</td>\n",
       "      <td>Stefan Struve</td>\n",
       "      <td>1988-02-18</td>\n",
       "      <td>28.999911</td>\n",
       "    </tr>\n",
       "    <tr>\n",
       "      <th>1202</th>\n",
       "      <td>Jon</td>\n",
       "      <td>Jones</td>\n",
       "      <td>Bones</td>\n",
       "      <td>76.0</td>\n",
       "      <td>205.0</td>\n",
       "      <td>84.0</td>\n",
       "      <td>Orthodox</td>\n",
       "      <td>22.0</td>\n",
       "      <td>1.0</td>\n",
       "      <td>0.0</td>\n",
       "      <td>0</td>\n",
       "      <td>Jon Jones</td>\n",
       "      <td>1987-07-19</td>\n",
       "      <td>29.585823</td>\n",
       "    </tr>\n",
       "    <tr>\n",
       "      <th>1798</th>\n",
       "      <td>Francis</td>\n",
       "      <td>Ngannou</td>\n",
       "      <td>The Predator</td>\n",
       "      <td>76.0</td>\n",
       "      <td>250.0</td>\n",
       "      <td>83.0</td>\n",
       "      <td>Orthodox</td>\n",
       "      <td>10.0</td>\n",
       "      <td>1.0</td>\n",
       "      <td>0.0</td>\n",
       "      <td>0</td>\n",
       "      <td>Francis Ngannou</td>\n",
       "      <td>1986-09-05</td>\n",
       "      <td>30.453740</td>\n",
       "    </tr>\n",
       "    <tr>\n",
       "      <th>1190</th>\n",
       "      <td>Lavar</td>\n",
       "      <td>Johnson</td>\n",
       "      <td>Big</td>\n",
       "      <td>76.0</td>\n",
       "      <td>240.0</td>\n",
       "      <td>82.0</td>\n",
       "      <td>Orthodox</td>\n",
       "      <td>17.0</td>\n",
       "      <td>7.0</td>\n",
       "      <td>0.0</td>\n",
       "      <td>0</td>\n",
       "      <td>Lavar Johnson</td>\n",
       "      <td>1977-06-11</td>\n",
       "      <td>39.688700</td>\n",
       "    </tr>\n",
       "    <tr>\n",
       "      <th>555</th>\n",
       "      <td>Philip</td>\n",
       "      <td>De Fries</td>\n",
       "      <td>NaN</td>\n",
       "      <td>77.0</td>\n",
       "      <td>250.0</td>\n",
       "      <td>82.0</td>\n",
       "      <td>Orthodox</td>\n",
       "      <td>9.0</td>\n",
       "      <td>3.0</td>\n",
       "      <td>0.0</td>\n",
       "      <td>0</td>\n",
       "      <td>Philip De Fries</td>\n",
       "      <td>1986-04-21</td>\n",
       "      <td>30.828833</td>\n",
       "    </tr>\n",
       "  </tbody>\n",
       "</table>\n",
       "</div>"
      ],
      "text/plain": [
       "        First      Last      Nickname  Height  Weight  Reach    Stance   Win  \\\n",
       "2469   Stefan    Struve    Skyscraper    83.0   265.0   84.0  Orthodox  32.0   \n",
       "1202      Jon     Jones         Bones    76.0   205.0   84.0  Orthodox  22.0   \n",
       "1798  Francis   Ngannou  The Predator    76.0   250.0   83.0  Orthodox  10.0   \n",
       "1190    Lavar   Johnson           Big    76.0   240.0   82.0  Orthodox  17.0   \n",
       "555    Philip  De Fries           NaN    77.0   250.0   82.0  Orthodox   9.0   \n",
       "\n",
       "      Loss  Draw  Belt             Name        Dob        Age  \n",
       "2469   8.0   0.0     0    Stefan Struve 1988-02-18  28.999911  \n",
       "1202   1.0   0.0     0        Jon Jones 1987-07-19  29.585823  \n",
       "1798   1.0   0.0     0  Francis Ngannou 1986-09-05  30.453740  \n",
       "1190   7.0   0.0     0    Lavar Johnson 1977-06-11  39.688700  \n",
       "555    3.0   0.0     0  Philip De Fries 1986-04-21  30.828833  "
      ]
     },
     "execution_count": 17,
     "metadata": {},
     "output_type": "execute_result"
    }
   ],
   "source": [
    "df[pd.notnull(df.Reach)].sort_values('Reach', ascending=False).head(5)"
   ]
  },
  {
   "cell_type": "code",
   "execution_count": 18,
   "metadata": {
    "collapsed": false,
    "scrolled": false
   },
   "outputs": [
    {
     "data": {
      "text/plain": [
       "(55, 90)"
      ]
     },
     "execution_count": 18,
     "metadata": {},
     "output_type": "execute_result"
    },
    {
     "data": {
      "image/png": "[encoded data removed]",
      "text/plain": [
       "<matplotlib.figure.Figure at 0x112a183d0>"
      ]
     },
     "metadata": {},
     "output_type": "display_data"
    }
   ],
   "source": [
    "plt.plot([55, 90], [55, 90], 'k-')\n",
    "plt.plot(df.Height, df.Reach, 'wo')\n",
    "plt.xlabel('Height (inches)')\n",
    "plt.ylabel('Reach (inches)')\n",
    "plt.xlim(55, 90)\n",
    "plt.ylim(55, 90)"
   ]
  },
  {
   "cell_type": "markdown",
   "metadata": {},
   "source": [
    "### Which fighters have the largest reach-to-height ratio?"
   ]
  },
  {
   "cell_type": "code",
   "execution_count": 19,
   "metadata": {
    "collapsed": false
   },
   "outputs": [
    {
     "data": {
      "text/html": [
       "<div>\n",
       "<table border=\"1\" class=\"dataframe\">\n",
       "  <thead>\n",
       "    <tr style=\"text-align: right;\">\n",
       "      <th></th>\n",
       "      <th>First</th>\n",
       "      <th>Last</th>\n",
       "      <th>Height</th>\n",
       "      <th>Weight</th>\n",
       "      <th>Reach</th>\n",
       "      <th>Stance</th>\n",
       "      <th>Win</th>\n",
       "      <th>Loss</th>\n",
       "      <th>Draw</th>\n",
       "      <th>Belt</th>\n",
       "      <th>Dob</th>\n",
       "      <th>Age</th>\n",
       "      <th>ReachHeight</th>\n",
       "    </tr>\n",
       "  </thead>\n",
       "  <tbody>\n",
       "    <tr>\n",
       "      <th>558</th>\n",
       "      <td>Rodrigo</td>\n",
       "      <td>de Lima</td>\n",
       "      <td>67.0</td>\n",
       "      <td>155.0</td>\n",
       "      <td>75.0</td>\n",
       "      <td>Orthodox</td>\n",
       "      <td>8.0</td>\n",
       "      <td>3.0</td>\n",
       "      <td>1.0</td>\n",
       "      <td>0</td>\n",
       "      <td>1991-03-12</td>\n",
       "      <td>25.938931</td>\n",
       "      <td>1.119403</td>\n",
       "    </tr>\n",
       "    <tr>\n",
       "      <th>1394</th>\n",
       "      <td>Kevin</td>\n",
       "      <td>Lee</td>\n",
       "      <td>69.0</td>\n",
       "      <td>155.0</td>\n",
       "      <td>77.0</td>\n",
       "      <td>Orthodox</td>\n",
       "      <td>14.0</td>\n",
       "      <td>2.0</td>\n",
       "      <td>0.0</td>\n",
       "      <td>0</td>\n",
       "      <td>1992-09-04</td>\n",
       "      <td>24.454985</td>\n",
       "      <td>1.115942</td>\n",
       "    </tr>\n",
       "    <tr>\n",
       "      <th>2395</th>\n",
       "      <td>Rameau Thierry</td>\n",
       "      <td>Sokoudjou</td>\n",
       "      <td>70.0</td>\n",
       "      <td>205.0</td>\n",
       "      <td>78.0</td>\n",
       "      <td>Orthodox</td>\n",
       "      <td>12.0</td>\n",
       "      <td>10.0</td>\n",
       "      <td>0.0</td>\n",
       "      <td>0</td>\n",
       "      <td>1984-04-18</td>\n",
       "      <td>32.835719</td>\n",
       "      <td>1.114286</td>\n",
       "    </tr>\n",
       "    <tr>\n",
       "      <th>262</th>\n",
       "      <td>Marcus</td>\n",
       "      <td>Brimage</td>\n",
       "      <td>64.0</td>\n",
       "      <td>135.0</td>\n",
       "      <td>71.0</td>\n",
       "      <td>Southpaw</td>\n",
       "      <td>7.0</td>\n",
       "      <td>5.0</td>\n",
       "      <td>0.0</td>\n",
       "      <td>0</td>\n",
       "      <td>1985-04-06</td>\n",
       "      <td>31.869238</td>\n",
       "      <td>1.109375</td>\n",
       "    </tr>\n",
       "    <tr>\n",
       "      <th>1358</th>\n",
       "      <td>Taylor</td>\n",
       "      <td>Lapilus</td>\n",
       "      <td>66.0</td>\n",
       "      <td>135.0</td>\n",
       "      <td>73.0</td>\n",
       "      <td>Southpaw</td>\n",
       "      <td>11.0</td>\n",
       "      <td>2.0</td>\n",
       "      <td>0.0</td>\n",
       "      <td>0</td>\n",
       "      <td>1992-04-08</td>\n",
       "      <td>24.862934</td>\n",
       "      <td>1.106061</td>\n",
       "    </tr>\n",
       "    <tr>\n",
       "      <th>1202</th>\n",
       "      <td>Jon</td>\n",
       "      <td>Jones</td>\n",
       "      <td>76.0</td>\n",
       "      <td>205.0</td>\n",
       "      <td>84.0</td>\n",
       "      <td>Orthodox</td>\n",
       "      <td>22.0</td>\n",
       "      <td>1.0</td>\n",
       "      <td>0.0</td>\n",
       "      <td>0</td>\n",
       "      <td>1987-07-19</td>\n",
       "      <td>29.585823</td>\n",
       "      <td>1.105263</td>\n",
       "    </tr>\n",
       "    <tr>\n",
       "      <th>217</th>\n",
       "      <td>Mark</td>\n",
       "      <td>Bocek</td>\n",
       "      <td>68.0</td>\n",
       "      <td>155.0</td>\n",
       "      <td>75.0</td>\n",
       "      <td>Orthodox</td>\n",
       "      <td>12.0</td>\n",
       "      <td>5.0</td>\n",
       "      <td>0.0</td>\n",
       "      <td>0</td>\n",
       "      <td>1981-10-24</td>\n",
       "      <td>35.319000</td>\n",
       "      <td>1.102941</td>\n",
       "    </tr>\n",
       "    <tr>\n",
       "      <th>528</th>\n",
       "      <td>Paul</td>\n",
       "      <td>Daley</td>\n",
       "      <td>69.0</td>\n",
       "      <td>170.0</td>\n",
       "      <td>76.0</td>\n",
       "      <td>Orthodox</td>\n",
       "      <td>31.0</td>\n",
       "      <td>11.0</td>\n",
       "      <td>2.0</td>\n",
       "      <td>0</td>\n",
       "      <td>1983-02-21</td>\n",
       "      <td>33.991115</td>\n",
       "      <td>1.101449</td>\n",
       "    </tr>\n",
       "    <tr>\n",
       "      <th>759</th>\n",
       "      <td>Caros</td>\n",
       "      <td>Fodor</td>\n",
       "      <td>69.0</td>\n",
       "      <td>155.0</td>\n",
       "      <td>76.0</td>\n",
       "      <td>Orthodox</td>\n",
       "      <td>7.0</td>\n",
       "      <td>3.0</td>\n",
       "      <td>0.0</td>\n",
       "      <td>0</td>\n",
       "      <td>1984-01-07</td>\n",
       "      <td>33.114985</td>\n",
       "      <td>1.101449</td>\n",
       "    </tr>\n",
       "    <tr>\n",
       "      <th>2570</th>\n",
       "      <td>Miguel</td>\n",
       "      <td>Torres</td>\n",
       "      <td>69.0</td>\n",
       "      <td>135.0</td>\n",
       "      <td>76.0</td>\n",
       "      <td>Orthodox</td>\n",
       "      <td>39.0</td>\n",
       "      <td>5.0</td>\n",
       "      <td>0.0</td>\n",
       "      <td>0</td>\n",
       "      <td>1981-01-18</td>\n",
       "      <td>36.082876</td>\n",
       "      <td>1.101449</td>\n",
       "    </tr>\n",
       "  </tbody>\n",
       "</table>\n",
       "</div>"
      ],
      "text/plain": [
       "               First       Last  Height  Weight  Reach    Stance   Win  Loss  \\\n",
       "558          Rodrigo    de Lima    67.0   155.0   75.0  Orthodox   8.0   3.0   \n",
       "1394           Kevin        Lee    69.0   155.0   77.0  Orthodox  14.0   2.0   \n",
       "2395  Rameau Thierry  Sokoudjou    70.0   205.0   78.0  Orthodox  12.0  10.0   \n",
       "262           Marcus    Brimage    64.0   135.0   71.0  Southpaw   7.0   5.0   \n",
       "1358          Taylor    Lapilus    66.0   135.0   73.0  Southpaw  11.0   2.0   \n",
       "1202             Jon      Jones    76.0   205.0   84.0  Orthodox  22.0   1.0   \n",
       "217             Mark      Bocek    68.0   155.0   75.0  Orthodox  12.0   5.0   \n",
       "528             Paul      Daley    69.0   170.0   76.0  Orthodox  31.0  11.0   \n",
       "759            Caros      Fodor    69.0   155.0   76.0  Orthodox   7.0   3.0   \n",
       "2570          Miguel     Torres    69.0   135.0   76.0  Orthodox  39.0   5.0   \n",
       "\n",
       "      Draw  Belt        Dob        Age  ReachHeight  \n",
       "558    1.0     0 1991-03-12  25.938931     1.119403  \n",
       "1394   0.0     0 1992-09-04  24.454985     1.115942  \n",
       "2395   0.0     0 1984-04-18  32.835719     1.114286  \n",
       "262    0.0     0 1985-04-06  31.869238     1.109375  \n",
       "1358   0.0     0 1992-04-08  24.862934     1.106061  \n",
       "1202   0.0     0 1987-07-19  29.585823     1.105263  \n",
       "217    0.0     0 1981-10-24  35.319000     1.102941  \n",
       "528    2.0     0 1983-02-21  33.991115     1.101449  \n",
       "759    0.0     0 1984-01-07  33.114985     1.101449  \n",
       "2570   0.0     0 1981-01-18  36.082876     1.101449  "
      ]
     },
     "execution_count": 19,
     "metadata": {},
     "output_type": "execute_result"
    }
   ],
   "source": [
    "df['ReachHeight'] = df.Reach / df.Height\n",
    "df.drop(['Nickname', 'Name'], axis=1).dropna(subset=['Reach', 'Height']).sort_values('ReachHeight', ascending=False).head(10)"
   ]
  },
  {
   "cell_type": "markdown",
   "metadata": {},
   "source": [
    "### Which fighters have the smallest reach-to-height ratio?"
   ]
  },
  {
   "cell_type": "code",
   "execution_count": 20,
   "metadata": {
    "collapsed": false
   },
   "outputs": [
    {
     "data": {
      "text/html": [
       "<div>\n",
       "<table border=\"1\" class=\"dataframe\">\n",
       "  <thead>\n",
       "    <tr style=\"text-align: right;\">\n",
       "      <th></th>\n",
       "      <th>First</th>\n",
       "      <th>Last</th>\n",
       "      <th>Height</th>\n",
       "      <th>Weight</th>\n",
       "      <th>Reach</th>\n",
       "      <th>Stance</th>\n",
       "      <th>Win</th>\n",
       "      <th>Loss</th>\n",
       "      <th>Draw</th>\n",
       "      <th>Belt</th>\n",
       "      <th>Dob</th>\n",
       "      <th>Age</th>\n",
       "      <th>ReachHeight</th>\n",
       "    </tr>\n",
       "  </thead>\n",
       "  <tbody>\n",
       "    <tr>\n",
       "      <th>1443</th>\n",
       "      <td>Artem</td>\n",
       "      <td>Lobov</td>\n",
       "      <td>69.0</td>\n",
       "      <td>145.0</td>\n",
       "      <td>65.0</td>\n",
       "      <td>Southpaw</td>\n",
       "      <td>14.0</td>\n",
       "      <td>12.0</td>\n",
       "      <td>1.0</td>\n",
       "      <td>0</td>\n",
       "      <td>1986-11-08</td>\n",
       "      <td>30.278514</td>\n",
       "      <td>0.942029</td>\n",
       "    </tr>\n",
       "    <tr>\n",
       "      <th>1494</th>\n",
       "      <td>Bernardo</td>\n",
       "      <td>Magalhaes</td>\n",
       "      <td>69.0</td>\n",
       "      <td>155.0</td>\n",
       "      <td>65.0</td>\n",
       "      <td>Orthodox</td>\n",
       "      <td>11.0</td>\n",
       "      <td>3.0</td>\n",
       "      <td>0.0</td>\n",
       "      <td>0</td>\n",
       "      <td>1981-04-08</td>\n",
       "      <td>35.863844</td>\n",
       "      <td>0.942029</td>\n",
       "    </tr>\n",
       "    <tr>\n",
       "      <th>807</th>\n",
       "      <td>Sheila</td>\n",
       "      <td>Gaff</td>\n",
       "      <td>65.0</td>\n",
       "      <td>135.0</td>\n",
       "      <td>62.0</td>\n",
       "      <td>Orthodox</td>\n",
       "      <td>10.0</td>\n",
       "      <td>6.0</td>\n",
       "      <td>1.0</td>\n",
       "      <td>0</td>\n",
       "      <td>1989-12-29</td>\n",
       "      <td>27.138134</td>\n",
       "      <td>0.953846</td>\n",
       "    </tr>\n",
       "    <tr>\n",
       "      <th>1214</th>\n",
       "      <td>Jocelyn</td>\n",
       "      <td>Jones-Lybarger</td>\n",
       "      <td>67.0</td>\n",
       "      <td>115.0</td>\n",
       "      <td>64.0</td>\n",
       "      <td>Orthodox</td>\n",
       "      <td>6.0</td>\n",
       "      <td>4.0</td>\n",
       "      <td>0.0</td>\n",
       "      <td>0</td>\n",
       "      <td>1985-10-04</td>\n",
       "      <td>31.373676</td>\n",
       "      <td>0.955224</td>\n",
       "    </tr>\n",
       "    <tr>\n",
       "      <th>824</th>\n",
       "      <td>Cody</td>\n",
       "      <td>Garbrandt</td>\n",
       "      <td>68.0</td>\n",
       "      <td>135.0</td>\n",
       "      <td>65.0</td>\n",
       "      <td>Orthodox</td>\n",
       "      <td>11.0</td>\n",
       "      <td>0.0</td>\n",
       "      <td>0.0</td>\n",
       "      <td>1</td>\n",
       "      <td>1991-07-07</td>\n",
       "      <td>25.618596</td>\n",
       "      <td>0.955882</td>\n",
       "    </tr>\n",
       "    <tr>\n",
       "      <th>2387</th>\n",
       "      <td>Leslie</td>\n",
       "      <td>Smith</td>\n",
       "      <td>69.0</td>\n",
       "      <td>135.0</td>\n",
       "      <td>66.0</td>\n",
       "      <td>Orthodox</td>\n",
       "      <td>9.0</td>\n",
       "      <td>7.0</td>\n",
       "      <td>1.0</td>\n",
       "      <td>0</td>\n",
       "      <td>1982-08-17</td>\n",
       "      <td>34.505842</td>\n",
       "      <td>0.956522</td>\n",
       "    </tr>\n",
       "    <tr>\n",
       "      <th>875</th>\n",
       "      <td>Frank</td>\n",
       "      <td>Gomez</td>\n",
       "      <td>70.0</td>\n",
       "      <td>135.0</td>\n",
       "      <td>67.0</td>\n",
       "      <td>Orthodox</td>\n",
       "      <td>10.0</td>\n",
       "      <td>4.0</td>\n",
       "      <td>0.0</td>\n",
       "      <td>0</td>\n",
       "      <td>1986-03-31</td>\n",
       "      <td>30.886329</td>\n",
       "      <td>0.957143</td>\n",
       "    </tr>\n",
       "    <tr>\n",
       "      <th>1475</th>\n",
       "      <td>Chris</td>\n",
       "      <td>Lytle</td>\n",
       "      <td>71.0</td>\n",
       "      <td>170.0</td>\n",
       "      <td>68.0</td>\n",
       "      <td>Orthodox</td>\n",
       "      <td>31.0</td>\n",
       "      <td>18.0</td>\n",
       "      <td>5.0</td>\n",
       "      <td>0</td>\n",
       "      <td>1974-08-18</td>\n",
       "      <td>42.503268</td>\n",
       "      <td>0.957746</td>\n",
       "    </tr>\n",
       "    <tr>\n",
       "      <th>1724</th>\n",
       "      <td>Peggy</td>\n",
       "      <td>Morgan</td>\n",
       "      <td>73.0</td>\n",
       "      <td>135.0</td>\n",
       "      <td>70.0</td>\n",
       "      <td>NaN</td>\n",
       "      <td>2.0</td>\n",
       "      <td>1.0</td>\n",
       "      <td>0.0</td>\n",
       "      <td>0</td>\n",
       "      <td>1979-12-16</td>\n",
       "      <td>37.175301</td>\n",
       "      <td>0.958904</td>\n",
       "    </tr>\n",
       "    <tr>\n",
       "      <th>637</th>\n",
       "      <td>Milana</td>\n",
       "      <td>Dudieva</td>\n",
       "      <td>63.0</td>\n",
       "      <td>135.0</td>\n",
       "      <td>61.0</td>\n",
       "      <td>Orthodox</td>\n",
       "      <td>11.0</td>\n",
       "      <td>5.0</td>\n",
       "      <td>0.0</td>\n",
       "      <td>0</td>\n",
       "      <td>1989-08-04</td>\n",
       "      <td>27.540607</td>\n",
       "      <td>0.968254</td>\n",
       "    </tr>\n",
       "  </tbody>\n",
       "</table>\n",
       "</div>"
      ],
      "text/plain": [
       "         First            Last  Height  Weight  Reach    Stance   Win  Loss  \\\n",
       "1443     Artem           Lobov    69.0   145.0   65.0  Southpaw  14.0  12.0   \n",
       "1494  Bernardo       Magalhaes    69.0   155.0   65.0  Orthodox  11.0   3.0   \n",
       "807     Sheila            Gaff    65.0   135.0   62.0  Orthodox  10.0   6.0   \n",
       "1214   Jocelyn  Jones-Lybarger    67.0   115.0   64.0  Orthodox   6.0   4.0   \n",
       "824       Cody       Garbrandt    68.0   135.0   65.0  Orthodox  11.0   0.0   \n",
       "2387    Leslie           Smith    69.0   135.0   66.0  Orthodox   9.0   7.0   \n",
       "875      Frank           Gomez    70.0   135.0   67.0  Orthodox  10.0   4.0   \n",
       "1475     Chris           Lytle    71.0   170.0   68.0  Orthodox  31.0  18.0   \n",
       "1724     Peggy          Morgan    73.0   135.0   70.0       NaN   2.0   1.0   \n",
       "637     Milana         Dudieva    63.0   135.0   61.0  Orthodox  11.0   5.0   \n",
       "\n",
       "      Draw  Belt        Dob        Age  ReachHeight  \n",
       "1443   1.0     0 1986-11-08  30.278514     0.942029  \n",
       "1494   0.0     0 1981-04-08  35.863844     0.942029  \n",
       "807    1.0     0 1989-12-29  27.138134     0.953846  \n",
       "1214   0.0     0 1985-10-04  31.373676     0.955224  \n",
       "824    0.0     1 1991-07-07  25.618596     0.955882  \n",
       "2387   1.0     0 1982-08-17  34.505842     0.956522  \n",
       "875    0.0     0 1986-03-31  30.886329     0.957143  \n",
       "1475   5.0     0 1974-08-18  42.503268     0.957746  \n",
       "1724   0.0     0 1979-12-16  37.175301     0.958904  \n",
       "637    0.0     0 1989-08-04  27.540607     0.968254  "
      ]
     },
     "execution_count": 20,
     "metadata": {},
     "output_type": "execute_result"
    }
   ],
   "source": [
    "df.drop(['Nickname', 'Name'], axis=1).dropna(subset=['Reach', 'Height']).sort_values('ReachHeight', ascending=True).head(10)"
   ]
  },
  {
   "cell_type": "markdown",
   "metadata": {},
   "source": [
    "### Which fighters have the most fights?"
   ]
  },
  {
   "cell_type": "code",
   "execution_count": 21,
   "metadata": {
    "collapsed": true
   },
   "outputs": [],
   "source": [
    "df['Fights'] = df['Win'] + df['Loss'] + df['Draw']\n",
    "df['WinRatio'] = df['Win'] / df['Fights']"
   ]
  },
  {
   "cell_type": "code",
   "execution_count": 22,
   "metadata": {
    "collapsed": false
   },
   "outputs": [
    {
     "data": {
      "text/html": [
       "<div>\n",
       "<table border=\"1\" class=\"dataframe\">\n",
       "  <thead>\n",
       "    <tr style=\"text-align: right;\">\n",
       "      <th></th>\n",
       "      <th>First</th>\n",
       "      <th>Last</th>\n",
       "      <th>Height</th>\n",
       "      <th>Weight</th>\n",
       "      <th>Reach</th>\n",
       "      <th>Stance</th>\n",
       "      <th>Win</th>\n",
       "      <th>Loss</th>\n",
       "      <th>Draw</th>\n",
       "      <th>Belt</th>\n",
       "      <th>Dob</th>\n",
       "      <th>Age</th>\n",
       "      <th>ReachHeight</th>\n",
       "      <th>Fights</th>\n",
       "      <th>WinRatio</th>\n",
       "    </tr>\n",
       "  </thead>\n",
       "  <tbody>\n",
       "    <tr>\n",
       "      <th>799</th>\n",
       "      <td>Travis</td>\n",
       "      <td>Fulton</td>\n",
       "      <td>72.0</td>\n",
       "      <td>240.0</td>\n",
       "      <td>NaN</td>\n",
       "      <td>Orthodox</td>\n",
       "      <td>127.0</td>\n",
       "      <td>49.0</td>\n",
       "      <td>10.0</td>\n",
       "      <td>0</td>\n",
       "      <td>1977-05-29</td>\n",
       "      <td>39.724293</td>\n",
       "      <td>NaN</td>\n",
       "      <td>186.0</td>\n",
       "      <td>0.682796</td>\n",
       "    </tr>\n",
       "    <tr>\n",
       "      <th>2307</th>\n",
       "      <td>Dan</td>\n",
       "      <td>Severn</td>\n",
       "      <td>74.0</td>\n",
       "      <td>250.0</td>\n",
       "      <td>NaN</td>\n",
       "      <td>Southpaw</td>\n",
       "      <td>100.0</td>\n",
       "      <td>18.0</td>\n",
       "      <td>7.0</td>\n",
       "      <td>0</td>\n",
       "      <td>1958-06-08</td>\n",
       "      <td>58.697988</td>\n",
       "      <td>NaN</td>\n",
       "      <td>125.0</td>\n",
       "      <td>0.800000</td>\n",
       "    </tr>\n",
       "    <tr>\n",
       "      <th>2104</th>\n",
       "      <td>Shannon</td>\n",
       "      <td>Ritch</td>\n",
       "      <td>69.0</td>\n",
       "      <td>190.0</td>\n",
       "      <td>NaN</td>\n",
       "      <td>Orthodox</td>\n",
       "      <td>47.0</td>\n",
       "      <td>74.0</td>\n",
       "      <td>0.0</td>\n",
       "      <td>0</td>\n",
       "      <td>1970-09-27</td>\n",
       "      <td>46.393834</td>\n",
       "      <td>NaN</td>\n",
       "      <td>121.0</td>\n",
       "      <td>0.388430</td>\n",
       "    </tr>\n",
       "    <tr>\n",
       "      <th>1089</th>\n",
       "      <td>Jeremy</td>\n",
       "      <td>Horn</td>\n",
       "      <td>73.0</td>\n",
       "      <td>185.0</td>\n",
       "      <td>74.0</td>\n",
       "      <td>Orthodox</td>\n",
       "      <td>88.0</td>\n",
       "      <td>21.0</td>\n",
       "      <td>5.0</td>\n",
       "      <td>0</td>\n",
       "      <td>1975-08-25</td>\n",
       "      <td>41.484767</td>\n",
       "      <td>1.013699</td>\n",
       "      <td>114.0</td>\n",
       "      <td>0.771930</td>\n",
       "    </tr>\n",
       "    <tr>\n",
       "      <th>2066</th>\n",
       "      <td>Dennis</td>\n",
       "      <td>Reed</td>\n",
       "      <td>NaN</td>\n",
       "      <td>205.0</td>\n",
       "      <td>NaN</td>\n",
       "      <td>Orthodox</td>\n",
       "      <td>43.0</td>\n",
       "      <td>52.0</td>\n",
       "      <td>1.0</td>\n",
       "      <td>0</td>\n",
       "      <td>NaT</td>\n",
       "      <td>NaN</td>\n",
       "      <td>NaN</td>\n",
       "      <td>96.0</td>\n",
       "      <td>0.447917</td>\n",
       "    </tr>\n",
       "  </tbody>\n",
       "</table>\n",
       "</div>"
      ],
      "text/plain": [
       "        First    Last  Height  Weight  Reach    Stance    Win  Loss  Draw  \\\n",
       "799    Travis  Fulton    72.0   240.0    NaN  Orthodox  127.0  49.0  10.0   \n",
       "2307      Dan  Severn    74.0   250.0    NaN  Southpaw  100.0  18.0   7.0   \n",
       "2104  Shannon   Ritch    69.0   190.0    NaN  Orthodox   47.0  74.0   0.0   \n",
       "1089   Jeremy    Horn    73.0   185.0   74.0  Orthodox   88.0  21.0   5.0   \n",
       "2066   Dennis    Reed     NaN   205.0    NaN  Orthodox   43.0  52.0   1.0   \n",
       "\n",
       "      Belt        Dob        Age  ReachHeight  Fights  WinRatio  \n",
       "799      0 1977-05-29  39.724293          NaN   186.0  0.682796  \n",
       "2307     0 1958-06-08  58.697988          NaN   125.0  0.800000  \n",
       "2104     0 1970-09-27  46.393834          NaN   121.0  0.388430  \n",
       "1089     0 1975-08-25  41.484767     1.013699   114.0  0.771930  \n",
       "2066     0        NaT        NaN          NaN    96.0  0.447917  "
      ]
     },
     "execution_count": 22,
     "metadata": {},
     "output_type": "execute_result"
    }
   ],
   "source": [
    "df.sort_values('Fights', ascending=False).head(5).drop(['Nickname', 'Name'], axis=1)"
   ]
  },
  {
   "cell_type": "markdown",
   "metadata": {},
   "source": [
    "### Which fighters (with more than 15 fights) have the best win ratio?"
   ]
  },
  {
   "cell_type": "code",
   "execution_count": 23,
   "metadata": {
    "collapsed": false
   },
   "outputs": [
    {
     "data": {
      "text/html": [
       "<div>\n",
       "<table border=\"1\" class=\"dataframe\">\n",
       "  <thead>\n",
       "    <tr style=\"text-align: right;\">\n",
       "      <th></th>\n",
       "      <th>First</th>\n",
       "      <th>Last</th>\n",
       "      <th>Height</th>\n",
       "      <th>Weight</th>\n",
       "      <th>Reach</th>\n",
       "      <th>Stance</th>\n",
       "      <th>Win</th>\n",
       "      <th>Loss</th>\n",
       "      <th>Draw</th>\n",
       "      <th>Belt</th>\n",
       "      <th>Dob</th>\n",
       "      <th>Age</th>\n",
       "      <th>ReachHeight</th>\n",
       "      <th>Fights</th>\n",
       "      <th>WinRatio</th>\n",
       "    </tr>\n",
       "  </thead>\n",
       "  <tbody>\n",
       "    <tr>\n",
       "      <th>1659</th>\n",
       "      <td>Phillip</td>\n",
       "      <td>Miller</td>\n",
       "      <td>71.0</td>\n",
       "      <td>185.0</td>\n",
       "      <td>NaN</td>\n",
       "      <td>Orthodox</td>\n",
       "      <td>16.0</td>\n",
       "      <td>0.0</td>\n",
       "      <td>0.0</td>\n",
       "      <td>0</td>\n",
       "      <td>1979-02-20</td>\n",
       "      <td>37.993936</td>\n",
       "      <td>NaN</td>\n",
       "      <td>16.0</td>\n",
       "      <td>1.000000</td>\n",
       "    </tr>\n",
       "    <tr>\n",
       "      <th>1833</th>\n",
       "      <td>Khabib</td>\n",
       "      <td>Nurmagomedov</td>\n",
       "      <td>70.0</td>\n",
       "      <td>155.0</td>\n",
       "      <td>70.0</td>\n",
       "      <td>Orthodox</td>\n",
       "      <td>24.0</td>\n",
       "      <td>0.0</td>\n",
       "      <td>0.0</td>\n",
       "      <td>0</td>\n",
       "      <td>1988-09-20</td>\n",
       "      <td>28.411261</td>\n",
       "      <td>1.000000</td>\n",
       "      <td>24.0</td>\n",
       "      <td>1.000000</td>\n",
       "    </tr>\n",
       "    <tr>\n",
       "      <th>1794</th>\n",
       "      <td>Julio Cesar</td>\n",
       "      <td>Neves Jr.</td>\n",
       "      <td>68.0</td>\n",
       "      <td>145.0</td>\n",
       "      <td>NaN</td>\n",
       "      <td>NaN</td>\n",
       "      <td>30.0</td>\n",
       "      <td>1.0</td>\n",
       "      <td>0.0</td>\n",
       "      <td>0</td>\n",
       "      <td>1994-04-25</td>\n",
       "      <td>22.817717</td>\n",
       "      <td>NaN</td>\n",
       "      <td>31.0</td>\n",
       "      <td>0.967742</td>\n",
       "    </tr>\n",
       "    <tr>\n",
       "      <th>2353</th>\n",
       "      <td>Douglas</td>\n",
       "      <td>Silva de Andrade</td>\n",
       "      <td>67.0</td>\n",
       "      <td>135.0</td>\n",
       "      <td>68.0</td>\n",
       "      <td>Orthodox</td>\n",
       "      <td>24.0</td>\n",
       "      <td>1.0</td>\n",
       "      <td>0.0</td>\n",
       "      <td>0</td>\n",
       "      <td>1985-06-22</td>\n",
       "      <td>31.658419</td>\n",
       "      <td>1.014925</td>\n",
       "      <td>25.0</td>\n",
       "      <td>0.960000</td>\n",
       "    </tr>\n",
       "    <tr>\n",
       "      <th>1202</th>\n",
       "      <td>Jon</td>\n",
       "      <td>Jones</td>\n",
       "      <td>76.0</td>\n",
       "      <td>205.0</td>\n",
       "      <td>84.0</td>\n",
       "      <td>Orthodox</td>\n",
       "      <td>22.0</td>\n",
       "      <td>1.0</td>\n",
       "      <td>0.0</td>\n",
       "      <td>0</td>\n",
       "      <td>1987-07-19</td>\n",
       "      <td>29.585823</td>\n",
       "      <td>1.105263</td>\n",
       "      <td>23.0</td>\n",
       "      <td>0.956522</td>\n",
       "    </tr>\n",
       "  </tbody>\n",
       "</table>\n",
       "</div>"
      ],
      "text/plain": [
       "            First              Last  Height  Weight  Reach    Stance   Win  \\\n",
       "1659      Phillip            Miller    71.0   185.0    NaN  Orthodox  16.0   \n",
       "1833       Khabib      Nurmagomedov    70.0   155.0   70.0  Orthodox  24.0   \n",
       "1794  Julio Cesar         Neves Jr.    68.0   145.0    NaN       NaN  30.0   \n",
       "2353      Douglas  Silva de Andrade    67.0   135.0   68.0  Orthodox  24.0   \n",
       "1202          Jon             Jones    76.0   205.0   84.0  Orthodox  22.0   \n",
       "\n",
       "      Loss  Draw  Belt        Dob        Age  ReachHeight  Fights  WinRatio  \n",
       "1659   0.0   0.0     0 1979-02-20  37.993936          NaN    16.0  1.000000  \n",
       "1833   0.0   0.0     0 1988-09-20  28.411261     1.000000    24.0  1.000000  \n",
       "1794   1.0   0.0     0 1994-04-25  22.817717          NaN    31.0  0.967742  \n",
       "2353   1.0   0.0     0 1985-06-22  31.658419     1.014925    25.0  0.960000  \n",
       "1202   1.0   0.0     0 1987-07-19  29.585823     1.105263    23.0  0.956522  "
      ]
     },
     "execution_count": 23,
     "metadata": {},
     "output_type": "execute_result"
    }
   ],
   "source": [
    "df[df.Fights > 15].sort_values('WinRatio', ascending=False).head(5).drop(['Nickname', 'Name'], axis=1)"
   ]
  },
  {
   "cell_type": "markdown",
   "metadata": {},
   "source": [
    "### What is the distribtion of win ratios?"
   ]
  },
  {
   "cell_type": "code",
   "execution_count": 24,
   "metadata": {
    "collapsed": false
   },
   "outputs": [
    {
     "data": {
      "text/plain": [
       "<matplotlib.text.Text at 0x112be6590>"
      ]
     },
     "execution_count": 24,
     "metadata": {},
     "output_type": "execute_result"
    },
    {
     "data": {
      "image/png": "[encoded data removed]",
      "text/plain": [
       "<matplotlib.figure.Figure at 0x112b38150>"
      ]
     },
     "metadata": {},
     "output_type": "display_data"
    }
   ],
   "source": [
    "plt.hist(df.WinRatio.dropna(), bins=25)\n",
    "plt.xlabel('Win ratio')\n",
    "plt.ylabel('Count')"
   ]
  },
  {
   "cell_type": "markdown",
   "metadata": {},
   "source": [
    "### Who are the champions?"
   ]
  },
  {
   "cell_type": "code",
   "execution_count": 25,
   "metadata": {
    "collapsed": false
   },
   "outputs": [
    {
     "data": {
      "text/html": [
       "<div>\n",
       "<table border=\"1\" class=\"dataframe\">\n",
       "  <thead>\n",
       "    <tr style=\"text-align: right;\">\n",
       "      <th></th>\n",
       "      <th>First</th>\n",
       "      <th>Last</th>\n",
       "      <th>Height</th>\n",
       "      <th>Weight</th>\n",
       "      <th>Reach</th>\n",
       "      <th>Stance</th>\n",
       "      <th>Win</th>\n",
       "      <th>Loss</th>\n",
       "      <th>Draw</th>\n",
       "      <th>Belt</th>\n",
       "      <th>Dob</th>\n",
       "      <th>Age</th>\n",
       "      <th>ReachHeight</th>\n",
       "      <th>Fights</th>\n",
       "      <th>WinRatio</th>\n",
       "    </tr>\n",
       "  </thead>\n",
       "  <tbody>\n",
       "    <tr>\n",
       "      <th>1169</th>\n",
       "      <td>Joanna</td>\n",
       "      <td>Jedrzejczyk</td>\n",
       "      <td>66.0</td>\n",
       "      <td>115.0</td>\n",
       "      <td>65.0</td>\n",
       "      <td>Orthodox</td>\n",
       "      <td>13.0</td>\n",
       "      <td>0.0</td>\n",
       "      <td>0.0</td>\n",
       "      <td>1</td>\n",
       "      <td>1987-08-18</td>\n",
       "      <td>29.503686</td>\n",
       "      <td>0.984848</td>\n",
       "      <td>13.0</td>\n",
       "      <td>1.000000</td>\n",
       "    </tr>\n",
       "    <tr>\n",
       "      <th>1191</th>\n",
       "      <td>Demetrious</td>\n",
       "      <td>Johnson</td>\n",
       "      <td>63.0</td>\n",
       "      <td>125.0</td>\n",
       "      <td>66.0</td>\n",
       "      <td>Orthodox</td>\n",
       "      <td>24.0</td>\n",
       "      <td>2.0</td>\n",
       "      <td>1.0</td>\n",
       "      <td>1</td>\n",
       "      <td>1986-08-13</td>\n",
       "      <td>30.516711</td>\n",
       "      <td>1.047619</td>\n",
       "      <td>27.0</td>\n",
       "      <td>0.888889</td>\n",
       "    </tr>\n",
       "    <tr>\n",
       "      <th>824</th>\n",
       "      <td>Cody</td>\n",
       "      <td>Garbrandt</td>\n",
       "      <td>68.0</td>\n",
       "      <td>135.0</td>\n",
       "      <td>65.0</td>\n",
       "      <td>Orthodox</td>\n",
       "      <td>11.0</td>\n",
       "      <td>0.0</td>\n",
       "      <td>0.0</td>\n",
       "      <td>1</td>\n",
       "      <td>1991-07-07</td>\n",
       "      <td>25.618596</td>\n",
       "      <td>0.955882</td>\n",
       "      <td>11.0</td>\n",
       "      <td>1.000000</td>\n",
       "    </tr>\n",
       "    <tr>\n",
       "      <th>1832</th>\n",
       "      <td>Amanda</td>\n",
       "      <td>Nunes</td>\n",
       "      <td>68.0</td>\n",
       "      <td>135.0</td>\n",
       "      <td>69.0</td>\n",
       "      <td>Orthodox</td>\n",
       "      <td>14.0</td>\n",
       "      <td>4.0</td>\n",
       "      <td>0.0</td>\n",
       "      <td>1</td>\n",
       "      <td>1988-05-30</td>\n",
       "      <td>28.720645</td>\n",
       "      <td>1.014706</td>\n",
       "      <td>18.0</td>\n",
       "      <td>0.777778</td>\n",
       "    </tr>\n",
       "    <tr>\n",
       "      <th>32</th>\n",
       "      <td>Jose</td>\n",
       "      <td>Aldo</td>\n",
       "      <td>67.0</td>\n",
       "      <td>145.0</td>\n",
       "      <td>70.0</td>\n",
       "      <td>Orthodox</td>\n",
       "      <td>26.0</td>\n",
       "      <td>2.0</td>\n",
       "      <td>0.0</td>\n",
       "      <td>1</td>\n",
       "      <td>1986-09-09</td>\n",
       "      <td>30.442788</td>\n",
       "      <td>1.044776</td>\n",
       "      <td>28.0</td>\n",
       "      <td>0.928571</td>\n",
       "    </tr>\n",
       "    <tr>\n",
       "      <th>562</th>\n",
       "      <td>Germaine</td>\n",
       "      <td>de Randamie</td>\n",
       "      <td>69.0</td>\n",
       "      <td>145.0</td>\n",
       "      <td>71.0</td>\n",
       "      <td>Orthodox</td>\n",
       "      <td>7.0</td>\n",
       "      <td>3.0</td>\n",
       "      <td>0.0</td>\n",
       "      <td>1</td>\n",
       "      <td>1984-04-24</td>\n",
       "      <td>32.819291</td>\n",
       "      <td>1.028986</td>\n",
       "      <td>10.0</td>\n",
       "      <td>0.700000</td>\n",
       "    </tr>\n",
       "    <tr>\n",
       "      <th>1069</th>\n",
       "      <td>Max</td>\n",
       "      <td>Holloway</td>\n",
       "      <td>71.0</td>\n",
       "      <td>145.0</td>\n",
       "      <td>69.0</td>\n",
       "      <td>Orthodox</td>\n",
       "      <td>17.0</td>\n",
       "      <td>3.0</td>\n",
       "      <td>0.0</td>\n",
       "      <td>1</td>\n",
       "      <td>1991-12-04</td>\n",
       "      <td>25.207910</td>\n",
       "      <td>0.971831</td>\n",
       "      <td>20.0</td>\n",
       "      <td>0.850000</td>\n",
       "    </tr>\n",
       "    <tr>\n",
       "      <th>1601</th>\n",
       "      <td>Conor</td>\n",
       "      <td>McGregor</td>\n",
       "      <td>69.0</td>\n",
       "      <td>170.0</td>\n",
       "      <td>74.0</td>\n",
       "      <td>Southpaw</td>\n",
       "      <td>21.0</td>\n",
       "      <td>3.0</td>\n",
       "      <td>0.0</td>\n",
       "      <td>1</td>\n",
       "      <td>1988-07-14</td>\n",
       "      <td>28.597439</td>\n",
       "      <td>1.072464</td>\n",
       "      <td>24.0</td>\n",
       "      <td>0.875000</td>\n",
       "    </tr>\n",
       "    <tr>\n",
       "      <th>2765</th>\n",
       "      <td>Tyron</td>\n",
       "      <td>Woodley</td>\n",
       "      <td>69.0</td>\n",
       "      <td>170.0</td>\n",
       "      <td>74.0</td>\n",
       "      <td>Orthodox</td>\n",
       "      <td>16.0</td>\n",
       "      <td>3.0</td>\n",
       "      <td>1.0</td>\n",
       "      <td>1</td>\n",
       "      <td>1982-04-07</td>\n",
       "      <td>34.867246</td>\n",
       "      <td>1.072464</td>\n",
       "      <td>20.0</td>\n",
       "      <td>0.800000</td>\n",
       "    </tr>\n",
       "    <tr>\n",
       "      <th>204</th>\n",
       "      <td>Michael</td>\n",
       "      <td>Bisping</td>\n",
       "      <td>73.0</td>\n",
       "      <td>185.0</td>\n",
       "      <td>75.0</td>\n",
       "      <td>Orthodox</td>\n",
       "      <td>31.0</td>\n",
       "      <td>7.0</td>\n",
       "      <td>0.0</td>\n",
       "      <td>1</td>\n",
       "      <td>1979-02-28</td>\n",
       "      <td>37.972032</td>\n",
       "      <td>1.027397</td>\n",
       "      <td>38.0</td>\n",
       "      <td>0.815789</td>\n",
       "    </tr>\n",
       "    <tr>\n",
       "      <th>478</th>\n",
       "      <td>Daniel</td>\n",
       "      <td>Cormier</td>\n",
       "      <td>71.0</td>\n",
       "      <td>205.0</td>\n",
       "      <td>72.0</td>\n",
       "      <td>Orthodox</td>\n",
       "      <td>18.0</td>\n",
       "      <td>1.0</td>\n",
       "      <td>0.0</td>\n",
       "      <td>1</td>\n",
       "      <td>1979-03-20</td>\n",
       "      <td>37.917274</td>\n",
       "      <td>1.014085</td>\n",
       "      <td>19.0</td>\n",
       "      <td>0.947368</td>\n",
       "    </tr>\n",
       "    <tr>\n",
       "      <th>1674</th>\n",
       "      <td>Stipe</td>\n",
       "      <td>Miocic</td>\n",
       "      <td>76.0</td>\n",
       "      <td>240.0</td>\n",
       "      <td>80.0</td>\n",
       "      <td>Orthodox</td>\n",
       "      <td>16.0</td>\n",
       "      <td>2.0</td>\n",
       "      <td>0.0</td>\n",
       "      <td>1</td>\n",
       "      <td>1982-08-19</td>\n",
       "      <td>34.500366</td>\n",
       "      <td>1.052632</td>\n",
       "      <td>18.0</td>\n",
       "      <td>0.888889</td>\n",
       "    </tr>\n",
       "  </tbody>\n",
       "</table>\n",
       "</div>"
      ],
      "text/plain": [
       "           First         Last  Height  Weight  Reach    Stance   Win  Loss  \\\n",
       "1169      Joanna  Jedrzejczyk    66.0   115.0   65.0  Orthodox  13.0   0.0   \n",
       "1191  Demetrious      Johnson    63.0   125.0   66.0  Orthodox  24.0   2.0   \n",
       "824         Cody    Garbrandt    68.0   135.0   65.0  Orthodox  11.0   0.0   \n",
       "1832      Amanda        Nunes    68.0   135.0   69.0  Orthodox  14.0   4.0   \n",
       "32          Jose         Aldo    67.0   145.0   70.0  Orthodox  26.0   2.0   \n",
       "562     Germaine  de Randamie    69.0   145.0   71.0  Orthodox   7.0   3.0   \n",
       "1069         Max     Holloway    71.0   145.0   69.0  Orthodox  17.0   3.0   \n",
       "1601       Conor     McGregor    69.0   170.0   74.0  Southpaw  21.0   3.0   \n",
       "2765       Tyron      Woodley    69.0   170.0   74.0  Orthodox  16.0   3.0   \n",
       "204      Michael      Bisping    73.0   185.0   75.0  Orthodox  31.0   7.0   \n",
       "478       Daniel      Cormier    71.0   205.0   72.0  Orthodox  18.0   1.0   \n",
       "1674       Stipe       Miocic    76.0   240.0   80.0  Orthodox  16.0   2.0   \n",
       "\n",
       "      Draw  Belt        Dob        Age  ReachHeight  Fights  WinRatio  \n",
       "1169   0.0     1 1987-08-18  29.503686     0.984848    13.0  1.000000  \n",
       "1191   1.0     1 1986-08-13  30.516711     1.047619    27.0  0.888889  \n",
       "824    0.0     1 1991-07-07  25.618596     0.955882    11.0  1.000000  \n",
       "1832   0.0     1 1988-05-30  28.720645     1.014706    18.0  0.777778  \n",
       "32     0.0     1 1986-09-09  30.442788     1.044776    28.0  0.928571  \n",
       "562    0.0     1 1984-04-24  32.819291     1.028986    10.0  0.700000  \n",
       "1069   0.0     1 1991-12-04  25.207910     0.971831    20.0  0.850000  \n",
       "1601   0.0     1 1988-07-14  28.597439     1.072464    24.0  0.875000  \n",
       "2765   1.0     1 1982-04-07  34.867246     1.072464    20.0  0.800000  \n",
       "204    0.0     1 1979-02-28  37.972032     1.027397    38.0  0.815789  \n",
       "478    0.0     1 1979-03-20  37.917274     1.014085    19.0  0.947368  \n",
       "1674   0.0     1 1982-08-19  34.500366     1.052632    18.0  0.888889  "
      ]
     },
     "execution_count": 25,
     "metadata": {},
     "output_type": "execute_result"
    }
   ],
   "source": [
    "df[df.Belt == 1].sort_values('Weight').drop(['Nickname', 'Name'], axis=1)"
   ]
  },
  {
   "cell_type": "markdown",
   "metadata": {},
   "source": [
    "### How does win ratio vary with reach-to-height ratio (for fighters with more than 10 fights)?"
   ]
  },
  {
   "cell_type": "code",
   "execution_count": 26,
   "metadata": {
    "collapsed": false
   },
   "outputs": [
    {
     "data": {
      "text/plain": [
       "<matplotlib.text.Text at 0x112f95f90>"
      ]
     },
     "execution_count": 26,
     "metadata": {},
     "output_type": "execute_result"
    },
    {
     "data": {
      "image/png": "[encoded data removed]",
      "text/plain": [
       "<matplotlib.figure.Figure at 0x10f776150>"
      ]
     },
     "metadata": {},
     "output_type": "display_data"
    }
   ],
   "source": [
    "f10 = df[df.Fights > 10][['WinRatio', 'ReachHeight']].dropna()\n",
    "m, b = np.polyfit(f10.ReachHeight.values, f10.WinRatio.values, 1)\n",
    "plt.plot(f10.ReachHeight, f10.WinRatio, 'wo')\n",
    "plt.plot(np.linspace(0.9, 1.15), m * np.linspace(0.9, 1.15) + b, 'k-')\n",
    "plt.xlim(0.9, 1.15)\n",
    "plt.ylim(0, 1.2)\n",
    "plt.xlabel('Reach / Height')\n",
    "plt.ylabel('Win ratio')"
   ]
  },
  {
   "cell_type": "markdown",
   "metadata": {},
   "source": [
    "#### Statistical Test"
   ]
  },
  {
   "cell_type": "code",
   "execution_count": 27,
   "metadata": {
    "collapsed": false
   },
   "outputs": [
    {
     "name": "stdout",
     "output_type": "stream",
     "text": [
      "0.0834931863553 0.00802894488485\n",
      "0.0722699544644 0.0218185085266\n"
     ]
    }
   ],
   "source": [
    "from scipy.stats import pearsonr, spearmanr\n",
    "\n",
    "corr_pearson, p_value_pearson = pearsonr(f10.ReachHeight, f10.WinRatio)\n",
    "corr_spearman, p_value_spearman = spearmanr(f10.ReachHeight, f10.WinRatio)\n",
    "print corr_pearson, p_value_pearson\n",
    "print corr_spearman, p_value_spearman"
   ]
  },
  {
   "cell_type": "markdown",
   "metadata": {},
   "source": [
    "We see that the correlation is small but statistically significant according to both measures."
   ]
  },
  {
   "cell_type": "markdown",
   "metadata": {},
   "source": [
    "### What are the different stances and how many fighters use them?"
   ]
  },
  {
   "cell_type": "code",
   "execution_count": 28,
   "metadata": {
    "collapsed": false
   },
   "outputs": [
    {
     "data": {
      "text/html": [
       "<div>\n",
       "<table border=\"1\" class=\"dataframe\">\n",
       "  <thead>\n",
       "    <tr style=\"text-align: right;\">\n",
       "      <th></th>\n",
       "      <th>Count</th>\n",
       "      <th>Percentage</th>\n",
       "    </tr>\n",
       "  </thead>\n",
       "  <tbody>\n",
       "    <tr>\n",
       "      <th>Orthodox</th>\n",
       "      <td>1611</td>\n",
       "      <td>79.71</td>\n",
       "    </tr>\n",
       "    <tr>\n",
       "      <th>Southpaw</th>\n",
       "      <td>352</td>\n",
       "      <td>17.42</td>\n",
       "    </tr>\n",
       "    <tr>\n",
       "      <th>Switch</th>\n",
       "      <td>48</td>\n",
       "      <td>2.38</td>\n",
       "    </tr>\n",
       "    <tr>\n",
       "      <th>Open Stance</th>\n",
       "      <td>7</td>\n",
       "      <td>0.35</td>\n",
       "    </tr>\n",
       "    <tr>\n",
       "      <th>Sideways</th>\n",
       "      <td>3</td>\n",
       "      <td>0.15</td>\n",
       "    </tr>\n",
       "  </tbody>\n",
       "</table>\n",
       "</div>"
      ],
      "text/plain": [
       "             Count  Percentage\n",
       "Orthodox      1611       79.71\n",
       "Southpaw       352       17.42\n",
       "Switch          48        2.38\n",
       "Open Stance      7        0.35\n",
       "Sideways         3        0.15"
      ]
     },
     "execution_count": 28,
     "metadata": {},
     "output_type": "execute_result"
    }
   ],
   "source": [
    "stance_overview = pd.DataFrame([df.Stance.value_counts(normalize=False), 100 * df.Stance.value_counts(normalize=True)]).T.applymap(lambda x: round(x, 2))\n",
    "stance_overview.columns = ['Count', 'Percentage']\n",
    "stance_overview.astype({'Count':int})"
   ]
  },
  {
   "cell_type": "markdown",
   "metadata": {},
   "source": [
    "### What are the average win ratio, height and reach for each stance?"
   ]
  },
  {
   "cell_type": "code",
   "execution_count": 29,
   "metadata": {
    "collapsed": false
   },
   "outputs": [
    {
     "data": {
      "text/html": [
       "<div>\n",
       "<table border=\"1\" class=\"dataframe\">\n",
       "  <thead>\n",
       "    <tr>\n",
       "      <th></th>\n",
       "      <th>Height</th>\n",
       "      <th>Reach</th>\n",
       "      <th colspan=\"3\" halign=\"left\">WinRatio</th>\n",
       "    </tr>\n",
       "    <tr>\n",
       "      <th></th>\n",
       "      <th>mean</th>\n",
       "      <th>mean</th>\n",
       "      <th>size</th>\n",
       "      <th>mean</th>\n",
       "      <th>std</th>\n",
       "    </tr>\n",
       "    <tr>\n",
       "      <th>Stance</th>\n",
       "      <th></th>\n",
       "      <th></th>\n",
       "      <th></th>\n",
       "      <th></th>\n",
       "      <th></th>\n",
       "    </tr>\n",
       "  </thead>\n",
       "  <tbody>\n",
       "    <tr>\n",
       "      <th>Open Stance</th>\n",
       "      <td>73.571429</td>\n",
       "      <td>74.500000</td>\n",
       "      <td>7.0</td>\n",
       "      <td>0.568526</td>\n",
       "      <td>0.159215</td>\n",
       "    </tr>\n",
       "    <tr>\n",
       "      <th>Orthodox</th>\n",
       "      <td>70.678436</td>\n",
       "      <td>71.998864</td>\n",
       "      <td>1611.0</td>\n",
       "      <td>0.653261</td>\n",
       "      <td>0.197109</td>\n",
       "    </tr>\n",
       "    <tr>\n",
       "      <th>Sideways</th>\n",
       "      <td>72.666667</td>\n",
       "      <td>NaN</td>\n",
       "      <td>3.0</td>\n",
       "      <td>0.388889</td>\n",
       "      <td>0.346944</td>\n",
       "    </tr>\n",
       "    <tr>\n",
       "      <th>Southpaw</th>\n",
       "      <td>70.381089</td>\n",
       "      <td>71.810680</td>\n",
       "      <td>352.0</td>\n",
       "      <td>0.668670</td>\n",
       "      <td>0.189263</td>\n",
       "    </tr>\n",
       "    <tr>\n",
       "      <th>Switch</th>\n",
       "      <td>71.104167</td>\n",
       "      <td>72.382353</td>\n",
       "      <td>48.0</td>\n",
       "      <td>0.703476</td>\n",
       "      <td>0.191147</td>\n",
       "    </tr>\n",
       "  </tbody>\n",
       "</table>\n",
       "</div>"
      ],
      "text/plain": [
       "                Height      Reach WinRatio                    \n",
       "                  mean       mean     size      mean       std\n",
       "Stance                                                        \n",
       "Open Stance  73.571429  74.500000      7.0  0.568526  0.159215\n",
       "Orthodox     70.678436  71.998864   1611.0  0.653261  0.197109\n",
       "Sideways     72.666667        NaN      3.0  0.388889  0.346944\n",
       "Southpaw     70.381089  71.810680    352.0  0.668670  0.189263\n",
       "Switch       71.104167  72.382353     48.0  0.703476  0.191147"
      ]
     },
     "execution_count": 29,
     "metadata": {},
     "output_type": "execute_result"
    }
   ],
   "source": [
    "df.groupby('Stance').agg({'WinRatio':[np.size, np.mean, np.std], 'Height':np.mean, 'Reach':np.mean})"
   ]
  },
  {
   "cell_type": "markdown",
   "metadata": {},
   "source": [
    "### Is the win ratio of southpaws higher than that of orthodox (for fighters with more than 10 fights)?"
   ]
  },
  {
   "cell_type": "code",
   "execution_count": 30,
   "metadata": {
    "collapsed": false
   },
   "outputs": [
    {
     "data": {
      "text/html": [
       "<div>\n",
       "<table border=\"1\" class=\"dataframe\">\n",
       "  <thead>\n",
       "    <tr>\n",
       "      <th></th>\n",
       "      <th colspan=\"3\" halign=\"left\">Height</th>\n",
       "      <th colspan=\"2\" halign=\"left\">Reach</th>\n",
       "      <th colspan=\"2\" halign=\"left\">WinRatio</th>\n",
       "    </tr>\n",
       "    <tr>\n",
       "      <th></th>\n",
       "      <th>size</th>\n",
       "      <th>mean</th>\n",
       "      <th>std</th>\n",
       "      <th>mean</th>\n",
       "      <th>std</th>\n",
       "      <th>mean</th>\n",
       "      <th>std</th>\n",
       "    </tr>\n",
       "    <tr>\n",
       "      <th>Stance</th>\n",
       "      <th></th>\n",
       "      <th></th>\n",
       "      <th></th>\n",
       "      <th></th>\n",
       "      <th></th>\n",
       "      <th></th>\n",
       "      <th></th>\n",
       "    </tr>\n",
       "  </thead>\n",
       "  <tbody>\n",
       "    <tr>\n",
       "      <th>Orthodox</th>\n",
       "      <td>1203.0</td>\n",
       "      <td>70.60</td>\n",
       "      <td>3.27</td>\n",
       "      <td>72.07</td>\n",
       "      <td>3.94</td>\n",
       "      <td>0.69</td>\n",
       "      <td>0.13</td>\n",
       "    </tr>\n",
       "    <tr>\n",
       "      <th>Southpaw</th>\n",
       "      <td>277.0</td>\n",
       "      <td>70.24</td>\n",
       "      <td>2.99</td>\n",
       "      <td>71.84</td>\n",
       "      <td>3.54</td>\n",
       "      <td>0.70</td>\n",
       "      <td>0.13</td>\n",
       "    </tr>\n",
       "  </tbody>\n",
       "</table>\n",
       "</div>"
      ],
      "text/plain": [
       "          Height               Reach       WinRatio      \n",
       "            size   mean   std   mean   std     mean   std\n",
       "Stance                                                   \n",
       "Orthodox  1203.0  70.60  3.27  72.07  3.94     0.69  0.13\n",
       "Southpaw   277.0  70.24  2.99  71.84  3.54     0.70  0.13"
      ]
     },
     "execution_count": 30,
     "metadata": {},
     "output_type": "execute_result"
    }
   ],
   "source": [
    "f10_stance = df[df.Stance.isin(['Orthodox', 'Southpaw']) & (df.Fights > 10)]\n",
    "stance = f10_stance.groupby('Stance').agg({'WinRatio':[np.mean, np.std], 'Height':[np.size, np.mean, np.std], 'Reach':[np.mean, np.std]})\n",
    "stance.astype({('Height', 'size'):int}).applymap(lambda x: round(x, 2))"
   ]
  },
  {
   "cell_type": "code",
   "execution_count": 31,
   "metadata": {
    "collapsed": false,
    "scrolled": true
   },
   "outputs": [
    {
     "data": {
      "text/plain": [
       "<matplotlib.text.Text at 0x114adb1d0>"
      ]
     },
     "execution_count": 31,
     "metadata": {},
     "output_type": "execute_result"
    },
    {
     "data": {
      "image/png": "[encoded data removed]",
      "text/plain": [
       "<matplotlib.figure.Figure at 0x112f68b50>"
      ]
     },
     "metadata": {},
     "output_type": "display_data"
    }
   ],
   "source": [
    "fig = plt.figure(1, figsize=(4, 3))\n",
    "plt.bar(range(stance.shape[0]), stance[('WinRatio', 'mean')], width=0.5, tick_label=stance.index.values, align='center')\n",
    "plt.ylim(0, 1)\n",
    "plt.ylabel('Win ratio')"
   ]
  },
  {
   "cell_type": "code",
   "execution_count": 32,
   "metadata": {
    "collapsed": false
   },
   "outputs": [],
   "source": [
    "orthodox = f10_stance[(f10_stance.Stance == 'Orthodox')].WinRatio\n",
    "southpaw = f10_stance[(f10_stance.Stance == 'Southpaw')].WinRatio"
   ]
  },
  {
   "cell_type": "code",
   "execution_count": 33,
   "metadata": {
    "collapsed": false,
    "scrolled": false
   },
   "outputs": [
    {
     "data": {
      "text/plain": [
       "(0, 1.2)"
      ]
     },
     "execution_count": 33,
     "metadata": {},
     "output_type": "execute_result"
    },
    {
     "data": {
      "image/png": "[encoded data removed]",
      "text/plain": [
       "<matplotlib.figure.Figure at 0x114ab0250>"
      ]
     },
     "metadata": {},
     "output_type": "display_data"
    }
   ],
   "source": [
    "fig = plt.figure(1, figsize=(5, 4))\n",
    "plt.boxplot([orthodox, southpaw], labels=['Orthodox', 'Southpaw'])\n",
    "plt.ylabel('Win ratio')\n",
    "plt.ylim(0, 1.2)"
   ]
  },
  {
   "cell_type": "markdown",
   "metadata": {},
   "source": [
    "#### Statistical test"
   ]
  },
  {
   "cell_type": "code",
   "execution_count": 34,
   "metadata": {
    "collapsed": false
   },
   "outputs": [
    {
     "name": "stdout",
     "output_type": "stream",
     "text": [
      "-1.61546596369 0.106981987847\n"
     ]
    }
   ],
   "source": [
    "from scipy.stats import ttest_ind\n",
    "t_stat, p_value = ttest_ind(orthodox, southpaw, equal_var=False)\n",
    "print t_stat, p_value"
   ]
  },
  {
   "cell_type": "markdown",
   "metadata": {},
   "source": [
    "The statistical test shows that the difference in win ratios between the two classes is not significant."
   ]
  }
 ],
 "metadata": {
  "anaconda-cloud": {},
  "kernelspec": {
   "display_name": "Python [conda root]",
   "language": "python",
   "name": "conda-root-py"
  },
  "language_info": {
   "codemirror_mode": {
    "name": "ipython",
    "version": 2
   },
   "file_extension": ".py",
   "mimetype": "text/x-python",
   "name": "python",
   "nbconvert_exporter": "python",
   "pygments_lexer": "ipython2",
   "version": "2.7.12"
  }
 },
 "nbformat": 4,
 "nbformat_minor": 1
}
