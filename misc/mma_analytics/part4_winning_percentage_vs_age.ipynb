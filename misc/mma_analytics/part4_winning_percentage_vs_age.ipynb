{
 "cells": [
  {
   "cell_type": "markdown",
   "metadata": {},
   "source": [
    "# Jonathan Halverson\n",
    "# Thursday, February 23, 2017\n",
    "# Part 4: Winning percentage by age"
   ]
  },
  {
   "cell_type": "code",
   "execution_count": 2,
   "metadata": {
    "collapsed": true
   },
   "outputs": [],
   "source": [
    "import numpy as np\n",
    "import pandas as pd\n",
    "import matplotlib.pyplot as plt\n",
    "%matplotlib inline\n",
    "plt.style.use('halverson')\n",
    "from scipy.stats import binom, t\n",
    "from scipy.stats import chi2_contingency"
   ]
  },
  {
   "cell_type": "code",
   "execution_count": 3,
   "metadata": {
    "collapsed": false
   },
   "outputs": [
    {
     "data": {
      "text/html": [
       "<div>\n",
       "<table border=\"1\" class=\"dataframe\">\n",
       "  <thead>\n",
       "    <tr style=\"text-align: right;\">\n",
       "      <th></th>\n",
       "      <th>Winner</th>\n",
       "      <th>Outcome</th>\n",
       "      <th>Loser</th>\n",
       "      <th>WeightClass</th>\n",
       "      <th>Method</th>\n",
       "      <th>MethodNotes</th>\n",
       "      <th>Round</th>\n",
       "      <th>Time</th>\n",
       "      <th>Event</th>\n",
       "      <th>Date</th>\n",
       "      <th>Location</th>\n",
       "    </tr>\n",
       "  </thead>\n",
       "  <tbody>\n",
       "    <tr>\n",
       "      <th>0</th>\n",
       "      <td>Germaine de Randamie</td>\n",
       "      <td>def.</td>\n",
       "      <td>Holly Holm</td>\n",
       "      <td>Women's Featherweight</td>\n",
       "      <td>U-DEC</td>\n",
       "      <td>NaN</td>\n",
       "      <td>5</td>\n",
       "      <td>5:00</td>\n",
       "      <td>UFC 208: Holm vs. De Randamie</td>\n",
       "      <td>2017-02-11</td>\n",
       "      <td>New York, New York, USA</td>\n",
       "    </tr>\n",
       "    <tr>\n",
       "      <th>1</th>\n",
       "      <td>Anderson Silva</td>\n",
       "      <td>def.</td>\n",
       "      <td>Derek Brunson</td>\n",
       "      <td>Middleweight</td>\n",
       "      <td>U-DEC</td>\n",
       "      <td>NaN</td>\n",
       "      <td>3</td>\n",
       "      <td>5:00</td>\n",
       "      <td>UFC 208: Holm vs. De Randamie</td>\n",
       "      <td>2017-02-11</td>\n",
       "      <td>New York, New York, USA</td>\n",
       "    </tr>\n",
       "    <tr>\n",
       "      <th>2</th>\n",
       "      <td>Jacare Souza</td>\n",
       "      <td>def.</td>\n",
       "      <td>Tim Boetsch</td>\n",
       "      <td>Middleweight</td>\n",
       "      <td>SUB</td>\n",
       "      <td>Kimura</td>\n",
       "      <td>1</td>\n",
       "      <td>3:41</td>\n",
       "      <td>UFC 208: Holm vs. De Randamie</td>\n",
       "      <td>2017-02-11</td>\n",
       "      <td>New York, New York, USA</td>\n",
       "    </tr>\n",
       "  </tbody>\n",
       "</table>\n",
       "</div>"
      ],
      "text/plain": [
       "                 Winner Outcome          Loser            WeightClass Method  \\\n",
       "0  Germaine de Randamie    def.     Holly Holm  Women's Featherweight  U-DEC   \n",
       "1        Anderson Silva    def.  Derek Brunson           Middleweight  U-DEC   \n",
       "2          Jacare Souza    def.    Tim Boetsch           Middleweight    SUB   \n",
       "\n",
       "  MethodNotes  Round  Time                          Event       Date  \\\n",
       "0         NaN      5  5:00  UFC 208: Holm vs. De Randamie 2017-02-11   \n",
       "1         NaN      3  5:00  UFC 208: Holm vs. De Randamie 2017-02-11   \n",
       "2      Kimura      1  3:41  UFC 208: Holm vs. De Randamie 2017-02-11   \n",
       "\n",
       "                  Location  \n",
       "0  New York, New York, USA  \n",
       "1  New York, New York, USA  \n",
       "2  New York, New York, USA  "
      ]
     },
     "execution_count": 3,
     "metadata": {},
     "output_type": "execute_result"
    }
   ],
   "source": [
    "iofile = 'data/fightmetric_cards/fightmetric_fights_CLEAN_3-6-2017.csv'\n",
    "fights = pd.read_csv(iofile, header=0, parse_dates=['Date'])\n",
    "fights.head(3)"
   ]
  },
  {
   "cell_type": "code",
   "execution_count": 4,
   "metadata": {
    "collapsed": false
   },
   "outputs": [
    {
     "data": {
      "text/plain": [
       "(4068, 11)"
      ]
     },
     "execution_count": 4,
     "metadata": {},
     "output_type": "execute_result"
    }
   ],
   "source": [
    "fights.shape"
   ]
  },
  {
   "cell_type": "code",
   "execution_count": 5,
   "metadata": {
    "collapsed": false
   },
   "outputs": [
    {
     "data": {
      "text/html": [
       "<div>\n",
       "<table border=\"1\" class=\"dataframe\">\n",
       "  <thead>\n",
       "    <tr style=\"text-align: right;\">\n",
       "      <th></th>\n",
       "      <th>Name</th>\n",
       "      <th>Nickname</th>\n",
       "      <th>Dob</th>\n",
       "      <th>Weight</th>\n",
       "      <th>Height</th>\n",
       "      <th>Reach</th>\n",
       "      <th>LegReach</th>\n",
       "      <th>Stance</th>\n",
       "      <th>Win</th>\n",
       "      <th>Loss</th>\n",
       "      <th>Draw</th>\n",
       "    </tr>\n",
       "  </thead>\n",
       "  <tbody>\n",
       "    <tr>\n",
       "      <th>0</th>\n",
       "      <td>Tom Aaron</td>\n",
       "      <td>NaN</td>\n",
       "      <td>1978-07-13</td>\n",
       "      <td>155.0</td>\n",
       "      <td>NaN</td>\n",
       "      <td>NaN</td>\n",
       "      <td>NaN</td>\n",
       "      <td>NaN</td>\n",
       "      <td>5.0</td>\n",
       "      <td>3.0</td>\n",
       "      <td>0.0</td>\n",
       "    </tr>\n",
       "    <tr>\n",
       "      <th>1</th>\n",
       "      <td>Danny Abbadi</td>\n",
       "      <td>The Assassin</td>\n",
       "      <td>1983-07-03</td>\n",
       "      <td>155.0</td>\n",
       "      <td>71.0</td>\n",
       "      <td>NaN</td>\n",
       "      <td>NaN</td>\n",
       "      <td>Orthodox</td>\n",
       "      <td>4.0</td>\n",
       "      <td>6.0</td>\n",
       "      <td>0.0</td>\n",
       "    </tr>\n",
       "    <tr>\n",
       "      <th>2</th>\n",
       "      <td>David Abbott</td>\n",
       "      <td>Tank</td>\n",
       "      <td>NaT</td>\n",
       "      <td>265.0</td>\n",
       "      <td>72.0</td>\n",
       "      <td>NaN</td>\n",
       "      <td>NaN</td>\n",
       "      <td>Switch</td>\n",
       "      <td>10.0</td>\n",
       "      <td>14.0</td>\n",
       "      <td>0.0</td>\n",
       "    </tr>\n",
       "  </tbody>\n",
       "</table>\n",
       "</div>"
      ],
      "text/plain": [
       "           Name      Nickname        Dob  Weight  Height  Reach  LegReach  \\\n",
       "0     Tom Aaron           NaN 1978-07-13   155.0     NaN    NaN       NaN   \n",
       "1  Danny Abbadi  The Assassin 1983-07-03   155.0    71.0    NaN       NaN   \n",
       "2  David Abbott          Tank        NaT   265.0    72.0    NaN       NaN   \n",
       "\n",
       "     Stance   Win  Loss  Draw  \n",
       "0       NaN   5.0   3.0   0.0  \n",
       "1  Orthodox   4.0   6.0   0.0  \n",
       "2    Switch  10.0  14.0   0.0  "
      ]
     },
     "execution_count": 5,
     "metadata": {},
     "output_type": "execute_result"
    }
   ],
   "source": [
    "iofile = 'data/fightmetric_fighters_with_corrections_from_UFC_Wikipedia_CLEAN.csv'\n",
    "fighters = pd.read_csv(iofile, header=0, parse_dates=['Dob'])\n",
    "fighters.head(3)"
   ]
  },
  {
   "cell_type": "code",
   "execution_count": 6,
   "metadata": {
    "collapsed": false
   },
   "outputs": [
    {
     "data": {
      "text/plain": [
       "(4068, 18)"
      ]
     },
     "execution_count": 6,
     "metadata": {},
     "output_type": "execute_result"
    }
   ],
   "source": [
    "cols = ['Name', 'Weight', 'Height', 'Reach', 'LegReach', 'Stance', 'Dob']\n",
    "df = fights.merge(fighters[cols], how='left', left_on='Winner', right_on='Name')\n",
    "df.shape"
   ]
  },
  {
   "cell_type": "code",
   "execution_count": 7,
   "metadata": {
    "collapsed": false
   },
   "outputs": [
    {
     "data": {
      "text/html": [
       "<div>\n",
       "<table border=\"1\" class=\"dataframe\">\n",
       "  <thead>\n",
       "    <tr style=\"text-align: right;\">\n",
       "      <th></th>\n",
       "      <th>Winner</th>\n",
       "      <th>Outcome</th>\n",
       "      <th>Loser</th>\n",
       "      <th>WeightClass</th>\n",
       "      <th>Method</th>\n",
       "      <th>MethodNotes</th>\n",
       "      <th>Round</th>\n",
       "      <th>Time</th>\n",
       "      <th>Event</th>\n",
       "      <th>Date</th>\n",
       "      <th>Location</th>\n",
       "      <th>Name</th>\n",
       "      <th>Weight</th>\n",
       "      <th>Height</th>\n",
       "      <th>Reach</th>\n",
       "      <th>LegReach</th>\n",
       "      <th>Stance</th>\n",
       "      <th>Dob</th>\n",
       "    </tr>\n",
       "  </thead>\n",
       "  <tbody>\n",
       "    <tr>\n",
       "      <th>0</th>\n",
       "      <td>Germaine de Randamie</td>\n",
       "      <td>def.</td>\n",
       "      <td>Holly Holm</td>\n",
       "      <td>Women's Featherweight</td>\n",
       "      <td>U-DEC</td>\n",
       "      <td>NaN</td>\n",
       "      <td>5</td>\n",
       "      <td>5:00</td>\n",
       "      <td>UFC 208: Holm vs. De Randamie</td>\n",
       "      <td>2017-02-11</td>\n",
       "      <td>New York, New York, USA</td>\n",
       "      <td>Germaine de Randamie</td>\n",
       "      <td>145.0</td>\n",
       "      <td>69.0</td>\n",
       "      <td>71.0</td>\n",
       "      <td>41.0</td>\n",
       "      <td>Orthodox</td>\n",
       "      <td>1984-04-24</td>\n",
       "    </tr>\n",
       "    <tr>\n",
       "      <th>1</th>\n",
       "      <td>Anderson Silva</td>\n",
       "      <td>def.</td>\n",
       "      <td>Derek Brunson</td>\n",
       "      <td>Middleweight</td>\n",
       "      <td>U-DEC</td>\n",
       "      <td>NaN</td>\n",
       "      <td>3</td>\n",
       "      <td>5:00</td>\n",
       "      <td>UFC 208: Holm vs. De Randamie</td>\n",
       "      <td>2017-02-11</td>\n",
       "      <td>New York, New York, USA</td>\n",
       "      <td>Anderson Silva</td>\n",
       "      <td>185.0</td>\n",
       "      <td>74.0</td>\n",
       "      <td>77.0</td>\n",
       "      <td>42.0</td>\n",
       "      <td>Southpaw</td>\n",
       "      <td>1975-04-14</td>\n",
       "    </tr>\n",
       "    <tr>\n",
       "      <th>2</th>\n",
       "      <td>Jacare Souza</td>\n",
       "      <td>def.</td>\n",
       "      <td>Tim Boetsch</td>\n",
       "      <td>Middleweight</td>\n",
       "      <td>SUB</td>\n",
       "      <td>Kimura</td>\n",
       "      <td>1</td>\n",
       "      <td>3:41</td>\n",
       "      <td>UFC 208: Holm vs. De Randamie</td>\n",
       "      <td>2017-02-11</td>\n",
       "      <td>New York, New York, USA</td>\n",
       "      <td>Jacare Souza</td>\n",
       "      <td>185.0</td>\n",
       "      <td>73.0</td>\n",
       "      <td>72.0</td>\n",
       "      <td>41.0</td>\n",
       "      <td>Orthodox</td>\n",
       "      <td>1979-12-07</td>\n",
       "    </tr>\n",
       "  </tbody>\n",
       "</table>\n",
       "</div>"
      ],
      "text/plain": [
       "                 Winner Outcome          Loser            WeightClass Method  \\\n",
       "0  Germaine de Randamie    def.     Holly Holm  Women's Featherweight  U-DEC   \n",
       "1        Anderson Silva    def.  Derek Brunson           Middleweight  U-DEC   \n",
       "2          Jacare Souza    def.    Tim Boetsch           Middleweight    SUB   \n",
       "\n",
       "  MethodNotes  Round  Time                          Event       Date  \\\n",
       "0         NaN      5  5:00  UFC 208: Holm vs. De Randamie 2017-02-11   \n",
       "1         NaN      3  5:00  UFC 208: Holm vs. De Randamie 2017-02-11   \n",
       "2      Kimura      1  3:41  UFC 208: Holm vs. De Randamie 2017-02-11   \n",
       "\n",
       "                  Location                  Name  Weight  Height  Reach  \\\n",
       "0  New York, New York, USA  Germaine de Randamie   145.0    69.0   71.0   \n",
       "1  New York, New York, USA        Anderson Silva   185.0    74.0   77.0   \n",
       "2  New York, New York, USA          Jacare Souza   185.0    73.0   72.0   \n",
       "\n",
       "   LegReach    Stance        Dob  \n",
       "0      41.0  Orthodox 1984-04-24  \n",
       "1      42.0  Southpaw 1975-04-14  \n",
       "2      41.0  Orthodox 1979-12-07  "
      ]
     },
     "execution_count": 7,
     "metadata": {},
     "output_type": "execute_result"
    }
   ],
   "source": [
    "df.head(3)"
   ]
  },
  {
   "cell_type": "code",
   "execution_count": 8,
   "metadata": {
    "collapsed": false
   },
   "outputs": [
    {
     "data": {
      "text/plain": [
       "(4068, 25)"
      ]
     },
     "execution_count": 8,
     "metadata": {},
     "output_type": "execute_result"
    }
   ],
   "source": [
    "df = df.merge(fighters[cols], how='left', left_on='Loser', right_on='Name', suffixes=('', '_L'))\n",
    "df.shape"
   ]
  },
  {
   "cell_type": "code",
   "execution_count": 9,
   "metadata": {
    "collapsed": false
   },
   "outputs": [
    {
     "data": {
      "text/html": [
       "<div>\n",
       "<table border=\"1\" class=\"dataframe\">\n",
       "  <thead>\n",
       "    <tr style=\"text-align: right;\">\n",
       "      <th></th>\n",
       "      <th>Winner</th>\n",
       "      <th>Outcome</th>\n",
       "      <th>Loser</th>\n",
       "      <th>WeightClass</th>\n",
       "      <th>Method</th>\n",
       "      <th>MethodNotes</th>\n",
       "      <th>Round</th>\n",
       "      <th>Time</th>\n",
       "      <th>Event</th>\n",
       "      <th>Date</th>\n",
       "      <th>...</th>\n",
       "      <th>LegReach</th>\n",
       "      <th>Stance</th>\n",
       "      <th>Dob</th>\n",
       "      <th>Name_L</th>\n",
       "      <th>Weight_L</th>\n",
       "      <th>Height_L</th>\n",
       "      <th>Reach_L</th>\n",
       "      <th>LegReach_L</th>\n",
       "      <th>Stance_L</th>\n",
       "      <th>Dob_L</th>\n",
       "    </tr>\n",
       "  </thead>\n",
       "  <tbody>\n",
       "    <tr>\n",
       "      <th>0</th>\n",
       "      <td>Germaine de Randamie</td>\n",
       "      <td>def.</td>\n",
       "      <td>Holly Holm</td>\n",
       "      <td>Women's Featherweight</td>\n",
       "      <td>U-DEC</td>\n",
       "      <td>NaN</td>\n",
       "      <td>5</td>\n",
       "      <td>5:00</td>\n",
       "      <td>UFC 208: Holm vs. De Randamie</td>\n",
       "      <td>2017-02-11</td>\n",
       "      <td>...</td>\n",
       "      <td>41.0</td>\n",
       "      <td>Orthodox</td>\n",
       "      <td>1984-04-24</td>\n",
       "      <td>Holly Holm</td>\n",
       "      <td>145.0</td>\n",
       "      <td>68.0</td>\n",
       "      <td>69.0</td>\n",
       "      <td>38.0</td>\n",
       "      <td>Southpaw</td>\n",
       "      <td>1981-10-17</td>\n",
       "    </tr>\n",
       "    <tr>\n",
       "      <th>1</th>\n",
       "      <td>Anderson Silva</td>\n",
       "      <td>def.</td>\n",
       "      <td>Derek Brunson</td>\n",
       "      <td>Middleweight</td>\n",
       "      <td>U-DEC</td>\n",
       "      <td>NaN</td>\n",
       "      <td>3</td>\n",
       "      <td>5:00</td>\n",
       "      <td>UFC 208: Holm vs. De Randamie</td>\n",
       "      <td>2017-02-11</td>\n",
       "      <td>...</td>\n",
       "      <td>42.0</td>\n",
       "      <td>Southpaw</td>\n",
       "      <td>1975-04-14</td>\n",
       "      <td>Derek Brunson</td>\n",
       "      <td>185.0</td>\n",
       "      <td>73.0</td>\n",
       "      <td>77.0</td>\n",
       "      <td>43.0</td>\n",
       "      <td>Southpaw</td>\n",
       "      <td>1984-01-04</td>\n",
       "    </tr>\n",
       "    <tr>\n",
       "      <th>2</th>\n",
       "      <td>Jacare Souza</td>\n",
       "      <td>def.</td>\n",
       "      <td>Tim Boetsch</td>\n",
       "      <td>Middleweight</td>\n",
       "      <td>SUB</td>\n",
       "      <td>Kimura</td>\n",
       "      <td>1</td>\n",
       "      <td>3:41</td>\n",
       "      <td>UFC 208: Holm vs. De Randamie</td>\n",
       "      <td>2017-02-11</td>\n",
       "      <td>...</td>\n",
       "      <td>41.0</td>\n",
       "      <td>Orthodox</td>\n",
       "      <td>1979-12-07</td>\n",
       "      <td>Tim Boetsch</td>\n",
       "      <td>185.0</td>\n",
       "      <td>72.0</td>\n",
       "      <td>74.0</td>\n",
       "      <td>42.0</td>\n",
       "      <td>Orthodox</td>\n",
       "      <td>1981-01-28</td>\n",
       "    </tr>\n",
       "  </tbody>\n",
       "</table>\n",
       "<p>3 rows × 25 columns</p>\n",
       "</div>"
      ],
      "text/plain": [
       "                 Winner Outcome          Loser            WeightClass Method  \\\n",
       "0  Germaine de Randamie    def.     Holly Holm  Women's Featherweight  U-DEC   \n",
       "1        Anderson Silva    def.  Derek Brunson           Middleweight  U-DEC   \n",
       "2          Jacare Souza    def.    Tim Boetsch           Middleweight    SUB   \n",
       "\n",
       "  MethodNotes  Round  Time                          Event       Date  \\\n",
       "0         NaN      5  5:00  UFC 208: Holm vs. De Randamie 2017-02-11   \n",
       "1         NaN      3  5:00  UFC 208: Holm vs. De Randamie 2017-02-11   \n",
       "2      Kimura      1  3:41  UFC 208: Holm vs. De Randamie 2017-02-11   \n",
       "\n",
       "     ...     LegReach    Stance        Dob         Name_L  Weight_L  Height_L  \\\n",
       "0    ...         41.0  Orthodox 1984-04-24     Holly Holm     145.0      68.0   \n",
       "1    ...         42.0  Southpaw 1975-04-14  Derek Brunson     185.0      73.0   \n",
       "2    ...         41.0  Orthodox 1979-12-07    Tim Boetsch     185.0      72.0   \n",
       "\n",
       "  Reach_L LegReach_L  Stance_L      Dob_L  \n",
       "0    69.0       38.0  Southpaw 1981-10-17  \n",
       "1    77.0       43.0  Southpaw 1984-01-04  \n",
       "2    74.0       42.0  Orthodox 1981-01-28  \n",
       "\n",
       "[3 rows x 25 columns]"
      ]
     },
     "execution_count": 9,
     "metadata": {},
     "output_type": "execute_result"
    }
   ],
   "source": [
    "df.head(3)"
   ]
  },
  {
   "cell_type": "code",
   "execution_count": 10,
   "metadata": {
    "collapsed": false
   },
   "outputs": [],
   "source": [
    "df = df.drop(['Name', 'Name_L'], axis=1)"
   ]
  },
  {
   "cell_type": "code",
   "execution_count": 11,
   "metadata": {
    "collapsed": false
   },
   "outputs": [
    {
     "name": "stdout",
     "output_type": "stream",
     "text": [
      "<class 'pandas.core.frame.DataFrame'>\n",
      "Int64Index: 4068 entries, 0 to 4067\n",
      "Data columns (total 23 columns):\n",
      "Winner         4068 non-null object\n",
      "Outcome        4068 non-null object\n",
      "Loser          4068 non-null object\n",
      "WeightClass    4068 non-null object\n",
      "Method         4068 non-null object\n",
      "MethodNotes    2159 non-null object\n",
      "Round          4068 non-null int64\n",
      "Time           4068 non-null object\n",
      "Event          4068 non-null object\n",
      "Date           4068 non-null datetime64[ns]\n",
      "Location       4068 non-null object\n",
      "Weight         4065 non-null float64\n",
      "Height         4064 non-null float64\n",
      "Reach          3801 non-null float64\n",
      "LegReach       2315 non-null float64\n",
      "Stance         3947 non-null object\n",
      "Dob            4012 non-null datetime64[ns]\n",
      "Weight_L       4049 non-null float64\n",
      "Height_L       4048 non-null float64\n",
      "Reach_L        3473 non-null float64\n",
      "LegReach_L     1565 non-null float64\n",
      "Stance_L       3894 non-null object\n",
      "Dob_L          3913 non-null datetime64[ns]\n",
      "dtypes: datetime64[ns](3), float64(8), int64(1), object(11)\n",
      "memory usage: 762.8+ KB\n"
     ]
    }
   ],
   "source": [
    "df.info()"
   ]
  },
  {
   "cell_type": "markdown",
   "metadata": {},
   "source": [
    "### How many fights do we not have age information for?"
   ]
  },
  {
   "cell_type": "code",
   "execution_count": 12,
   "metadata": {
    "collapsed": false
   },
   "outputs": [
    {
     "data": {
      "text/plain": [
       "177"
      ]
     },
     "execution_count": 12,
     "metadata": {},
     "output_type": "execute_result"
    }
   ],
   "source": [
    "df[(pd.isnull(df.Dob)) | (pd.isnull(df.Dob_L))].shape[0]"
   ]
  },
  {
   "cell_type": "markdown",
   "metadata": {},
   "source": [
    "Note that most of the missing info is for fights before 2005."
   ]
  },
  {
   "cell_type": "markdown",
   "metadata": {},
   "source": [
    "### Fights with the greatest age difference"
   ]
  },
  {
   "cell_type": "code",
   "execution_count": 13,
   "metadata": {
    "collapsed": false
   },
   "outputs": [
    {
     "data": {
      "text/html": [
       "<div>\n",
       "<table border=\"1\" class=\"dataframe\">\n",
       "  <thead>\n",
       "    <tr style=\"text-align: right;\">\n",
       "      <th></th>\n",
       "      <th>Winner</th>\n",
       "      <th>Age</th>\n",
       "      <th>Outcome</th>\n",
       "      <th>Loser</th>\n",
       "      <th>Age_L</th>\n",
       "      <th>AgeDiffAbs</th>\n",
       "      <th>Date</th>\n",
       "    </tr>\n",
       "  </thead>\n",
       "  <tbody>\n",
       "    <tr>\n",
       "      <th>1</th>\n",
       "      <td>Royce Gracie</td>\n",
       "      <td>28.0</td>\n",
       "      <td>def.</td>\n",
       "      <td>Ron van Clief</td>\n",
       "      <td>51.9</td>\n",
       "      <td>23.9</td>\n",
       "      <td>1994-12-16</td>\n",
       "    </tr>\n",
       "    <tr>\n",
       "      <th>2</th>\n",
       "      <td>Vitor Belfort</td>\n",
       "      <td>20.7</td>\n",
       "      <td>def.</td>\n",
       "      <td>Joe Charles</td>\n",
       "      <td>39.4</td>\n",
       "      <td>18.7</td>\n",
       "      <td>1997-12-21</td>\n",
       "    </tr>\n",
       "    <tr>\n",
       "      <th>3</th>\n",
       "      <td>Mauricio Rua</td>\n",
       "      <td>27.1</td>\n",
       "      <td>def.</td>\n",
       "      <td>Mark Coleman</td>\n",
       "      <td>44.1</td>\n",
       "      <td>16.9</td>\n",
       "      <td>2009-01-17</td>\n",
       "    </tr>\n",
       "    <tr>\n",
       "      <th>4</th>\n",
       "      <td>Jon Jones</td>\n",
       "      <td>23.0</td>\n",
       "      <td>def.</td>\n",
       "      <td>Vladimir Matyushenko</td>\n",
       "      <td>39.6</td>\n",
       "      <td>16.5</td>\n",
       "      <td>2010-08-01</td>\n",
       "    </tr>\n",
       "    <tr>\n",
       "      <th>5</th>\n",
       "      <td>Khabib Nurmagomedov</td>\n",
       "      <td>23.3</td>\n",
       "      <td>def.</td>\n",
       "      <td>Kamal Shalorus</td>\n",
       "      <td>39.4</td>\n",
       "      <td>16.1</td>\n",
       "      <td>2012-01-20</td>\n",
       "    </tr>\n",
       "    <tr>\n",
       "      <th>6</th>\n",
       "      <td>Alexander Gustafsson</td>\n",
       "      <td>25.0</td>\n",
       "      <td>def.</td>\n",
       "      <td>Vladimir Matyushenko</td>\n",
       "      <td>41.0</td>\n",
       "      <td>16.0</td>\n",
       "      <td>2011-12-30</td>\n",
       "    </tr>\n",
       "    <tr>\n",
       "      <th>7</th>\n",
       "      <td>Randy Couture</td>\n",
       "      <td>44.2</td>\n",
       "      <td>def.</td>\n",
       "      <td>Gabriel Gonzaga</td>\n",
       "      <td>28.3</td>\n",
       "      <td>15.9</td>\n",
       "      <td>2007-08-25</td>\n",
       "    </tr>\n",
       "    <tr>\n",
       "      <th>8</th>\n",
       "      <td>Pedro Rizzo</td>\n",
       "      <td>26.4</td>\n",
       "      <td>def.</td>\n",
       "      <td>Dan Severn</td>\n",
       "      <td>42.3</td>\n",
       "      <td>15.9</td>\n",
       "      <td>2000-09-22</td>\n",
       "    </tr>\n",
       "    <tr>\n",
       "      <th>9</th>\n",
       "      <td>Tamdan McCrory</td>\n",
       "      <td>20.6</td>\n",
       "      <td>def.</td>\n",
       "      <td>Pete Spratt</td>\n",
       "      <td>36.4</td>\n",
       "      <td>15.8</td>\n",
       "      <td>2007-06-12</td>\n",
       "    </tr>\n",
       "    <tr>\n",
       "      <th>10</th>\n",
       "      <td>Paige VanZant</td>\n",
       "      <td>21.4</td>\n",
       "      <td>def.</td>\n",
       "      <td>Alex Chambers</td>\n",
       "      <td>36.9</td>\n",
       "      <td>15.4</td>\n",
       "      <td>2015-09-05</td>\n",
       "    </tr>\n",
       "    <tr>\n",
       "      <th>11</th>\n",
       "      <td>Gleison Tibau</td>\n",
       "      <td>23.7</td>\n",
       "      <td>def.</td>\n",
       "      <td>Jeff Cox</td>\n",
       "      <td>38.9</td>\n",
       "      <td>15.2</td>\n",
       "      <td>2007-06-12</td>\n",
       "    </tr>\n",
       "    <tr>\n",
       "      <th>12</th>\n",
       "      <td>Lyoto Machida</td>\n",
       "      <td>32.9</td>\n",
       "      <td>def.</td>\n",
       "      <td>Randy Couture</td>\n",
       "      <td>47.9</td>\n",
       "      <td>14.9</td>\n",
       "      <td>2011-04-30</td>\n",
       "    </tr>\n",
       "    <tr>\n",
       "      <th>13</th>\n",
       "      <td>Gegard Mousasi</td>\n",
       "      <td>29.5</td>\n",
       "      <td>def.</td>\n",
       "      <td>Dan Henderson</td>\n",
       "      <td>44.4</td>\n",
       "      <td>14.9</td>\n",
       "      <td>2015-01-24</td>\n",
       "    </tr>\n",
       "    <tr>\n",
       "      <th>14</th>\n",
       "      <td>Rory MacDonald</td>\n",
       "      <td>20.5</td>\n",
       "      <td>def.</td>\n",
       "      <td>Mike Guymon</td>\n",
       "      <td>35.3</td>\n",
       "      <td>14.8</td>\n",
       "      <td>2010-01-11</td>\n",
       "    </tr>\n",
       "    <tr>\n",
       "      <th>15</th>\n",
       "      <td>Edwin Figueroa</td>\n",
       "      <td>27.0</td>\n",
       "      <td>def.</td>\n",
       "      <td>Jason Reinhardt</td>\n",
       "      <td>41.8</td>\n",
       "      <td>14.7</td>\n",
       "      <td>2011-08-14</td>\n",
       "    </tr>\n",
       "    <tr>\n",
       "      <th>16</th>\n",
       "      <td>Soa Palelei</td>\n",
       "      <td>36.1</td>\n",
       "      <td>def.</td>\n",
       "      <td>Nikita Krylov</td>\n",
       "      <td>21.5</td>\n",
       "      <td>14.7</td>\n",
       "      <td>2013-08-31</td>\n",
       "    </tr>\n",
       "    <tr>\n",
       "      <th>17</th>\n",
       "      <td>Joe Lauzon</td>\n",
       "      <td>23.5</td>\n",
       "      <td>def.</td>\n",
       "      <td>Jason Reinhardt</td>\n",
       "      <td>38.0</td>\n",
       "      <td>14.6</td>\n",
       "      <td>2007-11-17</td>\n",
       "    </tr>\n",
       "    <tr>\n",
       "      <th>18</th>\n",
       "      <td>Josh Barnett</td>\n",
       "      <td>24.4</td>\n",
       "      <td>def.</td>\n",
       "      <td>Randy Couture</td>\n",
       "      <td>38.7</td>\n",
       "      <td>14.4</td>\n",
       "      <td>2002-03-22</td>\n",
       "    </tr>\n",
       "    <tr>\n",
       "      <th>19</th>\n",
       "      <td>Randy Couture</td>\n",
       "      <td>46.4</td>\n",
       "      <td>def.</td>\n",
       "      <td>Brandon Vera</td>\n",
       "      <td>32.1</td>\n",
       "      <td>14.3</td>\n",
       "      <td>2009-11-14</td>\n",
       "    </tr>\n",
       "    <tr>\n",
       "      <th>20</th>\n",
       "      <td>Marion Reneau</td>\n",
       "      <td>37.7</td>\n",
       "      <td>def.</td>\n",
       "      <td>Jessica Andrade</td>\n",
       "      <td>23.4</td>\n",
       "      <td>14.3</td>\n",
       "      <td>2015-02-22</td>\n",
       "    </tr>\n",
       "    <tr>\n",
       "      <th>21</th>\n",
       "      <td>Sage Northcutt</td>\n",
       "      <td>19.6</td>\n",
       "      <td>def.</td>\n",
       "      <td>Francisco Trevino</td>\n",
       "      <td>33.8</td>\n",
       "      <td>14.2</td>\n",
       "      <td>2015-10-03</td>\n",
       "    </tr>\n",
       "    <tr>\n",
       "      <th>22</th>\n",
       "      <td>Jessica Andrade</td>\n",
       "      <td>22.1</td>\n",
       "      <td>def.</td>\n",
       "      <td>Rosi Sexton</td>\n",
       "      <td>36.3</td>\n",
       "      <td>14.2</td>\n",
       "      <td>2013-10-26</td>\n",
       "    </tr>\n",
       "    <tr>\n",
       "      <th>23</th>\n",
       "      <td>Tatsuya Kawajiri</td>\n",
       "      <td>37.6</td>\n",
       "      <td>def.</td>\n",
       "      <td>Jason Knight</td>\n",
       "      <td>23.4</td>\n",
       "      <td>14.2</td>\n",
       "      <td>2015-12-11</td>\n",
       "    </tr>\n",
       "    <tr>\n",
       "      <th>24</th>\n",
       "      <td>Ricco Rodriguez</td>\n",
       "      <td>25.1</td>\n",
       "      <td>def.</td>\n",
       "      <td>Randy Couture</td>\n",
       "      <td>39.3</td>\n",
       "      <td>14.2</td>\n",
       "      <td>2002-09-27</td>\n",
       "    </tr>\n",
       "    <tr>\n",
       "      <th>25</th>\n",
       "      <td>Stefan Struve</td>\n",
       "      <td>21.8</td>\n",
       "      <td>def.</td>\n",
       "      <td>Paul Buentello</td>\n",
       "      <td>35.9</td>\n",
       "      <td>14.1</td>\n",
       "      <td>2009-12-12</td>\n",
       "    </tr>\n",
       "    <tr>\n",
       "      <th>26</th>\n",
       "      <td>Jordan Mein</td>\n",
       "      <td>24.9</td>\n",
       "      <td>def.</td>\n",
       "      <td>Mike Pyle</td>\n",
       "      <td>38.9</td>\n",
       "      <td>14.1</td>\n",
       "      <td>2014-08-23</td>\n",
       "    </tr>\n",
       "    <tr>\n",
       "      <th>27</th>\n",
       "      <td>Brock Lesnar</td>\n",
       "      <td>31.3</td>\n",
       "      <td>def.</td>\n",
       "      <td>Randy Couture</td>\n",
       "      <td>45.4</td>\n",
       "      <td>14.1</td>\n",
       "      <td>2008-11-15</td>\n",
       "    </tr>\n",
       "    <tr>\n",
       "      <th>28</th>\n",
       "      <td>Eddie Sanchez</td>\n",
       "      <td>24.6</td>\n",
       "      <td>def.</td>\n",
       "      <td>Colin Robinson</td>\n",
       "      <td>38.5</td>\n",
       "      <td>13.9</td>\n",
       "      <td>2007-06-16</td>\n",
       "    </tr>\n",
       "    <tr>\n",
       "      <th>29</th>\n",
       "      <td>Mark Hunt</td>\n",
       "      <td>38.9</td>\n",
       "      <td>def.</td>\n",
       "      <td>Stefan Struve</td>\n",
       "      <td>25.0</td>\n",
       "      <td>13.9</td>\n",
       "      <td>2013-03-02</td>\n",
       "    </tr>\n",
       "    <tr>\n",
       "      <th>30</th>\n",
       "      <td>Rory MacDonald</td>\n",
       "      <td>22.0</td>\n",
       "      <td>def.</td>\n",
       "      <td>Mike Pyle</td>\n",
       "      <td>35.9</td>\n",
       "      <td>13.8</td>\n",
       "      <td>2011-08-06</td>\n",
       "    </tr>\n",
       "    <tr>\n",
       "      <th>31</th>\n",
       "      <td>Yair Rodriguez</td>\n",
       "      <td>24.3</td>\n",
       "      <td>def.</td>\n",
       "      <td>BJ Penn</td>\n",
       "      <td>38.1</td>\n",
       "      <td>13.8</td>\n",
       "      <td>2017-01-15</td>\n",
       "    </tr>\n",
       "    <tr>\n",
       "      <th>32</th>\n",
       "      <td>Randy Couture</td>\n",
       "      <td>34.3</td>\n",
       "      <td>def.</td>\n",
       "      <td>Vitor Belfort</td>\n",
       "      <td>20.5</td>\n",
       "      <td>13.8</td>\n",
       "      <td>1997-10-17</td>\n",
       "    </tr>\n",
       "    <tr>\n",
       "      <th>33</th>\n",
       "      <td>Vitor Belfort</td>\n",
       "      <td>26.8</td>\n",
       "      <td>def.</td>\n",
       "      <td>Randy Couture</td>\n",
       "      <td>40.6</td>\n",
       "      <td>13.8</td>\n",
       "      <td>2004-01-31</td>\n",
       "    </tr>\n",
       "    <tr>\n",
       "      <th>34</th>\n",
       "      <td>Randy Couture</td>\n",
       "      <td>41.2</td>\n",
       "      <td>def.</td>\n",
       "      <td>Vitor Belfort</td>\n",
       "      <td>27.4</td>\n",
       "      <td>13.8</td>\n",
       "      <td>2004-08-21</td>\n",
       "    </tr>\n",
       "    <tr>\n",
       "      <th>35</th>\n",
       "      <td>John Lineker</td>\n",
       "      <td>22.4</td>\n",
       "      <td>def.</td>\n",
       "      <td>Yasuhiro Urushitani</td>\n",
       "      <td>36.2</td>\n",
       "      <td>13.8</td>\n",
       "      <td>2012-11-10</td>\n",
       "    </tr>\n",
       "    <tr>\n",
       "      <th>36</th>\n",
       "      <td>Ronny Markes</td>\n",
       "      <td>23.8</td>\n",
       "      <td>def.</td>\n",
       "      <td>Aaron Simpson</td>\n",
       "      <td>37.6</td>\n",
       "      <td>13.8</td>\n",
       "      <td>2012-02-15</td>\n",
       "    </tr>\n",
       "    <tr>\n",
       "      <th>37</th>\n",
       "      <td>Renato Sobral</td>\n",
       "      <td>25.2</td>\n",
       "      <td>def.</td>\n",
       "      <td>Maurice Smith</td>\n",
       "      <td>38.9</td>\n",
       "      <td>13.7</td>\n",
       "      <td>2000-11-17</td>\n",
       "    </tr>\n",
       "    <tr>\n",
       "      <th>38</th>\n",
       "      <td>Anthony Perosh</td>\n",
       "      <td>42.1</td>\n",
       "      <td>def.</td>\n",
       "      <td>Guto Inocente</td>\n",
       "      <td>28.4</td>\n",
       "      <td>13.6</td>\n",
       "      <td>2014-11-07</td>\n",
       "    </tr>\n",
       "    <tr>\n",
       "      <th>39</th>\n",
       "      <td>Sam Hoger</td>\n",
       "      <td>25.4</td>\n",
       "      <td>def.</td>\n",
       "      <td>Jeff Newton</td>\n",
       "      <td>38.9</td>\n",
       "      <td>13.5</td>\n",
       "      <td>2005-11-19</td>\n",
       "    </tr>\n",
       "    <tr>\n",
       "      <th>40</th>\n",
       "      <td>Aaron Simpson</td>\n",
       "      <td>37.0</td>\n",
       "      <td>def.</td>\n",
       "      <td>Brad Tavares</td>\n",
       "      <td>23.5</td>\n",
       "      <td>13.4</td>\n",
       "      <td>2011-07-02</td>\n",
       "    </tr>\n",
       "  </tbody>\n",
       "</table>\n",
       "</div>"
      ],
      "text/plain": [
       "                  Winner   Age Outcome                 Loser  Age_L  \\\n",
       "1           Royce Gracie  28.0    def.         Ron van Clief   51.9   \n",
       "2          Vitor Belfort  20.7    def.           Joe Charles   39.4   \n",
       "3           Mauricio Rua  27.1    def.          Mark Coleman   44.1   \n",
       "4              Jon Jones  23.0    def.  Vladimir Matyushenko   39.6   \n",
       "5    Khabib Nurmagomedov  23.3    def.        Kamal Shalorus   39.4   \n",
       "6   Alexander Gustafsson  25.0    def.  Vladimir Matyushenko   41.0   \n",
       "7          Randy Couture  44.2    def.       Gabriel Gonzaga   28.3   \n",
       "8            Pedro Rizzo  26.4    def.            Dan Severn   42.3   \n",
       "9         Tamdan McCrory  20.6    def.           Pete Spratt   36.4   \n",
       "10         Paige VanZant  21.4    def.         Alex Chambers   36.9   \n",
       "11         Gleison Tibau  23.7    def.              Jeff Cox   38.9   \n",
       "12         Lyoto Machida  32.9    def.         Randy Couture   47.9   \n",
       "13        Gegard Mousasi  29.5    def.         Dan Henderson   44.4   \n",
       "14        Rory MacDonald  20.5    def.           Mike Guymon   35.3   \n",
       "15        Edwin Figueroa  27.0    def.       Jason Reinhardt   41.8   \n",
       "16           Soa Palelei  36.1    def.         Nikita Krylov   21.5   \n",
       "17            Joe Lauzon  23.5    def.       Jason Reinhardt   38.0   \n",
       "18          Josh Barnett  24.4    def.         Randy Couture   38.7   \n",
       "19         Randy Couture  46.4    def.          Brandon Vera   32.1   \n",
       "20         Marion Reneau  37.7    def.       Jessica Andrade   23.4   \n",
       "21        Sage Northcutt  19.6    def.     Francisco Trevino   33.8   \n",
       "22       Jessica Andrade  22.1    def.           Rosi Sexton   36.3   \n",
       "23      Tatsuya Kawajiri  37.6    def.          Jason Knight   23.4   \n",
       "24       Ricco Rodriguez  25.1    def.         Randy Couture   39.3   \n",
       "25         Stefan Struve  21.8    def.        Paul Buentello   35.9   \n",
       "26           Jordan Mein  24.9    def.             Mike Pyle   38.9   \n",
       "27          Brock Lesnar  31.3    def.         Randy Couture   45.4   \n",
       "28         Eddie Sanchez  24.6    def.        Colin Robinson   38.5   \n",
       "29             Mark Hunt  38.9    def.         Stefan Struve   25.0   \n",
       "30        Rory MacDonald  22.0    def.             Mike Pyle   35.9   \n",
       "31        Yair Rodriguez  24.3    def.               BJ Penn   38.1   \n",
       "32         Randy Couture  34.3    def.         Vitor Belfort   20.5   \n",
       "33         Vitor Belfort  26.8    def.         Randy Couture   40.6   \n",
       "34         Randy Couture  41.2    def.         Vitor Belfort   27.4   \n",
       "35          John Lineker  22.4    def.   Yasuhiro Urushitani   36.2   \n",
       "36          Ronny Markes  23.8    def.         Aaron Simpson   37.6   \n",
       "37         Renato Sobral  25.2    def.         Maurice Smith   38.9   \n",
       "38        Anthony Perosh  42.1    def.         Guto Inocente   28.4   \n",
       "39             Sam Hoger  25.4    def.           Jeff Newton   38.9   \n",
       "40         Aaron Simpson  37.0    def.          Brad Tavares   23.5   \n",
       "\n",
       "    AgeDiffAbs       Date  \n",
       "1         23.9 1994-12-16  \n",
       "2         18.7 1997-12-21  \n",
       "3         16.9 2009-01-17  \n",
       "4         16.5 2010-08-01  \n",
       "5         16.1 2012-01-20  \n",
       "6         16.0 2011-12-30  \n",
       "7         15.9 2007-08-25  \n",
       "8         15.9 2000-09-22  \n",
       "9         15.8 2007-06-12  \n",
       "10        15.4 2015-09-05  \n",
       "11        15.2 2007-06-12  \n",
       "12        14.9 2011-04-30  \n",
       "13        14.9 2015-01-24  \n",
       "14        14.8 2010-01-11  \n",
       "15        14.7 2011-08-14  \n",
       "16        14.7 2013-08-31  \n",
       "17        14.6 2007-11-17  \n",
       "18        14.4 2002-03-22  \n",
       "19        14.3 2009-11-14  \n",
       "20        14.3 2015-02-22  \n",
       "21        14.2 2015-10-03  \n",
       "22        14.2 2013-10-26  \n",
       "23        14.2 2015-12-11  \n",
       "24        14.2 2002-09-27  \n",
       "25        14.1 2009-12-12  \n",
       "26        14.1 2014-08-23  \n",
       "27        14.1 2008-11-15  \n",
       "28        13.9 2007-06-16  \n",
       "29        13.9 2013-03-02  \n",
       "30        13.8 2011-08-06  \n",
       "31        13.8 2017-01-15  \n",
       "32        13.8 1997-10-17  \n",
       "33        13.8 2004-01-31  \n",
       "34        13.8 2004-08-21  \n",
       "35        13.8 2012-11-10  \n",
       "36        13.8 2012-02-15  \n",
       "37        13.7 2000-11-17  \n",
       "38        13.6 2014-11-07  \n",
       "39        13.5 2005-11-19  \n",
       "40        13.4 2011-07-02  "
      ]
     },
     "execution_count": 13,
     "metadata": {},
     "output_type": "execute_result"
    }
   ],
   "source": [
    "df['AgeDiffAbs'] = np.abs((df.Dob - df.Dob_L) / np.timedelta64(1, 'Y'))\n",
    "df['Age'] = (df.Date - df.Dob) / np.timedelta64(1, 'Y')\n",
    "df['Age_L'] = (df.Date - df.Dob_L) / np.timedelta64(1, 'Y')\n",
    "cols = ['Winner','Age', 'Outcome', 'Loser','Age_L', 'AgeDiffAbs', 'Date']\n",
    "big_age_diff = df.sort_values('AgeDiffAbs', ascending=False)[cols].reset_index(drop=True).head(40)\n",
    "big_age_diff.AgeDiffAbs = big_age_diff.AgeDiffAbs.apply(lambda x: round(x, 1))\n",
    "big_age_diff.Age = big_age_diff.Age.apply(lambda x: round(x, 1))\n",
    "big_age_diff.Age_L = big_age_diff.Age_L.apply(lambda x: round(x, 1))\n",
    "big_age_diff.index = range(1, big_age_diff.shape[0] + 1)\n",
    "big_age_diff.to_latex('report/age/biggest_age_diff_RAW.tex')\n",
    "big_age_diff"
   ]
  },
  {
   "cell_type": "code",
   "execution_count": 14,
   "metadata": {
    "collapsed": false
   },
   "outputs": [
    {
     "data": {
      "text/plain": [
       "30"
      ]
     },
     "execution_count": 14,
     "metadata": {},
     "output_type": "execute_result"
    }
   ],
   "source": [
    "yw = big_age_diff[big_age_diff.Age < big_age_diff.Age_L].shape[0]\n",
    "yw"
   ]
  },
  {
   "cell_type": "code",
   "execution_count": 15,
   "metadata": {
    "collapsed": false
   },
   "outputs": [
    {
     "data": {
      "text/plain": [
       "0.75"
      ]
     },
     "execution_count": 15,
     "metadata": {},
     "output_type": "execute_result"
    }
   ],
   "source": [
    "total = big_age_diff.shape[0]\n",
    "float(yw) / total"
   ]
  },
  {
   "cell_type": "code",
   "execution_count": 16,
   "metadata": {
    "collapsed": false
   },
   "outputs": [
    {
     "data": {
      "text/plain": [
       "0.0022214337732293643"
      ]
     },
     "execution_count": 16,
     "metadata": {},
     "output_type": "execute_result"
    }
   ],
   "source": [
    "2*binom.cdf(p=0.5, k=min(yw, total - yw), n=total)"
   ]
  },
  {
   "cell_type": "markdown",
   "metadata": {},
   "source": [
    "# Simple model: Assume younger fight always wins"
   ]
  },
  {
   "cell_type": "markdown",
   "metadata": {},
   "source": [
    "### Any fighters where both fighters had the same birthday?"
   ]
  },
  {
   "cell_type": "code",
   "execution_count": 17,
   "metadata": {
    "collapsed": false
   },
   "outputs": [
    {
     "data": {
      "text/html": [
       "<div>\n",
       "<table border=\"1\" class=\"dataframe\">\n",
       "  <thead>\n",
       "    <tr style=\"text-align: right;\">\n",
       "      <th></th>\n",
       "      <th>Winner</th>\n",
       "      <th>Outcome</th>\n",
       "      <th>Loser</th>\n",
       "      <th>WeightClass</th>\n",
       "      <th>Method</th>\n",
       "      <th>MethodNotes</th>\n",
       "      <th>Round</th>\n",
       "      <th>Time</th>\n",
       "      <th>Event</th>\n",
       "      <th>Date</th>\n",
       "      <th>...</th>\n",
       "      <th>Dob</th>\n",
       "      <th>Weight_L</th>\n",
       "      <th>Height_L</th>\n",
       "      <th>Reach_L</th>\n",
       "      <th>LegReach_L</th>\n",
       "      <th>Stance_L</th>\n",
       "      <th>Dob_L</th>\n",
       "      <th>AgeDiffAbs</th>\n",
       "      <th>Age</th>\n",
       "      <th>Age_L</th>\n",
       "    </tr>\n",
       "  </thead>\n",
       "  <tbody>\n",
       "    <tr>\n",
       "      <th>3087</th>\n",
       "      <td>Jason MacDonald</td>\n",
       "      <td>def.</td>\n",
       "      <td>Jason Lambert</td>\n",
       "      <td>Middleweight</td>\n",
       "      <td>SUB</td>\n",
       "      <td>Rear Naked Choke</td>\n",
       "      <td>2</td>\n",
       "      <td>1:20</td>\n",
       "      <td>UFC 88: Breakthrough</td>\n",
       "      <td>2008-09-06</td>\n",
       "      <td>...</td>\n",
       "      <td>1975-06-03</td>\n",
       "      <td>185.0</td>\n",
       "      <td>75.0</td>\n",
       "      <td>75.0</td>\n",
       "      <td>NaN</td>\n",
       "      <td>Orthodox</td>\n",
       "      <td>1975-06-03</td>\n",
       "      <td>0.0</td>\n",
       "      <td>33.262832</td>\n",
       "      <td>33.262832</td>\n",
       "    </tr>\n",
       "  </tbody>\n",
       "</table>\n",
       "<p>1 rows × 26 columns</p>\n",
       "</div>"
      ],
      "text/plain": [
       "               Winner Outcome          Loser   WeightClass Method  \\\n",
       "3087  Jason MacDonald    def.  Jason Lambert  Middleweight    SUB   \n",
       "\n",
       "           MethodNotes  Round  Time                 Event       Date  \\\n",
       "3087  Rear Naked Choke      2  1:20  UFC 88: Breakthrough 2008-09-06   \n",
       "\n",
       "        ...            Dob  Weight_L  Height_L  Reach_L  LegReach_L  Stance_L  \\\n",
       "3087    ...     1975-06-03     185.0      75.0     75.0         NaN  Orthodox   \n",
       "\n",
       "          Dob_L  AgeDiffAbs        Age      Age_L  \n",
       "3087 1975-06-03         0.0  33.262832  33.262832  \n",
       "\n",
       "[1 rows x 26 columns]"
      ]
     },
     "execution_count": 17,
     "metadata": {},
     "output_type": "execute_result"
    }
   ],
   "source": [
    "df[df.Dob == df.Dob_L]"
   ]
  },
  {
   "cell_type": "markdown",
   "metadata": {},
   "source": [
    "Filter out the no contests and cases where one or both dates of birth are missing"
   ]
  },
  {
   "cell_type": "code",
   "execution_count": 18,
   "metadata": {
    "collapsed": false
   },
   "outputs": [
    {
     "data": {
      "text/plain": [
       "3850"
      ]
     },
     "execution_count": 18,
     "metadata": {},
     "output_type": "execute_result"
    }
   ],
   "source": [
    "#& (df.Date > np.datetime64('2005-01-01'))\n",
    "msk = pd.notnull(df.Dob) & pd.notnull(df.Dob_L) & df.Outcome.isin(['def.', 'draw']) & (df.Dob != df.Dob_L)\n",
    "af = df[msk]\n",
    "total_fights = af.shape[0]\n",
    "total_fights"
   ]
  },
  {
   "cell_type": "code",
   "execution_count": 19,
   "metadata": {
    "collapsed": false
   },
   "outputs": [
    {
     "data": {
      "text/plain": [
       "0.5475324675324675"
      ]
     },
     "execution_count": 19,
     "metadata": {},
     "output_type": "execute_result"
    }
   ],
   "source": [
    "winner_is_younger = float(af[(af.Dob > af.Dob_L) & (af.Outcome == 'def.')].shape[0]) / total_fights\n",
    "winner_is_younger"
   ]
  },
  {
   "cell_type": "code",
   "execution_count": 20,
   "metadata": {
    "collapsed": false
   },
   "outputs": [
    {
     "data": {
      "text/plain": [
       "2108"
      ]
     },
     "execution_count": 20,
     "metadata": {},
     "output_type": "execute_result"
    }
   ],
   "source": [
    "af[(af.Dob > af.Dob_L) & (af.Outcome == 'def.')].shape[0]"
   ]
  },
  {
   "cell_type": "code",
   "execution_count": 21,
   "metadata": {
    "collapsed": false
   },
   "outputs": [
    {
     "data": {
      "text/plain": [
       "0.44571428571428573"
      ]
     },
     "execution_count": 21,
     "metadata": {},
     "output_type": "execute_result"
    }
   ],
   "source": [
    "winner_is_older = float(af[(af.Dob < af.Dob_L) & (af.Outcome == 'def.')].shape[0]) / total_fights\n",
    "winner_is_older"
   ]
  },
  {
   "cell_type": "code",
   "execution_count": 22,
   "metadata": {
    "collapsed": false
   },
   "outputs": [
    {
     "data": {
      "text/plain": [
       "1716"
      ]
     },
     "execution_count": 22,
     "metadata": {},
     "output_type": "execute_result"
    }
   ],
   "source": [
    "af[(af.Dob < af.Dob_L) & (af.Outcome == 'def.')].shape[0]"
   ]
  },
  {
   "cell_type": "code",
   "execution_count": 23,
   "metadata": {
    "collapsed": false
   },
   "outputs": [
    {
     "data": {
      "text/plain": [
       "0.006753246753246753"
      ]
     },
     "execution_count": 23,
     "metadata": {},
     "output_type": "execute_result"
    }
   ],
   "source": [
    "other = float(af[af.Outcome == 'draw'].shape[0]) / total_fights\n",
    "other"
   ]
  },
  {
   "cell_type": "code",
   "execution_count": 24,
   "metadata": {
    "collapsed": false
   },
   "outputs": [
    {
     "data": {
      "text/plain": [
       "26"
      ]
     },
     "execution_count": 24,
     "metadata": {},
     "output_type": "execute_result"
    }
   ],
   "source": [
    "af[af.Outcome == 'draw'].shape[0]"
   ]
  },
  {
   "cell_type": "code",
   "execution_count": 25,
   "metadata": {
    "collapsed": false
   },
   "outputs": [
    {
     "data": {
      "text/plain": [
       "1.0"
      ]
     },
     "execution_count": 25,
     "metadata": {},
     "output_type": "execute_result"
    }
   ],
   "source": [
    "winner_is_younger + winner_is_older + other"
   ]
  },
  {
   "cell_type": "code",
   "execution_count": 26,
   "metadata": {
    "collapsed": false
   },
   "outputs": [
    {
     "data": {
      "image/png": "[encoded data removed]",
      "text/plain": [
       "<matplotlib.figure.Figure at 0x110cdeb10>"
      ]
     },
     "metadata": {},
     "output_type": "display_data"
    }
   ],
   "source": [
    "fig, ax = plt.subplots(figsize=(4, 3))\n",
    "plt.bar([0], 100 * np.array([winner_is_younger, winner_is_older])[0], width=0.5, align='center')\n",
    "plt.bar([1], 100 * np.array([winner_is_younger, winner_is_older])[1], width=0.5, align='center')\n",
    "plt.xlim(-0.5, 1.5)\n",
    "plt.ylim(0, 100)\n",
    "plt.ylabel('Win percentage')\n",
    "ax.set_xticks([0, 1])\n",
    "ax.set_xticklabels(['Younger\\nFighter', 'Older\\nFighter'])\n",
    "w_pct_str = '%.1f' % (100 * winner_is_younger)\n",
    "l_pct_str = '%.1f' % (100 * winner_is_older)\n",
    "plt.text(1, 47, l_pct_str + '%', ha='center')\n",
    "plt.text(0, 57, w_pct_str + '%', ha='center')\n",
    "plt.savefig('report/age/win_pct_younger_older.pdf', bbox_inches='tight')"
   ]
  },
  {
   "cell_type": "markdown",
   "metadata": {},
   "source": [
    "Check for statistical significance:"
   ]
  },
  {
   "cell_type": "code",
   "execution_count": 27,
   "metadata": {
    "collapsed": false
   },
   "outputs": [
    {
     "data": {
      "text/plain": [
       "1716"
      ]
     },
     "execution_count": 27,
     "metadata": {},
     "output_type": "execute_result"
    }
   ],
   "source": [
    "af[(af.Dob < af.Dob_L) & (af.Outcome == 'def.')].shape[0]"
   ]
  },
  {
   "cell_type": "code",
   "execution_count": 28,
   "metadata": {
    "collapsed": false
   },
   "outputs": [
    {
     "data": {
      "text/plain": [
       "26"
      ]
     },
     "execution_count": 28,
     "metadata": {},
     "output_type": "execute_result"
    }
   ],
   "source": [
    "draws = af[af.Outcome == 'draw'].shape[0]\n",
    "draws"
   ]
  },
  {
   "cell_type": "markdown",
   "metadata": {},
   "source": [
    "Subtract the draws and the case where both fighters have the same birthday:"
   ]
  },
  {
   "cell_type": "code",
   "execution_count": 29,
   "metadata": {
    "collapsed": false
   },
   "outputs": [
    {
     "data": {
      "text/plain": [
       "2.478556546793075e-10"
      ]
     },
     "execution_count": 29,
     "metadata": {},
     "output_type": "execute_result"
    }
   ],
   "source": [
    "p = 2 * binom.cdf(p=0.5, k=1716, n=3850 - 26)\n",
    "p"
   ]
  },
  {
   "cell_type": "markdown",
   "metadata": {},
   "source": [
    "### What happens if the fight goes the distance? Cardio plays a bigger factor so favors younger?"
   ]
  },
  {
   "cell_type": "code",
   "execution_count": 30,
   "metadata": {
    "collapsed": false
   },
   "outputs": [
    {
     "data": {
      "text/plain": [
       "KO/TKO        1384\n",
       "U-DEC         1329\n",
       "SUB            888\n",
       "S-DEC          368\n",
       "M-DEC           43\n",
       "Overturned      30\n",
       "CNC             12\n",
       "DQ              12\n",
       "Other            2\n",
       "Name: Method, dtype: int64"
      ]
     },
     "execution_count": 30,
     "metadata": {},
     "output_type": "execute_result"
    }
   ],
   "source": [
    "df.Method.value_counts()"
   ]
  },
  {
   "cell_type": "markdown",
   "metadata": {},
   "source": [
    "### Maybe long fights are harder on the older fighter (look at decisions only)?"
   ]
  },
  {
   "cell_type": "code",
   "execution_count": 31,
   "metadata": {
    "collapsed": false
   },
   "outputs": [
    {
     "data": {
      "text/plain": [
       "1718"
      ]
     },
     "execution_count": 31,
     "metadata": {},
     "output_type": "execute_result"
    }
   ],
   "source": [
    "msk = pd.notnull(df.Dob) & pd.notnull(df.Dob_L) & df.Outcome.isin(['def.', 'draw']) & (df.Dob != df.Dob_L) & (df.Method.str.contains('DEC'))\n",
    "dec = df[msk]\n",
    "total_fights_dec = dec.shape[0]\n",
    "total_fights_dec"
   ]
  },
  {
   "cell_type": "code",
   "execution_count": 32,
   "metadata": {
    "collapsed": false
   },
   "outputs": [
    {
     "data": {
      "text/plain": [
       "0.5337601862630966"
      ]
     },
     "execution_count": 32,
     "metadata": {},
     "output_type": "execute_result"
    }
   ],
   "source": [
    "winner_is_younger_dec = float(dec[(dec.Dob > dec.Dob_L) & (dec.Outcome == 'def.')].shape[0]) / total_fights_dec\n",
    "winner_is_younger_dec"
   ]
  },
  {
   "cell_type": "code",
   "execution_count": 33,
   "metadata": {
    "collapsed": false
   },
   "outputs": [
    {
     "data": {
      "text/plain": [
       "0.4522700814901048"
      ]
     },
     "execution_count": 33,
     "metadata": {},
     "output_type": "execute_result"
    }
   ],
   "source": [
    "winner_is_older_dec = float(dec[(dec.Dob < dec.Dob_L) & (dec.Outcome == 'def.')].shape[0]) / total_fights_dec\n",
    "winner_is_older_dec"
   ]
  },
  {
   "cell_type": "markdown",
   "metadata": {},
   "source": [
    "### Repeat calculation for different age brackets (with ages rounded to ints)"
   ]
  },
  {
   "cell_type": "code",
   "execution_count": 34,
   "metadata": {
    "collapsed": false
   },
   "outputs": [],
   "source": [
    "bk = df[df.Outcome.isin(['def.', 'draw']) & (df.Date > np.datetime64('2005-01-01')) & pd.notnull(df.Dob) & pd.notnull(df.Dob_L)].copy()\n",
    "#bk['Age'] = (bk.Date - bk.Dob) / np.timedelta64(1, 'Y')\n",
    "#bk['Age_L'] = (bk.Date - bk.Dob_L) / np.timedelta64(1, 'Y')\n",
    "bk['Age_int'] = bk.Age.apply(lambda x: round(x)).astype(int)\n",
    "bk['Age_L_int'] = bk.Age_L.apply(lambda x: round(x)).astype(int)"
   ]
  },
  {
   "cell_type": "code",
   "execution_count": 35,
   "metadata": {
    "collapsed": false
   },
   "outputs": [
    {
     "data": {
      "text/plain": [
       "3550"
      ]
     },
     "execution_count": 35,
     "metadata": {},
     "output_type": "execute_result"
    }
   ],
   "source": [
    "bk.shape[0]"
   ]
  },
  {
   "cell_type": "code",
   "execution_count": 36,
   "metadata": {
    "collapsed": false
   },
   "outputs": [],
   "source": [
    "results = []\n",
    "brackets = [(18, 24), (25, 29), (30, 34), (35, 39)]\n",
    "for b_low, b_high in brackets:\n",
    "     msk = (bk.Age_int <= b_high) & (bk.Age_int >= b_low) & (bk.Age_L_int <= b_high) & (bk.Age_L_int >= b_low)\n",
    "     younger = bk[(bk.Age_int < bk.Age_L_int) & (bk.Outcome == 'def.') & msk].shape[0]\n",
    "     older = bk[(bk.Age_int > bk.Age_L_int) & (bk.Outcome == 'def.') & msk].shape[0]\n",
    "     same = bk[(bk.Age_int == bk.Age_L_int) & (bk.Outcome == 'def.') & msk].shape[0]\n",
    "     total = float(bk[msk].shape[0])\n",
    "     total_same = float(bk[(bk.Age_int == bk.Age_L_int) & msk].shape[0])\n",
    "     results.append(( b_low, b_high, younger, older, younger / (total - total_same), same / (2 * total_same), older / (total - total_same), total, total_same))"
   ]
  },
  {
   "cell_type": "code",
   "execution_count": 37,
   "metadata": {
    "collapsed": true
   },
   "outputs": [],
   "source": [
    "def make_label(x):\n",
    "     return str(int(x[0])) + '-' + str(int(x[1]))"
   ]
  },
  {
   "cell_type": "code",
   "execution_count": 38,
   "metadata": {
    "collapsed": false
   },
   "outputs": [
    {
     "data": {
      "text/html": [
       "<div>\n",
       "<table border=\"1\" class=\"dataframe\">\n",
       "  <thead>\n",
       "    <tr style=\"text-align: right;\">\n",
       "      <th></th>\n",
       "      <th>b_low</th>\n",
       "      <th>b_high</th>\n",
       "      <th>count_younger</th>\n",
       "      <th>count_older</th>\n",
       "      <th>young</th>\n",
       "      <th>same</th>\n",
       "      <th>old</th>\n",
       "      <th>total</th>\n",
       "      <th>total_same</th>\n",
       "      <th>labels_</th>\n",
       "    </tr>\n",
       "  </thead>\n",
       "  <tbody>\n",
       "    <tr>\n",
       "      <th>0</th>\n",
       "      <td>18</td>\n",
       "      <td>24</td>\n",
       "      <td>14</td>\n",
       "      <td>14</td>\n",
       "      <td>0.500000</td>\n",
       "      <td>0.500000</td>\n",
       "      <td>0.500000</td>\n",
       "      <td>46.0</td>\n",
       "      <td>18.0</td>\n",
       "      <td>18-24</td>\n",
       "    </tr>\n",
       "    <tr>\n",
       "      <th>1</th>\n",
       "      <td>25</td>\n",
       "      <td>29</td>\n",
       "      <td>260</td>\n",
       "      <td>221</td>\n",
       "      <td>0.537190</td>\n",
       "      <td>0.493007</td>\n",
       "      <td>0.456612</td>\n",
       "      <td>627.0</td>\n",
       "      <td>143.0</td>\n",
       "      <td>25-29</td>\n",
       "    </tr>\n",
       "    <tr>\n",
       "      <th>2</th>\n",
       "      <td>30</td>\n",
       "      <td>34</td>\n",
       "      <td>218</td>\n",
       "      <td>186</td>\n",
       "      <td>0.538272</td>\n",
       "      <td>0.500000</td>\n",
       "      <td>0.459259</td>\n",
       "      <td>525.0</td>\n",
       "      <td>120.0</td>\n",
       "      <td>30-34</td>\n",
       "    </tr>\n",
       "    <tr>\n",
       "      <th>3</th>\n",
       "      <td>35</td>\n",
       "      <td>39</td>\n",
       "      <td>24</td>\n",
       "      <td>27</td>\n",
       "      <td>0.470588</td>\n",
       "      <td>0.500000</td>\n",
       "      <td>0.529412</td>\n",
       "      <td>67.0</td>\n",
       "      <td>16.0</td>\n",
       "      <td>35-39</td>\n",
       "    </tr>\n",
       "  </tbody>\n",
       "</table>\n",
       "</div>"
      ],
      "text/plain": [
       "   b_low  b_high  count_younger  count_older     young      same       old  \\\n",
       "0     18      24             14           14  0.500000  0.500000  0.500000   \n",
       "1     25      29            260          221  0.537190  0.493007  0.456612   \n",
       "2     30      34            218          186  0.538272  0.500000  0.459259   \n",
       "3     35      39             24           27  0.470588  0.500000  0.529412   \n",
       "\n",
       "   total  total_same labels_  \n",
       "0   46.0        18.0   18-24  \n",
       "1  627.0       143.0   25-29  \n",
       "2  525.0       120.0   30-34  \n",
       "3   67.0        16.0   35-39  "
      ]
     },
     "execution_count": 38,
     "metadata": {},
     "output_type": "execute_result"
    }
   ],
   "source": [
    "results = pd.DataFrame(results, columns = ['b_low', 'b_high','count_younger','count_older', 'young', 'same', 'old', 'total', 'total_same'])\n",
    "results['labels_'] = results.apply(make_label, axis=1)\n",
    "results"
   ]
  },
  {
   "cell_type": "code",
   "execution_count": 39,
   "metadata": {
    "collapsed": false
   },
   "outputs": [
    {
     "data": {
      "text/plain": [
       "(484, 405, 51)"
      ]
     },
     "execution_count": 39,
     "metadata": {},
     "output_type": "execute_result"
    }
   ],
   "source": [
    "627-143, 525-120, 67-16"
   ]
  },
  {
   "cell_type": "code",
   "execution_count": 40,
   "metadata": {
    "collapsed": false
   },
   "outputs": [
    {
     "data": {
      "text/plain": [
       "0.083050792827988287"
      ]
     },
     "execution_count": 40,
     "metadata": {},
     "output_type": "execute_result"
    }
   ],
   "source": [
    "2*binom.cdf(p=0.5, k=221, n=221+260)"
   ]
  },
  {
   "cell_type": "code",
   "execution_count": 41,
   "metadata": {
    "collapsed": false
   },
   "outputs": [
    {
     "data": {
      "text/plain": [
       "0.12289234489494884"
      ]
     },
     "execution_count": 41,
     "metadata": {},
     "output_type": "execute_result"
    }
   ],
   "source": [
    "2*binom.cdf(p=0.5, k=186, n=218+186)"
   ]
  },
  {
   "cell_type": "code",
   "execution_count": 42,
   "metadata": {
    "collapsed": false
   },
   "outputs": [
    {
     "data": {
      "text/plain": [
       "0.77976793055307492"
      ]
     },
     "execution_count": 42,
     "metadata": {},
     "output_type": "execute_result"
    }
   ],
   "source": [
    "2*binom.cdf(p=0.5, k=24, n=24+27)"
   ]
  },
  {
   "cell_type": "code",
   "execution_count": 43,
   "metadata": {
    "collapsed": false
   },
   "outputs": [
    {
     "data": {
      "image/png": "[encoded data removed]",
      "text/plain": [
       "<matplotlib.figure.Figure at 0x11355c710>"
      ]
     },
     "metadata": {},
     "output_type": "display_data"
    }
   ],
   "source": [
    "fig, ax = plt.subplots()\n",
    "left = np.arange(4)\n",
    "plt.bar(left, 100*results.young, width=0.2, label='Younger')\n",
    "plt.bar(left + 0.2, 100*results.same, width=0.2, label='Same Age')\n",
    "plt.bar(left + 0.4, 100*results.old, width=0.2, label='Older')\n",
    "plt.xlabel('Age Bracket')\n",
    "plt.ylabel('Win Percentage')\n",
    "plt.xlim(-0.2, 3.8)\n",
    "plt.ylim(0, 80)\n",
    "plt.legend(fontsize=11)\n",
    "ax.set_xticks(left + 0.15)\n",
    "ax.set_xticklabels(results.labels_)\n",
    "ax.xaxis.set_ticks_position('none') \n",
    "#plt.savefig('report/age/age_brackets.pdf', bbox_inches='tight')"
   ]
  },
  {
   "cell_type": "code",
   "execution_count": 44,
   "metadata": {
    "collapsed": false
   },
   "outputs": [
    {
     "data": {
      "image/png": "[encoded data removed]",
      "text/plain": [
       "<matplotlib.figure.Figure at 0x1136b91d0>"
      ]
     },
     "metadata": {},
     "output_type": "display_data"
    }
   ],
   "source": [
    "fig, ax = plt.subplots()\n",
    "left = np.arange(4)\n",
    "plt.bar(left, 100*results.young, width=0.3, label='Younger')\n",
    "plt.bar(left + 0.3, 100*results.old, width=0.3, label='Older')\n",
    "plt.xlabel('Age Bracket')\n",
    "plt.ylabel('Win Percentage')\n",
    "plt.xlim(-0.4, 3.7)\n",
    "plt.ylim(0, 80)\n",
    "plt.legend(fontsize=11)\n",
    "ax.set_xticks(left + 0.15)\n",
    "ax.set_xticklabels(results.labels_)\n",
    "ax.xaxis.set_ticks_position('none') \n",
    "plt.savefig('report/age/age_brackets.pdf', bbox_inches='tight')"
   ]
  },
  {
   "cell_type": "markdown",
   "metadata": {},
   "source": [
    "### How were wins achieved by age bracket?"
   ]
  },
  {
   "cell_type": "code",
   "execution_count": 45,
   "metadata": {
    "collapsed": false
   },
   "outputs": [
    {
     "data": {
      "text/plain": [
       "KO/TKO        1384\n",
       "U-DEC         1329\n",
       "SUB            888\n",
       "S-DEC          368\n",
       "M-DEC           43\n",
       "Overturned      30\n",
       "CNC             12\n",
       "DQ              12\n",
       "Other            2\n",
       "Name: Method, dtype: int64"
      ]
     },
     "execution_count": 45,
     "metadata": {},
     "output_type": "execute_result"
    }
   ],
   "source": [
    "df.Method.value_counts()"
   ]
  },
  {
   "cell_type": "code",
   "execution_count": 46,
   "metadata": {
    "collapsed": false
   },
   "outputs": [],
   "source": [
    "# remove draws\n",
    "bk = bk[bk.Outcome == 'def.']\n",
    "\n",
    "results = []\n",
    "brackets = [(18, 24), (25, 29), (30, 34), (35, 39)]\n",
    "for b_low, b_high in brackets:\n",
    "     msk = (bk.Age_int <= b_high) & (bk.Age_int >= b_low)\n",
    "     dq = bk[(bk.Method == 'DQ') & msk].shape[0]\n",
    "     sub = bk[(bk.Method == 'SUB') & msk].shape[0]\n",
    "     tko = bk[(bk.Method == 'KO/TKO') & msk].shape[0]\n",
    "     dec = bk[bk.Method.str.contains('DEC') & msk].shape[0]\n",
    "     total = bk[msk].shape[0]\n",
    "     results.append((b_low, b_high, tko, sub, dec, dq, total))"
   ]
  },
  {
   "cell_type": "code",
   "execution_count": 47,
   "metadata": {
    "collapsed": false
   },
   "outputs": [
    {
     "data": {
      "text/html": [
       "<div>\n",
       "<table border=\"1\" class=\"dataframe\">\n",
       "  <thead>\n",
       "    <tr style=\"text-align: right;\">\n",
       "      <th></th>\n",
       "      <th>b_low</th>\n",
       "      <th>b_high</th>\n",
       "      <th>tko</th>\n",
       "      <th>sub</th>\n",
       "      <th>dec</th>\n",
       "      <th>dq</th>\n",
       "      <th>total</th>\n",
       "      <th>labels_</th>\n",
       "    </tr>\n",
       "  </thead>\n",
       "  <tbody>\n",
       "    <tr>\n",
       "      <th>0</th>\n",
       "      <td>18</td>\n",
       "      <td>24</td>\n",
       "      <td>108</td>\n",
       "      <td>102</td>\n",
       "      <td>160</td>\n",
       "      <td>1</td>\n",
       "      <td>371</td>\n",
       "      <td>18-24</td>\n",
       "    </tr>\n",
       "    <tr>\n",
       "      <th>1</th>\n",
       "      <td>25</td>\n",
       "      <td>29</td>\n",
       "      <td>496</td>\n",
       "      <td>340</td>\n",
       "      <td>686</td>\n",
       "      <td>1</td>\n",
       "      <td>1523</td>\n",
       "      <td>25-29</td>\n",
       "    </tr>\n",
       "    <tr>\n",
       "      <th>2</th>\n",
       "      <td>30</td>\n",
       "      <td>34</td>\n",
       "      <td>424</td>\n",
       "      <td>239</td>\n",
       "      <td>613</td>\n",
       "      <td>7</td>\n",
       "      <td>1283</td>\n",
       "      <td>30-34</td>\n",
       "    </tr>\n",
       "    <tr>\n",
       "      <th>3</th>\n",
       "      <td>35</td>\n",
       "      <td>39</td>\n",
       "      <td>126</td>\n",
       "      <td>54</td>\n",
       "      <td>143</td>\n",
       "      <td>0</td>\n",
       "      <td>323</td>\n",
       "      <td>35-39</td>\n",
       "    </tr>\n",
       "  </tbody>\n",
       "</table>\n",
       "</div>"
      ],
      "text/plain": [
       "   b_low  b_high  tko  sub  dec  dq  total labels_\n",
       "0     18      24  108  102  160   1    371   18-24\n",
       "1     25      29  496  340  686   1   1523   25-29\n",
       "2     30      34  424  239  613   7   1283   30-34\n",
       "3     35      39  126   54  143   0    323   35-39"
      ]
     },
     "execution_count": 47,
     "metadata": {},
     "output_type": "execute_result"
    }
   ],
   "source": [
    "results = pd.DataFrame(results, columns = ['b_low', 'b_high', 'tko', 'sub', 'dec', 'dq', 'total'])\n",
    "results['labels_'] = results.apply(make_label, axis=1)\n",
    "results"
   ]
  },
  {
   "cell_type": "code",
   "execution_count": 48,
   "metadata": {
    "collapsed": false
   },
   "outputs": [
    {
     "name": "stdout",
     "output_type": "stream",
     "text": [
      "22.3115084806 6 0.00106311576692 False\n"
     ]
    }
   ],
   "source": [
    "tmp_table = results.loc[:, 'tko':'dec']\n",
    "chi_sq, p_value, dof, expect = chi2_contingency(tmp_table)\n",
    "print chi_sq, dof, p_value, p_value > 0.05"
   ]
  },
  {
   "cell_type": "code",
   "execution_count": 49,
   "metadata": {
    "collapsed": false
   },
   "outputs": [
    {
     "data": {
      "text/plain": [
       "0.05652942197328422"
      ]
     },
     "execution_count": 49,
     "metadata": {},
     "output_type": "execute_result"
    }
   ],
   "source": [
    "N = tmp_table.sum().sum()\n",
    "V = (chi_sq / (N * min(tmp_table.shape[0] - 1, tmp_table.shape[1] - 1)))**0.5\n",
    "V"
   ]
  },
  {
   "cell_type": "code",
   "execution_count": 50,
   "metadata": {
    "collapsed": false
   },
   "outputs": [
    {
     "data": {
      "text/html": [
       "<div>\n",
       "<table border=\"1\" class=\"dataframe\">\n",
       "  <thead>\n",
       "    <tr style=\"text-align: right;\">\n",
       "      <th></th>\n",
       "      <th>tko</th>\n",
       "      <th>sub</th>\n",
       "      <th>dec</th>\n",
       "      <th>dq</th>\n",
       "    </tr>\n",
       "  </thead>\n",
       "  <tbody>\n",
       "    <tr>\n",
       "      <th>0</th>\n",
       "      <td>0.291105</td>\n",
       "      <td>0.274933</td>\n",
       "      <td>0.431267</td>\n",
       "      <td>0.002695</td>\n",
       "    </tr>\n",
       "    <tr>\n",
       "      <th>1</th>\n",
       "      <td>0.325673</td>\n",
       "      <td>0.223244</td>\n",
       "      <td>0.450427</td>\n",
       "      <td>0.000657</td>\n",
       "    </tr>\n",
       "    <tr>\n",
       "      <th>2</th>\n",
       "      <td>0.330475</td>\n",
       "      <td>0.186282</td>\n",
       "      <td>0.477786</td>\n",
       "      <td>0.005456</td>\n",
       "    </tr>\n",
       "    <tr>\n",
       "      <th>3</th>\n",
       "      <td>0.390093</td>\n",
       "      <td>0.167183</td>\n",
       "      <td>0.442724</td>\n",
       "      <td>0.000000</td>\n",
       "    </tr>\n",
       "  </tbody>\n",
       "</table>\n",
       "</div>"
      ],
      "text/plain": [
       "        tko       sub       dec        dq\n",
       "0  0.291105  0.274933  0.431267  0.002695\n",
       "1  0.325673  0.223244  0.450427  0.000657\n",
       "2  0.330475  0.186282  0.477786  0.005456\n",
       "3  0.390093  0.167183  0.442724  0.000000"
      ]
     },
     "execution_count": 50,
     "metadata": {},
     "output_type": "execute_result"
    }
   ],
   "source": [
    "results.loc[:, 'tko':'dq'].divide(results.total, axis=0)"
   ]
  },
  {
   "cell_type": "code",
   "execution_count": 51,
   "metadata": {
    "collapsed": false
   },
   "outputs": [
    {
     "data": {
      "text/html": [
       "<div>\n",
       "<table border=\"1\" class=\"dataframe\">\n",
       "  <thead>\n",
       "    <tr style=\"text-align: right;\">\n",
       "      <th></th>\n",
       "      <th>KO/TKO</th>\n",
       "      <th>Submission</th>\n",
       "      <th>Decision</th>\n",
       "      <th>Opponent DQ</th>\n",
       "    </tr>\n",
       "  </thead>\n",
       "  <tbody>\n",
       "    <tr>\n",
       "      <th>18-24</th>\n",
       "      <td>29.1%</td>\n",
       "      <td>27.5%</td>\n",
       "      <td>43.1%</td>\n",
       "      <td>0.3%</td>\n",
       "    </tr>\n",
       "    <tr>\n",
       "      <th>25-29</th>\n",
       "      <td>32.6%</td>\n",
       "      <td>22.3%</td>\n",
       "      <td>45.0%</td>\n",
       "      <td>0.1%</td>\n",
       "    </tr>\n",
       "    <tr>\n",
       "      <th>30-34</th>\n",
       "      <td>33.0%</td>\n",
       "      <td>18.6%</td>\n",
       "      <td>47.8%</td>\n",
       "      <td>0.5%</td>\n",
       "    </tr>\n",
       "    <tr>\n",
       "      <th>35-39</th>\n",
       "      <td>39.0%</td>\n",
       "      <td>16.7%</td>\n",
       "      <td>44.3%</td>\n",
       "      <td>0.0%</td>\n",
       "    </tr>\n",
       "  </tbody>\n",
       "</table>\n",
       "</div>"
      ],
      "text/plain": [
       "      KO/TKO Submission Decision Opponent DQ\n",
       "18-24  29.1%      27.5%    43.1%        0.3%\n",
       "25-29  32.6%      22.3%    45.0%        0.1%\n",
       "30-34  33.0%      18.6%    47.8%        0.5%\n",
       "35-39  39.0%      16.7%    44.3%        0.0%"
      ]
     },
     "execution_count": 51,
     "metadata": {},
     "output_type": "execute_result"
    }
   ],
   "source": [
    "cont_table = 100 * results.loc[:, 'tko':'dq'].divide(results.total, axis=0).applymap(lambda x: round(x, 3))\n",
    "cont_table = cont_table.astype(str).applymap(lambda x: x + '%')\n",
    "cont_table.columns = ['KO/TKO', 'Submission', 'Decision', 'Opponent DQ']\n",
    "cont_table.index = results.labels_.values\n",
    "cont_table.to_latex('report/age/finishes_by_age_RAW.tex')\n",
    "cont_table"
   ]
  },
  {
   "cell_type": "markdown",
   "metadata": {},
   "source": [
    "Below we check the sums:"
   ]
  },
  {
   "cell_type": "code",
   "execution_count": 52,
   "metadata": {
    "collapsed": false
   },
   "outputs": [
    {
     "data": {
      "text/plain": [
       "0    1.0\n",
       "1    1.0\n",
       "2    1.0\n",
       "3    1.0\n",
       "dtype: float64"
      ]
     },
     "execution_count": 52,
     "metadata": {},
     "output_type": "execute_result"
    }
   ],
   "source": [
    "results.loc[:, 'tko':'dq'].divide(results.total, axis=0).sum(axis=1)"
   ]
  },
  {
   "cell_type": "markdown",
   "metadata": {},
   "source": [
    "### Let's compute win ratios by age bracket"
   ]
  },
  {
   "cell_type": "code",
   "execution_count": 53,
   "metadata": {
    "collapsed": false
   },
   "outputs": [],
   "source": [
    "wins = df[df.Outcome.isin(['def.']) & (df.Date > np.datetime64('2005-01-01')) & pd.notnull(df.Dob) & pd.notnull(df.Dob_L)].copy()\n",
    "#wins['Age'] = (wins.Date - wins.Dob) / np.timedelta64(1, 'Y')\n",
    "#wins['Age_L'] = (wins.Date - wins.Dob_L) / np.timedelta64(1, 'Y')\n",
    "wins['Age_int'] = wins.Age.apply(lambda x: round(x)).astype(int)\n",
    "wins['Age_L_int'] = wins.Age_L.apply(lambda x: round(x)).astype(int)"
   ]
  },
  {
   "cell_type": "code",
   "execution_count": 54,
   "metadata": {
    "collapsed": false
   },
   "outputs": [
    {
     "data": {
      "text/plain": [
       "0.6242038216560509"
      ]
     },
     "execution_count": 54,
     "metadata": {},
     "output_type": "execute_result"
    }
   ],
   "source": [
    "msk1 = wins.Age < 25\n",
    "msk2 = wins.Age_L < 25\n",
    "under25 = float(wins[msk1].shape[0]) / wins[msk1 | msk2].shape[0]\n",
    "under25"
   ]
  },
  {
   "cell_type": "code",
   "execution_count": 55,
   "metadata": {
    "collapsed": false
   },
   "outputs": [
    {
     "data": {
      "text/plain": [
       "(490, 371)"
      ]
     },
     "execution_count": 55,
     "metadata": {},
     "output_type": "execute_result"
    }
   ],
   "source": [
    "wins[msk1].shape[0], wins[msk2].shape[0]"
   ]
  },
  {
   "cell_type": "code",
   "execution_count": 56,
   "metadata": {
    "collapsed": false
   },
   "outputs": [
    {
     "data": {
      "text/plain": [
       "5.6403070046415983e-05"
      ]
     },
     "execution_count": 56,
     "metadata": {},
     "output_type": "execute_result"
    }
   ],
   "source": [
    "2 * binom.cdf(p=0.5, n=wins[msk1].shape[0] + wins[msk2].shape[0], k=min(wins[msk1].shape[0], wins[msk2].shape[0]))"
   ]
  },
  {
   "cell_type": "code",
   "execution_count": 57,
   "metadata": {
    "collapsed": false
   },
   "outputs": [
    {
     "data": {
      "text/plain": [
       "0.6313905930470347"
      ]
     },
     "execution_count": 57,
     "metadata": {},
     "output_type": "execute_result"
    }
   ],
   "source": [
    "msk1 = (wins.Age >= 25) & (wins.Age <= 29)\n",
    "msk2 = (wins.Age_L >= 25) & (wins.Age_L <= 29)\n",
    "over25under30 = float(wins[msk1].shape[0]) / wins[msk1 | msk2].shape[0]\n",
    "over25under30"
   ]
  },
  {
   "cell_type": "code",
   "execution_count": 58,
   "metadata": {
    "collapsed": false
   },
   "outputs": [
    {
     "data": {
      "text/plain": [
       "(1235, 1118)"
      ]
     },
     "execution_count": 58,
     "metadata": {},
     "output_type": "execute_result"
    }
   ],
   "source": [
    "wins[msk1].shape[0], wins[msk2].shape[0]"
   ]
  },
  {
   "cell_type": "code",
   "execution_count": 59,
   "metadata": {
    "collapsed": false
   },
   "outputs": [
    {
     "data": {
      "text/plain": [
       "0.016767285469014539"
      ]
     },
     "execution_count": 59,
     "metadata": {},
     "output_type": "execute_result"
    }
   ],
   "source": [
    "2 * binom.cdf(p=0.5, n=wins[msk1].shape[0] + wins[msk2].shape[0], k=min(wins[msk1].shape[0], wins[msk2].shape[0]))"
   ]
  },
  {
   "cell_type": "code",
   "execution_count": 60,
   "metadata": {
    "collapsed": false
   },
   "outputs": [
    {
     "data": {
      "text/plain": [
       "0.5838264299802761"
      ]
     },
     "execution_count": 60,
     "metadata": {},
     "output_type": "execute_result"
    }
   ],
   "source": [
    "msk1 = (wins.Age >= 30) & (wins.Age < 35)\n",
    "msk2 = (wins.Age_L >= 30) & (wins.Age_L < 35)\n",
    "over30under35 = float(wins[msk1].shape[0]) / wins[msk1 | msk2].shape[0]\n",
    "over30under35"
   ]
  },
  {
   "cell_type": "code",
   "execution_count": 61,
   "metadata": {
    "collapsed": false
   },
   "outputs": [
    {
     "data": {
      "text/plain": [
       "(1184, 1310)"
      ]
     },
     "execution_count": 61,
     "metadata": {},
     "output_type": "execute_result"
    }
   ],
   "source": [
    "wins[msk1].shape[0], wins[msk2].shape[0]"
   ]
  },
  {
   "cell_type": "code",
   "execution_count": 62,
   "metadata": {
    "collapsed": false
   },
   "outputs": [
    {
     "data": {
      "text/plain": [
       "0.012299040431129078"
      ]
     },
     "execution_count": 62,
     "metadata": {},
     "output_type": "execute_result"
    }
   ],
   "source": [
    "2 * binom.cdf(p=0.5, n=wins[msk1].shape[0] + wins[msk2].shape[0], k=min(wins[msk1].shape[0], wins[msk2].shape[0]))"
   ]
  },
  {
   "cell_type": "code",
   "execution_count": 63,
   "metadata": {
    "collapsed": false
   },
   "outputs": [
    {
     "data": {
      "text/plain": [
       "0.47126436781609193"
      ]
     },
     "execution_count": 63,
     "metadata": {},
     "output_type": "execute_result"
    }
   ],
   "source": [
    "msk1 = wins.Age >= 35\n",
    "msk2 = wins.Age_L >= 35\n",
    "over35 = float(wins[msk1].shape[0]) / wins[msk1 | msk2].shape[0]\n",
    "over35"
   ]
  },
  {
   "cell_type": "code",
   "execution_count": 64,
   "metadata": {
    "collapsed": false
   },
   "outputs": [
    {
     "data": {
      "text/plain": [
       "(287, 394)"
      ]
     },
     "execution_count": 64,
     "metadata": {},
     "output_type": "execute_result"
    }
   ],
   "source": [
    "wins[msk1].shape[0], wins[msk2].shape[0]"
   ]
  },
  {
   "cell_type": "code",
   "execution_count": 65,
   "metadata": {
    "collapsed": false
   },
   "outputs": [
    {
     "data": {
      "text/plain": [
       "4.7073513370514293e-05"
      ]
     },
     "execution_count": 65,
     "metadata": {},
     "output_type": "execute_result"
    }
   ],
   "source": [
    "2 * binom.cdf(p=0.5, n=wins[msk1].shape[0] + wins[msk2].shape[0], k=min(wins[msk1].shape[0], wins[msk2].shape[0]))"
   ]
  },
  {
   "cell_type": "code",
   "execution_count": 66,
   "metadata": {
    "collapsed": false
   },
   "outputs": [
    {
     "data": {
      "text/plain": [
       "72"
      ]
     },
     "execution_count": 66,
     "metadata": {},
     "output_type": "execute_result"
    }
   ],
   "source": [
    "wins[msk1 & msk2][['Winner', 'Loser', 'Age', 'Age_L']].shape[0]"
   ]
  },
  {
   "cell_type": "code",
   "execution_count": 67,
   "metadata": {
    "collapsed": false
   },
   "outputs": [
    {
     "data": {
      "text/plain": [
       "0.40037243947858475"
      ]
     },
     "execution_count": 67,
     "metadata": {},
     "output_type": "execute_result"
    }
   ],
   "source": [
    "msk1 = (wins.Age > 35) & (wins.Age_L < 35)\n",
    "msk2 = (wins.Age_L > 35) & (wins.Age < 35)\n",
    "over35 = float(wins[msk1].shape[0]) / wins[msk1 | msk2].shape[0]\n",
    "over35"
   ]
  },
  {
   "cell_type": "code",
   "execution_count": 68,
   "metadata": {
    "collapsed": false
   },
   "outputs": [
    {
     "data": {
      "text/plain": [
       "(215, 322)"
      ]
     },
     "execution_count": 68,
     "metadata": {},
     "output_type": "execute_result"
    }
   ],
   "source": [
    "wins[msk1].shape[0], wins[msk2].shape[0]"
   ]
  },
  {
   "cell_type": "code",
   "execution_count": 69,
   "metadata": {
    "collapsed": false
   },
   "outputs": [
    {
     "data": {
      "text/plain": [
       "<matplotlib.text.Text at 0x113797c90>"
      ]
     },
     "execution_count": 69,
     "metadata": {},
     "output_type": "execute_result"
    },
    {
     "data": {
      "image/png": "[encoded data removed]",
      "text/plain": [
       "<matplotlib.figure.Figure at 0x110ca3990>"
      ]
     },
     "metadata": {},
     "output_type": "display_data"
    }
   ],
   "source": [
    "win_percent = [under25, over25under30, over30under35, over35]\n",
    "labels = ['18-24', '25-29', '30-34', '35 and above']\n",
    "plt.plot([-1, 4], [50, 50], 'k:', zorder=0)\n",
    "plt.bar(range(len(win_percent)), 100 * np.array(win_percent), color='lightgray', tick_label=labels, align='center')\n",
    "plt.xlim(-0.6, 3.6)\n",
    "plt.ylim(0, 100)\n",
    "plt.ylabel('Win percentage')\n",
    "plt.xlabel('Age Bracket')"
   ]
  },
  {
   "cell_type": "markdown",
   "metadata": {},
   "source": [
    "### What is the winning percentage by age?"
   ]
  },
  {
   "cell_type": "code",
   "execution_count": 70,
   "metadata": {
    "collapsed": false
   },
   "outputs": [
    {
     "data": {
      "text/html": [
       "<div>\n",
       "<table border=\"1\" class=\"dataframe\">\n",
       "  <thead>\n",
       "    <tr style=\"text-align: right;\">\n",
       "      <th></th>\n",
       "      <th>wins</th>\n",
       "      <th>total</th>\n",
       "      <th>WinRatio</th>\n",
       "      <th>2se</th>\n",
       "    </tr>\n",
       "  </thead>\n",
       "  <tbody>\n",
       "    <tr>\n",
       "      <th>20</th>\n",
       "      <td>10.0</td>\n",
       "      <td>15.0</td>\n",
       "      <td>0.666667</td>\n",
       "      <td>0.261055</td>\n",
       "    </tr>\n",
       "    <tr>\n",
       "      <th>21</th>\n",
       "      <td>22.0</td>\n",
       "      <td>37.0</td>\n",
       "      <td>0.594595</td>\n",
       "      <td>0.163698</td>\n",
       "    </tr>\n",
       "    <tr>\n",
       "      <th>22</th>\n",
       "      <td>63.0</td>\n",
       "      <td>113.0</td>\n",
       "      <td>0.557522</td>\n",
       "      <td>0.092577</td>\n",
       "    </tr>\n",
       "    <tr>\n",
       "      <th>23</th>\n",
       "      <td>115.0</td>\n",
       "      <td>194.0</td>\n",
       "      <td>0.592784</td>\n",
       "      <td>0.069573</td>\n",
       "    </tr>\n",
       "    <tr>\n",
       "      <th>24</th>\n",
       "      <td>161.0</td>\n",
       "      <td>295.0</td>\n",
       "      <td>0.545763</td>\n",
       "      <td>0.057052</td>\n",
       "    </tr>\n",
       "    <tr>\n",
       "      <th>25</th>\n",
       "      <td>238.0</td>\n",
       "      <td>422.0</td>\n",
       "      <td>0.563981</td>\n",
       "      <td>0.047449</td>\n",
       "    </tr>\n",
       "    <tr>\n",
       "      <th>26</th>\n",
       "      <td>274.0</td>\n",
       "      <td>528.0</td>\n",
       "      <td>0.518939</td>\n",
       "      <td>0.042716</td>\n",
       "    </tr>\n",
       "    <tr>\n",
       "      <th>27</th>\n",
       "      <td>330.0</td>\n",
       "      <td>594.0</td>\n",
       "      <td>0.555556</td>\n",
       "      <td>0.040042</td>\n",
       "    </tr>\n",
       "    <tr>\n",
       "      <th>28</th>\n",
       "      <td>347.0</td>\n",
       "      <td>672.0</td>\n",
       "      <td>0.516369</td>\n",
       "      <td>0.037852</td>\n",
       "    </tr>\n",
       "    <tr>\n",
       "      <th>29</th>\n",
       "      <td>334.0</td>\n",
       "      <td>686.0</td>\n",
       "      <td>0.486880</td>\n",
       "      <td>0.037469</td>\n",
       "    </tr>\n",
       "    <tr>\n",
       "      <th>30</th>\n",
       "      <td>327.0</td>\n",
       "      <td>652.0</td>\n",
       "      <td>0.501534</td>\n",
       "      <td>0.038450</td>\n",
       "    </tr>\n",
       "    <tr>\n",
       "      <th>31</th>\n",
       "      <td>342.0</td>\n",
       "      <td>646.0</td>\n",
       "      <td>0.529412</td>\n",
       "      <td>0.038562</td>\n",
       "    </tr>\n",
       "    <tr>\n",
       "      <th>32</th>\n",
       "      <td>275.0</td>\n",
       "      <td>574.0</td>\n",
       "      <td>0.479094</td>\n",
       "      <td>0.040954</td>\n",
       "    </tr>\n",
       "    <tr>\n",
       "      <th>33</th>\n",
       "      <td>189.0</td>\n",
       "      <td>429.0</td>\n",
       "      <td>0.440559</td>\n",
       "      <td>0.047112</td>\n",
       "    </tr>\n",
       "    <tr>\n",
       "      <th>34</th>\n",
       "      <td>150.0</td>\n",
       "      <td>361.0</td>\n",
       "      <td>0.415512</td>\n",
       "      <td>0.051008</td>\n",
       "    </tr>\n",
       "    <tr>\n",
       "      <th>35</th>\n",
       "      <td>119.0</td>\n",
       "      <td>274.0</td>\n",
       "      <td>0.434307</td>\n",
       "      <td>0.058951</td>\n",
       "    </tr>\n",
       "    <tr>\n",
       "      <th>36</th>\n",
       "      <td>86.0</td>\n",
       "      <td>218.0</td>\n",
       "      <td>0.394495</td>\n",
       "      <td>0.065242</td>\n",
       "    </tr>\n",
       "    <tr>\n",
       "      <th>37</th>\n",
       "      <td>68.0</td>\n",
       "      <td>146.0</td>\n",
       "      <td>0.465753</td>\n",
       "      <td>0.081594</td>\n",
       "    </tr>\n",
       "    <tr>\n",
       "      <th>38</th>\n",
       "      <td>32.0</td>\n",
       "      <td>80.0</td>\n",
       "      <td>0.400000</td>\n",
       "      <td>0.109021</td>\n",
       "    </tr>\n",
       "    <tr>\n",
       "      <th>39</th>\n",
       "      <td>18.0</td>\n",
       "      <td>45.0</td>\n",
       "      <td>0.400000</td>\n",
       "      <td>0.147182</td>\n",
       "    </tr>\n",
       "    <tr>\n",
       "      <th>40</th>\n",
       "      <td>13.0</td>\n",
       "      <td>25.0</td>\n",
       "      <td>0.520000</td>\n",
       "      <td>0.206225</td>\n",
       "    </tr>\n",
       "  </tbody>\n",
       "</table>\n",
       "</div>"
      ],
      "text/plain": [
       "     wins  total  WinRatio       2se\n",
       "20   10.0   15.0  0.666667  0.261055\n",
       "21   22.0   37.0  0.594595  0.163698\n",
       "22   63.0  113.0  0.557522  0.092577\n",
       "23  115.0  194.0  0.592784  0.069573\n",
       "24  161.0  295.0  0.545763  0.057052\n",
       "25  238.0  422.0  0.563981  0.047449\n",
       "26  274.0  528.0  0.518939  0.042716\n",
       "27  330.0  594.0  0.555556  0.040042\n",
       "28  347.0  672.0  0.516369  0.037852\n",
       "29  334.0  686.0  0.486880  0.037469\n",
       "30  327.0  652.0  0.501534  0.038450\n",
       "31  342.0  646.0  0.529412  0.038562\n",
       "32  275.0  574.0  0.479094  0.040954\n",
       "33  189.0  429.0  0.440559  0.047112\n",
       "34  150.0  361.0  0.415512  0.051008\n",
       "35  119.0  274.0  0.434307  0.058951\n",
       "36   86.0  218.0  0.394495  0.065242\n",
       "37   68.0  146.0  0.465753  0.081594\n",
       "38   32.0   80.0  0.400000  0.109021\n",
       "39   18.0   45.0  0.400000  0.147182\n",
       "40   13.0   25.0  0.520000  0.206225"
      ]
     },
     "execution_count": 70,
     "metadata": {},
     "output_type": "execute_result"
    }
   ],
   "source": [
    "win_count_by_age = wins.Age_int.value_counts()\n",
    "\n",
    "# count fights per age without double counting\n",
    "ages = win_count_by_age.index\n",
    "counts = []\n",
    "for age in ages:\n",
    "     ct = wins[(wins.Age_int == age) | (wins.Age_L_int == age)].shape[0]\n",
    "     counts.append(ct)\n",
    "# total_count_by_age = pd.Series(data=counts, index=ages)\n",
    "# win percentage is number of wins by age o\n",
    "total_count_by_age = win_count_by_age + wins.Age_L_int.value_counts()\n",
    "win_percent_by_age = win_count_by_age / total_count_by_age\n",
    "cmb = pd.concat([win_count_by_age, total_count_by_age, win_percent_by_age], axis=1).sort_index()\n",
    "cmb = cmb.loc[20:40]\n",
    "cmb.columns = ['wins', 'total', 'WinRatio']\n",
    "cmb['2se'] = -t.ppf(0.025, cmb.total - 1) * (cmb.WinRatio * (1.0 - cmb.WinRatio) / cmb.total)**0.5\n",
    "cmb"
   ]
  },
  {
   "cell_type": "code",
   "execution_count": 71,
   "metadata": {
    "collapsed": false
   },
   "outputs": [
    {
     "data": {
      "image/png": "[encoded data removed]",
      "text/plain": [
       "<matplotlib.figure.Figure at 0x1137a3cd0>"
      ]
     },
     "metadata": {},
     "output_type": "display_data"
    }
   ],
   "source": [
    "x = cmb.index\n",
    "y = 100 * cmb.WinRatio.values\n",
    "xmin = 19\n",
    "xmax = 41\n",
    "\n",
    "m, b = np.polyfit(x, y, 1)\n",
    "fig, ax = plt.subplots()\n",
    "plt.plot([xmin, xmax], [50, 50], 'k:')\n",
    "plt.plot(np.linspace(xmin, xmax), m * np.linspace(xmin, xmax) + b, 'k-')\n",
    "plt.errorbar(cmb.index, 100 * cmb.WinRatio.values, yerr=100*cmb['2se'], fmt='o', marker='o', mec='k', mfc='w', ecolor='gray', elinewidth=0.5, capsize=2)\n",
    "#plt.plot(cmb.index, 100 * cmb.WinRatio.values, 'wo', mec='k')\n",
    "plt.xlabel('Age')\n",
    "plt.ylabel('Win percentage')\n",
    "plt.xlim(xmin, xmax)\n",
    "plt.ylim(0, 100)\n",
    "minor_ticks = np.arange(xmin, xmax, 1)\n",
    "ax.set_xticks(minor_ticks, minor = True)\n",
    "major_ticks = np.arange(20, 42, 2)\n",
    "ax.set_xticks(major_ticks)\n",
    "ax.set_xticklabels(major_ticks)\n",
    "plt.savefig('report/age/win_percent_vs_age.pdf', bbox_inches='tight')"
   ]
  },
  {
   "cell_type": "markdown",
   "metadata": {},
   "source": [
    "Let's check the result for age 40:"
   ]
  },
  {
   "cell_type": "code",
   "execution_count": 72,
   "metadata": {
    "collapsed": false
   },
   "outputs": [
    {
     "data": {
      "text/plain": [
       "0.52"
      ]
     },
     "execution_count": 72,
     "metadata": {},
     "output_type": "execute_result"
    }
   ],
   "source": [
    "float(wins[wins.Age_int == 40].shape[0]) / (wins[wins.Age_int == 40].shape[0] + wins[wins.Age_L_int == 40].shape[0])"
   ]
  },
  {
   "cell_type": "code",
   "execution_count": 73,
   "metadata": {
    "collapsed": false
   },
   "outputs": [
    {
     "data": {
      "text/plain": [
       "25"
      ]
     },
     "execution_count": 73,
     "metadata": {},
     "output_type": "execute_result"
    }
   ],
   "source": [
    "wins[wins.Age_int == 40].shape[0] + wins[wins.Age_L_int == 40].shape[0]"
   ]
  },
  {
   "cell_type": "code",
   "execution_count": 74,
   "metadata": {
    "collapsed": false
   },
   "outputs": [
    {
     "name": "stdout",
     "output_type": "stream",
     "text": [
      "-0.848240069444 1.19063893348e-06\n",
      "-0.8437804927 1.53926445477e-06\n"
     ]
    }
   ],
   "source": [
    "from scipy.stats import pearsonr, spearmanr\n",
    "\n",
    "corr_pearson, p_value_pearson = pearsonr(x, y)\n",
    "corr_spearman, p_value_spearman = spearmanr(x, y)\n",
    "print corr_pearson, p_value_pearson\n",
    "print corr_spearman, p_value_spearman"
   ]
  },
  {
   "cell_type": "code",
   "execution_count": 75,
   "metadata": {
    "collapsed": false
   },
   "outputs": [
    {
     "data": {
      "text/html": [
       "<div>\n",
       "<table border=\"1\" class=\"dataframe\">\n",
       "  <thead>\n",
       "    <tr style=\"text-align: right;\">\n",
       "      <th></th>\n",
       "      <th>21</th>\n",
       "      <th>22</th>\n",
       "      <th>23</th>\n",
       "      <th>24</th>\n",
       "      <th>25</th>\n",
       "      <th>26</th>\n",
       "      <th>27</th>\n",
       "      <th>28</th>\n",
       "      <th>29</th>\n",
       "      <th>30</th>\n",
       "      <th>31</th>\n",
       "      <th>32</th>\n",
       "      <th>33</th>\n",
       "      <th>34</th>\n",
       "      <th>35</th>\n",
       "      <th>36</th>\n",
       "      <th>37</th>\n",
       "      <th>38</th>\n",
       "      <th>39</th>\n",
       "      <th>40</th>\n",
       "    </tr>\n",
       "  </thead>\n",
       "  <tbody>\n",
       "    <tr>\n",
       "      <th>wins</th>\n",
       "      <td>22.0</td>\n",
       "      <td>63.0</td>\n",
       "      <td>115.0</td>\n",
       "      <td>161.0</td>\n",
       "      <td>238.0</td>\n",
       "      <td>274.0</td>\n",
       "      <td>330.0</td>\n",
       "      <td>347.0</td>\n",
       "      <td>334.0</td>\n",
       "      <td>327.0</td>\n",
       "      <td>342.0</td>\n",
       "      <td>275.0</td>\n",
       "      <td>189.0</td>\n",
       "      <td>150.0</td>\n",
       "      <td>119.0</td>\n",
       "      <td>86.0</td>\n",
       "      <td>68.0</td>\n",
       "      <td>32.0</td>\n",
       "      <td>18.0</td>\n",
       "      <td>13.0</td>\n",
       "    </tr>\n",
       "    <tr>\n",
       "      <th>total</th>\n",
       "      <td>37.0</td>\n",
       "      <td>113.0</td>\n",
       "      <td>194.0</td>\n",
       "      <td>295.0</td>\n",
       "      <td>422.0</td>\n",
       "      <td>528.0</td>\n",
       "      <td>594.0</td>\n",
       "      <td>672.0</td>\n",
       "      <td>686.0</td>\n",
       "      <td>652.0</td>\n",
       "      <td>646.0</td>\n",
       "      <td>574.0</td>\n",
       "      <td>429.0</td>\n",
       "      <td>361.0</td>\n",
       "      <td>274.0</td>\n",
       "      <td>218.0</td>\n",
       "      <td>146.0</td>\n",
       "      <td>80.0</td>\n",
       "      <td>45.0</td>\n",
       "      <td>25.0</td>\n",
       "    </tr>\n",
       "  </tbody>\n",
       "</table>\n",
       "</div>"
      ],
      "text/plain": [
       "         21     22     23     24     25     26     27     28     29     30  \\\n",
       "wins   22.0   63.0  115.0  161.0  238.0  274.0  330.0  347.0  334.0  327.0   \n",
       "total  37.0  113.0  194.0  295.0  422.0  528.0  594.0  672.0  686.0  652.0   \n",
       "\n",
       "          31     32     33     34     35     36     37    38    39    40  \n",
       "wins   342.0  275.0  189.0  150.0  119.0   86.0   68.0  32.0  18.0  13.0  \n",
       "total  646.0  574.0  429.0  361.0  274.0  218.0  146.0  80.0  45.0  25.0  "
      ]
     },
     "execution_count": 75,
     "metadata": {},
     "output_type": "execute_result"
    }
   ],
   "source": [
    "w = win_count_by_age[total_count_by_age > 20].sort_index()\n",
    "tot = total_count_by_age[total_count_by_age > 20].sort_index()\n",
    "cont_table = pd.DataFrame({'wins':w, 'total':tot}).T.sort_index(ascending=False)\n",
    "cont_table"
   ]
  },
  {
   "cell_type": "code",
   "execution_count": 76,
   "metadata": {
    "collapsed": false
   },
   "outputs": [
    {
     "name": "stdout",
     "output_type": "stream",
     "text": [
      "22.9555548185 0.239305088498 True\n"
     ]
    }
   ],
   "source": [
    "chi_sq, p_value, dof, expect = chi2_contingency(cont_table)\n",
    "print chi_sq, p_value, p_value > 0.05"
   ]
  },
  {
   "cell_type": "markdown",
   "metadata": {},
   "source": [
    "Below we compute Cramer's V which is a measure of the strength between the two nominal variables:"
   ]
  },
  {
   "cell_type": "code",
   "execution_count": 77,
   "metadata": {
    "collapsed": false
   },
   "outputs": [
    {
     "data": {
      "text/plain": [
       "0.046770645839261542"
      ]
     },
     "execution_count": 77,
     "metadata": {},
     "output_type": "execute_result"
    }
   ],
   "source": [
    "N = cont_table.sum().sum()\n",
    "V = (chi_sq / (N * min(2 - 1, 21 - 1)))**0.5\n",
    "V"
   ]
  },
  {
   "cell_type": "markdown",
   "metadata": {},
   "source": [
    "The above statistical test indicates that there is not enough data to conclude that the counts for each age are not due to chance. Part of this maybe that the numbers are the largest in the middle where the win ratio is about 50%."
   ]
  },
  {
   "cell_type": "code",
   "execution_count": 78,
   "metadata": {
    "collapsed": true
   },
   "outputs": [],
   "source": [
    "def two_sided_binom(x):\n",
    "     wins = x[0]\n",
    "     total = x[1]\n",
    "     if wins / total == 0.5:\n",
    "          return 1.0\n",
    "     elif wins / total < 0.5:\n",
    "          return 2 * binom.cdf(p=0.5, k=wins, n=total)\n",
    "     else:\n",
    "          return 2 * (1.0 - binom.cdf(p=0.5, k=wins-1, n=total))"
   ]
  },
  {
   "cell_type": "code",
   "execution_count": 79,
   "metadata": {
    "collapsed": false
   },
   "outputs": [
    {
     "data": {
      "text/html": [
       "<div>\n",
       "<table border=\"1\" class=\"dataframe\">\n",
       "  <thead>\n",
       "    <tr style=\"text-align: right;\">\n",
       "      <th></th>\n",
       "      <th>21</th>\n",
       "      <th>22</th>\n",
       "      <th>23</th>\n",
       "      <th>24</th>\n",
       "      <th>25</th>\n",
       "      <th>26</th>\n",
       "      <th>27</th>\n",
       "      <th>28</th>\n",
       "      <th>29</th>\n",
       "      <th>30</th>\n",
       "      <th>31</th>\n",
       "      <th>32</th>\n",
       "      <th>33</th>\n",
       "      <th>34</th>\n",
       "      <th>35</th>\n",
       "      <th>36</th>\n",
       "      <th>37</th>\n",
       "      <th>38</th>\n",
       "      <th>39</th>\n",
       "      <th>40</th>\n",
       "    </tr>\n",
       "  </thead>\n",
       "  <tbody>\n",
       "    <tr>\n",
       "      <th>wins</th>\n",
       "      <td>22.00</td>\n",
       "      <td>63.00</td>\n",
       "      <td>115.00</td>\n",
       "      <td>161.00</td>\n",
       "      <td>238.00</td>\n",
       "      <td>274.00</td>\n",
       "      <td>330.00</td>\n",
       "      <td>347.00</td>\n",
       "      <td>334.00</td>\n",
       "      <td>327.00</td>\n",
       "      <td>342.00</td>\n",
       "      <td>275.00</td>\n",
       "      <td>189.00</td>\n",
       "      <td>150.0</td>\n",
       "      <td>119.00</td>\n",
       "      <td>86.0</td>\n",
       "      <td>68.00</td>\n",
       "      <td>32.00</td>\n",
       "      <td>18.00</td>\n",
       "      <td>13.0</td>\n",
       "    </tr>\n",
       "    <tr>\n",
       "      <th>total</th>\n",
       "      <td>37.00</td>\n",
       "      <td>113.00</td>\n",
       "      <td>194.00</td>\n",
       "      <td>295.00</td>\n",
       "      <td>422.00</td>\n",
       "      <td>528.00</td>\n",
       "      <td>594.00</td>\n",
       "      <td>672.00</td>\n",
       "      <td>686.00</td>\n",
       "      <td>652.00</td>\n",
       "      <td>646.00</td>\n",
       "      <td>574.00</td>\n",
       "      <td>429.00</td>\n",
       "      <td>361.0</td>\n",
       "      <td>274.00</td>\n",
       "      <td>218.0</td>\n",
       "      <td>146.00</td>\n",
       "      <td>80.00</td>\n",
       "      <td>45.00</td>\n",
       "      <td>25.0</td>\n",
       "    </tr>\n",
       "    <tr>\n",
       "      <th>p_value</th>\n",
       "      <td>0.32</td>\n",
       "      <td>0.26</td>\n",
       "      <td>0.01</td>\n",
       "      <td>0.13</td>\n",
       "      <td>0.01</td>\n",
       "      <td>0.41</td>\n",
       "      <td>0.01</td>\n",
       "      <td>0.42</td>\n",
       "      <td>0.52</td>\n",
       "      <td>0.97</td>\n",
       "      <td>0.15</td>\n",
       "      <td>0.34</td>\n",
       "      <td>0.02</td>\n",
       "      <td>0.0</td>\n",
       "      <td>0.03</td>\n",
       "      <td>0.0</td>\n",
       "      <td>0.46</td>\n",
       "      <td>0.09</td>\n",
       "      <td>0.23</td>\n",
       "      <td>1.0</td>\n",
       "    </tr>\n",
       "  </tbody>\n",
       "</table>\n",
       "</div>"
      ],
      "text/plain": [
       "            21      22      23      24      25      26      27      28  \\\n",
       "wins     22.00   63.00  115.00  161.00  238.00  274.00  330.00  347.00   \n",
       "total    37.00  113.00  194.00  295.00  422.00  528.00  594.00  672.00   \n",
       "p_value   0.32    0.26    0.01    0.13    0.01    0.41    0.01    0.42   \n",
       "\n",
       "             29      30      31      32      33     34      35     36      37  \\\n",
       "wins     334.00  327.00  342.00  275.00  189.00  150.0  119.00   86.0   68.00   \n",
       "total    686.00  652.00  646.00  574.00  429.00  361.0  274.00  218.0  146.00   \n",
       "p_value    0.52    0.97    0.15    0.34    0.02    0.0    0.03    0.0    0.46   \n",
       "\n",
       "            38     39    40  \n",
       "wins     32.00  18.00  13.0  \n",
       "total    80.00  45.00  25.0  \n",
       "p_value   0.09   0.23   1.0  "
      ]
     },
     "execution_count": 79,
     "metadata": {},
     "output_type": "execute_result"
    }
   ],
   "source": [
    "cont_table.loc['p_value'] = cont_table.apply(two_sided_binom, axis=0)\n",
    "cont_table.applymap(lambda x: round(x, 2))"
   ]
  },
  {
   "cell_type": "markdown",
   "metadata": {},
   "source": [
    "We see that when we compute the p_values they are mostly above 0.05."
   ]
  },
  {
   "cell_type": "code",
   "execution_count": 80,
   "metadata": {
    "collapsed": false
   },
   "outputs": [
    {
     "data": {
      "text/plain": [
       "<matplotlib.text.Text at 0x113c47d50>"
      ]
     },
     "execution_count": 80,
     "metadata": {},
     "output_type": "execute_result"
    },
    {
     "data": {
      "image/png": "[encoded data removed]",
      "text/plain": [
       "<matplotlib.figure.Figure at 0x11372c850>"
      ]
     },
     "metadata": {},
     "output_type": "display_data"
    }
   ],
   "source": [
    "flips = 21\n",
    "k_values = range(flips + 1)\n",
    "plt.vlines(x, ymin=0, ymax=[binom.pmf(k, p=0.5, n=flips) for k in k_values], lw=4)\n",
    "plt.xlabel('k')\n",
    "plt.ylabel('P(k)')"
   ]
  },
  {
   "cell_type": "markdown",
   "metadata": {},
   "source": [
    "### Let's compute the win percentage of the younger fighter as a function of age difference:"
   ]
  },
  {
   "cell_type": "code",
   "execution_count": 81,
   "metadata": {
    "collapsed": false
   },
   "outputs": [
    {
     "data": {
      "text/plain": [
       "-16.0      1\n",
       "-15.0      1\n",
       "-14.0      5\n",
       "-13.0      9\n",
       "-12.0     15\n",
       "-11.0     17\n",
       "-10.0     28\n",
       "-9.0      37\n",
       "-8.0      69\n",
       "-7.0      97\n",
       "-6.0     105\n",
       "-5.0     139\n",
       "-4.0     169\n",
       "-3.0     207\n",
       "-2.0     246\n",
       "-1.0     287\n",
       " 0.0     271\n",
       " 1.0     257\n",
       " 2.0     289\n",
       " 3.0     287\n",
       " 4.0     221\n",
       " 5.0     185\n",
       " 6.0     154\n",
       " 7.0     119\n",
       " 8.0      96\n",
       " 9.0      77\n",
       " 10.0     51\n",
       " 11.0     29\n",
       " 12.0     27\n",
       " 13.0     12\n",
       " 14.0     11\n",
       " 15.0      7\n",
       " 16.0      3\n",
       " 17.0      2\n",
       "Name: AgeDiff, dtype: int64"
      ]
     },
     "execution_count": 81,
     "metadata": {},
     "output_type": "execute_result"
    }
   ],
   "source": [
    "wins['AgeDiff'] = wins.Age_L - wins.Age\n",
    "wins.AgeDiff = wins.AgeDiff.apply(round)\n",
    "delta_age = wins.AgeDiff.value_counts().sort_index()\n",
    "delta_age"
   ]
  },
  {
   "cell_type": "code",
   "execution_count": 82,
   "metadata": {
    "collapsed": false
   },
   "outputs": [
    {
     "data": {
      "text/plain": [
       "0.0     271\n",
       "1.0     544\n",
       "2.0     535\n",
       "3.0     494\n",
       "4.0     390\n",
       "5.0     324\n",
       "6.0     259\n",
       "7.0     216\n",
       "8.0     165\n",
       "9.0     114\n",
       "10.0     79\n",
       "11.0     46\n",
       "12.0     42\n",
       "13.0     21\n",
       "14.0     16\n",
       "15.0      8\n",
       "16.0      4\n",
       "17.0      2\n",
       "Name: AgeDiff, dtype: int64"
      ]
     },
     "execution_count": 82,
     "metadata": {},
     "output_type": "execute_result"
    }
   ],
   "source": [
    "delta_age_overall = np.abs(wins.AgeDiff).value_counts().sort_index()\n",
    "delta_age_overall"
   ]
  },
  {
   "cell_type": "code",
   "execution_count": 83,
   "metadata": {
    "collapsed": false
   },
   "outputs": [
    {
     "data": {
      "text/plain": [
       "0.0     271\n",
       "1.0     257\n",
       "2.0     289\n",
       "3.0     287\n",
       "4.0     221\n",
       "5.0     185\n",
       "6.0     154\n",
       "7.0     119\n",
       "8.0      96\n",
       "9.0      77\n",
       "10.0     51\n",
       "11.0     29\n",
       "12.0     27\n",
       "13.0     12\n",
       "14.0     11\n",
       "15.0      7\n",
       "16.0      3\n",
       "17.0      2\n",
       "Name: AgeDiff, dtype: int64"
      ]
     },
     "execution_count": 83,
     "metadata": {},
     "output_type": "execute_result"
    }
   ],
   "source": [
    "younger_diff = delta_age.loc[0:17]\n",
    "younger_diff"
   ]
  },
  {
   "cell_type": "code",
   "execution_count": 84,
   "metadata": {
    "collapsed": false
   },
   "outputs": [
    {
     "data": {
      "text/html": [
       "<div>\n",
       "<table border=\"1\" class=\"dataframe\">\n",
       "  <thead>\n",
       "    <tr style=\"text-align: right;\">\n",
       "      <th></th>\n",
       "      <th>younger_wins</th>\n",
       "      <th>total</th>\n",
       "      <th>WinRatio</th>\n",
       "      <th>younger_losses</th>\n",
       "      <th>2se</th>\n",
       "    </tr>\n",
       "  </thead>\n",
       "  <tbody>\n",
       "    <tr>\n",
       "      <th>1.0</th>\n",
       "      <td>257</td>\n",
       "      <td>544</td>\n",
       "      <td>0.472426</td>\n",
       "      <td>287</td>\n",
       "      <td>0.042046</td>\n",
       "    </tr>\n",
       "    <tr>\n",
       "      <th>2.0</th>\n",
       "      <td>289</td>\n",
       "      <td>535</td>\n",
       "      <td>0.540187</td>\n",
       "      <td>246</td>\n",
       "      <td>0.042327</td>\n",
       "    </tr>\n",
       "    <tr>\n",
       "      <th>3.0</th>\n",
       "      <td>287</td>\n",
       "      <td>494</td>\n",
       "      <td>0.580972</td>\n",
       "      <td>207</td>\n",
       "      <td>0.043617</td>\n",
       "    </tr>\n",
       "    <tr>\n",
       "      <th>4.0</th>\n",
       "      <td>221</td>\n",
       "      <td>390</td>\n",
       "      <td>0.566667</td>\n",
       "      <td>169</td>\n",
       "      <td>0.049334</td>\n",
       "    </tr>\n",
       "    <tr>\n",
       "      <th>5.0</th>\n",
       "      <td>185</td>\n",
       "      <td>324</td>\n",
       "      <td>0.570988</td>\n",
       "      <td>139</td>\n",
       "      <td>0.054095</td>\n",
       "    </tr>\n",
       "    <tr>\n",
       "      <th>6.0</th>\n",
       "      <td>154</td>\n",
       "      <td>259</td>\n",
       "      <td>0.594595</td>\n",
       "      <td>105</td>\n",
       "      <td>0.060075</td>\n",
       "    </tr>\n",
       "    <tr>\n",
       "      <th>7.0</th>\n",
       "      <td>119</td>\n",
       "      <td>216</td>\n",
       "      <td>0.550926</td>\n",
       "      <td>97</td>\n",
       "      <td>0.066708</td>\n",
       "    </tr>\n",
       "    <tr>\n",
       "      <th>8.0</th>\n",
       "      <td>96</td>\n",
       "      <td>165</td>\n",
       "      <td>0.581818</td>\n",
       "      <td>69</td>\n",
       "      <td>0.075823</td>\n",
       "    </tr>\n",
       "    <tr>\n",
       "      <th>9.0</th>\n",
       "      <td>77</td>\n",
       "      <td>114</td>\n",
       "      <td>0.675439</td>\n",
       "      <td>37</td>\n",
       "      <td>0.086879</td>\n",
       "    </tr>\n",
       "    <tr>\n",
       "      <th>10.0</th>\n",
       "      <td>51</td>\n",
       "      <td>79</td>\n",
       "      <td>0.645570</td>\n",
       "      <td>28</td>\n",
       "      <td>0.107142</td>\n",
       "    </tr>\n",
       "    <tr>\n",
       "      <th>11.0</th>\n",
       "      <td>29</td>\n",
       "      <td>46</td>\n",
       "      <td>0.630435</td>\n",
       "      <td>17</td>\n",
       "      <td>0.143340</td>\n",
       "    </tr>\n",
       "    <tr>\n",
       "      <th>12.0</th>\n",
       "      <td>27</td>\n",
       "      <td>42</td>\n",
       "      <td>0.642857</td>\n",
       "      <td>15</td>\n",
       "      <td>0.149316</td>\n",
       "    </tr>\n",
       "  </tbody>\n",
       "</table>\n",
       "</div>"
      ],
      "text/plain": [
       "      younger_wins  total  WinRatio  younger_losses       2se\n",
       "1.0            257    544  0.472426             287  0.042046\n",
       "2.0            289    535  0.540187             246  0.042327\n",
       "3.0            287    494  0.580972             207  0.043617\n",
       "4.0            221    390  0.566667             169  0.049334\n",
       "5.0            185    324  0.570988             139  0.054095\n",
       "6.0            154    259  0.594595             105  0.060075\n",
       "7.0            119    216  0.550926              97  0.066708\n",
       "8.0             96    165  0.581818              69  0.075823\n",
       "9.0             77    114  0.675439              37  0.086879\n",
       "10.0            51     79  0.645570              28  0.107142\n",
       "11.0            29     46  0.630435              17  0.143340\n",
       "12.0            27     42  0.642857              15  0.149316"
      ]
     },
     "execution_count": 84,
     "metadata": {},
     "output_type": "execute_result"
    }
   ],
   "source": [
    "cnt = pd.concat([younger_diff, delta_age_overall, younger_diff / delta_age_overall], axis=1).sort_index()\n",
    "cnt = cnt.loc[1:12]\n",
    "cnt.columns = ['younger_wins', 'total', 'WinRatio']\n",
    "cnt['younger_losses'] = cnt.total - cnt.younger_wins\n",
    "cnt['2se'] = -t.ppf(0.025, cnt.total - 1) * (cnt.WinRatio * (1.0 - cnt.WinRatio) / cnt.total)**0.5\n",
    "cnt"
   ]
  },
  {
   "cell_type": "code",
   "execution_count": 85,
   "metadata": {
    "collapsed": false
   },
   "outputs": [
    {
     "data": {
      "image/png": "[encoded data removed]",
      "text/plain": [
       "<matplotlib.figure.Figure at 0x113640b90>"
      ]
     },
     "metadata": {},
     "output_type": "display_data"
    }
   ],
   "source": [
    "xmin = 0\n",
    "xmax = 13\n",
    "\n",
    "m, b = np.polyfit(cnt.index, 100 * cnt.WinRatio, 1)\n",
    "fig, ax = plt.subplots()\n",
    "plt.plot([xmin, xmax], [50, 50], 'k:')\n",
    "plt.plot(np.linspace(xmin, xmax), m * np.linspace(xmin, xmax) + b, 'k-')\n",
    "plt.errorbar(cnt.index, 100 * cnt.WinRatio.values, fmt='o', color='k', marker='o', mfc='w', yerr=100*cnt['2se'], ecolor='gray', elinewidth=0.5, capsize=2)\n",
    "plt.plot(cnt.index, 100 * cnt.WinRatio, 'wo')\n",
    "plt.xlim(xmin, xmax)\n",
    "plt.xlim(0, 13)\n",
    "plt.ylim(0, 100)\n",
    "plt.xticks(range(1, 13))\n",
    "plt.xlabel('Age Difference (years)')\n",
    "plt.ylabel('Win Percentage of Younger Fighter')\n",
    "plt.savefig('report/age/win_percent_of_younger.pdf', bbox_inches='tight')"
   ]
  },
  {
   "cell_type": "markdown",
   "metadata": {},
   "source": [
    "Let's check the test case of 4:"
   ]
  },
  {
   "cell_type": "code",
   "execution_count": 86,
   "metadata": {
    "collapsed": false
   },
   "outputs": [
    {
     "data": {
      "text/plain": [
       "221"
      ]
     },
     "execution_count": 86,
     "metadata": {},
     "output_type": "execute_result"
    }
   ],
   "source": [
    "wins[wins.AgeDiff == 4][['Winner', 'Loser', 'Age', 'Age_L', 'AgeDiff']].shape[0]"
   ]
  },
  {
   "cell_type": "code",
   "execution_count": 87,
   "metadata": {
    "collapsed": false
   },
   "outputs": [
    {
     "data": {
      "text/plain": [
       "169"
      ]
     },
     "execution_count": 87,
     "metadata": {},
     "output_type": "execute_result"
    }
   ],
   "source": [
    "wins[wins.AgeDiff == -4][['Winner', 'Loser', 'Age', 'Age_L', 'AgeDiff']].shape[0]"
   ]
  },
  {
   "cell_type": "code",
   "execution_count": 88,
   "metadata": {
    "collapsed": false
   },
   "outputs": [
    {
     "data": {
      "text/plain": [
       "0.5666666666666667"
      ]
     },
     "execution_count": 88,
     "metadata": {},
     "output_type": "execute_result"
    }
   ],
   "source": [
    "221 / (221 + 169.0)"
   ]
  },
  {
   "cell_type": "markdown",
   "metadata": {},
   "source": [
    "This is the correct answer."
   ]
  },
  {
   "cell_type": "code",
   "execution_count": 89,
   "metadata": {
    "collapsed": false
   },
   "outputs": [
    {
     "name": "stdout",
     "output_type": "stream",
     "text": [
      "-0.848240069444 1.19063893348e-06\n",
      "-0.8437804927 1.53926445477e-06\n"
     ]
    }
   ],
   "source": [
    "corr_pearson, p_value_pearson = pearsonr(x, y)\n",
    "corr_spearman, p_value_spearman = spearmanr(x, y)\n",
    "print corr_pearson, p_value_pearson\n",
    "print corr_spearman, p_value_spearman"
   ]
  },
  {
   "cell_type": "markdown",
   "metadata": {},
   "source": [
    "When the age difference is 1, we see the null hypothesis of independence holds:"
   ]
  },
  {
   "cell_type": "code",
   "execution_count": 90,
   "metadata": {
    "collapsed": false
   },
   "outputs": [
    {
     "data": {
      "text/plain": [
       "0.10684763884684148"
      ]
     },
     "execution_count": 90,
     "metadata": {},
     "output_type": "execute_result"
    }
   ],
   "source": [
    "binom.cdf(p=0.5, k=257, n=257+287)"
   ]
  },
  {
   "cell_type": "markdown",
   "metadata": {},
   "source": [
    "The table below shows that number of wins by the older and younger fighter for the given age difference:"
   ]
  },
  {
   "cell_type": "code",
   "execution_count": 91,
   "metadata": {
    "collapsed": false
   },
   "outputs": [
    {
     "data": {
      "text/html": [
       "<div>\n",
       "<table border=\"1\" class=\"dataframe\">\n",
       "  <thead>\n",
       "    <tr style=\"text-align: right;\">\n",
       "      <th></th>\n",
       "      <th>younger_wins</th>\n",
       "      <th>younger_losses</th>\n",
       "    </tr>\n",
       "  </thead>\n",
       "  <tbody>\n",
       "    <tr>\n",
       "      <th>1.0</th>\n",
       "      <td>257</td>\n",
       "      <td>287</td>\n",
       "    </tr>\n",
       "    <tr>\n",
       "      <th>2.0</th>\n",
       "      <td>289</td>\n",
       "      <td>246</td>\n",
       "    </tr>\n",
       "    <tr>\n",
       "      <th>3.0</th>\n",
       "      <td>287</td>\n",
       "      <td>207</td>\n",
       "    </tr>\n",
       "    <tr>\n",
       "      <th>4.0</th>\n",
       "      <td>221</td>\n",
       "      <td>169</td>\n",
       "    </tr>\n",
       "    <tr>\n",
       "      <th>5.0</th>\n",
       "      <td>185</td>\n",
       "      <td>139</td>\n",
       "    </tr>\n",
       "    <tr>\n",
       "      <th>6.0</th>\n",
       "      <td>154</td>\n",
       "      <td>105</td>\n",
       "    </tr>\n",
       "    <tr>\n",
       "      <th>7.0</th>\n",
       "      <td>119</td>\n",
       "      <td>97</td>\n",
       "    </tr>\n",
       "    <tr>\n",
       "      <th>8.0</th>\n",
       "      <td>96</td>\n",
       "      <td>69</td>\n",
       "    </tr>\n",
       "    <tr>\n",
       "      <th>9.0</th>\n",
       "      <td>77</td>\n",
       "      <td>37</td>\n",
       "    </tr>\n",
       "    <tr>\n",
       "      <th>10.0</th>\n",
       "      <td>51</td>\n",
       "      <td>28</td>\n",
       "    </tr>\n",
       "    <tr>\n",
       "      <th>11.0</th>\n",
       "      <td>29</td>\n",
       "      <td>17</td>\n",
       "    </tr>\n",
       "    <tr>\n",
       "      <th>12.0</th>\n",
       "      <td>27</td>\n",
       "      <td>15</td>\n",
       "    </tr>\n",
       "  </tbody>\n",
       "</table>\n",
       "</div>"
      ],
      "text/plain": [
       "      younger_wins  younger_losses\n",
       "1.0            257             287\n",
       "2.0            289             246\n",
       "3.0            287             207\n",
       "4.0            221             169\n",
       "5.0            185             139\n",
       "6.0            154             105\n",
       "7.0            119              97\n",
       "8.0             96              69\n",
       "9.0             77              37\n",
       "10.0            51              28\n",
       "11.0            29              17\n",
       "12.0            27              15"
      ]
     },
     "execution_count": 91,
     "metadata": {},
     "output_type": "execute_result"
    }
   ],
   "source": [
    "cont_table = cnt[['younger_wins', 'younger_losses']].copy()\n",
    "cont_table"
   ]
  },
  {
   "cell_type": "code",
   "execution_count": 92,
   "metadata": {
    "collapsed": false
   },
   "outputs": [
    {
     "name": "stdout",
     "output_type": "stream",
     "text": [
      "31.1071472157 0.00105919907045 False\n"
     ]
    }
   ],
   "source": [
    "chi_sq, p_value, dof, expect = chi2_contingency(cont_table)\n",
    "print chi_sq, p_value, p_value > 0.05"
   ]
  },
  {
   "cell_type": "code",
   "execution_count": 93,
   "metadata": {
    "collapsed": false
   },
   "outputs": [
    {
     "data": {
      "text/plain": [
       "0.098472034866700003"
      ]
     },
     "execution_count": 93,
     "metadata": {},
     "output_type": "execute_result"
    }
   ],
   "source": [
    "N = cont_table.sum().sum()\n",
    "V = (chi_sq / (N * min(2 - 1, 14 - 1)))**0.5\n",
    "V"
   ]
  },
  {
   "cell_type": "code",
   "execution_count": 94,
   "metadata": {
    "collapsed": true
   },
   "outputs": [],
   "source": [
    "def two_sided_binom(x):\n",
    "     wins = float(x[0])\n",
    "     total = x[0] + x[1]\n",
    "     if wins / total == 0.5:\n",
    "          return 1.0\n",
    "     elif wins / total < 0.5:\n",
    "          return 2 * binom.cdf(p=0.5, k=wins, n=total)\n",
    "     else:\n",
    "          return 2 * (1.0 - binom.cdf(p=0.5, k=wins-1, n=total))"
   ]
  },
  {
   "cell_type": "code",
   "execution_count": 95,
   "metadata": {
    "collapsed": false
   },
   "outputs": [
    {
     "data": {
      "text/html": [
       "<div>\n",
       "<table border=\"1\" class=\"dataframe\">\n",
       "  <thead>\n",
       "    <tr style=\"text-align: right;\">\n",
       "      <th></th>\n",
       "      <th>younger_wins</th>\n",
       "      <th>younger_losses</th>\n",
       "      <th>p_value</th>\n",
       "    </tr>\n",
       "  </thead>\n",
       "  <tbody>\n",
       "    <tr>\n",
       "      <th>1.0</th>\n",
       "      <td>257.0</td>\n",
       "      <td>287.0</td>\n",
       "      <td>0.21</td>\n",
       "    </tr>\n",
       "    <tr>\n",
       "      <th>2.0</th>\n",
       "      <td>289.0</td>\n",
       "      <td>246.0</td>\n",
       "      <td>0.07</td>\n",
       "    </tr>\n",
       "    <tr>\n",
       "      <th>3.0</th>\n",
       "      <td>287.0</td>\n",
       "      <td>207.0</td>\n",
       "      <td>0.00</td>\n",
       "    </tr>\n",
       "    <tr>\n",
       "      <th>4.0</th>\n",
       "      <td>221.0</td>\n",
       "      <td>169.0</td>\n",
       "      <td>0.01</td>\n",
       "    </tr>\n",
       "    <tr>\n",
       "      <th>5.0</th>\n",
       "      <td>185.0</td>\n",
       "      <td>139.0</td>\n",
       "      <td>0.01</td>\n",
       "    </tr>\n",
       "    <tr>\n",
       "      <th>6.0</th>\n",
       "      <td>154.0</td>\n",
       "      <td>105.0</td>\n",
       "      <td>0.00</td>\n",
       "    </tr>\n",
       "    <tr>\n",
       "      <th>7.0</th>\n",
       "      <td>119.0</td>\n",
       "      <td>97.0</td>\n",
       "      <td>0.15</td>\n",
       "    </tr>\n",
       "    <tr>\n",
       "      <th>8.0</th>\n",
       "      <td>96.0</td>\n",
       "      <td>69.0</td>\n",
       "      <td>0.04</td>\n",
       "    </tr>\n",
       "    <tr>\n",
       "      <th>9.0</th>\n",
       "      <td>77.0</td>\n",
       "      <td>37.0</td>\n",
       "      <td>0.00</td>\n",
       "    </tr>\n",
       "    <tr>\n",
       "      <th>10.0</th>\n",
       "      <td>51.0</td>\n",
       "      <td>28.0</td>\n",
       "      <td>0.01</td>\n",
       "    </tr>\n",
       "    <tr>\n",
       "      <th>11.0</th>\n",
       "      <td>29.0</td>\n",
       "      <td>17.0</td>\n",
       "      <td>0.10</td>\n",
       "    </tr>\n",
       "    <tr>\n",
       "      <th>12.0</th>\n",
       "      <td>27.0</td>\n",
       "      <td>15.0</td>\n",
       "      <td>0.09</td>\n",
       "    </tr>\n",
       "  </tbody>\n",
       "</table>\n",
       "</div>"
      ],
      "text/plain": [
       "      younger_wins  younger_losses  p_value\n",
       "1.0          257.0           287.0     0.21\n",
       "2.0          289.0           246.0     0.07\n",
       "3.0          287.0           207.0     0.00\n",
       "4.0          221.0           169.0     0.01\n",
       "5.0          185.0           139.0     0.01\n",
       "6.0          154.0           105.0     0.00\n",
       "7.0          119.0            97.0     0.15\n",
       "8.0           96.0            69.0     0.04\n",
       "9.0           77.0            37.0     0.00\n",
       "10.0          51.0            28.0     0.01\n",
       "11.0          29.0            17.0     0.10\n",
       "12.0          27.0            15.0     0.09"
      ]
     },
     "execution_count": 95,
     "metadata": {},
     "output_type": "execute_result"
    }
   ],
   "source": [
    "cont_table['p_value'] = cont_table.apply(two_sided_binom, axis=1)\n",
    "cont_table.applymap(lambda x: round(x, 2))"
   ]
  },
  {
   "cell_type": "markdown",
   "metadata": {},
   "source": [
    "# Youngest and oldest fighters"
   ]
  },
  {
   "cell_type": "code",
   "execution_count": 96,
   "metadata": {
    "collapsed": false
   },
   "outputs": [
    {
     "data": {
      "text/html": [
       "<div>\n",
       "<table border=\"1\" class=\"dataframe\">\n",
       "  <thead>\n",
       "    <tr style=\"text-align: right;\">\n",
       "      <th></th>\n",
       "      <th>Winner</th>\n",
       "      <th>Outcome</th>\n",
       "      <th>Loser</th>\n",
       "      <th>WeightClass</th>\n",
       "      <th>Method</th>\n",
       "      <th>MethodNotes</th>\n",
       "      <th>Round</th>\n",
       "      <th>Time</th>\n",
       "      <th>Event</th>\n",
       "      <th>Date</th>\n",
       "      <th>Location</th>\n",
       "    </tr>\n",
       "  </thead>\n",
       "  <tbody>\n",
       "    <tr>\n",
       "      <th>527</th>\n",
       "      <td>Robbie Lawler</td>\n",
       "      <td>def.</td>\n",
       "      <td>Carlos Condit</td>\n",
       "      <td>Welterweight</td>\n",
       "      <td>S-DEC</td>\n",
       "      <td>NaN</td>\n",
       "      <td>5</td>\n",
       "      <td>5:00</td>\n",
       "      <td>UFC 195: Lawler vs Condit</td>\n",
       "      <td>2016-01-02</td>\n",
       "      <td>Las Vegas, Nevada, USA</td>\n",
       "    </tr>\n",
       "    <tr>\n",
       "      <th>765</th>\n",
       "      <td>Robbie Lawler</td>\n",
       "      <td>def.</td>\n",
       "      <td>Rory MacDonald</td>\n",
       "      <td>Welterweight</td>\n",
       "      <td>KO/TKO</td>\n",
       "      <td>Punch</td>\n",
       "      <td>5</td>\n",
       "      <td>1:00</td>\n",
       "      <td>UFC 189: Mendes vs McGregor</td>\n",
       "      <td>2015-07-11</td>\n",
       "      <td>Las Vegas, Nevada, USA</td>\n",
       "    </tr>\n",
       "    <tr>\n",
       "      <th>1047</th>\n",
       "      <td>Robbie Lawler</td>\n",
       "      <td>def.</td>\n",
       "      <td>Johny Hendricks</td>\n",
       "      <td>Welterweight</td>\n",
       "      <td>S-DEC</td>\n",
       "      <td>NaN</td>\n",
       "      <td>5</td>\n",
       "      <td>5:00</td>\n",
       "      <td>UFC 181: Hendricks vs Lawler II</td>\n",
       "      <td>2014-12-06</td>\n",
       "      <td>Las Vegas, Nevada, USA</td>\n",
       "    </tr>\n",
       "    <tr>\n",
       "      <th>1218</th>\n",
       "      <td>Robbie Lawler</td>\n",
       "      <td>def.</td>\n",
       "      <td>Matt Brown</td>\n",
       "      <td>Welterweight</td>\n",
       "      <td>U-DEC</td>\n",
       "      <td>NaN</td>\n",
       "      <td>5</td>\n",
       "      <td>5:00</td>\n",
       "      <td>UFC on Fox: Lawler vs Brown</td>\n",
       "      <td>2014-07-26</td>\n",
       "      <td>San Jose, California, USA</td>\n",
       "    </tr>\n",
       "    <tr>\n",
       "      <th>1339</th>\n",
       "      <td>Robbie Lawler</td>\n",
       "      <td>def.</td>\n",
       "      <td>Jake Ellenberger</td>\n",
       "      <td>Welterweight</td>\n",
       "      <td>KO/TKO</td>\n",
       "      <td>Knee</td>\n",
       "      <td>3</td>\n",
       "      <td>3:06</td>\n",
       "      <td>UFC 173: Barao vs Dillashaw</td>\n",
       "      <td>2014-05-24</td>\n",
       "      <td>Las Vegas, Nevada, USA</td>\n",
       "    </tr>\n",
       "    <tr>\n",
       "      <th>1560</th>\n",
       "      <td>Robbie Lawler</td>\n",
       "      <td>def.</td>\n",
       "      <td>Rory MacDonald</td>\n",
       "      <td>Welterweight</td>\n",
       "      <td>S-DEC</td>\n",
       "      <td>NaN</td>\n",
       "      <td>3</td>\n",
       "      <td>5:00</td>\n",
       "      <td>UFC 167: St-Pierre vs Hendricks</td>\n",
       "      <td>2013-11-16</td>\n",
       "      <td>Las Vegas, Nevada, USA</td>\n",
       "    </tr>\n",
       "    <tr>\n",
       "      <th>1704</th>\n",
       "      <td>Robbie Lawler</td>\n",
       "      <td>def.</td>\n",
       "      <td>Bobby Voelker</td>\n",
       "      <td>Welterweight</td>\n",
       "      <td>KO/TKO</td>\n",
       "      <td>Kick</td>\n",
       "      <td>2</td>\n",
       "      <td>0:24</td>\n",
       "      <td>UFC on Fox: Johnson vs Moraga</td>\n",
       "      <td>2013-07-27</td>\n",
       "      <td>Seattle, Washington, USA</td>\n",
       "    </tr>\n",
       "    <tr>\n",
       "      <th>1848</th>\n",
       "      <td>Robbie Lawler</td>\n",
       "      <td>def.</td>\n",
       "      <td>Josh Koscheck</td>\n",
       "      <td>Welterweight</td>\n",
       "      <td>KO/TKO</td>\n",
       "      <td>Punches</td>\n",
       "      <td>1</td>\n",
       "      <td>3:57</td>\n",
       "      <td>UFC 157: Rousey vs Carmouche</td>\n",
       "      <td>2013-02-23</td>\n",
       "      <td>Anaheim, California, USA</td>\n",
       "    </tr>\n",
       "    <tr>\n",
       "      <th>3663</th>\n",
       "      <td>Robbie Lawler</td>\n",
       "      <td>def.</td>\n",
       "      <td>Chris Lytle</td>\n",
       "      <td>Welterweight</td>\n",
       "      <td>U-DEC</td>\n",
       "      <td>NaN</td>\n",
       "      <td>3</td>\n",
       "      <td>5:00</td>\n",
       "      <td>UFC 45: Revolution</td>\n",
       "      <td>2003-11-21</td>\n",
       "      <td>Uncasville, Connecticut, USA</td>\n",
       "    </tr>\n",
       "    <tr>\n",
       "      <th>3704</th>\n",
       "      <td>Robbie Lawler</td>\n",
       "      <td>def.</td>\n",
       "      <td>Tiki Ghosn</td>\n",
       "      <td>Welterweight</td>\n",
       "      <td>KO/TKO</td>\n",
       "      <td>Punch</td>\n",
       "      <td>1</td>\n",
       "      <td>1:29</td>\n",
       "      <td>UFC 40: Vendetta</td>\n",
       "      <td>2002-11-22</td>\n",
       "      <td>Las Vegas, Nevada, USA</td>\n",
       "    </tr>\n",
       "    <tr>\n",
       "      <th>3726</th>\n",
       "      <td>Robbie Lawler</td>\n",
       "      <td>def.</td>\n",
       "      <td>Steve Berger</td>\n",
       "      <td>Welterweight</td>\n",
       "      <td>KO/TKO</td>\n",
       "      <td>Punch</td>\n",
       "      <td>2</td>\n",
       "      <td>0:27</td>\n",
       "      <td>UFC 37.5: As Real As It Gets</td>\n",
       "      <td>2002-06-22</td>\n",
       "      <td>Las Vegas, Nevada, USA</td>\n",
       "    </tr>\n",
       "    <tr>\n",
       "      <th>3736</th>\n",
       "      <td>Robbie Lawler</td>\n",
       "      <td>def.</td>\n",
       "      <td>Aaron Riley</td>\n",
       "      <td>Welterweight</td>\n",
       "      <td>U-DEC</td>\n",
       "      <td>NaN</td>\n",
       "      <td>3</td>\n",
       "      <td>5:00</td>\n",
       "      <td>UFC 37: High Impact</td>\n",
       "      <td>2002-05-10</td>\n",
       "      <td>Bossier City, Louisiana, USA</td>\n",
       "    </tr>\n",
       "  </tbody>\n",
       "</table>\n",
       "</div>"
      ],
      "text/plain": [
       "             Winner Outcome             Loser   WeightClass  Method  \\\n",
       "527   Robbie Lawler    def.     Carlos Condit  Welterweight   S-DEC   \n",
       "765   Robbie Lawler    def.    Rory MacDonald  Welterweight  KO/TKO   \n",
       "1047  Robbie Lawler    def.   Johny Hendricks  Welterweight   S-DEC   \n",
       "1218  Robbie Lawler    def.        Matt Brown  Welterweight   U-DEC   \n",
       "1339  Robbie Lawler    def.  Jake Ellenberger  Welterweight  KO/TKO   \n",
       "1560  Robbie Lawler    def.    Rory MacDonald  Welterweight   S-DEC   \n",
       "1704  Robbie Lawler    def.     Bobby Voelker  Welterweight  KO/TKO   \n",
       "1848  Robbie Lawler    def.     Josh Koscheck  Welterweight  KO/TKO   \n",
       "3663  Robbie Lawler    def.       Chris Lytle  Welterweight   U-DEC   \n",
       "3704  Robbie Lawler    def.        Tiki Ghosn  Welterweight  KO/TKO   \n",
       "3726  Robbie Lawler    def.      Steve Berger  Welterweight  KO/TKO   \n",
       "3736  Robbie Lawler    def.       Aaron Riley  Welterweight   U-DEC   \n",
       "\n",
       "     MethodNotes  Round  Time                            Event       Date  \\\n",
       "527          NaN      5  5:00        UFC 195: Lawler vs Condit 2016-01-02   \n",
       "765        Punch      5  1:00      UFC 189: Mendes vs McGregor 2015-07-11   \n",
       "1047         NaN      5  5:00  UFC 181: Hendricks vs Lawler II 2014-12-06   \n",
       "1218         NaN      5  5:00      UFC on Fox: Lawler vs Brown 2014-07-26   \n",
       "1339        Knee      3  3:06      UFC 173: Barao vs Dillashaw 2014-05-24   \n",
       "1560         NaN      3  5:00  UFC 167: St-Pierre vs Hendricks 2013-11-16   \n",
       "1704        Kick      2  0:24    UFC on Fox: Johnson vs Moraga 2013-07-27   \n",
       "1848     Punches      1  3:57     UFC 157: Rousey vs Carmouche 2013-02-23   \n",
       "3663         NaN      3  5:00               UFC 45: Revolution 2003-11-21   \n",
       "3704       Punch      1  1:29                 UFC 40: Vendetta 2002-11-22   \n",
       "3726       Punch      2  0:27     UFC 37.5: As Real As It Gets 2002-06-22   \n",
       "3736         NaN      3  5:00              UFC 37: High Impact 2002-05-10   \n",
       "\n",
       "                          Location  \n",
       "527         Las Vegas, Nevada, USA  \n",
       "765         Las Vegas, Nevada, USA  \n",
       "1047        Las Vegas, Nevada, USA  \n",
       "1218     San Jose, California, USA  \n",
       "1339        Las Vegas, Nevada, USA  \n",
       "1560        Las Vegas, Nevada, USA  \n",
       "1704      Seattle, Washington, USA  \n",
       "1848      Anaheim, California, USA  \n",
       "3663  Uncasville, Connecticut, USA  \n",
       "3704        Las Vegas, Nevada, USA  \n",
       "3726        Las Vegas, Nevada, USA  \n",
       "3736  Bossier City, Louisiana, USA  "
      ]
     },
     "execution_count": 96,
     "metadata": {},
     "output_type": "execute_result"
    }
   ],
   "source": [
    "fights[fights.Winner == 'Robbie Lawler']"
   ]
  },
  {
   "cell_type": "code",
   "execution_count": 97,
   "metadata": {
    "collapsed": false
   },
   "outputs": [
    {
     "data": {
      "text/html": [
       "<div>\n",
       "<table border=\"1\" class=\"dataframe\">\n",
       "  <thead>\n",
       "    <tr style=\"text-align: right;\">\n",
       "      <th></th>\n",
       "      <th>index</th>\n",
       "      <th>Age</th>\n",
       "    </tr>\n",
       "  </thead>\n",
       "  <tbody>\n",
       "    <tr>\n",
       "      <th>0</th>\n",
       "      <td>Sean Daugherty</td>\n",
       "      <td>18.3</td>\n",
       "    </tr>\n",
       "    <tr>\n",
       "      <th>1</th>\n",
       "      <td>Dan Lauzon</td>\n",
       "      <td>18.5</td>\n",
       "    </tr>\n",
       "    <tr>\n",
       "      <th>2</th>\n",
       "      <td>Sage Northcutt</td>\n",
       "      <td>19.6</td>\n",
       "    </tr>\n",
       "    <tr>\n",
       "      <th>3</th>\n",
       "      <td>Vitor Belfort</td>\n",
       "      <td>19.9</td>\n",
       "    </tr>\n",
       "    <tr>\n",
       "      <th>4</th>\n",
       "      <td>Jake Matthews</td>\n",
       "      <td>19.9</td>\n",
       "    </tr>\n",
       "    <tr>\n",
       "      <th>5</th>\n",
       "      <td>Larissa Pacheco</td>\n",
       "      <td>20.0</td>\n",
       "    </tr>\n",
       "    <tr>\n",
       "      <th>6</th>\n",
       "      <td>Robbie Lawler</td>\n",
       "      <td>20.1</td>\n",
       "    </tr>\n",
       "    <tr>\n",
       "      <th>7</th>\n",
       "      <td>Nick Diaz</td>\n",
       "      <td>20.2</td>\n",
       "    </tr>\n",
       "    <tr>\n",
       "      <th>8</th>\n",
       "      <td>Max Holloway</td>\n",
       "      <td>20.2</td>\n",
       "    </tr>\n",
       "    <tr>\n",
       "      <th>9</th>\n",
       "      <td>Michael McDonald</td>\n",
       "      <td>20.2</td>\n",
       "    </tr>\n",
       "    <tr>\n",
       "      <th>10</th>\n",
       "      <td>Sergio Pettis</td>\n",
       "      <td>20.2</td>\n",
       "    </tr>\n",
       "    <tr>\n",
       "      <th>11</th>\n",
       "      <td>Dustin Hazelett</td>\n",
       "      <td>20.4</td>\n",
       "    </tr>\n",
       "    <tr>\n",
       "      <th>12</th>\n",
       "      <td>Rory MacDonald</td>\n",
       "      <td>20.5</td>\n",
       "    </tr>\n",
       "    <tr>\n",
       "      <th>13</th>\n",
       "      <td>Claudio Puelles</td>\n",
       "      <td>20.5</td>\n",
       "    </tr>\n",
       "    <tr>\n",
       "      <th>14</th>\n",
       "      <td>Tamdan McCrory</td>\n",
       "      <td>20.6</td>\n",
       "    </tr>\n",
       "    <tr>\n",
       "      <th>15</th>\n",
       "      <td>Paige VanZant</td>\n",
       "      <td>20.7</td>\n",
       "    </tr>\n",
       "    <tr>\n",
       "      <th>16</th>\n",
       "      <td>Ray Borg</td>\n",
       "      <td>20.7</td>\n",
       "    </tr>\n",
       "    <tr>\n",
       "      <th>17</th>\n",
       "      <td>Andy Anderson</td>\n",
       "      <td>20.7</td>\n",
       "    </tr>\n",
       "    <tr>\n",
       "      <th>18</th>\n",
       "      <td>Charles Oliveira</td>\n",
       "      <td>20.8</td>\n",
       "    </tr>\n",
       "    <tr>\n",
       "      <th>19</th>\n",
       "      <td>Veronica Macedo</td>\n",
       "      <td>20.8</td>\n",
       "    </tr>\n",
       "    <tr>\n",
       "      <th>20</th>\n",
       "      <td>John Alessio</td>\n",
       "      <td>20.9</td>\n",
       "    </tr>\n",
       "    <tr>\n",
       "      <th>21</th>\n",
       "      <td>Jeremy Stephens</td>\n",
       "      <td>21.0</td>\n",
       "    </tr>\n",
       "    <tr>\n",
       "      <th>22</th>\n",
       "      <td>Stefan Struve</td>\n",
       "      <td>21.0</td>\n",
       "    </tr>\n",
       "    <tr>\n",
       "      <th>23</th>\n",
       "      <td>Jeremy Jackson</td>\n",
       "      <td>21.0</td>\n",
       "    </tr>\n",
       "    <tr>\n",
       "      <th>24</th>\n",
       "      <td>Jon Jones</td>\n",
       "      <td>21.1</td>\n",
       "    </tr>\n",
       "    <tr>\n",
       "      <th>25</th>\n",
       "      <td>Karo Parisyan</td>\n",
       "      <td>21.1</td>\n",
       "    </tr>\n",
       "    <tr>\n",
       "      <th>26</th>\n",
       "      <td>Edwin DeWees</td>\n",
       "      <td>21.1</td>\n",
       "    </tr>\n",
       "    <tr>\n",
       "      <th>27</th>\n",
       "      <td>Daiju Takase</td>\n",
       "      <td>21.2</td>\n",
       "    </tr>\n",
       "    <tr>\n",
       "      <th>28</th>\n",
       "      <td>Terry Etim</td>\n",
       "      <td>21.3</td>\n",
       "    </tr>\n",
       "    <tr>\n",
       "      <th>29</th>\n",
       "      <td>Arnold Allen</td>\n",
       "      <td>21.4</td>\n",
       "    </tr>\n",
       "  </tbody>\n",
       "</table>\n",
       "</div>"
      ],
      "text/plain": [
       "               index   Age\n",
       "0     Sean Daugherty  18.3\n",
       "1         Dan Lauzon  18.5\n",
       "2     Sage Northcutt  19.6\n",
       "3      Vitor Belfort  19.9\n",
       "4      Jake Matthews  19.9\n",
       "5    Larissa Pacheco  20.0\n",
       "6      Robbie Lawler  20.1\n",
       "7          Nick Diaz  20.2\n",
       "8       Max Holloway  20.2\n",
       "9   Michael McDonald  20.2\n",
       "10     Sergio Pettis  20.2\n",
       "11   Dustin Hazelett  20.4\n",
       "12    Rory MacDonald  20.5\n",
       "13   Claudio Puelles  20.5\n",
       "14    Tamdan McCrory  20.6\n",
       "15     Paige VanZant  20.7\n",
       "16          Ray Borg  20.7\n",
       "17     Andy Anderson  20.7\n",
       "18  Charles Oliveira  20.8\n",
       "19   Veronica Macedo  20.8\n",
       "20      John Alessio  20.9\n",
       "21   Jeremy Stephens  21.0\n",
       "22     Stefan Struve  21.0\n",
       "23    Jeremy Jackson  21.0\n",
       "24         Jon Jones  21.1\n",
       "25     Karo Parisyan  21.1\n",
       "26      Edwin DeWees  21.1\n",
       "27      Daiju Takase  21.2\n",
       "28        Terry Etim  21.3\n",
       "29      Arnold Allen  21.4"
      ]
     },
     "execution_count": 97,
     "metadata": {},
     "output_type": "execute_result"
    }
   ],
   "source": [
    "all_wins = df[pd.notnull(df.Dob)].copy()\n",
    "all_wins['Age'] = (all_wins.Date - all_wins.Dob) / np.timedelta64(1, 'Y')\n",
    "\n",
    "all_loses = df[pd.notnull(df.Dob_L)].copy()\n",
    "all_loses['Age'] = (all_loses.Date - all_loses.Dob_L) / np.timedelta64(1, 'Y')\n",
    "\n",
    "youngest_winners = all_wins.groupby('Winner').agg({'Age':min})\n",
    "youngest_losers = all_loses.groupby('Loser').agg({'Age':min})\n",
    "youngest = youngest_winners.append(youngest_losers).reset_index()\n",
    "youngest = youngest.groupby('index').agg({'Age':min}).sort_values('Age').applymap(lambda x: round(x, 1)).reset_index()[:30]\n",
    "youngest"
   ]
  },
  {
   "cell_type": "code",
   "execution_count": 98,
   "metadata": {
    "collapsed": false
   },
   "outputs": [
    {
     "data": {
      "text/html": [
       "<div>\n",
       "<table border=\"1\" class=\"dataframe\">\n",
       "  <thead>\n",
       "    <tr style=\"text-align: right;\">\n",
       "      <th></th>\n",
       "      <th>index</th>\n",
       "      <th>Age</th>\n",
       "    </tr>\n",
       "  </thead>\n",
       "  <tbody>\n",
       "    <tr>\n",
       "      <th>0</th>\n",
       "      <td>Ron van Clief</td>\n",
       "      <td>51.9</td>\n",
       "    </tr>\n",
       "    <tr>\n",
       "      <th>1</th>\n",
       "      <td>Randy Couture</td>\n",
       "      <td>47.9</td>\n",
       "    </tr>\n",
       "    <tr>\n",
       "      <th>2</th>\n",
       "      <td>Dan Henderson</td>\n",
       "      <td>46.1</td>\n",
       "    </tr>\n",
       "    <tr>\n",
       "      <th>3</th>\n",
       "      <td>Mark Coleman</td>\n",
       "      <td>45.1</td>\n",
       "    </tr>\n",
       "    <tr>\n",
       "      <th>4</th>\n",
       "      <td>Anthony Perosh</td>\n",
       "      <td>43.1</td>\n",
       "    </tr>\n",
       "    <tr>\n",
       "      <th>5</th>\n",
       "      <td>Renzo Gracie</td>\n",
       "      <td>43.1</td>\n",
       "    </tr>\n",
       "    <tr>\n",
       "      <th>6</th>\n",
       "      <td>Ken Shamrock</td>\n",
       "      <td>42.7</td>\n",
       "    </tr>\n",
       "    <tr>\n",
       "      <th>7</th>\n",
       "      <td>Mark Hunt</td>\n",
       "      <td>42.3</td>\n",
       "    </tr>\n",
       "    <tr>\n",
       "      <th>8</th>\n",
       "      <td>Dan Severn</td>\n",
       "      <td>42.3</td>\n",
       "    </tr>\n",
       "    <tr>\n",
       "      <th>9</th>\n",
       "      <td>Cung Le</td>\n",
       "      <td>42.2</td>\n",
       "    </tr>\n",
       "    <tr>\n",
       "      <th>10</th>\n",
       "      <td>Vladimir Matyushenko</td>\n",
       "      <td>42.1</td>\n",
       "    </tr>\n",
       "    <tr>\n",
       "      <th>11</th>\n",
       "      <td>James Toney</td>\n",
       "      <td>42.0</td>\n",
       "    </tr>\n",
       "    <tr>\n",
       "      <th>12</th>\n",
       "      <td>Anderson Silva</td>\n",
       "      <td>41.8</td>\n",
       "    </tr>\n",
       "    <tr>\n",
       "      <th>13</th>\n",
       "      <td>Jason Reinhardt</td>\n",
       "      <td>41.8</td>\n",
       "    </tr>\n",
       "    <tr>\n",
       "      <th>14</th>\n",
       "      <td>Mike Pyle</td>\n",
       "      <td>41.3</td>\n",
       "    </tr>\n",
       "    <tr>\n",
       "      <th>15</th>\n",
       "      <td>Antonio McKee</td>\n",
       "      <td>40.8</td>\n",
       "    </tr>\n",
       "    <tr>\n",
       "      <th>16</th>\n",
       "      <td>Mike van Arsdale</td>\n",
       "      <td>40.6</td>\n",
       "    </tr>\n",
       "    <tr>\n",
       "      <th>17</th>\n",
       "      <td>Mirko Cro Cop</td>\n",
       "      <td>40.6</td>\n",
       "    </tr>\n",
       "    <tr>\n",
       "      <th>18</th>\n",
       "      <td>Tra Telligman</td>\n",
       "      <td>40.5</td>\n",
       "    </tr>\n",
       "    <tr>\n",
       "      <th>19</th>\n",
       "      <td>Chuck Liddell</td>\n",
       "      <td>40.5</td>\n",
       "    </tr>\n",
       "    <tr>\n",
       "      <th>20</th>\n",
       "      <td>Rogerio Nogueira</td>\n",
       "      <td>40.5</td>\n",
       "    </tr>\n",
       "    <tr>\n",
       "      <th>21</th>\n",
       "      <td>Cyrille Diabate</td>\n",
       "      <td>40.4</td>\n",
       "    </tr>\n",
       "    <tr>\n",
       "      <th>22</th>\n",
       "      <td>Yoshihiro Akiyama</td>\n",
       "      <td>40.3</td>\n",
       "    </tr>\n",
       "    <tr>\n",
       "      <th>23</th>\n",
       "      <td>Roy Nelson</td>\n",
       "      <td>40.3</td>\n",
       "    </tr>\n",
       "    <tr>\n",
       "      <th>24</th>\n",
       "      <td>Jorge Rivera</td>\n",
       "      <td>39.9</td>\n",
       "    </tr>\n",
       "    <tr>\n",
       "      <th>25</th>\n",
       "      <td>Kamal Shalorus</td>\n",
       "      <td>39.7</td>\n",
       "    </tr>\n",
       "    <tr>\n",
       "      <th>26</th>\n",
       "      <td>Jeff Cox</td>\n",
       "      <td>39.7</td>\n",
       "    </tr>\n",
       "    <tr>\n",
       "      <th>27</th>\n",
       "      <td>Aleksei Oleinik</td>\n",
       "      <td>39.6</td>\n",
       "    </tr>\n",
       "    <tr>\n",
       "      <th>28</th>\n",
       "      <td>Yoel Romero</td>\n",
       "      <td>39.5</td>\n",
       "    </tr>\n",
       "    <tr>\n",
       "      <th>29</th>\n",
       "      <td>Vitor Belfort</td>\n",
       "      <td>39.5</td>\n",
       "    </tr>\n",
       "  </tbody>\n",
       "</table>\n",
       "</div>"
      ],
      "text/plain": [
       "                   index   Age\n",
       "0          Ron van Clief  51.9\n",
       "1          Randy Couture  47.9\n",
       "2          Dan Henderson  46.1\n",
       "3           Mark Coleman  45.1\n",
       "4         Anthony Perosh  43.1\n",
       "5           Renzo Gracie  43.1\n",
       "6           Ken Shamrock  42.7\n",
       "7              Mark Hunt  42.3\n",
       "8             Dan Severn  42.3\n",
       "9                Cung Le  42.2\n",
       "10  Vladimir Matyushenko  42.1\n",
       "11           James Toney  42.0\n",
       "12        Anderson Silva  41.8\n",
       "13       Jason Reinhardt  41.8\n",
       "14             Mike Pyle  41.3\n",
       "15         Antonio McKee  40.8\n",
       "16      Mike van Arsdale  40.6\n",
       "17         Mirko Cro Cop  40.6\n",
       "18         Tra Telligman  40.5\n",
       "19         Chuck Liddell  40.5\n",
       "20      Rogerio Nogueira  40.5\n",
       "21       Cyrille Diabate  40.4\n",
       "22     Yoshihiro Akiyama  40.3\n",
       "23            Roy Nelson  40.3\n",
       "24          Jorge Rivera  39.9\n",
       "25        Kamal Shalorus  39.7\n",
       "26              Jeff Cox  39.7\n",
       "27       Aleksei Oleinik  39.6\n",
       "28           Yoel Romero  39.5\n",
       "29         Vitor Belfort  39.5"
      ]
     },
     "execution_count": 98,
     "metadata": {},
     "output_type": "execute_result"
    }
   ],
   "source": [
    "oldest_winners = all_wins.groupby('Winner').agg({'Age':max})\n",
    "oldest_losers = all_loses.groupby('Loser').agg({'Age':max})\n",
    "oldest = oldest_winners.append(oldest_losers).reset_index()\n",
    "oldest = oldest.groupby('index').agg({'Age':max}).sort_values('Age', ascending=False).applymap(lambda x: round(x, 1)).reset_index()[:30]\n",
    "oldest"
   ]
  },
  {
   "cell_type": "code",
   "execution_count": 99,
   "metadata": {
    "collapsed": false
   },
   "outputs": [
    {
     "data": {
      "text/html": [
       "<div>\n",
       "<table border=\"1\" class=\"dataframe\">\n",
       "  <thead>\n",
       "    <tr style=\"text-align: right;\">\n",
       "      <th></th>\n",
       "      <th>Youngest</th>\n",
       "      <th>Age</th>\n",
       "      <th>Oldest</th>\n",
       "      <th>Age</th>\n",
       "    </tr>\n",
       "  </thead>\n",
       "  <tbody>\n",
       "    <tr>\n",
       "      <th>1</th>\n",
       "      <td>Sean Daugherty</td>\n",
       "      <td>18.3</td>\n",
       "      <td>Ron van Clief</td>\n",
       "      <td>51.9</td>\n",
       "    </tr>\n",
       "    <tr>\n",
       "      <th>2</th>\n",
       "      <td>Dan Lauzon</td>\n",
       "      <td>18.5</td>\n",
       "      <td>Randy Couture</td>\n",
       "      <td>47.9</td>\n",
       "    </tr>\n",
       "    <tr>\n",
       "      <th>3</th>\n",
       "      <td>Sage Northcutt</td>\n",
       "      <td>19.6</td>\n",
       "      <td>Dan Henderson</td>\n",
       "      <td>46.1</td>\n",
       "    </tr>\n",
       "    <tr>\n",
       "      <th>4</th>\n",
       "      <td>Vitor Belfort</td>\n",
       "      <td>19.9</td>\n",
       "      <td>Mark Coleman</td>\n",
       "      <td>45.1</td>\n",
       "    </tr>\n",
       "    <tr>\n",
       "      <th>5</th>\n",
       "      <td>Jake Matthews</td>\n",
       "      <td>19.9</td>\n",
       "      <td>Anthony Perosh</td>\n",
       "      <td>43.1</td>\n",
       "    </tr>\n",
       "    <tr>\n",
       "      <th>6</th>\n",
       "      <td>Larissa Pacheco</td>\n",
       "      <td>20.0</td>\n",
       "      <td>Renzo Gracie</td>\n",
       "      <td>43.1</td>\n",
       "    </tr>\n",
       "    <tr>\n",
       "      <th>7</th>\n",
       "      <td>Robbie Lawler</td>\n",
       "      <td>20.1</td>\n",
       "      <td>Ken Shamrock</td>\n",
       "      <td>42.7</td>\n",
       "    </tr>\n",
       "    <tr>\n",
       "      <th>8</th>\n",
       "      <td>Nick Diaz</td>\n",
       "      <td>20.2</td>\n",
       "      <td>Mark Hunt</td>\n",
       "      <td>42.3</td>\n",
       "    </tr>\n",
       "    <tr>\n",
       "      <th>9</th>\n",
       "      <td>Max Holloway</td>\n",
       "      <td>20.2</td>\n",
       "      <td>Dan Severn</td>\n",
       "      <td>42.3</td>\n",
       "    </tr>\n",
       "    <tr>\n",
       "      <th>10</th>\n",
       "      <td>Michael McDonald</td>\n",
       "      <td>20.2</td>\n",
       "      <td>Cung Le</td>\n",
       "      <td>42.2</td>\n",
       "    </tr>\n",
       "    <tr>\n",
       "      <th>11</th>\n",
       "      <td>Sergio Pettis</td>\n",
       "      <td>20.2</td>\n",
       "      <td>Vladimir Matyushenko</td>\n",
       "      <td>42.1</td>\n",
       "    </tr>\n",
       "    <tr>\n",
       "      <th>12</th>\n",
       "      <td>Dustin Hazelett</td>\n",
       "      <td>20.4</td>\n",
       "      <td>James Toney</td>\n",
       "      <td>42.0</td>\n",
       "    </tr>\n",
       "    <tr>\n",
       "      <th>13</th>\n",
       "      <td>Rory MacDonald</td>\n",
       "      <td>20.5</td>\n",
       "      <td>Anderson Silva</td>\n",
       "      <td>41.8</td>\n",
       "    </tr>\n",
       "    <tr>\n",
       "      <th>14</th>\n",
       "      <td>Claudio Puelles</td>\n",
       "      <td>20.5</td>\n",
       "      <td>Jason Reinhardt</td>\n",
       "      <td>41.8</td>\n",
       "    </tr>\n",
       "    <tr>\n",
       "      <th>15</th>\n",
       "      <td>Tamdan McCrory</td>\n",
       "      <td>20.6</td>\n",
       "      <td>Mike Pyle</td>\n",
       "      <td>41.3</td>\n",
       "    </tr>\n",
       "    <tr>\n",
       "      <th>16</th>\n",
       "      <td>Paige VanZant</td>\n",
       "      <td>20.7</td>\n",
       "      <td>Antonio McKee</td>\n",
       "      <td>40.8</td>\n",
       "    </tr>\n",
       "    <tr>\n",
       "      <th>17</th>\n",
       "      <td>Ray Borg</td>\n",
       "      <td>20.7</td>\n",
       "      <td>Mike van Arsdale</td>\n",
       "      <td>40.6</td>\n",
       "    </tr>\n",
       "    <tr>\n",
       "      <th>18</th>\n",
       "      <td>Andy Anderson</td>\n",
       "      <td>20.7</td>\n",
       "      <td>Mirko Cro Cop</td>\n",
       "      <td>40.6</td>\n",
       "    </tr>\n",
       "    <tr>\n",
       "      <th>19</th>\n",
       "      <td>Charles Oliveira</td>\n",
       "      <td>20.8</td>\n",
       "      <td>Tra Telligman</td>\n",
       "      <td>40.5</td>\n",
       "    </tr>\n",
       "    <tr>\n",
       "      <th>20</th>\n",
       "      <td>Veronica Macedo</td>\n",
       "      <td>20.8</td>\n",
       "      <td>Chuck Liddell</td>\n",
       "      <td>40.5</td>\n",
       "    </tr>\n",
       "    <tr>\n",
       "      <th>21</th>\n",
       "      <td>John Alessio</td>\n",
       "      <td>20.9</td>\n",
       "      <td>Rogerio Nogueira</td>\n",
       "      <td>40.5</td>\n",
       "    </tr>\n",
       "    <tr>\n",
       "      <th>22</th>\n",
       "      <td>Jeremy Stephens</td>\n",
       "      <td>21.0</td>\n",
       "      <td>Cyrille Diabate</td>\n",
       "      <td>40.4</td>\n",
       "    </tr>\n",
       "    <tr>\n",
       "      <th>23</th>\n",
       "      <td>Stefan Struve</td>\n",
       "      <td>21.0</td>\n",
       "      <td>Yoshihiro Akiyama</td>\n",
       "      <td>40.3</td>\n",
       "    </tr>\n",
       "    <tr>\n",
       "      <th>24</th>\n",
       "      <td>Jeremy Jackson</td>\n",
       "      <td>21.0</td>\n",
       "      <td>Roy Nelson</td>\n",
       "      <td>40.3</td>\n",
       "    </tr>\n",
       "    <tr>\n",
       "      <th>25</th>\n",
       "      <td>Jon Jones</td>\n",
       "      <td>21.1</td>\n",
       "      <td>Jorge Rivera</td>\n",
       "      <td>39.9</td>\n",
       "    </tr>\n",
       "    <tr>\n",
       "      <th>26</th>\n",
       "      <td>Karo Parisyan</td>\n",
       "      <td>21.1</td>\n",
       "      <td>Kamal Shalorus</td>\n",
       "      <td>39.7</td>\n",
       "    </tr>\n",
       "    <tr>\n",
       "      <th>27</th>\n",
       "      <td>Edwin DeWees</td>\n",
       "      <td>21.1</td>\n",
       "      <td>Jeff Cox</td>\n",
       "      <td>39.7</td>\n",
       "    </tr>\n",
       "    <tr>\n",
       "      <th>28</th>\n",
       "      <td>Daiju Takase</td>\n",
       "      <td>21.2</td>\n",
       "      <td>Aleksei Oleinik</td>\n",
       "      <td>39.6</td>\n",
       "    </tr>\n",
       "    <tr>\n",
       "      <th>29</th>\n",
       "      <td>Terry Etim</td>\n",
       "      <td>21.3</td>\n",
       "      <td>Yoel Romero</td>\n",
       "      <td>39.5</td>\n",
       "    </tr>\n",
       "    <tr>\n",
       "      <th>30</th>\n",
       "      <td>Arnold Allen</td>\n",
       "      <td>21.4</td>\n",
       "      <td>Vitor Belfort</td>\n",
       "      <td>39.5</td>\n",
       "    </tr>\n",
       "  </tbody>\n",
       "</table>\n",
       "</div>"
      ],
      "text/plain": [
       "            Youngest   Age                Oldest   Age\n",
       "1     Sean Daugherty  18.3         Ron van Clief  51.9\n",
       "2         Dan Lauzon  18.5         Randy Couture  47.9\n",
       "3     Sage Northcutt  19.6         Dan Henderson  46.1\n",
       "4      Vitor Belfort  19.9          Mark Coleman  45.1\n",
       "5      Jake Matthews  19.9        Anthony Perosh  43.1\n",
       "6    Larissa Pacheco  20.0          Renzo Gracie  43.1\n",
       "7      Robbie Lawler  20.1          Ken Shamrock  42.7\n",
       "8          Nick Diaz  20.2             Mark Hunt  42.3\n",
       "9       Max Holloway  20.2            Dan Severn  42.3\n",
       "10  Michael McDonald  20.2               Cung Le  42.2\n",
       "11     Sergio Pettis  20.2  Vladimir Matyushenko  42.1\n",
       "12   Dustin Hazelett  20.4           James Toney  42.0\n",
       "13    Rory MacDonald  20.5        Anderson Silva  41.8\n",
       "14   Claudio Puelles  20.5       Jason Reinhardt  41.8\n",
       "15    Tamdan McCrory  20.6             Mike Pyle  41.3\n",
       "16     Paige VanZant  20.7         Antonio McKee  40.8\n",
       "17          Ray Borg  20.7      Mike van Arsdale  40.6\n",
       "18     Andy Anderson  20.7         Mirko Cro Cop  40.6\n",
       "19  Charles Oliveira  20.8         Tra Telligman  40.5\n",
       "20   Veronica Macedo  20.8         Chuck Liddell  40.5\n",
       "21      John Alessio  20.9      Rogerio Nogueira  40.5\n",
       "22   Jeremy Stephens  21.0       Cyrille Diabate  40.4\n",
       "23     Stefan Struve  21.0     Yoshihiro Akiyama  40.3\n",
       "24    Jeremy Jackson  21.0            Roy Nelson  40.3\n",
       "25         Jon Jones  21.1          Jorge Rivera  39.9\n",
       "26     Karo Parisyan  21.1        Kamal Shalorus  39.7\n",
       "27      Edwin DeWees  21.1              Jeff Cox  39.7\n",
       "28      Daiju Takase  21.2       Aleksei Oleinik  39.6\n",
       "29        Terry Etim  21.3           Yoel Romero  39.5\n",
       "30      Arnold Allen  21.4         Vitor Belfort  39.5"
      ]
     },
     "execution_count": 99,
     "metadata": {},
     "output_type": "execute_result"
    }
   ],
   "source": [
    "young_old = youngest.merge(oldest, left_index=True, right_index=True)\n",
    "young_old.index = range(1, 31)\n",
    "young_old.columns = ['Youngest', 'Age', 'Oldest', 'Age']\n",
    "young_old.to_latex('report/age/youngest_oldest_RAW.tex')\n",
    "young_old"
   ]
  }
 ],
 "metadata": {
  "anaconda-cloud": {},
  "kernelspec": {
   "display_name": "Python [conda root]",
   "language": "python",
   "name": "conda-root-py"
  },
  "language_info": {
   "codemirror_mode": {
    "name": "ipython",
    "version": 2
   },
   "file_extension": ".py",
   "mimetype": "text/x-python",
   "name": "python",
   "nbconvert_exporter": "python",
   "pygments_lexer": "ipython2",
   "version": "2.7.12"
  }
 },
 "nbformat": 4,
 "nbformat_minor": 1
}
