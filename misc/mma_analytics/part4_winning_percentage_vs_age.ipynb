{
 "cells": [
  {
   "cell_type": "markdown",
   "metadata": {},
   "source": [
    "# Jonathan Halverson\n",
    "# Thursday, February 23, 2017\n",
    "# Part 4: Winning percentage by age"
   ]
  },
  {
   "cell_type": "code",
   "execution_count": 69,
   "metadata": {
    "collapsed": true
   },
   "outputs": [],
   "source": [
    "import numpy as np\n",
    "import pandas as pd\n",
    "import matplotlib.pyplot as plt\n",
    "plt.style.use('halverson')\n",
    "%matplotlib inline\n",
    "from scipy.stats import binom"
   ]
  },
  {
   "cell_type": "code",
   "execution_count": 70,
   "metadata": {
    "collapsed": false
   },
   "outputs": [
    {
     "data": {
      "text/html": [
       "<div>\n",
       "<table border=\"1\" class=\"dataframe\">\n",
       "  <thead>\n",
       "    <tr style=\"text-align: right;\">\n",
       "      <th></th>\n",
       "      <th>Winner</th>\n",
       "      <th>Outcome</th>\n",
       "      <th>Loser</th>\n",
       "      <th>WeightClass</th>\n",
       "      <th>Method</th>\n",
       "      <th>MethodNotes</th>\n",
       "      <th>Round</th>\n",
       "      <th>Time</th>\n",
       "      <th>Event</th>\n",
       "      <th>Date</th>\n",
       "      <th>Location</th>\n",
       "    </tr>\n",
       "  </thead>\n",
       "  <tbody>\n",
       "    <tr>\n",
       "      <th>0</th>\n",
       "      <td>Germaine de Randamie</td>\n",
       "      <td>def.</td>\n",
       "      <td>Holly Holm</td>\n",
       "      <td>Women's Featherweight</td>\n",
       "      <td>U-DEC</td>\n",
       "      <td>NaN</td>\n",
       "      <td>5</td>\n",
       "      <td>5:00</td>\n",
       "      <td>UFC 208: Holm vs. De Randamie</td>\n",
       "      <td>2017-02-11</td>\n",
       "      <td>New York, New York, USA</td>\n",
       "    </tr>\n",
       "    <tr>\n",
       "      <th>1</th>\n",
       "      <td>Anderson Silva</td>\n",
       "      <td>def.</td>\n",
       "      <td>Derek Brunson</td>\n",
       "      <td>Middleweight</td>\n",
       "      <td>U-DEC</td>\n",
       "      <td>NaN</td>\n",
       "      <td>3</td>\n",
       "      <td>5:00</td>\n",
       "      <td>UFC 208: Holm vs. De Randamie</td>\n",
       "      <td>2017-02-11</td>\n",
       "      <td>New York, New York, USA</td>\n",
       "    </tr>\n",
       "    <tr>\n",
       "      <th>2</th>\n",
       "      <td>Jacare Souza</td>\n",
       "      <td>def.</td>\n",
       "      <td>Tim Boetsch</td>\n",
       "      <td>Middleweight</td>\n",
       "      <td>SUB</td>\n",
       "      <td>Kimura</td>\n",
       "      <td>1</td>\n",
       "      <td>3:41</td>\n",
       "      <td>UFC 208: Holm vs. De Randamie</td>\n",
       "      <td>2017-02-11</td>\n",
       "      <td>New York, New York, USA</td>\n",
       "    </tr>\n",
       "  </tbody>\n",
       "</table>\n",
       "</div>"
      ],
      "text/plain": [
       "                 Winner Outcome          Loser            WeightClass Method  \\\n",
       "0  Germaine de Randamie    def.     Holly Holm  Women's Featherweight  U-DEC   \n",
       "1        Anderson Silva    def.  Derek Brunson           Middleweight  U-DEC   \n",
       "2          Jacare Souza    def.    Tim Boetsch           Middleweight    SUB   \n",
       "\n",
       "  MethodNotes  Round  Time                          Event       Date  \\\n",
       "0         NaN      5  5:00  UFC 208: Holm vs. De Randamie 2017-02-11   \n",
       "1         NaN      3  5:00  UFC 208: Holm vs. De Randamie 2017-02-11   \n",
       "2      Kimura      1  3:41  UFC 208: Holm vs. De Randamie 2017-02-11   \n",
       "\n",
       "                  Location  \n",
       "0  New York, New York, USA  \n",
       "1  New York, New York, USA  \n",
       "2  New York, New York, USA  "
      ]
     },
     "execution_count": 70,
     "metadata": {},
     "output_type": "execute_result"
    }
   ],
   "source": [
    "iofile = 'data/fightmetric_cards/fightmetric_fights_CLEAN_3-6-2017.csv'\n",
    "fights = pd.read_csv(iofile, header=0, parse_dates=['Date'])\n",
    "fights.head(3)"
   ]
  },
  {
   "cell_type": "code",
   "execution_count": 71,
   "metadata": {
    "collapsed": false
   },
   "outputs": [
    {
     "data": {
      "text/plain": [
       "(4068, 11)"
      ]
     },
     "execution_count": 71,
     "metadata": {},
     "output_type": "execute_result"
    }
   ],
   "source": [
    "fights.shape"
   ]
  },
  {
   "cell_type": "code",
   "execution_count": 72,
   "metadata": {
    "collapsed": false
   },
   "outputs": [
    {
     "data": {
      "text/html": [
       "<div>\n",
       "<table border=\"1\" class=\"dataframe\">\n",
       "  <thead>\n",
       "    <tr style=\"text-align: right;\">\n",
       "      <th></th>\n",
       "      <th>Name</th>\n",
       "      <th>Nickname</th>\n",
       "      <th>Dob</th>\n",
       "      <th>Weight</th>\n",
       "      <th>Height</th>\n",
       "      <th>Reach</th>\n",
       "      <th>LegReach</th>\n",
       "      <th>Stance</th>\n",
       "      <th>Win</th>\n",
       "      <th>Loss</th>\n",
       "      <th>Draw</th>\n",
       "    </tr>\n",
       "  </thead>\n",
       "  <tbody>\n",
       "    <tr>\n",
       "      <th>0</th>\n",
       "      <td>Tom Aaron</td>\n",
       "      <td>NaN</td>\n",
       "      <td>1978-07-13</td>\n",
       "      <td>155.0</td>\n",
       "      <td>NaN</td>\n",
       "      <td>NaN</td>\n",
       "      <td>NaN</td>\n",
       "      <td>NaN</td>\n",
       "      <td>5.0</td>\n",
       "      <td>3.0</td>\n",
       "      <td>0.0</td>\n",
       "    </tr>\n",
       "    <tr>\n",
       "      <th>1</th>\n",
       "      <td>Danny Abbadi</td>\n",
       "      <td>The Assassin</td>\n",
       "      <td>1983-07-03</td>\n",
       "      <td>155.0</td>\n",
       "      <td>71.0</td>\n",
       "      <td>NaN</td>\n",
       "      <td>NaN</td>\n",
       "      <td>Orthodox</td>\n",
       "      <td>4.0</td>\n",
       "      <td>6.0</td>\n",
       "      <td>0.0</td>\n",
       "    </tr>\n",
       "    <tr>\n",
       "      <th>2</th>\n",
       "      <td>David Abbott</td>\n",
       "      <td>Tank</td>\n",
       "      <td>NaT</td>\n",
       "      <td>265.0</td>\n",
       "      <td>72.0</td>\n",
       "      <td>NaN</td>\n",
       "      <td>NaN</td>\n",
       "      <td>Switch</td>\n",
       "      <td>10.0</td>\n",
       "      <td>14.0</td>\n",
       "      <td>0.0</td>\n",
       "    </tr>\n",
       "  </tbody>\n",
       "</table>\n",
       "</div>"
      ],
      "text/plain": [
       "           Name      Nickname        Dob  Weight  Height  Reach  LegReach  \\\n",
       "0     Tom Aaron           NaN 1978-07-13   155.0     NaN    NaN       NaN   \n",
       "1  Danny Abbadi  The Assassin 1983-07-03   155.0    71.0    NaN       NaN   \n",
       "2  David Abbott          Tank        NaT   265.0    72.0    NaN       NaN   \n",
       "\n",
       "     Stance   Win  Loss  Draw  \n",
       "0       NaN   5.0   3.0   0.0  \n",
       "1  Orthodox   4.0   6.0   0.0  \n",
       "2    Switch  10.0  14.0   0.0  "
      ]
     },
     "execution_count": 72,
     "metadata": {},
     "output_type": "execute_result"
    }
   ],
   "source": [
    "iofile = 'data/fightmetric_fighters_with_corrections_from_UFC_Wikipedia_CLEAN.csv'\n",
    "fighters = pd.read_csv(iofile, header=0, parse_dates=['Dob'])\n",
    "fighters.head(3)"
   ]
  },
  {
   "cell_type": "code",
   "execution_count": 73,
   "metadata": {
    "collapsed": false
   },
   "outputs": [
    {
     "data": {
      "text/plain": [
       "(4068, 18)"
      ]
     },
     "execution_count": 73,
     "metadata": {},
     "output_type": "execute_result"
    }
   ],
   "source": [
    "cols = ['Name', 'Weight', 'Height', 'Reach', 'LegReach', 'Stance', 'Dob']\n",
    "df = fights.merge(fighters[cols], how='left', left_on='Winner', right_on='Name')\n",
    "df.shape"
   ]
  },
  {
   "cell_type": "code",
   "execution_count": 74,
   "metadata": {
    "collapsed": false
   },
   "outputs": [
    {
     "data": {
      "text/html": [
       "<div>\n",
       "<table border=\"1\" class=\"dataframe\">\n",
       "  <thead>\n",
       "    <tr style=\"text-align: right;\">\n",
       "      <th></th>\n",
       "      <th>Winner</th>\n",
       "      <th>Outcome</th>\n",
       "      <th>Loser</th>\n",
       "      <th>WeightClass</th>\n",
       "      <th>Method</th>\n",
       "      <th>MethodNotes</th>\n",
       "      <th>Round</th>\n",
       "      <th>Time</th>\n",
       "      <th>Event</th>\n",
       "      <th>Date</th>\n",
       "      <th>Location</th>\n",
       "      <th>Name</th>\n",
       "      <th>Weight</th>\n",
       "      <th>Height</th>\n",
       "      <th>Reach</th>\n",
       "      <th>LegReach</th>\n",
       "      <th>Stance</th>\n",
       "      <th>Dob</th>\n",
       "    </tr>\n",
       "  </thead>\n",
       "  <tbody>\n",
       "    <tr>\n",
       "      <th>0</th>\n",
       "      <td>Germaine de Randamie</td>\n",
       "      <td>def.</td>\n",
       "      <td>Holly Holm</td>\n",
       "      <td>Women's Featherweight</td>\n",
       "      <td>U-DEC</td>\n",
       "      <td>NaN</td>\n",
       "      <td>5</td>\n",
       "      <td>5:00</td>\n",
       "      <td>UFC 208: Holm vs. De Randamie</td>\n",
       "      <td>2017-02-11</td>\n",
       "      <td>New York, New York, USA</td>\n",
       "      <td>Germaine de Randamie</td>\n",
       "      <td>145.0</td>\n",
       "      <td>69.0</td>\n",
       "      <td>71.0</td>\n",
       "      <td>41.0</td>\n",
       "      <td>Orthodox</td>\n",
       "      <td>1984-04-24</td>\n",
       "    </tr>\n",
       "    <tr>\n",
       "      <th>1</th>\n",
       "      <td>Anderson Silva</td>\n",
       "      <td>def.</td>\n",
       "      <td>Derek Brunson</td>\n",
       "      <td>Middleweight</td>\n",
       "      <td>U-DEC</td>\n",
       "      <td>NaN</td>\n",
       "      <td>3</td>\n",
       "      <td>5:00</td>\n",
       "      <td>UFC 208: Holm vs. De Randamie</td>\n",
       "      <td>2017-02-11</td>\n",
       "      <td>New York, New York, USA</td>\n",
       "      <td>Anderson Silva</td>\n",
       "      <td>185.0</td>\n",
       "      <td>74.0</td>\n",
       "      <td>77.0</td>\n",
       "      <td>42.0</td>\n",
       "      <td>Southpaw</td>\n",
       "      <td>1975-04-14</td>\n",
       "    </tr>\n",
       "    <tr>\n",
       "      <th>2</th>\n",
       "      <td>Jacare Souza</td>\n",
       "      <td>def.</td>\n",
       "      <td>Tim Boetsch</td>\n",
       "      <td>Middleweight</td>\n",
       "      <td>SUB</td>\n",
       "      <td>Kimura</td>\n",
       "      <td>1</td>\n",
       "      <td>3:41</td>\n",
       "      <td>UFC 208: Holm vs. De Randamie</td>\n",
       "      <td>2017-02-11</td>\n",
       "      <td>New York, New York, USA</td>\n",
       "      <td>Jacare Souza</td>\n",
       "      <td>185.0</td>\n",
       "      <td>73.0</td>\n",
       "      <td>72.0</td>\n",
       "      <td>41.0</td>\n",
       "      <td>Orthodox</td>\n",
       "      <td>1979-12-07</td>\n",
       "    </tr>\n",
       "  </tbody>\n",
       "</table>\n",
       "</div>"
      ],
      "text/plain": [
       "                 Winner Outcome          Loser            WeightClass Method  \\\n",
       "0  Germaine de Randamie    def.     Holly Holm  Women's Featherweight  U-DEC   \n",
       "1        Anderson Silva    def.  Derek Brunson           Middleweight  U-DEC   \n",
       "2          Jacare Souza    def.    Tim Boetsch           Middleweight    SUB   \n",
       "\n",
       "  MethodNotes  Round  Time                          Event       Date  \\\n",
       "0         NaN      5  5:00  UFC 208: Holm vs. De Randamie 2017-02-11   \n",
       "1         NaN      3  5:00  UFC 208: Holm vs. De Randamie 2017-02-11   \n",
       "2      Kimura      1  3:41  UFC 208: Holm vs. De Randamie 2017-02-11   \n",
       "\n",
       "                  Location                  Name  Weight  Height  Reach  \\\n",
       "0  New York, New York, USA  Germaine de Randamie   145.0    69.0   71.0   \n",
       "1  New York, New York, USA        Anderson Silva   185.0    74.0   77.0   \n",
       "2  New York, New York, USA          Jacare Souza   185.0    73.0   72.0   \n",
       "\n",
       "   LegReach    Stance        Dob  \n",
       "0      41.0  Orthodox 1984-04-24  \n",
       "1      42.0  Southpaw 1975-04-14  \n",
       "2      41.0  Orthodox 1979-12-07  "
      ]
     },
     "execution_count": 74,
     "metadata": {},
     "output_type": "execute_result"
    }
   ],
   "source": [
    "df.head(3)"
   ]
  },
  {
   "cell_type": "code",
   "execution_count": 75,
   "metadata": {
    "collapsed": false
   },
   "outputs": [
    {
     "data": {
      "text/plain": [
       "(4068, 25)"
      ]
     },
     "execution_count": 75,
     "metadata": {},
     "output_type": "execute_result"
    }
   ],
   "source": [
    "df = df.merge(fighters[cols], how='left', left_on='Loser', right_on='Name', suffixes=('', '_L'))\n",
    "df.shape"
   ]
  },
  {
   "cell_type": "code",
   "execution_count": 76,
   "metadata": {
    "collapsed": false
   },
   "outputs": [
    {
     "data": {
      "text/html": [
       "<div>\n",
       "<table border=\"1\" class=\"dataframe\">\n",
       "  <thead>\n",
       "    <tr style=\"text-align: right;\">\n",
       "      <th></th>\n",
       "      <th>Winner</th>\n",
       "      <th>Outcome</th>\n",
       "      <th>Loser</th>\n",
       "      <th>WeightClass</th>\n",
       "      <th>Method</th>\n",
       "      <th>MethodNotes</th>\n",
       "      <th>Round</th>\n",
       "      <th>Time</th>\n",
       "      <th>Event</th>\n",
       "      <th>Date</th>\n",
       "      <th>...</th>\n",
       "      <th>LegReach</th>\n",
       "      <th>Stance</th>\n",
       "      <th>Dob</th>\n",
       "      <th>Name_L</th>\n",
       "      <th>Weight_L</th>\n",
       "      <th>Height_L</th>\n",
       "      <th>Reach_L</th>\n",
       "      <th>LegReach_L</th>\n",
       "      <th>Stance_L</th>\n",
       "      <th>Dob_L</th>\n",
       "    </tr>\n",
       "  </thead>\n",
       "  <tbody>\n",
       "    <tr>\n",
       "      <th>0</th>\n",
       "      <td>Germaine de Randamie</td>\n",
       "      <td>def.</td>\n",
       "      <td>Holly Holm</td>\n",
       "      <td>Women's Featherweight</td>\n",
       "      <td>U-DEC</td>\n",
       "      <td>NaN</td>\n",
       "      <td>5</td>\n",
       "      <td>5:00</td>\n",
       "      <td>UFC 208: Holm vs. De Randamie</td>\n",
       "      <td>2017-02-11</td>\n",
       "      <td>...</td>\n",
       "      <td>41.0</td>\n",
       "      <td>Orthodox</td>\n",
       "      <td>1984-04-24</td>\n",
       "      <td>Holly Holm</td>\n",
       "      <td>145.0</td>\n",
       "      <td>68.0</td>\n",
       "      <td>69.0</td>\n",
       "      <td>38.0</td>\n",
       "      <td>Southpaw</td>\n",
       "      <td>1981-10-17</td>\n",
       "    </tr>\n",
       "    <tr>\n",
       "      <th>1</th>\n",
       "      <td>Anderson Silva</td>\n",
       "      <td>def.</td>\n",
       "      <td>Derek Brunson</td>\n",
       "      <td>Middleweight</td>\n",
       "      <td>U-DEC</td>\n",
       "      <td>NaN</td>\n",
       "      <td>3</td>\n",
       "      <td>5:00</td>\n",
       "      <td>UFC 208: Holm vs. De Randamie</td>\n",
       "      <td>2017-02-11</td>\n",
       "      <td>...</td>\n",
       "      <td>42.0</td>\n",
       "      <td>Southpaw</td>\n",
       "      <td>1975-04-14</td>\n",
       "      <td>Derek Brunson</td>\n",
       "      <td>185.0</td>\n",
       "      <td>73.0</td>\n",
       "      <td>77.0</td>\n",
       "      <td>43.0</td>\n",
       "      <td>Southpaw</td>\n",
       "      <td>1984-01-04</td>\n",
       "    </tr>\n",
       "    <tr>\n",
       "      <th>2</th>\n",
       "      <td>Jacare Souza</td>\n",
       "      <td>def.</td>\n",
       "      <td>Tim Boetsch</td>\n",
       "      <td>Middleweight</td>\n",
       "      <td>SUB</td>\n",
       "      <td>Kimura</td>\n",
       "      <td>1</td>\n",
       "      <td>3:41</td>\n",
       "      <td>UFC 208: Holm vs. De Randamie</td>\n",
       "      <td>2017-02-11</td>\n",
       "      <td>...</td>\n",
       "      <td>41.0</td>\n",
       "      <td>Orthodox</td>\n",
       "      <td>1979-12-07</td>\n",
       "      <td>Tim Boetsch</td>\n",
       "      <td>185.0</td>\n",
       "      <td>72.0</td>\n",
       "      <td>74.0</td>\n",
       "      <td>42.0</td>\n",
       "      <td>Orthodox</td>\n",
       "      <td>1981-01-28</td>\n",
       "    </tr>\n",
       "  </tbody>\n",
       "</table>\n",
       "<p>3 rows × 25 columns</p>\n",
       "</div>"
      ],
      "text/plain": [
       "                 Winner Outcome          Loser            WeightClass Method  \\\n",
       "0  Germaine de Randamie    def.     Holly Holm  Women's Featherweight  U-DEC   \n",
       "1        Anderson Silva    def.  Derek Brunson           Middleweight  U-DEC   \n",
       "2          Jacare Souza    def.    Tim Boetsch           Middleweight    SUB   \n",
       "\n",
       "  MethodNotes  Round  Time                          Event       Date  \\\n",
       "0         NaN      5  5:00  UFC 208: Holm vs. De Randamie 2017-02-11   \n",
       "1         NaN      3  5:00  UFC 208: Holm vs. De Randamie 2017-02-11   \n",
       "2      Kimura      1  3:41  UFC 208: Holm vs. De Randamie 2017-02-11   \n",
       "\n",
       "     ...     LegReach    Stance        Dob         Name_L  Weight_L  Height_L  \\\n",
       "0    ...         41.0  Orthodox 1984-04-24     Holly Holm     145.0      68.0   \n",
       "1    ...         42.0  Southpaw 1975-04-14  Derek Brunson     185.0      73.0   \n",
       "2    ...         41.0  Orthodox 1979-12-07    Tim Boetsch     185.0      72.0   \n",
       "\n",
       "  Reach_L LegReach_L  Stance_L      Dob_L  \n",
       "0    69.0       38.0  Southpaw 1981-10-17  \n",
       "1    77.0       43.0  Southpaw 1984-01-04  \n",
       "2    74.0       42.0  Orthodox 1981-01-28  \n",
       "\n",
       "[3 rows x 25 columns]"
      ]
     },
     "execution_count": 76,
     "metadata": {},
     "output_type": "execute_result"
    }
   ],
   "source": [
    "df.head(3)"
   ]
  },
  {
   "cell_type": "code",
   "execution_count": 77,
   "metadata": {
    "collapsed": false
   },
   "outputs": [],
   "source": [
    "df = df.drop(['Name', 'Name_L'], axis=1)"
   ]
  },
  {
   "cell_type": "markdown",
   "metadata": {},
   "source": [
    "### How many fights do we not have age information for?"
   ]
  },
  {
   "cell_type": "code",
   "execution_count": 78,
   "metadata": {
    "collapsed": false
   },
   "outputs": [
    {
     "data": {
      "text/plain": [
       "177"
      ]
     },
     "execution_count": 78,
     "metadata": {},
     "output_type": "execute_result"
    }
   ],
   "source": [
    "df[(pd.isnull(df.Dob)) | (pd.isnull(df.Dob_L))].shape[0]"
   ]
  },
  {
   "cell_type": "markdown",
   "metadata": {},
   "source": [
    "Note that most of the missing info is for fights before 2005."
   ]
  },
  {
   "cell_type": "markdown",
   "metadata": {},
   "source": [
    "### Let's compute win ratios by age bracket"
   ]
  },
  {
   "cell_type": "code",
   "execution_count": 79,
   "metadata": {
    "collapsed": false
   },
   "outputs": [],
   "source": [
    "wins = df[(df.Outcome == 'def.') & (df.Date > np.datetime64('2005-01-01')) & pd.notnull(df.Dob) & pd.notnull(df.Dob_L)].copy()\n",
    "wins['Age'] = (wins.Date - wins.Dob) / np.timedelta64(1, 'Y')\n",
    "wins['Age_L'] = (wins.Date - wins.Dob_L) / np.timedelta64(1, 'Y')"
   ]
  },
  {
   "cell_type": "code",
   "execution_count": 80,
   "metadata": {
    "collapsed": false
   },
   "outputs": [
    {
     "data": {
      "text/plain": [
       "0.6242038216560509"
      ]
     },
     "execution_count": 80,
     "metadata": {},
     "output_type": "execute_result"
    }
   ],
   "source": [
    "msk1 = wins.Age < 25\n",
    "msk2 = wins.Age_L < 25\n",
    "under25 = float(wins[msk1].shape[0]) / wins[msk1 | msk2].shape[0]\n",
    "under25"
   ]
  },
  {
   "cell_type": "code",
   "execution_count": 81,
   "metadata": {
    "collapsed": false
   },
   "outputs": [
    {
     "data": {
      "text/plain": [
       "(490, 371)"
      ]
     },
     "execution_count": 81,
     "metadata": {},
     "output_type": "execute_result"
    }
   ],
   "source": [
    "wins[msk1].shape[0], wins[msk2].shape[0]"
   ]
  },
  {
   "cell_type": "code",
   "execution_count": 82,
   "metadata": {
    "collapsed": false
   },
   "outputs": [
    {
     "data": {
      "text/plain": [
       "5.6403070046415983e-05"
      ]
     },
     "execution_count": 82,
     "metadata": {},
     "output_type": "execute_result"
    }
   ],
   "source": [
    "2 * binom.cdf(p=0.5, n=wins[msk1].shape[0] + wins[msk2].shape[0], k=min(wins[msk1].shape[0], wins[msk2].shape[0]))"
   ]
  },
  {
   "cell_type": "code",
   "execution_count": 83,
   "metadata": {
    "collapsed": false
   },
   "outputs": [
    {
     "data": {
      "text/plain": [
       "0.6313905930470347"
      ]
     },
     "execution_count": 83,
     "metadata": {},
     "output_type": "execute_result"
    }
   ],
   "source": [
    "msk1 = (wins.Age >= 25) & (wins.Age <= 29)\n",
    "msk2 = (wins.Age_L >= 25) & (wins.Age_L <= 29)\n",
    "over25under30 = float(wins[msk1].shape[0]) / wins[msk1 | msk2].shape[0]\n",
    "over25under30"
   ]
  },
  {
   "cell_type": "code",
   "execution_count": 84,
   "metadata": {
    "collapsed": false
   },
   "outputs": [
    {
     "data": {
      "text/plain": [
       "(1235, 1118)"
      ]
     },
     "execution_count": 84,
     "metadata": {},
     "output_type": "execute_result"
    }
   ],
   "source": [
    "wins[msk1].shape[0], wins[msk2].shape[0]"
   ]
  },
  {
   "cell_type": "code",
   "execution_count": 85,
   "metadata": {
    "collapsed": false
   },
   "outputs": [
    {
     "data": {
      "text/plain": [
       "0.016767285469014539"
      ]
     },
     "execution_count": 85,
     "metadata": {},
     "output_type": "execute_result"
    }
   ],
   "source": [
    "2 * binom.cdf(p=0.5, n=wins[msk1].shape[0] + wins[msk2].shape[0], k=min(wins[msk1].shape[0], wins[msk2].shape[0]))"
   ]
  },
  {
   "cell_type": "code",
   "execution_count": 86,
   "metadata": {
    "collapsed": false
   },
   "outputs": [
    {
     "data": {
      "text/plain": [
       "0.5838264299802761"
      ]
     },
     "execution_count": 86,
     "metadata": {},
     "output_type": "execute_result"
    }
   ],
   "source": [
    "msk1 = (wins.Age >= 30) & (wins.Age < 35)\n",
    "msk2 = (wins.Age_L >= 30) & (wins.Age_L < 35)\n",
    "over30under35 = float(wins[msk1].shape[0]) / wins[msk1 | msk2].shape[0]\n",
    "over30under35"
   ]
  },
  {
   "cell_type": "code",
   "execution_count": 87,
   "metadata": {
    "collapsed": false
   },
   "outputs": [
    {
     "data": {
      "text/plain": [
       "(1184, 1310)"
      ]
     },
     "execution_count": 87,
     "metadata": {},
     "output_type": "execute_result"
    }
   ],
   "source": [
    "wins[msk1].shape[0], wins[msk2].shape[0]"
   ]
  },
  {
   "cell_type": "code",
   "execution_count": 88,
   "metadata": {
    "collapsed": false
   },
   "outputs": [
    {
     "data": {
      "text/plain": [
       "0.012299040431129078"
      ]
     },
     "execution_count": 88,
     "metadata": {},
     "output_type": "execute_result"
    }
   ],
   "source": [
    "2 * binom.cdf(p=0.5, n=wins[msk1].shape[0] + wins[msk2].shape[0], k=min(wins[msk1].shape[0], wins[msk2].shape[0]))"
   ]
  },
  {
   "cell_type": "code",
   "execution_count": 89,
   "metadata": {
    "collapsed": false
   },
   "outputs": [
    {
     "data": {
      "text/plain": [
       "0.47126436781609193"
      ]
     },
     "execution_count": 89,
     "metadata": {},
     "output_type": "execute_result"
    }
   ],
   "source": [
    "msk1 = wins.Age >= 35\n",
    "msk2 = wins.Age_L >= 35\n",
    "over35 = float(wins[msk1].shape[0]) / wins[msk1 | msk2].shape[0]\n",
    "over35"
   ]
  },
  {
   "cell_type": "code",
   "execution_count": 90,
   "metadata": {
    "collapsed": false
   },
   "outputs": [
    {
     "data": {
      "text/plain": [
       "(287, 394)"
      ]
     },
     "execution_count": 90,
     "metadata": {},
     "output_type": "execute_result"
    }
   ],
   "source": [
    "wins[msk1].shape[0], wins[msk2].shape[0]"
   ]
  },
  {
   "cell_type": "code",
   "execution_count": 91,
   "metadata": {
    "collapsed": false
   },
   "outputs": [
    {
     "data": {
      "text/plain": [
       "4.7073513370514293e-05"
      ]
     },
     "execution_count": 91,
     "metadata": {},
     "output_type": "execute_result"
    }
   ],
   "source": [
    "2 * binom.cdf(p=0.5, n=wins[msk1].shape[0] + wins[msk2].shape[0], k=min(wins[msk1].shape[0], wins[msk2].shape[0]))"
   ]
  },
  {
   "cell_type": "code",
   "execution_count": 92,
   "metadata": {
    "collapsed": false
   },
   "outputs": [
    {
     "data": {
      "text/plain": [
       "72"
      ]
     },
     "execution_count": 92,
     "metadata": {},
     "output_type": "execute_result"
    }
   ],
   "source": [
    "wins[msk1 & msk2][['Winner', 'Loser', 'Age', 'Age_L']].shape[0]"
   ]
  },
  {
   "cell_type": "code",
   "execution_count": 93,
   "metadata": {
    "collapsed": false
   },
   "outputs": [
    {
     "data": {
      "text/plain": [
       "0.40037243947858475"
      ]
     },
     "execution_count": 93,
     "metadata": {},
     "output_type": "execute_result"
    }
   ],
   "source": [
    "msk1 = (wins.Age > 35) & (wins.Age_L < 35)\n",
    "msk2 = (wins.Age_L > 35) & (wins.Age < 35)\n",
    "over35 = float(wins[msk1].shape[0]) / wins[msk1 | msk2].shape[0]\n",
    "over35"
   ]
  },
  {
   "cell_type": "code",
   "execution_count": 94,
   "metadata": {
    "collapsed": false
   },
   "outputs": [
    {
     "data": {
      "text/plain": [
       "(215, 322)"
      ]
     },
     "execution_count": 94,
     "metadata": {},
     "output_type": "execute_result"
    }
   ],
   "source": [
    "wins[msk1].shape[0], wins[msk2].shape[0]"
   ]
  },
  {
   "cell_type": "code",
   "execution_count": 95,
   "metadata": {
    "collapsed": false
   },
   "outputs": [
    {
     "data": {
      "text/plain": [
       "<matplotlib.text.Text at 0x1150fb390>"
      ]
     },
     "execution_count": 95,
     "metadata": {},
     "output_type": "execute_result"
    },
    {
     "data": {
      "image/png": "[encoded data removed]",
      "text/plain": [
       "<matplotlib.figure.Figure at 0x1150f35d0>"
      ]
     },
     "metadata": {},
     "output_type": "display_data"
    }
   ],
   "source": [
    "win_percent = [under25, over25under30, over30under35, over35]\n",
    "labels = ['18-24', '25-29', '30-34', '35 and above']\n",
    "plt.plot([-1, 4], [50, 50], 'k:', zorder=0)\n",
    "plt.bar(range(len(win_percent)), 100 * np.array(win_percent), color='gray', tick_label=labels, align='center')\n",
    "plt.xlim(-0.6, 3.6)\n",
    "plt.ylim(0, 100)\n",
    "plt.ylabel('Win percentage')\n",
    "plt.xlabel('Age Bracket')"
   ]
  },
  {
   "cell_type": "markdown",
   "metadata": {},
   "source": [
    "### What is the winning percentage by age?"
   ]
  },
  {
   "cell_type": "code",
   "execution_count": 96,
   "metadata": {
    "collapsed": false
   },
   "outputs": [
    {
     "name": "stdout",
     "output_type": "stream",
     "text": [
      "    Age_int      0         1\n",
      "18      NaN    NaN       NaN\n",
      "19      3.0    4.0  0.750000\n",
      "20     16.0   27.0  0.592593\n",
      "21     36.0   61.0  0.590164\n",
      "22     85.0  152.0  0.559211\n",
      "23    144.0  256.0  0.562500\n",
      "24    206.0  360.0  0.572222\n",
      "25    243.0  465.0  0.522581\n",
      "26    300.0  571.0  0.525394\n",
      "27    354.0  637.0  0.555730\n",
      "28    338.0  680.0  0.497059\n",
      "29    334.0  671.0  0.497765\n",
      "30    333.0  650.0  0.512308\n",
      "31    303.0  610.0  0.496721\n",
      "32    243.0  517.0  0.470019\n",
      "33    174.0  385.0  0.451948\n",
      "34    131.0  332.0  0.394578\n",
      "35    102.0  225.0  0.453333\n",
      "36     75.0  184.0  0.407609\n",
      "37     49.0  113.0  0.433628\n",
      "38     23.0   58.0  0.396552\n",
      "39     15.0   36.0  0.416667\n",
      "40      8.0   21.0  0.380952\n",
      "41      4.0   12.0  0.333333\n",
      "42      2.0   11.0  0.181818\n",
      "43      2.0    6.0  0.333333\n",
      "44      3.0    5.0  0.600000\n",
      "45      1.0    4.0  0.250000\n",
      "46      2.0    4.0  0.500000\n",
      "47      1.0    2.0  0.500000\n"
     ]
    }
   ],
   "source": [
    "wins['Age_int'] = wins.Age.astype(int)\n",
    "wins['Age_L_int'] = wins.Age_L.astype(int)\n",
    "win_count_by_age = wins.Age_int.value_counts()\n",
    "\n",
    "# count fights per age without double counting\n",
    "ages = win_count_by_age.index\n",
    "counts = []\n",
    "for age in ages:\n",
    "     ct = wins[(wins.Age_int == age) | (wins.Age_L_int == age)].shape[0]\n",
    "     counts.append(ct)\n",
    "#total_count_by_age = pd.Series(data=counts, index=ages)\n",
    "# win percentage is number of wins by age o\n",
    "total_count_by_age = win_count_by_age + wins.Age_L_int.value_counts()\n",
    "win_percent_by_age = win_count_by_age / total_count_by_age\n",
    "print pd.concat([win_count_by_age, total_count_by_age, win_percent_by_age], axis=1).sort_index()"
   ]
  },
  {
   "cell_type": "code",
   "execution_count": 97,
   "metadata": {
    "collapsed": false
   },
   "outputs": [
    {
     "data": {
      "image/png": "[encoded data removed]",
      "text/plain": [
       "<matplotlib.figure.Figure at 0x11535a850>"
      ]
     },
     "metadata": {},
     "output_type": "display_data"
    }
   ],
   "source": [
    "x = win_percent_by_age[total_count_by_age > 20].index\n",
    "y = 100 * win_percent_by_age[total_count_by_age > 20].values\n",
    "xmin = 15\n",
    "xmax = 45\n",
    "\n",
    "m, b = np.polyfit(x, y, 1)\n",
    "plt.plot([xmin, xmax], [50, 50], 'k:')\n",
    "plt.plot(np.linspace(xmin, xmax), m * np.linspace(xmin, xmax) + b, 'k-')\n",
    "plt.plot(x, y, 'wo', ms=7)\n",
    "plt.xlabel('Age')\n",
    "plt.ylabel('Win percentage')\n",
    "plt.xlim(15, 45)\n",
    "plt.ylim(0, 100)\n",
    "plt.savefig('report/age/win_percent_vs_age.pdf', bbox_inches='tight')"
   ]
  },
  {
   "cell_type": "code",
   "execution_count": 98,
   "metadata": {
    "collapsed": false
   },
   "outputs": [
    {
     "name": "stdout",
     "output_type": "stream",
     "text": [
      "-0.958195395991 8.86813032089e-12\n",
      "-0.955844155844 1.47771971719e-11\n"
     ]
    }
   ],
   "source": [
    "from scipy.stats import pearsonr, spearmanr\n",
    "\n",
    "corr_pearson, p_value_pearson = pearsonr(x, y)\n",
    "corr_spearman, p_value_spearman = spearmanr(x, y)\n",
    "print corr_pearson, p_value_pearson\n",
    "print corr_spearman, p_value_spearman"
   ]
  },
  {
   "cell_type": "code",
   "execution_count": 99,
   "metadata": {
    "collapsed": false
   },
   "outputs": [
    {
     "data": {
      "text/html": [
       "<div>\n",
       "<table border=\"1\" class=\"dataframe\">\n",
       "  <thead>\n",
       "    <tr style=\"text-align: right;\">\n",
       "      <th></th>\n",
       "      <th>20</th>\n",
       "      <th>21</th>\n",
       "      <th>22</th>\n",
       "      <th>23</th>\n",
       "      <th>24</th>\n",
       "      <th>25</th>\n",
       "      <th>26</th>\n",
       "      <th>27</th>\n",
       "      <th>28</th>\n",
       "      <th>29</th>\n",
       "      <th>...</th>\n",
       "      <th>31</th>\n",
       "      <th>32</th>\n",
       "      <th>33</th>\n",
       "      <th>34</th>\n",
       "      <th>35</th>\n",
       "      <th>36</th>\n",
       "      <th>37</th>\n",
       "      <th>38</th>\n",
       "      <th>39</th>\n",
       "      <th>40</th>\n",
       "    </tr>\n",
       "  </thead>\n",
       "  <tbody>\n",
       "    <tr>\n",
       "      <th>wins</th>\n",
       "      <td>16.0</td>\n",
       "      <td>36.0</td>\n",
       "      <td>85.0</td>\n",
       "      <td>144.0</td>\n",
       "      <td>206.0</td>\n",
       "      <td>243.0</td>\n",
       "      <td>300.0</td>\n",
       "      <td>354.0</td>\n",
       "      <td>338.0</td>\n",
       "      <td>334.0</td>\n",
       "      <td>...</td>\n",
       "      <td>303.0</td>\n",
       "      <td>243.0</td>\n",
       "      <td>174.0</td>\n",
       "      <td>131.0</td>\n",
       "      <td>102.0</td>\n",
       "      <td>75.0</td>\n",
       "      <td>49.0</td>\n",
       "      <td>23.0</td>\n",
       "      <td>15.0</td>\n",
       "      <td>8.0</td>\n",
       "    </tr>\n",
       "    <tr>\n",
       "      <th>total</th>\n",
       "      <td>27.0</td>\n",
       "      <td>61.0</td>\n",
       "      <td>152.0</td>\n",
       "      <td>256.0</td>\n",
       "      <td>360.0</td>\n",
       "      <td>465.0</td>\n",
       "      <td>571.0</td>\n",
       "      <td>637.0</td>\n",
       "      <td>680.0</td>\n",
       "      <td>671.0</td>\n",
       "      <td>...</td>\n",
       "      <td>610.0</td>\n",
       "      <td>517.0</td>\n",
       "      <td>385.0</td>\n",
       "      <td>332.0</td>\n",
       "      <td>225.0</td>\n",
       "      <td>184.0</td>\n",
       "      <td>113.0</td>\n",
       "      <td>58.0</td>\n",
       "      <td>36.0</td>\n",
       "      <td>21.0</td>\n",
       "    </tr>\n",
       "  </tbody>\n",
       "</table>\n",
       "<p>2 rows × 21 columns</p>\n",
       "</div>"
      ],
      "text/plain": [
       "         20    21     22     23     24     25     26     27     28     29  \\\n",
       "wins   16.0  36.0   85.0  144.0  206.0  243.0  300.0  354.0  338.0  334.0   \n",
       "total  27.0  61.0  152.0  256.0  360.0  465.0  571.0  637.0  680.0  671.0   \n",
       "\n",
       "       ...      31     32     33     34     35     36     37    38    39    40  \n",
       "wins   ...   303.0  243.0  174.0  131.0  102.0   75.0   49.0  23.0  15.0   8.0  \n",
       "total  ...   610.0  517.0  385.0  332.0  225.0  184.0  113.0  58.0  36.0  21.0  \n",
       "\n",
       "[2 rows x 21 columns]"
      ]
     },
     "execution_count": 99,
     "metadata": {},
     "output_type": "execute_result"
    }
   ],
   "source": [
    "w = win_count_by_age[total_count_by_age > 20].sort_index()\n",
    "t = total_count_by_age[total_count_by_age > 20].sort_index()\n",
    "cont_table = pd.DataFrame({'wins':w, 'total':t}).T.sort_index(ascending=False)\n",
    "cont_table"
   ]
  },
  {
   "cell_type": "code",
   "execution_count": 100,
   "metadata": {
    "collapsed": false
   },
   "outputs": [
    {
     "name": "stdout",
     "output_type": "stream",
     "text": [
      "21.1560884485 0.387997046214 True\n"
     ]
    }
   ],
   "source": [
    "from scipy.stats import chi2_contingency\n",
    "\n",
    "chi_sq, p_value, dof, expect = chi2_contingency(cont_table)\n",
    "print chi_sq, p_value, p_value > 0.05"
   ]
  },
  {
   "cell_type": "markdown",
   "metadata": {},
   "source": [
    "Below we compute Cramer's V which is a measure of the strength between the two nominal variables:"
   ]
  },
  {
   "cell_type": "code",
   "execution_count": 101,
   "metadata": {
    "collapsed": false
   },
   "outputs": [
    {
     "data": {
      "text/plain": [
       "0.044838172331606731"
      ]
     },
     "execution_count": 101,
     "metadata": {},
     "output_type": "execute_result"
    }
   ],
   "source": [
    "N = cont_table.sum().sum()\n",
    "V = (chi_sq / (N * min(2 - 1, 21 - 1)))**0.5\n",
    "V"
   ]
  },
  {
   "cell_type": "markdown",
   "metadata": {},
   "source": [
    "The above statistical test indicates that there is not enough data to conclude that the counts for each age are not due to chance. Part of this maybe that the numbers are the largest in the middle where the win ratio is about 50%."
   ]
  },
  {
   "cell_type": "code",
   "execution_count": 102,
   "metadata": {
    "collapsed": true
   },
   "outputs": [],
   "source": [
    "def two_sided_binom(x):\n",
    "     wins = x[0]\n",
    "     total = x[1]\n",
    "     if wins / total == 0.5:\n",
    "          return 1.0\n",
    "     elif wins / total < 0.5:\n",
    "          return 2 * binom.cdf(p=0.5, k=wins, n=total)\n",
    "     else:\n",
    "          return 2 * (1.0 - binom.cdf(p=0.5, k=wins-1, n=total))"
   ]
  },
  {
   "cell_type": "code",
   "execution_count": 103,
   "metadata": {
    "collapsed": false
   },
   "outputs": [
    {
     "data": {
      "text/html": [
       "<div>\n",
       "<table border=\"1\" class=\"dataframe\">\n",
       "  <thead>\n",
       "    <tr style=\"text-align: right;\">\n",
       "      <th></th>\n",
       "      <th>20</th>\n",
       "      <th>21</th>\n",
       "      <th>22</th>\n",
       "      <th>23</th>\n",
       "      <th>24</th>\n",
       "      <th>25</th>\n",
       "      <th>26</th>\n",
       "      <th>27</th>\n",
       "      <th>28</th>\n",
       "      <th>29</th>\n",
       "      <th>...</th>\n",
       "      <th>31</th>\n",
       "      <th>32</th>\n",
       "      <th>33</th>\n",
       "      <th>34</th>\n",
       "      <th>35</th>\n",
       "      <th>36</th>\n",
       "      <th>37</th>\n",
       "      <th>38</th>\n",
       "      <th>39</th>\n",
       "      <th>40</th>\n",
       "    </tr>\n",
       "  </thead>\n",
       "  <tbody>\n",
       "    <tr>\n",
       "      <th>wins</th>\n",
       "      <td>16.00</td>\n",
       "      <td>36.0</td>\n",
       "      <td>85.00</td>\n",
       "      <td>144.00</td>\n",
       "      <td>206.00</td>\n",
       "      <td>243.00</td>\n",
       "      <td>300.00</td>\n",
       "      <td>354.00</td>\n",
       "      <td>338.00</td>\n",
       "      <td>334.00</td>\n",
       "      <td>...</td>\n",
       "      <td>303.0</td>\n",
       "      <td>243.00</td>\n",
       "      <td>174.00</td>\n",
       "      <td>131.0</td>\n",
       "      <td>102.00</td>\n",
       "      <td>75.00</td>\n",
       "      <td>49.00</td>\n",
       "      <td>23.00</td>\n",
       "      <td>15.00</td>\n",
       "      <td>8.00</td>\n",
       "    </tr>\n",
       "    <tr>\n",
       "      <th>total</th>\n",
       "      <td>27.00</td>\n",
       "      <td>61.0</td>\n",
       "      <td>152.00</td>\n",
       "      <td>256.00</td>\n",
       "      <td>360.00</td>\n",
       "      <td>465.00</td>\n",
       "      <td>571.00</td>\n",
       "      <td>637.00</td>\n",
       "      <td>680.00</td>\n",
       "      <td>671.00</td>\n",
       "      <td>...</td>\n",
       "      <td>610.0</td>\n",
       "      <td>517.00</td>\n",
       "      <td>385.00</td>\n",
       "      <td>332.0</td>\n",
       "      <td>225.00</td>\n",
       "      <td>184.00</td>\n",
       "      <td>113.00</td>\n",
       "      <td>58.00</td>\n",
       "      <td>36.00</td>\n",
       "      <td>21.00</td>\n",
       "    </tr>\n",
       "    <tr>\n",
       "      <th>p_value</th>\n",
       "      <td>0.44</td>\n",
       "      <td>0.2</td>\n",
       "      <td>0.17</td>\n",
       "      <td>0.05</td>\n",
       "      <td>0.01</td>\n",
       "      <td>0.35</td>\n",
       "      <td>0.24</td>\n",
       "      <td>0.01</td>\n",
       "      <td>0.91</td>\n",
       "      <td>0.94</td>\n",
       "      <td>...</td>\n",
       "      <td>0.9</td>\n",
       "      <td>0.19</td>\n",
       "      <td>0.07</td>\n",
       "      <td>0.0</td>\n",
       "      <td>0.18</td>\n",
       "      <td>0.01</td>\n",
       "      <td>0.19</td>\n",
       "      <td>0.15</td>\n",
       "      <td>0.41</td>\n",
       "      <td>0.38</td>\n",
       "    </tr>\n",
       "  </tbody>\n",
       "</table>\n",
       "<p>3 rows × 21 columns</p>\n",
       "</div>"
      ],
      "text/plain": [
       "            20    21      22      23      24      25      26      27      28  \\\n",
       "wins     16.00  36.0   85.00  144.00  206.00  243.00  300.00  354.00  338.00   \n",
       "total    27.00  61.0  152.00  256.00  360.00  465.00  571.00  637.00  680.00   \n",
       "p_value   0.44   0.2    0.17    0.05    0.01    0.35    0.24    0.01    0.91   \n",
       "\n",
       "             29  ...       31      32      33     34      35      36      37  \\\n",
       "wins     334.00  ...    303.0  243.00  174.00  131.0  102.00   75.00   49.00   \n",
       "total    671.00  ...    610.0  517.00  385.00  332.0  225.00  184.00  113.00   \n",
       "p_value    0.94  ...      0.9    0.19    0.07    0.0    0.18    0.01    0.19   \n",
       "\n",
       "            38     39     40  \n",
       "wins     23.00  15.00   8.00  \n",
       "total    58.00  36.00  21.00  \n",
       "p_value   0.15   0.41   0.38  \n",
       "\n",
       "[3 rows x 21 columns]"
      ]
     },
     "execution_count": 103,
     "metadata": {},
     "output_type": "execute_result"
    }
   ],
   "source": [
    "cont_table.loc['p_value'] = cont_table.apply(two_sided_binom, axis=0)\n",
    "cont_table.applymap(lambda x: round(x, 2))"
   ]
  },
  {
   "cell_type": "markdown",
   "metadata": {},
   "source": [
    "We see that when we compute the p_values they are mostly above 0.05."
   ]
  },
  {
   "cell_type": "code",
   "execution_count": 104,
   "metadata": {
    "collapsed": false
   },
   "outputs": [
    {
     "data": {
      "text/plain": [
       "<matplotlib.text.Text at 0x11186ced0>"
      ]
     },
     "execution_count": 104,
     "metadata": {},
     "output_type": "execute_result"
    },
    {
     "data": {
      "image/png": "[encoded data removed]",
      "text/plain": [
       "<matplotlib.figure.Figure at 0x1066c9e50>"
      ]
     },
     "metadata": {},
     "output_type": "display_data"
    }
   ],
   "source": [
    "flips = 21\n",
    "k_values = range(flips + 1)\n",
    "plt.vlines(x, ymin=0, ymax=[binom.pmf(k, p=0.5, n=flips) for k in k_values], lw=4)\n",
    "plt.xlabel('k')\n",
    "plt.ylabel('P(k)')"
   ]
  },
  {
   "cell_type": "markdown",
   "metadata": {},
   "source": [
    "### Let's compute the win percentage of the younger fighter as a function of age difference:"
   ]
  },
  {
   "cell_type": "code",
   "execution_count": 105,
   "metadata": {
    "collapsed": false
   },
   "outputs": [
    {
     "data": {
      "text/plain": [
       "-16.0      1\n",
       "-15.0      1\n",
       "-14.0      5\n",
       "-13.0      9\n",
       "-12.0     15\n",
       "-11.0     17\n",
       "-10.0     28\n",
       "-9.0      37\n",
       "-8.0      69\n",
       "-7.0      97\n",
       "-6.0     105\n",
       "-5.0     139\n",
       "-4.0     169\n",
       "-3.0     207\n",
       "-2.0     246\n",
       "-1.0     287\n",
       " 0.0     271\n",
       " 1.0     257\n",
       " 2.0     289\n",
       " 3.0     287\n",
       " 4.0     221\n",
       " 5.0     185\n",
       " 6.0     154\n",
       " 7.0     119\n",
       " 8.0      96\n",
       " 9.0      77\n",
       " 10.0     51\n",
       " 11.0     29\n",
       " 12.0     27\n",
       " 13.0     12\n",
       " 14.0     11\n",
       " 15.0      7\n",
       " 16.0      3\n",
       " 17.0      2\n",
       "Name: AgeDiff, dtype: int64"
      ]
     },
     "execution_count": 105,
     "metadata": {},
     "output_type": "execute_result"
    }
   ],
   "source": [
    "wins['AgeDiff'] = wins.Age_L - wins.Age\n",
    "wins.AgeDiff = wins.AgeDiff.apply(round)\n",
    "delta_age = wins.AgeDiff.value_counts().sort_index()\n",
    "delta_age"
   ]
  },
  {
   "cell_type": "code",
   "execution_count": 106,
   "metadata": {
    "collapsed": false
   },
   "outputs": [
    {
     "data": {
      "text/plain": [
       "0.0     271\n",
       "1.0     544\n",
       "2.0     535\n",
       "3.0     494\n",
       "4.0     390\n",
       "5.0     324\n",
       "6.0     259\n",
       "7.0     216\n",
       "8.0     165\n",
       "9.0     114\n",
       "10.0     79\n",
       "11.0     46\n",
       "12.0     42\n",
       "13.0     21\n",
       "14.0     16\n",
       "15.0      8\n",
       "16.0      4\n",
       "17.0      2\n",
       "Name: AgeDiff, dtype: int64"
      ]
     },
     "execution_count": 106,
     "metadata": {},
     "output_type": "execute_result"
    }
   ],
   "source": [
    "delta_age_overall = np.abs(wins.AgeDiff).value_counts().sort_index()\n",
    "delta_age_overall"
   ]
  },
  {
   "cell_type": "code",
   "execution_count": 107,
   "metadata": {
    "collapsed": false
   },
   "outputs": [
    {
     "data": {
      "text/plain": [
       "0.0     271\n",
       "1.0     257\n",
       "2.0     289\n",
       "3.0     287\n",
       "4.0     221\n",
       "5.0     185\n",
       "6.0     154\n",
       "7.0     119\n",
       "8.0      96\n",
       "9.0      77\n",
       "10.0     51\n",
       "11.0     29\n",
       "12.0     27\n",
       "13.0     12\n",
       "14.0     11\n",
       "15.0      7\n",
       "16.0      3\n",
       "17.0      2\n",
       "Name: AgeDiff, dtype: int64"
      ]
     },
     "execution_count": 107,
     "metadata": {},
     "output_type": "execute_result"
    }
   ],
   "source": [
    "younger_diff = delta_age.loc[0:17]\n",
    "younger_diff"
   ]
  },
  {
   "cell_type": "code",
   "execution_count": 108,
   "metadata": {
    "collapsed": false
   },
   "outputs": [
    {
     "data": {
      "image/png": "[encoded data removed]",
      "text/plain": [
       "<matplotlib.figure.Figure at 0x114711a50>"
      ]
     },
     "metadata": {},
     "output_type": "display_data"
    }
   ],
   "source": [
    "x = delta_age_overall.index\n",
    "y = 100 * younger_diff / delta_age_overall\n",
    "x = x.values[1:13]\n",
    "y = y.values[1:13]\n",
    "xmin = 1\n",
    "xmax = 12\n",
    "\n",
    "m, b = np.polyfit(x, y, 1)\n",
    "plt.plot([xmin, xmax], [50, 50], 'k:')\n",
    "plt.plot(np.linspace(xmin, xmax), m * np.linspace(xmin, xmax) + b, 'k-')\n",
    "plt.plot(x, y, 'wo', ms=7)\n",
    "plt.xlim(xmin, xmax)\n",
    "plt.ylim(0, 100)\n",
    "plt.xticks(range(1, 13))\n",
    "plt.xlabel('Age difference (years)')\n",
    "plt.ylabel('Win percentage of younger fighter')\n",
    "plt.savefig('report/age/win_percent_of_younger.pdf', bbox_inches='tight')"
   ]
  },
  {
   "cell_type": "markdown",
   "metadata": {},
   "source": [
    "Let's check the test case of 4:"
   ]
  },
  {
   "cell_type": "code",
   "execution_count": 109,
   "metadata": {
    "collapsed": false
   },
   "outputs": [
    {
     "data": {
      "text/plain": [
       "221"
      ]
     },
     "execution_count": 109,
     "metadata": {},
     "output_type": "execute_result"
    }
   ],
   "source": [
    "wins[wins.AgeDiff == 4][['Winner', 'Loser', 'Age', 'Age_L', 'AgeDiff']].shape[0]"
   ]
  },
  {
   "cell_type": "code",
   "execution_count": 110,
   "metadata": {
    "collapsed": false
   },
   "outputs": [
    {
     "data": {
      "text/plain": [
       "169"
      ]
     },
     "execution_count": 110,
     "metadata": {},
     "output_type": "execute_result"
    }
   ],
   "source": [
    "wins[wins.AgeDiff == -4][['Winner', 'Loser', 'Age', 'Age_L', 'AgeDiff']].shape[0]"
   ]
  },
  {
   "cell_type": "code",
   "execution_count": 111,
   "metadata": {
    "collapsed": false
   },
   "outputs": [
    {
     "data": {
      "text/plain": [
       "0.5666666666666667"
      ]
     },
     "execution_count": 111,
     "metadata": {},
     "output_type": "execute_result"
    }
   ],
   "source": [
    "221 / (221 + 169.0)"
   ]
  },
  {
   "cell_type": "markdown",
   "metadata": {},
   "source": [
    "This is the correct answer."
   ]
  },
  {
   "cell_type": "code",
   "execution_count": 112,
   "metadata": {
    "collapsed": false
   },
   "outputs": [
    {
     "name": "stdout",
     "output_type": "stream",
     "text": [
      "0.836782557943 0.000688864230938\n",
      "0.832167832168 0.000785441677854\n"
     ]
    }
   ],
   "source": [
    "corr_pearson, p_value_pearson = pearsonr(x, y)\n",
    "corr_spearman, p_value_spearman = spearmanr(x, y)\n",
    "print corr_pearson, p_value_pearson\n",
    "print corr_spearman, p_value_spearman"
   ]
  },
  {
   "cell_type": "markdown",
   "metadata": {},
   "source": [
    "When the age difference is 1, we see the null hypothesis of independence holds:"
   ]
  },
  {
   "cell_type": "code",
   "execution_count": 113,
   "metadata": {
    "collapsed": false
   },
   "outputs": [
    {
     "data": {
      "text/plain": [
       "0.10684763884684148"
      ]
     },
     "execution_count": 113,
     "metadata": {},
     "output_type": "execute_result"
    }
   ],
   "source": [
    "binom.cdf(p=0.5, k=257, n=257+287)"
   ]
  },
  {
   "cell_type": "markdown",
   "metadata": {},
   "source": [
    "Let's create a table of the data:"
   ]
  },
  {
   "cell_type": "code",
   "execution_count": 114,
   "metadata": {
    "collapsed": false
   },
   "outputs": [
    {
     "data": {
      "text/plain": [
       "14.0      5\n",
       "13.0      9\n",
       "12.0     15\n",
       "11.0     17\n",
       "10.0     28\n",
       "9.0      37\n",
       "8.0      69\n",
       "7.0      97\n",
       "6.0     105\n",
       "5.0     139\n",
       "4.0     169\n",
       "3.0     207\n",
       "2.0     246\n",
       "1.0     287\n",
       "Name: AgeDiff, dtype: int64"
      ]
     },
     "execution_count": 114,
     "metadata": {},
     "output_type": "execute_result"
    }
   ],
   "source": [
    "older = delta_age.iloc[2:16]\n",
    "older.index = older.index.map(abs)\n",
    "older"
   ]
  },
  {
   "cell_type": "code",
   "execution_count": 115,
   "metadata": {
    "collapsed": false
   },
   "outputs": [
    {
     "data": {
      "text/plain": [
       "1.0     257\n",
       "2.0     289\n",
       "3.0     287\n",
       "4.0     221\n",
       "5.0     185\n",
       "6.0     154\n",
       "7.0     119\n",
       "8.0      96\n",
       "9.0      77\n",
       "10.0     51\n",
       "11.0     29\n",
       "12.0     27\n",
       "13.0     12\n",
       "14.0     11\n",
       "Name: AgeDiff, dtype: int64"
      ]
     },
     "execution_count": 115,
     "metadata": {},
     "output_type": "execute_result"
    }
   ],
   "source": [
    "younger = delta_age.iloc[17:31]\n",
    "younger"
   ]
  },
  {
   "cell_type": "markdown",
   "metadata": {},
   "source": [
    "The table below shows that number of wins by the older and younger fighter for the given age difference:"
   ]
  },
  {
   "cell_type": "code",
   "execution_count": 116,
   "metadata": {
    "collapsed": false
   },
   "outputs": [
    {
     "data": {
      "text/html": [
       "<div>\n",
       "<table border=\"1\" class=\"dataframe\">\n",
       "  <thead>\n",
       "    <tr style=\"text-align: right;\">\n",
       "      <th></th>\n",
       "      <th>1.0</th>\n",
       "      <th>2.0</th>\n",
       "      <th>3.0</th>\n",
       "      <th>4.0</th>\n",
       "      <th>5.0</th>\n",
       "      <th>6.0</th>\n",
       "      <th>7.0</th>\n",
       "      <th>8.0</th>\n",
       "      <th>9.0</th>\n",
       "      <th>10.0</th>\n",
       "      <th>11.0</th>\n",
       "      <th>12.0</th>\n",
       "      <th>13.0</th>\n",
       "      <th>14.0</th>\n",
       "    </tr>\n",
       "  </thead>\n",
       "  <tbody>\n",
       "    <tr>\n",
       "      <th>older</th>\n",
       "      <td>287</td>\n",
       "      <td>246</td>\n",
       "      <td>207</td>\n",
       "      <td>169</td>\n",
       "      <td>139</td>\n",
       "      <td>105</td>\n",
       "      <td>97</td>\n",
       "      <td>69</td>\n",
       "      <td>37</td>\n",
       "      <td>28</td>\n",
       "      <td>17</td>\n",
       "      <td>15</td>\n",
       "      <td>9</td>\n",
       "      <td>5</td>\n",
       "    </tr>\n",
       "    <tr>\n",
       "      <th>younger</th>\n",
       "      <td>257</td>\n",
       "      <td>289</td>\n",
       "      <td>287</td>\n",
       "      <td>221</td>\n",
       "      <td>185</td>\n",
       "      <td>154</td>\n",
       "      <td>119</td>\n",
       "      <td>96</td>\n",
       "      <td>77</td>\n",
       "      <td>51</td>\n",
       "      <td>29</td>\n",
       "      <td>27</td>\n",
       "      <td>12</td>\n",
       "      <td>11</td>\n",
       "    </tr>\n",
       "  </tbody>\n",
       "</table>\n",
       "</div>"
      ],
      "text/plain": [
       "         1.0   2.0   3.0   4.0   5.0   6.0   7.0   8.0   9.0   10.0  11.0  \\\n",
       "older     287   246   207   169   139   105    97    69    37    28    17   \n",
       "younger   257   289   287   221   185   154   119    96    77    51    29   \n",
       "\n",
       "         12.0  13.0  14.0  \n",
       "older      15     9     5  \n",
       "younger    27    12    11  "
      ]
     },
     "execution_count": 116,
     "metadata": {},
     "output_type": "execute_result"
    }
   ],
   "source": [
    "cont_table = pd.DataFrame([older, younger])\n",
    "cont_table.index = ['older', 'younger']\n",
    "cont_table"
   ]
  },
  {
   "cell_type": "code",
   "execution_count": 117,
   "metadata": {
    "collapsed": false
   },
   "outputs": [
    {
     "name": "stdout",
     "output_type": "stream",
     "text": [
      "32.2035548642 0.00224088040429 False\n"
     ]
    }
   ],
   "source": [
    "chi_sq, p_value, dof, expect = chi2_contingency(cont_table)\n",
    "print chi_sq, p_value, p_value > 0.05"
   ]
  },
  {
   "cell_type": "code",
   "execution_count": 118,
   "metadata": {
    "collapsed": false
   },
   "outputs": [
    {
     "data": {
      "text/plain": [
       "0.099619545709053139"
      ]
     },
     "execution_count": 118,
     "metadata": {},
     "output_type": "execute_result"
    }
   ],
   "source": [
    "N = cont_table.sum().sum()\n",
    "V = (chi_sq / (N * min(2 - 1, 14 - 1)))**0.5\n",
    "V"
   ]
  },
  {
   "cell_type": "code",
   "execution_count": 119,
   "metadata": {
    "collapsed": true
   },
   "outputs": [],
   "source": [
    "def two_sided_binom(x):\n",
    "     wins = float(x[0])\n",
    "     total = x[0] + x[1]\n",
    "     if wins / total == 0.5:\n",
    "          return 1.0\n",
    "     elif wins / total < 0.5:\n",
    "          return 2 * binom.cdf(p=0.5, k=wins, n=total)\n",
    "     else:\n",
    "          return 2 * (1.0 - binom.cdf(p=0.5, k=wins-1, n=total))"
   ]
  },
  {
   "cell_type": "code",
   "execution_count": 120,
   "metadata": {
    "collapsed": false
   },
   "outputs": [
    {
     "data": {
      "text/html": [
       "<div>\n",
       "<table border=\"1\" class=\"dataframe\">\n",
       "  <thead>\n",
       "    <tr style=\"text-align: right;\">\n",
       "      <th></th>\n",
       "      <th>1.0</th>\n",
       "      <th>2.0</th>\n",
       "      <th>3.0</th>\n",
       "      <th>4.0</th>\n",
       "      <th>5.0</th>\n",
       "      <th>6.0</th>\n",
       "      <th>7.0</th>\n",
       "      <th>8.0</th>\n",
       "      <th>9.0</th>\n",
       "      <th>10.0</th>\n",
       "      <th>11.0</th>\n",
       "      <th>12.0</th>\n",
       "      <th>13.0</th>\n",
       "      <th>14.0</th>\n",
       "    </tr>\n",
       "  </thead>\n",
       "  <tbody>\n",
       "    <tr>\n",
       "      <th>older</th>\n",
       "      <td>287.00</td>\n",
       "      <td>246.00</td>\n",
       "      <td>207.0</td>\n",
       "      <td>169.00</td>\n",
       "      <td>139.00</td>\n",
       "      <td>105.0</td>\n",
       "      <td>97.00</td>\n",
       "      <td>69.00</td>\n",
       "      <td>37.0</td>\n",
       "      <td>28.00</td>\n",
       "      <td>17.0</td>\n",
       "      <td>15.00</td>\n",
       "      <td>9.00</td>\n",
       "      <td>5.00</td>\n",
       "    </tr>\n",
       "    <tr>\n",
       "      <th>younger</th>\n",
       "      <td>257.00</td>\n",
       "      <td>289.00</td>\n",
       "      <td>287.0</td>\n",
       "      <td>221.00</td>\n",
       "      <td>185.00</td>\n",
       "      <td>154.0</td>\n",
       "      <td>119.00</td>\n",
       "      <td>96.00</td>\n",
       "      <td>77.0</td>\n",
       "      <td>51.00</td>\n",
       "      <td>29.0</td>\n",
       "      <td>27.00</td>\n",
       "      <td>12.00</td>\n",
       "      <td>11.00</td>\n",
       "    </tr>\n",
       "    <tr>\n",
       "      <th>p_value</th>\n",
       "      <td>0.21</td>\n",
       "      <td>0.07</td>\n",
       "      <td>0.0</td>\n",
       "      <td>0.01</td>\n",
       "      <td>0.01</td>\n",
       "      <td>0.0</td>\n",
       "      <td>0.15</td>\n",
       "      <td>0.04</td>\n",
       "      <td>0.0</td>\n",
       "      <td>0.01</td>\n",
       "      <td>0.1</td>\n",
       "      <td>0.09</td>\n",
       "      <td>0.66</td>\n",
       "      <td>0.21</td>\n",
       "    </tr>\n",
       "  </tbody>\n",
       "</table>\n",
       "</div>"
      ],
      "text/plain": [
       "           1.0     2.0    3.0     4.0     5.0    6.0     7.0    8.0   9.0   \\\n",
       "older    287.00  246.00  207.0  169.00  139.00  105.0   97.00  69.00  37.0   \n",
       "younger  257.00  289.00  287.0  221.00  185.00  154.0  119.00  96.00  77.0   \n",
       "p_value    0.21    0.07    0.0    0.01    0.01    0.0    0.15   0.04   0.0   \n",
       "\n",
       "          10.0  11.0   12.0   13.0   14.0  \n",
       "older    28.00  17.0  15.00   9.00   5.00  \n",
       "younger  51.00  29.0  27.00  12.00  11.00  \n",
       "p_value   0.01   0.1   0.09   0.66   0.21  "
      ]
     },
     "execution_count": 120,
     "metadata": {},
     "output_type": "execute_result"
    }
   ],
   "source": [
    "cont_table.loc['p_value'] = cont_table.apply(two_sided_binom, axis=0)\n",
    "cont_table.applymap(lambda x: round(x, 2))"
   ]
  },
  {
   "cell_type": "markdown",
   "metadata": {},
   "source": [
    "# Youngest and oldest fighters"
   ]
  },
  {
   "cell_type": "code",
   "execution_count": 121,
   "metadata": {
    "collapsed": false
   },
   "outputs": [
    {
     "data": {
      "text/html": [
       "<div>\n",
       "<table border=\"1\" class=\"dataframe\">\n",
       "  <thead>\n",
       "    <tr style=\"text-align: right;\">\n",
       "      <th></th>\n",
       "      <th>Winner</th>\n",
       "      <th>Outcome</th>\n",
       "      <th>Loser</th>\n",
       "      <th>WeightClass</th>\n",
       "      <th>Method</th>\n",
       "      <th>MethodNotes</th>\n",
       "      <th>Round</th>\n",
       "      <th>Time</th>\n",
       "      <th>Event</th>\n",
       "      <th>Date</th>\n",
       "      <th>Location</th>\n",
       "    </tr>\n",
       "  </thead>\n",
       "  <tbody>\n",
       "    <tr>\n",
       "      <th>527</th>\n",
       "      <td>Robbie Lawler</td>\n",
       "      <td>def.</td>\n",
       "      <td>Carlos Condit</td>\n",
       "      <td>Welterweight</td>\n",
       "      <td>S-DEC</td>\n",
       "      <td>NaN</td>\n",
       "      <td>5</td>\n",
       "      <td>5:00</td>\n",
       "      <td>UFC 195: Lawler vs Condit</td>\n",
       "      <td>2016-01-02</td>\n",
       "      <td>Las Vegas, Nevada, USA</td>\n",
       "    </tr>\n",
       "    <tr>\n",
       "      <th>765</th>\n",
       "      <td>Robbie Lawler</td>\n",
       "      <td>def.</td>\n",
       "      <td>Rory MacDonald</td>\n",
       "      <td>Welterweight</td>\n",
       "      <td>KO/TKO</td>\n",
       "      <td>Punch</td>\n",
       "      <td>5</td>\n",
       "      <td>1:00</td>\n",
       "      <td>UFC 189: Mendes vs McGregor</td>\n",
       "      <td>2015-07-11</td>\n",
       "      <td>Las Vegas, Nevada, USA</td>\n",
       "    </tr>\n",
       "    <tr>\n",
       "      <th>1047</th>\n",
       "      <td>Robbie Lawler</td>\n",
       "      <td>def.</td>\n",
       "      <td>Johny Hendricks</td>\n",
       "      <td>Welterweight</td>\n",
       "      <td>S-DEC</td>\n",
       "      <td>NaN</td>\n",
       "      <td>5</td>\n",
       "      <td>5:00</td>\n",
       "      <td>UFC 181: Hendricks vs Lawler II</td>\n",
       "      <td>2014-12-06</td>\n",
       "      <td>Las Vegas, Nevada, USA</td>\n",
       "    </tr>\n",
       "    <tr>\n",
       "      <th>1218</th>\n",
       "      <td>Robbie Lawler</td>\n",
       "      <td>def.</td>\n",
       "      <td>Matt Brown</td>\n",
       "      <td>Welterweight</td>\n",
       "      <td>U-DEC</td>\n",
       "      <td>NaN</td>\n",
       "      <td>5</td>\n",
       "      <td>5:00</td>\n",
       "      <td>UFC on Fox: Lawler vs Brown</td>\n",
       "      <td>2014-07-26</td>\n",
       "      <td>San Jose, California, USA</td>\n",
       "    </tr>\n",
       "    <tr>\n",
       "      <th>1339</th>\n",
       "      <td>Robbie Lawler</td>\n",
       "      <td>def.</td>\n",
       "      <td>Jake Ellenberger</td>\n",
       "      <td>Welterweight</td>\n",
       "      <td>KO/TKO</td>\n",
       "      <td>Knee</td>\n",
       "      <td>3</td>\n",
       "      <td>3:06</td>\n",
       "      <td>UFC 173: Barao vs Dillashaw</td>\n",
       "      <td>2014-05-24</td>\n",
       "      <td>Las Vegas, Nevada, USA</td>\n",
       "    </tr>\n",
       "    <tr>\n",
       "      <th>1560</th>\n",
       "      <td>Robbie Lawler</td>\n",
       "      <td>def.</td>\n",
       "      <td>Rory MacDonald</td>\n",
       "      <td>Welterweight</td>\n",
       "      <td>S-DEC</td>\n",
       "      <td>NaN</td>\n",
       "      <td>3</td>\n",
       "      <td>5:00</td>\n",
       "      <td>UFC 167: St-Pierre vs Hendricks</td>\n",
       "      <td>2013-11-16</td>\n",
       "      <td>Las Vegas, Nevada, USA</td>\n",
       "    </tr>\n",
       "    <tr>\n",
       "      <th>1704</th>\n",
       "      <td>Robbie Lawler</td>\n",
       "      <td>def.</td>\n",
       "      <td>Bobby Voelker</td>\n",
       "      <td>Welterweight</td>\n",
       "      <td>KO/TKO</td>\n",
       "      <td>Kick</td>\n",
       "      <td>2</td>\n",
       "      <td>0:24</td>\n",
       "      <td>UFC on Fox: Johnson vs Moraga</td>\n",
       "      <td>2013-07-27</td>\n",
       "      <td>Seattle, Washington, USA</td>\n",
       "    </tr>\n",
       "    <tr>\n",
       "      <th>1848</th>\n",
       "      <td>Robbie Lawler</td>\n",
       "      <td>def.</td>\n",
       "      <td>Josh Koscheck</td>\n",
       "      <td>Welterweight</td>\n",
       "      <td>KO/TKO</td>\n",
       "      <td>Punches</td>\n",
       "      <td>1</td>\n",
       "      <td>3:57</td>\n",
       "      <td>UFC 157: Rousey vs Carmouche</td>\n",
       "      <td>2013-02-23</td>\n",
       "      <td>Anaheim, California, USA</td>\n",
       "    </tr>\n",
       "    <tr>\n",
       "      <th>3663</th>\n",
       "      <td>Robbie Lawler</td>\n",
       "      <td>def.</td>\n",
       "      <td>Chris Lytle</td>\n",
       "      <td>Welterweight</td>\n",
       "      <td>U-DEC</td>\n",
       "      <td>NaN</td>\n",
       "      <td>3</td>\n",
       "      <td>5:00</td>\n",
       "      <td>UFC 45: Revolution</td>\n",
       "      <td>2003-11-21</td>\n",
       "      <td>Uncasville, Connecticut, USA</td>\n",
       "    </tr>\n",
       "    <tr>\n",
       "      <th>3704</th>\n",
       "      <td>Robbie Lawler</td>\n",
       "      <td>def.</td>\n",
       "      <td>Tiki Ghosn</td>\n",
       "      <td>Welterweight</td>\n",
       "      <td>KO/TKO</td>\n",
       "      <td>Punch</td>\n",
       "      <td>1</td>\n",
       "      <td>1:29</td>\n",
       "      <td>UFC 40: Vendetta</td>\n",
       "      <td>2002-11-22</td>\n",
       "      <td>Las Vegas, Nevada, USA</td>\n",
       "    </tr>\n",
       "    <tr>\n",
       "      <th>3726</th>\n",
       "      <td>Robbie Lawler</td>\n",
       "      <td>def.</td>\n",
       "      <td>Steve Berger</td>\n",
       "      <td>Welterweight</td>\n",
       "      <td>KO/TKO</td>\n",
       "      <td>Punch</td>\n",
       "      <td>2</td>\n",
       "      <td>0:27</td>\n",
       "      <td>UFC 37.5: As Real As It Gets</td>\n",
       "      <td>2002-06-22</td>\n",
       "      <td>Las Vegas, Nevada, USA</td>\n",
       "    </tr>\n",
       "    <tr>\n",
       "      <th>3736</th>\n",
       "      <td>Robbie Lawler</td>\n",
       "      <td>def.</td>\n",
       "      <td>Aaron Riley</td>\n",
       "      <td>Welterweight</td>\n",
       "      <td>U-DEC</td>\n",
       "      <td>NaN</td>\n",
       "      <td>3</td>\n",
       "      <td>5:00</td>\n",
       "      <td>UFC 37: High Impact</td>\n",
       "      <td>2002-05-10</td>\n",
       "      <td>Bossier City, Louisiana, USA</td>\n",
       "    </tr>\n",
       "  </tbody>\n",
       "</table>\n",
       "</div>"
      ],
      "text/plain": [
       "             Winner Outcome             Loser   WeightClass  Method  \\\n",
       "527   Robbie Lawler    def.     Carlos Condit  Welterweight   S-DEC   \n",
       "765   Robbie Lawler    def.    Rory MacDonald  Welterweight  KO/TKO   \n",
       "1047  Robbie Lawler    def.   Johny Hendricks  Welterweight   S-DEC   \n",
       "1218  Robbie Lawler    def.        Matt Brown  Welterweight   U-DEC   \n",
       "1339  Robbie Lawler    def.  Jake Ellenberger  Welterweight  KO/TKO   \n",
       "1560  Robbie Lawler    def.    Rory MacDonald  Welterweight   S-DEC   \n",
       "1704  Robbie Lawler    def.     Bobby Voelker  Welterweight  KO/TKO   \n",
       "1848  Robbie Lawler    def.     Josh Koscheck  Welterweight  KO/TKO   \n",
       "3663  Robbie Lawler    def.       Chris Lytle  Welterweight   U-DEC   \n",
       "3704  Robbie Lawler    def.        Tiki Ghosn  Welterweight  KO/TKO   \n",
       "3726  Robbie Lawler    def.      Steve Berger  Welterweight  KO/TKO   \n",
       "3736  Robbie Lawler    def.       Aaron Riley  Welterweight   U-DEC   \n",
       "\n",
       "     MethodNotes  Round  Time                            Event       Date  \\\n",
       "527          NaN      5  5:00        UFC 195: Lawler vs Condit 2016-01-02   \n",
       "765        Punch      5  1:00      UFC 189: Mendes vs McGregor 2015-07-11   \n",
       "1047         NaN      5  5:00  UFC 181: Hendricks vs Lawler II 2014-12-06   \n",
       "1218         NaN      5  5:00      UFC on Fox: Lawler vs Brown 2014-07-26   \n",
       "1339        Knee      3  3:06      UFC 173: Barao vs Dillashaw 2014-05-24   \n",
       "1560         NaN      3  5:00  UFC 167: St-Pierre vs Hendricks 2013-11-16   \n",
       "1704        Kick      2  0:24    UFC on Fox: Johnson vs Moraga 2013-07-27   \n",
       "1848     Punches      1  3:57     UFC 157: Rousey vs Carmouche 2013-02-23   \n",
       "3663         NaN      3  5:00               UFC 45: Revolution 2003-11-21   \n",
       "3704       Punch      1  1:29                 UFC 40: Vendetta 2002-11-22   \n",
       "3726       Punch      2  0:27     UFC 37.5: As Real As It Gets 2002-06-22   \n",
       "3736         NaN      3  5:00              UFC 37: High Impact 2002-05-10   \n",
       "\n",
       "                          Location  \n",
       "527         Las Vegas, Nevada, USA  \n",
       "765         Las Vegas, Nevada, USA  \n",
       "1047        Las Vegas, Nevada, USA  \n",
       "1218     San Jose, California, USA  \n",
       "1339        Las Vegas, Nevada, USA  \n",
       "1560        Las Vegas, Nevada, USA  \n",
       "1704      Seattle, Washington, USA  \n",
       "1848      Anaheim, California, USA  \n",
       "3663  Uncasville, Connecticut, USA  \n",
       "3704        Las Vegas, Nevada, USA  \n",
       "3726        Las Vegas, Nevada, USA  \n",
       "3736  Bossier City, Louisiana, USA  "
      ]
     },
     "execution_count": 121,
     "metadata": {},
     "output_type": "execute_result"
    }
   ],
   "source": [
    "fights[fights.Winner == 'Robbie Lawler']"
   ]
  },
  {
   "cell_type": "code",
   "execution_count": 122,
   "metadata": {
    "collapsed": false
   },
   "outputs": [
    {
     "data": {
      "text/html": [
       "<div>\n",
       "<table border=\"1\" class=\"dataframe\">\n",
       "  <thead>\n",
       "    <tr style=\"text-align: right;\">\n",
       "      <th></th>\n",
       "      <th>index</th>\n",
       "      <th>Age</th>\n",
       "    </tr>\n",
       "  </thead>\n",
       "  <tbody>\n",
       "    <tr>\n",
       "      <th>0</th>\n",
       "      <td>Sean Daugherty</td>\n",
       "      <td>18.3</td>\n",
       "    </tr>\n",
       "    <tr>\n",
       "      <th>1</th>\n",
       "      <td>Dan Lauzon</td>\n",
       "      <td>18.5</td>\n",
       "    </tr>\n",
       "    <tr>\n",
       "      <th>2</th>\n",
       "      <td>Sage Northcutt</td>\n",
       "      <td>19.6</td>\n",
       "    </tr>\n",
       "    <tr>\n",
       "      <th>3</th>\n",
       "      <td>Vitor Belfort</td>\n",
       "      <td>19.9</td>\n",
       "    </tr>\n",
       "    <tr>\n",
       "      <th>4</th>\n",
       "      <td>Jake Matthews</td>\n",
       "      <td>19.9</td>\n",
       "    </tr>\n",
       "    <tr>\n",
       "      <th>5</th>\n",
       "      <td>Larissa Pacheco</td>\n",
       "      <td>20.0</td>\n",
       "    </tr>\n",
       "    <tr>\n",
       "      <th>6</th>\n",
       "      <td>Robbie Lawler</td>\n",
       "      <td>20.1</td>\n",
       "    </tr>\n",
       "    <tr>\n",
       "      <th>7</th>\n",
       "      <td>Nick Diaz</td>\n",
       "      <td>20.2</td>\n",
       "    </tr>\n",
       "    <tr>\n",
       "      <th>8</th>\n",
       "      <td>Max Holloway</td>\n",
       "      <td>20.2</td>\n",
       "    </tr>\n",
       "    <tr>\n",
       "      <th>9</th>\n",
       "      <td>Michael McDonald</td>\n",
       "      <td>20.2</td>\n",
       "    </tr>\n",
       "    <tr>\n",
       "      <th>10</th>\n",
       "      <td>Sergio Pettis</td>\n",
       "      <td>20.2</td>\n",
       "    </tr>\n",
       "    <tr>\n",
       "      <th>11</th>\n",
       "      <td>Dustin Hazelett</td>\n",
       "      <td>20.4</td>\n",
       "    </tr>\n",
       "    <tr>\n",
       "      <th>12</th>\n",
       "      <td>Rory MacDonald</td>\n",
       "      <td>20.5</td>\n",
       "    </tr>\n",
       "    <tr>\n",
       "      <th>13</th>\n",
       "      <td>Claudio Puelles</td>\n",
       "      <td>20.5</td>\n",
       "    </tr>\n",
       "    <tr>\n",
       "      <th>14</th>\n",
       "      <td>Tamdan McCrory</td>\n",
       "      <td>20.6</td>\n",
       "    </tr>\n",
       "    <tr>\n",
       "      <th>15</th>\n",
       "      <td>Paige VanZant</td>\n",
       "      <td>20.7</td>\n",
       "    </tr>\n",
       "    <tr>\n",
       "      <th>16</th>\n",
       "      <td>Ray Borg</td>\n",
       "      <td>20.7</td>\n",
       "    </tr>\n",
       "    <tr>\n",
       "      <th>17</th>\n",
       "      <td>Andy Anderson</td>\n",
       "      <td>20.7</td>\n",
       "    </tr>\n",
       "    <tr>\n",
       "      <th>18</th>\n",
       "      <td>Charles Oliveira</td>\n",
       "      <td>20.8</td>\n",
       "    </tr>\n",
       "    <tr>\n",
       "      <th>19</th>\n",
       "      <td>Veronica Macedo</td>\n",
       "      <td>20.8</td>\n",
       "    </tr>\n",
       "    <tr>\n",
       "      <th>20</th>\n",
       "      <td>John Alessio</td>\n",
       "      <td>20.9</td>\n",
       "    </tr>\n",
       "    <tr>\n",
       "      <th>21</th>\n",
       "      <td>Jeremy Stephens</td>\n",
       "      <td>21.0</td>\n",
       "    </tr>\n",
       "    <tr>\n",
       "      <th>22</th>\n",
       "      <td>Stefan Struve</td>\n",
       "      <td>21.0</td>\n",
       "    </tr>\n",
       "    <tr>\n",
       "      <th>23</th>\n",
       "      <td>Jeremy Jackson</td>\n",
       "      <td>21.0</td>\n",
       "    </tr>\n",
       "    <tr>\n",
       "      <th>24</th>\n",
       "      <td>Jon Jones</td>\n",
       "      <td>21.1</td>\n",
       "    </tr>\n",
       "    <tr>\n",
       "      <th>25</th>\n",
       "      <td>Karo Parisyan</td>\n",
       "      <td>21.1</td>\n",
       "    </tr>\n",
       "    <tr>\n",
       "      <th>26</th>\n",
       "      <td>Edwin DeWees</td>\n",
       "      <td>21.1</td>\n",
       "    </tr>\n",
       "    <tr>\n",
       "      <th>27</th>\n",
       "      <td>Daiju Takase</td>\n",
       "      <td>21.2</td>\n",
       "    </tr>\n",
       "    <tr>\n",
       "      <th>28</th>\n",
       "      <td>Terry Etim</td>\n",
       "      <td>21.3</td>\n",
       "    </tr>\n",
       "    <tr>\n",
       "      <th>29</th>\n",
       "      <td>Arnold Allen</td>\n",
       "      <td>21.4</td>\n",
       "    </tr>\n",
       "  </tbody>\n",
       "</table>\n",
       "</div>"
      ],
      "text/plain": [
       "               index   Age\n",
       "0     Sean Daugherty  18.3\n",
       "1         Dan Lauzon  18.5\n",
       "2     Sage Northcutt  19.6\n",
       "3      Vitor Belfort  19.9\n",
       "4      Jake Matthews  19.9\n",
       "5    Larissa Pacheco  20.0\n",
       "6      Robbie Lawler  20.1\n",
       "7          Nick Diaz  20.2\n",
       "8       Max Holloway  20.2\n",
       "9   Michael McDonald  20.2\n",
       "10     Sergio Pettis  20.2\n",
       "11   Dustin Hazelett  20.4\n",
       "12    Rory MacDonald  20.5\n",
       "13   Claudio Puelles  20.5\n",
       "14    Tamdan McCrory  20.6\n",
       "15     Paige VanZant  20.7\n",
       "16          Ray Borg  20.7\n",
       "17     Andy Anderson  20.7\n",
       "18  Charles Oliveira  20.8\n",
       "19   Veronica Macedo  20.8\n",
       "20      John Alessio  20.9\n",
       "21   Jeremy Stephens  21.0\n",
       "22     Stefan Struve  21.0\n",
       "23    Jeremy Jackson  21.0\n",
       "24         Jon Jones  21.1\n",
       "25     Karo Parisyan  21.1\n",
       "26      Edwin DeWees  21.1\n",
       "27      Daiju Takase  21.2\n",
       "28        Terry Etim  21.3\n",
       "29      Arnold Allen  21.4"
      ]
     },
     "execution_count": 122,
     "metadata": {},
     "output_type": "execute_result"
    }
   ],
   "source": [
    "all_wins = df[pd.notnull(df.Dob)].copy()\n",
    "all_wins['Age'] = (all_wins.Date - all_wins.Dob) / np.timedelta64(1, 'Y')\n",
    "\n",
    "all_loses = df[pd.notnull(df.Dob_L)].copy()\n",
    "all_loses['Age'] = (all_loses.Date - all_loses.Dob_L) / np.timedelta64(1, 'Y')\n",
    "\n",
    "youngest_winners = all_wins.groupby('Winner').agg({'Age':min})\n",
    "youngest_losers = all_loses.groupby('Loser').agg({'Age':min})\n",
    "youngest = youngest_winners.append(youngest_losers).reset_index()\n",
    "youngest = youngest.groupby('index').agg({'Age':min}).sort_values('Age').applymap(lambda x: round(x, 1)).reset_index()[:30]\n",
    "youngest"
   ]
  },
  {
   "cell_type": "code",
   "execution_count": 123,
   "metadata": {
    "collapsed": false
   },
   "outputs": [
    {
     "data": {
      "text/html": [
       "<div>\n",
       "<table border=\"1\" class=\"dataframe\">\n",
       "  <thead>\n",
       "    <tr style=\"text-align: right;\">\n",
       "      <th></th>\n",
       "      <th>index</th>\n",
       "      <th>Age</th>\n",
       "    </tr>\n",
       "  </thead>\n",
       "  <tbody>\n",
       "    <tr>\n",
       "      <th>0</th>\n",
       "      <td>Ron van Clief</td>\n",
       "      <td>51.9</td>\n",
       "    </tr>\n",
       "    <tr>\n",
       "      <th>1</th>\n",
       "      <td>Randy Couture</td>\n",
       "      <td>47.9</td>\n",
       "    </tr>\n",
       "    <tr>\n",
       "      <th>2</th>\n",
       "      <td>Dan Henderson</td>\n",
       "      <td>46.1</td>\n",
       "    </tr>\n",
       "    <tr>\n",
       "      <th>3</th>\n",
       "      <td>Mark Coleman</td>\n",
       "      <td>45.1</td>\n",
       "    </tr>\n",
       "    <tr>\n",
       "      <th>4</th>\n",
       "      <td>Anthony Perosh</td>\n",
       "      <td>43.1</td>\n",
       "    </tr>\n",
       "    <tr>\n",
       "      <th>5</th>\n",
       "      <td>Renzo Gracie</td>\n",
       "      <td>43.1</td>\n",
       "    </tr>\n",
       "    <tr>\n",
       "      <th>6</th>\n",
       "      <td>Ken Shamrock</td>\n",
       "      <td>42.7</td>\n",
       "    </tr>\n",
       "    <tr>\n",
       "      <th>7</th>\n",
       "      <td>Mark Hunt</td>\n",
       "      <td>42.3</td>\n",
       "    </tr>\n",
       "    <tr>\n",
       "      <th>8</th>\n",
       "      <td>Dan Severn</td>\n",
       "      <td>42.3</td>\n",
       "    </tr>\n",
       "    <tr>\n",
       "      <th>9</th>\n",
       "      <td>Cung Le</td>\n",
       "      <td>42.2</td>\n",
       "    </tr>\n",
       "    <tr>\n",
       "      <th>10</th>\n",
       "      <td>Vladimir Matyushenko</td>\n",
       "      <td>42.1</td>\n",
       "    </tr>\n",
       "    <tr>\n",
       "      <th>11</th>\n",
       "      <td>James Toney</td>\n",
       "      <td>42.0</td>\n",
       "    </tr>\n",
       "    <tr>\n",
       "      <th>12</th>\n",
       "      <td>Anderson Silva</td>\n",
       "      <td>41.8</td>\n",
       "    </tr>\n",
       "    <tr>\n",
       "      <th>13</th>\n",
       "      <td>Jason Reinhardt</td>\n",
       "      <td>41.8</td>\n",
       "    </tr>\n",
       "    <tr>\n",
       "      <th>14</th>\n",
       "      <td>Mike Pyle</td>\n",
       "      <td>41.3</td>\n",
       "    </tr>\n",
       "    <tr>\n",
       "      <th>15</th>\n",
       "      <td>Antonio McKee</td>\n",
       "      <td>40.8</td>\n",
       "    </tr>\n",
       "    <tr>\n",
       "      <th>16</th>\n",
       "      <td>Mike van Arsdale</td>\n",
       "      <td>40.6</td>\n",
       "    </tr>\n",
       "    <tr>\n",
       "      <th>17</th>\n",
       "      <td>Mirko Cro Cop</td>\n",
       "      <td>40.6</td>\n",
       "    </tr>\n",
       "    <tr>\n",
       "      <th>18</th>\n",
       "      <td>Tra Telligman</td>\n",
       "      <td>40.5</td>\n",
       "    </tr>\n",
       "    <tr>\n",
       "      <th>19</th>\n",
       "      <td>Chuck Liddell</td>\n",
       "      <td>40.5</td>\n",
       "    </tr>\n",
       "    <tr>\n",
       "      <th>20</th>\n",
       "      <td>Rogerio Nogueira</td>\n",
       "      <td>40.5</td>\n",
       "    </tr>\n",
       "    <tr>\n",
       "      <th>21</th>\n",
       "      <td>Cyrille Diabate</td>\n",
       "      <td>40.4</td>\n",
       "    </tr>\n",
       "    <tr>\n",
       "      <th>22</th>\n",
       "      <td>Yoshihiro Akiyama</td>\n",
       "      <td>40.3</td>\n",
       "    </tr>\n",
       "    <tr>\n",
       "      <th>23</th>\n",
       "      <td>Roy Nelson</td>\n",
       "      <td>40.3</td>\n",
       "    </tr>\n",
       "    <tr>\n",
       "      <th>24</th>\n",
       "      <td>Jorge Rivera</td>\n",
       "      <td>39.9</td>\n",
       "    </tr>\n",
       "    <tr>\n",
       "      <th>25</th>\n",
       "      <td>Kamal Shalorus</td>\n",
       "      <td>39.7</td>\n",
       "    </tr>\n",
       "    <tr>\n",
       "      <th>26</th>\n",
       "      <td>Jeff Cox</td>\n",
       "      <td>39.7</td>\n",
       "    </tr>\n",
       "    <tr>\n",
       "      <th>27</th>\n",
       "      <td>Aleksei Oleinik</td>\n",
       "      <td>39.6</td>\n",
       "    </tr>\n",
       "    <tr>\n",
       "      <th>28</th>\n",
       "      <td>Yoel Romero</td>\n",
       "      <td>39.5</td>\n",
       "    </tr>\n",
       "    <tr>\n",
       "      <th>29</th>\n",
       "      <td>Vitor Belfort</td>\n",
       "      <td>39.5</td>\n",
       "    </tr>\n",
       "  </tbody>\n",
       "</table>\n",
       "</div>"
      ],
      "text/plain": [
       "                   index   Age\n",
       "0          Ron van Clief  51.9\n",
       "1          Randy Couture  47.9\n",
       "2          Dan Henderson  46.1\n",
       "3           Mark Coleman  45.1\n",
       "4         Anthony Perosh  43.1\n",
       "5           Renzo Gracie  43.1\n",
       "6           Ken Shamrock  42.7\n",
       "7              Mark Hunt  42.3\n",
       "8             Dan Severn  42.3\n",
       "9                Cung Le  42.2\n",
       "10  Vladimir Matyushenko  42.1\n",
       "11           James Toney  42.0\n",
       "12        Anderson Silva  41.8\n",
       "13       Jason Reinhardt  41.8\n",
       "14             Mike Pyle  41.3\n",
       "15         Antonio McKee  40.8\n",
       "16      Mike van Arsdale  40.6\n",
       "17         Mirko Cro Cop  40.6\n",
       "18         Tra Telligman  40.5\n",
       "19         Chuck Liddell  40.5\n",
       "20      Rogerio Nogueira  40.5\n",
       "21       Cyrille Diabate  40.4\n",
       "22     Yoshihiro Akiyama  40.3\n",
       "23            Roy Nelson  40.3\n",
       "24          Jorge Rivera  39.9\n",
       "25        Kamal Shalorus  39.7\n",
       "26              Jeff Cox  39.7\n",
       "27       Aleksei Oleinik  39.6\n",
       "28           Yoel Romero  39.5\n",
       "29         Vitor Belfort  39.5"
      ]
     },
     "execution_count": 123,
     "metadata": {},
     "output_type": "execute_result"
    }
   ],
   "source": [
    "oldest_winners = all_wins.groupby('Winner').agg({'Age':max})\n",
    "oldest_losers = all_loses.groupby('Loser').agg({'Age':max})\n",
    "oldest = oldest_winners.append(oldest_losers).reset_index()\n",
    "oldest = oldest.groupby('index').agg({'Age':max}).sort_values('Age', ascending=False).applymap(lambda x: round(x, 1)).reset_index()[:30]\n",
    "oldest"
   ]
  },
  {
   "cell_type": "code",
   "execution_count": 124,
   "metadata": {
    "collapsed": false
   },
   "outputs": [
    {
     "data": {
      "text/html": [
       "<div>\n",
       "<table border=\"1\" class=\"dataframe\">\n",
       "  <thead>\n",
       "    <tr style=\"text-align: right;\">\n",
       "      <th></th>\n",
       "      <th>Youngest</th>\n",
       "      <th>Age</th>\n",
       "      <th>Oldest</th>\n",
       "      <th>Age</th>\n",
       "    </tr>\n",
       "  </thead>\n",
       "  <tbody>\n",
       "    <tr>\n",
       "      <th>1</th>\n",
       "      <td>Sean Daugherty</td>\n",
       "      <td>18.3</td>\n",
       "      <td>Ron van Clief</td>\n",
       "      <td>51.9</td>\n",
       "    </tr>\n",
       "    <tr>\n",
       "      <th>2</th>\n",
       "      <td>Dan Lauzon</td>\n",
       "      <td>18.5</td>\n",
       "      <td>Randy Couture</td>\n",
       "      <td>47.9</td>\n",
       "    </tr>\n",
       "    <tr>\n",
       "      <th>3</th>\n",
       "      <td>Sage Northcutt</td>\n",
       "      <td>19.6</td>\n",
       "      <td>Dan Henderson</td>\n",
       "      <td>46.1</td>\n",
       "    </tr>\n",
       "    <tr>\n",
       "      <th>4</th>\n",
       "      <td>Vitor Belfort</td>\n",
       "      <td>19.9</td>\n",
       "      <td>Mark Coleman</td>\n",
       "      <td>45.1</td>\n",
       "    </tr>\n",
       "    <tr>\n",
       "      <th>5</th>\n",
       "      <td>Jake Matthews</td>\n",
       "      <td>19.9</td>\n",
       "      <td>Anthony Perosh</td>\n",
       "      <td>43.1</td>\n",
       "    </tr>\n",
       "    <tr>\n",
       "      <th>6</th>\n",
       "      <td>Larissa Pacheco</td>\n",
       "      <td>20.0</td>\n",
       "      <td>Renzo Gracie</td>\n",
       "      <td>43.1</td>\n",
       "    </tr>\n",
       "    <tr>\n",
       "      <th>7</th>\n",
       "      <td>Robbie Lawler</td>\n",
       "      <td>20.1</td>\n",
       "      <td>Ken Shamrock</td>\n",
       "      <td>42.7</td>\n",
       "    </tr>\n",
       "    <tr>\n",
       "      <th>8</th>\n",
       "      <td>Nick Diaz</td>\n",
       "      <td>20.2</td>\n",
       "      <td>Mark Hunt</td>\n",
       "      <td>42.3</td>\n",
       "    </tr>\n",
       "    <tr>\n",
       "      <th>9</th>\n",
       "      <td>Max Holloway</td>\n",
       "      <td>20.2</td>\n",
       "      <td>Dan Severn</td>\n",
       "      <td>42.3</td>\n",
       "    </tr>\n",
       "    <tr>\n",
       "      <th>10</th>\n",
       "      <td>Michael McDonald</td>\n",
       "      <td>20.2</td>\n",
       "      <td>Cung Le</td>\n",
       "      <td>42.2</td>\n",
       "    </tr>\n",
       "    <tr>\n",
       "      <th>11</th>\n",
       "      <td>Sergio Pettis</td>\n",
       "      <td>20.2</td>\n",
       "      <td>Vladimir Matyushenko</td>\n",
       "      <td>42.1</td>\n",
       "    </tr>\n",
       "    <tr>\n",
       "      <th>12</th>\n",
       "      <td>Dustin Hazelett</td>\n",
       "      <td>20.4</td>\n",
       "      <td>James Toney</td>\n",
       "      <td>42.0</td>\n",
       "    </tr>\n",
       "    <tr>\n",
       "      <th>13</th>\n",
       "      <td>Rory MacDonald</td>\n",
       "      <td>20.5</td>\n",
       "      <td>Anderson Silva</td>\n",
       "      <td>41.8</td>\n",
       "    </tr>\n",
       "    <tr>\n",
       "      <th>14</th>\n",
       "      <td>Claudio Puelles</td>\n",
       "      <td>20.5</td>\n",
       "      <td>Jason Reinhardt</td>\n",
       "      <td>41.8</td>\n",
       "    </tr>\n",
       "    <tr>\n",
       "      <th>15</th>\n",
       "      <td>Tamdan McCrory</td>\n",
       "      <td>20.6</td>\n",
       "      <td>Mike Pyle</td>\n",
       "      <td>41.3</td>\n",
       "    </tr>\n",
       "    <tr>\n",
       "      <th>16</th>\n",
       "      <td>Paige VanZant</td>\n",
       "      <td>20.7</td>\n",
       "      <td>Antonio McKee</td>\n",
       "      <td>40.8</td>\n",
       "    </tr>\n",
       "    <tr>\n",
       "      <th>17</th>\n",
       "      <td>Ray Borg</td>\n",
       "      <td>20.7</td>\n",
       "      <td>Mike van Arsdale</td>\n",
       "      <td>40.6</td>\n",
       "    </tr>\n",
       "    <tr>\n",
       "      <th>18</th>\n",
       "      <td>Andy Anderson</td>\n",
       "      <td>20.7</td>\n",
       "      <td>Mirko Cro Cop</td>\n",
       "      <td>40.6</td>\n",
       "    </tr>\n",
       "    <tr>\n",
       "      <th>19</th>\n",
       "      <td>Charles Oliveira</td>\n",
       "      <td>20.8</td>\n",
       "      <td>Tra Telligman</td>\n",
       "      <td>40.5</td>\n",
       "    </tr>\n",
       "    <tr>\n",
       "      <th>20</th>\n",
       "      <td>Veronica Macedo</td>\n",
       "      <td>20.8</td>\n",
       "      <td>Chuck Liddell</td>\n",
       "      <td>40.5</td>\n",
       "    </tr>\n",
       "    <tr>\n",
       "      <th>21</th>\n",
       "      <td>John Alessio</td>\n",
       "      <td>20.9</td>\n",
       "      <td>Rogerio Nogueira</td>\n",
       "      <td>40.5</td>\n",
       "    </tr>\n",
       "    <tr>\n",
       "      <th>22</th>\n",
       "      <td>Jeremy Stephens</td>\n",
       "      <td>21.0</td>\n",
       "      <td>Cyrille Diabate</td>\n",
       "      <td>40.4</td>\n",
       "    </tr>\n",
       "    <tr>\n",
       "      <th>23</th>\n",
       "      <td>Stefan Struve</td>\n",
       "      <td>21.0</td>\n",
       "      <td>Yoshihiro Akiyama</td>\n",
       "      <td>40.3</td>\n",
       "    </tr>\n",
       "    <tr>\n",
       "      <th>24</th>\n",
       "      <td>Jeremy Jackson</td>\n",
       "      <td>21.0</td>\n",
       "      <td>Roy Nelson</td>\n",
       "      <td>40.3</td>\n",
       "    </tr>\n",
       "    <tr>\n",
       "      <th>25</th>\n",
       "      <td>Jon Jones</td>\n",
       "      <td>21.1</td>\n",
       "      <td>Jorge Rivera</td>\n",
       "      <td>39.9</td>\n",
       "    </tr>\n",
       "    <tr>\n",
       "      <th>26</th>\n",
       "      <td>Karo Parisyan</td>\n",
       "      <td>21.1</td>\n",
       "      <td>Kamal Shalorus</td>\n",
       "      <td>39.7</td>\n",
       "    </tr>\n",
       "    <tr>\n",
       "      <th>27</th>\n",
       "      <td>Edwin DeWees</td>\n",
       "      <td>21.1</td>\n",
       "      <td>Jeff Cox</td>\n",
       "      <td>39.7</td>\n",
       "    </tr>\n",
       "    <tr>\n",
       "      <th>28</th>\n",
       "      <td>Daiju Takase</td>\n",
       "      <td>21.2</td>\n",
       "      <td>Aleksei Oleinik</td>\n",
       "      <td>39.6</td>\n",
       "    </tr>\n",
       "    <tr>\n",
       "      <th>29</th>\n",
       "      <td>Terry Etim</td>\n",
       "      <td>21.3</td>\n",
       "      <td>Yoel Romero</td>\n",
       "      <td>39.5</td>\n",
       "    </tr>\n",
       "    <tr>\n",
       "      <th>30</th>\n",
       "      <td>Arnold Allen</td>\n",
       "      <td>21.4</td>\n",
       "      <td>Vitor Belfort</td>\n",
       "      <td>39.5</td>\n",
       "    </tr>\n",
       "  </tbody>\n",
       "</table>\n",
       "</div>"
      ],
      "text/plain": [
       "            Youngest   Age                Oldest   Age\n",
       "1     Sean Daugherty  18.3         Ron van Clief  51.9\n",
       "2         Dan Lauzon  18.5         Randy Couture  47.9\n",
       "3     Sage Northcutt  19.6         Dan Henderson  46.1\n",
       "4      Vitor Belfort  19.9          Mark Coleman  45.1\n",
       "5      Jake Matthews  19.9        Anthony Perosh  43.1\n",
       "6    Larissa Pacheco  20.0          Renzo Gracie  43.1\n",
       "7      Robbie Lawler  20.1          Ken Shamrock  42.7\n",
       "8          Nick Diaz  20.2             Mark Hunt  42.3\n",
       "9       Max Holloway  20.2            Dan Severn  42.3\n",
       "10  Michael McDonald  20.2               Cung Le  42.2\n",
       "11     Sergio Pettis  20.2  Vladimir Matyushenko  42.1\n",
       "12   Dustin Hazelett  20.4           James Toney  42.0\n",
       "13    Rory MacDonald  20.5        Anderson Silva  41.8\n",
       "14   Claudio Puelles  20.5       Jason Reinhardt  41.8\n",
       "15    Tamdan McCrory  20.6             Mike Pyle  41.3\n",
       "16     Paige VanZant  20.7         Antonio McKee  40.8\n",
       "17          Ray Borg  20.7      Mike van Arsdale  40.6\n",
       "18     Andy Anderson  20.7         Mirko Cro Cop  40.6\n",
       "19  Charles Oliveira  20.8         Tra Telligman  40.5\n",
       "20   Veronica Macedo  20.8         Chuck Liddell  40.5\n",
       "21      John Alessio  20.9      Rogerio Nogueira  40.5\n",
       "22   Jeremy Stephens  21.0       Cyrille Diabate  40.4\n",
       "23     Stefan Struve  21.0     Yoshihiro Akiyama  40.3\n",
       "24    Jeremy Jackson  21.0            Roy Nelson  40.3\n",
       "25         Jon Jones  21.1          Jorge Rivera  39.9\n",
       "26     Karo Parisyan  21.1        Kamal Shalorus  39.7\n",
       "27      Edwin DeWees  21.1              Jeff Cox  39.7\n",
       "28      Daiju Takase  21.2       Aleksei Oleinik  39.6\n",
       "29        Terry Etim  21.3           Yoel Romero  39.5\n",
       "30      Arnold Allen  21.4         Vitor Belfort  39.5"
      ]
     },
     "execution_count": 124,
     "metadata": {},
     "output_type": "execute_result"
    }
   ],
   "source": [
    "young_old = youngest.merge(oldest, left_index=True, right_index=True)\n",
    "young_old.index = range(1, 31)\n",
    "young_old.columns = ['Youngest', 'Age', 'Oldest', 'Age']\n",
    "young_old.to_latex('report/age/youngest_oldest_RAW.tex')\n",
    "young_old"
   ]
  }
 ],
 "metadata": {
  "anaconda-cloud": {},
  "kernelspec": {
   "display_name": "Python [conda root]",
   "language": "python",
   "name": "conda-root-py"
  },
  "language_info": {
   "codemirror_mode": {
    "name": "ipython",
    "version": 2
   },
   "file_extension": ".py",
   "mimetype": "text/x-python",
   "name": "python",
   "nbconvert_exporter": "python",
   "pygments_lexer": "ipython2",
   "version": "2.7.12"
  }
 },
 "nbformat": 4,
 "nbformat_minor": 1
}
