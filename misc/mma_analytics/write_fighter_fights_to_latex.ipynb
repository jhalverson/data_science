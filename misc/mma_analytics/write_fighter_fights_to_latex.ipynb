{
 "cells": [
  {
   "cell_type": "markdown",
   "metadata": {},
   "source": [
    "# Jonathan Halverson\n",
    "# Friday, March 10, 2017\n",
    "# Write fighter and fight tables to Latex"
   ]
  },
  {
   "cell_type": "code",
   "execution_count": 1,
   "metadata": {
    "collapsed": true
   },
   "outputs": [],
   "source": [
    "import numpy as np\n",
    "import pandas as pd\n",
    "import matplotlib.pyplot as plt\n",
    "plt.style.use('halverson')\n",
    "%matplotlib inline"
   ]
  },
  {
   "cell_type": "code",
   "execution_count": 2,
   "metadata": {
    "collapsed": true
   },
   "outputs": [],
   "source": [
    "iofile = 'data/fightmetric_cards/fightmetric_fights_CLEAN_3-6-2017.csv'\n",
    "fights = pd.read_csv(iofile, header=0, parse_dates=['Date'])\n",
    "d = {'Women\\'s Featherweight':'W--FW', 'Middleweight':'MW', 'Lightweight':'LW', 'Bantamweight':'BW'}\n",
    "d['Women\\'s Bantamweight'] = 'W--BW'\n",
    "d['Women\\'s Strawweight'] = 'W--SW'\n",
    "d['Light Heavyweight'] = 'LHW'\n",
    "d['Flyweight'] = 'FLW'\n",
    "d['Featherweight'] = 'FTW'\n",
    "d['Welterweight'] = 'WW'\n",
    "d['Heavyweight'] = 'HW'\n",
    "d['Women\\'s Flyweight'] = 'W--FLW'\n",
    "d['Catch Weight'] = 'CTH'\n",
    "fights.WeightClass = fights.WeightClass.replace(d)\n",
    "d = {'no contest':'NC'}\n",
    "fights.Outcome = fights.Outcome.replace(d)\n",
    "fights.Event = fights.Event.str.replace('The Ultimate Fighter', 'TUF')\n",
    "fights.Event = fights.Event.str.replace('Fight Night', 'F. Night')\n",
    "fights.MethodNotes = fights.MethodNotes.str.replace('Rear Naked Choke', 'RNC')\n",
    "fights.MethodNotes = fights.MethodNotes.str.replace('Spinning Back', 'Spn. Bck.')\n",
    "fights.columns = ['Winner', 'Out', 'Loser', 'WC', 'Method', 'Notes', 'Rd', 'Time', 'Event', 'Date', 'Location']\n",
    "cols = ['Winner', 'Out', 'Loser', 'WC', 'Method', 'Notes', 'Rd', 'Time', 'Event', 'Date']\n",
    "fights.Event = fights.Event.apply(lambda x: x[:x.index(':')] if ':' in x else x)\n",
    "fights[cols].head(476).to_latex('fights_table.tex', index=False, na_rep='', longtable=True)"
   ]
  },
  {
   "cell_type": "code",
   "execution_count": 3,
   "metadata": {
    "collapsed": true
   },
   "outputs": [],
   "source": [
    "iofile = 'data/fightmetric_fighters_with_corrections_from_UFC_Wikipedia_CLEAN.csv'\n",
    "fighters = pd.read_csv(iofile, header=0, parse_dates=['Dob'])\n",
    "fighters['Age'] = (pd.to_datetime('today') - fighters.Dob) / np.timedelta64(1, 'Y')\n",
    "fighters.Age = fighters.Age.apply(lambda x: x if pd.isnull(x) else round(x, 1))\n",
    "fighters.head(480).to_latex('fm_table.tex', index=False, na_rep='', longtable=True)"
   ]
  }
 ],
 "metadata": {
  "anaconda-cloud": {},
  "kernelspec": {
   "display_name": "Python [conda root]",
   "language": "python",
   "name": "conda-root-py"
  },
  "language_info": {
   "codemirror_mode": {
    "name": "ipython",
    "version": 2
   },
   "file_extension": ".py",
   "mimetype": "text/x-python",
   "name": "python",
   "nbconvert_exporter": "python",
   "pygments_lexer": "ipython2",
   "version": "2.7.12"
  }
 },
 "nbformat": 4,
 "nbformat_minor": 1
}
