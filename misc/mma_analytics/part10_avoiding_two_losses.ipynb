{
 "cells": [
  {
   "cell_type": "markdown",
   "metadata": {},
   "source": [
    "# Jonathan Halverson\n",
    "# Thursday, March 23, 2017\n",
    "# Part 10: Avoiding two losses in a row"
   ]
  },
  {
   "cell_type": "code",
   "execution_count": 1,
   "metadata": {
    "collapsed": true
   },
   "outputs": [],
   "source": [
    "import numpy as np\n",
    "import pandas as pd\n",
    "import matplotlib.pyplot as plt\n",
    "%matplotlib inline\n",
    "plt.style.use('halverson')"
   ]
  },
  {
   "cell_type": "code",
   "execution_count": 2,
   "metadata": {
    "collapsed": false,
    "scrolled": true
   },
   "outputs": [
    {
     "data": {
      "text/html": [
       "<div>\n",
       "<table border=\"1\" class=\"dataframe\">\n",
       "  <thead>\n",
       "    <tr style=\"text-align: right;\">\n",
       "      <th></th>\n",
       "      <th>Winner</th>\n",
       "      <th>Outcome</th>\n",
       "      <th>Loser</th>\n",
       "      <th>WeightClass</th>\n",
       "      <th>Method</th>\n",
       "      <th>MethodNotes</th>\n",
       "      <th>Round</th>\n",
       "      <th>Time</th>\n",
       "      <th>Event</th>\n",
       "      <th>Date</th>\n",
       "      <th>Location</th>\n",
       "    </tr>\n",
       "  </thead>\n",
       "  <tbody>\n",
       "    <tr>\n",
       "      <th>0</th>\n",
       "      <td>Germaine de Randamie</td>\n",
       "      <td>def.</td>\n",
       "      <td>Holly Holm</td>\n",
       "      <td>Women's Featherweight</td>\n",
       "      <td>U-DEC</td>\n",
       "      <td>NaN</td>\n",
       "      <td>5</td>\n",
       "      <td>5:00</td>\n",
       "      <td>UFC 208: Holm vs. De Randamie</td>\n",
       "      <td>2017-02-11</td>\n",
       "      <td>New York, New York, USA</td>\n",
       "    </tr>\n",
       "    <tr>\n",
       "      <th>1</th>\n",
       "      <td>Anderson Silva</td>\n",
       "      <td>def.</td>\n",
       "      <td>Derek Brunson</td>\n",
       "      <td>Middleweight</td>\n",
       "      <td>U-DEC</td>\n",
       "      <td>NaN</td>\n",
       "      <td>3</td>\n",
       "      <td>5:00</td>\n",
       "      <td>UFC 208: Holm vs. De Randamie</td>\n",
       "      <td>2017-02-11</td>\n",
       "      <td>New York, New York, USA</td>\n",
       "    </tr>\n",
       "    <tr>\n",
       "      <th>2</th>\n",
       "      <td>Jacare Souza</td>\n",
       "      <td>def.</td>\n",
       "      <td>Tim Boetsch</td>\n",
       "      <td>Middleweight</td>\n",
       "      <td>SUB</td>\n",
       "      <td>Kimura</td>\n",
       "      <td>1</td>\n",
       "      <td>3:41</td>\n",
       "      <td>UFC 208: Holm vs. De Randamie</td>\n",
       "      <td>2017-02-11</td>\n",
       "      <td>New York, New York, USA</td>\n",
       "    </tr>\n",
       "  </tbody>\n",
       "</table>\n",
       "</div>"
      ],
      "text/plain": [
       "                 Winner Outcome          Loser            WeightClass Method  \\\n",
       "0  Germaine de Randamie    def.     Holly Holm  Women's Featherweight  U-DEC   \n",
       "1        Anderson Silva    def.  Derek Brunson           Middleweight  U-DEC   \n",
       "2          Jacare Souza    def.    Tim Boetsch           Middleweight    SUB   \n",
       "\n",
       "  MethodNotes  Round  Time                          Event       Date  \\\n",
       "0         NaN      5  5:00  UFC 208: Holm vs. De Randamie 2017-02-11   \n",
       "1         NaN      3  5:00  UFC 208: Holm vs. De Randamie 2017-02-11   \n",
       "2      Kimura      1  3:41  UFC 208: Holm vs. De Randamie 2017-02-11   \n",
       "\n",
       "                  Location  \n",
       "0  New York, New York, USA  \n",
       "1  New York, New York, USA  \n",
       "2  New York, New York, USA  "
      ]
     },
     "execution_count": 2,
     "metadata": {},
     "output_type": "execute_result"
    }
   ],
   "source": [
    "iofile = 'data/fightmetric_cards/fightmetric_fights_CLEAN_3-6-2017.csv'\n",
    "fights = pd.read_csv(iofile, header=0, parse_dates=['Date'])\n",
    "fights.head(3)"
   ]
  },
  {
   "cell_type": "code",
   "execution_count": 3,
   "metadata": {
    "collapsed": false
   },
   "outputs": [
    {
     "data": {
      "text/plain": [
       "3581"
      ]
     },
     "execution_count": 3,
     "metadata": {},
     "output_type": "execute_result"
    }
   ],
   "source": [
    "fights = fights[(fights.Date > pd.to_datetime('2005-01-01')) & (fights.Outcome != 'no contest')]\n",
    "fights.shape[0]"
   ]
  },
  {
   "cell_type": "code",
   "execution_count": 4,
   "metadata": {
    "collapsed": false
   },
   "outputs": [
    {
     "name": "stdout",
     "output_type": "stream",
     "text": [
      "0.502211499799 0.492963409731\n",
      "0.520526960784 0.473345588235\n",
      "1249 1226 2487 12\n",
      "1699 1545 3264 20\n"
     ]
    }
   ],
   "source": [
    "win_after_loss = 0\n",
    "loss_after_loss = 0\n",
    "draw_after_loss = 0\n",
    "\n",
    "win_after_win = 0\n",
    "loss_after_win = 0\n",
    "draw_after_win = 0\n",
    "\n",
    "total_after_loss = 0\n",
    "total_after_win = 0\n",
    "\n",
    "win_lose = fights.Winner.append(fights.Loser).unique()\n",
    "for fighter in win_lose:\n",
    "     msk = (fights.Winner == fighter) | (fights.Loser == fighter)\n",
    "     all_fights = fights[msk].sort_values('Date').reset_index()\n",
    "     for i in range(0, all_fights.shape[0] - 1):\n",
    "          cond1 = all_fights.loc[i + 1, 'Winner'] == fighter\n",
    "          cond2 = all_fights.loc[i + 1, 'Outcome'] == 'def.'\n",
    "          cond3 = all_fights.loc[i, 'Loser'] == fighter\n",
    "          cond4 = all_fights.loc[i, 'Outcome'] == 'def.'\n",
    "          if all([cond1, cond2, cond3, cond4]):\n",
    "               win_after_loss += 1\n",
    "               total_after_loss += 1\n",
    "          cond1 = all_fights.loc[i + 1, 'Loser'] == fighter\n",
    "          cond2 = all_fights.loc[i + 1, 'Outcome'] == 'def.'\n",
    "          cond3 = all_fights.loc[i, 'Loser'] == fighter\n",
    "          cond4 = all_fights.loc[i, 'Outcome'] == 'def.'\n",
    "          if all([cond1, cond2, cond3, cond4]):\n",
    "               loss_after_loss += 1\n",
    "               total_after_loss += 1\n",
    "          cond1 = all_fights.loc[i + 1, 'Winner'] == fighter\n",
    "          cond2 = all_fights.loc[i + 1, 'Outcome'] == 'def.'\n",
    "          cond3 = all_fights.loc[i, 'Winner'] == fighter\n",
    "          cond4 = all_fights.loc[i, 'Outcome'] == 'def.'\n",
    "          if all([cond1, cond2, cond3, cond4]):\n",
    "               win_after_win += 1\n",
    "               total_after_win += 1\n",
    "          cond1 = all_fights.loc[i + 1, 'Loser'] == fighter\n",
    "          cond2 = all_fights.loc[i + 1, 'Outcome'] == 'def.'\n",
    "          cond3 = all_fights.loc[i, 'Winner'] == fighter\n",
    "          cond4 = all_fights.loc[i, 'Outcome'] == 'def.'\n",
    "          if all([cond1, cond2, cond3, cond4]):\n",
    "               loss_after_win += 1\n",
    "               total_after_win += 1\n",
    "\n",
    "          # draw after loss\n",
    "          cond2 = all_fights.loc[i + 1, 'Outcome'] == 'draw'\n",
    "          cond3 = all_fights.loc[i, 'Loser'] == fighter\n",
    "          cond4 = all_fights.loc[i, 'Outcome'] == 'def.'\n",
    "          if all([cond2, cond3, cond4]):\n",
    "               draw_after_loss += 1\n",
    "               total_after_loss += 1     \n",
    "          # draw after win\n",
    "          cond2 = all_fights.loc[i + 1, 'Outcome'] == 'draw'\n",
    "          cond3 = all_fights.loc[i, 'Winner'] == fighter\n",
    "          cond4 = all_fights.loc[i, 'Outcome'] == 'def.'\n",
    "          if all([cond2, cond3, cond4]):\n",
    "               draw_after_win += 1\n",
    "               total_after_win += 1\n",
    "               \n",
    "print win_after_loss/float(total_after_loss), loss_after_loss/float(total_after_loss)\n",
    "print win_after_win/float(total_after_win), loss_after_win/float(total_after_win)\n",
    "print win_after_loss, loss_after_loss, total_after_loss, draw_after_loss\n",
    "print win_after_win, loss_after_win, total_after_win, draw_after_win"
   ]
  },
  {
   "cell_type": "code",
   "execution_count": 5,
   "metadata": {
    "collapsed": true
   },
   "outputs": [],
   "source": [
    "from scipy.stats import binom"
   ]
  },
  {
   "cell_type": "code",
   "execution_count": 6,
   "metadata": {
    "collapsed": false
   },
   "outputs": [
    {
     "data": {
      "text/plain": [
       "0.65834111988780641"
      ]
     },
     "execution_count": 6,
     "metadata": {},
     "output_type": "execute_result"
    }
   ],
   "source": [
    "2 * binom.cdf(p=0.5, k=1226, n=2475)"
   ]
  },
  {
   "cell_type": "code",
   "execution_count": 7,
   "metadata": {
    "collapsed": false
   },
   "outputs": [
    {
     "data": {
      "text/plain": [
       "0.49538902247504046"
      ]
     },
     "execution_count": 7,
     "metadata": {},
     "output_type": "execute_result"
    }
   ],
   "source": [
    "2 * binom.cdf(p=0.5, k=1226, n=2475+12)"
   ]
  },
  {
   "cell_type": "code",
   "execution_count": 8,
   "metadata": {
    "collapsed": false
   },
   "outputs": [
    {
     "data": {
      "text/plain": [
       "0.0024557764160435319"
      ]
     },
     "execution_count": 8,
     "metadata": {},
     "output_type": "execute_result"
    }
   ],
   "source": [
    "2 * binom.cdf(p=0.5, k=1545, n=3244+20)"
   ]
  },
  {
   "cell_type": "code",
   "execution_count": 9,
   "metadata": {
    "collapsed": false
   },
   "outputs": [
    {
     "data": {
      "text/plain": [
       "0.4725093033620379"
      ]
     },
     "execution_count": 9,
     "metadata": {},
     "output_type": "execute_result"
    }
   ],
   "source": [
    "p_draw = 20 / 3581.0\n",
    "p_win = 0.5 - 0.5 * p_draw\n",
    "x2 = (1249 - 2487 * p_win)**2 / (2487 * p_win) + (1226 - 2487 * p_win)**2 / (2487 * p_win) + (12 - 2487 * p_draw)**2 / (2487 * p_draw)\n",
    "x2"
   ]
  },
  {
   "cell_type": "code",
   "execution_count": 10,
   "metadata": {
    "collapsed": false
   },
   "outputs": [
    {
     "data": {
      "text/plain": [
       "(0.47250930336203789, 0.7895795805620186)"
      ]
     },
     "execution_count": 10,
     "metadata": {},
     "output_type": "execute_result"
    }
   ],
   "source": [
    "from scipy.stats import chisquare\n",
    "chi2_stat, p_value = chisquare(f_obs=[1249, 1226, 12], f_exp=[2487 * p_win, 2487 * p_win, 2487 * p_draw])\n",
    "chi2_stat, p_value"
   ]
  },
  {
   "cell_type": "code",
   "execution_count": 11,
   "metadata": {
    "collapsed": false
   },
   "outputs": [
    {
     "data": {
      "text/plain": [
       "(7.4796522512402888, 0.023758233720347386)"
      ]
     },
     "execution_count": 11,
     "metadata": {},
     "output_type": "execute_result"
    }
   ],
   "source": [
    "chi2_stat, p_value = chisquare([1699, 1545, 20], [3264 * p_win, 3264 * p_win, 3264 * p_draw])\n",
    "chi2_stat, p_value"
   ]
  },
  {
   "cell_type": "code",
   "execution_count": 12,
   "metadata": {
    "collapsed": false
   },
   "outputs": [
    {
     "data": {
      "text/plain": [
       "20"
      ]
     },
     "execution_count": 12,
     "metadata": {},
     "output_type": "execute_result"
    }
   ],
   "source": [
    "fights[fights.Outcome == 'draw'].shape[0]"
   ]
  },
  {
   "cell_type": "code",
   "execution_count": 13,
   "metadata": {
    "collapsed": false
   },
   "outputs": [
    {
     "data": {
      "text/plain": [
       "13.889974867355487"
      ]
     },
     "execution_count": 13,
     "metadata": {},
     "output_type": "execute_result"
    }
   ],
   "source": [
    "p_draw*2487"
   ]
  }
 ],
 "metadata": {
  "anaconda-cloud": {},
  "kernelspec": {
   "display_name": "Python [conda root]",
   "language": "python",
   "name": "conda-root-py"
  },
  "language_info": {
   "codemirror_mode": {
    "name": "ipython",
    "version": 2
   },
   "file_extension": ".py",
   "mimetype": "text/x-python",
   "name": "python",
   "nbconvert_exporter": "python",
   "pygments_lexer": "ipython2",
   "version": "2.7.12"
  }
 },
 "nbformat": 4,
 "nbformat_minor": 1
}
