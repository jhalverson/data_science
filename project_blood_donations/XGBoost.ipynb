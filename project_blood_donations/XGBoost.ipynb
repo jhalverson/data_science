{
 "cells": [
  {
   "cell_type": "markdown",
   "metadata": {},
   "source": [
    "# eXtreme Gradient Boosting"
   ]
  },
  {
   "cell_type": "code",
   "execution_count": 1,
   "metadata": {
    "collapsed": true
   },
   "outputs": [],
   "source": [
    "outfile = 'xgboost.csv'"
   ]
  },
  {
   "cell_type": "code",
   "execution_count": 2,
   "metadata": {
    "collapsed": false
   },
   "outputs": [],
   "source": [
    "import xgboost as xgb\n",
    "\n",
    "import numpy as np\n",
    "import pandas as pd\n",
    "from helper_methods import load_data\n",
    "from sklearn.metrics import log_loss\n",
    "from sklearn.grid_search import GridSearchCV\n",
    "from sklearn.cross_validation import StratifiedKFold"
   ]
  },
  {
   "cell_type": "code",
   "execution_count": 3,
   "metadata": {
    "collapsed": false
   },
   "outputs": [],
   "source": [
    "from sklearn.preprocessing import StandardScaler\n",
    "stdsc = StandardScaler()"
   ]
  },
  {
   "cell_type": "code",
   "execution_count": 4,
   "metadata": {
    "collapsed": false
   },
   "outputs": [],
   "source": [
    "df_train, y_train, ids_train, features_set = load_data(train=True, engineering=True, standardizer=stdsc)"
   ]
  },
  {
   "cell_type": "code",
   "execution_count": 5,
   "metadata": {
    "collapsed": true
   },
   "outputs": [],
   "source": [
    "StatifiedCV = StratifiedKFold(y_train, n_folds=10, shuffle=True)"
   ]
  },
  {
   "cell_type": "markdown",
   "metadata": {},
   "source": [
    "### Hyperparameter and feature set tuning"
   ]
  },
  {
   "cell_type": "markdown",
   "metadata": {},
   "source": [
    "For each set of features, use stratified cross validation to find the optimal hyperparameters:"
   ]
  },
  {
   "cell_type": "code",
   "execution_count": 6,
   "metadata": {
    "collapsed": false
   },
   "outputs": [
    {
     "name": "stdout",
     "output_type": "stream",
     "text": [
      "0 0.487060313889 {'reg_alpha': 2.0, 'learning_rate': 0.075, 'min_child_weight': 4, 'n_estimators': 50, 'reg_lambda': 1.0, 'max_depth': 3}\n",
      "1 0.495014356579 {'reg_alpha': 0.0, 'learning_rate': 0.025, 'min_child_weight': 4, 'n_estimators': 100, 'reg_lambda': 4.0, 'max_depth': 5}\n",
      "2 0.482638391078 {'reg_alpha': 0.0, 'learning_rate': 0.075, 'min_child_weight': 3, 'n_estimators': 50, 'reg_lambda': 1.0, 'max_depth': 2}\n",
      "3 0.487060313889 {'reg_alpha': 2.0, 'learning_rate': 0.075, 'min_child_weight': 4, 'n_estimators': 50, 'reg_lambda': 1.0, 'max_depth': 3}\n",
      "4 0.507318339673 {'reg_alpha': 0.0, 'learning_rate': 0.025, 'min_child_weight': 1, 'n_estimators': 100, 'reg_lambda': 4.0, 'max_depth': 3}\n",
      "5 0.481547007758 {'reg_alpha': 1.0, 'learning_rate': 0.1, 'min_child_weight': 4, 'n_estimators': 50, 'reg_lambda': 1.0, 'max_depth': 2}\n",
      "6 0.510529734867 {'reg_alpha': 1.0, 'learning_rate': 0.05, 'min_child_weight': 4, 'n_estimators': 50, 'reg_lambda': 1.0, 'max_depth': 5}\n",
      "7 0.481459825419 {'reg_alpha': 0.0, 'learning_rate': 0.1, 'min_child_weight': 2, 'n_estimators': 50, 'reg_lambda': 0.0, 'max_depth': 2}\n",
      "8 0.507342157614 {'reg_alpha': 2.0, 'learning_rate': 0.075, 'min_child_weight': 3, 'n_estimators': 50, 'reg_lambda': 1.0, 'max_depth': 2}\n",
      "9 0.481547007758 {'reg_alpha': 1.0, 'learning_rate': 0.1, 'min_child_weight': 4, 'n_estimators': 50, 'reg_lambda': 1.0, 'max_depth': 2}\n",
      "10 0.485736427596 {'reg_alpha': 1.0, 'learning_rate': 0.05, 'min_child_weight': 4, 'n_estimators': 50, 'reg_lambda': 0.0, 'max_depth': 3}\n",
      "11 0.492820573175 {'reg_alpha': 0.0, 'learning_rate': 0.075, 'min_child_weight': 2, 'n_estimators': 200, 'reg_lambda': 0.5, 'max_depth': 1}\n",
      "12 0.502501442644 {'reg_alpha': 0.0, 'learning_rate': 0.05, 'min_child_weight': 4, 'n_estimators': 400, 'reg_lambda': 4.0, 'max_depth': 1}\n",
      "13 0.480777926788 {'reg_alpha': 0.0, 'learning_rate': 0.025, 'min_child_weight': 1, 'n_estimators': 200, 'reg_lambda': 2.0, 'max_depth': 2}\n",
      "14 0.485736427596 {'reg_alpha': 1.0, 'learning_rate': 0.05, 'min_child_weight': 4, 'n_estimators': 50, 'reg_lambda': 0.0, 'max_depth': 3}\n",
      "15 0.492820573175 {'reg_alpha': 0.0, 'learning_rate': 0.075, 'min_child_weight': 2, 'n_estimators': 200, 'reg_lambda': 0.5, 'max_depth': 1}\n",
      "16 0.476248013932 {'reg_alpha': 0.0, 'learning_rate': 0.075, 'min_child_weight': 2, 'n_estimators': 200, 'reg_lambda': 0.0, 'max_depth': 1}\n",
      "17 0.505427770899 {'reg_alpha': 1.0, 'learning_rate': 0.05, 'min_child_weight': 1, 'n_estimators': 50, 'reg_lambda': 1.0, 'max_depth': 3}\n",
      "18 0.487343187722 {'reg_alpha': 0.0, 'learning_rate': 0.05, 'min_child_weight': 2, 'n_estimators': 400, 'reg_lambda': 1.0, 'max_depth': 1}\n",
      "19 0.476248013932 {'reg_alpha': 0.0, 'learning_rate': 0.075, 'min_child_weight': 2, 'n_estimators': 200, 'reg_lambda': 0.0, 'max_depth': 1}\n",
      "20 0.489974603341 {'reg_alpha': 2.0, 'learning_rate': 0.025, 'min_child_weight': 2, 'n_estimators': 100, 'reg_lambda': 1.0, 'max_depth': 5}\n",
      "21 0.481672934754 {'reg_alpha': 2.0, 'learning_rate': 0.05, 'min_child_weight': 4, 'n_estimators': 100, 'reg_lambda': 1.0, 'max_depth': 2}\n",
      "22 0.487060313889 {'reg_alpha': 2.0, 'learning_rate': 0.075, 'min_child_weight': 4, 'n_estimators': 50, 'reg_lambda': 1.0, 'max_depth': 3}\n",
      "23 0.482890675019 {'reg_alpha': 0.0, 'learning_rate': 0.075, 'min_child_weight': 1, 'n_estimators': 50, 'reg_lambda': 1.0, 'max_depth': 2}\n",
      "24 0.489974983011 {'reg_alpha': 2.0, 'learning_rate': 0.025, 'min_child_weight': 2, 'n_estimators': 100, 'reg_lambda': 1.0, 'max_depth': 5}\n",
      "25 0.481672934754 {'reg_alpha': 2.0, 'learning_rate': 0.05, 'min_child_weight': 4, 'n_estimators': 100, 'reg_lambda': 1.0, 'max_depth': 2}\n",
      "26 0.482169131868 {'reg_alpha': 0.0, 'learning_rate': 0.075, 'min_child_weight': 2, 'n_estimators': 200, 'reg_lambda': 1.0, 'max_depth': 1}\n",
      "27 0.507318339673 {'reg_alpha': 0.0, 'learning_rate': 0.025, 'min_child_weight': 1, 'n_estimators': 100, 'reg_lambda': 4.0, 'max_depth': 3}\n",
      "28 0.481547007758 {'reg_alpha': 1.0, 'learning_rate': 0.1, 'min_child_weight': 4, 'n_estimators': 50, 'reg_lambda': 1.0, 'max_depth': 2}\n",
      "29 0.482169131868 {'reg_alpha': 0.0, 'learning_rate': 0.075, 'min_child_weight': 2, 'n_estimators': 200, 'reg_lambda': 1.0, 'max_depth': 1}\n",
      "30 0.479579028279 {'reg_alpha': 0.0, 'learning_rate': 0.1, 'min_child_weight': 1, 'n_estimators': 100, 'reg_lambda': 1.0, 'max_depth': 1}\n",
      "31 0.485736427596 {'reg_alpha': 1.0, 'learning_rate': 0.05, 'min_child_weight': 4, 'n_estimators': 50, 'reg_lambda': 0.0, 'max_depth': 3}\n",
      "32 0.492820573175 {'reg_alpha': 0.0, 'learning_rate': 0.075, 'min_child_weight': 2, 'n_estimators': 200, 'reg_lambda': 0.5, 'max_depth': 1}\n",
      "33 0.479579028279 {'reg_alpha': 0.0, 'learning_rate': 0.1, 'min_child_weight': 1, 'n_estimators': 100, 'reg_lambda': 1.0, 'max_depth': 1}\n",
      "34 0.476248013932 {'reg_alpha': 0.0, 'learning_rate': 0.075, 'min_child_weight': 2, 'n_estimators': 200, 'reg_lambda': 0.0, 'max_depth': 1}\n",
      "35 0.482695899652 {'reg_alpha': 1.0, 'learning_rate': 0.075, 'min_child_weight': 4, 'n_estimators': 50, 'reg_lambda': 1.0, 'max_depth': 3}\n",
      "36 0.489974603341 {'reg_alpha': 2.0, 'learning_rate': 0.025, 'min_child_weight': 2, 'n_estimators': 100, 'reg_lambda': 1.0, 'max_depth': 5}\n",
      "37 0.481672934754 {'reg_alpha': 2.0, 'learning_rate': 0.05, 'min_child_weight': 4, 'n_estimators': 100, 'reg_lambda': 1.0, 'max_depth': 2}\n",
      "38 0.482695899652 {'reg_alpha': 1.0, 'learning_rate': 0.075, 'min_child_weight': 4, 'n_estimators': 50, 'reg_lambda': 1.0, 'max_depth': 3}\n",
      "39 0.482169131868 {'reg_alpha': 0.0, 'learning_rate': 0.075, 'min_child_weight': 2, 'n_estimators': 200, 'reg_lambda': 1.0, 'max_depth': 1}\n",
      "40 0.479579028279 {'reg_alpha': 0.0, 'learning_rate': 0.1, 'min_child_weight': 1, 'n_estimators': 100, 'reg_lambda': 1.0, 'max_depth': 1}\n",
      "41 0.482695899652 {'reg_alpha': 1.0, 'learning_rate': 0.075, 'min_child_weight': 4, 'n_estimators': 50, 'reg_lambda': 1.0, 'max_depth': 3}\n"
     ]
    }
   ],
   "source": [
    "scores = []\n",
    "clf = xgb.XGBClassifier()\n",
    "param_grid = [dict(n_estimators=[50, 100, 200, 400],\n",
    "                  max_depth=[1, 2, 3, 4, 5],\n",
    "                  min_child_weight=[1, 2, 3, 4],\n",
    "                  reg_alpha=[0.0, 1.0, 2.0],\n",
    "                  reg_lambda=[0.0, 1.0],\n",
    "                  learning_rate=[0.025, 0.05, 0.075, 0.1, 0.125]),\n",
    "              dict(n_estimators=[100, 200, 400],\n",
    "                  max_depth=[1, 2, 3, 4, 5],\n",
    "                  min_child_weight=[1, 2, 3, 4],\n",
    "                  reg_alpha=[0.0],\n",
    "                  reg_lambda=[0.0, 0.5, 1.0, 2.0, 4.0],\n",
    "                  learning_rate=[0.025, 0.05, 0.075, 0.1, 0.125])]\n",
    "for i, features in enumerate(features_set):\n",
    "    grid = GridSearchCV(clf, param_grid, cv=StatifiedCV, scoring='log_loss', n_jobs=-1)\n",
    "    grid.fit(X=df_train[features].values, y=y_train)\n",
    "    scores.append((-grid.best_score_, i, grid.best_params_))\n",
    "    print i, -grid.best_score_, grid.best_params_"
   ]
  },
  {
   "cell_type": "markdown",
   "metadata": {},
   "source": [
    "### Set the optimal hyperparameters and feature set; refit the model to the entire training set"
   ]
  },
  {
   "cell_type": "code",
   "execution_count": 22,
   "metadata": {
    "collapsed": false
   },
   "outputs": [
    {
     "name": "stdout",
     "output_type": "stream",
     "text": [
      "Optimal score: 0.48\n",
      "Optimal features:  ['months_since_first', 'last_to_first', 'months_btwn_donation']\n",
      "Optimal parameters:  {'reg_alpha': 0.0, 'learning_rate': 0.075, 'min_child_weight': 2, 'n_estimators': 200, 'reg_lambda': 0.0, 'max_depth': 1}\n"
     ]
    }
   ],
   "source": [
    "scores.sort()\n",
    "optimal_features = features_set[scores[0][1]]\n",
    "optimal_params = scores[0][2]\n",
    "X_train = df_train[optimal_features].values\n",
    "optimal_clf = clf.set_params(**optimal_params).fit(X_train, y_train)\n",
    "print 'Optimal score: %.2f' % scores[0][0]\n",
    "print 'Optimal features: ', optimal_features\n",
    "print 'Optimal parameters: ', optimal_params"
   ]
  },
  {
   "cell_type": "markdown",
   "metadata": {},
   "source": [
    "### Load the test data, predict the probabilities and write to csv"
   ]
  },
  {
   "cell_type": "code",
   "execution_count": 23,
   "metadata": {
    "collapsed": true
   },
   "outputs": [],
   "source": [
    "df_test, y_dummy, ids_test, features_set_dummy = load_data(train=False, engineering=True, standardizer=stdsc)"
   ]
  },
  {
   "cell_type": "code",
   "execution_count": 24,
   "metadata": {
    "collapsed": false
   },
   "outputs": [],
   "source": [
    "X_test = df_test[optimal_features].values\n",
    "y_pred_prob = optimal_clf.predict_proba(X_test)[:,1]\n",
    "df_out = pd.DataFrame({'':ids_test, 'Made Donation in March 2007':y_pred_prob})\n",
    "df_out.to_csv(outfile, index=False, header=True)"
   ]
  },
  {
   "cell_type": "markdown",
   "metadata": {},
   "source": [
    "# Evaluation of the optimal classifier"
   ]
  },
  {
   "cell_type": "markdown",
   "metadata": {},
   "source": [
    "### Learning curve"
   ]
  },
  {
   "cell_type": "code",
   "execution_count": 25,
   "metadata": {
    "collapsed": false
   },
   "outputs": [
    {
     "data": {
      "text/plain": [
       "(0.3, 1)"
      ]
     },
     "execution_count": 25,
     "metadata": {},
     "output_type": "execute_result"
    },
    {
     "data": {
      "image/png": "[encoded data removed]",
      "text/plain": [
       "<matplotlib.figure.Figure at 0x10db0da10>"
      ]
     },
     "metadata": {},
     "output_type": "display_data"
    }
   ],
   "source": [
    "import matplotlib.pyplot as plt\n",
    "%matplotlib inline\n",
    "plt.style.use('halverson')\n",
    "\n",
    "from sklearn.learning_curve import learning_curve\n",
    "\n",
    "train_sizes, train_scores, test_scores = learning_curve(optimal_clf, X_train, y_train, train_sizes=np.linspace(0.2, 1, 10), cv=10)\n",
    "train_mean = np.mean(train_scores, axis=1)\n",
    "train_std = np.std(train_scores, axis=1)\n",
    "test_mean = np.mean(test_scores, axis=1)\n",
    "test_std = np.std(test_scores, axis=1)\n",
    "\n",
    "plt.plot(train_sizes, train_mean, color='b', marker='o', label='Train accuracy')\n",
    "plt.fill_between(train_sizes, train_mean + train_std, train_mean - train_std, alpha=0.15, color='b')\n",
    "plt.plot(train_sizes, test_mean, color='g', marker='o', label='Validation accuracy')\n",
    "plt.fill_between(train_sizes, test_mean + test_std, test_mean - test_std, alpha=0.15, color='g')\n",
    "\n",
    "plt.xlabel('Number of training samples')\n",
    "plt.ylabel('Accuracy')\n",
    "plt.legend(loc='lower right')\n",
    "plt.grid()\n",
    "plt.ylim(0.3, 1)"
   ]
  },
  {
   "cell_type": "markdown",
   "metadata": {},
   "source": [
    "The learning curve for the optimal set of parameters and features is shown above. We see that the model is well fit. The shaded region indicate the standard deviation of the accuracy scores."
   ]
  },
  {
   "cell_type": "markdown",
   "metadata": {},
   "source": [
    "### Confusion matrix"
   ]
  },
  {
   "cell_type": "code",
   "execution_count": 11,
   "metadata": {
    "collapsed": false
   },
   "outputs": [
    {
     "name": "stdout",
     "output_type": "stream",
     "text": [
      "[[416  22]\n",
      " [102  36]]\n"
     ]
    }
   ],
   "source": [
    "from sklearn.cross_validation import cross_val_predict\n",
    "from sklearn.metrics import confusion_matrix\n",
    "\n",
    "y_train_pred_cv = cross_val_predict(optimal_clf, X_train, y_train, cv=StatifiedCV)\n",
    "confmat = confusion_matrix(y_true=y_train, y_pred=y_train_pred_cv)\n",
    "print confmat"
   ]
  },
  {
   "cell_type": "markdown",
   "metadata": {},
   "source": [
    "The function cross_val_predict has a similar interface to cross_val_score, but returns for each element in the input the prediction that was obtained for that element when it was in the test set. It does not offer a predict_proba method yet but this is under discussion."
   ]
  },
  {
   "cell_type": "code",
   "execution_count": 12,
   "metadata": {
    "collapsed": false
   },
   "outputs": [
    {
     "data": {
      "text/plain": [
       "<matplotlib.text.Text at 0x10e20cf90>"
      ]
     },
     "execution_count": 12,
     "metadata": {},
     "output_type": "execute_result"
    },
    {
     "data": {
      "image/png": "[encoded data removed]",
      "text/plain": [
       "<matplotlib.figure.Figure at 0x10db2dd10>"
      ]
     },
     "metadata": {},
     "output_type": "display_data"
    }
   ],
   "source": [
    "fig, ax = plt.subplots(figsize=(3, 3))\n",
    "ax.matshow(confmat, cmap=plt.cm.Blues, alpha=0.3)\n",
    "for i in range(confmat.shape[0]):\n",
    "    for j in range(confmat.shape[1]):\n",
    "        ax.text(x=j, y=i, s=confmat[i, j], va='center', ha='center')\n",
    "plt.xlabel('Predicted label')\n",
    "plt.ylabel('True label')"
   ]
  },
  {
   "cell_type": "markdown",
   "metadata": {},
   "source": [
    "### Metrics"
   ]
  },
  {
   "cell_type": "code",
   "execution_count": 13,
   "metadata": {
    "collapsed": false
   },
   "outputs": [
    {
     "name": "stdout",
     "output_type": "stream",
     "text": [
      "Accuracy:  0.78\n",
      "Recall:    0.26\n",
      "Precision: 0.62\n",
      "F1 score:  0.37\n",
      "Log loss:  7.44\n"
     ]
    }
   ],
   "source": [
    "from sklearn.metrics import accuracy_score\n",
    "from sklearn.metrics import recall_score\n",
    "from sklearn.metrics import precision_score\n",
    "from sklearn.metrics import f1_score\n",
    "from sklearn.metrics import log_loss\n",
    "\n",
    "print 'Accuracy:  %.2f' % accuracy_score(y_true=y_train, y_pred=y_train_pred_cv)\n",
    "print 'Recall:    %.2f' % recall_score(y_true=y_train, y_pred=y_train_pred_cv)\n",
    "print 'Precision: %.2f' % precision_score(y_true=y_train, y_pred=y_train_pred_cv)\n",
    "print 'F1 score:  %.2f' % f1_score(y_true=y_train, y_pred=y_train_pred_cv)\n",
    "print 'Log loss:  %.2f' % log_loss(y_true=y_train, y_pred=y_train_pred_cv)"
   ]
  },
  {
   "cell_type": "markdown",
   "metadata": {},
   "source": [
    "### Permutation test score"
   ]
  },
  {
   "cell_type": "markdown",
   "metadata": {},
   "source": [
    "In order to test if a classification score is significant, a technique in repeating the classification procedure after randomizing, permuting, the labels. The p-value is then given by the percentage of runs for which the score obtained is greater than the classification score obtained in the first place."
   ]
  },
  {
   "cell_type": "code",
   "execution_count": 14,
   "metadata": {
    "collapsed": false
   },
   "outputs": [
    {
     "data": {
      "text/plain": [
       "(0.45, 0.8)"
      ]
     },
     "execution_count": 14,
     "metadata": {},
     "output_type": "execute_result"
    },
    {
     "data": {
      "image/png": "[encoded data removed]",
      "text/plain": [
       "<matplotlib.figure.Figure at 0x10c5e0a90>"
      ]
     },
     "metadata": {},
     "output_type": "display_data"
    }
   ],
   "source": [
    "from sklearn.cross_validation import permutation_test_score\n",
    "\n",
    "score, permutation_scores, pvalue = permutation_test_score(optimal_clf, X_train, y_train, cv=StatifiedCV, n_permutations=100, scoring='accuracy')\n",
    "plt.figure(figsize=(14,5))\n",
    "plt.hist(permutation_scores, 20, label='Permutation scores')\n",
    "plt.plot(2 * [score], plt.ylim(), '--g', linewidth=2, label='Classification score (pvalue {:.2f})'.format(pvalue))\n",
    "plt.plot(2 * [1. / 2], plt.ylim(), '--r', linewidth=2, label='Random guessing')\n",
    "plt.legend(loc='upper center')\n",
    "plt.xlabel('Accuracy')\n",
    "plt.ylabel('Count')\n",
    "plt.xlim(0.45, 0.8)"
   ]
  }
 ],
 "metadata": {
  "kernelspec": {
   "display_name": "Python 2",
   "language": "python",
   "name": "python2"
  },
  "language_info": {
   "codemirror_mode": {
    "name": "ipython",
    "version": 2
   },
   "file_extension": ".py",
   "mimetype": "text/x-python",
   "name": "python",
   "nbconvert_exporter": "python",
   "pygments_lexer": "ipython2",
   "version": "2.7.5"
  }
 },
 "nbformat": 4,
 "nbformat_minor": 0
}
