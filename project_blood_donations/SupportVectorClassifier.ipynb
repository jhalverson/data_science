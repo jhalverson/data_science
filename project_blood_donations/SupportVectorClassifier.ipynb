{
 "cells": [
  {
   "cell_type": "markdown",
   "metadata": {},
   "source": [
    "# Support vector classifier"
   ]
  },
  {
   "cell_type": "code",
   "execution_count": 14,
   "metadata": {
    "collapsed": true
   },
   "outputs": [],
   "source": [
    "outfile = 'svc.csv'"
   ]
  },
  {
   "cell_type": "code",
   "execution_count": 15,
   "metadata": {
    "collapsed": false
   },
   "outputs": [],
   "source": [
    "from sklearn.svm import SVC\n",
    "\n",
    "import numpy as np\n",
    "import pandas as pd\n",
    "from helper_methods import load_data\n",
    "from sklearn.metrics import log_loss\n",
    "from sklearn.grid_search import GridSearchCV\n",
    "from sklearn.cross_validation import StratifiedKFold"
   ]
  },
  {
   "cell_type": "code",
   "execution_count": 16,
   "metadata": {
    "collapsed": false
   },
   "outputs": [],
   "source": [
    "from sklearn.preprocessing import StandardScaler\n",
    "stdsc = StandardScaler()"
   ]
  },
  {
   "cell_type": "code",
   "execution_count": 17,
   "metadata": {
    "collapsed": false
   },
   "outputs": [],
   "source": [
    "df_train, y_train, ids_train, features_set = load_data(train=True, engineering=True, standardizer=stdsc)"
   ]
  },
  {
   "cell_type": "code",
   "execution_count": 18,
   "metadata": {
    "collapsed": true
   },
   "outputs": [],
   "source": [
    "StatifiedCV = StratifiedKFold(y_train, n_folds=10, shuffle=True)"
   ]
  },
  {
   "cell_type": "markdown",
   "metadata": {},
   "source": [
    "### Hyperparameter and feature set tuning"
   ]
  },
  {
   "cell_type": "markdown",
   "metadata": {},
   "source": [
    "For each set of features, use stratified cross validation to find the optimal hyperparameters:"
   ]
  },
  {
   "cell_type": "code",
   "execution_count": 19,
   "metadata": {
    "collapsed": false
   },
   "outputs": [
    {
     "name": "stdout",
     "output_type": "stream",
     "text": [
      "0 0.502667014299 {'kernel': 'rbf', 'C': 1.0, 'gamma': 1.0}\n",
      "1 0.517395633669 {'kernel': 'rbf', 'C': 0.10000000000000001, 'gamma': 100.0}\n",
      "2 0.495452036014 {'kernel': 'rbf', 'C': 0.001, 'gamma': 1.0}\n",
      "3 0.514018800662 {'kernel': 'rbf', 'C': 0.10000000000000001, 'gamma': 100.0}\n",
      "4 0.538007851736 {'kernel': 'rbf', 'C': 10.0, 'gamma': 1.0}\n",
      "5 0.491932763689 {'kernel': 'rbf', 'C': 100.0, 'gamma': 0.10000000000000001}\n",
      "6 0.539916083864 {'kernel': 'rbf', 'C': 10.0, 'gamma': 10.0}\n",
      "7 0.484930907651 {'kernel': 'rbf', 'C': 1.0, 'gamma': 1.0}\n",
      "8 0.538515554729 {'kernel': 'rbf', 'C': 10.0, 'gamma': 100.0}\n",
      "9 0.482767259687 {'kernel': 'rbf', 'C': 0.001, 'gamma': 1.0}\n",
      "10 0.496466153932 {'kernel': 'rbf', 'C': 1.0, 'gamma': 1.0}\n",
      "11 0.521500065814 {'kernel': 'linear', 'C': 0.001}\n",
      "12 0.534208800275 {'kernel': 'rbf', 'C': 1.0, 'gamma': 10.0}\n",
      "13 0.499652807612 {'kernel': 'rbf', 'C': 10.0, 'gamma': 1.0}\n",
      "14 0.51449427198 {'kernel': 'rbf', 'C': 10.0, 'gamma': 1.0}\n",
      "15 0.534083169156 {'kernel': 'rbf', 'C': 1.0, 'gamma': 100.0}\n",
      "16 0.491755259341 {'kernel': 'rbf', 'C': 1.0, 'gamma': 1.0}\n",
      "17 0.53558713173 {'kernel': 'rbf', 'C': 100.0, 'gamma': 1.0}\n",
      "18 0.52403105394 {'kernel': 'rbf', 'C': 100.0, 'gamma': 1.0}\n",
      "19 0.486093869533 {'kernel': 'rbf', 'C': 100.0, 'gamma': 0.10000000000000001}\n",
      "20 0.495883860075 {'kernel': 'rbf', 'C': 1.0, 'gamma': 1.0}\n",
      "21 0.501540390445 {'kernel': 'rbf', 'C': 1.0, 'gamma': 1.0}\n",
      "22 0.498492600443 {'kernel': 'rbf', 'C': 1.0, 'gamma': 1.0}\n",
      "23 0.496482372463 {'kernel': 'rbf', 'C': 1.0, 'gamma': 1.0}\n",
      "24 0.517600240439 {'kernel': 'rbf', 'C': 10.0, 'gamma': 1.0}\n",
      "25 0.500796255702 {'kernel': 'rbf', 'C': 1.0, 'gamma': 1.0}\n",
      "26 0.478565808937 {'kernel': 'rbf', 'C': 100.0, 'gamma': 0.10000000000000001}\n",
      "27 0.539357988585 {'kernel': 'rbf', 'C': 100.0, 'gamma': 1.0}\n",
      "28 0.49476855329 {'kernel': 'rbf', 'C': 1.0, 'gamma': 1.0}\n",
      "29 0.480690798824 {'kernel': 'rbf', 'C': 100.0, 'gamma': 0.10000000000000001}\n",
      "30 0.496146051656 {'kernel': 'rbf', 'C': 1.0, 'gamma': 1.0}\n",
      "31 0.493521641705 {'kernel': 'rbf', 'C': 1.0, 'gamma': 1.0}\n",
      "32 0.537307646741 {'kernel': 'rbf', 'C': 1.0, 'gamma': 100.0}\n",
      "33 0.500768010826 {'kernel': 'rbf', 'C': 1.0, 'gamma': 10.0}\n",
      "34 0.488538366533 {'kernel': 'rbf', 'C': 100.0, 'gamma': 0.10000000000000001}\n",
      "35 0.493222950249 {'kernel': 'rbf', 'C': 1.0, 'gamma': 1.0}\n",
      "36 0.495050412636 {'kernel': 'rbf', 'C': 1.0, 'gamma': 1.0}\n",
      "37 0.498574408495 {'kernel': 'rbf', 'C': 1.0, 'gamma': 1.0}\n",
      "38 0.498973980574 {'kernel': 'rbf', 'C': 1.0, 'gamma': 1.0}\n",
      "39 0.488582519181 {'kernel': 'rbf', 'C': 100.0, 'gamma': 0.10000000000000001}\n",
      "40 0.495979219907 {'kernel': 'rbf', 'C': 1.0, 'gamma': 1.0}\n",
      "41 0.495557572236 {'kernel': 'rbf', 'C': 1.0, 'gamma': 1.0}\n"
     ]
    }
   ],
   "source": [
    "scores = []\n",
    "clf = SVC(probability=True)\n",
    "param_grid = [dict(kernel=['linear'],\n",
    "                   C=np.logspace(-3, 3, base=10, num=15),\n",
    "                   shrinking=[True, False]),\n",
    "              dict(kernel=['rbf'],\n",
    "                   C=np.logspace(-3, 3, base=10, num=15),\n",
    "                   gamma=np.logspace(-3, 2, base=10, num=15),\n",
    "                   shrinking=[True, False])]\n",
    "for i, features in enumerate(features_set):\n",
    "    grid = GridSearchCV(clf, param_grid, cv=StatifiedCV, scoring='log_loss', n_jobs=-1)\n",
    "    grid.fit(X=df_train[features].values, y=y_train)\n",
    "    scores.append((-grid.best_score_, i, grid.best_params_))\n",
    "    print i, -grid.best_score_, grid.best_params_"
   ]
  },
  {
   "cell_type": "markdown",
   "metadata": {},
   "source": [
    "### Set the optimal hyperparameters and feature set; refit the model to the entire training set"
   ]
  },
  {
   "cell_type": "code",
   "execution_count": 20,
   "metadata": {
    "collapsed": false
   },
   "outputs": [
    {
     "name": "stdout",
     "output_type": "stream",
     "text": [
      "Optimal score: 0.48\n",
      "Optimal features:  ['months_since_last', 'months_since_first', 'last_to_first', 'months_btwn_donation']\n",
      "Optimal parameters:  {'kernel': 'rbf', 'C': 100.0, 'gamma': 0.10000000000000001}\n"
     ]
    }
   ],
   "source": [
    "scores.sort()\n",
    "optimal_features = features_set[scores[0][1]]\n",
    "optimal_params = scores[0][2]\n",
    "X_train = df_train[optimal_features].values\n",
    "optimal_clf = clf.set_params(**optimal_params).fit(X_train, y_train)\n",
    "print 'Optimal score: %.2f' % scores[0][0]\n",
    "print 'Optimal features: ', optimal_features\n",
    "print 'Optimal parameters: ', optimal_params"
   ]
  },
  {
   "cell_type": "markdown",
   "metadata": {},
   "source": [
    "### Load the test data, predict the probabilities and write to csv"
   ]
  },
  {
   "cell_type": "code",
   "execution_count": 21,
   "metadata": {
    "collapsed": true
   },
   "outputs": [],
   "source": [
    "df_test, y_dummy, ids_test, features_set_dummy = load_data(train=False, engineering=True, standardizer=stdsc)"
   ]
  },
  {
   "cell_type": "code",
   "execution_count": 22,
   "metadata": {
    "collapsed": false
   },
   "outputs": [],
   "source": [
    "X_test = df_test[optimal_features].values\n",
    "y_pred_prob = optimal_clf.predict_proba(X_test)[:,1]\n",
    "df_out = pd.DataFrame({'':ids_test, 'Made Donation in March 2007':y_pred_prob})\n",
    "df_out.to_csv(outfile, index=False, header=True)"
   ]
  },
  {
   "cell_type": "markdown",
   "metadata": {},
   "source": [
    "# Evaluation of the optimal classifier"
   ]
  },
  {
   "cell_type": "markdown",
   "metadata": {},
   "source": [
    "### Learning curve"
   ]
  },
  {
   "cell_type": "code",
   "execution_count": 28,
   "metadata": {
    "collapsed": false
   },
   "outputs": [
    {
     "data": {
      "text/plain": [
       "(0.3, 1)"
      ]
     },
     "execution_count": 28,
     "metadata": {},
     "output_type": "execute_result"
    },
    {
     "data": {
      "image/png": "[encoded data removed]",
      "text/plain": [
       "<matplotlib.figure.Figure at 0x1125433d0>"
      ]
     },
     "metadata": {},
     "output_type": "display_data"
    }
   ],
   "source": [
    "import matplotlib.pyplot as plt\n",
    "%matplotlib inline\n",
    "plt.style.use('halverson')\n",
    "\n",
    "from sklearn.learning_curve import learning_curve\n",
    "\n",
    "train_sizes, train_scores, test_scores = learning_curve(optimal_clf, X_train, y_train, train_sizes=np.linspace(0.2, 1, 10), cv=10)\n",
    "train_mean = np.mean(train_scores, axis=1)\n",
    "train_std = np.std(train_scores, axis=1)\n",
    "test_mean = np.mean(test_scores, axis=1)\n",
    "test_std = np.std(test_scores, axis=1)\n",
    "\n",
    "plt.plot(train_sizes, train_mean, color='b', marker='o', label='Train accuracy')\n",
    "plt.fill_between(train_sizes, train_mean + train_std, train_mean - train_std, alpha=0.15, color='b')\n",
    "plt.plot(train_sizes, test_mean, color='g', marker='o', label='Validation accuracy')\n",
    "plt.fill_between(train_sizes, test_mean + test_std, test_mean - test_std, alpha=0.15, color='g')\n",
    "\n",
    "plt.xlabel('Number of training samples')\n",
    "plt.ylabel('Accuracy')\n",
    "plt.legend(loc='lower right')\n",
    "plt.grid()\n",
    "plt.ylim(0.3, 1)"
   ]
  },
  {
   "cell_type": "markdown",
   "metadata": {},
   "source": [
    "The learning curve for the optimal set of parameters and features is shown above. We see that the model is well fit. The shaded region indicate the standard deviation of the accuracy scores."
   ]
  },
  {
   "cell_type": "markdown",
   "metadata": {},
   "source": [
    "### Confusion matrix"
   ]
  },
  {
   "cell_type": "code",
   "execution_count": 24,
   "metadata": {
    "collapsed": false
   },
   "outputs": [
    {
     "name": "stdout",
     "output_type": "stream",
     "text": [
      "[[403  35]\n",
      " [ 80  58]]\n"
     ]
    }
   ],
   "source": [
    "from sklearn.cross_validation import cross_val_predict\n",
    "from sklearn.metrics import confusion_matrix\n",
    "\n",
    "y_train_pred_cv = cross_val_predict(optimal_clf, X_train, y_train, cv=StatifiedCV)\n",
    "confmat = confusion_matrix(y_true=y_train, y_pred=y_train_pred_cv)\n",
    "print confmat"
   ]
  },
  {
   "cell_type": "markdown",
   "metadata": {},
   "source": [
    "The function cross_val_predict has a similar interface to cross_val_score, but returns for each element in the input the prediction that was obtained for that element when it was in the test set. It does not offer a predict_proba method yet but this is under discussion."
   ]
  },
  {
   "cell_type": "code",
   "execution_count": 25,
   "metadata": {
    "collapsed": false
   },
   "outputs": [
    {
     "data": {
      "text/plain": [
       "<matplotlib.text.Text at 0x1123ead90>"
      ]
     },
     "execution_count": 25,
     "metadata": {},
     "output_type": "execute_result"
    },
    {
     "data": {
      "image/png": "[encoded data removed]",
      "text/plain": [
       "<matplotlib.figure.Figure at 0x111819510>"
      ]
     },
     "metadata": {},
     "output_type": "display_data"
    }
   ],
   "source": [
    "fig, ax = plt.subplots(figsize=(3, 3))\n",
    "ax.matshow(confmat, cmap=plt.cm.Blues, alpha=0.3)\n",
    "for i in range(confmat.shape[0]):\n",
    "    for j in range(confmat.shape[1]):\n",
    "        ax.text(x=j, y=i, s=confmat[i, j], va='center', ha='center')\n",
    "plt.xlabel('Predicted label')\n",
    "plt.ylabel('True label')"
   ]
  },
  {
   "cell_type": "markdown",
   "metadata": {},
   "source": [
    "### Metrics"
   ]
  },
  {
   "cell_type": "code",
   "execution_count": 26,
   "metadata": {
    "collapsed": false
   },
   "outputs": [
    {
     "name": "stdout",
     "output_type": "stream",
     "text": [
      "Accuracy:  0.80\n",
      "Recall:    0.42\n",
      "Precision: 0.62\n",
      "F1 score:  0.50\n",
      "Log loss:  6.90\n"
     ]
    }
   ],
   "source": [
    "from sklearn.metrics import accuracy_score\n",
    "from sklearn.metrics import recall_score\n",
    "from sklearn.metrics import precision_score\n",
    "from sklearn.metrics import f1_score\n",
    "from sklearn.metrics import log_loss\n",
    "\n",
    "print 'Accuracy:  %.2f' % accuracy_score(y_true=y_train, y_pred=y_train_pred_cv)\n",
    "print 'Recall:    %.2f' % recall_score(y_true=y_train, y_pred=y_train_pred_cv)\n",
    "print 'Precision: %.2f' % precision_score(y_true=y_train, y_pred=y_train_pred_cv)\n",
    "print 'F1 score:  %.2f' % f1_score(y_true=y_train, y_pred=y_train_pred_cv)\n",
    "print 'Log loss:  %.2f' % log_loss(y_true=y_train, y_pred=y_train_pred_cv)"
   ]
  },
  {
   "cell_type": "markdown",
   "metadata": {},
   "source": [
    "### Permutation test score"
   ]
  },
  {
   "cell_type": "markdown",
   "metadata": {},
   "source": [
    "In order to test if a classification score is significant, a technique in repeating the classification procedure after randomizing, permuting, the labels. The p-value is then given by the percentage of runs for which the score obtained is greater than the classification score obtained in the first place."
   ]
  },
  {
   "cell_type": "code",
   "execution_count": 27,
   "metadata": {
    "collapsed": false
   },
   "outputs": [
    {
     "data": {
      "text/plain": [
       "(0.45, 0.8)"
      ]
     },
     "execution_count": 27,
     "metadata": {},
     "output_type": "execute_result"
    },
    {
     "data": {
      "image/png": "[encoded data removed]",
      "text/plain": [
       "<matplotlib.figure.Figure at 0x11175b390>"
      ]
     },
     "metadata": {},
     "output_type": "display_data"
    }
   ],
   "source": [
    "from sklearn.cross_validation import permutation_test_score\n",
    "\n",
    "score, permutation_scores, pvalue = permutation_test_score(optimal_clf, X_train, y_train, cv=StatifiedCV, n_permutations=100, scoring='accuracy')\n",
    "plt.figure(figsize=(14,5))\n",
    "plt.hist(permutation_scores, 20, label='Permutation scores')\n",
    "plt.plot(2 * [score], plt.ylim(), '--g', linewidth=2, label='Classification score (pvalue {:.2f})'.format(pvalue))\n",
    "plt.plot(2 * [1. / 2], plt.ylim(), '--r', linewidth=2, label='Random guessing')\n",
    "plt.legend(loc='upper center')\n",
    "plt.xlabel('Accuracy')\n",
    "plt.ylabel('Count')\n",
    "plt.xlim(0.45, 0.85)"
   ]
  }
 ],
 "metadata": {
  "kernelspec": {
   "display_name": "Python 2",
   "language": "python",
   "name": "python2"
  },
  "language_info": {
   "codemirror_mode": {
    "name": "ipython",
    "version": 2
   },
   "file_extension": ".py",
   "mimetype": "text/x-python",
   "name": "python",
   "nbconvert_exporter": "python",
   "pygments_lexer": "ipython2",
   "version": "2.7.5"
  }
 },
 "nbformat": 4,
 "nbformat_minor": 0
}
