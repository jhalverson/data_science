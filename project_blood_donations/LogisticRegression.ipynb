{
 "cells": [
  {
   "cell_type": "markdown",
   "metadata": {},
   "source": [
    "# Logistic regression"
   ]
  },
  {
   "cell_type": "code",
   "execution_count": 1,
   "metadata": {
    "collapsed": false
   },
   "outputs": [],
   "source": [
    "from sklearn.linear_model import LogisticRegression\n",
    "\n",
    "import numpy as np\n",
    "import pandas as pd\n",
    "from helper_methods import load_data\n",
    "from sklearn.metrics import log_loss\n",
    "from sklearn.grid_search import GridSearchCV\n",
    "from sklearn.cross_validation import StratifiedKFold"
   ]
  },
  {
   "cell_type": "code",
   "execution_count": 2,
   "metadata": {
    "collapsed": false
   },
   "outputs": [],
   "source": [
    "from sklearn.preprocessing import StandardScaler\n",
    "stdsc = StandardScaler()"
   ]
  },
  {
   "cell_type": "code",
   "execution_count": 3,
   "metadata": {
    "collapsed": false
   },
   "outputs": [],
   "source": [
    "df_train, y_train, ids_train, features_set = load_data(train=True, engineering=True, standardizer=stdsc)"
   ]
  },
  {
   "cell_type": "code",
   "execution_count": 4,
   "metadata": {
    "collapsed": true
   },
   "outputs": [],
   "source": [
    "StatifiedCV = StratifiedKFold(y_train, n_folds=10, shuffle=True)"
   ]
  },
  {
   "cell_type": "code",
   "execution_count": 5,
   "metadata": {
    "collapsed": false
   },
   "outputs": [
    {
     "name": "stdout",
     "output_type": "stream",
     "text": [
      "0 -0.489659942129 {'penalty': 'l2', 'C': 0.33598182862837811, 'fit_intercept': True} 3\n",
      "1 -0.495913433924 {'penalty': 'l2', 'C': 0.69519279617756058, 'fit_intercept': True} 3\n",
      "2 -0.491591196651 {'penalty': 'l2', 'C': 0.33598182862837811, 'fit_intercept': True} 3\n",
      "3 -0.495551413688 {'penalty': 'l2', 'C': 0.69519279617756058, 'fit_intercept': True} 3\n",
      "4 -0.502874494743 {'penalty': 'l2', 'C': 0.33598182862837811, 'fit_intercept': True} 3\n",
      "5 -0.497922355845 {'penalty': 'l2', 'C': 0.33598182862837811, 'fit_intercept': True} 3\n",
      "6 -0.503032121377 {'penalty': 'l1', 'C': 0.33598182862837811, 'fit_intercept': True} 3\n",
      "7 -0.489099528039 {'penalty': 'l2', 'C': 0.33598182862837811, 'fit_intercept': True} 3\n",
      "8 -0.502304219267 {'penalty': 'l2', 'C': 0.69519279617756058, 'fit_intercept': True} 3\n",
      "9 -0.485204546694 {'penalty': 'l2', 'C': 0.33598182862837811, 'fit_intercept': True} 3\n",
      "10 -0.486984799959 {'penalty': 'l2', 'C': 0.69519279617756058, 'fit_intercept': True} 3\n",
      "11 -0.505314170156 {'penalty': 'l2', 'C': 0.16237767391887209, 'fit_intercept': True} 3\n",
      "12 -0.513362931209 {'penalty': 'l2', 'C': 0.33598182862837811, 'fit_intercept': True} 3\n",
      "13 -0.495237555373 {'penalty': 'l2', 'C': 0.33598182862837811, 'fit_intercept': True} 3\n",
      "14 -0.516087238284 {'penalty': 'l2', 'C': 0.69519279617756058, 'fit_intercept': True} 3\n",
      "15 -0.502502481034 {'penalty': 'l2', 'C': 0.33598182862837811, 'fit_intercept': True} 3\n",
      "16 -0.492931851854 {'penalty': 'l2', 'C': 0.33598182862837811, 'fit_intercept': True} 3\n",
      "17 -0.512389504915 {'penalty': 'l2', 'C': 0.69519279617756058, 'fit_intercept': True} 3\n",
      "18 -0.501301979035 {'penalty': 'l1', 'C': 0.33598182862837811, 'fit_intercept': True} 3\n",
      "19 -0.494427957177 {'penalty': 'l2', 'C': 0.33598182862837811, 'fit_intercept': True} 3\n",
      "20 -0.483501285034 {'penalty': 'l2', 'C': 0.33598182862837811, 'fit_intercept': True} 4\n",
      "21 -0.491866499823 {'penalty': 'l2', 'C': 0.16237767391887209, 'fit_intercept': True} 4\n",
      "22 -0.484730582827 {'penalty': 'l2', 'C': 0.33598182862837811, 'fit_intercept': True} 4\n",
      "23 -0.489251704652 {'penalty': 'l2', 'C': 0.33598182862837811, 'fit_intercept': True} 4\n",
      "24 -0.495706079639 {'penalty': 'l1', 'C': 0.69519279617756058, 'fit_intercept': True} 4\n",
      "25 -0.486659829846 {'penalty': 'l2', 'C': 0.33598182862837811, 'fit_intercept': True} 4\n",
      "26 -0.491219313003 {'penalty': 'l2', 'C': 0.33598182862837811, 'fit_intercept': True} 4\n",
      "27 -0.503088198161 {'penalty': 'l2', 'C': 0.33598182862837811, 'fit_intercept': True} 4\n",
      "28 -0.486971938221 {'penalty': 'l1', 'C': 0.33598182862837811, 'fit_intercept': True} 4\n",
      "29 -0.486490375298 {'penalty': 'l2', 'C': 0.33598182862837811, 'fit_intercept': True} 4\n",
      "30 -0.487585086704 {'penalty': 'l2', 'C': 0.16237767391887209, 'fit_intercept': True} 4\n",
      "31 -0.488274942352 {'penalty': 'l2', 'C': 0.69519279617756058, 'fit_intercept': True} 4\n",
      "32 -0.500762076555 {'penalty': 'l2', 'C': 0.33598182862837811, 'fit_intercept': True} 4\n",
      "33 -0.495966736303 {'penalty': 'l1', 'C': 0.33598182862837811, 'fit_intercept': True} 4\n",
      "34 -0.493942409647 {'penalty': 'l2', 'C': 0.33598182862837811, 'fit_intercept': True} 4\n",
      "35 -0.485329845448 {'penalty': 'l2', 'C': 0.16237767391887209, 'fit_intercept': True} 5\n",
      "36 -0.483885420349 {'penalty': 'l2', 'C': 0.33598182862837811, 'fit_intercept': True} 5\n",
      "37 -0.484972062863 {'penalty': 'l2', 'C': 0.16237767391887209, 'fit_intercept': True} 5\n",
      "38 -0.487255703127 {'penalty': 'l2', 'C': 0.33598182862837811, 'fit_intercept': True} 5\n",
      "39 -0.488745995781 {'penalty': 'l1', 'C': 0.33598182862837811, 'fit_intercept': True} 5\n",
      "40 -0.489015202979 {'penalty': 'l2', 'C': 0.16237767391887209, 'fit_intercept': True} 5\n",
      "41 -0.484784687309 {'penalty': 'l2', 'C': 0.16237767391887209, 'fit_intercept': True} 6\n"
     ]
    }
   ],
   "source": [
    "scores = []\n",
    "lg = LogisticRegression()\n",
    "param_grid = dict(C=np.logspace(-3, 3, base=10, num=20), penalty=['l1', 'l2'])\n",
    "for i, features in enumerate(features_set):\n",
    "    grid = GridSearchCV(lg, param_grid, cv=StatifiedCV, scoring='log_loss')\n",
    "    grid.fit(df_train[features].values, y_train)\n",
    "    scores.append((-grid.best_score_, i, grid.best_params_))\n",
    "    print i, grid.best_score_, grid.best_params_, len(features)"
   ]
  },
  {
   "cell_type": "markdown",
   "metadata": {},
   "source": [
    "### Set the optimal hyperparameters, refit using the training set, and feature set"
   ]
  },
  {
   "cell_type": "code",
   "execution_count": 7,
   "metadata": {
    "collapsed": false
   },
   "outputs": [
    {
     "data": {
      "text/plain": [
       "LogisticRegression(C=0.33598182862837811, class_weight=None, dual=False,\n",
       "          fit_intercept=True, intercept_scaling=1, max_iter=100,\n",
       "          multi_class='ovr', n_jobs=1, penalty='l2', random_state=None,\n",
       "          solver='liblinear', tol=0.0001, verbose=0, warm_start=False)"
      ]
     },
     "execution_count": 7,
     "metadata": {},
     "output_type": "execute_result"
    }
   ],
   "source": [
    "scores.sort()\n",
    "optimal_features = features_set[scores[0][1]]\n",
    "optimal_params = scores[0][2]\n",
    "clf = lg.set_params(**optimal_params).fit(df_train[optimal_features].values, y_train)"
   ]
  },
  {
   "cell_type": "code",
   "execution_count": 9,
   "metadata": {
    "collapsed": false
   },
   "outputs": [
    {
     "name": "stdout",
     "output_type": "stream",
     "text": [
      "['months_since_last', 'number_of_donations', 'months_since_first', 'last_to_first']\n",
      "[(0.48350128503398371, 20, {'penalty': 'l2', 'C': 0.33598182862837811, 'fit_intercept': True}), (0.48388542034873766, 36, {'penalty': 'l2', 'C': 0.33598182862837811, 'fit_intercept': True}), (0.48473058282673864, 22, {'penalty': 'l2', 'C': 0.33598182862837811, 'fit_intercept': True}), (0.48478468730900887, 41, {'penalty': 'l2', 'C': 0.16237767391887209, 'fit_intercept': True}), (0.48497206286307182, 37, {'penalty': 'l2', 'C': 0.16237767391887209, 'fit_intercept': True}), (0.48520454669431451, 9, {'penalty': 'l2', 'C': 0.33598182862837811, 'fit_intercept': True}), (0.48532984544812341, 35, {'penalty': 'l2', 'C': 0.16237767391887209, 'fit_intercept': True}), (0.48649037529807376, 29, {'penalty': 'l2', 'C': 0.33598182862837811, 'fit_intercept': True}), (0.48665982984639888, 25, {'penalty': 'l2', 'C': 0.33598182862837811, 'fit_intercept': True}), (0.48697193822051549, 28, {'penalty': 'l1', 'C': 0.33598182862837811, 'fit_intercept': True}), (0.48698479995936439, 10, {'penalty': 'l2', 'C': 0.69519279617756058, 'fit_intercept': True}), (0.48725570312744121, 38, {'penalty': 'l2', 'C': 0.33598182862837811, 'fit_intercept': True}), (0.48758508670354078, 30, {'penalty': 'l2', 'C': 0.16237767391887209, 'fit_intercept': True}), (0.48827494235247065, 31, {'penalty': 'l2', 'C': 0.69519279617756058, 'fit_intercept': True}), (0.48874599578073863, 39, {'penalty': 'l1', 'C': 0.33598182862837811, 'fit_intercept': True}), (0.4890152029793795, 40, {'penalty': 'l2', 'C': 0.16237767391887209, 'fit_intercept': True}), (0.48909952803907764, 7, {'penalty': 'l2', 'C': 0.33598182862837811, 'fit_intercept': True}), (0.4892517046518492, 23, {'penalty': 'l2', 'C': 0.33598182862837811, 'fit_intercept': True}), (0.48965994212926883, 0, {'penalty': 'l2', 'C': 0.33598182862837811, 'fit_intercept': True}), (0.49121931300319333, 26, {'penalty': 'l2', 'C': 0.33598182862837811, 'fit_intercept': True}), (0.49159119665075668, 2, {'penalty': 'l2', 'C': 0.33598182862837811, 'fit_intercept': True}), (0.49186649982253666, 21, {'penalty': 'l2', 'C': 0.16237767391887209, 'fit_intercept': True}), (0.49293185185385952, 16, {'penalty': 'l2', 'C': 0.33598182862837811, 'fit_intercept': True}), (0.49394240964732095, 34, {'penalty': 'l2', 'C': 0.33598182862837811, 'fit_intercept': True}), (0.49442795717691485, 19, {'penalty': 'l2', 'C': 0.33598182862837811, 'fit_intercept': True}), (0.49523755537298897, 13, {'penalty': 'l2', 'C': 0.33598182862837811, 'fit_intercept': True}), (0.49555141368759004, 3, {'penalty': 'l2', 'C': 0.69519279617756058, 'fit_intercept': True}), (0.49570607963866009, 24, {'penalty': 'l1', 'C': 0.69519279617756058, 'fit_intercept': True}), (0.49591343392359616, 1, {'penalty': 'l2', 'C': 0.69519279617756058, 'fit_intercept': True}), (0.49596673630262877, 33, {'penalty': 'l1', 'C': 0.33598182862837811, 'fit_intercept': True}), (0.49792235584505956, 5, {'penalty': 'l2', 'C': 0.33598182862837811, 'fit_intercept': True}), (0.50076207655480554, 32, {'penalty': 'l2', 'C': 0.33598182862837811, 'fit_intercept': True}), (0.50130197903532314, 18, {'penalty': 'l1', 'C': 0.33598182862837811, 'fit_intercept': True}), (0.50230421926749336, 8, {'penalty': 'l2', 'C': 0.69519279617756058, 'fit_intercept': True}), (0.5025024810340919, 15, {'penalty': 'l2', 'C': 0.33598182862837811, 'fit_intercept': True}), (0.50287449474345591, 4, {'penalty': 'l2', 'C': 0.33598182862837811, 'fit_intercept': True}), (0.50303212137664854, 6, {'penalty': 'l1', 'C': 0.33598182862837811, 'fit_intercept': True}), (0.50308819816112993, 27, {'penalty': 'l2', 'C': 0.33598182862837811, 'fit_intercept': True}), (0.50531417015647206, 11, {'penalty': 'l2', 'C': 0.16237767391887209, 'fit_intercept': True}), (0.51238950491506696, 17, {'penalty': 'l2', 'C': 0.69519279617756058, 'fit_intercept': True}), (0.51336293120852927, 12, {'penalty': 'l2', 'C': 0.33598182862837811, 'fit_intercept': True}), (0.51608723828446168, 14, {'penalty': 'l2', 'C': 0.69519279617756058, 'fit_intercept': True})]\n"
     ]
    }
   ],
   "source": [
    "print optimal_features\n",
    "print sorted(scores)"
   ]
  },
  {
   "cell_type": "markdown",
   "metadata": {},
   "source": [
    "### Load test data, predict the probability and write to csv"
   ]
  },
  {
   "cell_type": "code",
   "execution_count": 10,
   "metadata": {
    "collapsed": true
   },
   "outputs": [],
   "source": [
    "df_test, y_dummy, ids_test, features_set_dummy = load_data(train=False, engineering=True, standardizer=stdsc)"
   ]
  },
  {
   "cell_type": "code",
   "execution_count": 11,
   "metadata": {
    "collapsed": false
   },
   "outputs": [],
   "source": [
    "X_test = df_test[optimal_features].values\n",
    "y_pred_prob = clf.predict_proba(X_test)[:,1]\n",
    "df_out = pd.DataFrame({'':ids_test, 'Made Donation in March 2007':y_pred_prob})\n",
    "df_out.to_csv('logistic_regression.csv', index=False, header=True)"
   ]
  }
 ],
 "metadata": {
  "kernelspec": {
   "display_name": "Python 2",
   "language": "python",
   "name": "python2"
  },
  "language_info": {
   "codemirror_mode": {
    "name": "ipython",
    "version": 2
   },
   "file_extension": ".py",
   "mimetype": "text/x-python",
   "name": "python",
   "nbconvert_exporter": "python",
   "pygments_lexer": "ipython2",
   "version": "2.7.5"
  }
 },
 "nbformat": 4,
 "nbformat_minor": 0
}
