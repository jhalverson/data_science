{
 "cells": [
  {
   "cell_type": "markdown",
   "metadata": {},
   "source": [
    "# Jonathan Halverson\n",
    "# Thursday, January 10, 2018\n",
    "# Part 1: Creating Reber and non-Reber grammars"
   ]
  },
  {
   "cell_type": "code",
   "execution_count": 1,
   "metadata": {
    "collapsed": true
   },
   "outputs": [],
   "source": [
    "import numpy as np\n",
    "import tensorflow as tf\n",
    "import matplotlib.pyplot as plt\n",
    "%matplotlib inline\n",
    "plt.style.use('halverson')"
   ]
  },
  {
   "cell_type": "markdown",
   "metadata": {},
   "source": [
    "Our generating function is recursive:"
   ]
  },
  {
   "cell_type": "code",
   "execution_count": 2,
   "metadata": {
    "collapsed": true
   },
   "outputs": [],
   "source": [
    "def sub_branch(s_):\n",
    "     while (np.random.choice([True, False])):\n",
    "          s_ += 'T'\n",
    "     s_ += 'V'\n",
    "     if np.random.choice([True, False]):\n",
    "          s_ += 'P'\n",
    "          if np.random.choice([True, False]):\n",
    "               s_ += 'SE'\n",
    "          else:\n",
    "               s_ += 'X'\n",
    "               s_ = sub_branch(s_)\n",
    "     else:\n",
    "          s_ += 'VE'\n",
    "     return s_"
   ]
  },
  {
   "cell_type": "code",
   "execution_count": 3,
   "metadata": {
    "collapsed": true
   },
   "outputs": [],
   "source": [
    "def make_reber_grammar():\n",
    "     s = 'B'\n",
    "     if np.random.choice([True, False]):\n",
    "          s += 'T'\n",
    "          while (np.random.choice([True, False])):\n",
    "               s += 'S'\n",
    "          s += 'X'\n",
    "          if np.random.choice([True, False]):\n",
    "               s += 'X'\n",
    "               s = sub_branch(s)\n",
    "          else:\n",
    "               s += 'SE'\n",
    "     else:\n",
    "          s += 'P'\n",
    "          s = sub_branch(s)\n",
    "     return s"
   ]
  },
  {
   "cell_type": "code",
   "execution_count": 4,
   "metadata": {
    "collapsed": true
   },
   "outputs": [],
   "source": [
    "np.random.seed(424242)"
   ]
  },
  {
   "cell_type": "code",
   "execution_count": 5,
   "metadata": {
    "collapsed": false
   },
   "outputs": [],
   "source": [
    "N = 100000\n",
    "correct_samples = [make_reber_grammar() for _ in range(N)]"
   ]
  },
  {
   "cell_type": "code",
   "execution_count": 6,
   "metadata": {
    "collapsed": false
   },
   "outputs": [
    {
     "data": {
      "text/plain": [
       "['BPTTTVPSE',\n",
       " 'BTSXXTVVE',\n",
       " 'BTSSSXSE',\n",
       " 'BPTVVE',\n",
       " 'BPVPSE',\n",
       " 'BPTVPXTVVE',\n",
       " 'BTXSE',\n",
       " 'BTSXXVPSE',\n",
       " 'BTSXSE',\n",
       " 'BTXSE']"
      ]
     },
     "execution_count": 6,
     "metadata": {},
     "output_type": "execute_result"
    }
   ],
   "source": [
    "correct_samples[:10]"
   ]
  },
  {
   "cell_type": "code",
   "execution_count": 7,
   "metadata": {
    "collapsed": false
   },
   "outputs": [
    {
     "data": {
      "text/plain": [
       "(5, 37)"
      ]
     },
     "execution_count": 7,
     "metadata": {},
     "output_type": "execute_result"
    }
   ],
   "source": [
    "lengths_correct_samples = [len(sample) for sample in correct_samples]\n",
    "min(lengths_correct_samples), max(lengths_correct_samples)"
   ]
  },
  {
   "cell_type": "code",
   "execution_count": 8,
   "metadata": {
    "collapsed": false
   },
   "outputs": [
    {
     "data": {
      "text/plain": [
       "<matplotlib.text.Text at 0x11b674b50>"
      ]
     },
     "execution_count": 8,
     "metadata": {},
     "output_type": "execute_result"
    },
    {
     "data": {
      "image/png": "[encoded data removed]",
      "text/plain": [
       "<matplotlib.figure.Figure at 0x118d252d0>"
      ]
     },
     "metadata": {},
     "output_type": "display_data"
    }
   ],
   "source": [
    "plt.hist(lengths_correct_samples, bins=np.linspace(0.5, 40.5, 41), normed=True, rwidth=0.8)\n",
    "plt.xlabel('Grammar length')\n",
    "plt.ylabel('Count')\n",
    "plt.title('Reber Correct')"
   ]
  },
  {
   "cell_type": "code",
   "execution_count": 10,
   "metadata": {
    "collapsed": false
   },
   "outputs": [
    {
     "data": {
      "text/plain": [
       "array([[    0,     0],\n",
       "       [    1,     0],\n",
       "       [    2,     0],\n",
       "       [    3,     0],\n",
       "       [    4,     0],\n",
       "       [    5, 24959],\n",
       "       [    6, 18794],\n",
       "       [    7, 12439],\n",
       "       [    8, 10958],\n",
       "       [    9,  8602],\n",
       "       [   10,  6258],\n",
       "       [   11,  4616],\n",
       "       [   12,  3523],\n",
       "       [   13,  2676],\n",
       "       [   14,  1898],\n",
       "       [   15,  1390],\n",
       "       [   16,  1049],\n",
       "       [   17,   740],\n",
       "       [   18,   546],\n",
       "       [   19,   413],\n",
       "       [   20,   317],\n",
       "       [   21,   202],\n",
       "       [   22,   173],\n",
       "       [   23,   131],\n",
       "       [   24,    86],\n",
       "       [   25,    64],\n",
       "       [   26,    45],\n",
       "       [   27,    30],\n",
       "       [   28,    34],\n",
       "       [   29,    18],\n",
       "       [   30,     8],\n",
       "       [   31,    12],\n",
       "       [   32,     6],\n",
       "       [   33,     5],\n",
       "       [   34,     6],\n",
       "       [   35,     1],\n",
       "       [   36,     0],\n",
       "       [   37,     1]])"
      ]
     },
     "execution_count": 10,
     "metadata": {},
     "output_type": "execute_result"
    }
   ],
   "source": [
    "counts_correct_samples = np.bincount(lengths_correct_samples)\n",
    "np.c_[np.arange(counts_correct_samples.size), counts_correct_samples]"
   ]
  },
  {
   "cell_type": "code",
   "execution_count": 11,
   "metadata": {
    "collapsed": false
   },
   "outputs": [
    {
     "data": {
      "text/plain": [
       "array([  0.00000000e+00,   0.00000000e+00,   0.00000000e+00,\n",
       "         0.00000000e+00,   0.00000000e+00,   2.49590000e-01,\n",
       "         1.87940000e-01,   1.24390000e-01,   1.09580000e-01,\n",
       "         8.60200000e-02,   6.25800000e-02,   4.61600000e-02,\n",
       "         3.52300000e-02,   2.67600000e-02,   1.89800000e-02,\n",
       "         1.39000000e-02,   1.04900000e-02,   7.40000000e-03,\n",
       "         5.46000000e-03,   4.13000000e-03,   3.17000000e-03,\n",
       "         2.02000000e-03,   1.73000000e-03,   1.31000000e-03,\n",
       "         8.60000000e-04,   6.40000000e-04,   4.50000000e-04,\n",
       "         3.00000000e-04,   3.40000000e-04,   1.80000000e-04,\n",
       "         8.00000000e-05,   1.20000000e-04,   6.00000000e-05,\n",
       "         5.00000000e-05,   6.00000000e-05,   1.00000000e-05,\n",
       "         0.00000000e+00,   1.00000000e-05])"
      ]
     },
     "execution_count": 11,
     "metadata": {},
     "output_type": "execute_result"
    }
   ],
   "source": [
    "length_proportions_correct = counts_correct_samples / float(N)\n",
    "length_proportions_correct"
   ]
  },
  {
   "cell_type": "code",
   "execution_count": 12,
   "metadata": {
    "collapsed": false
   },
   "outputs": [
    {
     "data": {
      "text/plain": [
       "0.99999999999999978"
      ]
     },
     "execution_count": 12,
     "metadata": {},
     "output_type": "execute_result"
    }
   ],
   "source": [
    "length_proportions_correct.sum()"
   ]
  },
  {
   "cell_type": "code",
   "execution_count": 13,
   "metadata": {
    "collapsed": false
   },
   "outputs": [],
   "source": [
    "from collections import Counter"
   ]
  },
  {
   "cell_type": "code",
   "execution_count": 24,
   "metadata": {
    "collapsed": true
   },
   "outputs": [],
   "source": [
    "def show_character_proportions(words):\n",
    "     joined = ''.join(words).replace('B', '').replace('E', '')\n",
    "     characters = [c for c in joined]\n",
    "     c = Counter(characters)\n",
    "     char_proportions_correct = np.array(c.values()) / float(len(characters))\n",
    "\n",
    "     for char, cnt, pro in zip(c.keys(), c.values(), char_proportions_correct):\n",
    "          print char, cnt, pro\n",
    "     print 'sum of proportions:', char_proportions_correct.sum()"
   ]
  },
  {
   "cell_type": "code",
   "execution_count": 25,
   "metadata": {
    "collapsed": false
   },
   "outputs": [
    {
     "name": "stdout",
     "output_type": "stream",
     "text": [
      "P 100092 0.16672024572\n",
      "S 99997 0.166562007066\n",
      "T 150034 0.249907138895\n",
      "X 99821 0.166268849139\n",
      "V 150415 0.250541759181\n",
      "sum of proportions: 1.0\n"
     ]
    }
   ],
   "source": [
    "show_character_proportions(correct_samples)"
   ]
  },
  {
   "cell_type": "markdown",
   "metadata": {},
   "source": [
    "### Incorrect Reber samples"
   ]
  },
  {
   "cell_type": "markdown",
   "metadata": {},
   "source": [
    "Now we know the frequencies that the letters should appear in. We will now construct incorrect Reber grammars using these same frequencies:"
   ]
  },
  {
   "cell_type": "code",
   "execution_count": 26,
   "metadata": {
    "collapsed": false
   },
   "outputs": [],
   "source": [
    "# could also not start with B and end with E\n",
    "def make_wrong_grammar():\n",
    "     length = np.random.choice(np.arange(38), size=1, p=length_proportions_correct)\n",
    "     w = 'B'\n",
    "     for _ in range(length - 2):\n",
    "          w += np.random.choice(c.keys(), size=1, p=char_proportions_correct)[0]\n",
    "     w += 'E'\n",
    "     return w"
   ]
  },
  {
   "cell_type": "markdown",
   "metadata": {},
   "source": [
    "Note that np.random.choice returns the following:"
   ]
  },
  {
   "cell_type": "code",
   "execution_count": 27,
   "metadata": {
    "collapsed": false
   },
   "outputs": [
    {
     "ename": "NameError",
     "evalue": "name 'c' is not defined",
     "output_type": "error",
     "traceback": [
      "\u001b[0;31m---------------------------------------------------------------------------\u001b[0m",
      "\u001b[0;31mNameError\u001b[0m                                 Traceback (most recent call last)",
      "\u001b[0;32m<ipython-input-27-7471e4f27c14>\u001b[0m in \u001b[0;36m<module>\u001b[0;34m()\u001b[0m\n\u001b[0;32m----> 1\u001b[0;31m \u001b[0mnp\u001b[0m\u001b[0;34m.\u001b[0m\u001b[0mrandom\u001b[0m\u001b[0;34m.\u001b[0m\u001b[0mchoice\u001b[0m\u001b[0;34m(\u001b[0m\u001b[0mc\u001b[0m\u001b[0;34m.\u001b[0m\u001b[0mkeys\u001b[0m\u001b[0;34m(\u001b[0m\u001b[0;34m)\u001b[0m\u001b[0;34m,\u001b[0m \u001b[0msize\u001b[0m\u001b[0;34m=\u001b[0m\u001b[0;36m1\u001b[0m\u001b[0;34m,\u001b[0m \u001b[0mp\u001b[0m\u001b[0;34m=\u001b[0m\u001b[0mchar_proportions_correct\u001b[0m\u001b[0;34m)\u001b[0m\u001b[0;34m\u001b[0m\u001b[0m\n\u001b[0m",
      "\u001b[0;31mNameError\u001b[0m: name 'c' is not defined"
     ]
    }
   ],
   "source": [
    "np.random.choice(c.keys(), size=1, p=char_proportions_correct)"
   ]
  },
  {
   "cell_type": "code",
   "execution_count": null,
   "metadata": {
    "collapsed": false
   },
   "outputs": [],
   "source": [
    "mega = set([make_reber_grammar() for _ in range(10000000)])\n",
    "len(mega)"
   ]
  },
  {
   "cell_type": "code",
   "execution_count": null,
   "metadata": {
    "collapsed": true
   },
   "outputs": [],
   "source": [
    "def is_wrong(w):\n",
    "     wrong_ending = (w[-2] == 'P' or w[-2] == 'T' or w[-2] == 'X')\n",
    "     wrong_begin = (w[1] == 'S' or w[1] == 'V' or w[1] == 'X')\n",
    "     wrong_path_1 = ('PE' in w or 'PP' in w)\n",
    "     wrong_path_2 = ('SP' in w or 'SV' in w or 'ST' in w)\n",
    "     wrong_path_3 = ('TP' in w or 'TE' in w)\n",
    "     wrong_path_4 = ('VS' in w or 'VT' in w or 'VX' in w or 'VVV' in w)\n",
    "     wrong_path_5 = ('XP' in w or 'XE' in w or 'XXX' in w)\n",
    "     if (any([wrong_ending, wrong_begin, wrong_path_1, wrong_path_2,\n",
    "              wrong_path_3, wrong_path_4, wrong_path_5])):\n",
    "          return True\n",
    "     else:\n",
    "          return False"
   ]
  },
  {
   "cell_type": "code",
   "execution_count": null,
   "metadata": {
    "collapsed": false
   },
   "outputs": [],
   "source": [
    "incorrect_samples = filter(is_wrong, [make_wrong_grammar() for _ in range(100000)])\n",
    "incorrect_samples[:10]"
   ]
  },
  {
   "cell_type": "code",
   "execution_count": null,
   "metadata": {
    "collapsed": false
   },
   "outputs": [],
   "source": [
    "b = np.linspace(0.5, 40.5, 41)\n",
    "plt.hist(lengths, bins=b, normed=True, histtype='step', label='Correct')\n",
    "plt.hist([len(w) for w in wrong_grammars], bins=b, normed=True, histtype='step', label='Incorrect')\n",
    "plt.xlabel('Grammar length')\n",
    "plt.ylabel('Count')\n",
    "_ = plt.legend()"
   ]
  },
  {
   "cell_type": "code",
   "execution_count": null,
   "metadata": {
    "collapsed": false
   },
   "outputs": [],
   "source": [
    "len(incorrect_samples)"
   ]
  },
  {
   "cell_type": "code",
   "execution_count": null,
   "metadata": {
    "collapsed": false
   },
   "outputs": [],
   "source": [
    "len(set(incorrect_samples))"
   ]
  },
  {
   "cell_type": "code",
   "execution_count": null,
   "metadata": {
    "collapsed": false
   },
   "outputs": [],
   "source": [
    "any([w in mega for w in incorrect_samples])"
   ]
  },
  {
   "cell_type": "code",
   "execution_count": null,
   "metadata": {
    "collapsed": false
   },
   "outputs": [],
   "source": [
    "show_character_proportions(incorrect_samples)"
   ]
  },
  {
   "cell_type": "markdown",
   "metadata": {},
   "source": [
    "### Create numerical encodings"
   ]
  },
  {
   "cell_type": "code",
   "execution_count": null,
   "metadata": {
    "collapsed": false
   },
   "outputs": [],
   "source": [
    "chars = ['B', 'E', 'P', 'S', 'T', 'V', 'X']\n",
    "trans = dict([(u, v) for u, v in zip(chars, range(1, len(chars) + 1))])\n",
    "trans"
   ]
  },
  {
   "cell_type": "code",
   "execution_count": null,
   "metadata": {
    "collapsed": false
   },
   "outputs": [],
   "source": [
    "w = incorrect_samples[10]"
   ]
  },
  {
   "cell_type": "code",
   "execution_count": null,
   "metadata": {
    "collapsed": false
   },
   "outputs": [],
   "source": [
    "padding = np.zeros(37, dtype=np.int)\n",
    "encoding = []\n",
    "for c in w:\n",
    "     encoding.append(trans[c])\n",
    "t = np.append(np.array(encoding), padding[:37 - len(w)])\n",
    "w, t"
   ]
  },
  {
   "cell_type": "code",
   "execution_count": null,
   "metadata": {
    "collapsed": false
   },
   "outputs": [],
   "source": [
    "t.size"
   ]
  },
  {
   "cell_type": "code",
   "execution_count": null,
   "metadata": {
    "collapsed": false
   },
   "outputs": [],
   "source": [
    "max(lengths)"
   ]
  },
  {
   "cell_type": "markdown",
   "metadata": {},
   "source": [
    "### zero padding and length_array_input"
   ]
  },
  {
   "cell_type": "markdown",
   "metadata": {},
   "source": [
    "The plan is to feed in "
   ]
  }
 ],
 "metadata": {
  "kernelspec": {
   "display_name": "Python [conda root]",
   "language": "python",
   "name": "conda-root-py"
  },
  "language_info": {
   "codemirror_mode": {
    "name": "ipython",
    "version": 2
   },
   "file_extension": ".py",
   "mimetype": "text/x-python",
   "name": "python",
   "nbconvert_exporter": "python",
   "pygments_lexer": "ipython2",
   "version": "2.7.12"
  }
 },
 "nbformat": 4,
 "nbformat_minor": 1
}
