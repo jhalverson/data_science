{
 "cells": [
  {
   "cell_type": "markdown",
   "metadata": {},
   "source": [
    "# Jonathan Halverson\n",
    "# Saturday, January 13, 2018\n",
    "# Word embeddings"
   ]
  },
  {
   "cell_type": "code",
   "execution_count": 38,
   "metadata": {
    "collapsed": true
   },
   "outputs": [],
   "source": [
    "import numpy as np\n",
    "import tensorflow as tf\n",
    "import matplotlib.pyplot as plt\n",
    "%matplotlib inline\n",
    "plt.style.use('halverson')"
   ]
  },
  {
   "cell_type": "markdown",
   "metadata": {},
   "source": [
    "To creat word embeddings use the google code word2vec.c located in data_science/deep_learning/word2vec-master. Create a list of words from all the text then produce the word vectors and write them to file in a readable way."
   ]
  },
  {
   "cell_type": "markdown",
   "metadata": {},
   "source": [
    "### Load Moby Dick"
   ]
  },
  {
   "cell_type": "code",
   "execution_count": 39,
   "metadata": {
    "collapsed": false
   },
   "outputs": [],
   "source": [
    "import nltk\n",
    "md = list(nltk.corpus.gutenberg.words('melville-moby_dick.txt'))"
   ]
  },
  {
   "cell_type": "code",
   "execution_count": 40,
   "metadata": {
    "collapsed": false
   },
   "outputs": [
    {
     "data": {
      "text/plain": [
       "[u'after',\n",
       " u'her',\n",
       " u'missing',\n",
       " u'children',\n",
       " u',',\n",
       " u'only',\n",
       " u'found',\n",
       " u'another',\n",
       " u'orphan',\n",
       " u'.']"
      ]
     },
     "execution_count": 40,
     "metadata": {},
     "output_type": "execute_result"
    }
   ],
   "source": [
    "md[-10:]"
   ]
  },
  {
   "cell_type": "code",
   "execution_count": 41,
   "metadata": {
    "collapsed": false
   },
   "outputs": [],
   "source": [
    "md = md[md.index('Ishmael') - 2:]"
   ]
  },
  {
   "cell_type": "code",
   "execution_count": 42,
   "metadata": {
    "collapsed": false
   },
   "outputs": [
    {
     "data": {
      "text/plain": [
       "[u'after',\n",
       " u'her',\n",
       " u'missing',\n",
       " u'children',\n",
       " u',',\n",
       " u'only',\n",
       " u'found',\n",
       " u'another',\n",
       " u'orphan',\n",
       " u'.']"
      ]
     },
     "execution_count": 42,
     "metadata": {},
     "output_type": "execute_result"
    }
   ],
   "source": [
    "md[-10:]"
   ]
  },
  {
   "cell_type": "code",
   "execution_count": 43,
   "metadata": {
    "collapsed": true
   },
   "outputs": [],
   "source": [
    "import re\n",
    "from collections import Counter\n",
    "from nltk.corpus import stopwords\n",
    "from nltk.stem.porter import PorterStemmer\n",
    "\n",
    "def tokenize(raw_text):\n",
    "     # keep only alphabetical characters and split on whitespace\n",
    "     letters_only = re.sub(\"[^a-zA-Z]\", \" \", raw_text)\n",
    "     words = letters_only.lower().split()\n",
    "    \n",
    "     # count the words and filter based on count and stopwords, apply stemming\n",
    "     count = Counter(words)\n",
    "     #porter = PorterStemmer()\n",
    "     #stops = stopwords.words(\"english\")\n",
    "     #words = [porter.stem(word) for word in words if (word not in stops) and (count[word] > 1) and (len(word) > 1)]\n",
    "     words = [word for word in words if (count[word] > 0) and (len(word) > 1)]\n",
    "\n",
    "     return words"
   ]
  },
  {
   "cell_type": "code",
   "execution_count": 44,
   "metadata": {
    "collapsed": false
   },
   "outputs": [
    {
     "data": {
      "text/plain": [
       "16672"
      ]
     },
     "execution_count": 44,
     "metadata": {},
     "output_type": "execute_result"
    }
   ],
   "source": [
    "words = tokenize(' '.join(md))\n",
    "len(set(words))"
   ]
  },
  {
   "cell_type": "code",
   "execution_count": 45,
   "metadata": {
    "collapsed": false
   },
   "outputs": [
    {
     "data": {
      "text/plain": [
       "205697"
      ]
     },
     "execution_count": 45,
     "metadata": {},
     "output_type": "execute_result"
    }
   ],
   "source": [
    "len(words)"
   ]
  },
  {
   "cell_type": "code",
   "execution_count": 46,
   "metadata": {
    "collapsed": false
   },
   "outputs": [],
   "source": [
    "with open('text8_moby_dick', 'w') as f:\n",
    "     f.write(' '.join(words))"
   ]
  },
  {
   "cell_type": "code",
   "execution_count": 10,
   "metadata": {
    "collapsed": false
   },
   "outputs": [
    {
     "data": {
      "text/plain": [
       "[u'in',\n",
       " u'her',\n",
       " u'search',\n",
       " u'after',\n",
       " u'her',\n",
       " u'missing',\n",
       " u'children',\n",
       " u'only',\n",
       " u'found',\n",
       " u'another']"
      ]
     },
     "execution_count": 10,
     "metadata": {},
     "output_type": "execute_result"
    }
   ],
   "source": [
    "words[-10:]"
   ]
  },
  {
   "cell_type": "code",
   "execution_count": 11,
   "metadata": {
    "collapsed": true
   },
   "outputs": [],
   "source": [
    "count = Counter(words)"
   ]
  },
  {
   "cell_type": "code",
   "execution_count": 12,
   "metadata": {
    "collapsed": false
   },
   "outputs": [
    {
     "data": {
      "text/plain": [
       "[(u'the', 14175),\n",
       " (u'of', 6469),\n",
       " (u'and', 6325),\n",
       " (u'to', 4539),\n",
       " (u'in', 4077),\n",
       " (u'that', 3045),\n",
       " (u'it', 2497),\n",
       " (u'his', 2495),\n",
       " (u'he', 1876),\n",
       " (u'but', 1805),\n",
       " (u'as', 1720),\n",
       " (u'with', 1692),\n",
       " (u'is', 1690),\n",
       " (u'was', 1627),\n",
       " (u'for', 1593),\n",
       " (u'all', 1515),\n",
       " (u'this', 1382),\n",
       " (u'at', 1304),\n",
       " (u'by', 1175),\n",
       " (u'whale', 1150),\n",
       " (u'not', 1142),\n",
       " (u'from', 1072),\n",
       " (u'him', 1058),\n",
       " (u'so', 1053),\n",
       " (u'on', 1040),\n",
       " (u'be', 1032),\n",
       " (u'one', 907),\n",
       " (u'you', 884),\n",
       " (u'there', 854),\n",
       " (u'now', 779),\n",
       " (u'had', 767),\n",
       " (u'have', 754),\n",
       " (u'or', 689),\n",
       " (u'were', 677),\n",
       " (u'they', 649),\n",
       " (u'like', 639),\n",
       " (u'me', 630)]"
      ]
     },
     "execution_count": 12,
     "metadata": {},
     "output_type": "execute_result"
    }
   ],
   "source": [
    "count.most_common(37)"
   ]
  },
  {
   "cell_type": "markdown",
   "metadata": {},
   "source": [
    "### Aside on Zipf's law applied to Moby Dick"
   ]
  },
  {
   "cell_type": "code",
   "execution_count": 13,
   "metadata": {
    "collapsed": false
   },
   "outputs": [
    {
     "data": {
      "text/plain": [
       "<matplotlib.legend.Legend at 0x1a1d7748d0>"
      ]
     },
     "execution_count": 13,
     "metadata": {},
     "output_type": "execute_result"
    },
    {
     "data": {
      "image/png": "[encoded data removed]",
      "text/plain": [
       "<matplotlib.figure.Figure at 0x1a1c5394d0>"
      ]
     },
     "metadata": {},
     "output_type": "display_data"
    }
   ],
   "source": [
    "_, cts = zip(*count.most_common())\n",
    "plt.loglog(np.array(cts, np.float) / cts[0], label='count / count[0]')\n",
    "plt.loglog(np.logspace(1, 4), 3.0 / np.logspace(1, 4), label='1/count')\n",
    "plt.title('Example of Zipf\\'s law')\n",
    "plt.legend()"
   ]
  },
  {
   "cell_type": "code",
   "execution_count": 14,
   "metadata": {
    "collapsed": false
   },
   "outputs": [],
   "source": [
    "dictionary = dict()\n",
    "for word, _ in count.most_common(): # loop over all words in vocabulary\n",
    "     dictionary[word] = len(dictionary) # each word is assigned a unique id"
   ]
  },
  {
   "cell_type": "code",
   "execution_count": 15,
   "metadata": {
    "collapsed": true
   },
   "outputs": [],
   "source": [
    "# form running list of id's\n",
    "data = list()\n",
    "for word in words:\n",
    "     index = dictionary[word]\n",
    "     data.append(index)"
   ]
  },
  {
   "cell_type": "code",
   "execution_count": 16,
   "metadata": {
    "collapsed": true
   },
   "outputs": [],
   "source": [
    "inverted_dict = dict(zip(dictionary.values(), dictionary.keys()))"
   ]
  },
  {
   "cell_type": "code",
   "execution_count": 17,
   "metadata": {
    "collapsed": false
   },
   "outputs": [
    {
     "name": "stdout",
     "output_type": "stream",
     "text": [
      "('Sample data', [397, 36, 1007, 40, 241, 600, 134, 283, 105, 77], [u'call', u'me', u'ishmael', u'some', u'years', u'ago', u'never', u'mind', u'how', u'long'])\n"
     ]
    }
   ],
   "source": [
    "print('Sample data', data[:10], [inverted_dict[i] for i in data[:10]])"
   ]
  },
  {
   "cell_type": "markdown",
   "metadata": {},
   "source": [
    "The word 'me' is the 37-th most common."
   ]
  }
 ],
 "metadata": {
  "anaconda-cloud": {},
  "kernelspec": {
   "display_name": "Python [conda root]",
   "language": "python",
   "name": "conda-root-py"
  },
  "language_info": {
   "codemirror_mode": {
    "name": "ipython",
    "version": 2
   },
   "file_extension": ".py",
   "mimetype": "text/x-python",
   "name": "python",
   "nbconvert_exporter": "python",
   "pygments_lexer": "ipython2",
   "version": "2.7.12"
  }
 },
 "nbformat": 4,
 "nbformat_minor": 1
}
