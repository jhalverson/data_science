{
 "cells": [
  {
   "cell_type": "markdown",
   "metadata": {},
   "source": [
    "# Jonathan Halverson\n",
    "# Friday, January 12, 2018\n",
    "# Part 2: Classifying Reber versus non-Reber grammars using an RNN"
   ]
  },
  {
   "cell_type": "markdown",
   "metadata": {},
   "source": [
    "## This time with one-hot encoding (better)"
   ]
  },
  {
   "cell_type": "code",
   "execution_count": 1,
   "metadata": {
    "collapsed": true
   },
   "outputs": [],
   "source": [
    "import numpy as np\n",
    "import cPickle\n",
    "import tensorflow as tf\n",
    "import matplotlib.pyplot as plt\n",
    "%matplotlib inline\n",
    "plt.style.use('halverson')"
   ]
  },
  {
   "cell_type": "code",
   "execution_count": 2,
   "metadata": {
    "collapsed": false
   },
   "outputs": [],
   "source": [
    "f = open('X_correct_one_hot.reb', 'rb')\n",
    "X_correct = cPickle.load(f)\n",
    "y_correct = cPickle.load(f)\n",
    "L_correct = cPickle.load(f)\n",
    "f.close()"
   ]
  },
  {
   "cell_type": "code",
   "execution_count": 3,
   "metadata": {
    "collapsed": false
   },
   "outputs": [],
   "source": [
    "f = open('X_incorrect_one_hot.reb', 'rb')\n",
    "X_incorrect = cPickle.load(f)\n",
    "y_incorrect = cPickle.load(f)\n",
    "L_incorrect = cPickle.load(f)\n",
    "f.close()"
   ]
  },
  {
   "cell_type": "code",
   "execution_count": 4,
   "metadata": {
    "collapsed": false
   },
   "outputs": [
    {
     "data": {
      "text/plain": [
       "(array([[1, 0, 0, 0, 0, 0, 0],\n",
       "        [0, 0, 1, 0, 0, 0, 0],\n",
       "        [0, 0, 0, 0, 1, 0, 0],\n",
       "        [0, 0, 0, 0, 1, 0, 0],\n",
       "        [0, 0, 0, 0, 1, 0, 0],\n",
       "        [0, 0, 0, 0, 0, 1, 0],\n",
       "        [0, 0, 1, 0, 0, 0, 0],\n",
       "        [0, 0, 0, 1, 0, 0, 0],\n",
       "        [0, 1, 0, 0, 0, 0, 0],\n",
       "        [0, 0, 0, 0, 0, 0, 0],\n",
       "        [0, 0, 0, 0, 0, 0, 0],\n",
       "        [0, 0, 0, 0, 0, 0, 0],\n",
       "        [0, 0, 0, 0, 0, 0, 0],\n",
       "        [0, 0, 0, 0, 0, 0, 0],\n",
       "        [0, 0, 0, 0, 0, 0, 0],\n",
       "        [0, 0, 0, 0, 0, 0, 0],\n",
       "        [0, 0, 0, 0, 0, 0, 0],\n",
       "        [0, 0, 0, 0, 0, 0, 0],\n",
       "        [0, 0, 0, 0, 0, 0, 0],\n",
       "        [0, 0, 0, 0, 0, 0, 0],\n",
       "        [0, 0, 0, 0, 0, 0, 0],\n",
       "        [0, 0, 0, 0, 0, 0, 0],\n",
       "        [0, 0, 0, 0, 0, 0, 0],\n",
       "        [0, 0, 0, 0, 0, 0, 0],\n",
       "        [0, 0, 0, 0, 0, 0, 0],\n",
       "        [0, 0, 0, 0, 0, 0, 0],\n",
       "        [0, 0, 0, 0, 0, 0, 0],\n",
       "        [0, 0, 0, 0, 0, 0, 0],\n",
       "        [0, 0, 0, 0, 0, 0, 0],\n",
       "        [0, 0, 0, 0, 0, 0, 0],\n",
       "        [0, 0, 0, 0, 0, 0, 0],\n",
       "        [0, 0, 0, 0, 0, 0, 0],\n",
       "        [0, 0, 0, 0, 0, 0, 0],\n",
       "        [0, 0, 0, 0, 0, 0, 0],\n",
       "        [0, 0, 0, 0, 0, 0, 0],\n",
       "        [0, 0, 0, 0, 0, 0, 0],\n",
       "        [0, 0, 0, 0, 0, 0, 0]], dtype=int32), 1, 9)"
      ]
     },
     "execution_count": 4,
     "metadata": {},
     "output_type": "execute_result"
    }
   ],
   "source": [
    "X_correct[0], y_correct[0], L_correct[0]"
   ]
  },
  {
   "cell_type": "code",
   "execution_count": 5,
   "metadata": {
    "collapsed": false
   },
   "outputs": [
    {
     "data": {
      "text/plain": [
       "(array([[1, 0, 0, 0, 0, 0, 0],\n",
       "        [0, 0, 0, 0, 0, 1, 0],\n",
       "        [0, 0, 0, 0, 0, 1, 0],\n",
       "        [0, 0, 0, 1, 0, 0, 0],\n",
       "        [0, 0, 0, 0, 0, 1, 0],\n",
       "        [0, 0, 0, 0, 0, 1, 0],\n",
       "        [0, 0, 1, 0, 0, 0, 0],\n",
       "        [0, 0, 0, 0, 0, 1, 0],\n",
       "        [0, 0, 0, 0, 0, 1, 0],\n",
       "        [0, 1, 0, 0, 0, 0, 0],\n",
       "        [0, 0, 0, 0, 0, 0, 0],\n",
       "        [0, 0, 0, 0, 0, 0, 0],\n",
       "        [0, 0, 0, 0, 0, 0, 0],\n",
       "        [0, 0, 0, 0, 0, 0, 0],\n",
       "        [0, 0, 0, 0, 0, 0, 0],\n",
       "        [0, 0, 0, 0, 0, 0, 0],\n",
       "        [0, 0, 0, 0, 0, 0, 0],\n",
       "        [0, 0, 0, 0, 0, 0, 0],\n",
       "        [0, 0, 0, 0, 0, 0, 0],\n",
       "        [0, 0, 0, 0, 0, 0, 0],\n",
       "        [0, 0, 0, 0, 0, 0, 0],\n",
       "        [0, 0, 0, 0, 0, 0, 0],\n",
       "        [0, 0, 0, 0, 0, 0, 0],\n",
       "        [0, 0, 0, 0, 0, 0, 0],\n",
       "        [0, 0, 0, 0, 0, 0, 0],\n",
       "        [0, 0, 0, 0, 0, 0, 0],\n",
       "        [0, 0, 0, 0, 0, 0, 0],\n",
       "        [0, 0, 0, 0, 0, 0, 0],\n",
       "        [0, 0, 0, 0, 0, 0, 0],\n",
       "        [0, 0, 0, 0, 0, 0, 0],\n",
       "        [0, 0, 0, 0, 0, 0, 0],\n",
       "        [0, 0, 0, 0, 0, 0, 0],\n",
       "        [0, 0, 0, 0, 0, 0, 0],\n",
       "        [0, 0, 0, 0, 0, 0, 0],\n",
       "        [0, 0, 0, 0, 0, 0, 0],\n",
       "        [0, 0, 0, 0, 0, 0, 0],\n",
       "        [0, 0, 0, 0, 0, 0, 0]], dtype=int32), 0, 10)"
      ]
     },
     "execution_count": 5,
     "metadata": {},
     "output_type": "execute_result"
    }
   ],
   "source": [
    "X_incorrect[0], y_incorrect[0], L_incorrect[0]"
   ]
  },
  {
   "cell_type": "markdown",
   "metadata": {},
   "source": [
    "### Make training and testing sets"
   ]
  },
  {
   "cell_type": "code",
   "execution_count": 6,
   "metadata": {
    "collapsed": true
   },
   "outputs": [],
   "source": [
    "ind = np.arange(y_correct.size + y_incorrect.size)\n",
    "np.random.shuffle(ind)"
   ]
  },
  {
   "cell_type": "code",
   "execution_count": 7,
   "metadata": {
    "collapsed": true
   },
   "outputs": [],
   "source": [
    "X_cmb = np.append(X_correct, X_incorrect, axis=0)[ind]\n",
    "y_cmb = np.append(y_correct, y_incorrect, axis=0)[ind]\n",
    "L_cmb = np.append(L_correct, L_incorrect, axis=0)[ind]"
   ]
  },
  {
   "cell_type": "code",
   "execution_count": 8,
   "metadata": {
    "collapsed": true
   },
   "outputs": [],
   "source": [
    "test_proportion = 0.2\n",
    "N_train = int((1.0 - test_proportion) * y_cmb.size)\n",
    "X_train = X_cmb[:N_train]\n",
    "y_train = y_cmb[:N_train]\n",
    "L_train = L_cmb[:N_train]\n",
    "X_test = X_cmb[N_train:]\n",
    "y_test = y_cmb[N_train:]\n",
    "L_test = L_cmb[N_train:]"
   ]
  },
  {
   "cell_type": "code",
   "execution_count": 9,
   "metadata": {
    "collapsed": true
   },
   "outputs": [],
   "source": [
    "def fetch_batch(batch_size):\n",
    "     ind = np.random.choice(np.arange(y_train.size), size=batch_size, replace=False)\n",
    "     return X_train[ind], y_train[ind], L_train[ind]"
   ]
  },
  {
   "cell_type": "markdown",
   "metadata": {},
   "source": [
    "### Create the TF graph"
   ]
  },
  {
   "cell_type": "code",
   "execution_count": 10,
   "metadata": {
    "collapsed": true
   },
   "outputs": [],
   "source": [
    "tf.reset_default_graph()"
   ]
  },
  {
   "cell_type": "code",
   "execution_count": 11,
   "metadata": {
    "collapsed": true
   },
   "outputs": [],
   "source": [
    "n_inputs = 7\n",
    "n_steps = 37\n",
    "n_neurons = 50"
   ]
  },
  {
   "cell_type": "code",
   "execution_count": 12,
   "metadata": {
    "collapsed": false
   },
   "outputs": [],
   "source": [
    "X = tf.placeholder(dtype=tf.float32, shape=(None, None, n_inputs))\n",
    "y = tf.placeholder(dtype=tf.int32, shape=(None))\n",
    "L = tf.placeholder(dtype=tf.int32, shape=(None))"
   ]
  },
  {
   "cell_type": "code",
   "execution_count": 13,
   "metadata": {
    "collapsed": false
   },
   "outputs": [],
   "source": [
    "#cell = tf.contrib.rnn.BasicRNNCell(num_units=n_neurons, activation=tf.nn.relu)\n",
    "#cell = tf.contrib.rnn.LSTMCell(num_units=n_neurons, state_is_tuple=False, use_peepholes=True)\n",
    "cell = tf.contrib.rnn.GRUCell(num_units=n_neurons)\n",
    "outputs, states = tf.nn.dynamic_rnn(cell, X, dtype=tf.float32, sequence_length=L)\n",
    "#prob_positive = tf.layers.dense(states, units=1, activation=tf.sigmoid)\n",
    "# only use state from last time step (sequence to vector)\n",
    "logits = tf.layers.dense(states, units=1, activation=None)\n",
    "y_proba = tf.nn.sigmoid(logits, name=\"y_proba\")"
   ]
  },
  {
   "cell_type": "code",
   "execution_count": 14,
   "metadata": {
    "collapsed": false
   },
   "outputs": [],
   "source": [
    "#loss = tf.losses.log_loss(y, tf.squeeze(prob_positive))\n",
    "xentropy = tf.nn.sigmoid_cross_entropy_with_logits(labels=tf.cast(tf.reshape(y, (-1, 1)), tf.float32), logits=logits)\n",
    "loss = tf.reduce_mean(xentropy, name=\"loss\")\n",
    "optimizer = tf.train.AdamOptimizer(learning_rate=0.001)\n",
    "training_op = optimizer.minimize(loss)"
   ]
  },
  {
   "cell_type": "code",
   "execution_count": 15,
   "metadata": {
    "collapsed": false
   },
   "outputs": [],
   "source": [
    "#y_pred = tf.cast(tf.squeeze(prob_positive) > 0.5, tf.int32)\n",
    "y_pred = tf.cast(logits > 0.0, tf.int32)\n",
    "accuracy = tf.reduce_mean(tf.cast(tf.equal(tf.reshape(y, (-1, 1)), y_pred), tf.float32))"
   ]
  },
  {
   "cell_type": "code",
   "execution_count": 16,
   "metadata": {
    "collapsed": true
   },
   "outputs": [],
   "source": [
    "init = tf.global_variables_initializer()\n",
    "saver = tf.train.Saver()"
   ]
  },
  {
   "cell_type": "markdown",
   "metadata": {},
   "source": [
    "### Execute the graph"
   ]
  },
  {
   "cell_type": "code",
   "execution_count": 17,
   "metadata": {
    "collapsed": true
   },
   "outputs": [],
   "source": [
    "batch_size = 100\n",
    "epochs = 10"
   ]
  },
  {
   "cell_type": "code",
   "execution_count": 18,
   "metadata": {
    "collapsed": false,
    "scrolled": false
   },
   "outputs": [
    {
     "name": "stdout",
     "output_type": "stream",
     "text": [
      "(0, 'log loss:', 0.69386691, 'accuracy:', 0.50185001)\n",
      "(100, 'log loss:', 0.47883654, 'accuracy:', 0.83969998)\n",
      "(200, 'log loss:', 0.17240261, 'accuracy:', 0.96055001)\n",
      "(300, 'log loss:', 0.089048833, 'accuracy:', 0.96509999)\n",
      "(400, 'log loss:', 0.024129568, 'accuracy:', 0.99484998)\n",
      "(500, 'log loss:', 0.013300771, 'accuracy:', 0.99675)\n",
      "(600, 'log loss:', 0.014338809, 'accuracy:', 0.99655002)\n",
      "(700, 'log loss:', 0.0068903994, 'accuracy:', 0.99755001)\n",
      "(800, 'log loss:', 0.0042721694, 'accuracy:', 0.99935001)\n",
      "(900, 'log loss:', 0.0025273599, 'accuracy:', 0.99975002)\n",
      "(1000, 'log loss:', 0.001805854, 'accuracy:', 0.99984998)\n",
      "(1100, 'log loss:', 0.0013985171, 'accuracy:', 0.99989998)\n",
      "(1200, 'log loss:', 0.001397399, 'accuracy:', 0.99980003)\n",
      "(1300, 'log loss:', 0.0009956928, 'accuracy:', 0.99989998)\n",
      "(1400, 'log loss:', 0.0083006341, 'accuracy:', 0.99835002)\n",
      "(1500, 'log loss:', 0.0096517792, 'accuracy:', 0.99790001)\n",
      "(1600, 'log loss:', 0.0016008854, 'accuracy:', 0.99984998)\n",
      "(1700, 'log loss:', 0.0013426882, 'accuracy:', 0.99980003)\n",
      "(1800, 'log loss:', 0.00084820157, 'accuracy:', 1.0)\n",
      "(1900, 'log loss:', 0.0005139868, 'accuracy:', 1.0)\n",
      "(2000, 'log loss:', 0.00058031769, 'accuracy:', 0.99994999)\n",
      "(2100, 'log loss:', 0.00038418313, 'accuracy:', 0.99994999)\n",
      "(2200, 'log loss:', 0.00032575618, 'accuracy:', 1.0)\n",
      "(2300, 'log loss:', 0.00026281734, 'accuracy:', 1.0)\n",
      "(2400, 'log loss:', 0.00023993794, 'accuracy:', 0.99994999)\n",
      "(2500, 'log loss:', 0.016701883, 'accuracy:', 0.99535)\n",
      "(2600, 'log loss:', 0.00055022747, 'accuracy:', 1.0)\n",
      "(2700, 'log loss:', 0.000388749, 'accuracy:', 1.0)\n",
      "(2800, 'log loss:', 0.00030924831, 'accuracy:', 1.0)\n",
      "(2900, 'log loss:', 0.00025053558, 'accuracy:', 1.0)\n",
      "(3000, 'log loss:', 0.0002174922, 'accuracy:', 1.0)\n",
      "(3100, 'log loss:', 0.00017590646, 'accuracy:', 1.0)\n",
      "(3200, 'log loss:', 0.0001559103, 'accuracy:', 1.0)\n",
      "(3300, 'log loss:', 0.00013249254, 'accuracy:', 1.0)\n",
      "(3400, 'log loss:', 0.00011633833, 'accuracy:', 1.0)\n",
      "(3500, 'log loss:', 0.00011836922, 'accuracy:', 1.0)\n",
      "(3600, 'log loss:', 9.3868628e-05, 'accuracy:', 1.0)\n",
      "(3700, 'log loss:', 8.9202738e-05, 'accuracy:', 1.0)\n",
      "(3800, 'log loss:', 7.8694022e-05, 'accuracy:', 1.0)\n",
      "(3900, 'log loss:', 7.0505906e-05, 'accuracy:', 1.0)\n",
      "(4000, 'log loss:', 6.2669671e-05, 'accuracy:', 1.0)\n",
      "(4100, 'log loss:', 5.6951998e-05, 'accuracy:', 1.0)\n",
      "(4200, 'log loss:', 5.0868242e-05, 'accuracy:', 1.0)\n",
      "(4300, 'log loss:', 5.0870531e-05, 'accuracy:', 1.0)\n",
      "(4400, 'log loss:', 4.473409e-05, 'accuracy:', 1.0)\n",
      "(4500, 'log loss:', 4.1701198e-05, 'accuracy:', 1.0)\n",
      "(4600, 'log loss:', 3.8954506e-05, 'accuracy:', 1.0)\n",
      "(4700, 'log loss:', 3.625271e-05, 'accuracy:', 1.0)\n",
      "(4800, 'log loss:', 3.3966735e-05, 'accuracy:', 1.0)\n",
      "(4900, 'log loss:', 3.1830885e-05, 'accuracy:', 1.0)\n",
      "(5000, 'log loss:', 3.0102759e-05, 'accuracy:', 1.0)\n",
      "(5100, 'log loss:', 2.8034601e-05, 'accuracy:', 1.0)\n",
      "(5200, 'log loss:', 2.7515749e-05, 'accuracy:', 1.0)\n",
      "(5300, 'log loss:', 2.5987638e-05, 'accuracy:', 1.0)\n",
      "(5400, 'log loss:', 2.4622554e-05, 'accuracy:', 1.0)\n",
      "(5500, 'log loss:', 2.2498971e-05, 'accuracy:', 1.0)\n",
      "(5600, 'log loss:', 2.1003298e-05, 'accuracy:', 1.0)\n",
      "(5700, 'log loss:', 1.9617934e-05, 'accuracy:', 1.0)\n",
      "(5800, 'log loss:', 1.81552e-05, 'accuracy:', 1.0)\n",
      "(5900, 'log loss:', 1.7119266e-05, 'accuracy:', 1.0)\n",
      "(6000, 'log loss:', 1.6226331e-05, 'accuracy:', 1.0)\n",
      "(6100, 'log loss:', 1.6116544e-05, 'accuracy:', 1.0)\n",
      "(6200, 'log loss:', 1.4176628e-05, 'accuracy:', 1.0)\n",
      "(6300, 'log loss:', 1.3016867e-05, 'accuracy:', 1.0)\n",
      "(6400, 'log loss:', 1.2498356e-05, 'accuracy:', 1.0)\n",
      "(6500, 'log loss:', 1.1411847e-05, 'accuracy:', 1.0)\n",
      "(6600, 'log loss:', 1.0927833e-05, 'accuracy:', 1.0)\n",
      "(6700, 'log loss:', 1.0227689e-05, 'accuracy:', 1.0)\n",
      "(6800, 'log loss:', 9.6612002e-06, 'accuracy:', 1.0)\n",
      "(6900, 'log loss:', 9.0164849e-06, 'accuracy:', 1.0)\n",
      "(7000, 'log loss:', 8.5274087e-06, 'accuracy:', 1.0)\n",
      "(7100, 'log loss:', 7.9488918e-06, 'accuracy:', 1.0)\n",
      "(7200, 'log loss:', 7.6345641e-06, 'accuracy:', 1.0)\n",
      "(7300, 'log loss:', 7.2784001e-06, 'accuracy:', 1.0)\n",
      "(7400, 'log loss:', 6.8669924e-06, 'accuracy:', 1.0)\n",
      "(7500, 'log loss:', 6.3940561e-06, 'accuracy:', 1.0)\n",
      "(7600, 'log loss:', 6.2031536e-06, 'accuracy:', 1.0)\n",
      "(7700, 'log loss:', 5.6745084e-06, 'accuracy:', 1.0)\n",
      "(7800, 'log loss:', 5.4580069e-06, 'accuracy:', 1.0)\n",
      "(7900, 'log loss:', 5.1868724e-06, 'accuracy:', 1.0)\n"
     ]
    }
   ],
   "source": [
    "step_acc_loss = []\n",
    "with tf.Session() as sess:\n",
    "     init.run()\n",
    "     for epoch in range(epochs):\n",
    "          iterations = y_train.size // batch_size\n",
    "          for iteration in range(iterations):\n",
    "               X_batch, y_batch, L_batch = fetch_batch(batch_size)\n",
    "               sess.run(training_op, feed_dict={X:X_batch, y:y_batch, L:L_batch})\n",
    "               if iteration % 100 == 0:\n",
    "                    J = loss.eval(feed_dict={X:X_test, y:y_test, L:L_test})\n",
    "                    acc = accuracy.eval(feed_dict={X:X_test, y:y_test, L:L_test})\n",
    "                    step = epoch * iterations  + iteration\n",
    "                    print(step, \"log loss:\", J, \"accuracy:\", acc)\n",
    "                    step_acc_loss.append((step, acc, J))\n",
    "          saver.save(sess, \"my_reber_classifier\")"
   ]
  },
  {
   "cell_type": "code",
   "execution_count": 19,
   "metadata": {
    "collapsed": false
   },
   "outputs": [
    {
     "data": {
      "text/plain": [
       "<matplotlib.text.Text at 0x11d657ad0>"
      ]
     },
     "execution_count": 19,
     "metadata": {},
     "output_type": "execute_result"
    },
    {
     "data": {
      "image/png": "[encoded data removed]",
      "text/plain": [
       "<matplotlib.figure.Figure at 0x1292d2bd0>"
      ]
     },
     "metadata": {},
     "output_type": "display_data"
    }
   ],
   "source": [
    "step, acc, loss = zip(*step_acc_loss)\n",
    "plt.plot(step, acc)\n",
    "plt.plot(step, loss)\n",
    "plt.title('Accuracy and loss on test set')"
   ]
  },
  {
   "cell_type": "markdown",
   "metadata": {},
   "source": [
    "The model works very well."
   ]
  },
  {
   "cell_type": "code",
   "execution_count": 20,
   "metadata": {
    "collapsed": true
   },
   "outputs": [],
   "source": [
    "# note that geron uses a different grammar at this stage with B appearing twice\n",
    "chars = ['B', 'E', 'P', 'S', 'T', 'V', 'X']\n",
    "test_strings = ['BTXXTVPXTTVPXTVPXTTVPXTTTTTTTVPXTTTVPXVPXTTTTTVPXVPTE',\n",
    "                'BTXXTVPXTTVPXTVPXTTVPXTTTTTTTVPXTTTVPXVPXTTTTTVPXVPSE',\n",
    "                \"BTSSXSE\", \"BTXXTVPXVPXTTVPXTVPSE\", \"BXXPPTTTSPPTTSTPXVE\"]"
   ]
  },
  {
   "cell_type": "code",
   "execution_count": 21,
   "metadata": {
    "collapsed": false
   },
   "outputs": [],
   "source": [
    "X_test = []\n",
    "trans = dict([(u, v) for u, v in zip(chars, range(len(chars)))])\n",
    "for sample in test_strings:\n",
    "     letters = [character for character in sample]\n",
    "     ohe = np.zeros(shape=(len(test_strings[0]), len(chars)), dtype=np.int32)\n",
    "     for i, char in enumerate(letters):\n",
    "          ohe[i, trans[char]] = 1\n",
    "     X_test.append(ohe)"
   ]
  },
  {
   "cell_type": "code",
   "execution_count": 22,
   "metadata": {
    "collapsed": false
   },
   "outputs": [
    {
     "name": "stdout",
     "output_type": "stream",
     "text": [
      "INFO:tensorflow:Restoring parameters from my_reber_classifier\n"
     ]
    }
   ],
   "source": [
    "with tf.Session() as sess:\n",
    "     saver.restore(sess, \"my_reber_classifier\")\n",
    "     #y_proba_val = prob_positive.eval(feed_dict={X: X_test, L:[53, 53, 7, 21, 19]})\n",
    "     y_proba_val = y_proba.eval(feed_dict={X:X_test, L:[53, 53, 7, 21, 19]})"
   ]
  },
  {
   "cell_type": "code",
   "execution_count": 23,
   "metadata": {
    "collapsed": false
   },
   "outputs": [
    {
     "data": {
      "text/plain": [
       "array([[  2.28130236e-01],\n",
       "       [  9.99985814e-01],\n",
       "       [  9.99997497e-01],\n",
       "       [  9.99998093e-01],\n",
       "       [  1.60930144e-10]], dtype=float32)"
      ]
     },
     "execution_count": 23,
     "metadata": {},
     "output_type": "execute_result"
    }
   ],
   "source": [
    "y_proba_val"
   ]
  },
  {
   "cell_type": "markdown",
   "metadata": {},
   "source": [
    "Overall the performance is excellent. The first and last grammars are incorrect and the model predicts this perfectly. The GRU cell has long short-term memory so it is able to deal with sequences that are longer than the training sequences."
   ]
  }
 ],
 "metadata": {
  "kernelspec": {
   "display_name": "Python [conda root]",
   "language": "python",
   "name": "conda-root-py"
  },
  "language_info": {
   "codemirror_mode": {
    "name": "ipython",
    "version": 2
   },
   "file_extension": ".py",
   "mimetype": "text/x-python",
   "name": "python",
   "nbconvert_exporter": "python",
   "pygments_lexer": "ipython2",
   "version": "2.7.12"
  }
 },
 "nbformat": 4,
 "nbformat_minor": 1
}
