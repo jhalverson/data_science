{
 "cells": [
  {
   "cell_type": "markdown",
   "metadata": {},
   "source": [
    "# Jonathan Halverson\n",
    "# Thursday, December 28, 2017\n",
    "# Denoising autoencoders"
   ]
  },
  {
   "cell_type": "code",
   "execution_count": 1,
   "metadata": {
    "collapsed": true
   },
   "outputs": [],
   "source": [
    "import numpy as np\n",
    "import tensorflow as tf\n",
    "import matplotlib.pyplot as plt\n",
    "%matplotlib inline\n",
    "plt.style.use('halverson')"
   ]
  },
  {
   "cell_type": "code",
   "execution_count": 42,
   "metadata": {
    "collapsed": false
   },
   "outputs": [
    {
     "name": "stdout",
     "output_type": "stream",
     "text": [
      "Extracting /tmp/data/train-images-idx3-ubyte.gz\n",
      "Extracting /tmp/data/train-labels-idx1-ubyte.gz\n",
      "Extracting /tmp/data/t10k-images-idx3-ubyte.gz\n",
      "Extracting /tmp/data/t10k-labels-idx1-ubyte.gz\n"
     ]
    }
   ],
   "source": [
    "from tensorflow.examples.tutorials.mnist import input_data\n",
    "mnist = input_data.read_data_sets('/tmp/data/')"
   ]
  },
  {
   "cell_type": "code",
   "execution_count": 43,
   "metadata": {
    "collapsed": false
   },
   "outputs": [
    {
     "data": {
      "text/plain": [
       "<matplotlib.image.AxesImage at 0x181d26e490>"
      ]
     },
     "execution_count": 43,
     "metadata": {},
     "output_type": "execute_result"
    },
    {
     "data": {
      "image/png": "[encoded data removed]",
      "text/plain": [
       "<matplotlib.figure.Figure at 0x181d324110>"
      ]
     },
     "metadata": {},
     "output_type": "display_data"
    }
   ],
   "source": [
    "plt.imshow(mnist.train.images[0].reshape(28, 28), cmap='binary')"
   ]
  },
  {
   "cell_type": "markdown",
   "metadata": {},
   "source": [
    "## Method 1: Add Gaussian noise"
   ]
  },
  {
   "cell_type": "markdown",
   "metadata": {},
   "source": [
    "### Create the graph"
   ]
  },
  {
   "cell_type": "code",
   "execution_count": 4,
   "metadata": {
    "collapsed": true
   },
   "outputs": [],
   "source": [
    "tf.reset_default_graph()"
   ]
  },
  {
   "cell_type": "code",
   "execution_count": 5,
   "metadata": {
    "collapsed": true
   },
   "outputs": [],
   "source": [
    "n_inputs = 28 * 28\n",
    "n_hidden_1 = 300\n",
    "n_hidden_2 = 144\n",
    "n_hidden_3 = n_hidden_1\n",
    "n_outputs = n_inputs\n",
    "strength = 1.0\n",
    "l2_reg = 0.0001"
   ]
  },
  {
   "cell_type": "code",
   "execution_count": 6,
   "metadata": {
    "collapsed": false
   },
   "outputs": [],
   "source": [
    "from functools import partial\n",
    "\n",
    "X = tf.placeholder(dtype=tf.float32, shape=(None, n_inputs))\n",
    "X_noise = X + strength * tf.random_normal(shape=tf.shape(X), dtype=tf.float32, name='inputs')\n",
    "he_init = tf.contrib.layers.variance_scaling_initializer()\n",
    "l2_regularizer = tf.contrib.layers.l2_regularizer(l2_reg)\n",
    "my_dense_layer = partial(tf.layers.dense, activation=tf.nn.relu,\n",
    "                         kernel_initializer=he_init,\n",
    "                         kernel_regularizer=l2_regularizer)\n",
    "hidden1 = my_dense_layer(X_noise, n_hidden_1, name='hidden1')\n",
    "hidden2 = my_dense_layer(hidden1, n_hidden_2, name='hidden2')\n",
    "hidden3 = my_dense_layer(hidden2, n_hidden_3, name='hidden3')\n",
    "outputs = my_dense_layer(hidden3, n_outputs, activation=None, name='outputs')"
   ]
  },
  {
   "cell_type": "code",
   "execution_count": 7,
   "metadata": {
    "collapsed": true
   },
   "outputs": [],
   "source": [
    "reconstruction_loss = tf.reduce_mean(tf.square(X - outputs))\n",
    "reg_loss = tf.get_collection(tf.GraphKeys.REGULARIZATION_LOSSES)\n",
    "total_loss = tf.add_n([reconstruction_loss] + reg_loss)\n",
    "optimizer = tf.train.AdamOptimizer(learning_rate=0.01)\n",
    "training_op = optimizer.minimize(total_loss)"
   ]
  },
  {
   "cell_type": "code",
   "execution_count": 8,
   "metadata": {
    "collapsed": true
   },
   "outputs": [],
   "source": [
    "saver = tf.train.Saver()"
   ]
  },
  {
   "cell_type": "code",
   "execution_count": 9,
   "metadata": {
    "collapsed": true
   },
   "outputs": [],
   "source": [
    "init = tf.global_variables_initializer()"
   ]
  },
  {
   "cell_type": "markdown",
   "metadata": {},
   "source": [
    "### Run the graph"
   ]
  },
  {
   "cell_type": "code",
   "execution_count": 10,
   "metadata": {
    "collapsed": true
   },
   "outputs": [],
   "source": [
    "batch_size = 200\n",
    "epochs = 20\n",
    "codings = hidden2"
   ]
  },
  {
   "cell_type": "code",
   "execution_count": 11,
   "metadata": {
    "collapsed": false
   },
   "outputs": [
    {
     "name": "stdout",
     "output_type": "stream",
     "text": [
      "- 1.86521\n",
      "0 0.062947 0.0609396\n",
      "2 0.0607987 0.0591392\n",
      "4 0.060327 0.0588821\n",
      "6 0.0578252 0.0565409\n",
      "8 0.0458536 0.0446236\n",
      "10 0.042383 0.0411597\n",
      "12 0.0412399 0.0400433\n",
      "14 0.0404529 0.0392221\n",
      "16 0.039898 0.0386779\n",
      "18 0.0394832 0.0382537\n",
      "20 0.0392302 0.0379919\n"
     ]
    }
   ],
   "source": [
    "ckpt_path = '/tmp/data/final_denoise.ckpt'\n",
    "with tf.Session() as sess:\n",
    "     init.run()\n",
    "     print '-', total_loss.eval(feed_dict={X:mnist.validation.images})\n",
    "     for epoch in xrange(epochs + 1):\n",
    "          for iteration in xrange(mnist.train.num_examples // batch_size):\n",
    "               X_batch, _ = mnist.train.next_batch(batch_size)\n",
    "               sess.run(training_op, feed_dict={X:X_batch})\n",
    "          if not (epoch % 2): print epoch, total_loss.eval(feed_dict={X:mnist.validation.images}), reconstruction_loss.eval(feed_dict={X:mnist.validation.images})\n",
    "     save_path = saver.save(sess, ckpt_path)"
   ]
  },
  {
   "cell_type": "code",
   "execution_count": 33,
   "metadata": {
    "collapsed": true
   },
   "outputs": [],
   "source": [
    "X_train = mnist.train.images\n",
    "y_train = mnist.train.labels\n",
    "X_test = mnist.test.images\n",
    "y_test = mnist.test.labels"
   ]
  },
  {
   "cell_type": "code",
   "execution_count": 13,
   "metadata": {
    "collapsed": false
   },
   "outputs": [
    {
     "name": "stdout",
     "output_type": "stream",
     "text": [
      "INFO:tensorflow:Restoring parameters from /tmp/data/final_denoise.ckpt\n"
     ]
    },
    {
     "data": {
      "image/png": "[encoded data removed]",
      "text/plain": [
       "<matplotlib.figure.Figure at 0x1068580d0>"
      ]
     },
     "metadata": {},
     "output_type": "display_data"
    }
   ],
   "source": [
    "with tf.Session() as sess:\n",
    "     saver.restore(sess, ckpt_path)\n",
    "     codings_train = codings.eval(feed_dict={X:X_train})\n",
    "     codings_test = codings.eval(feed_dict={X:X_test})\n",
    "     outputs_test = outputs.eval(feed_dict={X:X_test})\n",
    "     \n",
    "     plt.subplot(131)\n",
    "     plt.imshow(X_test[0].reshape(28, 28), cmap='binary'); plt.axis('off')\n",
    "     plt.subplot(132)\n",
    "     plt.imshow(codings_test[0].reshape(12, 12), cmap='binary'); plt.axis('off')\n",
    "     plt.subplot(133)\n",
    "     plt.imshow(outputs_test[0].reshape(28, 28), cmap='binary'); plt.axis('off')"
   ]
  },
  {
   "cell_type": "code",
   "execution_count": 14,
   "metadata": {
    "collapsed": true
   },
   "outputs": [],
   "source": [
    "from sklearn.linear_model import LogisticRegression"
   ]
  },
  {
   "cell_type": "markdown",
   "metadata": {},
   "source": [
    "Accuracy when all the data is used:"
   ]
  },
  {
   "cell_type": "code",
   "execution_count": 32,
   "metadata": {
    "collapsed": false
   },
   "outputs": [
    {
     "data": {
      "text/plain": [
       "0.91979999999999995"
      ]
     },
     "execution_count": 32,
     "metadata": {},
     "output_type": "execute_result"
    }
   ],
   "source": [
    "LogisticRegression(C=1.0).fit(X_train, y_train).score(X_test, y_test)"
   ]
  },
  {
   "cell_type": "code",
   "execution_count": 15,
   "metadata": {
    "collapsed": false
   },
   "outputs": [
    {
     "data": {
      "text/plain": [
       "0.69940000000000002"
      ]
     },
     "execution_count": 15,
     "metadata": {},
     "output_type": "execute_result"
    }
   ],
   "source": [
    "LogisticRegression(C=1.0).fit(codings_train, y_train).score(codings_test, y_test)"
   ]
  },
  {
   "cell_type": "code",
   "execution_count": 16,
   "metadata": {
    "collapsed": false
   },
   "outputs": [
    {
     "data": {
      "text/plain": [
       "(55000, 144)"
      ]
     },
     "execution_count": 16,
     "metadata": {},
     "output_type": "execute_result"
    }
   ],
   "source": [
    "codings_train.shape"
   ]
  },
  {
   "cell_type": "code",
   "execution_count": 17,
   "metadata": {
    "collapsed": false
   },
   "outputs": [
    {
     "data": {
      "text/plain": [
       "0.66569999999999996"
      ]
     },
     "execution_count": 17,
     "metadata": {},
     "output_type": "execute_result"
    }
   ],
   "source": [
    "from sklearn.linear_model import SGDClassifier\n",
    "\n",
    "sgd_clf = SGDClassifier(random_state=42, tol=1e-4, loss='log')\n",
    "sgd_clf.fit(codings_train, y_train).score(codings_test, y_test)"
   ]
  },
  {
   "cell_type": "markdown",
   "metadata": {},
   "source": [
    "## Method 2: Dropout"
   ]
  },
  {
   "cell_type": "code",
   "execution_count": 18,
   "metadata": {
    "collapsed": false
   },
   "outputs": [],
   "source": [
    "tf.reset_default_graph()"
   ]
  },
  {
   "cell_type": "code",
   "execution_count": 19,
   "metadata": {
    "collapsed": true
   },
   "outputs": [],
   "source": [
    "n_inputs = 28 * 28\n",
    "n_units = n_inputs\n",
    "n_outputs = n_inputs\n",
    "keep_prob = 0.5"
   ]
  },
  {
   "cell_type": "code",
   "execution_count": 20,
   "metadata": {
    "collapsed": false
   },
   "outputs": [],
   "source": [
    "from functools import partial\n",
    "\n",
    "training = tf.placeholder_with_default(False, shape=(None), name='training')\n",
    "X = tf.placeholder(dtype=tf.float32, shape=(None, n_inputs))\n",
    "X_dropout = tf.layers.dropout(X, keep_prob, training=training)\n",
    "\n",
    "he_init = tf.contrib.layers.variance_scaling_initializer()\n",
    "my_dense_layer = partial(tf.layers.dense, activation=tf.nn.relu, kernel_initializer=he_init)\n",
    "hidden1 = my_dense_layer(X_dropout, n_units, name='hidden1')\n",
    "hidden2 = my_dense_layer(hidden1, n_units, name='hidden2')\n",
    "hidden3 = my_dense_layer(hidden2, n_units, name='hidden3')\n",
    "outputs = my_dense_layer(hidden3, n_outputs, activation=None, name='outputs')"
   ]
  },
  {
   "cell_type": "code",
   "execution_count": 22,
   "metadata": {
    "collapsed": true
   },
   "outputs": [],
   "source": [
    "reconstruction_loss = tf.reduce_mean(tf.square(X - outputs))\n",
    "optimizer = tf.train.AdamOptimizer(learning_rate=0.001)\n",
    "training_op = optimizer.minimize(reconstruction_loss)"
   ]
  },
  {
   "cell_type": "code",
   "execution_count": 23,
   "metadata": {
    "collapsed": true
   },
   "outputs": [],
   "source": [
    "saver = tf.train.Saver()\n",
    "init = tf.global_variables_initializer()"
   ]
  },
  {
   "cell_type": "code",
   "execution_count": 24,
   "metadata": {
    "collapsed": true
   },
   "outputs": [],
   "source": [
    "batch_size = 200\n",
    "epochs = 20\n",
    "codings = hidden2"
   ]
  },
  {
   "cell_type": "code",
   "execution_count": 25,
   "metadata": {
    "collapsed": false
   },
   "outputs": [
    {
     "name": "stdout",
     "output_type": "stream",
     "text": [
      "- 0.339828\n",
      "0 0.0236503\n",
      "2 0.0164853\n",
      "4 0.0146424\n",
      "6 0.0138861\n",
      "8 0.0130864\n",
      "10 0.0123178\n",
      "12 0.0118362\n",
      "14 0.0114569\n",
      "16 0.0111485\n",
      "18 0.0107434\n",
      "20 0.0103889\n"
     ]
    }
   ],
   "source": [
    "ckpt_path = '/tmp/data/final_dropout.ckpt'\n",
    "with tf.Session() as sess:\n",
    "     init.run()\n",
    "     print '-', reconstruction_loss.eval(feed_dict={X:mnist.validation.images})\n",
    "     for epoch in xrange(epochs + 1):\n",
    "          for iteration in xrange(mnist.train.num_examples // batch_size):\n",
    "               X_batch, _ = mnist.train.next_batch(batch_size)\n",
    "               sess.run(training_op, feed_dict={X:X_batch, training:True})\n",
    "          if not (epoch % 2): print epoch, reconstruction_loss.eval(feed_dict={X:mnist.validation.images})\n",
    "     save_path = saver.save(sess, ckpt_path)"
   ]
  },
  {
   "cell_type": "code",
   "execution_count": 26,
   "metadata": {
    "collapsed": false
   },
   "outputs": [
    {
     "name": "stdout",
     "output_type": "stream",
     "text": [
      "INFO:tensorflow:Restoring parameters from /tmp/data/final_dropout.ckpt\n"
     ]
    },
    {
     "data": {
      "image/png": "[encoded data removed]",
      "text/plain": [
       "<matplotlib.figure.Figure at 0x1831f72490>"
      ]
     },
     "metadata": {},
     "output_type": "display_data"
    }
   ],
   "source": [
    "with tf.Session() as sess:\n",
    "     saver.restore(sess, ckpt_path)\n",
    "     codings_train = codings.eval(feed_dict={X:X_train})\n",
    "     codings_test = codings.eval(feed_dict={X:X_test})\n",
    "     outputs_test = outputs.eval(feed_dict={X:X_test})\n",
    "     \n",
    "     plt.subplot(131)\n",
    "     plt.imshow(X_test[0].reshape(28, 28), cmap='binary'); plt.axis('off')\n",
    "     plt.subplot(132)\n",
    "     plt.imshow(codings_test[0].reshape(28, 28), cmap='binary'); plt.axis('off')\n",
    "     plt.subplot(133)\n",
    "     plt.imshow(outputs_test[0].reshape(28, 28), cmap='binary'); plt.axis('off')"
   ]
  },
  {
   "cell_type": "code",
   "execution_count": 27,
   "metadata": {
    "collapsed": false
   },
   "outputs": [
    {
     "data": {
      "text/plain": [
       "0.95469999999999999"
      ]
     },
     "execution_count": 27,
     "metadata": {},
     "output_type": "execute_result"
    }
   ],
   "source": [
    "sgd_clf = SGDClassifier(random_state=42, tol=1e-4, loss='log')\n",
    "sgd_clf.fit(codings_train, y_train).score(codings_test, y_test)"
   ]
  },
  {
   "cell_type": "code",
   "execution_count": 28,
   "metadata": {
    "collapsed": false
   },
   "outputs": [
    {
     "data": {
      "text/plain": [
       "0.95940000000000003"
      ]
     },
     "execution_count": 28,
     "metadata": {},
     "output_type": "execute_result"
    }
   ],
   "source": [
    "LogisticRegression(C=0.1).fit(codings_train, y_train).score(codings_test, y_test)"
   ]
  },
  {
   "cell_type": "code",
   "execution_count": 29,
   "metadata": {
    "collapsed": false
   },
   "outputs": [
    {
     "data": {
      "text/plain": [
       "0.96230000000000004"
      ]
     },
     "execution_count": 29,
     "metadata": {},
     "output_type": "execute_result"
    }
   ],
   "source": [
    "LogisticRegression(C=1.0).fit(codings_train, y_train).score(codings_test, y_test)"
   ]
  },
  {
   "cell_type": "code",
   "execution_count": 30,
   "metadata": {
    "collapsed": false
   },
   "outputs": [
    {
     "data": {
      "text/plain": [
       "0.96250000000000002"
      ]
     },
     "execution_count": 30,
     "metadata": {},
     "output_type": "execute_result"
    }
   ],
   "source": [
    "LogisticRegression(C=10.0).fit(codings_train, y_train).score(codings_test, y_test)"
   ]
  },
  {
   "cell_type": "markdown",
   "metadata": {},
   "source": [
    "We see that the features generated with the autoencoder using dropout gave the best performance in terms of accuracy. Recall, here is the accuracy when all the data is used:"
   ]
  },
  {
   "cell_type": "code",
   "execution_count": 34,
   "metadata": {
    "collapsed": false
   },
   "outputs": [
    {
     "data": {
      "text/plain": [
       "0.91979999999999995"
      ]
     },
     "execution_count": 34,
     "metadata": {},
     "output_type": "execute_result"
    }
   ],
   "source": [
    "LogisticRegression(C=1.0).fit(X_train, y_train).score(X_test, y_test)"
   ]
  },
  {
   "cell_type": "markdown",
   "metadata": {},
   "source": [
    "This is the case where creating new features improves the performance of the model."
   ]
  },
  {
   "cell_type": "code",
   "execution_count": 37,
   "metadata": {
    "collapsed": false
   },
   "outputs": [
    {
     "data": {
      "text/plain": [
       "(55000, 784)"
      ]
     },
     "execution_count": 37,
     "metadata": {},
     "output_type": "execute_result"
    }
   ],
   "source": [
    "mnist.train.images.shape"
   ]
  },
  {
   "cell_type": "code",
   "execution_count": 40,
   "metadata": {
    "collapsed": true
   },
   "outputs": [],
   "source": [
    "from sklearn.preprocessing import StandardScaler\n",
    "\n",
    "std_sc = StandardScaler()\n",
    "X_train_std = std_sc.fit_transform(X_train)\n",
    "X_test_std = std_sc.transform(X_test)"
   ]
  },
  {
   "cell_type": "code",
   "execution_count": 41,
   "metadata": {
    "collapsed": false
   },
   "outputs": [
    {
     "data": {
      "text/plain": [
       "0.91700000000000004"
      ]
     },
     "execution_count": 41,
     "metadata": {},
     "output_type": "execute_result"
    }
   ],
   "source": [
    "LogisticRegression(C=1.0).fit(X_train_std, y_train).score(X_test_std, y_test)"
   ]
  },
  {
   "cell_type": "markdown",
   "metadata": {},
   "source": [
    "### Discussion"
   ]
  },
  {
   "cell_type": "markdown",
   "metadata": {},
   "source": [
    "When dropout is used we keep the number of neurons per hidden layer the same as the number of input and (of course) output neurons. When the codings are used to fit a model instead of the original 784 features per digit, the performance is very good (96% versus 92% when the autoencoder is not used). This is a surprising result."
   ]
  },
  {
   "cell_type": "markdown",
   "metadata": {},
   "source": [
    "When adding Gaussian noise is tried along with undercompletion, the performance of the autoencoder is very not good giving only 70% accuracy when the codings are used for classification. In general there is much more to be done here."
   ]
  }
 ],
 "metadata": {
  "anaconda-cloud": {},
  "kernelspec": {
   "display_name": "Python [conda root]",
   "language": "python",
   "name": "conda-root-py"
  },
  "language_info": {
   "codemirror_mode": {
    "name": "ipython",
    "version": 2
   },
   "file_extension": ".py",
   "mimetype": "text/x-python",
   "name": "python",
   "nbconvert_exporter": "python",
   "pygments_lexer": "ipython2",
   "version": "2.7.12"
  }
 },
 "nbformat": 4,
 "nbformat_minor": 1
}
