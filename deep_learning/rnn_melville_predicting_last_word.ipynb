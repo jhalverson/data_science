{
 "cells": [
  {
   "cell_type": "markdown",
   "metadata": {},
   "source": [
    "# Jonathan Halverson\n",
    "# Friday, January 19, 2018\n",
    "# Write like Melville: Complete the next word"
   ]
  },
  {
   "cell_type": "markdown",
   "metadata": {},
   "source": [
    "Here we train an RNN to predict the last word of a sentence. The model is trained on sentences written by Herman Melville. We could have also broken the sentences into phrases."
   ]
  },
  {
   "cell_type": "code",
   "execution_count": 1,
   "metadata": {
    "collapsed": true
   },
   "outputs": [],
   "source": [
    "import nltk\n",
    "import numpy as np\n",
    "import tensorflow as tf\n",
    "import matplotlib.pyplot as plt\n",
    "%matplotlib inline\n",
    "plt.style.use('halverson')"
   ]
  },
  {
   "cell_type": "code",
   "execution_count": 2,
   "metadata": {
    "collapsed": true
   },
   "outputs": [],
   "source": [
    "import re\n",
    "from collections import Counter"
   ]
  },
  {
   "cell_type": "markdown",
   "metadata": {},
   "source": [
    "### Load the books"
   ]
  },
  {
   "cell_type": "code",
   "execution_count": 3,
   "metadata": {
    "collapsed": false
   },
   "outputs": [],
   "source": [
    "melville_raw = list(nltk.corpus.gutenberg.words('melville-moby_dick.txt'))\n",
    "melville = melville_raw[melville_raw.index('Loomings'):]"
   ]
  },
  {
   "cell_type": "code",
   "execution_count": 4,
   "metadata": {
    "collapsed": false
   },
   "outputs": [],
   "source": [
    "with open('melville_pierre.txt') as f:\n",
    "     melville2 = f.read().decode('utf-8').encode('ascii', 'ignore').replace('\\n', ' ').split()"
   ]
  },
  {
   "cell_type": "code",
   "execution_count": 5,
   "metadata": {
    "collapsed": false
   },
   "outputs": [],
   "source": [
    "def make_sentences(x):\n",
    "     j = ' '.join(x).replace('Mr .', 'Mr').replace('Mrs .', 'Mrs')\n",
    "     j = j.replace('Ms .', 'Ms').replace('Dr .', 'Dr').replace('\\n', ' ')\n",
    "     j = j.replace('?', '.').replace('!', '.').replace('CHAPTER', ' ')\n",
    "     sentences = j.split('.')\n",
    "     s = [re.sub(\"[^a-zA-Z]\", \" \", sentence) for sentence in sentences]\n",
    "     s = [sentence.lower().split() for sentence in s]\n",
    "     return s"
   ]
  },
  {
   "cell_type": "code",
   "execution_count": 6,
   "metadata": {
    "collapsed": true
   },
   "outputs": [],
   "source": [
    "def remove_single_letters_except_ia(sentences):\n",
    "     new_sentences = []\n",
    "     for sentence in sentences:\n",
    "          cleaned_sentence = []\n",
    "          for word in sentence:\n",
    "               if len(word) > 1:\n",
    "                    cleaned_sentence.append(word)\n",
    "               else:\n",
    "                    if word in ['a', 'i']:\n",
    "                         cleaned_sentence.append(word)\n",
    "          new_sentences.append(cleaned_sentence)\n",
    "     return new_sentences"
   ]
  },
  {
   "cell_type": "code",
   "execution_count": 7,
   "metadata": {
    "collapsed": true
   },
   "outputs": [],
   "source": [
    "def remove_short_and_long_sentences(sentences, low, high):\n",
    "     new_sentences = []\n",
    "     for sentence in sentences:\n",
    "          if (len(sentence) >= low and len(sentence) <= high):\n",
    "               new_sentences.append(sentence)\n",
    "     return new_sentences"
   ]
  },
  {
   "cell_type": "code",
   "execution_count": 8,
   "metadata": {
    "collapsed": true
   },
   "outputs": [],
   "source": [
    "def replace_word_with_index_and_zero_pad(sentences, dictionary, high):\n",
    "     number_sentences = []\n",
    "     target_sentences = []\n",
    "     for sentence in sentences:\n",
    "          number_sentence = [dictionary[word] for word in sentence[:-1]]\n",
    "          target_sentence = dictionary[sentence[-1]]\n",
    "          for _ in range(high - len(number_sentence) - 1):\n",
    "               number_sentence.append(0)\n",
    "          number_sentences.append(number_sentence)\n",
    "          target_sentences.append(target_sentence)\n",
    "     return np.array(number_sentences), np.array(target_sentences).astype(np.int32)"
   ]
  },
  {
   "cell_type": "code",
   "execution_count": 9,
   "metadata": {
    "collapsed": false
   },
   "outputs": [],
   "source": [
    "def testing__replace_word_with_index_and_zero_pad(sentences, dictionary, high):\n",
    "     number_sentences = []\n",
    "     for sentence in sentences:\n",
    "          number_sentence = [dictionary[word] for word in sentence]\n",
    "          for _ in range(high - len(number_sentence) - 1):\n",
    "               number_sentence.append(0)\n",
    "          number_sentences.append(number_sentence)\n",
    "     return np.array(number_sentences)"
   ]
  },
  {
   "cell_type": "code",
   "execution_count": 10,
   "metadata": {
    "collapsed": true
   },
   "outputs": [],
   "source": [
    "s1 = remove_single_letters_except_ia(make_sentences(melville))\n",
    "#+ remove_single_letters_except_ia(make_sentences(melville2))"
   ]
  },
  {
   "cell_type": "code",
   "execution_count": 11,
   "metadata": {
    "collapsed": false
   },
   "outputs": [],
   "source": [
    "upper_bound = 20\n",
    "s1 = remove_short_and_long_sentences(s1, 5, upper_bound)"
   ]
  },
  {
   "cell_type": "code",
   "execution_count": 12,
   "metadata": {
    "collapsed": false
   },
   "outputs": [
    {
     "name": "stdout",
     "output_type": "stream",
     "text": [
      "4041\n"
     ]
    }
   ],
   "source": [
    "print len(s1)"
   ]
  },
  {
   "cell_type": "code",
   "execution_count": 13,
   "metadata": {
    "collapsed": false,
    "scrolled": true
   },
   "outputs": [
    {
     "data": {
      "text/plain": [
       "<matplotlib.text.Text at 0x1a1f439fd0>"
      ]
     },
     "execution_count": 13,
     "metadata": {},
     "output_type": "execute_result"
    },
    {
     "data": {
      "image/png": "[encoded data removed]",
      "text/plain": [
       "<matplotlib.figure.Figure at 0x1a1cd36c10>"
      ]
     },
     "metadata": {},
     "output_type": "display_data"
    }
   ],
   "source": [
    "plt.hist([len(s) for s in s1], bins=np.linspace(0.5, 40.5, 41), rwidth=0.8)\n",
    "plt.xlabel('Words per sentence')\n",
    "plt.ylabel('Count')"
   ]
  },
  {
   "cell_type": "code",
   "execution_count": 14,
   "metadata": {
    "collapsed": false
   },
   "outputs": [],
   "source": [
    "all_words = [word for sentence in s1 for word in sentence]"
   ]
  },
  {
   "cell_type": "code",
   "execution_count": 15,
   "metadata": {
    "collapsed": false
   },
   "outputs": [
    {
     "data": {
      "text/plain": [
       "47053"
      ]
     },
     "execution_count": 15,
     "metadata": {},
     "output_type": "execute_result"
    }
   ],
   "source": [
    "len(all_words)"
   ]
  },
  {
   "cell_type": "code",
   "execution_count": 16,
   "metadata": {
    "collapsed": false
   },
   "outputs": [
    {
     "data": {
      "text/plain": [
       "7220"
      ]
     },
     "execution_count": 16,
     "metadata": {},
     "output_type": "execute_result"
    }
   ],
   "source": [
    "unique_words = set(all_words)\n",
    "vocabulary_size = len(unique_words)\n",
    "vocabulary_size"
   ]
  },
  {
   "cell_type": "code",
   "execution_count": 17,
   "metadata": {
    "collapsed": false
   },
   "outputs": [],
   "source": [
    "dictionary = dict([(word, index) for index, word in enumerate(unique_words)])\n",
    "inverse_dictionary = dict([(index, word) for index, word in enumerate(unique_words)])"
   ]
  },
  {
   "cell_type": "code",
   "execution_count": 18,
   "metadata": {
    "collapsed": false
   },
   "outputs": [
    {
     "data": {
      "text/plain": [
       "7108"
      ]
     },
     "execution_count": 18,
     "metadata": {},
     "output_type": "execute_result"
    }
   ],
   "source": [
    "dictionary['whale']"
   ]
  },
  {
   "cell_type": "code",
   "execution_count": 19,
   "metadata": {
    "collapsed": false
   },
   "outputs": [
    {
     "data": {
      "text/plain": [
       "u'whale'"
      ]
     },
     "execution_count": 19,
     "metadata": {},
     "output_type": "execute_result"
    }
   ],
   "source": [
    "inverse_dictionary[7108]"
   ]
  },
  {
   "cell_type": "code",
   "execution_count": 20,
   "metadata": {
    "collapsed": false
   },
   "outputs": [],
   "source": [
    "all_sentences, target = replace_word_with_index_and_zero_pad(s1, dictionary, high=upper_bound)"
   ]
  },
  {
   "cell_type": "code",
   "execution_count": 21,
   "metadata": {
    "collapsed": false
   },
   "outputs": [
    {
     "data": {
      "text/plain": [
       "array([3926, 3925, 2837, 2216, 3470, 5205, 6295, 5612, 1722, 2140, 3363,\n",
       "       6119, 1258, 2140,    0,    0,    0,    0,    0])"
      ]
     },
     "execution_count": 21,
     "metadata": {},
     "output_type": "execute_result"
    }
   ],
   "source": [
    "all_sentences[0]"
   ]
  },
  {
   "cell_type": "code",
   "execution_count": 22,
   "metadata": {
    "collapsed": false
   },
   "outputs": [
    {
     "data": {
      "text/plain": [
       "2699"
      ]
     },
     "execution_count": 22,
     "metadata": {},
     "output_type": "execute_result"
    }
   ],
   "source": [
    "target[0]"
   ]
  },
  {
   "cell_type": "code",
   "execution_count": 23,
   "metadata": {
    "collapsed": false
   },
   "outputs": [
    {
     "data": {
      "text/plain": [
       "u'it is a way i have of driving off the spleen and regulating the cussed cussed cussed cussed cussed'"
      ]
     },
     "execution_count": 23,
     "metadata": {},
     "output_type": "execute_result"
    }
   ],
   "source": [
    "' '.join([inverse_dictionary[code] for code in all_sentences[0]])"
   ]
  },
  {
   "cell_type": "code",
   "execution_count": 24,
   "metadata": {
    "collapsed": false
   },
   "outputs": [
    {
     "data": {
      "text/plain": [
       "u'circulation'"
      ]
     },
     "execution_count": 24,
     "metadata": {},
     "output_type": "execute_result"
    }
   ],
   "source": [
    "inverse_dictionary[target[0]]"
   ]
  },
  {
   "cell_type": "code",
   "execution_count": 25,
   "metadata": {
    "collapsed": false
   },
   "outputs": [],
   "source": [
    "seq_length = np.array([len(sentence) for sentence in s1]) - 1"
   ]
  },
  {
   "cell_type": "code",
   "execution_count": 26,
   "metadata": {
    "collapsed": false
   },
   "outputs": [],
   "source": [
    "idx = np.arange(target.shape[0])\n",
    "np.random.shuffle(idx)\n",
    "X_training = all_sentences[idx]\n",
    "y_training = target[idx]\n",
    "L_training = seq_length[idx]"
   ]
  },
  {
   "cell_type": "code",
   "execution_count": 27,
   "metadata": {
    "collapsed": true
   },
   "outputs": [],
   "source": [
    "def fetch_batch(A, b, c, batch_size):\n",
    "     idx = np.random.choice(np.arange(y_training.size), size=batch_size, replace=False)\n",
    "     return A[idx], b[idx], c[idx]"
   ]
  },
  {
   "cell_type": "code",
   "execution_count": 28,
   "metadata": {
    "collapsed": true
   },
   "outputs": [],
   "source": [
    "tf.reset_default_graph()"
   ]
  },
  {
   "cell_type": "code",
   "execution_count": 29,
   "metadata": {
    "collapsed": true
   },
   "outputs": [],
   "source": [
    "embedding_size = 32\n",
    "n_inputs = embedding_size\n",
    "n_steps = 19\n",
    "n_neurons = 64"
   ]
  },
  {
   "cell_type": "code",
   "execution_count": 30,
   "metadata": {
    "collapsed": false
   },
   "outputs": [],
   "source": [
    "X = tf.placeholder(tf.int32, shape=(None, n_steps))\n",
    "y = tf.placeholder(tf.int32, shape=(None))\n",
    "L = tf.placeholder(dtype=tf.int32, shape=(None))\n",
    "training = tf.placeholder_with_default(False, shape=(None))"
   ]
  },
  {
   "cell_type": "code",
   "execution_count": 31,
   "metadata": {
    "collapsed": true
   },
   "outputs": [],
   "source": [
    "embeddings = tf.Variable(tf.random_uniform([vocabulary_size, embedding_size], -1.0, 1.0), trainable=True)\n",
    "embed = tf.nn.embedding_lookup(params=embeddings, ids=X)"
   ]
  },
  {
   "cell_type": "code",
   "execution_count": 32,
   "metadata": {
    "collapsed": false
   },
   "outputs": [],
   "source": [
    "cell = tf.contrib.rnn.GRUCell(num_units=n_neurons)\n",
    "outputs, states = tf.nn.dynamic_rnn(cell, embed, dtype=tf.float32, sequence_length=L)\n",
    "fc_drop = tf.layers.dropout(states, rate=0.5, training=training)\n",
    "logits = tf.layers.dense(fc_drop, units=vocabulary_size, activation=None)\n",
    "p = tf.nn.softmax(logits, dim=1)\n",
    "predicted_index = tf.cast(tf.argmax(logits, axis=1), tf.int32)"
   ]
  },
  {
   "cell_type": "code",
   "execution_count": 33,
   "metadata": {
    "collapsed": false
   },
   "outputs": [],
   "source": [
    "xentropy = tf.nn.sparse_softmax_cross_entropy_with_logits(labels=y, logits=logits)\n",
    "loss = tf.reduce_mean(xentropy)"
   ]
  },
  {
   "cell_type": "code",
   "execution_count": 34,
   "metadata": {
    "collapsed": false
   },
   "outputs": [],
   "source": [
    "optimizer = tf.train.AdamOptimizer(learning_rate=0.01)\n",
    "training_op = optimizer.minimize(loss)"
   ]
  },
  {
   "cell_type": "code",
   "execution_count": 35,
   "metadata": {
    "collapsed": false
   },
   "outputs": [],
   "source": [
    "accuracy = tf.reduce_mean(tf.cast(tf.equal(y, predicted_index), tf.float32))"
   ]
  },
  {
   "cell_type": "code",
   "execution_count": 36,
   "metadata": {
    "collapsed": false
   },
   "outputs": [],
   "source": [
    "init = tf.global_variables_initializer()\n",
    "saver = tf.train.Saver()"
   ]
  },
  {
   "cell_type": "code",
   "execution_count": 37,
   "metadata": {
    "collapsed": true
   },
   "outputs": [],
   "source": [
    "batch_size = 75\n",
    "epochs = 100"
   ]
  },
  {
   "cell_type": "code",
   "execution_count": 38,
   "metadata": {
    "collapsed": false
   },
   "outputs": [
    {
     "name": "stdout",
     "output_type": "stream",
     "text": [
      "0 0.0533333 7.41485\n",
      "10 0.906667 0.689569\n",
      "20 0.973333 0.103143\n",
      "30 1.0 0.015105\n",
      "40 1.0 0.00952502\n",
      "50 1.0 0.0075203\n",
      "60 1.0 0.00228968\n",
      "70 1.0 0.00111354\n",
      "80 1.0 0.00164627\n",
      "90 0.973333 0.0892439\n",
      "100 1.0 0.000700741\n"
     ]
    }
   ],
   "source": [
    "ckpt_name = 'my_melville_rnn.ckpt'\n",
    "with tf.Session() as sess:\n",
    "     init.run()\n",
    "     for epoch in xrange(epochs + 1):\n",
    "          for iteration in xrange(y_training.size // batch_size):\n",
    "               X_batch, y_batch, L_batch = fetch_batch(X_training, y_training, L_training, batch_size)\n",
    "               sess.run(training_op, feed_dict={X:X_batch, y:y_batch, L:L_batch, training:True})\n",
    "          acc, lss = sess.run([accuracy, loss], feed_dict={X:X_batch, y:y_batch, L:L_batch})\n",
    "          if epoch % 10 == 0: print epoch, acc, lss\n",
    "     save_path = saver.save(sess, ckpt_name)"
   ]
  },
  {
   "cell_type": "code",
   "execution_count": 42,
   "metadata": {
    "collapsed": false
   },
   "outputs": [
    {
     "name": "stdout",
     "output_type": "stream",
     "text": [
      "INFO:tensorflow:Restoring parameters from my_melville_rnn.ckpt\n"
     ]
    }
   ],
   "source": [
    "with tf.Session() as sess:\n",
    "     saver.restore(sess, ckpt_name)\n",
    "     sentences = [['the', 'winter', 'was', 'not'], ['it', 'was', 'a'], ['i', 'felt'], ['the', 'whale', 'had']]\n",
    "     X_new = testing__replace_word_with_index_and_zero_pad(sentences, dictionary, high=upper_bound)\n",
    "     L_new = [len(sentence) for sentence in sentences]\n",
    "     idx = predicted_index.eval(feed_dict={X:X_new, L:L_new})\n",
    "     prob = p.eval(feed_dict={X:X_new, L:L_new})"
   ]
  },
  {
   "cell_type": "code",
   "execution_count": 43,
   "metadata": {
    "collapsed": false
   },
   "outputs": [
    {
     "name": "stdout",
     "output_type": "stream",
     "text": [
      "the winter was not thirty 0.266092\n",
      "it was a dish 0.108557\n",
      "i felt thee 0.782056\n",
      "the whale had there 0.287393\n"
     ]
    }
   ],
   "source": [
    "for i, sentence in enumerate(sentences):\n",
    "     print ' '.join(sentence), inverse_dictionary[idx[i]], prob.max(axis=1)[i]"
   ]
  },
  {
   "cell_type": "code",
   "execution_count": 44,
   "metadata": {
    "collapsed": false
   },
   "outputs": [
    {
     "data": {
      "text/plain": [
       "array([ 1.00001287,  1.00000012,  1.00000191,  0.99999952], dtype=float32)"
      ]
     },
     "execution_count": 44,
     "metadata": {},
     "output_type": "execute_result"
    }
   ],
   "source": [
    "prob.sum(axis=1)"
   ]
  },
  {
   "cell_type": "markdown",
   "metadata": {},
   "source": [
    "It's odd that we train on long sentences and then feed in short ones. One could try generating the next word multiple times by using recursion."
   ]
  }
 ],
 "metadata": {
  "anaconda-cloud": {},
  "kernelspec": {
   "display_name": "Python [conda root]",
   "language": "python",
   "name": "conda-root-py"
  },
  "language_info": {
   "codemirror_mode": {
    "name": "ipython",
    "version": 2
   },
   "file_extension": ".py",
   "mimetype": "text/x-python",
   "name": "python",
   "nbconvert_exporter": "python",
   "pygments_lexer": "ipython2",
   "version": "2.7.12"
  }
 },
 "nbformat": 4,
 "nbformat_minor": 1
}
