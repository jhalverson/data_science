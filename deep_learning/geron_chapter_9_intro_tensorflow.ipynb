{
 "cells": [
  {
   "cell_type": "markdown",
   "metadata": {},
   "source": [
    "# Jonathan Halverson\n",
    "# Wednesday, October 25, 2017\n",
    "# Geron Chapter 12: Intro to Tensorflow"
   ]
  },
  {
   "cell_type": "markdown",
   "metadata": {},
   "source": [
    "Let's import the module and then create a simple computation graph:"
   ]
  },
  {
   "cell_type": "code",
   "execution_count": 1,
   "metadata": {
    "collapsed": true
   },
   "outputs": [],
   "source": [
    "import tensorflow as tf\n",
    "\n",
    "x = tf.Variable(3, name=\"x\")\n",
    "y = tf.Variable(9, name=\"y\")\n",
    "f = x * x + x * y + 4"
   ]
  },
  {
   "cell_type": "markdown",
   "metadata": {},
   "source": [
    "The graph has been created. Note that no computation has taken place as this point. Next we create a TF session and execute the graph:"
   ]
  },
  {
   "cell_type": "code",
   "execution_count": 2,
   "metadata": {
    "collapsed": true
   },
   "outputs": [],
   "source": [
    "with tf.Session() as sess:\n",
    "     x.initializer.run()\n",
    "     y.initializer.run()\n",
    "     result = f.eval()"
   ]
  },
  {
   "cell_type": "code",
   "execution_count": 3,
   "metadata": {
    "collapsed": false
   },
   "outputs": [
    {
     "name": "stdout",
     "output_type": "stream",
     "text": [
      "40\n"
     ]
    }
   ],
   "source": [
    "print(result)"
   ]
  },
  {
   "cell_type": "markdown",
   "metadata": {},
   "source": [
    "Note that x.initializer.run() is equivalent to tf.get_default_session().run(x.initializer) and f.eval() is equivalent to calling tf.get_default_session.run(f)."
   ]
  },
  {
   "cell_type": "code",
   "execution_count": 4,
   "metadata": {
    "collapsed": false
   },
   "outputs": [
    {
     "data": {
      "text/plain": [
       "tensorflow.python.ops.variables.Variable"
      ]
     },
     "execution_count": 4,
     "metadata": {},
     "output_type": "execute_result"
    }
   ],
   "source": [
    "type(x)"
   ]
  },
  {
   "cell_type": "code",
   "execution_count": 5,
   "metadata": {
    "collapsed": false
   },
   "outputs": [
    {
     "data": {
      "text/plain": [
       "tensorflow.python.framework.ops.Tensor"
      ]
     },
     "execution_count": 5,
     "metadata": {},
     "output_type": "execute_result"
    }
   ],
   "source": [
    "type(f)"
   ]
  },
  {
   "cell_type": "code",
   "execution_count": 6,
   "metadata": {
    "collapsed": false
   },
   "outputs": [
    {
     "data": {
      "text/plain": [
       "numpy.int32"
      ]
     },
     "execution_count": 6,
     "metadata": {},
     "output_type": "execute_result"
    }
   ],
   "source": [
    "type(result)"
   ]
  },
  {
   "cell_type": "markdown",
   "metadata": {},
   "source": [
    "### Graph 2"
   ]
  },
  {
   "cell_type": "code",
   "execution_count": 7,
   "metadata": {
    "collapsed": true
   },
   "outputs": [],
   "source": [
    "tf.reset_default_graph()"
   ]
  },
  {
   "cell_type": "markdown",
   "metadata": {},
   "source": [
    "Let's try another graph:"
   ]
  },
  {
   "cell_type": "code",
   "execution_count": 8,
   "metadata": {
    "collapsed": true
   },
   "outputs": [],
   "source": [
    "a = tf.Variable(-10.0, name='a')\n",
    "b = tf.Variable(1e3, name='b')\n",
    "g = a / b - 1.0\n",
    "init = tf.global_variables_initializer()"
   ]
  },
  {
   "cell_type": "code",
   "execution_count": 9,
   "metadata": {
    "collapsed": false
   },
   "outputs": [],
   "source": [
    "with tf.Session() as sess:\n",
    "     init.run()\n",
    "     result = g.eval()"
   ]
  },
  {
   "cell_type": "code",
   "execution_count": 10,
   "metadata": {
    "collapsed": false
   },
   "outputs": [
    {
     "name": "stdout",
     "output_type": "stream",
     "text": [
      "-1.01\n"
     ]
    }
   ],
   "source": [
    "print(result)"
   ]
  },
  {
   "cell_type": "markdown",
   "metadata": {},
   "source": [
    "### Interactive sessions"
   ]
  },
  {
   "cell_type": "code",
   "execution_count": 11,
   "metadata": {
    "collapsed": true
   },
   "outputs": [],
   "source": [
    "tf.reset_default_graph()"
   ]
  },
  {
   "cell_type": "code",
   "execution_count": 12,
   "metadata": {
    "collapsed": false
   },
   "outputs": [],
   "source": [
    "u = tf.Variable(4, name='u')\n",
    "v = tf.Variable(7, name='v')\n",
    "h = v * u"
   ]
  },
  {
   "cell_type": "code",
   "execution_count": 13,
   "metadata": {
    "collapsed": false
   },
   "outputs": [
    {
     "name": "stdout",
     "output_type": "stream",
     "text": [
      "28\n"
     ]
    }
   ],
   "source": [
    "sess = tf.InteractiveSession()\n",
    "u.initializer.run()\n",
    "v.initializer.run()\n",
    "result = sess.run(h)\n",
    "print(result)\n",
    "sess.close()"
   ]
  },
  {
   "cell_type": "markdown",
   "metadata": {},
   "source": [
    "One needs to explicitly close the session as is done above."
   ]
  },
  {
   "cell_type": "markdown",
   "metadata": {},
   "source": [
    "### Managing graphs"
   ]
  },
  {
   "cell_type": "code",
   "execution_count": 14,
   "metadata": {
    "collapsed": true
   },
   "outputs": [],
   "source": [
    "tf.reset_default_graph()"
   ]
  },
  {
   "cell_type": "code",
   "execution_count": 15,
   "metadata": {
    "collapsed": false
   },
   "outputs": [
    {
     "data": {
      "text/plain": [
       "True"
      ]
     },
     "execution_count": 15,
     "metadata": {},
     "output_type": "execute_result"
    }
   ],
   "source": [
    "x1 = tf.Variable(1)\n",
    "x1.graph is tf.get_default_graph()"
   ]
  },
  {
   "cell_type": "code",
   "execution_count": 16,
   "metadata": {
    "collapsed": true
   },
   "outputs": [],
   "source": [
    "graph = tf.Graph()\n",
    "with graph.as_default():\n",
    "     x2 = tf.Variable(2)"
   ]
  },
  {
   "cell_type": "code",
   "execution_count": 17,
   "metadata": {
    "collapsed": false
   },
   "outputs": [
    {
     "data": {
      "text/plain": [
       "True"
      ]
     },
     "execution_count": 17,
     "metadata": {},
     "output_type": "execute_result"
    }
   ],
   "source": [
    "x2.graph is graph"
   ]
  },
  {
   "cell_type": "code",
   "execution_count": 18,
   "metadata": {
    "collapsed": false
   },
   "outputs": [
    {
     "data": {
      "text/plain": [
       "False"
      ]
     },
     "execution_count": 18,
     "metadata": {},
     "output_type": "execute_result"
    }
   ],
   "source": [
    "x2.graph is tf.get_default_graph()"
   ]
  },
  {
   "cell_type": "markdown",
   "metadata": {},
   "source": [
    "Any node that you create is automatically added to the default graph. You have explicitly create another graph and then make this the default to assign nodes to that graph."
   ]
  },
  {
   "cell_type": "code",
   "execution_count": 19,
   "metadata": {
    "collapsed": false
   },
   "outputs": [],
   "source": [
    "with tf.get_default_graph().as_default():\n",
    "     x3 = tf.Variable(8, name='x3')"
   ]
  },
  {
   "cell_type": "code",
   "execution_count": 20,
   "metadata": {
    "collapsed": false
   },
   "outputs": [
    {
     "data": {
      "text/plain": [
       "tensorflow.python.framework.ops.Graph"
      ]
     },
     "execution_count": 20,
     "metadata": {},
     "output_type": "execute_result"
    }
   ],
   "source": [
    "type(tf.get_default_graph())"
   ]
  },
  {
   "cell_type": "markdown",
   "metadata": {},
   "source": [
    "### Lifecycle of a node"
   ]
  },
  {
   "cell_type": "code",
   "execution_count": 21,
   "metadata": {
    "collapsed": true
   },
   "outputs": [],
   "source": [
    "tf.reset_default_graph()"
   ]
  },
  {
   "cell_type": "code",
   "execution_count": 22,
   "metadata": {
    "collapsed": true
   },
   "outputs": [],
   "source": [
    "w = tf.constant(5)\n",
    "x = w + 2\n",
    "y = x + 5\n",
    "z = x + 3"
   ]
  },
  {
   "cell_type": "code",
   "execution_count": 23,
   "metadata": {
    "collapsed": false
   },
   "outputs": [
    {
     "name": "stdout",
     "output_type": "stream",
     "text": [
      "12\n",
      "10\n"
     ]
    }
   ],
   "source": [
    "with tf.Session() as sess:\n",
    "     print(y.eval())\n",
    "     print(z.eval())"
   ]
  },
  {
   "cell_type": "markdown",
   "metadata": {},
   "source": [
    "When z is evaluated the DAG is re-traversed. This is inefficient so we can use another way:"
   ]
  },
  {
   "cell_type": "code",
   "execution_count": 24,
   "metadata": {
    "collapsed": false
   },
   "outputs": [
    {
     "name": "stdout",
     "output_type": "stream",
     "text": [
      "12\n",
      "10\n"
     ]
    }
   ],
   "source": [
    "with tf.Session() as sess:\n",
    "     y_val, z_val = sess.run([y, z])\n",
    "     print(y_val)\n",
    "     print(z_val)"
   ]
  },
  {
   "cell_type": "markdown",
   "metadata": {},
   "source": [
    "### Working with tensors"
   ]
  },
  {
   "cell_type": "code",
   "execution_count": 25,
   "metadata": {
    "collapsed": true
   },
   "outputs": [],
   "source": [
    "tf.reset_default_graph()"
   ]
  },
  {
   "cell_type": "code",
   "execution_count": 26,
   "metadata": {
    "collapsed": false
   },
   "outputs": [],
   "source": [
    "import numpy as np\n",
    "\n",
    "x = tf.Variable(np.arange(10.0, 20.0, 1.0))\n",
    "y = tf.Variable(np.random.rand(10), dtype=tf.float64)\n",
    "z = x + y\n",
    "init = tf.global_variables_initializer()"
   ]
  },
  {
   "cell_type": "code",
   "execution_count": 27,
   "metadata": {
    "collapsed": false
   },
   "outputs": [
    {
     "name": "stdout",
     "output_type": "stream",
     "text": [
      "[ 10.619979    11.75443366  12.61481646  13.92904539  14.99944212\n",
      "  15.83618576  16.90079236  17.21633076  18.5702605   19.68071358]\n"
     ]
    }
   ],
   "source": [
    "sess = tf.InteractiveSession()\n",
    "init.run()\n",
    "print(z.eval())\n",
    "sess.close()"
   ]
  },
  {
   "cell_type": "markdown",
   "metadata": {},
   "source": [
    "### Linear regression with tensorflow (the normal equation)"
   ]
  },
  {
   "cell_type": "code",
   "execution_count": 28,
   "metadata": {
    "collapsed": false
   },
   "outputs": [
    {
     "data": {
      "text/html": [
       "<div>\n",
       "<table border=\"1\" class=\"dataframe\">\n",
       "  <thead>\n",
       "    <tr style=\"text-align: right;\">\n",
       "      <th></th>\n",
       "      <th>longitude</th>\n",
       "      <th>latitude</th>\n",
       "      <th>housing_median_age</th>\n",
       "      <th>total_rooms</th>\n",
       "      <th>total_bedrooms</th>\n",
       "      <th>population</th>\n",
       "      <th>households</th>\n",
       "      <th>median_income</th>\n",
       "      <th>median_house_value</th>\n",
       "      <th>ocean_proximity</th>\n",
       "    </tr>\n",
       "  </thead>\n",
       "  <tbody>\n",
       "    <tr>\n",
       "      <th>0</th>\n",
       "      <td>-122.23</td>\n",
       "      <td>37.88</td>\n",
       "      <td>41.0</td>\n",
       "      <td>880.0</td>\n",
       "      <td>129.0</td>\n",
       "      <td>322.0</td>\n",
       "      <td>126.0</td>\n",
       "      <td>8.3252</td>\n",
       "      <td>452600.0</td>\n",
       "      <td>NEAR BAY</td>\n",
       "    </tr>\n",
       "    <tr>\n",
       "      <th>1</th>\n",
       "      <td>-122.22</td>\n",
       "      <td>37.86</td>\n",
       "      <td>21.0</td>\n",
       "      <td>7099.0</td>\n",
       "      <td>1106.0</td>\n",
       "      <td>2401.0</td>\n",
       "      <td>1138.0</td>\n",
       "      <td>8.3014</td>\n",
       "      <td>358500.0</td>\n",
       "      <td>NEAR BAY</td>\n",
       "    </tr>\n",
       "    <tr>\n",
       "      <th>2</th>\n",
       "      <td>-122.24</td>\n",
       "      <td>37.85</td>\n",
       "      <td>52.0</td>\n",
       "      <td>1467.0</td>\n",
       "      <td>190.0</td>\n",
       "      <td>496.0</td>\n",
       "      <td>177.0</td>\n",
       "      <td>7.2574</td>\n",
       "      <td>352100.0</td>\n",
       "      <td>NEAR BAY</td>\n",
       "    </tr>\n",
       "    <tr>\n",
       "      <th>3</th>\n",
       "      <td>-122.25</td>\n",
       "      <td>37.85</td>\n",
       "      <td>52.0</td>\n",
       "      <td>1274.0</td>\n",
       "      <td>235.0</td>\n",
       "      <td>558.0</td>\n",
       "      <td>219.0</td>\n",
       "      <td>5.6431</td>\n",
       "      <td>341300.0</td>\n",
       "      <td>NEAR BAY</td>\n",
       "    </tr>\n",
       "    <tr>\n",
       "      <th>4</th>\n",
       "      <td>-122.25</td>\n",
       "      <td>37.85</td>\n",
       "      <td>52.0</td>\n",
       "      <td>1627.0</td>\n",
       "      <td>280.0</td>\n",
       "      <td>565.0</td>\n",
       "      <td>259.0</td>\n",
       "      <td>3.8462</td>\n",
       "      <td>342200.0</td>\n",
       "      <td>NEAR BAY</td>\n",
       "    </tr>\n",
       "  </tbody>\n",
       "</table>\n",
       "</div>"
      ],
      "text/plain": [
       "   longitude  latitude  housing_median_age  total_rooms  total_bedrooms  \\\n",
       "0    -122.23     37.88                41.0        880.0           129.0   \n",
       "1    -122.22     37.86                21.0       7099.0          1106.0   \n",
       "2    -122.24     37.85                52.0       1467.0           190.0   \n",
       "3    -122.25     37.85                52.0       1274.0           235.0   \n",
       "4    -122.25     37.85                52.0       1627.0           280.0   \n",
       "\n",
       "   population  households  median_income  median_house_value ocean_proximity  \n",
       "0       322.0       126.0         8.3252            452600.0        NEAR BAY  \n",
       "1      2401.0      1138.0         8.3014            358500.0        NEAR BAY  \n",
       "2       496.0       177.0         7.2574            352100.0        NEAR BAY  \n",
       "3       558.0       219.0         5.6431            341300.0        NEAR BAY  \n",
       "4       565.0       259.0         3.8462            342200.0        NEAR BAY  "
      ]
     },
     "execution_count": 28,
     "metadata": {},
     "output_type": "execute_result"
    }
   ],
   "source": [
    "f = '../machine_learning/geron_housing/housing.csv'\n",
    "\n",
    "import pandas as pd\n",
    "data = pd.read_csv(f, header=0)\n",
    "data.head()"
   ]
  },
  {
   "cell_type": "code",
   "execution_count": 29,
   "metadata": {
    "collapsed": false
   },
   "outputs": [
    {
     "name": "stdout",
     "output_type": "stream",
     "text": [
      "<class 'pandas.core.frame.DataFrame'>\n",
      "RangeIndex: 20640 entries, 0 to 20639\n",
      "Data columns (total 10 columns):\n",
      "longitude             20640 non-null float64\n",
      "latitude              20640 non-null float64\n",
      "housing_median_age    20640 non-null float64\n",
      "total_rooms           20640 non-null float64\n",
      "total_bedrooms        20433 non-null float64\n",
      "population            20640 non-null float64\n",
      "households            20640 non-null float64\n",
      "median_income         20640 non-null float64\n",
      "median_house_value    20640 non-null float64\n",
      "ocean_proximity       20640 non-null object\n",
      "dtypes: float64(9), object(1)\n",
      "memory usage: 1.6+ MB\n"
     ]
    }
   ],
   "source": [
    "data.info()"
   ]
  },
  {
   "cell_type": "code",
   "execution_count": 30,
   "metadata": {
    "collapsed": false
   },
   "outputs": [],
   "source": [
    "housing_labels = data.median_house_value.copy()\n",
    "data.drop(['ocean_proximity', 'median_house_value'], axis=1, inplace=True)"
   ]
  },
  {
   "cell_type": "markdown",
   "metadata": {},
   "source": [
    "### An aside on concatenate and append"
   ]
  },
  {
   "cell_type": "code",
   "execution_count": 31,
   "metadata": {
    "collapsed": false
   },
   "outputs": [
    {
     "data": {
      "text/plain": [
       "array([[1, 2, 3],\n",
       "       [4, 5, 6],\n",
       "       [7, 8, 9]])"
      ]
     },
     "execution_count": 31,
     "metadata": {},
     "output_type": "execute_result"
    }
   ],
   "source": [
    "z = np.array([[1, 2, 3], [4, 5, 6], [7, 8, 9]])\n",
    "z"
   ]
  },
  {
   "cell_type": "code",
   "execution_count": 32,
   "metadata": {
    "collapsed": false
   },
   "outputs": [
    {
     "data": {
      "text/plain": [
       "array([[ 1,  2,  3, -9],\n",
       "       [ 4,  5,  6, -9],\n",
       "       [ 7,  8,  9, -9]])"
      ]
     },
     "execution_count": 32,
     "metadata": {},
     "output_type": "execute_result"
    }
   ],
   "source": [
    "np.c_[z, [[-9], [-9], [-9]]]"
   ]
  },
  {
   "cell_type": "code",
   "execution_count": 33,
   "metadata": {
    "collapsed": false
   },
   "outputs": [
    {
     "data": {
      "text/plain": [
       "array([[ 1,  2,  3, -9],\n",
       "       [ 4,  5,  6, -9],\n",
       "       [ 7,  8,  9, -9]])"
      ]
     },
     "execution_count": 33,
     "metadata": {},
     "output_type": "execute_result"
    }
   ],
   "source": [
    "np.c_[z, [-9, -9, -9]]"
   ]
  },
  {
   "cell_type": "code",
   "execution_count": 34,
   "metadata": {
    "collapsed": false
   },
   "outputs": [
    {
     "data": {
      "text/plain": [
       "array([[ 1,  2,  3, -9],\n",
       "       [ 4,  5,  6, -9],\n",
       "       [ 7,  8,  9, -9]])"
      ]
     },
     "execution_count": 34,
     "metadata": {},
     "output_type": "execute_result"
    }
   ],
   "source": [
    "np.concatenate([z, [[-9], [-9], [-9]]], axis=1)"
   ]
  },
  {
   "cell_type": "code",
   "execution_count": 35,
   "metadata": {
    "collapsed": false
   },
   "outputs": [
    {
     "data": {
      "text/plain": [
       "array([[ 1,  2,  3],\n",
       "       [ 4,  5,  6],\n",
       "       [ 7,  8,  9],\n",
       "       [-8, -8, -8]])"
      ]
     },
     "execution_count": 35,
     "metadata": {},
     "output_type": "execute_result"
    }
   ],
   "source": [
    "np.append(z, [[-8, -8, -8]], axis=0)"
   ]
  },
  {
   "cell_type": "code",
   "execution_count": 36,
   "metadata": {
    "collapsed": false
   },
   "outputs": [],
   "source": [
    "from sklearn.preprocessing import Imputer\n",
    "from sklearn.preprocessing import StandardScaler\n",
    "\n",
    "# impute missing data\n",
    "imp = Imputer(strategy='median')\n",
    "housing = imp.fit_transform(data)\n",
    "\n",
    "# standardize the features\n",
    "std_sc = StandardScaler()\n",
    "housing = std_sc.fit_transform(housing)\n",
    "\n",
    "# add bias term\n",
    "housing = np.c_[np.ones((housing.shape[0], 1)), housing]"
   ]
  },
  {
   "cell_type": "code",
   "execution_count": 37,
   "metadata": {
    "collapsed": false
   },
   "outputs": [
    {
     "data": {
      "text/plain": [
       "(20640, 9)"
      ]
     },
     "execution_count": 37,
     "metadata": {},
     "output_type": "execute_result"
    }
   ],
   "source": [
    "m, n = housing.shape\n",
    "m, n"
   ]
  },
  {
   "cell_type": "markdown",
   "metadata": {},
   "source": [
    "Begin to create the graph:"
   ]
  },
  {
   "cell_type": "code",
   "execution_count": 38,
   "metadata": {
    "collapsed": false
   },
   "outputs": [],
   "source": [
    "X = tf.constant(housing, name=\"X\", dtype=tf.float32)\n",
    "y = tf.constant(housing_labels.values.reshape(-1, 1), name=\"y\", dtype=tf.float32)\n",
    "XT = tf.transpose(X)\n",
    "theta = tf.matmul(tf.matmul(tf.matrix_inverse(tf.matmul(XT, X)), XT), y)"
   ]
  },
  {
   "cell_type": "code",
   "execution_count": 39,
   "metadata": {
    "collapsed": false
   },
   "outputs": [],
   "source": [
    "with tf.Session() as sess:\n",
    "     theta_value = theta.eval()"
   ]
  },
  {
   "cell_type": "code",
   "execution_count": 40,
   "metadata": {
    "collapsed": false
   },
   "outputs": [
    {
     "name": "stdout",
     "output_type": "stream",
     "text": [
      "[[ 206856.1875    ]\n",
      " [ -85369.03125   ]\n",
      " [ -90723.1796875 ]\n",
      " [  14403.26171875]\n",
      " [ -14444.0703125 ]\n",
      " [  34037.9453125 ]\n",
      " [ -45153.77734375]\n",
      " [  30319.48828125]\n",
      " [  75520.3125    ]]\n"
     ]
    }
   ],
   "source": [
    "print(theta_value)"
   ]
  },
  {
   "cell_type": "code",
   "execution_count": 41,
   "metadata": {
    "collapsed": false
   },
   "outputs": [
    {
     "name": "stdout",
     "output_type": "stream",
     "text": [
      "206855.816909 [-85369.22518    -90723.40175504  14403.20315262 -14443.94445799\n",
      "  34037.42560482 -45153.79498679  30319.8204304   75520.30834439]\n"
     ]
    }
   ],
   "source": [
    "from sklearn.linear_model import LinearRegression\n",
    "\n",
    "lin_reg = LinearRegression().fit(housing[:, 1:], housing_labels)\n",
    "print lin_reg.intercept_, lin_reg.coef_"
   ]
  },
  {
   "cell_type": "markdown",
   "metadata": {},
   "source": [
    "### Linear regression with tensorflow (the gradient descent)"
   ]
  },
  {
   "cell_type": "code",
   "execution_count": 48,
   "metadata": {
    "collapsed": true
   },
   "outputs": [],
   "source": [
    "tf.reset_default_graph()"
   ]
  },
  {
   "cell_type": "code",
   "execution_count": 49,
   "metadata": {
    "collapsed": true
   },
   "outputs": [],
   "source": [
    "epochs = 5000\n",
    "learning_rate = 0.01"
   ]
  },
  {
   "cell_type": "code",
   "execution_count": 50,
   "metadata": {
    "collapsed": false
   },
   "outputs": [],
   "source": [
    "X = tf.constant(housing, name=\"X\", dtype=tf.float32)\n",
    "y = tf.constant(housing_labels.values.reshape(-1, 1), name=\"y\", dtype=tf.float32)\n",
    "theta = tf.Variable(tf.random_uniform([n, 1], -1.0, 1.0), name='theta')\n",
    "y_pred = tf.matmul(X, theta, name='predictions')\n",
    "error = y_pred - y\n",
    "mse = tf.reduce_mean(tf.square(error), name='mse')\n",
    "gradients = (2.0 / m) * tf.matmul(tf.transpose(X), error)\n",
    "training_op = tf.assign(theta, theta - learning_rate * gradients)\n",
    "init = tf.global_variables_initializer()"
   ]
  },
  {
   "cell_type": "markdown",
   "metadata": {},
   "source": [
    "The graph is now complete. Now we start a session to execute the computation graph:"
   ]
  },
  {
   "cell_type": "code",
   "execution_count": 52,
   "metadata": {
    "collapsed": false
   },
   "outputs": [
    {
     "name": "stdout",
     "output_type": "stream",
     "text": [
      "('Epoch', 0, 'MSE=', 5.6104505e+10)\n",
      "('Epoch', 100, 'MSE=', 6.8155387e+09)\n",
      "('Epoch', 200, 'MSE=', 5.6269732e+09)\n",
      "('Epoch', 300, 'MSE=', 5.399807e+09)\n",
      "('Epoch', 400, 'MSE=', 5.2504458e+09)\n",
      "('Epoch', 500, 'MSE=', 5.143806e+09)\n",
      "('Epoch', 600, 'MSE=', 5.0669548e+09)\n",
      "('Epoch', 700, 'MSE=', 5.0112026e+09)\n",
      "('Epoch', 800, 'MSE=', 4.9705477e+09)\n",
      "('Epoch', 900, 'MSE=', 4.9407503e+09)\n",
      "('Epoch', 1000, 'MSE=', 4.9188019e+09)\n",
      "('Epoch', 1100, 'MSE=', 4.9025572e+09)\n",
      "('Epoch', 1200, 'MSE=', 4.8904909e+09)\n",
      "('Epoch', 1300, 'MSE=', 4.8814746e+09)\n",
      "('Epoch', 1400, 'MSE=', 4.8747167e+09)\n",
      "('Epoch', 1500, 'MSE=', 4.8696172e+09)\n",
      "('Epoch', 1600, 'MSE=', 4.8657556e+09)\n",
      "('Epoch', 1700, 'MSE=', 4.8628209e+09)\n",
      "('Epoch', 1800, 'MSE=', 4.8605691e+09)\n",
      "('Epoch', 1900, 'MSE=', 4.8588431e+09)\n",
      "('Epoch', 2000, 'MSE=', 4.8575007e+09)\n",
      "('Epoch', 2100, 'MSE=', 4.8564608e+09)\n",
      "('Epoch', 2200, 'MSE=', 4.8556508e+09)\n",
      "('Epoch', 2300, 'MSE=', 4.8550047e+09)\n",
      "('Epoch', 2400, 'MSE=', 4.8545024e+09)\n",
      "('Epoch', 2500, 'MSE=', 4.8540959e+09)\n",
      "('Epoch', 2600, 'MSE=', 4.8537733e+09)\n",
      "('Epoch', 2700, 'MSE=', 4.8535132e+09)\n",
      "('Epoch', 2800, 'MSE=', 4.8533074e+09)\n",
      "('Epoch', 2900, 'MSE=', 4.8531374e+09)\n",
      "('Epoch', 3000, 'MSE=', 4.8529992e+09)\n",
      "('Epoch', 3100, 'MSE=', 4.8528835e+09)\n",
      "('Epoch', 3200, 'MSE=', 4.8527933e+09)\n",
      "('Epoch', 3300, 'MSE=', 4.8527135e+09)\n",
      "('Epoch', 3400, 'MSE=', 4.8526546e+09)\n",
      "('Epoch', 3500, 'MSE=', 4.8525962e+09)\n",
      "('Epoch', 3600, 'MSE=', 4.8525507e+09)\n",
      "('Epoch', 3700, 'MSE=', 4.8525107e+09)\n",
      "('Epoch', 3800, 'MSE=', 4.8524739e+09)\n",
      "('Epoch', 3900, 'MSE=', 4.8524508e+09)\n",
      "('Epoch', 4000, 'MSE=', 4.8524252e+09)\n",
      "('Epoch', 4100, 'MSE=', 4.8524058e+09)\n",
      "('Epoch', 4200, 'MSE=', 4.8523965e+09)\n",
      "('Epoch', 4300, 'MSE=', 4.8523776e+09)\n",
      "('Epoch', 4400, 'MSE=', 4.8523638e+09)\n",
      "('Epoch', 4500, 'MSE=', 4.852353e+09)\n",
      "('Epoch', 4600, 'MSE=', 4.8523459e+09)\n",
      "('Epoch', 4700, 'MSE=', 4.852332e+09)\n",
      "('Epoch', 4800, 'MSE=', 4.8523315e+09)\n",
      "('Epoch', 4900, 'MSE=', 4.8523162e+09)\n"
     ]
    }
   ],
   "source": [
    "with tf.Session() as sess:\n",
    "     sess.run(init)\n",
    "     for epoch in range(epochs):\n",
    "          if (epoch % 500 == 0):\n",
    "               print('Epoch', epoch, \"MSE=\", mse.eval())\n",
    "          sess.run(training_op)\n",
    "     best_theta = theta.eval()"
   ]
  },
  {
   "cell_type": "code",
   "execution_count": 53,
   "metadata": {
    "collapsed": false
   },
   "outputs": [
    {
     "name": "stdout",
     "output_type": "stream",
     "text": [
      "[[ 206855.4375    ]\n",
      " [ -85015.7421875 ]\n",
      " [ -90382.6328125 ]\n",
      " [  14422.953125  ]\n",
      " [ -14494.73925781]\n",
      " [  33150.40234375]\n",
      " [ -45356.4296875 ]\n",
      " [  31449.90625   ]\n",
      " [  75547.515625  ]]\n"
     ]
    }
   ],
   "source": [
    "print(best_theta)"
   ]
  },
  {
   "cell_type": "markdown",
   "metadata": {},
   "source": [
    "### Using Autodiff"
   ]
  },
  {
   "cell_type": "markdown",
   "metadata": {},
   "source": [
    "Tensorflow offers several ways to compute gradients using autodiff:"
   ]
  },
  {
   "cell_type": "code",
   "execution_count": 54,
   "metadata": {
    "collapsed": true
   },
   "outputs": [],
   "source": [
    "tf.reset_default_graph()"
   ]
  },
  {
   "cell_type": "code",
   "execution_count": 55,
   "metadata": {
    "collapsed": true
   },
   "outputs": [],
   "source": [
    "X = tf.constant(housing, name=\"X\", dtype=tf.float32)\n",
    "y = tf.constant(housing_labels.values.reshape(-1, 1), name=\"y\", dtype=tf.float32)\n",
    "theta = tf.Variable(tf.random_uniform([n, 1], -1.0, 1.0), name='theta')\n",
    "y_pred = tf.matmul(X, theta, name='predictions')\n",
    "error = y_pred - y\n",
    "mse = tf.reduce_mean(tf.square(error), name='mse')\n",
    "gradients = tf.gradients(mse, [theta])[0] # reverse-mode autodiff\n",
    "training_op = tf.assign(theta, theta - learning_rate * gradients)\n",
    "init = tf.global_variables_initializer()"
   ]
  },
  {
   "cell_type": "code",
   "execution_count": 56,
   "metadata": {
    "collapsed": false
   },
   "outputs": [
    {
     "name": "stdout",
     "output_type": "stream",
     "text": [
      "('Epoch', 0, 'MSE=', 5.610487e+10)\n",
      "('Epoch', 500, 'MSE=', 5.1438024e+09)\n",
      "('Epoch', 1000, 'MSE=', 4.9188019e+09)\n",
      "('Epoch', 1500, 'MSE=', 4.8696166e+09)\n",
      "('Epoch', 2000, 'MSE=', 4.8575012e+09)\n",
      "('Epoch', 2500, 'MSE=', 4.8540954e+09)\n",
      "('Epoch', 3000, 'MSE=', 4.8529992e+09)\n",
      "('Epoch', 3500, 'MSE=', 4.8525962e+09)\n",
      "('Epoch', 4000, 'MSE=', 4.8524242e+09)\n",
      "('Epoch', 4500, 'MSE=', 4.852353e+09)\n"
     ]
    }
   ],
   "source": [
    "with tf.Session() as sess:\n",
    "     sess.run(init)\n",
    "     for epoch in range(epochs):\n",
    "          if (epoch % 500 == 0):\n",
    "               print('Epoch', epoch, \"MSE=\", mse.eval())\n",
    "          sess.run(training_op)\n",
    "     best_theta = theta.eval()"
   ]
  },
  {
   "cell_type": "markdown",
   "metadata": {},
   "source": [
    "### Using an optimizer"
   ]
  },
  {
   "cell_type": "code",
   "execution_count": 57,
   "metadata": {
    "collapsed": true
   },
   "outputs": [],
   "source": [
    "tf.reset_default_graph()"
   ]
  },
  {
   "cell_type": "code",
   "execution_count": 58,
   "metadata": {
    "collapsed": true
   },
   "outputs": [],
   "source": [
    "X = tf.constant(housing, name=\"X\", dtype=tf.float32)\n",
    "y = tf.constant(housing_labels.values.reshape(-1, 1), name=\"y\", dtype=tf.float32)\n",
    "theta = tf.Variable(tf.random_uniform([n, 1], -1.0, 1.0), name='theta')\n",
    "y_pred = tf.matmul(X, theta, name='predictions')\n",
    "error = y_pred - y\n",
    "mse = tf.reduce_mean(tf.square(error), name='mse')\n",
    "optimizer = tf.train.GradientDescentOptimizer(learning_rate=learning_rate) # define optimizer\n",
    "training_op = optimizer.minimize(mse) # tell it what to minimize\n",
    "init = tf.global_variables_initializer()"
   ]
  },
  {
   "cell_type": "code",
   "execution_count": 59,
   "metadata": {
    "collapsed": false
   },
   "outputs": [
    {
     "name": "stdout",
     "output_type": "stream",
     "text": [
      "('Epoch', 0, 'MSE=', 5.6104636e+10)\n",
      "('Epoch', 500, 'MSE=', 5.1438008e+09)\n",
      "('Epoch', 1000, 'MSE=', 4.9188014e+09)\n",
      "('Epoch', 1500, 'MSE=', 4.8696161e+09)\n",
      "('Epoch', 2000, 'MSE=', 4.8575017e+09)\n",
      "('Epoch', 2500, 'MSE=', 4.8540948e+09)\n",
      "('Epoch', 3000, 'MSE=', 4.8529997e+09)\n",
      "('Epoch', 3500, 'MSE=', 4.8525962e+09)\n",
      "('Epoch', 4000, 'MSE=', 4.8524242e+09)\n",
      "('Epoch', 4500, 'MSE=', 4.852353e+09)\n"
     ]
    }
   ],
   "source": [
    "with tf.Session() as sess:\n",
    "     sess.run(init)\n",
    "     for epoch in range(epochs):\n",
    "          if (epoch % 500 == 0):\n",
    "               print('Epoch', epoch, \"MSE=\", mse.eval())\n",
    "          sess.run(training_op)\n",
    "     best_theta = theta.eval()"
   ]
  },
  {
   "cell_type": "markdown",
   "metadata": {},
   "source": [
    "### Implementing Newton-Raphson in TF"
   ]
  },
  {
   "cell_type": "code",
   "execution_count": 68,
   "metadata": {
    "collapsed": true
   },
   "outputs": [],
   "source": [
    "tf.reset_default_graph()"
   ]
  },
  {
   "cell_type": "code",
   "execution_count": 69,
   "metadata": {
    "collapsed": true
   },
   "outputs": [],
   "source": [
    "x = tf.Variable(2.0, name=\"x\")\n",
    "training_op = tf.assign(x, x - (x * x - 3.0) / (2.0 * x))"
   ]
  },
  {
   "cell_type": "code",
   "execution_count": 72,
   "metadata": {
    "collapsed": false
   },
   "outputs": [
    {
     "name": "stdout",
     "output_type": "stream",
     "text": [
      "1.73205 0.999999982052\n"
     ]
    }
   ],
   "source": [
    "with tf.Session() as sess:\n",
    "     x.initializer.run()\n",
    "     for i in range(10):\n",
    "          sess.run(training_op)\n",
    "     root = x.eval()\n",
    "print root, root / 3**0.5"
   ]
  },
  {
   "cell_type": "markdown",
   "metadata": {},
   "source": [
    "### Working with placeholders"
   ]
  },
  {
   "cell_type": "code",
   "execution_count": 60,
   "metadata": {
    "collapsed": true
   },
   "outputs": [],
   "source": [
    "tf.reset_default_graph()"
   ]
  },
  {
   "cell_type": "code",
   "execution_count": 61,
   "metadata": {
    "collapsed": false
   },
   "outputs": [
    {
     "name": "stdout",
     "output_type": "stream",
     "text": [
      "[[ 6.  7.  8.]]\n",
      "[[  6.   7.   8.]\n",
      " [  9.  10.  11.]]\n"
     ]
    }
   ],
   "source": [
    "A = tf.placeholder(tf.float32, shape=(None, 3))\n",
    "B = A + 5\n",
    "with tf.Session() as sess:\n",
    "     B_val_1 = B.eval(feed_dict={A:[[1, 2, 3]]})\n",
    "     B_val_2 = B.eval(feed_dict={A:[[1, 2, 3], [4, 5, 6]]})\n",
    "print(B_val_1)\n",
    "print(B_val_2)"
   ]
  },
  {
   "cell_type": "markdown",
   "metadata": {},
   "source": [
    "An exception will be thrown if you don't specify a value for a placeholder at run time. With a placeholder node you can implement mini-batch optimization."
   ]
  }
 ],
 "metadata": {
  "anaconda-cloud": {},
  "kernelspec": {
   "display_name": "Python [conda root]",
   "language": "python",
   "name": "conda-root-py"
  },
  "language_info": {
   "codemirror_mode": {
    "name": "ipython",
    "version": 2
   },
   "file_extension": ".py",
   "mimetype": "text/x-python",
   "name": "python",
   "nbconvert_exporter": "python",
   "pygments_lexer": "ipython2",
   "version": "2.7.12"
  }
 },
 "nbformat": 4,
 "nbformat_minor": 1
}
