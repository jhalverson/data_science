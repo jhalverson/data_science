{
 "cells": [
  {
   "cell_type": "markdown",
   "metadata": {},
   "source": [
    "# Jonathan Halverson\n",
    "# Wednesday, January 17, 2018\n",
    "# Melville versus Austen"
   ]
  },
  {
   "cell_type": "markdown",
   "metadata": {},
   "source": [
    "Here we train an RNN to classify sentences as written by either Melville or Jane Austen."
   ]
  },
  {
   "cell_type": "code",
   "execution_count": 1,
   "metadata": {
    "collapsed": true
   },
   "outputs": [],
   "source": [
    "import nltk\n",
    "import numpy as np\n",
    "import tensorflow as tf\n",
    "import matplotlib.pyplot as plt\n",
    "%matplotlib inline\n",
    "plt.style.use('halverson')"
   ]
  },
  {
   "cell_type": "code",
   "execution_count": 2,
   "metadata": {
    "collapsed": true
   },
   "outputs": [],
   "source": [
    "import re\n",
    "from collections import Counter\n",
    "from nltk.corpus import stopwords\n",
    "from nltk.stem.porter import PorterStemmer"
   ]
  },
  {
   "cell_type": "markdown",
   "metadata": {},
   "source": [
    "### Load the two books"
   ]
  },
  {
   "cell_type": "code",
   "execution_count": 3,
   "metadata": {
    "collapsed": false
   },
   "outputs": [],
   "source": [
    "melville_raw = list(nltk.corpus.gutenberg.words('melville-moby_dick.txt'))\n",
    "austen_raw = list(nltk.corpus.gutenberg.words('austen-sense.txt'))"
   ]
  },
  {
   "cell_type": "code",
   "execution_count": 4,
   "metadata": {
    "collapsed": false
   },
   "outputs": [],
   "source": [
    "melville = melville_raw[melville_raw.index('Loomings'):]\n",
    "austen = austen_raw[austen_raw.index('The'):]"
   ]
  },
  {
   "cell_type": "code",
   "execution_count": 5,
   "metadata": {
    "collapsed": false
   },
   "outputs": [],
   "source": [
    "def make_sentences(x):\n",
    "     j = ' '.join(x).replace('Mr .', 'Mr').replace('Mrs .', 'Mrs')\n",
    "     j = j.replace('Ms .', 'Ms').replace('Dr .', 'Dr')\n",
    "     j = j.replace('?', '.').replace('!', '.').replace('CHAPTER', ' ')\n",
    "     sentences = j.split('.')\n",
    "     s = [re.sub(\"[^a-zA-Z]\", \" \", sentence) for sentence in sentences]\n",
    "     s = [sentence.lower().split() for sentence in s]\n",
    "     return s"
   ]
  },
  {
   "cell_type": "code",
   "execution_count": 6,
   "metadata": {
    "collapsed": true
   },
   "outputs": [],
   "source": [
    "def remove_single_letters_except_ia(sentences):\n",
    "     new_sentences = []\n",
    "     for sentence in sentences:\n",
    "          cleaned_sentence = []\n",
    "          for word in sentence:\n",
    "               if len(word) > 1:\n",
    "                    cleaned_sentence.append(word)\n",
    "               else:\n",
    "                    if word in ['a', 'i']:\n",
    "                         cleaned_sentence.append(word)\n",
    "          new_sentences.append(cleaned_sentence)\n",
    "     return new_sentences"
   ]
  },
  {
   "cell_type": "code",
   "execution_count": 7,
   "metadata": {
    "collapsed": true
   },
   "outputs": [],
   "source": [
    "def remove_short_and_long_sentences(sentences, low, high):\n",
    "     new_sentences = []\n",
    "     for sentence in sentences:\n",
    "          if (len(sentence) >= low and len(sentence) <= high):\n",
    "               new_sentences.append(sentence)\n",
    "     return new_sentences"
   ]
  },
  {
   "cell_type": "code",
   "execution_count": 8,
   "metadata": {
    "collapsed": true
   },
   "outputs": [],
   "source": [
    "def replace_word_with_index_and_zero_pad(sentences, dictionary, high):\n",
    "     number_sentences = []\n",
    "     for sentence in sentences:\n",
    "          # how to handle words not in vocabulary\n",
    "          number_sentence = [dictionary[word] for word in sentence]\n",
    "          for _ in range(high - len(number_sentence)):\n",
    "               number_sentence.append(6311)\n",
    "          number_sentences.append(number_sentence)\n",
    "     return number_sentences"
   ]
  },
  {
   "cell_type": "code",
   "execution_count": 9,
   "metadata": {
    "collapsed": true
   },
   "outputs": [],
   "source": [
    "s1 = remove_single_letters_except_ia(make_sentences(melville))\n",
    "s2 = remove_single_letters_except_ia(make_sentences(austen))"
   ]
  },
  {
   "cell_type": "code",
   "execution_count": 10,
   "metadata": {
    "collapsed": false
   },
   "outputs": [],
   "source": [
    "s1 = remove_short_and_long_sentences(s1, 5, 15)\n",
    "s2 = remove_short_and_long_sentences(s2, 5, 15)"
   ]
  },
  {
   "cell_type": "code",
   "execution_count": 11,
   "metadata": {
    "collapsed": false
   },
   "outputs": [],
   "source": [
    "seq_length = np.array([len(sentence) for sentence in s1] + [len(sentence) for sentence in s2])\n",
    "target = np.append(np.zeros(len(s2)), np.ones(len(s1))).astype(np.int)"
   ]
  },
  {
   "cell_type": "code",
   "execution_count": 12,
   "metadata": {
    "collapsed": false
   },
   "outputs": [],
   "source": [
    "all_words = [word for sentence in s1 for word in sentence] + \\\n",
    "            [word for sentence in s2 for word in sentence]"
   ]
  },
  {
   "cell_type": "code",
   "execution_count": 13,
   "metadata": {
    "collapsed": false
   },
   "outputs": [
    {
     "data": {
      "text/plain": [
       "46517"
      ]
     },
     "execution_count": 13,
     "metadata": {},
     "output_type": "execute_result"
    }
   ],
   "source": [
    "len(all_words)"
   ]
  },
  {
   "cell_type": "code",
   "execution_count": 14,
   "metadata": {
    "collapsed": false
   },
   "outputs": [
    {
     "data": {
      "text/plain": [
       "6311"
      ]
     },
     "execution_count": 14,
     "metadata": {},
     "output_type": "execute_result"
    }
   ],
   "source": [
    "unique_words = set(all_words)\n",
    "vocabulary_size = len(unique_words)\n",
    "vocabulary_size"
   ]
  },
  {
   "cell_type": "code",
   "execution_count": 15,
   "metadata": {
    "collapsed": true
   },
   "outputs": [],
   "source": [
    "dictionary = dict([(word, index) for index, word in enumerate(unique_words)])\n",
    "dictionary['UNK'] = 6311"
   ]
  },
  {
   "cell_type": "code",
   "execution_count": 16,
   "metadata": {
    "collapsed": false
   },
   "outputs": [],
   "source": [
    "all_sentences = replace_word_with_index_and_zero_pad(s1, dictionary, high=15) + \\\n",
    "                replace_word_with_index_and_zero_pad(s2, dictionary, high=15)\n",
    "all_sentences = np.array(all_sentences)"
   ]
  },
  {
   "cell_type": "code",
   "execution_count": 17,
   "metadata": {
    "collapsed": false
   },
   "outputs": [],
   "source": [
    "idx = np.arange(target.size)\n",
    "np.random.shuffle(idx)\n",
    "all_sentences = all_sentences[idx]\n",
    "target = target[idx]\n",
    "seq_length = seq_length[idx]"
   ]
  },
  {
   "cell_type": "code",
   "execution_count": 18,
   "metadata": {
    "collapsed": true
   },
   "outputs": [],
   "source": [
    "test_size = 0.2\n",
    "idx_cut = int((1.0 - test_size) * target.size)\n",
    "X_training = all_sentences[idx_cut:]\n",
    "X_test = all_sentences[:idx_cut]\n",
    "y_training = target[idx_cut:]\n",
    "y_test = target[:idx_cut]\n",
    "L_training = seq_length[idx_cut:]\n",
    "L_test = seq_length[:idx_cut]"
   ]
  },
  {
   "cell_type": "code",
   "execution_count": 19,
   "metadata": {
    "collapsed": false
   },
   "outputs": [
    {
     "data": {
      "text/plain": [
       "array([[4342, 3007, 4844, 1671, 6202,  764, 5775, 3403, 5771, 1589, 3007,\n",
       "        4844, 5303, 4400, 6311],\n",
       "       [ 228, 1816, 6191, 3441, 1038, 2138,  130, 6311, 6311, 6311, 6311,\n",
       "        6311, 6311, 6311, 6311],\n",
       "       [5296, 1916, 6138, 6138, 3361,  753, 1145, 4832, 4851, 5201, 6311,\n",
       "        6311, 6311, 6311, 6311]])"
      ]
     },
     "execution_count": 19,
     "metadata": {},
     "output_type": "execute_result"
    }
   ],
   "source": [
    "X_training[:3]"
   ]
  },
  {
   "cell_type": "code",
   "execution_count": 20,
   "metadata": {
    "collapsed": true
   },
   "outputs": [],
   "source": [
    "def fetch_batch(A, b, c, batch_size):\n",
    "     idx = np.random.choice(np.arange(y_training.size), size=batch_size, replace=False)\n",
    "     return A[idx], b[idx], c[idx]"
   ]
  },
  {
   "cell_type": "code",
   "execution_count": 21,
   "metadata": {
    "collapsed": true
   },
   "outputs": [],
   "source": [
    "tf.reset_default_graph()"
   ]
  },
  {
   "cell_type": "code",
   "execution_count": 22,
   "metadata": {
    "collapsed": true
   },
   "outputs": [],
   "source": [
    "embedding_size = 64\n",
    "n_inputs = embedding_size\n",
    "n_steps = 15\n",
    "n_neurons = 75"
   ]
  },
  {
   "cell_type": "code",
   "execution_count": 23,
   "metadata": {
    "collapsed": false
   },
   "outputs": [],
   "source": [
    "X = tf.placeholder(tf.int32, shape=(None, n_steps))\n",
    "y = tf.placeholder(tf.int32, shape=(None))\n",
    "L = tf.placeholder(dtype=tf.int32, shape=(None))"
   ]
  },
  {
   "cell_type": "code",
   "execution_count": 24,
   "metadata": {
    "collapsed": true
   },
   "outputs": [],
   "source": [
    "embeddings = tf.Variable(tf.random_uniform([vocabulary_size+1, embedding_size], -1.0, 1.0), trainable=False)"
   ]
  },
  {
   "cell_type": "code",
   "execution_count": 25,
   "metadata": {
    "collapsed": true
   },
   "outputs": [],
   "source": [
    "embed = tf.nn.embedding_lookup(params=embeddings, ids=X)"
   ]
  },
  {
   "cell_type": "code",
   "execution_count": 26,
   "metadata": {
    "collapsed": true
   },
   "outputs": [],
   "source": [
    "cell = tf.contrib.rnn.GRUCell(num_units=n_neurons)\n",
    "outputs, states = tf.nn.dynamic_rnn(cell, embed, dtype=tf.float32, sequence_length=L)\n",
    "logits = tf.layers.dense(states, units=1, activation=None)\n",
    "y_proba = tf.nn.sigmoid(logits)"
   ]
  },
  {
   "cell_type": "code",
   "execution_count": 27,
   "metadata": {
    "collapsed": true
   },
   "outputs": [],
   "source": [
    "y_reshaped = tf.reshape(y, shape=(-1, 1))\n",
    "xentropy = tf.nn.sigmoid_cross_entropy_with_logits(labels=tf.cast(y_reshaped, tf.float32), logits=logits)\n",
    "loss = tf.reduce_mean(xentropy)"
   ]
  },
  {
   "cell_type": "code",
   "execution_count": 28,
   "metadata": {
    "collapsed": false
   },
   "outputs": [],
   "source": [
    "optimizer = tf.train.AdamOptimizer(learning_rate=0.01)\n",
    "training_op = optimizer.minimize(loss)"
   ]
  },
  {
   "cell_type": "code",
   "execution_count": 29,
   "metadata": {
    "collapsed": true
   },
   "outputs": [],
   "source": [
    "y_pred = tf.cast(logits > 0.0, tf.int32)\n",
    "accuracy = tf.reduce_mean(tf.cast(tf.equal(y_reshaped, y_pred), tf.float32))"
   ]
  },
  {
   "cell_type": "code",
   "execution_count": 30,
   "metadata": {
    "collapsed": false
   },
   "outputs": [],
   "source": [
    "init = tf.global_variables_initializer()"
   ]
  },
  {
   "cell_type": "code",
   "execution_count": 31,
   "metadata": {
    "collapsed": true
   },
   "outputs": [],
   "source": [
    "batch_size = 75\n",
    "epochs = 100"
   ]
  },
  {
   "cell_type": "code",
   "execution_count": 32,
   "metadata": {
    "collapsed": false
   },
   "outputs": [
    {
     "name": "stdout",
     "output_type": "stream",
     "text": [
      "0 0.662811 0.61619\n",
      "5 1.17589 0.627171\n",
      "10 1.79255 0.631767\n",
      "15 2.29416 0.633299\n",
      "20 2.4663 0.632533\n",
      "25 2.57224 0.631767\n",
      "30 2.66237 0.633555\n",
      "35 2.74168 0.632278\n",
      "40 2.80693 0.631767\n",
      "45 2.86326 0.630235\n",
      "50 2.9137 0.629724\n",
      "55 2.96342 0.628447\n",
      "60 3.00783 0.628192\n",
      "65 3.05466 0.62666\n",
      "70 3.08883 0.62666\n",
      "75 3.12692 0.62666\n",
      "80 3.15938 0.627681\n",
      "85 3.19075 0.628447\n",
      "90 3.22458 0.628192\n",
      "95 3.25563 0.627681\n"
     ]
    }
   ],
   "source": [
    "with tf.Session() as sess:\n",
    "     init.run()\n",
    "     for epoch in xrange(epochs):\n",
    "          for iteration in xrange(y_training.size // batch_size):\n",
    "               X_batch, y_batch, L_batch = fetch_batch(X_training, y_training, L_training, batch_size)\n",
    "               sess.run(training_op, feed_dict={X:X_batch, y:y_batch, L:L_batch})\n",
    "          if epoch % 5 == 0:\n",
    "               J = loss.eval(feed_dict={X:X_test, y:y_test, L:L_test})\n",
    "               acc = accuracy.eval(feed_dict={X:X_test, y:y_test, L:L_test})\n",
    "               print epoch, J, acc\n",
    "     Lu = embed.eval(feed_dict={X:[[123, 19, 0, 0, 0, 0, 0, 0, 0, 0, 0, 0, 0, 0, 0]]})"
   ]
  },
  {
   "cell_type": "code",
   "execution_count": 33,
   "metadata": {
    "collapsed": false
   },
   "outputs": [
    {
     "data": {
      "text/plain": [
       "(1, 15, 64)"
      ]
     },
     "execution_count": 33,
     "metadata": {},
     "output_type": "execute_result"
    }
   ],
   "source": [
    "Lu.shape"
   ]
  },
  {
   "cell_type": "code",
   "execution_count": 34,
   "metadata": {
    "collapsed": false
   },
   "outputs": [
    {
     "data": {
      "text/plain": [
       "array([[-0.02775908,  0.29109645,  0.91255116,  0.7115109 ,  0.65152168,\n",
       "         0.07488012,  0.08151841,  0.98675632,  0.68231773, -0.33854389,\n",
       "        -0.5219202 ,  0.97048092,  0.03694224, -0.39062023,  0.8427918 ,\n",
       "        -0.92966485,  0.32885909, -0.13017726, -0.18814492,  0.03984714,\n",
       "        -0.23912024, -0.65398192, -0.79693699,  0.91067529, -0.85411906,\n",
       "        -0.34985018, -0.50667191,  0.14627624,  0.01683545,  0.87692904,\n",
       "         0.25295019, -0.56621623,  0.23305345, -0.97114682,  0.16731238,\n",
       "         0.2812736 ,  0.36082029,  0.47126794, -0.70702434,  0.58425045,\n",
       "        -0.06201434,  0.46570754, -0.52647257,  0.0876224 , -0.84057474,\n",
       "         0.6703577 , -0.26879883, -0.75048065, -0.73296309, -0.65019655,\n",
       "         0.59756827,  0.82586837, -0.32293487, -0.13865614,  0.11608887,\n",
       "         0.07847476, -0.01987076,  0.11737585, -0.92109537, -0.38474751,\n",
       "        -0.36645174, -0.44975066,  0.87866354,  0.03913093],\n",
       "       [-0.59564805,  0.3346982 ,  0.31214857, -0.32719088,  0.10289788,\n",
       "        -0.62777114,  0.42219567,  0.17252684, -0.74410462, -0.1857996 ,\n",
       "        -0.46276093,  0.19343686,  0.31189704,  0.12372613,  0.15756869,\n",
       "        -0.35163927, -0.14345312,  0.59603262, -0.07824302, -0.65588117,\n",
       "        -0.86112261,  0.45174575, -0.9433043 ,  0.19182158, -0.77293086,\n",
       "         0.59482074,  0.54153442,  0.26863813,  0.81298614,  0.86240029,\n",
       "        -0.06562567,  0.10501218, -0.82078123,  0.73776221,  0.68369699,\n",
       "         0.90185881,  0.93910074, -0.22887874,  0.10422826,  0.73022628,\n",
       "         0.05904078,  0.99773312,  0.70050669,  0.71562362,  0.03582644,\n",
       "         0.72786856,  0.16167498, -0.03937268, -0.85659814, -0.89947462,\n",
       "         0.63963723, -0.75862622,  0.2129941 , -0.68119192, -0.2194469 ,\n",
       "        -0.08617401,  0.05294251, -0.18010616, -0.02286577,  0.50768304,\n",
       "         0.58734632,  0.25563025, -0.37127733,  0.5308845 ],\n",
       "       [ 0.84873796,  0.34713149, -0.03224993, -0.82477975, -0.64212251,\n",
       "        -0.40993857, -0.75490904, -0.44284654, -0.23551345, -0.4370122 ,\n",
       "        -0.26026773,  0.43800735,  0.0162735 , -0.56473541,  0.79375291,\n",
       "         0.35226059, -0.82467651,  0.59101915, -0.66175294,  0.01146674,\n",
       "         0.49860191, -0.03002381,  0.63433433, -0.54716682,  0.60384107,\n",
       "        -0.81729054,  0.62222028, -0.22684431, -0.09802675, -0.57595825,\n",
       "         0.32859015, -0.71744967,  0.67071795,  0.23247743, -0.62558341,\n",
       "        -0.84269571,  0.06131315,  0.28083396,  0.13455892, -0.92648125,\n",
       "        -0.58810329, -0.68289757,  0.3672843 ,  0.11619735,  0.13432574,\n",
       "        -0.49865007,  0.95092034,  0.74361491, -0.65392494,  0.26011348,\n",
       "        -0.14947319,  0.42144704,  0.85170412, -0.2263813 , -0.60529566,\n",
       "        -0.87268782, -0.27919364, -0.92804289,  0.18062997, -0.54877114,\n",
       "        -0.69049692,  0.87434053,  0.5753758 ,  0.98288321],\n",
       "       [ 0.84873796,  0.34713149, -0.03224993, -0.82477975, -0.64212251,\n",
       "        -0.40993857, -0.75490904, -0.44284654, -0.23551345, -0.4370122 ,\n",
       "        -0.26026773,  0.43800735,  0.0162735 , -0.56473541,  0.79375291,\n",
       "         0.35226059, -0.82467651,  0.59101915, -0.66175294,  0.01146674,\n",
       "         0.49860191, -0.03002381,  0.63433433, -0.54716682,  0.60384107,\n",
       "        -0.81729054,  0.62222028, -0.22684431, -0.09802675, -0.57595825,\n",
       "         0.32859015, -0.71744967,  0.67071795,  0.23247743, -0.62558341,\n",
       "        -0.84269571,  0.06131315,  0.28083396,  0.13455892, -0.92648125,\n",
       "        -0.58810329, -0.68289757,  0.3672843 ,  0.11619735,  0.13432574,\n",
       "        -0.49865007,  0.95092034,  0.74361491, -0.65392494,  0.26011348,\n",
       "        -0.14947319,  0.42144704,  0.85170412, -0.2263813 , -0.60529566,\n",
       "        -0.87268782, -0.27919364, -0.92804289,  0.18062997, -0.54877114,\n",
       "        -0.69049692,  0.87434053,  0.5753758 ,  0.98288321],\n",
       "       [ 0.84873796,  0.34713149, -0.03224993, -0.82477975, -0.64212251,\n",
       "        -0.40993857, -0.75490904, -0.44284654, -0.23551345, -0.4370122 ,\n",
       "        -0.26026773,  0.43800735,  0.0162735 , -0.56473541,  0.79375291,\n",
       "         0.35226059, -0.82467651,  0.59101915, -0.66175294,  0.01146674,\n",
       "         0.49860191, -0.03002381,  0.63433433, -0.54716682,  0.60384107,\n",
       "        -0.81729054,  0.62222028, -0.22684431, -0.09802675, -0.57595825,\n",
       "         0.32859015, -0.71744967,  0.67071795,  0.23247743, -0.62558341,\n",
       "        -0.84269571,  0.06131315,  0.28083396,  0.13455892, -0.92648125,\n",
       "        -0.58810329, -0.68289757,  0.3672843 ,  0.11619735,  0.13432574,\n",
       "        -0.49865007,  0.95092034,  0.74361491, -0.65392494,  0.26011348,\n",
       "        -0.14947319,  0.42144704,  0.85170412, -0.2263813 , -0.60529566,\n",
       "        -0.87268782, -0.27919364, -0.92804289,  0.18062997, -0.54877114,\n",
       "        -0.69049692,  0.87434053,  0.5753758 ,  0.98288321],\n",
       "       [ 0.84873796,  0.34713149, -0.03224993, -0.82477975, -0.64212251,\n",
       "        -0.40993857, -0.75490904, -0.44284654, -0.23551345, -0.4370122 ,\n",
       "        -0.26026773,  0.43800735,  0.0162735 , -0.56473541,  0.79375291,\n",
       "         0.35226059, -0.82467651,  0.59101915, -0.66175294,  0.01146674,\n",
       "         0.49860191, -0.03002381,  0.63433433, -0.54716682,  0.60384107,\n",
       "        -0.81729054,  0.62222028, -0.22684431, -0.09802675, -0.57595825,\n",
       "         0.32859015, -0.71744967,  0.67071795,  0.23247743, -0.62558341,\n",
       "        -0.84269571,  0.06131315,  0.28083396,  0.13455892, -0.92648125,\n",
       "        -0.58810329, -0.68289757,  0.3672843 ,  0.11619735,  0.13432574,\n",
       "        -0.49865007,  0.95092034,  0.74361491, -0.65392494,  0.26011348,\n",
       "        -0.14947319,  0.42144704,  0.85170412, -0.2263813 , -0.60529566,\n",
       "        -0.87268782, -0.27919364, -0.92804289,  0.18062997, -0.54877114,\n",
       "        -0.69049692,  0.87434053,  0.5753758 ,  0.98288321],\n",
       "       [ 0.84873796,  0.34713149, -0.03224993, -0.82477975, -0.64212251,\n",
       "        -0.40993857, -0.75490904, -0.44284654, -0.23551345, -0.4370122 ,\n",
       "        -0.26026773,  0.43800735,  0.0162735 , -0.56473541,  0.79375291,\n",
       "         0.35226059, -0.82467651,  0.59101915, -0.66175294,  0.01146674,\n",
       "         0.49860191, -0.03002381,  0.63433433, -0.54716682,  0.60384107,\n",
       "        -0.81729054,  0.62222028, -0.22684431, -0.09802675, -0.57595825,\n",
       "         0.32859015, -0.71744967,  0.67071795,  0.23247743, -0.62558341,\n",
       "        -0.84269571,  0.06131315,  0.28083396,  0.13455892, -0.92648125,\n",
       "        -0.58810329, -0.68289757,  0.3672843 ,  0.11619735,  0.13432574,\n",
       "        -0.49865007,  0.95092034,  0.74361491, -0.65392494,  0.26011348,\n",
       "        -0.14947319,  0.42144704,  0.85170412, -0.2263813 , -0.60529566,\n",
       "        -0.87268782, -0.27919364, -0.92804289,  0.18062997, -0.54877114,\n",
       "        -0.69049692,  0.87434053,  0.5753758 ,  0.98288321],\n",
       "       [ 0.84873796,  0.34713149, -0.03224993, -0.82477975, -0.64212251,\n",
       "        -0.40993857, -0.75490904, -0.44284654, -0.23551345, -0.4370122 ,\n",
       "        -0.26026773,  0.43800735,  0.0162735 , -0.56473541,  0.79375291,\n",
       "         0.35226059, -0.82467651,  0.59101915, -0.66175294,  0.01146674,\n",
       "         0.49860191, -0.03002381,  0.63433433, -0.54716682,  0.60384107,\n",
       "        -0.81729054,  0.62222028, -0.22684431, -0.09802675, -0.57595825,\n",
       "         0.32859015, -0.71744967,  0.67071795,  0.23247743, -0.62558341,\n",
       "        -0.84269571,  0.06131315,  0.28083396,  0.13455892, -0.92648125,\n",
       "        -0.58810329, -0.68289757,  0.3672843 ,  0.11619735,  0.13432574,\n",
       "        -0.49865007,  0.95092034,  0.74361491, -0.65392494,  0.26011348,\n",
       "        -0.14947319,  0.42144704,  0.85170412, -0.2263813 , -0.60529566,\n",
       "        -0.87268782, -0.27919364, -0.92804289,  0.18062997, -0.54877114,\n",
       "        -0.69049692,  0.87434053,  0.5753758 ,  0.98288321],\n",
       "       [ 0.84873796,  0.34713149, -0.03224993, -0.82477975, -0.64212251,\n",
       "        -0.40993857, -0.75490904, -0.44284654, -0.23551345, -0.4370122 ,\n",
       "        -0.26026773,  0.43800735,  0.0162735 , -0.56473541,  0.79375291,\n",
       "         0.35226059, -0.82467651,  0.59101915, -0.66175294,  0.01146674,\n",
       "         0.49860191, -0.03002381,  0.63433433, -0.54716682,  0.60384107,\n",
       "        -0.81729054,  0.62222028, -0.22684431, -0.09802675, -0.57595825,\n",
       "         0.32859015, -0.71744967,  0.67071795,  0.23247743, -0.62558341,\n",
       "        -0.84269571,  0.06131315,  0.28083396,  0.13455892, -0.92648125,\n",
       "        -0.58810329, -0.68289757,  0.3672843 ,  0.11619735,  0.13432574,\n",
       "        -0.49865007,  0.95092034,  0.74361491, -0.65392494,  0.26011348,\n",
       "        -0.14947319,  0.42144704,  0.85170412, -0.2263813 , -0.60529566,\n",
       "        -0.87268782, -0.27919364, -0.92804289,  0.18062997, -0.54877114,\n",
       "        -0.69049692,  0.87434053,  0.5753758 ,  0.98288321],\n",
       "       [ 0.84873796,  0.34713149, -0.03224993, -0.82477975, -0.64212251,\n",
       "        -0.40993857, -0.75490904, -0.44284654, -0.23551345, -0.4370122 ,\n",
       "        -0.26026773,  0.43800735,  0.0162735 , -0.56473541,  0.79375291,\n",
       "         0.35226059, -0.82467651,  0.59101915, -0.66175294,  0.01146674,\n",
       "         0.49860191, -0.03002381,  0.63433433, -0.54716682,  0.60384107,\n",
       "        -0.81729054,  0.62222028, -0.22684431, -0.09802675, -0.57595825,\n",
       "         0.32859015, -0.71744967,  0.67071795,  0.23247743, -0.62558341,\n",
       "        -0.84269571,  0.06131315,  0.28083396,  0.13455892, -0.92648125,\n",
       "        -0.58810329, -0.68289757,  0.3672843 ,  0.11619735,  0.13432574,\n",
       "        -0.49865007,  0.95092034,  0.74361491, -0.65392494,  0.26011348,\n",
       "        -0.14947319,  0.42144704,  0.85170412, -0.2263813 , -0.60529566,\n",
       "        -0.87268782, -0.27919364, -0.92804289,  0.18062997, -0.54877114,\n",
       "        -0.69049692,  0.87434053,  0.5753758 ,  0.98288321],\n",
       "       [ 0.84873796,  0.34713149, -0.03224993, -0.82477975, -0.64212251,\n",
       "        -0.40993857, -0.75490904, -0.44284654, -0.23551345, -0.4370122 ,\n",
       "        -0.26026773,  0.43800735,  0.0162735 , -0.56473541,  0.79375291,\n",
       "         0.35226059, -0.82467651,  0.59101915, -0.66175294,  0.01146674,\n",
       "         0.49860191, -0.03002381,  0.63433433, -0.54716682,  0.60384107,\n",
       "        -0.81729054,  0.62222028, -0.22684431, -0.09802675, -0.57595825,\n",
       "         0.32859015, -0.71744967,  0.67071795,  0.23247743, -0.62558341,\n",
       "        -0.84269571,  0.06131315,  0.28083396,  0.13455892, -0.92648125,\n",
       "        -0.58810329, -0.68289757,  0.3672843 ,  0.11619735,  0.13432574,\n",
       "        -0.49865007,  0.95092034,  0.74361491, -0.65392494,  0.26011348,\n",
       "        -0.14947319,  0.42144704,  0.85170412, -0.2263813 , -0.60529566,\n",
       "        -0.87268782, -0.27919364, -0.92804289,  0.18062997, -0.54877114,\n",
       "        -0.69049692,  0.87434053,  0.5753758 ,  0.98288321],\n",
       "       [ 0.84873796,  0.34713149, -0.03224993, -0.82477975, -0.64212251,\n",
       "        -0.40993857, -0.75490904, -0.44284654, -0.23551345, -0.4370122 ,\n",
       "        -0.26026773,  0.43800735,  0.0162735 , -0.56473541,  0.79375291,\n",
       "         0.35226059, -0.82467651,  0.59101915, -0.66175294,  0.01146674,\n",
       "         0.49860191, -0.03002381,  0.63433433, -0.54716682,  0.60384107,\n",
       "        -0.81729054,  0.62222028, -0.22684431, -0.09802675, -0.57595825,\n",
       "         0.32859015, -0.71744967,  0.67071795,  0.23247743, -0.62558341,\n",
       "        -0.84269571,  0.06131315,  0.28083396,  0.13455892, -0.92648125,\n",
       "        -0.58810329, -0.68289757,  0.3672843 ,  0.11619735,  0.13432574,\n",
       "        -0.49865007,  0.95092034,  0.74361491, -0.65392494,  0.26011348,\n",
       "        -0.14947319,  0.42144704,  0.85170412, -0.2263813 , -0.60529566,\n",
       "        -0.87268782, -0.27919364, -0.92804289,  0.18062997, -0.54877114,\n",
       "        -0.69049692,  0.87434053,  0.5753758 ,  0.98288321],\n",
       "       [ 0.84873796,  0.34713149, -0.03224993, -0.82477975, -0.64212251,\n",
       "        -0.40993857, -0.75490904, -0.44284654, -0.23551345, -0.4370122 ,\n",
       "        -0.26026773,  0.43800735,  0.0162735 , -0.56473541,  0.79375291,\n",
       "         0.35226059, -0.82467651,  0.59101915, -0.66175294,  0.01146674,\n",
       "         0.49860191, -0.03002381,  0.63433433, -0.54716682,  0.60384107,\n",
       "        -0.81729054,  0.62222028, -0.22684431, -0.09802675, -0.57595825,\n",
       "         0.32859015, -0.71744967,  0.67071795,  0.23247743, -0.62558341,\n",
       "        -0.84269571,  0.06131315,  0.28083396,  0.13455892, -0.92648125,\n",
       "        -0.58810329, -0.68289757,  0.3672843 ,  0.11619735,  0.13432574,\n",
       "        -0.49865007,  0.95092034,  0.74361491, -0.65392494,  0.26011348,\n",
       "        -0.14947319,  0.42144704,  0.85170412, -0.2263813 , -0.60529566,\n",
       "        -0.87268782, -0.27919364, -0.92804289,  0.18062997, -0.54877114,\n",
       "        -0.69049692,  0.87434053,  0.5753758 ,  0.98288321],\n",
       "       [ 0.84873796,  0.34713149, -0.03224993, -0.82477975, -0.64212251,\n",
       "        -0.40993857, -0.75490904, -0.44284654, -0.23551345, -0.4370122 ,\n",
       "        -0.26026773,  0.43800735,  0.0162735 , -0.56473541,  0.79375291,\n",
       "         0.35226059, -0.82467651,  0.59101915, -0.66175294,  0.01146674,\n",
       "         0.49860191, -0.03002381,  0.63433433, -0.54716682,  0.60384107,\n",
       "        -0.81729054,  0.62222028, -0.22684431, -0.09802675, -0.57595825,\n",
       "         0.32859015, -0.71744967,  0.67071795,  0.23247743, -0.62558341,\n",
       "        -0.84269571,  0.06131315,  0.28083396,  0.13455892, -0.92648125,\n",
       "        -0.58810329, -0.68289757,  0.3672843 ,  0.11619735,  0.13432574,\n",
       "        -0.49865007,  0.95092034,  0.74361491, -0.65392494,  0.26011348,\n",
       "        -0.14947319,  0.42144704,  0.85170412, -0.2263813 , -0.60529566,\n",
       "        -0.87268782, -0.27919364, -0.92804289,  0.18062997, -0.54877114,\n",
       "        -0.69049692,  0.87434053,  0.5753758 ,  0.98288321],\n",
       "       [ 0.84873796,  0.34713149, -0.03224993, -0.82477975, -0.64212251,\n",
       "        -0.40993857, -0.75490904, -0.44284654, -0.23551345, -0.4370122 ,\n",
       "        -0.26026773,  0.43800735,  0.0162735 , -0.56473541,  0.79375291,\n",
       "         0.35226059, -0.82467651,  0.59101915, -0.66175294,  0.01146674,\n",
       "         0.49860191, -0.03002381,  0.63433433, -0.54716682,  0.60384107,\n",
       "        -0.81729054,  0.62222028, -0.22684431, -0.09802675, -0.57595825,\n",
       "         0.32859015, -0.71744967,  0.67071795,  0.23247743, -0.62558341,\n",
       "        -0.84269571,  0.06131315,  0.28083396,  0.13455892, -0.92648125,\n",
       "        -0.58810329, -0.68289757,  0.3672843 ,  0.11619735,  0.13432574,\n",
       "        -0.49865007,  0.95092034,  0.74361491, -0.65392494,  0.26011348,\n",
       "        -0.14947319,  0.42144704,  0.85170412, -0.2263813 , -0.60529566,\n",
       "        -0.87268782, -0.27919364, -0.92804289,  0.18062997, -0.54877114,\n",
       "        -0.69049692,  0.87434053,  0.5753758 ,  0.98288321]], dtype=float32)"
      ]
     },
     "execution_count": 34,
     "metadata": {},
     "output_type": "execute_result"
    }
   ],
   "source": [
    "Lu[0]"
   ]
  },
  {
   "cell_type": "code",
   "execution_count": 35,
   "metadata": {
    "collapsed": false
   },
   "outputs": [
    {
     "data": {
      "text/plain": [
       "<tf.Variable 'Variable:0' shape=(6312, 64) dtype=float32_ref>"
      ]
     },
     "execution_count": 35,
     "metadata": {},
     "output_type": "execute_result"
    }
   ],
   "source": [
    "embeddings"
   ]
  },
  {
   "cell_type": "code",
   "execution_count": 36,
   "metadata": {
    "collapsed": false
   },
   "outputs": [
    {
     "data": {
      "text/plain": [
       "<tf.Tensor 'Placeholder:0' shape=(?, 15) dtype=int32>"
      ]
     },
     "execution_count": 36,
     "metadata": {},
     "output_type": "execute_result"
    }
   ],
   "source": [
    "X"
   ]
  },
  {
   "cell_type": "code",
   "execution_count": 37,
   "metadata": {
    "collapsed": false
   },
   "outputs": [
    {
     "data": {
      "text/plain": [
       "<tf.Tensor 'embedding_lookup:0' shape=(?, 15, 64) dtype=float32>"
      ]
     },
     "execution_count": 37,
     "metadata": {},
     "output_type": "execute_result"
    }
   ],
   "source": [
    "embed"
   ]
  },
  {
   "cell_type": "code",
   "execution_count": 38,
   "metadata": {
    "collapsed": true
   },
   "outputs": [],
   "source": [
    "X_batch, y_batch, L_batch = fetch_batch(X_training, y_training, L_training, batch_size)"
   ]
  },
  {
   "cell_type": "code",
   "execution_count": 39,
   "metadata": {
    "collapsed": false
   },
   "outputs": [
    {
     "data": {
      "text/plain": [
       "array([[3398, 1916, 1387, ..., 2728, 6311, 6311],\n",
       "       [4831, 3071,  294, ..., 6311, 6311, 6311],\n",
       "       [2455, 2331, 1597, ..., 6311, 6311, 6311],\n",
       "       ..., \n",
       "       [5589, 4832, 2138, ..., 3714, 5515, 6311],\n",
       "       [3346, 3007, 3952, ..., 6311, 6311, 6311],\n",
       "       [5649, 5624, 4832, ..., 3570, 6311, 6311]])"
      ]
     },
     "execution_count": 39,
     "metadata": {},
     "output_type": "execute_result"
    }
   ],
   "source": [
    "X_batch"
   ]
  },
  {
   "cell_type": "code",
   "execution_count": 40,
   "metadata": {
    "collapsed": false
   },
   "outputs": [
    {
     "data": {
      "text/plain": [
       "array([1, 1, 1, 1, 1, 0, 1, 1, 1, 1, 1, 1, 1, 1, 1, 0, 0, 1, 1, 1, 1, 0, 1,\n",
       "       0, 1, 0, 1, 1, 1, 0, 1, 0, 0, 1, 0, 1, 1, 0, 1, 0, 0, 1, 0, 1, 1, 1,\n",
       "       1, 0, 1, 1, 0, 0, 1, 1, 1, 1, 1, 1, 1, 1, 0, 0, 1, 1, 1, 1, 1, 1, 1,\n",
       "       1, 1, 0, 1, 0, 0])"
      ]
     },
     "execution_count": 40,
     "metadata": {},
     "output_type": "execute_result"
    }
   ],
   "source": [
    "y_batch"
   ]
  },
  {
   "cell_type": "code",
   "execution_count": 41,
   "metadata": {
    "collapsed": false
   },
   "outputs": [
    {
     "data": {
      "text/plain": [
       "array([13, 11, 10,  6, 14,  6,  9, 12, 15, 10, 10,  9,  5, 13, 12, 12,  6,\n",
       "       14, 15, 10, 11,  7,  6,  6, 14,  5,  8, 12,  9,  7,  7, 11, 13,  6,\n",
       "       14,  5, 11, 15, 13,  6, 15,  5, 12, 10, 15, 14,  7,  9,  7, 11,  7,\n",
       "       10, 12,  6, 10, 10,  7, 14, 10,  5,  8, 15, 14,  7, 11, 12,  8, 10,\n",
       "        7,  7,  8,  5, 14, 11, 13])"
      ]
     },
     "execution_count": 41,
     "metadata": {},
     "output_type": "execute_result"
    }
   ],
   "source": [
    "L_batch"
   ]
  },
  {
   "cell_type": "code",
   "execution_count": 42,
   "metadata": {
    "collapsed": false
   },
   "outputs": [
    {
     "data": {
      "text/plain": [
       "(75, 15)"
      ]
     },
     "execution_count": 42,
     "metadata": {},
     "output_type": "execute_result"
    }
   ],
   "source": [
    "X_batch.shape"
   ]
  },
  {
   "cell_type": "code",
   "execution_count": 43,
   "metadata": {
    "collapsed": true
   },
   "outputs": [],
   "source": [
    "from sklearn.ensemble import RandomForestClassifier"
   ]
  },
  {
   "cell_type": "code",
   "execution_count": 44,
   "metadata": {
    "collapsed": false
   },
   "outputs": [
    {
     "data": {
      "text/plain": [
       "0.56409601634320738"
      ]
     },
     "execution_count": 44,
     "metadata": {},
     "output_type": "execute_result"
    }
   ],
   "source": [
    "RandomForestClassifier(n_estimators=25).fit(X_training[:, :3], y_training).score(X_test[:, :3], y_test)"
   ]
  },
  {
   "cell_type": "markdown",
   "metadata": {},
   "source": [
    "This model doesn't make much sense given the zero padding."
   ]
  }
 ],
 "metadata": {
  "anaconda-cloud": {},
  "kernelspec": {
   "display_name": "Python [conda root]",
   "language": "python",
   "name": "conda-root-py"
  },
  "language_info": {
   "codemirror_mode": {
    "name": "ipython",
    "version": 2
   },
   "file_extension": ".py",
   "mimetype": "text/x-python",
   "name": "python",
   "nbconvert_exporter": "python",
   "pygments_lexer": "ipython2",
   "version": "2.7.12"
  }
 },
 "nbformat": 4,
 "nbformat_minor": 1
}
