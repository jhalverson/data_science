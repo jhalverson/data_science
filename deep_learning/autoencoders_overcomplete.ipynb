{
 "cells": [
  {
   "cell_type": "markdown",
   "metadata": {},
   "source": [
    "# Jonathan Halverson\n",
    "# Saturday, December 30, 2017\n",
    "# Part I. Overcomplete to undercomplete autoencoder"
   ]
  },
  {
   "cell_type": "markdown",
   "metadata": {},
   "source": [
    "Here the number of neurons in the single hidden layer is four times that of the number of inputs. This will prove to lead to a very small reconstruction loss but a terrible set of codings. The encoder is simply learning how to match the outputs to the inputs."
   ]
  },
  {
   "cell_type": "code",
   "execution_count": 1,
   "metadata": {
    "collapsed": true
   },
   "outputs": [],
   "source": [
    "import numpy as np\n",
    "import tensorflow as tf\n",
    "import matplotlib.pyplot as plt\n",
    "%matplotlib inline\n",
    "plt.style.use('halverson')"
   ]
  },
  {
   "cell_type": "code",
   "execution_count": 2,
   "metadata": {
    "collapsed": false
   },
   "outputs": [
    {
     "name": "stdout",
     "output_type": "stream",
     "text": [
      "Extracting /tmp/data/train-images-idx3-ubyte.gz\n",
      "Extracting /tmp/data/train-labels-idx1-ubyte.gz\n",
      "Extracting /tmp/data/t10k-images-idx3-ubyte.gz\n",
      "Extracting /tmp/data/t10k-labels-idx1-ubyte.gz\n"
     ]
    }
   ],
   "source": [
    "from tensorflow.examples.tutorials.mnist import input_data\n",
    "mnist = input_data.read_data_sets('/tmp/data/')"
   ]
  },
  {
   "cell_type": "code",
   "execution_count": 3,
   "metadata": {
    "collapsed": false
   },
   "outputs": [
    {
     "data": {
      "text/plain": [
       "<matplotlib.image.AxesImage at 0x105e6bf90>"
      ]
     },
     "execution_count": 3,
     "metadata": {},
     "output_type": "execute_result"
    },
    {
     "data": {
      "image/png": "[encoded data removed]",
      "text/plain": [
       "<matplotlib.figure.Figure at 0x181cf6dc50>"
      ]
     },
     "metadata": {},
     "output_type": "display_data"
    }
   ],
   "source": [
    "plt.imshow(mnist.train.images[0].reshape(28, 28), cmap='binary')"
   ]
  },
  {
   "cell_type": "markdown",
   "metadata": {},
   "source": [
    "## Phase 1: Train the autoencoder (unsupervised)"
   ]
  },
  {
   "cell_type": "code",
   "execution_count": 4,
   "metadata": {
    "collapsed": false
   },
   "outputs": [],
   "source": [
    "tf.reset_default_graph()"
   ]
  },
  {
   "cell_type": "code",
   "execution_count": 5,
   "metadata": {
    "collapsed": true
   },
   "outputs": [],
   "source": [
    "n_inputs = 28 * 28\n",
    "n_units = 1 * n_inputs // 2\n",
    "n_outputs = n_inputs"
   ]
  },
  {
   "cell_type": "code",
   "execution_count": 6,
   "metadata": {
    "collapsed": true
   },
   "outputs": [],
   "source": [
    "X = tf.placeholder(dtype=tf.float32, shape=(None, n_inputs), name=\"X\")\n",
    "hidden = tf.layers.dense(X, n_units, activation=None, name='over_or_under_complete')\n",
    "outputs = tf.layers.dense(hidden, n_outputs, activation=None, name='outputs')"
   ]
  },
  {
   "cell_type": "code",
   "execution_count": 7,
   "metadata": {
    "collapsed": false
   },
   "outputs": [],
   "source": [
    "reconstruction_loss = tf.reduce_mean(tf.square(X - outputs))\n",
    "optimizer = tf.train.AdamOptimizer(learning_rate=0.001)\n",
    "training_op = optimizer.minimize(reconstruction_loss)"
   ]
  },
  {
   "cell_type": "code",
   "execution_count": 8,
   "metadata": {
    "collapsed": false
   },
   "outputs": [],
   "source": [
    "saver = tf.train.Saver()\n",
    "init = tf.global_variables_initializer()"
   ]
  },
  {
   "cell_type": "code",
   "execution_count": 9,
   "metadata": {
    "collapsed": false
   },
   "outputs": [],
   "source": [
    "batch_size = 200\n",
    "epochs = 10\n",
    "codings = hidden"
   ]
  },
  {
   "cell_type": "code",
   "execution_count": 10,
   "metadata": {
    "collapsed": false
   },
   "outputs": [
    {
     "name": "stdout",
     "output_type": "stream",
     "text": [
      "0 0.00481374\n",
      "2 0.00155759\n",
      "4 0.000862973\n",
      "6 0.000596635\n",
      "8 0.000498954\n",
      "10 0.000435496\n"
     ]
    }
   ],
   "source": [
    "ckpt_path = '/tmp/data/overcomplete_to_undercomplete_n_inputs_is_' + str(n_inputs) + '.ckpt'\n",
    "with tf.Session() as sess:\n",
    "     init.run()\n",
    "     for epoch in xrange(epochs + 1):\n",
    "          for iteration in xrange(mnist.train.num_examples // batch_size):\n",
    "               X_batch, _ = mnist.train.next_batch(batch_size)\n",
    "               sess.run(training_op, feed_dict={X:X_batch})\n",
    "          if not (epoch % 2): print epoch, reconstruction_loss.eval(feed_dict={X:mnist.validation.images})\n",
    "     save_path = saver.save(sess, ckpt_path)"
   ]
  },
  {
   "cell_type": "code",
   "execution_count": 11,
   "metadata": {
    "collapsed": true
   },
   "outputs": [],
   "source": [
    "X_train = mnist.train.images\n",
    "y_train = mnist.train.labels\n",
    "X_test = mnist.test.images\n",
    "y_test = mnist.test.labels"
   ]
  },
  {
   "cell_type": "code",
   "execution_count": 12,
   "metadata": {
    "collapsed": false
   },
   "outputs": [
    {
     "name": "stdout",
     "output_type": "stream",
     "text": [
      "INFO:tensorflow:Restoring parameters from /tmp/data/overcomplete_to_undercomplete_n_inputs_is_784.ckpt\n"
     ]
    },
    {
     "data": {
      "image/png": "[encoded data removed]",
      "text/plain": [
       "<matplotlib.figure.Figure at 0x107a0f990>"
      ]
     },
     "metadata": {},
     "output_type": "display_data"
    }
   ],
   "source": [
    "with tf.Session() as sess:\n",
    "     saver.restore(sess, ckpt_path)\n",
    "     codings_train = codings.eval(feed_dict={X:X_train})\n",
    "     codings_test = codings.eval(feed_dict={X:X_test})\n",
    "     outputs_test = outputs.eval(feed_dict={X:X_test})\n",
    "     \n",
    "     plt.subplot(131)\n",
    "     plt.imshow(X_test[0].reshape(28, 28), cmap='binary'); plt.axis('off')\n",
    "     plt.subplot(132)\n",
    "     #plt.imshow(codings_test[0].reshape(56, 56), cmap='binary'); plt.axis('off')\n",
    "     #plt.subplot(133)\n",
    "     plt.imshow(outputs_test[0].reshape(28, 28), cmap='binary'); plt.axis('off')"
   ]
  },
  {
   "cell_type": "markdown",
   "metadata": {},
   "source": [
    "### Compute the accuracy using the codings of the test set"
   ]
  },
  {
   "cell_type": "code",
   "execution_count": 13,
   "metadata": {
    "collapsed": false
   },
   "outputs": [
    {
     "data": {
      "text/plain": [
       "0.9173"
      ]
     },
     "execution_count": 13,
     "metadata": {},
     "output_type": "execute_result"
    }
   ],
   "source": [
    "from sklearn.linear_model import SGDClassifier\n",
    "\n",
    "SGDClassifier(loss='log', random_state=42, tol=1e-4).fit(codings_train, y_train).score(codings_test, y_test)"
   ]
  },
  {
   "cell_type": "markdown",
   "metadata": {},
   "source": [
    "## Phase 2: Freeze the hidden layer and add a FC layer with softmax"
   ]
  },
  {
   "cell_type": "code",
   "execution_count": 14,
   "metadata": {
    "collapsed": true
   },
   "outputs": [],
   "source": [
    "# modify the graph above, no reset here\n",
    "new_outputs = tf.layers.dense(hidden, units=10, activation=None, name='new_outputs')\n",
    "y = tf.placeholder(dtype=tf.int32, shape=(None))"
   ]
  },
  {
   "cell_type": "code",
   "execution_count": 15,
   "metadata": {
    "collapsed": false
   },
   "outputs": [
    {
     "data": {
      "text/plain": [
       "[<tf.Variable 'new_outputs/kernel:0' shape=(392, 10) dtype=float32_ref>,\n",
       " <tf.Variable 'new_outputs/bias:0' shape=(10,) dtype=float32_ref>]"
      ]
     },
     "execution_count": 15,
     "metadata": {},
     "output_type": "execute_result"
    }
   ],
   "source": [
    "train_vars = tf.get_collection(tf.GraphKeys.TRAINABLE_VARIABLES, scope='new')\n",
    "train_vars"
   ]
  },
  {
   "cell_type": "code",
   "execution_count": 16,
   "metadata": {
    "collapsed": false
   },
   "outputs": [],
   "source": [
    "xentropy = tf.nn.sparse_softmax_cross_entropy_with_logits(labels=y, logits=new_outputs)\n",
    "loss = tf.reduce_mean(xentropy)\n",
    "optimizer = tf.train.AdamOptimizer(learning_rate=0.005, name='Adam2')\n",
    "training_op = optimizer.minimize(loss, var_list=train_vars)\n",
    "correct = tf.nn.in_top_k(new_outputs, y, 1)\n",
    "accuracy = tf.reduce_mean(tf.cast(correct, tf.float32))\n",
    "\n",
    "init = tf.global_variables_initializer()"
   ]
  },
  {
   "cell_type": "code",
   "execution_count": 17,
   "metadata": {
    "collapsed": true
   },
   "outputs": [],
   "source": [
    "batch_size = 200\n",
    "epochs = 30"
   ]
  },
  {
   "cell_type": "code",
   "execution_count": 18,
   "metadata": {
    "collapsed": false,
    "scrolled": true
   },
   "outputs": [
    {
     "name": "stdout",
     "output_type": "stream",
     "text": [
      "INFO:tensorflow:Restoring parameters from /tmp/data/overcomplete_to_undercomplete_n_inputs_is_784.ckpt\n",
      "0 0.914 0.311368\n",
      "5 0.9223 0.275479\n",
      "10 0.9237 0.269579\n",
      "15 0.9232 0.269785\n",
      "20 0.9253 0.270357\n",
      "25 0.9257 0.273202\n",
      "30 0.9242 0.279122\n"
     ]
    }
   ],
   "source": [
    "with tf.Session() as sess:\n",
    "     init.run()\n",
    "     saver.restore(sess, ckpt_path) # restore the variable values\n",
    "     #wts_before = [v for v in tf.trainable_variables() if v.name == \"hidden/kernel:0\"][0].eval()\n",
    "     for epoch in xrange(epochs + 1):\n",
    "          for iteration in xrange(mnist.train.num_examples // batch_size):\n",
    "               X_batch, y_batch = mnist.train.next_batch(batch_size)\n",
    "               sess.run(training_op, feed_dict={X:X_batch, y:y_batch})\n",
    "          if not (epoch % 5): print epoch, accuracy.eval(feed_dict={X:X_test, y:y_test}), loss.eval(feed_dict={X:X_test, y:y_test})\n",
    "     #wts_after = [v for v in tf.trainable_variables() if v.name == \"hidden/kernel:0\"][0].eval()"
   ]
  },
  {
   "cell_type": "markdown",
   "metadata": {},
   "source": [
    "| n_inputs | SGDClassifier Accuracy using Codings | Supervised Accuracy |\n",
    "|---|---|\n",
    "|2 x 784|91.8|92.1|\n",
    "|1 x 784|91.7|92.3|\n",
    "|784 / 2|91.8|92.4|"
   ]
  },
  {
   "cell_type": "markdown",
   "metadata": {},
   "source": [
    "The results are independent of the number of neurons in the codings layer. The expectation was that the overcomplete autoencoder would lead to less accuracy when reused for the model trained with supervision."
   ]
  },
  {
   "cell_type": "markdown",
   "metadata": {},
   "source": [
    "# Part II: Codings accuracy versus number of neurons in hidden layer"
   ]
  },
  {
   "cell_type": "markdown",
   "metadata": {},
   "source": [
    "Here we try a simpler case. We consider one hidden layer and vary its number of neurons. The accuracy is computed using SDGClassifier on the codings of the test set:"
   ]
  },
  {
   "cell_type": "code",
   "execution_count": 105,
   "metadata": {
    "collapsed": true
   },
   "outputs": [],
   "source": [
    "tf.reset_default_graph()"
   ]
  },
  {
   "cell_type": "code",
   "execution_count": 106,
   "metadata": {
    "collapsed": true
   },
   "outputs": [],
   "source": [
    "n_inputs = 784\n",
    "n_units = 2*784\n",
    "n_outputs = n_inputs"
   ]
  },
  {
   "cell_type": "code",
   "execution_count": 107,
   "metadata": {
    "collapsed": true
   },
   "outputs": [],
   "source": [
    "X = tf.placeholder(dtype=tf.float32, shape=(None, n_inputs), name=\"X\")\n",
    "hidden = tf.layers.dense(X, n_units, activation=None, name='over_or_under_complete')\n",
    "outputs = tf.layers.dense(hidden, n_outputs, activation=None, name='outputs')"
   ]
  },
  {
   "cell_type": "code",
   "execution_count": 108,
   "metadata": {
    "collapsed": false
   },
   "outputs": [],
   "source": [
    "reconstruction_loss = tf.reduce_mean(tf.square(X - outputs))\n",
    "optimizer = tf.train.AdamOptimizer(learning_rate=0.001)\n",
    "training_op = optimizer.minimize(reconstruction_loss)"
   ]
  },
  {
   "cell_type": "code",
   "execution_count": 109,
   "metadata": {
    "collapsed": false
   },
   "outputs": [],
   "source": [
    "init = tf.global_variables_initializer()"
   ]
  },
  {
   "cell_type": "code",
   "execution_count": 110,
   "metadata": {
    "collapsed": false
   },
   "outputs": [],
   "source": [
    "batch_size = 200\n",
    "epochs = 20\n",
    "codings = hidden"
   ]
  },
  {
   "cell_type": "code",
   "execution_count": 111,
   "metadata": {
    "collapsed": false
   },
   "outputs": [
    {
     "name": "stdout",
     "output_type": "stream",
     "text": [
      "0 0.00116399\n",
      "2 6.28923e-05\n",
      "4 7.4095e-05\n",
      "6 5.52633e-05\n",
      "8 4.8892e-05\n",
      "10 3.26859e-05\n",
      "12 2.87289e-05\n",
      "14 0.000152808\n",
      "16 0.000145184\n",
      "18 7.73767e-05\n",
      "20 7.27525e-05\n"
     ]
    }
   ],
   "source": [
    "with tf.Session() as sess:\n",
    "     init.run()\n",
    "     for epoch in xrange(epochs + 1):\n",
    "          for iteration in xrange(mnist.train.num_examples // batch_size):\n",
    "               X_batch, _ = mnist.train.next_batch(batch_size)\n",
    "               sess.run(training_op, feed_dict={X:X_batch})\n",
    "          if not (epoch % 2): print epoch, reconstruction_loss.eval(feed_dict={X:mnist.validation.images})\n",
    "     codings_train = codings.eval(feed_dict={X:X_train})\n",
    "     codings_test = codings.eval(feed_dict={X:X_test})"
   ]
  },
  {
   "cell_type": "code",
   "execution_count": 112,
   "metadata": {
    "collapsed": false
   },
   "outputs": [
    {
     "data": {
      "text/plain": [
       "0.85919999999999996"
      ]
     },
     "execution_count": 112,
     "metadata": {},
     "output_type": "execute_result"
    }
   ],
   "source": [
    "sgd_clf = SGDClassifier(loss='log', random_state=42, tol=1e-4, penalty='l2', alpha=0.1)\n",
    "sgd_clf.fit(codings_train, y_train).score(codings_test, y_test)"
   ]
  },
  {
   "cell_type": "code",
   "execution_count": 113,
   "metadata": {
    "collapsed": false
   },
   "outputs": [
    {
     "data": {
      "text/plain": [
       "0.91379999999999995"
      ]
     },
     "execution_count": 113,
     "metadata": {},
     "output_type": "execute_result"
    }
   ],
   "source": [
    "sgd_clf = SGDClassifier(loss='log', random_state=42, tol=1e-4, penalty='l2', alpha=0.001)\n",
    "sgd_clf.fit(codings_train, y_train).score(codings_test, y_test)"
   ]
  },
  {
   "cell_type": "code",
   "execution_count": 114,
   "metadata": {
    "collapsed": false
   },
   "outputs": [
    {
     "data": {
      "text/plain": [
       "0.91679999999999995"
      ]
     },
     "execution_count": 114,
     "metadata": {},
     "output_type": "execute_result"
    }
   ],
   "source": [
    "sgd_clf = SGDClassifier(loss='log', random_state=42, tol=1e-4, penalty='l2', alpha=0.0001)\n",
    "sgd_clf.fit(codings_train, y_train).score(codings_test, y_test)"
   ]
  },
  {
   "cell_type": "code",
   "execution_count": 115,
   "metadata": {
    "collapsed": false
   },
   "outputs": [
    {
     "data": {
      "text/plain": [
       "0.89929999999999999"
      ]
     },
     "execution_count": 115,
     "metadata": {},
     "output_type": "execute_result"
    }
   ],
   "source": [
    "sgd_clf = SGDClassifier(loss='log', random_state=42, tol=1e-4, penalty='l2', alpha=0.00001)\n",
    "sgd_clf.fit(codings_train, y_train).score(codings_test, y_test)"
   ]
  },
  {
   "cell_type": "markdown",
   "metadata": {},
   "source": [
    "|neurons in coding layer|reconstruction loss|accuracy|\n",
    "|---|---|\n",
    "| 10|0.034|79|\n",
    "| 25|0.020|87|\n",
    "| 50|0.012|90|\n",
    "|100|0.0058|91|\n",
    "|250|0.0016|91|\n",
    "|500|0.0001|91|\n",
    "|784|5e-5|91|\n",
    "|1568|5e-5|91|"
   ]
  },
  {
   "cell_type": "markdown",
   "metadata": {},
   "source": [
    "We see that as the number of neurons increases the reconstruction loss and accuracy increase until the two saturate. We note that using about 75 neurons gives the same accuracy as a larger number. This is the value we would choose if we were using the autoencoder for dimensionality reduction."
   ]
  }
 ],
 "metadata": {
  "anaconda-cloud": {},
  "kernelspec": {
   "display_name": "Python [conda root]",
   "language": "python",
   "name": "conda-root-py"
  },
  "language_info": {
   "codemirror_mode": {
    "name": "ipython",
    "version": 2
   },
   "file_extension": ".py",
   "mimetype": "text/x-python",
   "name": "python",
   "nbconvert_exporter": "python",
   "pygments_lexer": "ipython2",
   "version": "2.7.12"
  }
 },
 "nbformat": 4,
 "nbformat_minor": 1
}
