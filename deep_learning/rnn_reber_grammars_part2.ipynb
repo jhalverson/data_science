{
 "cells": [
  {
   "cell_type": "markdown",
   "metadata": {},
   "source": [
    "# Jonathan Halverson\n",
    "# Friday, January 12, 2018\n",
    "# Part 2: Classifying Reber versus non-Reber grammars using an RNN"
   ]
  },
  {
   "cell_type": "code",
   "execution_count": 1,
   "metadata": {
    "collapsed": true
   },
   "outputs": [],
   "source": [
    "import numpy as np\n",
    "import cPickle\n",
    "import tensorflow as tf\n",
    "import matplotlib.pyplot as plt\n",
    "%matplotlib inline\n",
    "plt.style.use('halverson')"
   ]
  },
  {
   "cell_type": "code",
   "execution_count": 2,
   "metadata": {
    "collapsed": false
   },
   "outputs": [],
   "source": [
    "f = open('X_correct.reb', 'rb')\n",
    "X_correct = cPickle.load(f) / 7.0\n",
    "y_correct = cPickle.load(f)\n",
    "L_correct = cPickle.load(f)\n",
    "f.close()"
   ]
  },
  {
   "cell_type": "code",
   "execution_count": 3,
   "metadata": {
    "collapsed": false
   },
   "outputs": [],
   "source": [
    "f = open('X_incorrect.reb', 'rb')\n",
    "X_incorrect = cPickle.load(f) / 7.0\n",
    "y_incorrect = cPickle.load(f)\n",
    "L_incorrect = cPickle.load(f)\n",
    "f.close()"
   ]
  },
  {
   "cell_type": "code",
   "execution_count": 4,
   "metadata": {
    "collapsed": false
   },
   "outputs": [
    {
     "data": {
      "text/plain": [
       "(array([ 0.14285714,  0.42857143,  0.71428571,  0.71428571,  0.71428571,\n",
       "         0.85714286,  0.42857143,  0.57142857,  0.28571429,  0.        ,\n",
       "         0.        ,  0.        ,  0.        ,  0.        ,  0.        ,\n",
       "         0.        ,  0.        ,  0.        ,  0.        ,  0.        ,\n",
       "         0.        ,  0.        ,  0.        ,  0.        ,  0.        ,\n",
       "         0.        ,  0.        ,  0.        ,  0.        ,  0.        ,\n",
       "         0.        ,  0.        ,  0.        ,  0.        ,  0.        ,\n",
       "         0.        ,  0.        ]), 1, 9)"
      ]
     },
     "execution_count": 4,
     "metadata": {},
     "output_type": "execute_result"
    }
   ],
   "source": [
    "X_correct[0], y_correct[0], L_correct[0]"
   ]
  },
  {
   "cell_type": "code",
   "execution_count": 5,
   "metadata": {
    "collapsed": false
   },
   "outputs": [
    {
     "data": {
      "text/plain": [
       "(array([ 0.14285714,  0.42857143,  1.        ,  0.57142857,  0.57142857,\n",
       "         1.        ,  0.28571429,  0.        ,  0.        ,  0.        ,\n",
       "         0.        ,  0.        ,  0.        ,  0.        ,  0.        ,\n",
       "         0.        ,  0.        ,  0.        ,  0.        ,  0.        ,\n",
       "         0.        ,  0.        ,  0.        ,  0.        ,  0.        ,\n",
       "         0.        ,  0.        ,  0.        ,  0.        ,  0.        ,\n",
       "         0.        ,  0.        ,  0.        ,  0.        ,  0.        ,\n",
       "         0.        ,  0.        ]), 0, 7)"
      ]
     },
     "execution_count": 5,
     "metadata": {},
     "output_type": "execute_result"
    }
   ],
   "source": [
    "X_incorrect[0], y_incorrect[0], L_incorrect[0]"
   ]
  },
  {
   "cell_type": "markdown",
   "metadata": {},
   "source": [
    "### Make training and testing sets"
   ]
  },
  {
   "cell_type": "code",
   "execution_count": 6,
   "metadata": {
    "collapsed": true
   },
   "outputs": [],
   "source": [
    "ind = np.arange(y_correct.size + y_incorrect.size)\n",
    "np.random.shuffle(ind)"
   ]
  },
  {
   "cell_type": "code",
   "execution_count": 7,
   "metadata": {
    "collapsed": true
   },
   "outputs": [],
   "source": [
    "X_cmb = np.append(X_correct, X_incorrect, axis=0)[ind]\n",
    "y_cmb = np.append(y_correct, y_incorrect, axis=0)[ind]\n",
    "L_cmb = np.append(L_correct, L_incorrect, axis=0)[ind]"
   ]
  },
  {
   "cell_type": "code",
   "execution_count": 8,
   "metadata": {
    "collapsed": true
   },
   "outputs": [],
   "source": [
    "test_proportion = 0.2\n",
    "N_train = int((1.0 - test_proportion) * y_cmb.size)\n",
    "X_train = X_cmb[:N_train]\n",
    "y_train = y_cmb[:N_train]\n",
    "L_train = L_cmb[:N_train]\n",
    "X_test = X_cmb[N_train:]\n",
    "y_test = y_cmb[N_train:]\n",
    "L_test = L_cmb[N_train:]"
   ]
  },
  {
   "cell_type": "code",
   "execution_count": 9,
   "metadata": {
    "collapsed": true
   },
   "outputs": [],
   "source": [
    "def fetch_batch(batch_size):\n",
    "     ind = np.random.choice(np.arange(y_train.size), size=batch_size, replace=False)\n",
    "     return X_train[ind], y_train[ind], L_train[ind]"
   ]
  },
  {
   "cell_type": "markdown",
   "metadata": {},
   "source": [
    "### Create the TF graph"
   ]
  },
  {
   "cell_type": "code",
   "execution_count": 10,
   "metadata": {
    "collapsed": true
   },
   "outputs": [],
   "source": [
    "tf.reset_default_graph()"
   ]
  },
  {
   "cell_type": "code",
   "execution_count": 11,
   "metadata": {
    "collapsed": true
   },
   "outputs": [],
   "source": [
    "n_inputs = 1\n",
    "n_steps = 37\n",
    "n_neurons = 100"
   ]
  },
  {
   "cell_type": "code",
   "execution_count": 12,
   "metadata": {
    "collapsed": false
   },
   "outputs": [],
   "source": [
    "X = tf.placeholder(dtype=tf.float32, shape=(None, n_steps))\n",
    "X_reshaped = tf.reshape(X, shape=(-1, n_steps, n_inputs))\n",
    "y = tf.placeholder(dtype=tf.int32, shape=(None))\n",
    "L = tf.placeholder(dtype=tf.int32, shape=(None))"
   ]
  },
  {
   "cell_type": "code",
   "execution_count": 13,
   "metadata": {
    "collapsed": false
   },
   "outputs": [],
   "source": [
    "cell = tf.contrib.rnn.BasicRNNCell(num_units=n_neurons, activation=tf.nn.relu)\n",
    "#cell = tf.contrib.rnn.LSTMCell(num_units=n_neurons, state_is_tuple=False, use_peepholes=True)\n",
    "outputs, states = tf.nn.dynamic_rnn(cell, X_reshaped, dtype=tf.float32, sequence_length=L)\n",
    "prob_positive = tf.layers.dense(states, units=1, activation=tf.sigmoid)"
   ]
  },
  {
   "cell_type": "code",
   "execution_count": 14,
   "metadata": {
    "collapsed": true
   },
   "outputs": [],
   "source": [
    "loss = tf.losses.log_loss(y, tf.squeeze(prob_positive))\n",
    "optimizer = tf.train.AdamOptimizer(learning_rate=0.001)\n",
    "training_op = optimizer.minimize(loss)"
   ]
  },
  {
   "cell_type": "code",
   "execution_count": 15,
   "metadata": {
    "collapsed": false
   },
   "outputs": [],
   "source": [
    "y_pred = tf.cast(tf.squeeze(prob_positive) > 0.5, tf.int32)\n",
    "accuracy = tf.reduce_mean(tf.cast(tf.equal(y, y_pred), tf.float32))"
   ]
  },
  {
   "cell_type": "code",
   "execution_count": 16,
   "metadata": {
    "collapsed": true
   },
   "outputs": [],
   "source": [
    "init = tf.global_variables_initializer()"
   ]
  },
  {
   "cell_type": "markdown",
   "metadata": {},
   "source": [
    "### Execute the graph"
   ]
  },
  {
   "cell_type": "code",
   "execution_count": 17,
   "metadata": {
    "collapsed": true
   },
   "outputs": [],
   "source": [
    "batch_size = 100\n",
    "epochs = 10"
   ]
  },
  {
   "cell_type": "code",
   "execution_count": 18,
   "metadata": {
    "collapsed": false,
    "scrolled": false
   },
   "outputs": [
    {
     "name": "stdout",
     "output_type": "stream",
     "text": [
      "(0, 'log loss:', 0.6924029, 'accuracy:', 0.4984)\n",
      "(100, 'log loss:', 0.57113963, 'accuracy:', 0.74505001)\n",
      "(200, 'log loss:', 0.38892877, 'accuracy:', 0.86704999)\n",
      "(300, 'log loss:', 0.48631054, 'accuracy:', 0.78869998)\n",
      "(400, 'log loss:', 0.33396041, 'accuracy:', 0.87475002)\n",
      "(500, 'log loss:', 0.29780057, 'accuracy:', 0.89359999)\n",
      "(600, 'log loss:', 0.23869209, 'accuracy:', 0.91769999)\n",
      "(700, 'log loss:', 0.20193367, 'accuracy:', 0.93994999)\n",
      "(800, 'log loss:', 0.19879165, 'accuracy:', 0.94145)\n",
      "(900, 'log loss:', 0.15644354, 'accuracy:', 0.94894999)\n",
      "(1000, 'log loss:', 0.15621276, 'accuracy:', 0.95064998)\n",
      "(1100, 'log loss:', 0.15449998, 'accuracy:', 0.96030003)\n",
      "(1200, 'log loss:', 0.15999903, 'accuracy:', 0.95375001)\n",
      "(1300, 'log loss:', 0.13702461, 'accuracy:', 0.95894998)\n",
      "(1400, 'log loss:', 0.099492058, 'accuracy:', 0.96829998)\n",
      "(1500, 'log loss:', 0.14968604, 'accuracy:', 0.95534998)\n",
      "(1600, 'log loss:', 0.11051821, 'accuracy:', 0.96759999)\n",
      "(1700, 'log loss:', 0.094970196, 'accuracy:', 0.97000003)\n",
      "(1800, 'log loss:', 0.10854726, 'accuracy:', 0.96350002)\n",
      "(1900, 'log loss:', 0.28557402, 'accuracy:', 0.89160001)\n",
      "(2000, 'log loss:', 0.096677236, 'accuracy:', 0.9655)\n",
      "(2100, 'log loss:', 0.074949108, 'accuracy:', 0.97675002)\n",
      "(2200, 'log loss:', 0.27104139, 'accuracy:', 0.90254998)\n",
      "(2300, 'log loss:', 0.086245984, 'accuracy:', 0.97189999)\n",
      "(2400, 'log loss:', 0.068943493, 'accuracy:', 0.97834998)\n",
      "(2500, 'log loss:', 0.060168907, 'accuracy:', 0.98014998)\n",
      "(2600, 'log loss:', 0.064778522, 'accuracy:', 0.97794998)\n",
      "(2700, 'log loss:', 0.11767578, 'accuracy:', 0.96765)\n",
      "(2800, 'log loss:', 0.059216395, 'accuracy:', 0.98229998)\n",
      "(2900, 'log loss:', 0.049261641, 'accuracy:', 0.98379999)\n",
      "(3000, 'log loss:', 0.046723273, 'accuracy:', 0.98729998)\n",
      "(3100, 'log loss:', 0.045352779, 'accuracy:', 0.98760003)\n",
      "(3200, 'log loss:', 0.14917757, 'accuracy:', 0.95039999)\n",
      "(3300, 'log loss:', 0.10408968, 'accuracy:', 0.96464998)\n",
      "(3400, 'log loss:', 0.04624664, 'accuracy:', 0.98500001)\n",
      "(3500, 'log loss:', 0.038456388, 'accuracy:', 0.98914999)\n",
      "(3600, 'log loss:', 0.037610296, 'accuracy:', 0.98815)\n",
      "(3700, 'log loss:', 0.03496686, 'accuracy:', 0.98839998)\n",
      "(3800, 'log loss:', 0.035209522, 'accuracy:', 0.98954999)\n",
      "(3900, 'log loss:', 0.03503025, 'accuracy:', 0.99019998)\n",
      "(4000, 'log loss:', 0.040126655, 'accuracy:', 0.98895001)\n",
      "(4100, 'log loss:', 0.042499781, 'accuracy:', 0.98729998)\n",
      "(4200, 'log loss:', 0.1860784, 'accuracy:', 0.95674998)\n",
      "(4300, 'log loss:', 0.031363469, 'accuracy:', 0.99035001)\n",
      "(4400, 'log loss:', 0.039360259, 'accuracy:', 0.98930001)\n",
      "(4500, 'log loss:', 0.036002003, 'accuracy:', 0.9903)\n",
      "(4600, 'log loss:', 0.027567327, 'accuracy:', 0.9903)\n",
      "(4700, 'log loss:', 0.083167858, 'accuracy:', 0.98935002)\n",
      "(4800, 'log loss:', 0.023742283, 'accuracy:', 0.99374998)\n",
      "(4900, 'log loss:', 0.024086585, 'accuracy:', 0.99075001)\n",
      "(5000, 'log loss:', 0.024540409, 'accuracy:', 0.99180001)\n",
      "(5100, 'log loss:', 0.034365442, 'accuracy:', 0.98914999)\n",
      "(5200, 'log loss:', 0.022119969, 'accuracy:', 0.99185002)\n",
      "(5300, 'log loss:', 0.02985785, 'accuracy:', 0.99035001)\n",
      "(5400, 'log loss:', 0.023125153, 'accuracy:', 0.99169999)\n",
      "(5500, 'log loss:', 0.021881597, 'accuracy:', 0.99370003)\n",
      "(5600, 'log loss:', 0.020450475, 'accuracy:', 0.99580002)\n",
      "(5700, 'log loss:', 0.017994229, 'accuracy:', 0.9957)\n",
      "(5800, 'log loss:', 0.022396121, 'accuracy:', 0.99395001)\n",
      "(5900, 'log loss:', 0.1639276, 'accuracy:', 0.94704998)\n",
      "(6000, 'log loss:', 0.031825792, 'accuracy:', 0.99054998)\n",
      "(6100, 'log loss:', 0.021398898, 'accuracy:', 0.99344999)\n",
      "(6200, 'log loss:', 0.14225183, 'accuracy:', 0.94999999)\n",
      "(6300, 'log loss:', 0.087876074, 'accuracy:', 0.96735001)\n",
      "(6400, 'log loss:', 0.051028263, 'accuracy:', 0.98259997)\n",
      "(6500, 'log loss:', 0.050745271, 'accuracy:', 0.98680001)\n",
      "(6600, 'log loss:', 0.038847804, 'accuracy:', 0.99089998)\n",
      "(6700, 'log loss:', 0.028636182, 'accuracy:', 0.9914)\n",
      "(6800, 'log loss:', 0.029428216, 'accuracy:', 0.99150002)\n",
      "(6900, 'log loss:', 0.073008768, 'accuracy:', 0.98194999)\n",
      "(7000, 'log loss:', 0.0305875, 'accuracy:', 0.98879999)\n",
      "(7100, 'log loss:', 0.035733372, 'accuracy:', 0.98869997)\n",
      "(7200, 'log loss:', 0.027157465, 'accuracy:', 0.991)\n",
      "(7300, 'log loss:', 0.022517366, 'accuracy:', 0.99220002)\n",
      "(7400, 'log loss:', 0.021870583, 'accuracy:', 0.99239999)\n",
      "(7500, 'log loss:', 0.022628335, 'accuracy:', 0.99290001)\n",
      "(7600, 'log loss:', 0.020137513, 'accuracy:', 0.99215001)\n",
      "(7700, 'log loss:', 0.11127782, 'accuracy:', 0.96515)\n",
      "(7800, 'log loss:', 0.022265818, 'accuracy:', 0.9932)\n",
      "(7900, 'log loss:', 0.01926982, 'accuracy:', 0.99339998)\n"
     ]
    }
   ],
   "source": [
    "step_acc_loss = []\n",
    "with tf.Session() as sess:\n",
    "     init.run()\n",
    "     for epoch in range(epochs):\n",
    "          iterations = y_train.size // batch_size\n",
    "          for iteration in range(iterations):\n",
    "               X_batch, y_batch, L_batch = fetch_batch(batch_size)\n",
    "               sess.run(training_op, feed_dict={X:X_batch, y:y_batch, L:L_batch})\n",
    "               if iteration % 100 == 0:\n",
    "                    J = loss.eval(feed_dict={X:X_test, y:y_test, L:L_test})\n",
    "                    acc = accuracy.eval(feed_dict={X:X_test, y:y_test, L:L_test})\n",
    "                    step = epoch * iterations  + iteration\n",
    "                    print(step, \"log loss:\", J, \"accuracy:\", acc)\n",
    "                    step_acc_loss.append((step, acc, J))"
   ]
  },
  {
   "cell_type": "code",
   "execution_count": 19,
   "metadata": {
    "collapsed": false
   },
   "outputs": [
    {
     "data": {
      "text/plain": [
       "<matplotlib.text.Text at 0x18274a8a10>"
      ]
     },
     "execution_count": 19,
     "metadata": {},
     "output_type": "execute_result"
    },
    {
     "data": {
      "image/png": "[encoded data removed]",
      "text/plain": [
       "<matplotlib.figure.Figure at 0x18270f2590>"
      ]
     },
     "metadata": {},
     "output_type": "display_data"
    }
   ],
   "source": [
    "step, acc, loss = zip(*step_acc_loss)\n",
    "plt.plot(step, acc)\n",
    "plt.plot(step, loss)\n",
    "plt.title('Accuracy and loss on test set')"
   ]
  },
  {
   "cell_type": "markdown",
   "metadata": {},
   "source": [
    "The model works very well."
   ]
  },
  {
   "cell_type": "markdown",
   "metadata": {},
   "source": [
    "### Conventional ML model"
   ]
  },
  {
   "cell_type": "code",
   "execution_count": 20,
   "metadata": {
    "collapsed": true
   },
   "outputs": [],
   "source": [
    "from sklearn.ensemble import RandomForestClassifier\n",
    "from sklearn.linear_model import LogisticRegression"
   ]
  },
  {
   "cell_type": "code",
   "execution_count": 21,
   "metadata": {
    "collapsed": false
   },
   "outputs": [
    {
     "data": {
      "text/plain": [
       "0.64729999999999999"
      ]
     },
     "execution_count": 21,
     "metadata": {},
     "output_type": "execute_result"
    }
   ],
   "source": [
    "LogisticRegression(C=1.0).fit(X_train, y_train).score(X_test, y_test)"
   ]
  },
  {
   "cell_type": "code",
   "execution_count": 22,
   "metadata": {
    "collapsed": false
   },
   "outputs": [
    {
     "data": {
      "text/plain": [
       "1.0"
      ]
     },
     "execution_count": 22,
     "metadata": {},
     "output_type": "execute_result"
    }
   ],
   "source": [
    "RandomForestClassifier(n_estimators=100).fit(X_train, y_train).score(X_test, y_test)"
   ]
  },
  {
   "cell_type": "markdown",
   "metadata": {},
   "source": [
    "RF does just as well as the RNN whereas the linear model performs poorly."
   ]
  }
 ],
 "metadata": {
  "kernelspec": {
   "display_name": "Python [conda root]",
   "language": "python",
   "name": "conda-root-py"
  },
  "language_info": {
   "codemirror_mode": {
    "name": "ipython",
    "version": 2
   },
   "file_extension": ".py",
   "mimetype": "text/x-python",
   "name": "python",
   "nbconvert_exporter": "python",
   "pygments_lexer": "ipython2",
   "version": "2.7.12"
  }
 },
 "nbformat": 4,
 "nbformat_minor": 1
}
