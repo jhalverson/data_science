{
 "cells": [
  {
   "cell_type": "markdown",
   "metadata": {},
   "source": [
    "# Jonathan Halverson\n",
    "# Tuesday, December 5, 2017\n",
    "# Speech recognition: \"Yes\" versus \"Nine\""
   ]
  },
  {
   "cell_type": "markdown",
   "metadata": {},
   "source": [
    "This is a simple demonstration of speech recognition. It works by creating a spectrogram for each word then training a CNN to distinguish between the two words. The CNN approach works better than a fully connected DNN as well as a logistic regression model. This is not a state-of-the-art model but it is a nice illustration of feature engineering and how a CNN can be used. Preprocessing the data would surely help. One thing to do would be to remove the silence before and after the word. One could also use data augmentation to change the rate of speech as well as the the amplitude. Is the spectrogram independent of the spectrogram? Seems like it should be."
   ]
  },
  {
   "cell_type": "code",
   "execution_count": 156,
   "metadata": {
    "collapsed": true
   },
   "outputs": [],
   "source": [
    "import numpy as np\n",
    "import matplotlib.pyplot as plt\n",
    "%matplotlib inline\n",
    "plt.style.use('halverson')"
   ]
  },
  {
   "cell_type": "code",
   "execution_count": 157,
   "metadata": {
    "collapsed": false
   },
   "outputs": [],
   "source": [
    "from scipy.io import wavfile\n",
    "\n",
    "f = 'datasets/speech_commands_v0.01/yes/0a7c2a8d_nohash_0.wav'\n",
    "f = 'datasets/speech_commands_v0.01/eight/3a70ab7f_nohash_0.wav'\n",
    "f = 'datasets/speech_commands_v0.01/marvin/4a4e28f1_nohash_0.wav'\n",
    "f = 'datasets/speech_commands_v0.01/marvin/5a9f7324_nohash_0.wav' # low freq\n",
    "f = 'datasets/speech_commands_v0.01/marvin/6a861f21_nohash_0.wav' # high freq\n",
    "sample_rate, data = wavfile.read(f) # 16-bit  PCM  -32768  +32767  int16\n",
    "times = np.arange(data.size) / float(sample_rate)"
   ]
  },
  {
   "cell_type": "markdown",
   "metadata": {},
   "source": [
    "How many samples per second are there?"
   ]
  },
  {
   "cell_type": "code",
   "execution_count": 158,
   "metadata": {
    "collapsed": false
   },
   "outputs": [
    {
     "data": {
      "text/plain": [
       "16000"
      ]
     },
     "execution_count": 158,
     "metadata": {},
     "output_type": "execute_result"
    }
   ],
   "source": [
    "sample_rate"
   ]
  },
  {
   "cell_type": "markdown",
   "metadata": {},
   "source": [
    "What do the first ten values look like?"
   ]
  },
  {
   "cell_type": "code",
   "execution_count": 159,
   "metadata": {
    "collapsed": false
   },
   "outputs": [
    {
     "data": {
      "text/plain": [
       "array([ 1,  3,  3,  1,  0,  0,  0,  0,  0, -1], dtype=int16)"
      ]
     },
     "execution_count": 159,
     "metadata": {},
     "output_type": "execute_result"
    }
   ],
   "source": [
    "data[:10]"
   ]
  },
  {
   "cell_type": "markdown",
   "metadata": {},
   "source": [
    "How many samples are there?"
   ]
  },
  {
   "cell_type": "code",
   "execution_count": 160,
   "metadata": {
    "collapsed": false
   },
   "outputs": [
    {
     "data": {
      "text/plain": [
       "16000"
      ]
     },
     "execution_count": 160,
     "metadata": {},
     "output_type": "execute_result"
    }
   ],
   "source": [
    "data.size"
   ]
  },
  {
   "cell_type": "markdown",
   "metadata": {},
   "source": [
    "How many unique values are there?"
   ]
  },
  {
   "cell_type": "code",
   "execution_count": 161,
   "metadata": {
    "collapsed": false
   },
   "outputs": [
    {
     "data": {
      "text/plain": [
       "7259"
      ]
     },
     "execution_count": 161,
     "metadata": {},
     "output_type": "execute_result"
    }
   ],
   "source": [
    "np.unique(data).size"
   ]
  },
  {
   "cell_type": "markdown",
   "metadata": {},
   "source": [
    "What are the min, mean and max values?"
   ]
  },
  {
   "cell_type": "code",
   "execution_count": 162,
   "metadata": {
    "collapsed": false
   },
   "outputs": [
    {
     "data": {
      "text/plain": [
       "(-28099, -0.20075000000000001, 32767)"
      ]
     },
     "execution_count": 162,
     "metadata": {},
     "output_type": "execute_result"
    }
   ],
   "source": [
    "data.min(), data.mean(), data.max()"
   ]
  },
  {
   "cell_type": "code",
   "execution_count": 163,
   "metadata": {
    "collapsed": false
   },
   "outputs": [
    {
     "data": {
      "text/plain": [
       "32768.0"
      ]
     },
     "execution_count": 163,
     "metadata": {},
     "output_type": "execute_result"
    }
   ],
   "source": [
    "2**16 - 0.5 * 2**16 # 16-bit  PCM  -32768  +32767  int16"
   ]
  },
  {
   "cell_type": "markdown",
   "metadata": {},
   "source": [
    "Here is the waveform:"
   ]
  },
  {
   "cell_type": "code",
   "execution_count": 164,
   "metadata": {
    "collapsed": false
   },
   "outputs": [
    {
     "data": {
      "text/plain": [
       "(-32768, 32768)"
      ]
     },
     "execution_count": 164,
     "metadata": {},
     "output_type": "execute_result"
    },
    {
     "data": {
      "image/png": "[encoded data removed]",
      "text/plain": [
       "<matplotlib.figure.Figure at 0x1c150b1590>"
      ]
     },
     "metadata": {},
     "output_type": "display_data"
    }
   ],
   "source": [
    "plt.plot(times, data)\n",
    "plt.ylim(-2**15, 2**15)"
   ]
  },
  {
   "cell_type": "code",
   "execution_count": 165,
   "metadata": {
    "collapsed": false
   },
   "outputs": [
    {
     "data": {
      "text/plain": [
       "(-32768, 32768)"
      ]
     },
     "execution_count": 165,
     "metadata": {},
     "output_type": "execute_result"
    },
    {
     "data": {
      "image/png": "[encoded data removed]",
      "text/plain": [
       "<matplotlib.figure.Figure at 0x1c151c5350>"
      ]
     },
     "metadata": {},
     "output_type": "display_data"
    }
   ],
   "source": [
    "plt.plot(times, data)\n",
    "plt.xlim(0.25, 0.8)\n",
    "plt.ylim(-2**15, 2**15)"
   ]
  },
  {
   "cell_type": "markdown",
   "metadata": {},
   "source": [
    "Here is 1/100 of second in the middle:"
   ]
  },
  {
   "cell_type": "code",
   "execution_count": 166,
   "metadata": {
    "collapsed": false
   },
   "outputs": [
    {
     "data": {
      "text/plain": [
       "(-32768, 32768)"
      ]
     },
     "execution_count": 166,
     "metadata": {},
     "output_type": "execute_result"
    },
    {
     "data": {
      "image/png": "[encoded data removed]",
      "text/plain": [
       "<matplotlib.figure.Figure at 0x1c142bb250>"
      ]
     },
     "metadata": {},
     "output_type": "display_data"
    }
   ],
   "source": [
    "plt.plot(np.arange(6000, 6160) / float(sample_rate), data[6000:6160])\n",
    "plt.ylim(-2**15, 2**15)"
   ]
  },
  {
   "cell_type": "markdown",
   "metadata": {},
   "source": [
    "### Let's make a spectrogram manually"
   ]
  },
  {
   "cell_type": "markdown",
   "metadata": {},
   "source": [
    "The idea is to compute the DFT of the signal over a set of overlapping windows:"
   ]
  },
  {
   "cell_type": "code",
   "execution_count": 167,
   "metadata": {
    "collapsed": false
   },
   "outputs": [],
   "source": [
    "N = data.size\n",
    "freq = np.fft.fftfreq(n=N, d=1.0/sample_rate)\n",
    "Hn = np.fft.fft(data)"
   ]
  },
  {
   "cell_type": "code",
   "execution_count": 168,
   "metadata": {
    "collapsed": true
   },
   "outputs": [],
   "source": [
    "msk = ~(freq < 0.0)"
   ]
  },
  {
   "cell_type": "code",
   "execution_count": 169,
   "metadata": {
    "collapsed": false
   },
   "outputs": [
    {
     "data": {
      "text/plain": [
       "<matplotlib.text.Text at 0x1c14196250>"
      ]
     },
     "execution_count": 169,
     "metadata": {},
     "output_type": "execute_result"
    },
    {
     "data": {
      "image/png": "[encoded data removed]",
      "text/plain": [
       "<matplotlib.figure.Figure at 0x1813909750>"
      ]
     },
     "metadata": {},
     "output_type": "display_data"
    }
   ],
   "source": [
    "plt.plot(freq[msk], np.absolute(Hn[msk] / N))\n",
    "plt.xlim(0, 8000)\n",
    "plt.xlabel('w')\n",
    "plt.ylabel('|F(w)/N|')"
   ]
  },
  {
   "cell_type": "code",
   "execution_count": 170,
   "metadata": {
    "collapsed": false
   },
   "outputs": [],
   "source": [
    "samples_per_chunk = 256\n",
    "freq = np.fft.fftfreq(n=samples_per_chunk, d=1.0/sample_rate)\n",
    "ind = np.argwhere(freq > 0.0).flatten()\n",
    "chunks = data.size / samples_per_chunk\n",
    "times = np.linspace(0.0, 1.0, num=chunks)"
   ]
  },
  {
   "cell_type": "code",
   "execution_count": 171,
   "metadata": {
    "collapsed": false
   },
   "outputs": [],
   "source": [
    "acc = []\n",
    "for chunk in range(chunks):\n",
    "     Hn = np.fft.fft(data[chunk * samples_per_chunk:(chunk + 1) * samples_per_chunk])\n",
    "     Xn = np.absolute(Hn[ind])**2 + np.absolute(Hn[-ind])**2\n",
    "     acc.append(Xn)"
   ]
  },
  {
   "cell_type": "code",
   "execution_count": 172,
   "metadata": {
    "collapsed": false
   },
   "outputs": [
    {
     "data": {
      "image/png": "[encoded data removed]",
      "text/plain": [
       "<matplotlib.figure.Figure at 0x1c15193650>"
      ]
     },
     "metadata": {},
     "output_type": "display_data"
    }
   ],
   "source": [
    "plt.pcolormesh(times, freq[ind], np.array(acc).T, cmap='inferno')\n",
    "plt.ylim(0, 8e3)\n",
    "plt.ylabel('Frequency [Hz]')\n",
    "plt.xlabel('Time [sec]')\n",
    "plt.show()"
   ]
  },
  {
   "cell_type": "markdown",
   "metadata": {},
   "source": [
    "We could recover the w=8000 Hz values by making the samples_per_chunk value an odd number. Note that usually a spectrogram is made using overlapping windows. Here the windows do not overlap."
   ]
  },
  {
   "cell_type": "markdown",
   "metadata": {},
   "source": [
    "### Below we use SciPy to compute the spectrogram:"
   ]
  },
  {
   "cell_type": "code",
   "execution_count": 173,
   "metadata": {
    "collapsed": false
   },
   "outputs": [
    {
     "data": {
      "image/png": "[encoded data removed]",
      "text/plain": [
       "<matplotlib.figure.Figure at 0x1c145b2f10>"
      ]
     },
     "metadata": {},
     "output_type": "display_data"
    }
   ],
   "source": [
    "from scipy import signal\n",
    "\n",
    "sample_rate, samples = wavfile.read(f)\n",
    "assert sample_rate == 16000\n",
    "assert samples.size == 16000\n",
    "frequencies, times, spectrogram = signal.spectrogram(samples, fs=sample_rate, window=('tukey', 0.25), scaling='density')\n",
    "\n",
    "plt.pcolormesh(times, frequencies, spectrogram, cmap='inferno')\n",
    "plt.ylim(0, 8e3)\n",
    "plt.ylabel('Frequency [Hz]')\n",
    "plt.xlabel('Time [sec]')\n",
    "plt.show()"
   ]
  },
  {
   "cell_type": "code",
   "execution_count": 181,
   "metadata": {
    "collapsed": false
   },
   "outputs": [
    {
     "data": {
      "text/plain": [
       "array([    0. ,    62.5,   125. ,   187.5,   250. ,   312.5,   375. ,\n",
       "         437.5,   500. ,   562.5,   625. ,   687.5,   750. ,   812.5,\n",
       "         875. ,   937.5,  1000. ,  1062.5,  1125. ,  1187.5,  1250. ,\n",
       "        1312.5,  1375. ,  1437.5,  1500. ,  1562.5,  1625. ,  1687.5,\n",
       "        1750. ,  1812.5,  1875. ,  1937.5,  2000. ,  2062.5,  2125. ,\n",
       "        2187.5,  2250. ,  2312.5,  2375. ,  2437.5,  2500. ,  2562.5,\n",
       "        2625. ,  2687.5,  2750. ,  2812.5,  2875. ,  2937.5,  3000. ,\n",
       "        3062.5,  3125. ,  3187.5,  3250. ,  3312.5,  3375. ,  3437.5,\n",
       "        3500. ,  3562.5,  3625. ,  3687.5,  3750. ,  3812.5,  3875. ,\n",
       "        3937.5,  4000. ,  4062.5,  4125. ,  4187.5,  4250. ,  4312.5,\n",
       "        4375. ,  4437.5,  4500. ,  4562.5,  4625. ,  4687.5,  4750. ,\n",
       "        4812.5,  4875. ,  4937.5,  5000. ,  5062.5,  5125. ,  5187.5,\n",
       "        5250. ,  5312.5,  5375. ,  5437.5,  5500. ,  5562.5,  5625. ,\n",
       "        5687.5,  5750. ,  5812.5,  5875. ,  5937.5,  6000. ,  6062.5,\n",
       "        6125. ,  6187.5,  6250. ,  6312.5,  6375. ,  6437.5,  6500. ,\n",
       "        6562.5,  6625. ,  6687.5,  6750. ,  6812.5,  6875. ,  6937.5,\n",
       "        7000. ,  7062.5,  7125. ,  7187.5,  7250. ,  7312.5,  7375. ,\n",
       "        7437.5,  7500. ,  7562.5,  7625. ,  7687.5,  7750. ,  7812.5,\n",
       "        7875. ,  7937.5, -8000. ])"
      ]
     },
     "execution_count": 181,
     "metadata": {},
     "output_type": "execute_result"
    }
   ],
   "source": [
    "np.fft.fftfreq(256, 1.0/sample_rate)[:129]"
   ]
  },
  {
   "cell_type": "code",
   "execution_count": 175,
   "metadata": {
    "collapsed": false
   },
   "outputs": [
    {
     "data": {
      "text/plain": [
       "array([    0. ,    62.5,   125. ,   187.5,   250. ,   312.5,   375. ,\n",
       "         437.5,   500. ,   562.5,   625. ,   687.5,   750. ,   812.5,\n",
       "         875. ,   937.5,  1000. ,  1062.5,  1125. ,  1187.5,  1250. ,\n",
       "        1312.5,  1375. ,  1437.5,  1500. ,  1562.5,  1625. ,  1687.5,\n",
       "        1750. ,  1812.5,  1875. ,  1937.5,  2000. ,  2062.5,  2125. ,\n",
       "        2187.5,  2250. ,  2312.5,  2375. ,  2437.5,  2500. ,  2562.5,\n",
       "        2625. ,  2687.5,  2750. ,  2812.5,  2875. ,  2937.5,  3000. ,\n",
       "        3062.5,  3125. ,  3187.5,  3250. ,  3312.5,  3375. ,  3437.5,\n",
       "        3500. ,  3562.5,  3625. ,  3687.5,  3750. ,  3812.5,  3875. ,\n",
       "        3937.5,  4000. ,  4062.5,  4125. ,  4187.5,  4250. ,  4312.5,\n",
       "        4375. ,  4437.5,  4500. ,  4562.5,  4625. ,  4687.5,  4750. ,\n",
       "        4812.5,  4875. ,  4937.5,  5000. ,  5062.5,  5125. ,  5187.5,\n",
       "        5250. ,  5312.5,  5375. ,  5437.5,  5500. ,  5562.5,  5625. ,\n",
       "        5687.5,  5750. ,  5812.5,  5875. ,  5937.5,  6000. ,  6062.5,\n",
       "        6125. ,  6187.5,  6250. ,  6312.5,  6375. ,  6437.5,  6500. ,\n",
       "        6562.5,  6625. ,  6687.5,  6750. ,  6812.5,  6875. ,  6937.5,\n",
       "        7000. ,  7062.5,  7125. ,  7187.5,  7250. ,  7312.5,  7375. ,\n",
       "        7437.5,  7500. ,  7562.5,  7625. ,  7687.5,  7750. ,  7812.5,\n",
       "        7875. ,  7937.5,  8000. ])"
      ]
     },
     "execution_count": 175,
     "metadata": {},
     "output_type": "execute_result"
    }
   ],
   "source": [
    "frequencies"
   ]
  },
  {
   "cell_type": "code",
   "execution_count": 176,
   "metadata": {
    "collapsed": false
   },
   "outputs": [
    {
     "data": {
      "text/plain": [
       "<matplotlib.image.AxesImage at 0x1c15c26d10>"
      ]
     },
     "execution_count": 176,
     "metadata": {},
     "output_type": "execute_result"
    },
    {
     "data": {
      "image/png": "[encoded data removed]",
      "text/plain": [
       "<matplotlib.figure.Figure at 0x1c142a6150>"
      ]
     },
     "metadata": {},
     "output_type": "display_data"
    }
   ],
   "source": [
    "# spectrogram[::-1,] to invert vertically\n",
    "plt.imshow(spectrogram / spectrogram.max(), cmap='inferno', interpolation='none')"
   ]
  },
  {
   "cell_type": "code",
   "execution_count": 177,
   "metadata": {
    "collapsed": false
   },
   "outputs": [
    {
     "data": {
      "text/plain": [
       "(129, 71)"
      ]
     },
     "execution_count": 177,
     "metadata": {},
     "output_type": "execute_result"
    }
   ],
   "source": [
    "height, width = spectrogram.shape\n",
    "height, width"
   ]
  },
  {
   "cell_type": "code",
   "execution_count": 178,
   "metadata": {
    "collapsed": false
   },
   "outputs": [
    {
     "data": {
      "text/plain": [
       "(numpy.ndarray, dtype('float32'))"
      ]
     },
     "execution_count": 178,
     "metadata": {},
     "output_type": "execute_result"
    }
   ],
   "source": [
    "type(spectrogram), spectrogram.dtype"
   ]
  },
  {
   "cell_type": "code",
   "execution_count": 179,
   "metadata": {
    "collapsed": false
   },
   "outputs": [
    {
     "data": {
      "text/plain": [
       "(6.7560459e-09, 2645.7983, 654511.19)"
      ]
     },
     "execution_count": 179,
     "metadata": {},
     "output_type": "execute_result"
    }
   ],
   "source": [
    "spectrogram.min(), spectrogram.mean(), spectrogram.max()"
   ]
  },
  {
   "cell_type": "markdown",
   "metadata": {},
   "source": [
    "### Prepare the data for Tensorflow"
   ]
  },
  {
   "cell_type": "code",
   "execution_count": 22,
   "metadata": {
    "collapsed": true
   },
   "outputs": [],
   "source": [
    "import glob"
   ]
  },
  {
   "cell_type": "code",
   "execution_count": 23,
   "metadata": {
    "collapsed": true
   },
   "outputs": [],
   "source": [
    "yes = glob.glob('datasets/speech_commands_v0.01/yes/*.wav')\n",
    "nine = glob.glob('datasets/speech_commands_v0.01/nine/*.wav')"
   ]
  },
  {
   "cell_type": "markdown",
   "metadata": {},
   "source": [
    "Shuffle the paths and labels:"
   ]
  },
  {
   "cell_type": "code",
   "execution_count": 24,
   "metadata": {
    "collapsed": false
   },
   "outputs": [],
   "source": [
    "paths = np.array(yes + nine)\n",
    "labels = np.append(np.zeros(len(yes), dtype=np.int32), [np.ones(len(nine), dtype=np.int32)])\n",
    "indices = np.arange(paths.size)\n",
    "np.random.shuffle(indices)"
   ]
  },
  {
   "cell_type": "code",
   "execution_count": 25,
   "metadata": {
    "collapsed": true
   },
   "outputs": [],
   "source": [
    "paths = paths[indices]\n",
    "labels = labels[indices]"
   ]
  },
  {
   "cell_type": "code",
   "execution_count": 26,
   "metadata": {
    "collapsed": false
   },
   "outputs": [
    {
     "data": {
      "text/plain": [
       "array([2377, 2364])"
      ]
     },
     "execution_count": 26,
     "metadata": {},
     "output_type": "execute_result"
    }
   ],
   "source": [
    "np.bincount(labels)"
   ]
  },
  {
   "cell_type": "markdown",
   "metadata": {},
   "source": [
    "Remove samples which are not 1 second long and recorded at 16 kHz:"
   ]
  },
  {
   "cell_type": "code",
   "execution_count": 27,
   "metadata": {
    "collapsed": false
   },
   "outputs": [],
   "source": [
    "clean_paths = []\n",
    "clean_labels = []\n",
    "for path, label in zip(paths, labels):\n",
    "     sample_rate, samples = wavfile.read(path)\n",
    "     if (sample_rate == 16000) and (samples.size == 16000):\n",
    "          clean_paths.append(path)\n",
    "          clean_labels.append(label)\n",
    "paths = np.array(clean_paths)\n",
    "labels = np.array(clean_labels)"
   ]
  },
  {
   "cell_type": "code",
   "execution_count": 28,
   "metadata": {
    "collapsed": false
   },
   "outputs": [
    {
     "data": {
      "text/plain": [
       "array([2157, 2174])"
      ]
     },
     "execution_count": 28,
     "metadata": {},
     "output_type": "execute_result"
    }
   ],
   "source": [
    "np.bincount(labels)"
   ]
  },
  {
   "cell_type": "markdown",
   "metadata": {},
   "source": [
    "Create a train-test split:"
   ]
  },
  {
   "cell_type": "code",
   "execution_count": 29,
   "metadata": {
    "collapsed": false
   },
   "outputs": [],
   "source": [
    "train_size = 0.8\n",
    "thres = int(paths.size * train_size)\n",
    "train_paths = paths[:thres]\n",
    "train_labels = labels[:thres]\n",
    "test_paths = paths[thres:]\n",
    "test_labels = labels[thres:]"
   ]
  },
  {
   "cell_type": "code",
   "execution_count": 30,
   "metadata": {
    "collapsed": true
   },
   "outputs": [],
   "source": [
    "def fetch_batch(sound_paths, sound_labels, batch_size=25):\n",
    "     indices = np.random.choice(np.arange(sound_paths.size), size=batch_size, replace=False)\n",
    "     acc = []\n",
    "     for path in sound_paths[indices]:\n",
    "          sample_rate, samples = wavfile.read(path)\n",
    "          frequencies, times, spectrogram = signal.spectrogram(samples, fs=sample_rate)\n",
    "          acc.append(spectrogram / spectrogram.max()) # scale to [0, 1]\n",
    "     return np.array(acc), sound_labels[indices]"
   ]
  },
  {
   "cell_type": "code",
   "execution_count": 31,
   "metadata": {
    "collapsed": false
   },
   "outputs": [
    {
     "data": {
      "text/plain": [
       "(867, 129, 71)"
      ]
     },
     "execution_count": 31,
     "metadata": {},
     "output_type": "execute_result"
    }
   ],
   "source": [
    "X_test, y_test = fetch_batch(test_paths, test_labels, batch_size=test_paths.size)\n",
    "X_test.shape"
   ]
  },
  {
   "cell_type": "code",
   "execution_count": 32,
   "metadata": {
    "collapsed": false
   },
   "outputs": [
    {
     "data": {
      "text/plain": [
       "array([424, 443])"
      ]
     },
     "execution_count": 32,
     "metadata": {},
     "output_type": "execute_result"
    }
   ],
   "source": [
    "np.bincount(y_test)"
   ]
  },
  {
   "cell_type": "code",
   "execution_count": 33,
   "metadata": {
    "collapsed": false
   },
   "outputs": [],
   "source": [
    "ind_0 = np.argwhere(y_test == 0).flatten()\n",
    "ind_1 = np.argwhere(y_test == 1).flatten()"
   ]
  },
  {
   "cell_type": "code",
   "execution_count": 34,
   "metadata": {
    "collapsed": false
   },
   "outputs": [
    {
     "data": {
      "image/png": "[encoded data removed]",
      "text/plain": [
       "<matplotlib.figure.Figure at 0x1c14414e90>"
      ]
     },
     "metadata": {},
     "output_type": "display_data"
    }
   ],
   "source": [
    "fig, ax = plt.subplots(nrows=2, ncols=6, figsize=(10, 5))\n",
    "for j in range(6):\n",
    "     ax[0, j].imshow(X_test[ind_0[j]], cmap='binary', interpolation='none')\n",
    "     ax[0, j].set_title('yes')\n",
    "for j in range(6):\n",
    "     ax[1, j].imshow(X_test[ind_1[j]], cmap='binary', interpolation='none')\n",
    "     ax[1, j].set_title('nine')\n",
    "fig.tight_layout()"
   ]
  },
  {
   "cell_type": "markdown",
   "metadata": {},
   "source": [
    "### Check the sigmoid function in TF"
   ]
  },
  {
   "cell_type": "code",
   "execution_count": 35,
   "metadata": {
    "collapsed": true
   },
   "outputs": [],
   "source": [
    "import tensorflow as tf"
   ]
  },
  {
   "cell_type": "code",
   "execution_count": 36,
   "metadata": {
    "collapsed": true
   },
   "outputs": [],
   "source": [
    "tf.reset_default_graph()"
   ]
  },
  {
   "cell_type": "code",
   "execution_count": 37,
   "metadata": {
    "collapsed": false
   },
   "outputs": [],
   "source": [
    "x = tf.constant(np.linspace(-5, 5, num=250))\n",
    "y = tf.sigmoid(x)"
   ]
  },
  {
   "cell_type": "code",
   "execution_count": 38,
   "metadata": {
    "collapsed": false
   },
   "outputs": [
    {
     "data": {
      "image/png": "[encoded data removed]",
      "text/plain": [
       "<matplotlib.figure.Figure at 0x1c22322d50>"
      ]
     },
     "metadata": {},
     "output_type": "display_data"
    }
   ],
   "source": [
    "with tf.Session() as sess:\n",
    "     plt.plot(x.eval(), y.eval())"
   ]
  },
  {
   "cell_type": "markdown",
   "metadata": {},
   "source": [
    "### Train a CNN in tensorflow"
   ]
  },
  {
   "cell_type": "code",
   "execution_count": 89,
   "metadata": {
    "collapsed": false
   },
   "outputs": [
    {
     "name": "stdout",
     "output_type": "stream",
     "text": [
      "\n"
     ]
    }
   ],
   "source": [
    "tf.reset_default_graph()"
   ]
  },
  {
   "cell_type": "code",
   "execution_count": 90,
   "metadata": {
    "collapsed": true
   },
   "outputs": [],
   "source": [
    "with tf.name_scope('inputs'):\n",
    "     X = tf.placeholder(dtype=tf.float32, shape=(None, height, width), name=\"X\")\n",
    "     X_reshaped = tf.reshape(X, shape=(-1, height, width, 1))\n",
    "     y = tf.placeholder(dtype=tf.int32, shape=(None), name=\"y\")"
   ]
  },
  {
   "cell_type": "code",
   "execution_count": 91,
   "metadata": {
    "collapsed": true
   },
   "outputs": [],
   "source": [
    "conv1_fmaps = 20\n",
    "conv2_fmaps = 40\n",
    "training = tf.placeholder_with_default(False, shape=(None))"
   ]
  },
  {
   "cell_type": "code",
   "execution_count": 92,
   "metadata": {
    "collapsed": true
   },
   "outputs": [],
   "source": [
    "dropout_rate = 0.5\n",
    "X_drop = tf.layers.dropout(X_reshaped, dropout_rate, training=training)"
   ]
  },
  {
   "cell_type": "code",
   "execution_count": 93,
   "metadata": {
    "collapsed": false
   },
   "outputs": [],
   "source": [
    "# https://www.tensorflow.org/versions/master/tutorials/audio_recognition#how_does_this_model_work\n",
    "# https://github.com/tensorflow/tensorflow/blob/master/tensorflow/examples/speech_commands/models.py\n",
    "conv_1 = tf.layers.conv2d(X_drop, filters=conv1_fmaps, kernel_size=3, strides=[1, 1], padding=\"SAME\", activation=tf.nn.relu)\n",
    "do_1 = tf.layers.dropout(conv_1, dropout_rate, training=training)\n",
    "max_pool_1 = tf.nn.max_pool(do_1, ksize=[1, 2, 2, 1], strides=[1, 2, 2, 1], padding=\"VALID\")\n",
    "conv_2 = tf.layers.conv2d(max_pool_1, filters=conv2_fmaps, kernel_size=2, strides=[2, 2], padding=\"SAME\", activation=tf.nn.relu)\n",
    "do_2 = tf.layers.dropout(conv_2, dropout_rate, training=training)\n",
    "max_pool_2 = tf.nn.max_pool(do_2, ksize=[1, 2, 2, 1], strides=[1, 2, 2, 1], padding=\"VALID\")\n",
    "\n",
    "with tf.name_scope(\"fc1\"):\n",
    "     max_pool_2_flat = tf.reshape(max_pool_2, shape=[-1, conv2_fmaps * 16 *  9])\n",
    "     full_1 = tf.layers.dense(max_pool_2_flat, units=50, activation=tf.nn.relu)\n",
    "\n",
    "with tf.name_scope(\"output\"):\n",
    "     prob_positive = tf.layers.dense(full_1, units=1, activation=tf.sigmoid, name='outputs')"
   ]
  },
  {
   "cell_type": "code",
   "execution_count": 94,
   "metadata": {
    "collapsed": false
   },
   "outputs": [],
   "source": [
    "with tf.name_scope('loss'):\n",
    "     loss = tf.losses.log_loss(labels=y, predictions=tf.squeeze(prob_positive))"
   ]
  },
  {
   "cell_type": "code",
   "execution_count": 95,
   "metadata": {
    "collapsed": true
   },
   "outputs": [],
   "source": [
    "learning_rate = 0.01\n",
    "optimizer = tf.train.MomentumOptimizer(learning_rate=learning_rate, momentum=0.95, use_nesterov=True)\n",
    "training_op = optimizer.minimize(loss)"
   ]
  },
  {
   "cell_type": "code",
   "execution_count": 96,
   "metadata": {
    "collapsed": false
   },
   "outputs": [],
   "source": [
    "with tf.name_scope('my_metrics'):\n",
    "     thres = 0.5\n",
    "     y_pred = tf.cast(prob_positive > thres, tf.int32)\n",
    "     cm = tf.confusion_matrix(labels=y, predictions=y_pred, num_classes=2, dtype=tf.float64)\n",
    "     accuracy = tf.trace(cm) / tf.reduce_sum(cm)"
   ]
  },
  {
   "cell_type": "code",
   "execution_count": 97,
   "metadata": {
    "collapsed": true
   },
   "outputs": [],
   "source": [
    "init = tf.global_variables_initializer()"
   ]
  },
  {
   "cell_type": "code",
   "execution_count": 98,
   "metadata": {
    "collapsed": false
   },
   "outputs": [],
   "source": [
    "batch_size = 50\n",
    "n_epochs = 100"
   ]
  },
  {
   "cell_type": "code",
   "execution_count": 99,
   "metadata": {
    "collapsed": false
   },
   "outputs": [
    {
     "name": "stdout",
     "output_type": "stream",
     "text": [
      "0 ----------\n",
      "Accuracy (train): 0.850750577367\n",
      "Accuracy (test): 0.838523644752\n",
      "Loss (train): 0.486716\n",
      "Loss (test): 0.486409\n",
      "10 ----------\n",
      "Accuracy (train): 0.957563510393\n",
      "Accuracy (test): 0.926182237601\n",
      "Loss (train): 0.164456\n",
      "Loss (test): 0.202525\n",
      "20 ----------\n",
      "Accuracy (train): 0.971420323326\n",
      "Accuracy (test): 0.953863898501\n",
      "Loss (train): 0.118466\n",
      "Loss (test): 0.159129\n",
      "30 ----------\n",
      "Accuracy (train): 0.974595842956\n",
      "Accuracy (test): 0.943483275663\n",
      "Loss (train): 0.102518\n",
      "Loss (test): 0.152815\n",
      "40 ----------\n",
      "Accuracy (train): 0.977482678984\n",
      "Accuracy (test): 0.958477508651\n",
      "Loss (train): 0.091542\n",
      "Loss (test): 0.141425\n",
      "50 ----------\n",
      "Accuracy (train): 0.983833718245\n",
      "Accuracy (test): 0.964244521338\n",
      "Loss (train): 0.0583616\n",
      "Loss (test): 0.111211\n",
      "60 ----------\n",
      "Accuracy (train): 0.981524249423\n",
      "Accuracy (test): 0.959630911188\n",
      "Loss (train): 0.0693056\n",
      "Loss (test): 0.117304\n",
      "70 ----------\n",
      "Accuracy (train): 0.974884526559\n",
      "Accuracy (test): 0.944636678201\n",
      "Loss (train): 0.0958035\n",
      "Loss (test): 0.149518\n",
      "80 ----------\n",
      "Accuracy (train): 0.98643187067\n",
      "Accuracy (test): 0.959630911188\n",
      "Loss (train): 0.0594702\n",
      "Loss (test): 0.11705\n",
      "90 ----------\n",
      "Accuracy (train): 0.992205542725\n",
      "Accuracy (test): 0.9723183391\n",
      "Loss (train): 0.0549494\n",
      "Loss (test): 0.104147\n",
      "100 ----------\n",
      "Accuracy (train): 0.993937644342\n",
      "Accuracy (test): 0.9630911188\n",
      "Loss (train): 0.0296198\n",
      "Loss (test): 0.0925152\n"
     ]
    }
   ],
   "source": [
    "with tf.Session() as sess:\n",
    "     init.run()\n",
    "     for epoch in xrange(n_epochs + 1):\n",
    "          for iteration in range(train_paths.size // batch_size):\n",
    "               X_batch, y_batch = fetch_batch(train_paths, train_labels, batch_size)\n",
    "               #print max_pool_2.shape\n",
    "               sess.run(training_op, feed_dict={X:X_batch, y:y_batch, training:True})\n",
    "          if not (epoch % 10):\n",
    "               print epoch, \"----------\"\n",
    "               print \"Accuracy (train):\", accuracy.eval(feed_dict={X:X_train, y:y_train})\n",
    "               print \"Accuracy (test):\", accuracy.eval(feed_dict={X:X_test, y:y_test})\n",
    "               print \"Loss (train):\", loss.eval(feed_dict={X:X_train, y:y_train})\n",
    "               print \"Loss (test):\", loss.eval(feed_dict={X:X_test, y:y_test})"
   ]
  },
  {
   "cell_type": "markdown",
   "metadata": {},
   "source": [
    "### Let's try a simple model based on the sum of values in each spectrogram"
   ]
  },
  {
   "cell_type": "code",
   "execution_count": 49,
   "metadata": {
    "collapsed": true
   },
   "outputs": [],
   "source": [
    "X_train, y_train = fetch_batch(train_paths, train_labels, batch_size=train_paths.size)"
   ]
  },
  {
   "cell_type": "code",
   "execution_count": 50,
   "metadata": {
    "collapsed": true
   },
   "outputs": [],
   "source": [
    "spectrogram_sum = np.array([spectrogram.sum() for spectrogram in X_train])"
   ]
  },
  {
   "cell_type": "code",
   "execution_count": 51,
   "metadata": {
    "collapsed": false
   },
   "outputs": [
    {
     "data": {
      "text/plain": [
       "array([[ 1.        ,  0.57153512],\n",
       "       [ 0.57153512,  1.        ]])"
      ]
     },
     "execution_count": 51,
     "metadata": {},
     "output_type": "execute_result"
    }
   ],
   "source": [
    "np.corrcoef(spectrogram_sum, y_train)"
   ]
  },
  {
   "cell_type": "code",
   "execution_count": 52,
   "metadata": {
    "collapsed": false
   },
   "outputs": [
    {
     "data": {
      "text/plain": [
       "<matplotlib.text.Text at 0x1c22b8d710>"
      ]
     },
     "execution_count": 52,
     "metadata": {},
     "output_type": "execute_result"
    },
    {
     "data": {
      "image/png": "[encoded data removed]",
      "text/plain": [
       "<matplotlib.figure.Figure at 0x1c22337350>"
      ]
     },
     "metadata": {},
     "output_type": "display_data"
    }
   ],
   "source": [
    "plt.hist(spectrogram_sum[y_train == 0], bins=25, histtype='step', label='Yes')\n",
    "plt.hist(spectrogram_sum[y_train == 1], bins=25, histtype='step', label='Nine')\n",
    "plt.legend()\n",
    "plt.xlabel('Sum of Spectrogram Values')\n",
    "plt.ylabel('Count')"
   ]
  },
  {
   "cell_type": "code",
   "execution_count": 53,
   "metadata": {
    "collapsed": false
   },
   "outputs": [
    {
     "name": "stdout",
     "output_type": "stream",
     "text": [
      "0.792147806005\n"
     ]
    }
   ],
   "source": [
    "from sklearn.linear_model import LogisticRegression\n",
    "\n",
    "lr = LogisticRegression()\n",
    "X = spectrogram_sum.reshape(-1, 1)\n",
    "print lr.fit(X, y_train).score(X, y_train)"
   ]
  },
  {
   "cell_type": "markdown",
   "metadata": {},
   "source": [
    "We see that we achieve 79% accuracy on the train data when the sum of the spectrogram values is used as the only feature."
   ]
  },
  {
   "cell_type": "markdown",
   "metadata": {},
   "source": [
    "### Fully connected DNN"
   ]
  },
  {
   "cell_type": "markdown",
   "metadata": {},
   "source": [
    "Let's try using the same features as the CNN but this time with a fully connected DNN:"
   ]
  },
  {
   "cell_type": "code",
   "execution_count": 54,
   "metadata": {
    "collapsed": false
   },
   "outputs": [],
   "source": [
    "tf.reset_default_graph()"
   ]
  },
  {
   "cell_type": "code",
   "execution_count": 55,
   "metadata": {
    "collapsed": true
   },
   "outputs": [],
   "source": [
    "training = tf.placeholder_with_default(False, shape=(None))"
   ]
  },
  {
   "cell_type": "code",
   "execution_count": 56,
   "metadata": {
    "collapsed": true
   },
   "outputs": [],
   "source": [
    "with tf.name_scope('inputs'):\n",
    "     X = tf.placeholder(dtype=tf.float32, shape=(None, height, width), name=\"X\")\n",
    "     X_reshaped = tf.reshape(X, shape=(-1, height * width))\n",
    "     y = tf.placeholder(dtype=tf.int32, shape=(None), name=\"y\")"
   ]
  },
  {
   "cell_type": "markdown",
   "metadata": {},
   "source": [
    "Dropout was added since the network was overfitting. It still appears to be overfitting. Logistic regression gives essentially the same score which suggests that a multi-layer DNN cannot be used without more data."
   ]
  },
  {
   "cell_type": "code",
   "execution_count": 57,
   "metadata": {
    "collapsed": true
   },
   "outputs": [],
   "source": [
    "dropout_rate = 0.75\n",
    "X_drop = tf.layers.dropout(X_reshaped, dropout_rate, training=training)"
   ]
  },
  {
   "cell_type": "code",
   "execution_count": 58,
   "metadata": {
    "collapsed": false
   },
   "outputs": [],
   "source": [
    "n_neurons = 25\n",
    "with tf.name_scope(\"fc1\"):\n",
    "     fc_1 = tf.layers.dense(X_drop, units=n_neurons, activation=tf.nn.elu)\n",
    "     do_1 = tf.layers.dropout(fc_1, dropout_rate, training=training)\n",
    "     #fc_2 = tf.layers.dense(do_1, units=n_neurons, activation=tf.nn.elu)\n",
    "     #do_2 = tf.layers.dropout(fc_2, dropout_rate, training=training)\n",
    "     #fc_3 = tf.layers.dense(do_2, units=n_neurons, activation=tf.nn.elu)\n",
    "     #do_3 = tf.layers.dropout(fc_3, dropout_rate, training=training)\n",
    "     #fc_4 = tf.layers.dense(do_3, units=n_neurons, activation=tf.nn.elu)\n",
    "     #do_4 = tf.layers.dropout(fc_4, dropout_rate, training=training)\n",
    "     prob_positive = tf.layers.dense(do_1, units=1, activation=tf.sigmoid, name='output')"
   ]
  },
  {
   "cell_type": "code",
   "execution_count": 59,
   "metadata": {
    "collapsed": false
   },
   "outputs": [],
   "source": [
    "with tf.name_scope('loss'):\n",
    "     loss = tf.losses.log_loss(labels=y, predictions=tf.squeeze(prob_positive))"
   ]
  },
  {
   "cell_type": "code",
   "execution_count": 60,
   "metadata": {
    "collapsed": true
   },
   "outputs": [],
   "source": [
    "learning_rate = 0.01\n",
    "optimizer = tf.train.MomentumOptimizer(learning_rate=learning_rate, momentum=0.9, use_nesterov=True)\n",
    "training_op = optimizer.minimize(loss)"
   ]
  },
  {
   "cell_type": "code",
   "execution_count": 61,
   "metadata": {
    "collapsed": false
   },
   "outputs": [],
   "source": [
    "with tf.name_scope('my_metrics'):\n",
    "     thres = 0.5\n",
    "     y_pred = tf.cast(prob_positive > thres, tf.int32)\n",
    "     cm = tf.confusion_matrix(labels=y, predictions=y_pred, num_classes=2, dtype=tf.float64)\n",
    "     accuracy = tf.trace(cm) / tf.reduce_sum(cm)"
   ]
  },
  {
   "cell_type": "code",
   "execution_count": 62,
   "metadata": {
    "collapsed": true
   },
   "outputs": [],
   "source": [
    "init = tf.global_variables_initializer()"
   ]
  },
  {
   "cell_type": "code",
   "execution_count": 63,
   "metadata": {
    "collapsed": true
   },
   "outputs": [],
   "source": [
    "batch_size = 50\n",
    "n_epochs = 100"
   ]
  },
  {
   "cell_type": "code",
   "execution_count": 64,
   "metadata": {
    "collapsed": false,
    "scrolled": false
   },
   "outputs": [
    {
     "name": "stdout",
     "output_type": "stream",
     "text": [
      "0 ----------\n",
      "Accuracy (train): 0.866050808314\n",
      "Accuracy (test): 0.851211072664\n",
      "Loss (train): 0.476797\n",
      "Loss (test): 0.475631\n",
      "10 ----------\n",
      "Accuracy (train): 0.923498845266\n",
      "Accuracy (test): 0.903114186851\n",
      "Loss (train): 0.215439\n",
      "Loss (test): 0.234427\n",
      "20 ----------\n",
      "Accuracy (train): 0.930715935335\n",
      "Accuracy (test): 0.911188004614\n",
      "Loss (train): 0.184212\n",
      "Loss (test): 0.214648\n",
      "30 ----------\n",
      "Accuracy (train): 0.936200923788\n",
      "Accuracy (test): 0.905420991926\n",
      "Loss (train): 0.17559\n",
      "Loss (test): 0.209234\n",
      "40 ----------\n",
      "Accuracy (train): 0.937933025404\n",
      "Accuracy (test): 0.906574394464\n",
      "Loss (train): 0.166376\n",
      "Loss (test): 0.206853\n",
      "50 ----------\n",
      "Accuracy (train): 0.940531177829\n",
      "Accuracy (test): 0.913494809689\n",
      "Loss (train): 0.158643\n",
      "Loss (test): 0.203325\n",
      "60 ----------\n",
      "Accuracy (train): 0.94370669746\n",
      "Accuracy (test): 0.911188004614\n",
      "Loss (train): 0.15236\n",
      "Loss (test): 0.197532\n",
      "70 ----------\n",
      "Accuracy (train): 0.945150115473\n",
      "Accuracy (test): 0.908881199539\n",
      "Loss (train): 0.149236\n",
      "Loss (test): 0.199618\n",
      "80 ----------\n",
      "Accuracy (train): 0.946593533487\n",
      "Accuracy (test): 0.911188004614\n",
      "Loss (train): 0.146424\n",
      "Loss (test): 0.197463\n",
      "90 ----------\n",
      "Accuracy (train): 0.948614318707\n",
      "Accuracy (test): 0.913494809689\n",
      "Loss (train): 0.144565\n",
      "Loss (test): 0.194516\n",
      "100 ----------\n",
      "Accuracy (train): 0.947459584296\n",
      "Accuracy (test): 0.916955017301\n",
      "Loss (train): 0.140705\n",
      "Loss (test): 0.190338\n"
     ]
    }
   ],
   "source": [
    "with tf.Session() as sess:\n",
    "     init.run()\n",
    "     for epoch in xrange(n_epochs + 1):\n",
    "          for iteration in range(train_paths.size // batch_size):\n",
    "               X_batch, y_batch = fetch_batch(train_paths, train_labels, batch_size)\n",
    "               sess.run(training_op, feed_dict={X:X_batch, y:y_batch, training:True})\n",
    "          if (epoch % 10 == 0):\n",
    "               print epoch, \"----------\"\n",
    "               print \"Accuracy (train):\", accuracy.eval(feed_dict={X:X_train, y:y_train})\n",
    "               print \"Accuracy (test):\", accuracy.eval(feed_dict={X:X_test, y:y_test})\n",
    "               print \"Loss (train):\", loss.eval(feed_dict={X:X_train, y:y_train})\n",
    "               print \"Loss (test):\", loss.eval(feed_dict={X:X_test, y:y_test})"
   ]
  },
  {
   "cell_type": "markdown",
   "metadata": {},
   "source": [
    "### Logistic regression applied to flattened image data"
   ]
  },
  {
   "cell_type": "code",
   "execution_count": 65,
   "metadata": {
    "collapsed": false
   },
   "outputs": [],
   "source": [
    "param_grid = [{'C':np.logspace(-1, 1, num=10, base=10.0)}]"
   ]
  },
  {
   "cell_type": "code",
   "execution_count": 66,
   "metadata": {
    "collapsed": false
   },
   "outputs": [
    {
     "data": {
      "text/plain": [
       "0.89850057670126871"
      ]
     },
     "execution_count": 66,
     "metadata": {},
     "output_type": "execute_result"
    }
   ],
   "source": [
    "from sklearn.model_selection import GridSearchCV\n",
    "\n",
    "lr = LogisticRegression(penalty='l2', class_weight='balanced')\n",
    "gs = GridSearchCV(lr, param_grid, cv=5, scoring='accuracy', refit=True)\n",
    "gs = gs.fit(X_train.reshape(-1, height * width), y_train)\n",
    "gs.score(X_test.reshape(-1, height * width), y_test)"
   ]
  },
  {
   "cell_type": "code",
   "execution_count": 67,
   "metadata": {
    "collapsed": false
   },
   "outputs": [
    {
     "data": {
      "text/plain": [
       "{'C': 0.27825594022071243}"
      ]
     },
     "execution_count": 67,
     "metadata": {},
     "output_type": "execute_result"
    }
   ],
   "source": [
    "gs.best_params_"
   ]
  },
  {
   "cell_type": "markdown",
   "metadata": {},
   "source": [
    "# Conclusions"
   ]
  },
  {
   "cell_type": "markdown",
   "metadata": {},
   "source": [
    "The table below shows the model performance. As expected the CNN outperformed the others."
   ]
  },
  {
   "cell_type": "markdown",
   "metadata": {},
   "source": [
    "| Model | Accuracy   |\n",
    "|------|------|\n",
    "|   Sum spectrogram  | 79%|\n",
    "|   Logistic Reg.  | 90%|\n",
    "|   DNN  | 91%|\n",
    "|   CNN  | 96%|"
   ]
  }
 ],
 "metadata": {
  "anaconda-cloud": {},
  "kernelspec": {
   "display_name": "Python [conda root]",
   "language": "python",
   "name": "conda-root-py"
  },
  "language_info": {
   "codemirror_mode": {
    "name": "ipython",
    "version": 2
   },
   "file_extension": ".py",
   "mimetype": "text/x-python",
   "name": "python",
   "nbconvert_exporter": "python",
   "pygments_lexer": "ipython2",
   "version": "2.7.12"
  }
 },
 "nbformat": 4,
 "nbformat_minor": 1
}
