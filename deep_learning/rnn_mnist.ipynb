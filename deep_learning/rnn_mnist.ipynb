{
 "cells": [
  {
   "cell_type": "markdown",
   "metadata": {},
   "source": [
    "# Jonathan Halverson\n",
    "# Wednesday, December 6, 2017\n",
    "# RNN applied to MNIST"
   ]
  },
  {
   "cell_type": "markdown",
   "metadata": {},
   "source": [
    "While RNN's are usually used to predict the future (since they have memory in a sense), here we use one to do image classification."
   ]
  },
  {
   "cell_type": "code",
   "execution_count": 1,
   "metadata": {
    "collapsed": true
   },
   "outputs": [],
   "source": [
    "import tensorflow as tf"
   ]
  },
  {
   "cell_type": "code",
   "execution_count": 2,
   "metadata": {
    "collapsed": true
   },
   "outputs": [],
   "source": [
    "tf.reset_default_graph()"
   ]
  },
  {
   "cell_type": "code",
   "execution_count": 3,
   "metadata": {
    "collapsed": true
   },
   "outputs": [],
   "source": [
    "n_steps = 28\n",
    "n_inputs = 28\n",
    "n_neurons = 150\n",
    "n_outputs = 10"
   ]
  },
  {
   "cell_type": "code",
   "execution_count": 4,
   "metadata": {
    "collapsed": true
   },
   "outputs": [],
   "source": [
    "learning_rate = 0.001"
   ]
  },
  {
   "cell_type": "code",
   "execution_count": 5,
   "metadata": {
    "collapsed": false
   },
   "outputs": [],
   "source": [
    "X = tf.placeholder(tf.float32, [None, n_steps, n_inputs])\n",
    "y = tf.placeholder(tf.int32, [None])\n",
    "L = tf.placeholder(dtype=tf.int32, shape=(None))\n",
    "training = tf.placeholder_with_default(False, (None))"
   ]
  },
  {
   "cell_type": "code",
   "execution_count": 6,
   "metadata": {
    "collapsed": false
   },
   "outputs": [],
   "source": [
    "my_cell = tf.contrib.rnn.BasicRNNCell(num_units=n_neurons)\n",
    "#my_cell = tf.contrib.rnn.BasicLSTMCell(num_units=n_neurons, state_is_tuple=False)\n",
    "outputs, states = tf.nn.dynamic_rnn(my_cell, X, dtype=tf.float32, sequence_length=L)"
   ]
  },
  {
   "cell_type": "code",
   "execution_count": 7,
   "metadata": {
    "collapsed": false
   },
   "outputs": [],
   "source": [
    "# use only the final state of the cell\n",
    "fc_drop = tf.layers.dropout(states, rate=0.0, training=training)\n",
    "logits = tf.layers.dense(fc_drop, n_outputs)\n",
    "xentropy = tf.nn.sparse_softmax_cross_entropy_with_logits(labels=y, logits=logits)"
   ]
  },
  {
   "cell_type": "code",
   "execution_count": 8,
   "metadata": {
    "collapsed": false
   },
   "outputs": [],
   "source": [
    "loss = tf.reduce_mean(xentropy)\n",
    "optimizer = tf.train.AdamOptimizer(learning_rate=learning_rate)\n",
    "training_op = optimizer.minimize(loss)\n",
    "correct = tf.nn.in_top_k(logits, y, 1)\n",
    "accuracy = tf.reduce_mean(tf.cast(correct, tf.float32))"
   ]
  },
  {
   "cell_type": "code",
   "execution_count": 9,
   "metadata": {
    "collapsed": false
   },
   "outputs": [],
   "source": [
    "init = tf.global_variables_initializer()"
   ]
  },
  {
   "cell_type": "code",
   "execution_count": 10,
   "metadata": {
    "collapsed": false
   },
   "outputs": [
    {
     "name": "stdout",
     "output_type": "stream",
     "text": [
      "Extracting /tmp/data/train-images-idx3-ubyte.gz\n",
      "Extracting /tmp/data/train-labels-idx1-ubyte.gz\n",
      "Extracting /tmp/data/t10k-images-idx3-ubyte.gz\n",
      "Extracting /tmp/data/t10k-labels-idx1-ubyte.gz\n"
     ]
    }
   ],
   "source": [
    "from tensorflow.examples.tutorials.mnist import input_data\n",
    "\n",
    "mnist = input_data.read_data_sets('/tmp/data/')\n",
    "X_test = mnist.test.images.reshape(-1, n_steps, n_inputs)\n",
    "y_test = mnist.test.labels"
   ]
  },
  {
   "cell_type": "code",
   "execution_count": 11,
   "metadata": {
    "collapsed": true
   },
   "outputs": [],
   "source": [
    "n_epochs = 30\n",
    "batch_size = 150"
   ]
  },
  {
   "cell_type": "code",
   "execution_count": 12,
   "metadata": {
    "collapsed": true
   },
   "outputs": [],
   "source": [
    "L_cut = 7\n",
    "L_batch = batch_size * [L_cut]\n",
    "L_test = y_test.size * [L_cut]"
   ]
  },
  {
   "cell_type": "code",
   "execution_count": 13,
   "metadata": {
    "collapsed": false
   },
   "outputs": [
    {
     "name": "stdout",
     "output_type": "stream",
     "text": [
      "(0, 'Train accuracy=', 0.5933333, 'Test accuracy=', 0.54839998, 'Test loss=', 1.3362124)\n",
      "(1, 'Train accuracy=', 0.49333334, 'Test accuracy=', 0.5589, 'Test loss=', 1.2733843)\n",
      "(2, 'Train accuracy=', 0.55333334, 'Test accuracy=', 0.5729, 'Test loss=', 1.2261957)\n",
      "(3, 'Train accuracy=', 0.58666664, 'Test accuracy=', 0.57980001, 'Test loss=', 1.2011247)\n",
      "(4, 'Train accuracy=', 0.58666664, 'Test accuracy=', 0.58880001, 'Test loss=', 1.1844572)\n",
      "(5, 'Train accuracy=', 0.67333335, 'Test accuracy=', 0.60119998, 'Test loss=', 1.1499432)\n",
      "(6, 'Train accuracy=', 0.57999998, 'Test accuracy=', 0.60180002, 'Test loss=', 1.1403829)\n",
      "(7, 'Train accuracy=', 0.63333333, 'Test accuracy=', 0.60570002, 'Test loss=', 1.1352493)\n",
      "(8, 'Train accuracy=', 0.62, 'Test accuracy=', 0.60530001, 'Test loss=', 1.1226361)\n",
      "(9, 'Train accuracy=', 0.5933333, 'Test accuracy=', 0.61360002, 'Test loss=', 1.1148288)\n",
      "(10, 'Train accuracy=', 0.62666667, 'Test accuracy=', 0.61619997, 'Test loss=', 1.1091247)\n",
      "(11, 'Train accuracy=', 0.56666666, 'Test accuracy=', 0.61379999, 'Test loss=', 1.0941314)\n",
      "(12, 'Train accuracy=', 0.5933333, 'Test accuracy=', 0.61089998, 'Test loss=', 1.1016649)\n",
      "(13, 'Train accuracy=', 0.62666667, 'Test accuracy=', 0.62169999, 'Test loss=', 1.0815153)\n",
      "(14, 'Train accuracy=', 0.57999998, 'Test accuracy=', 0.61690003, 'Test loss=', 1.084004)\n",
      "(15, 'Train accuracy=', 0.62666667, 'Test accuracy=', 0.62519997, 'Test loss=', 1.0756114)\n",
      "(16, 'Train accuracy=', 0.60000002, 'Test accuracy=', 0.62739998, 'Test loss=', 1.0700934)\n",
      "(17, 'Train accuracy=', 0.63333333, 'Test accuracy=', 0.62400001, 'Test loss=', 1.064701)\n",
      "(18, 'Train accuracy=', 0.65333331, 'Test accuracy=', 0.62819999, 'Test loss=', 1.0672345)\n",
      "(19, 'Train accuracy=', 0.69333333, 'Test accuracy=', 0.62419999, 'Test loss=', 1.0700151)\n",
      "(20, 'Train accuracy=', 0.62, 'Test accuracy=', 0.62419999, 'Test loss=', 1.0668392)\n",
      "(21, 'Train accuracy=', 0.69999999, 'Test accuracy=', 0.6304, 'Test loss=', 1.0591708)\n",
      "(22, 'Train accuracy=', 0.62, 'Test accuracy=', 0.63050002, 'Test loss=', 1.0502174)\n",
      "(23, 'Train accuracy=', 0.66666669, 'Test accuracy=', 0.62599999, 'Test loss=', 1.056677)\n",
      "(24, 'Train accuracy=', 0.56666666, 'Test accuracy=', 0.62949997, 'Test loss=', 1.0552801)\n",
      "(25, 'Train accuracy=', 0.67333335, 'Test accuracy=', 0.63059998, 'Test loss=', 1.046797)\n",
      "(26, 'Train accuracy=', 0.64666665, 'Test accuracy=', 0.62599999, 'Test loss=', 1.0602945)\n",
      "(27, 'Train accuracy=', 0.60000002, 'Test accuracy=', 0.63, 'Test loss=', 1.0572258)\n",
      "(28, 'Train accuracy=', 0.68000001, 'Test accuracy=', 0.63209999, 'Test loss=', 1.0424187)\n",
      "(29, 'Train accuracy=', 0.69333333, 'Test accuracy=', 0.63300002, 'Test loss=', 1.040115)\n"
     ]
    }
   ],
   "source": [
    "with tf.Session() as sess:\n",
    "     init.run()\n",
    "     for epoch in range(n_epochs):\n",
    "          for iteration in range(mnist.train.num_examples // batch_size):\n",
    "               X_batch, y_batch = mnist.train.next_batch(batch_size)\n",
    "               X_batch = X_batch.reshape((-1, n_steps, n_inputs))\n",
    "               sess.run(training_op, feed_dict={X:X_batch, y:y_batch, L:L_batch, training:True})\n",
    "          acc_train = accuracy.eval(feed_dict={X:X_batch, y:y_batch, L:L_batch})\n",
    "          acc_test = accuracy.eval(feed_dict={X:X_test, y:y_test, L:L_test})\n",
    "          lss_test = loss.eval(feed_dict={X:X_test, y:y_test, L:L_test})\n",
    "\n",
    "          print(epoch, 'Train accuracy=', acc_train, \"Test accuracy=\", acc_test, \"Test loss=\", lss_test)"
   ]
  },
  {
   "cell_type": "markdown",
   "metadata": {},
   "source": [
    "|n_neurons|dropout_rate|seq_length|peak accuracy|\n",
    "|----|----|----|----|\n",
    "|150|0.00|28|97.2%|\n",
    "|150|0.25|28|97.2%|\n",
    "|150|0.50|28|97.0%|\n",
    "|150|0.75|28|96.8%|\n",
    "|150|0.99|28|74.2%|\n",
    "|5|0.50|28|58.0%|\n",
    "|5|0.00|28|52.0%|\n",
    "|25|0.50|28|93.9%|\n",
    "|25|0.00|28|94.6%|\n",
    "|300|0.50|28|97.6%|\n",
    "|150|0.50|14|93.3%|\n",
    "|150|0.50|7|59.5%|\n",
    "|150|0.00|7|63.3%|\n",
    "|150|0.50|3|16.5%|"
   ]
  },
  {
   "cell_type": "code",
   "execution_count": 14,
   "metadata": {
    "collapsed": false
   },
   "outputs": [
    {
     "data": {
      "text/plain": [
       "<tf.Tensor 'dense/BiasAdd:0' shape=(?, 10) dtype=float32>"
      ]
     },
     "execution_count": 14,
     "metadata": {},
     "output_type": "execute_result"
    }
   ],
   "source": [
    "logits"
   ]
  },
  {
   "cell_type": "code",
   "execution_count": 15,
   "metadata": {
    "collapsed": false
   },
   "outputs": [
    {
     "data": {
      "text/plain": [
       "<tf.Tensor 'Placeholder_1:0' shape=(?,) dtype=int32>"
      ]
     },
     "execution_count": 15,
     "metadata": {},
     "output_type": "execute_result"
    }
   ],
   "source": [
    "y"
   ]
  },
  {
   "cell_type": "markdown",
   "metadata": {},
   "source": [
    "#### How does a simple linear model compare?"
   ]
  },
  {
   "cell_type": "markdown",
   "metadata": {
    "collapsed": true
   },
   "source": [
    "from sklearn.preprocessing import StandardScaler\n",
    "from sklearn.linear_model import SGDClassifier"
   ]
  },
  {
   "cell_type": "markdown",
   "metadata": {
    "collapsed": true
   },
   "source": [
    "X_train = mnist.train.images\n",
    "y_train = mnist.train.labels"
   ]
  },
  {
   "cell_type": "markdown",
   "metadata": {
    "collapsed": true
   },
   "source": [
    "std_sc = StandardScaler()\n",
    "X_train_std = std_sc.fit_transform(X_train)\n",
    "X_test_std = std_sc.transform(X_test.reshape(-1, n_steps * n_inputs))"
   ]
  },
  {
   "cell_type": "markdown",
   "metadata": {
    "collapsed": false
   },
   "source": [
    "SGDClassifier(tol=1e-3, alpha=0.01, max_iter=1500).fit(X_train_std, y_train).score(X_test_std, y_test)"
   ]
  },
  {
   "cell_type": "markdown",
   "metadata": {
    "collapsed": false
   },
   "source": [
    "SGDClassifier(tol=1e-3, alpha=0.0001, max_iter=1500).fit(X_train_std, y_train).score(X_test_std, y_test)"
   ]
  },
  {
   "cell_type": "markdown",
   "metadata": {
    "collapsed": false
   },
   "source": [
    "SGDClassifier(tol=1e-3, alpha=0.00001, max_iter=1500).fit(X_train_std, y_train).score(X_test_std, y_test)"
   ]
  },
  {
   "cell_type": "markdown",
   "metadata": {},
   "source": [
    "#### And a nonlinear model"
   ]
  },
  {
   "cell_type": "markdown",
   "metadata": {
    "collapsed": false
   },
   "source": [
    "from sklearn.ensemble import RandomForestClassifier\n",
    "\n",
    "RandomForestClassifier(n_estimators=50).fit(X_train_std, y_train).score(X_test_std, y_test)"
   ]
  },
  {
   "cell_type": "markdown",
   "metadata": {},
   "source": [
    "We see that the RNN outperforms RF. A lot more could be done to optimize the RNN as well as preprocess the data."
   ]
  }
 ],
 "metadata": {
  "anaconda-cloud": {},
  "kernelspec": {
   "display_name": "Python [conda root]",
   "language": "python",
   "name": "conda-root-py"
  },
  "language_info": {
   "codemirror_mode": {
    "name": "ipython",
    "version": 2
   },
   "file_extension": ".py",
   "mimetype": "text/x-python",
   "name": "python",
   "nbconvert_exporter": "python",
   "pygments_lexer": "ipython2",
   "version": "2.7.12"
  }
 },
 "nbformat": 4,
 "nbformat_minor": 1
}
