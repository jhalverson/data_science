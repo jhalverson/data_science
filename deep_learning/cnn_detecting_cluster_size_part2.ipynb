{
 "cells": [
  {
   "cell_type": "markdown",
   "metadata": {},
   "source": [
    "# Jonathan Halverson\n",
    "# Monday, January 8, 2018\n",
    "# Part 2: Detecting cluster size in an image"
   ]
  },
  {
   "cell_type": "code",
   "execution_count": 1,
   "metadata": {
    "collapsed": true
   },
   "outputs": [],
   "source": [
    "import numpy as np\n",
    "import tensorflow as tf\n",
    "import imageio\n",
    "import matplotlib.pyplot as plt\n",
    "%matplotlib inline\n",
    "plt.style.use('halverson')"
   ]
  },
  {
   "cell_type": "code",
   "execution_count": 2,
   "metadata": {
    "collapsed": true
   },
   "outputs": [],
   "source": [
    "import glob\n",
    "files = np.array(glob.glob('cluster_images/*.png'))\n",
    "files = np.array(glob.glob('cluster_images_concentric/*.png')) # perfect score for test set\n",
    "files = np.array(glob.glob('cluster_images_no_noise/*.png'))"
   ]
  },
  {
   "cell_type": "markdown",
   "metadata": {},
   "source": [
    "### Make training and test set"
   ]
  },
  {
   "cell_type": "code",
   "execution_count": 3,
   "metadata": {
    "collapsed": false
   },
   "outputs": [],
   "source": [
    "test_proportion = 0.2\n",
    "ind = np.arange(files.size)\n",
    "np.random.shuffle(ind)\n",
    "ind_cut = int((1.0 - test_proportion) * files.size)\n",
    "training_file_paths = files[ind[:ind_cut]]\n",
    "testing_file_paths = files[ind[ind_cut:]]"
   ]
  },
  {
   "cell_type": "markdown",
   "metadata": {},
   "source": [
    "### Examine image and create routine to generate batch"
   ]
  },
  {
   "cell_type": "code",
   "execution_count": 4,
   "metadata": {
    "collapsed": true
   },
   "outputs": [],
   "source": [
    "height = 400\n",
    "width = 400"
   ]
  },
  {
   "cell_type": "code",
   "execution_count": 5,
   "metadata": {
    "collapsed": false
   },
   "outputs": [
    {
     "data": {
      "image/png": "[encoded data removed]",
      "text/plain": [
       "<matplotlib.figure.Figure at 0x117dbad50>"
      ]
     },
     "metadata": {},
     "output_type": "display_data"
    }
   ],
   "source": [
    "img_array = imageio.imread(files[1])\n",
    "plt.imshow(img_array, cmap='binary')\n",
    "_ = plt.axis('off')"
   ]
  },
  {
   "cell_type": "code",
   "execution_count": 6,
   "metadata": {
    "collapsed": true
   },
   "outputs": [],
   "source": [
    "def fetch_batch(file_paths, batch_size):\n",
    "     A = []\n",
    "     b = []\n",
    "     ind = np.random.choice(np.arange(file_paths.size), size=batch_size, replace=False)\n",
    "     for file_path in file_paths[ind]:\n",
    "          img_array = np.array(imageio.imread(file_path)).astype(np.float32) / 255.0\n",
    "          A.append(img_array)\n",
    "          cluster_size = int(file_path.split('_C')[1][0])\n",
    "          b.append(cluster_size)\n",
    "     return np.array(A).reshape(-1, height, width, 1), np.array(b)"
   ]
  },
  {
   "cell_type": "code",
   "execution_count": 7,
   "metadata": {
    "collapsed": false
   },
   "outputs": [
    {
     "data": {
      "text/plain": [
       "(array([ 146032.,       0.,       0.,       0.,       0.,       0.,\n",
       "              0.,       0.,       0.,       0.,       0.,       0.,\n",
       "              0.,       0.,       0.,       0.,       0.,       0.,\n",
       "              0.,   13968.]),\n",
       " array([   0.  ,   12.75,   25.5 ,   38.25,   51.  ,   63.75,   76.5 ,\n",
       "          89.25,  102.  ,  114.75,  127.5 ,  140.25,  153.  ,  165.75,\n",
       "         178.5 ,  191.25,  204.  ,  216.75,  229.5 ,  242.25,  255.  ]),\n",
       " <a list of 20 Patch objects>)"
      ]
     },
     "execution_count": 7,
     "metadata": {},
     "output_type": "execute_result"
    },
    {
     "data": {
      "image/png": "[encoded data removed]",
      "text/plain": [
       "<matplotlib.figure.Figure at 0x117e560d0>"
      ]
     },
     "metadata": {},
     "output_type": "display_data"
    }
   ],
   "source": [
    "plt.hist(img_array.flatten(), bins=20)"
   ]
  },
  {
   "cell_type": "code",
   "execution_count": 8,
   "metadata": {
    "collapsed": false
   },
   "outputs": [
    {
     "data": {
      "text/plain": [
       "<matplotlib.image.AxesImage at 0x11bbbc7d0>"
      ]
     },
     "execution_count": 8,
     "metadata": {},
     "output_type": "execute_result"
    },
    {
     "data": {
      "image/png": "[encoded data removed]",
      "text/plain": [
       "<matplotlib.figure.Figure at 0x11ba23b50>"
      ]
     },
     "metadata": {},
     "output_type": "display_data"
    }
   ],
   "source": [
    "plt.imshow(np.where(img_array > 128, img_array, 0), cmap='binary')"
   ]
  },
  {
   "cell_type": "code",
   "execution_count": 9,
   "metadata": {
    "collapsed": false
   },
   "outputs": [
    {
     "data": {
      "image/png": "[encoded data removed]",
      "text/plain": [
       "<matplotlib.figure.Figure at 0x11ac78ed0>"
      ]
     },
     "metadata": {},
     "output_type": "display_data"
    }
   ],
   "source": [
    "_ = plt.hist(np.where(img_array > 128, 1, 0).flatten())"
   ]
  },
  {
   "cell_type": "markdown",
   "metadata": {},
   "source": [
    "### Construct TF graph"
   ]
  },
  {
   "cell_type": "code",
   "execution_count": 10,
   "metadata": {
    "collapsed": true
   },
   "outputs": [],
   "source": [
    "tf.reset_default_graph()"
   ]
  },
  {
   "cell_type": "code",
   "execution_count": 11,
   "metadata": {
    "collapsed": true
   },
   "outputs": [],
   "source": [
    "channels = 1\n",
    "conv1_fmaps = 5\n",
    "conv2_fmaps = 10\n",
    "conv3_fmaps = 15\n",
    "n_fc = 16\n",
    "n_outputs = 5"
   ]
  },
  {
   "cell_type": "code",
   "execution_count": 12,
   "metadata": {
    "collapsed": true
   },
   "outputs": [],
   "source": [
    "with tf.name_scope('inputs'):\n",
    "     X = tf.placeholder(dtype=tf.float32, shape=(None, height, width, channels), name=\"X\")\n",
    "     y = tf.placeholder(dtype=tf.int32, shape=(None), name=\"y\")\n",
    "     training = tf.placeholder_with_default(False, shape=(None))"
   ]
  },
  {
   "cell_type": "code",
   "execution_count": 13,
   "metadata": {
    "collapsed": true
   },
   "outputs": [],
   "source": [
    "dropout_rate_mp = 0.25\n",
    "dropout_rate_fc = 0.15\n",
    "#X_drop = tf.layers.dropout(X, dropout_rate, training=training)"
   ]
  },
  {
   "cell_type": "code",
   "execution_count": 14,
   "metadata": {
    "collapsed": false
   },
   "outputs": [],
   "source": [
    "conv_1 = tf.layers.conv2d(X, filters=conv1_fmaps, kernel_size=4, strides=[4, 4], padding=\"SAME\", activation=tf.nn.relu)\n",
    "#do_1 = tf.layers.dropout(conv_1, dropout_rate, training=training)\n",
    "#max_pool_1 = tf.nn.max_pool(conv_1, ksize=[1, 2, 2, 1], strides=[1, 2, 2, 1], padding=\"VALID\")\n",
    "\n",
    "conv_2 = tf.layers.conv2d(conv_1, filters=conv2_fmaps, kernel_size=2, strides=[2, 2], padding=\"SAME\", activation=tf.nn.relu)\n",
    "#do_2 = tf.layers.dropout(conv_2, dropout_rate, training=training)\n",
    "max_pool_2 = tf.nn.max_pool(conv_2, ksize=[1, 2, 2, 1], strides=[1, 2, 2, 1], padding=\"VALID\")\n",
    "\n",
    "conv_3 = tf.layers.conv2d(max_pool_2, filters=conv3_fmaps, kernel_size=3, strides=[2, 2], padding=\"SAME\", activation=tf.nn.relu)\n",
    "#do_3 = tf.layers.dropout(conv_3, dropout_rate, training=training)\n",
    "max_pool_3 = tf.nn.max_pool(conv_3, ksize=[1, 2, 2, 1], strides=[1, 2, 2, 1], padding=\"VALID\")\n",
    "\n",
    "with tf.name_scope(\"fc4\"):\n",
    "     max_pool_3_flat = tf.reshape(max_pool_3, shape=(-1, conv3_fmaps * 6 * 6))\n",
    "     #inject_target = tf.concat([max_pool_3_flat, tf.cast(tf.reshape(y, shape=(-1, 1)), tf.float32)], axis=1)\n",
    "     do_4 = tf.layers.dropout(max_pool_3_flat, dropout_rate_mp, training=training)"
   ]
  },
  {
   "cell_type": "code",
   "execution_count": 15,
   "metadata": {
    "collapsed": true
   },
   "outputs": [],
   "source": [
    "with tf.name_scope(\"fully_connected\"):\n",
    "     full_4 = tf.layers.dense(do_4, units=n_fc, activation=tf.nn.relu)\n",
    "     fc4_drop = tf.layers.dropout(full_4, dropout_rate_fc, training=training)\n",
    "     logits = tf.layers.dense(fc4_drop, units=n_outputs, activation=None, name='outputs')"
   ]
  },
  {
   "cell_type": "code",
   "execution_count": 16,
   "metadata": {
    "collapsed": true
   },
   "outputs": [],
   "source": [
    "with tf.name_scope(\"loss\"):\n",
    "     xentropy = tf.nn.sparse_softmax_cross_entropy_with_logits(labels=y, logits=logits)\n",
    "     loss = tf.reduce_mean(xentropy, name=\"loss\")"
   ]
  },
  {
   "cell_type": "code",
   "execution_count": 17,
   "metadata": {
    "collapsed": true
   },
   "outputs": [],
   "source": [
    "optimizer = tf.train.MomentumOptimizer(learning_rate=0.01, momentum=0.9, use_nesterov=True)\n",
    "training_op = optimizer.minimize(loss)"
   ]
  },
  {
   "cell_type": "code",
   "execution_count": 18,
   "metadata": {
    "collapsed": true
   },
   "outputs": [],
   "source": [
    "with tf.name_scope('my_metrics'):\n",
    "     y_pred = tf.argmax(logits, axis=1)\n",
    "     cm = tf.confusion_matrix(labels=y, predictions=y_pred, num_classes=n_outputs, dtype=tf.float64)\n",
    "     accuracy = tf.trace(cm) / tf.reduce_sum(cm)"
   ]
  },
  {
   "cell_type": "code",
   "execution_count": 19,
   "metadata": {
    "collapsed": true
   },
   "outputs": [],
   "source": [
    "init = tf.global_variables_initializer()"
   ]
  },
  {
   "cell_type": "code",
   "execution_count": 20,
   "metadata": {
    "collapsed": true
   },
   "outputs": [],
   "source": [
    "batch_size = 75\n",
    "epochs = 1500"
   ]
  },
  {
   "cell_type": "code",
   "execution_count": 21,
   "metadata": {
    "collapsed": true
   },
   "outputs": [],
   "source": [
    "X_test, y_test = fetch_batch(testing_file_paths, batch_size=testing_file_paths.size)"
   ]
  },
  {
   "cell_type": "code",
   "execution_count": 22,
   "metadata": {
    "collapsed": false,
    "scrolled": false
   },
   "outputs": [
    {
     "name": "stdout",
     "output_type": "stream",
     "text": [
      "0 ----------\n",
      "Accuracy (train): 0.186666666667\n",
      "Accuracy (test): 0.2125\n",
      "Loss (train): 1.60722\n",
      "Loss (test): 1.60738\n",
      "10 ----------\n",
      "Accuracy (train): 0.293333333333\n",
      "Accuracy (test): 0.2375\n",
      "Loss (train): 1.54635\n",
      "Loss (test): 1.59016\n",
      "20 ----------\n",
      "Accuracy (train): 0.306666666667\n",
      "Accuracy (test): 0.2575\n",
      "Loss (train): 1.47475\n",
      "Loss (test): 1.56176\n",
      "30 ----------\n",
      "Accuracy (train): 0.453333333333\n",
      "Accuracy (test): 0.2725\n",
      "Loss (train): 1.22896\n",
      "Loss (test): 1.55893\n",
      "40 ----------\n",
      "Accuracy (train): 0.613333333333\n",
      "Accuracy (test): 0.2875\n",
      "Loss (train): 1.01805\n",
      "Loss (test): 1.55977\n",
      "50 ----------\n",
      "Accuracy (train): 0.853333333333\n",
      "Accuracy (test): 0.29\n",
      "Loss (train): 0.704907\n",
      "Loss (test): 1.62353\n",
      "60 ----------\n",
      "Accuracy (train): 0.866666666667\n",
      "Accuracy (test): 0.3425\n",
      "Loss (train): 0.567738\n",
      "Loss (test): 1.66334\n",
      "70 ----------\n",
      "Accuracy (train): 0.84\n",
      "Accuracy (test): 0.3725\n",
      "Loss (train): 0.54592\n",
      "Loss (test): 1.61867\n",
      "80 ----------\n",
      "Accuracy (train): 0.866666666667\n",
      "Accuracy (test): 0.375\n",
      "Loss (train): 0.526512\n",
      "Loss (test): 1.6795\n",
      "90 ----------\n",
      "Accuracy (train): 0.946666666667\n",
      "Accuracy (test): 0.33\n",
      "Loss (train): 0.339266\n",
      "Loss (test): 1.85082\n",
      "100 ----------\n",
      "Accuracy (train): 0.933333333333\n",
      "Accuracy (test): 0.3675\n",
      "Loss (train): 0.389622\n",
      "Loss (test): 1.66396\n",
      "110 ----------\n",
      "Accuracy (train): 1.0\n",
      "Accuracy (test): 0.375\n",
      "Loss (train): 0.196025\n",
      "Loss (test): 1.90165\n",
      "120 ----------\n",
      "Accuracy (train): 0.906666666667\n",
      "Accuracy (test): 0.3825\n",
      "Loss (train): 0.290405\n",
      "Loss (test): 2.0102\n",
      "130 ----------\n",
      "Accuracy (train): 1.0\n",
      "Accuracy (test): 0.3575\n",
      "Loss (train): 0.254653\n",
      "Loss (test): 1.75426\n",
      "140 ----------\n",
      "Accuracy (train): 0.92\n",
      "Accuracy (test): 0.36\n",
      "Loss (train): 0.277384\n",
      "Loss (test): 2.09184\n",
      "150 ----------\n",
      "Accuracy (train): 0.906666666667\n",
      "Accuracy (test): 0.3725\n",
      "Loss (train): 0.309263\n",
      "Loss (test): 1.8949\n",
      "160 ----------\n",
      "Accuracy (train): 1.0\n",
      "Accuracy (test): 0.37\n",
      "Loss (train): 0.139444\n",
      "Loss (test): 1.97083\n",
      "170 ----------\n",
      "Accuracy (train): 0.986666666667\n",
      "Accuracy (test): 0.395\n",
      "Loss (train): 0.213661\n",
      "Loss (test): 1.884\n",
      "180 ----------\n",
      "Accuracy (train): 0.973333333333\n",
      "Accuracy (test): 0.365\n",
      "Loss (train): 0.181674\n",
      "Loss (test): 1.89697\n",
      "190 ----------\n",
      "Accuracy (train): 1.0\n",
      "Accuracy (test): 0.3775\n",
      "Loss (train): 0.146611\n",
      "Loss (test): 2.0293\n",
      "200 ----------\n",
      "Accuracy (train): 1.0\n",
      "Accuracy (test): 0.3775\n",
      "Loss (train): 0.161005\n",
      "Loss (test): 2.07186\n",
      "210 ----------\n",
      "Accuracy (train): 0.986666666667\n",
      "Accuracy (test): 0.3875\n",
      "Loss (train): 0.146973\n",
      "Loss (test): 2.09595\n",
      "220 ----------\n",
      "Accuracy (train): 0.986666666667\n",
      "Accuracy (test): 0.3925\n",
      "Loss (train): 0.138662\n",
      "Loss (test): 2.00061\n",
      "230 ----------\n",
      "Accuracy (train): 0.96\n",
      "Accuracy (test): 0.39\n",
      "Loss (train): 0.147548\n",
      "Loss (test): 2.08076\n",
      "240 ----------\n",
      "Accuracy (train): 0.986666666667\n",
      "Accuracy (test): 0.42\n",
      "Loss (train): 0.118057\n",
      "Loss (test): 1.96757\n",
      "250 ----------\n",
      "Accuracy (train): 1.0\n",
      "Accuracy (test): 0.36\n",
      "Loss (train): 0.113843\n",
      "Loss (test): 2.07417\n",
      "260 ----------\n",
      "Accuracy (train): 0.973333333333\n",
      "Accuracy (test): 0.3775\n",
      "Loss (train): 0.110883\n",
      "Loss (test): 2.02813\n",
      "270 ----------\n",
      "Accuracy (train): 0.973333333333\n",
      "Accuracy (test): 0.375\n",
      "Loss (train): 0.138134\n",
      "Loss (test): 2.21778\n",
      "280 ----------\n",
      "Accuracy (train): 0.96\n",
      "Accuracy (test): 0.3875\n",
      "Loss (train): 0.177599\n",
      "Loss (test): 2.24406\n",
      "290 ----------\n",
      "Accuracy (train): 1.0\n",
      "Accuracy (test): 0.38\n",
      "Loss (train): 0.0848316\n",
      "Loss (test): 2.10444\n",
      "300 ----------\n",
      "Accuracy (train): 1.0\n",
      "Accuracy (test): 0.3925\n",
      "Loss (train): 0.105326\n",
      "Loss (test): 2.03046\n",
      "310 ----------\n",
      "Accuracy (train): 1.0\n",
      "Accuracy (test): 0.3625\n",
      "Loss (train): 0.12933\n",
      "Loss (test): 1.90123\n",
      "320 ----------\n",
      "Accuracy (train): 0.986666666667\n",
      "Accuracy (test): 0.3675\n",
      "Loss (train): 0.102689\n",
      "Loss (test): 2.03833\n",
      "330 ----------\n",
      "Accuracy (train): 0.986666666667\n",
      "Accuracy (test): 0.3575\n",
      "Loss (train): 0.120038\n",
      "Loss (test): 2.08843\n",
      "340 ----------\n",
      "Accuracy (train): 1.0\n",
      "Accuracy (test): 0.4\n",
      "Loss (train): 0.0858308\n",
      "Loss (test): 2.23231\n",
      "350 ----------\n",
      "Accuracy (train): 1.0\n",
      "Accuracy (test): 0.405\n",
      "Loss (train): 0.0714197\n",
      "Loss (test): 2.19008\n",
      "360 ----------\n",
      "Accuracy (train): 0.986666666667\n",
      "Accuracy (test): 0.355\n",
      "Loss (train): 0.0852478\n",
      "Loss (test): 2.17055\n",
      "370 ----------\n",
      "Accuracy (train): 0.973333333333\n",
      "Accuracy (test): 0.4175\n",
      "Loss (train): 0.0988125\n",
      "Loss (test): 2.07544\n",
      "380 ----------\n",
      "Accuracy (train): 0.986666666667\n",
      "Accuracy (test): 0.3875\n",
      "Loss (train): 0.0712949\n",
      "Loss (test): 2.06204\n",
      "390 ----------\n",
      "Accuracy (train): 0.986666666667\n",
      "Accuracy (test): 0.4025\n",
      "Loss (train): 0.111625\n",
      "Loss (test): 1.91649\n",
      "400 ----------\n",
      "Accuracy (train): 1.0\n",
      "Accuracy (test): 0.4\n",
      "Loss (train): 0.0786249\n",
      "Loss (test): 2.13795\n",
      "410 ----------\n",
      "Accuracy (train): 1.0\n",
      "Accuracy (test): 0.3875\n",
      "Loss (train): 0.0793435\n",
      "Loss (test): 2.13757\n",
      "420 ----------\n",
      "Accuracy (train): 0.986666666667\n",
      "Accuracy (test): 0.3725\n",
      "Loss (train): 0.105673\n",
      "Loss (test): 2.56535\n",
      "430 ----------\n",
      "Accuracy (train): 1.0\n",
      "Accuracy (test): 0.4025\n",
      "Loss (train): 0.0548347\n",
      "Loss (test): 2.06932\n",
      "440 ----------\n",
      "Accuracy (train): 1.0\n",
      "Accuracy (test): 0.4\n",
      "Loss (train): 0.064305\n",
      "Loss (test): 2.21008\n",
      "450 ----------\n",
      "Accuracy (train): 1.0\n",
      "Accuracy (test): 0.42\n",
      "Loss (train): 0.0597814\n",
      "Loss (test): 2.1177\n",
      "460 ----------\n",
      "Accuracy (train): 1.0\n",
      "Accuracy (test): 0.4125\n",
      "Loss (train): 0.0477651\n",
      "Loss (test): 2.04512\n",
      "470 ----------\n",
      "Accuracy (train): 1.0\n",
      "Accuracy (test): 0.395\n",
      "Loss (train): 0.108083\n",
      "Loss (test): 1.99374\n",
      "480 ----------\n",
      "Accuracy (train): 1.0\n",
      "Accuracy (test): 0.4\n",
      "Loss (train): 0.0578124\n",
      "Loss (test): 2.33022\n",
      "490 ----------\n",
      "Accuracy (train): 1.0\n",
      "Accuracy (test): 0.415\n",
      "Loss (train): 0.0506784\n",
      "Loss (test): 2.185\n",
      "500 ----------\n",
      "Accuracy (train): 1.0\n",
      "Accuracy (test): 0.41\n",
      "Loss (train): 0.0626286\n",
      "Loss (test): 2.06256\n",
      "510 ----------\n",
      "Accuracy (train): 1.0\n",
      "Accuracy (test): 0.3725\n",
      "Loss (train): 0.0569385\n",
      "Loss (test): 2.12028\n",
      "520 ----------\n",
      "Accuracy (train): 1.0\n",
      "Accuracy (test): 0.3825\n",
      "Loss (train): 0.0683691\n",
      "Loss (test): 2.05326\n",
      "530 ----------\n",
      "Accuracy (train): 1.0\n",
      "Accuracy (test): 0.4275\n",
      "Loss (train): 0.0504357\n",
      "Loss (test): 2.17651\n",
      "540 ----------\n",
      "Accuracy (train): 1.0\n",
      "Accuracy (test): 0.385\n",
      "Loss (train): 0.0528428\n",
      "Loss (test): 2.16339\n",
      "550 ----------\n",
      "Accuracy (train): 1.0\n",
      "Accuracy (test): 0.4\n",
      "Loss (train): 0.0519141\n",
      "Loss (test): 2.05305\n",
      "560 ----------\n",
      "Accuracy (train): 1.0\n",
      "Accuracy (test): 0.3925\n",
      "Loss (train): 0.0482958\n",
      "Loss (test): 2.24231\n",
      "570 ----------\n",
      "Accuracy (train): 1.0\n",
      "Accuracy (test): 0.4275\n",
      "Loss (train): 0.0449548\n",
      "Loss (test): 2.17529\n",
      "580 ----------\n",
      "Accuracy (train): 1.0\n",
      "Accuracy (test): 0.4125\n",
      "Loss (train): 0.0421268\n",
      "Loss (test): 2.05919\n",
      "590 ----------\n",
      "Accuracy (train): 1.0\n",
      "Accuracy (test): 0.4175\n",
      "Loss (train): 0.0413379\n",
      "Loss (test): 2.22622\n",
      "600 ----------\n",
      "Accuracy (train): 0.986666666667\n",
      "Accuracy (test): 0.385\n",
      "Loss (train): 0.0796803\n",
      "Loss (test): 2.03943\n",
      "610 ----------\n",
      "Accuracy (train): 1.0\n",
      "Accuracy (test): 0.4275\n",
      "Loss (train): 0.0532837\n",
      "Loss (test): 2.08826\n",
      "620 ----------\n",
      "Accuracy (train): 1.0\n",
      "Accuracy (test): 0.3925\n",
      "Loss (train): 0.0529811\n",
      "Loss (test): 2.1181\n"
     ]
    },
    {
     "ename": "KeyboardInterrupt",
     "evalue": "",
     "output_type": "error",
     "traceback": [
      "\u001b[0;31m---------------------------------------------------------------------------\u001b[0m",
      "\u001b[0;31mKeyboardInterrupt\u001b[0m                         Traceback (most recent call last)",
      "\u001b[0;32m<ipython-input-22-c803aedac4a9>\u001b[0m in \u001b[0;36m<module>\u001b[0;34m()\u001b[0m\n\u001b[1;32m      5\u001b[0m      \u001b[0;32mfor\u001b[0m \u001b[0mepoch\u001b[0m \u001b[0;32min\u001b[0m \u001b[0mxrange\u001b[0m\u001b[0;34m(\u001b[0m\u001b[0mepochs\u001b[0m \u001b[0;34m+\u001b[0m \u001b[0;36m1\u001b[0m\u001b[0;34m)\u001b[0m\u001b[0;34m:\u001b[0m\u001b[0;34m\u001b[0m\u001b[0m\n\u001b[1;32m      6\u001b[0m           \u001b[0;32mfor\u001b[0m \u001b[0miteration\u001b[0m \u001b[0;32min\u001b[0m \u001b[0mrange\u001b[0m\u001b[0;34m(\u001b[0m\u001b[0mtraining_file_paths\u001b[0m\u001b[0;34m.\u001b[0m\u001b[0msize\u001b[0m \u001b[0;34m//\u001b[0m \u001b[0mbatch_size\u001b[0m\u001b[0;34m)\u001b[0m\u001b[0;34m:\u001b[0m\u001b[0;34m\u001b[0m\u001b[0m\n\u001b[0;32m----> 7\u001b[0;31m                \u001b[0mX_batch\u001b[0m\u001b[0;34m,\u001b[0m \u001b[0my_batch\u001b[0m \u001b[0;34m=\u001b[0m \u001b[0mfetch_batch\u001b[0m\u001b[0;34m(\u001b[0m\u001b[0mtraining_file_paths\u001b[0m\u001b[0;34m,\u001b[0m \u001b[0mbatch_size\u001b[0m\u001b[0;34m)\u001b[0m\u001b[0;34m\u001b[0m\u001b[0m\n\u001b[0m\u001b[1;32m      8\u001b[0m                \u001b[0;31m#print max_pool_3.shape\u001b[0m\u001b[0;34m\u001b[0m\u001b[0;34m\u001b[0m\u001b[0m\n\u001b[1;32m      9\u001b[0m                \u001b[0msess\u001b[0m\u001b[0;34m.\u001b[0m\u001b[0mrun\u001b[0m\u001b[0;34m(\u001b[0m\u001b[0mtraining_op\u001b[0m\u001b[0;34m,\u001b[0m \u001b[0mfeed_dict\u001b[0m\u001b[0;34m=\u001b[0m\u001b[0;34m{\u001b[0m\u001b[0mX\u001b[0m\u001b[0;34m:\u001b[0m\u001b[0mX_batch\u001b[0m\u001b[0;34m,\u001b[0m \u001b[0my\u001b[0m\u001b[0;34m:\u001b[0m\u001b[0my_batch\u001b[0m\u001b[0;34m,\u001b[0m \u001b[0mtraining\u001b[0m\u001b[0;34m:\u001b[0m\u001b[0mTrue\u001b[0m\u001b[0;34m}\u001b[0m\u001b[0;34m)\u001b[0m\u001b[0;34m\u001b[0m\u001b[0m\n",
      "\u001b[0;32m<ipython-input-6-ee7711ce4a73>\u001b[0m in \u001b[0;36mfetch_batch\u001b[0;34m(file_paths, batch_size)\u001b[0m\n\u001b[1;32m      4\u001b[0m      \u001b[0mind\u001b[0m \u001b[0;34m=\u001b[0m \u001b[0mnp\u001b[0m\u001b[0;34m.\u001b[0m\u001b[0mrandom\u001b[0m\u001b[0;34m.\u001b[0m\u001b[0mchoice\u001b[0m\u001b[0;34m(\u001b[0m\u001b[0mnp\u001b[0m\u001b[0;34m.\u001b[0m\u001b[0marange\u001b[0m\u001b[0;34m(\u001b[0m\u001b[0mfile_paths\u001b[0m\u001b[0;34m.\u001b[0m\u001b[0msize\u001b[0m\u001b[0;34m)\u001b[0m\u001b[0;34m,\u001b[0m \u001b[0msize\u001b[0m\u001b[0;34m=\u001b[0m\u001b[0mbatch_size\u001b[0m\u001b[0;34m,\u001b[0m \u001b[0mreplace\u001b[0m\u001b[0;34m=\u001b[0m\u001b[0mFalse\u001b[0m\u001b[0;34m)\u001b[0m\u001b[0;34m\u001b[0m\u001b[0m\n\u001b[1;32m      5\u001b[0m      \u001b[0;32mfor\u001b[0m \u001b[0mfile_path\u001b[0m \u001b[0;32min\u001b[0m \u001b[0mfile_paths\u001b[0m\u001b[0;34m[\u001b[0m\u001b[0mind\u001b[0m\u001b[0;34m]\u001b[0m\u001b[0;34m:\u001b[0m\u001b[0;34m\u001b[0m\u001b[0m\n\u001b[0;32m----> 6\u001b[0;31m           \u001b[0mimg_array\u001b[0m \u001b[0;34m=\u001b[0m \u001b[0mnp\u001b[0m\u001b[0;34m.\u001b[0m\u001b[0marray\u001b[0m\u001b[0;34m(\u001b[0m\u001b[0mimageio\u001b[0m\u001b[0;34m.\u001b[0m\u001b[0mimread\u001b[0m\u001b[0;34m(\u001b[0m\u001b[0mfile_path\u001b[0m\u001b[0;34m)\u001b[0m\u001b[0;34m)\u001b[0m\u001b[0;34m.\u001b[0m\u001b[0mastype\u001b[0m\u001b[0;34m(\u001b[0m\u001b[0mnp\u001b[0m\u001b[0;34m.\u001b[0m\u001b[0mfloat32\u001b[0m\u001b[0;34m)\u001b[0m \u001b[0;34m/\u001b[0m \u001b[0;36m255.0\u001b[0m\u001b[0;34m\u001b[0m\u001b[0m\n\u001b[0m\u001b[1;32m      7\u001b[0m           \u001b[0mA\u001b[0m\u001b[0;34m.\u001b[0m\u001b[0mappend\u001b[0m\u001b[0;34m(\u001b[0m\u001b[0mimg_array\u001b[0m\u001b[0;34m)\u001b[0m\u001b[0;34m\u001b[0m\u001b[0m\n\u001b[1;32m      8\u001b[0m           \u001b[0mcluster_size\u001b[0m \u001b[0;34m=\u001b[0m \u001b[0mint\u001b[0m\u001b[0;34m(\u001b[0m\u001b[0mfile_path\u001b[0m\u001b[0;34m.\u001b[0m\u001b[0msplit\u001b[0m\u001b[0;34m(\u001b[0m\u001b[0;34m'_C'\u001b[0m\u001b[0;34m)\u001b[0m\u001b[0;34m[\u001b[0m\u001b[0;36m1\u001b[0m\u001b[0;34m]\u001b[0m\u001b[0;34m[\u001b[0m\u001b[0;36m0\u001b[0m\u001b[0;34m]\u001b[0m\u001b[0;34m)\u001b[0m\u001b[0;34m\u001b[0m\u001b[0m\n",
      "\u001b[0;32m/Users/jhalverson/software/anaconda/lib/python2.7/site-packages/imageio/core/functions.pyc\u001b[0m in \u001b[0;36mimread\u001b[0;34m(uri, format, **kwargs)\u001b[0m\n\u001b[1;32m    198\u001b[0m \u001b[0;34m\u001b[0m\u001b[0m\n\u001b[1;32m    199\u001b[0m     \u001b[0;31m# Get reader and read first\u001b[0m\u001b[0;34m\u001b[0m\u001b[0;34m\u001b[0m\u001b[0m\n\u001b[0;32m--> 200\u001b[0;31m     \u001b[0mreader\u001b[0m \u001b[0;34m=\u001b[0m \u001b[0mread\u001b[0m\u001b[0;34m(\u001b[0m\u001b[0muri\u001b[0m\u001b[0;34m,\u001b[0m \u001b[0mformat\u001b[0m\u001b[0;34m,\u001b[0m \u001b[0;34m'i'\u001b[0m\u001b[0;34m,\u001b[0m \u001b[0;34m**\u001b[0m\u001b[0mkwargs\u001b[0m\u001b[0;34m)\u001b[0m\u001b[0;34m\u001b[0m\u001b[0m\n\u001b[0m\u001b[1;32m    201\u001b[0m     \u001b[0;32mwith\u001b[0m \u001b[0mreader\u001b[0m\u001b[0;34m:\u001b[0m\u001b[0;34m\u001b[0m\u001b[0m\n\u001b[1;32m    202\u001b[0m         \u001b[0;32mreturn\u001b[0m \u001b[0mreader\u001b[0m\u001b[0;34m.\u001b[0m\u001b[0mget_data\u001b[0m\u001b[0;34m(\u001b[0m\u001b[0;36m0\u001b[0m\u001b[0;34m)\u001b[0m\u001b[0;34m\u001b[0m\u001b[0m\n",
      "\u001b[0;32m/Users/jhalverson/software/anaconda/lib/python2.7/site-packages/imageio/core/functions.pyc\u001b[0m in \u001b[0;36mget_reader\u001b[0;34m(uri, format, mode, **kwargs)\u001b[0m\n\u001b[1;32m    127\u001b[0m \u001b[0;34m\u001b[0m\u001b[0m\n\u001b[1;32m    128\u001b[0m     \u001b[0;31m# Return its reader object\u001b[0m\u001b[0;34m\u001b[0m\u001b[0;34m\u001b[0m\u001b[0m\n\u001b[0;32m--> 129\u001b[0;31m     \u001b[0;32mreturn\u001b[0m \u001b[0mformat\u001b[0m\u001b[0;34m.\u001b[0m\u001b[0mget_reader\u001b[0m\u001b[0;34m(\u001b[0m\u001b[0mrequest\u001b[0m\u001b[0;34m)\u001b[0m\u001b[0;34m\u001b[0m\u001b[0m\n\u001b[0m\u001b[1;32m    130\u001b[0m \u001b[0;34m\u001b[0m\u001b[0m\n\u001b[1;32m    131\u001b[0m \u001b[0;34m\u001b[0m\u001b[0m\n",
      "\u001b[0;32m/Users/jhalverson/software/anaconda/lib/python2.7/site-packages/imageio/core/format.pyc\u001b[0m in \u001b[0;36mget_reader\u001b[0;34m(self, request)\u001b[0m\n\u001b[1;32m    167\u001b[0m             raise RuntimeError('Format %s cannot read in mode %r' % \n\u001b[1;32m    168\u001b[0m                                (self.name, select_mode))\n\u001b[0;32m--> 169\u001b[0;31m         \u001b[0;32mreturn\u001b[0m \u001b[0mself\u001b[0m\u001b[0;34m.\u001b[0m\u001b[0mReader\u001b[0m\u001b[0;34m(\u001b[0m\u001b[0mself\u001b[0m\u001b[0;34m,\u001b[0m \u001b[0mrequest\u001b[0m\u001b[0;34m)\u001b[0m\u001b[0;34m\u001b[0m\u001b[0m\n\u001b[0m\u001b[1;32m    170\u001b[0m \u001b[0;34m\u001b[0m\u001b[0m\n\u001b[1;32m    171\u001b[0m     \u001b[0;32mdef\u001b[0m \u001b[0mget_writer\u001b[0m\u001b[0;34m(\u001b[0m\u001b[0mself\u001b[0m\u001b[0;34m,\u001b[0m \u001b[0mrequest\u001b[0m\u001b[0;34m)\u001b[0m\u001b[0;34m:\u001b[0m\u001b[0;34m\u001b[0m\u001b[0m\n",
      "\u001b[0;32m/Users/jhalverson/software/anaconda/lib/python2.7/site-packages/imageio/core/format.pyc\u001b[0m in \u001b[0;36m__init__\u001b[0;34m(self, format, request)\u001b[0m\n\u001b[1;32m    216\u001b[0m             \u001b[0mself\u001b[0m\u001b[0;34m.\u001b[0m\u001b[0m_request\u001b[0m \u001b[0;34m=\u001b[0m \u001b[0mrequest\u001b[0m\u001b[0;34m\u001b[0m\u001b[0m\n\u001b[1;32m    217\u001b[0m             \u001b[0;31m# Open the reader/writer\u001b[0m\u001b[0;34m\u001b[0m\u001b[0;34m\u001b[0m\u001b[0m\n\u001b[0;32m--> 218\u001b[0;31m             \u001b[0mself\u001b[0m\u001b[0;34m.\u001b[0m\u001b[0m_open\u001b[0m\u001b[0;34m(\u001b[0m\u001b[0;34m**\u001b[0m\u001b[0mself\u001b[0m\u001b[0;34m.\u001b[0m\u001b[0mrequest\u001b[0m\u001b[0;34m.\u001b[0m\u001b[0mkwargs\u001b[0m\u001b[0;34m.\u001b[0m\u001b[0mcopy\u001b[0m\u001b[0;34m(\u001b[0m\u001b[0;34m)\u001b[0m\u001b[0;34m)\u001b[0m\u001b[0;34m\u001b[0m\u001b[0m\n\u001b[0m\u001b[1;32m    219\u001b[0m \u001b[0;34m\u001b[0m\u001b[0m\n\u001b[1;32m    220\u001b[0m         \u001b[0;34m@\u001b[0m\u001b[0mproperty\u001b[0m\u001b[0;34m\u001b[0m\u001b[0m\n",
      "\u001b[0;32m/Users/jhalverson/software/anaconda/lib/python2.7/site-packages/imageio/plugins/pillow.pyc\u001b[0m in \u001b[0;36m_open\u001b[0;34m(self, ignoregamma)\u001b[0m\n\u001b[1;32m    213\u001b[0m     \u001b[0;32mclass\u001b[0m \u001b[0mReader\u001b[0m\u001b[0;34m(\u001b[0m\u001b[0mPillowFormat\u001b[0m\u001b[0;34m.\u001b[0m\u001b[0mReader\u001b[0m\u001b[0;34m)\u001b[0m\u001b[0;34m:\u001b[0m\u001b[0;34m\u001b[0m\u001b[0m\n\u001b[1;32m    214\u001b[0m         \u001b[0;32mdef\u001b[0m \u001b[0m_open\u001b[0m\u001b[0;34m(\u001b[0m\u001b[0mself\u001b[0m\u001b[0;34m,\u001b[0m \u001b[0mignoregamma\u001b[0m\u001b[0;34m=\u001b[0m\u001b[0mFalse\u001b[0m\u001b[0;34m)\u001b[0m\u001b[0;34m:\u001b[0m\u001b[0;34m\u001b[0m\u001b[0m\n\u001b[0;32m--> 215\u001b[0;31m             \u001b[0;32mreturn\u001b[0m \u001b[0mPillowFormat\u001b[0m\u001b[0;34m.\u001b[0m\u001b[0mReader\u001b[0m\u001b[0;34m.\u001b[0m\u001b[0m_open\u001b[0m\u001b[0;34m(\u001b[0m\u001b[0mself\u001b[0m\u001b[0;34m)\u001b[0m\u001b[0;34m\u001b[0m\u001b[0m\n\u001b[0m\u001b[1;32m    216\u001b[0m \u001b[0;34m\u001b[0m\u001b[0m\n\u001b[1;32m    217\u001b[0m         \u001b[0;32mdef\u001b[0m \u001b[0m_get_data\u001b[0m\u001b[0;34m(\u001b[0m\u001b[0mself\u001b[0m\u001b[0;34m,\u001b[0m \u001b[0mindex\u001b[0m\u001b[0;34m)\u001b[0m\u001b[0;34m:\u001b[0m\u001b[0;34m\u001b[0m\u001b[0m\n",
      "\u001b[0;32m/Users/jhalverson/software/anaconda/lib/python2.7/site-packages/imageio/plugins/pillow.pyc\u001b[0m in \u001b[0;36m_open\u001b[0;34m(self, **kwargs)\u001b[0m\n\u001b[1;32m     92\u001b[0m             \u001b[0;32mif\u001b[0m \u001b[0mhasattr\u001b[0m\u001b[0;34m(\u001b[0m\u001b[0mImage\u001b[0m\u001b[0;34m,\u001b[0m \u001b[0;34m'_decompression_bomb_check'\u001b[0m\u001b[0;34m)\u001b[0m\u001b[0;34m:\u001b[0m\u001b[0;34m\u001b[0m\u001b[0m\n\u001b[1;32m     93\u001b[0m                 \u001b[0mImage\u001b[0m\u001b[0;34m.\u001b[0m\u001b[0m_decompression_bomb_check\u001b[0m\u001b[0;34m(\u001b[0m\u001b[0mself\u001b[0m\u001b[0;34m.\u001b[0m\u001b[0m_im\u001b[0m\u001b[0;34m.\u001b[0m\u001b[0msize\u001b[0m\u001b[0;34m)\u001b[0m\u001b[0;34m\u001b[0m\u001b[0m\n\u001b[0;32m---> 94\u001b[0;31m             \u001b[0mpil_try_read\u001b[0m\u001b[0;34m(\u001b[0m\u001b[0mself\u001b[0m\u001b[0;34m.\u001b[0m\u001b[0m_im\u001b[0m\u001b[0;34m)\u001b[0m\u001b[0;34m\u001b[0m\u001b[0m\n\u001b[0m\u001b[1;32m     95\u001b[0m             \u001b[0mself\u001b[0m\u001b[0;34m.\u001b[0m\u001b[0m_grayscale\u001b[0m \u001b[0;34m=\u001b[0m \u001b[0m_palette_is_grayscale\u001b[0m\u001b[0;34m(\u001b[0m\u001b[0mself\u001b[0m\u001b[0;34m.\u001b[0m\u001b[0m_im\u001b[0m\u001b[0;34m)\u001b[0m\u001b[0;34m\u001b[0m\u001b[0m\n\u001b[1;32m     96\u001b[0m             \u001b[0;31m# Set length\u001b[0m\u001b[0;34m\u001b[0m\u001b[0;34m\u001b[0m\u001b[0m\n",
      "\u001b[0;32m/Users/jhalverson/software/anaconda/lib/python2.7/site-packages/imageio/plugins/pillow.pyc\u001b[0m in \u001b[0;36mpil_try_read\u001b[0;34m(im)\u001b[0m\n\u001b[1;32m    383\u001b[0m     \u001b[0;32mtry\u001b[0m\u001b[0;34m:\u001b[0m\u001b[0;34m\u001b[0m\u001b[0m\n\u001b[1;32m    384\u001b[0m         \u001b[0;31m# this will raise an IOError if the file is not readable\u001b[0m\u001b[0;34m\u001b[0m\u001b[0;34m\u001b[0m\u001b[0m\n\u001b[0;32m--> 385\u001b[0;31m         \u001b[0mim\u001b[0m\u001b[0;34m.\u001b[0m\u001b[0mgetdata\u001b[0m\u001b[0;34m(\u001b[0m\u001b[0;34m)\u001b[0m\u001b[0;34m[\u001b[0m\u001b[0;36m0\u001b[0m\u001b[0;34m]\u001b[0m\u001b[0;34m\u001b[0m\u001b[0m\n\u001b[0m\u001b[1;32m    386\u001b[0m     \u001b[0;32mexcept\u001b[0m \u001b[0mIOError\u001b[0m \u001b[0;32mas\u001b[0m \u001b[0me\u001b[0m\u001b[0;34m:\u001b[0m\u001b[0;34m\u001b[0m\u001b[0m\n\u001b[1;32m    387\u001b[0m         \u001b[0msite\u001b[0m \u001b[0;34m=\u001b[0m \u001b[0;34m\"http://pillow.readthedocs.org/en/latest/installation.html\"\u001b[0m\u001b[0;34m\u001b[0m\u001b[0m\n",
      "\u001b[0;32m/Users/jhalverson/software/anaconda/lib/python2.7/site-packages/PIL/Image.pyc\u001b[0m in \u001b[0;36mgetdata\u001b[0;34m(self, band)\u001b[0m\n\u001b[1;32m   1144\u001b[0m         \"\"\"\n\u001b[1;32m   1145\u001b[0m \u001b[0;34m\u001b[0m\u001b[0m\n\u001b[0;32m-> 1146\u001b[0;31m         \u001b[0mself\u001b[0m\u001b[0;34m.\u001b[0m\u001b[0mload\u001b[0m\u001b[0;34m(\u001b[0m\u001b[0;34m)\u001b[0m\u001b[0;34m\u001b[0m\u001b[0m\n\u001b[0m\u001b[1;32m   1147\u001b[0m         \u001b[0;32mif\u001b[0m \u001b[0mband\u001b[0m \u001b[0;32mis\u001b[0m \u001b[0;32mnot\u001b[0m \u001b[0mNone\u001b[0m\u001b[0;34m:\u001b[0m\u001b[0;34m\u001b[0m\u001b[0m\n\u001b[1;32m   1148\u001b[0m             \u001b[0;32mreturn\u001b[0m \u001b[0mself\u001b[0m\u001b[0;34m.\u001b[0m\u001b[0mim\u001b[0m\u001b[0;34m.\u001b[0m\u001b[0mgetband\u001b[0m\u001b[0;34m(\u001b[0m\u001b[0mband\u001b[0m\u001b[0;34m)\u001b[0m\u001b[0;34m\u001b[0m\u001b[0m\n",
      "\u001b[0;32m/Users/jhalverson/software/anaconda/lib/python2.7/site-packages/PIL/ImageFile.pyc\u001b[0m in \u001b[0;36mload\u001b[0;34m(self)\u001b[0m\n\u001b[1;32m    223\u001b[0m \u001b[0;34m\u001b[0m\u001b[0m\n\u001b[1;32m    224\u001b[0m                         \u001b[0mb\u001b[0m \u001b[0;34m=\u001b[0m \u001b[0mb\u001b[0m \u001b[0;34m+\u001b[0m \u001b[0ms\u001b[0m\u001b[0;34m\u001b[0m\u001b[0m\n\u001b[0;32m--> 225\u001b[0;31m                         \u001b[0mn\u001b[0m\u001b[0;34m,\u001b[0m \u001b[0merr_code\u001b[0m \u001b[0;34m=\u001b[0m \u001b[0mdecoder\u001b[0m\u001b[0;34m.\u001b[0m\u001b[0mdecode\u001b[0m\u001b[0;34m(\u001b[0m\u001b[0mb\u001b[0m\u001b[0;34m)\u001b[0m\u001b[0;34m\u001b[0m\u001b[0m\n\u001b[0m\u001b[1;32m    226\u001b[0m                         \u001b[0;32mif\u001b[0m \u001b[0mn\u001b[0m \u001b[0;34m<\u001b[0m \u001b[0;36m0\u001b[0m\u001b[0;34m:\u001b[0m\u001b[0;34m\u001b[0m\u001b[0m\n\u001b[1;32m    227\u001b[0m                             \u001b[0;32mbreak\u001b[0m\u001b[0;34m\u001b[0m\u001b[0m\n",
      "\u001b[0;31mKeyboardInterrupt\u001b[0m: "
     ]
    }
   ],
   "source": [
    "batch_acc_lost = []\n",
    "test_acc_lost = []\n",
    "with tf.Session() as sess:\n",
    "     init.run()\n",
    "     for epoch in xrange(epochs + 1):\n",
    "          for iteration in range(training_file_paths.size // batch_size):\n",
    "               X_batch, y_batch = fetch_batch(training_file_paths, batch_size)\n",
    "               #print max_pool_3.shape\n",
    "               sess.run(training_op, feed_dict={X:X_batch, y:y_batch, training:True})\n",
    "          if not (epoch % 1):\n",
    "               batch_acc = accuracy.eval(feed_dict={X:X_batch, y:y_batch})\n",
    "               test_acc = accuracy.eval(feed_dict={X:X_test, y:y_test})\n",
    "               batch_loss = loss.eval(feed_dict={X:X_batch, y:y_batch})\n",
    "               test_loss = loss.eval(feed_dict={X:X_test, y:y_test})\n",
    "               batch_acc_lost.append((epoch, batch_acc, batch_loss))\n",
    "               test_acc_lost.append((epoch, test_acc, test_loss))\n",
    "               if not (epoch % 10):\n",
    "                    print epoch, \"----------\"\n",
    "                    print \"Accuracy (train):\", batch_acc\n",
    "                    print \"Accuracy (test):\", test_acc\n",
    "                    print \"Loss (train):\", batch_loss\n",
    "                    print \"Loss (test):\", test_loss"
   ]
  },
  {
   "cell_type": "code",
   "execution_count": 23,
   "metadata": {
    "collapsed": false
   },
   "outputs": [
    {
     "data": {
      "image/png": "[encoded data removed]",
      "text/plain": [
       "<matplotlib.figure.Figure at 0x11b9938d0>"
      ]
     },
     "metadata": {},
     "output_type": "display_data"
    }
   ],
   "source": [
    "t, acc_b, loss_b = zip(*batch_acc_lost)\n",
    "t, acc_t, loss_t = zip(*test_acc_lost)\n",
    "\n",
    "plt.subplots(figsize=(8, 3))\n",
    "plt.subplot(121)\n",
    "plt.plot(t, acc_b)\n",
    "plt.plot(t, acc_t)\n",
    "plt.title('Accuracy')\n",
    "plt.subplot(122)\n",
    "plt.plot(t, loss_b)\n",
    "plt.plot(t, loss_t)\n",
    "plt.title('Loss')\n",
    "plt.tight_layout()"
   ]
  }
 ],
 "metadata": {
  "kernelspec": {
   "display_name": "Python [conda root]",
   "language": "python",
   "name": "conda-root-py"
  },
  "language_info": {
   "codemirror_mode": {
    "name": "ipython",
    "version": 2
   },
   "file_extension": ".py",
   "mimetype": "text/x-python",
   "name": "python",
   "nbconvert_exporter": "python",
   "pygments_lexer": "ipython2",
   "version": "2.7.12"
  }
 },
 "nbformat": 4,
 "nbformat_minor": 1
}
