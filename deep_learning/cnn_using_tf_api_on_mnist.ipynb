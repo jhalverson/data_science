{
 "cells": [
  {
   "cell_type": "markdown",
   "metadata": {},
   "source": [
    "# Jonathan Halverson\n",
    "# Friday, November 24, 2017\n",
    "# CNN on MNIST"
   ]
  },
  {
   "cell_type": "code",
   "execution_count": 1,
   "metadata": {
    "collapsed": true
   },
   "outputs": [],
   "source": [
    "import numpy as np\n",
    "import tensorflow as tf\n",
    "import matplotlib.pyplot as plt\n",
    "%matplotlib inline"
   ]
  },
  {
   "cell_type": "code",
   "execution_count": 2,
   "metadata": {
    "collapsed": false
   },
   "outputs": [
    {
     "name": "stdout",
     "output_type": "stream",
     "text": [
      "Extracting /tmp/data/train-images-idx3-ubyte.gz\n",
      "Extracting /tmp/data/train-labels-idx1-ubyte.gz\n",
      "Extracting /tmp/data/t10k-images-idx3-ubyte.gz\n",
      "Extracting /tmp/data/t10k-labels-idx1-ubyte.gz\n"
     ]
    }
   ],
   "source": [
    "from tensorflow.examples.tutorials.mnist import input_data\n",
    "mnist = input_data.read_data_sets('/tmp/data/')"
   ]
  },
  {
   "cell_type": "code",
   "execution_count": 3,
   "metadata": {
    "collapsed": false
   },
   "outputs": [
    {
     "data": {
      "text/plain": [
       "(200, 784)"
      ]
     },
     "execution_count": 3,
     "metadata": {},
     "output_type": "execute_result"
    }
   ],
   "source": [
    "batch_size = 200\n",
    "X_batch, y_batch = mnist.train.next_batch(batch_size)\n",
    "X_batch.shape"
   ]
  },
  {
   "cell_type": "markdown",
   "metadata": {},
   "source": [
    "We need to reshape the data for a 2-d convolutional net:"
   ]
  },
  {
   "cell_type": "code",
   "execution_count": 4,
   "metadata": {
    "collapsed": false
   },
   "outputs": [
    {
     "data": {
      "text/plain": [
       "<matplotlib.image.AxesImage at 0x105e33050>"
      ]
     },
     "execution_count": 4,
     "metadata": {},
     "output_type": "execute_result"
    },
    {
     "data": {
      "image/png": "[encoded data removed]",
      "text/plain": [
       "<matplotlib.figure.Figure at 0x11b65e6d0>"
      ]
     },
     "metadata": {},
     "output_type": "display_data"
    }
   ],
   "source": [
    "X_batch = X_batch.reshape(batch_size, 28, 28, 1)\n",
    "single_digit = X_batch[42, :, :, 0]\n",
    "plt.imshow(single_digit, cmap='gray')"
   ]
  },
  {
   "cell_type": "code",
   "execution_count": 5,
   "metadata": {
    "collapsed": true
   },
   "outputs": [],
   "source": [
    "X_valid = mnist.validation.images.reshape(-1, 28, 28, 1)\n",
    "y_valid = mnist.validation.labels\n",
    "X_test = mnist.test.images.reshape(-1, 28, 28, 1)\n",
    "y_test = mnist.test.labels"
   ]
  },
  {
   "cell_type": "code",
   "execution_count": 6,
   "metadata": {
    "collapsed": true
   },
   "outputs": [],
   "source": [
    "tf.reset_default_graph()"
   ]
  },
  {
   "cell_type": "code",
   "execution_count": 7,
   "metadata": {
    "collapsed": true
   },
   "outputs": [],
   "source": [
    "X = tf.placeholder(dtype=tf.float32, shape=(None, 28, 28, 1), name=\"X\")\n",
    "y = tf.placeholder(dtype=tf.int64, shape=(None), name=\"y\")"
   ]
  },
  {
   "cell_type": "code",
   "execution_count": 8,
   "metadata": {
    "collapsed": false
   },
   "outputs": [],
   "source": [
    "conv_1 = tf.layers.conv2d(X, filters=10, kernel_size=7, strides=[2, 2], padding=\"SAME\", activation=tf.nn.relu)\n",
    "max_pool_1 = tf.nn.max_pool(conv_1, ksize=[1, 2, 2, 1], strides=[1, 2, 2, 1], padding=\"VALID\")\n",
    "conv_2 = tf.layers.conv2d(max_pool_1, filters=5, kernel_size=2, strides=[2, 2], padding=\"SAME\", activation=tf.nn.relu)\n",
    "max_pool_2 = tf.nn.max_pool(conv_2, ksize=[1, 2, 2, 1], strides=[1, 2, 2, 1], padding=\"VALID\")\n",
    "logits = tf.layers.dense(tf.reshape(max_pool_2, [-1, 20]), units=10, activation=None, name='outputs')"
   ]
  },
  {
   "cell_type": "markdown",
   "metadata": {},
   "source": [
    "init = tf.global_variables_initializer()\n",
    "with tf.Session() as sess:\n",
    "     init.run()\n",
    "     X_batch, y_batch = mnist.train.next_batch(batch_size)\n",
    "     X_batch = X_batch.reshape(batch_size, 28, 28, 1)\n",
    "     output = logits.eval(feed_dict={X:X_batch, y:y_batch})\n",
    "output.shape"
   ]
  },
  {
   "cell_type": "code",
   "execution_count": 9,
   "metadata": {
    "collapsed": true
   },
   "outputs": [],
   "source": [
    "with tf.name_scope('loss'):\n",
    "     xentropy = tf.nn.sparse_softmax_cross_entropy_with_logits(labels=y, logits=logits)\n",
    "     loss = tf.reduce_mean(xentropy, name='loss')"
   ]
  },
  {
   "cell_type": "code",
   "execution_count": 10,
   "metadata": {
    "collapsed": false
   },
   "outputs": [],
   "source": [
    "learning_rate = 0.001\n",
    "optimizer = tf.train.MomentumOptimizer(learning_rate=learning_rate, momentum=0.9, use_nesterov=True)\n",
    "training_op = optimizer.minimize(loss)"
   ]
  },
  {
   "cell_type": "code",
   "execution_count": 11,
   "metadata": {
    "collapsed": false
   },
   "outputs": [],
   "source": [
    "correct = tf.nn.in_top_k(logits, y, 1)\n",
    "accuracy = tf.reduce_mean(tf.cast(correct, tf.float32))\n",
    "cm = tf.confusion_matrix(y, tf.arg_max(logits, dimension=1))"
   ]
  },
  {
   "cell_type": "code",
   "execution_count": 12,
   "metadata": {
    "collapsed": true
   },
   "outputs": [],
   "source": [
    "init = tf.global_variables_initializer()"
   ]
  },
  {
   "cell_type": "code",
   "execution_count": 13,
   "metadata": {
    "collapsed": true
   },
   "outputs": [],
   "source": [
    "batch_size = 200\n",
    "n_epochs = 15"
   ]
  },
  {
   "cell_type": "code",
   "execution_count": 14,
   "metadata": {
    "collapsed": false
   },
   "outputs": [
    {
     "name": "stdout",
     "output_type": "stream",
     "text": [
      "0 train: 0.2734\n",
      "1 train: 0.3464\n",
      "2 train: 0.4804\n",
      "3 train: 0.6262\n",
      "4 train: 0.714\n",
      "5 train: 0.7788\n",
      "6 train: 0.815\n",
      "7 train: 0.842\n",
      "8 train: 0.8588\n",
      "9 train: 0.8704\n",
      "10 train: 0.8842\n",
      "11 train: 0.8926\n",
      "12 train: 0.8974\n",
      "13 train: 0.9018\n",
      "14 train: 0.906\n",
      "test: 0.9078\n",
      "CM: [[ 941    0    4    3    2    6   18    2    3    1]\n",
      " [   0 1109    6    4    2    0    6    1    7    0]\n",
      " [  13    7  895   31   16    2   12   20   31    5]\n",
      " [   6    1   23  897    1   32    2    8   31    9]\n",
      " [   3    7    4    3  900    0    9    2    5   49]\n",
      " [   8    2    3   51    2  777    7    1   30   11]\n",
      " [  25    6    7    0   10   16  884    0   10    0]\n",
      " [   9   11   34    8    7    3    0  926    3   27]\n",
      " [   8   12    8   21    4   14    8    8  867   24]\n",
      " [  16    8    8    7   39    6    1   28   14  882]]\n"
     ]
    }
   ],
   "source": [
    "with tf.Session() as sess:\n",
    "     init.run()\n",
    "     for epoch in xrange(n_epochs):\n",
    "          for iteration in range(mnist.train.num_examples // batch_size):\n",
    "               X_batch, y_batch = mnist.train.next_batch(batch_size)\n",
    "               X_batch = X_batch.reshape(-1, 28, 28, 1)\n",
    "               sess.run(training_op, feed_dict={X:X_batch, y:y_batch})\n",
    "          print epoch, \"train:\", accuracy.eval(feed_dict={X:X_valid, y:y_valid})\n",
    "     print \"test:\", accuracy.eval(feed_dict={X:X_test, y:y_test})\n",
    "     print \"CM:\\n\", cm.eval(feed_dict={X:X_test, y:y_test})"
   ]
  }
 ],
 "metadata": {
  "anaconda-cloud": {},
  "kernelspec": {
   "display_name": "Python [conda root]",
   "language": "python",
   "name": "conda-root-py"
  },
  "language_info": {
   "codemirror_mode": {
    "name": "ipython",
    "version": 2
   },
   "file_extension": ".py",
   "mimetype": "text/x-python",
   "name": "python",
   "nbconvert_exporter": "python",
   "pygments_lexer": "ipython2",
   "version": "2.7.12"
  }
 },
 "nbformat": 4,
 "nbformat_minor": 1
}
