{
 "cells": [
  {
   "cell_type": "markdown",
   "metadata": {},
   "source": [
    "# Jonathan Halverson\n",
    "# Friday, December 29, 2017\n",
    "# Reusing pretrained layers of an autoencoder"
   ]
  },
  {
   "cell_type": "markdown",
   "metadata": {},
   "source": [
    "Here we pretend we only have limited labeled data. We will only use 10% of the MNIST labels. First we will train a denoising autoencoder on the whole train set then reuse the lower layers and train a new DNN on a fraction of the labeled data. Can we achieve the same accuracy as using the full supervised training set?"
   ]
  },
  {
   "cell_type": "code",
   "execution_count": 1,
   "metadata": {
    "collapsed": true
   },
   "outputs": [],
   "source": [
    "import numpy as np\n",
    "import tensorflow as tf\n",
    "import matplotlib.pyplot as plt\n",
    "%matplotlib inline\n",
    "plt.style.use('halverson')"
   ]
  },
  {
   "cell_type": "code",
   "execution_count": 2,
   "metadata": {
    "collapsed": false
   },
   "outputs": [
    {
     "name": "stdout",
     "output_type": "stream",
     "text": [
      "Extracting /tmp/data/train-images-idx3-ubyte.gz\n",
      "Extracting /tmp/data/train-labels-idx1-ubyte.gz\n",
      "Extracting /tmp/data/t10k-images-idx3-ubyte.gz\n",
      "Extracting /tmp/data/t10k-labels-idx1-ubyte.gz\n"
     ]
    }
   ],
   "source": [
    "from tensorflow.examples.tutorials.mnist import input_data\n",
    "mnist = input_data.read_data_sets('/tmp/data/')"
   ]
  },
  {
   "cell_type": "code",
   "execution_count": 3,
   "metadata": {
    "collapsed": false
   },
   "outputs": [],
   "source": [
    "X_train = mnist.train.images\n",
    "y_train = mnist.train.labels\n",
    "X_valid = mnist.validation.images\n",
    "y_valid = mnist.validation.labels\n",
    "X_test = mnist.test.images\n",
    "y_test = mnist.test.labels\n",
    "d = 28"
   ]
  },
  {
   "cell_type": "code",
   "execution_count": 4,
   "metadata": {
    "collapsed": false
   },
   "outputs": [
    {
     "data": {
      "text/plain": [
       "<matplotlib.image.AxesImage at 0x105569e90>"
      ]
     },
     "execution_count": 4,
     "metadata": {},
     "output_type": "execute_result"
    },
    {
     "data": {
      "image/png": "[encoded data removed]",
      "text/plain": [
       "<matplotlib.figure.Figure at 0x181cf35c90>"
      ]
     },
     "metadata": {},
     "output_type": "display_data"
    }
   ],
   "source": [
    "plt.imshow(X_train[0].reshape(d, d), cmap='binary')"
   ]
  },
  {
   "cell_type": "markdown",
   "metadata": {},
   "source": [
    "Here are the counts of the digits (approximately balanced):"
   ]
  },
  {
   "cell_type": "code",
   "execution_count": 5,
   "metadata": {
    "collapsed": false
   },
   "outputs": [
    {
     "data": {
      "text/plain": [
       "<Container object of 10 artists>"
      ]
     },
     "execution_count": 5,
     "metadata": {},
     "output_type": "execute_result"
    },
    {
     "data": {
      "image/png": "[encoded data removed]",
      "text/plain": [
       "<matplotlib.figure.Figure at 0x10551b110>"
      ]
     },
     "metadata": {},
     "output_type": "display_data"
    }
   ],
   "source": [
    "plt.bar(np.arange(10), np.bincount(y_train))"
   ]
  },
  {
   "cell_type": "code",
   "execution_count": 6,
   "metadata": {
    "collapsed": false
   },
   "outputs": [
    {
     "data": {
      "text/plain": [
       "<matplotlib.text.Text at 0x181d3d6e50>"
      ]
     },
     "execution_count": 6,
     "metadata": {},
     "output_type": "execute_result"
    },
    {
     "data": {
      "image/png": "[encoded data removed]",
      "text/plain": [
       "<matplotlib.figure.Figure at 0x181d3e2c50>"
      ]
     },
     "metadata": {},
     "output_type": "display_data"
    }
   ],
   "source": [
    "plt.hist(X_train.flatten(), bins=20)\n",
    "plt.xlabel('Darkness')\n",
    "plt.ylabel('Count')"
   ]
  },
  {
   "cell_type": "markdown",
   "metadata": {},
   "source": [
    "We see the pixels are mostly colored white (zero) and black (one)."
   ]
  },
  {
   "cell_type": "markdown",
   "metadata": {},
   "source": [
    "### Step 0: Create a restricted training set using 10% of the original training set"
   ]
  },
  {
   "cell_type": "markdown",
   "metadata": {},
   "source": [
    "Make the training set for the supervised phase:"
   ]
  },
  {
   "cell_type": "code",
   "execution_count": 7,
   "metadata": {
    "collapsed": false
   },
   "outputs": [],
   "source": [
    "N = y_train.size\n",
    "ind = np.random.choice(np.arange(N), size=N//10, replace=False)\n",
    "X_10, y_10 = X_train[ind], y_train[ind]"
   ]
  },
  {
   "cell_type": "code",
   "execution_count": 8,
   "metadata": {
    "collapsed": true
   },
   "outputs": [],
   "source": [
    "def fetch_batch(A, b, batch_size):\n",
    "     # could use randint and bootstrapping\n",
    "     indices = np.random.choice(range(A.shape[0]), size=batch_size, replace=False)\n",
    "     return A[indices], b[indices]"
   ]
  },
  {
   "cell_type": "markdown",
   "metadata": {},
   "source": [
    "### Step 1: Create a stacked, undercomplete and denoising autoencoder"
   ]
  },
  {
   "cell_type": "code",
   "execution_count": 9,
   "metadata": {
    "collapsed": true
   },
   "outputs": [],
   "source": [
    "tf.reset_default_graph()"
   ]
  },
  {
   "cell_type": "code",
   "execution_count": 10,
   "metadata": {
    "collapsed": true
   },
   "outputs": [],
   "source": [
    "n_inputs = d * d\n",
    "n_hidden_1 = 22 * 22\n",
    "n_hidden_2 = 14 * 14\n",
    "n_hidden_3 = n_hidden_1\n",
    "n_outputs = n_inputs\n",
    "keep_prob = 0.5"
   ]
  },
  {
   "cell_type": "code",
   "execution_count": 11,
   "metadata": {
    "collapsed": false
   },
   "outputs": [],
   "source": [
    "training = tf.placeholder_with_default(False, shape=(None), name='training')\n",
    "\n",
    "X = tf.placeholder(dtype=tf.float32, shape=(None, n_inputs), name='inputs')\n",
    "X_dropout = tf.layers.dropout(X, keep_prob, training=training)\n",
    "\n",
    "he_init = tf.contrib.layers.variance_scaling_initializer()\n",
    "from functools import partial\n",
    "my_dense_layer = partial(tf.layers.dense, activation=tf.nn.relu, kernel_initializer=he_init)\n",
    "\n",
    "hidden1 = my_dense_layer(X_dropout, n_hidden_1, name='hidden1')\n",
    "hidden2 = my_dense_layer(hidden1, n_hidden_2, name='hidden2')\n",
    "hidden3 = my_dense_layer(hidden2, n_hidden_3, name='hidden3')\n",
    "outputs = my_dense_layer(hidden3, n_outputs, activation=None, name='outputs')"
   ]
  },
  {
   "cell_type": "code",
   "execution_count": 12,
   "metadata": {
    "collapsed": true
   },
   "outputs": [],
   "source": [
    "reconstruction_loss = tf.reduce_mean(tf.square(X - outputs))\n",
    "optimizer = tf.train.AdamOptimizer(learning_rate=0.001)\n",
    "training_op = optimizer.minimize(reconstruction_loss)"
   ]
  },
  {
   "cell_type": "code",
   "execution_count": 13,
   "metadata": {
    "collapsed": true
   },
   "outputs": [],
   "source": [
    "saver = tf.train.Saver()\n",
    "init = tf.global_variables_initializer()"
   ]
  },
  {
   "cell_type": "code",
   "execution_count": 14,
   "metadata": {
    "collapsed": true
   },
   "outputs": [],
   "source": [
    "batch_size = 200\n",
    "epochs = 50\n",
    "codings = hidden2"
   ]
  },
  {
   "cell_type": "code",
   "execution_count": 15,
   "metadata": {
    "collapsed": false
   },
   "outputs": [
    {
     "name": "stdout",
     "output_type": "stream",
     "text": [
      "- 0.294454\n",
      "0 0.0215538\n",
      "5 0.0149877\n",
      "10 0.0132624\n",
      "15 0.0122238\n",
      "20 0.0114927\n",
      "25 0.0110008\n",
      "30 0.010657\n",
      "35 0.0103352\n",
      "40 0.0101054\n",
      "45 0.00992177\n",
      "50 0.00969913\n"
     ]
    }
   ],
   "source": [
    "ckpt_path = '/tmp/data/autoen_to_limited_supervised.ckpt'\n",
    "with tf.Session() as sess:\n",
    "     init.run()\n",
    "     print '-', reconstruction_loss.eval(feed_dict={X:mnist.validation.images})\n",
    "     for epoch in xrange(epochs + 1):\n",
    "          for iteration in xrange(mnist.train.num_examples // batch_size):\n",
    "               X_batch, _ = mnist.train.next_batch(batch_size)\n",
    "               sess.run(training_op, feed_dict={X:X_batch, training:False}) # DROPOUT IS TURNED OFF DURING TRAINING\n",
    "          if not (epoch % 5): print epoch, reconstruction_loss.eval(feed_dict={X:mnist.validation.images})\n",
    "     save_path = saver.save(sess, ckpt_path)"
   ]
  },
  {
   "cell_type": "code",
   "execution_count": 16,
   "metadata": {
    "collapsed": false
   },
   "outputs": [
    {
     "name": "stdout",
     "output_type": "stream",
     "text": [
      "INFO:tensorflow:Restoring parameters from /tmp/data/autoen_to_limited_supervised.ckpt\n"
     ]
    },
    {
     "data": {
      "image/png": "[encoded data removed]",
      "text/plain": [
       "<matplotlib.figure.Figure at 0x105527190>"
      ]
     },
     "metadata": {},
     "output_type": "display_data"
    }
   ],
   "source": [
    "with tf.Session() as sess:\n",
    "     saver.restore(sess, ckpt_path)\n",
    "     outputs_test = outputs.eval(feed_dict={X:X_test})\n",
    "     plt.subplots(figsize=(10, 4))\n",
    "     for i in range(10):\n",
    "          plt.subplot(2, 10, i + 1)\n",
    "          plt.imshow(X_test[i].reshape(d, d), cmap='binary'); plt.axis('off')\n",
    "          plt.subplot(2, 10, i + 11)\n",
    "          plt.imshow(outputs_test[i].reshape(d, d), cmap='binary'); plt.axis('off')"
   ]
  },
  {
   "cell_type": "markdown",
   "metadata": {},
   "source": [
    "We see that the reconstruction loss is quite small and the outputs very much look like the inputs."
   ]
  },
  {
   "cell_type": "markdown",
   "metadata": {},
   "source": [
    "### Step 2: Construct a DNN by reusing hidden layers 1 and 2"
   ]
  },
  {
   "cell_type": "code",
   "execution_count": 17,
   "metadata": {
    "collapsed": true
   },
   "outputs": [],
   "source": [
    "tf.reset_default_graph()"
   ]
  },
  {
   "cell_type": "code",
   "execution_count": 18,
   "metadata": {
    "collapsed": true
   },
   "outputs": [],
   "source": [
    "saver = tf.train.import_meta_graph(ckpt_path + '.meta') # restores the graph, but not the values"
   ]
  },
  {
   "cell_type": "code",
   "execution_count": 19,
   "metadata": {
    "collapsed": false
   },
   "outputs": [
    {
     "data": {
      "text/plain": [
       "[u'hidden1/kernel:0',\n",
       " u'hidden1/bias:0',\n",
       " u'hidden2/kernel:0',\n",
       " u'hidden2/bias:0',\n",
       " u'hidden3/kernel:0',\n",
       " u'hidden3/bias:0',\n",
       " u'outputs/kernel:0',\n",
       " u'outputs/bias:0']"
      ]
     },
     "execution_count": 19,
     "metadata": {},
     "output_type": "execute_result"
    }
   ],
   "source": [
    "[v.name for v in tf.trainable_variables()]"
   ]
  },
  {
   "cell_type": "code",
   "execution_count": 20,
   "metadata": {
    "collapsed": false
   },
   "outputs": [
    {
     "name": "stdout",
     "output_type": "stream",
     "text": [
      "hidden3/kernel/Initializer/truncated_normal/shape\n",
      "hidden3/kernel/Initializer/truncated_normal/mean\n",
      "hidden3/kernel/Initializer/truncated_normal/stddev\n",
      "hidden3/kernel/Initializer/truncated_normal/TruncatedNormal\n",
      "hidden3/kernel/Initializer/truncated_normal/mul\n",
      "hidden3/kernel/Initializer/truncated_normal\n",
      "hidden3/kernel\n",
      "hidden3/kernel/Assign\n",
      "hidden3/kernel/read\n",
      "hidden3/bias/Initializer/Const\n",
      "hidden3/bias\n",
      "hidden3/bias/Assign\n",
      "hidden3/bias/read\n",
      "hidden3/MatMul\n",
      "hidden3/BiasAdd\n",
      "hidden3/Relu\n",
      "gradients/hidden3/Relu_grad/ReluGrad\n",
      "gradients/hidden3/BiasAdd_grad/BiasAddGrad\n",
      "gradients/hidden3/BiasAdd_grad/tuple/group_deps\n",
      "gradients/hidden3/BiasAdd_grad/tuple/control_dependency\n",
      "gradients/hidden3/BiasAdd_grad/tuple/control_dependency_1\n",
      "gradients/hidden3/MatMul_grad/MatMul\n",
      "gradients/hidden3/MatMul_grad/MatMul_1\n",
      "gradients/hidden3/MatMul_grad/tuple/group_deps\n",
      "gradients/hidden3/MatMul_grad/tuple/control_dependency\n",
      "gradients/hidden3/MatMul_grad/tuple/control_dependency_1\n",
      "hidden3/kernel/Adam/Initializer/Const\n",
      "hidden3/kernel/Adam\n",
      "hidden3/kernel/Adam/Assign\n",
      "hidden3/kernel/Adam/read\n",
      "hidden3/kernel/Adam_1/Initializer/Const\n",
      "hidden3/kernel/Adam_1\n",
      "hidden3/kernel/Adam_1/Assign\n",
      "hidden3/kernel/Adam_1/read\n",
      "hidden3/bias/Adam/Initializer/Const\n",
      "hidden3/bias/Adam\n",
      "hidden3/bias/Adam/Assign\n",
      "hidden3/bias/Adam/read\n",
      "hidden3/bias/Adam_1/Initializer/Const\n",
      "hidden3/bias/Adam_1\n",
      "hidden3/bias/Adam_1/Assign\n",
      "hidden3/bias/Adam_1/read\n",
      "Adam/update_hidden3/kernel/ApplyAdam\n",
      "Adam/update_hidden3/bias/ApplyAdam\n"
     ]
    }
   ],
   "source": [
    "for op in tf.get_default_graph().get_operations():\n",
    "     if 'hidden3' in op.name: print (op.name)"
   ]
  },
  {
   "cell_type": "markdown",
   "metadata": {},
   "source": [
    "Let's freeze everything except for the output layer:"
   ]
  },
  {
   "cell_type": "code",
   "execution_count": 21,
   "metadata": {
    "collapsed": false
   },
   "outputs": [],
   "source": [
    "X = tf.get_default_graph().get_tensor_by_name(\"inputs:0\")\n",
    "y = tf.placeholder(dtype=tf.int32, shape=(None))\n",
    "\n",
    "hidden2 = tf.get_default_graph().get_tensor_by_name(\"hidden2/Relu:0\")\n",
    "hidden3 = tf.layers.dense(hidden2, n_hidden_3, name=\"new_hidden3\")\n",
    "new_outputs = tf.layers.dense(hidden3, n_outputs, name=\"new_outputs\")"
   ]
  },
  {
   "cell_type": "code",
   "execution_count": 22,
   "metadata": {
    "collapsed": false
   },
   "outputs": [
    {
     "data": {
      "text/plain": [
       "[<tf.Variable 'new_hidden3/kernel:0' shape=(196, 484) dtype=float32_ref>,\n",
       " <tf.Variable 'new_hidden3/bias:0' shape=(484,) dtype=float32_ref>,\n",
       " <tf.Variable 'new_outputs/kernel:0' shape=(484, 784) dtype=float32_ref>,\n",
       " <tf.Variable 'new_outputs/bias:0' shape=(784,) dtype=float32_ref>]"
      ]
     },
     "execution_count": 22,
     "metadata": {},
     "output_type": "execute_result"
    }
   ],
   "source": [
    "train_vars = tf.get_collection(tf.GraphKeys.TRAINABLE_VARIABLES, scope='new')\n",
    "train_vars"
   ]
  },
  {
   "cell_type": "code",
   "execution_count": 23,
   "metadata": {
    "collapsed": false
   },
   "outputs": [],
   "source": [
    "xentropy = tf.nn.sparse_softmax_cross_entropy_with_logits(labels=y, logits=new_outputs)\n",
    "loss = tf.reduce_mean(xentropy)\n",
    "optimizer = tf.train.AdamOptimizer(learning_rate=0.005, name='Adam2')\n",
    "training_op = optimizer.minimize(loss, var_list=train_vars)\n",
    "correct = tf.nn.in_top_k(new_outputs, y, 1)\n",
    "accuracy = tf.reduce_mean(tf.cast(correct, tf.float32))\n",
    "\n",
    "init = tf.global_variables_initializer()"
   ]
  },
  {
   "cell_type": "code",
   "execution_count": 24,
   "metadata": {
    "collapsed": true
   },
   "outputs": [],
   "source": [
    "epochs = 50\n",
    "batch_size = 200"
   ]
  },
  {
   "cell_type": "code",
   "execution_count": 25,
   "metadata": {
    "collapsed": false
   },
   "outputs": [
    {
     "name": "stdout",
     "output_type": "stream",
     "text": [
      "INFO:tensorflow:Restoring parameters from /tmp/data/autoen_to_limited_supervised.ckpt\n",
      "0 0.7532 0.774384\n",
      "5 0.883 0.372242\n",
      "10 0.8895 0.370333\n",
      "15 0.8876 0.368632\n",
      "20 0.885 0.377555\n",
      "25 0.8836 0.398101\n",
      "30 0.8893 0.38166\n",
      "35 0.8826 0.413075\n",
      "40 0.8824 0.398352\n",
      "45 0.894 0.365686\n",
      "50 0.8844 0.380994\n"
     ]
    }
   ],
   "source": [
    "with tf.Session() as sess:\n",
    "     init.run()\n",
    "     saver.restore(sess, ckpt_path) # restore the variable values\n",
    "     wts_before = [v for v in tf.trainable_variables() if v.name == \"hidden2/kernel:0\"][0].eval()\n",
    "     for epoch in xrange(epochs + 1):\n",
    "          for iteration in xrange(y_10.size // batch_size):\n",
    "               X_batch, y_batch = fetch_batch(X_10, y_10, batch_size)\n",
    "               sess.run(training_op, feed_dict={X:X_batch, y:y_batch})\n",
    "          if not (epoch % 5): print epoch, accuracy.eval(feed_dict={X:X_test, y:y_test}), loss.eval(feed_dict={X:X_test, y:y_test})\n",
    "     wts_after = [v for v in tf.trainable_variables() if v.name == \"hidden2/kernel:0\"][0].eval()"
   ]
  },
  {
   "cell_type": "code",
   "execution_count": 26,
   "metadata": {
    "collapsed": false
   },
   "outputs": [
    {
     "data": {
      "text/plain": [
       "True"
      ]
     },
     "execution_count": 26,
     "metadata": {},
     "output_type": "execute_result"
    }
   ],
   "source": [
    "np.allclose(wts_before, wts_after)"
   ]
  },
  {
   "cell_type": "markdown",
   "metadata": {},
   "source": [
    "### Step 3: Try again without freezing the layers (and no dropout)"
   ]
  },
  {
   "cell_type": "code",
   "execution_count": 27,
   "metadata": {
    "collapsed": true
   },
   "outputs": [],
   "source": [
    "tf.reset_default_graph()"
   ]
  },
  {
   "cell_type": "code",
   "execution_count": 28,
   "metadata": {
    "collapsed": false
   },
   "outputs": [],
   "source": [
    "X = tf.placeholder(dtype=tf.float32, shape=(None, n_inputs), name='inputs')\n",
    "y = tf.placeholder(dtype=tf.int32, shape=(None))\n",
    "\n",
    "hidden1 = my_dense_layer(X, n_hidden_1, name='hidden1')\n",
    "hidden2 = my_dense_layer(hidden1, n_hidden_2, name='hidden2')\n",
    "hidden3 = my_dense_layer(hidden2, n_hidden_3, name='hidden3')\n",
    "outputs = my_dense_layer(hidden3, n_outputs, activation=None, name='outputs')"
   ]
  },
  {
   "cell_type": "code",
   "execution_count": 29,
   "metadata": {
    "collapsed": false
   },
   "outputs": [],
   "source": [
    "xentropy = tf.nn.sparse_softmax_cross_entropy_with_logits(labels=y, logits=outputs)\n",
    "loss = tf.reduce_mean(xentropy)\n",
    "\n",
    "optimizer = tf.train.AdamOptimizer(learning_rate=0.001)\n",
    "training_op = optimizer.minimize(loss)\n",
    "\n",
    "correct = tf.nn.in_top_k(outputs, y, 1)\n",
    "accuracy = tf.reduce_mean(tf.cast(correct, tf.float32))"
   ]
  },
  {
   "cell_type": "code",
   "execution_count": 30,
   "metadata": {
    "collapsed": true
   },
   "outputs": [],
   "source": [
    "init = tf.global_variables_initializer()"
   ]
  },
  {
   "cell_type": "markdown",
   "metadata": {},
   "source": [
    "#### Here we use the full train set to train"
   ]
  },
  {
   "cell_type": "code",
   "execution_count": 31,
   "metadata": {
    "collapsed": true
   },
   "outputs": [],
   "source": [
    "batch_size = 200\n",
    "epochs = 25"
   ]
  },
  {
   "cell_type": "code",
   "execution_count": 32,
   "metadata": {
    "collapsed": false
   },
   "outputs": [
    {
     "name": "stdout",
     "output_type": "stream",
     "text": [
      "- 0.0001 6.55797\n",
      "0 0.964 0.121262\n",
      "5 0.98 0.0711673\n",
      "10 0.968 0.149448\n",
      "15 0.9802 0.0889154\n",
      "20 0.9813 0.0906406\n",
      "25 0.9844 0.0872181\n"
     ]
    }
   ],
   "source": [
    "with tf.Session() as sess:\n",
    "     init.run()\n",
    "     print '-', accuracy.eval(feed_dict={X:X_test, y:y_test}), loss.eval(feed_dict={X:X_test, y:y_test})\n",
    "     for epoch in xrange(epochs + 1):\n",
    "          for iteration in xrange(mnist.train.num_examples // batch_size):\n",
    "               X_batch, y_batch = mnist.train.next_batch(batch_size)\n",
    "               sess.run(training_op, feed_dict={X:X_batch, y:y_batch})\n",
    "          if not (epoch % 5): print epoch, accuracy.eval(feed_dict={X:X_test, y:y_test}), loss.eval(feed_dict={X:X_test, y:y_test})"
   ]
  },
  {
   "cell_type": "markdown",
   "metadata": {},
   "source": [
    "#### Here we use one-tenth of the training set"
   ]
  },
  {
   "cell_type": "code",
   "execution_count": 33,
   "metadata": {
    "collapsed": true
   },
   "outputs": [],
   "source": [
    "batch_size = 200\n",
    "epochs = 25"
   ]
  },
  {
   "cell_type": "code",
   "execution_count": 34,
   "metadata": {
    "collapsed": false
   },
   "outputs": [
    {
     "name": "stdout",
     "output_type": "stream",
     "text": [
      "- 0.0 6.77211\n",
      "0 0.8767 0.41148\n",
      "5 0.9397 0.206468\n",
      "10 0.9472 0.210446\n",
      "15 0.953 0.201709\n",
      "20 0.9544 0.213558\n",
      "25 0.9538 0.2209\n"
     ]
    }
   ],
   "source": [
    "with tf.Session() as sess:\n",
    "     init.run()\n",
    "     print '-', accuracy.eval(feed_dict={X:X_test, y:y_test}), loss.eval(feed_dict={X:X_test, y:y_test})\n",
    "     for epoch in xrange(epochs + 1):\n",
    "          for iteration in xrange(y_10.size // batch_size):\n",
    "               X_batch, y_batch = fetch_batch(X_10, y_10, batch_size)\n",
    "               sess.run(training_op, feed_dict={X:X_batch, y:y_batch})\n",
    "          if not (epoch % 5): print epoch, accuracy.eval(feed_dict={X:X_test, y:y_test}), loss.eval(feed_dict={X:X_test, y:y_test})"
   ]
  },
  {
   "cell_type": "markdown",
   "metadata": {},
   "source": [
    "### Summary"
   ]
  },
  {
   "cell_type": "markdown",
   "metadata": {},
   "source": [
    "The first step was to train an autoencoder using all of the train set. This unsupervised phase was done with the input having 784 neurons, hidden layer 1 with 484, hidden layer 2 with 144 and hidden layer 3 with 484. Of course, the number of output neurons is equal to the number of input neurons. Dropout was used on the input layer during training. We achieved a low value for the reconstruction loss and the output digits looked very much like the input digits.\n",
    "\n",
    "In the next phase we reused the weights and biases from the first two hidden layers and retrained the third hidden layer and the output layer using only 10% of the supervised training data. This resulted in an accuracy of only 91%.\n",
    "\n",
    "We then created a new network with the same number of layers and number of neurons per layer and trained the network from scratch using the entire training set and then one-tenth of the training set.\n",
    "\n",
    "\n",
    "|Model notes| Accuracy|\n",
    "|---|---|\n",
    "|100% of training set (no autoencoder pre-training)|97.2%|\n",
    "|10% of training set (no autoencoder pre-training)|95.5%|\n",
    "|10% of training set with autoencoder pre-training on entire training set|95.5%|"
   ]
  }
 ],
 "metadata": {
  "kernelspec": {
   "display_name": "Python [conda root]",
   "language": "python",
   "name": "conda-root-py"
  },
  "language_info": {
   "codemirror_mode": {
    "name": "ipython",
    "version": 2
   },
   "file_extension": ".py",
   "mimetype": "text/x-python",
   "name": "python",
   "nbconvert_exporter": "python",
   "pygments_lexer": "ipython2",
   "version": "2.7.12"
  }
 },
 "nbformat": 4,
 "nbformat_minor": 1
}
