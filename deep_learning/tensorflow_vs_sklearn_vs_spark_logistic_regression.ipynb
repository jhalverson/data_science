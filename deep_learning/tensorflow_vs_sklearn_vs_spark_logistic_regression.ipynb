{
 "cells": [
  {
   "cell_type": "markdown",
   "metadata": {},
   "source": [
    "# Jonathan Halverson\n",
    "# Thursday, December 7, 2017\n",
    "# Logistic regression in Tensorflow, Sklearn and Spark"
   ]
  },
  {
   "cell_type": "code",
   "execution_count": 1,
   "metadata": {
    "collapsed": true
   },
   "outputs": [],
   "source": [
    "import numpy as np\n",
    "import pandas as pd"
   ]
  },
  {
   "cell_type": "code",
   "execution_count": 2,
   "metadata": {
    "collapsed": true
   },
   "outputs": [],
   "source": [
    "from sklearn.datasets import load_breast_cancer"
   ]
  },
  {
   "cell_type": "code",
   "execution_count": 3,
   "metadata": {
    "collapsed": true
   },
   "outputs": [],
   "source": [
    "bc = load_breast_cancer()"
   ]
  },
  {
   "cell_type": "code",
   "execution_count": 4,
   "metadata": {
    "collapsed": false
   },
   "outputs": [
    {
     "data": {
      "text/html": [
       "<div>\n",
       "<table border=\"1\" class=\"dataframe\">\n",
       "  <thead>\n",
       "    <tr style=\"text-align: right;\">\n",
       "      <th></th>\n",
       "      <th>0</th>\n",
       "      <th>1</th>\n",
       "      <th>2</th>\n",
       "      <th>3</th>\n",
       "      <th>4</th>\n",
       "    </tr>\n",
       "  </thead>\n",
       "  <tbody>\n",
       "    <tr>\n",
       "      <th>mean radius</th>\n",
       "      <td>17.990000</td>\n",
       "      <td>20.570000</td>\n",
       "      <td>19.690000</td>\n",
       "      <td>11.420000</td>\n",
       "      <td>20.290000</td>\n",
       "    </tr>\n",
       "    <tr>\n",
       "      <th>mean texture</th>\n",
       "      <td>10.380000</td>\n",
       "      <td>17.770000</td>\n",
       "      <td>21.250000</td>\n",
       "      <td>20.380000</td>\n",
       "      <td>14.340000</td>\n",
       "    </tr>\n",
       "    <tr>\n",
       "      <th>mean perimeter</th>\n",
       "      <td>122.800000</td>\n",
       "      <td>132.900000</td>\n",
       "      <td>130.000000</td>\n",
       "      <td>77.580000</td>\n",
       "      <td>135.100000</td>\n",
       "    </tr>\n",
       "    <tr>\n",
       "      <th>mean area</th>\n",
       "      <td>1001.000000</td>\n",
       "      <td>1326.000000</td>\n",
       "      <td>1203.000000</td>\n",
       "      <td>386.100000</td>\n",
       "      <td>1297.000000</td>\n",
       "    </tr>\n",
       "    <tr>\n",
       "      <th>mean smoothness</th>\n",
       "      <td>0.118400</td>\n",
       "      <td>0.084740</td>\n",
       "      <td>0.109600</td>\n",
       "      <td>0.142500</td>\n",
       "      <td>0.100300</td>\n",
       "    </tr>\n",
       "    <tr>\n",
       "      <th>mean compactness</th>\n",
       "      <td>0.277600</td>\n",
       "      <td>0.078640</td>\n",
       "      <td>0.159900</td>\n",
       "      <td>0.283900</td>\n",
       "      <td>0.132800</td>\n",
       "    </tr>\n",
       "    <tr>\n",
       "      <th>mean concavity</th>\n",
       "      <td>0.300100</td>\n",
       "      <td>0.086900</td>\n",
       "      <td>0.197400</td>\n",
       "      <td>0.241400</td>\n",
       "      <td>0.198000</td>\n",
       "    </tr>\n",
       "    <tr>\n",
       "      <th>mean concave points</th>\n",
       "      <td>0.147100</td>\n",
       "      <td>0.070170</td>\n",
       "      <td>0.127900</td>\n",
       "      <td>0.105200</td>\n",
       "      <td>0.104300</td>\n",
       "    </tr>\n",
       "    <tr>\n",
       "      <th>mean symmetry</th>\n",
       "      <td>0.241900</td>\n",
       "      <td>0.181200</td>\n",
       "      <td>0.206900</td>\n",
       "      <td>0.259700</td>\n",
       "      <td>0.180900</td>\n",
       "    </tr>\n",
       "    <tr>\n",
       "      <th>mean fractal dimension</th>\n",
       "      <td>0.078710</td>\n",
       "      <td>0.056670</td>\n",
       "      <td>0.059990</td>\n",
       "      <td>0.097440</td>\n",
       "      <td>0.058830</td>\n",
       "    </tr>\n",
       "    <tr>\n",
       "      <th>radius error</th>\n",
       "      <td>1.095000</td>\n",
       "      <td>0.543500</td>\n",
       "      <td>0.745600</td>\n",
       "      <td>0.495600</td>\n",
       "      <td>0.757200</td>\n",
       "    </tr>\n",
       "    <tr>\n",
       "      <th>texture error</th>\n",
       "      <td>0.905300</td>\n",
       "      <td>0.733900</td>\n",
       "      <td>0.786900</td>\n",
       "      <td>1.156000</td>\n",
       "      <td>0.781300</td>\n",
       "    </tr>\n",
       "    <tr>\n",
       "      <th>perimeter error</th>\n",
       "      <td>8.589000</td>\n",
       "      <td>3.398000</td>\n",
       "      <td>4.585000</td>\n",
       "      <td>3.445000</td>\n",
       "      <td>5.438000</td>\n",
       "    </tr>\n",
       "    <tr>\n",
       "      <th>area error</th>\n",
       "      <td>153.400000</td>\n",
       "      <td>74.080000</td>\n",
       "      <td>94.030000</td>\n",
       "      <td>27.230000</td>\n",
       "      <td>94.440000</td>\n",
       "    </tr>\n",
       "    <tr>\n",
       "      <th>smoothness error</th>\n",
       "      <td>0.006399</td>\n",
       "      <td>0.005225</td>\n",
       "      <td>0.006150</td>\n",
       "      <td>0.009110</td>\n",
       "      <td>0.011490</td>\n",
       "    </tr>\n",
       "    <tr>\n",
       "      <th>compactness error</th>\n",
       "      <td>0.049040</td>\n",
       "      <td>0.013080</td>\n",
       "      <td>0.040060</td>\n",
       "      <td>0.074580</td>\n",
       "      <td>0.024610</td>\n",
       "    </tr>\n",
       "    <tr>\n",
       "      <th>concavity error</th>\n",
       "      <td>0.053730</td>\n",
       "      <td>0.018600</td>\n",
       "      <td>0.038320</td>\n",
       "      <td>0.056610</td>\n",
       "      <td>0.056880</td>\n",
       "    </tr>\n",
       "    <tr>\n",
       "      <th>concave points error</th>\n",
       "      <td>0.015870</td>\n",
       "      <td>0.013400</td>\n",
       "      <td>0.020580</td>\n",
       "      <td>0.018670</td>\n",
       "      <td>0.018850</td>\n",
       "    </tr>\n",
       "    <tr>\n",
       "      <th>symmetry error</th>\n",
       "      <td>0.030030</td>\n",
       "      <td>0.013890</td>\n",
       "      <td>0.022500</td>\n",
       "      <td>0.059630</td>\n",
       "      <td>0.017560</td>\n",
       "    </tr>\n",
       "    <tr>\n",
       "      <th>fractal dimension error</th>\n",
       "      <td>0.006193</td>\n",
       "      <td>0.003532</td>\n",
       "      <td>0.004571</td>\n",
       "      <td>0.009208</td>\n",
       "      <td>0.005115</td>\n",
       "    </tr>\n",
       "    <tr>\n",
       "      <th>worst radius</th>\n",
       "      <td>25.380000</td>\n",
       "      <td>24.990000</td>\n",
       "      <td>23.570000</td>\n",
       "      <td>14.910000</td>\n",
       "      <td>22.540000</td>\n",
       "    </tr>\n",
       "    <tr>\n",
       "      <th>worst texture</th>\n",
       "      <td>17.330000</td>\n",
       "      <td>23.410000</td>\n",
       "      <td>25.530000</td>\n",
       "      <td>26.500000</td>\n",
       "      <td>16.670000</td>\n",
       "    </tr>\n",
       "    <tr>\n",
       "      <th>worst perimeter</th>\n",
       "      <td>184.600000</td>\n",
       "      <td>158.800000</td>\n",
       "      <td>152.500000</td>\n",
       "      <td>98.870000</td>\n",
       "      <td>152.200000</td>\n",
       "    </tr>\n",
       "    <tr>\n",
       "      <th>worst area</th>\n",
       "      <td>2019.000000</td>\n",
       "      <td>1956.000000</td>\n",
       "      <td>1709.000000</td>\n",
       "      <td>567.700000</td>\n",
       "      <td>1575.000000</td>\n",
       "    </tr>\n",
       "    <tr>\n",
       "      <th>worst smoothness</th>\n",
       "      <td>0.162200</td>\n",
       "      <td>0.123800</td>\n",
       "      <td>0.144400</td>\n",
       "      <td>0.209800</td>\n",
       "      <td>0.137400</td>\n",
       "    </tr>\n",
       "    <tr>\n",
       "      <th>worst compactness</th>\n",
       "      <td>0.665600</td>\n",
       "      <td>0.186600</td>\n",
       "      <td>0.424500</td>\n",
       "      <td>0.866300</td>\n",
       "      <td>0.205000</td>\n",
       "    </tr>\n",
       "    <tr>\n",
       "      <th>worst concavity</th>\n",
       "      <td>0.711900</td>\n",
       "      <td>0.241600</td>\n",
       "      <td>0.450400</td>\n",
       "      <td>0.686900</td>\n",
       "      <td>0.400000</td>\n",
       "    </tr>\n",
       "    <tr>\n",
       "      <th>worst concave points</th>\n",
       "      <td>0.265400</td>\n",
       "      <td>0.186000</td>\n",
       "      <td>0.243000</td>\n",
       "      <td>0.257500</td>\n",
       "      <td>0.162500</td>\n",
       "    </tr>\n",
       "    <tr>\n",
       "      <th>worst symmetry</th>\n",
       "      <td>0.460100</td>\n",
       "      <td>0.275000</td>\n",
       "      <td>0.361300</td>\n",
       "      <td>0.663800</td>\n",
       "      <td>0.236400</td>\n",
       "    </tr>\n",
       "    <tr>\n",
       "      <th>worst fractal dimension</th>\n",
       "      <td>0.118900</td>\n",
       "      <td>0.089020</td>\n",
       "      <td>0.087580</td>\n",
       "      <td>0.173000</td>\n",
       "      <td>0.076780</td>\n",
       "    </tr>\n",
       "  </tbody>\n",
       "</table>\n",
       "</div>"
      ],
      "text/plain": [
       "                                   0            1            2           3  \\\n",
       "mean radius                17.990000    20.570000    19.690000   11.420000   \n",
       "mean texture               10.380000    17.770000    21.250000   20.380000   \n",
       "mean perimeter            122.800000   132.900000   130.000000   77.580000   \n",
       "mean area                1001.000000  1326.000000  1203.000000  386.100000   \n",
       "mean smoothness             0.118400     0.084740     0.109600    0.142500   \n",
       "mean compactness            0.277600     0.078640     0.159900    0.283900   \n",
       "mean concavity              0.300100     0.086900     0.197400    0.241400   \n",
       "mean concave points         0.147100     0.070170     0.127900    0.105200   \n",
       "mean symmetry               0.241900     0.181200     0.206900    0.259700   \n",
       "mean fractal dimension      0.078710     0.056670     0.059990    0.097440   \n",
       "radius error                1.095000     0.543500     0.745600    0.495600   \n",
       "texture error               0.905300     0.733900     0.786900    1.156000   \n",
       "perimeter error             8.589000     3.398000     4.585000    3.445000   \n",
       "area error                153.400000    74.080000    94.030000   27.230000   \n",
       "smoothness error            0.006399     0.005225     0.006150    0.009110   \n",
       "compactness error           0.049040     0.013080     0.040060    0.074580   \n",
       "concavity error             0.053730     0.018600     0.038320    0.056610   \n",
       "concave points error        0.015870     0.013400     0.020580    0.018670   \n",
       "symmetry error              0.030030     0.013890     0.022500    0.059630   \n",
       "fractal dimension error     0.006193     0.003532     0.004571    0.009208   \n",
       "worst radius               25.380000    24.990000    23.570000   14.910000   \n",
       "worst texture              17.330000    23.410000    25.530000   26.500000   \n",
       "worst perimeter           184.600000   158.800000   152.500000   98.870000   \n",
       "worst area               2019.000000  1956.000000  1709.000000  567.700000   \n",
       "worst smoothness            0.162200     0.123800     0.144400    0.209800   \n",
       "worst compactness           0.665600     0.186600     0.424500    0.866300   \n",
       "worst concavity             0.711900     0.241600     0.450400    0.686900   \n",
       "worst concave points        0.265400     0.186000     0.243000    0.257500   \n",
       "worst symmetry              0.460100     0.275000     0.361300    0.663800   \n",
       "worst fractal dimension     0.118900     0.089020     0.087580    0.173000   \n",
       "\n",
       "                                   4  \n",
       "mean radius                20.290000  \n",
       "mean texture               14.340000  \n",
       "mean perimeter            135.100000  \n",
       "mean area                1297.000000  \n",
       "mean smoothness             0.100300  \n",
       "mean compactness            0.132800  \n",
       "mean concavity              0.198000  \n",
       "mean concave points         0.104300  \n",
       "mean symmetry               0.180900  \n",
       "mean fractal dimension      0.058830  \n",
       "radius error                0.757200  \n",
       "texture error               0.781300  \n",
       "perimeter error             5.438000  \n",
       "area error                 94.440000  \n",
       "smoothness error            0.011490  \n",
       "compactness error           0.024610  \n",
       "concavity error             0.056880  \n",
       "concave points error        0.018850  \n",
       "symmetry error              0.017560  \n",
       "fractal dimension error     0.005115  \n",
       "worst radius               22.540000  \n",
       "worst texture              16.670000  \n",
       "worst perimeter           152.200000  \n",
       "worst area               1575.000000  \n",
       "worst smoothness            0.137400  \n",
       "worst compactness           0.205000  \n",
       "worst concavity             0.400000  \n",
       "worst concave points        0.162500  \n",
       "worst symmetry              0.236400  \n",
       "worst fractal dimension     0.076780  "
      ]
     },
     "execution_count": 4,
     "metadata": {},
     "output_type": "execute_result"
    }
   ],
   "source": [
    "y = bc.target\n",
    "df = pd.DataFrame(bc.data, columns=bc.feature_names.tolist())\n",
    "df.head().T"
   ]
  },
  {
   "cell_type": "markdown",
   "metadata": {},
   "source": [
    "We see that the classes are not balanced:"
   ]
  },
  {
   "cell_type": "code",
   "execution_count": 5,
   "metadata": {
    "collapsed": false
   },
   "outputs": [
    {
     "data": {
      "text/plain": [
       "array([212, 357])"
      ]
     },
     "execution_count": 5,
     "metadata": {},
     "output_type": "execute_result"
    }
   ],
   "source": [
    "np.bincount(bc.target)"
   ]
  },
  {
   "cell_type": "markdown",
   "metadata": {
    "collapsed": true
   },
   "source": [
    "Let's standardize the features and then apply PCA:"
   ]
  },
  {
   "cell_type": "code",
   "execution_count": 6,
   "metadata": {
    "collapsed": true
   },
   "outputs": [],
   "source": [
    "from sklearn.decomposition import PCA\n",
    "from sklearn.preprocessing import StandardScaler"
   ]
  },
  {
   "cell_type": "code",
   "execution_count": 7,
   "metadata": {
    "collapsed": true
   },
   "outputs": [],
   "source": [
    "std_sc = StandardScaler()\n",
    "X_std = std_sc.fit_transform(bc.data)"
   ]
  },
  {
   "cell_type": "code",
   "execution_count": 8,
   "metadata": {
    "collapsed": true
   },
   "outputs": [],
   "source": [
    "pca = PCA(n_components=5)\n",
    "X_std_pca = pca.fit_transform(X_std)"
   ]
  },
  {
   "cell_type": "code",
   "execution_count": 9,
   "metadata": {
    "collapsed": false
   },
   "outputs": [
    {
     "data": {
      "text/plain": [
       "(array([  1.26436647e-16,  -1.52192260e-16,   9.59981947e-17,\n",
       "          4.05846027e-17,   1.25948851e-16]),\n",
       " array([ 3.64439401,  2.38565601,  1.67867477,  1.40735229,  1.28402903]))"
      ]
     },
     "execution_count": 9,
     "metadata": {},
     "output_type": "execute_result"
    }
   ],
   "source": [
    "np.mean(X_std_pca, axis=0), np.std(X_std_pca, axis=0)"
   ]
  },
  {
   "cell_type": "markdown",
   "metadata": {},
   "source": [
    "### Sklearn"
   ]
  },
  {
   "cell_type": "code",
   "execution_count": 10,
   "metadata": {
    "collapsed": true
   },
   "outputs": [],
   "source": [
    "from sklearn.linear_model import LogisticRegression"
   ]
  },
  {
   "cell_type": "code",
   "execution_count": 11,
   "metadata": {
    "collapsed": false
   },
   "outputs": [
    {
     "data": {
      "text/plain": [
       "LogisticRegression(C=1000000.0, class_weight=None, dual=False,\n",
       "          fit_intercept=True, intercept_scaling=1, max_iter=100,\n",
       "          multi_class='ovr', n_jobs=1, penalty='l2', random_state=None,\n",
       "          solver='liblinear', tol=0.0001, verbose=0, warm_start=False)"
      ]
     },
     "execution_count": 11,
     "metadata": {},
     "output_type": "execute_result"
    }
   ],
   "source": [
    "lr = LogisticRegression(C=1e6)\n",
    "lr.fit(X_std_pca, y)"
   ]
  },
  {
   "cell_type": "code",
   "execution_count": 12,
   "metadata": {
    "collapsed": false
   },
   "outputs": [
    {
     "data": {
      "text/plain": [
       "array([[-2.89058131,  1.5914026 ,  0.49835312,  0.78400646,  1.28055342]])"
      ]
     },
     "execution_count": 12,
     "metadata": {},
     "output_type": "execute_result"
    }
   ],
   "source": [
    "lr.coef_"
   ]
  },
  {
   "cell_type": "code",
   "execution_count": 13,
   "metadata": {
    "collapsed": false
   },
   "outputs": [
    {
     "data": {
      "text/plain": [
       "array([ 0.41356369])"
      ]
     },
     "execution_count": 13,
     "metadata": {},
     "output_type": "execute_result"
    }
   ],
   "source": [
    "lr.intercept_"
   ]
  },
  {
   "cell_type": "code",
   "execution_count": 14,
   "metadata": {
    "collapsed": false
   },
   "outputs": [
    {
     "data": {
      "text/plain": [
       "0.97715289982425313"
      ]
     },
     "execution_count": 14,
     "metadata": {},
     "output_type": "execute_result"
    }
   ],
   "source": [
    "lr.score(X_std_pca, y)"
   ]
  },
  {
   "cell_type": "code",
   "execution_count": 15,
   "metadata": {
    "collapsed": false
   },
   "outputs": [
    {
     "data": {
      "text/plain": [
       "array([8], dtype=int32)"
      ]
     },
     "execution_count": 15,
     "metadata": {},
     "output_type": "execute_result"
    }
   ],
   "source": [
    "lr.n_iter_"
   ]
  },
  {
   "cell_type": "markdown",
   "metadata": {},
   "source": [
    "### Tensorflow"
   ]
  },
  {
   "cell_type": "code",
   "execution_count": 16,
   "metadata": {
    "collapsed": true
   },
   "outputs": [],
   "source": [
    "import tensorflow as tf"
   ]
  },
  {
   "cell_type": "code",
   "execution_count": 17,
   "metadata": {
    "collapsed": false
   },
   "outputs": [],
   "source": [
    "tf.reset_default_graph()"
   ]
  },
  {
   "cell_type": "code",
   "execution_count": 18,
   "metadata": {
    "collapsed": false
   },
   "outputs": [],
   "source": [
    "y_true = bc.target.reshape(-1, 1)\n",
    "X = tf.constant(X_std_pca, dtype=tf.float64, name=\"X\")\n",
    "y = tf.constant(y_true, dtype=tf.int64, name=\"y\")"
   ]
  },
  {
   "cell_type": "code",
   "execution_count": 19,
   "metadata": {
    "collapsed": false
   },
   "outputs": [],
   "source": [
    "k_init = tf.truncated_normal_initializer(mean=0.0, stddev=1.0, seed=42)\n",
    "prob_positive = tf.layers.dense(inputs=X, units=1, activation=tf.sigmoid, kernel_initializer=k_init, name='single_neuron')"
   ]
  },
  {
   "cell_type": "code",
   "execution_count": 20,
   "metadata": {
    "collapsed": true
   },
   "outputs": [],
   "source": [
    "loss = tf.losses.log_loss(labels=y_true, predictions=prob_positive)"
   ]
  },
  {
   "cell_type": "markdown",
   "metadata": {},
   "source": [
    "We use aggressive choices for the learning rate and momentum since the optimization space is convex."
   ]
  },
  {
   "cell_type": "code",
   "execution_count": 21,
   "metadata": {
    "collapsed": false
   },
   "outputs": [],
   "source": [
    "optimizer = tf.train.MomentumOptimizer(learning_rate=0.01, momentum=0.95, use_nesterov=True)\n",
    "training_op = optimizer.minimize(loss)"
   ]
  },
  {
   "cell_type": "code",
   "execution_count": 22,
   "metadata": {
    "collapsed": false
   },
   "outputs": [],
   "source": [
    "with tf.name_scope('my_metrics'):\n",
    "     thres = 0.5\n",
    "     y_pred = tf.squeeze(prob_positive) > thres\n",
    "\n",
    "     cm = tf.confusion_matrix(labels=tf.squeeze(y_true), predictions=y_pred, num_classes=2)\n",
    "     cm = tf.cast(cm, tf.float64)\n",
    "\n",
    "     acc = tf.trace(cm) / tf.reduce_sum(cm)"
   ]
  },
  {
   "cell_type": "code",
   "execution_count": 23,
   "metadata": {
    "collapsed": true
   },
   "outputs": [],
   "source": [
    "init = tf.global_variables_initializer()"
   ]
  },
  {
   "cell_type": "code",
   "execution_count": 24,
   "metadata": {
    "collapsed": true
   },
   "outputs": [],
   "source": [
    "n_iterations = 10000"
   ]
  },
  {
   "cell_type": "code",
   "execution_count": 25,
   "metadata": {
    "collapsed": false
   },
   "outputs": [
    {
     "name": "stdout",
     "output_type": "stream",
     "text": [
      "0 2.34543\n",
      "1000 0.0732991\n",
      "2000 0.0732844\n",
      "3000 0.0732834\n",
      "4000 0.0732834\n",
      "5000 0.0732833\n",
      "6000 0.0732833\n",
      "7000 0.0732833\n",
      "8000 0.0732833\n",
      "9000 0.0732834\n",
      "10000 0.0732834\n",
      "accuracy = 0.977152899824\n",
      "[[-2.89109576]\n",
      " [ 1.59170616]\n",
      " [ 0.49850542]\n",
      " [ 0.78415945]\n",
      " [ 1.28068187]]\n",
      "[ 0.41372069]\n"
     ]
    }
   ],
   "source": [
    "with tf.Session() as sess:\n",
    "     init.run()\n",
    "     \n",
    "     for iteration in range(n_iterations + 1):\n",
    "          sess.run(training_op)\n",
    "          if (iteration % 1000 == 0): print iteration, loss.eval()\n",
    "\n",
    "     print \"accuracy =\", acc.eval()\n",
    "     print tf.get_default_graph().get_tensor_by_name('single_neuron/kernel:0').eval()\n",
    "     print tf.get_default_graph().get_tensor_by_name('single_neuron/bias:0').eval()"
   ]
  },
  {
   "cell_type": "code",
   "execution_count": 26,
   "metadata": {
    "collapsed": false
   },
   "outputs": [
    {
     "data": {
      "text/plain": [
       "[u'single_neuron/kernel:0', u'single_neuron/bias:0']"
      ]
     },
     "execution_count": 26,
     "metadata": {},
     "output_type": "execute_result"
    }
   ],
   "source": [
    "[v.name for v in tf.trainable_variables()]"
   ]
  },
  {
   "cell_type": "markdown",
   "metadata": {},
   "source": [
    "### Spark"
   ]
  },
  {
   "cell_type": "code",
   "execution_count": 27,
   "metadata": {
    "collapsed": false
   },
   "outputs": [],
   "source": [
    "from pyspark.sql import SparkSession\n",
    "\n",
    "spark = SparkSession.builder.master(\"local[2]\").appName(\"three_library_test\").getOrCreate()"
   ]
  },
  {
   "cell_type": "code",
   "execution_count": 28,
   "metadata": {
    "collapsed": false,
    "scrolled": true
   },
   "outputs": [
    {
     "name": "stdout",
     "output_type": "stream",
     "text": [
      "+------+------------------+-------------------+-------------------+--------------------+--------------------+\n",
      "|target|         feature_0|          feature_1|          feature_2|           feature_3|           feature_4|\n",
      "+------+------------------+-------------------+-------------------+--------------------+--------------------+\n",
      "|   0.0|  9.19283682563216| 1.9485831590271292| -1.123166076073326|  3.6337348703627397| -1.1951374451040437|\n",
      "|   0.0|2.3878017960782025|-3.7681717918492885|-0.5292927378150812|  1.1182616283301683|  0.6217902864584048|\n",
      "|   0.0| 5.733896279906637| -1.075173798333321|-0.5517476287303581|   0.912082591445986| -0.1770845747487285|\n",
      "|   0.0| 7.122953197853179| 10.275589129731346| -3.232789566421863| 0.15254741039104347| -2.9608802772237577|\n",
      "|   0.0| 3.935302073893639| -1.948071601747983|   1.38976671820812|  2.9406377469789184|   0.546757894181993|\n",
      "|   0.0|2.3802471505604657|  3.949928886346472| -2.934876820805967|  0.9410364197547301| -1.0560384180365752|\n",
      "|   0.0| 2.238883307893068| -2.690031275407027|-1.6399129097004082| 0.14933999309815207|0.040358317246690326|\n",
      "|   0.0|2.1432985005119876| 2.3402439907879775|-0.8719472690085049|-0.12704361335754463|  -1.427431626505715|\n",
      "|   0.0|3.1749242930503834| 3.3918129875342267| -3.119985908098929| -0.6012954413055372| -1.5223006122832432|\n",
      "|   0.0| 6.351746790852697|  7.727173917038482| -4.341915985708145| -3.3752085196467743|  1.7103113598140265|\n",
      "+------+------------------+-------------------+-------------------+--------------------+--------------------+\n",
      "only showing top 10 rows\n",
      "\n"
     ]
    }
   ],
   "source": [
    "cmb = np.c_[bc.target, X_std_pca]\n",
    "column_names = ['target'] + ['feature_' + str(i) for i in range(5)]\n",
    "df = spark.createDataFrame(pd.DataFrame(cmb, columns=column_names))\n",
    "df.show(10)"
   ]
  },
  {
   "cell_type": "code",
   "execution_count": 29,
   "metadata": {
    "collapsed": false
   },
   "outputs": [
    {
     "data": {
      "text/plain": [
       "569"
      ]
     },
     "execution_count": 29,
     "metadata": {},
     "output_type": "execute_result"
    }
   ],
   "source": [
    "df.count()"
   ]
  },
  {
   "cell_type": "code",
   "execution_count": 30,
   "metadata": {
    "collapsed": false
   },
   "outputs": [],
   "source": [
    "from pyspark.sql import Row\n",
    "from pyspark.ml.linalg import Vectors\n",
    "\n",
    "h = df.rdd.map(lambda row: Row(label=row.target, features=Vectors.dense(row[1:]))).toDF()"
   ]
  },
  {
   "cell_type": "code",
   "execution_count": 31,
   "metadata": {
    "collapsed": false
   },
   "outputs": [],
   "source": [
    "from pyspark.ml.classification import LogisticRegression\n",
    "\n",
    "lr = LogisticRegression(featuresCol='features', labelCol='label', maxIter=100, threshold=0.5)\n",
    "lr_clf = lr.fit(h)"
   ]
  },
  {
   "cell_type": "code",
   "execution_count": 32,
   "metadata": {
    "collapsed": false
   },
   "outputs": [
    {
     "name": "stdout",
     "output_type": "stream",
     "text": [
      "Coefficients: [-2.8910792118,1.59169814328,0.49849966829,0.78415459731,1.28067998332]\n",
      "Intercept: 0.413715036847\n"
     ]
    }
   ],
   "source": [
    "print(\"Coefficients: \" + str(lr_clf.coefficients))\n",
    "print(\"Intercept: \" + str(lr_clf.intercept))"
   ]
  },
  {
   "cell_type": "code",
   "execution_count": 33,
   "metadata": {
    "collapsed": false
   },
   "outputs": [],
   "source": [
    "y_pred = lr_clf.transform(h)"
   ]
  },
  {
   "cell_type": "code",
   "execution_count": 34,
   "metadata": {
    "collapsed": false
   },
   "outputs": [
    {
     "name": "stdout",
     "output_type": "stream",
     "text": [
      "+--------------------+-----+--------------------+--------------------+----------+\n",
      "|            features|label|       rawPrediction|         probability|prediction|\n",
      "+--------------------+-----+--------------------+--------------------+----------+\n",
      "|[9.19283682563216...|  0.0|[22.3030248265287...|[0.99999999979397...|       0.0|\n",
      "|[2.38780179607820...|  0.0|[11.0780490260307...|[0.99998455251689...|       0.0|\n",
      "|[5.73389627990663...|  0.0|[17.6614063620266...|[0.99999997863274...|       0.0|\n",
      "|[7.12295319785317...|  0.0|[9.10753461852113...|[0.99988918467046...|       0.0|\n",
      "|[3.93530207389363...|  0.0|[10.3653621854615...|[0.99996849592609...|       0.0|\n",
      "|[2.38024715056046...|  0.0|[2.25823789503008...|[0.90535875416154...|       0.0|\n",
      "|[2.23888330789306...|  0.0|[10.9894960489813...|[0.99998312222561...|       0.0|\n",
      "|[2.14329850051198...|  0.0|[4.42013905715466...|[0.98811050212910...|       0.0|\n",
      "|[3.17492429305038...|  0.0|[7.34290059884128...|[0.99935324794542...|       0.0|\n",
      "|[6.35174679085269...|  0.0|[8.27112712462096...|[0.99974426860145...|       0.0|\n",
      "+--------------------+-----+--------------------+--------------------+----------+\n",
      "only showing top 10 rows\n",
      "\n"
     ]
    }
   ],
   "source": [
    "y_pred.show(10)"
   ]
  },
  {
   "cell_type": "code",
   "execution_count": 35,
   "metadata": {
    "collapsed": false
   },
   "outputs": [
    {
     "name": "stdout",
     "output_type": "stream",
     "text": [
      "+----------+-----+\n",
      "|prediction|label|\n",
      "+----------+-----+\n",
      "|         0|  0.0|\n",
      "|         0|  0.0|\n",
      "|         0|  0.0|\n",
      "|         0|  0.0|\n",
      "|         0|  0.0|\n",
      "+----------+-----+\n",
      "only showing top 5 rows\n",
      "\n"
     ]
    }
   ],
   "source": [
    "predictions_and_labels = y_pred.select('prediction', 'label')\n",
    "predictions_and_labels = predictions_and_labels.withColumn('prediction', predictions_and_labels['prediction'].cast('integer'))\n",
    "predictions_and_labels.show(5)"
   ]
  },
  {
   "cell_type": "code",
   "execution_count": 36,
   "metadata": {
    "collapsed": false
   },
   "outputs": [
    {
     "data": {
      "text/plain": [
       "352"
      ]
     },
     "execution_count": 36,
     "metadata": {},
     "output_type": "execute_result"
    }
   ],
   "source": [
    "tp = predictions_and_labels.filter('prediction == 1 and label == 1').count()\n",
    "tp"
   ]
  },
  {
   "cell_type": "code",
   "execution_count": 37,
   "metadata": {
    "collapsed": false
   },
   "outputs": [
    {
     "data": {
      "text/plain": [
       "8"
      ]
     },
     "execution_count": 37,
     "metadata": {},
     "output_type": "execute_result"
    }
   ],
   "source": [
    "fp = predictions_and_labels.filter('prediction == 1 and label == 0').count()\n",
    "fp"
   ]
  },
  {
   "cell_type": "code",
   "execution_count": 38,
   "metadata": {
    "collapsed": false
   },
   "outputs": [
    {
     "data": {
      "text/plain": [
       "204"
      ]
     },
     "execution_count": 38,
     "metadata": {},
     "output_type": "execute_result"
    }
   ],
   "source": [
    "tn = predictions_and_labels.filter('prediction == 0 and label == 0').count()\n",
    "tn"
   ]
  },
  {
   "cell_type": "code",
   "execution_count": 39,
   "metadata": {
    "collapsed": false
   },
   "outputs": [
    {
     "data": {
      "text/plain": [
       "5"
      ]
     },
     "execution_count": 39,
     "metadata": {},
     "output_type": "execute_result"
    }
   ],
   "source": [
    "fn = predictions_and_labels.filter('prediction == 0 and label == 1').count()\n",
    "fn"
   ]
  },
  {
   "cell_type": "code",
   "execution_count": 40,
   "metadata": {
    "collapsed": false
   },
   "outputs": [
    {
     "data": {
      "text/plain": [
       "0.9771528998242531"
      ]
     },
     "execution_count": 40,
     "metadata": {},
     "output_type": "execute_result"
    }
   ],
   "source": [
    "accuracy = float(tp + tn) / (tp + tn + fp + fn)\n",
    "accuracy"
   ]
  }
 ],
 "metadata": {
  "anaconda-cloud": {},
  "kernelspec": {
   "display_name": "Python [conda root]",
   "language": "python",
   "name": "conda-root-py"
  },
  "language_info": {
   "codemirror_mode": {
    "name": "ipython",
    "version": 2
   },
   "file_extension": ".py",
   "mimetype": "text/x-python",
   "name": "python",
   "nbconvert_exporter": "python",
   "pygments_lexer": "ipython2",
   "version": "2.7.12"
  }
 },
 "nbformat": 4,
 "nbformat_minor": 1
}
