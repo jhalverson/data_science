{
 "cells": [
  {
   "cell_type": "markdown",
   "metadata": {},
   "source": [
    "# Jonathan Halverson\n",
    "# Thursday, February 9, 2017\n",
    "# NLTK basics"
   ]
  },
  {
   "cell_type": "code",
   "execution_count": 30,
   "metadata": {
    "collapsed": false
   },
   "outputs": [
    {
     "name": "stdout",
     "output_type": "stream",
     "text": [
      "*** Introductory Examples for the NLTK Book ***\n",
      "Loading text1, ..., text9 and sent1, ..., sent9\n",
      "Type the name of the text or sentence to view it.\n",
      "Type: 'texts()' or 'sents()' to list the materials.\n",
      "text1: Moby Dick by Herman Melville 1851\n",
      "text2: Sense and Sensibility by Jane Austen 1811\n",
      "text3: The Book of Genesis\n",
      "text4: Inaugural Address Corpus\n",
      "text5: Chat Corpus\n",
      "text6: Monty Python and the Holy Grail\n",
      "text7: Wall Street Journal\n",
      "text8: Personals Corpus\n",
      "text9: The Man Who Was Thursday by G . K . Chesterton 1908\n"
     ]
    }
   ],
   "source": [
    "from nltk.book import *"
   ]
  },
  {
   "cell_type": "code",
   "execution_count": 34,
   "metadata": {
    "collapsed": false
   },
   "outputs": [
    {
     "data": {
      "text/plain": [
       "nltk.text.Text"
      ]
     },
     "execution_count": 34,
     "metadata": {},
     "output_type": "execute_result"
    }
   ],
   "source": [
    "type(text1)"
   ]
  },
  {
   "cell_type": "code",
   "execution_count": 37,
   "metadata": {
    "collapsed": false
   },
   "outputs": [
    {
     "name": "stdout",
     "output_type": "stream",
     "text": [
      "Displaying 9 of 9 matches:\n",
      "he idol ; then laying a bit of ship biscuit on top and applying the flame from \n",
      "t last succeeded in drawing out the biscuit ; then blowing off the heat and ash\n",
      "ent little idol ; offered him burnt biscuit with Queequeg ; salamed before him \n",
      "azel nuts , mixed with pounded ship biscuit , and salted pork cut up into littl\n",
      "d from starvation by the benevolent biscuit of the whale - ship luckily droppin\n",
      "s flesh being hard as twice - baked biscuit . Transported to the Indies , his l\n",
      " them , and a couple of handfuls of biscuit were tossed after it ; when again t\n",
      " for the seamen to dip their ship - biscuit into the huge oil - pots and let th\n",
      " of stock fish . 550 , 000 lbs . of biscuit . 72 , 000 lbs . of soft bread . 2 \n"
     ]
    }
   ],
   "source": [
    "text1.concordance('biscuit')"
   ]
  },
  {
   "cell_type": "code",
   "execution_count": 40,
   "metadata": {
    "collapsed": false
   },
   "outputs": [
    {
     "data": {
      "text/plain": [
       "[u'[',\n",
       " u'Moby',\n",
       " u'Dick',\n",
       " u'by',\n",
       " u'Herman',\n",
       " u'Melville',\n",
       " u'1851',\n",
       " u']',\n",
       " u'ETYMOLOGY',\n",
       " u'.',\n",
       " u'(',\n",
       " u'Supplied',\n",
       " u'by',\n",
       " u'a',\n",
       " u'Late',\n",
       " u'Consumptive',\n",
       " u'Usher',\n",
       " u'to',\n",
       " u'a',\n",
       " u'Grammar',\n",
       " u'School',\n",
       " u')',\n",
       " u'The',\n",
       " u'pale',\n",
       " u'Usher',\n",
       " u'--',\n",
       " u'threadbare',\n",
       " u'in',\n",
       " u'coat',\n",
       " u',',\n",
       " u'heart',\n",
       " u',',\n",
       " u'body',\n",
       " u',',\n",
       " u'and',\n",
       " u'brain',\n",
       " u';',\n",
       " u'I',\n",
       " u'see',\n",
       " u'him',\n",
       " u'now',\n",
       " u'.',\n",
       " u'He',\n",
       " u'was',\n",
       " u'ever',\n",
       " u'dusting',\n",
       " u'his',\n",
       " u'old',\n",
       " u'lexicons',\n",
       " u'and']"
      ]
     },
     "execution_count": 40,
     "metadata": {},
     "output_type": "execute_result"
    }
   ],
   "source": [
    "text1[:50]"
   ]
  },
  {
   "cell_type": "code",
   "execution_count": 41,
   "metadata": {
    "collapsed": true
   },
   "outputs": [],
   "source": [
    "import matplotlib.pyplot as plt\n",
    "%matplotlib inline"
   ]
  },
  {
   "cell_type": "code",
   "execution_count": 45,
   "metadata": {
    "collapsed": false
   },
   "outputs": [
    {
     "data": {
      "image/png": "[encoded data removed]",
      "text/plain": [
       "<matplotlib.figure.Figure at 0x1186c44d0>"
      ]
     },
     "metadata": {},
     "output_type": "display_data"
    }
   ],
   "source": [
    "text1.dispersion_plot(['whale', 'white', 'sea'])"
   ]
  },
  {
   "cell_type": "code",
   "execution_count": null,
   "metadata": {
    "collapsed": true
   },
   "outputs": [],
   "source": []
  }
 ],
 "metadata": {
  "anaconda-cloud": {},
  "kernelspec": {
   "display_name": "Python [conda root]",
   "language": "python",
   "name": "conda-root-py"
  },
  "language_info": {
   "codemirror_mode": {
    "name": "ipython",
    "version": 2
   },
   "file_extension": ".py",
   "mimetype": "text/x-python",
   "name": "python",
   "nbconvert_exporter": "python",
   "pygments_lexer": "ipython2",
   "version": "2.7.12"
  }
 },
 "nbformat": 4,
 "nbformat_minor": 1
}
