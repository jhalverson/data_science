{
 "cells": [
  {
   "cell_type": "markdown",
   "metadata": {},
   "source": [
    "# Jonathan Halverson\n",
    "# Keeping it Fresh: Predict Restaurant Inspections\n",
    "## Part 3: Yelp check-in data"
   ]
  },
  {
   "cell_type": "markdown",
   "metadata": {},
   "source": [
    "In this notebook we attempt to find something useful in the check-in data. Nothing useful is found. We did attempt to deduce the size of each restaurant by summing the number of people checked-in. We also looked for a correlation between weighted violations and total number of check-ins (or effective size) but no correlation was found. This data set will be ignored in building the model.\n",
    "\n",
    "Here is the format of the data:"
   ]
  },
  {
   "cell_type": "markdown",
   "metadata": {},
   "source": [
    "{\n",
    "    'type': 'checkin',\n",
    "    'business_id': (business id),\n",
    "    'checkin_info': {\n",
    "        '0-0': (number of checkins from 00:00 to 01:00 on all Sundays),\n",
    "        '1-0': (number of checkins from 01:00 to 02:00 on all Sundays),\n",
    "        ...\n",
    "        '14-4': (number of checkins from 14:00 to 15:00 on all Thursdays),\n",
    "        ...\n",
    "        '23-6': (number of checkins from 23:00 to 00:00 on all Saturdays)\n",
    "    }, # if there was no checkin for a hour-day block it will not be in the dict\n",
    "}"
   ]
  },
  {
   "cell_type": "code",
   "execution_count": 1,
   "metadata": {
    "collapsed": true
   },
   "outputs": [],
   "source": [
    "import numpy as np\n",
    "import pandas as pd\n",
    "import matplotlib.pyplot as plt\n",
    "%matplotlib inline\n",
    "plt.style.use('halverson')"
   ]
  },
  {
   "cell_type": "code",
   "execution_count": 2,
   "metadata": {
    "collapsed": false
   },
   "outputs": [
    {
     "data": {
      "text/html": [
       "<div>\n",
       "<table border=\"1\" class=\"dataframe\">\n",
       "  <thead>\n",
       "    <tr style=\"text-align: right;\">\n",
       "      <th></th>\n",
       "      <th>business_id</th>\n",
       "      <th>checkin_info</th>\n",
       "      <th>type</th>\n",
       "    </tr>\n",
       "  </thead>\n",
       "  <tbody>\n",
       "    <tr>\n",
       "      <th>0</th>\n",
       "      <td>CgdK8DiyX9Y4kTKEPi_qgA</td>\n",
       "      <td>{u'9-0': 2, u'11-1': 1, u'11-0': 2, u'11-2': 1...</td>\n",
       "      <td>checkin</td>\n",
       "    </tr>\n",
       "    <tr>\n",
       "      <th>1</th>\n",
       "      <td>SAnMTC1rm-PhP8DQC4zeyg</td>\n",
       "      <td>{u'12-4': 1, u'13-2': 1, u'12-3': 1, u'12-0': ...</td>\n",
       "      <td>checkin</td>\n",
       "    </tr>\n",
       "    <tr>\n",
       "      <th>2</th>\n",
       "      <td>75dtVyDb8Sfwb7dR0cBvdg</td>\n",
       "      <td>{u'7-0': 1, u'8-5': 2, u'8-0': 3, u'7-4': 4, u...</td>\n",
       "      <td>checkin</td>\n",
       "    </tr>\n",
       "  </tbody>\n",
       "</table>\n",
       "</div>"
      ],
      "text/plain": [
       "              business_id                                       checkin_info  \\\n",
       "0  CgdK8DiyX9Y4kTKEPi_qgA  {u'9-0': 2, u'11-1': 1, u'11-0': 2, u'11-2': 1...   \n",
       "1  SAnMTC1rm-PhP8DQC4zeyg  {u'12-4': 1, u'13-2': 1, u'12-3': 1, u'12-0': ...   \n",
       "2  75dtVyDb8Sfwb7dR0cBvdg  {u'7-0': 1, u'8-5': 2, u'8-0': 3, u'7-4': 4, u...   \n",
       "\n",
       "      type  \n",
       "0  checkin  \n",
       "1  checkin  \n",
       "2  checkin  "
      ]
     },
     "execution_count": 2,
     "metadata": {},
     "output_type": "execute_result"
    }
   ],
   "source": [
    "from helper_methods import read_json\n",
    "df_chk = read_json('data/yelp_academic_dataset_checkin.json')\n",
    "df_chk.head(3)"
   ]
  },
  {
   "cell_type": "code",
   "execution_count": 3,
   "metadata": {
    "collapsed": false
   },
   "outputs": [
    {
     "name": "stdout",
     "output_type": "stream",
     "text": [
      "<class 'pandas.core.frame.DataFrame'>\n",
      "Int64Index: 1632 entries, 0 to 1631\n",
      "Data columns (total 3 columns):\n",
      "business_id     1632 non-null object\n",
      "checkin_info    1632 non-null object\n",
      "type            1632 non-null object\n",
      "dtypes: object(3)\n",
      "memory usage: 51.0+ KB\n"
     ]
    }
   ],
   "source": [
    "df_chk.info()"
   ]
  },
  {
   "cell_type": "markdown",
   "metadata": {},
   "source": [
    "All the business id's are unique:"
   ]
  },
  {
   "cell_type": "code",
   "execution_count": 12,
   "metadata": {
    "collapsed": false
   },
   "outputs": [
    {
     "data": {
      "text/plain": [
       "1632"
      ]
     },
     "execution_count": 12,
     "metadata": {},
     "output_type": "execute_result"
    }
   ],
   "source": [
    "df_chk.business_id.unique().size"
   ]
  },
  {
   "cell_type": "code",
   "execution_count": 4,
   "metadata": {
    "collapsed": true
   },
   "outputs": [],
   "source": [
    "def sum_checkins(day_index, dct):\n",
    "    return sum([value for key, value in dct.iteritems() if '-' + str(day_index) in key])"
   ]
  },
  {
   "cell_type": "code",
   "execution_count": 5,
   "metadata": {
    "collapsed": false
   },
   "outputs": [],
   "source": [
    "dayofweek = ['sunday', 'monday', 'tuesday', 'wednesday', 'thursday', 'friday', 'saturday']\n",
    "for i, day in enumerate(dayofweek):\n",
    "    df_chk[day + '_checkins'] = df_chk.checkin_info.apply(lambda d: sum_checkins(i, d))\n",
    "df_chk['total_checkins'] = df_chk.checkin_info.apply(lambda d: sum(d.values()))\n",
    "df_chk['num_bins'] = df_chk.checkin_info.apply(len)"
   ]
  },
  {
   "cell_type": "markdown",
   "metadata": {},
   "source": [
    "The num_bins quantity can be at most 168 which is the number of hours in a week."
   ]
  },
  {
   "cell_type": "code",
   "execution_count": 6,
   "metadata": {
    "collapsed": false
   },
   "outputs": [
    {
     "data": {
      "text/html": [
       "<div>\n",
       "<table border=\"1\" class=\"dataframe\">\n",
       "  <thead>\n",
       "    <tr style=\"text-align: right;\">\n",
       "      <th></th>\n",
       "      <th>business_id</th>\n",
       "      <th>checkin_info</th>\n",
       "      <th>type</th>\n",
       "      <th>sunday_checkins</th>\n",
       "      <th>monday_checkins</th>\n",
       "      <th>tuesday_checkins</th>\n",
       "      <th>wednesday_checkins</th>\n",
       "      <th>thursday_checkins</th>\n",
       "      <th>friday_checkins</th>\n",
       "      <th>saturday_checkins</th>\n",
       "      <th>total_checkins</th>\n",
       "      <th>num_bins</th>\n",
       "    </tr>\n",
       "  </thead>\n",
       "  <tbody>\n",
       "    <tr>\n",
       "      <th>0</th>\n",
       "      <td>CgdK8DiyX9Y4kTKEPi_qgA</td>\n",
       "      <td>{u'9-0': 2, u'11-1': 1, u'11-0': 2, u'11-2': 1...</td>\n",
       "      <td>checkin</td>\n",
       "      <td>14</td>\n",
       "      <td>16</td>\n",
       "      <td>12</td>\n",
       "      <td>12</td>\n",
       "      <td>10</td>\n",
       "      <td>1</td>\n",
       "      <td>0</td>\n",
       "      <td>65</td>\n",
       "      <td>28</td>\n",
       "    </tr>\n",
       "    <tr>\n",
       "      <th>1</th>\n",
       "      <td>SAnMTC1rm-PhP8DQC4zeyg</td>\n",
       "      <td>{u'12-4': 1, u'13-2': 1, u'12-3': 1, u'12-0': ...</td>\n",
       "      <td>checkin</td>\n",
       "      <td>34</td>\n",
       "      <td>26</td>\n",
       "      <td>28</td>\n",
       "      <td>27</td>\n",
       "      <td>22</td>\n",
       "      <td>1</td>\n",
       "      <td>0</td>\n",
       "      <td>138</td>\n",
       "      <td>39</td>\n",
       "    </tr>\n",
       "    <tr>\n",
       "      <th>2</th>\n",
       "      <td>75dtVyDb8Sfwb7dR0cBvdg</td>\n",
       "      <td>{u'7-0': 1, u'8-5': 2, u'8-0': 3, u'7-4': 4, u...</td>\n",
       "      <td>checkin</td>\n",
       "      <td>13</td>\n",
       "      <td>12</td>\n",
       "      <td>13</td>\n",
       "      <td>13</td>\n",
       "      <td>28</td>\n",
       "      <td>18</td>\n",
       "      <td>0</td>\n",
       "      <td>97</td>\n",
       "      <td>41</td>\n",
       "    </tr>\n",
       "  </tbody>\n",
       "</table>\n",
       "</div>"
      ],
      "text/plain": [
       "              business_id                                       checkin_info  \\\n",
       "0  CgdK8DiyX9Y4kTKEPi_qgA  {u'9-0': 2, u'11-1': 1, u'11-0': 2, u'11-2': 1...   \n",
       "1  SAnMTC1rm-PhP8DQC4zeyg  {u'12-4': 1, u'13-2': 1, u'12-3': 1, u'12-0': ...   \n",
       "2  75dtVyDb8Sfwb7dR0cBvdg  {u'7-0': 1, u'8-5': 2, u'8-0': 3, u'7-4': 4, u...   \n",
       "\n",
       "      type  sunday_checkins  monday_checkins  tuesday_checkins  \\\n",
       "0  checkin               14               16                12   \n",
       "1  checkin               34               26                28   \n",
       "2  checkin               13               12                13   \n",
       "\n",
       "   wednesday_checkins  thursday_checkins  friday_checkins  saturday_checkins  \\\n",
       "0                  12                 10                1                  0   \n",
       "1                  27                 22                1                  0   \n",
       "2                  13                 28               18                  0   \n",
       "\n",
       "   total_checkins  num_bins  \n",
       "0              65        28  \n",
       "1             138        39  \n",
       "2              97        41  "
      ]
     },
     "execution_count": 6,
     "metadata": {},
     "output_type": "execute_result"
    }
   ],
   "source": [
    "df_chk.head(3)"
   ]
  },
  {
   "cell_type": "code",
   "execution_count": 7,
   "metadata": {
    "collapsed": false
   },
   "outputs": [
    {
     "data": {
      "text/html": [
       "<div>\n",
       "<table border=\"1\" class=\"dataframe\">\n",
       "  <thead>\n",
       "    <tr style=\"text-align: right;\">\n",
       "      <th></th>\n",
       "      <th>sunday_checkins</th>\n",
       "      <th>monday_checkins</th>\n",
       "      <th>tuesday_checkins</th>\n",
       "      <th>wednesday_checkins</th>\n",
       "      <th>thursday_checkins</th>\n",
       "      <th>friday_checkins</th>\n",
       "      <th>saturday_checkins</th>\n",
       "      <th>total_checkins</th>\n",
       "      <th>num_bins</th>\n",
       "    </tr>\n",
       "  </thead>\n",
       "  <tbody>\n",
       "    <tr>\n",
       "      <th>count</th>\n",
       "      <td>1632.000000</td>\n",
       "      <td>1632.000000</td>\n",
       "      <td>1632.000000</td>\n",
       "      <td>1632.000000</td>\n",
       "      <td>1632.000000</td>\n",
       "      <td>1632.000000</td>\n",
       "      <td>1632.000000</td>\n",
       "      <td>1632.000000</td>\n",
       "      <td>1632.000000</td>\n",
       "    </tr>\n",
       "    <tr>\n",
       "      <th>mean</th>\n",
       "      <td>21.030637</td>\n",
       "      <td>20.989583</td>\n",
       "      <td>22.412377</td>\n",
       "      <td>25.029412</td>\n",
       "      <td>34.827819</td>\n",
       "      <td>42.710172</td>\n",
       "      <td>30.297181</td>\n",
       "      <td>197.297181</td>\n",
       "      <td>48.734681</td>\n",
       "    </tr>\n",
       "    <tr>\n",
       "      <th>std</th>\n",
       "      <td>34.016464</td>\n",
       "      <td>31.103345</td>\n",
       "      <td>33.387103</td>\n",
       "      <td>37.363055</td>\n",
       "      <td>53.697364</td>\n",
       "      <td>72.157289</td>\n",
       "      <td>57.267959</td>\n",
       "      <td>306.817881</td>\n",
       "      <td>30.747744</td>\n",
       "    </tr>\n",
       "    <tr>\n",
       "      <th>min</th>\n",
       "      <td>0.000000</td>\n",
       "      <td>0.000000</td>\n",
       "      <td>0.000000</td>\n",
       "      <td>0.000000</td>\n",
       "      <td>0.000000</td>\n",
       "      <td>0.000000</td>\n",
       "      <td>0.000000</td>\n",
       "      <td>3.000000</td>\n",
       "      <td>3.000000</td>\n",
       "    </tr>\n",
       "    <tr>\n",
       "      <th>25%</th>\n",
       "      <td>3.000000</td>\n",
       "      <td>3.000000</td>\n",
       "      <td>4.000000</td>\n",
       "      <td>4.000000</td>\n",
       "      <td>5.000000</td>\n",
       "      <td>4.000000</td>\n",
       "      <td>2.000000</td>\n",
       "      <td>30.000000</td>\n",
       "      <td>22.000000</td>\n",
       "    </tr>\n",
       "    <tr>\n",
       "      <th>50%</th>\n",
       "      <td>10.000000</td>\n",
       "      <td>10.000000</td>\n",
       "      <td>11.000000</td>\n",
       "      <td>12.000000</td>\n",
       "      <td>16.000000</td>\n",
       "      <td>17.000000</td>\n",
       "      <td>11.000000</td>\n",
       "      <td>95.500000</td>\n",
       "      <td>46.000000</td>\n",
       "    </tr>\n",
       "    <tr>\n",
       "      <th>75%</th>\n",
       "      <td>25.000000</td>\n",
       "      <td>26.000000</td>\n",
       "      <td>27.000000</td>\n",
       "      <td>31.000000</td>\n",
       "      <td>43.000000</td>\n",
       "      <td>52.000000</td>\n",
       "      <td>35.000000</td>\n",
       "      <td>239.250000</td>\n",
       "      <td>73.000000</td>\n",
       "    </tr>\n",
       "    <tr>\n",
       "      <th>max</th>\n",
       "      <td>552.000000</td>\n",
       "      <td>445.000000</td>\n",
       "      <td>406.000000</td>\n",
       "      <td>570.000000</td>\n",
       "      <td>844.000000</td>\n",
       "      <td>1253.000000</td>\n",
       "      <td>1052.000000</td>\n",
       "      <td>5122.000000</td>\n",
       "      <td>151.000000</td>\n",
       "    </tr>\n",
       "  </tbody>\n",
       "</table>\n",
       "</div>"
      ],
      "text/plain": [
       "       sunday_checkins  monday_checkins  tuesday_checkins  wednesday_checkins  \\\n",
       "count      1632.000000      1632.000000       1632.000000         1632.000000   \n",
       "mean         21.030637        20.989583         22.412377           25.029412   \n",
       "std          34.016464        31.103345         33.387103           37.363055   \n",
       "min           0.000000         0.000000          0.000000            0.000000   \n",
       "25%           3.000000         3.000000          4.000000            4.000000   \n",
       "50%          10.000000        10.000000         11.000000           12.000000   \n",
       "75%          25.000000        26.000000         27.000000           31.000000   \n",
       "max         552.000000       445.000000        406.000000          570.000000   \n",
       "\n",
       "       thursday_checkins  friday_checkins  saturday_checkins  total_checkins  \\\n",
       "count        1632.000000      1632.000000        1632.000000     1632.000000   \n",
       "mean           34.827819        42.710172          30.297181      197.297181   \n",
       "std            53.697364        72.157289          57.267959      306.817881   \n",
       "min             0.000000         0.000000           0.000000        3.000000   \n",
       "25%             5.000000         4.000000           2.000000       30.000000   \n",
       "50%            16.000000        17.000000          11.000000       95.500000   \n",
       "75%            43.000000        52.000000          35.000000      239.250000   \n",
       "max           844.000000      1253.000000        1052.000000     5122.000000   \n",
       "\n",
       "          num_bins  \n",
       "count  1632.000000  \n",
       "mean     48.734681  \n",
       "std      30.747744  \n",
       "min       3.000000  \n",
       "25%      22.000000  \n",
       "50%      46.000000  \n",
       "75%      73.000000  \n",
       "max     151.000000  "
      ]
     },
     "execution_count": 7,
     "metadata": {},
     "output_type": "execute_result"
    }
   ],
   "source": [
    "df_chk.describe()"
   ]
  },
  {
   "cell_type": "code",
   "execution_count": 8,
   "metadata": {
    "collapsed": false
   },
   "outputs": [
    {
     "data": {
      "text/plain": [
       "<matplotlib.text.Text at 0x112c70450>"
      ]
     },
     "execution_count": 8,
     "metadata": {},
     "output_type": "execute_result"
    },
    {
     "data": {
      "image/png": "[encoded data removed]",
      "text/plain": [
       "<matplotlib.figure.Figure at 0x112a52550>"
      ]
     },
     "metadata": {},
     "output_type": "display_data"
    }
   ],
   "source": [
    "plt.hist(df_chk.total_checkins, bins=25, range=(0, 2500), log=True)\n",
    "plt.xlabel('Total checkins')\n",
    "plt.ylabel('Count')"
   ]
  },
  {
   "cell_type": "markdown",
   "metadata": {},
   "source": [
    "### Let's see if total check-ins correlates with weighted violations"
   ]
  },
  {
   "cell_type": "code",
   "execution_count": 9,
   "metadata": {
    "collapsed": false
   },
   "outputs": [
    {
     "data": {
      "text/html": [
       "<div>\n",
       "<table border=\"1\" class=\"dataframe\">\n",
       "  <thead>\n",
       "    <tr style=\"text-align: right;\">\n",
       "      <th></th>\n",
       "      <th>id</th>\n",
       "      <th>date</th>\n",
       "      <th>restaurant_id</th>\n",
       "      <th>*</th>\n",
       "      <th>**</th>\n",
       "      <th>***</th>\n",
       "      <th>weighted_violations</th>\n",
       "    </tr>\n",
       "  </thead>\n",
       "  <tbody>\n",
       "    <tr>\n",
       "      <th>0</th>\n",
       "      <td>589</td>\n",
       "      <td>2010-02-02</td>\n",
       "      <td>KAoKWjog</td>\n",
       "      <td>3</td>\n",
       "      <td>0</td>\n",
       "      <td>1</td>\n",
       "      <td>8</td>\n",
       "    </tr>\n",
       "    <tr>\n",
       "      <th>1</th>\n",
       "      <td>28589</td>\n",
       "      <td>2009-12-10</td>\n",
       "      <td>p038M4om</td>\n",
       "      <td>2</td>\n",
       "      <td>0</td>\n",
       "      <td>0</td>\n",
       "      <td>2</td>\n",
       "    </tr>\n",
       "    <tr>\n",
       "      <th>2</th>\n",
       "      <td>31170</td>\n",
       "      <td>2008-07-16</td>\n",
       "      <td>B1oXymOV</td>\n",
       "      <td>4</td>\n",
       "      <td>0</td>\n",
       "      <td>0</td>\n",
       "      <td>4</td>\n",
       "    </tr>\n",
       "    <tr>\n",
       "      <th>3</th>\n",
       "      <td>2600</td>\n",
       "      <td>2015-01-30</td>\n",
       "      <td>m0oWJl3G</td>\n",
       "      <td>1</td>\n",
       "      <td>0</td>\n",
       "      <td>3</td>\n",
       "      <td>16</td>\n",
       "    </tr>\n",
       "    <tr>\n",
       "      <th>4</th>\n",
       "      <td>1016</td>\n",
       "      <td>2012-03-19</td>\n",
       "      <td>rJoQwlEV</td>\n",
       "      <td>0</td>\n",
       "      <td>0</td>\n",
       "      <td>0</td>\n",
       "      <td>0</td>\n",
       "    </tr>\n",
       "  </tbody>\n",
       "</table>\n",
       "</div>"
      ],
      "text/plain": [
       "      id        date restaurant_id  *  **  ***  weighted_violations\n",
       "0    589  2010-02-02      KAoKWjog  3   0    1                    8\n",
       "1  28589  2009-12-10      p038M4om  2   0    0                    2\n",
       "2  31170  2008-07-16      B1oXymOV  4   0    0                    4\n",
       "3   2600  2015-01-30      m0oWJl3G  1   0    3                   16\n",
       "4   1016  2012-03-19      rJoQwlEV  0   0    0                    0"
      ]
     },
     "execution_count": 9,
     "metadata": {},
     "output_type": "execute_result"
    }
   ],
   "source": [
    "df = pd.read_csv('data/training_labels.txt')\n",
    "df['weighted_violations'] = 1 * df['*'] + 3 * df['**'] + 5 * df['***']\n",
    "df.head()"
   ]
  },
  {
   "cell_type": "code",
   "execution_count": 17,
   "metadata": {
    "collapsed": false
   },
   "outputs": [
    {
     "data": {
      "text/html": [
       "<div>\n",
       "<table border=\"1\" class=\"dataframe\">\n",
       "  <thead>\n",
       "    <tr>\n",
       "      <th></th>\n",
       "      <th colspan=\"2\" halign=\"left\">weighted_violations</th>\n",
       "      <th colspan=\"3\" halign=\"left\">*</th>\n",
       "      <th colspan=\"2\" halign=\"left\">***</th>\n",
       "      <th colspan=\"2\" halign=\"left\">**</th>\n",
       "    </tr>\n",
       "    <tr>\n",
       "      <th></th>\n",
       "      <th>mean</th>\n",
       "      <th>sum</th>\n",
       "      <th>size</th>\n",
       "      <th>mean</th>\n",
       "      <th>sum</th>\n",
       "      <th>mean</th>\n",
       "      <th>sum</th>\n",
       "      <th>mean</th>\n",
       "      <th>sum</th>\n",
       "    </tr>\n",
       "    <tr>\n",
       "      <th>restaurant_id</th>\n",
       "      <th></th>\n",
       "      <th></th>\n",
       "      <th></th>\n",
       "      <th></th>\n",
       "      <th></th>\n",
       "      <th></th>\n",
       "      <th></th>\n",
       "      <th></th>\n",
       "      <th></th>\n",
       "    </tr>\n",
       "  </thead>\n",
       "  <tbody>\n",
       "    <tr>\n",
       "      <th>0ZED0WED</th>\n",
       "      <td>12.958333</td>\n",
       "      <td>311</td>\n",
       "      <td>24</td>\n",
       "      <td>4.416667</td>\n",
       "      <td>106</td>\n",
       "      <td>1.208333</td>\n",
       "      <td>29</td>\n",
       "      <td>0.833333</td>\n",
       "      <td>20</td>\n",
       "    </tr>\n",
       "    <tr>\n",
       "      <th>0ZED1B3D</th>\n",
       "      <td>7.461538</td>\n",
       "      <td>97</td>\n",
       "      <td>13</td>\n",
       "      <td>2.846154</td>\n",
       "      <td>37</td>\n",
       "      <td>0.692308</td>\n",
       "      <td>9</td>\n",
       "      <td>0.384615</td>\n",
       "      <td>5</td>\n",
       "    </tr>\n",
       "    <tr>\n",
       "      <th>0ZED4ED9</th>\n",
       "      <td>8.125000</td>\n",
       "      <td>65</td>\n",
       "      <td>8</td>\n",
       "      <td>5.000000</td>\n",
       "      <td>40</td>\n",
       "      <td>0.625000</td>\n",
       "      <td>5</td>\n",
       "      <td>0.000000</td>\n",
       "      <td>0</td>\n",
       "    </tr>\n",
       "  </tbody>\n",
       "</table>\n",
       "</div>"
      ],
      "text/plain": [
       "              weighted_violations         *                      ***      \\\n",
       "                             mean  sum size      mean  sum      mean sum   \n",
       "restaurant_id                                                              \n",
       "0ZED0WED                12.958333  311   24  4.416667  106  1.208333  29   \n",
       "0ZED1B3D                 7.461538   97   13  2.846154   37  0.692308   9   \n",
       "0ZED4ED9                 8.125000   65    8  5.000000   40  0.625000   5   \n",
       "\n",
       "                     **      \n",
       "                   mean sum  \n",
       "restaurant_id                \n",
       "0ZED0WED       0.833333  20  \n",
       "0ZED1B3D       0.384615   5  \n",
       "0ZED4ED9       0.000000   0  "
      ]
     },
     "execution_count": 17,
     "metadata": {},
     "output_type": "execute_result"
    }
   ],
   "source": [
    "avg_violations = df.groupby('restaurant_id').agg({'*': [np.size, np.mean, np.sum], '**': [np.mean, np.sum], '***': [np.mean, np.sum], 'weighted_violations': [np.mean, np.sum]})\n",
    "avg_violations.head(3)"
   ]
  },
  {
   "cell_type": "code",
   "execution_count": 23,
   "metadata": {
    "collapsed": false
   },
   "outputs": [
    {
     "name": "stdout",
     "output_type": "stream",
     "text": [
      "<class 'pandas.core.frame.DataFrame'>\n",
      "Index: 1851 entries, 0ZED0WED to ydEjz7EW\n",
      "Data columns (total 9 columns):\n",
      "(weighted_violations, mean)    1851 non-null float64\n",
      "(weighted_violations, sum)     1851 non-null int64\n",
      "(*, size)                      1851 non-null int64\n",
      "(*, mean)                      1851 non-null float64\n",
      "(*, sum)                       1851 non-null int64\n",
      "(***, mean)                    1851 non-null float64\n",
      "(***, sum)                     1851 non-null int64\n",
      "(**, mean)                     1851 non-null float64\n",
      "(**, sum)                      1851 non-null int64\n",
      "dtypes: float64(4), int64(5)\n",
      "memory usage: 144.6+ KB\n"
     ]
    }
   ],
   "source": [
    "avg_violations.info()"
   ]
  },
  {
   "cell_type": "code",
   "execution_count": 10,
   "metadata": {
    "collapsed": false
   },
   "outputs": [
    {
     "data": {
      "text/html": [
       "<div>\n",
       "<table border=\"1\" class=\"dataframe\">\n",
       "  <thead>\n",
       "    <tr style=\"text-align: right;\">\n",
       "      <th></th>\n",
       "      <th>restaurant_id</th>\n",
       "      <th>business_id</th>\n",
       "    </tr>\n",
       "  </thead>\n",
       "  <tbody>\n",
       "    <tr>\n",
       "      <th>0</th>\n",
       "      <td>Y1Em4GOw</td>\n",
       "      <td>5Kdf1DGbRScRk6Cx3jaX8w</td>\n",
       "    </tr>\n",
       "    <tr>\n",
       "      <th>1</th>\n",
       "      <td>KAoKP6Og</td>\n",
       "      <td>Urw6NASrebP6tyFdjwjkwQ</td>\n",
       "    </tr>\n",
       "    <tr>\n",
       "      <th>2</th>\n",
       "      <td>WeEe7eoa</td>\n",
       "      <td>xlOE7jqbW1Q_PrvLBVlegQ</td>\n",
       "    </tr>\n",
       "    <tr>\n",
       "      <th>3</th>\n",
       "      <td>V430mqoB</td>\n",
       "      <td>ktYpqtygWIJ2RjVPGTxNaA</td>\n",
       "    </tr>\n",
       "    <tr>\n",
       "      <th>4</th>\n",
       "      <td>ekE4Qz32</td>\n",
       "      <td>n8CsQy7Iy1IMhP85hPVKPA</td>\n",
       "    </tr>\n",
       "  </tbody>\n",
       "</table>\n",
       "</div>"
      ],
      "text/plain": [
       "  restaurant_id             business_id\n",
       "0      Y1Em4GOw  5Kdf1DGbRScRk6Cx3jaX8w\n",
       "1      KAoKP6Og  Urw6NASrebP6tyFdjwjkwQ\n",
       "2      WeEe7eoa  xlOE7jqbW1Q_PrvLBVlegQ\n",
       "3      V430mqoB  ktYpqtygWIJ2RjVPGTxNaA\n",
       "4      ekE4Qz32  n8CsQy7Iy1IMhP85hPVKPA"
      ]
     },
     "execution_count": 10,
     "metadata": {},
     "output_type": "execute_result"
    }
   ],
   "source": [
    "from helper_methods import biz2yelp\n",
    "trans = biz2yelp()\n",
    "trans.columns = ['restaurant_id', 'business_id']\n",
    "trans.head()"
   ]
  },
  {
   "cell_type": "code",
   "execution_count": 19,
   "metadata": {
    "collapsed": false
   },
   "outputs": [
    {
     "data": {
      "text/html": [
       "<div>\n",
       "<table border=\"1\" class=\"dataframe\">\n",
       "  <thead>\n",
       "    <tr style=\"text-align: right;\">\n",
       "      <th></th>\n",
       "      <th>restaurant_id</th>\n",
       "      <th>business_id</th>\n",
       "      <th>(weighted_violations, mean)</th>\n",
       "      <th>(weighted_violations, sum)</th>\n",
       "      <th>(*, size)</th>\n",
       "      <th>(*, mean)</th>\n",
       "      <th>(*, sum)</th>\n",
       "      <th>(***, mean)</th>\n",
       "      <th>(***, sum)</th>\n",
       "      <th>(**, mean)</th>\n",
       "      <th>...</th>\n",
       "      <th>type</th>\n",
       "      <th>sunday_checkins</th>\n",
       "      <th>monday_checkins</th>\n",
       "      <th>tuesday_checkins</th>\n",
       "      <th>wednesday_checkins</th>\n",
       "      <th>thursday_checkins</th>\n",
       "      <th>friday_checkins</th>\n",
       "      <th>saturday_checkins</th>\n",
       "      <th>total_checkins</th>\n",
       "      <th>num_bins</th>\n",
       "    </tr>\n",
       "  </thead>\n",
       "  <tbody>\n",
       "    <tr>\n",
       "      <th>0</th>\n",
       "      <td>Y1Em4GOw</td>\n",
       "      <td>5Kdf1DGbRScRk6Cx3jaX8w</td>\n",
       "      <td>1.0</td>\n",
       "      <td>1</td>\n",
       "      <td>1</td>\n",
       "      <td>1.000000</td>\n",
       "      <td>1</td>\n",
       "      <td>0.000000</td>\n",
       "      <td>0</td>\n",
       "      <td>0.0</td>\n",
       "      <td>...</td>\n",
       "      <td>checkin</td>\n",
       "      <td>24</td>\n",
       "      <td>54</td>\n",
       "      <td>54</td>\n",
       "      <td>80</td>\n",
       "      <td>123</td>\n",
       "      <td>122</td>\n",
       "      <td>54</td>\n",
       "      <td>511</td>\n",
       "      <td>64</td>\n",
       "    </tr>\n",
       "    <tr>\n",
       "      <th>1</th>\n",
       "      <td>KAoKP6Og</td>\n",
       "      <td>Urw6NASrebP6tyFdjwjkwQ</td>\n",
       "      <td>7.0</td>\n",
       "      <td>42</td>\n",
       "      <td>6</td>\n",
       "      <td>3.666667</td>\n",
       "      <td>22</td>\n",
       "      <td>0.666667</td>\n",
       "      <td>4</td>\n",
       "      <td>0.0</td>\n",
       "      <td>...</td>\n",
       "      <td>checkin</td>\n",
       "      <td>6</td>\n",
       "      <td>7</td>\n",
       "      <td>4</td>\n",
       "      <td>4</td>\n",
       "      <td>4</td>\n",
       "      <td>3</td>\n",
       "      <td>1</td>\n",
       "      <td>29</td>\n",
       "      <td>22</td>\n",
       "    </tr>\n",
       "    <tr>\n",
       "      <th>2</th>\n",
       "      <td>V430mqoB</td>\n",
       "      <td>ktYpqtygWIJ2RjVPGTxNaA</td>\n",
       "      <td>7.5</td>\n",
       "      <td>30</td>\n",
       "      <td>4</td>\n",
       "      <td>2.500000</td>\n",
       "      <td>10</td>\n",
       "      <td>1.000000</td>\n",
       "      <td>4</td>\n",
       "      <td>0.0</td>\n",
       "      <td>...</td>\n",
       "      <td>checkin</td>\n",
       "      <td>2</td>\n",
       "      <td>3</td>\n",
       "      <td>5</td>\n",
       "      <td>0</td>\n",
       "      <td>0</td>\n",
       "      <td>7</td>\n",
       "      <td>6</td>\n",
       "      <td>23</td>\n",
       "      <td>17</td>\n",
       "    </tr>\n",
       "  </tbody>\n",
       "</table>\n",
       "<p>3 rows × 22 columns</p>\n",
       "</div>"
      ],
      "text/plain": [
       "  restaurant_id             business_id  (weighted_violations, mean)  \\\n",
       "0      Y1Em4GOw  5Kdf1DGbRScRk6Cx3jaX8w                          1.0   \n",
       "1      KAoKP6Og  Urw6NASrebP6tyFdjwjkwQ                          7.0   \n",
       "2      V430mqoB  ktYpqtygWIJ2RjVPGTxNaA                          7.5   \n",
       "\n",
       "   (weighted_violations, sum)  (*, size)  (*, mean)  (*, sum)  (***, mean)  \\\n",
       "0                           1          1   1.000000         1     0.000000   \n",
       "1                          42          6   3.666667        22     0.666667   \n",
       "2                          30          4   2.500000        10     1.000000   \n",
       "\n",
       "   (***, sum)  (**, mean)    ...        type sunday_checkins monday_checkins  \\\n",
       "0           0         0.0    ...     checkin              24              54   \n",
       "1           4         0.0    ...     checkin               6               7   \n",
       "2           4         0.0    ...     checkin               2               3   \n",
       "\n",
       "   tuesday_checkins  wednesday_checkins  thursday_checkins  friday_checkins  \\\n",
       "0                54                  80                123              122   \n",
       "1                 4                   4                  4                3   \n",
       "2                 5                   0                  0                7   \n",
       "\n",
       "   saturday_checkins  total_checkins  num_bins  \n",
       "0                 54             511        64  \n",
       "1                  1              29        22  \n",
       "2                  6              23        17  \n",
       "\n",
       "[3 rows x 22 columns]"
      ]
     },
     "execution_count": 19,
     "metadata": {},
     "output_type": "execute_result"
    }
   ],
   "source": [
    "trans_df = pd.merge(trans, avg_violations, left_on='restaurant_id', right_index=True, how='inner')\n",
    "violations_checkins = pd.merge(trans_df, df_chk, on='business_id', how='inner')\n",
    "violations_checkins.head(3)"
   ]
  },
  {
   "cell_type": "code",
   "execution_count": 24,
   "metadata": {
    "collapsed": false
   },
   "outputs": [
    {
     "name": "stdout",
     "output_type": "stream",
     "text": [
      "<class 'pandas.core.frame.DataFrame'>\n",
      "Int64Index: 1615 entries, 0 to 1614\n",
      "Data columns (total 22 columns):\n",
      "restaurant_id                  1615 non-null object\n",
      "business_id                    1615 non-null object\n",
      "(weighted_violations, mean)    1615 non-null float64\n",
      "(weighted_violations, sum)     1615 non-null int64\n",
      "(*, size)                      1615 non-null int64\n",
      "(*, mean)                      1615 non-null float64\n",
      "(*, sum)                       1615 non-null int64\n",
      "(***, mean)                    1615 non-null float64\n",
      "(***, sum)                     1615 non-null int64\n",
      "(**, mean)                     1615 non-null float64\n",
      "(**, sum)                      1615 non-null int64\n",
      "checkin_info                   1615 non-null object\n",
      "type                           1615 non-null object\n",
      "sunday_checkins                1615 non-null int64\n",
      "monday_checkins                1615 non-null int64\n",
      "tuesday_checkins               1615 non-null int64\n",
      "wednesday_checkins             1615 non-null int64\n",
      "thursday_checkins              1615 non-null int64\n",
      "friday_checkins                1615 non-null int64\n",
      "saturday_checkins              1615 non-null int64\n",
      "total_checkins                 1615 non-null int64\n",
      "num_bins                       1615 non-null int64\n",
      "dtypes: float64(4), int64(14), object(4)\n",
      "memory usage: 290.2+ KB\n"
     ]
    }
   ],
   "source": [
    "violations_checkins.info()"
   ]
  },
  {
   "cell_type": "code",
   "execution_count": 21,
   "metadata": {
    "collapsed": false
   },
   "outputs": [
    {
     "data": {
      "text/plain": [
       "<matplotlib.text.Text at 0x113a3c390>"
      ]
     },
     "execution_count": 21,
     "metadata": {},
     "output_type": "execute_result"
    },
    {
     "data": {
      "image/png": "[encoded data removed]",
      "text/plain": [
       "<matplotlib.figure.Figure at 0x11305a850>"
      ]
     },
     "metadata": {},
     "output_type": "display_data"
    }
   ],
   "source": [
    "plt.plot(violations_checkins.total_checkins, violations_checkins[('weighted_violations', 'mean')], '.')\n",
    "plt.xlim(0, 2000)\n",
    "plt.xlabel('Total checkins')\n",
    "plt.ylabel('Weighted violations')"
   ]
  },
  {
   "cell_type": "code",
   "execution_count": 22,
   "metadata": {
    "collapsed": false
   },
   "outputs": [
    {
     "data": {
      "text/plain": [
       "(-0.0011819585238375377, 0.96214447353317434)"
      ]
     },
     "execution_count": 22,
     "metadata": {},
     "output_type": "execute_result"
    }
   ],
   "source": [
    "from scipy.stats import pearsonr\n",
    "pearsonr(violations_checkins.total_checkins, violations_checkins[('weighted_violations', 'mean')])"
   ]
  },
  {
   "cell_type": "markdown",
   "metadata": {},
   "source": [
    "There is no correlation between total checkins and violations. The check-in data will be ignored in model building."
   ]
  }
 ],
 "metadata": {
  "kernelspec": {
   "display_name": "Python 2",
   "language": "python",
   "name": "python2"
  },
  "language_info": {
   "codemirror_mode": {
    "name": "ipython",
    "version": 2
   },
   "file_extension": ".py",
   "mimetype": "text/x-python",
   "name": "python",
   "nbconvert_exporter": "python",
   "pygments_lexer": "ipython2",
   "version": "2.7.5"
  }
 },
 "nbformat": 4,
 "nbformat_minor": 0
}
