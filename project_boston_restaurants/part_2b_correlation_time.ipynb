{
 "cells": [
  {
   "cell_type": "markdown",
   "metadata": {},
   "source": [
    "# Jonathan Halverson\n",
    "# Keeping it Fresh: Predict Restaurant Inspections\n",
    "## Part 2b: Computing the correlation time of the violations"
   ]
  },
  {
   "cell_type": "markdown",
   "metadata": {},
   "source": [
    "In this notebook we compute the correlation time of the violations:\n",
    "\n",
    "$$\\frac{<x(t) - x_0><x(0) - x_0>}{<x(0) - x_0><x(0) - x_0>} \\sim exp(-t / \\tau)$$\n",
    "\n",
    "Here is the format of the data:"
   ]
  },
  {
   "cell_type": "code",
   "execution_count": 1,
   "metadata": {
    "collapsed": true
   },
   "outputs": [],
   "source": [
    "import numpy as np\n",
    "import pandas as pd\n",
    "import matplotlib.pyplot as plt\n",
    "%matplotlib inline\n",
    "plt.style.use('halverson')"
   ]
  },
  {
   "cell_type": "code",
   "execution_count": 2,
   "metadata": {
    "collapsed": false
   },
   "outputs": [
    {
     "data": {
      "text/html": [
       "<div>\n",
       "<table border=\"1\" class=\"dataframe\">\n",
       "  <thead>\n",
       "    <tr style=\"text-align: right;\">\n",
       "      <th></th>\n",
       "      <th>id</th>\n",
       "      <th>date</th>\n",
       "      <th>restaurant_id</th>\n",
       "      <th>*</th>\n",
       "      <th>**</th>\n",
       "      <th>***</th>\n",
       "    </tr>\n",
       "  </thead>\n",
       "  <tbody>\n",
       "    <tr>\n",
       "      <th>551</th>\n",
       "      <td>24765</td>\n",
       "      <td>2008-03-26</td>\n",
       "      <td>0ZED0WED</td>\n",
       "      <td>3</td>\n",
       "      <td>1</td>\n",
       "      <td>0</td>\n",
       "    </tr>\n",
       "    <tr>\n",
       "      <th>5460</th>\n",
       "      <td>25193</td>\n",
       "      <td>2008-10-08</td>\n",
       "      <td>0ZED0WED</td>\n",
       "      <td>6</td>\n",
       "      <td>2</td>\n",
       "      <td>4</td>\n",
       "    </tr>\n",
       "    <tr>\n",
       "      <th>3641</th>\n",
       "      <td>12775</td>\n",
       "      <td>2009-03-03</td>\n",
       "      <td>0ZED0WED</td>\n",
       "      <td>3</td>\n",
       "      <td>0</td>\n",
       "      <td>0</td>\n",
       "    </tr>\n",
       "    <tr>\n",
       "      <th>18452</th>\n",
       "      <td>25850</td>\n",
       "      <td>2009-07-23</td>\n",
       "      <td>0ZED0WED</td>\n",
       "      <td>1</td>\n",
       "      <td>0</td>\n",
       "      <td>2</td>\n",
       "    </tr>\n",
       "    <tr>\n",
       "      <th>10227</th>\n",
       "      <td>17443</td>\n",
       "      <td>2009-12-02</td>\n",
       "      <td>0ZED0WED</td>\n",
       "      <td>3</td>\n",
       "      <td>1</td>\n",
       "      <td>1</td>\n",
       "    </tr>\n",
       "  </tbody>\n",
       "</table>\n",
       "</div>"
      ],
      "text/plain": [
       "          id       date restaurant_id  *  **  ***\n",
       "551    24765 2008-03-26      0ZED0WED  3   1    0\n",
       "5460   25193 2008-10-08      0ZED0WED  6   2    4\n",
       "3641   12775 2009-03-03      0ZED0WED  3   0    0\n",
       "18452  25850 2009-07-23      0ZED0WED  1   0    2\n",
       "10227  17443 2009-12-02      0ZED0WED  3   1    1"
      ]
     },
     "execution_count": 2,
     "metadata": {},
     "output_type": "execute_result"
    }
   ],
   "source": [
    "from helper_methods import drop_duplicate_inspections\n",
    "\n",
    "df = pd.read_csv('data/training_labels.txt', parse_dates=['date'])\n",
    "df = df.sort_values(['restaurant_id', 'date'])\n",
    "df = drop_duplicate_inspections(df, threshold=60)\n",
    "df = df[(df.date >= pd.to_datetime('2008-01-01')) & (df.date <= pd.to_datetime('2014-12-31'))]\n",
    "df.head()"
   ]
  },
  {
   "cell_type": "code",
   "execution_count": 3,
   "metadata": {
    "collapsed": false
   },
   "outputs": [
    {
     "name": "stdout",
     "output_type": "stream",
     "text": [
      "<class 'pandas.core.frame.DataFrame'>\n",
      "Int64Index: 18330 entries, 551 to 5854\n",
      "Data columns (total 6 columns):\n",
      "id               18330 non-null int64\n",
      "date             18330 non-null datetime64[ns]\n",
      "restaurant_id    18330 non-null object\n",
      "*                18330 non-null int64\n",
      "**               18330 non-null int64\n",
      "***              18330 non-null int64\n",
      "dtypes: datetime64[ns](1), int64(4), object(1)\n",
      "memory usage: 1002.4+ KB\n"
     ]
    }
   ],
   "source": [
    "df.info()"
   ]
  },
  {
   "cell_type": "markdown",
   "metadata": {},
   "source": [
    "### Below are two samples of the violation data"
   ]
  },
  {
   "cell_type": "code",
   "execution_count": 14,
   "metadata": {
    "collapsed": false
   },
   "outputs": [
    {
     "data": {
      "text/plain": [
       "<matplotlib.text.Text at 0x10c7de790>"
      ]
     },
     "execution_count": 14,
     "metadata": {},
     "output_type": "execute_result"
    },
    {
     "data": {
      "image/png": "[encoded data removed]",
      "text/plain": [
       "<matplotlib.figure.Figure at 0x10c80ac90>"
      ]
     },
     "metadata": {},
     "output_type": "display_data"
    }
   ],
   "source": [
    "plt.plot(df[df.restaurant_id == '1JEbamOR'].date, df[df.restaurant_id == '1JEbamOR']['*'], 'k:', label='*', marker='o')\n",
    "plt.plot(df[df.restaurant_id == '1JEbamOR'].date, df[df.restaurant_id == '1JEbamOR']['**'], 'r:', label='**', marker='o')\n",
    "plt.plot(df[df.restaurant_id == '1JEbamOR'].date, df[df.restaurant_id == '1JEbamOR']['***'], 'g:', label='***', marker='o')\n",
    "plt.xlabel('Date')\n",
    "plt.ylabel('Number of violations')\n",
    "plt.legend(loc='upper left')\n",
    "plt.title('1JEbamOR')"
   ]
  },
  {
   "cell_type": "code",
   "execution_count": 15,
   "metadata": {
    "collapsed": false
   },
   "outputs": [
    {
     "data": {
      "text/plain": [
       "<matplotlib.text.Text at 0x10dcc2fd0>"
      ]
     },
     "execution_count": 15,
     "metadata": {},
     "output_type": "execute_result"
    },
    {
     "data": {
      "image/png": "[encoded data removed]",
      "text/plain": [
       "<matplotlib.figure.Figure at 0x10dbe8e10>"
      ]
     },
     "metadata": {},
     "output_type": "display_data"
    }
   ],
   "source": [
    "plt.plot(df[df.restaurant_id == '0ZED0WED'].date, df[df.restaurant_id == '0ZED0WED']['*'], 'k:', label='*', marker='o')\n",
    "plt.plot(df[df.restaurant_id == '0ZED0WED'].date, df[df.restaurant_id == '0ZED0WED']['**'], 'r:', label='**', marker='o')\n",
    "plt.plot(df[df.restaurant_id == '0ZED0WED'].date, df[df.restaurant_id == '0ZED0WED']['***'], 'g:', label='***', marker='o')\n",
    "plt.xlabel('Date')\n",
    "plt.ylabel('Number of violations')\n",
    "plt.legend(loc='upper left')\n",
    "plt.title('0ZED0WED')"
   ]
  },
  {
   "cell_type": "markdown",
   "metadata": {},
   "source": [
    "### Let's look for a seasonal dependence"
   ]
  },
  {
   "cell_type": "markdown",
   "metadata": {},
   "source": [
    "First load the weather data:"
   ]
  },
  {
   "cell_type": "code",
   "execution_count": 6,
   "metadata": {
    "collapsed": false
   },
   "outputs": [
    {
     "data": {
      "text/html": [
       "<div>\n",
       "<table border=\"1\" class=\"dataframe\">\n",
       "  <thead>\n",
       "    <tr style=\"text-align: right;\">\n",
       "      <th></th>\n",
       "      <th>0</th>\n",
       "      <th>1</th>\n",
       "      <th>2</th>\n",
       "    </tr>\n",
       "  </thead>\n",
       "  <tbody>\n",
       "    <tr>\n",
       "      <th>EST</th>\n",
       "      <td>2015-01-01 00:00:00</td>\n",
       "      <td>2015-01-02 00:00:00</td>\n",
       "      <td>2015-01-03 00:00:00</td>\n",
       "    </tr>\n",
       "    <tr>\n",
       "      <th>Max TemperatureF</th>\n",
       "      <td>33</td>\n",
       "      <td>41</td>\n",
       "      <td>37</td>\n",
       "    </tr>\n",
       "    <tr>\n",
       "      <th>Mean TemperatureF</th>\n",
       "      <td>28</td>\n",
       "      <td>36</td>\n",
       "      <td>30</td>\n",
       "    </tr>\n",
       "    <tr>\n",
       "      <th>Min TemperatureF</th>\n",
       "      <td>22</td>\n",
       "      <td>31</td>\n",
       "      <td>22</td>\n",
       "    </tr>\n",
       "    <tr>\n",
       "      <th>Max Dew PointF</th>\n",
       "      <td>16</td>\n",
       "      <td>17</td>\n",
       "      <td>36</td>\n",
       "    </tr>\n",
       "    <tr>\n",
       "      <th>MeanDew PointF</th>\n",
       "      <td>8</td>\n",
       "      <td>15</td>\n",
       "      <td>20</td>\n",
       "    </tr>\n",
       "    <tr>\n",
       "      <th>Min DewpointF</th>\n",
       "      <td>5</td>\n",
       "      <td>11</td>\n",
       "      <td>8</td>\n",
       "    </tr>\n",
       "    <tr>\n",
       "      <th>Max Humidity</th>\n",
       "      <td>53</td>\n",
       "      <td>53</td>\n",
       "      <td>100</td>\n",
       "    </tr>\n",
       "    <tr>\n",
       "      <th>Mean Humidity</th>\n",
       "      <td>43</td>\n",
       "      <td>45</td>\n",
       "      <td>72</td>\n",
       "    </tr>\n",
       "    <tr>\n",
       "      <th>Min Humidity</th>\n",
       "      <td>32</td>\n",
       "      <td>37</td>\n",
       "      <td>43</td>\n",
       "    </tr>\n",
       "    <tr>\n",
       "      <th>Max Sea Level PressureIn</th>\n",
       "      <td>30.1</td>\n",
       "      <td>30.45</td>\n",
       "      <td>30.68</td>\n",
       "    </tr>\n",
       "    <tr>\n",
       "      <th>Mean Sea Level PressureIn</th>\n",
       "      <td>30</td>\n",
       "      <td>30.13</td>\n",
       "      <td>30.54</td>\n",
       "    </tr>\n",
       "    <tr>\n",
       "      <th>Min Sea Level PressureIn</th>\n",
       "      <td>29.92</td>\n",
       "      <td>29.95</td>\n",
       "      <td>30.24</td>\n",
       "    </tr>\n",
       "    <tr>\n",
       "      <th>Max VisibilityMiles</th>\n",
       "      <td>10</td>\n",
       "      <td>10</td>\n",
       "      <td>10</td>\n",
       "    </tr>\n",
       "    <tr>\n",
       "      <th>Mean VisibilityMiles</th>\n",
       "      <td>10</td>\n",
       "      <td>10</td>\n",
       "      <td>6</td>\n",
       "    </tr>\n",
       "    <tr>\n",
       "      <th>Min VisibilityMiles</th>\n",
       "      <td>10</td>\n",
       "      <td>10</td>\n",
       "      <td>1</td>\n",
       "    </tr>\n",
       "    <tr>\n",
       "      <th>Max Wind SpeedMPH</th>\n",
       "      <td>23</td>\n",
       "      <td>26</td>\n",
       "      <td>22</td>\n",
       "    </tr>\n",
       "    <tr>\n",
       "      <th>Mean Wind SpeedMPH</th>\n",
       "      <td>14</td>\n",
       "      <td>13</td>\n",
       "      <td>10</td>\n",
       "    </tr>\n",
       "    <tr>\n",
       "      <th>Max Gust SpeedMPH</th>\n",
       "      <td>29</td>\n",
       "      <td>32</td>\n",
       "      <td>25</td>\n",
       "    </tr>\n",
       "    <tr>\n",
       "      <th>PrecipitationIn</th>\n",
       "      <td>0.00</td>\n",
       "      <td>0.00</td>\n",
       "      <td>0.62</td>\n",
       "    </tr>\n",
       "    <tr>\n",
       "      <th>CloudCover</th>\n",
       "      <td>3</td>\n",
       "      <td>3</td>\n",
       "      <td>7</td>\n",
       "    </tr>\n",
       "    <tr>\n",
       "      <th>Events</th>\n",
       "      <td>NaN</td>\n",
       "      <td>NaN</td>\n",
       "      <td>Rain-Snow</td>\n",
       "    </tr>\n",
       "    <tr>\n",
       "      <th>WindDirDegrees</th>\n",
       "      <td>230</td>\n",
       "      <td>260</td>\n",
       "      <td>81</td>\n",
       "    </tr>\n",
       "    <tr>\n",
       "      <th>weekofyear</th>\n",
       "      <td>1</td>\n",
       "      <td>1</td>\n",
       "      <td>1</td>\n",
       "    </tr>\n",
       "  </tbody>\n",
       "</table>\n",
       "</div>"
      ],
      "text/plain": [
       "                                              0                    1  \\\n",
       "EST                         2015-01-01 00:00:00  2015-01-02 00:00:00   \n",
       "Max TemperatureF                             33                   41   \n",
       "Mean TemperatureF                            28                   36   \n",
       "Min TemperatureF                             22                   31   \n",
       "Max Dew PointF                               16                   17   \n",
       "MeanDew PointF                                8                   15   \n",
       "Min DewpointF                                 5                   11   \n",
       "Max Humidity                                 53                   53   \n",
       " Mean Humidity                               43                   45   \n",
       " Min Humidity                                32                   37   \n",
       " Max Sea Level PressureIn                  30.1                30.45   \n",
       " Mean Sea Level PressureIn                   30                30.13   \n",
       " Min Sea Level PressureIn                 29.92                29.95   \n",
       " Max VisibilityMiles                         10                   10   \n",
       " Mean VisibilityMiles                        10                   10   \n",
       " Min VisibilityMiles                         10                   10   \n",
       " Max Wind SpeedMPH                           23                   26   \n",
       " Mean Wind SpeedMPH                          14                   13   \n",
       " Max Gust SpeedMPH                           29                   32   \n",
       "PrecipitationIn                            0.00                 0.00   \n",
       " CloudCover                                   3                    3   \n",
       " Events                                     NaN                  NaN   \n",
       " WindDirDegrees                             230                  260   \n",
       "weekofyear                                    1                    1   \n",
       "\n",
       "                                              2  \n",
       "EST                         2015-01-03 00:00:00  \n",
       "Max TemperatureF                             37  \n",
       "Mean TemperatureF                            30  \n",
       "Min TemperatureF                             22  \n",
       "Max Dew PointF                               36  \n",
       "MeanDew PointF                               20  \n",
       "Min DewpointF                                 8  \n",
       "Max Humidity                                100  \n",
       " Mean Humidity                               72  \n",
       " Min Humidity                                43  \n",
       " Max Sea Level PressureIn                 30.68  \n",
       " Mean Sea Level PressureIn                30.54  \n",
       " Min Sea Level PressureIn                 30.24  \n",
       " Max VisibilityMiles                         10  \n",
       " Mean VisibilityMiles                         6  \n",
       " Min VisibilityMiles                          1  \n",
       " Max Wind SpeedMPH                           22  \n",
       " Mean Wind SpeedMPH                          10  \n",
       " Max Gust SpeedMPH                           25  \n",
       "PrecipitationIn                            0.62  \n",
       " CloudCover                                   7  \n",
       " Events                               Rain-Snow  \n",
       " WindDirDegrees                              81  \n",
       "weekofyear                                    1  "
      ]
     },
     "execution_count": 6,
     "metadata": {},
     "output_type": "execute_result"
    }
   ],
   "source": [
    "# https://www.wunderground.com/history/airport/KBOS/2015/1/1/CustomHistory.html\n",
    "bos_wthr = pd.read_csv('data/boston_weather_2015_2011.csv', parse_dates=['EST'])\n",
    "bos_wthr['weekofyear'] = bos_wthr['EST'].apply(lambda x: x.weekofyear)\n",
    "bos_wthr.head(3).transpose()"
   ]
  },
  {
   "cell_type": "code",
   "execution_count": 7,
   "metadata": {
    "collapsed": false
   },
   "outputs": [
    {
     "data": {
      "text/html": [
       "<div>\n",
       "<table border=\"1\" class=\"dataframe\">\n",
       "  <thead>\n",
       "    <tr>\n",
       "      <th></th>\n",
       "      <th colspan=\"2\" halign=\"left\">*</th>\n",
       "      <th>***</th>\n",
       "      <th>**</th>\n",
       "    </tr>\n",
       "    <tr>\n",
       "      <th></th>\n",
       "      <th>size</th>\n",
       "      <th>mean</th>\n",
       "      <th>mean</th>\n",
       "      <th>mean</th>\n",
       "    </tr>\n",
       "    <tr>\n",
       "      <th>weekofyear</th>\n",
       "      <th></th>\n",
       "      <th></th>\n",
       "      <th></th>\n",
       "      <th></th>\n",
       "    </tr>\n",
       "  </thead>\n",
       "  <tbody>\n",
       "    <tr>\n",
       "      <th>1</th>\n",
       "      <td>985</td>\n",
       "      <td>1.302538</td>\n",
       "      <td>0.279188</td>\n",
       "      <td>0.088325</td>\n",
       "    </tr>\n",
       "    <tr>\n",
       "      <th>2</th>\n",
       "      <td>404</td>\n",
       "      <td>4.198020</td>\n",
       "      <td>0.871287</td>\n",
       "      <td>0.331683</td>\n",
       "    </tr>\n",
       "    <tr>\n",
       "      <th>3</th>\n",
       "      <td>306</td>\n",
       "      <td>3.836601</td>\n",
       "      <td>0.934641</td>\n",
       "      <td>0.297386</td>\n",
       "    </tr>\n",
       "    <tr>\n",
       "      <th>4</th>\n",
       "      <td>296</td>\n",
       "      <td>3.675676</td>\n",
       "      <td>0.979730</td>\n",
       "      <td>0.293919</td>\n",
       "    </tr>\n",
       "    <tr>\n",
       "      <th>5</th>\n",
       "      <td>361</td>\n",
       "      <td>3.495845</td>\n",
       "      <td>0.806094</td>\n",
       "      <td>0.246537</td>\n",
       "    </tr>\n",
       "  </tbody>\n",
       "</table>\n",
       "</div>"
      ],
      "text/plain": [
       "              *                 ***        **\n",
       "           size      mean      mean      mean\n",
       "weekofyear                                   \n",
       "1           985  1.302538  0.279188  0.088325\n",
       "2           404  4.198020  0.871287  0.331683\n",
       "3           306  3.836601  0.934641  0.297386\n",
       "4           296  3.675676  0.979730  0.293919\n",
       "5           361  3.495845  0.806094  0.246537"
      ]
     },
     "execution_count": 7,
     "metadata": {},
     "output_type": "execute_result"
    }
   ],
   "source": [
    "df['weekofyear'] = df.date.apply(lambda x: x.weekofyear)\n",
    "weekofyear_violations = df.groupby('weekofyear').agg({'*':[np.size, np.mean], '**':[np.mean], '***':[np.mean]})\n",
    "weekofyear_violations.head()"
   ]
  },
  {
   "cell_type": "code",
   "execution_count": 27,
   "metadata": {
    "collapsed": false
   },
   "outputs": [
    {
     "data": {
      "text/plain": [
       "(0, 100)"
      ]
     },
     "execution_count": 27,
     "metadata": {},
     "output_type": "execute_result"
    },
    {
     "data": {
      "image/png": "[encoded data removed]",
      "text/plain": [
       "<matplotlib.figure.Figure at 0x10e1cc4d0>"
      ]
     },
     "metadata": {},
     "output_type": "display_data"
    }
   ],
   "source": [
    "fig, ax1 = plt.subplots()\n",
    "ax1.bar(weekofyear_violations.index, weekofyear_violations[('*', 'size')], width=1)\n",
    "ax1.set_xlabel('Week of the year')\n",
    "ax1.set_ylabel('Number of inspections', color='b')\n",
    "\n",
    "mean_T_by_week = bos_wthr.groupby('weekofyear').agg({'Mean TemperatureF': [np.mean]})\n",
    "ax2 = ax1.twinx()\n",
    "ax2.plot(bos_wthr.EST.apply(lambda x: x.dayofyear / 7.0), bos_wthr['Mean TemperatureF'], 'm.', alpha=0.25, ms=5)\n",
    "ax2.plot(mean_T_by_week.index, mean_T_by_week, 'r', marker='o')\n",
    "ax2.set_ylabel('Mean temperature 2011-2015 (F)', color='r')\n",
    "ax2.set_xlim(0, 55)\n",
    "ax2.set_ylim(0, 100)"
   ]
  },
  {
   "cell_type": "code",
   "execution_count": 9,
   "metadata": {
    "collapsed": false
   },
   "outputs": [
    {
     "name": "stdout",
     "output_type": "stream",
     "text": [
      "(-0.43814189867823206, 0.0014609177196348215)\n",
      "SpearmanrResult(correlation=-0.40707287411533266, pvalue=0.0024858060689667521)\n"
     ]
    }
   ],
   "source": [
    "from scipy.stats import pearsonr, spearmanr\n",
    "print pearsonr(mean_T_by_week[('Mean TemperatureF', 'mean')][1:-2], weekofyear_violations[('*', 'size')][1:-2])\n",
    "print spearmanr(mean_T_by_week[('Mean TemperatureF', 'mean')], weekofyear_violations[('*', 'size')])"
   ]
  },
  {
   "cell_type": "markdown",
   "metadata": {},
   "source": [
    "There is a moderate inverse correlation between the number of inspections and the mean weekly temperature. Note that when the first and last weeks are not removed the Pearson result is much different -- not surprising since it is sensitive to outliers."
   ]
  },
  {
   "cell_type": "code",
   "execution_count": 10,
   "metadata": {
    "collapsed": false
   },
   "outputs": [
    {
     "data": {
      "image/png": "[encoded data removed]",
      "text/plain": [
       "<matplotlib.figure.Figure at 0x10c296090>"
      ]
     },
     "metadata": {},
     "output_type": "display_data"
    }
   ],
   "source": [
    "colors = ['b', 'g', 'r']\n",
    "stars = ['*', '**', '***']\n",
    "fig, ax = plt.subplots(nrows=1, ncols=3, figsize=(14, 4))\n",
    "for i in range(3):\n",
    "    ax[i].bar(weekofyear_violations.index, weekofyear_violations[(stars[i], 'mean')], width=1, color=colors[i])\n",
    "    ax[i].set_xlabel('Week of the year')\n",
    "    ax[i].set_ylabel('Number of violations (' + stars[i] + ')')\n",
    "    ax[i].set_xlim(0, 53)\n",
    "plt.tight_layout()"
   ]
  },
  {
   "cell_type": "code",
   "execution_count": 11,
   "metadata": {
    "collapsed": false
   },
   "outputs": [
    {
     "name": "stdout",
     "output_type": "stream",
     "text": [
      "* (-0.13692453449929373, 0.34303274277546314)\n",
      "* SpearmanrResult(correlation=-0.03942912433478471, pvalue=0.77923767231156149)\n",
      "** (0.49089444947898747, 0.00029517538955575344)\n",
      "** SpearmanrResult(correlation=0.52128688921141753, pvalue=6.2730652555874128e-05)\n",
      "*** (-0.16357373540316802, 0.25635379249186552)\n",
      "*** SpearmanrResult(correlation=-0.064828253507498795, pvalue=0.64466334091563149)\n"
     ]
    }
   ],
   "source": [
    "for star in stars:\n",
    "    print star, pearsonr(mean_T_by_week[('Mean TemperatureF', 'mean')][1:-2], weekofyear_violations[(star, 'mean')][1:-2])\n",
    "    print star, spearmanr(mean_T_by_week[('Mean TemperatureF', 'mean')], weekofyear_violations[(star, 'mean')])"
   ]
  },
  {
   "cell_type": "markdown",
   "metadata": {},
   "source": [
    "### Compute the correlation time"
   ]
  },
  {
   "cell_type": "code",
   "execution_count": 38,
   "metadata": {
    "collapsed": false
   },
   "outputs": [
    {
     "data": {
      "text/html": [
       "<div>\n",
       "<table border=\"1\" class=\"dataframe\">\n",
       "  <thead>\n",
       "    <tr style=\"text-align: right;\">\n",
       "      <th></th>\n",
       "      <th>id</th>\n",
       "      <th>date</th>\n",
       "      <th>restaurant_id</th>\n",
       "      <th>*</th>\n",
       "      <th>**</th>\n",
       "      <th>***</th>\n",
       "      <th>weekofyear</th>\n",
       "    </tr>\n",
       "  </thead>\n",
       "  <tbody>\n",
       "    <tr>\n",
       "      <th>551</th>\n",
       "      <td>24765</td>\n",
       "      <td>2008-03-26</td>\n",
       "      <td>0ZED0WED</td>\n",
       "      <td>3</td>\n",
       "      <td>1</td>\n",
       "      <td>0</td>\n",
       "      <td>13</td>\n",
       "    </tr>\n",
       "    <tr>\n",
       "      <th>5460</th>\n",
       "      <td>25193</td>\n",
       "      <td>2008-10-08</td>\n",
       "      <td>0ZED0WED</td>\n",
       "      <td>6</td>\n",
       "      <td>2</td>\n",
       "      <td>4</td>\n",
       "      <td>41</td>\n",
       "    </tr>\n",
       "    <tr>\n",
       "      <th>3641</th>\n",
       "      <td>12775</td>\n",
       "      <td>2009-03-03</td>\n",
       "      <td>0ZED0WED</td>\n",
       "      <td>3</td>\n",
       "      <td>0</td>\n",
       "      <td>0</td>\n",
       "      <td>10</td>\n",
       "    </tr>\n",
       "    <tr>\n",
       "      <th>18452</th>\n",
       "      <td>25850</td>\n",
       "      <td>2009-07-23</td>\n",
       "      <td>0ZED0WED</td>\n",
       "      <td>1</td>\n",
       "      <td>0</td>\n",
       "      <td>2</td>\n",
       "      <td>30</td>\n",
       "    </tr>\n",
       "    <tr>\n",
       "      <th>10227</th>\n",
       "      <td>17443</td>\n",
       "      <td>2009-12-02</td>\n",
       "      <td>0ZED0WED</td>\n",
       "      <td>3</td>\n",
       "      <td>1</td>\n",
       "      <td>1</td>\n",
       "      <td>49</td>\n",
       "    </tr>\n",
       "  </tbody>\n",
       "</table>\n",
       "</div>"
      ],
      "text/plain": [
       "          id       date restaurant_id  *  **  ***  weekofyear\n",
       "551    24765 2008-03-26      0ZED0WED  3   1    0          13\n",
       "5460   25193 2008-10-08      0ZED0WED  6   2    4          41\n",
       "3641   12775 2009-03-03      0ZED0WED  3   0    0          10\n",
       "18452  25850 2009-07-23      0ZED0WED  1   0    2          30\n",
       "10227  17443 2009-12-02      0ZED0WED  3   1    1          49"
      ]
     },
     "execution_count": 38,
     "metadata": {},
     "output_type": "execute_result"
    }
   ],
   "source": [
    "df = df.sort_values(['restaurant_id', 'date'])\n",
    "df.head()"
   ]
  },
  {
   "cell_type": "markdown",
   "metadata": {},
   "source": [
    "For each restaurant compute average * then loop over all time origins and compute t_diff and <x-x_0><x-x_0> then plot and fit to exponential then compute tau which is the decorrelation time which will be less than the average time between inspections.\n",
    "\n",
    "Need dictionary to store t_diff (in weeks between dates)."
   ]
  },
  {
   "cell_type": "code",
   "execution_count": 73,
   "metadata": {
    "collapsed": false
   },
   "outputs": [
    {
     "data": {
      "text/html": [
       "<div>\n",
       "<table border=\"1\" class=\"dataframe\">\n",
       "  <thead>\n",
       "    <tr style=\"text-align: right;\">\n",
       "      <th></th>\n",
       "      <th>id</th>\n",
       "      <th>date</th>\n",
       "      <th>restaurant_id</th>\n",
       "      <th>*</th>\n",
       "      <th>**</th>\n",
       "      <th>***</th>\n",
       "      <th>weekofyear</th>\n",
       "    </tr>\n",
       "  </thead>\n",
       "  <tbody>\n",
       "    <tr>\n",
       "      <th>0</th>\n",
       "      <td>24765</td>\n",
       "      <td>2008-03-26</td>\n",
       "      <td>0ZED0WED</td>\n",
       "      <td>3</td>\n",
       "      <td>1</td>\n",
       "      <td>0</td>\n",
       "      <td>13</td>\n",
       "    </tr>\n",
       "    <tr>\n",
       "      <th>1</th>\n",
       "      <td>25193</td>\n",
       "      <td>2008-10-08</td>\n",
       "      <td>0ZED0WED</td>\n",
       "      <td>6</td>\n",
       "      <td>2</td>\n",
       "      <td>4</td>\n",
       "      <td>41</td>\n",
       "    </tr>\n",
       "    <tr>\n",
       "      <th>2</th>\n",
       "      <td>12775</td>\n",
       "      <td>2009-03-03</td>\n",
       "      <td>0ZED0WED</td>\n",
       "      <td>3</td>\n",
       "      <td>0</td>\n",
       "      <td>0</td>\n",
       "      <td>10</td>\n",
       "    </tr>\n",
       "    <tr>\n",
       "      <th>3</th>\n",
       "      <td>25850</td>\n",
       "      <td>2009-07-23</td>\n",
       "      <td>0ZED0WED</td>\n",
       "      <td>1</td>\n",
       "      <td>0</td>\n",
       "      <td>2</td>\n",
       "      <td>30</td>\n",
       "    </tr>\n",
       "    <tr>\n",
       "      <th>4</th>\n",
       "      <td>17443</td>\n",
       "      <td>2009-12-02</td>\n",
       "      <td>0ZED0WED</td>\n",
       "      <td>3</td>\n",
       "      <td>1</td>\n",
       "      <td>1</td>\n",
       "      <td>49</td>\n",
       "    </tr>\n",
       "    <tr>\n",
       "      <th>5</th>\n",
       "      <td>4180</td>\n",
       "      <td>2010-02-08</td>\n",
       "      <td>0ZED0WED</td>\n",
       "      <td>11</td>\n",
       "      <td>1</td>\n",
       "      <td>1</td>\n",
       "      <td>6</td>\n",
       "    </tr>\n",
       "    <tr>\n",
       "      <th>6</th>\n",
       "      <td>3527</td>\n",
       "      <td>2011-10-14</td>\n",
       "      <td>0ZED0WED</td>\n",
       "      <td>17</td>\n",
       "      <td>3</td>\n",
       "      <td>5</td>\n",
       "      <td>41</td>\n",
       "    </tr>\n",
       "    <tr>\n",
       "      <th>7</th>\n",
       "      <td>22246</td>\n",
       "      <td>2011-12-28</td>\n",
       "      <td>0ZED0WED</td>\n",
       "      <td>0</td>\n",
       "      <td>0</td>\n",
       "      <td>0</td>\n",
       "      <td>52</td>\n",
       "    </tr>\n",
       "    <tr>\n",
       "      <th>8</th>\n",
       "      <td>17990</td>\n",
       "      <td>2012-03-21</td>\n",
       "      <td>0ZED0WED</td>\n",
       "      <td>2</td>\n",
       "      <td>0</td>\n",
       "      <td>0</td>\n",
       "      <td>12</td>\n",
       "    </tr>\n",
       "    <tr>\n",
       "      <th>9</th>\n",
       "      <td>1601</td>\n",
       "      <td>2012-08-27</td>\n",
       "      <td>0ZED0WED</td>\n",
       "      <td>4</td>\n",
       "      <td>0</td>\n",
       "      <td>1</td>\n",
       "      <td>35</td>\n",
       "    </tr>\n",
       "    <tr>\n",
       "      <th>10</th>\n",
       "      <td>1028</td>\n",
       "      <td>2012-12-30</td>\n",
       "      <td>0ZED0WED</td>\n",
       "      <td>0</td>\n",
       "      <td>0</td>\n",
       "      <td>0</td>\n",
       "      <td>52</td>\n",
       "    </tr>\n",
       "    <tr>\n",
       "      <th>11</th>\n",
       "      <td>14085</td>\n",
       "      <td>2013-02-12</td>\n",
       "      <td>0ZED0WED</td>\n",
       "      <td>3</td>\n",
       "      <td>0</td>\n",
       "      <td>0</td>\n",
       "      <td>7</td>\n",
       "    </tr>\n",
       "    <tr>\n",
       "      <th>12</th>\n",
       "      <td>4772</td>\n",
       "      <td>2013-07-26</td>\n",
       "      <td>0ZED0WED</td>\n",
       "      <td>4</td>\n",
       "      <td>1</td>\n",
       "      <td>2</td>\n",
       "      <td>30</td>\n",
       "    </tr>\n",
       "    <tr>\n",
       "      <th>13</th>\n",
       "      <td>19976</td>\n",
       "      <td>2014-01-16</td>\n",
       "      <td>0ZED0WED</td>\n",
       "      <td>6</td>\n",
       "      <td>1</td>\n",
       "      <td>2</td>\n",
       "      <td>3</td>\n",
       "    </tr>\n",
       "    <tr>\n",
       "      <th>14</th>\n",
       "      <td>8566</td>\n",
       "      <td>2014-10-08</td>\n",
       "      <td>0ZED0WED</td>\n",
       "      <td>3</td>\n",
       "      <td>1</td>\n",
       "      <td>1</td>\n",
       "      <td>41</td>\n",
       "    </tr>\n",
       "  </tbody>\n",
       "</table>\n",
       "</div>"
      ],
      "text/plain": [
       "       id       date restaurant_id   *  **  ***  weekofyear\n",
       "0   24765 2008-03-26      0ZED0WED   3   1    0          13\n",
       "1   25193 2008-10-08      0ZED0WED   6   2    4          41\n",
       "2   12775 2009-03-03      0ZED0WED   3   0    0          10\n",
       "3   25850 2009-07-23      0ZED0WED   1   0    2          30\n",
       "4   17443 2009-12-02      0ZED0WED   3   1    1          49\n",
       "5    4180 2010-02-08      0ZED0WED  11   1    1           6\n",
       "6    3527 2011-10-14      0ZED0WED  17   3    5          41\n",
       "7   22246 2011-12-28      0ZED0WED   0   0    0          52\n",
       "8   17990 2012-03-21      0ZED0WED   2   0    0          12\n",
       "9    1601 2012-08-27      0ZED0WED   4   0    1          35\n",
       "10   1028 2012-12-30      0ZED0WED   0   0    0          52\n",
       "11  14085 2013-02-12      0ZED0WED   3   0    0           7\n",
       "12   4772 2013-07-26      0ZED0WED   4   1    2          30\n",
       "13  19976 2014-01-16      0ZED0WED   6   1    2           3\n",
       "14   8566 2014-10-08      0ZED0WED   3   1    1          41"
      ]
     },
     "execution_count": 73,
     "metadata": {},
     "output_type": "execute_result"
    }
   ],
   "source": [
    "d = df[df.restaurant_id == '0ZED0WED']\n",
    "d.reset_index(inplace=True, drop=True)\n",
    "d"
   ]
  },
  {
   "cell_type": "code",
   "execution_count": 34,
   "metadata": {
    "collapsed": false
   },
   "outputs": [
    {
     "data": {
      "text/plain": [
       "4.4000000000000004"
      ]
     },
     "execution_count": 34,
     "metadata": {},
     "output_type": "execute_result"
    }
   ],
   "source": [
    "mean_one_star = d.mean()['*']\n",
    "mean_one_star"
   ]
  },
  {
   "cell_type": "code",
   "execution_count": 35,
   "metadata": {
    "collapsed": true
   },
   "outputs": [],
   "source": [
    "num_inspect = d.shape[0]"
   ]
  },
  {
   "cell_type": "code",
   "execution_count": 46,
   "metadata": {
    "collapsed": false
   },
   "outputs": [
    {
     "name": "stdout",
     "output_type": "stream",
     "text": [
      "3\n",
      "6\n",
      "3\n",
      "1\n",
      "3\n",
      "11\n",
      "17\n",
      "0\n",
      "2\n",
      "4\n",
      "0\n",
      "3\n",
      "4\n",
      "6\n",
      "3\n"
     ]
    }
   ],
   "source": [
    "for index, row in d.iterrows():\n",
    "    print row['*']"
   ]
  },
  {
   "cell_type": "code",
   "execution_count": 66,
   "metadata": {
    "collapsed": false
   },
   "outputs": [
    {
     "data": {
      "text/html": [
       "<div>\n",
       "<table border=\"1\" class=\"dataframe\">\n",
       "  <thead>\n",
       "    <tr style=\"text-align: right;\">\n",
       "      <th></th>\n",
       "      <th>id</th>\n",
       "      <th>date</th>\n",
       "      <th>restaurant_id</th>\n",
       "      <th>*</th>\n",
       "      <th>**</th>\n",
       "      <th>***</th>\n",
       "      <th>weekofyear</th>\n",
       "    </tr>\n",
       "  </thead>\n",
       "  <tbody>\n",
       "    <tr>\n",
       "      <th>551</th>\n",
       "      <td>24765</td>\n",
       "      <td>2008-03-26</td>\n",
       "      <td>0ZED0WED</td>\n",
       "      <td>3</td>\n",
       "      <td>1</td>\n",
       "      <td>0</td>\n",
       "      <td>13</td>\n",
       "    </tr>\n",
       "    <tr>\n",
       "      <th>5460</th>\n",
       "      <td>25193</td>\n",
       "      <td>2008-10-08</td>\n",
       "      <td>0ZED0WED</td>\n",
       "      <td>6</td>\n",
       "      <td>2</td>\n",
       "      <td>4</td>\n",
       "      <td>41</td>\n",
       "    </tr>\n",
       "    <tr>\n",
       "      <th>3641</th>\n",
       "      <td>12775</td>\n",
       "      <td>2009-03-03</td>\n",
       "      <td>0ZED0WED</td>\n",
       "      <td>3</td>\n",
       "      <td>0</td>\n",
       "      <td>0</td>\n",
       "      <td>10</td>\n",
       "    </tr>\n",
       "    <tr>\n",
       "      <th>18452</th>\n",
       "      <td>25850</td>\n",
       "      <td>2009-07-23</td>\n",
       "      <td>0ZED0WED</td>\n",
       "      <td>1</td>\n",
       "      <td>0</td>\n",
       "      <td>2</td>\n",
       "      <td>30</td>\n",
       "    </tr>\n",
       "    <tr>\n",
       "      <th>10227</th>\n",
       "      <td>17443</td>\n",
       "      <td>2009-12-02</td>\n",
       "      <td>0ZED0WED</td>\n",
       "      <td>3</td>\n",
       "      <td>1</td>\n",
       "      <td>1</td>\n",
       "      <td>49</td>\n",
       "    </tr>\n",
       "    <tr>\n",
       "      <th>11543</th>\n",
       "      <td>4180</td>\n",
       "      <td>2010-02-08</td>\n",
       "      <td>0ZED0WED</td>\n",
       "      <td>11</td>\n",
       "      <td>1</td>\n",
       "      <td>1</td>\n",
       "      <td>6</td>\n",
       "    </tr>\n",
       "    <tr>\n",
       "      <th>20637</th>\n",
       "      <td>3527</td>\n",
       "      <td>2011-10-14</td>\n",
       "      <td>0ZED0WED</td>\n",
       "      <td>17</td>\n",
       "      <td>3</td>\n",
       "      <td>5</td>\n",
       "      <td>41</td>\n",
       "    </tr>\n",
       "    <tr>\n",
       "      <th>14848</th>\n",
       "      <td>22246</td>\n",
       "      <td>2011-12-28</td>\n",
       "      <td>0ZED0WED</td>\n",
       "      <td>0</td>\n",
       "      <td>0</td>\n",
       "      <td>0</td>\n",
       "      <td>52</td>\n",
       "    </tr>\n",
       "    <tr>\n",
       "      <th>21555</th>\n",
       "      <td>17990</td>\n",
       "      <td>2012-03-21</td>\n",
       "      <td>0ZED0WED</td>\n",
       "      <td>2</td>\n",
       "      <td>0</td>\n",
       "      <td>0</td>\n",
       "      <td>12</td>\n",
       "    </tr>\n",
       "    <tr>\n",
       "      <th>6720</th>\n",
       "      <td>1601</td>\n",
       "      <td>2012-08-27</td>\n",
       "      <td>0ZED0WED</td>\n",
       "      <td>4</td>\n",
       "      <td>0</td>\n",
       "      <td>1</td>\n",
       "      <td>35</td>\n",
       "    </tr>\n",
       "    <tr>\n",
       "      <th>27001</th>\n",
       "      <td>1028</td>\n",
       "      <td>2012-12-30</td>\n",
       "      <td>0ZED0WED</td>\n",
       "      <td>0</td>\n",
       "      <td>0</td>\n",
       "      <td>0</td>\n",
       "      <td>52</td>\n",
       "    </tr>\n",
       "    <tr>\n",
       "      <th>919</th>\n",
       "      <td>14085</td>\n",
       "      <td>2013-02-12</td>\n",
       "      <td>0ZED0WED</td>\n",
       "      <td>3</td>\n",
       "      <td>0</td>\n",
       "      <td>0</td>\n",
       "      <td>7</td>\n",
       "    </tr>\n",
       "    <tr>\n",
       "      <th>9824</th>\n",
       "      <td>4772</td>\n",
       "      <td>2013-07-26</td>\n",
       "      <td>0ZED0WED</td>\n",
       "      <td>4</td>\n",
       "      <td>1</td>\n",
       "      <td>2</td>\n",
       "      <td>30</td>\n",
       "    </tr>\n",
       "    <tr>\n",
       "      <th>359</th>\n",
       "      <td>19976</td>\n",
       "      <td>2014-01-16</td>\n",
       "      <td>0ZED0WED</td>\n",
       "      <td>6</td>\n",
       "      <td>1</td>\n",
       "      <td>2</td>\n",
       "      <td>3</td>\n",
       "    </tr>\n",
       "    <tr>\n",
       "      <th>9991</th>\n",
       "      <td>8566</td>\n",
       "      <td>2014-10-08</td>\n",
       "      <td>0ZED0WED</td>\n",
       "      <td>3</td>\n",
       "      <td>1</td>\n",
       "      <td>1</td>\n",
       "      <td>41</td>\n",
       "    </tr>\n",
       "  </tbody>\n",
       "</table>\n",
       "</div>"
      ],
      "text/plain": [
       "          id       date restaurant_id   *  **  ***  weekofyear\n",
       "551    24765 2008-03-26      0ZED0WED   3   1    0          13\n",
       "5460   25193 2008-10-08      0ZED0WED   6   2    4          41\n",
       "3641   12775 2009-03-03      0ZED0WED   3   0    0          10\n",
       "18452  25850 2009-07-23      0ZED0WED   1   0    2          30\n",
       "10227  17443 2009-12-02      0ZED0WED   3   1    1          49\n",
       "11543   4180 2010-02-08      0ZED0WED  11   1    1           6\n",
       "20637   3527 2011-10-14      0ZED0WED  17   3    5          41\n",
       "14848  22246 2011-12-28      0ZED0WED   0   0    0          52\n",
       "21555  17990 2012-03-21      0ZED0WED   2   0    0          12\n",
       "6720    1601 2012-08-27      0ZED0WED   4   0    1          35\n",
       "27001   1028 2012-12-30      0ZED0WED   0   0    0          52\n",
       "919    14085 2013-02-12      0ZED0WED   3   0    0           7\n",
       "9824    4772 2013-07-26      0ZED0WED   4   1    2          30\n",
       "359    19976 2014-01-16      0ZED0WED   6   1    2           3\n",
       "9991    8566 2014-10-08      0ZED0WED   3   1    1          41"
      ]
     },
     "execution_count": 66,
     "metadata": {},
     "output_type": "execute_result"
    }
   ],
   "source": [
    "d"
   ]
  },
  {
   "cell_type": "code",
   "execution_count": 84,
   "metadata": {
    "collapsed": false
   },
   "outputs": [],
   "source": [
    "from collections import defaultdict\n",
    "ct = defaultdict(int)\n",
    "cf = defaultdict(int)\n",
    "\n",
    "for i in range(num_inspect - 1):\n",
    "    one_star = d.ix[i, '*'] - mean_one_star\n",
    "    t_start = d.ix[i, 'date']\n",
    "    for j in range(i + 1, num_inspect):\n",
    "        t_diff = int((d.ix[j, 'date'] - t_start) / np.timedelta64(1, 'W'))\n",
    "        cf[t_diff] += (d.ix[j, '*'] - mean_one_star) * one_star\n",
    "        ct[t_diff] += 1"
   ]
  },
  {
   "cell_type": "code",
   "execution_count": 92,
   "metadata": {
    "collapsed": false
   },
   "outputs": [
    {
     "data": {
      "text/plain": [
       "<matplotlib.text.Text at 0x10e04cad0>"
      ]
     },
     "execution_count": 92,
     "metadata": {},
     "output_type": "execute_result"
    },
    {
     "data": {
      "image/png": "[encoded data removed]",
      "text/plain": [
       "<matplotlib.figure.Figure at 0x10dc77150>"
      ]
     },
     "metadata": {},
     "output_type": "display_data"
    }
   ],
   "source": [
    "plt.plot(ct.keys(), [cf[t] / ct[t] for t in ct.keys()])\n",
    "plt.xlabel('Weeks between inspections')\n",
    "plt.ylabel('$C(t)$')"
   ]
  },
  {
   "cell_type": "code",
   "execution_count": null,
   "metadata": {
    "collapsed": true
   },
   "outputs": [],
   "source": []
  }
 ],
 "metadata": {
  "kernelspec": {
   "display_name": "Python 2",
   "language": "python",
   "name": "python2"
  },
  "language_info": {
   "codemirror_mode": {
    "name": "ipython",
    "version": 2
   },
   "file_extension": ".py",
   "mimetype": "text/x-python",
   "name": "python",
   "nbconvert_exporter": "python",
   "pygments_lexer": "ipython2",
   "version": "2.7.5"
  }
 },
 "nbformat": 4,
 "nbformat_minor": 0
}
