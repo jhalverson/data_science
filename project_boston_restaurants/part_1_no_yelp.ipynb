{
 "cells": [
  {
   "cell_type": "markdown",
   "metadata": {},
   "source": [
    "# Jonathan Halverson\n",
    "# Keeping it Fresh: Predict Restaurant Inspections"
   ]
  },
  {
   "cell_type": "markdown",
   "metadata": {},
   "source": [
    "### This notebook examines the health inspection violation data. We propose two simple models for benchmarking purposes. We do not work with the Yelp data in this notebook."
   ]
  },
  {
   "cell_type": "code",
   "execution_count": 1,
   "metadata": {
    "collapsed": true
   },
   "outputs": [],
   "source": [
    "import numpy as np\n",
    "import pandas as pd\n",
    "import matplotlib.pyplot as plt\n",
    "%matplotlib inline\n",
    "plt.style.use('halverson')"
   ]
  },
  {
   "cell_type": "code",
   "execution_count": 2,
   "metadata": {
    "collapsed": false
   },
   "outputs": [
    {
     "data": {
      "text/html": [
       "<div>\n",
       "<table border=\"1\" class=\"dataframe\">\n",
       "  <thead>\n",
       "    <tr style=\"text-align: right;\">\n",
       "      <th></th>\n",
       "      <th>id</th>\n",
       "      <th>date</th>\n",
       "      <th>restaurant_id</th>\n",
       "      <th>*</th>\n",
       "      <th>**</th>\n",
       "      <th>***</th>\n",
       "    </tr>\n",
       "  </thead>\n",
       "  <tbody>\n",
       "    <tr>\n",
       "      <th>0</th>\n",
       "      <td>589</td>\n",
       "      <td>2010-02-02</td>\n",
       "      <td>KAoKWjog</td>\n",
       "      <td>3</td>\n",
       "      <td>0</td>\n",
       "      <td>1</td>\n",
       "    </tr>\n",
       "    <tr>\n",
       "      <th>1</th>\n",
       "      <td>28589</td>\n",
       "      <td>2009-12-10</td>\n",
       "      <td>p038M4om</td>\n",
       "      <td>2</td>\n",
       "      <td>0</td>\n",
       "      <td>0</td>\n",
       "    </tr>\n",
       "    <tr>\n",
       "      <th>2</th>\n",
       "      <td>31170</td>\n",
       "      <td>2008-07-16</td>\n",
       "      <td>B1oXymOV</td>\n",
       "      <td>4</td>\n",
       "      <td>0</td>\n",
       "      <td>0</td>\n",
       "    </tr>\n",
       "    <tr>\n",
       "      <th>3</th>\n",
       "      <td>2600</td>\n",
       "      <td>2015-01-30</td>\n",
       "      <td>m0oWJl3G</td>\n",
       "      <td>1</td>\n",
       "      <td>0</td>\n",
       "      <td>3</td>\n",
       "    </tr>\n",
       "    <tr>\n",
       "      <th>4</th>\n",
       "      <td>1016</td>\n",
       "      <td>2012-03-19</td>\n",
       "      <td>rJoQwlEV</td>\n",
       "      <td>0</td>\n",
       "      <td>0</td>\n",
       "      <td>0</td>\n",
       "    </tr>\n",
       "  </tbody>\n",
       "</table>\n",
       "</div>"
      ],
      "text/plain": [
       "      id        date restaurant_id  *  **  ***\n",
       "0    589  2010-02-02      KAoKWjog  3   0    1\n",
       "1  28589  2009-12-10      p038M4om  2   0    0\n",
       "2  31170  2008-07-16      B1oXymOV  4   0    0\n",
       "3   2600  2015-01-30      m0oWJl3G  1   0    3\n",
       "4   1016  2012-03-19      rJoQwlEV  0   0    0"
      ]
     },
     "execution_count": 2,
     "metadata": {},
     "output_type": "execute_result"
    }
   ],
   "source": [
    "df = pd.read_csv('training_labels.txt')\n",
    "df.head()"
   ]
  },
  {
   "cell_type": "code",
   "execution_count": 3,
   "metadata": {
    "collapsed": false
   },
   "outputs": [
    {
     "name": "stdout",
     "output_type": "stream",
     "text": [
      "<class 'pandas.core.frame.DataFrame'>\n",
      "RangeIndex: 27088 entries, 0 to 27087\n",
      "Data columns (total 6 columns):\n",
      "id               27088 non-null int64\n",
      "date             27088 non-null object\n",
      "restaurant_id    27088 non-null object\n",
      "*                27088 non-null int64\n",
      "**               27088 non-null int64\n",
      "***              27088 non-null int64\n",
      "dtypes: int64(4), object(2)\n",
      "memory usage: 1.2+ MB\n"
     ]
    }
   ],
   "source": [
    "df.info()"
   ]
  },
  {
   "cell_type": "code",
   "execution_count": 4,
   "metadata": {
    "collapsed": false
   },
   "outputs": [
    {
     "data": {
      "text/html": [
       "<div>\n",
       "<table border=\"1\" class=\"dataframe\">\n",
       "  <thead>\n",
       "    <tr style=\"text-align: right;\">\n",
       "      <th></th>\n",
       "      <th>id</th>\n",
       "      <th>*</th>\n",
       "      <th>**</th>\n",
       "      <th>***</th>\n",
       "    </tr>\n",
       "  </thead>\n",
       "  <tbody>\n",
       "    <tr>\n",
       "      <th>count</th>\n",
       "      <td>27088.0000</td>\n",
       "      <td>27088.0000</td>\n",
       "      <td>27088.0000</td>\n",
       "      <td>27088.0000</td>\n",
       "    </tr>\n",
       "    <tr>\n",
       "      <th>mean</th>\n",
       "      <td>16897.4581</td>\n",
       "      <td>4.0474</td>\n",
       "      <td>0.3524</td>\n",
       "      <td>0.9158</td>\n",
       "    </tr>\n",
       "    <tr>\n",
       "      <th>std</th>\n",
       "      <td>9785.8206</td>\n",
       "      <td>4.1605</td>\n",
       "      <td>0.6318</td>\n",
       "      <td>1.4871</td>\n",
       "    </tr>\n",
       "    <tr>\n",
       "      <th>min</th>\n",
       "      <td>0.0000</td>\n",
       "      <td>0.0000</td>\n",
       "      <td>0.0000</td>\n",
       "      <td>0.0000</td>\n",
       "    </tr>\n",
       "    <tr>\n",
       "      <th>25%</th>\n",
       "      <td>8399.5000</td>\n",
       "      <td>1.0000</td>\n",
       "      <td>0.0000</td>\n",
       "      <td>0.0000</td>\n",
       "    </tr>\n",
       "    <tr>\n",
       "      <th>50%</th>\n",
       "      <td>16872.5000</td>\n",
       "      <td>3.0000</td>\n",
       "      <td>0.0000</td>\n",
       "      <td>0.0000</td>\n",
       "    </tr>\n",
       "    <tr>\n",
       "      <th>75%</th>\n",
       "      <td>25364.2500</td>\n",
       "      <td>6.0000</td>\n",
       "      <td>1.0000</td>\n",
       "      <td>1.0000</td>\n",
       "    </tr>\n",
       "    <tr>\n",
       "      <th>max</th>\n",
       "      <td>33859.0000</td>\n",
       "      <td>49.0000</td>\n",
       "      <td>7.0000</td>\n",
       "      <td>17.0000</td>\n",
       "    </tr>\n",
       "  </tbody>\n",
       "</table>\n",
       "</div>"
      ],
      "text/plain": [
       "               id           *          **         ***\n",
       "count  27088.0000  27088.0000  27088.0000  27088.0000\n",
       "mean   16897.4581      4.0474      0.3524      0.9158\n",
       "std     9785.8206      4.1605      0.6318      1.4871\n",
       "min        0.0000      0.0000      0.0000      0.0000\n",
       "25%     8399.5000      1.0000      0.0000      0.0000\n",
       "50%    16872.5000      3.0000      0.0000      0.0000\n",
       "75%    25364.2500      6.0000      1.0000      1.0000\n",
       "max    33859.0000     49.0000      7.0000     17.0000"
      ]
     },
     "execution_count": 4,
     "metadata": {},
     "output_type": "execute_result"
    }
   ],
   "source": [
    "df.describe().applymap(lambda x: round(x, 4))"
   ]
  },
  {
   "cell_type": "markdown",
   "metadata": {},
   "source": [
    "### Zero model"
   ]
  },
  {
   "cell_type": "markdown",
   "metadata": {},
   "source": [
    "Our first model is to simply predict the median number of violations across all inspections. This would be 3, 0, 0 for 1-star, 2-star, 3-star as seen in the 6th row in the table above. While this completely ignores the Yelp data it gives us a well-understood benchmark which we will surely beat."
   ]
  },
  {
   "cell_type": "code",
   "execution_count": 5,
   "metadata": {
    "collapsed": false
   },
   "outputs": [
    {
     "data": {
      "text/html": [
       "<div>\n",
       "<table border=\"1\" class=\"dataframe\">\n",
       "  <thead>\n",
       "    <tr style=\"text-align: right;\">\n",
       "      <th></th>\n",
       "      <th>id</th>\n",
       "      <th>date</th>\n",
       "      <th>restaurant_id</th>\n",
       "      <th>*</th>\n",
       "      <th>**</th>\n",
       "      <th>***</th>\n",
       "    </tr>\n",
       "  </thead>\n",
       "  <tbody>\n",
       "    <tr>\n",
       "      <th>0</th>\n",
       "      <td>14916</td>\n",
       "      <td>2014-12-17</td>\n",
       "      <td>nkOvZOBW</td>\n",
       "      <td>3</td>\n",
       "      <td>0</td>\n",
       "      <td>0</td>\n",
       "    </tr>\n",
       "    <tr>\n",
       "      <th>1</th>\n",
       "      <td>29767</td>\n",
       "      <td>2013-12-30</td>\n",
       "      <td>WwOaAnOB</td>\n",
       "      <td>3</td>\n",
       "      <td>0</td>\n",
       "      <td>0</td>\n",
       "    </tr>\n",
       "    <tr>\n",
       "      <th>2</th>\n",
       "      <td>29338</td>\n",
       "      <td>2011-04-08</td>\n",
       "      <td>we39kvOk</td>\n",
       "      <td>3</td>\n",
       "      <td>0</td>\n",
       "      <td>0</td>\n",
       "    </tr>\n",
       "    <tr>\n",
       "      <th>3</th>\n",
       "      <td>7219</td>\n",
       "      <td>2013-12-30</td>\n",
       "      <td>dj3d5Xo9</td>\n",
       "      <td>3</td>\n",
       "      <td>0</td>\n",
       "      <td>0</td>\n",
       "    </tr>\n",
       "    <tr>\n",
       "      <th>4</th>\n",
       "      <td>20979</td>\n",
       "      <td>2008-03-31</td>\n",
       "      <td>XJ3rBW3R</td>\n",
       "      <td>3</td>\n",
       "      <td>0</td>\n",
       "      <td>0</td>\n",
       "    </tr>\n",
       "  </tbody>\n",
       "</table>\n",
       "</div>"
      ],
      "text/plain": [
       "      id        date restaurant_id  *  **  ***\n",
       "0  14916  2014-12-17      nkOvZOBW  3   0    0\n",
       "1  29767  2013-12-30      WwOaAnOB  3   0    0\n",
       "2  29338  2011-04-08      we39kvOk  3   0    0\n",
       "3   7219  2013-12-30      dj3d5Xo9  3   0    0\n",
       "4  20979  2008-03-31      XJ3rBW3R  3   0    0"
      ]
     },
     "execution_count": 5,
     "metadata": {},
     "output_type": "execute_result"
    }
   ],
   "source": [
    "sb = pd.read_csv('SubmissionFormat.csv')\n",
    "sb['*'] = 3\n",
    "sb.to_csv('zero_model.csv', index=False, header=True)\n",
    "sb.head()"
   ]
  },
  {
   "cell_type": "markdown",
   "metadata": {},
   "source": [
    "### Convert date to NumPy data type"
   ]
  },
  {
   "cell_type": "code",
   "execution_count": 6,
   "metadata": {
    "collapsed": true
   },
   "outputs": [],
   "source": [
    "df['date'] = pd.to_datetime(df['date'], infer_datetime_format=True)"
   ]
  },
  {
   "cell_type": "code",
   "execution_count": 7,
   "metadata": {
    "collapsed": false
   },
   "outputs": [
    {
     "name": "stdout",
     "output_type": "stream",
     "text": [
      "<class 'pandas.core.frame.DataFrame'>\n",
      "RangeIndex: 27088 entries, 0 to 27087\n",
      "Data columns (total 6 columns):\n",
      "id               27088 non-null int64\n",
      "date             27088 non-null datetime64[ns]\n",
      "restaurant_id    27088 non-null object\n",
      "*                27088 non-null int64\n",
      "**               27088 non-null int64\n",
      "***              27088 non-null int64\n",
      "dtypes: datetime64[ns](1), int64(4), object(1)\n",
      "memory usage: 1.2+ MB\n"
     ]
    }
   ],
   "source": [
    "df.info()"
   ]
  },
  {
   "cell_type": "markdown",
   "metadata": {},
   "source": [
    "### Check for unique values"
   ]
  },
  {
   "cell_type": "markdown",
   "metadata": {},
   "source": [
    "Let's look at the number of unique values per column:"
   ]
  },
  {
   "cell_type": "code",
   "execution_count": 8,
   "metadata": {
    "collapsed": false
   },
   "outputs": [
    {
     "data": {
      "text/plain": [
       "27088"
      ]
     },
     "execution_count": 8,
     "metadata": {},
     "output_type": "execute_result"
    }
   ],
   "source": [
    "df['id'].unique().size"
   ]
  },
  {
   "cell_type": "code",
   "execution_count": 9,
   "metadata": {
    "collapsed": false
   },
   "outputs": [
    {
     "data": {
      "text/plain": [
       "1851"
      ]
     },
     "execution_count": 9,
     "metadata": {},
     "output_type": "execute_result"
    }
   ],
   "source": [
    "df['restaurant_id'].unique().size"
   ]
  },
  {
   "cell_type": "code",
   "execution_count": 10,
   "metadata": {
    "collapsed": false
   },
   "outputs": [
    {
     "data": {
      "text/plain": [
       "2077"
      ]
     },
     "execution_count": 10,
     "metadata": {},
     "output_type": "execute_result"
    }
   ],
   "source": [
    "np.unique(df['date'].values).size"
   ]
  },
  {
   "cell_type": "code",
   "execution_count": 11,
   "metadata": {
    "collapsed": false
   },
   "outputs": [
    {
     "data": {
      "text/plain": [
       "2077"
      ]
     },
     "execution_count": 11,
     "metadata": {},
     "output_type": "execute_result"
    }
   ],
   "source": [
    "df['date'].unique().size"
   ]
  },
  {
   "cell_type": "markdown",
   "metadata": {},
   "source": [
    "We see that the id's are unique while the restaurant_id's suggest multiple inspections."
   ]
  },
  {
   "cell_type": "markdown",
   "metadata": {},
   "source": [
    "### Which days of the week are the inspections carried out on and how many per year?"
   ]
  },
  {
   "cell_type": "code",
   "execution_count": 12,
   "metadata": {
    "collapsed": false
   },
   "outputs": [
    {
     "data": {
      "text/plain": [
       "(-0.5, 6.5)"
      ]
     },
     "execution_count": 12,
     "metadata": {},
     "output_type": "execute_result"
    },
    {
     "data": {
      "image/png": "[encoded data removed]",
      "text/plain": [
       "<matplotlib.figure.Figure at 0x10bffbb50>"
      ]
     },
     "metadata": {},
     "output_type": "display_data"
    }
   ],
   "source": [
    "counts, _ = np.histogram(df['date'].apply(lambda x: x.dayofweek), bins=7, range=(0, 7))\n",
    "fig, ax = plt.subplots(1, 1, figsize=(5, 4))\n",
    "plt.bar(range(7), counts, align='center')\n",
    "labels = ['Monday', 'Tuesday', 'Wednesday', 'Thursday', 'Friday', 'Saturday', 'Sunday']\n",
    "plt.xticks(range(7), labels, rotation=75)\n",
    "plt.ylabel('Number of inspections')\n",
    "plt.xlim(-0.5, 6.5)"
   ]
  },
  {
   "cell_type": "code",
   "execution_count": 13,
   "metadata": {
    "collapsed": false
   },
   "outputs": [
    {
     "data": {
      "text/plain": [
       "(-0.5, 9.5)"
      ]
     },
     "execution_count": 13,
     "metadata": {},
     "output_type": "execute_result"
    },
    {
     "data": {
      "image/png": "[encoded data removed]",
      "text/plain": [
       "<matplotlib.figure.Figure at 0x10cec83d0>"
      ]
     },
     "metadata": {},
     "output_type": "display_data"
    }
   ],
   "source": [
    "counts, _ = np.histogram(df['date'].apply(lambda x: x.year), bins=10, range=(2006, 2016))\n",
    "fig, ax = plt.subplots(1, 1, figsize=(5, 4))\n",
    "plt.bar(range(10), counts, align='center')\n",
    "labels = range(2006, 2017)\n",
    "plt.xticks(range(10), labels, rotation=75)\n",
    "plt.ylabel('Number of inspections')\n",
    "plt.xlim(-0.5, 9.5)"
   ]
  },
  {
   "cell_type": "markdown",
   "metadata": {},
   "source": [
    "Data for 2015 is not complete."
   ]
  },
  {
   "cell_type": "markdown",
   "metadata": {},
   "source": [
    "### Plot the violation data"
   ]
  },
  {
   "cell_type": "markdown",
   "metadata": {},
   "source": [
    "Visualize the violations by date and level:"
   ]
  },
  {
   "cell_type": "code",
   "execution_count": 14,
   "metadata": {
    "collapsed": false
   },
   "outputs": [
    {
     "data": {
      "image/png": "[encoded data removed]",
      "text/plain": [
       "<matplotlib.figure.Figure at 0x107935a50>"
      ]
     },
     "metadata": {},
     "output_type": "display_data"
    }
   ],
   "source": [
    "clr = ['k', 'g', 'r']\n",
    "fig, ax = plt.subplots(nrows=3, ncols=1, figsize=(8, 10))\n",
    "for i, stars in enumerate(['*', '**', '***']):\n",
    "    ax[i].plot(df.date, df[stars], '.', color=clr[i], label=stars, ms=5)\n",
    "    if (i == 2): ax[i].set_xlabel('Date')\n",
    "    ax[i].set_ylabel('Number of Violations')\n",
    "    ax[i].legend(loc='upper left')\n",
    "plt.tight_layout()"
   ]
  },
  {
   "cell_type": "markdown",
   "metadata": {},
   "source": [
    "The number of violations of each type is approximately uniform over time. There are many more one-star violations than the other two."
   ]
  },
  {
   "cell_type": "code",
   "execution_count": 15,
   "metadata": {
    "collapsed": false
   },
   "outputs": [
    {
     "data": {
      "image/png": "[encoded data removed]",
      "text/plain": [
       "<matplotlib.figure.Figure at 0x107937a50>"
      ]
     },
     "metadata": {},
     "output_type": "display_data"
    }
   ],
   "source": [
    "fig, ax = plt.subplots(nrows=1, ncols=3, figsize=(16, 4))\n",
    "for i, stars in enumerate(['*', '**', '***']):\n",
    "    ax[i].hist(df[stars], label=stars, color=clr[i], bins=15, width=1, range=(0, 15))\n",
    "    ax[i].set_xlabel('Number of violations')\n",
    "    if (i == 0): ax[i].set_ylabel('Count')\n",
    "    ax[i].legend(loc='upper right')\n",
    "    ax[i].set_ylim(0, 20000)\n",
    "plt.tight_layout()"
   ]
  },
  {
   "cell_type": "markdown",
   "metadata": {},
   "source": [
    "### How many times were each of the 1851 restaurants inspected?"
   ]
  },
  {
   "cell_type": "code",
   "execution_count": 16,
   "metadata": {
    "collapsed": false,
    "scrolled": false
   },
   "outputs": [
    {
     "data": {
      "text/html": [
       "<div>\n",
       "<table border=\"1\" class=\"dataframe\">\n",
       "  <thead>\n",
       "    <tr style=\"text-align: right;\">\n",
       "      <th></th>\n",
       "      <th>Number of inspections</th>\n",
       "    </tr>\n",
       "    <tr>\n",
       "      <th>restaurant_id</th>\n",
       "      <th></th>\n",
       "    </tr>\n",
       "  </thead>\n",
       "  <tbody>\n",
       "    <tr>\n",
       "      <th>1JEbamOR</th>\n",
       "      <td>45</td>\n",
       "    </tr>\n",
       "    <tr>\n",
       "      <th>wmo7bb3q</th>\n",
       "      <td>42</td>\n",
       "    </tr>\n",
       "    <tr>\n",
       "      <th>KAoKz83g</th>\n",
       "      <td>42</td>\n",
       "    </tr>\n",
       "    <tr>\n",
       "      <th>Y1EmLmOw</th>\n",
       "      <td>42</td>\n",
       "    </tr>\n",
       "    <tr>\n",
       "      <th>Pk3w4wod</th>\n",
       "      <td>40</td>\n",
       "    </tr>\n",
       "    <tr>\n",
       "      <th>dj3dX539</th>\n",
       "      <td>40</td>\n",
       "    </tr>\n",
       "    <tr>\n",
       "      <th>0ZEDGWOD</th>\n",
       "      <td>40</td>\n",
       "    </tr>\n",
       "    <tr>\n",
       "      <th>ZBEnaqOY</th>\n",
       "      <td>39</td>\n",
       "    </tr>\n",
       "    <tr>\n",
       "      <th>6K3lb8Oz</th>\n",
       "      <td>37</td>\n",
       "    </tr>\n",
       "    <tr>\n",
       "      <th>NbE1bk3J</th>\n",
       "      <td>37</td>\n",
       "    </tr>\n",
       "  </tbody>\n",
       "</table>\n",
       "</div>"
      ],
      "text/plain": [
       "               Number of inspections\n",
       "restaurant_id                       \n",
       "1JEbamOR                          45\n",
       "wmo7bb3q                          42\n",
       "KAoKz83g                          42\n",
       "Y1EmLmOw                          42\n",
       "Pk3w4wod                          40\n",
       "dj3dX539                          40\n",
       "0ZEDGWOD                          40\n",
       "ZBEnaqOY                          39\n",
       "6K3lb8Oz                          37\n",
       "NbE1bk3J                          37"
      ]
     },
     "execution_count": 16,
     "metadata": {},
     "output_type": "execute_result"
    }
   ],
   "source": [
    "num_inspect = pd.crosstab(index=df[\"restaurant_id\"], columns=\"count\")\n",
    "num_inspect.columns = [\"Number of inspections\"]\n",
    "num_inspect.sort_values('Number of inspections', ascending=False, inplace=True)\n",
    "num_inspect.head(10)"
   ]
  },
  {
   "cell_type": "code",
   "execution_count": 17,
   "metadata": {
    "collapsed": false
   },
   "outputs": [
    {
     "data": {
      "text/plain": [
       "restaurant_id\n",
       "1JEbamOR    45\n",
       "Y1EmLmOw    42\n",
       "KAoKz83g    42\n",
       "wmo7bb3q    42\n",
       "dj3dX539    40\n",
       "Pk3w4wod    40\n",
       "0ZEDGWOD    40\n",
       "ZBEnaqOY    39\n",
       "6K3lb8Oz    37\n",
       "NbE1bk3J    37\n",
       "dtype: int64"
      ]
     },
     "execution_count": 17,
     "metadata": {},
     "output_type": "execute_result"
    }
   ],
   "source": [
    "most_rated = df.groupby('restaurant_id').size().sort_values(ascending=False)[:10]\n",
    "most_rated"
   ]
  },
  {
   "cell_type": "code",
   "execution_count": 18,
   "metadata": {
    "collapsed": false
   },
   "outputs": [
    {
     "data": {
      "text/plain": [
       "1JEbamOR    45\n",
       "Y1EmLmOw    42\n",
       "wmo7bb3q    42\n",
       "KAoKz83g    42\n",
       "dj3dX539    40\n",
       "Pk3w4wod    40\n",
       "0ZEDGWOD    40\n",
       "ZBEnaqOY    39\n",
       "6K3lb8Oz    37\n",
       "NbE1bk3J    37\n",
       "Name: restaurant_id, dtype: int64"
      ]
     },
     "execution_count": 18,
     "metadata": {},
     "output_type": "execute_result"
    }
   ],
   "source": [
    "df.restaurant_id.value_counts()[:10]"
   ]
  },
  {
   "cell_type": "code",
   "execution_count": 19,
   "metadata": {
    "collapsed": false
   },
   "outputs": [
    {
     "data": {
      "text/html": [
       "<div>\n",
       "<table border=\"1\" class=\"dataframe\">\n",
       "  <thead>\n",
       "    <tr style=\"text-align: right;\">\n",
       "      <th></th>\n",
       "      <th>Number of inspections</th>\n",
       "    </tr>\n",
       "  </thead>\n",
       "  <tbody>\n",
       "    <tr>\n",
       "      <th>count</th>\n",
       "      <td>1851.000000</td>\n",
       "    </tr>\n",
       "    <tr>\n",
       "      <th>mean</th>\n",
       "      <td>14.634252</td>\n",
       "    </tr>\n",
       "    <tr>\n",
       "      <th>std</th>\n",
       "      <td>7.876801</td>\n",
       "    </tr>\n",
       "    <tr>\n",
       "      <th>min</th>\n",
       "      <td>1.000000</td>\n",
       "    </tr>\n",
       "    <tr>\n",
       "      <th>25%</th>\n",
       "      <td>9.000000</td>\n",
       "    </tr>\n",
       "    <tr>\n",
       "      <th>50%</th>\n",
       "      <td>14.000000</td>\n",
       "    </tr>\n",
       "    <tr>\n",
       "      <th>75%</th>\n",
       "      <td>20.000000</td>\n",
       "    </tr>\n",
       "    <tr>\n",
       "      <th>max</th>\n",
       "      <td>45.000000</td>\n",
       "    </tr>\n",
       "  </tbody>\n",
       "</table>\n",
       "</div>"
      ],
      "text/plain": [
       "       Number of inspections\n",
       "count            1851.000000\n",
       "mean               14.634252\n",
       "std                 7.876801\n",
       "min                 1.000000\n",
       "25%                 9.000000\n",
       "50%                14.000000\n",
       "75%                20.000000\n",
       "max                45.000000"
      ]
     },
     "execution_count": 19,
     "metadata": {},
     "output_type": "execute_result"
    }
   ],
   "source": [
    "num_inspect.describe()"
   ]
  },
  {
   "cell_type": "code",
   "execution_count": 20,
   "metadata": {
    "collapsed": false
   },
   "outputs": [
    {
     "data": {
      "text/plain": [
       "<matplotlib.text.Text at 0x10cbf9410>"
      ]
     },
     "execution_count": 20,
     "metadata": {},
     "output_type": "execute_result"
    },
    {
     "data": {
      "image/png": "[encoded data removed]",
      "text/plain": [
       "<matplotlib.figure.Figure at 0x10c65e050>"
      ]
     },
     "metadata": {},
     "output_type": "display_data"
    }
   ],
   "source": [
    "plt.hist(num_inspect['Number of inspections'], bins=45)\n",
    "plt.xlabel('Number of inspections')\n",
    "plt.ylabel('Number of restaurants')"
   ]
  },
  {
   "cell_type": "markdown",
   "metadata": {},
   "source": [
    "Let's look at the violations of the restaurant with the most inspections:"
   ]
  },
  {
   "cell_type": "code",
   "execution_count": 21,
   "metadata": {
    "collapsed": false
   },
   "outputs": [
    {
     "data": {
      "text/html": [
       "<div>\n",
       "<table border=\"1\" class=\"dataframe\">\n",
       "  <thead>\n",
       "    <tr style=\"text-align: right;\">\n",
       "      <th></th>\n",
       "      <th>id</th>\n",
       "      <th>date</th>\n",
       "      <th>restaurant_id</th>\n",
       "      <th>*</th>\n",
       "      <th>**</th>\n",
       "      <th>***</th>\n",
       "    </tr>\n",
       "  </thead>\n",
       "  <tbody>\n",
       "    <tr>\n",
       "      <th>19747</th>\n",
       "      <td>14966</td>\n",
       "      <td>2007-02-12</td>\n",
       "      <td>1JEbamOR</td>\n",
       "      <td>10</td>\n",
       "      <td>1</td>\n",
       "      <td>5</td>\n",
       "    </tr>\n",
       "    <tr>\n",
       "      <th>24714</th>\n",
       "      <td>18738</td>\n",
       "      <td>2007-02-13</td>\n",
       "      <td>1JEbamOR</td>\n",
       "      <td>10</td>\n",
       "      <td>1</td>\n",
       "      <td>5</td>\n",
       "    </tr>\n",
       "    <tr>\n",
       "      <th>22753</th>\n",
       "      <td>11966</td>\n",
       "      <td>2007-02-22</td>\n",
       "      <td>1JEbamOR</td>\n",
       "      <td>8</td>\n",
       "      <td>1</td>\n",
       "      <td>1</td>\n",
       "    </tr>\n",
       "    <tr>\n",
       "      <th>9808</th>\n",
       "      <td>10832</td>\n",
       "      <td>2007-08-14</td>\n",
       "      <td>1JEbamOR</td>\n",
       "      <td>11</td>\n",
       "      <td>2</td>\n",
       "      <td>2</td>\n",
       "    </tr>\n",
       "    <tr>\n",
       "      <th>25338</th>\n",
       "      <td>13814</td>\n",
       "      <td>2007-08-15</td>\n",
       "      <td>1JEbamOR</td>\n",
       "      <td>12</td>\n",
       "      <td>2</td>\n",
       "      <td>2</td>\n",
       "    </tr>\n",
       "    <tr>\n",
       "      <th>3851</th>\n",
       "      <td>28890</td>\n",
       "      <td>2007-12-10</td>\n",
       "      <td>1JEbamOR</td>\n",
       "      <td>6</td>\n",
       "      <td>1</td>\n",
       "      <td>2</td>\n",
       "    </tr>\n",
       "    <tr>\n",
       "      <th>11194</th>\n",
       "      <td>28482</td>\n",
       "      <td>2008-03-11</td>\n",
       "      <td>1JEbamOR</td>\n",
       "      <td>20</td>\n",
       "      <td>2</td>\n",
       "      <td>4</td>\n",
       "    </tr>\n",
       "    <tr>\n",
       "      <th>14187</th>\n",
       "      <td>1237</td>\n",
       "      <td>2008-03-12</td>\n",
       "      <td>1JEbamOR</td>\n",
       "      <td>20</td>\n",
       "      <td>2</td>\n",
       "      <td>4</td>\n",
       "    </tr>\n",
       "    <tr>\n",
       "      <th>11888</th>\n",
       "      <td>2823</td>\n",
       "      <td>2008-03-18</td>\n",
       "      <td>1JEbamOR</td>\n",
       "      <td>12</td>\n",
       "      <td>2</td>\n",
       "      <td>0</td>\n",
       "    </tr>\n",
       "    <tr>\n",
       "      <th>15470</th>\n",
       "      <td>26600</td>\n",
       "      <td>2008-09-26</td>\n",
       "      <td>1JEbamOR</td>\n",
       "      <td>7</td>\n",
       "      <td>2</td>\n",
       "      <td>1</td>\n",
       "    </tr>\n",
       "    <tr>\n",
       "      <th>7813</th>\n",
       "      <td>787</td>\n",
       "      <td>2008-12-08</td>\n",
       "      <td>1JEbamOR</td>\n",
       "      <td>3</td>\n",
       "      <td>1</td>\n",
       "      <td>0</td>\n",
       "    </tr>\n",
       "    <tr>\n",
       "      <th>5029</th>\n",
       "      <td>14013</td>\n",
       "      <td>2008-12-15</td>\n",
       "      <td>1JEbamOR</td>\n",
       "      <td>3</td>\n",
       "      <td>1</td>\n",
       "      <td>0</td>\n",
       "    </tr>\n",
       "    <tr>\n",
       "      <th>1842</th>\n",
       "      <td>12597</td>\n",
       "      <td>2009-03-10</td>\n",
       "      <td>1JEbamOR</td>\n",
       "      <td>5</td>\n",
       "      <td>0</td>\n",
       "      <td>1</td>\n",
       "    </tr>\n",
       "    <tr>\n",
       "      <th>17955</th>\n",
       "      <td>18352</td>\n",
       "      <td>2009-08-25</td>\n",
       "      <td>1JEbamOR</td>\n",
       "      <td>15</td>\n",
       "      <td>1</td>\n",
       "      <td>1</td>\n",
       "    </tr>\n",
       "    <tr>\n",
       "      <th>688</th>\n",
       "      <td>7042</td>\n",
       "      <td>2009-09-01</td>\n",
       "      <td>1JEbamOR</td>\n",
       "      <td>7</td>\n",
       "      <td>1</td>\n",
       "      <td>0</td>\n",
       "    </tr>\n",
       "    <tr>\n",
       "      <th>21540</th>\n",
       "      <td>8546</td>\n",
       "      <td>2009-12-03</td>\n",
       "      <td>1JEbamOR</td>\n",
       "      <td>9</td>\n",
       "      <td>1</td>\n",
       "      <td>2</td>\n",
       "    </tr>\n",
       "    <tr>\n",
       "      <th>23146</th>\n",
       "      <td>7940</td>\n",
       "      <td>2009-12-10</td>\n",
       "      <td>1JEbamOR</td>\n",
       "      <td>9</td>\n",
       "      <td>1</td>\n",
       "      <td>2</td>\n",
       "    </tr>\n",
       "    <tr>\n",
       "      <th>14574</th>\n",
       "      <td>17484</td>\n",
       "      <td>2010-03-03</td>\n",
       "      <td>1JEbamOR</td>\n",
       "      <td>7</td>\n",
       "      <td>0</td>\n",
       "      <td>0</td>\n",
       "    </tr>\n",
       "    <tr>\n",
       "      <th>248</th>\n",
       "      <td>12732</td>\n",
       "      <td>2010-03-12</td>\n",
       "      <td>1JEbamOR</td>\n",
       "      <td>7</td>\n",
       "      <td>0</td>\n",
       "      <td>0</td>\n",
       "    </tr>\n",
       "    <tr>\n",
       "      <th>18229</th>\n",
       "      <td>32579</td>\n",
       "      <td>2010-08-10</td>\n",
       "      <td>1JEbamOR</td>\n",
       "      <td>4</td>\n",
       "      <td>0</td>\n",
       "      <td>1</td>\n",
       "    </tr>\n",
       "    <tr>\n",
       "      <th>22475</th>\n",
       "      <td>5090</td>\n",
       "      <td>2010-08-23</td>\n",
       "      <td>1JEbamOR</td>\n",
       "      <td>4</td>\n",
       "      <td>0</td>\n",
       "      <td>1</td>\n",
       "    </tr>\n",
       "    <tr>\n",
       "      <th>16060</th>\n",
       "      <td>15580</td>\n",
       "      <td>2010-12-07</td>\n",
       "      <td>1JEbamOR</td>\n",
       "      <td>8</td>\n",
       "      <td>0</td>\n",
       "      <td>1</td>\n",
       "    </tr>\n",
       "    <tr>\n",
       "      <th>20005</th>\n",
       "      <td>30966</td>\n",
       "      <td>2011-01-31</td>\n",
       "      <td>1JEbamOR</td>\n",
       "      <td>6</td>\n",
       "      <td>0</td>\n",
       "      <td>0</td>\n",
       "    </tr>\n",
       "    <tr>\n",
       "      <th>14509</th>\n",
       "      <td>9412</td>\n",
       "      <td>2011-02-11</td>\n",
       "      <td>1JEbamOR</td>\n",
       "      <td>6</td>\n",
       "      <td>0</td>\n",
       "      <td>0</td>\n",
       "    </tr>\n",
       "    <tr>\n",
       "      <th>20670</th>\n",
       "      <td>4816</td>\n",
       "      <td>2011-08-12</td>\n",
       "      <td>1JEbamOR</td>\n",
       "      <td>7</td>\n",
       "      <td>0</td>\n",
       "      <td>2</td>\n",
       "    </tr>\n",
       "    <tr>\n",
       "      <th>9091</th>\n",
       "      <td>14623</td>\n",
       "      <td>2011-08-19</td>\n",
       "      <td>1JEbamOR</td>\n",
       "      <td>7</td>\n",
       "      <td>0</td>\n",
       "      <td>2</td>\n",
       "    </tr>\n",
       "    <tr>\n",
       "      <th>24812</th>\n",
       "      <td>14404</td>\n",
       "      <td>2011-11-28</td>\n",
       "      <td>1JEbamOR</td>\n",
       "      <td>6</td>\n",
       "      <td>0</td>\n",
       "      <td>1</td>\n",
       "    </tr>\n",
       "    <tr>\n",
       "      <th>13331</th>\n",
       "      <td>4275</td>\n",
       "      <td>2011-12-05</td>\n",
       "      <td>1JEbamOR</td>\n",
       "      <td>6</td>\n",
       "      <td>0</td>\n",
       "      <td>1</td>\n",
       "    </tr>\n",
       "    <tr>\n",
       "      <th>18173</th>\n",
       "      <td>21469</td>\n",
       "      <td>2012-04-12</td>\n",
       "      <td>1JEbamOR</td>\n",
       "      <td>4</td>\n",
       "      <td>0</td>\n",
       "      <td>1</td>\n",
       "    </tr>\n",
       "    <tr>\n",
       "      <th>23502</th>\n",
       "      <td>2312</td>\n",
       "      <td>2012-08-17</td>\n",
       "      <td>1JEbamOR</td>\n",
       "      <td>6</td>\n",
       "      <td>1</td>\n",
       "      <td>3</td>\n",
       "    </tr>\n",
       "    <tr>\n",
       "      <th>22693</th>\n",
       "      <td>9783</td>\n",
       "      <td>2012-08-24</td>\n",
       "      <td>1JEbamOR</td>\n",
       "      <td>0</td>\n",
       "      <td>0</td>\n",
       "      <td>0</td>\n",
       "    </tr>\n",
       "    <tr>\n",
       "      <th>16921</th>\n",
       "      <td>498</td>\n",
       "      <td>2012-12-06</td>\n",
       "      <td>1JEbamOR</td>\n",
       "      <td>2</td>\n",
       "      <td>1</td>\n",
       "      <td>0</td>\n",
       "    </tr>\n",
       "    <tr>\n",
       "      <th>12723</th>\n",
       "      <td>26717</td>\n",
       "      <td>2013-01-08</td>\n",
       "      <td>1JEbamOR</td>\n",
       "      <td>2</td>\n",
       "      <td>1</td>\n",
       "      <td>0</td>\n",
       "    </tr>\n",
       "    <tr>\n",
       "      <th>15189</th>\n",
       "      <td>10957</td>\n",
       "      <td>2013-04-12</td>\n",
       "      <td>1JEbamOR</td>\n",
       "      <td>2</td>\n",
       "      <td>0</td>\n",
       "      <td>1</td>\n",
       "    </tr>\n",
       "    <tr>\n",
       "      <th>933</th>\n",
       "      <td>16516</td>\n",
       "      <td>2013-12-06</td>\n",
       "      <td>1JEbamOR</td>\n",
       "      <td>1</td>\n",
       "      <td>0</td>\n",
       "      <td>0</td>\n",
       "    </tr>\n",
       "    <tr>\n",
       "      <th>23525</th>\n",
       "      <td>24279</td>\n",
       "      <td>2013-12-30</td>\n",
       "      <td>1JEbamOR</td>\n",
       "      <td>0</td>\n",
       "      <td>0</td>\n",
       "      <td>0</td>\n",
       "    </tr>\n",
       "    <tr>\n",
       "      <th>995</th>\n",
       "      <td>18810</td>\n",
       "      <td>2014-04-16</td>\n",
       "      <td>1JEbamOR</td>\n",
       "      <td>13</td>\n",
       "      <td>3</td>\n",
       "      <td>13</td>\n",
       "    </tr>\n",
       "    <tr>\n",
       "      <th>1720</th>\n",
       "      <td>10034</td>\n",
       "      <td>2014-04-17</td>\n",
       "      <td>1JEbamOR</td>\n",
       "      <td>18</td>\n",
       "      <td>4</td>\n",
       "      <td>15</td>\n",
       "    </tr>\n",
       "    <tr>\n",
       "      <th>6329</th>\n",
       "      <td>27681</td>\n",
       "      <td>2014-05-06</td>\n",
       "      <td>1JEbamOR</td>\n",
       "      <td>19</td>\n",
       "      <td>4</td>\n",
       "      <td>13</td>\n",
       "    </tr>\n",
       "    <tr>\n",
       "      <th>19363</th>\n",
       "      <td>19378</td>\n",
       "      <td>2014-05-15</td>\n",
       "      <td>1JEbamOR</td>\n",
       "      <td>18</td>\n",
       "      <td>4</td>\n",
       "      <td>10</td>\n",
       "    </tr>\n",
       "    <tr>\n",
       "      <th>10836</th>\n",
       "      <td>23879</td>\n",
       "      <td>2014-06-18</td>\n",
       "      <td>1JEbamOR</td>\n",
       "      <td>2</td>\n",
       "      <td>0</td>\n",
       "      <td>0</td>\n",
       "    </tr>\n",
       "    <tr>\n",
       "      <th>14195</th>\n",
       "      <td>12332</td>\n",
       "      <td>2014-12-22</td>\n",
       "      <td>1JEbamOR</td>\n",
       "      <td>20</td>\n",
       "      <td>1</td>\n",
       "      <td>2</td>\n",
       "    </tr>\n",
       "    <tr>\n",
       "      <th>11494</th>\n",
       "      <td>10398</td>\n",
       "      <td>2014-12-31</td>\n",
       "      <td>1JEbamOR</td>\n",
       "      <td>20</td>\n",
       "      <td>1</td>\n",
       "      <td>2</td>\n",
       "    </tr>\n",
       "    <tr>\n",
       "      <th>25964</th>\n",
       "      <td>1155</td>\n",
       "      <td>2015-01-07</td>\n",
       "      <td>1JEbamOR</td>\n",
       "      <td>8</td>\n",
       "      <td>0</td>\n",
       "      <td>2</td>\n",
       "    </tr>\n",
       "    <tr>\n",
       "      <th>800</th>\n",
       "      <td>9657</td>\n",
       "      <td>2015-01-15</td>\n",
       "      <td>1JEbamOR</td>\n",
       "      <td>6</td>\n",
       "      <td>0</td>\n",
       "      <td>2</td>\n",
       "    </tr>\n",
       "  </tbody>\n",
       "</table>\n",
       "</div>"
      ],
      "text/plain": [
       "          id       date restaurant_id   *  **  ***\n",
       "19747  14966 2007-02-12      1JEbamOR  10   1    5\n",
       "24714  18738 2007-02-13      1JEbamOR  10   1    5\n",
       "22753  11966 2007-02-22      1JEbamOR   8   1    1\n",
       "9808   10832 2007-08-14      1JEbamOR  11   2    2\n",
       "25338  13814 2007-08-15      1JEbamOR  12   2    2\n",
       "3851   28890 2007-12-10      1JEbamOR   6   1    2\n",
       "11194  28482 2008-03-11      1JEbamOR  20   2    4\n",
       "14187   1237 2008-03-12      1JEbamOR  20   2    4\n",
       "11888   2823 2008-03-18      1JEbamOR  12   2    0\n",
       "15470  26600 2008-09-26      1JEbamOR   7   2    1\n",
       "7813     787 2008-12-08      1JEbamOR   3   1    0\n",
       "5029   14013 2008-12-15      1JEbamOR   3   1    0\n",
       "1842   12597 2009-03-10      1JEbamOR   5   0    1\n",
       "17955  18352 2009-08-25      1JEbamOR  15   1    1\n",
       "688     7042 2009-09-01      1JEbamOR   7   1    0\n",
       "21540   8546 2009-12-03      1JEbamOR   9   1    2\n",
       "23146   7940 2009-12-10      1JEbamOR   9   1    2\n",
       "14574  17484 2010-03-03      1JEbamOR   7   0    0\n",
       "248    12732 2010-03-12      1JEbamOR   7   0    0\n",
       "18229  32579 2010-08-10      1JEbamOR   4   0    1\n",
       "22475   5090 2010-08-23      1JEbamOR   4   0    1\n",
       "16060  15580 2010-12-07      1JEbamOR   8   0    1\n",
       "20005  30966 2011-01-31      1JEbamOR   6   0    0\n",
       "14509   9412 2011-02-11      1JEbamOR   6   0    0\n",
       "20670   4816 2011-08-12      1JEbamOR   7   0    2\n",
       "9091   14623 2011-08-19      1JEbamOR   7   0    2\n",
       "24812  14404 2011-11-28      1JEbamOR   6   0    1\n",
       "13331   4275 2011-12-05      1JEbamOR   6   0    1\n",
       "18173  21469 2012-04-12      1JEbamOR   4   0    1\n",
       "23502   2312 2012-08-17      1JEbamOR   6   1    3\n",
       "22693   9783 2012-08-24      1JEbamOR   0   0    0\n",
       "16921    498 2012-12-06      1JEbamOR   2   1    0\n",
       "12723  26717 2013-01-08      1JEbamOR   2   1    0\n",
       "15189  10957 2013-04-12      1JEbamOR   2   0    1\n",
       "933    16516 2013-12-06      1JEbamOR   1   0    0\n",
       "23525  24279 2013-12-30      1JEbamOR   0   0    0\n",
       "995    18810 2014-04-16      1JEbamOR  13   3   13\n",
       "1720   10034 2014-04-17      1JEbamOR  18   4   15\n",
       "6329   27681 2014-05-06      1JEbamOR  19   4   13\n",
       "19363  19378 2014-05-15      1JEbamOR  18   4   10\n",
       "10836  23879 2014-06-18      1JEbamOR   2   0    0\n",
       "14195  12332 2014-12-22      1JEbamOR  20   1    2\n",
       "11494  10398 2014-12-31      1JEbamOR  20   1    2\n",
       "25964   1155 2015-01-07      1JEbamOR   8   0    2\n",
       "800     9657 2015-01-15      1JEbamOR   6   0    2"
      ]
     },
     "execution_count": 21,
     "metadata": {},
     "output_type": "execute_result"
    }
   ],
   "source": [
    "most_inspections = df[df.restaurant_id == num_inspect.index[0]]\n",
    "most_inspections.sort_values('date')"
   ]
  },
  {
   "cell_type": "markdown",
   "metadata": {},
   "source": [
    "We note that there appear to be many duplicate inspection results separated by a small number of days."
   ]
  },
  {
   "cell_type": "code",
   "execution_count": 22,
   "metadata": {
    "collapsed": false
   },
   "outputs": [
    {
     "data": {
      "text/plain": [
       "<matplotlib.text.Text at 0x10ca17c10>"
      ]
     },
     "execution_count": 22,
     "metadata": {},
     "output_type": "execute_result"
    },
    {
     "data": {
      "image/png": "[encoded data removed]",
      "text/plain": [
       "<matplotlib.figure.Figure at 0x10c69cb90>"
      ]
     },
     "metadata": {},
     "output_type": "display_data"
    }
   ],
   "source": [
    "plt.plot(most_inspections.date, most_inspections['*'], 'ko', label='*')\n",
    "plt.plot(most_inspections.date, most_inspections['**'], 'ro', label='**')\n",
    "plt.plot(most_inspections.date, most_inspections['***'], 'go', label='***')\n",
    "plt.xlabel('Date')\n",
    "plt.ylabel('Number of violations')\n",
    "plt.legend(loc='upper center')\n",
    "plt.title(num_inspect.index[0])"
   ]
  },
  {
   "cell_type": "markdown",
   "metadata": {},
   "source": [
    "### Average number of violations for each restaurant (sorted by most violations or worst restaurants)"
   ]
  },
  {
   "cell_type": "markdown",
   "metadata": {},
   "source": [
    "The size column below gives the number of inspections for each restaurant."
   ]
  },
  {
   "cell_type": "code",
   "execution_count": 23,
   "metadata": {
    "collapsed": false,
    "scrolled": true
   },
   "outputs": [
    {
     "data": {
      "text/html": [
       "<div>\n",
       "<table border=\"1\" class=\"dataframe\">\n",
       "  <thead>\n",
       "    <tr>\n",
       "      <th></th>\n",
       "      <th colspan=\"2\" halign=\"left\">weighted_violations</th>\n",
       "      <th colspan=\"3\" halign=\"left\">*</th>\n",
       "      <th colspan=\"2\" halign=\"left\">***</th>\n",
       "      <th colspan=\"2\" halign=\"left\">**</th>\n",
       "    </tr>\n",
       "    <tr>\n",
       "      <th></th>\n",
       "      <th>mean</th>\n",
       "      <th>sum</th>\n",
       "      <th>size</th>\n",
       "      <th>mean</th>\n",
       "      <th>sum</th>\n",
       "      <th>mean</th>\n",
       "      <th>sum</th>\n",
       "      <th>mean</th>\n",
       "      <th>sum</th>\n",
       "    </tr>\n",
       "    <tr>\n",
       "      <th>restaurant_id</th>\n",
       "      <th></th>\n",
       "      <th></th>\n",
       "      <th></th>\n",
       "      <th></th>\n",
       "      <th></th>\n",
       "      <th></th>\n",
       "      <th></th>\n",
       "      <th></th>\n",
       "      <th></th>\n",
       "    </tr>\n",
       "  </thead>\n",
       "  <tbody>\n",
       "    <tr>\n",
       "      <th>N6OkRvox</th>\n",
       "      <td>50.000000</td>\n",
       "      <td>100</td>\n",
       "      <td>2</td>\n",
       "      <td>19.000000</td>\n",
       "      <td>38</td>\n",
       "      <td>5.000000</td>\n",
       "      <td>10</td>\n",
       "      <td>2.000000</td>\n",
       "      <td>4</td>\n",
       "    </tr>\n",
       "    <tr>\n",
       "      <th>ZBEnAqOY</th>\n",
       "      <td>39.000000</td>\n",
       "      <td>156</td>\n",
       "      <td>4</td>\n",
       "      <td>8.000000</td>\n",
       "      <td>32</td>\n",
       "      <td>5.000000</td>\n",
       "      <td>20</td>\n",
       "      <td>2.000000</td>\n",
       "      <td>8</td>\n",
       "    </tr>\n",
       "    <tr>\n",
       "      <th>VpoGe9Er</th>\n",
       "      <td>38.000000</td>\n",
       "      <td>38</td>\n",
       "      <td>1</td>\n",
       "      <td>7.000000</td>\n",
       "      <td>7</td>\n",
       "      <td>5.000000</td>\n",
       "      <td>5</td>\n",
       "      <td>2.000000</td>\n",
       "      <td>2</td>\n",
       "    </tr>\n",
       "    <tr>\n",
       "      <th>NbE1xaOJ</th>\n",
       "      <td>28.153846</td>\n",
       "      <td>732</td>\n",
       "      <td>26</td>\n",
       "      <td>11.461538</td>\n",
       "      <td>298</td>\n",
       "      <td>2.807692</td>\n",
       "      <td>73</td>\n",
       "      <td>0.884615</td>\n",
       "      <td>23</td>\n",
       "    </tr>\n",
       "    <tr>\n",
       "      <th>WwOapwoB</th>\n",
       "      <td>28.000000</td>\n",
       "      <td>28</td>\n",
       "      <td>1</td>\n",
       "      <td>18.000000</td>\n",
       "      <td>18</td>\n",
       "      <td>2.000000</td>\n",
       "      <td>2</td>\n",
       "      <td>0.000000</td>\n",
       "      <td>0</td>\n",
       "    </tr>\n",
       "    <tr>\n",
       "      <th>8x3zj93k</th>\n",
       "      <td>28.000000</td>\n",
       "      <td>308</td>\n",
       "      <td>11</td>\n",
       "      <td>7.181818</td>\n",
       "      <td>79</td>\n",
       "      <td>3.727273</td>\n",
       "      <td>41</td>\n",
       "      <td>0.727273</td>\n",
       "      <td>8</td>\n",
       "    </tr>\n",
       "    <tr>\n",
       "      <th>N6OkxvEx</th>\n",
       "      <td>28.000000</td>\n",
       "      <td>84</td>\n",
       "      <td>3</td>\n",
       "      <td>7.666667</td>\n",
       "      <td>23</td>\n",
       "      <td>3.666667</td>\n",
       "      <td>11</td>\n",
       "      <td>0.666667</td>\n",
       "      <td>2</td>\n",
       "    </tr>\n",
       "    <tr>\n",
       "      <th>xWoYRrOK</th>\n",
       "      <td>27.272727</td>\n",
       "      <td>300</td>\n",
       "      <td>11</td>\n",
       "      <td>7.090909</td>\n",
       "      <td>78</td>\n",
       "      <td>3.818182</td>\n",
       "      <td>42</td>\n",
       "      <td>0.363636</td>\n",
       "      <td>4</td>\n",
       "    </tr>\n",
       "    <tr>\n",
       "      <th>B1oX9NOV</th>\n",
       "      <td>27.222222</td>\n",
       "      <td>245</td>\n",
       "      <td>9</td>\n",
       "      <td>7.555556</td>\n",
       "      <td>68</td>\n",
       "      <td>3.666667</td>\n",
       "      <td>33</td>\n",
       "      <td>0.444444</td>\n",
       "      <td>4</td>\n",
       "    </tr>\n",
       "    <tr>\n",
       "      <th>m0oWY1EG</th>\n",
       "      <td>26.833333</td>\n",
       "      <td>322</td>\n",
       "      <td>12</td>\n",
       "      <td>8.833333</td>\n",
       "      <td>106</td>\n",
       "      <td>3.000000</td>\n",
       "      <td>36</td>\n",
       "      <td>1.000000</td>\n",
       "      <td>12</td>\n",
       "    </tr>\n",
       "  </tbody>\n",
       "</table>\n",
       "</div>"
      ],
      "text/plain": [
       "              weighted_violations         *                       ***      \\\n",
       "                             mean  sum size       mean  sum      mean sum   \n",
       "restaurant_id                                                               \n",
       "N6OkRvox                50.000000  100    2  19.000000   38  5.000000  10   \n",
       "ZBEnAqOY                39.000000  156    4   8.000000   32  5.000000  20   \n",
       "VpoGe9Er                38.000000   38    1   7.000000    7  5.000000   5   \n",
       "NbE1xaOJ                28.153846  732   26  11.461538  298  2.807692  73   \n",
       "WwOapwoB                28.000000   28    1  18.000000   18  2.000000   2   \n",
       "8x3zj93k                28.000000  308   11   7.181818   79  3.727273  41   \n",
       "N6OkxvEx                28.000000   84    3   7.666667   23  3.666667  11   \n",
       "xWoYRrOK                27.272727  300   11   7.090909   78  3.818182  42   \n",
       "B1oX9NOV                27.222222  245    9   7.555556   68  3.666667  33   \n",
       "m0oWY1EG                26.833333  322   12   8.833333  106  3.000000  36   \n",
       "\n",
       "                     **      \n",
       "                   mean sum  \n",
       "restaurant_id                \n",
       "N6OkRvox       2.000000   4  \n",
       "ZBEnAqOY       2.000000   8  \n",
       "VpoGe9Er       2.000000   2  \n",
       "NbE1xaOJ       0.884615  23  \n",
       "WwOapwoB       0.000000   0  \n",
       "8x3zj93k       0.727273   8  \n",
       "N6OkxvEx       0.666667   2  \n",
       "xWoYRrOK       0.363636   4  \n",
       "B1oX9NOV       0.444444   4  \n",
       "m0oWY1EG       1.000000  12  "
      ]
     },
     "execution_count": 23,
     "metadata": {},
     "output_type": "execute_result"
    }
   ],
   "source": [
    "df['weighted_violations'] = 1 * df['*'] + 3 * df['**'] + 5 * df['***']\n",
    "avg_violations = df.groupby('restaurant_id').agg({'*': [np.size, np.mean, np.sum], '**': [np.mean, np.sum], '***': [np.mean, np.sum], 'weighted_violations': [np.mean, np.sum]})\n",
    "avg_violations.sort_values([('weighted_violations', 'mean')], ascending=False).head(10)"
   ]
  },
  {
   "cell_type": "markdown",
   "metadata": {},
   "source": [
    "Do the number of violations depend on the size of the restaurant? If so would need to take this into account."
   ]
  },
  {
   "cell_type": "markdown",
   "metadata": {},
   "source": [
    "### Average violations model"
   ]
  },
  {
   "cell_type": "code",
   "execution_count": 24,
   "metadata": {
    "collapsed": false,
    "scrolled": true
   },
   "outputs": [
    {
     "data": {
      "text/html": [
       "<div>\n",
       "<table border=\"1\" class=\"dataframe\">\n",
       "  <thead>\n",
       "    <tr style=\"text-align: right;\">\n",
       "      <th></th>\n",
       "      <th>id</th>\n",
       "      <th>date</th>\n",
       "      <th>restaurant_id</th>\n",
       "      <th>*</th>\n",
       "      <th>**</th>\n",
       "      <th>***</th>\n",
       "    </tr>\n",
       "  </thead>\n",
       "  <tbody>\n",
       "    <tr>\n",
       "      <th>0</th>\n",
       "      <td>14916</td>\n",
       "      <td>2014-12-17</td>\n",
       "      <td>nkOvZOBW</td>\n",
       "      <td>0</td>\n",
       "      <td>0</td>\n",
       "      <td>0</td>\n",
       "    </tr>\n",
       "    <tr>\n",
       "      <th>1</th>\n",
       "      <td>29767</td>\n",
       "      <td>2013-12-30</td>\n",
       "      <td>WwOaAnOB</td>\n",
       "      <td>0</td>\n",
       "      <td>0</td>\n",
       "      <td>0</td>\n",
       "    </tr>\n",
       "    <tr>\n",
       "      <th>2</th>\n",
       "      <td>29338</td>\n",
       "      <td>2011-04-08</td>\n",
       "      <td>we39kvOk</td>\n",
       "      <td>0</td>\n",
       "      <td>0</td>\n",
       "      <td>0</td>\n",
       "    </tr>\n",
       "    <tr>\n",
       "      <th>3</th>\n",
       "      <td>7219</td>\n",
       "      <td>2013-12-30</td>\n",
       "      <td>dj3d5Xo9</td>\n",
       "      <td>0</td>\n",
       "      <td>0</td>\n",
       "      <td>0</td>\n",
       "    </tr>\n",
       "    <tr>\n",
       "      <th>4</th>\n",
       "      <td>20979</td>\n",
       "      <td>2008-03-31</td>\n",
       "      <td>XJ3rBW3R</td>\n",
       "      <td>0</td>\n",
       "      <td>0</td>\n",
       "      <td>0</td>\n",
       "    </tr>\n",
       "  </tbody>\n",
       "</table>\n",
       "</div>"
      ],
      "text/plain": [
       "      id        date restaurant_id  *  **  ***\n",
       "0  14916  2014-12-17      nkOvZOBW  0   0    0\n",
       "1  29767  2013-12-30      WwOaAnOB  0   0    0\n",
       "2  29338  2011-04-08      we39kvOk  0   0    0\n",
       "3   7219  2013-12-30      dj3d5Xo9  0   0    0\n",
       "4  20979  2008-03-31      XJ3rBW3R  0   0    0"
      ]
     },
     "execution_count": 24,
     "metadata": {},
     "output_type": "execute_result"
    }
   ],
   "source": [
    "sb = pd.read_csv('SubmissionFormat.csv')\n",
    "sb.head()"
   ]
  },
  {
   "cell_type": "code",
   "execution_count": 25,
   "metadata": {
    "collapsed": false
   },
   "outputs": [
    {
     "data": {
      "text/html": [
       "<div>\n",
       "<table border=\"1\" class=\"dataframe\">\n",
       "  <thead>\n",
       "    <tr style=\"text-align: right;\">\n",
       "      <th></th>\n",
       "      <th>id</th>\n",
       "      <th>date</th>\n",
       "      <th>restaurant_id</th>\n",
       "      <th>*</th>\n",
       "      <th>**</th>\n",
       "      <th>***</th>\n",
       "    </tr>\n",
       "  </thead>\n",
       "  <tbody>\n",
       "    <tr>\n",
       "      <th>0</th>\n",
       "      <td>14916</td>\n",
       "      <td>2014-12-17</td>\n",
       "      <td>nkOvZOBW</td>\n",
       "      <td>4.466667</td>\n",
       "      <td>0.133333</td>\n",
       "      <td>0.600000</td>\n",
       "    </tr>\n",
       "    <tr>\n",
       "      <th>1</th>\n",
       "      <td>29767</td>\n",
       "      <td>2013-12-30</td>\n",
       "      <td>WwOaAnOB</td>\n",
       "      <td>3.764706</td>\n",
       "      <td>0.117647</td>\n",
       "      <td>1.000000</td>\n",
       "    </tr>\n",
       "    <tr>\n",
       "      <th>2</th>\n",
       "      <td>29338</td>\n",
       "      <td>2011-04-08</td>\n",
       "      <td>we39kvOk</td>\n",
       "      <td>3.666667</td>\n",
       "      <td>0.166667</td>\n",
       "      <td>1.083333</td>\n",
       "    </tr>\n",
       "    <tr>\n",
       "      <th>3</th>\n",
       "      <td>7219</td>\n",
       "      <td>2013-12-30</td>\n",
       "      <td>dj3d5Xo9</td>\n",
       "      <td>2.095238</td>\n",
       "      <td>0.285714</td>\n",
       "      <td>0.238095</td>\n",
       "    </tr>\n",
       "    <tr>\n",
       "      <th>4</th>\n",
       "      <td>20979</td>\n",
       "      <td>2008-03-31</td>\n",
       "      <td>XJ3rBW3R</td>\n",
       "      <td>4.818182</td>\n",
       "      <td>1.000000</td>\n",
       "      <td>1.363636</td>\n",
       "    </tr>\n",
       "  </tbody>\n",
       "</table>\n",
       "</div>"
      ],
      "text/plain": [
       "      id        date restaurant_id         *        **       ***\n",
       "0  14916  2014-12-17      nkOvZOBW  4.466667  0.133333  0.600000\n",
       "1  29767  2013-12-30      WwOaAnOB  3.764706  0.117647  1.000000\n",
       "2  29338  2011-04-08      we39kvOk  3.666667  0.166667  1.083333\n",
       "3   7219  2013-12-30      dj3d5Xo9  2.095238  0.285714  0.238095\n",
       "4  20979  2008-03-31      XJ3rBW3R  4.818182  1.000000  1.363636"
      ]
     },
     "execution_count": 25,
     "metadata": {},
     "output_type": "execute_result"
    }
   ],
   "source": [
    "sb_avg_violations = pd.merge(sb, avg_violations, left_on='restaurant_id', right_index=True, how='left').ix[:, [0, 1, 2, 9, 13, 11]]\n",
    "sb_avg_violations.columns = ['id', 'date', 'restaurant_id', '*', '**', '***']\n",
    "sb_avg_violations.head()"
   ]
  },
  {
   "cell_type": "markdown",
   "metadata": {},
   "source": [
    "There are a few restaurants in the submission file which are not in the training data:"
   ]
  },
  {
   "cell_type": "code",
   "execution_count": 26,
   "metadata": {
    "collapsed": false
   },
   "outputs": [
    {
     "data": {
      "text/html": [
       "<div>\n",
       "<table border=\"1\" class=\"dataframe\">\n",
       "  <thead>\n",
       "    <tr style=\"text-align: right;\">\n",
       "      <th></th>\n",
       "      <th>id</th>\n",
       "      <th>date</th>\n",
       "      <th>restaurant_id</th>\n",
       "      <th>*</th>\n",
       "      <th>**</th>\n",
       "      <th>***</th>\n",
       "    </tr>\n",
       "  </thead>\n",
       "  <tbody>\n",
       "    <tr>\n",
       "      <th>27</th>\n",
       "      <td>21573</td>\n",
       "      <td>2014-06-27</td>\n",
       "      <td>KAoKJK3g</td>\n",
       "      <td>NaN</td>\n",
       "      <td>NaN</td>\n",
       "      <td>NaN</td>\n",
       "    </tr>\n",
       "    <tr>\n",
       "      <th>390</th>\n",
       "      <td>13795</td>\n",
       "      <td>2012-12-30</td>\n",
       "      <td>v5oJ5r3B</td>\n",
       "      <td>NaN</td>\n",
       "      <td>NaN</td>\n",
       "      <td>NaN</td>\n",
       "    </tr>\n",
       "    <tr>\n",
       "      <th>468</th>\n",
       "      <td>4154</td>\n",
       "      <td>2012-12-30</td>\n",
       "      <td>Pk3wAqOd</td>\n",
       "      <td>NaN</td>\n",
       "      <td>NaN</td>\n",
       "      <td>NaN</td>\n",
       "    </tr>\n",
       "    <tr>\n",
       "      <th>1000</th>\n",
       "      <td>24260</td>\n",
       "      <td>2012-12-30</td>\n",
       "      <td>ZBEndKoY</td>\n",
       "      <td>NaN</td>\n",
       "      <td>NaN</td>\n",
       "      <td>NaN</td>\n",
       "    </tr>\n",
       "    <tr>\n",
       "      <th>1160</th>\n",
       "      <td>20517</td>\n",
       "      <td>2012-12-30</td>\n",
       "      <td>8x3zvR3k</td>\n",
       "      <td>NaN</td>\n",
       "      <td>NaN</td>\n",
       "      <td>NaN</td>\n",
       "    </tr>\n",
       "    <tr>\n",
       "      <th>1186</th>\n",
       "      <td>13347</td>\n",
       "      <td>2012-12-30</td>\n",
       "      <td>7RO5MrOq</td>\n",
       "      <td>NaN</td>\n",
       "      <td>NaN</td>\n",
       "      <td>NaN</td>\n",
       "    </tr>\n",
       "    <tr>\n",
       "      <th>1291</th>\n",
       "      <td>30607</td>\n",
       "      <td>2014-09-26</td>\n",
       "      <td>NbE17moJ</td>\n",
       "      <td>NaN</td>\n",
       "      <td>NaN</td>\n",
       "      <td>NaN</td>\n",
       "    </tr>\n",
       "    <tr>\n",
       "      <th>1579</th>\n",
       "      <td>18020</td>\n",
       "      <td>2010-02-08</td>\n",
       "      <td>1JEbg73R</td>\n",
       "      <td>NaN</td>\n",
       "      <td>NaN</td>\n",
       "      <td>NaN</td>\n",
       "    </tr>\n",
       "    <tr>\n",
       "      <th>2125</th>\n",
       "      <td>23872</td>\n",
       "      <td>2012-12-30</td>\n",
       "      <td>JGoNX6EL</td>\n",
       "      <td>NaN</td>\n",
       "      <td>NaN</td>\n",
       "      <td>NaN</td>\n",
       "    </tr>\n",
       "    <tr>\n",
       "      <th>2506</th>\n",
       "      <td>8806</td>\n",
       "      <td>2012-12-30</td>\n",
       "      <td>njoZZBor</td>\n",
       "      <td>NaN</td>\n",
       "      <td>NaN</td>\n",
       "      <td>NaN</td>\n",
       "    </tr>\n",
       "    <tr>\n",
       "      <th>3434</th>\n",
       "      <td>29423</td>\n",
       "      <td>2012-12-30</td>\n",
       "      <td>8KoADQ36</td>\n",
       "      <td>NaN</td>\n",
       "      <td>NaN</td>\n",
       "      <td>NaN</td>\n",
       "    </tr>\n",
       "    <tr>\n",
       "      <th>3634</th>\n",
       "      <td>26847</td>\n",
       "      <td>2012-12-30</td>\n",
       "      <td>6Wo2Vyo9</td>\n",
       "      <td>NaN</td>\n",
       "      <td>NaN</td>\n",
       "      <td>NaN</td>\n",
       "    </tr>\n",
       "    <tr>\n",
       "      <th>4507</th>\n",
       "      <td>24575</td>\n",
       "      <td>2012-12-30</td>\n",
       "      <td>lnOR4q3N</td>\n",
       "      <td>NaN</td>\n",
       "      <td>NaN</td>\n",
       "      <td>NaN</td>\n",
       "    </tr>\n",
       "    <tr>\n",
       "      <th>4960</th>\n",
       "      <td>10817</td>\n",
       "      <td>2012-12-30</td>\n",
       "      <td>0j3LgvEr</td>\n",
       "      <td>NaN</td>\n",
       "      <td>NaN</td>\n",
       "      <td>NaN</td>\n",
       "    </tr>\n",
       "    <tr>\n",
       "      <th>5088</th>\n",
       "      <td>20777</td>\n",
       "      <td>2008-02-28</td>\n",
       "      <td>m0oWkQoG</td>\n",
       "      <td>NaN</td>\n",
       "      <td>NaN</td>\n",
       "      <td>NaN</td>\n",
       "    </tr>\n",
       "    <tr>\n",
       "      <th>5767</th>\n",
       "      <td>22846</td>\n",
       "      <td>2012-12-30</td>\n",
       "      <td>XJ3rGJoR</td>\n",
       "      <td>NaN</td>\n",
       "      <td>NaN</td>\n",
       "      <td>NaN</td>\n",
       "    </tr>\n",
       "    <tr>\n",
       "      <th>6167</th>\n",
       "      <td>15294</td>\n",
       "      <td>2008-05-12</td>\n",
       "      <td>v5oJ5r3B</td>\n",
       "      <td>NaN</td>\n",
       "      <td>NaN</td>\n",
       "      <td>NaN</td>\n",
       "    </tr>\n",
       "    <tr>\n",
       "      <th>6595</th>\n",
       "      <td>25955</td>\n",
       "      <td>2014-10-10</td>\n",
       "      <td>NbE17moJ</td>\n",
       "      <td>NaN</td>\n",
       "      <td>NaN</td>\n",
       "      <td>NaN</td>\n",
       "    </tr>\n",
       "  </tbody>\n",
       "</table>\n",
       "</div>"
      ],
      "text/plain": [
       "         id        date restaurant_id   *  **  ***\n",
       "27    21573  2014-06-27      KAoKJK3g NaN NaN  NaN\n",
       "390   13795  2012-12-30      v5oJ5r3B NaN NaN  NaN\n",
       "468    4154  2012-12-30      Pk3wAqOd NaN NaN  NaN\n",
       "1000  24260  2012-12-30      ZBEndKoY NaN NaN  NaN\n",
       "1160  20517  2012-12-30      8x3zvR3k NaN NaN  NaN\n",
       "1186  13347  2012-12-30      7RO5MrOq NaN NaN  NaN\n",
       "1291  30607  2014-09-26      NbE17moJ NaN NaN  NaN\n",
       "1579  18020  2010-02-08      1JEbg73R NaN NaN  NaN\n",
       "2125  23872  2012-12-30      JGoNX6EL NaN NaN  NaN\n",
       "2506   8806  2012-12-30      njoZZBor NaN NaN  NaN\n",
       "3434  29423  2012-12-30      8KoADQ36 NaN NaN  NaN\n",
       "3634  26847  2012-12-30      6Wo2Vyo9 NaN NaN  NaN\n",
       "4507  24575  2012-12-30      lnOR4q3N NaN NaN  NaN\n",
       "4960  10817  2012-12-30      0j3LgvEr NaN NaN  NaN\n",
       "5088  20777  2008-02-28      m0oWkQoG NaN NaN  NaN\n",
       "5767  22846  2012-12-30      XJ3rGJoR NaN NaN  NaN\n",
       "6167  15294  2008-05-12      v5oJ5r3B NaN NaN  NaN\n",
       "6595  25955  2014-10-10      NbE17moJ NaN NaN  NaN"
      ]
     },
     "execution_count": 26,
     "metadata": {},
     "output_type": "execute_result"
    }
   ],
   "source": [
    "sb_avg_violations[sb_avg_violations['*'].isnull()]"
   ]
  },
  {
   "cell_type": "markdown",
   "metadata": {},
   "source": [
    "Use the zero model predictions for these cases:"
   ]
  },
  {
   "cell_type": "code",
   "execution_count": 27,
   "metadata": {
    "collapsed": false
   },
   "outputs": [],
   "source": [
    "sb_avg_violations['*'].fillna(3, inplace=True)\n",
    "sb_avg_violations['**'].fillna(0, inplace=True)\n",
    "sb_avg_violations['***'].fillna(0, inplace=True)\n",
    "sb_avg_violations[['*', '**', '***']] = sb_avg_violations[['*', '**', '***']].astype(int)"
   ]
  },
  {
   "cell_type": "code",
   "execution_count": 28,
   "metadata": {
    "collapsed": false
   },
   "outputs": [
    {
     "name": "stdout",
     "output_type": "stream",
     "text": [
      "<class 'pandas.core.frame.DataFrame'>\n",
      "RangeIndex: 6772 entries, 0 to 6771\n",
      "Data columns (total 6 columns):\n",
      "id               6772 non-null int64\n",
      "date             6772 non-null object\n",
      "restaurant_id    6772 non-null object\n",
      "*                6772 non-null int64\n",
      "**               6772 non-null int64\n",
      "***              6772 non-null int64\n",
      "dtypes: int64(4), object(2)\n",
      "memory usage: 317.5+ KB\n"
     ]
    }
   ],
   "source": [
    "sb_avg_violations.info()"
   ]
  },
  {
   "cell_type": "code",
   "execution_count": 29,
   "metadata": {
    "collapsed": false
   },
   "outputs": [
    {
     "data": {
      "text/html": [
       "<div>\n",
       "<table border=\"1\" class=\"dataframe\">\n",
       "  <thead>\n",
       "    <tr style=\"text-align: right;\">\n",
       "      <th></th>\n",
       "      <th>id</th>\n",
       "      <th>date</th>\n",
       "      <th>restaurant_id</th>\n",
       "      <th>*</th>\n",
       "      <th>**</th>\n",
       "      <th>***</th>\n",
       "    </tr>\n",
       "  </thead>\n",
       "  <tbody>\n",
       "    <tr>\n",
       "      <th>0</th>\n",
       "      <td>14916</td>\n",
       "      <td>2014-12-17</td>\n",
       "      <td>nkOvZOBW</td>\n",
       "      <td>4</td>\n",
       "      <td>0</td>\n",
       "      <td>0</td>\n",
       "    </tr>\n",
       "    <tr>\n",
       "      <th>1</th>\n",
       "      <td>29767</td>\n",
       "      <td>2013-12-30</td>\n",
       "      <td>WwOaAnOB</td>\n",
       "      <td>3</td>\n",
       "      <td>0</td>\n",
       "      <td>1</td>\n",
       "    </tr>\n",
       "    <tr>\n",
       "      <th>2</th>\n",
       "      <td>29338</td>\n",
       "      <td>2011-04-08</td>\n",
       "      <td>we39kvOk</td>\n",
       "      <td>3</td>\n",
       "      <td>0</td>\n",
       "      <td>1</td>\n",
       "    </tr>\n",
       "    <tr>\n",
       "      <th>3</th>\n",
       "      <td>7219</td>\n",
       "      <td>2013-12-30</td>\n",
       "      <td>dj3d5Xo9</td>\n",
       "      <td>2</td>\n",
       "      <td>0</td>\n",
       "      <td>0</td>\n",
       "    </tr>\n",
       "    <tr>\n",
       "      <th>4</th>\n",
       "      <td>20979</td>\n",
       "      <td>2008-03-31</td>\n",
       "      <td>XJ3rBW3R</td>\n",
       "      <td>4</td>\n",
       "      <td>1</td>\n",
       "      <td>1</td>\n",
       "    </tr>\n",
       "  </tbody>\n",
       "</table>\n",
       "</div>"
      ],
      "text/plain": [
       "      id        date restaurant_id  *  **  ***\n",
       "0  14916  2014-12-17      nkOvZOBW  4   0    0\n",
       "1  29767  2013-12-30      WwOaAnOB  3   0    1\n",
       "2  29338  2011-04-08      we39kvOk  3   0    1\n",
       "3   7219  2013-12-30      dj3d5Xo9  2   0    0\n",
       "4  20979  2008-03-31      XJ3rBW3R  4   1    1"
      ]
     },
     "execution_count": 29,
     "metadata": {},
     "output_type": "execute_result"
    }
   ],
   "source": [
    "sb_avg_violations.to_csv('avg_violations_model.csv', index=False, header=True)\n",
    "sb_avg_violations.head()"
   ]
  },
  {
   "cell_type": "markdown",
   "metadata": {},
   "source": [
    "### How bad are the worst violators?"
   ]
  },
  {
   "cell_type": "code",
   "execution_count": 30,
   "metadata": {
    "collapsed": false
   },
   "outputs": [
    {
     "data": {
      "text/plain": [
       "<matplotlib.text.Text at 0x10c67ae10>"
      ]
     },
     "execution_count": 30,
     "metadata": {},
     "output_type": "execute_result"
    },
    {
     "data": {
      "image/png": "[encoded data removed]",
      "text/plain": [
       "<matplotlib.figure.Figure at 0x10cbf2a50>"
      ]
     },
     "metadata": {},
     "output_type": "display_data"
    }
   ],
   "source": [
    "fig, ax = plt.subplots(1, 1, figsize=(14, 4))\n",
    "worst100 = avg_violations.sort_values([('weighted_violations', 'mean')], ascending=False).head(100)\n",
    "plt.bar(range(100), worst100[('weighted_violations', 'mean')], width=1)\n",
    "plt.xlabel('Index')\n",
    "plt.ylabel('Average weighted violations')"
   ]
  },
  {
   "cell_type": "markdown",
   "metadata": {},
   "source": [
    "Below are the restaurants with the least weighted_violations. Note that many have few inspections."
   ]
  },
  {
   "cell_type": "code",
   "execution_count": 31,
   "metadata": {
    "collapsed": false
   },
   "outputs": [
    {
     "data": {
      "text/html": [
       "<div>\n",
       "<table border=\"1\" class=\"dataframe\">\n",
       "  <thead>\n",
       "    <tr>\n",
       "      <th></th>\n",
       "      <th colspan=\"2\" halign=\"left\">weighted_violations</th>\n",
       "      <th colspan=\"3\" halign=\"left\">*</th>\n",
       "      <th colspan=\"2\" halign=\"left\">***</th>\n",
       "      <th colspan=\"2\" halign=\"left\">**</th>\n",
       "    </tr>\n",
       "    <tr>\n",
       "      <th></th>\n",
       "      <th>mean</th>\n",
       "      <th>sum</th>\n",
       "      <th>size</th>\n",
       "      <th>mean</th>\n",
       "      <th>sum</th>\n",
       "      <th>mean</th>\n",
       "      <th>sum</th>\n",
       "      <th>mean</th>\n",
       "      <th>sum</th>\n",
       "    </tr>\n",
       "    <tr>\n",
       "      <th>restaurant_id</th>\n",
       "      <th></th>\n",
       "      <th></th>\n",
       "      <th></th>\n",
       "      <th></th>\n",
       "      <th></th>\n",
       "      <th></th>\n",
       "      <th></th>\n",
       "      <th></th>\n",
       "      <th></th>\n",
       "    </tr>\n",
       "  </thead>\n",
       "  <tbody>\n",
       "    <tr>\n",
       "      <th>B1oXYqOV</th>\n",
       "      <td>0.0</td>\n",
       "      <td>0</td>\n",
       "      <td>1</td>\n",
       "      <td>0.0</td>\n",
       "      <td>0</td>\n",
       "      <td>0.0</td>\n",
       "      <td>0</td>\n",
       "      <td>0.0</td>\n",
       "      <td>0</td>\n",
       "    </tr>\n",
       "    <tr>\n",
       "      <th>we39RZok</th>\n",
       "      <td>0.0</td>\n",
       "      <td>0</td>\n",
       "      <td>1</td>\n",
       "      <td>0.0</td>\n",
       "      <td>0</td>\n",
       "      <td>0.0</td>\n",
       "      <td>0</td>\n",
       "      <td>0.0</td>\n",
       "      <td>0</td>\n",
       "    </tr>\n",
       "    <tr>\n",
       "      <th>1JEbYwOR</th>\n",
       "      <td>0.0</td>\n",
       "      <td>0</td>\n",
       "      <td>1</td>\n",
       "      <td>0.0</td>\n",
       "      <td>0</td>\n",
       "      <td>0.0</td>\n",
       "      <td>0</td>\n",
       "      <td>0.0</td>\n",
       "      <td>0</td>\n",
       "    </tr>\n",
       "    <tr>\n",
       "      <th>B1oX5DOV</th>\n",
       "      <td>0.0</td>\n",
       "      <td>0</td>\n",
       "      <td>1</td>\n",
       "      <td>0.0</td>\n",
       "      <td>0</td>\n",
       "      <td>0.0</td>\n",
       "      <td>0</td>\n",
       "      <td>0.0</td>\n",
       "      <td>0</td>\n",
       "    </tr>\n",
       "    <tr>\n",
       "      <th>v5oJR8oB</th>\n",
       "      <td>0.0</td>\n",
       "      <td>0</td>\n",
       "      <td>1</td>\n",
       "      <td>0.0</td>\n",
       "      <td>0</td>\n",
       "      <td>0.0</td>\n",
       "      <td>0</td>\n",
       "      <td>0.0</td>\n",
       "      <td>0</td>\n",
       "    </tr>\n",
       "  </tbody>\n",
       "</table>\n",
       "</div>"
      ],
      "text/plain": [
       "              weighted_violations        *           ***       **    \n",
       "                             mean sum size mean sum mean sum mean sum\n",
       "restaurant_id                                                        \n",
       "B1oXYqOV                      0.0   0    1  0.0   0  0.0   0  0.0   0\n",
       "we39RZok                      0.0   0    1  0.0   0  0.0   0  0.0   0\n",
       "1JEbYwOR                      0.0   0    1  0.0   0  0.0   0  0.0   0\n",
       "B1oX5DOV                      0.0   0    1  0.0   0  0.0   0  0.0   0\n",
       "v5oJR8oB                      0.0   0    1  0.0   0  0.0   0  0.0   0"
      ]
     },
     "execution_count": 31,
     "metadata": {},
     "output_type": "execute_result"
    }
   ],
   "source": [
    "avg_violations.sort_values([('weighted_violations', 'mean')], ascending=False).tail()"
   ]
  },
  {
   "cell_type": "markdown",
   "metadata": {},
   "source": [
    "### Time period over which inspections have taken place by restaurant"
   ]
  },
  {
   "cell_type": "markdown",
   "metadata": {},
   "source": [
    "The column inspect_window is the number of years between the first and last inspection:"
   ]
  },
  {
   "cell_type": "code",
   "execution_count": 32,
   "metadata": {
    "collapsed": false
   },
   "outputs": [
    {
     "data": {
      "text/html": [
       "<div>\n",
       "<table border=\"1\" class=\"dataframe\">\n",
       "  <thead>\n",
       "    <tr>\n",
       "      <th></th>\n",
       "      <th>inspect_window</th>\n",
       "    </tr>\n",
       "    <tr>\n",
       "      <th></th>\n",
       "      <th></th>\n",
       "    </tr>\n",
       "  </thead>\n",
       "  <tbody>\n",
       "    <tr>\n",
       "      <th>count</th>\n",
       "      <td>1851.000000</td>\n",
       "    </tr>\n",
       "    <tr>\n",
       "      <th>mean</th>\n",
       "      <td>5.500560</td>\n",
       "    </tr>\n",
       "    <tr>\n",
       "      <th>std</th>\n",
       "      <td>2.050375</td>\n",
       "    </tr>\n",
       "    <tr>\n",
       "      <th>min</th>\n",
       "      <td>0.000000</td>\n",
       "    </tr>\n",
       "    <tr>\n",
       "      <th>25%</th>\n",
       "      <td>4.606529</td>\n",
       "    </tr>\n",
       "    <tr>\n",
       "      <th>50%</th>\n",
       "      <td>6.130174</td>\n",
       "    </tr>\n",
       "    <tr>\n",
       "      <th>75%</th>\n",
       "      <td>7.055586</td>\n",
       "    </tr>\n",
       "    <tr>\n",
       "      <th>max</th>\n",
       "      <td>8.421802</td>\n",
       "    </tr>\n",
       "  </tbody>\n",
       "</table>\n",
       "</div>"
      ],
      "text/plain": [
       "      inspect_window\n",
       "                    \n",
       "count    1851.000000\n",
       "mean        5.500560\n",
       "std         2.050375\n",
       "min         0.000000\n",
       "25%         4.606529\n",
       "50%         6.130174\n",
       "75%         7.055586\n",
       "max         8.421802"
      ]
     },
     "execution_count": 32,
     "metadata": {},
     "output_type": "execute_result"
    }
   ],
   "source": [
    "dt = df.groupby('restaurant_id').agg({'date': [np.min, np.max]})\n",
    "dt['inspect_window'] = (dt[('date', 'amax')] - dt[('date', 'amin')]) / np.timedelta64(1, 'Y')\n",
    "dt.describe()"
   ]
  },
  {
   "cell_type": "code",
   "execution_count": 33,
   "metadata": {
    "collapsed": false
   },
   "outputs": [
    {
     "data": {
      "text/plain": [
       "<matplotlib.text.Text at 0x10c64cb10>"
      ]
     },
     "execution_count": 33,
     "metadata": {},
     "output_type": "execute_result"
    },
    {
     "data": {
      "image/png": "[encoded data removed]",
      "text/plain": [
       "<matplotlib.figure.Figure at 0x107938d10>"
      ]
     },
     "metadata": {},
     "output_type": "display_data"
    }
   ],
   "source": [
    "plt.hist(dt[('inspect_window')], bins=30)\n",
    "plt.xlabel('Years')\n",
    "plt.ylabel('Number of restaurants')"
   ]
  },
  {
   "cell_type": "markdown",
   "metadata": {},
   "source": [
    "### How many times is a restaurant inspected in a year?"
   ]
  },
  {
   "cell_type": "code",
   "execution_count": 34,
   "metadata": {
    "collapsed": false
   },
   "outputs": [
    {
     "data": {
      "text/html": [
       "<div>\n",
       "<table border=\"1\" class=\"dataframe\">\n",
       "  <thead>\n",
       "    <tr style=\"text-align: right;\">\n",
       "      <th></th>\n",
       "      <th>inspect_window</th>\n",
       "      <th>number_of_inspections</th>\n",
       "    </tr>\n",
       "  </thead>\n",
       "  <tbody>\n",
       "    <tr>\n",
       "      <th>count</th>\n",
       "      <td>1851.000000</td>\n",
       "      <td>1851.000000</td>\n",
       "    </tr>\n",
       "    <tr>\n",
       "      <th>mean</th>\n",
       "      <td>5.500560</td>\n",
       "      <td>14.634252</td>\n",
       "    </tr>\n",
       "    <tr>\n",
       "      <th>std</th>\n",
       "      <td>2.050375</td>\n",
       "      <td>7.876801</td>\n",
       "    </tr>\n",
       "    <tr>\n",
       "      <th>min</th>\n",
       "      <td>0.000000</td>\n",
       "      <td>1.000000</td>\n",
       "    </tr>\n",
       "    <tr>\n",
       "      <th>25%</th>\n",
       "      <td>4.606529</td>\n",
       "      <td>9.000000</td>\n",
       "    </tr>\n",
       "    <tr>\n",
       "      <th>50%</th>\n",
       "      <td>6.130174</td>\n",
       "      <td>14.000000</td>\n",
       "    </tr>\n",
       "    <tr>\n",
       "      <th>75%</th>\n",
       "      <td>7.055586</td>\n",
       "      <td>20.000000</td>\n",
       "    </tr>\n",
       "    <tr>\n",
       "      <th>max</th>\n",
       "      <td>8.421802</td>\n",
       "      <td>45.000000</td>\n",
       "    </tr>\n",
       "  </tbody>\n",
       "</table>\n",
       "</div>"
      ],
      "text/plain": [
       "       inspect_window  number_of_inspections\n",
       "count     1851.000000            1851.000000\n",
       "mean         5.500560              14.634252\n",
       "std          2.050375               7.876801\n",
       "min          0.000000               1.000000\n",
       "25%          4.606529               9.000000\n",
       "50%          6.130174              14.000000\n",
       "75%          7.055586              20.000000\n",
       "max          8.421802              45.000000"
      ]
     },
     "execution_count": 34,
     "metadata": {},
     "output_type": "execute_result"
    }
   ],
   "source": [
    "dates_inspections = pd.merge(dt, pd.DataFrame(df.groupby('restaurant_id').size()), left_index=True, right_index=True, how='inner')\n",
    "dates_inspections.columns = ['min_date', 'max_date', 'inspect_window', 'number_of_inspections']\n",
    "dates_inspections.describe()"
   ]
  },
  {
   "cell_type": "markdown",
   "metadata": {},
   "source": [
    "Next we filter out cases with only 1 inspection (to remove inf) and compute a rate column:"
   ]
  },
  {
   "cell_type": "code",
   "execution_count": 35,
   "metadata": {
    "collapsed": false
   },
   "outputs": [
    {
     "data": {
      "text/html": [
       "<div>\n",
       "<table border=\"1\" class=\"dataframe\">\n",
       "  <thead>\n",
       "    <tr style=\"text-align: right;\">\n",
       "      <th></th>\n",
       "      <th>inspect_window</th>\n",
       "      <th>number_of_inspections</th>\n",
       "      <th>inspection_rate</th>\n",
       "    </tr>\n",
       "  </thead>\n",
       "  <tbody>\n",
       "    <tr>\n",
       "      <th>count</th>\n",
       "      <td>1784.000000</td>\n",
       "      <td>1784.000000</td>\n",
       "      <td>1784.000000</td>\n",
       "    </tr>\n",
       "    <tr>\n",
       "      <th>mean</th>\n",
       "      <td>5.707140</td>\n",
       "      <td>15.146300</td>\n",
       "      <td>3.287859</td>\n",
       "    </tr>\n",
       "    <tr>\n",
       "      <th>std</th>\n",
       "      <td>1.783921</td>\n",
       "      <td>7.558292</td>\n",
       "      <td>11.462731</td>\n",
       "    </tr>\n",
       "    <tr>\n",
       "      <th>min</th>\n",
       "      <td>0.005476</td>\n",
       "      <td>2.000000</td>\n",
       "      <td>0.343758</td>\n",
       "    </tr>\n",
       "    <tr>\n",
       "      <th>25%</th>\n",
       "      <td>4.844042</td>\n",
       "      <td>9.000000</td>\n",
       "      <td>1.988432</td>\n",
       "    </tr>\n",
       "    <tr>\n",
       "      <th>50%</th>\n",
       "      <td>6.224632</td>\n",
       "      <td>15.000000</td>\n",
       "      <td>2.638288</td>\n",
       "    </tr>\n",
       "    <tr>\n",
       "      <th>75%</th>\n",
       "      <td>7.074752</td>\n",
       "      <td>20.000000</td>\n",
       "      <td>3.330985</td>\n",
       "    </tr>\n",
       "    <tr>\n",
       "      <th>max</th>\n",
       "      <td>8.421802</td>\n",
       "      <td>45.000000</td>\n",
       "      <td>365.242500</td>\n",
       "    </tr>\n",
       "  </tbody>\n",
       "</table>\n",
       "</div>"
      ],
      "text/plain": [
       "       inspect_window  number_of_inspections  inspection_rate\n",
       "count     1784.000000            1784.000000      1784.000000\n",
       "mean         5.707140              15.146300         3.287859\n",
       "std          1.783921               7.558292        11.462731\n",
       "min          0.005476               2.000000         0.343758\n",
       "25%          4.844042               9.000000         1.988432\n",
       "50%          6.224632              15.000000         2.638288\n",
       "75%          7.074752              20.000000         3.330985\n",
       "max          8.421802              45.000000       365.242500"
      ]
     },
     "execution_count": 35,
     "metadata": {},
     "output_type": "execute_result"
    }
   ],
   "source": [
    "dates_inspections = dates_inspections[dates_inspections['number_of_inspections'] > 1]\n",
    "dates_inspections['inspection_rate'] = dates_inspections['number_of_inspections'] / dates_inspections['inspect_window']\n",
    "dates_inspections.describe()"
   ]
  },
  {
   "cell_type": "code",
   "execution_count": 36,
   "metadata": {
    "collapsed": false
   },
   "outputs": [
    {
     "data": {
      "text/plain": [
       "<matplotlib.text.Text at 0x10cb37b50>"
      ]
     },
     "execution_count": 36,
     "metadata": {},
     "output_type": "execute_result"
    },
    {
     "data": {
      "image/png": "[encoded data removed]",
      "text/plain": [
       "<matplotlib.figure.Figure at 0x10c667f50>"
      ]
     },
     "metadata": {},
     "output_type": "display_data"
    }
   ],
   "source": [
    "plt.hist(dates_inspections['inspection_rate'], bins=20, range=(0, 20))\n",
    "plt.ylabel('Number of restaurants')\n",
    "plt.xlabel('Number of inspections per year')\n",
    "plt.ylabel('Number of restaurants')"
   ]
  }
 ],
 "metadata": {
  "kernelspec": {
   "display_name": "Python 2",
   "language": "python",
   "name": "python2"
  },
  "language_info": {
   "codemirror_mode": {
    "name": "ipython",
    "version": 2
   },
   "file_extension": ".py",
   "mimetype": "text/x-python",
   "name": "python",
   "nbconvert_exporter": "python",
   "pygments_lexer": "ipython2",
   "version": "2.7.5"
  }
 },
 "nbformat": 4,
 "nbformat_minor": 0
}
