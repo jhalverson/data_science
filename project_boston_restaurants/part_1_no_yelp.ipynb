{
 "cells": [
  {
   "cell_type": "markdown",
   "metadata": {},
   "source": [
    "# Jonathan Halverson\n",
    "# Keeping it Fresh: Predict Restaurant Inspections\n",
    "## Part 1: Health inspection violation data"
   ]
  },
  {
   "cell_type": "markdown",
   "metadata": {},
   "source": [
    "This notebook examines the health inspection violation data. We propose two simple models for benchmarking purposes. We do not work with the Yelp data in this notebook."
   ]
  },
  {
   "cell_type": "code",
   "execution_count": 1,
   "metadata": {
    "collapsed": true
   },
   "outputs": [],
   "source": [
    "import numpy as np\n",
    "import pandas as pd\n",
    "import matplotlib.pyplot as plt\n",
    "%matplotlib inline\n",
    "plt.style.use('halverson')"
   ]
  },
  {
   "cell_type": "code",
   "execution_count": 2,
   "metadata": {
    "collapsed": false
   },
   "outputs": [
    {
     "data": {
      "text/html": [
       "<div>\n",
       "<table border=\"1\" class=\"dataframe\">\n",
       "  <thead>\n",
       "    <tr style=\"text-align: right;\">\n",
       "      <th></th>\n",
       "      <th>id</th>\n",
       "      <th>date</th>\n",
       "      <th>restaurant_id</th>\n",
       "      <th>*</th>\n",
       "      <th>**</th>\n",
       "      <th>***</th>\n",
       "    </tr>\n",
       "  </thead>\n",
       "  <tbody>\n",
       "    <tr>\n",
       "      <th>0</th>\n",
       "      <td>589</td>\n",
       "      <td>2010-02-02</td>\n",
       "      <td>KAoKWjog</td>\n",
       "      <td>3</td>\n",
       "      <td>0</td>\n",
       "      <td>1</td>\n",
       "    </tr>\n",
       "    <tr>\n",
       "      <th>1</th>\n",
       "      <td>28589</td>\n",
       "      <td>2009-12-10</td>\n",
       "      <td>p038M4om</td>\n",
       "      <td>2</td>\n",
       "      <td>0</td>\n",
       "      <td>0</td>\n",
       "    </tr>\n",
       "    <tr>\n",
       "      <th>2</th>\n",
       "      <td>31170</td>\n",
       "      <td>2008-07-16</td>\n",
       "      <td>B1oXymOV</td>\n",
       "      <td>4</td>\n",
       "      <td>0</td>\n",
       "      <td>0</td>\n",
       "    </tr>\n",
       "    <tr>\n",
       "      <th>3</th>\n",
       "      <td>2600</td>\n",
       "      <td>2015-01-30</td>\n",
       "      <td>m0oWJl3G</td>\n",
       "      <td>1</td>\n",
       "      <td>0</td>\n",
       "      <td>3</td>\n",
       "    </tr>\n",
       "    <tr>\n",
       "      <th>4</th>\n",
       "      <td>1016</td>\n",
       "      <td>2012-03-19</td>\n",
       "      <td>rJoQwlEV</td>\n",
       "      <td>0</td>\n",
       "      <td>0</td>\n",
       "      <td>0</td>\n",
       "    </tr>\n",
       "  </tbody>\n",
       "</table>\n",
       "</div>"
      ],
      "text/plain": [
       "      id       date restaurant_id  *  **  ***\n",
       "0    589 2010-02-02      KAoKWjog  3   0    1\n",
       "1  28589 2009-12-10      p038M4om  2   0    0\n",
       "2  31170 2008-07-16      B1oXymOV  4   0    0\n",
       "3   2600 2015-01-30      m0oWJl3G  1   0    3\n",
       "4   1016 2012-03-19      rJoQwlEV  0   0    0"
      ]
     },
     "execution_count": 2,
     "metadata": {},
     "output_type": "execute_result"
    }
   ],
   "source": [
    "df = pd.read_csv('data/training_labels.txt', parse_dates=['date'])\n",
    "df.head()"
   ]
  },
  {
   "cell_type": "code",
   "execution_count": 3,
   "metadata": {
    "collapsed": false
   },
   "outputs": [
    {
     "name": "stdout",
     "output_type": "stream",
     "text": [
      "<class 'pandas.core.frame.DataFrame'>\n",
      "RangeIndex: 27088 entries, 0 to 27087\n",
      "Data columns (total 6 columns):\n",
      "id               27088 non-null int64\n",
      "date             27088 non-null datetime64[ns]\n",
      "restaurant_id    27088 non-null object\n",
      "*                27088 non-null int64\n",
      "**               27088 non-null int64\n",
      "***              27088 non-null int64\n",
      "dtypes: datetime64[ns](1), int64(4), object(1)\n",
      "memory usage: 1.2+ MB\n"
     ]
    }
   ],
   "source": [
    "df.info()"
   ]
  },
  {
   "cell_type": "markdown",
   "metadata": {},
   "source": [
    "### Remove duplicate inspection records"
   ]
  },
  {
   "cell_type": "markdown",
   "metadata": {},
   "source": [
    "There are a few thousand records where for a given restaurant the number of violations are the same with the inspection date differing by only a few days. Next we remove all such records when the spacing is less than 60 days:"
   ]
  },
  {
   "cell_type": "code",
   "execution_count": 4,
   "metadata": {
    "collapsed": false
   },
   "outputs": [],
   "source": [
    "from helper_methods import drop_duplicate_inspections\n",
    "df = df.sort_values(['restaurant_id', 'date'])\n",
    "df = drop_duplicate_inspections(df, threshold=60)"
   ]
  },
  {
   "cell_type": "code",
   "execution_count": 5,
   "metadata": {
    "collapsed": false
   },
   "outputs": [
    {
     "name": "stdout",
     "output_type": "stream",
     "text": [
      "<class 'pandas.core.frame.DataFrame'>\n",
      "Int64Index: 20288 entries, 1801 to 5854\n",
      "Data columns (total 6 columns):\n",
      "id               20288 non-null int64\n",
      "date             20288 non-null datetime64[ns]\n",
      "restaurant_id    20288 non-null object\n",
      "*                20288 non-null int64\n",
      "**               20288 non-null int64\n",
      "***              20288 non-null int64\n",
      "dtypes: datetime64[ns](1), int64(4), object(1)\n",
      "memory usage: 1.1+ MB\n"
     ]
    }
   ],
   "source": [
    "df.info()"
   ]
  },
  {
   "cell_type": "code",
   "execution_count": 6,
   "metadata": {
    "collapsed": false
   },
   "outputs": [
    {
     "data": {
      "text/html": [
       "<div>\n",
       "<table border=\"1\" class=\"dataframe\">\n",
       "  <thead>\n",
       "    <tr style=\"text-align: right;\">\n",
       "      <th></th>\n",
       "      <th>id</th>\n",
       "      <th>*</th>\n",
       "      <th>**</th>\n",
       "      <th>***</th>\n",
       "    </tr>\n",
       "  </thead>\n",
       "  <tbody>\n",
       "    <tr>\n",
       "      <th>count</th>\n",
       "      <td>20288.0000</td>\n",
       "      <td>20288.000</td>\n",
       "      <td>20288.0000</td>\n",
       "      <td>20288.0000</td>\n",
       "    </tr>\n",
       "    <tr>\n",
       "      <th>mean</th>\n",
       "      <td>16997.0692</td>\n",
       "      <td>3.719</td>\n",
       "      <td>0.3189</td>\n",
       "      <td>0.8357</td>\n",
       "    </tr>\n",
       "    <tr>\n",
       "      <th>std</th>\n",
       "      <td>9796.3724</td>\n",
       "      <td>4.223</td>\n",
       "      <td>0.6179</td>\n",
       "      <td>1.4667</td>\n",
       "    </tr>\n",
       "    <tr>\n",
       "      <th>min</th>\n",
       "      <td>1.0000</td>\n",
       "      <td>0.000</td>\n",
       "      <td>0.0000</td>\n",
       "      <td>0.0000</td>\n",
       "    </tr>\n",
       "    <tr>\n",
       "      <th>25%</th>\n",
       "      <td>8531.5000</td>\n",
       "      <td>0.000</td>\n",
       "      <td>0.0000</td>\n",
       "      <td>0.0000</td>\n",
       "    </tr>\n",
       "    <tr>\n",
       "      <th>50%</th>\n",
       "      <td>17007.5000</td>\n",
       "      <td>3.000</td>\n",
       "      <td>0.0000</td>\n",
       "      <td>0.0000</td>\n",
       "    </tr>\n",
       "    <tr>\n",
       "      <th>75%</th>\n",
       "      <td>25503.0000</td>\n",
       "      <td>6.000</td>\n",
       "      <td>1.0000</td>\n",
       "      <td>1.0000</td>\n",
       "    </tr>\n",
       "    <tr>\n",
       "      <th>max</th>\n",
       "      <td>33859.0000</td>\n",
       "      <td>49.000</td>\n",
       "      <td>7.0000</td>\n",
       "      <td>17.0000</td>\n",
       "    </tr>\n",
       "  </tbody>\n",
       "</table>\n",
       "</div>"
      ],
      "text/plain": [
       "               id          *          **         ***\n",
       "count  20288.0000  20288.000  20288.0000  20288.0000\n",
       "mean   16997.0692      3.719      0.3189      0.8357\n",
       "std     9796.3724      4.223      0.6179      1.4667\n",
       "min        1.0000      0.000      0.0000      0.0000\n",
       "25%     8531.5000      0.000      0.0000      0.0000\n",
       "50%    17007.5000      3.000      0.0000      0.0000\n",
       "75%    25503.0000      6.000      1.0000      1.0000\n",
       "max    33859.0000     49.000      7.0000     17.0000"
      ]
     },
     "execution_count": 6,
     "metadata": {},
     "output_type": "execute_result"
    }
   ],
   "source": [
    "df.describe().applymap(lambda x: round(x, 4))"
   ]
  },
  {
   "cell_type": "markdown",
   "metadata": {},
   "source": [
    "### Zero model"
   ]
  },
  {
   "cell_type": "markdown",
   "metadata": {},
   "source": [
    "Our first model is to simply predict the median number of violations across all inspections. This would be 3, 0, 0 for 1-star, 2-star, 3-star as seen in the 6th row in the table above. While this completely ignores the Yelp data it gives us a well-understood benchmark which we will surely beat."
   ]
  },
  {
   "cell_type": "code",
   "execution_count": 7,
   "metadata": {
    "collapsed": false
   },
   "outputs": [
    {
     "data": {
      "text/html": [
       "<div>\n",
       "<table border=\"1\" class=\"dataframe\">\n",
       "  <thead>\n",
       "    <tr style=\"text-align: right;\">\n",
       "      <th></th>\n",
       "      <th>id</th>\n",
       "      <th>date</th>\n",
       "      <th>restaurant_id</th>\n",
       "      <th>*</th>\n",
       "      <th>**</th>\n",
       "      <th>***</th>\n",
       "    </tr>\n",
       "  </thead>\n",
       "  <tbody>\n",
       "    <tr>\n",
       "      <th>0</th>\n",
       "      <td>14916</td>\n",
       "      <td>2014-12-17</td>\n",
       "      <td>nkOvZOBW</td>\n",
       "      <td>3</td>\n",
       "      <td>0</td>\n",
       "      <td>0</td>\n",
       "    </tr>\n",
       "    <tr>\n",
       "      <th>1</th>\n",
       "      <td>29767</td>\n",
       "      <td>2013-12-30</td>\n",
       "      <td>WwOaAnOB</td>\n",
       "      <td>3</td>\n",
       "      <td>0</td>\n",
       "      <td>0</td>\n",
       "    </tr>\n",
       "    <tr>\n",
       "      <th>2</th>\n",
       "      <td>29338</td>\n",
       "      <td>2011-04-08</td>\n",
       "      <td>we39kvOk</td>\n",
       "      <td>3</td>\n",
       "      <td>0</td>\n",
       "      <td>0</td>\n",
       "    </tr>\n",
       "    <tr>\n",
       "      <th>3</th>\n",
       "      <td>7219</td>\n",
       "      <td>2013-12-30</td>\n",
       "      <td>dj3d5Xo9</td>\n",
       "      <td>3</td>\n",
       "      <td>0</td>\n",
       "      <td>0</td>\n",
       "    </tr>\n",
       "    <tr>\n",
       "      <th>4</th>\n",
       "      <td>20979</td>\n",
       "      <td>2008-03-31</td>\n",
       "      <td>XJ3rBW3R</td>\n",
       "      <td>3</td>\n",
       "      <td>0</td>\n",
       "      <td>0</td>\n",
       "    </tr>\n",
       "  </tbody>\n",
       "</table>\n",
       "</div>"
      ],
      "text/plain": [
       "      id        date restaurant_id  *  **  ***\n",
       "0  14916  2014-12-17      nkOvZOBW  3   0    0\n",
       "1  29767  2013-12-30      WwOaAnOB  3   0    0\n",
       "2  29338  2011-04-08      we39kvOk  3   0    0\n",
       "3   7219  2013-12-30      dj3d5Xo9  3   0    0\n",
       "4  20979  2008-03-31      XJ3rBW3R  3   0    0"
      ]
     },
     "execution_count": 7,
     "metadata": {},
     "output_type": "execute_result"
    }
   ],
   "source": [
    "sb = pd.read_csv('submit/SubmissionFormat.csv')\n",
    "sb['*'] = 3\n",
    "sb.to_csv('zero_model.csv', index=False, header=True)\n",
    "sb.head()"
   ]
  },
  {
   "cell_type": "markdown",
   "metadata": {},
   "source": [
    "### Convert date to NumPy data type"
   ]
  },
  {
   "cell_type": "code",
   "execution_count": 8,
   "metadata": {
    "collapsed": true
   },
   "outputs": [],
   "source": [
    "# the next line is not needed because we chose to convert to datetime in read_csv() above\n",
    "#df['date'] = pd.to_datetime(df['date'], infer_datetime_format=True)"
   ]
  },
  {
   "cell_type": "markdown",
   "metadata": {},
   "source": [
    "### Check for unique values"
   ]
  },
  {
   "cell_type": "markdown",
   "metadata": {},
   "source": [
    "Let's look at the number of unique values per column:"
   ]
  },
  {
   "cell_type": "code",
   "execution_count": 9,
   "metadata": {
    "collapsed": false
   },
   "outputs": [
    {
     "name": "stdout",
     "output_type": "stream",
     "text": [
      "20288 20288 id\n",
      "20288 2058 date\n",
      "20288 1851 restaurant_id\n",
      "20288 44 *\n",
      "20288 8 **\n",
      "20288 18 ***\n"
     ]
    }
   ],
   "source": [
    "for column in df.columns:\n",
    "    print df.shape[0], df[column].unique().size, column"
   ]
  },
  {
   "cell_type": "markdown",
   "metadata": {},
   "source": [
    "We see that the id's are unique while the restaurant_id's suggest multiple inspections."
   ]
  },
  {
   "cell_type": "markdown",
   "metadata": {},
   "source": [
    "### Which days of the week are the inspections carried out on and how many per year?"
   ]
  },
  {
   "cell_type": "code",
   "execution_count": 10,
   "metadata": {
    "collapsed": false
   },
   "outputs": [
    {
     "data": {
      "text/plain": [
       "(-0.5, 6.5)"
      ]
     },
     "execution_count": 10,
     "metadata": {},
     "output_type": "execute_result"
    },
    {
     "data": {
      "image/png": "[encoded data removed]",
      "text/plain": [
       "<matplotlib.figure.Figure at 0x10782ba50>"
      ]
     },
     "metadata": {},
     "output_type": "display_data"
    }
   ],
   "source": [
    "counts, _ = np.histogram(df['date'].apply(lambda x: x.dayofweek), bins=7, range=(0, 7))\n",
    "fig, ax = plt.subplots(1, 1, figsize=(5, 4))\n",
    "plt.bar(range(7), counts, align='center')\n",
    "labels = ['Monday', 'Tuesday', 'Wednesday', 'Thursday', 'Friday', 'Saturday', 'Sunday']\n",
    "plt.xticks(range(7), labels, rotation=75)\n",
    "plt.ylabel('Number of inspections')\n",
    "plt.xlim(-0.5, 6.5)"
   ]
  },
  {
   "cell_type": "code",
   "execution_count": 11,
   "metadata": {
    "collapsed": false
   },
   "outputs": [
    {
     "data": {
      "text/plain": [
       "(-0.5, 9.5)"
      ]
     },
     "execution_count": 11,
     "metadata": {},
     "output_type": "execute_result"
    },
    {
     "data": {
      "image/png": "[encoded data removed]",
      "text/plain": [
       "<matplotlib.figure.Figure at 0x107ed6f50>"
      ]
     },
     "metadata": {},
     "output_type": "display_data"
    }
   ],
   "source": [
    "counts, _ = np.histogram(df['date'].apply(lambda x: x.year), bins=10, range=(2006, 2016))\n",
    "fig, ax = plt.subplots(1, 1, figsize=(5, 4))\n",
    "plt.bar(range(10), counts, align='center')\n",
    "labels = range(2006, 2017)\n",
    "plt.xticks(range(10), labels, rotation=75)\n",
    "plt.ylabel('Number of inspections')\n",
    "plt.xlim(-0.5, 9.5)"
   ]
  },
  {
   "cell_type": "markdown",
   "metadata": {},
   "source": [
    "Data for 2015 is not complete."
   ]
  },
  {
   "cell_type": "markdown",
   "metadata": {},
   "source": [
    "### Plot the violation data"
   ]
  },
  {
   "cell_type": "markdown",
   "metadata": {},
   "source": [
    "Visualize the violations by date and level:"
   ]
  },
  {
   "cell_type": "code",
   "execution_count": 12,
   "metadata": {
    "collapsed": false
   },
   "outputs": [
    {
     "data": {
      "image/png": "[encoded data removed]",
      "text/plain": [
       "<matplotlib.figure.Figure at 0x10835c250>"
      ]
     },
     "metadata": {},
     "output_type": "display_data"
    }
   ],
   "source": [
    "clr = ['k', 'g', 'r']\n",
    "fig, ax = plt.subplots(nrows=3, ncols=1, figsize=(8, 10))\n",
    "for i, stars in enumerate(['*', '**', '***']):\n",
    "    ax[i].plot(df.date, df[stars], '.', color=clr[i], label=stars, ms=5)\n",
    "    if (i == 2): ax[i].set_xlabel('Date')\n",
    "    ax[i].set_ylabel('Number of Violations')\n",
    "    ax[i].legend(loc='upper left')\n",
    "plt.tight_layout()"
   ]
  },
  {
   "cell_type": "markdown",
   "metadata": {},
   "source": [
    "The number of violations of each type is approximately uniform over time. There are many more one-star violations than the other two."
   ]
  },
  {
   "cell_type": "code",
   "execution_count": 13,
   "metadata": {
    "collapsed": false
   },
   "outputs": [
    {
     "data": {
      "image/png": "[encoded data removed]",
      "text/plain": [
       "<matplotlib.figure.Figure at 0x107ee45d0>"
      ]
     },
     "metadata": {},
     "output_type": "display_data"
    }
   ],
   "source": [
    "fig, ax = plt.subplots(nrows=1, ncols=3, figsize=(16, 4))\n",
    "for i, stars in enumerate(['*', '**', '***']):\n",
    "    ax[i].hist(df[stars].values, label=stars, color=clr[i], bins=15, width=1, range=(0, 15))\n",
    "    ax[i].set_xlabel('Number of violations')\n",
    "    if (i == 0): ax[i].set_ylabel('Count')\n",
    "    ax[i].legend(loc='upper right')\n",
    "    ax[i].set_ylim(0, 20000)\n",
    "plt.tight_layout()"
   ]
  },
  {
   "cell_type": "markdown",
   "metadata": {},
   "source": [
    "### How many times were each of the 1851 restaurants inspected?"
   ]
  },
  {
   "cell_type": "code",
   "execution_count": 14,
   "metadata": {
    "collapsed": false,
    "scrolled": false
   },
   "outputs": [
    {
     "data": {
      "text/html": [
       "<div>\n",
       "<table border=\"1\" class=\"dataframe\">\n",
       "  <thead>\n",
       "    <tr style=\"text-align: right;\">\n",
       "      <th></th>\n",
       "      <th>Number of inspections</th>\n",
       "    </tr>\n",
       "    <tr>\n",
       "      <th>restaurant_id</th>\n",
       "      <th></th>\n",
       "    </tr>\n",
       "  </thead>\n",
       "  <tbody>\n",
       "    <tr>\n",
       "      <th>1JEbamOR</th>\n",
       "      <td>34</td>\n",
       "    </tr>\n",
       "    <tr>\n",
       "      <th>Y1EmLmOw</th>\n",
       "      <td>30</td>\n",
       "    </tr>\n",
       "    <tr>\n",
       "      <th>KAoKz83g</th>\n",
       "      <td>27</td>\n",
       "    </tr>\n",
       "    <tr>\n",
       "      <th>dj3dX539</th>\n",
       "      <td>27</td>\n",
       "    </tr>\n",
       "    <tr>\n",
       "      <th>Pk3w4wod</th>\n",
       "      <td>26</td>\n",
       "    </tr>\n",
       "    <tr>\n",
       "      <th>wmo7bb3q</th>\n",
       "      <td>26</td>\n",
       "    </tr>\n",
       "    <tr>\n",
       "      <th>qN3gJ2EA</th>\n",
       "      <td>26</td>\n",
       "    </tr>\n",
       "    <tr>\n",
       "      <th>JGoN9b3L</th>\n",
       "      <td>26</td>\n",
       "    </tr>\n",
       "    <tr>\n",
       "      <th>6K3l8K3z</th>\n",
       "      <td>26</td>\n",
       "    </tr>\n",
       "    <tr>\n",
       "      <th>ZBEnaqOY</th>\n",
       "      <td>26</td>\n",
       "    </tr>\n",
       "  </tbody>\n",
       "</table>\n",
       "</div>"
      ],
      "text/plain": [
       "               Number of inspections\n",
       "restaurant_id                       \n",
       "1JEbamOR                          34\n",
       "Y1EmLmOw                          30\n",
       "KAoKz83g                          27\n",
       "dj3dX539                          27\n",
       "Pk3w4wod                          26\n",
       "wmo7bb3q                          26\n",
       "qN3gJ2EA                          26\n",
       "JGoN9b3L                          26\n",
       "6K3l8K3z                          26\n",
       "ZBEnaqOY                          26"
      ]
     },
     "execution_count": 14,
     "metadata": {},
     "output_type": "execute_result"
    }
   ],
   "source": [
    "num_inspect = pd.crosstab(index=df[\"restaurant_id\"], columns=\"count\")\n",
    "num_inspect.columns = [\"Number of inspections\"]\n",
    "num_inspect.sort_values('Number of inspections', ascending=False, inplace=True)\n",
    "num_inspect.head(10)"
   ]
  },
  {
   "cell_type": "code",
   "execution_count": 15,
   "metadata": {
    "collapsed": false
   },
   "outputs": [
    {
     "data": {
      "text/plain": [
       "restaurant_id\n",
       "1JEbamOR    34\n",
       "Y1EmLmOw    30\n",
       "KAoKz83g    27\n",
       "dj3dX539    27\n",
       "JGoN9b3L    26\n",
       "wmo7bb3q    26\n",
       "qN3gJ2EA    26\n",
       "Pk3w4wod    26\n",
       "ZBEnaqOY    26\n",
       "JBEyG0o8    26\n",
       "dtype: int64"
      ]
     },
     "execution_count": 15,
     "metadata": {},
     "output_type": "execute_result"
    }
   ],
   "source": [
    "most_rated = df.groupby('restaurant_id').size().sort_values(ascending=False)[:10]\n",
    "most_rated"
   ]
  },
  {
   "cell_type": "code",
   "execution_count": 16,
   "metadata": {
    "collapsed": false
   },
   "outputs": [
    {
     "data": {
      "text/plain": [
       "1JEbamOR    34\n",
       "Y1EmLmOw    30\n",
       "dj3dX539    27\n",
       "KAoKz83g    27\n",
       "Pk3w4wod    26\n",
       "wmo7bb3q    26\n",
       "ZBEnaqOY    26\n",
       "JGoN9b3L    26\n",
       "qN3gJ2EA    26\n",
       "JBEyG0o8    26\n",
       "Name: restaurant_id, dtype: int64"
      ]
     },
     "execution_count": 16,
     "metadata": {},
     "output_type": "execute_result"
    }
   ],
   "source": [
    "df.restaurant_id.value_counts()[:10]"
   ]
  },
  {
   "cell_type": "code",
   "execution_count": 17,
   "metadata": {
    "collapsed": false
   },
   "outputs": [
    {
     "data": {
      "text/html": [
       "<div>\n",
       "<table border=\"1\" class=\"dataframe\">\n",
       "  <thead>\n",
       "    <tr style=\"text-align: right;\">\n",
       "      <th></th>\n",
       "      <th>Number of inspections</th>\n",
       "    </tr>\n",
       "  </thead>\n",
       "  <tbody>\n",
       "    <tr>\n",
       "      <th>count</th>\n",
       "      <td>1851.000000</td>\n",
       "    </tr>\n",
       "    <tr>\n",
       "      <th>mean</th>\n",
       "      <td>10.960562</td>\n",
       "    </tr>\n",
       "    <tr>\n",
       "      <th>std</th>\n",
       "      <td>5.501062</td>\n",
       "    </tr>\n",
       "    <tr>\n",
       "      <th>min</th>\n",
       "      <td>1.000000</td>\n",
       "    </tr>\n",
       "    <tr>\n",
       "      <th>25%</th>\n",
       "      <td>7.000000</td>\n",
       "    </tr>\n",
       "    <tr>\n",
       "      <th>50%</th>\n",
       "      <td>11.000000</td>\n",
       "    </tr>\n",
       "    <tr>\n",
       "      <th>75%</th>\n",
       "      <td>15.000000</td>\n",
       "    </tr>\n",
       "    <tr>\n",
       "      <th>max</th>\n",
       "      <td>34.000000</td>\n",
       "    </tr>\n",
       "  </tbody>\n",
       "</table>\n",
       "</div>"
      ],
      "text/plain": [
       "       Number of inspections\n",
       "count            1851.000000\n",
       "mean               10.960562\n",
       "std                 5.501062\n",
       "min                 1.000000\n",
       "25%                 7.000000\n",
       "50%                11.000000\n",
       "75%                15.000000\n",
       "max                34.000000"
      ]
     },
     "execution_count": 17,
     "metadata": {},
     "output_type": "execute_result"
    }
   ],
   "source": [
    "num_inspect.describe()"
   ]
  },
  {
   "cell_type": "code",
   "execution_count": 18,
   "metadata": {
    "collapsed": false
   },
   "outputs": [
    {
     "data": {
      "text/plain": [
       "<matplotlib.text.Text at 0x108037b50>"
      ]
     },
     "execution_count": 18,
     "metadata": {},
     "output_type": "execute_result"
    },
    {
     "data": {
      "image/png": "[encoded data removed]",
      "text/plain": [
       "<matplotlib.figure.Figure at 0x107fd3650>"
      ]
     },
     "metadata": {},
     "output_type": "display_data"
    }
   ],
   "source": [
    "plt.hist(num_inspect['Number of inspections'], bins=35, range=(0, 35))\n",
    "plt.xlabel('Number of inspections')\n",
    "plt.ylabel('Number of restaurants')"
   ]
  },
  {
   "cell_type": "markdown",
   "metadata": {},
   "source": [
    "Let's look at the violations of the restaurant with the most inspections:"
   ]
  },
  {
   "cell_type": "code",
   "execution_count": 19,
   "metadata": {
    "collapsed": false
   },
   "outputs": [
    {
     "data": {
      "text/html": [
       "<div>\n",
       "<table border=\"1\" class=\"dataframe\">\n",
       "  <thead>\n",
       "    <tr style=\"text-align: right;\">\n",
       "      <th></th>\n",
       "      <th>id</th>\n",
       "      <th>date</th>\n",
       "      <th>restaurant_id</th>\n",
       "      <th>*</th>\n",
       "      <th>**</th>\n",
       "      <th>***</th>\n",
       "    </tr>\n",
       "  </thead>\n",
       "  <tbody>\n",
       "    <tr>\n",
       "      <th>19747</th>\n",
       "      <td>14966</td>\n",
       "      <td>2007-02-12</td>\n",
       "      <td>1JEbamOR</td>\n",
       "      <td>10</td>\n",
       "      <td>1</td>\n",
       "      <td>5</td>\n",
       "    </tr>\n",
       "    <tr>\n",
       "      <th>22753</th>\n",
       "      <td>11966</td>\n",
       "      <td>2007-02-22</td>\n",
       "      <td>1JEbamOR</td>\n",
       "      <td>8</td>\n",
       "      <td>1</td>\n",
       "      <td>1</td>\n",
       "    </tr>\n",
       "    <tr>\n",
       "      <th>9808</th>\n",
       "      <td>10832</td>\n",
       "      <td>2007-08-14</td>\n",
       "      <td>1JEbamOR</td>\n",
       "      <td>11</td>\n",
       "      <td>2</td>\n",
       "      <td>2</td>\n",
       "    </tr>\n",
       "    <tr>\n",
       "      <th>25338</th>\n",
       "      <td>13814</td>\n",
       "      <td>2007-08-15</td>\n",
       "      <td>1JEbamOR</td>\n",
       "      <td>12</td>\n",
       "      <td>2</td>\n",
       "      <td>2</td>\n",
       "    </tr>\n",
       "    <tr>\n",
       "      <th>3851</th>\n",
       "      <td>28890</td>\n",
       "      <td>2007-12-10</td>\n",
       "      <td>1JEbamOR</td>\n",
       "      <td>6</td>\n",
       "      <td>1</td>\n",
       "      <td>2</td>\n",
       "    </tr>\n",
       "    <tr>\n",
       "      <th>11194</th>\n",
       "      <td>28482</td>\n",
       "      <td>2008-03-11</td>\n",
       "      <td>1JEbamOR</td>\n",
       "      <td>20</td>\n",
       "      <td>2</td>\n",
       "      <td>4</td>\n",
       "    </tr>\n",
       "    <tr>\n",
       "      <th>11888</th>\n",
       "      <td>2823</td>\n",
       "      <td>2008-03-18</td>\n",
       "      <td>1JEbamOR</td>\n",
       "      <td>12</td>\n",
       "      <td>2</td>\n",
       "      <td>0</td>\n",
       "    </tr>\n",
       "    <tr>\n",
       "      <th>15470</th>\n",
       "      <td>26600</td>\n",
       "      <td>2008-09-26</td>\n",
       "      <td>1JEbamOR</td>\n",
       "      <td>7</td>\n",
       "      <td>2</td>\n",
       "      <td>1</td>\n",
       "    </tr>\n",
       "    <tr>\n",
       "      <th>7813</th>\n",
       "      <td>787</td>\n",
       "      <td>2008-12-08</td>\n",
       "      <td>1JEbamOR</td>\n",
       "      <td>3</td>\n",
       "      <td>1</td>\n",
       "      <td>0</td>\n",
       "    </tr>\n",
       "    <tr>\n",
       "      <th>1842</th>\n",
       "      <td>12597</td>\n",
       "      <td>2009-03-10</td>\n",
       "      <td>1JEbamOR</td>\n",
       "      <td>5</td>\n",
       "      <td>0</td>\n",
       "      <td>1</td>\n",
       "    </tr>\n",
       "    <tr>\n",
       "      <th>17955</th>\n",
       "      <td>18352</td>\n",
       "      <td>2009-08-25</td>\n",
       "      <td>1JEbamOR</td>\n",
       "      <td>15</td>\n",
       "      <td>1</td>\n",
       "      <td>1</td>\n",
       "    </tr>\n",
       "    <tr>\n",
       "      <th>688</th>\n",
       "      <td>7042</td>\n",
       "      <td>2009-09-01</td>\n",
       "      <td>1JEbamOR</td>\n",
       "      <td>7</td>\n",
       "      <td>1</td>\n",
       "      <td>0</td>\n",
       "    </tr>\n",
       "    <tr>\n",
       "      <th>21540</th>\n",
       "      <td>8546</td>\n",
       "      <td>2009-12-03</td>\n",
       "      <td>1JEbamOR</td>\n",
       "      <td>9</td>\n",
       "      <td>1</td>\n",
       "      <td>2</td>\n",
       "    </tr>\n",
       "    <tr>\n",
       "      <th>14574</th>\n",
       "      <td>17484</td>\n",
       "      <td>2010-03-03</td>\n",
       "      <td>1JEbamOR</td>\n",
       "      <td>7</td>\n",
       "      <td>0</td>\n",
       "      <td>0</td>\n",
       "    </tr>\n",
       "    <tr>\n",
       "      <th>18229</th>\n",
       "      <td>32579</td>\n",
       "      <td>2010-08-10</td>\n",
       "      <td>1JEbamOR</td>\n",
       "      <td>4</td>\n",
       "      <td>0</td>\n",
       "      <td>1</td>\n",
       "    </tr>\n",
       "    <tr>\n",
       "      <th>16060</th>\n",
       "      <td>15580</td>\n",
       "      <td>2010-12-07</td>\n",
       "      <td>1JEbamOR</td>\n",
       "      <td>8</td>\n",
       "      <td>0</td>\n",
       "      <td>1</td>\n",
       "    </tr>\n",
       "    <tr>\n",
       "      <th>20005</th>\n",
       "      <td>30966</td>\n",
       "      <td>2011-01-31</td>\n",
       "      <td>1JEbamOR</td>\n",
       "      <td>6</td>\n",
       "      <td>0</td>\n",
       "      <td>0</td>\n",
       "    </tr>\n",
       "    <tr>\n",
       "      <th>20670</th>\n",
       "      <td>4816</td>\n",
       "      <td>2011-08-12</td>\n",
       "      <td>1JEbamOR</td>\n",
       "      <td>7</td>\n",
       "      <td>0</td>\n",
       "      <td>2</td>\n",
       "    </tr>\n",
       "    <tr>\n",
       "      <th>24812</th>\n",
       "      <td>14404</td>\n",
       "      <td>2011-11-28</td>\n",
       "      <td>1JEbamOR</td>\n",
       "      <td>6</td>\n",
       "      <td>0</td>\n",
       "      <td>1</td>\n",
       "    </tr>\n",
       "    <tr>\n",
       "      <th>18173</th>\n",
       "      <td>21469</td>\n",
       "      <td>2012-04-12</td>\n",
       "      <td>1JEbamOR</td>\n",
       "      <td>4</td>\n",
       "      <td>0</td>\n",
       "      <td>1</td>\n",
       "    </tr>\n",
       "    <tr>\n",
       "      <th>23502</th>\n",
       "      <td>2312</td>\n",
       "      <td>2012-08-17</td>\n",
       "      <td>1JEbamOR</td>\n",
       "      <td>6</td>\n",
       "      <td>1</td>\n",
       "      <td>3</td>\n",
       "    </tr>\n",
       "    <tr>\n",
       "      <th>22693</th>\n",
       "      <td>9783</td>\n",
       "      <td>2012-08-24</td>\n",
       "      <td>1JEbamOR</td>\n",
       "      <td>0</td>\n",
       "      <td>0</td>\n",
       "      <td>0</td>\n",
       "    </tr>\n",
       "    <tr>\n",
       "      <th>16921</th>\n",
       "      <td>498</td>\n",
       "      <td>2012-12-06</td>\n",
       "      <td>1JEbamOR</td>\n",
       "      <td>2</td>\n",
       "      <td>1</td>\n",
       "      <td>0</td>\n",
       "    </tr>\n",
       "    <tr>\n",
       "      <th>15189</th>\n",
       "      <td>10957</td>\n",
       "      <td>2013-04-12</td>\n",
       "      <td>1JEbamOR</td>\n",
       "      <td>2</td>\n",
       "      <td>0</td>\n",
       "      <td>1</td>\n",
       "    </tr>\n",
       "    <tr>\n",
       "      <th>933</th>\n",
       "      <td>16516</td>\n",
       "      <td>2013-12-06</td>\n",
       "      <td>1JEbamOR</td>\n",
       "      <td>1</td>\n",
       "      <td>0</td>\n",
       "      <td>0</td>\n",
       "    </tr>\n",
       "    <tr>\n",
       "      <th>23525</th>\n",
       "      <td>24279</td>\n",
       "      <td>2013-12-30</td>\n",
       "      <td>1JEbamOR</td>\n",
       "      <td>0</td>\n",
       "      <td>0</td>\n",
       "      <td>0</td>\n",
       "    </tr>\n",
       "    <tr>\n",
       "      <th>995</th>\n",
       "      <td>18810</td>\n",
       "      <td>2014-04-16</td>\n",
       "      <td>1JEbamOR</td>\n",
       "      <td>13</td>\n",
       "      <td>3</td>\n",
       "      <td>13</td>\n",
       "    </tr>\n",
       "    <tr>\n",
       "      <th>1720</th>\n",
       "      <td>10034</td>\n",
       "      <td>2014-04-17</td>\n",
       "      <td>1JEbamOR</td>\n",
       "      <td>18</td>\n",
       "      <td>4</td>\n",
       "      <td>15</td>\n",
       "    </tr>\n",
       "    <tr>\n",
       "      <th>6329</th>\n",
       "      <td>27681</td>\n",
       "      <td>2014-05-06</td>\n",
       "      <td>1JEbamOR</td>\n",
       "      <td>19</td>\n",
       "      <td>4</td>\n",
       "      <td>13</td>\n",
       "    </tr>\n",
       "    <tr>\n",
       "      <th>19363</th>\n",
       "      <td>19378</td>\n",
       "      <td>2014-05-15</td>\n",
       "      <td>1JEbamOR</td>\n",
       "      <td>18</td>\n",
       "      <td>4</td>\n",
       "      <td>10</td>\n",
       "    </tr>\n",
       "    <tr>\n",
       "      <th>10836</th>\n",
       "      <td>23879</td>\n",
       "      <td>2014-06-18</td>\n",
       "      <td>1JEbamOR</td>\n",
       "      <td>2</td>\n",
       "      <td>0</td>\n",
       "      <td>0</td>\n",
       "    </tr>\n",
       "    <tr>\n",
       "      <th>14195</th>\n",
       "      <td>12332</td>\n",
       "      <td>2014-12-22</td>\n",
       "      <td>1JEbamOR</td>\n",
       "      <td>20</td>\n",
       "      <td>1</td>\n",
       "      <td>2</td>\n",
       "    </tr>\n",
       "    <tr>\n",
       "      <th>25964</th>\n",
       "      <td>1155</td>\n",
       "      <td>2015-01-07</td>\n",
       "      <td>1JEbamOR</td>\n",
       "      <td>8</td>\n",
       "      <td>0</td>\n",
       "      <td>2</td>\n",
       "    </tr>\n",
       "    <tr>\n",
       "      <th>800</th>\n",
       "      <td>9657</td>\n",
       "      <td>2015-01-15</td>\n",
       "      <td>1JEbamOR</td>\n",
       "      <td>6</td>\n",
       "      <td>0</td>\n",
       "      <td>2</td>\n",
       "    </tr>\n",
       "  </tbody>\n",
       "</table>\n",
       "</div>"
      ],
      "text/plain": [
       "          id       date restaurant_id   *  **  ***\n",
       "19747  14966 2007-02-12      1JEbamOR  10   1    5\n",
       "22753  11966 2007-02-22      1JEbamOR   8   1    1\n",
       "9808   10832 2007-08-14      1JEbamOR  11   2    2\n",
       "25338  13814 2007-08-15      1JEbamOR  12   2    2\n",
       "3851   28890 2007-12-10      1JEbamOR   6   1    2\n",
       "11194  28482 2008-03-11      1JEbamOR  20   2    4\n",
       "11888   2823 2008-03-18      1JEbamOR  12   2    0\n",
       "15470  26600 2008-09-26      1JEbamOR   7   2    1\n",
       "7813     787 2008-12-08      1JEbamOR   3   1    0\n",
       "1842   12597 2009-03-10      1JEbamOR   5   0    1\n",
       "17955  18352 2009-08-25      1JEbamOR  15   1    1\n",
       "688     7042 2009-09-01      1JEbamOR   7   1    0\n",
       "21540   8546 2009-12-03      1JEbamOR   9   1    2\n",
       "14574  17484 2010-03-03      1JEbamOR   7   0    0\n",
       "18229  32579 2010-08-10      1JEbamOR   4   0    1\n",
       "16060  15580 2010-12-07      1JEbamOR   8   0    1\n",
       "20005  30966 2011-01-31      1JEbamOR   6   0    0\n",
       "20670   4816 2011-08-12      1JEbamOR   7   0    2\n",
       "24812  14404 2011-11-28      1JEbamOR   6   0    1\n",
       "18173  21469 2012-04-12      1JEbamOR   4   0    1\n",
       "23502   2312 2012-08-17      1JEbamOR   6   1    3\n",
       "22693   9783 2012-08-24      1JEbamOR   0   0    0\n",
       "16921    498 2012-12-06      1JEbamOR   2   1    0\n",
       "15189  10957 2013-04-12      1JEbamOR   2   0    1\n",
       "933    16516 2013-12-06      1JEbamOR   1   0    0\n",
       "23525  24279 2013-12-30      1JEbamOR   0   0    0\n",
       "995    18810 2014-04-16      1JEbamOR  13   3   13\n",
       "1720   10034 2014-04-17      1JEbamOR  18   4   15\n",
       "6329   27681 2014-05-06      1JEbamOR  19   4   13\n",
       "19363  19378 2014-05-15      1JEbamOR  18   4   10\n",
       "10836  23879 2014-06-18      1JEbamOR   2   0    0\n",
       "14195  12332 2014-12-22      1JEbamOR  20   1    2\n",
       "25964   1155 2015-01-07      1JEbamOR   8   0    2\n",
       "800     9657 2015-01-15      1JEbamOR   6   0    2"
      ]
     },
     "execution_count": 19,
     "metadata": {},
     "output_type": "execute_result"
    }
   ],
   "source": [
    "most_inspections = df[df.restaurant_id == num_inspect.index[0]]\n",
    "most_inspections.sort_values('date')"
   ]
  },
  {
   "cell_type": "code",
   "execution_count": 20,
   "metadata": {
    "collapsed": false
   },
   "outputs": [
    {
     "data": {
      "text/plain": [
       "<matplotlib.text.Text at 0x1075a1990>"
      ]
     },
     "execution_count": 20,
     "metadata": {},
     "output_type": "execute_result"
    },
    {
     "data": {
      "image/png": "[encoded data removed]",
      "text/plain": [
       "<matplotlib.figure.Figure at 0x108148590>"
      ]
     },
     "metadata": {},
     "output_type": "display_data"
    }
   ],
   "source": [
    "plt.plot(most_inspections.date, most_inspections['*'], 'ko', label='*')\n",
    "plt.plot(most_inspections.date, most_inspections['**'], 'ro', label='**')\n",
    "plt.plot(most_inspections.date, most_inspections['***'], 'go', label='***')\n",
    "plt.xlabel('Date')\n",
    "plt.ylabel('Number of violations')\n",
    "plt.legend(loc='upper center')\n",
    "plt.title(num_inspect.index[0])"
   ]
  },
  {
   "cell_type": "markdown",
   "metadata": {},
   "source": [
    "### Average number of violations for each restaurant (sorted by most violations or worst restaurants)"
   ]
  },
  {
   "cell_type": "markdown",
   "metadata": {},
   "source": [
    "The size column below gives the number of inspections for each restaurant."
   ]
  },
  {
   "cell_type": "code",
   "execution_count": 21,
   "metadata": {
    "collapsed": false,
    "scrolled": true
   },
   "outputs": [
    {
     "data": {
      "text/html": [
       "<div>\n",
       "<table border=\"1\" class=\"dataframe\">\n",
       "  <thead>\n",
       "    <tr>\n",
       "      <th></th>\n",
       "      <th colspan=\"2\" halign=\"left\">weighted_violations</th>\n",
       "      <th colspan=\"3\" halign=\"left\">*</th>\n",
       "      <th colspan=\"2\" halign=\"left\">***</th>\n",
       "      <th colspan=\"2\" halign=\"left\">**</th>\n",
       "    </tr>\n",
       "    <tr>\n",
       "      <th></th>\n",
       "      <th>mean</th>\n",
       "      <th>sum</th>\n",
       "      <th>size</th>\n",
       "      <th>mean</th>\n",
       "      <th>sum</th>\n",
       "      <th>mean</th>\n",
       "      <th>sum</th>\n",
       "      <th>mean</th>\n",
       "      <th>sum</th>\n",
       "    </tr>\n",
       "    <tr>\n",
       "      <th>restaurant_id</th>\n",
       "      <th></th>\n",
       "      <th></th>\n",
       "      <th></th>\n",
       "      <th></th>\n",
       "      <th></th>\n",
       "      <th></th>\n",
       "      <th></th>\n",
       "      <th></th>\n",
       "      <th></th>\n",
       "    </tr>\n",
       "  </thead>\n",
       "  <tbody>\n",
       "    <tr>\n",
       "      <th>N6OkRvox</th>\n",
       "      <td>50.000000</td>\n",
       "      <td>100</td>\n",
       "      <td>2</td>\n",
       "      <td>19.000000</td>\n",
       "      <td>38</td>\n",
       "      <td>5.000000</td>\n",
       "      <td>10</td>\n",
       "      <td>2.000000</td>\n",
       "      <td>4</td>\n",
       "    </tr>\n",
       "    <tr>\n",
       "      <th>VpoGe9Er</th>\n",
       "      <td>38.000000</td>\n",
       "      <td>38</td>\n",
       "      <td>1</td>\n",
       "      <td>7.000000</td>\n",
       "      <td>7</td>\n",
       "      <td>5.000000</td>\n",
       "      <td>5</td>\n",
       "      <td>2.000000</td>\n",
       "      <td>2</td>\n",
       "    </tr>\n",
       "    <tr>\n",
       "      <th>ZBEnAqOY</th>\n",
       "      <td>32.666667</td>\n",
       "      <td>98</td>\n",
       "      <td>3</td>\n",
       "      <td>8.333333</td>\n",
       "      <td>25</td>\n",
       "      <td>3.666667</td>\n",
       "      <td>11</td>\n",
       "      <td>2.000000</td>\n",
       "      <td>6</td>\n",
       "    </tr>\n",
       "    <tr>\n",
       "      <th>N6OkxvEx</th>\n",
       "      <td>28.000000</td>\n",
       "      <td>84</td>\n",
       "      <td>3</td>\n",
       "      <td>7.666667</td>\n",
       "      <td>23</td>\n",
       "      <td>3.666667</td>\n",
       "      <td>11</td>\n",
       "      <td>0.666667</td>\n",
       "      <td>2</td>\n",
       "    </tr>\n",
       "    <tr>\n",
       "      <th>WwOapwoB</th>\n",
       "      <td>28.000000</td>\n",
       "      <td>28</td>\n",
       "      <td>1</td>\n",
       "      <td>18.000000</td>\n",
       "      <td>18</td>\n",
       "      <td>2.000000</td>\n",
       "      <td>2</td>\n",
       "      <td>0.000000</td>\n",
       "      <td>0</td>\n",
       "    </tr>\n",
       "    <tr>\n",
       "      <th>p038YGom</th>\n",
       "      <td>27.437500</td>\n",
       "      <td>439</td>\n",
       "      <td>16</td>\n",
       "      <td>8.437500</td>\n",
       "      <td>135</td>\n",
       "      <td>3.500000</td>\n",
       "      <td>56</td>\n",
       "      <td>0.500000</td>\n",
       "      <td>8</td>\n",
       "    </tr>\n",
       "    <tr>\n",
       "      <th>VpoGGAor</th>\n",
       "      <td>27.000000</td>\n",
       "      <td>324</td>\n",
       "      <td>12</td>\n",
       "      <td>8.250000</td>\n",
       "      <td>99</td>\n",
       "      <td>3.250000</td>\n",
       "      <td>39</td>\n",
       "      <td>0.833333</td>\n",
       "      <td>10</td>\n",
       "    </tr>\n",
       "    <tr>\n",
       "      <th>NbE1xaOJ</th>\n",
       "      <td>26.772727</td>\n",
       "      <td>589</td>\n",
       "      <td>22</td>\n",
       "      <td>11.227273</td>\n",
       "      <td>247</td>\n",
       "      <td>2.590909</td>\n",
       "      <td>57</td>\n",
       "      <td>0.863636</td>\n",
       "      <td>19</td>\n",
       "    </tr>\n",
       "    <tr>\n",
       "      <th>0ZEDeW3D</th>\n",
       "      <td>26.750000</td>\n",
       "      <td>107</td>\n",
       "      <td>4</td>\n",
       "      <td>7.750000</td>\n",
       "      <td>31</td>\n",
       "      <td>3.500000</td>\n",
       "      <td>14</td>\n",
       "      <td>0.500000</td>\n",
       "      <td>2</td>\n",
       "    </tr>\n",
       "    <tr>\n",
       "      <th>8x3zj93k</th>\n",
       "      <td>26.125000</td>\n",
       "      <td>209</td>\n",
       "      <td>8</td>\n",
       "      <td>7.625000</td>\n",
       "      <td>61</td>\n",
       "      <td>3.250000</td>\n",
       "      <td>26</td>\n",
       "      <td>0.750000</td>\n",
       "      <td>6</td>\n",
       "    </tr>\n",
       "  </tbody>\n",
       "</table>\n",
       "</div>"
      ],
      "text/plain": [
       "              weighted_violations         *                       ***      \\\n",
       "                             mean  sum size       mean  sum      mean sum   \n",
       "restaurant_id                                                               \n",
       "N6OkRvox                50.000000  100    2  19.000000   38  5.000000  10   \n",
       "VpoGe9Er                38.000000   38    1   7.000000    7  5.000000   5   \n",
       "ZBEnAqOY                32.666667   98    3   8.333333   25  3.666667  11   \n",
       "N6OkxvEx                28.000000   84    3   7.666667   23  3.666667  11   \n",
       "WwOapwoB                28.000000   28    1  18.000000   18  2.000000   2   \n",
       "p038YGom                27.437500  439   16   8.437500  135  3.500000  56   \n",
       "VpoGGAor                27.000000  324   12   8.250000   99  3.250000  39   \n",
       "NbE1xaOJ                26.772727  589   22  11.227273  247  2.590909  57   \n",
       "0ZEDeW3D                26.750000  107    4   7.750000   31  3.500000  14   \n",
       "8x3zj93k                26.125000  209    8   7.625000   61  3.250000  26   \n",
       "\n",
       "                     **      \n",
       "                   mean sum  \n",
       "restaurant_id                \n",
       "N6OkRvox       2.000000   4  \n",
       "VpoGe9Er       2.000000   2  \n",
       "ZBEnAqOY       2.000000   6  \n",
       "N6OkxvEx       0.666667   2  \n",
       "WwOapwoB       0.000000   0  \n",
       "p038YGom       0.500000   8  \n",
       "VpoGGAor       0.833333  10  \n",
       "NbE1xaOJ       0.863636  19  \n",
       "0ZEDeW3D       0.500000   2  \n",
       "8x3zj93k       0.750000   6  "
      ]
     },
     "execution_count": 21,
     "metadata": {},
     "output_type": "execute_result"
    }
   ],
   "source": [
    "df['weighted_violations'] = 1 * df['*'] + 3 * df['**'] + 5 * df['***']\n",
    "avg_violations = df.groupby('restaurant_id').agg({'*': [np.size, np.mean, np.sum], '**': [np.mean, np.sum], '***': [np.mean, np.sum], 'weighted_violations': [np.mean, np.sum]})\n",
    "avg_violations.sort_values([('weighted_violations', 'mean')], ascending=False).head(10)"
   ]
  },
  {
   "cell_type": "markdown",
   "metadata": {},
   "source": [
    "Do the number of violations depend on the size of the restaurant? If so would need to take this into account. See the Yelp check-in notebook for a plot of number of check-ins versus weighted violations. There is no correlation."
   ]
  },
  {
   "cell_type": "markdown",
   "metadata": {},
   "source": [
    "### Average violations model"
   ]
  },
  {
   "cell_type": "code",
   "execution_count": 22,
   "metadata": {
    "collapsed": false,
    "scrolled": true
   },
   "outputs": [
    {
     "data": {
      "text/html": [
       "<div>\n",
       "<table border=\"1\" class=\"dataframe\">\n",
       "  <thead>\n",
       "    <tr style=\"text-align: right;\">\n",
       "      <th></th>\n",
       "      <th>id</th>\n",
       "      <th>date</th>\n",
       "      <th>restaurant_id</th>\n",
       "      <th>*</th>\n",
       "      <th>**</th>\n",
       "      <th>***</th>\n",
       "    </tr>\n",
       "  </thead>\n",
       "  <tbody>\n",
       "    <tr>\n",
       "      <th>0</th>\n",
       "      <td>14916</td>\n",
       "      <td>2014-12-17</td>\n",
       "      <td>nkOvZOBW</td>\n",
       "      <td>0</td>\n",
       "      <td>0</td>\n",
       "      <td>0</td>\n",
       "    </tr>\n",
       "    <tr>\n",
       "      <th>1</th>\n",
       "      <td>29767</td>\n",
       "      <td>2013-12-30</td>\n",
       "      <td>WwOaAnOB</td>\n",
       "      <td>0</td>\n",
       "      <td>0</td>\n",
       "      <td>0</td>\n",
       "    </tr>\n",
       "    <tr>\n",
       "      <th>2</th>\n",
       "      <td>29338</td>\n",
       "      <td>2011-04-08</td>\n",
       "      <td>we39kvOk</td>\n",
       "      <td>0</td>\n",
       "      <td>0</td>\n",
       "      <td>0</td>\n",
       "    </tr>\n",
       "    <tr>\n",
       "      <th>3</th>\n",
       "      <td>7219</td>\n",
       "      <td>2013-12-30</td>\n",
       "      <td>dj3d5Xo9</td>\n",
       "      <td>0</td>\n",
       "      <td>0</td>\n",
       "      <td>0</td>\n",
       "    </tr>\n",
       "    <tr>\n",
       "      <th>4</th>\n",
       "      <td>20979</td>\n",
       "      <td>2008-03-31</td>\n",
       "      <td>XJ3rBW3R</td>\n",
       "      <td>0</td>\n",
       "      <td>0</td>\n",
       "      <td>0</td>\n",
       "    </tr>\n",
       "  </tbody>\n",
       "</table>\n",
       "</div>"
      ],
      "text/plain": [
       "      id        date restaurant_id  *  **  ***\n",
       "0  14916  2014-12-17      nkOvZOBW  0   0    0\n",
       "1  29767  2013-12-30      WwOaAnOB  0   0    0\n",
       "2  29338  2011-04-08      we39kvOk  0   0    0\n",
       "3   7219  2013-12-30      dj3d5Xo9  0   0    0\n",
       "4  20979  2008-03-31      XJ3rBW3R  0   0    0"
      ]
     },
     "execution_count": 22,
     "metadata": {},
     "output_type": "execute_result"
    }
   ],
   "source": [
    "sb = pd.read_csv('submit/SubmissionFormat.csv')\n",
    "sb.head()"
   ]
  },
  {
   "cell_type": "code",
   "execution_count": 23,
   "metadata": {
    "collapsed": false
   },
   "outputs": [
    {
     "data": {
      "text/html": [
       "<div>\n",
       "<table border=\"1\" class=\"dataframe\">\n",
       "  <thead>\n",
       "    <tr style=\"text-align: right;\">\n",
       "      <th></th>\n",
       "      <th>id</th>\n",
       "      <th>date</th>\n",
       "      <th>restaurant_id</th>\n",
       "      <th>*</th>\n",
       "      <th>**</th>\n",
       "      <th>***</th>\n",
       "    </tr>\n",
       "  </thead>\n",
       "  <tbody>\n",
       "    <tr>\n",
       "      <th>0</th>\n",
       "      <td>14916</td>\n",
       "      <td>2014-12-17</td>\n",
       "      <td>nkOvZOBW</td>\n",
       "      <td>4.230769</td>\n",
       "      <td>0.153846</td>\n",
       "      <td>0.615385</td>\n",
       "    </tr>\n",
       "    <tr>\n",
       "      <th>1</th>\n",
       "      <td>29767</td>\n",
       "      <td>2013-12-30</td>\n",
       "      <td>WwOaAnOB</td>\n",
       "      <td>4.076923</td>\n",
       "      <td>0.153846</td>\n",
       "      <td>1.000000</td>\n",
       "    </tr>\n",
       "    <tr>\n",
       "      <th>2</th>\n",
       "      <td>29338</td>\n",
       "      <td>2011-04-08</td>\n",
       "      <td>we39kvOk</td>\n",
       "      <td>3.111111</td>\n",
       "      <td>0.111111</td>\n",
       "      <td>1.000000</td>\n",
       "    </tr>\n",
       "    <tr>\n",
       "      <th>3</th>\n",
       "      <td>7219</td>\n",
       "      <td>2013-12-30</td>\n",
       "      <td>dj3d5Xo9</td>\n",
       "      <td>1.937500</td>\n",
       "      <td>0.250000</td>\n",
       "      <td>0.312500</td>\n",
       "    </tr>\n",
       "    <tr>\n",
       "      <th>4</th>\n",
       "      <td>20979</td>\n",
       "      <td>2008-03-31</td>\n",
       "      <td>XJ3rBW3R</td>\n",
       "      <td>4.428571</td>\n",
       "      <td>1.000000</td>\n",
       "      <td>1.142857</td>\n",
       "    </tr>\n",
       "  </tbody>\n",
       "</table>\n",
       "</div>"
      ],
      "text/plain": [
       "      id        date restaurant_id         *        **       ***\n",
       "0  14916  2014-12-17      nkOvZOBW  4.230769  0.153846  0.615385\n",
       "1  29767  2013-12-30      WwOaAnOB  4.076923  0.153846  1.000000\n",
       "2  29338  2011-04-08      we39kvOk  3.111111  0.111111  1.000000\n",
       "3   7219  2013-12-30      dj3d5Xo9  1.937500  0.250000  0.312500\n",
       "4  20979  2008-03-31      XJ3rBW3R  4.428571  1.000000  1.142857"
      ]
     },
     "execution_count": 23,
     "metadata": {},
     "output_type": "execute_result"
    }
   ],
   "source": [
    "sb_avg_violations = pd.merge(sb, avg_violations, left_on='restaurant_id', right_index=True, how='left').ix[:, [0, 1, 2, 9, 13, 11]]\n",
    "sb_avg_violations.columns = ['id', 'date', 'restaurant_id', '*', '**', '***']\n",
    "sb_avg_violations.head()"
   ]
  },
  {
   "cell_type": "markdown",
   "metadata": {},
   "source": [
    "There are a few restaurants in the submission file which are not in the training data:"
   ]
  },
  {
   "cell_type": "code",
   "execution_count": 24,
   "metadata": {
    "collapsed": false
   },
   "outputs": [
    {
     "data": {
      "text/html": [
       "<div>\n",
       "<table border=\"1\" class=\"dataframe\">\n",
       "  <thead>\n",
       "    <tr style=\"text-align: right;\">\n",
       "      <th></th>\n",
       "      <th>id</th>\n",
       "      <th>date</th>\n",
       "      <th>restaurant_id</th>\n",
       "      <th>*</th>\n",
       "      <th>**</th>\n",
       "      <th>***</th>\n",
       "    </tr>\n",
       "  </thead>\n",
       "  <tbody>\n",
       "    <tr>\n",
       "      <th>27</th>\n",
       "      <td>21573</td>\n",
       "      <td>2014-06-27</td>\n",
       "      <td>KAoKJK3g</td>\n",
       "      <td>NaN</td>\n",
       "      <td>NaN</td>\n",
       "      <td>NaN</td>\n",
       "    </tr>\n",
       "    <tr>\n",
       "      <th>390</th>\n",
       "      <td>13795</td>\n",
       "      <td>2012-12-30</td>\n",
       "      <td>v5oJ5r3B</td>\n",
       "      <td>NaN</td>\n",
       "      <td>NaN</td>\n",
       "      <td>NaN</td>\n",
       "    </tr>\n",
       "    <tr>\n",
       "      <th>468</th>\n",
       "      <td>4154</td>\n",
       "      <td>2012-12-30</td>\n",
       "      <td>Pk3wAqOd</td>\n",
       "      <td>NaN</td>\n",
       "      <td>NaN</td>\n",
       "      <td>NaN</td>\n",
       "    </tr>\n",
       "    <tr>\n",
       "      <th>1000</th>\n",
       "      <td>24260</td>\n",
       "      <td>2012-12-30</td>\n",
       "      <td>ZBEndKoY</td>\n",
       "      <td>NaN</td>\n",
       "      <td>NaN</td>\n",
       "      <td>NaN</td>\n",
       "    </tr>\n",
       "    <tr>\n",
       "      <th>1160</th>\n",
       "      <td>20517</td>\n",
       "      <td>2012-12-30</td>\n",
       "      <td>8x3zvR3k</td>\n",
       "      <td>NaN</td>\n",
       "      <td>NaN</td>\n",
       "      <td>NaN</td>\n",
       "    </tr>\n",
       "    <tr>\n",
       "      <th>1186</th>\n",
       "      <td>13347</td>\n",
       "      <td>2012-12-30</td>\n",
       "      <td>7RO5MrOq</td>\n",
       "      <td>NaN</td>\n",
       "      <td>NaN</td>\n",
       "      <td>NaN</td>\n",
       "    </tr>\n",
       "    <tr>\n",
       "      <th>1291</th>\n",
       "      <td>30607</td>\n",
       "      <td>2014-09-26</td>\n",
       "      <td>NbE17moJ</td>\n",
       "      <td>NaN</td>\n",
       "      <td>NaN</td>\n",
       "      <td>NaN</td>\n",
       "    </tr>\n",
       "    <tr>\n",
       "      <th>1579</th>\n",
       "      <td>18020</td>\n",
       "      <td>2010-02-08</td>\n",
       "      <td>1JEbg73R</td>\n",
       "      <td>NaN</td>\n",
       "      <td>NaN</td>\n",
       "      <td>NaN</td>\n",
       "    </tr>\n",
       "    <tr>\n",
       "      <th>2125</th>\n",
       "      <td>23872</td>\n",
       "      <td>2012-12-30</td>\n",
       "      <td>JGoNX6EL</td>\n",
       "      <td>NaN</td>\n",
       "      <td>NaN</td>\n",
       "      <td>NaN</td>\n",
       "    </tr>\n",
       "    <tr>\n",
       "      <th>2506</th>\n",
       "      <td>8806</td>\n",
       "      <td>2012-12-30</td>\n",
       "      <td>njoZZBor</td>\n",
       "      <td>NaN</td>\n",
       "      <td>NaN</td>\n",
       "      <td>NaN</td>\n",
       "    </tr>\n",
       "    <tr>\n",
       "      <th>3434</th>\n",
       "      <td>29423</td>\n",
       "      <td>2012-12-30</td>\n",
       "      <td>8KoADQ36</td>\n",
       "      <td>NaN</td>\n",
       "      <td>NaN</td>\n",
       "      <td>NaN</td>\n",
       "    </tr>\n",
       "    <tr>\n",
       "      <th>3634</th>\n",
       "      <td>26847</td>\n",
       "      <td>2012-12-30</td>\n",
       "      <td>6Wo2Vyo9</td>\n",
       "      <td>NaN</td>\n",
       "      <td>NaN</td>\n",
       "      <td>NaN</td>\n",
       "    </tr>\n",
       "    <tr>\n",
       "      <th>4507</th>\n",
       "      <td>24575</td>\n",
       "      <td>2012-12-30</td>\n",
       "      <td>lnOR4q3N</td>\n",
       "      <td>NaN</td>\n",
       "      <td>NaN</td>\n",
       "      <td>NaN</td>\n",
       "    </tr>\n",
       "    <tr>\n",
       "      <th>4960</th>\n",
       "      <td>10817</td>\n",
       "      <td>2012-12-30</td>\n",
       "      <td>0j3LgvEr</td>\n",
       "      <td>NaN</td>\n",
       "      <td>NaN</td>\n",
       "      <td>NaN</td>\n",
       "    </tr>\n",
       "    <tr>\n",
       "      <th>5088</th>\n",
       "      <td>20777</td>\n",
       "      <td>2008-02-28</td>\n",
       "      <td>m0oWkQoG</td>\n",
       "      <td>NaN</td>\n",
       "      <td>NaN</td>\n",
       "      <td>NaN</td>\n",
       "    </tr>\n",
       "    <tr>\n",
       "      <th>5767</th>\n",
       "      <td>22846</td>\n",
       "      <td>2012-12-30</td>\n",
       "      <td>XJ3rGJoR</td>\n",
       "      <td>NaN</td>\n",
       "      <td>NaN</td>\n",
       "      <td>NaN</td>\n",
       "    </tr>\n",
       "    <tr>\n",
       "      <th>6167</th>\n",
       "      <td>15294</td>\n",
       "      <td>2008-05-12</td>\n",
       "      <td>v5oJ5r3B</td>\n",
       "      <td>NaN</td>\n",
       "      <td>NaN</td>\n",
       "      <td>NaN</td>\n",
       "    </tr>\n",
       "    <tr>\n",
       "      <th>6595</th>\n",
       "      <td>25955</td>\n",
       "      <td>2014-10-10</td>\n",
       "      <td>NbE17moJ</td>\n",
       "      <td>NaN</td>\n",
       "      <td>NaN</td>\n",
       "      <td>NaN</td>\n",
       "    </tr>\n",
       "  </tbody>\n",
       "</table>\n",
       "</div>"
      ],
      "text/plain": [
       "         id        date restaurant_id   *  **  ***\n",
       "27    21573  2014-06-27      KAoKJK3g NaN NaN  NaN\n",
       "390   13795  2012-12-30      v5oJ5r3B NaN NaN  NaN\n",
       "468    4154  2012-12-30      Pk3wAqOd NaN NaN  NaN\n",
       "1000  24260  2012-12-30      ZBEndKoY NaN NaN  NaN\n",
       "1160  20517  2012-12-30      8x3zvR3k NaN NaN  NaN\n",
       "1186  13347  2012-12-30      7RO5MrOq NaN NaN  NaN\n",
       "1291  30607  2014-09-26      NbE17moJ NaN NaN  NaN\n",
       "1579  18020  2010-02-08      1JEbg73R NaN NaN  NaN\n",
       "2125  23872  2012-12-30      JGoNX6EL NaN NaN  NaN\n",
       "2506   8806  2012-12-30      njoZZBor NaN NaN  NaN\n",
       "3434  29423  2012-12-30      8KoADQ36 NaN NaN  NaN\n",
       "3634  26847  2012-12-30      6Wo2Vyo9 NaN NaN  NaN\n",
       "4507  24575  2012-12-30      lnOR4q3N NaN NaN  NaN\n",
       "4960  10817  2012-12-30      0j3LgvEr NaN NaN  NaN\n",
       "5088  20777  2008-02-28      m0oWkQoG NaN NaN  NaN\n",
       "5767  22846  2012-12-30      XJ3rGJoR NaN NaN  NaN\n",
       "6167  15294  2008-05-12      v5oJ5r3B NaN NaN  NaN\n",
       "6595  25955  2014-10-10      NbE17moJ NaN NaN  NaN"
      ]
     },
     "execution_count": 24,
     "metadata": {},
     "output_type": "execute_result"
    }
   ],
   "source": [
    "sb_avg_violations[sb_avg_violations['*'].isnull()]"
   ]
  },
  {
   "cell_type": "markdown",
   "metadata": {},
   "source": [
    "Use the zero model predictions for these cases:"
   ]
  },
  {
   "cell_type": "code",
   "execution_count": 25,
   "metadata": {
    "collapsed": false
   },
   "outputs": [],
   "source": [
    "sb_avg_violations['*'].fillna(3, inplace=True)\n",
    "sb_avg_violations['**'].fillna(0, inplace=True)\n",
    "sb_avg_violations['***'].fillna(0, inplace=True)\n",
    "sb_avg_violations[['*', '**', '***']] = sb_avg_violations[['*', '**', '***']].astype(int)"
   ]
  },
  {
   "cell_type": "code",
   "execution_count": 26,
   "metadata": {
    "collapsed": false
   },
   "outputs": [
    {
     "name": "stdout",
     "output_type": "stream",
     "text": [
      "<class 'pandas.core.frame.DataFrame'>\n",
      "RangeIndex: 6772 entries, 0 to 6771\n",
      "Data columns (total 6 columns):\n",
      "id               6772 non-null int64\n",
      "date             6772 non-null object\n",
      "restaurant_id    6772 non-null object\n",
      "*                6772 non-null int64\n",
      "**               6772 non-null int64\n",
      "***              6772 non-null int64\n",
      "dtypes: int64(4), object(2)\n",
      "memory usage: 317.5+ KB\n"
     ]
    }
   ],
   "source": [
    "sb_avg_violations.info()"
   ]
  },
  {
   "cell_type": "code",
   "execution_count": 27,
   "metadata": {
    "collapsed": false
   },
   "outputs": [
    {
     "data": {
      "text/html": [
       "<div>\n",
       "<table border=\"1\" class=\"dataframe\">\n",
       "  <thead>\n",
       "    <tr style=\"text-align: right;\">\n",
       "      <th></th>\n",
       "      <th>id</th>\n",
       "      <th>date</th>\n",
       "      <th>restaurant_id</th>\n",
       "      <th>*</th>\n",
       "      <th>**</th>\n",
       "      <th>***</th>\n",
       "    </tr>\n",
       "  </thead>\n",
       "  <tbody>\n",
       "    <tr>\n",
       "      <th>0</th>\n",
       "      <td>14916</td>\n",
       "      <td>2014-12-17</td>\n",
       "      <td>nkOvZOBW</td>\n",
       "      <td>4</td>\n",
       "      <td>0</td>\n",
       "      <td>0</td>\n",
       "    </tr>\n",
       "    <tr>\n",
       "      <th>1</th>\n",
       "      <td>29767</td>\n",
       "      <td>2013-12-30</td>\n",
       "      <td>WwOaAnOB</td>\n",
       "      <td>4</td>\n",
       "      <td>0</td>\n",
       "      <td>1</td>\n",
       "    </tr>\n",
       "    <tr>\n",
       "      <th>2</th>\n",
       "      <td>29338</td>\n",
       "      <td>2011-04-08</td>\n",
       "      <td>we39kvOk</td>\n",
       "      <td>3</td>\n",
       "      <td>0</td>\n",
       "      <td>1</td>\n",
       "    </tr>\n",
       "    <tr>\n",
       "      <th>3</th>\n",
       "      <td>7219</td>\n",
       "      <td>2013-12-30</td>\n",
       "      <td>dj3d5Xo9</td>\n",
       "      <td>1</td>\n",
       "      <td>0</td>\n",
       "      <td>0</td>\n",
       "    </tr>\n",
       "    <tr>\n",
       "      <th>4</th>\n",
       "      <td>20979</td>\n",
       "      <td>2008-03-31</td>\n",
       "      <td>XJ3rBW3R</td>\n",
       "      <td>4</td>\n",
       "      <td>1</td>\n",
       "      <td>1</td>\n",
       "    </tr>\n",
       "  </tbody>\n",
       "</table>\n",
       "</div>"
      ],
      "text/plain": [
       "      id        date restaurant_id  *  **  ***\n",
       "0  14916  2014-12-17      nkOvZOBW  4   0    0\n",
       "1  29767  2013-12-30      WwOaAnOB  4   0    1\n",
       "2  29338  2011-04-08      we39kvOk  3   0    1\n",
       "3   7219  2013-12-30      dj3d5Xo9  1   0    0\n",
       "4  20979  2008-03-31      XJ3rBW3R  4   1    1"
      ]
     },
     "execution_count": 27,
     "metadata": {},
     "output_type": "execute_result"
    }
   ],
   "source": [
    "sb_avg_violations.to_csv('avg_violations_model.csv', index=False, header=True)\n",
    "sb_avg_violations.head()"
   ]
  },
  {
   "cell_type": "markdown",
   "metadata": {},
   "source": [
    "### How bad are the worst violators?"
   ]
  },
  {
   "cell_type": "code",
   "execution_count": 28,
   "metadata": {
    "collapsed": false
   },
   "outputs": [
    {
     "data": {
      "text/plain": [
       "<matplotlib.text.Text at 0x107f7b1d0>"
      ]
     },
     "execution_count": 28,
     "metadata": {},
     "output_type": "execute_result"
    },
    {
     "data": {
      "image/png": "[encoded data removed]",
      "text/plain": [
       "<matplotlib.figure.Figure at 0x10805d3d0>"
      ]
     },
     "metadata": {},
     "output_type": "display_data"
    }
   ],
   "source": [
    "fig, ax = plt.subplots(1, 1, figsize=(14, 4))\n",
    "worst100 = avg_violations.sort_values([('weighted_violations', 'mean')], ascending=False).head(100)\n",
    "plt.bar(range(100), worst100[('weighted_violations', 'mean')], width=1)\n",
    "plt.xlabel('Index')\n",
    "plt.ylabel('Average weighted violations')"
   ]
  },
  {
   "cell_type": "markdown",
   "metadata": {},
   "source": [
    "Below are the restaurants with the least weighted_violations. Note that many have few inspections."
   ]
  },
  {
   "cell_type": "code",
   "execution_count": 29,
   "metadata": {
    "collapsed": false
   },
   "outputs": [
    {
     "data": {
      "text/html": [
       "<div>\n",
       "<table border=\"1\" class=\"dataframe\">\n",
       "  <thead>\n",
       "    <tr>\n",
       "      <th></th>\n",
       "      <th colspan=\"2\" halign=\"left\">weighted_violations</th>\n",
       "      <th colspan=\"3\" halign=\"left\">*</th>\n",
       "      <th colspan=\"2\" halign=\"left\">***</th>\n",
       "      <th colspan=\"2\" halign=\"left\">**</th>\n",
       "    </tr>\n",
       "    <tr>\n",
       "      <th></th>\n",
       "      <th>mean</th>\n",
       "      <th>sum</th>\n",
       "      <th>size</th>\n",
       "      <th>mean</th>\n",
       "      <th>sum</th>\n",
       "      <th>mean</th>\n",
       "      <th>sum</th>\n",
       "      <th>mean</th>\n",
       "      <th>sum</th>\n",
       "    </tr>\n",
       "    <tr>\n",
       "      <th>restaurant_id</th>\n",
       "      <th></th>\n",
       "      <th></th>\n",
       "      <th></th>\n",
       "      <th></th>\n",
       "      <th></th>\n",
       "      <th></th>\n",
       "      <th></th>\n",
       "      <th></th>\n",
       "      <th></th>\n",
       "    </tr>\n",
       "  </thead>\n",
       "  <tbody>\n",
       "    <tr>\n",
       "      <th>N6OkdqEx</th>\n",
       "      <td>0.0</td>\n",
       "      <td>0</td>\n",
       "      <td>1</td>\n",
       "      <td>0.0</td>\n",
       "      <td>0</td>\n",
       "      <td>0.0</td>\n",
       "      <td>0</td>\n",
       "      <td>0.0</td>\n",
       "      <td>0</td>\n",
       "    </tr>\n",
       "    <tr>\n",
       "      <th>NbE18JOJ</th>\n",
       "      <td>0.0</td>\n",
       "      <td>0</td>\n",
       "      <td>2</td>\n",
       "      <td>0.0</td>\n",
       "      <td>0</td>\n",
       "      <td>0.0</td>\n",
       "      <td>0</td>\n",
       "      <td>0.0</td>\n",
       "      <td>0</td>\n",
       "    </tr>\n",
       "    <tr>\n",
       "      <th>8x3z5bEk</th>\n",
       "      <td>0.0</td>\n",
       "      <td>0</td>\n",
       "      <td>2</td>\n",
       "      <td>0.0</td>\n",
       "      <td>0</td>\n",
       "      <td>0.0</td>\n",
       "      <td>0</td>\n",
       "      <td>0.0</td>\n",
       "      <td>0</td>\n",
       "    </tr>\n",
       "    <tr>\n",
       "      <th>NbE1PkOJ</th>\n",
       "      <td>0.0</td>\n",
       "      <td>0</td>\n",
       "      <td>1</td>\n",
       "      <td>0.0</td>\n",
       "      <td>0</td>\n",
       "      <td>0.0</td>\n",
       "      <td>0</td>\n",
       "      <td>0.0</td>\n",
       "      <td>0</td>\n",
       "    </tr>\n",
       "    <tr>\n",
       "      <th>KAoKpKOg</th>\n",
       "      <td>0.0</td>\n",
       "      <td>0</td>\n",
       "      <td>1</td>\n",
       "      <td>0.0</td>\n",
       "      <td>0</td>\n",
       "      <td>0.0</td>\n",
       "      <td>0</td>\n",
       "      <td>0.0</td>\n",
       "      <td>0</td>\n",
       "    </tr>\n",
       "  </tbody>\n",
       "</table>\n",
       "</div>"
      ],
      "text/plain": [
       "              weighted_violations        *           ***       **    \n",
       "                             mean sum size mean sum mean sum mean sum\n",
       "restaurant_id                                                        \n",
       "N6OkdqEx                      0.0   0    1  0.0   0  0.0   0  0.0   0\n",
       "NbE18JOJ                      0.0   0    2  0.0   0  0.0   0  0.0   0\n",
       "8x3z5bEk                      0.0   0    2  0.0   0  0.0   0  0.0   0\n",
       "NbE1PkOJ                      0.0   0    1  0.0   0  0.0   0  0.0   0\n",
       "KAoKpKOg                      0.0   0    1  0.0   0  0.0   0  0.0   0"
      ]
     },
     "execution_count": 29,
     "metadata": {},
     "output_type": "execute_result"
    }
   ],
   "source": [
    "avg_violations.sort_values([('weighted_violations', 'mean')], ascending=False).tail()"
   ]
  },
  {
   "cell_type": "markdown",
   "metadata": {},
   "source": [
    "### Time period over which inspections have taken place by restaurant"
   ]
  },
  {
   "cell_type": "markdown",
   "metadata": {},
   "source": [
    "The column inspect_window is the number of years between the first and last inspection:"
   ]
  },
  {
   "cell_type": "code",
   "execution_count": 30,
   "metadata": {
    "collapsed": false
   },
   "outputs": [
    {
     "data": {
      "text/html": [
       "<div>\n",
       "<table border=\"1\" class=\"dataframe\">\n",
       "  <thead>\n",
       "    <tr>\n",
       "      <th></th>\n",
       "      <th>inspect_window</th>\n",
       "    </tr>\n",
       "    <tr>\n",
       "      <th></th>\n",
       "      <th></th>\n",
       "    </tr>\n",
       "  </thead>\n",
       "  <tbody>\n",
       "    <tr>\n",
       "      <th>count</th>\n",
       "      <td>1851.000000</td>\n",
       "    </tr>\n",
       "    <tr>\n",
       "      <th>mean</th>\n",
       "      <td>5.492126</td>\n",
       "    </tr>\n",
       "    <tr>\n",
       "      <th>std</th>\n",
       "      <td>2.048741</td>\n",
       "    </tr>\n",
       "    <tr>\n",
       "      <th>min</th>\n",
       "      <td>0.000000</td>\n",
       "    </tr>\n",
       "    <tr>\n",
       "      <th>25%</th>\n",
       "      <td>4.603791</td>\n",
       "    </tr>\n",
       "    <tr>\n",
       "      <th>50%</th>\n",
       "      <td>6.113746</td>\n",
       "    </tr>\n",
       "    <tr>\n",
       "      <th>75%</th>\n",
       "      <td>7.047373</td>\n",
       "    </tr>\n",
       "    <tr>\n",
       "      <th>max</th>\n",
       "      <td>8.421802</td>\n",
       "    </tr>\n",
       "  </tbody>\n",
       "</table>\n",
       "</div>"
      ],
      "text/plain": [
       "      inspect_window\n",
       "                    \n",
       "count    1851.000000\n",
       "mean        5.492126\n",
       "std         2.048741\n",
       "min         0.000000\n",
       "25%         4.603791\n",
       "50%         6.113746\n",
       "75%         7.047373\n",
       "max         8.421802"
      ]
     },
     "execution_count": 30,
     "metadata": {},
     "output_type": "execute_result"
    }
   ],
   "source": [
    "dt = df.groupby('restaurant_id').agg({'date': [np.min, np.max]})\n",
    "dt['inspect_window'] = (dt[('date', 'amax')] - dt[('date', 'amin')]) / np.timedelta64(1, 'Y')\n",
    "dt.describe()"
   ]
  },
  {
   "cell_type": "code",
   "execution_count": 31,
   "metadata": {
    "collapsed": false
   },
   "outputs": [
    {
     "data": {
      "text/plain": [
       "<matplotlib.text.Text at 0x107833d50>"
      ]
     },
     "execution_count": 31,
     "metadata": {},
     "output_type": "execute_result"
    },
    {
     "data": {
      "image/png": "[encoded data removed]",
      "text/plain": [
       "<matplotlib.figure.Figure at 0x107ff9890>"
      ]
     },
     "metadata": {},
     "output_type": "display_data"
    }
   ],
   "source": [
    "plt.hist(dt[('inspect_window')], bins=30)\n",
    "plt.xlabel('Years')\n",
    "plt.ylabel('Number of restaurants')"
   ]
  },
  {
   "cell_type": "markdown",
   "metadata": {},
   "source": [
    "### How many times is a restaurant inspected in a year?"
   ]
  },
  {
   "cell_type": "code",
   "execution_count": 32,
   "metadata": {
    "collapsed": false
   },
   "outputs": [
    {
     "data": {
      "text/html": [
       "<div>\n",
       "<table border=\"1\" class=\"dataframe\">\n",
       "  <thead>\n",
       "    <tr style=\"text-align: right;\">\n",
       "      <th></th>\n",
       "      <th>inspect_window</th>\n",
       "      <th>number_of_inspections</th>\n",
       "    </tr>\n",
       "  </thead>\n",
       "  <tbody>\n",
       "    <tr>\n",
       "      <th>count</th>\n",
       "      <td>1851.000000</td>\n",
       "      <td>1851.000000</td>\n",
       "    </tr>\n",
       "    <tr>\n",
       "      <th>mean</th>\n",
       "      <td>5.492126</td>\n",
       "      <td>10.960562</td>\n",
       "    </tr>\n",
       "    <tr>\n",
       "      <th>std</th>\n",
       "      <td>2.048741</td>\n",
       "      <td>5.501062</td>\n",
       "    </tr>\n",
       "    <tr>\n",
       "      <th>min</th>\n",
       "      <td>0.000000</td>\n",
       "      <td>1.000000</td>\n",
       "    </tr>\n",
       "    <tr>\n",
       "      <th>25%</th>\n",
       "      <td>4.603791</td>\n",
       "      <td>7.000000</td>\n",
       "    </tr>\n",
       "    <tr>\n",
       "      <th>50%</th>\n",
       "      <td>6.113746</td>\n",
       "      <td>11.000000</td>\n",
       "    </tr>\n",
       "    <tr>\n",
       "      <th>75%</th>\n",
       "      <td>7.047373</td>\n",
       "      <td>15.000000</td>\n",
       "    </tr>\n",
       "    <tr>\n",
       "      <th>max</th>\n",
       "      <td>8.421802</td>\n",
       "      <td>34.000000</td>\n",
       "    </tr>\n",
       "  </tbody>\n",
       "</table>\n",
       "</div>"
      ],
      "text/plain": [
       "       inspect_window  number_of_inspections\n",
       "count     1851.000000            1851.000000\n",
       "mean         5.492126              10.960562\n",
       "std          2.048741               5.501062\n",
       "min          0.000000               1.000000\n",
       "25%          4.603791               7.000000\n",
       "50%          6.113746              11.000000\n",
       "75%          7.047373              15.000000\n",
       "max          8.421802              34.000000"
      ]
     },
     "execution_count": 32,
     "metadata": {},
     "output_type": "execute_result"
    }
   ],
   "source": [
    "dates_inspections = pd.merge(dt, pd.DataFrame(df.groupby('restaurant_id').size()), left_index=True, right_index=True, how='inner')\n",
    "dates_inspections.columns = ['min_date', 'max_date', 'inspect_window', 'number_of_inspections']\n",
    "dates_inspections.describe()"
   ]
  },
  {
   "cell_type": "markdown",
   "metadata": {},
   "source": [
    "Next we filter out cases with only 1 inspection (to remove inf) and compute a rate column:"
   ]
  },
  {
   "cell_type": "code",
   "execution_count": 33,
   "metadata": {
    "collapsed": false
   },
   "outputs": [
    {
     "data": {
      "text/html": [
       "<div>\n",
       "<table border=\"1\" class=\"dataframe\">\n",
       "  <thead>\n",
       "    <tr style=\"text-align: right;\">\n",
       "      <th></th>\n",
       "      <th>inspect_window</th>\n",
       "      <th>number_of_inspections</th>\n",
       "      <th>inspection_rate</th>\n",
       "    </tr>\n",
       "  </thead>\n",
       "  <tbody>\n",
       "    <tr>\n",
       "      <th>count</th>\n",
       "      <td>1779.000000</td>\n",
       "      <td>1779.000000</td>\n",
       "      <td>1779.000000</td>\n",
       "    </tr>\n",
       "    <tr>\n",
       "      <th>mean</th>\n",
       "      <td>5.714404</td>\n",
       "      <td>11.363687</td>\n",
       "      <td>2.130592</td>\n",
       "    </tr>\n",
       "    <tr>\n",
       "      <th>std</th>\n",
       "      <td>1.759662</td>\n",
       "      <td>5.225602</td>\n",
       "      <td>2.029412</td>\n",
       "    </tr>\n",
       "    <tr>\n",
       "      <th>min</th>\n",
       "      <td>0.030117</td>\n",
       "      <td>2.000000</td>\n",
       "      <td>0.343758</td>\n",
       "    </tr>\n",
       "    <tr>\n",
       "      <th>25%</th>\n",
       "      <td>4.847464</td>\n",
       "      <td>8.000000</td>\n",
       "      <td>1.548595</td>\n",
       "    </tr>\n",
       "    <tr>\n",
       "      <th>50%</th>\n",
       "      <td>6.226001</td>\n",
       "      <td>11.000000</td>\n",
       "      <td>1.984184</td>\n",
       "    </tr>\n",
       "    <tr>\n",
       "      <th>75%</th>\n",
       "      <td>7.066538</td>\n",
       "      <td>15.000000</td>\n",
       "      <td>2.450325</td>\n",
       "    </tr>\n",
       "    <tr>\n",
       "      <th>max</th>\n",
       "      <td>8.421802</td>\n",
       "      <td>34.000000</td>\n",
       "      <td>66.407727</td>\n",
       "    </tr>\n",
       "  </tbody>\n",
       "</table>\n",
       "</div>"
      ],
      "text/plain": [
       "       inspect_window  number_of_inspections  inspection_rate\n",
       "count     1779.000000            1779.000000      1779.000000\n",
       "mean         5.714404              11.363687         2.130592\n",
       "std          1.759662               5.225602         2.029412\n",
       "min          0.030117               2.000000         0.343758\n",
       "25%          4.847464               8.000000         1.548595\n",
       "50%          6.226001              11.000000         1.984184\n",
       "75%          7.066538              15.000000         2.450325\n",
       "max          8.421802              34.000000        66.407727"
      ]
     },
     "execution_count": 33,
     "metadata": {},
     "output_type": "execute_result"
    }
   ],
   "source": [
    "dates_inspections = dates_inspections[dates_inspections['number_of_inspections'] > 1]\n",
    "dates_inspections['inspection_rate'] = dates_inspections['number_of_inspections'] / dates_inspections['inspect_window']\n",
    "dates_inspections.describe()"
   ]
  },
  {
   "cell_type": "code",
   "execution_count": 34,
   "metadata": {
    "collapsed": false
   },
   "outputs": [
    {
     "data": {
      "text/plain": [
       "<matplotlib.text.Text at 0x108026fd0>"
      ]
     },
     "execution_count": 34,
     "metadata": {},
     "output_type": "execute_result"
    },
    {
     "data": {
      "image/png": "[encoded data removed]",
      "text/plain": [
       "<matplotlib.figure.Figure at 0x1031e8e90>"
      ]
     },
     "metadata": {},
     "output_type": "display_data"
    }
   ],
   "source": [
    "plt.hist(dates_inspections['inspection_rate'], bins=20, range=(0, 20), log=True)\n",
    "plt.ylim(0.1, 1000)\n",
    "plt.ylabel('Number of restaurants')\n",
    "plt.xlabel('Number of inspections per year')\n",
    "plt.ylabel('Number of restaurants')"
   ]
  },
  {
   "cell_type": "markdown",
   "metadata": {},
   "source": [
    "### Last date of inspection"
   ]
  },
  {
   "cell_type": "code",
   "execution_count": 35,
   "metadata": {
    "collapsed": false
   },
   "outputs": [
    {
     "data": {
      "text/html": [
       "<div>\n",
       "<table border=\"1\" class=\"dataframe\">\n",
       "  <thead>\n",
       "    <tr>\n",
       "      <th></th>\n",
       "      <th colspan=\"2\" halign=\"left\">date</th>\n",
       "      <th>inspect_window</th>\n",
       "    </tr>\n",
       "    <tr>\n",
       "      <th></th>\n",
       "      <th>amin</th>\n",
       "      <th>amax</th>\n",
       "      <th></th>\n",
       "    </tr>\n",
       "    <tr>\n",
       "      <th>restaurant_id</th>\n",
       "      <th></th>\n",
       "      <th></th>\n",
       "      <th></th>\n",
       "    </tr>\n",
       "  </thead>\n",
       "  <tbody>\n",
       "    <tr>\n",
       "      <th>0ZED0WED</th>\n",
       "      <td>2007-09-21</td>\n",
       "      <td>2014-10-08</td>\n",
       "      <td>7.047373</td>\n",
       "    </tr>\n",
       "    <tr>\n",
       "      <th>0ZED1B3D</th>\n",
       "      <td>2009-10-30</td>\n",
       "      <td>2014-09-03</td>\n",
       "      <td>4.843357</td>\n",
       "    </tr>\n",
       "    <tr>\n",
       "      <th>0ZED4ED9</th>\n",
       "      <td>2007-05-10</td>\n",
       "      <td>2012-12-30</td>\n",
       "      <td>5.642826</td>\n",
       "    </tr>\n",
       "    <tr>\n",
       "      <th>0ZED4pED</th>\n",
       "      <td>2007-08-14</td>\n",
       "      <td>2010-12-20</td>\n",
       "      <td>3.351198</td>\n",
       "    </tr>\n",
       "    <tr>\n",
       "      <th>0ZED543D</th>\n",
       "      <td>2007-12-03</td>\n",
       "      <td>2012-12-30</td>\n",
       "      <td>5.076080</td>\n",
       "    </tr>\n",
       "  </tbody>\n",
       "</table>\n",
       "</div>"
      ],
      "text/plain": [
       "                    date            inspect_window\n",
       "                    amin       amax               \n",
       "restaurant_id                                     \n",
       "0ZED0WED      2007-09-21 2014-10-08       7.047373\n",
       "0ZED1B3D      2009-10-30 2014-09-03       4.843357\n",
       "0ZED4ED9      2007-05-10 2012-12-30       5.642826\n",
       "0ZED4pED      2007-08-14 2010-12-20       3.351198\n",
       "0ZED543D      2007-12-03 2012-12-30       5.076080"
      ]
     },
     "execution_count": 35,
     "metadata": {},
     "output_type": "execute_result"
    }
   ],
   "source": [
    "dt.head()"
   ]
  },
  {
   "cell_type": "code",
   "execution_count": 36,
   "metadata": {
    "collapsed": false
   },
   "outputs": [
    {
     "data": {
      "text/plain": [
       "<matplotlib.text.Text at 0x10802a3d0>"
      ]
     },
     "execution_count": 36,
     "metadata": {},
     "output_type": "execute_result"
    },
    {
     "data": {
      "image/png": "[encoded data removed]",
      "text/plain": [
       "<matplotlib.figure.Figure at 0x107fd3e50>"
      ]
     },
     "metadata": {},
     "output_type": "display_data"
    }
   ],
   "source": [
    "fig, ax = plt.subplots(1, 1, figsize=(15, 4))\n",
    "plt.plot(dt[('date', 'amax')], range(dt.index.size), '.')\n",
    "plt.xlim(pd.to_datetime('2012-06-01'), pd.to_datetime('2015-06-01'))\n",
    "plt.xlabel('Date of last inspection')\n",
    "plt.ylabel('Restaurant index')"
   ]
  }
 ],
 "metadata": {
  "kernelspec": {
   "display_name": "Python 2",
   "language": "python",
   "name": "python2"
  },
  "language_info": {
   "codemirror_mode": {
    "name": "ipython",
    "version": 2
   },
   "file_extension": ".py",
   "mimetype": "text/x-python",
   "name": "python",
   "nbconvert_exporter": "python",
   "pygments_lexer": "ipython2",
   "version": "2.7.5"
  }
 },
 "nbformat": 4,
 "nbformat_minor": 0
}
