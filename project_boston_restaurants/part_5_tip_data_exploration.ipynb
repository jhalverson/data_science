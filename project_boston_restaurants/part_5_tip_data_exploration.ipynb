{
 "cells": [
  {
   "cell_type": "markdown",
   "metadata": {},
   "source": [
    "# Jonathan Halverson\n",
    "# Keeping it Fresh: Predict Restaurant Inspections\n",
    "## Part 5: Yelp tip data"
   ]
  },
  {
   "cell_type": "markdown",
   "metadata": {},
   "source": [
    "In this notebook we explore the tip data. Each tip is given along with the date it was written and the user id."
   ]
  },
  {
   "cell_type": "code",
   "execution_count": 1,
   "metadata": {
    "collapsed": true
   },
   "outputs": [],
   "source": [
    "import numpy as np\n",
    "import pandas as pd\n",
    "import matplotlib.pyplot as plt\n",
    "%matplotlib inline\n",
    "plt.style.use('halverson')"
   ]
  },
  {
   "cell_type": "code",
   "execution_count": 7,
   "metadata": {
    "collapsed": false,
    "scrolled": true
   },
   "outputs": [
    {
     "data": {
      "text/html": [
       "<div>\n",
       "<table border=\"1\" class=\"dataframe\">\n",
       "  <thead>\n",
       "    <tr style=\"text-align: right;\">\n",
       "      <th></th>\n",
       "      <th>business_id</th>\n",
       "      <th>date</th>\n",
       "      <th>likes</th>\n",
       "      <th>text</th>\n",
       "      <th>type</th>\n",
       "      <th>user_id</th>\n",
       "    </tr>\n",
       "  </thead>\n",
       "  <tbody>\n",
       "    <tr>\n",
       "      <th>0</th>\n",
       "      <td>CgdK8DiyX9Y4kTKEPi_qgA</td>\n",
       "      <td>2011-02-09</td>\n",
       "      <td>0</td>\n",
       "      <td>Great soup &amp; sandwiches!</td>\n",
       "      <td>tip</td>\n",
       "      <td>U54NM7zbsMRPwECY21ialQ</td>\n",
       "    </tr>\n",
       "    <tr>\n",
       "      <th>1</th>\n",
       "      <td>CgdK8DiyX9Y4kTKEPi_qgA</td>\n",
       "      <td>2010-10-04</td>\n",
       "      <td>0</td>\n",
       "      <td>Surprisingly good panini. I'd come here again!</td>\n",
       "      <td>tip</td>\n",
       "      <td>U54NM7zbsMRPwECY21ialQ</td>\n",
       "    </tr>\n",
       "    <tr>\n",
       "      <th>2</th>\n",
       "      <td>SAnMTC1rm-PhP8DQC4zeyg</td>\n",
       "      <td>2012-02-09</td>\n",
       "      <td>0</td>\n",
       "      <td>They do great lunch sandwiches.  Real fresh tu...</td>\n",
       "      <td>tip</td>\n",
       "      <td>ZCL6LhChkD-9X7xgnOomjA</td>\n",
       "    </tr>\n",
       "    <tr>\n",
       "      <th>3</th>\n",
       "      <td>75dtVyDb8Sfwb7dR0cBvdg</td>\n",
       "      <td>2012-07-28</td>\n",
       "      <td>0</td>\n",
       "      <td>Saturday brunch!</td>\n",
       "      <td>tip</td>\n",
       "      <td>yziCot_SVSNUh6905qgb2A</td>\n",
       "    </tr>\n",
       "    <tr>\n",
       "      <th>4</th>\n",
       "      <td>75dtVyDb8Sfwb7dR0cBvdg</td>\n",
       "      <td>2012-10-08</td>\n",
       "      <td>0</td>\n",
       "      <td>Breakfast for 2 less than $20 including tip.</td>\n",
       "      <td>tip</td>\n",
       "      <td>6khNhFYFO3KSnRAM_9YdQw</td>\n",
       "    </tr>\n",
       "  </tbody>\n",
       "</table>\n",
       "</div>"
      ],
      "text/plain": [
       "              business_id       date  likes  \\\n",
       "0  CgdK8DiyX9Y4kTKEPi_qgA 2011-02-09      0   \n",
       "1  CgdK8DiyX9Y4kTKEPi_qgA 2010-10-04      0   \n",
       "2  SAnMTC1rm-PhP8DQC4zeyg 2012-02-09      0   \n",
       "3  75dtVyDb8Sfwb7dR0cBvdg 2012-07-28      0   \n",
       "4  75dtVyDb8Sfwb7dR0cBvdg 2012-10-08      0   \n",
       "\n",
       "                                                text type  \\\n",
       "0                           Great soup & sandwiches!  tip   \n",
       "1     Surprisingly good panini. I'd come here again!  tip   \n",
       "2  They do great lunch sandwiches.  Real fresh tu...  tip   \n",
       "3                                   Saturday brunch!  tip   \n",
       "4       Breakfast for 2 less than $20 including tip.  tip   \n",
       "\n",
       "                  user_id  \n",
       "0  U54NM7zbsMRPwECY21ialQ  \n",
       "1  U54NM7zbsMRPwECY21ialQ  \n",
       "2  ZCL6LhChkD-9X7xgnOomjA  \n",
       "3  yziCot_SVSNUh6905qgb2A  \n",
       "4  6khNhFYFO3KSnRAM_9YdQw  "
      ]
     },
     "execution_count": 7,
     "metadata": {},
     "output_type": "execute_result"
    }
   ],
   "source": [
    "from helper_methods import read_json\n",
    "df_tip = read_json('data/yelp_academic_dataset_tip.json')\n",
    "df_tip.head()"
   ]
  },
  {
   "cell_type": "code",
   "execution_count": 3,
   "metadata": {
    "collapsed": false
   },
   "outputs": [
    {
     "name": "stdout",
     "output_type": "stream",
     "text": [
      "<class 'pandas.core.frame.DataFrame'>\n",
      "Int64Index: 24424 entries, 0 to 24423\n",
      "Data columns (total 6 columns):\n",
      "business_id    24424 non-null object\n",
      "date           24424 non-null datetime64[ns]\n",
      "likes          24424 non-null int64\n",
      "text           24424 non-null object\n",
      "type           24424 non-null object\n",
      "user_id        24424 non-null object\n",
      "dtypes: datetime64[ns](1), int64(1), object(4)\n",
      "memory usage: 1.3+ MB\n"
     ]
    }
   ],
   "source": [
    "df_tip.info()"
   ]
  },
  {
   "cell_type": "code",
   "execution_count": 29,
   "metadata": {
    "collapsed": false
   },
   "outputs": [
    {
     "data": {
      "text/html": [
       "<div>\n",
       "<table border=\"1\" class=\"dataframe\">\n",
       "  <thead>\n",
       "    <tr style=\"text-align: right;\">\n",
       "      <th></th>\n",
       "      <th>likes</th>\n",
       "      <th>num_characters</th>\n",
       "    </tr>\n",
       "  </thead>\n",
       "  <tbody>\n",
       "    <tr>\n",
       "      <th>count</th>\n",
       "      <td>24424.000000</td>\n",
       "      <td>24424.000000</td>\n",
       "    </tr>\n",
       "    <tr>\n",
       "      <th>mean</th>\n",
       "      <td>0.005855</td>\n",
       "      <td>56.819399</td>\n",
       "    </tr>\n",
       "    <tr>\n",
       "      <th>std</th>\n",
       "      <td>0.082484</td>\n",
       "      <td>51.165754</td>\n",
       "    </tr>\n",
       "    <tr>\n",
       "      <th>min</th>\n",
       "      <td>0.000000</td>\n",
       "      <td>1.000000</td>\n",
       "    </tr>\n",
       "    <tr>\n",
       "      <th>25%</th>\n",
       "      <td>0.000000</td>\n",
       "      <td>24.000000</td>\n",
       "    </tr>\n",
       "    <tr>\n",
       "      <th>50%</th>\n",
       "      <td>0.000000</td>\n",
       "      <td>43.000000</td>\n",
       "    </tr>\n",
       "    <tr>\n",
       "      <th>75%</th>\n",
       "      <td>0.000000</td>\n",
       "      <td>73.000000</td>\n",
       "    </tr>\n",
       "    <tr>\n",
       "      <th>max</th>\n",
       "      <td>4.000000</td>\n",
       "      <td>500.000000</td>\n",
       "    </tr>\n",
       "  </tbody>\n",
       "</table>\n",
       "</div>"
      ],
      "text/plain": [
       "              likes  num_characters\n",
       "count  24424.000000    24424.000000\n",
       "mean       0.005855       56.819399\n",
       "std        0.082484       51.165754\n",
       "min        0.000000        1.000000\n",
       "25%        0.000000       24.000000\n",
       "50%        0.000000       43.000000\n",
       "75%        0.000000       73.000000\n",
       "max        4.000000      500.000000"
      ]
     },
     "execution_count": 29,
     "metadata": {},
     "output_type": "execute_result"
    }
   ],
   "source": [
    "df_tip.describe()"
   ]
  },
  {
   "cell_type": "code",
   "execution_count": 9,
   "metadata": {
    "collapsed": false
   },
   "outputs": [
    {
     "data": {
      "text/plain": [
       "<matplotlib.text.Text at 0x10b383250>"
      ]
     },
     "execution_count": 9,
     "metadata": {},
     "output_type": "execute_result"
    },
    {
     "data": {
      "image/png": "[encoded data removed]",
      "text/plain": [
       "<matplotlib.figure.Figure at 0x10c4b2f10>"
      ]
     },
     "metadata": {},
     "output_type": "display_data"
    }
   ],
   "source": [
    "df_tip['num_characters'] = df_tip['text'].apply(len)\n",
    "plt.plot(df_tip['date'], df_tip['num_characters'], '.')\n",
    "plt.xlabel('Date')\n",
    "plt.ylabel('Number of characters in text')"
   ]
  },
  {
   "cell_type": "markdown",
   "metadata": {},
   "source": [
    "The figure above suggests that Yelp increased their character limit twice. However, there are three points which seem to violate the early limits."
   ]
  },
  {
   "cell_type": "code",
   "execution_count": 22,
   "metadata": {
    "collapsed": false
   },
   "outputs": [
    {
     "data": {
      "text/plain": [
       "u\"Tasteless/stale macarons; bakery products were mistakes. Lamb shank=mostly fat&came with a price tag to match fillet mignon at Morton's. Atmosphere was WORST I've ever experienced (was placed at a seat where I needed to walk behind a counter next to the kitchen to get out &staff kept coming out and hitting me with random plates)\\nBottom line: if you're going to have such upscale dish prices, attempt to make your restaurant's atmosphere resemble at least a hole in the wall& have food with quality.\""
      ]
     },
     "execution_count": 22,
     "metadata": {},
     "output_type": "execute_result"
    }
   ],
   "source": [
    "most_chars = df_tip.sort_values('num_characters', ascending=False)\n",
    "most_chars.loc[most_chars.index[0], 'text']"
   ]
  },
  {
   "cell_type": "code",
   "execution_count": 23,
   "metadata": {
    "collapsed": false
   },
   "outputs": [
    {
     "data": {
      "text/plain": [
       "u'I went to the Medieval Manor last night for the first time in 7 years.  They far exceeded my high expectations!  The cast is welcoming, funny, and engaging. You can tell that the love what they do.\\n\\nThe food is fantastic, with chicken, ribs, soup and salad that alone is worth the price of admission.  There is beer, wine and non-alcoholic mead that was delicious and plentiful.\\n\\nMy birthday is next month and I am planning on spending it at the Manor, and looking forward to another great night out.'"
      ]
     },
     "execution_count": 23,
     "metadata": {},
     "output_type": "execute_result"
    }
   ],
   "source": [
    "most_chars.loc[most_chars.index[1], 'text']"
   ]
  },
  {
   "cell_type": "code",
   "execution_count": 24,
   "metadata": {
    "collapsed": false
   },
   "outputs": [
    {
     "data": {
      "text/plain": [
       "u\"This so-called Shanghai-style restaurant is opened and operated by Shanghaiese. But, the dishes are not anywhere close. The dishes are not authentic at all. Trust me, I have been living in Shanghai for 7 years and marry to a Shanghai native. The toast fish is made of a wrong kind of fish and is cut wrongly. The buns are made of wrong flour and don't have soup in it. The pork with tofu wrap is poorly cooked and not even soft enough. The corn pie doesn't have green peas and carrot, etc. Thumb down\""
      ]
     },
     "execution_count": 24,
     "metadata": {},
     "output_type": "execute_result"
    }
   ],
   "source": [
    "most_chars.loc[most_chars.index[2], 'text']"
   ]
  },
  {
   "cell_type": "markdown",
   "metadata": {},
   "source": [
    "There is clearly useful information in the tips or at least in the long tips. Many of the complaints don't relate to health inspection violations.\n",
    "\n",
    "One can imagine using the user data to either include or exclude the tip. If the person has fewer than some number of reviews or tips then they might be excluded. Or if all their tips are strongly positive or negative."
   ]
  },
  {
   "cell_type": "code",
   "execution_count": 28,
   "metadata": {
    "collapsed": false
   },
   "outputs": [
    {
     "data": {
      "text/plain": [
       "<matplotlib.text.Text at 0x10fd50810>"
      ]
     },
     "execution_count": 28,
     "metadata": {},
     "output_type": "execute_result"
    },
    {
     "data": {
      "image/png": "[encoded data removed]",
      "text/plain": [
       "<matplotlib.figure.Figure at 0x10f7bed90>"
      ]
     },
     "metadata": {},
     "output_type": "display_data"
    }
   ],
   "source": [
    "plt.hist(df_tip.num_characters, bins=40)\n",
    "plt.xlabel('Number of characters')\n",
    "plt.ylabel('Count')"
   ]
  },
  {
   "cell_type": "markdown",
   "metadata": {},
   "source": [
    "We see from the histogram above that most tips are short with the mean number of characters being 56.8."
   ]
  }
 ],
 "metadata": {
  "kernelspec": {
   "display_name": "Python 2",
   "language": "python",
   "name": "python2"
  },
  "language_info": {
   "codemirror_mode": {
    "name": "ipython",
    "version": 2
   },
   "file_extension": ".py",
   "mimetype": "text/x-python",
   "name": "python",
   "nbconvert_exporter": "python",
   "pygments_lexer": "ipython2",
   "version": "2.7.5"
  }
 },
 "nbformat": 4,
 "nbformat_minor": 0
}
