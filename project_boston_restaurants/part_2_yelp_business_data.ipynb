{
 "cells": [
  {
   "cell_type": "markdown",
   "metadata": {},
   "source": [
    "# Jonathan Halverson\n",
    "# Keeping it Fresh: Predict Restaurant Inspections\n",
    "## Part 2: Yelp business data"
   ]
  },
  {
   "cell_type": "markdown",
   "metadata": {},
   "source": [
    "This notebook examines the health inspection violation data as well as the Yelp business data. We do not work with the Yelp user reviews in this notebook (see Part III)."
   ]
  },
  {
   "cell_type": "code",
   "execution_count": 97,
   "metadata": {
    "collapsed": true
   },
   "outputs": [],
   "source": [
    "import numpy as np\n",
    "import pandas as pd\n",
    "import matplotlib.pyplot as plt\n",
    "%matplotlib inline\n",
    "plt.style.use('halverson')"
   ]
  },
  {
   "cell_type": "markdown",
   "metadata": {},
   "source": [
    "### Load the training data, translation data and Yelp business data:"
   ]
  },
  {
   "cell_type": "code",
   "execution_count": 98,
   "metadata": {
    "collapsed": false
   },
   "outputs": [
    {
     "data": {
      "text/html": [
       "<div>\n",
       "<table border=\"1\" class=\"dataframe\">\n",
       "  <thead>\n",
       "    <tr style=\"text-align: right;\">\n",
       "      <th></th>\n",
       "      <th>id</th>\n",
       "      <th>date</th>\n",
       "      <th>restaurant_id</th>\n",
       "      <th>*</th>\n",
       "      <th>**</th>\n",
       "      <th>***</th>\n",
       "    </tr>\n",
       "  </thead>\n",
       "  <tbody>\n",
       "    <tr>\n",
       "      <th>1801</th>\n",
       "      <td>28144</td>\n",
       "      <td>2007-09-21</td>\n",
       "      <td>0ZED0WED</td>\n",
       "      <td>3</td>\n",
       "      <td>1</td>\n",
       "      <td>0</td>\n",
       "    </tr>\n",
       "    <tr>\n",
       "      <th>551</th>\n",
       "      <td>24765</td>\n",
       "      <td>2008-03-26</td>\n",
       "      <td>0ZED0WED</td>\n",
       "      <td>3</td>\n",
       "      <td>1</td>\n",
       "      <td>0</td>\n",
       "    </tr>\n",
       "    <tr>\n",
       "      <th>5460</th>\n",
       "      <td>25193</td>\n",
       "      <td>2008-10-08</td>\n",
       "      <td>0ZED0WED</td>\n",
       "      <td>6</td>\n",
       "      <td>2</td>\n",
       "      <td>4</td>\n",
       "    </tr>\n",
       "    <tr>\n",
       "      <th>3641</th>\n",
       "      <td>12775</td>\n",
       "      <td>2009-03-03</td>\n",
       "      <td>0ZED0WED</td>\n",
       "      <td>3</td>\n",
       "      <td>0</td>\n",
       "      <td>0</td>\n",
       "    </tr>\n",
       "    <tr>\n",
       "      <th>18452</th>\n",
       "      <td>25850</td>\n",
       "      <td>2009-07-23</td>\n",
       "      <td>0ZED0WED</td>\n",
       "      <td>1</td>\n",
       "      <td>0</td>\n",
       "      <td>2</td>\n",
       "    </tr>\n",
       "  </tbody>\n",
       "</table>\n",
       "</div>"
      ],
      "text/plain": [
       "          id       date restaurant_id  *  **  ***\n",
       "1801   28144 2007-09-21      0ZED0WED  3   1    0\n",
       "551    24765 2008-03-26      0ZED0WED  3   1    0\n",
       "5460   25193 2008-10-08      0ZED0WED  6   2    4\n",
       "3641   12775 2009-03-03      0ZED0WED  3   0    0\n",
       "18452  25850 2009-07-23      0ZED0WED  1   0    2"
      ]
     },
     "execution_count": 98,
     "metadata": {},
     "output_type": "execute_result"
    }
   ],
   "source": [
    "from helper_methods import drop_duplicate_inspections\n",
    "\n",
    "df = pd.read_csv('data/training_labels.txt', parse_dates=['date'])\n",
    "df = df.sort_values(['restaurant_id', 'date'])\n",
    "df = drop_duplicate_inspections(df, threshold=60)\n",
    "df.head()"
   ]
  },
  {
   "cell_type": "code",
   "execution_count": 99,
   "metadata": {
    "collapsed": false,
    "scrolled": true
   },
   "outputs": [
    {
     "data": {
      "text/html": [
       "<div>\n",
       "<table border=\"1\" class=\"dataframe\">\n",
       "  <thead>\n",
       "    <tr style=\"text-align: right;\">\n",
       "      <th></th>\n",
       "      <th>restaurant_id</th>\n",
       "      <th>business_id</th>\n",
       "    </tr>\n",
       "  </thead>\n",
       "  <tbody>\n",
       "    <tr>\n",
       "      <th>0</th>\n",
       "      <td>Y1Em4GOw</td>\n",
       "      <td>5Kdf1DGbRScRk6Cx3jaX8w</td>\n",
       "    </tr>\n",
       "    <tr>\n",
       "      <th>1</th>\n",
       "      <td>KAoKP6Og</td>\n",
       "      <td>Urw6NASrebP6tyFdjwjkwQ</td>\n",
       "    </tr>\n",
       "    <tr>\n",
       "      <th>2</th>\n",
       "      <td>WeEe7eoa</td>\n",
       "      <td>xlOE7jqbW1Q_PrvLBVlegQ</td>\n",
       "    </tr>\n",
       "    <tr>\n",
       "      <th>3</th>\n",
       "      <td>V430mqoB</td>\n",
       "      <td>ktYpqtygWIJ2RjVPGTxNaA</td>\n",
       "    </tr>\n",
       "    <tr>\n",
       "      <th>4</th>\n",
       "      <td>ekE4Qz32</td>\n",
       "      <td>n8CsQy7Iy1IMhP85hPVKPA</td>\n",
       "    </tr>\n",
       "  </tbody>\n",
       "</table>\n",
       "</div>"
      ],
      "text/plain": [
       "  restaurant_id             business_id\n",
       "0      Y1Em4GOw  5Kdf1DGbRScRk6Cx3jaX8w\n",
       "1      KAoKP6Og  Urw6NASrebP6tyFdjwjkwQ\n",
       "2      WeEe7eoa  xlOE7jqbW1Q_PrvLBVlegQ\n",
       "3      V430mqoB  ktYpqtygWIJ2RjVPGTxNaA\n",
       "4      ekE4Qz32  n8CsQy7Iy1IMhP85hPVKPA"
      ]
     },
     "execution_count": 99,
     "metadata": {},
     "output_type": "execute_result"
    }
   ],
   "source": [
    "trans = pd.read_csv('data/restaurant_ids_to_yelp_ids.csv')\n",
    "trans = trans[trans['yelp_id_1'].isnull()]\n",
    "trans.drop(['yelp_id_1', 'yelp_id_2', 'yelp_id_3'], axis=1, inplace=True)\n",
    "trans.columns = ['restaurant_id', 'business_id']\n",
    "trans.head()"
   ]
  },
  {
   "cell_type": "code",
   "execution_count": 100,
   "metadata": {
    "collapsed": false
   },
   "outputs": [
    {
     "data": {
      "text/html": [
       "<div>\n",
       "<table border=\"1\" class=\"dataframe\">\n",
       "  <thead>\n",
       "    <tr style=\"text-align: right;\">\n",
       "      <th></th>\n",
       "      <th>attributes</th>\n",
       "      <th>business_id</th>\n",
       "      <th>categories</th>\n",
       "      <th>city</th>\n",
       "      <th>full_address</th>\n",
       "      <th>hours</th>\n",
       "      <th>latitude</th>\n",
       "      <th>longitude</th>\n",
       "      <th>name</th>\n",
       "      <th>neighborhoods</th>\n",
       "      <th>open</th>\n",
       "      <th>review_count</th>\n",
       "      <th>stars</th>\n",
       "      <th>state</th>\n",
       "      <th>type</th>\n",
       "      <th>price_range</th>\n",
       "    </tr>\n",
       "  </thead>\n",
       "  <tbody>\n",
       "    <tr>\n",
       "      <th>0</th>\n",
       "      <td>{u'Price Range': 1, u'Accepts Credit Cards': T...</td>\n",
       "      <td>Jp9svt7sRT4zwdbzQ8KQmw</td>\n",
       "      <td>[Bakeries, Food, Event Planning &amp; Services, Ca...</td>\n",
       "      <td>Boston</td>\n",
       "      <td>75 Federal Street\\nFinancial District\\nBoston,...</td>\n",
       "      <td>{}</td>\n",
       "      <td>42.355083</td>\n",
       "      <td>-71.056513</td>\n",
       "      <td>Rebecca's Cafe</td>\n",
       "      <td>[Financial District]</td>\n",
       "      <td>False</td>\n",
       "      <td>6</td>\n",
       "      <td>3.5</td>\n",
       "      <td>MA</td>\n",
       "      <td>business</td>\n",
       "      <td>1</td>\n",
       "    </tr>\n",
       "    <tr>\n",
       "      <th>1</th>\n",
       "      <td>{u'Take-out': True, u'Price Range': 1, u'Outdo...</td>\n",
       "      <td>CgdK8DiyX9Y4kTKEPi_qgA</td>\n",
       "      <td>[Delis, Restaurants, Event Planning &amp; Services...</td>\n",
       "      <td>Boston</td>\n",
       "      <td>8 City Hall Ave\\nBeacon Hill\\nBoston, MA 02108</td>\n",
       "      <td>{u'Tuesday': {u'close': u'15:00', u'open': u'0...</td>\n",
       "      <td>42.357500</td>\n",
       "      <td>-71.069100</td>\n",
       "      <td>Delicato Cafe &amp; Caterer</td>\n",
       "      <td>[Beacon Hill]</td>\n",
       "      <td>False</td>\n",
       "      <td>44</td>\n",
       "      <td>4.0</td>\n",
       "      <td>MA</td>\n",
       "      <td>business</td>\n",
       "      <td>1</td>\n",
       "    </tr>\n",
       "    <tr>\n",
       "      <th>2</th>\n",
       "      <td>{u'Take-out': True, u'Price Range': 1, u'Outdo...</td>\n",
       "      <td>SAnMTC1rm-PhP8DQC4zeyg</td>\n",
       "      <td>[Delis, Restaurants]</td>\n",
       "      <td>Boston</td>\n",
       "      <td>2 Center Plz\\nDowntown\\nBoston, MA 02108</td>\n",
       "      <td>{u'Tuesday': {u'close': u'16:00', u'open': u'0...</td>\n",
       "      <td>42.360074</td>\n",
       "      <td>-71.060187</td>\n",
       "      <td>Plaza Deli</td>\n",
       "      <td>[Downtown]</td>\n",
       "      <td>True</td>\n",
       "      <td>12</td>\n",
       "      <td>3.0</td>\n",
       "      <td>MA</td>\n",
       "      <td>business</td>\n",
       "      <td>1</td>\n",
       "    </tr>\n",
       "  </tbody>\n",
       "</table>\n",
       "</div>"
      ],
      "text/plain": [
       "                                          attributes             business_id  \\\n",
       "0  {u'Price Range': 1, u'Accepts Credit Cards': T...  Jp9svt7sRT4zwdbzQ8KQmw   \n",
       "1  {u'Take-out': True, u'Price Range': 1, u'Outdo...  CgdK8DiyX9Y4kTKEPi_qgA   \n",
       "2  {u'Take-out': True, u'Price Range': 1, u'Outdo...  SAnMTC1rm-PhP8DQC4zeyg   \n",
       "\n",
       "                                          categories    city  \\\n",
       "0  [Bakeries, Food, Event Planning & Services, Ca...  Boston   \n",
       "1  [Delis, Restaurants, Event Planning & Services...  Boston   \n",
       "2                               [Delis, Restaurants]  Boston   \n",
       "\n",
       "                                        full_address  \\\n",
       "0  75 Federal Street\\nFinancial District\\nBoston,...   \n",
       "1     8 City Hall Ave\\nBeacon Hill\\nBoston, MA 02108   \n",
       "2           2 Center Plz\\nDowntown\\nBoston, MA 02108   \n",
       "\n",
       "                                               hours   latitude  longitude  \\\n",
       "0                                                 {}  42.355083 -71.056513   \n",
       "1  {u'Tuesday': {u'close': u'15:00', u'open': u'0...  42.357500 -71.069100   \n",
       "2  {u'Tuesday': {u'close': u'16:00', u'open': u'0...  42.360074 -71.060187   \n",
       "\n",
       "                      name         neighborhoods   open  review_count  stars  \\\n",
       "0           Rebecca's Cafe  [Financial District]  False             6    3.5   \n",
       "1  Delicato Cafe & Caterer         [Beacon Hill]  False            44    4.0   \n",
       "2               Plaza Deli            [Downtown]   True            12    3.0   \n",
       "\n",
       "  state      type  price_range  \n",
       "0    MA  business            1  \n",
       "1    MA  business            1  \n",
       "2    MA  business            1  "
      ]
     },
     "execution_count": 100,
     "metadata": {},
     "output_type": "execute_result"
    }
   ],
   "source": [
    "from helper_methods import read_json\n",
    "df_biz = read_json('data/yelp_academic_dataset_business.json')\n",
    "df_biz['price_range'] = df_biz.attributes.apply(lambda x: x['Price Range'] if 'Price Range' in x.keys() else 0)\n",
    "df_biz.head(3)"
   ]
  },
  {
   "cell_type": "markdown",
   "metadata": {},
   "source": [
    "It is fun to work with the restaurant name instead of the restaurant_id so join the dataframes:"
   ]
  },
  {
   "cell_type": "code",
   "execution_count": 101,
   "metadata": {
    "collapsed": false
   },
   "outputs": [
    {
     "data": {
      "text/html": [
       "<div>\n",
       "<table border=\"1\" class=\"dataframe\">\n",
       "  <thead>\n",
       "    <tr style=\"text-align: right;\">\n",
       "      <th></th>\n",
       "      <th>restaurant_id</th>\n",
       "      <th>business_id</th>\n",
       "      <th>attributes</th>\n",
       "      <th>categories</th>\n",
       "      <th>city</th>\n",
       "      <th>full_address</th>\n",
       "      <th>hours</th>\n",
       "      <th>latitude</th>\n",
       "      <th>longitude</th>\n",
       "      <th>name</th>\n",
       "      <th>neighborhoods</th>\n",
       "      <th>open</th>\n",
       "      <th>review_count</th>\n",
       "      <th>stars</th>\n",
       "      <th>state</th>\n",
       "      <th>type</th>\n",
       "      <th>price_range</th>\n",
       "    </tr>\n",
       "  </thead>\n",
       "  <tbody>\n",
       "    <tr>\n",
       "      <th>0</th>\n",
       "      <td>Y1Em4GOw</td>\n",
       "      <td>5Kdf1DGbRScRk6Cx3jaX8w</td>\n",
       "      <td>{u'Alcohol': u'full_bar', u'Noise Level': u'lo...</td>\n",
       "      <td>[Nightlife, Korean, Bars, Restaurants]</td>\n",
       "      <td>Allston</td>\n",
       "      <td>90-92 Harvard Ave\\nAllston/Brighton\\nAllston, ...</td>\n",
       "      <td>{u'Monday': {u'close': u'01:00', u'open': u'17...</td>\n",
       "      <td>42.353256</td>\n",
       "      <td>-71.132136</td>\n",
       "      <td>Myung Dong 1st Ave</td>\n",
       "      <td>[Allston/Brighton]</td>\n",
       "      <td>True</td>\n",
       "      <td>178</td>\n",
       "      <td>3.5</td>\n",
       "      <td>MA</td>\n",
       "      <td>business</td>\n",
       "      <td>2</td>\n",
       "    </tr>\n",
       "    <tr>\n",
       "      <th>1</th>\n",
       "      <td>KAoKP6Og</td>\n",
       "      <td>Urw6NASrebP6tyFdjwjkwQ</td>\n",
       "      <td>{u'Take-out': True, u'Accepts Credit Cards': T...</td>\n",
       "      <td>[Fast Food, Sandwiches, Restaurants]</td>\n",
       "      <td>Allston</td>\n",
       "      <td>260 Western Ave\\nAllston/Brighton\\nAllston, MA...</td>\n",
       "      <td>{u'Monday': {u'close': u'22:00', u'open': u'09...</td>\n",
       "      <td>42.362938</td>\n",
       "      <td>-71.133210</td>\n",
       "      <td>Subway</td>\n",
       "      <td>[Allston/Brighton]</td>\n",
       "      <td>True</td>\n",
       "      <td>16</td>\n",
       "      <td>2.5</td>\n",
       "      <td>MA</td>\n",
       "      <td>business</td>\n",
       "      <td>1</td>\n",
       "    </tr>\n",
       "    <tr>\n",
       "      <th>2</th>\n",
       "      <td>WeEe7eoa</td>\n",
       "      <td>xlOE7jqbW1Q_PrvLBVlegQ</td>\n",
       "      <td>{u'Accepts Credit Cards': False, u'Price Range...</td>\n",
       "      <td>[Food, Coffee &amp; Tea]</td>\n",
       "      <td>Roslindale</td>\n",
       "      <td>2 Belgrade Ave\\nRoslindale Village\\nRoslindale...</td>\n",
       "      <td>{}</td>\n",
       "      <td>42.287194</td>\n",
       "      <td>-71.129706</td>\n",
       "      <td>Emac &amp; Bolio's</td>\n",
       "      <td>[Roslindale Village, Roslindale]</td>\n",
       "      <td>False</td>\n",
       "      <td>6</td>\n",
       "      <td>3.5</td>\n",
       "      <td>MA</td>\n",
       "      <td>business</td>\n",
       "      <td>2</td>\n",
       "    </tr>\n",
       "  </tbody>\n",
       "</table>\n",
       "</div>"
      ],
      "text/plain": [
       "  restaurant_id             business_id  \\\n",
       "0      Y1Em4GOw  5Kdf1DGbRScRk6Cx3jaX8w   \n",
       "1      KAoKP6Og  Urw6NASrebP6tyFdjwjkwQ   \n",
       "2      WeEe7eoa  xlOE7jqbW1Q_PrvLBVlegQ   \n",
       "\n",
       "                                          attributes  \\\n",
       "0  {u'Alcohol': u'full_bar', u'Noise Level': u'lo...   \n",
       "1  {u'Take-out': True, u'Accepts Credit Cards': T...   \n",
       "2  {u'Accepts Credit Cards': False, u'Price Range...   \n",
       "\n",
       "                               categories        city  \\\n",
       "0  [Nightlife, Korean, Bars, Restaurants]     Allston   \n",
       "1    [Fast Food, Sandwiches, Restaurants]     Allston   \n",
       "2                    [Food, Coffee & Tea]  Roslindale   \n",
       "\n",
       "                                        full_address  \\\n",
       "0  90-92 Harvard Ave\\nAllston/Brighton\\nAllston, ...   \n",
       "1  260 Western Ave\\nAllston/Brighton\\nAllston, MA...   \n",
       "2  2 Belgrade Ave\\nRoslindale Village\\nRoslindale...   \n",
       "\n",
       "                                               hours   latitude  longitude  \\\n",
       "0  {u'Monday': {u'close': u'01:00', u'open': u'17...  42.353256 -71.132136   \n",
       "1  {u'Monday': {u'close': u'22:00', u'open': u'09...  42.362938 -71.133210   \n",
       "2                                                 {}  42.287194 -71.129706   \n",
       "\n",
       "                 name                     neighborhoods   open  review_count  \\\n",
       "0  Myung Dong 1st Ave                [Allston/Brighton]   True           178   \n",
       "1              Subway                [Allston/Brighton]   True            16   \n",
       "2      Emac & Bolio's  [Roslindale Village, Roslindale]  False             6   \n",
       "\n",
       "   stars state      type  price_range  \n",
       "0    3.5    MA  business            2  \n",
       "1    2.5    MA  business            1  \n",
       "2    3.5    MA  business            2  "
      ]
     },
     "execution_count": 101,
     "metadata": {},
     "output_type": "execute_result"
    }
   ],
   "source": [
    "name_id_yelp = pd.merge(trans, df_biz, on='business_id', how='inner')\n",
    "name_id_yelp.head(3)"
   ]
  },
  {
   "cell_type": "markdown",
   "metadata": {},
   "source": [
    "### Introduce weighted_violations which is an overall measure of violations"
   ]
  },
  {
   "cell_type": "code",
   "execution_count": 102,
   "metadata": {
    "collapsed": false
   },
   "outputs": [
    {
     "data": {
      "text/html": [
       "<div>\n",
       "<table border=\"1\" class=\"dataframe\">\n",
       "  <thead>\n",
       "    <tr style=\"text-align: right;\">\n",
       "      <th></th>\n",
       "      <th>id</th>\n",
       "      <th>date</th>\n",
       "      <th>restaurant_id</th>\n",
       "      <th>*</th>\n",
       "      <th>**</th>\n",
       "      <th>***</th>\n",
       "      <th>weighted_violations</th>\n",
       "    </tr>\n",
       "  </thead>\n",
       "  <tbody>\n",
       "    <tr>\n",
       "      <th>1801</th>\n",
       "      <td>28144</td>\n",
       "      <td>2007-09-21</td>\n",
       "      <td>0ZED0WED</td>\n",
       "      <td>3</td>\n",
       "      <td>1</td>\n",
       "      <td>0</td>\n",
       "      <td>6</td>\n",
       "    </tr>\n",
       "    <tr>\n",
       "      <th>551</th>\n",
       "      <td>24765</td>\n",
       "      <td>2008-03-26</td>\n",
       "      <td>0ZED0WED</td>\n",
       "      <td>3</td>\n",
       "      <td>1</td>\n",
       "      <td>0</td>\n",
       "      <td>6</td>\n",
       "    </tr>\n",
       "    <tr>\n",
       "      <th>5460</th>\n",
       "      <td>25193</td>\n",
       "      <td>2008-10-08</td>\n",
       "      <td>0ZED0WED</td>\n",
       "      <td>6</td>\n",
       "      <td>2</td>\n",
       "      <td>4</td>\n",
       "      <td>32</td>\n",
       "    </tr>\n",
       "    <tr>\n",
       "      <th>3641</th>\n",
       "      <td>12775</td>\n",
       "      <td>2009-03-03</td>\n",
       "      <td>0ZED0WED</td>\n",
       "      <td>3</td>\n",
       "      <td>0</td>\n",
       "      <td>0</td>\n",
       "      <td>3</td>\n",
       "    </tr>\n",
       "    <tr>\n",
       "      <th>18452</th>\n",
       "      <td>25850</td>\n",
       "      <td>2009-07-23</td>\n",
       "      <td>0ZED0WED</td>\n",
       "      <td>1</td>\n",
       "      <td>0</td>\n",
       "      <td>2</td>\n",
       "      <td>11</td>\n",
       "    </tr>\n",
       "  </tbody>\n",
       "</table>\n",
       "</div>"
      ],
      "text/plain": [
       "          id       date restaurant_id  *  **  ***  weighted_violations\n",
       "1801   28144 2007-09-21      0ZED0WED  3   1    0                    6\n",
       "551    24765 2008-03-26      0ZED0WED  3   1    0                    6\n",
       "5460   25193 2008-10-08      0ZED0WED  6   2    4                   32\n",
       "3641   12775 2009-03-03      0ZED0WED  3   0    0                    3\n",
       "18452  25850 2009-07-23      0ZED0WED  1   0    2                   11"
      ]
     },
     "execution_count": 102,
     "metadata": {},
     "output_type": "execute_result"
    }
   ],
   "source": [
    "df['weighted_violations'] = 1 * df['*'] + 3 * df['**'] + 5 * df['***']\n",
    "df.head()"
   ]
  },
  {
   "cell_type": "markdown",
   "metadata": {},
   "source": [
    "Compute the average violations for each restaurant (one may also consider the mean):"
   ]
  },
  {
   "cell_type": "code",
   "execution_count": 103,
   "metadata": {
    "collapsed": false
   },
   "outputs": [
    {
     "data": {
      "text/html": [
       "<div>\n",
       "<table border=\"1\" class=\"dataframe\">\n",
       "  <thead>\n",
       "    <tr>\n",
       "      <th></th>\n",
       "      <th colspan=\"2\" halign=\"left\">weighted_violations</th>\n",
       "      <th colspan=\"3\" halign=\"left\">*</th>\n",
       "      <th colspan=\"2\" halign=\"left\">***</th>\n",
       "      <th colspan=\"2\" halign=\"left\">**</th>\n",
       "    </tr>\n",
       "    <tr>\n",
       "      <th></th>\n",
       "      <th>mean</th>\n",
       "      <th>sum</th>\n",
       "      <th>size</th>\n",
       "      <th>mean</th>\n",
       "      <th>sum</th>\n",
       "      <th>mean</th>\n",
       "      <th>sum</th>\n",
       "      <th>mean</th>\n",
       "      <th>sum</th>\n",
       "    </tr>\n",
       "    <tr>\n",
       "      <th>restaurant_id</th>\n",
       "      <th></th>\n",
       "      <th></th>\n",
       "      <th></th>\n",
       "      <th></th>\n",
       "      <th></th>\n",
       "      <th></th>\n",
       "      <th></th>\n",
       "      <th></th>\n",
       "      <th></th>\n",
       "    </tr>\n",
       "  </thead>\n",
       "  <tbody>\n",
       "    <tr>\n",
       "      <th>N6OkRvox</th>\n",
       "      <td>50.000000</td>\n",
       "      <td>100</td>\n",
       "      <td>2</td>\n",
       "      <td>19.000000</td>\n",
       "      <td>38</td>\n",
       "      <td>5.000000</td>\n",
       "      <td>10</td>\n",
       "      <td>2.000000</td>\n",
       "      <td>4</td>\n",
       "    </tr>\n",
       "    <tr>\n",
       "      <th>VpoGe9Er</th>\n",
       "      <td>38.000000</td>\n",
       "      <td>38</td>\n",
       "      <td>1</td>\n",
       "      <td>7.000000</td>\n",
       "      <td>7</td>\n",
       "      <td>5.000000</td>\n",
       "      <td>5</td>\n",
       "      <td>2.000000</td>\n",
       "      <td>2</td>\n",
       "    </tr>\n",
       "    <tr>\n",
       "      <th>ZBEnAqOY</th>\n",
       "      <td>32.666667</td>\n",
       "      <td>98</td>\n",
       "      <td>3</td>\n",
       "      <td>8.333333</td>\n",
       "      <td>25</td>\n",
       "      <td>3.666667</td>\n",
       "      <td>11</td>\n",
       "      <td>2.000000</td>\n",
       "      <td>6</td>\n",
       "    </tr>\n",
       "    <tr>\n",
       "      <th>N6OkxvEx</th>\n",
       "      <td>28.000000</td>\n",
       "      <td>84</td>\n",
       "      <td>3</td>\n",
       "      <td>7.666667</td>\n",
       "      <td>23</td>\n",
       "      <td>3.666667</td>\n",
       "      <td>11</td>\n",
       "      <td>0.666667</td>\n",
       "      <td>2</td>\n",
       "    </tr>\n",
       "    <tr>\n",
       "      <th>WwOapwoB</th>\n",
       "      <td>28.000000</td>\n",
       "      <td>28</td>\n",
       "      <td>1</td>\n",
       "      <td>18.000000</td>\n",
       "      <td>18</td>\n",
       "      <td>2.000000</td>\n",
       "      <td>2</td>\n",
       "      <td>0.000000</td>\n",
       "      <td>0</td>\n",
       "    </tr>\n",
       "  </tbody>\n",
       "</table>\n",
       "</div>"
      ],
      "text/plain": [
       "              weighted_violations         *                      ***      \\\n",
       "                             mean  sum size       mean sum      mean sum   \n",
       "restaurant_id                                                              \n",
       "N6OkRvox                50.000000  100    2  19.000000  38  5.000000  10   \n",
       "VpoGe9Er                38.000000   38    1   7.000000   7  5.000000   5   \n",
       "ZBEnAqOY                32.666667   98    3   8.333333  25  3.666667  11   \n",
       "N6OkxvEx                28.000000   84    3   7.666667  23  3.666667  11   \n",
       "WwOapwoB                28.000000   28    1  18.000000  18  2.000000   2   \n",
       "\n",
       "                     **      \n",
       "                   mean sum  \n",
       "restaurant_id                \n",
       "N6OkRvox       2.000000   4  \n",
       "VpoGe9Er       2.000000   2  \n",
       "ZBEnAqOY       2.000000   6  \n",
       "N6OkxvEx       0.666667   2  \n",
       "WwOapwoB       0.000000   0  "
      ]
     },
     "execution_count": 103,
     "metadata": {},
     "output_type": "execute_result"
    }
   ],
   "source": [
    "avg_violations = df.groupby('restaurant_id').agg({'*': [np.size, np.mean, np.sum], '**': [np.mean, np.sum], '***': [np.mean, np.sum], 'weighted_violations': [np.mean, np.sum]})\n",
    "avg_violations.sort_values([('weighted_violations', 'mean')], ascending=False).head(5)"
   ]
  },
  {
   "cell_type": "code",
   "execution_count": 104,
   "metadata": {
    "collapsed": false,
    "scrolled": true
   },
   "outputs": [
    {
     "data": {
      "text/html": [
       "<div>\n",
       "<table border=\"1\" class=\"dataframe\">\n",
       "  <thead>\n",
       "    <tr style=\"text-align: right;\">\n",
       "      <th></th>\n",
       "      <th>restaurant_id</th>\n",
       "      <th>business_id</th>\n",
       "      <th>attributes</th>\n",
       "      <th>categories</th>\n",
       "      <th>city</th>\n",
       "      <th>full_address</th>\n",
       "      <th>hours</th>\n",
       "      <th>latitude</th>\n",
       "      <th>longitude</th>\n",
       "      <th>name</th>\n",
       "      <th>...</th>\n",
       "      <th>price_range</th>\n",
       "      <th>(weighted_violations, mean)</th>\n",
       "      <th>(weighted_violations, sum)</th>\n",
       "      <th>(*, size)</th>\n",
       "      <th>(*, mean)</th>\n",
       "      <th>(*, sum)</th>\n",
       "      <th>(***, mean)</th>\n",
       "      <th>(***, sum)</th>\n",
       "      <th>(**, mean)</th>\n",
       "      <th>(**, sum)</th>\n",
       "    </tr>\n",
       "  </thead>\n",
       "  <tbody>\n",
       "    <tr>\n",
       "      <th>0</th>\n",
       "      <td>Y1Em4GOw</td>\n",
       "      <td>5Kdf1DGbRScRk6Cx3jaX8w</td>\n",
       "      <td>{u'Alcohol': u'full_bar', u'Noise Level': u'lo...</td>\n",
       "      <td>[Nightlife, Korean, Bars, Restaurants]</td>\n",
       "      <td>Allston</td>\n",
       "      <td>90-92 Harvard Ave\\nAllston/Brighton\\nAllston, ...</td>\n",
       "      <td>{u'Monday': {u'close': u'01:00', u'open': u'17...</td>\n",
       "      <td>42.353256</td>\n",
       "      <td>-71.132136</td>\n",
       "      <td>Myung Dong 1st Ave</td>\n",
       "      <td>...</td>\n",
       "      <td>2</td>\n",
       "      <td>1.0</td>\n",
       "      <td>1</td>\n",
       "      <td>1</td>\n",
       "      <td>1.0</td>\n",
       "      <td>1</td>\n",
       "      <td>0.0</td>\n",
       "      <td>0</td>\n",
       "      <td>0.0</td>\n",
       "      <td>0</td>\n",
       "    </tr>\n",
       "    <tr>\n",
       "      <th>1</th>\n",
       "      <td>KAoKP6Og</td>\n",
       "      <td>Urw6NASrebP6tyFdjwjkwQ</td>\n",
       "      <td>{u'Take-out': True, u'Accepts Credit Cards': T...</td>\n",
       "      <td>[Fast Food, Sandwiches, Restaurants]</td>\n",
       "      <td>Allston</td>\n",
       "      <td>260 Western Ave\\nAllston/Brighton\\nAllston, MA...</td>\n",
       "      <td>{u'Monday': {u'close': u'22:00', u'open': u'09...</td>\n",
       "      <td>42.362938</td>\n",
       "      <td>-71.133210</td>\n",
       "      <td>Subway</td>\n",
       "      <td>...</td>\n",
       "      <td>1</td>\n",
       "      <td>5.4</td>\n",
       "      <td>27</td>\n",
       "      <td>5</td>\n",
       "      <td>3.4</td>\n",
       "      <td>17</td>\n",
       "      <td>0.4</td>\n",
       "      <td>2</td>\n",
       "      <td>0.0</td>\n",
       "      <td>0</td>\n",
       "    </tr>\n",
       "    <tr>\n",
       "      <th>2</th>\n",
       "      <td>WeEe7eoa</td>\n",
       "      <td>xlOE7jqbW1Q_PrvLBVlegQ</td>\n",
       "      <td>{u'Accepts Credit Cards': False, u'Price Range...</td>\n",
       "      <td>[Food, Coffee &amp; Tea]</td>\n",
       "      <td>Roslindale</td>\n",
       "      <td>2 Belgrade Ave\\nRoslindale Village\\nRoslindale...</td>\n",
       "      <td>{}</td>\n",
       "      <td>42.287194</td>\n",
       "      <td>-71.129706</td>\n",
       "      <td>Emac &amp; Bolio's</td>\n",
       "      <td>...</td>\n",
       "      <td>2</td>\n",
       "      <td>2.0</td>\n",
       "      <td>4</td>\n",
       "      <td>2</td>\n",
       "      <td>2.0</td>\n",
       "      <td>4</td>\n",
       "      <td>0.0</td>\n",
       "      <td>0</td>\n",
       "      <td>0.0</td>\n",
       "      <td>0</td>\n",
       "    </tr>\n",
       "  </tbody>\n",
       "</table>\n",
       "<p>3 rows × 26 columns</p>\n",
       "</div>"
      ],
      "text/plain": [
       "  restaurant_id             business_id  \\\n",
       "0      Y1Em4GOw  5Kdf1DGbRScRk6Cx3jaX8w   \n",
       "1      KAoKP6Og  Urw6NASrebP6tyFdjwjkwQ   \n",
       "2      WeEe7eoa  xlOE7jqbW1Q_PrvLBVlegQ   \n",
       "\n",
       "                                          attributes  \\\n",
       "0  {u'Alcohol': u'full_bar', u'Noise Level': u'lo...   \n",
       "1  {u'Take-out': True, u'Accepts Credit Cards': T...   \n",
       "2  {u'Accepts Credit Cards': False, u'Price Range...   \n",
       "\n",
       "                               categories        city  \\\n",
       "0  [Nightlife, Korean, Bars, Restaurants]     Allston   \n",
       "1    [Fast Food, Sandwiches, Restaurants]     Allston   \n",
       "2                    [Food, Coffee & Tea]  Roslindale   \n",
       "\n",
       "                                        full_address  \\\n",
       "0  90-92 Harvard Ave\\nAllston/Brighton\\nAllston, ...   \n",
       "1  260 Western Ave\\nAllston/Brighton\\nAllston, MA...   \n",
       "2  2 Belgrade Ave\\nRoslindale Village\\nRoslindale...   \n",
       "\n",
       "                                               hours   latitude  longitude  \\\n",
       "0  {u'Monday': {u'close': u'01:00', u'open': u'17...  42.353256 -71.132136   \n",
       "1  {u'Monday': {u'close': u'22:00', u'open': u'09...  42.362938 -71.133210   \n",
       "2                                                 {}  42.287194 -71.129706   \n",
       "\n",
       "                 name    ...     price_range (weighted_violations, mean)  \\\n",
       "0  Myung Dong 1st Ave    ...               2                         1.0   \n",
       "1              Subway    ...               1                         5.4   \n",
       "2      Emac & Bolio's    ...               2                         2.0   \n",
       "\n",
       "   (weighted_violations, sum)  (*, size) (*, mean) (*, sum)  (***, mean)  \\\n",
       "0                           1          1       1.0        1          0.0   \n",
       "1                          27          5       3.4       17          0.4   \n",
       "2                           4          2       2.0        4          0.0   \n",
       "\n",
       "   (***, sum)  (**, mean)  (**, sum)  \n",
       "0           0         0.0          0  \n",
       "1           2         0.0          0  \n",
       "2           0         0.0          0  \n",
       "\n",
       "[3 rows x 26 columns]"
      ]
     },
     "execution_count": 104,
     "metadata": {},
     "output_type": "execute_result"
    }
   ],
   "source": [
    "biz_violations = pd.merge(name_id_yelp, avg_violations, left_on='restaurant_id', right_index=True, how='inner')\n",
    "biz_violations.head(3)"
   ]
  },
  {
   "cell_type": "code",
   "execution_count": 105,
   "metadata": {
    "collapsed": false
   },
   "outputs": [
    {
     "data": {
      "text/html": [
       "<div>\n",
       "<table border=\"1\" class=\"dataframe\">\n",
       "  <thead>\n",
       "    <tr style=\"text-align: right;\">\n",
       "      <th></th>\n",
       "      <th>name</th>\n",
       "      <th>stars</th>\n",
       "      <th>review_count</th>\n",
       "      <th>weighted_violations_mean</th>\n",
       "      <th>*_size</th>\n",
       "      <th>*_mean</th>\n",
       "      <th>**_mean</th>\n",
       "      <th>***_mean</th>\n",
       "    </tr>\n",
       "  </thead>\n",
       "  <tbody>\n",
       "    <tr>\n",
       "      <th>0</th>\n",
       "      <td>Myung Dong 1st Ave</td>\n",
       "      <td>3.5</td>\n",
       "      <td>178</td>\n",
       "      <td>1.000000</td>\n",
       "      <td>1</td>\n",
       "      <td>1.0</td>\n",
       "      <td>0.000000</td>\n",
       "      <td>0.000000</td>\n",
       "    </tr>\n",
       "    <tr>\n",
       "      <th>1</th>\n",
       "      <td>Subway</td>\n",
       "      <td>2.5</td>\n",
       "      <td>16</td>\n",
       "      <td>5.400000</td>\n",
       "      <td>5</td>\n",
       "      <td>3.4</td>\n",
       "      <td>0.000000</td>\n",
       "      <td>0.400000</td>\n",
       "    </tr>\n",
       "    <tr>\n",
       "      <th>2</th>\n",
       "      <td>Emac &amp; Bolio's</td>\n",
       "      <td>3.5</td>\n",
       "      <td>6</td>\n",
       "      <td>2.000000</td>\n",
       "      <td>2</td>\n",
       "      <td>2.0</td>\n",
       "      <td>0.000000</td>\n",
       "      <td>0.000000</td>\n",
       "    </tr>\n",
       "    <tr>\n",
       "      <th>3</th>\n",
       "      <td>Pic a Pasta</td>\n",
       "      <td>3.5</td>\n",
       "      <td>66</td>\n",
       "      <td>5.333333</td>\n",
       "      <td>3</td>\n",
       "      <td>2.0</td>\n",
       "      <td>0.000000</td>\n",
       "      <td>0.666667</td>\n",
       "    </tr>\n",
       "    <tr>\n",
       "      <th>4</th>\n",
       "      <td>North of the Border Mexican Grill</td>\n",
       "      <td>4.5</td>\n",
       "      <td>25</td>\n",
       "      <td>10.250000</td>\n",
       "      <td>12</td>\n",
       "      <td>3.5</td>\n",
       "      <td>0.166667</td>\n",
       "      <td>1.250000</td>\n",
       "    </tr>\n",
       "  </tbody>\n",
       "</table>\n",
       "</div>"
      ],
      "text/plain": [
       "                                name  stars  review_count  \\\n",
       "0                 Myung Dong 1st Ave    3.5           178   \n",
       "1                             Subway    2.5            16   \n",
       "2                     Emac & Bolio's    3.5             6   \n",
       "3                        Pic a Pasta    3.5            66   \n",
       "4  North of the Border Mexican Grill    4.5            25   \n",
       "\n",
       "   weighted_violations_mean  *_size  *_mean   **_mean  ***_mean  \n",
       "0                  1.000000       1     1.0  0.000000  0.000000  \n",
       "1                  5.400000       5     3.4  0.000000  0.400000  \n",
       "2                  2.000000       2     2.0  0.000000  0.000000  \n",
       "3                  5.333333       3     2.0  0.000000  0.666667  \n",
       "4                 10.250000      12     3.5  0.166667  1.250000  "
      ]
     },
     "execution_count": 105,
     "metadata": {},
     "output_type": "execute_result"
    }
   ],
   "source": [
    "biz_violations.columns = biz_violations.columns[:17].tolist() + map(lambda x: '_'.join([x[0], x[1]]), biz_violations.columns[17:])\n",
    "biz_violations[['name', 'stars', 'review_count', 'weighted_violations_mean', '*_size', '*_mean', '**_mean','***_mean']].head()"
   ]
  },
  {
   "cell_type": "markdown",
   "metadata": {},
   "source": [
    "Below we list the top 25 restaurants with the highest mean weighted violations:"
   ]
  },
  {
   "cell_type": "code",
   "execution_count": 106,
   "metadata": {
    "collapsed": false
   },
   "outputs": [
    {
     "data": {
      "image/png": "[encoded data removed]",
      "text/plain": [
       "<matplotlib.figure.Figure at 0x11291c210>"
      ]
     },
     "metadata": {},
     "output_type": "display_data"
    }
   ],
   "source": [
    "worst25 = biz_violations.sort_values(['weighted_violations_mean'], ascending=False).head(25)\n",
    "labels = map(lambda x: x.encode('ascii', 'ignore'), worst25.name)\n",
    "\n",
    "fig, ax = plt.subplots(1, 1, figsize=(13, 8))\n",
    "plt.barh(range(25), worst25['weighted_violations_mean'], align='center')\n",
    "plt.xlim(0, 60)\n",
    "plt.ylim(-0.5, 24.5)\n",
    "plt.yticks(range(25), labels)\n",
    "plt.title('Top 25 restaurants with the most violations')\n",
    "plt.xlabel('Average weighted violations')\n",
    "plt.tight_layout()"
   ]
  },
  {
   "cell_type": "markdown",
   "metadata": {},
   "source": [
    "### Let's look for correlations between business properties and the number of violations"
   ]
  },
  {
   "cell_type": "code",
   "execution_count": 107,
   "metadata": {
    "collapsed": false
   },
   "outputs": [
    {
     "data": {
      "text/plain": [
       "(0, 30)"
      ]
     },
     "execution_count": 107,
     "metadata": {},
     "output_type": "execute_result"
    },
    {
     "data": {
      "image/png": "[encoded data removed]",
      "text/plain": [
       "<matplotlib.figure.Figure at 0x1126a3f90>"
      ]
     },
     "metadata": {},
     "output_type": "display_data"
    }
   ],
   "source": [
    "plt.plot(biz_violations['weighted_violations_mean'], biz_violations['*_size'], '.')\n",
    "plt.xlabel('Number of average weighted violations')\n",
    "plt.ylabel('Number of inspections')\n",
    "plt.xlim(0, 30)"
   ]
  },
  {
   "cell_type": "code",
   "execution_count": 108,
   "metadata": {
    "collapsed": false
   },
   "outputs": [
    {
     "data": {
      "text/plain": [
       "(0.36019076455688287, 1.4422762458847863e-56)"
      ]
     },
     "execution_count": 108,
     "metadata": {},
     "output_type": "execute_result"
    }
   ],
   "source": [
    "from scipy.stats import pearsonr\n",
    "pearsonr(biz_violations['weighted_violations_mean'], biz_violations['*_size'])"
   ]
  },
  {
   "cell_type": "markdown",
   "metadata": {},
   "source": [
    "We see that there is a correlation between number of inspections and mean weighted violations. This suggests that inspectors are returning to the restaurants with the worst hygiene."
   ]
  },
  {
   "cell_type": "code",
   "execution_count": 109,
   "metadata": {
    "collapsed": false,
    "scrolled": false
   },
   "outputs": [
    {
     "data": {
      "text/plain": [
       "(0, 5)"
      ]
     },
     "execution_count": 109,
     "metadata": {},
     "output_type": "execute_result"
    },
    {
     "data": {
      "image/png": "[encoded data removed]",
      "text/plain": [
       "<matplotlib.figure.Figure at 0x114e1c2d0>"
      ]
     },
     "metadata": {},
     "output_type": "display_data"
    }
   ],
   "source": [
    "prices = [price + np.random.normal(loc=0.0, scale=0.1) for price in biz_violations[biz_violations['price_range'] != 0].price_range]\n",
    "plt.plot(prices, biz_violations[biz_violations['price_range'] != 0].weighted_violations_mean, '.')\n",
    "plt.xlabel('Price range of restaurant')\n",
    "plt.ylabel('Mean violations')\n",
    "plt.xlim(0, 5)"
   ]
  },
  {
   "cell_type": "code",
   "execution_count": 110,
   "metadata": {
    "collapsed": false,
    "scrolled": true
   },
   "outputs": [
    {
     "data": {
      "text/plain": [
       "(0.0084902153924064517, 0.72075226239132328)"
      ]
     },
     "execution_count": 110,
     "metadata": {},
     "output_type": "execute_result"
    }
   ],
   "source": [
    "pearsonr(biz_violations[biz_violations['price_range'] != 0].price_range, biz_violations[biz_violations['price_range'] != 0].weighted_violations_mean)"
   ]
  },
  {
   "cell_type": "markdown",
   "metadata": {},
   "source": [
    "This shows that there is no correlation between the price range of a restaurant and the number of violations."
   ]
  },
  {
   "cell_type": "markdown",
   "metadata": {},
   "source": [
    "Let's look at the unique neighborhoods:"
   ]
  },
  {
   "cell_type": "code",
   "execution_count": 111,
   "metadata": {
    "collapsed": false
   },
   "outputs": [
    {
     "data": {
      "text/plain": [
       "{u'Allston/Brighton',\n",
       " u'Back Bay',\n",
       " u'Beacon Hill',\n",
       " u'Central Square',\n",
       " u'Charlestown',\n",
       " u'Chinatown',\n",
       " u'Dorchester',\n",
       " u'Downtown',\n",
       " u'Dudley Square',\n",
       " u'East Boston',\n",
       " u'Egleston Square',\n",
       " u'Fenway',\n",
       " u'Fields Corner',\n",
       " u'Financial District',\n",
       " u'Hyde Park',\n",
       " u'Jamaica Plain',\n",
       " u'Leather District',\n",
       " u'Mattapan',\n",
       " u'Mission Hill',\n",
       " u'North End',\n",
       " u'Roslindale',\n",
       " u'Roslindale Village',\n",
       " u'South Boston',\n",
       " u'South End',\n",
       " u'Uphams Corner',\n",
       " u'Waterfront',\n",
       " u'West Roxbury',\n",
       " u'West Roxbury Center'}"
      ]
     },
     "execution_count": 111,
     "metadata": {},
     "output_type": "execute_result"
    }
   ],
   "source": [
    "neighborhoods = set(df_biz['neighborhoods'].sum())\n",
    "neighborhoods"
   ]
  },
  {
   "cell_type": "markdown",
   "metadata": {},
   "source": [
    "What is the average number of violations for restaurant with the Chinese category:"
   ]
  },
  {
   "cell_type": "code",
   "execution_count": 124,
   "metadata": {
    "collapsed": false
   },
   "outputs": [
    {
     "name": "stdout",
     "output_type": "stream",
     "text": [
      "<class 'pandas.core.frame.DataFrame'>\n",
      "Int64Index: 1810 entries, 0 to 1825\n",
      "Data columns (total 26 columns):\n",
      "restaurant_id               1810 non-null object\n",
      "business_id                 1810 non-null object\n",
      "attributes                  1810 non-null object\n",
      "categories                  1810 non-null object\n",
      "city                        1810 non-null object\n",
      "full_address                1810 non-null object\n",
      "hours                       1810 non-null object\n",
      "latitude                    1810 non-null float64\n",
      "longitude                   1810 non-null float64\n",
      "name                        1810 non-null object\n",
      "neighborhoods               1810 non-null object\n",
      "open                        1810 non-null bool\n",
      "review_count                1810 non-null int64\n",
      "stars                       1810 non-null float64\n",
      "state                       1810 non-null object\n",
      "type                        1810 non-null object\n",
      "price_range                 1810 non-null int64\n",
      "weighted_violations_mean    1810 non-null float64\n",
      "weighted_violations_sum     1810 non-null int64\n",
      "*_size                      1810 non-null int64\n",
      "*_mean                      1810 non-null float64\n",
      "*_sum                       1810 non-null int64\n",
      "***_mean                    1810 non-null float64\n",
      "***_sum                     1810 non-null int64\n",
      "**_mean                     1810 non-null float64\n",
      "**_sum                      1810 non-null int64\n",
      "dtypes: bool(1), float64(7), int64(7), object(11)\n",
      "memory usage: 369.4+ KB\n"
     ]
    }
   ],
   "source": [
    "biz_violations.info()"
   ]
  },
  {
   "cell_type": "code",
   "execution_count": 139,
   "metadata": {
    "collapsed": false
   },
   "outputs": [
    {
     "data": {
      "text/plain": [
       "(5.2367846058701604, 3.2165324339180295)"
      ]
     },
     "execution_count": 139,
     "metadata": {},
     "output_type": "execute_result"
    }
   ],
   "source": [
    "msk = biz_violations.categories.apply(lambda x: 'Chinese' in x)\n",
    "biz_violations[msk]['*_mean'].mean(), biz_violations[~msk]['*_mean'].mean()"
   ]
  },
  {
   "cell_type": "code",
   "execution_count": 143,
   "metadata": {
    "collapsed": false
   },
   "outputs": [
    {
     "name": "stdout",
     "output_type": "stream",
     "text": [
      "5.4  3.4  Tapas/Small Plates\n",
      "2.7  3.4  Fondue\n",
      "3.8  3.4  Buffets\n",
      "3.9  3.3  Gluten-Free\n",
      "2.6  3.4  Arts & Entertainment\n",
      "3.1  3.4  Sandwiches\n",
      "2.4  3.4  Austrian\n",
      "2.4  3.4  Creperies\n",
      "3.7  3.3  Sushi Bars\n",
      "3.1  3.4  Belgian\n",
      "0.0  3.4  Tea Rooms\n",
      "6.4  3.3  Dim Sum\n",
      "3.5  3.4  French\n",
      "1.9  3.4  Chocolatiers & Shops\n",
      "2.3  3.4  Juice Bars & Smoothies\n",
      "3.6  2.1  Restaurants\n",
      "3.6  3.4  Karaoke\n",
      "3.0  3.4  Men's Clothing\n",
      "3.2  3.4  Grocery\n",
      "6.7  3.4  Dominican\n",
      "2.7  3.4  Salad\n",
      "1.2  3.4  Educational Services\n",
      "3.6  3.4  Gelato\n",
      "2.8  3.4  Bubble Tea\n",
      "4.0  3.4  Food Delivery Services\n",
      "3.3  3.4  Nightlife\n",
      "2.3  3.4  Bowling\n",
      "2.6  3.4  Cocktail Bars\n",
      "2.6  3.4  Dive Bars\n",
      "3.2  3.4  Italian\n",
      "4.1  3.3  Steakhouses\n",
      "3.0  3.4  Fashion\n",
      "3.1  3.4  Mediterranean\n",
      "nan  3.4  Meat Shops\n",
      "1.4  3.4  Moroccan\n",
      "2.3  3.4  Active Life\n",
      "2.2  3.4  Desserts\n",
      "3.4  3.4  Delis\n",
      "2.1  3.4  Puerto Rican\n",
      "3.1  3.4  Hotels & Travel\n",
      "8.7  3.4  Cantonese\n",
      "4.2  3.4  Falafel\n",
      "2.4  3.4  Polish\n",
      "1.2  3.4  Education\n",
      "4.4  3.4  Tex-Mex\n",
      "3.2  3.4  Event Planning & Services\n",
      "2.7  3.4  Internet Cafes\n",
      "2.8  3.4  Irish Pub\n",
      "2.7  3.4  Chicken Wings\n",
      "2.7  3.4  Dance Clubs\n",
      "3.4  3.3  American (New)\n",
      "3.3  3.4  Caterers\n",
      "3.2  3.4  Breakfast & Brunch\n",
      "2.1  3.4  Food Stands\n",
      "0.9  3.4  Do-It-Yourself Food\n",
      "4.0  3.4  Senegalese\n",
      "4.5  3.3  Caribbean\n",
      "2.2  3.4  Shopping\n",
      "2.2  3.5  Coffee & Tea\n",
      "1.2  3.4  Cheesesteaks\n",
      "5.3  3.3  Tapas Bars\n",
      "1.7  3.4  Comedy Clubs\n",
      "8.3  3.4  Szechuan\n",
      "3.3  3.4  Lounges\n",
      "4.9  3.3  Thai\n",
      "2.9  3.4  Fish & Chips\n",
      "3.9  3.4  Halal\n",
      "3.4  3.4  Cuban\n",
      "1.8  3.4  Cajun/Creole\n",
      "2.6  3.4  Cafes\n",
      "3.0  3.4  Women's Clothing\n",
      "1.6  3.4  Museums\n",
      "3.1  3.4  Burgers\n",
      "2.1  3.4  Burmese\n",
      "2.4  3.4  Wineries\n",
      "2.5  3.4  African\n",
      "1.9  3.4  Art Galleries\n",
      "2.0  3.4  Ice Cream & Frozen Yogurt\n",
      "3.5  3.3  Bars\n",
      "5.2  3.2  Chinese\n",
      "2.6  3.4  Greek\n",
      "3.1  3.4  Asian Fusion\n",
      "1.9  3.4  Ethiopian\n",
      "1.5  3.4  Food Trucks\n",
      "4.9  3.4  Hot Pot\n",
      "7.0  3.4  Health Markets\n",
      "1.6  3.4  Performing Arts\n",
      "0.6  3.4  Cupcakes\n",
      "3.5  3.4  Turkish\n",
      "3.2  3.4  Adult Entertainment\n",
      "2.8  3.4  Hookah Bars\n",
      "4.5  3.3  Middle Eastern\n",
      "1.5  3.4  Live/Raw Food\n",
      "6.4  3.4  Bangladeshi\n",
      "3.8  3.3  Indian\n",
      "4.9  3.3  Latin American\n",
      "3.7  3.4  Brazilian\n",
      "1.1  3.4  Gay Bars\n",
      "3.9  3.3  Korean\n",
      "3.6  3.4  Pakistani\n",
      "4.7  3.3  Barbeque\n",
      "2.8  3.4  Hungarian\n",
      "3.7  3.4  Southern\n",
      "3.8  3.4  Vegan\n",
      "3.4  3.3  Pubs\n",
      "2.7  3.4  Persian/Iranian\n",
      "3.9  3.3  Diners\n",
      "3.8  3.3  Sports Bars\n",
      "4.0  3.4  Gastropubs\n",
      "3.3  3.4  Afghan\n",
      "1.0  3.4  Ramen\n",
      "nan  3.4  Seafood Markets\n",
      "3.1  3.4  Bakeries\n",
      "4.1  3.4  Vegetarian\n",
      "2.0  3.4  Breweries\n",
      "4.0  3.4  Malaysian\n",
      "1.0  3.4  Party & Event Planning\n",
      "3.1  3.4  Kosher\n",
      "3.0  3.4  Modern European\n",
      "3.4  3.4  Bookstores\n",
      "4.1  3.3  Irish\n",
      "nan  3.4  Fruits & Veggies\n",
      "4.3  3.4  German\n",
      "1.0  3.4  Tobacco Shops\n",
      "4.2  3.4  Taiwanese\n",
      "3.7  3.3  American (Traditional)\n",
      "3.8  3.4  Mongolian\n",
      "3.1  3.4  Wine Bars\n",
      "5.0  3.4  Basque\n",
      "3.1  3.4  Hotels\n",
      "5.3  3.3  Vietnamese\n",
      "1.7  3.4  Donuts\n",
      "2.8  3.4  Bagels\n",
      "4.5  3.4  Scottish\n",
      "2.6  3.4  Fast Food\n",
      "4.4  3.4  Venezuelan\n",
      "6.4  3.4  Colombian\n",
      "3.4  3.3  Pizza\n",
      "2.0  3.4  Pool Halls\n",
      "2.4  3.5  Food\n",
      "1.9  3.4  Beer, Wine & Spirits\n",
      "4.0  3.4  Himalayan/Nepalese\n",
      "3.3  3.4  Venues & Event Spaces\n",
      "2.7  3.4  Music Venues\n",
      "7.4  3.4  Lebanese\n",
      "4.8  3.4  Ethnic Food\n",
      "4.0  3.4  Specialty Food\n",
      "3.2  3.4  Jazz & Blues\n",
      "3.9  3.3  Seafood\n",
      "2.9  3.4  British\n",
      "3.1  3.4  Soup\n",
      "1.8  3.4  Convenience Stores\n",
      "3.2  3.4  Comfort Food\n",
      "4.4  3.4  Portuguese\n",
      "3.2  3.4  Mexican\n",
      "1.2  3.4  Colleges & Universities\n",
      "5.0  3.4  Peruvian\n",
      "2.8  3.4  Cheese Shops\n",
      "3.4  3.4  Japanese\n",
      "3.4  3.4  Books, Mags, Music & Video\n",
      "4.3  3.4  Cambodian\n",
      "2.1  3.4  Hot Dogs\n",
      "4.4  3.3  Spanish\n",
      "3.4  3.4  Soul Food\n"
     ]
    }
   ],
   "source": [
    "categories = set(df_biz['categories'].sum())\n",
    "for category in categories:\n",
    "    msk = biz_violations.categories.apply(lambda x: category in x)\n",
    "    print '%.1f  %.1f  %s' % (biz_violations[msk]['*_mean'].mean(), biz_violations[~msk]['*_mean'].mean(), category)"
   ]
  },
  {
   "cell_type": "code",
   "execution_count": 113,
   "metadata": {
    "collapsed": false
   },
   "outputs": [
    {
     "data": {
      "text/plain": [
       "{u'Accepts Credit Cards',\n",
       " u'Ages Allowed',\n",
       " u'Alcohol',\n",
       " u'Ambience',\n",
       " u'Attire',\n",
       " u'BYOB',\n",
       " u'BYOB/Corkage',\n",
       " u'By Appointment Only',\n",
       " u'Caters',\n",
       " u'Coat Check',\n",
       " u'Corkage',\n",
       " u'Delivery',\n",
       " u'Dietary Restrictions',\n",
       " u'Dogs Allowed',\n",
       " u'Drive-Thru',\n",
       " u'Good For',\n",
       " u'Good For Dancing',\n",
       " u'Good For Groups',\n",
       " u'Good For Kids',\n",
       " u'Good for Kids',\n",
       " u'Happy Hour',\n",
       " u'Has TV',\n",
       " u'Music',\n",
       " u'Noise Level',\n",
       " u'Open 24 Hours',\n",
       " u'Order at Counter',\n",
       " u'Outdoor Seating',\n",
       " u'Parking',\n",
       " u'Payment Types',\n",
       " u'Price Range',\n",
       " u'Smoking',\n",
       " u'Take-out',\n",
       " u'Takes Reservations',\n",
       " u'Waiter Service',\n",
       " u'Wheelchair Accessible',\n",
       " u'Wi-Fi'}"
      ]
     },
     "execution_count": 113,
     "metadata": {},
     "output_type": "execute_result"
    }
   ],
   "source": [
    "atts = set(df_biz['attributes'].apply(lambda x: x.keys()).sum())\n",
    "atts"
   ]
  },
  {
   "cell_type": "markdown",
   "metadata": {},
   "source": [
    "### How does the restaurant star ratings vary with average number of violations?"
   ]
  },
  {
   "cell_type": "code",
   "execution_count": 114,
   "metadata": {
    "collapsed": false,
    "scrolled": true
   },
   "outputs": [
    {
     "data": {
      "text/plain": [
       "(0, 6)"
      ]
     },
     "execution_count": 114,
     "metadata": {},
     "output_type": "execute_result"
    },
    {
     "data": {
      "image/png": "[encoded data removed]",
      "text/plain": [
       "<matplotlib.figure.Figure at 0x115a32e90>"
      ]
     },
     "metadata": {},
     "output_type": "display_data"
    }
   ],
   "source": [
    "fig, ax = plt.subplots(1, 1, figsize=(15, 5))\n",
    "star_values = [star + np.random.normal(loc=0.0, scale=0.1) for star in biz_violations.stars]\n",
    "plt.plot(biz_violations['weighted_violations_mean'], star_values, '.')\n",
    "plt.xlabel('Number of mean weighted violations')\n",
    "plt.ylabel('Star rating of restaurant')\n",
    "plt.xlim(0, 30)\n",
    "plt.ylim(0, 6)"
   ]
  },
  {
   "cell_type": "code",
   "execution_count": 115,
   "metadata": {
    "collapsed": false
   },
   "outputs": [
    {
     "data": {
      "text/plain": [
       "(-0.086141823784440463, 0.00024339077469063728)"
      ]
     },
     "execution_count": 115,
     "metadata": {},
     "output_type": "execute_result"
    }
   ],
   "source": [
    "pearsonr(biz_violations['weighted_violations_mean'], biz_violations.stars)"
   ]
  },
  {
   "cell_type": "markdown",
   "metadata": {},
   "source": [
    "It is surprising that the star rating of the restaurant does not correlate with the mean number of violations. One would think that restaurants with lots of violations would get a low star rating while those with few would have a high rating. This is not borne out in the data."
   ]
  },
  {
   "cell_type": "code",
   "execution_count": 116,
   "metadata": {
    "collapsed": false
   },
   "outputs": [
    {
     "data": {
      "text/plain": [
       "<matplotlib.text.Text at 0x11502a950>"
      ]
     },
     "execution_count": 116,
     "metadata": {},
     "output_type": "execute_result"
    },
    {
     "data": {
      "image/png": "[encoded data removed]",
      "text/plain": [
       "<matplotlib.figure.Figure at 0x114024d50>"
      ]
     },
     "metadata": {},
     "output_type": "display_data"
    }
   ],
   "source": [
    "fig, ax = plt.subplots(1, 1, figsize=(15, 5))\n",
    "star_values = [star + np.random.normal(loc=0.0, scale=0.1) for star in biz_violations.stars]\n",
    "plt.plot(biz_violations['***_mean'], star_values, '.', color='r')\n",
    "plt.xlabel('Average 3-star (***) violations')\n",
    "plt.ylabel('Star rating of restaurant')\n",
    "plt.xlim(0, 6)\n",
    "plt.ylim(0, 6)\n",
    "plt.title('')"
   ]
  },
  {
   "cell_type": "code",
   "execution_count": 117,
   "metadata": {
    "collapsed": false
   },
   "outputs": [
    {
     "data": {
      "text/plain": [
       "(-0.074182392238399508, 0.0015874956832724616)"
      ]
     },
     "execution_count": 117,
     "metadata": {},
     "output_type": "execute_result"
    }
   ],
   "source": [
    "pearsonr(biz_violations['***_mean'], biz_violations.stars)"
   ]
  },
  {
   "cell_type": "markdown",
   "metadata": {},
   "source": [
    "### How does the review count vary with violations?"
   ]
  },
  {
   "cell_type": "markdown",
   "metadata": {},
   "source": [
    "One may suspect that very good and very bad restaurants are the most written about. Again, here it would be nice to normalize by number of patrons per day or size of the restaurant. We do not have this data."
   ]
  },
  {
   "cell_type": "code",
   "execution_count": 118,
   "metadata": {
    "collapsed": false
   },
   "outputs": [
    {
     "data": {
      "text/plain": [
       "(0, 1500)"
      ]
     },
     "execution_count": 118,
     "metadata": {},
     "output_type": "execute_result"
    },
    {
     "data": {
      "image/png": "[encoded data removed]",
      "text/plain": [
       "<matplotlib.figure.Figure at 0x114dcfc50>"
      ]
     },
     "metadata": {},
     "output_type": "display_data"
    }
   ],
   "source": [
    "fig, ax = plt.subplots(1, 1, figsize=(15, 5))\n",
    "plt.plot(biz_violations['weighted_violations_mean'], biz_violations.review_count, '.')\n",
    "plt.xlabel('Average weighted violations')\n",
    "plt.ylabel('Number of reviews written')\n",
    "plt.xlim(0, 30)\n",
    "plt.ylim(0, 1500)"
   ]
  },
  {
   "cell_type": "code",
   "execution_count": 119,
   "metadata": {
    "collapsed": false
   },
   "outputs": [
    {
     "data": {
      "text/plain": [
       "(0.05488756070729852, 0.019528334537080558)"
      ]
     },
     "execution_count": 119,
     "metadata": {},
     "output_type": "execute_result"
    }
   ],
   "source": [
    "pearsonr(biz_violations['weighted_violations_mean'], biz_violations.review_count)"
   ]
  },
  {
   "cell_type": "code",
   "execution_count": 120,
   "metadata": {
    "collapsed": false
   },
   "outputs": [
    {
     "data": {
      "text/plain": [
       "(0, 1500)"
      ]
     },
     "execution_count": 120,
     "metadata": {},
     "output_type": "execute_result"
    },
    {
     "data": {
      "image/png": "[encoded data removed]",
      "text/plain": [
       "<matplotlib.figure.Figure at 0x115015810>"
      ]
     },
     "metadata": {},
     "output_type": "display_data"
    }
   ],
   "source": [
    "fig, ax = plt.subplots(1, 1, figsize=(15, 5))\n",
    "plt.plot(biz_violations[('***_mean')], biz_violations.review_count, '.', color='r')\n",
    "plt.xlabel('Average 3-star (***) violations')\n",
    "plt.ylabel('Number of reviews written')\n",
    "plt.xlim(0, 5)\n",
    "plt.ylim(0, 1500)"
   ]
  },
  {
   "cell_type": "code",
   "execution_count": 121,
   "metadata": {
    "collapsed": false
   },
   "outputs": [
    {
     "data": {
      "text/plain": [
       "(0.03229567014011725, 0.169628308089629)"
      ]
     },
     "execution_count": 121,
     "metadata": {},
     "output_type": "execute_result"
    }
   ],
   "source": [
    "pearsonr(biz_violations[('***_mean')], biz_violations.review_count)"
   ]
  },
  {
   "cell_type": "markdown",
   "metadata": {},
   "source": [
    "### Locations"
   ]
  },
  {
   "cell_type": "code",
   "execution_count": 122,
   "metadata": {
    "collapsed": false
   },
   "outputs": [
    {
     "data": {
      "text/plain": [
       "<matplotlib.text.Text at 0x114df0910>"
      ]
     },
     "execution_count": 122,
     "metadata": {},
     "output_type": "execute_result"
    },
    {
     "data": {
      "image/png": "[encoded data removed]",
      "text/plain": [
       "<matplotlib.figure.Figure at 0x115a323d0>"
      ]
     },
     "metadata": {},
     "output_type": "display_data"
    }
   ],
   "source": [
    "plt.plot(biz_violations.longitude, biz_violations.latitude, '.')\n",
    "plt.xlabel('Latitude')\n",
    "plt.ylabel('Longitude')"
   ]
  },
  {
   "cell_type": "markdown",
   "metadata": {},
   "source": [
    "### Conclusions"
   ]
  },
  {
   "cell_type": "markdown",
   "metadata": {},
   "source": [
    "As stated above, the business data do not give significant insight into predicting health inspection violations. It's time to create a model based on the user reviews and we do that in Part 3."
   ]
  }
 ],
 "metadata": {
  "kernelspec": {
   "display_name": "Python 2",
   "language": "python",
   "name": "python2"
  },
  "language_info": {
   "codemirror_mode": {
    "name": "ipython",
    "version": 2
   },
   "file_extension": ".py",
   "mimetype": "text/x-python",
   "name": "python",
   "nbconvert_exporter": "python",
   "pygments_lexer": "ipython2",
   "version": "2.7.5"
  }
 },
 "nbformat": 4,
 "nbformat_minor": 0
}
