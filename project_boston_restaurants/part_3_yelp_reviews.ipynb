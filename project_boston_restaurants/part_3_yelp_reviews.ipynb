{
 "cells": [
  {
   "cell_type": "markdown",
   "metadata": {},
   "source": [
    "# Jonathan Halverson\n",
    "# Part III: Keeping it Fresh: Predict Restaurant Inspections"
   ]
  },
  {
   "cell_type": "markdown",
   "metadata": {},
   "source": [
    "### This notebook creates a model for predicting health inspection violations using Yelp user review data. See earlier parts for exploratory data analysis involving the other data."
   ]
  },
  {
   "cell_type": "code",
   "execution_count": 1,
   "metadata": {
    "collapsed": true
   },
   "outputs": [],
   "source": [
    "import numpy as np\n",
    "import pandas as pd\n",
    "import matplotlib.pyplot as plt\n",
    "%matplotlib inline\n",
    "plt.style.use('halverson')"
   ]
  },
  {
   "cell_type": "markdown",
   "metadata": {},
   "source": [
    "### Load the training data, translation data and Yelp review data:"
   ]
  },
  {
   "cell_type": "code",
   "execution_count": 2,
   "metadata": {
    "collapsed": false
   },
   "outputs": [
    {
     "data": {
      "text/html": [
       "<div>\n",
       "<table border=\"1\" class=\"dataframe\">\n",
       "  <thead>\n",
       "    <tr style=\"text-align: right;\">\n",
       "      <th></th>\n",
       "      <th>id</th>\n",
       "      <th>inspect_date</th>\n",
       "      <th>restaurant_id</th>\n",
       "      <th>*</th>\n",
       "      <th>**</th>\n",
       "      <th>***</th>\n",
       "      <th>weighted_violations</th>\n",
       "    </tr>\n",
       "  </thead>\n",
       "  <tbody>\n",
       "    <tr>\n",
       "      <th>0</th>\n",
       "      <td>589</td>\n",
       "      <td>2010-02-02</td>\n",
       "      <td>KAoKWjog</td>\n",
       "      <td>3</td>\n",
       "      <td>0</td>\n",
       "      <td>1</td>\n",
       "      <td>8</td>\n",
       "    </tr>\n",
       "    <tr>\n",
       "      <th>1</th>\n",
       "      <td>28589</td>\n",
       "      <td>2009-12-10</td>\n",
       "      <td>p038M4om</td>\n",
       "      <td>2</td>\n",
       "      <td>0</td>\n",
       "      <td>0</td>\n",
       "      <td>2</td>\n",
       "    </tr>\n",
       "    <tr>\n",
       "      <th>2</th>\n",
       "      <td>31170</td>\n",
       "      <td>2008-07-16</td>\n",
       "      <td>B1oXymOV</td>\n",
       "      <td>4</td>\n",
       "      <td>0</td>\n",
       "      <td>0</td>\n",
       "      <td>4</td>\n",
       "    </tr>\n",
       "    <tr>\n",
       "      <th>3</th>\n",
       "      <td>2600</td>\n",
       "      <td>2015-01-30</td>\n",
       "      <td>m0oWJl3G</td>\n",
       "      <td>1</td>\n",
       "      <td>0</td>\n",
       "      <td>3</td>\n",
       "      <td>16</td>\n",
       "    </tr>\n",
       "    <tr>\n",
       "      <th>4</th>\n",
       "      <td>1016</td>\n",
       "      <td>2012-03-19</td>\n",
       "      <td>rJoQwlEV</td>\n",
       "      <td>0</td>\n",
       "      <td>0</td>\n",
       "      <td>0</td>\n",
       "      <td>0</td>\n",
       "    </tr>\n",
       "  </tbody>\n",
       "</table>\n",
       "</div>"
      ],
      "text/plain": [
       "      id inspect_date restaurant_id  *  **  ***  weighted_violations\n",
       "0    589   2010-02-02      KAoKWjog  3   0    1                    8\n",
       "1  28589   2009-12-10      p038M4om  2   0    0                    2\n",
       "2  31170   2008-07-16      B1oXymOV  4   0    0                    4\n",
       "3   2600   2015-01-30      m0oWJl3G  1   0    3                   16\n",
       "4   1016   2012-03-19      rJoQwlEV  0   0    0                    0"
      ]
     },
     "execution_count": 2,
     "metadata": {},
     "output_type": "execute_result"
    }
   ],
   "source": [
    "df = pd.read_csv('training_labels.txt')\n",
    "df['date'] = pd.to_datetime(df['date'])\n",
    "df.rename(columns={'date':'inspect_date'}, inplace=True)\n",
    "df['weighted_violations'] = 1 * df['*'] + 3 * df['**'] + 5 * df['***']\n",
    "df.head()"
   ]
  },
  {
   "cell_type": "code",
   "execution_count": 3,
   "metadata": {
    "collapsed": false
   },
   "outputs": [
    {
     "name": "stdout",
     "output_type": "stream",
     "text": [
      "<class 'pandas.core.frame.DataFrame'>\n",
      "RangeIndex: 27088 entries, 0 to 27087\n",
      "Data columns (total 7 columns):\n",
      "id                     27088 non-null int64\n",
      "inspect_date           27088 non-null datetime64[ns]\n",
      "restaurant_id          27088 non-null object\n",
      "*                      27088 non-null int64\n",
      "**                     27088 non-null int64\n",
      "***                    27088 non-null int64\n",
      "weighted_violations    27088 non-null int64\n",
      "dtypes: datetime64[ns](1), int64(5), object(1)\n",
      "memory usage: 1.4+ MB\n"
     ]
    }
   ],
   "source": [
    "df.info()"
   ]
  },
  {
   "cell_type": "code",
   "execution_count": 4,
   "metadata": {
    "collapsed": false
   },
   "outputs": [
    {
     "data": {
      "text/html": [
       "<div>\n",
       "<table border=\"1\" class=\"dataframe\">\n",
       "  <thead>\n",
       "    <tr>\n",
       "      <th></th>\n",
       "      <th colspan=\"2\" halign=\"left\">weighted_violations</th>\n",
       "      <th colspan=\"3\" halign=\"left\">*</th>\n",
       "      <th colspan=\"2\" halign=\"left\">***</th>\n",
       "      <th colspan=\"2\" halign=\"left\">**</th>\n",
       "    </tr>\n",
       "    <tr>\n",
       "      <th></th>\n",
       "      <th>mean</th>\n",
       "      <th>sum</th>\n",
       "      <th>size</th>\n",
       "      <th>mean</th>\n",
       "      <th>sum</th>\n",
       "      <th>mean</th>\n",
       "      <th>sum</th>\n",
       "      <th>mean</th>\n",
       "      <th>sum</th>\n",
       "    </tr>\n",
       "    <tr>\n",
       "      <th>restaurant_id</th>\n",
       "      <th></th>\n",
       "      <th></th>\n",
       "      <th></th>\n",
       "      <th></th>\n",
       "      <th></th>\n",
       "      <th></th>\n",
       "      <th></th>\n",
       "      <th></th>\n",
       "      <th></th>\n",
       "    </tr>\n",
       "  </thead>\n",
       "  <tbody>\n",
       "    <tr>\n",
       "      <th>N6OkRvox</th>\n",
       "      <td>50.000000</td>\n",
       "      <td>100</td>\n",
       "      <td>2</td>\n",
       "      <td>19.000000</td>\n",
       "      <td>38</td>\n",
       "      <td>5.000000</td>\n",
       "      <td>10</td>\n",
       "      <td>2.000000</td>\n",
       "      <td>4</td>\n",
       "    </tr>\n",
       "    <tr>\n",
       "      <th>ZBEnAqOY</th>\n",
       "      <td>39.000000</td>\n",
       "      <td>156</td>\n",
       "      <td>4</td>\n",
       "      <td>8.000000</td>\n",
       "      <td>32</td>\n",
       "      <td>5.000000</td>\n",
       "      <td>20</td>\n",
       "      <td>2.000000</td>\n",
       "      <td>8</td>\n",
       "    </tr>\n",
       "    <tr>\n",
       "      <th>VpoGe9Er</th>\n",
       "      <td>38.000000</td>\n",
       "      <td>38</td>\n",
       "      <td>1</td>\n",
       "      <td>7.000000</td>\n",
       "      <td>7</td>\n",
       "      <td>5.000000</td>\n",
       "      <td>5</td>\n",
       "      <td>2.000000</td>\n",
       "      <td>2</td>\n",
       "    </tr>\n",
       "    <tr>\n",
       "      <th>NbE1xaOJ</th>\n",
       "      <td>28.153846</td>\n",
       "      <td>732</td>\n",
       "      <td>26</td>\n",
       "      <td>11.461538</td>\n",
       "      <td>298</td>\n",
       "      <td>2.807692</td>\n",
       "      <td>73</td>\n",
       "      <td>0.884615</td>\n",
       "      <td>23</td>\n",
       "    </tr>\n",
       "    <tr>\n",
       "      <th>WwOapwoB</th>\n",
       "      <td>28.000000</td>\n",
       "      <td>28</td>\n",
       "      <td>1</td>\n",
       "      <td>18.000000</td>\n",
       "      <td>18</td>\n",
       "      <td>2.000000</td>\n",
       "      <td>2</td>\n",
       "      <td>0.000000</td>\n",
       "      <td>0</td>\n",
       "    </tr>\n",
       "  </tbody>\n",
       "</table>\n",
       "</div>"
      ],
      "text/plain": [
       "              weighted_violations         *                       ***      \\\n",
       "                             mean  sum size       mean  sum      mean sum   \n",
       "restaurant_id                                                               \n",
       "N6OkRvox                50.000000  100    2  19.000000   38  5.000000  10   \n",
       "ZBEnAqOY                39.000000  156    4   8.000000   32  5.000000  20   \n",
       "VpoGe9Er                38.000000   38    1   7.000000    7  5.000000   5   \n",
       "NbE1xaOJ                28.153846  732   26  11.461538  298  2.807692  73   \n",
       "WwOapwoB                28.000000   28    1  18.000000   18  2.000000   2   \n",
       "\n",
       "                     **      \n",
       "                   mean sum  \n",
       "restaurant_id                \n",
       "N6OkRvox       2.000000   4  \n",
       "ZBEnAqOY       2.000000   8  \n",
       "VpoGe9Er       2.000000   2  \n",
       "NbE1xaOJ       0.884615  23  \n",
       "WwOapwoB       0.000000   0  "
      ]
     },
     "execution_count": 4,
     "metadata": {},
     "output_type": "execute_result"
    }
   ],
   "source": [
    "avg_violations = df.groupby('restaurant_id').agg({'*': [np.size, np.mean, np.sum], '**': [np.mean, np.sum], '***': [np.mean, np.sum], 'weighted_violations': [np.mean, np.sum]})\n",
    "avg_violations.sort_values([('weighted_violations', 'mean')], ascending=False).head(5)"
   ]
  },
  {
   "cell_type": "code",
   "execution_count": 5,
   "metadata": {
    "collapsed": false
   },
   "outputs": [
    {
     "data": {
      "text/html": [
       "<div>\n",
       "<table border=\"1\" class=\"dataframe\">\n",
       "  <thead>\n",
       "    <tr style=\"text-align: right;\">\n",
       "      <th></th>\n",
       "      <th>restaurant_id</th>\n",
       "      <th>business_id</th>\n",
       "    </tr>\n",
       "  </thead>\n",
       "  <tbody>\n",
       "    <tr>\n",
       "      <th>0</th>\n",
       "      <td>Y1Em4GOw</td>\n",
       "      <td>5Kdf1DGbRScRk6Cx3jaX8w</td>\n",
       "    </tr>\n",
       "    <tr>\n",
       "      <th>1</th>\n",
       "      <td>KAoKP6Og</td>\n",
       "      <td>Urw6NASrebP6tyFdjwjkwQ</td>\n",
       "    </tr>\n",
       "    <tr>\n",
       "      <th>2</th>\n",
       "      <td>WeEe7eoa</td>\n",
       "      <td>xlOE7jqbW1Q_PrvLBVlegQ</td>\n",
       "    </tr>\n",
       "    <tr>\n",
       "      <th>3</th>\n",
       "      <td>V430mqoB</td>\n",
       "      <td>ktYpqtygWIJ2RjVPGTxNaA</td>\n",
       "    </tr>\n",
       "    <tr>\n",
       "      <th>4</th>\n",
       "      <td>ekE4Qz32</td>\n",
       "      <td>n8CsQy7Iy1IMhP85hPVKPA</td>\n",
       "    </tr>\n",
       "  </tbody>\n",
       "</table>\n",
       "</div>"
      ],
      "text/plain": [
       "  restaurant_id             business_id\n",
       "0      Y1Em4GOw  5Kdf1DGbRScRk6Cx3jaX8w\n",
       "1      KAoKP6Og  Urw6NASrebP6tyFdjwjkwQ\n",
       "2      WeEe7eoa  xlOE7jqbW1Q_PrvLBVlegQ\n",
       "3      V430mqoB  ktYpqtygWIJ2RjVPGTxNaA\n",
       "4      ekE4Qz32  n8CsQy7Iy1IMhP85hPVKPA"
      ]
     },
     "execution_count": 5,
     "metadata": {},
     "output_type": "execute_result"
    }
   ],
   "source": [
    "from helper_methods import biz2yelp\n",
    "trans = biz2yelp()\n",
    "trans.columns = ['restaurant_id', 'business_id']\n",
    "trans.head()"
   ]
  },
  {
   "cell_type": "code",
   "execution_count": 6,
   "metadata": {
    "collapsed": false,
    "scrolled": true
   },
   "outputs": [
    {
     "data": {
      "text/html": [
       "<div>\n",
       "<table border=\"1\" class=\"dataframe\">\n",
       "  <thead>\n",
       "    <tr style=\"text-align: right;\">\n",
       "      <th></th>\n",
       "      <th>(weighted_violations, mean)</th>\n",
       "      <th>(weighted_violations, sum)</th>\n",
       "      <th>(*, size)</th>\n",
       "      <th>(*, mean)</th>\n",
       "      <th>(*, sum)</th>\n",
       "      <th>(***, mean)</th>\n",
       "      <th>(***, sum)</th>\n",
       "      <th>(**, mean)</th>\n",
       "      <th>(**, sum)</th>\n",
       "      <th>restaurant_id</th>\n",
       "      <th>business_id</th>\n",
       "    </tr>\n",
       "  </thead>\n",
       "  <tbody>\n",
       "    <tr>\n",
       "      <th>1229</th>\n",
       "      <td>12.958333</td>\n",
       "      <td>311</td>\n",
       "      <td>24</td>\n",
       "      <td>4.416667</td>\n",
       "      <td>106</td>\n",
       "      <td>1.208333</td>\n",
       "      <td>29</td>\n",
       "      <td>0.833333</td>\n",
       "      <td>20</td>\n",
       "      <td>0ZED0WED</td>\n",
       "      <td>72VT9KIsJ6ZJUo6wabbH5g</td>\n",
       "    </tr>\n",
       "    <tr>\n",
       "      <th>580</th>\n",
       "      <td>7.461538</td>\n",
       "      <td>97</td>\n",
       "      <td>13</td>\n",
       "      <td>2.846154</td>\n",
       "      <td>37</td>\n",
       "      <td>0.692308</td>\n",
       "      <td>9</td>\n",
       "      <td>0.384615</td>\n",
       "      <td>5</td>\n",
       "      <td>0ZED1B3D</td>\n",
       "      <td>1SEEvsE3sEoxha20jZmqqw</td>\n",
       "    </tr>\n",
       "    <tr>\n",
       "      <th>104</th>\n",
       "      <td>8.125000</td>\n",
       "      <td>65</td>\n",
       "      <td>8</td>\n",
       "      <td>5.000000</td>\n",
       "      <td>40</td>\n",
       "      <td>0.625000</td>\n",
       "      <td>5</td>\n",
       "      <td>0.000000</td>\n",
       "      <td>0</td>\n",
       "      <td>0ZED4ED9</td>\n",
       "      <td>4dzJvVWr-lvXPbtG_9Eqmw</td>\n",
       "    </tr>\n",
       "    <tr>\n",
       "      <th>833</th>\n",
       "      <td>20.631579</td>\n",
       "      <td>392</td>\n",
       "      <td>19</td>\n",
       "      <td>6.947368</td>\n",
       "      <td>132</td>\n",
       "      <td>2.105263</td>\n",
       "      <td>40</td>\n",
       "      <td>1.052632</td>\n",
       "      <td>20</td>\n",
       "      <td>0ZED4pED</td>\n",
       "      <td>peAzRMNYdZW8cL2cDYs2sw</td>\n",
       "    </tr>\n",
       "    <tr>\n",
       "      <th>854</th>\n",
       "      <td>7.375000</td>\n",
       "      <td>59</td>\n",
       "      <td>8</td>\n",
       "      <td>4.375000</td>\n",
       "      <td>35</td>\n",
       "      <td>0.000000</td>\n",
       "      <td>0</td>\n",
       "      <td>1.000000</td>\n",
       "      <td>8</td>\n",
       "      <td>0ZED543D</td>\n",
       "      <td>-l1T6N3FdzTG-Oavy7607Q</td>\n",
       "    </tr>\n",
       "  </tbody>\n",
       "</table>\n",
       "</div>"
      ],
      "text/plain": [
       "      (weighted_violations, mean)  (weighted_violations, sum)  (*, size)  \\\n",
       "1229                    12.958333                         311         24   \n",
       "580                      7.461538                          97         13   \n",
       "104                      8.125000                          65          8   \n",
       "833                     20.631579                         392         19   \n",
       "854                      7.375000                          59          8   \n",
       "\n",
       "      (*, mean)  (*, sum)  (***, mean)  (***, sum)  (**, mean)  (**, sum)  \\\n",
       "1229   4.416667       106     1.208333          29    0.833333         20   \n",
       "580    2.846154        37     0.692308           9    0.384615          5   \n",
       "104    5.000000        40     0.625000           5    0.000000          0   \n",
       "833    6.947368       132     2.105263          40    1.052632         20   \n",
       "854    4.375000        35     0.000000           0    1.000000          8   \n",
       "\n",
       "     restaurant_id             business_id  \n",
       "1229      0ZED0WED  72VT9KIsJ6ZJUo6wabbH5g  \n",
       "580       0ZED1B3D  1SEEvsE3sEoxha20jZmqqw  \n",
       "104       0ZED4ED9  4dzJvVWr-lvXPbtG_9Eqmw  \n",
       "833       0ZED4pED  peAzRMNYdZW8cL2cDYs2sw  \n",
       "854       0ZED543D  -l1T6N3FdzTG-Oavy7607Q  "
      ]
     },
     "execution_count": 6,
     "metadata": {},
     "output_type": "execute_result"
    }
   ],
   "source": [
    "avg_vio_id = pd.merge(avg_violations, trans, left_index=True, right_on='restaurant_id', how='inner')\n",
    "avg_vio_id.head()"
   ]
  },
  {
   "cell_type": "markdown",
   "metadata": {},
   "source": [
    "Create a routine to process the text:"
   ]
  },
  {
   "cell_type": "code",
   "execution_count": 7,
   "metadata": {
    "collapsed": true
   },
   "outputs": [],
   "source": [
    "import re\n",
    "from bs4 import BeautifulSoup\n",
    "from nltk.stem.porter import PorterStemmer\n",
    "from nltk.corpus import stopwords\n",
    "\n",
    "stops = stopwords.words(\"english\")\n",
    "def review_to_words_porter(raw_review):\n",
    "    review_text = BeautifulSoup(raw_review, 'lxml').get_text()\n",
    "    letters_only = re.sub(\"[^a-zA-Z]\", \" \", review_text)\n",
    "    words = letters_only.lower().split()\n",
    "    porter = PorterStemmer()\n",
    "    return \" \".join(porter.stem(word) for word in words if word not in stops)"
   ]
  },
  {
   "cell_type": "code",
   "execution_count": 88,
   "metadata": {
    "collapsed": false,
    "scrolled": false
   },
   "outputs": [
    {
     "data": {
      "text/html": [
       "<div>\n",
       "<table border=\"1\" class=\"dataframe\">\n",
       "  <thead>\n",
       "    <tr style=\"text-align: right;\">\n",
       "      <th></th>\n",
       "      <th>business_id</th>\n",
       "      <th>review_date</th>\n",
       "      <th>review_id</th>\n",
       "      <th>stars</th>\n",
       "      <th>text</th>\n",
       "      <th>type</th>\n",
       "      <th>user_id</th>\n",
       "      <th>votes</th>\n",
       "    </tr>\n",
       "  </thead>\n",
       "  <tbody>\n",
       "    <tr>\n",
       "      <th>0</th>\n",
       "      <td>Jp9svt7sRT4zwdbzQ8KQmw</td>\n",
       "      <td>2005-08-26</td>\n",
       "      <td>OeT5kgUOe3vcN7H6ImVmZQ</td>\n",
       "      <td>3</td>\n",
       "      <td>pretti typic cafe sandwich wrap good littl ove...</td>\n",
       "      <td>review</td>\n",
       "      <td>P_Mk0ygOilLJo4_WEvabAA</td>\n",
       "      <td>{u'funny': 0, u'useful': 0, u'cool': 0}</td>\n",
       "    </tr>\n",
       "    <tr>\n",
       "      <th>1</th>\n",
       "      <td>Jp9svt7sRT4zwdbzQ8KQmw</td>\n",
       "      <td>2005-11-23</td>\n",
       "      <td>qq3zF2dDUh3EjMDuKBqhEA</td>\n",
       "      <td>3</td>\n",
       "      <td>agre review pretti typic financi district cafe...</td>\n",
       "      <td>review</td>\n",
       "      <td>TNJRTBrl0yjtpAACr1Bthg</td>\n",
       "      <td>{u'funny': 0, u'useful': 0, u'cool': 0}</td>\n",
       "    </tr>\n",
       "    <tr>\n",
       "      <th>2</th>\n",
       "      <td>Jp9svt7sRT4zwdbzQ8KQmw</td>\n",
       "      <td>2005-11-23</td>\n",
       "      <td>i3eQTINJXe3WUmyIpvhE9w</td>\n",
       "      <td>3</td>\n",
       "      <td>decent enough food overpr larg soup almost spe...</td>\n",
       "      <td>review</td>\n",
       "      <td>H_mngeK3DmjlOu595zZMsA</td>\n",
       "      <td>{u'funny': 0, u'useful': 0, u'cool': 0}</td>\n",
       "    </tr>\n",
       "  </tbody>\n",
       "</table>\n",
       "</div>"
      ],
      "text/plain": [
       "              business_id review_date               review_id  stars  \\\n",
       "0  Jp9svt7sRT4zwdbzQ8KQmw  2005-08-26  OeT5kgUOe3vcN7H6ImVmZQ      3   \n",
       "1  Jp9svt7sRT4zwdbzQ8KQmw  2005-11-23  qq3zF2dDUh3EjMDuKBqhEA      3   \n",
       "2  Jp9svt7sRT4zwdbzQ8KQmw  2005-11-23  i3eQTINJXe3WUmyIpvhE9w      3   \n",
       "\n",
       "                                                text    type  \\\n",
       "0  pretti typic cafe sandwich wrap good littl ove...  review   \n",
       "1  agre review pretti typic financi district cafe...  review   \n",
       "2  decent enough food overpr larg soup almost spe...  review   \n",
       "\n",
       "                  user_id                                    votes  \n",
       "0  P_Mk0ygOilLJo4_WEvabAA  {u'funny': 0, u'useful': 0, u'cool': 0}  \n",
       "1  TNJRTBrl0yjtpAACr1Bthg  {u'funny': 0, u'useful': 0, u'cool': 0}  \n",
       "2  H_mngeK3DmjlOu595zZMsA  {u'funny': 0, u'useful': 0, u'cool': 0}  "
      ]
     },
     "execution_count": 88,
     "metadata": {},
     "output_type": "execute_result"
    }
   ],
   "source": [
    "from helper_methods import read_json\n",
    "df_rev = read_json('yelp_boston_academic_dataset_updated/yelp_academic_dataset_review.json')\n",
    "df_rev.rename(columns={'date':'review_date'}, inplace=True)\n",
    "df_rev['text'] = df_rev['text'].apply(lambda x: review_to_words_porter(x))\n",
    "df_rev.head(3)"
   ]
  },
  {
   "cell_type": "markdown",
   "metadata": {},
   "source": [
    "### All the data is now loaded at this point in the notebook."
   ]
  },
  {
   "cell_type": "code",
   "execution_count": 9,
   "metadata": {
    "collapsed": false
   },
   "outputs": [
    {
     "data": {
      "text/html": [
       "<div>\n",
       "<table border=\"1\" class=\"dataframe\">\n",
       "  <thead>\n",
       "    <tr>\n",
       "      <th></th>\n",
       "      <th colspan=\"2\" halign=\"left\">stars</th>\n",
       "    </tr>\n",
       "    <tr>\n",
       "      <th></th>\n",
       "      <th>mean</th>\n",
       "      <th>sum</th>\n",
       "    </tr>\n",
       "    <tr>\n",
       "      <th>business_id</th>\n",
       "      <th></th>\n",
       "      <th></th>\n",
       "    </tr>\n",
       "  </thead>\n",
       "  <tbody>\n",
       "    <tr>\n",
       "      <th>-2DW8dE1S0eu48ZnfJeAGQ</th>\n",
       "      <td>3.666667</td>\n",
       "      <td>11</td>\n",
       "    </tr>\n",
       "    <tr>\n",
       "      <th>-2jQG9-gNH3TshkF-hhR0Q</th>\n",
       "      <td>3.452381</td>\n",
       "      <td>145</td>\n",
       "    </tr>\n",
       "    <tr>\n",
       "      <th>-5ieYfS-fjUyK93b6Vbv-Q</th>\n",
       "      <td>3.197183</td>\n",
       "      <td>454</td>\n",
       "    </tr>\n",
       "    <tr>\n",
       "      <th>-87w2W8Kn50YF3lRjJI3fA</th>\n",
       "      <td>3.818182</td>\n",
       "      <td>126</td>\n",
       "    </tr>\n",
       "    <tr>\n",
       "      <th>-9auqmdb2OInFUhHnfsUgw</th>\n",
       "      <td>3.823529</td>\n",
       "      <td>65</td>\n",
       "    </tr>\n",
       "  </tbody>\n",
       "</table>\n",
       "</div>"
      ],
      "text/plain": [
       "                           stars     \n",
       "                            mean  sum\n",
       "business_id                          \n",
       "-2DW8dE1S0eu48ZnfJeAGQ  3.666667   11\n",
       "-2jQG9-gNH3TshkF-hhR0Q  3.452381  145\n",
       "-5ieYfS-fjUyK93b6Vbv-Q  3.197183  454\n",
       "-87w2W8Kn50YF3lRjJI3fA  3.818182  126\n",
       "-9auqmdb2OInFUhHnfsUgw  3.823529   65"
      ]
     },
     "execution_count": 9,
     "metadata": {},
     "output_type": "execute_result"
    }
   ],
   "source": [
    "avg_stars = df_rev.groupby('business_id').agg({'stars':[np.mean, np.sum]})\n",
    "avg_stars.head()"
   ]
  },
  {
   "cell_type": "code",
   "execution_count": 10,
   "metadata": {
    "collapsed": false
   },
   "outputs": [
    {
     "data": {
      "text/html": [
       "<div>\n",
       "<table border=\"1\" class=\"dataframe\">\n",
       "  <thead>\n",
       "    <tr style=\"text-align: right;\">\n",
       "      <th></th>\n",
       "      <th>(weighted_violations, mean)</th>\n",
       "      <th>(weighted_violations, sum)</th>\n",
       "      <th>(*, size)</th>\n",
       "      <th>(*, mean)</th>\n",
       "      <th>(*, sum)</th>\n",
       "      <th>(***, mean)</th>\n",
       "      <th>(***, sum)</th>\n",
       "      <th>(**, mean)</th>\n",
       "      <th>(**, sum)</th>\n",
       "      <th>restaurant_id</th>\n",
       "      <th>business_id</th>\n",
       "      <th>(stars, mean)</th>\n",
       "      <th>(stars, sum)</th>\n",
       "    </tr>\n",
       "  </thead>\n",
       "  <tbody>\n",
       "    <tr>\n",
       "      <th>1229</th>\n",
       "      <td>12.958333</td>\n",
       "      <td>311</td>\n",
       "      <td>24</td>\n",
       "      <td>4.416667</td>\n",
       "      <td>106</td>\n",
       "      <td>1.208333</td>\n",
       "      <td>29</td>\n",
       "      <td>0.833333</td>\n",
       "      <td>20</td>\n",
       "      <td>0ZED0WED</td>\n",
       "      <td>72VT9KIsJ6ZJUo6wabbH5g</td>\n",
       "      <td>3.701493</td>\n",
       "      <td>248</td>\n",
       "    </tr>\n",
       "    <tr>\n",
       "      <th>580</th>\n",
       "      <td>7.461538</td>\n",
       "      <td>97</td>\n",
       "      <td>13</td>\n",
       "      <td>2.846154</td>\n",
       "      <td>37</td>\n",
       "      <td>0.692308</td>\n",
       "      <td>9</td>\n",
       "      <td>0.384615</td>\n",
       "      <td>5</td>\n",
       "      <td>0ZED1B3D</td>\n",
       "      <td>1SEEvsE3sEoxha20jZmqqw</td>\n",
       "      <td>3.531707</td>\n",
       "      <td>724</td>\n",
       "    </tr>\n",
       "    <tr>\n",
       "      <th>104</th>\n",
       "      <td>8.125000</td>\n",
       "      <td>65</td>\n",
       "      <td>8</td>\n",
       "      <td>5.000000</td>\n",
       "      <td>40</td>\n",
       "      <td>0.625000</td>\n",
       "      <td>5</td>\n",
       "      <td>0.000000</td>\n",
       "      <td>0</td>\n",
       "      <td>0ZED4ED9</td>\n",
       "      <td>4dzJvVWr-lvXPbtG_9Eqmw</td>\n",
       "      <td>3.600000</td>\n",
       "      <td>162</td>\n",
       "    </tr>\n",
       "  </tbody>\n",
       "</table>\n",
       "</div>"
      ],
      "text/plain": [
       "      (weighted_violations, mean)  (weighted_violations, sum)  (*, size)  \\\n",
       "1229                    12.958333                         311         24   \n",
       "580                      7.461538                          97         13   \n",
       "104                      8.125000                          65          8   \n",
       "\n",
       "      (*, mean)  (*, sum)  (***, mean)  (***, sum)  (**, mean)  (**, sum)  \\\n",
       "1229   4.416667       106     1.208333          29    0.833333         20   \n",
       "580    2.846154        37     0.692308           9    0.384615          5   \n",
       "104    5.000000        40     0.625000           5    0.000000          0   \n",
       "\n",
       "     restaurant_id             business_id  (stars, mean)  (stars, sum)  \n",
       "1229      0ZED0WED  72VT9KIsJ6ZJUo6wabbH5g       3.701493           248  \n",
       "580       0ZED1B3D  1SEEvsE3sEoxha20jZmqqw       3.531707           724  \n",
       "104       0ZED4ED9  4dzJvVWr-lvXPbtG_9Eqmw       3.600000           162  "
      ]
     },
     "execution_count": 10,
     "metadata": {},
     "output_type": "execute_result"
    }
   ],
   "source": [
    "stars_violations = pd.merge(avg_vio_id, avg_stars, left_on='business_id', right_index=True, how='inner')\n",
    "stars_violations.head(3)"
   ]
  },
  {
   "cell_type": "code",
   "execution_count": 11,
   "metadata": {
    "collapsed": false
   },
   "outputs": [
    {
     "data": {
      "text/plain": [
       "(0, 30)"
      ]
     },
     "execution_count": 11,
     "metadata": {},
     "output_type": "execute_result"
    },
    {
     "data": {
      "image/png": "[encoded data removed]",
      "text/plain": [
       "<matplotlib.figure.Figure at 0x106af7e10>"
      ]
     },
     "metadata": {},
     "output_type": "display_data"
    }
   ],
   "source": [
    "plt.plot(stars_violations[('weighted_violations', 'mean')], stars_violations[('stars', 'mean')], '.')\n",
    "plt.xlabel('Number of mean weighted violations')\n",
    "plt.ylabel('Mean star rating')\n",
    "plt.xlim(0, 30)"
   ]
  },
  {
   "cell_type": "code",
   "execution_count": 12,
   "metadata": {
    "collapsed": false
   },
   "outputs": [
    {
     "data": {
      "text/plain": [
       "(-0.052577761968863386, 0.022087083413908221)"
      ]
     },
     "execution_count": 12,
     "metadata": {},
     "output_type": "execute_result"
    }
   ],
   "source": [
    "from scipy.stats import pearsonr\n",
    "pearsonr(stars_violations[('weighted_violations', 'mean')], stars_violations[('stars', 'mean')])"
   ]
  },
  {
   "cell_type": "markdown",
   "metadata": {},
   "source": [
    "We have seen this plot before using the Yelp business data. Here the star values are not rounded to 1/2 so it is more continuous but there is no clear correlation despite one's intuition."
   ]
  },
  {
   "cell_type": "code",
   "execution_count": 13,
   "metadata": {
    "collapsed": false
   },
   "outputs": [
    {
     "data": {
      "text/plain": [
       "(0, 5000)"
      ]
     },
     "execution_count": 13,
     "metadata": {},
     "output_type": "execute_result"
    },
    {
     "data": {
      "image/png": "[encoded data removed]",
      "text/plain": [
       "<matplotlib.figure.Figure at 0x16a654a50>"
      ]
     },
     "metadata": {},
     "output_type": "display_data"
    }
   ],
   "source": [
    "fig, ax = plt.subplots(1, 1, figsize=(15, 5))\n",
    "plt.plot(avg_stars[('stars', 'sum')], avg_stars[('stars', 'mean')], '.')\n",
    "plt.xlabel('Number of reviews')\n",
    "plt.ylabel('Average star rating')\n",
    "plt.xlim(0, 5000)"
   ]
  },
  {
   "cell_type": "code",
   "execution_count": 14,
   "metadata": {
    "collapsed": false
   },
   "outputs": [
    {
     "data": {
      "text/plain": [
       "(0.28855600219118571, 2.5112521526774628e-38)"
      ]
     },
     "execution_count": 14,
     "metadata": {},
     "output_type": "execute_result"
    }
   ],
   "source": [
    "pearsonr(avg_stars[('stars', 'sum')], avg_stars[('stars', 'mean')])"
   ]
  },
  {
   "cell_type": "markdown",
   "metadata": {},
   "source": [
    "There is a positive correlation between star rating and number of reviews. Good restaurants tend to get more reviews."
   ]
  },
  {
   "cell_type": "markdown",
   "metadata": {},
   "source": [
    "### Let's examine the text of each review "
   ]
  },
  {
   "cell_type": "markdown",
   "metadata": {},
   "source": [
    "First, how many reviews does each restaurant have?"
   ]
  },
  {
   "cell_type": "code",
   "execution_count": 15,
   "metadata": {
    "collapsed": false
   },
   "outputs": [
    {
     "data": {
      "text/plain": [
       "<matplotlib.text.Text at 0x162bd4550>"
      ]
     },
     "execution_count": 15,
     "metadata": {},
     "output_type": "execute_result"
    },
    {
     "data": {
      "image/png": "[encoded data removed]",
      "text/plain": [
       "<matplotlib.figure.Figure at 0x16a02f210>"
      ]
     },
     "metadata": {},
     "output_type": "display_data"
    }
   ],
   "source": [
    "fig, ax = plt.subplots(1, 1, figsize=(15, 5))\n",
    "plt.hist(avg_stars[('stars', 'sum')], bins=250, range=(0, 250))\n",
    "plt.xlabel('Number of reviews')\n",
    "plt.ylabel('Number of restaurants')"
   ]
  },
  {
   "cell_type": "markdown",
   "metadata": {},
   "source": [
    "### Exploratory data analysis concludes here. Now we begin the model building:"
   ]
  },
  {
   "cell_type": "markdown",
   "metadata": {},
   "source": [
    "Our strategy is to pair the inspection results with the reviews that were written in the t_days before the inspection. For instance, if the inspection was on March 1 then we would consider all reviews written between then and March 1 minus t_days. We do not consider reviews beyond the inspection date because the way the contest works we will be predicting violations using only past data."
   ]
  },
  {
   "cell_type": "code",
   "execution_count": 16,
   "metadata": {
    "collapsed": false
   },
   "outputs": [],
   "source": [
    "# number of days in the review window \n",
    "t_days = 14"
   ]
  },
  {
   "cell_type": "code",
   "execution_count": 17,
   "metadata": {
    "collapsed": false
   },
   "outputs": [
    {
     "data": {
      "text/html": [
       "<div>\n",
       "<table border=\"1\" class=\"dataframe\">\n",
       "  <thead>\n",
       "    <tr style=\"text-align: right;\">\n",
       "      <th></th>\n",
       "      <th>id</th>\n",
       "      <th>inspect_date</th>\n",
       "      <th>restaurant_id</th>\n",
       "      <th>*</th>\n",
       "      <th>**</th>\n",
       "      <th>***</th>\n",
       "      <th>weighted_violations</th>\n",
       "      <th>business_id</th>\n",
       "    </tr>\n",
       "  </thead>\n",
       "  <tbody>\n",
       "    <tr>\n",
       "      <th>0</th>\n",
       "      <td>589</td>\n",
       "      <td>2010-02-02</td>\n",
       "      <td>KAoKWjog</td>\n",
       "      <td>3</td>\n",
       "      <td>0</td>\n",
       "      <td>1</td>\n",
       "      <td>8</td>\n",
       "      <td>DD_A7DaGDGEHJnw_KTMPKQ</td>\n",
       "    </tr>\n",
       "    <tr>\n",
       "      <th>1</th>\n",
       "      <td>4404</td>\n",
       "      <td>2010-09-20</td>\n",
       "      <td>KAoKWjog</td>\n",
       "      <td>3</td>\n",
       "      <td>0</td>\n",
       "      <td>0</td>\n",
       "      <td>3</td>\n",
       "      <td>DD_A7DaGDGEHJnw_KTMPKQ</td>\n",
       "    </tr>\n",
       "    <tr>\n",
       "      <th>2</th>\n",
       "      <td>7205</td>\n",
       "      <td>2012-02-13</td>\n",
       "      <td>KAoKWjog</td>\n",
       "      <td>4</td>\n",
       "      <td>1</td>\n",
       "      <td>1</td>\n",
       "      <td>12</td>\n",
       "      <td>DD_A7DaGDGEHJnw_KTMPKQ</td>\n",
       "    </tr>\n",
       "    <tr>\n",
       "      <th>3</th>\n",
       "      <td>3519</td>\n",
       "      <td>2009-08-04</td>\n",
       "      <td>KAoKWjog</td>\n",
       "      <td>0</td>\n",
       "      <td>0</td>\n",
       "      <td>0</td>\n",
       "      <td>0</td>\n",
       "      <td>DD_A7DaGDGEHJnw_KTMPKQ</td>\n",
       "    </tr>\n",
       "    <tr>\n",
       "      <th>4</th>\n",
       "      <td>2024</td>\n",
       "      <td>2012-01-31</td>\n",
       "      <td>KAoKWjog</td>\n",
       "      <td>4</td>\n",
       "      <td>1</td>\n",
       "      <td>1</td>\n",
       "      <td>12</td>\n",
       "      <td>DD_A7DaGDGEHJnw_KTMPKQ</td>\n",
       "    </tr>\n",
       "  </tbody>\n",
       "</table>\n",
       "</div>"
      ],
      "text/plain": [
       "     id inspect_date restaurant_id  *  **  ***  weighted_violations  \\\n",
       "0   589   2010-02-02      KAoKWjog  3   0    1                    8   \n",
       "1  4404   2010-09-20      KAoKWjog  3   0    0                    3   \n",
       "2  7205   2012-02-13      KAoKWjog  4   1    1                   12   \n",
       "3  3519   2009-08-04      KAoKWjog  0   0    0                    0   \n",
       "4  2024   2012-01-31      KAoKWjog  4   1    1                   12   \n",
       "\n",
       "              business_id  \n",
       "0  DD_A7DaGDGEHJnw_KTMPKQ  \n",
       "1  DD_A7DaGDGEHJnw_KTMPKQ  \n",
       "2  DD_A7DaGDGEHJnw_KTMPKQ  \n",
       "3  DD_A7DaGDGEHJnw_KTMPKQ  \n",
       "4  DD_A7DaGDGEHJnw_KTMPKQ  "
      ]
     },
     "execution_count": 17,
     "metadata": {},
     "output_type": "execute_result"
    }
   ],
   "source": [
    "df_id = pd.merge(df, trans, on='restaurant_id', how='inner')\n",
    "df_id.head()"
   ]
  },
  {
   "cell_type": "code",
   "execution_count": 18,
   "metadata": {
    "collapsed": false,
    "scrolled": true
   },
   "outputs": [
    {
     "data": {
      "text/html": [
       "<div>\n",
       "<table border=\"1\" class=\"dataframe\">\n",
       "  <thead>\n",
       "    <tr style=\"text-align: right;\">\n",
       "      <th></th>\n",
       "      <th>business_id</th>\n",
       "      <th>text</th>\n",
       "      <th>review_date</th>\n",
       "    </tr>\n",
       "  </thead>\n",
       "  <tbody>\n",
       "    <tr>\n",
       "      <th>0</th>\n",
       "      <td>Jp9svt7sRT4zwdbzQ8KQmw</td>\n",
       "      <td>pretti typic cafe sandwich wrap good littl ove...</td>\n",
       "      <td>2005-08-26</td>\n",
       "    </tr>\n",
       "    <tr>\n",
       "      <th>1</th>\n",
       "      <td>Jp9svt7sRT4zwdbzQ8KQmw</td>\n",
       "      <td>agre review pretti typic financi district cafe...</td>\n",
       "      <td>2005-11-23</td>\n",
       "    </tr>\n",
       "    <tr>\n",
       "      <th>2</th>\n",
       "      <td>Jp9svt7sRT4zwdbzQ8KQmw</td>\n",
       "      <td>decent enough food overpr larg soup almost spe...</td>\n",
       "      <td>2005-11-23</td>\n",
       "    </tr>\n",
       "    <tr>\n",
       "      <th>3</th>\n",
       "      <td>Jp9svt7sRT4zwdbzQ8KQmw</td>\n",
       "      <td>muffin great esp blueberri never good blueberr...</td>\n",
       "      <td>2006-02-24</td>\n",
       "    </tr>\n",
       "    <tr>\n",
       "      <th>4</th>\n",
       "      <td>Jp9svt7sRT4zwdbzQ8KQmw</td>\n",
       "      <td>well well well look review restaur lobbi rebec...</td>\n",
       "      <td>2007-09-06</td>\n",
       "    </tr>\n",
       "  </tbody>\n",
       "</table>\n",
       "</div>"
      ],
      "text/plain": [
       "              business_id                                               text  \\\n",
       "0  Jp9svt7sRT4zwdbzQ8KQmw  pretti typic cafe sandwich wrap good littl ove...   \n",
       "1  Jp9svt7sRT4zwdbzQ8KQmw  agre review pretti typic financi district cafe...   \n",
       "2  Jp9svt7sRT4zwdbzQ8KQmw  decent enough food overpr larg soup almost spe...   \n",
       "3  Jp9svt7sRT4zwdbzQ8KQmw  muffin great esp blueberri never good blueberr...   \n",
       "4  Jp9svt7sRT4zwdbzQ8KQmw  well well well look review restaur lobbi rebec...   \n",
       "\n",
       "  review_date  \n",
       "0  2005-08-26  \n",
       "1  2005-11-23  \n",
       "2  2005-11-23  \n",
       "3  2006-02-24  \n",
       "4  2007-09-06  "
      ]
     },
     "execution_count": 18,
     "metadata": {},
     "output_type": "execute_result"
    }
   ],
   "source": [
    "df_rev[['business_id', 'text', 'review_date']].head()"
   ]
  },
  {
   "cell_type": "code",
   "execution_count": 19,
   "metadata": {
    "collapsed": false
   },
   "outputs": [
    {
     "data": {
      "text/html": [
       "<div>\n",
       "<table border=\"1\" class=\"dataframe\">\n",
       "  <thead>\n",
       "    <tr style=\"text-align: right;\">\n",
       "      <th></th>\n",
       "      <th>inspect_date</th>\n",
       "      <th>restaurant_id</th>\n",
       "      <th>*</th>\n",
       "      <th>**</th>\n",
       "      <th>***</th>\n",
       "      <th>review_date</th>\n",
       "      <th>stars</th>\n",
       "      <th>text</th>\n",
       "    </tr>\n",
       "  </thead>\n",
       "  <tbody>\n",
       "    <tr>\n",
       "      <th>349</th>\n",
       "      <td>2013-01-03</td>\n",
       "      <td>KAoKWjog</td>\n",
       "      <td>6.0</td>\n",
       "      <td>1.0</td>\n",
       "      <td>0.0</td>\n",
       "      <td>2012-12-26</td>\n",
       "      <td>4</td>\n",
       "      <td>ve go year especi breakfast get real good meal...</td>\n",
       "    </tr>\n",
       "    <tr>\n",
       "      <th>396</th>\n",
       "      <td>2014-11-13</td>\n",
       "      <td>KAoKWjog</td>\n",
       "      <td>8.0</td>\n",
       "      <td>1.0</td>\n",
       "      <td>3.0</td>\n",
       "      <td>2014-11-08</td>\n",
       "      <td>4</td>\n",
       "      <td>absolut banger drench drunk munch morn though ...</td>\n",
       "    </tr>\n",
       "    <tr>\n",
       "      <th>538</th>\n",
       "      <td>2012-12-30</td>\n",
       "      <td>KAoKWjog</td>\n",
       "      <td>0.0</td>\n",
       "      <td>0.0</td>\n",
       "      <td>0.0</td>\n",
       "      <td>2012-12-26</td>\n",
       "      <td>4</td>\n",
       "      <td>ve go year especi breakfast get real good meal...</td>\n",
       "    </tr>\n",
       "    <tr>\n",
       "      <th>583</th>\n",
       "      <td>2009-12-10</td>\n",
       "      <td>p038M4om</td>\n",
       "      <td>2.0</td>\n",
       "      <td>0.0</td>\n",
       "      <td>0.0</td>\n",
       "      <td>2009-12-03</td>\n",
       "      <td>3</td>\n",
       "      <td>food good yum canneloni place awkward alway em...</td>\n",
       "    </tr>\n",
       "    <tr>\n",
       "      <th>789</th>\n",
       "      <td>2014-04-28</td>\n",
       "      <td>p038M4om</td>\n",
       "      <td>0.0</td>\n",
       "      <td>0.0</td>\n",
       "      <td>0.0</td>\n",
       "      <td>2014-04-15</td>\n",
       "      <td>5</td>\n",
       "      <td>stay two night dorchest air trip lax logan sta...</td>\n",
       "    </tr>\n",
       "  </tbody>\n",
       "</table>\n",
       "</div>"
      ],
      "text/plain": [
       "    inspect_date restaurant_id    *   **  *** review_date  stars  \\\n",
       "349   2013-01-03      KAoKWjog  6.0  1.0  0.0  2012-12-26      4   \n",
       "396   2014-11-13      KAoKWjog  8.0  1.0  3.0  2014-11-08      4   \n",
       "538   2012-12-30      KAoKWjog  0.0  0.0  0.0  2012-12-26      4   \n",
       "583   2009-12-10      p038M4om  2.0  0.0  0.0  2009-12-03      3   \n",
       "789   2014-04-28      p038M4om  0.0  0.0  0.0  2014-04-15      5   \n",
       "\n",
       "                                                  text  \n",
       "349  ve go year especi breakfast get real good meal...  \n",
       "396  absolut banger drench drunk munch morn though ...  \n",
       "538  ve go year especi breakfast get real good meal...  \n",
       "583  food good yum canneloni place awkward alway em...  \n",
       "789  stay two night dorchest air trip lax logan sta...  "
      ]
     },
     "execution_count": 19,
     "metadata": {},
     "output_type": "execute_result"
    }
   ],
   "source": [
    "xl = pd.merge(df_id, df_rev, on='business_id', how='outer')\n",
    "xl = xl[((xl['inspect_date'] - xl['review_date']) / np.timedelta64(1, 'D') > 0) & ((xl['inspect_date'] - xl['review_date']) / np.timedelta64(1, 'D') <= t_days)]\n",
    "xl.drop(['id', 'weighted_violations', 'business_id', 'review_id', 'votes', 'type', 'user_id'], axis=1, inplace=True)\n",
    "xl.head()"
   ]
  },
  {
   "cell_type": "code",
   "execution_count": 20,
   "metadata": {
    "collapsed": false,
    "scrolled": true
   },
   "outputs": [
    {
     "name": "stdout",
     "output_type": "stream",
     "text": [
      "<class 'pandas.core.frame.DataFrame'>\n",
      "Int64Index: 18188 entries, 349 to 3762876\n",
      "Data columns (total 8 columns):\n",
      "inspect_date     18188 non-null datetime64[ns]\n",
      "restaurant_id    18188 non-null object\n",
      "*                18188 non-null float64\n",
      "**               18188 non-null float64\n",
      "***              18188 non-null float64\n",
      "review_date      18188 non-null datetime64[ns]\n",
      "stars            18188 non-null int64\n",
      "text             18188 non-null object\n",
      "dtypes: datetime64[ns](2), float64(3), int64(1), object(2)\n",
      "memory usage: 1.2+ MB\n"
     ]
    }
   ],
   "source": [
    "xl.info()"
   ]
  },
  {
   "cell_type": "markdown",
   "metadata": {},
   "source": [
    "With t-days = 60, this leaves us with 78000 reviews that are within 60 days of the inspection. We can now associate the violations with the words in the reviews. This will be done using bag of words with TF-IDF and a regression model."
   ]
  },
  {
   "cell_type": "markdown",
   "metadata": {},
   "source": [
    "Prepare and store the features and response:"
   ]
  },
  {
   "cell_type": "code",
   "execution_count": 21,
   "metadata": {
    "collapsed": false
   },
   "outputs": [],
   "source": [
    "from sklearn.feature_extraction.text import TfidfVectorizer\n",
    "\n",
    "tfidf = TfidfVectorizer(max_features=100, ngram_range=(1, 1), smooth_idf=True, norm='l2')\n",
    "X_train = tfidf.fit_transform(xl['text'].values)\n",
    "y_train = xl['*'].values"
   ]
  },
  {
   "cell_type": "markdown",
   "metadata": {},
   "source": [
    "Because we work with a sparse matrix, we will not standardize each column since that would lead to a dense matrix and high memory demands."
   ]
  },
  {
   "cell_type": "code",
   "execution_count": 22,
   "metadata": {
    "collapsed": false
   },
   "outputs": [
    {
     "name": "stdout",
     "output_type": "stream",
     "text": [
      "Linear model: mse = 20.3366626412\n"
     ]
    }
   ],
   "source": [
    "from sklearn.linear_model import LinearRegression\n",
    "from sklearn.ensemble import RandomForestRegressor\n",
    "from sklearn.metrics import mean_squared_error as mse\n",
    "\n",
    "linreg = LinearRegression()\n",
    "linreg.fit(X_train, y_train)\n",
    "y_train_pred = linreg.predict(X_train)\n",
    "print 'Linear model: mse =', mse(y_train, y_train_pred)\n",
    "\n",
    "#rf = RandomForestRegressor(n_estimators=10, criterion='mse')\n",
    "#rf.fit(X_train, y_train)\n",
    "#y_train_pred = rf.predict(X_train)\n",
    "#print 'RF model: mse =', mse(y_train, y_train_pred)"
   ]
  },
  {
   "cell_type": "code",
   "execution_count": 23,
   "metadata": {
    "collapsed": false
   },
   "outputs": [],
   "source": [
    "#for x in sorted(zip(linreg.coef_, count.vocabulary_)):\n",
    "#    print x"
   ]
  },
  {
   "cell_type": "markdown",
   "metadata": {},
   "source": [
    "# Predictions for phase II"
   ]
  },
  {
   "cell_type": "markdown",
   "metadata": {},
   "source": [
    "First note the last review was written on 2015-6-10. The first and last prediction dates are 2015-07-07 and 2015-08-18. This means there is nearly a month without Yelp reviews before the first prediction and then an additional six weeks before the last prediction date. Because of this we will formulate our model by including all reviews for a given restaurant written within 60 days of 2015-6-10."
   ]
  },
  {
   "cell_type": "code",
   "execution_count": 24,
   "metadata": {
    "collapsed": true
   },
   "outputs": [],
   "source": [
    "t_days = 60"
   ]
  },
  {
   "cell_type": "code",
   "execution_count": 25,
   "metadata": {
    "collapsed": false
   },
   "outputs": [
    {
     "data": {
      "text/plain": [
       "235068   2015-06-10\n",
       "230693   2015-06-10\n",
       "231960   2015-06-10\n",
       "232761   2015-06-10\n",
       "231895   2015-06-10\n",
       "Name: review_date, dtype: datetime64[ns]"
      ]
     },
     "execution_count": 25,
     "metadata": {},
     "output_type": "execute_result"
    }
   ],
   "source": [
    "cutoff = df_rev['review_date'].sort_values(ascending=False)[:5]\n",
    "cutoff[:5]"
   ]
  },
  {
   "cell_type": "code",
   "execution_count": 26,
   "metadata": {
    "collapsed": false
   },
   "outputs": [
    {
     "data": {
      "text/plain": [
       "Timestamp('2015-06-10 00:00:00')"
      ]
     },
     "execution_count": 26,
     "metadata": {},
     "output_type": "execute_result"
    }
   ],
   "source": [
    "cutoff = cutoff.iloc[0]\n",
    "cutoff"
   ]
  },
  {
   "cell_type": "markdown",
   "metadata": {},
   "source": [
    "Load the submission data and make predictions:"
   ]
  },
  {
   "cell_type": "code",
   "execution_count": 78,
   "metadata": {
    "collapsed": false
   },
   "outputs": [
    {
     "data": {
      "text/html": [
       "<div>\n",
       "<table border=\"1\" class=\"dataframe\">\n",
       "  <thead>\n",
       "    <tr style=\"text-align: right;\">\n",
       "      <th></th>\n",
       "      <th>id</th>\n",
       "      <th>inspect_date</th>\n",
       "      <th>restaurant_id</th>\n",
       "      <th>*</th>\n",
       "      <th>**</th>\n",
       "      <th>***</th>\n",
       "    </tr>\n",
       "  </thead>\n",
       "  <tbody>\n",
       "    <tr>\n",
       "      <th>0</th>\n",
       "      <td>42065</td>\n",
       "      <td>2015-07-07</td>\n",
       "      <td>6VOp6a3L</td>\n",
       "      <td>0.0</td>\n",
       "      <td>0.0</td>\n",
       "      <td>0.0</td>\n",
       "    </tr>\n",
       "    <tr>\n",
       "      <th>1</th>\n",
       "      <td>73703</td>\n",
       "      <td>2015-07-07</td>\n",
       "      <td>1JEbP4oR</td>\n",
       "      <td>0.0</td>\n",
       "      <td>0.0</td>\n",
       "      <td>0.0</td>\n",
       "    </tr>\n",
       "    <tr>\n",
       "      <th>2</th>\n",
       "      <td>19212</td>\n",
       "      <td>2015-07-07</td>\n",
       "      <td>Pk3w02od</td>\n",
       "      <td>0.0</td>\n",
       "      <td>0.0</td>\n",
       "      <td>0.0</td>\n",
       "    </tr>\n",
       "    <tr>\n",
       "      <th>3</th>\n",
       "      <td>15332</td>\n",
       "      <td>2015-07-07</td>\n",
       "      <td>N6OkmQ3x</td>\n",
       "      <td>0.0</td>\n",
       "      <td>0.0</td>\n",
       "      <td>0.0</td>\n",
       "    </tr>\n",
       "    <tr>\n",
       "      <th>4</th>\n",
       "      <td>59579</td>\n",
       "      <td>2015-07-07</td>\n",
       "      <td>v5oJKbOB</td>\n",
       "      <td>0.0</td>\n",
       "      <td>0.0</td>\n",
       "      <td>0.0</td>\n",
       "    </tr>\n",
       "  </tbody>\n",
       "</table>\n",
       "</div>"
      ],
      "text/plain": [
       "      id inspect_date restaurant_id    *   **  ***\n",
       "0  42065   2015-07-07      6VOp6a3L  0.0  0.0  0.0\n",
       "1  73703   2015-07-07      1JEbP4oR  0.0  0.0  0.0\n",
       "2  19212   2015-07-07      Pk3w02od  0.0  0.0  0.0\n",
       "3  15332   2015-07-07      N6OkmQ3x  0.0  0.0  0.0\n",
       "4  59579   2015-07-07      v5oJKbOB  0.0  0.0  0.0"
      ]
     },
     "execution_count": 78,
     "metadata": {},
     "output_type": "execute_result"
    }
   ],
   "source": [
    "df_sub = pd.read_csv('PhaseIISubmissionFormat.csv')\n",
    "df_sub['date'] = pd.to_datetime(df_sub['date'])\n",
    "df_sub.rename(columns={'date':'inspect_date'}, inplace=True)\n",
    "df_sub.head()"
   ]
  },
  {
   "cell_type": "code",
   "execution_count": 79,
   "metadata": {
    "collapsed": false
   },
   "outputs": [
    {
     "name": "stdout",
     "output_type": "stream",
     "text": [
      "<class 'pandas.core.frame.DataFrame'>\n",
      "RangeIndex: 80281 entries, 0 to 80280\n",
      "Data columns (total 6 columns):\n",
      "id               80281 non-null int64\n",
      "inspect_date     80281 non-null datetime64[ns]\n",
      "restaurant_id    80281 non-null object\n",
      "*                80281 non-null float64\n",
      "**               80281 non-null float64\n",
      "***              80281 non-null float64\n",
      "dtypes: datetime64[ns](1), float64(3), int64(1), object(1)\n",
      "memory usage: 3.7+ MB\n"
     ]
    }
   ],
   "source": [
    "df_sub.info()"
   ]
  },
  {
   "cell_type": "code",
   "execution_count": 80,
   "metadata": {
    "collapsed": false
   },
   "outputs": [
    {
     "name": "stdout",
     "output_type": "stream",
     "text": [
      "80281 80281 id\n",
      "80281 43 inspect_date\n",
      "80281 1867 restaurant_id\n",
      "80281 1 *\n",
      "80281 1 **\n",
      "80281 1 ***\n"
     ]
    }
   ],
   "source": [
    "for column in df_sub.columns:\n",
    "    print df_sub.shape[0], df_sub[column].unique().size, column"
   ]
  },
  {
   "cell_type": "code",
   "execution_count": 81,
   "metadata": {
    "collapsed": false
   },
   "outputs": [
    {
     "data": {
      "text/html": [
       "<div>\n",
       "<table border=\"1\" class=\"dataframe\">\n",
       "  <thead>\n",
       "    <tr style=\"text-align: right;\">\n",
       "      <th></th>\n",
       "      <th>id</th>\n",
       "      <th>inspect_date</th>\n",
       "      <th>restaurant_id</th>\n",
       "      <th>*</th>\n",
       "      <th>**</th>\n",
       "      <th>***</th>\n",
       "      <th>business_id</th>\n",
       "    </tr>\n",
       "  </thead>\n",
       "  <tbody>\n",
       "    <tr>\n",
       "      <th>0</th>\n",
       "      <td>42065</td>\n",
       "      <td>2015-07-07</td>\n",
       "      <td>6VOp6a3L</td>\n",
       "      <td>0.0</td>\n",
       "      <td>0.0</td>\n",
       "      <td>0.0</td>\n",
       "      <td>atafOjxJyt4ohXWJLt6UaQ</td>\n",
       "    </tr>\n",
       "    <tr>\n",
       "      <th>1</th>\n",
       "      <td>73703</td>\n",
       "      <td>2015-07-07</td>\n",
       "      <td>1JEbP4oR</td>\n",
       "      <td>0.0</td>\n",
       "      <td>0.0</td>\n",
       "      <td>0.0</td>\n",
       "      <td>1EjS_EEJ1iFMMZrt6FVXQQ</td>\n",
       "    </tr>\n",
       "    <tr>\n",
       "      <th>2</th>\n",
       "      <td>19212</td>\n",
       "      <td>2015-07-07</td>\n",
       "      <td>Pk3w02od</td>\n",
       "      <td>0.0</td>\n",
       "      <td>0.0</td>\n",
       "      <td>0.0</td>\n",
       "      <td>GAdqjmUmn_ibbfvo0wArIQ</td>\n",
       "    </tr>\n",
       "    <tr>\n",
       "      <th>3</th>\n",
       "      <td>15332</td>\n",
       "      <td>2015-07-07</td>\n",
       "      <td>N6OkmQ3x</td>\n",
       "      <td>0.0</td>\n",
       "      <td>0.0</td>\n",
       "      <td>0.0</td>\n",
       "      <td>erebWqQMcrr1FCzmyhZkMg</td>\n",
       "    </tr>\n",
       "    <tr>\n",
       "      <th>4</th>\n",
       "      <td>59579</td>\n",
       "      <td>2015-07-07</td>\n",
       "      <td>v5oJKbOB</td>\n",
       "      <td>0.0</td>\n",
       "      <td>0.0</td>\n",
       "      <td>0.0</td>\n",
       "      <td>MOcHiAoNyDZIEs43b_hkKg</td>\n",
       "    </tr>\n",
       "  </tbody>\n",
       "</table>\n",
       "</div>"
      ],
      "text/plain": [
       "      id inspect_date restaurant_id    *   **  ***             business_id\n",
       "0  42065   2015-07-07      6VOp6a3L  0.0  0.0  0.0  atafOjxJyt4ohXWJLt6UaQ\n",
       "1  73703   2015-07-07      1JEbP4oR  0.0  0.0  0.0  1EjS_EEJ1iFMMZrt6FVXQQ\n",
       "2  19212   2015-07-07      Pk3w02od  0.0  0.0  0.0  GAdqjmUmn_ibbfvo0wArIQ\n",
       "3  15332   2015-07-07      N6OkmQ3x  0.0  0.0  0.0  erebWqQMcrr1FCzmyhZkMg\n",
       "4  59579   2015-07-07      v5oJKbOB  0.0  0.0  0.0  MOcHiAoNyDZIEs43b_hkKg"
      ]
     },
     "execution_count": 81,
     "metadata": {},
     "output_type": "execute_result"
    }
   ],
   "source": [
    "df_sub = pd.merge(df_sub, trans, on='restaurant_id', how='left')\n",
    "df_sub.head()"
   ]
  },
  {
   "cell_type": "code",
   "execution_count": 82,
   "metadata": {
    "collapsed": false
   },
   "outputs": [
    {
     "name": "stdout",
     "output_type": "stream",
     "text": [
      "<class 'pandas.core.frame.DataFrame'>\n",
      "Int64Index: 82173 entries, 0 to 82172\n",
      "Data columns (total 7 columns):\n",
      "id               82173 non-null int64\n",
      "inspect_date     82173 non-null datetime64[ns]\n",
      "restaurant_id    82173 non-null object\n",
      "*                82173 non-null float64\n",
      "**               82173 non-null float64\n",
      "***              82173 non-null float64\n",
      "business_id      82173 non-null object\n",
      "dtypes: datetime64[ns](1), float64(3), int64(1), object(2)\n",
      "memory usage: 5.0+ MB\n"
     ]
    }
   ],
   "source": [
    "df_sub.info()"
   ]
  },
  {
   "cell_type": "code",
   "execution_count": 83,
   "metadata": {
    "collapsed": false
   },
   "outputs": [
    {
     "name": "stdout",
     "output_type": "stream",
     "text": [
      "82173 80281 id\n",
      "82173 43 inspect_date\n",
      "82173 1867 restaurant_id\n",
      "82173 1 *\n",
      "82173 1 **\n",
      "82173 1 ***\n",
      "82173 1911 business_id\n"
     ]
    }
   ],
   "source": [
    "for column in df_sub.columns:\n",
    "    print df_sub.shape[0], df_sub[column].unique().size, column"
   ]
  },
  {
   "cell_type": "markdown",
   "metadata": {},
   "source": [
    "Because restaurant id's may have multiple (up to 4) business id's associated with them, the length of the data frame has increased."
   ]
  },
  {
   "cell_type": "code",
   "execution_count": 31,
   "metadata": {
    "collapsed": false,
    "scrolled": true
   },
   "outputs": [
    {
     "data": {
      "text/html": [
       "<div>\n",
       "<table border=\"1\" class=\"dataframe\">\n",
       "  <thead>\n",
       "    <tr style=\"text-align: right;\">\n",
       "      <th></th>\n",
       "      <th>inspect_date</th>\n",
       "      <th>restaurant_id</th>\n",
       "      <th>*</th>\n",
       "      <th>**</th>\n",
       "      <th>***</th>\n",
       "      <th>review_date</th>\n",
       "      <th>text</th>\n",
       "    </tr>\n",
       "  </thead>\n",
       "  <tbody>\n",
       "    <tr>\n",
       "      <th>161</th>\n",
       "      <td>2015-07-07</td>\n",
       "      <td>6VOp6a3L</td>\n",
       "      <td>0.0</td>\n",
       "      <td>0.0</td>\n",
       "      <td>0.0</td>\n",
       "      <td>2015-05-02</td>\n",
       "      <td>solid craft beer select nice ambienc good food...</td>\n",
       "    </tr>\n",
       "    <tr>\n",
       "      <th>165</th>\n",
       "      <td>2015-07-07</td>\n",
       "      <td>6VOp6a3L</td>\n",
       "      <td>0.0</td>\n",
       "      <td>0.0</td>\n",
       "      <td>0.0</td>\n",
       "      <td>2015-05-09</td>\n",
       "      <td>usual leav review disappoint enough first last...</td>\n",
       "    </tr>\n",
       "    <tr>\n",
       "      <th>166</th>\n",
       "      <td>2015-07-07</td>\n",
       "      <td>6VOp6a3L</td>\n",
       "      <td>0.0</td>\n",
       "      <td>0.0</td>\n",
       "      <td>0.0</td>\n",
       "      <td>2015-05-12</td>\n",
       "      <td>poor servic expens</td>\n",
       "    </tr>\n",
       "  </tbody>\n",
       "</table>\n",
       "</div>"
      ],
      "text/plain": [
       "    inspect_date restaurant_id    *   **  *** review_date  \\\n",
       "161   2015-07-07      6VOp6a3L  0.0  0.0  0.0  2015-05-02   \n",
       "165   2015-07-07      6VOp6a3L  0.0  0.0  0.0  2015-05-09   \n",
       "166   2015-07-07      6VOp6a3L  0.0  0.0  0.0  2015-05-12   \n",
       "\n",
       "                                                  text  \n",
       "161  solid craft beer select nice ambienc good food...  \n",
       "165  usual leav review disappoint enough first last...  \n",
       "166                                 poor servic expens  "
      ]
     },
     "execution_count": 31,
     "metadata": {},
     "output_type": "execute_result"
    }
   ],
   "source": [
    "bg = pd.merge(df_sub, df_rev, on='business_id', how='left')\n",
    "bg = bg[((cutoff - bg['review_date']) / np.timedelta64(1, 'D') < t_days)]\n",
    "bg.drop(['id', 'business_id', 'review_id', 'stars', 'votes', 'type', 'user_id'], axis=1, inplace=True)\n",
    "bg.head(3)"
   ]
  },
  {
   "cell_type": "code",
   "execution_count": 33,
   "metadata": {
    "collapsed": false
   },
   "outputs": [
    {
     "name": "stdout",
     "output_type": "stream",
     "text": [
      "<class 'pandas.core.frame.DataFrame'>\n",
      "Int64Index: 246261 entries, 161 to 10046820\n",
      "Data columns (total 7 columns):\n",
      "inspect_date     246261 non-null datetime64[ns]\n",
      "restaurant_id    246261 non-null object\n",
      "*                246261 non-null float64\n",
      "**               246261 non-null float64\n",
      "***              246261 non-null float64\n",
      "review_date      246261 non-null datetime64[ns]\n",
      "text             246261 non-null object\n",
      "dtypes: datetime64[ns](2), float64(3), object(2)\n",
      "memory usage: 15.0+ MB\n"
     ]
    }
   ],
   "source": [
    "bg.info()"
   ]
  },
  {
   "cell_type": "code",
   "execution_count": 84,
   "metadata": {
    "collapsed": false
   },
   "outputs": [
    {
     "name": "stdout",
     "output_type": "stream",
     "text": [
      "246261 43 inspect_date\n",
      "246261 981 restaurant_id\n",
      "246261 1 *\n",
      "246261 1 **\n",
      "246261 1 ***\n",
      "246261 60 review_date\n",
      "246261 5621 text\n",
      "246261 5 *-predict\n"
     ]
    }
   ],
   "source": [
    "for column in bg.columns:\n",
    "    print bg.shape[0], bg[column].unique().size, column"
   ]
  },
  {
   "cell_type": "markdown",
   "metadata": {},
   "source": [
    "What are the fewest and most number of reviews per restaurant?"
   ]
  },
  {
   "cell_type": "code",
   "execution_count": 85,
   "metadata": {
    "collapsed": false
   },
   "outputs": [
    {
     "name": "stdout",
     "output_type": "stream",
     "text": [
      "min: 43   max: 4214\n"
     ]
    }
   ],
   "source": [
    "bg_by_restaurant = bg.groupby('restaurant_id').size()\n",
    "print 'min:', bg_by_restaurant.min(), '  max:', bg_by_restaurant.max()"
   ]
  },
  {
   "cell_type": "markdown",
   "metadata": {},
   "source": [
    "We see there are 43 reviews at a minimum."
   ]
  },
  {
   "cell_type": "code",
   "execution_count": 34,
   "metadata": {
    "collapsed": false
   },
   "outputs": [
    {
     "data": {
      "text/html": [
       "<div>\n",
       "<table border=\"1\" class=\"dataframe\">\n",
       "  <thead>\n",
       "    <tr style=\"text-align: right;\">\n",
       "      <th></th>\n",
       "      <th>inspect_date</th>\n",
       "      <th>restaurant_id</th>\n",
       "      <th>*</th>\n",
       "      <th>**</th>\n",
       "      <th>***</th>\n",
       "      <th>review_date</th>\n",
       "      <th>text</th>\n",
       "      <th>*-predict</th>\n",
       "    </tr>\n",
       "  </thead>\n",
       "  <tbody>\n",
       "    <tr>\n",
       "      <th>161</th>\n",
       "      <td>2015-07-07</td>\n",
       "      <td>6VOp6a3L</td>\n",
       "      <td>0.0</td>\n",
       "      <td>0.0</td>\n",
       "      <td>0.0</td>\n",
       "      <td>2015-05-02</td>\n",
       "      <td>solid craft beer select nice ambienc good food...</td>\n",
       "      <td>4.0</td>\n",
       "    </tr>\n",
       "    <tr>\n",
       "      <th>165</th>\n",
       "      <td>2015-07-07</td>\n",
       "      <td>6VOp6a3L</td>\n",
       "      <td>0.0</td>\n",
       "      <td>0.0</td>\n",
       "      <td>0.0</td>\n",
       "      <td>2015-05-09</td>\n",
       "      <td>usual leav review disappoint enough first last...</td>\n",
       "      <td>5.0</td>\n",
       "    </tr>\n",
       "    <tr>\n",
       "      <th>166</th>\n",
       "      <td>2015-07-07</td>\n",
       "      <td>6VOp6a3L</td>\n",
       "      <td>0.0</td>\n",
       "      <td>0.0</td>\n",
       "      <td>0.0</td>\n",
       "      <td>2015-05-12</td>\n",
       "      <td>poor servic expens</td>\n",
       "      <td>5.0</td>\n",
       "    </tr>\n",
       "    <tr>\n",
       "      <th>295</th>\n",
       "      <td>2015-07-07</td>\n",
       "      <td>v5oJKbOB</td>\n",
       "      <td>0.0</td>\n",
       "      <td>0.0</td>\n",
       "      <td>0.0</td>\n",
       "      <td>2015-06-06</td>\n",
       "      <td>given happi garden anoth tri food significantl...</td>\n",
       "      <td>5.0</td>\n",
       "    </tr>\n",
       "    <tr>\n",
       "      <th>592</th>\n",
       "      <td>2015-07-07</td>\n",
       "      <td>0ZEDMl3D</td>\n",
       "      <td>0.0</td>\n",
       "      <td>0.0</td>\n",
       "      <td>0.0</td>\n",
       "      <td>2015-04-27</td>\n",
       "      <td>thai place best thai food boston tri black egg...</td>\n",
       "      <td>4.0</td>\n",
       "    </tr>\n",
       "  </tbody>\n",
       "</table>\n",
       "</div>"
      ],
      "text/plain": [
       "    inspect_date restaurant_id    *   **  *** review_date  \\\n",
       "161   2015-07-07      6VOp6a3L  0.0  0.0  0.0  2015-05-02   \n",
       "165   2015-07-07      6VOp6a3L  0.0  0.0  0.0  2015-05-09   \n",
       "166   2015-07-07      6VOp6a3L  0.0  0.0  0.0  2015-05-12   \n",
       "295   2015-07-07      v5oJKbOB  0.0  0.0  0.0  2015-06-06   \n",
       "592   2015-07-07      0ZEDMl3D  0.0  0.0  0.0  2015-04-27   \n",
       "\n",
       "                                                  text  *-predict  \n",
       "161  solid craft beer select nice ambienc good food...        4.0  \n",
       "165  usual leav review disappoint enough first last...        5.0  \n",
       "166                                 poor servic expens        5.0  \n",
       "295  given happi garden anoth tri food significantl...        5.0  \n",
       "592  thai place best thai food boston tri black egg...        4.0  "
      ]
     },
     "execution_count": 34,
     "metadata": {},
     "output_type": "execute_result"
    }
   ],
   "source": [
    "bg['*-predict'] = linreg.predict(tfidf.transform(bg['text'].values))\n",
    "bg.head()"
   ]
  },
  {
   "cell_type": "code",
   "execution_count": 48,
   "metadata": {
    "collapsed": false,
    "scrolled": true
   },
   "outputs": [
    {
     "data": {
      "text/html": [
       "<div>\n",
       "<table border=\"1\" class=\"dataframe\">\n",
       "  <thead>\n",
       "    <tr style=\"text-align: right;\">\n",
       "      <th></th>\n",
       "      <th>id</th>\n",
       "      <th>inspect_date</th>\n",
       "      <th>restaurant_id</th>\n",
       "      <th>*</th>\n",
       "      <th>**</th>\n",
       "      <th>***</th>\n",
       "      <th>business_id</th>\n",
       "      <th>(*-predict, mean)</th>\n",
       "    </tr>\n",
       "  </thead>\n",
       "  <tbody>\n",
       "    <tr>\n",
       "      <th>0</th>\n",
       "      <td>42065</td>\n",
       "      <td>2015-07-07</td>\n",
       "      <td>6VOp6a3L</td>\n",
       "      <td>0.0</td>\n",
       "      <td>0.0</td>\n",
       "      <td>0.0</td>\n",
       "      <td>atafOjxJyt4ohXWJLt6UaQ</td>\n",
       "      <td>4.666667</td>\n",
       "    </tr>\n",
       "    <tr>\n",
       "      <th>1</th>\n",
       "      <td>73703</td>\n",
       "      <td>2015-07-07</td>\n",
       "      <td>1JEbP4oR</td>\n",
       "      <td>0.0</td>\n",
       "      <td>0.0</td>\n",
       "      <td>0.0</td>\n",
       "      <td>1EjS_EEJ1iFMMZrt6FVXQQ</td>\n",
       "      <td>NaN</td>\n",
       "    </tr>\n",
       "    <tr>\n",
       "      <th>2</th>\n",
       "      <td>19212</td>\n",
       "      <td>2015-07-07</td>\n",
       "      <td>Pk3w02od</td>\n",
       "      <td>0.0</td>\n",
       "      <td>0.0</td>\n",
       "      <td>0.0</td>\n",
       "      <td>GAdqjmUmn_ibbfvo0wArIQ</td>\n",
       "      <td>NaN</td>\n",
       "    </tr>\n",
       "    <tr>\n",
       "      <th>3</th>\n",
       "      <td>15332</td>\n",
       "      <td>2015-07-07</td>\n",
       "      <td>N6OkmQ3x</td>\n",
       "      <td>0.0</td>\n",
       "      <td>0.0</td>\n",
       "      <td>0.0</td>\n",
       "      <td>erebWqQMcrr1FCzmyhZkMg</td>\n",
       "      <td>NaN</td>\n",
       "    </tr>\n",
       "    <tr>\n",
       "      <th>4</th>\n",
       "      <td>59579</td>\n",
       "      <td>2015-07-07</td>\n",
       "      <td>v5oJKbOB</td>\n",
       "      <td>0.0</td>\n",
       "      <td>0.0</td>\n",
       "      <td>0.0</td>\n",
       "      <td>MOcHiAoNyDZIEs43b_hkKg</td>\n",
       "      <td>5.000000</td>\n",
       "    </tr>\n",
       "  </tbody>\n",
       "</table>\n",
       "</div>"
      ],
      "text/plain": [
       "      id inspect_date restaurant_id    *   **  ***             business_id  \\\n",
       "0  42065   2015-07-07      6VOp6a3L  0.0  0.0  0.0  atafOjxJyt4ohXWJLt6UaQ   \n",
       "1  73703   2015-07-07      1JEbP4oR  0.0  0.0  0.0  1EjS_EEJ1iFMMZrt6FVXQQ   \n",
       "2  19212   2015-07-07      Pk3w02od  0.0  0.0  0.0  GAdqjmUmn_ibbfvo0wArIQ   \n",
       "3  15332   2015-07-07      N6OkmQ3x  0.0  0.0  0.0  erebWqQMcrr1FCzmyhZkMg   \n",
       "4  59579   2015-07-07      v5oJKbOB  0.0  0.0  0.0  MOcHiAoNyDZIEs43b_hkKg   \n",
       "\n",
       "   (*-predict, mean)  \n",
       "0           4.666667  \n",
       "1                NaN  \n",
       "2                NaN  \n",
       "3                NaN  \n",
       "4           5.000000  "
      ]
     },
     "execution_count": 48,
     "metadata": {},
     "output_type": "execute_result"
    }
   ],
   "source": [
    "mean_violations = bg.groupby('restaurant_id').agg({'*-predict':[np.mean]})\n",
    "pred = pd.merge(df_sub, mean_violations, left_on='restaurant_id', right_index=True, how='left')\n",
    "pred.head()"
   ]
  },
  {
   "cell_type": "code",
   "execution_count": 49,
   "metadata": {
    "collapsed": false
   },
   "outputs": [
    {
     "name": "stdout",
     "output_type": "stream",
     "text": [
      "<class 'pandas.core.frame.DataFrame'>\n",
      "Int64Index: 82173 entries, 0 to 82172\n",
      "Data columns (total 8 columns):\n",
      "id                   82173 non-null int64\n",
      "inspect_date         82173 non-null datetime64[ns]\n",
      "restaurant_id        82173 non-null object\n",
      "*                    82173 non-null float64\n",
      "**                   82173 non-null float64\n",
      "***                  82173 non-null float64\n",
      "business_id          82173 non-null object\n",
      "(*-predict, mean)    43430 non-null float64\n",
      "dtypes: datetime64[ns](1), float64(4), int64(1), object(2)\n",
      "memory usage: 5.6+ MB\n"
     ]
    }
   ],
   "source": [
    "pred.info()"
   ]
  },
  {
   "cell_type": "code",
   "execution_count": 46,
   "metadata": {
    "collapsed": false
   },
   "outputs": [
    {
     "data": {
      "text/html": [
       "<div>\n",
       "<table border=\"1\" class=\"dataframe\">\n",
       "  <thead>\n",
       "    <tr style=\"text-align: right;\">\n",
       "      <th></th>\n",
       "      <th>id</th>\n",
       "      <th>inspect_date</th>\n",
       "      <th>restaurant_id</th>\n",
       "      <th>*</th>\n",
       "      <th>**</th>\n",
       "      <th>***</th>\n",
       "      <th>business_id</th>\n",
       "      <th>(*-predict, mean)</th>\n",
       "    </tr>\n",
       "  </thead>\n",
       "  <tbody>\n",
       "    <tr>\n",
       "      <th>0</th>\n",
       "      <td>42065</td>\n",
       "      <td>2015-07-07</td>\n",
       "      <td>6VOp6a3L</td>\n",
       "      <td>0.0</td>\n",
       "      <td>0.0</td>\n",
       "      <td>0.0</td>\n",
       "      <td>atafOjxJyt4ohXWJLt6UaQ</td>\n",
       "      <td>5</td>\n",
       "    </tr>\n",
       "    <tr>\n",
       "      <th>1</th>\n",
       "      <td>73703</td>\n",
       "      <td>2015-07-07</td>\n",
       "      <td>1JEbP4oR</td>\n",
       "      <td>0.0</td>\n",
       "      <td>0.0</td>\n",
       "      <td>0.0</td>\n",
       "      <td>1EjS_EEJ1iFMMZrt6FVXQQ</td>\n",
       "      <td>3</td>\n",
       "    </tr>\n",
       "    <tr>\n",
       "      <th>2</th>\n",
       "      <td>19212</td>\n",
       "      <td>2015-07-07</td>\n",
       "      <td>Pk3w02od</td>\n",
       "      <td>0.0</td>\n",
       "      <td>0.0</td>\n",
       "      <td>0.0</td>\n",
       "      <td>GAdqjmUmn_ibbfvo0wArIQ</td>\n",
       "      <td>3</td>\n",
       "    </tr>\n",
       "    <tr>\n",
       "      <th>3</th>\n",
       "      <td>15332</td>\n",
       "      <td>2015-07-07</td>\n",
       "      <td>N6OkmQ3x</td>\n",
       "      <td>0.0</td>\n",
       "      <td>0.0</td>\n",
       "      <td>0.0</td>\n",
       "      <td>erebWqQMcrr1FCzmyhZkMg</td>\n",
       "      <td>3</td>\n",
       "    </tr>\n",
       "    <tr>\n",
       "      <th>4</th>\n",
       "      <td>59579</td>\n",
       "      <td>2015-07-07</td>\n",
       "      <td>v5oJKbOB</td>\n",
       "      <td>0.0</td>\n",
       "      <td>0.0</td>\n",
       "      <td>0.0</td>\n",
       "      <td>MOcHiAoNyDZIEs43b_hkKg</td>\n",
       "      <td>5</td>\n",
       "    </tr>\n",
       "  </tbody>\n",
       "</table>\n",
       "</div>"
      ],
      "text/plain": [
       "      id inspect_date restaurant_id    *   **  ***             business_id  \\\n",
       "0  42065   2015-07-07      6VOp6a3L  0.0  0.0  0.0  atafOjxJyt4ohXWJLt6UaQ   \n",
       "1  73703   2015-07-07      1JEbP4oR  0.0  0.0  0.0  1EjS_EEJ1iFMMZrt6FVXQQ   \n",
       "2  19212   2015-07-07      Pk3w02od  0.0  0.0  0.0  GAdqjmUmn_ibbfvo0wArIQ   \n",
       "3  15332   2015-07-07      N6OkmQ3x  0.0  0.0  0.0  erebWqQMcrr1FCzmyhZkMg   \n",
       "4  59579   2015-07-07      v5oJKbOB  0.0  0.0  0.0  MOcHiAoNyDZIEs43b_hkKg   \n",
       "\n",
       "   (*-predict, mean)  \n",
       "0                  5  \n",
       "1                  3  \n",
       "2                  3  \n",
       "3                  3  \n",
       "4                  5  "
      ]
     },
     "execution_count": 46,
     "metadata": {},
     "output_type": "execute_result"
    }
   ],
   "source": [
    "pred[('*-predict', 'mean')].fillna(3, inplace=True)\n",
    "pred[('*-predict', 'mean')] = pred[('*-predict', 'mean')].apply(lambda x: int(round(x)))\n",
    "pred.head()"
   ]
  }
 ],
 "metadata": {
  "kernelspec": {
   "display_name": "Python 2",
   "language": "python",
   "name": "python2"
  },
  "language_info": {
   "codemirror_mode": {
    "name": "ipython",
    "version": 2
   },
   "file_extension": ".py",
   "mimetype": "text/x-python",
   "name": "python",
   "nbconvert_exporter": "python",
   "pygments_lexer": "ipython2",
   "version": "2.7.5"
  }
 },
 "nbformat": 4,
 "nbformat_minor": 0
}
