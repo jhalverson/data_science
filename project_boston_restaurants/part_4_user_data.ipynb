{
 "cells": [
  {
   "cell_type": "markdown",
   "metadata": {},
   "source": [
    "# Jonathan Halverson\n",
    "# Keeping it Fresh: Predict Restaurant Inspections\n",
    "## Part 4: Yelp user data"
   ]
  },
  {
   "cell_type": "markdown",
   "metadata": {},
   "source": [
    "In this notebook we explore the Yelp user data and join it to the user reviews. Our interest is in normalizing each user's star rating by the average rating of all of their reviews."
   ]
  },
  {
   "cell_type": "markdown",
   "metadata": {},
   "source": [
    "We might be tempted to weight reviews by the number of votes they received. However, we do not know whether the votes were made during the inspection window or not so this will not be done."
   ]
  },
  {
   "cell_type": "code",
   "execution_count": 1,
   "metadata": {
    "collapsed": true
   },
   "outputs": [],
   "source": [
    "import numpy as np\n",
    "import pandas as pd\n",
    "import matplotlib.pyplot as plt\n",
    "%matplotlib inline\n",
    "plt.style.use('halverson')"
   ]
  },
  {
   "cell_type": "markdown",
   "metadata": {},
   "source": [
    "### Load the user data"
   ]
  },
  {
   "cell_type": "code",
   "execution_count": 2,
   "metadata": {
    "collapsed": false
   },
   "outputs": [
    {
     "data": {
      "text/html": [
       "<div>\n",
       "<table border=\"1\" class=\"dataframe\">\n",
       "  <thead>\n",
       "    <tr style=\"text-align: right;\">\n",
       "      <th></th>\n",
       "      <th>average_stars</th>\n",
       "      <th>compliments</th>\n",
       "      <th>elite</th>\n",
       "      <th>fans</th>\n",
       "      <th>friends</th>\n",
       "      <th>name</th>\n",
       "      <th>review_count</th>\n",
       "      <th>type</th>\n",
       "      <th>user_id</th>\n",
       "      <th>votes</th>\n",
       "      <th>yelping_since</th>\n",
       "    </tr>\n",
       "  </thead>\n",
       "  <tbody>\n",
       "    <tr>\n",
       "      <th>0</th>\n",
       "      <td>4.25</td>\n",
       "      <td>{u'profile': 2, u'cute': 10, u'funny': 4, u'pl...</td>\n",
       "      <td>[2005, 2006, 2007]</td>\n",
       "      <td>17</td>\n",
       "      <td>[rpOyqD_893cqmDAtJLbdog, 4U9kSBLuBDU391x6bxU-Y...</td>\n",
       "      <td>Brandon</td>\n",
       "      <td>193</td>\n",
       "      <td>user</td>\n",
       "      <td>E24Bu-vMhVpueQpU8mpRPw</td>\n",
       "      <td>{u'funny': 100, u'useful': 233, u'cool': 120}</td>\n",
       "      <td>2004-10</td>\n",
       "    </tr>\n",
       "    <tr>\n",
       "      <th>1</th>\n",
       "      <td>3.65</td>\n",
       "      <td>{u'profile': 112, u'cute': 205, u'funny': 572,...</td>\n",
       "      <td>[2005, 2006, 2007, 2008, 2009, 2010, 2011, 201...</td>\n",
       "      <td>1048</td>\n",
       "      <td>[E24Bu-vMhVpueQpU8mpRPw, 4U9kSBLuBDU391x6bxU-Y...</td>\n",
       "      <td>Jeremy</td>\n",
       "      <td>1251</td>\n",
       "      <td>user</td>\n",
       "      <td>rpOyqD_893cqmDAtJLbdog</td>\n",
       "      <td>{u'funny': 7143, u'useful': 13200, u'cool': 10...</td>\n",
       "      <td>2004-10</td>\n",
       "    </tr>\n",
       "    <tr>\n",
       "      <th>2</th>\n",
       "      <td>3.59</td>\n",
       "      <td>{u'profile': 8, u'cute': 23, u'funny': 122, u'...</td>\n",
       "      <td>[2005, 2006, 2007, 2008, 2009, 2010, 2011, 201...</td>\n",
       "      <td>93</td>\n",
       "      <td>[E24Bu-vMhVpueQpU8mpRPw, rpOyqD_893cqmDAtJLbdo...</td>\n",
       "      <td>Michael</td>\n",
       "      <td>442</td>\n",
       "      <td>user</td>\n",
       "      <td>4U9kSBLuBDU391x6bxU-YA</td>\n",
       "      <td>{u'funny': 915, u'useful': 1464, u'cool': 734}</td>\n",
       "      <td>2004-10</td>\n",
       "    </tr>\n",
       "  </tbody>\n",
       "</table>\n",
       "</div>"
      ],
      "text/plain": [
       "   average_stars                                        compliments  \\\n",
       "0           4.25  {u'profile': 2, u'cute': 10, u'funny': 4, u'pl...   \n",
       "1           3.65  {u'profile': 112, u'cute': 205, u'funny': 572,...   \n",
       "2           3.59  {u'profile': 8, u'cute': 23, u'funny': 122, u'...   \n",
       "\n",
       "                                               elite  fans  \\\n",
       "0                                 [2005, 2006, 2007]    17   \n",
       "1  [2005, 2006, 2007, 2008, 2009, 2010, 2011, 201...  1048   \n",
       "2  [2005, 2006, 2007, 2008, 2009, 2010, 2011, 201...    93   \n",
       "\n",
       "                                             friends     name  review_count  \\\n",
       "0  [rpOyqD_893cqmDAtJLbdog, 4U9kSBLuBDU391x6bxU-Y...  Brandon           193   \n",
       "1  [E24Bu-vMhVpueQpU8mpRPw, 4U9kSBLuBDU391x6bxU-Y...   Jeremy          1251   \n",
       "2  [E24Bu-vMhVpueQpU8mpRPw, rpOyqD_893cqmDAtJLbdo...  Michael           442   \n",
       "\n",
       "   type                 user_id  \\\n",
       "0  user  E24Bu-vMhVpueQpU8mpRPw   \n",
       "1  user  rpOyqD_893cqmDAtJLbdog   \n",
       "2  user  4U9kSBLuBDU391x6bxU-YA   \n",
       "\n",
       "                                               votes yelping_since  \n",
       "0      {u'funny': 100, u'useful': 233, u'cool': 120}       2004-10  \n",
       "1  {u'funny': 7143, u'useful': 13200, u'cool': 10...       2004-10  \n",
       "2     {u'funny': 915, u'useful': 1464, u'cool': 734}       2004-10  "
      ]
     },
     "execution_count": 2,
     "metadata": {},
     "output_type": "execute_result"
    }
   ],
   "source": [
    "from helper_methods import read_json\n",
    "df_usr = read_json('data/yelp_academic_dataset_user.json')\n",
    "df_usr.head(3)"
   ]
  },
  {
   "cell_type": "code",
   "execution_count": 3,
   "metadata": {
    "collapsed": true
   },
   "outputs": [],
   "source": [
    "df_usr['yelping_since'] = pd.to_datetime(df_usr['yelping_since'])\n",
    "df_usr['years_elite'] = df_usr['elite'].apply(len)\n",
    "df_usr['number_of_friends'] = df_usr['friends'].apply(len)\n",
    "df_usr['votes_funny'] = df_usr['votes'].apply(lambda x: x['funny'])\n",
    "df_usr['votes_useful'] = df_usr['votes'].apply(lambda x: x['useful'])\n",
    "df_usr['votes_cool'] = df_usr['votes'].apply(lambda x: x['cool'])\n",
    "df_usr['compliments_total'] = df_usr['compliments'].apply(lambda x: sum(x.values()))\n",
    "df_usr.drop(['type', 'votes'], axis=1, inplace=True)"
   ]
  },
  {
   "cell_type": "code",
   "execution_count": 4,
   "metadata": {
    "collapsed": false
   },
   "outputs": [
    {
     "name": "stdout",
     "output_type": "stream",
     "text": [
      "<class 'pandas.core.frame.DataFrame'>\n",
      "Int64Index: 71122 entries, 0 to 71121\n",
      "Data columns (total 15 columns):\n",
      "average_stars        71122 non-null float64\n",
      "compliments          71122 non-null object\n",
      "elite                71122 non-null object\n",
      "fans                 71122 non-null int64\n",
      "friends              71122 non-null object\n",
      "name                 71122 non-null object\n",
      "review_count         71122 non-null int64\n",
      "user_id              71122 non-null object\n",
      "yelping_since        71122 non-null datetime64[ns]\n",
      "years_elite          71122 non-null int64\n",
      "number_of_friends    71122 non-null int64\n",
      "votes_funny          71122 non-null int64\n",
      "votes_useful         71122 non-null int64\n",
      "votes_cool           71122 non-null int64\n",
      "compliments_total    71122 non-null int64\n",
      "dtypes: datetime64[ns](1), float64(1), int64(8), object(5)\n",
      "memory usage: 8.7+ MB\n"
     ]
    }
   ],
   "source": [
    "df_usr.info()"
   ]
  },
  {
   "cell_type": "code",
   "execution_count": 5,
   "metadata": {
    "collapsed": false
   },
   "outputs": [
    {
     "data": {
      "text/html": [
       "<div>\n",
       "<table border=\"1\" class=\"dataframe\">\n",
       "  <thead>\n",
       "    <tr style=\"text-align: right;\">\n",
       "      <th></th>\n",
       "      <th>average_stars</th>\n",
       "      <th>fans</th>\n",
       "      <th>review_count</th>\n",
       "      <th>years_elite</th>\n",
       "      <th>number_of_friends</th>\n",
       "      <th>votes_funny</th>\n",
       "      <th>votes_useful</th>\n",
       "      <th>votes_cool</th>\n",
       "      <th>compliments_total</th>\n",
       "    </tr>\n",
       "  </thead>\n",
       "  <tbody>\n",
       "    <tr>\n",
       "      <th>count</th>\n",
       "      <td>71122.000000</td>\n",
       "      <td>71122.000000</td>\n",
       "      <td>71122.000000</td>\n",
       "      <td>71122.000000</td>\n",
       "      <td>71122.000000</td>\n",
       "      <td>71122.000000</td>\n",
       "      <td>71122.000000</td>\n",
       "      <td>71122.000000</td>\n",
       "      <td>71122.000000</td>\n",
       "    </tr>\n",
       "    <tr>\n",
       "      <th>mean</th>\n",
       "      <td>3.658711</td>\n",
       "      <td>2.158629</td>\n",
       "      <td>47.655901</td>\n",
       "      <td>0.356247</td>\n",
       "      <td>3.586288</td>\n",
       "      <td>42.410506</td>\n",
       "      <td>86.358637</td>\n",
       "      <td>47.843874</td>\n",
       "      <td>36.688957</td>\n",
       "    </tr>\n",
       "    <tr>\n",
       "      <th>std</th>\n",
       "      <td>0.836370</td>\n",
       "      <td>17.012554</td>\n",
       "      <td>128.803301</td>\n",
       "      <td>1.203607</td>\n",
       "      <td>18.916231</td>\n",
       "      <td>411.535807</td>\n",
       "      <td>568.452780</td>\n",
       "      <td>466.605425</td>\n",
       "      <td>900.707675</td>\n",
       "    </tr>\n",
       "    <tr>\n",
       "      <th>min</th>\n",
       "      <td>0.000000</td>\n",
       "      <td>0.000000</td>\n",
       "      <td>0.000000</td>\n",
       "      <td>0.000000</td>\n",
       "      <td>0.000000</td>\n",
       "      <td>0.000000</td>\n",
       "      <td>0.000000</td>\n",
       "      <td>0.000000</td>\n",
       "      <td>0.000000</td>\n",
       "    </tr>\n",
       "    <tr>\n",
       "      <th>25%</th>\n",
       "      <td>3.330000</td>\n",
       "      <td>0.000000</td>\n",
       "      <td>4.000000</td>\n",
       "      <td>0.000000</td>\n",
       "      <td>0.000000</td>\n",
       "      <td>0.000000</td>\n",
       "      <td>2.000000</td>\n",
       "      <td>0.000000</td>\n",
       "      <td>0.000000</td>\n",
       "    </tr>\n",
       "    <tr>\n",
       "      <th>50%</th>\n",
       "      <td>3.770000</td>\n",
       "      <td>0.000000</td>\n",
       "      <td>12.000000</td>\n",
       "      <td>0.000000</td>\n",
       "      <td>0.000000</td>\n",
       "      <td>2.000000</td>\n",
       "      <td>10.000000</td>\n",
       "      <td>2.000000</td>\n",
       "      <td>0.000000</td>\n",
       "    </tr>\n",
       "    <tr>\n",
       "      <th>75%</th>\n",
       "      <td>4.140000</td>\n",
       "      <td>1.000000</td>\n",
       "      <td>34.000000</td>\n",
       "      <td>0.000000</td>\n",
       "      <td>2.000000</td>\n",
       "      <td>10.000000</td>\n",
       "      <td>37.000000</td>\n",
       "      <td>10.000000</td>\n",
       "      <td>3.000000</td>\n",
       "    </tr>\n",
       "    <tr>\n",
       "      <th>max</th>\n",
       "      <td>5.000000</td>\n",
       "      <td>1313.000000</td>\n",
       "      <td>4726.000000</td>\n",
       "      <td>11.000000</td>\n",
       "      <td>1591.000000</td>\n",
       "      <td>33839.000000</td>\n",
       "      <td>38334.000000</td>\n",
       "      <td>34130.000000</td>\n",
       "      <td>191573.000000</td>\n",
       "    </tr>\n",
       "  </tbody>\n",
       "</table>\n",
       "</div>"
      ],
      "text/plain": [
       "       average_stars          fans  review_count   years_elite  \\\n",
       "count   71122.000000  71122.000000  71122.000000  71122.000000   \n",
       "mean        3.658711      2.158629     47.655901      0.356247   \n",
       "std         0.836370     17.012554    128.803301      1.203607   \n",
       "min         0.000000      0.000000      0.000000      0.000000   \n",
       "25%         3.330000      0.000000      4.000000      0.000000   \n",
       "50%         3.770000      0.000000     12.000000      0.000000   \n",
       "75%         4.140000      1.000000     34.000000      0.000000   \n",
       "max         5.000000   1313.000000   4726.000000     11.000000   \n",
       "\n",
       "       number_of_friends   votes_funny  votes_useful    votes_cool  \\\n",
       "count       71122.000000  71122.000000  71122.000000  71122.000000   \n",
       "mean            3.586288     42.410506     86.358637     47.843874   \n",
       "std            18.916231    411.535807    568.452780    466.605425   \n",
       "min             0.000000      0.000000      0.000000      0.000000   \n",
       "25%             0.000000      0.000000      2.000000      0.000000   \n",
       "50%             0.000000      2.000000     10.000000      2.000000   \n",
       "75%             2.000000     10.000000     37.000000     10.000000   \n",
       "max          1591.000000  33839.000000  38334.000000  34130.000000   \n",
       "\n",
       "       compliments_total  \n",
       "count       71122.000000  \n",
       "mean           36.688957  \n",
       "std           900.707675  \n",
       "min             0.000000  \n",
       "25%             0.000000  \n",
       "50%             0.000000  \n",
       "75%             3.000000  \n",
       "max        191573.000000  "
      ]
     },
     "execution_count": 5,
     "metadata": {},
     "output_type": "execute_result"
    }
   ],
   "source": [
    "df_usr.describe()"
   ]
  },
  {
   "cell_type": "markdown",
   "metadata": {},
   "source": [
    "The only column with all uniques values is the user_id:"
   ]
  },
  {
   "cell_type": "code",
   "execution_count": 6,
   "metadata": {
    "collapsed": false
   },
   "outputs": [
    {
     "name": "stdout",
     "output_type": "stream",
     "text": [
      "71122 442 average_stars\n",
      "71122 205 fans\n",
      "71122 12423 name\n",
      "71122 1037 review_count\n",
      "71122 71122 user_id\n",
      "71122 129 yelping_since\n",
      "71122 12 years_elite\n",
      "71122 260 number_of_friends\n",
      "71122 1220 votes_funny\n",
      "71122 1730 votes_useful\n",
      "71122 1300 votes_cool\n",
      "71122 1029 compliments_total\n"
     ]
    }
   ],
   "source": [
    "non_iterable = filter(lambda c: not isinstance(df_usr[c].loc[0], list) and not isinstance(df_usr[c].loc[0], dict), df_usr.columns)\n",
    "for column in non_iterable:\n",
    "    print df_usr.shape[0], df_usr[column].unique().size, column"
   ]
  },
  {
   "cell_type": "markdown",
   "metadata": {},
   "source": [
    "What are the 10 most common names?"
   ]
  },
  {
   "cell_type": "code",
   "execution_count": 7,
   "metadata": {
    "collapsed": false
   },
   "outputs": [
    {
     "data": {
      "text/plain": [
       "name\n",
       "Michael     695\n",
       "John        692\n",
       "David       678\n",
       "Chris       662\n",
       "Mike        585\n",
       "Sarah       534\n",
       "Jennifer    453\n",
       "Matt        450\n",
       "Jessica     428\n",
       "Brian       408\n",
       "dtype: int64"
      ]
     },
     "execution_count": 7,
     "metadata": {},
     "output_type": "execute_result"
    }
   ],
   "source": [
    "df_usr.groupby('name').size().sort_values(ascending=False)[:10]"
   ]
  },
  {
   "cell_type": "markdown",
   "metadata": {},
   "source": [
    "Our expectation is that the number of reviews written will increase with time as a member of Yelp:"
   ]
  },
  {
   "cell_type": "code",
   "execution_count": 8,
   "metadata": {
    "collapsed": false
   },
   "outputs": [
    {
     "data": {
      "text/plain": [
       "<matplotlib.text.Text at 0x1194f3f50>"
      ]
     },
     "execution_count": 8,
     "metadata": {},
     "output_type": "execute_result"
    },
    {
     "data": {
      "image/png": "[encoded data removed]",
      "text/plain": [
       "<matplotlib.figure.Figure at 0x104178e90>"
      ]
     },
     "metadata": {},
     "output_type": "display_data"
    }
   ],
   "source": [
    "fig, ax = plt.subplots(1, 1, figsize=(15, 5))\n",
    "plt.plot(df_usr.yelping_since, df_usr.review_count, '.')\n",
    "plt.xlabel('Date of first Yelp review')\n",
    "plt.ylabel('Number of reviews')"
   ]
  },
  {
   "cell_type": "markdown",
   "metadata": {},
   "source": [
    "Note the histogram of average star ratings is not center at 3. We may consider normalizing each user's rating by their average rating."
   ]
  },
  {
   "cell_type": "code",
   "execution_count": 9,
   "metadata": {
    "collapsed": false
   },
   "outputs": [
    {
     "data": {
      "text/plain": [
       "<matplotlib.text.Text at 0x1194f3a50>"
      ]
     },
     "execution_count": 9,
     "metadata": {},
     "output_type": "execute_result"
    },
    {
     "data": {
      "image/png": "[encoded data removed]",
      "text/plain": [
       "<matplotlib.figure.Figure at 0x107c9ab50>"
      ]
     },
     "metadata": {},
     "output_type": "display_data"
    }
   ],
   "source": [
    "plt.hist(df_usr[df_usr['review_count'] > 10].average_stars, bins=20)\n",
    "plt.xlabel('Average star rating')\n",
    "plt.ylabel('Count')"
   ]
  },
  {
   "cell_type": "markdown",
   "metadata": {},
   "source": [
    "One could perform a network analysis since we have the id's of each user's friends. Based on the number of votes of the friends we could figure out who are the most influential users and assign greater weight to their votes. We could also ignore this and weight individual reviews based on the number of votes they receive. However, we do not know if the votes came in the inspection window so we will refrain."
   ]
  },
  {
   "cell_type": "code",
   "execution_count": 10,
   "metadata": {
    "collapsed": false
   },
   "outputs": [
    {
     "data": {
      "text/html": [
       "<div>\n",
       "<table border=\"1\" class=\"dataframe\">\n",
       "  <thead>\n",
       "    <tr style=\"text-align: right;\">\n",
       "      <th></th>\n",
       "      <th>name</th>\n",
       "      <th>votes_useful</th>\n",
       "      <th>years_elite</th>\n",
       "    </tr>\n",
       "  </thead>\n",
       "  <tbody>\n",
       "    <tr>\n",
       "      <th>60122</th>\n",
       "      <td>Lolia</td>\n",
       "      <td>38334</td>\n",
       "      <td>3</td>\n",
       "    </tr>\n",
       "    <tr>\n",
       "      <th>24750</th>\n",
       "      <td>Brian</td>\n",
       "      <td>35106</td>\n",
       "      <td>0</td>\n",
       "    </tr>\n",
       "    <tr>\n",
       "      <th>16190</th>\n",
       "      <td>Anthony</td>\n",
       "      <td>33264</td>\n",
       "      <td>7</td>\n",
       "    </tr>\n",
       "    <tr>\n",
       "      <th>3492</th>\n",
       "      <td>Jessica</td>\n",
       "      <td>33159</td>\n",
       "      <td>11</td>\n",
       "    </tr>\n",
       "    <tr>\n",
       "      <th>20932</th>\n",
       "      <td>Colleen</td>\n",
       "      <td>29827</td>\n",
       "      <td>9</td>\n",
       "    </tr>\n",
       "    <tr>\n",
       "      <th>45583</th>\n",
       "      <td>Peter</td>\n",
       "      <td>26763</td>\n",
       "      <td>8</td>\n",
       "    </tr>\n",
       "    <tr>\n",
       "      <th>24414</th>\n",
       "      <td>Katie</td>\n",
       "      <td>26036</td>\n",
       "      <td>7</td>\n",
       "    </tr>\n",
       "    <tr>\n",
       "      <th>12444</th>\n",
       "      <td>Stephy</td>\n",
       "      <td>24591</td>\n",
       "      <td>4</td>\n",
       "    </tr>\n",
       "    <tr>\n",
       "      <th>16840</th>\n",
       "      <td>Katy</td>\n",
       "      <td>23215</td>\n",
       "      <td>7</td>\n",
       "    </tr>\n",
       "    <tr>\n",
       "      <th>11130</th>\n",
       "      <td>Bruce</td>\n",
       "      <td>21056</td>\n",
       "      <td>6</td>\n",
       "    </tr>\n",
       "  </tbody>\n",
       "</table>\n",
       "</div>"
      ],
      "text/plain": [
       "          name  votes_useful  years_elite\n",
       "60122    Lolia         38334            3\n",
       "24750    Brian         35106            0\n",
       "16190  Anthony         33264            7\n",
       "3492   Jessica         33159           11\n",
       "20932  Colleen         29827            9\n",
       "45583    Peter         26763            8\n",
       "24414    Katie         26036            7\n",
       "12444   Stephy         24591            4\n",
       "16840     Katy         23215            7\n",
       "11130    Bruce         21056            6"
      ]
     },
     "execution_count": 10,
     "metadata": {},
     "output_type": "execute_result"
    }
   ],
   "source": [
    "df_usr.sort_values('votes_useful', ascending=False)[['name', 'votes_useful', 'years_elite']][:10]"
   ]
  },
  {
   "cell_type": "code",
   "execution_count": 11,
   "metadata": {
    "collapsed": false
   },
   "outputs": [
    {
     "data": {
      "text/html": [
       "<div>\n",
       "<table border=\"1\" class=\"dataframe\">\n",
       "  <thead>\n",
       "    <tr style=\"text-align: right;\">\n",
       "      <th></th>\n",
       "      <th>name</th>\n",
       "      <th>compliments_total</th>\n",
       "      <th>years_elite</th>\n",
       "    </tr>\n",
       "  </thead>\n",
       "  <tbody>\n",
       "    <tr>\n",
       "      <th>24750</th>\n",
       "      <td>Brian</td>\n",
       "      <td>191573</td>\n",
       "      <td>0</td>\n",
       "    </tr>\n",
       "    <tr>\n",
       "      <th>60122</th>\n",
       "      <td>Lolia</td>\n",
       "      <td>78344</td>\n",
       "      <td>3</td>\n",
       "    </tr>\n",
       "    <tr>\n",
       "      <th>16190</th>\n",
       "      <td>Anthony</td>\n",
       "      <td>41256</td>\n",
       "      <td>7</td>\n",
       "    </tr>\n",
       "    <tr>\n",
       "      <th>6947</th>\n",
       "      <td>DJ</td>\n",
       "      <td>31844</td>\n",
       "      <td>3</td>\n",
       "    </tr>\n",
       "    <tr>\n",
       "      <th>24414</th>\n",
       "      <td>Katie</td>\n",
       "      <td>29377</td>\n",
       "      <td>7</td>\n",
       "    </tr>\n",
       "    <tr>\n",
       "      <th>3492</th>\n",
       "      <td>Jessica</td>\n",
       "      <td>22926</td>\n",
       "      <td>11</td>\n",
       "    </tr>\n",
       "    <tr>\n",
       "      <th>20932</th>\n",
       "      <td>Colleen</td>\n",
       "      <td>22014</td>\n",
       "      <td>9</td>\n",
       "    </tr>\n",
       "    <tr>\n",
       "      <th>27347</th>\n",
       "      <td>Jando</td>\n",
       "      <td>21620</td>\n",
       "      <td>9</td>\n",
       "    </tr>\n",
       "    <tr>\n",
       "      <th>33703</th>\n",
       "      <td>Jennifer</td>\n",
       "      <td>20507</td>\n",
       "      <td>5</td>\n",
       "    </tr>\n",
       "    <tr>\n",
       "      <th>1127</th>\n",
       "      <td>Santi</td>\n",
       "      <td>20436</td>\n",
       "      <td>7</td>\n",
       "    </tr>\n",
       "  </tbody>\n",
       "</table>\n",
       "</div>"
      ],
      "text/plain": [
       "           name  compliments_total  years_elite\n",
       "24750     Brian             191573            0\n",
       "60122     Lolia              78344            3\n",
       "16190   Anthony              41256            7\n",
       "6947         DJ              31844            3\n",
       "24414     Katie              29377            7\n",
       "3492    Jessica              22926           11\n",
       "20932   Colleen              22014            9\n",
       "27347     Jando              21620            9\n",
       "33703  Jennifer              20507            5\n",
       "1127      Santi              20436            7"
      ]
     },
     "execution_count": 11,
     "metadata": {},
     "output_type": "execute_result"
    }
   ],
   "source": [
    "df_usr.sort_values('compliments_total', ascending=False)[['name', 'compliments_total', 'years_elite']][:10]"
   ]
  },
  {
   "cell_type": "markdown",
   "metadata": {},
   "source": [
    "# Let's join the user data with the user reviews"
   ]
  },
  {
   "cell_type": "code",
   "execution_count": 12,
   "metadata": {
    "collapsed": false
   },
   "outputs": [
    {
     "data": {
      "text/html": [
       "<div>\n",
       "<table border=\"1\" class=\"dataframe\">\n",
       "  <thead>\n",
       "    <tr style=\"text-align: right;\">\n",
       "      <th></th>\n",
       "      <th>business_id</th>\n",
       "      <th>review_date</th>\n",
       "      <th>review_id</th>\n",
       "      <th>stars</th>\n",
       "      <th>text</th>\n",
       "      <th>type</th>\n",
       "      <th>user_id</th>\n",
       "      <th>votes</th>\n",
       "    </tr>\n",
       "  </thead>\n",
       "  <tbody>\n",
       "    <tr>\n",
       "      <th>0</th>\n",
       "      <td>Jp9svt7sRT4zwdbzQ8KQmw</td>\n",
       "      <td>2005-08-26</td>\n",
       "      <td>OeT5kgUOe3vcN7H6ImVmZQ</td>\n",
       "      <td>3</td>\n",
       "      <td>This is a pretty typical cafe.  The sandwiches...</td>\n",
       "      <td>review</td>\n",
       "      <td>P_Mk0ygOilLJo4_WEvabAA</td>\n",
       "      <td>{u'funny': 0, u'useful': 0, u'cool': 0}</td>\n",
       "    </tr>\n",
       "    <tr>\n",
       "      <th>1</th>\n",
       "      <td>Jp9svt7sRT4zwdbzQ8KQmw</td>\n",
       "      <td>2005-11-23</td>\n",
       "      <td>qq3zF2dDUh3EjMDuKBqhEA</td>\n",
       "      <td>3</td>\n",
       "      <td>I agree with other reviewers - this is a prett...</td>\n",
       "      <td>review</td>\n",
       "      <td>TNJRTBrl0yjtpAACr1Bthg</td>\n",
       "      <td>{u'funny': 0, u'useful': 0, u'cool': 0}</td>\n",
       "    </tr>\n",
       "    <tr>\n",
       "      <th>2</th>\n",
       "      <td>Jp9svt7sRT4zwdbzQ8KQmw</td>\n",
       "      <td>2005-11-23</td>\n",
       "      <td>i3eQTINJXe3WUmyIpvhE9w</td>\n",
       "      <td>3</td>\n",
       "      <td>Decent enough food, but very overpriced. Just ...</td>\n",
       "      <td>review</td>\n",
       "      <td>H_mngeK3DmjlOu595zZMsA</td>\n",
       "      <td>{u'funny': 0, u'useful': 0, u'cool': 0}</td>\n",
       "    </tr>\n",
       "  </tbody>\n",
       "</table>\n",
       "</div>"
      ],
      "text/plain": [
       "              business_id review_date               review_id  stars  \\\n",
       "0  Jp9svt7sRT4zwdbzQ8KQmw  2005-08-26  OeT5kgUOe3vcN7H6ImVmZQ      3   \n",
       "1  Jp9svt7sRT4zwdbzQ8KQmw  2005-11-23  qq3zF2dDUh3EjMDuKBqhEA      3   \n",
       "2  Jp9svt7sRT4zwdbzQ8KQmw  2005-11-23  i3eQTINJXe3WUmyIpvhE9w      3   \n",
       "\n",
       "                                                text    type  \\\n",
       "0  This is a pretty typical cafe.  The sandwiches...  review   \n",
       "1  I agree with other reviewers - this is a prett...  review   \n",
       "2  Decent enough food, but very overpriced. Just ...  review   \n",
       "\n",
       "                  user_id                                    votes  \n",
       "0  P_Mk0ygOilLJo4_WEvabAA  {u'funny': 0, u'useful': 0, u'cool': 0}  \n",
       "1  TNJRTBrl0yjtpAACr1Bthg  {u'funny': 0, u'useful': 0, u'cool': 0}  \n",
       "2  H_mngeK3DmjlOu595zZMsA  {u'funny': 0, u'useful': 0, u'cool': 0}  "
      ]
     },
     "execution_count": 12,
     "metadata": {},
     "output_type": "execute_result"
    }
   ],
   "source": [
    "from helper_methods import read_json\n",
    "df_rev = read_json('data/yelp_academic_dataset_review.json')\n",
    "df_rev.rename(columns={'date':'review_date'}, inplace=True)\n",
    "df_rev.head(3)"
   ]
  },
  {
   "cell_type": "code",
   "execution_count": 13,
   "metadata": {
    "collapsed": false
   },
   "outputs": [
    {
     "name": "stdout",
     "output_type": "stream",
     "text": [
      "<class 'pandas.core.frame.DataFrame'>\n",
      "Int64Index: 235213 entries, 0 to 235212\n",
      "Data columns (total 8 columns):\n",
      "business_id    235213 non-null object\n",
      "review_date    235213 non-null datetime64[ns]\n",
      "review_id      235213 non-null object\n",
      "stars          235213 non-null int64\n",
      "text           235213 non-null object\n",
      "type           235213 non-null object\n",
      "user_id        235213 non-null object\n",
      "votes          235213 non-null object\n",
      "dtypes: datetime64[ns](1), int64(1), object(6)\n",
      "memory usage: 16.2+ MB\n"
     ]
    }
   ],
   "source": [
    "df_rev.info()"
   ]
  },
  {
   "cell_type": "markdown",
   "metadata": {},
   "source": [
    "Note that the number of unique id's in user data is equal to that in the reviews:"
   ]
  },
  {
   "cell_type": "code",
   "execution_count": 14,
   "metadata": {
    "collapsed": false
   },
   "outputs": [
    {
     "data": {
      "text/plain": [
       "True"
      ]
     },
     "execution_count": 14,
     "metadata": {},
     "output_type": "execute_result"
    }
   ],
   "source": [
    "df_usr.user_id.unique().size == df_rev.user_id.unique().size"
   ]
  },
  {
   "cell_type": "code",
   "execution_count": 15,
   "metadata": {
    "collapsed": false
   },
   "outputs": [
    {
     "data": {
      "text/html": [
       "<div>\n",
       "<table border=\"1\" class=\"dataframe\">\n",
       "  <thead>\n",
       "    <tr style=\"text-align: right;\">\n",
       "      <th></th>\n",
       "      <th>average_stars</th>\n",
       "      <th>compliments</th>\n",
       "      <th>elite</th>\n",
       "      <th>fans</th>\n",
       "      <th>friends</th>\n",
       "      <th>name</th>\n",
       "      <th>review_count</th>\n",
       "      <th>user_id</th>\n",
       "      <th>yelping_since</th>\n",
       "      <th>years_elite</th>\n",
       "      <th>...</th>\n",
       "      <th>votes_useful</th>\n",
       "      <th>votes_cool</th>\n",
       "      <th>compliments_total</th>\n",
       "      <th>business_id</th>\n",
       "      <th>review_date</th>\n",
       "      <th>review_id</th>\n",
       "      <th>stars</th>\n",
       "      <th>text</th>\n",
       "      <th>type</th>\n",
       "      <th>votes</th>\n",
       "    </tr>\n",
       "  </thead>\n",
       "  <tbody>\n",
       "    <tr>\n",
       "      <th>0</th>\n",
       "      <td>4.25</td>\n",
       "      <td>{u'profile': 2, u'cute': 10, u'funny': 4, u'pl...</td>\n",
       "      <td>[2005, 2006, 2007]</td>\n",
       "      <td>17</td>\n",
       "      <td>[rpOyqD_893cqmDAtJLbdog, 4U9kSBLuBDU391x6bxU-Y...</td>\n",
       "      <td>Brandon</td>\n",
       "      <td>193</td>\n",
       "      <td>E24Bu-vMhVpueQpU8mpRPw</td>\n",
       "      <td>2004-10-01</td>\n",
       "      <td>3</td>\n",
       "      <td>...</td>\n",
       "      <td>233</td>\n",
       "      <td>120</td>\n",
       "      <td>52</td>\n",
       "      <td>7L4nyg4fGloeqMXCq0996g</td>\n",
       "      <td>2005-06-24</td>\n",
       "      <td>lRdSCzNLfpthrjEIBF84Tg</td>\n",
       "      <td>5</td>\n",
       "      <td>I liked this place a lot.  They have pretty go...</td>\n",
       "      <td>review</td>\n",
       "      <td>{u'funny': 0, u'useful': 2, u'cool': 1}</td>\n",
       "    </tr>\n",
       "    <tr>\n",
       "      <th>1</th>\n",
       "      <td>4.25</td>\n",
       "      <td>{u'profile': 2, u'cute': 10, u'funny': 4, u'pl...</td>\n",
       "      <td>[2005, 2006, 2007]</td>\n",
       "      <td>17</td>\n",
       "      <td>[rpOyqD_893cqmDAtJLbdog, 4U9kSBLuBDU391x6bxU-Y...</td>\n",
       "      <td>Brandon</td>\n",
       "      <td>193</td>\n",
       "      <td>E24Bu-vMhVpueQpU8mpRPw</td>\n",
       "      <td>2004-10-01</td>\n",
       "      <td>3</td>\n",
       "      <td>...</td>\n",
       "      <td>233</td>\n",
       "      <td>120</td>\n",
       "      <td>52</td>\n",
       "      <td>UMSwEeTTJF512vzQ3d1Zag</td>\n",
       "      <td>2005-07-01</td>\n",
       "      <td>ZFm99WdSSOQvUGfFIhFIwA</td>\n",
       "      <td>4</td>\n",
       "      <td>Pricey (hey, it's seafood!), but pretty tasty,...</td>\n",
       "      <td>review</td>\n",
       "      <td>{u'funny': 0, u'useful': 2, u'cool': 1}</td>\n",
       "    </tr>\n",
       "    <tr>\n",
       "      <th>2</th>\n",
       "      <td>4.25</td>\n",
       "      <td>{u'profile': 2, u'cute': 10, u'funny': 4, u'pl...</td>\n",
       "      <td>[2005, 2006, 2007]</td>\n",
       "      <td>17</td>\n",
       "      <td>[rpOyqD_893cqmDAtJLbdog, 4U9kSBLuBDU391x6bxU-Y...</td>\n",
       "      <td>Brandon</td>\n",
       "      <td>193</td>\n",
       "      <td>E24Bu-vMhVpueQpU8mpRPw</td>\n",
       "      <td>2004-10-01</td>\n",
       "      <td>3</td>\n",
       "      <td>...</td>\n",
       "      <td>233</td>\n",
       "      <td>120</td>\n",
       "      <td>52</td>\n",
       "      <td>rMEfTzepRZucM_j7sFveKw</td>\n",
       "      <td>2005-07-01</td>\n",
       "      <td>mQkl4FaDFtgGmyXwzYlzLg</td>\n",
       "      <td>3</td>\n",
       "      <td>they have a half-price mexican night that's pr...</td>\n",
       "      <td>review</td>\n",
       "      <td>{u'funny': 0, u'useful': 0, u'cool': 0}</td>\n",
       "    </tr>\n",
       "  </tbody>\n",
       "</table>\n",
       "<p>3 rows × 22 columns</p>\n",
       "</div>"
      ],
      "text/plain": [
       "   average_stars                                        compliments  \\\n",
       "0           4.25  {u'profile': 2, u'cute': 10, u'funny': 4, u'pl...   \n",
       "1           4.25  {u'profile': 2, u'cute': 10, u'funny': 4, u'pl...   \n",
       "2           4.25  {u'profile': 2, u'cute': 10, u'funny': 4, u'pl...   \n",
       "\n",
       "                elite  fans  \\\n",
       "0  [2005, 2006, 2007]    17   \n",
       "1  [2005, 2006, 2007]    17   \n",
       "2  [2005, 2006, 2007]    17   \n",
       "\n",
       "                                             friends     name  review_count  \\\n",
       "0  [rpOyqD_893cqmDAtJLbdog, 4U9kSBLuBDU391x6bxU-Y...  Brandon           193   \n",
       "1  [rpOyqD_893cqmDAtJLbdog, 4U9kSBLuBDU391x6bxU-Y...  Brandon           193   \n",
       "2  [rpOyqD_893cqmDAtJLbdog, 4U9kSBLuBDU391x6bxU-Y...  Brandon           193   \n",
       "\n",
       "                  user_id yelping_since  years_elite  \\\n",
       "0  E24Bu-vMhVpueQpU8mpRPw    2004-10-01            3   \n",
       "1  E24Bu-vMhVpueQpU8mpRPw    2004-10-01            3   \n",
       "2  E24Bu-vMhVpueQpU8mpRPw    2004-10-01            3   \n",
       "\n",
       "                    ...                     votes_useful  votes_cool  \\\n",
       "0                   ...                              233         120   \n",
       "1                   ...                              233         120   \n",
       "2                   ...                              233         120   \n",
       "\n",
       "   compliments_total             business_id  review_date  \\\n",
       "0                 52  7L4nyg4fGloeqMXCq0996g   2005-06-24   \n",
       "1                 52  UMSwEeTTJF512vzQ3d1Zag   2005-07-01   \n",
       "2                 52  rMEfTzepRZucM_j7sFveKw   2005-07-01   \n",
       "\n",
       "                review_id stars  \\\n",
       "0  lRdSCzNLfpthrjEIBF84Tg     5   \n",
       "1  ZFm99WdSSOQvUGfFIhFIwA     4   \n",
       "2  mQkl4FaDFtgGmyXwzYlzLg     3   \n",
       "\n",
       "                                                text    type  \\\n",
       "0  I liked this place a lot.  They have pretty go...  review   \n",
       "1  Pricey (hey, it's seafood!), but pretty tasty,...  review   \n",
       "2  they have a half-price mexican night that's pr...  review   \n",
       "\n",
       "                                     votes  \n",
       "0  {u'funny': 0, u'useful': 2, u'cool': 1}  \n",
       "1  {u'funny': 0, u'useful': 2, u'cool': 1}  \n",
       "2  {u'funny': 0, u'useful': 0, u'cool': 0}  \n",
       "\n",
       "[3 rows x 22 columns]"
      ]
     },
     "execution_count": 15,
     "metadata": {},
     "output_type": "execute_result"
    }
   ],
   "source": [
    "df_usr_rev = pd.merge(df_usr, df_rev, on='user_id', how='right')\n",
    "df_usr_rev.head(3)"
   ]
  },
  {
   "cell_type": "code",
   "execution_count": 16,
   "metadata": {
    "collapsed": false
   },
   "outputs": [
    {
     "name": "stdout",
     "output_type": "stream",
     "text": [
      "<class 'pandas.core.frame.DataFrame'>\n",
      "Int64Index: 235213 entries, 0 to 235212\n",
      "Data columns (total 22 columns):\n",
      "average_stars        235213 non-null float64\n",
      "compliments          235213 non-null object\n",
      "elite                235213 non-null object\n",
      "fans                 235213 non-null int64\n",
      "friends              235213 non-null object\n",
      "name                 235213 non-null object\n",
      "review_count         235213 non-null int64\n",
      "user_id              235213 non-null object\n",
      "yelping_since        235213 non-null datetime64[ns]\n",
      "years_elite          235213 non-null int64\n",
      "number_of_friends    235213 non-null int64\n",
      "votes_funny          235213 non-null int64\n",
      "votes_useful         235213 non-null int64\n",
      "votes_cool           235213 non-null int64\n",
      "compliments_total    235213 non-null int64\n",
      "business_id          235213 non-null object\n",
      "review_date          235213 non-null datetime64[ns]\n",
      "review_id            235213 non-null object\n",
      "stars                235213 non-null int64\n",
      "text                 235213 non-null object\n",
      "type                 235213 non-null object\n",
      "votes                235213 non-null object\n",
      "dtypes: datetime64[ns](2), float64(1), int64(9), object(10)\n",
      "memory usage: 41.3+ MB\n"
     ]
    }
   ],
   "source": [
    "df_usr_rev.info()"
   ]
  },
  {
   "cell_type": "code",
   "execution_count": 17,
   "metadata": {
    "collapsed": false
   },
   "outputs": [
    {
     "data": {
      "text/html": [
       "<div>\n",
       "<table border=\"1\" class=\"dataframe\">\n",
       "  <thead>\n",
       "    <tr>\n",
       "      <th></th>\n",
       "      <th colspan=\"3\" halign=\"left\">stars</th>\n",
       "    </tr>\n",
       "    <tr>\n",
       "      <th></th>\n",
       "      <th>size</th>\n",
       "      <th>mean</th>\n",
       "      <th>median</th>\n",
       "    </tr>\n",
       "    <tr>\n",
       "      <th>user_id</th>\n",
       "      <th></th>\n",
       "      <th></th>\n",
       "      <th></th>\n",
       "    </tr>\n",
       "  </thead>\n",
       "  <tbody>\n",
       "    <tr>\n",
       "      <th>---VHrmY76KEMOs62qthbw</th>\n",
       "      <td>1</td>\n",
       "      <td>5.000000</td>\n",
       "      <td>5.0</td>\n",
       "    </tr>\n",
       "    <tr>\n",
       "      <th>--0HEXd4W6bJI8k7E0RxTA</th>\n",
       "      <td>4</td>\n",
       "      <td>4.250000</td>\n",
       "      <td>4.0</td>\n",
       "    </tr>\n",
       "    <tr>\n",
       "      <th>--0KsjlAThNWua2Pr4HStQ</th>\n",
       "      <td>3</td>\n",
       "      <td>3.333333</td>\n",
       "      <td>3.0</td>\n",
       "    </tr>\n",
       "  </tbody>\n",
       "</table>\n",
       "</div>"
      ],
      "text/plain": [
       "                       stars                 \n",
       "                        size      mean median\n",
       "user_id                                      \n",
       "---VHrmY76KEMOs62qthbw     1  5.000000    5.0\n",
       "--0HEXd4W6bJI8k7E0RxTA     4  4.250000    4.0\n",
       "--0KsjlAThNWua2Pr4HStQ     3  3.333333    3.0"
      ]
     },
     "execution_count": 17,
     "metadata": {},
     "output_type": "execute_result"
    }
   ],
   "source": [
    "stars_by_rev = df_usr_rev.groupby('user_id').agg({'stars':[np.size, np.mean, np.median]})\n",
    "stars_by_rev.head(3)"
   ]
  },
  {
   "cell_type": "code",
   "execution_count": 18,
   "metadata": {
    "collapsed": false
   },
   "outputs": [
    {
     "data": {
      "text/plain": [
       "<matplotlib.text.Text at 0x11502b8d0>"
      ]
     },
     "execution_count": 18,
     "metadata": {},
     "output_type": "execute_result"
    },
    {
     "data": {
      "image/png": "[encoded data removed]",
      "text/plain": [
       "<matplotlib.figure.Figure at 0x117dfc150>"
      ]
     },
     "metadata": {},
     "output_type": "display_data"
    }
   ],
   "source": [
    "plt.hist(stars_by_rev[('stars', 'size')], bins=30, range=(0, 300), log=True)\n",
    "plt.xlabel('Number of restaurant reviews')\n",
    "plt.ylabel('Count')"
   ]
  },
  {
   "cell_type": "code",
   "execution_count": 19,
   "metadata": {
    "collapsed": false
   },
   "outputs": [
    {
     "data": {
      "text/html": [
       "<div>\n",
       "<table border=\"1\" class=\"dataframe\">\n",
       "  <thead>\n",
       "    <tr style=\"text-align: right;\">\n",
       "      <th></th>\n",
       "      <th>(stars, size)</th>\n",
       "      <th>(stars, mean)</th>\n",
       "      <th>(stars, median)</th>\n",
       "      <th>average_stars</th>\n",
       "      <th>compliments</th>\n",
       "      <th>elite</th>\n",
       "      <th>fans</th>\n",
       "      <th>friends</th>\n",
       "      <th>name</th>\n",
       "      <th>review_count</th>\n",
       "      <th>user_id</th>\n",
       "      <th>yelping_since</th>\n",
       "      <th>years_elite</th>\n",
       "      <th>number_of_friends</th>\n",
       "      <th>votes_funny</th>\n",
       "      <th>votes_useful</th>\n",
       "      <th>votes_cool</th>\n",
       "      <th>compliments_total</th>\n",
       "    </tr>\n",
       "  </thead>\n",
       "  <tbody>\n",
       "    <tr>\n",
       "      <th>7229</th>\n",
       "      <td>1</td>\n",
       "      <td>5.000000</td>\n",
       "      <td>5.0</td>\n",
       "      <td>4.08</td>\n",
       "      <td>{u'profile': 2, u'funny': 2, u'cute': 3, u'pla...</td>\n",
       "      <td>[2006, 2007, 2008, 2009, 2010, 2011, 2012, 2013]</td>\n",
       "      <td>6</td>\n",
       "      <td>[pwHR68yMoT6MPgUPIW8yyA, DrKQzBFAvxhyjLgbPSW2Q...</td>\n",
       "      <td>Jessica</td>\n",
       "      <td>223</td>\n",
       "      <td>---VHrmY76KEMOs62qthbw</td>\n",
       "      <td>2006-01-01</td>\n",
       "      <td>8</td>\n",
       "      <td>7</td>\n",
       "      <td>52</td>\n",
       "      <td>361</td>\n",
       "      <td>114</td>\n",
       "      <td>89</td>\n",
       "    </tr>\n",
       "    <tr>\n",
       "      <th>55182</th>\n",
       "      <td>4</td>\n",
       "      <td>4.250000</td>\n",
       "      <td>4.0</td>\n",
       "      <td>4.24</td>\n",
       "      <td>{}</td>\n",
       "      <td>[]</td>\n",
       "      <td>2</td>\n",
       "      <td>[]</td>\n",
       "      <td>JL</td>\n",
       "      <td>32</td>\n",
       "      <td>--0HEXd4W6bJI8k7E0RxTA</td>\n",
       "      <td>2012-05-01</td>\n",
       "      <td>0</td>\n",
       "      <td>0</td>\n",
       "      <td>2</td>\n",
       "      <td>14</td>\n",
       "      <td>4</td>\n",
       "      <td>0</td>\n",
       "    </tr>\n",
       "    <tr>\n",
       "      <th>58415</th>\n",
       "      <td>3</td>\n",
       "      <td>3.333333</td>\n",
       "      <td>3.0</td>\n",
       "      <td>3.93</td>\n",
       "      <td>{u'funny': 2, u'hot': 1, u'writer': 1, u'plain...</td>\n",
       "      <td>[2014, 2015]</td>\n",
       "      <td>1</td>\n",
       "      <td>[nELVJlkX8T0mUAArSPSJxw, D4v0v5fHzxYLWaXl8gTHq...</td>\n",
       "      <td>Steve</td>\n",
       "      <td>58</td>\n",
       "      <td>--0KsjlAThNWua2Pr4HStQ</td>\n",
       "      <td>2014-02-01</td>\n",
       "      <td>2</td>\n",
       "      <td>13</td>\n",
       "      <td>69</td>\n",
       "      <td>168</td>\n",
       "      <td>72</td>\n",
       "      <td>8</td>\n",
       "    </tr>\n",
       "  </tbody>\n",
       "</table>\n",
       "</div>"
      ],
      "text/plain": [
       "       (stars, size)  (stars, mean)  (stars, median)  average_stars  \\\n",
       "7229               1       5.000000              5.0           4.08   \n",
       "55182              4       4.250000              4.0           4.24   \n",
       "58415              3       3.333333              3.0           3.93   \n",
       "\n",
       "                                             compliments  \\\n",
       "7229   {u'profile': 2, u'funny': 2, u'cute': 3, u'pla...   \n",
       "55182                                                 {}   \n",
       "58415  {u'funny': 2, u'hot': 1, u'writer': 1, u'plain...   \n",
       "\n",
       "                                                  elite  fans  \\\n",
       "7229   [2006, 2007, 2008, 2009, 2010, 2011, 2012, 2013]     6   \n",
       "55182                                                []     2   \n",
       "58415                                      [2014, 2015]     1   \n",
       "\n",
       "                                                 friends     name  \\\n",
       "7229   [pwHR68yMoT6MPgUPIW8yyA, DrKQzBFAvxhyjLgbPSW2Q...  Jessica   \n",
       "55182                                                 []       JL   \n",
       "58415  [nELVJlkX8T0mUAArSPSJxw, D4v0v5fHzxYLWaXl8gTHq...    Steve   \n",
       "\n",
       "       review_count                 user_id yelping_since  years_elite  \\\n",
       "7229            223  ---VHrmY76KEMOs62qthbw    2006-01-01            8   \n",
       "55182            32  --0HEXd4W6bJI8k7E0RxTA    2012-05-01            0   \n",
       "58415            58  --0KsjlAThNWua2Pr4HStQ    2014-02-01            2   \n",
       "\n",
       "       number_of_friends  votes_funny  votes_useful  votes_cool  \\\n",
       "7229                   7           52           361         114   \n",
       "55182                  0            2            14           4   \n",
       "58415                 13           69           168          72   \n",
       "\n",
       "       compliments_total  \n",
       "7229                  89  \n",
       "55182                  0  \n",
       "58415                  8  "
      ]
     },
     "execution_count": 19,
     "metadata": {},
     "output_type": "execute_result"
    }
   ],
   "source": [
    "star_comparison = pd.merge(stars_by_rev, df_usr, left_index=True, right_on='user_id', how='inner')\n",
    "star_comparison.head(3)"
   ]
  },
  {
   "cell_type": "code",
   "execution_count": 20,
   "metadata": {
    "collapsed": false
   },
   "outputs": [
    {
     "name": "stdout",
     "output_type": "stream",
     "text": [
      "<class 'pandas.core.frame.DataFrame'>\n",
      "Int64Index: 71122 entries, 7229 to 58365\n",
      "Data columns (total 18 columns):\n",
      "(stars, size)        71122 non-null int64\n",
      "(stars, mean)        71122 non-null float64\n",
      "(stars, median)      71122 non-null float64\n",
      "average_stars        71122 non-null float64\n",
      "compliments          71122 non-null object\n",
      "elite                71122 non-null object\n",
      "fans                 71122 non-null int64\n",
      "friends              71122 non-null object\n",
      "name                 71122 non-null object\n",
      "review_count         71122 non-null int64\n",
      "user_id              71122 non-null object\n",
      "yelping_since        71122 non-null datetime64[ns]\n",
      "years_elite          71122 non-null int64\n",
      "number_of_friends    71122 non-null int64\n",
      "votes_funny          71122 non-null int64\n",
      "votes_useful         71122 non-null int64\n",
      "votes_cool           71122 non-null int64\n",
      "compliments_total    71122 non-null int64\n",
      "dtypes: datetime64[ns](1), float64(3), int64(9), object(5)\n",
      "memory usage: 10.3+ MB\n"
     ]
    }
   ],
   "source": [
    "star_comparison.info()"
   ]
  },
  {
   "cell_type": "markdown",
   "metadata": {},
   "source": [
    "Who has written the most restaurant reviews?"
   ]
  },
  {
   "cell_type": "code",
   "execution_count": 21,
   "metadata": {
    "collapsed": false
   },
   "outputs": [
    {
     "data": {
      "text/html": [
       "<div>\n",
       "<table border=\"1\" class=\"dataframe\">\n",
       "  <thead>\n",
       "    <tr style=\"text-align: right;\">\n",
       "      <th></th>\n",
       "      <th>name</th>\n",
       "      <th>stars_size</th>\n",
       "    </tr>\n",
       "  </thead>\n",
       "  <tbody>\n",
       "    <tr>\n",
       "      <th>19897</th>\n",
       "      <td>Sara</td>\n",
       "      <td>288</td>\n",
       "    </tr>\n",
       "    <tr>\n",
       "      <th>20333</th>\n",
       "      <td>Michael</td>\n",
       "      <td>245</td>\n",
       "    </tr>\n",
       "    <tr>\n",
       "      <th>14255</th>\n",
       "      <td>Heather</td>\n",
       "      <td>240</td>\n",
       "    </tr>\n",
       "    <tr>\n",
       "      <th>25377</th>\n",
       "      <td>Brian</td>\n",
       "      <td>239</td>\n",
       "    </tr>\n",
       "    <tr>\n",
       "      <th>32125</th>\n",
       "      <td>Sarah</td>\n",
       "      <td>215</td>\n",
       "    </tr>\n",
       "    <tr>\n",
       "      <th>33921</th>\n",
       "      <td>Julie</td>\n",
       "      <td>202</td>\n",
       "    </tr>\n",
       "    <tr>\n",
       "      <th>35571</th>\n",
       "      <td>Kelly</td>\n",
       "      <td>201</td>\n",
       "    </tr>\n",
       "    <tr>\n",
       "      <th>45632</th>\n",
       "      <td>Josephine</td>\n",
       "      <td>199</td>\n",
       "    </tr>\n",
       "    <tr>\n",
       "      <th>22033</th>\n",
       "      <td>Amanda</td>\n",
       "      <td>188</td>\n",
       "    </tr>\n",
       "    <tr>\n",
       "      <th>7895</th>\n",
       "      <td>Lynda</td>\n",
       "      <td>188</td>\n",
       "    </tr>\n",
       "  </tbody>\n",
       "</table>\n",
       "</div>"
      ],
      "text/plain": [
       "            name  stars_size\n",
       "19897       Sara         288\n",
       "20333    Michael         245\n",
       "14255    Heather         240\n",
       "25377      Brian         239\n",
       "32125      Sarah         215\n",
       "33921      Julie         202\n",
       "35571      Kelly         201\n",
       "45632  Josephine         199\n",
       "22033     Amanda         188\n",
       "7895       Lynda         188"
      ]
     },
     "execution_count": 21,
     "metadata": {},
     "output_type": "execute_result"
    }
   ],
   "source": [
    "star_comparison.rename(columns={('stars', 'size'):'stars_size'}, inplace=True)\n",
    "star_comparison[['name', 'stars_size']].sort_values('stars_size', ascending=False)[:10]"
   ]
  },
  {
   "cell_type": "markdown",
   "metadata": {},
   "source": [
    "The number of restaurant reviews is plotted against the number of total reviews written per user. We see that all users have written more total reviews than restaurant reviews. This makes sense."
   ]
  },
  {
   "cell_type": "code",
   "execution_count": 22,
   "metadata": {
    "collapsed": false
   },
   "outputs": [
    {
     "data": {
      "text/plain": [
       "(0, 2000)"
      ]
     },
     "execution_count": 22,
     "metadata": {},
     "output_type": "execute_result"
    },
    {
     "data": {
      "image/png": "[encoded data removed]",
      "text/plain": [
       "<matplotlib.figure.Figure at 0x11a85b790>"
      ]
     },
     "metadata": {},
     "output_type": "display_data"
    }
   ],
   "source": [
    "plt.plot(star_comparison.review_count, star_comparison.stars_size, '.')\n",
    "plt.plot([0, 2000], [0, 2000], 'k-', lw=1)\n",
    "plt.xlabel('Review count from user data')\n",
    "plt.ylabel('Review count from review data')\n",
    "plt.xlim(0, 2000)\n",
    "plt.ylim(0, 2000)"
   ]
  },
  {
   "cell_type": "markdown",
   "metadata": {},
   "source": [
    "Below we plot the average star rating computed using the review data against the average star rating of all the user's reviews. The data do not fall exactly on the 45 degree line because users rate different types of businesses differently."
   ]
  },
  {
   "cell_type": "code",
   "execution_count": 23,
   "metadata": {
    "collapsed": false
   },
   "outputs": [
    {
     "data": {
      "text/plain": [
       "<matplotlib.text.Text at 0x16e3d1350>"
      ]
     },
     "execution_count": 23,
     "metadata": {},
     "output_type": "execute_result"
    },
    {
     "data": {
      "image/png": "[encoded data removed]",
      "text/plain": [
       "<matplotlib.figure.Figure at 0x117dfc110>"
      ]
     },
     "metadata": {},
     "output_type": "display_data"
    }
   ],
   "source": [
    "plt.plot(star_comparison.average_stars, star_comparison[('stars', 'mean')], '.')\n",
    "plt.plot([0, 5], [0, 5], 'k-', lw=1)\n",
    "plt.xlabel('Average stars from user data')\n",
    "plt.ylabel('Average stars averaged over review data')"
   ]
  },
  {
   "cell_type": "markdown",
   "metadata": {},
   "source": [
    "Let's see if there is a trend between number of friends each reviewer has and the number of compliments they received:"
   ]
  },
  {
   "cell_type": "code",
   "execution_count": 24,
   "metadata": {
    "collapsed": false
   },
   "outputs": [
    {
     "data": {
      "text/plain": [
       "(0, 600)"
      ]
     },
     "execution_count": 24,
     "metadata": {},
     "output_type": "execute_result"
    },
    {
     "data": {
      "image/png": "[encoded data removed]",
      "text/plain": [
       "<matplotlib.figure.Figure at 0x1146ca950>"
      ]
     },
     "metadata": {},
     "output_type": "display_data"
    }
   ],
   "source": [
    "plt.plot(df_usr.number_of_friends, df_usr.compliments_total, '.')\n",
    "plt.ylim(0, 10000)\n",
    "plt.xlim(0, 600)"
   ]
  },
  {
   "cell_type": "code",
   "execution_count": 25,
   "metadata": {
    "collapsed": false
   },
   "outputs": [
    {
     "data": {
      "text/plain": [
       "<matplotlib.text.Text at 0x112d62050>"
      ]
     },
     "execution_count": 25,
     "metadata": {},
     "output_type": "execute_result"
    },
    {
     "data": {
      "image/png": "[encoded data removed]",
      "text/plain": [
       "<matplotlib.figure.Figure at 0x114822250>"
      ]
     },
     "metadata": {},
     "output_type": "display_data"
    }
   ],
   "source": [
    "plt.plot(df_usr.votes_useful, df_usr.fans, '.')\n",
    "plt.xlabel('Number of votes useful')\n",
    "plt.ylabel('Number of fans')"
   ]
  },
  {
   "cell_type": "code",
   "execution_count": 26,
   "metadata": {
    "collapsed": false
   },
   "outputs": [
    {
     "name": "stdout",
     "output_type": "stream",
     "text": [
      "0.833374047748 0.0\n"
     ]
    }
   ],
   "source": [
    "from scipy.stats import pearsonr\n",
    "r, p_value = pearsonr(df_usr.votes_useful, df_usr.fans)\n",
    "print r, p_value"
   ]
  },
  {
   "cell_type": "markdown",
   "metadata": {},
   "source": [
    "### Conclusions"
   ]
  },
  {
   "cell_type": "markdown",
   "metadata": {},
   "source": [
    "We have user data for each user review. However, it is not clear how to weight reviews based on who wrote them. We do not know if the votes that each review has received was cast during the inspection window or outside of it."
   ]
  }
 ],
 "metadata": {
  "kernelspec": {
   "display_name": "Python 2",
   "language": "python",
   "name": "python2"
  },
  "language_info": {
   "codemirror_mode": {
    "name": "ipython",
    "version": 2
   },
   "file_extension": ".py",
   "mimetype": "text/x-python",
   "name": "python",
   "nbconvert_exporter": "python",
   "pygments_lexer": "ipython2",
   "version": "2.7.5"
  }
 },
 "nbformat": 4,
 "nbformat_minor": 0
}
