{
 "cells": [
  {
   "cell_type": "markdown",
   "metadata": {},
   "source": [
    "# Jonathan Halverson\n",
    "# Keeping it Fresh: Predict Restaurant Inspections\n",
    "## Part 7: Yelp user reviews and model"
   ]
  },
  {
   "cell_type": "markdown",
   "metadata": {},
   "source": [
    "This notebook creates a model for predicting health inspection violations using Yelp user review data. See earlier parts for exploratory data analysis involving the other data."
   ]
  },
  {
   "cell_type": "code",
   "execution_count": 1,
   "metadata": {
    "collapsed": true
   },
   "outputs": [],
   "source": [
    "import numpy as np\n",
    "import pandas as pd\n",
    "import matplotlib.pyplot as plt\n",
    "%matplotlib inline\n",
    "plt.style.use('halverson')"
   ]
  },
  {
   "cell_type": "markdown",
   "metadata": {},
   "source": [
    "### Load the training data:"
   ]
  },
  {
   "cell_type": "code",
   "execution_count": 2,
   "metadata": {
    "collapsed": false
   },
   "outputs": [
    {
     "data": {
      "text/html": [
       "<div>\n",
       "<table border=\"1\" class=\"dataframe\">\n",
       "  <thead>\n",
       "    <tr style=\"text-align: right;\">\n",
       "      <th></th>\n",
       "      <th>id</th>\n",
       "      <th>inspect_date</th>\n",
       "      <th>restaurant_id</th>\n",
       "      <th>*</th>\n",
       "      <th>**</th>\n",
       "      <th>***</th>\n",
       "      <th>weighted_violations</th>\n",
       "    </tr>\n",
       "  </thead>\n",
       "  <tbody>\n",
       "    <tr>\n",
       "      <th>0</th>\n",
       "      <td>589</td>\n",
       "      <td>2010-02-02</td>\n",
       "      <td>KAoKWjog</td>\n",
       "      <td>3</td>\n",
       "      <td>0</td>\n",
       "      <td>1</td>\n",
       "      <td>8</td>\n",
       "    </tr>\n",
       "    <tr>\n",
       "      <th>1</th>\n",
       "      <td>28589</td>\n",
       "      <td>2009-12-10</td>\n",
       "      <td>p038M4om</td>\n",
       "      <td>2</td>\n",
       "      <td>0</td>\n",
       "      <td>0</td>\n",
       "      <td>2</td>\n",
       "    </tr>\n",
       "    <tr>\n",
       "      <th>2</th>\n",
       "      <td>31170</td>\n",
       "      <td>2008-07-16</td>\n",
       "      <td>B1oXymOV</td>\n",
       "      <td>4</td>\n",
       "      <td>0</td>\n",
       "      <td>0</td>\n",
       "      <td>4</td>\n",
       "    </tr>\n",
       "    <tr>\n",
       "      <th>3</th>\n",
       "      <td>2600</td>\n",
       "      <td>2015-01-30</td>\n",
       "      <td>m0oWJl3G</td>\n",
       "      <td>1</td>\n",
       "      <td>0</td>\n",
       "      <td>3</td>\n",
       "      <td>16</td>\n",
       "    </tr>\n",
       "    <tr>\n",
       "      <th>4</th>\n",
       "      <td>1016</td>\n",
       "      <td>2012-03-19</td>\n",
       "      <td>rJoQwlEV</td>\n",
       "      <td>0</td>\n",
       "      <td>0</td>\n",
       "      <td>0</td>\n",
       "      <td>0</td>\n",
       "    </tr>\n",
       "  </tbody>\n",
       "</table>\n",
       "</div>"
      ],
      "text/plain": [
       "      id inspect_date restaurant_id  *  **  ***  weighted_violations\n",
       "0    589   2010-02-02      KAoKWjog  3   0    1                    8\n",
       "1  28589   2009-12-10      p038M4om  2   0    0                    2\n",
       "2  31170   2008-07-16      B1oXymOV  4   0    0                    4\n",
       "3   2600   2015-01-30      m0oWJl3G  1   0    3                   16\n",
       "4   1016   2012-03-19      rJoQwlEV  0   0    0                    0"
      ]
     },
     "execution_count": 2,
     "metadata": {},
     "output_type": "execute_result"
    }
   ],
   "source": [
    "df = pd.read_csv('data/training_labels.txt', parse_dates=['date'])\n",
    "df.rename(columns={'date':'inspect_date'}, inplace=True)\n",
    "df['weighted_violations'] = 1 * df['*'] + 3 * df['**'] + 5 * df['***']\n",
    "df.head()"
   ]
  },
  {
   "cell_type": "code",
   "execution_count": 3,
   "metadata": {
    "collapsed": false
   },
   "outputs": [
    {
     "name": "stdout",
     "output_type": "stream",
     "text": [
      "<class 'pandas.core.frame.DataFrame'>\n",
      "RangeIndex: 27088 entries, 0 to 27087\n",
      "Data columns (total 7 columns):\n",
      "id                     27088 non-null int64\n",
      "inspect_date           27088 non-null datetime64[ns]\n",
      "restaurant_id          27088 non-null object\n",
      "*                      27088 non-null int64\n",
      "**                     27088 non-null int64\n",
      "***                    27088 non-null int64\n",
      "weighted_violations    27088 non-null int64\n",
      "dtypes: datetime64[ns](1), int64(5), object(1)\n",
      "memory usage: 1.4+ MB\n"
     ]
    }
   ],
   "source": [
    "df.info()"
   ]
  },
  {
   "cell_type": "markdown",
   "metadata": {},
   "source": [
    "### Clean the training data by removing duplicate inspections"
   ]
  },
  {
   "cell_type": "code",
   "execution_count": 4,
   "metadata": {
    "collapsed": false
   },
   "outputs": [
    {
     "data": {
      "text/html": [
       "<div>\n",
       "<table border=\"1\" class=\"dataframe\">\n",
       "  <thead>\n",
       "    <tr style=\"text-align: right;\">\n",
       "      <th></th>\n",
       "      <th>id</th>\n",
       "      <th>inspect_date</th>\n",
       "      <th>restaurant_id</th>\n",
       "      <th>*</th>\n",
       "      <th>**</th>\n",
       "      <th>***</th>\n",
       "      <th>weighted_violations</th>\n",
       "    </tr>\n",
       "  </thead>\n",
       "  <tbody>\n",
       "    <tr>\n",
       "      <th>1801</th>\n",
       "      <td>28144</td>\n",
       "      <td>2007-09-21</td>\n",
       "      <td>0ZED0WED</td>\n",
       "      <td>3</td>\n",
       "      <td>1</td>\n",
       "      <td>0</td>\n",
       "      <td>6</td>\n",
       "    </tr>\n",
       "    <tr>\n",
       "      <th>551</th>\n",
       "      <td>24765</td>\n",
       "      <td>2008-03-26</td>\n",
       "      <td>0ZED0WED</td>\n",
       "      <td>3</td>\n",
       "      <td>1</td>\n",
       "      <td>0</td>\n",
       "      <td>6</td>\n",
       "    </tr>\n",
       "    <tr>\n",
       "      <th>5460</th>\n",
       "      <td>25193</td>\n",
       "      <td>2008-10-08</td>\n",
       "      <td>0ZED0WED</td>\n",
       "      <td>6</td>\n",
       "      <td>2</td>\n",
       "      <td>4</td>\n",
       "      <td>32</td>\n",
       "    </tr>\n",
       "    <tr>\n",
       "      <th>3641</th>\n",
       "      <td>12775</td>\n",
       "      <td>2009-03-03</td>\n",
       "      <td>0ZED0WED</td>\n",
       "      <td>3</td>\n",
       "      <td>0</td>\n",
       "      <td>0</td>\n",
       "      <td>3</td>\n",
       "    </tr>\n",
       "    <tr>\n",
       "      <th>18452</th>\n",
       "      <td>25850</td>\n",
       "      <td>2009-07-23</td>\n",
       "      <td>0ZED0WED</td>\n",
       "      <td>1</td>\n",
       "      <td>0</td>\n",
       "      <td>2</td>\n",
       "      <td>11</td>\n",
       "    </tr>\n",
       "  </tbody>\n",
       "</table>\n",
       "</div>"
      ],
      "text/plain": [
       "          id inspect_date restaurant_id  *  **  ***  weighted_violations\n",
       "1801   28144   2007-09-21      0ZED0WED  3   1    0                    6\n",
       "551    24765   2008-03-26      0ZED0WED  3   1    0                    6\n",
       "5460   25193   2008-10-08      0ZED0WED  6   2    4                   32\n",
       "3641   12775   2009-03-03      0ZED0WED  3   0    0                    3\n",
       "18452  25850   2009-07-23      0ZED0WED  1   0    2                   11"
      ]
     },
     "execution_count": 4,
     "metadata": {},
     "output_type": "execute_result"
    }
   ],
   "source": [
    "from helper_methods import drop_duplicate_inspections\n",
    "df = df.sort_values(['restaurant_id', 'inspect_date'])\n",
    "df = drop_duplicate_inspections(df, threshold=60)\n",
    "df.head()"
   ]
  },
  {
   "cell_type": "code",
   "execution_count": 5,
   "metadata": {
    "collapsed": false,
    "scrolled": true
   },
   "outputs": [
    {
     "name": "stdout",
     "output_type": "stream",
     "text": [
      "<class 'pandas.core.frame.DataFrame'>\n",
      "Int64Index: 20288 entries, 1801 to 5854\n",
      "Data columns (total 7 columns):\n",
      "id                     20288 non-null int64\n",
      "inspect_date           20288 non-null datetime64[ns]\n",
      "restaurant_id          20288 non-null object\n",
      "*                      20288 non-null int64\n",
      "**                     20288 non-null int64\n",
      "***                    20288 non-null int64\n",
      "weighted_violations    20288 non-null int64\n",
      "dtypes: datetime64[ns](1), int64(5), object(1)\n",
      "memory usage: 1.2+ MB\n"
     ]
    }
   ],
   "source": [
    "df.info()"
   ]
  },
  {
   "cell_type": "code",
   "execution_count": 6,
   "metadata": {
    "collapsed": false
   },
   "outputs": [
    {
     "name": "stdout",
     "output_type": "stream",
     "text": [
      "20288 20288 id\n",
      "20288 2058 inspect_date\n",
      "20288 1851 restaurant_id\n",
      "20288 44 *\n",
      "20288 8 **\n",
      "20288 18 ***\n",
      "20288 102 weighted_violations\n"
     ]
    }
   ],
   "source": [
    "for column in df:\n",
    "    print df.shape[0], df[column].unique().size, column"
   ]
  },
  {
   "cell_type": "markdown",
   "metadata": {},
   "source": [
    "### Load the data to relate restaurant id to business id"
   ]
  },
  {
   "cell_type": "code",
   "execution_count": 7,
   "metadata": {
    "collapsed": false
   },
   "outputs": [
    {
     "data": {
      "text/html": [
       "<div>\n",
       "<table border=\"1\" class=\"dataframe\">\n",
       "  <thead>\n",
       "    <tr style=\"text-align: right;\">\n",
       "      <th></th>\n",
       "      <th>restaurant_id</th>\n",
       "      <th>business_id</th>\n",
       "    </tr>\n",
       "  </thead>\n",
       "  <tbody>\n",
       "    <tr>\n",
       "      <th>0</th>\n",
       "      <td>Y1Em4GOw</td>\n",
       "      <td>5Kdf1DGbRScRk6Cx3jaX8w</td>\n",
       "    </tr>\n",
       "    <tr>\n",
       "      <th>1</th>\n",
       "      <td>KAoKP6Og</td>\n",
       "      <td>Urw6NASrebP6tyFdjwjkwQ</td>\n",
       "    </tr>\n",
       "    <tr>\n",
       "      <th>2</th>\n",
       "      <td>WeEe7eoa</td>\n",
       "      <td>xlOE7jqbW1Q_PrvLBVlegQ</td>\n",
       "    </tr>\n",
       "    <tr>\n",
       "      <th>3</th>\n",
       "      <td>V430mqoB</td>\n",
       "      <td>ktYpqtygWIJ2RjVPGTxNaA</td>\n",
       "    </tr>\n",
       "    <tr>\n",
       "      <th>4</th>\n",
       "      <td>ekE4Qz32</td>\n",
       "      <td>n8CsQy7Iy1IMhP85hPVKPA</td>\n",
       "    </tr>\n",
       "  </tbody>\n",
       "</table>\n",
       "</div>"
      ],
      "text/plain": [
       "  restaurant_id             business_id\n",
       "0      Y1Em4GOw  5Kdf1DGbRScRk6Cx3jaX8w\n",
       "1      KAoKP6Og  Urw6NASrebP6tyFdjwjkwQ\n",
       "2      WeEe7eoa  xlOE7jqbW1Q_PrvLBVlegQ\n",
       "3      V430mqoB  ktYpqtygWIJ2RjVPGTxNaA\n",
       "4      ekE4Qz32  n8CsQy7Iy1IMhP85hPVKPA"
      ]
     },
     "execution_count": 7,
     "metadata": {},
     "output_type": "execute_result"
    }
   ],
   "source": [
    "trans = pd.read_csv('data/restaurant_ids_to_yelp_ids.csv')\n",
    "trans = trans[trans['yelp_id_1'].isnull()]\n",
    "trans.drop(['yelp_id_1', 'yelp_id_2', 'yelp_id_3'], axis=1, inplace=True)\n",
    "trans.columns = ['restaurant_id', 'business_id']\n",
    "trans.head()"
   ]
  },
  {
   "cell_type": "code",
   "execution_count": 8,
   "metadata": {
    "collapsed": false
   },
   "outputs": [
    {
     "name": "stdout",
     "output_type": "stream",
     "text": [
      "<class 'pandas.core.frame.DataFrame'>\n",
      "Int64Index: 1826 entries, 0 to 1866\n",
      "Data columns (total 2 columns):\n",
      "restaurant_id    1826 non-null object\n",
      "business_id      1826 non-null object\n",
      "dtypes: object(2)\n",
      "memory usage: 42.8+ KB\n"
     ]
    }
   ],
   "source": [
    "trans.info()"
   ]
  },
  {
   "cell_type": "code",
   "execution_count": 9,
   "metadata": {
    "collapsed": false
   },
   "outputs": [],
   "source": [
    "# uncomment the lines below to work with restaurants that have had multiple owners\n",
    "# the problem with this is that it is not possible to determine when ownership\n",
    "# changed\n",
    "\n",
    "#from helper_methods import biz2yelp\n",
    "#trans = biz2yelp()\n",
    "#trans.columns = ['restaurant_id', 'business_id']\n",
    "#trans.head()"
   ]
  },
  {
   "cell_type": "code",
   "execution_count": 10,
   "metadata": {
    "collapsed": false
   },
   "outputs": [
    {
     "data": {
      "text/html": [
       "<div>\n",
       "<table border=\"1\" class=\"dataframe\">\n",
       "  <thead>\n",
       "    <tr style=\"text-align: right;\">\n",
       "      <th></th>\n",
       "      <th>restaurant_id</th>\n",
       "      <th>business_id</th>\n",
       "      <th>id</th>\n",
       "      <th>inspect_date</th>\n",
       "      <th>*</th>\n",
       "      <th>**</th>\n",
       "      <th>***</th>\n",
       "      <th>weighted_violations</th>\n",
       "    </tr>\n",
       "  </thead>\n",
       "  <tbody>\n",
       "    <tr>\n",
       "      <th>0</th>\n",
       "      <td>Y1Em4GOw</td>\n",
       "      <td>5Kdf1DGbRScRk6Cx3jaX8w</td>\n",
       "      <td>17</td>\n",
       "      <td>2015-02-06</td>\n",
       "      <td>1</td>\n",
       "      <td>0</td>\n",
       "      <td>0</td>\n",
       "      <td>1</td>\n",
       "    </tr>\n",
       "    <tr>\n",
       "      <th>1</th>\n",
       "      <td>KAoKP6Og</td>\n",
       "      <td>Urw6NASrebP6tyFdjwjkwQ</td>\n",
       "      <td>9337</td>\n",
       "      <td>2007-06-27</td>\n",
       "      <td>0</td>\n",
       "      <td>0</td>\n",
       "      <td>0</td>\n",
       "      <td>0</td>\n",
       "    </tr>\n",
       "    <tr>\n",
       "      <th>2</th>\n",
       "      <td>KAoKP6Og</td>\n",
       "      <td>Urw6NASrebP6tyFdjwjkwQ</td>\n",
       "      <td>5052</td>\n",
       "      <td>2008-03-25</td>\n",
       "      <td>8</td>\n",
       "      <td>0</td>\n",
       "      <td>0</td>\n",
       "      <td>8</td>\n",
       "    </tr>\n",
       "    <tr>\n",
       "      <th>3</th>\n",
       "      <td>KAoKP6Og</td>\n",
       "      <td>Urw6NASrebP6tyFdjwjkwQ</td>\n",
       "      <td>12585</td>\n",
       "      <td>2009-04-23</td>\n",
       "      <td>5</td>\n",
       "      <td>0</td>\n",
       "      <td>2</td>\n",
       "      <td>15</td>\n",
       "    </tr>\n",
       "    <tr>\n",
       "      <th>4</th>\n",
       "      <td>KAoKP6Og</td>\n",
       "      <td>Urw6NASrebP6tyFdjwjkwQ</td>\n",
       "      <td>3583</td>\n",
       "      <td>2010-03-25</td>\n",
       "      <td>4</td>\n",
       "      <td>0</td>\n",
       "      <td>0</td>\n",
       "      <td>4</td>\n",
       "    </tr>\n",
       "  </tbody>\n",
       "</table>\n",
       "</div>"
      ],
      "text/plain": [
       "  restaurant_id             business_id     id inspect_date  *  **  ***  \\\n",
       "0      Y1Em4GOw  5Kdf1DGbRScRk6Cx3jaX8w     17   2015-02-06  1   0    0   \n",
       "1      KAoKP6Og  Urw6NASrebP6tyFdjwjkwQ   9337   2007-06-27  0   0    0   \n",
       "2      KAoKP6Og  Urw6NASrebP6tyFdjwjkwQ   5052   2008-03-25  8   0    0   \n",
       "3      KAoKP6Og  Urw6NASrebP6tyFdjwjkwQ  12585   2009-04-23  5   0    2   \n",
       "4      KAoKP6Og  Urw6NASrebP6tyFdjwjkwQ   3583   2010-03-25  4   0    0   \n",
       "\n",
       "   weighted_violations  \n",
       "0                    1  \n",
       "1                    0  \n",
       "2                    8  \n",
       "3                   15  \n",
       "4                    4  "
      ]
     },
     "execution_count": 10,
     "metadata": {},
     "output_type": "execute_result"
    }
   ],
   "source": [
    "df_trans = pd.merge(trans, df, on='restaurant_id', how='inner')\n",
    "df_trans.head()"
   ]
  },
  {
   "cell_type": "code",
   "execution_count": 12,
   "metadata": {
    "collapsed": false
   },
   "outputs": [
    {
     "name": "stdout",
     "output_type": "stream",
     "text": [
      "<class 'pandas.core.frame.DataFrame'>\n",
      "Int64Index: 19836 entries, 0 to 19835\n",
      "Data columns (total 8 columns):\n",
      "restaurant_id          19836 non-null object\n",
      "business_id            19836 non-null object\n",
      "id                     19836 non-null int64\n",
      "inspect_date           19836 non-null datetime64[ns]\n",
      "*                      19836 non-null int64\n",
      "**                     19836 non-null int64\n",
      "***                    19836 non-null int64\n",
      "weighted_violations    19836 non-null int64\n",
      "dtypes: datetime64[ns](1), int64(5), object(2)\n",
      "memory usage: 1.4+ MB\n"
     ]
    }
   ],
   "source": [
    "df_trans.info()"
   ]
  },
  {
   "cell_type": "code",
   "execution_count": 13,
   "metadata": {
    "collapsed": false
   },
   "outputs": [],
   "source": [
    "np.random.seed(0)\n",
    "msk = np.random.rand(df_trans.shape[0]) < 0.8\n",
    "df_train = df_trans[msk]\n",
    "df_test = df_trans[~msk]"
   ]
  },
  {
   "cell_type": "markdown",
   "metadata": {},
   "source": [
    "### At this point we have our train-test split. Now we test the null model and the model where we predict the average value:"
   ]
  },
  {
   "cell_type": "code",
   "execution_count": 14,
   "metadata": {
    "collapsed": false,
    "scrolled": true
   },
   "outputs": [
    {
     "name": "stdout",
     "output_type": "stream",
     "text": [
      "18.2735112678\n",
      "18.0913924051\n"
     ]
    }
   ],
   "source": [
    "from sklearn.metrics import mean_squared_error as mse\n",
    "\n",
    "y_true_train = df_train['*'].values\n",
    "y_pred_train = 3 * np.ones(df_train.shape[0])\n",
    "\n",
    "y_true_test = df_test['*'].values\n",
    "y_pred_test = 3 * np.ones(df_test.shape[0])\n",
    "\n",
    "print mse(y_true_train, y_pred_train)\n",
    "print mse(y_true_test, y_pred_test)"
   ]
  },
  {
   "cell_type": "markdown",
   "metadata": {},
   "source": [
    "Now try the avg_violations predictions (here it is necessary to compute the averages using the combined train and test data since we need at least one record for the test set predictions):"
   ]
  },
  {
   "cell_type": "code",
   "execution_count": 15,
   "metadata": {
    "collapsed": false
   },
   "outputs": [
    {
     "data": {
      "text/html": [
       "<div>\n",
       "<table border=\"1\" class=\"dataframe\">\n",
       "  <thead>\n",
       "    <tr>\n",
       "      <th></th>\n",
       "      <th colspan=\"2\" halign=\"left\">weighted_violations</th>\n",
       "      <th colspan=\"3\" halign=\"left\">*</th>\n",
       "      <th colspan=\"2\" halign=\"left\">***</th>\n",
       "      <th colspan=\"2\" halign=\"left\">**</th>\n",
       "    </tr>\n",
       "    <tr>\n",
       "      <th></th>\n",
       "      <th>mean</th>\n",
       "      <th>sum</th>\n",
       "      <th>size</th>\n",
       "      <th>mean</th>\n",
       "      <th>sum</th>\n",
       "      <th>mean</th>\n",
       "      <th>sum</th>\n",
       "      <th>mean</th>\n",
       "      <th>sum</th>\n",
       "    </tr>\n",
       "    <tr>\n",
       "      <th>restaurant_id</th>\n",
       "      <th></th>\n",
       "      <th></th>\n",
       "      <th></th>\n",
       "      <th></th>\n",
       "      <th></th>\n",
       "      <th></th>\n",
       "      <th></th>\n",
       "      <th></th>\n",
       "      <th></th>\n",
       "    </tr>\n",
       "  </thead>\n",
       "  <tbody>\n",
       "    <tr>\n",
       "      <th>0ZED0WED</th>\n",
       "      <td>12.500000</td>\n",
       "      <td>200</td>\n",
       "      <td>16</td>\n",
       "      <td>4.312500</td>\n",
       "      <td>69</td>\n",
       "      <td>1.187500</td>\n",
       "      <td>19</td>\n",
       "      <td>0.750000</td>\n",
       "      <td>12</td>\n",
       "    </tr>\n",
       "    <tr>\n",
       "      <th>0ZED1B3D</th>\n",
       "      <td>5.909091</td>\n",
       "      <td>65</td>\n",
       "      <td>11</td>\n",
       "      <td>2.363636</td>\n",
       "      <td>26</td>\n",
       "      <td>0.545455</td>\n",
       "      <td>6</td>\n",
       "      <td>0.272727</td>\n",
       "      <td>3</td>\n",
       "    </tr>\n",
       "    <tr>\n",
       "      <th>0ZED4ED9</th>\n",
       "      <td>7.200000</td>\n",
       "      <td>36</td>\n",
       "      <td>5</td>\n",
       "      <td>4.200000</td>\n",
       "      <td>21</td>\n",
       "      <td>0.600000</td>\n",
       "      <td>3</td>\n",
       "      <td>0.000000</td>\n",
       "      <td>0</td>\n",
       "    </tr>\n",
       "    <tr>\n",
       "      <th>0ZED4pED</th>\n",
       "      <td>19.727273</td>\n",
       "      <td>217</td>\n",
       "      <td>11</td>\n",
       "      <td>7.000000</td>\n",
       "      <td>77</td>\n",
       "      <td>2.000000</td>\n",
       "      <td>22</td>\n",
       "      <td>0.909091</td>\n",
       "      <td>10</td>\n",
       "    </tr>\n",
       "    <tr>\n",
       "      <th>0ZED543D</th>\n",
       "      <td>6.200000</td>\n",
       "      <td>31</td>\n",
       "      <td>5</td>\n",
       "      <td>3.800000</td>\n",
       "      <td>19</td>\n",
       "      <td>0.000000</td>\n",
       "      <td>0</td>\n",
       "      <td>0.800000</td>\n",
       "      <td>4</td>\n",
       "    </tr>\n",
       "  </tbody>\n",
       "</table>\n",
       "</div>"
      ],
      "text/plain": [
       "              weighted_violations         *                     ***      \\\n",
       "                             mean  sum size      mean sum      mean sum   \n",
       "restaurant_id                                                             \n",
       "0ZED0WED                12.500000  200   16  4.312500  69  1.187500  19   \n",
       "0ZED1B3D                 5.909091   65   11  2.363636  26  0.545455   6   \n",
       "0ZED4ED9                 7.200000   36    5  4.200000  21  0.600000   3   \n",
       "0ZED4pED                19.727273  217   11  7.000000  77  2.000000  22   \n",
       "0ZED543D                 6.200000   31    5  3.800000  19  0.000000   0   \n",
       "\n",
       "                     **      \n",
       "                   mean sum  \n",
       "restaurant_id                \n",
       "0ZED0WED       0.750000  12  \n",
       "0ZED1B3D       0.272727   3  \n",
       "0ZED4ED9       0.000000   0  \n",
       "0ZED4pED       0.909091  10  \n",
       "0ZED543D       0.800000   4  "
      ]
     },
     "execution_count": 15,
     "metadata": {},
     "output_type": "execute_result"
    }
   ],
   "source": [
    "avg_violations = df_trans.groupby('restaurant_id').agg({'*': [np.size, np.mean, np.sum], '**': [np.mean, np.sum], '***': [np.mean, np.sum], 'weighted_violations': [np.mean, np.sum]})\n",
    "avg_violations.head(5)"
   ]
  },
  {
   "cell_type": "code",
   "execution_count": 16,
   "metadata": {
    "collapsed": false
   },
   "outputs": [
    {
     "name": "stdout",
     "output_type": "stream",
     "text": [
      "MSE (train) = 13.4\n",
      "MSE (test) = 13.3\n"
     ]
    }
   ],
   "source": [
    "avg_vio_train = pd.merge(avg_violations, df_train, left_index=True, right_on='restaurant_id', how='right')\n",
    "y_pred_train = avg_vio_train[[('*', 'mean')]].values\n",
    "y_true_train = avg_vio_train[['*']].values\n",
    "\n",
    "avg_vio_test = pd.merge(avg_violations, df_test, left_index=True, right_on='restaurant_id', how='right')\n",
    "y_pred_test = avg_vio_test[[('*', 'mean')]].values\n",
    "y_true_test = avg_vio_test[['*']].values\n",
    "\n",
    "print 'MSE (train) = %.1f' % mse(y_true_train, y_pred_train)\n",
    "print 'MSE (test) = %.1f' % mse(y_true_test, y_pred_test)"
   ]
  },
  {
   "cell_type": "markdown",
   "metadata": {},
   "source": [
    "### What if we only considered the violation history up to the inspection date?"
   ]
  },
  {
   "cell_type": "code",
   "execution_count": 17,
   "metadata": {
    "collapsed": true
   },
   "outputs": [],
   "source": [
    "def mean_violations_up_to_inspection_date(x, r, d):\n",
    "    xf = x[(x['restaurant_id'] == r) & (x['inspect_date'] < d)]\n",
    "    return xf.mean()['*'] if not xf.empty else 3.0"
   ]
  },
  {
   "cell_type": "code",
   "execution_count": 18,
   "metadata": {
    "collapsed": false,
    "scrolled": true
   },
   "outputs": [
    {
     "name": "stdout",
     "output_type": "stream",
     "text": [
      "MSE (train) = 19.2\n",
      "MSE (test) = 22.5\n"
     ]
    }
   ],
   "source": [
    "y_train = df_train.apply(lambda row: mean_violations_up_to_inspection_date(df_train, row['restaurant_id'], row['inspect_date']), axis=1)\n",
    "y_pred_train = y_train.values\n",
    "y_true_train = df_train['*'].values\n",
    "\n",
    "y_test = df_test.apply(lambda row: mean_violations_up_to_inspection_date(df_test, row['restaurant_id'], row['inspect_date']), axis=1)\n",
    "y_pred_test = y_test.values\n",
    "y_true_test = df_test['*'].values\n",
    "\n",
    "print 'MSE (train) = %.1f' % mse(y_true_train, y_pred_train)\n",
    "print 'MSE (test) = %.1f' % mse(y_true_test, y_pred_test)"
   ]
  },
  {
   "cell_type": "markdown",
   "metadata": {},
   "source": [
    "### Fit a linear model over the entire range"
   ]
  },
  {
   "cell_type": "code",
   "execution_count": 19,
   "metadata": {
    "collapsed": false
   },
   "outputs": [],
   "source": [
    "def linear_regression_all_inspections(df, r, d):\n",
    "    xf = df[df['restaurant_id'] == r]\n",
    "    if xf.empty or xf.shape[0] < 2: return 3.0\n",
    "    x = (xf.inspect_date - pd.to_datetime('2006-10-04')) / np.timedelta64(1, 'D')\n",
    "    x = x.values / (9 * 365.0)\n",
    "    y = xf['*'].values\n",
    "    y.dtype = np.float64\n",
    "    a, b = np.polyfit(x, y, 1)\n",
    "    x_ = (d - pd.to_datetime('2006-10-04')) / np.timedelta64(1, 'D')\n",
    "    return a * x_ + b"
   ]
  },
  {
   "cell_type": "code",
   "execution_count": 20,
   "metadata": {
    "collapsed": false
   },
   "outputs": [
    {
     "name": "stdout",
     "output_type": "stream",
     "text": [
      "MSE (train) = 31.5\n",
      "MSE (test) = 30.4\n"
     ]
    }
   ],
   "source": [
    "y_train = df_train.apply(lambda row: linear_regression_all_inspections(df_train, row['restaurant_id'], row['inspect_date']), axis=1)\n",
    "y_pred_train = y_train.values\n",
    "y_true_train = df_train['*'].values\n",
    "\n",
    "y_test = df_test.apply(lambda row: linear_regression_all_inspections(df_test, row['restaurant_id'], row['inspect_date']), axis=1)\n",
    "y_pred_test = y_test.values\n",
    "y_true_test = df_test['*'].values\n",
    "\n",
    "print 'MSE (train) = %.1f' % mse(y_true_train, y_pred_train)\n",
    "print 'MSE (test) = %.1f' % mse(y_true_test, y_pred_test)"
   ]
  },
  {
   "cell_type": "markdown",
   "metadata": {},
   "source": [
    "### Fit a linear model up to the inspection date:"
   ]
  },
  {
   "cell_type": "code",
   "execution_count": 21,
   "metadata": {
    "collapsed": true
   },
   "outputs": [],
   "source": [
    "def linear_regression_previous_inspections(df, r, d):\n",
    "    xf = df[(df['restaurant_id'] == r) & (df['inspect_date'] < d)]\n",
    "    if xf.empty or xf.shape[0] < 2: return 3.0\n",
    "    x = (xf.inspect_date - pd.to_datetime('2006-10-04')) / np.timedelta64(1, 'D')\n",
    "    x = x.values / (9 * 365.0)\n",
    "    y = xf['*'].values\n",
    "    y.dtype = np.float64\n",
    "    a, b = np.polyfit(x, y, 1)\n",
    "    x_ = (d - pd.to_datetime('2006-10-04')) / np.timedelta64(1, 'D')\n",
    "    return a * x_ + b"
   ]
  },
  {
   "cell_type": "code",
   "execution_count": 22,
   "metadata": {
    "collapsed": false
   },
   "outputs": [
    {
     "name": "stdout",
     "output_type": "stream",
     "text": [
      "MSE (train) = 28.2\n",
      "MSE (test) = 22.8\n"
     ]
    }
   ],
   "source": [
    "y_train = df_train.apply(lambda row: linear_regression_previous_inspections(df_train, row['restaurant_id'], row['inspect_date']), axis=1)\n",
    "y_pred_train = y_train.values\n",
    "y_true_train = df_train['*'].values\n",
    "\n",
    "y_test = df_test.apply(lambda row: linear_regression_previous_inspections(df_test, row['restaurant_id'], row['inspect_date']), axis=1)\n",
    "y_pred_test = y_test.values\n",
    "y_true_test = df_test['*'].values\n",
    "\n",
    "print 'MSE (train) = %.1f' % mse(y_true_train, y_pred_train)\n",
    "print 'MSE (test) = %.1f' % mse(y_true_test, y_pred_test)"
   ]
  },
  {
   "cell_type": "markdown",
   "metadata": {},
   "source": [
    "### With these simple models we move on to NLP and using the Yelp data"
   ]
  },
  {
   "cell_type": "code",
   "execution_count": 23,
   "metadata": {
    "collapsed": false,
    "scrolled": false
   },
   "outputs": [
    {
     "data": {
      "text/html": [
       "<div>\n",
       "<table border=\"1\" class=\"dataframe\">\n",
       "  <thead>\n",
       "    <tr style=\"text-align: right;\">\n",
       "      <th></th>\n",
       "      <th>business_id</th>\n",
       "      <th>review_date</th>\n",
       "      <th>review_id</th>\n",
       "      <th>stars</th>\n",
       "      <th>text</th>\n",
       "    </tr>\n",
       "  </thead>\n",
       "  <tbody>\n",
       "    <tr>\n",
       "      <th>0</th>\n",
       "      <td>Jp9svt7sRT4zwdbzQ8KQmw</td>\n",
       "      <td>2005-08-26</td>\n",
       "      <td>OeT5kgUOe3vcN7H6ImVmZQ</td>\n",
       "      <td>3</td>\n",
       "      <td>This is a pretty typical cafe.  The sandwiches...</td>\n",
       "    </tr>\n",
       "    <tr>\n",
       "      <th>1</th>\n",
       "      <td>Jp9svt7sRT4zwdbzQ8KQmw</td>\n",
       "      <td>2005-11-23</td>\n",
       "      <td>qq3zF2dDUh3EjMDuKBqhEA</td>\n",
       "      <td>3</td>\n",
       "      <td>I agree with other reviewers - this is a prett...</td>\n",
       "    </tr>\n",
       "    <tr>\n",
       "      <th>2</th>\n",
       "      <td>Jp9svt7sRT4zwdbzQ8KQmw</td>\n",
       "      <td>2005-11-23</td>\n",
       "      <td>i3eQTINJXe3WUmyIpvhE9w</td>\n",
       "      <td>3</td>\n",
       "      <td>Decent enough food, but very overpriced. Just ...</td>\n",
       "    </tr>\n",
       "  </tbody>\n",
       "</table>\n",
       "</div>"
      ],
      "text/plain": [
       "              business_id review_date               review_id  stars  \\\n",
       "0  Jp9svt7sRT4zwdbzQ8KQmw  2005-08-26  OeT5kgUOe3vcN7H6ImVmZQ      3   \n",
       "1  Jp9svt7sRT4zwdbzQ8KQmw  2005-11-23  qq3zF2dDUh3EjMDuKBqhEA      3   \n",
       "2  Jp9svt7sRT4zwdbzQ8KQmw  2005-11-23  i3eQTINJXe3WUmyIpvhE9w      3   \n",
       "\n",
       "                                                text  \n",
       "0  This is a pretty typical cafe.  The sandwiches...  \n",
       "1  I agree with other reviewers - this is a prett...  \n",
       "2  Decent enough food, but very overpriced. Just ...  "
      ]
     },
     "execution_count": 23,
     "metadata": {},
     "output_type": "execute_result"
    }
   ],
   "source": [
    "from helper_methods import read_json\n",
    "df_rev = read_json('data/yelp_academic_dataset_review.json')\n",
    "df_rev.rename(columns={'date':'review_date'}, inplace=True)\n",
    "df_rev.drop(['type', 'user_id', 'votes'], axis=1, inplace=True)\n",
    "df_rev.head(3)"
   ]
  },
  {
   "cell_type": "markdown",
   "metadata": {},
   "source": [
    "### Exploratory data analysis of the reviews concludes here. Now we begin the model building:"
   ]
  },
  {
   "cell_type": "markdown",
   "metadata": {},
   "source": [
    "Our strategy is to pair the inspection results with the reviews that were written in the t_days before the inspection. For instance, if the inspection was on March 1 then we would consider all reviews written between then and March 1 minus t_days. We do not consider reviews beyond the inspection date because the way the contest works we will be predicting violations using only past data."
   ]
  },
  {
   "cell_type": "code",
   "execution_count": 24,
   "metadata": {
    "collapsed": false,
    "scrolled": true
   },
   "outputs": [
    {
     "data": {
      "text/html": [
       "<div>\n",
       "<table border=\"1\" class=\"dataframe\">\n",
       "  <thead>\n",
       "    <tr style=\"text-align: right;\">\n",
       "      <th></th>\n",
       "      <th>restaurant_id</th>\n",
       "      <th>business_id</th>\n",
       "      <th>id</th>\n",
       "      <th>inspect_date</th>\n",
       "      <th>*</th>\n",
       "      <th>**</th>\n",
       "      <th>***</th>\n",
       "      <th>weighted_violations</th>\n",
       "    </tr>\n",
       "  </thead>\n",
       "  <tbody>\n",
       "    <tr>\n",
       "      <th>0</th>\n",
       "      <td>Y1Em4GOw</td>\n",
       "      <td>5Kdf1DGbRScRk6Cx3jaX8w</td>\n",
       "      <td>17</td>\n",
       "      <td>2015-02-06</td>\n",
       "      <td>1</td>\n",
       "      <td>0</td>\n",
       "      <td>0</td>\n",
       "      <td>1</td>\n",
       "    </tr>\n",
       "    <tr>\n",
       "      <th>1</th>\n",
       "      <td>KAoKP6Og</td>\n",
       "      <td>Urw6NASrebP6tyFdjwjkwQ</td>\n",
       "      <td>9337</td>\n",
       "      <td>2007-06-27</td>\n",
       "      <td>0</td>\n",
       "      <td>0</td>\n",
       "      <td>0</td>\n",
       "      <td>0</td>\n",
       "    </tr>\n",
       "    <tr>\n",
       "      <th>2</th>\n",
       "      <td>KAoKP6Og</td>\n",
       "      <td>Urw6NASrebP6tyFdjwjkwQ</td>\n",
       "      <td>5052</td>\n",
       "      <td>2008-03-25</td>\n",
       "      <td>8</td>\n",
       "      <td>0</td>\n",
       "      <td>0</td>\n",
       "      <td>8</td>\n",
       "    </tr>\n",
       "  </tbody>\n",
       "</table>\n",
       "</div>"
      ],
      "text/plain": [
       "  restaurant_id             business_id    id inspect_date  *  **  ***  \\\n",
       "0      Y1Em4GOw  5Kdf1DGbRScRk6Cx3jaX8w    17   2015-02-06  1   0    0   \n",
       "1      KAoKP6Og  Urw6NASrebP6tyFdjwjkwQ  9337   2007-06-27  0   0    0   \n",
       "2      KAoKP6Og  Urw6NASrebP6tyFdjwjkwQ  5052   2008-03-25  8   0    0   \n",
       "\n",
       "   weighted_violations  \n",
       "0                    1  \n",
       "1                    0  \n",
       "2                    8  "
      ]
     },
     "execution_count": 24,
     "metadata": {},
     "output_type": "execute_result"
    }
   ],
   "source": [
    "df_train.head(3)"
   ]
  },
  {
   "cell_type": "code",
   "execution_count": 25,
   "metadata": {
    "collapsed": false
   },
   "outputs": [
    {
     "data": {
      "text/html": [
       "<div>\n",
       "<table border=\"1\" class=\"dataframe\">\n",
       "  <thead>\n",
       "    <tr style=\"text-align: right;\">\n",
       "      <th></th>\n",
       "      <th>restaurant_id</th>\n",
       "      <th>business_id</th>\n",
       "      <th>id</th>\n",
       "      <th>inspect_date</th>\n",
       "      <th>*</th>\n",
       "      <th>**</th>\n",
       "      <th>***</th>\n",
       "      <th>weighted_violations</th>\n",
       "    </tr>\n",
       "  </thead>\n",
       "  <tbody>\n",
       "    <tr>\n",
       "      <th>7</th>\n",
       "      <td>WeEe7eoa</td>\n",
       "      <td>xlOE7jqbW1Q_PrvLBVlegQ</td>\n",
       "      <td>28427</td>\n",
       "      <td>2012-12-30</td>\n",
       "      <td>0</td>\n",
       "      <td>0</td>\n",
       "      <td>0</td>\n",
       "      <td>0</td>\n",
       "    </tr>\n",
       "    <tr>\n",
       "      <th>8</th>\n",
       "      <td>V430mqoB</td>\n",
       "      <td>ktYpqtygWIJ2RjVPGTxNaA</td>\n",
       "      <td>28794</td>\n",
       "      <td>2007-08-03</td>\n",
       "      <td>4</td>\n",
       "      <td>0</td>\n",
       "      <td>2</td>\n",
       "      <td>14</td>\n",
       "    </tr>\n",
       "    <tr>\n",
       "      <th>13</th>\n",
       "      <td>ekE4Qz32</td>\n",
       "      <td>n8CsQy7Iy1IMhP85hPVKPA</td>\n",
       "      <td>10665</td>\n",
       "      <td>2011-04-21</td>\n",
       "      <td>3</td>\n",
       "      <td>0</td>\n",
       "      <td>1</td>\n",
       "      <td>8</td>\n",
       "    </tr>\n",
       "  </tbody>\n",
       "</table>\n",
       "</div>"
      ],
      "text/plain": [
       "   restaurant_id             business_id     id inspect_date  *  **  ***  \\\n",
       "7       WeEe7eoa  xlOE7jqbW1Q_PrvLBVlegQ  28427   2012-12-30  0   0    0   \n",
       "8       V430mqoB  ktYpqtygWIJ2RjVPGTxNaA  28794   2007-08-03  4   0    2   \n",
       "13      ekE4Qz32  n8CsQy7Iy1IMhP85hPVKPA  10665   2011-04-21  3   0    1   \n",
       "\n",
       "    weighted_violations  \n",
       "7                     0  \n",
       "8                    14  \n",
       "13                    8  "
      ]
     },
     "execution_count": 25,
     "metadata": {},
     "output_type": "execute_result"
    }
   ],
   "source": [
    "df_test.head(3)"
   ]
  },
  {
   "cell_type": "code",
   "execution_count": 26,
   "metadata": {
    "collapsed": false,
    "scrolled": true
   },
   "outputs": [
    {
     "data": {
      "text/html": [
       "<div>\n",
       "<table border=\"1\" class=\"dataframe\">\n",
       "  <thead>\n",
       "    <tr style=\"text-align: right;\">\n",
       "      <th></th>\n",
       "      <th>business_id</th>\n",
       "      <th>text</th>\n",
       "      <th>review_date</th>\n",
       "    </tr>\n",
       "  </thead>\n",
       "  <tbody>\n",
       "    <tr>\n",
       "      <th>0</th>\n",
       "      <td>Jp9svt7sRT4zwdbzQ8KQmw</td>\n",
       "      <td>This is a pretty typical cafe.  The sandwiches...</td>\n",
       "      <td>2005-08-26</td>\n",
       "    </tr>\n",
       "    <tr>\n",
       "      <th>1</th>\n",
       "      <td>Jp9svt7sRT4zwdbzQ8KQmw</td>\n",
       "      <td>I agree with other reviewers - this is a prett...</td>\n",
       "      <td>2005-11-23</td>\n",
       "    </tr>\n",
       "    <tr>\n",
       "      <th>2</th>\n",
       "      <td>Jp9svt7sRT4zwdbzQ8KQmw</td>\n",
       "      <td>Decent enough food, but very overpriced. Just ...</td>\n",
       "      <td>2005-11-23</td>\n",
       "    </tr>\n",
       "  </tbody>\n",
       "</table>\n",
       "</div>"
      ],
      "text/plain": [
       "              business_id                                               text  \\\n",
       "0  Jp9svt7sRT4zwdbzQ8KQmw  This is a pretty typical cafe.  The sandwiches...   \n",
       "1  Jp9svt7sRT4zwdbzQ8KQmw  I agree with other reviewers - this is a prett...   \n",
       "2  Jp9svt7sRT4zwdbzQ8KQmw  Decent enough food, but very overpriced. Just ...   \n",
       "\n",
       "  review_date  \n",
       "0  2005-08-26  \n",
       "1  2005-11-23  \n",
       "2  2005-11-23  "
      ]
     },
     "execution_count": 26,
     "metadata": {},
     "output_type": "execute_result"
    }
   ],
   "source": [
    "df_rev[['business_id', 'text', 'review_date']].head(3)"
   ]
  },
  {
   "cell_type": "code",
   "execution_count": 27,
   "metadata": {
    "collapsed": true
   },
   "outputs": [],
   "source": [
    "def join_and_filter(df_violations, df_reviews, t_window):\n",
    "    \"\"\"Join the violations and reviews. Filter reviews that are not with t_window days of the inspection date.\"\"\"\n",
    "    xl = pd.merge(df_violations, df_reviews, on='business_id', how='left')\n",
    "    xl = xl[(xl['inspect_date'] >= xl['review_date']) & ((xl['inspect_date'] - xl['review_date']) / np.timedelta64(1, 'D') <= t_window)]\n",
    "    xl.drop(['id', 'weighted_violations', 'business_id', 'review_id'], axis=1, inplace=True)\n",
    "    return xl"
   ]
  },
  {
   "cell_type": "code",
   "execution_count": 28,
   "metadata": {
    "collapsed": true
   },
   "outputs": [],
   "source": [
    "def join_and_filter2(df_violations, df_reviews, t_window):\n",
    "    \"\"\"Join the violations and reviews. Filter reviews that are not with t_window days of the inspection date.\"\"\"\n",
    "    xl = pd.merge(df_violations, df_reviews, on='business_id', how='left')\n",
    "    xl = xl[(xl['inspect_date'] >= xl['review_date']) & ((xl['inspect_date'] - xl['review_date']) / np.timedelta64(1, 'D') <= t_window)]\n",
    "    xl.drop(['weighted_violations', 'business_id', 'review_id'], axis=1, inplace=True)\n",
    "    xl.text = xl.text.apply(lambda x: x + ' ||| ')\n",
    "    xl = xl.groupby('id').agg({'text':[np.sum], '*':['first'], '**':['first'], '***':['first']})\n",
    "    xl.columns = ['text', '*', '**', '***']\n",
    "    return xl"
   ]
  },
  {
   "cell_type": "markdown",
   "metadata": {},
   "source": [
    "Create a routine to process the text:"
   ]
  },
  {
   "cell_type": "code",
   "execution_count": 29,
   "metadata": {
    "collapsed": true
   },
   "outputs": [],
   "source": [
    "import re\n",
    "from nltk.stem.porter import PorterStemmer\n",
    "\n",
    "def review_to_words(raw_review):\n",
    "    letters_only = re.sub(\"[^a-zA-Z]\", \" \", raw_review)\n",
    "    return letters_only.lower().split()\n",
    "\n",
    "def review_to_words_porter(raw_review):\n",
    "    letters_only = re.sub(\"[^a-zA-Z]\", \" \", raw_review)\n",
    "    words = letters_only.lower().split()\n",
    "    porter = PorterStemmer()\n",
    "    return [porter.stem(word) for word in words]"
   ]
  },
  {
   "cell_type": "markdown",
   "metadata": {},
   "source": [
    "### Prepare the train and test data"
   ]
  },
  {
   "cell_type": "code",
   "execution_count": 30,
   "metadata": {
    "collapsed": false
   },
   "outputs": [],
   "source": [
    "t_days = 60\n",
    "\n",
    "xl = join_and_filter2(df_train, df_rev, t_days)\n",
    "X_train = xl['text'].values\n",
    "y_train = xl['*'].values\n",
    "\n",
    "xl = join_and_filter2(df_test, df_rev, t_days)\n",
    "X_test = xl['text'].values\n",
    "y_true_test = xl['*'].values"
   ]
  },
  {
   "cell_type": "markdown",
   "metadata": {},
   "source": [
    "Because we work with a sparse matrix, we will not standardize each column since that would lead to a dense matrix and high memory demands."
   ]
  },
  {
   "cell_type": "code",
   "execution_count": 49,
   "metadata": {
    "collapsed": false,
    "scrolled": true
   },
   "outputs": [
    {
     "name": "stdout",
     "output_type": "stream",
     "text": [
      "Fitting 3 folds for each of 4 candidates, totalling 12 fits\n"
     ]
    },
    {
     "name": "stderr",
     "output_type": "stream",
     "text": [
      "[Parallel(n_jobs=-1)]: Done  12 out of  12 | elapsed: 18.3min finished\n"
     ]
    }
   ],
   "source": [
    "from sklearn.grid_search import GridSearchCV\n",
    "from sklearn.pipeline import Pipeline\n",
    "from sklearn.linear_model import LinearRegression\n",
    "from sklearn.linear_model import Ridge\n",
    "from sklearn.linear_model import Lasso\n",
    "from sklearn.ensemble import RandomForestRegressor\n",
    "from sklearn.feature_extraction.text import TfidfVectorizer\n",
    "\n",
    "from nltk.corpus import stopwords\n",
    "stops = stopwords.words(\"english\")\n",
    "\n",
    "tfidf = TfidfVectorizer(max_features=2000, ngram_range=(1, 3), smooth_idf=True, norm='l2')\n",
    "param_grid = [{'vect__stop_words': [stops, None], 'vect__tokenizer': [review_to_words, review_to_words_porter]}]\n",
    "#lr_tfidf = Pipeline([('vect', tfidf), ('linreg', Ridge(alpha=10.0))])\n",
    "lr_tfidf = Pipeline([('vect', tfidf), ('linreg', RandomForestRegressor(n_estimators=20))])\n",
    "gs_lr_tfidf = GridSearchCV(lr_tfidf, param_grid, scoring='mean_squared_error', cv=3, verbose=1, n_jobs=-1)\n",
    "gs_lr_tfidf = gs_lr_tfidf.fit(X_train, y_train)"
   ]
  },
  {
   "cell_type": "code",
   "execution_count": 50,
   "metadata": {
    "collapsed": false
   },
   "outputs": [
    {
     "name": "stdout",
     "output_type": "stream",
     "text": [
      "['vect__tokenizer', 'vect__stop_words']\n",
      "[<function review_to_words_porter at 0x1705dca28>, None]\n"
     ]
    }
   ],
   "source": [
    "print gs_lr_tfidf.best_params_.keys()\n",
    "print gs_lr_tfidf.best_params_.values()"
   ]
  },
  {
   "cell_type": "code",
   "execution_count": 51,
   "metadata": {
    "collapsed": false
   },
   "outputs": [
    {
     "name": "stdout",
     "output_type": "stream",
     "text": [
      "Linear model: mse = 3.1651900197\n"
     ]
    }
   ],
   "source": [
    "y_train_pred = gs_lr_tfidf.predict(X_train)\n",
    "print 'Linear model: mse =', mse(y_train, y_train_pred)"
   ]
  },
  {
   "cell_type": "markdown",
   "metadata": {},
   "source": [
    "### Test data"
   ]
  },
  {
   "cell_type": "code",
   "execution_count": 52,
   "metadata": {
    "collapsed": false
   },
   "outputs": [
    {
     "name": "stdout",
     "output_type": "stream",
     "text": [
      "Linear model: mse = 17.7556489883\n"
     ]
    }
   ],
   "source": [
    "y_pred_test = gs_lr_tfidf.predict(X_test)\n",
    "print 'Linear model: mse =', mse(y_true_test, y_pred_test)"
   ]
  }
 ],
 "metadata": {
  "kernelspec": {
   "display_name": "Python 2",
   "language": "python",
   "name": "python2"
  },
  "language_info": {
   "codemirror_mode": {
    "name": "ipython",
    "version": 2
   },
   "file_extension": ".py",
   "mimetype": "text/x-python",
   "name": "python",
   "nbconvert_exporter": "python",
   "pygments_lexer": "ipython2",
   "version": "2.7.5"
  }
 },
 "nbformat": 4,
 "nbformat_minor": 0
}
