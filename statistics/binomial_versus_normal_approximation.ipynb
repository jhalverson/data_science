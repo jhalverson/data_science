{
 "cells": [
  {
   "cell_type": "markdown",
   "metadata": {},
   "source": [
    "#Jonathan Halverson\n",
    "#Tuesday, February 23, 2016\n",
    "# Coin Toss: Binomial versus Normal Approximation"
   ]
  },
  {
   "cell_type": "markdown",
   "metadata": {},
   "source": [
    "###Here we return to the simple problem of asking what is the probability of getting 60 heads or more when flipping a fair coin 100 times. We compare the exact solution to that of the normal approximation. The exact solution is: "
   ]
  },
  {
   "cell_type": "code",
   "execution_count": 51,
   "metadata": {
    "collapsed": false
   },
   "outputs": [
    {
     "data": {
      "text/plain": [
       "0.028443966820490441"
      ]
     },
     "execution_count": 51,
     "metadata": {},
     "output_type": "execute_result"
    }
   ],
   "source": [
    "from scipy.stats import binom\n",
    "1.0 - binom.cdf(k=59, n=100, p=0.5)"
   ]
  },
  {
   "cell_type": "code",
   "execution_count": 52,
   "metadata": {
    "collapsed": false
   },
   "outputs": [
    {
     "data": {
      "text/plain": [
       "0.028443966820489341"
      ]
     },
     "execution_count": 52,
     "metadata": {},
     "output_type": "execute_result"
    }
   ],
   "source": [
    "sum([binom.pmf(k, n=100, p=0.5) for k in range(60, 101)])"
   ]
  },
  {
   "cell_type": "markdown",
   "metadata": {},
   "source": [
    "###To make the normal approximation the mean is obviously 50 or np. The standard deviation is obtained by recognizing that each flip is a Bernoulli trial. Therefore, the standard deviation is $\\sqrt{np(1-p)}$. "
   ]
  },
  {
   "cell_type": "code",
   "execution_count": 53,
   "metadata": {
    "collapsed": false
   },
   "outputs": [],
   "source": [
    "mu = 50.0\n",
    "s = (100 * 0.5 * (1 - 0.5))**0.5"
   ]
  },
  {
   "cell_type": "markdown",
   "metadata": {},
   "source": [
    "###Compute the probability of being greater than or equal to 60 (following pg. 151 of OpenIntro we add 1/2 to the lower bound of the interval which leads to a better approximation): "
   ]
  },
  {
   "cell_type": "code",
   "execution_count": 54,
   "metadata": {
    "collapsed": false,
    "scrolled": true
   },
   "outputs": [
    {
     "data": {
      "text/plain": [
       "0.028716559816001852"
      ]
     },
     "execution_count": 54,
     "metadata": {},
     "output_type": "execute_result"
    }
   ],
   "source": [
    "from scipy.stats import norm\n",
    "1.0 - norm.cdf(59.5, loc=mu, scale=s)"
   ]
  },
  {
   "cell_type": "markdown",
   "metadata": {},
   "source": [
    "###Let's run the numerical experiment: "
   ]
  },
  {
   "cell_type": "code",
   "execution_count": 55,
   "metadata": {
    "collapsed": false
   },
   "outputs": [
    {
     "name": "stdout",
     "output_type": "stream",
     "text": [
      "0.0291\n"
     ]
    }
   ],
   "source": [
    "from random import choice\n",
    "\n",
    "trials = 10000\n",
    "success = 0\n",
    "data = []\n",
    "heads_cutoff = 60\n",
    "n = 100\n",
    "for _ in xrange(trials):\n",
    "    heads = 0\n",
    "    for _ in xrange(n):\n",
    "        if (choice([\"heads\", \"tails\"]) == \"heads\"):\n",
    "            heads += 1\n",
    "    if (heads >= heads_cutoff):\n",
    "        success += 1\n",
    "    data.append(heads)\n",
    "print(float(success) / trials)"
   ]
  },
  {
   "cell_type": "markdown",
   "metadata": {},
   "source": [
    "###Below we plot the pmf and pdf of the two distributions and note the similarity:"
   ]
  },
  {
   "cell_type": "code",
   "execution_count": 58,
   "metadata": {
    "collapsed": false
   },
   "outputs": [
    {
     "data": {
      "text/plain": [
       "<matplotlib.legend.Legend at 0x10eb04210>"
      ]
     },
     "execution_count": 58,
     "metadata": {},
     "output_type": "execute_result"
    },
    {
     "data": {
      "image/png": "[encoded data removed]",
      "text/plain": [
       "<matplotlib.figure.Figure at 0x10e8fd250>"
      ]
     },
     "metadata": {},
     "output_type": "display_data"
    }
   ],
   "source": [
    "# binomial\n",
    "x1 = range(0, 101)\n",
    "y1 = binom.pmf(x1, n=100, p=0.5)\n",
    "plt.bar(x1, y1, align='center', label='Binomial')\n",
    "\n",
    "# normal\n",
    "mu = 50.0\n",
    "s = (100 * 0.5 * (1 - 0.5))**0.5\n",
    "x = np.linspace(0, 100, num=101)\n",
    "y = norm.pdf(x, loc=mu, scale=s)\n",
    "lines = plt.plot(x, y, 'r-', lw=2, label='Normal')\n",
    "\n",
    "plt.xlim(20, 80)\n",
    "plt.xlabel('Number of Heads')\n",
    "plt.ylabel('Probability')\n",
    "plt.legend()"
   ]
  }
 ],
 "metadata": {
  "kernelspec": {
   "display_name": "Python 2",
   "language": "python",
   "name": "python2"
  },
  "language_info": {
   "codemirror_mode": {
    "name": "ipython",
    "version": 2
   },
   "file_extension": ".py",
   "mimetype": "text/x-python",
   "name": "python",
   "nbconvert_exporter": "python",
   "pygments_lexer": "ipython2",
   "version": "2.7.5"
  }
 },
 "nbformat": 4,
 "nbformat_minor": 0
}
