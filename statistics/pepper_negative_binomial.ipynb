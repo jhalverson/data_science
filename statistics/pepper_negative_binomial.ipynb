{
 "cells": [
  {
   "cell_type": "markdown",
   "metadata": {},
   "source": [
    "#Jonathan Halverson\n",
    "#Tuesday, February 16, 2016"
   ]
  },
  {
   "cell_type": "markdown",
   "metadata": {},
   "source": [
    "# Combinatorics: How many permutations of PEPPER?"
   ]
  },
  {
   "cell_type": "markdown",
   "metadata": {},
   "source": [
    "### We begin by finding the answer by writing a short program:"
   ]
  },
  {
   "cell_type": "code",
   "execution_count": 35,
   "metadata": {
    "collapsed": false
   },
   "outputs": [
    {
     "name": "stdout",
     "output_type": "stream",
     "text": [
      "60\n"
     ]
    }
   ],
   "source": [
    "from random import shuffle\n",
    "\n",
    "s = set([])\n",
    "w = ['P', 'E', 'P', 'P', 'E', 'R']\n",
    "N = len(letters)\n",
    "for a in range(N):\n",
    "    for b in range(N):\n",
    "        if (b != a):\n",
    "            for c in range(N):\n",
    "                if ((c != a) and (c != b)):\n",
    "                    for d in range(N):\n",
    "                        if ((d != a) and (d != b) and (d != c)):\n",
    "                            for e in range(N):\n",
    "                                if ((e != a) and (e != b) and (e != c) and (e != d)):\n",
    "                                    for f in range(N):\n",
    "                                        if ((f != a) and (f != b) and (f != c) and (f != d) and (f != e)):                                \n",
    "                                            word = w[a] + w[b] + w[c] + w[d] + w[d] + w[e] + w[f]\n",
    "                                            s.add(word)\n",
    "\n",
    "print len(s)"
   ]
  },
  {
   "cell_type": "markdown",
   "metadata": {},
   "source": [
    "###For the analytical solution we recognize that there are 6 choices for the first, 5 for the second and so on. But the 'P' and 'E' characters are indistinguishable so this must be taken into account:"
   ]
  },
  {
   "cell_type": "code",
   "execution_count": 36,
   "metadata": {
    "collapsed": false
   },
   "outputs": [
    {
     "data": {
      "text/plain": [
       "60"
      ]
     },
     "execution_count": 36,
     "metadata": {},
     "output_type": "execute_result"
    }
   ],
   "source": [
    "from math import factorial\n",
    "\n",
    "factorial(6) / (factorial(3) * factorial(2))"
   ]
  },
  {
   "cell_type": "markdown",
   "metadata": {},
   "source": [
    "#Negative binomial distribution "
   ]
  },
  {
   "cell_type": "markdown",
   "metadata": {},
   "source": [
    "### If the probability Brian kicks a 35 yard field goal is p = 0.8, what is the probability it takes Brian exactly six tries to get his fourth successful kick? Note that the negative binomial distribution is a generalized version of the geometric distribution."
   ]
  },
  {
   "cell_type": "markdown",
   "metadata": {},
   "source": [
    "###We begin with the numerical simulation: "
   ]
  },
  {
   "cell_type": "code",
   "execution_count": 37,
   "metadata": {
    "collapsed": false
   },
   "outputs": [
    {
     "name": "stdout",
     "output_type": "stream",
     "text": [
      "0.163094\n"
     ]
    }
   ],
   "source": [
    "success = 0\n",
    "p = 0.8\n",
    "trials = 1000000\n",
    "for _ in xrange(trials):\n",
    "    kicks = [0, 0, 0, 0, 0, 0]\n",
    "    for i in xrange(6):\n",
    "        if (random.random() < p): kicks[i] = 1\n",
    "    if (sum(kicks) == 4 and kicks[-1] == 1): success += 1\n",
    "print float(success) / trials"
   ]
  },
  {
   "cell_type": "markdown",
   "metadata": {},
   "source": [
    "###The analytical solution to this problem is given by the negative binomial distribution, which is given by nbinom.pmf(k) = choose(k+n-1, n-1) * p**n * (1-p)**k: "
   ]
  },
  {
   "cell_type": "code",
   "execution_count": 38,
   "metadata": {
    "collapsed": true
   },
   "outputs": [],
   "source": [
    "from scipy.stats import nbinom"
   ]
  },
  {
   "cell_type": "code",
   "execution_count": 60,
   "metadata": {
    "collapsed": false
   },
   "outputs": [
    {
     "data": {
      "text/plain": [
       "0.16383999999999996"
      ]
     },
     "execution_count": 60,
     "metadata": {},
     "output_type": "execute_result"
    }
   ],
   "source": [
    "nbinom.pmf(k=2, n=4, p=0.8)"
   ]
  },
  {
   "cell_type": "code",
   "execution_count": 72,
   "metadata": {
    "collapsed": false
   },
   "outputs": [
    {
     "data": {
      "text/plain": [
       "<matplotlib.text.Text at 0x10c3cef90>"
      ]
     },
     "execution_count": 72,
     "metadata": {},
     "output_type": "execute_result"
    },
    {
     "data": {
      "image/png": "[encoded data removed]",
      "text/plain": [
       "<matplotlib.figure.Figure at 0x10c2ffb10>"
      ]
     },
     "metadata": {},
     "output_type": "display_data"
    }
   ],
   "source": [
    "import matplotlib.pyplot as plt\n",
    "%matplotlib inline\n",
    "num_successes = 4\n",
    "kn = map(lambda u: u + num_successes, range(1, 11))\n",
    "plt.bar(kn, [nbinom.pmf(k=num_fails, n=num_successes, p=0.8) for num_fails in range(1, 11)], align='center')\n",
    "plt.xlabel('Total kicks')\n",
    "plt.ylabel('P(k, n, p)')"
   ]
  },
  {
   "cell_type": "markdown",
   "metadata": {},
   "source": [
    "###Note that some textbooks define the distribution using different exponents so exercise caution. For instance, in the above, n is the number of successes and k is the number of fails."
   ]
  }
 ],
 "metadata": {
  "kernelspec": {
   "display_name": "Python 2",
   "language": "python",
   "name": "python2"
  },
  "language_info": {
   "codemirror_mode": {
    "name": "ipython",
    "version": 2
   },
   "file_extension": ".py",
   "mimetype": "text/x-python",
   "name": "python",
   "nbconvert_exporter": "python",
   "pygments_lexer": "ipython2",
   "version": "2.7.5"
  }
 },
 "nbformat": 4,
 "nbformat_minor": 0
}
