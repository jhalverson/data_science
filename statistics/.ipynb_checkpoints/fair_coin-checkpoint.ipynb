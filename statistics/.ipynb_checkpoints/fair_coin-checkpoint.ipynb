{
 "cells": [
  {
   "cell_type": "markdown",
   "metadata": {},
   "source": [
    "#Jonathan Halverson\n",
    "#January 17, 2016"
   ]
  },
  {
   "cell_type": "markdown",
   "metadata": {},
   "source": [
    "### Here we work through a classic statistics problem of determining whether a coin is fair. For instance, if a coin came up heads 77 times on 100 flips would we conclude it was fair? We begin with a numerical experiment and then present the analytical solution."
   ]
  },
  {
   "cell_type": "markdown",
   "metadata": {
    "collapsed": true
   },
   "source": [
    "###For the numerical experiment we flip a fair coin 100 times for 1000 trials and record the number of heads for each trial. "
   ]
  },
  {
   "cell_type": "code",
   "execution_count": 2,
   "metadata": {
    "collapsed": false
   },
   "outputs": [],
   "source": [
    "import random\n",
    "\n",
    "trials = 1000\n",
    "flips = 100\n",
    "heads = []\n",
    "random.seed(918273645)\n",
    "for _ in xrange(trials):\n",
    "    ct = 0\n",
    "    for _ in xrange(flips):\n",
    "        if (random.choice(['heads', 'tails']) == 'heads'): ct += 1\n",
    "    heads.append(ct)"
   ]
  },
  {
   "cell_type": "markdown",
   "metadata": {},
   "source": [
    "###Next we create a histogram of the results (one could use plt.hist but we here we use bar) "
   ]
  },
  {
   "cell_type": "code",
   "execution_count": 3,
   "metadata": {
    "collapsed": false
   },
   "outputs": [
    {
     "data": {
      "text/plain": [
       "<matplotlib.text.Text at 0x10f858bd0>"
      ]
     },
     "execution_count": 3,
     "metadata": {},
     "output_type": "execute_result"
    },
    {
     "data": {
      "image/png": "[encoded data removed]",
      "text/plain": [
       "<matplotlib.figure.Figure at 0x10f83d050>"
      ]
     },
     "metadata": {},
     "output_type": "display_data"
    }
   ],
   "source": [
    "import matplotlib.pyplot as plt\n",
    "%matplotlib inline\n",
    "from collections import Counter\n",
    "\n",
    "num_heads, counts = zip(*Counter(heads).iteritems())\n",
    "plt.bar(num_heads, counts, align='center')\n",
    "plt.xlabel('Number of Heads per 100 Flips')\n",
    "plt.ylabel('Count')"
   ]
  },
  {
   "cell_type": "markdown",
   "metadata": {},
   "source": [
    "###The experiment indicates that it is very unlikely to find 77 heads in 100 flips. In fact, 65 heads was the most seen in 1000 trials. "
   ]
  },
  {
   "cell_type": "markdown",
   "metadata": {},
   "source": [
    "###Coin flips obey the  binomial distribution because the flips are independent, the outcome is 0 or 1 with a constant probability of p, and the total number of trials is n. Next we explicitly code the binomial distribution and then use the built-in SciPy function."
   ]
  },
  {
   "cell_type": "code",
   "execution_count": 4,
   "metadata": {
    "collapsed": true
   },
   "outputs": [],
   "source": [
    "from math import factorial\n",
    "def bernoulli_success(n, k, p):\n",
    "    q = 1.0 - p\n",
    "    pre = factorial(n) / (factorial(n - k) * factorial(k))\n",
    "    return pre * p**k * q**(n - k)"
   ]
  },
  {
   "cell_type": "markdown",
   "metadata": {},
   "source": [
    "###Returning to the original question: "
   ]
  },
  {
   "cell_type": "code",
   "execution_count": 5,
   "metadata": {
    "collapsed": false
   },
   "outputs": [
    {
     "data": {
      "text/plain": [
       "1.9615239642357197e-08"
      ]
     },
     "execution_count": 5,
     "metadata": {},
     "output_type": "execute_result"
    }
   ],
   "source": [
    "bernoulli_success(n=100, k=77, p=0.5)"
   ]
  },
  {
   "cell_type": "markdown",
   "metadata": {},
   "source": [
    "###We can use the built-in binomial distribution in SciPy "
   ]
  },
  {
   "cell_type": "code",
   "execution_count": 6,
   "metadata": {
    "collapsed": false
   },
   "outputs": [
    {
     "data": {
      "text/plain": [
       "1.9615239642356016e-08"
      ]
     },
     "execution_count": 6,
     "metadata": {},
     "output_type": "execute_result"
    }
   ],
   "source": [
    "from scipy.stats import binom\n",
    "binom.pmf(k=77, n=flips, p=0.5)"
   ]
  },
  {
   "cell_type": "code",
   "execution_count": 7,
   "metadata": {
    "collapsed": false
   },
   "outputs": [
    {
     "name": "stdout",
     "output_type": "stream",
     "text": [
      "1.0\n"
     ]
    }
   ],
   "source": [
    "bern = [binom.pmf(k, n=100, p=0.5) for k in range(0, flips + 1)]\n",
    "print sum(bern) # check that the distribution is properly normalized"
   ]
  },
  {
   "cell_type": "code",
   "execution_count": 8,
   "metadata": {
    "collapsed": false
   },
   "outputs": [
    {
     "data": {
      "text/plain": [
       "<matplotlib.text.Text at 0x110ab6290>"
      ]
     },
     "execution_count": 8,
     "metadata": {},
     "output_type": "execute_result"
    },
    {
     "data": {
      "image/png": "[encoded data removed]",
      "text/plain": [
       "<matplotlib.figure.Figure at 0x10faad810>"
      ]
     },
     "metadata": {},
     "output_type": "display_data"
    }
   ],
   "source": [
    "plt.plot(bern, 'wo')\n",
    "plt.xlabel('Number of Heads per 100 Flips')\n",
    "plt.ylabel('P(k)')"
   ]
  },
  {
   "cell_type": "markdown",
   "metadata": {},
   "source": [
    "###One can model a binomial distribution using a normal distribution. This can done by using a mean of np and a standard distribution of  (np(1-p))^0.5. One must be careful that k is sufficiently large and np and n(1-p) are at least 10. One must also because careful when applying the approximation to narrow ranges."
   ]
  },
  {
   "cell_type": "markdown",
   "metadata": {},
   "source": [
    "###Aside: What is the probability of rolling three 6-sided dice and all three come up with the same number: "
   ]
  },
  {
   "cell_type": "code",
   "execution_count": 9,
   "metadata": {
    "collapsed": false
   },
   "outputs": [
    {
     "name": "stdout",
     "output_type": "stream",
     "text": [
      "0.02779 0.0277777777778\n"
     ]
    }
   ],
   "source": [
    "success = 0\n",
    "attempts = 100000\n",
    "for _ in xrange(attempts):\n",
    "    d1 = random.choice([1, 2, 3, 4, 5, 6])\n",
    "    d2 = random.choice([1, 2, 3, 4, 5, 6])\n",
    "    d3 = random.choice([1, 2, 3, 4, 5, 6])\n",
    "    if (d1 == d2 and d2 == d3): success += 1\n",
    "print float(success) / attempts, 1 / 6.0**2"
   ]
  },
  {
   "cell_type": "markdown",
   "metadata": {},
   "source": [
    "###We can use the binomial distribution here. Consider three trials where success is getting a certain number each time (with p=1/6):"
   ]
  },
  {
   "cell_type": "code",
   "execution_count": 15,
   "metadata": {
    "collapsed": false
   },
   "outputs": [
    {
     "data": {
      "text/plain": [
       "0.0046296296296296285"
      ]
     },
     "execution_count": 15,
     "metadata": {},
     "output_type": "execute_result"
    }
   ],
   "source": [
    "binom.pmf(k=3, n=3, p=1/6.0)"
   ]
  },
  {
   "cell_type": "markdown",
   "metadata": {},
   "source": [
    "### The above result would be valid if we had a specific number in mind like all three dice coming up 2. Since there are six different numbers or ways to achieve all three die being the same, we multiply the above by 6:"
   ]
  },
  {
   "cell_type": "code",
   "execution_count": 17,
   "metadata": {
    "collapsed": false
   },
   "outputs": [
    {
     "data": {
      "text/plain": [
       "0.027777777777777769"
      ]
     },
     "execution_count": 17,
     "metadata": {},
     "output_type": "execute_result"
    }
   ],
   "source": [
    "6 * binom.pmf(k=3, n=3, p=1/6.0)"
   ]
  },
  {
   "cell_type": "markdown",
   "metadata": {},
   "source": [
    "#A nice twist "
   ]
  },
  {
   "cell_type": "markdown",
   "metadata": {},
   "source": [
    "Your 10 against my 20 for 100 flips. Risk of losing money: (1/2300).\n",
    "Expected value 50 x 20 - 50 x 10 = $500"
   ]
  },
  {
   "cell_type": "markdown",
   "metadata": {},
   "source": [
    "####Two competitors flip a fair coin with one putting up 10 dollars and the other 20 dollars. Show that after 100 flips the probability of player 1 to lose money is 1/2300. And what is the probability of player 2 to make any money?"
   ]
  },
  {
   "cell_type": "code",
   "execution_count": 11,
   "metadata": {
    "collapsed": false
   },
   "outputs": [],
   "source": [
    "gains = []\n",
    "for _ in range(23000):\n",
    "    gain = 0\n",
    "    for _ in range(100):\n",
    "        if (random.choice(['heads', 'tails']) == 'heads'): gain += 20\n",
    "        else: gain -= 10\n",
    "    gains.append(gain)"
   ]
  },
  {
   "cell_type": "code",
   "execution_count": 12,
   "metadata": {
    "collapsed": false
   },
   "outputs": [
    {
     "data": {
      "text/plain": [
       "<matplotlib.text.Text at 0x110ad8750>"
      ]
     },
     "execution_count": 12,
     "metadata": {},
     "output_type": "execute_result"
    },
    {
     "data": {
      "image/png": "[encoded data removed]",
      "text/plain": [
       "<matplotlib.figure.Figure at 0x110ae3a10>"
      ]
     },
     "metadata": {},
     "output_type": "display_data"
    }
   ],
   "source": [
    "n, bins, patches = plt.hist(gains, bins=36, normed=True)\n",
    "plt.xlabel('Money won by player putting up \\$10 versus \\$20')\n",
    "plt.ylabel('P(k)')"
   ]
  },
  {
   "cell_type": "code",
   "execution_count": 13,
   "metadata": {
    "collapsed": false
   },
   "outputs": [
    {
     "name": "stdout",
     "output_type": "stream",
     "text": [
      "10\n"
     ]
    }
   ],
   "source": [
    "print len([gain for gain in gains if gain < 0])"
   ]
  },
  {
   "cell_type": "markdown",
   "metadata": {
    "collapsed": true
   },
   "source": [
    "###The numerical experiment shows that in 10 out of 23000 trials the person putting up 20 dollars versus 10 per flip (100 in total) wins money.  "
   ]
  }
 ],
 "metadata": {
  "kernelspec": {
   "display_name": "Python 2",
   "language": "python",
   "name": "python2"
  },
  "language_info": {
   "codemirror_mode": {
    "name": "ipython",
    "version": 2
   },
   "file_extension": ".py",
   "mimetype": "text/x-python",
   "name": "python",
   "nbconvert_exporter": "python",
   "pygments_lexer": "ipython2",
   "version": "2.7.5"
  }
 },
 "nbformat": 4,
 "nbformat_minor": 0
}
