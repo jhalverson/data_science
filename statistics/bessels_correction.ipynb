{
 "cells": [
  {
   "cell_type": "markdown",
   "metadata": {},
   "source": [
    "# Jonathan Halverson\n",
    "# Saturday, March 26, 2016\n",
    "# Bessel's correction"
   ]
  },
  {
   "cell_type": "markdown",
   "metadata": {},
   "source": [
    "### Here we explain why N - 1 appears in the calculation for the variance of a sample. See https://en.wikipedia.org/wiki/Bessel%27s_correction"
   ]
  },
  {
   "cell_type": "code",
   "execution_count": 308,
   "metadata": {
    "collapsed": false
   },
   "outputs": [],
   "source": [
    "import random\n",
    "import numpy as np\n",
    "import matplotlib.pyplot as plt\n",
    "%matplotlib inline\n",
    "plt.rcParams['font.size'] = 14\n",
    "plt.rcParams['legend.numpoints'] = 1\n",
    "plt.rcParams['axes.labelsize'] = 16\n",
    "plt.rcParams['lines.markersize'] = 8"
   ]
  },
  {
   "cell_type": "markdown",
   "metadata": {},
   "source": [
    "### Set the seeds then draw a large number of random integers and compute the mean and variance. This is the population."
   ]
  },
  {
   "cell_type": "code",
   "execution_count": 309,
   "metadata": {
    "collapsed": false
   },
   "outputs": [
    {
     "name": "stdout",
     "output_type": "stream",
     "text": [
      "50.1607 836.80167551\n"
     ]
    }
   ],
   "source": [
    "random.seed(1234)\n",
    "np.random.seed(1234)\n",
    "\n",
    "population = np.random.random_integers(low=0, high=100, size=10000)\n",
    "mu = population.mean()\n",
    "s2 = population.var(ddof=0)\n",
    "print mu, s2"
   ]
  },
  {
   "cell_type": "code",
   "execution_count": 310,
   "metadata": {
    "collapsed": false
   },
   "outputs": [],
   "source": [
    "def var(v, mu, df=0):\n",
    "    \"\"\"Compute the variance of a list using the supplied average.\"\"\"\n",
    "    u = v - mu\n",
    "    u *= u\n",
    "    return u.sum() / (u.size - df)"
   ]
  },
  {
   "cell_type": "markdown",
   "metadata": {},
   "source": [
    "### Compute the variance of the sample using three different methods:"
   ]
  },
  {
   "cell_type": "code",
   "execution_count": 311,
   "metadata": {
    "collapsed": true
   },
   "outputs": [],
   "source": [
    "var_with_population_mean = []\n",
    "var_with_sample_mean = []\n",
    "var_with_sample_mean_bessel = []\n",
    "for _ in range(20):\n",
    "    sample = np.array(random.sample(population, k=10))\n",
    "    var_with_population_mean.append(var(sample, mu, 0))\n",
    "    var_with_sample_mean.append(sample.var(ddof=0))\n",
    "    var_with_sample_mean_bessel.append(sample.var(ddof=1))"
   ]
  },
  {
   "cell_type": "markdown",
   "metadata": {},
   "source": [
    "### Plot the three variances and the population variance (horizontal line):"
   ]
  },
  {
   "cell_type": "code",
   "execution_count": 312,
   "metadata": {
    "collapsed": false
   },
   "outputs": [
    {
     "data": {
      "text/plain": [
       "<matplotlib.legend.Legend at 0x109c7ecd0>"
      ]
     },
     "execution_count": 312,
     "metadata": {},
     "output_type": "execute_result"
    },
    {
     "data": {
      "image/png": "[encoded data removed]",
      "text/plain": [
       "<matplotlib.figure.Figure at 0x109b443d0>"
      ]
     },
     "metadata": {},
     "output_type": "display_data"
    }
   ],
   "source": [
    "plt.figure(figsize=(9, 6))\n",
    "plt.plot(var_with_population_mean, 'wo', label='population mean')\n",
    "plt.plot(var_with_sample_mean, 'r^', label='sample mean')\n",
    "plt.plot(var_with_sample_mean_bessel, 'b|', label='sample mean w/ Bessel')\n",
    "plt.plot([0, 20], [s2, s2], 'k:')\n",
    "plt.xlabel('index')\n",
    "plt.ylabel('variance')\n",
    "plt.legend(loc='upper right', fontsize=12)"
   ]
  },
  {
   "cell_type": "markdown",
   "metadata": {},
   "source": [
    "### The dotted horizontal line in the figure above gives the variance of the population. We see that the value fluctuate about this line. The variance computed using the sample mean and Bessel correction is almost always higher than the variance computed using the population mean which is always larger than or equal to the variance computed using the sample mean without the Bessel correction."
   ]
  },
  {
   "cell_type": "code",
   "execution_count": 313,
   "metadata": {
    "collapsed": false
   },
   "outputs": [
    {
     "name": "stdout",
     "output_type": "stream",
     "text": [
      "0.969220467915\n",
      "0.899163472087\n",
      "0.999070524541\n"
     ]
    }
   ],
   "source": [
    "print np.array(var_with_population_mean).mean() / s2\n",
    "print np.array(var_with_sample_mean).mean() / s2\n",
    "print np.array(var_with_sample_mean_bessel).mean() / s2"
   ]
  },
  {
   "cell_type": "markdown",
   "metadata": {},
   "source": [
    "### The calculations above show that the variance computed without the Bessel correction is less than the population value while when the correction is added, it is almost equal to the population variance."
   ]
  },
  {
   "cell_type": "code",
   "execution_count": 314,
   "metadata": {
    "collapsed": false
   },
   "outputs": [
    {
     "name": "stdout",
     "output_type": "stream",
     "text": [
      "1291888.96304\n",
      "1419133.92948\n"
     ]
    }
   ],
   "source": [
    "print sum((np.array(var_with_sample_mean) - s2)**2)\n",
    "print sum((np.array(var_with_sample_mean_bessel) - s2)**2)"
   ]
  }
 ],
 "metadata": {
  "kernelspec": {
   "display_name": "Python 2",
   "language": "python",
   "name": "python2"
  },
  "language_info": {
   "codemirror_mode": {
    "name": "ipython",
    "version": 2
   },
   "file_extension": ".py",
   "mimetype": "text/x-python",
   "name": "python",
   "nbconvert_exporter": "python",
   "pygments_lexer": "ipython2",
   "version": "2.7.5"
  }
 },
 "nbformat": 4,
 "nbformat_minor": 0
}
