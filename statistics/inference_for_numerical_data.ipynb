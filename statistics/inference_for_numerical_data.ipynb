{
 "cells": [
  {
   "cell_type": "markdown",
   "metadata": {},
   "source": [
    "#Jonathan Halverson\n",
    "#Monday, February 22, 2016\n",
    "#Inference for Numerical Data"
   ]
  },
  {
   "cell_type": "markdown",
   "metadata": {},
   "source": [
    "##T-distribution "
   ]
  },
  {
   "cell_type": "code",
   "execution_count": 3,
   "metadata": {
    "collapsed": true
   },
   "outputs": [],
   "source": [
    "import numpy as np\n",
    "import matplotlib.pyplot as plt\n",
    "%matplotlib inline"
   ]
  },
  {
   "cell_type": "code",
   "execution_count": 4,
   "metadata": {
    "collapsed": false,
    "scrolled": true
   },
   "outputs": [
    {
     "data": {
      "image/png": "[encoded data removed]",
      "text/plain": [
       "<matplotlib.figure.Figure at 0x10d822250>"
      ]
     },
     "metadata": {},
     "output_type": "display_data"
    }
   ],
   "source": [
    "from scipy.stats import t\n",
    "from scipy.stats import norm\n",
    "x = np.linspace(-5, 5, num=100)\n",
    "lines = plt.plot(x, t.pdf(x, df=1), x, t.pdf(x, df=5), x, t.pdf(x, df=10), x, norm.pdf(x))"
   ]
  },
  {
   "cell_type": "markdown",
   "metadata": {},
   "source": [
    "###The figure illustrates that as the degrees of freedom increases, the t-distribution approaches the stardard normal distribution. "
   ]
  },
  {
   "cell_type": "markdown",
   "metadata": {},
   "source": [
    "###A 95% confidence interval for a population mean, μ, is given as (18.985, 21.015). This confidence interval is based on a simple random sample of 36 observations. Calculate the sample mean and standard deviation. Assume that all conditions necessary for inference are satisfied. Use the t-distribution in any calculations. "
   ]
  },
  {
   "cell_type": "code",
   "execution_count": 5,
   "metadata": {
    "collapsed": false
   },
   "outputs": [
    {
     "name": "stdout",
     "output_type": "stream",
     "text": [
      "20.0\n"
     ]
    }
   ],
   "source": [
    "margin = 0.5 * (21.015 - 18.985)\n",
    "mu = 18.985 + margin\n",
    "print mu"
   ]
  },
  {
   "cell_type": "code",
   "execution_count": 6,
   "metadata": {
    "collapsed": false
   },
   "outputs": [
    {
     "name": "stdout",
     "output_type": "stream",
     "text": [
      "3.0\n"
     ]
    }
   ],
   "source": [
    "s = margin * np.sqrt(36) / 2.03\n",
    "print s"
   ]
  },
  {
   "cell_type": "markdown",
   "metadata": {},
   "source": [
    "###The number 2.03 is taken from the table from a two-sided test gives 0.05 with df=35. "
   ]
  },
  {
   "cell_type": "markdown",
   "metadata": {},
   "source": [
    "## Sleep Problem "
   ]
  },
  {
   "cell_type": "markdown",
   "metadata": {},
   "source": [
    "###New York is known as “the city that never sleeps”. A random sample of 25 New Yorkers were asked how much sleep they get per night. Statistical summaries of these data are shown below. Do these data provide strong evidence that New Yorkers sleep less than 8 hours a night on average?"
   ]
  },
  {
   "cell_type": "code",
   "execution_count": 7,
   "metadata": {
    "collapsed": true
   },
   "outputs": [],
   "source": [
    "n = 25\n",
    "x_bar = 7.73\n",
    "s = 0.77\n",
    "null_value = 8.0"
   ]
  },
  {
   "cell_type": "markdown",
   "metadata": {},
   "source": [
    "###Estimate the standard error in the population mean: "
   ]
  },
  {
   "cell_type": "code",
   "execution_count": 8,
   "metadata": {
    "collapsed": true
   },
   "outputs": [],
   "source": [
    "SE = s / np.sqrt(n)"
   ]
  },
  {
   "cell_type": "markdown",
   "metadata": {},
   "source": [
    "###Compute the T score: "
   ]
  },
  {
   "cell_type": "code",
   "execution_count": 9,
   "metadata": {
    "collapsed": false
   },
   "outputs": [
    {
     "name": "stdout",
     "output_type": "stream",
     "text": [
      "-1.75324675325\n"
     ]
    }
   ],
   "source": [
    "T = (x_bar - null_value) / SE\n",
    "print T"
   ]
  },
  {
   "cell_type": "markdown",
   "metadata": {},
   "source": [
    "###Compute a one-sided p-value: "
   ]
  },
  {
   "cell_type": "code",
   "execution_count": 10,
   "metadata": {
    "collapsed": false
   },
   "outputs": [
    {
     "name": "stdout",
     "output_type": "stream",
     "text": [
      "0.0461626142303 False\n"
     ]
    }
   ],
   "source": [
    "p_value = t.cdf(T, n - 1)\n",
    "print p_value, p_value > 0.05"
   ]
  },
  {
   "cell_type": "markdown",
   "metadata": {},
   "source": [
    "###If in fact the true population mean of the amount New Yorkers sleep per night was 8 hours, the probability of getting a random sample of 25 New Yorkers where the average amount of sleep is 7.73 hrs per night or less is 0.046. Therefore, we reject the null hypothesis."
   ]
  },
  {
   "cell_type": "markdown",
   "metadata": {},
   "source": [
    "##Piano Time "
   ]
  },
  {
   "cell_type": "markdown",
   "metadata": {},
   "source": [
    "###Georgianna claims that in a small city renowned for its music school, the average child takes at least 5 years of piano lessons. We have a random sample of 20 children from the city, with a mean of 4.6 years of piano lessons and a standard deviation of 2.2 years. (a) Evaluate Georgianna’s claim using a hypothesis test. (b) Construct a 95% confidence interval for the number of years students in this city take piano lessons, and interpret it in context of the data. (c) Do your results from the hypothesis test and the confidence interval agree? Explain your reasoning. "
   ]
  },
  {
   "cell_type": "code",
   "execution_count": 11,
   "metadata": {
    "collapsed": true
   },
   "outputs": [],
   "source": [
    "n = 20\n",
    "df = n - 1\n",
    "mu = 5.0\n",
    "s = 2.2"
   ]
  },
  {
   "cell_type": "markdown",
   "metadata": {},
   "source": [
    "###H0: mu = 5, HA: mu <5 "
   ]
  },
  {
   "cell_type": "code",
   "execution_count": 12,
   "metadata": {
    "collapsed": false
   },
   "outputs": [
    {
     "name": "stdout",
     "output_type": "stream",
     "text": [
      "-0.813115628182\n"
     ]
    }
   ],
   "source": [
    "SE = s / np.sqrt(n)\n",
    "T = (4.6 - mu) / SE\n",
    "print T"
   ]
  },
  {
   "cell_type": "markdown",
   "metadata": {},
   "source": [
    "###Using the T statistic we can compute the p-value: "
   ]
  },
  {
   "cell_type": "code",
   "execution_count": 13,
   "metadata": {
    "collapsed": false
   },
   "outputs": [
    {
     "name": "stdout",
     "output_type": "stream",
     "text": [
      "0.213112041546 True\n"
     ]
    }
   ],
   "source": [
    "p_value = t.cdf(T, df)\n",
    "print p_value, p_value > 0.05"
   ]
  },
  {
   "cell_type": "markdown",
   "metadata": {},
   "source": [
    "###The calculation shows that if the null hypothesis is truen the the group sample would have a mean of 4.6 with probability 0.21. This is larger than our significance level of 0.05 so we fail to reject the null hypothesis. Georgianna's claim passes this test. Next, we construct the 95% confidence interval for the population mean. We have $\\bar{x} \\pm t^*_{df}SE$ where $t^*_{df}$ is a cutoff value (or t critical value) such that 95% of the t-distribution is between $-t^*_{df}$ and $t^*_{df}$. "
   ]
  },
  {
   "cell_type": "code",
   "execution_count": 14,
   "metadata": {
    "collapsed": false
   },
   "outputs": [
    {
     "data": {
      "text/plain": [
       "0.94970012142908833"
      ]
     },
     "execution_count": 14,
     "metadata": {},
     "output_type": "execute_result"
    }
   ],
   "source": [
    "1.0 - 2 * t.cdf(-2.09, df)"
   ]
  },
  {
   "cell_type": "code",
   "execution_count": 15,
   "metadata": {
    "collapsed": false
   },
   "outputs": [
    {
     "name": "stdout",
     "output_type": "stream",
     "text": [
      "2.09302405441\n"
     ]
    }
   ],
   "source": [
    "t_critical = t.ppf(0.975, df)\n",
    "print(t_critical)"
   ]
  },
  {
   "cell_type": "markdown",
   "metadata": {},
   "source": [
    "###We use ppf(q=0.975) to get the desired t-critical value instead of q = 0.95 because the distribution has two tails. "
   ]
  },
  {
   "cell_type": "code",
   "execution_count": 16,
   "metadata": {
    "collapsed": false
   },
   "outputs": [
    {
     "data": {
      "text/plain": [
       "(3.5703683058761988, 5.6296316941238)"
      ]
     },
     "execution_count": 16,
     "metadata": {},
     "output_type": "execute_result"
    }
   ],
   "source": [
    "4.6 - t_critical * SE, 4.6 + t_critical * SE"
   ]
  },
  {
   "cell_type": "markdown",
   "metadata": {},
   "source": [
    "###We are 95% confident that the average number of years a child takes piano lessons in this city is 3.57 to 5.63 years. "
   ]
  },
  {
   "cell_type": "markdown",
   "metadata": {},
   "source": [
    "###Below we plot the ppf and cdf which are inverses of each other, and the pdf: "
   ]
  },
  {
   "cell_type": "code",
   "execution_count": 24,
   "metadata": {
    "collapsed": false
   },
   "outputs": [
    {
     "data": {
      "text/plain": [
       "[<matplotlib.lines.Line2D at 0x10f165750>]"
      ]
     },
     "execution_count": 24,
     "metadata": {},
     "output_type": "execute_result"
    },
    {
     "data": {
      "image/png": "[encoded data removed]",
      "text/plain": [
       "<matplotlib.figure.Figure at 0x10ef3ee10>"
      ]
     },
     "metadata": {},
     "output_type": "display_data"
    }
   ],
   "source": [
    "fig = plt.figure(1, figsize=(8, 15))\n",
    "plt.rcParams['font.size'] = 16\n",
    "\n",
    "ax1 = fig.add_subplot(3, 1, 1)\n",
    "x = np.linspace(0.001, 0.999, num=999)\n",
    "plt.plot(x, t.ppf(x, df))\n",
    "\n",
    "ax2 = fig.add_subplot(3, 1, 2)\n",
    "x = np.linspace(-4, 4, num=100)\n",
    "plt.plot(x, t.cdf(x, df))\n",
    "\n",
    "ax3 = fig.add_subplot(3, 1, 3)\n",
    "x = np.linspace(-4, 4, num=100)\n",
    "plt.plot(x, t.pdf(x, df))"
   ]
  },
  {
   "cell_type": "markdown",
   "metadata": {},
   "source": [
    "###Just watched  a YouTube video that said for a population where 40% feel the economy is going backwards, by chance you not see 50/50 in a random sample of 1000 people: "
   ]
  },
  {
   "cell_type": "code",
   "execution_count": 18,
   "metadata": {
    "collapsed": false
   },
   "outputs": [
    {
     "name": "stdout",
     "output_type": "stream",
     "text": [
      "3.44705337093e-11\n",
      "1.01480268633e-10\n"
     ]
    }
   ],
   "source": [
    "from scipy.stats import binom\n",
    "print binom.pmf(k=500, n=1000, p=0.4)\n",
    "print 1.0 - binom.cdf(k=499, n=1000, p=0.4)"
   ]
  },
  {
   "cell_type": "code",
   "execution_count": 19,
   "metadata": {
    "collapsed": false
   },
   "outputs": [
    {
     "name": "stdout",
     "output_type": "stream",
     "text": [
      "0.0103375112538\n",
      "0.027099197757\n"
     ]
    }
   ],
   "source": [
    "print binom.pmf(k=50, n=100, p=0.4)\n",
    "print 1.0 - binom.cdf(k=49, n=100, p=0.4)"
   ]
  },
  {
   "cell_type": "code",
   "execution_count": 20,
   "metadata": {
    "collapsed": false
   },
   "outputs": [
    {
     "name": "stdout",
     "output_type": "stream",
     "text": [
      "0.2006581248\n",
      "0.3668967424\n"
     ]
    }
   ],
   "source": [
    "print binom.pmf(k=5, n=10, p=0.4)\n",
    "print 1.0 - binom.cdf(k=4, n=10, p=0.4)"
   ]
  },
  {
   "cell_type": "code",
   "execution_count": 21,
   "metadata": {
    "collapsed": true
   },
   "outputs": [],
   "source": [
    "ns = [10, 100, 1000, 10000]\n",
    "p50 = [1.0 - binom.cdf(k, n, p=0.4) for k, n in zip([4, 49, 499, 4999], ns)]"
   ]
  },
  {
   "cell_type": "code",
   "execution_count": 22,
   "metadata": {
    "collapsed": false
   },
   "outputs": [
    {
     "data": {
      "text/plain": [
       "[<matplotlib.lines.Line2D at 0x10e9c2b10>]"
      ]
     },
     "execution_count": 22,
     "metadata": {},
     "output_type": "execute_result"
    },
    {
     "data": {
      "image/png": "[encoded data removed]",
      "text/plain": [
       "<matplotlib.figure.Figure at 0x10d81d910>"
      ]
     },
     "metadata": {},
     "output_type": "display_data"
    }
   ],
   "source": [
    "plt.loglog(ns, p50)"
   ]
  },
  {
   "cell_type": "markdown",
   "metadata": {},
   "source": [
    "###All this confirms the claim in the video. As n increases, the central limit theorem kicks in and the standard deviation grows slowly, $\\sigma \\sim n^{1/2}$. "
   ]
  }
 ],
 "metadata": {
  "kernelspec": {
   "display_name": "Python 2",
   "language": "python",
   "name": "python2"
  },
  "language_info": {
   "codemirror_mode": {
    "name": "ipython",
    "version": 2
   },
   "file_extension": ".py",
   "mimetype": "text/x-python",
   "name": "python",
   "nbconvert_exporter": "python",
   "pygments_lexer": "ipython2",
   "version": "2.7.5"
  }
 },
 "nbformat": 4,
 "nbformat_minor": 0
}
