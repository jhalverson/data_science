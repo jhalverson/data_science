{
 "cells": [
  {
   "cell_type": "markdown",
   "metadata": {},
   "source": [
    "# Jonathan Halverson\n",
    "# Tuesday, March 15, 2016\n",
    "# Inference for categorical data"
   ]
  },
  {
   "cell_type": "code",
   "execution_count": 165,
   "metadata": {
    "collapsed": false
   },
   "outputs": [],
   "source": [
    "import numpy as np\n",
    "import matplotlib.pyplot as plt\n",
    "%matplotlib inline\n",
    "plt.rcParams['font.size'] = 14"
   ]
  },
  {
   "cell_type": "markdown",
   "metadata": {},
   "source": [
    "### Generate a sample of 0's and 1's with E[X]=0.82:"
   ]
  },
  {
   "cell_type": "code",
   "execution_count": 166,
   "metadata": {
    "collapsed": false
   },
   "outputs": [],
   "source": [
    "from scipy.stats import bernoulli as bern\n",
    "population = bern.rvs(p=0.82, size=100000)"
   ]
  },
  {
   "cell_type": "code",
   "execution_count": 167,
   "metadata": {
    "collapsed": true
   },
   "outputs": [],
   "source": [
    "def proportion(x):\n",
    "    x = np.asarray(x)\n",
    "    return sum(x) / float(x.size)"
   ]
  },
  {
   "cell_type": "code",
   "execution_count": 168,
   "metadata": {
    "collapsed": true
   },
   "outputs": [],
   "source": [
    "import random\n",
    "def sample_mean_std(population, sample_size):\n",
    "    \"\"\"Return the mean and standard deviation for a\n",
    "       sample of the populations.\"\"\"\n",
    "    s = np.array(random.sample(population, sample_size))\n",
    "    return s.mean(), s.std(ddof=1)"
   ]
  },
  {
   "cell_type": "code",
   "execution_count": 169,
   "metadata": {
    "collapsed": false
   },
   "outputs": [
    {
     "name": "stdout",
     "output_type": "stream",
     "text": [
      "0.82144\n"
     ]
    }
   ],
   "source": [
    "p_population = proportion(population)\n",
    "print p_population"
   ]
  },
  {
   "cell_type": "markdown",
   "metadata": {},
   "source": [
    "### Let's make  a sampling distribution with sample size n=50 and compare the std to the SE formula:"
   ]
  },
  {
   "cell_type": "code",
   "execution_count": 170,
   "metadata": {
    "collapsed": false
   },
   "outputs": [
    {
     "name": "stdout",
     "output_type": "stream",
     "text": [
      "0.81926 0.05460267759\n"
     ]
    }
   ],
   "source": [
    "samples = 1000\n",
    "pairs = [sample_mean_std(population, sample_size=50) for _ in range(samples)]\n",
    "means, stds = zip(*pairs)\n",
    "print sum(means) / len(means), np.array(means).std()"
   ]
  },
  {
   "cell_type": "code",
   "execution_count": 171,
   "metadata": {
    "collapsed": false
   },
   "outputs": [
    {
     "data": {
      "text/plain": [
       "<matplotlib.text.Text at 0x10f39a290>"
      ]
     },
     "execution_count": 171,
     "metadata": {},
     "output_type": "execute_result"
    },
    {
     "data": {
      "image/png": "[encoded data removed]",
      "text/plain": [
       "<matplotlib.figure.Figure at 0x10f42b510>"
      ]
     },
     "metadata": {},
     "output_type": "display_data"
    }
   ],
   "source": [
    "n, bins, patches = plt.hist(means, bins=15, align='mid')\n",
    "plt.xlabel(\"Sample mean\")\n",
    "plt.ylabel(\"Count\")"
   ]
  },
  {
   "cell_type": "code",
   "execution_count": 172,
   "metadata": {
    "collapsed": false
   },
   "outputs": [
    {
     "name": "stdout",
     "output_type": "stream",
     "text": [
      "0.05460267759 0.054162039548 0.054162039548\n"
     ]
    }
   ],
   "source": [
    "print np.array(means).std(), population.std() / np.sqrt(50), np.sqrt(p_population * (1.0 - p_population) / 50)"
   ]
  },
  {
   "cell_type": "markdown",
   "metadata": {},
   "source": [
    "### The calculation above shows that the standard error for a proportion is indeed $\\sqrt{\\frac{p(1-p)}{n}}$."
   ]
  },
  {
   "cell_type": "markdown",
   "metadata": {},
   "source": [
    "### The success-failure condition requires np and n(p-1) are both at least 10. When this is satisfied, and the values are independent, then the sampling distribution is normal and one may apply the standard CI and hypothesis tests."
   ]
  },
  {
   "cell_type": "markdown",
   "metadata": {},
   "source": [
    "### In general, we will not know the population proportion. Use the sample proportion of the last sample to calculate the standard error:"
   ]
  },
  {
   "cell_type": "code",
   "execution_count": 173,
   "metadata": {
    "collapsed": false
   },
   "outputs": [
    {
     "name": "stdout",
     "output_type": "stream",
     "text": [
      "0.84\n"
     ]
    }
   ],
   "source": [
    "p_hat = proportion(random.sample(population, 50))\n",
    "print p_hat"
   ]
  },
  {
   "cell_type": "code",
   "execution_count": 174,
   "metadata": {
    "collapsed": false
   },
   "outputs": [
    {
     "data": {
      "text/plain": [
       "0.051845925587262885"
      ]
     },
     "execution_count": 174,
     "metadata": {},
     "output_type": "execute_result"
    }
   ],
   "source": [
    "np.sqrt(p_hat * (1.0 - p_hat) / 50)"
   ]
  },
  {
   "cell_type": "markdown",
   "metadata": {},
   "source": [
    "# Hypothesis testing"
   ]
  },
  {
   "cell_type": "markdown",
   "metadata": {},
   "source": [
    "### Use the null value instead of the sample proportion to estimate the standard error for hypothesis testing.\n",
    "\n",
    "###A simple random sample of 1,028 US adults in March 2013 found that 56% support nuclear arms reduction. Does this provide convincing evidence that a majority of Americans supported nuclear arms reduction at the 5% significance level?"
   ]
  },
  {
   "cell_type": "code",
   "execution_count": 175,
   "metadata": {
    "collapsed": false
   },
   "outputs": [
    {
     "name": "stdout",
     "output_type": "stream",
     "text": [
      "0.0155945715388 3.84749269005 5.96664183107e-05 False\n"
     ]
    }
   ],
   "source": [
    "from scipy.stats import norm\n",
    "SE = np.sqrt(0.5 * (1.0 - 0.5) / 1028)\n",
    "z_score = (0.56 - 0.5) / SE\n",
    "p_value = 1.0 - norm.cdf(z_score)\n",
    "print SE, z_score, p_value, p_value > 0.05"
   ]
  },
  {
   "cell_type": "markdown",
   "metadata": {},
   "source": [
    "# Difference of two proportions"
   ]
  },
  {
   "cell_type": "markdown",
   "metadata": {},
   "source": [
    "### A 30-year study was conducted with nearly 90,000 female participants.8 During a 5- year screening period, each woman was randomized to one of two groups: in the first group, women received regular mammograms to screen for breast cancer, and in the second group, women received regular non-mammogram breast cancer exams. No intervention was made during the following 25 years of the study, and we’ll consider death resulting from breast cancer over the full 30-year period."
   ]
  },
  {
   "cell_type": "code",
   "execution_count": 176,
   "metadata": {
    "collapsed": false
   },
   "outputs": [
    {
     "name": "stdout",
     "output_type": "stream",
     "text": [
      "0.0111296605454 0.0112447116455 0.0111871764902 -0.00011505110016\n"
     ]
    }
   ],
   "source": [
    "p_trmt = 500 / float(500 + 44425)\n",
    "p_ctrl =  505 / float(505 + 44405)\n",
    "p_hat = (500 + 505) / float(500 + 44425 + 505 + 44405)\n",
    "diff = p_trmt - p_ctrl\n",
    "print p_trmt, p_ctrl, p_hat, diff"
   ]
  },
  {
   "cell_type": "markdown",
   "metadata": {},
   "source": [
    "### Check the success-failure condition:"
   ]
  },
  {
   "cell_type": "code",
   "execution_count": 177,
   "metadata": {
    "collapsed": false
   },
   "outputs": [
    {
     "data": {
      "text/plain": [
       "(True, True, True, True)"
      ]
     },
     "execution_count": 177,
     "metadata": {},
     "output_type": "execute_result"
    }
   ],
   "source": [
    "p_hat * 44925 > 10, (1.0 - p_hat) * 44925 > 10, p_hat * 44910 > 10, (1.0 - p_hat) * 44910 > 10"
   ]
  },
  {
   "cell_type": "code",
   "execution_count": 178,
   "metadata": {
    "collapsed": false
   },
   "outputs": [
    {
     "name": "stdout",
     "output_type": "stream",
     "text": [
      "0.000701818495267 0.000701818004484\n"
     ]
    }
   ],
   "source": [
    "SE = np.sqrt(p_trmt * (1.0 - p_trmt) / (500 + 44425) + p_ctrl * (1.0 - p_ctrl) / (505 + 44405))\n",
    "SE_ = np.sqrt(p_hat * (1.0 - p_hat) / (500 + 44425) + p_hat * (1.0 - p_hat) / (505 + 44405))\n",
    "print SE, SE_"
   ]
  },
  {
   "cell_type": "markdown",
   "metadata": {},
   "source": [
    "### Create a 90% confidence interval (here we don't use the pooled estimate for p):"
   ]
  },
  {
   "cell_type": "code",
   "execution_count": 181,
   "metadata": {
    "collapsed": false
   },
   "outputs": [
    {
     "data": {
      "text/plain": [
       "(0.0010429486072392352, -0.0012730508075589988)"
      ]
     },
     "execution_count": 181,
     "metadata": {},
     "output_type": "execute_result"
    }
   ],
   "source": [
    "diff + 1.65 * SE, diff - 1.65 * SE"
   ]
  },
  {
   "cell_type": "code",
   "execution_count": 179,
   "metadata": {
    "collapsed": true
   },
   "outputs": [],
   "source": [
    "z_score = (diff - 0.0) / SE_\n",
    "p_value = 2 * norm.cdf(z_score)"
   ]
  },
  {
   "cell_type": "code",
   "execution_count": 180,
   "metadata": {
    "collapsed": false
   },
   "outputs": [
    {
     "name": "stdout",
     "output_type": "stream",
     "text": [
      "-0.163932956158 0.869783922786 True\n"
     ]
    }
   ],
   "source": [
    "print z_score, p_value, p_value > 0.05"
   ]
  },
  {
   "cell_type": "markdown",
   "metadata": {},
   "source": [
    "### We fail to reject the null hypothesis that the proportions are the same."
   ]
  },
  {
   "cell_type": "markdown",
   "metadata": {},
   "source": [
    "### Here's a problem where the null value is not zero. The quality control engineer collects a sample of blades, examining 1000 blades from each company and finds that 899 blades pass inspection from the current supplier and 958 pass inspection from the prospective supplier. Using these data, evaluate the hypothesis setup with a significance level of 5%. The null value is 0.03 or the prospective blades are at least 3% better by proportion."
   ]
  },
  {
   "cell_type": "code",
   "execution_count": 187,
   "metadata": {
    "collapsed": false
   },
   "outputs": [
    {
     "name": "stdout",
     "output_type": "stream",
     "text": [
      "0.059\n"
     ]
    }
   ],
   "source": [
    "p_curr = 899 / 1000.0\n",
    "p_pros = 958 / 1000.0\n",
    "diff = p_pros - p_curr\n",
    "print diff"
   ]
  },
  {
   "cell_type": "code",
   "execution_count": 186,
   "metadata": {
    "collapsed": false
   },
   "outputs": [
    {
     "name": "stdout",
     "output_type": "stream",
     "text": [
      "0.0114470520222\n"
     ]
    }
   ],
   "source": [
    "SE = np.sqrt(p_curr * (1.0 - p_curr) / 1000 + p_pros * (1.0 - p_pros) / 1000) \n",
    "print SE"
   ]
  },
  {
   "cell_type": "code",
   "execution_count": 189,
   "metadata": {
    "collapsed": false
   },
   "outputs": [
    {
     "name": "stdout",
     "output_type": "stream",
     "text": [
      "2.53340335517\n"
     ]
    }
   ],
   "source": [
    "z_score = (diff - 0.03) / SE\n",
    "print z_score"
   ]
  },
  {
   "cell_type": "code",
   "execution_count": 192,
   "metadata": {
    "collapsed": false
   },
   "outputs": [
    {
     "name": "stdout",
     "output_type": "stream",
     "text": [
      "0.00564804425358 False\n"
     ]
    }
   ],
   "source": [
    "p_value = 1.0 - norm.cdf(z_score)\n",
    "print p_value, p_value > 0.05"
   ]
  },
  {
   "cell_type": "markdown",
   "metadata": {},
   "source": [
    "### We conclude that the new blades should be purchased."
   ]
  }
 ],
 "metadata": {
  "kernelspec": {
   "display_name": "Python 2",
   "language": "python",
   "name": "python2"
  },
  "language_info": {
   "codemirror_mode": {
    "name": "ipython",
    "version": 2
   },
   "file_extension": ".py",
   "mimetype": "text/x-python",
   "name": "python",
   "nbconvert_exporter": "python",
   "pygments_lexer": "ipython2",
   "version": "2.7.5"
  }
 },
 "nbformat": 4,
 "nbformat_minor": 0
}
