{
 "cells": [
  {
   "cell_type": "markdown",
   "metadata": {},
   "source": [
    "#Jonathan Halverson\n",
    "#Saturday, February 20, 2016"
   ]
  },
  {
   "cell_type": "markdown",
   "metadata": {},
   "source": [
    "###There are 20 balls in an urn numbered 1 to 20. You randomly pull out 3 balls. What is the probability that the maximum number is 17 or higher of the three balls? We begin with the numerical simulation. Note that the balls are drawn without replacement. "
   ]
  },
  {
   "cell_type": "code",
   "execution_count": 85,
   "metadata": {
    "collapsed": false
   },
   "outputs": [
    {
     "name": "stdout",
     "output_type": "stream",
     "text": [
      "0.51055\n"
     ]
    }
   ],
   "source": [
    "from random import choice\n",
    "success = 0\n",
    "trials = 100000\n",
    "for _ in xrange(trials):\n",
    "    balls = range(1, 21)\n",
    "    b1 = choice(balls)\n",
    "    balls.remove(b1)\n",
    "    b2 = choice(balls)\n",
    "    balls.remove(b2)\n",
    "    b3 = choice(balls)\n",
    "    if max(b1, b2, b3) >= 17: success += 1\n",
    "print float(success) / trials"
   ]
  },
  {
   "cell_type": "markdown",
   "metadata": {},
   "source": [
    "###The analytical solution is given is as follow. The probability of getting a max ball of 20 for instance is choose(19, 2) / choose(20, 3). That is, in the numerator we know we have the 20 ball so there are choose(19, 2) other possibilities of the other two balls. The total number of 3-ball combinations (irrespective of the order drawn) is choose(20, 3). We sum this for 17, 18, 19 and 20:"
   ]
  },
  {
   "cell_type": "code",
   "execution_count": 86,
   "metadata": {
    "collapsed": false
   },
   "outputs": [
    {
     "name": "stdout",
     "output_type": "stream",
     "text": [
      "0.508771929825\n"
     ]
    }
   ],
   "source": [
    "from scipy.special import binom as choose\n",
    "p = sum([choose(k - 1, 2) / choose(20, 3) for k in [17, 18, 19, 20]])\n",
    "print p"
   ]
  },
  {
   "cell_type": "markdown",
   "metadata": {},
   "source": [
    "###The game is interesting because the odds are in the favor of the player versus the house, even if by a small margin. "
   ]
  },
  {
   "cell_type": "markdown",
   "metadata": {},
   "source": [
    "#ANOVA or Analysis of Variance "
   ]
  },
  {
   "cell_type": "markdown",
   "metadata": {},
   "source": [
    "### From OpenIntro we consider the problem of determining if the average on-base percentage of baseball players is dependent on position played on the field. The null hypothesis is that all players have the same mean. ANOVA can be used to evaluate the null hypothesis. We consider four different player positions and 327 samples. Note that one should avoid comparing all combinations of means. This is data snooping and it leads to an increase in type 1 errors because by chance alone there is likely to be a large difference between means if a large number of pairs is considered. See note below for how to correct for this.\n",
    "\n",
    "###To apply ANOVA the measurements must be independent within each group and across groups, the groups are approximately normal and have similar variances."
   ]
  },
  {
   "cell_type": "code",
   "execution_count": 87,
   "metadata": {
    "collapsed": false
   },
   "outputs": [
    {
     "data": {
      "text/plain": [
       "[<matplotlib.lines.Line2D at 0x10e192f50>]"
      ]
     },
     "execution_count": 87,
     "metadata": {},
     "output_type": "execute_result"
    },
    {
     "data": {
      "image/png": "[encoded data removed]",
      "text/plain": [
       "<matplotlib.figure.Figure at 0x10e33c090>"
      ]
     },
     "metadata": {},
     "output_type": "display_data"
    }
   ],
   "source": [
    "from scipy.stats import f\n",
    "import numpy as np\n",
    "import matplotlib.pyplot as plt\n",
    "%matplotlib inline\n",
    "plt.rcParams['font.size'] = 14\n",
    "\n",
    "x = np.linspace(0.01, 6, num=250)\n",
    "groups = 4\n",
    "samples = 327\n",
    "df1 = groups - 1\n",
    "df2 = samples - groups\n",
    "y = f.pdf(x, df1, df2)\n",
    "plt.plot(x, y)"
   ]
  },
  {
   "cell_type": "markdown",
   "metadata": {},
   "source": [
    "###The F statistic is a measure of the ratio of variation between groups to variation within groups (i.e., MSG/MSE). "
   ]
  },
  {
   "cell_type": "code",
   "execution_count": 88,
   "metadata": {
    "collapsed": false
   },
   "outputs": [
    {
     "name": "stdout",
     "output_type": "stream",
     "text": [
      "0.114744319228\n"
     ]
    }
   ],
   "source": [
    "F_statistic = 1.994\n",
    "p_value = 1.0 - f.cdf(F_statistic, df1, df2)\n",
    "print p_value"
   ]
  },
  {
   "cell_type": "code",
   "execution_count": 89,
   "metadata": {
    "collapsed": false
   },
   "outputs": [
    {
     "data": {
      "text/plain": [
       "True"
      ]
     },
     "execution_count": 89,
     "metadata": {},
     "output_type": "execute_result"
    }
   ],
   "source": [
    "p_value > 0.05"
   ]
  },
  {
   "cell_type": "markdown",
   "metadata": {},
   "source": [
    "#Another example of ANOVA "
   ]
  },
  {
   "cell_type": "markdown",
   "metadata": {},
   "source": [
    "###Here is a complete example that uses simulated data: "
   ]
  },
  {
   "cell_type": "code",
   "execution_count": 90,
   "metadata": {
    "collapsed": false
   },
   "outputs": [
    {
     "name": "stdout",
     "output_type": "stream",
     "text": [
      "7.34983047899 3.06256726862\n",
      "6.52519828795 2.34728125528\n",
      "7.01963646202 2.41818271942\n"
     ]
    }
   ],
   "source": [
    "from scipy.stats import f_oneway\n",
    "from scipy.stats import norm\n",
    "\n",
    "sample1 = norm.rvs(loc=6.9, scale=2.9, size=100)\n",
    "sample2 = norm.rvs(loc=7.1, scale=2.5, size=90)\n",
    "sample3 = norm.rvs(loc=7.2, scale=2.3, size=110)\n",
    "print sample1.mean(), sample1.std()\n",
    "print sample2.mean(), sample2.std()\n",
    "print sample3.mean(), sample3.std()\n",
    "F_statistic, p_value = f_oneway(sample1, sample2, sample3)"
   ]
  },
  {
   "cell_type": "code",
   "execution_count": 91,
   "metadata": {
    "collapsed": false
   },
   "outputs": [
    {
     "name": "stdout",
     "output_type": "stream",
     "text": [
      "2.32116382763 0.0999375359657 True\n"
     ]
    }
   ],
   "source": [
    "print F_statistic, p_value, p_value > 0.05"
   ]
  },
  {
   "cell_type": "markdown",
   "metadata": {},
   "source": [
    "###If one finds that the null hypothesis is rejected, it is natural to find the pair or pairs that are responsible. If one decides to look at pairs using a t-test, the Bonferroni correction should be applied to the significance level. The new significance level is $\\alpha / K$, where $K$ is the number of comparisons (k(k-1)/2). "
   ]
  },
  {
   "cell_type": "markdown",
   "metadata": {},
   "source": [
    "# Baseball data and ANOVA"
   ]
  },
  {
   "cell_type": "code",
   "execution_count": 92,
   "metadata": {
    "collapsed": false
   },
   "outputs": [],
   "source": [
    "import pandas as pd\n",
    "df = pd.read_csv('mlbBat10.txt', sep='\\t')"
   ]
  },
  {
   "cell_type": "code",
   "execution_count": 93,
   "metadata": {
    "collapsed": false
   },
   "outputs": [
    {
     "data": {
      "text/html": [
       "<div>\n",
       "<table border=\"1\" class=\"dataframe\">\n",
       "  <thead>\n",
       "    <tr style=\"text-align: right;\">\n",
       "      <th></th>\n",
       "      <th>name</th>\n",
       "      <th>team</th>\n",
       "      <th>position</th>\n",
       "      <th>G</th>\n",
       "      <th>AB</th>\n",
       "      <th>R</th>\n",
       "      <th>H</th>\n",
       "      <th>2B</th>\n",
       "      <th>3B</th>\n",
       "      <th>HR</th>\n",
       "      <th>RBI</th>\n",
       "      <th>TB</th>\n",
       "      <th>BB</th>\n",
       "      <th>SO</th>\n",
       "      <th>SB</th>\n",
       "      <th>CS</th>\n",
       "      <th>OBP</th>\n",
       "      <th>SLG</th>\n",
       "      <th>AVG</th>\n",
       "    </tr>\n",
       "  </thead>\n",
       "  <tbody>\n",
       "    <tr>\n",
       "      <th>0</th>\n",
       "      <td>I Suzuki</td>\n",
       "      <td>SEA</td>\n",
       "      <td>OF</td>\n",
       "      <td>162</td>\n",
       "      <td>680</td>\n",
       "      <td>74</td>\n",
       "      <td>214</td>\n",
       "      <td>30</td>\n",
       "      <td>3</td>\n",
       "      <td>6</td>\n",
       "      <td>43</td>\n",
       "      <td>268</td>\n",
       "      <td>45</td>\n",
       "      <td>86</td>\n",
       "      <td>42</td>\n",
       "      <td>9</td>\n",
       "      <td>0.359</td>\n",
       "      <td>0.394</td>\n",
       "      <td>0.315</td>\n",
       "    </tr>\n",
       "    <tr>\n",
       "      <th>1</th>\n",
       "      <td>D Jeter</td>\n",
       "      <td>NYY</td>\n",
       "      <td>SS</td>\n",
       "      <td>157</td>\n",
       "      <td>663</td>\n",
       "      <td>111</td>\n",
       "      <td>179</td>\n",
       "      <td>30</td>\n",
       "      <td>3</td>\n",
       "      <td>10</td>\n",
       "      <td>67</td>\n",
       "      <td>245</td>\n",
       "      <td>63</td>\n",
       "      <td>106</td>\n",
       "      <td>18</td>\n",
       "      <td>5</td>\n",
       "      <td>0.340</td>\n",
       "      <td>0.370</td>\n",
       "      <td>0.270</td>\n",
       "    </tr>\n",
       "    <tr>\n",
       "      <th>2</th>\n",
       "      <td>M Young</td>\n",
       "      <td>TEX</td>\n",
       "      <td>3B</td>\n",
       "      <td>157</td>\n",
       "      <td>656</td>\n",
       "      <td>99</td>\n",
       "      <td>186</td>\n",
       "      <td>36</td>\n",
       "      <td>3</td>\n",
       "      <td>21</td>\n",
       "      <td>91</td>\n",
       "      <td>291</td>\n",
       "      <td>50</td>\n",
       "      <td>115</td>\n",
       "      <td>4</td>\n",
       "      <td>2</td>\n",
       "      <td>0.330</td>\n",
       "      <td>0.444</td>\n",
       "      <td>0.284</td>\n",
       "    </tr>\n",
       "    <tr>\n",
       "      <th>3</th>\n",
       "      <td>J Pierre</td>\n",
       "      <td>CWS</td>\n",
       "      <td>OF</td>\n",
       "      <td>160</td>\n",
       "      <td>651</td>\n",
       "      <td>96</td>\n",
       "      <td>179</td>\n",
       "      <td>18</td>\n",
       "      <td>3</td>\n",
       "      <td>1</td>\n",
       "      <td>47</td>\n",
       "      <td>206</td>\n",
       "      <td>45</td>\n",
       "      <td>47</td>\n",
       "      <td>68</td>\n",
       "      <td>18</td>\n",
       "      <td>0.341</td>\n",
       "      <td>0.316</td>\n",
       "      <td>0.275</td>\n",
       "    </tr>\n",
       "    <tr>\n",
       "      <th>4</th>\n",
       "      <td>R Weeks</td>\n",
       "      <td>MIL</td>\n",
       "      <td>2B</td>\n",
       "      <td>160</td>\n",
       "      <td>651</td>\n",
       "      <td>112</td>\n",
       "      <td>175</td>\n",
       "      <td>32</td>\n",
       "      <td>4</td>\n",
       "      <td>29</td>\n",
       "      <td>83</td>\n",
       "      <td>302</td>\n",
       "      <td>76</td>\n",
       "      <td>184</td>\n",
       "      <td>11</td>\n",
       "      <td>4</td>\n",
       "      <td>0.366</td>\n",
       "      <td>0.464</td>\n",
       "      <td>0.269</td>\n",
       "    </tr>\n",
       "  </tbody>\n",
       "</table>\n",
       "</div>"
      ],
      "text/plain": [
       "       name team position    G   AB    R    H  2B  3B  HR  RBI   TB  BB   SO  \\\n",
       "0  I Suzuki  SEA       OF  162  680   74  214  30   3   6   43  268  45   86   \n",
       "1   D Jeter  NYY       SS  157  663  111  179  30   3  10   67  245  63  106   \n",
       "2   M Young  TEX       3B  157  656   99  186  36   3  21   91  291  50  115   \n",
       "3  J Pierre  CWS       OF  160  651   96  179  18   3   1   47  206  45   47   \n",
       "4   R Weeks  MIL       2B  160  651  112  175  32   4  29   83  302  76  184   \n",
       "\n",
       "   SB  CS    OBP    SLG    AVG  \n",
       "0  42   9  0.359  0.394  0.315  \n",
       "1  18   5  0.340  0.370  0.270  \n",
       "2   4   2  0.330  0.444  0.284  \n",
       "3  68  18  0.341  0.316  0.275  \n",
       "4  11   4  0.366  0.464  0.269  "
      ]
     },
     "execution_count": 93,
     "metadata": {},
     "output_type": "execute_result"
    }
   ],
   "source": [
    "df.head()"
   ]
  },
  {
   "cell_type": "code",
   "execution_count": 94,
   "metadata": {
    "collapsed": false
   },
   "outputs": [
    {
     "name": "stdout",
     "output_type": "stream",
     "text": [
      "<class 'pandas.core.frame.DataFrame'>\n",
      "RangeIndex: 1199 entries, 0 to 1198\n",
      "Data columns (total 19 columns):\n",
      "name        1199 non-null object\n",
      "team        1199 non-null object\n",
      "position    1199 non-null object\n",
      "G           1199 non-null int64\n",
      "AB          1199 non-null int64\n",
      "R           1199 non-null int64\n",
      "H           1199 non-null int64\n",
      "2B          1199 non-null int64\n",
      "3B          1199 non-null int64\n",
      "HR          1199 non-null int64\n",
      "RBI         1199 non-null int64\n",
      "TB          1199 non-null int64\n",
      "BB          1199 non-null int64\n",
      "SO          1199 non-null int64\n",
      "SB          1199 non-null int64\n",
      "CS          1199 non-null int64\n",
      "OBP         1199 non-null float64\n",
      "SLG         1199 non-null float64\n",
      "AVG         1199 non-null float64\n",
      "dtypes: float64(3), int64(13), object(3)\n",
      "memory usage: 178.0+ KB\n"
     ]
    }
   ],
   "source": [
    "df.info()"
   ]
  },
  {
   "cell_type": "code",
   "execution_count": 95,
   "metadata": {
    "collapsed": false
   },
   "outputs": [],
   "source": [
    "outfield = df.OBP[df.position == 'OF']\n",
    "infield  = df.OBP[(df.position == '1B') | (df.position == '2B') | (df.position == '3B')]\n",
    "des_hit  = df.OBP[df.position == 'DH']\n",
    "catcher  = df.OBP[df.position == 'C']"
   ]
  },
  {
   "cell_type": "code",
   "execution_count": 96,
   "metadata": {
    "collapsed": false
   },
   "outputs": [
    {
     "name": "stdout",
     "output_type": "stream",
     "text": [
      "226 212 25 113\n",
      "0.0632819757612 0.0746499158986 0.0568658362581 0.098299968716\n"
     ]
    }
   ],
   "source": [
    "print outfield.count(), infield.count(), des_hit.count(), catcher.count()\n",
    "print outfield.std(), infield.std(), des_hit.std(), catcher.std()"
   ]
  },
  {
   "cell_type": "code",
   "execution_count": 104,
   "metadata": {
    "collapsed": false
   },
   "outputs": [
    {
     "data": {
      "text/plain": [
       "(0, 0.5)"
      ]
     },
     "execution_count": 104,
     "metadata": {},
     "output_type": "execute_result"
    },
    {
     "data": {
      "image/png": "[encoded data removed]",
      "text/plain": [
       "<matplotlib.figure.Figure at 0x10e78ec10>"
      ]
     },
     "metadata": {},
     "output_type": "display_data"
    }
   ],
   "source": [
    "plt.boxplot((outfield, infield, des_hit, catcher), labels=('OF', 'IF', 'DH', 'C'))\n",
    "plt.ylabel('On-base percentage')\n",
    "plt.ylim(0, 0.5)"
   ]
  },
  {
   "cell_type": "markdown",
   "metadata": {},
   "source": [
    "### We see that the variance is approximately the same and indeed the medians are close."
   ]
  },
  {
   "cell_type": "code",
   "execution_count": 98,
   "metadata": {
    "collapsed": false
   },
   "outputs": [
    {
     "name": "stdout",
     "output_type": "stream",
     "text": [
      "1.22232466018 0.300784280924 True\n"
     ]
    }
   ],
   "source": [
    "F_statistic, p_value = f_oneway(outfield, infield, des_hit, catcher)\n",
    "print F_statistic, p_value, p_value > 0.05"
   ]
  },
  {
   "cell_type": "code",
   "execution_count": 105,
   "metadata": {
    "collapsed": false
   },
   "outputs": [
    {
     "data": {
      "text/plain": [
       "[<matplotlib.lines.Line2D at 0x10e7a30d0>]"
      ]
     },
     "execution_count": 105,
     "metadata": {},
     "output_type": "execute_result"
    },
    {
     "data": {
      "image/png": "[encoded data removed]",
      "text/plain": [
       "<matplotlib.figure.Figure at 0x10e7a34d0>"
      ]
     },
     "metadata": {},
     "output_type": "display_data"
    }
   ],
   "source": [
    "x = np.linspace(0.01, 6, num=250)\n",
    "groups = 4\n",
    "samples = outfield.count() + infield.count() + des_hit.count() + catcher.count()\n",
    "df1 = groups - 1\n",
    "df2 = samples - groups\n",
    "y = f.pdf(x, df1, df2)\n",
    "x_right = np.linspace(F_statistic, 6)\n",
    "y_right = f.pdf(x_right, df1, df2)\n",
    "plt.fill_between(x_right, 0, y_right, facecolor='gray')\n",
    "plt.plot(x, y, 'k-', lw=1)"
   ]
  },
  {
   "cell_type": "code",
   "execution_count": 100,
   "metadata": {
    "collapsed": false
   },
   "outputs": [
    {
     "data": {
      "text/plain": [
       "0.30078428092410747"
      ]
     },
     "execution_count": 100,
     "metadata": {},
     "output_type": "execute_result"
    }
   ],
   "source": [
    "1.0 - f.cdf(F_statistic, df1, df2)"
   ]
  },
  {
   "cell_type": "markdown",
   "metadata": {},
   "source": [
    "### Our calculation suggests that we cannot distinguish between the groups for the given sample sizes."
   ]
  }
 ],
 "metadata": {
  "kernelspec": {
   "display_name": "Python 2",
   "language": "python",
   "name": "python2"
  },
  "language_info": {
   "codemirror_mode": {
    "name": "ipython",
    "version": 2
   },
   "file_extension": ".py",
   "mimetype": "text/x-python",
   "name": "python",
   "nbconvert_exporter": "python",
   "pygments_lexer": "ipython2",
   "version": "2.7.5"
  }
 },
 "nbformat": 4,
 "nbformat_minor": 0
}
