{
 "cells": [
  {
   "cell_type": "markdown",
   "metadata": {},
   "source": [
    "#Jonathan Halverson\n",
    "#Saturday, February 20, 2016"
   ]
  },
  {
   "cell_type": "markdown",
   "metadata": {},
   "source": [
    "###There are 20 balls in an urn numbered 1 to 20. You randomly pull out 3 balls. What is the probability that the maximum number is 17 or higher of the three balls? We begin with the numerical simulation. Note that the balls are drawn without replacement. "
   ]
  },
  {
   "cell_type": "code",
   "execution_count": 55,
   "metadata": {
    "collapsed": false
   },
   "outputs": [
    {
     "name": "stdout",
     "output_type": "stream",
     "text": [
      "0.5071\n"
     ]
    }
   ],
   "source": [
    "from random import choice\n",
    "success = 0\n",
    "trials = 100000\n",
    "for _ in xrange(trials):\n",
    "    balls = range(1, 21)\n",
    "    b1 = choice(balls)\n",
    "    balls.remove(b1)\n",
    "    b2 = choice(balls)\n",
    "    balls.remove(b2)\n",
    "    b3 = choice(balls)\n",
    "    if max(b1, b2, b3) >= 17: success += 1\n",
    "print float(success) / trials"
   ]
  },
  {
   "cell_type": "markdown",
   "metadata": {},
   "source": [
    "###The analytical solution is given is as follow. The probability of getting a max ball of 20 for instance is choose(19, 2) / choose(20, 3). That is, in the numerator we know we have the 20 ball so there are choose(19, 2) other possibilities of the other two balls. The total number of 3-ball combinations (irrespective of the order drawn) is choose(20, 3). We sum this for 17, 18, 19 and 20:"
   ]
  },
  {
   "cell_type": "code",
   "execution_count": 56,
   "metadata": {
    "collapsed": false
   },
   "outputs": [
    {
     "name": "stdout",
     "output_type": "stream",
     "text": [
      "0.508771929825\n"
     ]
    }
   ],
   "source": [
    "from scipy.special import binom as choose\n",
    "p = sum([choose(k - 1, 2) / choose(20, 3) for k in [17, 18, 19, 20]])\n",
    "print p"
   ]
  },
  {
   "cell_type": "markdown",
   "metadata": {},
   "source": [
    "###The game is interesting because the odds are in the favor of the player versus the house, even if by a small margin. "
   ]
  },
  {
   "cell_type": "markdown",
   "metadata": {},
   "source": [
    "#ANOVA or Analysis of Variance "
   ]
  },
  {
   "cell_type": "markdown",
   "metadata": {},
   "source": [
    "### From OpenIntro we consider the problem of determining if the average on-base percentage of baseball players is dependent on position played on the field. The null hypothesis is that all players have the same mean. ANOVA can be used to evaluate the null hypothesis. We consider four different player positions and 327 samples. Note that one should avoid comparing all combinations of means. This is data snooping and it leads to an increase in type 1 errors because by chance alone there is likely to be a large difference between means if a large number of pairs is considered. See note below for how to correct for this.\n",
    "\n",
    "###To apply ANOVA the measurements must be independent within each group and across groups, the groups are approximately normal and have similar variances."
   ]
  },
  {
   "cell_type": "code",
   "execution_count": 57,
   "metadata": {
    "collapsed": false
   },
   "outputs": [
    {
     "data": {
      "text/plain": [
       "[<matplotlib.lines.Line2D at 0x10a9dbdd0>]"
      ]
     },
     "execution_count": 57,
     "metadata": {},
     "output_type": "execute_result"
    },
    {
     "data": {
      "image/png": "[encoded data removed]",
      "text/plain": [
       "<matplotlib.figure.Figure at 0x10a3f0d90>"
      ]
     },
     "metadata": {},
     "output_type": "display_data"
    }
   ],
   "source": [
    "from scipy.stats import f\n",
    "import numpy as np\n",
    "import matplotlib.pyplot as plt\n",
    "%matplotlib inline\n",
    "\n",
    "x = np.linspace(0.01, 6, num=250)\n",
    "groups = 4\n",
    "samples = 327\n",
    "df1 = groups - 1\n",
    "df2 = samples - groups\n",
    "y = f.pdf(x, df1, df2)\n",
    "plt.plot(x, y)"
   ]
  },
  {
   "cell_type": "markdown",
   "metadata": {},
   "source": [
    "###The F statistic is a measure of the ratio of variation between groups to variation within groups (i.e., MSG/MSE). "
   ]
  },
  {
   "cell_type": "code",
   "execution_count": 58,
   "metadata": {
    "collapsed": false
   },
   "outputs": [
    {
     "name": "stdout",
     "output_type": "stream",
     "text": [
      "0.114744319228\n"
     ]
    }
   ],
   "source": [
    "F_statistic = 1.994\n",
    "p_value = 1.0 - f.cdf(F_statistic, df1, df2)\n",
    "print p_value"
   ]
  },
  {
   "cell_type": "code",
   "execution_count": 59,
   "metadata": {
    "collapsed": false
   },
   "outputs": [
    {
     "data": {
      "text/plain": [
       "True"
      ]
     },
     "execution_count": 59,
     "metadata": {},
     "output_type": "execute_result"
    }
   ],
   "source": [
    "p_value > 0.05"
   ]
  },
  {
   "cell_type": "markdown",
   "metadata": {},
   "source": [
    "#Another example of ANOVA "
   ]
  },
  {
   "cell_type": "markdown",
   "metadata": {},
   "source": [
    "###Here is a complete example that uses simulated data: "
   ]
  },
  {
   "cell_type": "code",
   "execution_count": 60,
   "metadata": {
    "collapsed": false
   },
   "outputs": [
    {
     "name": "stdout",
     "output_type": "stream",
     "text": [
      "6.49919139951 2.49965358593\n",
      "7.16561389303 2.24641625728\n",
      "7.27976492321 2.34707880555\n"
     ]
    }
   ],
   "source": [
    "from scipy.stats import f_oneway\n",
    "from scipy.stats import norm\n",
    "\n",
    "sample1 = norm.rvs(loc=6.9, scale=2.9, size=100)\n",
    "sample2 = norm.rvs(loc=7.1, scale=2.5, size=90)\n",
    "sample3 = norm.rvs(loc=7.2, scale=2.3, size=110)\n",
    "print sample1.mean(), sample1.std()\n",
    "print sample2.mean(), sample2.std()\n",
    "print sample3.mean(), sample3.std()\n",
    "F_statistic, p_value = f_oneway(sample1, sample2, sample3)"
   ]
  },
  {
   "cell_type": "code",
   "execution_count": 61,
   "metadata": {
    "collapsed": false
   },
   "outputs": [
    {
     "name": "stdout",
     "output_type": "stream",
     "text": [
      "3.18108089449 0.0429599003341 False\n"
     ]
    }
   ],
   "source": [
    "print F_statistic, p_value, p_value > 0.05"
   ]
  },
  {
   "cell_type": "markdown",
   "metadata": {},
   "source": [
    "###If one finds that the null hypothesis is rejected, it is natural to find the pair or pairs that are responsible. If one decides to look at pairs using a t-test, the Bonferroni correction should be applied to the significance level. The new significance level is $\\alpha / K$, where $K$ is the number of comparisons (k(k-1)/2). "
   ]
  }
 ],
 "metadata": {
  "kernelspec": {
   "display_name": "Python 2",
   "language": "python",
   "name": "python2"
  },
  "language_info": {
   "codemirror_mode": {
    "name": "ipython",
    "version": 2
   },
   "file_extension": ".py",
   "mimetype": "text/x-python",
   "name": "python",
   "nbconvert_exporter": "python",
   "pygments_lexer": "ipython2",
   "version": "2.7.5"
  }
 },
 "nbformat": 4,
 "nbformat_minor": 0
}
