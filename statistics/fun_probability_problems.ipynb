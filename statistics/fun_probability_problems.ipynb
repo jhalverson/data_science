{
 "cells": [
  {
   "cell_type": "markdown",
   "metadata": {},
   "source": [
    "# Jonathan Halverson\n",
    "# Friday, March 25, 2016\n",
    "# Some probability problems"
   ]
  },
  {
   "cell_type": "markdown",
   "metadata": {},
   "source": [
    "### In a class of 15 students, if the professor asks 3 questions, what is the probability that you will not be selected? Assume that she will not pick the same person twice."
   ]
  },
  {
   "cell_type": "markdown",
   "metadata": {},
   "source": [
    "### One solution is to recognize on the first question p=14/15, on the second 13/14 and on the last 12/13 giving:"
   ]
  },
  {
   "cell_type": "code",
   "execution_count": 8,
   "metadata": {
    "collapsed": false
   },
   "outputs": [
    {
     "data": {
      "text/plain": [
       "0.8"
      ]
     },
     "execution_count": 8,
     "metadata": {},
     "output_type": "execute_result"
    }
   ],
   "source": [
    "(14/15.0) * (13/14.0) * (12/13.0)"
   ]
  },
  {
   "cell_type": "markdown",
   "metadata": {},
   "source": [
    "### Above we are multiplying a marginal probability with two conditional probabilities i.e., P(q1) P(q2 | q1) P(q3 | q1, q2)."
   ]
  },
  {
   "cell_type": "markdown",
   "metadata": {},
   "source": [
    "### An alternative solution to the problem is to determine how many groups of 3 can be made excluding the one person and divide by the total number of groups that can be made:"
   ]
  },
  {
   "cell_type": "code",
   "execution_count": 11,
   "metadata": {
    "collapsed": false
   },
   "outputs": [
    {
     "name": "stdout",
     "output_type": "stream",
     "text": [
      "0.8\n"
     ]
    }
   ],
   "source": [
    "from scipy.special import binom\n",
    "\n",
    "total_number_of_groups_of_three = binom(15, 3)\n",
    "number_of_groups_of_three_excluding_one_person = binom(1, 0) * binom(14, 3)\n",
    "print number_of_groups_of_three_excluding_one_person / total_number_of_groups_of_three"
   ]
  },
  {
   "cell_type": "markdown",
   "metadata": {},
   "source": [
    "### Your department is holding a raffle. They sell 30 tickets and offer seven prizes. They place the tickets in a hat and draw one for each prize. The tickets are sampled without replacement, i.e. the selected tickets are not placed back in the hat. What is the probability of winning a prize if you buy one ticket?"
   ]
  },
  {
   "cell_type": "code",
   "execution_count": 41,
   "metadata": {
    "collapsed": false
   },
   "outputs": [
    {
     "name": "stdout",
     "output_type": "stream",
     "text": [
      "0.2399\n"
     ]
    }
   ],
   "source": [
    "import random\n",
    "\n",
    "trials = 10000\n",
    "success = 0\n",
    "for _ in range(trials):\n",
    "    tickets = range(1, 31)\n",
    "    for _ in range(7):\n",
    "        value = random.choice(tickets)\n",
    "        if (value == 1): success += 1\n",
    "        tickets.remove(value)\n",
    "print success / float(trials)"
   ]
  },
  {
   "cell_type": "markdown",
   "metadata": {},
   "source": [
    "### The solution is"
   ]
  },
  {
   "cell_type": "code",
   "execution_count": 16,
   "metadata": {
    "collapsed": false
   },
   "outputs": [
    {
     "data": {
      "text/plain": [
       "0.2333333333333334"
      ]
     },
     "execution_count": 16,
     "metadata": {},
     "output_type": "execute_result"
    }
   ],
   "source": [
    "1.0 - (29/30.0) * (28/29.0) * (27/28.0) * (26/27.0) * (25/26.0) * (24/25.0) * (23/24.0)"
   ]
  },
  {
   "cell_type": "markdown",
   "metadata": {},
   "source": [
    "###  (b) What if the tickets are sampled with replacement? What is the probability of winning at least one prize?"
   ]
  },
  {
   "cell_type": "code",
   "execution_count": 35,
   "metadata": {
    "collapsed": false
   },
   "outputs": [
    {
     "name": "stdout",
     "output_type": "stream",
     "text": [
      "0.2144\n"
     ]
    }
   ],
   "source": [
    "trials = 10000\n",
    "success = 0\n",
    "tickets = range(1, 31)\n",
    "for _ in range(trials):\n",
    "    for _ in range(7):\n",
    "        value = random.choice(tickets)\n",
    "        if (value == 1):\n",
    "            success += 1\n",
    "            break\n",
    "print success / float(trials)"
   ]
  },
  {
   "cell_type": "markdown",
   "metadata": {},
   "source": [
    "### The solution for this case is"
   ]
  },
  {
   "cell_type": "code",
   "execution_count": 29,
   "metadata": {
    "collapsed": false
   },
   "outputs": [
    {
     "data": {
      "text/plain": [
       "0.21125394106081385"
      ]
     },
     "execution_count": 29,
     "metadata": {},
     "output_type": "execute_result"
    }
   ],
   "source": [
    "1.0 - (29/30.0)**7"
   ]
  },
  {
   "cell_type": "markdown",
   "metadata": {},
   "source": [
    "### In the above case, it may be tempting to answer 7/30. This logic cannot be right since if p=1/2 then one would answer 7/2 which is greater than 1."
   ]
  }
 ],
 "metadata": {
  "kernelspec": {
   "display_name": "Python 2",
   "language": "python",
   "name": "python2"
  },
  "language_info": {
   "codemirror_mode": {
    "name": "ipython",
    "version": 2
   },
   "file_extension": ".py",
   "mimetype": "text/x-python",
   "name": "python",
   "nbconvert_exporter": "python",
   "pygments_lexer": "ipython2",
   "version": "2.7.5"
  }
 },
 "nbformat": 4,
 "nbformat_minor": 0
}
