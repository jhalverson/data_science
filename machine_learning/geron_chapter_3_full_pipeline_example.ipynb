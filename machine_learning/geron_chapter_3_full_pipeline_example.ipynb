{
 "cells": [
  {
   "cell_type": "markdown",
   "metadata": {},
   "source": [
    "# Jonathan Halverson\n",
    "# Tuesday, October 17, 2017\n",
    "# Full pipeline example"
   ]
  },
  {
   "cell_type": "code",
   "execution_count": 1,
   "metadata": {
    "collapsed": false
   },
   "outputs": [],
   "source": [
    "from sklearn.datasets import load_digits\n",
    "\n",
    "digits = load_digits()"
   ]
  },
  {
   "cell_type": "code",
   "execution_count": 2,
   "metadata": {
    "collapsed": false
   },
   "outputs": [
    {
     "name": "stdout",
     "output_type": "stream",
     "text": [
      "Optical Recognition of Handwritten Digits Data Set\n",
      "===================================================\n",
      "\n",
      "Notes\n",
      "-----\n",
      "Data Set Characteristics:\n",
      "    :Number of Instances: 5620\n",
      "    :Number of Attributes: 64\n",
      "    :Attribute Information: 8x8 image of integer pixels in the range 0..16.\n",
      "    :Missing Attribute Values: None\n",
      "    :Creator: E. Alpaydin (alpaydin '@' boun.edu.tr)\n",
      "    :Date: July; 1998\n",
      "\n",
      "This is a copy of the test set of the UCI ML hand-written digits datasets\n",
      "http://archive.ics.uci.edu/ml/datasets/Optical+Recognition+of+Handwritten+Digits\n",
      "\n",
      "The data set contains images of hand-written digits: 10 classes where\n",
      "each class refers to a digit.\n",
      "\n",
      "Preprocessing programs made available by NIST were used to extract\n",
      "normalized bitmaps of handwritten digits from a preprinted form. From a\n",
      "total of 43 people, 30 contributed to the training set and different 13\n",
      "to the test set. 32x32 bitmaps are divided into nonoverlapping blocks of\n",
      "4x4 and the number of on pixels are counted in each block. This generates\n",
      "an input matrix of 8x8 where each element is an integer in the range\n",
      "0..16. This reduces dimensionality and gives invariance to small\n",
      "distortions.\n",
      "\n",
      "For info on NIST preprocessing routines, see M. D. Garris, J. L. Blue, G.\n",
      "T. Candela, D. L. Dimmick, J. Geist, P. J. Grother, S. A. Janet, and C.\n",
      "L. Wilson, NIST Form-Based Handprint Recognition System, NISTIR 5469,\n",
      "1994.\n",
      "\n",
      "References\n",
      "----------\n",
      "  - C. Kaynak (1995) Methods of Combining Multiple Classifiers and Their\n",
      "    Applications to Handwritten Digit Recognition, MSc Thesis, Institute of\n",
      "    Graduate Studies in Science and Engineering, Bogazici University.\n",
      "  - E. Alpaydin, C. Kaynak (1998) Cascading Classifiers, Kybernetika.\n",
      "  - Ken Tang and Ponnuthurai N. Suganthan and Xi Yao and A. Kai Qin.\n",
      "    Linear dimensionalityreduction using relevance weighted LDA. School of\n",
      "    Electrical and Electronic Engineering Nanyang Technological University.\n",
      "    2005.\n",
      "  - Claudio Gentile. A New Approximate Maximal Margin Classification\n",
      "    Algorithm. NIPS. 2000.\n",
      "\n"
     ]
    }
   ],
   "source": [
    "print digits['DESCR']"
   ]
  },
  {
   "cell_type": "code",
   "execution_count": 3,
   "metadata": {
    "collapsed": false
   },
   "outputs": [],
   "source": [
    "X, y = digits['data'], digits['target']"
   ]
  },
  {
   "cell_type": "code",
   "execution_count": 4,
   "metadata": {
    "collapsed": false
   },
   "outputs": [
    {
     "data": {
      "text/plain": [
       "((1797, 64), (1797,))"
      ]
     },
     "execution_count": 4,
     "metadata": {},
     "output_type": "execute_result"
    }
   ],
   "source": [
    "X.shape, y.shape"
   ]
  },
  {
   "cell_type": "code",
   "execution_count": 5,
   "metadata": {
    "collapsed": true
   },
   "outputs": [],
   "source": [
    "import numpy as np\n",
    "import matplotlib.pyplot as plt\n",
    "plt.style.use('halverson')\n",
    "%matplotlib inline"
   ]
  },
  {
   "cell_type": "code",
   "execution_count": 6,
   "metadata": {
    "collapsed": false
   },
   "outputs": [
    {
     "data": {
      "text/plain": [
       "<matplotlib.image.AxesImage at 0x11128f190>"
      ]
     },
     "execution_count": 6,
     "metadata": {},
     "output_type": "execute_result"
    },
    {
     "data": {
      "image/png": "[encoded data removed]",
      "text/plain": [
       "<matplotlib.figure.Figure at 0x10ec22e10>"
      ]
     },
     "metadata": {},
     "output_type": "display_data"
    }
   ],
   "source": [
    "plt.imshow(X[0].reshape(8, 8), cmap=plt.cm.binary)"
   ]
  },
  {
   "cell_type": "code",
   "execution_count": 7,
   "metadata": {
    "collapsed": false
   },
   "outputs": [
    {
     "data": {
      "text/plain": [
       "0"
      ]
     },
     "execution_count": 7,
     "metadata": {},
     "output_type": "execute_result"
    }
   ],
   "source": [
    "y[0]"
   ]
  },
  {
   "cell_type": "markdown",
   "metadata": {},
   "source": [
    "Shuffle the data then perform a test train split:"
   ]
  },
  {
   "cell_type": "code",
   "execution_count": 17,
   "metadata": {
    "collapsed": true
   },
   "outputs": [],
   "source": [
    "rnd_idx = np.random.permutation(y.size)\n",
    "X, y = X[rnd_idx], y[rnd_idx]"
   ]
  },
  {
   "cell_type": "code",
   "execution_count": 20,
   "metadata": {
    "collapsed": false
   },
   "outputs": [],
   "source": [
    "from sklearn.model_selection import train_test_split\n",
    "\n",
    "X_train, X_test, y_train, y_test = train_test_split(X, y, random_state=42, test_size=0.2)"
   ]
  },
  {
   "cell_type": "markdown",
   "metadata": {},
   "source": [
    "We now wish to do two things. We want to use kernel PCA to reduce the number of dimensions even further and we want to find the optimal hyperparameters for a logistic regression classifier."
   ]
  },
  {
   "cell_type": "markdown",
   "metadata": {},
   "source": [
    "### I want to combine data preparation and cleaning with finding the optimal hyperparameters"
   ]
  },
  {
   "cell_type": "code",
   "execution_count": 23,
   "metadata": {
    "collapsed": true
   },
   "outputs": [],
   "source": [
    "from sklearn.decomposition import KernelPCA\n",
    "from sklearn.preprocessing import StandardScaler\n",
    "from sklearn.linear_model import LogisticRegression\n",
    "from sklearn.pipeline import Pipeline\n",
    "from sklearn.model_selection import GridSearchCV"
   ]
  },
  {
   "cell_type": "code",
   "execution_count": 58,
   "metadata": {
    "collapsed": false
   },
   "outputs": [],
   "source": [
    "pline = Pipeline([('std_sc', StandardScaler()),\n",
    "                  ('kpca', KernelPCA(n_components=32)),\n",
    "                  ('lr', LogisticRegression())])\n",
    "param_grid = [{'kpca__kernel':['rbf', 'sigmoid'], 'kpca__gamma':[0.1, 1, 10],'lr__C':[0.01, 0.1, 1.0]}]"
   ]
  },
  {
   "cell_type": "code",
   "execution_count": 59,
   "metadata": {
    "collapsed": false
   },
   "outputs": [
    {
     "data": {
      "text/plain": [
       "GridSearchCV(cv=5, error_score='raise',\n",
       "       estimator=Pipeline(steps=[('std_sc', StandardScaler(copy=True, with_mean=True, with_std=True)), ('kpca', KernelPCA(alpha=1.0, coef0=1, copy_X=True, degree=3, eigen_solver='auto',\n",
       "     fit_inverse_transform=False, gamma=None, kernel='linear',\n",
       "     kernel_params=None, max_iter=None, n_components=32, n_jobs=1,\n",
       "     rando...ty='l2', random_state=None, solver='liblinear', tol=0.0001,\n",
       "          verbose=0, warm_start=False))]),\n",
       "       fit_params={}, iid=True, n_jobs=1,\n",
       "       param_grid=[{'kpca__kernel': ['rbf', 'sigmoid'], 'kpca__gamma': [0.1, 1, 10], 'lr__C': [0.01, 0.1, 1.0]}],\n",
       "       pre_dispatch='2*n_jobs', refit=True, return_train_score=True,\n",
       "       scoring=None, verbose=0)"
      ]
     },
     "execution_count": 59,
     "metadata": {},
     "output_type": "execute_result"
    }
   ],
   "source": [
    "grid_search = GridSearchCV(pline, param_grid, cv=5, refit=True)\n",
    "grid_search.fit(X_train, y_train)"
   ]
  },
  {
   "cell_type": "code",
   "execution_count": 43,
   "metadata": {
    "collapsed": false
   },
   "outputs": [
    {
     "data": {
      "text/plain": [
       "array([4, 5, 8, 7, 8, 1, 7, 5, 1, 4, 5, 1, 4, 8, 8, 0, 6, 4, 8, 6, 2, 2, 2,\n",
       "       5, 7, 5, 0, 5, 7, 9, 3, 7, 3, 5, 9, 8, 8, 4, 6, 6, 5, 0, 4, 4, 7, 5,\n",
       "       8, 1, 4, 2, 7, 1, 8, 5, 9, 8, 0, 4, 5, 1, 5, 3, 2, 1, 1, 3, 0, 3, 0,\n",
       "       5, 3, 7, 7, 3, 0, 4, 9, 1, 3, 1, 7, 8, 3, 9, 3, 9, 0, 4, 0, 8, 6, 9,\n",
       "       1, 5, 2, 8, 7, 1, 4, 8, 4, 1, 6, 7, 1, 6, 1, 5, 4, 1, 6, 1, 9, 3, 5,\n",
       "       2, 5, 4, 9, 2, 0, 4, 7, 0, 2, 7, 7, 0, 6, 2, 0, 2, 4, 1, 1, 5, 6, 4,\n",
       "       8, 2, 3, 1, 4, 8, 2, 2, 8, 5, 6, 7, 9, 6, 1, 4, 1, 7, 2, 5, 4, 5, 3,\n",
       "       3, 0, 7, 9, 4, 2, 1, 3, 8, 7, 2, 8, 5, 3, 5, 8, 6, 3, 5, 7, 2, 2, 9,\n",
       "       4, 0, 6, 6, 4, 3, 3, 9, 0, 7, 9, 2, 5, 0, 2, 8, 6, 6, 3, 5, 4, 9, 1,\n",
       "       9, 0, 2, 4, 4, 9, 4, 5, 2, 8, 3, 1, 4, 8, 6, 8, 5, 7, 2, 4, 5, 5, 2,\n",
       "       2, 7, 4, 9, 6, 0, 1, 9, 5, 0, 4, 2, 0, 2, 0, 5, 8, 1, 6, 2, 3, 8, 1,\n",
       "       9, 4, 3, 2, 9, 0, 2, 3, 1, 7, 7, 5, 7, 9, 3, 4, 5, 1, 3, 3, 1, 7, 4,\n",
       "       6, 8, 3, 1, 6, 4, 8, 4, 0, 9, 4, 8, 4, 4, 9, 3, 4, 4, 7, 3, 3, 9, 7,\n",
       "       1, 1, 0, 6, 5, 4, 4, 6, 6, 6, 4, 3, 8, 1, 7, 3, 0, 0, 2, 0, 3, 6, 7,\n",
       "       5, 5, 8, 8, 5, 9, 4, 7, 8, 5, 2, 2, 6, 9, 0, 5, 5, 8, 4, 8, 5, 2, 7,\n",
       "       6, 9, 7, 1, 2, 7, 0, 1, 6, 1, 6, 0, 7, 8, 0])"
      ]
     },
     "execution_count": 43,
     "metadata": {},
     "output_type": "execute_result"
    }
   ],
   "source": [
    "grid_search.predict(X_test)"
   ]
  },
  {
   "cell_type": "code",
   "execution_count": 78,
   "metadata": {
    "collapsed": false
   },
   "outputs": [
    {
     "data": {
      "text/plain": [
       "0.93333333333333335"
      ]
     },
     "execution_count": 78,
     "metadata": {},
     "output_type": "execute_result"
    }
   ],
   "source": [
    "grid_search.score(X_test, y_test)"
   ]
  },
  {
   "cell_type": "code",
   "execution_count": 79,
   "metadata": {
    "collapsed": false
   },
   "outputs": [
    {
     "data": {
      "text/plain": [
       "0.93333333333333335"
      ]
     },
     "execution_count": 79,
     "metadata": {},
     "output_type": "execute_result"
    }
   ],
   "source": [
    "from sklearn.metrics import accuracy_score\n",
    "accuracy_score(y_test, grid_search.predict(X_test))"
   ]
  },
  {
   "cell_type": "code",
   "execution_count": 75,
   "metadata": {
    "collapsed": false
   },
   "outputs": [
    {
     "data": {
      "text/plain": [
       "array([  0.00000000e+00,   3.25678497e-01,   5.24077940e+00,\n",
       "         1.18148921e+01,   1.17981907e+01,   5.71607516e+00,\n",
       "         1.33542102e+00,   1.36395268e-01,   6.95894224e-03,\n",
       "         2.00904662e+00,   1.03521225e+01,   1.19109255e+01,\n",
       "         1.02727905e+01,   8.20668058e+00,   1.85247042e+00,\n",
       "         1.18997912e-01,   3.47947112e-03,   2.62282533e+00,\n",
       "         9.93110647e+00,   6.97425191e+00,   7.11343076e+00,\n",
       "         7.85038274e+00,   1.85525400e+00,   5.70633264e-02,\n",
       "         1.39178845e-03,   2.43215031e+00,   9.08420320e+00,\n",
       "         8.77174669e+00,   9.93736952e+00,   7.57967989e+00,\n",
       "         2.34933890e+00,   2.78357690e-03,   0.00000000e+00,\n",
       "         2.31871955e+00,   7.57550452e+00,   8.92901879e+00,\n",
       "         1.02101601e+01,   8.72303410e+00,   2.96590118e+00,\n",
       "         0.00000000e+00,   6.26304802e-03,   1.57202505e+00,\n",
       "         6.86638831e+00,   7.10090466e+00,   7.52609603e+00,\n",
       "         8.22964509e+00,   3.55045233e+00,   3.20111343e-02,\n",
       "         9.04662491e-03,   6.98677801e-01,   7.51356994e+00,\n",
       "         9.50591510e+00,   9.34725122e+00,   8.78566458e+00,\n",
       "         3.80514962e+00,   2.08072373e-01,   6.95894224e-04,\n",
       "         2.97842728e-01,   5.57967989e+00,   1.20340988e+01,\n",
       "         1.18629088e+01,   6.88030619e+00,   2.17049408e+00,\n",
       "         3.48643006e-01])"
      ]
     },
     "execution_count": 75,
     "metadata": {},
     "output_type": "execute_result"
    }
   ],
   "source": [
    "grid_search.best_estimator_.named_steps['std_sc'].mean_"
   ]
  },
  {
   "cell_type": "code",
   "execution_count": 76,
   "metadata": {
    "collapsed": false
   },
   "outputs": [
    {
     "data": {
      "text/plain": [
       "array([  0.00000000e+00,   3.25678497e-01,   5.24077940e+00,\n",
       "         1.18148921e+01,   1.17981907e+01,   5.71607516e+00,\n",
       "         1.33542102e+00,   1.36395268e-01,   6.95894224e-03,\n",
       "         2.00904662e+00,   1.03521225e+01,   1.19109255e+01,\n",
       "         1.02727905e+01,   8.20668058e+00,   1.85247042e+00,\n",
       "         1.18997912e-01,   3.47947112e-03,   2.62282533e+00,\n",
       "         9.93110647e+00,   6.97425191e+00,   7.11343076e+00,\n",
       "         7.85038274e+00,   1.85525400e+00,   5.70633264e-02,\n",
       "         1.39178845e-03,   2.43215031e+00,   9.08420320e+00,\n",
       "         8.77174669e+00,   9.93736952e+00,   7.57967989e+00,\n",
       "         2.34933890e+00,   2.78357690e-03,   0.00000000e+00,\n",
       "         2.31871955e+00,   7.57550452e+00,   8.92901879e+00,\n",
       "         1.02101601e+01,   8.72303410e+00,   2.96590118e+00,\n",
       "         0.00000000e+00,   6.26304802e-03,   1.57202505e+00,\n",
       "         6.86638831e+00,   7.10090466e+00,   7.52609603e+00,\n",
       "         8.22964509e+00,   3.55045233e+00,   3.20111343e-02,\n",
       "         9.04662491e-03,   6.98677801e-01,   7.51356994e+00,\n",
       "         9.50591510e+00,   9.34725122e+00,   8.78566458e+00,\n",
       "         3.80514962e+00,   2.08072373e-01,   6.95894224e-04,\n",
       "         2.97842728e-01,   5.57967989e+00,   1.20340988e+01,\n",
       "         1.18629088e+01,   6.88030619e+00,   2.17049408e+00,\n",
       "         3.48643006e-01])"
      ]
     },
     "execution_count": 76,
     "metadata": {},
     "output_type": "execute_result"
    }
   ],
   "source": [
    "s = StandardScaler()\n",
    "s.fit(X_train)\n",
    "s.mean_"
   ]
  }
 ],
 "metadata": {
  "kernelspec": {
   "display_name": "Python [conda root]",
   "language": "python",
   "name": "conda-root-py"
  },
  "language_info": {
   "codemirror_mode": {
    "name": "ipython",
    "version": 2
   },
   "file_extension": ".py",
   "mimetype": "text/x-python",
   "name": "python",
   "nbconvert_exporter": "python",
   "pygments_lexer": "ipython2",
   "version": "2.7.12"
  }
 },
 "nbformat": 4,
 "nbformat_minor": 1
}
