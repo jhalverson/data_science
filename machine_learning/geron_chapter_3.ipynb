{
 "cells": [
  {
   "cell_type": "markdown",
   "metadata": {},
   "source": [
    "# Jonathan Halverson\n",
    "# Friday, September 29, 2017\n",
    "# Geron: Chapter 3 on Classification"
   ]
  },
  {
   "cell_type": "code",
   "execution_count": 1,
   "metadata": {
    "collapsed": true
   },
   "outputs": [],
   "source": [
    "from sklearn.datasets import fetch_mldata"
   ]
  },
  {
   "cell_type": "code",
   "execution_count": 2,
   "metadata": {
    "collapsed": false
   },
   "outputs": [
    {
     "data": {
      "text/plain": [
       "{'COL_NAMES': ['label', 'data'],\n",
       " 'DESCR': 'mldata.org dataset: mnist-original',\n",
       " 'data': array([[0, 0, 0, ..., 0, 0, 0],\n",
       "        [0, 0, 0, ..., 0, 0, 0],\n",
       "        [0, 0, 0, ..., 0, 0, 0],\n",
       "        ..., \n",
       "        [0, 0, 0, ..., 0, 0, 0],\n",
       "        [0, 0, 0, ..., 0, 0, 0],\n",
       "        [0, 0, 0, ..., 0, 0, 0]], dtype=uint8),\n",
       " 'target': array([ 0.,  0.,  0., ...,  9.,  9.,  9.])}"
      ]
     },
     "execution_count": 2,
     "metadata": {},
     "output_type": "execute_result"
    }
   ],
   "source": [
    "mnist = fetch_mldata('MNIST original')\n",
    "mnist"
   ]
  },
  {
   "cell_type": "code",
   "execution_count": 3,
   "metadata": {
    "collapsed": false
   },
   "outputs": [
    {
     "data": {
      "text/plain": [
       "(70000, 784)"
      ]
     },
     "execution_count": 3,
     "metadata": {},
     "output_type": "execute_result"
    }
   ],
   "source": [
    "import numpy as np\n",
    "\n",
    "X, y = mnist['data'], mnist['target']\n",
    "X = X.astype(np.float64)\n",
    "X.shape"
   ]
  },
  {
   "cell_type": "code",
   "execution_count": 4,
   "metadata": {
    "collapsed": false
   },
   "outputs": [
    {
     "data": {
      "text/plain": [
       "(70000,)"
      ]
     },
     "execution_count": 4,
     "metadata": {},
     "output_type": "execute_result"
    }
   ],
   "source": [
    "y.shape"
   ]
  },
  {
   "cell_type": "code",
   "execution_count": 5,
   "metadata": {
    "collapsed": false
   },
   "outputs": [
    {
     "data": {
      "text/plain": [
       "5.0"
      ]
     },
     "execution_count": 5,
     "metadata": {},
     "output_type": "execute_result"
    }
   ],
   "source": [
    "digit_index = 36000\n",
    "y[digit_index]"
   ]
  },
  {
   "cell_type": "code",
   "execution_count": 6,
   "metadata": {
    "collapsed": false,
    "scrolled": true
   },
   "outputs": [
    {
     "data": {
      "text/plain": [
       "array([  0,   0,   0,   0,   0,   0,   0,   0,   0,   0,   0,   0,   0,\n",
       "         0,   0,   0,   0,   0,   0,   0,   0,   0,   0,   0,   0,   0,\n",
       "         0,   0,   0,   0,   0,   0,   0,   0,   0,   0,   0,   0,   0,\n",
       "         0,   0,   0,   0,   0,   0,   0,   0,   0,   0,   0,   0,   0,\n",
       "         0,   0,   0,   0,   0,   0,   0,   0,   0,   0,   0,   0,   0,\n",
       "         0,   0,   0,   0,   0,   0,   0,   0,   0,   0,   0,   0,   0,\n",
       "         0,   0,   0,   0,   0,   0,   0,   0,   0,   0,   0,   0,   0,\n",
       "         0,   0,   0,   0,   0,   0,   0,   0,   0,   0,   0,   0,   0,\n",
       "         0,   0,   0,   0,   0,   0,   0,   0,   0,   0,   0,   0,   0,\n",
       "         0,   0,   0,   0,   0,   0,   0,   0,   0,   0,   0,   0,   0,\n",
       "         0,   0,   0,   0,   0,   0,   0,   0,   0,   0,   0,   0,   0,\n",
       "         0,   0,   0,   0,   0,   0,   0,   0,   0,   0,   0,   0,   0,\n",
       "         0,   0,   0,  86, 131, 225, 225, 225,   0,   0,   0,   0,   0,\n",
       "         0,   0,   0,   0,   0,   0,   0,   0,   0,   0,   0,   0,   0,\n",
       "         0,   0,  13,  73, 197, 253, 252, 252, 252, 252,   0,   0,   0,\n",
       "         0,   0,   0,   0,   0,   0,   0,   0,   0,   0,   0,   0,   0,\n",
       "         4,  29,  29, 154, 187, 252, 252, 253, 252, 252, 233, 145,   0,\n",
       "         0,   0,   0,   0,   0,   0,   0,   0,   0,   0,   0,   0,   0,\n",
       "         0,   0,  29, 252, 253, 252, 252, 252, 252, 253, 204, 112,  37,\n",
       "         0,   0,   0,   0,   0,   0,   0,   0,   0,   0,   0,   0,   0,\n",
       "         0,   0,   0,   0, 169, 253, 255, 253, 228, 126,   0,   0,   0,\n",
       "         0,   0,   0,   0,   0,   0,   0,   0,   0,   0,   0,   0,   0,\n",
       "         0,   0,   0,   0,   0,  98, 243, 252, 253, 252, 246, 130,  38,\n",
       "         0,   0,   0,   0,   0,   0,   0,   0,   0,   0,   0,   0,   0,\n",
       "         0,   0,   0,   0,   0,   0,  98, 240, 252, 252, 253, 252, 252,\n",
       "       252, 221,   0,   0,   0,   0,   0,   0,   0,   0,   0,   0,   0,\n",
       "         0,   0,   0,   0,   0,   0,   0,   0, 225, 252, 252, 236, 225,\n",
       "       223, 230, 252, 252,   0,   0,   0,   0,   0,   0,   0,   0,   0,\n",
       "         0,   0,   0,   0,   0,   0,   0,   0,   0,   0, 146, 252, 157,\n",
       "        50,   0,   0,  25, 205, 252,   0,   0,   0,   0,   0,   0,   0,\n",
       "         0,   0,   0,   0,   0,   0,   0,   0,   0,   0,   0,   0,   0,\n",
       "         0,   0,   0,   0,   0,  26, 207, 253,   0,   0,   0,   0,   0,\n",
       "         0,   0,   0,   0,   0,   0,   0,   0,   0,  29,  19,   0,   0,\n",
       "         0,   0,   0,   0,   0,   0,   0,  73, 205, 252,  79,   0,   0,\n",
       "         0,   0,   0,   0,   0,   0,   0,   0,   0,   0, 120, 215, 209,\n",
       "       175,   0,   0,   0,   0,   0,   0,   0,  19, 209, 252, 220,  79,\n",
       "         0,   0,   0,   0,   0,   0,   0,   0,   0,   0,   0,   0, 174,\n",
       "       252, 252, 239, 140,   0,   0,   0,   0,   0,  29, 104, 252, 249,\n",
       "       177,   0,   0,   0,   0,   0,   0,   0,   0,   0,   0,   0,   0,\n",
       "         0, 174, 252, 252, 223,   0,   0,   0,   0,   0,   0, 174, 252,\n",
       "       252, 223,   0,   0,   0,   0,   0,   0,   0,   0,   0,   0,   0,\n",
       "         0,   0,   0, 141, 241, 253, 146,   0,   0,   0,   0, 169, 253,\n",
       "       255, 253, 253,  84,   0,   0,   0,   0,   0,   0,   0,   0,   0,\n",
       "         0,   0,   0,   0,   0,   0, 178, 252, 154,  85,  85, 210, 225,\n",
       "       243, 252, 215, 121,  27,   9,   0,   0,   0,   0,   0,   0,   0,\n",
       "         0,   0,   0,   0,   0,   0,   0,   0,  66, 208, 220, 252, 253,\n",
       "       252, 252, 214, 195,  31,   0,   0,   0,   0,   0,   0,   0,   0,\n",
       "         0,   0,   0,   0,   0,   0,   0,   0,   0,   0,   0,  19,  37,\n",
       "        84, 146, 223, 114,  28,   0,   0,   0,   0,   0,   0,   0,   0,\n",
       "         0,   0,   0,   0,   0,   0,   0,   0,   0,   0,   0,   0,   0,\n",
       "         0,   0,   0,   0,   0,   0,   0,   0,   0,   0,   0,   0,   0,\n",
       "         0,   0,   0,   0,   0,   0,   0,   0,   0,   0,   0,   0,   0,\n",
       "         0,   0,   0,   0,   0,   0,   0,   0,   0,   0,   0,   0,   0,\n",
       "         0,   0,   0,   0,   0,   0,   0,   0,   0,   0,   0,   0,   0,\n",
       "         0,   0,   0,   0,   0,   0,   0,   0,   0,   0,   0,   0,   0,\n",
       "         0,   0,   0,   0,   0,   0,   0,   0,   0,   0,   0,   0,   0,\n",
       "         0,   0,   0,   0,   0,   0,   0,   0,   0,   0,   0,   0,   0,\n",
       "         0,   0,   0,   0,   0,   0,   0,   0,   0,   0,   0,   0,   0,\n",
       "         0,   0,   0,   0,   0,   0,   0,   0,   0,   0,   0,   0,   0,\n",
       "         0,   0,   0,   0,   0,   0,   0,   0,   0,   0,   0,   0,   0,\n",
       "         0,   0,   0,   0])"
      ]
     },
     "execution_count": 6,
     "metadata": {},
     "output_type": "execute_result"
    }
   ],
   "source": [
    "X[digit_index].astype(np.int)"
   ]
  },
  {
   "cell_type": "code",
   "execution_count": 7,
   "metadata": {
    "collapsed": true
   },
   "outputs": [],
   "source": [
    "import matplotlib\n",
    "import matplotlib.pyplot as plt\n",
    "plt.style.use('halverson')\n",
    "%matplotlib inline"
   ]
  },
  {
   "cell_type": "code",
   "execution_count": 8,
   "metadata": {
    "collapsed": false
   },
   "outputs": [
    {
     "data": {
      "text/plain": [
       "(-0.5, 27.5, 27.5, -0.5)"
      ]
     },
     "execution_count": 8,
     "metadata": {},
     "output_type": "execute_result"
    },
    {
     "data": {
      "image/png": "[encoded data removed]",
      "text/plain": [
       "<matplotlib.figure.Figure at 0x12bf1bfd0>"
      ]
     },
     "metadata": {},
     "output_type": "display_data"
    }
   ],
   "source": [
    "plt.imshow(X[digit_index].reshape(28, 28), cmap=matplotlib.cm.binary, interpolation=\"nearest\")\n",
    "plt.axis('off')"
   ]
  },
  {
   "cell_type": "markdown",
   "metadata": {},
   "source": [
    "The data is already divided into a train and test set (at record 60000):"
   ]
  },
  {
   "cell_type": "code",
   "execution_count": 9,
   "metadata": {
    "collapsed": true
   },
   "outputs": [],
   "source": [
    "X_train, X_test, y_train, y_test = X[:60000], X[60000:], y[:60000], y[60000:]"
   ]
  },
  {
   "cell_type": "code",
   "execution_count": 10,
   "metadata": {
    "collapsed": true
   },
   "outputs": [],
   "source": [
    "shuffle_index = np.random.permutation(60000)\n",
    "X_train, y_train = X_train[shuffle_index], y_train[shuffle_index]"
   ]
  },
  {
   "cell_type": "markdown",
   "metadata": {},
   "source": [
    "### Standardize the data"
   ]
  },
  {
   "cell_type": "code",
   "execution_count": 11,
   "metadata": {
    "collapsed": false
   },
   "outputs": [],
   "source": [
    "from sklearn.preprocessing import StandardScaler\n",
    "\n",
    "std_sc = StandardScaler()\n",
    "X_train_std = std_sc.fit_transform(X_train)\n",
    "X_test_std = std_sc.transform(X_test)"
   ]
  },
  {
   "cell_type": "code",
   "execution_count": 12,
   "metadata": {
    "collapsed": false
   },
   "outputs": [
    {
     "data": {
      "text/plain": [
       "(array([  980.,  1135.,  1032.,  1010.,   982.,   892.,   958.,  1028.,\n",
       "          974.,  1009.]),\n",
       " array([-0.5,  0.5,  1.5,  2.5,  3.5,  4.5,  5.5,  6.5,  7.5,  8.5,  9.5]),\n",
       " <a list of 10 Patch objects>)"
      ]
     },
     "execution_count": 12,
     "metadata": {},
     "output_type": "execute_result"
    },
    {
     "data": {
      "image/png": "[encoded data removed]",
      "text/plain": [
       "<matplotlib.figure.Figure at 0x12e6525d0>"
      ]
     },
     "metadata": {},
     "output_type": "display_data"
    }
   ],
   "source": [
    "plt.hist(y_test, bins=np.linspace(-0.5, 9.5, 11), rwidth=0.8)"
   ]
  },
  {
   "cell_type": "markdown",
   "metadata": {},
   "source": [
    "We see from the histogram above that the classes are not perfectly balanced."
   ]
  },
  {
   "cell_type": "markdown",
   "metadata": {},
   "source": [
    "### Training a binary classifier"
   ]
  },
  {
   "cell_type": "code",
   "execution_count": 13,
   "metadata": {
    "collapsed": true
   },
   "outputs": [],
   "source": [
    "y_train_5 = (y_train == 5)\n",
    "y_test_5 = (y_test == 5)\n",
    "y_train_5 = y_train_5.astype(np.int)\n",
    "y_test_5 = y_test_5.astype(np.int)"
   ]
  },
  {
   "cell_type": "code",
   "execution_count": 14,
   "metadata": {
    "collapsed": false
   },
   "outputs": [
    {
     "data": {
      "text/plain": [
       "array([0, 0, 0, 0, 0, 0, 0, 0, 0, 0, 0, 0, 0, 0, 1])"
      ]
     },
     "execution_count": 14,
     "metadata": {},
     "output_type": "execute_result"
    }
   ],
   "source": [
    "y_train_5[:15]"
   ]
  },
  {
   "cell_type": "code",
   "execution_count": 15,
   "metadata": {
    "collapsed": false
   },
   "outputs": [
    {
     "data": {
      "text/plain": [
       "array([ 4.,  4.,  1.,  6.,  1.,  1.,  2.,  4.,  3.,  9.,  6.,  2.,  1.,\n",
       "        8.,  5.])"
      ]
     },
     "execution_count": 15,
     "metadata": {},
     "output_type": "execute_result"
    }
   ],
   "source": [
    "y_train[:15]"
   ]
  },
  {
   "cell_type": "code",
   "execution_count": 16,
   "metadata": {
    "collapsed": false
   },
   "outputs": [
    {
     "data": {
      "text/plain": [
       "5421"
      ]
     },
     "execution_count": 16,
     "metadata": {},
     "output_type": "execute_result"
    }
   ],
   "source": [
    "y_train_5.sum()"
   ]
  },
  {
   "cell_type": "code",
   "execution_count": 17,
   "metadata": {
    "collapsed": true
   },
   "outputs": [],
   "source": [
    "from sklearn.linear_model import SGDClassifier"
   ]
  },
  {
   "cell_type": "markdown",
   "metadata": {},
   "source": [
    "Below we use the test data which is in general bad practice at this point."
   ]
  },
  {
   "cell_type": "code",
   "execution_count": 18,
   "metadata": {
    "collapsed": false
   },
   "outputs": [],
   "source": [
    "# Defaults to ‘hinge’, which gives a linear SVM\n",
    "model = SGDClassifier(random_state=42)\n",
    "model = model.fit(X_train_std, y_train_5)\n",
    "y_pred = model.predict(X_test_std)"
   ]
  },
  {
   "cell_type": "code",
   "execution_count": 19,
   "metadata": {
    "collapsed": false
   },
   "outputs": [
    {
     "data": {
      "text/plain": [
       "array([-988.37137475])"
      ]
     },
     "execution_count": 19,
     "metadata": {},
     "output_type": "execute_result"
    }
   ],
   "source": [
    "model.intercept_"
   ]
  },
  {
   "cell_type": "code",
   "execution_count": 20,
   "metadata": {
    "collapsed": false
   },
   "outputs": [
    {
     "data": {
      "text/plain": [
       "array([0, 1])"
      ]
     },
     "execution_count": 20,
     "metadata": {},
     "output_type": "execute_result"
    }
   ],
   "source": [
    "model.classes_"
   ]
  },
  {
   "cell_type": "code",
   "execution_count": 21,
   "metadata": {
    "collapsed": false
   },
   "outputs": [
    {
     "data": {
      "text/plain": [
       "array([[  0.00000000e+00,   0.00000000e+00,   0.00000000e+00,\n",
       "          0.00000000e+00,   0.00000000e+00,   0.00000000e+00,\n",
       "          0.00000000e+00,   0.00000000e+00,   0.00000000e+00,\n",
       "          0.00000000e+00,   0.00000000e+00,   0.00000000e+00,\n",
       "         -5.53949560e-01,  -7.21553533e-01,  -5.11876082e-01,\n",
       "         -5.11876082e-01,   0.00000000e+00,   0.00000000e+00,\n",
       "          0.00000000e+00,   0.00000000e+00,   0.00000000e+00,\n",
       "          0.00000000e+00,   0.00000000e+00,   0.00000000e+00,\n",
       "          0.00000000e+00,   0.00000000e+00,   0.00000000e+00,\n",
       "          0.00000000e+00,   0.00000000e+00,   0.00000000e+00,\n",
       "          0.00000000e+00,   0.00000000e+00,  -5.11876082e-01,\n",
       "         -5.90512379e-01,  -1.10328384e+00,  -1.45325301e+00,\n",
       "         -1.85051744e+00,  -2.41798283e+00,  -3.09341106e+00,\n",
       "         -3.64499737e+00,  -4.04584553e+00,  -5.04527818e+00,\n",
       "         -4.53483787e+00,  -4.43218538e+00,  -4.80496008e+00,\n",
       "         -3.55878048e+00,  -2.89874137e+00,  -2.40315903e+00,\n",
       "         -2.10295261e+00,  -1.37875086e+00,  -1.04379166e+00,\n",
       "         -5.49262206e-01,   0.00000000e+00,   0.00000000e+00,\n",
       "          0.00000000e+00,   0.00000000e+00,   0.00000000e+00,\n",
       "          0.00000000e+00,  -5.11876082e-01,  -4.00537272e+00,\n",
       "         -1.06856116e+00,  -1.57532909e+00,  -3.13489580e+00,\n",
       "         -4.74498503e+00,  -5.40051886e+00,  -7.09288944e+00,\n",
       "         -9.95192128e+00,  -1.27990393e+01,  -1.39661868e+01,\n",
       "         -1.54781820e+01,  -1.68704257e+01,  -1.68551413e+01,\n",
       "         -1.44222120e+01,  -1.11701191e+01,  -7.92262836e+00,\n",
       "         -6.52136808e+00,  -6.31250802e+00,  -5.13148826e+00,\n",
       "         -1.58252388e+00,  -6.43292661e-01,  -5.15555139e+00,\n",
       "         -5.95405227e+00,   0.00000000e+00,   0.00000000e+00,\n",
       "          0.00000000e+00,   0.00000000e+00,  -6.73100469e-01,\n",
       "         -5.19275614e+00,   6.09393970e+00,  -2.85064562e+00,\n",
       "         -5.84381789e+00,  -7.76933889e+00,  -9.32088092e+00,\n",
       "         -1.01596146e+01,  -1.12788151e+01,  -1.45694091e+01,\n",
       "         -1.11320344e+01,  -1.29050903e+01,  -1.02393129e+01,\n",
       "         -8.28096085e+00,  -6.99437210e+00,  -5.20491320e+00,\n",
       "         -2.45602001e+00,  -1.72473853e+00,   2.77394345e-01,\n",
       "          2.53645523e+00,   3.91951818e+00,  -2.36607151e+00,\n",
       "         -1.82438144e+00,  -5.06806328e-01,  -2.35518762e+00,\n",
       "          0.00000000e+00,   0.00000000e+00,  -5.11876082e-01,\n",
       "         -9.73397203e-01,  -2.62592261e+00,  -5.40611852e+00,\n",
       "         -6.73995332e+00,  -2.50632023e+00,  -2.08905314e+00,\n",
       "         -8.80742876e+00,  -6.40448050e+00,  -3.79055564e+00,\n",
       "         -5.13812794e+00,  -8.52240495e+00,  -1.26257226e+01,\n",
       "         -6.56828022e+00,  -5.09292044e-01,   4.53487776e-01,\n",
       "          2.22017623e+00,   2.65802617e+00,  -6.57596356e-01,\n",
       "         -2.73143391e+00,   4.84053456e+00,   4.39694809e+00,\n",
       "          1.03991595e+00,   6.86587245e+00,   2.98704933e-01,\n",
       "         -6.69117663e-01,  -6.28629670e+00,   0.00000000e+00,\n",
       "          0.00000000e+00,  -1.49226970e+00,   4.15337608e-01,\n",
       "         -5.57200161e+00,  -3.22698305e+00,  -4.87486867e+00,\n",
       "         -1.95199186e+00,  -4.68533990e+00,  -3.75293709e+00,\n",
       "         -3.64287312e+00,  -2.19387494e+00,  -5.20594323e+00,\n",
       "         -6.01564003e+00,  -5.09991128e+00,  -4.97242213e+00,\n",
       "         -2.69522232e+00,   2.53167153e-01,   3.47533588e+00,\n",
       "          2.84513364e+00,   5.44431594e+00,   2.78565154e+00,\n",
       "          8.51520772e+00,   7.86603571e+00,   2.10048302e+00,\n",
       "          5.60003887e-01,   1.08958446e+00,  -1.02925451e+00,\n",
       "          0.00000000e+00,  -6.98399568e-01,   8.74440791e-01,\n",
       "         -5.94001341e+00,  -5.30244759e+00,  -1.14152386e+00,\n",
       "         -2.84555695e+00,  -3.65472397e+00,  -3.26150889e+00,\n",
       "         -2.00223153e+00,  -3.43034199e+00,  -1.26404331e+00,\n",
       "         -1.80971147e+00,  -1.17074262e+00,  -3.24635785e-01,\n",
       "         -4.77260226e+00,  -3.14288928e+00,  -1.09125991e+00,\n",
       "          2.66852193e+00,   6.83670197e+00,   1.02287708e+01,\n",
       "          6.86540027e+00,   6.73034251e+00,   7.52267737e+00,\n",
       "          7.93037021e+00,   1.81735686e+00,   3.67577664e+00,\n",
       "          5.58755928e-01,  -5.11876082e-01,  -1.65893671e+00,\n",
       "         -3.13665221e+00,  -8.24895044e+00,  -1.36817595e+01,\n",
       "         -6.95862886e+00,  -5.41110618e+00,  -4.29481720e+00,\n",
       "         -1.57804913e-01,  -1.87543954e+00,   4.50778747e+00,\n",
       "          4.01943736e+00,   1.80599994e+00,  -2.34790445e+00,\n",
       "         -4.00031061e+00,  -9.28384217e+00,  -5.27828834e+00,\n",
       "         -9.43192835e-01,   4.08287088e-01,   4.66759357e+00,\n",
       "          1.11812026e+01,   1.30859104e+01,   9.14213151e+00,\n",
       "          1.01323379e+01,   1.34620630e+01,   1.29753703e+01,\n",
       "         -3.29001611e+00,   5.72084008e-01,  -6.30108755e-01,\n",
       "         -2.17168959e+00,  -5.98818269e+00,  -1.14519398e+01,\n",
       "         -1.65325786e+01,  -8.71326824e+00,  -6.08647917e+00,\n",
       "         -5.45108612e+00,  -4.09829803e-01,   1.13056164e+00,\n",
       "          6.03425954e+00,   5.80857379e+00,   3.27946879e+00,\n",
       "         -5.60812123e+00,  -9.59678424e+00,  -1.53706058e+01,\n",
       "         -1.47864735e+01,  -9.06516470e+00,  -5.47083922e+00,\n",
       "          1.53318155e+00,   8.64718557e+00,   1.52237502e+01,\n",
       "          9.91935161e+00,   1.48849545e+01,   1.58973937e+01,\n",
       "          9.83454390e+00,   2.85574992e+00,   2.23509176e+00,\n",
       "         -7.40472872e-01,  -2.80563852e+00,  -6.97052998e+00,\n",
       "         -1.25031195e+01,  -1.38234187e+01,  -8.80862657e+00,\n",
       "         -4.15522059e+00,  -1.39212364e+00,   2.76629314e+00,\n",
       "          4.67299368e+00,   7.00136927e+00,   1.27108595e+01,\n",
       "          8.37317237e+00,   5.40290859e-01,  -9.41922522e+00,\n",
       "         -1.76506519e+01,  -2.00281712e+01,  -1.99722370e+01,\n",
       "         -1.98945141e+01,  -1.73285004e+01,  -6.33399498e+00,\n",
       "          7.75995809e+00,   1.21647637e+01,   1.78549783e+01,\n",
       "          2.61565521e+01,   1.01067822e+01,   6.60342553e+00,\n",
       "          6.40729777e-01,  -7.23808610e-01,  -4.72953273e+00,\n",
       "         -7.47251381e+00,  -1.35768880e+01,  -8.91670613e+00,\n",
       "         -4.61225812e+00,   2.86793265e+00,   6.28354768e+00,\n",
       "          9.30164288e+00,   1.12967804e+01,   1.35197700e+01,\n",
       "          1.35127079e+01,   1.76940636e+01,   1.38268598e+01,\n",
       "          3.69253425e+00,  -3.06599572e+00,  -1.02706960e+01,\n",
       "         -2.07829366e+01,  -3.12208272e+01,  -3.17593733e+01,\n",
       "         -2.16950792e+01,  -1.05917809e+01,  -5.47795608e+00,\n",
       "          6.54797859e+00,   2.37692589e+01,   2.47581461e+01,\n",
       "          3.62914943e+00,  -3.93756080e-01,  -8.84595183e-01,\n",
       "         -3.76951993e+00,  -6.91707937e+00,  -1.19734605e+01,\n",
       "         -5.85957211e+00,   7.01282348e-01,   1.04404887e+01,\n",
       "          7.28460429e+00,   8.05279322e+00,   8.97470766e+00,\n",
       "          1.41695520e+01,   1.52533661e+01,   1.89302126e+01,\n",
       "          2.04293140e+01,   1.17485826e+01,   5.81572814e+00,\n",
       "         -2.34572012e+00,  -1.79506067e+01,  -2.77736913e+01,\n",
       "         -3.16916064e+01,  -3.16457040e+01,  -3.21468942e+01,\n",
       "         -3.21668288e+01,  -1.80060331e+01,  -9.43358022e-01,\n",
       "          2.65567751e+01,   1.20447642e+00,  -1.14412759e+00,\n",
       "         -6.65072701e-01,  -4.80238182e+00,  -5.82959235e+00,\n",
       "         -5.73926972e+00,  -9.63523423e-01,   2.14385951e+00,\n",
       "          8.21046864e+00,   5.10284066e+00,   3.84760181e+00,\n",
       "          2.96677440e+00,   1.30841425e+01,   1.35893999e+01,\n",
       "          1.90737738e+01,   1.76740542e+01,   1.03333606e+01,\n",
       "          3.96268896e+00,  -1.52357518e+01,  -2.84629646e+01,\n",
       "         -2.81699836e+01,  -1.98141436e+01,  -1.87703551e+01,\n",
       "         -3.06804748e+01,  -4.09450592e+01,  -4.19106427e+01,\n",
       "         -3.68302208e+01,  -8.78639591e+00,   1.46588947e+01,\n",
       "         -1.24404262e+00,  -5.11876082e-01,  -3.42121549e+00,\n",
       "         -4.37257036e+00,  -3.76230140e+00,   2.32087713e+00,\n",
       "          3.24839373e+00,   1.19133481e+00,   2.09494610e+00,\n",
       "          1.00227732e+00,   6.02211296e+00,   1.22240107e+01,\n",
       "          1.61168419e+01,   2.09575076e+01,   1.16687686e+01,\n",
       "          2.07749710e-01,  -1.36517352e+01,  -3.03614685e+01,\n",
       "         -3.20976868e+01,  -2.06045028e+01,  -6.95244390e+00,\n",
       "         -1.46490621e+00,  -1.29257478e+01,  -2.41538293e+01,\n",
       "         -3.52334429e+01,  -3.12046946e+01,  -1.59935051e+01,\n",
       "          1.01809977e+00,  -9.28372449e-01,   7.62605845e+00,\n",
       "         -1.00159853e+00,  -2.29405458e+00,  -2.71248753e+00,\n",
       "         -7.17020479e-01,  -2.44981099e+00,  -6.99817572e+00,\n",
       "         -7.17133071e+00,  -2.66942995e+00,   8.87019339e+00,\n",
       "          1.57611343e+01,   1.51772006e+01,   1.62744824e+01,\n",
       "          3.53281565e+00,  -7.59721125e+00,  -2.16296669e+01,\n",
       "         -2.51004294e+01,  -2.21162120e+01,  -1.18644956e+01,\n",
       "         -5.21828882e+00,   4.96629095e-01,  -5.62475448e+00,\n",
       "         -8.74897142e+00,  -1.61117898e+01,  -1.41293998e+01,\n",
       "         -1.48652896e+01,  -3.38226505e+00,  -6.21484730e+00,\n",
       "          5.88522832e+00,  -5.25280860e-01,  -2.33816456e+00,\n",
       "         -3.65137374e+00,  -2.98676438e+00,  -9.99431367e+00,\n",
       "         -1.40736927e+01,  -1.51637579e+01,  -7.39269653e+00,\n",
       "          2.47051196e+00,   8.17097329e+00,   1.37268003e+01,\n",
       "          1.06114633e+01,  -8.47082423e+00,  -2.50997933e+01,\n",
       "         -2.67696032e+01,  -2.06925308e+01,  -1.59104142e+01,\n",
       "         -1.87378918e+00,  -3.03560737e+00,  -1.41041927e+00,\n",
       "         -5.39227390e+00,  -3.93418508e+00,  -3.24064810e+00,\n",
       "         -1.28338598e+00,  -6.79427217e+00,  -5.32167438e+00,\n",
       "         -6.45057441e+00,  -8.64981061e+00,  -8.40975046e-01,\n",
       "         -3.20082523e+00,  -1.76793833e+00,  -4.68753602e-01,\n",
       "         -5.47195209e+00,  -1.34661799e+01,  -2.25330074e+01,\n",
       "         -2.02947930e+01,  -1.47005592e+01,  -1.11419399e+01,\n",
       "         -7.26466715e+00,  -1.13522350e+01,  -2.49411747e+01,\n",
       "         -3.26027826e+01,  -2.42436797e+01,  -1.34597557e+01,\n",
       "         -5.76968680e+00,  -2.31163011e+00,  -3.16354324e+00,\n",
       "          1.31241729e+00,  -4.40831005e+00,  -1.44183560e-01,\n",
       "          3.41930420e+00,   2.35616941e+00,  -7.89378617e+00,\n",
       "         -6.87335223e+00,  -1.38648422e+00,   0.00000000e+00,\n",
       "         -1.11992737e+00,  -4.52305526e+00,  -2.75410190e-01,\n",
       "          1.85668418e+00,   5.09652593e+00,   3.80584238e+00,\n",
       "         -1.28912356e+01,  -1.83745720e+01,  -2.30975217e+01,\n",
       "         -2.61798258e+01,  -2.65543511e+01,  -2.93023154e+01,\n",
       "         -3.27908861e+01,  -2.80585607e+01,  -1.39300102e+01,\n",
       "         -3.29386594e+00,   3.24870848e+00,   2.94322521e+00,\n",
       "         -3.24543076e+00,   1.96336896e+00,  -1.88857602e+00,\n",
       "          2.90897516e+00,   5.34925253e+00,   4.18061991e+00,\n",
       "         -1.05099092e+01,  -4.60809194e+00,  -1.34294824e+00,\n",
       "         -7.40504741e-01,  -1.86815452e+00,  -5.34915389e+00,\n",
       "         -3.01323233e+00,   5.35310396e+00,   7.50094767e+00,\n",
       "          1.22850884e+01,   1.97302801e+00,  -6.50183660e+00,\n",
       "         -1.48922215e+01,  -2.16653658e+01,  -1.97253104e+01,\n",
       "         -1.65203456e+01,  -1.58447801e+01,  -1.18085128e+01,\n",
       "         -4.25848500e+00,   2.54725382e-01,   9.38763790e-01,\n",
       "         -4.27045807e+00,   9.68084731e-01,   1.49751382e+00,\n",
       "         -9.12982548e-02,   6.17916801e+00,   4.88391490e+00,\n",
       "          4.49557316e+00,  -1.04850914e+01,  -2.97603061e+00,\n",
       "         -1.22378489e+00,  -5.11876082e-01,  -3.32188697e+00,\n",
       "          2.97293990e+00,  -4.25473544e+00,   4.29444264e+00,\n",
       "          3.29846785e+00,   4.94476793e+00,   4.08683999e+00,\n",
       "          8.28556722e+00,   2.02037655e+00,  -2.15426317e+00,\n",
       "         -2.51154413e+00,  -4.62618457e+00,  -9.60179044e+00,\n",
       "         -7.32246406e+00,  -4.60193590e-01,  -4.36918651e+00,\n",
       "         -4.37315217e+00,  -2.16745493e+00,   6.81695046e-01,\n",
       "          1.21998701e+00,   1.37961365e+00,   5.96422982e+00,\n",
       "          6.56194335e+00,   4.80655088e+00,  -6.47870352e+00,\n",
       "         -4.06873511e+00,  -1.00629292e+00,   0.00000000e+00,\n",
       "         -1.29671872e+00,   1.06106726e+00,  -2.88112322e+00,\n",
       "         -5.05977252e-01,   2.40980949e+00,  -2.01003225e+00,\n",
       "         -1.59091622e+00,   4.54463937e+00,   5.74590372e+00,\n",
       "          4.18095086e+00,   5.05695011e+00,  -3.69638953e+00,\n",
       "         -6.38626353e+00,  -6.23489918e+00,  -3.40408282e+00,\n",
       "          1.55750064e+00,   1.44839160e-01,   1.03585705e+00,\n",
       "          2.02115426e+00,   1.90695563e+00,   2.94655505e+00,\n",
       "          9.65229723e+00,   4.75073991e+00,  -1.68278630e+00,\n",
       "         -1.05964764e+00,  -1.94758570e+00,  -7.23872649e-01,\n",
       "         -5.11876082e-01,  -1.25501634e+00,  -5.48019632e+00,\n",
       "         -2.71119653e+00,  -7.13033341e-01,  -6.61708563e-01,\n",
       "         -1.69803993e+00,   2.50206865e-01,   2.90878024e+00,\n",
       "          3.46909601e+00,   3.93641381e+00,   3.80160746e+00,\n",
       "         -8.85201904e-01,  -1.59853116e+00,   4.30893421e-01,\n",
       "          3.59552501e+00,   3.76605033e+00,   3.49014288e+00,\n",
       "          4.45183105e-01,   4.12925204e+00,   8.36251394e+00,\n",
       "          7.54939845e+00,   6.25165488e+00,   2.70056631e+00,\n",
       "         -1.32709757e+00,   3.31323331e+00,  -2.76199599e+00,\n",
       "         -5.11876082e-01,  -5.11876082e-01,  -7.52909952e-01,\n",
       "         -5.47718674e+00,  -3.30136880e+00,  -9.54800855e-01,\n",
       "         -3.48314182e+00,  -5.19197966e+00,  -2.63174798e+00,\n",
       "         -1.47489247e+00,   8.12369807e-01,   2.07954188e+00,\n",
       "          4.77067927e+00,   5.74263403e+00,   5.01045002e+00,\n",
       "          4.17962433e+00,   3.83599308e+00,   6.24566295e+00,\n",
       "          2.20562417e+00,   4.97584931e+00,   5.43364627e+00,\n",
       "          5.26708708e+00,   1.68471120e+00,   2.27723061e+00,\n",
       "          2.60109641e+00,  -1.71019598e+00,   3.28322080e+00,\n",
       "          2.85717834e+00,  -5.11876082e-01,   0.00000000e+00,\n",
       "          0.00000000e+00,  -1.00265785e+00,  -6.19436135e-01,\n",
       "          2.58393659e+00,   5.62773761e+00,  -6.06465051e-01,\n",
       "         -6.87023679e+00,   1.59507027e+00,   1.87277086e+00,\n",
       "          1.67009749e+00,  -9.79647694e-01,  -1.49890135e+00,\n",
       "         -2.66412123e+00,   1.27261719e+00,   3.24431137e+00,\n",
       "          2.61413779e+00,  -2.77445324e+00,  -4.58932997e+00,\n",
       "         -3.09718011e+00,   5.52914752e-01,  -8.29675252e-01,\n",
       "          9.80042425e-01,   1.60561253e+00,  -2.46854947e-02,\n",
       "          7.76320944e+00,   3.72695520e+00,   0.00000000e+00,\n",
       "          0.00000000e+00,   0.00000000e+00,  -2.01414663e+00,\n",
       "         -2.70588056e+00,  -2.97167308e+00,   1.75130128e+00,\n",
       "         -8.89120921e-01,   2.01336005e+00,  -3.67657973e-01,\n",
       "          5.75377144e+00,  -1.45627625e+00,  -2.27375021e+00,\n",
       "         -2.12297672e+00,   1.09164942e+00,   2.92191352e+00,\n",
       "          2.30012456e+00,  -1.77073065e+00,  -5.20525496e-01,\n",
       "          5.66759739e-01,  -8.54942329e-01,  -3.13620585e-01,\n",
       "         -1.17266173e+00,   3.56839881e-01,  -2.84077175e+00,\n",
       "         -1.04412407e+00,  -4.34101501e+00,  -5.95927227e-01,\n",
       "          0.00000000e+00,   0.00000000e+00,   0.00000000e+00,\n",
       "         -8.35586576e-01,   2.78338323e+00,   2.20867518e+00,\n",
       "         -3.69536352e+00,  -1.53904342e+00,  -2.87554177e+00,\n",
       "         -4.58764748e+00,  -2.84659576e+00,  -3.83410172e+00,\n",
       "         -3.79672430e+00,  -1.21716865e+00,   1.83017599e+00,\n",
       "         -2.47534221e+00,  -2.82729638e-01,  -1.04190732e+00,\n",
       "         -3.32481111e-01,  -1.93661187e+00,  -4.66628063e+00,\n",
       "         -5.31961670e+00,  -1.08925029e+00,   5.44067883e+00,\n",
       "          2.80695099e+00,   9.60467183e+00,  -7.11583940e-01,\n",
       "         -5.11876082e-01,   0.00000000e+00,   0.00000000e+00,\n",
       "          0.00000000e+00,   0.00000000e+00,  -5.11876082e-01,\n",
       "         -1.89595781e+00,  -4.99401270e+00,  -5.06395377e+00,\n",
       "         -8.57533577e+00,  -1.12348802e+01,  -1.25800036e+01,\n",
       "         -1.25054993e+01,  -1.28041792e+01,  -1.25980012e+01,\n",
       "         -1.39533207e+01,  -1.44658541e+01,  -9.46168513e+00,\n",
       "         -6.62754544e+00,  -4.32771710e+00,  -7.15061989e+00,\n",
       "         -7.03196557e+00,  -2.36997779e+00,  -1.50444515e+00,\n",
       "         -1.87035115e+00,  -2.11397552e+00,  -8.65513291e+00,\n",
       "         -5.11876082e-01,   0.00000000e+00,   0.00000000e+00,\n",
       "          0.00000000e+00,   0.00000000e+00,   0.00000000e+00,\n",
       "          0.00000000e+00,  -7.25985054e-01,  -1.13519362e+00,\n",
       "         -2.00680208e+00,  -2.77343030e+00,  -3.44253527e+00,\n",
       "         -4.45529780e+00,  -3.52583200e+00,  -1.81100036e+00,\n",
       "         -3.16865420e+00,  -6.44345629e+00,  -8.24422407e+00,\n",
       "         -7.92710077e+00,  -7.55757138e+00,  -5.61334344e+00,\n",
       "         -4.15906552e+00,  -2.81645189e+00,  -2.14346950e+00,\n",
       "         -5.11658995e+00,  -3.48505826e+00,  -7.23506280e-01,\n",
       "          0.00000000e+00,   0.00000000e+00,   0.00000000e+00,\n",
       "          0.00000000e+00]])"
      ]
     },
     "execution_count": 21,
     "metadata": {},
     "output_type": "execute_result"
    }
   ],
   "source": [
    "model.coef_"
   ]
  },
  {
   "cell_type": "code",
   "execution_count": 22,
   "metadata": {
    "collapsed": false
   },
   "outputs": [
    {
     "data": {
      "text/plain": [
       "300001.0"
      ]
     },
     "execution_count": 22,
     "metadata": {},
     "output_type": "execute_result"
    }
   ],
   "source": [
    "model.t_"
   ]
  },
  {
   "cell_type": "code",
   "execution_count": 23,
   "metadata": {
    "collapsed": false
   },
   "outputs": [],
   "source": [
    "from sklearn.metrics import accuracy_score"
   ]
  },
  {
   "cell_type": "code",
   "execution_count": 24,
   "metadata": {
    "collapsed": false
   },
   "outputs": [
    {
     "data": {
      "text/plain": [
       "0.97099999999999997"
      ]
     },
     "execution_count": 24,
     "metadata": {},
     "output_type": "execute_result"
    }
   ],
   "source": [
    "accuracy_score(y_pred, y_test_5)"
   ]
  },
  {
   "cell_type": "markdown",
   "metadata": {},
   "source": [
    "We see that the accuracy appears high. It is important to note that only about 10% of the targets are fives so accuracy is not the best metric."
   ]
  },
  {
   "cell_type": "code",
   "execution_count": 25,
   "metadata": {
    "collapsed": false
   },
   "outputs": [
    {
     "data": {
      "text/plain": [
       "array([0])"
      ]
     },
     "execution_count": 25,
     "metadata": {},
     "output_type": "execute_result"
    }
   ],
   "source": [
    "# a prediction of 0 means not 5\n",
    "model.predict(std_sc.transform([X_train[digit_index]]))"
   ]
  },
  {
   "cell_type": "code",
   "execution_count": 26,
   "metadata": {
    "collapsed": false
   },
   "outputs": [
    {
     "data": {
      "text/plain": [
       "array([0])"
      ]
     },
     "execution_count": 26,
     "metadata": {},
     "output_type": "execute_result"
    }
   ],
   "source": [
    "# a prediction of 0 means not 5\n",
    "model.predict([X_train[digit_index]])"
   ]
  },
  {
   "cell_type": "code",
   "execution_count": 27,
   "metadata": {
    "collapsed": false
   },
   "outputs": [
    {
     "data": {
      "text/plain": [
       "4.0"
      ]
     },
     "execution_count": 27,
     "metadata": {},
     "output_type": "execute_result"
    }
   ],
   "source": [
    "y_train[digit_index]"
   ]
  },
  {
   "cell_type": "markdown",
   "metadata": {},
   "source": [
    "Now we do things more properly as opposed to the quick test above. The cross_val_score is nice because it doesn't touch the test data."
   ]
  },
  {
   "cell_type": "code",
   "execution_count": 28,
   "metadata": {
    "collapsed": false
   },
   "outputs": [
    {
     "data": {
      "text/plain": [
       "array([ 0.96950254,  0.96858333,  0.96991667,  0.96566667,  0.96691391])"
      ]
     },
     "execution_count": 28,
     "metadata": {},
     "output_type": "execute_result"
    }
   ],
   "source": [
    "# For integer/None inputs, if the estimator is a classifier and y is either binary or multiclass,\n",
    "# StratifiedKFold is used. In all other cases, KFold is used.\n",
    "from sklearn.model_selection import cross_val_score\n",
    "\n",
    "y_train_scores = cross_val_score(SGDClassifier(random_state=42), X_train_std, y_train_5, cv=5, scoring='accuracy')\n",
    "y_train_scores"
   ]
  },
  {
   "cell_type": "markdown",
   "metadata": {},
   "source": [
    "The cross_val_predict method gives the individual prediction for each case when it appears in the validation set, which happens only once during the cross validation procedure."
   ]
  },
  {
   "cell_type": "code",
   "execution_count": 29,
   "metadata": {
    "collapsed": false
   },
   "outputs": [
    {
     "data": {
      "text/plain": [
       "array([ -871.4988705 ,  -927.85671226,  -722.02542474, ..., -1536.74175634,\n",
       "        -514.4777665 ,  -780.66616276])"
      ]
     },
     "execution_count": 29,
     "metadata": {},
     "output_type": "execute_result"
    }
   ],
   "source": [
    "from sklearn.model_selection import cross_val_predict\n",
    "\n",
    "# the decision function scores\n",
    "y_train_pred = cross_val_predict(SGDClassifier(random_state=42), X_train_std, y_train_5, cv=5, method='decision_function')\n",
    "y_train_pred"
   ]
  },
  {
   "cell_type": "code",
   "execution_count": 30,
   "metadata": {
    "collapsed": false
   },
   "outputs": [
    {
     "data": {
      "text/plain": [
       "array([0, 0, 0, ..., 0, 0, 0])"
      ]
     },
     "execution_count": 30,
     "metadata": {},
     "output_type": "execute_result"
    }
   ],
   "source": [
    "# the actual predictions\n",
    "y_train_predict = cross_val_predict(SGDClassifier(random_state=42), X_train, y_train_5, cv=5)\n",
    "y_train_predict"
   ]
  },
  {
   "cell_type": "code",
   "execution_count": 31,
   "metadata": {
    "collapsed": true
   },
   "outputs": [],
   "source": [
    "from sklearn.metrics import confusion_matrix"
   ]
  },
  {
   "cell_type": "markdown",
   "metadata": {},
   "source": [
    "Still working with the training set here:"
   ]
  },
  {
   "cell_type": "code",
   "execution_count": 32,
   "metadata": {
    "collapsed": false
   },
   "outputs": [
    {
     "data": {
      "text/plain": [
       "array([[53862,   717],\n",
       "       [ 2052,  3369]])"
      ]
     },
     "execution_count": 32,
     "metadata": {},
     "output_type": "execute_result"
    }
   ],
   "source": [
    "confusion_matrix(y_true=y_train_5, y_pred=y_train_predict)"
   ]
  },
  {
   "cell_type": "code",
   "execution_count": 33,
   "metadata": {
    "collapsed": false
   },
   "outputs": [
    {
     "data": {
      "text/plain": [
       "0.82452276064610863"
      ]
     },
     "execution_count": 33,
     "metadata": {},
     "output_type": "execute_result"
    }
   ],
   "source": [
    "from sklearn.metrics import precision_score, recall_score, f1_score\n",
    "\n",
    "precision_score(y_train_5, y_train_predict)"
   ]
  },
  {
   "cell_type": "code",
   "execution_count": 34,
   "metadata": {
    "collapsed": false
   },
   "outputs": [
    {
     "data": {
      "text/plain": [
       "0.62147205312672937"
      ]
     },
     "execution_count": 34,
     "metadata": {},
     "output_type": "execute_result"
    }
   ],
   "source": [
    "recall_score(y_train_5, y_train_predict)"
   ]
  },
  {
   "cell_type": "code",
   "execution_count": 35,
   "metadata": {
    "collapsed": false
   },
   "outputs": [
    {
     "data": {
      "text/plain": [
       "0.70874092773745656"
      ]
     },
     "execution_count": 35,
     "metadata": {},
     "output_type": "execute_result"
    }
   ],
   "source": [
    "f1_score(y_train_5, y_train_predict)"
   ]
  },
  {
   "cell_type": "code",
   "execution_count": 36,
   "metadata": {
    "collapsed": false
   },
   "outputs": [
    {
     "data": {
      "text/plain": [
       "<matplotlib.text.Text at 0x16040e790>"
      ]
     },
     "execution_count": 36,
     "metadata": {},
     "output_type": "execute_result"
    },
    {
     "data": {
      "image/png": "[encoded data removed]",
      "text/plain": [
       "<matplotlib.figure.Figure at 0x12e63da90>"
      ]
     },
     "metadata": {},
     "output_type": "display_data"
    }
   ],
   "source": [
    "from sklearn.metrics import precision_recall_curve\n",
    "\n",
    "precision, recall, thresholds = precision_recall_curve(y_train_5, y_train_pred)\n",
    "plt.plot(precision, recall)\n",
    "plt.xlabel('precision')\n",
    "plt.ylabel('recall')"
   ]
  },
  {
   "cell_type": "code",
   "execution_count": 37,
   "metadata": {
    "collapsed": false
   },
   "outputs": [
    {
     "data": {
      "text/plain": [
       "<matplotlib.legend.Legend at 0x160689b90>"
      ]
     },
     "execution_count": 37,
     "metadata": {},
     "output_type": "execute_result"
    },
    {
     "data": {
      "image/png": "[encoded data removed]",
      "text/plain": [
       "<matplotlib.figure.Figure at 0x160294d10>"
      ]
     },
     "metadata": {},
     "output_type": "display_data"
    }
   ],
   "source": [
    "plt.plot(thresholds, recall[:-1], label='recall')\n",
    "plt.plot(thresholds, precision[:-1], label='precision')\n",
    "plt.plot(thresholds, 2.0 / (1.0 / recall[:-1] + 1.0 / precision[:-1]), label='f1 score')\n",
    "plt.xlabel('threshold')\n",
    "plt.ylabel('metric')\n",
    "plt.legend()"
   ]
  },
  {
   "cell_type": "code",
   "execution_count": 38,
   "metadata": {
    "collapsed": false
   },
   "outputs": [
    {
     "data": {
      "text/plain": [
       "<matplotlib.text.Text at 0x15f4a6c90>"
      ]
     },
     "execution_count": 38,
     "metadata": {},
     "output_type": "execute_result"
    },
    {
     "data": {
      "image/png": "[encoded data removed]",
      "text/plain": [
       "<matplotlib.figure.Figure at 0x160a43c50>"
      ]
     },
     "metadata": {},
     "output_type": "display_data"
    }
   ],
   "source": [
    "from sklearn.metrics import roc_curve\n",
    "\n",
    "fpr, tpr, thresholds = roc_curve(y_train_5, y_train_pred)\n",
    "plt.plot(fpr, tpr)\n",
    "plt.plot([0, 1], [0, 1], 'k:')\n",
    "plt.xlabel('FPR')\n",
    "plt.ylabel('TPR')"
   ]
  },
  {
   "cell_type": "markdown",
   "metadata": {},
   "source": [
    "That concludes what we will do for binary classification. Let's move on the entire data set where we consider multiclass classification."
   ]
  },
  {
   "cell_type": "markdown",
   "metadata": {},
   "source": [
    "### Multiclass classification"
   ]
  },
  {
   "cell_type": "code",
   "execution_count": 39,
   "metadata": {
    "collapsed": false
   },
   "outputs": [
    {
     "data": {
      "text/plain": [
       "0.91011666666666668"
      ]
     },
     "execution_count": 39,
     "metadata": {},
     "output_type": "execute_result"
    }
   ],
   "source": [
    "# now y_train instead of y_train_5\n",
    "y_train_predict = cross_val_predict(SGDClassifier(random_state=42), X_train_std, y_train, cv=5)\n",
    "accuracy_score(y_train, y_train_predict)"
   ]
  },
  {
   "cell_type": "code",
   "execution_count": 51,
   "metadata": {
    "collapsed": false
   },
   "outputs": [
    {
     "data": {
      "text/plain": [
       "array([[5736,    2,   26,   11,   10,   41,   46,    9,   38,    4],\n",
       "       [   1, 6471,   43,   28,    6,   41,   10,   12,  119,   11],\n",
       "       [  61,   37, 5314,  104,   81,   23,   90,   63,  166,   19],\n",
       "       [  51,   40,  133, 5333,    1,  237,   40,   54,  148,   94],\n",
       "       [  20,   26,   39,    8, 5344,   10,   60,   36,   86,  213],\n",
       "       [  69,   40,   29,  179,   70, 4619,  105,   28,  184,   98],\n",
       "       [  29,   23,   40,    2,   38,   90, 5641,    6,   48,    1],\n",
       "       [  19,   23,   71,   29,   59,   10,    5, 5810,   15,  224],\n",
       "       [  50,  147,   66,  146,   12,  163,   55,   28, 5039,  145],\n",
       "       [  43,   29,   24,   86,  155,   38,    3,  230,   78, 5263]])"
      ]
     },
     "execution_count": 51,
     "metadata": {},
     "output_type": "execute_result"
    }
   ],
   "source": [
    "cm = confusion_matrix(y_train, y_train_predict)\n",
    "cm"
   ]
  },
  {
   "cell_type": "code",
   "execution_count": 60,
   "metadata": {
    "collapsed": false
   },
   "outputs": [
    {
     "data": {
      "text/plain": [
       "<matplotlib.image.AxesImage at 0x169792cd0>"
      ]
     },
     "execution_count": 60,
     "metadata": {},
     "output_type": "execute_result"
    },
    {
     "data": {
      "image/png": "[encoded data removed]",
      "text/plain": [
       "<matplotlib.figure.Figure at 0x162acd390>"
      ]
     },
     "metadata": {},
     "output_type": "display_data"
    }
   ],
   "source": [
    "row_sums = cm.sum(axis=1, keepdims=True)\n",
    "norm_conf_mx = cm / row_sums.astype(np.float64)\n",
    "np.fill_diagonal(norm_conf_mx, 0)\n",
    "plt.matshow(norm_conf_mx, cmap=plt.cm.gray)"
   ]
  },
  {
   "cell_type": "code",
   "execution_count": 41,
   "metadata": {
    "collapsed": true
   },
   "outputs": [],
   "source": [
    "from sklearn.decomposition import PCA\n",
    "\n",
    "pca = PCA(n_components=0.8)\n",
    "X_train_std_pca = pca.fit_transform(X_train_std)"
   ]
  },
  {
   "cell_type": "code",
   "execution_count": 42,
   "metadata": {
    "collapsed": false
   },
   "outputs": [
    {
     "data": {
      "text/plain": [
       "(60000, 149)"
      ]
     },
     "execution_count": 42,
     "metadata": {},
     "output_type": "execute_result"
    }
   ],
   "source": [
    "X_train_std_pca.shape"
   ]
  },
  {
   "cell_type": "code",
   "execution_count": 43,
   "metadata": {
    "collapsed": false
   },
   "outputs": [
    {
     "data": {
      "text/plain": [
       "0.9049666666666667"
      ]
     },
     "execution_count": 43,
     "metadata": {},
     "output_type": "execute_result"
    }
   ],
   "source": [
    "y_train_predict = cross_val_predict(SGDClassifier(random_state=42), X_train_std_pca, y_train, cv=5)\n",
    "accuracy_score(y_train, y_train_predict)"
   ]
  },
  {
   "cell_type": "markdown",
   "metadata": {},
   "source": [
    "We see that the accuracy has not changed very much even though we have reduced the dimensionality of the data by 149/784. Next we try a different model:"
   ]
  },
  {
   "cell_type": "code",
   "execution_count": 44,
   "metadata": {
    "collapsed": false
   },
   "outputs": [
    {
     "data": {
      "text/plain": [
       "0.90949999999999998"
      ]
     },
     "execution_count": 44,
     "metadata": {},
     "output_type": "execute_result"
    }
   ],
   "source": [
    "y_train_predict = cross_val_predict(SGDClassifier(loss='log'), X_train_std, y_train, cv=5)\n",
    "accuracy_score(y_train, y_train_predict)"
   ]
  },
  {
   "cell_type": "markdown",
   "metadata": {},
   "source": [
    "Let's put everything together in a pipeline:"
   ]
  },
  {
   "cell_type": "code",
   "execution_count": 45,
   "metadata": {
    "collapsed": false
   },
   "outputs": [
    {
     "data": {
      "text/plain": [
       "SGDClassifier(alpha=0.0001, average=False, class_weight=None, epsilon=0.1,\n",
       "       eta0=0.0, fit_intercept=True, l1_ratio=0.15,\n",
       "       learning_rate='optimal', loss='hinge', n_iter=5, n_jobs=1,\n",
       "       penalty='l2', power_t=0.5, random_state=None, shuffle=True,\n",
       "       verbose=0, warm_start=False)"
      ]
     },
     "execution_count": 45,
     "metadata": {},
     "output_type": "execute_result"
    }
   ],
   "source": [
    "from sklearn.pipeline import Pipeline\n",
    "\n",
    "pipeline = Pipeline([('std', StandardScaler()), ('pca', PCA(n_components=0.8))])\n",
    "X_train_prepared = pipeline.fit_transform(X_train)\n",
    "sgd_clf = SGDClassifier()\n",
    "sgd_clf.fit(X_train_prepared, y_train)"
   ]
  },
  {
   "cell_type": "code",
   "execution_count": 46,
   "metadata": {
    "collapsed": false
   },
   "outputs": [
    {
     "data": {
      "text/plain": [
       "0.90810000000000002"
      ]
     },
     "execution_count": 46,
     "metadata": {},
     "output_type": "execute_result"
    }
   ],
   "source": [
    "X_test_prepared = pipeline.transform(X_test)\n",
    "accuracy_score(y_test, sgd_clf.predict(X_test_prepared))"
   ]
  },
  {
   "cell_type": "markdown",
   "metadata": {},
   "source": [
    "Previous notebooks have included the model into the pipeline which makes no sense because the parameters found in the standard scaler, for instance, should be used to treat the test data."
   ]
  },
  {
   "cell_type": "code",
   "execution_count": 47,
   "metadata": {
    "collapsed": false
   },
   "outputs": [
    {
     "data": {
      "text/plain": [
       "RandomForestClassifier(bootstrap=True, class_weight=None, criterion='gini',\n",
       "            max_depth=None, max_features='auto', max_leaf_nodes=None,\n",
       "            min_impurity_split=1e-07, min_samples_leaf=1,\n",
       "            min_samples_split=2, min_weight_fraction_leaf=0.0,\n",
       "            n_estimators=100, n_jobs=1, oob_score=False, random_state=None,\n",
       "            verbose=0, warm_start=False)"
      ]
     },
     "execution_count": 47,
     "metadata": {},
     "output_type": "execute_result"
    }
   ],
   "source": [
    "from sklearn.ensemble import RandomForestClassifier\n",
    "\n",
    "rf_clf = RandomForestClassifier(n_estimators=100)\n",
    "rf_clf.fit(X_train_prepared, y_train)"
   ]
  },
  {
   "cell_type": "code",
   "execution_count": 48,
   "metadata": {
    "collapsed": false
   },
   "outputs": [
    {
     "data": {
      "text/plain": [
       "0.94450000000000001"
      ]
     },
     "execution_count": 48,
     "metadata": {},
     "output_type": "execute_result"
    }
   ],
   "source": [
    "X_test_prepared = pipeline.transform(X_test)\n",
    "accuracy_score(y_test, rf_clf.predict(X_test_prepared))"
   ]
  },
  {
   "cell_type": "markdown",
   "metadata": {},
   "source": [
    "We see by going to RF we get an immediate improvement. One could try more trees in the ensemble or do a better job with the dimensionality reduction. For instance, let's try using LLE to reduce dimensions (we only consider the first 5000 digits to speed up the computations):"
   ]
  },
  {
   "cell_type": "code",
   "execution_count": 49,
   "metadata": {
    "collapsed": false
   },
   "outputs": [
    {
     "data": {
      "text/plain": [
       "RandomForestClassifier(bootstrap=True, class_weight=None, criterion='gini',\n",
       "            max_depth=None, max_features='auto', max_leaf_nodes=None,\n",
       "            min_impurity_split=1e-07, min_samples_leaf=1,\n",
       "            min_samples_split=2, min_weight_fraction_leaf=0.0,\n",
       "            n_estimators=100, n_jobs=1, oob_score=False, random_state=None,\n",
       "            verbose=0, warm_start=False)"
      ]
     },
     "execution_count": 49,
     "metadata": {},
     "output_type": "execute_result"
    }
   ],
   "source": [
    "from sklearn.manifold import LocallyLinearEmbedding\n",
    "\n",
    "pipeline = Pipeline([('std', StandardScaler()), ('lle', LocallyLinearEmbedding(n_neighbors=10, n_components=100))])\n",
    "X_train_prepared = pipeline.fit_transform(X_train[:5000])\n",
    "rf_clf = RandomForestClassifier(n_estimators=100)\n",
    "rf_clf.fit(X_train_prepared, y_train[:5000])"
   ]
  },
  {
   "cell_type": "code",
   "execution_count": 50,
   "metadata": {
    "collapsed": false
   },
   "outputs": [
    {
     "data": {
      "text/plain": [
       "0.88770000000000004"
      ]
     },
     "execution_count": 50,
     "metadata": {},
     "output_type": "execute_result"
    }
   ],
   "source": [
    "X_test_prepared = pipeline.transform(X_test)\n",
    "accuracy_score(y_test, rf_clf.predict(X_test_prepared))"
   ]
  },
  {
   "cell_type": "markdown",
   "metadata": {},
   "source": [
    "#### Pipeline with GridSearchCV"
   ]
  },
  {
   "cell_type": "code",
   "execution_count": 89,
   "metadata": {
    "collapsed": false,
    "scrolled": false
   },
   "outputs": [
    {
     "data": {
      "text/plain": [
       "Pipeline(steps=[('std_sc', StandardScaler(copy=True, with_mean=True, with_std=True)), ('pca', PCA(copy=True, iterated_power='auto', n_components=None, random_state=None,\n",
       "  svd_solver='auto', tol=0.0, whiten=False)), ('rf', RandomForestClassifier(bootstrap=True, class_weight=None, criterion='gini',\n",
       "          ...imators=50, n_jobs=1, oob_score=False, random_state=None,\n",
       "            verbose=0, warm_start=False))])"
      ]
     },
     "execution_count": 89,
     "metadata": {},
     "output_type": "execute_result"
    }
   ],
   "source": [
    "from sklearn.model_selection import GridSearchCV\n",
    "\n",
    "pline = Pipeline([('std_sc', StandardScaler()), ('pca', PCA()), ('rf', RandomForestClassifier())])\n",
    "pline.fit(X_train, y_train)\n",
    "#final_model = grid_search.best_estimator_"
   ]
  },
  {
   "cell_type": "code",
   "execution_count": null,
   "metadata": {
    "collapsed": true
   },
   "outputs": [],
   "source": [
    "#pline = Pipeline([('std_sc', StandardScaler()), ('pca', PCA())])\n",
    "pline = Pipeline([('std_sc', StandardScaler()), ('pca', PCA()), ('rf', RandomForestClassifier())])\n",
    "#pline = Pipeline([('pca', PCA()), ('rf', RandomForestClassifier(n_estimators=50))])\n",
    "#param_grid = [{'pca__n_components':[10, 50, 100]}]\n",
    "#grid_search = GridSearchCV(pline, param_grid, cv=5)\n",
    "#grid_search.fit(X_train, y_train)\n",
    "pline.fit(X_train, y_train)\n",
    "#final_model = grid_search.best_estimator_"
   ]
  },
  {
   "cell_type": "code",
   "execution_count": 91,
   "metadata": {
    "collapsed": false
   },
   "outputs": [
    {
     "data": {
      "text/plain": [
       "0.92269999999999996"
      ]
     },
     "execution_count": 91,
     "metadata": {},
     "output_type": "execute_result"
    }
   ],
   "source": [
    "accuracy_score(y_test, pline.predict(X_test))"
   ]
  }
 ],
 "metadata": {
  "anaconda-cloud": {},
  "kernelspec": {
   "display_name": "Python [conda root]",
   "language": "python",
   "name": "conda-root-py"
  },
  "language_info": {
   "codemirror_mode": {
    "name": "ipython",
    "version": 2
   },
   "file_extension": ".py",
   "mimetype": "text/x-python",
   "name": "python",
   "nbconvert_exporter": "python",
   "pygments_lexer": "ipython2",
   "version": "2.7.12"
  }
 },
 "nbformat": 4,
 "nbformat_minor": 1
}
