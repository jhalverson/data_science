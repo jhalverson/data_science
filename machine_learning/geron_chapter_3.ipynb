{
 "cells": [
  {
   "cell_type": "markdown",
   "metadata": {},
   "source": [
    "# Jonathan Halverson\n",
    "# Friday, September 29, 2017\n",
    "# Geron: Chapter 3 on Classification"
   ]
  },
  {
   "cell_type": "code",
   "execution_count": 1,
   "metadata": {
    "collapsed": true
   },
   "outputs": [],
   "source": [
    "from sklearn.datasets import fetch_mldata"
   ]
  },
  {
   "cell_type": "code",
   "execution_count": 2,
   "metadata": {
    "collapsed": false
   },
   "outputs": [
    {
     "data": {
      "text/plain": [
       "{'COL_NAMES': ['label', 'data'],\n",
       " 'DESCR': 'mldata.org dataset: mnist-original',\n",
       " 'data': array([[0, 0, 0, ..., 0, 0, 0],\n",
       "        [0, 0, 0, ..., 0, 0, 0],\n",
       "        [0, 0, 0, ..., 0, 0, 0],\n",
       "        ..., \n",
       "        [0, 0, 0, ..., 0, 0, 0],\n",
       "        [0, 0, 0, ..., 0, 0, 0],\n",
       "        [0, 0, 0, ..., 0, 0, 0]], dtype=uint8),\n",
       " 'target': array([ 0.,  0.,  0., ...,  9.,  9.,  9.])}"
      ]
     },
     "execution_count": 2,
     "metadata": {},
     "output_type": "execute_result"
    }
   ],
   "source": [
    "mnist = fetch_mldata('MNIST original')\n",
    "mnist"
   ]
  },
  {
   "cell_type": "code",
   "execution_count": 3,
   "metadata": {
    "collapsed": false
   },
   "outputs": [
    {
     "data": {
      "text/plain": [
       "(70000, 784)"
      ]
     },
     "execution_count": 3,
     "metadata": {},
     "output_type": "execute_result"
    }
   ],
   "source": [
    "import numpy as np\n",
    "\n",
    "X, y = mnist['data'], mnist['target']\n",
    "X = X.astype(np.float64)\n",
    "X.shape"
   ]
  },
  {
   "cell_type": "code",
   "execution_count": 4,
   "metadata": {
    "collapsed": false
   },
   "outputs": [
    {
     "data": {
      "text/plain": [
       "(70000,)"
      ]
     },
     "execution_count": 4,
     "metadata": {},
     "output_type": "execute_result"
    }
   ],
   "source": [
    "y.shape"
   ]
  },
  {
   "cell_type": "code",
   "execution_count": 5,
   "metadata": {
    "collapsed": false
   },
   "outputs": [
    {
     "data": {
      "text/plain": [
       "5.0"
      ]
     },
     "execution_count": 5,
     "metadata": {},
     "output_type": "execute_result"
    }
   ],
   "source": [
    "digit_index = 36000\n",
    "y[digit_index]"
   ]
  },
  {
   "cell_type": "code",
   "execution_count": 6,
   "metadata": {
    "collapsed": false,
    "scrolled": true
   },
   "outputs": [
    {
     "data": {
      "text/plain": [
       "array([  0,   0,   0,   0,   0,   0,   0,   0,   0,   0,   0,   0,   0,\n",
       "         0,   0,   0,   0,   0,   0,   0,   0,   0,   0,   0,   0,   0,\n",
       "         0,   0,   0,   0,   0,   0,   0,   0,   0,   0,   0,   0,   0,\n",
       "         0,   0,   0,   0,   0,   0,   0,   0,   0,   0,   0,   0,   0,\n",
       "         0,   0,   0,   0,   0,   0,   0,   0,   0,   0,   0,   0,   0,\n",
       "         0,   0,   0,   0,   0,   0,   0,   0,   0,   0,   0,   0,   0,\n",
       "         0,   0,   0,   0,   0,   0,   0,   0,   0,   0,   0,   0,   0,\n",
       "         0,   0,   0,   0,   0,   0,   0,   0,   0,   0,   0,   0,   0,\n",
       "         0,   0,   0,   0,   0,   0,   0,   0,   0,   0,   0,   0,   0,\n",
       "         0,   0,   0,   0,   0,   0,   0,   0,   0,   0,   0,   0,   0,\n",
       "         0,   0,   0,   0,   0,   0,   0,   0,   0,   0,   0,   0,   0,\n",
       "         0,   0,   0,   0,   0,   0,   0,   0,   0,   0,   0,   0,   0,\n",
       "         0,   0,   0,  86, 131, 225, 225, 225,   0,   0,   0,   0,   0,\n",
       "         0,   0,   0,   0,   0,   0,   0,   0,   0,   0,   0,   0,   0,\n",
       "         0,   0,  13,  73, 197, 253, 252, 252, 252, 252,   0,   0,   0,\n",
       "         0,   0,   0,   0,   0,   0,   0,   0,   0,   0,   0,   0,   0,\n",
       "         4,  29,  29, 154, 187, 252, 252, 253, 252, 252, 233, 145,   0,\n",
       "         0,   0,   0,   0,   0,   0,   0,   0,   0,   0,   0,   0,   0,\n",
       "         0,   0,  29, 252, 253, 252, 252, 252, 252, 253, 204, 112,  37,\n",
       "         0,   0,   0,   0,   0,   0,   0,   0,   0,   0,   0,   0,   0,\n",
       "         0,   0,   0,   0, 169, 253, 255, 253, 228, 126,   0,   0,   0,\n",
       "         0,   0,   0,   0,   0,   0,   0,   0,   0,   0,   0,   0,   0,\n",
       "         0,   0,   0,   0,   0,  98, 243, 252, 253, 252, 246, 130,  38,\n",
       "         0,   0,   0,   0,   0,   0,   0,   0,   0,   0,   0,   0,   0,\n",
       "         0,   0,   0,   0,   0,   0,  98, 240, 252, 252, 253, 252, 252,\n",
       "       252, 221,   0,   0,   0,   0,   0,   0,   0,   0,   0,   0,   0,\n",
       "         0,   0,   0,   0,   0,   0,   0,   0, 225, 252, 252, 236, 225,\n",
       "       223, 230, 252, 252,   0,   0,   0,   0,   0,   0,   0,   0,   0,\n",
       "         0,   0,   0,   0,   0,   0,   0,   0,   0,   0, 146, 252, 157,\n",
       "        50,   0,   0,  25, 205, 252,   0,   0,   0,   0,   0,   0,   0,\n",
       "         0,   0,   0,   0,   0,   0,   0,   0,   0,   0,   0,   0,   0,\n",
       "         0,   0,   0,   0,   0,  26, 207, 253,   0,   0,   0,   0,   0,\n",
       "         0,   0,   0,   0,   0,   0,   0,   0,   0,  29,  19,   0,   0,\n",
       "         0,   0,   0,   0,   0,   0,   0,  73, 205, 252,  79,   0,   0,\n",
       "         0,   0,   0,   0,   0,   0,   0,   0,   0,   0, 120, 215, 209,\n",
       "       175,   0,   0,   0,   0,   0,   0,   0,  19, 209, 252, 220,  79,\n",
       "         0,   0,   0,   0,   0,   0,   0,   0,   0,   0,   0,   0, 174,\n",
       "       252, 252, 239, 140,   0,   0,   0,   0,   0,  29, 104, 252, 249,\n",
       "       177,   0,   0,   0,   0,   0,   0,   0,   0,   0,   0,   0,   0,\n",
       "         0, 174, 252, 252, 223,   0,   0,   0,   0,   0,   0, 174, 252,\n",
       "       252, 223,   0,   0,   0,   0,   0,   0,   0,   0,   0,   0,   0,\n",
       "         0,   0,   0, 141, 241, 253, 146,   0,   0,   0,   0, 169, 253,\n",
       "       255, 253, 253,  84,   0,   0,   0,   0,   0,   0,   0,   0,   0,\n",
       "         0,   0,   0,   0,   0,   0, 178, 252, 154,  85,  85, 210, 225,\n",
       "       243, 252, 215, 121,  27,   9,   0,   0,   0,   0,   0,   0,   0,\n",
       "         0,   0,   0,   0,   0,   0,   0,   0,  66, 208, 220, 252, 253,\n",
       "       252, 252, 214, 195,  31,   0,   0,   0,   0,   0,   0,   0,   0,\n",
       "         0,   0,   0,   0,   0,   0,   0,   0,   0,   0,   0,  19,  37,\n",
       "        84, 146, 223, 114,  28,   0,   0,   0,   0,   0,   0,   0,   0,\n",
       "         0,   0,   0,   0,   0,   0,   0,   0,   0,   0,   0,   0,   0,\n",
       "         0,   0,   0,   0,   0,   0,   0,   0,   0,   0,   0,   0,   0,\n",
       "         0,   0,   0,   0,   0,   0,   0,   0,   0,   0,   0,   0,   0,\n",
       "         0,   0,   0,   0,   0,   0,   0,   0,   0,   0,   0,   0,   0,\n",
       "         0,   0,   0,   0,   0,   0,   0,   0,   0,   0,   0,   0,   0,\n",
       "         0,   0,   0,   0,   0,   0,   0,   0,   0,   0,   0,   0,   0,\n",
       "         0,   0,   0,   0,   0,   0,   0,   0,   0,   0,   0,   0,   0,\n",
       "         0,   0,   0,   0,   0,   0,   0,   0,   0,   0,   0,   0,   0,\n",
       "         0,   0,   0,   0,   0,   0,   0,   0,   0,   0,   0,   0,   0,\n",
       "         0,   0,   0,   0,   0,   0,   0,   0,   0,   0,   0,   0,   0,\n",
       "         0,   0,   0,   0,   0,   0,   0,   0,   0,   0,   0,   0,   0,\n",
       "         0,   0,   0,   0])"
      ]
     },
     "execution_count": 6,
     "metadata": {},
     "output_type": "execute_result"
    }
   ],
   "source": [
    "X[digit_index].astype(np.int)"
   ]
  },
  {
   "cell_type": "code",
   "execution_count": 7,
   "metadata": {
    "collapsed": true
   },
   "outputs": [],
   "source": [
    "import matplotlib\n",
    "import matplotlib.pyplot as plt\n",
    "plt.style.use('halverson')\n",
    "%matplotlib inline"
   ]
  },
  {
   "cell_type": "code",
   "execution_count": 8,
   "metadata": {
    "collapsed": false
   },
   "outputs": [
    {
     "data": {
      "text/plain": [
       "(-0.5, 27.5, 27.5, -0.5)"
      ]
     },
     "execution_count": 8,
     "metadata": {},
     "output_type": "execute_result"
    },
    {
     "data": {
      "image/png": "[encoded data removed]",
      "text/plain": [
       "<matplotlib.figure.Figure at 0x12beb0050>"
      ]
     },
     "metadata": {},
     "output_type": "display_data"
    }
   ],
   "source": [
    "plt.imshow(X[digit_index].reshape(28, 28), cmap=matplotlib.cm.binary, interpolation=\"nearest\")\n",
    "plt.axis('off')"
   ]
  },
  {
   "cell_type": "markdown",
   "metadata": {},
   "source": [
    "The data is already divided into a train and test set (at record 60000):"
   ]
  },
  {
   "cell_type": "code",
   "execution_count": 9,
   "metadata": {
    "collapsed": true
   },
   "outputs": [],
   "source": [
    "X_train, X_test, y_train, y_test = X[:60000], X[60000:], y[:60000], y[60000:]"
   ]
  },
  {
   "cell_type": "code",
   "execution_count": 10,
   "metadata": {
    "collapsed": true
   },
   "outputs": [],
   "source": [
    "shuffle_index = np.random.permutation(60000)\n",
    "X_train, y_train = X_train[shuffle_index], y_train[shuffle_index]"
   ]
  },
  {
   "cell_type": "markdown",
   "metadata": {},
   "source": [
    "### Standardize the data"
   ]
  },
  {
   "cell_type": "code",
   "execution_count": 11,
   "metadata": {
    "collapsed": false
   },
   "outputs": [],
   "source": [
    "from sklearn.preprocessing import StandardScaler\n",
    "\n",
    "std_sc = StandardScaler()\n",
    "X_train_std = std_sc.fit_transform(X_train)\n",
    "X_test_std = std_sc.transform(X_test)"
   ]
  },
  {
   "cell_type": "code",
   "execution_count": 12,
   "metadata": {
    "collapsed": false
   },
   "outputs": [
    {
     "data": {
      "text/plain": [
       "(array([  980.,  1135.,  1032.,  1010.,   982.,   892.,   958.,  1028.,\n",
       "          974.,  1009.]),\n",
       " array([-0.5,  0.5,  1.5,  2.5,  3.5,  4.5,  5.5,  6.5,  7.5,  8.5,  9.5]),\n",
       " <a list of 10 Patch objects>)"
      ]
     },
     "execution_count": 12,
     "metadata": {},
     "output_type": "execute_result"
    },
    {
     "data": {
      "image/png": "[encoded data removed]",
      "text/plain": [
       "<matplotlib.figure.Figure at 0x12e7f4d90>"
      ]
     },
     "metadata": {},
     "output_type": "display_data"
    }
   ],
   "source": [
    "plt.hist(y_test, bins=np.linspace(-0.5, 9.5, 11), rwidth=0.8)"
   ]
  },
  {
   "cell_type": "markdown",
   "metadata": {},
   "source": [
    "We see from the histogram above that the classes are not perfectly balanced."
   ]
  },
  {
   "cell_type": "markdown",
   "metadata": {},
   "source": [
    "### Training a binary classifier"
   ]
  },
  {
   "cell_type": "code",
   "execution_count": 13,
   "metadata": {
    "collapsed": true
   },
   "outputs": [],
   "source": [
    "y_train_5 = (y_train == 5)\n",
    "y_test_5 = (y_test == 5)\n",
    "y_train_5 = y_train_5.astype(np.int)\n",
    "y_test_5 = y_test_5.astype(np.int)"
   ]
  },
  {
   "cell_type": "code",
   "execution_count": 14,
   "metadata": {
    "collapsed": false
   },
   "outputs": [
    {
     "data": {
      "text/plain": [
       "array([0, 0, 0, 0, 0, 0, 0, 0, 0, 0, 0, 0, 1, 0, 1])"
      ]
     },
     "execution_count": 14,
     "metadata": {},
     "output_type": "execute_result"
    }
   ],
   "source": [
    "y_train_5[:15]"
   ]
  },
  {
   "cell_type": "code",
   "execution_count": 15,
   "metadata": {
    "collapsed": false
   },
   "outputs": [
    {
     "data": {
      "text/plain": [
       "array([ 4.,  0.,  0.,  3.,  9.,  0.,  3.,  8.,  1.,  6.,  4.,  4.,  5.,\n",
       "        1.,  5.])"
      ]
     },
     "execution_count": 15,
     "metadata": {},
     "output_type": "execute_result"
    }
   ],
   "source": [
    "y_train[:15]"
   ]
  },
  {
   "cell_type": "code",
   "execution_count": 16,
   "metadata": {
    "collapsed": false
   },
   "outputs": [
    {
     "data": {
      "text/plain": [
       "5421"
      ]
     },
     "execution_count": 16,
     "metadata": {},
     "output_type": "execute_result"
    }
   ],
   "source": [
    "y_train_5.sum()"
   ]
  },
  {
   "cell_type": "code",
   "execution_count": 17,
   "metadata": {
    "collapsed": true
   },
   "outputs": [],
   "source": [
    "from sklearn.linear_model import SGDClassifier"
   ]
  },
  {
   "cell_type": "markdown",
   "metadata": {},
   "source": [
    "Below we use the test data which is in general bad practice at this point."
   ]
  },
  {
   "cell_type": "code",
   "execution_count": 18,
   "metadata": {
    "collapsed": false
   },
   "outputs": [],
   "source": [
    "# Defaults to ‘hinge’, which gives a linear SVM\n",
    "model = SGDClassifier(random_state=42)\n",
    "model = model.fit(X_train_std, y_train_5)\n",
    "y_pred = model.predict(X_test_std)"
   ]
  },
  {
   "cell_type": "code",
   "execution_count": 19,
   "metadata": {
    "collapsed": false
   },
   "outputs": [
    {
     "data": {
      "text/plain": [
       "array([-967.04136634])"
      ]
     },
     "execution_count": 19,
     "metadata": {},
     "output_type": "execute_result"
    }
   ],
   "source": [
    "model.intercept_"
   ]
  },
  {
   "cell_type": "code",
   "execution_count": 20,
   "metadata": {
    "collapsed": false
   },
   "outputs": [
    {
     "data": {
      "text/plain": [
       "array([0, 1])"
      ]
     },
     "execution_count": 20,
     "metadata": {},
     "output_type": "execute_result"
    }
   ],
   "source": [
    "model.classes_"
   ]
  },
  {
   "cell_type": "code",
   "execution_count": 21,
   "metadata": {
    "collapsed": false
   },
   "outputs": [
    {
     "data": {
      "text/plain": [
       "array([[  0.00000000e+00,   0.00000000e+00,   0.00000000e+00,\n",
       "          0.00000000e+00,   0.00000000e+00,   0.00000000e+00,\n",
       "          0.00000000e+00,   0.00000000e+00,   0.00000000e+00,\n",
       "          0.00000000e+00,   0.00000000e+00,   0.00000000e+00,\n",
       "         -5.51747852e-01,  -7.18685674e-01,  -5.09841598e-01,\n",
       "         -5.09841598e-01,   0.00000000e+00,   0.00000000e+00,\n",
       "          0.00000000e+00,   0.00000000e+00,   0.00000000e+00,\n",
       "          0.00000000e+00,   0.00000000e+00,   0.00000000e+00,\n",
       "          0.00000000e+00,   0.00000000e+00,   0.00000000e+00,\n",
       "          0.00000000e+00,   0.00000000e+00,   0.00000000e+00,\n",
       "          0.00000000e+00,   0.00000000e+00,  -5.09841598e-01,\n",
       "         -5.88165350e-01,  -5.25566258e+00,  -4.80923842e+00,\n",
       "         -2.08991799e+00,  -2.40837241e+00,  -3.08111611e+00,\n",
       "         -3.63051010e+00,  -3.82053770e+00,  -3.89189080e+00,\n",
       "         -3.99165564e+00,  -4.07719062e+00,  -4.92290743e+00,\n",
       "         -3.54463588e+00,  -2.88722014e+00,  -2.39360752e+00,\n",
       "         -2.09459429e+00,  -1.37327093e+00,  -1.03964305e+00,\n",
       "         -5.47079129e-01,   0.00000000e+00,   0.00000000e+00,\n",
       "          0.00000000e+00,   0.00000000e+00,   0.00000000e+00,\n",
       "          0.00000000e+00,  -5.09841598e-01,  -4.00268400e+00,\n",
       "         -6.52336928e+00,  -3.23951419e+00,  -4.45847831e+00,\n",
       "         -5.15024889e+00,  -5.41000330e+00,  -7.27209767e+00,\n",
       "         -1.00007340e+01,  -1.23621596e+01,  -1.38654696e+01,\n",
       "         -1.53678411e+01,  -1.69548130e+01,  -1.65312697e+01,\n",
       "         -1.38732423e+01,  -1.07919647e+01,  -7.83406483e+00,\n",
       "         -7.10310691e+00,  -6.73605527e+00,  -5.10607430e+00,\n",
       "         -2.14108252e+00,  -9.25043709e-01,  -5.14853060e+00,\n",
       "         -5.95014985e+00,   0.00000000e+00,   0.00000000e+00,\n",
       "          0.00000000e+00,   0.00000000e+00,  -6.70425189e-01,\n",
       "         -5.18833556e+00,   5.16730737e+00,  -2.82906272e+00,\n",
       "         -5.63891413e+00,  -8.49174423e+00,  -9.59559214e+00,\n",
       "         -9.57820125e+00,  -1.09550310e+01,  -1.39573025e+01,\n",
       "         -1.13051349e+01,  -1.34546826e+01,  -1.04032070e+01,\n",
       "         -7.94377039e+00,  -7.06226032e+00,  -4.90853171e+00,\n",
       "         -2.28901318e+00,  -1.97038262e+00,  -6.85319649e-01,\n",
       "          2.52242564e+00,   2.75042966e+00,  -4.24330337e+00,\n",
       "         -3.01649502e+00,   2.41856257e+00,  -4.04525629e+00,\n",
       "          0.00000000e+00,   0.00000000e+00,  -5.09841598e-01,\n",
       "         -9.69528375e-01,  -2.61850070e+00,  -5.21700900e+00,\n",
       "         -6.31124165e+00,  -2.64516508e+00,  -2.87036602e+00,\n",
       "         -9.02096459e+00,  -7.16961256e+00,  -3.91003321e+00,\n",
       "         -5.13137317e+00,  -8.02007404e+00,  -1.18651340e+01,\n",
       "         -6.35073624e+00,  -3.79486233e-01,  -3.15581483e-01,\n",
       "          3.84218427e-01,   3.25336918e+00,  -7.05751091e-01,\n",
       "         -2.80231143e+00,   4.16843535e+00,   2.90452248e+00,\n",
       "         -5.92691231e-02,   5.29835154e+00,   3.24346345e-01,\n",
       "         -1.12513753e+00,  -6.66055847e+00,   0.00000000e+00,\n",
       "          0.00000000e+00,  -1.48633858e+00,   4.26326094e-01,\n",
       "         -6.83520636e+00,  -3.87335665e+00,  -5.29155171e+00,\n",
       "         -3.04502205e+00,  -5.20001705e+00,  -3.08483830e+00,\n",
       "         -2.93185482e+00,  -2.80933465e+00,  -5.07788650e+00,\n",
       "         -5.94729288e+00,  -5.97521609e+00,  -5.63934929e+00,\n",
       "         -2.75531062e+00,  -2.18195025e-01,   3.42937633e+00,\n",
       "          2.58196593e+00,   4.14641825e+00,   1.59727204e+00,\n",
       "          8.61442153e+00,   8.27703906e+00,   1.93589268e+00,\n",
       "         -5.31535357e-01,   1.02310875e+00,   7.73313198e-02,\n",
       "          0.00000000e+00,  -6.95623735e-01,   2.58514896e+00,\n",
       "         -4.54149410e+00,  -5.38032258e+00,  -1.75483329e+00,\n",
       "         -2.89756434e+00,  -4.28137709e+00,  -3.09944721e+00,\n",
       "         -1.10801858e+00,  -3.01802907e+00,  -1.67501861e+00,\n",
       "         -2.20287576e+00,  -1.59822725e+00,  -1.60750255e+00,\n",
       "         -5.38022386e+00,  -3.51919053e+00,  -1.90308405e+00,\n",
       "          1.71136474e+00,   6.29018630e+00,   9.67032117e+00,\n",
       "          6.99161107e+00,   6.44511532e+00,   7.19283583e+00,\n",
       "          8.94005704e+00,   2.57565480e+00,   4.72493599e+00,\n",
       "         -1.59617596e-01,  -5.09841598e-01,  -1.65234316e+00,\n",
       "         -3.01020107e+00,  -7.56614803e+00,  -1.30847982e+01,\n",
       "         -7.23967569e+00,  -5.81394798e+00,  -5.06499008e+00,\n",
       "          5.00886833e-01,  -1.25451727e+00,   4.52981736e+00,\n",
       "          3.21831328e+00,   1.58170664e+00,  -2.44660324e+00,\n",
       "         -3.71529384e+00,  -9.11520283e+00,  -5.64899698e+00,\n",
       "         -1.68790946e+00,  -1.25406654e-01,   4.14620648e+00,\n",
       "          1.17110416e+01,   1.34153645e+01,   9.16238539e+00,\n",
       "          1.07296534e+01,   1.32140788e+01,   1.22405743e+01,\n",
       "         -3.94954810e+00,  -2.96600098e-02,  -6.27604348e-01,\n",
       "         -2.16305807e+00,  -6.48816993e+00,  -1.14438556e+01,\n",
       "         -1.67140155e+01,  -8.56936135e+00,  -5.85340347e+00,\n",
       "         -4.93861830e+00,  -5.53199544e-01,   1.18457603e-01,\n",
       "          5.84539057e+00,   5.88594335e+00,   3.07480544e+00,\n",
       "         -5.66960143e+00,  -9.47769074e+00,  -1.48671407e+01,\n",
       "         -1.40183435e+01,  -9.19948013e+00,  -5.57227744e+00,\n",
       "          1.36229298e+00,   9.56440592e+00,   1.45436070e+01,\n",
       "          1.02048203e+01,   1.50359803e+01,   1.51568608e+01,\n",
       "          9.41477376e+00,   1.62705165e-01,  -1.57108546e+00,\n",
       "         -7.37529816e-01,  -2.63626263e+00,  -7.25356549e+00,\n",
       "         -1.25106899e+01,  -1.40114614e+01,  -8.21544566e+00,\n",
       "         -3.48788226e+00,  -1.58514906e+00,   2.32256565e+00,\n",
       "          4.11634595e+00,   7.48181568e+00,   1.30056807e+01,\n",
       "          8.60766274e+00,   9.17241912e-01,  -9.42388726e+00,\n",
       "         -1.73901113e+01,  -1.92001038e+01,  -1.96592980e+01,\n",
       "         -1.91922540e+01,  -1.68698775e+01,  -5.56310036e+00,\n",
       "          8.21025003e+00,   1.31438360e+01,   1.73588841e+01,\n",
       "          2.45639545e+01,   8.71527127e+00,   4.03673000e+00,\n",
       "          1.86233705e+00,  -7.20931787e-01,  -2.82641237e+00,\n",
       "         -7.10073582e+00,  -1.34028867e+01,  -8.22761023e+00,\n",
       "         -3.79484423e+00,   2.93035510e+00,   6.02265703e+00,\n",
       "          9.35389778e+00,   1.10040307e+01,   1.34103041e+01,\n",
       "          1.36883226e+01,   1.82477159e+01,   1.43313259e+01,\n",
       "          3.65166403e+00,  -3.07677371e+00,  -1.01488184e+01,\n",
       "         -2.06586901e+01,  -3.06318835e+01,  -3.14654682e+01,\n",
       "         -2.13754155e+01,  -1.02301186e+01,  -4.62572542e+00,\n",
       "          6.21852256e+00,   2.36001340e+01,   2.41766073e+01,\n",
       "          3.26572315e+00,  -2.68304394e+00,  -8.81079304e-01,\n",
       "         -2.59399047e+00,  -6.83766526e+00,  -1.22964517e+01,\n",
       "         -5.10846162e+00,   9.38004119e-01,   1.00387296e+01,\n",
       "          7.24507864e+00,   8.23370771e+00,   1.01911560e+01,\n",
       "          1.46518722e+01,   1.52863396e+01,   1.88884691e+01,\n",
       "          2.07031171e+01,   1.14696466e+01,   5.29046282e+00,\n",
       "         -3.17161500e+00,  -1.92787592e+01,  -2.83325370e+01,\n",
       "         -3.19112572e+01,  -3.16490043e+01,  -3.26136200e+01,\n",
       "         -3.09205915e+01,  -1.69584898e+01,  -5.47167626e-01,\n",
       "          2.56502267e+01,   1.48005580e+00,   1.22557258e-01,\n",
       "         -6.62429328e-01,  -2.02791854e+00,  -5.80646990e+00,\n",
       "         -6.05769534e+00,  -4.69842750e-01,   2.02977387e+00,\n",
       "          8.42348599e+00,   4.74356489e+00,   3.63865445e+00,\n",
       "          3.68012922e+00,   1.25995193e+01,   1.32243487e+01,\n",
       "          1.91778035e+01,   1.78193054e+01,   9.36755203e+00,\n",
       "          3.72401119e+00,  -1.54584925e+01,  -2.91343452e+01,\n",
       "         -2.86987618e+01,  -2.06661469e+01,  -1.93055196e+01,\n",
       "         -3.14584216e+01,  -4.02213958e+01,  -4.09082700e+01,\n",
       "         -3.57944702e+01,  -9.44041920e+00,   1.38009488e+01,\n",
       "         -4.80564111e+00,  -5.09841598e-01,  -1.36553127e+00,\n",
       "         -3.55696911e+00,  -2.93773812e+00,   2.85708504e+00,\n",
       "          3.26591298e+00,   1.84175485e+00,   1.99249116e+00,\n",
       "          1.08303994e+00,   4.88283030e+00,   1.19962695e+01,\n",
       "          1.49287826e+01,   2.06579338e+01,   1.18831403e+01,\n",
       "         -2.82335750e-02,  -1.38697611e+01,  -3.00423467e+01,\n",
       "         -3.14462595e+01,  -2.07804586e+01,  -8.02301352e+00,\n",
       "         -2.45462192e+00,  -1.35039898e+01,  -2.38796129e+01,\n",
       "         -3.45399366e+01,  -3.00505892e+01,  -1.63628685e+01,\n",
       "          8.98765004e-01,  -9.24682574e-01,   7.62809293e+00,\n",
       "         -9.97617616e-01,  -2.28493672e+00,  -2.70519661e+00,\n",
       "          2.75408523e-01,  -2.05548600e+00,  -7.22729961e+00,\n",
       "         -7.59542528e+00,  -2.29814300e+00,   8.43305282e+00,\n",
       "          1.56750572e+01,   1.52407540e+01,   1.66706591e+01,\n",
       "          3.75181412e+00,  -8.22528016e+00,  -2.09607030e+01,\n",
       "         -2.49296841e+01,  -2.24723655e+01,  -1.17257343e+01,\n",
       "         -6.02594991e+00,  -7.94501276e-01,  -6.04147441e+00,\n",
       "         -9.36283234e+00,  -1.51840855e+01,  -1.37449875e+01,\n",
       "         -1.53167801e+01,  -3.90135978e+00,  -8.72303441e-01,\n",
       "          5.88760554e+00,  -5.23193098e-01,  -2.32887138e+00,\n",
       "         -3.64582967e+00,  -2.00880016e+00,  -9.52958760e+00,\n",
       "         -1.47105927e+01,  -1.60295358e+01,  -6.90013110e+00,\n",
       "          2.33997252e+00,   9.62026011e+00,   1.47204235e+01,\n",
       "          1.12947686e+01,  -8.73662849e+00,  -2.50150244e+01,\n",
       "         -2.72367801e+01,  -2.13247086e+01,  -1.61459705e+01,\n",
       "         -2.25696643e+00,  -3.52243193e+00,  -2.11421218e+00,\n",
       "         -5.87572977e+00,  -5.16786762e+00,  -2.64496486e+00,\n",
       "         -1.99420803e+00,  -7.00003924e+00,  -5.33347329e+00,\n",
       "         -1.13772448e+00,  -8.64777613e+00,  -8.37632538e-01,\n",
       "         -2.69767621e+00,  -9.60677915e-01,  -5.57392214e-01,\n",
       "         -5.70314190e+00,  -1.44930404e+01,  -2.32513452e+01,\n",
       "         -2.01743718e+01,  -1.46305897e+01,  -1.02024187e+01,\n",
       "         -6.44484371e+00,  -1.11900365e+01,  -2.45946504e+01,\n",
       "         -3.21927909e+01,  -2.34804894e+01,  -1.31887346e+01,\n",
       "         -5.96584026e+00,  -2.24991111e+00,  -3.03697480e+00,\n",
       "          1.18790159e+00,  -4.03283160e+00,  -6.66432952e-01,\n",
       "          3.56900696e+00,   2.11410965e+00,  -7.80851043e+00,\n",
       "         -7.01042266e+00,  -1.11642015e+00,   0.00000000e+00,\n",
       "         -1.11547615e+00,  -3.54779481e+00,   9.20283920e-04,\n",
       "          1.30401213e+00,   3.06523992e+00,   2.71710259e+00,\n",
       "         -1.34529854e+01,  -1.80607767e+01,  -2.29984762e+01,\n",
       "         -2.57636126e+01,  -2.56360425e+01,  -2.93277729e+01,\n",
       "         -3.15324777e+01,  -2.69325193e+01,  -1.31540393e+01,\n",
       "         -2.99601729e+00,   2.31989045e+00,   2.68100545e+00,\n",
       "         -2.75011755e+00,   1.70440868e+00,  -7.94844834e-01,\n",
       "          2.38647356e+00,   5.60206617e+00,   4.33933949e+00,\n",
       "         -1.02020768e+01,  -3.58974137e+00,  -1.33761061e+00,\n",
       "         -6.93373544e+00,  -7.93278286e-01,  -5.03817012e+00,\n",
       "         -2.46886712e+00,   4.65296142e+00,   6.17977705e+00,\n",
       "          1.16971484e+01,   1.31623754e+00,  -7.03929037e+00,\n",
       "         -1.53503475e+01,  -2.13954771e+01,  -1.89104111e+01,\n",
       "         -1.68513342e+01,  -1.64588192e+01,  -1.05309093e+01,\n",
       "         -3.49822863e+00,   6.48532094e-01,   2.49695883e-01,\n",
       "         -5.08585238e+00,   7.16753802e-01,   1.82465641e+00,\n",
       "          8.27462636e-01,   5.47315052e+00,   3.75839109e+00,\n",
       "          4.23351262e+00,  -9.75614653e+00,  -1.93865321e+00,\n",
       "         -1.21892088e+00,  -5.09841598e-01,  -1.40890069e+00,\n",
       "          2.89126190e+00,  -3.27450287e+00,   4.12155946e+00,\n",
       "          3.52339128e+00,   4.20141972e+00,   3.91293380e+00,\n",
       "          7.52977216e+00,   1.44811640e+00,  -2.55989969e+00,\n",
       "         -2.41687356e+00,  -4.80047291e+00,  -9.18945771e+00,\n",
       "         -6.37682106e+00,  -4.05728668e-01,  -4.01387558e+00,\n",
       "         -4.98038634e+00,  -1.84008628e+00,   9.71510571e-01,\n",
       "          1.66347386e+00,   2.51161477e+00,   5.86981116e+00,\n",
       "          5.43158681e+00,   3.52633314e+00,  -5.17585659e+00,\n",
       "         -3.34043218e+00,  -1.00229334e+00,   0.00000000e+00,\n",
       "         -1.29156483e+00,   1.06531098e+00,  -2.90068298e+00,\n",
       "          1.35779627e-01,   2.49591171e+00,  -2.61546224e+00,\n",
       "         -1.97903761e+00,   3.59836100e+00,   5.31511482e+00,\n",
       "          3.01514181e+00,   4.28287008e+00,  -3.64171011e+00,\n",
       "         -6.75923097e+00,  -6.43598368e+00,  -4.16154715e+00,\n",
       "          9.14248723e-01,   5.44703739e-01,   1.69860816e+00,\n",
       "          2.32408459e+00,   2.18620770e+00,   3.36629143e+00,\n",
       "          9.32434999e+00,   3.88503488e+00,  -1.52688267e+00,\n",
       "         -9.38048608e-01,  -2.85616008e+00,  -7.20995572e-01,\n",
       "         -5.09841598e-01,  -1.25002820e+00,  -5.00557830e+00,\n",
       "         -3.47591703e+00,  -9.54847790e-01,  -9.53558983e-01,\n",
       "         -1.27962561e+00,  -5.53345537e-01,   2.87319365e+00,\n",
       "          3.14793926e+00,   3.42307500e+00,   3.36875841e+00,\n",
       "         -8.69078536e-01,  -2.13420327e+00,   1.50512079e-01,\n",
       "          3.27906378e+00,   3.57123566e+00,   4.17312924e+00,\n",
       "          1.05422271e+00,   4.78161660e+00,   9.88873515e+00,\n",
       "          8.76791393e+00,   6.49123543e+00,   2.87445065e+00,\n",
       "         -1.39600868e+00,   3.21661308e+00,  -2.74054928e+00,\n",
       "         -8.64777613e+00,  -5.09841598e-01,  -7.49917464e-01,\n",
       "         -5.34067644e+00,  -3.54175259e+00,  -5.83768899e-01,\n",
       "         -3.61750699e+00,  -5.25807571e+00,  -1.79321779e+00,\n",
       "         -1.88576868e+00,  -2.70094283e-01,   6.54245427e-01,\n",
       "          3.65335247e+00,   4.61783458e+00,   3.91200904e+00,\n",
       "          2.84918232e+00,   3.96996004e+00,   7.14622735e+00,\n",
       "          3.06635618e+00,   5.22373164e+00,   6.75333970e+00,\n",
       "          5.35795666e+00,   2.69474137e+00,   2.58039646e+00,\n",
       "          2.58692280e+00,  -4.43759258e-01,   3.88886252e+00,\n",
       "          1.18118844e+00,  -8.64777613e+00,   0.00000000e+00,\n",
       "          0.00000000e+00,  -1.55434631e-01,  -5.40036925e-01,\n",
       "          2.22924280e+00,   5.70497873e+00,  -1.10931511e+00,\n",
       "         -6.83066511e+00,   9.40180238e-01,   1.70037385e+00,\n",
       "          1.49408406e+00,  -9.28669545e-01,  -1.90836881e+00,\n",
       "         -3.19967054e+00,   4.50020319e-01,   2.96749108e+00,\n",
       "          2.85120128e+00,  -2.87576628e+00,  -4.21336496e+00,\n",
       "         -2.89091839e+00,   7.34154475e-01,  -5.41783889e-02,\n",
       "          1.31886232e+00,  -3.41113940e-01,  -3.18402448e-01,\n",
       "          7.31829879e+00,   1.82745389e+00,   0.00000000e+00,\n",
       "          0.00000000e+00,   0.00000000e+00,  -1.29288810e+00,\n",
       "         -2.84787991e+00,  -5.35642687e+00,   1.99659790e+00,\n",
       "         -8.05286230e-01,   2.27407286e+00,  -2.49936605e-01,\n",
       "          4.48021650e+00,  -2.47236165e+00,  -2.87589685e+00,\n",
       "         -2.59701741e+00,   1.32367874e+00,   3.88999129e+00,\n",
       "          3.24942378e+00,  -1.84853760e+00,  -1.14724645e-01,\n",
       "          1.42841087e+00,  -7.60647832e-01,  -2.50065239e-01,\n",
       "         -1.33738384e+00,   5.62066207e-01,  -3.30153473e+00,\n",
       "         -2.52702467e+00,  -6.32929423e+00,  -2.06369328e+00,\n",
       "          0.00000000e+00,   0.00000000e+00,   0.00000000e+00,\n",
       "         -8.32265485e-01,   1.43695144e+00,   1.97123839e+00,\n",
       "         -3.66967228e+00,  -2.24649735e+00,  -3.54510297e+00,\n",
       "         -4.68541296e+00,  -3.14484032e+00,  -4.57434347e+00,\n",
       "         -3.80564486e+00,  -1.08988993e+00,   2.32303482e-01,\n",
       "         -2.89956798e+00,  -7.40629621e-01,  -1.06744703e+00,\n",
       "          9.44652313e-01,  -1.17394515e+00,  -4.16807421e+00,\n",
       "         -5.87265830e+00,  -1.78885927e+00,   6.21291482e+00,\n",
       "          2.95091976e+00,   7.84496466e+00,  -7.08755705e-01,\n",
       "         -5.09841598e-01,   0.00000000e+00,   0.00000000e+00,\n",
       "          0.00000000e+00,   0.00000000e+00,  -5.09841598e-01,\n",
       "         -1.88842220e+00,  -4.26903630e+00,  -5.63972672e+00,\n",
       "         -8.59730387e+00,  -1.04471042e+01,  -1.19288657e+01,\n",
       "         -1.18897002e+01,  -1.19649546e+01,  -1.25126394e+01,\n",
       "         -1.47688930e+01,  -1.47591018e+01,  -1.02450780e+01,\n",
       "         -6.82989869e+00,  -4.92811863e+00,  -6.73500374e+00,\n",
       "         -5.94152499e+00,  -3.76066066e+00,  -2.07446008e+00,\n",
       "         -2.08122841e-01,  -4.22111519e+00,  -8.65289326e+00,\n",
       "         -5.09841598e-01,   0.00000000e+00,   0.00000000e+00,\n",
       "          0.00000000e+00,   0.00000000e+00,   0.00000000e+00,\n",
       "          0.00000000e+00,  -7.23099581e-01,  -1.13068172e+00,\n",
       "         -1.99882591e+00,  -2.86950821e+00,  -4.66735450e+00,\n",
       "         -5.33750927e+00,  -3.11473533e+00,  -1.40747721e+00,\n",
       "         -3.15559862e+00,  -6.00759425e+00,  -8.89300664e+00,\n",
       "         -8.01592553e+00,  -7.30218855e+00,  -5.32409542e+00,\n",
       "         -4.36796301e+00,  -3.31751884e+00,  -2.00677404e+00,\n",
       "         -1.42770077e+00,  -1.12486819e+00,  -7.20630659e-01,\n",
       "          0.00000000e+00,   0.00000000e+00,   0.00000000e+00,\n",
       "          0.00000000e+00]])"
      ]
     },
     "execution_count": 21,
     "metadata": {},
     "output_type": "execute_result"
    }
   ],
   "source": [
    "model.coef_"
   ]
  },
  {
   "cell_type": "code",
   "execution_count": 22,
   "metadata": {
    "collapsed": false
   },
   "outputs": [
    {
     "data": {
      "text/plain": [
       "300001.0"
      ]
     },
     "execution_count": 22,
     "metadata": {},
     "output_type": "execute_result"
    }
   ],
   "source": [
    "model.t_"
   ]
  },
  {
   "cell_type": "code",
   "execution_count": 23,
   "metadata": {
    "collapsed": false
   },
   "outputs": [],
   "source": [
    "from sklearn.metrics import accuracy_score"
   ]
  },
  {
   "cell_type": "code",
   "execution_count": 24,
   "metadata": {
    "collapsed": false
   },
   "outputs": [
    {
     "data": {
      "text/plain": [
       "0.97040000000000004"
      ]
     },
     "execution_count": 24,
     "metadata": {},
     "output_type": "execute_result"
    }
   ],
   "source": [
    "accuracy_score(y_pred, y_test_5)"
   ]
  },
  {
   "cell_type": "markdown",
   "metadata": {},
   "source": [
    "We see that the accuracy appears high. It is important to note that only about 10% of the targets are fives so accuracy is not the best metric."
   ]
  },
  {
   "cell_type": "code",
   "execution_count": 25,
   "metadata": {
    "collapsed": false
   },
   "outputs": [
    {
     "data": {
      "text/plain": [
       "array([0])"
      ]
     },
     "execution_count": 25,
     "metadata": {},
     "output_type": "execute_result"
    }
   ],
   "source": [
    "# a prediction of 0 means not 5\n",
    "model.predict(std_sc.transform([X_train[digit_index]]))"
   ]
  },
  {
   "cell_type": "code",
   "execution_count": 26,
   "metadata": {
    "collapsed": false
   },
   "outputs": [
    {
     "data": {
      "text/plain": [
       "array([0])"
      ]
     },
     "execution_count": 26,
     "metadata": {},
     "output_type": "execute_result"
    }
   ],
   "source": [
    "# a prediction of 0 means not 5\n",
    "model.predict([X_train[digit_index]])"
   ]
  },
  {
   "cell_type": "code",
   "execution_count": 27,
   "metadata": {
    "collapsed": false
   },
   "outputs": [
    {
     "data": {
      "text/plain": [
       "6.0"
      ]
     },
     "execution_count": 27,
     "metadata": {},
     "output_type": "execute_result"
    }
   ],
   "source": [
    "y_train[digit_index]"
   ]
  },
  {
   "cell_type": "markdown",
   "metadata": {},
   "source": [
    "Now we do things more properly as opposed to the quick test above. The cross_val_score is nice because it doesn't touch the test data."
   ]
  },
  {
   "cell_type": "code",
   "execution_count": 28,
   "metadata": {
    "collapsed": false
   },
   "outputs": [
    {
     "data": {
      "text/plain": [
       "array([ 0.96750271,  0.96883333,  0.96725   ,  0.96791667,  0.96708059])"
      ]
     },
     "execution_count": 28,
     "metadata": {},
     "output_type": "execute_result"
    }
   ],
   "source": [
    "# For integer/None inputs, if the estimator is a classifier and y is either binary or multiclass,\n",
    "# StratifiedKFold is used. In all other cases, KFold is used.\n",
    "from sklearn.model_selection import cross_val_score\n",
    "\n",
    "y_train_scores = cross_val_score(SGDClassifier(random_state=42), X_train_std, y_train_5, cv=5, scoring='accuracy')\n",
    "y_train_scores"
   ]
  },
  {
   "cell_type": "markdown",
   "metadata": {},
   "source": [
    "The cross_val_predict method gives the individual prediction for each case when it appears in the validation set, which happens only once during the cross validation procedure."
   ]
  },
  {
   "cell_type": "code",
   "execution_count": 29,
   "metadata": {
    "collapsed": false
   },
   "outputs": [
    {
     "data": {
      "text/plain": [
       "array([ -901.57501766, -1470.53222362,  -750.68474979, ..., -1720.43066801,\n",
       "        -141.29681024,  -843.37099454])"
      ]
     },
     "execution_count": 29,
     "metadata": {},
     "output_type": "execute_result"
    }
   ],
   "source": [
    "from sklearn.model_selection import cross_val_predict\n",
    "\n",
    "# the decision function scores\n",
    "y_train_pred = cross_val_predict(SGDClassifier(random_state=42), X_train_std, y_train_5, cv=5, method='decision_function')\n",
    "y_train_pred"
   ]
  },
  {
   "cell_type": "code",
   "execution_count": 30,
   "metadata": {
    "collapsed": false
   },
   "outputs": [
    {
     "data": {
      "text/plain": [
       "array([0, 0, 0, ..., 0, 0, 0])"
      ]
     },
     "execution_count": 30,
     "metadata": {},
     "output_type": "execute_result"
    }
   ],
   "source": [
    "# the actual predictions\n",
    "y_train_predict = cross_val_predict(SGDClassifier(random_state=42), X_train, y_train_5, cv=5)\n",
    "y_train_predict"
   ]
  },
  {
   "cell_type": "code",
   "execution_count": 31,
   "metadata": {
    "collapsed": true
   },
   "outputs": [],
   "source": [
    "from sklearn.metrics import confusion_matrix"
   ]
  },
  {
   "cell_type": "markdown",
   "metadata": {},
   "source": [
    "Still working with the training set here:"
   ]
  },
  {
   "cell_type": "code",
   "execution_count": 32,
   "metadata": {
    "collapsed": false
   },
   "outputs": [
    {
     "data": {
      "text/plain": [
       "array([[53461,  1118],\n",
       "       [ 1335,  4086]])"
      ]
     },
     "execution_count": 32,
     "metadata": {},
     "output_type": "execute_result"
    }
   ],
   "source": [
    "confusion_matrix(y_true=y_train_5, y_pred=y_train_predict)"
   ]
  },
  {
   "cell_type": "code",
   "execution_count": 33,
   "metadata": {
    "collapsed": false
   },
   "outputs": [
    {
     "data": {
      "text/plain": [
       "0.78516525749423516"
      ]
     },
     "execution_count": 33,
     "metadata": {},
     "output_type": "execute_result"
    }
   ],
   "source": [
    "from sklearn.metrics import precision_score, recall_score, f1_score\n",
    "\n",
    "precision_score(y_train_5, y_train_predict)"
   ]
  },
  {
   "cell_type": "code",
   "execution_count": 34,
   "metadata": {
    "collapsed": false
   },
   "outputs": [
    {
     "data": {
      "text/plain": [
       "0.75373547315993361"
      ]
     },
     "execution_count": 34,
     "metadata": {},
     "output_type": "execute_result"
    }
   ],
   "source": [
    "recall_score(y_train_5, y_train_predict)"
   ]
  },
  {
   "cell_type": "code",
   "execution_count": 35,
   "metadata": {
    "collapsed": false
   },
   "outputs": [
    {
     "data": {
      "text/plain": [
       "0.76912941176470595"
      ]
     },
     "execution_count": 35,
     "metadata": {},
     "output_type": "execute_result"
    }
   ],
   "source": [
    "f1_score(y_train_5, y_train_predict)"
   ]
  },
  {
   "cell_type": "code",
   "execution_count": 36,
   "metadata": {
    "collapsed": false
   },
   "outputs": [
    {
     "data": {
      "text/plain": [
       "<matplotlib.text.Text at 0x1603167d0>"
      ]
     },
     "execution_count": 36,
     "metadata": {},
     "output_type": "execute_result"
    },
    {
     "data": {
      "image/png": "[encoded data removed]",
      "text/plain": [
       "<matplotlib.figure.Figure at 0x12e828310>"
      ]
     },
     "metadata": {},
     "output_type": "display_data"
    }
   ],
   "source": [
    "from sklearn.metrics import precision_recall_curve\n",
    "\n",
    "precision, recall, thresholds = precision_recall_curve(y_train_5, y_train_pred)\n",
    "plt.plot(precision, recall)\n",
    "plt.xlabel('precision')\n",
    "plt.ylabel('recall')"
   ]
  },
  {
   "cell_type": "code",
   "execution_count": 37,
   "metadata": {
    "collapsed": false
   },
   "outputs": [
    {
     "data": {
      "text/plain": [
       "<matplotlib.legend.Legend at 0x160592c10>"
      ]
     },
     "execution_count": 37,
     "metadata": {},
     "output_type": "execute_result"
    },
    {
     "data": {
      "image/png": "[encoded data removed]",
      "text/plain": [
       "<matplotlib.figure.Figure at 0x16019dc90>"
      ]
     },
     "metadata": {},
     "output_type": "display_data"
    }
   ],
   "source": [
    "plt.plot(thresholds, recall[:-1], label='recall')\n",
    "plt.plot(thresholds, precision[:-1], label='precision')\n",
    "plt.plot(thresholds, 2.0 / (1.0 / recall[:-1] + 1.0 / precision[:-1]), label='f1 score')\n",
    "plt.xlabel('threshold')\n",
    "plt.ylabel('metric')\n",
    "plt.legend()"
   ]
  },
  {
   "cell_type": "code",
   "execution_count": 38,
   "metadata": {
    "collapsed": false
   },
   "outputs": [
    {
     "data": {
      "text/plain": [
       "<matplotlib.text.Text at 0x1605b4a50>"
      ]
     },
     "execution_count": 38,
     "metadata": {},
     "output_type": "execute_result"
    },
    {
     "data": {
      "image/png": "[encoded data removed]",
      "text/plain": [
       "<matplotlib.figure.Figure at 0x1608c0e90>"
      ]
     },
     "metadata": {},
     "output_type": "display_data"
    }
   ],
   "source": [
    "from sklearn.metrics import roc_curve\n",
    "\n",
    "fpr, tpr, thresholds = roc_curve(y_train_5, y_train_pred)\n",
    "plt.plot(fpr, tpr)\n",
    "plt.plot([0, 1], [0, 1], 'k:')\n",
    "plt.xlabel('FPR')\n",
    "plt.ylabel('TPR')"
   ]
  },
  {
   "cell_type": "markdown",
   "metadata": {},
   "source": [
    "That concludes what we will do for binary classification. Let's move on the entire data set where we consider multiclass classification."
   ]
  },
  {
   "cell_type": "markdown",
   "metadata": {},
   "source": [
    "### Multiclass classification"
   ]
  },
  {
   "cell_type": "code",
   "execution_count": 39,
   "metadata": {
    "collapsed": false
   },
   "outputs": [
    {
     "data": {
      "text/plain": [
       "0.91005000000000003"
      ]
     },
     "execution_count": 39,
     "metadata": {},
     "output_type": "execute_result"
    }
   ],
   "source": [
    "# now y_train instead of y_train_5\n",
    "y_train_predict = cross_val_predict(SGDClassifier(random_state=42), X_train_std, y_train, cv=5)\n",
    "accuracy_score(y_train, y_train_predict)"
   ]
  },
  {
   "cell_type": "code",
   "execution_count": 40,
   "metadata": {
    "collapsed": false
   },
   "outputs": [
    {
     "data": {
      "text/plain": [
       "array([[5739,    2,   19,   10,    9,   43,   43,   10,   44,    4],\n",
       "       [   1, 6469,   43,   29,    6,   38,    9,   10,  123,   14],\n",
       "       [  54,   32, 5326,  104,   79,   22,  100,   60,  166,   15],\n",
       "       [  46,   42,  141, 5345,    1,  217,   37,   58,  140,  104],\n",
       "       [  19,   24,   43,    9, 5388,    8,   54,   31,   90,  176],\n",
       "       [  72,   39,   38,  193,   73, 4574,  115,   30,  193,   94],\n",
       "       [  34,   25,   45,    2,   40,   87, 5629,    7,   49,    0],\n",
       "       [  19,   18,   72,   25,   56,   11,    6, 5829,   16,  213],\n",
       "       [  46,  146,   73,  150,   12,  136,   56,   23, 5072,  137],\n",
       "       [  39,   36,   28,   91,  176,   33,    2,  223,   89, 5232]])"
      ]
     },
     "execution_count": 40,
     "metadata": {},
     "output_type": "execute_result"
    }
   ],
   "source": [
    "cm = confusion_matrix(y_train, y_train_predict)\n",
    "cm"
   ]
  },
  {
   "cell_type": "code",
   "execution_count": 41,
   "metadata": {
    "collapsed": false
   },
   "outputs": [
    {
     "data": {
      "text/plain": [
       "<matplotlib.image.AxesImage at 0x160a4cd90>"
      ]
     },
     "execution_count": 41,
     "metadata": {},
     "output_type": "execute_result"
    },
    {
     "data": {
      "image/png": "[encoded data removed]",
      "text/plain": [
       "<matplotlib.figure.Figure at 0x161c085d0>"
      ]
     },
     "metadata": {},
     "output_type": "display_data"
    }
   ],
   "source": [
    "row_sums = cm.sum(axis=1, keepdims=True)\n",
    "norm_conf_mx = cm / row_sums.astype(np.float64)\n",
    "np.fill_diagonal(norm_conf_mx, 0)\n",
    "plt.matshow(norm_conf_mx, cmap=plt.cm.gray)"
   ]
  },
  {
   "cell_type": "code",
   "execution_count": 42,
   "metadata": {
    "collapsed": true
   },
   "outputs": [],
   "source": [
    "from sklearn.decomposition import PCA\n",
    "\n",
    "pca = PCA(n_components=0.8)\n",
    "X_train_std_pca = pca.fit_transform(X_train_std)"
   ]
  },
  {
   "cell_type": "code",
   "execution_count": 43,
   "metadata": {
    "collapsed": false
   },
   "outputs": [
    {
     "data": {
      "text/plain": [
       "(60000, 149)"
      ]
     },
     "execution_count": 43,
     "metadata": {},
     "output_type": "execute_result"
    }
   ],
   "source": [
    "X_train_std_pca.shape"
   ]
  },
  {
   "cell_type": "code",
   "execution_count": 44,
   "metadata": {
    "collapsed": false
   },
   "outputs": [
    {
     "data": {
      "text/plain": [
       "0.90549999999999997"
      ]
     },
     "execution_count": 44,
     "metadata": {},
     "output_type": "execute_result"
    }
   ],
   "source": [
    "y_train_predict = cross_val_predict(SGDClassifier(random_state=42), X_train_std_pca, y_train, cv=5)\n",
    "accuracy_score(y_train, y_train_predict)"
   ]
  },
  {
   "cell_type": "markdown",
   "metadata": {},
   "source": [
    "We see that the accuracy has not changed very much even though we have reduced the dimensionality of the data by 149/784. Next we try a different model:"
   ]
  },
  {
   "cell_type": "code",
   "execution_count": 45,
   "metadata": {
    "collapsed": false
   },
   "outputs": [
    {
     "data": {
      "text/plain": [
       "0.91090000000000004"
      ]
     },
     "execution_count": 45,
     "metadata": {},
     "output_type": "execute_result"
    }
   ],
   "source": [
    "y_train_predict = cross_val_predict(SGDClassifier(loss='log'), X_train_std, y_train, cv=5)\n",
    "accuracy_score(y_train, y_train_predict)"
   ]
  },
  {
   "cell_type": "markdown",
   "metadata": {},
   "source": [
    "Let's put everything together in a pipeline:"
   ]
  },
  {
   "cell_type": "code",
   "execution_count": 46,
   "metadata": {
    "collapsed": false
   },
   "outputs": [
    {
     "data": {
      "text/plain": [
       "SGDClassifier(alpha=0.0001, average=False, class_weight=None, epsilon=0.1,\n",
       "       eta0=0.0, fit_intercept=True, l1_ratio=0.15,\n",
       "       learning_rate='optimal', loss='hinge', n_iter=5, n_jobs=1,\n",
       "       penalty='l2', power_t=0.5, random_state=None, shuffle=True,\n",
       "       verbose=0, warm_start=False)"
      ]
     },
     "execution_count": 46,
     "metadata": {},
     "output_type": "execute_result"
    }
   ],
   "source": [
    "from sklearn.pipeline import Pipeline\n",
    "\n",
    "pipeline = Pipeline([('std', StandardScaler()), ('pca', PCA(n_components=0.8))])\n",
    "X_train_prepared = pipeline.fit_transform(X_train)\n",
    "sgd_clf = SGDClassifier()\n",
    "sgd_clf.fit(X_train_prepared, y_train)"
   ]
  },
  {
   "cell_type": "code",
   "execution_count": 47,
   "metadata": {
    "collapsed": false
   },
   "outputs": [
    {
     "data": {
      "text/plain": [
       "0.90580000000000005"
      ]
     },
     "execution_count": 47,
     "metadata": {},
     "output_type": "execute_result"
    }
   ],
   "source": [
    "X_test_prepared = pipeline.transform(X_test)\n",
    "accuracy_score(y_test, sgd_clf.predict(X_test_prepared))"
   ]
  },
  {
   "cell_type": "markdown",
   "metadata": {},
   "source": [
    "Previous notebooks have included the model into the pipeline which makes no sense because the parameters found in the standard scaler, for instance, should be used to treat the test data."
   ]
  },
  {
   "cell_type": "code",
   "execution_count": 48,
   "metadata": {
    "collapsed": false
   },
   "outputs": [
    {
     "data": {
      "text/plain": [
       "RandomForestClassifier(bootstrap=True, class_weight=None, criterion='gini',\n",
       "            max_depth=None, max_features='auto', max_leaf_nodes=None,\n",
       "            min_impurity_split=1e-07, min_samples_leaf=1,\n",
       "            min_samples_split=2, min_weight_fraction_leaf=0.0,\n",
       "            n_estimators=100, n_jobs=1, oob_score=False, random_state=None,\n",
       "            verbose=0, warm_start=False)"
      ]
     },
     "execution_count": 48,
     "metadata": {},
     "output_type": "execute_result"
    }
   ],
   "source": [
    "from sklearn.ensemble import RandomForestClassifier\n",
    "\n",
    "rf_clf = RandomForestClassifier(n_estimators=100)\n",
    "rf_clf.fit(X_train_prepared, y_train)"
   ]
  },
  {
   "cell_type": "code",
   "execution_count": 49,
   "metadata": {
    "collapsed": false
   },
   "outputs": [
    {
     "data": {
      "text/plain": [
       "0.94289999999999996"
      ]
     },
     "execution_count": 49,
     "metadata": {},
     "output_type": "execute_result"
    }
   ],
   "source": [
    "X_test_prepared = pipeline.transform(X_test)\n",
    "accuracy_score(y_test, rf_clf.predict(X_test_prepared))"
   ]
  },
  {
   "cell_type": "markdown",
   "metadata": {},
   "source": [
    "We see by going to RF we get an immediate improvement. One could try more trees in the ensemble or do a better job with the dimensionality reduction. For instance, let's try using LLE to reduce dimensions (we only consider the first 5000 digits to speed up the computations):"
   ]
  },
  {
   "cell_type": "code",
   "execution_count": 50,
   "metadata": {
    "collapsed": false
   },
   "outputs": [
    {
     "data": {
      "text/plain": [
       "RandomForestClassifier(bootstrap=True, class_weight=None, criterion='gini',\n",
       "            max_depth=None, max_features='auto', max_leaf_nodes=None,\n",
       "            min_impurity_split=1e-07, min_samples_leaf=1,\n",
       "            min_samples_split=2, min_weight_fraction_leaf=0.0,\n",
       "            n_estimators=100, n_jobs=1, oob_score=False, random_state=None,\n",
       "            verbose=0, warm_start=False)"
      ]
     },
     "execution_count": 50,
     "metadata": {},
     "output_type": "execute_result"
    }
   ],
   "source": [
    "from sklearn.manifold import LocallyLinearEmbedding\n",
    "\n",
    "pipeline = Pipeline([('std', StandardScaler()), ('lle', LocallyLinearEmbedding(n_neighbors=10, n_components=100))])\n",
    "X_train_prepared = pipeline.fit_transform(X_train[:5000])\n",
    "rf_clf = RandomForestClassifier(n_estimators=100)\n",
    "rf_clf.fit(X_train_prepared, y_train[:5000])"
   ]
  },
  {
   "cell_type": "code",
   "execution_count": 51,
   "metadata": {
    "collapsed": false
   },
   "outputs": [
    {
     "data": {
      "text/plain": [
       "0.89180000000000004"
      ]
     },
     "execution_count": 51,
     "metadata": {},
     "output_type": "execute_result"
    }
   ],
   "source": [
    "X_test_prepared = pipeline.transform(X_test)\n",
    "accuracy_score(y_test, rf_clf.predict(X_test_prepared))"
   ]
  },
  {
   "cell_type": "markdown",
   "metadata": {},
   "source": [
    "#### Pipeline with GridSearchCV"
   ]
  },
  {
   "cell_type": "code",
   "execution_count": 52,
   "metadata": {
    "collapsed": false,
    "scrolled": false
   },
   "outputs": [
    {
     "data": {
      "text/plain": [
       "Pipeline(steps=[('std_sc', StandardScaler(copy=True, with_mean=True, with_std=True)), ('pca', PCA(copy=True, iterated_power='auto', n_components=None, random_state=None,\n",
       "  svd_solver='auto', tol=0.0, whiten=False)), ('rf', RandomForestClassifier(bootstrap=True, class_weight=None, criterion='gini',\n",
       "          ...imators=10, n_jobs=1, oob_score=False, random_state=None,\n",
       "            verbose=0, warm_start=False))])"
      ]
     },
     "execution_count": 52,
     "metadata": {},
     "output_type": "execute_result"
    }
   ],
   "source": [
    "from sklearn.model_selection import GridSearchCV\n",
    "\n",
    "pline = Pipeline([('std_sc', StandardScaler()), ('pca', PCA()), ('rf', RandomForestClassifier())])\n",
    "param_grid = [{'pca__n_components':[10, 50, 100]}]\n",
    "grid_search = GridSearchCV(pline, param_grid, cv=5, refit=True)\n",
    "grid_search.fit(X_train, y_train)"
   ]
  },
  {
   "cell_type": "code",
   "execution_count": 54,
   "metadata": {
    "collapsed": false
   },
   "outputs": [
    {
     "data": {
      "text/plain": [
       "0.8538"
      ]
     },
     "execution_count": 54,
     "metadata": {},
     "output_type": "execute_result"
    }
   ],
   "source": [
    "accuracy_score(y_test, grid_search.predict(X_test))"
   ]
  }
 ],
 "metadata": {
  "anaconda-cloud": {},
  "kernelspec": {
   "display_name": "Python [conda root]",
   "language": "python",
   "name": "conda-root-py"
  },
  "language_info": {
   "codemirror_mode": {
    "name": "ipython",
    "version": 2
   },
   "file_extension": ".py",
   "mimetype": "text/x-python",
   "name": "python",
   "nbconvert_exporter": "python",
   "pygments_lexer": "ipython2",
   "version": "2.7.12"
  }
 },
 "nbformat": 4,
 "nbformat_minor": 1
}
