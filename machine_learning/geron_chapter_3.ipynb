{
 "cells": [
  {
   "cell_type": "markdown",
   "metadata": {},
   "source": [
    "# Jonathan Halverson\n",
    "# Friday, September 29, 2017\n",
    "# Geron: Chapter 3 on Classification"
   ]
  },
  {
   "cell_type": "code",
   "execution_count": 1,
   "metadata": {
    "collapsed": true
   },
   "outputs": [],
   "source": [
    "from sklearn.datasets import fetch_mldata"
   ]
  },
  {
   "cell_type": "code",
   "execution_count": 2,
   "metadata": {
    "collapsed": false
   },
   "outputs": [
    {
     "data": {
      "text/plain": [
       "{'COL_NAMES': ['label', 'data'],\n",
       " 'DESCR': 'mldata.org dataset: mnist-original',\n",
       " 'data': array([[0, 0, 0, ..., 0, 0, 0],\n",
       "        [0, 0, 0, ..., 0, 0, 0],\n",
       "        [0, 0, 0, ..., 0, 0, 0],\n",
       "        ..., \n",
       "        [0, 0, 0, ..., 0, 0, 0],\n",
       "        [0, 0, 0, ..., 0, 0, 0],\n",
       "        [0, 0, 0, ..., 0, 0, 0]], dtype=uint8),\n",
       " 'target': array([ 0.,  0.,  0., ...,  9.,  9.,  9.])}"
      ]
     },
     "execution_count": 2,
     "metadata": {},
     "output_type": "execute_result"
    }
   ],
   "source": [
    "mnist = fetch_mldata('MNIST original')\n",
    "mnist"
   ]
  },
  {
   "cell_type": "code",
   "execution_count": 3,
   "metadata": {
    "collapsed": false
   },
   "outputs": [
    {
     "data": {
      "text/plain": [
       "(70000, 784)"
      ]
     },
     "execution_count": 3,
     "metadata": {},
     "output_type": "execute_result"
    }
   ],
   "source": [
    "import numpy as np\n",
    "\n",
    "X, y = mnist['data'], mnist['target']\n",
    "X = X.astype(np.float64)\n",
    "X.shape"
   ]
  },
  {
   "cell_type": "code",
   "execution_count": 4,
   "metadata": {
    "collapsed": false
   },
   "outputs": [
    {
     "data": {
      "text/plain": [
       "(70000,)"
      ]
     },
     "execution_count": 4,
     "metadata": {},
     "output_type": "execute_result"
    }
   ],
   "source": [
    "y.shape"
   ]
  },
  {
   "cell_type": "code",
   "execution_count": 5,
   "metadata": {
    "collapsed": false
   },
   "outputs": [
    {
     "data": {
      "text/plain": [
       "5.0"
      ]
     },
     "execution_count": 5,
     "metadata": {},
     "output_type": "execute_result"
    }
   ],
   "source": [
    "digit_index = 36000\n",
    "y[digit_index]"
   ]
  },
  {
   "cell_type": "code",
   "execution_count": 6,
   "metadata": {
    "collapsed": false
   },
   "outputs": [
    {
     "data": {
      "text/plain": [
       "array([   0.,    0.,    0.,    0.,    0.,    0.,    0.,    0.,    0.,\n",
       "          0.,    0.,    0.,    0.,    0.,    0.,    0.,    0.,    0.,\n",
       "          0.,    0.,    0.,    0.,    0.,    0.,    0.,    0.,    0.,\n",
       "          0.,    0.,    0.,    0.,    0.,    0.,    0.,    0.,    0.,\n",
       "          0.,    0.,    0.,    0.,    0.,    0.,    0.,    0.,    0.,\n",
       "          0.,    0.,    0.,    0.,    0.,    0.,    0.,    0.,    0.,\n",
       "          0.,    0.,    0.,    0.,    0.,    0.,    0.,    0.,    0.,\n",
       "          0.,    0.,    0.,    0.,    0.,    0.,    0.,    0.,    0.,\n",
       "          0.,    0.,    0.,    0.,    0.,    0.,    0.,    0.,    0.,\n",
       "          0.,    0.,    0.,    0.,    0.,    0.,    0.,    0.,    0.,\n",
       "          0.,    0.,    0.,    0.,    0.,    0.,    0.,    0.,    0.,\n",
       "          0.,    0.,    0.,    0.,    0.,    0.,    0.,    0.,    0.,\n",
       "          0.,    0.,    0.,    0.,    0.,    0.,    0.,    0.,    0.,\n",
       "          0.,    0.,    0.,    0.,    0.,    0.,    0.,    0.,    0.,\n",
       "          0.,    0.,    0.,    0.,    0.,    0.,    0.,    0.,    0.,\n",
       "          0.,    0.,    0.,    0.,    0.,    0.,    0.,    0.,    0.,\n",
       "          0.,    0.,    0.,    0.,    0.,    0.,    0.,    0.,    0.,\n",
       "          0.,    0.,    0.,    0.,    0.,    0.,   86.,  131.,  225.,\n",
       "        225.,  225.,    0.,    0.,    0.,    0.,    0.,    0.,    0.,\n",
       "          0.,    0.,    0.,    0.,    0.,    0.,    0.,    0.,    0.,\n",
       "          0.,    0.,    0.,    0.,   13.,   73.,  197.,  253.,  252.,\n",
       "        252.,  252.,  252.,    0.,    0.,    0.,    0.,    0.,    0.,\n",
       "          0.,    0.,    0.,    0.,    0.,    0.,    0.,    0.,    0.,\n",
       "          0.,    4.,   29.,   29.,  154.,  187.,  252.,  252.,  253.,\n",
       "        252.,  252.,  233.,  145.,    0.,    0.,    0.,    0.,    0.,\n",
       "          0.,    0.,    0.,    0.,    0.,    0.,    0.,    0.,    0.,\n",
       "          0.,    0.,   29.,  252.,  253.,  252.,  252.,  252.,  252.,\n",
       "        253.,  204.,  112.,   37.,    0.,    0.,    0.,    0.,    0.,\n",
       "          0.,    0.,    0.,    0.,    0.,    0.,    0.,    0.,    0.,\n",
       "          0.,    0.,    0.,  169.,  253.,  255.,  253.,  228.,  126.,\n",
       "          0.,    0.,    0.,    0.,    0.,    0.,    0.,    0.,    0.,\n",
       "          0.,    0.,    0.,    0.,    0.,    0.,    0.,    0.,    0.,\n",
       "          0.,    0.,    0.,   98.,  243.,  252.,  253.,  252.,  246.,\n",
       "        130.,   38.,    0.,    0.,    0.,    0.,    0.,    0.,    0.,\n",
       "          0.,    0.,    0.,    0.,    0.,    0.,    0.,    0.,    0.,\n",
       "          0.,    0.,    0.,   98.,  240.,  252.,  252.,  253.,  252.,\n",
       "        252.,  252.,  221.,    0.,    0.,    0.,    0.,    0.,    0.,\n",
       "          0.,    0.,    0.,    0.,    0.,    0.,    0.,    0.,    0.,\n",
       "          0.,    0.,    0.,    0.,  225.,  252.,  252.,  236.,  225.,\n",
       "        223.,  230.,  252.,  252.,    0.,    0.,    0.,    0.,    0.,\n",
       "          0.,    0.,    0.,    0.,    0.,    0.,    0.,    0.,    0.,\n",
       "          0.,    0.,    0.,    0.,    0.,  146.,  252.,  157.,   50.,\n",
       "          0.,    0.,   25.,  205.,  252.,    0.,    0.,    0.,    0.,\n",
       "          0.,    0.,    0.,    0.,    0.,    0.,    0.,    0.,    0.,\n",
       "          0.,    0.,    0.,    0.,    0.,    0.,    0.,    0.,    0.,\n",
       "          0.,    0.,    0.,   26.,  207.,  253.,    0.,    0.,    0.,\n",
       "          0.,    0.,    0.,    0.,    0.,    0.,    0.,    0.,    0.,\n",
       "          0.,    0.,   29.,   19.,    0.,    0.,    0.,    0.,    0.,\n",
       "          0.,    0.,    0.,    0.,   73.,  205.,  252.,   79.,    0.,\n",
       "          0.,    0.,    0.,    0.,    0.,    0.,    0.,    0.,    0.,\n",
       "          0.,    0.,  120.,  215.,  209.,  175.,    0.,    0.,    0.,\n",
       "          0.,    0.,    0.,    0.,   19.,  209.,  252.,  220.,   79.,\n",
       "          0.,    0.,    0.,    0.,    0.,    0.,    0.,    0.,    0.,\n",
       "          0.,    0.,    0.,  174.,  252.,  252.,  239.,  140.,    0.,\n",
       "          0.,    0.,    0.,    0.,   29.,  104.,  252.,  249.,  177.,\n",
       "          0.,    0.,    0.,    0.,    0.,    0.,    0.,    0.,    0.,\n",
       "          0.,    0.,    0.,    0.,  174.,  252.,  252.,  223.,    0.,\n",
       "          0.,    0.,    0.,    0.,    0.,  174.,  252.,  252.,  223.,\n",
       "          0.,    0.,    0.,    0.,    0.,    0.,    0.,    0.,    0.,\n",
       "          0.,    0.,    0.,    0.,    0.,  141.,  241.,  253.,  146.,\n",
       "          0.,    0.,    0.,    0.,  169.,  253.,  255.,  253.,  253.,\n",
       "         84.,    0.,    0.,    0.,    0.,    0.,    0.,    0.,    0.,\n",
       "          0.,    0.,    0.,    0.,    0.,    0.,    0.,  178.,  252.,\n",
       "        154.,   85.,   85.,  210.,  225.,  243.,  252.,  215.,  121.,\n",
       "         27.,    9.,    0.,    0.,    0.,    0.,    0.,    0.,    0.,\n",
       "          0.,    0.,    0.,    0.,    0.,    0.,    0.,    0.,   66.,\n",
       "        208.,  220.,  252.,  253.,  252.,  252.,  214.,  195.,   31.,\n",
       "          0.,    0.,    0.,    0.,    0.,    0.,    0.,    0.,    0.,\n",
       "          0.,    0.,    0.,    0.,    0.,    0.,    0.,    0.,    0.,\n",
       "          0.,   19.,   37.,   84.,  146.,  223.,  114.,   28.,    0.,\n",
       "          0.,    0.,    0.,    0.,    0.,    0.,    0.,    0.,    0.,\n",
       "          0.,    0.,    0.,    0.,    0.,    0.,    0.,    0.,    0.,\n",
       "          0.,    0.,    0.,    0.,    0.,    0.,    0.,    0.,    0.,\n",
       "          0.,    0.,    0.,    0.,    0.,    0.,    0.,    0.,    0.,\n",
       "          0.,    0.,    0.,    0.,    0.,    0.,    0.,    0.,    0.,\n",
       "          0.,    0.,    0.,    0.,    0.,    0.,    0.,    0.,    0.,\n",
       "          0.,    0.,    0.,    0.,    0.,    0.,    0.,    0.,    0.,\n",
       "          0.,    0.,    0.,    0.,    0.,    0.,    0.,    0.,    0.,\n",
       "          0.,    0.,    0.,    0.,    0.,    0.,    0.,    0.,    0.,\n",
       "          0.,    0.,    0.,    0.,    0.,    0.,    0.,    0.,    0.,\n",
       "          0.,    0.,    0.,    0.,    0.,    0.,    0.,    0.,    0.,\n",
       "          0.,    0.,    0.,    0.,    0.,    0.,    0.,    0.,    0.,\n",
       "          0.,    0.,    0.,    0.,    0.,    0.,    0.,    0.,    0.,\n",
       "          0.,    0.,    0.,    0.,    0.,    0.,    0.,    0.,    0.,\n",
       "          0.,    0.,    0.,    0.,    0.,    0.,    0.,    0.,    0.,\n",
       "          0.,    0.,    0.,    0.,    0.,    0.,    0.,    0.,    0.,\n",
       "          0.,    0.,    0.,    0.,    0.,    0.,    0.,    0.,    0.,    0.])"
      ]
     },
     "execution_count": 6,
     "metadata": {},
     "output_type": "execute_result"
    }
   ],
   "source": [
    "X[digit_index]"
   ]
  },
  {
   "cell_type": "code",
   "execution_count": 7,
   "metadata": {
    "collapsed": true
   },
   "outputs": [],
   "source": [
    "import matplotlib\n",
    "import matplotlib.pyplot as plt\n",
    "plt.style.use('halverson')\n",
    "%matplotlib inline"
   ]
  },
  {
   "cell_type": "code",
   "execution_count": 8,
   "metadata": {
    "collapsed": false
   },
   "outputs": [
    {
     "data": {
      "text/plain": [
       "(-0.5, 27.5, 27.5, -0.5)"
      ]
     },
     "execution_count": 8,
     "metadata": {},
     "output_type": "execute_result"
    },
    {
     "data": {
      "image/png": "[encoded data removed]",
      "text/plain": [
       "<matplotlib.figure.Figure at 0x12c809110>"
      ]
     },
     "metadata": {},
     "output_type": "display_data"
    }
   ],
   "source": [
    "some_digit = X[digit_index]\n",
    "some_digit_image = some_digit.reshape(28, 28)\n",
    "plt.imshow(some_digit_image, cmap=matplotlib.cm.binary, interpolation=\"nearest\")\n",
    "plt.axis('off')"
   ]
  },
  {
   "cell_type": "markdown",
   "metadata": {},
   "source": [
    "The data is already divided into a train and test set (at record 60000):"
   ]
  },
  {
   "cell_type": "code",
   "execution_count": 9,
   "metadata": {
    "collapsed": true
   },
   "outputs": [],
   "source": [
    "X_train, X_test, y_train, y_test = X[:60000], X[60000:], y[:60000], y[60000:]"
   ]
  },
  {
   "cell_type": "code",
   "execution_count": 10,
   "metadata": {
    "collapsed": true
   },
   "outputs": [],
   "source": [
    "import numpy as np"
   ]
  },
  {
   "cell_type": "code",
   "execution_count": 11,
   "metadata": {
    "collapsed": true
   },
   "outputs": [],
   "source": [
    "shuffle_index = np.random.permutation(60000)\n",
    "X_train, y_train = X_train[shuffle_index], y_train[shuffle_index]"
   ]
  },
  {
   "cell_type": "markdown",
   "metadata": {},
   "source": [
    "### Standardize the data"
   ]
  },
  {
   "cell_type": "code",
   "execution_count": 12,
   "metadata": {
    "collapsed": false
   },
   "outputs": [],
   "source": [
    "from sklearn.preprocessing import StandardScaler\n",
    "\n",
    "std_sc = StandardScaler()\n",
    "X_train_std = std_sc.fit_transform(X_train)"
   ]
  },
  {
   "cell_type": "code",
   "execution_count": 13,
   "metadata": {
    "collapsed": false
   },
   "outputs": [
    {
     "data": {
      "text/plain": [
       "(array([  980.,  1135.,  1032.,  1010.,   982.,   892.,   958.,  1028.,\n",
       "          974.,  1009.]),\n",
       " array([-0.5,  0.5,  1.5,  2.5,  3.5,  4.5,  5.5,  6.5,  7.5,  8.5,  9.5]),\n",
       " <a list of 10 Patch objects>)"
      ]
     },
     "execution_count": 13,
     "metadata": {},
     "output_type": "execute_result"
    },
    {
     "data": {
      "image/png": "[encoded data removed]",
      "text/plain": [
       "<matplotlib.figure.Figure at 0x12f033b50>"
      ]
     },
     "metadata": {},
     "output_type": "display_data"
    }
   ],
   "source": [
    "plt.hist(y_test, bins=np.linspace(-0.5, 9.5, 11), rwidth=0.8)"
   ]
  },
  {
   "cell_type": "markdown",
   "metadata": {},
   "source": [
    "We see from the histogram above that the classes are not perfectly balanced."
   ]
  },
  {
   "cell_type": "markdown",
   "metadata": {},
   "source": [
    "### Training a binary classifier"
   ]
  },
  {
   "cell_type": "code",
   "execution_count": 14,
   "metadata": {
    "collapsed": true
   },
   "outputs": [],
   "source": [
    "y_train_5 = (y_train == 5)\n",
    "y_test_5 = (y_test == 5)\n",
    "y_train_5 = y_train_5.astype(np.int)\n",
    "y_test_5 = y_test_5.astype(np.int)"
   ]
  },
  {
   "cell_type": "code",
   "execution_count": 15,
   "metadata": {
    "collapsed": false
   },
   "outputs": [
    {
     "data": {
      "text/plain": [
       "array([0, 0, 0, 0, 0, 0, 0, 0, 0, 0, 0, 0, 0, 0, 0, 0, 0, 0, 0, 0])"
      ]
     },
     "execution_count": 15,
     "metadata": {},
     "output_type": "execute_result"
    }
   ],
   "source": [
    "y_train_5[:20]"
   ]
  },
  {
   "cell_type": "code",
   "execution_count": 16,
   "metadata": {
    "collapsed": false
   },
   "outputs": [
    {
     "data": {
      "text/plain": [
       "array([ 2.,  0.,  7.,  7.,  9.,  7.,  2.,  2.,  2.,  2.,  6.,  3.,  3.,\n",
       "        4.,  8.,  1.,  4.,  8.,  6.,  1.])"
      ]
     },
     "execution_count": 16,
     "metadata": {},
     "output_type": "execute_result"
    }
   ],
   "source": [
    "y_train[:20]"
   ]
  },
  {
   "cell_type": "code",
   "execution_count": 17,
   "metadata": {
    "collapsed": false
   },
   "outputs": [
    {
     "data": {
      "text/plain": [
       "5421"
      ]
     },
     "execution_count": 17,
     "metadata": {},
     "output_type": "execute_result"
    }
   ],
   "source": [
    "y_train_5.sum()"
   ]
  },
  {
   "cell_type": "code",
   "execution_count": 18,
   "metadata": {
    "collapsed": true
   },
   "outputs": [],
   "source": [
    "from sklearn.linear_model import SGDClassifier"
   ]
  },
  {
   "cell_type": "markdown",
   "metadata": {},
   "source": [
    "Below we use the test data which is in general bad practice at this point."
   ]
  },
  {
   "cell_type": "code",
   "execution_count": 19,
   "metadata": {
    "collapsed": false
   },
   "outputs": [],
   "source": [
    "# Defaults to ‘hinge’, which gives a linear SVM\n",
    "model = SGDClassifier(random_state=42)\n",
    "model = model.fit(X_train, y_train_5)\n",
    "y_pred = model.predict(X_test)"
   ]
  },
  {
   "cell_type": "code",
   "execution_count": 20,
   "metadata": {
    "collapsed": false
   },
   "outputs": [
    {
     "data": {
      "text/plain": [
       "array([ 89.30408887])"
      ]
     },
     "execution_count": 20,
     "metadata": {},
     "output_type": "execute_result"
    }
   ],
   "source": [
    "model.intercept_"
   ]
  },
  {
   "cell_type": "code",
   "execution_count": 21,
   "metadata": {
    "collapsed": false
   },
   "outputs": [
    {
     "data": {
      "text/plain": [
       "array([0, 1])"
      ]
     },
     "execution_count": 21,
     "metadata": {},
     "output_type": "execute_result"
    }
   ],
   "source": [
    "model.classes_"
   ]
  },
  {
   "cell_type": "code",
   "execution_count": 22,
   "metadata": {
    "collapsed": false
   },
   "outputs": [
    {
     "data": {
      "text/plain": [
       "array([[  0.00000000e+00,   0.00000000e+00,   0.00000000e+00,\n",
       "          0.00000000e+00,   0.00000000e+00,   0.00000000e+00,\n",
       "          0.00000000e+00,   0.00000000e+00,   0.00000000e+00,\n",
       "          0.00000000e+00,   0.00000000e+00,   0.00000000e+00,\n",
       "          0.00000000e+00,   0.00000000e+00,   0.00000000e+00,\n",
       "          0.00000000e+00,   0.00000000e+00,   0.00000000e+00,\n",
       "          0.00000000e+00,   0.00000000e+00,   0.00000000e+00,\n",
       "          0.00000000e+00,   0.00000000e+00,   0.00000000e+00,\n",
       "          0.00000000e+00,   0.00000000e+00,   0.00000000e+00,\n",
       "          0.00000000e+00,   0.00000000e+00,   0.00000000e+00,\n",
       "          0.00000000e+00,   0.00000000e+00,   0.00000000e+00,\n",
       "          0.00000000e+00,   0.00000000e+00,   0.00000000e+00,\n",
       "          0.00000000e+00,  -3.45516098e+00,  -1.68106871e+01,\n",
       "         -1.55482244e+01,  -1.99336210e+00,  -4.95018256e+00,\n",
       "         -7.64122140e-01,   0.00000000e+00,  -5.68108200e+00,\n",
       "         -8.13956193e+00,  -7.70766680e+00,  -9.23591108e+00,\n",
       "         -7.87378031e+00,  -3.25582477e+00,   0.00000000e+00,\n",
       "          0.00000000e+00,   0.00000000e+00,   0.00000000e+00,\n",
       "          0.00000000e+00,   0.00000000e+00,   0.00000000e+00,\n",
       "          0.00000000e+00,   0.00000000e+00,  -4.31895123e-01,\n",
       "          0.00000000e+00,   0.00000000e+00,  -9.63458350e-01,\n",
       "         -1.49502158e+00,  -1.20598407e+01,  -2.28904415e+01,\n",
       "         -4.19270496e+01,  -6.78075342e+01,  -7.43191838e+01,\n",
       "         -9.72096253e+01,  -1.09634916e+02,  -1.04485397e+02,\n",
       "         -7.16281449e+01,  -2.51495852e+01,  -3.56479590e+01,\n",
       "         -1.08538567e+02,  -8.27245273e+01,  -4.23257220e+01,\n",
       "         -2.00332891e+01,  -7.40866249e+00,  -6.87709926e+00,\n",
       "          0.00000000e+00,   0.00000000e+00,   0.00000000e+00,\n",
       "          0.00000000e+00,   0.00000000e+00,   0.00000000e+00,\n",
       "         -2.69103884e+00,   6.71098575e+00,  -1.22259542e+01,\n",
       "         -1.70432460e+01,  -5.72759378e+01,  -6.83058748e+01,\n",
       "         -7.71431134e+01,  -6.80400932e+01,  -1.54983904e+02,\n",
       "         -5.13290742e+01,  -5.95018588e+01,  -5.07310656e+01,\n",
       "         -4.82393629e+01,  -1.24086791e+02,  -5.55483573e+01,\n",
       "         -8.67776969e+01,  -3.59801860e+01,  -2.12293064e+01,\n",
       "         -2.98339862e+01,  -6.07643215e+01,  -1.60399204e+02,\n",
       "         -9.33890146e+01,  -1.43189844e+01,  -2.45847993e+00,\n",
       "          0.00000000e+00,   0.00000000e+00,   0.00000000e+00,\n",
       "         -1.69435779e+00,  -1.29568537e+00,  -1.55150017e+01,\n",
       "         -8.38540992e+01,  -1.09169798e+02,  -8.40202127e+01,\n",
       "         -1.44585198e+02,  -9.89704285e+01,  -5.01995023e+01,\n",
       "         -2.64784933e+01,  -8.77079326e+00,  -9.65451712e+01,\n",
       "         -5.20599736e+01,   1.77409227e+01,  -1.94685032e+01,\n",
       "         -7.20600401e+01,   5.26912050e+01,  -6.58473948e+01,\n",
       "         -9.15285433e+01,   7.26580487e+01,  -3.98672421e-01,\n",
       "          5.82393961e+01,   1.44718089e+02,   3.21263526e+01,\n",
       "         -5.58141389e+00,  -2.09303021e+00,   0.00000000e+00,\n",
       "          0.00000000e+00,  -3.55482909e+00,  -2.23588783e+01,\n",
       "         -1.12957186e+02,  -1.20531962e+02,  -1.73621839e+02,\n",
       "         -4.18606042e+01,  -2.86379689e+01,   2.85715235e+00,\n",
       "          1.14618321e+01,  -9.85717561e+01,  -4.82061402e+01,\n",
       "         -5.26912050e+01,  -1.46512115e+01,  -3.20599072e+01,\n",
       "         -9.63458350e+00,  -1.86711584e+01,   2.26578826e+01,\n",
       "         -4.91695986e+01,   9.31896784e+01,  -4.37210755e+01,\n",
       "          1.23821009e+02,   5.71098243e+01,   6.84387656e+01,\n",
       "          3.35881515e+01,   9.23591108e+00,  -3.65449719e-01,\n",
       "          0.00000000e+00,   0.00000000e+00,   3.85383340e+00,\n",
       "         -7.66779956e+01,  -1.37309426e+02,  -3.68771989e+00,\n",
       "         -3.71097578e+01,  -7.78075675e+01,  -1.07741222e+02,\n",
       "          4.05649188e+01,  -5.64785930e+01,  -3.95350151e+00,\n",
       "          1.49169931e+01,   3.35549288e+00,   2.94685364e+01,\n",
       "         -4.28572852e+01,  -7.30899438e+01,   2.93024229e+01,\n",
       "         -1.76412546e+01,   4.08971458e+01,   3.74752076e+01,\n",
       "         -1.73754730e+01,   7.23922671e+01,   1.09701361e+02,\n",
       "          1.38538666e+02,   8.03989382e+00,   4.40533025e+01,\n",
       "         -1.26246267e+00,   0.00000000e+00,   0.00000000e+00,\n",
       "         -2.89037505e+00,  -7.98009296e+01,  -2.69602225e+02,\n",
       "         -3.79071027e+01,  -8.58142386e+01,  -4.53157652e+01,\n",
       "          1.57143379e+01,  -6.28241290e+01,   7.21597082e+01,\n",
       "          5.82393961e+01,  -5.15616331e+01,  -7.08308001e+01,\n",
       "          8.21929641e+01,  -1.14618321e+02,   2.88373051e+01,\n",
       "         -8.93690677e+00,   3.05648856e+00,  -4.02326918e+01,\n",
       "         -2.43190177e+01,   4.56812149e+01,   6.68772986e+01,\n",
       "         -2.22924329e+01,   1.60166645e+02,   1.81661733e+02,\n",
       "         -7.15949222e+01,  -1.91362762e+01,   0.00000000e+00,\n",
       "          0.00000000e+00,  -1.29236310e+01,  -8.91032861e+01,\n",
       "         -3.09137240e+02,  -3.70765351e+01,  -3.42193828e+00,\n",
       "         -6.48174911e+01,   2.96014272e+01,  -3.29236974e+01,\n",
       "          6.55483905e+01,  -2.38871225e+01,  -5.74088286e+01,\n",
       "         -4.13622637e+01,  -1.33223034e+01,  -3.62127449e+00,\n",
       "         -2.71429473e+01,  -7.50833059e+00,  -1.50166612e+01,\n",
       "          7.66779956e+01,   5.28573185e+01,  -8.33889814e+00,\n",
       "         -1.05315965e+02,   1.06644873e+02,   1.66246399e+02,\n",
       "          1.42791172e+02,   1.92691670e+01,  -5.33224363e+01,\n",
       "          0.00000000e+00,  -3.32227017e-02,  -1.85714903e+01,\n",
       "         -1.03189712e+02,  -1.69768006e+02,   2.14618653e+01,\n",
       "         -2.09967475e+01,  -4.77742451e+01,  -8.70434785e+00,\n",
       "         -1.24917359e+01,  -4.10300366e+01,   5.67775973e+01,\n",
       "          1.54485563e+01,  -1.90033854e+01,  -8.02660474e+01,\n",
       "         -1.25183140e+02,  -5.88706275e+01,  -6.40865916e+01,\n",
       "         -3.32559244e+01,   3.08971126e+00,  -7.46514108e+01,\n",
       "          1.01561799e+02,   1.07707999e+02,  -1.71761368e+01,\n",
       "          2.81296616e+02,   1.56512148e+02,   6.37875873e+00,\n",
       "         -9.73425161e+00,  -3.32227017e-02,  -1.39535347e+00,\n",
       "         -2.89701959e+01,  -1.35515400e+02,  -3.94353470e+01,\n",
       "         -5.97011950e+01,  -5.49835714e+01,   7.47510789e+01,\n",
       "          8.15617328e+01,   6.78407569e+01,   7.21597082e+01,\n",
       "          5.52825757e+01,   8.19604052e+01,   8.51830073e+01,\n",
       "         -2.98007635e+01,  -3.55815136e+01,  -4.61795554e+00,\n",
       "         -1.23688119e+02,  -1.33987156e+02,  -1.31960571e+02,\n",
       "         -1.69635115e+02,  -7.28573849e+01,   6.07975442e+01,\n",
       "          1.48272918e+02,   4.25748923e+02,   5.53922106e+02,\n",
       "          1.54120113e+02,  -3.52160638e+00,  -4.25250582e+00,\n",
       "         -4.21263858e+01,  -6.98341191e+01,  -1.67508862e+02,\n",
       "         -4.97676072e+01,  -3.63124130e+01,   8.08640560e+01,\n",
       "         -4.79403586e+01,   4.48506473e+01,   3.50167276e+01,\n",
       "          6.76081980e+01,   8.08640560e+01,   5.10632926e+01,\n",
       "          9.66780621e+00,   2.56479257e+01,  -3.85383340e+01,\n",
       "          2.10631929e+01,  -5.00998342e+01,  -2.53156987e+01,\n",
       "         -1.08538567e+02,  -2.40166911e+02,  -3.96645836e+02,\n",
       "         -2.50931066e+02,   2.33887820e+01,   2.22027316e+02,\n",
       "          5.53290875e+02,   1.50266280e+02,   3.72094259e+00,\n",
       "          0.00000000e+00,  -2.62459344e+01,  -5.50500168e+01,\n",
       "         -9.01664125e+01,  -3.14286758e+01,  -1.78073681e+01,\n",
       "          1.32857584e+02,   6.76414207e+01,   8.47178894e+01,\n",
       "         -5.94021907e+01,  -7.97344842e-01,   3.53157319e+01,\n",
       "         -6.64454035e+00,   8.74089283e+01,  -5.50832395e+01,\n",
       "          8.70767013e+01,  -6.87709926e+00,  -9.06315303e+01,\n",
       "         -2.02990708e+01,  -8.19604052e+01,  -6.02659810e+01,\n",
       "         -2.54818122e+02,  -5.79271027e+02,  -8.08740228e+02,\n",
       "         -8.00135549e+02,  -5.53822438e+01,   1.09801029e+02,\n",
       "          0.00000000e+00,   0.00000000e+00,  -3.15615666e+00,\n",
       "         -2.66778295e+01,  -1.08970462e+01,   3.64785265e+01,\n",
       "          7.32228346e+01,  -6.71098575e+00,   1.04884069e+02,\n",
       "         -1.44850980e+01,   6.90367742e+01,   4.15615999e+01,\n",
       "          2.68439430e+01,   2.96014272e+01,   5.88706275e+01,\n",
       "         -5.95683042e+01,  -7.50168605e+01,  -1.24020346e+02,\n",
       "         -2.91695321e+01,   1.52159974e+01,   3.34884834e+01,\n",
       "          8.70434785e+00,   5.94686361e+01,  -3.83057751e+01,\n",
       "         -4.87476703e+02,  -6.51929076e+02,  -2.08738235e+02,\n",
       "          1.08638235e+01,   0.00000000e+00,   7.50833059e+00,\n",
       "          0.00000000e+00,  -2.79070695e+00,  -5.31563228e-01,\n",
       "          6.35550284e+01,   4.36878528e+01,  -7.22593763e+01,\n",
       "          4.24918355e+01,  -3.64785265e+01,   5.84387324e+01,\n",
       "          8.73757056e+01,  -1.69768006e+01,   7.42859611e+01,\n",
       "         -3.03987721e+01,   1.54153336e+01,  -3.75416530e+01,\n",
       "         -8.03324928e+01,  -7.25251579e+01,  -2.78406241e+01,\n",
       "         -8.64454699e+01,   1.40532028e+01,  -6.90367742e+01,\n",
       "          7.76746767e+01,   2.58472620e+01,  -1.39236343e+02,\n",
       "         -2.21761534e+02,  -1.75415865e+01,   0.00000000e+00,\n",
       "          2.45847993e+00,   0.00000000e+00,  -5.91364091e+00,\n",
       "         -3.25582477e+01,   1.82724860e+01,  -9.42195821e+01,\n",
       "         -6.01330901e+01,  -6.85716564e+01,   8.56149024e+01,\n",
       "          7.85052442e+01,   3.60134087e+01,   1.56478925e+01,\n",
       "          1.37209758e+01,  -6.71430802e+01,  -9.46846999e+01,\n",
       "         -1.30598441e+02,   2.03322935e+01,  -6.01995355e+01,\n",
       "          2.82725192e+01,  -1.35880850e+01,  -3.23921342e+01,\n",
       "         -5.17941920e+01,  -5.83722870e+01,   4.29901760e+01,\n",
       "          6.26912382e+01,  -1.54385895e+02,  -4.83058083e+01,\n",
       "         -9.16946568e+00,   0.00000000e+00,   0.00000000e+00,\n",
       "         -1.12292732e+01,  -1.79402589e+00,   1.03987056e+01,\n",
       "         -1.06312646e+00,  -7.60467643e+01,  -1.76412546e+02,\n",
       "         -5.75084967e+01,  -1.33887488e+02,   3.96346832e+01,\n",
       "         -5.41530038e+01,  -2.13954199e+01,  -4.26579490e+01,\n",
       "         -3.24585796e+01,   3.85051113e+01,  -5.64785930e+01,\n",
       "         -1.82724860e+00,  -1.21229639e+02,  -2.32226685e+01,\n",
       "         -1.76080319e+00,  -2.20266513e+01,   2.60465982e+01,\n",
       "          1.77741454e+01,  -1.86047130e+00,  -1.52525424e+02,\n",
       "         -8.90036180e+01,  -2.10631929e+01,   0.00000000e+00,\n",
       "          0.00000000e+00,  -2.22924329e+01,  -3.40864920e+01,\n",
       "         -5.20931963e+01,   6.86048791e+01,   1.94452473e+02,\n",
       "         -9.04321941e+01,  -9.78408566e+01,  -1.00698009e+02,\n",
       "         -9.30235649e+01,  -1.42492168e+02,  -1.69934119e+02,\n",
       "         -5.93357453e+01,  -1.57907501e+02,  -3.12293396e+01,\n",
       "          1.00664786e+01,   3.76080984e+01,   1.53887554e+02,\n",
       "         -1.89369400e+00,   2.12625291e+01,  -8.77079326e+00,\n",
       "         -5.39868903e+01,   2.17940923e+01,   6.11297712e+01,\n",
       "         -1.74618520e+02,  -4.26579490e+01,  -6.97676736e-01,\n",
       "          0.00000000e+00,   0.00000000e+00,  -4.19602723e+01,\n",
       "         -9.69106210e+01,   1.81063724e+01,   1.56478925e+01,\n",
       "          1.72359377e+02,   2.57475938e+01,  -3.23256888e+01,\n",
       "         -1.10631597e+02,  -1.68040425e+02,  -1.16213011e+02,\n",
       "          1.64120147e+01,  -7.34221708e+00,   7.61132097e+01,\n",
       "         -6.85052110e+01,  -6.77743115e+00,   5.10965153e+01,\n",
       "         -1.13289413e+01,  -6.61131765e+00,  -1.77409227e+01,\n",
       "          7.64122140e-01,   5.07310656e+01,  -7.40866249e+00,\n",
       "          6.23257885e+01,  -1.39203120e+02,  -2.50166944e+01,\n",
       "         -4.25250582e+00,   0.00000000e+00,   0.00000000e+00,\n",
       "          6.07975442e+00,  -7.65783275e+01,   6.72427483e+01,\n",
       "         -1.36213077e+00,   2.72426154e+01,   3.47177233e+01,\n",
       "          1.16578460e+02,  -2.45515766e+01,   1.26246267e+00,\n",
       "         -4.71762365e+00,  -4.90699305e+01,   2.30565550e+01,\n",
       "         -1.05648192e+01,   8.19936279e+01,  -1.77741454e+01,\n",
       "         -8.39205446e+01,  -5.16613012e+01,   6.57809494e+00,\n",
       "          3.77409892e+01,   6.29902425e+01,  -3.88705610e+00,\n",
       "         -7.90700301e+00,   6.74753072e+01,  -1.06910654e+02,\n",
       "         -4.76413543e+01,  -4.25250582e+00,   0.00000000e+00,\n",
       "          0.00000000e+00,   4.71762365e+00,  -5.34553271e+01,\n",
       "         -5.17609693e+01,   6.08307669e+01,  -6.31563560e+01,\n",
       "          1.15615002e+01,   4.19270496e+01,  -2.61130436e+01,\n",
       "         -3.47509460e+01,   4.21928312e+01,  -2.24253237e+01,\n",
       "          5.84719551e+00,  -4.23921674e+01,  -8.84056093e+01,\n",
       "          2.00997346e+01,   2.01661800e+01,   3.08971126e+01,\n",
       "          8.55484570e+01,  -4.71762365e+01,  -1.94685032e+01,\n",
       "          1.57176602e+02,   4.78739132e+01,  -4.92360440e+01,\n",
       "         -1.82392633e+01,  -8.77079326e+00,   0.00000000e+00,\n",
       "          0.00000000e+00,   0.00000000e+00,  -5.69769335e+01,\n",
       "         -7.26912714e+01,   2.45847993e+01,   1.66113509e-01,\n",
       "          2.20598740e+01,   3.12293396e+01,  -3.38539331e+01,\n",
       "          9.08308665e+01,  -1.65116828e+01,  -2.49834717e+01,\n",
       "         -5.45848990e+01,   3.14618985e+01,   4.88041489e+01,\n",
       "          4.75084635e+00,  -4.90367078e+01,   7.10965817e+00,\n",
       "          1.76080319e+00,   2.69103884e+00,   1.80465716e+02,\n",
       "          1.66279622e+02,   1.16844242e+02,   6.95683374e+01,\n",
       "         -1.05648192e+01,  -4.81729175e+00,   1.16279456e+00,\n",
       "          0.00000000e+00,   0.00000000e+00,   0.00000000e+00,\n",
       "         -2.77077332e+01,  -1.05648192e+02,  -1.70432460e+01,\n",
       "         -5.07310656e+01,  -7.12959179e+01,   6.62460673e+01,\n",
       "         -7.97344842e-01,   2.83057419e+01,  -9.40202459e+00,\n",
       "          3.68771989e+00,   8.97677401e+01,  -7.70766680e+00,\n",
       "          3.50499503e+01,   1.06312646e+01,   6.09304350e+01,\n",
       "          7.47510789e+00,   1.19701394e+02,   5.25915368e+01,\n",
       "          2.13621972e+01,  -2.44519085e+01,   6.35882511e+01,\n",
       "          8.01331566e+01,   1.39535347e+00,   1.21262861e+01,\n",
       "          1.59468968e+01,   0.00000000e+00,   0.00000000e+00,\n",
       "          0.00000000e+00,  -1.62791239e+01,  -3.86047794e+01,\n",
       "          1.09967143e+01,   7.84055761e+01,  -1.38870893e+01,\n",
       "         -1.00997013e+02,   7.02660142e+01,   3.22260207e+01,\n",
       "          4.31562896e+01,  -3.03655494e+01,   1.21262861e+01,\n",
       "          7.37543979e+00,   3.92027880e+00,  -8.32560906e+01,\n",
       "         -7.64122140e-01,  -7.17942585e+01,  -8.76082645e+01,\n",
       "         -6.37543646e+01,   3.45516098e+01,  -2.34884501e+01,\n",
       "          3.25914704e+01,   5.97344177e+01,   5.52493530e+01,\n",
       "          4.31230669e+01,   9.63458350e+00,   0.00000000e+00,\n",
       "          0.00000000e+00,   0.00000000e+00,  -5.28240958e+00,\n",
       "         -2.50499171e+01,  -5.61795886e+01,  -2.51163625e+01,\n",
       "         -2.33887820e+01,  -3.62127449e+00,  -1.98339529e+01,\n",
       "          1.62890907e+02,  -4.12293729e+01,  -8.97012947e-01,\n",
       "         -8.48175575e+01,   3.35881515e+01,   3.58805179e+01,\n",
       "          1.84385995e+01,  -3.44851644e+01,   4.94021575e+01,\n",
       "          5.07975110e+01,  -1.01395686e+02,  -2.51495852e+01,\n",
       "         -6.07643215e+01,   4.91695986e+00,  -2.40864588e+01,\n",
       "          2.35548955e+01,  -1.41528709e+01,  -1.79402589e+00,\n",
       "          0.00000000e+00,   0.00000000e+00,   0.00000000e+00,\n",
       "          0.00000000e+00,   0.00000000e+00,   5.08307337e+00,\n",
       "         -4.15948226e+01,  -4.97343845e+01,  -3.42193828e+00,\n",
       "         -4.48506473e+01,   3.06977764e+01,  -8.37212084e+00,\n",
       "          4.56479922e+01,   1.68106871e+01,   5.35217725e+01,\n",
       "         -6.15616663e+01,   6.14952209e+01,  -1.02658148e+01,\n",
       "          2.51163625e+01,  -2.49170263e+01,  -6.75749753e+01,\n",
       "         -9.52162632e+01,  -4.44187522e+01,   5.79403918e+01,\n",
       "          8.27909727e+01,   6.24586793e+01,   0.00000000e+00,\n",
       "          0.00000000e+00,   0.00000000e+00,   0.00000000e+00,\n",
       "          0.00000000e+00,   0.00000000e+00,   0.00000000e+00,\n",
       "          0.00000000e+00,  -7.14288087e+00,  -6.79072023e+01,\n",
       "         -1.19734617e+02,  -1.40399138e+02,  -8.10966149e+01,\n",
       "         -7.54819783e+01,  -1.65116828e+01,  -1.96678394e+01,\n",
       "         -4.50167609e+01,  -1.39668238e+02,  -7.69105545e+01,\n",
       "         -6.92693331e+01,  -8.47511121e+01,  -1.13621640e+02,\n",
       "         -7.86049123e+01,  -5.08971791e+01,  -8.75418191e+01,\n",
       "         -2.78738468e+01,  -1.59468968e+00,   0.00000000e+00,\n",
       "          0.00000000e+00,   0.00000000e+00,   0.00000000e+00,\n",
       "          0.00000000e+00,   0.00000000e+00,   0.00000000e+00,\n",
       "          0.00000000e+00,   0.00000000e+00,   0.00000000e+00,\n",
       "          0.00000000e+00,  -1.19601726e+00,  -7.17610358e+00,\n",
       "         -3.15615666e+00,   1.13621640e+01,   2.37542317e+01,\n",
       "         -4.41861933e+00,  -3.27908066e+01,  -3.67443081e+01,\n",
       "         -3.29236974e+01,  -1.85382676e+01,  -1.12624959e+01,\n",
       "         -2.29901096e+01,  -1.77409227e+01,  -1.27575175e+01,\n",
       "         -2.07641886e+01,  -1.18605045e+01,   0.00000000e+00,\n",
       "          0.00000000e+00,   0.00000000e+00,   0.00000000e+00,\n",
       "          0.00000000e+00]])"
      ]
     },
     "execution_count": 22,
     "metadata": {},
     "output_type": "execute_result"
    }
   ],
   "source": [
    "model.coef_"
   ]
  },
  {
   "cell_type": "code",
   "execution_count": 23,
   "metadata": {
    "collapsed": false
   },
   "outputs": [
    {
     "data": {
      "text/plain": [
       "300001.0"
      ]
     },
     "execution_count": 23,
     "metadata": {},
     "output_type": "execute_result"
    }
   ],
   "source": [
    "model.t_"
   ]
  },
  {
   "cell_type": "code",
   "execution_count": 24,
   "metadata": {
    "collapsed": false
   },
   "outputs": [],
   "source": [
    "from sklearn.metrics import accuracy_score"
   ]
  },
  {
   "cell_type": "code",
   "execution_count": 25,
   "metadata": {
    "collapsed": false
   },
   "outputs": [
    {
     "data": {
      "text/plain": [
       "0.96930000000000005"
      ]
     },
     "execution_count": 25,
     "metadata": {},
     "output_type": "execute_result"
    }
   ],
   "source": [
    "accuracy_score(y_pred, y_test_5)"
   ]
  },
  {
   "cell_type": "markdown",
   "metadata": {},
   "source": [
    "We see that the accuracy appears high. It is important to note that only about 10% of the targets are fives so accuracy is not the best metric."
   ]
  },
  {
   "cell_type": "code",
   "execution_count": 26,
   "metadata": {
    "collapsed": false
   },
   "outputs": [
    {
     "data": {
      "text/plain": [
       "array([1])"
      ]
     },
     "execution_count": 26,
     "metadata": {},
     "output_type": "execute_result"
    }
   ],
   "source": [
    "model.predict([X[digit_index]])"
   ]
  },
  {
   "cell_type": "markdown",
   "metadata": {},
   "source": [
    "The cross_val_score is nice because it doesn't touch the test data."
   ]
  },
  {
   "cell_type": "code",
   "execution_count": 27,
   "metadata": {
    "collapsed": false
   },
   "outputs": [
    {
     "data": {
      "text/plain": [
       "array([ 0.96650279,  0.96591667,  0.95858333,  0.96216667,  0.96424702])"
      ]
     },
     "execution_count": 27,
     "metadata": {},
     "output_type": "execute_result"
    }
   ],
   "source": [
    "# For integer/None inputs, if the estimator is a classifier and y is either binary or multiclass,\n",
    "# StratifiedKFold is used. In all other cases, KFold is used.\n",
    "from sklearn.model_selection import cross_val_score\n",
    "y_train_scores = cross_val_score(SGDClassifier(random_state=42), X_train, y_train_5, cv=5, scoring='accuracy')\n",
    "y_train_scores"
   ]
  },
  {
   "cell_type": "markdown",
   "metadata": {},
   "source": [
    "The cross_val_predict method gives the individual prediction for each case when it appears in the validation set, which happens only once during the cross validation procedure."
   ]
  },
  {
   "cell_type": "code",
   "execution_count": 28,
   "metadata": {
    "collapsed": false
   },
   "outputs": [
    {
     "data": {
      "text/plain": [
       "array([-110491.91549375, -647766.16298536, -169145.65791057, ...,\n",
       "       -261114.3646135 , -840494.8728208 , -143640.25629994])"
      ]
     },
     "execution_count": 28,
     "metadata": {},
     "output_type": "execute_result"
    }
   ],
   "source": [
    "from sklearn.model_selection import cross_val_predict\n",
    "\n",
    "y_train_pred = cross_val_predict(SGDClassifier(random_state=42), X_train, y_train_5, cv=5, method='decision_function')\n",
    "y_train_pred"
   ]
  },
  {
   "cell_type": "code",
   "execution_count": 29,
   "metadata": {
    "collapsed": false
   },
   "outputs": [
    {
     "data": {
      "text/plain": [
       "array([0, 0, 0, ..., 0, 0, 0])"
      ]
     },
     "execution_count": 29,
     "metadata": {},
     "output_type": "execute_result"
    }
   ],
   "source": [
    "y_train_predict = cross_val_predict(SGDClassifier(random_state=42), X_train, y_train_5, cv=5)\n",
    "y_train_predict"
   ]
  },
  {
   "cell_type": "code",
   "execution_count": 30,
   "metadata": {
    "collapsed": true
   },
   "outputs": [],
   "source": [
    "from sklearn.metrics import confusion_matrix"
   ]
  },
  {
   "cell_type": "markdown",
   "metadata": {},
   "source": [
    "Still working with the training set here:"
   ]
  },
  {
   "cell_type": "code",
   "execution_count": 31,
   "metadata": {
    "collapsed": false
   },
   "outputs": [
    {
     "data": {
      "text/plain": [
       "array([[53860,   719],\n",
       "       [ 1472,  3949]])"
      ]
     },
     "execution_count": 31,
     "metadata": {},
     "output_type": "execute_result"
    }
   ],
   "source": [
    "confusion_matrix(y_true=y_train_5, y_pred=y_train_predict)"
   ]
  },
  {
   "cell_type": "code",
   "execution_count": 32,
   "metadata": {
    "collapsed": false
   },
   "outputs": [
    {
     "data": {
      "text/plain": [
       "0.84597257926306768"
      ]
     },
     "execution_count": 32,
     "metadata": {},
     "output_type": "execute_result"
    }
   ],
   "source": [
    "from sklearn.metrics import precision_score, recall_score, f1_score\n",
    "\n",
    "precision_score(y_train_5, y_train_predict)"
   ]
  },
  {
   "cell_type": "code",
   "execution_count": 33,
   "metadata": {
    "collapsed": false
   },
   "outputs": [
    {
     "data": {
      "text/plain": [
       "0.7284633831396421"
      ]
     },
     "execution_count": 33,
     "metadata": {},
     "output_type": "execute_result"
    }
   ],
   "source": [
    "recall_score(y_train_5, y_train_predict)"
   ]
  },
  {
   "cell_type": "code",
   "execution_count": 34,
   "metadata": {
    "collapsed": false
   },
   "outputs": [
    {
     "data": {
      "text/plain": [
       "0.78283278818515201"
      ]
     },
     "execution_count": 34,
     "metadata": {},
     "output_type": "execute_result"
    }
   ],
   "source": [
    "f1_score(y_train_5, y_train_predict)"
   ]
  },
  {
   "cell_type": "code",
   "execution_count": 38,
   "metadata": {
    "collapsed": false
   },
   "outputs": [
    {
     "data": {
      "text/plain": [
       "<matplotlib.text.Text at 0x15d811490>"
      ]
     },
     "execution_count": 38,
     "metadata": {},
     "output_type": "execute_result"
    },
    {
     "data": {
      "image/png": "[encoded data removed]",
      "text/plain": [
       "<matplotlib.figure.Figure at 0x15d621e90>"
      ]
     },
     "metadata": {},
     "output_type": "display_data"
    }
   ],
   "source": [
    "from sklearn.metrics import precision_recall_curve\n",
    "\n",
    "precision, recall, thresholds = precision_recall_curve(y_train_5, y_train_pred)\n",
    "plt.plot(precision, recall)\n",
    "plt.xlabel('precision')\n",
    "plt.ylabel('recall')"
   ]
  },
  {
   "cell_type": "code",
   "execution_count": 48,
   "metadata": {
    "collapsed": false
   },
   "outputs": [
    {
     "data": {
      "text/plain": [
       "<matplotlib.legend.Legend at 0x15ed80790>"
      ]
     },
     "execution_count": 48,
     "metadata": {},
     "output_type": "execute_result"
    },
    {
     "data": {
      "image/png": "[encoded data removed]",
      "text/plain": [
       "<matplotlib.figure.Figure at 0x15d10fdd0>"
      ]
     },
     "metadata": {},
     "output_type": "display_data"
    }
   ],
   "source": [
    "plt.plot(thresholds, recall[:-1], label='recall')\n",
    "plt.plot(thresholds, precision[:-1], label='precision')\n",
    "plt.plot(thresholds, 2.0 / (1.0 / recall[:-1] + 1.0 / precision[:-1]), label='f1 score')\n",
    "plt.xlabel('threshold')\n",
    "plt.ylabel('metric')\n",
    "plt.legend()"
   ]
  },
  {
   "cell_type": "code",
   "execution_count": 49,
   "metadata": {
    "collapsed": false
   },
   "outputs": [
    {
     "data": {
      "text/plain": [
       "<matplotlib.text.Text at 0x160583e50>"
      ]
     },
     "execution_count": 49,
     "metadata": {},
     "output_type": "execute_result"
    },
    {
     "data": {
      "image/png": "[encoded data removed]",
      "text/plain": [
       "<matplotlib.figure.Figure at 0x15d68c250>"
      ]
     },
     "metadata": {},
     "output_type": "display_data"
    }
   ],
   "source": [
    "from sklearn.metrics import roc_curve\n",
    "\n",
    "fpr, tpr, thresholds = roc_curve(y_train_5, y_train_pred)\n",
    "plt.plot(fpr, tpr)\n",
    "plt.xlabel('FPR')\n",
    "plt.ylabel('TPR')"
   ]
  }
 ],
 "metadata": {
  "anaconda-cloud": {},
  "kernelspec": {
   "display_name": "Python [conda root]",
   "language": "python",
   "name": "conda-root-py"
  },
  "language_info": {
   "codemirror_mode": {
    "name": "ipython",
    "version": 2
   },
   "file_extension": ".py",
   "mimetype": "text/x-python",
   "name": "python",
   "nbconvert_exporter": "python",
   "pygments_lexer": "ipython2",
   "version": "2.7.12"
  }
 },
 "nbformat": 4,
 "nbformat_minor": 1
}
