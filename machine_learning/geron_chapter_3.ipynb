{
 "cells": [
  {
   "cell_type": "markdown",
   "metadata": {},
   "source": [
    "# Jonathan Halverson\n",
    "# Friday, September 29, 2017\n",
    "# Geron: Chapter 3 on Classification"
   ]
  },
  {
   "cell_type": "code",
   "execution_count": 1,
   "metadata": {
    "collapsed": true
   },
   "outputs": [],
   "source": [
    "from sklearn.datasets import fetch_mldata"
   ]
  },
  {
   "cell_type": "code",
   "execution_count": 2,
   "metadata": {
    "collapsed": false
   },
   "outputs": [
    {
     "data": {
      "text/plain": [
       "{'COL_NAMES': ['label', 'data'],\n",
       " 'DESCR': 'mldata.org dataset: mnist-original',\n",
       " 'data': array([[0, 0, 0, ..., 0, 0, 0],\n",
       "        [0, 0, 0, ..., 0, 0, 0],\n",
       "        [0, 0, 0, ..., 0, 0, 0],\n",
       "        ..., \n",
       "        [0, 0, 0, ..., 0, 0, 0],\n",
       "        [0, 0, 0, ..., 0, 0, 0],\n",
       "        [0, 0, 0, ..., 0, 0, 0]], dtype=uint8),\n",
       " 'target': array([ 0.,  0.,  0., ...,  9.,  9.,  9.])}"
      ]
     },
     "execution_count": 2,
     "metadata": {},
     "output_type": "execute_result"
    }
   ],
   "source": [
    "mnist = fetch_mldata('MNIST original')\n",
    "mnist"
   ]
  },
  {
   "cell_type": "code",
   "execution_count": 3,
   "metadata": {
    "collapsed": false
   },
   "outputs": [
    {
     "data": {
      "text/plain": [
       "(70000, 784)"
      ]
     },
     "execution_count": 3,
     "metadata": {},
     "output_type": "execute_result"
    }
   ],
   "source": [
    "import numpy as np\n",
    "\n",
    "X, y = mnist['data'], mnist['target']\n",
    "X = X.astype(np.float64)\n",
    "X.shape"
   ]
  },
  {
   "cell_type": "code",
   "execution_count": 4,
   "metadata": {
    "collapsed": false
   },
   "outputs": [
    {
     "data": {
      "text/plain": [
       "(70000,)"
      ]
     },
     "execution_count": 4,
     "metadata": {},
     "output_type": "execute_result"
    }
   ],
   "source": [
    "y.shape"
   ]
  },
  {
   "cell_type": "code",
   "execution_count": 5,
   "metadata": {
    "collapsed": false
   },
   "outputs": [
    {
     "data": {
      "text/plain": [
       "5.0"
      ]
     },
     "execution_count": 5,
     "metadata": {},
     "output_type": "execute_result"
    }
   ],
   "source": [
    "digit_index = 36000\n",
    "y[digit_index]"
   ]
  },
  {
   "cell_type": "code",
   "execution_count": 6,
   "metadata": {
    "collapsed": false
   },
   "outputs": [
    {
     "data": {
      "text/plain": [
       "array([  0,   0,   0,   0,   0,   0,   0,   0,   0,   0,   0,   0,   0,\n",
       "         0,   0,   0,   0,   0,   0,   0,   0,   0,   0,   0,   0,   0,\n",
       "         0,   0,   0,   0,   0,   0,   0,   0,   0,   0,   0,   0,   0,\n",
       "         0,   0,   0,   0,   0,   0,   0,   0,   0,   0,   0,   0,   0,\n",
       "         0,   0,   0,   0,   0,   0,   0,   0,   0,   0,   0,   0,   0,\n",
       "         0,   0,   0,   0,   0,   0,   0,   0,   0,   0,   0,   0,   0,\n",
       "         0,   0,   0,   0,   0,   0,   0,   0,   0,   0,   0,   0,   0,\n",
       "         0,   0,   0,   0,   0,   0,   0,   0,   0,   0,   0,   0,   0,\n",
       "         0,   0,   0,   0,   0,   0,   0,   0,   0,   0,   0,   0,   0,\n",
       "         0,   0,   0,   0,   0,   0,   0,   0,   0,   0,   0,   0,   0,\n",
       "         0,   0,   0,   0,   0,   0,   0,   0,   0,   0,   0,   0,   0,\n",
       "         0,   0,   0,   0,   0,   0,   0,   0,   0,   0,   0,   0,   0,\n",
       "         0,   0,   0,  86, 131, 225, 225, 225,   0,   0,   0,   0,   0,\n",
       "         0,   0,   0,   0,   0,   0,   0,   0,   0,   0,   0,   0,   0,\n",
       "         0,   0,  13,  73, 197, 253, 252, 252, 252, 252,   0,   0,   0,\n",
       "         0,   0,   0,   0,   0,   0,   0,   0,   0,   0,   0,   0,   0,\n",
       "         4,  29,  29, 154, 187, 252, 252, 253, 252, 252, 233, 145,   0,\n",
       "         0,   0,   0,   0,   0,   0,   0,   0,   0,   0,   0,   0,   0,\n",
       "         0,   0,  29, 252, 253, 252, 252, 252, 252, 253, 204, 112,  37,\n",
       "         0,   0,   0,   0,   0,   0,   0,   0,   0,   0,   0,   0,   0,\n",
       "         0,   0,   0,   0, 169, 253, 255, 253, 228, 126,   0,   0,   0,\n",
       "         0,   0,   0,   0,   0,   0,   0,   0,   0,   0,   0,   0,   0,\n",
       "         0,   0,   0,   0,   0,  98, 243, 252, 253, 252, 246, 130,  38,\n",
       "         0,   0,   0,   0,   0,   0,   0,   0,   0,   0,   0,   0,   0,\n",
       "         0,   0,   0,   0,   0,   0,  98, 240, 252, 252, 253, 252, 252,\n",
       "       252, 221,   0,   0,   0,   0,   0,   0,   0,   0,   0,   0,   0,\n",
       "         0,   0,   0,   0,   0,   0,   0,   0, 225, 252, 252, 236, 225,\n",
       "       223, 230, 252, 252,   0,   0,   0,   0,   0,   0,   0,   0,   0,\n",
       "         0,   0,   0,   0,   0,   0,   0,   0,   0,   0, 146, 252, 157,\n",
       "        50,   0,   0,  25, 205, 252,   0,   0,   0,   0,   0,   0,   0,\n",
       "         0,   0,   0,   0,   0,   0,   0,   0,   0,   0,   0,   0,   0,\n",
       "         0,   0,   0,   0,   0,  26, 207, 253,   0,   0,   0,   0,   0,\n",
       "         0,   0,   0,   0,   0,   0,   0,   0,   0,  29,  19,   0,   0,\n",
       "         0,   0,   0,   0,   0,   0,   0,  73, 205, 252,  79,   0,   0,\n",
       "         0,   0,   0,   0,   0,   0,   0,   0,   0,   0, 120, 215, 209,\n",
       "       175,   0,   0,   0,   0,   0,   0,   0,  19, 209, 252, 220,  79,\n",
       "         0,   0,   0,   0,   0,   0,   0,   0,   0,   0,   0,   0, 174,\n",
       "       252, 252, 239, 140,   0,   0,   0,   0,   0,  29, 104, 252, 249,\n",
       "       177,   0,   0,   0,   0,   0,   0,   0,   0,   0,   0,   0,   0,\n",
       "         0, 174, 252, 252, 223,   0,   0,   0,   0,   0,   0, 174, 252,\n",
       "       252, 223,   0,   0,   0,   0,   0,   0,   0,   0,   0,   0,   0,\n",
       "         0,   0,   0, 141, 241, 253, 146,   0,   0,   0,   0, 169, 253,\n",
       "       255, 253, 253,  84,   0,   0,   0,   0,   0,   0,   0,   0,   0,\n",
       "         0,   0,   0,   0,   0,   0, 178, 252, 154,  85,  85, 210, 225,\n",
       "       243, 252, 215, 121,  27,   9,   0,   0,   0,   0,   0,   0,   0,\n",
       "         0,   0,   0,   0,   0,   0,   0,   0,  66, 208, 220, 252, 253,\n",
       "       252, 252, 214, 195,  31,   0,   0,   0,   0,   0,   0,   0,   0,\n",
       "         0,   0,   0,   0,   0,   0,   0,   0,   0,   0,   0,  19,  37,\n",
       "        84, 146, 223, 114,  28,   0,   0,   0,   0,   0,   0,   0,   0,\n",
       "         0,   0,   0,   0,   0,   0,   0,   0,   0,   0,   0,   0,   0,\n",
       "         0,   0,   0,   0,   0,   0,   0,   0,   0,   0,   0,   0,   0,\n",
       "         0,   0,   0,   0,   0,   0,   0,   0,   0,   0,   0,   0,   0,\n",
       "         0,   0,   0,   0,   0,   0,   0,   0,   0,   0,   0,   0,   0,\n",
       "         0,   0,   0,   0,   0,   0,   0,   0,   0,   0,   0,   0,   0,\n",
       "         0,   0,   0,   0,   0,   0,   0,   0,   0,   0,   0,   0,   0,\n",
       "         0,   0,   0,   0,   0,   0,   0,   0,   0,   0,   0,   0,   0,\n",
       "         0,   0,   0,   0,   0,   0,   0,   0,   0,   0,   0,   0,   0,\n",
       "         0,   0,   0,   0,   0,   0,   0,   0,   0,   0,   0,   0,   0,\n",
       "         0,   0,   0,   0,   0,   0,   0,   0,   0,   0,   0,   0,   0,\n",
       "         0,   0,   0,   0,   0,   0,   0,   0,   0,   0,   0,   0,   0,\n",
       "         0,   0,   0,   0])"
      ]
     },
     "execution_count": 6,
     "metadata": {},
     "output_type": "execute_result"
    }
   ],
   "source": [
    "X[digit_index].astype(np.int)"
   ]
  },
  {
   "cell_type": "code",
   "execution_count": 7,
   "metadata": {
    "collapsed": true
   },
   "outputs": [],
   "source": [
    "import matplotlib\n",
    "import matplotlib.pyplot as plt\n",
    "plt.style.use('halverson')\n",
    "%matplotlib inline"
   ]
  },
  {
   "cell_type": "code",
   "execution_count": 8,
   "metadata": {
    "collapsed": false
   },
   "outputs": [
    {
     "data": {
      "text/plain": [
       "(-0.5, 27.5, 27.5, -0.5)"
      ]
     },
     "execution_count": 8,
     "metadata": {},
     "output_type": "execute_result"
    },
    {
     "data": {
      "image/png": "[encoded data removed]",
      "text/plain": [
       "<matplotlib.figure.Figure at 0x12bfa82d0>"
      ]
     },
     "metadata": {},
     "output_type": "display_data"
    }
   ],
   "source": [
    "some_digit = X[digit_index]\n",
    "some_digit_image = some_digit.reshape(28, 28)\n",
    "plt.imshow(some_digit_image, cmap=matplotlib.cm.binary, interpolation=\"nearest\")\n",
    "plt.axis('off')"
   ]
  },
  {
   "cell_type": "markdown",
   "metadata": {},
   "source": [
    "The data is already divided into a train and test set (at record 60000):"
   ]
  },
  {
   "cell_type": "code",
   "execution_count": 9,
   "metadata": {
    "collapsed": true
   },
   "outputs": [],
   "source": [
    "X_train, X_test, y_train, y_test = X[:60000], X[60000:], y[:60000], y[60000:]"
   ]
  },
  {
   "cell_type": "code",
   "execution_count": 10,
   "metadata": {
    "collapsed": true
   },
   "outputs": [],
   "source": [
    "import numpy as np"
   ]
  },
  {
   "cell_type": "code",
   "execution_count": 11,
   "metadata": {
    "collapsed": true
   },
   "outputs": [],
   "source": [
    "shuffle_index = np.random.permutation(60000)\n",
    "X_train, y_train = X_train[shuffle_index], y_train[shuffle_index]"
   ]
  },
  {
   "cell_type": "markdown",
   "metadata": {},
   "source": [
    "### Standardize the data"
   ]
  },
  {
   "cell_type": "code",
   "execution_count": 12,
   "metadata": {
    "collapsed": false
   },
   "outputs": [],
   "source": [
    "from sklearn.preprocessing import StandardScaler\n",
    "\n",
    "std_sc = StandardScaler()\n",
    "X_train_std = std_sc.fit_transform(X_train)\n",
    "X_test_std = std_sc.transform(X_test)"
   ]
  },
  {
   "cell_type": "code",
   "execution_count": 13,
   "metadata": {
    "collapsed": false
   },
   "outputs": [
    {
     "data": {
      "text/plain": [
       "(array([  980.,  1135.,  1032.,  1010.,   982.,   892.,   958.,  1028.,\n",
       "          974.,  1009.]),\n",
       " array([-0.5,  0.5,  1.5,  2.5,  3.5,  4.5,  5.5,  6.5,  7.5,  8.5,  9.5]),\n",
       " <a list of 10 Patch objects>)"
      ]
     },
     "execution_count": 13,
     "metadata": {},
     "output_type": "execute_result"
    },
    {
     "data": {
      "image/png": "[encoded data removed]",
      "text/plain": [
       "<matplotlib.figure.Figure at 0x12eff2b50>"
      ]
     },
     "metadata": {},
     "output_type": "display_data"
    }
   ],
   "source": [
    "plt.hist(y_test, bins=np.linspace(-0.5, 9.5, 11), rwidth=0.8)"
   ]
  },
  {
   "cell_type": "markdown",
   "metadata": {},
   "source": [
    "We see from the histogram above that the classes are not perfectly balanced."
   ]
  },
  {
   "cell_type": "markdown",
   "metadata": {},
   "source": [
    "### Training a binary classifier"
   ]
  },
  {
   "cell_type": "code",
   "execution_count": 14,
   "metadata": {
    "collapsed": true
   },
   "outputs": [],
   "source": [
    "y_train_5 = (y_train == 5)\n",
    "y_test_5 = (y_test == 5)\n",
    "y_train_5 = y_train_5.astype(np.int)\n",
    "y_test_5 = y_test_5.astype(np.int)"
   ]
  },
  {
   "cell_type": "code",
   "execution_count": 15,
   "metadata": {
    "collapsed": false
   },
   "outputs": [
    {
     "data": {
      "text/plain": [
       "array([0, 0, 0, 0, 0, 0, 0, 0, 0, 0, 1, 0, 0, 0, 0])"
      ]
     },
     "execution_count": 15,
     "metadata": {},
     "output_type": "execute_result"
    }
   ],
   "source": [
    "y_train_5[:15]"
   ]
  },
  {
   "cell_type": "code",
   "execution_count": 16,
   "metadata": {
    "collapsed": false
   },
   "outputs": [
    {
     "data": {
      "text/plain": [
       "array([ 2.,  1.,  6.,  1.,  4.,  4.,  2.,  2.,  1.,  0.,  5.,  8.,  8.,\n",
       "        3.,  4.])"
      ]
     },
     "execution_count": 16,
     "metadata": {},
     "output_type": "execute_result"
    }
   ],
   "source": [
    "y_train[:15]"
   ]
  },
  {
   "cell_type": "code",
   "execution_count": 17,
   "metadata": {
    "collapsed": false
   },
   "outputs": [
    {
     "data": {
      "text/plain": [
       "5421"
      ]
     },
     "execution_count": 17,
     "metadata": {},
     "output_type": "execute_result"
    }
   ],
   "source": [
    "y_train_5.sum()"
   ]
  },
  {
   "cell_type": "code",
   "execution_count": 18,
   "metadata": {
    "collapsed": true
   },
   "outputs": [],
   "source": [
    "from sklearn.linear_model import SGDClassifier"
   ]
  },
  {
   "cell_type": "markdown",
   "metadata": {},
   "source": [
    "Below we use the test data which is in general bad practice at this point."
   ]
  },
  {
   "cell_type": "code",
   "execution_count": 19,
   "metadata": {
    "collapsed": false
   },
   "outputs": [],
   "source": [
    "# Defaults to ‘hinge’, which gives a linear SVM\n",
    "model = SGDClassifier(random_state=42)\n",
    "model = model.fit(X_train_std, y_train_5)\n",
    "y_pred = model.predict(X_test_std)"
   ]
  },
  {
   "cell_type": "code",
   "execution_count": 20,
   "metadata": {
    "collapsed": false
   },
   "outputs": [
    {
     "data": {
      "text/plain": [
       "array([-1064.27821613])"
      ]
     },
     "execution_count": 20,
     "metadata": {},
     "output_type": "execute_result"
    }
   ],
   "source": [
    "model.intercept_"
   ]
  },
  {
   "cell_type": "code",
   "execution_count": 21,
   "metadata": {
    "collapsed": false
   },
   "outputs": [
    {
     "data": {
      "text/plain": [
       "array([0, 1])"
      ]
     },
     "execution_count": 21,
     "metadata": {},
     "output_type": "execute_result"
    }
   ],
   "source": [
    "model.classes_"
   ]
  },
  {
   "cell_type": "code",
   "execution_count": 22,
   "metadata": {
    "collapsed": false
   },
   "outputs": [
    {
     "data": {
      "text/plain": [
       "array([[  0.00000000e+00,   0.00000000e+00,   0.00000000e+00,\n",
       "          0.00000000e+00,   0.00000000e+00,   0.00000000e+00,\n",
       "          0.00000000e+00,   0.00000000e+00,   0.00000000e+00,\n",
       "          0.00000000e+00,   0.00000000e+00,   0.00000000e+00,\n",
       "         -5.73031023e-01,  -7.46408319e-01,  -5.29508273e-01,\n",
       "         -5.29508273e-01,   0.00000000e+00,   0.00000000e+00,\n",
       "          0.00000000e+00,   0.00000000e+00,   0.00000000e+00,\n",
       "          0.00000000e+00,   0.00000000e+00,   0.00000000e+00,\n",
       "          0.00000000e+00,   0.00000000e+00,   0.00000000e+00,\n",
       "          0.00000000e+00,   0.00000000e+00,   0.00000000e+00,\n",
       "          0.00000000e+00,   0.00000000e+00,  -5.29508273e-01,\n",
       "         -6.10853293e-01,  -1.14128779e+00,  -2.31203770e+00,\n",
       "         -1.91426075e+00,  -2.50127318e+00,  -3.19996735e+00,\n",
       "         -3.77055372e+00,  -4.17797373e+00,  -5.17987403e+00,\n",
       "         -4.67288395e+00,  -3.91731197e+00,  -4.57292350e+00,\n",
       "         -5.08063719e+00,  -3.23641998e+00,  -2.48593875e+00,\n",
       "         -2.17539136e+00,  -1.42624361e+00,  -1.07974633e+00,\n",
       "         -5.68182208e-01,   0.00000000e+00,   0.00000000e+00,\n",
       "          0.00000000e+00,   0.00000000e+00,   0.00000000e+00,\n",
       "          0.00000000e+00,  -5.29508273e-01,  -4.02867495e+00,\n",
       "         -1.10536905e+00,  -1.55447632e+00,  -2.52627210e+00,\n",
       "         -4.88462292e+00,  -5.30900943e+00,  -8.01921914e+00,\n",
       "         -1.09814239e+01,  -1.35295779e+01,  -1.44448284e+01,\n",
       "         -1.58395253e+01,  -1.76063655e+01,  -1.70559213e+01,\n",
       "         -1.44592263e+01,  -1.14697000e+01,  -8.55409722e+00,\n",
       "         -6.68491105e+00,  -6.87358264e+00,  -4.89637829e+00,\n",
       "         -2.59904285e+00,  -2.10461126e+00,  -5.21639827e+00,\n",
       "         -5.98787329e+00,   0.00000000e+00,   0.00000000e+00,\n",
       "          0.00000000e+00,   0.00000000e+00,  -6.96286230e-01,\n",
       "         -5.23106785e+00,   6.03316853e+00,  -2.87247285e+00,\n",
       "         -4.76130792e+00,  -8.76685166e+00,  -1.00494626e+01,\n",
       "         -1.02565607e+01,  -1.18499598e+01,  -1.55218563e+01,\n",
       "         -1.22924448e+01,  -1.39869517e+01,  -1.10852230e+01,\n",
       "         -9.43211338e+00,  -8.12386228e+00,  -5.26887122e+00,\n",
       "         -2.54925787e+00,  -1.41497764e+00,  -3.76630953e-01,\n",
       "          4.41849172e+00,   4.57146195e+00,  -3.25091024e+00,\n",
       "         -1.85577287e+00,   2.63691841e+00,  -7.01726442e+00,\n",
       "          0.00000000e+00,   0.00000000e+00,  -5.29508273e-01,\n",
       "         -1.00692705e+00,  -2.37992199e+00,  -4.35802102e+00,\n",
       "         -7.27130358e+00,  -4.17848452e+00,  -4.80533109e+00,\n",
       "         -9.47468425e+00,  -6.54983735e+00,  -4.03726695e+00,\n",
       "         -5.29758754e+00,  -8.79946196e+00,  -1.34176184e+01,\n",
       "         -7.29088791e+00,  -7.92060423e-01,  -3.14080837e-01,\n",
       "          1.19425357e+00,   3.00005720e+00,  -8.40675101e-01,\n",
       "         -3.29766239e+00,   5.03766826e+00,   3.55943120e+00,\n",
       "          3.19783389e-01,   4.24400941e+00,   1.74385898e+00,\n",
       "          1.15375610e+00,  -6.68835664e+00,   0.00000000e+00,\n",
       "          0.00000000e+00,  -1.54367274e+00,  -2.62866101e+00,\n",
       "         -7.19379692e+00,  -3.92109233e+00,  -6.03032775e+00,\n",
       "         -2.93181618e+00,  -5.89535653e+00,  -4.73637295e+00,\n",
       "         -3.60368014e+00,  -3.18464554e+00,  -5.70610294e+00,\n",
       "         -6.52504410e+00,  -6.15685070e+00,  -6.60696441e+00,\n",
       "         -3.76744272e+00,  -2.28714518e-01,   3.54130226e+00,\n",
       "          2.48134957e+00,   4.74488342e+00,   1.89689712e+00,\n",
       "          7.63623766e+00,   9.89913133e+00,   3.89605432e+00,\n",
       "          1.48326766e-01,   9.36700190e-01,  -1.70299500e+00,\n",
       "          0.00000000e+00,  -7.22456787e-01,   2.50970089e+00,\n",
       "         -5.64967358e+00,  -4.48995064e+00,  -1.96081992e+00,\n",
       "         -4.54115162e+00,  -4.73772901e+00,  -3.41598986e+00,\n",
       "         -1.87577633e+00,  -3.63313176e+00,  -2.17178670e+00,\n",
       "         -2.12774093e+00,  -1.11307227e+00,  -6.32896160e-01,\n",
       "         -6.13237848e+00,  -5.49282329e+00,  -2.17379084e+00,\n",
       "          2.95365260e+00,   7.11868429e+00,   1.06568329e+01,\n",
       "          8.30298783e+00,   8.28130826e+00,   9.64432919e+00,\n",
       "          9.91557351e+00,   2.60723006e+00,   3.96240730e+00,\n",
       "          1.05966848e+00,  -5.29508273e-01,  -2.27296830e+00,\n",
       "         -3.17711549e+00,  -8.64963602e+00,  -1.42932127e+01,\n",
       "         -7.93129353e+00,  -7.75504832e+00,  -4.26248519e+00,\n",
       "          3.53070462e-01,  -2.47415229e+00,   4.39957767e+00,\n",
       "          3.78993097e+00,   2.80482959e+00,  -2.18811809e+00,\n",
       "         -4.90846759e+00,  -1.00911161e+01,  -7.31883246e+00,\n",
       "         -2.21391097e+00,   1.22680509e-01,   5.24079083e+00,\n",
       "          1.20102714e+01,   1.42667847e+01,   1.02366474e+01,\n",
       "          1.10376416e+01,   1.45588187e+01,   1.40905431e+01,\n",
       "         -3.66778851e+00,   2.16942764e-01,  -6.51813614e-01,\n",
       "         -4.82830754e+00,  -6.73481065e+00,  -1.23146075e+01,\n",
       "         -1.72486166e+01,  -9.55303943e+00,  -7.40535579e+00,\n",
       "         -5.63928493e+00,  -1.00084253e-01,   5.52558449e-01,\n",
       "          6.27408936e+00,   6.54249157e+00,   3.41414188e+00,\n",
       "         -6.63318795e+00,  -1.07833086e+01,  -1.59697723e+01,\n",
       "         -1.55278956e+01,  -9.44962250e+00,  -6.17444005e+00,\n",
       "          1.61416445e+00,   9.21752588e+00,   1.61186288e+01,\n",
       "          1.13820154e+01,   1.70480055e+01,   1.63103948e+01,\n",
       "          1.07053682e+01,   3.04325779e+00,   4.60128262e-01,\n",
       "         -7.65979357e-01,  -4.43241898e+00,  -7.91798034e+00,\n",
       "         -1.33781277e+01,  -1.52743240e+01,  -9.42154915e+00,\n",
       "         -4.16812952e+00,  -1.36429382e+00,   2.75915474e+00,\n",
       "          5.60525091e+00,   7.89182475e+00,   1.36760834e+01,\n",
       "          9.09937559e+00,   8.18192071e-01,  -9.71590272e+00,\n",
       "         -1.89601862e+01,  -2.09031331e+01,  -2.09822765e+01,\n",
       "         -2.03770541e+01,  -1.80725596e+01,  -6.14760072e+00,\n",
       "          8.80368001e+00,   1.32920821e+01,   1.99135772e+01,\n",
       "          2.78052540e+01,   9.24759660e+00,   4.85251303e+00,\n",
       "          7.79353826e-01,  -7.48741074e-01,  -3.04986457e+00,\n",
       "         -7.63013374e+00,  -1.40226824e+01,  -1.03130675e+01,\n",
       "         -5.90964753e+00,   2.50061791e+00,   6.46353005e+00,\n",
       "          9.81274646e+00,   1.22741025e+01,   1.42840300e+01,\n",
       "          1.40087971e+01,   1.87374482e+01,   1.58440745e+01,\n",
       "          4.18754011e+00,  -4.34649342e+00,  -1.18973387e+01,\n",
       "         -2.28928747e+01,  -3.28718377e+01,  -3.33775373e+01,\n",
       "         -2.30092224e+01,  -1.09635988e+01,  -5.40119486e+00,\n",
       "          7.53745204e+00,   2.60438575e+01,   2.59094637e+01,\n",
       "          3.76285813e+00,  -7.18776740e-01,  -9.15066135e-01,\n",
       "         -2.69405129e+00,  -7.26999102e+00,  -1.28893753e+01,\n",
       "         -6.42944601e+00,   1.89164115e-01,   1.01476466e+01,\n",
       "          7.57160470e+00,   8.19978692e+00,   9.68232059e+00,\n",
       "          1.56612553e+01,   1.55679220e+01,   2.09627245e+01,\n",
       "          2.26434012e+01,   1.35367047e+01,   5.84308263e+00,\n",
       "         -4.07286318e+00,  -2.09400145e+01,  -3.07524908e+01,\n",
       "         -3.46851534e+01,  -3.39916288e+01,  -3.40365991e+01,\n",
       "         -3.34049389e+01,  -1.81947148e+01,  -4.31909781e-01,\n",
       "          2.73641781e+01,   2.54109340e+00,   3.34530766e+00,\n",
       "         -6.87981935e-01,  -2.10614365e+00,  -5.69708623e+00,\n",
       "         -6.33103620e+00,  -1.25853060e+00,   2.46216100e+00,\n",
       "          9.32564836e+00,   5.32313557e+00,   3.59746806e+00,\n",
       "          3.98889699e+00,   1.44179645e+01,   1.49553931e+01,\n",
       "          2.14735813e+01,   1.94846347e+01,   1.14385985e+01,\n",
       "          4.17703699e+00,  -1.70054175e+01,  -3.05215682e+01,\n",
       "         -3.07414463e+01,  -2.22189426e+01,  -2.02869293e+01,\n",
       "         -3.19846041e+01,  -4.22442443e+01,  -4.27353878e+01,\n",
       "         -3.68948504e+01,  -9.25670137e+00,   1.32406289e+01,\n",
       "         -1.28689518e+00,  -8.66744280e+00,  -1.41820539e+00,\n",
       "         -4.17835973e+00,  -3.05345151e+00,   3.27852872e+00,\n",
       "          4.17571837e+00,   1.72999509e+00,   1.94237413e+00,\n",
       "          1.69749469e+00,   6.81253906e+00,   1.38956918e+01,\n",
       "          1.78820597e+01,   2.33164018e+01,   1.32863694e+01,\n",
       "          1.02352790e+00,  -1.47368852e+01,  -3.18067054e+01,\n",
       "         -3.37687528e+01,  -2.17340016e+01,  -8.13593903e+00,\n",
       "         -2.51389542e+00,  -1.40405536e+01,  -2.57503100e+01,\n",
       "         -3.64422910e+01,  -3.09587255e+01,  -1.78060453e+01,\n",
       "         -6.63947999e-01,  -9.60351362e-01,   7.60842626e+00,\n",
       "         -1.03609981e+00,  -2.37307607e+00,  -2.08539678e+00,\n",
       "          7.35875894e-01,  -1.13139618e+00,  -7.52473147e+00,\n",
       "         -7.23291152e+00,  -2.21078712e+00,   9.85777317e+00,\n",
       "          1.77177234e+01,   1.73114500e+01,   1.87917335e+01,\n",
       "          5.18582665e+00,  -7.89977884e+00,  -2.24056090e+01,\n",
       "         -2.60846806e+01,  -2.45830196e+01,  -1.27337883e+01,\n",
       "         -5.18706613e+00,  -5.37800021e-01,  -6.61801616e+00,\n",
       "         -9.89090895e+00,  -1.68070584e+01,  -1.41664551e+01,\n",
       "         -1.54227270e+01,  -3.19644724e+00,  -9.05951752e-01,\n",
       "          5.86462571e+00,  -5.43374795e-01,  -2.41870547e+00,\n",
       "         -3.58740323e+00,  -3.22243964e+00,  -9.69523858e+00,\n",
       "         -1.55579095e+01,  -1.61198914e+01,  -7.80373119e+00,\n",
       "          3.23001024e+00,   1.04273640e+01,   1.57745141e+01,\n",
       "          1.26397782e+01,  -8.34028663e+00,  -2.56563685e+01,\n",
       "         -2.89722524e+01,  -2.24923364e+01,  -1.81524664e+01,\n",
       "         -3.50438947e+00,  -3.80151555e+00,  -2.85285624e+00,\n",
       "         -6.56074359e+00,  -5.13415247e+00,  -2.87851508e+00,\n",
       "         -1.92228419e+00,  -7.35924458e+00,  -4.36055033e+00,\n",
       "         -2.66235025e+00,  -8.66744280e+00,  -8.69943450e-01,\n",
       "         -2.80173661e+00,  -2.45748591e+00,  -2.05489658e+00,\n",
       "         -6.75359345e+00,  -1.51013377e+01,  -2.39261787e+01,\n",
       "         -2.12793353e+01,  -1.64070690e+01,  -1.12060586e+01,\n",
       "         -7.00332928e+00,  -1.25357669e+01,  -2.68886073e+01,\n",
       "         -3.40103804e+01,  -2.59890897e+01,  -1.48436340e+01,\n",
       "         -7.44122075e+00,  -3.22199294e+00,  -2.86498260e+00,\n",
       "          4.95115630e-01,  -4.92275625e+00,   2.26118534e-01,\n",
       "          3.79979936e+00,   2.73191649e+00,  -8.12662422e+00,\n",
       "         -7.47132957e+00,  -4.58825678e+00,   0.00000000e+00,\n",
       "         -1.15850462e+00,  -3.67014325e+00,  -4.91569392e-01,\n",
       "          1.40122688e+00,   3.69189259e+00,   3.27466400e+00,\n",
       "         -1.45731127e+01,  -2.03233231e+01,  -2.49919038e+01,\n",
       "         -2.71973571e+01,  -2.82399684e+01,  -3.16920418e+01,\n",
       "         -3.50248904e+01,  -2.90693923e+01,  -1.44207000e+01,\n",
       "         -3.54389829e+00,   2.86790125e+00,   1.44942289e+00,\n",
       "         -3.24670184e+00,   1.81236660e+00,  -1.72390321e+00,\n",
       "          3.95286311e+00,   5.65063729e+00,   3.94813682e+00,\n",
       "         -1.01115785e+01,  -4.60413754e+00,  -1.38920772e+00,\n",
       "         -7.66012323e-01,  -8.23878273e-01,  -5.78744122e+00,\n",
       "         -3.14417323e+00,   5.39321244e+00,   7.08559697e+00,\n",
       "          1.23129082e+01,   1.80803134e+00,  -7.78963819e+00,\n",
       "         -1.70805646e+01,  -2.20496027e+01,  -2.11124940e+01,\n",
       "         -1.80672821e+01,  -1.82895774e+01,  -1.24054059e+01,\n",
       "         -5.26521904e+00,   6.70103316e-01,   3.27277753e-01,\n",
       "         -4.91205857e+00,   9.25042149e-01,   2.26153947e+00,\n",
       "          1.42942455e+00,   7.24961755e+00,   5.33914153e+00,\n",
       "          4.18879151e+00,  -1.08737667e+01,  -3.09870590e+00,\n",
       "         -1.26593964e+00,  -5.29508273e-01,  -1.46324775e+00,\n",
       "          3.64544797e+00,  -3.74440329e+00,   4.55435025e+00,\n",
       "          3.63559189e+00,   5.27058108e+00,   4.63798444e+00,\n",
       "          8.08505886e+00,   1.50454663e+00,  -3.18597796e+00,\n",
       "         -3.26746681e+00,  -6.56520569e+00,  -1.09389394e+01,\n",
       "         -7.47534178e+00,  -1.29831063e+00,  -4.41340258e+00,\n",
       "         -5.51201950e+00,  -1.53812950e+00,   1.46053391e+00,\n",
       "          2.39715496e+00,   2.47879485e+00,   6.72645865e+00,\n",
       "          6.20455642e+00,   4.12523545e+00,  -5.81006865e+00,\n",
       "         -3.09108869e+00,  -1.04095590e+00,   0.00000000e+00,\n",
       "         -1.34138577e+00,   1.22925694e+00,  -2.05184183e+00,\n",
       "          1.68905906e-01,   3.24096129e+00,  -2.76719707e+00,\n",
       "         -1.25071334e+00,   4.74849473e+00,   5.98510074e+00,\n",
       "          3.16502608e+00,   4.79632065e+00,  -4.22056982e+00,\n",
       "         -7.34662523e+00,  -8.35383243e+00,  -4.50316339e+00,\n",
       "          6.72820888e-01,   4.57867935e-01,   2.71088696e+00,\n",
       "          3.64183310e+00,   2.90756722e+00,   4.12409027e+00,\n",
       "          9.93738373e+00,   3.80232346e+00,  -1.59762650e+00,\n",
       "         -4.17975319e-01,  -2.36978490e+00,  -7.48807319e-01,\n",
       "         -5.29508273e-01,  -1.29824690e+00,  -4.07405028e+00,\n",
       "         -2.76013437e+00,  -1.01774939e+00,  -4.79966573e-02,\n",
       "         -1.84134014e+00,  -9.00593711e-01,   2.93223189e+00,\n",
       "          3.17188668e+00,   4.02278603e+00,   4.41824422e+00,\n",
       "         -2.99969411e-01,  -2.50507741e+00,   2.59107422e-01,\n",
       "          4.10395533e+00,   4.01974464e+00,   5.09452529e+00,\n",
       "          2.71680894e+00,   5.62608414e+00,   9.44873780e+00,\n",
       "          8.48972842e+00,   5.07771117e+00,   1.98142239e+00,\n",
       "         -2.20114617e+00,   2.17825505e+00,  -1.20021046e+00,\n",
       "         -5.29508273e-01,  -5.29508273e-01,  -7.78844847e-01,\n",
       "         -4.74287182e+00,  -3.17943074e+00,  -1.99731164e+00,\n",
       "         -3.73269099e+00,  -5.94116545e+00,  -2.93756429e+00,\n",
       "         -1.98125216e+00,  -1.08874582e-02,   1.15617575e+00,\n",
       "          4.01233066e+00,   5.39543842e+00,   4.34521907e+00,\n",
       "          3.92567317e+00,   4.48699120e+00,   7.80333716e+00,\n",
       "          3.72101289e+00,   6.14565040e+00,   6.38924808e+00,\n",
       "          5.16674838e+00,   1.79485395e+00,   1.56982281e+00,\n",
       "          1.25805307e+00,  -2.43899422e+00,   1.72675603e+00,\n",
       "          1.41790954e+00,  -5.29508273e-01,   0.00000000e+00,\n",
       "          0.00000000e+00,  -1.25391588e+00,  -2.25928632e-01,\n",
       "          3.22954009e+00,   5.75392456e+00,  -1.25271010e+00,\n",
       "         -6.89857643e+00,   9.97127058e-01,   1.64086956e+00,\n",
       "          1.45850255e+00,  -1.38422274e+00,  -2.07310606e+00,\n",
       "         -3.05342620e+00,   1.49928385e+00,   3.19592056e+00,\n",
       "          3.05194099e+00,  -2.39627533e+00,  -3.61391618e+00,\n",
       "         -3.32899232e+00,   8.61379712e-02,  -1.12714899e+00,\n",
       "         -9.30264571e-02,  -6.20328130e-01,  -6.89362616e-01,\n",
       "          8.03443563e+00,   4.11327689e+00,   0.00000000e+00,\n",
       "          0.00000000e+00,   0.00000000e+00,  -1.34276008e+00,\n",
       "         -2.67372416e+00,  -3.10069140e+00,   3.04469154e+00,\n",
       "         -6.83243989e-01,   1.18072392e+00,  -2.30152278e+00,\n",
       "          3.55066937e+00,  -2.40553297e+00,  -2.95885726e+00,\n",
       "         -2.02602106e+00,   2.00662219e+00,   4.07521859e+00,\n",
       "          2.83894194e+00,  -2.86539795e+00,  -5.91176874e-01,\n",
       "          5.83001354e-01,  -2.07094153e+00,  -1.21583396e+00,\n",
       "         -2.14487934e+00,   1.30679358e-01,  -3.01534630e+00,\n",
       "         -2.07127463e+00,  -7.71341226e+00,  -6.16454662e-01,\n",
       "          0.00000000e+00,   0.00000000e+00,   0.00000000e+00,\n",
       "         -8.64369368e-01,   1.75620810e-01,   2.26169968e+00,\n",
       "         -3.12391146e+00,  -1.76818000e+00,  -3.85382661e+00,\n",
       "         -6.04453560e+00,  -4.10324840e+00,  -5.26354787e+00,\n",
       "         -4.69281316e+00,  -1.69354734e+00,   3.18185374e-01,\n",
       "         -3.60051397e+00,  -1.41361534e+00,  -1.86717415e+00,\n",
       "         -4.12931956e-01,  -1.48447801e+00,  -4.75625230e+00,\n",
       "         -5.90817665e+00,  -1.88054893e+00,   4.83471150e+00,\n",
       "          3.59733906e+00,   1.01872111e+01,  -7.36095310e-01,\n",
       "         -5.29508273e-01,   0.00000000e+00,   0.00000000e+00,\n",
       "          0.00000000e+00,   0.00000000e+00,  -5.29508273e-01,\n",
       "         -2.66983274e+00,  -5.29564884e+00,  -5.26466071e+00,\n",
       "         -8.60368103e+00,  -1.13749347e+01,  -1.31168214e+01,\n",
       "         -1.32602368e+01,  -1.31450724e+01,  -1.30271307e+01,\n",
       "         -1.53070321e+01,  -1.59756135e+01,  -1.03232313e+01,\n",
       "         -7.18065314e+00,  -5.19808757e+00,  -7.32153533e+00,\n",
       "         -6.91988755e+00,  -3.10488906e+00,  -1.72242425e+00,\n",
       "         -1.26085446e+00,  -2.17020515e+00,  -8.67454321e+00,\n",
       "         -5.29508273e-01,   0.00000000e+00,   0.00000000e+00,\n",
       "          0.00000000e+00,   0.00000000e+00,   0.00000000e+00,\n",
       "          0.00000000e+00,  -7.88874195e+00,  -5.72962512e+00,\n",
       "         -4.65588797e+00,  -4.03883782e+00,  -5.24187417e+00,\n",
       "         -5.22202965e+00,  -4.40253386e+00,  -2.27460897e+00,\n",
       "         -2.88798410e+00,  -6.77717974e+00,  -7.97747423e+00,\n",
       "         -7.60163637e+00,  -7.49307373e+00,  -6.24688996e+00,\n",
       "         -5.69338500e+00,  -2.91346799e+00,  -2.08418352e+00,\n",
       "         -1.48277302e+00,  -1.16825896e+00,  -7.48428330e-01,\n",
       "          0.00000000e+00,   0.00000000e+00,   0.00000000e+00,\n",
       "          0.00000000e+00]])"
      ]
     },
     "execution_count": 22,
     "metadata": {},
     "output_type": "execute_result"
    }
   ],
   "source": [
    "model.coef_"
   ]
  },
  {
   "cell_type": "code",
   "execution_count": 23,
   "metadata": {
    "collapsed": false
   },
   "outputs": [
    {
     "data": {
      "text/plain": [
       "300001.0"
      ]
     },
     "execution_count": 23,
     "metadata": {},
     "output_type": "execute_result"
    }
   ],
   "source": [
    "model.t_"
   ]
  },
  {
   "cell_type": "code",
   "execution_count": 24,
   "metadata": {
    "collapsed": false
   },
   "outputs": [],
   "source": [
    "from sklearn.metrics import accuracy_score"
   ]
  },
  {
   "cell_type": "code",
   "execution_count": 25,
   "metadata": {
    "collapsed": false
   },
   "outputs": [
    {
     "data": {
      "text/plain": [
       "0.96970000000000001"
      ]
     },
     "execution_count": 25,
     "metadata": {},
     "output_type": "execute_result"
    }
   ],
   "source": [
    "accuracy_score(y_pred, y_test_5)"
   ]
  },
  {
   "cell_type": "markdown",
   "metadata": {},
   "source": [
    "We see that the accuracy appears high. It is important to note that only about 10% of the targets are fives so accuracy is not the best metric."
   ]
  },
  {
   "cell_type": "code",
   "execution_count": 26,
   "metadata": {
    "collapsed": false
   },
   "outputs": [
    {
     "data": {
      "text/plain": [
       "array([1])"
      ]
     },
     "execution_count": 26,
     "metadata": {},
     "output_type": "execute_result"
    }
   ],
   "source": [
    "# a prediction of 0 means not 5\n",
    "model.predict(std_sc.transform([X_train[digit_index]]))"
   ]
  },
  {
   "cell_type": "code",
   "execution_count": 27,
   "metadata": {
    "collapsed": false
   },
   "outputs": [
    {
     "data": {
      "text/plain": [
       "array([0])"
      ]
     },
     "execution_count": 27,
     "metadata": {},
     "output_type": "execute_result"
    }
   ],
   "source": [
    "# a prediction of 0 means not 5\n",
    "model.predict([X_train[digit_index]])"
   ]
  },
  {
   "cell_type": "code",
   "execution_count": 28,
   "metadata": {
    "collapsed": false
   },
   "outputs": [
    {
     "data": {
      "text/plain": [
       "5.0"
      ]
     },
     "execution_count": 28,
     "metadata": {},
     "output_type": "execute_result"
    }
   ],
   "source": [
    "y_train[digit_index]"
   ]
  },
  {
   "cell_type": "markdown",
   "metadata": {},
   "source": [
    "The cross_val_score is nice because it doesn't touch the test data."
   ]
  },
  {
   "cell_type": "code",
   "execution_count": 29,
   "metadata": {
    "collapsed": false
   },
   "outputs": [
    {
     "data": {
      "text/plain": [
       "array([ 0.96533622,  0.968     ,  0.96816667,  0.96791667,  0.97091424])"
      ]
     },
     "execution_count": 29,
     "metadata": {},
     "output_type": "execute_result"
    }
   ],
   "source": [
    "# For integer/None inputs, if the estimator is a classifier and y is either binary or multiclass,\n",
    "# StratifiedKFold is used. In all other cases, KFold is used.\n",
    "from sklearn.model_selection import cross_val_score\n",
    "\n",
    "y_train_scores = cross_val_score(SGDClassifier(random_state=42), X_train_std, y_train_5, cv=5, scoring='accuracy')\n",
    "y_train_scores"
   ]
  },
  {
   "cell_type": "markdown",
   "metadata": {},
   "source": [
    "The cross_val_predict method gives the individual prediction for each case when it appears in the validation set, which happens only once during the cross validation procedure."
   ]
  },
  {
   "cell_type": "code",
   "execution_count": 30,
   "metadata": {
    "collapsed": false
   },
   "outputs": [
    {
     "data": {
      "text/plain": [
       "array([-3467.31887767,  -964.92819941,  -815.40148769, ...,    70.91032184,\n",
       "       -2202.69918751, -1664.29989177])"
      ]
     },
     "execution_count": 30,
     "metadata": {},
     "output_type": "execute_result"
    }
   ],
   "source": [
    "from sklearn.model_selection import cross_val_predict\n",
    "\n",
    "# the decision function scores\n",
    "y_train_pred = cross_val_predict(SGDClassifier(random_state=42), X_train_std, y_train_5, cv=5, method='decision_function')\n",
    "y_train_pred"
   ]
  },
  {
   "cell_type": "code",
   "execution_count": 31,
   "metadata": {
    "collapsed": false
   },
   "outputs": [
    {
     "data": {
      "text/plain": [
       "array([0, 0, 0, ..., 1, 0, 0])"
      ]
     },
     "execution_count": 31,
     "metadata": {},
     "output_type": "execute_result"
    }
   ],
   "source": [
    "# the actual predictions\n",
    "y_train_predict = cross_val_predict(SGDClassifier(random_state=42), X_train, y_train_5, cv=5)\n",
    "y_train_predict"
   ]
  },
  {
   "cell_type": "code",
   "execution_count": 32,
   "metadata": {
    "collapsed": true
   },
   "outputs": [],
   "source": [
    "from sklearn.metrics import confusion_matrix"
   ]
  },
  {
   "cell_type": "markdown",
   "metadata": {},
   "source": [
    "Still working with the training set here:"
   ]
  },
  {
   "cell_type": "code",
   "execution_count": 33,
   "metadata": {
    "collapsed": false
   },
   "outputs": [
    {
     "data": {
      "text/plain": [
       "array([[53869,   710],\n",
       "       [ 1469,  3952]])"
      ]
     },
     "execution_count": 33,
     "metadata": {},
     "output_type": "execute_result"
    }
   ],
   "source": [
    "confusion_matrix(y_true=y_train_5, y_pred=y_train_predict)"
   ]
  },
  {
   "cell_type": "code",
   "execution_count": 34,
   "metadata": {
    "collapsed": false
   },
   "outputs": [
    {
     "data": {
      "text/plain": [
       "0.84770484770484766"
      ]
     },
     "execution_count": 34,
     "metadata": {},
     "output_type": "execute_result"
    }
   ],
   "source": [
    "from sklearn.metrics import precision_score, recall_score, f1_score\n",
    "\n",
    "precision_score(y_train_5, y_train_predict)"
   ]
  },
  {
   "cell_type": "code",
   "execution_count": 35,
   "metadata": {
    "collapsed": false
   },
   "outputs": [
    {
     "data": {
      "text/plain": [
       "0.72901678657074342"
      ]
     },
     "execution_count": 35,
     "metadata": {},
     "output_type": "execute_result"
    }
   ],
   "source": [
    "recall_score(y_train_5, y_train_predict)"
   ]
  },
  {
   "cell_type": "code",
   "execution_count": 36,
   "metadata": {
    "collapsed": false
   },
   "outputs": [
    {
     "data": {
      "text/plain": [
       "0.78389368243578306"
      ]
     },
     "execution_count": 36,
     "metadata": {},
     "output_type": "execute_result"
    }
   ],
   "source": [
    "f1_score(y_train_5, y_train_predict)"
   ]
  },
  {
   "cell_type": "code",
   "execution_count": 37,
   "metadata": {
    "collapsed": false
   },
   "outputs": [
    {
     "data": {
      "text/plain": [
       "<matplotlib.text.Text at 0x160b1b7d0>"
      ]
     },
     "execution_count": 37,
     "metadata": {},
     "output_type": "execute_result"
    },
    {
     "data": {
      "image/png": "[encoded data removed]",
      "text/plain": [
       "<matplotlib.figure.Figure at 0x12ee6e1d0>"
      ]
     },
     "metadata": {},
     "output_type": "display_data"
    }
   ],
   "source": [
    "from sklearn.metrics import precision_recall_curve\n",
    "\n",
    "precision, recall, thresholds = precision_recall_curve(y_train_5, y_train_pred)\n",
    "plt.plot(precision, recall)\n",
    "plt.xlabel('precision')\n",
    "plt.ylabel('recall')"
   ]
  },
  {
   "cell_type": "code",
   "execution_count": 38,
   "metadata": {
    "collapsed": false
   },
   "outputs": [
    {
     "data": {
      "text/plain": [
       "<matplotlib.legend.Legend at 0x160d93cd0>"
      ]
     },
     "execution_count": 38,
     "metadata": {},
     "output_type": "execute_result"
    },
    {
     "data": {
      "image/png": "[encoded data removed]",
      "text/plain": [
       "<matplotlib.figure.Figure at 0x16099e690>"
      ]
     },
     "metadata": {},
     "output_type": "display_data"
    }
   ],
   "source": [
    "plt.plot(thresholds, recall[:-1], label='recall')\n",
    "plt.plot(thresholds, precision[:-1], label='precision')\n",
    "plt.plot(thresholds, 2.0 / (1.0 / recall[:-1] + 1.0 / precision[:-1]), label='f1 score')\n",
    "plt.xlabel('threshold')\n",
    "plt.ylabel('metric')\n",
    "plt.legend()"
   ]
  },
  {
   "cell_type": "code",
   "execution_count": 39,
   "metadata": {
    "collapsed": false
   },
   "outputs": [
    {
     "data": {
      "text/plain": [
       "<matplotlib.text.Text at 0x12f1c9d10>"
      ]
     },
     "execution_count": 39,
     "metadata": {},
     "output_type": "execute_result"
    },
    {
     "data": {
      "image/png": "[encoded data removed]",
      "text/plain": [
       "<matplotlib.figure.Figure at 0x1611ea3d0>"
      ]
     },
     "metadata": {},
     "output_type": "display_data"
    }
   ],
   "source": [
    "from sklearn.metrics import roc_curve\n",
    "\n",
    "fpr, tpr, thresholds = roc_curve(y_train_5, y_train_pred)\n",
    "plt.plot(fpr, tpr)\n",
    "plt.plot([0, 1], [0, 1], 'k:')\n",
    "plt.xlabel('FPR')\n",
    "plt.ylabel('TPR')"
   ]
  },
  {
   "cell_type": "markdown",
   "metadata": {},
   "source": [
    "That concludes what we will do for binary classification. Let's move on the entire data set where we consider multiclass classification."
   ]
  },
  {
   "cell_type": "markdown",
   "metadata": {},
   "source": [
    "### Multiclass classification"
   ]
  },
  {
   "cell_type": "code",
   "execution_count": 40,
   "metadata": {
    "collapsed": false
   },
   "outputs": [
    {
     "data": {
      "text/plain": [
       "0.9103"
      ]
     },
     "execution_count": 40,
     "metadata": {},
     "output_type": "execute_result"
    }
   ],
   "source": [
    "y_train_predict = cross_val_predict(SGDClassifier(random_state=42), X_train_std, y_train, cv=5)\n",
    "accuracy_score(y_train, y_train_predict)"
   ]
  },
  {
   "cell_type": "code",
   "execution_count": 41,
   "metadata": {
    "collapsed": true
   },
   "outputs": [],
   "source": [
    "from sklearn.decomposition import PCA\n",
    "\n",
    "pca = PCA(n_components=0.8)\n",
    "X_train_std_pca = pca.fit_transform(X_train_std)"
   ]
  },
  {
   "cell_type": "code",
   "execution_count": 42,
   "metadata": {
    "collapsed": false
   },
   "outputs": [
    {
     "data": {
      "text/plain": [
       "(60000, 149)"
      ]
     },
     "execution_count": 42,
     "metadata": {},
     "output_type": "execute_result"
    }
   ],
   "source": [
    "X_train_std_pca.shape"
   ]
  },
  {
   "cell_type": "code",
   "execution_count": 43,
   "metadata": {
    "collapsed": false
   },
   "outputs": [
    {
     "data": {
      "text/plain": [
       "0.90493333333333337"
      ]
     },
     "execution_count": 43,
     "metadata": {},
     "output_type": "execute_result"
    }
   ],
   "source": [
    "y_train_predict = cross_val_predict(SGDClassifier(random_state=42), X_train_std_pca, y_train, cv=5)\n",
    "accuracy_score(y_train, y_train_predict)"
   ]
  },
  {
   "cell_type": "code",
   "execution_count": 44,
   "metadata": {
    "collapsed": false
   },
   "outputs": [
    {
     "data": {
      "text/plain": [
       "0.91086666666666671"
      ]
     },
     "execution_count": 44,
     "metadata": {},
     "output_type": "execute_result"
    }
   ],
   "source": [
    "y_train_predict = cross_val_predict(SGDClassifier(loss='log'), X_train_std, y_train, cv=5)\n",
    "accuracy_score(y_train, y_train_predict)"
   ]
  },
  {
   "cell_type": "code",
   "execution_count": 45,
   "metadata": {
    "collapsed": false
   },
   "outputs": [
    {
     "data": {
      "text/plain": [
       "SGDClassifier(alpha=0.0001, average=False, class_weight=None, epsilon=0.1,\n",
       "       eta0=0.0, fit_intercept=True, l1_ratio=0.15,\n",
       "       learning_rate='optimal', loss='hinge', n_iter=5, n_jobs=1,\n",
       "       penalty='l2', power_t=0.5, random_state=None, shuffle=True,\n",
       "       verbose=0, warm_start=False)"
      ]
     },
     "execution_count": 45,
     "metadata": {},
     "output_type": "execute_result"
    }
   ],
   "source": [
    "from sklearn.pipeline import Pipeline\n",
    "\n",
    "pipeline = Pipeline([('std', StandardScaler()), ('pca', PCA(n_components=0.8))])\n",
    "X_train_prepared = pipeline.fit_transform(X_train)\n",
    "sgd_clf = SGDClassifier()\n",
    "sgd_clf.fit(X_train_prepared, y_train)"
   ]
  },
  {
   "cell_type": "code",
   "execution_count": 46,
   "metadata": {
    "collapsed": false
   },
   "outputs": [
    {
     "data": {
      "text/plain": [
       "0.90429999999999999"
      ]
     },
     "execution_count": 46,
     "metadata": {},
     "output_type": "execute_result"
    }
   ],
   "source": [
    "X_test_prepared = pipeline.transform(X_test)\n",
    "accuracy_score(y_test, sgd_clf.predict(X_test_prepared))"
   ]
  }
 ],
 "metadata": {
  "anaconda-cloud": {},
  "kernelspec": {
   "display_name": "Python [conda root]",
   "language": "python",
   "name": "conda-root-py"
  },
  "language_info": {
   "codemirror_mode": {
    "name": "ipython",
    "version": 2
   },
   "file_extension": ".py",
   "mimetype": "text/x-python",
   "name": "python",
   "nbconvert_exporter": "python",
   "pygments_lexer": "ipython2",
   "version": "2.7.12"
  }
 },
 "nbformat": 4,
 "nbformat_minor": 1
}
