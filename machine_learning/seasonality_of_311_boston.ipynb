{
 "cells": [
  {
   "cell_type": "markdown",
   "metadata": {},
   "source": [
    "# Jonathan Halverson\n",
    "# Tuesday, February 14, 2018\n",
    "# Is the number of 311 calls per day in Boston seasonal?"
   ]
  },
  {
   "cell_type": "code",
   "execution_count": 1,
   "metadata": {
    "collapsed": true
   },
   "outputs": [],
   "source": [
    "import numpy as np\n",
    "import pandas as pd\n",
    "import matplotlib.pyplot as plt\n",
    "%matplotlib inline\n",
    "plt.style.use('halverson')"
   ]
  },
  {
   "cell_type": "code",
   "execution_count": 2,
   "metadata": {
    "collapsed": false
   },
   "outputs": [],
   "source": [
    "df = pd.read_csv('311.csv', parse_dates=['open_dt'], header=0, low_memory=False)"
   ]
  },
  {
   "cell_type": "code",
   "execution_count": 3,
   "metadata": {
    "collapsed": false
   },
   "outputs": [
    {
     "data": {
      "text/plain": [
       "(1191182, 29)"
      ]
     },
     "execution_count": 3,
     "metadata": {},
     "output_type": "execute_result"
    }
   ],
   "source": [
    "df.shape"
   ]
  },
  {
   "cell_type": "code",
   "execution_count": 4,
   "metadata": {
    "collapsed": false
   },
   "outputs": [
    {
     "data": {
      "text/html": [
       "<div>\n",
       "<style scoped>\n",
       "    .dataframe tbody tr th:only-of-type {\n",
       "        vertical-align: middle;\n",
       "    }\n",
       "\n",
       "    .dataframe tbody tr th {\n",
       "        vertical-align: top;\n",
       "    }\n",
       "\n",
       "    .dataframe thead th {\n",
       "        text-align: right;\n",
       "    }\n",
       "</style>\n",
       "<table border=\"1\" class=\"dataframe\">\n",
       "  <thead>\n",
       "    <tr style=\"text-align: right;\">\n",
       "      <th></th>\n",
       "      <th>0</th>\n",
       "      <th>1</th>\n",
       "    </tr>\n",
       "  </thead>\n",
       "  <tbody>\n",
       "    <tr>\n",
       "      <th>CASE_ENQUIRY_ID</th>\n",
       "      <td>101002370927</td>\n",
       "      <td>101002370926</td>\n",
       "    </tr>\n",
       "    <tr>\n",
       "      <th>open_dt</th>\n",
       "      <td>2018-02-13 23:54:34</td>\n",
       "      <td>2018-02-13 23:41:00</td>\n",
       "    </tr>\n",
       "    <tr>\n",
       "      <th>target_dt</th>\n",
       "      <td>2018-02-15 08:30:00</td>\n",
       "      <td>2018-02-28 08:30:00</td>\n",
       "    </tr>\n",
       "    <tr>\n",
       "      <th>closed_dt</th>\n",
       "      <td>NaN</td>\n",
       "      <td>NaN</td>\n",
       "    </tr>\n",
       "    <tr>\n",
       "      <th>OnTime_Status</th>\n",
       "      <td>ONTIME</td>\n",
       "      <td>ONTIME</td>\n",
       "    </tr>\n",
       "    <tr>\n",
       "      <th>CASE_STATUS</th>\n",
       "      <td>Open</td>\n",
       "      <td>Open</td>\n",
       "    </tr>\n",
       "    <tr>\n",
       "      <th>CLOSURE_REASON</th>\n",
       "      <td></td>\n",
       "      <td></td>\n",
       "    </tr>\n",
       "    <tr>\n",
       "      <th>CASE_TITLE</th>\n",
       "      <td>Request for Pothole Repair</td>\n",
       "      <td>PRINTED : robert</td>\n",
       "    </tr>\n",
       "    <tr>\n",
       "      <th>SUBJECT</th>\n",
       "      <td>Public Works Department</td>\n",
       "      <td>Public Works Department</td>\n",
       "    </tr>\n",
       "    <tr>\n",
       "      <th>REASON</th>\n",
       "      <td>Highway Maintenance</td>\n",
       "      <td>Street Lights</td>\n",
       "    </tr>\n",
       "    <tr>\n",
       "      <th>TYPE</th>\n",
       "      <td>Request for Pothole Repair</td>\n",
       "      <td>Street Light Outages</td>\n",
       "    </tr>\n",
       "    <tr>\n",
       "      <th>QUEUE</th>\n",
       "      <td>PWDx_District 1C: Downtown</td>\n",
       "      <td>PWDx_Street Light Outages</td>\n",
       "    </tr>\n",
       "    <tr>\n",
       "      <th>Department</th>\n",
       "      <td>PWDx</td>\n",
       "      <td>PWDx</td>\n",
       "    </tr>\n",
       "    <tr>\n",
       "      <th>SubmittedPhoto</th>\n",
       "      <td>https://cityworker.cityofboston.gov:8443/atta...</td>\n",
       "      <td>NaN</td>\n",
       "    </tr>\n",
       "    <tr>\n",
       "      <th>ClosedPhoto</th>\n",
       "      <td>NaN</td>\n",
       "      <td>NaN</td>\n",
       "    </tr>\n",
       "    <tr>\n",
       "      <th>Location</th>\n",
       "      <td>INTERSECTION of Public Alley No. 715 &amp; Massach...</td>\n",
       "      <td>1149 Hyde Park Ave  Hyde Park  MA  02136</td>\n",
       "    </tr>\n",
       "    <tr>\n",
       "      <th>Fire_district</th>\n",
       "      <td>4</td>\n",
       "      <td>12</td>\n",
       "    </tr>\n",
       "    <tr>\n",
       "      <th>pwd_district</th>\n",
       "      <td>1C</td>\n",
       "      <td>08</td>\n",
       "    </tr>\n",
       "    <tr>\n",
       "      <th>city_council_district</th>\n",
       "      <td>3</td>\n",
       "      <td>5</td>\n",
       "    </tr>\n",
       "    <tr>\n",
       "      <th>police_district</th>\n",
       "      <td>D4</td>\n",
       "      <td>E18</td>\n",
       "    </tr>\n",
       "    <tr>\n",
       "      <th>neighborhood</th>\n",
       "      <td>South End</td>\n",
       "      <td>Hyde Park</td>\n",
       "    </tr>\n",
       "    <tr>\n",
       "      <th>neighborhood_services_district</th>\n",
       "      <td>6</td>\n",
       "      <td>10</td>\n",
       "    </tr>\n",
       "    <tr>\n",
       "      <th>ward</th>\n",
       "      <td>8</td>\n",
       "      <td>Ward 18</td>\n",
       "    </tr>\n",
       "    <tr>\n",
       "      <th>precinct</th>\n",
       "      <td>0802</td>\n",
       "      <td>1813</td>\n",
       "    </tr>\n",
       "    <tr>\n",
       "      <th>LOCATION_STREET_NAME</th>\n",
       "      <td>INTERSECTION Public Alley No. 715 &amp; Massachuse...</td>\n",
       "      <td>1149 Hyde Park Ave</td>\n",
       "    </tr>\n",
       "    <tr>\n",
       "      <th>LOCATION_ZIPCODE</th>\n",
       "      <td>NaN</td>\n",
       "      <td>2136</td>\n",
       "    </tr>\n",
       "    <tr>\n",
       "      <th>Latitude</th>\n",
       "      <td>42.3594</td>\n",
       "      <td>42.2599</td>\n",
       "    </tr>\n",
       "    <tr>\n",
       "      <th>Longitude</th>\n",
       "      <td>-71.0587</td>\n",
       "      <td>-71.1234</td>\n",
       "    </tr>\n",
       "    <tr>\n",
       "      <th>Source</th>\n",
       "      <td>City Worker App</td>\n",
       "      <td>Citizens Connect App</td>\n",
       "    </tr>\n",
       "  </tbody>\n",
       "</table>\n",
       "</div>"
      ],
      "text/plain": [
       "                                                                                0  \\\n",
       "CASE_ENQUIRY_ID                                                      101002370927   \n",
       "open_dt                                                       2018-02-13 23:54:34   \n",
       "target_dt                                                     2018-02-15 08:30:00   \n",
       "closed_dt                                                                     NaN   \n",
       "OnTime_Status                                                              ONTIME   \n",
       "CASE_STATUS                                                                  Open   \n",
       "CLOSURE_REASON                                                                      \n",
       "CASE_TITLE                                             Request for Pothole Repair   \n",
       "SUBJECT                                                   Public Works Department   \n",
       "REASON                                                        Highway Maintenance   \n",
       "TYPE                                                   Request for Pothole Repair   \n",
       "QUEUE                                                  PWDx_District 1C: Downtown   \n",
       "Department                                                                   PWDx   \n",
       "SubmittedPhoto                   https://cityworker.cityofboston.gov:8443/atta...   \n",
       "ClosedPhoto                                                                   NaN   \n",
       "Location                        INTERSECTION of Public Alley No. 715 & Massach...   \n",
       "Fire_district                                                                   4   \n",
       "pwd_district                                                                   1C   \n",
       "city_council_district                                                           3   \n",
       "police_district                                                                D4   \n",
       "neighborhood                                                            South End   \n",
       "neighborhood_services_district                                                  6   \n",
       "ward                                                                            8   \n",
       "precinct                                                                     0802   \n",
       "LOCATION_STREET_NAME            INTERSECTION Public Alley No. 715 & Massachuse...   \n",
       "LOCATION_ZIPCODE                                                              NaN   \n",
       "Latitude                                                                  42.3594   \n",
       "Longitude                                                                -71.0587   \n",
       "Source                                                            City Worker App   \n",
       "\n",
       "                                                                       1  \n",
       "CASE_ENQUIRY_ID                                             101002370926  \n",
       "open_dt                                              2018-02-13 23:41:00  \n",
       "target_dt                                            2018-02-28 08:30:00  \n",
       "closed_dt                                                            NaN  \n",
       "OnTime_Status                                                     ONTIME  \n",
       "CASE_STATUS                                                         Open  \n",
       "CLOSURE_REASON                                                            \n",
       "CASE_TITLE                                              PRINTED : robert  \n",
       "SUBJECT                                          Public Works Department  \n",
       "REASON                                                     Street Lights  \n",
       "TYPE                                                Street Light Outages  \n",
       "QUEUE                                          PWDx_Street Light Outages  \n",
       "Department                                                          PWDx  \n",
       "SubmittedPhoto                                                       NaN  \n",
       "ClosedPhoto                                                          NaN  \n",
       "Location                        1149 Hyde Park Ave  Hyde Park  MA  02136  \n",
       "Fire_district                                                         12  \n",
       "pwd_district                                                          08  \n",
       "city_council_district                                                  5  \n",
       "police_district                                                      E18  \n",
       "neighborhood                                                   Hyde Park  \n",
       "neighborhood_services_district                                        10  \n",
       "ward                                                             Ward 18  \n",
       "precinct                                                            1813  \n",
       "LOCATION_STREET_NAME                                  1149 Hyde Park Ave  \n",
       "LOCATION_ZIPCODE                                                    2136  \n",
       "Latitude                                                         42.2599  \n",
       "Longitude                                                       -71.1234  \n",
       "Source                                              Citizens Connect App  "
      ]
     },
     "execution_count": 4,
     "metadata": {},
     "output_type": "execute_result"
    }
   ],
   "source": [
    "df.head(2).T"
   ]
  },
  {
   "cell_type": "code",
   "execution_count": 5,
   "metadata": {
    "collapsed": false
   },
   "outputs": [
    {
     "data": {
      "text/html": [
       "<div>\n",
       "<style scoped>\n",
       "    .dataframe tbody tr th:only-of-type {\n",
       "        vertical-align: middle;\n",
       "    }\n",
       "\n",
       "    .dataframe tbody tr th {\n",
       "        vertical-align: top;\n",
       "    }\n",
       "\n",
       "    .dataframe thead th {\n",
       "        text-align: right;\n",
       "    }\n",
       "</style>\n",
       "<table border=\"1\" class=\"dataframe\">\n",
       "  <thead>\n",
       "    <tr style=\"text-align: right;\">\n",
       "      <th></th>\n",
       "      <th>1191180</th>\n",
       "      <th>1191181</th>\n",
       "    </tr>\n",
       "  </thead>\n",
       "  <tbody>\n",
       "    <tr>\n",
       "      <th>CASE_ENQUIRY_ID</th>\n",
       "      <td>101000295614</td>\n",
       "      <td>101000295613</td>\n",
       "    </tr>\n",
       "    <tr>\n",
       "      <th>open_dt</th>\n",
       "      <td>2011-07-01 02:18:31</td>\n",
       "      <td>2011-07-01 01:32:33</td>\n",
       "    </tr>\n",
       "    <tr>\n",
       "      <th>target_dt</th>\n",
       "      <td>2011-07-05 02:18:31</td>\n",
       "      <td>2011-07-15 01:32:32</td>\n",
       "    </tr>\n",
       "    <tr>\n",
       "      <th>closed_dt</th>\n",
       "      <td>2011-07-01 06:12:43</td>\n",
       "      <td>2011-07-01 05:06:58</td>\n",
       "    </tr>\n",
       "    <tr>\n",
       "      <th>OnTime_Status</th>\n",
       "      <td>ONTIME</td>\n",
       "      <td>ONTIME</td>\n",
       "    </tr>\n",
       "    <tr>\n",
       "      <th>CASE_STATUS</th>\n",
       "      <td>Closed</td>\n",
       "      <td>Closed</td>\n",
       "    </tr>\n",
       "    <tr>\n",
       "      <th>CLOSURE_REASON</th>\n",
       "      <td>Case Closed Case Scheduled Items have been sch...</td>\n",
       "      <td>Case Closed Case Resolved replaced 100 amp fus...</td>\n",
       "    </tr>\n",
       "    <tr>\n",
       "      <th>CASE_TITLE</th>\n",
       "      <td>Schedule a Bulk Item Pickup</td>\n",
       "      <td>Street Light Outages</td>\n",
       "    </tr>\n",
       "    <tr>\n",
       "      <th>SUBJECT</th>\n",
       "      <td>Public Works Department</td>\n",
       "      <td>Public Works Department</td>\n",
       "    </tr>\n",
       "    <tr>\n",
       "      <th>REASON</th>\n",
       "      <td>Sanitation</td>\n",
       "      <td>Street Lights</td>\n",
       "    </tr>\n",
       "    <tr>\n",
       "      <th>TYPE</th>\n",
       "      <td>Schedule a Bulk Item Pickup</td>\n",
       "      <td>Street Light Outages</td>\n",
       "    </tr>\n",
       "    <tr>\n",
       "      <th>QUEUE</th>\n",
       "      <td>PWDx_Schedule a Bulk Item Pickup</td>\n",
       "      <td>PWDx_Street Light Outages</td>\n",
       "    </tr>\n",
       "    <tr>\n",
       "      <th>Department</th>\n",
       "      <td>PWDx</td>\n",
       "      <td>PWDx</td>\n",
       "    </tr>\n",
       "    <tr>\n",
       "      <th>SubmittedPhoto</th>\n",
       "      <td>NaN</td>\n",
       "      <td>NaN</td>\n",
       "    </tr>\n",
       "    <tr>\n",
       "      <th>ClosedPhoto</th>\n",
       "      <td>NaN</td>\n",
       "      <td>NaN</td>\n",
       "    </tr>\n",
       "    <tr>\n",
       "      <th>Location</th>\n",
       "      <td>39 Lorraine St  Roslindale  MA  02131</td>\n",
       "      <td>INTERSECTION of Groveland St &amp; River St  Matta...</td>\n",
       "    </tr>\n",
       "    <tr>\n",
       "      <th>Fire_district</th>\n",
       "      <td>12</td>\n",
       "      <td>8</td>\n",
       "    </tr>\n",
       "    <tr>\n",
       "      <th>pwd_district</th>\n",
       "      <td>06</td>\n",
       "      <td>07</td>\n",
       "    </tr>\n",
       "    <tr>\n",
       "      <th>city_council_district</th>\n",
       "      <td>5</td>\n",
       "      <td>3</td>\n",
       "    </tr>\n",
       "    <tr>\n",
       "      <th>police_district</th>\n",
       "      <td>E5</td>\n",
       "      <td>B3</td>\n",
       "    </tr>\n",
       "    <tr>\n",
       "      <th>neighborhood</th>\n",
       "      <td>Roslindale</td>\n",
       "      <td>Greater Mattapan</td>\n",
       "    </tr>\n",
       "    <tr>\n",
       "      <th>neighborhood_services_district</th>\n",
       "      <td>10</td>\n",
       "      <td>7</td>\n",
       "    </tr>\n",
       "    <tr>\n",
       "      <th>ward</th>\n",
       "      <td>Ward 20</td>\n",
       "      <td>Ward 17</td>\n",
       "    </tr>\n",
       "    <tr>\n",
       "      <th>precinct</th>\n",
       "      <td>2008</td>\n",
       "      <td>1714</td>\n",
       "    </tr>\n",
       "    <tr>\n",
       "      <th>LOCATION_STREET_NAME</th>\n",
       "      <td>39 Lorraine St</td>\n",
       "      <td>INTERSECTION Groveland St &amp; River St</td>\n",
       "    </tr>\n",
       "    <tr>\n",
       "      <th>LOCATION_ZIPCODE</th>\n",
       "      <td>2131</td>\n",
       "      <td>NaN</td>\n",
       "    </tr>\n",
       "    <tr>\n",
       "      <th>Latitude</th>\n",
       "      <td>42.2839</td>\n",
       "      <td>42.2715</td>\n",
       "    </tr>\n",
       "    <tr>\n",
       "      <th>Longitude</th>\n",
       "      <td>-71.1447</td>\n",
       "      <td>-71.0772</td>\n",
       "    </tr>\n",
       "    <tr>\n",
       "      <th>Source</th>\n",
       "      <td>Self Service</td>\n",
       "      <td>Employee Generated</td>\n",
       "    </tr>\n",
       "  </tbody>\n",
       "</table>\n",
       "</div>"
      ],
      "text/plain": [
       "                                                                          1191180  \\\n",
       "CASE_ENQUIRY_ID                                                      101000295614   \n",
       "open_dt                                                       2011-07-01 02:18:31   \n",
       "target_dt                                                     2011-07-05 02:18:31   \n",
       "closed_dt                                                     2011-07-01 06:12:43   \n",
       "OnTime_Status                                                              ONTIME   \n",
       "CASE_STATUS                                                                Closed   \n",
       "CLOSURE_REASON                  Case Closed Case Scheduled Items have been sch...   \n",
       "CASE_TITLE                                            Schedule a Bulk Item Pickup   \n",
       "SUBJECT                                                   Public Works Department   \n",
       "REASON                                                                 Sanitation   \n",
       "TYPE                                                  Schedule a Bulk Item Pickup   \n",
       "QUEUE                                            PWDx_Schedule a Bulk Item Pickup   \n",
       "Department                                                                   PWDx   \n",
       "SubmittedPhoto                                                                NaN   \n",
       "ClosedPhoto                                                                   NaN   \n",
       "Location                                    39 Lorraine St  Roslindale  MA  02131   \n",
       "Fire_district                                                                  12   \n",
       "pwd_district                                                                   06   \n",
       "city_council_district                                                           5   \n",
       "police_district                                                                E5   \n",
       "neighborhood                                                           Roslindale   \n",
       "neighborhood_services_district                                                 10   \n",
       "ward                                                                      Ward 20   \n",
       "precinct                                                                     2008   \n",
       "LOCATION_STREET_NAME                                               39 Lorraine St   \n",
       "LOCATION_ZIPCODE                                                             2131   \n",
       "Latitude                                                                  42.2839   \n",
       "Longitude                                                                -71.1447   \n",
       "Source                                                               Self Service   \n",
       "\n",
       "                                                                          1191181  \n",
       "CASE_ENQUIRY_ID                                                      101000295613  \n",
       "open_dt                                                       2011-07-01 01:32:33  \n",
       "target_dt                                                     2011-07-15 01:32:32  \n",
       "closed_dt                                                     2011-07-01 05:06:58  \n",
       "OnTime_Status                                                              ONTIME  \n",
       "CASE_STATUS                                                                Closed  \n",
       "CLOSURE_REASON                  Case Closed Case Resolved replaced 100 amp fus...  \n",
       "CASE_TITLE                                                   Street Light Outages  \n",
       "SUBJECT                                                   Public Works Department  \n",
       "REASON                                                              Street Lights  \n",
       "TYPE                                                         Street Light Outages  \n",
       "QUEUE                                                   PWDx_Street Light Outages  \n",
       "Department                                                                   PWDx  \n",
       "SubmittedPhoto                                                                NaN  \n",
       "ClosedPhoto                                                                   NaN  \n",
       "Location                        INTERSECTION of Groveland St & River St  Matta...  \n",
       "Fire_district                                                                   8  \n",
       "pwd_district                                                                   07  \n",
       "city_council_district                                                           3  \n",
       "police_district                                                                B3  \n",
       "neighborhood                                                     Greater Mattapan  \n",
       "neighborhood_services_district                                                  7  \n",
       "ward                                                                      Ward 17  \n",
       "precinct                                                                     1714  \n",
       "LOCATION_STREET_NAME                         INTERSECTION Groveland St & River St  \n",
       "LOCATION_ZIPCODE                                                              NaN  \n",
       "Latitude                                                                  42.2715  \n",
       "Longitude                                                                -71.0772  \n",
       "Source                                                         Employee Generated  "
      ]
     },
     "execution_count": 5,
     "metadata": {},
     "output_type": "execute_result"
    }
   ],
   "source": [
    "df.tail(2).T"
   ]
  },
  {
   "cell_type": "code",
   "execution_count": 6,
   "metadata": {
    "collapsed": false
   },
   "outputs": [
    {
     "name": "stdout",
     "output_type": "stream",
     "text": [
      "<class 'pandas.core.frame.DataFrame'>\n",
      "RangeIndex: 1191182 entries, 0 to 1191181\n",
      "Data columns (total 29 columns):\n",
      "CASE_ENQUIRY_ID                   1191182 non-null int64\n",
      "open_dt                           1191182 non-null datetime64[ns]\n",
      "target_dt                         958003 non-null object\n",
      "closed_dt                         1099109 non-null object\n",
      "OnTime_Status                     1190509 non-null object\n",
      "CASE_STATUS                       1191182 non-null object\n",
      "CLOSURE_REASON                    1191182 non-null object\n",
      "CASE_TITLE                        1190697 non-null object\n",
      "SUBJECT                           1191182 non-null object\n",
      "REASON                            1191182 non-null object\n",
      "TYPE                              1191182 non-null object\n",
      "QUEUE                             1191182 non-null object\n",
      "Department                        1191182 non-null object\n",
      "SubmittedPhoto                    243770 non-null object\n",
      "ClosedPhoto                       141659 non-null object\n",
      "Location                          1191182 non-null object\n",
      "Fire_district                     1188438 non-null object\n",
      "pwd_district                      1190457 non-null object\n",
      "city_council_district             1190985 non-null object\n",
      "police_district                   1190677 non-null object\n",
      "neighborhood                      1189956 non-null object\n",
      "neighborhood_services_district    1190984 non-null object\n",
      "ward                              1191009 non-null object\n",
      "precinct                          1190410 non-null object\n",
      "LOCATION_STREET_NAME              1147239 non-null object\n",
      "LOCATION_ZIPCODE                  908601 non-null float64\n",
      "Latitude                          1191182 non-null float64\n",
      "Longitude                         1191182 non-null float64\n",
      "Source                            1191182 non-null object\n",
      "dtypes: datetime64[ns](1), float64(3), int64(1), object(24)\n",
      "memory usage: 263.6+ MB\n"
     ]
    }
   ],
   "source": [
    "df.info()"
   ]
  },
  {
   "cell_type": "code",
   "execution_count": 7,
   "metadata": {
    "collapsed": false
   },
   "outputs": [
    {
     "data": {
      "text/html": [
       "<div>\n",
       "<style scoped>\n",
       "    .dataframe tbody tr th:only-of-type {\n",
       "        vertical-align: middle;\n",
       "    }\n",
       "\n",
       "    .dataframe tbody tr th {\n",
       "        vertical-align: top;\n",
       "    }\n",
       "\n",
       "    .dataframe thead th {\n",
       "        text-align: right;\n",
       "    }\n",
       "</style>\n",
       "<table border=\"1\" class=\"dataframe\">\n",
       "  <thead>\n",
       "    <tr style=\"text-align: right;\">\n",
       "      <th></th>\n",
       "      <th>open_dt</th>\n",
       "      <th>Longitude</th>\n",
       "      <th>Latitude</th>\n",
       "    </tr>\n",
       "  </thead>\n",
       "  <tbody>\n",
       "    <tr>\n",
       "      <th>0</th>\n",
       "      <td>2018-02-13 23:54:34</td>\n",
       "      <td>-71.0587</td>\n",
       "      <td>42.3594</td>\n",
       "    </tr>\n",
       "    <tr>\n",
       "      <th>1</th>\n",
       "      <td>2018-02-13 23:41:00</td>\n",
       "      <td>-71.1234</td>\n",
       "      <td>42.2599</td>\n",
       "    </tr>\n",
       "    <tr>\n",
       "      <th>2</th>\n",
       "      <td>2018-02-13 23:26:28</td>\n",
       "      <td>-71.1126</td>\n",
       "      <td>42.3171</td>\n",
       "    </tr>\n",
       "    <tr>\n",
       "      <th>3</th>\n",
       "      <td>2018-02-13 23:26:10</td>\n",
       "      <td>-71.0810</td>\n",
       "      <td>42.3242</td>\n",
       "    </tr>\n",
       "    <tr>\n",
       "      <th>4</th>\n",
       "      <td>2018-02-13 23:21:33</td>\n",
       "      <td>-71.0587</td>\n",
       "      <td>42.3594</td>\n",
       "    </tr>\n",
       "  </tbody>\n",
       "</table>\n",
       "</div>"
      ],
      "text/plain": [
       "              open_dt  Longitude  Latitude\n",
       "0 2018-02-13 23:54:34   -71.0587   42.3594\n",
       "1 2018-02-13 23:41:00   -71.1234   42.2599\n",
       "2 2018-02-13 23:26:28   -71.1126   42.3171\n",
       "3 2018-02-13 23:26:10   -71.0810   42.3242\n",
       "4 2018-02-13 23:21:33   -71.0587   42.3594"
      ]
     },
     "execution_count": 7,
     "metadata": {},
     "output_type": "execute_result"
    }
   ],
   "source": [
    "df = df[['open_dt', 'Longitude', 'Latitude']]\n",
    "df.head()"
   ]
  },
  {
   "cell_type": "code",
   "execution_count": 8,
   "metadata": {
    "collapsed": false
   },
   "outputs": [],
   "source": [
    "df['by_day'] = df.open_dt.map(lambda u: (u.year, u.month, u.day))\n",
    "df['date'] = df.open_dt.dt.date\n",
    "df['weekofyear'] = df.open_dt.dt.weekofyear\n",
    "df['dayofweek'] = df.open_dt.dt.dayofweek\n",
    "df['weekday_name'] = df.open_dt.dt.weekday_name\n",
    "df['month'] = df.open_dt.dt.month\n",
    "df['days_since'] = (df.open_dt.dt.date - df.iloc[-1, 0].date()) / np.timedelta64(1, 'D')"
   ]
  },
  {
   "cell_type": "code",
   "execution_count": 9,
   "metadata": {
    "collapsed": false
   },
   "outputs": [
    {
     "data": {
      "text/html": [
       "<div>\n",
       "<style scoped>\n",
       "    .dataframe tbody tr th:only-of-type {\n",
       "        vertical-align: middle;\n",
       "    }\n",
       "\n",
       "    .dataframe tbody tr th {\n",
       "        vertical-align: top;\n",
       "    }\n",
       "\n",
       "    .dataframe thead th {\n",
       "        text-align: right;\n",
       "    }\n",
       "</style>\n",
       "<table border=\"1\" class=\"dataframe\">\n",
       "  <thead>\n",
       "    <tr style=\"text-align: right;\">\n",
       "      <th></th>\n",
       "      <th>open_dt</th>\n",
       "      <th>Longitude</th>\n",
       "      <th>Latitude</th>\n",
       "      <th>by_day</th>\n",
       "      <th>date</th>\n",
       "      <th>weekofyear</th>\n",
       "      <th>dayofweek</th>\n",
       "      <th>weekday_name</th>\n",
       "      <th>month</th>\n",
       "      <th>days_since</th>\n",
       "    </tr>\n",
       "  </thead>\n",
       "  <tbody>\n",
       "    <tr>\n",
       "      <th>0</th>\n",
       "      <td>2018-02-13 23:54:34</td>\n",
       "      <td>-71.0587</td>\n",
       "      <td>42.3594</td>\n",
       "      <td>(2018, 2, 13)</td>\n",
       "      <td>2018-02-13</td>\n",
       "      <td>7</td>\n",
       "      <td>1</td>\n",
       "      <td>Tuesday</td>\n",
       "      <td>2</td>\n",
       "      <td>2419.0</td>\n",
       "    </tr>\n",
       "    <tr>\n",
       "      <th>1</th>\n",
       "      <td>2018-02-13 23:41:00</td>\n",
       "      <td>-71.1234</td>\n",
       "      <td>42.2599</td>\n",
       "      <td>(2018, 2, 13)</td>\n",
       "      <td>2018-02-13</td>\n",
       "      <td>7</td>\n",
       "      <td>1</td>\n",
       "      <td>Tuesday</td>\n",
       "      <td>2</td>\n",
       "      <td>2419.0</td>\n",
       "    </tr>\n",
       "    <tr>\n",
       "      <th>2</th>\n",
       "      <td>2018-02-13 23:26:28</td>\n",
       "      <td>-71.1126</td>\n",
       "      <td>42.3171</td>\n",
       "      <td>(2018, 2, 13)</td>\n",
       "      <td>2018-02-13</td>\n",
       "      <td>7</td>\n",
       "      <td>1</td>\n",
       "      <td>Tuesday</td>\n",
       "      <td>2</td>\n",
       "      <td>2419.0</td>\n",
       "    </tr>\n",
       "    <tr>\n",
       "      <th>3</th>\n",
       "      <td>2018-02-13 23:26:10</td>\n",
       "      <td>-71.0810</td>\n",
       "      <td>42.3242</td>\n",
       "      <td>(2018, 2, 13)</td>\n",
       "      <td>2018-02-13</td>\n",
       "      <td>7</td>\n",
       "      <td>1</td>\n",
       "      <td>Tuesday</td>\n",
       "      <td>2</td>\n",
       "      <td>2419.0</td>\n",
       "    </tr>\n",
       "    <tr>\n",
       "      <th>4</th>\n",
       "      <td>2018-02-13 23:21:33</td>\n",
       "      <td>-71.0587</td>\n",
       "      <td>42.3594</td>\n",
       "      <td>(2018, 2, 13)</td>\n",
       "      <td>2018-02-13</td>\n",
       "      <td>7</td>\n",
       "      <td>1</td>\n",
       "      <td>Tuesday</td>\n",
       "      <td>2</td>\n",
       "      <td>2419.0</td>\n",
       "    </tr>\n",
       "  </tbody>\n",
       "</table>\n",
       "</div>"
      ],
      "text/plain": [
       "              open_dt  Longitude  Latitude         by_day        date  \\\n",
       "0 2018-02-13 23:54:34   -71.0587   42.3594  (2018, 2, 13)  2018-02-13   \n",
       "1 2018-02-13 23:41:00   -71.1234   42.2599  (2018, 2, 13)  2018-02-13   \n",
       "2 2018-02-13 23:26:28   -71.1126   42.3171  (2018, 2, 13)  2018-02-13   \n",
       "3 2018-02-13 23:26:10   -71.0810   42.3242  (2018, 2, 13)  2018-02-13   \n",
       "4 2018-02-13 23:21:33   -71.0587   42.3594  (2018, 2, 13)  2018-02-13   \n",
       "\n",
       "   weekofyear  dayofweek weekday_name  month  days_since  \n",
       "0           7          1      Tuesday      2      2419.0  \n",
       "1           7          1      Tuesday      2      2419.0  \n",
       "2           7          1      Tuesday      2      2419.0  \n",
       "3           7          1      Tuesday      2      2419.0  \n",
       "4           7          1      Tuesday      2      2419.0  "
      ]
     },
     "execution_count": 9,
     "metadata": {},
     "output_type": "execute_result"
    }
   ],
   "source": [
    "df.head()"
   ]
  },
  {
   "cell_type": "code",
   "execution_count": 10,
   "metadata": {
    "collapsed": true
   },
   "outputs": [],
   "source": [
    "weekend_days = df[df.dayofweek > 4].reset_index(drop=True)\n",
    "week_days = df[df.dayofweek < 5].reset_index(drop=True)"
   ]
  },
  {
   "cell_type": "code",
   "execution_count": 11,
   "metadata": {
    "collapsed": false
   },
   "outputs": [
    {
     "data": {
      "text/html": [
       "<div>\n",
       "<style scoped>\n",
       "    .dataframe tbody tr th:only-of-type {\n",
       "        vertical-align: middle;\n",
       "    }\n",
       "\n",
       "    .dataframe tbody tr th {\n",
       "        vertical-align: top;\n",
       "    }\n",
       "\n",
       "    .dataframe thead th {\n",
       "        text-align: right;\n",
       "    }\n",
       "</style>\n",
       "<table border=\"1\" class=\"dataframe\">\n",
       "  <thead>\n",
       "    <tr style=\"text-align: right;\">\n",
       "      <th></th>\n",
       "      <th>open_dt</th>\n",
       "      <th>Longitude</th>\n",
       "      <th>Latitude</th>\n",
       "      <th>by_day</th>\n",
       "      <th>date</th>\n",
       "      <th>weekofyear</th>\n",
       "      <th>dayofweek</th>\n",
       "      <th>weekday_name</th>\n",
       "      <th>month</th>\n",
       "      <th>days_since</th>\n",
       "    </tr>\n",
       "  </thead>\n",
       "  <tbody>\n",
       "    <tr>\n",
       "      <th>0</th>\n",
       "      <td>2018-02-11 23:47:27</td>\n",
       "      <td>-71.1022</td>\n",
       "      <td>42.3090</td>\n",
       "      <td>(2018, 2, 11)</td>\n",
       "      <td>2018-02-11</td>\n",
       "      <td>6</td>\n",
       "      <td>6</td>\n",
       "      <td>Sunday</td>\n",
       "      <td>2</td>\n",
       "      <td>2417.0</td>\n",
       "    </tr>\n",
       "    <tr>\n",
       "      <th>1</th>\n",
       "      <td>2018-02-11 23:45:00</td>\n",
       "      <td>-71.1677</td>\n",
       "      <td>42.3487</td>\n",
       "      <td>(2018, 2, 11)</td>\n",
       "      <td>2018-02-11</td>\n",
       "      <td>6</td>\n",
       "      <td>6</td>\n",
       "      <td>Sunday</td>\n",
       "      <td>2</td>\n",
       "      <td>2417.0</td>\n",
       "    </tr>\n",
       "    <tr>\n",
       "      <th>2</th>\n",
       "      <td>2018-02-11 23:18:43</td>\n",
       "      <td>-71.1178</td>\n",
       "      <td>42.2859</td>\n",
       "      <td>(2018, 2, 11)</td>\n",
       "      <td>2018-02-11</td>\n",
       "      <td>6</td>\n",
       "      <td>6</td>\n",
       "      <td>Sunday</td>\n",
       "      <td>2</td>\n",
       "      <td>2417.0</td>\n",
       "    </tr>\n",
       "    <tr>\n",
       "      <th>3</th>\n",
       "      <td>2018-02-11 23:11:00</td>\n",
       "      <td>-71.0893</td>\n",
       "      <td>42.3499</td>\n",
       "      <td>(2018, 2, 11)</td>\n",
       "      <td>2018-02-11</td>\n",
       "      <td>6</td>\n",
       "      <td>6</td>\n",
       "      <td>Sunday</td>\n",
       "      <td>2</td>\n",
       "      <td>2417.0</td>\n",
       "    </tr>\n",
       "    <tr>\n",
       "      <th>4</th>\n",
       "      <td>2018-02-11 23:07:00</td>\n",
       "      <td>-71.0587</td>\n",
       "      <td>42.3594</td>\n",
       "      <td>(2018, 2, 11)</td>\n",
       "      <td>2018-02-11</td>\n",
       "      <td>6</td>\n",
       "      <td>6</td>\n",
       "      <td>Sunday</td>\n",
       "      <td>2</td>\n",
       "      <td>2417.0</td>\n",
       "    </tr>\n",
       "  </tbody>\n",
       "</table>\n",
       "</div>"
      ],
      "text/plain": [
       "              open_dt  Longitude  Latitude         by_day        date  \\\n",
       "0 2018-02-11 23:47:27   -71.1022   42.3090  (2018, 2, 11)  2018-02-11   \n",
       "1 2018-02-11 23:45:00   -71.1677   42.3487  (2018, 2, 11)  2018-02-11   \n",
       "2 2018-02-11 23:18:43   -71.1178   42.2859  (2018, 2, 11)  2018-02-11   \n",
       "3 2018-02-11 23:11:00   -71.0893   42.3499  (2018, 2, 11)  2018-02-11   \n",
       "4 2018-02-11 23:07:00   -71.0587   42.3594  (2018, 2, 11)  2018-02-11   \n",
       "\n",
       "   weekofyear  dayofweek weekday_name  month  days_since  \n",
       "0           6          6       Sunday      2      2417.0  \n",
       "1           6          6       Sunday      2      2417.0  \n",
       "2           6          6       Sunday      2      2417.0  \n",
       "3           6          6       Sunday      2      2417.0  \n",
       "4           6          6       Sunday      2      2417.0  "
      ]
     },
     "execution_count": 11,
     "metadata": {},
     "output_type": "execute_result"
    }
   ],
   "source": [
    "weekend_days.head()"
   ]
  },
  {
   "cell_type": "markdown",
   "metadata": {},
   "source": [
    "### Recall dates and timestamps"
   ]
  },
  {
   "cell_type": "code",
   "execution_count": 12,
   "metadata": {
    "collapsed": false
   },
   "outputs": [
    {
     "data": {
      "text/plain": [
       "datetime.date(2018, 2, 13)"
      ]
     },
     "execution_count": 12,
     "metadata": {},
     "output_type": "execute_result"
    }
   ],
   "source": [
    "df.loc[0, 'open_dt'].date()"
   ]
  },
  {
   "cell_type": "code",
   "execution_count": 13,
   "metadata": {
    "collapsed": false
   },
   "outputs": [
    {
     "data": {
      "text/plain": [
       "Timestamp('2018-02-16 00:00:00')"
      ]
     },
     "execution_count": 13,
     "metadata": {},
     "output_type": "execute_result"
    }
   ],
   "source": [
    "pd.to_datetime('today')"
   ]
  },
  {
   "cell_type": "code",
   "execution_count": 14,
   "metadata": {
    "collapsed": false
   },
   "outputs": [
    {
     "data": {
      "text/plain": [
       "Timestamp('2018-02-13 23:54:34')"
      ]
     },
     "execution_count": 14,
     "metadata": {},
     "output_type": "execute_result"
    }
   ],
   "source": [
    "df.loc[0, 'open_dt']"
   ]
  },
  {
   "cell_type": "code",
   "execution_count": 15,
   "metadata": {
    "collapsed": false
   },
   "outputs": [
    {
     "data": {
      "text/plain": [
       "numpy.datetime64('2005-01-01')"
      ]
     },
     "execution_count": 15,
     "metadata": {},
     "output_type": "execute_result"
    }
   ],
   "source": [
    "np.datetime64('2005-01-01')"
   ]
  },
  {
   "cell_type": "code",
   "execution_count": 16,
   "metadata": {
    "collapsed": false
   },
   "outputs": [
    {
     "data": {
      "text/plain": [
       "numpy.datetime64('2011-07-01T01:32:33.000000')"
      ]
     },
     "execution_count": 16,
     "metadata": {},
     "output_type": "execute_result"
    }
   ],
   "source": [
    "np.datetime64(df.iloc[-1, 0])"
   ]
  },
  {
   "cell_type": "code",
   "execution_count": 17,
   "metadata": {
    "collapsed": false
   },
   "outputs": [
    {
     "data": {
      "text/plain": [
       "datetime.date(2011, 7, 1)"
      ]
     },
     "execution_count": 17,
     "metadata": {},
     "output_type": "execute_result"
    }
   ],
   "source": [
    "df.iloc[-1, 0].date()"
   ]
  },
  {
   "cell_type": "code",
   "execution_count": 18,
   "metadata": {
    "collapsed": false
   },
   "outputs": [
    {
     "data": {
      "text/plain": [
       "1191181"
      ]
     },
     "execution_count": 18,
     "metadata": {},
     "output_type": "execute_result"
    }
   ],
   "source": [
    "df.open_dt.index[-1]"
   ]
  },
  {
   "cell_type": "code",
   "execution_count": 19,
   "metadata": {
    "collapsed": false
   },
   "outputs": [
    {
     "data": {
      "text/plain": [
       "1191181   2011-07-01 01:32:33\n",
       "Name: open_dt, dtype: datetime64[ns]"
      ]
     },
     "execution_count": 19,
     "metadata": {},
     "output_type": "execute_result"
    }
   ],
   "source": [
    "df.open_dt.tail(1)"
   ]
  },
  {
   "cell_type": "code",
   "execution_count": 20,
   "metadata": {
    "collapsed": false
   },
   "outputs": [
    {
     "data": {
      "text/plain": [
       "Timestamp('2011-07-01 01:32:33')"
      ]
     },
     "execution_count": 20,
     "metadata": {},
     "output_type": "execute_result"
    }
   ],
   "source": [
    "df.open_dt.iloc[-1]"
   ]
  },
  {
   "cell_type": "code",
   "execution_count": 21,
   "metadata": {
    "collapsed": false,
    "scrolled": false
   },
   "outputs": [
    {
     "data": {
      "text/plain": [
       "<matplotlib.text.Text at 0x110c69fd0>"
      ]
     },
     "execution_count": 21,
     "metadata": {},
     "output_type": "execute_result"
    },
    {
     "data": {
      "image/png": "[encoded data removed]",
      "text/plain": [
       "<matplotlib.figure.Figure at 0x11fa3b2d0>"
      ]
     },
     "metadata": {},
     "output_type": "display_data"
    }
   ],
   "source": [
    "plt.scatter(df.Longitude, df.Latitude, s=1, alpha=0.01)\n",
    "plt.axis('equal')\n",
    "plt.axis('square')\n",
    "plt.xlabel('Longitude')\n",
    "plt.ylabel('Latitude')"
   ]
  },
  {
   "cell_type": "code",
   "execution_count": 22,
   "metadata": {
    "collapsed": false
   },
   "outputs": [
    {
     "data": {
      "text/html": [
       "<div>\n",
       "<style scoped>\n",
       "    .dataframe tbody tr th:only-of-type {\n",
       "        vertical-align: middle;\n",
       "    }\n",
       "\n",
       "    .dataframe tbody tr th {\n",
       "        vertical-align: top;\n",
       "    }\n",
       "\n",
       "    .dataframe thead th {\n",
       "        text-align: right;\n",
       "    }\n",
       "</style>\n",
       "<table border=\"1\" class=\"dataframe\">\n",
       "  <thead>\n",
       "    <tr style=\"text-align: right;\">\n",
       "      <th></th>\n",
       "      <th>date</th>\n",
       "      <th>counts</th>\n",
       "    </tr>\n",
       "  </thead>\n",
       "  <tbody>\n",
       "    <tr>\n",
       "      <th>0</th>\n",
       "      <td>2011-07-01</td>\n",
       "      <td>378</td>\n",
       "    </tr>\n",
       "    <tr>\n",
       "      <th>1</th>\n",
       "      <td>2011-07-02</td>\n",
       "      <td>84</td>\n",
       "    </tr>\n",
       "    <tr>\n",
       "      <th>2</th>\n",
       "      <td>2011-07-03</td>\n",
       "      <td>49</td>\n",
       "    </tr>\n",
       "    <tr>\n",
       "      <th>3</th>\n",
       "      <td>2011-07-04</td>\n",
       "      <td>107</td>\n",
       "    </tr>\n",
       "    <tr>\n",
       "      <th>4</th>\n",
       "      <td>2011-07-05</td>\n",
       "      <td>406</td>\n",
       "    </tr>\n",
       "  </tbody>\n",
       "</table>\n",
       "</div>"
      ],
      "text/plain": [
       "         date  counts\n",
       "0  2011-07-01     378\n",
       "1  2011-07-02      84\n",
       "2  2011-07-03      49\n",
       "3  2011-07-04     107\n",
       "4  2011-07-05     406"
      ]
     },
     "execution_count": 22,
     "metadata": {},
     "output_type": "execute_result"
    }
   ],
   "source": [
    "counts = df.date.value_counts().sort_index().reset_index()\n",
    "counts.columns = ['date', 'counts']\n",
    "counts.head()"
   ]
  },
  {
   "cell_type": "code",
   "execution_count": 23,
   "metadata": {
    "collapsed": false
   },
   "outputs": [
    {
     "data": {
      "text/plain": [
       "<matplotlib.text.Text at 0x122ad7050>"
      ]
     },
     "execution_count": 23,
     "metadata": {},
     "output_type": "execute_result"
    },
    {
     "data": {
      "image/png": "[encoded data removed]",
      "text/plain": [
       "<matplotlib.figure.Figure at 0x1148fcc10>"
      ]
     },
     "metadata": {},
     "output_type": "display_data"
    }
   ],
   "source": [
    "plt.subplots(1, 1, figsize=(10, 3))\n",
    "plt.scatter(counts.index/365.0, counts.counts, s=10, alpha=1)\n",
    "plt.ylim(0, 1500)\n",
    "plt.xlabel('Years since recording data')\n",
    "plt.ylabel('Number of 311 events')"
   ]
  },
  {
   "cell_type": "code",
   "execution_count": 24,
   "metadata": {
    "collapsed": false
   },
   "outputs": [
    {
     "data": {
      "text/plain": [
       "<matplotlib.text.Text at 0x122bb3090>"
      ]
     },
     "execution_count": 24,
     "metadata": {},
     "output_type": "execute_result"
    },
    {
     "data": {
      "image/png": "[encoded data removed]",
      "text/plain": [
       "<matplotlib.figure.Figure at 0x122afa2d0>"
      ]
     },
     "metadata": {},
     "output_type": "display_data"
    }
   ],
   "source": [
    "plt.subplots(1, 1, figsize=(10, 3))\n",
    "plt.scatter(counts.index/365.0, counts.counts, s=10, alpha=1)\n",
    "plt.xlabel('Years since recording data')\n",
    "plt.ylabel('Number of 311 events')"
   ]
  },
  {
   "cell_type": "code",
   "execution_count": 25,
   "metadata": {
    "collapsed": false
   },
   "outputs": [],
   "source": [
    "weekend_counts = weekend_days.date.value_counts()\n",
    "weekend_counts = weekend_counts[weekend_counts < 2000]"
   ]
  },
  {
   "cell_type": "code",
   "execution_count": 26,
   "metadata": {
    "collapsed": false
   },
   "outputs": [
    {
     "data": {
      "text/plain": [
       "<matplotlib.text.Text at 0x122a94c90>"
      ]
     },
     "execution_count": 26,
     "metadata": {},
     "output_type": "execute_result"
    },
    {
     "data": {
      "image/png": "[encoded data removed]",
      "text/plain": [
       "<matplotlib.figure.Figure at 0x122b24f50>"
      ]
     },
     "metadata": {},
     "output_type": "display_data"
    }
   ],
   "source": [
    "plt.scatter(weekend_counts.index, weekend_counts.values, s=10)\n",
    "plt.title('Weekend data')\n",
    "#plt.xlim(pd.to_datetime('2012-01-01'), pd.to_datetime('2013-01-01'))"
   ]
  },
  {
   "cell_type": "code",
   "execution_count": 27,
   "metadata": {
    "collapsed": false
   },
   "outputs": [
    {
     "data": {
      "text/plain": [
       "(2011, 7, 1)     378\n",
       "(2011, 7, 2)      84\n",
       "(2011, 7, 3)      49\n",
       "(2011, 7, 4)     107\n",
       "(2011, 7, 5)     406\n",
       "(2011, 7, 6)     834\n",
       "(2011, 7, 7)     447\n",
       "(2011, 7, 8)     351\n",
       "(2011, 7, 9)     120\n",
       "(2011, 7, 10)     74\n",
       "Name: by_day, dtype: int64"
      ]
     },
     "execution_count": 27,
     "metadata": {},
     "output_type": "execute_result"
    }
   ],
   "source": [
    "df.by_day.value_counts().sort_index(ascending=True).head(10)"
   ]
  },
  {
   "cell_type": "code",
   "execution_count": 28,
   "metadata": {
    "collapsed": false
   },
   "outputs": [
    {
     "data": {
      "text/plain": [
       "1    24447\n",
       "2    26950\n",
       "3    22970\n",
       "4    21596\n",
       "5    29728\n",
       "Name: weekofyear, dtype: int64"
      ]
     },
     "execution_count": 28,
     "metadata": {},
     "output_type": "execute_result"
    }
   ],
   "source": [
    "week_counts = df.weekofyear.value_counts().sort_index()\n",
    "week_counts.head()"
   ]
  },
  {
   "cell_type": "code",
   "execution_count": 29,
   "metadata": {
    "collapsed": false
   },
   "outputs": [
    {
     "data": {
      "text/plain": [
       "<matplotlib.text.Text at 0x14f6467d0>"
      ]
     },
     "execution_count": 29,
     "metadata": {},
     "output_type": "execute_result"
    },
    {
     "data": {
      "image/png": "[encoded data removed]",
      "text/plain": [
       "<matplotlib.figure.Figure at 0x122b2f6d0>"
      ]
     },
     "metadata": {},
     "output_type": "display_data"
    }
   ],
   "source": [
    "plt.subplots(1, 1, figsize=(5, 3))\n",
    "plt.scatter(week_counts.index, week_counts.values, s=10, alpha=1)\n",
    "plt.xlabel('Week of the Year')\n",
    "plt.ylabel('Number of 311 events')"
   ]
  },
  {
   "cell_type": "code",
   "execution_count": 30,
   "metadata": {
    "collapsed": false
   },
   "outputs": [
    {
     "data": {
      "text/plain": [
       "1"
      ]
     },
     "execution_count": 30,
     "metadata": {},
     "output_type": "execute_result"
    }
   ],
   "source": [
    "pd.to_datetime('2018-01-01').weekofyear"
   ]
  },
  {
   "cell_type": "code",
   "execution_count": 31,
   "metadata": {
    "collapsed": false
   },
   "outputs": [
    {
     "data": {
      "text/plain": [
       "31"
      ]
     },
     "execution_count": 31,
     "metadata": {},
     "output_type": "execute_result"
    }
   ],
   "source": [
    "pd.to_datetime('2018-08-01').weekofyear"
   ]
  },
  {
   "cell_type": "code",
   "execution_count": 32,
   "metadata": {
    "collapsed": false
   },
   "outputs": [
    {
     "data": {
      "text/plain": [
       "0    206911\n",
       "1    220179\n",
       "2    214311\n",
       "3    201695\n",
       "4    189427\n",
       "5     81718\n",
       "6     76941\n",
       "Name: dayofweek, dtype: int64"
      ]
     },
     "execution_count": 32,
     "metadata": {},
     "output_type": "execute_result"
    }
   ],
   "source": [
    "dow = df.dayofweek.value_counts().sort_index()\n",
    "dow"
   ]
  },
  {
   "cell_type": "code",
   "execution_count": 33,
   "metadata": {
    "collapsed": false
   },
   "outputs": [
    {
     "data": {
      "text/plain": [
       "<matplotlib.text.Text at 0x14f77ac50>"
      ]
     },
     "execution_count": 33,
     "metadata": {},
     "output_type": "execute_result"
    },
    {
     "data": {
      "image/png": "[encoded data removed]",
      "text/plain": [
       "<matplotlib.figure.Figure at 0x14f09cb50>"
      ]
     },
     "metadata": {},
     "output_type": "display_data"
    }
   ],
   "source": [
    "plt.bar(dow.index, dow.values, tick_label=['M', 'Tu', 'W', 'Th', 'F', 'Sat', 'Sun'])\n",
    "plt.xlabel('Day of Week')\n",
    "plt.ylabel('Count')"
   ]
  },
  {
   "cell_type": "markdown",
   "metadata": {},
   "source": [
    "# FFT on day data"
   ]
  },
  {
   "cell_type": "code",
   "execution_count": 34,
   "metadata": {
    "collapsed": true
   },
   "outputs": [],
   "source": [
    "bos_wthr = pd.read_csv('../project_boston_restaurants/data/boston_weather_2015_2011.csv', parse_dates=['EST'])\n",
    "data = bos_wthr['Mean TemperatureF'] # use this as a check"
   ]
  },
  {
   "cell_type": "code",
   "execution_count": 35,
   "metadata": {
    "collapsed": false
   },
   "outputs": [
    {
     "data": {
      "text/plain": [
       "2011-07-01    378\n",
       "2011-07-02     84\n",
       "2011-07-03     49\n",
       "2011-07-04    107\n",
       "2011-07-05    406\n",
       "2011-07-06    834\n",
       "2011-07-07    447\n",
       "2011-07-08    351\n",
       "2011-07-09    120\n",
       "2011-07-10     74\n",
       "Name: date, dtype: int64"
      ]
     },
     "execution_count": 35,
     "metadata": {},
     "output_type": "execute_result"
    }
   ],
   "source": [
    "data = df.date.value_counts().sort_index()\n",
    "#data = week_days.date.value_counts().sort_index()\n",
    "data = data[data < 2000]\n",
    "data.head(10)"
   ]
  },
  {
   "cell_type": "code",
   "execution_count": 36,
   "metadata": {
    "collapsed": false
   },
   "outputs": [],
   "source": [
    "N = data.size\n",
    "freq = np.fft.fftfreq(n=N, d=1.0)\n",
    "Hn = np.fft.fft(data.values)\n",
    "Xn = Hn / N"
   ]
  },
  {
   "cell_type": "code",
   "execution_count": 37,
   "metadata": {
    "collapsed": true
   },
   "outputs": [],
   "source": [
    "ind = np.argwhere(freq > 0.0).flatten()"
   ]
  },
  {
   "cell_type": "code",
   "execution_count": 38,
   "metadata": {
    "collapsed": false
   },
   "outputs": [
    {
     "data": {
      "image/png": "[encoded data removed]",
      "text/plain": [
       "<matplotlib.figure.Figure at 0x14f70c450>"
      ]
     },
     "metadata": {},
     "output_type": "display_data"
    }
   ],
   "source": [
    "plt.subplots(figsize=(8, 3))\n",
    "plt.subplot(121)\n",
    "plt.scatter(Xn[ind].real, Xn[ind].imag, marker='.', alpha=0.5)\n",
    "plt.xlabel('Re(Xn)')\n",
    "plt.ylabel('Im(Xn)')\n",
    "plt.subplot(122)\n",
    "plt.semilogx(freq[ind], np.absolute(Xn[ind]))\n",
    "plt.xlabel('frequency')\n",
    "plt.ylabel('|Hn|')\n",
    "plt.tight_layout()"
   ]
  },
  {
   "cell_type": "code",
   "execution_count": 39,
   "metadata": {
    "collapsed": false
   },
   "outputs": [
    {
     "data": {
      "text/plain": [
       "<matplotlib.text.Text at 0x149d151d0>"
      ]
     },
     "execution_count": 39,
     "metadata": {},
     "output_type": "execute_result"
    },
    {
     "data": {
      "image/png": "[encoded data removed]",
      "text/plain": [
       "<matplotlib.figure.Figure at 0x14f777450>"
      ]
     },
     "metadata": {},
     "output_type": "display_data"
    }
   ],
   "source": [
    "plt.plot(freq[ind], np.absolute(Xn[ind]), marker='o')\n",
    "plt.axvline(1.0 / 365.0, c='r')\n",
    "plt.xlim(0.0, 0.01)\n",
    "plt.xlabel('frequency')\n",
    "#plt.title('Weekday data')"
   ]
  },
  {
   "cell_type": "markdown",
   "metadata": {},
   "source": [
    "We do not see a seasonality effect. Note that when only weekdays are considered the frequency should be around 261 days."
   ]
  },
  {
   "cell_type": "markdown",
   "metadata": {},
   "source": [
    "### Do the number of 311 events follow a Poisson distribution?"
   ]
  },
  {
   "cell_type": "markdown",
   "metadata": {},
   "source": [
    "Do the number of events per weekday follow a Poisson distribution. The assemptions would seem to suggest that it should."
   ]
  },
  {
   "cell_type": "code",
   "execution_count": 40,
   "metadata": {
    "collapsed": false
   },
   "outputs": [
    {
     "data": {
      "text/plain": [
       "array([378, 107, 406, ..., 771, 830, 778])"
      ]
     },
     "execution_count": 40,
     "metadata": {},
     "output_type": "execute_result"
    }
   ],
   "source": [
    "counts = week_days.groupby('date').size().values\n",
    "counts"
   ]
  },
  {
   "cell_type": "code",
   "execution_count": 41,
   "metadata": {
    "collapsed": false
   },
   "outputs": [
    {
     "data": {
      "text/plain": [
       "<matplotlib.text.Text at 0x10ca0b750>"
      ]
     },
     "execution_count": 41,
     "metadata": {},
     "output_type": "execute_result"
    },
    {
     "data": {
      "image/png": "[encoded data removed]",
      "text/plain": [
       "<matplotlib.figure.Figure at 0x14f6f0b10>"
      ]
     },
     "metadata": {},
     "output_type": "display_data"
    }
   ],
   "source": [
    "plt.hist(counts, bins=25, normed=True)\n",
    "plt.xlabel('Number of 311 Events per Day')\n",
    "plt.ylabel('Count')"
   ]
  },
  {
   "cell_type": "code",
   "execution_count": 42,
   "metadata": {
    "collapsed": true
   },
   "outputs": [],
   "source": [
    "from scipy.stats import poisson"
   ]
  },
  {
   "cell_type": "code",
   "execution_count": 43,
   "metadata": {
    "collapsed": false
   },
   "outputs": [
    {
     "data": {
      "text/plain": [
       "(0, 3000)"
      ]
     },
     "execution_count": 43,
     "metadata": {},
     "output_type": "execute_result"
    },
    {
     "data": {
      "image/png": "[encoded data removed]",
      "text/plain": [
       "<matplotlib.figure.Figure at 0x146946710>"
      ]
     },
     "metadata": {},
     "output_type": "display_data"
    }
   ],
   "source": [
    "plt.hist(poisson.rvs(500, size=10000), normed=True)\n",
    "plt.xlim(0, 3000)"
   ]
  },
  {
   "cell_type": "markdown",
   "metadata": {},
   "source": [
    "It appears that the data does not fit a Poission distribution."
   ]
  }
 ],
 "metadata": {
  "anaconda-cloud": {},
  "kernelspec": {
   "display_name": "Python [conda root]",
   "language": "python",
   "name": "conda-root-py"
  },
  "language_info": {
   "codemirror_mode": {
    "name": "ipython",
    "version": 2
   },
   "file_extension": ".py",
   "mimetype": "text/x-python",
   "name": "python",
   "nbconvert_exporter": "python",
   "pygments_lexer": "ipython2",
   "version": "2.7.12"
  }
 },
 "nbformat": 4,
 "nbformat_minor": 1
}
