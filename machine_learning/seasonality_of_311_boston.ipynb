{
 "cells": [
  {
   "cell_type": "markdown",
   "metadata": {},
   "source": [
    "# Jonathan Halverson\n",
    "# Tuesday, February 14, 2018\n",
    "# Is the number of 311 calls per day in Boston seasonal?"
   ]
  },
  {
   "cell_type": "code",
   "execution_count": 205,
   "metadata": {
    "collapsed": true
   },
   "outputs": [],
   "source": [
    "import numpy as np\n",
    "import pandas as pd\n",
    "import matplotlib.pyplot as plt\n",
    "%matplotlib inline\n",
    "plt.style.use('halverson')"
   ]
  },
  {
   "cell_type": "code",
   "execution_count": 204,
   "metadata": {
    "collapsed": false
   },
   "outputs": [],
   "source": [
    "df = pd.read_csv('311.csv', parse_dates=['open_dt'], header=0, low_memory=False)"
   ]
  },
  {
   "cell_type": "code",
   "execution_count": 206,
   "metadata": {
    "collapsed": false
   },
   "outputs": [
    {
     "data": {
      "text/plain": [
       "(1191182, 29)"
      ]
     },
     "execution_count": 206,
     "metadata": {},
     "output_type": "execute_result"
    }
   ],
   "source": [
    "df.shape"
   ]
  },
  {
   "cell_type": "code",
   "execution_count": 207,
   "metadata": {
    "collapsed": false
   },
   "outputs": [
    {
     "data": {
      "text/html": [
       "<div>\n",
       "<style scoped>\n",
       "    .dataframe tbody tr th:only-of-type {\n",
       "        vertical-align: middle;\n",
       "    }\n",
       "\n",
       "    .dataframe tbody tr th {\n",
       "        vertical-align: top;\n",
       "    }\n",
       "\n",
       "    .dataframe thead th {\n",
       "        text-align: right;\n",
       "    }\n",
       "</style>\n",
       "<table border=\"1\" class=\"dataframe\">\n",
       "  <thead>\n",
       "    <tr style=\"text-align: right;\">\n",
       "      <th></th>\n",
       "      <th>0</th>\n",
       "      <th>1</th>\n",
       "    </tr>\n",
       "  </thead>\n",
       "  <tbody>\n",
       "    <tr>\n",
       "      <th>CASE_ENQUIRY_ID</th>\n",
       "      <td>101002370927</td>\n",
       "      <td>101002370926</td>\n",
       "    </tr>\n",
       "    <tr>\n",
       "      <th>open_dt</th>\n",
       "      <td>2018-02-13 23:54:34</td>\n",
       "      <td>2018-02-13 23:41:00</td>\n",
       "    </tr>\n",
       "    <tr>\n",
       "      <th>target_dt</th>\n",
       "      <td>2018-02-15 08:30:00</td>\n",
       "      <td>2018-02-28 08:30:00</td>\n",
       "    </tr>\n",
       "    <tr>\n",
       "      <th>closed_dt</th>\n",
       "      <td>NaN</td>\n",
       "      <td>NaN</td>\n",
       "    </tr>\n",
       "    <tr>\n",
       "      <th>OnTime_Status</th>\n",
       "      <td>ONTIME</td>\n",
       "      <td>ONTIME</td>\n",
       "    </tr>\n",
       "    <tr>\n",
       "      <th>CASE_STATUS</th>\n",
       "      <td>Open</td>\n",
       "      <td>Open</td>\n",
       "    </tr>\n",
       "    <tr>\n",
       "      <th>CLOSURE_REASON</th>\n",
       "      <td></td>\n",
       "      <td></td>\n",
       "    </tr>\n",
       "    <tr>\n",
       "      <th>CASE_TITLE</th>\n",
       "      <td>Request for Pothole Repair</td>\n",
       "      <td>PRINTED : robert</td>\n",
       "    </tr>\n",
       "    <tr>\n",
       "      <th>SUBJECT</th>\n",
       "      <td>Public Works Department</td>\n",
       "      <td>Public Works Department</td>\n",
       "    </tr>\n",
       "    <tr>\n",
       "      <th>REASON</th>\n",
       "      <td>Highway Maintenance</td>\n",
       "      <td>Street Lights</td>\n",
       "    </tr>\n",
       "    <tr>\n",
       "      <th>TYPE</th>\n",
       "      <td>Request for Pothole Repair</td>\n",
       "      <td>Street Light Outages</td>\n",
       "    </tr>\n",
       "    <tr>\n",
       "      <th>QUEUE</th>\n",
       "      <td>PWDx_District 1C: Downtown</td>\n",
       "      <td>PWDx_Street Light Outages</td>\n",
       "    </tr>\n",
       "    <tr>\n",
       "      <th>Department</th>\n",
       "      <td>PWDx</td>\n",
       "      <td>PWDx</td>\n",
       "    </tr>\n",
       "    <tr>\n",
       "      <th>SubmittedPhoto</th>\n",
       "      <td>https://cityworker.cityofboston.gov:8443/atta...</td>\n",
       "      <td>NaN</td>\n",
       "    </tr>\n",
       "    <tr>\n",
       "      <th>ClosedPhoto</th>\n",
       "      <td>NaN</td>\n",
       "      <td>NaN</td>\n",
       "    </tr>\n",
       "    <tr>\n",
       "      <th>Location</th>\n",
       "      <td>INTERSECTION of Public Alley No. 715 &amp; Massach...</td>\n",
       "      <td>1149 Hyde Park Ave  Hyde Park  MA  02136</td>\n",
       "    </tr>\n",
       "    <tr>\n",
       "      <th>Fire_district</th>\n",
       "      <td>4</td>\n",
       "      <td>12</td>\n",
       "    </tr>\n",
       "    <tr>\n",
       "      <th>pwd_district</th>\n",
       "      <td>1C</td>\n",
       "      <td>08</td>\n",
       "    </tr>\n",
       "    <tr>\n",
       "      <th>city_council_district</th>\n",
       "      <td>3</td>\n",
       "      <td>5</td>\n",
       "    </tr>\n",
       "    <tr>\n",
       "      <th>police_district</th>\n",
       "      <td>D4</td>\n",
       "      <td>E18</td>\n",
       "    </tr>\n",
       "    <tr>\n",
       "      <th>neighborhood</th>\n",
       "      <td>South End</td>\n",
       "      <td>Hyde Park</td>\n",
       "    </tr>\n",
       "    <tr>\n",
       "      <th>neighborhood_services_district</th>\n",
       "      <td>6</td>\n",
       "      <td>10</td>\n",
       "    </tr>\n",
       "    <tr>\n",
       "      <th>ward</th>\n",
       "      <td>8</td>\n",
       "      <td>Ward 18</td>\n",
       "    </tr>\n",
       "    <tr>\n",
       "      <th>precinct</th>\n",
       "      <td>0802</td>\n",
       "      <td>1813</td>\n",
       "    </tr>\n",
       "    <tr>\n",
       "      <th>LOCATION_STREET_NAME</th>\n",
       "      <td>INTERSECTION Public Alley No. 715 &amp; Massachuse...</td>\n",
       "      <td>1149 Hyde Park Ave</td>\n",
       "    </tr>\n",
       "    <tr>\n",
       "      <th>LOCATION_ZIPCODE</th>\n",
       "      <td>NaN</td>\n",
       "      <td>2136</td>\n",
       "    </tr>\n",
       "    <tr>\n",
       "      <th>Latitude</th>\n",
       "      <td>42.3594</td>\n",
       "      <td>42.2599</td>\n",
       "    </tr>\n",
       "    <tr>\n",
       "      <th>Longitude</th>\n",
       "      <td>-71.0587</td>\n",
       "      <td>-71.1234</td>\n",
       "    </tr>\n",
       "    <tr>\n",
       "      <th>Source</th>\n",
       "      <td>City Worker App</td>\n",
       "      <td>Citizens Connect App</td>\n",
       "    </tr>\n",
       "  </tbody>\n",
       "</table>\n",
       "</div>"
      ],
      "text/plain": [
       "                                                                                0  \\\n",
       "CASE_ENQUIRY_ID                                                      101002370927   \n",
       "open_dt                                                       2018-02-13 23:54:34   \n",
       "target_dt                                                     2018-02-15 08:30:00   \n",
       "closed_dt                                                                     NaN   \n",
       "OnTime_Status                                                              ONTIME   \n",
       "CASE_STATUS                                                                  Open   \n",
       "CLOSURE_REASON                                                                      \n",
       "CASE_TITLE                                             Request for Pothole Repair   \n",
       "SUBJECT                                                   Public Works Department   \n",
       "REASON                                                        Highway Maintenance   \n",
       "TYPE                                                   Request for Pothole Repair   \n",
       "QUEUE                                                  PWDx_District 1C: Downtown   \n",
       "Department                                                                   PWDx   \n",
       "SubmittedPhoto                   https://cityworker.cityofboston.gov:8443/atta...   \n",
       "ClosedPhoto                                                                   NaN   \n",
       "Location                        INTERSECTION of Public Alley No. 715 & Massach...   \n",
       "Fire_district                                                                   4   \n",
       "pwd_district                                                                   1C   \n",
       "city_council_district                                                           3   \n",
       "police_district                                                                D4   \n",
       "neighborhood                                                            South End   \n",
       "neighborhood_services_district                                                  6   \n",
       "ward                                                                            8   \n",
       "precinct                                                                     0802   \n",
       "LOCATION_STREET_NAME            INTERSECTION Public Alley No. 715 & Massachuse...   \n",
       "LOCATION_ZIPCODE                                                              NaN   \n",
       "Latitude                                                                  42.3594   \n",
       "Longitude                                                                -71.0587   \n",
       "Source                                                            City Worker App   \n",
       "\n",
       "                                                                       1  \n",
       "CASE_ENQUIRY_ID                                             101002370926  \n",
       "open_dt                                              2018-02-13 23:41:00  \n",
       "target_dt                                            2018-02-28 08:30:00  \n",
       "closed_dt                                                            NaN  \n",
       "OnTime_Status                                                     ONTIME  \n",
       "CASE_STATUS                                                         Open  \n",
       "CLOSURE_REASON                                                            \n",
       "CASE_TITLE                                              PRINTED : robert  \n",
       "SUBJECT                                          Public Works Department  \n",
       "REASON                                                     Street Lights  \n",
       "TYPE                                                Street Light Outages  \n",
       "QUEUE                                          PWDx_Street Light Outages  \n",
       "Department                                                          PWDx  \n",
       "SubmittedPhoto                                                       NaN  \n",
       "ClosedPhoto                                                          NaN  \n",
       "Location                        1149 Hyde Park Ave  Hyde Park  MA  02136  \n",
       "Fire_district                                                         12  \n",
       "pwd_district                                                          08  \n",
       "city_council_district                                                  5  \n",
       "police_district                                                      E18  \n",
       "neighborhood                                                   Hyde Park  \n",
       "neighborhood_services_district                                        10  \n",
       "ward                                                             Ward 18  \n",
       "precinct                                                            1813  \n",
       "LOCATION_STREET_NAME                                  1149 Hyde Park Ave  \n",
       "LOCATION_ZIPCODE                                                    2136  \n",
       "Latitude                                                         42.2599  \n",
       "Longitude                                                       -71.1234  \n",
       "Source                                              Citizens Connect App  "
      ]
     },
     "execution_count": 207,
     "metadata": {},
     "output_type": "execute_result"
    }
   ],
   "source": [
    "df.head(2).T"
   ]
  },
  {
   "cell_type": "code",
   "execution_count": 208,
   "metadata": {
    "collapsed": false
   },
   "outputs": [
    {
     "data": {
      "text/html": [
       "<div>\n",
       "<style scoped>\n",
       "    .dataframe tbody tr th:only-of-type {\n",
       "        vertical-align: middle;\n",
       "    }\n",
       "\n",
       "    .dataframe tbody tr th {\n",
       "        vertical-align: top;\n",
       "    }\n",
       "\n",
       "    .dataframe thead th {\n",
       "        text-align: right;\n",
       "    }\n",
       "</style>\n",
       "<table border=\"1\" class=\"dataframe\">\n",
       "  <thead>\n",
       "    <tr style=\"text-align: right;\">\n",
       "      <th></th>\n",
       "      <th>1191180</th>\n",
       "      <th>1191181</th>\n",
       "    </tr>\n",
       "  </thead>\n",
       "  <tbody>\n",
       "    <tr>\n",
       "      <th>CASE_ENQUIRY_ID</th>\n",
       "      <td>101000295614</td>\n",
       "      <td>101000295613</td>\n",
       "    </tr>\n",
       "    <tr>\n",
       "      <th>open_dt</th>\n",
       "      <td>2011-07-01 02:18:31</td>\n",
       "      <td>2011-07-01 01:32:33</td>\n",
       "    </tr>\n",
       "    <tr>\n",
       "      <th>target_dt</th>\n",
       "      <td>2011-07-05 02:18:31</td>\n",
       "      <td>2011-07-15 01:32:32</td>\n",
       "    </tr>\n",
       "    <tr>\n",
       "      <th>closed_dt</th>\n",
       "      <td>2011-07-01 06:12:43</td>\n",
       "      <td>2011-07-01 05:06:58</td>\n",
       "    </tr>\n",
       "    <tr>\n",
       "      <th>OnTime_Status</th>\n",
       "      <td>ONTIME</td>\n",
       "      <td>ONTIME</td>\n",
       "    </tr>\n",
       "    <tr>\n",
       "      <th>CASE_STATUS</th>\n",
       "      <td>Closed</td>\n",
       "      <td>Closed</td>\n",
       "    </tr>\n",
       "    <tr>\n",
       "      <th>CLOSURE_REASON</th>\n",
       "      <td>Case Closed Case Scheduled Items have been sch...</td>\n",
       "      <td>Case Closed Case Resolved replaced 100 amp fus...</td>\n",
       "    </tr>\n",
       "    <tr>\n",
       "      <th>CASE_TITLE</th>\n",
       "      <td>Schedule a Bulk Item Pickup</td>\n",
       "      <td>Street Light Outages</td>\n",
       "    </tr>\n",
       "    <tr>\n",
       "      <th>SUBJECT</th>\n",
       "      <td>Public Works Department</td>\n",
       "      <td>Public Works Department</td>\n",
       "    </tr>\n",
       "    <tr>\n",
       "      <th>REASON</th>\n",
       "      <td>Sanitation</td>\n",
       "      <td>Street Lights</td>\n",
       "    </tr>\n",
       "    <tr>\n",
       "      <th>TYPE</th>\n",
       "      <td>Schedule a Bulk Item Pickup</td>\n",
       "      <td>Street Light Outages</td>\n",
       "    </tr>\n",
       "    <tr>\n",
       "      <th>QUEUE</th>\n",
       "      <td>PWDx_Schedule a Bulk Item Pickup</td>\n",
       "      <td>PWDx_Street Light Outages</td>\n",
       "    </tr>\n",
       "    <tr>\n",
       "      <th>Department</th>\n",
       "      <td>PWDx</td>\n",
       "      <td>PWDx</td>\n",
       "    </tr>\n",
       "    <tr>\n",
       "      <th>SubmittedPhoto</th>\n",
       "      <td>NaN</td>\n",
       "      <td>NaN</td>\n",
       "    </tr>\n",
       "    <tr>\n",
       "      <th>ClosedPhoto</th>\n",
       "      <td>NaN</td>\n",
       "      <td>NaN</td>\n",
       "    </tr>\n",
       "    <tr>\n",
       "      <th>Location</th>\n",
       "      <td>39 Lorraine St  Roslindale  MA  02131</td>\n",
       "      <td>INTERSECTION of Groveland St &amp; River St  Matta...</td>\n",
       "    </tr>\n",
       "    <tr>\n",
       "      <th>Fire_district</th>\n",
       "      <td>12</td>\n",
       "      <td>8</td>\n",
       "    </tr>\n",
       "    <tr>\n",
       "      <th>pwd_district</th>\n",
       "      <td>06</td>\n",
       "      <td>07</td>\n",
       "    </tr>\n",
       "    <tr>\n",
       "      <th>city_council_district</th>\n",
       "      <td>5</td>\n",
       "      <td>3</td>\n",
       "    </tr>\n",
       "    <tr>\n",
       "      <th>police_district</th>\n",
       "      <td>E5</td>\n",
       "      <td>B3</td>\n",
       "    </tr>\n",
       "    <tr>\n",
       "      <th>neighborhood</th>\n",
       "      <td>Roslindale</td>\n",
       "      <td>Greater Mattapan</td>\n",
       "    </tr>\n",
       "    <tr>\n",
       "      <th>neighborhood_services_district</th>\n",
       "      <td>10</td>\n",
       "      <td>7</td>\n",
       "    </tr>\n",
       "    <tr>\n",
       "      <th>ward</th>\n",
       "      <td>Ward 20</td>\n",
       "      <td>Ward 17</td>\n",
       "    </tr>\n",
       "    <tr>\n",
       "      <th>precinct</th>\n",
       "      <td>2008</td>\n",
       "      <td>1714</td>\n",
       "    </tr>\n",
       "    <tr>\n",
       "      <th>LOCATION_STREET_NAME</th>\n",
       "      <td>39 Lorraine St</td>\n",
       "      <td>INTERSECTION Groveland St &amp; River St</td>\n",
       "    </tr>\n",
       "    <tr>\n",
       "      <th>LOCATION_ZIPCODE</th>\n",
       "      <td>2131</td>\n",
       "      <td>NaN</td>\n",
       "    </tr>\n",
       "    <tr>\n",
       "      <th>Latitude</th>\n",
       "      <td>42.2839</td>\n",
       "      <td>42.2715</td>\n",
       "    </tr>\n",
       "    <tr>\n",
       "      <th>Longitude</th>\n",
       "      <td>-71.1447</td>\n",
       "      <td>-71.0772</td>\n",
       "    </tr>\n",
       "    <tr>\n",
       "      <th>Source</th>\n",
       "      <td>Self Service</td>\n",
       "      <td>Employee Generated</td>\n",
       "    </tr>\n",
       "  </tbody>\n",
       "</table>\n",
       "</div>"
      ],
      "text/plain": [
       "                                                                          1191180  \\\n",
       "CASE_ENQUIRY_ID                                                      101000295614   \n",
       "open_dt                                                       2011-07-01 02:18:31   \n",
       "target_dt                                                     2011-07-05 02:18:31   \n",
       "closed_dt                                                     2011-07-01 06:12:43   \n",
       "OnTime_Status                                                              ONTIME   \n",
       "CASE_STATUS                                                                Closed   \n",
       "CLOSURE_REASON                  Case Closed Case Scheduled Items have been sch...   \n",
       "CASE_TITLE                                            Schedule a Bulk Item Pickup   \n",
       "SUBJECT                                                   Public Works Department   \n",
       "REASON                                                                 Sanitation   \n",
       "TYPE                                                  Schedule a Bulk Item Pickup   \n",
       "QUEUE                                            PWDx_Schedule a Bulk Item Pickup   \n",
       "Department                                                                   PWDx   \n",
       "SubmittedPhoto                                                                NaN   \n",
       "ClosedPhoto                                                                   NaN   \n",
       "Location                                    39 Lorraine St  Roslindale  MA  02131   \n",
       "Fire_district                                                                  12   \n",
       "pwd_district                                                                   06   \n",
       "city_council_district                                                           5   \n",
       "police_district                                                                E5   \n",
       "neighborhood                                                           Roslindale   \n",
       "neighborhood_services_district                                                 10   \n",
       "ward                                                                      Ward 20   \n",
       "precinct                                                                     2008   \n",
       "LOCATION_STREET_NAME                                               39 Lorraine St   \n",
       "LOCATION_ZIPCODE                                                             2131   \n",
       "Latitude                                                                  42.2839   \n",
       "Longitude                                                                -71.1447   \n",
       "Source                                                               Self Service   \n",
       "\n",
       "                                                                          1191181  \n",
       "CASE_ENQUIRY_ID                                                      101000295613  \n",
       "open_dt                                                       2011-07-01 01:32:33  \n",
       "target_dt                                                     2011-07-15 01:32:32  \n",
       "closed_dt                                                     2011-07-01 05:06:58  \n",
       "OnTime_Status                                                              ONTIME  \n",
       "CASE_STATUS                                                                Closed  \n",
       "CLOSURE_REASON                  Case Closed Case Resolved replaced 100 amp fus...  \n",
       "CASE_TITLE                                                   Street Light Outages  \n",
       "SUBJECT                                                   Public Works Department  \n",
       "REASON                                                              Street Lights  \n",
       "TYPE                                                         Street Light Outages  \n",
       "QUEUE                                                   PWDx_Street Light Outages  \n",
       "Department                                                                   PWDx  \n",
       "SubmittedPhoto                                                                NaN  \n",
       "ClosedPhoto                                                                   NaN  \n",
       "Location                        INTERSECTION of Groveland St & River St  Matta...  \n",
       "Fire_district                                                                   8  \n",
       "pwd_district                                                                   07  \n",
       "city_council_district                                                           3  \n",
       "police_district                                                                B3  \n",
       "neighborhood                                                     Greater Mattapan  \n",
       "neighborhood_services_district                                                  7  \n",
       "ward                                                                      Ward 17  \n",
       "precinct                                                                     1714  \n",
       "LOCATION_STREET_NAME                         INTERSECTION Groveland St & River St  \n",
       "LOCATION_ZIPCODE                                                              NaN  \n",
       "Latitude                                                                  42.2715  \n",
       "Longitude                                                                -71.0772  \n",
       "Source                                                         Employee Generated  "
      ]
     },
     "execution_count": 208,
     "metadata": {},
     "output_type": "execute_result"
    }
   ],
   "source": [
    "df.tail(2).T"
   ]
  },
  {
   "cell_type": "code",
   "execution_count": 50,
   "metadata": {
    "collapsed": false
   },
   "outputs": [
    {
     "name": "stdout",
     "output_type": "stream",
     "text": [
      "<class 'pandas.core.frame.DataFrame'>\n",
      "RangeIndex: 1191182 entries, 0 to 1191181\n",
      "Data columns (total 29 columns):\n",
      "CASE_ENQUIRY_ID                   1191182 non-null int64\n",
      "open_dt                           1191182 non-null datetime64[ns]\n",
      "target_dt                         958003 non-null object\n",
      "closed_dt                         1099109 non-null object\n",
      "OnTime_Status                     1190509 non-null object\n",
      "CASE_STATUS                       1191182 non-null object\n",
      "CLOSURE_REASON                    1191182 non-null object\n",
      "CASE_TITLE                        1190697 non-null object\n",
      "SUBJECT                           1191182 non-null object\n",
      "REASON                            1191182 non-null object\n",
      "TYPE                              1191182 non-null object\n",
      "QUEUE                             1191182 non-null object\n",
      "Department                        1191182 non-null object\n",
      "SubmittedPhoto                    243770 non-null object\n",
      "ClosedPhoto                       141659 non-null object\n",
      "Location                          1191182 non-null object\n",
      "Fire_district                     1188438 non-null object\n",
      "pwd_district                      1190457 non-null object\n",
      "city_council_district             1190985 non-null object\n",
      "police_district                   1190677 non-null object\n",
      "neighborhood                      1189956 non-null object\n",
      "neighborhood_services_district    1190984 non-null object\n",
      "ward                              1191009 non-null object\n",
      "precinct                          1190410 non-null object\n",
      "LOCATION_STREET_NAME              1147239 non-null object\n",
      "LOCATION_ZIPCODE                  908601 non-null float64\n",
      "Latitude                          1191182 non-null float64\n",
      "Longitude                         1191182 non-null float64\n",
      "Source                            1191182 non-null object\n",
      "dtypes: datetime64[ns](1), float64(3), int64(1), object(24)\n",
      "memory usage: 263.6+ MB\n"
     ]
    }
   ],
   "source": [
    "df.info()"
   ]
  },
  {
   "cell_type": "code",
   "execution_count": 209,
   "metadata": {
    "collapsed": false
   },
   "outputs": [
    {
     "data": {
      "text/html": [
       "<div>\n",
       "<style scoped>\n",
       "    .dataframe tbody tr th:only-of-type {\n",
       "        vertical-align: middle;\n",
       "    }\n",
       "\n",
       "    .dataframe tbody tr th {\n",
       "        vertical-align: top;\n",
       "    }\n",
       "\n",
       "    .dataframe thead th {\n",
       "        text-align: right;\n",
       "    }\n",
       "</style>\n",
       "<table border=\"1\" class=\"dataframe\">\n",
       "  <thead>\n",
       "    <tr style=\"text-align: right;\">\n",
       "      <th></th>\n",
       "      <th>open_dt</th>\n",
       "      <th>Longitude</th>\n",
       "      <th>Latitude</th>\n",
       "    </tr>\n",
       "  </thead>\n",
       "  <tbody>\n",
       "    <tr>\n",
       "      <th>0</th>\n",
       "      <td>2018-02-13 23:54:34</td>\n",
       "      <td>-71.0587</td>\n",
       "      <td>42.3594</td>\n",
       "    </tr>\n",
       "    <tr>\n",
       "      <th>1</th>\n",
       "      <td>2018-02-13 23:41:00</td>\n",
       "      <td>-71.1234</td>\n",
       "      <td>42.2599</td>\n",
       "    </tr>\n",
       "    <tr>\n",
       "      <th>2</th>\n",
       "      <td>2018-02-13 23:26:28</td>\n",
       "      <td>-71.1126</td>\n",
       "      <td>42.3171</td>\n",
       "    </tr>\n",
       "    <tr>\n",
       "      <th>3</th>\n",
       "      <td>2018-02-13 23:26:10</td>\n",
       "      <td>-71.0810</td>\n",
       "      <td>42.3242</td>\n",
       "    </tr>\n",
       "    <tr>\n",
       "      <th>4</th>\n",
       "      <td>2018-02-13 23:21:33</td>\n",
       "      <td>-71.0587</td>\n",
       "      <td>42.3594</td>\n",
       "    </tr>\n",
       "  </tbody>\n",
       "</table>\n",
       "</div>"
      ],
      "text/plain": [
       "              open_dt  Longitude  Latitude\n",
       "0 2018-02-13 23:54:34   -71.0587   42.3594\n",
       "1 2018-02-13 23:41:00   -71.1234   42.2599\n",
       "2 2018-02-13 23:26:28   -71.1126   42.3171\n",
       "3 2018-02-13 23:26:10   -71.0810   42.3242\n",
       "4 2018-02-13 23:21:33   -71.0587   42.3594"
      ]
     },
     "execution_count": 209,
     "metadata": {},
     "output_type": "execute_result"
    }
   ],
   "source": [
    "df = df[['open_dt', 'Longitude', 'Latitude']]\n",
    "df.head()"
   ]
  },
  {
   "cell_type": "code",
   "execution_count": 218,
   "metadata": {
    "collapsed": false
   },
   "outputs": [],
   "source": [
    "df['by_day'] = df.open_dt.map(lambda u: (u.year, u.month, u.day))\n",
    "df['by_weekofyear'] = df.open_dt.apply(lambda u: u.weekofyear)\n",
    "df['by_weekday'] = df.open_dt.dt.weekday\n",
    "df['date'] = df.open_dt.dt.date"
   ]
  },
  {
   "cell_type": "code",
   "execution_count": 216,
   "metadata": {
    "collapsed": false
   },
   "outputs": [
    {
     "data": {
      "text/html": [
       "<div>\n",
       "<style scoped>\n",
       "    .dataframe tbody tr th:only-of-type {\n",
       "        vertical-align: middle;\n",
       "    }\n",
       "\n",
       "    .dataframe tbody tr th {\n",
       "        vertical-align: top;\n",
       "    }\n",
       "\n",
       "    .dataframe thead th {\n",
       "        text-align: right;\n",
       "    }\n",
       "</style>\n",
       "<table border=\"1\" class=\"dataframe\">\n",
       "  <thead>\n",
       "    <tr style=\"text-align: right;\">\n",
       "      <th></th>\n",
       "      <th>open_dt</th>\n",
       "      <th>Longitude</th>\n",
       "      <th>Latitude</th>\n",
       "      <th>by_day</th>\n",
       "      <th>by_weekofyear</th>\n",
       "      <th>by_weekday</th>\n",
       "    </tr>\n",
       "  </thead>\n",
       "  <tbody>\n",
       "    <tr>\n",
       "      <th>0</th>\n",
       "      <td>2018-02-13 23:54:34</td>\n",
       "      <td>-71.0587</td>\n",
       "      <td>42.3594</td>\n",
       "      <td>(2018, 2, 13)</td>\n",
       "      <td>7</td>\n",
       "      <td>1</td>\n",
       "    </tr>\n",
       "    <tr>\n",
       "      <th>1</th>\n",
       "      <td>2018-02-13 23:41:00</td>\n",
       "      <td>-71.1234</td>\n",
       "      <td>42.2599</td>\n",
       "      <td>(2018, 2, 13)</td>\n",
       "      <td>7</td>\n",
       "      <td>1</td>\n",
       "    </tr>\n",
       "    <tr>\n",
       "      <th>2</th>\n",
       "      <td>2018-02-13 23:26:28</td>\n",
       "      <td>-71.1126</td>\n",
       "      <td>42.3171</td>\n",
       "      <td>(2018, 2, 13)</td>\n",
       "      <td>7</td>\n",
       "      <td>1</td>\n",
       "    </tr>\n",
       "    <tr>\n",
       "      <th>3</th>\n",
       "      <td>2018-02-13 23:26:10</td>\n",
       "      <td>-71.0810</td>\n",
       "      <td>42.3242</td>\n",
       "      <td>(2018, 2, 13)</td>\n",
       "      <td>7</td>\n",
       "      <td>1</td>\n",
       "    </tr>\n",
       "    <tr>\n",
       "      <th>4</th>\n",
       "      <td>2018-02-13 23:21:33</td>\n",
       "      <td>-71.0587</td>\n",
       "      <td>42.3594</td>\n",
       "      <td>(2018, 2, 13)</td>\n",
       "      <td>7</td>\n",
       "      <td>1</td>\n",
       "    </tr>\n",
       "    <tr>\n",
       "      <th>5</th>\n",
       "      <td>2018-02-13 23:17:26</td>\n",
       "      <td>-71.0587</td>\n",
       "      <td>42.3594</td>\n",
       "      <td>(2018, 2, 13)</td>\n",
       "      <td>7</td>\n",
       "      <td>1</td>\n",
       "    </tr>\n",
       "    <tr>\n",
       "      <th>6</th>\n",
       "      <td>2018-02-13 23:08:04</td>\n",
       "      <td>-71.0587</td>\n",
       "      <td>42.3594</td>\n",
       "      <td>(2018, 2, 13)</td>\n",
       "      <td>7</td>\n",
       "      <td>1</td>\n",
       "    </tr>\n",
       "    <tr>\n",
       "      <th>7</th>\n",
       "      <td>2018-02-13 23:07:26</td>\n",
       "      <td>-71.0601</td>\n",
       "      <td>42.3210</td>\n",
       "      <td>(2018, 2, 13)</td>\n",
       "      <td>7</td>\n",
       "      <td>1</td>\n",
       "    </tr>\n",
       "    <tr>\n",
       "      <th>8</th>\n",
       "      <td>2018-02-13 23:00:58</td>\n",
       "      <td>-71.1198</td>\n",
       "      <td>42.2735</td>\n",
       "      <td>(2018, 2, 13)</td>\n",
       "      <td>7</td>\n",
       "      <td>1</td>\n",
       "    </tr>\n",
       "    <tr>\n",
       "      <th>9</th>\n",
       "      <td>2018-02-13 22:49:10</td>\n",
       "      <td>-71.0587</td>\n",
       "      <td>42.3594</td>\n",
       "      <td>(2018, 2, 13)</td>\n",
       "      <td>7</td>\n",
       "      <td>1</td>\n",
       "    </tr>\n",
       "    <tr>\n",
       "      <th>10</th>\n",
       "      <td>2018-02-13 22:48:03</td>\n",
       "      <td>-71.0575</td>\n",
       "      <td>42.3514</td>\n",
       "      <td>(2018, 2, 13)</td>\n",
       "      <td>7</td>\n",
       "      <td>1</td>\n",
       "    </tr>\n",
       "    <tr>\n",
       "      <th>11</th>\n",
       "      <td>2018-02-13 22:47:30</td>\n",
       "      <td>-71.0573</td>\n",
       "      <td>42.3149</td>\n",
       "      <td>(2018, 2, 13)</td>\n",
       "      <td>7</td>\n",
       "      <td>1</td>\n",
       "    </tr>\n",
       "    <tr>\n",
       "      <th>12</th>\n",
       "      <td>2018-02-13 22:37:00</td>\n",
       "      <td>-71.0975</td>\n",
       "      <td>42.3425</td>\n",
       "      <td>(2018, 2, 13)</td>\n",
       "      <td>7</td>\n",
       "      <td>1</td>\n",
       "    </tr>\n",
       "    <tr>\n",
       "      <th>13</th>\n",
       "      <td>2018-02-13 22:27:13</td>\n",
       "      <td>-71.0336</td>\n",
       "      <td>42.3364</td>\n",
       "      <td>(2018, 2, 13)</td>\n",
       "      <td>7</td>\n",
       "      <td>1</td>\n",
       "    </tr>\n",
       "    <tr>\n",
       "      <th>14</th>\n",
       "      <td>2018-02-13 22:24:20</td>\n",
       "      <td>-71.0587</td>\n",
       "      <td>42.3594</td>\n",
       "      <td>(2018, 2, 13)</td>\n",
       "      <td>7</td>\n",
       "      <td>1</td>\n",
       "    </tr>\n",
       "    <tr>\n",
       "      <th>15</th>\n",
       "      <td>2018-02-13 22:23:00</td>\n",
       "      <td>-71.0768</td>\n",
       "      <td>42.3360</td>\n",
       "      <td>(2018, 2, 13)</td>\n",
       "      <td>7</td>\n",
       "      <td>1</td>\n",
       "    </tr>\n",
       "    <tr>\n",
       "      <th>16</th>\n",
       "      <td>2018-02-13 22:20:47</td>\n",
       "      <td>-71.1545</td>\n",
       "      <td>42.2832</td>\n",
       "      <td>(2018, 2, 13)</td>\n",
       "      <td>7</td>\n",
       "      <td>1</td>\n",
       "    </tr>\n",
       "    <tr>\n",
       "      <th>17</th>\n",
       "      <td>2018-02-13 22:13:26</td>\n",
       "      <td>-71.0643</td>\n",
       "      <td>42.3750</td>\n",
       "      <td>(2018, 2, 13)</td>\n",
       "      <td>7</td>\n",
       "      <td>1</td>\n",
       "    </tr>\n",
       "    <tr>\n",
       "      <th>18</th>\n",
       "      <td>2018-02-13 22:12:31</td>\n",
       "      <td>-71.0586</td>\n",
       "      <td>42.3771</td>\n",
       "      <td>(2018, 2, 13)</td>\n",
       "      <td>7</td>\n",
       "      <td>1</td>\n",
       "    </tr>\n",
       "    <tr>\n",
       "      <th>19</th>\n",
       "      <td>2018-02-13 21:57:47</td>\n",
       "      <td>-71.0731</td>\n",
       "      <td>42.2964</td>\n",
       "      <td>(2018, 2, 13)</td>\n",
       "      <td>7</td>\n",
       "      <td>1</td>\n",
       "    </tr>\n",
       "    <tr>\n",
       "      <th>20</th>\n",
       "      <td>2018-02-13 21:55:11</td>\n",
       "      <td>-71.0727</td>\n",
       "      <td>42.2968</td>\n",
       "      <td>(2018, 2, 13)</td>\n",
       "      <td>7</td>\n",
       "      <td>1</td>\n",
       "    </tr>\n",
       "    <tr>\n",
       "      <th>21</th>\n",
       "      <td>2018-02-13 21:50:00</td>\n",
       "      <td>-71.1545</td>\n",
       "      <td>42.3465</td>\n",
       "      <td>(2018, 2, 13)</td>\n",
       "      <td>7</td>\n",
       "      <td>1</td>\n",
       "    </tr>\n",
       "    <tr>\n",
       "      <th>22</th>\n",
       "      <td>2018-02-13 21:37:51</td>\n",
       "      <td>-71.0587</td>\n",
       "      <td>42.3594</td>\n",
       "      <td>(2018, 2, 13)</td>\n",
       "      <td>7</td>\n",
       "      <td>1</td>\n",
       "    </tr>\n",
       "    <tr>\n",
       "      <th>23</th>\n",
       "      <td>2018-02-13 21:33:08</td>\n",
       "      <td>-71.1371</td>\n",
       "      <td>42.3487</td>\n",
       "      <td>(2018, 2, 13)</td>\n",
       "      <td>7</td>\n",
       "      <td>1</td>\n",
       "    </tr>\n",
       "    <tr>\n",
       "      <th>24</th>\n",
       "      <td>2018-02-13 21:32:09</td>\n",
       "      <td>-71.0931</td>\n",
       "      <td>42.3374</td>\n",
       "      <td>(2018, 2, 13)</td>\n",
       "      <td>7</td>\n",
       "      <td>1</td>\n",
       "    </tr>\n",
       "  </tbody>\n",
       "</table>\n",
       "</div>"
      ],
      "text/plain": [
       "               open_dt  Longitude  Latitude         by_day  by_weekofyear  \\\n",
       "0  2018-02-13 23:54:34   -71.0587   42.3594  (2018, 2, 13)              7   \n",
       "1  2018-02-13 23:41:00   -71.1234   42.2599  (2018, 2, 13)              7   \n",
       "2  2018-02-13 23:26:28   -71.1126   42.3171  (2018, 2, 13)              7   \n",
       "3  2018-02-13 23:26:10   -71.0810   42.3242  (2018, 2, 13)              7   \n",
       "4  2018-02-13 23:21:33   -71.0587   42.3594  (2018, 2, 13)              7   \n",
       "5  2018-02-13 23:17:26   -71.0587   42.3594  (2018, 2, 13)              7   \n",
       "6  2018-02-13 23:08:04   -71.0587   42.3594  (2018, 2, 13)              7   \n",
       "7  2018-02-13 23:07:26   -71.0601   42.3210  (2018, 2, 13)              7   \n",
       "8  2018-02-13 23:00:58   -71.1198   42.2735  (2018, 2, 13)              7   \n",
       "9  2018-02-13 22:49:10   -71.0587   42.3594  (2018, 2, 13)              7   \n",
       "10 2018-02-13 22:48:03   -71.0575   42.3514  (2018, 2, 13)              7   \n",
       "11 2018-02-13 22:47:30   -71.0573   42.3149  (2018, 2, 13)              7   \n",
       "12 2018-02-13 22:37:00   -71.0975   42.3425  (2018, 2, 13)              7   \n",
       "13 2018-02-13 22:27:13   -71.0336   42.3364  (2018, 2, 13)              7   \n",
       "14 2018-02-13 22:24:20   -71.0587   42.3594  (2018, 2, 13)              7   \n",
       "15 2018-02-13 22:23:00   -71.0768   42.3360  (2018, 2, 13)              7   \n",
       "16 2018-02-13 22:20:47   -71.1545   42.2832  (2018, 2, 13)              7   \n",
       "17 2018-02-13 22:13:26   -71.0643   42.3750  (2018, 2, 13)              7   \n",
       "18 2018-02-13 22:12:31   -71.0586   42.3771  (2018, 2, 13)              7   \n",
       "19 2018-02-13 21:57:47   -71.0731   42.2964  (2018, 2, 13)              7   \n",
       "20 2018-02-13 21:55:11   -71.0727   42.2968  (2018, 2, 13)              7   \n",
       "21 2018-02-13 21:50:00   -71.1545   42.3465  (2018, 2, 13)              7   \n",
       "22 2018-02-13 21:37:51   -71.0587   42.3594  (2018, 2, 13)              7   \n",
       "23 2018-02-13 21:33:08   -71.1371   42.3487  (2018, 2, 13)              7   \n",
       "24 2018-02-13 21:32:09   -71.0931   42.3374  (2018, 2, 13)              7   \n",
       "\n",
       "    by_weekday  \n",
       "0            1  \n",
       "1            1  \n",
       "2            1  \n",
       "3            1  \n",
       "4            1  \n",
       "5            1  \n",
       "6            1  \n",
       "7            1  \n",
       "8            1  \n",
       "9            1  \n",
       "10           1  \n",
       "11           1  \n",
       "12           1  \n",
       "13           1  \n",
       "14           1  \n",
       "15           1  \n",
       "16           1  \n",
       "17           1  \n",
       "18           1  \n",
       "19           1  \n",
       "20           1  \n",
       "21           1  \n",
       "22           1  \n",
       "23           1  \n",
       "24           1  "
      ]
     },
     "execution_count": 216,
     "metadata": {},
     "output_type": "execute_result"
    }
   ],
   "source": [
    "df.head(25)"
   ]
  },
  {
   "cell_type": "markdown",
   "metadata": {},
   "source": [
    "### Recall dates and timestamps"
   ]
  },
  {
   "cell_type": "code",
   "execution_count": 140,
   "metadata": {
    "collapsed": false
   },
   "outputs": [],
   "source": [
    "x=df.loc[0, 'open_dt'].date()"
   ]
  },
  {
   "cell_type": "code",
   "execution_count": 217,
   "metadata": {
    "collapsed": false
   },
   "outputs": [
    {
     "data": {
      "text/plain": [
       "0          2018-02-13\n",
       "1          2018-02-13\n",
       "2          2018-02-13\n",
       "3          2018-02-13\n",
       "4          2018-02-13\n",
       "5          2018-02-13\n",
       "6          2018-02-13\n",
       "7          2018-02-13\n",
       "8          2018-02-13\n",
       "9          2018-02-13\n",
       "10         2018-02-13\n",
       "11         2018-02-13\n",
       "12         2018-02-13\n",
       "13         2018-02-13\n",
       "14         2018-02-13\n",
       "15         2018-02-13\n",
       "16         2018-02-13\n",
       "17         2018-02-13\n",
       "18         2018-02-13\n",
       "19         2018-02-13\n",
       "20         2018-02-13\n",
       "21         2018-02-13\n",
       "22         2018-02-13\n",
       "23         2018-02-13\n",
       "24         2018-02-13\n",
       "25         2018-02-13\n",
       "26         2018-02-13\n",
       "27         2018-02-13\n",
       "28         2018-02-13\n",
       "29         2018-02-13\n",
       "              ...    \n",
       "1191152    2011-07-01\n",
       "1191153    2011-07-01\n",
       "1191154    2011-07-01\n",
       "1191155    2011-07-01\n",
       "1191156    2011-07-01\n",
       "1191157    2011-07-01\n",
       "1191158    2011-07-01\n",
       "1191159    2011-07-01\n",
       "1191160    2011-07-01\n",
       "1191161    2011-07-01\n",
       "1191162    2011-07-01\n",
       "1191163    2011-07-01\n",
       "1191164    2011-07-01\n",
       "1191165    2011-07-01\n",
       "1191166    2011-07-01\n",
       "1191167    2011-07-01\n",
       "1191168    2011-07-01\n",
       "1191169    2011-07-01\n",
       "1191170    2011-07-01\n",
       "1191171    2011-07-01\n",
       "1191172    2011-07-01\n",
       "1191173    2011-07-01\n",
       "1191174    2011-07-01\n",
       "1191175    2011-07-01\n",
       "1191176    2011-07-01\n",
       "1191177    2011-07-01\n",
       "1191178    2011-07-01\n",
       "1191179    2011-07-01\n",
       "1191180    2011-07-01\n",
       "1191181    2011-07-01\n",
       "Name: open_dt, Length: 1191182, dtype: object"
      ]
     },
     "execution_count": 217,
     "metadata": {},
     "output_type": "execute_result"
    }
   ],
   "source": [
    "df.open_dt.dt.date"
   ]
  },
  {
   "cell_type": "code",
   "execution_count": 81,
   "metadata": {
    "collapsed": false
   },
   "outputs": [
    {
     "data": {
      "text/plain": [
       "Timestamp('2018-02-14 00:00:00')"
      ]
     },
     "execution_count": 81,
     "metadata": {},
     "output_type": "execute_result"
    }
   ],
   "source": [
    "pd.to_datetime('today')"
   ]
  },
  {
   "cell_type": "code",
   "execution_count": 121,
   "metadata": {
    "collapsed": false
   },
   "outputs": [
    {
     "data": {
      "text/plain": [
       "2018"
      ]
     },
     "execution_count": 121,
     "metadata": {},
     "output_type": "execute_result"
    }
   ],
   "source": [
    "df.loc[0, 'open_dt']"
   ]
  },
  {
   "cell_type": "code",
   "execution_count": 119,
   "metadata": {
    "collapsed": false
   },
   "outputs": [
    {
     "ename": "ValueError",
     "evalue": "Converting an integer to a NumPy datetime requires a specified unit",
     "output_type": "error",
     "traceback": [
      "\u001b[0;31m---------------------------------------------------------------------------\u001b[0m",
      "\u001b[0;31mValueError\u001b[0m                                Traceback (most recent call last)",
      "\u001b[0;32m<ipython-input-119-7a817b951ec4>\u001b[0m in \u001b[0;36m<module>\u001b[0;34m()\u001b[0m\n\u001b[0;32m----> 1\u001b[0;31m \u001b[0mnp\u001b[0m\u001b[0;34m.\u001b[0m\u001b[0mdatetime64\u001b[0m\u001b[0;34m(\u001b[0m\u001b[0mdf\u001b[0m\u001b[0;34m.\u001b[0m\u001b[0mloc\u001b[0m\u001b[0;34m[\u001b[0m\u001b[0;36m0\u001b[0m\u001b[0;34m,\u001b[0m \u001b[0;34m'open_dt'\u001b[0m\u001b[0;34m]\u001b[0m\u001b[0;34m.\u001b[0m\u001b[0myear\u001b[0m\u001b[0;34m)\u001b[0m\u001b[0;34m\u001b[0m\u001b[0m\n\u001b[0m",
      "\u001b[0;31mValueError\u001b[0m: Converting an integer to a NumPy datetime requires a specified unit"
     ]
    }
   ],
   "source": [
    "np.datetime64()"
   ]
  },
  {
   "cell_type": "code",
   "execution_count": 82,
   "metadata": {
    "collapsed": false
   },
   "outputs": [
    {
     "data": {
      "text/plain": [
       "numpy.datetime64('2005-01-01')"
      ]
     },
     "execution_count": 82,
     "metadata": {},
     "output_type": "execute_result"
    }
   ],
   "source": [
    "np.datetime64('2005-01-01')"
   ]
  },
  {
   "cell_type": "code",
   "execution_count": 83,
   "metadata": {
    "collapsed": false
   },
   "outputs": [
    {
     "data": {
      "text/plain": [
       "numpy.datetime64('2011-07-01T01:32:33.000000')"
      ]
     },
     "execution_count": 83,
     "metadata": {},
     "output_type": "execute_result"
    }
   ],
   "source": [
    "np.datetime64(df.iloc[-1, 1])"
   ]
  },
  {
   "cell_type": "code",
   "execution_count": 157,
   "metadata": {
    "collapsed": false
   },
   "outputs": [
    {
     "data": {
      "text/plain": [
       "datetime.date(2011, 7, 1)"
      ]
     },
     "execution_count": 157,
     "metadata": {},
     "output_type": "execute_result"
    }
   ],
   "source": [
    "df.iloc[-1, 0].date()"
   ]
  },
  {
   "cell_type": "code",
   "execution_count": 178,
   "metadata": {
    "collapsed": false
   },
   "outputs": [
    {
     "data": {
      "text/plain": [
       "1191181"
      ]
     },
     "execution_count": 178,
     "metadata": {},
     "output_type": "execute_result"
    }
   ],
   "source": [
    "df.open_dt.index[-1]"
   ]
  },
  {
   "cell_type": "code",
   "execution_count": 203,
   "metadata": {
    "collapsed": false
   },
   "outputs": [
    {
     "data": {
      "text/plain": [
       "1191181   2011-07-01 01:32:33\n",
       "Name: open_dt, dtype: datetime64[ns]"
      ]
     },
     "execution_count": 203,
     "metadata": {},
     "output_type": "execute_result"
    }
   ],
   "source": [
    "df.open_dt.tail(1)"
   ]
  },
  {
   "cell_type": "code",
   "execution_count": 175,
   "metadata": {
    "collapsed": false
   },
   "outputs": [
    {
     "data": {
      "text/plain": [
       "Timestamp('2011-07-01 01:32:33')"
      ]
     },
     "execution_count": 175,
     "metadata": {},
     "output_type": "execute_result"
    }
   ],
   "source": [
    "df.open_dt.iloc[-1]"
   ]
  },
  {
   "cell_type": "code",
   "execution_count": null,
   "metadata": {
    "collapsed": true
   },
   "outputs": [],
   "source": [
    "df['days_since'] = (df.open_dt.dt.date - df.iloc[-1, 0].date()) / np.timedelta64(1, 'D')"
   ]
  },
  {
   "cell_type": "code",
   "execution_count": 52,
   "metadata": {
    "collapsed": false,
    "scrolled": false
   },
   "outputs": [
    {
     "data": {
      "text/plain": [
       "(-71.196107795698921,\n",
       " -70.984192204301067,\n",
       " 42.219985391528617,\n",
       " 42.431900982926471)"
      ]
     },
     "execution_count": 52,
     "metadata": {},
     "output_type": "execute_result"
    },
    {
     "data": {
      "image/png": "[encoded data removed]",
      "text/plain": [
       "<matplotlib.figure.Figure at 0x10b9d9d50>"
      ]
     },
     "metadata": {},
     "output_type": "display_data"
    }
   ],
   "source": [
    "plt.scatter(df.Longitude, df.Latitude, s=1, alpha=0.01)\n",
    "plt.axis('equal')\n",
    "plt.axis('square')\n",
    "plt.xlabel('Longitude')\n",
    "plt.ylabel('Latitude')"
   ]
  },
  {
   "cell_type": "code",
   "execution_count": 57,
   "metadata": {
    "collapsed": false
   },
   "outputs": [
    {
     "data": {
      "text/plain": [
       "<matplotlib.text.Text at 0x10d69dad0>"
      ]
     },
     "execution_count": 57,
     "metadata": {},
     "output_type": "execute_result"
    },
    {
     "data": {
      "image/png": "[encoded data removed]",
      "text/plain": [
       "<matplotlib.figure.Figure at 0x110b650d0>"
      ]
     },
     "metadata": {},
     "output_type": "display_data"
    }
   ],
   "source": [
    "X = df[['by_day', 'open_dt']].groupby('by_day').count().reset_index()\n",
    "plt.subplots(1, 1, figsize=(10, 3))\n",
    "plt.scatter(X.index/365.0, X.open_dt, s=10, alpha=1)\n",
    "plt.ylim(0, 1500)\n",
    "plt.xlabel('Days since recording data')\n",
    "plt.ylabel('Number of 311 events')"
   ]
  },
  {
   "cell_type": "code",
   "execution_count": 84,
   "metadata": {
    "collapsed": false
   },
   "outputs": [
    {
     "data": {
      "text/plain": [
       "<matplotlib.text.Text at 0x13ac5c390>"
      ]
     },
     "execution_count": 84,
     "metadata": {},
     "output_type": "execute_result"
    },
    {
     "data": {
      "image/png": "[encoded data removed]",
      "text/plain": [
       "<matplotlib.figure.Figure at 0x11e06ce90>"
      ]
     },
     "metadata": {},
     "output_type": "display_data"
    }
   ],
   "source": [
    "plt.subplots(1, 1, figsize=(10, 3))\n",
    "plt.scatter(X.index/365.0, X.open_dt, s=10, alpha=1)\n",
    "#plt.ylim(0, 1500)\n",
    "plt.xlabel('Days since recording data')\n",
    "plt.ylabel('Number of 311 events')"
   ]
  },
  {
   "cell_type": "code",
   "execution_count": 107,
   "metadata": {
    "collapsed": false
   },
   "outputs": [
    {
     "data": {
      "text/plain": [
       "(2013, 2, 10)    6962\n",
       "(2013, 2, 9)     5875\n",
       "(2015, 1, 28)    2983\n",
       "(2018, 1, 5)     2719\n",
       "(2015, 2, 3)     2694\n",
       "(2015, 2, 4)     2655\n",
       "(2018, 1, 8)     2402\n",
       "(2013, 2, 11)    2316\n",
       "(2015, 2, 16)    2283\n",
       "(2015, 1, 29)    2272\n",
       "Name: by_day, dtype: int64"
      ]
     },
     "execution_count": 107,
     "metadata": {},
     "output_type": "execute_result"
    }
   ],
   "source": [
    "df.by_day.value_counts().sort_values(ascending=False).head(10)"
   ]
  },
  {
   "cell_type": "code",
   "execution_count": 104,
   "metadata": {
    "collapsed": false
   },
   "outputs": [
    {
     "data": {
      "text/plain": [
       "<matplotlib.text.Text at 0x1102deed0>"
      ]
     },
     "execution_count": 104,
     "metadata": {},
     "output_type": "execute_result"
    },
    {
     "data": {
      "image/png": "[encoded data removed]",
      "text/plain": [
       "<matplotlib.figure.Figure at 0x10c89f890>"
      ]
     },
     "metadata": {},
     "output_type": "display_data"
    }
   ],
   "source": [
    "X = df[['by_weekofyear', 'open_dt']].groupby('by_weekofyear').count().reset_index()\n",
    "plt.subplots(1, 1, figsize=(5, 3))\n",
    "plt.scatter(X.index, X.open_dt, s=10, alpha=1)\n",
    "#plt.ylim(0, 1500)\n",
    "plt.xlabel('Week of the Year')\n",
    "plt.ylabel('Number of 311 events')"
   ]
  },
  {
   "cell_type": "code",
   "execution_count": 102,
   "metadata": {
    "collapsed": false
   },
   "outputs": [
    {
     "data": {
      "text/plain": [
       "1"
      ]
     },
     "execution_count": 102,
     "metadata": {},
     "output_type": "execute_result"
    }
   ],
   "source": [
    "pd.to_datetime('2018-01-01').weekofyear"
   ]
  },
  {
   "cell_type": "code",
   "execution_count": 101,
   "metadata": {
    "collapsed": false
   },
   "outputs": [
    {
     "data": {
      "text/plain": [
       "31"
      ]
     },
     "execution_count": 101,
     "metadata": {},
     "output_type": "execute_result"
    }
   ],
   "source": [
    "pd.to_datetime('2018-08-01').weekofyear"
   ]
  },
  {
   "cell_type": "code",
   "execution_count": 45,
   "metadata": {
    "collapsed": false
   },
   "outputs": [
    {
     "data": {
      "text/plain": [
       "(200, 600)"
      ]
     },
     "execution_count": 45,
     "metadata": {},
     "output_type": "execute_result"
    },
    {
     "data": {
      "image/png": "[encoded data removed]",
      "text/plain": [
       "<matplotlib.figure.Figure at 0x1102d0f90>"
      ]
     },
     "metadata": {},
     "output_type": "display_data"
    }
   ],
   "source": [
    "X = df[['by_day', 'open_dt']].groupby('by_day').count().reset_index()\n",
    "plt.scatter(X.index, X.open_dt, s=10, alpha=1)\n",
    "plt.xlim(0, 360)\n",
    "plt.ylim(200, 600)"
   ]
  },
  {
   "cell_type": "markdown",
   "metadata": {},
   "source": [
    "# FFT on day data"
   ]
  }
 ],
 "metadata": {
  "kernelspec": {
   "display_name": "Python [conda root]",
   "language": "python",
   "name": "conda-root-py"
  },
  "language_info": {
   "codemirror_mode": {
    "name": "ipython",
    "version": 2
   },
   "file_extension": ".py",
   "mimetype": "text/x-python",
   "name": "python",
   "nbconvert_exporter": "python",
   "pygments_lexer": "ipython2",
   "version": "2.7.12"
  }
 },
 "nbformat": 4,
 "nbformat_minor": 1
}
