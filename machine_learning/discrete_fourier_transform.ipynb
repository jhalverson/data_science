{
 "cells": [
  {
   "cell_type": "markdown",
   "metadata": {},
   "source": [
    "# Jonathan Halverson\n",
    "# Tuesday, May 30, 2017\n",
    "# DFT and FFT"
   ]
  },
  {
   "cell_type": "markdown",
   "metadata": {},
   "source": [
    "Fourier analysis - Decompose the signal into a linear combination of sinusiods with different frequencies. If the signal is composed of perfectly periodic functions then the transform will result in peaks. Consider a quantity that various with the seasons as well as the day like temperature. If you took years of data you should see one frequency around an inverse year and one around an inverse day. After transforming the data one can throw away the high and/or low frequencies for denoising, etc."
   ]
  },
  {
   "cell_type": "code",
   "execution_count": 1,
   "metadata": {
    "collapsed": true
   },
   "outputs": [],
   "source": [
    "import math\n",
    "import numpy as np\n",
    "import pandas as pd\n",
    "import matplotlib.pyplot as plt\n",
    "%matplotlib inline\n",
    "plt.style.use('halverson')"
   ]
  },
  {
   "cell_type": "code",
   "execution_count": 2,
   "metadata": {
    "collapsed": true
   },
   "outputs": [],
   "source": [
    "def f(t, w=10*2*math.pi):\n",
    "     return sum([n * math.cos(n * w * t) for n in range(1, 6)])"
   ]
  },
  {
   "cell_type": "code",
   "execution_count": 3,
   "metadata": {
    "collapsed": false
   },
   "outputs": [],
   "source": [
    "F = np.vectorize(f)"
   ]
  },
  {
   "cell_type": "markdown",
   "metadata": {},
   "source": [
    "Let's use a 2 raised to the n as the number of points:"
   ]
  },
  {
   "cell_type": "code",
   "execution_count": 4,
   "metadata": {
    "collapsed": false
   },
   "outputs": [
    {
     "name": "stdout",
     "output_type": "stream",
     "text": [
      "1 2\n",
      "2 4\n",
      "3 8\n",
      "4 16\n",
      "5 32\n",
      "6 64\n",
      "7 128\n",
      "8 256\n",
      "9 512\n"
     ]
    }
   ],
   "source": [
    "for n in range(1, 10):\n",
    "     print n, 2**n"
   ]
  },
  {
   "cell_type": "code",
   "execution_count": 5,
   "metadata": {
    "collapsed": false
   },
   "outputs": [],
   "source": [
    "T = 0.5\n",
    "N = 256 # half the total number of points\n",
    "df = pd.DataFrame({'k':range(0, 2 * N)})\n",
    "df['w'] = 2.0 * np.pi * df.index / T\n",
    "df['t_k'] = df.index * T / (2 * N)"
   ]
  },
  {
   "cell_type": "code",
   "execution_count": 6,
   "metadata": {
    "collapsed": false
   },
   "outputs": [
    {
     "data": {
      "text/html": [
       "<div>\n",
       "<table border=\"1\" class=\"dataframe\">\n",
       "  <thead>\n",
       "    <tr style=\"text-align: right;\">\n",
       "      <th></th>\n",
       "      <th>k</th>\n",
       "      <th>w</th>\n",
       "      <th>t_k</th>\n",
       "    </tr>\n",
       "  </thead>\n",
       "  <tbody>\n",
       "    <tr>\n",
       "      <th>0</th>\n",
       "      <td>0</td>\n",
       "      <td>0.000000</td>\n",
       "      <td>0.000000</td>\n",
       "    </tr>\n",
       "    <tr>\n",
       "      <th>1</th>\n",
       "      <td>1</td>\n",
       "      <td>12.566371</td>\n",
       "      <td>0.000977</td>\n",
       "    </tr>\n",
       "    <tr>\n",
       "      <th>2</th>\n",
       "      <td>2</td>\n",
       "      <td>25.132741</td>\n",
       "      <td>0.001953</td>\n",
       "    </tr>\n",
       "    <tr>\n",
       "      <th>3</th>\n",
       "      <td>3</td>\n",
       "      <td>37.699112</td>\n",
       "      <td>0.002930</td>\n",
       "    </tr>\n",
       "    <tr>\n",
       "      <th>4</th>\n",
       "      <td>4</td>\n",
       "      <td>50.265482</td>\n",
       "      <td>0.003906</td>\n",
       "    </tr>\n",
       "    <tr>\n",
       "      <th>5</th>\n",
       "      <td>5</td>\n",
       "      <td>62.831853</td>\n",
       "      <td>0.004883</td>\n",
       "    </tr>\n",
       "    <tr>\n",
       "      <th>6</th>\n",
       "      <td>6</td>\n",
       "      <td>75.398224</td>\n",
       "      <td>0.005859</td>\n",
       "    </tr>\n",
       "    <tr>\n",
       "      <th>7</th>\n",
       "      <td>7</td>\n",
       "      <td>87.964594</td>\n",
       "      <td>0.006836</td>\n",
       "    </tr>\n",
       "    <tr>\n",
       "      <th>8</th>\n",
       "      <td>8</td>\n",
       "      <td>100.530965</td>\n",
       "      <td>0.007812</td>\n",
       "    </tr>\n",
       "    <tr>\n",
       "      <th>9</th>\n",
       "      <td>9</td>\n",
       "      <td>113.097336</td>\n",
       "      <td>0.008789</td>\n",
       "    </tr>\n",
       "    <tr>\n",
       "      <th>10</th>\n",
       "      <td>10</td>\n",
       "      <td>125.663706</td>\n",
       "      <td>0.009766</td>\n",
       "    </tr>\n",
       "    <tr>\n",
       "      <th>11</th>\n",
       "      <td>11</td>\n",
       "      <td>138.230077</td>\n",
       "      <td>0.010742</td>\n",
       "    </tr>\n",
       "    <tr>\n",
       "      <th>12</th>\n",
       "      <td>12</td>\n",
       "      <td>150.796447</td>\n",
       "      <td>0.011719</td>\n",
       "    </tr>\n",
       "    <tr>\n",
       "      <th>13</th>\n",
       "      <td>13</td>\n",
       "      <td>163.362818</td>\n",
       "      <td>0.012695</td>\n",
       "    </tr>\n",
       "    <tr>\n",
       "      <th>14</th>\n",
       "      <td>14</td>\n",
       "      <td>175.929189</td>\n",
       "      <td>0.013672</td>\n",
       "    </tr>\n",
       "    <tr>\n",
       "      <th>15</th>\n",
       "      <td>15</td>\n",
       "      <td>188.495559</td>\n",
       "      <td>0.014648</td>\n",
       "    </tr>\n",
       "    <tr>\n",
       "      <th>16</th>\n",
       "      <td>16</td>\n",
       "      <td>201.061930</td>\n",
       "      <td>0.015625</td>\n",
       "    </tr>\n",
       "    <tr>\n",
       "      <th>17</th>\n",
       "      <td>17</td>\n",
       "      <td>213.628300</td>\n",
       "      <td>0.016602</td>\n",
       "    </tr>\n",
       "    <tr>\n",
       "      <th>18</th>\n",
       "      <td>18</td>\n",
       "      <td>226.194671</td>\n",
       "      <td>0.017578</td>\n",
       "    </tr>\n",
       "    <tr>\n",
       "      <th>19</th>\n",
       "      <td>19</td>\n",
       "      <td>238.761042</td>\n",
       "      <td>0.018555</td>\n",
       "    </tr>\n",
       "    <tr>\n",
       "      <th>20</th>\n",
       "      <td>20</td>\n",
       "      <td>251.327412</td>\n",
       "      <td>0.019531</td>\n",
       "    </tr>\n",
       "    <tr>\n",
       "      <th>21</th>\n",
       "      <td>21</td>\n",
       "      <td>263.893783</td>\n",
       "      <td>0.020508</td>\n",
       "    </tr>\n",
       "    <tr>\n",
       "      <th>22</th>\n",
       "      <td>22</td>\n",
       "      <td>276.460154</td>\n",
       "      <td>0.021484</td>\n",
       "    </tr>\n",
       "    <tr>\n",
       "      <th>23</th>\n",
       "      <td>23</td>\n",
       "      <td>289.026524</td>\n",
       "      <td>0.022461</td>\n",
       "    </tr>\n",
       "    <tr>\n",
       "      <th>24</th>\n",
       "      <td>24</td>\n",
       "      <td>301.592895</td>\n",
       "      <td>0.023438</td>\n",
       "    </tr>\n",
       "    <tr>\n",
       "      <th>25</th>\n",
       "      <td>25</td>\n",
       "      <td>314.159265</td>\n",
       "      <td>0.024414</td>\n",
       "    </tr>\n",
       "    <tr>\n",
       "      <th>26</th>\n",
       "      <td>26</td>\n",
       "      <td>326.725636</td>\n",
       "      <td>0.025391</td>\n",
       "    </tr>\n",
       "    <tr>\n",
       "      <th>27</th>\n",
       "      <td>27</td>\n",
       "      <td>339.292007</td>\n",
       "      <td>0.026367</td>\n",
       "    </tr>\n",
       "    <tr>\n",
       "      <th>28</th>\n",
       "      <td>28</td>\n",
       "      <td>351.858377</td>\n",
       "      <td>0.027344</td>\n",
       "    </tr>\n",
       "    <tr>\n",
       "      <th>29</th>\n",
       "      <td>29</td>\n",
       "      <td>364.424748</td>\n",
       "      <td>0.028320</td>\n",
       "    </tr>\n",
       "    <tr>\n",
       "      <th>...</th>\n",
       "      <td>...</td>\n",
       "      <td>...</td>\n",
       "      <td>...</td>\n",
       "    </tr>\n",
       "    <tr>\n",
       "      <th>482</th>\n",
       "      <td>482</td>\n",
       "      <td>6056.990636</td>\n",
       "      <td>0.470703</td>\n",
       "    </tr>\n",
       "    <tr>\n",
       "      <th>483</th>\n",
       "      <td>483</td>\n",
       "      <td>6069.557007</td>\n",
       "      <td>0.471680</td>\n",
       "    </tr>\n",
       "    <tr>\n",
       "      <th>484</th>\n",
       "      <td>484</td>\n",
       "      <td>6082.123377</td>\n",
       "      <td>0.472656</td>\n",
       "    </tr>\n",
       "    <tr>\n",
       "      <th>485</th>\n",
       "      <td>485</td>\n",
       "      <td>6094.689748</td>\n",
       "      <td>0.473633</td>\n",
       "    </tr>\n",
       "    <tr>\n",
       "      <th>486</th>\n",
       "      <td>486</td>\n",
       "      <td>6107.256119</td>\n",
       "      <td>0.474609</td>\n",
       "    </tr>\n",
       "    <tr>\n",
       "      <th>487</th>\n",
       "      <td>487</td>\n",
       "      <td>6119.822489</td>\n",
       "      <td>0.475586</td>\n",
       "    </tr>\n",
       "    <tr>\n",
       "      <th>488</th>\n",
       "      <td>488</td>\n",
       "      <td>6132.388860</td>\n",
       "      <td>0.476562</td>\n",
       "    </tr>\n",
       "    <tr>\n",
       "      <th>489</th>\n",
       "      <td>489</td>\n",
       "      <td>6144.955230</td>\n",
       "      <td>0.477539</td>\n",
       "    </tr>\n",
       "    <tr>\n",
       "      <th>490</th>\n",
       "      <td>490</td>\n",
       "      <td>6157.521601</td>\n",
       "      <td>0.478516</td>\n",
       "    </tr>\n",
       "    <tr>\n",
       "      <th>491</th>\n",
       "      <td>491</td>\n",
       "      <td>6170.087972</td>\n",
       "      <td>0.479492</td>\n",
       "    </tr>\n",
       "    <tr>\n",
       "      <th>492</th>\n",
       "      <td>492</td>\n",
       "      <td>6182.654342</td>\n",
       "      <td>0.480469</td>\n",
       "    </tr>\n",
       "    <tr>\n",
       "      <th>493</th>\n",
       "      <td>493</td>\n",
       "      <td>6195.220713</td>\n",
       "      <td>0.481445</td>\n",
       "    </tr>\n",
       "    <tr>\n",
       "      <th>494</th>\n",
       "      <td>494</td>\n",
       "      <td>6207.787083</td>\n",
       "      <td>0.482422</td>\n",
       "    </tr>\n",
       "    <tr>\n",
       "      <th>495</th>\n",
       "      <td>495</td>\n",
       "      <td>6220.353454</td>\n",
       "      <td>0.483398</td>\n",
       "    </tr>\n",
       "    <tr>\n",
       "      <th>496</th>\n",
       "      <td>496</td>\n",
       "      <td>6232.919825</td>\n",
       "      <td>0.484375</td>\n",
       "    </tr>\n",
       "    <tr>\n",
       "      <th>497</th>\n",
       "      <td>497</td>\n",
       "      <td>6245.486195</td>\n",
       "      <td>0.485352</td>\n",
       "    </tr>\n",
       "    <tr>\n",
       "      <th>498</th>\n",
       "      <td>498</td>\n",
       "      <td>6258.052566</td>\n",
       "      <td>0.486328</td>\n",
       "    </tr>\n",
       "    <tr>\n",
       "      <th>499</th>\n",
       "      <td>499</td>\n",
       "      <td>6270.618937</td>\n",
       "      <td>0.487305</td>\n",
       "    </tr>\n",
       "    <tr>\n",
       "      <th>500</th>\n",
       "      <td>500</td>\n",
       "      <td>6283.185307</td>\n",
       "      <td>0.488281</td>\n",
       "    </tr>\n",
       "    <tr>\n",
       "      <th>501</th>\n",
       "      <td>501</td>\n",
       "      <td>6295.751678</td>\n",
       "      <td>0.489258</td>\n",
       "    </tr>\n",
       "    <tr>\n",
       "      <th>502</th>\n",
       "      <td>502</td>\n",
       "      <td>6308.318048</td>\n",
       "      <td>0.490234</td>\n",
       "    </tr>\n",
       "    <tr>\n",
       "      <th>503</th>\n",
       "      <td>503</td>\n",
       "      <td>6320.884419</td>\n",
       "      <td>0.491211</td>\n",
       "    </tr>\n",
       "    <tr>\n",
       "      <th>504</th>\n",
       "      <td>504</td>\n",
       "      <td>6333.450790</td>\n",
       "      <td>0.492188</td>\n",
       "    </tr>\n",
       "    <tr>\n",
       "      <th>505</th>\n",
       "      <td>505</td>\n",
       "      <td>6346.017160</td>\n",
       "      <td>0.493164</td>\n",
       "    </tr>\n",
       "    <tr>\n",
       "      <th>506</th>\n",
       "      <td>506</td>\n",
       "      <td>6358.583531</td>\n",
       "      <td>0.494141</td>\n",
       "    </tr>\n",
       "    <tr>\n",
       "      <th>507</th>\n",
       "      <td>507</td>\n",
       "      <td>6371.149901</td>\n",
       "      <td>0.495117</td>\n",
       "    </tr>\n",
       "    <tr>\n",
       "      <th>508</th>\n",
       "      <td>508</td>\n",
       "      <td>6383.716272</td>\n",
       "      <td>0.496094</td>\n",
       "    </tr>\n",
       "    <tr>\n",
       "      <th>509</th>\n",
       "      <td>509</td>\n",
       "      <td>6396.282643</td>\n",
       "      <td>0.497070</td>\n",
       "    </tr>\n",
       "    <tr>\n",
       "      <th>510</th>\n",
       "      <td>510</td>\n",
       "      <td>6408.849013</td>\n",
       "      <td>0.498047</td>\n",
       "    </tr>\n",
       "    <tr>\n",
       "      <th>511</th>\n",
       "      <td>511</td>\n",
       "      <td>6421.415384</td>\n",
       "      <td>0.499023</td>\n",
       "    </tr>\n",
       "  </tbody>\n",
       "</table>\n",
       "<p>512 rows × 3 columns</p>\n",
       "</div>"
      ],
      "text/plain": [
       "       k            w       t_k\n",
       "0      0     0.000000  0.000000\n",
       "1      1    12.566371  0.000977\n",
       "2      2    25.132741  0.001953\n",
       "3      3    37.699112  0.002930\n",
       "4      4    50.265482  0.003906\n",
       "5      5    62.831853  0.004883\n",
       "6      6    75.398224  0.005859\n",
       "7      7    87.964594  0.006836\n",
       "8      8   100.530965  0.007812\n",
       "9      9   113.097336  0.008789\n",
       "10    10   125.663706  0.009766\n",
       "11    11   138.230077  0.010742\n",
       "12    12   150.796447  0.011719\n",
       "13    13   163.362818  0.012695\n",
       "14    14   175.929189  0.013672\n",
       "15    15   188.495559  0.014648\n",
       "16    16   201.061930  0.015625\n",
       "17    17   213.628300  0.016602\n",
       "18    18   226.194671  0.017578\n",
       "19    19   238.761042  0.018555\n",
       "20    20   251.327412  0.019531\n",
       "21    21   263.893783  0.020508\n",
       "22    22   276.460154  0.021484\n",
       "23    23   289.026524  0.022461\n",
       "24    24   301.592895  0.023438\n",
       "25    25   314.159265  0.024414\n",
       "26    26   326.725636  0.025391\n",
       "27    27   339.292007  0.026367\n",
       "28    28   351.858377  0.027344\n",
       "29    29   364.424748  0.028320\n",
       "..   ...          ...       ...\n",
       "482  482  6056.990636  0.470703\n",
       "483  483  6069.557007  0.471680\n",
       "484  484  6082.123377  0.472656\n",
       "485  485  6094.689748  0.473633\n",
       "486  486  6107.256119  0.474609\n",
       "487  487  6119.822489  0.475586\n",
       "488  488  6132.388860  0.476562\n",
       "489  489  6144.955230  0.477539\n",
       "490  490  6157.521601  0.478516\n",
       "491  491  6170.087972  0.479492\n",
       "492  492  6182.654342  0.480469\n",
       "493  493  6195.220713  0.481445\n",
       "494  494  6207.787083  0.482422\n",
       "495  495  6220.353454  0.483398\n",
       "496  496  6232.919825  0.484375\n",
       "497  497  6245.486195  0.485352\n",
       "498  498  6258.052566  0.486328\n",
       "499  499  6270.618937  0.487305\n",
       "500  500  6283.185307  0.488281\n",
       "501  501  6295.751678  0.489258\n",
       "502  502  6308.318048  0.490234\n",
       "503  503  6320.884419  0.491211\n",
       "504  504  6333.450790  0.492188\n",
       "505  505  6346.017160  0.493164\n",
       "506  506  6358.583531  0.494141\n",
       "507  507  6371.149901  0.495117\n",
       "508  508  6383.716272  0.496094\n",
       "509  509  6396.282643  0.497070\n",
       "510  510  6408.849013  0.498047\n",
       "511  511  6421.415384  0.499023\n",
       "\n",
       "[512 rows x 3 columns]"
      ]
     },
     "execution_count": 6,
     "metadata": {},
     "output_type": "execute_result"
    }
   ],
   "source": [
    "df"
   ]
  },
  {
   "cell_type": "markdown",
   "metadata": {},
   "source": [
    "Here is the original signal:"
   ]
  },
  {
   "cell_type": "code",
   "execution_count": 7,
   "metadata": {
    "collapsed": false
   },
   "outputs": [
    {
     "data": {
      "text/plain": [
       "<matplotlib.text.Text at 0x111c99310>"
      ]
     },
     "execution_count": 7,
     "metadata": {},
     "output_type": "execute_result"
    },
    {
     "data": {
      "image/png": "[encoded data removed]",
      "text/plain": [
       "<matplotlib.figure.Figure at 0x10f5a5f10>"
      ]
     },
     "metadata": {},
     "output_type": "display_data"
    }
   ],
   "source": [
    "plt.plot(df.t_k, F(df.t_k))\n",
    "plt.xlim(0, 0.5)\n",
    "plt.ylim(-10, 15)\n",
    "plt.xlabel('t')\n",
    "plt.ylabel('F(t)')"
   ]
  },
  {
   "cell_type": "markdown",
   "metadata": {},
   "source": [
    "We wish to find the underlying waves which when superposed produce the original signal. This is done by computing the DFT. In this case the number of samples is a power of 2 so we can use the FFT which has a computational complexity of N log N."
   ]
  },
  {
   "cell_type": "code",
   "execution_count": 8,
   "metadata": {
    "collapsed": false,
    "scrolled": true
   },
   "outputs": [
    {
     "data": {
      "text/plain": [
       "<matplotlib.text.Text at 0x111e49410>"
      ]
     },
     "execution_count": 8,
     "metadata": {},
     "output_type": "execute_result"
    },
    {
     "data": {
      "image/png": "[encoded data removed]",
      "text/plain": [
       "<matplotlib.figure.Figure at 0x111ca5910>"
      ]
     },
     "metadata": {},
     "output_type": "display_data"
    }
   ],
   "source": [
    "from numpy import fft\n",
    "\n",
    "plt.plot(df.w / (2 * np.pi), fft.fft(F(df.t_k)).real)\n",
    "plt.xlim(0, 100)\n",
    "plt.xlabel('w')\n",
    "plt.ylabel('F(w)')"
   ]
  },
  {
   "cell_type": "markdown",
   "metadata": {},
   "source": [
    "We see the underlying frequencies of the original signal have been revealed, namely, 10, 20, 30, 40 and 50 Hertz."
   ]
  },
  {
   "cell_type": "markdown",
   "metadata": {},
   "source": [
    "### Explicit calculation"
   ]
  },
  {
   "cell_type": "markdown",
   "metadata": {},
   "source": [
    "Here we repeat the calculation without using a library:"
   ]
  },
  {
   "cell_type": "code",
   "execution_count": 9,
   "metadata": {
    "collapsed": false
   },
   "outputs": [],
   "source": [
    "Fw = []\n",
    "for w in df.w:\n",
    "     sumt = 0.0 + 0.0j\n",
    "     for k in df.k:\n",
    "          t_k = k * T / (2 * N)\n",
    "          sumt += F(t_k) * np.exp(1j * w * t_k)\n",
    "     Fw.append(sumt / 2.0 / N)"
   ]
  },
  {
   "cell_type": "code",
   "execution_count": 10,
   "metadata": {
    "collapsed": false
   },
   "outputs": [],
   "source": [
    "Fw = Fw[:N]"
   ]
  },
  {
   "cell_type": "code",
   "execution_count": 11,
   "metadata": {
    "collapsed": false
   },
   "outputs": [
    {
     "data": {
      "text/plain": [
       "[(-5.9327542878406803e-16+0j),\n",
       " (-6.4531713306337224e-16+1.8323016715005025e-16j),\n",
       " (-5.0653925498522767e-16-2.6270218639323772e-16j),\n",
       " (-6.6266436782314031e-16+1.5092094240998222e-16j),\n",
       " (-5.4123372450476381e-16+2.1120258320017626e-16j),\n",
       " (0.49999999999999944+1.6349768761081407e-16j),\n",
       " (-7.2164496600635175e-16-2.2681509448396753e-16j),\n",
       " (-7.5286998857393428e-16+5.2909066017292616e-17j),\n",
       " (-7.9103390504542404e-16+9.2374025095764978e-17j),\n",
       " (-7.9450335199737765e-16+3.8857805861880479e-16j),\n",
       " (0.99999999999999956-4.0332320816460765e-17j),\n",
       " (-1.672273430841642e-15+9.9746599868666408e-18j),\n",
       " (-4.6837533851373792e-16-1.9081958235744878e-17j),\n",
       " (-1.1449174941446927e-15+7.3899220076611982e-16j),\n",
       " (-1.8422763314873691e-15+3.903127820947816e-16j),\n",
       " (1.5000000000000002+1.5872719805187785e-16j),\n",
       " (6.6960326172704754e-16-1.5785983631388945e-16j),\n",
       " (-3.677613769070831e-16-1.0711917464156784e-15j),\n",
       " (2.1510571102112408e-16-3.903127820947816e-17j),\n",
       " (2.0677903833643541e-15-3.9898639947466563e-17j)]"
      ]
     },
     "execution_count": 11,
     "metadata": {},
     "output_type": "execute_result"
    }
   ],
   "source": [
    "Fw[:20]"
   ]
  },
  {
   "cell_type": "code",
   "execution_count": 12,
   "metadata": {
    "collapsed": false
   },
   "outputs": [
    {
     "data": {
      "text/plain": [
       "array([ -5.93275429e-16,  -6.45317133e-16,  -5.06539255e-16,\n",
       "        -6.62664368e-16,  -5.41233725e-16,   5.00000000e-01,\n",
       "        -7.21644966e-16,  -7.52869989e-16,  -7.91033905e-16,\n",
       "        -7.94503352e-16,   1.00000000e+00,  -1.67227343e-15,\n",
       "        -4.68375339e-16,  -1.14491749e-15,  -1.84227633e-15,\n",
       "         1.50000000e+00,   6.69603262e-16,  -3.67761377e-16,\n",
       "         2.15105711e-16,   2.06779038e-15])"
      ]
     },
     "execution_count": 12,
     "metadata": {},
     "output_type": "execute_result"
    }
   ],
   "source": [
    "np.array(Fw).real[:20]"
   ]
  },
  {
   "cell_type": "code",
   "execution_count": 13,
   "metadata": {
    "collapsed": false
   },
   "outputs": [
    {
     "data": {
      "text/plain": [
       "array([  0.00000000e+00,   1.83230167e-16,  -2.62702186e-16,\n",
       "         1.50920942e-16,   2.11202583e-16,   1.63497688e-16,\n",
       "        -2.26815094e-16,   5.29090660e-17,   9.23740251e-17,\n",
       "         3.88578059e-16,  -4.03323208e-17,   9.97465999e-18,\n",
       "        -1.90819582e-17,   7.38992201e-16,   3.90312782e-16,\n",
       "         1.58727198e-16,  -1.57859836e-16,  -1.07119175e-15,\n",
       "        -3.90312782e-17,  -3.98986399e-17])"
      ]
     },
     "execution_count": 13,
     "metadata": {},
     "output_type": "execute_result"
    }
   ],
   "source": [
    "np.array(Fw).imag[:20]"
   ]
  },
  {
   "cell_type": "code",
   "execution_count": 14,
   "metadata": {
    "collapsed": false,
    "scrolled": true
   },
   "outputs": [
    {
     "data": {
      "text/plain": [
       "(0, 100)"
      ]
     },
     "execution_count": 14,
     "metadata": {},
     "output_type": "execute_result"
    },
    {
     "data": {
      "image/png": "[encoded data removed]",
      "text/plain": [
       "<matplotlib.figure.Figure at 0x111e57510>"
      ]
     },
     "metadata": {},
     "output_type": "display_data"
    }
   ],
   "source": [
    "plt.plot(df.w[:N] / (2 * np.pi), np.array(Fw).real)\n",
    "plt.xlim(0, 100)"
   ]
  },
  {
   "cell_type": "code",
   "execution_count": 15,
   "metadata": {
    "collapsed": false
   },
   "outputs": [
    {
     "data": {
      "text/plain": [
       "(0, 100)"
      ]
     },
     "execution_count": 15,
     "metadata": {},
     "output_type": "execute_result"
    },
    {
     "data": {
      "image/png": "[encoded data removed]",
      "text/plain": [
       "<matplotlib.figure.Figure at 0x111f0de50>"
      ]
     },
     "metadata": {},
     "output_type": "display_data"
    }
   ],
   "source": [
    "plt.scatter(df.w[:N] / (2 * np.pi), np.absolute(np.array(Fw)))\n",
    "plt.plot(df.w[:N] / (2 * np.pi), np.absolute(np.array(Fw)))\n",
    "plt.xlim(0, 100)"
   ]
  },
  {
   "cell_type": "code",
   "execution_count": 16,
   "metadata": {
    "collapsed": false
   },
   "outputs": [
    {
     "data": {
      "text/plain": [
       "[<matplotlib.lines.Line2D at 0x1121d6650>]"
      ]
     },
     "execution_count": 16,
     "metadata": {},
     "output_type": "execute_result"
    },
    {
     "data": {
      "image/png": "[encoded data removed]",
      "text/plain": [
       "<matplotlib.figure.Figure at 0x1121d66d0>"
      ]
     },
     "metadata": {},
     "output_type": "display_data"
    }
   ],
   "source": [
    "x = np.linspace(0, 10, 250)\n",
    "plt.plot(np.cos(2*x))\n",
    "plt.plot(np.cos(x))"
   ]
  },
  {
   "cell_type": "code",
   "execution_count": 17,
   "metadata": {
    "collapsed": false
   },
   "outputs": [
    {
     "data": {
      "text/plain": [
       "array([ 4.50000000+0.j        ,  2.08155948-1.65109876j,\n",
       "       -1.83155948+1.60822041j, -1.83155948-1.60822041j,\n",
       "        2.08155948+1.65109876j])"
      ]
     },
     "execution_count": 17,
     "metadata": {},
     "output_type": "execute_result"
    }
   ],
   "source": [
    "from scipy import fft, ifft\n",
    "\n",
    "x = np.array([1.0, 2.0, 1.0, -1.0, 1.5])\n",
    "spec = fft(x)\n",
    "spec"
   ]
  },
  {
   "cell_type": "code",
   "execution_count": 18,
   "metadata": {
    "collapsed": true
   },
   "outputs": [],
   "source": [
    "a_m = spec.real\n",
    "b_m = spec.imag\n",
    "c_m = np.abs(spec)"
   ]
  },
  {
   "cell_type": "code",
   "execution_count": 19,
   "metadata": {
    "collapsed": false
   },
   "outputs": [
    {
     "data": {
      "text/plain": [
       "array([ 1.0+0.j,  2.0+0.j,  1.0+0.j, -1.0+0.j,  1.5+0.j])"
      ]
     },
     "execution_count": 19,
     "metadata": {},
     "output_type": "execute_result"
    }
   ],
   "source": [
    "x_again = ifft(spec)\n",
    "x_again"
   ]
  }
 ],
 "metadata": {
  "anaconda-cloud": {},
  "kernelspec": {
   "display_name": "Python [conda root]",
   "language": "python",
   "name": "conda-root-py"
  },
  "language_info": {
   "codemirror_mode": {
    "name": "ipython",
    "version": 2
   },
   "file_extension": ".py",
   "mimetype": "text/x-python",
   "name": "python",
   "nbconvert_exporter": "python",
   "pygments_lexer": "ipython2",
   "version": "2.7.12"
  }
 },
 "nbformat": 4,
 "nbformat_minor": 1
}
