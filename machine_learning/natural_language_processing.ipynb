{
 "cells": [
  {
   "cell_type": "markdown",
   "metadata": {},
   "source": [
    "# Jonathan Halverson\n",
    "# Sunday, April 17, 2016\n",
    "# Natural language processing"
   ]
  },
  {
   "cell_type": "code",
   "execution_count": 58,
   "metadata": {
    "collapsed": true
   },
   "outputs": [],
   "source": [
    "import numpy as np\n",
    "import pandas as pd\n",
    "import matplotlib.pyplot as plt\n",
    "%matplotlib inline\n",
    "plt.style.use('halverson')"
   ]
  },
  {
   "cell_type": "code",
   "execution_count": 59,
   "metadata": {
    "collapsed": true
   },
   "outputs": [],
   "source": [
    "docs = np.array(['The sun is shining.', 'The weather is sweet.', 'The sun is shining and the weather is sweet.'])"
   ]
  },
  {
   "cell_type": "code",
   "execution_count": 60,
   "metadata": {
    "collapsed": false
   },
   "outputs": [],
   "source": [
    "from sklearn.feature_extraction.text import CountVectorizer\n",
    "count = CountVectorizer()\n",
    "bag = count.fit_transform(docs)"
   ]
  },
  {
   "cell_type": "code",
   "execution_count": 66,
   "metadata": {
    "collapsed": false
   },
   "outputs": [
    {
     "name": "stdout",
     "output_type": "stream",
     "text": [
      "0 and\n",
      "1 is\n",
      "2 shining\n",
      "3 sun\n",
      "4 sweet\n",
      "5 the\n",
      "6 weather\n"
     ]
    }
   ],
   "source": [
    "for word, i in sorted(count.vocabulary_.iteritems()):\n",
    "    print i, word"
   ]
  },
  {
   "cell_type": "code",
   "execution_count": 62,
   "metadata": {
    "collapsed": false
   },
   "outputs": [
    {
     "name": "stdout",
     "output_type": "stream",
     "text": [
      "[[0 1 1 1 0 1 0]\n",
      " [0 1 0 0 1 1 1]\n",
      " [1 2 1 1 1 2 1]]\n"
     ]
    }
   ],
   "source": [
    "print bag.toarray()"
   ]
  },
  {
   "cell_type": "code",
   "execution_count": 63,
   "metadata": {
    "collapsed": false
   },
   "outputs": [
    {
     "name": "stdout",
     "output_type": "stream",
     "text": [
      "{u'the sun': 11, u'and': 0, u'the weather': 12, u'shining and': 6, u'sun': 7, u'is': 2, u'sun is': 8, u'and the': 1, u'weather is': 14, u'weather': 13, u'sweet': 9, u'the': 10, u'is sweet': 4, u'is shining': 3, u'shining': 5}\n",
      "[[0 0 1 1 0 1 0 1 1 0 1 1 0 0 0]\n",
      " [0 0 1 0 1 0 0 0 0 1 1 0 1 1 1]\n",
      " [1 1 2 1 1 1 1 1 1 1 2 1 1 1 1]]\n"
     ]
    }
   ],
   "source": [
    "count2 = CountVectorizer(ngram_range=(1,2))\n",
    "bag2 = count2.fit_transform(docs)\n",
    "print count2.vocabulary_\n",
    "print bag2.toarray()"
   ]
  },
  {
   "cell_type": "code",
   "execution_count": 64,
   "metadata": {
    "collapsed": false
   },
   "outputs": [
    {
     "name": "stdout",
     "output_type": "stream",
     "text": [
      "0 and\n",
      "1 and the\n",
      "2 is\n",
      "3 is shining\n",
      "4 is sweet\n",
      "5 shining\n",
      "6 shining and\n",
      "7 sun\n",
      "8 sun is\n",
      "9 sweet\n",
      "10 the\n",
      "11 the sun\n",
      "12 the weather\n",
      "13 weather\n",
      "14 weather is\n"
     ]
    }
   ],
   "source": [
    "for word, i in sorted(count2.vocabulary_.iteritems()):\n",
    "    print i, word"
   ]
  }
 ],
 "metadata": {
  "kernelspec": {
   "display_name": "Python 2",
   "language": "python",
   "name": "python2"
  },
  "language_info": {
   "codemirror_mode": {
    "name": "ipython",
    "version": 2
   },
   "file_extension": ".py",
   "mimetype": "text/x-python",
   "name": "python",
   "nbconvert_exporter": "python",
   "pygments_lexer": "ipython2",
   "version": "2.7.5"
  }
 },
 "nbformat": 4,
 "nbformat_minor": 0
}
