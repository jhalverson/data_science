{
 "cells": [
  {
   "cell_type": "markdown",
   "metadata": {},
   "source": [
    "# Jonathan Halverson\n",
    "# Thursday, May 18, 2017\n",
    "# Sentiment Analysis of Pride and Prejudice"
   ]
  },
  {
   "cell_type": "code",
   "execution_count": 1,
   "metadata": {
    "collapsed": false
   },
   "outputs": [],
   "source": [
    "import numpy as np\n",
    "import pandas as pd\n",
    "import matplotlib.pyplot as plt\n",
    "%matplotlib inline\n",
    "plt.style.use('halverson')"
   ]
  },
  {
   "cell_type": "markdown",
   "metadata": {},
   "source": [
    "The text was taken from https://www.gutenberg.org/ebooks/1342"
   ]
  },
  {
   "cell_type": "markdown",
   "metadata": {},
   "source": [
    "Load book and remove header:"
   ]
  },
  {
   "cell_type": "code",
   "execution_count": 2,
   "metadata": {
    "collapsed": false
   },
   "outputs": [],
   "source": [
    "with open('pride_and_prejudice_utf8_gutenberg.txt', 'r') as f:\n",
    "     lines = f.readlines()\n",
    "lines = lines[40:]"
   ]
  },
  {
   "cell_type": "markdown",
   "metadata": {},
   "source": [
    "Decode utf-8 characters and clean:"
   ]
  },
  {
   "cell_type": "code",
   "execution_count": 3,
   "metadata": {
    "collapsed": false
   },
   "outputs": [
    {
     "data": {
      "text/plain": [
       "['It is a truth universally acknowledged, that a single man in possession',\n",
       " 'of a good fortune, must be in want of a wife.',\n",
       " '',\n",
       " 'However little known the feelings or views of such a man may be on his',\n",
       " 'first entering a neighbourhood, this truth is so well fixed in the minds',\n",
       " 'of the surrounding families, that he is considered the rightful property',\n",
       " 'of some one or other of their daughters.',\n",
       " '',\n",
       " 'My dear Mr. Bennet, said his lady to him one day, have you heard that',\n",
       " 'Netherfield Park is let at last?']"
      ]
     },
     "execution_count": 3,
     "metadata": {},
     "output_type": "execute_result"
    }
   ],
   "source": [
    "lines = [line.decode('utf-8').replace('\\r\\n', '').encode('ascii', 'ignore') for line in lines]\n",
    "lines[:10]"
   ]
  },
  {
   "cell_type": "markdown",
   "metadata": {},
   "source": [
    "Remove underscores and empty lines:"
   ]
  },
  {
   "cell_type": "code",
   "execution_count": 4,
   "metadata": {
    "collapsed": false
   },
   "outputs": [
    {
     "data": {
      "text/plain": [
       "['It is a truth universally acknowledged, that a single man in possession',\n",
       " 'of a good fortune, must be in want of a wife.',\n",
       " 'However little known the feelings or views of such a man may be on his',\n",
       " 'first entering a neighbourhood, this truth is so well fixed in the minds',\n",
       " 'of the surrounding families, that he is considered the rightful property',\n",
       " 'of some one or other of their daughters.',\n",
       " 'My dear Mr. Bennet, said his lady to him one day, have you heard that',\n",
       " 'Netherfield Park is let at last?',\n",
       " 'Mr. Bennet replied that he had not.',\n",
       " 'But it is, returned she; for Mrs. Long has just been here, and she']"
      ]
     },
     "execution_count": 4,
     "metadata": {},
     "output_type": "execute_result"
    }
   ],
   "source": [
    "lines = [line.replace('_', '') for line in lines if line]\n",
    "lines[:10]"
   ]
  },
  {
   "cell_type": "markdown",
   "metadata": {},
   "source": [
    "Use a regular expression to remove all non-alphabetical characters:"
   ]
  },
  {
   "cell_type": "code",
   "execution_count": 5,
   "metadata": {
    "collapsed": false
   },
   "outputs": [
    {
     "data": {
      "text/plain": [
       "['it',\n",
       " 'is',\n",
       " 'a',\n",
       " 'truth',\n",
       " 'universally',\n",
       " 'acknowledged',\n",
       " 'that',\n",
       " 'a',\n",
       " 'single',\n",
       " 'man']"
      ]
     },
     "execution_count": 5,
     "metadata": {},
     "output_type": "execute_result"
    }
   ],
   "source": [
    "import re\n",
    "\n",
    "lines = ' '.join(lines)\n",
    "letters_only = re.sub('[^a-zA-Z]', ' ', lines)\n",
    "words = letters_only.lower().split()\n",
    "words[:10]"
   ]
  },
  {
   "cell_type": "code",
   "execution_count": 6,
   "metadata": {
    "collapsed": false
   },
   "outputs": [
    {
     "data": {
      "text/plain": [
       "125119"
      ]
     },
     "execution_count": 6,
     "metadata": {},
     "output_type": "execute_result"
    }
   ],
   "source": [
    "len(words)"
   ]
  },
  {
   "cell_type": "markdown",
   "metadata": {},
   "source": [
    "Form blocks of text of a given number of consectutive words:"
   ]
  },
  {
   "cell_type": "code",
   "execution_count": 7,
   "metadata": {
    "collapsed": true
   },
   "outputs": [],
   "source": [
    "words_per_block = 100\n",
    "num_blocks = len(words) / words_per_block\n",
    "blocks = [words[s*words_per_block:(s+1)*words_per_block] for s in range(0, num_blocks)]"
   ]
  },
  {
   "cell_type": "code",
   "execution_count": 8,
   "metadata": {
    "collapsed": false
   },
   "outputs": [
    {
     "data": {
      "text/plain": [
       "['he',\n",
       " 'was',\n",
       " 'at',\n",
       " 'the',\n",
       " 'same',\n",
       " 'time',\n",
       " 'haughty',\n",
       " 'reserved',\n",
       " 'and',\n",
       " 'fastidious',\n",
       " 'and',\n",
       " 'his',\n",
       " 'manners',\n",
       " 'though',\n",
       " 'well',\n",
       " 'bred',\n",
       " 'were',\n",
       " 'not',\n",
       " 'inviting',\n",
       " 'in',\n",
       " 'that',\n",
       " 'respect',\n",
       " 'his',\n",
       " 'friend',\n",
       " 'had',\n",
       " 'greatly',\n",
       " 'the',\n",
       " 'advantage',\n",
       " 'bingley',\n",
       " 'was',\n",
       " 'sure',\n",
       " 'of',\n",
       " 'being',\n",
       " 'liked',\n",
       " 'wherever',\n",
       " 'he',\n",
       " 'appeared',\n",
       " 'darcy',\n",
       " 'was',\n",
       " 'continually',\n",
       " 'giving',\n",
       " 'offense',\n",
       " 'the',\n",
       " 'manner',\n",
       " 'in',\n",
       " 'which',\n",
       " 'they',\n",
       " 'spoke',\n",
       " 'of',\n",
       " 'the',\n",
       " 'meryton',\n",
       " 'assembly',\n",
       " 'was',\n",
       " 'sufficiently',\n",
       " 'characteristic',\n",
       " 'bingley',\n",
       " 'had',\n",
       " 'never',\n",
       " 'met',\n",
       " 'with',\n",
       " 'more',\n",
       " 'pleasant',\n",
       " 'people',\n",
       " 'or',\n",
       " 'prettier',\n",
       " 'girls',\n",
       " 'in',\n",
       " 'his',\n",
       " 'life',\n",
       " 'everybody',\n",
       " 'had',\n",
       " 'been',\n",
       " 'most',\n",
       " 'kind',\n",
       " 'and',\n",
       " 'attentive',\n",
       " 'to',\n",
       " 'him',\n",
       " 'there',\n",
       " 'had',\n",
       " 'been',\n",
       " 'no',\n",
       " 'formality',\n",
       " 'no',\n",
       " 'stiffness',\n",
       " 'he',\n",
       " 'had',\n",
       " 'soon',\n",
       " 'felt',\n",
       " 'acquainted',\n",
       " 'with',\n",
       " 'all',\n",
       " 'the',\n",
       " 'room',\n",
       " 'and',\n",
       " 'as',\n",
       " 'to',\n",
       " 'miss',\n",
       " 'bennet',\n",
       " 'he']"
      ]
     },
     "execution_count": 8,
     "metadata": {},
     "output_type": "execute_result"
    }
   ],
   "source": [
    "blocks[42]"
   ]
  },
  {
   "cell_type": "markdown",
   "metadata": {
    "collapsed": true
   },
   "source": [
    "Need the NRC Word-Emotion Association Lexicon to continue following the ODSC post:\n",
    "https://opendatascience.com/blog/you-must-allow-me-to-tell-you-how-ardently-i-admire-and-love-natural-language-processing/"
   ]
  },
  {
   "cell_type": "markdown",
   "metadata": {},
   "source": [
    "The following link was used to obtain the lexicon:"
   ]
  },
  {
   "cell_type": "markdown",
   "metadata": {},
   "source": [
    "https://github.com/aneesha/cbd/blob/master/cronscripts/NRC-emotion-lexicon-wordlevel-alphabetized-v0.92.txt"
   ]
  },
  {
   "cell_type": "code",
   "execution_count": 9,
   "metadata": {
    "collapsed": false
   },
   "outputs": [],
   "source": [
    "from collections import defaultdict\n",
    "import csv\n",
    "\n",
    "wordList = defaultdict(list)\n",
    "emotionList = defaultdict(list)\n",
    "with open('NRC-emotion-lexicon-wordlevel-alphabetized-v0.92.txt', 'r') as f:\n",
    "     reader = csv.reader(f, delimiter='\\t')\n",
    "     # note that the end value was changed from 46 to 2\n",
    "     headerRows = range(0, 2)\n",
    "     for row in headerRows:\n",
    "          next(reader)\n",
    "     for word, emotion, present in reader:\n",
    "          if int(present) == 1:\n",
    "               wordList[word].append(emotion)\n",
    "               emotionList[emotion].append(word)"
   ]
  },
  {
   "cell_type": "code",
   "execution_count": 10,
   "metadata": {
    "collapsed": true
   },
   "outputs": [],
   "source": [
    "def sentiment(block):\n",
    "     s = 0\n",
    "     for word in block:\n",
    "          if (word in emotionList['positive']): s += 1\n",
    "          if (word in emotionList['negative']): s -= 1\n",
    "     return s"
   ]
  },
  {
   "cell_type": "code",
   "execution_count": 11,
   "metadata": {
    "collapsed": false
   },
   "outputs": [],
   "source": [
    "sentiments = [sentiment(block) for block in blocks]"
   ]
  },
  {
   "cell_type": "code",
   "execution_count": 12,
   "metadata": {
    "collapsed": false
   },
   "outputs": [
    {
     "data": {
      "text/plain": [
       "<matplotlib.text.Text at 0x11017ec90>"
      ]
     },
     "execution_count": 12,
     "metadata": {},
     "output_type": "execute_result"
    },
    {
     "data": {
      "image/png": "[encoded data removed]",
      "text/plain": [
       "<matplotlib.figure.Figure at 0x10f714490>"
      ]
     },
     "metadata": {},
     "output_type": "display_data"
    }
   ],
   "source": [
    "plt.bar(range(len(sentiments)), sentiments)\n",
    "plt.xlabel('Block Number')\n",
    "plt.ylabel('Sentiment')"
   ]
  },
  {
   "cell_type": "code",
   "execution_count": 13,
   "metadata": {
    "collapsed": false
   },
   "outputs": [
    {
     "data": {
      "text/plain": [
       "[<matplotlib.lines.Line2D at 0x113524bd0>]"
      ]
     },
     "execution_count": 13,
     "metadata": {},
     "output_type": "execute_result"
    },
    {
     "data": {
      "image/png": "[encoded data removed]",
      "text/plain": [
       "<matplotlib.figure.Figure at 0x10f714510>"
      ]
     },
     "metadata": {},
     "output_type": "display_data"
    }
   ],
   "source": [
    "plt.plot(sentiments)"
   ]
  },
  {
   "cell_type": "code",
   "execution_count": 14,
   "metadata": {
    "collapsed": false
   },
   "outputs": [],
   "source": [
    "from scipy import fft, ifft\n",
    "\n",
    "spec = fft(sentiments)"
   ]
  },
  {
   "cell_type": "code",
   "execution_count": 15,
   "metadata": {
    "collapsed": true
   },
   "outputs": [],
   "source": [
    "def low_pass(spec_, icut=10):\n",
    "     fac = np.append(np.ones(icut), np.zeros(spec_.size - icut))\n",
    "     assert fac.size == spec_.size, 'Big trouble'\n",
    "     return ifft(fac * spec_).real"
   ]
  },
  {
   "cell_type": "code",
   "execution_count": 16,
   "metadata": {
    "collapsed": false
   },
   "outputs": [
    {
     "data": {
      "image/png": "[encoded data removed]",
      "text/plain": [
       "<matplotlib.figure.Figure at 0x1129f4550>"
      ]
     },
     "metadata": {},
     "output_type": "display_data"
    }
   ],
   "source": [
    "fig, (ax1, ax2, ax3) = plt.subplots(nrows=1, ncols=3, figsize=(8, 3))\n",
    "ax1.plot(low_pass(spec, icut=20))\n",
    "ax2.plot(low_pass(spec, icut=10))\n",
    "ax3.plot(low_pass(spec, icut=5))\n",
    "ax1.set_ylim(0, 5)\n",
    "ax2.set_ylim(0, 5)\n",
    "ax3.set_ylim(0, 5)\n",
    "plt.tight_layout()"
   ]
  },
  {
   "cell_type": "code",
   "execution_count": 17,
   "metadata": {
    "collapsed": false
   },
   "outputs": [
    {
     "data": {
      "text/plain": [
       "[<matplotlib.lines.Line2D at 0x1161c50d0>]"
      ]
     },
     "execution_count": 17,
     "metadata": {},
     "output_type": "execute_result"
    },
    {
     "data": {
      "image/png": "[encoded data removed]",
      "text/plain": [
       "<matplotlib.figure.Figure at 0x113c8cb50>"
      ]
     },
     "metadata": {},
     "output_type": "display_data"
    }
   ],
   "source": [
    "plt.plot(low_pass(spec, 3))"
   ]
  },
  {
   "cell_type": "markdown",
   "metadata": {},
   "source": [
    "This corresponds very closely to the blog post. The differences are probably explained by the difference in blocks sizes."
   ]
  },
  {
   "cell_type": "code",
   "execution_count": 18,
   "metadata": {
    "collapsed": false
   },
   "outputs": [
    {
     "data": {
      "text/html": [
       "<div>\n",
       "<table border=\"1\" class=\"dataframe\">\n",
       "  <thead>\n",
       "    <tr style=\"text-align: right;\">\n",
       "      <th></th>\n",
       "      <th>word</th>\n",
       "      <th>emotion</th>\n",
       "      <th>value</th>\n",
       "    </tr>\n",
       "  </thead>\n",
       "  <tbody>\n",
       "    <tr>\n",
       "      <th>0</th>\n",
       "      <td>aback</td>\n",
       "      <td>anger</td>\n",
       "      <td>0</td>\n",
       "    </tr>\n",
       "    <tr>\n",
       "      <th>1</th>\n",
       "      <td>aback</td>\n",
       "      <td>anticipation</td>\n",
       "      <td>0</td>\n",
       "    </tr>\n",
       "    <tr>\n",
       "      <th>2</th>\n",
       "      <td>aback</td>\n",
       "      <td>disgust</td>\n",
       "      <td>0</td>\n",
       "    </tr>\n",
       "    <tr>\n",
       "      <th>3</th>\n",
       "      <td>aback</td>\n",
       "      <td>fear</td>\n",
       "      <td>0</td>\n",
       "    </tr>\n",
       "    <tr>\n",
       "      <th>4</th>\n",
       "      <td>aback</td>\n",
       "      <td>joy</td>\n",
       "      <td>0</td>\n",
       "    </tr>\n",
       "  </tbody>\n",
       "</table>\n",
       "</div>"
      ],
      "text/plain": [
       "    word       emotion  value\n",
       "0  aback         anger      0\n",
       "1  aback  anticipation      0\n",
       "2  aback       disgust      0\n",
       "3  aback          fear      0\n",
       "4  aback           joy      0"
      ]
     },
     "execution_count": 18,
     "metadata": {},
     "output_type": "execute_result"
    }
   ],
   "source": [
    "iofile = 'NRC-emotion-lexicon-wordlevel-alphabetized-v0.92.txt'\n",
    "df = pd.read_csv(iofile, sep='\\t', header=0, names=['word', 'emotion', 'value'])\n",
    "df.head()"
   ]
  },
  {
   "cell_type": "code",
   "execution_count": 19,
   "metadata": {
    "collapsed": false
   },
   "outputs": [
    {
     "data": {
      "text/plain": [
       "1251"
      ]
     },
     "execution_count": 19,
     "metadata": {},
     "output_type": "execute_result"
    }
   ],
   "source": [
    "len(sentiments)"
   ]
  },
  {
   "cell_type": "markdown",
   "metadata": {},
   "source": [
    "Let's drop the last block so that we have 2N blocks:"
   ]
  },
  {
   "cell_type": "code",
   "execution_count": 20,
   "metadata": {
    "collapsed": false
   },
   "outputs": [
    {
     "data": {
      "text/plain": [
       "1250"
      ]
     },
     "execution_count": 20,
     "metadata": {},
     "output_type": "execute_result"
    }
   ],
   "source": [
    "sentiments = sentiments[:-1]\n",
    "len(sentiments)"
   ]
  },
  {
   "cell_type": "code",
   "execution_count": 21,
   "metadata": {
    "collapsed": false
   },
   "outputs": [
    {
     "data": {
      "text/plain": [
       "625"
      ]
     },
     "execution_count": 21,
     "metadata": {},
     "output_type": "execute_result"
    }
   ],
   "source": [
    "N = len(sentiments) / 2\n",
    "N"
   ]
  },
  {
   "cell_type": "markdown",
   "metadata": {},
   "source": [
    "Time then varies from 0 to 1249 so T=1249:"
   ]
  },
  {
   "cell_type": "code",
   "execution_count": 22,
   "metadata": {
    "collapsed": false
   },
   "outputs": [
    {
     "data": {
      "text/plain": [
       "1249"
      ]
     },
     "execution_count": 22,
     "metadata": {},
     "output_type": "execute_result"
    }
   ],
   "source": [
    "T = len(sentiments) - 1\n",
    "T"
   ]
  },
  {
   "cell_type": "markdown",
   "metadata": {},
   "source": [
    "Create a dataframe:"
   ]
  },
  {
   "cell_type": "code",
   "execution_count": 23,
   "metadata": {
    "collapsed": false
   },
   "outputs": [
    {
     "data": {
      "text/html": [
       "<div>\n",
       "<table border=\"1\" class=\"dataframe\">\n",
       "  <thead>\n",
       "    <tr style=\"text-align: right;\">\n",
       "      <th></th>\n",
       "      <th>f(t)</th>\n",
       "      <th>t</th>\n",
       "    </tr>\n",
       "  </thead>\n",
       "  <tbody>\n",
       "    <tr>\n",
       "      <th>0</th>\n",
       "      <td>5</td>\n",
       "      <td>0</td>\n",
       "    </tr>\n",
       "    <tr>\n",
       "      <th>1</th>\n",
       "      <td>3</td>\n",
       "      <td>1</td>\n",
       "    </tr>\n",
       "    <tr>\n",
       "      <th>2</th>\n",
       "      <td>2</td>\n",
       "      <td>2</td>\n",
       "    </tr>\n",
       "    <tr>\n",
       "      <th>3</th>\n",
       "      <td>4</td>\n",
       "      <td>3</td>\n",
       "    </tr>\n",
       "    <tr>\n",
       "      <th>4</th>\n",
       "      <td>6</td>\n",
       "      <td>4</td>\n",
       "    </tr>\n",
       "  </tbody>\n",
       "</table>\n",
       "</div>"
      ],
      "text/plain": [
       "   f(t)  t\n",
       "0     5  0\n",
       "1     3  1\n",
       "2     2  2\n",
       "3     4  3\n",
       "4     6  4"
      ]
     },
     "execution_count": 23,
     "metadata": {},
     "output_type": "execute_result"
    }
   ],
   "source": [
    "df = pd.DataFrame({'t':range(len(sentiments)), 'f(t)':sentiments})\n",
    "df.head()"
   ]
  },
  {
   "cell_type": "code",
   "execution_count": 24,
   "metadata": {
    "collapsed": false
   },
   "outputs": [
    {
     "data": {
      "text/html": [
       "<div>\n",
       "<table border=\"1\" class=\"dataframe\">\n",
       "  <thead>\n",
       "    <tr style=\"text-align: right;\">\n",
       "      <th></th>\n",
       "      <th>f(t)</th>\n",
       "      <th>t</th>\n",
       "      <th>w</th>\n",
       "    </tr>\n",
       "  </thead>\n",
       "  <tbody>\n",
       "    <tr>\n",
       "      <th>0</th>\n",
       "      <td>5</td>\n",
       "      <td>0</td>\n",
       "      <td>0.000000</td>\n",
       "    </tr>\n",
       "    <tr>\n",
       "      <th>1</th>\n",
       "      <td>3</td>\n",
       "      <td>1</td>\n",
       "      <td>0.005031</td>\n",
       "    </tr>\n",
       "    <tr>\n",
       "      <th>2</th>\n",
       "      <td>2</td>\n",
       "      <td>2</td>\n",
       "      <td>0.010061</td>\n",
       "    </tr>\n",
       "    <tr>\n",
       "      <th>3</th>\n",
       "      <td>4</td>\n",
       "      <td>3</td>\n",
       "      <td>0.015092</td>\n",
       "    </tr>\n",
       "    <tr>\n",
       "      <th>4</th>\n",
       "      <td>6</td>\n",
       "      <td>4</td>\n",
       "      <td>0.020122</td>\n",
       "    </tr>\n",
       "    <tr>\n",
       "      <th>5</th>\n",
       "      <td>4</td>\n",
       "      <td>5</td>\n",
       "      <td>0.025153</td>\n",
       "    </tr>\n",
       "    <tr>\n",
       "      <th>6</th>\n",
       "      <td>4</td>\n",
       "      <td>6</td>\n",
       "      <td>0.030183</td>\n",
       "    </tr>\n",
       "    <tr>\n",
       "      <th>7</th>\n",
       "      <td>5</td>\n",
       "      <td>7</td>\n",
       "      <td>0.035214</td>\n",
       "    </tr>\n",
       "    <tr>\n",
       "      <th>8</th>\n",
       "      <td>5</td>\n",
       "      <td>8</td>\n",
       "      <td>0.040245</td>\n",
       "    </tr>\n",
       "    <tr>\n",
       "      <th>9</th>\n",
       "      <td>0</td>\n",
       "      <td>9</td>\n",
       "      <td>0.045275</td>\n",
       "    </tr>\n",
       "    <tr>\n",
       "      <th>10</th>\n",
       "      <td>1</td>\n",
       "      <td>10</td>\n",
       "      <td>0.050306</td>\n",
       "    </tr>\n",
       "    <tr>\n",
       "      <th>11</th>\n",
       "      <td>0</td>\n",
       "      <td>11</td>\n",
       "      <td>0.055336</td>\n",
       "    </tr>\n",
       "    <tr>\n",
       "      <th>12</th>\n",
       "      <td>-2</td>\n",
       "      <td>12</td>\n",
       "      <td>0.060367</td>\n",
       "    </tr>\n",
       "    <tr>\n",
       "      <th>13</th>\n",
       "      <td>0</td>\n",
       "      <td>13</td>\n",
       "      <td>0.065397</td>\n",
       "    </tr>\n",
       "    <tr>\n",
       "      <th>14</th>\n",
       "      <td>4</td>\n",
       "      <td>14</td>\n",
       "      <td>0.070428</td>\n",
       "    </tr>\n",
       "    <tr>\n",
       "      <th>15</th>\n",
       "      <td>3</td>\n",
       "      <td>15</td>\n",
       "      <td>0.075459</td>\n",
       "    </tr>\n",
       "    <tr>\n",
       "      <th>16</th>\n",
       "      <td>3</td>\n",
       "      <td>16</td>\n",
       "      <td>0.080489</td>\n",
       "    </tr>\n",
       "    <tr>\n",
       "      <th>17</th>\n",
       "      <td>10</td>\n",
       "      <td>17</td>\n",
       "      <td>0.085520</td>\n",
       "    </tr>\n",
       "    <tr>\n",
       "      <th>18</th>\n",
       "      <td>9</td>\n",
       "      <td>18</td>\n",
       "      <td>0.090550</td>\n",
       "    </tr>\n",
       "    <tr>\n",
       "      <th>19</th>\n",
       "      <td>2</td>\n",
       "      <td>19</td>\n",
       "      <td>0.095581</td>\n",
       "    </tr>\n",
       "    <tr>\n",
       "      <th>20</th>\n",
       "      <td>1</td>\n",
       "      <td>20</td>\n",
       "      <td>0.100611</td>\n",
       "    </tr>\n",
       "    <tr>\n",
       "      <th>21</th>\n",
       "      <td>10</td>\n",
       "      <td>21</td>\n",
       "      <td>0.105642</td>\n",
       "    </tr>\n",
       "    <tr>\n",
       "      <th>22</th>\n",
       "      <td>5</td>\n",
       "      <td>22</td>\n",
       "      <td>0.110673</td>\n",
       "    </tr>\n",
       "    <tr>\n",
       "      <th>23</th>\n",
       "      <td>3</td>\n",
       "      <td>23</td>\n",
       "      <td>0.115703</td>\n",
       "    </tr>\n",
       "    <tr>\n",
       "      <th>24</th>\n",
       "      <td>2</td>\n",
       "      <td>24</td>\n",
       "      <td>0.120734</td>\n",
       "    </tr>\n",
       "    <tr>\n",
       "      <th>25</th>\n",
       "      <td>2</td>\n",
       "      <td>25</td>\n",
       "      <td>0.125764</td>\n",
       "    </tr>\n",
       "    <tr>\n",
       "      <th>26</th>\n",
       "      <td>3</td>\n",
       "      <td>26</td>\n",
       "      <td>0.130795</td>\n",
       "    </tr>\n",
       "    <tr>\n",
       "      <th>27</th>\n",
       "      <td>5</td>\n",
       "      <td>27</td>\n",
       "      <td>0.135825</td>\n",
       "    </tr>\n",
       "    <tr>\n",
       "      <th>28</th>\n",
       "      <td>5</td>\n",
       "      <td>28</td>\n",
       "      <td>0.140856</td>\n",
       "    </tr>\n",
       "    <tr>\n",
       "      <th>29</th>\n",
       "      <td>9</td>\n",
       "      <td>29</td>\n",
       "      <td>0.145887</td>\n",
       "    </tr>\n",
       "    <tr>\n",
       "      <th>...</th>\n",
       "      <td>...</td>\n",
       "      <td>...</td>\n",
       "      <td>...</td>\n",
       "    </tr>\n",
       "    <tr>\n",
       "      <th>1220</th>\n",
       "      <td>2</td>\n",
       "      <td>1220</td>\n",
       "      <td>6.137299</td>\n",
       "    </tr>\n",
       "    <tr>\n",
       "      <th>1221</th>\n",
       "      <td>0</td>\n",
       "      <td>1221</td>\n",
       "      <td>6.142329</td>\n",
       "    </tr>\n",
       "    <tr>\n",
       "      <th>1222</th>\n",
       "      <td>8</td>\n",
       "      <td>1222</td>\n",
       "      <td>6.147360</td>\n",
       "    </tr>\n",
       "    <tr>\n",
       "      <th>1223</th>\n",
       "      <td>3</td>\n",
       "      <td>1223</td>\n",
       "      <td>6.152390</td>\n",
       "    </tr>\n",
       "    <tr>\n",
       "      <th>1224</th>\n",
       "      <td>9</td>\n",
       "      <td>1224</td>\n",
       "      <td>6.157421</td>\n",
       "    </tr>\n",
       "    <tr>\n",
       "      <th>1225</th>\n",
       "      <td>-2</td>\n",
       "      <td>1225</td>\n",
       "      <td>6.162452</td>\n",
       "    </tr>\n",
       "    <tr>\n",
       "      <th>1226</th>\n",
       "      <td>6</td>\n",
       "      <td>1226</td>\n",
       "      <td>6.167482</td>\n",
       "    </tr>\n",
       "    <tr>\n",
       "      <th>1227</th>\n",
       "      <td>8</td>\n",
       "      <td>1227</td>\n",
       "      <td>6.172513</td>\n",
       "    </tr>\n",
       "    <tr>\n",
       "      <th>1228</th>\n",
       "      <td>7</td>\n",
       "      <td>1228</td>\n",
       "      <td>6.177543</td>\n",
       "    </tr>\n",
       "    <tr>\n",
       "      <th>1229</th>\n",
       "      <td>4</td>\n",
       "      <td>1229</td>\n",
       "      <td>6.182574</td>\n",
       "    </tr>\n",
       "    <tr>\n",
       "      <th>1230</th>\n",
       "      <td>2</td>\n",
       "      <td>1230</td>\n",
       "      <td>6.187604</td>\n",
       "    </tr>\n",
       "    <tr>\n",
       "      <th>1231</th>\n",
       "      <td>4</td>\n",
       "      <td>1231</td>\n",
       "      <td>6.192635</td>\n",
       "    </tr>\n",
       "    <tr>\n",
       "      <th>1232</th>\n",
       "      <td>1</td>\n",
       "      <td>1232</td>\n",
       "      <td>6.197666</td>\n",
       "    </tr>\n",
       "    <tr>\n",
       "      <th>1233</th>\n",
       "      <td>5</td>\n",
       "      <td>1233</td>\n",
       "      <td>6.202696</td>\n",
       "    </tr>\n",
       "    <tr>\n",
       "      <th>1234</th>\n",
       "      <td>0</td>\n",
       "      <td>1234</td>\n",
       "      <td>6.207727</td>\n",
       "    </tr>\n",
       "    <tr>\n",
       "      <th>1235</th>\n",
       "      <td>5</td>\n",
       "      <td>1235</td>\n",
       "      <td>6.212757</td>\n",
       "    </tr>\n",
       "    <tr>\n",
       "      <th>1236</th>\n",
       "      <td>7</td>\n",
       "      <td>1236</td>\n",
       "      <td>6.217788</td>\n",
       "    </tr>\n",
       "    <tr>\n",
       "      <th>1237</th>\n",
       "      <td>2</td>\n",
       "      <td>1237</td>\n",
       "      <td>6.222818</td>\n",
       "    </tr>\n",
       "    <tr>\n",
       "      <th>1238</th>\n",
       "      <td>-1</td>\n",
       "      <td>1238</td>\n",
       "      <td>6.227849</td>\n",
       "    </tr>\n",
       "    <tr>\n",
       "      <th>1239</th>\n",
       "      <td>2</td>\n",
       "      <td>1239</td>\n",
       "      <td>6.232880</td>\n",
       "    </tr>\n",
       "    <tr>\n",
       "      <th>1240</th>\n",
       "      <td>0</td>\n",
       "      <td>1240</td>\n",
       "      <td>6.237910</td>\n",
       "    </tr>\n",
       "    <tr>\n",
       "      <th>1241</th>\n",
       "      <td>-1</td>\n",
       "      <td>1241</td>\n",
       "      <td>6.242941</td>\n",
       "    </tr>\n",
       "    <tr>\n",
       "      <th>1242</th>\n",
       "      <td>4</td>\n",
       "      <td>1242</td>\n",
       "      <td>6.247971</td>\n",
       "    </tr>\n",
       "    <tr>\n",
       "      <th>1243</th>\n",
       "      <td>6</td>\n",
       "      <td>1243</td>\n",
       "      <td>6.253002</td>\n",
       "    </tr>\n",
       "    <tr>\n",
       "      <th>1244</th>\n",
       "      <td>6</td>\n",
       "      <td>1244</td>\n",
       "      <td>6.258032</td>\n",
       "    </tr>\n",
       "    <tr>\n",
       "      <th>1245</th>\n",
       "      <td>9</td>\n",
       "      <td>1245</td>\n",
       "      <td>6.263063</td>\n",
       "    </tr>\n",
       "    <tr>\n",
       "      <th>1246</th>\n",
       "      <td>9</td>\n",
       "      <td>1246</td>\n",
       "      <td>6.268094</td>\n",
       "    </tr>\n",
       "    <tr>\n",
       "      <th>1247</th>\n",
       "      <td>14</td>\n",
       "      <td>1247</td>\n",
       "      <td>6.273124</td>\n",
       "    </tr>\n",
       "    <tr>\n",
       "      <th>1248</th>\n",
       "      <td>6</td>\n",
       "      <td>1248</td>\n",
       "      <td>6.278155</td>\n",
       "    </tr>\n",
       "    <tr>\n",
       "      <th>1249</th>\n",
       "      <td>9</td>\n",
       "      <td>1249</td>\n",
       "      <td>6.283185</td>\n",
       "    </tr>\n",
       "  </tbody>\n",
       "</table>\n",
       "<p>1250 rows × 3 columns</p>\n",
       "</div>"
      ],
      "text/plain": [
       "      f(t)     t         w\n",
       "0        5     0  0.000000\n",
       "1        3     1  0.005031\n",
       "2        2     2  0.010061\n",
       "3        4     3  0.015092\n",
       "4        6     4  0.020122\n",
       "5        4     5  0.025153\n",
       "6        4     6  0.030183\n",
       "7        5     7  0.035214\n",
       "8        5     8  0.040245\n",
       "9        0     9  0.045275\n",
       "10       1    10  0.050306\n",
       "11       0    11  0.055336\n",
       "12      -2    12  0.060367\n",
       "13       0    13  0.065397\n",
       "14       4    14  0.070428\n",
       "15       3    15  0.075459\n",
       "16       3    16  0.080489\n",
       "17      10    17  0.085520\n",
       "18       9    18  0.090550\n",
       "19       2    19  0.095581\n",
       "20       1    20  0.100611\n",
       "21      10    21  0.105642\n",
       "22       5    22  0.110673\n",
       "23       3    23  0.115703\n",
       "24       2    24  0.120734\n",
       "25       2    25  0.125764\n",
       "26       3    26  0.130795\n",
       "27       5    27  0.135825\n",
       "28       5    28  0.140856\n",
       "29       9    29  0.145887\n",
       "...    ...   ...       ...\n",
       "1220     2  1220  6.137299\n",
       "1221     0  1221  6.142329\n",
       "1222     8  1222  6.147360\n",
       "1223     3  1223  6.152390\n",
       "1224     9  1224  6.157421\n",
       "1225    -2  1225  6.162452\n",
       "1226     6  1226  6.167482\n",
       "1227     8  1227  6.172513\n",
       "1228     7  1228  6.177543\n",
       "1229     4  1229  6.182574\n",
       "1230     2  1230  6.187604\n",
       "1231     4  1231  6.192635\n",
       "1232     1  1232  6.197666\n",
       "1233     5  1233  6.202696\n",
       "1234     0  1234  6.207727\n",
       "1235     5  1235  6.212757\n",
       "1236     7  1236  6.217788\n",
       "1237     2  1237  6.222818\n",
       "1238    -1  1238  6.227849\n",
       "1239     2  1239  6.232880\n",
       "1240     0  1240  6.237910\n",
       "1241    -1  1241  6.242941\n",
       "1242     4  1242  6.247971\n",
       "1243     6  1243  6.253002\n",
       "1244     6  1244  6.258032\n",
       "1245     9  1245  6.263063\n",
       "1246     9  1246  6.268094\n",
       "1247    14  1247  6.273124\n",
       "1248     6  1248  6.278155\n",
       "1249     9  1249  6.283185\n",
       "\n",
       "[1250 rows x 3 columns]"
      ]
     },
     "execution_count": 24,
     "metadata": {},
     "output_type": "execute_result"
    }
   ],
   "source": [
    "df['w'] = 2.0 * np.pi * df.t / T\n",
    "df"
   ]
  }
 ],
 "metadata": {
  "anaconda-cloud": {},
  "kernelspec": {
   "display_name": "Python [conda root]",
   "language": "python",
   "name": "conda-root-py"
  },
  "language_info": {
   "codemirror_mode": {
    "name": "ipython",
    "version": 2
   },
   "file_extension": ".py",
   "mimetype": "text/x-python",
   "name": "python",
   "nbconvert_exporter": "python",
   "pygments_lexer": "ipython2",
   "version": "2.7.12"
  }
 },
 "nbformat": 4,
 "nbformat_minor": 1
}
