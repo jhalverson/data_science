{
 "cells": [
  {
   "cell_type": "markdown",
   "metadata": {},
   "source": [
    "# Jonathan Halverson\n",
    "# Thursday, May 18, 2017\n",
    "# Pride and Prejudice"
   ]
  },
  {
   "cell_type": "markdown",
   "metadata": {},
   "source": [
    "The text was taken from https://www.gutenberg.org/ebooks/1342"
   ]
  },
  {
   "cell_type": "code",
   "execution_count": null,
   "metadata": {
    "collapsed": false
   },
   "outputs": [],
   "source": [
    "with open('pride_and_prejudice_utf8_gutenberg.txt', 'r') as f:\n",
    "     lines = f.readlines()\n",
    "lines = lines[40:]"
   ]
  },
  {
   "cell_type": "code",
   "execution_count": null,
   "metadata": {
    "collapsed": false
   },
   "outputs": [],
   "source": [
    "lines = [line.decode('utf-8').replace('\\r\\n', '').encode('ascii', 'ignore') for line in lines]\n",
    "lines"
   ]
  },
  {
   "cell_type": "code",
   "execution_count": null,
   "metadata": {
    "collapsed": false
   },
   "outputs": [],
   "source": [
    "lines = [line.replace('_', '') for line in lines if line]\n",
    "lines"
   ]
  },
  {
   "cell_type": "code",
   "execution_count": null,
   "metadata": {
    "collapsed": false
   },
   "outputs": [],
   "source": [
    "lines = \n",
    "lines"
   ]
  },
  {
   "cell_type": "markdown",
   "metadata": {},
   "source": [
    "Use a regular expression to remove numbers and punctuation:"
   ]
  },
  {
   "cell_type": "code",
   "execution_count": null,
   "metadata": {
    "collapsed": true
   },
   "outputs": [],
   "source": [
    "import re\n",
    "\n",
    "lines = ' '.join(lines)\n",
    "letters_only = re.sub('[^a-zA-Z]', ' ', lines)\n",
    "words = letters_only.lower().split()"
   ]
  },
  {
   "cell_type": "code",
   "execution_count": null,
   "metadata": {
    "collapsed": false
   },
   "outputs": [],
   "source": [
    "len(words)"
   ]
  },
  {
   "cell_type": "markdown",
   "metadata": {
    "collapsed": true
   },
   "source": [
    "Need the NRC Word-Emotion Association Lexicon to continue following the ODSC post:\n",
    "https://opendatascience.com/blog/you-must-allow-me-to-tell-you-how-ardently-i-admire-and-love-natural-language-processing/"
   ]
  },
  {
   "cell_type": "markdown",
   "metadata": {},
   "source": [
    "The following link was used to obtain the lexicon:"
   ]
  },
  {
   "cell_type": "markdown",
   "metadata": {},
   "source": [
    "https://github.com/aneesha/cbd/blob/master/cronscripts/NRC-emotion-lexicon-wordlevel-alphabetized-v0.92.txt"
   ]
  },
  {
   "cell_type": "code",
   "execution_count": null,
   "metadata": {
    "collapsed": false
   },
   "outputs": [],
   "source": [
    "from collections import OrderedDict, defaultdict, Counter\n",
    "import csv\n",
    "\n",
    "wordList = defaultdict(list)\n",
    "emotionList = defaultdict(list)\n",
    "with open('NRC-emotion-lexicon-wordlevel-alphabetized-v0.92.txt', 'r') as f:\n",
    "     reader = csv.reader(f, delimiter='\\t')\n",
    "     headerRows = [i for i in range(0, 46)]\n",
    "     for row in headerRows:\n",
    "          next(reader)\n",
    "     for word, emotion, present in reader:\n",
    "          if int(present) == 1:\n",
    "               wordList[word].append(emotion)\n",
    "               emotionList[emotion].append(word)"
   ]
  },
  {
   "cell_type": "code",
   "execution_count": null,
   "metadata": {
    "collapsed": false
   },
   "outputs": [],
   "source": [
    "wordList"
   ]
  },
  {
   "cell_type": "code",
   "execution_count": null,
   "metadata": {
    "collapsed": false
   },
   "outputs": [],
   "source": [
    "emotionList"
   ]
  },
  {
   "cell_type": "code",
   "execution_count": null,
   "metadata": {
    "collapsed": true
   },
   "outputs": [],
   "source": [
    "import pandas as pd"
   ]
  },
  {
   "cell_type": "code",
   "execution_count": null,
   "metadata": {
    "collapsed": false
   },
   "outputs": [],
   "source": [
    "iofile = 'NRC-emotion-lexicon-wordlevel-alphabetized-v0.92.txt'\n",
    "df = pd.read_csv(iofile, sep='\\t', header=0, names=['word', 'emotion', 'value'])\n",
    "df"
   ]
  }
 ],
 "metadata": {
  "kernelspec": {
   "display_name": "Python [conda root]",
   "language": "python",
   "name": "conda-root-py"
  },
  "language_info": {
   "codemirror_mode": {
    "name": "ipython",
    "version": 2
   },
   "file_extension": ".py",
   "mimetype": "text/x-python",
   "name": "python",
   "nbconvert_exporter": "python",
   "pygments_lexer": "ipython2",
   "version": "2.7.12"
  }
 },
 "nbformat": 4,
 "nbformat_minor": 1
}
