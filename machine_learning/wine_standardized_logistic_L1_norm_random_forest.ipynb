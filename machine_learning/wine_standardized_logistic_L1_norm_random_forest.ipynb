{
 "cells": [
  {
   "cell_type": "markdown",
   "metadata": {},
   "source": [
    "# Jonathan Halverson\n",
    "# Saturday, April 9, 2016\n",
    "# Wine data with logistic regression (L1 norm) and random forest"
   ]
  },
  {
   "cell_type": "markdown",
   "metadata": {},
   "source": [
    "These data are the results of a chemical analysis of wines grown in the same region in Italy but derived from three different cultivars. The analysis determined the quantities of 13 constituents found in each of the three types of wines. "
   ]
  },
  {
   "cell_type": "code",
   "execution_count": 1,
   "metadata": {
    "collapsed": false
   },
   "outputs": [],
   "source": [
    "import numpy as np\n",
    "import pandas as pd\n",
    "import matplotlib.pyplot as plt\n",
    "%matplotlib inline\n",
    "plt.style.use('halverson')"
   ]
  },
  {
   "cell_type": "code",
   "execution_count": 2,
   "metadata": {
    "collapsed": false
   },
   "outputs": [
    {
     "data": {
      "text/html": [
       "<div>\n",
       "<table border=\"1\" class=\"dataframe\">\n",
       "  <thead>\n",
       "    <tr style=\"text-align: right;\">\n",
       "      <th></th>\n",
       "      <th>class</th>\n",
       "      <th>Hue</th>\n",
       "      <th>Alcohol</th>\n",
       "      <th>Alcalinity of ash</th>\n",
       "      <th>Color intensity</th>\n",
       "      <th>Malic acid</th>\n",
       "      <th>Ash</th>\n",
       "      <th>Total phenols</th>\n",
       "      <th>Flavanoids</th>\n",
       "      <th>Proline</th>\n",
       "      <th>OD280/OD315 of diluted wines</th>\n",
       "      <th>Magnesium</th>\n",
       "      <th>Nonflavanoid phenols</th>\n",
       "      <th>Proanthocyanins</th>\n",
       "    </tr>\n",
       "  </thead>\n",
       "  <tbody>\n",
       "    <tr>\n",
       "      <th>0</th>\n",
       "      <td>1</td>\n",
       "      <td>1.04</td>\n",
       "      <td>14.23</td>\n",
       "      <td>15.6</td>\n",
       "      <td>5.64</td>\n",
       "      <td>1.71</td>\n",
       "      <td>2.43</td>\n",
       "      <td>2.80</td>\n",
       "      <td>3.06</td>\n",
       "      <td>1065</td>\n",
       "      <td>3.92</td>\n",
       "      <td>127</td>\n",
       "      <td>0.28</td>\n",
       "      <td>2.29</td>\n",
       "    </tr>\n",
       "    <tr>\n",
       "      <th>1</th>\n",
       "      <td>1</td>\n",
       "      <td>1.05</td>\n",
       "      <td>13.20</td>\n",
       "      <td>11.2</td>\n",
       "      <td>4.38</td>\n",
       "      <td>1.78</td>\n",
       "      <td>2.14</td>\n",
       "      <td>2.65</td>\n",
       "      <td>2.76</td>\n",
       "      <td>1050</td>\n",
       "      <td>3.40</td>\n",
       "      <td>100</td>\n",
       "      <td>0.26</td>\n",
       "      <td>1.28</td>\n",
       "    </tr>\n",
       "    <tr>\n",
       "      <th>2</th>\n",
       "      <td>1</td>\n",
       "      <td>1.03</td>\n",
       "      <td>13.16</td>\n",
       "      <td>18.6</td>\n",
       "      <td>5.68</td>\n",
       "      <td>2.36</td>\n",
       "      <td>2.67</td>\n",
       "      <td>2.80</td>\n",
       "      <td>3.24</td>\n",
       "      <td>1185</td>\n",
       "      <td>3.17</td>\n",
       "      <td>101</td>\n",
       "      <td>0.30</td>\n",
       "      <td>2.81</td>\n",
       "    </tr>\n",
       "    <tr>\n",
       "      <th>3</th>\n",
       "      <td>1</td>\n",
       "      <td>0.86</td>\n",
       "      <td>14.37</td>\n",
       "      <td>16.8</td>\n",
       "      <td>7.80</td>\n",
       "      <td>1.95</td>\n",
       "      <td>2.50</td>\n",
       "      <td>3.85</td>\n",
       "      <td>3.49</td>\n",
       "      <td>1480</td>\n",
       "      <td>3.45</td>\n",
       "      <td>113</td>\n",
       "      <td>0.24</td>\n",
       "      <td>2.18</td>\n",
       "    </tr>\n",
       "    <tr>\n",
       "      <th>4</th>\n",
       "      <td>1</td>\n",
       "      <td>1.04</td>\n",
       "      <td>13.24</td>\n",
       "      <td>21.0</td>\n",
       "      <td>4.32</td>\n",
       "      <td>2.59</td>\n",
       "      <td>2.87</td>\n",
       "      <td>2.80</td>\n",
       "      <td>2.69</td>\n",
       "      <td>735</td>\n",
       "      <td>2.93</td>\n",
       "      <td>118</td>\n",
       "      <td>0.39</td>\n",
       "      <td>1.82</td>\n",
       "    </tr>\n",
       "  </tbody>\n",
       "</table>\n",
       "</div>"
      ],
      "text/plain": [
       "   class   Hue  Alcohol  Alcalinity of ash  Color intensity  Malic acid   Ash  \\\n",
       "0      1  1.04    14.23               15.6             5.64        1.71  2.43   \n",
       "1      1  1.05    13.20               11.2             4.38        1.78  2.14   \n",
       "2      1  1.03    13.16               18.6             5.68        2.36  2.67   \n",
       "3      1  0.86    14.37               16.8             7.80        1.95  2.50   \n",
       "4      1  1.04    13.24               21.0             4.32        2.59  2.87   \n",
       "\n",
       "   Total phenols  Flavanoids  Proline  OD280/OD315 of diluted wines  \\\n",
       "0           2.80        3.06     1065                          3.92   \n",
       "1           2.65        2.76     1050                          3.40   \n",
       "2           2.80        3.24     1185                          3.17   \n",
       "3           3.85        3.49     1480                          3.45   \n",
       "4           2.80        2.69      735                          2.93   \n",
       "\n",
       "   Magnesium  Nonflavanoid phenols  Proanthocyanins  \n",
       "0        127                  0.28             2.29  \n",
       "1        100                  0.26             1.28  \n",
       "2        101                  0.30             2.81  \n",
       "3        113                  0.24             2.18  \n",
       "4        118                  0.39             1.82  "
      ]
     },
     "execution_count": 2,
     "metadata": {},
     "output_type": "execute_result"
    }
   ],
   "source": [
    "columns = ['class', 'Alcohol', 'Malic acid', 'Ash', 'Alcalinity of ash', 'Magnesium', 'Total phenols', \\\n",
    "           'Flavanoids', 'Nonflavanoid phenols', 'Proanthocyanins', 'Color intensity', 'Hue', \\\n",
    "           'OD280/OD315 of diluted wines', 'Proline']\n",
    "df = pd.read_csv('wine.csv', names=columns)\n",
    "\n",
    "# shuffle the columns to test feature_importances_ below\n",
    "from random import shuffle\n",
    "cols = columns[1:]\n",
    "shuffle(cols)\n",
    "df = df[['class'] + cols]\n",
    "df.head()"
   ]
  },
  {
   "cell_type": "code",
   "execution_count": 3,
   "metadata": {
    "collapsed": false
   },
   "outputs": [
    {
     "name": "stdout",
     "output_type": "stream",
     "text": [
      "<class 'pandas.core.frame.DataFrame'>\n",
      "RangeIndex: 178 entries, 0 to 177\n",
      "Data columns (total 14 columns):\n",
      "class                           178 non-null int64\n",
      "Hue                             178 non-null float64\n",
      "Alcohol                         178 non-null float64\n",
      "Alcalinity of ash               178 non-null float64\n",
      "Color intensity                 178 non-null float64\n",
      "Malic acid                      178 non-null float64\n",
      "Ash                             178 non-null float64\n",
      "Total phenols                   178 non-null float64\n",
      "Flavanoids                      178 non-null float64\n",
      "Proline                         178 non-null int64\n",
      "OD280/OD315 of diluted wines    178 non-null float64\n",
      "Magnesium                       178 non-null int64\n",
      "Nonflavanoid phenols            178 non-null float64\n",
      "Proanthocyanins                 178 non-null float64\n",
      "dtypes: float64(11), int64(3)\n",
      "memory usage: 19.5 KB\n"
     ]
    }
   ],
   "source": [
    "df.info()"
   ]
  },
  {
   "cell_type": "markdown",
   "metadata": {},
   "source": [
    "The description of the data says that there are no null values. This is found to be true."
   ]
  },
  {
   "cell_type": "code",
   "execution_count": 4,
   "metadata": {
    "collapsed": false,
    "scrolled": true
   },
   "outputs": [
    {
     "data": {
      "text/html": [
       "<div>\n",
       "<table border=\"1\" class=\"dataframe\">\n",
       "  <thead>\n",
       "    <tr style=\"text-align: right;\">\n",
       "      <th></th>\n",
       "      <th>class</th>\n",
       "      <th>Hue</th>\n",
       "      <th>Alcohol</th>\n",
       "      <th>Alcalinity of ash</th>\n",
       "      <th>Color intensity</th>\n",
       "      <th>Malic acid</th>\n",
       "      <th>Ash</th>\n",
       "      <th>Total phenols</th>\n",
       "      <th>Flavanoids</th>\n",
       "      <th>Proline</th>\n",
       "      <th>OD280/OD315 of diluted wines</th>\n",
       "      <th>Magnesium</th>\n",
       "      <th>Nonflavanoid phenols</th>\n",
       "      <th>Proanthocyanins</th>\n",
       "    </tr>\n",
       "  </thead>\n",
       "  <tbody>\n",
       "    <tr>\n",
       "      <th>count</th>\n",
       "      <td>178.0</td>\n",
       "      <td>178.0</td>\n",
       "      <td>178.0</td>\n",
       "      <td>178.0</td>\n",
       "      <td>178.0</td>\n",
       "      <td>178.0</td>\n",
       "      <td>178.0</td>\n",
       "      <td>178.0</td>\n",
       "      <td>178.0</td>\n",
       "      <td>178.0</td>\n",
       "      <td>178.0</td>\n",
       "      <td>178.0</td>\n",
       "      <td>178.0</td>\n",
       "      <td>178.0</td>\n",
       "    </tr>\n",
       "    <tr>\n",
       "      <th>mean</th>\n",
       "      <td>1.9</td>\n",
       "      <td>1.0</td>\n",
       "      <td>13.0</td>\n",
       "      <td>19.5</td>\n",
       "      <td>5.1</td>\n",
       "      <td>2.3</td>\n",
       "      <td>2.4</td>\n",
       "      <td>2.3</td>\n",
       "      <td>2.0</td>\n",
       "      <td>746.9</td>\n",
       "      <td>2.6</td>\n",
       "      <td>99.7</td>\n",
       "      <td>0.4</td>\n",
       "      <td>1.6</td>\n",
       "    </tr>\n",
       "    <tr>\n",
       "      <th>std</th>\n",
       "      <td>0.8</td>\n",
       "      <td>0.2</td>\n",
       "      <td>0.8</td>\n",
       "      <td>3.3</td>\n",
       "      <td>2.3</td>\n",
       "      <td>1.1</td>\n",
       "      <td>0.3</td>\n",
       "      <td>0.6</td>\n",
       "      <td>1.0</td>\n",
       "      <td>314.9</td>\n",
       "      <td>0.7</td>\n",
       "      <td>14.3</td>\n",
       "      <td>0.1</td>\n",
       "      <td>0.6</td>\n",
       "    </tr>\n",
       "    <tr>\n",
       "      <th>min</th>\n",
       "      <td>1.0</td>\n",
       "      <td>0.5</td>\n",
       "      <td>11.0</td>\n",
       "      <td>10.6</td>\n",
       "      <td>1.3</td>\n",
       "      <td>0.7</td>\n",
       "      <td>1.4</td>\n",
       "      <td>1.0</td>\n",
       "      <td>0.3</td>\n",
       "      <td>278.0</td>\n",
       "      <td>1.3</td>\n",
       "      <td>70.0</td>\n",
       "      <td>0.1</td>\n",
       "      <td>0.4</td>\n",
       "    </tr>\n",
       "    <tr>\n",
       "      <th>25%</th>\n",
       "      <td>1.0</td>\n",
       "      <td>0.8</td>\n",
       "      <td>12.4</td>\n",
       "      <td>17.2</td>\n",
       "      <td>3.2</td>\n",
       "      <td>1.6</td>\n",
       "      <td>2.2</td>\n",
       "      <td>1.7</td>\n",
       "      <td>1.2</td>\n",
       "      <td>500.5</td>\n",
       "      <td>1.9</td>\n",
       "      <td>88.0</td>\n",
       "      <td>0.3</td>\n",
       "      <td>1.3</td>\n",
       "    </tr>\n",
       "    <tr>\n",
       "      <th>50%</th>\n",
       "      <td>2.0</td>\n",
       "      <td>1.0</td>\n",
       "      <td>13.1</td>\n",
       "      <td>19.5</td>\n",
       "      <td>4.7</td>\n",
       "      <td>1.9</td>\n",
       "      <td>2.4</td>\n",
       "      <td>2.4</td>\n",
       "      <td>2.1</td>\n",
       "      <td>673.5</td>\n",
       "      <td>2.8</td>\n",
       "      <td>98.0</td>\n",
       "      <td>0.3</td>\n",
       "      <td>1.6</td>\n",
       "    </tr>\n",
       "    <tr>\n",
       "      <th>75%</th>\n",
       "      <td>3.0</td>\n",
       "      <td>1.1</td>\n",
       "      <td>13.7</td>\n",
       "      <td>21.5</td>\n",
       "      <td>6.2</td>\n",
       "      <td>3.1</td>\n",
       "      <td>2.6</td>\n",
       "      <td>2.8</td>\n",
       "      <td>2.9</td>\n",
       "      <td>985.0</td>\n",
       "      <td>3.2</td>\n",
       "      <td>107.0</td>\n",
       "      <td>0.4</td>\n",
       "      <td>1.9</td>\n",
       "    </tr>\n",
       "    <tr>\n",
       "      <th>max</th>\n",
       "      <td>3.0</td>\n",
       "      <td>1.7</td>\n",
       "      <td>14.8</td>\n",
       "      <td>30.0</td>\n",
       "      <td>13.0</td>\n",
       "      <td>5.8</td>\n",
       "      <td>3.2</td>\n",
       "      <td>3.9</td>\n",
       "      <td>5.1</td>\n",
       "      <td>1680.0</td>\n",
       "      <td>4.0</td>\n",
       "      <td>162.0</td>\n",
       "      <td>0.7</td>\n",
       "      <td>3.6</td>\n",
       "    </tr>\n",
       "  </tbody>\n",
       "</table>\n",
       "</div>"
      ],
      "text/plain": [
       "       class    Hue  Alcohol  Alcalinity of ash  Color intensity  Malic acid  \\\n",
       "count  178.0  178.0    178.0              178.0            178.0       178.0   \n",
       "mean     1.9    1.0     13.0               19.5              5.1         2.3   \n",
       "std      0.8    0.2      0.8                3.3              2.3         1.1   \n",
       "min      1.0    0.5     11.0               10.6              1.3         0.7   \n",
       "25%      1.0    0.8     12.4               17.2              3.2         1.6   \n",
       "50%      2.0    1.0     13.1               19.5              4.7         1.9   \n",
       "75%      3.0    1.1     13.7               21.5              6.2         3.1   \n",
       "max      3.0    1.7     14.8               30.0             13.0         5.8   \n",
       "\n",
       "         Ash  Total phenols  Flavanoids  Proline  \\\n",
       "count  178.0          178.0       178.0    178.0   \n",
       "mean     2.4            2.3         2.0    746.9   \n",
       "std      0.3            0.6         1.0    314.9   \n",
       "min      1.4            1.0         0.3    278.0   \n",
       "25%      2.2            1.7         1.2    500.5   \n",
       "50%      2.4            2.4         2.1    673.5   \n",
       "75%      2.6            2.8         2.9    985.0   \n",
       "max      3.2            3.9         5.1   1680.0   \n",
       "\n",
       "       OD280/OD315 of diluted wines  Magnesium  Nonflavanoid phenols  \\\n",
       "count                         178.0      178.0                 178.0   \n",
       "mean                            2.6       99.7                   0.4   \n",
       "std                             0.7       14.3                   0.1   \n",
       "min                             1.3       70.0                   0.1   \n",
       "25%                             1.9       88.0                   0.3   \n",
       "50%                             2.8       98.0                   0.3   \n",
       "75%                             3.2      107.0                   0.4   \n",
       "max                             4.0      162.0                   0.7   \n",
       "\n",
       "       Proanthocyanins  \n",
       "count            178.0  \n",
       "mean               1.6  \n",
       "std                0.6  \n",
       "min                0.4  \n",
       "25%                1.3  \n",
       "50%                1.6  \n",
       "75%                1.9  \n",
       "max                3.6  "
      ]
     },
     "execution_count": 4,
     "metadata": {},
     "output_type": "execute_result"
    }
   ],
   "source": [
    "df.describe().applymap(lambda x: round(x, 1))"
   ]
  },
  {
   "cell_type": "markdown",
   "metadata": {},
   "source": [
    "### Correlation"
   ]
  },
  {
   "cell_type": "code",
   "execution_count": 5,
   "metadata": {
    "collapsed": false
   },
   "outputs": [
    {
     "data": {
      "text/html": [
       "<div>\n",
       "<table border=\"1\" class=\"dataframe\">\n",
       "  <thead>\n",
       "    <tr style=\"text-align: right;\">\n",
       "      <th></th>\n",
       "      <th>class</th>\n",
       "      <th>Hue</th>\n",
       "      <th>Alcohol</th>\n",
       "      <th>Alcalinity of ash</th>\n",
       "      <th>Color intensity</th>\n",
       "      <th>Malic acid</th>\n",
       "      <th>Ash</th>\n",
       "      <th>Total phenols</th>\n",
       "      <th>Flavanoids</th>\n",
       "      <th>Proline</th>\n",
       "      <th>OD280/OD315 of diluted wines</th>\n",
       "      <th>Magnesium</th>\n",
       "      <th>Nonflavanoid phenols</th>\n",
       "      <th>Proanthocyanins</th>\n",
       "    </tr>\n",
       "  </thead>\n",
       "  <tbody>\n",
       "    <tr>\n",
       "      <th>class</th>\n",
       "      <td>1.00</td>\n",
       "      <td>-0.62</td>\n",
       "      <td>-0.33</td>\n",
       "      <td>0.52</td>\n",
       "      <td>0.27</td>\n",
       "      <td>0.44</td>\n",
       "      <td>-0.05</td>\n",
       "      <td>-0.72</td>\n",
       "      <td>-0.85</td>\n",
       "      <td>-0.63</td>\n",
       "      <td>-0.79</td>\n",
       "      <td>-0.21</td>\n",
       "      <td>0.49</td>\n",
       "      <td>-0.50</td>\n",
       "    </tr>\n",
       "    <tr>\n",
       "      <th>Hue</th>\n",
       "      <td>-0.62</td>\n",
       "      <td>1.00</td>\n",
       "      <td>-0.07</td>\n",
       "      <td>-0.27</td>\n",
       "      <td>-0.52</td>\n",
       "      <td>-0.56</td>\n",
       "      <td>-0.07</td>\n",
       "      <td>0.43</td>\n",
       "      <td>0.54</td>\n",
       "      <td>0.24</td>\n",
       "      <td>0.57</td>\n",
       "      <td>0.06</td>\n",
       "      <td>-0.26</td>\n",
       "      <td>0.30</td>\n",
       "    </tr>\n",
       "    <tr>\n",
       "      <th>Alcohol</th>\n",
       "      <td>-0.33</td>\n",
       "      <td>-0.07</td>\n",
       "      <td>1.00</td>\n",
       "      <td>-0.31</td>\n",
       "      <td>0.55</td>\n",
       "      <td>0.09</td>\n",
       "      <td>0.21</td>\n",
       "      <td>0.29</td>\n",
       "      <td>0.24</td>\n",
       "      <td>0.64</td>\n",
       "      <td>0.07</td>\n",
       "      <td>0.27</td>\n",
       "      <td>-0.16</td>\n",
       "      <td>0.14</td>\n",
       "    </tr>\n",
       "    <tr>\n",
       "      <th>Alcalinity of ash</th>\n",
       "      <td>0.52</td>\n",
       "      <td>-0.27</td>\n",
       "      <td>-0.31</td>\n",
       "      <td>1.00</td>\n",
       "      <td>0.02</td>\n",
       "      <td>0.29</td>\n",
       "      <td>0.44</td>\n",
       "      <td>-0.32</td>\n",
       "      <td>-0.35</td>\n",
       "      <td>-0.44</td>\n",
       "      <td>-0.28</td>\n",
       "      <td>-0.08</td>\n",
       "      <td>0.36</td>\n",
       "      <td>-0.20</td>\n",
       "    </tr>\n",
       "    <tr>\n",
       "      <th>Color intensity</th>\n",
       "      <td>0.27</td>\n",
       "      <td>-0.52</td>\n",
       "      <td>0.55</td>\n",
       "      <td>0.02</td>\n",
       "      <td>1.00</td>\n",
       "      <td>0.25</td>\n",
       "      <td>0.26</td>\n",
       "      <td>-0.06</td>\n",
       "      <td>-0.17</td>\n",
       "      <td>0.32</td>\n",
       "      <td>-0.43</td>\n",
       "      <td>0.20</td>\n",
       "      <td>0.14</td>\n",
       "      <td>-0.03</td>\n",
       "    </tr>\n",
       "    <tr>\n",
       "      <th>Malic acid</th>\n",
       "      <td>0.44</td>\n",
       "      <td>-0.56</td>\n",
       "      <td>0.09</td>\n",
       "      <td>0.29</td>\n",
       "      <td>0.25</td>\n",
       "      <td>1.00</td>\n",
       "      <td>0.16</td>\n",
       "      <td>-0.34</td>\n",
       "      <td>-0.41</td>\n",
       "      <td>-0.19</td>\n",
       "      <td>-0.37</td>\n",
       "      <td>-0.05</td>\n",
       "      <td>0.29</td>\n",
       "      <td>-0.22</td>\n",
       "    </tr>\n",
       "    <tr>\n",
       "      <th>Ash</th>\n",
       "      <td>-0.05</td>\n",
       "      <td>-0.07</td>\n",
       "      <td>0.21</td>\n",
       "      <td>0.44</td>\n",
       "      <td>0.26</td>\n",
       "      <td>0.16</td>\n",
       "      <td>1.00</td>\n",
       "      <td>0.13</td>\n",
       "      <td>0.12</td>\n",
       "      <td>0.22</td>\n",
       "      <td>0.00</td>\n",
       "      <td>0.29</td>\n",
       "      <td>0.19</td>\n",
       "      <td>0.01</td>\n",
       "    </tr>\n",
       "    <tr>\n",
       "      <th>Total phenols</th>\n",
       "      <td>-0.72</td>\n",
       "      <td>0.43</td>\n",
       "      <td>0.29</td>\n",
       "      <td>-0.32</td>\n",
       "      <td>-0.06</td>\n",
       "      <td>-0.34</td>\n",
       "      <td>0.13</td>\n",
       "      <td>1.00</td>\n",
       "      <td>0.86</td>\n",
       "      <td>0.50</td>\n",
       "      <td>0.70</td>\n",
       "      <td>0.21</td>\n",
       "      <td>-0.45</td>\n",
       "      <td>0.61</td>\n",
       "    </tr>\n",
       "    <tr>\n",
       "      <th>Flavanoids</th>\n",
       "      <td>-0.85</td>\n",
       "      <td>0.54</td>\n",
       "      <td>0.24</td>\n",
       "      <td>-0.35</td>\n",
       "      <td>-0.17</td>\n",
       "      <td>-0.41</td>\n",
       "      <td>0.12</td>\n",
       "      <td>0.86</td>\n",
       "      <td>1.00</td>\n",
       "      <td>0.49</td>\n",
       "      <td>0.79</td>\n",
       "      <td>0.20</td>\n",
       "      <td>-0.54</td>\n",
       "      <td>0.65</td>\n",
       "    </tr>\n",
       "    <tr>\n",
       "      <th>Proline</th>\n",
       "      <td>-0.63</td>\n",
       "      <td>0.24</td>\n",
       "      <td>0.64</td>\n",
       "      <td>-0.44</td>\n",
       "      <td>0.32</td>\n",
       "      <td>-0.19</td>\n",
       "      <td>0.22</td>\n",
       "      <td>0.50</td>\n",
       "      <td>0.49</td>\n",
       "      <td>1.00</td>\n",
       "      <td>0.31</td>\n",
       "      <td>0.39</td>\n",
       "      <td>-0.31</td>\n",
       "      <td>0.33</td>\n",
       "    </tr>\n",
       "    <tr>\n",
       "      <th>OD280/OD315 of diluted wines</th>\n",
       "      <td>-0.79</td>\n",
       "      <td>0.57</td>\n",
       "      <td>0.07</td>\n",
       "      <td>-0.28</td>\n",
       "      <td>-0.43</td>\n",
       "      <td>-0.37</td>\n",
       "      <td>0.00</td>\n",
       "      <td>0.70</td>\n",
       "      <td>0.79</td>\n",
       "      <td>0.31</td>\n",
       "      <td>1.00</td>\n",
       "      <td>0.07</td>\n",
       "      <td>-0.50</td>\n",
       "      <td>0.52</td>\n",
       "    </tr>\n",
       "    <tr>\n",
       "      <th>Magnesium</th>\n",
       "      <td>-0.21</td>\n",
       "      <td>0.06</td>\n",
       "      <td>0.27</td>\n",
       "      <td>-0.08</td>\n",
       "      <td>0.20</td>\n",
       "      <td>-0.05</td>\n",
       "      <td>0.29</td>\n",
       "      <td>0.21</td>\n",
       "      <td>0.20</td>\n",
       "      <td>0.39</td>\n",
       "      <td>0.07</td>\n",
       "      <td>1.00</td>\n",
       "      <td>-0.26</td>\n",
       "      <td>0.24</td>\n",
       "    </tr>\n",
       "    <tr>\n",
       "      <th>Nonflavanoid phenols</th>\n",
       "      <td>0.49</td>\n",
       "      <td>-0.26</td>\n",
       "      <td>-0.16</td>\n",
       "      <td>0.36</td>\n",
       "      <td>0.14</td>\n",
       "      <td>0.29</td>\n",
       "      <td>0.19</td>\n",
       "      <td>-0.45</td>\n",
       "      <td>-0.54</td>\n",
       "      <td>-0.31</td>\n",
       "      <td>-0.50</td>\n",
       "      <td>-0.26</td>\n",
       "      <td>1.00</td>\n",
       "      <td>-0.37</td>\n",
       "    </tr>\n",
       "    <tr>\n",
       "      <th>Proanthocyanins</th>\n",
       "      <td>-0.50</td>\n",
       "      <td>0.30</td>\n",
       "      <td>0.14</td>\n",
       "      <td>-0.20</td>\n",
       "      <td>-0.03</td>\n",
       "      <td>-0.22</td>\n",
       "      <td>0.01</td>\n",
       "      <td>0.61</td>\n",
       "      <td>0.65</td>\n",
       "      <td>0.33</td>\n",
       "      <td>0.52</td>\n",
       "      <td>0.24</td>\n",
       "      <td>-0.37</td>\n",
       "      <td>1.00</td>\n",
       "    </tr>\n",
       "  </tbody>\n",
       "</table>\n",
       "</div>"
      ],
      "text/plain": [
       "                              class   Hue  Alcohol  Alcalinity of ash  \\\n",
       "class                          1.00 -0.62    -0.33               0.52   \n",
       "Hue                           -0.62  1.00    -0.07              -0.27   \n",
       "Alcohol                       -0.33 -0.07     1.00              -0.31   \n",
       "Alcalinity of ash              0.52 -0.27    -0.31               1.00   \n",
       "Color intensity                0.27 -0.52     0.55               0.02   \n",
       "Malic acid                     0.44 -0.56     0.09               0.29   \n",
       "Ash                           -0.05 -0.07     0.21               0.44   \n",
       "Total phenols                 -0.72  0.43     0.29              -0.32   \n",
       "Flavanoids                    -0.85  0.54     0.24              -0.35   \n",
       "Proline                       -0.63  0.24     0.64              -0.44   \n",
       "OD280/OD315 of diluted wines  -0.79  0.57     0.07              -0.28   \n",
       "Magnesium                     -0.21  0.06     0.27              -0.08   \n",
       "Nonflavanoid phenols           0.49 -0.26    -0.16               0.36   \n",
       "Proanthocyanins               -0.50  0.30     0.14              -0.20   \n",
       "\n",
       "                              Color intensity  Malic acid   Ash  \\\n",
       "class                                    0.27        0.44 -0.05   \n",
       "Hue                                     -0.52       -0.56 -0.07   \n",
       "Alcohol                                  0.55        0.09  0.21   \n",
       "Alcalinity of ash                        0.02        0.29  0.44   \n",
       "Color intensity                          1.00        0.25  0.26   \n",
       "Malic acid                               0.25        1.00  0.16   \n",
       "Ash                                      0.26        0.16  1.00   \n",
       "Total phenols                           -0.06       -0.34  0.13   \n",
       "Flavanoids                              -0.17       -0.41  0.12   \n",
       "Proline                                  0.32       -0.19  0.22   \n",
       "OD280/OD315 of diluted wines            -0.43       -0.37  0.00   \n",
       "Magnesium                                0.20       -0.05  0.29   \n",
       "Nonflavanoid phenols                     0.14        0.29  0.19   \n",
       "Proanthocyanins                         -0.03       -0.22  0.01   \n",
       "\n",
       "                              Total phenols  Flavanoids  Proline  \\\n",
       "class                                 -0.72       -0.85    -0.63   \n",
       "Hue                                    0.43        0.54     0.24   \n",
       "Alcohol                                0.29        0.24     0.64   \n",
       "Alcalinity of ash                     -0.32       -0.35    -0.44   \n",
       "Color intensity                       -0.06       -0.17     0.32   \n",
       "Malic acid                            -0.34       -0.41    -0.19   \n",
       "Ash                                    0.13        0.12     0.22   \n",
       "Total phenols                          1.00        0.86     0.50   \n",
       "Flavanoids                             0.86        1.00     0.49   \n",
       "Proline                                0.50        0.49     1.00   \n",
       "OD280/OD315 of diluted wines           0.70        0.79     0.31   \n",
       "Magnesium                              0.21        0.20     0.39   \n",
       "Nonflavanoid phenols                  -0.45       -0.54    -0.31   \n",
       "Proanthocyanins                        0.61        0.65     0.33   \n",
       "\n",
       "                              OD280/OD315 of diluted wines  Magnesium  \\\n",
       "class                                                -0.79      -0.21   \n",
       "Hue                                                   0.57       0.06   \n",
       "Alcohol                                               0.07       0.27   \n",
       "Alcalinity of ash                                    -0.28      -0.08   \n",
       "Color intensity                                      -0.43       0.20   \n",
       "Malic acid                                           -0.37      -0.05   \n",
       "Ash                                                   0.00       0.29   \n",
       "Total phenols                                         0.70       0.21   \n",
       "Flavanoids                                            0.79       0.20   \n",
       "Proline                                               0.31       0.39   \n",
       "OD280/OD315 of diluted wines                          1.00       0.07   \n",
       "Magnesium                                             0.07       1.00   \n",
       "Nonflavanoid phenols                                 -0.50      -0.26   \n",
       "Proanthocyanins                                       0.52       0.24   \n",
       "\n",
       "                              Nonflavanoid phenols  Proanthocyanins  \n",
       "class                                         0.49            -0.50  \n",
       "Hue                                          -0.26             0.30  \n",
       "Alcohol                                      -0.16             0.14  \n",
       "Alcalinity of ash                             0.36            -0.20  \n",
       "Color intensity                               0.14            -0.03  \n",
       "Malic acid                                    0.29            -0.22  \n",
       "Ash                                           0.19             0.01  \n",
       "Total phenols                                -0.45             0.61  \n",
       "Flavanoids                                   -0.54             0.65  \n",
       "Proline                                      -0.31             0.33  \n",
       "OD280/OD315 of diluted wines                 -0.50             0.52  \n",
       "Magnesium                                    -0.26             0.24  \n",
       "Nonflavanoid phenols                          1.00            -0.37  \n",
       "Proanthocyanins                              -0.37             1.00  "
      ]
     },
     "execution_count": 5,
     "metadata": {},
     "output_type": "execute_result"
    }
   ],
   "source": [
    "df.corr().applymap(lambda x: round(x, 2))"
   ]
  },
  {
   "cell_type": "code",
   "execution_count": 6,
   "metadata": {
    "collapsed": false
   },
   "outputs": [
    {
     "data": {
      "text/plain": [
       "array([ 0.65269177,  0.69994936,  0.7871939 ,  0.8645635 ,  1.        ])"
      ]
     },
     "execution_count": 6,
     "metadata": {},
     "output_type": "execute_result"
    }
   ],
   "source": [
    "np.sort(np.unique(np.abs(df.iloc[:,1:].corr().values.ravel())))[-5:]"
   ]
  },
  {
   "cell_type": "markdown",
   "metadata": {},
   "source": [
    "The data set is clean. We note that the largest value of the correlation is 0.86. Below we plot the features that are highly correlated. Using dimensionality reductions techniques it is often possible to ignore one of two correlated features."
   ]
  },
  {
   "cell_type": "code",
   "execution_count": 22,
   "metadata": {
    "collapsed": false
   },
   "outputs": [
    {
     "data": {
      "image/png": "[encoded data removed]",
      "text/plain": [
       "<matplotlib.figure.Figure at 0x1156b8690>"
      ]
     },
     "metadata": {},
     "output_type": "display_data"
    }
   ],
   "source": [
    "fig, (ax0, ax1) = plt.subplots(nrows=1, ncols=2, figsize=(12, 5))\n",
    "ax0.scatter(df['Total phenols'], df['Flavanoids'])\n",
    "ax0.set_xlabel('Total phenols')\n",
    "ax0.set_ylabel('Flavanoids')\n",
    "ax1.scatter(df['OD280/OD315 of diluted wines'], df['Flavanoids'])\n",
    "ax1.set_xlabel('OD280/OD315 of diluted wines')\n",
    "ax1.set_ylabel('Flavanoids')\n",
    "plt.tight_layout()"
   ]
  },
  {
   "cell_type": "markdown",
   "metadata": {},
   "source": [
    "### Data preparation"
   ]
  },
  {
   "cell_type": "code",
   "execution_count": 8,
   "metadata": {
    "collapsed": false
   },
   "outputs": [],
   "source": [
    "from sklearn.model_selection import train_test_split\n",
    "X = df.iloc[:,1:].values\n",
    "y = df['class'].values\n",
    "X_train, X_test, y_train, y_test = train_test_split(X, y)"
   ]
  },
  {
   "cell_type": "markdown",
   "metadata": {},
   "source": [
    "We see that the values vary substantially so we will standardize all columns:"
   ]
  },
  {
   "cell_type": "code",
   "execution_count": 9,
   "metadata": {
    "collapsed": false
   },
   "outputs": [],
   "source": [
    "from sklearn.preprocessing import StandardScaler\n",
    "stdsc = StandardScaler()\n",
    "X_train_std = stdsc.fit_transform(X_train)\n",
    "X_test_std = stdsc.transform(X_test)"
   ]
  },
  {
   "cell_type": "markdown",
   "metadata": {},
   "source": [
    "Let's examine the standardized train and test data:"
   ]
  },
  {
   "cell_type": "code",
   "execution_count": 10,
   "metadata": {
    "collapsed": false
   },
   "outputs": [
    {
     "data": {
      "text/html": [
       "<div>\n",
       "<table border=\"1\" class=\"dataframe\">\n",
       "  <thead>\n",
       "    <tr style=\"text-align: right;\">\n",
       "      <th></th>\n",
       "      <th>0</th>\n",
       "      <th>1</th>\n",
       "      <th>2</th>\n",
       "      <th>3</th>\n",
       "      <th>4</th>\n",
       "      <th>5</th>\n",
       "      <th>6</th>\n",
       "      <th>7</th>\n",
       "      <th>8</th>\n",
       "      <th>9</th>\n",
       "      <th>10</th>\n",
       "      <th>11</th>\n",
       "      <th>12</th>\n",
       "    </tr>\n",
       "  </thead>\n",
       "  <tbody>\n",
       "    <tr>\n",
       "      <th>count</th>\n",
       "      <td>133.0</td>\n",
       "      <td>133.0</td>\n",
       "      <td>133.0</td>\n",
       "      <td>133.0</td>\n",
       "      <td>133.0</td>\n",
       "      <td>133.0</td>\n",
       "      <td>133.0</td>\n",
       "      <td>133.0</td>\n",
       "      <td>133.0</td>\n",
       "      <td>133.0</td>\n",
       "      <td>133.0</td>\n",
       "      <td>133.0</td>\n",
       "      <td>133.0</td>\n",
       "    </tr>\n",
       "    <tr>\n",
       "      <th>mean</th>\n",
       "      <td>0.0</td>\n",
       "      <td>0.0</td>\n",
       "      <td>-0.0</td>\n",
       "      <td>0.0</td>\n",
       "      <td>0.0</td>\n",
       "      <td>-0.0</td>\n",
       "      <td>-0.0</td>\n",
       "      <td>0.0</td>\n",
       "      <td>0.0</td>\n",
       "      <td>-0.0</td>\n",
       "      <td>0.0</td>\n",
       "      <td>-0.0</td>\n",
       "      <td>0.0</td>\n",
       "    </tr>\n",
       "    <tr>\n",
       "      <th>std</th>\n",
       "      <td>1.0</td>\n",
       "      <td>1.0</td>\n",
       "      <td>1.0</td>\n",
       "      <td>1.0</td>\n",
       "      <td>1.0</td>\n",
       "      <td>1.0</td>\n",
       "      <td>1.0</td>\n",
       "      <td>1.0</td>\n",
       "      <td>1.0</td>\n",
       "      <td>1.0</td>\n",
       "      <td>1.0</td>\n",
       "      <td>1.0</td>\n",
       "      <td>1.0</td>\n",
       "    </tr>\n",
       "    <tr>\n",
       "      <th>min</th>\n",
       "      <td>-2.1</td>\n",
       "      <td>-2.1</td>\n",
       "      <td>-2.7</td>\n",
       "      <td>-1.7</td>\n",
       "      <td>-1.5</td>\n",
       "      <td>-3.7</td>\n",
       "      <td>-2.0</td>\n",
       "      <td>-1.6</td>\n",
       "      <td>-1.6</td>\n",
       "      <td>-1.9</td>\n",
       "      <td>-2.1</td>\n",
       "      <td>-1.8</td>\n",
       "      <td>-2.1</td>\n",
       "    </tr>\n",
       "    <tr>\n",
       "      <th>25%</th>\n",
       "      <td>-0.9</td>\n",
       "      <td>-0.8</td>\n",
       "      <td>-0.7</td>\n",
       "      <td>-0.8</td>\n",
       "      <td>-0.7</td>\n",
       "      <td>-0.5</td>\n",
       "      <td>-0.9</td>\n",
       "      <td>-1.0</td>\n",
       "      <td>-0.8</td>\n",
       "      <td>-1.1</td>\n",
       "      <td>-0.8</td>\n",
       "      <td>-0.7</td>\n",
       "      <td>-0.6</td>\n",
       "    </tr>\n",
       "    <tr>\n",
       "      <th>50%</th>\n",
       "      <td>0.1</td>\n",
       "      <td>0.0</td>\n",
       "      <td>-0.0</td>\n",
       "      <td>-0.2</td>\n",
       "      <td>-0.4</td>\n",
       "      <td>-0.0</td>\n",
       "      <td>0.1</td>\n",
       "      <td>0.1</td>\n",
       "      <td>-0.2</td>\n",
       "      <td>0.3</td>\n",
       "      <td>-0.2</td>\n",
       "      <td>-0.2</td>\n",
       "      <td>-0.1</td>\n",
       "    </tr>\n",
       "    <tr>\n",
       "      <th>75%</th>\n",
       "      <td>0.7</td>\n",
       "      <td>0.8</td>\n",
       "      <td>0.6</td>\n",
       "      <td>0.5</td>\n",
       "      <td>0.7</td>\n",
       "      <td>0.7</td>\n",
       "      <td>0.8</td>\n",
       "      <td>0.8</td>\n",
       "      <td>0.8</td>\n",
       "      <td>0.8</td>\n",
       "      <td>0.4</td>\n",
       "      <td>0.6</td>\n",
       "      <td>0.6</td>\n",
       "    </tr>\n",
       "    <tr>\n",
       "      <th>max</th>\n",
       "      <td>2.2</td>\n",
       "      <td>2.4</td>\n",
       "      <td>3.2</td>\n",
       "      <td>3.1</td>\n",
       "      <td>3.1</td>\n",
       "      <td>3.1</td>\n",
       "      <td>2.1</td>\n",
       "      <td>1.8</td>\n",
       "      <td>2.6</td>\n",
       "      <td>2.0</td>\n",
       "      <td>4.2</td>\n",
       "      <td>2.3</td>\n",
       "      <td>3.4</td>\n",
       "    </tr>\n",
       "  </tbody>\n",
       "</table>\n",
       "</div>"
      ],
      "text/plain": [
       "          0      1      2      3      4      5      6      7      8      9   \\\n",
       "count  133.0  133.0  133.0  133.0  133.0  133.0  133.0  133.0  133.0  133.0   \n",
       "mean     0.0    0.0   -0.0    0.0    0.0   -0.0   -0.0    0.0    0.0   -0.0   \n",
       "std      1.0    1.0    1.0    1.0    1.0    1.0    1.0    1.0    1.0    1.0   \n",
       "min     -2.1   -2.1   -2.7   -1.7   -1.5   -3.7   -2.0   -1.6   -1.6   -1.9   \n",
       "25%     -0.9   -0.8   -0.7   -0.8   -0.7   -0.5   -0.9   -1.0   -0.8   -1.1   \n",
       "50%      0.1    0.0   -0.0   -0.2   -0.4   -0.0    0.1    0.1   -0.2    0.3   \n",
       "75%      0.7    0.8    0.6    0.5    0.7    0.7    0.8    0.8    0.8    0.8   \n",
       "max      2.2    2.4    3.2    3.1    3.1    3.1    2.1    1.8    2.6    2.0   \n",
       "\n",
       "          10     11     12  \n",
       "count  133.0  133.0  133.0  \n",
       "mean     0.0   -0.0    0.0  \n",
       "std      1.0    1.0    1.0  \n",
       "min     -2.1   -1.8   -2.1  \n",
       "25%     -0.8   -0.7   -0.6  \n",
       "50%     -0.2   -0.2   -0.1  \n",
       "75%      0.4    0.6    0.6  \n",
       "max      4.2    2.3    3.4  "
      ]
     },
     "execution_count": 10,
     "metadata": {},
     "output_type": "execute_result"
    }
   ],
   "source": [
    "pd.DataFrame(X_train_std).describe().applymap(lambda x: round(x, 1))"
   ]
  },
  {
   "cell_type": "code",
   "execution_count": 11,
   "metadata": {
    "collapsed": false
   },
   "outputs": [
    {
     "data": {
      "text/html": [
       "<div>\n",
       "<table border=\"1\" class=\"dataframe\">\n",
       "  <thead>\n",
       "    <tr style=\"text-align: right;\">\n",
       "      <th></th>\n",
       "      <th>0</th>\n",
       "      <th>1</th>\n",
       "      <th>2</th>\n",
       "      <th>3</th>\n",
       "      <th>4</th>\n",
       "      <th>5</th>\n",
       "      <th>6</th>\n",
       "      <th>7</th>\n",
       "      <th>8</th>\n",
       "      <th>9</th>\n",
       "      <th>10</th>\n",
       "      <th>11</th>\n",
       "      <th>12</th>\n",
       "    </tr>\n",
       "  </thead>\n",
       "  <tbody>\n",
       "    <tr>\n",
       "      <th>count</th>\n",
       "      <td>45.0</td>\n",
       "      <td>45.0</td>\n",
       "      <td>45.0</td>\n",
       "      <td>45.0</td>\n",
       "      <td>45.0</td>\n",
       "      <td>45.0</td>\n",
       "      <td>45.0</td>\n",
       "      <td>45.0</td>\n",
       "      <td>45.0</td>\n",
       "      <td>45.0</td>\n",
       "      <td>45.0</td>\n",
       "      <td>45.0</td>\n",
       "      <td>45.0</td>\n",
       "    </tr>\n",
       "    <tr>\n",
       "      <th>mean</th>\n",
       "      <td>-0.0</td>\n",
       "      <td>-0.1</td>\n",
       "      <td>-0.0</td>\n",
       "      <td>0.1</td>\n",
       "      <td>-0.1</td>\n",
       "      <td>0.0</td>\n",
       "      <td>0.2</td>\n",
       "      <td>0.1</td>\n",
       "      <td>-0.1</td>\n",
       "      <td>0.1</td>\n",
       "      <td>-0.2</td>\n",
       "      <td>-0.0</td>\n",
       "      <td>-0.2</td>\n",
       "    </tr>\n",
       "    <tr>\n",
       "      <th>std</th>\n",
       "      <td>1.0</td>\n",
       "      <td>1.2</td>\n",
       "      <td>1.0</td>\n",
       "      <td>1.2</td>\n",
       "      <td>1.1</td>\n",
       "      <td>1.0</td>\n",
       "      <td>1.2</td>\n",
       "      <td>1.2</td>\n",
       "      <td>1.1</td>\n",
       "      <td>1.0</td>\n",
       "      <td>0.9</td>\n",
       "      <td>0.9</td>\n",
       "      <td>0.9</td>\n",
       "    </tr>\n",
       "    <tr>\n",
       "      <th>min</th>\n",
       "      <td>-1.8</td>\n",
       "      <td>-2.6</td>\n",
       "      <td>-1.9</td>\n",
       "      <td>-1.4</td>\n",
       "      <td>-1.3</td>\n",
       "      <td>-2.4</td>\n",
       "      <td>-2.2</td>\n",
       "      <td>-1.8</td>\n",
       "      <td>-1.4</td>\n",
       "      <td>-1.8</td>\n",
       "      <td>-1.6</td>\n",
       "      <td>-1.5</td>\n",
       "      <td>-2.1</td>\n",
       "    </tr>\n",
       "    <tr>\n",
       "      <th>25%</th>\n",
       "      <td>-0.6</td>\n",
       "      <td>-1.0</td>\n",
       "      <td>-0.8</td>\n",
       "      <td>-0.9</td>\n",
       "      <td>-0.8</td>\n",
       "      <td>-0.6</td>\n",
       "      <td>-0.8</td>\n",
       "      <td>-0.8</td>\n",
       "      <td>-0.9</td>\n",
       "      <td>-0.8</td>\n",
       "      <td>-1.0</td>\n",
       "      <td>-0.8</td>\n",
       "      <td>-0.8</td>\n",
       "    </tr>\n",
       "    <tr>\n",
       "      <th>50%</th>\n",
       "      <td>-0.1</td>\n",
       "      <td>-0.2</td>\n",
       "      <td>-0.2</td>\n",
       "      <td>-0.0</td>\n",
       "      <td>-0.5</td>\n",
       "      <td>0.1</td>\n",
       "      <td>0.3</td>\n",
       "      <td>0.2</td>\n",
       "      <td>-0.4</td>\n",
       "      <td>0.4</td>\n",
       "      <td>-0.3</td>\n",
       "      <td>-0.3</td>\n",
       "      <td>-0.3</td>\n",
       "    </tr>\n",
       "    <tr>\n",
       "      <th>75%</th>\n",
       "      <td>0.6</td>\n",
       "      <td>1.0</td>\n",
       "      <td>0.6</td>\n",
       "      <td>0.9</td>\n",
       "      <td>0.4</td>\n",
       "      <td>0.6</td>\n",
       "      <td>1.0</td>\n",
       "      <td>1.0</td>\n",
       "      <td>0.9</td>\n",
       "      <td>0.9</td>\n",
       "      <td>0.6</td>\n",
       "      <td>0.5</td>\n",
       "      <td>0.4</td>\n",
       "    </tr>\n",
       "    <tr>\n",
       "      <th>max</th>\n",
       "      <td>3.3</td>\n",
       "      <td>1.8</td>\n",
       "      <td>2.7</td>\n",
       "      <td>3.6</td>\n",
       "      <td>2.9</td>\n",
       "      <td>3.2</td>\n",
       "      <td>2.7</td>\n",
       "      <td>3.2</td>\n",
       "      <td>3.1</td>\n",
       "      <td>1.6</td>\n",
       "      <td>1.9</td>\n",
       "      <td>2.1</td>\n",
       "      <td>1.9</td>\n",
       "    </tr>\n",
       "  </tbody>\n",
       "</table>\n",
       "</div>"
      ],
      "text/plain": [
       "         0     1     2     3     4     5     6     7     8     9     10    11  \\\n",
       "count  45.0  45.0  45.0  45.0  45.0  45.0  45.0  45.0  45.0  45.0  45.0  45.0   \n",
       "mean   -0.0  -0.1  -0.0   0.1  -0.1   0.0   0.2   0.1  -0.1   0.1  -0.2  -0.0   \n",
       "std     1.0   1.2   1.0   1.2   1.1   1.0   1.2   1.2   1.1   1.0   0.9   0.9   \n",
       "min    -1.8  -2.6  -1.9  -1.4  -1.3  -2.4  -2.2  -1.8  -1.4  -1.8  -1.6  -1.5   \n",
       "25%    -0.6  -1.0  -0.8  -0.9  -0.8  -0.6  -0.8  -0.8  -0.9  -0.8  -1.0  -0.8   \n",
       "50%    -0.1  -0.2  -0.2  -0.0  -0.5   0.1   0.3   0.2  -0.4   0.4  -0.3  -0.3   \n",
       "75%     0.6   1.0   0.6   0.9   0.4   0.6   1.0   1.0   0.9   0.9   0.6   0.5   \n",
       "max     3.3   1.8   2.7   3.6   2.9   3.2   2.7   3.2   3.1   1.6   1.9   2.1   \n",
       "\n",
       "         12  \n",
       "count  45.0  \n",
       "mean   -0.2  \n",
       "std     0.9  \n",
       "min    -2.1  \n",
       "25%    -0.8  \n",
       "50%    -0.3  \n",
       "75%     0.4  \n",
       "max     1.9  "
      ]
     },
     "execution_count": 11,
     "metadata": {},
     "output_type": "execute_result"
    }
   ],
   "source": [
    "pd.DataFrame(X_test_std).describe().applymap(lambda x: round(x, 1))"
   ]
  },
  {
   "cell_type": "markdown",
   "metadata": {},
   "source": [
    "### Machine learning models"
   ]
  },
  {
   "cell_type": "markdown",
   "metadata": {},
   "source": [
    "In this section we try a few different classifiers beginning with logistic regression. The C parameter corresponds to the inverse regularization parameter $\\lambda$. Here with vary this parameter for the L1 and L2 penalties. Note that by default the one-versus-rest method is used instead of multinomial."
   ]
  },
  {
   "cell_type": "markdown",
   "metadata": {},
   "source": [
    "###### Logistic regression"
   ]
  },
  {
   "cell_type": "code",
   "execution_count": 12,
   "metadata": {
    "collapsed": false
   },
   "outputs": [
    {
     "name": "stdout",
     "output_type": "stream",
     "text": [
      "0.97191011236\n",
      "{'penalty': 'l1', 'C': 167.68329368110065}\n"
     ]
    }
   ],
   "source": [
    "from sklearn.linear_model import LogisticRegression\n",
    "from sklearn.model_selection import GridSearchCV\n",
    "\n",
    "C_range = np.logspace(-3, 5, base=10)\n",
    "param_grid = dict(C=C_range, penalty=['l1', 'l2'])\n",
    "\n",
    "lr = LogisticRegression()\n",
    "grid = GridSearchCV(lr, param_grid, cv=10, scoring='accuracy')\n",
    "grid.fit(X, y)\n",
    "print grid.best_score_\n",
    "print grid.best_params_"
   ]
  },
  {
   "cell_type": "markdown",
   "metadata": {},
   "source": [
    "Using K-fold cross validation, the optimal parameter and regularization approach were found. Regularization helps prevents overfitting by penalizing large weights. The L1 penalty drives unimportant feature weights to zero. We illustrate this below using $\\lambda =10$:"
   ]
  },
  {
   "cell_type": "code",
   "execution_count": 13,
   "metadata": {
    "collapsed": false
   },
   "outputs": [
    {
     "name": "stdout",
     "output_type": "stream",
     "text": [
      "[-0.28030327 -0.20973089 -0.84369093]\n",
      "[[ 0.          0.39161923 -0.04441459  0.          0.          0.          0.\n",
      "   0.77320541  1.23924257  0.          0.          0.          0.        ]\n",
      " [ 0.07561025 -0.65637837  0.         -0.96320056  0.         -0.03585161\n",
      "   0.          0.         -0.53859179  0.          0.          0.          0.        ]\n",
      " [-0.45405154  0.          0.          0.64109814  0.02137971  0.          0.\n",
      "  -0.82083445  0.         -0.23830953  0.          0.          0.        ]]\n",
      "Accuracy (train): 0.992\n",
      "Accuracy (test): 0.978\n"
     ]
    }
   ],
   "source": [
    "lr = LogisticRegression(C=0.1, penalty='l1')\n",
    "lr.fit(X_train_std, y_train)\n",
    "print lr.intercept_\n",
    "print lr.coef_\n",
    "print 'Accuracy (train): %.3f' % lr.score(X_train_std, y_train)\n",
    "print 'Accuracy (test): %.3f' % lr.score(X_test_std, y_test)"
   ]
  },
  {
   "cell_type": "markdown",
   "metadata": {},
   "source": [
    "We see that the L1 norm penalty has driven many of the coefficients to zero. Because one-versus-rest was used, three sets of coefficients are produced."
   ]
  },
  {
   "cell_type": "markdown",
   "metadata": {},
   "source": [
    "###### Random forest"
   ]
  },
  {
   "cell_type": "markdown",
   "metadata": {},
   "source": [
    "Random forest works by making a large number of decision trees that operate of different subsets of the data with predictions made based on majority vote. The first step is to choose a subset of the data by randomly selecting n cases with replacement. This is called bootstrapping. scikit-learn uses $n$ equal to the training set. In general, the larger $n$ the more likely to overfit. A decision tree is then created using a criteria for the information gain (like gini, entropy or classification error). At each node only a random subset of features are considered. This number is taken as the square root of the total number of features. The final prediction for each cases is determined by majority vote of the aggregrated results."
   ]
  },
  {
   "cell_type": "markdown",
   "metadata": {},
   "source": [
    "Note we do need to use the standardized data for RF:"
   ]
  },
  {
   "cell_type": "code",
   "execution_count": 14,
   "metadata": {
    "collapsed": false
   },
   "outputs": [],
   "source": [
    "from sklearn.ensemble import RandomForestClassifier\n",
    "n_est = range(1, 11) + range(20, 110, 10) + range(150, 550, 50)\n",
    "scores = []\n",
    "for n in n_est:\n",
    "    rf = RandomForestClassifier(n_estimators=n, criterion='entropy', n_jobs=-1)\n",
    "    rf.fit(X_train, y_train)\n",
    "    scores.append(rf.score(X_test, y_test))"
   ]
  },
  {
   "cell_type": "code",
   "execution_count": 15,
   "metadata": {
    "collapsed": false
   },
   "outputs": [
    {
     "data": {
      "text/plain": [
       "(0.75, 1.05)"
      ]
     },
     "execution_count": 15,
     "metadata": {},
     "output_type": "execute_result"
    },
    {
     "data": {
      "image/png": "[encoded data removed]",
      "text/plain": [
       "<matplotlib.figure.Figure at 0x11432ee90>"
      ]
     },
     "metadata": {},
     "output_type": "display_data"
    }
   ],
   "source": [
    "plt.semilogx([1, 1000], [1, 1], 'k:')\n",
    "plt.semilogx(n_est, scores, 'k-', marker='o', mfc='w')\n",
    "plt.xlabel('Number of trees')\n",
    "plt.ylabel('Accuracy on test data')\n",
    "plt.ylim(0.75, 1.05)"
   ]
  },
  {
   "cell_type": "markdown",
   "metadata": {},
   "source": [
    "Random forest is an ensemble technique so we typically do not need to find hyperparameters. Nor do we need to prune the trees -- unlike conventional decision trees. In general, its performance increases with increasing number of trees until saturation is reached. We see in the plot above that when the number of trees exceeds around 30 the accuracy is perfect (for some random_state values)."
   ]
  },
  {
   "cell_type": "markdown",
   "metadata": {},
   "source": [
    "Below we plot the imporatance of each feature according to the RF model. The feature importance is the averaged impurity decrease computed from all decision trees in the forest."
   ]
  },
  {
   "cell_type": "code",
   "execution_count": 23,
   "metadata": {
    "collapsed": false
   },
   "outputs": [],
   "source": [
    "importances = rf.feature_importances_\n",
    "indices = np.argsort(importances)[::-1]"
   ]
  },
  {
   "cell_type": "code",
   "execution_count": 24,
   "metadata": {
    "collapsed": false
   },
   "outputs": [
    {
     "data": {
      "text/plain": [
       "array([ 0.09844223,  0.11104032,  0.0234901 ,  0.14970125,  0.03039509,\n",
       "        0.0103717 ,  0.06975729,  0.18398846,  0.1449221 ,  0.11863275,\n",
       "        0.02676479,  0.01160759,  0.02088633])"
      ]
     },
     "execution_count": 24,
     "metadata": {},
     "output_type": "execute_result"
    }
   ],
   "source": [
    "importances"
   ]
  },
  {
   "cell_type": "code",
   "execution_count": 26,
   "metadata": {
    "collapsed": false
   },
   "outputs": [
    {
     "data": {
      "text/plain": [
       "array([ 7,  3,  8,  9,  1,  0,  6,  4, 10,  2, 12, 11,  5])"
      ]
     },
     "execution_count": 26,
     "metadata": {},
     "output_type": "execute_result"
    }
   ],
   "source": [
    "indices"
   ]
  },
  {
   "cell_type": "code",
   "execution_count": 33,
   "metadata": {
    "collapsed": false
   },
   "outputs": [
    {
     "data": {
      "text/plain": [
       "<matplotlib.text.Text at 0x116f779d0>"
      ]
     },
     "execution_count": 33,
     "metadata": {},
     "output_type": "execute_result"
    },
    {
     "data": {
      "image/png": "[encoded data removed]",
      "text/plain": [
       "<matplotlib.figure.Figure at 0x116f69150>"
      ]
     },
     "metadata": {},
     "output_type": "display_data"
    }
   ],
   "source": [
    "fig, ax = plt.subplots(1, 1, figsize=(12,6))\n",
    "plt.barh(range(X_train.shape[1]), importances[indices],  align='center')\n",
    "plt.yticks(range(X_train.shape[1]), columns[1:], rotation=0)\n",
    "plt.xlabel('Random forest importance')"
   ]
  },
  {
   "cell_type": "markdown",
   "metadata": {},
   "source": [
    "One of the downsides of RF is the difficulty of intrepretation. A feature that is correlated with another feature may have a low importance while it may be highly predictive in another model. Conventional decision trees are easy to intrepret and often preferred in medical fields."
   ]
  },
  {
   "cell_type": "markdown",
   "metadata": {},
   "source": [
    "###### K-Nearest Neighbors"
   ]
  },
  {
   "cell_type": "markdown",
   "metadata": {},
   "source": [
    "The entire training data set is needed to apply KNN to new data. One must be careful of the curse of dimensionality where having a large number of features leads to overfitting because high-dimensional spaces are vast and points in space tend to be far apart. In fact, the ratio of the minimum distance to average distance of random points in a unit hypercube approaches 1."
   ]
  },
  {
   "cell_type": "code",
   "execution_count": 18,
   "metadata": {
    "collapsed": false
   },
   "outputs": [
    {
     "name": "stdout",
     "output_type": "stream",
     "text": [
      "0.962406015038\n",
      "{'n_neighbors': 13}\n"
     ]
    }
   ],
   "source": [
    "from sklearn.neighbors import KNeighborsClassifier\n",
    "\n",
    "param_grid = dict(n_neighbors=range(1, 26))\n",
    "knn = KNeighborsClassifier()\n",
    "grid = GridSearchCV(knn, param_grid, cv=10, scoring='accuracy')\n",
    "grid.fit(X_train_std, y_train)\n",
    "print grid.best_score_\n",
    "print grid.best_params_"
   ]
  },
  {
   "cell_type": "code",
   "execution_count": 19,
   "metadata": {
    "collapsed": false
   },
   "outputs": [
    {
     "name": "stdout",
     "output_type": "stream",
     "text": [
      "Accuracy (train): 0.970\n",
      "Accuracy (test): 0.978\n"
     ]
    }
   ],
   "source": [
    "knn = KNeighborsClassifier(n_neighbors=grid.best_params_['n_neighbors'])\n",
    "knn.fit(X_train_std, y_train)\n",
    "print 'Accuracy (train): %.3f' % knn.score(X_train_std, y_train)\n",
    "print 'Accuracy (test): %.3f' % knn.score(X_test_std, y_test)"
   ]
  }
 ],
 "metadata": {
  "anaconda-cloud": {},
  "kernelspec": {
   "display_name": "Python [default]",
   "language": "python",
   "name": "python2"
  },
  "language_info": {
   "codemirror_mode": {
    "name": "ipython",
    "version": 2
   },
   "file_extension": ".py",
   "mimetype": "text/x-python",
   "name": "python",
   "nbconvert_exporter": "python",
   "pygments_lexer": "ipython2",
   "version": "2.7.12"
  }
 },
 "nbformat": 4,
 "nbformat_minor": 0
}
