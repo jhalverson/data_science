{
 "cells": [
  {
   "cell_type": "markdown",
   "metadata": {},
   "source": [
    "# Jonathan Halverson\n",
    "# Tuesday, January 23, 2017\n",
    "# NYC Stop and Frisk"
   ]
  },
  {
   "cell_type": "markdown",
   "metadata": {},
   "source": [
    "Data obtained from http://www.nyc.gov/html/nypd/html/analysis_and_planning/stop_question_and_frisk_report.shtml"
   ]
  },
  {
   "cell_type": "code",
   "execution_count": 1,
   "metadata": {
    "collapsed": true
   },
   "outputs": [],
   "source": [
    "import numpy as np\n",
    "import pandas as pd\n",
    "import matplotlib.pyplot as plt\n",
    "%matplotlib inline"
   ]
  },
  {
   "cell_type": "code",
   "execution_count": 2,
   "metadata": {
    "collapsed": false
   },
   "outputs": [],
   "source": [
    "df = pd.read_csv('2015_sqf_csv.csv', header=0, parse_dates=['datestop'])"
   ]
  },
  {
   "cell_type": "code",
   "execution_count": 3,
   "metadata": {
    "collapsed": false
   },
   "outputs": [
    {
     "data": {
      "text/html": [
       "<div>\n",
       "<table border=\"1\" class=\"dataframe\">\n",
       "  <thead>\n",
       "    <tr style=\"text-align: right;\">\n",
       "      <th></th>\n",
       "      <th>0</th>\n",
       "      <th>1</th>\n",
       "      <th>2</th>\n",
       "    </tr>\n",
       "  </thead>\n",
       "  <tbody>\n",
       "    <tr>\n",
       "      <th>year</th>\n",
       "      <td>2015</td>\n",
       "      <td>2015</td>\n",
       "      <td>2015</td>\n",
       "    </tr>\n",
       "    <tr>\n",
       "      <th>pct</th>\n",
       "      <td>61</td>\n",
       "      <td>22</td>\n",
       "      <td>20</td>\n",
       "    </tr>\n",
       "    <tr>\n",
       "      <th>ser_num</th>\n",
       "      <td>18</td>\n",
       "      <td>5</td>\n",
       "      <td>36</td>\n",
       "    </tr>\n",
       "    <tr>\n",
       "      <th>datestop</th>\n",
       "      <td>1012015</td>\n",
       "      <td>1152015</td>\n",
       "      <td>1292015</td>\n",
       "    </tr>\n",
       "    <tr>\n",
       "      <th>timestop</th>\n",
       "      <td>315</td>\n",
       "      <td>1747</td>\n",
       "      <td>1745</td>\n",
       "    </tr>\n",
       "    <tr>\n",
       "      <th>recstat</th>\n",
       "      <td>1</td>\n",
       "      <td>A</td>\n",
       "      <td>1</td>\n",
       "    </tr>\n",
       "    <tr>\n",
       "      <th>inout</th>\n",
       "      <td>O</td>\n",
       "      <td>O</td>\n",
       "      <td>O</td>\n",
       "    </tr>\n",
       "    <tr>\n",
       "      <th>trhsloc</th>\n",
       "      <td>P</td>\n",
       "      <td>P</td>\n",
       "      <td>P</td>\n",
       "    </tr>\n",
       "    <tr>\n",
       "      <th>perobs</th>\n",
       "      <td>2</td>\n",
       "      <td>1</td>\n",
       "      <td>1</td>\n",
       "    </tr>\n",
       "    <tr>\n",
       "      <th>crimsusp</th>\n",
       "      <td>FELONY</td>\n",
       "      <td>FELONY</td>\n",
       "      <td>MISD</td>\n",
       "    </tr>\n",
       "    <tr>\n",
       "      <th>perstop</th>\n",
       "      <td>10</td>\n",
       "      <td>4</td>\n",
       "      <td>16</td>\n",
       "    </tr>\n",
       "    <tr>\n",
       "      <th>typeofid</th>\n",
       "      <td>V</td>\n",
       "      <td>V</td>\n",
       "      <td>V</td>\n",
       "    </tr>\n",
       "    <tr>\n",
       "      <th>explnstp</th>\n",
       "      <td>Y</td>\n",
       "      <td>Y</td>\n",
       "      <td>Y</td>\n",
       "    </tr>\n",
       "    <tr>\n",
       "      <th>othpers</th>\n",
       "      <td>N</td>\n",
       "      <td>N</td>\n",
       "      <td>N</td>\n",
       "    </tr>\n",
       "    <tr>\n",
       "      <th>arstmade</th>\n",
       "      <td>N</td>\n",
       "      <td>N</td>\n",
       "      <td>N</td>\n",
       "    </tr>\n",
       "    <tr>\n",
       "      <th>arstoffn</th>\n",
       "      <td></td>\n",
       "      <td></td>\n",
       "      <td></td>\n",
       "    </tr>\n",
       "    <tr>\n",
       "      <th>sumissue</th>\n",
       "      <td>N</td>\n",
       "      <td>N</td>\n",
       "      <td>N</td>\n",
       "    </tr>\n",
       "    <tr>\n",
       "      <th>sumoffen</th>\n",
       "      <td></td>\n",
       "      <td></td>\n",
       "      <td></td>\n",
       "    </tr>\n",
       "    <tr>\n",
       "      <th>compyear</th>\n",
       "      <td>0</td>\n",
       "      <td>0</td>\n",
       "      <td>0</td>\n",
       "    </tr>\n",
       "    <tr>\n",
       "      <th>comppct</th>\n",
       "      <td>0</td>\n",
       "      <td>0</td>\n",
       "      <td>0</td>\n",
       "    </tr>\n",
       "    <tr>\n",
       "      <th>offunif</th>\n",
       "      <td>N</td>\n",
       "      <td>N</td>\n",
       "      <td>N</td>\n",
       "    </tr>\n",
       "    <tr>\n",
       "      <th>officrid</th>\n",
       "      <td></td>\n",
       "      <td></td>\n",
       "      <td></td>\n",
       "    </tr>\n",
       "    <tr>\n",
       "      <th>frisked</th>\n",
       "      <td>Y</td>\n",
       "      <td>Y</td>\n",
       "      <td>N</td>\n",
       "    </tr>\n",
       "    <tr>\n",
       "      <th>searched</th>\n",
       "      <td>N</td>\n",
       "      <td>N</td>\n",
       "      <td>N</td>\n",
       "    </tr>\n",
       "    <tr>\n",
       "      <th>contrabn</th>\n",
       "      <td>N</td>\n",
       "      <td>N</td>\n",
       "      <td>N</td>\n",
       "    </tr>\n",
       "    <tr>\n",
       "      <th>adtlrept</th>\n",
       "      <td>N</td>\n",
       "      <td>N</td>\n",
       "      <td>N</td>\n",
       "    </tr>\n",
       "    <tr>\n",
       "      <th>pistol</th>\n",
       "      <td>N</td>\n",
       "      <td>N</td>\n",
       "      <td>N</td>\n",
       "    </tr>\n",
       "    <tr>\n",
       "      <th>riflshot</th>\n",
       "      <td>N</td>\n",
       "      <td>N</td>\n",
       "      <td>N</td>\n",
       "    </tr>\n",
       "    <tr>\n",
       "      <th>asltweap</th>\n",
       "      <td>N</td>\n",
       "      <td>N</td>\n",
       "      <td>N</td>\n",
       "    </tr>\n",
       "    <tr>\n",
       "      <th>knifcuti</th>\n",
       "      <td>N</td>\n",
       "      <td>N</td>\n",
       "      <td>N</td>\n",
       "    </tr>\n",
       "    <tr>\n",
       "      <th>...</th>\n",
       "      <td>...</td>\n",
       "      <td>...</td>\n",
       "      <td>...</td>\n",
       "    </tr>\n",
       "    <tr>\n",
       "      <th>dob</th>\n",
       "      <td></td>\n",
       "      <td></td>\n",
       "      <td></td>\n",
       "    </tr>\n",
       "    <tr>\n",
       "      <th>age</th>\n",
       "      <td>33</td>\n",
       "      <td>14</td>\n",
       "      <td>14</td>\n",
       "    </tr>\n",
       "    <tr>\n",
       "      <th>ht_feet</th>\n",
       "      <td>5</td>\n",
       "      <td>5</td>\n",
       "      <td>5</td>\n",
       "    </tr>\n",
       "    <tr>\n",
       "      <th>ht_inch</th>\n",
       "      <td>11</td>\n",
       "      <td>8</td>\n",
       "      <td>3</td>\n",
       "    </tr>\n",
       "    <tr>\n",
       "      <th>weight</th>\n",
       "      <td>190</td>\n",
       "      <td>140</td>\n",
       "      <td>140</td>\n",
       "    </tr>\n",
       "    <tr>\n",
       "      <th>haircolr</th>\n",
       "      <td>BR</td>\n",
       "      <td>BK</td>\n",
       "      <td>BK</td>\n",
       "    </tr>\n",
       "    <tr>\n",
       "      <th>eyecolor</th>\n",
       "      <td>BR</td>\n",
       "      <td>BR</td>\n",
       "      <td>BR</td>\n",
       "    </tr>\n",
       "    <tr>\n",
       "      <th>build</th>\n",
       "      <td>M</td>\n",
       "      <td>T</td>\n",
       "      <td>T</td>\n",
       "    </tr>\n",
       "    <tr>\n",
       "      <th>othfeatr</th>\n",
       "      <td></td>\n",
       "      <td></td>\n",
       "      <td></td>\n",
       "    </tr>\n",
       "    <tr>\n",
       "      <th>addrtyp</th>\n",
       "      <td>L</td>\n",
       "      <td>L</td>\n",
       "      <td>L</td>\n",
       "    </tr>\n",
       "    <tr>\n",
       "      <th>rescode</th>\n",
       "      <td></td>\n",
       "      <td></td>\n",
       "      <td></td>\n",
       "    </tr>\n",
       "    <tr>\n",
       "      <th>premtype</th>\n",
       "      <td></td>\n",
       "      <td></td>\n",
       "      <td></td>\n",
       "    </tr>\n",
       "    <tr>\n",
       "      <th>premname</th>\n",
       "      <td>STREET</td>\n",
       "      <td>119 W. 104 ST</td>\n",
       "      <td>STREET</td>\n",
       "    </tr>\n",
       "    <tr>\n",
       "      <th>addrnum</th>\n",
       "      <td></td>\n",
       "      <td></td>\n",
       "      <td>472</td>\n",
       "    </tr>\n",
       "    <tr>\n",
       "      <th>stname</th>\n",
       "      <td></td>\n",
       "      <td></td>\n",
       "      <td>COLUMBUS AVENUE</td>\n",
       "    </tr>\n",
       "    <tr>\n",
       "      <th>stinter</th>\n",
       "      <td>AVENUE W</td>\n",
       "      <td>TRANSVERSE ROAD NUMBER FOUR</td>\n",
       "      <td>WEST 83 STREET</td>\n",
       "    </tr>\n",
       "    <tr>\n",
       "      <th>crossst</th>\n",
       "      <td>EAST 28 STREET</td>\n",
       "      <td>WEST DRIVE</td>\n",
       "      <td>WEST 82 STREET</td>\n",
       "    </tr>\n",
       "    <tr>\n",
       "      <th>aptnum</th>\n",
       "      <td></td>\n",
       "      <td></td>\n",
       "      <td></td>\n",
       "    </tr>\n",
       "    <tr>\n",
       "      <th>city</th>\n",
       "      <td>BROOKLYN</td>\n",
       "      <td>MANHATTAN</td>\n",
       "      <td>MANHATTAN</td>\n",
       "    </tr>\n",
       "    <tr>\n",
       "      <th>state</th>\n",
       "      <td></td>\n",
       "      <td></td>\n",
       "      <td></td>\n",
       "    </tr>\n",
       "    <tr>\n",
       "      <th>zip</th>\n",
       "      <td></td>\n",
       "      <td></td>\n",
       "      <td></td>\n",
       "    </tr>\n",
       "    <tr>\n",
       "      <th>addrpct</th>\n",
       "      <td>61</td>\n",
       "      <td>22</td>\n",
       "      <td>20</td>\n",
       "    </tr>\n",
       "    <tr>\n",
       "      <th>sector</th>\n",
       "      <td>E</td>\n",
       "      <td>E</td>\n",
       "      <td>H</td>\n",
       "    </tr>\n",
       "    <tr>\n",
       "      <th>beat</th>\n",
       "      <td>7</td>\n",
       "      <td>14</td>\n",
       "      <td></td>\n",
       "    </tr>\n",
       "    <tr>\n",
       "      <th>post</th>\n",
       "      <td></td>\n",
       "      <td></td>\n",
       "      <td>16</td>\n",
       "    </tr>\n",
       "    <tr>\n",
       "      <th>xcoord</th>\n",
       "      <td>1000091</td>\n",
       "      <td>994617</td>\n",
       "      <td>991510</td>\n",
       "    </tr>\n",
       "    <tr>\n",
       "      <th>ycoord</th>\n",
       "      <td>156314</td>\n",
       "      <td>227693</td>\n",
       "      <td>225019</td>\n",
       "    </tr>\n",
       "    <tr>\n",
       "      <th>dettypCM</th>\n",
       "      <td>CM</td>\n",
       "      <td>CM</td>\n",
       "      <td>CM</td>\n",
       "    </tr>\n",
       "    <tr>\n",
       "      <th>lineCM</th>\n",
       "      <td>1</td>\n",
       "      <td>1</td>\n",
       "      <td>1</td>\n",
       "    </tr>\n",
       "    <tr>\n",
       "      <th>detailCM</th>\n",
       "      <td>14</td>\n",
       "      <td>20</td>\n",
       "      <td>78</td>\n",
       "    </tr>\n",
       "  </tbody>\n",
       "</table>\n",
       "<p>112 rows × 3 columns</p>\n",
       "</div>"
      ],
      "text/plain": [
       "                       0                            1                2\n",
       "year                2015                         2015             2015\n",
       "pct                   61                           22               20\n",
       "ser_num               18                            5               36\n",
       "datestop         1012015                      1152015          1292015\n",
       "timestop             315                         1747             1745\n",
       "recstat                1                            A                1\n",
       "inout                  O                            O                O\n",
       "trhsloc                P                            P                P\n",
       "perobs                 2                            1                1\n",
       "crimsusp          FELONY                       FELONY             MISD\n",
       "perstop               10                            4               16\n",
       "typeofid               V                            V                V\n",
       "explnstp               Y                            Y                Y\n",
       "othpers                N                            N                N\n",
       "arstmade               N                            N                N\n",
       "arstoffn                                                              \n",
       "sumissue               N                            N                N\n",
       "sumoffen                                                              \n",
       "compyear               0                            0                0\n",
       "comppct                0                            0                0\n",
       "offunif                N                            N                N\n",
       "officrid                                                              \n",
       "frisked                Y                            Y                N\n",
       "searched               N                            N                N\n",
       "contrabn               N                            N                N\n",
       "adtlrept               N                            N                N\n",
       "pistol                 N                            N                N\n",
       "riflshot               N                            N                N\n",
       "asltweap               N                            N                N\n",
       "knifcuti               N                            N                N\n",
       "...                  ...                          ...              ...\n",
       "dob                                                                   \n",
       "age                   33                           14               14\n",
       "ht_feet                5                            5                5\n",
       "ht_inch               11                            8                3\n",
       "weight               190                          140              140\n",
       "haircolr              BR                           BK               BK\n",
       "eyecolor              BR                           BR               BR\n",
       "build                  M                            T                T\n",
       "othfeatr                                                              \n",
       "addrtyp                L                            L                L\n",
       "rescode                                                               \n",
       "premtype                                                              \n",
       "premname          STREET                119 W. 104 ST           STREET\n",
       "addrnum                                                            472\n",
       "stname                                                 COLUMBUS AVENUE\n",
       "stinter         AVENUE W  TRANSVERSE ROAD NUMBER FOUR   WEST 83 STREET\n",
       "crossst   EAST 28 STREET                   WEST DRIVE   WEST 82 STREET\n",
       "aptnum                                                                \n",
       "city            BROOKLYN                    MANHATTAN        MANHATTAN\n",
       "state                                                                 \n",
       "zip                                                                   \n",
       "addrpct               61                           22               20\n",
       "sector                 E                            E                H\n",
       "beat                   7                           14                 \n",
       "post                                                                16\n",
       "xcoord           1000091                       994617           991510\n",
       "ycoord            156314                       227693           225019\n",
       "dettypCM              CM                           CM               CM\n",
       "lineCM                 1                            1                1\n",
       "detailCM              14                           20               78\n",
       "\n",
       "[112 rows x 3 columns]"
      ]
     },
     "execution_count": 3,
     "metadata": {},
     "output_type": "execute_result"
    }
   ],
   "source": [
    "df.head(3).transpose()"
   ]
  },
  {
   "cell_type": "code",
   "execution_count": 4,
   "metadata": {
    "collapsed": false
   },
   "outputs": [
    {
     "data": {
      "text/html": [
       "<div>\n",
       "<table border=\"1\" class=\"dataframe\">\n",
       "  <thead>\n",
       "    <tr style=\"text-align: right;\">\n",
       "      <th></th>\n",
       "      <th>age</th>\n",
       "      <th>weight</th>\n",
       "      <th>ht_feet</th>\n",
       "      <th>ht_inch</th>\n",
       "      <th>perobs</th>\n",
       "    </tr>\n",
       "  </thead>\n",
       "  <tbody>\n",
       "    <tr>\n",
       "      <th>count</th>\n",
       "      <td>22563.000000</td>\n",
       "      <td>22563.000000</td>\n",
       "      <td>22563.000000</td>\n",
       "      <td>22563.000000</td>\n",
       "      <td>22563.000000</td>\n",
       "    </tr>\n",
       "    <tr>\n",
       "      <th>mean</th>\n",
       "      <td>28.960555</td>\n",
       "      <td>171.360768</td>\n",
       "      <td>5.214333</td>\n",
       "      <td>6.259496</td>\n",
       "      <td>2.639144</td>\n",
       "    </tr>\n",
       "    <tr>\n",
       "      <th>std</th>\n",
       "      <td>34.621549</td>\n",
       "      <td>45.147912</td>\n",
       "      <td>0.423130</td>\n",
       "      <td>3.496789</td>\n",
       "      <td>7.120538</td>\n",
       "    </tr>\n",
       "    <tr>\n",
       "      <th>min</th>\n",
       "      <td>0.000000</td>\n",
       "      <td>1.000000</td>\n",
       "      <td>3.000000</td>\n",
       "      <td>0.000000</td>\n",
       "      <td>0.000000</td>\n",
       "    </tr>\n",
       "    <tr>\n",
       "      <th>25%</th>\n",
       "      <td>19.000000</td>\n",
       "      <td>150.000000</td>\n",
       "      <td>5.000000</td>\n",
       "      <td>4.000000</td>\n",
       "      <td>1.000000</td>\n",
       "    </tr>\n",
       "    <tr>\n",
       "      <th>50%</th>\n",
       "      <td>24.000000</td>\n",
       "      <td>170.000000</td>\n",
       "      <td>5.000000</td>\n",
       "      <td>7.000000</td>\n",
       "      <td>1.000000</td>\n",
       "    </tr>\n",
       "    <tr>\n",
       "      <th>75%</th>\n",
       "      <td>33.000000</td>\n",
       "      <td>185.000000</td>\n",
       "      <td>5.000000</td>\n",
       "      <td>9.000000</td>\n",
       "      <td>2.000000</td>\n",
       "    </tr>\n",
       "    <tr>\n",
       "      <th>max</th>\n",
       "      <td>999.000000</td>\n",
       "      <td>999.000000</td>\n",
       "      <td>7.000000</td>\n",
       "      <td>11.000000</td>\n",
       "      <td>535.000000</td>\n",
       "    </tr>\n",
       "  </tbody>\n",
       "</table>\n",
       "</div>"
      ],
      "text/plain": [
       "                age        weight       ht_feet       ht_inch        perobs\n",
       "count  22563.000000  22563.000000  22563.000000  22563.000000  22563.000000\n",
       "mean      28.960555    171.360768      5.214333      6.259496      2.639144\n",
       "std       34.621549     45.147912      0.423130      3.496789      7.120538\n",
       "min        0.000000      1.000000      3.000000      0.000000      0.000000\n",
       "25%       19.000000    150.000000      5.000000      4.000000      1.000000\n",
       "50%       24.000000    170.000000      5.000000      7.000000      1.000000\n",
       "75%       33.000000    185.000000      5.000000      9.000000      2.000000\n",
       "max      999.000000    999.000000      7.000000     11.000000    535.000000"
      ]
     },
     "execution_count": 4,
     "metadata": {},
     "output_type": "execute_result"
    }
   ],
   "source": [
    "df[['age', 'weight', 'ht_feet', 'ht_inch', 'perobs']].describe()"
   ]
  },
  {
   "cell_type": "code",
   "execution_count": 5,
   "metadata": {
    "collapsed": false
   },
   "outputs": [
    {
     "data": {
      "text/plain": [
       "<matplotlib.text.Text at 0x1067fbf90>"
      ]
     },
     "execution_count": 5,
     "metadata": {},
     "output_type": "execute_result"
    },
    {
     "data": {
      "image/png": "[encoded data removed]",
      "text/plain": [
       "<matplotlib.figure.Figure at 0x10691f450>"
      ]
     },
     "metadata": {},
     "output_type": "display_data"
    }
   ],
   "source": [
    "plt.hist(df[(df.age > 0) & (df.age < 99)].age, bins=25)\n",
    "plt.xlabel('Age')\n",
    "plt.ylabel('Count')"
   ]
  },
  {
   "cell_type": "code",
   "execution_count": 6,
   "metadata": {
    "collapsed": false
   },
   "outputs": [
    {
     "data": {
      "text/plain": [
       "27.487440990469405"
      ]
     },
     "execution_count": 6,
     "metadata": {},
     "output_type": "execute_result"
    }
   ],
   "source": [
    "df[(df.age > 0) & (df.age < 99)].age.mean()"
   ]
  },
  {
   "cell_type": "code",
   "execution_count": 7,
   "metadata": {
    "collapsed": false
   },
   "outputs": [
    {
     "data": {
      "text/plain": [
       "array(['M', 'F', 'Z'], dtype=object)"
      ]
     },
     "execution_count": 7,
     "metadata": {},
     "output_type": "execute_result"
    }
   ],
   "source": [
    "df['sex'].unique()"
   ]
  },
  {
   "cell_type": "markdown",
   "metadata": {},
   "source": [
    "### Men vs. Women"
   ]
  },
  {
   "cell_type": "code",
   "execution_count": 8,
   "metadata": {
    "collapsed": false
   },
   "outputs": [
    {
     "data": {
      "text/plain": [
       "M    20853\n",
       "F     1515\n",
       "Z      195\n",
       "Name: sex, dtype: int64"
      ]
     },
     "execution_count": 8,
     "metadata": {},
     "output_type": "execute_result"
    }
   ],
   "source": [
    "gender = df['sex'].value_counts()\n",
    "gender"
   ]
  },
  {
   "cell_type": "code",
   "execution_count": 9,
   "metadata": {
    "collapsed": false
   },
   "outputs": [
    {
     "data": {
      "text/plain": [
       "13.764356435643565"
      ]
     },
     "execution_count": 9,
     "metadata": {},
     "output_type": "execute_result"
    }
   ],
   "source": [
    "gender['M'] / float(gender['F'])"
   ]
  },
  {
   "cell_type": "markdown",
   "metadata": {},
   "source": [
    "### Race"
   ]
  },
  {
   "cell_type": "code",
   "execution_count": 10,
   "metadata": {
    "collapsed": false
   },
   "outputs": [
    {
     "data": {
      "text/plain": [
       "B    11950\n",
       "Q     5090\n",
       "W     2514\n",
       "P     1409\n",
       "A     1103\n",
       "Z      298\n",
       "U      122\n",
       "I       77\n",
       "Name: race, dtype: int64"
      ]
     },
     "execution_count": 10,
     "metadata": {},
     "output_type": "execute_result"
    }
   ],
   "source": [
    "s = df['race'].value_counts()\n",
    "s"
   ]
  },
  {
   "cell_type": "code",
   "execution_count": 11,
   "metadata": {
    "collapsed": false
   },
   "outputs": [
    {
     "data": {
      "text/html": [
       "<div>\n",
       "<table border=\"1\" class=\"dataframe\">\n",
       "  <thead>\n",
       "    <tr style=\"text-align: right;\">\n",
       "      <th></th>\n",
       "      <th>Field Name</th>\n",
       "      <th>Value</th>\n",
       "      <th>Label</th>\n",
       "    </tr>\n",
       "  </thead>\n",
       "  <tbody>\n",
       "    <tr>\n",
       "      <th>222</th>\n",
       "      <td>NaN</td>\n",
       "      <td>A</td>\n",
       "      <td>ASIAN/PACIFIC ISLANDER</td>\n",
       "    </tr>\n",
       "    <tr>\n",
       "      <th>223</th>\n",
       "      <td>NaN</td>\n",
       "      <td>B</td>\n",
       "      <td>BLACK</td>\n",
       "    </tr>\n",
       "    <tr>\n",
       "      <th>224</th>\n",
       "      <td>NaN</td>\n",
       "      <td>I</td>\n",
       "      <td>AMERICAN INDIAN/ALASKAN NATIVE</td>\n",
       "    </tr>\n",
       "    <tr>\n",
       "      <th>225</th>\n",
       "      <td>NaN</td>\n",
       "      <td>P</td>\n",
       "      <td>BLACK-HISPANIC</td>\n",
       "    </tr>\n",
       "    <tr>\n",
       "      <th>226</th>\n",
       "      <td>NaN</td>\n",
       "      <td>Q</td>\n",
       "      <td>WHITE-HISPANIC</td>\n",
       "    </tr>\n",
       "    <tr>\n",
       "      <th>227</th>\n",
       "      <td>NaN</td>\n",
       "      <td>W</td>\n",
       "      <td>WHITE</td>\n",
       "    </tr>\n",
       "    <tr>\n",
       "      <th>228</th>\n",
       "      <td>NaN</td>\n",
       "      <td>X</td>\n",
       "      <td>UNKNOWN</td>\n",
       "    </tr>\n",
       "    <tr>\n",
       "      <th>229</th>\n",
       "      <td>NaN</td>\n",
       "      <td>Z</td>\n",
       "      <td>OTHER</td>\n",
       "    </tr>\n",
       "  </tbody>\n",
       "</table>\n",
       "</div>"
      ],
      "text/plain": [
       "    Field Name Value                           Label\n",
       "222        NaN     A          ASIAN/PACIFIC ISLANDER\n",
       "223        NaN     B                           BLACK\n",
       "224        NaN     I  AMERICAN INDIAN/ALASKAN NATIVE\n",
       "225        NaN     P                  BLACK-HISPANIC\n",
       "226        NaN     Q                  WHITE-HISPANIC\n",
       "227        NaN     W                           WHITE\n",
       "228        NaN     X                         UNKNOWN\n",
       "229        NaN     Z                           OTHER"
      ]
     },
     "execution_count": 11,
     "metadata": {},
     "output_type": "execute_result"
    }
   ],
   "source": [
    "race_labels = pd.read_csv('2015_sqf_file_spec_page2.csv', skiprows=4)\n",
    "race_labels = race_labels[222:230]\n",
    "race_labels"
   ]
  },
  {
   "cell_type": "code",
   "execution_count": 12,
   "metadata": {
    "collapsed": false,
    "scrolled": true
   },
   "outputs": [
    {
     "data": {
      "text/html": [
       "<div>\n",
       "<table border=\"1\" class=\"dataframe\">\n",
       "  <thead>\n",
       "    <tr style=\"text-align: right;\">\n",
       "      <th></th>\n",
       "      <th>Field Name</th>\n",
       "      <th>Value</th>\n",
       "      <th>Label</th>\n",
       "      <th>race</th>\n",
       "    </tr>\n",
       "  </thead>\n",
       "  <tbody>\n",
       "    <tr>\n",
       "      <th>222</th>\n",
       "      <td>NaN</td>\n",
       "      <td>A</td>\n",
       "      <td>ASIAN/PACIFIC ISLANDER</td>\n",
       "      <td>1103</td>\n",
       "    </tr>\n",
       "    <tr>\n",
       "      <th>223</th>\n",
       "      <td>NaN</td>\n",
       "      <td>B</td>\n",
       "      <td>BLACK</td>\n",
       "      <td>11950</td>\n",
       "    </tr>\n",
       "    <tr>\n",
       "      <th>224</th>\n",
       "      <td>NaN</td>\n",
       "      <td>I</td>\n",
       "      <td>AMERICAN INDIAN/ALASKAN NATIVE</td>\n",
       "      <td>77</td>\n",
       "    </tr>\n",
       "    <tr>\n",
       "      <th>225</th>\n",
       "      <td>NaN</td>\n",
       "      <td>P</td>\n",
       "      <td>BLACK-HISPANIC</td>\n",
       "      <td>1409</td>\n",
       "    </tr>\n",
       "    <tr>\n",
       "      <th>226</th>\n",
       "      <td>NaN</td>\n",
       "      <td>Q</td>\n",
       "      <td>WHITE-HISPANIC</td>\n",
       "      <td>5090</td>\n",
       "    </tr>\n",
       "    <tr>\n",
       "      <th>227</th>\n",
       "      <td>NaN</td>\n",
       "      <td>W</td>\n",
       "      <td>WHITE</td>\n",
       "      <td>2514</td>\n",
       "    </tr>\n",
       "    <tr>\n",
       "      <th>229</th>\n",
       "      <td>NaN</td>\n",
       "      <td>Z</td>\n",
       "      <td>OTHER</td>\n",
       "      <td>298</td>\n",
       "    </tr>\n",
       "  </tbody>\n",
       "</table>\n",
       "</div>"
      ],
      "text/plain": [
       "    Field Name Value                           Label   race\n",
       "222        NaN     A          ASIAN/PACIFIC ISLANDER   1103\n",
       "223        NaN     B                           BLACK  11950\n",
       "224        NaN     I  AMERICAN INDIAN/ALASKAN NATIVE     77\n",
       "225        NaN     P                  BLACK-HISPANIC   1409\n",
       "226        NaN     Q                  WHITE-HISPANIC   5090\n",
       "227        NaN     W                           WHITE   2514\n",
       "229        NaN     Z                           OTHER    298"
      ]
     },
     "execution_count": 12,
     "metadata": {},
     "output_type": "execute_result"
    }
   ],
   "source": [
    "race = pd.merge(race_labels, s.to_frame(), how='inner', left_on='Value', right_index=True)\n",
    "race"
   ]
  },
  {
   "cell_type": "code",
   "execution_count": 13,
   "metadata": {
    "collapsed": false
   },
   "outputs": [
    {
     "data": {
      "text/plain": [
       "<matplotlib.text.Text at 0x1156bacd0>"
      ]
     },
     "execution_count": 13,
     "metadata": {},
     "output_type": "execute_result"
    },
    {
     "data": {
      "image/png": "[encoded data removed]",
      "text/plain": [
       "<matplotlib.figure.Figure at 0x115662cd0>"
      ]
     },
     "metadata": {},
     "output_type": "display_data"
    }
   ],
   "source": [
    "fig, ax = plt.subplots(1, 1, figsize=(7,4))\n",
    "plt.barh(range(race.shape[0]), race.race, align='center')\n",
    "plt.yticks(range(race.shape[0]), race.Label)\n",
    "plt.xlabel('Count')"
   ]
  },
  {
   "cell_type": "code",
   "execution_count": 14,
   "metadata": {
    "collapsed": false
   },
   "outputs": [
    {
     "data": {
      "text/plain": [
       "array(['1000091', ' 994617', ' 991510', ..., ' 989931', ' 995795',\n",
       "       '1036870'], dtype=object)"
      ]
     },
     "execution_count": 14,
     "metadata": {},
     "output_type": "execute_result"
    }
   ],
   "source": [
    "df.xcoord.values"
   ]
  },
  {
   "cell_type": "code",
   "execution_count": 15,
   "metadata": {
    "collapsed": false
   },
   "outputs": [
    {
     "data": {
      "text/plain": [
       "[<matplotlib.lines.Line2D at 0x115ceff10>]"
      ]
     },
     "execution_count": 15,
     "metadata": {},
     "output_type": "execute_result"
    },
    {
     "data": {
      "image/png": "[encoded data removed]",
      "text/plain": [
       "<matplotlib.figure.Figure at 0x115000990>"
      ]
     },
     "metadata": {},
     "output_type": "display_data"
    }
   ],
   "source": [
    "plt.plot([1,2,3],[5,1,2])"
   ]
  },
  {
   "cell_type": "code",
   "execution_count": 16,
   "metadata": {
    "collapsed": false
   },
   "outputs": [
    {
     "data": {
      "text/plain": [
       "dtype('O')"
      ]
     },
     "execution_count": 16,
     "metadata": {},
     "output_type": "execute_result"
    }
   ],
   "source": [
    "df.xcoord.dtype"
   ]
  },
  {
   "cell_type": "code",
   "execution_count": 17,
   "metadata": {
    "collapsed": false
   },
   "outputs": [
    {
     "data": {
      "text/plain": [
       "year          int64\n",
       "pct           int64\n",
       "ser_num       int64\n",
       "datestop     object\n",
       "timestop      int64\n",
       "recstat      object\n",
       "inout        object\n",
       "trhsloc      object\n",
       "perobs      float64\n",
       "crimsusp     object\n",
       "perstop      object\n",
       "typeofid     object\n",
       "explnstp     object\n",
       "othpers      object\n",
       "arstmade     object\n",
       "arstoffn     object\n",
       "sumissue     object\n",
       "sumoffen     object\n",
       "compyear      int64\n",
       "comppct       int64\n",
       "offunif      object\n",
       "officrid     object\n",
       "frisked      object\n",
       "searched     object\n",
       "contrabn     object\n",
       "adtlrept     object\n",
       "pistol       object\n",
       "riflshot     object\n",
       "asltweap     object\n",
       "knifcuti     object\n",
       "             ...   \n",
       "dob          object\n",
       "age           int64\n",
       "ht_feet       int64\n",
       "ht_inch       int64\n",
       "weight        int64\n",
       "haircolr     object\n",
       "eyecolor     object\n",
       "build        object\n",
       "othfeatr     object\n",
       "addrtyp      object\n",
       "rescode      object\n",
       "premtype     object\n",
       "premname     object\n",
       "addrnum      object\n",
       "stname       object\n",
       "stinter      object\n",
       "crossst      object\n",
       "aptnum       object\n",
       "city         object\n",
       "state        object\n",
       "zip          object\n",
       "addrpct       int64\n",
       "sector       object\n",
       "beat         object\n",
       "post         object\n",
       "xcoord       object\n",
       "ycoord       object\n",
       "dettypCM     object\n",
       "lineCM        int64\n",
       "detailCM      int64\n",
       "dtype: object"
      ]
     },
     "execution_count": 17,
     "metadata": {},
     "output_type": "execute_result"
    }
   ],
   "source": [
    "df.dtypes"
   ]
  },
  {
   "cell_type": "code",
   "execution_count": 23,
   "metadata": {
    "collapsed": false
   },
   "outputs": [
    {
     "data": {
      "text/plain": [
       "0         156314\n",
       "1         227693\n",
       "2         225019\n",
       "3         225019\n",
       "4         225019\n",
       "5         225019\n",
       "6         179416\n",
       "7         200020\n",
       "8         201066\n",
       "9         164979\n",
       "10        171801\n",
       "11        182366\n",
       "12        214690\n",
       "13        169830\n",
       "14        232339\n",
       "15        229289\n",
       "16        213806\n",
       "17        218368\n",
       "18        246760\n",
       "19        237510\n",
       "20        192060\n",
       "21        173740\n",
       "22        173740\n",
       "23        173740\n",
       "24        217852\n",
       "25        217852\n",
       "26        164071\n",
       "27        189164\n",
       "28        235656\n",
       "29        216313\n",
       "          ...   \n",
       "22533     168921\n",
       "22534     221867\n",
       "22535     161674\n",
       "22536     172217\n",
       "22537     168170\n",
       "22538     171957\n",
       "22539     208885\n",
       "22540     208885\n",
       "22541     208885\n",
       "22542     223272\n",
       "22543     252382\n",
       "22544     220905\n",
       "22545     192105\n",
       "22546     185128\n",
       "22547     210932\n",
       "22548     253744\n",
       "22549     177355\n",
       "22550     228899\n",
       "22551     230172\n",
       "22552     230172\n",
       "22553     194465\n",
       "22554     188293\n",
       "22555           \n",
       "22556           \n",
       "22557     257207\n",
       "22558     179818\n",
       "22559     192868\n",
       "22560     192868\n",
       "22561     217850\n",
       "22562     182369\n",
       "Name: ycoord, dtype: object"
      ]
     },
     "execution_count": 23,
     "metadata": {},
     "output_type": "execute_result"
    }
   ],
   "source": [
    "df.ycoord"
   ]
  },
  {
   "cell_type": "code",
   "execution_count": 27,
   "metadata": {
    "collapsed": false
   },
   "outputs": [
    {
     "ename": "ValueError",
     "evalue": "Buffer has wrong number of dimensions (expected 1, got 0)",
     "output_type": "error",
     "traceback": [
      "\u001b[0;31m---------------------------------------------------------------------------\u001b[0m",
      "\u001b[0;31mValueError\u001b[0m                                Traceback (most recent call last)",
      "\u001b[0;32m<ipython-input-27-551995ab3986>\u001b[0m in \u001b[0;36m<module>\u001b[0;34m()\u001b[0m\n\u001b[0;32m----> 1\u001b[0;31m \u001b[0mdf\u001b[0m\u001b[0;34m[\u001b[0m\u001b[0;34m'xcoord'\u001b[0m\u001b[0;34m]\u001b[0m \u001b[0;34m=\u001b[0m \u001b[0mpd\u001b[0m\u001b[0;34m.\u001b[0m\u001b[0mto_numeric\u001b[0m\u001b[0;34m(\u001b[0m\u001b[0mdf\u001b[0m\u001b[0;34m[\u001b[0m\u001b[0;34m'xcoord'\u001b[0m\u001b[0;34m]\u001b[0m\u001b[0;34m.\u001b[0m\u001b[0mfillna\u001b[0m\u001b[0;34m(\u001b[0m\u001b[0;36m0\u001b[0m\u001b[0;34m,\u001b[0m \u001b[0minplace\u001b[0m\u001b[0;34m=\u001b[0m\u001b[0mTrue\u001b[0m\u001b[0;34m)\u001b[0m\u001b[0;34m)\u001b[0m\u001b[0;34m\u001b[0m\u001b[0m\n\u001b[0m\u001b[1;32m      2\u001b[0m \u001b[0mdf\u001b[0m\u001b[0;34m[\u001b[0m\u001b[0;34m'ycoord'\u001b[0m\u001b[0;34m]\u001b[0m \u001b[0;34m=\u001b[0m \u001b[0mpd\u001b[0m\u001b[0;34m.\u001b[0m\u001b[0mto_numeric\u001b[0m\u001b[0;34m(\u001b[0m\u001b[0mdf\u001b[0m\u001b[0;34m[\u001b[0m\u001b[0;34m'ycoord'\u001b[0m\u001b[0;34m]\u001b[0m\u001b[0;34m.\u001b[0m\u001b[0mfillna\u001b[0m\u001b[0;34m(\u001b[0m\u001b[0;36m0\u001b[0m\u001b[0;34m,\u001b[0m \u001b[0minplace\u001b[0m\u001b[0;34m=\u001b[0m\u001b[0mTrue\u001b[0m\u001b[0;34m)\u001b[0m\u001b[0;34m)\u001b[0m\u001b[0;34m\u001b[0m\u001b[0m\n",
      "\u001b[0;32m/Users/jhalverson/software/anaconda/lib/python2.7/site-packages/pandas/tools/util.pyc\u001b[0m in \u001b[0;36mto_numeric\u001b[0;34m(arg, errors)\u001b[0m\n\u001b[1;32m    113\u001b[0m         \u001b[0;32mtry\u001b[0m\u001b[0;34m:\u001b[0m\u001b[0;34m\u001b[0m\u001b[0m\n\u001b[1;32m    114\u001b[0m             values = lib.maybe_convert_numeric(values, set(),\n\u001b[0;32m--> 115\u001b[0;31m                                                coerce_numeric=coerce_numeric)\n\u001b[0m\u001b[1;32m    116\u001b[0m         \u001b[0;32mexcept\u001b[0m\u001b[0;34m:\u001b[0m\u001b[0;34m\u001b[0m\u001b[0m\n\u001b[1;32m    117\u001b[0m             \u001b[0;32mif\u001b[0m \u001b[0merrors\u001b[0m \u001b[0;34m==\u001b[0m \u001b[0;34m'raise'\u001b[0m\u001b[0;34m:\u001b[0m\u001b[0;34m\u001b[0m\u001b[0m\n",
      "\u001b[0;32mpandas/src/inference.pyx\u001b[0m in \u001b[0;36mpandas.lib.maybe_convert_numeric (pandas/lib.c:52460)\u001b[0;34m()\u001b[0m\n",
      "\u001b[0;31mValueError\u001b[0m: Buffer has wrong number of dimensions (expected 1, got 0)"
     ]
    }
   ],
   "source": [
    "df['xcoord'] = pd.to_numeric(df['xcoord'].fillna(0, inplace=True))\n",
    "df['ycoord'] = pd.to_numeric(df['ycoord'].fillna(0, inplace=True))"
   ]
  },
  {
   "cell_type": "code",
   "execution_count": null,
   "metadata": {
    "collapsed": false
   },
   "outputs": [],
   "source": [
    "plt.plot(df.xcoord, df.ycoord, 'r.')"
   ]
  },
  {
   "cell_type": "code",
   "execution_count": null,
   "metadata": {
    "collapsed": false
   },
   "outputs": [],
   "source": [
    "[(x, y) for x, y in zip(df.xcoord, df.ycoord)]"
   ]
  },
  {
   "cell_type": "code",
   "execution_count": 30,
   "metadata": {
    "collapsed": false
   },
   "outputs": [],
   "source": [
    "df['ycoord'].fillna(0, inplace=True)"
   ]
  },
  {
   "cell_type": "code",
   "execution_count": 32,
   "metadata": {
    "collapsed": false
   },
   "outputs": [
    {
     "data": {
      "text/plain": [
       "0        False\n",
       "1        False\n",
       "2        False\n",
       "3        False\n",
       "4        False\n",
       "5        False\n",
       "6        False\n",
       "7        False\n",
       "8        False\n",
       "9        False\n",
       "10       False\n",
       "11       False\n",
       "12       False\n",
       "13       False\n",
       "14       False\n",
       "15       False\n",
       "16       False\n",
       "17       False\n",
       "18       False\n",
       "19       False\n",
       "20       False\n",
       "21       False\n",
       "22       False\n",
       "23       False\n",
       "24       False\n",
       "25       False\n",
       "26       False\n",
       "27       False\n",
       "28       False\n",
       "29       False\n",
       "         ...  \n",
       "22533    False\n",
       "22534    False\n",
       "22535    False\n",
       "22536    False\n",
       "22537    False\n",
       "22538    False\n",
       "22539    False\n",
       "22540    False\n",
       "22541    False\n",
       "22542    False\n",
       "22543    False\n",
       "22544    False\n",
       "22545    False\n",
       "22546    False\n",
       "22547    False\n",
       "22548    False\n",
       "22549    False\n",
       "22550    False\n",
       "22551    False\n",
       "22552    False\n",
       "22553    False\n",
       "22554    False\n",
       "22555    False\n",
       "22556    False\n",
       "22557    False\n",
       "22558    False\n",
       "22559    False\n",
       "22560    False\n",
       "22561    False\n",
       "22562    False\n",
       "Name: ycoord, dtype: bool"
      ]
     },
     "execution_count": 32,
     "metadata": {},
     "output_type": "execute_result"
    }
   ],
   "source": [
    "df.ycoord.isnull()"
   ]
  },
  {
   "cell_type": "code",
   "execution_count": null,
   "metadata": {
    "collapsed": true
   },
   "outputs": [],
   "source": []
  }
 ],
 "metadata": {
  "anaconda-cloud": {},
  "kernelspec": {
   "display_name": "Python [conda root]",
   "language": "python",
   "name": "conda-root-py"
  },
  "language_info": {
   "codemirror_mode": {
    "name": "ipython",
    "version": 2
   },
   "file_extension": ".py",
   "mimetype": "text/x-python",
   "name": "python",
   "nbconvert_exporter": "python",
   "pygments_lexer": "ipython2",
   "version": "2.7.12"
  }
 },
 "nbformat": 4,
 "nbformat_minor": 1
}
