{
 "cells": [
  {
   "cell_type": "markdown",
   "metadata": {},
   "source": [
    "# Jonathan Halverson\n",
    "# Tuesday, November 22, 2016\n",
    "# Flight delay data"
   ]
  },
  {
   "cell_type": "code",
   "execution_count": 1,
   "metadata": {
    "collapsed": true
   },
   "outputs": [],
   "source": [
    "import numpy as np\n",
    "import pandas as pd\n",
    "import matplotlib.pyplot as plt\n",
    "%matplotlib inline\n",
    "plt.style.use('halverson')"
   ]
  },
  {
   "cell_type": "markdown",
   "metadata": {},
   "source": [
    "### Load the flights data file"
   ]
  },
  {
   "cell_type": "markdown",
   "metadata": {},
   "source": [
    "The flights.csv contains flight statistics for April 2014 with the following fields:\n",
    "\n",
    "- flight date     (yyyy-mm-dd)\n",
    "- airline id      (lookup in airlines.csv)\n",
    "- flight num\n",
    "- origin          (lookup in airports.csv)\n",
    "- destination     (lookup in airports.csv)\n",
    "- departure time  (HHMM)\n",
    "- departure delay (minutes)\n",
    "- arrival time    (HHMM)\n",
    "- arrival delay   (minutes)\n",
    "- air time        (minutes)\n",
    "- distance        (miles)"
   ]
  },
  {
   "cell_type": "code",
   "execution_count": 9,
   "metadata": {
    "collapsed": false
   },
   "outputs": [],
   "source": [
    "names = ['flight_date', 'airline_id', 'flight_num', 'origin', 'destination',\n",
    "         'departure_time', 'departure_delay', 'arrival_time', 'arrival_delay', 'air_time', 'distance']"
   ]
  },
  {
   "cell_type": "code",
   "execution_count": 13,
   "metadata": {
    "collapsed": false
   },
   "outputs": [
    {
     "data": {
      "text/html": [
       "<div>\n",
       "<table border=\"1\" class=\"dataframe\">\n",
       "  <thead>\n",
       "    <tr style=\"text-align: right;\">\n",
       "      <th></th>\n",
       "      <th>flight_date</th>\n",
       "      <th>airline_id</th>\n",
       "      <th>flight_num</th>\n",
       "      <th>origin</th>\n",
       "      <th>destination</th>\n",
       "      <th>departure_time</th>\n",
       "      <th>departure_delay</th>\n",
       "      <th>arrival_time</th>\n",
       "      <th>arrival_delay</th>\n",
       "      <th>air_time</th>\n",
       "      <th>distance</th>\n",
       "    </tr>\n",
       "  </thead>\n",
       "  <tbody>\n",
       "    <tr>\n",
       "      <th>0</th>\n",
       "      <td>2014-04-01</td>\n",
       "      <td>19805</td>\n",
       "      <td>1</td>\n",
       "      <td>JFK</td>\n",
       "      <td>LAX</td>\n",
       "      <td>854</td>\n",
       "      <td>-6.0</td>\n",
       "      <td>1217</td>\n",
       "      <td>2.0</td>\n",
       "      <td>355.0</td>\n",
       "      <td>2475.0</td>\n",
       "    </tr>\n",
       "    <tr>\n",
       "      <th>1</th>\n",
       "      <td>2014-04-01</td>\n",
       "      <td>19805</td>\n",
       "      <td>2</td>\n",
       "      <td>LAX</td>\n",
       "      <td>JFK</td>\n",
       "      <td>944</td>\n",
       "      <td>14.0</td>\n",
       "      <td>1736</td>\n",
       "      <td>-29.0</td>\n",
       "      <td>269.0</td>\n",
       "      <td>2475.0</td>\n",
       "    </tr>\n",
       "    <tr>\n",
       "      <th>2</th>\n",
       "      <td>2014-04-01</td>\n",
       "      <td>19805</td>\n",
       "      <td>3</td>\n",
       "      <td>JFK</td>\n",
       "      <td>LAX</td>\n",
       "      <td>1224</td>\n",
       "      <td>-6.0</td>\n",
       "      <td>1614</td>\n",
       "      <td>39.0</td>\n",
       "      <td>371.0</td>\n",
       "      <td>2475.0</td>\n",
       "    </tr>\n",
       "  </tbody>\n",
       "</table>\n",
       "</div>"
      ],
      "text/plain": [
       "  flight_date  airline_id  flight_num origin destination  departure_time  \\\n",
       "0  2014-04-01       19805           1    JFK         LAX             854   \n",
       "1  2014-04-01       19805           2    LAX         JFK             944   \n",
       "2  2014-04-01       19805           3    JFK         LAX            1224   \n",
       "\n",
       "   departure_delay  arrival_time  arrival_delay  air_time  distance  \n",
       "0             -6.0          1217            2.0     355.0    2475.0  \n",
       "1             14.0          1736          -29.0     269.0    2475.0  \n",
       "2             -6.0          1614           39.0     371.0    2475.0  "
      ]
     },
     "execution_count": 13,
     "metadata": {},
     "output_type": "execute_result"
    }
   ],
   "source": [
    "flights_raw = pd.read_csv('flights.csv', parse_dates=True, names=names)\n",
    "flights_raw.head(3)"
   ]
  },
  {
   "cell_type": "code",
   "execution_count": 15,
   "metadata": {
    "collapsed": false
   },
   "outputs": [
    {
     "data": {
      "text/html": [
       "<div>\n",
       "<table border=\"1\" class=\"dataframe\">\n",
       "  <thead>\n",
       "    <tr style=\"text-align: right;\">\n",
       "      <th></th>\n",
       "      <th>airline_id</th>\n",
       "      <th>flight_num</th>\n",
       "      <th>departure_time</th>\n",
       "      <th>departure_delay</th>\n",
       "      <th>arrival_time</th>\n",
       "      <th>arrival_delay</th>\n",
       "      <th>air_time</th>\n",
       "      <th>distance</th>\n",
       "    </tr>\n",
       "  </thead>\n",
       "  <tbody>\n",
       "    <tr>\n",
       "      <th>count</th>\n",
       "      <td>476881.000000</td>\n",
       "      <td>476881.000000</td>\n",
       "      <td>476881.000000</td>\n",
       "      <td>476881.000000</td>\n",
       "      <td>476881.000000</td>\n",
       "      <td>476881.000000</td>\n",
       "      <td>476881.000000</td>\n",
       "      <td>476881.000000</td>\n",
       "    </tr>\n",
       "    <tr>\n",
       "      <th>mean</th>\n",
       "      <td>19990.467498</td>\n",
       "      <td>2245.926028</td>\n",
       "      <td>1334.179537</td>\n",
       "      <td>8.313877</td>\n",
       "      <td>1485.241849</td>\n",
       "      <td>4.728578</td>\n",
       "      <td>111.049214</td>\n",
       "      <td>794.858501</td>\n",
       "    </tr>\n",
       "    <tr>\n",
       "      <th>std</th>\n",
       "      <td>398.494560</td>\n",
       "      <td>1841.066184</td>\n",
       "      <td>483.036281</td>\n",
       "      <td>33.345316</td>\n",
       "      <td>509.408145</td>\n",
       "      <td>35.507045</td>\n",
       "      <td>71.546394</td>\n",
       "      <td>596.005328</td>\n",
       "    </tr>\n",
       "    <tr>\n",
       "      <th>min</th>\n",
       "      <td>19393.000000</td>\n",
       "      <td>1.000000</td>\n",
       "      <td>0.000000</td>\n",
       "      <td>-55.000000</td>\n",
       "      <td>0.000000</td>\n",
       "      <td>-88.000000</td>\n",
       "      <td>8.000000</td>\n",
       "      <td>31.000000</td>\n",
       "    </tr>\n",
       "    <tr>\n",
       "      <th>25%</th>\n",
       "      <td>19790.000000</td>\n",
       "      <td>687.000000</td>\n",
       "      <td>926.000000</td>\n",
       "      <td>-5.000000</td>\n",
       "      <td>1107.000000</td>\n",
       "      <td>-12.000000</td>\n",
       "      <td>59.000000</td>\n",
       "      <td>361.000000</td>\n",
       "    </tr>\n",
       "    <tr>\n",
       "      <th>50%</th>\n",
       "      <td>19977.000000</td>\n",
       "      <td>1696.000000</td>\n",
       "      <td>1327.000000</td>\n",
       "      <td>-2.000000</td>\n",
       "      <td>1517.000000</td>\n",
       "      <td>-4.000000</td>\n",
       "      <td>91.000000</td>\n",
       "      <td>627.000000</td>\n",
       "    </tr>\n",
       "    <tr>\n",
       "      <th>75%</th>\n",
       "      <td>20366.000000</td>\n",
       "      <td>3486.000000</td>\n",
       "      <td>1733.000000</td>\n",
       "      <td>8.000000</td>\n",
       "      <td>1914.000000</td>\n",
       "      <td>9.000000</td>\n",
       "      <td>141.000000</td>\n",
       "      <td>1024.000000</td>\n",
       "    </tr>\n",
       "    <tr>\n",
       "      <th>max</th>\n",
       "      <td>21171.000000</td>\n",
       "      <td>8406.000000</td>\n",
       "      <td>2359.000000</td>\n",
       "      <td>1696.000000</td>\n",
       "      <td>2359.000000</td>\n",
       "      <td>1793.000000</td>\n",
       "      <td>664.000000</td>\n",
       "      <td>4983.000000</td>\n",
       "    </tr>\n",
       "  </tbody>\n",
       "</table>\n",
       "</div>"
      ],
      "text/plain": [
       "          airline_id     flight_num  departure_time  departure_delay  \\\n",
       "count  476881.000000  476881.000000   476881.000000    476881.000000   \n",
       "mean    19990.467498    2245.926028     1334.179537         8.313877   \n",
       "std       398.494560    1841.066184      483.036281        33.345316   \n",
       "min     19393.000000       1.000000        0.000000       -55.000000   \n",
       "25%     19790.000000     687.000000      926.000000        -5.000000   \n",
       "50%     19977.000000    1696.000000     1327.000000        -2.000000   \n",
       "75%     20366.000000    3486.000000     1733.000000         8.000000   \n",
       "max     21171.000000    8406.000000     2359.000000      1696.000000   \n",
       "\n",
       "        arrival_time  arrival_delay       air_time       distance  \n",
       "count  476881.000000  476881.000000  476881.000000  476881.000000  \n",
       "mean     1485.241849       4.728578     111.049214     794.858501  \n",
       "std       509.408145      35.507045      71.546394     596.005328  \n",
       "min         0.000000     -88.000000       8.000000      31.000000  \n",
       "25%      1107.000000     -12.000000      59.000000     361.000000  \n",
       "50%      1517.000000      -4.000000      91.000000     627.000000  \n",
       "75%      1914.000000       9.000000     141.000000    1024.000000  \n",
       "max      2359.000000    1793.000000     664.000000    4983.000000  "
      ]
     },
     "execution_count": 15,
     "metadata": {},
     "output_type": "execute_result"
    }
   ],
   "source": [
    "flights_raw.describe()"
   ]
  },
  {
   "cell_type": "code",
   "execution_count": 22,
   "metadata": {
    "collapsed": false
   },
   "outputs": [
    {
     "data": {
      "text/plain": [
       "<matplotlib.text.Text at 0x121294750>"
      ]
     },
     "execution_count": 22,
     "metadata": {},
     "output_type": "execute_result"
    },
    {
     "data": {
      "image/png": "[encoded data removed]",
      "text/plain": [
       "<matplotlib.figure.Figure at 0x121146fd0>"
      ]
     },
     "metadata": {},
     "output_type": "display_data"
    }
   ],
   "source": [
    "_ = plt.hist(flights_raw.arrival_delay, bins=50, range=[-100, 250])\n",
    "plt.xlabel('Arrival Delay (minutes)')\n",
    "plt.ylabel('Count')"
   ]
  },
  {
   "cell_type": "markdown",
   "metadata": {},
   "source": [
    "### Load the airlines data"
   ]
  },
  {
   "cell_type": "code",
   "execution_count": 25,
   "metadata": {
    "collapsed": false
   },
   "outputs": [
    {
     "data": {
      "text/html": [
       "<div>\n",
       "<table border=\"1\" class=\"dataframe\">\n",
       "  <thead>\n",
       "    <tr style=\"text-align: right;\">\n",
       "      <th></th>\n",
       "      <th>Code</th>\n",
       "      <th>Description</th>\n",
       "    </tr>\n",
       "  </thead>\n",
       "  <tbody>\n",
       "    <tr>\n",
       "      <th>0</th>\n",
       "      <td>19031</td>\n",
       "      <td>Mackey International Inc.: MAC</td>\n",
       "    </tr>\n",
       "    <tr>\n",
       "      <th>1</th>\n",
       "      <td>19032</td>\n",
       "      <td>Munz Northern Airlines Inc.: XY</td>\n",
       "    </tr>\n",
       "    <tr>\n",
       "      <th>2</th>\n",
       "      <td>19033</td>\n",
       "      <td>Cochise Airlines Inc.: COC</td>\n",
       "    </tr>\n",
       "  </tbody>\n",
       "</table>\n",
       "</div>"
      ],
      "text/plain": [
       "    Code                      Description\n",
       "0  19031   Mackey International Inc.: MAC\n",
       "1  19032  Munz Northern Airlines Inc.: XY\n",
       "2  19033       Cochise Airlines Inc.: COC"
      ]
     },
     "execution_count": 25,
     "metadata": {},
     "output_type": "execute_result"
    }
   ],
   "source": [
    "airlines_raw = pd.read_csv('airlines.csv')\n",
    "airlines_raw.head(3)"
   ]
  },
  {
   "cell_type": "markdown",
   "metadata": {},
   "source": [
    "### Load the airports data"
   ]
  },
  {
   "cell_type": "code",
   "execution_count": 24,
   "metadata": {
    "collapsed": false
   },
   "outputs": [
    {
     "data": {
      "text/html": [
       "<div>\n",
       "<table border=\"1\" class=\"dataframe\">\n",
       "  <thead>\n",
       "    <tr style=\"text-align: right;\">\n",
       "      <th></th>\n",
       "      <th>Code</th>\n",
       "      <th>Description</th>\n",
       "    </tr>\n",
       "  </thead>\n",
       "  <tbody>\n",
       "    <tr>\n",
       "      <th>0</th>\n",
       "      <td>01A</td>\n",
       "      <td>Afognak Lake, AK: Afognak Lake Airport</td>\n",
       "    </tr>\n",
       "    <tr>\n",
       "      <th>1</th>\n",
       "      <td>03A</td>\n",
       "      <td>Granite Mountain, AK: Bear Creek Mining Strip</td>\n",
       "    </tr>\n",
       "    <tr>\n",
       "      <th>2</th>\n",
       "      <td>04A</td>\n",
       "      <td>Lik, AK: Lik Mining Camp</td>\n",
       "    </tr>\n",
       "  </tbody>\n",
       "</table>\n",
       "</div>"
      ],
      "text/plain": [
       "  Code                                    Description\n",
       "0  01A         Afognak Lake, AK: Afognak Lake Airport\n",
       "1  03A  Granite Mountain, AK: Bear Creek Mining Strip\n",
       "2  04A                       Lik, AK: Lik Mining Camp"
      ]
     },
     "execution_count": 24,
     "metadata": {},
     "output_type": "execute_result"
    }
   ],
   "source": [
    "airports_raw = pd.read_csv('airports.csv')\n",
    "airports_raw.head(3)"
   ]
  },
  {
   "cell_type": "code",
   "execution_count": 27,
   "metadata": {
    "collapsed": false
   },
   "outputs": [
    {
     "data": {
      "text/html": [
       "<div>\n",
       "<table border=\"1\" class=\"dataframe\">\n",
       "  <thead>\n",
       "    <tr style=\"text-align: right;\">\n",
       "      <th></th>\n",
       "      <th>flight_date</th>\n",
       "      <th>airline_id</th>\n",
       "      <th>flight_num</th>\n",
       "      <th>origin</th>\n",
       "      <th>destination</th>\n",
       "      <th>departure_time</th>\n",
       "      <th>departure_delay</th>\n",
       "      <th>arrival_time</th>\n",
       "      <th>arrival_delay</th>\n",
       "      <th>air_time</th>\n",
       "      <th>distance</th>\n",
       "      <th>Code</th>\n",
       "      <th>Description</th>\n",
       "    </tr>\n",
       "  </thead>\n",
       "  <tbody>\n",
       "    <tr>\n",
       "      <th>0</th>\n",
       "      <td>2014-04-01</td>\n",
       "      <td>19805</td>\n",
       "      <td>1</td>\n",
       "      <td>JFK</td>\n",
       "      <td>LAX</td>\n",
       "      <td>854</td>\n",
       "      <td>-6.0</td>\n",
       "      <td>1217</td>\n",
       "      <td>2.0</td>\n",
       "      <td>355.0</td>\n",
       "      <td>2475.0</td>\n",
       "      <td>19805</td>\n",
       "      <td>American Airlines Inc.: AA</td>\n",
       "    </tr>\n",
       "    <tr>\n",
       "      <th>1</th>\n",
       "      <td>2014-04-01</td>\n",
       "      <td>19805</td>\n",
       "      <td>2</td>\n",
       "      <td>LAX</td>\n",
       "      <td>JFK</td>\n",
       "      <td>944</td>\n",
       "      <td>14.0</td>\n",
       "      <td>1736</td>\n",
       "      <td>-29.0</td>\n",
       "      <td>269.0</td>\n",
       "      <td>2475.0</td>\n",
       "      <td>19805</td>\n",
       "      <td>American Airlines Inc.: AA</td>\n",
       "    </tr>\n",
       "    <tr>\n",
       "      <th>2</th>\n",
       "      <td>2014-04-01</td>\n",
       "      <td>19805</td>\n",
       "      <td>3</td>\n",
       "      <td>JFK</td>\n",
       "      <td>LAX</td>\n",
       "      <td>1224</td>\n",
       "      <td>-6.0</td>\n",
       "      <td>1614</td>\n",
       "      <td>39.0</td>\n",
       "      <td>371.0</td>\n",
       "      <td>2475.0</td>\n",
       "      <td>19805</td>\n",
       "      <td>American Airlines Inc.: AA</td>\n",
       "    </tr>\n",
       "  </tbody>\n",
       "</table>\n",
       "</div>"
      ],
      "text/plain": [
       "  flight_date  airline_id  flight_num origin destination  departure_time  \\\n",
       "0  2014-04-01       19805           1    JFK         LAX             854   \n",
       "1  2014-04-01       19805           2    LAX         JFK             944   \n",
       "2  2014-04-01       19805           3    JFK         LAX            1224   \n",
       "\n",
       "   departure_delay  arrival_time  arrival_delay  air_time  distance   Code  \\\n",
       "0             -6.0          1217            2.0     355.0    2475.0  19805   \n",
       "1             14.0          1736          -29.0     269.0    2475.0  19805   \n",
       "2             -6.0          1614           39.0     371.0    2475.0  19805   \n",
       "\n",
       "                  Description  \n",
       "0  American Airlines Inc.: AA  \n",
       "1  American Airlines Inc.: AA  \n",
       "2  American Airlines Inc.: AA  "
      ]
     },
     "execution_count": 27,
     "metadata": {},
     "output_type": "execute_result"
    }
   ],
   "source": [
    "flights = flights_raw.merge(airlines_raw, left_on='airline_id', right_on='Code', how='inner')\n",
    "flights.head(3)"
   ]
  },
  {
   "cell_type": "code",
   "execution_count": 50,
   "metadata": {
    "collapsed": false
   },
   "outputs": [],
   "source": [
    "avg_delay_by_airline = flights.groupby('Description').agg({'arrival_delay': [np.size, np.mean]})\n",
    "avg_delay_by_airline.sort_values([('arrival_delay', 'mean')], ascending=True, inplace=True)"
   ]
  },
  {
   "cell_type": "code",
   "execution_count": 53,
   "metadata": {
    "collapsed": false
   },
   "outputs": [
    {
     "data": {
      "text/plain": [
       "<matplotlib.text.Text at 0x122014ed0>"
      ]
     },
     "execution_count": 53,
     "metadata": {},
     "output_type": "execute_result"
    },
    {
     "data": {
      "image/png": "[encoded data removed]",
      "text/plain": [
       "<matplotlib.figure.Figure at 0x12075b310>"
      ]
     },
     "metadata": {},
     "output_type": "display_data"
    }
   ],
   "source": [
    "ints = [i for i in range(len(avg_delay_by_airline.index))]\n",
    "plt.barh(ints, avg_delay_by_airline[('arrival_delay', 'mean')].values)\n",
    "plt.yticks(ints, avg_delay_by_airline.index)\n",
    "plt.xlabel('Arrival Delay (Minutes)')"
   ]
  }
 ],
 "metadata": {
  "kernelspec": {
   "display_name": "Python 2",
   "language": "python",
   "name": "python2"
  },
  "language_info": {
   "codemirror_mode": {
    "name": "ipython",
    "version": 2
   },
   "file_extension": ".py",
   "mimetype": "text/x-python",
   "name": "python",
   "nbconvert_exporter": "python",
   "pygments_lexer": "ipython2",
   "version": "2.7.10"
  }
 },
 "nbformat": 4,
 "nbformat_minor": 0
}
