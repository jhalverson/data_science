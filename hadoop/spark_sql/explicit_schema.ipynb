{
 "cells": [
  {
   "cell_type": "markdown",
   "metadata": {},
   "source": [
    "# Jonathan Halverson\n",
    "# Monday, December 26, 2016\n",
    "# Creating a schema"
   ]
  },
  {
   "cell_type": "code",
   "execution_count": 17,
   "metadata": {
    "collapsed": true
   },
   "outputs": [],
   "source": [
    "from pyspark.sql import SparkSession\n",
    "spark = SparkSession.builder.master(\"local\").appName(\"Schema\").getOrCreate()"
   ]
  },
  {
   "cell_type": "code",
   "execution_count": 18,
   "metadata": {
    "collapsed": false
   },
   "outputs": [
    {
     "data": {
      "text/plain": [
       "pyspark.sql.session.SparkSession"
      ]
     },
     "execution_count": 18,
     "metadata": {},
     "output_type": "execute_result"
    }
   ],
   "source": [
    "type(spark)"
   ]
  },
  {
   "cell_type": "code",
   "execution_count": 19,
   "metadata": {
    "collapsed": false
   },
   "outputs": [
    {
     "name": "stdout",
     "output_type": "stream",
     "text": [
      "root\n",
      " |-- _c0: string (nullable = true)\n",
      " |-- _c1: string (nullable = true)\n",
      " |-- _c2: string (nullable = true)\n",
      " |-- _c3: string (nullable = true)\n",
      " |-- _c4: string (nullable = true)\n",
      " |-- _c5: string (nullable = true)\n",
      "\n"
     ]
    }
   ],
   "source": [
    "cars = spark.read.csv('cars.dat', header=False, inferSchema=False)\n",
    "cars.printSchema()"
   ]
  },
  {
   "cell_type": "code",
   "execution_count": 20,
   "metadata": {
    "collapsed": false
   },
   "outputs": [
    {
     "name": "stdout",
     "output_type": "stream",
     "text": [
      "root\n",
      " |-- _c0: string (nullable = true)\n",
      " |-- _c1: string (nullable = true)\n",
      " |-- _c2: integer (nullable = true)\n",
      " |-- _c3: integer (nullable = true)\n",
      " |-- _c4: double (nullable = true)\n",
      " |-- _c5: string (nullable = true)\n",
      "\n"
     ]
    }
   ],
   "source": [
    "cars = spark.read.csv('cars.dat', header=False, inferSchema=True)\n",
    "cars.printSchema()"
   ]
  },
  {
   "cell_type": "code",
   "execution_count": 21,
   "metadata": {
    "collapsed": false
   },
   "outputs": [
    {
     "name": "stdout",
     "output_type": "stream",
     "text": [
      "+-----+------+-----+---+------+---+\n",
      "|  _c0|   _c1|  _c2|_c3|   _c4|_c5|\n",
      "+-----+------+-----+---+------+---+\n",
      "|Sedan| Camry|31000|  2| 65.91|  D|\n",
      "|Sedan| Civic|27000|  1| 99.05|  D|\n",
      "|Truck|  F150|40500|  3|1100.0|  E|\n",
      "|Truck|Ranger|32000|  3| 950.0|  E|\n",
      "+-----+------+-----+---+------+---+\n",
      "\n"
     ]
    }
   ],
   "source": [
    "cars.show()"
   ]
  },
  {
   "cell_type": "code",
   "execution_count": 22,
   "metadata": {
    "collapsed": true
   },
   "outputs": [],
   "source": [
    "from pyspark.sql.types import StructType, StructField\n",
    "from pyspark.sql.types import StringType, DoubleType, IntegerType\n",
    "\n",
    "fields = [StructField(\"Vehicle\", StringType(), True),\n",
    "          StructField(\"Model\", StringType(), True),\n",
    "          StructField(\"Cost\", IntegerType(), True),\n",
    "          StructField(\"Type\", IntegerType(), True),\n",
    "          StructField(\"Labor\", DoubleType(), True),\n",
    "          StructField(\"Class\", StringType(), True)]\n",
    "schema_ = StructType(fields)"
   ]
  },
  {
   "cell_type": "code",
   "execution_count": 23,
   "metadata": {
    "collapsed": false
   },
   "outputs": [
    {
     "name": "stdout",
     "output_type": "stream",
     "text": [
      "root\n",
      " |-- Vehicle: string (nullable = true)\n",
      " |-- Model: string (nullable = true)\n",
      " |-- Cost: integer (nullable = true)\n",
      " |-- Type: integer (nullable = true)\n",
      " |-- Labor: double (nullable = true)\n",
      " |-- Class: string (nullable = true)\n",
      "\n"
     ]
    }
   ],
   "source": [
    "cars = spark.read.csv('cars.dat', schema=schema_, header=False, inferSchema=False)\n",
    "cars.printSchema()"
   ]
  },
  {
   "cell_type": "code",
   "execution_count": 24,
   "metadata": {
    "collapsed": false
   },
   "outputs": [
    {
     "name": "stdout",
     "output_type": "stream",
     "text": [
      "+-------+------+-----+----+------+-----+\n",
      "|Vehicle| Model| Cost|Type| Labor|Class|\n",
      "+-------+------+-----+----+------+-----+\n",
      "|  Sedan| Camry|31000|   2| 65.91|    D|\n",
      "|  Sedan| Civic|27000|   1| 99.05|    D|\n",
      "|  Truck|  F150|40500|   3|1100.0|    E|\n",
      "|  Truck|Ranger|32000|   3| 950.0|    E|\n",
      "+-------+------+-----+----+------+-----+\n",
      "\n"
     ]
    }
   ],
   "source": [
    "cars.show()"
   ]
  },
  {
   "cell_type": "markdown",
   "metadata": {},
   "source": [
    "Compute the Pearson correlation:"
   ]
  },
  {
   "cell_type": "code",
   "execution_count": 25,
   "metadata": {
    "collapsed": false
   },
   "outputs": [
    {
     "data": {
      "text/plain": [
       "0.7936960369307345"
      ]
     },
     "execution_count": 25,
     "metadata": {},
     "output_type": "execute_result"
    }
   ],
   "source": [
    "cars.corr(\"Cost\", \"Labor\")"
   ]
  },
  {
   "cell_type": "code",
   "execution_count": 26,
   "metadata": {
    "collapsed": false
   },
   "outputs": [
    {
     "name": "stdout",
     "output_type": "stream",
     "text": [
      "+-------------+-----+-----+----+------+\n",
      "|Vehicle_Model|Camry|Civic|F150|Ranger|\n",
      "+-------------+-----+-----+----+------+\n",
      "|        Sedan|    1|    1|   0|     0|\n",
      "|        Truck|    0|    0|   1|     1|\n",
      "+-------------+-----+-----+----+------+\n",
      "\n"
     ]
    }
   ],
   "source": [
    "cars.crosstab('Vehicle', 'Model').show()"
   ]
  },
  {
   "cell_type": "markdown",
   "metadata": {},
   "source": [
    "Add a column:"
   ]
  },
  {
   "cell_type": "code",
   "execution_count": 27,
   "metadata": {
    "collapsed": false
   },
   "outputs": [
    {
     "name": "stdout",
     "output_type": "stream",
     "text": [
      "+-------+------+-----+----+------+-----+------+-------+\n",
      "|Vehicle| Model| Cost|Type| Labor|Class|newCol|twoCost|\n",
      "+-------+------+-----+----+------+-----+------+-------+\n",
      "|  Sedan| Camry|31000|   2| 65.91|    D| 62000|31000.0|\n",
      "|  Sedan| Civic|27000|   1| 99.05|    D| 54000|27000.0|\n",
      "|  Truck|  F150|40500|   3|1100.0|    E| 81000|40500.0|\n",
      "|  Truck|Ranger|32000|   3| 950.0|    E| 64000|32000.0|\n",
      "+-------+------+-----+----+------+-----+------+-------+\n",
      "\n"
     ]
    }
   ],
   "source": [
    "cars.withColumn('newCol', cars.Cost * 2).withColumn('twoCost', cars.Cost.cast('float')).show()"
   ]
  },
  {
   "cell_type": "code",
   "execution_count": 28,
   "metadata": {
    "collapsed": false
   },
   "outputs": [
    {
     "name": "stdout",
     "output_type": "stream",
     "text": [
      "+------+-----+\n",
      "| Model| Cost|\n",
      "+------+-----+\n",
      "| Camry|31000|\n",
      "| Civic|27000|\n",
      "|Ranger|32000|\n",
      "+------+-----+\n",
      "\n"
     ]
    }
   ],
   "source": [
    "cars.filter(cars.Cost < 35000).select('Model', 'Cost').show()"
   ]
  },
  {
   "cell_type": "code",
   "execution_count": 29,
   "metadata": {
    "collapsed": false
   },
   "outputs": [
    {
     "name": "stdout",
     "output_type": "stream",
     "text": [
      "+------+-----+\n",
      "| Model|Class|\n",
      "+------+-----+\n",
      "| Camry|    D|\n",
      "| Civic|    D|\n",
      "|Ranger|    E|\n",
      "+------+-----+\n",
      "\n"
     ]
    }
   ],
   "source": [
    "cars.select('Model', 'Class').filter(cars.Cost < 35000).show()"
   ]
  },
  {
   "cell_type": "markdown",
   "metadata": {},
   "source": [
    "### Running SQL queries"
   ]
  },
  {
   "cell_type": "code",
   "execution_count": 30,
   "metadata": {
    "collapsed": false
   },
   "outputs": [
    {
     "name": "stdout",
     "output_type": "stream",
     "text": [
      "+------+-----+\n",
      "| Model| Cost|\n",
      "+------+-----+\n",
      "| Camry|31000|\n",
      "| Civic|27000|\n",
      "|Ranger|32000|\n",
      "+------+-----+\n",
      "\n"
     ]
    }
   ],
   "source": [
    "cars.createOrReplaceTempView(\"cars\")\n",
    "spark.sql(\"\"\"select Model, Cost from cars where Cost < 35000\"\"\").show()"
   ]
  }
 ],
 "metadata": {
  "anaconda-cloud": {},
  "kernelspec": {
   "display_name": "Python [conda root]",
   "language": "python",
   "name": "conda-root-py"
  },
  "language_info": {
   "codemirror_mode": {
    "name": "ipython",
    "version": 2
   },
   "file_extension": ".py",
   "mimetype": "text/x-python",
   "name": "python",
   "nbconvert_exporter": "python",
   "pygments_lexer": "ipython2",
   "version": "2.7.12"
  }
 },
 "nbformat": 4,
 "nbformat_minor": 1
}
