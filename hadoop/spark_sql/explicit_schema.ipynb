{
 "cells": [
  {
   "cell_type": "markdown",
   "metadata": {},
   "source": [
    "# Jonathan Halverson\n",
    "# Monday, December 26, 2016\n",
    "# Creating a schema"
   ]
  },
  {
   "cell_type": "code",
   "execution_count": 1,
   "metadata": {
    "collapsed": true
   },
   "outputs": [],
   "source": [
    "from pyspark.sql import SparkSession\n",
    "spark = SparkSession.builder.master(\"local\").appName(\"Schema\").getOrCreate()"
   ]
  },
  {
   "cell_type": "code",
   "execution_count": 2,
   "metadata": {
    "collapsed": false
   },
   "outputs": [
    {
     "data": {
      "text/plain": [
       "pyspark.sql.session.SparkSession"
      ]
     },
     "execution_count": 2,
     "metadata": {},
     "output_type": "execute_result"
    }
   ],
   "source": [
    "type(spark)"
   ]
  },
  {
   "cell_type": "code",
   "execution_count": 3,
   "metadata": {
    "collapsed": false
   },
   "outputs": [
    {
     "name": "stdout",
     "output_type": "stream",
     "text": [
      "root\n",
      " |-- _c0: string (nullable = true)\n",
      " |-- _c1: string (nullable = true)\n",
      " |-- _c2: string (nullable = true)\n",
      " |-- _c3: string (nullable = true)\n",
      " |-- _c4: string (nullable = true)\n",
      " |-- _c5: string (nullable = true)\n",
      "\n"
     ]
    }
   ],
   "source": [
    "cars = spark.read.csv('cars.dat', header=False, inferSchema=False)\n",
    "cars.printSchema()"
   ]
  },
  {
   "cell_type": "code",
   "execution_count": 4,
   "metadata": {
    "collapsed": false
   },
   "outputs": [
    {
     "name": "stdout",
     "output_type": "stream",
     "text": [
      "root\n",
      " |-- _c0: string (nullable = true)\n",
      " |-- _c1: string (nullable = true)\n",
      " |-- _c2: integer (nullable = true)\n",
      " |-- _c3: integer (nullable = true)\n",
      " |-- _c4: double (nullable = true)\n",
      " |-- _c5: string (nullable = true)\n",
      "\n"
     ]
    }
   ],
   "source": [
    "cars = spark.read.csv('cars.dat', header=False, inferSchema=True)\n",
    "cars.printSchema()"
   ]
  },
  {
   "cell_type": "code",
   "execution_count": 5,
   "metadata": {
    "collapsed": false
   },
   "outputs": [
    {
     "name": "stdout",
     "output_type": "stream",
     "text": [
      "+-----+------+-----+---+------+---+\n",
      "|  _c0|   _c1|  _c2|_c3|   _c4|_c5|\n",
      "+-----+------+-----+---+------+---+\n",
      "|Sedan| Camry|31000|  2| 65.91|  D|\n",
      "|Sedan| Civic|27000|  1| 99.05|  D|\n",
      "|Truck|  F150|40500|  3|1100.0|  E|\n",
      "|Truck|Ranger|32000|  3| 950.0|  E|\n",
      "+-----+------+-----+---+------+---+\n",
      "\n"
     ]
    }
   ],
   "source": [
    "cars.show()"
   ]
  },
  {
   "cell_type": "code",
   "execution_count": 9,
   "metadata": {
    "collapsed": true
   },
   "outputs": [],
   "source": [
    "from pyspark.sql.types import StructType, StructField\n",
    "from pyspark.sql.types import StringType, DoubleType, IntegerType\n",
    "schema_ = StructType([StructField(\"Vehicle\", StringType(), True),\n",
    "                      StructField(\"Model\", StringType(), True),\n",
    "                      StructField(\"Cost\", IntegerType(), True),\n",
    "                      StructField(\"Type\", IntegerType(), True),\n",
    "                      StructField(\"Labor\", DoubleType(), True),\n",
    "                      StructField(\"Class\", StringType(), True)])"
   ]
  },
  {
   "cell_type": "code",
   "execution_count": 10,
   "metadata": {
    "collapsed": false
   },
   "outputs": [
    {
     "name": "stdout",
     "output_type": "stream",
     "text": [
      "root\n",
      " |-- Vehicle: string (nullable = true)\n",
      " |-- Model: string (nullable = true)\n",
      " |-- Cost: integer (nullable = true)\n",
      " |-- Type: integer (nullable = true)\n",
      " |-- Labor: double (nullable = true)\n",
      " |-- Class: string (nullable = true)\n",
      "\n"
     ]
    }
   ],
   "source": [
    "cars = spark.read.csv('cars.dat', schema=schema_, header=False, inferSchema=False)\n",
    "cars.printSchema()"
   ]
  },
  {
   "cell_type": "code",
   "execution_count": 11,
   "metadata": {
    "collapsed": false
   },
   "outputs": [
    {
     "name": "stdout",
     "output_type": "stream",
     "text": [
      "+-------+------+-----+----+------+-----+\n",
      "|Vehicle| Model| Cost|Type| Labor|Class|\n",
      "+-------+------+-----+----+------+-----+\n",
      "|  Sedan| Camry|31000|   2| 65.91|    D|\n",
      "|  Sedan| Civic|27000|   1| 99.05|    D|\n",
      "|  Truck|  F150|40500|   3|1100.0|    E|\n",
      "|  Truck|Ranger|32000|   3| 950.0|    E|\n",
      "+-------+------+-----+----+------+-----+\n",
      "\n"
     ]
    }
   ],
   "source": [
    "cars.show()"
   ]
  }
 ],
 "metadata": {
  "anaconda-cloud": {},
  "kernelspec": {
   "display_name": "Python [conda root]",
   "language": "python",
   "name": "conda-root-py"
  },
  "language_info": {
   "codemirror_mode": {
    "name": "ipython",
    "version": 2
   },
   "file_extension": ".py",
   "mimetype": "text/x-python",
   "name": "python",
   "nbconvert_exporter": "python",
   "pygments_lexer": "ipython2",
   "version": "2.7.12"
  }
 },
 "nbformat": 4,
 "nbformat_minor": 1
}
