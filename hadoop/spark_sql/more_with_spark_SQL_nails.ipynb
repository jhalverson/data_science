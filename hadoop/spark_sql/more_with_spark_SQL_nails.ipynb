{
 "cells": [
  {
   "cell_type": "markdown",
   "metadata": {},
   "source": [
    "# Jonathan Halverson\n",
    "# Friday, December 23, 2016\n",
    "# More with Spark SQL"
   ]
  },
  {
   "cell_type": "code",
   "execution_count": 1,
   "metadata": {
    "collapsed": true
   },
   "outputs": [],
   "source": [
    "from pyspark.sql import SparkSession\n",
    "from pyspark.sql import functions as F"
   ]
  },
  {
   "cell_type": "code",
   "execution_count": 2,
   "metadata": {
    "collapsed": true
   },
   "outputs": [],
   "source": [
    "spark = SparkSession.builder.master(\"local\").appName(\"Nail Play\").getOrCreate()"
   ]
  },
  {
   "cell_type": "code",
   "execution_count": 55,
   "metadata": {
    "collapsed": false
   },
   "outputs": [
    {
     "name": "stdout",
     "output_type": "stream",
     "text": [
      "root\n",
      " |-- Salon_BusinessID: integer (nullable = true)\n",
      " |-- Permit_Number: string (nullable = true)\n",
      " |-- SalonName: string (nullable = true)\n",
      " |-- Salon St No: integer (nullable = true)\n",
      " |-- SalonStName: string (nullable = true)\n",
      " |-- Salon St Ext: string (nullable = true)\n",
      " |-- Salon Neighborhood: string (nullable = true)\n",
      " |-- Salon State: string (nullable = true)\n",
      " |-- Salon Zip: integer (nullable = true)\n",
      " |-- Salon Closed: integer (nullable = true)\n",
      " |-- Services Nails: integer (nullable = true)\n",
      " |-- Services Tanning: integer (nullable = true)\n",
      " |-- Services Hair: integer (nullable = true)\n",
      " |-- Services Spa: integer (nullable = true)\n",
      " |-- Services Wax: integer (nullable = true)\n",
      " |-- Services Other: string (nullable = true)\n",
      " |-- Number Tables: integer (nullable = true)\n",
      " |-- Number Baths: integer (nullable = true)\n",
      " |-- Salon_First_Visit: string (nullable = true)\n",
      " |-- Salon_Last_Visit: string (nullable = true)\n",
      " |-- Permit Start: string (nullable = true)\n",
      " |-- Permit End: string (nullable = true)\n",
      " |-- Application Date: string (nullable = true)\n",
      " |-- Application Type: string (nullable = true)\n",
      " |-- Previous Permit: string (nullable = true)\n",
      " |-- Permit_Use and Occupancy: integer (nullable = true)\n",
      " |-- Permit_Flammable Storage: integer (nullable = true)\n",
      " |-- Permit_Salon BOC License: integer (nullable = true)\n",
      " |-- Permit_Cosmetologist Licenses: integer (nullable = true)\n",
      " |-- Permit_Ventilation: integer (nullable = true)\n",
      " |-- Permit_Work with BPHC: integer (nullable = true)\n",
      " |-- Permit Fee: integer (nullable = true)\n",
      " |-- Date Passed Inspection: string (nullable = true)\n",
      "\n"
     ]
    }
   ],
   "source": [
    "# The data is permits managed by the Boston Public Health Commission\n",
    "nails = spark.read.csv('Nail_Salon_Permits.csv', header=True, inferSchema=True)\n",
    "nails.printSchema()"
   ]
  },
  {
   "cell_type": "code",
   "execution_count": 4,
   "metadata": {
    "collapsed": false
   },
   "outputs": [
    {
     "data": {
      "text/plain": [
       "Row(Salon_BusinessID=730, Permit_Number=u'2011N-00057', SalonName=u'Wonder Nails', Salon St No=13, SalonStName=u'Poplar', Salon St Ext=u'ST', Salon Neighborhood=u'Roslindale', Salon State=u'MA', Salon Zip=2131, Salon Closed=0, Services Nails=1, Services Tanning=0, Services Hair=0, Services Spa=0, Services Wax=0, Services Other=None, Number Tables=3, Number Baths=3, Salon_First_Visit=u'01/20/2012 12:00:00 AM', Salon_Last_Visit=None, Permit Start=u'01/20/2012 12:00:00 AM', Permit End=u'01/19/2013 12:00:00 AM', Application Date=u'09/20/2011 12:00:00 AM', Application Type=u'Renewal', Previous Permit=u'2012N-00057', Permit_Use and Occupancy=1, Permit_Flammable Storage=1, Permit_Salon BOC License=1, Permit_Cosmetologist Licenses=1, Permit_Ventilation=1, Permit_Work with BPHC=0, Permit Fee=140, Date Passed Inspection=u'02/12/2013 12:00:00 AM')"
      ]
     },
     "execution_count": 4,
     "metadata": {},
     "output_type": "execute_result"
    }
   ],
   "source": [
    "nails.first()"
   ]
  },
  {
   "cell_type": "code",
   "execution_count": 5,
   "metadata": {
    "collapsed": false
   },
   "outputs": [
    {
     "name": "stdout",
     "output_type": "stream",
     "text": [
      "+----------------+-------------+------------+-----------+-----------+------------+------------------+-----------+---------+------------+--------------+----------------+-------------+------------+------------+--------------+-------------+------------+--------------------+----------------+--------------------+--------------------+--------------------+----------------+---------------+------------------------+------------------------+------------------------+-----------------------------+------------------+---------------------+----------+----------------------+\n",
      "|Salon_BusinessID|Permit_Number|   SalonName|Salon St No|SalonStName|Salon St Ext|Salon Neighborhood|Salon State|Salon Zip|Salon Closed|Services Nails|Services Tanning|Services Hair|Services Spa|Services Wax|Services Other|Number Tables|Number Baths|   Salon_First_Visit|Salon_Last_Visit|        Permit Start|          Permit End|    Application Date|Application Type|Previous Permit|Permit_Use and Occupancy|Permit_Flammable Storage|Permit_Salon BOC License|Permit_Cosmetologist Licenses|Permit_Ventilation|Permit_Work with BPHC|Permit Fee|Date Passed Inspection|\n",
      "+----------------+-------------+------------+-----------+-----------+------------+------------------+-----------+---------+------------+--------------+----------------+-------------+------------+------------+--------------+-------------+------------+--------------------+----------------+--------------------+--------------------+--------------------+----------------+---------------+------------------------+------------------------+------------------------+-----------------------------+------------------+---------------------+----------+----------------------+\n",
      "|             730|  2011N-00057|Wonder Nails|         13|     Poplar|          ST|        Roslindale|         MA|     2131|           0|             1|               0|            0|           0|           0|          null|            3|           3|01/20/2012 12:00:...|            null|01/20/2012 12:00:...|01/19/2013 12:00:...|09/20/2011 12:00:...|         Renewal|    2012N-00057|                       1|                       1|                       1|                            1|                 1|                    0|       140|  02/12/2013 12:00:...|\n",
      "|             730|  2013N-00015|Wonder Nails|         13|     Poplar|          ST|        Roslindale|         MA|     2131|           0|             1|               0|            0|           0|           0|          null|            3|           3|01/20/2012 12:00:...|            null|01/20/2013 12:00:...|01/20/2014 12:00:...|01/31/2013 12:00:...|         Renewal|    2011N-00057|                       0|                       1|                       1|                            1|                 0|                    0|       140|  02/12/2013 12:00:...|\n",
      "|             730|  2014N-00014|Wonder Nails|         13|     Poplar|          ST|        Roslindale|         MA|     2131|           0|             1|               0|            0|           0|           0|          null|            3|           3|01/20/2012 12:00:...|            null|01/21/2014 12:00:...|01/21/2015 12:00:...|01/22/2014 12:00:...|         Renewal|    2013n-00015|                       1|                       1|                       1|                            1|                 1|                    0|       140|  02/12/2013 12:00:...|\n",
      "+----------------+-------------+------------+-----------+-----------+------------+------------------+-----------+---------+------------+--------------+----------------+-------------+------------+------------+--------------+-------------+------------+--------------------+----------------+--------------------+--------------------+--------------------+----------------+---------------+------------------------+------------------------+------------------------+-----------------------------+------------------+---------------------+----------+----------------------+\n",
      "only showing top 3 rows\n",
      "\n"
     ]
    }
   ],
   "source": [
    "nails.show(3)"
   ]
  },
  {
   "cell_type": "code",
   "execution_count": 18,
   "metadata": {
    "collapsed": false,
    "scrolled": true
   },
   "outputs": [
    {
     "name": "stdout",
     "output_type": "stream",
     "text": [
      "+-------+-----------------+-----------------+\n",
      "|summary|    Number Tables| Salon_BusinessID|\n",
      "+-------+-----------------+-----------------+\n",
      "|  count|              542|              573|\n",
      "|   mean|5.226937269372693|850.4607329842931|\n",
      "| stddev|2.994476343047401|73.43121950072631|\n",
      "|    min|                1|              730|\n",
      "|    max|               21|              983|\n",
      "+-------+-----------------+-----------------+\n",
      "\n"
     ]
    }
   ],
   "source": [
    "nails.describe(['Number Tables', 'Salon_BusinessID']).show()"
   ]
  },
  {
   "cell_type": "markdown",
   "metadata": {},
   "source": [
    "Check for null values:"
   ]
  },
  {
   "cell_type": "code",
   "execution_count": 16,
   "metadata": {
    "collapsed": false
   },
   "outputs": [
    {
     "data": {
      "text/plain": [
       "542"
      ]
     },
     "execution_count": 16,
     "metadata": {},
     "output_type": "execute_result"
    }
   ],
   "source": [
    "nails.select('*').filter(~F.isnull('Number Tables')).count()"
   ]
  },
  {
   "cell_type": "code",
   "execution_count": 17,
   "metadata": {
    "collapsed": false
   },
   "outputs": [
    {
     "data": {
      "text/plain": [
       "31"
      ]
     },
     "execution_count": 17,
     "metadata": {},
     "output_type": "execute_result"
    }
   ],
   "source": [
    "nails.select('*').filter(F.isnull('Number Tables')).count()"
   ]
  },
  {
   "cell_type": "code",
   "execution_count": 21,
   "metadata": {
    "collapsed": false
   },
   "outputs": [
    {
     "data": {
      "text/plain": [
       "0"
      ]
     },
     "execution_count": 21,
     "metadata": {},
     "output_type": "execute_result"
    }
   ],
   "source": [
    "nails.select('*').filter(F.isnull('Salon Neighborhood')).count()"
   ]
  },
  {
   "cell_type": "code",
   "execution_count": 19,
   "metadata": {
    "collapsed": false
   },
   "outputs": [
    {
     "name": "stdout",
     "output_type": "stream",
     "text": [
      "+----------------+--------------------------+------------------+-------------+----------------------+\n",
      "|Salon_BusinessID|SalonName                 |Salon Neighborhood|Number Tables|Salon_First_Visit     |\n",
      "+----------------+--------------------------+------------------+-------------+----------------------+\n",
      "|730             |Wonder Nails              |Roslindale        |3            |01/20/2012 12:00:00 AM|\n",
      "|730             |Wonder Nails              |Roslindale        |3            |01/20/2012 12:00:00 AM|\n",
      "|730             |Wonder Nails              |Roslindale        |3            |01/20/2012 12:00:00 AM|\n",
      "|731             |Tina's Nail Design        |Roslindale        |7            |11/18/2011 12:00:00 AM|\n",
      "|731             |Tina's Nail Design        |Roslindale        |7            |11/18/2011 12:00:00 AM|\n",
      "|731             |Tina's Nail Design        |Roslindale        |7            |11/18/2011 12:00:00 AM|\n",
      "|732             |Beauty Nails And Skin Care|Roslindale        |4            |null                  |\n",
      "|732             |Beauty Nails And Skin Care|Roslindale        |4            |null                  |\n",
      "|732             |Beauty Nails And Skin Care|Roslindale        |4            |null                  |\n",
      "|732             |Beauty Nails And Skin Care|Roslindale        |4            |null                  |\n",
      "|733             |Pearl Nail Salon          |Roslindale        |5            |06/08/2012 12:00:00 AM|\n",
      "|733             |Pearl Nail Salon          |Roslindale        |6            |06/08/2012 12:00:00 AM|\n",
      "|733             |Pearl Nail Salon          |Roslindale        |5            |06/08/2012 12:00:00 AM|\n",
      "|734             |Roxy Nails                |Roslindale        |4            |12/03/2012 12:00:00 AM|\n",
      "|734             |Roxy Nails                |Roslindale        |4            |12/03/2012 12:00:00 AM|\n",
      "|734             |Roxy Nails                |Roslindale        |4            |12/03/2012 12:00:00 AM|\n",
      "|734             |Roxy Nails                |Roslindale        |4            |12/03/2012 12:00:00 AM|\n",
      "|735             |Lovely Nails              |Roslindale        |3            |10/11/2011 12:00:00 AM|\n",
      "|735             |Lovely Nails              |Roslindale        |4            |10/11/2011 12:00:00 AM|\n",
      "|735             |Lovely Nails              |Roslindale        |4            |10/11/2011 12:00:00 AM|\n",
      "+----------------+--------------------------+------------------+-------------+----------------------+\n",
      "only showing top 20 rows\n",
      "\n"
     ]
    }
   ],
   "source": [
    "nails.select(['Salon_BusinessID', 'SalonName', 'Salon Neighborhood', 'Number Tables', 'Salon_First_Visit']).orderBy('Salon_BusinessID').show(truncate=False)"
   ]
  },
  {
   "cell_type": "code",
   "execution_count": 8,
   "metadata": {
    "collapsed": false
   },
   "outputs": [
    {
     "name": "stdout",
     "output_type": "stream",
     "text": [
      "+--------------------+-----+\n",
      "|  Salon Neighborhood|count|\n",
      "+--------------------+-----+\n",
      "|             Roxbury|   15|\n",
      "|Back Bay-Beacon H...|  128|\n",
      "|    North Dorchester|   24|\n",
      "|           South End|   29|\n",
      "|          Roslindale|   28|\n",
      "|         Charlestown|   15|\n",
      "|  North End-Downtown|   38|\n",
      "|            Mattapan|   16|\n",
      "|              Fenway|   30|\n",
      "|    Allston-Brighton|   46|\n",
      "|           Hyde Park|   10|\n",
      "|        South Boston|   30|\n",
      "|        West Roxbury|   34|\n",
      "|       Jamaica Plain|   26|\n",
      "|    South Dorchester|   75|\n",
      "|         East Boston|   29|\n",
      "+--------------------+-----+\n",
      "\n"
     ]
    }
   ],
   "source": [
    "nails.select(['Salon Neighborhood']).groupby('Salon Neighborhood').agg(F.count('*').alias('count')).show()"
   ]
  },
  {
   "cell_type": "markdown",
   "metadata": {},
   "source": [
    "Which salons have the highest average number of tables:"
   ]
  },
  {
   "cell_type": "code",
   "execution_count": 54,
   "metadata": {
    "collapsed": false
   },
   "outputs": [
    {
     "name": "stdout",
     "output_type": "stream",
     "text": [
      "+------------------+--------------+\n",
      "|Salon Neighborhood|Avg Num Tables|\n",
      "+------------------+--------------+\n",
      "|  South Dorchester|           7.5|\n",
      "|           Roxbury|           7.4|\n",
      "|      South Boston|           6.2|\n",
      "|         South End|           5.7|\n",
      "|      West Roxbury|           5.4|\n",
      "+------------------+--------------+\n",
      "only showing top 5 rows\n",
      "\n"
     ]
    }
   ],
   "source": [
    "nails.select(['*']).groupby('Salon Neighborhood').agg(F.round(F.avg('Number Tables'), 1).alias('Avg Num Tables')).orderBy('Avg Num Tables', ascending=False).show(5)"
   ]
  },
  {
   "cell_type": "code",
   "execution_count": 53,
   "metadata": {
    "collapsed": false
   },
   "outputs": [
    {
     "name": "stdout",
     "output_type": "stream",
     "text": [
      "+--------------------+\n",
      "|           SalonName|\n",
      "+--------------------+\n",
      "|           Adara Spa|\n",
      "|Athena Salon And ...|\n",
      "|   BPHC Construction|\n",
      "|Beaucage Salon An...|\n",
      "|    Chez Bella Salon|\n",
      "+--------------------+\n",
      "only showing top 5 rows\n",
      "\n"
     ]
    }
   ],
   "source": [
    "nails.select('SalonName').filter(nails['Services Hair'] == 1).filter(nails['Services Wax'] == 1).distinct().orderBy('SalonName').show(5)"
   ]
  },
  {
   "cell_type": "code",
   "execution_count": null,
   "metadata": {
    "collapsed": true
   },
   "outputs": [],
   "source": []
  }
 ],
 "metadata": {
  "anaconda-cloud": {},
  "kernelspec": {
   "display_name": "Python [conda root]",
   "language": "python",
   "name": "conda-root-py"
  },
  "language_info": {
   "codemirror_mode": {
    "name": "ipython",
    "version": 2
   },
   "file_extension": ".py",
   "mimetype": "text/x-python",
   "name": "python",
   "nbconvert_exporter": "python",
   "pygments_lexer": "ipython2",
   "version": "2.7.12"
  }
 },
 "nbformat": 4,
 "nbformat_minor": 1
}
