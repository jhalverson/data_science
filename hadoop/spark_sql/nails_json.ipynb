{
 "cells": [
  {
   "cell_type": "markdown",
   "metadata": {},
   "source": [
    "# Jonathan Halverson\n",
    "# Friday, January 6, 2016\n",
    "# Multiline JSON: Nail salon permits"
   ]
  },
  {
   "cell_type": "markdown",
   "metadata": {},
   "source": [
    "The json.load command takes a file pointer as the argument not a path to a file. Here we load the nail salon data:"
   ]
  },
  {
   "cell_type": "code",
   "execution_count": 1,
   "metadata": {
    "collapsed": true
   },
   "outputs": [],
   "source": [
    "import json\n",
    "with open('Nail_Salon_Permits.json', 'r') as f:\n",
    "    rawData = json.load(f)"
   ]
  },
  {
   "cell_type": "code",
   "execution_count": 2,
   "metadata": {
    "collapsed": false
   },
   "outputs": [
    {
     "data": {
      "text/plain": [
       "[u'meta', u'data']"
      ]
     },
     "execution_count": 2,
     "metadata": {},
     "output_type": "execute_result"
    }
   ],
   "source": [
    "rawData.keys()"
   ]
  },
  {
   "cell_type": "markdown",
   "metadata": {},
   "source": [
    "A sample data record is below:"
   ]
  },
  {
   "cell_type": "code",
   "execution_count": 3,
   "metadata": {
    "collapsed": false
   },
   "outputs": [
    {
     "data": {
      "text/plain": [
       "[1,\n",
       " u'A5B050AC-A54F-4F49-B87D-8BBCF1E50BBB',\n",
       " 1,\n",
       " 1426245046,\n",
       " u'525314',\n",
       " 1426245046,\n",
       " u'525314',\n",
       " u'{\\n}',\n",
       " u'730',\n",
       " u'2011N-00057',\n",
       " u'Wonder Nails',\n",
       " u'13',\n",
       " u'Poplar',\n",
       " u'ST',\n",
       " u'Roslindale',\n",
       " u'MA',\n",
       " u'2131',\n",
       " u'0',\n",
       " u'1',\n",
       " u'0',\n",
       " u'0',\n",
       " u'0',\n",
       " u'0',\n",
       " None,\n",
       " u'3',\n",
       " u'3',\n",
       " u'2012-01-20T00:00:00',\n",
       " None,\n",
       " u'2012-01-20T00:00:00',\n",
       " u'2013-01-19T00:00:00',\n",
       " u'2011-09-20T00:00:00',\n",
       " u'Renewal',\n",
       " u'2012N-00057',\n",
       " u'1',\n",
       " u'1',\n",
       " u'1',\n",
       " u'1',\n",
       " u'1',\n",
       " u'0',\n",
       " u'140.00',\n",
       " u'2013-02-12T00:00:00']"
      ]
     },
     "execution_count": 3,
     "metadata": {},
     "output_type": "execute_result"
    }
   ],
   "source": [
    "rawData['data'][0]"
   ]
  },
  {
   "cell_type": "markdown",
   "metadata": {},
   "source": [
    "Note that the schema (column names and types) is not explicitly attached to the data records. Let's extract the schema and column names:"
   ]
  },
  {
   "cell_type": "code",
   "execution_count": 4,
   "metadata": {
    "collapsed": false
   },
   "outputs": [
    {
     "data": {
      "text/plain": [
       "38"
      ]
     },
     "execution_count": 4,
     "metadata": {},
     "output_type": "execute_result"
    }
   ],
   "source": [
    "len(rawData['meta']['view'])"
   ]
  },
  {
   "cell_type": "markdown",
   "metadata": {},
   "source": [
    "By trial and error the following code can be used:"
   ]
  },
  {
   "cell_type": "code",
   "execution_count": 5,
   "metadata": {
    "collapsed": false
   },
   "outputs": [
    {
     "name": "stdout",
     "output_type": "stream",
     "text": [
      "sid  --  meta_data\n",
      "id  --  meta_data\n",
      "position  --  meta_data\n",
      "created_at  --  meta_data\n",
      "created_meta  --  meta_data\n",
      "updated_at  --  meta_data\n",
      "updated_meta  --  meta_data\n",
      "meta  --  meta_data\n",
      "Salon_BusinessID  --  number\n",
      "Permit_Number  --  text\n",
      "SalonName  --  text\n",
      "Salon St No  --  number\n",
      "SalonStName  --  text\n",
      "Salon St Ext  --  text\n",
      "Salon Neighborhood  --  text\n",
      "Salon State  --  text\n",
      "Salon Zip  --  number\n",
      "Salon Closed  --  number\n",
      "Services Nails  --  number\n",
      "Services Tanning  --  number\n",
      "Services Hair  --  number\n",
      "Services Spa  --  number\n",
      "Services Wax  --  number\n",
      "Services Other  --  text\n",
      "Number Tables  --  number\n",
      "Number Baths  --  number\n",
      "Salon_First_Visit  --  calendar_date\n",
      "Salon_Last_Visit  --  calendar_date\n",
      "Permit Start  --  calendar_date\n",
      "Permit End  --  calendar_date\n",
      "Application Date  --  calendar_date\n",
      "Application Type  --  text\n",
      "Previous Permit  --  text\n",
      "Permit_Use and Occupancy  --  number\n",
      "Permit_Flammable Storage  --  number\n",
      "Permit_Salon BOC License  --  number\n",
      "Permit_Cosmetologist Licenses  --  number\n",
      "Permit_Ventilation  --  number\n",
      "Permit_Work with BPHC  --  number\n",
      "Permit Fee  --  number\n",
      "Date Passed Inspection  --  calendar_date\n"
     ]
    }
   ],
   "source": [
    "column_names = []\n",
    "types = []\n",
    "for i in range(41):\n",
    "    column = rawData['meta']['view']['columns'][i]['name']\n",
    "    dtype = rawData['meta']['view']['columns'][i]['dataTypeName']\n",
    "    column_names.append(column)\n",
    "    types.append(dtype)\n",
    "    print column, ' -- ', dtype"
   ]
  },
  {
   "cell_type": "code",
   "execution_count": 6,
   "metadata": {
    "collapsed": false
   },
   "outputs": [],
   "source": [
    "import pandas as pd\n",
    "df = pd.DataFrame(rawData['data'], columns=column_names)"
   ]
  },
  {
   "cell_type": "code",
   "execution_count": 7,
   "metadata": {
    "collapsed": false
   },
   "outputs": [
    {
     "data": {
      "text/html": [
       "<div>\n",
       "<table border=\"1\" class=\"dataframe\">\n",
       "  <thead>\n",
       "    <tr style=\"text-align: right;\">\n",
       "      <th></th>\n",
       "      <th>0</th>\n",
       "      <th>1</th>\n",
       "      <th>2</th>\n",
       "    </tr>\n",
       "  </thead>\n",
       "  <tbody>\n",
       "    <tr>\n",
       "      <th>sid</th>\n",
       "      <td>1</td>\n",
       "      <td>2</td>\n",
       "      <td>3</td>\n",
       "    </tr>\n",
       "    <tr>\n",
       "      <th>id</th>\n",
       "      <td>A5B050AC-A54F-4F49-B87D-8BBCF1E50BBB</td>\n",
       "      <td>E73FFC8B-BE30-4C62-A594-41CFA75F578B</td>\n",
       "      <td>CCA1F10D-EA37-4CA0-8E40-422778425B8A</td>\n",
       "    </tr>\n",
       "    <tr>\n",
       "      <th>position</th>\n",
       "      <td>1</td>\n",
       "      <td>2</td>\n",
       "      <td>3</td>\n",
       "    </tr>\n",
       "    <tr>\n",
       "      <th>created_at</th>\n",
       "      <td>1426245046</td>\n",
       "      <td>1426245046</td>\n",
       "      <td>1426245046</td>\n",
       "    </tr>\n",
       "    <tr>\n",
       "      <th>created_meta</th>\n",
       "      <td>525314</td>\n",
       "      <td>525314</td>\n",
       "      <td>525314</td>\n",
       "    </tr>\n",
       "    <tr>\n",
       "      <th>updated_at</th>\n",
       "      <td>1426245046</td>\n",
       "      <td>1426245046</td>\n",
       "      <td>1426245046</td>\n",
       "    </tr>\n",
       "    <tr>\n",
       "      <th>updated_meta</th>\n",
       "      <td>525314</td>\n",
       "      <td>525314</td>\n",
       "      <td>525314</td>\n",
       "    </tr>\n",
       "    <tr>\n",
       "      <th>meta</th>\n",
       "      <td>{\\n}</td>\n",
       "      <td>{\\n}</td>\n",
       "      <td>{\\n}</td>\n",
       "    </tr>\n",
       "    <tr>\n",
       "      <th>Salon_BusinessID</th>\n",
       "      <td>730</td>\n",
       "      <td>730</td>\n",
       "      <td>730</td>\n",
       "    </tr>\n",
       "    <tr>\n",
       "      <th>Permit_Number</th>\n",
       "      <td>2011N-00057</td>\n",
       "      <td>2013N-00015</td>\n",
       "      <td>2014N-00014</td>\n",
       "    </tr>\n",
       "    <tr>\n",
       "      <th>SalonName</th>\n",
       "      <td>Wonder Nails</td>\n",
       "      <td>Wonder Nails</td>\n",
       "      <td>Wonder Nails</td>\n",
       "    </tr>\n",
       "    <tr>\n",
       "      <th>Salon St No</th>\n",
       "      <td>13</td>\n",
       "      <td>13</td>\n",
       "      <td>13</td>\n",
       "    </tr>\n",
       "    <tr>\n",
       "      <th>SalonStName</th>\n",
       "      <td>Poplar</td>\n",
       "      <td>Poplar</td>\n",
       "      <td>Poplar</td>\n",
       "    </tr>\n",
       "    <tr>\n",
       "      <th>Salon St Ext</th>\n",
       "      <td>ST</td>\n",
       "      <td>ST</td>\n",
       "      <td>ST</td>\n",
       "    </tr>\n",
       "    <tr>\n",
       "      <th>Salon Neighborhood</th>\n",
       "      <td>Roslindale</td>\n",
       "      <td>Roslindale</td>\n",
       "      <td>Roslindale</td>\n",
       "    </tr>\n",
       "    <tr>\n",
       "      <th>Salon State</th>\n",
       "      <td>MA</td>\n",
       "      <td>MA</td>\n",
       "      <td>MA</td>\n",
       "    </tr>\n",
       "    <tr>\n",
       "      <th>Salon Zip</th>\n",
       "      <td>2131</td>\n",
       "      <td>2131</td>\n",
       "      <td>2131</td>\n",
       "    </tr>\n",
       "    <tr>\n",
       "      <th>Salon Closed</th>\n",
       "      <td>0</td>\n",
       "      <td>0</td>\n",
       "      <td>0</td>\n",
       "    </tr>\n",
       "    <tr>\n",
       "      <th>Services Nails</th>\n",
       "      <td>1</td>\n",
       "      <td>1</td>\n",
       "      <td>1</td>\n",
       "    </tr>\n",
       "    <tr>\n",
       "      <th>Services Tanning</th>\n",
       "      <td>0</td>\n",
       "      <td>0</td>\n",
       "      <td>0</td>\n",
       "    </tr>\n",
       "    <tr>\n",
       "      <th>Services Hair</th>\n",
       "      <td>0</td>\n",
       "      <td>0</td>\n",
       "      <td>0</td>\n",
       "    </tr>\n",
       "    <tr>\n",
       "      <th>Services Spa</th>\n",
       "      <td>0</td>\n",
       "      <td>0</td>\n",
       "      <td>0</td>\n",
       "    </tr>\n",
       "    <tr>\n",
       "      <th>Services Wax</th>\n",
       "      <td>0</td>\n",
       "      <td>0</td>\n",
       "      <td>0</td>\n",
       "    </tr>\n",
       "    <tr>\n",
       "      <th>Services Other</th>\n",
       "      <td>None</td>\n",
       "      <td>None</td>\n",
       "      <td>None</td>\n",
       "    </tr>\n",
       "    <tr>\n",
       "      <th>Number Tables</th>\n",
       "      <td>3</td>\n",
       "      <td>3</td>\n",
       "      <td>3</td>\n",
       "    </tr>\n",
       "    <tr>\n",
       "      <th>Number Baths</th>\n",
       "      <td>3</td>\n",
       "      <td>3</td>\n",
       "      <td>3</td>\n",
       "    </tr>\n",
       "    <tr>\n",
       "      <th>Salon_First_Visit</th>\n",
       "      <td>2012-01-20T00:00:00</td>\n",
       "      <td>2012-01-20T00:00:00</td>\n",
       "      <td>2012-01-20T00:00:00</td>\n",
       "    </tr>\n",
       "    <tr>\n",
       "      <th>Salon_Last_Visit</th>\n",
       "      <td>None</td>\n",
       "      <td>None</td>\n",
       "      <td>None</td>\n",
       "    </tr>\n",
       "    <tr>\n",
       "      <th>Permit Start</th>\n",
       "      <td>2012-01-20T00:00:00</td>\n",
       "      <td>2013-01-20T00:00:00</td>\n",
       "      <td>2014-01-21T00:00:00</td>\n",
       "    </tr>\n",
       "    <tr>\n",
       "      <th>Permit End</th>\n",
       "      <td>2013-01-19T00:00:00</td>\n",
       "      <td>2014-01-20T00:00:00</td>\n",
       "      <td>2015-01-21T00:00:00</td>\n",
       "    </tr>\n",
       "    <tr>\n",
       "      <th>Application Date</th>\n",
       "      <td>2011-09-20T00:00:00</td>\n",
       "      <td>2013-01-31T00:00:00</td>\n",
       "      <td>2014-01-22T00:00:00</td>\n",
       "    </tr>\n",
       "    <tr>\n",
       "      <th>Application Type</th>\n",
       "      <td>Renewal</td>\n",
       "      <td>Renewal</td>\n",
       "      <td>Renewal</td>\n",
       "    </tr>\n",
       "    <tr>\n",
       "      <th>Previous Permit</th>\n",
       "      <td>2012N-00057</td>\n",
       "      <td>2011N-00057</td>\n",
       "      <td>2013n-00015</td>\n",
       "    </tr>\n",
       "    <tr>\n",
       "      <th>Permit_Use and Occupancy</th>\n",
       "      <td>1</td>\n",
       "      <td>0</td>\n",
       "      <td>1</td>\n",
       "    </tr>\n",
       "    <tr>\n",
       "      <th>Permit_Flammable Storage</th>\n",
       "      <td>1</td>\n",
       "      <td>1</td>\n",
       "      <td>1</td>\n",
       "    </tr>\n",
       "    <tr>\n",
       "      <th>Permit_Salon BOC License</th>\n",
       "      <td>1</td>\n",
       "      <td>1</td>\n",
       "      <td>1</td>\n",
       "    </tr>\n",
       "    <tr>\n",
       "      <th>Permit_Cosmetologist Licenses</th>\n",
       "      <td>1</td>\n",
       "      <td>1</td>\n",
       "      <td>1</td>\n",
       "    </tr>\n",
       "    <tr>\n",
       "      <th>Permit_Ventilation</th>\n",
       "      <td>1</td>\n",
       "      <td>0</td>\n",
       "      <td>1</td>\n",
       "    </tr>\n",
       "    <tr>\n",
       "      <th>Permit_Work with BPHC</th>\n",
       "      <td>0</td>\n",
       "      <td>0</td>\n",
       "      <td>0</td>\n",
       "    </tr>\n",
       "    <tr>\n",
       "      <th>Permit Fee</th>\n",
       "      <td>140.00</td>\n",
       "      <td>140.00</td>\n",
       "      <td>140.00</td>\n",
       "    </tr>\n",
       "    <tr>\n",
       "      <th>Date Passed Inspection</th>\n",
       "      <td>2013-02-12T00:00:00</td>\n",
       "      <td>2013-02-12T00:00:00</td>\n",
       "      <td>2013-02-12T00:00:00</td>\n",
       "    </tr>\n",
       "  </tbody>\n",
       "</table>\n",
       "</div>"
      ],
      "text/plain": [
       "                                                                  0  \\\n",
       "sid                                                               1   \n",
       "id                             A5B050AC-A54F-4F49-B87D-8BBCF1E50BBB   \n",
       "position                                                          1   \n",
       "created_at                                               1426245046   \n",
       "created_meta                                                 525314   \n",
       "updated_at                                               1426245046   \n",
       "updated_meta                                                 525314   \n",
       "meta                                                           {\\n}   \n",
       "Salon_BusinessID                                                730   \n",
       "Permit_Number                                           2011N-00057   \n",
       "SalonName                                              Wonder Nails   \n",
       "Salon St No                                                      13   \n",
       "SalonStName                                                  Poplar   \n",
       "Salon St Ext                                                     ST   \n",
       "Salon Neighborhood                                       Roslindale   \n",
       "Salon State                                                      MA   \n",
       "Salon Zip                                                      2131   \n",
       "Salon Closed                                                      0   \n",
       "Services Nails                                                    1   \n",
       "Services Tanning                                                  0   \n",
       "Services Hair                                                     0   \n",
       "Services Spa                                                      0   \n",
       "Services Wax                                                      0   \n",
       "Services Other                                                 None   \n",
       "Number Tables                                                     3   \n",
       "Number Baths                                                      3   \n",
       "Salon_First_Visit                               2012-01-20T00:00:00   \n",
       "Salon_Last_Visit                                               None   \n",
       "Permit Start                                    2012-01-20T00:00:00   \n",
       "Permit End                                      2013-01-19T00:00:00   \n",
       "Application Date                                2011-09-20T00:00:00   \n",
       "Application Type                                            Renewal   \n",
       "Previous Permit                                         2012N-00057   \n",
       "Permit_Use and Occupancy                                          1   \n",
       "Permit_Flammable Storage                                          1   \n",
       "Permit_Salon BOC License                                          1   \n",
       "Permit_Cosmetologist Licenses                                     1   \n",
       "Permit_Ventilation                                                1   \n",
       "Permit_Work with BPHC                                             0   \n",
       "Permit Fee                                                   140.00   \n",
       "Date Passed Inspection                          2013-02-12T00:00:00   \n",
       "\n",
       "                                                                  1  \\\n",
       "sid                                                               2   \n",
       "id                             E73FFC8B-BE30-4C62-A594-41CFA75F578B   \n",
       "position                                                          2   \n",
       "created_at                                               1426245046   \n",
       "created_meta                                                 525314   \n",
       "updated_at                                               1426245046   \n",
       "updated_meta                                                 525314   \n",
       "meta                                                           {\\n}   \n",
       "Salon_BusinessID                                                730   \n",
       "Permit_Number                                           2013N-00015   \n",
       "SalonName                                              Wonder Nails   \n",
       "Salon St No                                                      13   \n",
       "SalonStName                                                  Poplar   \n",
       "Salon St Ext                                                     ST   \n",
       "Salon Neighborhood                                       Roslindale   \n",
       "Salon State                                                      MA   \n",
       "Salon Zip                                                      2131   \n",
       "Salon Closed                                                      0   \n",
       "Services Nails                                                    1   \n",
       "Services Tanning                                                  0   \n",
       "Services Hair                                                     0   \n",
       "Services Spa                                                      0   \n",
       "Services Wax                                                      0   \n",
       "Services Other                                                 None   \n",
       "Number Tables                                                     3   \n",
       "Number Baths                                                      3   \n",
       "Salon_First_Visit                               2012-01-20T00:00:00   \n",
       "Salon_Last_Visit                                               None   \n",
       "Permit Start                                    2013-01-20T00:00:00   \n",
       "Permit End                                      2014-01-20T00:00:00   \n",
       "Application Date                                2013-01-31T00:00:00   \n",
       "Application Type                                            Renewal   \n",
       "Previous Permit                                         2011N-00057   \n",
       "Permit_Use and Occupancy                                          0   \n",
       "Permit_Flammable Storage                                          1   \n",
       "Permit_Salon BOC License                                          1   \n",
       "Permit_Cosmetologist Licenses                                     1   \n",
       "Permit_Ventilation                                                0   \n",
       "Permit_Work with BPHC                                             0   \n",
       "Permit Fee                                                   140.00   \n",
       "Date Passed Inspection                          2013-02-12T00:00:00   \n",
       "\n",
       "                                                                  2  \n",
       "sid                                                               3  \n",
       "id                             CCA1F10D-EA37-4CA0-8E40-422778425B8A  \n",
       "position                                                          3  \n",
       "created_at                                               1426245046  \n",
       "created_meta                                                 525314  \n",
       "updated_at                                               1426245046  \n",
       "updated_meta                                                 525314  \n",
       "meta                                                           {\\n}  \n",
       "Salon_BusinessID                                                730  \n",
       "Permit_Number                                           2014N-00014  \n",
       "SalonName                                              Wonder Nails  \n",
       "Salon St No                                                      13  \n",
       "SalonStName                                                  Poplar  \n",
       "Salon St Ext                                                     ST  \n",
       "Salon Neighborhood                                       Roslindale  \n",
       "Salon State                                                      MA  \n",
       "Salon Zip                                                      2131  \n",
       "Salon Closed                                                      0  \n",
       "Services Nails                                                    1  \n",
       "Services Tanning                                                  0  \n",
       "Services Hair                                                     0  \n",
       "Services Spa                                                      0  \n",
       "Services Wax                                                      0  \n",
       "Services Other                                                 None  \n",
       "Number Tables                                                     3  \n",
       "Number Baths                                                      3  \n",
       "Salon_First_Visit                               2012-01-20T00:00:00  \n",
       "Salon_Last_Visit                                               None  \n",
       "Permit Start                                    2014-01-21T00:00:00  \n",
       "Permit End                                      2015-01-21T00:00:00  \n",
       "Application Date                                2014-01-22T00:00:00  \n",
       "Application Type                                            Renewal  \n",
       "Previous Permit                                         2013n-00015  \n",
       "Permit_Use and Occupancy                                          1  \n",
       "Permit_Flammable Storage                                          1  \n",
       "Permit_Salon BOC License                                          1  \n",
       "Permit_Cosmetologist Licenses                                     1  \n",
       "Permit_Ventilation                                                1  \n",
       "Permit_Work with BPHC                                             0  \n",
       "Permit Fee                                                   140.00  \n",
       "Date Passed Inspection                          2013-02-12T00:00:00  "
      ]
     },
     "execution_count": 7,
     "metadata": {},
     "output_type": "execute_result"
    }
   ],
   "source": [
    "df.head(3).transpose()"
   ]
  },
  {
   "cell_type": "code",
   "execution_count": 8,
   "metadata": {
    "collapsed": false
   },
   "outputs": [
    {
     "data": {
      "text/plain": [
       "sid                               int64\n",
       "id                               object\n",
       "position                          int64\n",
       "created_at                        int64\n",
       "created_meta                     object\n",
       "updated_at                        int64\n",
       "updated_meta                     object\n",
       "meta                             object\n",
       "Salon_BusinessID                 object\n",
       "Permit_Number                    object\n",
       "SalonName                        object\n",
       "Salon St No                      object\n",
       "SalonStName                      object\n",
       "Salon St Ext                     object\n",
       "Salon Neighborhood               object\n",
       "Salon State                      object\n",
       "Salon Zip                        object\n",
       "Salon Closed                     object\n",
       "Services Nails                   object\n",
       "Services Tanning                 object\n",
       "Services Hair                    object\n",
       "Services Spa                     object\n",
       "Services Wax                     object\n",
       "Services Other                   object\n",
       "Number Tables                    object\n",
       "Number Baths                     object\n",
       "Salon_First_Visit                object\n",
       "Salon_Last_Visit                 object\n",
       "Permit Start                     object\n",
       "Permit End                       object\n",
       "Application Date                 object\n",
       "Application Type                 object\n",
       "Previous Permit                  object\n",
       "Permit_Use and Occupancy         object\n",
       "Permit_Flammable Storage         object\n",
       "Permit_Salon BOC License         object\n",
       "Permit_Cosmetologist Licenses    object\n",
       "Permit_Ventilation               object\n",
       "Permit_Work with BPHC            object\n",
       "Permit Fee                       object\n",
       "Date Passed Inspection           object\n",
       "dtype: object"
      ]
     },
     "execution_count": 8,
     "metadata": {},
     "output_type": "execute_result"
    }
   ],
   "source": [
    "df.dtypes"
   ]
  },
  {
   "cell_type": "code",
   "execution_count": 9,
   "metadata": {
    "collapsed": false
   },
   "outputs": [
    {
     "name": "stdout",
     "output_type": "stream",
     "text": [
      "<class 'pandas.core.frame.DataFrame'>\n",
      "RangeIndex: 573 entries, 0 to 572\n",
      "Data columns (total 41 columns):\n",
      "sid                              573 non-null int64\n",
      "id                               573 non-null object\n",
      "position                         573 non-null int64\n",
      "created_at                       573 non-null int64\n",
      "created_meta                     573 non-null object\n",
      "updated_at                       573 non-null int64\n",
      "updated_meta                     573 non-null object\n",
      "meta                             573 non-null object\n",
      "Salon_BusinessID                 573 non-null object\n",
      "Permit_Number                    547 non-null object\n",
      "SalonName                        573 non-null object\n",
      "Salon St No                      573 non-null object\n",
      "SalonStName                      573 non-null object\n",
      "Salon St Ext                     548 non-null object\n",
      "Salon Neighborhood               573 non-null object\n",
      "Salon State                      573 non-null object\n",
      "Salon Zip                        573 non-null object\n",
      "Salon Closed                     573 non-null object\n",
      "Services Nails                   573 non-null object\n",
      "Services Tanning                 573 non-null object\n",
      "Services Hair                    573 non-null object\n",
      "Services Spa                     573 non-null object\n",
      "Services Wax                     573 non-null object\n",
      "Services Other                   12 non-null object\n",
      "Number Tables                    542 non-null object\n",
      "Number Baths                     541 non-null object\n",
      "Salon_First_Visit                402 non-null object\n",
      "Salon_Last_Visit                 193 non-null object\n",
      "Permit Start                     538 non-null object\n",
      "Permit End                       538 non-null object\n",
      "Application Date                 557 non-null object\n",
      "Application Type                 542 non-null object\n",
      "Previous Permit                  397 non-null object\n",
      "Permit_Use and Occupancy         573 non-null object\n",
      "Permit_Flammable Storage         573 non-null object\n",
      "Permit_Salon BOC License         573 non-null object\n",
      "Permit_Cosmetologist Licenses    573 non-null object\n",
      "Permit_Ventilation               573 non-null object\n",
      "Permit_Work with BPHC            573 non-null object\n",
      "Permit Fee                       527 non-null object\n",
      "Date Passed Inspection           468 non-null object\n",
      "dtypes: int64(4), object(37)\n",
      "memory usage: 183.6+ KB\n"
     ]
    }
   ],
   "source": [
    "df.info()"
   ]
  },
  {
   "cell_type": "markdown",
   "metadata": {},
   "source": [
    "Let's look to see which neighborhood has the most salons:"
   ]
  },
  {
   "cell_type": "code",
   "execution_count": 10,
   "metadata": {
    "collapsed": false
   },
   "outputs": [],
   "source": [
    "neigh_counts = df['Salon Neighborhood'].value_counts()"
   ]
  },
  {
   "cell_type": "code",
   "execution_count": 11,
   "metadata": {
    "collapsed": false
   },
   "outputs": [
    {
     "data": {
      "text/plain": [
       "<matplotlib.text.Text at 0x117947ed0>"
      ]
     },
     "execution_count": 11,
     "metadata": {},
     "output_type": "execute_result"
    },
    {
     "data": {
      "image/png": "[encoded data removed]",
      "text/plain": [
       "<matplotlib.figure.Figure at 0x1149dea50>"
      ]
     },
     "metadata": {},
     "output_type": "display_data"
    }
   ],
   "source": [
    "import numpy as np\n",
    "import matplotlib.pyplot as plt\n",
    "%matplotlib inline\n",
    "\n",
    "fig, ax = plt.subplots(1, 1, figsize=(8,4))\n",
    "plt.bar(range(len(neigh_counts)), neigh_counts, tick_label=neigh_counts.index)\n",
    "plt.xticks(np.array(range(len(neigh_counts))) + 0.5, rotation=90)\n",
    "plt.ylabel('Count')"
   ]
  },
  {
   "cell_type": "markdown",
   "metadata": {},
   "source": [
    "What is the distribution of the number of baths? First we need to replace null values with 0:"
   ]
  },
  {
   "cell_type": "code",
   "execution_count": 12,
   "metadata": {
    "collapsed": false
   },
   "outputs": [],
   "source": [
    "df['Number Baths'].fillna(0, inplace=True)\n",
    "df['Number Baths'] = df['Number Baths'].astype(int)"
   ]
  },
  {
   "cell_type": "code",
   "execution_count": 13,
   "metadata": {
    "collapsed": false
   },
   "outputs": [
    {
     "data": {
      "text/plain": [
       "<matplotlib.text.Text at 0x117f94b10>"
      ]
     },
     "execution_count": 13,
     "metadata": {},
     "output_type": "execute_result"
    },
    {
     "data": {
      "image/png": "[encoded data removed]",
      "text/plain": [
       "<matplotlib.figure.Figure at 0x114971f90>"
      ]
     },
     "metadata": {},
     "output_type": "display_data"
    }
   ],
   "source": [
    "plt.hist(df['Number Baths'])\n",
    "plt.xlabel('Number of Baths')\n",
    "plt.ylabel('Count')"
   ]
  },
  {
   "cell_type": "markdown",
   "metadata": {},
   "source": [
    "Let's find out which salons have the highest average number of tables as was done in the Spark SQL notebook:"
   ]
  },
  {
   "cell_type": "code",
   "execution_count": 14,
   "metadata": {
    "collapsed": false
   },
   "outputs": [
    {
     "data": {
      "text/plain": [
       "False    542\n",
       "True      31\n",
       "Name: Number Tables, dtype: int64"
      ]
     },
     "execution_count": 14,
     "metadata": {},
     "output_type": "execute_result"
    }
   ],
   "source": [
    "df['Number Tables'].isnull().value_counts()"
   ]
  },
  {
   "cell_type": "code",
   "execution_count": 15,
   "metadata": {
    "collapsed": true
   },
   "outputs": [],
   "source": [
    "df['Number Tables'].fillna(0, inplace=True)\n",
    "df['Number Tables'] = df['Number Tables'].astype(int)"
   ]
  },
  {
   "cell_type": "code",
   "execution_count": 31,
   "metadata": {
    "collapsed": false
   },
   "outputs": [
    {
     "data": {
      "text/html": [
       "<div>\n",
       "<table border=\"1\" class=\"dataframe\">\n",
       "  <thead>\n",
       "    <tr style=\"text-align: right;\">\n",
       "      <th></th>\n",
       "      <th>Number Tables</th>\n",
       "    </tr>\n",
       "    <tr>\n",
       "      <th>Salon Neighborhood</th>\n",
       "      <th></th>\n",
       "    </tr>\n",
       "  </thead>\n",
       "  <tbody>\n",
       "    <tr>\n",
       "      <th>South Dorchester</th>\n",
       "      <td>7.253333</td>\n",
       "    </tr>\n",
       "    <tr>\n",
       "      <th>Roxbury</th>\n",
       "      <td>6.866667</td>\n",
       "    </tr>\n",
       "    <tr>\n",
       "      <th>South Boston</th>\n",
       "      <td>6.000000</td>\n",
       "    </tr>\n",
       "    <tr>\n",
       "      <th>Mattapan</th>\n",
       "      <td>5.375000</td>\n",
       "    </tr>\n",
       "    <tr>\n",
       "      <th>South End</th>\n",
       "      <td>5.137931</td>\n",
       "    </tr>\n",
       "    <tr>\n",
       "      <th>West Roxbury</th>\n",
       "      <td>5.058824</td>\n",
       "    </tr>\n",
       "    <tr>\n",
       "      <th>Back Bay-Beacon Hill-West End</th>\n",
       "      <td>5.000000</td>\n",
       "    </tr>\n",
       "    <tr>\n",
       "      <th>Charlestown</th>\n",
       "      <td>4.866667</td>\n",
       "    </tr>\n",
       "    <tr>\n",
       "      <th>North Dorchester</th>\n",
       "      <td>4.583333</td>\n",
       "    </tr>\n",
       "    <tr>\n",
       "      <th>Roslindale</th>\n",
       "      <td>4.571429</td>\n",
       "    </tr>\n",
       "    <tr>\n",
       "      <th>Jamaica Plain</th>\n",
       "      <td>4.500000</td>\n",
       "    </tr>\n",
       "    <tr>\n",
       "      <th>East Boston</th>\n",
       "      <td>4.068966</td>\n",
       "    </tr>\n",
       "    <tr>\n",
       "      <th>Allston-Brighton</th>\n",
       "      <td>3.913043</td>\n",
       "    </tr>\n",
       "    <tr>\n",
       "      <th>Hyde Park</th>\n",
       "      <td>3.800000</td>\n",
       "    </tr>\n",
       "    <tr>\n",
       "      <th>Fenway</th>\n",
       "      <td>3.400000</td>\n",
       "    </tr>\n",
       "    <tr>\n",
       "      <th>North End-Downtown</th>\n",
       "      <td>2.447368</td>\n",
       "    </tr>\n",
       "  </tbody>\n",
       "</table>\n",
       "</div>"
      ],
      "text/plain": [
       "                               Number Tables\n",
       "Salon Neighborhood                          \n",
       "South Dorchester                    7.253333\n",
       "Roxbury                             6.866667\n",
       "South Boston                        6.000000\n",
       "Mattapan                            5.375000\n",
       "South End                           5.137931\n",
       "West Roxbury                        5.058824\n",
       "Back Bay-Beacon Hill-West End       5.000000\n",
       "Charlestown                         4.866667\n",
       "North Dorchester                    4.583333\n",
       "Roslindale                          4.571429\n",
       "Jamaica Plain                       4.500000\n",
       "East Boston                         4.068966\n",
       "Allston-Brighton                    3.913043\n",
       "Hyde Park                           3.800000\n",
       "Fenway                              3.400000\n",
       "North End-Downtown                  2.447368"
      ]
     },
     "execution_count": 31,
     "metadata": {},
     "output_type": "execute_result"
    }
   ],
   "source": [
    "df.groupby('Salon Neighborhood').agg({'Number Tables': np.mean}).sort_values('Number Tables', ascending=False)"
   ]
  }
 ],
 "metadata": {
  "anaconda-cloud": {},
  "kernelspec": {
   "display_name": "Python [conda root]",
   "language": "python",
   "name": "conda-root-py"
  },
  "language_info": {
   "codemirror_mode": {
    "name": "ipython",
    "version": 2
   },
   "file_extension": ".py",
   "mimetype": "text/x-python",
   "name": "python",
   "nbconvert_exporter": "python",
   "pygments_lexer": "ipython2",
   "version": "2.7.12"
  }
 },
 "nbformat": 4,
 "nbformat_minor": 1
}
