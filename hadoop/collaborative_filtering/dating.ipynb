{
 "cells": [
  {
   "cell_type": "markdown",
   "metadata": {},
   "source": [
    "# Jonathan Halverson\n",
    "# Monday, December 19, 2016\n",
    "# Dating Recommender"
   ]
  },
  {
   "cell_type": "markdown",
   "metadata": {},
   "source": [
    "### This code uses alternating least squares to make recommendations for individuals on a dating site"
   ]
  },
  {
   "cell_type": "code",
   "execution_count": 1,
   "metadata": {
    "collapsed": true
   },
   "outputs": [],
   "source": [
    "from __future__ import print_function\n",
    "\n",
    "import sys\n",
    "import random\n",
    "from pyspark.sql import SparkSession\n",
    "from pyspark.sql import Row\n",
    "from pyspark.ml.recommendation import ALS\n",
    "from pyspark.ml.evaluation import RegressionEvaluator"
   ]
  },
  {
   "cell_type": "code",
   "execution_count": 2,
   "metadata": {
    "collapsed": false
   },
   "outputs": [
    {
     "name": "stdout",
     "output_type": "stream",
     "text": [
      "Spark version: 2.0.2\n"
     ]
    }
   ],
   "source": [
    "APP_NAME = \"Dating Recommender\"\n",
    "spark = SparkSession.builder.appName(APP_NAME).getOrCreate()\n",
    "print(\"Spark version: %s\" % spark.sparkContext.version)"
   ]
  },
  {
   "cell_type": "code",
   "execution_count": 3,
   "metadata": {
    "collapsed": true
   },
   "outputs": [],
   "source": [
    "def parse_rating(line, sep=','):\n",
    "  u = line.strip().split(sep)\n",
    "  return Row(userID=int(u[0]), profileID=int(u[1]), rating=float(u[2]))"
   ]
  },
  {
   "cell_type": "code",
   "execution_count": 4,
   "metadata": {
    "collapsed": true
   },
   "outputs": [],
   "source": [
    "def parse_user(line, sep=','):\n",
    "  fields = line.strip().split(sep)\n",
    "  user_id = int(fields[0])\n",
    "  gender = fields[1]\n",
    "  return (user_id, gender)"
   ]
  },
  {
   "cell_type": "markdown",
   "metadata": {},
   "source": [
    "Load the ratings data and convert to a DataFrame:"
   ]
  },
  {
   "cell_type": "code",
   "execution_count": 5,
   "metadata": {
    "collapsed": false
   },
   "outputs": [
    {
     "data": {
      "text/plain": [
       "Row(profileID=8305, rating=10.0, userID=1)"
      ]
     },
     "execution_count": 5,
     "metadata": {},
     "output_type": "execute_result"
    }
   ],
   "source": [
    "lines = spark.sparkContext.textFile('ratings.dat')\n",
    "ratingsRDD = lines.map(parse_rating)\n",
    "ratingsRDD.first()"
   ]
  },
  {
   "cell_type": "code",
   "execution_count": 6,
   "metadata": {
    "collapsed": false
   },
   "outputs": [
    {
     "name": "stdout",
     "output_type": "stream",
     "text": [
      "root\n",
      " |-- profileID: long (nullable = true)\n",
      " |-- rating: double (nullable = true)\n",
      " |-- userID: long (nullable = true)\n",
      "\n"
     ]
    }
   ],
   "source": [
    "ratings = spark.createDataFrame(ratingsRDD)\n",
    "ratings.printSchema()"
   ]
  },
  {
   "cell_type": "code",
   "execution_count": 7,
   "metadata": {
    "collapsed": false
   },
   "outputs": [
    {
     "name": "stdout",
     "output_type": "stream",
     "text": [
      "+---------+------+------+\n",
      "|profileID|rating|userID|\n",
      "+---------+------+------+\n",
      "|     8305|  10.0|     1|\n",
      "|    15530|   6.0|     1|\n",
      "|    22319|  10.0|     1|\n",
      "|    32136|   9.0|     1|\n",
      "|    38868|   7.0|     1|\n",
      "+---------+------+------+\n",
      "only showing top 5 rows\n",
      "\n"
     ]
    }
   ],
   "source": [
    "ratings.show(n=5)"
   ]
  },
  {
   "cell_type": "markdown",
   "metadata": {},
   "source": [
    "Which users have provided the fewest ratings:"
   ]
  },
  {
   "cell_type": "code",
   "execution_count": 8,
   "metadata": {
    "collapsed": false
   },
   "outputs": [
    {
     "name": "stdout",
     "output_type": "stream",
     "text": [
      "+------+-----+\n",
      "|userID|count|\n",
      "+------+-----+\n",
      "|  8075|    1|\n",
      "| 16896|    1|\n",
      "|  9458|    1|\n",
      "|  9978|    1|\n",
      "| 13723|    1|\n",
      "+------+-----+\n",
      "only showing top 5 rows\n",
      "\n"
     ]
    }
   ],
   "source": [
    "from pyspark.sql import functions as F\n",
    "rating_counts = ratings.groupBy('userID').agg(F.count('*').alias('count'))\n",
    "rating_counts.sort('count', ascending=True).show(n=5)"
   ]
  },
  {
   "cell_type": "code",
   "execution_count": 9,
   "metadata": {
    "collapsed": false
   },
   "outputs": [
    {
     "data": {
      "text/plain": [
       "7697"
      ]
     },
     "execution_count": 9,
     "metadata": {},
     "output_type": "execute_result"
    }
   ],
   "source": [
    "rating_counts.select('*').where('count >= 20').count()"
   ]
  },
  {
   "cell_type": "markdown",
   "metadata": {},
   "source": [
    "Filter out the users that have fewer than 20 ratings:"
   ]
  },
  {
   "cell_type": "code",
   "execution_count": 10,
   "metadata": {
    "collapsed": false
   },
   "outputs": [
    {
     "data": {
      "text/plain": [
       "[2214, 2509, 7747, 10422, 16530, 17979, 18628, 19979, 22201, 25084]"
      ]
     },
     "execution_count": 10,
     "metadata": {},
     "output_type": "execute_result"
    }
   ],
   "source": [
    "active_users_ids = rating_counts.rdd.map(lambda x: (x[0], x[1])).filter(lambda x: x[1] >= 20).keys()\n",
    "active_users_ids.take(10)"
   ]
  },
  {
   "cell_type": "markdown",
   "metadata": {},
   "source": [
    "Split the ratings data into a training and test set:"
   ]
  },
  {
   "cell_type": "code",
   "execution_count": 11,
   "metadata": {
    "collapsed": true
   },
   "outputs": [],
   "source": [
    "training, test = ratings.randomSplit([0.6, 0.4])"
   ]
  },
  {
   "cell_type": "code",
   "execution_count": 12,
   "metadata": {
    "collapsed": false
   },
   "outputs": [
    {
     "name": "stdout",
     "output_type": "stream",
     "text": [
      "Training: 651366\n",
      "Validation: 433593\n"
     ]
    }
   ],
   "source": [
    "print('Training: %d' % training.count())\n",
    "print('Validation: %d' % test.count())"
   ]
  },
  {
   "cell_type": "markdown",
   "metadata": {},
   "source": [
    "Set parameters for ALS:"
   ]
  },
  {
   "cell_type": "code",
   "execution_count": 13,
   "metadata": {
    "collapsed": true
   },
   "outputs": [],
   "source": [
    "rank = 15\n",
    "num_iterations = 10\n",
    "lambda_ = 0.01"
   ]
  },
  {
   "cell_type": "code",
   "execution_count": 14,
   "metadata": {
    "collapsed": false
   },
   "outputs": [],
   "source": [
    "als = ALS(rank=rank, maxIter=num_iterations, regParam=lambda_, userCol=\"userID\", itemCol=\"profileID\", ratingCol=\"rating\")\n",
    "model = als.fit(training)"
   ]
  },
  {
   "cell_type": "code",
   "execution_count": 15,
   "metadata": {
    "collapsed": false
   },
   "outputs": [],
   "source": [
    "predictions = model.transform(test)\n",
    "evaluator = RegressionEvaluator(metricName=\"rmse\", labelCol=\"rating\", predictionCol=\"prediction\")"
   ]
  },
  {
   "cell_type": "code",
   "execution_count": 23,
   "metadata": {
    "collapsed": false
   },
   "outputs": [
    {
     "name": "stdout",
     "output_type": "stream",
     "text": [
      "+---------+------+------+-----------+\n",
      "|profileID|rating|userID| prediction|\n",
      "+---------+------+------+-----------+\n",
      "|      496|   6.0| 29441|        NaN|\n",
      "|     1238|   1.0| 50243|  0.4668392|\n",
      "|     1238|   1.0|  3953|   5.972074|\n",
      "|     1238|   5.0| 10645| -3.4227247|\n",
      "|     1591|   8.0| 65105| 0.51276386|\n",
      "|     1829|   4.0| 81297| -6.1413608|\n",
      "|     1959|  10.0|122203| -1.4482899|\n",
      "|     2122|   6.0| 18332| 0.03760426|\n",
      "|     2866|   7.0| 29822|  1.1421095|\n",
      "|     3175|   5.0| 63111|-0.21619962|\n",
      "|     4101|   2.0| 82282|-0.47315684|\n",
      "|     4900|  10.0| 30185|        NaN|\n",
      "|     5518|   5.0|112042| -0.4043395|\n",
      "|     5518|   8.0| 57245| -0.7950466|\n",
      "|     6336|   1.0| 82272|  -3.063899|\n",
      "|     6336|   4.0| 69799|   9.631379|\n",
      "|     6336|   3.0|  8867|  -4.333564|\n",
      "|     6336|   2.0| 86088| -10.321013|\n",
      "|     6336|   5.0| 92889|  -8.203182|\n",
      "|     6336|   5.0|103232|  2.7293777|\n",
      "|     6336|   3.0| 92757|  3.9227939|\n",
      "|     6658|   6.0| 81011|  1.2529993|\n",
      "|     6658|   8.0| 72802|  1.3647562|\n",
      "|     6658|   8.0| 48155|    8.64561|\n",
      "|     6658|   7.0| 73644|   9.471459|\n",
      "|     6658|   8.0|120182|   2.189111|\n",
      "|     6658|   8.0|  8016|  7.0462003|\n",
      "|     6658|   5.0| 67447| -0.9308217|\n",
      "|     6658|   3.0| 55305|  4.3616343|\n",
      "|     6658|   5.0| 31566|   2.596819|\n",
      "|     6658|   6.0|   312|  5.5574837|\n",
      "|     6658|   7.0| 62861|  6.7110705|\n",
      "|     6658|   6.0| 93548|   5.014227|\n",
      "|     6658|   7.0| 81342|  -5.919206|\n",
      "|     6658|   8.0| 41675|   8.242852|\n",
      "|     6658|   6.0|112590|  1.6786299|\n",
      "|     6658|   7.0| 97975|   7.845581|\n",
      "|     6658|   6.0|129292|   4.476625|\n",
      "|     6658|   7.0|  5294|   5.899236|\n",
      "|     6658|   6.0| 95776|  11.271653|\n",
      "|     6658|   7.0| 22590| -3.9555423|\n",
      "|     6658|   8.0| 61409| 0.23285896|\n",
      "|     7240|   4.0| 47649|        NaN|\n",
      "|     7880|  10.0|130802|        NaN|\n",
      "|     8592|   8.0|103050| 0.63970494|\n",
      "|     9852|   9.0|106762| -2.4617078|\n",
      "|     9852|   1.0| 93309| -2.2006686|\n",
      "|     9900|   5.0| 48191|  7.6373134|\n",
      "|     9900|   4.0| 85568| -4.1783648|\n",
      "|     9900|   5.0| 92906|  2.3226833|\n",
      "+---------+------+------+-----------+\n",
      "only showing top 50 rows\n",
      "\n"
     ]
    }
   ],
   "source": [
    "predictions.show(n=50)"
   ]
  },
  {
   "cell_type": "code",
   "execution_count": 17,
   "metadata": {
    "collapsed": false
   },
   "outputs": [
    {
     "name": "stdout",
     "output_type": "stream",
     "text": [
      "+-------+-----------------+----------+\n",
      "|summary|           rating|prediction|\n",
      "+-------+-----------------+----------+\n",
      "|  count|           433593|    433593|\n",
      "|   mean|5.946558177830362|       NaN|\n",
      "| stddev| 3.11120204146382|       NaN|\n",
      "|    min|              1.0|-86.023155|\n",
      "|    max|             10.0|       NaN|\n",
      "+-------+-----------------+----------+\n",
      "\n"
     ]
    }
   ],
   "source": [
    "predictions.describe(['rating', 'prediction']).show()"
   ]
  },
  {
   "cell_type": "code",
   "execution_count": 18,
   "metadata": {
    "collapsed": false
   },
   "outputs": [
    {
     "name": "stdout",
     "output_type": "stream",
     "text": [
      "Root-mean-square error = nan\n"
     ]
    }
   ],
   "source": [
    "rmse = evaluator.evaluate(predictions)\n",
    "print(\"Root-mean-square error = \" + str(rmse))"
   ]
  },
  {
   "cell_type": "markdown",
   "metadata": {},
   "source": [
    "Let's find the top 10 female matches for userID 209 who is a male:"
   ]
  },
  {
   "cell_type": "code",
   "execution_count": 19,
   "metadata": {
    "collapsed": true
   },
   "outputs": [],
   "source": [
    "matchseekerID = 209"
   ]
  },
  {
   "cell_type": "code",
   "execution_count": 20,
   "metadata": {
    "collapsed": false
   },
   "outputs": [
    {
     "name": "stdout",
     "output_type": "stream",
     "text": [
      "+---------+------+\n",
      "|profileID|userID|\n",
      "+---------+------+\n",
      "|        1|   209|\n",
      "|        2|   209|\n",
      "|        4|   209|\n",
      "|        5|   209|\n",
      "|        6|   209|\n",
      "|        7|   209|\n",
      "|       11|   209|\n",
      "|       19|   209|\n",
      "|       24|   209|\n",
      "|       25|   209|\n",
      "|       26|   209|\n",
      "|       27|   209|\n",
      "|       28|   209|\n",
      "|       31|   209|\n",
      "|       35|   209|\n",
      "|       36|   209|\n",
      "|       38|   209|\n",
      "|       39|   209|\n",
      "|       40|   209|\n",
      "|       42|   209|\n",
      "+---------+------+\n",
      "only showing top 20 rows\n",
      "\n"
     ]
    }
   ],
   "source": [
    "lines = spark.sparkContext.textFile('gender.dat')\n",
    "usersRDD = lines.map(parse_user).filter(lambda x: x[1] == 'F').map(lambda x: Row(userID=matchseekerID, profileID=x[0]))\n",
    "users = spark.createDataFrame(usersRDD)\n",
    "users.show()"
   ]
  },
  {
   "cell_type": "code",
   "execution_count": 21,
   "metadata": {
    "collapsed": false
   },
   "outputs": [
    {
     "name": "stdout",
     "output_type": "stream",
     "text": [
      "+---------+------+----------+\n",
      "|profileID|userID|prediction|\n",
      "+---------+------+----------+\n",
      "|       31|   209|       NaN|\n",
      "|      516|   209|       NaN|\n",
      "|     1139|   209|       NaN|\n",
      "|     1143|   209|       NaN|\n",
      "|     1270|   209|       NaN|\n",
      "|     1322|   209|       NaN|\n",
      "|     1618|   209|       NaN|\n",
      "|     1699|   209|       NaN|\n",
      "|     1903|   209|       NaN|\n",
      "|     2393|   209|       NaN|\n",
      "+---------+------+----------+\n",
      "only showing top 10 rows\n",
      "\n"
     ]
    }
   ],
   "source": [
    "predictions_matchseekerID = model.transform(users)\n",
    "predictions_matchseekerID.sort('prediction', ascending=False).show(n=10)"
   ]
  },
  {
   "cell_type": "code",
   "execution_count": 22,
   "metadata": {
    "collapsed": true
   },
   "outputs": [],
   "source": [
    "#spark.stop()"
   ]
  }
 ],
 "metadata": {
  "anaconda-cloud": {},
  "kernelspec": {
   "display_name": "Python [conda root]",
   "language": "python",
   "name": "conda-root-py"
  },
  "language_info": {
   "codemirror_mode": {
    "name": "ipython",
    "version": 2
   },
   "file_extension": ".py",
   "mimetype": "text/x-python",
   "name": "python",
   "nbconvert_exporter": "python",
   "pygments_lexer": "ipython2",
   "version": "2.7.12"
  }
 },
 "nbformat": 4,
 "nbformat_minor": 1
}
