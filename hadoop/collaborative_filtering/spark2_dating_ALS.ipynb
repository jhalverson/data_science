{
 "cells": [
  {
   "cell_type": "markdown",
   "metadata": {},
   "source": [
    "# Jonathan Halverson\n",
    "# Friday, February 9, 2018\n",
    "# Dating Recommender in Spark 2"
   ]
  },
  {
   "cell_type": "markdown",
   "metadata": {},
   "source": [
    "This code uses alternating least squares to make recommendations for individuals on a dating site. The data is the user id, profile id and rating. We also have gender information that we use at the end."
   ]
  },
  {
   "cell_type": "code",
   "execution_count": 1,
   "metadata": {
    "collapsed": true
   },
   "outputs": [],
   "source": [
    "from __future__ import print_function\n",
    "\n",
    "import sys\n",
    "import random\n",
    "import pandas as pd\n",
    "from pyspark.sql import SparkSession\n",
    "from pyspark.sql import Row\n",
    "from pyspark.ml.recommendation import ALS\n",
    "from pyspark.ml.evaluation import RegressionEvaluator"
   ]
  },
  {
   "cell_type": "code",
   "execution_count": 2,
   "metadata": {
    "collapsed": true
   },
   "outputs": [],
   "source": [
    "import matplotlib.pyplot as plt\n",
    "%matplotlib inline\n",
    "plt.style.use('halverson')"
   ]
  },
  {
   "cell_type": "code",
   "execution_count": 3,
   "metadata": {
    "collapsed": false
   },
   "outputs": [
    {
     "name": "stdout",
     "output_type": "stream",
     "text": [
      "Spark version: 2.2.1\n"
     ]
    }
   ],
   "source": [
    "APP_NAME = \"Dating Recommender\"\n",
    "spark = SparkSession.builder.appName(APP_NAME).config(\"spark.driver.host\", \"localhost\").getOrCreate()\n",
    "print(\"Spark version: %s\" % spark.version)"
   ]
  },
  {
   "cell_type": "markdown",
   "metadata": {},
   "source": [
    "Let's look at the data files:"
   ]
  },
  {
   "cell_type": "code",
   "execution_count": 4,
   "metadata": {
    "collapsed": false
   },
   "outputs": [
    {
     "name": "stdout",
     "output_type": "stream",
     "text": [
      "root\n",
      " |-- user_id: integer (nullable = true)\n",
      " |-- profile_id: integer (nullable = true)\n",
      " |-- stars: double (nullable = true)\n",
      "\n"
     ]
    }
   ],
   "source": [
    "ratings_raw = spark.read.csv('ratings.dat', inferSchema=True)\n",
    "ratings_raw = ratings_raw.withColumnRenamed('_c0', 'user_id')\\\n",
    "                         .withColumnRenamed('_c1', 'profile_id')\\\n",
    "                         .withColumnRenamed('_c2', 'stars')\n",
    "ratings = ratings_raw.withColumn('stars', ratings_raw['stars'].cast('double'))\n",
    "ratings.printSchema()"
   ]
  },
  {
   "cell_type": "code",
   "execution_count": 5,
   "metadata": {
    "collapsed": true
   },
   "outputs": [],
   "source": [
    "#ratings = ratings.sample(False, fraction=0.1)"
   ]
  },
  {
   "cell_type": "code",
   "execution_count": 6,
   "metadata": {
    "collapsed": false
   },
   "outputs": [
    {
     "data": {
      "text/plain": [
       "(1084959, 1084959)"
      ]
     },
     "execution_count": 6,
     "metadata": {},
     "output_type": "execute_result"
    }
   ],
   "source": [
    "ratings.count(), ratings.distinct().count()"
   ]
  },
  {
   "cell_type": "code",
   "execution_count": 7,
   "metadata": {
    "collapsed": false
   },
   "outputs": [
    {
     "name": "stdout",
     "output_type": "stream",
     "text": [
      "+-------+----------+-----+\n",
      "|user_id|profile_id|stars|\n",
      "+-------+----------+-----+\n",
      "|      1|      8305| 10.0|\n",
      "|      1|     15530|  6.0|\n",
      "|      1|     22319| 10.0|\n",
      "|      1|     32136|  9.0|\n",
      "|      1|     38868|  7.0|\n",
      "+-------+----------+-----+\n",
      "only showing top 5 rows\n",
      "\n"
     ]
    }
   ],
   "source": [
    "ratings.show(5)"
   ]
  },
  {
   "cell_type": "code",
   "execution_count": 8,
   "metadata": {
    "collapsed": false
   },
   "outputs": [
    {
     "data": {
      "text/plain": [
       "0"
      ]
     },
     "execution_count": 8,
     "metadata": {},
     "output_type": "execute_result"
    }
   ],
   "source": [
    "ratings.filter(\"stars is null or user_id is null\").count()"
   ]
  },
  {
   "cell_type": "code",
   "execution_count": 9,
   "metadata": {
    "collapsed": false
   },
   "outputs": [
    {
     "data": {
      "text/plain": [
       "0"
      ]
     },
     "execution_count": 9,
     "metadata": {},
     "output_type": "execute_result"
    }
   ],
   "source": [
    "ratings.filter(ratings.stars.isNull()).count()"
   ]
  },
  {
   "cell_type": "code",
   "execution_count": 10,
   "metadata": {
    "collapsed": false
   },
   "outputs": [
    {
     "name": "stdout",
     "output_type": "stream",
     "text": [
      "+-------+-----------------+-----------------+------------------+\n",
      "|summary|          user_id|       profile_id|             stars|\n",
      "+-------+-----------------+-----------------+------------------+\n",
      "|  count|          1084959|          1084959|           1084959|\n",
      "|   mean|67872.97318331845|101357.1026490402| 5.938874187872537|\n",
      "| stddev|38762.11893306934|62182.40771188681|3.1116234963652234|\n",
      "|    min|                1|                1|               1.0|\n",
      "|    max|           135359|           220970|              10.0|\n",
      "+-------+-----------------+-----------------+------------------+\n",
      "\n"
     ]
    }
   ],
   "source": [
    "ratings.describe().show()"
   ]
  },
  {
   "cell_type": "code",
   "execution_count": 11,
   "metadata": {
    "collapsed": false
   },
   "outputs": [
    {
     "data": {
      "text/plain": [
       "135359"
      ]
     },
     "execution_count": 11,
     "metadata": {},
     "output_type": "execute_result"
    }
   ],
   "source": [
    "ratings.select('user_id').distinct().count()"
   ]
  },
  {
   "cell_type": "code",
   "execution_count": 12,
   "metadata": {
    "collapsed": false
   },
   "outputs": [
    {
     "data": {
      "text/plain": [
       "98623"
      ]
     },
     "execution_count": 12,
     "metadata": {},
     "output_type": "execute_result"
    }
   ],
   "source": [
    "ratings.select(ratings.profile_id).distinct().count()"
   ]
  },
  {
   "cell_type": "markdown",
   "metadata": {},
   "source": [
    "Let's check our results by going to Pandas (for big data this will not be possible):"
   ]
  },
  {
   "cell_type": "code",
   "execution_count": 13,
   "metadata": {
    "collapsed": false
   },
   "outputs": [
    {
     "name": "stdout",
     "output_type": "stream",
     "text": [
      "<class 'pandas.core.frame.DataFrame'>\n",
      "RangeIndex: 1084959 entries, 0 to 1084958\n",
      "Data columns (total 3 columns):\n",
      "user_id       1084959 non-null int64\n",
      "profile_id    1084959 non-null int64\n",
      "stars         1084959 non-null float64\n",
      "dtypes: float64(1), int64(2)\n",
      "memory usage: 24.8 MB\n"
     ]
    }
   ],
   "source": [
    "ratings.toPandas().info()"
   ]
  },
  {
   "cell_type": "markdown",
   "metadata": {},
   "source": [
    "What is the minimum number of ratings by a user?"
   ]
  },
  {
   "cell_type": "code",
   "execution_count": 14,
   "metadata": {
    "collapsed": false
   },
   "outputs": [],
   "source": [
    "ratings_counts_by_user = ratings.groupBy(ratings_raw.user_id).count()\n",
    "ratings_counts_by_user = ratings_counts_by_user.withColumnRenamed('count', 'count1')"
   ]
  },
  {
   "cell_type": "code",
   "execution_count": 15,
   "metadata": {
    "collapsed": false
   },
   "outputs": [
    {
     "name": "stdout",
     "output_type": "stream",
     "text": [
      "+-------+------+\n",
      "|user_id|count1|\n",
      "+-------+------+\n",
      "|   9867|     1|\n",
      "|  16800|     1|\n",
      "|  12723|     1|\n",
      "|   1005|     1|\n",
      "|  12757|     1|\n",
      "+-------+------+\n",
      "only showing top 5 rows\n",
      "\n"
     ]
    }
   ],
   "source": [
    "ratings_counts_by_user.sort('count1').show(5)"
   ]
  },
  {
   "cell_type": "code",
   "execution_count": 16,
   "metadata": {
    "collapsed": false
   },
   "outputs": [
    {
     "name": "stdout",
     "output_type": "stream",
     "text": [
      "+------+-----+\n",
      "|count1|count|\n",
      "+------+-----+\n",
      "|     1|18661|\n",
      "|     2|25869|\n",
      "|     3|12926|\n",
      "|     4| 9655|\n",
      "|     5|10697|\n",
      "+------+-----+\n",
      "only showing top 5 rows\n",
      "\n"
     ]
    }
   ],
   "source": [
    "ratings_counts_by_user.groupBy('count1').count().sort('count1').show(5)"
   ]
  },
  {
   "cell_type": "markdown",
   "metadata": {},
   "source": [
    "We see that 18661 users have only rated 1 profile."
   ]
  },
  {
   "cell_type": "code",
   "execution_count": 17,
   "metadata": {
    "collapsed": false
   },
   "outputs": [
    {
     "data": {
      "text/plain": [
       "<matplotlib.text.Text at 0x12ad52210>"
      ]
     },
     "execution_count": 17,
     "metadata": {},
     "output_type": "execute_result"
    },
    {
     "data": {
      "image/png": "[encoded data removed]",
      "text/plain": [
       "<matplotlib.figure.Figure at 0x10ad71e50>"
      ]
     },
     "metadata": {},
     "output_type": "display_data"
    }
   ],
   "source": [
    "hf = ratings_counts_by_user.groupBy('count1').count().sort('count1').toPandas()\n",
    "plt.bar(left=hf.count1.values[:50], height=hf['count'].values[:50])\n",
    "plt.xlabel('Number of Ratings Made by a User')\n",
    "plt.ylabel('Count')"
   ]
  },
  {
   "cell_type": "markdown",
   "metadata": {},
   "source": [
    "The histogram above shows that there are many users that do not have 20 or more ratings despite what is stated in the book."
   ]
  },
  {
   "cell_type": "code",
   "execution_count": 18,
   "metadata": {
    "collapsed": false
   },
   "outputs": [
    {
     "name": "stdout",
     "output_type": "stream",
     "text": [
      "+-------+-----+\n",
      "|user_id|count|\n",
      "+-------+-----+\n",
      "|   6482|    1|\n",
      "|  13875|    1|\n",
      "|   7281|    1|\n",
      "|   1339|    1|\n",
      "|   7879|    1|\n",
      "+-------+-----+\n",
      "only showing top 5 rows\n",
      "\n"
     ]
    }
   ],
   "source": [
    "from pyspark.sql import functions as F\n",
    "\n",
    "rating_counts = ratings.groupBy('user_id').agg(F.count('*').alias('count'))\n",
    "rating_counts.sort('count', ascending=True).show(n=5)"
   ]
  },
  {
   "cell_type": "markdown",
   "metadata": {},
   "source": [
    "Let's check to see if the same user made multiple ratings for the same profile:"
   ]
  },
  {
   "cell_type": "code",
   "execution_count": 19,
   "metadata": {
    "collapsed": false
   },
   "outputs": [
    {
     "data": {
      "text/plain": [
       "False"
      ]
     },
     "execution_count": 19,
     "metadata": {},
     "output_type": "execute_result"
    }
   ],
   "source": [
    "ratings.select('user_id', 'profile_id').dropDuplicates().count() != ratings.count()"
   ]
  },
  {
   "cell_type": "markdown",
   "metadata": {},
   "source": [
    "### Gender data"
   ]
  },
  {
   "cell_type": "code",
   "execution_count": 20,
   "metadata": {
    "collapsed": false
   },
   "outputs": [
    {
     "name": "stdout",
     "output_type": "stream",
     "text": [
      "+-------+------+\n",
      "|user_id|gender|\n",
      "+-------+------+\n",
      "|      1|     F|\n",
      "|      2|     F|\n",
      "|      3|     U|\n",
      "+-------+------+\n",
      "only showing top 3 rows\n",
      "\n"
     ]
    }
   ],
   "source": [
    "gender = spark.read.csv('gender.dat', inferSchema=True)\n",
    "gender = gender.withColumnRenamed('_c0', 'user_id').withColumnRenamed('_c1', 'gender')\n",
    "gender.show(3)"
   ]
  },
  {
   "cell_type": "code",
   "execution_count": 21,
   "metadata": {
    "collapsed": false
   },
   "outputs": [
    {
     "name": "stdout",
     "output_type": "stream",
     "text": [
      "root\n",
      " |-- user_id: integer (nullable = true)\n",
      " |-- gender: string (nullable = true)\n",
      "\n"
     ]
    }
   ],
   "source": [
    "gender.printSchema()"
   ]
  },
  {
   "cell_type": "code",
   "execution_count": 22,
   "metadata": {
    "collapsed": false
   },
   "outputs": [
    {
     "name": "stdout",
     "output_type": "stream",
     "text": [
      "+-------+----------------+------+\n",
      "|summary|         user_id|gender|\n",
      "+-------+----------------+------+\n",
      "|  count|          220970|220970|\n",
      "|   mean|        110485.5|  null|\n",
      "| stddev|63788.6888288198|  null|\n",
      "|    min|               1|     F|\n",
      "|    max|          220970|     U|\n",
      "+-------+----------------+------+\n",
      "\n"
     ]
    }
   ],
   "source": [
    "gender.describe().show()"
   ]
  },
  {
   "cell_type": "code",
   "execution_count": 23,
   "metadata": {
    "collapsed": false
   },
   "outputs": [
    {
     "name": "stdout",
     "output_type": "stream",
     "text": [
      "+------+\n",
      "|gender|\n",
      "+------+\n",
      "|     F|\n",
      "|     M|\n",
      "|     U|\n",
      "+------+\n",
      "\n"
     ]
    }
   ],
   "source": [
    "gender.select(gender.gender).distinct().show()"
   ]
  },
  {
   "cell_type": "code",
   "execution_count": 24,
   "metadata": {
    "collapsed": false
   },
   "outputs": [
    {
     "data": {
      "text/plain": [
       "0"
      ]
     },
     "execution_count": 24,
     "metadata": {},
     "output_type": "execute_result"
    }
   ],
   "source": [
    "gender.filter(gender.user_id.isNull()).count()"
   ]
  },
  {
   "cell_type": "code",
   "execution_count": 25,
   "metadata": {
    "collapsed": false
   },
   "outputs": [
    {
     "data": {
      "text/plain": [
       "0"
      ]
     },
     "execution_count": 25,
     "metadata": {},
     "output_type": "execute_result"
    }
   ],
   "source": [
    "gender.filter(gender.gender.isNull()).count()"
   ]
  },
  {
   "cell_type": "code",
   "execution_count": 26,
   "metadata": {
    "collapsed": false
   },
   "outputs": [
    {
     "name": "stdout",
     "output_type": "stream",
     "text": [
      "<class 'pandas.core.frame.DataFrame'>\n",
      "RangeIndex: 220970 entries, 0 to 220969\n",
      "Data columns (total 2 columns):\n",
      "user_id    220970 non-null int64\n",
      "gender     220970 non-null object\n",
      "dtypes: int64(1), object(1)\n",
      "memory usage: 3.4+ MB\n"
     ]
    }
   ],
   "source": [
    "gender.toPandas().info()"
   ]
  },
  {
   "cell_type": "markdown",
   "metadata": {},
   "source": [
    "### Create train-test split"
   ]
  },
  {
   "cell_type": "markdown",
   "metadata": {},
   "source": [
    "Split the ratings data into a training and test set:"
   ]
  },
  {
   "cell_type": "code",
   "execution_count": 27,
   "metadata": {
    "collapsed": false
   },
   "outputs": [],
   "source": [
    "training, test = ratings.randomSplit([0.7, 0.3])\n",
    "training = training.cache()\n",
    "test = test.cache()"
   ]
  },
  {
   "cell_type": "code",
   "execution_count": 28,
   "metadata": {
    "collapsed": false
   },
   "outputs": [
    {
     "data": {
      "text/plain": [
       "0"
      ]
     },
     "execution_count": 28,
     "metadata": {},
     "output_type": "execute_result"
    }
   ],
   "source": [
    "training.intersect(test).count()"
   ]
  },
  {
   "cell_type": "code",
   "execution_count": 29,
   "metadata": {
    "collapsed": false
   },
   "outputs": [
    {
     "name": "stdout",
     "output_type": "stream",
     "text": [
      "Training: 759713\n",
      "Validation: 325246\n"
     ]
    }
   ],
   "source": [
    "print('Training: %d' % training.count())\n",
    "print('Validation: %d' % test.count())"
   ]
  },
  {
   "cell_type": "code",
   "execution_count": 30,
   "metadata": {
    "collapsed": false
   },
   "outputs": [
    {
     "name": "stdout",
     "output_type": "stream",
     "text": [
      "+-------+----------+-----+\n",
      "|user_id|profile_id|stars|\n",
      "+-------+----------+-----+\n",
      "|      1|     32136|  9.0|\n",
      "|      1|     48470|  8.0|\n",
      "|      1|     54481|  3.0|\n",
      "|      1|     73611| 10.0|\n",
      "|      1|     83855|  7.0|\n",
      "+-------+----------+-----+\n",
      "only showing top 5 rows\n",
      "\n"
     ]
    }
   ],
   "source": [
    "test.show(5)"
   ]
  },
  {
   "cell_type": "markdown",
   "metadata": {},
   "source": [
    "### Fit model and make predictions"
   ]
  },
  {
   "cell_type": "code",
   "execution_count": 31,
   "metadata": {
    "collapsed": false
   },
   "outputs": [],
   "source": [
    "# cold start parameter is for handling user/item ids the model \n",
    "# has not seen in the training data\n",
    "als = ALS(rank=25, maxIter=10, userCol=\"user_id\", itemCol=\"profile_id\",\n",
    "          ratingCol=\"stars\", regParam=1.0, coldStartStrategy=\"drop\")\n",
    "model = als.fit(training)"
   ]
  },
  {
   "cell_type": "code",
   "execution_count": 32,
   "metadata": {
    "collapsed": false
   },
   "outputs": [
    {
     "name": "stdout",
     "output_type": "stream",
     "text": [
      "Root-mean-square error (train) = 1.73812314421\n"
     ]
    }
   ],
   "source": [
    "evaluator = RegressionEvaluator(metricName=\"rmse\", labelCol=\"stars\", predictionCol=\"prediction\")\n",
    "rmse = evaluator.evaluate(model.transform(training))\n",
    "print(\"Root-mean-square error (train) = \" + str(rmse))"
   ]
  },
  {
   "cell_type": "code",
   "execution_count": 33,
   "metadata": {
    "collapsed": false
   },
   "outputs": [
    {
     "name": "stdout",
     "output_type": "stream",
     "text": [
      "+-------+-----------------+------------------+\n",
      "|summary|            stars|        prediction|\n",
      "+-------+-----------------+------------------+\n",
      "|  count|           302828|            302828|\n",
      "|   mean|5.947894514377799| 4.748041585460299|\n",
      "| stddev|3.104069364213004|2.2543092185523914|\n",
      "|    min|              1.0|        -3.7730815|\n",
      "|    max|             10.0|         14.747769|\n",
      "+-------+-----------------+------------------+\n",
      "\n"
     ]
    }
   ],
   "source": [
    "predictions = model.transform(test)\n",
    "predictions.describe(['stars', 'prediction']).show()"
   ]
  },
  {
   "cell_type": "code",
   "execution_count": 34,
   "metadata": {
    "collapsed": false
   },
   "outputs": [
    {
     "name": "stdout",
     "output_type": "stream",
     "text": [
      "Root-mean-square error (test) = 2.5449470429\n"
     ]
    }
   ],
   "source": [
    "rmse = evaluator.evaluate(predictions)\n",
    "print(\"Root-mean-square error (test) = \" + str(rmse))"
   ]
  },
  {
   "cell_type": "markdown",
   "metadata": {},
   "source": [
    "### Make specific recommendations"
   ]
  },
  {
   "cell_type": "markdown",
   "metadata": {},
   "source": [
    "Let's find the top 10 female matches for a random male:"
   ]
  },
  {
   "cell_type": "code",
   "execution_count": 35,
   "metadata": {
    "collapsed": true
   },
   "outputs": [],
   "source": [
    "matchseekerID = ratings.groupBy('user_id').count().filter('count > 50').first()[0]"
   ]
  },
  {
   "cell_type": "code",
   "execution_count": 36,
   "metadata": {
    "collapsed": false
   },
   "outputs": [
    {
     "name": "stdout",
     "output_type": "stream",
     "text": [
      "+-------+------+\n",
      "|user_id|gender|\n",
      "+-------+------+\n",
      "|  11858|     M|\n",
      "+-------+------+\n",
      "\n"
     ]
    }
   ],
   "source": [
    "gender.filter(gender.user_id == matchseekerID).show()"
   ]
  },
  {
   "cell_type": "code",
   "execution_count": 37,
   "metadata": {
    "collapsed": false
   },
   "outputs": [
    {
     "name": "stdout",
     "output_type": "stream",
     "text": [
      "+----------+------+-------+\n",
      "|profile_id|gender|user_id|\n",
      "+----------+------+-------+\n",
      "|         1|     F|  11858|\n",
      "|         2|     F|  11858|\n",
      "|         4|     F|  11858|\n",
      "|         5|     F|  11858|\n",
      "|         6|     F|  11858|\n",
      "+----------+------+-------+\n",
      "only showing top 5 rows\n",
      "\n"
     ]
    }
   ],
   "source": [
    "from pyspark.sql.functions import lit\n",
    "\n",
    "my_pred = gender.filter(gender.gender == 'F').withColumn('user_id__', lit(matchseekerID))\\\n",
    "                                             .withColumnRenamed('user_id', 'profile_id')\\\n",
    "                                             .withColumnRenamed('user_id__', 'user_id')\n",
    "my_pred.show(5)"
   ]
  },
  {
   "cell_type": "code",
   "execution_count": 38,
   "metadata": {
    "collapsed": false
   },
   "outputs": [
    {
     "name": "stdout",
     "output_type": "stream",
     "text": [
      "+----------+------+-------+----------+\n",
      "|profile_id|gender|user_id|prediction|\n",
      "+----------+------+-------+----------+\n",
      "|    121050|     F|  11858| 10.710513|\n",
      "|    125609|     F|  11858| 10.282748|\n",
      "|    125281|     F|  11858| 10.251322|\n",
      "|     87892|     F|  11858| 10.165944|\n",
      "|    112034|     F|  11858| 10.149731|\n",
      "|     66863|     F|  11858| 10.122427|\n",
      "|      2986|     F|  11858| 10.102703|\n",
      "|    119748|     F|  11858| 10.032566|\n",
      "|    125027|     F|  11858| 10.032566|\n",
      "|     46615|     F|  11858|  9.991462|\n",
      "+----------+------+-------+----------+\n",
      "only showing top 10 rows\n",
      "\n"
     ]
    }
   ],
   "source": [
    "predictions_matchseekerID = model.transform(my_pred)\n",
    "predictions_matchseekerID.sort('prediction', ascending=False).show(10)"
   ]
  }
 ],
 "metadata": {
  "anaconda-cloud": {},
  "kernelspec": {
   "display_name": "Python [conda root]",
   "language": "python",
   "name": "conda-root-py"
  },
  "language_info": {
   "codemirror_mode": {
    "name": "ipython",
    "version": 2
   },
   "file_extension": ".py",
   "mimetype": "text/x-python",
   "name": "python",
   "nbconvert_exporter": "python",
   "pygments_lexer": "ipython2",
   "version": "2.7.12"
  }
 },
 "nbformat": 4,
 "nbformat_minor": 1
}
