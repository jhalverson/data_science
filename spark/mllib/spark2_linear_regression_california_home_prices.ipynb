{
 "cells": [
  {
   "cell_type": "markdown",
   "metadata": {},
   "source": [
    "# Jonathan Halverson\n",
    "# Saturday, February 10, 2018\n",
    "# Home prices in California in Spark 2"
   ]
  },
  {
   "cell_type": "markdown",
   "metadata": {},
   "source": [
    "In this notebook we perform linear regression and RF on some home prices."
   ]
  },
  {
   "cell_type": "code",
   "execution_count": 1,
   "metadata": {
    "collapsed": true
   },
   "outputs": [],
   "source": [
    "import matplotlib.pyplot as plt\n",
    "%matplotlib inline\n",
    "plt.style.use('halverson')"
   ]
  },
  {
   "cell_type": "code",
   "execution_count": 2,
   "metadata": {
    "collapsed": true
   },
   "outputs": [],
   "source": [
    "from pyspark.sql import SparkSession\n",
    "spark = SparkSession.builder.config(\"spark.driver.host\", \"localhost\").getOrCreate()"
   ]
  },
  {
   "cell_type": "code",
   "execution_count": 3,
   "metadata": {
    "collapsed": false
   },
   "outputs": [
    {
     "name": "stdout",
     "output_type": "stream",
     "text": [
      "+----------------+----------+-----+-----+----+-----+------+-----------+-----+---------+-----------+\n",
      "|          street|      city|  zip|state|beds|baths|sq__ft|       type|price| latitude|  longitude|\n",
      "+----------------+----------+-----+-----+----+-----+------+-----------+-----+---------+-----------+\n",
      "|    3526 HIGH ST|SACRAMENTO|95838|   CA|   2|    1|   836|Residential|59222|38.631913|-121.434879|\n",
      "|     51 OMAHA CT|SACRAMENTO|95823|   CA|   3|    1|  1167|Residential|68212|38.478902|-121.431028|\n",
      "|  2796 BRANCH ST|SACRAMENTO|95815|   CA|   2|    1|   796|Residential|68880|38.618305|-121.443839|\n",
      "|2805 JANETTE WAY|SACRAMENTO|95815|   CA|   2|    1|   852|Residential|69307|38.616835|-121.439146|\n",
      "| 6001 MCMAHON DR|SACRAMENTO|95824|   CA|   2|    1|   797|Residential|81900| 38.51947|-121.435768|\n",
      "+----------------+----------+-----+-----+----+-----+------+-----------+-----+---------+-----------+\n",
      "only showing top 5 rows\n",
      "\n"
     ]
    }
   ],
   "source": [
    "housing_raw = spark.read.csv('Sacramentorealestatetransactions.csv', inferSchema=True, header=True)\n",
    "all_wo_date = housing_raw.columns\n",
    "all_wo_date.remove('sale_date')\n",
    "housing_raw.select(all_wo_date).show(5)"
   ]
  },
  {
   "cell_type": "code",
   "execution_count": 4,
   "metadata": {
    "collapsed": false
   },
   "outputs": [
    {
     "data": {
      "text/html": [
       "<div>\n",
       "<style scoped>\n",
       "    .dataframe tbody tr th:only-of-type {\n",
       "        vertical-align: middle;\n",
       "    }\n",
       "\n",
       "    .dataframe tbody tr th {\n",
       "        vertical-align: top;\n",
       "    }\n",
       "\n",
       "    .dataframe thead th {\n",
       "        text-align: right;\n",
       "    }\n",
       "</style>\n",
       "<table border=\"1\" class=\"dataframe\">\n",
       "  <thead>\n",
       "    <tr style=\"text-align: right;\">\n",
       "      <th></th>\n",
       "      <th>0</th>\n",
       "      <th>1</th>\n",
       "      <th>2</th>\n",
       "    </tr>\n",
       "  </thead>\n",
       "  <tbody>\n",
       "    <tr>\n",
       "      <th>street</th>\n",
       "      <td>3526 HIGH ST</td>\n",
       "      <td>51 OMAHA CT</td>\n",
       "      <td>2796 BRANCH ST</td>\n",
       "    </tr>\n",
       "    <tr>\n",
       "      <th>city</th>\n",
       "      <td>SACRAMENTO</td>\n",
       "      <td>SACRAMENTO</td>\n",
       "      <td>SACRAMENTO</td>\n",
       "    </tr>\n",
       "    <tr>\n",
       "      <th>zip</th>\n",
       "      <td>95838</td>\n",
       "      <td>95823</td>\n",
       "      <td>95815</td>\n",
       "    </tr>\n",
       "    <tr>\n",
       "      <th>state</th>\n",
       "      <td>CA</td>\n",
       "      <td>CA</td>\n",
       "      <td>CA</td>\n",
       "    </tr>\n",
       "    <tr>\n",
       "      <th>beds</th>\n",
       "      <td>2</td>\n",
       "      <td>3</td>\n",
       "      <td>2</td>\n",
       "    </tr>\n",
       "    <tr>\n",
       "      <th>baths</th>\n",
       "      <td>1</td>\n",
       "      <td>1</td>\n",
       "      <td>1</td>\n",
       "    </tr>\n",
       "    <tr>\n",
       "      <th>sq__ft</th>\n",
       "      <td>836</td>\n",
       "      <td>1167</td>\n",
       "      <td>796</td>\n",
       "    </tr>\n",
       "    <tr>\n",
       "      <th>type</th>\n",
       "      <td>Residential</td>\n",
       "      <td>Residential</td>\n",
       "      <td>Residential</td>\n",
       "    </tr>\n",
       "    <tr>\n",
       "      <th>sale_date</th>\n",
       "      <td>Wed May 21 00:00:00 EDT 2008</td>\n",
       "      <td>Wed May 21 00:00:00 EDT 2008</td>\n",
       "      <td>Wed May 21 00:00:00 EDT 2008</td>\n",
       "    </tr>\n",
       "    <tr>\n",
       "      <th>price</th>\n",
       "      <td>59222</td>\n",
       "      <td>68212</td>\n",
       "      <td>68880</td>\n",
       "    </tr>\n",
       "    <tr>\n",
       "      <th>latitude</th>\n",
       "      <td>38.6319</td>\n",
       "      <td>38.4789</td>\n",
       "      <td>38.6183</td>\n",
       "    </tr>\n",
       "    <tr>\n",
       "      <th>longitude</th>\n",
       "      <td>-121.435</td>\n",
       "      <td>-121.431</td>\n",
       "      <td>-121.444</td>\n",
       "    </tr>\n",
       "  </tbody>\n",
       "</table>\n",
       "</div>"
      ],
      "text/plain": [
       "                                      0                             1  \\\n",
       "street                     3526 HIGH ST                   51 OMAHA CT   \n",
       "city                         SACRAMENTO                    SACRAMENTO   \n",
       "zip                               95838                         95823   \n",
       "state                                CA                            CA   \n",
       "beds                                  2                             3   \n",
       "baths                                 1                             1   \n",
       "sq__ft                              836                          1167   \n",
       "type                        Residential                   Residential   \n",
       "sale_date  Wed May 21 00:00:00 EDT 2008  Wed May 21 00:00:00 EDT 2008   \n",
       "price                             59222                         68212   \n",
       "latitude                        38.6319                       38.4789   \n",
       "longitude                      -121.435                      -121.431   \n",
       "\n",
       "                                      2  \n",
       "street                   2796 BRANCH ST  \n",
       "city                         SACRAMENTO  \n",
       "zip                               95815  \n",
       "state                                CA  \n",
       "beds                                  2  \n",
       "baths                                 1  \n",
       "sq__ft                              796  \n",
       "type                        Residential  \n",
       "sale_date  Wed May 21 00:00:00 EDT 2008  \n",
       "price                             68880  \n",
       "latitude                        38.6183  \n",
       "longitude                      -121.444  "
      ]
     },
     "execution_count": 4,
     "metadata": {},
     "output_type": "execute_result"
    }
   ],
   "source": [
    "housing_raw.toPandas().head(3).T"
   ]
  },
  {
   "cell_type": "code",
   "execution_count": 5,
   "metadata": {
    "collapsed": false
   },
   "outputs": [],
   "source": [
    "from pyspark.sql.functions import to_timestamp\n",
    "housing = housing_raw.withColumn('sale_date', to_timestamp('sale_date', 'EEE MMM d H:mm:ss z yyyy'))"
   ]
  },
  {
   "cell_type": "code",
   "execution_count": 6,
   "metadata": {
    "collapsed": false
   },
   "outputs": [
    {
     "name": "stdout",
     "output_type": "stream",
     "text": [
      "root\n",
      " |-- street: string (nullable = true)\n",
      " |-- city: string (nullable = true)\n",
      " |-- zip: integer (nullable = true)\n",
      " |-- state: string (nullable = true)\n",
      " |-- beds: integer (nullable = true)\n",
      " |-- baths: integer (nullable = true)\n",
      " |-- sq__ft: integer (nullable = true)\n",
      " |-- type: string (nullable = true)\n",
      " |-- sale_date: timestamp (nullable = true)\n",
      " |-- price: integer (nullable = true)\n",
      " |-- latitude: double (nullable = true)\n",
      " |-- longitude: double (nullable = true)\n",
      "\n"
     ]
    }
   ],
   "source": [
    "housing.printSchema()"
   ]
  },
  {
   "cell_type": "code",
   "execution_count": 7,
   "metadata": {
    "collapsed": false
   },
   "outputs": [
    {
     "name": "stdout",
     "output_type": "stream",
     "text": [
      "+-------------------+-----+\n",
      "|          sale_date|count|\n",
      "+-------------------+-----+\n",
      "|2008-05-19 00:00:00|  268|\n",
      "|2008-05-21 00:00:00|  158|\n",
      "|2008-05-15 00:00:00|  118|\n",
      "|2008-05-16 00:00:00|  264|\n",
      "|2008-05-20 00:00:00|  177|\n",
      "+-------------------+-----+\n",
      "\n"
     ]
    }
   ],
   "source": [
    "housing.groupBy('sale_date').count().show()"
   ]
  },
  {
   "cell_type": "code",
   "execution_count": 8,
   "metadata": {
    "collapsed": false
   },
   "outputs": [
    {
     "name": "stdout",
     "output_type": "stream",
     "text": [
      "+-------+------------------+------------------+------------------+------------------+-------------------+\n",
      "|summary|              beds|             baths|            sq__ft|             price|           latitude|\n",
      "+-------+------------------+------------------+------------------+------------------+-------------------+\n",
      "|  count|               985|               985|               985|               985|                985|\n",
      "|   mean|2.9116751269035532|1.7766497461928934|1314.9167512690356|234144.26395939087| 38.607732086294504|\n",
      "| stddev|1.3079322320435807|0.8953714223186463| 853.0482425034448|138365.83908492787|0.14543287915296987|\n",
      "|    min|                 0|                 0|                 0|              1551|          38.241514|\n",
      "|    max|                 8|                 5|              5822|            884790|          39.020808|\n",
      "+-------+------------------+------------------+------------------+------------------+-------------------+\n",
      "\n"
     ]
    }
   ],
   "source": [
    "housing.select('beds', 'baths', 'sq__ft', 'price', 'latitude').describe().show()"
   ]
  },
  {
   "cell_type": "code",
   "execution_count": 9,
   "metadata": {
    "collapsed": false
   },
   "outputs": [
    {
     "data": {
      "text/plain": [
       "985"
      ]
     },
     "execution_count": 9,
     "metadata": {},
     "output_type": "execute_result"
    }
   ],
   "source": [
    "housing.count()"
   ]
  },
  {
   "cell_type": "code",
   "execution_count": 10,
   "metadata": {
    "collapsed": false
   },
   "outputs": [
    {
     "name": "stdout",
     "output_type": "stream",
     "text": [
      "<class 'pandas.core.frame.DataFrame'>\n",
      "RangeIndex: 985 entries, 0 to 984\n",
      "Data columns (total 12 columns):\n",
      "street       985 non-null object\n",
      "city         985 non-null object\n",
      "zip          985 non-null int64\n",
      "state        985 non-null object\n",
      "beds         985 non-null int64\n",
      "baths        985 non-null int64\n",
      "sq__ft       985 non-null int64\n",
      "type         985 non-null object\n",
      "sale_date    985 non-null datetime64[ns]\n",
      "price        985 non-null int64\n",
      "latitude     985 non-null float64\n",
      "longitude    985 non-null float64\n",
      "dtypes: datetime64[ns](1), float64(2), int64(5), object(4)\n",
      "memory usage: 92.4+ KB\n"
     ]
    }
   ],
   "source": [
    "housing.toPandas().info()"
   ]
  },
  {
   "cell_type": "code",
   "execution_count": 11,
   "metadata": {
    "collapsed": false
   },
   "outputs": [
    {
     "data": {
      "text/plain": [
       "<matplotlib.text.Text at 0x10af00bd0>"
      ]
     },
     "execution_count": 11,
     "metadata": {},
     "output_type": "execute_result"
    },
    {
     "data": {
      "image/png": "[encoded data removed]",
      "text/plain": [
       "<matplotlib.figure.Figure at 0x10aee5a50>"
      ]
     },
     "metadata": {},
     "output_type": "display_data"
    }
   ],
   "source": [
    "plt.hist(housing.select('price').rdd.map(lambda x: x[0]).collect(), bins=25)\n",
    "plt.xlabel('Price')\n",
    "plt.ylabel('Count')"
   ]
  },
  {
   "cell_type": "code",
   "execution_count": 12,
   "metadata": {
    "collapsed": false
   },
   "outputs": [
    {
     "data": {
      "text/plain": [
       "<matplotlib.text.Text at 0x1133afb50>"
      ]
     },
     "execution_count": 12,
     "metadata": {},
     "output_type": "execute_result"
    },
    {
     "data": {
      "image/png": "[encoded data removed]",
      "text/plain": [
       "<matplotlib.figure.Figure at 0x11336ee90>"
      ]
     },
     "metadata": {},
     "output_type": "display_data"
    }
   ],
   "source": [
    "plt.hist(housing.select('sq__ft').rdd.map(lambda x: x[0]).collect(), bins=25)\n",
    "plt.xlabel('Square feet')\n",
    "plt.ylabel('Count')"
   ]
  },
  {
   "cell_type": "code",
   "execution_count": 13,
   "metadata": {
    "collapsed": false
   },
   "outputs": [
    {
     "name": "stdout",
     "output_type": "stream",
     "text": [
      "+-----+-----+\n",
      "|baths|count|\n",
      "+-----+-----+\n",
      "|    0|  108|\n",
      "|    1|  180|\n",
      "|    2|  544|\n",
      "|    3|  132|\n",
      "|    4|   19|\n",
      "|    5|    2|\n",
      "+-----+-----+\n",
      "\n"
     ]
    }
   ],
   "source": [
    "housing.groupBy('baths').count().orderBy('baths').show()"
   ]
  },
  {
   "cell_type": "code",
   "execution_count": 14,
   "metadata": {
    "collapsed": false
   },
   "outputs": [
    {
     "name": "stdout",
     "output_type": "stream",
     "text": [
      "+----+-----+\n",
      "|beds|count|\n",
      "+----+-----+\n",
      "|   0|  108|\n",
      "|   1|   10|\n",
      "|   2|  133|\n",
      "|   3|  413|\n",
      "|   4|  258|\n",
      "|   5|   59|\n",
      "|   6|    3|\n",
      "|   8|    1|\n",
      "+----+-----+\n",
      "\n"
     ]
    }
   ],
   "source": [
    "housing.groupBy('beds').count().orderBy('beds').show()"
   ]
  },
  {
   "cell_type": "code",
   "execution_count": 15,
   "metadata": {
    "collapsed": false
   },
   "outputs": [
    {
     "name": "stdout",
     "output_type": "stream",
     "text": [
      "+------------+-----+\n",
      "|        type|count|\n",
      "+------------+-----+\n",
      "|       Condo|   54|\n",
      "|Multi-Family|   13|\n",
      "| Residential|  917|\n",
      "|      Unkown|    1|\n",
      "+------------+-----+\n",
      "\n"
     ]
    }
   ],
   "source": [
    "housing.groupBy('type').count().orderBy('type').show()"
   ]
  },
  {
   "cell_type": "code",
   "execution_count": 16,
   "metadata": {
    "collapsed": false
   },
   "outputs": [
    {
     "name": "stdout",
     "output_type": "stream",
     "text": [
      "+---------------+------------------+--------+\n",
      "|           city|        avg(price)|count(1)|\n",
      "+---------------+------------------+--------+\n",
      "|    SLOUGHHOUSE|            2000.0|       1|\n",
      "|        LINCOLN| 96539.26388888889|      72|\n",
      "|        ELVERTA|          132866.0|       4|\n",
      "|NORTH HIGHLANDS|135659.33333333334|      21|\n",
      "|WEST SACRAMENTO|          170700.0|       3|\n",
      "|      RIO LINDA|172727.61538461538|      13|\n",
      "| CITRUS HEIGHTS|187114.91428571427|      35|\n",
      "|     FORESTHILL|          194818.0|       1|\n",
      "|     SACRAMENTO|197735.98861047835|     439|\n",
      "|DIAMOND SPRINGS|          216033.0|       1|\n",
      "|   MEADOW VISTA|          230000.0|       1|\n",
      "|       ANTELOPE|232496.39393939395|      33|\n",
      "|           GALT|236943.42857142858|      21|\n",
      "|         MATHER|          237800.0|       1|\n",
      "|  POLLOCK PINES|240302.66666666666|       3|\n",
      "|      EL DORADO|          247000.0|       2|\n",
      "| RANCHO CORDOVA| 263405.9285714286|      28|\n",
      "|   CAMERON PARK|267944.44444444444|       9|\n",
      "|      ELK GROVE| 271157.6929824561|     114|\n",
      "|SHINGLE SPRINGS|          275000.0|       1|\n",
      "|     ORANGEVALE|279159.54545454547|      11|\n",
      "|     CARMICHAEL|         295684.75|      20|\n",
      "| RANCHO MURIETA|          297750.0|       3|\n",
      "|           COOL|          300000.0|       1|\n",
      "|      FAIR OAKS| 303500.6666666667|       9|\n",
      "|      ROSEVILLE|         324528.25|      48|\n",
      "|     GOLD RIVER|          358000.0|       4|\n",
      "|    PLACERVILLE|          363863.4|      10|\n",
      "|   WALNUT GROVE|          380000.0|       1|\n",
      "|        ROCKLIN|381835.82352941175|      17|\n",
      "|      GREENWOOD|          395000.0|       1|\n",
      "|         AUBURN|          405890.8|       5|\n",
      "|         FOLSOM|414960.17647058825|      17|\n",
      "|  GARDEN VALLEY|          490000.0|       1|\n",
      "|EL DORADO HILLS|491698.95652173914|      23|\n",
      "|         PENRYN|          506688.0|       1|\n",
      "|         LOOMIS|          567000.0|       2|\n",
      "|         WILTON|          617508.4|       5|\n",
      "|    GRANITE BAY| 678733.3333333334|       3|\n",
      "+---------------+------------------+--------+\n",
      "\n"
     ]
    }
   ],
   "source": [
    "from pyspark.sql import functions as F\n",
    "housing.groupBy('city').agg(F.avg('price'), F.count('*')).orderBy('avg(price)').show(100)"
   ]
  },
  {
   "cell_type": "markdown",
   "metadata": {},
   "source": [
    "# How to combine columns of vectors"
   ]
  },
  {
   "cell_type": "code",
   "execution_count": 36,
   "metadata": {
    "collapsed": false
   },
   "outputs": [
    {
     "name": "stdout",
     "output_type": "stream",
     "text": [
      "+--------------------+--------------+-----+-----+----+-----+------+-----------+-------------------+------+---------+-----------+-------+-------------+\n",
      "|              street|          city|  zip|state|beds|baths|sq__ft|       type|          sale_date| price| latitude|  longitude|indexed|          ohe|\n",
      "+--------------------+--------------+-----+-----+----+-----+------+-----------+-------------------+------+---------+-----------+-------+-------------+\n",
      "|        3526 HIGH ST|    SACRAMENTO|95838|   CA|   2|    1|   836|Residential|2008-05-21 00:00:00| 59222|38.631913|-121.434879|    0.0|(3,[0],[1.0])|\n",
      "|         51 OMAHA CT|    SACRAMENTO|95823|   CA|   3|    1|  1167|Residential|2008-05-21 00:00:00| 68212|38.478902|-121.431028|    0.0|(3,[0],[1.0])|\n",
      "|      2796 BRANCH ST|    SACRAMENTO|95815|   CA|   2|    1|   796|Residential|2008-05-21 00:00:00| 68880|38.618305|-121.443839|    0.0|(3,[0],[1.0])|\n",
      "|    2805 JANETTE WAY|    SACRAMENTO|95815|   CA|   2|    1|   852|Residential|2008-05-21 00:00:00| 69307|38.616835|-121.439146|    0.0|(3,[0],[1.0])|\n",
      "|     6001 MCMAHON DR|    SACRAMENTO|95824|   CA|   2|    1|   797|Residential|2008-05-21 00:00:00| 81900| 38.51947|-121.435768|    0.0|(3,[0],[1.0])|\n",
      "|  5828 PEPPERMILL CT|    SACRAMENTO|95841|   CA|   3|    1|  1122|      Condo|2008-05-21 00:00:00| 89921|38.662595|-121.327813|    1.0|(3,[1],[1.0])|\n",
      "| 6048 OGDEN NASH WAY|    SACRAMENTO|95842|   CA|   3|    2|  1104|Residential|2008-05-21 00:00:00| 90895|38.681659|-121.351705|    0.0|(3,[0],[1.0])|\n",
      "|       2561 19TH AVE|    SACRAMENTO|95820|   CA|   3|    1|  1177|Residential|2008-05-21 00:00:00| 91002|38.535092|-121.481367|    0.0|(3,[0],[1.0])|\n",
      "|11150 TRINITY RIV...|RANCHO CORDOVA|95670|   CA|   2|    2|   941|      Condo|2008-05-21 00:00:00| 94905|38.621188|-121.270555|    1.0|(3,[1],[1.0])|\n",
      "|        7325 10TH ST|     RIO LINDA|95673|   CA|   3|    2|  1146|Residential|2008-05-21 00:00:00| 98937|38.700909|-121.442979|    0.0|(3,[0],[1.0])|\n",
      "|    645 MORRISON AVE|    SACRAMENTO|95838|   CA|   3|    2|   909|Residential|2008-05-21 00:00:00|100309|38.637663| -121.45152|    0.0|(3,[0],[1.0])|\n",
      "|       4085 FAWN CIR|    SACRAMENTO|95823|   CA|   3|    2|  1289|Residential|2008-05-21 00:00:00|106250|38.470746|-121.458918|    0.0|(3,[0],[1.0])|\n",
      "|     2930 LA ROSA RD|    SACRAMENTO|95815|   CA|   1|    1|   871|Residential|2008-05-21 00:00:00|106852|38.618698|-121.435833|    0.0|(3,[0],[1.0])|\n",
      "|       2113 KIRK WAY|    SACRAMENTO|95822|   CA|   3|    1|  1020|Residential|2008-05-21 00:00:00|107502|38.482215|-121.492603|    0.0|(3,[0],[1.0])|\n",
      "| 4533 LOCH HAVEN WAY|    SACRAMENTO|95842|   CA|   2|    2|  1022|Residential|2008-05-21 00:00:00|108750|38.672914| -121.35934|    0.0|(3,[0],[1.0])|\n",
      "|      7340 HAMDEN PL|    SACRAMENTO|95842|   CA|   2|    2|  1134|      Condo|2008-05-21 00:00:00|110700|38.700051|-121.351278|    1.0|(3,[1],[1.0])|\n",
      "|         6715 6TH ST|     RIO LINDA|95673|   CA|   2|    1|   844|Residential|2008-05-21 00:00:00|113263|38.689591|-121.452239|    0.0|(3,[0],[1.0])|\n",
      "|6236 LONGFORD DR ...|CITRUS HEIGHTS|95621|   CA|   2|    1|   795|      Condo|2008-05-21 00:00:00|116250|38.679776|-121.314089|    1.0|(3,[1],[1.0])|\n",
      "|     250 PERALTA AVE|    SACRAMENTO|95833|   CA|   2|    1|   588|Residential|2008-05-21 00:00:00|120000|38.612099|-121.469095|    0.0|(3,[0],[1.0])|\n",
      "|     113 LEEWILL AVE|     RIO LINDA|95673|   CA|   3|    2|  1356|Residential|2008-05-21 00:00:00|121630|38.689999| -121.46322|    0.0|(3,[0],[1.0])|\n",
      "+--------------------+--------------+-----+-----+----+-----+------+-----------+-------------------+------+---------+-----------+-------+-------------+\n",
      "only showing top 20 rows\n",
      "\n"
     ]
    }
   ],
   "source": [
    "from pyspark.ml.feature import OneHotEncoder, StringIndexer\n",
    "\n",
    "vec_idx = StringIndexer(inputCol=\"type\", outputCol=\"indexed\")\n",
    "model = vec_idx.fit(housing)\n",
    "td = model.transform(housing)\n",
    "ohe = OneHotEncoder(inputCol=\"indexed\", outputCol=\"ohe\")\n",
    "ohe.transform(td).show()"
   ]
  },
  {
   "cell_type": "code",
   "execution_count": 26,
   "metadata": {
    "collapsed": false
   },
   "outputs": [
    {
     "name": "stdout",
     "output_type": "stream",
     "text": [
      "+--------------------+--------------+-----+-----+----+-----+------+-----------+------+---------+-----------+-------+\n",
      "|              street|          city|  zip|state|beds|baths|sq__ft|       type| price| latitude|  longitude|indexed|\n",
      "+--------------------+--------------+-----+-----+----+-----+------+-----------+------+---------+-----------+-------+\n",
      "|        3526 HIGH ST|    SACRAMENTO|95838|   CA|   2|    1|   836|Residential| 59222|38.631913|-121.434879|    0.0|\n",
      "|         51 OMAHA CT|    SACRAMENTO|95823|   CA|   3|    1|  1167|Residential| 68212|38.478902|-121.431028|    0.0|\n",
      "|      2796 BRANCH ST|    SACRAMENTO|95815|   CA|   2|    1|   796|Residential| 68880|38.618305|-121.443839|    0.0|\n",
      "|    2805 JANETTE WAY|    SACRAMENTO|95815|   CA|   2|    1|   852|Residential| 69307|38.616835|-121.439146|    0.0|\n",
      "|     6001 MCMAHON DR|    SACRAMENTO|95824|   CA|   2|    1|   797|Residential| 81900| 38.51947|-121.435768|    0.0|\n",
      "|  5828 PEPPERMILL CT|    SACRAMENTO|95841|   CA|   3|    1|  1122|      Condo| 89921|38.662595|-121.327813|    1.0|\n",
      "| 6048 OGDEN NASH WAY|    SACRAMENTO|95842|   CA|   3|    2|  1104|Residential| 90895|38.681659|-121.351705|    0.0|\n",
      "|       2561 19TH AVE|    SACRAMENTO|95820|   CA|   3|    1|  1177|Residential| 91002|38.535092|-121.481367|    0.0|\n",
      "|11150 TRINITY RIV...|RANCHO CORDOVA|95670|   CA|   2|    2|   941|      Condo| 94905|38.621188|-121.270555|    1.0|\n",
      "|        7325 10TH ST|     RIO LINDA|95673|   CA|   3|    2|  1146|Residential| 98937|38.700909|-121.442979|    0.0|\n",
      "|    645 MORRISON AVE|    SACRAMENTO|95838|   CA|   3|    2|   909|Residential|100309|38.637663| -121.45152|    0.0|\n",
      "|       4085 FAWN CIR|    SACRAMENTO|95823|   CA|   3|    2|  1289|Residential|106250|38.470746|-121.458918|    0.0|\n",
      "|     2930 LA ROSA RD|    SACRAMENTO|95815|   CA|   1|    1|   871|Residential|106852|38.618698|-121.435833|    0.0|\n",
      "|       2113 KIRK WAY|    SACRAMENTO|95822|   CA|   3|    1|  1020|Residential|107502|38.482215|-121.492603|    0.0|\n",
      "| 4533 LOCH HAVEN WAY|    SACRAMENTO|95842|   CA|   2|    2|  1022|Residential|108750|38.672914| -121.35934|    0.0|\n",
      "|      7340 HAMDEN PL|    SACRAMENTO|95842|   CA|   2|    2|  1134|      Condo|110700|38.700051|-121.351278|    1.0|\n",
      "|         6715 6TH ST|     RIO LINDA|95673|   CA|   2|    1|   844|Residential|113263|38.689591|-121.452239|    0.0|\n",
      "|6236 LONGFORD DR ...|CITRUS HEIGHTS|95621|   CA|   2|    1|   795|      Condo|116250|38.679776|-121.314089|    1.0|\n",
      "|     250 PERALTA AVE|    SACRAMENTO|95833|   CA|   2|    1|   588|Residential|120000|38.612099|-121.469095|    0.0|\n",
      "|     113 LEEWILL AVE|     RIO LINDA|95673|   CA|   3|    2|  1356|Residential|121630|38.689999| -121.46322|    0.0|\n",
      "+--------------------+--------------+-----+-----+----+-----+------+-----------+------+---------+-----------+-------+\n",
      "only showing top 20 rows\n",
      "\n"
     ]
    }
   ],
   "source": [
    "model.transform(housing).select(all_wo_date + ['indexed']).show()"
   ]
  },
  {
   "cell_type": "code",
   "execution_count": 19,
   "metadata": {
    "collapsed": false
   },
   "outputs": [
    {
     "name": "stdout",
     "output_type": "stream",
     "text": [
      "+---------------+------------------+-----------------+------------------+-----------------+\n",
      "|           city|                 0|                1|                 2|                3|\n",
      "+---------------+------------------+-----------------+------------------+-----------------+\n",
      "|       ANTELOPE|              null|         223139.0|        212704.625|       293041.375|\n",
      "|         AUBURN|              null|             null|          272500.0|         494818.0|\n",
      "|   CAMERON PARK|          119000.0|         201000.0|298785.71428571426|             null|\n",
      "|     CARMICHAEL|              null|         212218.0|          293097.2|         668365.0|\n",
      "| CITRUS HEIGHTS|              null|147464.2857142857|         195035.28|         192418.0|\n",
      "|           COOL|              null|             null|          300000.0|             null|\n",
      "|DIAMOND SPRINGS|              null|             null|          216033.0|             null|\n",
      "|      EL DORADO|              null|         205000.0|          289000.0|             null|\n",
      "|EL DORADO HILLS|          614500.0|             null|          369213.8|        554429.75|\n",
      "|      ELK GROVE|285214.28571428574|89666.66666666667|239681.41666666666|346359.1379310345|\n",
      "+---------------+------------------+-----------------+------------------+-----------------+\n",
      "only showing top 10 rows\n",
      "\n"
     ]
    }
   ],
   "source": [
    "housing.groupBy('city').pivot('baths', [0, 1, 2, 3]).avg('price').orderBy('city').show(10)"
   ]
  },
  {
   "cell_type": "code",
   "execution_count": 20,
   "metadata": {
    "collapsed": false
   },
   "outputs": [
    {
     "name": "stdout",
     "output_type": "stream",
     "text": [
      "+-------------------+----------+-----+-----+----+-----+------+-----------+------+---------+-----------+\n",
      "|             street|      city|  zip|state|beds|baths|sq__ft|       type| price| latitude|  longitude|\n",
      "+-------------------+----------+-----+-----+----+-----+------+-----------+------+---------+-----------+\n",
      "|       3526 HIGH ST|SACRAMENTO|95838|   CA|   2|    1|   836|Residential| 59222|38.631913|-121.434879|\n",
      "|        51 OMAHA CT|SACRAMENTO|95823|   CA|   3|    1|  1167|Residential| 68212|38.478902|-121.431028|\n",
      "|     2796 BRANCH ST|SACRAMENTO|95815|   CA|   2|    1|   796|Residential| 68880|38.618305|-121.443839|\n",
      "|   2805 JANETTE WAY|SACRAMENTO|95815|   CA|   2|    1|   852|Residential| 69307|38.616835|-121.439146|\n",
      "|    6001 MCMAHON DR|SACRAMENTO|95824|   CA|   2|    1|   797|Residential| 81900| 38.51947|-121.435768|\n",
      "| 5828 PEPPERMILL CT|SACRAMENTO|95841|   CA|   3|    1|  1122|      Condo| 89921|38.662595|-121.327813|\n",
      "|6048 OGDEN NASH WAY|SACRAMENTO|95842|   CA|   3|    2|  1104|Residential| 90895|38.681659|-121.351705|\n",
      "|      2561 19TH AVE|SACRAMENTO|95820|   CA|   3|    1|  1177|Residential| 91002|38.535092|-121.481367|\n",
      "|   645 MORRISON AVE|SACRAMENTO|95838|   CA|   3|    2|   909|Residential|100309|38.637663| -121.45152|\n",
      "|      4085 FAWN CIR|SACRAMENTO|95823|   CA|   3|    2|  1289|Residential|106250|38.470746|-121.458918|\n",
      "|    2930 LA ROSA RD|SACRAMENTO|95815|   CA|   1|    1|   871|Residential|106852|38.618698|-121.435833|\n",
      "|      2113 KIRK WAY|SACRAMENTO|95822|   CA|   3|    1|  1020|Residential|107502|38.482215|-121.492603|\n",
      "|4533 LOCH HAVEN WAY|SACRAMENTO|95842|   CA|   2|    2|  1022|Residential|108750|38.672914| -121.35934|\n",
      "|     7340 HAMDEN PL|SACRAMENTO|95842|   CA|   2|    2|  1134|      Condo|110700|38.700051|-121.351278|\n",
      "|    250 PERALTA AVE|SACRAMENTO|95833|   CA|   2|    1|   588|Residential|120000|38.612099|-121.469095|\n",
      "|  4882 BANDALIN WAY|SACRAMENTO|95823|   CA|   4|    2|  1329|Residential|122682|38.468173|-121.444071|\n",
      "|       9 PASTURE CT|SACRAMENTO|95834|   CA|   3|    2|  1601|Residential|124100|38.628631|-121.488097|\n",
      "|    4108 NORTON WAY|SACRAMENTO|95820|   CA|   3|    1|   963|Residential|127281|38.537526|-121.478315|\n",
      "|   1469 JANRICK AVE|SACRAMENTO|95832|   CA|   3|    2|  1119|Residential|129000|38.476472|-121.501711|\n",
      "|      9861 CULP WAY|SACRAMENTO|95827|   CA|   4|    2|  1380|Residential|131200|38.558423|-121.327948|\n",
      "+-------------------+----------+-----+-----+----+-----+------+-----------+------+---------+-----------+\n",
      "only showing top 20 rows\n",
      "\n"
     ]
    }
   ],
   "source": [
    "housing.where(\"city == 'SACRAMENTO'\").select(all_wo_date).show()"
   ]
  },
  {
   "cell_type": "code",
   "execution_count": 21,
   "metadata": {
    "collapsed": false
   },
   "outputs": [
    {
     "name": "stdout",
     "output_type": "stream",
     "text": [
      "+---------------+-----+\n",
      "|           city|count|\n",
      "+---------------+-----+\n",
      "|       ANTELOPE|   33|\n",
      "|         AUBURN|    5|\n",
      "|   CAMERON PARK|    9|\n",
      "|     CARMICHAEL|   20|\n",
      "| CITRUS HEIGHTS|   35|\n",
      "|           COOL|    1|\n",
      "|DIAMOND SPRINGS|    1|\n",
      "|      EL DORADO|    2|\n",
      "|EL DORADO HILLS|   23|\n",
      "|      ELK GROVE|  114|\n",
      "|        ELVERTA|    4|\n",
      "|      FAIR OAKS|    9|\n",
      "|         FOLSOM|   17|\n",
      "|     FORESTHILL|    1|\n",
      "|           GALT|   21|\n",
      "|  GARDEN VALLEY|    1|\n",
      "|     GOLD RIVER|    4|\n",
      "|    GRANITE BAY|    3|\n",
      "|      GREENWOOD|    1|\n",
      "|        LINCOLN|   72|\n",
      "|         LOOMIS|    2|\n",
      "|         MATHER|    1|\n",
      "|   MEADOW VISTA|    1|\n",
      "|NORTH HIGHLANDS|   21|\n",
      "|     ORANGEVALE|   11|\n",
      "|         PENRYN|    1|\n",
      "|    PLACERVILLE|   10|\n",
      "|  POLLOCK PINES|    3|\n",
      "| RANCHO CORDOVA|   28|\n",
      "| RANCHO MURIETA|    3|\n",
      "|      RIO LINDA|   13|\n",
      "|        ROCKLIN|   17|\n",
      "|      ROSEVILLE|   48|\n",
      "|     SACRAMENTO|  439|\n",
      "|SHINGLE SPRINGS|    1|\n",
      "|    SLOUGHHOUSE|    1|\n",
      "|   WALNUT GROVE|    1|\n",
      "|WEST SACRAMENTO|    3|\n",
      "|         WILTON|    5|\n",
      "+---------------+-----+\n",
      "\n"
     ]
    }
   ],
   "source": [
    "housing.groupBy('city').count().orderBy('city').show(50)"
   ]
  },
  {
   "cell_type": "code",
   "execution_count": 22,
   "metadata": {
    "collapsed": false
   },
   "outputs": [
    {
     "data": {
      "text/plain": [
       "<matplotlib.text.Text at 0x113f07890>"
      ]
     },
     "execution_count": 22,
     "metadata": {},
     "output_type": "execute_result"
    },
    {
     "data": {
      "image/png": "[encoded data removed]",
      "text/plain": [
       "<matplotlib.figure.Figure at 0x113dabfd0>"
      ]
     },
     "metadata": {},
     "output_type": "display_data"
    }
   ],
   "source": [
    "x = housing.select('longitude').rdd.map(lambda row: row[0]).collect()\n",
    "y = housing.select('latitude').rdd.map(lambda row: row[0]).collect()\n",
    "plt.scatter(x, y, alpha=0.25)\n",
    "plt.axis('equal')\n",
    "plt.xlabel('Longitude')\n",
    "plt.ylabel('Latitude')"
   ]
  },
  {
   "cell_type": "code",
   "execution_count": 23,
   "metadata": {
    "collapsed": false
   },
   "outputs": [
    {
     "name": "stdout",
     "output_type": "stream",
     "text": [
      "+-----+----+-----+------+-----------+\n",
      "|price|beds|baths|sq__ft|       city|\n",
      "+-----+----+-----+------+-----------+\n",
      "| 1551|   3|    3|     0|    LINCOLN|\n",
      "| 2000|   3|    4|  5822|SLOUGHHOUSE|\n",
      "| 4897|   0|    0|     0|    LINCOLN|\n",
      "| 4897|   0|    0|     0|    LINCOLN|\n",
      "| 4897|   0|    0|     0|    LINCOLN|\n",
      "| 4897|   0|    0|     0|    LINCOLN|\n",
      "| 4897|   0|    0|     0|    LINCOLN|\n",
      "| 4897|   0|    0|     0|    LINCOLN|\n",
      "| 4897|   0|    0|     0|    LINCOLN|\n",
      "| 4897|   0|    0|     0|    LINCOLN|\n",
      "+-----+----+-----+------+-----------+\n",
      "only showing top 10 rows\n",
      "\n"
     ]
    }
   ],
   "source": [
    "housing.select('price', 'beds', 'baths', 'sq__ft', 'city').orderBy('price', ascending=True).show(10)"
   ]
  },
  {
   "cell_type": "code",
   "execution_count": 24,
   "metadata": {
    "collapsed": false
   },
   "outputs": [
    {
     "name": "stdout",
     "output_type": "stream",
     "text": [
      "+------+-----+\n",
      "| price|count|\n",
      "+------+-----+\n",
      "|  4897|   49|\n",
      "|220000|   10|\n",
      "|250000|    9|\n",
      "|150000|    9|\n",
      "|170000|    9|\n",
      "|205000|    8|\n",
      "|195000|    7|\n",
      "|225000|    7|\n",
      "|165000|    7|\n",
      "|230000|    7|\n",
      "|180000|    7|\n",
      "|200000|    7|\n",
      "|215000|    7|\n",
      "|300000|    7|\n",
      "|145000|    7|\n",
      "|315000|    6|\n",
      "|270000|    6|\n",
      "|160000|    5|\n",
      "|190000|    5|\n",
      "|125000|    5|\n",
      "+------+-----+\n",
      "only showing top 20 rows\n",
      "\n"
     ]
    }
   ],
   "source": [
    "housing.groupBy('price').count().orderBy('count', ascending=False).show()"
   ]
  },
  {
   "cell_type": "markdown",
   "metadata": {},
   "source": [
    "# Use encoder for cities"
   ]
  },
  {
   "cell_type": "markdown",
   "metadata": {},
   "source": [
    "We see in the table above that there are zero min values. Let's remove all homes with a zero:"
   ]
  },
  {
   "cell_type": "code",
   "execution_count": 25,
   "metadata": {
    "collapsed": false
   },
   "outputs": [
    {
     "ename": "NameError",
     "evalue": "name 'df' is not defined",
     "output_type": "error",
     "traceback": [
      "\u001b[0;31m---------------------------------------------------------------------------\u001b[0m",
      "\u001b[0;31mNameError\u001b[0m                                 Traceback (most recent call last)",
      "\u001b[0;32m<ipython-input-25-9fbe59a924fd>\u001b[0m in \u001b[0;36m<module>\u001b[0;34m()\u001b[0m\n\u001b[0;32m----> 1\u001b[0;31m \u001b[0mdf\u001b[0m \u001b[0;34m=\u001b[0m \u001b[0mdf\u001b[0m\u001b[0;34m[\u001b[0m\u001b[0mdf\u001b[0m\u001b[0;34m.\u001b[0m\u001b[0mbaths\u001b[0m \u001b[0;34m>\u001b[0m \u001b[0;36m0\u001b[0m\u001b[0;34m]\u001b[0m\u001b[0;34m\u001b[0m\u001b[0m\n\u001b[0m\u001b[1;32m      2\u001b[0m \u001b[0mdf\u001b[0m \u001b[0;34m=\u001b[0m \u001b[0mdf\u001b[0m\u001b[0;34m[\u001b[0m\u001b[0mdf\u001b[0m\u001b[0;34m.\u001b[0m\u001b[0mbeds\u001b[0m \u001b[0;34m>\u001b[0m \u001b[0;36m0\u001b[0m\u001b[0;34m]\u001b[0m\u001b[0;34m\u001b[0m\u001b[0m\n\u001b[1;32m      3\u001b[0m \u001b[0mdf\u001b[0m \u001b[0;34m=\u001b[0m \u001b[0mdf\u001b[0m\u001b[0;34m[\u001b[0m\u001b[0mdf\u001b[0m\u001b[0;34m.\u001b[0m\u001b[0msqft\u001b[0m \u001b[0;34m>\u001b[0m \u001b[0;36m0\u001b[0m\u001b[0;34m]\u001b[0m\u001b[0;34m\u001b[0m\u001b[0m\n",
      "\u001b[0;31mNameError\u001b[0m: name 'df' is not defined"
     ]
    }
   ],
   "source": [
    "df = df[df.baths > 0]\n",
    "df = df[df.beds > 0]\n",
    "df = df[df.sqft > 0]"
   ]
  },
  {
   "cell_type": "code",
   "execution_count": null,
   "metadata": {
    "collapsed": true
   },
   "outputs": [],
   "source": [
    "import numpy as np\n",
    "import pandas as pd\n",
    "import matplotlib.pyplot as plt\n",
    "%matplotlib inline\n",
    "plt.style.use('halverson')"
   ]
  },
  {
   "cell_type": "code",
   "execution_count": null,
   "metadata": {
    "collapsed": false
   },
   "outputs": [],
   "source": [
    "pf = df.toPandas()"
   ]
  },
  {
   "cell_type": "code",
   "execution_count": null,
   "metadata": {
    "collapsed": false
   },
   "outputs": [],
   "source": [
    "plt.plot(pf['sqft'], pf['price'], 'wo')\n",
    "plt.xlabel('Square feet')\n",
    "plt.ylabel('Price')"
   ]
  },
  {
   "cell_type": "markdown",
   "metadata": {},
   "source": [
    "### Machine learning model"
   ]
  },
  {
   "cell_type": "code",
   "execution_count": null,
   "metadata": {
    "collapsed": true
   },
   "outputs": [],
   "source": [
    "from pyspark.mllib.regression import LinearRegressionWithSGD\n",
    "from pyspark.mllib.regression import LabeledPoint"
   ]
  },
  {
   "cell_type": "code",
   "execution_count": null,
   "metadata": {
    "collapsed": false
   },
   "outputs": [],
   "source": [
    "df = df.select('price','baths','beds','sqft')\n",
    "data_features = df.map(lambda x: x[1:])\n",
    "data_features.take(5)"
   ]
  },
  {
   "cell_type": "code",
   "execution_count": null,
   "metadata": {
    "collapsed": false
   },
   "outputs": [],
   "source": [
    "from pyspark.mllib.feature import StandardScaler\n",
    "stdsc = StandardScaler(withMean=False, withStd=True).fit(data_features)\n",
    "data_features_std = stdsc.transform(data_features)"
   ]
  },
  {
   "cell_type": "code",
   "execution_count": null,
   "metadata": {
    "collapsed": false
   },
   "outputs": [],
   "source": [
    "from pyspark.mllib.stat import Statistics\n",
    "data_features_std_stats = Statistics.colStats(data_features_std)\n",
    "print 'train means:', data_features_std_stats.mean()\n",
    "print 'train variances:', data_features_std_stats.variance()"
   ]
  },
  {
   "cell_type": "code",
   "execution_count": null,
   "metadata": {
    "collapsed": false
   },
   "outputs": [],
   "source": [
    "transformed_data = df.map(lambda x: x[0]).zip(data_features_std)\n",
    "transformed_data = transformed_data.map(lambda x: LabeledPoint(x[0], [x[1]]))\n",
    "transformed_data.take(5)"
   ]
  },
  {
   "cell_type": "markdown",
   "metadata": {},
   "source": [
    "Perform a train-test split:"
   ]
  },
  {
   "cell_type": "code",
   "execution_count": null,
   "metadata": {
    "collapsed": true
   },
   "outputs": [],
   "source": [
    "train_data, test_data = transformed_data.randomSplit([0.8, 0.2], seed=1234)"
   ]
  },
  {
   "cell_type": "code",
   "execution_count": null,
   "metadata": {
    "collapsed": false
   },
   "outputs": [],
   "source": [
    "linearModel = LinearRegressionWithSGD.train(train_data, iterations=1000, step=0.25, intercept=False)\n",
    "print linearModel.weights"
   ]
  },
  {
   "cell_type": "markdown",
   "metadata": {},
   "source": [
    "Note below that a LabeledPoint has features and label data members:"
   ]
  },
  {
   "cell_type": "code",
   "execution_count": null,
   "metadata": {
    "collapsed": false
   },
   "outputs": [],
   "source": [
    "from pyspark.mllib.evaluation import RegressionMetrics\n",
    "prediObserRDDin = train_data.map(lambda row: (float(linearModel.predict(row.features[0])), row.label))\n",
    "metrics = RegressionMetrics(prediObserRDDin)\n",
    "print metrics.r2"
   ]
  },
  {
   "cell_type": "code",
   "execution_count": null,
   "metadata": {
    "collapsed": false
   },
   "outputs": [],
   "source": [
    "prediObserRDDout = test_data.map(lambda row: (float(linearModel.predict(row.features[0])), row.label))\n",
    "metrics = RegressionMetrics(prediObserRDDout)\n",
    "print metrics.rootMeanSquaredError"
   ]
  }
 ],
 "metadata": {
  "kernelspec": {
   "display_name": "Python [default]",
   "language": "python",
   "name": "python2"
  },
  "language_info": {
   "codemirror_mode": {
    "name": "ipython",
    "version": 2
   },
   "file_extension": ".py",
   "mimetype": "text/x-python",
   "name": "python",
   "nbconvert_exporter": "python",
   "pygments_lexer": "ipython2",
   "version": "2.7.12"
  }
 },
 "nbformat": 4,
 "nbformat_minor": 0
}
