{
 "cells": [
  {
   "cell_type": "markdown",
   "metadata": {},
   "source": [
    "# Jonathan Halverson\n",
    "# Saturday, February 10, 2018\n",
    "# Home prices in California in Spark 2"
   ]
  },
  {
   "cell_type": "markdown",
   "metadata": {},
   "source": [
    "In this notebook we create regression models for home prices."
   ]
  },
  {
   "cell_type": "code",
   "execution_count": 1,
   "metadata": {
    "collapsed": true
   },
   "outputs": [],
   "source": [
    "import numpy as np\n",
    "import pandas as pd\n",
    "import matplotlib.pyplot as plt\n",
    "%matplotlib inline\n",
    "plt.style.use('halverson')"
   ]
  },
  {
   "cell_type": "code",
   "execution_count": 2,
   "metadata": {
    "collapsed": true
   },
   "outputs": [],
   "source": [
    "from pyspark.sql import SparkSession\n",
    "spark = SparkSession.builder.config(\"spark.driver.host\", \"localhost\").getOrCreate()"
   ]
  },
  {
   "cell_type": "code",
   "execution_count": 3,
   "metadata": {
    "collapsed": false
   },
   "outputs": [
    {
     "name": "stdout",
     "output_type": "stream",
     "text": [
      "+----------------+----------+-----+-----+----+-----+----+-----------+-----+---------+-----------+\n",
      "|          street|      city|  zip|state|beds|baths|sqft|       type|price| latitude|  longitude|\n",
      "+----------------+----------+-----+-----+----+-----+----+-----------+-----+---------+-----------+\n",
      "|    3526 HIGH ST|SACRAMENTO|95838|   CA|   2|    1| 836|Residential|59222|38.631913|-121.434879|\n",
      "|     51 OMAHA CT|SACRAMENTO|95823|   CA|   3|    1|1167|Residential|68212|38.478902|-121.431028|\n",
      "|  2796 BRANCH ST|SACRAMENTO|95815|   CA|   2|    1| 796|Residential|68880|38.618305|-121.443839|\n",
      "|2805 JANETTE WAY|SACRAMENTO|95815|   CA|   2|    1| 852|Residential|69307|38.616835|-121.439146|\n",
      "| 6001 MCMAHON DR|SACRAMENTO|95824|   CA|   2|    1| 797|Residential|81900| 38.51947|-121.435768|\n",
      "+----------------+----------+-----+-----+----+-----+----+-----------+-----+---------+-----------+\n",
      "only showing top 5 rows\n",
      "\n"
     ]
    }
   ],
   "source": [
    "housing_raw = spark.read.csv('Sacramentorealestatetransactions.csv', inferSchema=True, header=True)\n",
    "housing_raw = housing_raw.withColumnRenamed('sq__ft', 'sqft')\n",
    "all_wo_date = housing_raw.columns\n",
    "all_wo_date.remove('sale_date')\n",
    "housing_raw.select(all_wo_date).show(5)"
   ]
  },
  {
   "cell_type": "code",
   "execution_count": 4,
   "metadata": {
    "collapsed": false
   },
   "outputs": [
    {
     "data": {
      "text/html": [
       "<div>\n",
       "<style scoped>\n",
       "    .dataframe tbody tr th:only-of-type {\n",
       "        vertical-align: middle;\n",
       "    }\n",
       "\n",
       "    .dataframe tbody tr th {\n",
       "        vertical-align: top;\n",
       "    }\n",
       "\n",
       "    .dataframe thead th {\n",
       "        text-align: right;\n",
       "    }\n",
       "</style>\n",
       "<table border=\"1\" class=\"dataframe\">\n",
       "  <thead>\n",
       "    <tr style=\"text-align: right;\">\n",
       "      <th></th>\n",
       "      <th>0</th>\n",
       "      <th>1</th>\n",
       "      <th>2</th>\n",
       "    </tr>\n",
       "  </thead>\n",
       "  <tbody>\n",
       "    <tr>\n",
       "      <th>street</th>\n",
       "      <td>3526 HIGH ST</td>\n",
       "      <td>51 OMAHA CT</td>\n",
       "      <td>2796 BRANCH ST</td>\n",
       "    </tr>\n",
       "    <tr>\n",
       "      <th>city</th>\n",
       "      <td>SACRAMENTO</td>\n",
       "      <td>SACRAMENTO</td>\n",
       "      <td>SACRAMENTO</td>\n",
       "    </tr>\n",
       "    <tr>\n",
       "      <th>zip</th>\n",
       "      <td>95838</td>\n",
       "      <td>95823</td>\n",
       "      <td>95815</td>\n",
       "    </tr>\n",
       "    <tr>\n",
       "      <th>state</th>\n",
       "      <td>CA</td>\n",
       "      <td>CA</td>\n",
       "      <td>CA</td>\n",
       "    </tr>\n",
       "    <tr>\n",
       "      <th>beds</th>\n",
       "      <td>2</td>\n",
       "      <td>3</td>\n",
       "      <td>2</td>\n",
       "    </tr>\n",
       "    <tr>\n",
       "      <th>baths</th>\n",
       "      <td>1</td>\n",
       "      <td>1</td>\n",
       "      <td>1</td>\n",
       "    </tr>\n",
       "    <tr>\n",
       "      <th>sqft</th>\n",
       "      <td>836</td>\n",
       "      <td>1167</td>\n",
       "      <td>796</td>\n",
       "    </tr>\n",
       "    <tr>\n",
       "      <th>type</th>\n",
       "      <td>Residential</td>\n",
       "      <td>Residential</td>\n",
       "      <td>Residential</td>\n",
       "    </tr>\n",
       "    <tr>\n",
       "      <th>sale_date</th>\n",
       "      <td>Wed May 21 00:00:00 EDT 2008</td>\n",
       "      <td>Wed May 21 00:00:00 EDT 2008</td>\n",
       "      <td>Wed May 21 00:00:00 EDT 2008</td>\n",
       "    </tr>\n",
       "    <tr>\n",
       "      <th>price</th>\n",
       "      <td>59222</td>\n",
       "      <td>68212</td>\n",
       "      <td>68880</td>\n",
       "    </tr>\n",
       "    <tr>\n",
       "      <th>latitude</th>\n",
       "      <td>38.6319</td>\n",
       "      <td>38.4789</td>\n",
       "      <td>38.6183</td>\n",
       "    </tr>\n",
       "    <tr>\n",
       "      <th>longitude</th>\n",
       "      <td>-121.435</td>\n",
       "      <td>-121.431</td>\n",
       "      <td>-121.444</td>\n",
       "    </tr>\n",
       "  </tbody>\n",
       "</table>\n",
       "</div>"
      ],
      "text/plain": [
       "                                      0                             1  \\\n",
       "street                     3526 HIGH ST                   51 OMAHA CT   \n",
       "city                         SACRAMENTO                    SACRAMENTO   \n",
       "zip                               95838                         95823   \n",
       "state                                CA                            CA   \n",
       "beds                                  2                             3   \n",
       "baths                                 1                             1   \n",
       "sqft                                836                          1167   \n",
       "type                        Residential                   Residential   \n",
       "sale_date  Wed May 21 00:00:00 EDT 2008  Wed May 21 00:00:00 EDT 2008   \n",
       "price                             59222                         68212   \n",
       "latitude                        38.6319                       38.4789   \n",
       "longitude                      -121.435                      -121.431   \n",
       "\n",
       "                                      2  \n",
       "street                   2796 BRANCH ST  \n",
       "city                         SACRAMENTO  \n",
       "zip                               95815  \n",
       "state                                CA  \n",
       "beds                                  2  \n",
       "baths                                 1  \n",
       "sqft                                796  \n",
       "type                        Residential  \n",
       "sale_date  Wed May 21 00:00:00 EDT 2008  \n",
       "price                             68880  \n",
       "latitude                        38.6183  \n",
       "longitude                      -121.444  "
      ]
     },
     "execution_count": 4,
     "metadata": {},
     "output_type": "execute_result"
    }
   ],
   "source": [
    "housing_raw.toPandas().head(3).T"
   ]
  },
  {
   "cell_type": "code",
   "execution_count": 5,
   "metadata": {
    "collapsed": false
   },
   "outputs": [],
   "source": [
    "from pyspark.sql.functions import to_timestamp\n",
    "housing = housing_raw.withColumn('sale_date', to_timestamp('sale_date', 'EEE MMM d H:mm:ss z yyyy'))"
   ]
  },
  {
   "cell_type": "code",
   "execution_count": 6,
   "metadata": {
    "collapsed": false
   },
   "outputs": [
    {
     "name": "stdout",
     "output_type": "stream",
     "text": [
      "root\n",
      " |-- street: string (nullable = true)\n",
      " |-- city: string (nullable = true)\n",
      " |-- zip: integer (nullable = true)\n",
      " |-- state: string (nullable = true)\n",
      " |-- beds: integer (nullable = true)\n",
      " |-- baths: integer (nullable = true)\n",
      " |-- sqft: integer (nullable = true)\n",
      " |-- type: string (nullable = true)\n",
      " |-- sale_date: timestamp (nullable = true)\n",
      " |-- price: integer (nullable = true)\n",
      " |-- latitude: double (nullable = true)\n",
      " |-- longitude: double (nullable = true)\n",
      "\n"
     ]
    }
   ],
   "source": [
    "housing.printSchema()"
   ]
  },
  {
   "cell_type": "code",
   "execution_count": 7,
   "metadata": {
    "collapsed": false
   },
   "outputs": [
    {
     "name": "stdout",
     "output_type": "stream",
     "text": [
      "+-------------------+-----+\n",
      "|          sale_date|count|\n",
      "+-------------------+-----+\n",
      "|2008-05-19 00:00:00|  268|\n",
      "|2008-05-21 00:00:00|  158|\n",
      "|2008-05-15 00:00:00|  118|\n",
      "|2008-05-16 00:00:00|  264|\n",
      "|2008-05-20 00:00:00|  177|\n",
      "+-------------------+-----+\n",
      "\n"
     ]
    }
   ],
   "source": [
    "housing.groupBy('sale_date').count().show()"
   ]
  },
  {
   "cell_type": "code",
   "execution_count": 8,
   "metadata": {
    "collapsed": false
   },
   "outputs": [
    {
     "name": "stdout",
     "output_type": "stream",
     "text": [
      "+-------+------------------+------------------+------------------+------------------+-------------------+\n",
      "|summary|              beds|             baths|              sqft|             price|           latitude|\n",
      "+-------+------------------+------------------+------------------+------------------+-------------------+\n",
      "|  count|               985|               985|               985|               985|                985|\n",
      "|   mean|2.9116751269035532|1.7766497461928934|1314.9167512690356|234144.26395939087| 38.607732086294504|\n",
      "| stddev|1.3079322320435807|0.8953714223186463| 853.0482425034448|138365.83908492787|0.14543287915296987|\n",
      "|    min|                 0|                 0|                 0|              1551|          38.241514|\n",
      "|    max|                 8|                 5|              5822|            884790|          39.020808|\n",
      "+-------+------------------+------------------+------------------+------------------+-------------------+\n",
      "\n"
     ]
    }
   ],
   "source": [
    "housing.select('beds', 'baths', 'sqft', 'price', 'latitude').describe().show()"
   ]
  },
  {
   "cell_type": "code",
   "execution_count": 9,
   "metadata": {
    "collapsed": false
   },
   "outputs": [
    {
     "data": {
      "text/plain": [
       "985"
      ]
     },
     "execution_count": 9,
     "metadata": {},
     "output_type": "execute_result"
    }
   ],
   "source": [
    "housing.count()"
   ]
  },
  {
   "cell_type": "code",
   "execution_count": 10,
   "metadata": {
    "collapsed": false,
    "scrolled": true
   },
   "outputs": [
    {
     "name": "stdout",
     "output_type": "stream",
     "text": [
      "<class 'pandas.core.frame.DataFrame'>\n",
      "RangeIndex: 985 entries, 0 to 984\n",
      "Data columns (total 12 columns):\n",
      "street       985 non-null object\n",
      "city         985 non-null object\n",
      "zip          985 non-null int64\n",
      "state        985 non-null object\n",
      "beds         985 non-null int64\n",
      "baths        985 non-null int64\n",
      "sqft         985 non-null int64\n",
      "type         985 non-null object\n",
      "sale_date    985 non-null datetime64[ns]\n",
      "price        985 non-null int64\n",
      "latitude     985 non-null float64\n",
      "longitude    985 non-null float64\n",
      "dtypes: datetime64[ns](1), float64(2), int64(5), object(4)\n",
      "memory usage: 92.4+ KB\n"
     ]
    }
   ],
   "source": [
    "housing.toPandas().info()"
   ]
  },
  {
   "cell_type": "markdown",
   "metadata": {},
   "source": [
    "There is probably some information in street but we drop it for simplicity:"
   ]
  },
  {
   "cell_type": "code",
   "execution_count": 11,
   "metadata": {
    "collapsed": false
   },
   "outputs": [],
   "source": [
    "housing = housing.drop('state', 'street')"
   ]
  },
  {
   "cell_type": "code",
   "execution_count": 12,
   "metadata": {
    "collapsed": false
   },
   "outputs": [
    {
     "data": {
      "text/plain": [
       "<matplotlib.text.Text at 0x10b0f3790>"
      ]
     },
     "execution_count": 12,
     "metadata": {},
     "output_type": "execute_result"
    },
    {
     "data": {
      "image/png": "[encoded data removed]",
      "text/plain": [
       "<matplotlib.figure.Figure at 0x10ad5e050>"
      ]
     },
     "metadata": {},
     "output_type": "display_data"
    }
   ],
   "source": [
    "plt.hist(housing.select('price').rdd.map(lambda x: x[0]).collect(), bins=25)\n",
    "plt.xlabel('Price')\n",
    "plt.ylabel('Count')"
   ]
  },
  {
   "cell_type": "code",
   "execution_count": 13,
   "metadata": {
    "collapsed": false
   },
   "outputs": [
    {
     "data": {
      "text/plain": [
       "<matplotlib.text.Text at 0x10d449710>"
      ]
     },
     "execution_count": 13,
     "metadata": {},
     "output_type": "execute_result"
    },
    {
     "data": {
      "image/png": "[encoded data removed]",
      "text/plain": [
       "<matplotlib.figure.Figure at 0x10d28b990>"
      ]
     },
     "metadata": {},
     "output_type": "display_data"
    }
   ],
   "source": [
    "plt.hist(housing.select('sqft').rdd.map(lambda x: x[0]).collect(), bins=25)\n",
    "plt.xlabel('Square feet')\n",
    "plt.ylabel('Count')"
   ]
  },
  {
   "cell_type": "markdown",
   "metadata": {},
   "source": [
    "Let's clean the data by removing any entries where sqft is zero:"
   ]
  },
  {
   "cell_type": "code",
   "execution_count": 14,
   "metadata": {
    "collapsed": true
   },
   "outputs": [],
   "source": [
    "housing = housing.filter(housing.sqft > 0)"
   ]
  },
  {
   "cell_type": "code",
   "execution_count": 15,
   "metadata": {
    "collapsed": false
   },
   "outputs": [
    {
     "data": {
      "text/plain": [
       "814"
      ]
     },
     "execution_count": 15,
     "metadata": {},
     "output_type": "execute_result"
    }
   ],
   "source": [
    "housing.count()"
   ]
  },
  {
   "cell_type": "code",
   "execution_count": 16,
   "metadata": {
    "collapsed": false
   },
   "outputs": [
    {
     "name": "stdout",
     "output_type": "stream",
     "text": [
      "+-----+-----+\n",
      "|baths|count|\n",
      "+-----+-----+\n",
      "|    1|  179|\n",
      "|    2|  507|\n",
      "|    3|  110|\n",
      "|    4|   17|\n",
      "|    5|    1|\n",
      "+-----+-----+\n",
      "\n"
     ]
    }
   ],
   "source": [
    "housing.groupBy('baths').count().orderBy('baths').show()"
   ]
  },
  {
   "cell_type": "code",
   "execution_count": 17,
   "metadata": {
    "collapsed": false
   },
   "outputs": [
    {
     "name": "stdout",
     "output_type": "stream",
     "text": [
      "+----+-----+\n",
      "|beds|count|\n",
      "+----+-----+\n",
      "|   1|   10|\n",
      "|   2|  125|\n",
      "|   3|  392|\n",
      "|   4|  235|\n",
      "|   5|   49|\n",
      "|   6|    2|\n",
      "|   8|    1|\n",
      "+----+-----+\n",
      "\n"
     ]
    }
   ],
   "source": [
    "housing.groupBy('beds').count().orderBy('beds').show()"
   ]
  },
  {
   "cell_type": "code",
   "execution_count": 18,
   "metadata": {
    "collapsed": false
   },
   "outputs": [
    {
     "name": "stdout",
     "output_type": "stream",
     "text": [
      "+------------+-----+\n",
      "|        type|count|\n",
      "+------------+-----+\n",
      "|       Condo|   42|\n",
      "|Multi-Family|   13|\n",
      "| Residential|  759|\n",
      "+------------+-----+\n",
      "\n"
     ]
    }
   ],
   "source": [
    "housing.groupBy('type').count().orderBy('type').show()"
   ]
  },
  {
   "cell_type": "code",
   "execution_count": 19,
   "metadata": {
    "collapsed": false
   },
   "outputs": [
    {
     "name": "stdout",
     "output_type": "stream",
     "text": [
      "+----+-----+-----------+------+\n",
      "|beds|baths|total_rooms| price|\n",
      "+----+-----+-----------+------+\n",
      "|   2|    1|          3| 59222|\n",
      "|   3|    1|          4| 68212|\n",
      "|   2|    1|          3| 68880|\n",
      "|   2|    1|          3| 69307|\n",
      "|   2|    1|          3| 81900|\n",
      "|   3|    1|          4| 89921|\n",
      "|   3|    2|          5| 90895|\n",
      "|   3|    1|          4| 91002|\n",
      "|   2|    2|          4| 94905|\n",
      "|   3|    2|          5| 98937|\n",
      "|   3|    2|          5|100309|\n",
      "|   3|    2|          5|106250|\n",
      "|   1|    1|          2|106852|\n",
      "|   3|    1|          4|107502|\n",
      "|   2|    2|          4|108750|\n",
      "|   2|    2|          4|110700|\n",
      "|   2|    1|          3|113263|\n",
      "|   2|    1|          3|116250|\n",
      "|   2|    1|          3|120000|\n",
      "|   3|    2|          5|121630|\n",
      "+----+-----+-----------+------+\n",
      "only showing top 20 rows\n",
      "\n"
     ]
    }
   ],
   "source": [
    "housing = housing.withColumn('total_rooms', housing.beds + housing.baths)\n",
    "housing.select('beds', 'baths', 'total_rooms', 'price').show()"
   ]
  },
  {
   "cell_type": "code",
   "execution_count": 20,
   "metadata": {
    "collapsed": false
   },
   "outputs": [
    {
     "data": {
      "text/plain": [
       "<matplotlib.text.Text at 0x10ad5e250>"
      ]
     },
     "execution_count": 20,
     "metadata": {},
     "output_type": "execute_result"
    },
    {
     "data": {
      "image/png": "[encoded data removed]",
      "text/plain": [
       "<matplotlib.figure.Figure at 0x113728350>"
      ]
     },
     "metadata": {},
     "output_type": "display_data"
    }
   ],
   "source": [
    "x = housing.rdd.map(lambda row: row.total_rooms).collect()\n",
    "y = housing.rdd.map(lambda row: row.price).collect()\n",
    "plt.scatter(x, y)\n",
    "plt.xlabel('Total rooms')\n",
    "plt.ylabel('Price')"
   ]
  },
  {
   "cell_type": "code",
   "execution_count": 21,
   "metadata": {
    "collapsed": false
   },
   "outputs": [
    {
     "data": {
      "text/plain": [
       "array([[  1.15846307e-05,   5.14726196e-01],\n",
       "       [  5.14726196e-01,   8.65337502e+04]])"
      ]
     },
     "execution_count": 21,
     "metadata": {},
     "output_type": "execute_result"
    }
   ],
   "source": [
    "import numpy as np\n",
    "np.cov(x, y) / np.std(x) / np.std(y)"
   ]
  },
  {
   "cell_type": "code",
   "execution_count": 22,
   "metadata": {
    "collapsed": false
   },
   "outputs": [
    {
     "name": "stdout",
     "output_type": "stream",
     "text": [
      "+---------------+------------------+----------+----------+--------+\n",
      "|           city|        avg(price)|min(price)|max(price)|count(1)|\n",
      "+---------------+------------------+----------+----------+--------+\n",
      "|    SLOUGHHOUSE|            2000.0|      2000|      2000|       1|\n",
      "|        ELVERTA|          132866.0|    126000|    140000|       4|\n",
      "|NORTH HIGHLANDS|135659.33333333334|     63000|    224252|      21|\n",
      "|WEST SACRAMENTO|          147000.0|    147000|    147000|       1|\n",
      "|      RIO LINDA|184621.58333333334|     98937|    300000|      12|\n",
      "| CITRUS HEIGHTS|187114.91428571427|     30000|    305000|      35|\n",
      "|     SACRAMENTO|194560.95283018867|     40000|    699000|     424|\n",
      "|DIAMOND SPRINGS|          216033.0|    216033|    216033|       1|\n",
      "|   MEADOW VISTA|          230000.0|    230000|    230000|       1|\n",
      "|           GALT|          231040.6|    106716|    420000|      20|\n",
      "|       ANTELOPE|232496.39393939395|    115000|    408431|      33|\n",
      "| RANCHO CORDOVA|235065.04761904763|     94905|    430000|      21|\n",
      "|         MATHER|          237800.0|    237800|    237800|       1|\n",
      "|  POLLOCK PINES|240302.66666666666|    175000|    280908|       3|\n",
      "|      EL DORADO|          247000.0|    205000|    289000|       2|\n",
      "|        LINCOLN| 262921.1666666667|    170000|    330000|       6|\n",
      "|      ELK GROVE| 270238.1028037383|     71000|    510000|     107|\n",
      "|     ORANGEVALE|279159.54545454547|    183200|    475000|      11|\n",
      "|      ROSEVILLE| 294058.0714285714|    115000|    613401|      28|\n",
      "|     CARMICHAEL|         295684.75|    139500|    668365|      20|\n",
      "|EL DORADO HILLS| 299412.6666666667|    235738|    400000|       3|\n",
      "|           COOL|          300000.0|    300000|    300000|       1|\n",
      "|      FAIR OAKS| 303500.6666666667|    142500|    680000|       9|\n",
      "|         AUBURN|          321818.0|    260000|    420454|       3|\n",
      "|        ROCKLIN|        336244.875|    230095|    430922|       8|\n",
      "|     GOLD RIVER| 377333.3333333333|    299000|    528000|       3|\n",
      "|   WALNUT GROVE|          380000.0|    380000|    380000|       1|\n",
      "|      GREENWOOD|          395000.0|    395000|    395000|       1|\n",
      "| RANCHO MURIETA|          397750.0|    370500|    425000|       2|\n",
      "|   CAMERON PARK|          399000.0|    399000|    399000|       1|\n",
      "|    PLACERVILLE|          404709.6|    211500|    677048|       5|\n",
      "|         FOLSOM|          415288.2|    200000|    636000|      15|\n",
      "|         PENRYN|          506688.0|    506688|    506688|       1|\n",
      "|         LOOMIS|          567000.0|    295000|    839000|       2|\n",
      "|         WILTON|          631885.5|    372000|    884790|       4|\n",
      "|    GRANITE BAY| 678733.3333333334|    600000|    760000|       3|\n",
      "+---------------+------------------+----------+----------+--------+\n",
      "\n"
     ]
    }
   ],
   "source": [
    "from pyspark.sql import functions as F\n",
    "housing.groupBy('city').agg(F.avg('price'), F.min('price'), F.max('price'), F.count('*')).orderBy('avg(price)').show(100)"
   ]
  },
  {
   "cell_type": "markdown",
   "metadata": {},
   "source": [
    "Convert the type feature to a stringindex then make one-hot with P-1 dummies, not P:"
   ]
  },
  {
   "cell_type": "code",
   "execution_count": 23,
   "metadata": {
    "collapsed": false
   },
   "outputs": [
    {
     "name": "stdout",
     "output_type": "stream",
     "text": [
      "+-----------+--------+-------------+------+\n",
      "|       type|type_idx|     type_ohe| price|\n",
      "+-----------+--------+-------------+------+\n",
      "|Residential|     0.0|(3,[0],[1.0])| 59222|\n",
      "|Residential|     0.0|(3,[0],[1.0])| 68212|\n",
      "|Residential|     0.0|(3,[0],[1.0])| 68880|\n",
      "|Residential|     0.0|(3,[0],[1.0])| 69307|\n",
      "|Residential|     0.0|(3,[0],[1.0])| 81900|\n",
      "|      Condo|     1.0|(3,[1],[1.0])| 89921|\n",
      "|Residential|     0.0|(3,[0],[1.0])| 90895|\n",
      "|Residential|     0.0|(3,[0],[1.0])| 91002|\n",
      "|      Condo|     1.0|(3,[1],[1.0])| 94905|\n",
      "|Residential|     0.0|(3,[0],[1.0])| 98937|\n",
      "|Residential|     0.0|(3,[0],[1.0])|100309|\n",
      "|Residential|     0.0|(3,[0],[1.0])|106250|\n",
      "|Residential|     0.0|(3,[0],[1.0])|106852|\n",
      "|Residential|     0.0|(3,[0],[1.0])|107502|\n",
      "|Residential|     0.0|(3,[0],[1.0])|108750|\n",
      "|      Condo|     1.0|(3,[1],[1.0])|110700|\n",
      "|Residential|     0.0|(3,[0],[1.0])|113263|\n",
      "|      Condo|     1.0|(3,[1],[1.0])|116250|\n",
      "|Residential|     0.0|(3,[0],[1.0])|120000|\n",
      "|Residential|     0.0|(3,[0],[1.0])|121630|\n",
      "+-----------+--------+-------------+------+\n",
      "only showing top 20 rows\n",
      "\n"
     ]
    }
   ],
   "source": [
    "from pyspark.ml.feature import OneHotEncoder, StringIndexer\n",
    "\n",
    "str_idx = StringIndexer(inputCol=\"type\", outputCol=\"type_idx\")\n",
    "model = str_idx.fit(housing)\n",
    "housing = model.transform(housing)\n",
    "\n",
    "ohe = OneHotEncoder(inputCol=\"type_idx\", outputCol=\"type_ohe\", dropLast=False)\n",
    "housing = ohe.transform(housing)\n",
    "housing.select('type', 'type_idx', 'type_ohe', 'price').show()"
   ]
  },
  {
   "cell_type": "code",
   "execution_count": 24,
   "metadata": {
    "collapsed": false
   },
   "outputs": [
    {
     "name": "stdout",
     "output_type": "stream",
     "text": [
      "+---------------+-----------------+------------------+-----------------+\n",
      "|           city|                1|                 2|                3|\n",
      "+---------------+-----------------+------------------+-----------------+\n",
      "|       ANTELOPE|         223139.0|        212704.625|       293041.375|\n",
      "|         AUBURN|             null|          272500.0|         420454.0|\n",
      "|   CAMERON PARK|             null|          399000.0|             null|\n",
      "|     CARMICHAEL|         212218.0|          293097.2|         668365.0|\n",
      "| CITRUS HEIGHTS|147464.2857142857|         195035.28|         192418.0|\n",
      "|           COOL|             null|          300000.0|             null|\n",
      "|DIAMOND SPRINGS|             null|          216033.0|             null|\n",
      "|      EL DORADO|         205000.0|          289000.0|             null|\n",
      "|EL DORADO HILLS|             null| 299412.6666666667|             null|\n",
      "|      ELK GROVE|89666.66666666667|239681.41666666666|346359.1379310345|\n",
      "+---------------+-----------------+------------------+-----------------+\n",
      "only showing top 10 rows\n",
      "\n"
     ]
    }
   ],
   "source": [
    "housing.groupBy('city').pivot('baths', [1, 2, 3]).avg('price').orderBy('city').show(10)"
   ]
  },
  {
   "cell_type": "code",
   "execution_count": 25,
   "metadata": {
    "collapsed": false
   },
   "outputs": [
    {
     "name": "stdout",
     "output_type": "stream",
     "text": [
      "+--------------+-----+----------+\n",
      "|          city|baths|avg(price)|\n",
      "+--------------+-----+----------+\n",
      "|      ANTELOPE|    1|  223139.0|\n",
      "|      ANTELOPE|    2|212704.625|\n",
      "|      ANTELOPE|    3|293041.375|\n",
      "|        AUBURN|    3|  420454.0|\n",
      "|        AUBURN|    2|  272500.0|\n",
      "|  CAMERON PARK|    2|  399000.0|\n",
      "|    CARMICHAEL|    2|  293097.2|\n",
      "|    CARMICHAEL|    3|  668365.0|\n",
      "|    CARMICHAEL|    1|  212218.0|\n",
      "|CITRUS HEIGHTS|    3|  192418.0|\n",
      "+--------------+-----+----------+\n",
      "only showing top 10 rows\n",
      "\n"
     ]
    }
   ],
   "source": [
    "housing.groupBy('city', 'baths').avg('price').orderBy('city').show(10)"
   ]
  },
  {
   "cell_type": "code",
   "execution_count": 26,
   "metadata": {
    "collapsed": false
   },
   "outputs": [
    {
     "name": "stdout",
     "output_type": "stream",
     "text": [
      "+----------+------+\n",
      "|      city| price|\n",
      "+----------+------+\n",
      "|SACRAMENTO| 59222|\n",
      "|SACRAMENTO| 68212|\n",
      "|SACRAMENTO| 68880|\n",
      "|SACRAMENTO| 69307|\n",
      "|SACRAMENTO| 81900|\n",
      "|SACRAMENTO| 89921|\n",
      "|SACRAMENTO| 90895|\n",
      "|SACRAMENTO| 91002|\n",
      "|SACRAMENTO|100309|\n",
      "|SACRAMENTO|106250|\n",
      "|SACRAMENTO|106852|\n",
      "|SACRAMENTO|107502|\n",
      "|SACRAMENTO|108750|\n",
      "|SACRAMENTO|110700|\n",
      "|SACRAMENTO|120000|\n",
      "|SACRAMENTO|122682|\n",
      "|SACRAMENTO|124100|\n",
      "|SACRAMENTO|127281|\n",
      "|SACRAMENTO|129000|\n",
      "|SACRAMENTO|131200|\n",
      "+----------+------+\n",
      "only showing top 20 rows\n",
      "\n"
     ]
    }
   ],
   "source": [
    "housing.where(\"city == 'SACRAMENTO'\").select('city', 'price').show()"
   ]
  },
  {
   "cell_type": "code",
   "execution_count": 27,
   "metadata": {
    "collapsed": false
   },
   "outputs": [
    {
     "data": {
      "text/plain": [
       "<matplotlib.text.Text at 0x11440b590>"
      ]
     },
     "execution_count": 27,
     "metadata": {},
     "output_type": "execute_result"
    },
    {
     "data": {
      "image/png": "[encoded data removed]",
      "text/plain": [
       "<matplotlib.figure.Figure at 0x10ad5e910>"
      ]
     },
     "metadata": {},
     "output_type": "display_data"
    }
   ],
   "source": [
    "x = housing.rdd.map(lambda row: row.longitude).collect()\n",
    "y = housing.rdd.map(lambda row: row.latitude).collect()\n",
    "plt.scatter(x, y, alpha=0.25)\n",
    "plt.axis('equal')\n",
    "plt.xlabel('Longitude')\n",
    "plt.ylabel('Latitude')"
   ]
  },
  {
   "cell_type": "code",
   "execution_count": 28,
   "metadata": {
    "collapsed": false
   },
   "outputs": [
    {
     "name": "stdout",
     "output_type": "stream",
     "text": [
      "+----+-----+----+-------------+-----+\n",
      "|beds|baths|sqft|     type_ohe|price|\n",
      "+----+-----+----+-------------+-----+\n",
      "|   2|    1| 836|(3,[0],[1.0])|59222|\n",
      "|   3|    1|1167|(3,[0],[1.0])|68212|\n",
      "|   2|    1| 796|(3,[0],[1.0])|68880|\n",
      "|   2|    1| 852|(3,[0],[1.0])|69307|\n",
      "|   2|    1| 797|(3,[0],[1.0])|81900|\n",
      "+----+-----+----+-------------+-----+\n",
      "only showing top 5 rows\n",
      "\n"
     ]
    }
   ],
   "source": [
    "housing.select('beds', 'baths', 'sqft', 'type_ohe', 'price').show(5)"
   ]
  },
  {
   "cell_type": "code",
   "execution_count": 29,
   "metadata": {
    "collapsed": false
   },
   "outputs": [],
   "source": [
    "from pyspark.ml.feature import VectorAssembler\n",
    "\n",
    "vecAssembler = VectorAssembler(inputCols=['beds', 'baths', 'sqft'], outputCol=\"num_features\")\n",
    "df = vecAssembler.transform(housing)"
   ]
  },
  {
   "cell_type": "code",
   "execution_count": 30,
   "metadata": {
    "collapsed": false
   },
   "outputs": [
    {
     "name": "stdout",
     "output_type": "stream",
     "text": [
      "+--------------+-----+----+-----+----+-----------+-------------------+------+---------+-----------+-----------+--------+-------------+----------------+\n",
      "|          city|  zip|beds|baths|sqft|       type|          sale_date| price| latitude|  longitude|total_rooms|type_idx|     type_ohe|    num_features|\n",
      "+--------------+-----+----+-----+----+-----------+-------------------+------+---------+-----------+-----------+--------+-------------+----------------+\n",
      "|    SACRAMENTO|95838|   2|    1| 836|Residential|2008-05-21 00:00:00| 59222|38.631913|-121.434879|          3|     0.0|(3,[0],[1.0])| [2.0,1.0,836.0]|\n",
      "|    SACRAMENTO|95823|   3|    1|1167|Residential|2008-05-21 00:00:00| 68212|38.478902|-121.431028|          4|     0.0|(3,[0],[1.0])|[3.0,1.0,1167.0]|\n",
      "|    SACRAMENTO|95815|   2|    1| 796|Residential|2008-05-21 00:00:00| 68880|38.618305|-121.443839|          3|     0.0|(3,[0],[1.0])| [2.0,1.0,796.0]|\n",
      "|    SACRAMENTO|95815|   2|    1| 852|Residential|2008-05-21 00:00:00| 69307|38.616835|-121.439146|          3|     0.0|(3,[0],[1.0])| [2.0,1.0,852.0]|\n",
      "|    SACRAMENTO|95824|   2|    1| 797|Residential|2008-05-21 00:00:00| 81900| 38.51947|-121.435768|          3|     0.0|(3,[0],[1.0])| [2.0,1.0,797.0]|\n",
      "|    SACRAMENTO|95841|   3|    1|1122|      Condo|2008-05-21 00:00:00| 89921|38.662595|-121.327813|          4|     1.0|(3,[1],[1.0])|[3.0,1.0,1122.0]|\n",
      "|    SACRAMENTO|95842|   3|    2|1104|Residential|2008-05-21 00:00:00| 90895|38.681659|-121.351705|          5|     0.0|(3,[0],[1.0])|[3.0,2.0,1104.0]|\n",
      "|    SACRAMENTO|95820|   3|    1|1177|Residential|2008-05-21 00:00:00| 91002|38.535092|-121.481367|          4|     0.0|(3,[0],[1.0])|[3.0,1.0,1177.0]|\n",
      "|RANCHO CORDOVA|95670|   2|    2| 941|      Condo|2008-05-21 00:00:00| 94905|38.621188|-121.270555|          4|     1.0|(3,[1],[1.0])| [2.0,2.0,941.0]|\n",
      "|     RIO LINDA|95673|   3|    2|1146|Residential|2008-05-21 00:00:00| 98937|38.700909|-121.442979|          5|     0.0|(3,[0],[1.0])|[3.0,2.0,1146.0]|\n",
      "|    SACRAMENTO|95838|   3|    2| 909|Residential|2008-05-21 00:00:00|100309|38.637663| -121.45152|          5|     0.0|(3,[0],[1.0])| [3.0,2.0,909.0]|\n",
      "|    SACRAMENTO|95823|   3|    2|1289|Residential|2008-05-21 00:00:00|106250|38.470746|-121.458918|          5|     0.0|(3,[0],[1.0])|[3.0,2.0,1289.0]|\n",
      "|    SACRAMENTO|95815|   1|    1| 871|Residential|2008-05-21 00:00:00|106852|38.618698|-121.435833|          2|     0.0|(3,[0],[1.0])| [1.0,1.0,871.0]|\n",
      "|    SACRAMENTO|95822|   3|    1|1020|Residential|2008-05-21 00:00:00|107502|38.482215|-121.492603|          4|     0.0|(3,[0],[1.0])|[3.0,1.0,1020.0]|\n",
      "|    SACRAMENTO|95842|   2|    2|1022|Residential|2008-05-21 00:00:00|108750|38.672914| -121.35934|          4|     0.0|(3,[0],[1.0])|[2.0,2.0,1022.0]|\n",
      "|    SACRAMENTO|95842|   2|    2|1134|      Condo|2008-05-21 00:00:00|110700|38.700051|-121.351278|          4|     1.0|(3,[1],[1.0])|[2.0,2.0,1134.0]|\n",
      "|     RIO LINDA|95673|   2|    1| 844|Residential|2008-05-21 00:00:00|113263|38.689591|-121.452239|          3|     0.0|(3,[0],[1.0])| [2.0,1.0,844.0]|\n",
      "|CITRUS HEIGHTS|95621|   2|    1| 795|      Condo|2008-05-21 00:00:00|116250|38.679776|-121.314089|          3|     1.0|(3,[1],[1.0])| [2.0,1.0,795.0]|\n",
      "|    SACRAMENTO|95833|   2|    1| 588|Residential|2008-05-21 00:00:00|120000|38.612099|-121.469095|          3|     0.0|(3,[0],[1.0])| [2.0,1.0,588.0]|\n",
      "|     RIO LINDA|95673|   3|    2|1356|Residential|2008-05-21 00:00:00|121630|38.689999| -121.46322|          5|     0.0|(3,[0],[1.0])|[3.0,2.0,1356.0]|\n",
      "+--------------+-----+----+-----+----+-----------+-------------------+------+---------+-----------+-----------+--------+-------------+----------------+\n",
      "only showing top 20 rows\n",
      "\n"
     ]
    }
   ],
   "source": [
    "df.show()"
   ]
  },
  {
   "cell_type": "markdown",
   "metadata": {},
   "source": [
    "### Make train-test split"
   ]
  },
  {
   "cell_type": "code",
   "execution_count": 31,
   "metadata": {
    "collapsed": false
   },
   "outputs": [],
   "source": [
    "df_train, df_test = df.select('price', 'num_features', 'type_ohe').randomSplit([0.7, 0.3], seed=1234)"
   ]
  },
  {
   "cell_type": "markdown",
   "metadata": {},
   "source": [
    "### Stardardize"
   ]
  },
  {
   "cell_type": "code",
   "execution_count": 32,
   "metadata": {
    "collapsed": false
   },
   "outputs": [],
   "source": [
    "from pyspark.ml.feature import StandardScaler\n",
    "\n",
    "scaler = StandardScaler(inputCol=\"num_features\", outputCol=\"std_features\", withStd=True, withMean=True)\n",
    "scaler_model = scaler.fit(df_train)\n",
    "df_train_std = scaler_model.transform(df_train)\n",
    "df_test_std = scaler_model.transform(df_test)"
   ]
  },
  {
   "cell_type": "markdown",
   "metadata": {},
   "source": [
    "### Combine numerical and categorical features"
   ]
  },
  {
   "cell_type": "code",
   "execution_count": 33,
   "metadata": {
    "collapsed": false
   },
   "outputs": [
    {
     "name": "stdout",
     "output_type": "stream",
     "text": [
      "+-----+--------------------+\n",
      "|price|        cmb_features|\n",
      "+-----+--------------------+\n",
      "|48000|[-2.5281230842039...|\n",
      "|55422|[-1.3884115156472...|\n",
      "|56950|[0.89101162146613...|\n",
      "|59222|[-1.3884115156472...|\n",
      "|60000|[-2.5281230842039...|\n",
      "|61000|[-1.3884115156472...|\n",
      "|61500|[-0.2486999470905...|\n",
      "|62000|[-1.3884115156472...|\n",
      "|62050|[-1.3884115156472...|\n",
      "|63000|[-1.3884115156472...|\n",
      "+-----+--------------------+\n",
      "only showing top 10 rows\n",
      "\n"
     ]
    }
   ],
   "source": [
    "vecAssembler = VectorAssembler(inputCols=['std_features', 'type_ohe'], outputCol=\"cmb_features\")\n",
    "df_train_std = vecAssembler.transform(df_train_std).select('price', 'cmb_features')\n",
    "df_test_std = vecAssembler.transform(df_test_std).select('price', 'cmb_features')\n",
    "df_train_std.show(10)"
   ]
  },
  {
   "cell_type": "code",
   "execution_count": 34,
   "metadata": {
    "collapsed": false
   },
   "outputs": [
    {
     "data": {
      "text/plain": [
       "Row(cmb_features=DenseVector([-2.5281, -1.3923, -1.7176, 0.0, 1.0, 0.0]))"
      ]
     },
     "execution_count": 34,
     "metadata": {},
     "output_type": "execute_result"
    }
   ],
   "source": [
    "df_train_std.select('cmb_features').first()"
   ]
  },
  {
   "cell_type": "markdown",
   "metadata": {},
   "source": [
    "### Cache the RDDs"
   ]
  },
  {
   "cell_type": "code",
   "execution_count": 35,
   "metadata": {
    "collapsed": true
   },
   "outputs": [],
   "source": [
    "df_train_std = df_train_std.cache()\n",
    "df_test_std = df_test_std.cache()"
   ]
  },
  {
   "cell_type": "markdown",
   "metadata": {},
   "source": [
    "### Linear Regression"
   ]
  },
  {
   "cell_type": "code",
   "execution_count": 36,
   "metadata": {
    "collapsed": false
   },
   "outputs": [
    {
     "name": "stdout",
     "output_type": "stream",
     "text": [
      "+-----+--------------------+------------------+\n",
      "|price|        cmb_features|        prediction|\n",
      "+-----+--------------------+------------------+\n",
      "|48000|[-2.5281230842039...| 89492.64507528633|\n",
      "|55422|[-1.3884115156472...| 140274.4255243033|\n",
      "|56950|[0.89101162146613...|204925.05465456034|\n",
      "|59222|[-1.3884115156472...|139966.05465864472|\n",
      "|60000|[-2.5281230842039...|109074.19504460657|\n",
      "+-----+--------------------+------------------+\n",
      "only showing top 5 rows\n",
      "\n"
     ]
    }
   ],
   "source": [
    "from pyspark.ml.regression import LinearRegression\n",
    "\n",
    "lr = LinearRegression(maxIter=5, regParam=0.0, solver=\"normal\", featuresCol='cmb_features', labelCol='price')\n",
    "lr_model = lr.fit(df_train_std)\n",
    "y_pred_train = lr_model.transform(df_train_std)\n",
    "y_pred_train.show(5)"
   ]
  },
  {
   "cell_type": "code",
   "execution_count": 37,
   "metadata": {
    "collapsed": false
   },
   "outputs": [
    {
     "data": {
      "text/plain": [
       "(0.5236247040287527, 82669.76361126584)"
      ]
     },
     "execution_count": 37,
     "metadata": {},
     "output_type": "execute_result"
    }
   ],
   "source": [
    "from pyspark.ml.evaluation import RegressionEvaluator\n",
    "\n",
    "evaluator = RegressionEvaluator(predictionCol=\"prediction\", labelCol='price')\n",
    "evaluator.evaluate(y_pred_train, {evaluator.metricName: \"r2\"}), evaluator.evaluate(y_pred_train, {evaluator.metricName: \"rmse\"})"
   ]
  },
  {
   "cell_type": "code",
   "execution_count": 38,
   "metadata": {
    "collapsed": false
   },
   "outputs": [
    {
     "data": {
      "text/plain": [
       "(0.3727635382344463, 94715.75426396007)"
      ]
     },
     "execution_count": 38,
     "metadata": {},
     "output_type": "execute_result"
    }
   ],
   "source": [
    "y_pred_test = lr_model.transform(df_test_std)\n",
    "evaluator.evaluate(y_pred_test, {evaluator.metricName: \"r2\"}), evaluator.evaluate(y_pred_test, {evaluator.metricName: \"rmse\"})"
   ]
  },
  {
   "cell_type": "markdown",
   "metadata": {},
   "source": [
    "### Random Forest"
   ]
  },
  {
   "cell_type": "code",
   "execution_count": 39,
   "metadata": {
    "collapsed": false
   },
   "outputs": [
    {
     "data": {
      "text/plain": [
       "SparseVector(6, {0: 0.1608, 1: 0.2156, 2: 0.5783, 3: 0.0206, 4: 0.0161, 5: 0.0087})"
      ]
     },
     "execution_count": 39,
     "metadata": {},
     "output_type": "execute_result"
    }
   ],
   "source": [
    "from pyspark.ml.regression import RandomForestRegressor\n",
    "\n",
    "rf = RandomForestRegressor(numTrees=50, seed=42, featuresCol='cmb_features', labelCol='price')\n",
    "rf_model = rf.fit(df_train_std)\n",
    "rf_model.featureImportances"
   ]
  },
  {
   "cell_type": "code",
   "execution_count": 40,
   "metadata": {
    "collapsed": false
   },
   "outputs": [
    {
     "data": {
      "text/plain": [
       "DataFrame[price: int, cmb_features: vector, prediction: double]"
      ]
     },
     "execution_count": 40,
     "metadata": {},
     "output_type": "execute_result"
    }
   ],
   "source": [
    "y_pred_train = rf_model.transform(df_train_std)\n",
    "y_pred_train"
   ]
  },
  {
   "cell_type": "code",
   "execution_count": 41,
   "metadata": {
    "collapsed": false
   },
   "outputs": [
    {
     "data": {
      "text/plain": [
       "(0.5720300472908173, 78357.16585589027)"
      ]
     },
     "execution_count": 41,
     "metadata": {},
     "output_type": "execute_result"
    }
   ],
   "source": [
    "evaluator.evaluate(y_pred_train, {evaluator.metricName: \"r2\"}), evaluator.evaluate(y_pred_train, {evaluator.metricName: \"rmse\"})"
   ]
  },
  {
   "cell_type": "code",
   "execution_count": 42,
   "metadata": {
    "collapsed": false
   },
   "outputs": [
    {
     "data": {
      "text/plain": [
       "(0.48806878611560467, 85568.19662494046)"
      ]
     },
     "execution_count": 42,
     "metadata": {},
     "output_type": "execute_result"
    }
   ],
   "source": [
    "y_pred_test = rf_model.transform(df_test_std)\n",
    "evaluator.evaluate(y_pred_test, {evaluator.metricName: \"r2\"}), evaluator.evaluate(y_pred_test, {evaluator.metricName: \"rmse\"})"
   ]
  },
  {
   "cell_type": "code",
   "execution_count": 65,
   "metadata": {
    "collapsed": false
   },
   "outputs": [
    {
     "data": {
      "text/plain": [
       "{'bootstrap': True,\n",
       " 'criterion': 'mse',\n",
       " 'max_depth': None,\n",
       " 'max_features': 'auto',\n",
       " 'max_leaf_nodes': None,\n",
       " 'min_impurity_decrease': 0.0,\n",
       " 'min_impurity_split': None,\n",
       " 'min_samples_leaf': 1,\n",
       " 'min_samples_split': 2,\n",
       " 'min_weight_fraction_leaf': 0.0,\n",
       " 'n_estimators': 50,\n",
       " 'n_jobs': 1,\n",
       " 'oob_score': False,\n",
       " 'random_state': None,\n",
       " 'verbose': 0,\n",
       " 'warm_start': False}"
      ]
     },
     "execution_count": 65,
     "metadata": {},
     "output_type": "execute_result"
    }
   ],
   "source": [
    "rf.get_params()"
   ]
  },
  {
   "cell_type": "markdown",
   "metadata": {},
   "source": [
    "### Check result with Sklearn"
   ]
  },
  {
   "cell_type": "code",
   "execution_count": 43,
   "metadata": {
    "collapsed": false
   },
   "outputs": [],
   "source": [
    "X_train = np.array(df_train_std.rdd.map(lambda row: row.cmb_features.toArray().tolist()).collect())\n",
    "y_train = np.array(df_train_std.rdd.map(lambda row: row.price).collect())\n",
    "X_test = np.array(df_test_std.rdd.map(lambda row: row.cmb_features.toArray().tolist()).collect())\n",
    "y_test = np.array(df_test_std.rdd.map(lambda row: row.price).collect())"
   ]
  },
  {
   "cell_type": "code",
   "execution_count": 57,
   "metadata": {
    "collapsed": false
   },
   "outputs": [
    {
     "data": {
      "text/plain": [
       "(582, 6)"
      ]
     },
     "execution_count": 57,
     "metadata": {},
     "output_type": "execute_result"
    }
   ],
   "source": [
    "X_train.shape"
   ]
  },
  {
   "cell_type": "code",
   "execution_count": 44,
   "metadata": {
    "collapsed": true
   },
   "outputs": [],
   "source": [
    "from sklearn.ensemble import RandomForestRegressor"
   ]
  },
  {
   "cell_type": "code",
   "execution_count": 58,
   "metadata": {
    "collapsed": false
   },
   "outputs": [
    {
     "data": {
      "text/plain": [
       "0.90616346466995035"
      ]
     },
     "execution_count": 58,
     "metadata": {},
     "output_type": "execute_result"
    }
   ],
   "source": [
    "rf = RandomForestRegressor(n_estimators=50).fit(X_train, y_train)\n",
    "rf.score(X_train, y_train)"
   ]
  },
  {
   "cell_type": "code",
   "execution_count": 59,
   "metadata": {
    "collapsed": false
   },
   "outputs": [
    {
     "data": {
      "text/plain": [
       "RandomForestRegressor(bootstrap=True, criterion='mse', max_depth=None,\n",
       "           max_features='auto', max_leaf_nodes=None,\n",
       "           min_impurity_decrease=0.0, min_impurity_split=None,\n",
       "           min_samples_leaf=1, min_samples_split=2,\n",
       "           min_weight_fraction_leaf=0.0, n_estimators=50, n_jobs=1,\n",
       "           oob_score=False, random_state=None, verbose=0, warm_start=False)"
      ]
     },
     "execution_count": 59,
     "metadata": {},
     "output_type": "execute_result"
    }
   ],
   "source": [
    "rf"
   ]
  },
  {
   "cell_type": "code",
   "execution_count": 46,
   "metadata": {
    "collapsed": false,
    "scrolled": true
   },
   "outputs": [
    {
     "data": {
      "text/plain": [
       "0.36021878751822312"
      ]
     },
     "execution_count": 46,
     "metadata": {},
     "output_type": "execute_result"
    }
   ],
   "source": [
    "RandomForestRegressor(n_estimators=50).fit(X_train, y_train).score(X_test, y_test)"
   ]
  },
  {
   "cell_type": "code",
   "execution_count": 54,
   "metadata": {
    "collapsed": false
   },
   "outputs": [
    {
     "data": {
      "text/plain": [
       "37485.284257793457"
      ]
     },
     "execution_count": 54,
     "metadata": {},
     "output_type": "execute_result"
    }
   ],
   "source": [
    "from sklearn.metrics import mean_squared_error, r2_score\n",
    "\n",
    "y_pred_train = RandomForestRegressor(n_estimators=50).fit(X_train, y_train).predict(X_train)\n",
    "np.sqrt(mean_squared_error(y_train, y_pred_train))"
   ]
  },
  {
   "cell_type": "code",
   "execution_count": 48,
   "metadata": {
    "collapsed": false
   },
   "outputs": [
    {
     "data": {
      "text/plain": [
       "96304.544001932009"
      ]
     },
     "execution_count": 48,
     "metadata": {},
     "output_type": "execute_result"
    }
   ],
   "source": [
    "y_pred_test = RandomForestRegressor(n_estimators=50).fit(X_train, y_train).predict(X_test)\n",
    "np.sqrt(mean_squared_error(y_test, y_pred_test))"
   ]
  },
  {
   "cell_type": "code",
   "execution_count": 49,
   "metadata": {
    "collapsed": true
   },
   "outputs": [],
   "source": [
    "from sklearn.linear_model import LinearRegression"
   ]
  },
  {
   "cell_type": "code",
   "execution_count": 56,
   "metadata": {
    "collapsed": false
   },
   "outputs": [
    {
     "data": {
      "text/plain": [
       "(82643.595511323772, 0.52392623781466563)"
      ]
     },
     "execution_count": 56,
     "metadata": {},
     "output_type": "execute_result"
    }
   ],
   "source": [
    "y_pred_train = LinearRegression().fit(X_train, y_train).predict(X_train)\n",
    "np.sqrt(mean_squared_error(y_train, y_pred_train)), r2_score(y_train, y_pred_train)"
   ]
  },
  {
   "cell_type": "code",
   "execution_count": 55,
   "metadata": {
    "collapsed": false
   },
   "outputs": [
    {
     "data": {
      "text/plain": [
       "(94517.203279099398, 0.37539051163151538)"
      ]
     },
     "execution_count": 55,
     "metadata": {},
     "output_type": "execute_result"
    }
   ],
   "source": [
    "y_pred_test = LinearRegression().fit(X_train, y_train).predict(X_test)\n",
    "np.sqrt(mean_squared_error(y_test, y_pred_test)), r2_score(y_test, y_pred_test)"
   ]
  }
 ],
 "metadata": {
  "anaconda-cloud": {},
  "kernelspec": {
   "display_name": "Python [default]",
   "language": "python",
   "name": "python2"
  },
  "language_info": {
   "codemirror_mode": {
    "name": "ipython",
    "version": 2
   },
   "file_extension": ".py",
   "mimetype": "text/x-python",
   "name": "python",
   "nbconvert_exporter": "python",
   "pygments_lexer": "ipython2",
   "version": "2.7.12"
  }
 },
 "nbformat": 4,
 "nbformat_minor": 0
}
