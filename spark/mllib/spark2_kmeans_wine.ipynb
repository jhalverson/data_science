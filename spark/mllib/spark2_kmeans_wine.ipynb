{
 "cells": [
  {
   "cell_type": "markdown",
   "metadata": {},
   "source": [
    "# Jonathan Halverson\n",
    "# Saturday, February 10, 2018\n",
    "# Clustering in Spark 2"
   ]
  },
  {
   "cell_type": "code",
   "execution_count": 1,
   "metadata": {
    "collapsed": true
   },
   "outputs": [],
   "source": [
    "import matplotlib.pyplot as plt\n",
    "%matplotlib inline\n",
    "plt.style.use('halverson')"
   ]
  },
  {
   "cell_type": "code",
   "execution_count": 2,
   "metadata": {
    "collapsed": true
   },
   "outputs": [],
   "source": [
    "import numpy as np\n",
    "from pyspark.sql import SparkSession\n",
    "\n",
    "spark = SparkSession.builder.master(\"local[*]\").appName(\"Wine classification\").getOrCreate()"
   ]
  },
  {
   "cell_type": "code",
   "execution_count": 3,
   "metadata": {
    "collapsed": false
   },
   "outputs": [],
   "source": [
    "wine_raw = spark.read.csv('../../machine_learning/wine.csv', inferSchema=True)\n",
    "wine_raw = wine_raw.withColumn('_c0', wine_raw._c0 - 1)\n",
    "wine_raw = wine_raw.withColumn('_c5', wine_raw['_c5'].cast('double'))\n",
    "wine_raw = wine_raw.withColumn('_c13', wine_raw['_c13'].cast('double'))\n",
    "wine = wine_raw.withColumnRenamed('_c0', 'label')"
   ]
  },
  {
   "cell_type": "code",
   "execution_count": 4,
   "metadata": {
    "collapsed": false
   },
   "outputs": [
    {
     "name": "stdout",
     "output_type": "stream",
     "text": [
      "+-----+-----+----+----+----+-----+----+----+----+----+----+----+----+------+\n",
      "|label|  _c1| _c2| _c3| _c4|  _c5| _c6| _c7| _c8| _c9|_c10|_c11|_c12|  _c13|\n",
      "+-----+-----+----+----+----+-----+----+----+----+----+----+----+----+------+\n",
      "|    0|14.23|1.71|2.43|15.6|127.0| 2.8|3.06|0.28|2.29|5.64|1.04|3.92|1065.0|\n",
      "|    0| 13.2|1.78|2.14|11.2|100.0|2.65|2.76|0.26|1.28|4.38|1.05| 3.4|1050.0|\n",
      "|    0|13.16|2.36|2.67|18.6|101.0| 2.8|3.24| 0.3|2.81|5.68|1.03|3.17|1185.0|\n",
      "+-----+-----+----+----+----+-----+----+----+----+----+----+----+----+------+\n",
      "only showing top 3 rows\n",
      "\n"
     ]
    }
   ],
   "source": [
    "wine.show(3)"
   ]
  },
  {
   "cell_type": "code",
   "execution_count": 5,
   "metadata": {
    "collapsed": false
   },
   "outputs": [
    {
     "name": "stdout",
     "output_type": "stream",
     "text": [
      "root\n",
      " |-- _c0: integer (nullable = true)\n",
      " |-- _c1: double (nullable = true)\n",
      " |-- _c2: double (nullable = true)\n",
      " |-- _c3: double (nullable = true)\n",
      " |-- _c4: double (nullable = true)\n",
      " |-- _c5: double (nullable = true)\n",
      " |-- _c6: double (nullable = true)\n",
      " |-- _c7: double (nullable = true)\n",
      " |-- _c8: double (nullable = true)\n",
      " |-- _c9: double (nullable = true)\n",
      " |-- _c10: double (nullable = true)\n",
      " |-- _c11: double (nullable = true)\n",
      " |-- _c12: double (nullable = true)\n",
      " |-- _c13: double (nullable = true)\n",
      "\n"
     ]
    }
   ],
   "source": [
    "wine_raw.printSchema()"
   ]
  },
  {
   "cell_type": "code",
   "execution_count": 6,
   "metadata": {
    "collapsed": true
   },
   "outputs": [],
   "source": [
    "cols = wine.columns\n",
    "cols.remove('label')"
   ]
  },
  {
   "cell_type": "code",
   "execution_count": 7,
   "metadata": {
    "collapsed": false
   },
   "outputs": [
    {
     "name": "stdout",
     "output_type": "stream",
     "text": [
      "+-----+-----+----+----+----+-----+----+----+----+----+----+----+----+------+--------------------+\n",
      "|label|  _c1| _c2| _c3| _c4|  _c5| _c6| _c7| _c8| _c9|_c10|_c11|_c12|  _c13|            features|\n",
      "+-----+-----+----+----+----+-----+----+----+----+----+----+----+----+------+--------------------+\n",
      "|    0|14.23|1.71|2.43|15.6|127.0| 2.8|3.06|0.28|2.29|5.64|1.04|3.92|1065.0|[14.23,1.71,2.43,...|\n",
      "|    0| 13.2|1.78|2.14|11.2|100.0|2.65|2.76|0.26|1.28|4.38|1.05| 3.4|1050.0|[13.2,1.78,2.14,1...|\n",
      "|    0|13.16|2.36|2.67|18.6|101.0| 2.8|3.24| 0.3|2.81|5.68|1.03|3.17|1185.0|[13.16,2.36,2.67,...|\n",
      "|    0|14.37|1.95| 2.5|16.8|113.0|3.85|3.49|0.24|2.18| 7.8|0.86|3.45|1480.0|[14.37,1.95,2.5,1...|\n",
      "|    0|13.24|2.59|2.87|21.0|118.0| 2.8|2.69|0.39|1.82|4.32|1.04|2.93| 735.0|[13.24,2.59,2.87,...|\n",
      "|    0| 14.2|1.76|2.45|15.2|112.0|3.27|3.39|0.34|1.97|6.75|1.05|2.85|1450.0|[14.2,1.76,2.45,1...|\n",
      "|    0|14.39|1.87|2.45|14.6| 96.0| 2.5|2.52| 0.3|1.98|5.25|1.02|3.58|1290.0|[14.39,1.87,2.45,...|\n",
      "|    0|14.06|2.15|2.61|17.6|121.0| 2.6|2.51|0.31|1.25|5.05|1.06|3.58|1295.0|[14.06,2.15,2.61,...|\n",
      "|    0|14.83|1.64|2.17|14.0| 97.0| 2.8|2.98|0.29|1.98| 5.2|1.08|2.85|1045.0|[14.83,1.64,2.17,...|\n",
      "|    0|13.86|1.35|2.27|16.0| 98.0|2.98|3.15|0.22|1.85|7.22|1.01|3.55|1045.0|[13.86,1.35,2.27,...|\n",
      "|    0| 14.1|2.16| 2.3|18.0|105.0|2.95|3.32|0.22|2.38|5.75|1.25|3.17|1510.0|[14.1,2.16,2.3,18...|\n",
      "|    0|14.12|1.48|2.32|16.8| 95.0| 2.2|2.43|0.26|1.57| 5.0|1.17|2.82|1280.0|[14.12,1.48,2.32,...|\n",
      "|    0|13.75|1.73|2.41|16.0| 89.0| 2.6|2.76|0.29|1.81| 5.6|1.15| 2.9|1320.0|[13.75,1.73,2.41,...|\n",
      "|    0|14.75|1.73|2.39|11.4| 91.0| 3.1|3.69|0.43|2.81| 5.4|1.25|2.73|1150.0|[14.75,1.73,2.39,...|\n",
      "|    0|14.38|1.87|2.38|12.0|102.0| 3.3|3.64|0.29|2.96| 7.5| 1.2| 3.0|1547.0|[14.38,1.87,2.38,...|\n",
      "|    0|13.63|1.81| 2.7|17.2|112.0|2.85|2.91| 0.3|1.46| 7.3|1.28|2.88|1310.0|[13.63,1.81,2.7,1...|\n",
      "|    0| 14.3|1.92|2.72|20.0|120.0| 2.8|3.14|0.33|1.97| 6.2|1.07|2.65|1280.0|[14.3,1.92,2.72,2...|\n",
      "|    0|13.83|1.57|2.62|20.0|115.0|2.95| 3.4| 0.4|1.72| 6.6|1.13|2.57|1130.0|[13.83,1.57,2.62,...|\n",
      "|    0|14.19|1.59|2.48|16.5|108.0| 3.3|3.93|0.32|1.86| 8.7|1.23|2.82|1680.0|[14.19,1.59,2.48,...|\n",
      "|    0|13.64| 3.1|2.56|15.2|116.0| 2.7|3.03|0.17|1.66| 5.1|0.96|3.36| 845.0|[13.64,3.1,2.56,1...|\n",
      "+-----+-----+----+----+----+-----+----+----+----+----+----+----+----+------+--------------------+\n",
      "only showing top 20 rows\n",
      "\n"
     ]
    }
   ],
   "source": [
    "from pyspark.ml.feature import VectorAssembler\n",
    "\n",
    "vecAssembler = VectorAssembler(inputCols=cols, outputCol=\"features\")\n",
    "df = vecAssembler.transform(wine)\n",
    "df.show()"
   ]
  },
  {
   "cell_type": "code",
   "execution_count": 8,
   "metadata": {
    "collapsed": false
   },
   "outputs": [
    {
     "name": "stdout",
     "output_type": "stream",
     "text": [
      "+--------------------+--------------------+\n",
      "|            features|      scaledFeatures|\n",
      "+--------------------+--------------------+\n",
      "|[14.23,1.71,2.43,...|[1.51434076729214...|\n",
      "|[13.2,1.78,2.14,1...|[0.24559682781702...|\n",
      "|[13.16,2.36,2.67,...|[0.19632521851701...|\n",
      "|[14.37,1.95,2.5,1...|[1.68679139984215...|\n",
      "|[13.24,2.59,2.87,...|[0.29486843711702...|\n",
      "+--------------------+--------------------+\n",
      "only showing top 5 rows\n",
      "\n"
     ]
    }
   ],
   "source": [
    "from pyspark.ml.feature import StandardScaler\n",
    "\n",
    "scaler = StandardScaler(inputCol=\"features\", outputCol=\"scaledFeatures\", withStd=True, withMean=True)\n",
    "scaler_model = scaler.fit(df)\n",
    "df_std = scaler_model.transform(df).cache()\n",
    "df_std.select('features', 'scaledFeatures').show(5)"
   ]
  },
  {
   "cell_type": "markdown",
   "metadata": {},
   "source": [
    "Below we compute the within set sum of squared errors for each k-value:"
   ]
  },
  {
   "cell_type": "code",
   "execution_count": 9,
   "metadata": {
    "collapsed": false
   },
   "outputs": [],
   "source": [
    "from pyspark.ml.clustering import KMeans\n",
    "\n",
    "errors =  []\n",
    "k_clusters = range(2, 11)\n",
    "for k in k_clusters:\n",
    "     kmeans = KMeans(k=k, initSteps=25, seed=42, featuresCol='scaledFeatures', initMode=\"k-means||\")\n",
    "     model = kmeans.fit(df_std)\n",
    "     WSSSE = model.computeCost(df_std)\n",
    "     errors.append(WSSSE)"
   ]
  },
  {
   "cell_type": "code",
   "execution_count": 10,
   "metadata": {
    "collapsed": false
   },
   "outputs": [
    {
     "data": {
      "text/plain": [
       "<matplotlib.text.Text at 0x109572690>"
      ]
     },
     "execution_count": 10,
     "metadata": {},
     "output_type": "execute_result"
    },
    {
     "data": {
      "image/png": "[encoded data removed]",
      "text/plain": [
       "<matplotlib.figure.Figure at 0x109519dd0>"
      ]
     },
     "metadata": {},
     "output_type": "display_data"
    }
   ],
   "source": [
    "plt.plot(k_clusters, errors, 'k-', marker='o', mfc='w')\n",
    "plt.xlabel('k')\n",
    "plt.ylabel('WSSSE')"
   ]
  },
  {
   "cell_type": "markdown",
   "metadata": {},
   "source": [
    "Using the elbow method, we conclude that there are 3 clusters. This is confirmed by the data set."
   ]
  },
  {
   "cell_type": "code",
   "execution_count": 11,
   "metadata": {
    "collapsed": false
   },
   "outputs": [
    {
     "data": {
      "text/plain": [
       "[array([-0.92346686, -0.39293312, -0.49312571,  0.17012195, -0.49032869,\n",
       "        -0.07576891,  0.02075402, -0.03343924,  0.05810161, -0.89937699,\n",
       "         0.46050459,  0.27000254, -0.75172566]),\n",
       " array([ 0.83288262, -0.30295508,  0.36368014, -0.60847486,  0.57596208,\n",
       "         0.88274724,  0.975069  , -0.56050853,  0.57865427,  0.17058229,\n",
       "         0.47265036,  0.77705513,  1.1220202 ]),\n",
       " array([ 0.16444359,  0.86909545,  0.18637259,  0.52289244, -0.07526047,\n",
       "        -0.97657548, -1.21182921,  0.72402116, -0.77751312,  0.93889024,\n",
       "        -1.16151216, -1.28877614, -0.40594284])]"
      ]
     },
     "execution_count": 11,
     "metadata": {},
     "output_type": "execute_result"
    }
   ],
   "source": [
    "kmeans = KMeans(k=3, seed=42, featuresCol='scaledFeatures', initMode=\"k-means||\")\n",
    "model = kmeans.fit(df_std)\n",
    "model.clusterCenters()"
   ]
  }
 ],
 "metadata": {
  "anaconda-cloud": {},
  "kernelspec": {
   "display_name": "Python [default]",
   "language": "python",
   "name": "python2"
  },
  "language_info": {
   "codemirror_mode": {
    "name": "ipython",
    "version": 2
   },
   "file_extension": ".py",
   "mimetype": "text/x-python",
   "name": "python",
   "nbconvert_exporter": "python",
   "pygments_lexer": "ipython2",
   "version": "2.7.12"
  }
 },
 "nbformat": 4,
 "nbformat_minor": 0
}
