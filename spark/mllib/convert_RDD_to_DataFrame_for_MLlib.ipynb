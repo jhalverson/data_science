{
 "cells": [
  {
   "cell_type": "markdown",
   "metadata": {},
   "source": [
    "# Jonathan Halverson\n",
    "# October 12, 2016\n",
    "# Converting a RDD to a DataFrame in Spark 2"
   ]
  },
  {
   "cell_type": "code",
   "execution_count": 1,
   "metadata": {
    "collapsed": true
   },
   "outputs": [],
   "source": [
    "ham = sc.textFile('ham.txt')\n",
    "spam = sc.textFile('spam.txt')"
   ]
  },
  {
   "cell_type": "code",
   "execution_count": 3,
   "metadata": {
    "collapsed": false
   },
   "outputs": [],
   "source": [
    "from pyspark.mllib.feature import HashingTF\n",
    "tf = HashingTF(numFeatures=10000)\n",
    "hamFeatures = ham.map(lambda email: tf.transform(email.split()))\n",
    "spamFeatures = spam.map(lambda email: tf.transform(email.split()))"
   ]
  },
  {
   "cell_type": "code",
   "execution_count": 4,
   "metadata": {
    "collapsed": true
   },
   "outputs": [],
   "source": [
    "from pyspark.sql import Row"
   ]
  },
  {
   "cell_type": "code",
   "execution_count": 6,
   "metadata": {
    "collapsed": true
   },
   "outputs": [],
   "source": [
    "positiveClass = spamFeatures.map(lambda record: Row(label=1, features=record))\n",
    "negativeClass = hamFeatures.map(lambda record: Row(label=0, features=record))\n",
    "trainDF = positiveClass.union(negativeClass)"
   ]
  },
  {
   "cell_type": "code",
   "execution_count": 7,
   "metadata": {
    "collapsed": true
   },
   "outputs": [],
   "source": [
    "df = sqlCtx.createDataFrame(trainDF)"
   ]
  },
  {
   "cell_type": "code",
   "execution_count": 8,
   "metadata": {
    "collapsed": false
   },
   "outputs": [
    {
     "name": "stdout",
     "output_type": "stream",
     "text": [
      "<class 'pyspark.sql.dataframe.DataFrame'>\n"
     ]
    }
   ],
   "source": [
    "print type(df)"
   ]
  },
  {
   "cell_type": "code",
   "execution_count": 10,
   "metadata": {
    "collapsed": false
   },
   "outputs": [
    {
     "name": "stdout",
     "output_type": "stream",
     "text": [
      "+--------------------+-----+\n",
      "|            features|label|\n",
      "+--------------------+-----+\n",
      "|(10000,[438,451,6...|    1|\n",
      "|(10000,[1059,3776...|    1|\n",
      "|(10000,[508,901,1...|    1|\n",
      "|(10000,[206,508,1...|    1|\n",
      "|(10000,[971,1175,...|    1|\n",
      "|(10000,[543,773,1...|    0|\n",
      "|(10000,[562,720,1...|    0|\n",
      "|(10000,[543,562,7...|    0|\n",
      "|(10000,[1162,1175...|    0|\n",
      "|(10000,[543,773,1...|    0|\n",
      "|(10000,[438,543,9...|    0|\n",
      "|(10000,[1161,1292...|    0|\n",
      "+--------------------+-----+\n",
      "\n"
     ]
    }
   ],
   "source": [
    "df.show()"
   ]
  },
  {
   "cell_type": "code",
   "execution_count": null,
   "metadata": {
    "collapsed": true
   },
   "outputs": [],
   "source": []
  }
 ],
 "metadata": {
  "kernelspec": {
   "display_name": "Python 2",
   "language": "python",
   "name": "python2"
  },
  "language_info": {
   "codemirror_mode": {
    "name": "ipython",
    "version": 2
   },
   "file_extension": ".py",
   "mimetype": "text/x-python",
   "name": "python",
   "nbconvert_exporter": "python",
   "pygments_lexer": "ipython2",
   "version": "2.7.5"
  }
 },
 "nbformat": 4,
 "nbformat_minor": 0
}
