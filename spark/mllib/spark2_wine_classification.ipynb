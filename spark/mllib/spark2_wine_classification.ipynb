{
 "cells": [
  {
   "cell_type": "markdown",
   "metadata": {},
   "source": [
    "# Jonathan Halverson\n",
    "# Tuesday, December 27, 2016\n",
    "# Wine classification in Spark 2"
   ]
  },
  {
   "cell_type": "code",
   "execution_count": 1,
   "metadata": {
    "collapsed": true
   },
   "outputs": [],
   "source": [
    "from pyspark.sql import SparkSession\n",
    "\n",
    "spark = SparkSession.builder.master(\"local[4]\").appName(\"Wine classification\").getOrCreate()"
   ]
  },
  {
   "cell_type": "code",
   "execution_count": 2,
   "metadata": {
    "collapsed": false
   },
   "outputs": [
    {
     "name": "stdout",
     "output_type": "stream",
     "text": [
      "+---+-----+----+----+----+---+----+----+----+----+----+----+----+----+\n",
      "|_c0|  _c1| _c2| _c3| _c4|_c5| _c6| _c7| _c8| _c9|_c10|_c11|_c12|_c13|\n",
      "+---+-----+----+----+----+---+----+----+----+----+----+----+----+----+\n",
      "|  1|13.24|2.59|2.87|21.0|118| 2.8|2.69|0.39|1.82|4.32|1.04|2.93| 735|\n",
      "|  1|14.06|2.15|2.61|17.6|121| 2.6|2.51|0.31|1.25|5.05|1.06|3.58|1295|\n",
      "|  1|13.75|1.73|2.41|16.0| 89| 2.6|2.76|0.29|1.81| 5.6|1.15| 2.9|1320|\n",
      "|  1| 13.5|1.81|2.61|20.0| 96|2.53|2.61|0.28|1.66|3.52|1.12|3.82| 845|\n",
      "|  1|13.05|2.05|3.22|25.0|124|2.63|2.68|0.47|1.92|3.58|1.13| 3.2| 830|\n",
      "|  1|13.51| 1.8|2.65|19.0|110|2.35|2.53|0.29|1.54| 4.2| 1.1|2.87|1095|\n",
      "|  1|13.07| 1.5| 2.1|15.5| 98| 2.4|2.64|0.28|1.37| 3.7|1.18|2.69|1020|\n",
      "|  1|14.21|4.04|2.44|18.9|111|2.85|2.65| 0.3|1.25|5.24|0.87|3.33|1080|\n",
      "|  1|14.38|3.59|2.28|16.0|102|3.25|3.17|0.27|2.19| 4.9|1.04|3.44|1065|\n",
      "|  1|13.82|1.75|2.42|14.0|111|3.88|3.74|0.32|1.87|7.05|1.01|3.26|1190|\n",
      "|  2|12.33| 1.1|2.28|16.0|101|2.05|1.09|0.63|0.41|3.27|1.25|1.67| 680|\n",
      "|  2|12.64|1.36|2.02|16.8|100|2.02|1.41|0.53|0.62|5.75|0.98|1.59| 450|\n",
      "|  2|11.84|2.89|2.23|18.0|112|1.72|1.32|0.43|0.95|2.65|0.96|2.52| 500|\n",
      "|  2|11.84|0.89|2.58|18.0| 94| 2.2|2.21|0.22|2.35|3.05|0.79|3.08| 520|\n",
      "|  2|12.69|1.53|2.26|20.7| 80|1.38|1.46|0.58|1.62|3.05|0.96|2.06| 495|\n",
      "|  2|11.62|1.99|2.28|18.0| 98|3.02|2.26|0.17|1.35|3.25|1.16|2.96| 345|\n",
      "|  2|11.46|3.74|1.82|19.5|107|3.18|2.58|0.24|3.58| 2.9|0.75|2.81| 562|\n",
      "|  2|11.87|4.31|2.39|21.0| 82|2.86|3.03|0.21|2.91| 2.8|0.75|3.64| 380|\n",
      "|  3| 12.6|2.46| 2.2|18.5| 94|1.62|0.66|0.63|0.94| 7.1|0.73|1.58| 695|\n",
      "|  3|13.36|2.56|2.35|20.0| 89| 1.4| 0.5|0.37|0.64| 5.6| 0.7|2.47| 780|\n",
      "+---+-----+----+----+----+---+----+----+----+----+----+----+----+----+\n",
      "only showing top 20 rows\n",
      "\n"
     ]
    }
   ],
   "source": [
    "wine = spark.read.csv('../../machine_learning/wine.csv', header=False, inferSchema=True)\n",
    "wine.sample(False, 0.1).show()"
   ]
  },
  {
   "cell_type": "markdown",
   "metadata": {},
   "source": [
    "Note that in local mode even with the [4] only one partition is being used:"
   ]
  },
  {
   "cell_type": "code",
   "execution_count": 3,
   "metadata": {
    "collapsed": false
   },
   "outputs": [
    {
     "data": {
      "text/plain": [
       "1"
      ]
     },
     "execution_count": 3,
     "metadata": {},
     "output_type": "execute_result"
    }
   ],
   "source": [
    "wine.rdd.getNumPartitions()"
   ]
  },
  {
   "cell_type": "code",
   "execution_count": 4,
   "metadata": {
    "collapsed": false
   },
   "outputs": [
    {
     "name": "stdout",
     "output_type": "stream",
     "text": [
      "root\n",
      " |-- _c0: integer (nullable = true)\n",
      " |-- _c1: double (nullable = true)\n",
      " |-- _c2: double (nullable = true)\n",
      " |-- _c3: double (nullable = true)\n",
      " |-- _c4: double (nullable = true)\n",
      " |-- _c5: integer (nullable = true)\n",
      " |-- _c6: double (nullable = true)\n",
      " |-- _c7: double (nullable = true)\n",
      " |-- _c8: double (nullable = true)\n",
      " |-- _c9: double (nullable = true)\n",
      " |-- _c10: double (nullable = true)\n",
      " |-- _c11: double (nullable = true)\n",
      " |-- _c12: double (nullable = true)\n",
      " |-- _c13: integer (nullable = true)\n",
      "\n"
     ]
    }
   ],
   "source": [
    "wine.printSchema()"
   ]
  },
  {
   "cell_type": "code",
   "execution_count": 6,
   "metadata": {
    "collapsed": true
   },
   "outputs": [],
   "source": [
    "columns = ['class', 'Alcohol', 'Malic acid', 'Ash', 'Alcalinity of ash', 'Magnesium', 'Total phenols', \\\n",
    "           'Flavanoids', 'Nonflavanoid phenols', 'Proanthocyanins', 'Color intensity', 'Hue', \\\n",
    "           'OD280/OD315 of diluted wines', 'Proline']"
   ]
  },
  {
   "cell_type": "code",
   "execution_count": 7,
   "metadata": {
    "collapsed": false
   },
   "outputs": [
    {
     "name": "stdout",
     "output_type": "stream",
     "text": [
      "['_c0', '_c1', '_c2', '_c3', '_c4', '_c5', '_c6', '_c7', '_c8', '_c9', '_c10', '_c11', '_c12', '_c13']\n"
     ]
    }
   ],
   "source": [
    "print wine.schema.names"
   ]
  },
  {
   "cell_type": "code",
   "execution_count": 8,
   "metadata": {
    "collapsed": false
   },
   "outputs": [
    {
     "data": {
      "text/plain": [
       "[('_c0', 'int'),\n",
       " ('_c1', 'double'),\n",
       " ('_c2', 'double'),\n",
       " ('_c3', 'double'),\n",
       " ('_c4', 'double'),\n",
       " ('_c5', 'int'),\n",
       " ('_c6', 'double'),\n",
       " ('_c7', 'double'),\n",
       " ('_c8', 'double'),\n",
       " ('_c9', 'double'),\n",
       " ('_c10', 'double'),\n",
       " ('_c11', 'double'),\n",
       " ('_c12', 'double'),\n",
       " ('_c13', 'int')]"
      ]
     },
     "execution_count": 8,
     "metadata": {},
     "output_type": "execute_result"
    }
   ],
   "source": [
    "wine.dtypes"
   ]
  },
  {
   "cell_type": "code",
   "execution_count": null,
   "metadata": {
    "collapsed": true
   },
   "outputs": [],
   "source": []
  }
 ],
 "metadata": {
  "anaconda-cloud": {},
  "kernelspec": {
   "display_name": "Python [conda root]",
   "language": "python",
   "name": "conda-root-py"
  },
  "language_info": {
   "codemirror_mode": {
    "name": "ipython",
    "version": 2
   },
   "file_extension": ".py",
   "mimetype": "text/x-python",
   "name": "python",
   "nbconvert_exporter": "python",
   "pygments_lexer": "ipython2",
   "version": "2.7.12"
  }
 },
 "nbformat": 4,
 "nbformat_minor": 1
}
