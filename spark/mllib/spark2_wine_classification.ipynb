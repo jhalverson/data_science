{
 "cells": [
  {
   "cell_type": "markdown",
   "metadata": {},
   "source": [
    "# Jonathan Halverson\n",
    "# Tuesday, December 27, 2016\n",
    "# Wine classification in Spark 2"
   ]
  },
  {
   "cell_type": "code",
   "execution_count": 14,
   "metadata": {
    "collapsed": true
   },
   "outputs": [],
   "source": [
    "from __future__ import print_function\n",
    "from pyspark.sql import SparkSession\n",
    "spark = SparkSession.builder.master(\"local[4]\").appName(\"Wine classification\").getOrCreate()"
   ]
  },
  {
   "cell_type": "code",
   "execution_count": 15,
   "metadata": {
    "collapsed": false
   },
   "outputs": [
    {
     "name": "stdout",
     "output_type": "stream",
     "text": [
      "+---+-----+----+----+----+---+----+----+----+----+--------+----+----+----+\n",
      "|_c0|  _c1| _c2| _c3| _c4|_c5| _c6| _c7| _c8| _c9|    _c10|_c11|_c12|_c13|\n",
      "+---+-----+----+----+----+---+----+----+----+----+--------+----+----+----+\n",
      "|  1|13.16|2.36|2.67|18.6|101| 2.8|3.24| 0.3|2.81|    5.68|1.03|3.17|1185|\n",
      "|  1|14.38|1.87|2.38|12.0|102| 3.3|3.64|0.29|2.96|     7.5| 1.2| 3.0|1547|\n",
      "|  1|13.83|1.57|2.62|20.0|115|2.95| 3.4| 0.4|1.72|     6.6|1.13|2.57|1130|\n",
      "|  1| 13.9|1.68|2.12|16.0|101| 3.1|3.39|0.21|2.14|     6.1|0.91|3.33| 985|\n",
      "|  2|12.08|1.13|2.51|24.0| 78| 2.0|1.58| 0.4| 1.4|     2.2|1.31|2.72| 630|\n",
      "|  2|12.16|1.61|2.31|22.8| 90|1.78|1.69|0.43|1.56|    2.45|1.33|2.26| 495|\n",
      "|  2|11.62|1.99|2.28|18.0| 98|3.02|2.26|0.17|1.35|    3.25|1.16|2.96| 345|\n",
      "|  2| 12.6|1.34| 1.9|18.5| 88|1.45|1.36|0.29|1.35|    2.45|1.04|2.77| 562|\n",
      "|  2|12.51|1.73|1.98|20.5| 85| 2.2|1.92|0.32|1.48|    2.94|1.04|3.57| 672|\n",
      "|  3|13.08| 3.9|2.36|21.5|113|1.41|1.39|0.34|1.14|     9.4|0.57|1.33| 550|\n",
      "|  3|14.34|1.68| 2.7|25.0| 98| 2.8|1.31|0.53| 2.7|    13.0|0.57|1.96| 660|\n",
      "|  3|13.73|4.36|2.26|22.5| 88|1.28|0.47|0.52|1.15|    6.62|0.78|1.75| 520|\n",
      "|  3|12.77|2.39|2.28|19.5| 86|1.39|0.51|0.48|0.64|9.899999|0.57|1.63| 470|\n",
      "|  3| 13.4|3.91|2.48|23.0|102| 1.8|0.75|0.43|1.41|     7.3| 0.7|1.56| 750|\n",
      "|  3|14.13| 4.1|2.74|24.5| 96|2.05|0.76|0.56|1.35|     9.2|0.61| 1.6| 560|\n",
      "+---+-----+----+----+----+---+----+----+----+----+--------+----+----+----+\n",
      "\n"
     ]
    }
   ],
   "source": [
    "df = spark.read.csv('../../machine_learning/wine.csv', header=False, inferSchema=True)\n",
    "df.sample(False, 0.1).show()"
   ]
  },
  {
   "cell_type": "markdown",
   "metadata": {},
   "source": [
    "Note that in local mode even with the [4] only one partition is being used:"
   ]
  },
  {
   "cell_type": "code",
   "execution_count": 16,
   "metadata": {
    "collapsed": false
   },
   "outputs": [
    {
     "data": {
      "text/plain": [
       "1"
      ]
     },
     "execution_count": 16,
     "metadata": {},
     "output_type": "execute_result"
    }
   ],
   "source": [
    "df.rdd.getNumPartitions()"
   ]
  },
  {
   "cell_type": "code",
   "execution_count": 17,
   "metadata": {
    "collapsed": false
   },
   "outputs": [
    {
     "name": "stdout",
     "output_type": "stream",
     "text": [
      "root\n",
      " |-- _c0: integer (nullable = true)\n",
      " |-- _c1: double (nullable = true)\n",
      " |-- _c2: double (nullable = true)\n",
      " |-- _c3: double (nullable = true)\n",
      " |-- _c4: double (nullable = true)\n",
      " |-- _c5: integer (nullable = true)\n",
      " |-- _c6: double (nullable = true)\n",
      " |-- _c7: double (nullable = true)\n",
      " |-- _c8: double (nullable = true)\n",
      " |-- _c9: double (nullable = true)\n",
      " |-- _c10: double (nullable = true)\n",
      " |-- _c11: double (nullable = true)\n",
      " |-- _c12: double (nullable = true)\n",
      " |-- _c13: integer (nullable = true)\n",
      "\n"
     ]
    }
   ],
   "source": [
    "df.printSchema()"
   ]
  },
  {
   "cell_type": "code",
   "execution_count": 18,
   "metadata": {
    "collapsed": true
   },
   "outputs": [],
   "source": [
    "columns = ['Class', 'Alcohol', 'Malic acid', 'Ash', 'Alcalinity of ash', 'Magnesium', 'Total phenols', \\\n",
    "           'Flavanoids', 'Nonflavanoid phenols', 'Proanthocyanins', 'Color intensity', 'Hue', \\\n",
    "           'OD280/OD315 of diluted wines', 'Proline']"
   ]
  },
  {
   "cell_type": "code",
   "execution_count": 19,
   "metadata": {
    "collapsed": true
   },
   "outputs": [],
   "source": [
    "for u, v in zip(df.schema.names, columns):\n",
    "    df = df.withColumnRenamed(u, v)"
   ]
  },
  {
   "cell_type": "code",
   "execution_count": 20,
   "metadata": {
    "collapsed": false
   },
   "outputs": [
    {
     "name": "stdout",
     "output_type": "stream",
     "text": [
      "root\n",
      " |-- Class: integer (nullable = true)\n",
      " |-- Alcohol: double (nullable = true)\n",
      " |-- Malic acid: double (nullable = true)\n",
      " |-- Ash: double (nullable = true)\n",
      " |-- Alcalinity of ash: double (nullable = true)\n",
      " |-- Magnesium: integer (nullable = true)\n",
      " |-- Total phenols: double (nullable = true)\n",
      " |-- Flavanoids: double (nullable = true)\n",
      " |-- Nonflavanoid phenols: double (nullable = true)\n",
      " |-- Proanthocyanins: double (nullable = true)\n",
      " |-- Color intensity: double (nullable = true)\n",
      " |-- Hue: double (nullable = true)\n",
      " |-- OD280/OD315 of diluted wines: double (nullable = true)\n",
      " |-- Proline: integer (nullable = true)\n",
      "\n"
     ]
    }
   ],
   "source": [
    "df.printSchema()"
   ]
  },
  {
   "cell_type": "code",
   "execution_count": 31,
   "metadata": {
    "collapsed": false
   },
   "outputs": [
    {
     "name": "stdout",
     "output_type": "stream",
     "text": [
      "+-----+-------+----------+----+-----------------+---------+-------------+----------+--------------------+---------------+---------------+----+----------------------------+-------+\n",
      "|Class|Alcohol|Malic acid| Ash|Alcalinity of ash|Magnesium|Total phenols|Flavanoids|Nonflavanoid phenols|Proanthocyanins|Color intensity| Hue|OD280/OD315 of diluted wines|Proline|\n",
      "+-----+-------+----------+----+-----------------+---------+-------------+----------+--------------------+---------------+---------------+----+----------------------------+-------+\n",
      "|    1|  14.39|      1.87|2.45|             14.6|       96|          2.5|      2.52|                 0.3|           1.98|           5.25|1.02|                        3.58|   1290|\n",
      "|    1|   13.5|      1.81|2.61|             20.0|       96|         2.53|      2.61|                0.28|           1.66|           3.52|1.12|                        3.82|    845|\n",
      "|    1|  13.39|      1.77|2.62|             16.1|       93|         2.85|      2.94|                0.34|           1.45|            4.8|0.92|                        3.22|   1195|\n",
      "|    1|  13.05|      1.73|2.04|             12.4|       92|         2.72|      3.27|                0.17|           2.91|            7.2|1.12|                        2.91|   1150|\n",
      "|    1|  13.72|      1.43| 2.5|             16.7|      108|          3.4|      3.67|                0.19|           2.04|            6.8|0.89|                        2.87|   1285|\n",
      "+-----+-------+----------+----+-----------------+---------+-------------+----------+--------------------+---------------+---------------+----+----------------------------+-------+\n",
      "only showing top 5 rows\n",
      "\n"
     ]
    }
   ],
   "source": [
    "wine = reduce(lambda data, i: data.withColumnRenamed(df.schema.names[i], columns[i]), xrange(len(columns)), df)\n",
    "wine.sample(False, 0.1).show(5)"
   ]
  },
  {
   "cell_type": "code",
   "execution_count": 33,
   "metadata": {
    "collapsed": false
   },
   "outputs": [
    {
     "name": "stdout",
     "output_type": "stream",
     "text": [
      "+-------+------------------+------------------+------------------+------------------+-----------------+------------------+------------------+------------------+--------------------+------------------+-----------------+-------------------+----------------------------+-----------------+\n",
      "|summary|             Class|           Alcohol|        Malic acid|               Ash|Alcalinity of ash|         Magnesium|     Total phenols|        Flavanoids|Nonflavanoid phenols|   Proanthocyanins|  Color intensity|                Hue|OD280/OD315 of diluted wines|          Proline|\n",
      "+-------+------------------+------------------+------------------+------------------+-----------------+------------------+------------------+------------------+--------------------+------------------+-----------------+-------------------+----------------------------+-----------------+\n",
      "|  count|               178|               178|               178|               178|              178|               178|               178|               178|                 178|               178|              178|                178|                         178|              178|\n",
      "|   mean|1.9382022471910112|13.000617977528083| 2.336348314606741|2.3665168539325854|19.49494382022472| 99.74157303370787| 2.295112359550562|2.0292696629213474| 0.36185393258426973|1.5908988764044953|5.058089882022473| 0.9574494382022468|          2.6116853932584254|746.8932584269663|\n",
      "| stddev|0.7750349899850563| 0.811826538005858|1.1171460976144625|0.2743440090608148|3.339563767173504|14.282483515295652|0.6258510488339892|0.9988586850169471| 0.12445334029667941|0.5723588626747612|2.318285871822413|0.22857156582982324|          0.7099904287650503|314.9074742768492|\n",
      "|    min|                 1|             11.03|              0.74|              1.36|             10.6|                70|              0.98|              0.34|                0.13|              0.41|             1.28|               0.48|                        1.27|              278|\n",
      "|    max|                 3|             14.83|               5.8|              3.23|             30.0|               162|              3.88|              5.08|                0.66|              3.58|             13.0|               1.71|                         4.0|             1680|\n",
      "+-------+------------------+------------------+------------------+------------------+-----------------+------------------+------------------+------------------+--------------------+------------------+-----------------+-------------------+----------------------------+-----------------+\n",
      "\n"
     ]
    }
   ],
   "source": [
    "wine.describe().show()"
   ]
  },
  {
   "cell_type": "code",
   "execution_count": 22,
   "metadata": {
    "collapsed": true
   },
   "outputs": [],
   "source": [
    "from pyspark.sql import Row\n",
    "from pyspark.ml.linalg import Vectors"
   ]
  },
  {
   "cell_type": "code",
   "execution_count": 23,
   "metadata": {
    "collapsed": false
   },
   "outputs": [
    {
     "name": "stdout",
     "output_type": "stream",
     "text": [
      "+--------------------+-----+\n",
      "|            features|label|\n",
      "+--------------------+-----+\n",
      "|[14.23,1.71,2.43,...|    0|\n",
      "|[13.64,3.1,2.56,1...|    0|\n",
      "|[14.22,3.99,2.51,...|    0|\n",
      "|[13.05,1.77,2.1,1...|    0|\n",
      "|[14.1,2.02,2.4,18...|    0|\n",
      "+--------------------+-----+\n",
      "only showing top 5 rows\n",
      "\n"
     ]
    }
   ],
   "source": [
    "wine = wine.rdd.map(lambda row: Row(label=row.Class, features=Vectors.dense(row[1:]))).toDF()\n",
    "wine = wine.select(wine.features, (wine.label - 1).alias('label'))\n",
    "wine.sample(False, 0.1).show(5)"
   ]
  },
  {
   "cell_type": "code",
   "execution_count": 24,
   "metadata": {
    "collapsed": false
   },
   "outputs": [],
   "source": [
    "wine = wine.filter(wine.label < 2).cache()"
   ]
  },
  {
   "cell_type": "code",
   "execution_count": 25,
   "metadata": {
    "collapsed": false
   },
   "outputs": [],
   "source": [
    "from pyspark.ml import Pipeline\n",
    "from pyspark.ml.evaluation import BinaryClassificationEvaluator\n",
    "from pyspark.ml.tuning import CrossValidator, ParamGridBuilder\n",
    "from pyspark.ml.classification import LogisticRegression\n",
    "\n",
    "lr = LogisticRegression(featuresCol='features', labelCol='label', maxIter=10, regParam=0.3, elasticNetParam=0.8)\n",
    "pipeline = Pipeline(stages=[lr])\n",
    "\n",
    "paramGrid = ParamGridBuilder().addGrid(lr.regParam, [0.1, 0.01]).build()\n",
    "crossval = CrossValidator(estimator=pipeline, estimatorParamMaps=paramGrid, evaluator=BinaryClassificationEvaluator(), numFolds=5)\n",
    "cvModel = crossval.fit(wine)"
   ]
  },
  {
   "cell_type": "code",
   "execution_count": 26,
   "metadata": {
    "collapsed": true
   },
   "outputs": [],
   "source": [
    "test, _ = wine.randomSplit([0.1, 0.9])\n",
    "prediction = cvModel.transform(test)"
   ]
  },
  {
   "cell_type": "code",
   "execution_count": 27,
   "metadata": {
    "collapsed": false
   },
   "outputs": [
    {
     "name": "stdout",
     "output_type": "stream",
     "text": [
      "+--------------------+-----+--------------------+--------------------+----------+\n",
      "|            features|label|       rawPrediction|         probability|prediction|\n",
      "+--------------------+-----+--------------------+--------------------+----------+\n",
      "|[11.82,1.47,1.99,...|    1|[-1.8929463470622...|[0.13090889367574...|       1.0|\n",
      "|[12.29,1.61,2.21,...|    1|[-1.1223134862045...|[0.24558240781357...|       1.0|\n",
      "|[12.99,1.67,2.6,3...|    1|[-1.2313092689777...|[0.22595235519275...|       1.0|\n",
      "|[13.03,0.9,1.71,1...|    1|[-0.4109430925703...|[0.39868600681839...|       1.0|\n",
      "|[13.05,1.65,2.55,...|    0|[0.69035237596838...|[0.66604530995566...|       0.0|\n",
      "|[13.05,1.77,2.1,1...|    0|[0.90565454749549...|[0.71211012636091...|       0.0|\n",
      "|[13.48,1.81,2.41,...|    0|[0.49021152328035...|[0.62015626055635...|       0.0|\n",
      "|[13.58,1.66,2.36,...|    0|[2.54559670404492...|[0.92727713978336...|       0.0|\n",
      "|[13.9,1.68,2.12,1...|    0|[1.82266043917934...|[0.86088505251543...|       0.0|\n",
      "|[14.22,1.7,2.3,16...|    0|[1.57926129362778...|[0.82909987369850...|       0.0|\n",
      "|[14.37,1.95,2.5,1...|    0|[3.17446365030053...|[0.95986190917988...|       0.0|\n",
      "+--------------------+-----+--------------------+--------------------+----------+\n",
      "\n"
     ]
    }
   ],
   "source": [
    "prediction.show()"
   ]
  },
  {
   "cell_type": "code",
   "execution_count": 30,
   "metadata": {
    "collapsed": false
   },
   "outputs": [
    {
     "data": {
      "text/plain": [
       "1.0"
      ]
     },
     "execution_count": 30,
     "metadata": {},
     "output_type": "execute_result"
    }
   ],
   "source": [
    "evaluator = BinaryClassificationEvaluator(rawPredictionCol=\"rawPrediction\")\n",
    "evaluator.evaluate(prediction)\n",
    "evaluator.evaluate(prediction, {evaluator.metricName: \"areaUnderPR\"})"
   ]
  }
 ],
 "metadata": {
  "anaconda-cloud": {},
  "kernelspec": {
   "display_name": "Python [conda root]",
   "language": "python",
   "name": "conda-root-py"
  },
  "language_info": {
   "codemirror_mode": {
    "name": "ipython",
    "version": 2
   },
   "file_extension": ".py",
   "mimetype": "text/x-python",
   "name": "python",
   "nbconvert_exporter": "python",
   "pygments_lexer": "ipython2",
   "version": "2.7.12"
  }
 },
 "nbformat": 4,
 "nbformat_minor": 1
}
