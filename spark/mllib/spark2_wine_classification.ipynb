{
 "cells": [
  {
   "cell_type": "markdown",
   "metadata": {},
   "source": [
    "# Jonathan Halverson\n",
    "# Tuesday, December 27, 2016\n",
    "# Wine classification in Spark 2"
   ]
  },
  {
   "cell_type": "code",
   "execution_count": 1,
   "metadata": {
    "collapsed": true
   },
   "outputs": [],
   "source": [
    "from __future__ import print_function\n",
    "from pyspark.sql import SparkSession\n",
    "spark = SparkSession.builder.master(\"local[4]\").appName(\"Wine classification\").getOrCreate()"
   ]
  },
  {
   "cell_type": "code",
   "execution_count": 2,
   "metadata": {
    "collapsed": false
   },
   "outputs": [
    {
     "name": "stdout",
     "output_type": "stream",
     "text": [
      "+---+-----+----+----+----+---+----+----+----+----+----+----+----+----+\n",
      "|_c0|  _c1| _c2| _c3| _c4|_c5| _c6| _c7| _c8| _c9|_c10|_c11|_c12|_c13|\n",
      "+---+-----+----+----+----+---+----+----+----+----+----+----+----+----+\n",
      "|  1|13.05|1.77| 2.1|17.0|107| 3.0| 3.0|0.28|2.03|5.04|0.88|3.35| 885|\n",
      "|  2|12.33| 1.1|2.28|16.0|101|2.05|1.09|0.63|0.41|3.27|1.25|1.67| 680|\n",
      "|  2|12.37|1.13|2.16|19.0| 87| 3.5| 3.1|0.19|1.87|4.45|1.22|2.87| 420|\n",
      "|  2|11.96|1.09| 2.3|21.0|101|3.38|2.14|0.13|1.65|3.21|0.99|3.13| 886|\n",
      "|  2|11.66|1.88|1.92|16.0| 97|1.61|1.57|0.34|1.15| 3.8|1.23|2.14| 428|\n",
      "|  2| 12.7|3.87| 2.4|23.0|101|2.83|2.55|0.43|1.95|2.57|1.19|3.13| 463|\n",
      "|  2|11.64|2.06|2.46|21.6| 84|1.95|1.69|0.48|1.35| 2.8| 1.0|2.75| 680|\n",
      "|  2|12.29|3.17|2.21|18.0| 88|2.85|2.99|0.45|2.81| 2.3|1.42|2.83| 406|\n",
      "|  2| 12.6|1.34| 1.9|18.5| 88|1.45|1.36|0.29|1.35|2.45|1.04|2.77| 562|\n",
      "|  2|12.42|2.55|2.27|22.0| 90|1.68|1.84|0.66|1.42| 2.7|0.86| 3.3| 315|\n",
      "|  2|12.72|1.75|2.28|22.5| 84|1.38|1.76|0.48|1.63| 3.3|0.88|2.42| 488|\n",
      "|  2|11.76|2.68|2.92|20.0|103|1.75|2.03| 0.6|1.05| 3.8|1.23| 2.5| 607|\n",
      "|  2|12.08|1.39| 2.5|22.5| 84|2.56|2.29|0.43|1.04| 2.9|0.93|3.19| 385|\n",
      "|  2|11.82|1.47|1.99|20.8| 86|1.98| 1.6| 0.3|1.53|1.95|0.95|3.33| 495|\n",
      "|  2| 12.0|3.43| 2.0|19.0| 87| 2.0|1.64|0.37|1.87|1.28|0.93|3.05| 564|\n",
      "|  2|12.37|1.63| 2.3|24.5| 88|2.22|2.45| 0.4| 1.9|2.12|0.89|2.78| 342|\n",
      "|  3|12.81|2.31| 2.4|24.0| 98|1.15|1.09|0.27|0.83| 5.7|0.66|1.36| 560|\n",
      "|  3|12.51|1.24|2.25|17.5| 85| 2.0|0.58| 0.6|1.25|5.45|0.75|1.51| 650|\n",
      "|  3|12.25|4.72|2.54|21.0| 89|1.38|0.47|0.53| 0.8|3.85|0.75|1.27| 720|\n",
      "|  3|13.32|3.24|2.38|21.5| 92|1.93|0.76|0.45|1.25|8.42|0.55|1.62| 650|\n",
      "+---+-----+----+----+----+---+----+----+----+----+----+----+----+----+\n",
      "only showing top 20 rows\n",
      "\n"
     ]
    }
   ],
   "source": [
    "df = spark.read.csv('../../machine_learning/wine.csv', header=False, inferSchema=True)\n",
    "df.sample(False, 0.1).show()"
   ]
  },
  {
   "cell_type": "markdown",
   "metadata": {},
   "source": [
    "Class labels must begin with 0 and count up in Spark. Here we will only consider a binary classification problem so we will ignore class 3:"
   ]
  },
  {
   "cell_type": "code",
   "execution_count": 3,
   "metadata": {
    "collapsed": false
   },
   "outputs": [
    {
     "name": "stdout",
     "output_type": "stream",
     "text": [
      "+---+-----+----+----+----+---+----+----+----+----+----+----+----+----+\n",
      "|_c0|  _c1| _c2| _c3| _c4|_c5| _c6| _c7| _c8| _c9|_c10|_c11|_c12|_c13|\n",
      "+---+-----+----+----+----+---+----+----+----+----+----+----+----+----+\n",
      "|  0|14.37|1.95| 2.5|16.8|113|3.85|3.49|0.24|2.18| 7.8|0.86|3.45|1480|\n",
      "|  0|14.12|1.48|2.32|16.8| 95| 2.2|2.43|0.26|1.57| 5.0|1.17|2.82|1280|\n",
      "|  0| 13.3|1.72|2.14|17.0| 94| 2.4|2.19|0.27|1.35|3.95|1.02|2.77|1285|\n",
      "|  0|13.48|1.81|2.41|20.5|100| 2.7|2.98|0.26|1.86| 5.1|1.04|3.47| 920|\n",
      "|  0|14.22| 1.7| 2.3|16.3|118| 3.2| 3.0|0.26|2.03|6.38|0.94|3.31| 970|\n",
      "|  1|13.03| 0.9|1.71|16.0| 86|1.95|2.03|0.24|1.46| 4.6|1.19|2.48| 392|\n",
      "|  1| 12.0|1.51|2.42|22.0| 86|1.45|1.25| 0.5|1.63| 3.6|1.05|2.65| 450|\n",
      "|  1|12.29|1.41|1.98|16.0| 85|2.55| 2.5|0.29|1.77| 2.9|1.23|2.74| 428|\n",
      "|  1|13.05| 5.8|2.13|21.5| 86|2.62|2.65| 0.3|2.01| 2.6|0.73| 3.1| 380|\n",
      "+---+-----+----+----+----+---+----+----+----+----+----+----+----+----+\n",
      "\n"
     ]
    }
   ],
   "source": [
    "df = df.filter(df._c0 < 3).withColumn('_c0', df['_c0'] - 1)\n",
    "df.sample(False, 0.1).show()"
   ]
  },
  {
   "cell_type": "markdown",
   "metadata": {},
   "source": [
    "Note that in local mode even with the [4] only one partition is being used:"
   ]
  },
  {
   "cell_type": "code",
   "execution_count": 4,
   "metadata": {
    "collapsed": false
   },
   "outputs": [
    {
     "data": {
      "text/plain": [
       "1"
      ]
     },
     "execution_count": 4,
     "metadata": {},
     "output_type": "execute_result"
    }
   ],
   "source": [
    "df.rdd.getNumPartitions()"
   ]
  },
  {
   "cell_type": "code",
   "execution_count": 5,
   "metadata": {
    "collapsed": false
   },
   "outputs": [
    {
     "name": "stdout",
     "output_type": "stream",
     "text": [
      "root\n",
      " |-- _c0: integer (nullable = true)\n",
      " |-- _c1: double (nullable = true)\n",
      " |-- _c2: double (nullable = true)\n",
      " |-- _c3: double (nullable = true)\n",
      " |-- _c4: double (nullable = true)\n",
      " |-- _c5: integer (nullable = true)\n",
      " |-- _c6: double (nullable = true)\n",
      " |-- _c7: double (nullable = true)\n",
      " |-- _c8: double (nullable = true)\n",
      " |-- _c9: double (nullable = true)\n",
      " |-- _c10: double (nullable = true)\n",
      " |-- _c11: double (nullable = true)\n",
      " |-- _c12: double (nullable = true)\n",
      " |-- _c13: integer (nullable = true)\n",
      "\n"
     ]
    }
   ],
   "source": [
    "df.printSchema()"
   ]
  },
  {
   "cell_type": "markdown",
   "metadata": {},
   "source": [
    "Let's change the data type of _c5 and _c13 to double:"
   ]
  },
  {
   "cell_type": "code",
   "execution_count": 6,
   "metadata": {
    "collapsed": false
   },
   "outputs": [
    {
     "name": "stdout",
     "output_type": "stream",
     "text": [
      "root\n",
      " |-- _c0: integer (nullable = true)\n",
      " |-- _c1: double (nullable = true)\n",
      " |-- _c2: double (nullable = true)\n",
      " |-- _c3: double (nullable = true)\n",
      " |-- _c4: double (nullable = true)\n",
      " |-- _c5: double (nullable = true)\n",
      " |-- _c6: double (nullable = true)\n",
      " |-- _c7: double (nullable = true)\n",
      " |-- _c8: double (nullable = true)\n",
      " |-- _c9: double (nullable = true)\n",
      " |-- _c10: double (nullable = true)\n",
      " |-- _c11: double (nullable = true)\n",
      " |-- _c12: double (nullable = true)\n",
      " |-- _c13: double (nullable = true)\n",
      "\n"
     ]
    }
   ],
   "source": [
    "df = df.withColumn('_c5', df['_c5'].cast('double'))\n",
    "df = df.withColumn('_c13', df['_c13'].cast('double'))\n",
    "df.printSchema()"
   ]
  },
  {
   "cell_type": "markdown",
   "metadata": {},
   "source": [
    "Let's give the columns more meaningful names:"
   ]
  },
  {
   "cell_type": "code",
   "execution_count": 7,
   "metadata": {
    "collapsed": true
   },
   "outputs": [],
   "source": [
    "columns = ['Class', 'Alcohol', 'Malic acid', 'Ash', 'Alcalinity of ash', 'Magnesium', 'Total phenols', \\\n",
    "           'Flavanoids', 'Nonflavanoid phenols', 'Proanthocyanins', 'Color intensity', 'Hue', \\\n",
    "           'OD280/OD315 of diluted wines', 'Proline']"
   ]
  },
  {
   "cell_type": "code",
   "execution_count": 8,
   "metadata": {
    "collapsed": true
   },
   "outputs": [],
   "source": [
    "for u, v in zip(df.schema.names, columns):\n",
    "    df = df.withColumnRenamed(u, v)"
   ]
  },
  {
   "cell_type": "code",
   "execution_count": 9,
   "metadata": {
    "collapsed": false
   },
   "outputs": [
    {
     "name": "stdout",
     "output_type": "stream",
     "text": [
      "root\n",
      " |-- Class: integer (nullable = true)\n",
      " |-- Alcohol: double (nullable = true)\n",
      " |-- Malic acid: double (nullable = true)\n",
      " |-- Ash: double (nullable = true)\n",
      " |-- Alcalinity of ash: double (nullable = true)\n",
      " |-- Magnesium: double (nullable = true)\n",
      " |-- Total phenols: double (nullable = true)\n",
      " |-- Flavanoids: double (nullable = true)\n",
      " |-- Nonflavanoid phenols: double (nullable = true)\n",
      " |-- Proanthocyanins: double (nullable = true)\n",
      " |-- Color intensity: double (nullable = true)\n",
      " |-- Hue: double (nullable = true)\n",
      " |-- OD280/OD315 of diluted wines: double (nullable = true)\n",
      " |-- Proline: double (nullable = true)\n",
      "\n"
     ]
    }
   ],
   "source": [
    "df.printSchema()"
   ]
  },
  {
   "cell_type": "markdown",
   "metadata": {},
   "source": [
    "Here is an alternative version of assigning the column names:"
   ]
  },
  {
   "cell_type": "code",
   "execution_count": 10,
   "metadata": {
    "collapsed": false
   },
   "outputs": [
    {
     "data": {
      "text/html": [
       "<div>\n",
       "<table border=\"1\" class=\"dataframe\">\n",
       "  <thead>\n",
       "    <tr style=\"text-align: right;\">\n",
       "      <th></th>\n",
       "      <th>Class</th>\n",
       "      <th>Alcohol</th>\n",
       "      <th>Malic acid</th>\n",
       "      <th>Ash</th>\n",
       "      <th>Alcalinity of ash</th>\n",
       "      <th>Magnesium</th>\n",
       "      <th>Total phenols</th>\n",
       "      <th>Flavanoids</th>\n",
       "      <th>Nonflavanoid phenols</th>\n",
       "      <th>Proanthocyanins</th>\n",
       "      <th>Color intensity</th>\n",
       "      <th>Hue</th>\n",
       "      <th>OD280/OD315 of diluted wines</th>\n",
       "      <th>Proline</th>\n",
       "    </tr>\n",
       "  </thead>\n",
       "  <tbody>\n",
       "    <tr>\n",
       "      <th>0</th>\n",
       "      <td>0.0</td>\n",
       "      <td>13.4</td>\n",
       "      <td>1.8</td>\n",
       "      <td>2.6</td>\n",
       "      <td>16.1</td>\n",
       "      <td>93.0</td>\n",
       "      <td>2.9</td>\n",
       "      <td>2.9</td>\n",
       "      <td>0.3</td>\n",
       "      <td>1.4</td>\n",
       "      <td>4.8</td>\n",
       "      <td>0.9</td>\n",
       "      <td>3.2</td>\n",
       "      <td>1195.0</td>\n",
       "    </tr>\n",
       "    <tr>\n",
       "      <th>1</th>\n",
       "      <td>0.0</td>\n",
       "      <td>14.4</td>\n",
       "      <td>3.6</td>\n",
       "      <td>2.3</td>\n",
       "      <td>16.0</td>\n",
       "      <td>102.0</td>\n",
       "      <td>3.3</td>\n",
       "      <td>3.2</td>\n",
       "      <td>0.3</td>\n",
       "      <td>2.2</td>\n",
       "      <td>4.9</td>\n",
       "      <td>1.0</td>\n",
       "      <td>3.4</td>\n",
       "      <td>1065.0</td>\n",
       "    </tr>\n",
       "    <tr>\n",
       "      <th>2</th>\n",
       "      <td>1.0</td>\n",
       "      <td>11.8</td>\n",
       "      <td>0.9</td>\n",
       "      <td>2.6</td>\n",
       "      <td>18.0</td>\n",
       "      <td>94.0</td>\n",
       "      <td>2.2</td>\n",
       "      <td>2.2</td>\n",
       "      <td>0.2</td>\n",
       "      <td>2.4</td>\n",
       "      <td>3.0</td>\n",
       "      <td>0.8</td>\n",
       "      <td>3.1</td>\n",
       "      <td>520.0</td>\n",
       "    </tr>\n",
       "    <tr>\n",
       "      <th>3</th>\n",
       "      <td>1.0</td>\n",
       "      <td>12.4</td>\n",
       "      <td>4.4</td>\n",
       "      <td>2.7</td>\n",
       "      <td>26.5</td>\n",
       "      <td>102.0</td>\n",
       "      <td>2.2</td>\n",
       "      <td>2.1</td>\n",
       "      <td>0.4</td>\n",
       "      <td>1.7</td>\n",
       "      <td>2.1</td>\n",
       "      <td>0.9</td>\n",
       "      <td>3.1</td>\n",
       "      <td>365.0</td>\n",
       "    </tr>\n",
       "  </tbody>\n",
       "</table>\n",
       "</div>"
      ],
      "text/plain": [
       "   Class  Alcohol  Malic acid  Ash  Alcalinity of ash  Magnesium  \\\n",
       "0    0.0     13.4         1.8  2.6               16.1       93.0   \n",
       "1    0.0     14.4         3.6  2.3               16.0      102.0   \n",
       "2    1.0     11.8         0.9  2.6               18.0       94.0   \n",
       "3    1.0     12.4         4.4  2.7               26.5      102.0   \n",
       "\n",
       "   Total phenols  Flavanoids  Nonflavanoid phenols  Proanthocyanins  \\\n",
       "0            2.9         2.9                   0.3              1.4   \n",
       "1            3.3         3.2                   0.3              2.2   \n",
       "2            2.2         2.2                   0.2              2.4   \n",
       "3            2.2         2.1                   0.4              1.7   \n",
       "\n",
       "   Color intensity  Hue  OD280/OD315 of diluted wines  Proline  \n",
       "0              4.8  0.9                           3.2   1195.0  \n",
       "1              4.9  1.0                           3.4   1065.0  \n",
       "2              3.0  0.8                           3.1    520.0  \n",
       "3              2.1  0.9                           3.1    365.0  "
      ]
     },
     "execution_count": 10,
     "metadata": {},
     "output_type": "execute_result"
    }
   ],
   "source": [
    "wineRaw = reduce(lambda data, i: data.withColumnRenamed(df.schema.names[i], columns[i]), xrange(len(columns)), df)\n",
    "wineRaw.sample(False, 0.05).toPandas().applymap(lambda x: round(x, 1))"
   ]
  },
  {
   "cell_type": "markdown",
   "metadata": {},
   "source": [
    "Here are the descriptive statistics -- of course, no standardization has been performed yet:"
   ]
  },
  {
   "cell_type": "code",
   "execution_count": 11,
   "metadata": {
    "collapsed": false
   },
   "outputs": [
    {
     "data": {
      "text/html": [
       "<div>\n",
       "<table border=\"1\" class=\"dataframe\">\n",
       "  <thead>\n",
       "    <tr style=\"text-align: right;\">\n",
       "      <th></th>\n",
       "      <th>Alcohol</th>\n",
       "      <th>Malic acid</th>\n",
       "      <th>Ash</th>\n",
       "      <th>Alcalinity of ash</th>\n",
       "      <th>Magnesium</th>\n",
       "      <th>Total phenols</th>\n",
       "      <th>Flavanoids</th>\n",
       "      <th>Nonflavanoid phenols</th>\n",
       "      <th>Proanthocyanins</th>\n",
       "      <th>Color intensity</th>\n",
       "      <th>Hue</th>\n",
       "      <th>OD280/OD315 of diluted wines</th>\n",
       "      <th>Proline</th>\n",
       "    </tr>\n",
       "  </thead>\n",
       "  <tbody>\n",
       "    <tr>\n",
       "      <th>count</th>\n",
       "      <td>130.0</td>\n",
       "      <td>130.0</td>\n",
       "      <td>130.0</td>\n",
       "      <td>130.0</td>\n",
       "      <td>130.0</td>\n",
       "      <td>130.0</td>\n",
       "      <td>130.0</td>\n",
       "      <td>130.0</td>\n",
       "      <td>130.0</td>\n",
       "      <td>130.0</td>\n",
       "      <td>130.0</td>\n",
       "      <td>130.0</td>\n",
       "      <td>130.0</td>\n",
       "    </tr>\n",
       "    <tr>\n",
       "      <th>mean</th>\n",
       "      <td>12.9</td>\n",
       "      <td>2.0</td>\n",
       "      <td>2.3</td>\n",
       "      <td>18.8</td>\n",
       "      <td>99.9</td>\n",
       "      <td>2.5</td>\n",
       "      <td>2.5</td>\n",
       "      <td>0.3</td>\n",
       "      <td>1.8</td>\n",
       "      <td>4.2</td>\n",
       "      <td>1.1</td>\n",
       "      <td>3.0</td>\n",
       "      <td>790.1</td>\n",
       "    </tr>\n",
       "    <tr>\n",
       "      <th>std</th>\n",
       "      <td>0.9</td>\n",
       "      <td>0.9</td>\n",
       "      <td>0.3</td>\n",
       "      <td>3.4</td>\n",
       "      <td>15.4</td>\n",
       "      <td>0.5</td>\n",
       "      <td>0.7</td>\n",
       "      <td>0.1</td>\n",
       "      <td>0.5</td>\n",
       "      <td>1.6</td>\n",
       "      <td>0.2</td>\n",
       "      <td>0.5</td>\n",
       "      <td>352.5</td>\n",
       "    </tr>\n",
       "    <tr>\n",
       "      <th>min</th>\n",
       "      <td>11.0</td>\n",
       "      <td>0.7</td>\n",
       "      <td>1.4</td>\n",
       "      <td>10.6</td>\n",
       "      <td>70.0</td>\n",
       "      <td>1.1</td>\n",
       "      <td>0.6</td>\n",
       "      <td>0.1</td>\n",
       "      <td>0.4</td>\n",
       "      <td>1.3</td>\n",
       "      <td>0.7</td>\n",
       "      <td>1.6</td>\n",
       "      <td>278.0</td>\n",
       "    </tr>\n",
       "    <tr>\n",
       "      <th>25%</th>\n",
       "      <td>12.2</td>\n",
       "      <td>1.5</td>\n",
       "      <td>2.2</td>\n",
       "      <td>16.5</td>\n",
       "      <td>88.0</td>\n",
       "      <td>2.1</td>\n",
       "      <td>2.0</td>\n",
       "      <td>0.3</td>\n",
       "      <td>1.4</td>\n",
       "      <td>2.9</td>\n",
       "      <td>0.9</td>\n",
       "      <td>2.7</td>\n",
       "      <td>474.0</td>\n",
       "    </tr>\n",
       "    <tr>\n",
       "      <th>50%</th>\n",
       "      <td>13.0</td>\n",
       "      <td>1.7</td>\n",
       "      <td>2.3</td>\n",
       "      <td>18.6</td>\n",
       "      <td>98.0</td>\n",
       "      <td>2.6</td>\n",
       "      <td>2.6</td>\n",
       "      <td>0.3</td>\n",
       "      <td>1.7</td>\n",
       "      <td>3.9</td>\n",
       "      <td>1.1</td>\n",
       "      <td>3.0</td>\n",
       "      <td>716.0</td>\n",
       "    </tr>\n",
       "    <tr>\n",
       "      <th>75%</th>\n",
       "      <td>13.7</td>\n",
       "      <td>2.1</td>\n",
       "      <td>2.5</td>\n",
       "      <td>20.9</td>\n",
       "      <td>108.0</td>\n",
       "      <td>2.9</td>\n",
       "      <td>3.0</td>\n",
       "      <td>0.4</td>\n",
       "      <td>2.0</td>\n",
       "      <td>5.4</td>\n",
       "      <td>1.2</td>\n",
       "      <td>3.3</td>\n",
       "      <td>1063.8</td>\n",
       "    </tr>\n",
       "    <tr>\n",
       "      <th>max</th>\n",
       "      <td>14.8</td>\n",
       "      <td>5.8</td>\n",
       "      <td>3.2</td>\n",
       "      <td>30.0</td>\n",
       "      <td>162.0</td>\n",
       "      <td>3.9</td>\n",
       "      <td>5.1</td>\n",
       "      <td>0.7</td>\n",
       "      <td>3.6</td>\n",
       "      <td>8.9</td>\n",
       "      <td>1.7</td>\n",
       "      <td>4.0</td>\n",
       "      <td>1680.0</td>\n",
       "    </tr>\n",
       "  </tbody>\n",
       "</table>\n",
       "</div>"
      ],
      "text/plain": [
       "       Alcohol  Malic acid    Ash  Alcalinity of ash  Magnesium  \\\n",
       "count    130.0       130.0  130.0              130.0      130.0   \n",
       "mean      12.9         2.0    2.3               18.8       99.9   \n",
       "std        0.9         0.9    0.3                3.4       15.4   \n",
       "min       11.0         0.7    1.4               10.6       70.0   \n",
       "25%       12.2         1.5    2.2               16.5       88.0   \n",
       "50%       13.0         1.7    2.3               18.6       98.0   \n",
       "75%       13.7         2.1    2.5               20.9      108.0   \n",
       "max       14.8         5.8    3.2               30.0      162.0   \n",
       "\n",
       "       Total phenols  Flavanoids  Nonflavanoid phenols  Proanthocyanins  \\\n",
       "count          130.0       130.0                 130.0            130.0   \n",
       "mean             2.5         2.5                   0.3              1.8   \n",
       "std              0.5         0.7                   0.1              0.5   \n",
       "min              1.1         0.6                   0.1              0.4   \n",
       "25%              2.1         2.0                   0.3              1.4   \n",
       "50%              2.6         2.6                   0.3              1.7   \n",
       "75%              2.9         3.0                   0.4              2.0   \n",
       "max              3.9         5.1                   0.7              3.6   \n",
       "\n",
       "       Color intensity    Hue  OD280/OD315 of diluted wines  Proline  \n",
       "count            130.0  130.0                         130.0    130.0  \n",
       "mean               4.2    1.1                           3.0    790.1  \n",
       "std                1.6    0.2                           0.5    352.5  \n",
       "min                1.3    0.7                           1.6    278.0  \n",
       "25%                2.9    0.9                           2.7    474.0  \n",
       "50%                3.9    1.1                           3.0    716.0  \n",
       "75%                5.4    1.2                           3.3   1063.8  \n",
       "max                8.9    1.7                           4.0   1680.0  "
      ]
     },
     "execution_count": 11,
     "metadata": {},
     "output_type": "execute_result"
    }
   ],
   "source": [
    "wineRaw.select(wineRaw.schema.names[1:]).toPandas().describe().applymap(lambda x: round(x, 1))"
   ]
  },
  {
   "cell_type": "markdown",
   "metadata": {},
   "source": [
    "Reformat the data into a new dataframe with features as a vector:"
   ]
  },
  {
   "cell_type": "code",
   "execution_count": 12,
   "metadata": {
    "collapsed": true
   },
   "outputs": [],
   "source": [
    "from pyspark.sql import Row\n",
    "from pyspark.ml.linalg import Vectors"
   ]
  },
  {
   "cell_type": "code",
   "execution_count": 13,
   "metadata": {
    "collapsed": false
   },
   "outputs": [
    {
     "name": "stdout",
     "output_type": "stream",
     "text": [
      "+--------------------+-----+\n",
      "|            features|label|\n",
      "+--------------------+-----+\n",
      "|[14.06,2.15,2.61,...|    0|\n",
      "|[13.86,1.35,2.27,...|    0|\n",
      "|[13.24,3.98,2.29,...|    0|\n",
      "|[13.56,1.73,2.46,...|    0|\n",
      "|[12.37,0.94,1.36,...|    1|\n",
      "+--------------------+-----+\n",
      "only showing top 5 rows\n",
      "\n"
     ]
    }
   ],
   "source": [
    "wineRaw = wineRaw.rdd.map(lambda row: Row(label=row.Class, features=Vectors.dense(row[1:]))).toDF()\n",
    "wineRaw.sample(False, 0.1).show(5)"
   ]
  },
  {
   "cell_type": "markdown",
   "metadata": {},
   "source": [
    "Now that we have the correct format, let's standardize the data by making the mean and variance 0 and 1, respectively, for each column:"
   ]
  },
  {
   "cell_type": "code",
   "execution_count": 14,
   "metadata": {
    "collapsed": false
   },
   "outputs": [],
   "source": [
    "from pyspark.ml.feature import StandardScaler\n",
    "scaler = StandardScaler(inputCol=\"features\", outputCol=\"scaledFeatures\", withStd=True, withMean=True)\n",
    "scalerModel = scaler.fit(wineRaw)\n",
    "wine = scalerModel.transform(wineRaw).cache()"
   ]
  },
  {
   "cell_type": "code",
   "execution_count": 15,
   "metadata": {
    "collapsed": false
   },
   "outputs": [
    {
     "name": "stdout",
     "output_type": "stream",
     "text": [
      "root\n",
      " |-- features: vector (nullable = true)\n",
      " |-- label: long (nullable = true)\n",
      " |-- scaledFeatures: vector (nullable = true)\n",
      "\n"
     ]
    }
   ],
   "source": [
    "wine.printSchema()"
   ]
  },
  {
   "cell_type": "code",
   "execution_count": 16,
   "metadata": {
    "collapsed": false
   },
   "outputs": [
    {
     "name": "stdout",
     "output_type": "stream",
     "text": [
      "+--------------------+-----+--------------------+\n",
      "|            features|label|      scaledFeatures|\n",
      "+--------------------+-----+--------------------+\n",
      "|[14.23,1.71,2.43,...|    0|[1.44685785426384...|\n",
      "|[13.2,1.78,2.14,1...|    0|[0.28795214937703...|\n",
      "|[13.16,2.36,2.67,...|    0|[0.24294610258531...|\n",
      "|[14.37,1.95,2.5,1...|    0|[1.60437901803486...|\n",
      "|[13.24,2.59,2.87,...|    0|[0.33295819616875...|\n",
      "+--------------------+-----+--------------------+\n",
      "only showing top 5 rows\n",
      "\n"
     ]
    }
   ],
   "source": [
    "wine.show(5)"
   ]
  },
  {
   "cell_type": "markdown",
   "metadata": {},
   "source": [
    "Let's check that the standardized features have a mean of 0 and a variance of 1:"
   ]
  },
  {
   "cell_type": "code",
   "execution_count": 17,
   "metadata": {
    "collapsed": false
   },
   "outputs": [
    {
     "data": {
      "text/html": [
       "<div>\n",
       "<table border=\"1\" class=\"dataframe\">\n",
       "  <thead>\n",
       "    <tr style=\"text-align: right;\">\n",
       "      <th></th>\n",
       "      <th>_1</th>\n",
       "      <th>_2</th>\n",
       "      <th>_3</th>\n",
       "      <th>_4</th>\n",
       "      <th>_5</th>\n",
       "      <th>_6</th>\n",
       "      <th>_7</th>\n",
       "      <th>_8</th>\n",
       "      <th>_9</th>\n",
       "      <th>_10</th>\n",
       "      <th>_11</th>\n",
       "      <th>_12</th>\n",
       "      <th>_13</th>\n",
       "    </tr>\n",
       "  </thead>\n",
       "  <tbody>\n",
       "    <tr>\n",
       "      <th>count</th>\n",
       "      <td>130.0</td>\n",
       "      <td>130.0</td>\n",
       "      <td>130.0</td>\n",
       "      <td>130.0</td>\n",
       "      <td>130.0</td>\n",
       "      <td>130.0</td>\n",
       "      <td>130.0</td>\n",
       "      <td>130.0</td>\n",
       "      <td>130.0</td>\n",
       "      <td>130.0</td>\n",
       "      <td>130.0</td>\n",
       "      <td>130.0</td>\n",
       "      <td>130.0</td>\n",
       "    </tr>\n",
       "    <tr>\n",
       "      <th>mean</th>\n",
       "      <td>0.0</td>\n",
       "      <td>0.0</td>\n",
       "      <td>0.0</td>\n",
       "      <td>-0.0</td>\n",
       "      <td>0.0</td>\n",
       "      <td>-0.0</td>\n",
       "      <td>-0.0</td>\n",
       "      <td>0.0</td>\n",
       "      <td>0.0</td>\n",
       "      <td>-0.0</td>\n",
       "      <td>0.0</td>\n",
       "      <td>0.0</td>\n",
       "      <td>0.0</td>\n",
       "    </tr>\n",
       "    <tr>\n",
       "      <th>std</th>\n",
       "      <td>1.0</td>\n",
       "      <td>1.0</td>\n",
       "      <td>1.0</td>\n",
       "      <td>1.0</td>\n",
       "      <td>1.0</td>\n",
       "      <td>1.0</td>\n",
       "      <td>1.0</td>\n",
       "      <td>1.0</td>\n",
       "      <td>1.0</td>\n",
       "      <td>1.0</td>\n",
       "      <td>1.0</td>\n",
       "      <td>1.0</td>\n",
       "      <td>1.0</td>\n",
       "    </tr>\n",
       "    <tr>\n",
       "      <th>min</th>\n",
       "      <td>-2.2</td>\n",
       "      <td>-1.4</td>\n",
       "      <td>-3.3</td>\n",
       "      <td>-2.4</td>\n",
       "      <td>-1.9</td>\n",
       "      <td>-2.6</td>\n",
       "      <td>-2.6</td>\n",
       "      <td>-1.8</td>\n",
       "      <td>-2.5</td>\n",
       "      <td>-1.8</td>\n",
       "      <td>-2.2</td>\n",
       "      <td>-2.9</td>\n",
       "      <td>-1.5</td>\n",
       "    </tr>\n",
       "    <tr>\n",
       "      <th>25%</th>\n",
       "      <td>-0.8</td>\n",
       "      <td>-0.5</td>\n",
       "      <td>-0.6</td>\n",
       "      <td>-0.7</td>\n",
       "      <td>-0.8</td>\n",
       "      <td>-0.7</td>\n",
       "      <td>-0.7</td>\n",
       "      <td>-0.6</td>\n",
       "      <td>-0.6</td>\n",
       "      <td>-0.8</td>\n",
       "      <td>-0.7</td>\n",
       "      <td>-0.5</td>\n",
       "      <td>-0.9</td>\n",
       "    </tr>\n",
       "    <tr>\n",
       "      <th>50%</th>\n",
       "      <td>0.1</td>\n",
       "      <td>-0.3</td>\n",
       "      <td>-0.1</td>\n",
       "      <td>-0.1</td>\n",
       "      <td>-0.1</td>\n",
       "      <td>0.1</td>\n",
       "      <td>0.1</td>\n",
       "      <td>-0.3</td>\n",
       "      <td>-0.1</td>\n",
       "      <td>-0.2</td>\n",
       "      <td>-0.1</td>\n",
       "      <td>0.1</td>\n",
       "      <td>-0.2</td>\n",
       "    </tr>\n",
       "    <tr>\n",
       "      <th>75%</th>\n",
       "      <td>0.9</td>\n",
       "      <td>0.1</td>\n",
       "      <td>0.6</td>\n",
       "      <td>0.6</td>\n",
       "      <td>0.5</td>\n",
       "      <td>0.8</td>\n",
       "      <td>0.7</td>\n",
       "      <td>0.6</td>\n",
       "      <td>0.5</td>\n",
       "      <td>0.7</td>\n",
       "      <td>0.6</td>\n",
       "      <td>0.7</td>\n",
       "      <td>0.8</td>\n",
       "    </tr>\n",
       "    <tr>\n",
       "      <th>max</th>\n",
       "      <td>2.1</td>\n",
       "      <td>4.4</td>\n",
       "      <td>3.0</td>\n",
       "      <td>3.3</td>\n",
       "      <td>4.0</td>\n",
       "      <td>2.5</td>\n",
       "      <td>3.5</td>\n",
       "      <td>3.0</td>\n",
       "      <td>3.4</td>\n",
       "      <td>2.9</td>\n",
       "      <td>3.9</td>\n",
       "      <td>2.2</td>\n",
       "      <td>2.5</td>\n",
       "    </tr>\n",
       "  </tbody>\n",
       "</table>\n",
       "</div>"
      ],
      "text/plain": [
       "          _1     _2     _3     _4     _5     _6     _7     _8     _9    _10  \\\n",
       "count  130.0  130.0  130.0  130.0  130.0  130.0  130.0  130.0  130.0  130.0   \n",
       "mean     0.0    0.0    0.0   -0.0    0.0   -0.0   -0.0    0.0    0.0   -0.0   \n",
       "std      1.0    1.0    1.0    1.0    1.0    1.0    1.0    1.0    1.0    1.0   \n",
       "min     -2.2   -1.4   -3.3   -2.4   -1.9   -2.6   -2.6   -1.8   -2.5   -1.8   \n",
       "25%     -0.8   -0.5   -0.6   -0.7   -0.8   -0.7   -0.7   -0.6   -0.6   -0.8   \n",
       "50%      0.1   -0.3   -0.1   -0.1   -0.1    0.1    0.1   -0.3   -0.1   -0.2   \n",
       "75%      0.9    0.1    0.6    0.6    0.5    0.8    0.7    0.6    0.5    0.7   \n",
       "max      2.1    4.4    3.0    3.3    4.0    2.5    3.5    3.0    3.4    2.9   \n",
       "\n",
       "         _11    _12    _13  \n",
       "count  130.0  130.0  130.0  \n",
       "mean     0.0    0.0    0.0  \n",
       "std      1.0    1.0    1.0  \n",
       "min     -2.2   -2.9   -1.5  \n",
       "25%     -0.7   -0.5   -0.9  \n",
       "50%     -0.1    0.1   -0.2  \n",
       "75%      0.6    0.7    0.8  \n",
       "max      3.9    2.2    2.5  "
      ]
     },
     "execution_count": 17,
     "metadata": {},
     "output_type": "execute_result"
    }
   ],
   "source": [
    "wine.rdd.map(lambda row: row.scaledFeatures.values.tolist()).toDF().toPandas().describe().applymap(lambda x: round(x, 1))"
   ]
  },
  {
   "cell_type": "markdown",
   "metadata": {},
   "source": [
    "Now that the wine dataFrame is properly formatted, we create a ML model:"
   ]
  },
  {
   "cell_type": "code",
   "execution_count": 18,
   "metadata": {
    "collapsed": true
   },
   "outputs": [],
   "source": [
    "train, test = wine.randomSplit([0.7, 0.3])"
   ]
  },
  {
   "cell_type": "code",
   "execution_count": 19,
   "metadata": {
    "collapsed": false
   },
   "outputs": [],
   "source": [
    "from pyspark.ml import Pipeline\n",
    "from pyspark.ml.evaluation import BinaryClassificationEvaluator\n",
    "from pyspark.ml.tuning import CrossValidator, ParamGridBuilder\n",
    "from pyspark.ml.classification import LogisticRegression\n",
    "\n",
    "lr = LogisticRegression(featuresCol='scaledFeatures', labelCol='label', maxIter=10, regParam=0.3, elasticNetParam=0.8)\n",
    "pipeline = Pipeline(stages=[lr])\n",
    "\n",
    "paramGrid = ParamGridBuilder().addGrid(lr.regParam, [1.0, 0.1, 0.01]).addGrid(lr.elasticNetParam, [1.0, 0.1, 0.01]).build()\n",
    "crossval = CrossValidator(estimator=pipeline, estimatorParamMaps=paramGrid, evaluator=BinaryClassificationEvaluator(), numFolds=5)\n",
    "cvModel = crossval.fit(train)"
   ]
  },
  {
   "cell_type": "markdown",
   "metadata": {},
   "source": [
    "The optimal regularization parameter was found to be"
   ]
  },
  {
   "cell_type": "code",
   "execution_count": 20,
   "metadata": {
    "collapsed": false
   },
   "outputs": [
    {
     "data": {
      "text/plain": [
       "[0.5,\n",
       " 0.99,\n",
       " 0.99,\n",
       " 0.988,\n",
       " 0.9949999999999999,\n",
       " 1.0,\n",
       " 0.988,\n",
       " 0.9949999999999999,\n",
       " 1.0]"
      ]
     },
     "execution_count": 20,
     "metadata": {},
     "output_type": "execute_result"
    }
   ],
   "source": [
    "cvModel.avgMetrics"
   ]
  },
  {
   "cell_type": "code",
   "execution_count": 21,
   "metadata": {
    "collapsed": false
   },
   "outputs": [
    {
     "data": {
      "text/plain": [
       "DenseVector([-1.5564, -0.2522, -0.9723, 1.0837, -0.2928, -0.027, -0.1493, 0.056, -0.1916, -0.7112, 0.1011, -0.577, -1.4946])"
      ]
     },
     "execution_count": 21,
     "metadata": {},
     "output_type": "execute_result"
    }
   ],
   "source": [
    "cvModel.bestModel.stages[0].coefficients"
   ]
  },
  {
   "cell_type": "code",
   "execution_count": 22,
   "metadata": {
    "collapsed": false
   },
   "outputs": [
    {
     "data": {
      "text/plain": [
       "0.4165712185722266"
      ]
     },
     "execution_count": 22,
     "metadata": {},
     "output_type": "execute_result"
    }
   ],
   "source": [
    "cvModel.bestModel.stages[0].intercept"
   ]
  },
  {
   "cell_type": "code",
   "execution_count": 23,
   "metadata": {
    "collapsed": false
   },
   "outputs": [
    {
     "name": "stdout",
     "output_type": "stream",
     "text": [
      "+--------------------+-----+--------------------+--------------------+--------------------+----------+\n",
      "|            features|label|      scaledFeatures|       rawPrediction|         probability|prediction|\n",
      "+--------------------+-----+--------------------+--------------------+--------------------+----------+\n",
      "|[11.45,2.4,2.42,2...|    1|[-1.6810623977607...|[-3.4270997348184...|[0.03145918189962...|       1.0|\n",
      "|[11.46,3.74,1.82,...|    1|[-1.6698108860628...|[-5.0807463353969...|[0.00617687765574...|       1.0|\n",
      "|[11.79,2.13,2.78,...|    1|[-1.2985110000311...|[-6.8629194551069...|[0.00104476346891...|       1.0|\n",
      "|[11.84,0.89,2.58,...|    1|[-1.2422534415414...|[-2.8733739339197...|[0.05348558945819...|       1.0|\n",
      "|[12.0,0.92,2.0,19...|    1|[-1.0622292543745...|[-6.8714701596614...|[0.00103587730475...|       1.0|\n",
      "|[12.0,1.51,2.42,2...|    1|[-1.0622292543745...|[-5.7308641027707...|[0.00323378136867...|       1.0|\n",
      "|[12.0,3.43,2.0,19...|    1|[-1.0622292543745...|[-5.2954254864624...|[0.00498946077511...|       1.0|\n",
      "|[12.07,2.16,2.17,...|    1|[-0.9834686724890...|[-5.4265893465406...|[0.00437881222079...|       1.0|\n",
      "|[12.08,1.13,2.51,...|    1|[-0.9722171607911...|[-6.0512223693992...|[0.00234944868056...|       1.0|\n",
      "|[12.17,1.45,2.53,...|    1|[-0.8709535555097...|[-5.2930541414774...|[0.00500124730392...|       1.0|\n",
      "|[12.29,1.41,1.98,...|    1|[-0.7359354151346...|[-4.7314509729702...|[0.00873667118953...|       1.0|\n",
      "|[12.29,2.83,2.22,...|    1|[-0.7359354151346...|[-4.2615226987028...|[0.01390474650754...|       1.0|\n",
      "|[12.33,0.99,1.95,...|    1|[-0.6909293683428...|[-2.2061004270485...|[0.09920400480512...|       1.0|\n",
      "|[12.37,1.13,2.16,...|    1|[-0.6459233215511...|[-3.9374150994400...|[0.01912562940676...|       1.0|\n",
      "|[12.37,1.17,1.92,...|    1|[-0.6459233215511...|[-4.4178990550946...|[0.01191584251695...|       1.0|\n",
      "|[12.42,2.55,2.27,...|    1|[-0.5896657630615...|[-5.2007343093156...|[0.00548229381591...|       1.0|\n",
      "|[12.43,1.53,2.29,...|    1|[-0.5784142513635...|[-4.5040448289075...|[0.01094307741456...|       1.0|\n",
      "|[12.47,1.52,2.2,1...|    1|[-0.5334082045718...|[-0.7483176995780...|[0.32118797610588...|       1.0|\n",
      "|[12.51,1.73,1.98,...|    1|[-0.4884021577801...|[-3.7677306258458...|[0.02258267643596...|       1.0|\n",
      "|[12.72,1.75,2.28,...|    1|[-0.2521204121236...|[-5.0943156821100...|[0.00609413490058...|       1.0|\n",
      "+--------------------+-----+--------------------+--------------------+--------------------+----------+\n",
      "only showing top 20 rows\n",
      "\n"
     ]
    }
   ],
   "source": [
    "prediction = cvModel.transform(test)\n",
    "prediction.show()"
   ]
  },
  {
   "cell_type": "code",
   "execution_count": 24,
   "metadata": {
    "collapsed": false
   },
   "outputs": [
    {
     "data": {
      "text/plain": [
       "0.9999999999999999"
      ]
     },
     "execution_count": 24,
     "metadata": {},
     "output_type": "execute_result"
    }
   ],
   "source": [
    "evaluator = BinaryClassificationEvaluator(rawPredictionCol=\"rawPrediction\")\n",
    "evaluator.evaluate(prediction)\n",
    "evaluator.evaluate(prediction, {evaluator.metricName: \"areaUnderPR\"})"
   ]
  }
 ],
 "metadata": {
  "anaconda-cloud": {},
  "kernelspec": {
   "display_name": "Python [conda root]",
   "language": "python",
   "name": "conda-root-py"
  },
  "language_info": {
   "codemirror_mode": {
    "name": "ipython",
    "version": 2
   },
   "file_extension": ".py",
   "mimetype": "text/x-python",
   "name": "python",
   "nbconvert_exporter": "python",
   "pygments_lexer": "ipython2",
   "version": "2.7.12"
  }
 },
 "nbformat": 4,
 "nbformat_minor": 1
}
