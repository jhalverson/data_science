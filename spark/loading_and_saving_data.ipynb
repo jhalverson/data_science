{
 "cells": [
  {
   "cell_type": "markdown",
   "metadata": {
    "collapsed": true
   },
   "source": [
    "# Jonathan Halverson\n",
    "# Wednesday, May 4, 2016\n",
    "# Loading and saving data"
   ]
  },
  {
   "cell_type": "markdown",
   "metadata": {},
   "source": [
    "### Text files"
   ]
  },
  {
   "cell_type": "code",
   "execution_count": 1,
   "metadata": {
    "collapsed": false
   },
   "outputs": [
    {
     "name": "stdout",
     "output_type": "stream",
     "text": [
      "95\n",
      "# Apache Spark\n"
     ]
    }
   ],
   "source": [
    "# create an RDD of a string per line in the text file\n",
    "lines = sc.textFile('text_file.md')\n",
    "print lines.count()\n",
    "print lines.first()"
   ]
  },
  {
   "cell_type": "code",
   "execution_count": 2,
   "metadata": {
    "collapsed": false
   },
   "outputs": [
    {
     "data": {
      "text/plain": [
       "[u'152049788,PKNIFE,InvPer,InvPer,B2,0,06/16/2015 01:06:00 AM,Knife,No,No,Last,2015,6,Tuesday,Part three,768774.7954,2945069.352,DUDLEY ST,,\"(42.32866635, -71.08355955)\"',\n",
       " u'152049566,VAND,VANDALISM,14xx,B2,0,06/14/2015 11:50:00 AM,Knife,No,No,Day,2015,6,Sunday,Part Two,768378.1791,2947110.029,SOJOURNER TRUTH CT,,\"(42.33427135, -71.08498955)\"']"
      ]
     },
     "execution_count": 2,
     "metadata": {},
     "output_type": "execute_result"
    }
   ],
   "source": [
    "# example of treating a CSV file like a textfile\n",
    "crimes = sc.textFile('Crime_Incident_Reports.csv')\n",
    "knife = crimes.filter(lambda x: 'knife' in x.lower())\n",
    "knife.top(2)"
   ]
  },
  {
   "cell_type": "code",
   "execution_count": 3,
   "metadata": {
    "collapsed": false
   },
   "outputs": [],
   "source": [
    "knife.saveAsTextFile('./saveAs')"
   ]
  },
  {
   "cell_type": "code",
   "execution_count": 4,
   "metadata": {
    "collapsed": false
   },
   "outputs": [
    {
     "name": "stdout",
     "output_type": "stream",
     "text": [
      "2\n",
      "[(u'file:/Users/jhalverson/data_science/spark/text_files/multi_text.1', u'Charlie 12 10.4\\nBeverly 9  16.1\\nAnne    11 34.0\\n'), (u'file:/Users/jhalverson/data_science/spark/text_files/multi_text.2', u'Chad    40  9.8\\nDerek   19  3.3\\nChloe   31  7.9\\n')]\n"
     ]
    }
   ],
   "source": [
    "# the key is the file name and value the contents of the file\n",
    "input = sc.wholeTextFiles('text_files')\n",
    "print input.count()\n",
    "print input.collect()"
   ]
  },
  {
   "cell_type": "code",
   "execution_count": 5,
   "metadata": {
    "collapsed": false
   },
   "outputs": [
    {
     "data": {
      "text/plain": [
       "[[u'Charlie',\n",
       "  u'12',\n",
       "  u'10.4',\n",
       "  u'Beverly',\n",
       "  u'9',\n",
       "  u'16.1',\n",
       "  u'Anne',\n",
       "  u'11',\n",
       "  u'34.0'],\n",
       " [u'Chad', u'40', u'9.8', u'Derek', u'19', u'3.3', u'Chloe', u'31', u'7.9']]"
      ]
     },
     "execution_count": 5,
     "metadata": {},
     "output_type": "execute_result"
    }
   ],
   "source": [
    "input.mapValues(lambda line: line.split()).values().collect()"
   ]
  },
  {
   "cell_type": "markdown",
   "metadata": {},
   "source": [
    "Use saveAsTextFile for writing both CSV and JSON. Use the json.dumps method on each line, for instance."
   ]
  },
  {
   "cell_type": "markdown",
   "metadata": {},
   "source": [
    "### JSON"
   ]
  },
  {
   "cell_type": "code",
   "execution_count": 6,
   "metadata": {
    "collapsed": false
   },
   "outputs": [
    {
     "name": "stdout",
     "output_type": "stream",
     "text": [
      "2\n",
      "['{\"firstName\": \"John\",\"lastName\": \"Smith\",\"address\": {\"city\": \"New York\",\"state\": \"NY\",\"postalCode\": \"10021\"},\"phoneNumbers\": [{\"type\": \"home\",\"number\": \"212 555-1234\"}]}', '{\"firstName\": \"Jimmy\",\"lastName\": \"Cutts\",\"address\": {\"city\": \"Buffalo\",\"state\": \"NY\",\"postalCode\": \"10541\"},\"phoneNumbers\": [{\"type\": \"home\",\"number\": \"567 555-4991\"}]}']\n"
     ]
    }
   ],
   "source": [
    "# to read JSON, it is best to read as the text file and then parse\n",
    "lines = sc.textFile('person.json', use_unicode=False)\n",
    "print lines.count()\n",
    "print lines.collect()"
   ]
  },
  {
   "cell_type": "code",
   "execution_count": 7,
   "metadata": {
    "collapsed": false
   },
   "outputs": [
    {
     "name": "stdout",
     "output_type": "stream",
     "text": [
      "2\n",
      "{u'lastName': u'Smith', u'phoneNumbers': [{u'type': u'home', u'number': u'212 555-1234'}], u'firstName': u'John', u'address': {u'postalCode': u'10021', u'city': u'New York', u'state': u'NY'}}\n"
     ]
    }
   ],
   "source": [
    "import json\n",
    "data = lines.map(json.loads)\n",
    "print data.count()\n",
    "print data.first()"
   ]
  },
  {
   "cell_type": "code",
   "execution_count": 8,
   "metadata": {
    "collapsed": false
   },
   "outputs": [
    {
     "data": {
      "text/plain": [
       "[{u'address': {u'city': u'Buffalo', u'postalCode': u'10541', u'state': u'NY'},\n",
       "  u'firstName': u'Jimmy',\n",
       "  u'lastName': u'Cutts',\n",
       "  u'phoneNumbers': [{u'number': u'567 555-4991', u'type': u'home'}]}]"
      ]
     },
     "execution_count": 8,
     "metadata": {},
     "output_type": "execute_result"
    }
   ],
   "source": [
    "data.filter(lambda x: x['lastName'] == 'Cutts').collect()"
   ]
  },
  {
   "cell_type": "code",
   "execution_count": 9,
   "metadata": {
    "collapsed": false
   },
   "outputs": [
    {
     "data": {
      "text/plain": [
       "[{'COMPNOS': '120420285',\n",
       "  'DAY_WEEK': 'Sunday',\n",
       "  'DOMESTIC': 'No',\n",
       "  'FROMDATE': '07/08/2012 06:00:00 AM',\n",
       "  'INCIDENT_TYPE_DESCRIPTION': 'RESIDENTIAL BURGLARY',\n",
       "  'Location': '(42.34638135, -71.10379454)',\n",
       "  'MAIN_CRIMECODE': '05RB',\n",
       "  'Month': '7',\n",
       "  'NatureCode': 'BERPTA',\n",
       "  'REPORTINGAREA': '629',\n",
       "  'REPTDISTRICT': 'D4',\n",
       "  'SHIFT': 'Last',\n",
       "  'STREETNAME': 'ABERDEEN ST',\n",
       "  'Shooting': 'No',\n",
       "  'UCRPART': 'Part One',\n",
       "  'WEAPONTYPE': 'Other',\n",
       "  'X': '763273.1791',\n",
       "  'XSTREETNAME': '',\n",
       "  'Y': '2951498.962',\n",
       "  'Year': '2012'},\n",
       " {'COMPNOS': '120419202',\n",
       "  'DAY_WEEK': 'Sunday',\n",
       "  'DOMESTIC': 'No',\n",
       "  'FROMDATE': '07/08/2012 06:03:00 AM',\n",
       "  'INCIDENT_TYPE_DESCRIPTION': 'AGGRAVATED ASSAULT',\n",
       "  'Location': '(42.31684135, -71.07458456)',\n",
       "  'MAIN_CRIMECODE': '04xx',\n",
       "  'Month': '7',\n",
       "  'NatureCode': 'PSHOT ',\n",
       "  'REPORTINGAREA': '327',\n",
       "  'REPTDISTRICT': 'B2',\n",
       "  'SHIFT': 'Last',\n",
       "  'STREETNAME': 'HOWARD AV',\n",
       "  'Shooting': 'Yes',\n",
       "  'UCRPART': 'Part One',\n",
       "  'WEAPONTYPE': 'Firearm',\n",
       "  'X': '771223.1638',\n",
       "  'XSTREETNAME': '',\n",
       "  'Y': '2940772.099',\n",
       "  'Year': '2012'}]"
      ]
     },
     "execution_count": 9,
     "metadata": {},
     "output_type": "execute_result"
    }
   ],
   "source": [
    "import csv\n",
    "import StringIO\n",
    "\n",
    "# approach works best when the header is removed from the csv file\n",
    "header = ['COMPNOS', 'NatureCode', 'INCIDENT_TYPE_DESCRIPTION', 'MAIN_CRIMECODE', 'REPTDISTRICT',\n",
    "          'REPORTINGAREA', 'FROMDATE', 'WEAPONTYPE', 'Shooting', 'DOMESTIC', 'SHIFT', 'Year',\n",
    "          'Month', 'DAY_WEEK', 'UCRPART', 'X', 'Y', 'STREETNAME', 'XSTREETNAME', 'Location']\n",
    "filename = '/Users/jhalverson/data_science/spark/Crime_Incident_Reports.csv'\n",
    "filename = '/Users/jhalverson/data_science/spark/Crime_Incident_Reports_no_header.csv'\n",
    "if 0:\n",
    "    header = []\n",
    "    filename = '/Users/jhalverson/data_science/spark/Crime_Incident_Reports_no_header.csv'\n",
    "    \n",
    "def loadRecord(line):\n",
    "    sline = StringIO.StringIO(line)\n",
    "    reader = csv.DictReader(sline, fieldnames=header)\n",
    "    return reader.next()\n",
    "\n",
    "crimes = sc.textFile(filename).map(loadRecord)\n",
    "crimes.take(2)"
   ]
  },
  {
   "cell_type": "code",
   "execution_count": 10,
   "metadata": {
    "collapsed": false
   },
   "outputs": [
    {
     "data": {
      "text/plain": [
       "[('None', 11319),\n",
       " ('Personal Weapon (hand  foot  etc.)', 282),\n",
       " ('Knife/Cutting Instrument', 177),\n",
       " ('Unarmed', 194932),\n",
       " ('Other', 52102),\n",
       " ('Blunt Object', 78),\n",
       " ('Firearm', 5299),\n",
       " ('Knife', 3867)]"
      ]
     },
     "execution_count": 10,
     "metadata": {},
     "output_type": "execute_result"
    }
   ],
   "source": [
    "crimes.map(lambda x: x['WEAPONTYPE']).countByValue().items()"
   ]
  },
  {
   "cell_type": "code",
   "execution_count": 11,
   "metadata": {
    "collapsed": false
   },
   "outputs": [
    {
     "name": "stdout",
     "output_type": "stream",
     "text": [
      "[['COMPNOS', 'NatureCode', 'INCIDENT_TYPE_DESCRIPTION', 'MAIN_CRIMECODE', 'REPTDISTRICT', 'REPORTINGAREA', 'FROMDATE', 'WEAPONTYPE', 'Shooting', 'DOMESTIC', 'SHIFT', 'Year', 'Month', 'DAY_WEEK', 'UCRPART', 'X', 'Y', 'STREETNAME', 'XSTREETNAME', 'Location'], ['120420285', 'BERPTA', 'RESIDENTIAL BURGLARY', '05RB', 'D4', '629', '07/08/2012 06:00:00 AM', 'Other', 'No', 'No', 'Last', '2012', '7', 'Sunday', 'Part One', '763273.1791', '2951498.962', 'ABERDEEN ST', '', '(42.34638135, -71.10379454)'], ['120419202', 'PSHOT ', 'AGGRAVATED ASSAULT', '04xx', 'B2', '327', '07/08/2012 06:03:00 AM', 'Firearm', 'Yes', 'No', 'Last', '2012', '7', 'Sunday', 'Part One', '771223.1638', '2940772.099', 'HOWARD AV', '', '(42.31684135, -71.07458456)']]\n"
     ]
    }
   ],
   "source": [
    "rdd = sc.textFile(\"/Users/jhalverson/data_science/spark/Crime_Incident_Reports.csv\")\n",
    "rdd = rdd.mapPartitions(lambda x: csv.reader(x))\n",
    "print rdd.take(3)"
   ]
  },
  {
   "cell_type": "code",
   "execution_count": 12,
   "metadata": {
    "collapsed": false
   },
   "outputs": [
    {
     "data": {
      "text/plain": [
       "[('None', 11319),\n",
       " ('Personal Weapon (hand  foot  etc.)', 282),\n",
       " ('Knife/Cutting Instrument', 177),\n",
       " ('Unarmed', 194932),\n",
       " ('Other', 52102),\n",
       " ('Blunt Object', 78),\n",
       " ('Firearm', 5299),\n",
       " ('Knife', 3867)]"
      ]
     },
     "execution_count": 12,
     "metadata": {},
     "output_type": "execute_result"
    }
   ],
   "source": [
    "weapons = rdd.map(lambda x: x[7]).filter(lambda x: x != 'WEAPONTYPE').countByValue().items()\n",
    "weapons"
   ]
  },
  {
   "cell_type": "code",
   "execution_count": 13,
   "metadata": {
    "collapsed": false
   },
   "outputs": [
    {
     "data": {
      "text/plain": [
       "<matplotlib.text.Text at 0x114600150>"
      ]
     },
     "execution_count": 13,
     "metadata": {},
     "output_type": "execute_result"
    },
    {
     "data": {
      "image/png": "[encoded data removed]",
      "text/plain": [
       "<matplotlib.figure.Figure at 0x1144b1b90>"
      ]
     },
     "metadata": {},
     "output_type": "display_data"
    }
   ],
   "source": [
    "import numpy as np\n",
    "import matplotlib.pyplot as plt\n",
    "%matplotlib inline\n",
    "plt.style.use('halverson')\n",
    "\n",
    "labels, counts = zip(*weapons)\n",
    "\n",
    "fig, ax = plt.subplots(nrows=1, ncols=1)\n",
    "plt.bar(range(len(counts)), np.log(counts), align='center')\n",
    "ax.set_xticklabels(labels)\n",
    "plt.xticks(range(len(counts)), rotation='vertical')\n",
    "plt.ylabel('ln(Count)')"
   ]
  },
  {
   "cell_type": "markdown",
   "metadata": {},
   "source": [
    "### Hadoop sequence files"
   ]
  },
  {
   "cell_type": "markdown",
   "metadata": {},
   "source": [
    "Good for writing key/value pairs. Can be read in parallel and are binary."
   ]
  },
  {
   "cell_type": "code",
   "execution_count": 15,
   "metadata": {
    "collapsed": false
   },
   "outputs": [],
   "source": [
    "elk_sightings = sc.parallelize([('Frank', 4), ('Tony', 0), ('Catherine', 0)])\n",
    "elk_sightings.saveAsSequenceFile('seqfiles')"
   ]
  },
  {
   "cell_type": "code",
   "execution_count": 20,
   "metadata": {
    "collapsed": false
   },
   "outputs": [
    {
     "data": {
      "text/plain": [
       "[(u'Frank', 4), (u'Tony', 0), (u'Catherine', 0)]"
      ]
     },
     "execution_count": 20,
     "metadata": {},
     "output_type": "execute_result"
    }
   ],
   "source": [
    "data = sc.sequenceFile('seqfiles', 'org.apache.hadoop.io.Text', 'org.apache.hadoop.io.IntWritable')\n",
    "data.collect()"
   ]
  },
  {
   "cell_type": "markdown",
   "metadata": {},
   "source": [
    "### Hive"
   ]
  },
  {
   "cell_type": "code",
   "execution_count": null,
   "metadata": {
    "collapsed": false
   },
   "outputs": [],
   "source": [
    "from pyspark.sql import HiveContext\n",
    "hiveCtx = HiveContext(sc)\n",
    "#lines = hiveCtx.jsonFile('person.json')\n",
    "#lines.registerTempTable('lines')\n",
    "#results = hiveCtx.sql(\"SELECT firstName FROM lines\")"
   ]
  }
 ],
 "metadata": {
  "kernelspec": {
   "display_name": "Python [default]",
   "language": "python",
   "name": "python2"
  },
  "language_info": {
   "codemirror_mode": {
    "name": "ipython",
    "version": 2
   },
   "file_extension": ".py",
   "mimetype": "text/x-python",
   "name": "python",
   "nbconvert_exporter": "python",
   "pygments_lexer": "ipython2",
   "version": "2.7.12"
  }
 },
 "nbformat": 4,
 "nbformat_minor": 0
}
