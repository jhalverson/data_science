{
 "cells": [
  {
   "cell_type": "markdown",
   "metadata": {},
   "source": [
    "# Jonathan Halverson\n",
    "# Thursday, September 29, 2016\n",
    "# Review of Spark SQL in Spark 2"
   ]
  },
  {
   "cell_type": "markdown",
   "metadata": {},
   "source": [
    "We begin by looking at what is available to us:"
   ]
  },
  {
   "cell_type": "code",
   "execution_count": 1,
   "metadata": {
    "collapsed": false
   },
   "outputs": [
    {
     "name": "stdout",
     "output_type": "stream",
     "text": [
      "['In', 'Out', 'SQLContext', 'SparkContext', 'SparkSession', 'StorageLevel', '_', '__', '___', '__builtin__', '__builtins__', '__doc__', '__name__', '__package__', '_dh', '_i', '_i1', '_ih', '_ii', '_iii', '_oh', '_pythonstartup', '_sh', 'atexit', 'exit', 'get_ipython', 'os', 'platform', 'py4j', 'pyspark', 'quit', 'sc', 'spark', 'sqlContext', 'sqlCtx']\n"
     ]
    }
   ],
   "source": [
    "print dir()"
   ]
  },
  {
   "cell_type": "markdown",
   "metadata": {},
   "source": [
    "We noticed from the above that a HiveContext is not available. This is different from Spark 1.6. Note that for the line below to work, only one pyspark session can be running."
   ]
  },
  {
   "cell_type": "code",
   "execution_count": 2,
   "metadata": {
    "collapsed": false
   },
   "outputs": [
    {
     "name": "stdout",
     "output_type": "stream",
     "text": [
      "+-------------------+---------+--------+--------------------+\n",
      "|            address|firstName|lastName|        phoneNumbers|\n",
      "+-------------------+---------+--------+--------------------+\n",
      "|[New York,10021,NY]|     John|   Smith|[[212 555-1234,ho...|\n",
      "| [Buffalo,10541,NY]|    Jimmy|   Cutts|[[567 555-4991,ho...|\n",
      "+-------------------+---------+--------+--------------------+\n",
      "\n"
     ]
    }
   ],
   "source": [
    "people = sqlCtx.read.json('person.json')\n",
    "people.show()"
   ]
  },
  {
   "cell_type": "code",
   "execution_count": 3,
   "metadata": {
    "collapsed": false
   },
   "outputs": [
    {
     "name": "stdout",
     "output_type": "stream",
     "text": [
      "root\n",
      " |-- address: struct (nullable = true)\n",
      " |    |-- city: string (nullable = true)\n",
      " |    |-- postalCode: string (nullable = true)\n",
      " |    |-- state: string (nullable = true)\n",
      " |-- firstName: string (nullable = true)\n",
      " |-- lastName: string (nullable = true)\n",
      " |-- phoneNumbers: array (nullable = true)\n",
      " |    |-- element: struct (containsNull = true)\n",
      " |    |    |-- number: string (nullable = true)\n",
      " |    |    |-- type: string (nullable = true)\n",
      "\n"
     ]
    }
   ],
   "source": [
    "people.printSchema()"
   ]
  },
  {
   "cell_type": "code",
   "execution_count": 4,
   "metadata": {
    "collapsed": false
   },
   "outputs": [
    {
     "name": "stdout",
     "output_type": "stream",
     "text": [
      "+---------+\n",
      "|firstName|\n",
      "+---------+\n",
      "|     John|\n",
      "|    Jimmy|\n",
      "+---------+\n",
      "\n"
     ]
    }
   ],
   "source": [
    "people.select('firstName').show()"
   ]
  },
  {
   "cell_type": "code",
   "execution_count": 5,
   "metadata": {
    "collapsed": false
   },
   "outputs": [
    {
     "name": "stdout",
     "output_type": "stream",
     "text": [
      "+-------------------+---------+--------+--------------------+\n",
      "|            address|firstName|lastName|        phoneNumbers|\n",
      "+-------------------+---------+--------+--------------------+\n",
      "|[New York,10021,NY]|     John|   Smith|[[212 555-1234,ho...|\n",
      "+-------------------+---------+--------+--------------------+\n",
      "\n"
     ]
    }
   ],
   "source": [
    "people.filter(people.firstName == 'John').show()"
   ]
  },
  {
   "cell_type": "markdown",
   "metadata": {},
   "source": [
    "### Run a SQL query"
   ]
  },
  {
   "cell_type": "code",
   "execution_count": 6,
   "metadata": {
    "collapsed": false
   },
   "outputs": [
    {
     "name": "stdout",
     "output_type": "stream",
     "text": [
      "+---------+--------+\n",
      "|firstName|lastName|\n",
      "+---------+--------+\n",
      "|     John|   Smith|\n",
      "+---------+--------+\n",
      "\n"
     ]
    }
   ],
   "source": [
    "people.registerTempTable('Peoples')\n",
    "sqlCtx.sql(\"\"\"select firstName, lastName from Peoples where firstName == 'John'\"\"\").show()"
   ]
  },
  {
   "cell_type": "markdown",
   "metadata": {},
   "source": [
    "### Convert the DataFrame to an RDD"
   ]
  },
  {
   "cell_type": "code",
   "execution_count": 7,
   "metadata": {
    "collapsed": false
   },
   "outputs": [
    {
     "data": {
      "text/plain": [
       "[u'John', u'Jimmy']"
      ]
     },
     "execution_count": 7,
     "metadata": {},
     "output_type": "execute_result"
    }
   ],
   "source": [
    "people.rdd.map(lambda row: row.firstName).collect()"
   ]
  },
  {
   "cell_type": "markdown",
   "metadata": {},
   "source": [
    "### Basic RDD operations applied to dataframes"
   ]
  },
  {
   "cell_type": "code",
   "execution_count": 8,
   "metadata": {
    "collapsed": false
   },
   "outputs": [
    {
     "data": {
      "text/plain": [
       "2"
      ]
     },
     "execution_count": 8,
     "metadata": {},
     "output_type": "execute_result"
    }
   ],
   "source": [
    "people.count()"
   ]
  },
  {
   "cell_type": "code",
   "execution_count": 9,
   "metadata": {
    "collapsed": false
   },
   "outputs": [
    {
     "data": {
      "text/plain": [
       "Row(address=Row(city=u'New York', postalCode=u'10021', state=u'NY'), firstName=u'John', lastName=u'Smith', phoneNumbers=[Row(number=u'212 555-1234', type=u'home')])"
      ]
     },
     "execution_count": 9,
     "metadata": {},
     "output_type": "execute_result"
    }
   ],
   "source": [
    "people.first()"
   ]
  },
  {
   "cell_type": "code",
   "execution_count": 10,
   "metadata": {
    "collapsed": false
   },
   "outputs": [
    {
     "data": {
      "text/plain": [
       "[Row(address=Row(city=u'New York', postalCode=u'10021', state=u'NY'), firstName=u'John', lastName=u'Smith', phoneNumbers=[Row(number=u'212 555-1234', type=u'home')])]"
      ]
     },
     "execution_count": 10,
     "metadata": {},
     "output_type": "execute_result"
    }
   ],
   "source": [
    "people.take(1)"
   ]
  },
  {
   "cell_type": "markdown",
   "metadata": {},
   "source": [
    "Note that not all actions on basic RDD's work:"
   ]
  },
  {
   "cell_type": "code",
   "execution_count": 11,
   "metadata": {
    "collapsed": false
   },
   "outputs": [],
   "source": [
    "#people.countByValue()\n",
    "#people.rdd.countByValue()"
   ]
  },
  {
   "cell_type": "markdown",
   "metadata": {},
   "source": [
    "### Caching a table for later use"
   ]
  },
  {
   "cell_type": "code",
   "execution_count": 12,
   "metadata": {
    "collapsed": true
   },
   "outputs": [],
   "source": [
    "sqlCtx.cacheTable(\"Peoples\")"
   ]
  },
  {
   "cell_type": "markdown",
   "metadata": {},
   "source": [
    "### Creating a DataFrame"
   ]
  },
  {
   "cell_type": "code",
   "execution_count": 13,
   "metadata": {
    "collapsed": false
   },
   "outputs": [
    {
     "name": "stdout",
     "output_type": "stream",
     "text": [
      "+------+----------+\n",
      "|mascot|      name|\n",
      "+------+----------+\n",
      "|Blacky|Blackhawks|\n",
      "| Bucky|     Bears|\n",
      "+------+----------+\n",
      "\n"
     ]
    }
   ],
   "source": [
    "from pyspark.sql import Row\n",
    "teams = sc.parallelize([Row(name='Blackhawks', mascot='Blacky'), Row(name='Bears', mascot='Bucky')])\n",
    "teams_df = sqlCtx.createDataFrame(teams) # this apparently replaces inferschema\n",
    "teams_df.registerTempTable(\"teams\")\n",
    "teams_df.show()"
   ]
  },
  {
   "cell_type": "code",
   "execution_count": 14,
   "metadata": {
    "collapsed": false
   },
   "outputs": [
    {
     "name": "stdout",
     "output_type": "stream",
     "text": [
      "+------+----------+\n",
      "|mascot|      name|\n",
      "+------+----------+\n",
      "|Blacky|Blackhawks|\n",
      "| Bucky|     Bears|\n",
      "+------+----------+\n",
      "\n"
     ]
    }
   ],
   "source": [
    "sqlCtx.sql(\"\"\"select * from teams\"\"\").show()"
   ]
  }
 ],
 "metadata": {
  "kernelspec": {
   "display_name": "Python 2",
   "language": "python",
   "name": "python2"
  },
  "language_info": {
   "codemirror_mode": {
    "name": "ipython",
    "version": 2
   },
   "file_extension": ".py",
   "mimetype": "text/x-python",
   "name": "python",
   "nbconvert_exporter": "python",
   "pygments_lexer": "ipython2",
   "version": "2.7.5"
  }
 },
 "nbformat": 4,
 "nbformat_minor": 0
}
