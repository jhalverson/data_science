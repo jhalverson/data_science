{
 "cells": [
  {
   "cell_type": "markdown",
   "metadata": {},
   "source": [
    "# Jonathan Halverson\n",
    "# Saturday, April 30, 2016\n",
    "# Spark and IPython"
   ]
  },
  {
   "cell_type": "code",
   "execution_count": 135,
   "metadata": {
    "collapsed": true
   },
   "outputs": [],
   "source": [
    "lines = sc.textFile('text_file.md', use_unicode=False)"
   ]
  },
  {
   "cell_type": "code",
   "execution_count": 136,
   "metadata": {
    "collapsed": false
   },
   "outputs": [
    {
     "data": {
      "text/plain": [
       "['# Apache Spark',\n",
       " '',\n",
       " 'Spark is a fast and general cluster computing system for Big Data. It provides',\n",
       " 'high-level APIs in Scala, Java, Python, and R, and an optimized engine that',\n",
       " 'supports general computation graphs for data analysis. It also supports a']"
      ]
     },
     "execution_count": 136,
     "metadata": {},
     "output_type": "execute_result"
    }
   ],
   "source": [
    "lines.take(5)"
   ]
  },
  {
   "cell_type": "code",
   "execution_count": 137,
   "metadata": {
    "collapsed": false
   },
   "outputs": [
    {
     "name": "stdout",
     "output_type": "stream",
     "text": [
      "2 3\n"
     ]
    }
   ],
   "source": [
    "py_lines = lines.filter(lambda line: 'Python' in line and 'Java' not in line)\n",
    "jv_lines = lines.filter(lambda line: 'Java' in line and 'Python' not in line)\n",
    "print py_lines.union(jv_lines).count(), lines.filter(lambda line: 'Python' in line or 'Java' in line).count()"
   ]
  },
  {
   "cell_type": "markdown",
   "metadata": {},
   "source": [
    "### Using RDDs in a Python object"
   ]
  },
  {
   "cell_type": "code",
   "execution_count": 138,
   "metadata": {
    "collapsed": true
   },
   "outputs": [],
   "source": [
    "class ScalaFinder(object):\n",
    "    def __init__(self, keyword):\n",
    "        self.keyword = keyword\n",
    "    def printLines(self, RDD):\n",
    "        for line in RDD.collect():\n",
    "            if (self.keyword in line):\n",
    "                print line"
   ]
  },
  {
   "cell_type": "code",
   "execution_count": 139,
   "metadata": {
    "collapsed": false
   },
   "outputs": [
    {
     "name": "stdout",
     "output_type": "stream",
     "text": [
      "Spark is a fast and general cluster computing system for Big Data. It provides\n",
      "high-level APIs in Scala, Java, Python, and R, and an optimized engine that\n",
      "rich set of higher-level tools including Spark SQL for SQL and DataFrames,\n",
      "and Spark Streaming for stream processing.\n",
      "and [project wiki](https://cwiki.apache.org/confluence/display/SPARK).\n",
      "To build Spark and its example programs, run:\n",
      "Try the following command, which should return 1000:\n",
      "And run the following command, which should also return 1000:\n",
      "\"yarn\" to run on YARN, and \"local\" to run\n",
      "Spark uses the Hadoop core library to talk to HDFS and other Hadoop-supported\n",
      "building for particular Hive and Hive Thriftserver distributions.\n"
     ]
    }
   ],
   "source": [
    "sf = ScalaFinder('and')\n",
    "sf.printLines(lines)"
   ]
  },
  {
   "cell_type": "markdown",
   "metadata": {},
   "source": [
    "### Construct a histogram of the word count per line"
   ]
  },
  {
   "cell_type": "code",
   "execution_count": 140,
   "metadata": {
    "collapsed": true
   },
   "outputs": [],
   "source": [
    "import matplotlib.pyplot as plt\n",
    "%matplotlib inline\n",
    "plt.style.use('halverson')"
   ]
  },
  {
   "cell_type": "code",
   "execution_count": 141,
   "metadata": {
    "collapsed": false
   },
   "outputs": [],
   "source": [
    "num_chars = lines.map(lambda line: len(line))\n",
    "left, count = num_chars.histogram(range(0, 120, 10))"
   ]
  },
  {
   "cell_type": "code",
   "execution_count": 142,
   "metadata": {
    "collapsed": false
   },
   "outputs": [
    {
     "data": {
      "text/plain": [
       "<matplotlib.text.Text at 0x10d6203d0>"
      ]
     },
     "execution_count": 142,
     "metadata": {},
     "output_type": "execute_result"
    },
    {
     "data": {
      "image/png": "[encoded data removed]",
      "text/plain": [
       "<matplotlib.figure.Figure at 0x10d70bd90>"
      ]
     },
     "metadata": {},
     "output_type": "display_data"
    }
   ],
   "source": [
    "plt.bar(left[:-1], count, width=10)\n",
    "plt.xlabel('Number of words per line')\n",
    "plt.ylabel('Count')"
   ]
  },
  {
   "cell_type": "code",
   "execution_count": 143,
   "metadata": {
    "collapsed": false
   },
   "outputs": [
    {
     "name": "stdout",
     "output_type": "stream",
     "text": [
      "7056\n",
      "14400\n",
      "14400\n",
      "7056\n",
      "9409\n"
     ]
    }
   ],
   "source": [
    "# flatMap flattens the iterators returned to it\n",
    "num_chars_sq = lines.flatMap(lambda line: (len(line), len(line)**2))\n",
    "for item in num_chars_sq.collect():\n",
    "    if (item > 7000): print item"
   ]
  },
  {
   "cell_type": "code",
   "execution_count": 144,
   "metadata": {
    "collapsed": false
   },
   "outputs": [
    {
     "name": "stdout",
     "output_type": "stream",
     "text": [
      "440 259\n"
     ]
    }
   ],
   "source": [
    "words = lines.flatMap(lambda line: line.split())\n",
    "print len(words.collect()), len(words.distinct().collect())"
   ]
  },
  {
   "cell_type": "code",
   "execution_count": 145,
   "metadata": {
    "collapsed": false
   },
   "outputs": [
    {
     "name": "stdout",
     "output_type": "stream",
     "text": [
      "[('the', 21), ('to', 14), ('Spark', 13), ('for', 11), ('and', 10), ('##', 8), ('a', 8), ('run', 7), ('can', 6), ('is', 6)]\n"
     ]
    }
   ],
   "source": [
    "print sorted(words.countByValue().items(), key=lambda (u, v): v, reverse=True)[:10]"
   ]
  },
  {
   "cell_type": "code",
   "execution_count": 146,
   "metadata": {
    "collapsed": false
   },
   "outputs": [
    {
     "name": "stdout",
     "output_type": "stream",
     "text": [
      "9025 ('# Apache Spark', 14)\n"
     ]
    }
   ],
   "source": [
    "# this transformation goes as the square of the number of items\n",
    "cartProd = lines.cartesian(num_chars)\n",
    "print cartProd.count(), cartProd.first()"
   ]
  },
  {
   "cell_type": "code",
   "execution_count": 147,
   "metadata": {
    "collapsed": false
   },
   "outputs": [
    {
     "name": "stdout",
     "output_type": "stream",
     "text": [
      "[('and Spark Streaming for stream processing.', 68), ('    >>> sc.parallelize(range(1000)).count()', 74), ('## Online Documentation', 29), ('More detailed documentation is available from the project site, at', 16), ('', 0)]\n"
     ]
    }
   ],
   "source": [
    "# all-with-all between two RDDs which can be the same\n",
    "samp_cartProd = cartProd.sample(False, 0.001, seed=0)\n",
    "print samp_cartProd.collect()"
   ]
  },
  {
   "cell_type": "code",
   "execution_count": 148,
   "metadata": {
    "collapsed": false
   },
   "outputs": [
    {
     "name": "stdout",
     "output_type": "stream",
     "text": [
      "120 120\n"
     ]
    }
   ],
   "source": [
    "max_item = num_chars.reduce(lambda x, y: x if x > y else y)\n",
    "print max_item, num_chars.max()"
   ]
  },
  {
   "cell_type": "code",
   "execution_count": 149,
   "metadata": {
    "collapsed": false
   },
   "outputs": [
    {
     "name": "stdout",
     "output_type": "stream",
     "text": [
      "3264\n"
     ]
    }
   ],
   "source": [
    "total = num_chars.reduce(lambda x, y: x + y)\n",
    "print total"
   ]
  },
  {
   "cell_type": "code",
   "execution_count": 150,
   "metadata": {
    "collapsed": false
   },
   "outputs": [
    {
     "name": "stdout",
     "output_type": "stream",
     "text": [
      "3264\n"
     ]
    }
   ],
   "source": [
    "total_with_fold = num_chars.fold(0, lambda x, y: x + y)\n",
    "print total_with_fold"
   ]
  },
  {
   "cell_type": "code",
   "execution_count": 151,
   "metadata": {
    "collapsed": false
   },
   "outputs": [
    {
     "name": "stdout",
     "output_type": "stream",
     "text": [
      "34.3578947368\n"
     ]
    }
   ],
   "source": [
    "# the first argument is the zero value for the two operations: the first being the elements on a partition\n",
    "# and the second being the zero value for the combination of the results\n",
    "sumCount = num_chars.aggregate((0, 0),\n",
    "                               (lambda acc, value: (acc[0] + value, acc[1] + 1)),\n",
    "                               (lambda acc1, acc2: (acc1[0] + acc2[0], acc1[1] + acc2[1])))\n",
    "print float(sumCount[0]) / sumCount[1]"
   ]
  },
  {
   "cell_type": "code",
   "execution_count": 152,
   "metadata": {
    "collapsed": false
   },
   "outputs": [
    {
     "name": "stdout",
     "output_type": "stream",
     "text": [
      "# Apache Spark\n",
      "# Apache Spark\n",
      "# apache spark\n"
     ]
    }
   ],
   "source": [
    "# foreach method does not have a return\n",
    "print lines.first()\n",
    "lines.foreach(lambda line: line.lower())\n",
    "print lines.first()\n",
    "lines = lines.map(lambda line: line.lower())\n",
    "print lines.first()"
   ]
  },
  {
   "cell_type": "code",
   "execution_count": 153,
   "metadata": {
    "collapsed": false
   },
   "outputs": [
    {
     "data": {
      "text/plain": [
       "1108.0192797783932"
      ]
     },
     "execution_count": 153,
     "metadata": {},
     "output_type": "execute_result"
    }
   ],
   "source": [
    "num_chars.variance()"
   ]
  },
  {
   "cell_type": "code",
   "execution_count": 155,
   "metadata": {
    "collapsed": false
   },
   "outputs": [
    {
     "name": "stdout",
     "output_type": "stream",
     "text": [
      "['you can set the master environment variable when running examples to submit', 'you can find the latest spark documentation, including a programming', 'will run the pi example locally.', 'try the following command, which should return 1000:', 'to run one of them, use `./bin/run-example <class> [params]`. for example:']\n"
     ]
    }
   ],
   "source": [
    "# fast re-use is possible through persist with different storage levels\n",
    "from pyspark import StorageLevel\n",
    "lines.persist(StorageLevel.MEMORY_ONLY)\n",
    "print lines.top(5)"
   ]
  }
 ],
 "metadata": {
  "kernelspec": {
   "display_name": "Python 2",
   "language": "python",
   "name": "python2"
  },
  "language_info": {
   "codemirror_mode": {
    "name": "ipython",
    "version": 2
   },
   "file_extension": ".py",
   "mimetype": "text/x-python",
   "name": "python",
   "nbconvert_exporter": "python",
   "pygments_lexer": "ipython2",
   "version": "2.7.5"
  }
 },
 "nbformat": 4,
 "nbformat_minor": 0
}
