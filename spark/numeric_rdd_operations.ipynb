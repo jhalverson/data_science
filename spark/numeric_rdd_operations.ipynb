{
 "cells": [
  {
   "cell_type": "markdown",
   "metadata": {},
   "source": [
    "# Jonathan Halverson\n",
    "# Friday, May 6, 2016\n",
    "# Numeric RDD operations"
   ]
  },
  {
   "cell_type": "markdown",
   "metadata": {},
   "source": [
    "Spark provides routines for calculating description statistics on RDDs. Below we read in text file and create and RDD composed of the number of characters in each line."
   ]
  },
  {
   "cell_type": "code",
   "execution_count": 33,
   "metadata": {
    "collapsed": false
   },
   "outputs": [
    {
     "name": "stdout",
     "output_type": "stream",
     "text": [
      "95\n",
      "# Apache Spark\n"
     ]
    }
   ],
   "source": [
    "lines = sc.textFile('text_file.md')\n",
    "print lines.count()\n",
    "print lines.first()"
   ]
  },
  {
   "cell_type": "markdown",
   "metadata": {},
   "source": [
    "Create a numeric RDD:"
   ]
  },
  {
   "cell_type": "code",
   "execution_count": 60,
   "metadata": {
    "collapsed": false
   },
   "outputs": [
    {
     "name": "stdout",
     "output_type": "stream",
     "text": [
      "95\n",
      "14\n",
      "120\n"
     ]
    }
   ],
   "source": [
    "num_chars = lines.map(len)\n",
    "print num_chars.count()\n",
    "print num_chars.first()\n",
    "print num_chars.max()"
   ]
  },
  {
   "cell_type": "markdown",
   "metadata": {},
   "source": [
    "Create a StatsCounter object which computes all descriptive statistics in a single pass:"
   ]
  },
  {
   "cell_type": "code",
   "execution_count": 37,
   "metadata": {
    "collapsed": true
   },
   "outputs": [],
   "source": [
    "stats_obj = num_chars.stats()"
   ]
  },
  {
   "cell_type": "code",
   "execution_count": 50,
   "metadata": {
    "collapsed": false
   },
   "outputs": [
    {
     "data": {
      "text/plain": [
       "(34.3578947368421, 3263.9999999999995, 1108.0192797783932, 1119.8067189249718)"
      ]
     },
     "execution_count": 50,
     "metadata": {},
     "output_type": "execute_result"
    }
   ],
   "source": [
    "stats_obj.mean(), stats_obj.sum(), stats_obj.variance(), stats_obj.sampleVariance()"
   ]
  },
  {
   "cell_type": "markdown",
   "metadata": {},
   "source": [
    "Note that one cannnot evaluate an action on an RDD inside of a transformation on an RDD. Here we store the mean and standard deviation before the filter:"
   ]
  },
  {
   "cell_type": "code",
   "execution_count": 47,
   "metadata": {
    "collapsed": false
   },
   "outputs": [
    {
     "name": "stdout",
     "output_type": "stream",
     "text": [
      "Number of outliers: 2\n"
     ]
    }
   ],
   "source": [
    "mu = stats_obj.mean()\n",
    "std = stats_obj.stdev()\n",
    "inliers = num_chars.filter(lambda x: abs(x - mu < 2 * std))\n",
    "print 'Number of outliers:', num_chars.count() - inliers.count()"
   ]
  },
  {
   "cell_type": "markdown",
   "metadata": {},
   "source": [
    "The raw line lengths are plotted below. We see the two outliers at the far right:"
   ]
  },
  {
   "cell_type": "code",
   "execution_count": 66,
   "metadata": {
    "collapsed": false
   },
   "outputs": [
    {
     "data": {
      "text/plain": [
       "(0, 40)"
      ]
     },
     "execution_count": 66,
     "metadata": {},
     "output_type": "execute_result"
    },
    {
     "data": {
      "image/png": "[encoded data removed]",
      "text/plain": [
       "<matplotlib.figure.Figure at 0x10edb3250>"
      ]
     },
     "metadata": {},
     "output_type": "display_data"
    }
   ],
   "source": [
    "import numpy as np\n",
    "import matplotlib.pyplot as plt\n",
    "%matplotlib inline\n",
    "plt.style.use('halverson')\n",
    "\n",
    "left, height = num_chars.histogram(buckets=range(0, 125, 5))\n",
    "if sum(height) != num_chars.count(): print 'Warning: discordant counts'\n",
    "plt.bar(left[:-1], height, width=5)\n",
    "plt.xlabel('Number of characters')\n",
    "plt.ylabel('Count')\n",
    "plt.ylim(0, 40)"
   ]
  }
 ],
 "metadata": {
  "kernelspec": {
   "display_name": "Python 2",
   "language": "python",
   "name": "python2"
  },
  "language_info": {
   "codemirror_mode": {
    "name": "ipython",
    "version": 2
   },
   "file_extension": ".py",
   "mimetype": "text/x-python",
   "name": "python",
   "nbconvert_exporter": "python",
   "pygments_lexer": "ipython2",
   "version": "2.7.5"
  }
 },
 "nbformat": 4,
 "nbformat_minor": 0
}
