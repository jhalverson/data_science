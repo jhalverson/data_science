{
 "cells": [
  {
   "cell_type": "markdown",
   "metadata": {},
   "source": [
    "# Jonathan Halverson\n",
    "# Saturday, February 17, 2018\n",
    "# Connecting Spark 2 with MySQL"
   ]
  },
  {
   "cell_type": "code",
   "execution_count": 3,
   "metadata": {
    "collapsed": true
   },
   "outputs": [],
   "source": [
    "from pyspark.sql import SparkSession\n",
    "spark = SparkSession.builder.appName(\"NoApp\").getOrCreate()"
   ]
  },
  {
   "cell_type": "code",
   "execution_count": 4,
   "metadata": {
    "collapsed": false
   },
   "outputs": [],
   "source": [
    "import os\n",
    "my_token = os.environ['MYSQL_PSWD']"
   ]
  },
  {
   "cell_type": "code",
   "execution_count": 5,
   "metadata": {
    "collapsed": false
   },
   "outputs": [
    {
     "name": "stdout",
     "output_type": "stream",
     "text": [
      "+-------------------+-----------+----+------+-----+--------------------+\n",
      "|               Name|     Record| Age|Height|Reach|               OutOf|\n",
      "+-------------------+-----------+----+------+-----+--------------------+\n",
      "|       Danny Abbadi|           |33.0|  71.0| null|                    |\n",
      "|        Tank Abbott|           |51.0|  72.0| null|                    |\n",
      "|Shamil Abdurakhimov|     17-4-0|35.0|  75.0| 76.0|     Dagestan Russia|\n",
      "|         Papy Abedi|           |38.0|  71.0| 74.0|    Stockholm Sweden|\n",
      "|      Ricardo Abreu|      5-1-0|32.0|  71.0| 73.0|Huntington Beach,...|\n",
      "|      Ryan Ackerman|           |null|  null| null|                    |\n",
      "|        Scott Adams|           |42.0|  72.0| null|                    |\n",
      "|         Sam Adkins|           |37.0|  72.0| null|                    |\n",
      "|       Nick Agallar|           |null|  67.0| null|                    |\n",
      "|    Marcello Aguiar|           |null|  72.0| null|                    |\n",
      "|    Jessica Aguilar|     19-5-0|null|  64.0| null|                    |\n",
      "|     Omari Akhmedov|     16-3-0|29.0|  72.0| 73.0|  Makhachkala Russia|\n",
      "|  Yoshihiro Akiyama|14-6-0, 2NC|41.0|  70.0| 73.0|                    |\n",
      "|   Mostapha Al Turk|           |43.0|  74.0| null|                    |\n",
      "|    Razak Al-Hassan|           |34.0|  74.0| null|                    |\n",
      "|        John Albert|           |30.0|  68.0| null|    Puyallup, WA USA|\n",
      "|      Wes Albritton|           |null|  null| null|                    |\n",
      "|     Alexandra Albu|      6-0-0|26.0|  63.0| null|       Moscow Russia|\n",
      "|  Ildemar Alcantara|           |34.0|  74.0| 78.0|  Soure, Para Brazil|\n",
      "|     Iuri Alcantara|33-7-0, 1NC|36.0|  69.0| 71.0|  Soure, Para Brazil|\n",
      "+-------------------+-----------+----+------+-----+--------------------+\n",
      "only showing top 20 rows\n",
      "\n"
     ]
    }
   ],
   "source": [
    "df = spark.read.format(\"jdbc\").option(\"url\", \"jdbc:mysql://localhost/beverly\")\\\n",
    "                              .option(\"driver\", \"com.mysql.jdbc.Driver\")\\\n",
    "                              .option(\"dbtable\", \"ufc\")\\\n",
    "                              .option(\"user\", \"root\")\\\n",
    "                              .option(\"password\", my_token).load()\n",
    "df.select('Name', 'Record', 'Age', 'Height', 'Reach', 'OutOf').show()"
   ]
  },
  {
   "cell_type": "code",
   "execution_count": 6,
   "metadata": {
    "collapsed": false
   },
   "outputs": [
    {
     "name": "stdout",
     "output_type": "stream",
     "text": [
      "root\n",
      " |-- Name: string (nullable = true)\n",
      " |-- Nickname: string (nullable = true)\n",
      " |-- Active: integer (nullable = true)\n",
      " |-- Record: string (nullable = true)\n",
      " |-- Age: double (nullable = true)\n",
      " |-- Height: double (nullable = true)\n",
      " |-- Weight: double (nullable = true)\n",
      " |-- Reach: double (nullable = true)\n",
      " |-- LegReach: double (nullable = true)\n",
      " |-- OutOf: string (nullable = true)\n",
      " |-- Hometown: string (nullable = true)\n",
      " |-- College: string (nullable = true)\n",
      " |-- Degree: string (nullable = true)\n",
      " |-- Summary: string (nullable = true)\n",
      "\n"
     ]
    }
   ],
   "source": [
    "df.printSchema()"
   ]
  },
  {
   "cell_type": "markdown",
   "metadata": {},
   "source": [
    "Note that beverly is the database name and a password must be supplied. It was necessary to download mysql-connector-java-8.0.9-rc.jar and put this in /Users/jhalverson/software/spark-2.2.1-bin-hadoop2.7/jars. The file was downloaded from https://mvnrepository.com/artifact/mysql/mysql-connector-java/8.0.9-rc."
   ]
  }
 ],
 "metadata": {
  "anaconda-cloud": {},
  "kernelspec": {
   "display_name": "Python [conda root]",
   "language": "python",
   "name": "conda-root-py"
  },
  "language_info": {
   "codemirror_mode": {
    "name": "ipython",
    "version": 2
   },
   "file_extension": ".py",
   "mimetype": "text/x-python",
   "name": "python",
   "nbconvert_exporter": "python",
   "pygments_lexer": "ipython2",
   "version": "2.7.12"
  }
 },
 "nbformat": 4,
 "nbformat_minor": 1
}
