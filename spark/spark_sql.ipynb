{
 "cells": [
  {
   "cell_type": "markdown",
   "metadata": {},
   "source": [
    "# Jonathan Halverson\n",
    "# Monday, May 9, 2016\n",
    "# Spark SQL"
   ]
  },
  {
   "cell_type": "code",
   "execution_count": 1,
   "metadata": {
    "collapsed": true
   },
   "outputs": [],
   "source": [
    "#from pyspark.sql import SQLContext\n",
    "#sqlCtx = SQLContext(sc)"
   ]
  },
  {
   "cell_type": "code",
   "execution_count": 2,
   "metadata": {
    "collapsed": true
   },
   "outputs": [],
   "source": [
    "from pyspark.sql import HiveContext\n",
    "from pyspark.sql import Row"
   ]
  },
  {
   "cell_type": "code",
   "execution_count": 3,
   "metadata": {
    "collapsed": false
   },
   "outputs": [],
   "source": [
    "hiveCtx = HiveContext(sc)\n",
    "lines = hiveCtx.read.json(\"boston_university.json\")\n",
    "lines.registerTempTable(\"events\")\n",
    "topTweets = hiveCtx.sql(\"\"\"SELECT date_time, location, credit_url FROM events LIMIT 10\"\"\")"
   ]
  },
  {
   "cell_type": "code",
   "execution_count": 4,
   "metadata": {
    "collapsed": false
   },
   "outputs": [
    {
     "data": {
      "text/plain": [
       "pyspark.sql.dataframe.DataFrame"
      ]
     },
     "execution_count": 4,
     "metadata": {},
     "output_type": "execute_result"
    }
   ],
   "source": [
    "type(lines)"
   ]
  },
  {
   "cell_type": "code",
   "execution_count": 5,
   "metadata": {
    "collapsed": false
   },
   "outputs": [
    {
     "data": {
      "text/plain": [
       "pyspark.sql.dataframe.DataFrame"
      ]
     },
     "execution_count": 5,
     "metadata": {},
     "output_type": "execute_result"
    }
   ],
   "source": [
    "type(topTweets)"
   ]
  },
  {
   "cell_type": "code",
   "execution_count": 6,
   "metadata": {
    "collapsed": false
   },
   "outputs": [
    {
     "name": "stdout",
     "output_type": "stream",
     "text": [
      "+--------------------+--------------------+--------------------+\n",
      "|           date_time|            location|          credit_url|\n",
      "+--------------------+--------------------+--------------------+\n",
      "|All day on Monday...|Omni Hilton Head ...|http://www.bu.edu...|\n",
      "|All day  every da...|                null|http://www.bu.edu...|\n",
      "|10:30 am on Monda...|                null|http://www.bu.edu...|\n",
      "|12:00 pm to 1:30 ...|  121 Bay State Road|http://www.bu.edu...|\n",
      "|12:00 am   8:00 p...|                null|http://www.bu.edu...|\n",
      "|10:00 am to 2:00 ...|GSU, 775 Commonwe...|http://www.bu.edu...|\n",
      "|11:30 am   12:30 ...|                null|http://www.bu.edu...|\n",
      "|12:00 pm to 1:30 ...|121 Bay State Roa...|http://www.bu.edu...|\n",
      "|12:00 pm   5:00 p...|                null|http://www.bu.edu...|\n",
      "|12:00 pm to 1:30 ...|                null|http://www.bu.edu...|\n",
      "+--------------------+--------------------+--------------------+\n",
      "\n"
     ]
    }
   ],
   "source": [
    "topTweets.show()"
   ]
  },
  {
   "cell_type": "markdown",
   "metadata": {},
   "source": [
    "Below we create a RDD from a DataFrame:"
   ]
  },
  {
   "cell_type": "code",
   "execution_count": 7,
   "metadata": {
    "collapsed": false
   },
   "outputs": [
    {
     "data": {
      "text/plain": [
       "[(u'All day on Monday, April 18, 2016', 57),\n",
       " (u'All day  every day until Sunday, April 24, 2016', 57),\n",
       " (u'10:30 am on Monday, April 18, 2016', 57),\n",
       " (u'12:00 pm to 1:30 pm  on Monday, April 18, 2016', 57),\n",
       " (u'12:00 am   8:00 pm  every day until Friday, April 22, 2016', 57),\n",
       " (u'10:00 am to 2:00 pm  on Tuesday, April 19, 2016', 57),\n",
       " (u'11:30 am   12:30 pm  on every Tuesday until Tuesday, May 3, 2016', 57),\n",
       " (u'12:00 pm to 1:30 pm  on Tuesday, April 19, 2016', 57),\n",
       " (u'12:00 pm   5:00 pm  on every Tuesday, Wednesday, Thursday, Friday, Saturday, & Sunday until Saturday, May 7, 2016',\n",
       "  57),\n",
       " (u'12:00 pm to 1:30 pm  on Tuesday, April 19, 2016', 57)]"
      ]
     },
     "execution_count": 7,
     "metadata": {},
     "output_type": "execute_result"
    }
   ],
   "source": [
    "modified_url = topTweets.rdd.map(lambda x: (x[0], len(x[2])))\n",
    "modified_url.collect()"
   ]
  },
  {
   "cell_type": "code",
   "execution_count": 8,
   "metadata": {
    "collapsed": false
   },
   "outputs": [
    {
     "name": "stdout",
     "output_type": "stream",
     "text": [
      "+--------------------+\n",
      "|           date_time|\n",
      "+--------------------+\n",
      "|All day on Monday...|\n",
      "|All day  every da...|\n",
      "|10:30 am on Monda...|\n",
      "|12:00 pm to 1:30 ...|\n",
      "|12:00 am   8:00 p...|\n",
      "|10:00 am to 2:00 ...|\n",
      "|11:30 am   12:30 ...|\n",
      "|12:00 pm to 1:30 ...|\n",
      "|12:00 pm   5:00 p...|\n",
      "|12:00 pm to 1:30 ...|\n",
      "+--------------------+\n",
      "\n"
     ]
    }
   ],
   "source": [
    "topTweets.select([\"date_time\"]).show()"
   ]
  },
  {
   "cell_type": "code",
   "execution_count": 9,
   "metadata": {
    "collapsed": false
   },
   "outputs": [
    {
     "name": "stdout",
     "output_type": "stream",
     "text": [
      "+--------------------+\n",
      "|            location|\n",
      "+--------------------+\n",
      "|Omni Hilton Head ...|\n",
      "|  121 Bay State Road|\n",
      "|GSU, 775 Commonwe...|\n",
      "|121 Bay State Roa...|\n",
      "+--------------------+\n",
      "\n"
     ]
    }
   ],
   "source": [
    "topTweets.filter(topTweets[\"location\"] != 'null').select(\"location\").show()"
   ]
  },
  {
   "cell_type": "code",
   "execution_count": 10,
   "metadata": {
    "collapsed": false
   },
   "outputs": [
    {
     "name": "stdout",
     "output_type": "stream",
     "text": [
      "+--------------------+\n",
      "|            location|\n",
      "+--------------------+\n",
      "|Omni Hilton Head ...|\n",
      "|  121 Bay State Road|\n",
      "|GSU, 775 Commonwe...|\n",
      "|121 Bay State Roa...|\n",
      "|3rd Floor Dining ...|\n",
      "|Photonics Buildin...|\n",
      "| Ziskind Lounge, GSU|\n",
      "|International Cen...|\n",
      "|The Towers, Frank...|\n",
      "+--------------------+\n",
      "\n"
     ]
    }
   ],
   "source": [
    "hiveCtx.sql(\"\"\"SELECT location FROM events WHERE location != \"null\" LIMIT 10\"\"\").show()"
   ]
  },
  {
   "cell_type": "code",
   "execution_count": 11,
   "metadata": {
    "collapsed": false
   },
   "outputs": [
    {
     "name": "stdout",
     "output_type": "stream",
     "text": [
      "root\n",
      " |-- date_time: string (nullable = true)\n",
      " |-- location: string (nullable = true)\n",
      " |-- credit_url: string (nullable = true)\n",
      "\n"
     ]
    }
   ],
   "source": [
    "topTweets.printSchema()"
   ]
  },
  {
   "cell_type": "markdown",
   "metadata": {},
   "source": [
    "Below we create a RDD from a Python list and then create a DataFrame:"
   ]
  },
  {
   "cell_type": "code",
   "execution_count": 12,
   "metadata": {
    "collapsed": true
   },
   "outputs": [],
   "source": [
    "recs = [[\"Frank\", 45, 180.4], [\"Rocco\", 23, 212.0], [\"Claude\", 38, 112.9]]\n",
    "my_rdd = sc.parallelize(recs)"
   ]
  },
  {
   "cell_type": "code",
   "execution_count": 13,
   "metadata": {
    "collapsed": false
   },
   "outputs": [
    {
     "name": "stdout",
     "output_type": "stream",
     "text": [
      "+------+---+-----+\n",
      "|    _1| _2|   _3|\n",
      "+------+---+-----+\n",
      "| Frank| 45|180.4|\n",
      "| Rocco| 23|212.0|\n",
      "|Claude| 38|112.9|\n",
      "+------+---+-----+\n",
      "\n"
     ]
    }
   ],
   "source": [
    "df = hiveCtx.createDataFrame(my_rdd)\n",
    "df.show()"
   ]
  },
  {
   "cell_type": "code",
   "execution_count": 14,
   "metadata": {
    "collapsed": false
   },
   "outputs": [
    {
     "name": "stdout",
     "output_type": "stream",
     "text": [
      "+---+\n",
      "| _2|\n",
      "+---+\n",
      "| 45|\n",
      "| 23|\n",
      "| 38|\n",
      "+---+\n",
      "\n"
     ]
    }
   ],
   "source": [
    "df.select(\"_2\").show()"
   ]
  },
  {
   "cell_type": "markdown",
   "metadata": {},
   "source": [
    "Below we create a DataFrame from a Python list of Row objects:"
   ]
  },
  {
   "cell_type": "code",
   "execution_count": 15,
   "metadata": {
    "collapsed": true
   },
   "outputs": [],
   "source": [
    "recsRow = [Row(name=\"Frank\", age=45, weight=180.4),\n",
    "           Row(name=\"Rocco\", age=23, weight=212.0),\n",
    "           Row(name=\"Claude\", age=38, weight=112.9)]"
   ]
  },
  {
   "cell_type": "code",
   "execution_count": 16,
   "metadata": {
    "collapsed": false
   },
   "outputs": [
    {
     "name": "stdout",
     "output_type": "stream",
     "text": [
      "+---+------+------+\n",
      "|age|  name|weight|\n",
      "+---+------+------+\n",
      "| 45| Frank| 180.4|\n",
      "| 23| Rocco| 212.0|\n",
      "| 38|Claude| 112.9|\n",
      "+---+------+------+\n",
      "\n"
     ]
    }
   ],
   "source": [
    "df2 = hiveCtx.createDataFrame(recsRow)\n",
    "df2.show()"
   ]
  },
  {
   "cell_type": "code",
   "execution_count": 17,
   "metadata": {
    "collapsed": false
   },
   "outputs": [
    {
     "name": "stdout",
     "output_type": "stream",
     "text": [
      "+------+---------+\n",
      "|  name|(age + 1)|\n",
      "+------+---------+\n",
      "| Frank|       46|\n",
      "| Rocco|       24|\n",
      "|Claude|       39|\n",
      "+------+---------+\n",
      "\n"
     ]
    }
   ],
   "source": [
    "df2.select(\"name\", df2.age + 1).show()"
   ]
  },
  {
   "cell_type": "code",
   "execution_count": 18,
   "metadata": {
    "collapsed": false
   },
   "outputs": [
    {
     "name": "stdout",
     "output_type": "stream",
     "text": [
      "+------+---+\n",
      "|  name|_c1|\n",
      "+------+---+\n",
      "| Frank| 46|\n",
      "| Rocco| 24|\n",
      "|Claude| 39|\n",
      "+------+---+\n",
      "\n"
     ]
    }
   ],
   "source": [
    "df2.registerTempTable(\"Guys\")\n",
    "hiveCtx.sql(\"\"\"SELECT name, age + 1 FROM Guys\"\"\").show()"
   ]
  }
 ],
 "metadata": {
  "kernelspec": {
   "display_name": "Python 2",
   "language": "python",
   "name": "python2"
  },
  "language_info": {
   "codemirror_mode": {
    "name": "ipython",
    "version": 2
   },
   "file_extension": ".py",
   "mimetype": "text/x-python",
   "name": "python",
   "nbconvert_exporter": "python",
   "pygments_lexer": "ipython2",
   "version": "2.7.5"
  }
 },
 "nbformat": 4,
 "nbformat_minor": 0
}
