{
 "cells": [
  {
   "cell_type": "markdown",
   "metadata": {},
   "source": [
    "# Jonathan Halverson\n",
    "# Saturday, February 10, 2018\n",
    "# Home prices in California in Spark 2"
   ]
  },
  {
   "cell_type": "markdown",
   "metadata": {},
   "source": [
    "In this notebook we perform linear regression and RF on some home prices."
   ]
  },
  {
   "cell_type": "code",
   "execution_count": 1,
   "metadata": {
    "collapsed": true
   },
   "outputs": [],
   "source": [
    "import matplotlib.pyplot as plt\n",
    "%matplotlib inline\n",
    "plt.style.use('halverson')"
   ]
  },
  {
   "cell_type": "code",
   "execution_count": 2,
   "metadata": {
    "collapsed": true
   },
   "outputs": [],
   "source": [
    "from pyspark.sql import SparkSession\n",
    "spark = SparkSession.builder.config(\"spark.driver.host\", \"localhost\").getOrCreate()"
   ]
  },
  {
   "cell_type": "code",
   "execution_count": 3,
   "metadata": {
    "collapsed": false
   },
   "outputs": [
    {
     "name": "stdout",
     "output_type": "stream",
     "text": [
      "+----------------+----------+-----+-----+----+-----+------+-----------+--------------------+-----+---------+-----------+\n",
      "|          street|      city|  zip|state|beds|baths|sq__ft|       type|           sale_date|price| latitude|  longitude|\n",
      "+----------------+----------+-----+-----+----+-----+------+-----------+--------------------+-----+---------+-----------+\n",
      "|    3526 HIGH ST|SACRAMENTO|95838|   CA|   2|    1|   836|Residential|Wed May 21 00:00:...|59222|38.631913|-121.434879|\n",
      "|     51 OMAHA CT|SACRAMENTO|95823|   CA|   3|    1|  1167|Residential|Wed May 21 00:00:...|68212|38.478902|-121.431028|\n",
      "|  2796 BRANCH ST|SACRAMENTO|95815|   CA|   2|    1|   796|Residential|Wed May 21 00:00:...|68880|38.618305|-121.443839|\n",
      "|2805 JANETTE WAY|SACRAMENTO|95815|   CA|   2|    1|   852|Residential|Wed May 21 00:00:...|69307|38.616835|-121.439146|\n",
      "| 6001 MCMAHON DR|SACRAMENTO|95824|   CA|   2|    1|   797|Residential|Wed May 21 00:00:...|81900| 38.51947|-121.435768|\n",
      "+----------------+----------+-----+-----+----+-----+------+-----------+--------------------+-----+---------+-----------+\n",
      "only showing top 5 rows\n",
      "\n"
     ]
    }
   ],
   "source": [
    "housing_raw = spark.read.csv('Sacramentorealestatetransactions.csv', inferSchema=True, header=True)\n",
    "housing_raw.show(5)"
   ]
  },
  {
   "cell_type": "code",
   "execution_count": 5,
   "metadata": {
    "collapsed": false
   },
   "outputs": [],
   "source": [
    "from pyspark.sql.functions import to_timestamp\n",
    "\n",
    "housing_raw = housing_raw.withColumn('sale_date', to_timestamp('sale_date', 'EEE MMM d H:mm:ss z yyyy'))"
   ]
  },
  {
   "cell_type": "code",
   "execution_count": 6,
   "metadata": {
    "collapsed": false
   },
   "outputs": [
    {
     "name": "stdout",
     "output_type": "stream",
     "text": [
      "root\n",
      " |-- street: string (nullable = true)\n",
      " |-- city: string (nullable = true)\n",
      " |-- zip: integer (nullable = true)\n",
      " |-- state: string (nullable = true)\n",
      " |-- beds: integer (nullable = true)\n",
      " |-- baths: integer (nullable = true)\n",
      " |-- sq__ft: integer (nullable = true)\n",
      " |-- type: string (nullable = true)\n",
      " |-- sale_date: timestamp (nullable = true)\n",
      " |-- price: integer (nullable = true)\n",
      " |-- latitude: double (nullable = true)\n",
      " |-- longitude: double (nullable = true)\n",
      "\n"
     ]
    }
   ],
   "source": [
    "housing_raw.printSchema()"
   ]
  },
  {
   "cell_type": "code",
   "execution_count": 9,
   "metadata": {
    "collapsed": false
   },
   "outputs": [
    {
     "name": "stdout",
     "output_type": "stream",
     "text": [
      "+-------------------+-----+\n",
      "|          sale_date|count|\n",
      "+-------------------+-----+\n",
      "|2008-05-19 00:00:00|  268|\n",
      "|2008-05-21 00:00:00|  158|\n",
      "|2008-05-15 00:00:00|  118|\n",
      "|2008-05-16 00:00:00|  264|\n",
      "|2008-05-20 00:00:00|  177|\n",
      "+-------------------+-----+\n",
      "\n"
     ]
    }
   ],
   "source": [
    "housing_raw.groupBy('sale_date').count().show()"
   ]
  },
  {
   "cell_type": "code",
   "execution_count": 10,
   "metadata": {
    "collapsed": false
   },
   "outputs": [
    {
     "name": "stdout",
     "output_type": "stream",
     "text": [
      "+-------+------------------+------------------+------------------+------------------+-------------------+\n",
      "|summary|              beds|             baths|            sq__ft|             price|           latitude|\n",
      "+-------+------------------+------------------+------------------+------------------+-------------------+\n",
      "|  count|               985|               985|               985|               985|                985|\n",
      "|   mean|2.9116751269035532|1.7766497461928934|1314.9167512690356|234144.26395939087| 38.607732086294504|\n",
      "| stddev|1.3079322320435807|0.8953714223186463| 853.0482425034448|138365.83908492787|0.14543287915296987|\n",
      "|    min|                 0|                 0|                 0|              1551|          38.241514|\n",
      "|    max|                 8|                 5|              5822|            884790|          39.020808|\n",
      "+-------+------------------+------------------+------------------+------------------+-------------------+\n",
      "\n"
     ]
    }
   ],
   "source": [
    "housing_raw.select('beds', 'baths', 'sq__ft', 'price', 'latitude').describe().show()"
   ]
  },
  {
   "cell_type": "code",
   "execution_count": 23,
   "metadata": {
    "collapsed": false
   },
   "outputs": [
    {
     "data": {
      "text/plain": [
       "985"
      ]
     },
     "execution_count": 23,
     "metadata": {},
     "output_type": "execute_result"
    }
   ],
   "source": [
    "housing_raw.count()"
   ]
  },
  {
   "cell_type": "code",
   "execution_count": 27,
   "metadata": {
    "collapsed": false
   },
   "outputs": [
    {
     "name": "stdout",
     "output_type": "stream",
     "text": [
      "<class 'pandas.core.frame.DataFrame'>\n",
      "RangeIndex: 985 entries, 0 to 984\n",
      "Data columns (total 12 columns):\n",
      "street       985 non-null object\n",
      "city         985 non-null object\n",
      "zip          985 non-null int64\n",
      "state        985 non-null object\n",
      "beds         985 non-null int64\n",
      "baths        985 non-null int64\n",
      "sq__ft       985 non-null int64\n",
      "type         985 non-null object\n",
      "sale_date    985 non-null datetime64[ns]\n",
      "price        985 non-null int64\n",
      "latitude     985 non-null float64\n",
      "longitude    985 non-null float64\n",
      "dtypes: datetime64[ns](1), float64(2), int64(5), object(4)\n",
      "memory usage: 92.4+ KB\n"
     ]
    }
   ],
   "source": [
    "housing_raw.toPandas().info()"
   ]
  },
  {
   "cell_type": "code",
   "execution_count": 26,
   "metadata": {
    "collapsed": false
   },
   "outputs": [
    {
     "data": {
      "text/plain": [
       "(array([  53.,   28.,   53.,  108.,  123.,  125.,  130.,   80.,   74.,\n",
       "          55.,   35.,   32.,   24.,   17.,   11.,    6.,   12.,    6.,\n",
       "           2.,    6.,    0.,    1.,    0.,    2.,    2.]),\n",
       " array([   1551.  ,   36880.56,   72210.12,  107539.68,  142869.24,\n",
       "         178198.8 ,  213528.36,  248857.92,  284187.48,  319517.04,\n",
       "         354846.6 ,  390176.16,  425505.72,  460835.28,  496164.84,\n",
       "         531494.4 ,  566823.96,  602153.52,  637483.08,  672812.64,\n",
       "         708142.2 ,  743471.76,  778801.32,  814130.88,  849460.44,  884790.  ]),\n",
       " <a list of 25 Patch objects>)"
      ]
     },
     "execution_count": 26,
     "metadata": {},
     "output_type": "execute_result"
    },
    {
     "data": {
      "image/png": "[encoded data removed]",
      "text/plain": [
       "<matplotlib.figure.Figure at 0x108fcde50>"
      ]
     },
     "metadata": {},
     "output_type": "display_data"
    }
   ],
   "source": [
    "plt.hist(housing_raw.select('price').toPandas().values, bins=25)"
   ]
  },
  {
   "cell_type": "markdown",
   "metadata": {},
   "source": [
    "We see in the table above that there are zero min values. Let's remove all homes with a zero:"
   ]
  },
  {
   "cell_type": "code",
   "execution_count": null,
   "metadata": {
    "collapsed": true
   },
   "outputs": [],
   "source": [
    "df = df[df.baths > 0]\n",
    "df = df[df.beds > 0]\n",
    "df = df[df.sqft > 0]"
   ]
  },
  {
   "cell_type": "code",
   "execution_count": null,
   "metadata": {
    "collapsed": true
   },
   "outputs": [],
   "source": [
    "import numpy as np\n",
    "import pandas as pd\n",
    "import matplotlib.pyplot as plt\n",
    "%matplotlib inline\n",
    "plt.style.use('halverson')"
   ]
  },
  {
   "cell_type": "code",
   "execution_count": null,
   "metadata": {
    "collapsed": false
   },
   "outputs": [],
   "source": [
    "pf = df.toPandas()"
   ]
  },
  {
   "cell_type": "code",
   "execution_count": null,
   "metadata": {
    "collapsed": false
   },
   "outputs": [],
   "source": [
    "plt.plot(pf['sqft'], pf['price'], 'wo')\n",
    "plt.xlabel('Square feet')\n",
    "plt.ylabel('Price')"
   ]
  },
  {
   "cell_type": "markdown",
   "metadata": {},
   "source": [
    "### Machine learning model"
   ]
  },
  {
   "cell_type": "code",
   "execution_count": null,
   "metadata": {
    "collapsed": true
   },
   "outputs": [],
   "source": [
    "from pyspark.mllib.regression import LinearRegressionWithSGD\n",
    "from pyspark.mllib.regression import LabeledPoint"
   ]
  },
  {
   "cell_type": "code",
   "execution_count": null,
   "metadata": {
    "collapsed": false
   },
   "outputs": [],
   "source": [
    "df = df.select('price','baths','beds','sqft')\n",
    "data_features = df.map(lambda x: x[1:])\n",
    "data_features.take(5)"
   ]
  },
  {
   "cell_type": "code",
   "execution_count": null,
   "metadata": {
    "collapsed": false
   },
   "outputs": [],
   "source": [
    "from pyspark.mllib.feature import StandardScaler\n",
    "stdsc = StandardScaler(withMean=False, withStd=True).fit(data_features)\n",
    "data_features_std = stdsc.transform(data_features)"
   ]
  },
  {
   "cell_type": "code",
   "execution_count": null,
   "metadata": {
    "collapsed": false
   },
   "outputs": [],
   "source": [
    "from pyspark.mllib.stat import Statistics\n",
    "data_features_std_stats = Statistics.colStats(data_features_std)\n",
    "print 'train means:', data_features_std_stats.mean()\n",
    "print 'train variances:', data_features_std_stats.variance()"
   ]
  },
  {
   "cell_type": "code",
   "execution_count": null,
   "metadata": {
    "collapsed": false
   },
   "outputs": [],
   "source": [
    "transformed_data = df.map(lambda x: x[0]).zip(data_features_std)\n",
    "transformed_data = transformed_data.map(lambda x: LabeledPoint(x[0], [x[1]]))\n",
    "transformed_data.take(5)"
   ]
  },
  {
   "cell_type": "markdown",
   "metadata": {},
   "source": [
    "Perform a train-test split:"
   ]
  },
  {
   "cell_type": "code",
   "execution_count": null,
   "metadata": {
    "collapsed": true
   },
   "outputs": [],
   "source": [
    "train_data, test_data = transformed_data.randomSplit([0.8, 0.2], seed=1234)"
   ]
  },
  {
   "cell_type": "code",
   "execution_count": null,
   "metadata": {
    "collapsed": false
   },
   "outputs": [],
   "source": [
    "linearModel = LinearRegressionWithSGD.train(train_data, iterations=1000, step=0.25, intercept=False)\n",
    "print linearModel.weights"
   ]
  },
  {
   "cell_type": "markdown",
   "metadata": {},
   "source": [
    "Note below that a LabeledPoint has features and label data members:"
   ]
  },
  {
   "cell_type": "code",
   "execution_count": null,
   "metadata": {
    "collapsed": false
   },
   "outputs": [],
   "source": [
    "from pyspark.mllib.evaluation import RegressionMetrics\n",
    "prediObserRDDin = train_data.map(lambda row: (float(linearModel.predict(row.features[0])), row.label))\n",
    "metrics = RegressionMetrics(prediObserRDDin)\n",
    "print metrics.r2"
   ]
  },
  {
   "cell_type": "code",
   "execution_count": null,
   "metadata": {
    "collapsed": false
   },
   "outputs": [],
   "source": [
    "prediObserRDDout = test_data.map(lambda row: (float(linearModel.predict(row.features[0])), row.label))\n",
    "metrics = RegressionMetrics(prediObserRDDout)\n",
    "print metrics.rootMeanSquaredError"
   ]
  }
 ],
 "metadata": {
  "kernelspec": {
   "display_name": "Python [default]",
   "language": "python",
   "name": "python2"
  },
  "language_info": {
   "codemirror_mode": {
    "name": "ipython",
    "version": 2
   },
   "file_extension": ".py",
   "mimetype": "text/x-python",
   "name": "python",
   "nbconvert_exporter": "python",
   "pygments_lexer": "ipython2",
   "version": "2.7.12"
  }
 },
 "nbformat": 4,
 "nbformat_minor": 0
}
