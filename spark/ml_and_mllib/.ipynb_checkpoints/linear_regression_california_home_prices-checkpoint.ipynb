{
 "cells": [
  {
   "cell_type": "markdown",
   "metadata": {},
   "source": [
    "# Jonathan Halverson\n",
    "# Saturday, February 10, 2018\n",
    "# Home prices in California in Spark 2"
   ]
  },
  {
   "cell_type": "markdown",
   "metadata": {},
   "source": [
    "In this notebook we perform linear regression on some home prices. Several tools are used including Spark with MLlib and Pandas."
   ]
  },
  {
   "cell_type": "code",
   "execution_count": 1,
   "metadata": {
    "collapsed": true
   },
   "outputs": [],
   "source": [
    "import matplotlib.pyplot as plt\n",
    "%matplotlib inline\n",
    "plt.style.use('halverson')"
   ]
  },
  {
   "cell_type": "code",
   "execution_count": 2,
   "metadata": {
    "collapsed": true
   },
   "outputs": [],
   "source": [
    "from pyspark.sql import SparkSession\n",
    "spark = SparkSession.builder.config(\"spark.driver.host\", \"localhost\").getOrCreate()"
   ]
  },
  {
   "cell_type": "code",
   "execution_count": null,
   "metadata": {
    "collapsed": true
   },
   "outputs": [],
   "source": [
    "housing_raw = spark.read.csv('Sacramentorealestatetransactions.csv')"
   ]
  },
  {
   "cell_type": "code",
   "execution_count": 26,
   "metadata": {
    "collapsed": false
   },
   "outputs": [
    {
     "data": {
      "text/plain": [
       "[[u'street',\n",
       "  u'city',\n",
       "  u'zip',\n",
       "  u'state',\n",
       "  u'beds',\n",
       "  u'baths',\n",
       "  u'sq__ft',\n",
       "  u'type',\n",
       "  u'sale_date',\n",
       "  u'price',\n",
       "  u'latitude',\n",
       "  u'longitude'],\n",
       " [u'3526 HIGH ST',\n",
       "  u'SACRAMENTO',\n",
       "  u'95838',\n",
       "  u'CA',\n",
       "  u'2',\n",
       "  u'1',\n",
       "  u'836',\n",
       "  u'Residential',\n",
       "  u'Wed May 21 00:00:00 EDT 2008',\n",
       "  u'59222',\n",
       "  u'38.631913',\n",
       "  u'-121.434879']]"
      ]
     },
     "execution_count": 26,
     "metadata": {},
     "output_type": "execute_result"
    }
   ],
   "source": [
    "str_lines = sc.textFile('Sacramentorealestatetransactions.csv')\n",
    "homes = str_lines.map(lambda x: x.split(','))\n",
    "homes.take(2)"
   ]
  },
  {
   "cell_type": "markdown",
   "metadata": {},
   "source": [
    "Remove the header from the RDD:"
   ]
  },
  {
   "cell_type": "code",
   "execution_count": 27,
   "metadata": {
    "collapsed": false
   },
   "outputs": [
    {
     "data": {
      "text/plain": [
       "985"
      ]
     },
     "execution_count": 27,
     "metadata": {},
     "output_type": "execute_result"
    }
   ],
   "source": [
    "header = homes.first()\n",
    "homes = homes.filter(lambda line: line != header)\n",
    "homes.count()"
   ]
  },
  {
   "cell_type": "code",
   "execution_count": 49,
   "metadata": {
    "collapsed": false
   },
   "outputs": [],
   "source": [
    "# this function fails for the homes data but works in the example below\n",
    "def makeRow(x):\n",
    "    s = ''\n",
    "    for i, item in enumerate(header):\n",
    "        s += item + '=x[' + str(i) + '],'\n",
    "    return eval('Row(' + s[:-1] + ')')"
   ]
  },
  {
   "cell_type": "code",
   "execution_count": 50,
   "metadata": {
    "collapsed": false
   },
   "outputs": [
    {
     "name": "stdout",
     "output_type": "stream",
     "text": [
      "5\n"
     ]
    }
   ],
   "source": [
    "r = makeRow(range(20))\n",
    "print r.baths"
   ]
  },
  {
   "cell_type": "code",
   "execution_count": 30,
   "metadata": {
    "collapsed": false
   },
   "outputs": [],
   "source": [
    "def makeRow2(x):\n",
    "    return Row(street=x[0], city=x[1], zipcode=int(x[2]), beds=int(x[4]), baths=int(x[5]), sqft=int(x[6]), price=int(x[9]))"
   ]
  },
  {
   "cell_type": "markdown",
   "metadata": {},
   "source": [
    "Create a DataFrame which is an RDD of Row objects:"
   ]
  },
  {
   "cell_type": "code",
   "execution_count": 31,
   "metadata": {
    "collapsed": false
   },
   "outputs": [
    {
     "name": "stdout",
     "output_type": "stream",
     "text": [
      "root\n",
      " |-- baths: long (nullable = true)\n",
      " |-- beds: long (nullable = true)\n",
      " |-- city: string (nullable = true)\n",
      " |-- price: long (nullable = true)\n",
      " |-- sqft: long (nullable = true)\n",
      " |-- street: string (nullable = true)\n",
      " |-- zipcode: long (nullable = true)\n",
      "\n"
     ]
    }
   ],
   "source": [
    "df = homes.map(makeRow2).toDF()\n",
    "df.printSchema()"
   ]
  },
  {
   "cell_type": "code",
   "execution_count": 32,
   "metadata": {
    "collapsed": false
   },
   "outputs": [
    {
     "name": "stdout",
     "output_type": "stream",
     "text": [
      "+-----+----+--------------+------+----+--------------------+-------+\n",
      "|baths|beds|          city| price|sqft|              street|zipcode|\n",
      "+-----+----+--------------+------+----+--------------------+-------+\n",
      "|    1|   2|    SACRAMENTO| 59222| 836|        3526 HIGH ST|  95838|\n",
      "|    1|   3|    SACRAMENTO| 68212|1167|         51 OMAHA CT|  95823|\n",
      "|    1|   2|    SACRAMENTO| 68880| 796|      2796 BRANCH ST|  95815|\n",
      "|    1|   2|    SACRAMENTO| 69307| 852|    2805 JANETTE WAY|  95815|\n",
      "|    1|   2|    SACRAMENTO| 81900| 797|     6001 MCMAHON DR|  95824|\n",
      "|    1|   3|    SACRAMENTO| 89921|1122|  5828 PEPPERMILL CT|  95841|\n",
      "|    2|   3|    SACRAMENTO| 90895|1104| 6048 OGDEN NASH WAY|  95842|\n",
      "|    1|   3|    SACRAMENTO| 91002|1177|       2561 19TH AVE|  95820|\n",
      "|    2|   2|RANCHO CORDOVA| 94905| 941|11150 TRINITY RIV...|  95670|\n",
      "|    2|   3|     RIO LINDA| 98937|1146|        7325 10TH ST|  95673|\n",
      "|    2|   3|    SACRAMENTO|100309| 909|    645 MORRISON AVE|  95838|\n",
      "|    2|   3|    SACRAMENTO|106250|1289|       4085 FAWN CIR|  95823|\n",
      "|    1|   1|    SACRAMENTO|106852| 871|     2930 LA ROSA RD|  95815|\n",
      "|    1|   3|    SACRAMENTO|107502|1020|       2113 KIRK WAY|  95822|\n",
      "|    2|   2|    SACRAMENTO|108750|1022| 4533 LOCH HAVEN WAY|  95842|\n",
      "|    2|   2|    SACRAMENTO|110700|1134|      7340 HAMDEN PL|  95842|\n",
      "|    1|   2|     RIO LINDA|113263| 844|         6715 6TH ST|  95673|\n",
      "|    1|   2|CITRUS HEIGHTS|116250| 795|6236 LONGFORD DR ...|  95621|\n",
      "|    1|   2|    SACRAMENTO|120000| 588|     250 PERALTA AVE|  95833|\n",
      "|    2|   3|     RIO LINDA|121630|1356|     113 LEEWILL AVE|  95673|\n",
      "+-----+----+--------------+------+----+--------------------+-------+\n",
      "only showing top 20 rows\n",
      "\n"
     ]
    }
   ],
   "source": [
    "df.show()"
   ]
  },
  {
   "cell_type": "code",
   "execution_count": 33,
   "metadata": {
    "collapsed": false
   },
   "outputs": [
    {
     "name": "stdout",
     "output_type": "stream",
     "text": [
      "+----------+----+\n",
      "|      city|beds|\n",
      "+----------+----+\n",
      "|SACRAMENTO|   2|\n",
      "|SACRAMENTO|   3|\n",
      "|SACRAMENTO|   2|\n",
      "|SACRAMENTO|   2|\n",
      "|SACRAMENTO|   2|\n",
      "+----------+----+\n",
      "only showing top 5 rows\n",
      "\n"
     ]
    }
   ],
   "source": [
    "df.select('city', 'beds').show(5)"
   ]
  },
  {
   "cell_type": "code",
   "execution_count": 34,
   "metadata": {
    "collapsed": false
   },
   "outputs": [
    {
     "name": "stdout",
     "output_type": "stream",
     "text": [
      "+----+-----+\n",
      "|beds|count|\n",
      "+----+-----+\n",
      "|   0|  108|\n",
      "|   1|   10|\n",
      "|   2|  133|\n",
      "|   3|  413|\n",
      "|   4|  258|\n",
      "|   5|   59|\n",
      "|   6|    3|\n",
      "|   8|    1|\n",
      "+----+-----+\n",
      "\n"
     ]
    }
   ],
   "source": [
    "df.groupBy('beds').count().show()"
   ]
  },
  {
   "cell_type": "code",
   "execution_count": 35,
   "metadata": {
    "collapsed": false
   },
   "outputs": [
    {
     "name": "stdout",
     "output_type": "stream",
     "text": [
      "+-------+------------------+------------------+------------------+------------------+-----------------+\n",
      "|summary|             baths|              beds|             price|              sqft|          zipcode|\n",
      "+-------+------------------+------------------+------------------+------------------+-----------------+\n",
      "|  count|               985|               985|               985|               985|              985|\n",
      "|   mean|1.7766497461928934|2.9116751269035532|234144.26395939087|1314.9167512690356|95750.69746192894|\n",
      "| stddev| 0.895371422318646|1.3079322320435811|  138365.839084928| 853.0482425034447|85.17607208452108|\n",
      "|    min|                 0|                 0|              1551|                 0|            95603|\n",
      "|    max|                 5|                 8|            884790|              5822|            95864|\n",
      "+-------+------------------+------------------+------------------+------------------+-----------------+\n",
      "\n"
     ]
    }
   ],
   "source": [
    "df.describe().show()"
   ]
  },
  {
   "cell_type": "markdown",
   "metadata": {},
   "source": [
    "We see in the table above that there are zero min values. Let's remove all homes with a zero:"
   ]
  },
  {
   "cell_type": "code",
   "execution_count": 36,
   "metadata": {
    "collapsed": true
   },
   "outputs": [],
   "source": [
    "df = df[df.baths > 0]\n",
    "df = df[df.beds > 0]\n",
    "df = df[df.sqft > 0]"
   ]
  },
  {
   "cell_type": "code",
   "execution_count": 37,
   "metadata": {
    "collapsed": true
   },
   "outputs": [],
   "source": [
    "import numpy as np\n",
    "import pandas as pd\n",
    "import matplotlib.pyplot as plt\n",
    "%matplotlib inline\n",
    "plt.style.use('halverson')"
   ]
  },
  {
   "cell_type": "code",
   "execution_count": 38,
   "metadata": {
    "collapsed": false
   },
   "outputs": [],
   "source": [
    "pf = df.toPandas()"
   ]
  },
  {
   "cell_type": "code",
   "execution_count": 39,
   "metadata": {
    "collapsed": false
   },
   "outputs": [
    {
     "data": {
      "text/plain": [
       "<matplotlib.text.Text at 0x116144c50>"
      ]
     },
     "execution_count": 39,
     "metadata": {},
     "output_type": "execute_result"
    },
    {
     "data": {
      "image/png": "[encoded data removed]",
      "text/plain": [
       "<matplotlib.figure.Figure at 0x116117990>"
      ]
     },
     "metadata": {},
     "output_type": "display_data"
    }
   ],
   "source": [
    "plt.plot(pf['sqft'], pf['price'], 'wo')\n",
    "plt.xlabel('Square feet')\n",
    "plt.ylabel('Price')"
   ]
  },
  {
   "cell_type": "markdown",
   "metadata": {},
   "source": [
    "### Machine learning model"
   ]
  },
  {
   "cell_type": "code",
   "execution_count": 40,
   "metadata": {
    "collapsed": true
   },
   "outputs": [],
   "source": [
    "from pyspark.mllib.regression import LinearRegressionWithSGD\n",
    "from pyspark.mllib.regression import LabeledPoint"
   ]
  },
  {
   "cell_type": "code",
   "execution_count": 41,
   "metadata": {
    "collapsed": false
   },
   "outputs": [
    {
     "data": {
      "text/plain": [
       "[(1, 2, 836), (1, 3, 1167), (1, 2, 796), (1, 2, 852), (1, 2, 797)]"
      ]
     },
     "execution_count": 41,
     "metadata": {},
     "output_type": "execute_result"
    }
   ],
   "source": [
    "df = df.select('price','baths','beds','sqft')\n",
    "data_features = df.map(lambda x: x[1:])\n",
    "data_features.take(5)"
   ]
  },
  {
   "cell_type": "code",
   "execution_count": 42,
   "metadata": {
    "collapsed": false
   },
   "outputs": [],
   "source": [
    "from pyspark.mllib.feature import StandardScaler\n",
    "stdsc = StandardScaler(withMean=False, withStd=True).fit(data_features)\n",
    "data_features_std = stdsc.transform(data_features)"
   ]
  },
  {
   "cell_type": "code",
   "execution_count": 43,
   "metadata": {
    "collapsed": false
   },
   "outputs": [
    {
     "name": "stdout",
     "output_type": "stream",
     "text": [
      "train means: [ 2.92725704  3.80745203  2.3968751 ]\n",
      "train variances: [ 1.  1.  1.]\n"
     ]
    }
   ],
   "source": [
    "from pyspark.mllib.stat import Statistics\n",
    "data_features_std_stats = Statistics.colStats(data_features_std)\n",
    "print 'train means:', data_features_std_stats.mean()\n",
    "print 'train variances:', data_features_std_stats.variance()"
   ]
  },
  {
   "cell_type": "code",
   "execution_count": 44,
   "metadata": {
    "collapsed": false
   },
   "outputs": [
    {
     "data": {
      "text/plain": [
       "[LabeledPoint(59222.0, [1.49297445326,2.34703972035,1.25933593899]),\n",
       " LabeledPoint(68212.0, [1.49297445326,3.52055958053,1.7579486134]),\n",
       " LabeledPoint(68880.0, [1.49297445326,2.34703972035,1.19908063091]),\n",
       " LabeledPoint(69307.0, [1.49297445326,2.34703972035,1.28343806223]),\n",
       " LabeledPoint(81900.0, [1.49297445326,2.34703972035,1.20058701361])]"
      ]
     },
     "execution_count": 44,
     "metadata": {},
     "output_type": "execute_result"
    }
   ],
   "source": [
    "transformed_data = df.map(lambda x: x[0]).zip(data_features_std)\n",
    "transformed_data = transformed_data.map(lambda x: LabeledPoint(x[0], [x[1]]))\n",
    "transformed_data.take(5)"
   ]
  },
  {
   "cell_type": "markdown",
   "metadata": {},
   "source": [
    "Perform a train-test split:"
   ]
  },
  {
   "cell_type": "code",
   "execution_count": 45,
   "metadata": {
    "collapsed": true
   },
   "outputs": [],
   "source": [
    "train_data, test_data = transformed_data.randomSplit([0.8, 0.2], seed=1234)"
   ]
  },
  {
   "cell_type": "code",
   "execution_count": 46,
   "metadata": {
    "collapsed": false
   },
   "outputs": [
    {
     "name": "stdout",
     "output_type": "stream",
     "text": [
      "[14096.7211335,2766.18376027,72985.7032775]\n"
     ]
    }
   ],
   "source": [
    "linearModel = LinearRegressionWithSGD.train(train_data, iterations=1000, step=0.25, intercept=False)\n",
    "print linearModel.weights"
   ]
  },
  {
   "cell_type": "markdown",
   "metadata": {},
   "source": [
    "Note below that a LabeledPoint has features and label data members:"
   ]
  },
  {
   "cell_type": "code",
   "execution_count": 47,
   "metadata": {
    "collapsed": false
   },
   "outputs": [
    {
     "name": "stdout",
     "output_type": "stream",
     "text": [
      "0.498641023218\n"
     ]
    }
   ],
   "source": [
    "from pyspark.mllib.evaluation import RegressionMetrics\n",
    "prediObserRDDin = train_data.map(lambda row: (float(linearModel.predict(row.features[0])), row.label))\n",
    "metrics = RegressionMetrics(prediObserRDDin)\n",
    "print metrics.r2"
   ]
  },
  {
   "cell_type": "code",
   "execution_count": 48,
   "metadata": {
    "collapsed": false
   },
   "outputs": [
    {
     "name": "stdout",
     "output_type": "stream",
     "text": [
      "94671.1388167\n"
     ]
    }
   ],
   "source": [
    "prediObserRDDout = test_data.map(lambda row: (float(linearModel.predict(row.features[0])), row.label))\n",
    "metrics = RegressionMetrics(prediObserRDDout)\n",
    "print metrics.rootMeanSquaredError"
   ]
  }
 ],
 "metadata": {
  "kernelspec": {
   "display_name": "Python [default]",
   "language": "python",
   "name": "python2"
  },
  "language_info": {
   "codemirror_mode": {
    "name": "ipython",
    "version": 2
   },
   "file_extension": ".py",
   "mimetype": "text/x-python",
   "name": "python",
   "nbconvert_exporter": "python",
   "pygments_lexer": "ipython2",
   "version": "2.7.12"
  }
 },
 "nbformat": 4,
 "nbformat_minor": 0
}
