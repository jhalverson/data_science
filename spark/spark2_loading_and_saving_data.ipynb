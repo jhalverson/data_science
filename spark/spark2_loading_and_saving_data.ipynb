{
 "cells": [
  {
   "cell_type": "markdown",
   "metadata": {
    "collapsed": true
   },
   "source": [
    "# Jonathan Halverson\n",
    "# Wednesday, May 4, 2016 (Updated Feb. 18, 2018)\n",
    "# Loading and saving data"
   ]
  },
  {
   "cell_type": "code",
   "execution_count": 1,
   "metadata": {
    "collapsed": true
   },
   "outputs": [],
   "source": [
    "from pyspark.sql import SparkSession\n",
    "spark = SparkSession.builder.appName(\"AppName\").getOrCreate()"
   ]
  },
  {
   "cell_type": "markdown",
   "metadata": {},
   "source": [
    "### Text files"
   ]
  },
  {
   "cell_type": "code",
   "execution_count": 3,
   "metadata": {
    "collapsed": false
   },
   "outputs": [
    {
     "name": "stdout",
     "output_type": "stream",
     "text": [
      "95\n",
      "Row(value=u'# Apache Spark')\n"
     ]
    }
   ],
   "source": [
    "# create an RDD of a string per line in the text file\n",
    "lines = spark.read.text('text_file.md')\n",
    "print lines.count()\n",
    "print lines.first()"
   ]
  },
  {
   "cell_type": "code",
   "execution_count": 9,
   "metadata": {
    "collapsed": false
   },
   "outputs": [
    {
     "data": {
      "text/plain": [
       "[Row(value=u'120419954,ALARMH,ROBBERY,03xx,B2,276,07/08/2012 04:36:00 PM,Knife,No,No,First,2012,7,Sunday,Part One,768918.0261,2946746.413,SHAWMUT AV,,\"(42.33326635, -71.08299956)\"'),\n",
       " Row(value=u'120420460,PKNIFE,AGGRAVATED ASSAULT,04xx,D14,755,07/08/2012 09:24:00 PM,Knife,No,No,First,2012,7,Sunday,Part One,744525.8777,2953176.035,TREMONT ST,,\"(42.35120135, -71.17311952)\"')]"
      ]
     },
     "execution_count": 9,
     "metadata": {},
     "output_type": "execute_result"
    }
   ],
   "source": [
    "# example of treating a CSV file like a textfile\n",
    "crimes = spark.read.text('Crime_Incident_Reports_no_header.csv')\n",
    "knife = crimes.rdd.filter(lambda row: 'knife' in row.value.lower())\n",
    "knife.take(2)"
   ]
  },
  {
   "cell_type": "code",
   "execution_count": 8,
   "metadata": {
    "collapsed": false
   },
   "outputs": [
    {
     "name": "stdout",
     "output_type": "stream",
     "text": [
      "+--------------------+\n",
      "|               value|\n",
      "+--------------------+\n",
      "|120419954,ALARMH,...|\n",
      "|120420460,PKNIFE,...|\n",
      "+--------------------+\n",
      "only showing top 2 rows\n",
      "\n"
     ]
    }
   ],
   "source": [
    "crimes.filter(crimes.value.contains('Knife')).show(2)"
   ]
  },
  {
   "cell_type": "code",
   "execution_count": 6,
   "metadata": {
    "collapsed": false
   },
   "outputs": [],
   "source": [
    "knife.saveAsTextFile('./saveAs')"
   ]
  },
  {
   "cell_type": "code",
   "execution_count": 13,
   "metadata": {
    "collapsed": false
   },
   "outputs": [
    {
     "name": "stdout",
     "output_type": "stream",
     "text": [
      "2\n",
      "[(u'file:/Users/jhalverson/data_science/spark/text_files/file1.txt', u'Cake\\nPudding\\nCupcakes\\nIce cream\\n'), (u'file:/Users/jhalverson/data_science/spark/text_files/file2.txt', u'David Bradshaw, 34, USA\\nDug Williams, 44, USA\\nChad Kneelville, 91, Brazil\\n')]\n"
     ]
    }
   ],
   "source": [
    "# the key is the file name and value the contents of the file\n",
    "input = spark.sparkContext.wholeTextFiles('text_files')\n",
    "print input.count()\n",
    "print input.collect()"
   ]
  },
  {
   "cell_type": "code",
   "execution_count": 14,
   "metadata": {
    "collapsed": false
   },
   "outputs": [
    {
     "data": {
      "text/plain": [
       "[[u'Cake', u'Pudding', u'Cupcakes', u'Ice', u'cream'],\n",
       " [u'David',\n",
       "  u'Bradshaw,',\n",
       "  u'34,',\n",
       "  u'USA',\n",
       "  u'Dug',\n",
       "  u'Williams,',\n",
       "  u'44,',\n",
       "  u'USA',\n",
       "  u'Chad',\n",
       "  u'Kneelville,',\n",
       "  u'91,',\n",
       "  u'Brazil']]"
      ]
     },
     "execution_count": 14,
     "metadata": {},
     "output_type": "execute_result"
    }
   ],
   "source": [
    "input.mapValues(lambda line: line.split()).values().collect()"
   ]
  },
  {
   "cell_type": "markdown",
   "metadata": {},
   "source": [
    "Use saveAsTextFile for writing both CSV and JSON. Use the json.dumps method on each line, for instance."
   ]
  },
  {
   "cell_type": "markdown",
   "metadata": {},
   "source": [
    "### JSON"
   ]
  },
  {
   "cell_type": "code",
   "execution_count": 31,
   "metadata": {
    "collapsed": true
   },
   "outputs": [],
   "source": [
    "import json"
   ]
  },
  {
   "cell_type": "code",
   "execution_count": 33,
   "metadata": {
    "collapsed": false
   },
   "outputs": [
    {
     "data": {
      "text/plain": [
       "{u'glossary': {u'GlossDiv': {u'GlossList': {u'GlossEntry': {u'Abbrev': u'ISO 8879:1986',\n",
       "     u'Acronym': u'SGML',\n",
       "     u'GlossDef': {u'GlossSeeAlso': [u'GML', u'XML'],\n",
       "      u'para': u'A meta-markup language, used to create markup languages such as DocBook.'},\n",
       "     u'GlossSee': u'markup',\n",
       "     u'GlossTerm': u'Standard Generalized Markup Language',\n",
       "     u'ID': u'SGML',\n",
       "     u'SortAs': u'SGML'}},\n",
       "   u'title': u'S'},\n",
       "  u'title': u'example glossary'}}"
      ]
     },
     "execution_count": 33,
     "metadata": {},
     "output_type": "execute_result"
    }
   ],
   "source": [
    "with open('book.json', 'r') as f:\n",
    "     data = json.load(f)\n",
    "data"
   ]
  },
  {
   "cell_type": "code",
   "execution_count": 39,
   "metadata": {
    "collapsed": false
   },
   "outputs": [
    {
     "name": "stdout",
     "output_type": "stream",
     "text": [
      "2\n"
     ]
    }
   ],
   "source": [
    "# to read JSON, it is best to read as the text file and then parse\n",
    "lines = spark.read.text('person2.json')\n",
    "print lines.count()"
   ]
  },
  {
   "cell_type": "code",
   "execution_count": 40,
   "metadata": {
    "collapsed": false
   },
   "outputs": [
    {
     "name": "stdout",
     "output_type": "stream",
     "text": [
      "+--------------------+\n",
      "|               value|\n",
      "+--------------------+\n",
      "|{\"firstName\": \"Jo...|\n",
      "|{\"firstName\": \"Ji...|\n",
      "+--------------------+\n",
      "\n"
     ]
    }
   ],
   "source": [
    "lines.show()"
   ]
  },
  {
   "cell_type": "code",
   "execution_count": 41,
   "metadata": {
    "collapsed": false
   },
   "outputs": [
    {
     "name": "stdout",
     "output_type": "stream",
     "text": [
      "root\n",
      " |-- value: string (nullable = true)\n",
      "\n"
     ]
    }
   ],
   "source": [
    "lines.printSchema()"
   ]
  },
  {
   "cell_type": "code",
   "execution_count": 43,
   "metadata": {
    "collapsed": false
   },
   "outputs": [
    {
     "name": "stdout",
     "output_type": "stream",
     "text": [
      "2\n",
      "{u'lastName': u'Smith', u'phoneNumbers': [{u'type': u'home', u'number': u'212 555-1234'}], u'firstName': u'John', u'address': {u'postalCode': u'10021', u'city': u'New York', u'state': u'NY'}}\n"
     ]
    }
   ],
   "source": [
    "import json\n",
    "data = lines.rdd.map(lambda row: json.loads(row.value))\n",
    "print data.count()\n",
    "print data.first()"
   ]
  },
  {
   "cell_type": "code",
   "execution_count": 44,
   "metadata": {
    "collapsed": false
   },
   "outputs": [
    {
     "data": {
      "text/plain": [
       "[{u'address': {u'city': u'Buffalo', u'postalCode': u'10541', u'state': u'NY'},\n",
       "  u'firstName': u'Jimmy',\n",
       "  u'lastName': u'Cutts',\n",
       "  u'phoneNumbers': [{u'number': u'567 555-4991', u'type': u'home'}]}]"
      ]
     },
     "execution_count": 44,
     "metadata": {},
     "output_type": "execute_result"
    }
   ],
   "source": [
    "data.filter(lambda x: x['lastName'] == 'Cutts').collect()"
   ]
  },
  {
   "cell_type": "code",
   "execution_count": 47,
   "metadata": {
    "collapsed": false
   },
   "outputs": [
    {
     "data": {
      "text/plain": [
       "[{'COMPNOS': \"Row(value=u'120420285\",\n",
       "  'DAY_WEEK': 'Sunday',\n",
       "  'DOMESTIC': 'No',\n",
       "  'FROMDATE': '07/08/2012 06:00:00 AM',\n",
       "  'INCIDENT_TYPE_DESCRIPTION': 'RESIDENTIAL BURGLARY',\n",
       "  'Location': \"(42.34638135, -71.10379454)')\",\n",
       "  'MAIN_CRIMECODE': '05RB',\n",
       "  'Month': '7',\n",
       "  'NatureCode': 'BERPTA',\n",
       "  'REPORTINGAREA': '629',\n",
       "  'REPTDISTRICT': 'D4',\n",
       "  'SHIFT': 'Last',\n",
       "  'STREETNAME': 'ABERDEEN ST',\n",
       "  'Shooting': 'No',\n",
       "  'UCRPART': 'Part One',\n",
       "  'WEAPONTYPE': 'Other',\n",
       "  'X': '763273.1791',\n",
       "  'XSTREETNAME': '',\n",
       "  'Y': '2951498.962',\n",
       "  'Year': '2012'},\n",
       " {'COMPNOS': \"Row(value=u'120419202\",\n",
       "  'DAY_WEEK': 'Sunday',\n",
       "  'DOMESTIC': 'No',\n",
       "  'FROMDATE': '07/08/2012 06:03:00 AM',\n",
       "  'INCIDENT_TYPE_DESCRIPTION': 'AGGRAVATED ASSAULT',\n",
       "  'Location': \"(42.31684135, -71.07458456)')\",\n",
       "  'MAIN_CRIMECODE': '04xx',\n",
       "  'Month': '7',\n",
       "  'NatureCode': 'PSHOT ',\n",
       "  'REPORTINGAREA': '327',\n",
       "  'REPTDISTRICT': 'B2',\n",
       "  'SHIFT': 'Last',\n",
       "  'STREETNAME': 'HOWARD AV',\n",
       "  'Shooting': 'Yes',\n",
       "  'UCRPART': 'Part One',\n",
       "  'WEAPONTYPE': 'Firearm',\n",
       "  'X': '771223.1638',\n",
       "  'XSTREETNAME': '',\n",
       "  'Y': '2940772.099',\n",
       "  'Year': '2012'}]"
      ]
     },
     "execution_count": 47,
     "metadata": {},
     "output_type": "execute_result"
    }
   ],
   "source": [
    "import csv\n",
    "import StringIO\n",
    "\n",
    "# approach works best when the header is removed from the csv file\n",
    "header = ['COMPNOS', 'NatureCode', 'INCIDENT_TYPE_DESCRIPTION', 'MAIN_CRIMECODE', 'REPTDISTRICT',\n",
    "          'REPORTINGAREA', 'FROMDATE', 'WEAPONTYPE', 'Shooting', 'DOMESTIC', 'SHIFT', 'Year',\n",
    "          'Month', 'DAY_WEEK', 'UCRPART', 'X', 'Y', 'STREETNAME', 'XSTREETNAME', 'Location']\n",
    "filename = '/Users/jhalverson/data_science/spark/Crime_Incident_Reports.csv'\n",
    "filename = '/Users/jhalverson/data_science/spark/Crime_Incident_Reports_no_header.csv'\n",
    "if 0:\n",
    "     header = []\n",
    "     filename = '/Users/jhalverson/data_science/spark/Crime_Incident_Reports_no_header.csv'\n",
    "\n",
    "def loadRecord(line):\n",
    "     sline = StringIO.StringIO(line)\n",
    "     reader = csv.DictReader(sline, fieldnames=header)\n",
    "     return reader.next()\n",
    "\n",
    "crimes = spark.read.text(filename).rdd.map(loadRecord)\n",
    "crimes.take(2)"
   ]
  },
  {
   "cell_type": "code",
   "execution_count": 52,
   "metadata": {
    "collapsed": false
   },
   "outputs": [
    {
     "name": "stdout",
     "output_type": "stream",
     "text": [
      "+---------+------+--------------------+---------+---+---+--------------------+-------+---+---+----+----+----+------+----------+-----------+-----------+-------------+--------------+--------------------+\n",
      "|      _c0|   _c1|                 _c2|      _c3|_c4|_c5|                 _c6|    _c7|_c8|_c9|_c10|_c11|_c12|  _c13|      _c14|       _c15|       _c16|         _c17|          _c18|                _c19|\n",
      "+---------+------+--------------------+---------+---+---+--------------------+-------+---+---+----+----+----+------+----------+-----------+-----------+-------------+--------------+--------------------+\n",
      "|120420285|BERPTA|RESIDENTIAL BURGLARY|     05RB| D4|629|07/08/2012 06:00:...|  Other| No| No|Last|2012|   7|Sunday|  Part One|763273.1791|2951498.962|  ABERDEEN ST|          null|(42.34638135, -71...|\n",
      "|120419202|PSHOT |  AGGRAVATED ASSAULT|     04xx| B2|327|07/08/2012 06:03:...|Firearm|Yes| No|Last|2012|   7|Sunday|  Part One|771223.1638|2940772.099|    HOWARD AV|          null|(42.31684135, -71...|\n",
      "|120419213|ARMROB|             ROBBERY|     03xx| D4|625|07/08/2012 06:26:...|Firearm| No| No|Last|2012|   7|Sunday|  Part One|765118.8605|2950217.536|    JERSEY ST|QUEENSBERRY ST|(42.34284135, -71...|\n",
      "|120419223|ALARMC| COMMERCIAL BURGLARY|     05CB| B2|258|07/08/2012 06:56:...|  Other| No| No|Last|2012|   7|Sunday|  Part One|773591.8648|2940638.174|  COLUMBIA RD|          null|(42.3164411, -71....|\n",
      "|120419236|ARMROB|             ROBBERY|     03xx|E18|496|07/08/2012 07:15:...|Firearm| No| No|Last|2012|   7|Sunday|  Part One|759042.7315|2923832.681|   COLLINS ST|          null|(42.27051636, -71...|\n",
      "|120419239|SHOT  |             ROBBERY|     03xx|C11|249|07/08/2012 07:32:...|Firearm|Yes| No| Day|2012|   7|Sunday|  Part One|777066.0032|2939504.801|    SYDNEY ST|          null|(42.31328183, -71...|\n",
      "|120419257|ARMROB|             ROBBERY|     03xx| B2|295|07/08/2012 07:50:...|Firearm| No| No| Day|2012|   7|Sunday|  Part One|768066.0298|2943456.962|    REGENT ST|     HERMAN ST|(42.32425136, -71...|\n",
      "|120419424|THREAT|      SIMPLE ASSAULT|     08xx| A1|123|07/08/2012 07:50:...|Unarmed| No| No| Day|2012|   7|Sunday|  Part Two|774083.6785|2952595.797|WASHINGTON ST|          null|(42.34924634, -71...|\n",
      "|120419255|REQP  |           MedAssist|MedAssist|D14|759|07/08/2012 07:53:...|Unarmed| No| No| Day|2012|   7|Sunday|Part Three|746474.0254|2953382.196|   FANEUIL ST|          null|(42.35174635, -71...|\n",
      "|120419274|ALARMI|           MedAssist|MedAssist|E18|494|07/08/2012 08:05:...|Unarmed| No| No| Day|2012|   7|Sunday|Part Three|759766.2593|2919778.597|     RIVER ST|          null|(42.25938275, -71...|\n",
      "+---------+------+--------------------+---------+---+---+--------------------+-------+---+---+----+----+----+------+----------+-----------+-----------+-------------+--------------+--------------------+\n",
      "only showing top 10 rows\n",
      "\n"
     ]
    }
   ],
   "source": [
    "crimes = spark.read.csv(filename, header=False, inferSchema=True)\n",
    "crimes.show(10)"
   ]
  },
  {
   "cell_type": "code",
   "execution_count": 57,
   "metadata": {
    "collapsed": false
   },
   "outputs": [
    {
     "name": "stdout",
     "output_type": "stream",
     "text": [
      "+--------------------+--------+\n",
      "|                 _c7|count(1)|\n",
      "+--------------------+--------+\n",
      "|             Unarmed|  194932|\n",
      "|                None|   11319|\n",
      "|               Other|   52102|\n",
      "|             Firearm|    5299|\n",
      "|Personal Weapon (...|     282|\n",
      "|               Knife|    3867|\n",
      "|Knife/Cutting Ins...|     177|\n",
      "|        Blunt Object|      78|\n",
      "+--------------------+--------+\n",
      "\n"
     ]
    }
   ],
   "source": [
    "from pyspark.sql import functions as F\n",
    "crimes.groupby('_c7').agg(F.count('*')).show()"
   ]
  },
  {
   "cell_type": "code",
   "execution_count": 55,
   "metadata": {
    "collapsed": false
   },
   "outputs": [
    {
     "data": {
      "text/plain": [
       "[(u'None', 11319),\n",
       " (u'Personal Weapon (hand  foot  etc.)', 282),\n",
       " (u'Knife/Cutting Instrument', 177),\n",
       " (u'Unarmed', 194932),\n",
       " (u'Other', 52102),\n",
       " (u'Blunt Object', 78),\n",
       " (u'Firearm', 5299),\n",
       " (u'Knife', 3867)]"
      ]
     },
     "execution_count": 55,
     "metadata": {},
     "output_type": "execute_result"
    }
   ],
   "source": [
    "crimes.rdd.map(lambda x: x['_c7']).countByValue().items()"
   ]
  },
  {
   "cell_type": "code",
   "execution_count": 67,
   "metadata": {
    "collapsed": false
   },
   "outputs": [
    {
     "name": "stdout",
     "output_type": "stream",
     "text": [
      "[['120420285', 'BERPTA', 'RESIDENTIAL BURGLARY', '05RB', 'D4', '629', '07/08/2012 06:00:00 AM', 'Other', 'No', 'No', 'Last', '2012', '7', 'Sunday', 'Part One', '763273.1791', '2951498.962', 'ABERDEEN ST', '', '(42.34638135, -71.10379454)'], ['120419202', 'PSHOT ', 'AGGRAVATED ASSAULT', '04xx', 'B2', '327', '07/08/2012 06:03:00 AM', 'Firearm', 'Yes', 'No', 'Last', '2012', '7', 'Sunday', 'Part One', '771223.1638', '2940772.099', 'HOWARD AV', '', '(42.31684135, -71.07458456)'], ['120419213', 'ARMROB', 'ROBBERY', '03xx', 'D4', '625', '07/08/2012 06:26:00 AM', 'Firearm', 'No', 'No', 'Last', '2012', '7', 'Sunday', 'Part One', '765118.8605', '2950217.536', 'JERSEY ST', 'QUEENSBERRY ST', '(42.34284135, -71.09698955)']]\n"
     ]
    }
   ],
   "source": [
    "rdd1 = spark.sparkContext.textFile(\"/Users/jhalverson/data_science/spark/Crime_Incident_Reports_no_header.csv\")\n",
    "rdd1 = rdd1.mapPartitions(lambda x: csv.reader(x))\n",
    "print rdd1.take(3)"
   ]
  },
  {
   "cell_type": "code",
   "execution_count": 70,
   "metadata": {
    "collapsed": false
   },
   "outputs": [
    {
     "data": {
      "text/plain": [
       "[('None', 11319),\n",
       " ('Personal Weapon (hand  foot  etc.)', 282),\n",
       " ('Knife/Cutting Instrument', 177),\n",
       " ('Unarmed', 194932),\n",
       " ('Other', 52102),\n",
       " ('Blunt Object', 78),\n",
       " ('Firearm', 5299),\n",
       " ('Knife', 3867)]"
      ]
     },
     "execution_count": 70,
     "metadata": {},
     "output_type": "execute_result"
    }
   ],
   "source": [
    "weapons = rdd1.map(lambda x: x[7]).filter(lambda x: x != 'WEAPONTYPE').countByValue().items()\n",
    "weapons"
   ]
  },
  {
   "cell_type": "code",
   "execution_count": 71,
   "metadata": {
    "collapsed": false
   },
   "outputs": [
    {
     "data": {
      "text/plain": [
       "<matplotlib.text.Text at 0x10900dad0>"
      ]
     },
     "execution_count": 71,
     "metadata": {},
     "output_type": "execute_result"
    },
    {
     "data": {
      "image/png": "[encoded data removed]",
      "text/plain": [
       "<matplotlib.figure.Figure at 0x107e1ded0>"
      ]
     },
     "metadata": {},
     "output_type": "display_data"
    }
   ],
   "source": [
    "import numpy as np\n",
    "import matplotlib.pyplot as plt\n",
    "%matplotlib inline\n",
    "plt.style.use('halverson')\n",
    "\n",
    "labels, counts = zip(*weapons)\n",
    "\n",
    "fig, ax = plt.subplots(nrows=1, ncols=1)\n",
    "plt.bar(range(len(counts)), np.log(counts), align='center')\n",
    "ax.set_xticklabels(labels)\n",
    "plt.xticks(range(len(counts)), rotation='vertical')\n",
    "plt.ylabel('ln(Count)')"
   ]
  },
  {
   "cell_type": "markdown",
   "metadata": {},
   "source": [
    "### Hadoop sequence files"
   ]
  },
  {
   "cell_type": "markdown",
   "metadata": {},
   "source": [
    "Good for writing key/value pairs. Can be read in parallel and are binary."
   ]
  },
  {
   "cell_type": "code",
   "execution_count": 72,
   "metadata": {
    "collapsed": false
   },
   "outputs": [],
   "source": [
    "elk_sightings = spark.sparkContext.parallelize([('Frank', 4), ('Tony', 0), ('Catherine', 0)])\n",
    "elk_sightings.saveAsSequenceFile('seqfiles')"
   ]
  },
  {
   "cell_type": "code",
   "execution_count": 74,
   "metadata": {
    "collapsed": false
   },
   "outputs": [
    {
     "data": {
      "text/plain": [
       "[(u'Frank', 4), (u'Tony', 0), (u'Catherine', 0)]"
      ]
     },
     "execution_count": 74,
     "metadata": {},
     "output_type": "execute_result"
    }
   ],
   "source": [
    "data = spark.sparkContext.sequenceFile('seqfiles', 'org.apache.hadoop.io.Text', 'org.apache.hadoop.io.IntWritable')\n",
    "data.collect()"
   ]
  }
 ],
 "metadata": {
  "anaconda-cloud": {},
  "kernelspec": {
   "display_name": "Python [default]",
   "language": "python",
   "name": "python2"
  },
  "language_info": {
   "codemirror_mode": {
    "name": "ipython",
    "version": 2
   },
   "file_extension": ".py",
   "mimetype": "text/x-python",
   "name": "python",
   "nbconvert_exporter": "python",
   "pygments_lexer": "ipython2",
   "version": "2.7.12"
  }
 },
 "nbformat": 4,
 "nbformat_minor": 0
}
