{
 "cells": [
  {
   "cell_type": "markdown",
   "metadata": {},
   "source": [
    "# Jonathan Halverson\n",
    "# Tuesday, May 3, 2016\n",
    "# Working with key/value pairs"
   ]
  },
  {
   "cell_type": "code",
   "execution_count": 275,
   "metadata": {
    "collapsed": false
   },
   "outputs": [
    {
     "name": "stdout",
     "output_type": "stream",
     "text": [
      "# Apache Spark\n",
      "95\n"
     ]
    }
   ],
   "source": [
    "lines = sc.textFile('text_file.md')\n",
    "print lines.first()\n",
    "print lines.count()"
   ]
  },
  {
   "cell_type": "code",
   "execution_count": 276,
   "metadata": {
    "collapsed": false
   },
   "outputs": [
    {
     "name": "stdout",
     "output_type": "stream",
     "text": [
      "[(u'help', 1), (u'storage', 1), (u'Hadoop', 3), (u'not', 1), (u'including', 3), (u'computation', 1), (u'high-level', 1), (u'find', 1), (u'web', 1), (u'Shell', 2)]\n"
     ]
    }
   ],
   "source": [
    "# wordcount in a single line\n",
    "wdct = lines.flatMap(lambda line: line.split()).countByValue()\n",
    "print wdct.items()[:10]"
   ]
  },
  {
   "cell_type": "code",
   "execution_count": 277,
   "metadata": {
    "collapsed": true
   },
   "outputs": [],
   "source": [
    "num_chars = lines.map(lambda line: len(line))\n",
    "first_word = lines.filter(lambda line: len(line.split()) > 2).map(lambda line: line.lower().split()[0])"
   ]
  },
  {
   "cell_type": "code",
   "execution_count": 278,
   "metadata": {
    "collapsed": false
   },
   "outputs": [
    {
     "name": "stdout",
     "output_type": "stream",
     "text": [
      "[(14, 196), (0, 0), (78, 6084), (75, 5625), (73, 5329)]\n",
      "[(u'#', 1), (u'spark', 1), (u'high-level', 1), (u'supports', 1), (u'rich', 1)]\n"
     ]
    }
   ],
   "source": [
    "# make a pair RDD\n",
    "pairs_num = num_chars.map(lambda x: (x, x**2))\n",
    "pairs_wds = first_word.map(lambda word: (word, 1))\n",
    "print pairs_num.take(5)\n",
    "print pairs_wds.take(5)"
   ]
  },
  {
   "cell_type": "markdown",
   "metadata": {},
   "source": [
    "### Common transformations"
   ]
  },
  {
   "cell_type": "code",
   "execution_count": 279,
   "metadata": {
    "collapsed": false
   },
   "outputs": [
    {
     "name": "stdout",
     "output_type": "stream",
     "text": [
      "[(u'and', 3), (u'##', 7), (u'please', 3), (u'you', 2), (u'spark', 4), (u'can', 2), (u'to', 2)]\n"
     ]
    }
   ],
   "source": [
    "# single-line word count (the lambda function says what to do with the values)\n",
    "# the value type must the same as original type\n",
    "wc = pairs_wds.reduceByKey(lambda x, y: x + y)\n",
    "print wc.filter(lambda p: p[1] > 1).collect()"
   ]
  },
  {
   "cell_type": "code",
   "execution_count": 280,
   "metadata": {
    "collapsed": false
   },
   "outputs": [
    {
     "name": "stdout",
     "output_type": "stream",
     "text": [
      "[(0, [0, 0, 0, 0, 0, 0, 0, 0, 0, 0, 0, 0, 0, 0, 0, 0, 0, 0, 0, 0, 0, 0, 0, 0, 0, 0, 0, 0, 0, 0, 0, 0, 0, 0, 0]), (14, [196]), (16, [256, 256]), (22, [484]), (26, [676, 676]), (32, [1024]), (42, [1764, 1764]), (44, [1936]), (52, [2704]), (54, [2916])]\n"
     ]
    }
   ],
   "source": [
    "# group by key then convert the pyspark.resultiterable.ResultIterable to a Python list using mapValues\n",
    "print pairs_num.groupByKey().mapValues(list).take(10)"
   ]
  },
  {
   "cell_type": "code",
   "execution_count": 281,
   "metadata": {
    "collapsed": false
   },
   "outputs": [
    {
     "data": {
      "text/plain": [
       "[(14, -196), (0, 0), (78, -6084), (75, -5625), (73, -5329)]"
      ]
     },
     "execution_count": 281,
     "metadata": {},
     "output_type": "execute_result"
    }
   ],
   "source": [
    "# mapValue will apply a function to each value without altering the key\n",
    "# the partition of the return RDD (this is a transformation, not action)\n",
    "# will be the same of the original partition\n",
    "pairs_num.mapValues(lambda x: -x).take(5)"
   ]
  },
  {
   "cell_type": "code",
   "execution_count": 282,
   "metadata": {
    "collapsed": false
   },
   "outputs": [
    {
     "data": {
      "text/plain": [
       "[(14, 0), (14, 1), (14, 2), (14, 3), (14, 4)]"
      ]
     },
     "execution_count": 282,
     "metadata": {},
     "output_type": "execute_result"
    }
   ],
   "source": [
    "pairs_num.flatMapValues(lambda x: range(x)).take(5)"
   ]
  },
  {
   "cell_type": "code",
   "execution_count": 283,
   "metadata": {
    "collapsed": false
   },
   "outputs": [
    {
     "name": "stdout",
     "output_type": "stream",
     "text": [
      "map [7, 0, 39, 37]\n",
      "map [(14, 14), (0, 0), (78, 78), (75, 75)]\n",
      "flatmap [14, 14, 0, 0]\n"
     ]
    }
   ],
   "source": [
    "# revisit map and flatmap\n",
    "print 'map', num_chars.map(lambda x: x / 2).take(4)\n",
    "print 'map', num_chars.map(lambda x: (x, x)).take(4)\n",
    "print 'flatmap', num_chars.flatMap(lambda x: (x, x)).take(4)"
   ]
  },
  {
   "cell_type": "code",
   "execution_count": 284,
   "metadata": {
    "collapsed": false
   },
   "outputs": [
    {
     "data": {
      "text/plain": [
       "[u'and',\n",
       " u'package.',\n",
       " u'##',\n",
       " u'please',\n",
       " u'alternatively,',\n",
       " u'will',\n",
       " u'#',\n",
       " u'for',\n",
       " u'storage',\n",
       " u'rich']"
      ]
     },
     "execution_count": 284,
     "metadata": {},
     "output_type": "execute_result"
    }
   ],
   "source": [
    "wc.keys().take(10)"
   ]
  },
  {
   "cell_type": "code",
   "execution_count": 285,
   "metadata": {
    "collapsed": false
   },
   "outputs": [
    {
     "data": {
      "text/plain": [
       "[3, 1, 7, 3, 1, 1, 1, 1, 1, 1]"
      ]
     },
     "execution_count": 285,
     "metadata": {},
     "output_type": "execute_result"
    }
   ],
   "source": [
    "# values\n",
    "wc.values().take(10)"
   ]
  },
  {
   "cell_type": "code",
   "execution_count": 286,
   "metadata": {
    "collapsed": false
   },
   "outputs": [
    {
     "name": "stdout",
     "output_type": "stream",
     "text": [
      "36\n",
      "(u'and', 3)\n"
     ]
    }
   ],
   "source": [
    "# here we create a new collection of pairs using existing data\n",
    "repeat = sc.parallelize([(w, c) for w, c, in zip(wc.keys().collect(), wc.values().collect())])\n",
    "print repeat.count()\n",
    "print repeat.first()"
   ]
  },
  {
   "cell_type": "code",
   "execution_count": 287,
   "metadata": {
    "collapsed": false
   },
   "outputs": [
    {
     "data": {
      "text/plain": [
       "[(u'\"yarn\"', 1),\n",
       " (u'#', 1),\n",
       " (u'##', 7),\n",
       " (u'(you', 1),\n",
       " (u'[\"specifying', 1),\n",
       " (u'[run', 1),\n",
       " (u'alternatively,', 1),\n",
       " (u'and', 3),\n",
       " (u'build/mvn', 1),\n",
       " (u'building', 1)]"
      ]
     },
     "execution_count": 287,
     "metadata": {},
     "output_type": "execute_result"
    }
   ],
   "source": [
    "wc.sortByKey().take(10)"
   ]
  },
  {
   "cell_type": "code",
   "execution_count": 303,
   "metadata": {
    "collapsed": false
   },
   "outputs": [
    {
     "data": {
      "text/plain": [
       "[(u'master=spark://host:7077', 1),\n",
       " (u'alternatively,', 1),\n",
       " (u'[\"specifying', 1),\n",
       " (u'high-level', 1),\n",
       " (u'build/mvn', 1),\n",
       " (u'package.', 1),\n",
       " (u'supports', 1),\n",
       " (u'building', 1),\n",
       " (u'examples', 1),\n",
       " (u'storage', 1)]"
      ]
     },
     "execution_count": 303,
     "metadata": {},
     "output_type": "execute_result"
    }
   ],
   "source": [
    "wc.sortByKey(ascending=False, keyfunc=lambda x: len(x)).take(10)"
   ]
  },
  {
   "cell_type": "code",
   "execution_count": 289,
   "metadata": {
    "collapsed": false
   },
   "outputs": [
    {
     "name": "stdout",
     "output_type": "stream",
     "text": [
      "52\n",
      "36\n"
     ]
    }
   ],
   "source": [
    "# check for duplicates (distinct works on RDDs and pair RDDs)\n",
    "print pairs_wds.count()\n",
    "print pairs_wds.distinct().count()"
   ]
  },
  {
   "cell_type": "markdown",
   "metadata": {},
   "source": [
    "### Transformations on two pair RDDs"
   ]
  },
  {
   "cell_type": "code",
   "execution_count": 290,
   "metadata": {
    "collapsed": false
   },
   "outputs": [
    {
     "name": "stdout",
     "output_type": "stream",
     "text": [
      "[]\n"
     ]
    }
   ],
   "source": [
    "# this should give an empty list since both RDDs are equal\n",
    "print wc.subtract(repeat).collect()"
   ]
  },
  {
   "cell_type": "code",
   "execution_count": 291,
   "metadata": {
    "collapsed": false
   },
   "outputs": [],
   "source": [
    "a = sc.parallelize([(1, 2), (3, 4), (3, 6)])\n",
    "b = sc.parallelize([(3, 9)])"
   ]
  },
  {
   "cell_type": "code",
   "execution_count": 292,
   "metadata": {
    "collapsed": false
   },
   "outputs": [
    {
     "data": {
      "text/plain": [
       "[(1, 2)]"
      ]
     },
     "execution_count": 292,
     "metadata": {},
     "output_type": "execute_result"
    }
   ],
   "source": [
    "# remove elements with a key present in the 2nd RDD\n",
    "a.subtractByKey(b).collect()"
   ]
  },
  {
   "cell_type": "code",
   "execution_count": 293,
   "metadata": {
    "collapsed": false
   },
   "outputs": [
    {
     "data": {
      "text/plain": [
       "[(3, (4, 9)), (3, (6, 9))]"
      ]
     },
     "execution_count": 293,
     "metadata": {},
     "output_type": "execute_result"
    }
   ],
   "source": [
    "# inner join\n",
    "a.join(b).collect()"
   ]
  },
  {
   "cell_type": "code",
   "execution_count": 294,
   "metadata": {
    "collapsed": false
   },
   "outputs": [
    {
     "data": {
      "text/plain": [
       "[(3, (9, 4)), (3, (9, 6))]"
      ]
     },
     "execution_count": 294,
     "metadata": {},
     "output_type": "execute_result"
    }
   ],
   "source": [
    "# inner join\n",
    "b.join(a).collect()"
   ]
  },
  {
   "cell_type": "code",
   "execution_count": 295,
   "metadata": {
    "collapsed": false
   },
   "outputs": [
    {
     "data": {
      "text/plain": [
       "[(3, (4, 9)), (3, (6, 9))]"
      ]
     },
     "execution_count": 295,
     "metadata": {},
     "output_type": "execute_result"
    }
   ],
   "source": [
    "# rightOuterJoin\n",
    "a.rightOuterJoin(b).collect()"
   ]
  },
  {
   "cell_type": "code",
   "execution_count": 296,
   "metadata": {
    "collapsed": false
   },
   "outputs": [
    {
     "data": {
      "text/plain": [
       "[(1, (None, 2)), (3, (9, 4)), (3, (9, 6))]"
      ]
     },
     "execution_count": 296,
     "metadata": {},
     "output_type": "execute_result"
    }
   ],
   "source": [
    "# rightOuterJoin\n",
    "b.rightOuterJoin(a).collect()"
   ]
  },
  {
   "cell_type": "code",
   "execution_count": 297,
   "metadata": {
    "collapsed": false
   },
   "outputs": [
    {
     "data": {
      "text/plain": [
       "[(1, (2, None)), (3, (4, 9)), (3, (6, 9))]"
      ]
     },
     "execution_count": 297,
     "metadata": {},
     "output_type": "execute_result"
    }
   ],
   "source": [
    "# leftOuterJoin\n",
    "a.leftOuterJoin(b).collect()"
   ]
  },
  {
   "cell_type": "code",
   "execution_count": 298,
   "metadata": {
    "collapsed": false
   },
   "outputs": [
    {
     "data": {
      "text/plain": [
       "[(1, [2]), (3, [4, 6, 9])]"
      ]
     },
     "execution_count": 298,
     "metadata": {},
     "output_type": "execute_result"
    }
   ],
   "source": [
    "# cogroup gives the keys and a list of corresponding values\n",
    "a.cogroup(b).mapValues(lambda value: [item for val in value for item in val]).collect()"
   ]
  },
  {
   "cell_type": "code",
   "execution_count": 299,
   "metadata": {
    "collapsed": false
   },
   "outputs": [
    {
     "name": "stdout",
     "output_type": "stream",
     "text": [
      "[(14, 196), (0, 0), (78, 6084), (75, 5625), (73, 5329), (74, 5476), (56, 3136), (42, 1764), (0, 0), (26, 676)]\n",
      "95 42\n"
     ]
    }
   ],
   "source": [
    "# combine per key is the most general aggregation function that most\n",
    "# other functions are built on; like aggregate the return type can\n",
    "# different from the original type\n",
    "print pairs_num.take(10)\n",
    "print pairs_num.keys().count(), pairs_num.keys().distinct().count()"
   ]
  },
  {
   "cell_type": "code",
   "execution_count": 300,
   "metadata": {
    "collapsed": false
   },
   "outputs": [
    {
     "data": {
      "text/plain": [
       "{0: (0, 35),\n",
       " 14: (196, 1),\n",
       " 16: (512, 2),\n",
       " 17: (867, 3),\n",
       " 19: (722, 2),\n",
       " 21: (441, 1),\n",
       " 22: (484, 1),\n",
       " 23: (529, 1),\n",
       " 26: (1352, 2),\n",
       " 27: (729, 1),\n",
       " 29: (841, 1),\n",
       " 31: (961, 1),\n",
       " 32: (1024, 1),\n",
       " 33: (1089, 1),\n",
       " 39: (1521, 1),\n",
       " 41: (1681, 1),\n",
       " 42: (3528, 2),\n",
       " 43: (1849, 1),\n",
       " 44: (1936, 1),\n",
       " 45: (2025, 1),\n",
       " 52: (2704, 1),\n",
       " 54: (2916, 1),\n",
       " 56: (6272, 2),\n",
       " 61: (3721, 1),\n",
       " 62: (7688, 2),\n",
       " 64: (4096, 1),\n",
       " 65: (4225, 1),\n",
       " 66: (8712, 2),\n",
       " 67: (4489, 1),\n",
       " 68: (4624, 1),\n",
       " 69: (4761, 1),\n",
       " 70: (9800, 2),\n",
       " 72: (5184, 1),\n",
       " 73: (10658, 2),\n",
       " 74: (16428, 3),\n",
       " 75: (11250, 2),\n",
       " 76: (17328, 3),\n",
       " 77: (11858, 2),\n",
       " 78: (6084, 1),\n",
       " 84: (14112, 2),\n",
       " 97: (9409, 1),\n",
       " 120: (28800, 2)}"
      ]
     },
     "execution_count": 300,
     "metadata": {},
     "output_type": "execute_result"
    }
   ],
   "source": [
    "pairs_num.combineByKey(createCombiner=(lambda x: (x, 1)),\n",
    "                       mergeValue=(lambda x, y: (x[0] + y, x[1] + 1)),\n",
    "                       mergeCombiners=(lambda x, y: (x[0] + y[0], x[1] + y[1]))).collectAsMap()"
   ]
  },
  {
   "cell_type": "code",
   "execution_count": 301,
   "metadata": {
    "collapsed": false
   },
   "outputs": [
    {
     "data": {
      "text/plain": [
       "2"
      ]
     },
     "execution_count": 301,
     "metadata": {},
     "output_type": "execute_result"
    }
   ],
   "source": [
    "# the number of partitions the RDD exists on\n",
    "pairs_num.getNumPartitions()"
   ]
  },
  {
   "cell_type": "code",
   "execution_count": 308,
   "metadata": {
    "collapsed": false
   },
   "outputs": [
    {
     "data": {
      "text/plain": [
       "[(0, 35),\n",
       " (14, 1),\n",
       " (16, 2),\n",
       " (17, 3),\n",
       " (19, 2),\n",
       " (21, 1),\n",
       " (22, 1),\n",
       " (23, 1),\n",
       " (26, 2),\n",
       " (27, 1)]"
      ]
     },
     "execution_count": 308,
     "metadata": {},
     "output_type": "execute_result"
    }
   ],
   "source": [
    "pairs_num.countByKey().items()[:10]"
   ]
  },
  {
   "cell_type": "code",
   "execution_count": 312,
   "metadata": {
    "collapsed": false
   },
   "outputs": [
    {
     "name": "stdout",
     "output_type": "stream",
     "text": [
      "[196]\n",
      "[289, 289, 289]\n"
     ]
    }
   ],
   "source": [
    "print pairs_num.lookup(14)\n",
    "print pairs_num.lookup(17)"
   ]
  }
 ],
 "metadata": {
  "kernelspec": {
   "display_name": "Python 2",
   "language": "python",
   "name": "python2"
  },
  "language_info": {
   "codemirror_mode": {
    "name": "ipython",
    "version": 2
   },
   "file_extension": ".py",
   "mimetype": "text/x-python",
   "name": "python",
   "nbconvert_exporter": "python",
   "pygments_lexer": "ipython2",
   "version": "2.7.5"
  }
 },
 "nbformat": 4,
 "nbformat_minor": 0
}
