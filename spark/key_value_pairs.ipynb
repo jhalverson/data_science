{
 "cells": [
  {
   "cell_type": "markdown",
   "metadata": {},
   "source": [
    "# Jonathan Halverson\n",
    "# Tuesday, May 3, 2016\n",
    "# Working with key/value pairs"
   ]
  },
  {
   "cell_type": "code",
   "execution_count": 119,
   "metadata": {
    "collapsed": false
   },
   "outputs": [
    {
     "name": "stdout",
     "output_type": "stream",
     "text": [
      "# Apache Spark\n",
      "95\n"
     ]
    }
   ],
   "source": [
    "lines = sc.textFile('text_file.md')\n",
    "print lines.first()\n",
    "print lines.count()"
   ]
  },
  {
   "cell_type": "code",
   "execution_count": 120,
   "metadata": {
    "collapsed": true
   },
   "outputs": [],
   "source": [
    "num_chars = lines.map(lambda line: len(line))\n",
    "first_word = lines.filter(lambda line: len(line.split()) > 2).map(lambda line: line.lower().split()[0])"
   ]
  },
  {
   "cell_type": "code",
   "execution_count": 121,
   "metadata": {
    "collapsed": false
   },
   "outputs": [
    {
     "name": "stdout",
     "output_type": "stream",
     "text": [
      "[(14, 196), (0, 0), (78, 6084), (75, 5625), (73, 5329)]\n",
      "[(u'#', 1), (u'spark', 1), (u'high-level', 1), (u'supports', 1), (u'rich', 1)]\n"
     ]
    }
   ],
   "source": [
    "# make a pair RDD\n",
    "pairs_num = num_chars.map(lambda x: (x, x**2))\n",
    "pairs_wds = first_word.map(lambda word: (word, 1))\n",
    "print pairs_num.take(5)\n",
    "print pairs_wds.take(5)"
   ]
  },
  {
   "cell_type": "markdown",
   "metadata": {},
   "source": [
    "### Common transformations"
   ]
  },
  {
   "cell_type": "code",
   "execution_count": 122,
   "metadata": {
    "collapsed": false
   },
   "outputs": [
    {
     "name": "stdout",
     "output_type": "stream",
     "text": [
      "[(u'and', 3), (u'##', 7), (u'please', 3), (u'you', 2), (u'spark', 4), (u'can', 2), (u'to', 2)]\n"
     ]
    }
   ],
   "source": [
    "# single-line word count (the lambda function says what to do with the values)\n",
    "# the value type must the same as original type\n",
    "wc = pairs_wds.reduceByKey(lambda x, y: x + y)\n",
    "print wc.filter(lambda p: p[1] > 1).collect()"
   ]
  },
  {
   "cell_type": "code",
   "execution_count": 123,
   "metadata": {
    "collapsed": false
   },
   "outputs": [
    {
     "name": "stdout",
     "output_type": "stream",
     "text": [
      "[(0, [0, 0, 0, 0, 0, 0, 0, 0, 0, 0, 0, 0, 0, 0, 0, 0, 0, 0, 0, 0, 0, 0, 0, 0, 0, 0, 0, 0, 0, 0, 0, 0, 0, 0, 0]), (14, [196]), (16, [256, 256]), (22, [484]), (26, [676, 676]), (32, [1024]), (42, [1764, 1764]), (44, [1936]), (52, [2704]), (54, [2916])]\n"
     ]
    }
   ],
   "source": [
    "# group by key then convert the pyspark.resultiterable.ResultIterable to a Python list using mapValues\n",
    "print pairs_num.groupByKey().mapValues(list).take(10)"
   ]
  },
  {
   "cell_type": "code",
   "execution_count": 169,
   "metadata": {
    "collapsed": false
   },
   "outputs": [
    {
     "data": {
      "text/plain": [
       "[(14, -196), (0, 0), (78, -6084), (75, -5625), (73, -5329)]"
      ]
     },
     "execution_count": 169,
     "metadata": {},
     "output_type": "execute_result"
    }
   ],
   "source": [
    "# mapValue will apply a function to each value without altering the key\n",
    "# the partition of the return RDD (this is a transformation, not action)\n",
    "# will be the same of the original partition\n",
    "pairs_num.mapValues(lambda x: -x).take(5)"
   ]
  },
  {
   "cell_type": "code",
   "execution_count": 168,
   "metadata": {
    "collapsed": false
   },
   "outputs": [
    {
     "data": {
      "text/plain": [
       "[(14, 0), (14, 1), (14, 2), (14, 3), (14, 4)]"
      ]
     },
     "execution_count": 168,
     "metadata": {},
     "output_type": "execute_result"
    }
   ],
   "source": [
    "pairs_num.flatMapValues(lambda x: range(x)).take(5)"
   ]
  },
  {
   "cell_type": "code",
   "execution_count": 126,
   "metadata": {
    "collapsed": false
   },
   "outputs": [
    {
     "name": "stdout",
     "output_type": "stream",
     "text": [
      "map [7, 0, 39, 37]\n",
      "map [(14, 14), (0, 0), (78, 78), (75, 75)]\n",
      "flatmap [14, 14, 0, 0]\n"
     ]
    }
   ],
   "source": [
    "# revisit map and flatmap\n",
    "print 'map', num_chars.map(lambda x: x / 2).take(4)\n",
    "print 'map', num_chars.map(lambda x: (x, x)).take(4)\n",
    "print 'flatmap', num_chars.flatMap(lambda x: (x, x)).take(4)"
   ]
  },
  {
   "cell_type": "code",
   "execution_count": 127,
   "metadata": {
    "collapsed": false
   },
   "outputs": [
    {
     "data": {
      "text/plain": [
       "[u'and',\n",
       " u'package.',\n",
       " u'##',\n",
       " u'please',\n",
       " u'alternatively,',\n",
       " u'will',\n",
       " u'#',\n",
       " u'for',\n",
       " u'storage',\n",
       " u'rich']"
      ]
     },
     "execution_count": 127,
     "metadata": {},
     "output_type": "execute_result"
    }
   ],
   "source": [
    "wc.keys().take(10)"
   ]
  },
  {
   "cell_type": "code",
   "execution_count": 128,
   "metadata": {
    "collapsed": false
   },
   "outputs": [
    {
     "data": {
      "text/plain": [
       "[3, 1, 7, 3, 1, 1, 1, 1, 1, 1]"
      ]
     },
     "execution_count": 128,
     "metadata": {},
     "output_type": "execute_result"
    }
   ],
   "source": [
    "# values\n",
    "wc.values().take(10)"
   ]
  },
  {
   "cell_type": "code",
   "execution_count": 129,
   "metadata": {
    "collapsed": false
   },
   "outputs": [
    {
     "name": "stdout",
     "output_type": "stream",
     "text": [
      "36\n",
      "(u'and', 3)\n"
     ]
    }
   ],
   "source": [
    "# here we create a new collection of pairs using existing data\n",
    "repeat = sc.parallelize([(w, c) for w, c, in zip(wc.keys().collect(), wc.values().collect())])\n",
    "print repeat.count()\n",
    "print repeat.first()"
   ]
  },
  {
   "cell_type": "code",
   "execution_count": 130,
   "metadata": {
    "collapsed": false
   },
   "outputs": [
    {
     "data": {
      "text/plain": [
       "[(u'\"yarn\"', 1),\n",
       " (u'#', 1),\n",
       " (u'##', 7),\n",
       " (u'(you', 1),\n",
       " (u'[\"specifying', 1),\n",
       " (u'[run', 1),\n",
       " (u'alternatively,', 1),\n",
       " (u'and', 3),\n",
       " (u'build/mvn', 1),\n",
       " (u'building', 1)]"
      ]
     },
     "execution_count": 130,
     "metadata": {},
     "output_type": "execute_result"
    }
   ],
   "source": [
    "wc.sortByKey().take(10)"
   ]
  },
  {
   "cell_type": "code",
   "execution_count": 131,
   "metadata": {
    "collapsed": false
   },
   "outputs": [
    {
     "name": "stdout",
     "output_type": "stream",
     "text": [
      "52\n",
      "36\n"
     ]
    }
   ],
   "source": [
    "# check for duplicates (distinct works on RDDs and pair RDDs)\n",
    "print pairs_wds.count()\n",
    "print pairs_wds.distinct().count()"
   ]
  },
  {
   "cell_type": "markdown",
   "metadata": {},
   "source": [
    "### Transformations on two pair RDDs"
   ]
  },
  {
   "cell_type": "code",
   "execution_count": 132,
   "metadata": {
    "collapsed": false
   },
   "outputs": [
    {
     "name": "stdout",
     "output_type": "stream",
     "text": [
      "[]\n"
     ]
    }
   ],
   "source": [
    "# this should give an empty list since both RDDs are equal\n",
    "print wc.subtract(repeat).collect()"
   ]
  },
  {
   "cell_type": "code",
   "execution_count": 133,
   "metadata": {
    "collapsed": false
   },
   "outputs": [],
   "source": [
    "a = sc.parallelize([(1, 2), (3, 4), (3, 6)])\n",
    "b = sc.parallelize([(3, 9)])"
   ]
  },
  {
   "cell_type": "code",
   "execution_count": 147,
   "metadata": {
    "collapsed": false
   },
   "outputs": [
    {
     "data": {
      "text/plain": [
       "[(1, 2)]"
      ]
     },
     "execution_count": 147,
     "metadata": {},
     "output_type": "execute_result"
    }
   ],
   "source": [
    "# remove elements with a key present in the 2nd RDD\n",
    "a.subtractByKey(b).collect()"
   ]
  },
  {
   "cell_type": "code",
   "execution_count": 137,
   "metadata": {
    "collapsed": false
   },
   "outputs": [
    {
     "data": {
      "text/plain": [
       "[(3, (4, 9)), (3, (6, 9))]"
      ]
     },
     "execution_count": 137,
     "metadata": {},
     "output_type": "execute_result"
    }
   ],
   "source": [
    "# inner join\n",
    "a.join(b).collect()"
   ]
  },
  {
   "cell_type": "code",
   "execution_count": 143,
   "metadata": {
    "collapsed": false
   },
   "outputs": [
    {
     "data": {
      "text/plain": [
       "[(3, (9, 4)), (3, (9, 6))]"
      ]
     },
     "execution_count": 143,
     "metadata": {},
     "output_type": "execute_result"
    }
   ],
   "source": [
    "# inner join\n",
    "b.join(a).collect()"
   ]
  },
  {
   "cell_type": "code",
   "execution_count": 139,
   "metadata": {
    "collapsed": false
   },
   "outputs": [
    {
     "data": {
      "text/plain": [
       "[(3, (4, 9)), (3, (6, 9))]"
      ]
     },
     "execution_count": 139,
     "metadata": {},
     "output_type": "execute_result"
    }
   ],
   "source": [
    "# rightOuterJoin\n",
    "a.rightOuterJoin(b).collect()"
   ]
  },
  {
   "cell_type": "code",
   "execution_count": 141,
   "metadata": {
    "collapsed": false
   },
   "outputs": [
    {
     "data": {
      "text/plain": [
       "[(1, (None, 2)), (3, (9, 4)), (3, (9, 6))]"
      ]
     },
     "execution_count": 141,
     "metadata": {},
     "output_type": "execute_result"
    }
   ],
   "source": [
    "# rightOuterJoin\n",
    "b.rightOuterJoin(a).collect()"
   ]
  },
  {
   "cell_type": "code",
   "execution_count": 149,
   "metadata": {
    "collapsed": false
   },
   "outputs": [
    {
     "data": {
      "text/plain": [
       "[(1, (2, None)), (3, (4, 9)), (3, (6, 9))]"
      ]
     },
     "execution_count": 149,
     "metadata": {},
     "output_type": "execute_result"
    }
   ],
   "source": [
    "# leftOuterJoin\n",
    "a.leftOuterJoin(b).collect()"
   ]
  }
 ],
 "metadata": {
  "kernelspec": {
   "display_name": "Python 2",
   "language": "python",
   "name": "python2"
  },
  "language_info": {
   "codemirror_mode": {
    "name": "ipython",
    "version": 2
   },
   "file_extension": ".py",
   "mimetype": "text/x-python",
   "name": "python",
   "nbconvert_exporter": "python",
   "pygments_lexer": "ipython2",
   "version": "2.7.5"
  }
 },
 "nbformat": 4,
 "nbformat_minor": 0
}
