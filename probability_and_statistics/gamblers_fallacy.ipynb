{
 "cells": [
  {
   "cell_type": "markdown",
   "metadata": {},
   "source": [
    "# Jonathan Halverson\n",
    "# Tuesday, March 22, 2016\n",
    "# Gambler's fallacy"
   ]
  },
  {
   "cell_type": "markdown",
   "metadata": {},
   "source": [
    "### Wikipedia: The gambler's fallacy, also known as the Monte Carlo fallacy or the fallacy of the maturity of chances, is the mistaken belief that, if something happens more frequently than normal during some period, it will happen less frequently in the future, or that, if something happens less frequently than normal during some period, it will happen more frequently in the future (presumably as a means of balancing nature). In situations where what is being observed is truly random (i.e., independent trials of a random process), this belief, though appealing to the human mind, is false."
   ]
  },
  {
   "cell_type": "markdown",
   "metadata": {},
   "source": [
    "### Assume a die with 16 sides that are numbered 1 through 16. A win corresponds to the number 1 coming up. What is the chance of getting at least one win on 16 rolls? We begin with the numerical experiment:"
   ]
  },
  {
   "cell_type": "code",
   "execution_count": 54,
   "metadata": {
    "collapsed": false
   },
   "outputs": [
    {
     "name": "stdout",
     "output_type": "stream",
     "text": [
      "0.6403\n"
     ]
    }
   ],
   "source": [
    "import random\n",
    "random.seed(1234)\n",
    "\n",
    "trials = 10000\n",
    "wins = 0\n",
    "die = range(1, 17)\n",
    "for _ in xrange(trials):\n",
    "    for _ in range(16):\n",
    "        if (random.choice(die) == 1):\n",
    "            wins += 1\n",
    "            break\n",
    "print wins / float(trials)"
   ]
  },
  {
   "cell_type": "markdown",
   "metadata": {},
   "source": [
    "### The answer is obtained by the cdf of the geometric distribution:"
   ]
  },
  {
   "cell_type": "code",
   "execution_count": 55,
   "metadata": {
    "collapsed": false
   },
   "outputs": [
    {
     "data": {
      "text/plain": [
       "0.6439258695482072"
      ]
     },
     "execution_count": 55,
     "metadata": {},
     "output_type": "execute_result"
    }
   ],
   "source": [
    "p = 1 / 16.0\n",
    "q = 15 / 16.0\n",
    "sum([p * q**(k - 1) for k in range(1, 17)])"
   ]
  },
  {
   "cell_type": "markdown",
   "metadata": {},
   "source": [
    "### Or equivalently,"
   ]
  },
  {
   "cell_type": "code",
   "execution_count": 56,
   "metadata": {
    "collapsed": false
   },
   "outputs": [
    {
     "data": {
      "text/plain": [
       "0.64392586954820719"
      ]
     },
     "execution_count": 56,
     "metadata": {},
     "output_type": "execute_result"
    }
   ],
   "source": [
    "from scipy.stats import geom\n",
    "geom.cdf(p=1/16.0, k=16)"
   ]
  },
  {
   "cell_type": "markdown",
   "metadata": {},
   "source": [
    "### One can also subtract the probability of losing (complement) from unity:"
   ]
  },
  {
   "cell_type": "code",
   "execution_count": 57,
   "metadata": {
    "collapsed": false
   },
   "outputs": [
    {
     "data": {
      "text/plain": [
       "0.6439258695482072"
      ]
     },
     "execution_count": 57,
     "metadata": {},
     "output_type": "execute_result"
    }
   ],
   "source": [
    "1.0 - (15 / 16.0)**16"
   ]
  },
  {
   "cell_type": "markdown",
   "metadata": {},
   "source": [
    "### If the person loses the first five rolls, do their chances go up or down (this is why 16 was chosen instead of 2):"
   ]
  },
  {
   "cell_type": "code",
   "execution_count": 58,
   "metadata": {
    "collapsed": false
   },
   "outputs": [
    {
     "data": {
      "text/plain": [
       "0.5083183046418185"
      ]
     },
     "execution_count": 58,
     "metadata": {},
     "output_type": "execute_result"
    }
   ],
   "source": [
    "1.0 - (15 / 16.0)**11"
   ]
  },
  {
   "cell_type": "markdown",
   "metadata": {},
   "source": [
    "### So after losing the first 5 rolls, the chances of winning are only around 50 percent instead of 64 percent at the beginning of the game."
   ]
  },
  {
   "cell_type": "markdown",
   "metadata": {},
   "source": [
    "### Below we carry out the numerical experiment between two gamblers who are trying to guess heads or tails on coin tosses. The first believes that it doesn't matter when someone bets so they bet heads every fifth game. The second believes that it is more likely to get heads after 4 tails in a row and only bet in this case. Do they have different winning percentages?"
   ]
  },
  {
   "cell_type": "code",
   "execution_count": 59,
   "metadata": {
    "collapsed": false
   },
   "outputs": [
    {
     "name": "stdout",
     "output_type": "stream",
     "text": [
      "0.4998\n",
      "0.488864142539\n"
     ]
    }
   ],
   "source": [
    "trials = 100000\n",
    "wins1 = 0\n",
    "wins1_attempt = 0\n",
    "wins2 = 0\n",
    "wins2_attempt = 0\n",
    "last_four = ['null', 'null', 'null', 'null']\n",
    "\n",
    "for i in xrange(trials):\n",
    "    outcome = random.choice(['heads', 'tails'])\n",
    "    \n",
    "    # gambler 1\n",
    "    if (i % 5 == 0):\n",
    "        if (outcome == 'heads'):\n",
    "            wins1 += 1\n",
    "        wins1_attempt += 1\n",
    "        \n",
    "    # gambler 2\n",
    "    if (last_four == ['tails', 'tails', 'tails', 'tails']):\n",
    "        if (outcome == 'heads'):\n",
    "            wins2 += 1\n",
    "        wins2_attempt += 1\n",
    "        \n",
    "    last_four.insert(0, outcome)\n",
    "    _ = last_four.pop()\n",
    "        \n",
    "print wins1 / float(wins1_attempt)\n",
    "print wins2 / float(wins2_attempt)"
   ]
  },
  {
   "cell_type": "markdown",
   "metadata": {},
   "source": [
    "### Just by looking at the code one can see that both players will have the same winning percentage for a large number of games. The winning percentage approaches 0.5 for both. It's important to keep in mind that the probability of getting 100 heads in a row is the same as getting a specific combination of heads and tails."
   ]
  }
 ],
 "metadata": {
  "kernelspec": {
   "display_name": "Python 2",
   "language": "python",
   "name": "python2"
  },
  "language_info": {
   "codemirror_mode": {
    "name": "ipython",
    "version": 2
   },
   "file_extension": ".py",
   "mimetype": "text/x-python",
   "name": "python",
   "nbconvert_exporter": "python",
   "pygments_lexer": "ipython2",
   "version": "2.7.5"
  }
 },
 "nbformat": 4,
 "nbformat_minor": 0
}
