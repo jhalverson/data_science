{
 "cells": [
  {
   "cell_type": "markdown",
   "metadata": {},
   "source": [
    "# Jonathan Halverson\n",
    "# Wednesday, June 21, 2017\n",
    "# Chapter 2 of Bruce & Bruce"
   ]
  },
  {
   "cell_type": "markdown",
   "metadata": {},
   "source": [
    "Use x_bar for sample mean and mu for population mean."
   ]
  },
  {
   "cell_type": "markdown",
   "metadata": {},
   "source": [
    "It is very likely to find patterns in a large data set because they will occur by chance. It is important to specify your hypotheses before examining the data for this reason."
   ]
  },
  {
   "cell_type": "markdown",
   "metadata": {},
   "source": [
    "Regression to the mean is the phenomenon where a process at an extreme value is likely to yield a less extreme value at the next evaluation. An example is the rookie of the year phenomenon where all rookies in a given sport are of approximately equal skill level and by chance one of them is elevated above the others. The next season luck is not on their side and the sophomore slump is observed. Of course, in some causes the person who wins rookie of the year is actually better than the pack and they continue to show this."
   ]
  },
  {
   "cell_type": "markdown",
   "metadata": {},
   "source": [
    "Stratified sampling is when the population is divided into strata and random samples are taken within each stratum."
   ]
  },
  {
   "cell_type": "markdown",
   "metadata": {},
   "source": [
    "A sample statistic is a metric calculated from a sample of the population. In inferential statistics we are interested in the sampling distribution of the metric. The standard deviation of the sampling distribution is equal to the stardard error."
   ]
  },
  {
   "cell_type": "markdown",
   "metadata": {},
   "source": [
    "### Demonstration of the bootstrap"
   ]
  },
  {
   "cell_type": "markdown",
   "metadata": {},
   "source": [
    "Below we compute the standard error and 90% confidence interval using both the equation based approach as well as resampling techniques."
   ]
  },
  {
   "cell_type": "code",
   "execution_count": 2,
   "metadata": {
    "collapsed": false
   },
   "outputs": [],
   "source": [
    "import numpy as np\n",
    "from numpy.random import lognormal\n",
    "from numpy.random import choice"
   ]
  },
  {
   "cell_type": "code",
   "execution_count": 3,
   "metadata": {
    "collapsed": true
   },
   "outputs": [],
   "source": [
    "import matplotlib.pyplot as plt\n",
    "%matplotlib inline\n",
    "plt.style.use('halverson')"
   ]
  },
  {
   "cell_type": "markdown",
   "metadata": {},
   "source": [
    "Generate a population drawn from the lognormal distribution:"
   ]
  },
  {
   "cell_type": "code",
   "execution_count": 4,
   "metadata": {
    "collapsed": false
   },
   "outputs": [
    {
     "data": {
      "text/plain": [
       "(3.071688729439884, 1.6244991916683291)"
      ]
     },
     "execution_count": 4,
     "metadata": {},
     "output_type": "execute_result"
    }
   ],
   "source": [
    "population = lognormal(mean=1.0, sigma=0.5, size=10000)\n",
    "population.mean(), population.std()"
   ]
  },
  {
   "cell_type": "code",
   "execution_count": 5,
   "metadata": {
    "collapsed": false
   },
   "outputs": [
    {
     "data": {
      "text/plain": [
       "(array([  6.99000000e+02,   2.39100000e+03,   2.59100000e+03,\n",
       "          1.77100000e+03,   1.13200000e+03,   6.28000000e+02,\n",
       "          3.25000000e+02,   1.95000000e+02,   1.24000000e+02,\n",
       "          6.10000000e+01,   2.70000000e+01,   2.10000000e+01,\n",
       "          1.20000000e+01,   1.00000000e+01,   1.00000000e+00,\n",
       "          3.00000000e+00,   0.00000000e+00,   6.00000000e+00,\n",
       "          1.00000000e+00,   1.00000000e+00,   0.00000000e+00,\n",
       "          0.00000000e+00,   0.00000000e+00,   0.00000000e+00,\n",
       "          1.00000000e+00]),\n",
       " array([  0.47322736,   1.3002926 ,   2.12735784,   2.95442307,\n",
       "          3.78148831,   4.60855354,   5.43561878,   6.26268402,\n",
       "          7.08974925,   7.91681449,   8.74387972,   9.57094496,\n",
       "         10.3980102 ,  11.22507543,  12.05214067,  12.87920591,\n",
       "         13.70627114,  14.53333638,  15.36040161,  16.18746685,\n",
       "         17.01453209,  17.84159732,  18.66866256,  19.49572779,\n",
       "         20.32279303,  21.14985827]),\n",
       " <a list of 25 Patch objects>)"
      ]
     },
     "execution_count": 5,
     "metadata": {},
     "output_type": "execute_result"
    },
    {
     "data": {
      "image/png": "[encoded data removed]",
      "text/plain": [
       "<matplotlib.figure.Figure at 0x10cceb610>"
      ]
     },
     "metadata": {},
     "output_type": "display_data"
    }
   ],
   "source": [
    "plt.hist(population, bins=25, rwidth=0.8)"
   ]
  },
  {
   "cell_type": "markdown",
   "metadata": {},
   "source": [
    "Create a sample drawn from the population:"
   ]
  },
  {
   "cell_type": "code",
   "execution_count": 6,
   "metadata": {
    "collapsed": false
   },
   "outputs": [
    {
     "data": {
      "text/plain": [
       "(3.493414185357242, 1.6887028563158646)"
      ]
     },
     "execution_count": 6,
     "metadata": {},
     "output_type": "execute_result"
    }
   ],
   "source": [
    "sample = choice(population, size=25, replace=False)\n",
    "sample.mean(), sample.std()"
   ]
  },
  {
   "cell_type": "markdown",
   "metadata": {},
   "source": [
    "Create a sampling distribution by drawing multiple samples, computing the mean of each and then constructing a histogram:"
   ]
  },
  {
   "cell_type": "code",
   "execution_count": 7,
   "metadata": {
    "collapsed": true
   },
   "outputs": [],
   "source": [
    "sample_statistics = []\n",
    "for _ in range(1000):\n",
    "     sample_statistics.append(choice(population, size=25, replace=False).mean())"
   ]
  },
  {
   "cell_type": "code",
   "execution_count": 8,
   "metadata": {
    "collapsed": false
   },
   "outputs": [
    {
     "data": {
      "text/plain": [
       "(array([   2.,    6.,    5.,    8.,   18.,   41.,   46.,   65.,   95.,\n",
       "          95.,   91.,  100.,  105.,   87.,   62.,   47.,   39.,   27.,\n",
       "          25.,   12.,    9.,    8.,    3.,    2.,    2.]),\n",
       " array([ 2.13916559,  2.22162255,  2.30407951,  2.38653647,  2.46899342,\n",
       "         2.55145038,  2.63390734,  2.71636429,  2.79882125,  2.88127821,\n",
       "         2.96373517,  3.04619212,  3.12864908,  3.21110604,  3.293563  ,\n",
       "         3.37601995,  3.45847691,  3.54093387,  3.62339082,  3.70584778,\n",
       "         3.78830474,  3.8707617 ,  3.95321865,  4.03567561,  4.11813257,\n",
       "         4.20058953]),\n",
       " <a list of 25 Patch objects>)"
      ]
     },
     "execution_count": 8,
     "metadata": {},
     "output_type": "execute_result"
    },
    {
     "data": {
      "image/png": "[encoded data removed]",
      "text/plain": [
       "<matplotlib.figure.Figure at 0x10bc10210>"
      ]
     },
     "metadata": {},
     "output_type": "display_data"
    }
   ],
   "source": [
    "plt.hist(sample_statistics, bins=25, rwidth=0.8)"
   ]
  },
  {
   "cell_type": "markdown",
   "metadata": {},
   "source": [
    "The standard deviation of the sampling distribution is the standard error:"
   ]
  },
  {
   "cell_type": "code",
   "execution_count": 9,
   "metadata": {
    "collapsed": false
   },
   "outputs": [
    {
     "data": {
      "text/plain": [
       "(3.0801545655891589, 0.32624534718538223)"
      ]
     },
     "execution_count": 9,
     "metadata": {},
     "output_type": "execute_result"
    }
   ],
   "source": [
    "np.array(sample_statistics).mean(), np.array(sample_statistics).std()"
   ]
  },
  {
   "cell_type": "markdown",
   "metadata": {},
   "source": [
    "The standard deviation of the population is reconstructed by multiplying the standard deviation of the sampling distribution by the square root of the sample size:"
   ]
  },
  {
   "cell_type": "code",
   "execution_count": 10,
   "metadata": {
    "collapsed": false
   },
   "outputs": [
    {
     "data": {
      "text/plain": [
       "1.6312267359269113"
      ]
     },
     "execution_count": 10,
     "metadata": {},
     "output_type": "execute_result"
    }
   ],
   "source": [
    "np.array(sample_statistics).std() * 25**0.5"
   ]
  },
  {
   "cell_type": "code",
   "execution_count": 11,
   "metadata": {
    "collapsed": false
   },
   "outputs": [
    {
     "data": {
      "text/plain": [
       "0.32624534718538223"
      ]
     },
     "execution_count": 11,
     "metadata": {},
     "output_type": "execute_result"
    }
   ],
   "source": [
    "np.array(sample_statistics).std()"
   ]
  },
  {
   "cell_type": "markdown",
   "metadata": {},
   "source": [
    "The standard error based on the single sample is:"
   ]
  },
  {
   "cell_type": "code",
   "execution_count": 12,
   "metadata": {
    "collapsed": false
   },
   "outputs": [
    {
     "data": {
      "text/plain": [
       "0.33774057126317292"
      ]
     },
     "execution_count": 12,
     "metadata": {},
     "output_type": "execute_result"
    }
   ],
   "source": [
    "sample.std() / 25**0.5"
   ]
  },
  {
   "cell_type": "markdown",
   "metadata": {},
   "source": [
    "Note that the above result agrees with the standard deviation of the sampling distriubtion."
   ]
  },
  {
   "cell_type": "markdown",
   "metadata": {},
   "source": [
    "Generate bootstrap samples from the 25 samples (not the population) and compute the mean of each:"
   ]
  },
  {
   "cell_type": "code",
   "execution_count": 13,
   "metadata": {
    "collapsed": true
   },
   "outputs": [],
   "source": [
    "bstraps = []\n",
    "for _ in range(1000):\n",
    "     bstraps.append(choice(sample, size=25, replace=True).mean())"
   ]
  },
  {
   "cell_type": "markdown",
   "metadata": {},
   "source": [
    "Plot the distribution of the means:"
   ]
  },
  {
   "cell_type": "code",
   "execution_count": 14,
   "metadata": {
    "collapsed": false
   },
   "outputs": [
    {
     "data": {
      "text/plain": [
       "(array([   7.,    5.,   13.,   21.,   38.,   64.,  106.,  116.,  121.,\n",
       "         113.,  118.,   98.,   56.,   40.,   41.,   23.,    7.,    5.,\n",
       "           4.,    4.]),\n",
       " array([ 2.50295889,  2.60992489,  2.7168909 ,  2.82385691,  2.93082292,\n",
       "         3.03778893,  3.14475493,  3.25172094,  3.35868695,  3.46565296,\n",
       "         3.57261896,  3.67958497,  3.78655098,  3.89351699,  4.000483  ,\n",
       "         4.107449  ,  4.21441501,  4.32138102,  4.42834703,  4.53531303,\n",
       "         4.64227904]),\n",
       " <a list of 20 Patch objects>)"
      ]
     },
     "execution_count": 14,
     "metadata": {},
     "output_type": "execute_result"
    },
    {
     "data": {
      "image/png": "[encoded data removed]",
      "text/plain": [
       "<matplotlib.figure.Figure at 0x10f86f990>"
      ]
     },
     "metadata": {},
     "output_type": "display_data"
    }
   ],
   "source": [
    "plt.hist(bstraps, rwidth=0.8, bins=20)"
   ]
  },
  {
   "cell_type": "markdown",
   "metadata": {},
   "source": [
    "The standard deviation of the bootstrapped sampling distribution is the standard error that we seek:"
   ]
  },
  {
   "cell_type": "code",
   "execution_count": 15,
   "metadata": {
    "collapsed": false
   },
   "outputs": [
    {
     "data": {
      "text/plain": [
       "0.34797066339054894"
      ]
     },
     "execution_count": 15,
     "metadata": {},
     "output_type": "execute_result"
    }
   ],
   "source": [
    "np.array(bstraps).std()"
   ]
  },
  {
   "cell_type": "markdown",
   "metadata": {},
   "source": [
    "### What is the 90% confidence interval of the sample mean according to bootstrapping?"
   ]
  },
  {
   "cell_type": "code",
   "execution_count": 16,
   "metadata": {
    "collapsed": false
   },
   "outputs": [
    {
     "data": {
      "text/plain": [
       "3.4865418439033551"
      ]
     },
     "execution_count": 16,
     "metadata": {},
     "output_type": "execute_result"
    }
   ],
   "source": [
    "np.array(bstraps).mean()"
   ]
  },
  {
   "cell_type": "code",
   "execution_count": 17,
   "metadata": {
    "collapsed": false
   },
   "outputs": [
    {
     "name": "stdout",
     "output_type": "stream",
     "text": [
      "49 2.94404350566\n",
      "950 4.08744136446\n"
     ]
    }
   ],
   "source": [
    "for i, val in enumerate(sorted(bstraps)):\n",
    "     if i == 49 or i == 950: print i, val"
   ]
  },
  {
   "cell_type": "code",
   "execution_count": 18,
   "metadata": {
    "collapsed": false
   },
   "outputs": [
    {
     "data": {
      "text/plain": [
       "(2.9542763191059649, 4.0864875387858577)"
      ]
     },
     "execution_count": 18,
     "metadata": {},
     "output_type": "execute_result"
    }
   ],
   "source": [
    "np.percentile(bstraps, q=5), np.percentile(bstraps, q=95)"
   ]
  },
  {
   "cell_type": "markdown",
   "metadata": {},
   "source": [
    "The 90% confidence interval is [2.15, 3.04]."
   ]
  },
  {
   "cell_type": "markdown",
   "metadata": {},
   "source": [
    "Using the equation based approach:"
   ]
  },
  {
   "cell_type": "code",
   "execution_count": 19,
   "metadata": {
    "collapsed": false
   },
   "outputs": [
    {
     "data": {
      "text/plain": [
       "(2.915579894324706, 4.071248476389778)"
      ]
     },
     "execution_count": 19,
     "metadata": {},
     "output_type": "execute_result"
    }
   ],
   "source": [
    "from scipy.stats import t\n",
    "\n",
    "lo = sample.mean() + t.ppf(0.05, df=24) * sample.std() / 25**0.5\n",
    "hi = sample.mean() - t.ppf(0.05, df=24) * sample.std() / 25**0.5\n",
    "lo, hi"
   ]
  },
  {
   "cell_type": "markdown",
   "metadata": {},
   "source": [
    "### Black Swan"
   ]
  },
  {
   "cell_type": "markdown",
   "metadata": {},
   "source": [
    "The black swan theory predicts that anamalous events are much more likely to occur than would be predicted by the normal distribution. A random variable that does not follow a normal distribution will not give a good fit on a QQ plot."
   ]
  },
  {
   "cell_type": "markdown",
   "metadata": {},
   "source": [
    "Gossett introducted the t-distribution in 1908. This is a part of classical statistical inference. The author argues that resampling methods are a better choice since computers are plenty fast enough today."
   ]
  },
  {
   "cell_type": "markdown",
   "metadata": {},
   "source": [
    "### Poisson distribution"
   ]
  },
  {
   "cell_type": "markdown",
   "metadata": {},
   "source": [
    "The number of events per unit time (or space) is typically modeled by a Poisson distribution. This assumes independent events. The number of heart attacks per day in NYC is one example. Or the number of visitors to a web site per hour. Or the number of typos per word in a newspaper. It is specified by the lambda parameter. The number time between events is given by the exponential distribution. Time to failure is typically described by the Weilbull distribution which is like the exponential distribution but with a parameter which accelerates or decelerates failure as time increaes (i.e., the lambda parameter changes over time).\n",
    "\n",
    "$$ f(k) = \\frac{\\lambda^ke^{-\\lambda}}{k!} $$"
   ]
  },
  {
   "cell_type": "code",
   "execution_count": 20,
   "metadata": {
    "collapsed": false
   },
   "outputs": [],
   "source": [
    "from scipy.stats import expon\n",
    "from scipy.stats import poisson"
   ]
  },
  {
   "cell_type": "code",
   "execution_count": 21,
   "metadata": {
    "collapsed": false
   },
   "outputs": [
    {
     "data": {
      "image/png": "[encoded data removed]",
      "text/plain": [
       "<matplotlib.figure.Figure at 0x10fa38590>"
      ]
     },
     "metadata": {},
     "output_type": "display_data"
    }
   ],
   "source": [
    "for k in range(10):\n",
    "     plt.axvline(x=k, ymax=poisson.pmf(mu=2, k=k), ymin=0)"
   ]
  },
  {
   "cell_type": "code",
   "execution_count": 22,
   "metadata": {
    "collapsed": false
   },
   "outputs": [
    {
     "data": {
      "text/plain": [
       "(array([ 0.13561356,  0.27012701,  0.2730273 ,  0.18531853,  0.08850885,\n",
       "         0.0330033 ,  0.01040104,  0.00310031,  0.00090009]),\n",
       " array([-0.5,  0.5,  1.5,  2.5,  3.5,  4.5,  5.5,  6.5,  7.5,  8.5]),\n",
       " <a list of 9 Patch objects>)"
      ]
     },
     "execution_count": 22,
     "metadata": {},
     "output_type": "execute_result"
    },
    {
     "data": {
      "image/png": "[encoded data removed]",
      "text/plain": [
       "<matplotlib.figure.Figure at 0x10f6a9910>"
      ]
     },
     "metadata": {},
     "output_type": "display_data"
    }
   ],
   "source": [
    "plt.hist(poisson.rvs(mu=2, size=10000), bins=np.arange(-0.5, 9, 1.0), rwidth=1, normed=True)"
   ]
  },
  {
   "cell_type": "markdown",
   "metadata": {},
   "source": [
    "### Exponential distribution"
   ]
  },
  {
   "cell_type": "markdown",
   "metadata": {},
   "source": [
    "The Poisson distribution gives the number of items per unit time. The exponential distribution describes the time between events. Note that if the rate for Poisson is 2 then the expect time between events is 1/2."
   ]
  },
  {
   "cell_type": "code",
   "execution_count": 40,
   "metadata": {
    "collapsed": false
   },
   "outputs": [
    {
     "data": {
      "text/plain": [
       "(array([ 213.,  175.,  144.,  107.,   95.,   58.,   38.,   33.,   24.,\n",
       "          25.,   16.,   21.,   12.,    9.,    7.,    4.,    7.,    1.,\n",
       "           2.,    3.,    3.,    0.,    2.,    0.,    1.]),\n",
       " array([  5.99337954e-04,   1.24908195e-01,   2.49217052e-01,\n",
       "          3.73525910e-01,   4.97834767e-01,   6.22143624e-01,\n",
       "          7.46452481e-01,   8.70761339e-01,   9.95070196e-01,\n",
       "          1.11937905e+00,   1.24368791e+00,   1.36799677e+00,\n",
       "          1.49230562e+00,   1.61661448e+00,   1.74092334e+00,\n",
       "          1.86523220e+00,   1.98954105e+00,   2.11384991e+00,\n",
       "          2.23815877e+00,   2.36246763e+00,   2.48677648e+00,\n",
       "          2.61108534e+00,   2.73539420e+00,   2.85970305e+00,\n",
       "          2.98401191e+00,   3.10832077e+00]),\n",
       " <a list of 25 Patch objects>)"
      ]
     },
     "execution_count": 40,
     "metadata": {},
     "output_type": "execute_result"
    },
    {
     "data": {
      "image/png": "[encoded data removed]",
      "text/plain": [
       "<matplotlib.figure.Figure at 0x111941910>"
      ]
     },
     "metadata": {},
     "output_type": "display_data"
    }
   ],
   "source": [
    "#pdf = lambda * exp(-lambda * x)``. This parameterization corresponds to using ``scale = 1 / lambda``.\n",
    "plt.hist(expon(scale=0.5).rvs(size=1000), bins=25, rwidth=1)"
   ]
  },
  {
   "cell_type": "code",
   "execution_count": 39,
   "metadata": {
    "collapsed": false
   },
   "outputs": [
    {
     "data": {
      "text/plain": [
       "0.50480225937614198"
      ]
     },
     "execution_count": 39,
     "metadata": {},
     "output_type": "execute_result"
    }
   ],
   "source": [
    "expon(scale=0.5).rvs(size=1000).mean()"
   ]
  }
 ],
 "metadata": {
  "anaconda-cloud": {},
  "kernelspec": {
   "display_name": "Python [conda root]",
   "language": "python",
   "name": "conda-root-py"
  },
  "language_info": {
   "codemirror_mode": {
    "name": "ipython",
    "version": 2
   },
   "file_extension": ".py",
   "mimetype": "text/x-python",
   "name": "python",
   "nbconvert_exporter": "python",
   "pygments_lexer": "ipython2",
   "version": "2.7.12"
  }
 },
 "nbformat": 4,
 "nbformat_minor": 1
}
