{
 "cells": [
  {
   "cell_type": "markdown",
   "metadata": {},
   "source": [
    "#Jonathan Halverson\n",
    "#Thursday, March 3, 2016\n",
    "#Linear Regression in StatsModels"
   ]
  },
  {
   "cell_type": "markdown",
   "metadata": {},
   "source": [
    "###Create artificial data: "
   ]
  },
  {
   "cell_type": "code",
   "execution_count": 169,
   "metadata": {
    "collapsed": false
   },
   "outputs": [],
   "source": [
    "import numpy as np\n",
    "np.random.seed(0)\n",
    "\n",
    "def f(x, m=2.0, b=6.0):\n",
    "    err = np.random.normal(loc=0.0, scale=1.0, size=x.size)\n",
    "    return m * x + b + err\n",
    "\n",
    "x = np.linspace(0.0, 5.0)\n",
    "y = f(x)"
   ]
  },
  {
   "cell_type": "markdown",
   "metadata": {},
   "source": [
    "### Plot the data using Matplotlib:"
   ]
  },
  {
   "cell_type": "code",
   "execution_count": 170,
   "metadata": {
    "collapsed": false,
    "scrolled": true
   },
   "outputs": [
    {
     "data": {
      "text/plain": [
       "<matplotlib.text.Text at 0x116dd9e90>"
      ]
     },
     "execution_count": 170,
     "metadata": {},
     "output_type": "execute_result"
    },
    {
     "data": {
      "image/png": "[encoded data removed]",
      "text/plain": [
       "<matplotlib.figure.Figure at 0x116e73b10>"
      ]
     },
     "metadata": {},
     "output_type": "display_data"
    }
   ],
   "source": [
    "import matplotlib.pyplot as plt\n",
    "%matplotlib inline\n",
    "plt.rcParams['font.size'] = 16\n",
    "\n",
    "line = plt.plot(x, y, 'wo')\n",
    "plt.xlabel('x')\n",
    "plt.ylabel('y')"
   ]
  },
  {
   "cell_type": "markdown",
   "metadata": {},
   "source": [
    "###Compute the ordinary least squares using StatsModels: "
   ]
  },
  {
   "cell_type": "code",
   "execution_count": 171,
   "metadata": {
    "collapsed": false
   },
   "outputs": [
    {
     "name": "stdout",
     "output_type": "stream",
     "text": [
      "                            OLS Regression Results                            \n",
      "==============================================================================\n",
      "Dep. Variable:                      y   R-squared:                       0.854\n",
      "Model:                            OLS   Adj. R-squared:                  0.851\n",
      "Method:                 Least Squares   F-statistic:                     280.7\n",
      "Date:                Sat, 05 Mar 2016   Prob (F-statistic):           1.09e-21\n",
      "Time:                        13:09:17   Log-Likelihood:                -73.192\n",
      "No. Observations:                  50   AIC:                             150.4\n",
      "Df Residuals:                      48   BIC:                             154.2\n",
      "Df Model:                           1                                         \n",
      "Covariance Type:            nonrobust                                         \n",
      "==============================================================================\n",
      "                 coef    std err          t      P>|t|      [95.0% Conf. Int.]\n",
      "------------------------------------------------------------------------------\n",
      "const          6.8464      0.297     23.016      0.000         6.248     7.444\n",
      "x1             1.7177      0.103     16.754      0.000         1.512     1.924\n",
      "==============================================================================\n",
      "Omnibus:                        0.236   Durbin-Watson:                   2.078\n",
      "Prob(Omnibus):                  0.889   Jarque-Bera (JB):                0.023\n",
      "Skew:                          -0.051   Prob(JB):                        0.989\n",
      "Kurtosis:                       3.022   Cond. No.                         6.24\n",
      "==============================================================================\n",
      "\n",
      "Warnings:\n",
      "[1] Standard Errors assume that the covariance matrix of the errors is correctly specified.\n"
     ]
    }
   ],
   "source": [
    "import statsmodels.api as sm\n",
    "X = sm.add_constant(x)\n",
    "regmodel = sm.OLS(y, X, missing='none')\n",
    "result = regmodel.fit()\n",
    "print result.summary()"
   ]
  },
  {
   "cell_type": "markdown",
   "metadata": {},
   "source": [
    "### The p-values indicate that the slope and intercept are non-zero:"
   ]
  },
  {
   "cell_type": "markdown",
   "metadata": {},
   "source": [
    "###Compute the slope and intercept using calculus on the sum of the squares: $dy/d\\alpha=0, dy/d\\beta = 0$: "
   ]
  },
  {
   "cell_type": "code",
   "execution_count": 185,
   "metadata": {
    "collapsed": false
   },
   "outputs": [
    {
     "name": "stdout",
     "output_type": "stream",
     "text": [
      "1.7176755014 6.84637051881\n"
     ]
    }
   ],
   "source": [
    "sumx = sum(x)\n",
    "sumy = sum(y)\n",
    "sumxx = sum(x*x)\n",
    "sumxy = sum(x*y)\n",
    "slope = (sumy - x.size * sumxy / sumx) / (sumx - x.size * sumxx / sumx)\n",
    "intercept = (sumxy - slope * sumxx) / sumx\n",
    "print slope, intercept"
   ]
  },
  {
   "cell_type": "markdown",
   "metadata": {},
   "source": [
    "###Plot the data and best-fit line: "
   ]
  },
  {
   "cell_type": "code",
   "execution_count": 172,
   "metadata": {
    "collapsed": false
   },
   "outputs": [
    {
     "data": {
      "text/plain": [
       "<matplotlib.text.Text at 0x1144d4250>"
      ]
     },
     "execution_count": 172,
     "metadata": {},
     "output_type": "execute_result"
    },
    {
     "data": {
      "image/png": "[encoded data removed]",
      "text/plain": [
       "<matplotlib.figure.Figure at 0x116eab490>"
      ]
     },
     "metadata": {},
     "output_type": "display_data"
    }
   ],
   "source": [
    "intercept = result.params[0]\n",
    "slope = result.params[1]\n",
    "lines = plt.plot(x, y, 'wo', x, slope * x + intercept, 'k-')\n",
    "plt.xlabel('x')\n",
    "plt.ylabel('y')"
   ]
  },
  {
   "cell_type": "markdown",
   "metadata": {},
   "source": [
    "###Let's compute the correlation and R-squared values by hand. The $R^2$ of a linear model describes the amount of variation in the response that is explained by the least squares line. Essentially we're comparing the raw variance in the y values to that of the residuals. If a perfect fit the $R^2=1$ since the variance is the residuals would be zero. It's like instead of using the raw mean, if one uses the predicted value of y for each x then the variance is reduced."
   ]
  },
  {
   "cell_type": "markdown",
   "metadata": {},
   "source": [
    "### The correlation, or the extent to which two variables have a linear relationship with each other, can be computed as"
   ]
  },
  {
   "cell_type": "code",
   "execution_count": 173,
   "metadata": {
    "collapsed": false
   },
   "outputs": [
    {
     "name": "stdout",
     "output_type": "stream",
     "text": [
      "0.924106548329\n"
     ]
    }
   ],
   "source": [
    "R = sum((x - x.mean()) * (y - y.mean())) / y.std(ddof=1) / x.std(ddof=1) / (x.size - 1.0)\n",
    "print R"
   ]
  },
  {
   "cell_type": "markdown",
   "metadata": {},
   "source": [
    "###In Python, this may be calculated as "
   ]
  },
  {
   "cell_type": "code",
   "execution_count": 174,
   "metadata": {
    "collapsed": false
   },
   "outputs": [
    {
     "name": "stdout",
     "output_type": "stream",
     "text": [
      "0.924106548329 1.09210506482e-21\n"
     ]
    }
   ],
   "source": [
    "from scipy.stats import pearsonr\n",
    "R, p_value = pearsonr(x, y)\n",
    "print R, p_value"
   ]
  },
  {
   "cell_type": "markdown",
   "metadata": {},
   "source": [
    "###The Pearson correlation coefficient measures the linear relationship between two datasets. Strictly speaking, Pearson’s correlation requires that each dataset be normally distributed. Like other correlation coefficients, this one varies between -1 and +1 with 0 implying no correlation. Correlations of -1 or +1 imply an exact linear relationship. Positive correlations imply that as x increases, so does y. Negative correlations imply that as x increases, y decreases.\n",
    "\n",
    "###The p-value roughly indicates the probability of an uncorrelated system producing datasets that have a Pearson correlation at least as extreme as the one computed from these datasets. The p-values are not entirely reliable but are probably reasonable for datasets larger than 500 or so. "
   ]
  },
  {
   "cell_type": "markdown",
   "metadata": {},
   "source": [
    "###The R-squared value is then "
   ]
  },
  {
   "cell_type": "code",
   "execution_count": 175,
   "metadata": {
    "collapsed": false
   },
   "outputs": [
    {
     "data": {
      "text/plain": [
       "0.85397291266520847"
      ]
     },
     "execution_count": 175,
     "metadata": {},
     "output_type": "execute_result"
    }
   ],
   "source": [
    "R**2"
   ]
  },
  {
   "cell_type": "markdown",
   "metadata": {},
   "source": [
    "###The R-squared value can also be computed as"
   ]
  },
  {
   "cell_type": "code",
   "execution_count": 176,
   "metadata": {
    "collapsed": false
   },
   "outputs": [
    {
     "data": {
      "text/plain": [
       "0.85397291266520858"
      ]
     },
     "execution_count": 176,
     "metadata": {},
     "output_type": "execute_result"
    }
   ],
   "source": [
    "(y.var() - result.resid.var()) / y.var()"
   ]
  },
  {
   "cell_type": "markdown",
   "metadata": {},
   "source": [
    "###From the OLS results we find: "
   ]
  },
  {
   "cell_type": "code",
   "execution_count": 177,
   "metadata": {
    "collapsed": false
   },
   "outputs": [
    {
     "data": {
      "text/plain": [
       "0.85397291266520869"
      ]
     },
     "execution_count": 177,
     "metadata": {},
     "output_type": "execute_result"
    }
   ],
   "source": [
    "result.rsquared"
   ]
  },
  {
   "cell_type": "markdown",
   "metadata": {},
   "source": [
    "### The adjusted R-squared value is given by $R^2_{adj}=1-\\frac{\\sigma^2_e}{\\sigma^2_y}\\frac{n-1}{n-k-1}$, where k and n are the number of features and number of observations, respectively."
   ]
  },
  {
   "cell_type": "code",
   "execution_count": 178,
   "metadata": {
    "collapsed": false
   },
   "outputs": [
    {
     "name": "stdout",
     "output_type": "stream",
     "text": [
      "0.850930681679\n"
     ]
    }
   ],
   "source": [
    "R2_adj = 1.0 - (result.resid.var() / y.var()) * (y.size - 1.0) / (y.size - 1 - 1.0)\n",
    "print R2_adj"
   ]
  },
  {
   "cell_type": "markdown",
   "metadata": {},
   "source": [
    "#Repeat calculation using R-style formula"
   ]
  },
  {
   "cell_type": "markdown",
   "metadata": {},
   "source": [
    "### Load data into a DataFrame"
   ]
  },
  {
   "cell_type": "code",
   "execution_count": 179,
   "metadata": {
    "collapsed": false
   },
   "outputs": [
    {
     "data": {
      "text/html": [
       "<div>\n",
       "<table border=\"1\" class=\"dataframe\">\n",
       "  <thead>\n",
       "    <tr style=\"text-align: right;\">\n",
       "      <th></th>\n",
       "      <th>x</th>\n",
       "      <th>y</th>\n",
       "    </tr>\n",
       "  </thead>\n",
       "  <tbody>\n",
       "    <tr>\n",
       "      <th>0</th>\n",
       "      <td>0.000000</td>\n",
       "      <td>7.764052</td>\n",
       "    </tr>\n",
       "    <tr>\n",
       "      <th>1</th>\n",
       "      <td>0.102041</td>\n",
       "      <td>6.604239</td>\n",
       "    </tr>\n",
       "    <tr>\n",
       "      <th>2</th>\n",
       "      <td>0.204082</td>\n",
       "      <td>7.386901</td>\n",
       "    </tr>\n",
       "    <tr>\n",
       "      <th>3</th>\n",
       "      <td>0.306122</td>\n",
       "      <td>8.853138</td>\n",
       "    </tr>\n",
       "    <tr>\n",
       "      <th>4</th>\n",
       "      <td>0.408163</td>\n",
       "      <td>8.683885</td>\n",
       "    </tr>\n",
       "  </tbody>\n",
       "</table>\n",
       "</div>"
      ],
      "text/plain": [
       "          x         y\n",
       "0  0.000000  7.764052\n",
       "1  0.102041  6.604239\n",
       "2  0.204082  7.386901\n",
       "3  0.306122  8.853138\n",
       "4  0.408163  8.683885"
      ]
     },
     "execution_count": 179,
     "metadata": {},
     "output_type": "execute_result"
    }
   ],
   "source": [
    "import pandas as pd\n",
    "xy = pd.DataFrame({'x':x, 'y':y})\n",
    "xy.head()"
   ]
  },
  {
   "cell_type": "markdown",
   "metadata": {},
   "source": [
    "### Use Patsy to enter R-style formulas"
   ]
  },
  {
   "cell_type": "code",
   "execution_count": 184,
   "metadata": {
    "collapsed": false
   },
   "outputs": [
    {
     "name": "stdout",
     "output_type": "stream",
     "text": [
      "                            OLS Regression Results                            \n",
      "==============================================================================\n",
      "Dep. Variable:                      y   R-squared:                       0.854\n",
      "Model:                            OLS   Adj. R-squared:                  0.851\n",
      "Method:                 Least Squares   F-statistic:                     280.7\n",
      "Date:                Sat, 05 Mar 2016   Prob (F-statistic):           1.09e-21\n",
      "Time:                        13:12:15   Log-Likelihood:                -73.192\n",
      "No. Observations:                  50   AIC:                             150.4\n",
      "Df Residuals:                      48   BIC:                             154.2\n",
      "Df Model:                           1                                         \n",
      "Covariance Type:            nonrobust                                         \n",
      "==============================================================================\n",
      "                 coef    std err          t      P>|t|      [95.0% Conf. Int.]\n",
      "------------------------------------------------------------------------------\n",
      "Intercept      6.8464      0.297     23.016      0.000         6.248     7.444\n",
      "x              1.7177      0.103     16.754      0.000         1.512     1.924\n",
      "==============================================================================\n",
      "Omnibus:                        0.236   Durbin-Watson:                   2.078\n",
      "Prob(Omnibus):                  0.889   Jarque-Bera (JB):                0.023\n",
      "Skew:                          -0.051   Prob(JB):                        0.989\n",
      "Kurtosis:                       3.022   Cond. No.                         6.24\n",
      "==============================================================================\n",
      "\n",
      "Warnings:\n",
      "[1] Standard Errors assume that the covariance matrix of the errors is correctly specified.\n"
     ]
    }
   ],
   "source": [
    "import statsmodels.formula.api as smf\n",
    "result = smf.ols(formula='y ~ x', data=xy).fit()\n",
    "print result.summary()"
   ]
  },
  {
   "cell_type": "markdown",
   "metadata": {},
   "source": [
    "###The same answer is obtained. "
   ]
  }
 ],
 "metadata": {
  "kernelspec": {
   "display_name": "Python 2",
   "language": "python",
   "name": "python2"
  },
  "language_info": {
   "codemirror_mode": {
    "name": "ipython",
    "version": 2
   },
   "file_extension": ".py",
   "mimetype": "text/x-python",
   "name": "python",
   "nbconvert_exporter": "python",
   "pygments_lexer": "ipython2",
   "version": "2.7.5"
  }
 },
 "nbformat": 4,
 "nbformat_minor": 0
}
