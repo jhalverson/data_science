{
 "cells": [
  {
   "cell_type": "markdown",
   "metadata": {},
   "source": [
    "# Jonathan Halverson\n",
    "# Wednesday, March 16, 2016\n",
    "# Testing for goodness of fit using chi-square"
   ]
  },
  {
   "cell_type": "markdown",
   "metadata": {},
   "source": [
    "### Here we develop a method for assessing a null model when the data are binned. Specifically, let's find out if a jury pool represents the population or if there is racial bias."
   ]
  },
  {
   "cell_type": "code",
   "execution_count": 97,
   "metadata": {
    "collapsed": true
   },
   "outputs": [],
   "source": [
    "import numpy as np\n",
    "import matplotlib.pyplot as plt\n",
    "%matplotlib inline\n",
    "plt.rcParams['font.size'] = 14"
   ]
  },
  {
   "cell_type": "code",
   "execution_count": 98,
   "metadata": {
    "collapsed": true
   },
   "outputs": [],
   "source": [
    "import pandas as pd\n",
    "df = pd.read_csv('jury.txt')"
   ]
  },
  {
   "cell_type": "code",
   "execution_count": 99,
   "metadata": {
    "collapsed": false
   },
   "outputs": [
    {
     "data": {
      "text/html": [
       "<div>\n",
       "<table border=\"1\" class=\"dataframe\">\n",
       "  <thead>\n",
       "    <tr style=\"text-align: right;\">\n",
       "      <th></th>\n",
       "      <th>race</th>\n",
       "    </tr>\n",
       "  </thead>\n",
       "  <tbody>\n",
       "    <tr>\n",
       "      <th>0</th>\n",
       "      <td>white</td>\n",
       "    </tr>\n",
       "    <tr>\n",
       "      <th>1</th>\n",
       "      <td>white</td>\n",
       "    </tr>\n",
       "    <tr>\n",
       "      <th>2</th>\n",
       "      <td>white</td>\n",
       "    </tr>\n",
       "    <tr>\n",
       "      <th>3</th>\n",
       "      <td>white</td>\n",
       "    </tr>\n",
       "    <tr>\n",
       "      <th>4</th>\n",
       "      <td>white</td>\n",
       "    </tr>\n",
       "  </tbody>\n",
       "</table>\n",
       "</div>"
      ],
      "text/plain": [
       "    race\n",
       "0  white\n",
       "1  white\n",
       "2  white\n",
       "3  white\n",
       "4  white"
      ]
     },
     "execution_count": 99,
     "metadata": {},
     "output_type": "execute_result"
    }
   ],
   "source": [
    "df.head()"
   ]
  },
  {
   "cell_type": "code",
   "execution_count": 100,
   "metadata": {
    "collapsed": true
   },
   "outputs": [],
   "source": [
    "w = df[df.race == 'white']\n",
    "b = df[df.race == 'black']\n",
    "h = df[df.race == 'hispanic']\n",
    "o = df[df.race == 'other']"
   ]
  },
  {
   "cell_type": "code",
   "execution_count": 101,
   "metadata": {
    "collapsed": false
   },
   "outputs": [],
   "source": [
    "w_obs = w.size; w_expect = 0.72 * df.size\n",
    "b_obs = b.size; b_expect = 0.07 * df.size\n",
    "h_obs = h.size; h_expect = 0.12 * df.size\n",
    "o_obs = o.size; o_expect = 0.09 * df.size"
   ]
  },
  {
   "cell_type": "code",
   "execution_count": 102,
   "metadata": {
    "collapsed": false
   },
   "outputs": [
    {
     "name": "stdout",
     "output_type": "stream",
     "text": [
      "205 198.0\n",
      "26 19.25\n",
      "25 33.0\n",
      "19 24.75\n"
     ]
    }
   ],
   "source": [
    "print w_obs, w_expect\n",
    "print b_obs, b_expect\n",
    "print h_obs, h_expect\n",
    "print o_obs, o_expect"
   ]
  },
  {
   "cell_type": "markdown",
   "metadata": {},
   "source": [
    "### The null hypothesis is that the jury is representative of the population. The alternative is that there is racial bias. The assumptions are that each case is independent and each type is sufficiently large (>5)."
   ]
  },
  {
   "cell_type": "code",
   "execution_count": 103,
   "metadata": {
    "collapsed": false
   },
   "outputs": [
    {
     "name": "stdout",
     "output_type": "stream",
     "text": [
      "0.497468338163 1.53846778221 -1.39262124765 -1.15579348755 5.88961038961\n"
     ]
    }
   ],
   "source": [
    "Z1 = (w_obs - w_expect) / np.sqrt(w_expect)\n",
    "Z2 = (b_obs - b_expect) / np.sqrt(b_expect)\n",
    "Z3 = (h_obs - h_expect) / np.sqrt(h_expect)\n",
    "Z4 = (o_obs - o_expect) / np.sqrt(o_expect)\n",
    "chi_sq_statistic = Z1**2 + Z2**2 + Z3**2 + Z4**2\n",
    "print Z1, Z2, Z3, Z4, chi_sq_statistic"
   ]
  },
  {
   "cell_type": "markdown",
   "metadata": {},
   "source": [
    "### If the null hypothesis is true, then $\\chi^2$ follows a distribution called a chi-square distribution:"
   ]
  },
  {
   "cell_type": "code",
   "execution_count": 104,
   "metadata": {
    "collapsed": false
   },
   "outputs": [
    {
     "name": "stdout",
     "output_type": "stream",
     "text": [
      "0.117106191309 True\n"
     ]
    }
   ],
   "source": [
    "from scipy.stats import chi2\n",
    "p_value = 1.0 - chi2.cdf(chi_sq_statistic, df=3)\n",
    "print p_value, p_value > 0.05"
   ]
  },
  {
   "cell_type": "code",
   "execution_count": 105,
   "metadata": {
    "collapsed": false
   },
   "outputs": [
    {
     "data": {
      "text/plain": [
       "<matplotlib.text.Text at 0x111784b50>"
      ]
     },
     "execution_count": 105,
     "metadata": {},
     "output_type": "execute_result"
    },
    {
     "data": {
      "image/png": "[encoded data removed]",
      "text/plain": [
       "<matplotlib.figure.Figure at 0x110dc5110>"
      ]
     },
     "metadata": {},
     "output_type": "display_data"
    }
   ],
   "source": [
    "x = np.linspace(0, 25, num=200)\n",
    "x_right = np.linspace(chi_sq_statistic, 25)\n",
    "y_right = chi2.pdf(x_right, df=3)\n",
    "\n",
    "plt.fill_between(x_right, 0, y_right, facecolor='gray')\n",
    "plt.plot(x, chi2.pdf(x, df=3), 'k-')\n",
    "plt.xlabel('x')\n",
    "plt.ylabel('P(x)')"
   ]
  },
  {
   "cell_type": "markdown",
   "metadata": {},
   "source": [
    "### Hence we fail to reject the null hypothesis. That is, the data do not conclusively suggest that there is racial bias."
   ]
  },
  {
   "cell_type": "markdown",
   "metadata": {},
   "source": [
    "### The above can also be done in a single command using scipy.stats:"
   ]
  },
  {
   "cell_type": "code",
   "execution_count": 106,
   "metadata": {
    "collapsed": false
   },
   "outputs": [
    {
     "name": "stdout",
     "output_type": "stream",
     "text": [
      "5.88961038961 0.117106191309\n"
     ]
    }
   ],
   "source": [
    "from scipy.stats import chisquare\n",
    "chi_sq_stat, p_value = chisquare([w_obs, b_obs, h_obs, o_obs], [w_expect, b_expect, h_expect, o_expect])\n",
    "print chi_sq_stat, p_value"
   ]
  },
  {
   "cell_type": "markdown",
   "metadata": {},
   "source": [
    "### Below we plot the chi-square distribution for different DoF:"
   ]
  },
  {
   "cell_type": "code",
   "execution_count": 107,
   "metadata": {
    "collapsed": false
   },
   "outputs": [
    {
     "data": {
      "text/plain": [
       "<matplotlib.legend.Legend at 0x1118dc750>"
      ]
     },
     "execution_count": 107,
     "metadata": {},
     "output_type": "execute_result"
    },
    {
     "data": {
      "image/png": "[encoded data removed]",
      "text/plain": [
       "<matplotlib.figure.Figure at 0x1117924d0>"
      ]
     },
     "metadata": {},
     "output_type": "display_data"
    }
   ],
   "source": [
    "x = np.linspace(0, 25, num=200)\n",
    "plt.plot(x, chi2.pdf(x, df=1), label='$d_f=2$')\n",
    "plt.plot(x, chi2.pdf(x, df=5), label='$d_f=4$')\n",
    "plt.plot(x, chi2.pdf(x, df=10), label='$d_f=8$')\n",
    "plt.xlabel('x')\n",
    "plt.ylabel('P(x)')\n",
    "plt.legend(loc='upper right')"
   ]
  },
  {
   "cell_type": "markdown",
   "metadata": {},
   "source": [
    "### Chi-square test can also be used to test if data follow a certain distribution. For instance one can for a list of the number of days between positive gains in the S&P 500. This should follow a geometric distribution. The difference between the two distributions can be found with a chi square test."
   ]
  },
  {
   "cell_type": "markdown",
   "metadata": {},
   "source": [
    "# Two-way"
   ]
  },
  {
   "cell_type": "markdown",
   "metadata": {},
   "source": [
    "### A one-way table describes counts for each outcome in a single variable. A two-way table describes counts for combinations of outcomes for two variables. When we consider a two-way table, we often would like to know, are these variables related in any way? That is, are they dependent (versus independent)?"
   ]
  },
  {
   "cell_type": "markdown",
   "metadata": {},
   "source": [
    "### The hypothesis test for this Google experiment is really about assessing whether there is statistically significant evidence that the choice of the algorithm affects whether a user performs a second search. In other words, the goal is to check whether the search variable is independent of the algorithm variable."
   ]
  },
  {
   "cell_type": "code",
   "execution_count": 108,
   "metadata": {
    "collapsed": false
   },
   "outputs": [],
   "source": [
    "df = pd.DataFrame({'current':[3511, 1489], 'test1':[1749, 751], 'test2':[1818, 682]}, index=['no_search', 'new_search'])"
   ]
  },
  {
   "cell_type": "code",
   "execution_count": 109,
   "metadata": {
    "collapsed": false
   },
   "outputs": [
    {
     "data": {
      "text/html": [
       "<div>\n",
       "<table border=\"1\" class=\"dataframe\">\n",
       "  <thead>\n",
       "    <tr style=\"text-align: right;\">\n",
       "      <th></th>\n",
       "      <th>current</th>\n",
       "      <th>test1</th>\n",
       "      <th>test2</th>\n",
       "    </tr>\n",
       "  </thead>\n",
       "  <tbody>\n",
       "    <tr>\n",
       "      <th>no_search</th>\n",
       "      <td>3511</td>\n",
       "      <td>1749</td>\n",
       "      <td>1818</td>\n",
       "    </tr>\n",
       "    <tr>\n",
       "      <th>new_search</th>\n",
       "      <td>1489</td>\n",
       "      <td>751</td>\n",
       "      <td>682</td>\n",
       "    </tr>\n",
       "  </tbody>\n",
       "</table>\n",
       "</div>"
      ],
      "text/plain": [
       "            current  test1  test2\n",
       "no_search      3511   1749   1818\n",
       "new_search     1489    751    682"
      ]
     },
     "execution_count": 109,
     "metadata": {},
     "output_type": "execute_result"
    }
   ],
   "source": [
    "df"
   ]
  },
  {
   "cell_type": "code",
   "execution_count": 110,
   "metadata": {
    "collapsed": false
   },
   "outputs": [
    {
     "data": {
      "text/plain": [
       "no_search     7078\n",
       "new_search    2922\n",
       "dtype: int64"
      ]
     },
     "execution_count": 110,
     "metadata": {},
     "output_type": "execute_result"
    }
   ],
   "source": [
    "df.sum(axis=1)"
   ]
  },
  {
   "cell_type": "code",
   "execution_count": 111,
   "metadata": {
    "collapsed": false
   },
   "outputs": [
    {
     "data": {
      "text/plain": [
       "current    5000\n",
       "test1      2500\n",
       "test2      2500\n",
       "dtype: int64"
      ]
     },
     "execution_count": 111,
     "metadata": {},
     "output_type": "execute_result"
    }
   ],
   "source": [
    "df.sum(axis=0)"
   ]
  },
  {
   "cell_type": "code",
   "execution_count": 112,
   "metadata": {
    "collapsed": false
   },
   "outputs": [
    {
     "data": {
      "text/plain": [
       "7078"
      ]
     },
     "execution_count": 112,
     "metadata": {},
     "output_type": "execute_result"
    }
   ],
   "source": [
    "df.ix['no_search'].sum()"
   ]
  },
  {
   "cell_type": "markdown",
   "metadata": {},
   "source": [
    "### If the new_search variable is independent of the algorithm then the overall proportion would be:"
   ]
  },
  {
   "cell_type": "code",
   "execution_count": 113,
   "metadata": {
    "collapsed": false
   },
   "outputs": [
    {
     "data": {
      "text/plain": [
       "(0.70779999999999998, 0.29220000000000002)"
      ]
     },
     "execution_count": 113,
     "metadata": {},
     "output_type": "execute_result"
    }
   ],
   "source": [
    "p_no = df.ix['no_search'].sum() / 1e4\n",
    "p_new = df.ix['new_search'].sum() / 1e4\n",
    "p_no, p_new"
   ]
  },
  {
   "cell_type": "code",
   "execution_count": 114,
   "metadata": {
    "collapsed": false
   },
   "outputs": [],
   "source": [
    "tmp1 = [p_no * df.current.sum(), p_no * df.test1.sum(), p_no * df.test2.sum()]\n",
    "tmp2 = [p_new * df.current.sum(), p_new * df.test1.sum(), p_new * df.test2.sum()]\n",
    "df.ix['no_search_expect'] = tmp1\n",
    "df.ix['new_search_expect'] = tmp2"
   ]
  },
  {
   "cell_type": "code",
   "execution_count": 115,
   "metadata": {
    "collapsed": false
   },
   "outputs": [
    {
     "data": {
      "text/html": [
       "<div>\n",
       "<table border=\"1\" class=\"dataframe\">\n",
       "  <thead>\n",
       "    <tr style=\"text-align: right;\">\n",
       "      <th></th>\n",
       "      <th>current</th>\n",
       "      <th>test1</th>\n",
       "      <th>test2</th>\n",
       "    </tr>\n",
       "  </thead>\n",
       "  <tbody>\n",
       "    <tr>\n",
       "      <th>no_search</th>\n",
       "      <td>3511.0</td>\n",
       "      <td>1749.0</td>\n",
       "      <td>1818.0</td>\n",
       "    </tr>\n",
       "    <tr>\n",
       "      <th>new_search</th>\n",
       "      <td>1489.0</td>\n",
       "      <td>751.0</td>\n",
       "      <td>682.0</td>\n",
       "    </tr>\n",
       "    <tr>\n",
       "      <th>no_search_expect</th>\n",
       "      <td>3539.0</td>\n",
       "      <td>1769.5</td>\n",
       "      <td>1769.5</td>\n",
       "    </tr>\n",
       "    <tr>\n",
       "      <th>new_search_expect</th>\n",
       "      <td>1461.0</td>\n",
       "      <td>730.5</td>\n",
       "      <td>730.5</td>\n",
       "    </tr>\n",
       "  </tbody>\n",
       "</table>\n",
       "</div>"
      ],
      "text/plain": [
       "                   current   test1   test2\n",
       "no_search           3511.0  1749.0  1818.0\n",
       "new_search          1489.0   751.0   682.0\n",
       "no_search_expect    3539.0  1769.5  1769.5\n",
       "new_search_expect   1461.0   730.5   730.5"
      ]
     },
     "execution_count": 115,
     "metadata": {},
     "output_type": "execute_result"
    }
   ],
   "source": [
    "df"
   ]
  },
  {
   "cell_type": "code",
   "execution_count": 122,
   "metadata": {
    "collapsed": false
   },
   "outputs": [
    {
     "name": "stdout",
     "output_type": "stream",
     "text": [
      "6.12032270124 0.0468801304715 False\n"
     ]
    }
   ],
   "source": [
    "chi_sq = sum([((df.ix['new_search'][i] - df.ix['new_search_expect'][i])**2) /  df.ix['new_search_expect'][i] + ((df.ix['no_search'][i] - df.ix['no_search_expect'][i])**2) /  df.ix['no_search_expect'][i] for i in [0, 1, 2]])\n",
    "p_value = 1.0 - chi2.cdf(chi_sq, df=(2 - 1) * (3 - 1))\n",
    "print chi_sq, p_value, p_value > 0.05"
   ]
  },
  {
   "cell_type": "markdown",
   "metadata": {},
   "source": [
    "# The same calculation can be performed using the chi2_contingency method:"
   ]
  },
  {
   "cell_type": "code",
   "execution_count": 125,
   "metadata": {
    "collapsed": false
   },
   "outputs": [
    {
     "name": "stdout",
     "output_type": "stream",
     "text": [
      "6.12032270124 0.0468801304715 False\n"
     ]
    }
   ],
   "source": [
    "from scipy.stats import chi2_contingency\n",
    "chi_sq, p_value, dof, expect = chi2_contingency([df.ix['no_search'], df.ix['new_search']])\n",
    "print chi_sq, p_value, p_value > 0.05"
   ]
  },
  {
   "cell_type": "markdown",
   "metadata": {},
   "source": [
    "### We reject the null hypothesis in favor of the alternative. That is, the performance of the search engines is not all the same."
   ]
  }
 ],
 "metadata": {
  "kernelspec": {
   "display_name": "Python 2",
   "language": "python",
   "name": "python2"
  },
  "language_info": {
   "codemirror_mode": {
    "name": "ipython",
    "version": 2
   },
   "file_extension": ".py",
   "mimetype": "text/x-python",
   "name": "python",
   "nbconvert_exporter": "python",
   "pygments_lexer": "ipython2",
   "version": "2.7.5"
  }
 },
 "nbformat": 4,
 "nbformat_minor": 0
}
