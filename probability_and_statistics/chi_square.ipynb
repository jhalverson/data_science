{
 "cells": [
  {
   "cell_type": "markdown",
   "metadata": {},
   "source": [
    "# Jonathan Halverson\n",
    "# Wednesday, March 16, 2016\n",
    "# Testing for goodness of fit using chi-square"
   ]
  },
  {
   "cell_type": "markdown",
   "metadata": {},
   "source": [
    "### Here we develop a method for assessing a null model when the data are binned. Specifically, let's find out if a jury pool represents the population or if there is racial bias."
   ]
  },
  {
   "cell_type": "code",
   "execution_count": 1,
   "metadata": {
    "collapsed": true
   },
   "outputs": [],
   "source": [
    "import numpy as np\n",
    "import matplotlib.pyplot as plt\n",
    "%matplotlib inline\n",
    "plt.style.use('halverson')"
   ]
  },
  {
   "cell_type": "code",
   "execution_count": 2,
   "metadata": {
    "collapsed": true
   },
   "outputs": [],
   "source": [
    "import pandas as pd\n",
    "df = pd.read_csv('jury.txt')"
   ]
  },
  {
   "cell_type": "code",
   "execution_count": 3,
   "metadata": {
    "collapsed": false
   },
   "outputs": [
    {
     "data": {
      "text/html": [
       "<div>\n",
       "<table border=\"1\" class=\"dataframe\">\n",
       "  <thead>\n",
       "    <tr style=\"text-align: right;\">\n",
       "      <th></th>\n",
       "      <th>race</th>\n",
       "    </tr>\n",
       "  </thead>\n",
       "  <tbody>\n",
       "    <tr>\n",
       "      <th>0</th>\n",
       "      <td>white</td>\n",
       "    </tr>\n",
       "    <tr>\n",
       "      <th>1</th>\n",
       "      <td>white</td>\n",
       "    </tr>\n",
       "    <tr>\n",
       "      <th>2</th>\n",
       "      <td>white</td>\n",
       "    </tr>\n",
       "    <tr>\n",
       "      <th>3</th>\n",
       "      <td>white</td>\n",
       "    </tr>\n",
       "    <tr>\n",
       "      <th>4</th>\n",
       "      <td>white</td>\n",
       "    </tr>\n",
       "  </tbody>\n",
       "</table>\n",
       "</div>"
      ],
      "text/plain": [
       "    race\n",
       "0  white\n",
       "1  white\n",
       "2  white\n",
       "3  white\n",
       "4  white"
      ]
     },
     "execution_count": 3,
     "metadata": {},
     "output_type": "execute_result"
    }
   ],
   "source": [
    "df.head()"
   ]
  },
  {
   "cell_type": "code",
   "execution_count": 4,
   "metadata": {
    "collapsed": true
   },
   "outputs": [],
   "source": [
    "w = df[df.race == 'white']\n",
    "b = df[df.race == 'black']\n",
    "h = df[df.race == 'hispanic']\n",
    "o = df[df.race == 'other']"
   ]
  },
  {
   "cell_type": "code",
   "execution_count": 5,
   "metadata": {
    "collapsed": false
   },
   "outputs": [],
   "source": [
    "w_obs = w.size; w_expect = 0.72 * df.size\n",
    "b_obs = b.size; b_expect = 0.07 * df.size\n",
    "h_obs = h.size; h_expect = 0.12 * df.size\n",
    "o_obs = o.size; o_expect = 0.09 * df.size"
   ]
  },
  {
   "cell_type": "code",
   "execution_count": 6,
   "metadata": {
    "collapsed": false
   },
   "outputs": [
    {
     "name": "stdout",
     "output_type": "stream",
     "text": [
      "205 198.0\n",
      "26 19.25\n",
      "25 33.0\n",
      "19 24.75\n"
     ]
    }
   ],
   "source": [
    "print w_obs, w_expect\n",
    "print b_obs, b_expect\n",
    "print h_obs, h_expect\n",
    "print o_obs, o_expect"
   ]
  },
  {
   "cell_type": "markdown",
   "metadata": {},
   "source": [
    "### The null hypothesis is that the jury is representative of the population. The alternative is that there is racial bias. The assumptions are that each case is independent and each type is sufficiently large (>5)."
   ]
  },
  {
   "cell_type": "code",
   "execution_count": 7,
   "metadata": {
    "collapsed": false
   },
   "outputs": [
    {
     "name": "stdout",
     "output_type": "stream",
     "text": [
      "0.497468338163 1.53846778221 -1.39262124765 -1.15579348755 5.88961038961\n"
     ]
    }
   ],
   "source": [
    "Z1 = (w_obs - w_expect) / np.sqrt(w_expect)\n",
    "Z2 = (b_obs - b_expect) / np.sqrt(b_expect)\n",
    "Z3 = (h_obs - h_expect) / np.sqrt(h_expect)\n",
    "Z4 = (o_obs - o_expect) / np.sqrt(o_expect)\n",
    "chi_sq_statistic = Z1**2 + Z2**2 + Z3**2 + Z4**2\n",
    "print Z1, Z2, Z3, Z4, chi_sq_statistic"
   ]
  },
  {
   "cell_type": "markdown",
   "metadata": {},
   "source": [
    "### If the null hypothesis is true, then $\\chi^2$ follows a distribution called a chi-square distribution:"
   ]
  },
  {
   "cell_type": "code",
   "execution_count": 8,
   "metadata": {
    "collapsed": false
   },
   "outputs": [
    {
     "name": "stdout",
     "output_type": "stream",
     "text": [
      "0.117106191309 True\n"
     ]
    }
   ],
   "source": [
    "from scipy.stats import chi2\n",
    "p_value = 1.0 - chi2.cdf(chi_sq_statistic, df=3)\n",
    "print p_value, p_value > 0.05"
   ]
  },
  {
   "cell_type": "code",
   "execution_count": 9,
   "metadata": {
    "collapsed": false
   },
   "outputs": [
    {
     "data": {
      "text/plain": [
       "<matplotlib.text.Text at 0x112b97dd0>"
      ]
     },
     "execution_count": 9,
     "metadata": {},
     "output_type": "execute_result"
    },
    {
     "data": {
      "image/png": "[encoded data removed]",
      "text/plain": [
       "<matplotlib.figure.Figure at 0x1103eb950>"
      ]
     },
     "metadata": {},
     "output_type": "display_data"
    }
   ],
   "source": [
    "x = np.linspace(0, 25, num=200)\n",
    "x_right = np.linspace(chi_sq_statistic, 25)\n",
    "y_right = chi2.pdf(x_right, df=3)\n",
    "\n",
    "plt.fill_between(x_right, 0, y_right, facecolor='gray')\n",
    "plt.plot(x, chi2.pdf(x, df=3), 'k-')\n",
    "plt.xlabel('x')\n",
    "plt.ylabel('P(x)')"
   ]
  },
  {
   "cell_type": "markdown",
   "metadata": {},
   "source": [
    "### Hence we fail to reject the null hypothesis. That is, the data do not conclusively suggest that there is racial bias."
   ]
  },
  {
   "cell_type": "markdown",
   "metadata": {},
   "source": [
    "### The above can also be done in a single command using scipy.stats:"
   ]
  },
  {
   "cell_type": "code",
   "execution_count": 10,
   "metadata": {
    "collapsed": false
   },
   "outputs": [
    {
     "name": "stdout",
     "output_type": "stream",
     "text": [
      "5.88961038961 0.117106191309\n"
     ]
    }
   ],
   "source": [
    "from scipy.stats import chisquare\n",
    "chi_sq_stat, p_value = chisquare([w_obs, b_obs, h_obs, o_obs], [w_expect, b_expect, h_expect, o_expect])\n",
    "print chi_sq_stat, p_value"
   ]
  },
  {
   "cell_type": "markdown",
   "metadata": {},
   "source": [
    "### Below we plot the chi-square distribution for different DoF:"
   ]
  },
  {
   "cell_type": "code",
   "execution_count": 11,
   "metadata": {
    "collapsed": false
   },
   "outputs": [
    {
     "data": {
      "text/plain": [
       "<matplotlib.legend.Legend at 0x112dd4a90>"
      ]
     },
     "execution_count": 11,
     "metadata": {},
     "output_type": "execute_result"
    },
    {
     "data": {
      "image/png": "[encoded data removed]",
      "text/plain": [
       "<matplotlib.figure.Figure at 0x1103e0e10>"
      ]
     },
     "metadata": {},
     "output_type": "display_data"
    }
   ],
   "source": [
    "x = np.linspace(0, 25, num=200)\n",
    "plt.plot(x, chi2.pdf(x, df=1), label='$d_f=2$')\n",
    "plt.plot(x, chi2.pdf(x, df=5), label='$d_f=4$')\n",
    "plt.plot(x, chi2.pdf(x, df=10), label='$d_f=8$')\n",
    "plt.xlabel('x')\n",
    "plt.ylabel('P(x)')\n",
    "plt.legend(loc='upper right')"
   ]
  },
  {
   "cell_type": "markdown",
   "metadata": {},
   "source": [
    "### Chi-square test can also be used to test if data follow a certain distribution. For instance one can for a list of the number of days between positive gains in the S&P 500. This should follow a geometric distribution. The difference between the two distributions can be found with a chi square test."
   ]
  },
  {
   "cell_type": "markdown",
   "metadata": {},
   "source": [
    "# Two-way"
   ]
  },
  {
   "cell_type": "markdown",
   "metadata": {},
   "source": [
    "### A one-way table describes counts for each outcome in a single variable. A two-way table describes counts for combinations of outcomes for two variables. When we consider a two-way table, we often would like to know, are these variables related in any way? That is, are they dependent (versus independent)?"
   ]
  },
  {
   "cell_type": "markdown",
   "metadata": {},
   "source": [
    "### The hypothesis test for this Google experiment is really about assessing whether there is statistically significant evidence that the choice of the algorithm affects whether a user performs a second search. In other words, the goal is to check whether the search variable is independent of the algorithm variable."
   ]
  },
  {
   "cell_type": "code",
   "execution_count": 12,
   "metadata": {
    "collapsed": false
   },
   "outputs": [],
   "source": [
    "df = pd.DataFrame({'current':[3511, 1489], 'test1':[1749, 751], 'test2':[1818, 682]}, index=['no_search', 'new_search'])"
   ]
  },
  {
   "cell_type": "code",
   "execution_count": 13,
   "metadata": {
    "collapsed": false
   },
   "outputs": [
    {
     "data": {
      "text/html": [
       "<div>\n",
       "<table border=\"1\" class=\"dataframe\">\n",
       "  <thead>\n",
       "    <tr style=\"text-align: right;\">\n",
       "      <th></th>\n",
       "      <th>current</th>\n",
       "      <th>test1</th>\n",
       "      <th>test2</th>\n",
       "    </tr>\n",
       "  </thead>\n",
       "  <tbody>\n",
       "    <tr>\n",
       "      <th>no_search</th>\n",
       "      <td>3511</td>\n",
       "      <td>1749</td>\n",
       "      <td>1818</td>\n",
       "    </tr>\n",
       "    <tr>\n",
       "      <th>new_search</th>\n",
       "      <td>1489</td>\n",
       "      <td>751</td>\n",
       "      <td>682</td>\n",
       "    </tr>\n",
       "  </tbody>\n",
       "</table>\n",
       "</div>"
      ],
      "text/plain": [
       "            current  test1  test2\n",
       "no_search      3511   1749   1818\n",
       "new_search     1489    751    682"
      ]
     },
     "execution_count": 13,
     "metadata": {},
     "output_type": "execute_result"
    }
   ],
   "source": [
    "df"
   ]
  },
  {
   "cell_type": "code",
   "execution_count": 14,
   "metadata": {
    "collapsed": false
   },
   "outputs": [
    {
     "data": {
      "text/plain": [
       "no_search     7078\n",
       "new_search    2922\n",
       "dtype: int64"
      ]
     },
     "execution_count": 14,
     "metadata": {},
     "output_type": "execute_result"
    }
   ],
   "source": [
    "df.sum(axis=1)"
   ]
  },
  {
   "cell_type": "code",
   "execution_count": 15,
   "metadata": {
    "collapsed": false
   },
   "outputs": [
    {
     "data": {
      "text/plain": [
       "current    5000\n",
       "test1      2500\n",
       "test2      2500\n",
       "dtype: int64"
      ]
     },
     "execution_count": 15,
     "metadata": {},
     "output_type": "execute_result"
    }
   ],
   "source": [
    "df.sum(axis=0)"
   ]
  },
  {
   "cell_type": "code",
   "execution_count": 16,
   "metadata": {
    "collapsed": false
   },
   "outputs": [
    {
     "data": {
      "text/plain": [
       "7078"
      ]
     },
     "execution_count": 16,
     "metadata": {},
     "output_type": "execute_result"
    }
   ],
   "source": [
    "df.ix['no_search'].sum()"
   ]
  },
  {
   "cell_type": "markdown",
   "metadata": {},
   "source": [
    "### If the new_search variable is independent of the algorithm then the overall proportion would be:"
   ]
  },
  {
   "cell_type": "code",
   "execution_count": 17,
   "metadata": {
    "collapsed": false
   },
   "outputs": [
    {
     "data": {
      "text/plain": [
       "(0.7078, 0.2922)"
      ]
     },
     "execution_count": 17,
     "metadata": {},
     "output_type": "execute_result"
    }
   ],
   "source": [
    "p_no = df.ix['no_search'].sum() / 1e4\n",
    "p_new = df.ix['new_search'].sum() / 1e4\n",
    "p_no, p_new"
   ]
  },
  {
   "cell_type": "code",
   "execution_count": 18,
   "metadata": {
    "collapsed": false
   },
   "outputs": [],
   "source": [
    "tmp1 = [p_no * df.current.sum(), p_no * df.test1.sum(), p_no * df.test2.sum()]\n",
    "tmp2 = [p_new * df.current.sum(), p_new * df.test1.sum(), p_new * df.test2.sum()]\n",
    "df.ix['no_search_expect'] = tmp1\n",
    "df.ix['new_search_expect'] = tmp2"
   ]
  },
  {
   "cell_type": "code",
   "execution_count": 19,
   "metadata": {
    "collapsed": false
   },
   "outputs": [
    {
     "data": {
      "text/html": [
       "<div>\n",
       "<table border=\"1\" class=\"dataframe\">\n",
       "  <thead>\n",
       "    <tr style=\"text-align: right;\">\n",
       "      <th></th>\n",
       "      <th>current</th>\n",
       "      <th>test1</th>\n",
       "      <th>test2</th>\n",
       "    </tr>\n",
       "  </thead>\n",
       "  <tbody>\n",
       "    <tr>\n",
       "      <th>no_search</th>\n",
       "      <td>3511.0</td>\n",
       "      <td>1749.0</td>\n",
       "      <td>1818.0</td>\n",
       "    </tr>\n",
       "    <tr>\n",
       "      <th>new_search</th>\n",
       "      <td>1489.0</td>\n",
       "      <td>751.0</td>\n",
       "      <td>682.0</td>\n",
       "    </tr>\n",
       "    <tr>\n",
       "      <th>no_search_expect</th>\n",
       "      <td>3539.0</td>\n",
       "      <td>1769.5</td>\n",
       "      <td>1769.5</td>\n",
       "    </tr>\n",
       "    <tr>\n",
       "      <th>new_search_expect</th>\n",
       "      <td>1461.0</td>\n",
       "      <td>730.5</td>\n",
       "      <td>730.5</td>\n",
       "    </tr>\n",
       "  </tbody>\n",
       "</table>\n",
       "</div>"
      ],
      "text/plain": [
       "                   current   test1   test2\n",
       "no_search           3511.0  1749.0  1818.0\n",
       "new_search          1489.0   751.0   682.0\n",
       "no_search_expect    3539.0  1769.5  1769.5\n",
       "new_search_expect   1461.0   730.5   730.5"
      ]
     },
     "execution_count": 19,
     "metadata": {},
     "output_type": "execute_result"
    }
   ],
   "source": [
    "df"
   ]
  },
  {
   "cell_type": "code",
   "execution_count": 20,
   "metadata": {
    "collapsed": false
   },
   "outputs": [
    {
     "name": "stdout",
     "output_type": "stream",
     "text": [
      "6.12032270124 0.0468801304715 False\n"
     ]
    }
   ],
   "source": [
    "chi_sq = sum([((df.ix['new_search'][i] - df.ix['new_search_expect'][i])**2) /  df.ix['new_search_expect'][i] + ((df.ix['no_search'][i] - df.ix['no_search_expect'][i])**2) /  df.ix['no_search_expect'][i] for i in [0, 1, 2]])\n",
    "p_value = 1.0 - chi2.cdf(chi_sq, df=(2 - 1) * (3 - 1))\n",
    "print chi_sq, p_value, p_value > 0.05"
   ]
  },
  {
   "cell_type": "markdown",
   "metadata": {},
   "source": [
    "### The same calculation can be performed using the chi2_contingency method:"
   ]
  },
  {
   "cell_type": "code",
   "execution_count": 21,
   "metadata": {
    "collapsed": false
   },
   "outputs": [
    {
     "name": "stdout",
     "output_type": "stream",
     "text": [
      "6.12032270124 0.0468801304715 False\n"
     ]
    }
   ],
   "source": [
    "from scipy.stats import chi2_contingency\n",
    "chi_sq, p_value, dof, expect = chi2_contingency([df.ix['no_search'], df.ix['new_search']])\n",
    "print chi_sq, p_value, p_value > 0.05"
   ]
  },
  {
   "cell_type": "markdown",
   "metadata": {},
   "source": [
    "### We reject the null hypothesis in favor of the alternative. That is, the performance of the search engines is not all the same."
   ]
  },
  {
   "cell_type": "markdown",
   "metadata": {},
   "source": [
    "# Chi-square as a sum of standard normals"
   ]
  },
  {
   "cell_type": "code",
   "execution_count": 22,
   "metadata": {
    "collapsed": false
   },
   "outputs": [
    {
     "data": {
      "text/plain": [
       "(0, 30)"
      ]
     },
     "execution_count": 22,
     "metadata": {},
     "output_type": "execute_result"
    },
    {
     "data": {
      "image/png": "[encoded data removed]",
      "text/plain": [
       "<matplotlib.figure.Figure at 0x112dfb9d0>"
      ]
     },
     "metadata": {},
     "output_type": "display_data"
    }
   ],
   "source": [
    "from scipy.stats import norm\n",
    "\n",
    "k = 5\n",
    "Q = [sum(norm.rvs(size=k)**2) for _ in range(10000)]\n",
    "plt.hist(Q, bins=50, normed=True)\n",
    "plt.ylim(0, 0.2)\n",
    "plt.xlim(0, 30)"
   ]
  },
  {
   "cell_type": "code",
   "execution_count": 23,
   "metadata": {
    "collapsed": false
   },
   "outputs": [
    {
     "data": {
      "text/plain": [
       "(0, 30)"
      ]
     },
     "execution_count": 23,
     "metadata": {},
     "output_type": "execute_result"
    },
    {
     "data": {
      "image/png": "[encoded data removed]",
      "text/plain": [
       "<matplotlib.figure.Figure at 0x1136484d0>"
      ]
     },
     "metadata": {},
     "output_type": "display_data"
    }
   ],
   "source": [
    "from scipy.special import gamma\n",
    "df = 5\n",
    "y = [1 / (2.0*gamma(df/2.0)) * (x/2.0)**(df/2.0-1) * np.exp(-x/2.0) for x in np.linspace(0, 30, num=250)]\n",
    "plt.plot(np.linspace(0, 30, num=250), y)\n",
    "plt.ylim(0, 0.2)\n",
    "plt.xlim(0, 30)"
   ]
  },
  {
   "cell_type": "code",
   "execution_count": 24,
   "metadata": {
    "collapsed": false
   },
   "outputs": [
    {
     "data": {
      "text/plain": [
       "(4.9279213564412867, 0.019880315869883307, 1.0102041043482151)"
      ]
     },
     "execution_count": 24,
     "metadata": {},
     "output_type": "execute_result"
    }
   ],
   "source": [
    "shape, loc, scale = chi2.fit(Q)\n",
    "shape, loc, scale"
   ]
  },
  {
   "cell_type": "markdown",
   "metadata": {},
   "source": [
    "## Friday, July 30, 2017\n",
    "## Permutation applied to Chi-square"
   ]
  },
  {
   "cell_type": "code",
   "execution_count": 25,
   "metadata": {
    "collapsed": false
   },
   "outputs": [
    {
     "data": {
      "text/html": [
       "<div>\n",
       "<table border=\"1\" class=\"dataframe\">\n",
       "  <thead>\n",
       "    <tr style=\"text-align: right;\">\n",
       "      <th></th>\n",
       "      <th>current</th>\n",
       "      <th>test1</th>\n",
       "      <th>test2</th>\n",
       "    </tr>\n",
       "  </thead>\n",
       "  <tbody>\n",
       "    <tr>\n",
       "      <th>no_search</th>\n",
       "      <td>3511</td>\n",
       "      <td>1749</td>\n",
       "      <td>1818</td>\n",
       "    </tr>\n",
       "    <tr>\n",
       "      <th>new_search</th>\n",
       "      <td>1489</td>\n",
       "      <td>751</td>\n",
       "      <td>682</td>\n",
       "    </tr>\n",
       "  </tbody>\n",
       "</table>\n",
       "</div>"
      ],
      "text/plain": [
       "            current  test1  test2\n",
       "no_search      3511   1749   1818\n",
       "new_search     1489    751    682"
      ]
     },
     "execution_count": 25,
     "metadata": {},
     "output_type": "execute_result"
    }
   ],
   "source": [
    "df = pd.DataFrame({'current':[3511, 1489], 'test1':[1749, 751], 'test2':[1818, 682]}, index=['no_search', 'new_search'])\n",
    "df"
   ]
  },
  {
   "cell_type": "code",
   "execution_count": 26,
   "metadata": {
    "collapsed": false
   },
   "outputs": [
    {
     "data": {
      "text/plain": [
       "current    0.424096\n",
       "test1      0.429388\n",
       "test2      0.375138\n",
       "dtype: float64"
      ]
     },
     "execution_count": 26,
     "metadata": {},
     "output_type": "execute_result"
    }
   ],
   "source": [
    "df.ix['new_search'] / df.ix['no_search']"
   ]
  },
  {
   "cell_type": "code",
   "execution_count": 27,
   "metadata": {
    "collapsed": false
   },
   "outputs": [
    {
     "data": {
      "text/plain": [
       "no_search     7078\n",
       "new_search    2922\n",
       "dtype: int64"
      ]
     },
     "execution_count": 27,
     "metadata": {},
     "output_type": "execute_result"
    }
   ],
   "source": [
    "df.sum(axis=1)"
   ]
  },
  {
   "cell_type": "code",
   "execution_count": 28,
   "metadata": {
    "collapsed": false
   },
   "outputs": [
    {
     "data": {
      "text/plain": [
       "0.41282848262220967"
      ]
     },
     "execution_count": 28,
     "metadata": {},
     "output_type": "execute_result"
    }
   ],
   "source": [
    "2922 / 7078.0"
   ]
  },
  {
   "cell_type": "code",
   "execution_count": 29,
   "metadata": {
    "collapsed": false
   },
   "outputs": [
    {
     "data": {
      "text/plain": [
       "current    5000\n",
       "test1      2500\n",
       "test2      2500\n",
       "dtype: int64"
      ]
     },
     "execution_count": 29,
     "metadata": {},
     "output_type": "execute_result"
    }
   ],
   "source": [
    "df.sum(axis=0)"
   ]
  },
  {
   "cell_type": "code",
   "execution_count": 30,
   "metadata": {
    "collapsed": false
   },
   "outputs": [
    {
     "data": {
      "text/plain": [
       "(10000,)"
      ]
     },
     "execution_count": 30,
     "metadata": {},
     "output_type": "execute_result"
    }
   ],
   "source": [
    "outcomes = np.array(7078 * [1] + 2922 * [0])\n",
    "outcomes.shape"
   ]
  },
  {
   "cell_type": "code",
   "execution_count": 31,
   "metadata": {
    "collapsed": false
   },
   "outputs": [
    {
     "data": {
      "text/plain": [
       "(1461.0, 3539.0)"
      ]
     },
     "execution_count": 31,
     "metadata": {},
     "output_type": "execute_result"
    }
   ],
   "source": [
    "5000 * (2922 / 1e4), 5000 * (1.0 - 2922 / 1e4) "
   ]
  },
  {
   "cell_type": "code",
   "execution_count": 32,
   "metadata": {
    "collapsed": false
   },
   "outputs": [
    {
     "data": {
      "text/plain": [
       "(730.5, 1769.5)"
      ]
     },
     "execution_count": 32,
     "metadata": {},
     "output_type": "execute_result"
    }
   ],
   "source": [
    "2500 * (2922 / 1e4), 2500 * (1.0 - 2922 / 1e4) "
   ]
  },
  {
   "cell_type": "code",
   "execution_count": 33,
   "metadata": {
    "collapsed": false
   },
   "outputs": [
    {
     "data": {
      "text/plain": [
       "7113.0"
      ]
     },
     "execution_count": 33,
     "metadata": {},
     "output_type": "execute_result"
    }
   ],
   "source": [
    "thres = (3511 - 3539)**2 + (1489 - 1461)**2 + (1749 - 1769.5)**2 + (1818 - 1769.5)**2 + (751 - 730.5)**2 + (682 - 730.5)**2\n",
    "thres"
   ]
  },
  {
   "cell_type": "code",
   "execution_count": 34,
   "metadata": {
    "collapsed": true
   },
   "outputs": [],
   "source": [
    "R2 = []\n",
    "for _ in range(1000):\n",
    "     x = np.random.permutation(outcomes)\n",
    "     m1 = x[:5000].sum()\n",
    "     m2 = x[5000:5000+2500].sum()\n",
    "     m3 = x[5000+2500:].sum()\n",
    "     R2.append((m1 - 3539)**2 + ((5000 - m1) - 1461)**2 + (m2 - 1769.5)**2 + (m3 - 1769.5)**2 + ((2500 - m2) - 730.5)**2 + ((2500 - m3) - 730.5)**2)"
   ]
  },
  {
   "cell_type": "code",
   "execution_count": 35,
   "metadata": {
    "collapsed": false,
    "scrolled": false
   },
   "outputs": [
    {
     "data": {
      "text/plain": [
       "(array([ 496.,  244.,  131.,   63.,   28.,   17.,    8.,    7.,    5.,    1.]),\n",
       " array([  1.00000000e+00,   1.70580000e+03,   3.41060000e+03,\n",
       "          5.11540000e+03,   6.82020000e+03,   8.52500000e+03,\n",
       "          1.02298000e+04,   1.19346000e+04,   1.36394000e+04,\n",
       "          1.53442000e+04,   1.70490000e+04]),\n",
       " <a list of 10 Patch objects>)"
      ]
     },
     "execution_count": 35,
     "metadata": {},
     "output_type": "execute_result"
    },
    {
     "data": {
      "image/png": "[encoded data removed]",
      "text/plain": [
       "<matplotlib.figure.Figure at 0x112c67e10>"
      ]
     },
     "metadata": {},
     "output_type": "display_data"
    }
   ],
   "source": [
    "plt.hist(np.array(R2))"
   ]
  },
  {
   "cell_type": "code",
   "execution_count": 36,
   "metadata": {
    "collapsed": false
   },
   "outputs": [
    {
     "data": {
      "text/plain": [
       "0.063999999999999946"
      ]
     },
     "execution_count": 36,
     "metadata": {},
     "output_type": "execute_result"
    }
   ],
   "source": [
    "from scipy.stats import percentileofscore\n",
    "\n",
    "p_value = 1.0 - percentileofscore(R2, thres) / 100.0\n",
    "p_value"
   ]
  },
  {
   "cell_type": "markdown",
   "metadata": {},
   "source": [
    "### Fisher's exact test"
   ]
  },
  {
   "cell_type": "code",
   "execution_count": 37,
   "metadata": {
    "collapsed": true
   },
   "outputs": [],
   "source": [
    "from scipy.stats import fisher_exact"
   ]
  },
  {
   "cell_type": "markdown",
   "metadata": {},
   "source": [
    "This procedure is not useful since it can only handle a 2x2 table. Lame."
   ]
  }
 ],
 "metadata": {
  "kernelspec": {
   "display_name": "Python [default]",
   "language": "python",
   "name": "python2"
  },
  "language_info": {
   "codemirror_mode": {
    "name": "ipython",
    "version": 2
   },
   "file_extension": ".py",
   "mimetype": "text/x-python",
   "name": "python",
   "nbconvert_exporter": "python",
   "pygments_lexer": "ipython2",
   "version": "2.7.12"
  }
 },
 "nbformat": 4,
 "nbformat_minor": 0
}
