{
 "cells": [
  {
   "cell_type": "markdown",
   "metadata": {},
   "source": [
    "# Jonathan Halverson\n",
    "# Thursday, March 10, 2016"
   ]
  },
  {
   "cell_type": "markdown",
   "metadata": {},
   "source": [
    "# Spearman versus Pearson correlation"
   ]
  },
  {
   "cell_type": "markdown",
   "metadata": {},
   "source": [
    "### Spearman uses the rank instead of the raw data. It is less sensitive to ouliers."
   ]
  },
  {
   "cell_type": "code",
   "execution_count": 103,
   "metadata": {
    "collapsed": true
   },
   "outputs": [],
   "source": [
    "from scipy.stats import spearmanr"
   ]
  },
  {
   "cell_type": "code",
   "execution_count": 104,
   "metadata": {
    "collapsed": false
   },
   "outputs": [
    {
     "data": {
      "text/plain": [
       "(1.0, 0.0)"
      ]
     },
     "execution_count": 104,
     "metadata": {},
     "output_type": "execute_result"
    }
   ],
   "source": [
    "spearmanr(range(10), range(10))"
   ]
  },
  {
   "cell_type": "markdown",
   "metadata": {},
   "source": [
    "# t-test"
   ]
  },
  {
   "cell_type": "markdown",
   "metadata": {},
   "source": [
    "### Let's use a t-test to determine if two small samples have the same mean:"
   ]
  },
  {
   "cell_type": "code",
   "execution_count": 105,
   "metadata": {
    "collapsed": false
   },
   "outputs": [],
   "source": [
    "from scipy.stats import norm\n",
    "grades1 = norm.rvs(loc=69.0, scale=4.5, size=10)\n",
    "grades2 = norm.rvs(loc=75.0, scale=3.8, size=10)"
   ]
  },
  {
   "cell_type": "markdown",
   "metadata": {},
   "source": [
    "### ttest_ind: Calculates the T-test for the means of two independent samples of scores.\n",
    "    \n",
    "### This is a two-sided test for the null hypothesis that 2 independent samples have identical average (expected) values. This test assumes that the populations have identical variances."
   ]
  },
  {
   "cell_type": "code",
   "execution_count": 106,
   "metadata": {
    "collapsed": false
   },
   "outputs": [
    {
     "name": "stdout",
     "output_type": "stream",
     "text": [
      "-3.12582980796 0.00583963890541\n"
     ]
    }
   ],
   "source": [
    "t_stat, p_value = scipy.stats.ttest_ind(grades1, grades2)\n",
    "print t_stat, p_value"
   ]
  },
  {
   "cell_type": "markdown",
   "metadata": {},
   "source": [
    "# Chi Squared Test"
   ]
  },
  {
   "cell_type": "code",
   "execution_count": 107,
   "metadata": {
    "collapsed": false
   },
   "outputs": [
    {
     "name": "stdout",
     "output_type": "stream",
     "text": [
      "28.3621031746 6.93821171706e-07 2 [[ 136.95652174   97.39130435   45.65217391]\n",
      " [ 313.04347826  222.60869565  104.34782609]]\n"
     ]
    }
   ],
   "source": [
    "from scipy.stats import chi2_contingency\n",
    "chi2_value, p_value, ddof, freqs = scipy.stats.chi2_contingency([[100, 120, 60], [350, 200, 90]])\n",
    "print chi2_value, p_value, ddof, freqs"
   ]
  },
  {
   "cell_type": "markdown",
   "metadata": {},
   "source": [
    "# ANOVA"
   ]
  },
  {
   "cell_type": "markdown",
   "metadata": {},
   "source": [
    "### The ANOVA test has important assumptions that must be satisfied in order for the associated p-value to be valid. 1. The samples are independent within and across groups; 2. Each sample is from a normally distributed population; 3. The population standard deviations of the groups are all equal.  This property is known as homoscedasticity.\n",
    "    \n",
    "### If these assumptions are not true for a given set of data, it may still be possible to use the Kruskal-Wallis H-test (`scipy.stats.kruskal`) although with some loss of power.\n"
   ]
  },
  {
   "cell_type": "code",
   "execution_count": 108,
   "metadata": {
    "collapsed": false
   },
   "outputs": [
    {
     "name": "stdout",
     "output_type": "stream",
     "text": [
      "12.6580221725 8.47001037535e-06\n"
     ]
    }
   ],
   "source": [
    "from scipy.stats import f\n",
    "from scipy.stats import f_oneway as anova\n",
    "grades1 = norm.rvs(loc=69.1, scale=4.5, size=50)\n",
    "grades2 = norm.rvs(loc=75.6, scale=3.8, size=50)\n",
    "grades3 = norm.rvs(loc=72.4, scale=6.1, size=50)\n",
    "f_stat, p_value = anova(grades1, grades2, grades3)\n",
    "print f_stat, p_value"
   ]
  },
  {
   "cell_type": "markdown",
   "metadata": {},
   "source": [
    "### At least one mean is significantly different."
   ]
  },
  {
   "cell_type": "markdown",
   "metadata": {},
   "source": [
    "### We can do the calculations explicitly:"
   ]
  },
  {
   "cell_type": "code",
   "execution_count": 109,
   "metadata": {
    "collapsed": false
   },
   "outputs": [
    {
     "data": {
      "text/plain": [
       "[<matplotlib.lines.Line2D at 0x114fd9650>]"
      ]
     },
     "execution_count": 109,
     "metadata": {},
     "output_type": "execute_result"
    },
    {
     "data": {
      "image/png": "[encoded data removed]",
      "text/plain": [
       "<matplotlib.figure.Figure at 0x114ded0d0>"
      ]
     },
     "metadata": {},
     "output_type": "display_data"
    }
   ],
   "source": [
    "import numpy as np\n",
    "\n",
    "grades = np.array([grades1, grades2, grades3])\n",
    "groups = grades.size\n",
    "samples = grades1.size\n",
    "\n",
    "import matplotlib.pyplot as plt\n",
    "%matplotlib inline\n",
    "\n",
    "x = np.linspace(0.01, 6, num=100)\n",
    "y = f.pdf(x, dfG, dfE)\n",
    "plt.plot(x, y)"
   ]
  },
  {
   "cell_type": "code",
   "execution_count": 114,
   "metadata": {
    "collapsed": false
   },
   "outputs": [
    {
     "name": "stdout",
     "output_type": "stream",
     "text": [
      "4.04712273544 296.858342155 73.3504668777\n",
      "4.04712273544 296.858342155 73.3504668777\n"
     ]
    }
   ],
   "source": [
    "g_mean = grades.mean()\n",
    "MSG = samples * sum([(g_mean - g.mean())**2 for g in grades]) / float(dfG)\n",
    "MSE = (samples - 1) * sum([g.var(ddof=1) for g in grades]) / float(dfE)\n",
    "print MSG / MSE, MSG, MSE\n",
    "\n",
    "SSG = sum([g.size * (g_mean - g.mean())**2 for g in grades])\n",
    "MSG = SSG / dfG\n",
    "\n",
    "SST = sum([(g - g_mean)**2 for grade in grades for g in grade])\n",
    "SSE = SST - SSG\n",
    "MSE = SSE / dfE\n",
    "\n",
    "F = MSG / MSE\n",
    "print F, MSG, MSE"
   ]
  },
  {
   "cell_type": "code",
   "execution_count": 111,
   "metadata": {
    "collapsed": false
   },
   "outputs": [
    {
     "data": {
      "text/plain": [
       "0.023894779607448235"
      ]
     },
     "execution_count": 111,
     "metadata": {},
     "output_type": "execute_result"
    }
   ],
   "source": [
    "from scipy.stats import f\n",
    "1.0 - f.cdf(F, dfG, dfE)"
   ]
  },
  {
   "cell_type": "raw",
   "metadata": {},
   "source": [
    "### F is explicitly calculated in two ways above. The same answer is obtained with ddof = 1. The f_oneway gives a different result than our explicit calculation."
   ]
  }
 ],
 "metadata": {
  "kernelspec": {
   "display_name": "Python 2",
   "language": "python",
   "name": "python2"
  },
  "language_info": {
   "codemirror_mode": {
    "name": "ipython",
    "version": 2
   },
   "file_extension": ".py",
   "mimetype": "text/x-python",
   "name": "python",
   "nbconvert_exporter": "python",
   "pygments_lexer": "ipython2",
   "version": "2.7.5"
  }
 },
 "nbformat": 4,
 "nbformat_minor": 0
}
