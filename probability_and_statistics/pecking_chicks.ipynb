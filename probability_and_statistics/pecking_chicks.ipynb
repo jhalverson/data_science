{
 "cells": [
  {
   "cell_type": "markdown",
   "metadata": {},
   "source": [
    "# Jonathan Halverson\n",
    "# Monday, May 15, 2017\n",
    "# Pecking chicks from NY Times story"
   ]
  },
  {
   "cell_type": "code",
   "execution_count": 1,
   "metadata": {
    "collapsed": true
   },
   "outputs": [],
   "source": [
    "import numpy as np\n",
    "import matplotlib.pyplot as plt\n",
    "%matplotlib inline\n",
    "plt.style.use('halverson')"
   ]
  },
  {
   "cell_type": "markdown",
   "metadata": {},
   "source": [
    "If 100 chicks are arranged in a circle and they each peck randomly to their right or left then how many chicks are expected to be unpecked?"
   ]
  },
  {
   "cell_type": "code",
   "execution_count": 2,
   "metadata": {
    "collapsed": true
   },
   "outputs": [],
   "source": [
    "from random import random as rng\n",
    "\n",
    "trials = 10000\n",
    "num_chicks = 100"
   ]
  },
  {
   "cell_type": "code",
   "execution_count": 3,
   "metadata": {
    "collapsed": false
   },
   "outputs": [],
   "source": [
    "unpecked = []\n",
    "for _ in range(trials):\n",
    "     pecked_ids = []\n",
    "     for i in range(1, num_chicks + 1):\n",
    "          # left is your index minus 1, right is your index plus 1\n",
    "          if (rng() > 0.5):\n",
    "               pid = 100 if i - 1 == 0 else i - 1\n",
    "               pecked_ids.append(pid)\n",
    "          else:\n",
    "               pid = 1 if i + 1 == 101 else i + 1\n",
    "               pecked_ids.append(pid)\n",
    "     unpecked.append(num_chicks - len(set(pecked_ids)))"
   ]
  },
  {
   "cell_type": "code",
   "execution_count": 5,
   "metadata": {
    "collapsed": false
   },
   "outputs": [
    {
     "data": {
      "text/plain": [
       "(array([  1.00000000e+00,   3.00000000e+00,   1.00000000e+01,\n",
       "          3.20000000e+01,   8.30000000e+01,   2.32000000e+02,\n",
       "          4.27000000e+02,   7.97000000e+02,   1.09500000e+03,\n",
       "          1.46200000e+03,   1.64200000e+03,   1.47700000e+03,\n",
       "          1.17500000e+03,   7.86000000e+02,   4.60000000e+02,\n",
       "          2.10000000e+02,   7.20000000e+01,   2.60000000e+01,\n",
       "          9.00000000e+00,   0.00000000e+00]),\n",
       " array([ 14.5,  15.5,  16.5,  17.5,  18.5,  19.5,  20.5,  21.5,  22.5,\n",
       "         23.5,  24.5,  25.5,  26.5,  27.5,  28.5,  29.5,  30.5,  31.5,\n",
       "         32.5,  33.5,  34.5]),\n",
       " <a list of 20 Patch objects>)"
      ]
     },
     "execution_count": 5,
     "metadata": {},
     "output_type": "execute_result"
    },
    {
     "data": {
      "image/png": "[encoded data removed]",
      "text/plain": [
       "<matplotlib.figure.Figure at 0x10f374390>"
      ]
     },
     "metadata": {},
     "output_type": "display_data"
    }
   ],
   "source": [
    "plt.hist(unpecked, bins=np.arange(14.5, 35.5, 1), rwidth=0.8)"
   ]
  },
  {
   "cell_type": "markdown",
   "metadata": {},
   "source": [
    "The expectation value of a discrete random variable is given by"
   ]
  },
  {
   "cell_type": "markdown",
   "metadata": {},
   "source": [
    "$$E[X] = \\sum_i x_i P(X=x_i)$$"
   ]
  },
  {
   "cell_type": "markdown",
   "metadata": {},
   "source": [
    "In principle, one can enumerate all the possible configurations and then use this to compute the expectation value. If all chicks peck to the right or all to the left then the number of unpecked chicks is zero."
   ]
  },
  {
   "cell_type": "markdown",
   "metadata": {},
   "source": [
    "For a given chick, there are possibilities of being pecked or not pecked: L and R, L only, R only and none. In one of the four cases the chick is unpecked so p = 1/4 then n times p is 100 times 0.25 = 25."
   ]
  }
 ],
 "metadata": {
  "anaconda-cloud": {},
  "kernelspec": {
   "display_name": "Python [conda root]",
   "language": "python",
   "name": "conda-root-py"
  },
  "language_info": {
   "codemirror_mode": {
    "name": "ipython",
    "version": 2
   },
   "file_extension": ".py",
   "mimetype": "text/x-python",
   "name": "python",
   "nbconvert_exporter": "python",
   "pygments_lexer": "ipython2",
   "version": "2.7.12"
  }
 },
 "nbformat": 4,
 "nbformat_minor": 1
}
