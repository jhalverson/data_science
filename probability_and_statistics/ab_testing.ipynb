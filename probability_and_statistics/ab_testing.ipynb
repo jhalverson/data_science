{
 "cells": [
  {
   "cell_type": "markdown",
   "metadata": {},
   "source": [
    "# Jonathan Halverson\n",
    "# Thursday, February 25, 2016\n",
    "# AB Testing"
   ]
  },
  {
   "cell_type": "code",
   "execution_count": 1,
   "metadata": {
    "collapsed": true
   },
   "outputs": [],
   "source": [
    "import numpy as np\n",
    "import matplotlib.pyplot as plt\n",
    "%matplotlib inline\n",
    "plt.style.use('halverson')"
   ]
  },
  {
   "cell_type": "markdown",
   "metadata": {},
   "source": [
    "# Equation-based"
   ]
  },
  {
   "cell_type": "markdown",
   "metadata": {},
   "source": [
    "Let's say we show one-half of our web site visitors ad A and the other half ad B. After 1 week we get $n_A$  clicks out of $N_A$ page loads of ad A and $n_B$ clicks out of $N_B$ for B. We wish to say which add is more effective or if they are the same.\n",
    "\n",
    "We can model each visit to the site as a Bernoulli trial since the user either clicks on the ad with probability p or they don't (with probability 1 - p). Therefore, $n/N$ should be normally distributed -- if we get a sufficient number of clicks -- with mean $p$ and $\\sigma = \\sqrt{p(1-p)/N}$ for A and B."
   ]
  },
  {
   "cell_type": "code",
   "execution_count": 2,
   "metadata": {
    "collapsed": true
   },
   "outputs": [],
   "source": [
    "def ab_test_statistic(n_A, N_A, n_B, N_B):\n",
    "     p_A = float(n_A) / N_B\n",
    "     p_B = float(n_B) / N_B\n",
    "     sigma_A = (p_A * (1.0 - p_A) / N_A)**0.5\n",
    "     sigma_B = (p_B * (1.0 - p_B) / N_B)**0.5\n",
    "     return (p_B - p_A) / (sigma_A**2 + sigma_B**2)**0.5\n",
    "\n",
    "def two_sided_p_value(Z):\n",
    "     from scipy.stats import norm\n",
    "     return 2.0 * norm.cdf(-abs(Z))"
   ]
  },
  {
   "cell_type": "code",
   "execution_count": 3,
   "metadata": {
    "collapsed": false
   },
   "outputs": [
    {
     "name": "stdout",
     "output_type": "stream",
     "text": [
      "Z = 1.45773556253\n",
      "p = 0.144913445612\n"
     ]
    }
   ],
   "source": [
    "Z = ab_test_statistic(n_A=227, N_A=500, n_B=250, N_B=500)\n",
    "print \"Z =\", Z\n",
    "p_value = two_sided_p_value(Z)\n",
    "print \"p =\", p_value"
   ]
  },
  {
   "cell_type": "markdown",
   "metadata": {},
   "source": [
    "In this case we would fail to reject the null hypothesis (if $\\alpha=0.05$) meaning there is insufficient evidence to conclude that the two ads have different efficacies. "
   ]
  },
  {
   "cell_type": "markdown",
   "metadata": {},
   "source": [
    "# Permutation"
   ]
  },
  {
   "cell_type": "markdown",
   "metadata": {},
   "source": [
    "### From pg. 82 of Bruce"
   ]
  },
  {
   "cell_type": "markdown",
   "metadata": {},
   "source": [
    "Consider an A/B test where two difference prices are considered and the number of conversions and no converions are recorded for each:"
   ]
  },
  {
   "cell_type": "code",
   "execution_count": 4,
   "metadata": {
    "collapsed": true
   },
   "outputs": [],
   "source": [
    "c_a = 200\n",
    "c_b = 182\n",
    "n_a = 23539\n",
    "n_b = 22406"
   ]
  },
  {
   "cell_type": "code",
   "execution_count": 5,
   "metadata": {
    "collapsed": false
   },
   "outputs": [
    {
     "data": {
      "text/plain": [
       "0.0003675791182059275"
      ]
     },
     "execution_count": 5,
     "metadata": {},
     "output_type": "execute_result"
    }
   ],
   "source": [
    "diff_propor = c_a / float(n_a+c_a) - c_b / float(n_b+c_b)\n",
    "diff_propor"
   ]
  },
  {
   "cell_type": "markdown",
   "metadata": {},
   "source": [
    "We see that the two cases, A and B, have approximately the same proportion. The null hypothesis is that the two cases are the same and the slight difference can be explained by chance. The alternative hypothesis is that the difference is real. Let's compute the p-value and find out."
   ]
  },
  {
   "cell_type": "code",
   "execution_count": 6,
   "metadata": {
    "collapsed": false
   },
   "outputs": [],
   "source": [
    "vals = np.hstack([np.zeros(n_a + n_b), np.ones(c_a + c_b)])"
   ]
  },
  {
   "cell_type": "code",
   "execution_count": 7,
   "metadata": {
    "collapsed": false
   },
   "outputs": [],
   "source": [
    "dps = []\n",
    "for _ in xrange(10000):\n",
    "     z = np.random.permutation(vals)\n",
    "     dp = z[:c_a+n_a].mean() - z[c_a+n_a:].mean()\n",
    "     dps.append(dp)"
   ]
  },
  {
   "cell_type": "code",
   "execution_count": 8,
   "metadata": {
    "collapsed": false
   },
   "outputs": [
    {
     "data": {
      "text/plain": [
       "<matplotlib.lines.Line2D at 0x10c9ec410>"
      ]
     },
     "execution_count": 8,
     "metadata": {},
     "output_type": "execute_result"
    },
    {
     "data": {
      "image/png": "[encoded data removed]",
      "text/plain": [
       "<matplotlib.figure.Figure at 0x10a5a66d0>"
      ]
     },
     "metadata": {},
     "output_type": "display_data"
    }
   ],
   "source": [
    "plt.hist(dps, bins=12)\n",
    "plt.xlim(-0.003, 0.003)\n",
    "plt.axvline(0, color='k')\n",
    "plt.axvline(diff_propor, color='r')\n",
    "plt.axvline(-diff_propor, color='r')"
   ]
  },
  {
   "cell_type": "code",
   "execution_count": 9,
   "metadata": {
    "collapsed": true
   },
   "outputs": [],
   "source": [
    "dps = np.array(dps)"
   ]
  },
  {
   "cell_type": "code",
   "execution_count": 10,
   "metadata": {
    "collapsed": false
   },
   "outputs": [
    {
     "data": {
      "text/plain": [
       "0.6417"
      ]
     },
     "execution_count": 10,
     "metadata": {},
     "output_type": "execute_result"
    }
   ],
   "source": [
    "p_value = dps[(dps < -diff_propor) | (dps > diff_propor)].size / float(dps.size)\n",
    "p_value"
   ]
  },
  {
   "cell_type": "markdown",
   "metadata": {},
   "source": [
    "We see that the p-value is much larger than 0.05 indicating that the null hypothesus is accepted."
   ]
  },
  {
   "cell_type": "markdown",
   "metadata": {},
   "source": [
    "Here is the equation based approach for difference of two proportions:"
   ]
  },
  {
   "cell_type": "code",
   "execution_count": 11,
   "metadata": {
    "collapsed": false
   },
   "outputs": [
    {
     "data": {
      "text/plain": [
       "0.43754904762747932"
      ]
     },
     "execution_count": 11,
     "metadata": {},
     "output_type": "execute_result"
    }
   ],
   "source": [
    "p_A = float(c_a) / (n_a + c_a)\n",
    "p_B = float(c_b) / (n_b + c_b)\n",
    "sigma_A = p_A * (1.0 - p_A) / (n_a + c_a)\n",
    "sigma_B = p_B * (1.0 - p_B) / (n_b + c_b)\n",
    "SE = np.sqrt(sigma_A + sigma_B)\n",
    "Z = ((p_A - p_B) - 0.0) / SE\n",
    "Z"
   ]
  },
  {
   "cell_type": "code",
   "execution_count": 12,
   "metadata": {
    "collapsed": false
   },
   "outputs": [
    {
     "data": {
      "text/plain": [
       "0.66171321376325731"
      ]
     },
     "execution_count": 12,
     "metadata": {},
     "output_type": "execute_result"
    }
   ],
   "source": [
    "from scipy.stats import norm\n",
    "p_value = 2.0 * norm.cdf(-abs(Z))\n",
    "p_value"
   ]
  }
 ],
 "metadata": {
  "anaconda-cloud": {},
  "kernelspec": {
   "display_name": "Python [default]",
   "language": "python",
   "name": "python2"
  },
  "language_info": {
   "codemirror_mode": {
    "name": "ipython",
    "version": 2
   },
   "file_extension": ".py",
   "mimetype": "text/x-python",
   "name": "python",
   "nbconvert_exporter": "python",
   "pygments_lexer": "ipython2",
   "version": "2.7.12"
  }
 },
 "nbformat": 4,
 "nbformat_minor": 0
}
