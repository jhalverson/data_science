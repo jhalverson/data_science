{
 "cells": [
  {
   "cell_type": "markdown",
   "metadata": {},
   "source": [
    "#Jonathan Halverson\n",
    "#Thursday, February 25, 2016\n",
    "# AB Testing"
   ]
  },
  {
   "cell_type": "markdown",
   "metadata": {},
   "source": [
    "###Let's say we show one-half of our web site visitors ad A and the other half ad B. After 1 week we get $n_A$  clicks out of $N_A$ page loads of ad A and $n_B$ clicks out of $N_B$ for B. We wish to say which add is more effective or if they are the same.\n",
    "\n",
    "###We can model each visit to the site as a Bernoulli trial since the user either clicks on the ad with probability p or they don't (with probability 1 - p). Therefore, $n/N$ should be normally distributed -- if we get a sufficient number of clicks -- with mean $p$ and $\\sigma = \\sqrt{p(1-p)/N}$ for A and B."
   ]
  },
  {
   "cell_type": "code",
   "execution_count": 20,
   "metadata": {
    "collapsed": true
   },
   "outputs": [],
   "source": [
    "def ab_test_statistic(n_A, N_A, n_B, N_B):\n",
    "    p_A = float(n_A) / N_B\n",
    "    p_B = float(n_B) / N_B\n",
    "    sigma_A = (p_A * (1.0 - p_A) / N_A)**0.5\n",
    "    sigma_B = (p_B * (1.0 - p_B) / N_B)**0.5\n",
    "    return (p_B - p_A) / (sigma_A**2 + sigma_B**2)**0.5\n",
    "\n",
    "def two_sided_p_value(Z):\n",
    "    from scipy.stats import norm\n",
    "    return 2.0 * norm.cdf(-abs(Z))"
   ]
  },
  {
   "cell_type": "code",
   "execution_count": 24,
   "metadata": {
    "collapsed": false
   },
   "outputs": [
    {
     "name": "stdout",
     "output_type": "stream",
     "text": [
      "Z = 1.45773556253\n",
      "p = 0.144913445612\n"
     ]
    }
   ],
   "source": [
    "Z = ab_test_statistic(n_A=227, N_A=500, n_B=250, N_B=500)\n",
    "print \"Z =\", Z\n",
    "p_value = two_sided_p_value(Z)\n",
    "print \"p =\", p_value"
   ]
  },
  {
   "cell_type": "markdown",
   "metadata": {},
   "source": [
    "###In this case we would fail to reject the null hypothesis (if $\\alpha=0.05$) meaning there is insufficient evidence to conclude that the two ads have different efficacies. "
   ]
  }
 ],
 "metadata": {
  "kernelspec": {
   "display_name": "Python 2",
   "language": "python",
   "name": "python2"
  },
  "language_info": {
   "codemirror_mode": {
    "name": "ipython",
    "version": 2
   },
   "file_extension": ".py",
   "mimetype": "text/x-python",
   "name": "python",
   "nbconvert_exporter": "python",
   "pygments_lexer": "ipython2",
   "version": "2.7.5"
  }
 },
 "nbformat": 4,
 "nbformat_minor": 0
}
