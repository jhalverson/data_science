{
 "cells": [
  {
   "cell_type": "markdown",
   "metadata": {},
   "source": [
    "# Jonathan Halverson\n",
    "# Friday, March 25, 2016\n",
    "# Independence versus dependence"
   ]
  },
  {
   "cell_type": "markdown",
   "metadata": {},
   "source": [
    "### Consider Chuck and Fat Mike's Taco stand. Each day Chuck will get tacos for lunch at Fat Mike's with a probability of 1/7. Fat Mike's holds a sale with probability 1/3 which Chuck ignores."
   ]
  },
  {
   "cell_type": "code",
   "execution_count": 53,
   "metadata": {
    "collapsed": false
   },
   "outputs": [
    {
     "name": "stdout",
     "output_type": "stream",
     "text": [
      "P(chuck at Mikes) = 0.134520547945\n",
      "P(sale at Mikes) = 0.326301369863\n",
      "P(chuck at Mikes) P(sale at Mikes) 0.0438942390692\n",
      "P(sale at Mikes and chuck at Mikes) 0.0380821917808\n",
      "P(chuck at Mikes | sale at Mikes) 0.116708648195\n",
      "P(sale at Mikes | chuck at Mikes) 0.283095723014\n",
      "P(F,E) + P(F, not E) = P(F) = 0.326301369863\n",
      "P(F|E) + P(F|not E) = 0.616112500475\n",
      "P(F|E) + P(not F|E) = 1.0\n"
     ]
    }
   ],
   "source": [
    "import random\n",
    "\n",
    "p_tacos = 1 / 7.0\n",
    "p_sale = 1 / 3.0\n",
    "\n",
    "eat_at_mikes = 0\n",
    "sales = 0\n",
    "eat_and_sales = 0\n",
    "sales_and_not_eat = 0\n",
    "\n",
    "# for explicit conditional probability\n",
    "eat_true = 0; sale_when_eat = 0\n",
    "eat_false = 0; sale_not_eat = 0\n",
    "sale_given_eat = 0; not_sale_given_eat = 0\n",
    "\n",
    "days = 3650\n",
    "for _ in range(days):\n",
    "    sale = False\n",
    "    tacos = False\n",
    "    if (random.random() < p_sale):\n",
    "        sales += 1\n",
    "        sale = True\n",
    "    if (random.random() < p_tacos):\n",
    "        eat_at_mikes += 1\n",
    "        tacos = True\n",
    "    if (sale and tacos): eat_and_sales += 1\n",
    "    if (sale and not tacos): sales_and_not_eat += 1\n",
    "    if (tacos):\n",
    "        eat_true += 1\n",
    "        sale_given_eat += 1\n",
    "    if (not tacos):\n",
    "        eat_false += 1\n",
    "        if (sale): sale_not_eat += 1\n",
    "pE = eat_at_mikes / float(days)\n",
    "pF = sales / float(days)\n",
    "pEF = eat_and_sales / float(days)\n",
    "\n",
    "print 'P(chuck at Mikes) =', pE\n",
    "print 'P(sale at Mikes) =', pF\n",
    "print 'P(chuck at Mikes) P(sale at Mikes)', pE * pF\n",
    "print 'P(sale at Mikes and chuck at Mikes)', pEF\n",
    "print 'P(chuck at Mikes | sale at Mikes)', pEF / pF\n",
    "print 'P(sale at Mikes | chuck at Mikes)', pEF / pE\n",
    "print 'P(F,E) + P(F, not E) = P(F) =', pEF + sales_and_not_eat / float(days)\n",
    "print 'P(F|E) + P(F|not E) =', eat_and_sales / float(eat_true) + sale_not_eat / float(eat_false)\n",
    "print 'P(F|E) + P(not F|E) =', sale_given_eat / float(eat_true) + not_sale_given_eat / float(eat_true)"
   ]
  },
  {
   "cell_type": "markdown",
   "metadata": {},
   "source": [
    "### We see that the independence condition is satisfied. That is, P(E, F) = P(E) P(F) and P(E | F) = P(E)."
   ]
  },
  {
   "cell_type": "markdown",
   "metadata": {},
   "source": [
    "### Now what if Chuck starts to embrace the sales and on sale days he goes to Fat Mike's with p = 1/2."
   ]
  },
  {
   "cell_type": "code",
   "execution_count": 54,
   "metadata": {
    "collapsed": false
   },
   "outputs": [
    {
     "name": "stdout",
     "output_type": "stream",
     "text": [
      "P(chuck at Mikes) = 0.231780821918\n",
      "P(sale at Mikes) = 0.339452054795\n",
      "P(chuck at Mikes) P(sale at Mikes) 0.078678476262\n",
      "P(sale at Mikes and chuck at Mikes) 0.167945205479\n",
      "P(chuck at Mikes | sale at Mikes) 0.494753833737\n",
      "P(sale at Mikes | chuck at Mikes) 0.724586288416\n",
      "P(sale at Mikes | chuck at Mikes) 0.724586288416\n"
     ]
    }
   ],
   "source": [
    "p_tacos = 1 / 7.0\n",
    "p_sale = 1 / 3.0\n",
    "\n",
    "eat_at_mikes = 0\n",
    "sales = 0\n",
    "eat_and_sales = 0\n",
    "\n",
    "# for conditional probabilities\n",
    "chuck_at_mikes = 0\n",
    "\n",
    "days = 3650\n",
    "for _ in range(days):\n",
    "    sale = False\n",
    "    tacos = False\n",
    "    if (random.random() < p_sale): sale = True\n",
    "    \n",
    "    if (sale):\n",
    "        sales += 1\n",
    "        p_tacos = 0.5\n",
    "        \n",
    "    if (random.random() < p_tacos): tacos = True\n",
    "\n",
    "    if (tacos):\n",
    "        eat_at_mikes += 1\n",
    "    \n",
    "    if (tacos and sale): eat_and_sales += 1\n",
    "        \n",
    "    if (tacos): chuck_at_mikes += 1\n",
    "    \n",
    "    p_tacos = 0.10\n",
    "\n",
    "pE = eat_at_mikes / float(days)\n",
    "pF = sales / float(days)\n",
    "pEF = eat_and_sales / float(days)\n",
    "\n",
    "print 'P(chuck at Mikes) =', pE\n",
    "print 'P(sale at Mikes) =', pF\n",
    "print 'P(chuck at Mikes) P(sale at Mikes)', pE * pF\n",
    "print 'P(sale at Mikes and chuck at Mikes)', pEF\n",
    "print 'P(chuck at Mikes | sale at Mikes)', pEF / pF\n",
    "print 'P(sale at Mikes | chuck at Mikes)', pEF / pE\n",
    "print 'P(sale at Mikes | chuck at Mikes)', eat_and_sales / float(chuck_at_mikes)"
   ]
  },
  {
   "cell_type": "markdown",
   "metadata": {},
   "source": [
    "### We see that P(E | F) is 1/2 as expected and P(E, F) does not equal P(E) P(F)."
   ]
  },
  {
   "cell_type": "markdown",
   "metadata": {},
   "source": [
    "# Bayes' theorem in practice"
   ]
  },
  {
   "cell_type": "markdown",
   "metadata": {},
   "source": [
    "### From Scratch: Imagine a certain disease affects 1 in 10000 people. A test for the disease gives the correct result with 99% accuracy. What is the probability of having the disease given a positive test result?"
   ]
  },
  {
   "cell_type": "markdown",
   "metadata": {},
   "source": [
    "$$P(\\textrm{have disease | positive test})=\\frac{P(\\textrm{have disease and positive test})}{P(\\textrm{positive test})}$$"
   ]
  },
  {
   "cell_type": "markdown",
   "metadata": {},
   "source": [
    "### By drawing a tree diagram it is easy to compute the ratio as:"
   ]
  },
  {
   "cell_type": "code",
   "execution_count": 55,
   "metadata": {
    "collapsed": false
   },
   "outputs": [
    {
     "data": {
      "text/plain": [
       "0.009803921568627449"
      ]
     },
     "execution_count": 55,
     "metadata": {},
     "output_type": "execute_result"
    }
   ],
   "source": [
    "(0.99/1e4)/(0.99/1e4 + (9999/1e4)*0.01)"
   ]
  },
  {
   "cell_type": "markdown",
   "metadata": {},
   "source": [
    "### Let us also do this by Bayes' Theorem:"
   ]
  },
  {
   "cell_type": "code",
   "execution_count": 56,
   "metadata": {
    "collapsed": false
   },
   "outputs": [
    {
     "name": "stdout",
     "output_type": "stream",
     "text": [
      "0.00980392156863\n"
     ]
    }
   ],
   "source": [
    "P_positive_given_have_disease = 0.99\n",
    "P_have_disease = 1 / 10000.0\n",
    "P_not_have_disease = 1.0 - P_have_disease\n",
    "P_positive_given_not_have_disease = 1.0 - P_positive_given_have_disease\n",
    "P_have_disease_given_positive = P_positive_given_have_disease * P_have_disease / (P_positive_given_have_disease * P_have_disease + P_positive_given_not_have_disease * P_not_have_disease)\n",
    "print(P_have_disease_given_positive)\n"
   ]
  }
 ],
 "metadata": {
  "kernelspec": {
   "display_name": "Python 2",
   "language": "python",
   "name": "python2"
  },
  "language_info": {
   "codemirror_mode": {
    "name": "ipython",
    "version": 2
   },
   "file_extension": ".py",
   "mimetype": "text/x-python",
   "name": "python",
   "nbconvert_exporter": "python",
   "pygments_lexer": "ipython2",
   "version": "2.7.5"
  }
 },
 "nbformat": 4,
 "nbformat_minor": 0
}
