{
 "cells": [
  {
   "cell_type": "markdown",
   "metadata": {},
   "source": [
    "# Jonathan Halverson\n",
    "# Monday, August 7, 2017\n",
    "# Chapter 6: Statistical machine learning"
   ]
  },
  {
   "cell_type": "markdown",
   "metadata": {},
   "source": [
    "Structure-based for data-driven methods: Linear and logistic regression are said to be structure-based while KNN and tree methods are data-driven. Tree methods were released in 1984 by Breiman and Friedman in California. Bagging and boosting came out in the 1990's."
   ]
  },
  {
   "cell_type": "markdown",
   "metadata": {},
   "source": [
    "It is suggested to use Mahalanobis distance when working with features that may be correlated. This will treat correlate features as one instead of as individuals which will weight the distance. Gower's distance may also be considered since it handles mixed continuous and indicator variables and prevents the indicator variables from dominating the calculation of distance or variance. Mahalanobis is expensive and requires the calculation of the covariance matrix."
   ]
  },
  {
   "cell_type": "code",
   "execution_count": 1,
   "metadata": {
    "collapsed": true
   },
   "outputs": [],
   "source": [
    "from sklearn.neighbors import DistanceMetric"
   ]
  },
  {
   "cell_type": "code",
   "execution_count": 2,
   "metadata": {
    "collapsed": true
   },
   "outputs": [],
   "source": [
    "X = [[-0.1, 1, 2.8],\n",
    "     [3, 4.2, 5]]"
   ]
  },
  {
   "cell_type": "code",
   "execution_count": 3,
   "metadata": {
    "collapsed": false
   },
   "outputs": [
    {
     "data": {
      "text/plain": [
       "array([[ 0.       ,  4.9689033],\n",
       "       [ 4.9689033,  0.       ]])"
      ]
     },
     "execution_count": 3,
     "metadata": {},
     "output_type": "execute_result"
    }
   ],
   "source": [
    "dist = DistanceMetric.get_metric('euclidean')\n",
    "dist.pairwise(X)"
   ]
  },
  {
   "cell_type": "markdown",
   "metadata": {},
   "source": [
    "This is a convenience routine for the sake of testing.  For many\n",
    "metrics, the utilities in scipy.spatial.distance.cdist and\n",
    "scipy.spatial.distance.pdist will be faster."
   ]
  },
  {
   "cell_type": "code",
   "execution_count": 4,
   "metadata": {
    "collapsed": false
   },
   "outputs": [
    {
     "data": {
      "text/plain": [
       "array([[ 0. ,  8.5],\n",
       "       [ 8.5,  0. ]])"
      ]
     },
     "execution_count": 4,
     "metadata": {},
     "output_type": "execute_result"
    }
   ],
   "source": [
    "dist = DistanceMetric.get_metric('manhattan')\n",
    "dist.pairwise(X)"
   ]
  },
  {
   "cell_type": "code",
   "execution_count": 5,
   "metadata": {
    "collapsed": false
   },
   "outputs": [],
   "source": [
    "import numpy as np\n",
    "\n",
    "dist = DistanceMetric.get_metric('mahalanobis', V=np.cov(X))\n",
    "#dist.pairwise(X) appears that this has not been implemented yet"
   ]
  },
  {
   "cell_type": "markdown",
   "metadata": {},
   "source": [
    "Of course, it is very important to standardize the features when using KNN."
   ]
  },
  {
   "cell_type": "markdown",
   "metadata": {},
   "source": [
    "In linear and logistic regression, one hot encoding causes a multicollinearity error. It works fine for tree-based models."
   ]
  },
  {
   "cell_type": "markdown",
   "metadata": {},
   "source": [
    "The bias-varance tradeoff: High variance results when the model is over fit and different training sets give large variation. Bias refers to more data not improving the fit because the model is lacking complexity. There is a balance between the structure of the data, the amount of data one has, and the complexity of the model."
   ]
  },
  {
   "cell_type": "markdown",
   "metadata": {},
   "source": [
    "### One-hot encoding"
   ]
  },
  {
   "cell_type": "code",
   "execution_count": 6,
   "metadata": {
    "collapsed": true
   },
   "outputs": [],
   "source": [
    "import pandas as pd"
   ]
  },
  {
   "cell_type": "code",
   "execution_count": 7,
   "metadata": {
    "collapsed": false
   },
   "outputs": [
    {
     "data": {
      "text/html": [
       "<div>\n",
       "<table border=\"1\" class=\"dataframe\">\n",
       "  <thead>\n",
       "    <tr style=\"text-align: right;\">\n",
       "      <th></th>\n",
       "      <th>Age</th>\n",
       "      <th>Type</th>\n",
       "    </tr>\n",
       "  </thead>\n",
       "  <tbody>\n",
       "    <tr>\n",
       "      <th>0</th>\n",
       "      <td>22.6</td>\n",
       "      <td>car</td>\n",
       "    </tr>\n",
       "    <tr>\n",
       "      <th>1</th>\n",
       "      <td>34.1</td>\n",
       "      <td>truck</td>\n",
       "    </tr>\n",
       "    <tr>\n",
       "      <th>2</th>\n",
       "      <td>56.2</td>\n",
       "      <td>frog</td>\n",
       "    </tr>\n",
       "  </tbody>\n",
       "</table>\n",
       "</div>"
      ],
      "text/plain": [
       "    Age   Type\n",
       "0  22.6    car\n",
       "1  34.1  truck\n",
       "2  56.2   frog"
      ]
     },
     "execution_count": 7,
     "metadata": {},
     "output_type": "execute_result"
    }
   ],
   "source": [
    "df = pd.DataFrame({'Age':[22.6, 34.1, 56.2], 'Type':['car', 'truck', 'frog']})\n",
    "df"
   ]
  },
  {
   "cell_type": "code",
   "execution_count": 8,
   "metadata": {
    "collapsed": false
   },
   "outputs": [
    {
     "data": {
      "text/html": [
       "<div>\n",
       "<table border=\"1\" class=\"dataframe\">\n",
       "  <thead>\n",
       "    <tr style=\"text-align: right;\">\n",
       "      <th></th>\n",
       "      <th>Age</th>\n",
       "      <th>Type</th>\n",
       "    </tr>\n",
       "  </thead>\n",
       "  <tbody>\n",
       "    <tr>\n",
       "      <th>0</th>\n",
       "      <td>22.6</td>\n",
       "      <td>0</td>\n",
       "    </tr>\n",
       "    <tr>\n",
       "      <th>1</th>\n",
       "      <td>34.1</td>\n",
       "      <td>2</td>\n",
       "    </tr>\n",
       "    <tr>\n",
       "      <th>2</th>\n",
       "      <td>56.2</td>\n",
       "      <td>1</td>\n",
       "    </tr>\n",
       "  </tbody>\n",
       "</table>\n",
       "</div>"
      ],
      "text/plain": [
       "    Age  Type\n",
       "0  22.6     0\n",
       "1  34.1     2\n",
       "2  56.2     1"
      ]
     },
     "execution_count": 8,
     "metadata": {},
     "output_type": "execute_result"
    }
   ],
   "source": [
    "from sklearn import preprocessing\n",
    "\n",
    "type_encoder = preprocessing.LabelEncoder()\n",
    "df['Type'] = type_encoder.fit_transform(df['Type'])\n",
    "df"
   ]
  },
  {
   "cell_type": "code",
   "execution_count": 9,
   "metadata": {
    "collapsed": false
   },
   "outputs": [],
   "source": [
    "enc = preprocessing.OneHotEncoder(sparse=False)\n",
    "x = enc.fit_transform(df.Type.values.reshape(-1, 1))"
   ]
  },
  {
   "cell_type": "code",
   "execution_count": 10,
   "metadata": {
    "collapsed": false
   },
   "outputs": [
    {
     "data": {
      "text/html": [
       "<div>\n",
       "<table border=\"1\" class=\"dataframe\">\n",
       "  <thead>\n",
       "    <tr style=\"text-align: right;\">\n",
       "      <th></th>\n",
       "      <th>Age</th>\n",
       "      <th>Type</th>\n",
       "      <th>Car</th>\n",
       "      <th>Frog</th>\n",
       "      <th>Truck</th>\n",
       "    </tr>\n",
       "  </thead>\n",
       "  <tbody>\n",
       "    <tr>\n",
       "      <th>0</th>\n",
       "      <td>22.6</td>\n",
       "      <td>0</td>\n",
       "      <td>1.0</td>\n",
       "      <td>0.0</td>\n",
       "      <td>0.0</td>\n",
       "    </tr>\n",
       "    <tr>\n",
       "      <th>1</th>\n",
       "      <td>34.1</td>\n",
       "      <td>2</td>\n",
       "      <td>0.0</td>\n",
       "      <td>0.0</td>\n",
       "      <td>1.0</td>\n",
       "    </tr>\n",
       "    <tr>\n",
       "      <th>2</th>\n",
       "      <td>56.2</td>\n",
       "      <td>1</td>\n",
       "      <td>0.0</td>\n",
       "      <td>1.0</td>\n",
       "      <td>0.0</td>\n",
       "    </tr>\n",
       "  </tbody>\n",
       "</table>\n",
       "</div>"
      ],
      "text/plain": [
       "    Age  Type  Car  Frog  Truck\n",
       "0  22.6     0  1.0   0.0    0.0\n",
       "1  34.1     2  0.0   0.0    1.0\n",
       "2  56.2     1  0.0   1.0    0.0"
      ]
     },
     "execution_count": 10,
     "metadata": {},
     "output_type": "execute_result"
    }
   ],
   "source": [
    "df = pd.concat([df, pd.DataFrame(x)], axis=1, ignore_index=True)\n",
    "df.columns = ['Age', 'Type', 'Car', 'Frog', 'Truck']\n",
    "df"
   ]
  },
  {
   "cell_type": "code",
   "execution_count": 11,
   "metadata": {
    "collapsed": false
   },
   "outputs": [
    {
     "data": {
      "text/html": [
       "<div>\n",
       "<table border=\"1\" class=\"dataframe\">\n",
       "  <thead>\n",
       "    <tr style=\"text-align: right;\">\n",
       "      <th></th>\n",
       "      <th>Age</th>\n",
       "      <th>Car</th>\n",
       "      <th>Frog</th>\n",
       "      <th>Truck</th>\n",
       "    </tr>\n",
       "  </thead>\n",
       "  <tbody>\n",
       "    <tr>\n",
       "      <th>0</th>\n",
       "      <td>22.6</td>\n",
       "      <td>1.0</td>\n",
       "      <td>0.0</td>\n",
       "      <td>0.0</td>\n",
       "    </tr>\n",
       "    <tr>\n",
       "      <th>1</th>\n",
       "      <td>34.1</td>\n",
       "      <td>0.0</td>\n",
       "      <td>0.0</td>\n",
       "      <td>1.0</td>\n",
       "    </tr>\n",
       "    <tr>\n",
       "      <th>2</th>\n",
       "      <td>56.2</td>\n",
       "      <td>0.0</td>\n",
       "      <td>1.0</td>\n",
       "      <td>0.0</td>\n",
       "    </tr>\n",
       "  </tbody>\n",
       "</table>\n",
       "</div>"
      ],
      "text/plain": [
       "    Age  Car  Frog  Truck\n",
       "0  22.6  1.0   0.0    0.0\n",
       "1  34.1  0.0   0.0    1.0\n",
       "2  56.2  0.0   1.0    0.0"
      ]
     },
     "execution_count": 11,
     "metadata": {},
     "output_type": "execute_result"
    }
   ],
   "source": [
    "df = df.drop(['Type'], axis=1)\n",
    "df"
   ]
  },
  {
   "cell_type": "markdown",
   "metadata": {},
   "source": [
    "It appears that Gower's distance is not implemented in Python."
   ]
  },
  {
   "cell_type": "code",
   "execution_count": 12,
   "metadata": {
    "collapsed": false
   },
   "outputs": [
    {
     "data": {
      "text/plain": [
       "array([[  0. ,  13.5,  35.6],\n",
       "       [ 13.5,   0. ,  24.1],\n",
       "       [ 35.6,  24.1,   0. ]])"
      ]
     },
     "execution_count": 12,
     "metadata": {},
     "output_type": "execute_result"
    }
   ],
   "source": [
    "dist = DistanceMetric.get_metric('manhattan')\n",
    "dist.pairwise(df.values)"
   ]
  },
  {
   "cell_type": "markdown",
   "metadata": {},
   "source": [
    "### Pandas approach to indicator variables"
   ]
  },
  {
   "cell_type": "code",
   "execution_count": 13,
   "metadata": {
    "collapsed": false
   },
   "outputs": [
    {
     "data": {
      "text/html": [
       "<div>\n",
       "<table border=\"1\" class=\"dataframe\">\n",
       "  <thead>\n",
       "    <tr style=\"text-align: right;\">\n",
       "      <th></th>\n",
       "      <th>Age</th>\n",
       "      <th>Type</th>\n",
       "    </tr>\n",
       "  </thead>\n",
       "  <tbody>\n",
       "    <tr>\n",
       "      <th>0</th>\n",
       "      <td>22.6</td>\n",
       "      <td>car</td>\n",
       "    </tr>\n",
       "    <tr>\n",
       "      <th>1</th>\n",
       "      <td>34.1</td>\n",
       "      <td>truck</td>\n",
       "    </tr>\n",
       "    <tr>\n",
       "      <th>2</th>\n",
       "      <td>56.2</td>\n",
       "      <td>frog</td>\n",
       "    </tr>\n",
       "  </tbody>\n",
       "</table>\n",
       "</div>"
      ],
      "text/plain": [
       "    Age   Type\n",
       "0  22.6    car\n",
       "1  34.1  truck\n",
       "2  56.2   frog"
      ]
     },
     "execution_count": 13,
     "metadata": {},
     "output_type": "execute_result"
    }
   ],
   "source": [
    "df = pd.DataFrame({'Age':[22.6, 34.1, 56.2], 'Type':['car', 'truck', 'frog']})\n",
    "df"
   ]
  },
  {
   "cell_type": "code",
   "execution_count": 14,
   "metadata": {
    "collapsed": false
   },
   "outputs": [
    {
     "data": {
      "text/html": [
       "<div>\n",
       "<table border=\"1\" class=\"dataframe\">\n",
       "  <thead>\n",
       "    <tr style=\"text-align: right;\">\n",
       "      <th></th>\n",
       "      <th>Age</th>\n",
       "      <th>Type_car</th>\n",
       "      <th>Type_frog</th>\n",
       "      <th>Type_truck</th>\n",
       "    </tr>\n",
       "  </thead>\n",
       "  <tbody>\n",
       "    <tr>\n",
       "      <th>0</th>\n",
       "      <td>22.6</td>\n",
       "      <td>1</td>\n",
       "      <td>0</td>\n",
       "      <td>0</td>\n",
       "    </tr>\n",
       "    <tr>\n",
       "      <th>1</th>\n",
       "      <td>34.1</td>\n",
       "      <td>0</td>\n",
       "      <td>0</td>\n",
       "      <td>1</td>\n",
       "    </tr>\n",
       "    <tr>\n",
       "      <th>2</th>\n",
       "      <td>56.2</td>\n",
       "      <td>0</td>\n",
       "      <td>1</td>\n",
       "      <td>0</td>\n",
       "    </tr>\n",
       "  </tbody>\n",
       "</table>\n",
       "</div>"
      ],
      "text/plain": [
       "    Age  Type_car  Type_frog  Type_truck\n",
       "0  22.6         1          0           0\n",
       "1  34.1         0          0           1\n",
       "2  56.2         0          1           0"
      ]
     },
     "execution_count": 14,
     "metadata": {},
     "output_type": "execute_result"
    }
   ],
   "source": [
    "pd.get_dummies(df)"
   ]
  },
  {
   "cell_type": "markdown",
   "metadata": {},
   "source": [
    "Just as Chi-square tests can be used to see if certain class outcomes show an evalated count with respect to certain features, one can use KNN to generate features. Because only a few other records are used for each record, multicollinearity is not introduced."
   ]
  },
  {
   "cell_type": "code",
   "execution_count": 15,
   "metadata": {
    "collapsed": false
   },
   "outputs": [
    {
     "data": {
      "text/html": [
       "<div>\n",
       "<table border=\"1\" class=\"dataframe\">\n",
       "  <thead>\n",
       "    <tr style=\"text-align: right;\">\n",
       "      <th></th>\n",
       "      <th>Pos</th>\n",
       "      <th>Breeder</th>\n",
       "      <th>Pigeon</th>\n",
       "      <th>Name</th>\n",
       "      <th>Color</th>\n",
       "      <th>Sex</th>\n",
       "      <th>Ent</th>\n",
       "      <th>Arrival</th>\n",
       "      <th>Speed</th>\n",
       "      <th>To Win</th>\n",
       "      <th>Eligible</th>\n",
       "      <th>Length</th>\n",
       "      <th>SpeedLength</th>\n",
       "    </tr>\n",
       "  </thead>\n",
       "  <tbody>\n",
       "    <tr>\n",
       "      <th>0</th>\n",
       "      <td>1</td>\n",
       "      <td>Texas Outlaws</td>\n",
       "      <td>19633-AU15-FOYS</td>\n",
       "      <td>NaN</td>\n",
       "      <td>BCWF</td>\n",
       "      <td>H</td>\n",
       "      <td>1</td>\n",
       "      <td>42:14.0</td>\n",
       "      <td>172.155</td>\n",
       "      <td>0:00:00</td>\n",
       "      <td>Yes</td>\n",
       "      <td>13</td>\n",
       "      <td>13.242692</td>\n",
       "    </tr>\n",
       "    <tr>\n",
       "      <th>1</th>\n",
       "      <td>2</td>\n",
       "      <td>Junior Juanich</td>\n",
       "      <td>0402-AU15-JRL</td>\n",
       "      <td>NaN</td>\n",
       "      <td>SIWF</td>\n",
       "      <td>H</td>\n",
       "      <td>1</td>\n",
       "      <td>47:36.0</td>\n",
       "      <td>163.569</td>\n",
       "      <td>0:05:21</td>\n",
       "      <td>Yes</td>\n",
       "      <td>14</td>\n",
       "      <td>11.683500</td>\n",
       "    </tr>\n",
       "    <tr>\n",
       "      <th>2</th>\n",
       "      <td>3</td>\n",
       "      <td>Jerry Allensworth</td>\n",
       "      <td>0404-AU15-VITA</td>\n",
       "      <td>Perch Potato</td>\n",
       "      <td>BB</td>\n",
       "      <td>H</td>\n",
       "      <td>1</td>\n",
       "      <td>47:41.0</td>\n",
       "      <td>163.442</td>\n",
       "      <td>0:05:27</td>\n",
       "      <td>Yes</td>\n",
       "      <td>17</td>\n",
       "      <td>9.614235</td>\n",
       "    </tr>\n",
       "    <tr>\n",
       "      <th>3</th>\n",
       "      <td>4</td>\n",
       "      <td>Alias-Alias</td>\n",
       "      <td>2013-AU15-ALIA</td>\n",
       "      <td>NaN</td>\n",
       "      <td>BBSP</td>\n",
       "      <td>H</td>\n",
       "      <td>1</td>\n",
       "      <td>47:43.0</td>\n",
       "      <td>163.392</td>\n",
       "      <td>0:05:28</td>\n",
       "      <td>Yes</td>\n",
       "      <td>11</td>\n",
       "      <td>14.853818</td>\n",
       "    </tr>\n",
       "    <tr>\n",
       "      <th>4</th>\n",
       "      <td>5</td>\n",
       "      <td>Greg Glazier</td>\n",
       "      <td>5749-AU15-SLI</td>\n",
       "      <td>NaN</td>\n",
       "      <td>BC</td>\n",
       "      <td>H</td>\n",
       "      <td>1</td>\n",
       "      <td>47:44.0</td>\n",
       "      <td>163.366</td>\n",
       "      <td>0:05:30</td>\n",
       "      <td>Yes</td>\n",
       "      <td>12</td>\n",
       "      <td>13.613833</td>\n",
       "    </tr>\n",
       "  </tbody>\n",
       "</table>\n",
       "</div>"
      ],
      "text/plain": [
       "   Pos            Breeder           Pigeon          Name Color Sex  Ent  \\\n",
       "0    1      Texas Outlaws  19633-AU15-FOYS           NaN  BCWF   H    1   \n",
       "1    2     Junior Juanich    0402-AU15-JRL           NaN  SIWF   H    1   \n",
       "2    3  Jerry Allensworth   0404-AU15-VITA  Perch Potato    BB   H    1   \n",
       "3    4        Alias-Alias   2013-AU15-ALIA           NaN  BBSP   H    1   \n",
       "4    5       Greg Glazier    5749-AU15-SLI           NaN    BC   H    1   \n",
       "\n",
       "   Arrival    Speed   To Win Eligible  Length  SpeedLength  \n",
       "0  42:14.0  172.155  0:00:00      Yes      13    13.242692  \n",
       "1  47:36.0  163.569  0:05:21      Yes      14    11.683500  \n",
       "2  47:41.0  163.442  0:05:27      Yes      17     9.614235  \n",
       "3  47:43.0  163.392  0:05:28      Yes      11    14.853818  \n",
       "4  47:44.0  163.366  0:05:30      Yes      12    13.613833  "
      ]
     },
     "execution_count": 15,
     "metadata": {},
     "output_type": "execute_result"
    }
   ],
   "source": [
    "df = pd.read_csv('http://blog.yhat.com/static/misc/data/pigeon-racing.csv')\n",
    "df['Length'] = df.Breeder.apply(lambda u: len(u.strip()))\n",
    "df['SpeedLength'] = df.Speed / df.Length\n",
    "df.head()"
   ]
  },
  {
   "cell_type": "code",
   "execution_count": 16,
   "metadata": {
    "collapsed": false
   },
   "outputs": [
    {
     "name": "stdout",
     "output_type": "stream",
     "text": [
      "<class 'pandas.core.frame.DataFrame'>\n",
      "RangeIndex: 400 entries, 0 to 399\n",
      "Data columns (total 13 columns):\n",
      "Pos            400 non-null int64\n",
      "Breeder        400 non-null object\n",
      "Pigeon         400 non-null object\n",
      "Name           20 non-null object\n",
      "Color          400 non-null object\n",
      "Sex            400 non-null object\n",
      "Ent            400 non-null int64\n",
      "Arrival        400 non-null object\n",
      "Speed          400 non-null float64\n",
      "To Win         400 non-null object\n",
      "Eligible       400 non-null object\n",
      "Length         400 non-null int64\n",
      "SpeedLength    400 non-null float64\n",
      "dtypes: float64(2), int64(3), object(8)\n",
      "memory usage: 40.7+ KB\n"
     ]
    }
   ],
   "source": [
    "df.info()"
   ]
  },
  {
   "cell_type": "code",
   "execution_count": 17,
   "metadata": {
    "collapsed": false
   },
   "outputs": [
    {
     "data": {
      "text/plain": [
       "<matplotlib.text.Text at 0x115ed4ad0>"
      ]
     },
     "execution_count": 17,
     "metadata": {},
     "output_type": "execute_result"
    },
    {
     "data": {
      "image/png": "[encoded data removed]",
      "text/plain": [
       "<matplotlib.figure.Figure at 0x112a55d90>"
      ]
     },
     "metadata": {},
     "output_type": "display_data"
    }
   ],
   "source": [
    "import matplotlib.pyplot as plt\n",
    "%matplotlib inline\n",
    "plt.style.use('halverson')\n",
    "\n",
    "plt.plot(df.Pos, df.Speed)\n",
    "plt.xlabel('Position')\n",
    "plt.ylabel('Speed')"
   ]
  },
  {
   "cell_type": "code",
   "execution_count": 18,
   "metadata": {
    "collapsed": false
   },
   "outputs": [
    {
     "data": {
      "text/html": [
       "<div>\n",
       "<table border=\"1\" class=\"dataframe\">\n",
       "  <thead>\n",
       "    <tr style=\"text-align: right;\">\n",
       "      <th></th>\n",
       "      <th>Pos</th>\n",
       "      <th>Length</th>\n",
       "      <th>SpeedLength</th>\n",
       "    </tr>\n",
       "  </thead>\n",
       "  <tbody>\n",
       "    <tr>\n",
       "      <th>0</th>\n",
       "      <td>1</td>\n",
       "      <td>13</td>\n",
       "      <td>13.242692</td>\n",
       "    </tr>\n",
       "    <tr>\n",
       "      <th>1</th>\n",
       "      <td>2</td>\n",
       "      <td>14</td>\n",
       "      <td>11.683500</td>\n",
       "    </tr>\n",
       "    <tr>\n",
       "      <th>2</th>\n",
       "      <td>3</td>\n",
       "      <td>17</td>\n",
       "      <td>9.614235</td>\n",
       "    </tr>\n",
       "    <tr>\n",
       "      <th>3</th>\n",
       "      <td>4</td>\n",
       "      <td>11</td>\n",
       "      <td>14.853818</td>\n",
       "    </tr>\n",
       "    <tr>\n",
       "      <th>4</th>\n",
       "      <td>5</td>\n",
       "      <td>12</td>\n",
       "      <td>13.613833</td>\n",
       "    </tr>\n",
       "  </tbody>\n",
       "</table>\n",
       "</div>"
      ],
      "text/plain": [
       "   Pos  Length  SpeedLength\n",
       "0    1      13    13.242692\n",
       "1    2      14    11.683500\n",
       "2    3      17     9.614235\n",
       "3    4      11    14.853818\n",
       "4    5      12    13.613833"
      ]
     },
     "execution_count": 18,
     "metadata": {},
     "output_type": "execute_result"
    }
   ],
   "source": [
    "cf = df[['Pos', 'Length', 'SpeedLength']]\n",
    "cf.head()"
   ]
  },
  {
   "cell_type": "code",
   "execution_count": 19,
   "metadata": {
    "collapsed": false
   },
   "outputs": [
    {
     "data": {
      "text/plain": [
       "<matplotlib.text.Text at 0x115fc5b90>"
      ]
     },
     "execution_count": 19,
     "metadata": {},
     "output_type": "execute_result"
    },
    {
     "data": {
      "image/png": "[encoded data removed]",
      "text/plain": [
       "<matplotlib.figure.Figure at 0x115f7ad10>"
      ]
     },
     "metadata": {},
     "output_type": "display_data"
    }
   ],
   "source": [
    "plt.scatter(cf.Length, cf.SpeedLength)\n",
    "plt.xlabel('Length')\n",
    "plt.ylabel('Speed-to-Length Ratio')"
   ]
  },
  {
   "cell_type": "code",
   "execution_count": 20,
   "metadata": {
    "collapsed": false
   },
   "outputs": [
    {
     "data": {
      "text/html": [
       "<div>\n",
       "<table border=\"1\" class=\"dataframe\">\n",
       "  <thead>\n",
       "    <tr style=\"text-align: right;\">\n",
       "      <th></th>\n",
       "      <th>Pos</th>\n",
       "      <th>Length</th>\n",
       "      <th>SpeedLength</th>\n",
       "    </tr>\n",
       "  </thead>\n",
       "  <tbody>\n",
       "    <tr>\n",
       "      <th>Pos</th>\n",
       "      <td>1.000000</td>\n",
       "      <td>-0.041135</td>\n",
       "      <td>-0.440014</td>\n",
       "    </tr>\n",
       "    <tr>\n",
       "      <th>Length</th>\n",
       "      <td>-0.041135</td>\n",
       "      <td>1.000000</td>\n",
       "      <td>-0.785767</td>\n",
       "    </tr>\n",
       "    <tr>\n",
       "      <th>SpeedLength</th>\n",
       "      <td>-0.440014</td>\n",
       "      <td>-0.785767</td>\n",
       "      <td>1.000000</td>\n",
       "    </tr>\n",
       "  </tbody>\n",
       "</table>\n",
       "</div>"
      ],
      "text/plain": [
       "                  Pos    Length  SpeedLength\n",
       "Pos          1.000000 -0.041135    -0.440014\n",
       "Length      -0.041135  1.000000    -0.785767\n",
       "SpeedLength -0.440014 -0.785767     1.000000"
      ]
     },
     "execution_count": 20,
     "metadata": {},
     "output_type": "execute_result"
    }
   ],
   "source": [
    "cf.corr()"
   ]
  },
  {
   "cell_type": "code",
   "execution_count": 21,
   "metadata": {
    "collapsed": false
   },
   "outputs": [],
   "source": [
    "def add_knn_feature(f):\n",
    "\n",
    "     xf = f.copy()\n",
    "     from sklearn.preprocessing import StandardScaler\n",
    "\n",
    "     stdsc = StandardScaler()\n",
    "     x = stdsc.fit_transform(xf[['Length', 'SpeedLength']])\n",
    "     mf = pd.concat([xf.Pos, pd.DataFrame(x)], axis=1, ignore_index=True)\n",
    "     mf.columns = xf.columns\n",
    "     \n",
    "     from sklearn.neighbors import KNeighborsClassifier\n",
    "\n",
    "     knn = KNeighborsClassifier(n_neighbors=5, weights='uniform', algorithm='auto', leaf_size=30, p=2, metric='minkowski')\n",
    "     knn = knn.fit(mf[['Length', 'SpeedLength']], mf.Pos)\n",
    "     pred = knn.predict(mf[['Length', 'SpeedLength']])\n",
    "     xf['Pred'] = pred\n",
    "     \n",
    "     return xf.copy()"
   ]
  },
  {
   "cell_type": "code",
   "execution_count": 23,
   "metadata": {
    "collapsed": false
   },
   "outputs": [
    {
     "data": {
      "text/html": [
       "<div>\n",
       "<table border=\"1\" class=\"dataframe\">\n",
       "  <thead>\n",
       "    <tr style=\"text-align: right;\">\n",
       "      <th></th>\n",
       "      <th>Pos</th>\n",
       "      <th>Length</th>\n",
       "      <th>SpeedLength</th>\n",
       "      <th>Pred</th>\n",
       "    </tr>\n",
       "  </thead>\n",
       "  <tbody>\n",
       "    <tr>\n",
       "      <th>0</th>\n",
       "      <td>1</td>\n",
       "      <td>13</td>\n",
       "      <td>13.242692</td>\n",
       "      <td>1</td>\n",
       "    </tr>\n",
       "    <tr>\n",
       "      <th>1</th>\n",
       "      <td>2</td>\n",
       "      <td>14</td>\n",
       "      <td>11.683500</td>\n",
       "      <td>2</td>\n",
       "    </tr>\n",
       "    <tr>\n",
       "      <th>2</th>\n",
       "      <td>3</td>\n",
       "      <td>17</td>\n",
       "      <td>9.614235</td>\n",
       "      <td>3</td>\n",
       "    </tr>\n",
       "    <tr>\n",
       "      <th>3</th>\n",
       "      <td>4</td>\n",
       "      <td>11</td>\n",
       "      <td>14.853818</td>\n",
       "      <td>4</td>\n",
       "    </tr>\n",
       "    <tr>\n",
       "      <th>4</th>\n",
       "      <td>5</td>\n",
       "      <td>12</td>\n",
       "      <td>13.613833</td>\n",
       "      <td>5</td>\n",
       "    </tr>\n",
       "  </tbody>\n",
       "</table>\n",
       "</div>"
      ],
      "text/plain": [
       "   Pos  Length  SpeedLength  Pred\n",
       "0    1      13    13.242692     1\n",
       "1    2      14    11.683500     2\n",
       "2    3      17     9.614235     3\n",
       "3    4      11    14.853818     4\n",
       "4    5      12    13.613833     5"
      ]
     },
     "execution_count": 23,
     "metadata": {},
     "output_type": "execute_result"
    }
   ],
   "source": [
    "z = add_knn_feature(cf)\n",
    "z.head()"
   ]
  },
  {
   "cell_type": "markdown",
   "metadata": {},
   "source": [
    "This demonstrates how to add a feature to a data frame."
   ]
  },
  {
   "cell_type": "markdown",
   "metadata": {},
   "source": [
    "### Trees"
   ]
  },
  {
   "cell_type": "markdown",
   "metadata": {
    "collapsed": true
   },
   "source": [
    "CART is classification and regression trees by Brieman and Friedman. Trees and their descendants, bagging with RF and boosting, and the most powerful and popular ML models for classification and regression. Pruning is a form of regularization. For classification the split is made based on impurity or information gain. Common measures are Gini or entropy. Gini is p(1-p), where p is the misclassification error and entropy is sum -p log2 p. The p varies between zero and 1/2. How to decide on the number of trees for RF? Plot the OOB error versus number of trees and look for the plateau."
   ]
  },
  {
   "cell_type": "markdown",
   "metadata": {},
   "source": [
    "RF can work out the feature importances. One way to do this is to examine the information gain when each feature is used. Another method is to shuffle the values for a given predictor and see how badly the records are misclassified. The worse the error the more important the feature is."
   ]
  },
  {
   "cell_type": "markdown",
   "metadata": {},
   "source": [
    "### Boosting"
   ]
  },
  {
   "cell_type": "markdown",
   "metadata": {},
   "source": [
    "If bagging is a Honda Civic then boosting is a Porsche in the sense that it is more powerful but requires more care. Adaboost is the method I am most familiar with. It reweights the records depending on whether the previous tree got it correct or not. More weight is applied to the records that we misclassified. There is also gradient boosting and stochastic gradient boosting which are formulated using cost function. XGBoost is the most popular software and it comes from U. of Washington. I am not so familiar with all the parameters that need to set for boosting to be applied properly."
   ]
  }
 ],
 "metadata": {
  "anaconda-cloud": {},
  "kernelspec": {
   "display_name": "Python [conda root]",
   "language": "python",
   "name": "conda-root-py"
  },
  "language_info": {
   "codemirror_mode": {
    "name": "ipython",
    "version": 2
   },
   "file_extension": ".py",
   "mimetype": "text/x-python",
   "name": "python",
   "nbconvert_exporter": "python",
   "pygments_lexer": "ipython2",
   "version": "2.7.12"
  }
 },
 "nbformat": 4,
 "nbformat_minor": 1
}
